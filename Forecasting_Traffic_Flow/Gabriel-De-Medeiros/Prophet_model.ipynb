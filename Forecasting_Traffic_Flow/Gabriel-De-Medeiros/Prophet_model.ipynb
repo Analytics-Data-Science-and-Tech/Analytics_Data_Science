{
 "cells": [
  {
   "cell_type": "code",
   "execution_count": null,
   "id": "5b16a0be-32b1-4fe8-ad09-a26fe076d170",
   "metadata": {},
   "outputs": [],
   "source": [
    "pip install prophet"
   ]
  },
  {
   "cell_type": "code",
   "execution_count": null,
   "id": "abab4df4-1550-4cd8-8b1e-dfbc899ae981",
   "metadata": {},
   "outputs": [],
   "source": [
    "import pandas as pd\n",
    "import numpy as np\n",
    "\n",
    "from prophet import Prophet\n",
    "\n",
    "\n",
    "congestion = pd.read_csv('/Users/gabrielmedeiros/Desktop/Data_Science_Competitions/Comp1/train.csv')\n",
    "test_data = pd.read_csv('/Users/gabrielmedeiros/Desktop/Data_Science_Competitions/Comp1/test.csv')\n",
    "\n",
    "congestion.head()"
   ]
  },
  {
   "cell_type": "code",
   "execution_count": null,
   "id": "ab71c449-1dd0-4a8d-bf8b-2d428eef8be3",
   "metadata": {},
   "outputs": [],
   "source": [
    "test_data.shape"
   ]
  },
  {
   "cell_type": "code",
   "execution_count": null,
   "id": "8cb91b10-df75-449a-ac8b-52971ae4a5de",
   "metadata": {},
   "outputs": [],
   "source": [
    "test_data.tail(10)"
   ]
  },
  {
   "cell_type": "code",
   "execution_count": null,
   "id": "2a58a1d2-34c0-4f12-9dde-f29fbf814e1b",
   "metadata": {},
   "outputs": [],
   "source": [
    "congestion.tail(10)"
   ]
  },
  {
   "cell_type": "code",
   "execution_count": null,
   "id": "1427708d-6959-4c28-a780-41b73e38f245",
   "metadata": {},
   "outputs": [],
   "source": [
    "# congestion['time'] = pd.to_datetime(congestion['time'])\n",
    "\n",
    "# congestion['month_name'] = congestion['time'].dt.month_name()\n",
    "\n",
    "# congestion['month'] = congestion['time'].dt.month\n",
    "\n",
    "# congestion['day_name'] = congestion['time'].dt.day_name()\n",
    "\n",
    "# congestion['day'] = congestion['time'].dt.day\n",
    "\n",
    "# congestion['hour'] = congestion['time'].dt.hour\n",
    "\n",
    "# congestion['minute'] = congestion['time'].dt.minute\n",
    "\n",
    "# congestion = congestion.drop(columns = ['time','row_id'])\n",
    "\n",
    "# congestion = pd.get_dummies(congestion, columns = ['month_name', 'day_name', 'direction'])\n",
    "\n",
    "# congestion.head()"
   ]
  },
  {
   "cell_type": "code",
   "execution_count": null,
   "id": "3152996e-382e-4cef-9180-623ac5520844",
   "metadata": {},
   "outputs": [],
   "source": [
    "df_for_prophet = pd.DataFrame(congestion.time, congestion.congestion).reset_index()\n",
    "df_for_prophet.columns = ['y', 'ds']\n",
    "df_for_prophet.tail()"
   ]
  },
  {
   "cell_type": "code",
   "execution_count": null,
   "id": "8faa2189-c7f3-49a1-8135-fcfce7a867c6",
   "metadata": {},
   "outputs": [],
   "source": [
    "df_for_prophet.shape[0]"
   ]
  },
  {
   "cell_type": "code",
   "execution_count": null,
   "id": "ac002ffc-285f-4e53-ab5b-9e458f5619a0",
   "metadata": {},
   "outputs": [],
   "source": [
    "validation = df_for_prophet.tail(424417)\n",
    "train = df_for_prophet.head(424418)"
   ]
  },
  {
   "cell_type": "code",
   "execution_count": null,
   "id": "5b84df0d-18b9-4698-a683-e65205887e03",
   "metadata": {},
   "outputs": [],
   "source": [
    "m = Prophet()\n",
    "m.fit(df_for_prophet)\n",
    "# future = m.make_future_dataframe(periods=2340, freq = '20min')\n",
    "# future.tail()\n",
    "\n"
   ]
  },
  {
   "cell_type": "code",
   "execution_count": null,
   "id": "3c127527-f9de-4a53-b5d4-237fab0bdfd3",
   "metadata": {},
   "outputs": [],
   "source": [
    "future = pd.DataFrame(test_data.time)\n",
    "future.columns = ['ds']\n",
    "future.head()"
   ]
  },
  {
   "cell_type": "code",
   "execution_count": null,
   "id": "4f8f9084-2ced-47cc-b4dd-0a4a313c65ab",
   "metadata": {},
   "outputs": [],
   "source": [
    "forecast = m.predict(future)"
   ]
  },
  {
   "cell_type": "code",
   "execution_count": null,
   "id": "8c34c703-05ce-468b-8761-df25802671ca",
   "metadata": {},
   "outputs": [],
   "source": [
    "forecast.head()"
   ]
  },
  {
   "cell_type": "code",
   "execution_count": null,
   "id": "64a3ed24-c5ba-404b-bf18-12a97f9b7a8d",
   "metadata": {},
   "outputs": [],
   "source": [
    "import matplotlib.pyplot as plt\n",
    "\n",
    "plt.figure(figsize = (20,15))\n",
    "plt.plot(forecast.ds, forecast.yhat, color = 'blue')\n",
    "plt.plot(forecast.ds, forecast.yhat_upper, color = 'red')\n",
    "plt.plot(forecast.ds, forecast.yhat_lower, color = 'red')\n",
    "plt.title('Congestion Levels')\n",
    "plt.xlabel('Date')\n",
    "plt.ylabel('Congestion')\n",
    "plt.xticks(rotation = 45)\n",
    "plt.grid()\n",
    "plt.show()"
   ]
  },
  {
   "cell_type": "code",
   "execution_count": null,
   "id": "e243db1d-705f-4916-b0e6-7b4364219fdd",
   "metadata": {},
   "outputs": [],
   "source": [
    "m.plot_components(forecast)"
   ]
  },
  {
   "cell_type": "code",
   "execution_count": null,
   "id": "15586204-469b-4880-a116-4f9194f2353a",
   "metadata": {},
   "outputs": [],
   "source": [
    "from prophet.plot import add_changepoints_to_plot\n",
    "fig = m.plot(forecast)\n",
    "a = add_changepoints_to_plot(fig.gca(), m, forecast)\n"
   ]
  },
  {
   "cell_type": "markdown",
   "id": "d06c934a-1898-484e-a9d1-a830d5e40c8e",
   "metadata": {},
   "source": [
    "## Saving a prophet model and loading using json"
   ]
  },
  {
   "cell_type": "code",
   "execution_count": null,
   "id": "b544a3a3-d257-4a48-830d-5e13493d7be9",
   "metadata": {},
   "outputs": [],
   "source": [
    "\n",
    "# import json\n",
    "# from prophet.serialize import model_to_json, model_from_json\n",
    "\n",
    "# with open('serialized_model.json', 'w') as fout:\n",
    "#     json.dump(model_to_json(m), fout)  # Save model\n",
    "\n",
    "# with open('serialized_model.json', 'r') as fin:\n",
    "#     m = model_from_json(json.load(fin))  # Load model"
   ]
  },
  {
   "cell_type": "markdown",
   "id": "4371bc7a-8b4d-44d8-86b5-88cc3f5a7029",
   "metadata": {},
   "source": [
    "## Hyperparameter tuning"
   ]
  },
  {
   "cell_type": "code",
   "execution_count": null,
   "id": "100e1de1-f158-46e8-a15f-9de92814edbf",
   "metadata": {},
   "outputs": [],
   "source": [
    "import itertools\n",
    "import numpy as np\n",
    "import pandas as pd\n",
    "\n",
    "param_grid = {  \n",
    "    'changepoint_prior_scale': [0.001, 0.01, 0.1, 0.5],\n",
    "    'seasonality_prior_scale': [0.01, 0.1, 1.0, 10.0],\n",
    "}\n",
    "\n",
    "# Generate all combinations of parameters\n",
    "all_params = [dict(zip(param_grid.keys(), v)) for v in itertools.product(*param_grid.values())]\n",
    "rmses = []  # Store the RMSEs for each params here\n",
    "from tqdm import tqdm\n",
    "# Use cross validation to evaluate all parameters\n",
    "for params in tqdm(all_params):\n",
    "    m = Prophet(**params).fit(validation)  # Fit model with given params\n",
    "    df_cv = cross_validation(m, cutoffs=cutoffs, horizon='24 hours', parallel=\"processes\")\n",
    "    df_p = performance_metrics(df_cv, rolling_window=1)\n",
    "    rmses.append(df_p['rmse'].values[0])\n",
    "\n",
    "# Find the best parameters\n",
    "tuning_results = pd.DataFrame(all_params)\n",
    "tuning_results['rmse'] = rmses\n",
    "print(tuning_results)"
   ]
  },
  {
   "cell_type": "code",
   "execution_count": null,
   "id": "cb5f233c-644f-4485-a8fd-9baa0cc5adaa",
   "metadata": {},
   "outputs": [],
   "source": [
    "best_params = all_params[np.argmin(rmses)]\n",
    "print(best_params)"
   ]
  },
  {
   "cell_type": "code",
   "execution_count": null,
   "id": "8c787ddf-98c0-4e8d-8652-55b87e849046",
   "metadata": {},
   "outputs": [],
   "source": []
  }
 ],
 "metadata": {
  "kernelspec": {
   "display_name": "Python 3",
   "language": "python",
   "name": "python3"
  },
  "language_info": {
   "codemirror_mode": {
    "name": "ipython",
    "version": 3
   },
   "file_extension": ".py",
   "mimetype": "text/x-python",
   "name": "python",
   "nbconvert_exporter": "python",
   "pygments_lexer": "ipython3",
   "version": "3.8.8"
  }
 },
 "nbformat": 4,
 "nbformat_minor": 5
}
