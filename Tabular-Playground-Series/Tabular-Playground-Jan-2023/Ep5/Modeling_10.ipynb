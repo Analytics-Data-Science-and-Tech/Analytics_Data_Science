{
 "cells": [
  {
   "cell_type": "code",
   "execution_count": 1,
   "id": "7c9af369",
   "metadata": {},
   "outputs": [
    {
     "name": "stdout",
     "output_type": "stream",
     "text": [
      "Looking in indexes: https://pypi.org/simple, https://pip.repos.neuron.amazonaws.com\n",
      "Collecting xgboost\n",
      "  Downloading xgboost-1.7.3-py3-none-manylinux2014_x86_64.whl (193.6 MB)\n",
      "\u001b[2K     \u001b[90m━━━━━━━━━━━━━━━━━━━━━━━━━━━━━━━━━━━━━━━\u001b[0m \u001b[32m193.6/193.6 MB\u001b[0m \u001b[31m3.3 MB/s\u001b[0m eta \u001b[36m0:00:00\u001b[0m00:01\u001b[0m00:01\u001b[0m\n",
      "\u001b[?25hCollecting optuna\n",
      "  Downloading optuna-3.1.0-py3-none-any.whl (365 kB)\n",
      "\u001b[2K     \u001b[90m━━━━━━━━━━━━━━━━━━━━━━━━━━━━━━━━━━━━━━━\u001b[0m \u001b[32m365.3/365.3 kB\u001b[0m \u001b[31m5.6 MB/s\u001b[0m eta \u001b[36m0:00:00\u001b[0m00:01\u001b[0m\n",
      "\u001b[?25hRequirement already satisfied: scipy in /home/ec2-user/anaconda3/envs/python3/lib/python3.10/site-packages (from xgboost) (1.9.3)\n",
      "Requirement already satisfied: numpy in /home/ec2-user/anaconda3/envs/python3/lib/python3.10/site-packages (from xgboost) (1.22.4)\n",
      "Requirement already satisfied: tqdm in /home/ec2-user/anaconda3/envs/python3/lib/python3.10/site-packages (from optuna) (4.64.1)\n",
      "Requirement already satisfied: sqlalchemy>=1.3.0 in /home/ec2-user/anaconda3/envs/python3/lib/python3.10/site-packages (from optuna) (1.4.42)\n",
      "Collecting cmaes>=0.9.1\n",
      "  Downloading cmaes-0.9.1-py3-none-any.whl (21 kB)\n",
      "Requirement already satisfied: PyYAML in /home/ec2-user/anaconda3/envs/python3/lib/python3.10/site-packages (from optuna) (5.4.1)\n",
      "Collecting colorlog\n",
      "  Downloading colorlog-6.7.0-py2.py3-none-any.whl (11 kB)\n",
      "Collecting alembic>=1.5.0\n",
      "  Downloading alembic-1.9.3-py3-none-any.whl (210 kB)\n",
      "\u001b[2K     \u001b[90m━━━━━━━━━━━━━━━━━━━━━━━━━━━━━━━━━━━━━━\u001b[0m \u001b[32m210.6/210.6 kB\u001b[0m \u001b[31m38.3 MB/s\u001b[0m eta \u001b[36m0:00:00\u001b[0m\n",
      "\u001b[?25hRequirement already satisfied: packaging>=20.0 in /home/ec2-user/anaconda3/envs/python3/lib/python3.10/site-packages (from optuna) (21.3)\n",
      "Collecting Mako\n",
      "  Downloading Mako-1.2.4-py3-none-any.whl (78 kB)\n",
      "\u001b[2K     \u001b[90m━━━━━━━━━━━━━━━━━━━━━━━━━━━━━━━━━━━━━━━━\u001b[0m \u001b[32m78.7/78.7 kB\u001b[0m \u001b[31m13.7 MB/s\u001b[0m eta \u001b[36m0:00:00\u001b[0m\n",
      "\u001b[?25hRequirement already satisfied: pyparsing!=3.0.5,>=2.0.2 in /home/ec2-user/anaconda3/envs/python3/lib/python3.10/site-packages (from packaging>=20.0->optuna) (3.0.9)\n",
      "Requirement already satisfied: greenlet!=0.4.17 in /home/ec2-user/anaconda3/envs/python3/lib/python3.10/site-packages (from sqlalchemy>=1.3.0->optuna) (1.1.3.post0)\n",
      "Requirement already satisfied: MarkupSafe>=0.9.2 in /home/ec2-user/anaconda3/envs/python3/lib/python3.10/site-packages (from Mako->alembic>=1.5.0->optuna) (2.1.1)\n",
      "Installing collected packages: Mako, colorlog, cmaes, xgboost, alembic, optuna\n",
      "Successfully installed Mako-1.2.4 alembic-1.9.3 cmaes-0.9.1 colorlog-6.7.0 optuna-3.1.0 xgboost-1.7.3\n",
      "Note: you may need to restart the kernel to use updated packages.\n"
     ]
    }
   ],
   "source": [
    "pip install xgboost optuna"
   ]
  },
  {
   "cell_type": "code",
   "execution_count": 18,
   "id": "2209beec",
   "metadata": {},
   "outputs": [],
   "source": [
    "import boto3\n",
    "import pandas as pd; pd.set_option('display.max_columns', 100)\n",
    "import numpy as np\n",
    "\n",
    "import matplotlib.pyplot as plt; plt.style.use('ggplot')\n",
    "import seaborn as sns\n",
    "\n",
    "from scipy.stats import rankdata\n",
    "from sklearn.cluster import KMeans\n",
    "from sklearn.multiclass import OneVsRestClassifier\n",
    "from sklearn.tree import DecisionTreeRegressor, DecisionTreeClassifier, plot_tree\n",
    "from sklearn.preprocessing import MinMaxScaler\n",
    "from sklearn.model_selection import KFold, train_test_split, GridSearchCV, StratifiedKFold, TimeSeriesSplit\n",
    "from sklearn.metrics import mean_squared_error, roc_auc_score, cohen_kappa_score, davies_bouldin_score, calinski_harabasz_score, silhouette_score\n",
    "from sklearn.neighbors import KNeighborsClassifier\n",
    "from sklearn.ensemble import RandomForestClassifier, HistGradientBoostingClassifier\n",
    "from sklearn.linear_model import LogisticRegression, LinearRegression\n",
    "from sklearn.svm import SVR\n",
    "# from lightgbm import LGBMClassifier, LGBMRegressor\n",
    "from xgboost import XGBClassifier, XGBRegressor\n",
    "# from catboost import CatBoostClassifier\n",
    "\n",
    "import optuna \n",
    "\n",
    "s3 = boto3.resource('s3')\n",
    "bucket_name = 'analytics-data-science-competitions'\n",
    "bucket = s3.Bucket(bucket_name)\n",
    "\n",
    "file_key_1 = 'Tabular-Playground-Series/TS-S3-Ep5/train.csv'\n",
    "file_key_2 = 'Tabular-Playground-Series/TS-S3-Ep5/test.csv'\n",
    "file_key_3 = 'Tabular-Playground-Series/TS-S3-Ep5/sample_submission.csv'\n",
    "\n",
    "bucket_object_1 = bucket.Object(file_key_1)\n",
    "file_object_1 = bucket_object_1.get()\n",
    "file_content_stream_1 = file_object_1.get('Body')\n",
    "\n",
    "bucket_object_2 = bucket.Object(file_key_2)\n",
    "file_object_2 = bucket_object_2.get()\n",
    "file_content_stream_2 = file_object_2.get('Body')\n",
    "\n",
    "bucket_object_3 = bucket.Object(file_key_3)\n",
    "file_object_3 = bucket_object_3.get()\n",
    "file_content_stream_3 = file_object_3.get('Body')\n",
    "\n",
    "## Reading data files\n",
    "train = pd.read_csv(file_content_stream_1)\n",
    "test = pd.read_csv(file_content_stream_2)\n",
    "submission = pd.read_csv(file_content_stream_3)\n",
    "\n",
    "## Enginering features\n",
    "train['alcohol_density'] = train['alcohol'] * train['density']\n",
    "train['sulphate/density'] = train['sulphates']  / train['density']\n",
    "train['alcohol_sulphate'] = train['alcohol'] * train['sulphates']\n",
    "\n",
    "test['alcohol_density'] = test['alcohol']  * test['density']\n",
    "test['sulphate/density'] = test['sulphates']  / test['density']\n",
    "test['alcohol_sulphate'] = test['alcohol'] * test['sulphates']\n",
    "\n",
    "test_md = test.copy()\n",
    "\n",
    "X = train[['sulphate/density', 'alcohol_density', 'alcohol', 'sulphates', 'fixed acidity']]\n",
    "Y = train['quality'] \n",
    "\n",
    "test_md = test_md[['sulphate/density', 'alcohol_density', 'alcohol', 'sulphates', 'fixed acidity']]"
   ]
  },
  {
   "cell_type": "code",
   "execution_count": 6,
   "id": "2d738577",
   "metadata": {},
   "outputs": [
    {
     "data": {
      "text/html": [
       "<div>\n",
       "<style scoped>\n",
       "    .dataframe tbody tr th:only-of-type {\n",
       "        vertical-align: middle;\n",
       "    }\n",
       "\n",
       "    .dataframe tbody tr th {\n",
       "        vertical-align: top;\n",
       "    }\n",
       "\n",
       "    .dataframe thead th {\n",
       "        text-align: right;\n",
       "    }\n",
       "</style>\n",
       "<table border=\"1\" class=\"dataframe\">\n",
       "  <thead>\n",
       "    <tr style=\"text-align: right;\">\n",
       "      <th></th>\n",
       "      <th>Id</th>\n",
       "      <th>fixed acidity</th>\n",
       "      <th>volatile acidity</th>\n",
       "      <th>citric acid</th>\n",
       "      <th>residual sugar</th>\n",
       "      <th>chlorides</th>\n",
       "      <th>free sulfur dioxide</th>\n",
       "      <th>total sulfur dioxide</th>\n",
       "      <th>density</th>\n",
       "      <th>pH</th>\n",
       "      <th>sulphates</th>\n",
       "      <th>alcohol</th>\n",
       "      <th>quality</th>\n",
       "      <th>alcohol_density</th>\n",
       "      <th>sulphate/density</th>\n",
       "      <th>alcohol_sulphate</th>\n",
       "    </tr>\n",
       "  </thead>\n",
       "  <tbody>\n",
       "    <tr>\n",
       "      <th>0</th>\n",
       "      <td>0</td>\n",
       "      <td>8.0</td>\n",
       "      <td>0.50</td>\n",
       "      <td>0.39</td>\n",
       "      <td>2.2</td>\n",
       "      <td>0.073</td>\n",
       "      <td>30.0</td>\n",
       "      <td>39.0</td>\n",
       "      <td>0.99572</td>\n",
       "      <td>3.33</td>\n",
       "      <td>0.77</td>\n",
       "      <td>12.1</td>\n",
       "      <td>6</td>\n",
       "      <td>12.048212</td>\n",
       "      <td>0.773310</td>\n",
       "      <td>9.317</td>\n",
       "    </tr>\n",
       "    <tr>\n",
       "      <th>1</th>\n",
       "      <td>1</td>\n",
       "      <td>9.3</td>\n",
       "      <td>0.30</td>\n",
       "      <td>0.73</td>\n",
       "      <td>2.3</td>\n",
       "      <td>0.092</td>\n",
       "      <td>30.0</td>\n",
       "      <td>67.0</td>\n",
       "      <td>0.99854</td>\n",
       "      <td>3.32</td>\n",
       "      <td>0.67</td>\n",
       "      <td>12.8</td>\n",
       "      <td>6</td>\n",
       "      <td>12.781312</td>\n",
       "      <td>0.670980</td>\n",
       "      <td>8.576</td>\n",
       "    </tr>\n",
       "    <tr>\n",
       "      <th>2</th>\n",
       "      <td>2</td>\n",
       "      <td>7.1</td>\n",
       "      <td>0.51</td>\n",
       "      <td>0.03</td>\n",
       "      <td>2.1</td>\n",
       "      <td>0.059</td>\n",
       "      <td>3.0</td>\n",
       "      <td>12.0</td>\n",
       "      <td>0.99660</td>\n",
       "      <td>3.52</td>\n",
       "      <td>0.73</td>\n",
       "      <td>11.3</td>\n",
       "      <td>7</td>\n",
       "      <td>11.261580</td>\n",
       "      <td>0.732490</td>\n",
       "      <td>8.249</td>\n",
       "    </tr>\n",
       "    <tr>\n",
       "      <th>3</th>\n",
       "      <td>3</td>\n",
       "      <td>8.1</td>\n",
       "      <td>0.87</td>\n",
       "      <td>0.22</td>\n",
       "      <td>2.6</td>\n",
       "      <td>0.084</td>\n",
       "      <td>11.0</td>\n",
       "      <td>65.0</td>\n",
       "      <td>0.99730</td>\n",
       "      <td>3.20</td>\n",
       "      <td>0.53</td>\n",
       "      <td>9.8</td>\n",
       "      <td>5</td>\n",
       "      <td>9.773540</td>\n",
       "      <td>0.531435</td>\n",
       "      <td>5.194</td>\n",
       "    </tr>\n",
       "    <tr>\n",
       "      <th>4</th>\n",
       "      <td>4</td>\n",
       "      <td>8.5</td>\n",
       "      <td>0.36</td>\n",
       "      <td>0.30</td>\n",
       "      <td>2.3</td>\n",
       "      <td>0.079</td>\n",
       "      <td>10.0</td>\n",
       "      <td>45.0</td>\n",
       "      <td>0.99444</td>\n",
       "      <td>3.20</td>\n",
       "      <td>1.36</td>\n",
       "      <td>9.5</td>\n",
       "      <td>6</td>\n",
       "      <td>9.447180</td>\n",
       "      <td>1.367604</td>\n",
       "      <td>12.920</td>\n",
       "    </tr>\n",
       "  </tbody>\n",
       "</table>\n",
       "</div>"
      ],
      "text/plain": [
       "   Id  fixed acidity  volatile acidity  citric acid  residual sugar  \\\n",
       "0   0            8.0              0.50         0.39             2.2   \n",
       "1   1            9.3              0.30         0.73             2.3   \n",
       "2   2            7.1              0.51         0.03             2.1   \n",
       "3   3            8.1              0.87         0.22             2.6   \n",
       "4   4            8.5              0.36         0.30             2.3   \n",
       "\n",
       "   chlorides  free sulfur dioxide  total sulfur dioxide  density    pH  \\\n",
       "0      0.073                 30.0                  39.0  0.99572  3.33   \n",
       "1      0.092                 30.0                  67.0  0.99854  3.32   \n",
       "2      0.059                  3.0                  12.0  0.99660  3.52   \n",
       "3      0.084                 11.0                  65.0  0.99730  3.20   \n",
       "4      0.079                 10.0                  45.0  0.99444  3.20   \n",
       "\n",
       "   sulphates  alcohol  quality  alcohol_density  sulphate/density  \\\n",
       "0       0.77     12.1        6        12.048212          0.773310   \n",
       "1       0.67     12.8        6        12.781312          0.670980   \n",
       "2       0.73     11.3        7        11.261580          0.732490   \n",
       "3       0.53      9.8        5         9.773540          0.531435   \n",
       "4       1.36      9.5        6         9.447180          1.367604   \n",
       "\n",
       "   alcohol_sulphate  \n",
       "0             9.317  \n",
       "1             8.576  \n",
       "2             8.249  \n",
       "3             5.194  \n",
       "4            12.920  "
      ]
     },
     "execution_count": 6,
     "metadata": {},
     "output_type": "execute_result"
    }
   ],
   "source": [
    "train.head()"
   ]
  },
  {
   "cell_type": "markdown",
   "id": "1cec32b9",
   "metadata": {},
   "source": [
    "# Optimal Rounder"
   ]
  },
  {
   "cell_type": "code",
   "execution_count": 19,
   "id": "2646daae",
   "metadata": {},
   "outputs": [],
   "source": [
    "from functools import partial\n",
    "import numpy as np\n",
    "import scipy as sp\n",
    "\n",
    "class OptimizedRounder(object):\n",
    "    def __init__(self):\n",
    "        self.coef_ = 0\n",
    "\n",
    "    def _kappa_loss(self, coef, X, y):\n",
    "        X_p = np.copy(X)\n",
    "        for i, pred in enumerate(X_p):\n",
    "            if pred < coef[0]:\n",
    "                X_p[i] = 3\n",
    "            elif pred >= coef[0] and pred < coef[1]:\n",
    "                X_p[i] = 4\n",
    "            elif pred >= coef[1] and pred < coef[2]:\n",
    "                X_p[i] = 5\n",
    "            elif pred >= coef[2] and pred < coef[3]:\n",
    "                X_p[i] = 6\n",
    "            elif pred >= coef[3] and pred < coef[4]:\n",
    "                X_p[i] = 7\n",
    "            else:\n",
    "                X_p[i] = 8\n",
    "\n",
    "        ll = cohen_kappa_score(y, X_p, weights = 'quadratic')\n",
    "        return -ll\n",
    "\n",
    "    def fit(self, X, y):\n",
    "        loss_partial = partial(self._kappa_loss, X = X, y = y)\n",
    "        initial_coef = [3.5, 4.5, 5.5, 6.5, 7.5]\n",
    "        self.coef_ = sp.optimize.minimize(loss_partial, initial_coef, method = 'nelder-mead')\n",
    "\n",
    "    def predict(self, X, coef):\n",
    "        X_p = np.copy(X)\n",
    "        for i, pred in enumerate(X_p):\n",
    "            if pred < coef[0]:\n",
    "                X_p[i] = 3\n",
    "            elif pred >= coef[0] and pred < coef[1]:\n",
    "                X_p[i] = 4\n",
    "            elif pred >= coef[1] and pred < coef[2]:\n",
    "                X_p[i] = 5\n",
    "            elif pred >= coef[2] and pred < coef[3]:\n",
    "                X_p[i] = 6\n",
    "            elif pred >= coef[3] and pred < coef[4]:\n",
    "                X_p[i] = 7\n",
    "            else:\n",
    "                X_p[i] = 8\n",
    "        return X_p\n",
    "\n",
    "    def coefficients(self):\n",
    "        return self.coef_['x']"
   ]
  },
  {
   "cell_type": "markdown",
   "id": "2a9b6521",
   "metadata": {},
   "source": [
    "# Optuna Optimization"
   ]
  },
  {
   "cell_type": "code",
   "execution_count": 20,
   "id": "3f5e4672",
   "metadata": {},
   "outputs": [],
   "source": [
    "def objective(trial):\n",
    "    \n",
    "    ## Parameters to be evaluated\n",
    "    param = dict(objective = 'reg:absoluteerror',\n",
    "                 eval_metric = 'mae',\n",
    "                 tree_method = 'hist', \n",
    "                 random_state = 42,\n",
    "                 max_depth = trial.suggest_int('max_depth', 2, 10),\n",
    "                 learning_rate = trial.suggest_float('learning_rate', 1e-4, 1e-1, log = True),\n",
    "                 n_estimators = trial.suggest_int('n_estimators', 30, 10000),\n",
    "                 gamma = trial.suggest_float('gamma', 0, 10),\n",
    "                 min_child_weight = trial.suggest_int('min_child_weight', 1, 100),\n",
    "                 colsample_bytree = trial.suggest_float('colsample_bytree', 0.2, 0.9),\n",
    "                 subsample = trial.suggest_float('subsample', 0.2, 0.9)\n",
    "                )\n",
    "\n",
    "    scores = []\n",
    "\n",
    "#     skf = StratifiedKFold(n_splits = 5, shuffle = True, random_state = 42)\n",
    "    skf = KFold(n_splits = 5, shuffle = True, random_state = 42)\n",
    "    \n",
    "    for fold, (train_idx, valid_idx) in enumerate(skf.split(X, Y)):\n",
    "        \n",
    "        print(fold, end = ' ')\n",
    "        X_train, X_valid = X.iloc[train_idx], X.iloc[valid_idx]\n",
    "        y_train , y_valid = Y.iloc[train_idx] , Y.iloc[valid_idx]\n",
    "\n",
    "        model = XGBRegressor(**param)\n",
    "        model.fit(X_train, y_train)\n",
    "        \n",
    "        preds_train = model.predict(X_train)\n",
    "        preds_valid = model.predict(X_valid)\n",
    "        \n",
    "        optR = OptimizedRounder()\n",
    "        optR.fit(preds_train, y_train)\n",
    "        coef = optR.coefficients()\n",
    "        preds_valid = optR.predict(preds_valid, coef).astype(int)\n",
    "        \n",
    "        score = cohen_kappa_score(y_valid,  preds_valid, weights = \"quadratic\")\n",
    "        scores.append(score)\n",
    "        \n",
    "    return np.mean(scores)"
   ]
  },
  {
   "cell_type": "code",
   "execution_count": 21,
   "id": "b6260dfe",
   "metadata": {},
   "outputs": [
    {
     "name": "stderr",
     "output_type": "stream",
     "text": [
      "\u001b[32m[I 2023-02-10 17:35:00,906]\u001b[0m A new study created in memory with name: no-name-92a19a35-75ff-4c08-a444-df0e4d7a1eb7\u001b[0m\n"
     ]
    },
    {
     "name": "stdout",
     "output_type": "stream",
     "text": [
      "0 1 2 3 4 "
     ]
    },
    {
     "name": "stderr",
     "output_type": "stream",
     "text": [
      "\u001b[32m[I 2023-02-10 17:35:39,282]\u001b[0m Trial 0 finished with value: 0.4487440012036565 and parameters: {'max_depth': 6, 'learning_rate': 0.0006196627390628016, 'n_estimators': 9795, 'gamma': 3.421576218111657, 'min_child_weight': 73, 'colsample_bytree': 0.6227594735328145, 'subsample': 0.6649449248725402}. Best is trial 0 with value: 0.4487440012036565.\u001b[0m\n"
     ]
    },
    {
     "name": "stdout",
     "output_type": "stream",
     "text": [
      "0 1 2 3 4 "
     ]
    },
    {
     "name": "stderr",
     "output_type": "stream",
     "text": [
      "\u001b[32m[I 2023-02-10 17:36:01,517]\u001b[0m Trial 1 finished with value: 0.5079312801029252 and parameters: {'max_depth': 8, 'learning_rate': 0.054286016847213146, 'n_estimators': 2859, 'gamma': 5.448735079125254, 'min_child_weight': 3, 'colsample_bytree': 0.42151067493262906, 'subsample': 0.6591461919681403}. Best is trial 1 with value: 0.5079312801029252.\u001b[0m\n"
     ]
    },
    {
     "name": "stdout",
     "output_type": "stream",
     "text": [
      "0 1 2 3 4 "
     ]
    },
    {
     "name": "stderr",
     "output_type": "stream",
     "text": [
      "\u001b[32m[I 2023-02-10 17:36:36,589]\u001b[0m Trial 2 finished with value: 0.4558883378048796 and parameters: {'max_depth': 3, 'learning_rate': 0.00046200703450139345, 'n_estimators': 9034, 'gamma': 0.10812005120121038, 'min_child_weight': 94, 'colsample_bytree': 0.2788345578959932, 'subsample': 0.36008378673860864}. Best is trial 1 with value: 0.5079312801029252.\u001b[0m\n"
     ]
    },
    {
     "name": "stdout",
     "output_type": "stream",
     "text": [
      "0 1 2 3 4 "
     ]
    },
    {
     "name": "stderr",
     "output_type": "stream",
     "text": [
      "\u001b[32m[I 2023-02-10 17:37:05,224]\u001b[0m Trial 3 finished with value: 0.48623073090974744 and parameters: {'max_depth': 9, 'learning_rate': 0.052479542095278, 'n_estimators': 5720, 'gamma': 7.08250468916197, 'min_child_weight': 9, 'colsample_bytree': 0.4416092303021757, 'subsample': 0.5054570931352407}. Best is trial 1 with value: 0.5079312801029252.\u001b[0m\n"
     ]
    },
    {
     "name": "stdout",
     "output_type": "stream",
     "text": [
      "0 1 2 3 4 "
     ]
    },
    {
     "name": "stderr",
     "output_type": "stream",
     "text": [
      "\u001b[32m[I 2023-02-10 17:37:29,487]\u001b[0m Trial 4 finished with value: 0.5027937545501808 and parameters: {'max_depth': 3, 'learning_rate': 0.00014736015030317618, 'n_estimators': 3559, 'gamma': 4.1453920758725005, 'min_child_weight': 97, 'colsample_bytree': 0.3418181695814634, 'subsample': 0.3862545168876872}. Best is trial 1 with value: 0.5079312801029252.\u001b[0m\n"
     ]
    },
    {
     "name": "stdout",
     "output_type": "stream",
     "text": [
      "0 1 2 3 4 "
     ]
    },
    {
     "name": "stderr",
     "output_type": "stream",
     "text": [
      "\u001b[32m[I 2023-02-10 17:37:47,408]\u001b[0m Trial 5 finished with value: 0.5011835106213862 and parameters: {'max_depth': 6, 'learning_rate': 0.000546104666145703, 'n_estimators': 887, 'gamma': 8.841830604770045, 'min_child_weight': 8, 'colsample_bytree': 0.8538722097657399, 'subsample': 0.885162174177164}. Best is trial 1 with value: 0.5079312801029252.\u001b[0m\n"
     ]
    },
    {
     "name": "stdout",
     "output_type": "stream",
     "text": [
      "0 1 2 3 4 "
     ]
    },
    {
     "name": "stderr",
     "output_type": "stream",
     "text": [
      "\u001b[32m[I 2023-02-10 17:38:06,049]\u001b[0m Trial 6 finished with value: 0.4832147973059845 and parameters: {'max_depth': 7, 'learning_rate': 0.038300881939462475, 'n_estimators': 203, 'gamma': 3.8259930212246216, 'min_child_weight': 42, 'colsample_bytree': 0.7560893973500571, 'subsample': 0.47375447430665274}. Best is trial 1 with value: 0.5079312801029252.\u001b[0m\n"
     ]
    },
    {
     "name": "stdout",
     "output_type": "stream",
     "text": [
      "0 1 2 3 4 "
     ]
    },
    {
     "name": "stderr",
     "output_type": "stream",
     "text": [
      "\u001b[32m[I 2023-02-10 17:38:23,424]\u001b[0m Trial 7 finished with value: 0.5058406538019844 and parameters: {'max_depth': 4, 'learning_rate': 0.09769311218784431, 'n_estimators': 1006, 'gamma': 9.112233412472667, 'min_child_weight': 43, 'colsample_bytree': 0.23913353734888343, 'subsample': 0.3393693561863273}. Best is trial 1 with value: 0.5079312801029252.\u001b[0m\n"
     ]
    },
    {
     "name": "stdout",
     "output_type": "stream",
     "text": [
      "0 1 2 3 4 "
     ]
    },
    {
     "name": "stderr",
     "output_type": "stream",
     "text": [
      "\u001b[32m[I 2023-02-10 17:39:01,090]\u001b[0m Trial 8 finished with value: 0.279349315328402 and parameters: {'max_depth': 10, 'learning_rate': 0.0013593899357730215, 'n_estimators': 9293, 'gamma': 1.0947668205031047, 'min_child_weight': 67, 'colsample_bytree': 0.6898014915478234, 'subsample': 0.3814766148082753}. Best is trial 1 with value: 0.5079312801029252.\u001b[0m\n"
     ]
    },
    {
     "name": "stdout",
     "output_type": "stream",
     "text": [
      "0 1 2 3 4 "
     ]
    },
    {
     "name": "stderr",
     "output_type": "stream",
     "text": [
      "\u001b[32m[I 2023-02-10 17:39:36,064]\u001b[0m Trial 9 finished with value: 0.47194868520331645 and parameters: {'max_depth': 8, 'learning_rate': 0.004522561011806372, 'n_estimators': 8715, 'gamma': 5.058257345580818, 'min_child_weight': 67, 'colsample_bytree': 0.7301916346283785, 'subsample': 0.5728260648491057}. Best is trial 1 with value: 0.5079312801029252.\u001b[0m\n"
     ]
    },
    {
     "name": "stdout",
     "output_type": "stream",
     "text": [
      "0 1 2 3 4 "
     ]
    },
    {
     "name": "stderr",
     "output_type": "stream",
     "text": [
      "\u001b[32m[I 2023-02-10 17:40:01,111]\u001b[0m Trial 10 finished with value: 0.34861285926345925 and parameters: {'max_depth': 5, 'learning_rate': 0.013481422061732537, 'n_estimators': 3911, 'gamma': 6.468312056074709, 'min_child_weight': 26, 'colsample_bytree': 0.49206969468749145, 'subsample': 0.23190307664362175}. Best is trial 1 with value: 0.5079312801029252.\u001b[0m\n"
     ]
    },
    {
     "name": "stdout",
     "output_type": "stream",
     "text": [
      "0 1 2 3 4 "
     ]
    },
    {
     "name": "stderr",
     "output_type": "stream",
     "text": [
      "\u001b[32m[I 2023-02-10 17:40:19,993]\u001b[0m Trial 11 finished with value: 0.49769848545951445 and parameters: {'max_depth': 4, 'learning_rate': 0.09591777879334626, 'n_estimators': 1967, 'gamma': 9.930755815546023, 'min_child_weight': 34, 'colsample_bytree': 0.2026815683781672, 'subsample': 0.2158475988763452}. Best is trial 1 with value: 0.5079312801029252.\u001b[0m\n"
     ]
    },
    {
     "name": "stdout",
     "output_type": "stream",
     "text": [
      "0 1 2 3 4 "
     ]
    },
    {
     "name": "stderr",
     "output_type": "stream",
     "text": [
      "\u001b[32m[I 2023-02-10 17:40:49,680]\u001b[0m Trial 12 finished with value: 0.5140663804182353 and parameters: {'max_depth': 8, 'learning_rate': 0.01944717186171557, 'n_estimators': 2467, 'gamma': 7.825767488477583, 'min_child_weight': 22, 'colsample_bytree': 0.39754916454418665, 'subsample': 0.6685846541240262}. Best is trial 12 with value: 0.5140663804182353.\u001b[0m\n"
     ]
    },
    {
     "name": "stdout",
     "output_type": "stream",
     "text": [
      "0 1 2 3 4 "
     ]
    },
    {
     "name": "stderr",
     "output_type": "stream",
     "text": [
      "\u001b[32m[I 2023-02-10 17:41:21,144]\u001b[0m Trial 13 finished with value: 0.4932260395876519 and parameters: {'max_depth': 8, 'learning_rate': 0.015173722150889834, 'n_estimators': 6093, 'gamma': 7.315460413220139, 'min_child_weight': 20, 'colsample_bytree': 0.4117820734457864, 'subsample': 0.7027961270424703}. Best is trial 12 with value: 0.5140663804182353.\u001b[0m\n"
     ]
    },
    {
     "name": "stdout",
     "output_type": "stream",
     "text": [
      "0 1 2 3 4 "
     ]
    },
    {
     "name": "stderr",
     "output_type": "stream",
     "text": [
      "\u001b[32m[I 2023-02-10 17:41:48,285]\u001b[0m Trial 14 finished with value: 0.5012043022528315 and parameters: {'max_depth': 10, 'learning_rate': 0.023663157447962206, 'n_estimators': 2620, 'gamma': 5.914537770771932, 'min_child_weight': 1, 'colsample_bytree': 0.5286684388097712, 'subsample': 0.70139832921691}. Best is trial 12 with value: 0.5140663804182353.\u001b[0m\n"
     ]
    },
    {
     "name": "stdout",
     "output_type": "stream",
     "text": [
      "0 1 2 3 4 "
     ]
    },
    {
     "name": "stderr",
     "output_type": "stream",
     "text": [
      "\u001b[32m[I 2023-02-10 17:42:17,444]\u001b[0m Trial 15 finished with value: 0.5216532281116903 and parameters: {'max_depth': 8, 'learning_rate': 0.007957005214400851, 'n_estimators': 4520, 'gamma': 7.771603736483971, 'min_child_weight': 20, 'colsample_bytree': 0.36460787821672386, 'subsample': 0.7832051845947301}. Best is trial 15 with value: 0.5216532281116903.\u001b[0m\n"
     ]
    },
    {
     "name": "stdout",
     "output_type": "stream",
     "text": [
      "0 1 2 3 4 "
     ]
    },
    {
     "name": "stderr",
     "output_type": "stream",
     "text": [
      "\u001b[32m[I 2023-02-10 17:42:42,402]\u001b[0m Trial 16 finished with value: 0.49802817661999227 and parameters: {'max_depth': 7, 'learning_rate': 0.005513032357725903, 'n_estimators': 4787, 'gamma': 7.9652803516261015, 'min_child_weight': 17, 'colsample_bytree': 0.325456931032028, 'subsample': 0.8170696617016033}. Best is trial 15 with value: 0.5216532281116903.\u001b[0m\n"
     ]
    },
    {
     "name": "stdout",
     "output_type": "stream",
     "text": [
      "0 1 2 3 4 "
     ]
    },
    {
     "name": "stderr",
     "output_type": "stream",
     "text": [
      "\u001b[32m[I 2023-02-10 17:43:20,889]\u001b[0m Trial 17 finished with value: 0.4985112628247393 and parameters: {'max_depth': 9, 'learning_rate': 0.008558865048333166, 'n_estimators': 7146, 'gamma': 7.739693483313092, 'min_child_weight': 54, 'colsample_bytree': 0.34968449579632865, 'subsample': 0.7829568664558553}. Best is trial 15 with value: 0.5216532281116903.\u001b[0m\n"
     ]
    },
    {
     "name": "stdout",
     "output_type": "stream",
     "text": [
      "0 1 2 3 4 "
     ]
    },
    {
     "name": "stderr",
     "output_type": "stream",
     "text": [
      "\u001b[32m[I 2023-02-10 17:43:51,969]\u001b[0m Trial 18 finished with value: 0.5157776407600718 and parameters: {'max_depth': 7, 'learning_rate': 0.0022700402094212235, 'n_estimators': 4638, 'gamma': 8.727852875985691, 'min_child_weight': 32, 'colsample_bytree': 0.5722382321988322, 'subsample': 0.7686096897047318}. Best is trial 15 with value: 0.5216532281116903.\u001b[0m\n"
     ]
    },
    {
     "name": "stdout",
     "output_type": "stream",
     "text": [
      "0 1 2 3 4 "
     ]
    },
    {
     "name": "stderr",
     "output_type": "stream",
     "text": [
      "\u001b[32m[I 2023-02-10 17:44:19,220]\u001b[0m Trial 19 finished with value: 0.5278961906556633 and parameters: {'max_depth': 6, 'learning_rate': 0.0028042860282173395, 'n_estimators': 7187, 'gamma': 8.827628724839752, 'min_child_weight': 34, 'colsample_bytree': 0.584892625203338, 'subsample': 0.8784803193789038}. Best is trial 19 with value: 0.5278961906556633.\u001b[0m\n"
     ]
    },
    {
     "name": "stdout",
     "output_type": "stream",
     "text": [
      "0 1 2 3 4 "
     ]
    },
    {
     "name": "stderr",
     "output_type": "stream",
     "text": [
      "\u001b[32m[I 2023-02-10 17:44:53,127]\u001b[0m Trial 20 finished with value: 0.5122902403284717 and parameters: {'max_depth': 2, 'learning_rate': 0.0026530264725572066, 'n_estimators': 7730, 'gamma': 9.513864582751124, 'min_child_weight': 54, 'colsample_bytree': 0.4922858752992067, 'subsample': 0.8795183534999695}. Best is trial 19 with value: 0.5278961906556633.\u001b[0m\n"
     ]
    },
    {
     "name": "stdout",
     "output_type": "stream",
     "text": [
      "0 1 2 3 4 "
     ]
    },
    {
     "name": "stderr",
     "output_type": "stream",
     "text": [
      "\u001b[32m[I 2023-02-10 17:45:15,922]\u001b[0m Trial 21 finished with value: 0.49317882830304616 and parameters: {'max_depth': 6, 'learning_rate': 0.0021744835608762127, 'n_estimators': 4840, 'gamma': 8.589135507751912, 'min_child_weight': 34, 'colsample_bytree': 0.5382284871193973, 'subsample': 0.7913500437364696}. Best is trial 19 with value: 0.5278961906556633.\u001b[0m\n"
     ]
    },
    {
     "name": "stdout",
     "output_type": "stream",
     "text": [
      "0 1 2 3 4 "
     ]
    },
    {
     "name": "stderr",
     "output_type": "stream",
     "text": [
      "\u001b[32m[I 2023-02-10 17:45:47,342]\u001b[0m Trial 22 finished with value: 0.5053713489787478 and parameters: {'max_depth': 7, 'learning_rate': 0.007157053568587661, 'n_estimators': 6034, 'gamma': 8.635068976060008, 'min_child_weight': 31, 'colsample_bytree': 0.6202026619906391, 'subsample': 0.8977288437216213}. Best is trial 19 with value: 0.5278961906556633.\u001b[0m\n"
     ]
    },
    {
     "name": "stdout",
     "output_type": "stream",
     "text": [
      "0 1 2 3 4 "
     ]
    },
    {
     "name": "stderr",
     "output_type": "stream",
     "text": [
      "\u001b[32m[I 2023-02-10 17:46:19,254]\u001b[0m Trial 23 finished with value: 0.5161696252772032 and parameters: {'max_depth': 5, 'learning_rate': 0.0035194225673356046, 'n_estimators': 6851, 'gamma': 9.888986909673553, 'min_child_weight': 43, 'colsample_bytree': 0.5904879144439277, 'subsample': 0.8243234723445894}. Best is trial 19 with value: 0.5278961906556633.\u001b[0m\n"
     ]
    },
    {
     "name": "stdout",
     "output_type": "stream",
     "text": [
      "0 1 2 3 4 "
     ]
    },
    {
     "name": "stderr",
     "output_type": "stream",
     "text": [
      "\u001b[32m[I 2023-02-10 17:46:51,268]\u001b[0m Trial 24 finished with value: 0.49875553020580127 and parameters: {'max_depth': 5, 'learning_rate': 0.003982305936969692, 'n_estimators': 7298, 'gamma': 9.863347039724928, 'min_child_weight': 44, 'colsample_bytree': 0.5947815039357714, 'subsample': 0.8320991507975187}. Best is trial 19 with value: 0.5278961906556633.\u001b[0m\n"
     ]
    },
    {
     "name": "stdout",
     "output_type": "stream",
     "text": [
      "0 1 2 3 4 "
     ]
    },
    {
     "name": "stderr",
     "output_type": "stream",
     "text": [
      "\u001b[32m[I 2023-02-10 17:47:31,697]\u001b[0m Trial 25 finished with value: 0.4985195326117037 and parameters: {'max_depth': 5, 'learning_rate': 0.008469858588066722, 'n_estimators': 7978, 'gamma': 9.859362047369833, 'min_child_weight': 51, 'colsample_bytree': 0.6377825488979372, 'subsample': 0.7460306522266718}. Best is trial 19 with value: 0.5278961906556633.\u001b[0m\n"
     ]
    },
    {
     "name": "stdout",
     "output_type": "stream",
     "text": [
      "0 1 2 3 4 "
     ]
    },
    {
     "name": "stderr",
     "output_type": "stream",
     "text": [
      "\u001b[32m[I 2023-02-10 17:48:02,397]\u001b[0m Trial 26 finished with value: 0.5268824137442083 and parameters: {'max_depth': 4, 'learning_rate': 0.0014773209082909265, 'n_estimators': 6669, 'gamma': 8.23768469775281, 'min_child_weight': 40, 'colsample_bytree': 0.48225747779941536, 'subsample': 0.8436160074977119}. Best is trial 19 with value: 0.5278961906556633.\u001b[0m\n"
     ]
    },
    {
     "name": "stdout",
     "output_type": "stream",
     "text": [
      "0 1 2 3 4 "
     ]
    },
    {
     "name": "stderr",
     "output_type": "stream",
     "text": [
      "\u001b[32m[I 2023-02-10 17:48:38,435]\u001b[0m Trial 27 finished with value: 0.5107154514653905 and parameters: {'max_depth': 4, 'learning_rate': 0.0013605571819084188, 'n_estimators': 5565, 'gamma': 6.7679091534017255, 'min_child_weight': 12, 'colsample_bytree': 0.48563436972738305, 'subsample': 0.8501610371718802}. Best is trial 19 with value: 0.5278961906556633.\u001b[0m\n"
     ]
    },
    {
     "name": "stdout",
     "output_type": "stream",
     "text": [
      "0 1 2 3 4 "
     ]
    },
    {
     "name": "stderr",
     "output_type": "stream",
     "text": [
      "\u001b[32m[I 2023-02-10 17:49:05,257]\u001b[0m Trial 28 finished with value: 0.5041736119153539 and parameters: {'max_depth': 2, 'learning_rate': 0.010415623875986942, 'n_estimators': 6666, 'gamma': 8.110200916108266, 'min_child_weight': 28, 'colsample_bytree': 0.4549906693248135, 'subsample': 0.8503142838280183}. Best is trial 19 with value: 0.5278961906556633.\u001b[0m\n"
     ]
    },
    {
     "name": "stdout",
     "output_type": "stream",
     "text": [
      "0 1 2 3 4 "
     ]
    },
    {
     "name": "stderr",
     "output_type": "stream",
     "text": [
      "\u001b[32m[I 2023-02-10 17:49:45,879]\u001b[0m Trial 29 finished with value: 0.48913131055804815 and parameters: {'max_depth': 6, 'learning_rate': 0.006070356198614012, 'n_estimators': 8345, 'gamma': 6.359226211161936, 'min_child_weight': 64, 'colsample_bytree': 0.5407241642663609, 'subsample': 0.749057790599882}. Best is trial 19 with value: 0.5278961906556633.\u001b[0m\n"
     ]
    },
    {
     "name": "stdout",
     "output_type": "stream",
     "text": [
      "0 1 2 3 4 "
     ]
    },
    {
     "name": "stderr",
     "output_type": "stream",
     "text": [
      "\u001b[32m[I 2023-02-10 17:50:19,734]\u001b[0m Trial 30 finished with value: 0.45920116617105 and parameters: {'max_depth': 3, 'learning_rate': 0.001133380239952019, 'n_estimators': 3973, 'gamma': 7.371212869203742, 'min_child_weight': 37, 'colsample_bytree': 0.3880592202063729, 'subsample': 0.8872856491939213}. Best is trial 19 with value: 0.5278961906556633.\u001b[0m\n"
     ]
    },
    {
     "name": "stdout",
     "output_type": "stream",
     "text": [
      "0 1 2 3 4 "
     ]
    },
    {
     "name": "stderr",
     "output_type": "stream",
     "text": [
      "\u001b[32m[I 2023-02-10 17:50:56,367]\u001b[0m Trial 31 finished with value: 0.4893444505196409 and parameters: {'max_depth': 5, 'learning_rate': 0.0036428855848236446, 'n_estimators': 6784, 'gamma': 9.350063580253746, 'min_child_weight': 59, 'colsample_bytree': 0.5954089321759967, 'subsample': 0.7959517600167194}. Best is trial 19 with value: 0.5278961906556633.\u001b[0m\n"
     ]
    },
    {
     "name": "stdout",
     "output_type": "stream",
     "text": [
      "0 1 2 3 4 "
     ]
    },
    {
     "name": "stderr",
     "output_type": "stream",
     "text": [
      "\u001b[32m[I 2023-02-10 17:51:21,922]\u001b[0m Trial 32 finished with value: 0.48720200637252786 and parameters: {'max_depth': 4, 'learning_rate': 0.0032349174906623522, 'n_estimators': 6519, 'gamma': 8.362206923026381, 'min_child_weight': 79, 'colsample_bytree': 0.6515481518797792, 'subsample': 0.8314738515213018}. Best is trial 19 with value: 0.5278961906556633.\u001b[0m\n"
     ]
    },
    {
     "name": "stdout",
     "output_type": "stream",
     "text": [
      "0 1 2 3 4 "
     ]
    },
    {
     "name": "stderr",
     "output_type": "stream",
     "text": [
      "\u001b[32m[I 2023-02-10 17:51:53,526]\u001b[0m Trial 33 finished with value: 0.5107667093621806 and parameters: {'max_depth': 5, 'learning_rate': 0.0017225683822874737, 'n_estimators': 9879, 'gamma': 9.1427666300211, 'min_child_weight': 46, 'colsample_bytree': 0.5475110699182133, 'subsample': 0.8360838894948558}. Best is trial 19 with value: 0.5278961906556633.\u001b[0m\n"
     ]
    },
    {
     "name": "stdout",
     "output_type": "stream",
     "text": [
      "0 1 2 3 4 "
     ]
    },
    {
     "name": "stderr",
     "output_type": "stream",
     "text": [
      "\u001b[32m[I 2023-02-10 17:52:28,907]\u001b[0m Trial 34 finished with value: 0.52062277774626 and parameters: {'max_depth': 6, 'learning_rate': 0.0010669526403644025, 'n_estimators': 5586, 'gamma': 9.238088948316529, 'min_child_weight': 38, 'colsample_bytree': 0.45652045707830285, 'subsample': 0.7374681063462991}. Best is trial 19 with value: 0.5278961906556633.\u001b[0m\n"
     ]
    },
    {
     "name": "stdout",
     "output_type": "stream",
     "text": [
      "0 1 2 3 4 "
     ]
    },
    {
     "name": "stderr",
     "output_type": "stream",
     "text": [
      "\u001b[32m[I 2023-02-10 17:53:07,672]\u001b[0m Trial 35 finished with value: 0.4677097514523384 and parameters: {'max_depth': 6, 'learning_rate': 0.0009105545800984915, 'n_estimators': 5425, 'gamma': 7.35712293465188, 'min_child_weight': 17, 'colsample_bytree': 0.41584919948061294, 'subsample': 0.7372279770386512}. Best is trial 19 with value: 0.5278961906556633.\u001b[0m\n"
     ]
    },
    {
     "name": "stdout",
     "output_type": "stream",
     "text": [
      "0 1 2 3 4 "
     ]
    },
    {
     "name": "stderr",
     "output_type": "stream",
     "text": [
      "\u001b[32m[I 2023-02-10 17:53:28,831]\u001b[0m Trial 36 finished with value: 0.514431229449991 and parameters: {'max_depth': 9, 'learning_rate': 0.0007810462664648654, 'n_estimators': 4333, 'gamma': 8.530607675271815, 'min_child_weight': 25, 'colsample_bytree': 0.4576062241875518, 'subsample': 0.6269010502203101}. Best is trial 19 with value: 0.5278961906556633.\u001b[0m\n"
     ]
    },
    {
     "name": "stdout",
     "output_type": "stream",
     "text": [
      "0 1 2 3 4 "
     ]
    },
    {
     "name": "stderr",
     "output_type": "stream",
     "text": [
      "\u001b[32m[I 2023-02-10 17:53:58,095]\u001b[0m Trial 37 finished with value: 0.47041557190629213 and parameters: {'max_depth': 7, 'learning_rate': 0.0003272687560078631, 'n_estimators': 5319, 'gamma': 9.157206056613186, 'min_child_weight': 38, 'colsample_bytree': 0.31225595967378683, 'subsample': 0.7744671041395413}. Best is trial 19 with value: 0.5278961906556633.\u001b[0m\n"
     ]
    },
    {
     "name": "stdout",
     "output_type": "stream",
     "text": [
      "0 1 2 3 4 "
     ]
    },
    {
     "name": "stderr",
     "output_type": "stream",
     "text": [
      "\u001b[32m[I 2023-02-10 17:54:25,938]\u001b[0m Trial 38 finished with value: 0.49054771994925295 and parameters: {'max_depth': 9, 'learning_rate': 0.001900582165947957, 'n_estimators': 3187, 'gamma': 8.299495427687159, 'min_child_weight': 82, 'colsample_bytree': 0.37222352269330405, 'subsample': 0.7116307319241694}. Best is trial 19 with value: 0.5278961906556633.\u001b[0m\n"
     ]
    },
    {
     "name": "stdout",
     "output_type": "stream",
     "text": [
      "0 1 2 3 4 "
     ]
    },
    {
     "name": "stderr",
     "output_type": "stream",
     "text": [
      "\u001b[32m[I 2023-02-10 17:54:54,193]\u001b[0m Trial 39 finished with value: 0.48341251003631924 and parameters: {'max_depth': 3, 'learning_rate': 0.0004813151011142143, 'n_estimators': 6154, 'gamma': 7.75020878602751, 'min_child_weight': 11, 'colsample_bytree': 0.3036939975446675, 'subsample': 0.8754368198743038}. Best is trial 19 with value: 0.5278961906556633.\u001b[0m\n"
     ]
    },
    {
     "name": "stdout",
     "output_type": "stream",
     "text": [
      "0 1 2 3 4 "
     ]
    },
    {
     "name": "stderr",
     "output_type": "stream",
     "text": [
      "\u001b[32m[I 2023-02-10 17:55:29,986]\u001b[0m Trial 40 finished with value: 0.497822788137469 and parameters: {'max_depth': 6, 'learning_rate': 0.0016309822727813028, 'n_estimators': 7637, 'gamma': 6.7459778883092625, 'min_child_weight': 49, 'colsample_bytree': 0.42767040858759503, 'subsample': 0.7990642689659017}. Best is trial 19 with value: 0.5278961906556633.\u001b[0m\n"
     ]
    },
    {
     "name": "stdout",
     "output_type": "stream",
     "text": [
      "0 1 2 3 4 "
     ]
    },
    {
     "name": "stderr",
     "output_type": "stream",
     "text": [
      "\u001b[32m[I 2023-02-10 17:56:11,729]\u001b[0m Trial 41 finished with value: 0.5071055679739953 and parameters: {'max_depth': 6, 'learning_rate': 0.0028952002293299766, 'n_estimators': 7160, 'gamma': 9.415776309777494, 'min_child_weight': 39, 'colsample_bytree': 0.5725139833104734, 'subsample': 0.8161935322545639}. Best is trial 19 with value: 0.5278961906556633.\u001b[0m\n"
     ]
    },
    {
     "name": "stdout",
     "output_type": "stream",
     "text": [
      "0 1 2 3 4 "
     ]
    },
    {
     "name": "stderr",
     "output_type": "stream",
     "text": [
      "\u001b[32m[I 2023-02-10 17:56:44,938]\u001b[0m Trial 42 finished with value: 0.5087816915517445 and parameters: {'max_depth': 4, 'learning_rate': 0.004920588400729963, 'n_estimators': 6459, 'gamma': 9.046581403014184, 'min_child_weight': 41, 'colsample_bytree': 0.5009208477670609, 'subsample': 0.8613810823558998}. Best is trial 19 with value: 0.5278961906556633.\u001b[0m\n"
     ]
    },
    {
     "name": "stdout",
     "output_type": "stream",
     "text": [
      "0 1 2 3 4 "
     ]
    },
    {
     "name": "stderr",
     "output_type": "stream",
     "text": [
      "\u001b[32m[I 2023-02-10 17:57:17,113]\u001b[0m Trial 43 finished with value: 0.5227434340532179 and parameters: {'max_depth': 5, 'learning_rate': 0.001152943365728287, 'n_estimators': 8366, 'gamma': 9.62776160775504, 'min_child_weight': 29, 'colsample_bytree': 0.44950093806849467, 'subsample': 0.8990569181316412}. Best is trial 19 with value: 0.5278961906556633.\u001b[0m\n"
     ]
    },
    {
     "name": "stdout",
     "output_type": "stream",
     "text": [
      "0 1 2 3 4 "
     ]
    },
    {
     "name": "stderr",
     "output_type": "stream",
     "text": [
      "\u001b[32m[I 2023-02-10 17:57:49,262]\u001b[0m Trial 44 finished with value: 0.4717573297056286 and parameters: {'max_depth': 8, 'learning_rate': 0.0010974998463926628, 'n_estimators': 9328, 'gamma': 8.893396963228563, 'min_child_weight': 29, 'colsample_bytree': 0.36120517555712583, 'subsample': 0.8587776681833333}. Best is trial 19 with value: 0.5278961906556633.\u001b[0m\n"
     ]
    },
    {
     "name": "stdout",
     "output_type": "stream",
     "text": [
      "0 1 2 3 4 "
     ]
    },
    {
     "name": "stderr",
     "output_type": "stream",
     "text": [
      "\u001b[32m[I 2023-02-10 17:58:17,182]\u001b[0m Trial 45 finished with value: 0.4921238467928267 and parameters: {'max_depth': 4, 'learning_rate': 0.0006513505707806333, 'n_estimators': 8498, 'gamma': 8.243374761377892, 'min_child_weight': 6, 'colsample_bytree': 0.45101991087466065, 'subsample': 0.896041925926916}. Best is trial 19 with value: 0.5278961906556633.\u001b[0m\n"
     ]
    },
    {
     "name": "stdout",
     "output_type": "stream",
     "text": [
      "0 1 2 3 4 "
     ]
    },
    {
     "name": "stderr",
     "output_type": "stream",
     "text": [
      "\u001b[32m[I 2023-02-10 17:58:53,986]\u001b[0m Trial 46 finished with value: 0.4767736375068843 and parameters: {'max_depth': 6, 'learning_rate': 0.001354609797830945, 'n_estimators': 8067, 'gamma': 9.513467392368666, 'min_child_weight': 25, 'colsample_bytree': 0.38943976241103606, 'subsample': 0.898913563633929}. Best is trial 19 with value: 0.5278961906556633.\u001b[0m\n"
     ]
    },
    {
     "name": "stdout",
     "output_type": "stream",
     "text": [
      "0 1 2 3 4 "
     ]
    },
    {
     "name": "stderr",
     "output_type": "stream",
     "text": [
      "\u001b[32m[I 2023-02-10 17:59:21,249]\u001b[0m Trial 47 finished with value: 0.5044270688289944 and parameters: {'max_depth': 5, 'learning_rate': 0.00036729215199491944, 'n_estimators': 4180, 'gamma': 8.80388102006471, 'min_child_weight': 20, 'colsample_bytree': 0.4283457088586008, 'subsample': 0.8575007234787675}. Best is trial 19 with value: 0.5278961906556633.\u001b[0m\n"
     ]
    },
    {
     "name": "stdout",
     "output_type": "stream",
     "text": [
      "0 1 2 3 4 "
     ]
    },
    {
     "name": "stderr",
     "output_type": "stream",
     "text": [
      "\u001b[32m[I 2023-02-10 18:00:08,783]\u001b[0m Trial 48 finished with value: 0.4638357154520709 and parameters: {'max_depth': 7, 'learning_rate': 0.0021214164935479335, 'n_estimators': 8788, 'gamma': 7.7677236493556725, 'min_child_weight': 34, 'colsample_bytree': 0.28168865970182455, 'subsample': 0.8005618704754692}. Best is trial 19 with value: 0.5278961906556633.\u001b[0m\n"
     ]
    },
    {
     "name": "stdout",
     "output_type": "stream",
     "text": [
      "0 1 2 3 4 "
     ]
    },
    {
     "name": "stderr",
     "output_type": "stream",
     "text": [
      "\u001b[32m[I 2023-02-10 18:01:00,689]\u001b[0m Trial 49 finished with value: 0.5078208679630967 and parameters: {'max_depth': 5, 'learning_rate': 0.0007937492188989854, 'n_estimators': 9345, 'gamma': 5.649290042889899, 'min_child_weight': 14, 'colsample_bytree': 0.5067850548640089, 'subsample': 0.7789094407749793}. Best is trial 19 with value: 0.5278961906556633.\u001b[0m\n"
     ]
    }
   ],
   "source": [
    "study = optuna.create_study(direction = 'maximize')\n",
    "study.optimize(objective, n_trials = 50, timeout = 3600)"
   ]
  },
  {
   "cell_type": "code",
   "execution_count": 22,
   "id": "602e2e96",
   "metadata": {},
   "outputs": [
    {
     "data": {
      "text/plain": [
       "0.5278961906556633"
      ]
     },
     "execution_count": 22,
     "metadata": {},
     "output_type": "execute_result"
    }
   ],
   "source": [
    "study.best_trial.value"
   ]
  },
  {
   "cell_type": "code",
   "execution_count": 23,
   "id": "5d01a64b",
   "metadata": {},
   "outputs": [
    {
     "data": {
      "text/plain": [
       "{'max_depth': 6,\n",
       " 'learning_rate': 0.0028042860282173395,\n",
       " 'n_estimators': 7187,\n",
       " 'gamma': 8.827628724839752,\n",
       " 'min_child_weight': 34,\n",
       " 'colsample_bytree': 0.584892625203338,\n",
       " 'subsample': 0.8784803193789038}"
      ]
     },
     "execution_count": 23,
     "metadata": {},
     "output_type": "execute_result"
    }
   ],
   "source": [
    "study.best_trial.params"
   ]
  },
  {
   "cell_type": "markdown",
   "id": "bc633303",
   "metadata": {},
   "source": [
    "# XGBoost Modeling"
   ]
  },
  {
   "cell_type": "code",
   "execution_count": 24,
   "id": "92fb7ffa",
   "metadata": {},
   "outputs": [
    {
     "name": "stdout",
     "output_type": "stream",
     "text": [
      "The average roc-auc score over 5-folds (run 5 times) is: 0.5564398300924952\n"
     ]
    }
   ],
   "source": [
    "XGB_cv_scores, XGB_imp = list(), list()\n",
    "preds = list()\n",
    "\n",
    "## Running 5 times CV\n",
    "# for i in range(5):\n",
    "    \n",
    "#     skf = StratifiedKFold(n_splits = 5, random_state = 40, shuffle = True)\n",
    "skf = KFold(n_splits = 5, random_state = 42, shuffle = True)\n",
    "    \n",
    "for train_ix, test_ix in skf.split(X, Y):\n",
    "        \n",
    "    ## Splitting the data \n",
    "    X_train, X_test = X.iloc[train_ix], X.iloc[test_ix]\n",
    "    Y_train, Y_test = Y.iloc[train_ix], Y.iloc[test_ix]\n",
    "                \n",
    "    ## Building RF model\n",
    "    XGB_md = XGBRegressor(tree_method = 'hist',\n",
    "                              colsample_bytree = 0.584892625203338, \n",
    "                              gamma = 8.827628724839752, \n",
    "                              learning_rate = 0.0028042860282173395, \n",
    "                              max_depth = 6, \n",
    "                              min_child_weight = 34, \n",
    "                              n_estimators = 7187, \n",
    "                              subsample = 0.8784803193789038, \n",
    "                              random_state = 42).fit(X_train, Y_train)\n",
    "\n",
    "#     XGB_md = XGBRegressor(tree_method = 'hist',\n",
    "#                               colsample_bytree = 0.3159, \n",
    "#                               gamma = 5.3427, \n",
    "#                               learning_rate = 0.02, \n",
    "#                               max_depth = 5, \n",
    "#                               min_child_weight = 21, \n",
    "#                               n_estimators = 3116, \n",
    "#                               subsample = 0.59327, \n",
    "#                               random_state = 42).fit(X_train, Y_train)\n",
    "    XGB_imp.append(XGB_md.feature_importances_)\n",
    "        \n",
    "    ## Predicting on X_test and test\n",
    "    XGB_pred_train = XGB_md.predict(X_train)\n",
    "    XGB_pred_1 = XGB_md.predict(X_test)\n",
    "    XGB_pred_2 = XGB_md.predict(test_md)\n",
    "        \n",
    "    ## Applying Optimal Rounder (using abhishek approach)\n",
    "    optR = OptimizedRounder()\n",
    "#     optR.fit(XGB_pred_1, Y_test)\n",
    "    optR.fit(XGB_pred_train, Y_train)\n",
    "    coef = optR.coefficients()\n",
    "    XGB_pred_1 = optR.predict(XGB_pred_1, coef).astype(int)\n",
    "    XGB_pred_2 = optR.predict(XGB_pred_2, coef).astype(int)\n",
    "        \n",
    "    ## Computing roc-auc score\n",
    "    XGB_cv_scores.append(cohen_kappa_score(Y_test, XGB_pred_1, weights = 'quadratic'))\n",
    "    preds.append(XGB_pred_2)\n",
    "\n",
    "XGB_cv_score = np.mean(XGB_cv_scores)    \n",
    "print('The average roc-auc score over 5-folds (run 5 times) is:', XGB_cv_score)"
   ]
  },
  {
   "cell_type": "code",
   "execution_count": 25,
   "id": "e4caecef",
   "metadata": {},
   "outputs": [
    {
     "data": {
      "text/html": [
       "<div>\n",
       "<style scoped>\n",
       "    .dataframe tbody tr th:only-of-type {\n",
       "        vertical-align: middle;\n",
       "    }\n",
       "\n",
       "    .dataframe tbody tr th {\n",
       "        vertical-align: top;\n",
       "    }\n",
       "\n",
       "    .dataframe thead th {\n",
       "        text-align: right;\n",
       "    }\n",
       "</style>\n",
       "<table border=\"1\" class=\"dataframe\">\n",
       "  <thead>\n",
       "    <tr style=\"text-align: right;\">\n",
       "      <th></th>\n",
       "      <th>Id</th>\n",
       "      <th>quality</th>\n",
       "    </tr>\n",
       "  </thead>\n",
       "  <tbody>\n",
       "    <tr>\n",
       "      <th>0</th>\n",
       "      <td>2056</td>\n",
       "      <td>5</td>\n",
       "    </tr>\n",
       "    <tr>\n",
       "      <th>1</th>\n",
       "      <td>2057</td>\n",
       "      <td>6</td>\n",
       "    </tr>\n",
       "    <tr>\n",
       "      <th>2</th>\n",
       "      <td>2058</td>\n",
       "      <td>5</td>\n",
       "    </tr>\n",
       "    <tr>\n",
       "      <th>3</th>\n",
       "      <td>2059</td>\n",
       "      <td>6</td>\n",
       "    </tr>\n",
       "    <tr>\n",
       "      <th>4</th>\n",
       "      <td>2060</td>\n",
       "      <td>6</td>\n",
       "    </tr>\n",
       "  </tbody>\n",
       "</table>\n",
       "</div>"
      ],
      "text/plain": [
       "     Id  quality\n",
       "0  2056        5\n",
       "1  2057        6\n",
       "2  2058        5\n",
       "3  2059        6\n",
       "4  2060        6"
      ]
     },
     "execution_count": 25,
     "metadata": {},
     "output_type": "execute_result"
    }
   ],
   "source": [
    "XGB_preds_test = pd.DataFrame(preds).mode(axis = 0).loc[0, ]\n",
    "\n",
    "submission['quality'] = XGB_preds_test.astype(int)\n",
    "submission.head()"
   ]
  },
  {
   "cell_type": "code",
   "execution_count": 26,
   "id": "43d59e02",
   "metadata": {},
   "outputs": [
    {
     "data": {
      "text/plain": [
       "5    622\n",
       "6    435\n",
       "7    315\n",
       "Name: quality, dtype: int64"
      ]
     },
     "execution_count": 26,
     "metadata": {},
     "output_type": "execute_result"
    }
   ],
   "source": [
    "submission['quality'].value_counts()"
   ]
  },
  {
   "cell_type": "code",
   "execution_count": 17,
   "id": "b5e76fce",
   "metadata": {},
   "outputs": [
    {
     "data": {
      "text/plain": [
       "5    618\n",
       "6    440\n",
       "7    314\n",
       "Name: quality, dtype: int64"
      ]
     },
     "execution_count": 17,
     "metadata": {},
     "output_type": "execute_result"
    }
   ],
   "source": [
    "submission['quality'].value_counts()"
   ]
  },
  {
   "cell_type": "code",
   "execution_count": 6,
   "id": "95487298",
   "metadata": {},
   "outputs": [
    {
     "data": {
      "text/plain": [
       "5    603\n",
       "6    442\n",
       "7    327\n",
       "Name: quality, dtype: int64"
      ]
     },
     "execution_count": 6,
     "metadata": {},
     "output_type": "execute_result"
    }
   ],
   "source": [
    "submission['quality'].value_counts()"
   ]
  },
  {
   "cell_type": "code",
   "execution_count": 28,
   "id": "bed4fb52",
   "metadata": {},
   "outputs": [],
   "source": [
    "# submission.to_csv('XGB_Reg_FE_4.csv', index = False)"
   ]
  },
  {
   "cell_type": "code",
   "execution_count": 12,
   "id": "8278051c",
   "metadata": {},
   "outputs": [
    {
     "data": {
      "text/html": [
       "<div>\n",
       "<style scoped>\n",
       "    .dataframe tbody tr th:only-of-type {\n",
       "        vertical-align: middle;\n",
       "    }\n",
       "\n",
       "    .dataframe tbody tr th {\n",
       "        vertical-align: top;\n",
       "    }\n",
       "\n",
       "    .dataframe thead th {\n",
       "        text-align: right;\n",
       "    }\n",
       "</style>\n",
       "<table border=\"1\" class=\"dataframe\">\n",
       "  <thead>\n",
       "    <tr style=\"text-align: right;\">\n",
       "      <th></th>\n",
       "      <th>Id</th>\n",
       "      <th>quality</th>\n",
       "    </tr>\n",
       "  </thead>\n",
       "  <tbody>\n",
       "    <tr>\n",
       "      <th>0</th>\n",
       "      <td>2056</td>\n",
       "      <td>5</td>\n",
       "    </tr>\n",
       "    <tr>\n",
       "      <th>1</th>\n",
       "      <td>2057</td>\n",
       "      <td>6</td>\n",
       "    </tr>\n",
       "    <tr>\n",
       "      <th>2</th>\n",
       "      <td>2058</td>\n",
       "      <td>5</td>\n",
       "    </tr>\n",
       "    <tr>\n",
       "      <th>3</th>\n",
       "      <td>2059</td>\n",
       "      <td>6</td>\n",
       "    </tr>\n",
       "    <tr>\n",
       "      <th>4</th>\n",
       "      <td>2060</td>\n",
       "      <td>6</td>\n",
       "    </tr>\n",
       "  </tbody>\n",
       "</table>\n",
       "</div>"
      ],
      "text/plain": [
       "     Id  quality\n",
       "0  2056        5\n",
       "1  2057        6\n",
       "2  2058        5\n",
       "3  2059        6\n",
       "4  2060        6"
      ]
     },
     "execution_count": 12,
     "metadata": {},
     "output_type": "execute_result"
    }
   ],
   "source": [
    "## Building RF model\n",
    "XGB_md = XGBRegressor(tree_method = 'hist',\n",
    "                      colsample_bytree = 0.3159, \n",
    "                      gamma = 5.3427, \n",
    "                      learning_rate = 0.02, \n",
    "                      max_depth = 5, \n",
    "                      min_child_weight = 21, \n",
    "                      n_estimators = 3116, \n",
    "                      subsample = 0.59327, \n",
    "                      random_state = 42).fit(X, Y)\n",
    "\n",
    "XGB_train = XGB_md.predict(X)\n",
    "XGB_pred = XGB_md.predict(test_md)\n",
    "\n",
    "optR = OptimizedRounder()\n",
    "optR.fit(XGB_train, Y)\n",
    "coef = optR.coefficients()\n",
    "XGB_pred = optR.predict(XGB_pred, coef).astype(int)\n",
    "\n",
    "submission['quality'] = XGB_pred.astype(int)\n",
    "submission.head()"
   ]
  },
  {
   "cell_type": "code",
   "execution_count": 13,
   "id": "51981dc5",
   "metadata": {},
   "outputs": [
    {
     "data": {
      "text/plain": [
       "5    545\n",
       "6    505\n",
       "7    322\n",
       "Name: quality, dtype: int64"
      ]
     },
     "execution_count": 13,
     "metadata": {},
     "output_type": "execute_result"
    }
   ],
   "source": [
    "submission['quality'].value_counts()"
   ]
  },
  {
   "cell_type": "code",
   "execution_count": 14,
   "id": "432db2ff",
   "metadata": {},
   "outputs": [],
   "source": [
    "submission.to_csv('XGB_Reg_full_FE_02_10_2023_1.csv', index = False)"
   ]
  }
 ],
 "metadata": {
  "kernelspec": {
   "display_name": "conda_python3",
   "language": "python",
   "name": "conda_python3"
  },
  "language_info": {
   "codemirror_mode": {
    "name": "ipython",
    "version": 3
   },
   "file_extension": ".py",
   "mimetype": "text/x-python",
   "name": "python",
   "nbconvert_exporter": "python",
   "pygments_lexer": "ipython3",
   "version": "3.10.6"
  }
 },
 "nbformat": 4,
 "nbformat_minor": 5
}
