{
 "cells": [
  {
   "cell_type": "code",
   "execution_count": 1,
   "id": "981af5f0",
   "metadata": {},
   "outputs": [
    {
     "name": "stdout",
     "output_type": "stream",
     "text": [
      "Looking in indexes: https://pypi.org/simple, https://pip.repos.neuron.amazonaws.com\n",
      "Collecting xgboost\n",
      "  Downloading xgboost-1.7.3-py3-none-manylinux2014_x86_64.whl (193.6 MB)\n",
      "\u001b[2K     \u001b[90m━━━━━━━━━━━━━━━━━━━━━━━━━━━━━━━━━━━━━━━\u001b[0m \u001b[32m193.6/193.6 MB\u001b[0m \u001b[31m3.5 MB/s\u001b[0m eta \u001b[36m0:00:00\u001b[0m00:01\u001b[0m00:01\u001b[0m\n",
      "\u001b[?25hCollecting lightgbm\n",
      "  Downloading lightgbm-3.3.5-py3-none-manylinux1_x86_64.whl (2.0 MB)\n",
      "\u001b[2K     \u001b[90m━━━━━━━━━━━━━━━━━━━━━━━━━━━━━━━━━━━━━━━━\u001b[0m \u001b[32m2.0/2.0 MB\u001b[0m \u001b[31m24.2 MB/s\u001b[0m eta \u001b[36m0:00:00\u001b[0m:00:01\u001b[0m\n",
      "\u001b[?25hCollecting catboost\n",
      "  Downloading catboost-1.1.1-cp310-none-manylinux1_x86_64.whl (76.6 MB)\n",
      "\u001b[2K     \u001b[90m━━━━━━━━━━━━━━━━━━━━━━━━━━━━━━━━━━━━━━━━\u001b[0m \u001b[32m76.6/76.6 MB\u001b[0m \u001b[31m9.9 MB/s\u001b[0m eta \u001b[36m0:00:00\u001b[0m:00:01\u001b[0m00:01\u001b[0m\n",
      "\u001b[?25hCollecting optuna\n",
      "  Downloading optuna-3.1.0-py3-none-any.whl (365 kB)\n",
      "\u001b[2K     \u001b[90m━━━━━━━━━━━━━━━━━━━━━━━━━━━━━━━━━━━━━━\u001b[0m \u001b[32m365.3/365.3 kB\u001b[0m \u001b[31m11.4 MB/s\u001b[0m eta \u001b[36m0:00:00\u001b[0m\n",
      "\u001b[?25hRequirement already satisfied: scipy in /home/ec2-user/anaconda3/envs/python3/lib/python3.10/site-packages (from xgboost) (1.9.3)\n",
      "Requirement already satisfied: numpy in /home/ec2-user/anaconda3/envs/python3/lib/python3.10/site-packages (from xgboost) (1.22.4)\n",
      "Requirement already satisfied: scikit-learn!=0.22.0 in /home/ec2-user/anaconda3/envs/python3/lib/python3.10/site-packages (from lightgbm) (1.1.3)\n",
      "Requirement already satisfied: wheel in /home/ec2-user/anaconda3/envs/python3/lib/python3.10/site-packages (from lightgbm) (0.37.1)\n",
      "Requirement already satisfied: plotly in /home/ec2-user/anaconda3/envs/python3/lib/python3.10/site-packages (from catboost) (5.11.0)\n",
      "Requirement already satisfied: pandas>=0.24.0 in /home/ec2-user/anaconda3/envs/python3/lib/python3.10/site-packages (from catboost) (1.5.1)\n",
      "Collecting graphviz\n",
      "  Downloading graphviz-0.20.1-py3-none-any.whl (47 kB)\n",
      "\u001b[2K     \u001b[90m━━━━━━━━━━━━━━━━━━━━━━━━━━━━━━━━━━━━━━━━\u001b[0m \u001b[32m47.0/47.0 kB\u001b[0m \u001b[31m12.7 MB/s\u001b[0m eta \u001b[36m0:00:00\u001b[0m\n",
      "\u001b[?25hRequirement already satisfied: six in /home/ec2-user/anaconda3/envs/python3/lib/python3.10/site-packages (from catboost) (1.16.0)\n",
      "Requirement already satisfied: matplotlib in /home/ec2-user/anaconda3/envs/python3/lib/python3.10/site-packages (from catboost) (3.6.1)\n",
      "Collecting cmaes>=0.9.1\n",
      "  Downloading cmaes-0.9.1-py3-none-any.whl (21 kB)\n",
      "Requirement already satisfied: tqdm in /home/ec2-user/anaconda3/envs/python3/lib/python3.10/site-packages (from optuna) (4.64.1)\n",
      "Requirement already satisfied: packaging>=20.0 in /home/ec2-user/anaconda3/envs/python3/lib/python3.10/site-packages (from optuna) (21.3)\n",
      "Collecting colorlog\n",
      "  Downloading colorlog-6.7.0-py2.py3-none-any.whl (11 kB)\n",
      "Requirement already satisfied: sqlalchemy>=1.3.0 in /home/ec2-user/anaconda3/envs/python3/lib/python3.10/site-packages (from optuna) (1.4.42)\n",
      "Collecting alembic>=1.5.0\n",
      "  Downloading alembic-1.9.3-py3-none-any.whl (210 kB)\n",
      "\u001b[2K     \u001b[90m━━━━━━━━━━━━━━━━━━━━━━━━━━━━━━━━━━━━━━━\u001b[0m \u001b[32m210.6/210.6 kB\u001b[0m \u001b[31m1.5 MB/s\u001b[0m eta \u001b[36m0:00:00\u001b[0ma \u001b[36m0:00:01\u001b[0m\n",
      "\u001b[?25hRequirement already satisfied: PyYAML in /home/ec2-user/anaconda3/envs/python3/lib/python3.10/site-packages (from optuna) (5.4.1)\n",
      "Collecting Mako\n",
      "  Downloading Mako-1.2.4-py3-none-any.whl (78 kB)\n",
      "\u001b[2K     \u001b[90m━━━━━━━━━━━━━━━━━━━━━━━━━━━━━━━━━━━━━━━━\u001b[0m \u001b[32m78.7/78.7 kB\u001b[0m \u001b[31m18.3 MB/s\u001b[0m eta \u001b[36m0:00:00\u001b[0m\n",
      "\u001b[?25hRequirement already satisfied: pyparsing!=3.0.5,>=2.0.2 in /home/ec2-user/anaconda3/envs/python3/lib/python3.10/site-packages (from packaging>=20.0->optuna) (3.0.9)\n",
      "Requirement already satisfied: python-dateutil>=2.8.1 in /home/ec2-user/anaconda3/envs/python3/lib/python3.10/site-packages (from pandas>=0.24.0->catboost) (2.8.2)\n",
      "Requirement already satisfied: pytz>=2020.1 in /home/ec2-user/anaconda3/envs/python3/lib/python3.10/site-packages (from pandas>=0.24.0->catboost) (2022.5)\n",
      "Requirement already satisfied: threadpoolctl>=2.0.0 in /home/ec2-user/anaconda3/envs/python3/lib/python3.10/site-packages (from scikit-learn!=0.22.0->lightgbm) (3.1.0)\n",
      "Requirement already satisfied: joblib>=1.0.0 in /home/ec2-user/anaconda3/envs/python3/lib/python3.10/site-packages (from scikit-learn!=0.22.0->lightgbm) (1.2.0)\n",
      "Requirement already satisfied: greenlet!=0.4.17 in /home/ec2-user/anaconda3/envs/python3/lib/python3.10/site-packages (from sqlalchemy>=1.3.0->optuna) (1.1.3.post0)\n",
      "Requirement already satisfied: contourpy>=1.0.1 in /home/ec2-user/anaconda3/envs/python3/lib/python3.10/site-packages (from matplotlib->catboost) (1.0.6)\n",
      "Requirement already satisfied: fonttools>=4.22.0 in /home/ec2-user/anaconda3/envs/python3/lib/python3.10/site-packages (from matplotlib->catboost) (4.38.0)\n",
      "Requirement already satisfied: kiwisolver>=1.0.1 in /home/ec2-user/anaconda3/envs/python3/lib/python3.10/site-packages (from matplotlib->catboost) (1.4.4)\n",
      "Requirement already satisfied: pillow>=6.2.0 in /home/ec2-user/anaconda3/envs/python3/lib/python3.10/site-packages (from matplotlib->catboost) (9.2.0)\n",
      "Requirement already satisfied: cycler>=0.10 in /home/ec2-user/anaconda3/envs/python3/lib/python3.10/site-packages (from matplotlib->catboost) (0.11.0)\n",
      "Requirement already satisfied: tenacity>=6.2.0 in /home/ec2-user/anaconda3/envs/python3/lib/python3.10/site-packages (from plotly->catboost) (8.1.0)\n",
      "Requirement already satisfied: MarkupSafe>=0.9.2 in /home/ec2-user/anaconda3/envs/python3/lib/python3.10/site-packages (from Mako->alembic>=1.5.0->optuna) (2.1.1)\n",
      "Installing collected packages: Mako, graphviz, colorlog, cmaes, xgboost, alembic, optuna, lightgbm, catboost\n",
      "Successfully installed Mako-1.2.4 alembic-1.9.3 catboost-1.1.1 cmaes-0.9.1 colorlog-6.7.0 graphviz-0.20.1 lightgbm-3.3.5 optuna-3.1.0 xgboost-1.7.3\n",
      "Note: you may need to restart the kernel to use updated packages.\n"
     ]
    }
   ],
   "source": [
    "pip install xgboost lightgbm catboost optuna"
   ]
  },
  {
   "cell_type": "code",
   "execution_count": 6,
   "id": "0e46f84d",
   "metadata": {},
   "outputs": [],
   "source": [
    "import boto3\n",
    "import pandas as pd; pd.set_option('display.max_columns', 100)\n",
    "import numpy as np\n",
    "\n",
    "import matplotlib.pyplot as plt; plt.style.use('ggplot')\n",
    "import seaborn as sns\n",
    "\n",
    "from scipy.stats import rankdata\n",
    "from sklearn.multiclass import OneVsRestClassifier\n",
    "from sklearn.tree import DecisionTreeRegressor, plot_tree\n",
    "from sklearn.preprocessing import MinMaxScaler\n",
    "from sklearn.model_selection import KFold, train_test_split, GridSearchCV, StratifiedKFold, TimeSeriesSplit\n",
    "from sklearn.metrics import mean_squared_error, roc_auc_score\n",
    "from sklearn.neighbors import KNeighborsClassifier\n",
    "from sklearn.ensemble import RandomForestClassifier, HistGradientBoostingClassifier\n",
    "from sklearn.linear_model import LogisticRegression\n",
    "from lightgbm import LGBMClassifier\n",
    "from xgboost import XGBClassifier\n",
    "from catboost import CatBoostClassifier\n",
    "\n",
    "import optuna \n",
    "\n",
    "s3 = boto3.resource('s3')\n",
    "bucket_name = 'analytics-data-science-competitions'\n",
    "bucket = s3.Bucket(bucket_name)\n",
    "\n",
    "file_key_1 = 'Tabular-Playground-Series/PS-S3/Ep7/train.csv'\n",
    "file_key_2 = 'Tabular-Playground-Series/PS-S3/Ep7/test.csv'\n",
    "file_key_3 = 'Tabular-Playground-Series/PS-S3/Ep7/sample_submission.csv'\n",
    "\n",
    "bucket_object_1 = bucket.Object(file_key_1)\n",
    "file_object_1 = bucket_object_1.get()\n",
    "file_content_stream_1 = file_object_1.get('Body')\n",
    "\n",
    "bucket_object_2 = bucket.Object(file_key_2)\n",
    "file_object_2 = bucket_object_2.get()\n",
    "file_content_stream_2 = file_object_2.get('Body')\n",
    "\n",
    "bucket_object_3 = bucket.Object(file_key_3)\n",
    "file_object_3 = bucket_object_3.get()\n",
    "file_content_stream_3 = file_object_3.get('Body')\n",
    "\n",
    "## Reading data files\n",
    "train = pd.read_csv(file_content_stream_1)\n",
    "test = pd.read_csv(file_content_stream_2)\n",
    "submission = pd.read_csv(file_content_stream_3)"
   ]
  },
  {
   "cell_type": "code",
   "execution_count": 3,
   "id": "8d4382f7",
   "metadata": {},
   "outputs": [],
   "source": [
    "train_lgb = train.copy()\n",
    "test_lgb = test.copy()\n",
    "\n",
    "X = train_lgb.drop(columns = ['id', 'booking_status'], axis = 1)\n",
    "Y = train_lgb['booking_status']\n",
    "\n",
    "test_lgb = test_lgb.drop(columns = ['id'], axis = 1)"
   ]
  },
  {
   "cell_type": "markdown",
   "id": "48d0f430",
   "metadata": {},
   "source": [
    "# Optuna"
   ]
  },
  {
   "cell_type": "code",
   "execution_count": 11,
   "id": "c6a857f7",
   "metadata": {},
   "outputs": [],
   "source": [
    "class Objective:\n",
    "\n",
    "    def __init__(self, seed):\n",
    "        # Hold this implementation specific arguments as the fields of the class.\n",
    "        self.seed = seed\n",
    "\n",
    "    def __call__(self, trial):\n",
    "        ## Parameters to be evaluated\n",
    "        param = dict(objective = 'binary',\n",
    "                     metric = 'auc',\n",
    "                     tree_method = 'gbdt', \n",
    "                     n_estimators = trial.suggest_int('n_estimators', 300, 10000),\n",
    "                     learning_rate = trial.suggest_float('learning_rate', 0.001, 1, log = True),\n",
    "                     max_depth = trial.suggest_int('max_depth', 3, 12),\n",
    "                     lambda_l1 = trial.suggest_float('lambda_l1', 0.01, 10.0, log = True),\n",
    "                     lambda_l2 = trial.suggest_float('lambda_l2', 0.01, 10.0, log = True),\n",
    "                     num_leaves = trial.suggest_int('num_leaves', 2, 100),\n",
    "                     bagging_fraction = trial.suggest_float('bagging_fraction', 0.2, 0.9),\n",
    "                     feature_fraction = trial.suggest_float('feature_fraction', 0.2, 0.9)\n",
    "                    )\n",
    "\n",
    "        scores = []\n",
    "        \n",
    "        skf = StratifiedKFold(n_splits = 5, shuffle = True, random_state = self.seed)\n",
    "#         skf = KFold(n_splits = 5, shuffle = True, random_state = self.seed)\n",
    "\n",
    "        for train_idx, valid_idx in skf.split(X, Y):\n",
    "\n",
    "            X_train, X_valid = X.iloc[train_idx], X.iloc[valid_idx]\n",
    "            Y_train , Y_valid = Y.iloc[train_idx] , Y.iloc[valid_idx]\n",
    "\n",
    "            model = LGBMClassifier(**param).fit(X_train, Y_train)\n",
    "\n",
    "#             preds_train = model.predict(X_train)\n",
    "            preds_valid = model.predict_proba(X_valid)[:, 1]\n",
    "\n",
    "            score = roc_auc_score(Y_valid, preds_valid)\n",
    "            scores.append(score)\n",
    "\n",
    "        return np.mean(scores)"
   ]
  },
  {
   "cell_type": "code",
   "execution_count": null,
   "id": "8d01fe43",
   "metadata": {},
   "outputs": [
    {
     "name": "stderr",
     "output_type": "stream",
     "text": [
      "\u001b[32m[I 2023-02-14 22:54:11,811]\u001b[0m A new study created in memory with name: no-name-3857d91a-2a01-4455-b318-854b1394555e\u001b[0m\n"
     ]
    },
    {
     "name": "stdout",
     "output_type": "stream",
     "text": [
      "[LightGBM] [Warning] Unknown parameter: tree_method\n",
      "[LightGBM] [Warning] lambda_l1 is set=2.802583529854927, reg_alpha=0.0 will be ignored. Current value: lambda_l1=2.802583529854927\n",
      "[LightGBM] [Warning] feature_fraction is set=0.6612758006087783, colsample_bytree=1.0 will be ignored. Current value: feature_fraction=0.6612758006087783\n",
      "[LightGBM] [Warning] lambda_l2 is set=0.2503162468006942, reg_lambda=0.0 will be ignored. Current value: lambda_l2=0.2503162468006942\n",
      "[LightGBM] [Warning] bagging_fraction is set=0.4532478175495665, subsample=1.0 will be ignored. Current value: bagging_fraction=0.4532478175495665\n",
      "[LightGBM] [Warning] Unknown parameter: tree_method\n",
      "[LightGBM] [Warning] lambda_l1 is set=2.802583529854927, reg_alpha=0.0 will be ignored. Current value: lambda_l1=2.802583529854927\n",
      "[LightGBM] [Warning] feature_fraction is set=0.6612758006087783, colsample_bytree=1.0 will be ignored. Current value: feature_fraction=0.6612758006087783\n",
      "[LightGBM] [Warning] lambda_l2 is set=0.2503162468006942, reg_lambda=0.0 will be ignored. Current value: lambda_l2=0.2503162468006942\n",
      "[LightGBM] [Warning] bagging_fraction is set=0.4532478175495665, subsample=1.0 will be ignored. Current value: bagging_fraction=0.4532478175495665\n",
      "[LightGBM] [Warning] Unknown parameter: tree_method\n",
      "[LightGBM] [Warning] lambda_l1 is set=2.802583529854927, reg_alpha=0.0 will be ignored. Current value: lambda_l1=2.802583529854927\n",
      "[LightGBM] [Warning] feature_fraction is set=0.6612758006087783, colsample_bytree=1.0 will be ignored. Current value: feature_fraction=0.6612758006087783\n",
      "[LightGBM] [Warning] lambda_l2 is set=0.2503162468006942, reg_lambda=0.0 will be ignored. Current value: lambda_l2=0.2503162468006942\n",
      "[LightGBM] [Warning] bagging_fraction is set=0.4532478175495665, subsample=1.0 will be ignored. Current value: bagging_fraction=0.4532478175495665\n",
      "[LightGBM] [Warning] Unknown parameter: tree_method\n",
      "[LightGBM] [Warning] lambda_l1 is set=2.802583529854927, reg_alpha=0.0 will be ignored. Current value: lambda_l1=2.802583529854927\n",
      "[LightGBM] [Warning] feature_fraction is set=0.6612758006087783, colsample_bytree=1.0 will be ignored. Current value: feature_fraction=0.6612758006087783\n",
      "[LightGBM] [Warning] lambda_l2 is set=0.2503162468006942, reg_lambda=0.0 will be ignored. Current value: lambda_l2=0.2503162468006942\n",
      "[LightGBM] [Warning] bagging_fraction is set=0.4532478175495665, subsample=1.0 will be ignored. Current value: bagging_fraction=0.4532478175495665\n",
      "[LightGBM] [Warning] Unknown parameter: tree_method\n",
      "[LightGBM] [Warning] lambda_l1 is set=2.802583529854927, reg_alpha=0.0 will be ignored. Current value: lambda_l1=2.802583529854927\n",
      "[LightGBM] [Warning] feature_fraction is set=0.6612758006087783, colsample_bytree=1.0 will be ignored. Current value: feature_fraction=0.6612758006087783\n",
      "[LightGBM] [Warning] lambda_l2 is set=0.2503162468006942, reg_lambda=0.0 will be ignored. Current value: lambda_l2=0.2503162468006942\n",
      "[LightGBM] [Warning] bagging_fraction is set=0.4532478175495665, subsample=1.0 will be ignored. Current value: bagging_fraction=0.4532478175495665\n"
     ]
    },
    {
     "name": "stderr",
     "output_type": "stream",
     "text": [
      "\u001b[32m[I 2023-02-14 22:54:41,958]\u001b[0m Trial 0 finished with value: 0.8985081686963646 and parameters: {'n_estimators': 2133, 'learning_rate': 0.028105649406782333, 'max_depth': 7, 'lambda_l1': 2.802583529854927, 'lambda_l2': 0.2503162468006942, 'num_leaves': 59, 'bagging_fraction': 0.4532478175495665, 'feature_fraction': 0.6612758006087783}. Best is trial 0 with value: 0.8985081686963646.\u001b[0m\n"
     ]
    },
    {
     "name": "stdout",
     "output_type": "stream",
     "text": [
      "[LightGBM] [Warning] Unknown parameter: tree_method\n",
      "[LightGBM] [Warning] lambda_l1 is set=6.519289996685612, reg_alpha=0.0 will be ignored. Current value: lambda_l1=6.519289996685612\n",
      "[LightGBM] [Warning] feature_fraction is set=0.7313785907146209, colsample_bytree=1.0 will be ignored. Current value: feature_fraction=0.7313785907146209\n",
      "[LightGBM] [Warning] lambda_l2 is set=0.24685228467051237, reg_lambda=0.0 will be ignored. Current value: lambda_l2=0.24685228467051237\n",
      "[LightGBM] [Warning] bagging_fraction is set=0.489200377044646, subsample=1.0 will be ignored. Current value: bagging_fraction=0.489200377044646\n",
      "[LightGBM] [Warning] Unknown parameter: tree_method\n",
      "[LightGBM] [Warning] lambda_l1 is set=6.519289996685612, reg_alpha=0.0 will be ignored. Current value: lambda_l1=6.519289996685612\n",
      "[LightGBM] [Warning] feature_fraction is set=0.7313785907146209, colsample_bytree=1.0 will be ignored. Current value: feature_fraction=0.7313785907146209\n",
      "[LightGBM] [Warning] lambda_l2 is set=0.24685228467051237, reg_lambda=0.0 will be ignored. Current value: lambda_l2=0.24685228467051237\n",
      "[LightGBM] [Warning] bagging_fraction is set=0.489200377044646, subsample=1.0 will be ignored. Current value: bagging_fraction=0.489200377044646\n",
      "[LightGBM] [Warning] Unknown parameter: tree_method\n",
      "[LightGBM] [Warning] lambda_l1 is set=6.519289996685612, reg_alpha=0.0 will be ignored. Current value: lambda_l1=6.519289996685612\n",
      "[LightGBM] [Warning] feature_fraction is set=0.7313785907146209, colsample_bytree=1.0 will be ignored. Current value: feature_fraction=0.7313785907146209\n",
      "[LightGBM] [Warning] lambda_l2 is set=0.24685228467051237, reg_lambda=0.0 will be ignored. Current value: lambda_l2=0.24685228467051237\n",
      "[LightGBM] [Warning] bagging_fraction is set=0.489200377044646, subsample=1.0 will be ignored. Current value: bagging_fraction=0.489200377044646\n",
      "[LightGBM] [Warning] Unknown parameter: tree_method\n",
      "[LightGBM] [Warning] lambda_l1 is set=6.519289996685612, reg_alpha=0.0 will be ignored. Current value: lambda_l1=6.519289996685612\n",
      "[LightGBM] [Warning] feature_fraction is set=0.7313785907146209, colsample_bytree=1.0 will be ignored. Current value: feature_fraction=0.7313785907146209\n",
      "[LightGBM] [Warning] lambda_l2 is set=0.24685228467051237, reg_lambda=0.0 will be ignored. Current value: lambda_l2=0.24685228467051237\n",
      "[LightGBM] [Warning] bagging_fraction is set=0.489200377044646, subsample=1.0 will be ignored. Current value: bagging_fraction=0.489200377044646\n",
      "[LightGBM] [Warning] Unknown parameter: tree_method\n",
      "[LightGBM] [Warning] lambda_l1 is set=6.519289996685612, reg_alpha=0.0 will be ignored. Current value: lambda_l1=6.519289996685612\n",
      "[LightGBM] [Warning] feature_fraction is set=0.7313785907146209, colsample_bytree=1.0 will be ignored. Current value: feature_fraction=0.7313785907146209\n",
      "[LightGBM] [Warning] lambda_l2 is set=0.24685228467051237, reg_lambda=0.0 will be ignored. Current value: lambda_l2=0.24685228467051237\n",
      "[LightGBM] [Warning] bagging_fraction is set=0.489200377044646, subsample=1.0 will be ignored. Current value: bagging_fraction=0.489200377044646\n"
     ]
    },
    {
     "name": "stderr",
     "output_type": "stream",
     "text": [
      "\u001b[32m[I 2023-02-14 22:54:55,079]\u001b[0m Trial 1 finished with value: 0.898705572547707 and parameters: {'n_estimators': 1277, 'learning_rate': 0.05751970146941916, 'max_depth': 7, 'lambda_l1': 6.519289996685612, 'lambda_l2': 0.24685228467051237, 'num_leaves': 70, 'bagging_fraction': 0.489200377044646, 'feature_fraction': 0.7313785907146209}. Best is trial 1 with value: 0.898705572547707.\u001b[0m\n"
     ]
    },
    {
     "name": "stdout",
     "output_type": "stream",
     "text": [
      "[LightGBM] [Warning] Unknown parameter: tree_method\n",
      "[LightGBM] [Warning] lambda_l1 is set=0.15707602472814652, reg_alpha=0.0 will be ignored. Current value: lambda_l1=0.15707602472814652\n",
      "[LightGBM] [Warning] feature_fraction is set=0.8785228380360395, colsample_bytree=1.0 will be ignored. Current value: feature_fraction=0.8785228380360395\n",
      "[LightGBM] [Warning] lambda_l2 is set=0.035178723774432735, reg_lambda=0.0 will be ignored. Current value: lambda_l2=0.035178723774432735\n",
      "[LightGBM] [Warning] bagging_fraction is set=0.762021231177135, subsample=1.0 will be ignored. Current value: bagging_fraction=0.762021231177135\n",
      "[LightGBM] [Warning] Unknown parameter: tree_method\n",
      "[LightGBM] [Warning] lambda_l1 is set=0.15707602472814652, reg_alpha=0.0 will be ignored. Current value: lambda_l1=0.15707602472814652\n",
      "[LightGBM] [Warning] feature_fraction is set=0.8785228380360395, colsample_bytree=1.0 will be ignored. Current value: feature_fraction=0.8785228380360395\n",
      "[LightGBM] [Warning] lambda_l2 is set=0.035178723774432735, reg_lambda=0.0 will be ignored. Current value: lambda_l2=0.035178723774432735\n",
      "[LightGBM] [Warning] bagging_fraction is set=0.762021231177135, subsample=1.0 will be ignored. Current value: bagging_fraction=0.762021231177135\n",
      "[LightGBM] [Warning] Unknown parameter: tree_method\n",
      "[LightGBM] [Warning] lambda_l1 is set=0.15707602472814652, reg_alpha=0.0 will be ignored. Current value: lambda_l1=0.15707602472814652\n",
      "[LightGBM] [Warning] feature_fraction is set=0.8785228380360395, colsample_bytree=1.0 will be ignored. Current value: feature_fraction=0.8785228380360395\n",
      "[LightGBM] [Warning] lambda_l2 is set=0.035178723774432735, reg_lambda=0.0 will be ignored. Current value: lambda_l2=0.035178723774432735\n",
      "[LightGBM] [Warning] bagging_fraction is set=0.762021231177135, subsample=1.0 will be ignored. Current value: bagging_fraction=0.762021231177135\n",
      "[LightGBM] [Warning] Unknown parameter: tree_method\n",
      "[LightGBM] [Warning] lambda_l1 is set=0.15707602472814652, reg_alpha=0.0 will be ignored. Current value: lambda_l1=0.15707602472814652\n",
      "[LightGBM] [Warning] feature_fraction is set=0.8785228380360395, colsample_bytree=1.0 will be ignored. Current value: feature_fraction=0.8785228380360395\n",
      "[LightGBM] [Warning] lambda_l2 is set=0.035178723774432735, reg_lambda=0.0 will be ignored. Current value: lambda_l2=0.035178723774432735\n",
      "[LightGBM] [Warning] bagging_fraction is set=0.762021231177135, subsample=1.0 will be ignored. Current value: bagging_fraction=0.762021231177135\n",
      "[LightGBM] [Warning] Unknown parameter: tree_method\n",
      "[LightGBM] [Warning] lambda_l1 is set=0.15707602472814652, reg_alpha=0.0 will be ignored. Current value: lambda_l1=0.15707602472814652\n",
      "[LightGBM] [Warning] feature_fraction is set=0.8785228380360395, colsample_bytree=1.0 will be ignored. Current value: feature_fraction=0.8785228380360395\n",
      "[LightGBM] [Warning] lambda_l2 is set=0.035178723774432735, reg_lambda=0.0 will be ignored. Current value: lambda_l2=0.035178723774432735\n",
      "[LightGBM] [Warning] bagging_fraction is set=0.762021231177135, subsample=1.0 will be ignored. Current value: bagging_fraction=0.762021231177135\n"
     ]
    },
    {
     "name": "stderr",
     "output_type": "stream",
     "text": [
      "\u001b[32m[I 2023-02-14 22:55:37,986]\u001b[0m Trial 2 finished with value: 0.8971367078735085 and parameters: {'n_estimators': 8817, 'learning_rate': 0.02226493566322481, 'max_depth': 9, 'lambda_l1': 0.15707602472814652, 'lambda_l2': 0.035178723774432735, 'num_leaves': 10, 'bagging_fraction': 0.762021231177135, 'feature_fraction': 0.8785228380360395}. Best is trial 1 with value: 0.898705572547707.\u001b[0m\n"
     ]
    },
    {
     "name": "stdout",
     "output_type": "stream",
     "text": [
      "[LightGBM] [Warning] Unknown parameter: tree_method\n",
      "[LightGBM] [Warning] lambda_l1 is set=0.5055282047823716, reg_alpha=0.0 will be ignored. Current value: lambda_l1=0.5055282047823716\n",
      "[LightGBM] [Warning] feature_fraction is set=0.37560744318246997, colsample_bytree=1.0 will be ignored. Current value: feature_fraction=0.37560744318246997\n",
      "[LightGBM] [Warning] lambda_l2 is set=0.017927750794363095, reg_lambda=0.0 will be ignored. Current value: lambda_l2=0.017927750794363095\n",
      "[LightGBM] [Warning] bagging_fraction is set=0.3110378268143272, subsample=1.0 will be ignored. Current value: bagging_fraction=0.3110378268143272\n",
      "[LightGBM] [Warning] Unknown parameter: tree_method\n",
      "[LightGBM] [Warning] lambda_l1 is set=0.5055282047823716, reg_alpha=0.0 will be ignored. Current value: lambda_l1=0.5055282047823716\n",
      "[LightGBM] [Warning] feature_fraction is set=0.37560744318246997, colsample_bytree=1.0 will be ignored. Current value: feature_fraction=0.37560744318246997\n",
      "[LightGBM] [Warning] lambda_l2 is set=0.017927750794363095, reg_lambda=0.0 will be ignored. Current value: lambda_l2=0.017927750794363095\n",
      "[LightGBM] [Warning] bagging_fraction is set=0.3110378268143272, subsample=1.0 will be ignored. Current value: bagging_fraction=0.3110378268143272\n",
      "[LightGBM] [Warning] Unknown parameter: tree_method\n",
      "[LightGBM] [Warning] lambda_l1 is set=0.5055282047823716, reg_alpha=0.0 will be ignored. Current value: lambda_l1=0.5055282047823716\n",
      "[LightGBM] [Warning] feature_fraction is set=0.37560744318246997, colsample_bytree=1.0 will be ignored. Current value: feature_fraction=0.37560744318246997\n",
      "[LightGBM] [Warning] lambda_l2 is set=0.017927750794363095, reg_lambda=0.0 will be ignored. Current value: lambda_l2=0.017927750794363095\n",
      "[LightGBM] [Warning] bagging_fraction is set=0.3110378268143272, subsample=1.0 will be ignored. Current value: bagging_fraction=0.3110378268143272\n",
      "[LightGBM] [Warning] Unknown parameter: tree_method\n",
      "[LightGBM] [Warning] lambda_l1 is set=0.5055282047823716, reg_alpha=0.0 will be ignored. Current value: lambda_l1=0.5055282047823716\n",
      "[LightGBM] [Warning] feature_fraction is set=0.37560744318246997, colsample_bytree=1.0 will be ignored. Current value: feature_fraction=0.37560744318246997\n",
      "[LightGBM] [Warning] lambda_l2 is set=0.017927750794363095, reg_lambda=0.0 will be ignored. Current value: lambda_l2=0.017927750794363095\n",
      "[LightGBM] [Warning] bagging_fraction is set=0.3110378268143272, subsample=1.0 will be ignored. Current value: bagging_fraction=0.3110378268143272\n",
      "[LightGBM] [Warning] Unknown parameter: tree_method\n",
      "[LightGBM] [Warning] lambda_l1 is set=0.5055282047823716, reg_alpha=0.0 will be ignored. Current value: lambda_l1=0.5055282047823716\n",
      "[LightGBM] [Warning] feature_fraction is set=0.37560744318246997, colsample_bytree=1.0 will be ignored. Current value: feature_fraction=0.37560744318246997\n",
      "[LightGBM] [Warning] lambda_l2 is set=0.017927750794363095, reg_lambda=0.0 will be ignored. Current value: lambda_l2=0.017927750794363095\n",
      "[LightGBM] [Warning] bagging_fraction is set=0.3110378268143272, subsample=1.0 will be ignored. Current value: bagging_fraction=0.3110378268143272\n"
     ]
    },
    {
     "name": "stderr",
     "output_type": "stream",
     "text": [
      "\u001b[32m[I 2023-02-14 22:56:07,398]\u001b[0m Trial 3 finished with value: 0.8715370636319925 and parameters: {'n_estimators': 2976, 'learning_rate': 0.4534027029336444, 'max_depth': 11, 'lambda_l1': 0.5055282047823716, 'lambda_l2': 0.017927750794363095, 'num_leaves': 92, 'bagging_fraction': 0.3110378268143272, 'feature_fraction': 0.37560744318246997}. Best is trial 1 with value: 0.898705572547707.\u001b[0m\n"
     ]
    },
    {
     "name": "stdout",
     "output_type": "stream",
     "text": [
      "[LightGBM] [Warning] Unknown parameter: tree_method\n",
      "[LightGBM] [Warning] lambda_l1 is set=0.48980172766834223, reg_alpha=0.0 will be ignored. Current value: lambda_l1=0.48980172766834223\n",
      "[LightGBM] [Warning] feature_fraction is set=0.6366487656371007, colsample_bytree=1.0 will be ignored. Current value: feature_fraction=0.6366487656371007\n",
      "[LightGBM] [Warning] lambda_l2 is set=0.010098587759701093, reg_lambda=0.0 will be ignored. Current value: lambda_l2=0.010098587759701093\n",
      "[LightGBM] [Warning] bagging_fraction is set=0.21303726113961954, subsample=1.0 will be ignored. Current value: bagging_fraction=0.21303726113961954\n",
      "[LightGBM] [Warning] Unknown parameter: tree_method\n",
      "[LightGBM] [Warning] lambda_l1 is set=0.48980172766834223, reg_alpha=0.0 will be ignored. Current value: lambda_l1=0.48980172766834223\n",
      "[LightGBM] [Warning] feature_fraction is set=0.6366487656371007, colsample_bytree=1.0 will be ignored. Current value: feature_fraction=0.6366487656371007\n",
      "[LightGBM] [Warning] lambda_l2 is set=0.010098587759701093, reg_lambda=0.0 will be ignored. Current value: lambda_l2=0.010098587759701093\n",
      "[LightGBM] [Warning] bagging_fraction is set=0.21303726113961954, subsample=1.0 will be ignored. Current value: bagging_fraction=0.21303726113961954\n",
      "[LightGBM] [Warning] Unknown parameter: tree_method\n",
      "[LightGBM] [Warning] lambda_l1 is set=0.48980172766834223, reg_alpha=0.0 will be ignored. Current value: lambda_l1=0.48980172766834223\n",
      "[LightGBM] [Warning] feature_fraction is set=0.6366487656371007, colsample_bytree=1.0 will be ignored. Current value: feature_fraction=0.6366487656371007\n",
      "[LightGBM] [Warning] lambda_l2 is set=0.010098587759701093, reg_lambda=0.0 will be ignored. Current value: lambda_l2=0.010098587759701093\n",
      "[LightGBM] [Warning] bagging_fraction is set=0.21303726113961954, subsample=1.0 will be ignored. Current value: bagging_fraction=0.21303726113961954\n",
      "[LightGBM] [Warning] Unknown parameter: tree_method\n",
      "[LightGBM] [Warning] lambda_l1 is set=0.48980172766834223, reg_alpha=0.0 will be ignored. Current value: lambda_l1=0.48980172766834223\n",
      "[LightGBM] [Warning] feature_fraction is set=0.6366487656371007, colsample_bytree=1.0 will be ignored. Current value: feature_fraction=0.6366487656371007\n",
      "[LightGBM] [Warning] lambda_l2 is set=0.010098587759701093, reg_lambda=0.0 will be ignored. Current value: lambda_l2=0.010098587759701093\n",
      "[LightGBM] [Warning] bagging_fraction is set=0.21303726113961954, subsample=1.0 will be ignored. Current value: bagging_fraction=0.21303726113961954\n",
      "[LightGBM] [Warning] Unknown parameter: tree_method\n",
      "[LightGBM] [Warning] lambda_l1 is set=0.48980172766834223, reg_alpha=0.0 will be ignored. Current value: lambda_l1=0.48980172766834223\n",
      "[LightGBM] [Warning] feature_fraction is set=0.6366487656371007, colsample_bytree=1.0 will be ignored. Current value: feature_fraction=0.6366487656371007\n",
      "[LightGBM] [Warning] lambda_l2 is set=0.010098587759701093, reg_lambda=0.0 will be ignored. Current value: lambda_l2=0.010098587759701093\n",
      "[LightGBM] [Warning] bagging_fraction is set=0.21303726113961954, subsample=1.0 will be ignored. Current value: bagging_fraction=0.21303726113961954\n"
     ]
    },
    {
     "name": "stderr",
     "output_type": "stream",
     "text": [
      "\u001b[32m[I 2023-02-14 22:58:28,122]\u001b[0m Trial 4 finished with value: 0.8945545136290958 and parameters: {'n_estimators': 8317, 'learning_rate': 0.007143881076792904, 'max_depth': 8, 'lambda_l1': 0.48980172766834223, 'lambda_l2': 0.010098587759701093, 'num_leaves': 93, 'bagging_fraction': 0.21303726113961954, 'feature_fraction': 0.6366487656371007}. Best is trial 1 with value: 0.898705572547707.\u001b[0m\n"
     ]
    },
    {
     "name": "stdout",
     "output_type": "stream",
     "text": [
      "[LightGBM] [Warning] Unknown parameter: tree_method\n",
      "[LightGBM] [Warning] lambda_l1 is set=2.92486230012425, reg_alpha=0.0 will be ignored. Current value: lambda_l1=2.92486230012425\n",
      "[LightGBM] [Warning] feature_fraction is set=0.24712448804682857, colsample_bytree=1.0 will be ignored. Current value: feature_fraction=0.24712448804682857\n",
      "[LightGBM] [Warning] lambda_l2 is set=0.05276497074033874, reg_lambda=0.0 will be ignored. Current value: lambda_l2=0.05276497074033874\n",
      "[LightGBM] [Warning] bagging_fraction is set=0.619467372353872, subsample=1.0 will be ignored. Current value: bagging_fraction=0.619467372353872\n",
      "[LightGBM] [Warning] Unknown parameter: tree_method\n",
      "[LightGBM] [Warning] lambda_l1 is set=2.92486230012425, reg_alpha=0.0 will be ignored. Current value: lambda_l1=2.92486230012425\n",
      "[LightGBM] [Warning] feature_fraction is set=0.24712448804682857, colsample_bytree=1.0 will be ignored. Current value: feature_fraction=0.24712448804682857\n",
      "[LightGBM] [Warning] lambda_l2 is set=0.05276497074033874, reg_lambda=0.0 will be ignored. Current value: lambda_l2=0.05276497074033874\n",
      "[LightGBM] [Warning] bagging_fraction is set=0.619467372353872, subsample=1.0 will be ignored. Current value: bagging_fraction=0.619467372353872\n",
      "[LightGBM] [Warning] Unknown parameter: tree_method\n",
      "[LightGBM] [Warning] lambda_l1 is set=2.92486230012425, reg_alpha=0.0 will be ignored. Current value: lambda_l1=2.92486230012425\n",
      "[LightGBM] [Warning] feature_fraction is set=0.24712448804682857, colsample_bytree=1.0 will be ignored. Current value: feature_fraction=0.24712448804682857\n",
      "[LightGBM] [Warning] lambda_l2 is set=0.05276497074033874, reg_lambda=0.0 will be ignored. Current value: lambda_l2=0.05276497074033874\n",
      "[LightGBM] [Warning] bagging_fraction is set=0.619467372353872, subsample=1.0 will be ignored. Current value: bagging_fraction=0.619467372353872\n",
      "[LightGBM] [Warning] Unknown parameter: tree_method\n",
      "[LightGBM] [Warning] lambda_l1 is set=2.92486230012425, reg_alpha=0.0 will be ignored. Current value: lambda_l1=2.92486230012425\n",
      "[LightGBM] [Warning] feature_fraction is set=0.24712448804682857, colsample_bytree=1.0 will be ignored. Current value: feature_fraction=0.24712448804682857\n",
      "[LightGBM] [Warning] lambda_l2 is set=0.05276497074033874, reg_lambda=0.0 will be ignored. Current value: lambda_l2=0.05276497074033874\n",
      "[LightGBM] [Warning] bagging_fraction is set=0.619467372353872, subsample=1.0 will be ignored. Current value: bagging_fraction=0.619467372353872\n",
      "[LightGBM] [Warning] Unknown parameter: tree_method\n",
      "[LightGBM] [Warning] lambda_l1 is set=2.92486230012425, reg_alpha=0.0 will be ignored. Current value: lambda_l1=2.92486230012425\n",
      "[LightGBM] [Warning] feature_fraction is set=0.24712448804682857, colsample_bytree=1.0 will be ignored. Current value: feature_fraction=0.24712448804682857\n",
      "[LightGBM] [Warning] lambda_l2 is set=0.05276497074033874, reg_lambda=0.0 will be ignored. Current value: lambda_l2=0.05276497074033874\n",
      "[LightGBM] [Warning] bagging_fraction is set=0.619467372353872, subsample=1.0 will be ignored. Current value: bagging_fraction=0.619467372353872\n"
     ]
    },
    {
     "name": "stderr",
     "output_type": "stream",
     "text": [
      "\u001b[32m[I 2023-02-14 22:58:35,368]\u001b[0m Trial 5 finished with value: 0.8933573743411483 and parameters: {'n_estimators': 1141, 'learning_rate': 0.02234886412959239, 'max_depth': 4, 'lambda_l1': 2.92486230012425, 'lambda_l2': 0.05276497074033874, 'num_leaves': 44, 'bagging_fraction': 0.619467372353872, 'feature_fraction': 0.24712448804682857}. Best is trial 1 with value: 0.898705572547707.\u001b[0m\n"
     ]
    },
    {
     "name": "stdout",
     "output_type": "stream",
     "text": [
      "[LightGBM] [Warning] Unknown parameter: tree_method\n",
      "[LightGBM] [Warning] lambda_l1 is set=0.014726806271386998, reg_alpha=0.0 will be ignored. Current value: lambda_l1=0.014726806271386998\n",
      "[LightGBM] [Warning] feature_fraction is set=0.7852834636427959, colsample_bytree=1.0 will be ignored. Current value: feature_fraction=0.7852834636427959\n",
      "[LightGBM] [Warning] lambda_l2 is set=3.633521069385731, reg_lambda=0.0 will be ignored. Current value: lambda_l2=3.633521069385731\n",
      "[LightGBM] [Warning] bagging_fraction is set=0.4903891904081294, subsample=1.0 will be ignored. Current value: bagging_fraction=0.4903891904081294\n",
      "[LightGBM] [Warning] Unknown parameter: tree_method\n",
      "[LightGBM] [Warning] lambda_l1 is set=0.014726806271386998, reg_alpha=0.0 will be ignored. Current value: lambda_l1=0.014726806271386998\n",
      "[LightGBM] [Warning] feature_fraction is set=0.7852834636427959, colsample_bytree=1.0 will be ignored. Current value: feature_fraction=0.7852834636427959\n",
      "[LightGBM] [Warning] lambda_l2 is set=3.633521069385731, reg_lambda=0.0 will be ignored. Current value: lambda_l2=3.633521069385731\n",
      "[LightGBM] [Warning] bagging_fraction is set=0.4903891904081294, subsample=1.0 will be ignored. Current value: bagging_fraction=0.4903891904081294\n",
      "[LightGBM] [Warning] Unknown parameter: tree_method\n",
      "[LightGBM] [Warning] lambda_l1 is set=0.014726806271386998, reg_alpha=0.0 will be ignored. Current value: lambda_l1=0.014726806271386998\n",
      "[LightGBM] [Warning] feature_fraction is set=0.7852834636427959, colsample_bytree=1.0 will be ignored. Current value: feature_fraction=0.7852834636427959\n",
      "[LightGBM] [Warning] lambda_l2 is set=3.633521069385731, reg_lambda=0.0 will be ignored. Current value: lambda_l2=3.633521069385731\n",
      "[LightGBM] [Warning] bagging_fraction is set=0.4903891904081294, subsample=1.0 will be ignored. Current value: bagging_fraction=0.4903891904081294\n",
      "[LightGBM] [Warning] Unknown parameter: tree_method\n",
      "[LightGBM] [Warning] lambda_l1 is set=0.014726806271386998, reg_alpha=0.0 will be ignored. Current value: lambda_l1=0.014726806271386998\n",
      "[LightGBM] [Warning] feature_fraction is set=0.7852834636427959, colsample_bytree=1.0 will be ignored. Current value: feature_fraction=0.7852834636427959\n",
      "[LightGBM] [Warning] lambda_l2 is set=3.633521069385731, reg_lambda=0.0 will be ignored. Current value: lambda_l2=3.633521069385731\n",
      "[LightGBM] [Warning] bagging_fraction is set=0.4903891904081294, subsample=1.0 will be ignored. Current value: bagging_fraction=0.4903891904081294\n",
      "[LightGBM] [Warning] Unknown parameter: tree_method\n",
      "[LightGBM] [Warning] lambda_l1 is set=0.014726806271386998, reg_alpha=0.0 will be ignored. Current value: lambda_l1=0.014726806271386998\n",
      "[LightGBM] [Warning] feature_fraction is set=0.7852834636427959, colsample_bytree=1.0 will be ignored. Current value: feature_fraction=0.7852834636427959\n",
      "[LightGBM] [Warning] lambda_l2 is set=3.633521069385731, reg_lambda=0.0 will be ignored. Current value: lambda_l2=3.633521069385731\n",
      "[LightGBM] [Warning] bagging_fraction is set=0.4903891904081294, subsample=1.0 will be ignored. Current value: bagging_fraction=0.4903891904081294\n"
     ]
    },
    {
     "name": "stderr",
     "output_type": "stream",
     "text": [
      "\u001b[32m[I 2023-02-14 22:58:46,393]\u001b[0m Trial 6 finished with value: 0.8980524951915321 and parameters: {'n_estimators': 2785, 'learning_rate': 0.044959921183317667, 'max_depth': 3, 'lambda_l1': 0.014726806271386998, 'lambda_l2': 3.633521069385731, 'num_leaves': 62, 'bagging_fraction': 0.4903891904081294, 'feature_fraction': 0.7852834636427959}. Best is trial 1 with value: 0.898705572547707.\u001b[0m\n"
     ]
    },
    {
     "name": "stdout",
     "output_type": "stream",
     "text": [
      "[LightGBM] [Warning] Unknown parameter: tree_method\n",
      "[LightGBM] [Warning] lambda_l1 is set=0.2764206281591435, reg_alpha=0.0 will be ignored. Current value: lambda_l1=0.2764206281591435\n",
      "[LightGBM] [Warning] feature_fraction is set=0.24692994958643683, colsample_bytree=1.0 will be ignored. Current value: feature_fraction=0.24692994958643683\n",
      "[LightGBM] [Warning] lambda_l2 is set=0.06862393670402363, reg_lambda=0.0 will be ignored. Current value: lambda_l2=0.06862393670402363\n",
      "[LightGBM] [Warning] bagging_fraction is set=0.22190091645333698, subsample=1.0 will be ignored. Current value: bagging_fraction=0.22190091645333698\n",
      "[LightGBM] [Warning] Unknown parameter: tree_method\n",
      "[LightGBM] [Warning] lambda_l1 is set=0.2764206281591435, reg_alpha=0.0 will be ignored. Current value: lambda_l1=0.2764206281591435\n",
      "[LightGBM] [Warning] feature_fraction is set=0.24692994958643683, colsample_bytree=1.0 will be ignored. Current value: feature_fraction=0.24692994958643683\n",
      "[LightGBM] [Warning] lambda_l2 is set=0.06862393670402363, reg_lambda=0.0 will be ignored. Current value: lambda_l2=0.06862393670402363\n",
      "[LightGBM] [Warning] bagging_fraction is set=0.22190091645333698, subsample=1.0 will be ignored. Current value: bagging_fraction=0.22190091645333698\n",
      "[LightGBM] [Warning] Unknown parameter: tree_method\n",
      "[LightGBM] [Warning] lambda_l1 is set=0.2764206281591435, reg_alpha=0.0 will be ignored. Current value: lambda_l1=0.2764206281591435\n",
      "[LightGBM] [Warning] feature_fraction is set=0.24692994958643683, colsample_bytree=1.0 will be ignored. Current value: feature_fraction=0.24692994958643683\n",
      "[LightGBM] [Warning] lambda_l2 is set=0.06862393670402363, reg_lambda=0.0 will be ignored. Current value: lambda_l2=0.06862393670402363\n",
      "[LightGBM] [Warning] bagging_fraction is set=0.22190091645333698, subsample=1.0 will be ignored. Current value: bagging_fraction=0.22190091645333698\n",
      "[LightGBM] [Warning] Unknown parameter: tree_method\n",
      "[LightGBM] [Warning] lambda_l1 is set=0.2764206281591435, reg_alpha=0.0 will be ignored. Current value: lambda_l1=0.2764206281591435\n",
      "[LightGBM] [Warning] feature_fraction is set=0.24692994958643683, colsample_bytree=1.0 will be ignored. Current value: feature_fraction=0.24692994958643683\n",
      "[LightGBM] [Warning] lambda_l2 is set=0.06862393670402363, reg_lambda=0.0 will be ignored. Current value: lambda_l2=0.06862393670402363\n",
      "[LightGBM] [Warning] bagging_fraction is set=0.22190091645333698, subsample=1.0 will be ignored. Current value: bagging_fraction=0.22190091645333698\n",
      "[LightGBM] [Warning] Unknown parameter: tree_method\n",
      "[LightGBM] [Warning] lambda_l1 is set=0.2764206281591435, reg_alpha=0.0 will be ignored. Current value: lambda_l1=0.2764206281591435\n",
      "[LightGBM] [Warning] feature_fraction is set=0.24692994958643683, colsample_bytree=1.0 will be ignored. Current value: feature_fraction=0.24692994958643683\n",
      "[LightGBM] [Warning] lambda_l2 is set=0.06862393670402363, reg_lambda=0.0 will be ignored. Current value: lambda_l2=0.06862393670402363\n",
      "[LightGBM] [Warning] bagging_fraction is set=0.22190091645333698, subsample=1.0 will be ignored. Current value: bagging_fraction=0.22190091645333698\n"
     ]
    },
    {
     "name": "stderr",
     "output_type": "stream",
     "text": [
      "\u001b[32m[I 2023-02-14 22:58:50,456]\u001b[0m Trial 7 finished with value: 0.864350967598822 and parameters: {'n_estimators': 677, 'learning_rate': 0.0028076239193478352, 'max_depth': 4, 'lambda_l1': 0.2764206281591435, 'lambda_l2': 0.06862393670402363, 'num_leaves': 85, 'bagging_fraction': 0.22190091645333698, 'feature_fraction': 0.24692994958643683}. Best is trial 1 with value: 0.898705572547707.\u001b[0m\n"
     ]
    },
    {
     "name": "stdout",
     "output_type": "stream",
     "text": [
      "[LightGBM] [Warning] Unknown parameter: tree_method\n",
      "[LightGBM] [Warning] lambda_l1 is set=0.04486441785366375, reg_alpha=0.0 will be ignored. Current value: lambda_l1=0.04486441785366375\n",
      "[LightGBM] [Warning] feature_fraction is set=0.35806157298794333, colsample_bytree=1.0 will be ignored. Current value: feature_fraction=0.35806157298794333\n",
      "[LightGBM] [Warning] lambda_l2 is set=0.020203456642889826, reg_lambda=0.0 will be ignored. Current value: lambda_l2=0.020203456642889826\n",
      "[LightGBM] [Warning] bagging_fraction is set=0.5525876668776819, subsample=1.0 will be ignored. Current value: bagging_fraction=0.5525876668776819\n",
      "[LightGBM] [Warning] Unknown parameter: tree_method\n",
      "[LightGBM] [Warning] lambda_l1 is set=0.04486441785366375, reg_alpha=0.0 will be ignored. Current value: lambda_l1=0.04486441785366375\n",
      "[LightGBM] [Warning] feature_fraction is set=0.35806157298794333, colsample_bytree=1.0 will be ignored. Current value: feature_fraction=0.35806157298794333\n",
      "[LightGBM] [Warning] lambda_l2 is set=0.020203456642889826, reg_lambda=0.0 will be ignored. Current value: lambda_l2=0.020203456642889826\n",
      "[LightGBM] [Warning] bagging_fraction is set=0.5525876668776819, subsample=1.0 will be ignored. Current value: bagging_fraction=0.5525876668776819\n",
      "[LightGBM] [Warning] Unknown parameter: tree_method\n",
      "[LightGBM] [Warning] lambda_l1 is set=0.04486441785366375, reg_alpha=0.0 will be ignored. Current value: lambda_l1=0.04486441785366375\n",
      "[LightGBM] [Warning] feature_fraction is set=0.35806157298794333, colsample_bytree=1.0 will be ignored. Current value: feature_fraction=0.35806157298794333\n",
      "[LightGBM] [Warning] lambda_l2 is set=0.020203456642889826, reg_lambda=0.0 will be ignored. Current value: lambda_l2=0.020203456642889826\n",
      "[LightGBM] [Warning] bagging_fraction is set=0.5525876668776819, subsample=1.0 will be ignored. Current value: bagging_fraction=0.5525876668776819\n",
      "[LightGBM] [Warning] Unknown parameter: tree_method\n",
      "[LightGBM] [Warning] lambda_l1 is set=0.04486441785366375, reg_alpha=0.0 will be ignored. Current value: lambda_l1=0.04486441785366375\n",
      "[LightGBM] [Warning] feature_fraction is set=0.35806157298794333, colsample_bytree=1.0 will be ignored. Current value: feature_fraction=0.35806157298794333\n",
      "[LightGBM] [Warning] lambda_l2 is set=0.020203456642889826, reg_lambda=0.0 will be ignored. Current value: lambda_l2=0.020203456642889826\n",
      "[LightGBM] [Warning] bagging_fraction is set=0.5525876668776819, subsample=1.0 will be ignored. Current value: bagging_fraction=0.5525876668776819\n",
      "[LightGBM] [Warning] Unknown parameter: tree_method\n",
      "[LightGBM] [Warning] lambda_l1 is set=0.04486441785366375, reg_alpha=0.0 will be ignored. Current value: lambda_l1=0.04486441785366375\n",
      "[LightGBM] [Warning] feature_fraction is set=0.35806157298794333, colsample_bytree=1.0 will be ignored. Current value: feature_fraction=0.35806157298794333\n",
      "[LightGBM] [Warning] lambda_l2 is set=0.020203456642889826, reg_lambda=0.0 will be ignored. Current value: lambda_l2=0.020203456642889826\n",
      "[LightGBM] [Warning] bagging_fraction is set=0.5525876668776819, subsample=1.0 will be ignored. Current value: bagging_fraction=0.5525876668776819\n"
     ]
    },
    {
     "name": "stderr",
     "output_type": "stream",
     "text": [
      "\u001b[32m[I 2023-02-14 22:59:40,507]\u001b[0m Trial 8 finished with value: 0.8627652562799861 and parameters: {'n_estimators': 4247, 'learning_rate': 0.4246057233075006, 'max_depth': 6, 'lambda_l1': 0.04486441785366375, 'lambda_l2': 0.020203456642889826, 'num_leaves': 54, 'bagging_fraction': 0.5525876668776819, 'feature_fraction': 0.35806157298794333}. Best is trial 1 with value: 0.898705572547707.\u001b[0m\n"
     ]
    },
    {
     "name": "stdout",
     "output_type": "stream",
     "text": [
      "[LightGBM] [Warning] Unknown parameter: tree_method\n",
      "[LightGBM] [Warning] lambda_l1 is set=0.4659006284280162, reg_alpha=0.0 will be ignored. Current value: lambda_l1=0.4659006284280162\n",
      "[LightGBM] [Warning] feature_fraction is set=0.5416006525506938, colsample_bytree=1.0 will be ignored. Current value: feature_fraction=0.5416006525506938\n",
      "[LightGBM] [Warning] lambda_l2 is set=6.16117397445014, reg_lambda=0.0 will be ignored. Current value: lambda_l2=6.16117397445014\n",
      "[LightGBM] [Warning] bagging_fraction is set=0.20643329809512184, subsample=1.0 will be ignored. Current value: bagging_fraction=0.20643329809512184\n",
      "[LightGBM] [Warning] Unknown parameter: tree_method\n",
      "[LightGBM] [Warning] lambda_l1 is set=0.4659006284280162, reg_alpha=0.0 will be ignored. Current value: lambda_l1=0.4659006284280162\n",
      "[LightGBM] [Warning] feature_fraction is set=0.5416006525506938, colsample_bytree=1.0 will be ignored. Current value: feature_fraction=0.5416006525506938\n",
      "[LightGBM] [Warning] lambda_l2 is set=6.16117397445014, reg_lambda=0.0 will be ignored. Current value: lambda_l2=6.16117397445014\n",
      "[LightGBM] [Warning] bagging_fraction is set=0.20643329809512184, subsample=1.0 will be ignored. Current value: bagging_fraction=0.20643329809512184\n",
      "[LightGBM] [Warning] Unknown parameter: tree_method\n",
      "[LightGBM] [Warning] lambda_l1 is set=0.4659006284280162, reg_alpha=0.0 will be ignored. Current value: lambda_l1=0.4659006284280162\n",
      "[LightGBM] [Warning] feature_fraction is set=0.5416006525506938, colsample_bytree=1.0 will be ignored. Current value: feature_fraction=0.5416006525506938\n",
      "[LightGBM] [Warning] lambda_l2 is set=6.16117397445014, reg_lambda=0.0 will be ignored. Current value: lambda_l2=6.16117397445014\n",
      "[LightGBM] [Warning] bagging_fraction is set=0.20643329809512184, subsample=1.0 will be ignored. Current value: bagging_fraction=0.20643329809512184\n",
      "[LightGBM] [Warning] Unknown parameter: tree_method\n",
      "[LightGBM] [Warning] lambda_l1 is set=0.4659006284280162, reg_alpha=0.0 will be ignored. Current value: lambda_l1=0.4659006284280162\n",
      "[LightGBM] [Warning] feature_fraction is set=0.5416006525506938, colsample_bytree=1.0 will be ignored. Current value: feature_fraction=0.5416006525506938\n",
      "[LightGBM] [Warning] lambda_l2 is set=6.16117397445014, reg_lambda=0.0 will be ignored. Current value: lambda_l2=6.16117397445014\n",
      "[LightGBM] [Warning] bagging_fraction is set=0.20643329809512184, subsample=1.0 will be ignored. Current value: bagging_fraction=0.20643329809512184\n",
      "[LightGBM] [Warning] Unknown parameter: tree_method\n",
      "[LightGBM] [Warning] lambda_l1 is set=0.4659006284280162, reg_alpha=0.0 will be ignored. Current value: lambda_l1=0.4659006284280162\n",
      "[LightGBM] [Warning] feature_fraction is set=0.5416006525506938, colsample_bytree=1.0 will be ignored. Current value: feature_fraction=0.5416006525506938\n",
      "[LightGBM] [Warning] lambda_l2 is set=6.16117397445014, reg_lambda=0.0 will be ignored. Current value: lambda_l2=6.16117397445014\n",
      "[LightGBM] [Warning] bagging_fraction is set=0.20643329809512184, subsample=1.0 will be ignored. Current value: bagging_fraction=0.20643329809512184\n"
     ]
    },
    {
     "name": "stderr",
     "output_type": "stream",
     "text": [
      "\u001b[32m[I 2023-02-14 23:00:19,027]\u001b[0m Trial 9 finished with value: 0.8895333017664454 and parameters: {'n_estimators': 5155, 'learning_rate': 0.1350832316126687, 'max_depth': 5, 'lambda_l1': 0.4659006284280162, 'lambda_l2': 6.16117397445014, 'num_leaves': 19, 'bagging_fraction': 0.20643329809512184, 'feature_fraction': 0.5416006525506938}. Best is trial 1 with value: 0.898705572547707.\u001b[0m\n"
     ]
    },
    {
     "name": "stdout",
     "output_type": "stream",
     "text": [
      "[LightGBM] [Warning] Unknown parameter: tree_method\n",
      "[LightGBM] [Warning] lambda_l1 is set=7.416300966704149, reg_alpha=0.0 will be ignored. Current value: lambda_l1=7.416300966704149\n",
      "[LightGBM] [Warning] feature_fraction is set=0.8949556290099472, colsample_bytree=1.0 will be ignored. Current value: feature_fraction=0.8949556290099472\n",
      "[LightGBM] [Warning] lambda_l2 is set=1.0126727771887993, reg_lambda=0.0 will be ignored. Current value: lambda_l2=1.0126727771887993\n",
      "[LightGBM] [Warning] bagging_fraction is set=0.8844516037733474, subsample=1.0 will be ignored. Current value: bagging_fraction=0.8844516037733474\n",
      "[LightGBM] [Warning] Unknown parameter: tree_method\n",
      "[LightGBM] [Warning] lambda_l1 is set=7.416300966704149, reg_alpha=0.0 will be ignored. Current value: lambda_l1=7.416300966704149\n",
      "[LightGBM] [Warning] feature_fraction is set=0.8949556290099472, colsample_bytree=1.0 will be ignored. Current value: feature_fraction=0.8949556290099472\n",
      "[LightGBM] [Warning] lambda_l2 is set=1.0126727771887993, reg_lambda=0.0 will be ignored. Current value: lambda_l2=1.0126727771887993\n",
      "[LightGBM] [Warning] bagging_fraction is set=0.8844516037733474, subsample=1.0 will be ignored. Current value: bagging_fraction=0.8844516037733474\n",
      "[LightGBM] [Warning] Unknown parameter: tree_method\n",
      "[LightGBM] [Warning] lambda_l1 is set=7.416300966704149, reg_alpha=0.0 will be ignored. Current value: lambda_l1=7.416300966704149\n",
      "[LightGBM] [Warning] feature_fraction is set=0.8949556290099472, colsample_bytree=1.0 will be ignored. Current value: feature_fraction=0.8949556290099472\n",
      "[LightGBM] [Warning] lambda_l2 is set=1.0126727771887993, reg_lambda=0.0 will be ignored. Current value: lambda_l2=1.0126727771887993\n",
      "[LightGBM] [Warning] bagging_fraction is set=0.8844516037733474, subsample=1.0 will be ignored. Current value: bagging_fraction=0.8844516037733474\n",
      "[LightGBM] [Warning] Unknown parameter: tree_method\n",
      "[LightGBM] [Warning] lambda_l1 is set=7.416300966704149, reg_alpha=0.0 will be ignored. Current value: lambda_l1=7.416300966704149\n",
      "[LightGBM] [Warning] feature_fraction is set=0.8949556290099472, colsample_bytree=1.0 will be ignored. Current value: feature_fraction=0.8949556290099472\n",
      "[LightGBM] [Warning] lambda_l2 is set=1.0126727771887993, reg_lambda=0.0 will be ignored. Current value: lambda_l2=1.0126727771887993\n",
      "[LightGBM] [Warning] bagging_fraction is set=0.8844516037733474, subsample=1.0 will be ignored. Current value: bagging_fraction=0.8844516037733474\n",
      "[LightGBM] [Warning] Unknown parameter: tree_method\n",
      "[LightGBM] [Warning] lambda_l1 is set=7.416300966704149, reg_alpha=0.0 will be ignored. Current value: lambda_l1=7.416300966704149\n",
      "[LightGBM] [Warning] feature_fraction is set=0.8949556290099472, colsample_bytree=1.0 will be ignored. Current value: feature_fraction=0.8949556290099472\n",
      "[LightGBM] [Warning] lambda_l2 is set=1.0126727771887993, reg_lambda=0.0 will be ignored. Current value: lambda_l2=1.0126727771887993\n",
      "[LightGBM] [Warning] bagging_fraction is set=0.8844516037733474, subsample=1.0 will be ignored. Current value: bagging_fraction=0.8844516037733474\n"
     ]
    },
    {
     "name": "stderr",
     "output_type": "stream",
     "text": [
      "\u001b[32m[I 2023-02-14 23:00:35,489]\u001b[0m Trial 10 finished with value: 0.8987511713752865 and parameters: {'n_estimators': 6661, 'learning_rate': 0.11467659737957005, 'max_depth': 12, 'lambda_l1': 7.416300966704149, 'lambda_l2': 1.0126727771887993, 'num_leaves': 29, 'bagging_fraction': 0.8844516037733474, 'feature_fraction': 0.8949556290099472}. Best is trial 10 with value: 0.8987511713752865.\u001b[0m\n"
     ]
    },
    {
     "name": "stdout",
     "output_type": "stream",
     "text": [
      "[LightGBM] [Warning] Unknown parameter: tree_method\n",
      "[LightGBM] [Warning] lambda_l1 is set=9.481627325781393, reg_alpha=0.0 will be ignored. Current value: lambda_l1=9.481627325781393\n",
      "[LightGBM] [Warning] feature_fraction is set=0.880404340935707, colsample_bytree=1.0 will be ignored. Current value: feature_fraction=0.880404340935707\n",
      "[LightGBM] [Warning] lambda_l2 is set=0.976125226538002, reg_lambda=0.0 will be ignored. Current value: lambda_l2=0.976125226538002\n",
      "[LightGBM] [Warning] bagging_fraction is set=0.8951224993235771, subsample=1.0 will be ignored. Current value: bagging_fraction=0.8951224993235771\n",
      "[LightGBM] [Warning] Unknown parameter: tree_method\n",
      "[LightGBM] [Warning] lambda_l1 is set=9.481627325781393, reg_alpha=0.0 will be ignored. Current value: lambda_l1=9.481627325781393\n",
      "[LightGBM] [Warning] feature_fraction is set=0.880404340935707, colsample_bytree=1.0 will be ignored. Current value: feature_fraction=0.880404340935707\n",
      "[LightGBM] [Warning] lambda_l2 is set=0.976125226538002, reg_lambda=0.0 will be ignored. Current value: lambda_l2=0.976125226538002\n",
      "[LightGBM] [Warning] bagging_fraction is set=0.8951224993235771, subsample=1.0 will be ignored. Current value: bagging_fraction=0.8951224993235771\n",
      "[LightGBM] [Warning] Unknown parameter: tree_method\n",
      "[LightGBM] [Warning] lambda_l1 is set=9.481627325781393, reg_alpha=0.0 will be ignored. Current value: lambda_l1=9.481627325781393\n",
      "[LightGBM] [Warning] feature_fraction is set=0.880404340935707, colsample_bytree=1.0 will be ignored. Current value: feature_fraction=0.880404340935707\n",
      "[LightGBM] [Warning] lambda_l2 is set=0.976125226538002, reg_lambda=0.0 will be ignored. Current value: lambda_l2=0.976125226538002\n",
      "[LightGBM] [Warning] bagging_fraction is set=0.8951224993235771, subsample=1.0 will be ignored. Current value: bagging_fraction=0.8951224993235771\n",
      "[LightGBM] [Warning] Unknown parameter: tree_method\n",
      "[LightGBM] [Warning] lambda_l1 is set=9.481627325781393, reg_alpha=0.0 will be ignored. Current value: lambda_l1=9.481627325781393\n",
      "[LightGBM] [Warning] feature_fraction is set=0.880404340935707, colsample_bytree=1.0 will be ignored. Current value: feature_fraction=0.880404340935707\n",
      "[LightGBM] [Warning] lambda_l2 is set=0.976125226538002, reg_lambda=0.0 will be ignored. Current value: lambda_l2=0.976125226538002\n",
      "[LightGBM] [Warning] bagging_fraction is set=0.8951224993235771, subsample=1.0 will be ignored. Current value: bagging_fraction=0.8951224993235771\n",
      "[LightGBM] [Warning] Unknown parameter: tree_method\n",
      "[LightGBM] [Warning] lambda_l1 is set=9.481627325781393, reg_alpha=0.0 will be ignored. Current value: lambda_l1=9.481627325781393\n",
      "[LightGBM] [Warning] feature_fraction is set=0.880404340935707, colsample_bytree=1.0 will be ignored. Current value: feature_fraction=0.880404340935707\n",
      "[LightGBM] [Warning] lambda_l2 is set=0.976125226538002, reg_lambda=0.0 will be ignored. Current value: lambda_l2=0.976125226538002\n",
      "[LightGBM] [Warning] bagging_fraction is set=0.8951224993235771, subsample=1.0 will be ignored. Current value: bagging_fraction=0.8951224993235771\n"
     ]
    },
    {
     "name": "stderr",
     "output_type": "stream",
     "text": [
      "\u001b[32m[I 2023-02-14 23:00:51,436]\u001b[0m Trial 11 finished with value: 0.8979641394889704 and parameters: {'n_estimators': 6720, 'learning_rate': 0.15211709319998412, 'max_depth': 11, 'lambda_l1': 9.481627325781393, 'lambda_l2': 0.976125226538002, 'num_leaves': 34, 'bagging_fraction': 0.8951224993235771, 'feature_fraction': 0.880404340935707}. Best is trial 10 with value: 0.8987511713752865.\u001b[0m\n"
     ]
    },
    {
     "name": "stdout",
     "output_type": "stream",
     "text": [
      "[LightGBM] [Warning] Unknown parameter: tree_method\n",
      "[LightGBM] [Warning] lambda_l1 is set=9.864035446898802, reg_alpha=0.0 will be ignored. Current value: lambda_l1=9.864035446898802\n",
      "[LightGBM] [Warning] feature_fraction is set=0.7746434547791043, colsample_bytree=1.0 will be ignored. Current value: feature_fraction=0.7746434547791043\n",
      "[LightGBM] [Warning] lambda_l2 is set=0.4542360924433439, reg_lambda=0.0 will be ignored. Current value: lambda_l2=0.4542360924433439\n",
      "[LightGBM] [Warning] bagging_fraction is set=0.6963666001644209, subsample=1.0 will be ignored. Current value: bagging_fraction=0.6963666001644209\n",
      "[LightGBM] [Warning] Unknown parameter: tree_method\n",
      "[LightGBM] [Warning] lambda_l1 is set=9.864035446898802, reg_alpha=0.0 will be ignored. Current value: lambda_l1=9.864035446898802\n",
      "[LightGBM] [Warning] feature_fraction is set=0.7746434547791043, colsample_bytree=1.0 will be ignored. Current value: feature_fraction=0.7746434547791043\n",
      "[LightGBM] [Warning] lambda_l2 is set=0.4542360924433439, reg_lambda=0.0 will be ignored. Current value: lambda_l2=0.4542360924433439\n",
      "[LightGBM] [Warning] bagging_fraction is set=0.6963666001644209, subsample=1.0 will be ignored. Current value: bagging_fraction=0.6963666001644209\n",
      "[LightGBM] [Warning] Unknown parameter: tree_method\n",
      "[LightGBM] [Warning] lambda_l1 is set=9.864035446898802, reg_alpha=0.0 will be ignored. Current value: lambda_l1=9.864035446898802\n",
      "[LightGBM] [Warning] feature_fraction is set=0.7746434547791043, colsample_bytree=1.0 will be ignored. Current value: feature_fraction=0.7746434547791043\n",
      "[LightGBM] [Warning] lambda_l2 is set=0.4542360924433439, reg_lambda=0.0 will be ignored. Current value: lambda_l2=0.4542360924433439\n",
      "[LightGBM] [Warning] bagging_fraction is set=0.6963666001644209, subsample=1.0 will be ignored. Current value: bagging_fraction=0.6963666001644209\n",
      "[LightGBM] [Warning] Unknown parameter: tree_method\n",
      "[LightGBM] [Warning] lambda_l1 is set=9.864035446898802, reg_alpha=0.0 will be ignored. Current value: lambda_l1=9.864035446898802\n",
      "[LightGBM] [Warning] feature_fraction is set=0.7746434547791043, colsample_bytree=1.0 will be ignored. Current value: feature_fraction=0.7746434547791043\n",
      "[LightGBM] [Warning] lambda_l2 is set=0.4542360924433439, reg_lambda=0.0 will be ignored. Current value: lambda_l2=0.4542360924433439\n",
      "[LightGBM] [Warning] bagging_fraction is set=0.6963666001644209, subsample=1.0 will be ignored. Current value: bagging_fraction=0.6963666001644209\n",
      "[LightGBM] [Warning] Unknown parameter: tree_method\n",
      "[LightGBM] [Warning] lambda_l1 is set=9.864035446898802, reg_alpha=0.0 will be ignored. Current value: lambda_l1=9.864035446898802\n",
      "[LightGBM] [Warning] feature_fraction is set=0.7746434547791043, colsample_bytree=1.0 will be ignored. Current value: feature_fraction=0.7746434547791043\n",
      "[LightGBM] [Warning] lambda_l2 is set=0.4542360924433439, reg_lambda=0.0 will be ignored. Current value: lambda_l2=0.4542360924433439\n",
      "[LightGBM] [Warning] bagging_fraction is set=0.6963666001644209, subsample=1.0 will be ignored. Current value: bagging_fraction=0.6963666001644209\n"
     ]
    },
    {
     "name": "stderr",
     "output_type": "stream",
     "text": [
      "\u001b[32m[I 2023-02-14 23:01:05,586]\u001b[0m Trial 12 finished with value: 0.8915367387755262 and parameters: {'n_estimators': 6555, 'learning_rate': 0.9358396576799781, 'max_depth': 12, 'lambda_l1': 9.864035446898802, 'lambda_l2': 0.4542360924433439, 'num_leaves': 75, 'bagging_fraction': 0.6963666001644209, 'feature_fraction': 0.7746434547791043}. Best is trial 10 with value: 0.8987511713752865.\u001b[0m\n"
     ]
    },
    {
     "name": "stdout",
     "output_type": "stream",
     "text": [
      "[LightGBM] [Warning] Unknown parameter: tree_method\n",
      "[LightGBM] [Warning] lambda_l1 is set=2.518946272744177, reg_alpha=0.0 will be ignored. Current value: lambda_l1=2.518946272744177\n",
      "[LightGBM] [Warning] feature_fraction is set=0.7751563432760072, colsample_bytree=1.0 will be ignored. Current value: feature_fraction=0.7751563432760072\n",
      "[LightGBM] [Warning] lambda_l2 is set=1.5400540166897876, reg_lambda=0.0 will be ignored. Current value: lambda_l2=1.5400540166897876\n",
      "[LightGBM] [Warning] bagging_fraction is set=0.8986160611269951, subsample=1.0 will be ignored. Current value: bagging_fraction=0.8986160611269951\n",
      "[LightGBM] [Warning] Unknown parameter: tree_method\n",
      "[LightGBM] [Warning] lambda_l1 is set=2.518946272744177, reg_alpha=0.0 will be ignored. Current value: lambda_l1=2.518946272744177\n",
      "[LightGBM] [Warning] feature_fraction is set=0.7751563432760072, colsample_bytree=1.0 will be ignored. Current value: feature_fraction=0.7751563432760072\n",
      "[LightGBM] [Warning] lambda_l2 is set=1.5400540166897876, reg_lambda=0.0 will be ignored. Current value: lambda_l2=1.5400540166897876\n",
      "[LightGBM] [Warning] bagging_fraction is set=0.8986160611269951, subsample=1.0 will be ignored. Current value: bagging_fraction=0.8986160611269951\n",
      "[LightGBM] [Warning] Unknown parameter: tree_method\n",
      "[LightGBM] [Warning] lambda_l1 is set=2.518946272744177, reg_alpha=0.0 will be ignored. Current value: lambda_l1=2.518946272744177\n",
      "[LightGBM] [Warning] feature_fraction is set=0.7751563432760072, colsample_bytree=1.0 will be ignored. Current value: feature_fraction=0.7751563432760072\n",
      "[LightGBM] [Warning] lambda_l2 is set=1.5400540166897876, reg_lambda=0.0 will be ignored. Current value: lambda_l2=1.5400540166897876\n",
      "[LightGBM] [Warning] bagging_fraction is set=0.8986160611269951, subsample=1.0 will be ignored. Current value: bagging_fraction=0.8986160611269951\n",
      "[LightGBM] [Warning] Unknown parameter: tree_method\n",
      "[LightGBM] [Warning] lambda_l1 is set=2.518946272744177, reg_alpha=0.0 will be ignored. Current value: lambda_l1=2.518946272744177\n",
      "[LightGBM] [Warning] feature_fraction is set=0.7751563432760072, colsample_bytree=1.0 will be ignored. Current value: feature_fraction=0.7751563432760072\n",
      "[LightGBM] [Warning] lambda_l2 is set=1.5400540166897876, reg_lambda=0.0 will be ignored. Current value: lambda_l2=1.5400540166897876\n",
      "[LightGBM] [Warning] bagging_fraction is set=0.8986160611269951, subsample=1.0 will be ignored. Current value: bagging_fraction=0.8986160611269951\n",
      "[LightGBM] [Warning] Unknown parameter: tree_method\n",
      "[LightGBM] [Warning] lambda_l1 is set=2.518946272744177, reg_alpha=0.0 will be ignored. Current value: lambda_l1=2.518946272744177\n",
      "[LightGBM] [Warning] feature_fraction is set=0.7751563432760072, colsample_bytree=1.0 will be ignored. Current value: feature_fraction=0.7751563432760072\n",
      "[LightGBM] [Warning] lambda_l2 is set=1.5400540166897876, reg_lambda=0.0 will be ignored. Current value: lambda_l2=1.5400540166897876\n",
      "[LightGBM] [Warning] bagging_fraction is set=0.8986160611269951, subsample=1.0 will be ignored. Current value: bagging_fraction=0.8986160611269951\n"
     ]
    },
    {
     "name": "stderr",
     "output_type": "stream",
     "text": [
      "\u001b[32m[I 2023-02-14 23:01:39,277]\u001b[0m Trial 13 finished with value: 0.8942596643348123 and parameters: {'n_estimators': 9857, 'learning_rate': 0.08517469344974327, 'max_depth': 9, 'lambda_l1': 2.518946272744177, 'lambda_l2': 1.5400540166897876, 'num_leaves': 33, 'bagging_fraction': 0.8986160611269951, 'feature_fraction': 0.7751563432760072}. Best is trial 10 with value: 0.8987511713752865.\u001b[0m\n"
     ]
    },
    {
     "name": "stdout",
     "output_type": "stream",
     "text": [
      "[LightGBM] [Warning] Unknown parameter: tree_method\n",
      "[LightGBM] [Warning] lambda_l1 is set=1.4957215132516608, reg_alpha=0.0 will be ignored. Current value: lambda_l1=1.4957215132516608\n",
      "[LightGBM] [Warning] feature_fraction is set=0.8877628363667772, colsample_bytree=1.0 will be ignored. Current value: feature_fraction=0.8877628363667772\n",
      "[LightGBM] [Warning] lambda_l2 is set=0.20051561033148457, reg_lambda=0.0 will be ignored. Current value: lambda_l2=0.20051561033148457\n",
      "[LightGBM] [Warning] bagging_fraction is set=0.4341366291796509, subsample=1.0 will be ignored. Current value: bagging_fraction=0.4341366291796509\n",
      "[LightGBM] [Warning] Unknown parameter: tree_method\n",
      "[LightGBM] [Warning] lambda_l1 is set=1.4957215132516608, reg_alpha=0.0 will be ignored. Current value: lambda_l1=1.4957215132516608\n",
      "[LightGBM] [Warning] feature_fraction is set=0.8877628363667772, colsample_bytree=1.0 will be ignored. Current value: feature_fraction=0.8877628363667772\n",
      "[LightGBM] [Warning] lambda_l2 is set=0.20051561033148457, reg_lambda=0.0 will be ignored. Current value: lambda_l2=0.20051561033148457\n",
      "[LightGBM] [Warning] bagging_fraction is set=0.4341366291796509, subsample=1.0 will be ignored. Current value: bagging_fraction=0.4341366291796509\n",
      "[LightGBM] [Warning] Unknown parameter: tree_method\n",
      "[LightGBM] [Warning] lambda_l1 is set=1.4957215132516608, reg_alpha=0.0 will be ignored. Current value: lambda_l1=1.4957215132516608\n",
      "[LightGBM] [Warning] feature_fraction is set=0.8877628363667772, colsample_bytree=1.0 will be ignored. Current value: feature_fraction=0.8877628363667772\n",
      "[LightGBM] [Warning] lambda_l2 is set=0.20051561033148457, reg_lambda=0.0 will be ignored. Current value: lambda_l2=0.20051561033148457\n",
      "[LightGBM] [Warning] bagging_fraction is set=0.4341366291796509, subsample=1.0 will be ignored. Current value: bagging_fraction=0.4341366291796509\n",
      "[LightGBM] [Warning] Unknown parameter: tree_method\n",
      "[LightGBM] [Warning] lambda_l1 is set=1.4957215132516608, reg_alpha=0.0 will be ignored. Current value: lambda_l1=1.4957215132516608\n",
      "[LightGBM] [Warning] feature_fraction is set=0.8877628363667772, colsample_bytree=1.0 will be ignored. Current value: feature_fraction=0.8877628363667772\n",
      "[LightGBM] [Warning] lambda_l2 is set=0.20051561033148457, reg_lambda=0.0 will be ignored. Current value: lambda_l2=0.20051561033148457\n",
      "[LightGBM] [Warning] bagging_fraction is set=0.4341366291796509, subsample=1.0 will be ignored. Current value: bagging_fraction=0.4341366291796509\n",
      "[LightGBM] [Warning] Unknown parameter: tree_method\n",
      "[LightGBM] [Warning] lambda_l1 is set=1.4957215132516608, reg_alpha=0.0 will be ignored. Current value: lambda_l1=1.4957215132516608\n",
      "[LightGBM] [Warning] feature_fraction is set=0.8877628363667772, colsample_bytree=1.0 will be ignored. Current value: feature_fraction=0.8877628363667772\n",
      "[LightGBM] [Warning] lambda_l2 is set=0.20051561033148457, reg_lambda=0.0 will be ignored. Current value: lambda_l2=0.20051561033148457\n",
      "[LightGBM] [Warning] bagging_fraction is set=0.4341366291796509, subsample=1.0 will be ignored. Current value: bagging_fraction=0.4341366291796509\n"
     ]
    },
    {
     "name": "stderr",
     "output_type": "stream",
     "text": [
      "\u001b[32m[I 2023-02-14 23:03:06,732]\u001b[0m Trial 14 finished with value: 0.894683703407343 and parameters: {'n_estimators': 5512, 'learning_rate': 0.001101224888676371, 'max_depth': 9, 'lambda_l1': 1.4957215132516608, 'lambda_l2': 0.20051561033148457, 'num_leaves': 73, 'bagging_fraction': 0.4341366291796509, 'feature_fraction': 0.8877628363667772}. Best is trial 10 with value: 0.8987511713752865.\u001b[0m\n"
     ]
    },
    {
     "name": "stdout",
     "output_type": "stream",
     "text": [
      "[LightGBM] [Warning] Unknown parameter: tree_method\n",
      "[LightGBM] [Warning] lambda_l1 is set=7.126190710073869, reg_alpha=0.0 will be ignored. Current value: lambda_l1=7.126190710073869\n",
      "[LightGBM] [Warning] feature_fraction is set=0.7149477613197457, colsample_bytree=1.0 will be ignored. Current value: feature_fraction=0.7149477613197457\n",
      "[LightGBM] [Warning] lambda_l2 is set=0.1375093984529133, reg_lambda=0.0 will be ignored. Current value: lambda_l2=0.1375093984529133\n",
      "[LightGBM] [Warning] bagging_fraction is set=0.7889131707401064, subsample=1.0 will be ignored. Current value: bagging_fraction=0.7889131707401064\n",
      "[LightGBM] [Warning] Unknown parameter: tree_method\n",
      "[LightGBM] [Warning] lambda_l1 is set=7.126190710073869, reg_alpha=0.0 will be ignored. Current value: lambda_l1=7.126190710073869\n",
      "[LightGBM] [Warning] feature_fraction is set=0.7149477613197457, colsample_bytree=1.0 will be ignored. Current value: feature_fraction=0.7149477613197457\n",
      "[LightGBM] [Warning] lambda_l2 is set=0.1375093984529133, reg_lambda=0.0 will be ignored. Current value: lambda_l2=0.1375093984529133\n",
      "[LightGBM] [Warning] bagging_fraction is set=0.7889131707401064, subsample=1.0 will be ignored. Current value: bagging_fraction=0.7889131707401064\n",
      "[LightGBM] [Warning] Unknown parameter: tree_method\n",
      "[LightGBM] [Warning] lambda_l1 is set=7.126190710073869, reg_alpha=0.0 will be ignored. Current value: lambda_l1=7.126190710073869\n",
      "[LightGBM] [Warning] feature_fraction is set=0.7149477613197457, colsample_bytree=1.0 will be ignored. Current value: feature_fraction=0.7149477613197457\n",
      "[LightGBM] [Warning] lambda_l2 is set=0.1375093984529133, reg_lambda=0.0 will be ignored. Current value: lambda_l2=0.1375093984529133\n",
      "[LightGBM] [Warning] bagging_fraction is set=0.7889131707401064, subsample=1.0 will be ignored. Current value: bagging_fraction=0.7889131707401064\n",
      "[LightGBM] [Warning] Unknown parameter: tree_method\n",
      "[LightGBM] [Warning] lambda_l1 is set=7.126190710073869, reg_alpha=0.0 will be ignored. Current value: lambda_l1=7.126190710073869\n",
      "[LightGBM] [Warning] feature_fraction is set=0.7149477613197457, colsample_bytree=1.0 will be ignored. Current value: feature_fraction=0.7149477613197457\n",
      "[LightGBM] [Warning] lambda_l2 is set=0.1375093984529133, reg_lambda=0.0 will be ignored. Current value: lambda_l2=0.1375093984529133\n",
      "[LightGBM] [Warning] bagging_fraction is set=0.7889131707401064, subsample=1.0 will be ignored. Current value: bagging_fraction=0.7889131707401064\n",
      "[LightGBM] [Warning] Unknown parameter: tree_method\n",
      "[LightGBM] [Warning] lambda_l1 is set=7.126190710073869, reg_alpha=0.0 will be ignored. Current value: lambda_l1=7.126190710073869\n",
      "[LightGBM] [Warning] feature_fraction is set=0.7149477613197457, colsample_bytree=1.0 will be ignored. Current value: feature_fraction=0.7149477613197457\n",
      "[LightGBM] [Warning] lambda_l2 is set=0.1375093984529133, reg_lambda=0.0 will be ignored. Current value: lambda_l2=0.1375093984529133\n",
      "[LightGBM] [Warning] bagging_fraction is set=0.7889131707401064, subsample=1.0 will be ignored. Current value: bagging_fraction=0.7889131707401064\n"
     ]
    },
    {
     "name": "stderr",
     "output_type": "stream",
     "text": [
      "\u001b[32m[I 2023-02-14 23:03:19,780]\u001b[0m Trial 15 finished with value: 0.8933782013953134 and parameters: {'n_estimators': 4024, 'learning_rate': 0.06948568871376368, 'max_depth': 7, 'lambda_l1': 7.126190710073869, 'lambda_l2': 0.1375093984529133, 'num_leaves': 3, 'bagging_fraction': 0.7889131707401064, 'feature_fraction': 0.7149477613197457}. Best is trial 10 with value: 0.8987511713752865.\u001b[0m\n"
     ]
    },
    {
     "name": "stdout",
     "output_type": "stream",
     "text": [
      "[LightGBM] [Warning] Unknown parameter: tree_method\n",
      "[LightGBM] [Warning] lambda_l1 is set=4.951988700566537, reg_alpha=0.0 will be ignored. Current value: lambda_l1=4.951988700566537\n",
      "[LightGBM] [Warning] feature_fraction is set=0.5809521316550553, colsample_bytree=1.0 will be ignored. Current value: feature_fraction=0.5809521316550553\n",
      "[LightGBM] [Warning] lambda_l2 is set=0.8216587986341938, reg_lambda=0.0 will be ignored. Current value: lambda_l2=0.8216587986341938\n",
      "[LightGBM] [Warning] bagging_fraction is set=0.6296901504166379, subsample=1.0 will be ignored. Current value: bagging_fraction=0.6296901504166379\n",
      "[LightGBM] [Warning] Unknown parameter: tree_method\n",
      "[LightGBM] [Warning] lambda_l1 is set=4.951988700566537, reg_alpha=0.0 will be ignored. Current value: lambda_l1=4.951988700566537\n",
      "[LightGBM] [Warning] feature_fraction is set=0.5809521316550553, colsample_bytree=1.0 will be ignored. Current value: feature_fraction=0.5809521316550553\n",
      "[LightGBM] [Warning] lambda_l2 is set=0.8216587986341938, reg_lambda=0.0 will be ignored. Current value: lambda_l2=0.8216587986341938\n",
      "[LightGBM] [Warning] bagging_fraction is set=0.6296901504166379, subsample=1.0 will be ignored. Current value: bagging_fraction=0.6296901504166379\n",
      "[LightGBM] [Warning] Unknown parameter: tree_method\n",
      "[LightGBM] [Warning] lambda_l1 is set=4.951988700566537, reg_alpha=0.0 will be ignored. Current value: lambda_l1=4.951988700566537\n",
      "[LightGBM] [Warning] feature_fraction is set=0.5809521316550553, colsample_bytree=1.0 will be ignored. Current value: feature_fraction=0.5809521316550553\n",
      "[LightGBM] [Warning] lambda_l2 is set=0.8216587986341938, reg_lambda=0.0 will be ignored. Current value: lambda_l2=0.8216587986341938\n",
      "[LightGBM] [Warning] bagging_fraction is set=0.6296901504166379, subsample=1.0 will be ignored. Current value: bagging_fraction=0.6296901504166379\n",
      "[LightGBM] [Warning] Unknown parameter: tree_method\n",
      "[LightGBM] [Warning] lambda_l1 is set=4.951988700566537, reg_alpha=0.0 will be ignored. Current value: lambda_l1=4.951988700566537\n",
      "[LightGBM] [Warning] feature_fraction is set=0.5809521316550553, colsample_bytree=1.0 will be ignored. Current value: feature_fraction=0.5809521316550553\n",
      "[LightGBM] [Warning] lambda_l2 is set=0.8216587986341938, reg_lambda=0.0 will be ignored. Current value: lambda_l2=0.8216587986341938\n",
      "[LightGBM] [Warning] bagging_fraction is set=0.6296901504166379, subsample=1.0 will be ignored. Current value: bagging_fraction=0.6296901504166379\n",
      "[LightGBM] [Warning] Unknown parameter: tree_method\n",
      "[LightGBM] [Warning] lambda_l1 is set=4.951988700566537, reg_alpha=0.0 will be ignored. Current value: lambda_l1=4.951988700566537\n",
      "[LightGBM] [Warning] feature_fraction is set=0.5809521316550553, colsample_bytree=1.0 will be ignored. Current value: feature_fraction=0.5809521316550553\n",
      "[LightGBM] [Warning] lambda_l2 is set=0.8216587986341938, reg_lambda=0.0 will be ignored. Current value: lambda_l2=0.8216587986341938\n",
      "[LightGBM] [Warning] bagging_fraction is set=0.6296901504166379, subsample=1.0 will be ignored. Current value: bagging_fraction=0.6296901504166379\n"
     ]
    },
    {
     "name": "stderr",
     "output_type": "stream",
     "text": [
      "\u001b[32m[I 2023-02-14 23:04:17,278]\u001b[0m Trial 16 finished with value: 0.8998153502693265 and parameters: {'n_estimators': 6701, 'learning_rate': 0.009338213021794817, 'max_depth': 10, 'lambda_l1': 4.951988700566537, 'lambda_l2': 0.8216587986341938, 'num_leaves': 28, 'bagging_fraction': 0.6296901504166379, 'feature_fraction': 0.5809521316550553}. Best is trial 16 with value: 0.8998153502693265.\u001b[0m\n"
     ]
    },
    {
     "name": "stdout",
     "output_type": "stream",
     "text": [
      "[LightGBM] [Warning] Unknown parameter: tree_method\n",
      "[LightGBM] [Warning] lambda_l1 is set=1.1042917737391007, reg_alpha=0.0 will be ignored. Current value: lambda_l1=1.1042917737391007\n",
      "[LightGBM] [Warning] feature_fraction is set=0.561149145046229, colsample_bytree=1.0 will be ignored. Current value: feature_fraction=0.561149145046229\n",
      "[LightGBM] [Warning] lambda_l2 is set=0.6783776730176486, reg_lambda=0.0 will be ignored. Current value: lambda_l2=0.6783776730176486\n",
      "[LightGBM] [Warning] bagging_fraction is set=0.649663325932019, subsample=1.0 will be ignored. Current value: bagging_fraction=0.649663325932019\n",
      "[LightGBM] [Warning] Unknown parameter: tree_method\n",
      "[LightGBM] [Warning] lambda_l1 is set=1.1042917737391007, reg_alpha=0.0 will be ignored. Current value: lambda_l1=1.1042917737391007\n",
      "[LightGBM] [Warning] feature_fraction is set=0.561149145046229, colsample_bytree=1.0 will be ignored. Current value: feature_fraction=0.561149145046229\n",
      "[LightGBM] [Warning] lambda_l2 is set=0.6783776730176486, reg_lambda=0.0 will be ignored. Current value: lambda_l2=0.6783776730176486\n",
      "[LightGBM] [Warning] bagging_fraction is set=0.649663325932019, subsample=1.0 will be ignored. Current value: bagging_fraction=0.649663325932019\n",
      "[LightGBM] [Warning] Unknown parameter: tree_method\n",
      "[LightGBM] [Warning] lambda_l1 is set=1.1042917737391007, reg_alpha=0.0 will be ignored. Current value: lambda_l1=1.1042917737391007\n",
      "[LightGBM] [Warning] feature_fraction is set=0.561149145046229, colsample_bytree=1.0 will be ignored. Current value: feature_fraction=0.561149145046229\n",
      "[LightGBM] [Warning] lambda_l2 is set=0.6783776730176486, reg_lambda=0.0 will be ignored. Current value: lambda_l2=0.6783776730176486\n",
      "[LightGBM] [Warning] bagging_fraction is set=0.649663325932019, subsample=1.0 will be ignored. Current value: bagging_fraction=0.649663325932019\n",
      "[LightGBM] [Warning] Unknown parameter: tree_method\n",
      "[LightGBM] [Warning] lambda_l1 is set=1.1042917737391007, reg_alpha=0.0 will be ignored. Current value: lambda_l1=1.1042917737391007\n",
      "[LightGBM] [Warning] feature_fraction is set=0.561149145046229, colsample_bytree=1.0 will be ignored. Current value: feature_fraction=0.561149145046229\n",
      "[LightGBM] [Warning] lambda_l2 is set=0.6783776730176486, reg_lambda=0.0 will be ignored. Current value: lambda_l2=0.6783776730176486\n",
      "[LightGBM] [Warning] bagging_fraction is set=0.649663325932019, subsample=1.0 will be ignored. Current value: bagging_fraction=0.649663325932019\n",
      "[LightGBM] [Warning] Unknown parameter: tree_method\n",
      "[LightGBM] [Warning] lambda_l1 is set=1.1042917737391007, reg_alpha=0.0 will be ignored. Current value: lambda_l1=1.1042917737391007\n",
      "[LightGBM] [Warning] feature_fraction is set=0.561149145046229, colsample_bytree=1.0 will be ignored. Current value: feature_fraction=0.561149145046229\n",
      "[LightGBM] [Warning] lambda_l2 is set=0.6783776730176486, reg_lambda=0.0 will be ignored. Current value: lambda_l2=0.6783776730176486\n",
      "[LightGBM] [Warning] bagging_fraction is set=0.649663325932019, subsample=1.0 will be ignored. Current value: bagging_fraction=0.649663325932019\n"
     ]
    },
    {
     "name": "stderr",
     "output_type": "stream",
     "text": [
      "\u001b[32m[I 2023-02-14 23:05:17,261]\u001b[0m Trial 17 finished with value: 0.8998217479479139 and parameters: {'n_estimators': 7068, 'learning_rate': 0.010885424547969666, 'max_depth': 12, 'lambda_l1': 1.1042917737391007, 'lambda_l2': 0.6783776730176486, 'num_leaves': 24, 'bagging_fraction': 0.649663325932019, 'feature_fraction': 0.561149145046229}. Best is trial 17 with value: 0.8998217479479139.\u001b[0m\n"
     ]
    },
    {
     "name": "stdout",
     "output_type": "stream",
     "text": [
      "[LightGBM] [Warning] Unknown parameter: tree_method\n",
      "[LightGBM] [Warning] lambda_l1 is set=1.2185030034603348, reg_alpha=0.0 will be ignored. Current value: lambda_l1=1.2185030034603348\n",
      "[LightGBM] [Warning] feature_fraction is set=0.5452440168291733, colsample_bytree=1.0 will be ignored. Current value: feature_fraction=0.5452440168291733\n",
      "[LightGBM] [Warning] lambda_l2 is set=1.8144608820124146, reg_lambda=0.0 will be ignored. Current value: lambda_l2=1.8144608820124146\n",
      "[LightGBM] [Warning] bagging_fraction is set=0.6383698341881532, subsample=1.0 will be ignored. Current value: bagging_fraction=0.6383698341881532\n",
      "[LightGBM] [Warning] Unknown parameter: tree_method\n",
      "[LightGBM] [Warning] lambda_l1 is set=1.2185030034603348, reg_alpha=0.0 will be ignored. Current value: lambda_l1=1.2185030034603348\n",
      "[LightGBM] [Warning] feature_fraction is set=0.5452440168291733, colsample_bytree=1.0 will be ignored. Current value: feature_fraction=0.5452440168291733\n",
      "[LightGBM] [Warning] lambda_l2 is set=1.8144608820124146, reg_lambda=0.0 will be ignored. Current value: lambda_l2=1.8144608820124146\n",
      "[LightGBM] [Warning] bagging_fraction is set=0.6383698341881532, subsample=1.0 will be ignored. Current value: bagging_fraction=0.6383698341881532\n",
      "[LightGBM] [Warning] Unknown parameter: tree_method\n",
      "[LightGBM] [Warning] lambda_l1 is set=1.2185030034603348, reg_alpha=0.0 will be ignored. Current value: lambda_l1=1.2185030034603348\n",
      "[LightGBM] [Warning] feature_fraction is set=0.5452440168291733, colsample_bytree=1.0 will be ignored. Current value: feature_fraction=0.5452440168291733\n",
      "[LightGBM] [Warning] lambda_l2 is set=1.8144608820124146, reg_lambda=0.0 will be ignored. Current value: lambda_l2=1.8144608820124146\n",
      "[LightGBM] [Warning] bagging_fraction is set=0.6383698341881532, subsample=1.0 will be ignored. Current value: bagging_fraction=0.6383698341881532\n",
      "[LightGBM] [Warning] Unknown parameter: tree_method\n",
      "[LightGBM] [Warning] lambda_l1 is set=1.2185030034603348, reg_alpha=0.0 will be ignored. Current value: lambda_l1=1.2185030034603348\n",
      "[LightGBM] [Warning] feature_fraction is set=0.5452440168291733, colsample_bytree=1.0 will be ignored. Current value: feature_fraction=0.5452440168291733\n",
      "[LightGBM] [Warning] lambda_l2 is set=1.8144608820124146, reg_lambda=0.0 will be ignored. Current value: lambda_l2=1.8144608820124146\n",
      "[LightGBM] [Warning] bagging_fraction is set=0.6383698341881532, subsample=1.0 will be ignored. Current value: bagging_fraction=0.6383698341881532\n",
      "[LightGBM] [Warning] Unknown parameter: tree_method\n",
      "[LightGBM] [Warning] lambda_l1 is set=1.2185030034603348, reg_alpha=0.0 will be ignored. Current value: lambda_l1=1.2185030034603348\n",
      "[LightGBM] [Warning] feature_fraction is set=0.5452440168291733, colsample_bytree=1.0 will be ignored. Current value: feature_fraction=0.5452440168291733\n",
      "[LightGBM] [Warning] lambda_l2 is set=1.8144608820124146, reg_lambda=0.0 will be ignored. Current value: lambda_l2=1.8144608820124146\n",
      "[LightGBM] [Warning] bagging_fraction is set=0.6383698341881532, subsample=1.0 will be ignored. Current value: bagging_fraction=0.6383698341881532\n"
     ]
    },
    {
     "name": "stderr",
     "output_type": "stream",
     "text": [
      "\u001b[32m[I 2023-02-14 23:06:15,244]\u001b[0m Trial 18 finished with value: 0.9004299441816952 and parameters: {'n_estimators': 7880, 'learning_rate': 0.009689077948120357, 'max_depth': 10, 'lambda_l1': 1.2185030034603348, 'lambda_l2': 1.8144608820124146, 'num_leaves': 20, 'bagging_fraction': 0.6383698341881532, 'feature_fraction': 0.5452440168291733}. Best is trial 18 with value: 0.9004299441816952.\u001b[0m\n"
     ]
    },
    {
     "name": "stdout",
     "output_type": "stream",
     "text": [
      "[LightGBM] [Warning] Unknown parameter: tree_method\n",
      "[LightGBM] [Warning] lambda_l1 is set=1.0406766123732438, reg_alpha=0.0 will be ignored. Current value: lambda_l1=1.0406766123732438\n",
      "[LightGBM] [Warning] feature_fraction is set=0.5332885963178673, colsample_bytree=1.0 will be ignored. Current value: feature_fraction=0.5332885963178673\n",
      "[LightGBM] [Warning] lambda_l2 is set=2.13532359377773, reg_lambda=0.0 will be ignored. Current value: lambda_l2=2.13532359377773\n",
      "[LightGBM] [Warning] bagging_fraction is set=0.64270356167449, subsample=1.0 will be ignored. Current value: bagging_fraction=0.64270356167449\n",
      "[LightGBM] [Warning] Unknown parameter: tree_method\n",
      "[LightGBM] [Warning] lambda_l1 is set=1.0406766123732438, reg_alpha=0.0 will be ignored. Current value: lambda_l1=1.0406766123732438\n",
      "[LightGBM] [Warning] feature_fraction is set=0.5332885963178673, colsample_bytree=1.0 will be ignored. Current value: feature_fraction=0.5332885963178673\n",
      "[LightGBM] [Warning] lambda_l2 is set=2.13532359377773, reg_lambda=0.0 will be ignored. Current value: lambda_l2=2.13532359377773\n",
      "[LightGBM] [Warning] bagging_fraction is set=0.64270356167449, subsample=1.0 will be ignored. Current value: bagging_fraction=0.64270356167449\n",
      "[LightGBM] [Warning] Unknown parameter: tree_method\n",
      "[LightGBM] [Warning] lambda_l1 is set=1.0406766123732438, reg_alpha=0.0 will be ignored. Current value: lambda_l1=1.0406766123732438\n",
      "[LightGBM] [Warning] feature_fraction is set=0.5332885963178673, colsample_bytree=1.0 will be ignored. Current value: feature_fraction=0.5332885963178673\n",
      "[LightGBM] [Warning] lambda_l2 is set=2.13532359377773, reg_lambda=0.0 will be ignored. Current value: lambda_l2=2.13532359377773\n",
      "[LightGBM] [Warning] bagging_fraction is set=0.64270356167449, subsample=1.0 will be ignored. Current value: bagging_fraction=0.64270356167449\n",
      "[LightGBM] [Warning] Unknown parameter: tree_method\n",
      "[LightGBM] [Warning] lambda_l1 is set=1.0406766123732438, reg_alpha=0.0 will be ignored. Current value: lambda_l1=1.0406766123732438\n",
      "[LightGBM] [Warning] feature_fraction is set=0.5332885963178673, colsample_bytree=1.0 will be ignored. Current value: feature_fraction=0.5332885963178673\n",
      "[LightGBM] [Warning] lambda_l2 is set=2.13532359377773, reg_lambda=0.0 will be ignored. Current value: lambda_l2=2.13532359377773\n",
      "[LightGBM] [Warning] bagging_fraction is set=0.64270356167449, subsample=1.0 will be ignored. Current value: bagging_fraction=0.64270356167449\n",
      "[LightGBM] [Warning] Unknown parameter: tree_method\n",
      "[LightGBM] [Warning] lambda_l1 is set=1.0406766123732438, reg_alpha=0.0 will be ignored. Current value: lambda_l1=1.0406766123732438\n",
      "[LightGBM] [Warning] feature_fraction is set=0.5332885963178673, colsample_bytree=1.0 will be ignored. Current value: feature_fraction=0.5332885963178673\n",
      "[LightGBM] [Warning] lambda_l2 is set=2.13532359377773, reg_lambda=0.0 will be ignored. Current value: lambda_l2=2.13532359377773\n",
      "[LightGBM] [Warning] bagging_fraction is set=0.64270356167449, subsample=1.0 will be ignored. Current value: bagging_fraction=0.64270356167449\n"
     ]
    },
    {
     "name": "stderr",
     "output_type": "stream",
     "text": [
      "\u001b[32m[I 2023-02-14 23:07:07,106]\u001b[0m Trial 19 finished with value: 0.9003122537695406 and parameters: {'n_estimators': 7974, 'learning_rate': 0.009428714182884048, 'max_depth': 11, 'lambda_l1': 1.0406766123732438, 'lambda_l2': 2.13532359377773, 'num_leaves': 17, 'bagging_fraction': 0.64270356167449, 'feature_fraction': 0.5332885963178673}. Best is trial 18 with value: 0.9004299441816952.\u001b[0m\n"
     ]
    },
    {
     "name": "stdout",
     "output_type": "stream",
     "text": [
      "[LightGBM] [Warning] Unknown parameter: tree_method\n",
      "[LightGBM] [Warning] lambda_l1 is set=0.9885492055479124, reg_alpha=0.0 will be ignored. Current value: lambda_l1=0.9885492055479124\n",
      "[LightGBM] [Warning] feature_fraction is set=0.4667844231582193, colsample_bytree=1.0 will be ignored. Current value: feature_fraction=0.4667844231582193\n",
      "[LightGBM] [Warning] lambda_l2 is set=2.252306822861733, reg_lambda=0.0 will be ignored. Current value: lambda_l2=2.252306822861733\n",
      "[LightGBM] [Warning] bagging_fraction is set=0.5655982628932045, subsample=1.0 will be ignored. Current value: bagging_fraction=0.5655982628932045\n",
      "[LightGBM] [Warning] Unknown parameter: tree_method\n",
      "[LightGBM] [Warning] lambda_l1 is set=0.9885492055479124, reg_alpha=0.0 will be ignored. Current value: lambda_l1=0.9885492055479124\n",
      "[LightGBM] [Warning] feature_fraction is set=0.4667844231582193, colsample_bytree=1.0 will be ignored. Current value: feature_fraction=0.4667844231582193\n",
      "[LightGBM] [Warning] lambda_l2 is set=2.252306822861733, reg_lambda=0.0 will be ignored. Current value: lambda_l2=2.252306822861733\n",
      "[LightGBM] [Warning] bagging_fraction is set=0.5655982628932045, subsample=1.0 will be ignored. Current value: bagging_fraction=0.5655982628932045\n",
      "[LightGBM] [Warning] Unknown parameter: tree_method\n",
      "[LightGBM] [Warning] lambda_l1 is set=0.9885492055479124, reg_alpha=0.0 will be ignored. Current value: lambda_l1=0.9885492055479124\n",
      "[LightGBM] [Warning] feature_fraction is set=0.4667844231582193, colsample_bytree=1.0 will be ignored. Current value: feature_fraction=0.4667844231582193\n",
      "[LightGBM] [Warning] lambda_l2 is set=2.252306822861733, reg_lambda=0.0 will be ignored. Current value: lambda_l2=2.252306822861733\n",
      "[LightGBM] [Warning] bagging_fraction is set=0.5655982628932045, subsample=1.0 will be ignored. Current value: bagging_fraction=0.5655982628932045\n",
      "[LightGBM] [Warning] Unknown parameter: tree_method\n",
      "[LightGBM] [Warning] lambda_l1 is set=0.9885492055479124, reg_alpha=0.0 will be ignored. Current value: lambda_l1=0.9885492055479124\n",
      "[LightGBM] [Warning] feature_fraction is set=0.4667844231582193, colsample_bytree=1.0 will be ignored. Current value: feature_fraction=0.4667844231582193\n",
      "[LightGBM] [Warning] lambda_l2 is set=2.252306822861733, reg_lambda=0.0 will be ignored. Current value: lambda_l2=2.252306822861733\n",
      "[LightGBM] [Warning] bagging_fraction is set=0.5655982628932045, subsample=1.0 will be ignored. Current value: bagging_fraction=0.5655982628932045\n",
      "[LightGBM] [Warning] Unknown parameter: tree_method\n",
      "[LightGBM] [Warning] lambda_l1 is set=0.9885492055479124, reg_alpha=0.0 will be ignored. Current value: lambda_l1=0.9885492055479124\n",
      "[LightGBM] [Warning] feature_fraction is set=0.4667844231582193, colsample_bytree=1.0 will be ignored. Current value: feature_fraction=0.4667844231582193\n",
      "[LightGBM] [Warning] lambda_l2 is set=2.252306822861733, reg_lambda=0.0 will be ignored. Current value: lambda_l2=2.252306822861733\n",
      "[LightGBM] [Warning] bagging_fraction is set=0.5655982628932045, subsample=1.0 will be ignored. Current value: bagging_fraction=0.5655982628932045\n"
     ]
    },
    {
     "name": "stderr",
     "output_type": "stream",
     "text": [
      "\u001b[32m[I 2023-02-14 23:08:42,544]\u001b[0m Trial 20 finished with value: 0.9001761103841984 and parameters: {'n_estimators': 8161, 'learning_rate': 0.005783945334012937, 'max_depth': 10, 'lambda_l1': 0.9885492055479124, 'lambda_l2': 2.252306822861733, 'num_leaves': 44, 'bagging_fraction': 0.5655982628932045, 'feature_fraction': 0.4667844231582193}. Best is trial 18 with value: 0.9004299441816952.\u001b[0m\n"
     ]
    },
    {
     "name": "stdout",
     "output_type": "stream",
     "text": [
      "[LightGBM] [Warning] Unknown parameter: tree_method\n",
      "[LightGBM] [Warning] lambda_l1 is set=1.025116204187847, reg_alpha=0.0 will be ignored. Current value: lambda_l1=1.025116204187847\n",
      "[LightGBM] [Warning] feature_fraction is set=0.48753835401229084, colsample_bytree=1.0 will be ignored. Current value: feature_fraction=0.48753835401229084\n",
      "[LightGBM] [Warning] lambda_l2 is set=2.091788340698641, reg_lambda=0.0 will be ignored. Current value: lambda_l2=2.091788340698641\n",
      "[LightGBM] [Warning] bagging_fraction is set=0.5676357903983043, subsample=1.0 will be ignored. Current value: bagging_fraction=0.5676357903983043\n",
      "[LightGBM] [Warning] Unknown parameter: tree_method\n",
      "[LightGBM] [Warning] lambda_l1 is set=1.025116204187847, reg_alpha=0.0 will be ignored. Current value: lambda_l1=1.025116204187847\n",
      "[LightGBM] [Warning] feature_fraction is set=0.48753835401229084, colsample_bytree=1.0 will be ignored. Current value: feature_fraction=0.48753835401229084\n",
      "[LightGBM] [Warning] lambda_l2 is set=2.091788340698641, reg_lambda=0.0 will be ignored. Current value: lambda_l2=2.091788340698641\n",
      "[LightGBM] [Warning] bagging_fraction is set=0.5676357903983043, subsample=1.0 will be ignored. Current value: bagging_fraction=0.5676357903983043\n",
      "[LightGBM] [Warning] Unknown parameter: tree_method\n",
      "[LightGBM] [Warning] lambda_l1 is set=1.025116204187847, reg_alpha=0.0 will be ignored. Current value: lambda_l1=1.025116204187847\n",
      "[LightGBM] [Warning] feature_fraction is set=0.48753835401229084, colsample_bytree=1.0 will be ignored. Current value: feature_fraction=0.48753835401229084\n",
      "[LightGBM] [Warning] lambda_l2 is set=2.091788340698641, reg_lambda=0.0 will be ignored. Current value: lambda_l2=2.091788340698641\n",
      "[LightGBM] [Warning] bagging_fraction is set=0.5676357903983043, subsample=1.0 will be ignored. Current value: bagging_fraction=0.5676357903983043\n",
      "[LightGBM] [Warning] Unknown parameter: tree_method\n",
      "[LightGBM] [Warning] lambda_l1 is set=1.025116204187847, reg_alpha=0.0 will be ignored. Current value: lambda_l1=1.025116204187847\n",
      "[LightGBM] [Warning] feature_fraction is set=0.48753835401229084, colsample_bytree=1.0 will be ignored. Current value: feature_fraction=0.48753835401229084\n",
      "[LightGBM] [Warning] lambda_l2 is set=2.091788340698641, reg_lambda=0.0 will be ignored. Current value: lambda_l2=2.091788340698641\n",
      "[LightGBM] [Warning] bagging_fraction is set=0.5676357903983043, subsample=1.0 will be ignored. Current value: bagging_fraction=0.5676357903983043\n",
      "[LightGBM] [Warning] Unknown parameter: tree_method\n",
      "[LightGBM] [Warning] lambda_l1 is set=1.025116204187847, reg_alpha=0.0 will be ignored. Current value: lambda_l1=1.025116204187847\n",
      "[LightGBM] [Warning] feature_fraction is set=0.48753835401229084, colsample_bytree=1.0 will be ignored. Current value: feature_fraction=0.48753835401229084\n",
      "[LightGBM] [Warning] lambda_l2 is set=2.091788340698641, reg_lambda=0.0 will be ignored. Current value: lambda_l2=2.091788340698641\n",
      "[LightGBM] [Warning] bagging_fraction is set=0.5676357903983043, subsample=1.0 will be ignored. Current value: bagging_fraction=0.5676357903983043\n"
     ]
    },
    {
     "name": "stderr",
     "output_type": "stream",
     "text": [
      "\u001b[32m[I 2023-02-14 23:10:13,604]\u001b[0m Trial 21 finished with value: 0.900373039082482 and parameters: {'n_estimators': 8017, 'learning_rate': 0.004759806048622812, 'max_depth': 10, 'lambda_l1': 1.025116204187847, 'lambda_l2': 2.091788340698641, 'num_leaves': 43, 'bagging_fraction': 0.5676357903983043, 'feature_fraction': 0.48753835401229084}. Best is trial 18 with value: 0.9004299441816952.\u001b[0m\n"
     ]
    },
    {
     "name": "stdout",
     "output_type": "stream",
     "text": [
      "[LightGBM] [Warning] Unknown parameter: tree_method\n",
      "[LightGBM] [Warning] lambda_l1 is set=0.9600565196656896, reg_alpha=0.0 will be ignored. Current value: lambda_l1=0.9600565196656896\n",
      "[LightGBM] [Warning] feature_fraction is set=0.4691808931909568, colsample_bytree=1.0 will be ignored. Current value: feature_fraction=0.4691808931909568\n",
      "[LightGBM] [Warning] lambda_l2 is set=6.903554633823452, reg_lambda=0.0 will be ignored. Current value: lambda_l2=6.903554633823452\n",
      "[LightGBM] [Warning] bagging_fraction is set=0.6969627792708736, subsample=1.0 will be ignored. Current value: bagging_fraction=0.6969627792708736\n",
      "[LightGBM] [Warning] Unknown parameter: tree_method\n",
      "[LightGBM] [Warning] lambda_l1 is set=0.9600565196656896, reg_alpha=0.0 will be ignored. Current value: lambda_l1=0.9600565196656896\n",
      "[LightGBM] [Warning] feature_fraction is set=0.4691808931909568, colsample_bytree=1.0 will be ignored. Current value: feature_fraction=0.4691808931909568\n",
      "[LightGBM] [Warning] lambda_l2 is set=6.903554633823452, reg_lambda=0.0 will be ignored. Current value: lambda_l2=6.903554633823452\n",
      "[LightGBM] [Warning] bagging_fraction is set=0.6969627792708736, subsample=1.0 will be ignored. Current value: bagging_fraction=0.6969627792708736\n",
      "[LightGBM] [Warning] Unknown parameter: tree_method\n",
      "[LightGBM] [Warning] lambda_l1 is set=0.9600565196656896, reg_alpha=0.0 will be ignored. Current value: lambda_l1=0.9600565196656896\n",
      "[LightGBM] [Warning] feature_fraction is set=0.4691808931909568, colsample_bytree=1.0 will be ignored. Current value: feature_fraction=0.4691808931909568\n",
      "[LightGBM] [Warning] lambda_l2 is set=6.903554633823452, reg_lambda=0.0 will be ignored. Current value: lambda_l2=6.903554633823452\n",
      "[LightGBM] [Warning] bagging_fraction is set=0.6969627792708736, subsample=1.0 will be ignored. Current value: bagging_fraction=0.6969627792708736\n",
      "[LightGBM] [Warning] Unknown parameter: tree_method\n",
      "[LightGBM] [Warning] lambda_l1 is set=0.9600565196656896, reg_alpha=0.0 will be ignored. Current value: lambda_l1=0.9600565196656896\n",
      "[LightGBM] [Warning] feature_fraction is set=0.4691808931909568, colsample_bytree=1.0 will be ignored. Current value: feature_fraction=0.4691808931909568\n",
      "[LightGBM] [Warning] lambda_l2 is set=6.903554633823452, reg_lambda=0.0 will be ignored. Current value: lambda_l2=6.903554633823452\n",
      "[LightGBM] [Warning] bagging_fraction is set=0.6969627792708736, subsample=1.0 will be ignored. Current value: bagging_fraction=0.6969627792708736\n",
      "[LightGBM] [Warning] Unknown parameter: tree_method\n",
      "[LightGBM] [Warning] lambda_l1 is set=0.9600565196656896, reg_alpha=0.0 will be ignored. Current value: lambda_l1=0.9600565196656896\n",
      "[LightGBM] [Warning] feature_fraction is set=0.4691808931909568, colsample_bytree=1.0 will be ignored. Current value: feature_fraction=0.4691808931909568\n",
      "[LightGBM] [Warning] lambda_l2 is set=6.903554633823452, reg_lambda=0.0 will be ignored. Current value: lambda_l2=6.903554633823452\n",
      "[LightGBM] [Warning] bagging_fraction is set=0.6969627792708736, subsample=1.0 will be ignored. Current value: bagging_fraction=0.6969627792708736\n"
     ]
    },
    {
     "name": "stderr",
     "output_type": "stream",
     "text": [
      "\u001b[32m[I 2023-02-14 23:11:30,057]\u001b[0m Trial 22 finished with value: 0.8977701901335136 and parameters: {'n_estimators': 9562, 'learning_rate': 0.003262207477186734, 'max_depth': 10, 'lambda_l1': 0.9600565196656896, 'lambda_l2': 6.903554633823452, 'num_leaves': 16, 'bagging_fraction': 0.6969627792708736, 'feature_fraction': 0.4691808931909568}. Best is trial 18 with value: 0.9004299441816952.\u001b[0m\n"
     ]
    },
    {
     "name": "stdout",
     "output_type": "stream",
     "text": [
      "[LightGBM] [Warning] Unknown parameter: tree_method\n",
      "[LightGBM] [Warning] lambda_l1 is set=1.6323664134501215, reg_alpha=0.0 will be ignored. Current value: lambda_l1=1.6323664134501215\n",
      "[LightGBM] [Warning] feature_fraction is set=0.49922291189788326, colsample_bytree=1.0 will be ignored. Current value: feature_fraction=0.49922291189788326\n",
      "[LightGBM] [Warning] lambda_l2 is set=2.6774040023914276, reg_lambda=0.0 will be ignored. Current value: lambda_l2=2.6774040023914276\n",
      "[LightGBM] [Warning] bagging_fraction is set=0.5732286526162846, subsample=1.0 will be ignored. Current value: bagging_fraction=0.5732286526162846\n",
      "[LightGBM] [Warning] Unknown parameter: tree_method\n",
      "[LightGBM] [Warning] lambda_l1 is set=1.6323664134501215, reg_alpha=0.0 will be ignored. Current value: lambda_l1=1.6323664134501215\n",
      "[LightGBM] [Warning] feature_fraction is set=0.49922291189788326, colsample_bytree=1.0 will be ignored. Current value: feature_fraction=0.49922291189788326\n",
      "[LightGBM] [Warning] lambda_l2 is set=2.6774040023914276, reg_lambda=0.0 will be ignored. Current value: lambda_l2=2.6774040023914276\n",
      "[LightGBM] [Warning] bagging_fraction is set=0.5732286526162846, subsample=1.0 will be ignored. Current value: bagging_fraction=0.5732286526162846\n",
      "[LightGBM] [Warning] Unknown parameter: tree_method\n",
      "[LightGBM] [Warning] lambda_l1 is set=1.6323664134501215, reg_alpha=0.0 will be ignored. Current value: lambda_l1=1.6323664134501215\n",
      "[LightGBM] [Warning] feature_fraction is set=0.49922291189788326, colsample_bytree=1.0 will be ignored. Current value: feature_fraction=0.49922291189788326\n",
      "[LightGBM] [Warning] lambda_l2 is set=2.6774040023914276, reg_lambda=0.0 will be ignored. Current value: lambda_l2=2.6774040023914276\n",
      "[LightGBM] [Warning] bagging_fraction is set=0.5732286526162846, subsample=1.0 will be ignored. Current value: bagging_fraction=0.5732286526162846\n",
      "[LightGBM] [Warning] Unknown parameter: tree_method\n",
      "[LightGBM] [Warning] lambda_l1 is set=1.6323664134501215, reg_alpha=0.0 will be ignored. Current value: lambda_l1=1.6323664134501215\n",
      "[LightGBM] [Warning] feature_fraction is set=0.49922291189788326, colsample_bytree=1.0 will be ignored. Current value: feature_fraction=0.49922291189788326\n",
      "[LightGBM] [Warning] lambda_l2 is set=2.6774040023914276, reg_lambda=0.0 will be ignored. Current value: lambda_l2=2.6774040023914276\n",
      "[LightGBM] [Warning] bagging_fraction is set=0.5732286526162846, subsample=1.0 will be ignored. Current value: bagging_fraction=0.5732286526162846\n",
      "[LightGBM] [Warning] Unknown parameter: tree_method\n",
      "[LightGBM] [Warning] lambda_l1 is set=1.6323664134501215, reg_alpha=0.0 will be ignored. Current value: lambda_l1=1.6323664134501215\n",
      "[LightGBM] [Warning] feature_fraction is set=0.49922291189788326, colsample_bytree=1.0 will be ignored. Current value: feature_fraction=0.49922291189788326\n",
      "[LightGBM] [Warning] lambda_l2 is set=2.6774040023914276, reg_lambda=0.0 will be ignored. Current value: lambda_l2=2.6774040023914276\n",
      "[LightGBM] [Warning] bagging_fraction is set=0.5732286526162846, subsample=1.0 will be ignored. Current value: bagging_fraction=0.5732286526162846\n"
     ]
    },
    {
     "name": "stderr",
     "output_type": "stream",
     "text": [
      "\u001b[32m[I 2023-02-14 23:12:57,070]\u001b[0m Trial 23 finished with value: 0.8976971456848023 and parameters: {'n_estimators': 7714, 'learning_rate': 0.014745659862241224, 'max_depth': 11, 'lambda_l1': 1.6323664134501215, 'lambda_l2': 2.6774040023914276, 'num_leaves': 43, 'bagging_fraction': 0.5732286526162846, 'feature_fraction': 0.49922291189788326}. Best is trial 18 with value: 0.9004299441816952.\u001b[0m\n"
     ]
    },
    {
     "name": "stdout",
     "output_type": "stream",
     "text": [
      "[LightGBM] [Warning] Unknown parameter: tree_method\n",
      "[LightGBM] [Warning] lambda_l1 is set=0.6493365967039574, reg_alpha=0.0 will be ignored. Current value: lambda_l1=0.6493365967039574\n",
      "[LightGBM] [Warning] feature_fraction is set=0.5990653562968257, colsample_bytree=1.0 will be ignored. Current value: feature_fraction=0.5990653562968257\n",
      "[LightGBM] [Warning] lambda_l2 is set=3.932272442483092, reg_lambda=0.0 will be ignored. Current value: lambda_l2=3.932272442483092\n",
      "[LightGBM] [Warning] bagging_fraction is set=0.598961443004223, subsample=1.0 will be ignored. Current value: bagging_fraction=0.598961443004223\n",
      "[LightGBM] [Warning] Unknown parameter: tree_method\n",
      "[LightGBM] [Warning] lambda_l1 is set=0.6493365967039574, reg_alpha=0.0 will be ignored. Current value: lambda_l1=0.6493365967039574\n",
      "[LightGBM] [Warning] feature_fraction is set=0.5990653562968257, colsample_bytree=1.0 will be ignored. Current value: feature_fraction=0.5990653562968257\n",
      "[LightGBM] [Warning] lambda_l2 is set=3.932272442483092, reg_lambda=0.0 will be ignored. Current value: lambda_l2=3.932272442483092\n",
      "[LightGBM] [Warning] bagging_fraction is set=0.598961443004223, subsample=1.0 will be ignored. Current value: bagging_fraction=0.598961443004223\n",
      "[LightGBM] [Warning] Unknown parameter: tree_method\n",
      "[LightGBM] [Warning] lambda_l1 is set=0.6493365967039574, reg_alpha=0.0 will be ignored. Current value: lambda_l1=0.6493365967039574\n",
      "[LightGBM] [Warning] feature_fraction is set=0.5990653562968257, colsample_bytree=1.0 will be ignored. Current value: feature_fraction=0.5990653562968257\n",
      "[LightGBM] [Warning] lambda_l2 is set=3.932272442483092, reg_lambda=0.0 will be ignored. Current value: lambda_l2=3.932272442483092\n",
      "[LightGBM] [Warning] bagging_fraction is set=0.598961443004223, subsample=1.0 will be ignored. Current value: bagging_fraction=0.598961443004223\n",
      "[LightGBM] [Warning] Unknown parameter: tree_method\n",
      "[LightGBM] [Warning] lambda_l1 is set=0.6493365967039574, reg_alpha=0.0 will be ignored. Current value: lambda_l1=0.6493365967039574\n",
      "[LightGBM] [Warning] feature_fraction is set=0.5990653562968257, colsample_bytree=1.0 will be ignored. Current value: feature_fraction=0.5990653562968257\n",
      "[LightGBM] [Warning] lambda_l2 is set=3.932272442483092, reg_lambda=0.0 will be ignored. Current value: lambda_l2=3.932272442483092\n",
      "[LightGBM] [Warning] bagging_fraction is set=0.598961443004223, subsample=1.0 will be ignored. Current value: bagging_fraction=0.598961443004223\n",
      "[LightGBM] [Warning] Unknown parameter: tree_method\n",
      "[LightGBM] [Warning] lambda_l1 is set=0.6493365967039574, reg_alpha=0.0 will be ignored. Current value: lambda_l1=0.6493365967039574\n",
      "[LightGBM] [Warning] feature_fraction is set=0.5990653562968257, colsample_bytree=1.0 will be ignored. Current value: feature_fraction=0.5990653562968257\n",
      "[LightGBM] [Warning] lambda_l2 is set=3.932272442483092, reg_lambda=0.0 will be ignored. Current value: lambda_l2=3.932272442483092\n",
      "[LightGBM] [Warning] bagging_fraction is set=0.598961443004223, subsample=1.0 will be ignored. Current value: bagging_fraction=0.598961443004223\n"
     ]
    },
    {
     "name": "stderr",
     "output_type": "stream",
     "text": [
      "\u001b[32m[I 2023-02-14 23:13:41,330]\u001b[0m Trial 24 finished with value: 0.8916272603053879 and parameters: {'n_estimators': 9011, 'learning_rate': 0.004129639558952934, 'max_depth': 8, 'lambda_l1': 0.6493365967039574, 'lambda_l2': 3.932272442483092, 'num_leaves': 6, 'bagging_fraction': 0.598961443004223, 'feature_fraction': 0.5990653562968257}. Best is trial 18 with value: 0.9004299441816952.\u001b[0m\n"
     ]
    },
    {
     "name": "stdout",
     "output_type": "stream",
     "text": [
      "[LightGBM] [Warning] Unknown parameter: tree_method\n",
      "[LightGBM] [Warning] lambda_l1 is set=0.2642633397765328, reg_alpha=0.0 will be ignored. Current value: lambda_l1=0.2642633397765328\n",
      "[LightGBM] [Warning] feature_fraction is set=0.5274596892952065, colsample_bytree=1.0 will be ignored. Current value: feature_fraction=0.5274596892952065\n",
      "[LightGBM] [Warning] lambda_l2 is set=9.73911347439161, reg_lambda=0.0 will be ignored. Current value: lambda_l2=9.73911347439161\n",
      "[LightGBM] [Warning] bagging_fraction is set=0.514791569282638, subsample=1.0 will be ignored. Current value: bagging_fraction=0.514791569282638\n",
      "[LightGBM] [Warning] Unknown parameter: tree_method\n",
      "[LightGBM] [Warning] lambda_l1 is set=0.2642633397765328, reg_alpha=0.0 will be ignored. Current value: lambda_l1=0.2642633397765328\n",
      "[LightGBM] [Warning] feature_fraction is set=0.5274596892952065, colsample_bytree=1.0 will be ignored. Current value: feature_fraction=0.5274596892952065\n",
      "[LightGBM] [Warning] lambda_l2 is set=9.73911347439161, reg_lambda=0.0 will be ignored. Current value: lambda_l2=9.73911347439161\n",
      "[LightGBM] [Warning] bagging_fraction is set=0.514791569282638, subsample=1.0 will be ignored. Current value: bagging_fraction=0.514791569282638\n",
      "[LightGBM] [Warning] Unknown parameter: tree_method\n",
      "[LightGBM] [Warning] lambda_l1 is set=0.2642633397765328, reg_alpha=0.0 will be ignored. Current value: lambda_l1=0.2642633397765328\n",
      "[LightGBM] [Warning] feature_fraction is set=0.5274596892952065, colsample_bytree=1.0 will be ignored. Current value: feature_fraction=0.5274596892952065\n",
      "[LightGBM] [Warning] lambda_l2 is set=9.73911347439161, reg_lambda=0.0 will be ignored. Current value: lambda_l2=9.73911347439161\n",
      "[LightGBM] [Warning] bagging_fraction is set=0.514791569282638, subsample=1.0 will be ignored. Current value: bagging_fraction=0.514791569282638\n",
      "[LightGBM] [Warning] Unknown parameter: tree_method\n",
      "[LightGBM] [Warning] lambda_l1 is set=0.2642633397765328, reg_alpha=0.0 will be ignored. Current value: lambda_l1=0.2642633397765328\n",
      "[LightGBM] [Warning] feature_fraction is set=0.5274596892952065, colsample_bytree=1.0 will be ignored. Current value: feature_fraction=0.5274596892952065\n",
      "[LightGBM] [Warning] lambda_l2 is set=9.73911347439161, reg_lambda=0.0 will be ignored. Current value: lambda_l2=9.73911347439161\n",
      "[LightGBM] [Warning] bagging_fraction is set=0.514791569282638, subsample=1.0 will be ignored. Current value: bagging_fraction=0.514791569282638\n",
      "[LightGBM] [Warning] Unknown parameter: tree_method\n",
      "[LightGBM] [Warning] lambda_l1 is set=0.2642633397765328, reg_alpha=0.0 will be ignored. Current value: lambda_l1=0.2642633397765328\n",
      "[LightGBM] [Warning] feature_fraction is set=0.5274596892952065, colsample_bytree=1.0 will be ignored. Current value: feature_fraction=0.5274596892952065\n",
      "[LightGBM] [Warning] lambda_l2 is set=9.73911347439161, reg_lambda=0.0 will be ignored. Current value: lambda_l2=9.73911347439161\n",
      "[LightGBM] [Warning] bagging_fraction is set=0.514791569282638, subsample=1.0 will be ignored. Current value: bagging_fraction=0.514791569282638\n"
     ]
    },
    {
     "name": "stderr",
     "output_type": "stream",
     "text": [
      "\u001b[32m[I 2023-02-14 23:14:33,879]\u001b[0m Trial 25 finished with value: 0.9000984729207815 and parameters: {'n_estimators': 7594, 'learning_rate': 0.01435844281616336, 'max_depth': 10, 'lambda_l1': 0.2642633397765328, 'lambda_l2': 9.73911347439161, 'num_leaves': 15, 'bagging_fraction': 0.514791569282638, 'feature_fraction': 0.5274596892952065}. Best is trial 18 with value: 0.9004299441816952.\u001b[0m\n"
     ]
    },
    {
     "name": "stdout",
     "output_type": "stream",
     "text": [
      "[LightGBM] [Warning] Unknown parameter: tree_method\n",
      "[LightGBM] [Warning] lambda_l1 is set=1.8990703269229956, reg_alpha=0.0 will be ignored. Current value: lambda_l1=1.8990703269229956\n",
      "[LightGBM] [Warning] feature_fraction is set=0.42676646526093953, colsample_bytree=1.0 will be ignored. Current value: feature_fraction=0.42676646526093953\n",
      "[LightGBM] [Warning] lambda_l2 is set=1.6522232601693398, reg_lambda=0.0 will be ignored. Current value: lambda_l2=1.6522232601693398\n",
      "[LightGBM] [Warning] bagging_fraction is set=0.6702451495879634, subsample=1.0 will be ignored. Current value: bagging_fraction=0.6702451495879634\n",
      "[LightGBM] [Warning] Unknown parameter: tree_method\n",
      "[LightGBM] [Warning] lambda_l1 is set=1.8990703269229956, reg_alpha=0.0 will be ignored. Current value: lambda_l1=1.8990703269229956\n",
      "[LightGBM] [Warning] feature_fraction is set=0.42676646526093953, colsample_bytree=1.0 will be ignored. Current value: feature_fraction=0.42676646526093953\n",
      "[LightGBM] [Warning] lambda_l2 is set=1.6522232601693398, reg_lambda=0.0 will be ignored. Current value: lambda_l2=1.6522232601693398\n",
      "[LightGBM] [Warning] bagging_fraction is set=0.6702451495879634, subsample=1.0 will be ignored. Current value: bagging_fraction=0.6702451495879634\n",
      "[LightGBM] [Warning] Unknown parameter: tree_method\n",
      "[LightGBM] [Warning] lambda_l1 is set=1.8990703269229956, reg_alpha=0.0 will be ignored. Current value: lambda_l1=1.8990703269229956\n",
      "[LightGBM] [Warning] feature_fraction is set=0.42676646526093953, colsample_bytree=1.0 will be ignored. Current value: feature_fraction=0.42676646526093953\n",
      "[LightGBM] [Warning] lambda_l2 is set=1.6522232601693398, reg_lambda=0.0 will be ignored. Current value: lambda_l2=1.6522232601693398\n",
      "[LightGBM] [Warning] bagging_fraction is set=0.6702451495879634, subsample=1.0 will be ignored. Current value: bagging_fraction=0.6702451495879634\n",
      "[LightGBM] [Warning] Unknown parameter: tree_method\n",
      "[LightGBM] [Warning] lambda_l1 is set=1.8990703269229956, reg_alpha=0.0 will be ignored. Current value: lambda_l1=1.8990703269229956\n",
      "[LightGBM] [Warning] feature_fraction is set=0.42676646526093953, colsample_bytree=1.0 will be ignored. Current value: feature_fraction=0.42676646526093953\n",
      "[LightGBM] [Warning] lambda_l2 is set=1.6522232601693398, reg_lambda=0.0 will be ignored. Current value: lambda_l2=1.6522232601693398\n",
      "[LightGBM] [Warning] bagging_fraction is set=0.6702451495879634, subsample=1.0 will be ignored. Current value: bagging_fraction=0.6702451495879634\n",
      "[LightGBM] [Warning] Unknown parameter: tree_method\n",
      "[LightGBM] [Warning] lambda_l1 is set=1.8990703269229956, reg_alpha=0.0 will be ignored. Current value: lambda_l1=1.8990703269229956\n",
      "[LightGBM] [Warning] feature_fraction is set=0.42676646526093953, colsample_bytree=1.0 will be ignored. Current value: feature_fraction=0.42676646526093953\n",
      "[LightGBM] [Warning] lambda_l2 is set=1.6522232601693398, reg_lambda=0.0 will be ignored. Current value: lambda_l2=1.6522232601693398\n",
      "[LightGBM] [Warning] bagging_fraction is set=0.6702451495879634, subsample=1.0 will be ignored. Current value: bagging_fraction=0.6702451495879634\n"
     ]
    },
    {
     "name": "stderr",
     "output_type": "stream",
     "text": [
      "\u001b[32m[I 2023-02-14 23:15:35,003]\u001b[0m Trial 26 finished with value: 0.90019685613244 and parameters: {'n_estimators': 5758, 'learning_rate': 0.005773064288908877, 'max_depth': 11, 'lambda_l1': 1.8990703269229956, 'lambda_l2': 1.6522232601693398, 'num_leaves': 40, 'bagging_fraction': 0.6702451495879634, 'feature_fraction': 0.42676646526093953}. Best is trial 18 with value: 0.9004299441816952.\u001b[0m\n"
     ]
    },
    {
     "name": "stdout",
     "output_type": "stream",
     "text": [
      "[LightGBM] [Warning] Unknown parameter: tree_method\n",
      "[LightGBM] [Warning] lambda_l1 is set=0.8036080685686848, reg_alpha=0.0 will be ignored. Current value: lambda_l1=0.8036080685686848\n",
      "[LightGBM] [Warning] feature_fraction is set=0.6114457621446769, colsample_bytree=1.0 will be ignored. Current value: feature_fraction=0.6114457621446769\n",
      "[LightGBM] [Warning] lambda_l2 is set=0.44321395847375733, reg_lambda=0.0 will be ignored. Current value: lambda_l2=0.44321395847375733\n",
      "[LightGBM] [Warning] bagging_fraction is set=0.7314648991861296, subsample=1.0 will be ignored. Current value: bagging_fraction=0.7314648991861296\n",
      "[LightGBM] [Warning] Unknown parameter: tree_method\n",
      "[LightGBM] [Warning] lambda_l1 is set=0.8036080685686848, reg_alpha=0.0 will be ignored. Current value: lambda_l1=0.8036080685686848\n",
      "[LightGBM] [Warning] feature_fraction is set=0.6114457621446769, colsample_bytree=1.0 will be ignored. Current value: feature_fraction=0.6114457621446769\n",
      "[LightGBM] [Warning] lambda_l2 is set=0.44321395847375733, reg_lambda=0.0 will be ignored. Current value: lambda_l2=0.44321395847375733\n",
      "[LightGBM] [Warning] bagging_fraction is set=0.7314648991861296, subsample=1.0 will be ignored. Current value: bagging_fraction=0.7314648991861296\n",
      "[LightGBM] [Warning] Unknown parameter: tree_method\n",
      "[LightGBM] [Warning] lambda_l1 is set=0.8036080685686848, reg_alpha=0.0 will be ignored. Current value: lambda_l1=0.8036080685686848\n",
      "[LightGBM] [Warning] feature_fraction is set=0.6114457621446769, colsample_bytree=1.0 will be ignored. Current value: feature_fraction=0.6114457621446769\n",
      "[LightGBM] [Warning] lambda_l2 is set=0.44321395847375733, reg_lambda=0.0 will be ignored. Current value: lambda_l2=0.44321395847375733\n",
      "[LightGBM] [Warning] bagging_fraction is set=0.7314648991861296, subsample=1.0 will be ignored. Current value: bagging_fraction=0.7314648991861296\n",
      "[LightGBM] [Warning] Unknown parameter: tree_method\n",
      "[LightGBM] [Warning] lambda_l1 is set=0.8036080685686848, reg_alpha=0.0 will be ignored. Current value: lambda_l1=0.8036080685686848\n",
      "[LightGBM] [Warning] feature_fraction is set=0.6114457621446769, colsample_bytree=1.0 will be ignored. Current value: feature_fraction=0.6114457621446769\n",
      "[LightGBM] [Warning] lambda_l2 is set=0.44321395847375733, reg_lambda=0.0 will be ignored. Current value: lambda_l2=0.44321395847375733\n",
      "[LightGBM] [Warning] bagging_fraction is set=0.7314648991861296, subsample=1.0 will be ignored. Current value: bagging_fraction=0.7314648991861296\n",
      "[LightGBM] [Warning] Unknown parameter: tree_method\n",
      "[LightGBM] [Warning] lambda_l1 is set=0.8036080685686848, reg_alpha=0.0 will be ignored. Current value: lambda_l1=0.8036080685686848\n",
      "[LightGBM] [Warning] feature_fraction is set=0.6114457621446769, colsample_bytree=1.0 will be ignored. Current value: feature_fraction=0.6114457621446769\n",
      "[LightGBM] [Warning] lambda_l2 is set=0.44321395847375733, reg_lambda=0.0 will be ignored. Current value: lambda_l2=0.44321395847375733\n",
      "[LightGBM] [Warning] bagging_fraction is set=0.7314648991861296, subsample=1.0 will be ignored. Current value: bagging_fraction=0.7314648991861296\n"
     ]
    },
    {
     "name": "stderr",
     "output_type": "stream",
     "text": [
      "\u001b[32m[I 2023-02-14 23:16:52,805]\u001b[0m Trial 27 finished with value: 0.897189107837608 and parameters: {'n_estimators': 8898, 'learning_rate': 0.0019352795037752993, 'max_depth': 9, 'lambda_l1': 0.8036080685686848, 'lambda_l2': 0.44321395847375733, 'num_leaves': 24, 'bagging_fraction': 0.7314648991861296, 'feature_fraction': 0.6114457621446769}. Best is trial 18 with value: 0.9004299441816952.\u001b[0m\n"
     ]
    },
    {
     "name": "stdout",
     "output_type": "stream",
     "text": [
      "[LightGBM] [Warning] Unknown parameter: tree_method\n",
      "[LightGBM] [Warning] lambda_l1 is set=3.2715828031415906, reg_alpha=0.0 will be ignored. Current value: lambda_l1=3.2715828031415906\n",
      "[LightGBM] [Warning] feature_fraction is set=0.514045226814369, colsample_bytree=1.0 will be ignored. Current value: feature_fraction=0.514045226814369\n",
      "[LightGBM] [Warning] lambda_l2 is set=1.7212086045116715, reg_lambda=0.0 will be ignored. Current value: lambda_l2=1.7212086045116715\n",
      "[LightGBM] [Warning] bagging_fraction is set=0.604572270087329, subsample=1.0 will be ignored. Current value: bagging_fraction=0.604572270087329\n",
      "[LightGBM] [Warning] Unknown parameter: tree_method\n",
      "[LightGBM] [Warning] lambda_l1 is set=3.2715828031415906, reg_alpha=0.0 will be ignored. Current value: lambda_l1=3.2715828031415906\n",
      "[LightGBM] [Warning] feature_fraction is set=0.514045226814369, colsample_bytree=1.0 will be ignored. Current value: feature_fraction=0.514045226814369\n",
      "[LightGBM] [Warning] lambda_l2 is set=1.7212086045116715, reg_lambda=0.0 will be ignored. Current value: lambda_l2=1.7212086045116715\n",
      "[LightGBM] [Warning] bagging_fraction is set=0.604572270087329, subsample=1.0 will be ignored. Current value: bagging_fraction=0.604572270087329\n",
      "[LightGBM] [Warning] Unknown parameter: tree_method\n",
      "[LightGBM] [Warning] lambda_l1 is set=3.2715828031415906, reg_alpha=0.0 will be ignored. Current value: lambda_l1=3.2715828031415906\n",
      "[LightGBM] [Warning] feature_fraction is set=0.514045226814369, colsample_bytree=1.0 will be ignored. Current value: feature_fraction=0.514045226814369\n",
      "[LightGBM] [Warning] lambda_l2 is set=1.7212086045116715, reg_lambda=0.0 will be ignored. Current value: lambda_l2=1.7212086045116715\n",
      "[LightGBM] [Warning] bagging_fraction is set=0.604572270087329, subsample=1.0 will be ignored. Current value: bagging_fraction=0.604572270087329\n",
      "[LightGBM] [Warning] Unknown parameter: tree_method\n",
      "[LightGBM] [Warning] lambda_l1 is set=3.2715828031415906, reg_alpha=0.0 will be ignored. Current value: lambda_l1=3.2715828031415906\n",
      "[LightGBM] [Warning] feature_fraction is set=0.514045226814369, colsample_bytree=1.0 will be ignored. Current value: feature_fraction=0.514045226814369\n",
      "[LightGBM] [Warning] lambda_l2 is set=1.7212086045116715, reg_lambda=0.0 will be ignored. Current value: lambda_l2=1.7212086045116715\n",
      "[LightGBM] [Warning] bagging_fraction is set=0.604572270087329, subsample=1.0 will be ignored. Current value: bagging_fraction=0.604572270087329\n",
      "[LightGBM] [Warning] Unknown parameter: tree_method\n",
      "[LightGBM] [Warning] lambda_l1 is set=3.2715828031415906, reg_alpha=0.0 will be ignored. Current value: lambda_l1=3.2715828031415906\n",
      "[LightGBM] [Warning] feature_fraction is set=0.514045226814369, colsample_bytree=1.0 will be ignored. Current value: feature_fraction=0.514045226814369\n",
      "[LightGBM] [Warning] lambda_l2 is set=1.7212086045116715, reg_lambda=0.0 will be ignored. Current value: lambda_l2=1.7212086045116715\n",
      "[LightGBM] [Warning] bagging_fraction is set=0.604572270087329, subsample=1.0 will be ignored. Current value: bagging_fraction=0.604572270087329\n"
     ]
    },
    {
     "name": "stderr",
     "output_type": "stream",
     "text": [
      "\u001b[32m[I 2023-02-14 23:17:35,048]\u001b[0m Trial 28 finished with value: 0.8986541544235769 and parameters: {'n_estimators': 6047, 'learning_rate': 0.00871245184377303, 'max_depth': 11, 'lambda_l1': 3.2715828031415906, 'lambda_l2': 1.7212086045116715, 'num_leaves': 13, 'bagging_fraction': 0.604572270087329, 'feature_fraction': 0.514045226814369}. Best is trial 18 with value: 0.9004299441816952.\u001b[0m\n"
     ]
    },
    {
     "name": "stdout",
     "output_type": "stream",
     "text": [
      "[LightGBM] [Warning] Unknown parameter: tree_method\n",
      "[LightGBM] [Warning] lambda_l1 is set=3.6845847906749305, reg_alpha=0.0 will be ignored. Current value: lambda_l1=3.6845847906749305\n",
      "[LightGBM] [Warning] feature_fraction is set=0.6643621926149305, colsample_bytree=1.0 will be ignored. Current value: feature_fraction=0.6643621926149305\n",
      "[LightGBM] [Warning] lambda_l2 is set=4.037558218353988, reg_lambda=0.0 will be ignored. Current value: lambda_l2=4.037558218353988\n",
      "[LightGBM] [Warning] bagging_fraction is set=0.5346762576624176, subsample=1.0 will be ignored. Current value: bagging_fraction=0.5346762576624176\n",
      "[LightGBM] [Warning] Unknown parameter: tree_method\n",
      "[LightGBM] [Warning] lambda_l1 is set=3.6845847906749305, reg_alpha=0.0 will be ignored. Current value: lambda_l1=3.6845847906749305\n",
      "[LightGBM] [Warning] feature_fraction is set=0.6643621926149305, colsample_bytree=1.0 will be ignored. Current value: feature_fraction=0.6643621926149305\n",
      "[LightGBM] [Warning] lambda_l2 is set=4.037558218353988, reg_lambda=0.0 will be ignored. Current value: lambda_l2=4.037558218353988\n",
      "[LightGBM] [Warning] bagging_fraction is set=0.5346762576624176, subsample=1.0 will be ignored. Current value: bagging_fraction=0.5346762576624176\n",
      "[LightGBM] [Warning] Unknown parameter: tree_method\n",
      "[LightGBM] [Warning] lambda_l1 is set=3.6845847906749305, reg_alpha=0.0 will be ignored. Current value: lambda_l1=3.6845847906749305\n",
      "[LightGBM] [Warning] feature_fraction is set=0.6643621926149305, colsample_bytree=1.0 will be ignored. Current value: feature_fraction=0.6643621926149305\n",
      "[LightGBM] [Warning] lambda_l2 is set=4.037558218353988, reg_lambda=0.0 will be ignored. Current value: lambda_l2=4.037558218353988\n",
      "[LightGBM] [Warning] bagging_fraction is set=0.5346762576624176, subsample=1.0 will be ignored. Current value: bagging_fraction=0.5346762576624176\n",
      "[LightGBM] [Warning] Unknown parameter: tree_method\n",
      "[LightGBM] [Warning] lambda_l1 is set=3.6845847906749305, reg_alpha=0.0 will be ignored. Current value: lambda_l1=3.6845847906749305\n",
      "[LightGBM] [Warning] feature_fraction is set=0.6643621926149305, colsample_bytree=1.0 will be ignored. Current value: feature_fraction=0.6643621926149305\n",
      "[LightGBM] [Warning] lambda_l2 is set=4.037558218353988, reg_lambda=0.0 will be ignored. Current value: lambda_l2=4.037558218353988\n",
      "[LightGBM] [Warning] bagging_fraction is set=0.5346762576624176, subsample=1.0 will be ignored. Current value: bagging_fraction=0.5346762576624176\n",
      "[LightGBM] [Warning] Unknown parameter: tree_method\n",
      "[LightGBM] [Warning] lambda_l1 is set=3.6845847906749305, reg_alpha=0.0 will be ignored. Current value: lambda_l1=3.6845847906749305\n",
      "[LightGBM] [Warning] feature_fraction is set=0.6643621926149305, colsample_bytree=1.0 will be ignored. Current value: feature_fraction=0.6643621926149305\n",
      "[LightGBM] [Warning] lambda_l2 is set=4.037558218353988, reg_lambda=0.0 will be ignored. Current value: lambda_l2=4.037558218353988\n",
      "[LightGBM] [Warning] bagging_fraction is set=0.5346762576624176, subsample=1.0 will be ignored. Current value: bagging_fraction=0.5346762576624176\n"
     ]
    },
    {
     "name": "stderr",
     "output_type": "stream",
     "text": [
      "\u001b[32m[I 2023-02-14 23:18:23,673]\u001b[0m Trial 29 finished with value: 0.8979606152909447 and parameters: {'n_estimators': 7514, 'learning_rate': 0.03167029487445555, 'max_depth': 8, 'lambda_l1': 3.6845847906749305, 'lambda_l2': 4.037558218353988, 'num_leaves': 52, 'bagging_fraction': 0.5346762576624176, 'feature_fraction': 0.6643621926149305}. Best is trial 18 with value: 0.9004299441816952.\u001b[0m\n"
     ]
    },
    {
     "name": "stdout",
     "output_type": "stream",
     "text": [
      "[LightGBM] [Warning] Unknown parameter: tree_method\n",
      "[LightGBM] [Warning] lambda_l1 is set=1.6667170350047626, reg_alpha=0.0 will be ignored. Current value: lambda_l1=1.6667170350047626\n",
      "[LightGBM] [Warning] feature_fraction is set=0.569360773462344, colsample_bytree=1.0 will be ignored. Current value: feature_fraction=0.569360773462344\n",
      "[LightGBM] [Warning] lambda_l2 is set=1.357881765933271, reg_lambda=0.0 will be ignored. Current value: lambda_l2=1.357881765933271\n",
      "[LightGBM] [Warning] bagging_fraction is set=0.4563255679934476, subsample=1.0 will be ignored. Current value: bagging_fraction=0.4563255679934476\n",
      "[LightGBM] [Warning] Unknown parameter: tree_method\n",
      "[LightGBM] [Warning] lambda_l1 is set=1.6667170350047626, reg_alpha=0.0 will be ignored. Current value: lambda_l1=1.6667170350047626\n",
      "[LightGBM] [Warning] feature_fraction is set=0.569360773462344, colsample_bytree=1.0 will be ignored. Current value: feature_fraction=0.569360773462344\n",
      "[LightGBM] [Warning] lambda_l2 is set=1.357881765933271, reg_lambda=0.0 will be ignored. Current value: lambda_l2=1.357881765933271\n",
      "[LightGBM] [Warning] bagging_fraction is set=0.4563255679934476, subsample=1.0 will be ignored. Current value: bagging_fraction=0.4563255679934476\n",
      "[LightGBM] [Warning] Unknown parameter: tree_method\n",
      "[LightGBM] [Warning] lambda_l1 is set=1.6667170350047626, reg_alpha=0.0 will be ignored. Current value: lambda_l1=1.6667170350047626\n",
      "[LightGBM] [Warning] feature_fraction is set=0.569360773462344, colsample_bytree=1.0 will be ignored. Current value: feature_fraction=0.569360773462344\n",
      "[LightGBM] [Warning] lambda_l2 is set=1.357881765933271, reg_lambda=0.0 will be ignored. Current value: lambda_l2=1.357881765933271\n",
      "[LightGBM] [Warning] bagging_fraction is set=0.4563255679934476, subsample=1.0 will be ignored. Current value: bagging_fraction=0.4563255679934476\n",
      "[LightGBM] [Warning] Unknown parameter: tree_method\n",
      "[LightGBM] [Warning] lambda_l1 is set=1.6667170350047626, reg_alpha=0.0 will be ignored. Current value: lambda_l1=1.6667170350047626\n",
      "[LightGBM] [Warning] feature_fraction is set=0.569360773462344, colsample_bytree=1.0 will be ignored. Current value: feature_fraction=0.569360773462344\n",
      "[LightGBM] [Warning] lambda_l2 is set=1.357881765933271, reg_lambda=0.0 will be ignored. Current value: lambda_l2=1.357881765933271\n",
      "[LightGBM] [Warning] bagging_fraction is set=0.4563255679934476, subsample=1.0 will be ignored. Current value: bagging_fraction=0.4563255679934476\n",
      "[LightGBM] [Warning] Unknown parameter: tree_method\n",
      "[LightGBM] [Warning] lambda_l1 is set=1.6667170350047626, reg_alpha=0.0 will be ignored. Current value: lambda_l1=1.6667170350047626\n",
      "[LightGBM] [Warning] feature_fraction is set=0.569360773462344, colsample_bytree=1.0 will be ignored. Current value: feature_fraction=0.569360773462344\n",
      "[LightGBM] [Warning] lambda_l2 is set=1.357881765933271, reg_lambda=0.0 will be ignored. Current value: lambda_l2=1.357881765933271\n",
      "[LightGBM] [Warning] bagging_fraction is set=0.4563255679934476, subsample=1.0 will be ignored. Current value: bagging_fraction=0.4563255679934476\n"
     ]
    },
    {
     "name": "stderr",
     "output_type": "stream",
     "text": [
      "\u001b[32m[I 2023-02-14 23:20:41,756]\u001b[0m Trial 30 finished with value: 0.8993260271699857 and parameters: {'n_estimators': 8236, 'learning_rate': 0.004620495759270005, 'max_depth': 10, 'lambda_l1': 1.6667170350047626, 'lambda_l2': 1.357881765933271, 'num_leaves': 60, 'bagging_fraction': 0.4563255679934476, 'feature_fraction': 0.569360773462344}. Best is trial 18 with value: 0.9004299441816952.\u001b[0m\n"
     ]
    },
    {
     "name": "stdout",
     "output_type": "stream",
     "text": [
      "[LightGBM] [Warning] Unknown parameter: tree_method\n",
      "[LightGBM] [Warning] lambda_l1 is set=2.13122926851496, reg_alpha=0.0 will be ignored. Current value: lambda_l1=2.13122926851496\n",
      "[LightGBM] [Warning] feature_fraction is set=0.441281763801082, colsample_bytree=1.0 will be ignored. Current value: feature_fraction=0.441281763801082\n",
      "[LightGBM] [Warning] lambda_l2 is set=2.3175058857201805, reg_lambda=0.0 will be ignored. Current value: lambda_l2=2.3175058857201805\n",
      "[LightGBM] [Warning] bagging_fraction is set=0.664938580810536, subsample=1.0 will be ignored. Current value: bagging_fraction=0.664938580810536\n",
      "[LightGBM] [Warning] Unknown parameter: tree_method\n",
      "[LightGBM] [Warning] lambda_l1 is set=2.13122926851496, reg_alpha=0.0 will be ignored. Current value: lambda_l1=2.13122926851496\n",
      "[LightGBM] [Warning] feature_fraction is set=0.441281763801082, colsample_bytree=1.0 will be ignored. Current value: feature_fraction=0.441281763801082\n",
      "[LightGBM] [Warning] lambda_l2 is set=2.3175058857201805, reg_lambda=0.0 will be ignored. Current value: lambda_l2=2.3175058857201805\n",
      "[LightGBM] [Warning] bagging_fraction is set=0.664938580810536, subsample=1.0 will be ignored. Current value: bagging_fraction=0.664938580810536\n",
      "[LightGBM] [Warning] Unknown parameter: tree_method\n",
      "[LightGBM] [Warning] lambda_l1 is set=2.13122926851496, reg_alpha=0.0 will be ignored. Current value: lambda_l1=2.13122926851496\n",
      "[LightGBM] [Warning] feature_fraction is set=0.441281763801082, colsample_bytree=1.0 will be ignored. Current value: feature_fraction=0.441281763801082\n",
      "[LightGBM] [Warning] lambda_l2 is set=2.3175058857201805, reg_lambda=0.0 will be ignored. Current value: lambda_l2=2.3175058857201805\n",
      "[LightGBM] [Warning] bagging_fraction is set=0.664938580810536, subsample=1.0 will be ignored. Current value: bagging_fraction=0.664938580810536\n",
      "[LightGBM] [Warning] Unknown parameter: tree_method\n",
      "[LightGBM] [Warning] lambda_l1 is set=2.13122926851496, reg_alpha=0.0 will be ignored. Current value: lambda_l1=2.13122926851496\n",
      "[LightGBM] [Warning] feature_fraction is set=0.441281763801082, colsample_bytree=1.0 will be ignored. Current value: feature_fraction=0.441281763801082\n",
      "[LightGBM] [Warning] lambda_l2 is set=2.3175058857201805, reg_lambda=0.0 will be ignored. Current value: lambda_l2=2.3175058857201805\n",
      "[LightGBM] [Warning] bagging_fraction is set=0.664938580810536, subsample=1.0 will be ignored. Current value: bagging_fraction=0.664938580810536\n",
      "[LightGBM] [Warning] Unknown parameter: tree_method\n",
      "[LightGBM] [Warning] lambda_l1 is set=2.13122926851496, reg_alpha=0.0 will be ignored. Current value: lambda_l1=2.13122926851496\n",
      "[LightGBM] [Warning] feature_fraction is set=0.441281763801082, colsample_bytree=1.0 will be ignored. Current value: feature_fraction=0.441281763801082\n",
      "[LightGBM] [Warning] lambda_l2 is set=2.3175058857201805, reg_lambda=0.0 will be ignored. Current value: lambda_l2=2.3175058857201805\n",
      "[LightGBM] [Warning] bagging_fraction is set=0.664938580810536, subsample=1.0 will be ignored. Current value: bagging_fraction=0.664938580810536\n"
     ]
    },
    {
     "name": "stderr",
     "output_type": "stream",
     "text": [
      "\u001b[32m[I 2023-02-14 23:22:13,559]\u001b[0m Trial 31 finished with value: 0.9001545539386584 and parameters: {'n_estimators': 5976, 'learning_rate': 0.00571756646527859, 'max_depth': 11, 'lambda_l1': 2.13122926851496, 'lambda_l2': 2.3175058857201805, 'num_leaves': 38, 'bagging_fraction': 0.664938580810536, 'feature_fraction': 0.441281763801082}. Best is trial 18 with value: 0.9004299441816952.\u001b[0m\n"
     ]
    },
    {
     "name": "stdout",
     "output_type": "stream",
     "text": [
      "[LightGBM] [Warning] Unknown parameter: tree_method\n",
      "[LightGBM] [Warning] lambda_l1 is set=1.6373688426990147, reg_alpha=0.0 will be ignored. Current value: lambda_l1=1.6373688426990147\n",
      "[LightGBM] [Warning] feature_fraction is set=0.4152511965823761, colsample_bytree=1.0 will be ignored. Current value: feature_fraction=0.4152511965823761\n",
      "[LightGBM] [Warning] lambda_l2 is set=1.4141088931957086, reg_lambda=0.0 will be ignored. Current value: lambda_l2=1.4141088931957086\n",
      "[LightGBM] [Warning] bagging_fraction is set=0.664818008295664, subsample=1.0 will be ignored. Current value: bagging_fraction=0.664818008295664\n",
      "[LightGBM] [Warning] Unknown parameter: tree_method\n",
      "[LightGBM] [Warning] lambda_l1 is set=1.6373688426990147, reg_alpha=0.0 will be ignored. Current value: lambda_l1=1.6373688426990147\n",
      "[LightGBM] [Warning] feature_fraction is set=0.4152511965823761, colsample_bytree=1.0 will be ignored. Current value: feature_fraction=0.4152511965823761\n",
      "[LightGBM] [Warning] lambda_l2 is set=1.4141088931957086, reg_lambda=0.0 will be ignored. Current value: lambda_l2=1.4141088931957086\n",
      "[LightGBM] [Warning] bagging_fraction is set=0.664818008295664, subsample=1.0 will be ignored. Current value: bagging_fraction=0.664818008295664\n",
      "[LightGBM] [Warning] Unknown parameter: tree_method\n",
      "[LightGBM] [Warning] lambda_l1 is set=1.6373688426990147, reg_alpha=0.0 will be ignored. Current value: lambda_l1=1.6373688426990147\n",
      "[LightGBM] [Warning] feature_fraction is set=0.4152511965823761, colsample_bytree=1.0 will be ignored. Current value: feature_fraction=0.4152511965823761\n",
      "[LightGBM] [Warning] lambda_l2 is set=1.4141088931957086, reg_lambda=0.0 will be ignored. Current value: lambda_l2=1.4141088931957086\n",
      "[LightGBM] [Warning] bagging_fraction is set=0.664818008295664, subsample=1.0 will be ignored. Current value: bagging_fraction=0.664818008295664\n",
      "[LightGBM] [Warning] Unknown parameter: tree_method\n",
      "[LightGBM] [Warning] lambda_l1 is set=1.6373688426990147, reg_alpha=0.0 will be ignored. Current value: lambda_l1=1.6373688426990147\n",
      "[LightGBM] [Warning] feature_fraction is set=0.4152511965823761, colsample_bytree=1.0 will be ignored. Current value: feature_fraction=0.4152511965823761\n",
      "[LightGBM] [Warning] lambda_l2 is set=1.4141088931957086, reg_lambda=0.0 will be ignored. Current value: lambda_l2=1.4141088931957086\n",
      "[LightGBM] [Warning] bagging_fraction is set=0.664818008295664, subsample=1.0 will be ignored. Current value: bagging_fraction=0.664818008295664\n",
      "[LightGBM] [Warning] Unknown parameter: tree_method\n",
      "[LightGBM] [Warning] lambda_l1 is set=1.6373688426990147, reg_alpha=0.0 will be ignored. Current value: lambda_l1=1.6373688426990147\n",
      "[LightGBM] [Warning] feature_fraction is set=0.4152511965823761, colsample_bytree=1.0 will be ignored. Current value: feature_fraction=0.4152511965823761\n",
      "[LightGBM] [Warning] lambda_l2 is set=1.4141088931957086, reg_lambda=0.0 will be ignored. Current value: lambda_l2=1.4141088931957086\n",
      "[LightGBM] [Warning] bagging_fraction is set=0.664818008295664, subsample=1.0 will be ignored. Current value: bagging_fraction=0.664818008295664\n"
     ]
    },
    {
     "name": "stderr",
     "output_type": "stream",
     "text": [
      "\u001b[32m[I 2023-02-14 23:23:17,326]\u001b[0m Trial 32 finished with value: 0.9000654983054888 and parameters: {'n_estimators': 4540, 'learning_rate': 0.012995500362316323, 'max_depth': 12, 'lambda_l1': 1.6373688426990147, 'lambda_l2': 1.4141088931957086, 'num_leaves': 39, 'bagging_fraction': 0.664818008295664, 'feature_fraction': 0.4152511965823761}. Best is trial 18 with value: 0.9004299441816952.\u001b[0m\n"
     ]
    },
    {
     "name": "stdout",
     "output_type": "stream",
     "text": [
      "[LightGBM] [Warning] Unknown parameter: tree_method\n",
      "[LightGBM] [Warning] lambda_l1 is set=4.624813726379992, reg_alpha=0.0 will be ignored. Current value: lambda_l1=4.624813726379992\n",
      "[LightGBM] [Warning] feature_fraction is set=0.49369467823322816, colsample_bytree=1.0 will be ignored. Current value: feature_fraction=0.49369467823322816\n",
      "[LightGBM] [Warning] lambda_l2 is set=2.7446556910965603, reg_lambda=0.0 will be ignored. Current value: lambda_l2=2.7446556910965603\n",
      "[LightGBM] [Warning] bagging_fraction is set=0.5930568618506672, subsample=1.0 will be ignored. Current value: bagging_fraction=0.5930568618506672\n",
      "[LightGBM] [Warning] Unknown parameter: tree_method\n",
      "[LightGBM] [Warning] lambda_l1 is set=4.624813726379992, reg_alpha=0.0 will be ignored. Current value: lambda_l1=4.624813726379992\n",
      "[LightGBM] [Warning] feature_fraction is set=0.49369467823322816, colsample_bytree=1.0 will be ignored. Current value: feature_fraction=0.49369467823322816\n",
      "[LightGBM] [Warning] lambda_l2 is set=2.7446556910965603, reg_lambda=0.0 will be ignored. Current value: lambda_l2=2.7446556910965603\n",
      "[LightGBM] [Warning] bagging_fraction is set=0.5930568618506672, subsample=1.0 will be ignored. Current value: bagging_fraction=0.5930568618506672\n",
      "[LightGBM] [Warning] Unknown parameter: tree_method\n",
      "[LightGBM] [Warning] lambda_l1 is set=4.624813726379992, reg_alpha=0.0 will be ignored. Current value: lambda_l1=4.624813726379992\n",
      "[LightGBM] [Warning] feature_fraction is set=0.49369467823322816, colsample_bytree=1.0 will be ignored. Current value: feature_fraction=0.49369467823322816\n",
      "[LightGBM] [Warning] lambda_l2 is set=2.7446556910965603, reg_lambda=0.0 will be ignored. Current value: lambda_l2=2.7446556910965603\n",
      "[LightGBM] [Warning] bagging_fraction is set=0.5930568618506672, subsample=1.0 will be ignored. Current value: bagging_fraction=0.5930568618506672\n",
      "[LightGBM] [Warning] Unknown parameter: tree_method\n",
      "[LightGBM] [Warning] lambda_l1 is set=4.624813726379992, reg_alpha=0.0 will be ignored. Current value: lambda_l1=4.624813726379992\n",
      "[LightGBM] [Warning] feature_fraction is set=0.49369467823322816, colsample_bytree=1.0 will be ignored. Current value: feature_fraction=0.49369467823322816\n",
      "[LightGBM] [Warning] lambda_l2 is set=2.7446556910965603, reg_lambda=0.0 will be ignored. Current value: lambda_l2=2.7446556910965603\n",
      "[LightGBM] [Warning] bagging_fraction is set=0.5930568618506672, subsample=1.0 will be ignored. Current value: bagging_fraction=0.5930568618506672\n",
      "[LightGBM] [Warning] Unknown parameter: tree_method\n",
      "[LightGBM] [Warning] lambda_l1 is set=4.624813726379992, reg_alpha=0.0 will be ignored. Current value: lambda_l1=4.624813726379992\n",
      "[LightGBM] [Warning] feature_fraction is set=0.49369467823322816, colsample_bytree=1.0 will be ignored. Current value: feature_fraction=0.49369467823322816\n",
      "[LightGBM] [Warning] lambda_l2 is set=2.7446556910965603, reg_lambda=0.0 will be ignored. Current value: lambda_l2=2.7446556910965603\n",
      "[LightGBM] [Warning] bagging_fraction is set=0.5930568618506672, subsample=1.0 will be ignored. Current value: bagging_fraction=0.5930568618506672\n"
     ]
    },
    {
     "name": "stderr",
     "output_type": "stream",
     "text": [
      "\u001b[32m[I 2023-02-14 23:24:44,292]\u001b[0m Trial 33 finished with value: 0.8996225326938554 and parameters: {'n_estimators': 9382, 'learning_rate': 0.006248142685498666, 'max_depth': 11, 'lambda_l1': 4.624813726379992, 'lambda_l2': 2.7446556910965603, 'num_leaves': 21, 'bagging_fraction': 0.5930568618506672, 'feature_fraction': 0.49369467823322816}. Best is trial 18 with value: 0.9004299441816952.\u001b[0m\n"
     ]
    },
    {
     "name": "stdout",
     "output_type": "stream",
     "text": [
      "[LightGBM] [Warning] Unknown parameter: tree_method\n",
      "[LightGBM] [Warning] lambda_l1 is set=2.2807438496774752, reg_alpha=0.0 will be ignored. Current value: lambda_l1=2.2807438496774752\n",
      "[LightGBM] [Warning] feature_fraction is set=0.4198927245406302, colsample_bytree=1.0 will be ignored. Current value: feature_fraction=0.4198927245406302\n",
      "[LightGBM] [Warning] lambda_l2 is set=0.5819870997154577, reg_lambda=0.0 will be ignored. Current value: lambda_l2=0.5819870997154577\n",
      "[LightGBM] [Warning] bagging_fraction is set=0.7191732824179224, subsample=1.0 will be ignored. Current value: bagging_fraction=0.7191732824179224\n",
      "[LightGBM] [Warning] Unknown parameter: tree_method\n",
      "[LightGBM] [Warning] lambda_l1 is set=2.2807438496774752, reg_alpha=0.0 will be ignored. Current value: lambda_l1=2.2807438496774752\n",
      "[LightGBM] [Warning] feature_fraction is set=0.4198927245406302, colsample_bytree=1.0 will be ignored. Current value: feature_fraction=0.4198927245406302\n",
      "[LightGBM] [Warning] lambda_l2 is set=0.5819870997154577, reg_lambda=0.0 will be ignored. Current value: lambda_l2=0.5819870997154577\n",
      "[LightGBM] [Warning] bagging_fraction is set=0.7191732824179224, subsample=1.0 will be ignored. Current value: bagging_fraction=0.7191732824179224\n",
      "[LightGBM] [Warning] Unknown parameter: tree_method\n",
      "[LightGBM] [Warning] lambda_l1 is set=2.2807438496774752, reg_alpha=0.0 will be ignored. Current value: lambda_l1=2.2807438496774752\n",
      "[LightGBM] [Warning] feature_fraction is set=0.4198927245406302, colsample_bytree=1.0 will be ignored. Current value: feature_fraction=0.4198927245406302\n",
      "[LightGBM] [Warning] lambda_l2 is set=0.5819870997154577, reg_lambda=0.0 will be ignored. Current value: lambda_l2=0.5819870997154577\n",
      "[LightGBM] [Warning] bagging_fraction is set=0.7191732824179224, subsample=1.0 will be ignored. Current value: bagging_fraction=0.7191732824179224\n",
      "[LightGBM] [Warning] Unknown parameter: tree_method\n",
      "[LightGBM] [Warning] lambda_l1 is set=2.2807438496774752, reg_alpha=0.0 will be ignored. Current value: lambda_l1=2.2807438496774752\n",
      "[LightGBM] [Warning] feature_fraction is set=0.4198927245406302, colsample_bytree=1.0 will be ignored. Current value: feature_fraction=0.4198927245406302\n",
      "[LightGBM] [Warning] lambda_l2 is set=0.5819870997154577, reg_lambda=0.0 will be ignored. Current value: lambda_l2=0.5819870997154577\n",
      "[LightGBM] [Warning] bagging_fraction is set=0.7191732824179224, subsample=1.0 will be ignored. Current value: bagging_fraction=0.7191732824179224\n",
      "[LightGBM] [Warning] Unknown parameter: tree_method\n",
      "[LightGBM] [Warning] lambda_l1 is set=2.2807438496774752, reg_alpha=0.0 will be ignored. Current value: lambda_l1=2.2807438496774752\n",
      "[LightGBM] [Warning] feature_fraction is set=0.4198927245406302, colsample_bytree=1.0 will be ignored. Current value: feature_fraction=0.4198927245406302\n",
      "[LightGBM] [Warning] lambda_l2 is set=0.5819870997154577, reg_lambda=0.0 will be ignored. Current value: lambda_l2=0.5819870997154577\n",
      "[LightGBM] [Warning] bagging_fraction is set=0.7191732824179224, subsample=1.0 will be ignored. Current value: bagging_fraction=0.7191732824179224\n"
     ]
    },
    {
     "name": "stderr",
     "output_type": "stream",
     "text": [
      "\u001b[32m[I 2023-02-14 23:25:30,990]\u001b[0m Trial 34 finished with value: 0.8999092851650776 and parameters: {'n_estimators': 7313, 'learning_rate': 0.017882724413399286, 'max_depth': 10, 'lambda_l1': 2.2807438496774752, 'lambda_l2': 0.5819870997154577, 'num_leaves': 9, 'bagging_fraction': 0.7191732824179224, 'feature_fraction': 0.4198927245406302}. Best is trial 18 with value: 0.9004299441816952.\u001b[0m\n"
     ]
    },
    {
     "name": "stdout",
     "output_type": "stream",
     "text": [
      "[LightGBM] [Warning] Unknown parameter: tree_method\n",
      "[LightGBM] [Warning] lambda_l1 is set=1.2489564143093648, reg_alpha=0.0 will be ignored. Current value: lambda_l1=1.2489564143093648\n",
      "[LightGBM] [Warning] feature_fraction is set=0.5539889326842394, colsample_bytree=1.0 will be ignored. Current value: feature_fraction=0.5539889326842394\n",
      "[LightGBM] [Warning] lambda_l2 is set=1.143540133156666, reg_lambda=0.0 will be ignored. Current value: lambda_l2=1.143540133156666\n",
      "[LightGBM] [Warning] bagging_fraction is set=0.6428095198015383, subsample=1.0 will be ignored. Current value: bagging_fraction=0.6428095198015383\n",
      "[LightGBM] [Warning] Unknown parameter: tree_method\n",
      "[LightGBM] [Warning] lambda_l1 is set=1.2489564143093648, reg_alpha=0.0 will be ignored. Current value: lambda_l1=1.2489564143093648\n",
      "[LightGBM] [Warning] feature_fraction is set=0.5539889326842394, colsample_bytree=1.0 will be ignored. Current value: feature_fraction=0.5539889326842394\n",
      "[LightGBM] [Warning] lambda_l2 is set=1.143540133156666, reg_lambda=0.0 will be ignored. Current value: lambda_l2=1.143540133156666\n",
      "[LightGBM] [Warning] bagging_fraction is set=0.6428095198015383, subsample=1.0 will be ignored. Current value: bagging_fraction=0.6428095198015383\n",
      "[LightGBM] [Warning] Unknown parameter: tree_method\n",
      "[LightGBM] [Warning] lambda_l1 is set=1.2489564143093648, reg_alpha=0.0 will be ignored. Current value: lambda_l1=1.2489564143093648\n",
      "[LightGBM] [Warning] feature_fraction is set=0.5539889326842394, colsample_bytree=1.0 will be ignored. Current value: feature_fraction=0.5539889326842394\n",
      "[LightGBM] [Warning] lambda_l2 is set=1.143540133156666, reg_lambda=0.0 will be ignored. Current value: lambda_l2=1.143540133156666\n",
      "[LightGBM] [Warning] bagging_fraction is set=0.6428095198015383, subsample=1.0 will be ignored. Current value: bagging_fraction=0.6428095198015383\n",
      "[LightGBM] [Warning] Unknown parameter: tree_method\n",
      "[LightGBM] [Warning] lambda_l1 is set=1.2489564143093648, reg_alpha=0.0 will be ignored. Current value: lambda_l1=1.2489564143093648\n",
      "[LightGBM] [Warning] feature_fraction is set=0.5539889326842394, colsample_bytree=1.0 will be ignored. Current value: feature_fraction=0.5539889326842394\n",
      "[LightGBM] [Warning] lambda_l2 is set=1.143540133156666, reg_lambda=0.0 will be ignored. Current value: lambda_l2=1.143540133156666\n",
      "[LightGBM] [Warning] bagging_fraction is set=0.6428095198015383, subsample=1.0 will be ignored. Current value: bagging_fraction=0.6428095198015383\n",
      "[LightGBM] [Warning] Unknown parameter: tree_method\n",
      "[LightGBM] [Warning] lambda_l1 is set=1.2489564143093648, reg_alpha=0.0 will be ignored. Current value: lambda_l1=1.2489564143093648\n",
      "[LightGBM] [Warning] feature_fraction is set=0.5539889326842394, colsample_bytree=1.0 will be ignored. Current value: feature_fraction=0.5539889326842394\n",
      "[LightGBM] [Warning] lambda_l2 is set=1.143540133156666, reg_lambda=0.0 will be ignored. Current value: lambda_l2=1.143540133156666\n",
      "[LightGBM] [Warning] bagging_fraction is set=0.6428095198015383, subsample=1.0 will be ignored. Current value: bagging_fraction=0.6428095198015383\n"
     ]
    },
    {
     "name": "stderr",
     "output_type": "stream",
     "text": [
      "\u001b[32m[I 2023-02-14 23:28:08,817]\u001b[0m Trial 35 finished with value: 0.8970210808542476 and parameters: {'n_estimators': 8267, 'learning_rate': 0.008091828732045196, 'max_depth': 9, 'lambda_l1': 1.2489564143093648, 'lambda_l2': 1.143540133156666, 'num_leaves': 66, 'bagging_fraction': 0.6428095198015383, 'feature_fraction': 0.5539889326842394}. Best is trial 18 with value: 0.9004299441816952.\u001b[0m\n"
     ]
    },
    {
     "name": "stdout",
     "output_type": "stream",
     "text": [
      "[LightGBM] [Warning] Unknown parameter: tree_method\n",
      "[LightGBM] [Warning] lambda_l1 is set=0.6366400172227142, reg_alpha=0.0 will be ignored. Current value: lambda_l1=0.6366400172227142\n",
      "[LightGBM] [Warning] feature_fraction is set=0.38908713316227983, colsample_bytree=1.0 will be ignored. Current value: feature_fraction=0.38908713316227983\n",
      "[LightGBM] [Warning] lambda_l2 is set=1.7866757537687794, reg_lambda=0.0 will be ignored. Current value: lambda_l2=1.7866757537687794\n",
      "[LightGBM] [Warning] bagging_fraction is set=0.7744057573655962, subsample=1.0 will be ignored. Current value: bagging_fraction=0.7744057573655962\n",
      "[LightGBM] [Warning] Unknown parameter: tree_method\n",
      "[LightGBM] [Warning] lambda_l1 is set=0.6366400172227142, reg_alpha=0.0 will be ignored. Current value: lambda_l1=0.6366400172227142\n",
      "[LightGBM] [Warning] feature_fraction is set=0.38908713316227983, colsample_bytree=1.0 will be ignored. Current value: feature_fraction=0.38908713316227983\n",
      "[LightGBM] [Warning] lambda_l2 is set=1.7866757537687794, reg_lambda=0.0 will be ignored. Current value: lambda_l2=1.7866757537687794\n",
      "[LightGBM] [Warning] bagging_fraction is set=0.7744057573655962, subsample=1.0 will be ignored. Current value: bagging_fraction=0.7744057573655962\n",
      "[LightGBM] [Warning] Unknown parameter: tree_method\n",
      "[LightGBM] [Warning] lambda_l1 is set=0.6366400172227142, reg_alpha=0.0 will be ignored. Current value: lambda_l1=0.6366400172227142\n",
      "[LightGBM] [Warning] feature_fraction is set=0.38908713316227983, colsample_bytree=1.0 will be ignored. Current value: feature_fraction=0.38908713316227983\n",
      "[LightGBM] [Warning] lambda_l2 is set=1.7866757537687794, reg_lambda=0.0 will be ignored. Current value: lambda_l2=1.7866757537687794\n",
      "[LightGBM] [Warning] bagging_fraction is set=0.7744057573655962, subsample=1.0 will be ignored. Current value: bagging_fraction=0.7744057573655962\n",
      "[LightGBM] [Warning] Unknown parameter: tree_method\n",
      "[LightGBM] [Warning] lambda_l1 is set=0.6366400172227142, reg_alpha=0.0 will be ignored. Current value: lambda_l1=0.6366400172227142\n",
      "[LightGBM] [Warning] feature_fraction is set=0.38908713316227983, colsample_bytree=1.0 will be ignored. Current value: feature_fraction=0.38908713316227983\n",
      "[LightGBM] [Warning] lambda_l2 is set=1.7866757537687794, reg_lambda=0.0 will be ignored. Current value: lambda_l2=1.7866757537687794\n",
      "[LightGBM] [Warning] bagging_fraction is set=0.7744057573655962, subsample=1.0 will be ignored. Current value: bagging_fraction=0.7744057573655962\n",
      "[LightGBM] [Warning] Unknown parameter: tree_method\n",
      "[LightGBM] [Warning] lambda_l1 is set=0.6366400172227142, reg_alpha=0.0 will be ignored. Current value: lambda_l1=0.6366400172227142\n",
      "[LightGBM] [Warning] feature_fraction is set=0.38908713316227983, colsample_bytree=1.0 will be ignored. Current value: feature_fraction=0.38908713316227983\n",
      "[LightGBM] [Warning] lambda_l2 is set=1.7866757537687794, reg_lambda=0.0 will be ignored. Current value: lambda_l2=1.7866757537687794\n",
      "[LightGBM] [Warning] bagging_fraction is set=0.7744057573655962, subsample=1.0 will be ignored. Current value: bagging_fraction=0.7744057573655962\n"
     ]
    },
    {
     "name": "stderr",
     "output_type": "stream",
     "text": [
      "\u001b[32m[I 2023-02-14 23:29:52,431]\u001b[0m Trial 36 finished with value: 0.899056694226469 and parameters: {'n_estimators': 6104, 'learning_rate': 0.0024060226395088585, 'max_depth': 11, 'lambda_l1': 0.6366400172227142, 'lambda_l2': 1.7866757537687794, 'num_leaves': 50, 'bagging_fraction': 0.7744057573655962, 'feature_fraction': 0.38908713316227983}. Best is trial 18 with value: 0.9004299441816952.\u001b[0m\n"
     ]
    },
    {
     "name": "stdout",
     "output_type": "stream",
     "text": [
      "[LightGBM] [Warning] Unknown parameter: tree_method\n",
      "[LightGBM] [Warning] lambda_l1 is set=0.8000428960313068, reg_alpha=0.0 will be ignored. Current value: lambda_l1=0.8000428960313068\n",
      "[LightGBM] [Warning] feature_fraction is set=0.3276503087505557, colsample_bytree=1.0 will be ignored. Current value: feature_fraction=0.3276503087505557\n",
      "[LightGBM] [Warning] lambda_l2 is set=0.9064502993804515, reg_lambda=0.0 will be ignored. Current value: lambda_l2=0.9064502993804515\n",
      "[LightGBM] [Warning] bagging_fraction is set=0.5318905232258622, subsample=1.0 will be ignored. Current value: bagging_fraction=0.5318905232258622\n",
      "[LightGBM] [Warning] Unknown parameter: tree_method\n",
      "[LightGBM] [Warning] lambda_l1 is set=0.8000428960313068, reg_alpha=0.0 will be ignored. Current value: lambda_l1=0.8000428960313068\n",
      "[LightGBM] [Warning] feature_fraction is set=0.3276503087505557, colsample_bytree=1.0 will be ignored. Current value: feature_fraction=0.3276503087505557\n",
      "[LightGBM] [Warning] lambda_l2 is set=0.9064502993804515, reg_lambda=0.0 will be ignored. Current value: lambda_l2=0.9064502993804515\n",
      "[LightGBM] [Warning] bagging_fraction is set=0.5318905232258622, subsample=1.0 will be ignored. Current value: bagging_fraction=0.5318905232258622\n",
      "[LightGBM] [Warning] Unknown parameter: tree_method\n",
      "[LightGBM] [Warning] lambda_l1 is set=0.8000428960313068, reg_alpha=0.0 will be ignored. Current value: lambda_l1=0.8000428960313068\n",
      "[LightGBM] [Warning] feature_fraction is set=0.3276503087505557, colsample_bytree=1.0 will be ignored. Current value: feature_fraction=0.3276503087505557\n",
      "[LightGBM] [Warning] lambda_l2 is set=0.9064502993804515, reg_lambda=0.0 will be ignored. Current value: lambda_l2=0.9064502993804515\n",
      "[LightGBM] [Warning] bagging_fraction is set=0.5318905232258622, subsample=1.0 will be ignored. Current value: bagging_fraction=0.5318905232258622\n",
      "[LightGBM] [Warning] Unknown parameter: tree_method\n",
      "[LightGBM] [Warning] lambda_l1 is set=0.8000428960313068, reg_alpha=0.0 will be ignored. Current value: lambda_l1=0.8000428960313068\n",
      "[LightGBM] [Warning] feature_fraction is set=0.3276503087505557, colsample_bytree=1.0 will be ignored. Current value: feature_fraction=0.3276503087505557\n",
      "[LightGBM] [Warning] lambda_l2 is set=0.9064502993804515, reg_lambda=0.0 will be ignored. Current value: lambda_l2=0.9064502993804515\n",
      "[LightGBM] [Warning] bagging_fraction is set=0.5318905232258622, subsample=1.0 will be ignored. Current value: bagging_fraction=0.5318905232258622\n",
      "[LightGBM] [Warning] Unknown parameter: tree_method\n",
      "[LightGBM] [Warning] lambda_l1 is set=0.8000428960313068, reg_alpha=0.0 will be ignored. Current value: lambda_l1=0.8000428960313068\n",
      "[LightGBM] [Warning] feature_fraction is set=0.3276503087505557, colsample_bytree=1.0 will be ignored. Current value: feature_fraction=0.3276503087505557\n",
      "[LightGBM] [Warning] lambda_l2 is set=0.9064502993804515, reg_lambda=0.0 will be ignored. Current value: lambda_l2=0.9064502993804515\n",
      "[LightGBM] [Warning] bagging_fraction is set=0.5318905232258622, subsample=1.0 will be ignored. Current value: bagging_fraction=0.5318905232258622\n"
     ]
    },
    {
     "name": "stderr",
     "output_type": "stream",
     "text": [
      "\u001b[32m[I 2023-02-14 23:30:28,193]\u001b[0m Trial 37 finished with value: 0.8977526229152041 and parameters: {'n_estimators': 3492, 'learning_rate': 0.004080354751364609, 'max_depth': 12, 'lambda_l1': 0.8000428960313068, 'lambda_l2': 0.9064502993804515, 'num_leaves': 31, 'bagging_fraction': 0.5318905232258622, 'feature_fraction': 0.3276503087505557}. Best is trial 18 with value: 0.9004299441816952.\u001b[0m\n"
     ]
    },
    {
     "name": "stdout",
     "output_type": "stream",
     "text": [
      "[LightGBM] [Warning] Unknown parameter: tree_method\n",
      "[LightGBM] [Warning] lambda_l1 is set=0.41350658159277914, reg_alpha=0.0 will be ignored. Current value: lambda_l1=0.41350658159277914\n",
      "[LightGBM] [Warning] feature_fraction is set=0.47754926985088797, colsample_bytree=1.0 will be ignored. Current value: feature_fraction=0.47754926985088797\n",
      "[LightGBM] [Warning] lambda_l2 is set=3.2867121081087, reg_lambda=0.0 will be ignored. Current value: lambda_l2=3.2867121081087\n",
      "[LightGBM] [Warning] bagging_fraction is set=0.6114694295732271, subsample=1.0 will be ignored. Current value: bagging_fraction=0.6114694295732271\n",
      "[LightGBM] [Warning] Unknown parameter: tree_method\n",
      "[LightGBM] [Warning] lambda_l1 is set=0.41350658159277914, reg_alpha=0.0 will be ignored. Current value: lambda_l1=0.41350658159277914\n",
      "[LightGBM] [Warning] feature_fraction is set=0.47754926985088797, colsample_bytree=1.0 will be ignored. Current value: feature_fraction=0.47754926985088797\n",
      "[LightGBM] [Warning] lambda_l2 is set=3.2867121081087, reg_lambda=0.0 will be ignored. Current value: lambda_l2=3.2867121081087\n",
      "[LightGBM] [Warning] bagging_fraction is set=0.6114694295732271, subsample=1.0 will be ignored. Current value: bagging_fraction=0.6114694295732271\n",
      "[LightGBM] [Warning] Unknown parameter: tree_method\n",
      "[LightGBM] [Warning] lambda_l1 is set=0.41350658159277914, reg_alpha=0.0 will be ignored. Current value: lambda_l1=0.41350658159277914\n",
      "[LightGBM] [Warning] feature_fraction is set=0.47754926985088797, colsample_bytree=1.0 will be ignored. Current value: feature_fraction=0.47754926985088797\n",
      "[LightGBM] [Warning] lambda_l2 is set=3.2867121081087, reg_lambda=0.0 will be ignored. Current value: lambda_l2=3.2867121081087\n",
      "[LightGBM] [Warning] bagging_fraction is set=0.6114694295732271, subsample=1.0 will be ignored. Current value: bagging_fraction=0.6114694295732271\n",
      "[LightGBM] [Warning] Unknown parameter: tree_method\n",
      "[LightGBM] [Warning] lambda_l1 is set=0.41350658159277914, reg_alpha=0.0 will be ignored. Current value: lambda_l1=0.41350658159277914\n",
      "[LightGBM] [Warning] feature_fraction is set=0.47754926985088797, colsample_bytree=1.0 will be ignored. Current value: feature_fraction=0.47754926985088797\n",
      "[LightGBM] [Warning] lambda_l2 is set=3.2867121081087, reg_lambda=0.0 will be ignored. Current value: lambda_l2=3.2867121081087\n",
      "[LightGBM] [Warning] bagging_fraction is set=0.6114694295732271, subsample=1.0 will be ignored. Current value: bagging_fraction=0.6114694295732271\n",
      "[LightGBM] [Warning] Unknown parameter: tree_method\n",
      "[LightGBM] [Warning] lambda_l1 is set=0.41350658159277914, reg_alpha=0.0 will be ignored. Current value: lambda_l1=0.41350658159277914\n",
      "[LightGBM] [Warning] feature_fraction is set=0.47754926985088797, colsample_bytree=1.0 will be ignored. Current value: feature_fraction=0.47754926985088797\n",
      "[LightGBM] [Warning] lambda_l2 is set=3.2867121081087, reg_lambda=0.0 will be ignored. Current value: lambda_l2=3.2867121081087\n",
      "[LightGBM] [Warning] bagging_fraction is set=0.6114694295732271, subsample=1.0 will be ignored. Current value: bagging_fraction=0.6114694295732271\n"
     ]
    },
    {
     "name": "stderr",
     "output_type": "stream",
     "text": [
      "\u001b[32m[I 2023-02-14 23:32:00,099]\u001b[0m Trial 38 finished with value: 0.8960320803873254 and parameters: {'n_estimators': 8490, 'learning_rate': 0.020151679772125047, 'max_depth': 8, 'lambda_l1': 0.41350658159277914, 'lambda_l2': 3.2867121081087, 'num_leaves': 37, 'bagging_fraction': 0.6114694295732271, 'feature_fraction': 0.47754926985088797}. Best is trial 18 with value: 0.9004299441816952.\u001b[0m\n"
     ]
    },
    {
     "name": "stdout",
     "output_type": "stream",
     "text": [
      "[LightGBM] [Warning] Unknown parameter: tree_method\n",
      "[LightGBM] [Warning] lambda_l1 is set=1.1928959892851738, reg_alpha=0.0 will be ignored. Current value: lambda_l1=1.1928959892851738\n",
      "[LightGBM] [Warning] feature_fraction is set=0.5159164857341607, colsample_bytree=1.0 will be ignored. Current value: feature_fraction=0.5159164857341607\n",
      "[LightGBM] [Warning] lambda_l2 is set=1.9634643621536472, reg_lambda=0.0 will be ignored. Current value: lambda_l2=1.9634643621536472\n",
      "[LightGBM] [Warning] bagging_fraction is set=0.5762378533905923, subsample=1.0 will be ignored. Current value: bagging_fraction=0.5762378533905923\n",
      "[LightGBM] [Warning] Unknown parameter: tree_method\n",
      "[LightGBM] [Warning] lambda_l1 is set=1.1928959892851738, reg_alpha=0.0 will be ignored. Current value: lambda_l1=1.1928959892851738\n",
      "[LightGBM] [Warning] feature_fraction is set=0.5159164857341607, colsample_bytree=1.0 will be ignored. Current value: feature_fraction=0.5159164857341607\n",
      "[LightGBM] [Warning] lambda_l2 is set=1.9634643621536472, reg_lambda=0.0 will be ignored. Current value: lambda_l2=1.9634643621536472\n",
      "[LightGBM] [Warning] bagging_fraction is set=0.5762378533905923, subsample=1.0 will be ignored. Current value: bagging_fraction=0.5762378533905923\n",
      "[LightGBM] [Warning] Unknown parameter: tree_method\n",
      "[LightGBM] [Warning] lambda_l1 is set=1.1928959892851738, reg_alpha=0.0 will be ignored. Current value: lambda_l1=1.1928959892851738\n",
      "[LightGBM] [Warning] feature_fraction is set=0.5159164857341607, colsample_bytree=1.0 will be ignored. Current value: feature_fraction=0.5159164857341607\n",
      "[LightGBM] [Warning] lambda_l2 is set=1.9634643621536472, reg_lambda=0.0 will be ignored. Current value: lambda_l2=1.9634643621536472\n",
      "[LightGBM] [Warning] bagging_fraction is set=0.5762378533905923, subsample=1.0 will be ignored. Current value: bagging_fraction=0.5762378533905923\n",
      "[LightGBM] [Warning] Unknown parameter: tree_method\n",
      "[LightGBM] [Warning] lambda_l1 is set=1.1928959892851738, reg_alpha=0.0 will be ignored. Current value: lambda_l1=1.1928959892851738\n",
      "[LightGBM] [Warning] feature_fraction is set=0.5159164857341607, colsample_bytree=1.0 will be ignored. Current value: feature_fraction=0.5159164857341607\n",
      "[LightGBM] [Warning] lambda_l2 is set=1.9634643621536472, reg_lambda=0.0 will be ignored. Current value: lambda_l2=1.9634643621536472\n",
      "[LightGBM] [Warning] bagging_fraction is set=0.5762378533905923, subsample=1.0 will be ignored. Current value: bagging_fraction=0.5762378533905923\n"
     ]
    }
   ],
   "source": [
    "N_TRIALS = 50\n",
    "SEED = 42\n",
    "\n",
    "study = optuna.create_study(direction = 'maximize')\n",
    "study.optimize(Objective(SEED), n_trials = N_TRIALS)"
   ]
  },
  {
   "cell_type": "code",
   "execution_count": 9,
   "id": "67851ec6",
   "metadata": {},
   "outputs": [
    {
     "data": {
      "text/plain": [
       "[0.8990248712785431]"
      ]
     },
     "execution_count": 9,
     "metadata": {},
     "output_type": "execute_result"
    }
   ],
   "source": [
    "study.best_trial.values"
   ]
  },
  {
   "cell_type": "code",
   "execution_count": 10,
   "id": "2a22631b",
   "metadata": {},
   "outputs": [
    {
     "data": {
      "text/plain": [
       "{'n_estimators': 1636,\n",
       " 'learning_rate': 0.022275330029586263,\n",
       " 'max_depth': 8,\n",
       " 'lambda_l1': 0.02226373938692656,\n",
       " 'lambda_l2': 0.04119756851367091,\n",
       " 'num_leaves': 64,\n",
       " 'bagging_fraction': 0.494316389151127,\n",
       " 'feature_fraction': 0.5364579362079585}"
      ]
     },
     "execution_count": 10,
     "metadata": {},
     "output_type": "execute_result"
    }
   ],
   "source": [
    "study.best_trial.params"
   ]
  }
 ],
 "metadata": {
  "kernelspec": {
   "display_name": "conda_python3",
   "language": "python",
   "name": "conda_python3"
  },
  "language_info": {
   "codemirror_mode": {
    "name": "ipython",
    "version": 3
   },
   "file_extension": ".py",
   "mimetype": "text/x-python",
   "name": "python",
   "nbconvert_exporter": "python",
   "pygments_lexer": "ipython3",
   "version": "3.10.6"
  }
 },
 "nbformat": 4,
 "nbformat_minor": 5
}
