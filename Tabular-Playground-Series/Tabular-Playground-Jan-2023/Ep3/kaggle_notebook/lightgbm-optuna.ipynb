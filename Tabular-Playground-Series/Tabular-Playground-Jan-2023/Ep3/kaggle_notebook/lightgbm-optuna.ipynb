{
 "cells": [
  {
   "cell_type": "code",
   "execution_count": 1,
   "id": "356116dd",
   "metadata": {
    "_cell_guid": "b1076dfc-b9ad-4769-8c92-a6c4dae69d19",
    "_uuid": "8f2839f25d086af736a60e9eeb907d3b93b6e0e5",
    "execution": {
     "iopub.execute_input": "2023-01-17T21:09:49.111775Z",
     "iopub.status.busy": "2023-01-17T21:09:49.111115Z",
     "iopub.status.idle": "2023-01-17T21:09:51.567397Z",
     "shell.execute_reply": "2023-01-17T21:09:51.566342Z"
    },
    "papermill": {
     "duration": 2.470201,
     "end_time": "2023-01-17T21:09:51.570152",
     "exception": false,
     "start_time": "2023-01-17T21:09:49.099951",
     "status": "completed"
    },
    "tags": []
   },
   "outputs": [
    {
     "data": {
      "text/html": [
       "<style type='text/css'>\n",
       ".datatable table.frame { margin-bottom: 0; }\n",
       ".datatable table.frame thead { border-bottom: none; }\n",
       ".datatable table.frame tr.coltypes td {  color: #FFFFFF;  line-height: 6px;  padding: 0 0.5em;}\n",
       ".datatable .bool    { background: #DDDD99; }\n",
       ".datatable .object  { background: #565656; }\n",
       ".datatable .int     { background: #5D9E5D; }\n",
       ".datatable .float   { background: #4040CC; }\n",
       ".datatable .str     { background: #CC4040; }\n",
       ".datatable .time    { background: #40CC40; }\n",
       ".datatable .row_index {  background: var(--jp-border-color3);  border-right: 1px solid var(--jp-border-color0);  color: var(--jp-ui-font-color3);  font-size: 9px;}\n",
       ".datatable .frame tbody td { text-align: left; }\n",
       ".datatable .frame tr.coltypes .row_index {  background: var(--jp-border-color0);}\n",
       ".datatable th:nth-child(2) { padding-left: 12px; }\n",
       ".datatable .hellipsis {  color: var(--jp-cell-editor-border-color);}\n",
       ".datatable .vellipsis {  background: var(--jp-layout-color0);  color: var(--jp-cell-editor-border-color);}\n",
       ".datatable .na {  color: var(--jp-cell-editor-border-color);  font-size: 80%;}\n",
       ".datatable .sp {  opacity: 0.25;}\n",
       ".datatable .footer { font-size: 9px; }\n",
       ".datatable .frame_dimensions {  background: var(--jp-border-color3);  border-top: 1px solid var(--jp-border-color0);  color: var(--jp-ui-font-color3);  display: inline-block;  opacity: 0.6;  padding: 1px 10px 1px 5px;}\n",
       "</style>\n"
      ],
      "text/plain": [
       "<IPython.core.display.HTML object>"
      ]
     },
     "metadata": {},
     "output_type": "display_data"
    }
   ],
   "source": [
    "import warnings\n",
    "import random\n",
    "\n",
    "import pandas as pd\n",
    "import numpy as np\n",
    "\n",
    "import optuna as op\n",
    "import lightgbm as lg\n",
    "\n",
    "from sklearn.metrics import roc_auc_score\n",
    "from sklearn.model_selection import RepeatedStratifiedKFold\n",
    "\n",
    "warnings.filterwarnings(\"ignore\")\n",
    "op.logging.set_verbosity(op.logging.INFO)\n",
    "warnings.filterwarnings(\"ignore\", category=op.exceptions.ExperimentalWarning, module=\"optuna.*\")\n",
    "\n",
    "random.seed(1)"
   ]
  },
  {
   "cell_type": "markdown",
   "id": "3c148ac6",
   "metadata": {
    "papermill": {
     "duration": 0.007514,
     "end_time": "2023-01-17T21:09:51.585788",
     "exception": false,
     "start_time": "2023-01-17T21:09:51.578274",
     "status": "completed"
    },
    "tags": []
   },
   "source": [
    "# Data Import"
   ]
  },
  {
   "cell_type": "code",
   "execution_count": 2,
   "id": "c9dd9baa",
   "metadata": {
    "execution": {
     "iopub.execute_input": "2023-01-17T21:09:51.603129Z",
     "iopub.status.busy": "2023-01-17T21:09:51.602754Z",
     "iopub.status.idle": "2023-01-17T21:09:51.666848Z",
     "shell.execute_reply": "2023-01-17T21:09:51.665628Z"
    },
    "papermill": {
     "duration": 0.076023,
     "end_time": "2023-01-17T21:09:51.669553",
     "exception": false,
     "start_time": "2023-01-17T21:09:51.593530",
     "status": "completed"
    },
    "tags": []
   },
   "outputs": [],
   "source": [
    "train = pd.read_csv('/kaggle/input/playground-series-s3e3/train.csv')\n",
    "test = pd.read_csv('/kaggle/input/playground-series-s3e3/test.csv')\n",
    "original = pd.read_csv('/kaggle/input/ibm-hr-analytics-attrition-dataset/WA_Fn-UseC_-HR-Employee-Attrition.csv')"
   ]
  },
  {
   "cell_type": "code",
   "execution_count": 3,
   "id": "74a204c0",
   "metadata": {
    "execution": {
     "iopub.execute_input": "2023-01-17T21:09:51.687649Z",
     "iopub.status.busy": "2023-01-17T21:09:51.686951Z",
     "iopub.status.idle": "2023-01-17T21:09:51.705487Z",
     "shell.execute_reply": "2023-01-17T21:09:51.704510Z"
    },
    "papermill": {
     "duration": 0.030689,
     "end_time": "2023-01-17T21:09:51.708330",
     "exception": false,
     "start_time": "2023-01-17T21:09:51.677641",
     "status": "completed"
    },
    "tags": []
   },
   "outputs": [],
   "source": [
    "original = original.rename(columns={'EmployeeNumber': 'id'})\n",
    "original['Attrition'] = (original['Attrition'] == 'Yes').astype(int)\n",
    "original = original[train.columns.tolist()]"
   ]
  },
  {
   "cell_type": "code",
   "execution_count": 4,
   "id": "cb4da4bd",
   "metadata": {
    "execution": {
     "iopub.execute_input": "2023-01-17T21:09:51.727226Z",
     "iopub.status.busy": "2023-01-17T21:09:51.726799Z",
     "iopub.status.idle": "2023-01-17T21:09:51.741037Z",
     "shell.execute_reply": "2023-01-17T21:09:51.740160Z"
    },
    "papermill": {
     "duration": 0.027146,
     "end_time": "2023-01-17T21:09:51.743709",
     "exception": false,
     "start_time": "2023-01-17T21:09:51.716563",
     "status": "completed"
    },
    "tags": []
   },
   "outputs": [],
   "source": [
    "data = pd.concat([train, original]).reset_index(drop=True)"
   ]
  },
  {
   "cell_type": "code",
   "execution_count": 5,
   "id": "bc2959fa",
   "metadata": {
    "_kg_hide-input": true,
    "execution": {
     "iopub.execute_input": "2023-01-17T21:09:51.763228Z",
     "iopub.status.busy": "2023-01-17T21:09:51.762457Z",
     "iopub.status.idle": "2023-01-17T21:09:51.789069Z",
     "shell.execute_reply": "2023-01-17T21:09:51.788297Z"
    },
    "papermill": {
     "duration": 0.038237,
     "end_time": "2023-01-17T21:09:51.791560",
     "exception": false,
     "start_time": "2023-01-17T21:09:51.753323",
     "status": "completed"
    },
    "tags": []
   },
   "outputs": [
    {
     "data": {
      "text/html": [
       "<div>\n",
       "<style scoped>\n",
       "    .dataframe tbody tr th:only-of-type {\n",
       "        vertical-align: middle;\n",
       "    }\n",
       "\n",
       "    .dataframe tbody tr th {\n",
       "        vertical-align: top;\n",
       "    }\n",
       "\n",
       "    .dataframe thead th {\n",
       "        text-align: right;\n",
       "    }\n",
       "</style>\n",
       "<table border=\"1\" class=\"dataframe\">\n",
       "  <thead>\n",
       "    <tr style=\"text-align: right;\">\n",
       "      <th></th>\n",
       "      <th>id</th>\n",
       "      <th>Age</th>\n",
       "      <th>BusinessTravel</th>\n",
       "      <th>DailyRate</th>\n",
       "      <th>Department</th>\n",
       "      <th>DistanceFromHome</th>\n",
       "      <th>Education</th>\n",
       "      <th>EducationField</th>\n",
       "      <th>EmployeeCount</th>\n",
       "      <th>EnvironmentSatisfaction</th>\n",
       "      <th>...</th>\n",
       "      <th>StandardHours</th>\n",
       "      <th>StockOptionLevel</th>\n",
       "      <th>TotalWorkingYears</th>\n",
       "      <th>TrainingTimesLastYear</th>\n",
       "      <th>WorkLifeBalance</th>\n",
       "      <th>YearsAtCompany</th>\n",
       "      <th>YearsInCurrentRole</th>\n",
       "      <th>YearsSinceLastPromotion</th>\n",
       "      <th>YearsWithCurrManager</th>\n",
       "      <th>Attrition</th>\n",
       "    </tr>\n",
       "  </thead>\n",
       "  <tbody>\n",
       "    <tr>\n",
       "      <th>0</th>\n",
       "      <td>0</td>\n",
       "      <td>36</td>\n",
       "      <td>Travel_Frequently</td>\n",
       "      <td>599</td>\n",
       "      <td>Research &amp; Development</td>\n",
       "      <td>24</td>\n",
       "      <td>3</td>\n",
       "      <td>Medical</td>\n",
       "      <td>1</td>\n",
       "      <td>4</td>\n",
       "      <td>...</td>\n",
       "      <td>80</td>\n",
       "      <td>1</td>\n",
       "      <td>10</td>\n",
       "      <td>2</td>\n",
       "      <td>3</td>\n",
       "      <td>10</td>\n",
       "      <td>0</td>\n",
       "      <td>7</td>\n",
       "      <td>8</td>\n",
       "      <td>0</td>\n",
       "    </tr>\n",
       "    <tr>\n",
       "      <th>1</th>\n",
       "      <td>1</td>\n",
       "      <td>35</td>\n",
       "      <td>Travel_Rarely</td>\n",
       "      <td>921</td>\n",
       "      <td>Sales</td>\n",
       "      <td>8</td>\n",
       "      <td>3</td>\n",
       "      <td>Other</td>\n",
       "      <td>1</td>\n",
       "      <td>1</td>\n",
       "      <td>...</td>\n",
       "      <td>80</td>\n",
       "      <td>1</td>\n",
       "      <td>4</td>\n",
       "      <td>3</td>\n",
       "      <td>3</td>\n",
       "      <td>4</td>\n",
       "      <td>2</td>\n",
       "      <td>0</td>\n",
       "      <td>3</td>\n",
       "      <td>0</td>\n",
       "    </tr>\n",
       "    <tr>\n",
       "      <th>2</th>\n",
       "      <td>2</td>\n",
       "      <td>32</td>\n",
       "      <td>Travel_Rarely</td>\n",
       "      <td>718</td>\n",
       "      <td>Sales</td>\n",
       "      <td>26</td>\n",
       "      <td>3</td>\n",
       "      <td>Marketing</td>\n",
       "      <td>1</td>\n",
       "      <td>3</td>\n",
       "      <td>...</td>\n",
       "      <td>80</td>\n",
       "      <td>2</td>\n",
       "      <td>4</td>\n",
       "      <td>3</td>\n",
       "      <td>3</td>\n",
       "      <td>3</td>\n",
       "      <td>2</td>\n",
       "      <td>1</td>\n",
       "      <td>2</td>\n",
       "      <td>0</td>\n",
       "    </tr>\n",
       "    <tr>\n",
       "      <th>3</th>\n",
       "      <td>3</td>\n",
       "      <td>38</td>\n",
       "      <td>Travel_Rarely</td>\n",
       "      <td>1488</td>\n",
       "      <td>Research &amp; Development</td>\n",
       "      <td>2</td>\n",
       "      <td>3</td>\n",
       "      <td>Medical</td>\n",
       "      <td>1</td>\n",
       "      <td>3</td>\n",
       "      <td>...</td>\n",
       "      <td>80</td>\n",
       "      <td>0</td>\n",
       "      <td>15</td>\n",
       "      <td>1</td>\n",
       "      <td>1</td>\n",
       "      <td>6</td>\n",
       "      <td>0</td>\n",
       "      <td>0</td>\n",
       "      <td>2</td>\n",
       "      <td>0</td>\n",
       "    </tr>\n",
       "    <tr>\n",
       "      <th>4</th>\n",
       "      <td>4</td>\n",
       "      <td>50</td>\n",
       "      <td>Travel_Rarely</td>\n",
       "      <td>1017</td>\n",
       "      <td>Research &amp; Development</td>\n",
       "      <td>5</td>\n",
       "      <td>4</td>\n",
       "      <td>Medical</td>\n",
       "      <td>1</td>\n",
       "      <td>2</td>\n",
       "      <td>...</td>\n",
       "      <td>80</td>\n",
       "      <td>0</td>\n",
       "      <td>31</td>\n",
       "      <td>0</td>\n",
       "      <td>3</td>\n",
       "      <td>31</td>\n",
       "      <td>14</td>\n",
       "      <td>4</td>\n",
       "      <td>10</td>\n",
       "      <td>1</td>\n",
       "    </tr>\n",
       "  </tbody>\n",
       "</table>\n",
       "<p>5 rows × 35 columns</p>\n",
       "</div>"
      ],
      "text/plain": [
       "   id  Age     BusinessTravel  DailyRate              Department  \\\n",
       "0   0   36  Travel_Frequently        599  Research & Development   \n",
       "1   1   35      Travel_Rarely        921                   Sales   \n",
       "2   2   32      Travel_Rarely        718                   Sales   \n",
       "3   3   38      Travel_Rarely       1488  Research & Development   \n",
       "4   4   50      Travel_Rarely       1017  Research & Development   \n",
       "\n",
       "   DistanceFromHome  Education EducationField  EmployeeCount  \\\n",
       "0                24          3        Medical              1   \n",
       "1                 8          3          Other              1   \n",
       "2                26          3      Marketing              1   \n",
       "3                 2          3        Medical              1   \n",
       "4                 5          4        Medical              1   \n",
       "\n",
       "   EnvironmentSatisfaction  ... StandardHours  StockOptionLevel  \\\n",
       "0                        4  ...            80                 1   \n",
       "1                        1  ...            80                 1   \n",
       "2                        3  ...            80                 2   \n",
       "3                        3  ...            80                 0   \n",
       "4                        2  ...            80                 0   \n",
       "\n",
       "   TotalWorkingYears  TrainingTimesLastYear WorkLifeBalance  YearsAtCompany  \\\n",
       "0                 10                      2               3              10   \n",
       "1                  4                      3               3               4   \n",
       "2                  4                      3               3               3   \n",
       "3                 15                      1               1               6   \n",
       "4                 31                      0               3              31   \n",
       "\n",
       "  YearsInCurrentRole  YearsSinceLastPromotion  YearsWithCurrManager  Attrition  \n",
       "0                  0                        7                     8          0  \n",
       "1                  2                        0                     3          0  \n",
       "2                  2                        1                     2          0  \n",
       "3                  0                        0                     2          0  \n",
       "4                 14                        4                    10          1  \n",
       "\n",
       "[5 rows x 35 columns]"
      ]
     },
     "execution_count": 5,
     "metadata": {},
     "output_type": "execute_result"
    }
   ],
   "source": [
    "data.head()"
   ]
  },
  {
   "cell_type": "code",
   "execution_count": 6,
   "id": "789f1fbb",
   "metadata": {
    "_kg_hide-input": true,
    "_kg_hide-output": true,
    "execution": {
     "iopub.execute_input": "2023-01-17T21:09:51.810521Z",
     "iopub.status.busy": "2023-01-17T21:09:51.810031Z",
     "iopub.status.idle": "2023-01-17T21:09:51.820405Z",
     "shell.execute_reply": "2023-01-17T21:09:51.819113Z"
    },
    "papermill": {
     "duration": 0.023486,
     "end_time": "2023-01-17T21:09:51.823523",
     "exception": false,
     "start_time": "2023-01-17T21:09:51.800037",
     "status": "completed"
    },
    "tags": []
   },
   "outputs": [
    {
     "name": "stdout",
     "output_type": "stream",
     "text": [
      "Orignial Training Dataset\n",
      " 0    1477\n",
      "1     200\n",
      "Name: Attrition, dtype: int64\n",
      "Extended Dataset\n",
      " 0    2710\n",
      "1     437\n",
      "Name: Attrition, dtype: int64\n"
     ]
    }
   ],
   "source": [
    "print(f\"Orignial Training Dataset\\n {train.Attrition.value_counts()}\")\n",
    "print(f\"Extended Dataset\\n {data.Attrition.value_counts()}\")"
   ]
  },
  {
   "cell_type": "code",
   "execution_count": 7,
   "id": "6586ef1a",
   "metadata": {
    "_kg_hide-input": true,
    "_kg_hide-output": true,
    "execution": {
     "iopub.execute_input": "2023-01-17T21:09:51.842667Z",
     "iopub.status.busy": "2023-01-17T21:09:51.842180Z",
     "iopub.status.idle": "2023-01-17T21:09:51.862968Z",
     "shell.execute_reply": "2023-01-17T21:09:51.861824Z"
    },
    "papermill": {
     "duration": 0.034531,
     "end_time": "2023-01-17T21:09:51.866670",
     "exception": false,
     "start_time": "2023-01-17T21:09:51.832139",
     "status": "completed"
    },
    "tags": []
   },
   "outputs": [
    {
     "name": "stdout",
     "output_type": "stream",
     "text": [
      "<class 'pandas.core.frame.DataFrame'>\n",
      "RangeIndex: 3147 entries, 0 to 3146\n",
      "Data columns (total 35 columns):\n",
      " #   Column                    Non-Null Count  Dtype \n",
      "---  ------                    --------------  ----- \n",
      " 0   id                        3147 non-null   int64 \n",
      " 1   Age                       3147 non-null   int64 \n",
      " 2   BusinessTravel            3147 non-null   object\n",
      " 3   DailyRate                 3147 non-null   int64 \n",
      " 4   Department                3147 non-null   object\n",
      " 5   DistanceFromHome          3147 non-null   int64 \n",
      " 6   Education                 3147 non-null   int64 \n",
      " 7   EducationField            3147 non-null   object\n",
      " 8   EmployeeCount             3147 non-null   int64 \n",
      " 9   EnvironmentSatisfaction   3147 non-null   int64 \n",
      " 10  Gender                    3147 non-null   object\n",
      " 11  HourlyRate                3147 non-null   int64 \n",
      " 12  JobInvolvement            3147 non-null   int64 \n",
      " 13  JobLevel                  3147 non-null   int64 \n",
      " 14  JobRole                   3147 non-null   object\n",
      " 15  JobSatisfaction           3147 non-null   int64 \n",
      " 16  MaritalStatus             3147 non-null   object\n",
      " 17  MonthlyIncome             3147 non-null   int64 \n",
      " 18  MonthlyRate               3147 non-null   int64 \n",
      " 19  NumCompaniesWorked        3147 non-null   int64 \n",
      " 20  Over18                    3147 non-null   object\n",
      " 21  OverTime                  3147 non-null   object\n",
      " 22  PercentSalaryHike         3147 non-null   int64 \n",
      " 23  PerformanceRating         3147 non-null   int64 \n",
      " 24  RelationshipSatisfaction  3147 non-null   int64 \n",
      " 25  StandardHours             3147 non-null   int64 \n",
      " 26  StockOptionLevel          3147 non-null   int64 \n",
      " 27  TotalWorkingYears         3147 non-null   int64 \n",
      " 28  TrainingTimesLastYear     3147 non-null   int64 \n",
      " 29  WorkLifeBalance           3147 non-null   int64 \n",
      " 30  YearsAtCompany            3147 non-null   int64 \n",
      " 31  YearsInCurrentRole        3147 non-null   int64 \n",
      " 32  YearsSinceLastPromotion   3147 non-null   int64 \n",
      " 33  YearsWithCurrManager      3147 non-null   int64 \n",
      " 34  Attrition                 3147 non-null   int64 \n",
      "dtypes: int64(27), object(8)\n",
      "memory usage: 860.6+ KB\n"
     ]
    }
   ],
   "source": [
    "data.info()"
   ]
  },
  {
   "cell_type": "code",
   "execution_count": 8,
   "id": "b2af4669",
   "metadata": {
    "_kg_hide-input": true,
    "_kg_hide-output": true,
    "execution": {
     "iopub.execute_input": "2023-01-17T21:09:51.885154Z",
     "iopub.status.busy": "2023-01-17T21:09:51.884768Z",
     "iopub.status.idle": "2023-01-17T21:09:51.901441Z",
     "shell.execute_reply": "2023-01-17T21:09:51.900143Z"
    },
    "papermill": {
     "duration": 0.028979,
     "end_time": "2023-01-17T21:09:51.903935",
     "exception": false,
     "start_time": "2023-01-17T21:09:51.874956",
     "status": "completed"
    },
    "tags": []
   },
   "outputs": [
    {
     "data": {
      "text/plain": [
       "StandardHours                  1\n",
       "EmployeeCount                  1\n",
       "Over18                         1\n",
       "Attrition                      2\n",
       "PerformanceRating              2\n",
       "OverTime                       2\n",
       "Gender                         2\n",
       "BusinessTravel                 3\n",
       "Department                     3\n",
       "MaritalStatus                  3\n",
       "WorkLifeBalance                4\n",
       "StockOptionLevel               4\n",
       "RelationshipSatisfaction       4\n",
       "JobSatisfaction                4\n",
       "JobInvolvement                 4\n",
       "EnvironmentSatisfaction        4\n",
       "Education                      5\n",
       "JobLevel                       5\n",
       "EducationField                 6\n",
       "TrainingTimesLastYear          7\n",
       "JobRole                        9\n",
       "NumCompaniesWorked            10\n",
       "PercentSalaryHike             15\n",
       "YearsSinceLastPromotion       16\n",
       "YearsWithCurrManager          18\n",
       "YearsInCurrentRole            19\n",
       "DistanceFromHome              29\n",
       "YearsAtCompany                37\n",
       "TotalWorkingYears             40\n",
       "Age                           43\n",
       "HourlyRate                    71\n",
       "DailyRate                    886\n",
       "MonthlyIncome               1349\n",
       "MonthlyRate                 1427\n",
       "id                          1470\n",
       "dtype: int64"
      ]
     },
     "execution_count": 8,
     "metadata": {},
     "output_type": "execute_result"
    }
   ],
   "source": [
    "original.nunique().sort_values()"
   ]
  },
  {
   "cell_type": "markdown",
   "id": "a467f97b",
   "metadata": {
    "papermill": {
     "duration": 0.007987,
     "end_time": "2023-01-17T21:09:51.920373",
     "exception": false,
     "start_time": "2023-01-17T21:09:51.912386",
     "status": "completed"
    },
    "tags": []
   },
   "source": [
    "# Preprocessing"
   ]
  },
  {
   "cell_type": "markdown",
   "id": "80a22236",
   "metadata": {
    "papermill": {
     "duration": 0.00795,
     "end_time": "2023-01-17T21:09:51.936782",
     "exception": false,
     "start_time": "2023-01-17T21:09:51.928832",
     "status": "completed"
    },
    "tags": []
   },
   "source": [
    "## Lightgbm"
   ]
  },
  {
   "cell_type": "code",
   "execution_count": 9,
   "id": "1349fe49",
   "metadata": {
    "execution": {
     "iopub.execute_input": "2023-01-17T21:09:51.955284Z",
     "iopub.status.busy": "2023-01-17T21:09:51.954900Z",
     "iopub.status.idle": "2023-01-17T21:09:51.964451Z",
     "shell.execute_reply": "2023-01-17T21:09:51.963092Z"
    },
    "papermill": {
     "duration": 0.022219,
     "end_time": "2023-01-17T21:09:51.967259",
     "exception": false,
     "start_time": "2023-01-17T21:09:51.945040",
     "status": "completed"
    },
    "tags": []
   },
   "outputs": [],
   "source": [
    "def preprocessing_lightgbm(df):\n",
    "    df = df.drop(['id'], axis=1)\n",
    "    \n",
    "    category_columns = ['StandardHours', 'EmployeeCount', 'Over18','Education', 'PerformanceRating',\n",
    "                        'OverTime', 'Gender', 'BusinessTravel', 'Department', 'MaritalStatus',\n",
    "                        'WorkLifeBalance', 'StockOptionLevel', 'RelationshipSatisfaction',\n",
    "                        'JobSatisfaction', 'EnvironmentSatisfaction', 'Education', 'JobLevel',\n",
    "                        'EducationField', 'TrainingTimesLastYear', 'JobRole', 'Department']\n",
    "    for col in category_columns:\n",
    "        df[col] = df[col].astype('category')\n",
    "    \n",
    "    numerical_columns = ['NumCompaniesWorked', 'PercentSalaryHike', 'DistanceFromHome',\n",
    "                         'YearsSinceLastPromotion', 'YearsWithCurrManager', 'YearsInCurrentRole',\n",
    "                         'YearsAtCompany', 'TotalWorkingYears', 'MonthlyIncome']\n",
    "    for col in numerical_columns:\n",
    "        df[col] = df[col].astype(int)\n",
    "    \n",
    "    # Approximately Poisson Distributed -> Square-Root-Transformation\n",
    "    transform_columns = ['DistanceFromHome', 'YearsSinceLastPromotion', 'YearsWithCurrManager',\n",
    "                        'YearsInCurrentRole', 'YearsAtCompany', 'TotalWorkingYears', 'MonthlyIncome']\n",
    "    for col in transform_columns:\n",
    "        df[col] = np.sqrt(df[col])\n",
    "     \n",
    "    return df"
   ]
  },
  {
   "cell_type": "code",
   "execution_count": 10,
   "id": "b14de026",
   "metadata": {
    "execution": {
     "iopub.execute_input": "2023-01-17T21:09:51.986341Z",
     "iopub.status.busy": "2023-01-17T21:09:51.985917Z",
     "iopub.status.idle": "2023-01-17T21:09:52.058332Z",
     "shell.execute_reply": "2023-01-17T21:09:52.056497Z"
    },
    "papermill": {
     "duration": 0.085722,
     "end_time": "2023-01-17T21:09:52.061487",
     "exception": false,
     "start_time": "2023-01-17T21:09:51.975765",
     "status": "completed"
    },
    "tags": []
   },
   "outputs": [],
   "source": [
    "train_lgb = preprocessing_lightgbm(train)\n",
    "data_lgb = preprocessing_lightgbm(data)\n",
    "test_lgb = preprocessing_lightgbm(test)"
   ]
  },
  {
   "cell_type": "code",
   "execution_count": 11,
   "id": "3e6b51cd",
   "metadata": {
    "_kg_hide-input": true,
    "_kg_hide-output": true,
    "execution": {
     "iopub.execute_input": "2023-01-17T21:09:52.081933Z",
     "iopub.status.busy": "2023-01-17T21:09:52.081128Z",
     "iopub.status.idle": "2023-01-17T21:09:52.108275Z",
     "shell.execute_reply": "2023-01-17T21:09:52.106428Z"
    },
    "papermill": {
     "duration": 0.040575,
     "end_time": "2023-01-17T21:09:52.111129",
     "exception": false,
     "start_time": "2023-01-17T21:09:52.070554",
     "status": "completed"
    },
    "tags": []
   },
   "outputs": [
    {
     "name": "stdout",
     "output_type": "stream",
     "text": [
      "<class 'pandas.core.frame.DataFrame'>\n",
      "RangeIndex: 1677 entries, 0 to 1676\n",
      "Data columns (total 34 columns):\n",
      " #   Column                    Non-Null Count  Dtype   \n",
      "---  ------                    --------------  -----   \n",
      " 0   Age                       1677 non-null   int64   \n",
      " 1   BusinessTravel            1677 non-null   category\n",
      " 2   DailyRate                 1677 non-null   int64   \n",
      " 3   Department                1677 non-null   category\n",
      " 4   DistanceFromHome          1677 non-null   float64 \n",
      " 5   Education                 1677 non-null   category\n",
      " 6   EducationField            1677 non-null   category\n",
      " 7   EmployeeCount             1677 non-null   category\n",
      " 8   EnvironmentSatisfaction   1677 non-null   category\n",
      " 9   Gender                    1677 non-null   category\n",
      " 10  HourlyRate                1677 non-null   int64   \n",
      " 11  JobInvolvement            1677 non-null   int64   \n",
      " 12  JobLevel                  1677 non-null   category\n",
      " 13  JobRole                   1677 non-null   category\n",
      " 14  JobSatisfaction           1677 non-null   category\n",
      " 15  MaritalStatus             1677 non-null   category\n",
      " 16  MonthlyIncome             1677 non-null   float64 \n",
      " 17  MonthlyRate               1677 non-null   int64   \n",
      " 18  NumCompaniesWorked        1677 non-null   int64   \n",
      " 19  Over18                    1677 non-null   category\n",
      " 20  OverTime                  1677 non-null   category\n",
      " 21  PercentSalaryHike         1677 non-null   int64   \n",
      " 22  PerformanceRating         1677 non-null   category\n",
      " 23  RelationshipSatisfaction  1677 non-null   category\n",
      " 24  StandardHours             1677 non-null   category\n",
      " 25  StockOptionLevel          1677 non-null   category\n",
      " 26  TotalWorkingYears         1677 non-null   float64 \n",
      " 27  TrainingTimesLastYear     1677 non-null   category\n",
      " 28  WorkLifeBalance           1677 non-null   category\n",
      " 29  YearsAtCompany            1677 non-null   float64 \n",
      " 30  YearsInCurrentRole        1677 non-null   float64 \n",
      " 31  YearsSinceLastPromotion   1677 non-null   float64 \n",
      " 32  YearsWithCurrManager      1677 non-null   float64 \n",
      " 33  Attrition                 1677 non-null   int64   \n",
      "dtypes: category(19), float64(7), int64(8)\n",
      "memory usage: 231.2 KB\n"
     ]
    }
   ],
   "source": [
    "train_lgb.info()"
   ]
  },
  {
   "cell_type": "code",
   "execution_count": 12,
   "id": "b9130094",
   "metadata": {
    "execution": {
     "iopub.execute_input": "2023-01-17T21:09:52.130982Z",
     "iopub.status.busy": "2023-01-17T21:09:52.130508Z",
     "iopub.status.idle": "2023-01-17T21:09:52.138791Z",
     "shell.execute_reply": "2023-01-17T21:09:52.137772Z"
    },
    "papermill": {
     "duration": 0.021521,
     "end_time": "2023-01-17T21:09:52.141354",
     "exception": false,
     "start_time": "2023-01-17T21:09:52.119833",
     "status": "completed"
    },
    "tags": []
   },
   "outputs": [],
   "source": [
    "y = data_lgb['Attrition']\n",
    "x = data_lgb.drop(['Attrition'], axis=1)"
   ]
  },
  {
   "cell_type": "markdown",
   "id": "7cf346ca",
   "metadata": {
    "papermill": {
     "duration": 0.008138,
     "end_time": "2023-01-17T21:09:52.158208",
     "exception": false,
     "start_time": "2023-01-17T21:09:52.150070",
     "status": "completed"
    },
    "tags": []
   },
   "source": [
    "The large dataset will be used for hyperparameter tuning. However, the model will only be validated on the actual data set provided as part of this competition to prevent the validation on a data set that might come from a slightly different distribution [...]"
   ]
  },
  {
   "cell_type": "code",
   "execution_count": 13,
   "id": "5e30aeb6",
   "metadata": {
    "execution": {
     "iopub.execute_input": "2023-01-17T21:09:52.177559Z",
     "iopub.status.busy": "2023-01-17T21:09:52.176869Z",
     "iopub.status.idle": "2023-01-17T21:09:52.185057Z",
     "shell.execute_reply": "2023-01-17T21:09:52.184156Z"
    },
    "papermill": {
     "duration": 0.020661,
     "end_time": "2023-01-17T21:09:52.187496",
     "exception": false,
     "start_time": "2023-01-17T21:09:52.166835",
     "status": "completed"
    },
    "tags": []
   },
   "outputs": [],
   "source": [
    "y_val = train_lgb['Attrition']\n",
    "x_val = train_lgb.drop(['Attrition'], axis=1)"
   ]
  },
  {
   "cell_type": "code",
   "execution_count": 14,
   "id": "c55f9fdb",
   "metadata": {
    "execution": {
     "iopub.execute_input": "2023-01-17T21:09:52.206458Z",
     "iopub.status.busy": "2023-01-17T21:09:52.206018Z",
     "iopub.status.idle": "2023-01-17T21:09:52.210907Z",
     "shell.execute_reply": "2023-01-17T21:09:52.209622Z"
    },
    "papermill": {
     "duration": 0.017469,
     "end_time": "2023-01-17T21:09:52.213500",
     "exception": false,
     "start_time": "2023-01-17T21:09:52.196031",
     "status": "completed"
    },
    "tags": []
   },
   "outputs": [],
   "source": [
    "#from sklearn.utils.class_weight import compute_sample_weight\n",
    "#weights_df = pd.DataFrame(compute_sample_weight('balanced', data.Attrition), columns=['weight'])"
   ]
  },
  {
   "cell_type": "markdown",
   "id": "56a5e3b2",
   "metadata": {
    "papermill": {
     "duration": 0.008638,
     "end_time": "2023-01-17T21:09:52.230763",
     "exception": false,
     "start_time": "2023-01-17T21:09:52.222125",
     "status": "completed"
    },
    "tags": []
   },
   "source": [
    "# Optuna Hyperparameter Tuning"
   ]
  },
  {
   "cell_type": "markdown",
   "id": "2d2b8d34",
   "metadata": {
    "papermill": {
     "duration": 0.008524,
     "end_time": "2023-01-17T21:09:52.247791",
     "exception": false,
     "start_time": "2023-01-17T21:09:52.239267",
     "status": "completed"
    },
    "tags": []
   },
   "source": [
    "Run trials that include [repeated] stratified K-fold cross validation. A high split gives more certainty towards the prevention of overfitting, the repetitions add to this."
   ]
  },
  {
   "cell_type": "code",
   "execution_count": 15,
   "id": "6c59c8b6",
   "metadata": {
    "execution": {
     "iopub.execute_input": "2023-01-17T21:09:52.267121Z",
     "iopub.status.busy": "2023-01-17T21:09:52.266457Z",
     "iopub.status.idle": "2023-01-17T21:09:52.278433Z",
     "shell.execute_reply": "2023-01-17T21:09:52.277263Z"
    },
    "papermill": {
     "duration": 0.024734,
     "end_time": "2023-01-17T21:09:52.281261",
     "exception": false,
     "start_time": "2023-01-17T21:09:52.256527",
     "status": "completed"
    },
    "tags": []
   },
   "outputs": [],
   "source": [
    "rskf = RepeatedStratifiedKFold(n_repeats=5, n_splits=25, random_state=1)\n",
    "\n",
    "def objective(trial):\n",
    "    \n",
    "    scores = []\n",
    "    \n",
    "    params = {\n",
    "        \"objective\": \"binary\",\n",
    "        \"metric\": \"auc\",\n",
    "        \"verbosity\": -1,\n",
    "        'boosting_type': 'gbdt',\n",
    "        \"lambda_l1\": trial.suggest_float(\"lambda_l1\", 1e-5, 10.0, log=True),\n",
    "        \"lambda_l2\": trial.suggest_float(\"lambda_l2\", 1e-4, 10.0, log=True),\n",
    "        'max_depth': trial.suggest_int('max_depth', 2, 75),\n",
    "        \"num_leaves\": trial.suggest_int(\"num_leaves\", 2, 256),\n",
    "        \"feature_fraction\": trial.suggest_float(\"feature_fraction\", 0.35, 1.0),\n",
    "        \"bagging_fraction\": trial.suggest_float(\"bagging_fraction\", 0.5, 1.0),\n",
    "        \"bagging_freq\": trial.suggest_int(\"bagging_freq\", 1, 8),\n",
    "        \"min_child_samples\": trial.suggest_int(\"min_child_samples\", 5, 25),\n",
    "    }\n",
    "    \n",
    "    for i, (train_idx, test_index) in enumerate(rskf.split(x, y)):\n",
    "        \n",
    "        dtrain = lg.Dataset(x.iloc[train_idx], label=y.iloc[train_idx])\n",
    "        dval = lg.Dataset(x.iloc[test_index], label=y.iloc[test_index])\n",
    "        \n",
    "        pruning_callback = op.integration.LightGBMPruningCallback(trial, metric='auc', valid_name='val')\n",
    "        gbm = lg.train(params=params, train_set=dtrain, valid_sets=[dtrain, dval],\n",
    "                       valid_names=['train', 'val'], num_boost_round=10_000,\n",
    "                       callbacks=[lg.log_evaluation(250, show_stdv=False), lg.early_stopping(10, verbose = False),\n",
    "                                 lg.print_evaluation(250, show_stdv=False), pruning_callback])\n",
    "        \n",
    "        pred = gbm.predict(data=x_val)\n",
    "        score = roc_auc_score(y_val, pred)\n",
    "        scores.append(score)\n",
    "        \n",
    "    return np.mean(scores)\n",
    "    "
   ]
  },
  {
   "cell_type": "code",
   "execution_count": 16,
   "id": "5f12882f",
   "metadata": {
    "execution": {
     "iopub.execute_input": "2023-01-17T21:09:52.300661Z",
     "iopub.status.busy": "2023-01-17T21:09:52.299964Z",
     "iopub.status.idle": "2023-01-17T21:39:05.655111Z",
     "shell.execute_reply": "2023-01-17T21:39:05.654077Z"
    },
    "papermill": {
     "duration": 1753.36846,
     "end_time": "2023-01-17T21:39:05.658485",
     "exception": false,
     "start_time": "2023-01-17T21:09:52.290025",
     "status": "completed"
    },
    "tags": []
   },
   "outputs": [
    {
     "name": "stderr",
     "output_type": "stream",
     "text": [
      "\u001b[32m[I 2023-01-17 21:09:52,303]\u001b[0m A new study created in memory with name: no-name-ca057e52-02e0-4ba6-bee7-ef967a68724e\u001b[0m\n",
      "\u001b[32m[I 2023-01-17 21:10:21,945]\u001b[0m Trial 0 finished with value: 0.9658109952606636 and parameters: {'lambda_l1': 0.00016005753784128064, 'lambda_l2': 0.07983533948177961, 'max_depth': 21, 'num_leaves': 192, 'feature_fraction': 0.39008524797023303, 'bagging_fraction': 0.629188642838665, 'bagging_freq': 7, 'min_child_samples': 7}. Best is trial 0 with value: 0.9658109952606636.\u001b[0m\n",
      "\u001b[32m[I 2023-01-17 21:10:41,357]\u001b[0m Trial 1 finished with value: 0.9441300880162493 and parameters: {'lambda_l1': 4.236675696797469e-05, 'lambda_l2': 0.0018781463283669613, 'max_depth': 21, 'num_leaves': 53, 'feature_fraction': 0.6559081899075623, 'bagging_fraction': 0.5899936543575481, 'bagging_freq': 8, 'min_child_samples': 14}. Best is trial 0 with value: 0.9658109952606636.\u001b[0m\n",
      "\u001b[32m[I 2023-01-17 21:10:55,977]\u001b[0m Trial 2 finished with value: 0.8490251861882193 and parameters: {'lambda_l1': 0.010355672214532978, 'lambda_l2': 0.6478579528641433, 'max_depth': 21, 'num_leaves': 3, 'feature_fraction': 0.9074124455222506, 'bagging_fraction': 0.9861263237445899, 'bagging_freq': 8, 'min_child_samples': 18}. Best is trial 0 with value: 0.9658109952606636.\u001b[0m\n",
      "\u001b[32m[I 2023-01-17 21:11:11,140]\u001b[0m Trial 3 finished with value: 0.8786225186188218 and parameters: {'lambda_l1': 6.788810480321849, 'lambda_l2': 3.6367154697584727, 'max_depth': 74, 'num_leaves': 11, 'feature_fraction': 0.5948921387046694, 'bagging_fraction': 0.8623450893021565, 'bagging_freq': 1, 'min_child_samples': 12}. Best is trial 0 with value: 0.9658109952606636.\u001b[0m\n",
      "\u001b[32m[I 2023-01-17 21:11:29,280]\u001b[0m Trial 4 finished with value: 0.8998942721733242 and parameters: {'lambda_l1': 0.01792840771737358, 'lambda_l2': 6.2580045094392105, 'max_depth': 72, 'num_leaves': 236, 'feature_fraction': 0.48157785762417427, 'bagging_fraction': 0.5444911508671761, 'bagging_freq': 4, 'min_child_samples': 21}. Best is trial 0 with value: 0.9658109952606636.\u001b[0m\n",
      "\u001b[32m[I 2023-01-17 21:11:58,824]\u001b[0m Trial 5 finished with value: 0.9802234529451591 and parameters: {'lambda_l1': 0.21333363987615125, 'lambda_l2': 0.13446315739411724, 'max_depth': 73, 'num_leaves': 127, 'feature_fraction': 0.5497112761443631, 'bagging_fraction': 0.9905435779521046, 'bagging_freq': 6, 'min_child_samples': 7}. Best is trial 5 with value: 0.9802234529451591.\u001b[0m\n",
      "\u001b[32m[I 2023-01-17 21:12:17,356]\u001b[0m Trial 6 finished with value: 0.9495576574136764 and parameters: {'lambda_l1': 0.00012984148680146682, 'lambda_l2': 0.02327165251902053, 'max_depth': 21, 'num_leaves': 183, 'feature_fraction': 0.36004130377420324, 'bagging_fraction': 0.6683522453302029, 'bagging_freq': 1, 'min_child_samples': 23}. Best is trial 5 with value: 0.9802234529451591.\u001b[0m\n",
      "\u001b[32m[I 2023-01-17 21:12:50,979]\u001b[0m Trial 7 finished with value: 0.978081029113067 and parameters: {'lambda_l1': 0.006830712709674471, 'lambda_l2': 0.026412859884208495, 'max_depth': 55, 'num_leaves': 138, 'feature_fraction': 0.679075353091503, 'bagging_fraction': 0.8023111898976591, 'bagging_freq': 6, 'min_child_samples': 7}. Best is trial 5 with value: 0.9802234529451591.\u001b[0m\n",
      "\u001b[32m[I 2023-01-17 21:13:08,395]\u001b[0m Trial 8 finished with value: 0.9324472850372376 and parameters: {'lambda_l1': 1.3622427597998474, 'lambda_l2': 0.0006394395087395792, 'max_depth': 42, 'num_leaves': 26, 'feature_fraction': 0.9398136299474364, 'bagging_fraction': 0.8082242055464879, 'bagging_freq': 7, 'min_child_samples': 19}. Best is trial 5 with value: 0.9802234529451591.\u001b[0m\n",
      "\u001b[32m[I 2023-01-17 21:13:29,020]\u001b[0m Trial 9 finished with value: 0.9317861746784021 and parameters: {'lambda_l1': 0.0377095166962994, 'lambda_l2': 0.0002726702093298955, 'max_depth': 31, 'num_leaves': 80, 'feature_fraction': 0.49760943496962284, 'bagging_fraction': 0.5313724228953632, 'bagging_freq': 5, 'min_child_samples': 12}. Best is trial 5 with value: 0.9802234529451591.\u001b[0m\n",
      "\u001b[32m[I 2023-01-17 21:13:41,281]\u001b[0m Trial 10 finished with value: 0.8507767501692618 and parameters: {'lambda_l1': 1.3130286747806803, 'lambda_l2': 0.1751686476765527, 'max_depth': 2, 'num_leaves': 245, 'feature_fraction': 0.742613577176066, 'bagging_fraction': 0.5463866556454289, 'bagging_freq': 3, 'min_child_samples': 5}. Best is trial 5 with value: 0.9802234529451591.\u001b[0m\n",
      "\u001b[32m[I 2023-01-17 21:14:00,629]\u001b[0m Trial 11 finished with value: 0.930599404197698 and parameters: {'lambda_l1': 9.613780871359679e-05, 'lambda_l2': 0.09437325110271606, 'max_depth': 57, 'num_leaves': 198, 'feature_fraction': 0.6002802729474375, 'bagging_fraction': 0.5305982680205322, 'bagging_freq': 5, 'min_child_samples': 22}. Best is trial 5 with value: 0.9802234529451591.\u001b[0m\n",
      "\u001b[32m[I 2023-01-17 21:14:22,681]\u001b[0m Trial 12 finished with value: 0.952942356127285 and parameters: {'lambda_l1': 0.0039050658571923684, 'lambda_l2': 0.9268978107695718, 'max_depth': 27, 'num_leaves': 94, 'feature_fraction': 0.5252918546924027, 'bagging_fraction': 0.7490687219521046, 'bagging_freq': 8, 'min_child_samples': 9}. Best is trial 5 with value: 0.9802234529451591.\u001b[0m\n",
      "\u001b[32m[I 2023-01-17 21:14:40,711]\u001b[0m Trial 13 finished with value: 0.9241231550440081 and parameters: {'lambda_l1': 1.6768156215998764e-05, 'lambda_l2': 0.05143982671834309, 'max_depth': 52, 'num_leaves': 97, 'feature_fraction': 0.5183151351497309, 'bagging_fraction': 0.5105556432783818, 'bagging_freq': 3, 'min_child_samples': 23}. Best is trial 5 with value: 0.9802234529451591.\u001b[0m\n",
      "\u001b[32m[I 2023-01-17 21:14:59,498]\u001b[0m Trial 14 finished with value: 0.9249907244414354 and parameters: {'lambda_l1': 1.1140641944739997, 'lambda_l2': 0.1479371559807731, 'max_depth': 39, 'num_leaves': 164, 'feature_fraction': 0.757269855635504, 'bagging_fraction': 0.6470101644057191, 'bagging_freq': 7, 'min_child_samples': 23}. Best is trial 5 with value: 0.9802234529451591.\u001b[0m\n",
      "\u001b[32m[I 2023-01-17 21:15:20,110]\u001b[0m Trial 15 finished with value: 0.9561504129993229 and parameters: {'lambda_l1': 0.014265337754847271, 'lambda_l2': 0.008186048612283609, 'max_depth': 51, 'num_leaves': 202, 'feature_fraction': 0.6569576574630195, 'bagging_fraction': 0.817379750336864, 'bagging_freq': 1, 'min_child_samples': 22}. Best is trial 5 with value: 0.9802234529451591.\u001b[0m\n",
      "\u001b[32m[I 2023-01-17 21:15:39,286]\u001b[0m Trial 16 finished with value: 0.9140216249153691 and parameters: {'lambda_l1': 3.316292715203243e-05, 'lambda_l2': 9.724986353828804, 'max_depth': 68, 'num_leaves': 30, 'feature_fraction': 0.4486801346398879, 'bagging_fraction': 0.7845430039646772, 'bagging_freq': 3, 'min_child_samples': 8}. Best is trial 5 with value: 0.9802234529451591.\u001b[0m\n",
      "\u001b[32m[I 2023-01-17 21:15:55,757]\u001b[0m Trial 17 finished with value: 0.9067815707515234 and parameters: {'lambda_l1': 3.4528080977318347, 'lambda_l2': 0.00037819263748083045, 'max_depth': 45, 'num_leaves': 145, 'feature_fraction': 0.7280829341440482, 'bagging_fraction': 0.6016000974509736, 'bagging_freq': 2, 'min_child_samples': 24}. Best is trial 5 with value: 0.9802234529451591.\u001b[0m\n",
      "\u001b[32m[I 2023-01-17 21:16:14,062]\u001b[0m Trial 18 finished with value: 0.9297602031144211 and parameters: {'lambda_l1': 0.0004845151809043345, 'lambda_l2': 0.09302853365788331, 'max_depth': 7, 'num_leaves': 78, 'feature_fraction': 0.632759850403476, 'bagging_fraction': 0.5143219693470995, 'bagging_freq': 4, 'min_child_samples': 10}. Best is trial 5 with value: 0.9802234529451591.\u001b[0m\n",
      "\u001b[32m[I 2023-01-17 21:16:39,351]\u001b[0m Trial 19 finished with value: 0.973262748815166 and parameters: {'lambda_l1': 0.04627505448784605, 'lambda_l2': 0.002493032274191049, 'max_depth': 45, 'num_leaves': 178, 'feature_fraction': 0.43448721355260567, 'bagging_fraction': 0.8684215390928054, 'bagging_freq': 2, 'min_child_samples': 16}. Best is trial 5 with value: 0.9802234529451591.\u001b[0m\n",
      "\u001b[32m[I 2023-01-17 21:17:06,189]\u001b[0m Trial 20 finished with value: 0.9682533243060255 and parameters: {'lambda_l1': 7.063222102916529e-05, 'lambda_l2': 0.45055709783458536, 'max_depth': 43, 'num_leaves': 171, 'feature_fraction': 0.5635127371284514, 'bagging_fraction': 0.7347499112085691, 'bagging_freq': 4, 'min_child_samples': 10}. Best is trial 5 with value: 0.9802234529451591.\u001b[0m\n",
      "\u001b[32m[I 2023-01-17 21:17:33,127]\u001b[0m Trial 21 finished with value: 0.9682416926201761 and parameters: {'lambda_l1': 0.06419965408173135, 'lambda_l2': 0.19229544547954552, 'max_depth': 10, 'num_leaves': 225, 'feature_fraction': 0.9228054900881011, 'bagging_fraction': 0.8687325554101926, 'bagging_freq': 8, 'min_child_samples': 18}. Best is trial 5 with value: 0.9802234529451591.\u001b[0m\n",
      "\u001b[32m[I 2023-01-17 21:17:52,455]\u001b[0m Trial 22 finished with value: 0.9249617603249832 and parameters: {'lambda_l1': 4.737373705014556, 'lambda_l2': 0.0013305177570212617, 'max_depth': 74, 'num_leaves': 244, 'feature_fraction': 0.9853640940592442, 'bagging_fraction': 0.8913442138589536, 'bagging_freq': 2, 'min_child_samples': 19}. Best is trial 5 with value: 0.9802234529451591.\u001b[0m\n",
      "\u001b[32m[I 2023-01-17 21:18:14,663]\u001b[0m Trial 23 finished with value: 0.9339212322274882 and parameters: {'lambda_l1': 1.4854687294723874e-05, 'lambda_l2': 3.7827366603587667, 'max_depth': 51, 'num_leaves': 142, 'feature_fraction': 0.7929584483650056, 'bagging_fraction': 0.6562247360568203, 'bagging_freq': 8, 'min_child_samples': 13}. Best is trial 5 with value: 0.9802234529451591.\u001b[0m\n",
      "\u001b[32m[I 2023-01-17 21:18:31,521]\u001b[0m Trial 24 finished with value: 0.8993005551794176 and parameters: {'lambda_l1': 5.6338884862573435, 'lambda_l2': 0.13449304459713846, 'max_depth': 63, 'num_leaves': 120, 'feature_fraction': 0.6913264862042949, 'bagging_fraction': 0.7085303861825785, 'bagging_freq': 5, 'min_child_samples': 10}. Best is trial 5 with value: 0.9802234529451591.\u001b[0m\n",
      "\u001b[32m[I 2023-01-17 21:18:48,522]\u001b[0m Trial 25 finished with value: 0.9267624238320921 and parameters: {'lambda_l1': 0.08956145020358118, 'lambda_l2': 0.0015603452152285896, 'max_depth': 41, 'num_leaves': 25, 'feature_fraction': 0.7912570080819523, 'bagging_fraction': 0.8481443911721982, 'bagging_freq': 4, 'min_child_samples': 12}. Best is trial 5 with value: 0.9802234529451591.\u001b[0m\n",
      "\u001b[32m[I 2023-01-17 21:19:05,484]\u001b[0m Trial 26 finished with value: 0.9185043601895735 and parameters: {'lambda_l1': 2.9482541460095002e-05, 'lambda_l2': 0.4115159580874258, 'max_depth': 7, 'num_leaves': 250, 'feature_fraction': 0.3554096904305781, 'bagging_fraction': 0.5563043471827689, 'bagging_freq': 8, 'min_child_samples': 17}. Best is trial 5 with value: 0.9802234529451591.\u001b[0m\n",
      "\u001b[32m[I 2023-01-17 21:19:23,277]\u001b[0m Trial 27 finished with value: 0.9370510629654706 and parameters: {'lambda_l1': 0.03581736258412189, 'lambda_l2': 0.07940342884946172, 'max_depth': 8, 'num_leaves': 151, 'feature_fraction': 0.386533381641841, 'bagging_fraction': 0.5718562364843012, 'bagging_freq': 6, 'min_child_samples': 15}. Best is trial 5 with value: 0.9802234529451591.\u001b[0m\n",
      "\u001b[32m[I 2023-01-17 21:19:41,979]\u001b[0m Trial 28 finished with value: 0.9223836560595803 and parameters: {'lambda_l1': 0.0020116489450754233, 'lambda_l2': 0.043635507052714254, 'max_depth': 14, 'num_leaves': 185, 'feature_fraction': 0.8467087039192724, 'bagging_fraction': 0.5443367800043138, 'bagging_freq': 2, 'min_child_samples': 25}. Best is trial 5 with value: 0.9802234529451591.\u001b[0m\n",
      "\u001b[32m[I 2023-01-17 21:19:58,951]\u001b[0m Trial 29 finished with value: 0.9208899119837509 and parameters: {'lambda_l1': 1.3455662096437402, 'lambda_l2': 0.002079936990640116, 'max_depth': 29, 'num_leaves': 247, 'feature_fraction': 0.6651609848263417, 'bagging_fraction': 0.5385731560096818, 'bagging_freq': 3, 'min_child_samples': 18}. Best is trial 5 with value: 0.9802234529451591.\u001b[0m\n",
      "\u001b[32m[I 2023-01-17 21:20:22,133]\u001b[0m Trial 30 finished with value: 0.9576443060257278 and parameters: {'lambda_l1': 0.016198548219173638, 'lambda_l2': 0.023487074131139186, 'max_depth': 23, 'num_leaves': 75, 'feature_fraction': 0.7843911794691214, 'bagging_fraction': 0.7150081830144892, 'bagging_freq': 4, 'min_child_samples': 17}. Best is trial 5 with value: 0.9802234529451591.\u001b[0m\n",
      "\u001b[32m[I 2023-01-17 21:20:51,429]\u001b[0m Trial 31 finished with value: 0.9487715233581583 and parameters: {'lambda_l1': 1.277602282086237e-05, 'lambda_l2': 6.969971856779518, 'max_depth': 65, 'num_leaves': 221, 'feature_fraction': 0.8782009367328723, 'bagging_fraction': 0.9094838820451686, 'bagging_freq': 8, 'min_child_samples': 8}. Best is trial 5 with value: 0.9802234529451591.\u001b[0m\n",
      "\u001b[32m[I 2023-01-17 21:21:08,454]\u001b[0m Trial 32 finished with value: 0.9055514827352742 and parameters: {'lambda_l1': 0.5238151920893825, 'lambda_l2': 5.940719347551859, 'max_depth': 69, 'num_leaves': 31, 'feature_fraction': 0.8490787472395712, 'bagging_fraction': 0.5570951608653778, 'bagging_freq': 2, 'min_child_samples': 16}. Best is trial 5 with value: 0.9802234529451591.\u001b[0m\n",
      "\u001b[32m[I 2023-01-17 21:21:34,035]\u001b[0m Trial 33 finished with value: 0.9673673256601218 and parameters: {'lambda_l1': 5.059017714592614e-05, 'lambda_l2': 0.009420721504411348, 'max_depth': 64, 'num_leaves': 126, 'feature_fraction': 0.6377535982137019, 'bagging_fraction': 0.8447536005642469, 'bagging_freq': 8, 'min_child_samples': 18}. Best is trial 5 with value: 0.9802234529451591.\u001b[0m\n",
      "\u001b[32m[I 2023-01-17 21:22:05,486]\u001b[0m Trial 34 finished with value: 0.98268855788761 and parameters: {'lambda_l1': 0.02317918740483471, 'lambda_l2': 0.0008125699371237141, 'max_depth': 34, 'num_leaves': 167, 'feature_fraction': 0.8402018217702432, 'bagging_fraction': 0.9214539843900048, 'bagging_freq': 1, 'min_child_samples': 10}. Best is trial 34 with value: 0.98268855788761.\u001b[0m\n",
      "\u001b[32m[I 2023-01-17 21:22:15,075]\u001b[0m Trial 35 pruned. Trial was pruned at iteration 84.\u001b[0m\n",
      "\u001b[32m[I 2023-01-17 21:22:51,632]\u001b[0m Trial 36 finished with value: 0.9847593500338525 and parameters: {'lambda_l1': 0.011275010242960529, 'lambda_l2': 0.0032813361527887267, 'max_depth': 28, 'num_leaves': 218, 'feature_fraction': 0.7664729878100122, 'bagging_fraction': 0.9159150490160863, 'bagging_freq': 2, 'min_child_samples': 9}. Best is trial 36 with value: 0.9847593500338525.\u001b[0m\n",
      "\u001b[32m[I 2023-01-17 21:22:52,001]\u001b[0m Trial 37 pruned. Trial was pruned at iteration 50.\u001b[0m\n",
      "\u001b[32m[I 2023-01-17 21:23:05,809]\u001b[0m Trial 38 pruned. Trial was pruned at iteration 84.\u001b[0m\n",
      "\u001b[32m[I 2023-01-17 21:23:06,715]\u001b[0m Trial 39 pruned. Trial was pruned at iteration 50.\u001b[0m\n",
      "\u001b[32m[I 2023-01-17 21:23:41,404]\u001b[0m Trial 40 finished with value: 0.978050548408937 and parameters: {'lambda_l1': 0.01799306068714477, 'lambda_l2': 0.013476358690413992, 'max_depth': 36, 'num_leaves': 210, 'feature_fraction': 0.7368267563968429, 'bagging_fraction': 0.8556240246168764, 'bagging_freq': 8, 'min_child_samples': 9}. Best is trial 36 with value: 0.9847593500338525.\u001b[0m\n",
      "\u001b[32m[I 2023-01-17 21:23:43,377]\u001b[0m Trial 41 pruned. Trial was pruned at iteration 50.\u001b[0m\n",
      "\u001b[32m[I 2023-01-17 21:24:15,073]\u001b[0m Trial 42 finished with value: 0.9705367095463777 and parameters: {'lambda_l1': 0.004051503787657893, 'lambda_l2': 0.016388272925922674, 'max_depth': 46, 'num_leaves': 240, 'feature_fraction': 0.7518392985854288, 'bagging_fraction': 0.8732892084920855, 'bagging_freq': 8, 'min_child_samples': 13}. Best is trial 36 with value: 0.9847593500338525.\u001b[0m\n",
      "\u001b[32m[I 2023-01-17 21:24:16,198]\u001b[0m Trial 43 pruned. Trial was pruned at iteration 50.\u001b[0m\n",
      "\u001b[32m[I 2023-01-17 21:24:20,300]\u001b[0m Trial 44 pruned. Trial was pruned at iteration 50.\u001b[0m\n",
      "\u001b[32m[I 2023-01-17 21:24:34,882]\u001b[0m Trial 45 pruned. Trial was pruned at iteration 86.\u001b[0m\n",
      "\u001b[32m[I 2023-01-17 21:24:35,631]\u001b[0m Trial 46 pruned. Trial was pruned at iteration 50.\u001b[0m\n",
      "\u001b[32m[I 2023-01-17 21:24:42,928]\u001b[0m Trial 47 pruned. Trial was pruned at iteration 86.\u001b[0m\n",
      "\u001b[32m[I 2023-01-17 21:24:44,006]\u001b[0m Trial 48 pruned. Trial was pruned at iteration 50.\u001b[0m\n",
      "\u001b[32m[I 2023-01-17 21:24:44,965]\u001b[0m Trial 49 pruned. Trial was pruned at iteration 50.\u001b[0m\n",
      "\u001b[32m[I 2023-01-17 21:24:50,029]\u001b[0m Trial 50 pruned. Trial was pruned at iteration 86.\u001b[0m\n",
      "\u001b[32m[I 2023-01-17 21:25:11,111]\u001b[0m Trial 51 finished with value: 0.9104441164522682 and parameters: {'lambda_l1': 4.268109566732911, 'lambda_l2': 0.0060613287226276335, 'max_depth': 25, 'num_leaves': 203, 'feature_fraction': 0.4560202298253717, 'bagging_fraction': 0.8223048835802175, 'bagging_freq': 3, 'min_child_samples': 15}. Best is trial 36 with value: 0.9847593500338525.\u001b[0m\n",
      "\u001b[32m[I 2023-01-17 21:25:39,205]\u001b[0m Trial 52 finished with value: 0.9755830060934326 and parameters: {'lambda_l1': 0.012554546738608827, 'lambda_l2': 0.0015600001147279487, 'max_depth': 28, 'num_leaves': 210, 'feature_fraction': 0.407515382493077, 'bagging_fraction': 0.8484345583190546, 'bagging_freq': 2, 'min_child_samples': 15}. Best is trial 36 with value: 0.9847593500338525.\u001b[0m\n",
      "\u001b[32m[I 2023-01-17 21:25:42,037]\u001b[0m Trial 53 pruned. Trial was pruned at iteration 50.\u001b[0m\n",
      "\u001b[32m[I 2023-01-17 21:25:44,222]\u001b[0m Trial 54 pruned. Trial was pruned at iteration 84.\u001b[0m\n",
      "\u001b[32m[I 2023-01-17 21:26:14,145]\u001b[0m Trial 55 finished with value: 0.9809542180094787 and parameters: {'lambda_l1': 0.002468344168280492, 'lambda_l2': 0.002159213731738663, 'max_depth': 31, 'num_leaves': 234, 'feature_fraction': 0.5315027558596234, 'bagging_fraction': 0.8067045464659114, 'bagging_freq': 1, 'min_child_samples': 12}. Best is trial 36 with value: 0.9847593500338525.\u001b[0m\n",
      "\u001b[32m[I 2023-01-17 21:26:41,773]\u001b[0m Trial 56 finished with value: 0.9662345429925524 and parameters: {'lambda_l1': 0.006065652234242163, 'lambda_l2': 0.020006094007643842, 'max_depth': 56, 'num_leaves': 169, 'feature_fraction': 0.8148203763659081, 'bagging_fraction': 0.8247090896041749, 'bagging_freq': 4, 'min_child_samples': 14}. Best is trial 36 with value: 0.9847593500338525.\u001b[0m\n",
      "\u001b[32m[I 2023-01-17 21:26:42,651]\u001b[0m Trial 57 pruned. Trial was pruned at iteration 50.\u001b[0m\n",
      "\u001b[32m[I 2023-01-17 21:27:08,640]\u001b[0m Trial 58 finished with value: 0.970416682464455 and parameters: {'lambda_l1': 0.0010514476230146365, 'lambda_l2': 0.004978466456160985, 'max_depth': 10, 'num_leaves': 224, 'feature_fraction': 0.5664593617699398, 'bagging_fraction': 0.7392048510022111, 'bagging_freq': 1, 'min_child_samples': 14}. Best is trial 36 with value: 0.9847593500338525.\u001b[0m\n",
      "\u001b[32m[I 2023-01-17 21:27:13,220]\u001b[0m Trial 59 pruned. Trial was pruned at iteration 86.\u001b[0m\n",
      "\u001b[32m[I 2023-01-17 21:27:41,399]\u001b[0m Trial 60 finished with value: 0.977287095463778 and parameters: {'lambda_l1': 0.024347446014158308, 'lambda_l2': 0.00022711935793164875, 'max_depth': 46, 'num_leaves': 132, 'feature_fraction': 0.864970331512028, 'bagging_fraction': 0.8964347118432945, 'bagging_freq': 1, 'min_child_samples': 14}. Best is trial 36 with value: 0.9847593500338525.\u001b[0m\n",
      "\u001b[32m[I 2023-01-17 21:28:10,264]\u001b[0m Trial 61 finished with value: 0.970430020311442 and parameters: {'lambda_l1': 0.00885741971308437, 'lambda_l2': 0.0002202771684382712, 'max_depth': 39, 'num_leaves': 148, 'feature_fraction': 0.8834313421579358, 'bagging_fraction': 0.8251540586019119, 'bagging_freq': 3, 'min_child_samples': 14}. Best is trial 36 with value: 0.9847593500338525.\u001b[0m\n",
      "\u001b[32m[I 2023-01-17 21:28:11,149]\u001b[0m Trial 62 pruned. Trial was pruned at iteration 50.\u001b[0m\n",
      "\u001b[32m[I 2023-01-17 21:28:11,548]\u001b[0m Trial 63 pruned. Trial was pruned at iteration 50.\u001b[0m\n",
      "\u001b[32m[I 2023-01-17 21:28:14,807]\u001b[0m Trial 64 pruned. Trial was pruned at iteration 84.\u001b[0m\n",
      "\u001b[32m[I 2023-01-17 21:28:40,080]\u001b[0m Trial 65 finished with value: 0.9451468788083954 and parameters: {'lambda_l1': 2.8329656807280053, 'lambda_l2': 0.32068642460316443, 'max_depth': 60, 'num_leaves': 91, 'feature_fraction': 0.6473415003054782, 'bagging_fraction': 0.9979965412958097, 'bagging_freq': 6, 'min_child_samples': 7}. Best is trial 36 with value: 0.9847593500338525.\u001b[0m\n",
      "\u001b[32m[I 2023-01-17 21:28:56,898]\u001b[0m Trial 66 pruned. Trial was pruned at iteration 85.\u001b[0m\n",
      "\u001b[32m[I 2023-01-17 21:28:59,430]\u001b[0m Trial 67 pruned. Trial was pruned at iteration 50.\u001b[0m\n",
      "\u001b[32m[I 2023-01-17 21:29:24,604]\u001b[0m Trial 68 finished with value: 0.9673271360866622 and parameters: {'lambda_l1': 0.011232587208161629, 'lambda_l2': 0.000150974657082092, 'max_depth': 58, 'num_leaves': 82, 'feature_fraction': 0.843055578212471, 'bagging_fraction': 0.9447593746710472, 'bagging_freq': 4, 'min_child_samples': 22}. Best is trial 36 with value: 0.9847593500338525.\u001b[0m\n",
      "\u001b[32m[I 2023-01-17 21:29:51,191]\u001b[0m Trial 69 finished with value: 0.9665064861205144 and parameters: {'lambda_l1': 0.0021760472250929902, 'lambda_l2': 0.00014665248319703427, 'max_depth': 24, 'num_leaves': 86, 'feature_fraction': 0.8633534513490324, 'bagging_fraction': 0.9244868509318168, 'bagging_freq': 1, 'min_child_samples': 22}. Best is trial 36 with value: 0.9847593500338525.\u001b[0m\n",
      "\u001b[32m[I 2023-01-17 21:29:52,821]\u001b[0m Trial 70 pruned. Trial was pruned at iteration 84.\u001b[0m\n",
      "\u001b[32m[I 2023-01-17 21:30:23,273]\u001b[0m Trial 71 finished with value: 0.9828769668246445 and parameters: {'lambda_l1': 0.02422914908329261, 'lambda_l2': 0.04789100530047064, 'max_depth': 21, 'num_leaves': 210, 'feature_fraction': 0.3630264967902206, 'bagging_fraction': 0.8397555974056014, 'bagging_freq': 3, 'min_child_samples': 11}. Best is trial 36 with value: 0.9847593500338525.\u001b[0m\n",
      "\u001b[32m[I 2023-01-17 21:30:52,462]\u001b[0m Trial 72 finished with value: 0.961773798239675 and parameters: {'lambda_l1': 0.0004381004911764258, 'lambda_l2': 0.589469977191992, 'max_depth': 17, 'num_leaves': 190, 'feature_fraction': 0.4535092878036997, 'bagging_fraction': 0.7891188860062164, 'bagging_freq': 2, 'min_child_samples': 13}. Best is trial 36 with value: 0.9847593500338525.\u001b[0m\n",
      "\u001b[32m[I 2023-01-17 21:31:30,585]\u001b[0m Trial 73 finished with value: 0.9826166689234935 and parameters: {'lambda_l1': 0.29099879219301, 'lambda_l2': 0.034775337723275936, 'max_depth': 18, 'num_leaves': 245, 'feature_fraction': 0.4198526649696454, 'bagging_fraction': 0.8039074061688629, 'bagging_freq': 4, 'min_child_samples': 5}. Best is trial 36 with value: 0.9847593500338525.\u001b[0m\n",
      "\u001b[32m[I 2023-01-17 21:32:10,559]\u001b[0m Trial 74 finished with value: 0.9815645362220717 and parameters: {'lambda_l1': 0.1250031147835737, 'lambda_l2': 0.03923608779121634, 'max_depth': 19, 'num_leaves': 251, 'feature_fraction': 0.3911655169822682, 'bagging_fraction': 0.7679371154478721, 'bagging_freq': 5, 'min_child_samples': 5}. Best is trial 36 with value: 0.9847593500338525.\u001b[0m\n",
      "\u001b[32m[I 2023-01-17 21:32:11,890]\u001b[0m Trial 75 pruned. Trial was pruned at iteration 85.\u001b[0m\n",
      "\u001b[32m[I 2023-01-17 21:32:42,630]\u001b[0m Trial 76 finished with value: 0.9751078266756941 and parameters: {'lambda_l1': 0.7247737371516211, 'lambda_l2': 0.0052651118876603465, 'max_depth': 11, 'num_leaves': 235, 'feature_fraction': 0.39568506594714203, 'bagging_fraction': 0.9842355921943455, 'bagging_freq': 4, 'min_child_samples': 8}. Best is trial 36 with value: 0.9847593500338525.\u001b[0m\n",
      "\u001b[32m[I 2023-01-17 21:33:02,087]\u001b[0m Trial 77 pruned. Trial was pruned at iteration 85.\u001b[0m\n",
      "\u001b[32m[I 2023-01-17 21:33:39,612]\u001b[0m Trial 78 finished with value: 0.9758603926878808 and parameters: {'lambda_l1': 0.03445661480287989, 'lambda_l2': 0.003033932704736897, 'max_depth': 15, 'num_leaves': 216, 'feature_fraction': 0.3726876259121285, 'bagging_fraction': 0.759271233896772, 'bagging_freq': 3, 'min_child_samples': 6}. Best is trial 36 with value: 0.9847593500338525.\u001b[0m\n",
      "\u001b[32m[I 2023-01-17 21:34:05,118]\u001b[0m Trial 79 finished with value: 0.9531572241029113 and parameters: {'lambda_l1': 1.5458035751124242, 'lambda_l2': 0.01450177818779871, 'max_depth': 31, 'num_leaves': 245, 'feature_fraction': 0.4539788626715259, 'bagging_fraction': 0.8376446371474274, 'bagging_freq': 1, 'min_child_samples': 5}. Best is trial 36 with value: 0.9847593500338525.\u001b[0m\n",
      "\u001b[32m[I 2023-01-17 21:34:05,758]\u001b[0m Trial 80 pruned. Trial was pruned at iteration 50.\u001b[0m\n",
      "\u001b[32m[I 2023-01-17 21:34:18,753]\u001b[0m Trial 81 pruned. Trial was pruned at iteration 85.\u001b[0m\n",
      "\u001b[32m[I 2023-01-17 21:34:47,532]\u001b[0m Trial 82 finished with value: 0.9697502234258631 and parameters: {'lambda_l1': 0.0025797246476893117, 'lambda_l2': 0.00010985466414810267, 'max_depth': 41, 'num_leaves': 238, 'feature_fraction': 0.46235609026144453, 'bagging_fraction': 0.8085582156775901, 'bagging_freq': 1, 'min_child_samples': 12}. Best is trial 36 with value: 0.9847593500338525.\u001b[0m\n",
      "\u001b[32m[I 2023-01-17 21:35:15,119]\u001b[0m Trial 83 finished with value: 0.9768577928232904 and parameters: {'lambda_l1': 0.09890101811040457, 'lambda_l2': 0.04511785105901798, 'max_depth': 10, 'num_leaves': 245, 'feature_fraction': 0.3836327129189446, 'bagging_fraction': 0.8677649959540914, 'bagging_freq': 2, 'min_child_samples': 11}. Best is trial 36 with value: 0.9847593500338525.\u001b[0m\n",
      "\u001b[32m[I 2023-01-17 21:35:43,107]\u001b[0m Trial 84 finished with value: 0.9642079891672309 and parameters: {'lambda_l1': 0.7523663202488877, 'lambda_l2': 0.18942163573702495, 'max_depth': 32, 'num_leaves': 220, 'feature_fraction': 0.4225831471715516, 'bagging_fraction': 0.6470652012452612, 'bagging_freq': 3, 'min_child_samples': 6}. Best is trial 36 with value: 0.9847593500338525.\u001b[0m\n",
      "\u001b[32m[I 2023-01-17 21:35:43,875]\u001b[0m Trial 85 pruned. Trial was pruned at iteration 50.\u001b[0m\n",
      "\u001b[32m[I 2023-01-17 21:35:45,750]\u001b[0m Trial 86 pruned. Trial was pruned at iteration 86.\u001b[0m\n",
      "\u001b[32m[I 2023-01-17 21:35:49,863]\u001b[0m Trial 87 pruned. Trial was pruned at iteration 86.\u001b[0m\n",
      "\u001b[32m[I 2023-01-17 21:36:04,670]\u001b[0m Trial 88 finished with value: 0.8738164116452269 and parameters: {'lambda_l1': 0.002361967564319679, 'lambda_l2': 0.30922746788594574, 'max_depth': 3, 'num_leaves': 193, 'feature_fraction': 0.4138389105151982, 'bagging_fraction': 0.7366021477440268, 'bagging_freq': 7, 'min_child_samples': 6}. Best is trial 36 with value: 0.9847593500338525.\u001b[0m\n",
      "\u001b[32m[I 2023-01-17 21:36:34,591]\u001b[0m Trial 89 finished with value: 0.9822085849695329 and parameters: {'lambda_l1': 0.07884229713275119, 'lambda_l2': 0.18239809332936469, 'max_depth': 74, 'num_leaves': 106, 'feature_fraction': 0.5930169164187565, 'bagging_fraction': 0.9643624778580492, 'bagging_freq': 5, 'min_child_samples': 7}. Best is trial 36 with value: 0.9847593500338525.\u001b[0m\n",
      "\u001b[32m[I 2023-01-17 21:36:38,777]\u001b[0m Trial 90 pruned. Trial was pruned at iteration 85.\u001b[0m\n",
      "\u001b[32m[I 2023-01-17 21:36:39,358]\u001b[0m Trial 91 pruned. Trial was pruned at iteration 50.\u001b[0m\n",
      "\u001b[32m[I 2023-01-17 21:37:06,537]\u001b[0m Trial 92 finished with value: 0.9582336086662153 and parameters: {'lambda_l1': 0.6902557248555615, 'lambda_l2': 0.011184656256541293, 'max_depth': 23, 'num_leaves': 239, 'feature_fraction': 0.41635767763220627, 'bagging_fraction': 0.6395317323266576, 'bagging_freq': 5, 'min_child_samples': 5}. Best is trial 36 with value: 0.9847593500338525.\u001b[0m\n",
      "\u001b[32m[I 2023-01-17 21:37:13,563]\u001b[0m Trial 93 pruned. Trial was pruned at iteration 85.\u001b[0m\n",
      "\u001b[32m[I 2023-01-17 21:37:37,035]\u001b[0m Trial 94 finished with value: 0.9629352471225456 and parameters: {'lambda_l1': 0.020013053538938036, 'lambda_l2': 0.0419487136114014, 'max_depth': 13, 'num_leaves': 166, 'feature_fraction': 0.3873762364475249, 'bagging_fraction': 0.7738280631975613, 'bagging_freq': 5, 'min_child_samples': 16}. Best is trial 36 with value: 0.9847593500338525.\u001b[0m\n",
      "\u001b[32m[I 2023-01-17 21:37:38,370]\u001b[0m Trial 95 pruned. Trial was pruned at iteration 84.\u001b[0m\n",
      "\u001b[32m[I 2023-01-17 21:37:39,337]\u001b[0m Trial 96 pruned. Trial was pruned at iteration 50.\u001b[0m\n",
      "\u001b[32m[I 2023-01-17 21:38:06,786]\u001b[0m Trial 97 finished with value: 0.9684603249830741 and parameters: {'lambda_l1': 0.854068124076229, 'lambda_l2': 0.07224263518163868, 'max_depth': 74, 'num_leaves': 118, 'feature_fraction': 0.5471427573425707, 'bagging_fraction': 0.9669621930841688, 'bagging_freq': 6, 'min_child_samples': 10}. Best is trial 36 with value: 0.9847593500338525.\u001b[0m\n",
      "\u001b[32m[I 2023-01-17 21:38:38,447]\u001b[0m Trial 98 finished with value: 0.9796783344617468 and parameters: {'lambda_l1': 0.3037186214823191, 'lambda_l2': 0.007281155619667458, 'max_depth': 30, 'num_leaves': 212, 'feature_fraction': 0.7965164295367009, 'bagging_fraction': 0.9183172170038812, 'bagging_freq': 2, 'min_child_samples': 10}. Best is trial 36 with value: 0.9847593500338525.\u001b[0m\n",
      "\u001b[32m[I 2023-01-17 21:39:05,651]\u001b[0m Trial 99 finished with value: 0.9545521327014219 and parameters: {'lambda_l1': 2.7543910017634685, 'lambda_l2': 0.0011770981874325345, 'max_depth': 27, 'num_leaves': 253, 'feature_fraction': 0.9032848993086553, 'bagging_fraction': 0.920641317243704, 'bagging_freq': 2, 'min_child_samples': 11}. Best is trial 36 with value: 0.9847593500338525.\u001b[0m\n"
     ]
    }
   ],
   "source": [
    "pruner = op.pruners.MedianPruner(n_startup_trials=35, n_warmup_steps=50)\n",
    "sampler = op.samplers.TPESampler(multivariate=True, n_startup_trials=35)\n",
    "study = op.create_study(direction=\"maximize\", sampler=sampler, pruner=pruner)\n",
    "\n",
    "study.optimize(objective, n_trials=100)  # Beware! This might take a while :)"
   ]
  },
  {
   "cell_type": "code",
   "execution_count": 17,
   "id": "58964b65",
   "metadata": {
    "execution": {
     "iopub.execute_input": "2023-01-17T21:39:05.691930Z",
     "iopub.status.busy": "2023-01-17T21:39:05.691486Z",
     "iopub.status.idle": "2023-01-17T21:39:05.734444Z",
     "shell.execute_reply": "2023-01-17T21:39:05.733063Z"
    },
    "papermill": {
     "duration": 0.061867,
     "end_time": "2023-01-17T21:39:05.737138",
     "exception": false,
     "start_time": "2023-01-17T21:39:05.675271",
     "status": "completed"
    },
    "tags": []
   },
   "outputs": [
    {
     "name": "stdout",
     "output_type": "stream",
     "text": [
      "Number of finished trials: 100\n",
      "Best trial:\n",
      "  Value: 0.9847593500338525\n",
      "  Params: \n",
      "    lambda_l1: 0.011275010242960529\n",
      "    lambda_l2: 0.0032813361527887267\n",
      "    max_depth: 28\n",
      "    num_leaves: 218\n",
      "    feature_fraction: 0.7664729878100122\n",
      "    bagging_fraction: 0.9159150490160863\n",
      "    bagging_freq: 2\n",
      "    min_child_samples: 9\n"
     ]
    }
   ],
   "source": [
    "print(\"Number of finished trials: {}\".format(len(study.trials)))\n",
    "print(\"Best trial:\")\n",
    "trial = study.best_trial\n",
    "print(\"  Value: {}\".format(trial.value))\n",
    "print(\"  Params: \")\n",
    "for key, value in trial.params.items():\n",
    "    print(\"    {}: {}\".format(key, value))"
   ]
  },
  {
   "cell_type": "markdown",
   "id": "177a5a03",
   "metadata": {
    "papermill": {
     "duration": 0.014334,
     "end_time": "2023-01-17T21:39:05.766222",
     "exception": false,
     "start_time": "2023-01-17T21:39:05.751888",
     "status": "completed"
    },
    "tags": []
   },
   "source": [
    "# Optuna Visualizations"
   ]
  },
  {
   "cell_type": "code",
   "execution_count": 18,
   "id": "d88fdf34",
   "metadata": {
    "execution": {
     "iopub.execute_input": "2023-01-17T21:39:05.797728Z",
     "iopub.status.busy": "2023-01-17T21:39:05.797256Z",
     "iopub.status.idle": "2023-01-17T21:39:06.347345Z",
     "shell.execute_reply": "2023-01-17T21:39:06.346188Z"
    },
    "papermill": {
     "duration": 0.568955,
     "end_time": "2023-01-17T21:39:06.349883",
     "exception": false,
     "start_time": "2023-01-17T21:39:05.780928",
     "status": "completed"
    },
    "tags": []
   },
   "outputs": [
    {
     "data": {
      "text/html": [
       "        <script type=\"text/javascript\">\n",
       "        window.PlotlyConfig = {MathJaxConfig: 'local'};\n",
       "        if (window.MathJax && window.MathJax.Hub && window.MathJax.Hub.Config) {window.MathJax.Hub.Config({SVG: {font: \"STIX-Web\"}});}\n",
       "        if (typeof require !== 'undefined') {\n",
       "        require.undef(\"plotly\");\n",
       "        requirejs.config({\n",
       "            paths: {\n",
       "                'plotly': ['https://cdn.plot.ly/plotly-2.16.1.min']\n",
       "            }\n",
       "        });\n",
       "        require(['plotly'], function(Plotly) {\n",
       "            window._Plotly = Plotly;\n",
       "        });\n",
       "        }\n",
       "        </script>\n",
       "        "
      ]
     },
     "metadata": {},
     "output_type": "display_data"
    },
    {
     "data": {
      "text/html": [
       "<div>                            <div id=\"24ea3e80-92e4-44b9-b68b-70d43d0ac64b\" class=\"plotly-graph-div\" style=\"height:525px; width:100%;\"></div>            <script type=\"text/javascript\">                require([\"plotly\"], function(Plotly) {                    window.PLOTLYENV=window.PLOTLYENV || {};                                    if (document.getElementById(\"24ea3e80-92e4-44b9-b68b-70d43d0ac64b\")) {                    Plotly.newPlot(                        \"24ea3e80-92e4-44b9-b68b-70d43d0ac64b\",                        [{\"colorbar\":{\"title\":{\"text\":\"Objective Value\"}},\"colorscale\":[[0.0,\"rgb(247,251,255)\"],[0.125,\"rgb(222,235,247)\"],[0.25,\"rgb(198,219,239)\"],[0.375,\"rgb(158,202,225)\"],[0.5,\"rgb(107,174,214)\"],[0.625,\"rgb(66,146,198)\"],[0.75,\"rgb(33,113,181)\"],[0.875,\"rgb(8,81,156)\"],[1.0,\"rgb(8,48,107)\"]],\"connectgaps\":true,\"contours\":{\"coloring\":\"heatmap\"},\"hoverinfo\":\"none\",\"line\":{\"smoothing\":1.3},\"reversescale\":false,\"x\":[-1.6,2,3,7,8,10,11,13,14,15,17,18,19,21,23,24,25,27,28,29,30,31,32,34,36,39,41,42,43,45,46,51,52,55,56,57,58,60,63,64,65,68,69,72,73,74,77.6],\"y\":[-9.5,3,11,25,26,30,31,53,75,78,80,82,86,91,94,97,106,118,120,126,127,132,138,142,145,148,151,164,166,167,169,171,178,183,185,190,192,193,198,202,203,210,212,216,218,220,221,224,225,234,235,236,238,239,240,244,245,247,250,251,253,265.5],\"z\":[[null,null,null,null,null,null,null,null,null,null,null,null,null,null,null,null,null,null,null,null,null,null,null,null,null,null,null,null,null,null,null,null,null,null,null,null,null,null,null,null,null,null,null,null,null,null,null],[null,null,null,null,null,null,null,null,null,null,null,null,null,0.8490251861882193,null,null,null,null,null,null,null,null,null,null,null,null,null,null,null,null,null,null,null,null,null,null,null,null,null,null,null,null,null,null,null,null,null],[null,null,null,null,null,null,null,null,null,null,null,null,null,null,null,null,null,null,null,null,null,null,null,null,null,null,null,null,null,null,null,null,null,null,null,null,null,null,null,null,null,null,null,null,null,0.8786225186188218,null],[null,null,null,null,null,null,null,null,null,null,null,null,null,null,null,null,null,null,null,null,null,null,null,null,null,null,0.9267624238320921,null,null,null,null,null,null,null,null,null,null,null,null,null,null,null,null,null,null,null,null],[null,null,null,null,null,null,null,null,null,null,null,null,null,null,null,null,null,null,null,null,null,null,null,null,null,null,null,0.9324472850372376,null,null,null,null,null,null,null,null,null,null,null,null,null,null,null,null,null,null,null],[null,null,null,null,null,null,null,null,null,null,null,null,null,null,null,null,null,null,null,null,null,null,null,null,null,null,null,null,null,null,null,null,null,null,null,null,null,null,null,null,null,0.9140216249153691,null,null,null,null,null],[null,null,null,null,null,null,null,null,null,null,null,null,null,null,null,null,null,null,null,null,null,null,null,null,null,null,null,null,null,null,null,null,null,null,null,null,null,null,null,null,null,null,0.9055514827352742,null,null,null,null],[null,null,null,null,null,null,null,null,null,null,null,null,null,0.9441300880162493,null,null,null,null,null,null,null,null,null,null,null,null,null,null,null,null,null,null,null,null,null,null,null,null,null,null,null,null,null,null,null,null,null],[null,null,null,null,null,null,null,null,null,null,null,null,null,null,0.9576443060257278,null,null,null,null,null,null,null,null,null,null,null,null,null,null,null,null,null,null,null,null,null,null,null,null,null,null,null,null,null,null,null,null],[null,null,null,0.9297602031144211,null,null,null,null,null,null,null,null,null,null,null,null,null,null,null,null,null,null,null,null,null,null,null,null,null,null,null,null,null,null,null,null,null,null,null,null,null,null,null,null,null,null,null],[null,null,null,null,null,null,null,null,null,null,null,null,null,null,null,null,null,null,null,null,null,0.9317861746784021,null,null,null,null,null,null,null,null,null,null,null,null,null,null,null,null,null,null,null,null,null,null,null,null,null],[null,null,null,null,null,null,null,null,null,null,null,null,null,null,null,null,null,null,null,null,null,null,null,null,null,null,null,null,null,null,null,null,null,null,null,null,0.9673271360866622,null,null,null,null,null,null,null,null,null,null],[null,null,null,null,null,null,null,null,null,null,null,null,null,null,null,0.9665064861205144,null,null,null,null,null,null,null,null,null,null,null,null,null,null,null,null,null,null,null,null,null,null,null,null,null,null,null,null,null,null,null],[null,null,null,null,null,null,null,null,null,null,null,null,null,null,null,null,null,null,null,null,null,null,null,null,null,null,null,null,null,null,null,null,null,null,null,null,null,0.9451468788083954,null,null,null,null,null,null,null,null,null],[null,null,null,null,null,null,null,null,null,null,null,null,null,null,null,null,null,0.952942356127285,null,null,null,null,null,null,null,null,null,null,null,null,null,null,null,null,null,null,null,null,null,null,null,null,null,null,null,null,null],[null,null,null,null,null,null,null,null,null,null,null,null,null,null,null,null,null,null,null,null,null,null,null,null,null,null,null,null,null,null,null,null,0.9241231550440081,null,null,null,null,null,null,null,null,null,null,null,null,null,null],[null,null,null,null,null,null,null,null,null,null,null,null,null,null,null,null,null,null,null,null,null,null,null,null,null,null,null,null,null,null,null,null,null,null,null,null,null,null,null,null,null,null,null,null,null,0.9822085849695329,null],[null,null,null,null,null,null,null,null,null,null,null,null,null,null,null,null,null,null,null,null,null,null,null,null,null,null,null,null,null,null,null,null,null,null,null,null,null,null,null,null,null,null,null,null,null,0.9684603249830741,null],[null,null,null,null,null,null,null,null,null,null,null,null,null,null,null,null,null,null,null,null,null,null,null,null,null,null,null,null,null,null,null,null,null,null,null,null,null,null,0.8993005551794176,null,null,null,null,null,null,null,null],[null,null,null,null,null,null,null,null,null,null,null,null,null,null,null,null,null,null,null,null,null,null,null,null,null,null,null,null,null,null,null,null,null,null,null,null,null,null,null,0.9673673256601218,null,null,null,null,null,null,null],[null,null,null,null,null,null,null,null,null,null,null,null,null,null,null,null,null,null,null,null,null,null,null,null,null,null,null,null,null,null,null,null,null,null,null,null,null,null,null,null,null,null,null,null,0.9802234529451591,null,null],[null,null,null,null,null,null,null,null,null,null,null,null,null,null,null,null,null,null,null,null,null,null,null,null,null,null,null,null,null,null,0.977287095463778,null,null,null,null,null,null,null,null,null,null,null,null,null,null,null,null],[null,null,null,null,null,null,null,null,null,null,null,null,null,null,null,null,null,null,null,null,null,null,null,null,null,null,null,null,null,null,null,null,null,0.978081029113067,null,null,null,null,null,null,null,null,null,null,null,null,null],[null,null,null,null,null,null,null,null,null,null,null,null,null,null,null,null,null,null,null,null,null,null,null,null,null,null,null,null,null,null,null,0.9339212322274882,null,null,null,null,null,null,null,null,null,null,null,null,null,null,null],[null,null,null,null,null,null,null,null,null,null,null,null,null,null,null,null,null,null,null,null,null,null,null,null,null,null,null,null,null,0.9067815707515234,null,null,null,null,null,null,null,null,null,null,null,null,null,null,null,null,null],[null,null,null,null,null,null,null,null,null,null,null,null,null,null,null,null,null,null,null,null,null,null,null,null,null,0.970430020311442,null,null,null,null,null,null,null,null,null,null,null,null,null,null,null,null,null,null,null,null,null],[null,null,null,null,0.9370510629654706,null,null,null,null,null,null,null,null,null,null,null,null,null,null,null,null,null,null,null,null,null,null,null,null,null,null,null,null,null,null,null,null,null,null,null,null,null,null,null,null,null,null],[null,null,null,null,null,null,null,null,null,null,null,null,null,null,null,null,null,null,null,null,null,null,null,null,null,0.9249907244414354,null,null,null,null,null,null,null,null,null,null,null,null,null,null,null,null,null,null,null,null,null],[null,null,null,null,null,null,null,0.9629352471225456,null,null,null,null,null,null,null,null,null,null,null,null,null,null,null,null,null,null,null,null,null,null,null,null,null,null,null,null,null,null,null,null,null,null,null,null,null,null,null],[null,null,null,null,null,null,null,null,null,null,null,null,null,null,null,null,null,null,null,null,null,null,null,0.98268855788761,null,null,null,null,null,null,null,null,null,null,null,null,null,null,null,null,null,null,null,null,null,null,null],[null,null,null,null,null,null,null,null,null,null,null,null,null,null,null,null,null,null,null,null,null,null,null,null,null,null,null,null,null,null,null,null,null,null,0.9662345429925524,null,null,null,null,null,null,null,null,null,null,null,null],[null,null,null,null,null,null,null,null,null,null,null,null,null,null,null,null,null,null,null,null,null,null,null,null,null,null,null,null,0.9682533243060255,null,null,null,null,null,null,null,null,null,null,null,null,null,null,null,null,null,null],[null,null,null,null,null,null,null,null,null,null,null,null,null,null,null,null,null,null,null,null,null,null,null,null,null,null,null,null,null,0.973262748815166,null,null,null,null,null,null,null,null,null,null,null,null,null,null,null,null,null],[null,null,null,null,null,null,null,null,null,null,null,null,null,0.9495576574136764,null,null,null,null,null,null,null,null,null,null,null,null,null,null,null,null,null,null,null,null,null,null,null,null,null,null,null,null,null,null,null,null,null],[null,null,null,null,null,null,null,null,0.9223836560595803,null,null,null,null,null,null,null,null,null,null,null,null,null,null,null,null,null,null,null,null,null,null,null,null,null,null,null,null,null,null,null,null,null,null,null,null,null,null],[null,null,null,null,null,null,null,null,null,null,0.961773798239675,null,null,null,null,null,null,null,null,null,null,null,null,null,null,null,null,null,null,null,null,null,null,null,null,null,null,null,null,null,null,null,null,null,null,null,null],[null,null,null,null,null,null,null,null,null,null,null,null,null,0.9658109952606636,null,null,null,null,null,null,null,null,null,null,null,null,null,null,null,null,null,null,null,null,null,null,null,null,null,null,null,null,null,null,null,null,null],[null,null,0.8738164116452269,null,null,null,null,null,null,null,null,null,null,null,null,null,null,null,null,null,null,null,null,null,null,null,null,null,null,null,null,null,null,null,null,null,null,null,null,null,null,null,null,null,null,null,null],[null,null,null,null,null,null,null,null,null,null,null,null,null,null,null,null,null,null,null,null,null,null,null,null,null,null,null,null,null,null,null,null,null,null,null,0.930599404197698,null,null,null,null,null,null,null,null,null,null,null],[null,null,null,null,null,null,null,null,null,null,null,null,null,null,null,null,null,null,null,null,null,null,null,null,null,null,null,null,null,null,null,0.9561504129993229,null,null,null,null,null,null,null,null,null,null,null,null,null,null,null],[null,null,null,null,null,null,null,null,null,null,null,null,null,null,null,null,0.9104441164522682,null,null,null,null,null,null,null,null,null,null,null,null,null,null,null,null,null,null,null,null,null,null,null,null,null,null,null,null,null,null],[null,null,null,null,null,null,null,null,null,null,null,null,null,0.9828769668246445,null,null,null,null,0.9755830060934326,null,null,null,null,null,0.978050548408937,null,null,null,null,null,null,null,null,null,null,null,null,null,null,null,null,null,null,null,null,null,null],[null,null,null,null,null,null,null,null,null,null,null,null,null,null,null,null,null,null,null,null,0.9796783344617468,null,null,null,null,null,null,null,null,null,null,null,null,null,null,null,null,null,null,null,null,null,null,null,null,null,null],[null,null,null,null,null,null,null,null,null,0.9758603926878808,null,null,null,null,null,null,null,null,null,null,null,null,null,null,null,null,null,null,null,null,null,null,null,null,null,null,null,null,null,null,null,null,null,null,null,null,null],[null,null,null,null,null,null,null,null,null,null,null,null,null,null,null,null,null,null,0.9847593500338525,null,null,null,null,null,null,null,null,null,null,null,null,null,null,null,null,null,null,null,null,null,null,null,null,null,null,null,null],[null,null,null,null,null,null,null,null,null,null,null,null,null,null,null,null,null,null,null,null,null,null,0.9642079891672309,null,null,null,null,null,null,null,null,null,null,null,null,null,null,null,null,null,null,null,null,null,null,null,null],[null,null,null,null,null,null,null,null,null,null,null,null,null,null,null,null,null,null,null,null,null,null,null,null,null,null,null,null,null,null,null,null,null,null,null,null,null,null,null,null,0.9487715233581583,null,null,null,null,null,null],[null,null,null,null,null,0.970416682464455,null,null,null,null,null,null,null,null,null,null,null,null,null,null,null,null,null,null,null,null,null,null,null,null,null,null,null,null,null,null,null,null,null,null,null,null,null,null,null,null,null],[null,null,null,null,null,0.9682416926201761,null,null,null,null,null,null,null,null,null,null,null,null,null,null,null,null,null,null,null,null,null,null,null,null,null,null,null,null,null,null,null,null,null,null,null,null,null,null,null,null,null],[null,null,null,null,null,null,null,null,null,null,null,null,null,null,null,null,null,null,null,null,null,0.9809542180094787,null,null,null,null,null,null,null,null,null,null,null,null,null,null,null,null,null,null,null,null,null,null,null,null,null],[null,null,null,null,null,null,0.9751078266756941,null,null,null,null,null,null,null,null,null,null,null,null,null,null,null,null,null,null,null,null,null,null,null,null,null,null,null,null,null,null,null,null,null,null,null,null,null,null,null,null],[null,null,null,null,null,null,null,null,null,null,null,null,null,null,null,null,null,null,null,null,null,null,null,null,null,null,null,null,null,null,null,null,null,null,null,null,null,null,null,null,null,null,null,0.8998942721733242,null,null,null],[null,null,null,null,null,null,null,null,null,null,null,null,null,null,null,null,null,null,null,null,null,null,null,null,null,null,0.9697502234258631,null,null,null,null,null,null,null,null,null,null,null,null,null,null,null,null,null,null,null,null],[null,null,null,null,null,null,null,null,null,null,null,null,null,null,0.9582336086662153,null,null,null,null,null,null,null,null,null,null,null,null,null,null,null,null,null,null,null,null,null,null,null,null,null,null,null,null,null,null,null,null],[null,null,null,null,null,null,null,null,null,null,null,null,null,null,null,null,null,null,null,null,null,null,null,null,null,null,null,null,null,null,0.9705367095463777,null,null,null,null,null,null,null,null,null,null,null,null,null,null,null,null],[null,null,null,null,null,null,null,null,null,null,null,null,null,null,null,null,null,null,null,null,null,null,null,null,null,null,null,null,null,null,null,null,null,null,null,null,null,null,null,null,null,null,null,null,null,0.9249617603249832,null],[null,0.8507767501692618,null,null,null,0.9768577928232904,null,null,null,null,null,0.9826166689234935,null,null,null,null,null,null,null,null,null,0.9531572241029113,null,null,null,null,null,null,null,null,null,null,null,null,null,null,null,null,null,null,null,null,null,null,null,null,null],[null,null,null,null,null,null,null,null,null,null,null,null,null,null,null,null,null,null,null,0.9208899119837509,null,null,null,null,null,null,null,null,null,null,null,null,null,null,null,null,null,null,null,null,null,null,null,null,null,null,null],[null,null,null,0.9185043601895735,null,null,null,null,null,null,null,null,null,null,null,null,null,null,null,null,null,null,null,null,null,null,null,null,null,null,null,null,null,null,null,null,null,null,null,null,null,null,null,null,null,null,null],[null,null,null,null,null,null,null,null,null,null,null,null,0.9815645362220717,null,null,null,null,null,null,null,null,null,null,null,null,null,null,null,null,null,null,null,null,null,null,null,null,null,null,null,null,null,null,null,null,null,null],[null,null,null,null,null,null,null,null,null,null,null,null,null,null,null,null,null,0.9545521327014219,null,null,null,null,null,null,null,null,null,null,null,null,null,null,null,null,null,null,null,null,null,null,null,null,null,null,null,null,null],[null,null,null,null,null,null,null,null,null,null,null,null,null,null,null,null,null,null,null,null,null,null,null,null,null,null,null,null,null,null,null,null,null,null,null,null,null,null,null,null,null,null,null,null,null,null,null]],\"type\":\"contour\"},{\"marker\":{\"color\":\"black\",\"line\":{\"color\":\"Grey\",\"width\":2.0}},\"mode\":\"markers\",\"showlegend\":false,\"x\":[21,21,21,74,72,73,21,55,42,31,2,57,27,52,39,51,68,45,7,45,43,10,74,51,63,41,7,8,14,29,23,65,69,64,34,28,36,46,25,28,31,56,10,46,39,60,58,24,21,17,18,19,11,15,31,41,10,32,3,74,23,13,74,30,27],\"y\":[192,53,3,11,236,127,183,138,26,80,245,198,94,97,164,202,30,145,78,178,171,225,244,142,120,25,250,151,185,247,75,221,31,126,167,218,210,240,203,210,234,169,224,132,148,91,82,86,210,190,245,251,235,216,245,238,245,220,193,106,239,166,118,212,253],\"type\":\"scatter\"}],                        {\"title\":{\"text\":\"Contour Plot\"},\"template\":{\"data\":{\"histogram2dcontour\":[{\"type\":\"histogram2dcontour\",\"colorbar\":{\"outlinewidth\":0,\"ticks\":\"\"},\"colorscale\":[[0.0,\"#0d0887\"],[0.1111111111111111,\"#46039f\"],[0.2222222222222222,\"#7201a8\"],[0.3333333333333333,\"#9c179e\"],[0.4444444444444444,\"#bd3786\"],[0.5555555555555556,\"#d8576b\"],[0.6666666666666666,\"#ed7953\"],[0.7777777777777778,\"#fb9f3a\"],[0.8888888888888888,\"#fdca26\"],[1.0,\"#f0f921\"]]}],\"choropleth\":[{\"type\":\"choropleth\",\"colorbar\":{\"outlinewidth\":0,\"ticks\":\"\"}}],\"histogram2d\":[{\"type\":\"histogram2d\",\"colorbar\":{\"outlinewidth\":0,\"ticks\":\"\"},\"colorscale\":[[0.0,\"#0d0887\"],[0.1111111111111111,\"#46039f\"],[0.2222222222222222,\"#7201a8\"],[0.3333333333333333,\"#9c179e\"],[0.4444444444444444,\"#bd3786\"],[0.5555555555555556,\"#d8576b\"],[0.6666666666666666,\"#ed7953\"],[0.7777777777777778,\"#fb9f3a\"],[0.8888888888888888,\"#fdca26\"],[1.0,\"#f0f921\"]]}],\"heatmap\":[{\"type\":\"heatmap\",\"colorbar\":{\"outlinewidth\":0,\"ticks\":\"\"},\"colorscale\":[[0.0,\"#0d0887\"],[0.1111111111111111,\"#46039f\"],[0.2222222222222222,\"#7201a8\"],[0.3333333333333333,\"#9c179e\"],[0.4444444444444444,\"#bd3786\"],[0.5555555555555556,\"#d8576b\"],[0.6666666666666666,\"#ed7953\"],[0.7777777777777778,\"#fb9f3a\"],[0.8888888888888888,\"#fdca26\"],[1.0,\"#f0f921\"]]}],\"heatmapgl\":[{\"type\":\"heatmapgl\",\"colorbar\":{\"outlinewidth\":0,\"ticks\":\"\"},\"colorscale\":[[0.0,\"#0d0887\"],[0.1111111111111111,\"#46039f\"],[0.2222222222222222,\"#7201a8\"],[0.3333333333333333,\"#9c179e\"],[0.4444444444444444,\"#bd3786\"],[0.5555555555555556,\"#d8576b\"],[0.6666666666666666,\"#ed7953\"],[0.7777777777777778,\"#fb9f3a\"],[0.8888888888888888,\"#fdca26\"],[1.0,\"#f0f921\"]]}],\"contourcarpet\":[{\"type\":\"contourcarpet\",\"colorbar\":{\"outlinewidth\":0,\"ticks\":\"\"}}],\"contour\":[{\"type\":\"contour\",\"colorbar\":{\"outlinewidth\":0,\"ticks\":\"\"},\"colorscale\":[[0.0,\"#0d0887\"],[0.1111111111111111,\"#46039f\"],[0.2222222222222222,\"#7201a8\"],[0.3333333333333333,\"#9c179e\"],[0.4444444444444444,\"#bd3786\"],[0.5555555555555556,\"#d8576b\"],[0.6666666666666666,\"#ed7953\"],[0.7777777777777778,\"#fb9f3a\"],[0.8888888888888888,\"#fdca26\"],[1.0,\"#f0f921\"]]}],\"surface\":[{\"type\":\"surface\",\"colorbar\":{\"outlinewidth\":0,\"ticks\":\"\"},\"colorscale\":[[0.0,\"#0d0887\"],[0.1111111111111111,\"#46039f\"],[0.2222222222222222,\"#7201a8\"],[0.3333333333333333,\"#9c179e\"],[0.4444444444444444,\"#bd3786\"],[0.5555555555555556,\"#d8576b\"],[0.6666666666666666,\"#ed7953\"],[0.7777777777777778,\"#fb9f3a\"],[0.8888888888888888,\"#fdca26\"],[1.0,\"#f0f921\"]]}],\"mesh3d\":[{\"type\":\"mesh3d\",\"colorbar\":{\"outlinewidth\":0,\"ticks\":\"\"}}],\"scatter\":[{\"fillpattern\":{\"fillmode\":\"overlay\",\"size\":10,\"solidity\":0.2},\"type\":\"scatter\"}],\"parcoords\":[{\"type\":\"parcoords\",\"line\":{\"colorbar\":{\"outlinewidth\":0,\"ticks\":\"\"}}}],\"scatterpolargl\":[{\"type\":\"scatterpolargl\",\"marker\":{\"colorbar\":{\"outlinewidth\":0,\"ticks\":\"\"}}}],\"bar\":[{\"error_x\":{\"color\":\"#2a3f5f\"},\"error_y\":{\"color\":\"#2a3f5f\"},\"marker\":{\"line\":{\"color\":\"#E5ECF6\",\"width\":0.5},\"pattern\":{\"fillmode\":\"overlay\",\"size\":10,\"solidity\":0.2}},\"type\":\"bar\"}],\"scattergeo\":[{\"type\":\"scattergeo\",\"marker\":{\"colorbar\":{\"outlinewidth\":0,\"ticks\":\"\"}}}],\"scatterpolar\":[{\"type\":\"scatterpolar\",\"marker\":{\"colorbar\":{\"outlinewidth\":0,\"ticks\":\"\"}}}],\"histogram\":[{\"marker\":{\"pattern\":{\"fillmode\":\"overlay\",\"size\":10,\"solidity\":0.2}},\"type\":\"histogram\"}],\"scattergl\":[{\"type\":\"scattergl\",\"marker\":{\"colorbar\":{\"outlinewidth\":0,\"ticks\":\"\"}}}],\"scatter3d\":[{\"type\":\"scatter3d\",\"line\":{\"colorbar\":{\"outlinewidth\":0,\"ticks\":\"\"}},\"marker\":{\"colorbar\":{\"outlinewidth\":0,\"ticks\":\"\"}}}],\"scattermapbox\":[{\"type\":\"scattermapbox\",\"marker\":{\"colorbar\":{\"outlinewidth\":0,\"ticks\":\"\"}}}],\"scatterternary\":[{\"type\":\"scatterternary\",\"marker\":{\"colorbar\":{\"outlinewidth\":0,\"ticks\":\"\"}}}],\"scattercarpet\":[{\"type\":\"scattercarpet\",\"marker\":{\"colorbar\":{\"outlinewidth\":0,\"ticks\":\"\"}}}],\"carpet\":[{\"aaxis\":{\"endlinecolor\":\"#2a3f5f\",\"gridcolor\":\"white\",\"linecolor\":\"white\",\"minorgridcolor\":\"white\",\"startlinecolor\":\"#2a3f5f\"},\"baxis\":{\"endlinecolor\":\"#2a3f5f\",\"gridcolor\":\"white\",\"linecolor\":\"white\",\"minorgridcolor\":\"white\",\"startlinecolor\":\"#2a3f5f\"},\"type\":\"carpet\"}],\"table\":[{\"cells\":{\"fill\":{\"color\":\"#EBF0F8\"},\"line\":{\"color\":\"white\"}},\"header\":{\"fill\":{\"color\":\"#C8D4E3\"},\"line\":{\"color\":\"white\"}},\"type\":\"table\"}],\"barpolar\":[{\"marker\":{\"line\":{\"color\":\"#E5ECF6\",\"width\":0.5},\"pattern\":{\"fillmode\":\"overlay\",\"size\":10,\"solidity\":0.2}},\"type\":\"barpolar\"}],\"pie\":[{\"automargin\":true,\"type\":\"pie\"}]},\"layout\":{\"autotypenumbers\":\"strict\",\"colorway\":[\"#636efa\",\"#EF553B\",\"#00cc96\",\"#ab63fa\",\"#FFA15A\",\"#19d3f3\",\"#FF6692\",\"#B6E880\",\"#FF97FF\",\"#FECB52\"],\"font\":{\"color\":\"#2a3f5f\"},\"hovermode\":\"closest\",\"hoverlabel\":{\"align\":\"left\"},\"paper_bgcolor\":\"white\",\"plot_bgcolor\":\"#E5ECF6\",\"polar\":{\"bgcolor\":\"#E5ECF6\",\"angularaxis\":{\"gridcolor\":\"white\",\"linecolor\":\"white\",\"ticks\":\"\"},\"radialaxis\":{\"gridcolor\":\"white\",\"linecolor\":\"white\",\"ticks\":\"\"}},\"ternary\":{\"bgcolor\":\"#E5ECF6\",\"aaxis\":{\"gridcolor\":\"white\",\"linecolor\":\"white\",\"ticks\":\"\"},\"baxis\":{\"gridcolor\":\"white\",\"linecolor\":\"white\",\"ticks\":\"\"},\"caxis\":{\"gridcolor\":\"white\",\"linecolor\":\"white\",\"ticks\":\"\"}},\"coloraxis\":{\"colorbar\":{\"outlinewidth\":0,\"ticks\":\"\"}},\"colorscale\":{\"sequential\":[[0.0,\"#0d0887\"],[0.1111111111111111,\"#46039f\"],[0.2222222222222222,\"#7201a8\"],[0.3333333333333333,\"#9c179e\"],[0.4444444444444444,\"#bd3786\"],[0.5555555555555556,\"#d8576b\"],[0.6666666666666666,\"#ed7953\"],[0.7777777777777778,\"#fb9f3a\"],[0.8888888888888888,\"#fdca26\"],[1.0,\"#f0f921\"]],\"sequentialminus\":[[0.0,\"#0d0887\"],[0.1111111111111111,\"#46039f\"],[0.2222222222222222,\"#7201a8\"],[0.3333333333333333,\"#9c179e\"],[0.4444444444444444,\"#bd3786\"],[0.5555555555555556,\"#d8576b\"],[0.6666666666666666,\"#ed7953\"],[0.7777777777777778,\"#fb9f3a\"],[0.8888888888888888,\"#fdca26\"],[1.0,\"#f0f921\"]],\"diverging\":[[0,\"#8e0152\"],[0.1,\"#c51b7d\"],[0.2,\"#de77ae\"],[0.3,\"#f1b6da\"],[0.4,\"#fde0ef\"],[0.5,\"#f7f7f7\"],[0.6,\"#e6f5d0\"],[0.7,\"#b8e186\"],[0.8,\"#7fbc41\"],[0.9,\"#4d9221\"],[1,\"#276419\"]]},\"xaxis\":{\"gridcolor\":\"white\",\"linecolor\":\"white\",\"ticks\":\"\",\"title\":{\"standoff\":15},\"zerolinecolor\":\"white\",\"automargin\":true,\"zerolinewidth\":2},\"yaxis\":{\"gridcolor\":\"white\",\"linecolor\":\"white\",\"ticks\":\"\",\"title\":{\"standoff\":15},\"zerolinecolor\":\"white\",\"automargin\":true,\"zerolinewidth\":2},\"scene\":{\"xaxis\":{\"backgroundcolor\":\"#E5ECF6\",\"gridcolor\":\"white\",\"linecolor\":\"white\",\"showbackground\":true,\"ticks\":\"\",\"zerolinecolor\":\"white\",\"gridwidth\":2},\"yaxis\":{\"backgroundcolor\":\"#E5ECF6\",\"gridcolor\":\"white\",\"linecolor\":\"white\",\"showbackground\":true,\"ticks\":\"\",\"zerolinecolor\":\"white\",\"gridwidth\":2},\"zaxis\":{\"backgroundcolor\":\"#E5ECF6\",\"gridcolor\":\"white\",\"linecolor\":\"white\",\"showbackground\":true,\"ticks\":\"\",\"zerolinecolor\":\"white\",\"gridwidth\":2}},\"shapedefaults\":{\"line\":{\"color\":\"#2a3f5f\"}},\"annotationdefaults\":{\"arrowcolor\":\"#2a3f5f\",\"arrowhead\":0,\"arrowwidth\":1},\"geo\":{\"bgcolor\":\"white\",\"landcolor\":\"#E5ECF6\",\"subunitcolor\":\"white\",\"showland\":true,\"showlakes\":true,\"lakecolor\":\"white\"},\"title\":{\"x\":0.05},\"mapbox\":{\"style\":\"light\"}}},\"xaxis\":{\"title\":{\"text\":\"max_depth\"},\"range\":[-1.6,77.6]},\"yaxis\":{\"title\":{\"text\":\"num_leaves\"},\"range\":[-9.5,265.5]}},                        {\"responsive\": true}                    ).then(function(){\n",
       "                            \n",
       "var gd = document.getElementById('24ea3e80-92e4-44b9-b68b-70d43d0ac64b');\n",
       "var x = new MutationObserver(function (mutations, observer) {{\n",
       "        var display = window.getComputedStyle(gd).display;\n",
       "        if (!display || display === 'none') {{\n",
       "            console.log([gd, 'removed!']);\n",
       "            Plotly.purge(gd);\n",
       "            observer.disconnect();\n",
       "        }}\n",
       "}});\n",
       "\n",
       "// Listen for the removal of the full notebook cells\n",
       "var notebookContainer = gd.closest('#notebook-container');\n",
       "if (notebookContainer) {{\n",
       "    x.observe(notebookContainer, {childList: true});\n",
       "}}\n",
       "\n",
       "// Listen for the clearing of the current output cell\n",
       "var outputEl = gd.closest('.output');\n",
       "if (outputEl) {{\n",
       "    x.observe(outputEl, {childList: true});\n",
       "}}\n",
       "\n",
       "                        })                };                });            </script>        </div>"
      ]
     },
     "metadata": {},
     "output_type": "display_data"
    }
   ],
   "source": [
    "fig = op.visualization.plot_contour(study, params=['max_depth', 'num_leaves'])\n",
    "fig.show()"
   ]
  },
  {
   "cell_type": "code",
   "execution_count": 19,
   "id": "b8f032af",
   "metadata": {
    "execution": {
     "iopub.execute_input": "2023-01-17T21:39:06.383091Z",
     "iopub.status.busy": "2023-01-17T21:39:06.382687Z",
     "iopub.status.idle": "2023-01-17T21:39:08.020088Z",
     "shell.execute_reply": "2023-01-17T21:39:08.019016Z"
    },
    "papermill": {
     "duration": 1.657177,
     "end_time": "2023-01-17T21:39:08.022772",
     "exception": false,
     "start_time": "2023-01-17T21:39:06.365595",
     "status": "completed"
    },
    "tags": []
   },
   "outputs": [
    {
     "data": {
      "text/html": [
       "<div>                            <div id=\"5cb7bbca-c70f-4835-a86d-c9f92abe0e11\" class=\"plotly-graph-div\" style=\"height:525px; width:100%;\"></div>            <script type=\"text/javascript\">                require([\"plotly\"], function(Plotly) {                    window.PLOTLYENV=window.PLOTLYENV || {};                                    if (document.getElementById(\"5cb7bbca-c70f-4835-a86d-c9f92abe0e11\")) {                    Plotly.newPlot(                        \"5cb7bbca-c70f-4835-a86d-c9f92abe0e11\",                        [{\"cliponaxis\":false,\"hovertemplate\":[\"bagging_freq (IntDistribution): 0.016981740023380206<extra></extra>\",\"feature_fraction (FloatDistribution): 0.04460679921045526<extra></extra>\",\"min_child_samples (IntDistribution): 0.054616073769797206<extra></extra>\",\"lambda_l2 (FloatDistribution): 0.06465310345179656<extra></extra>\",\"lambda_l1 (FloatDistribution): 0.12541858912428006<extra></extra>\",\"max_depth (IntDistribution): 0.21413221924585812<extra></extra>\",\"bagging_fraction (FloatDistribution): 0.23284885929890545<extra></extra>\",\"num_leaves (IntDistribution): 0.24674261587552726<extra></extra>\"],\"marker\":{\"color\":\"rgb(66,146,198)\"},\"orientation\":\"h\",\"text\":[\"0.02\",\"0.04\",\"0.05\",\"0.06\",\"0.13\",\"0.21\",\"0.23\",\"0.25\"],\"textposition\":\"outside\",\"x\":[0.016981740023380206,0.04460679921045526,0.054616073769797206,0.06465310345179656,0.12541858912428006,0.21413221924585812,0.23284885929890545,0.24674261587552726],\"y\":[\"bagging_freq\",\"feature_fraction\",\"min_child_samples\",\"lambda_l2\",\"lambda_l1\",\"max_depth\",\"bagging_fraction\",\"num_leaves\"],\"type\":\"bar\"}],                        {\"showlegend\":false,\"title\":{\"text\":\"Hyperparameter Importances\"},\"xaxis\":{\"title\":{\"text\":\"Importance for Objective Value\"}},\"yaxis\":{\"title\":{\"text\":\"Hyperparameter\"}},\"template\":{\"data\":{\"histogram2dcontour\":[{\"type\":\"histogram2dcontour\",\"colorbar\":{\"outlinewidth\":0,\"ticks\":\"\"},\"colorscale\":[[0.0,\"#0d0887\"],[0.1111111111111111,\"#46039f\"],[0.2222222222222222,\"#7201a8\"],[0.3333333333333333,\"#9c179e\"],[0.4444444444444444,\"#bd3786\"],[0.5555555555555556,\"#d8576b\"],[0.6666666666666666,\"#ed7953\"],[0.7777777777777778,\"#fb9f3a\"],[0.8888888888888888,\"#fdca26\"],[1.0,\"#f0f921\"]]}],\"choropleth\":[{\"type\":\"choropleth\",\"colorbar\":{\"outlinewidth\":0,\"ticks\":\"\"}}],\"histogram2d\":[{\"type\":\"histogram2d\",\"colorbar\":{\"outlinewidth\":0,\"ticks\":\"\"},\"colorscale\":[[0.0,\"#0d0887\"],[0.1111111111111111,\"#46039f\"],[0.2222222222222222,\"#7201a8\"],[0.3333333333333333,\"#9c179e\"],[0.4444444444444444,\"#bd3786\"],[0.5555555555555556,\"#d8576b\"],[0.6666666666666666,\"#ed7953\"],[0.7777777777777778,\"#fb9f3a\"],[0.8888888888888888,\"#fdca26\"],[1.0,\"#f0f921\"]]}],\"heatmap\":[{\"type\":\"heatmap\",\"colorbar\":{\"outlinewidth\":0,\"ticks\":\"\"},\"colorscale\":[[0.0,\"#0d0887\"],[0.1111111111111111,\"#46039f\"],[0.2222222222222222,\"#7201a8\"],[0.3333333333333333,\"#9c179e\"],[0.4444444444444444,\"#bd3786\"],[0.5555555555555556,\"#d8576b\"],[0.6666666666666666,\"#ed7953\"],[0.7777777777777778,\"#fb9f3a\"],[0.8888888888888888,\"#fdca26\"],[1.0,\"#f0f921\"]]}],\"heatmapgl\":[{\"type\":\"heatmapgl\",\"colorbar\":{\"outlinewidth\":0,\"ticks\":\"\"},\"colorscale\":[[0.0,\"#0d0887\"],[0.1111111111111111,\"#46039f\"],[0.2222222222222222,\"#7201a8\"],[0.3333333333333333,\"#9c179e\"],[0.4444444444444444,\"#bd3786\"],[0.5555555555555556,\"#d8576b\"],[0.6666666666666666,\"#ed7953\"],[0.7777777777777778,\"#fb9f3a\"],[0.8888888888888888,\"#fdca26\"],[1.0,\"#f0f921\"]]}],\"contourcarpet\":[{\"type\":\"contourcarpet\",\"colorbar\":{\"outlinewidth\":0,\"ticks\":\"\"}}],\"contour\":[{\"type\":\"contour\",\"colorbar\":{\"outlinewidth\":0,\"ticks\":\"\"},\"colorscale\":[[0.0,\"#0d0887\"],[0.1111111111111111,\"#46039f\"],[0.2222222222222222,\"#7201a8\"],[0.3333333333333333,\"#9c179e\"],[0.4444444444444444,\"#bd3786\"],[0.5555555555555556,\"#d8576b\"],[0.6666666666666666,\"#ed7953\"],[0.7777777777777778,\"#fb9f3a\"],[0.8888888888888888,\"#fdca26\"],[1.0,\"#f0f921\"]]}],\"surface\":[{\"type\":\"surface\",\"colorbar\":{\"outlinewidth\":0,\"ticks\":\"\"},\"colorscale\":[[0.0,\"#0d0887\"],[0.1111111111111111,\"#46039f\"],[0.2222222222222222,\"#7201a8\"],[0.3333333333333333,\"#9c179e\"],[0.4444444444444444,\"#bd3786\"],[0.5555555555555556,\"#d8576b\"],[0.6666666666666666,\"#ed7953\"],[0.7777777777777778,\"#fb9f3a\"],[0.8888888888888888,\"#fdca26\"],[1.0,\"#f0f921\"]]}],\"mesh3d\":[{\"type\":\"mesh3d\",\"colorbar\":{\"outlinewidth\":0,\"ticks\":\"\"}}],\"scatter\":[{\"fillpattern\":{\"fillmode\":\"overlay\",\"size\":10,\"solidity\":0.2},\"type\":\"scatter\"}],\"parcoords\":[{\"type\":\"parcoords\",\"line\":{\"colorbar\":{\"outlinewidth\":0,\"ticks\":\"\"}}}],\"scatterpolargl\":[{\"type\":\"scatterpolargl\",\"marker\":{\"colorbar\":{\"outlinewidth\":0,\"ticks\":\"\"}}}],\"bar\":[{\"error_x\":{\"color\":\"#2a3f5f\"},\"error_y\":{\"color\":\"#2a3f5f\"},\"marker\":{\"line\":{\"color\":\"#E5ECF6\",\"width\":0.5},\"pattern\":{\"fillmode\":\"overlay\",\"size\":10,\"solidity\":0.2}},\"type\":\"bar\"}],\"scattergeo\":[{\"type\":\"scattergeo\",\"marker\":{\"colorbar\":{\"outlinewidth\":0,\"ticks\":\"\"}}}],\"scatterpolar\":[{\"type\":\"scatterpolar\",\"marker\":{\"colorbar\":{\"outlinewidth\":0,\"ticks\":\"\"}}}],\"histogram\":[{\"marker\":{\"pattern\":{\"fillmode\":\"overlay\",\"size\":10,\"solidity\":0.2}},\"type\":\"histogram\"}],\"scattergl\":[{\"type\":\"scattergl\",\"marker\":{\"colorbar\":{\"outlinewidth\":0,\"ticks\":\"\"}}}],\"scatter3d\":[{\"type\":\"scatter3d\",\"line\":{\"colorbar\":{\"outlinewidth\":0,\"ticks\":\"\"}},\"marker\":{\"colorbar\":{\"outlinewidth\":0,\"ticks\":\"\"}}}],\"scattermapbox\":[{\"type\":\"scattermapbox\",\"marker\":{\"colorbar\":{\"outlinewidth\":0,\"ticks\":\"\"}}}],\"scatterternary\":[{\"type\":\"scatterternary\",\"marker\":{\"colorbar\":{\"outlinewidth\":0,\"ticks\":\"\"}}}],\"scattercarpet\":[{\"type\":\"scattercarpet\",\"marker\":{\"colorbar\":{\"outlinewidth\":0,\"ticks\":\"\"}}}],\"carpet\":[{\"aaxis\":{\"endlinecolor\":\"#2a3f5f\",\"gridcolor\":\"white\",\"linecolor\":\"white\",\"minorgridcolor\":\"white\",\"startlinecolor\":\"#2a3f5f\"},\"baxis\":{\"endlinecolor\":\"#2a3f5f\",\"gridcolor\":\"white\",\"linecolor\":\"white\",\"minorgridcolor\":\"white\",\"startlinecolor\":\"#2a3f5f\"},\"type\":\"carpet\"}],\"table\":[{\"cells\":{\"fill\":{\"color\":\"#EBF0F8\"},\"line\":{\"color\":\"white\"}},\"header\":{\"fill\":{\"color\":\"#C8D4E3\"},\"line\":{\"color\":\"white\"}},\"type\":\"table\"}],\"barpolar\":[{\"marker\":{\"line\":{\"color\":\"#E5ECF6\",\"width\":0.5},\"pattern\":{\"fillmode\":\"overlay\",\"size\":10,\"solidity\":0.2}},\"type\":\"barpolar\"}],\"pie\":[{\"automargin\":true,\"type\":\"pie\"}]},\"layout\":{\"autotypenumbers\":\"strict\",\"colorway\":[\"#636efa\",\"#EF553B\",\"#00cc96\",\"#ab63fa\",\"#FFA15A\",\"#19d3f3\",\"#FF6692\",\"#B6E880\",\"#FF97FF\",\"#FECB52\"],\"font\":{\"color\":\"#2a3f5f\"},\"hovermode\":\"closest\",\"hoverlabel\":{\"align\":\"left\"},\"paper_bgcolor\":\"white\",\"plot_bgcolor\":\"#E5ECF6\",\"polar\":{\"bgcolor\":\"#E5ECF6\",\"angularaxis\":{\"gridcolor\":\"white\",\"linecolor\":\"white\",\"ticks\":\"\"},\"radialaxis\":{\"gridcolor\":\"white\",\"linecolor\":\"white\",\"ticks\":\"\"}},\"ternary\":{\"bgcolor\":\"#E5ECF6\",\"aaxis\":{\"gridcolor\":\"white\",\"linecolor\":\"white\",\"ticks\":\"\"},\"baxis\":{\"gridcolor\":\"white\",\"linecolor\":\"white\",\"ticks\":\"\"},\"caxis\":{\"gridcolor\":\"white\",\"linecolor\":\"white\",\"ticks\":\"\"}},\"coloraxis\":{\"colorbar\":{\"outlinewidth\":0,\"ticks\":\"\"}},\"colorscale\":{\"sequential\":[[0.0,\"#0d0887\"],[0.1111111111111111,\"#46039f\"],[0.2222222222222222,\"#7201a8\"],[0.3333333333333333,\"#9c179e\"],[0.4444444444444444,\"#bd3786\"],[0.5555555555555556,\"#d8576b\"],[0.6666666666666666,\"#ed7953\"],[0.7777777777777778,\"#fb9f3a\"],[0.8888888888888888,\"#fdca26\"],[1.0,\"#f0f921\"]],\"sequentialminus\":[[0.0,\"#0d0887\"],[0.1111111111111111,\"#46039f\"],[0.2222222222222222,\"#7201a8\"],[0.3333333333333333,\"#9c179e\"],[0.4444444444444444,\"#bd3786\"],[0.5555555555555556,\"#d8576b\"],[0.6666666666666666,\"#ed7953\"],[0.7777777777777778,\"#fb9f3a\"],[0.8888888888888888,\"#fdca26\"],[1.0,\"#f0f921\"]],\"diverging\":[[0,\"#8e0152\"],[0.1,\"#c51b7d\"],[0.2,\"#de77ae\"],[0.3,\"#f1b6da\"],[0.4,\"#fde0ef\"],[0.5,\"#f7f7f7\"],[0.6,\"#e6f5d0\"],[0.7,\"#b8e186\"],[0.8,\"#7fbc41\"],[0.9,\"#4d9221\"],[1,\"#276419\"]]},\"xaxis\":{\"gridcolor\":\"white\",\"linecolor\":\"white\",\"ticks\":\"\",\"title\":{\"standoff\":15},\"zerolinecolor\":\"white\",\"automargin\":true,\"zerolinewidth\":2},\"yaxis\":{\"gridcolor\":\"white\",\"linecolor\":\"white\",\"ticks\":\"\",\"title\":{\"standoff\":15},\"zerolinecolor\":\"white\",\"automargin\":true,\"zerolinewidth\":2},\"scene\":{\"xaxis\":{\"backgroundcolor\":\"#E5ECF6\",\"gridcolor\":\"white\",\"linecolor\":\"white\",\"showbackground\":true,\"ticks\":\"\",\"zerolinecolor\":\"white\",\"gridwidth\":2},\"yaxis\":{\"backgroundcolor\":\"#E5ECF6\",\"gridcolor\":\"white\",\"linecolor\":\"white\",\"showbackground\":true,\"ticks\":\"\",\"zerolinecolor\":\"white\",\"gridwidth\":2},\"zaxis\":{\"backgroundcolor\":\"#E5ECF6\",\"gridcolor\":\"white\",\"linecolor\":\"white\",\"showbackground\":true,\"ticks\":\"\",\"zerolinecolor\":\"white\",\"gridwidth\":2}},\"shapedefaults\":{\"line\":{\"color\":\"#2a3f5f\"}},\"annotationdefaults\":{\"arrowcolor\":\"#2a3f5f\",\"arrowhead\":0,\"arrowwidth\":1},\"geo\":{\"bgcolor\":\"white\",\"landcolor\":\"#E5ECF6\",\"subunitcolor\":\"white\",\"showland\":true,\"showlakes\":true,\"lakecolor\":\"white\"},\"title\":{\"x\":0.05},\"mapbox\":{\"style\":\"light\"}}}},                        {\"responsive\": true}                    ).then(function(){\n",
       "                            \n",
       "var gd = document.getElementById('5cb7bbca-c70f-4835-a86d-c9f92abe0e11');\n",
       "var x = new MutationObserver(function (mutations, observer) {{\n",
       "        var display = window.getComputedStyle(gd).display;\n",
       "        if (!display || display === 'none') {{\n",
       "            console.log([gd, 'removed!']);\n",
       "            Plotly.purge(gd);\n",
       "            observer.disconnect();\n",
       "        }}\n",
       "}});\n",
       "\n",
       "// Listen for the removal of the full notebook cells\n",
       "var notebookContainer = gd.closest('#notebook-container');\n",
       "if (notebookContainer) {{\n",
       "    x.observe(notebookContainer, {childList: true});\n",
       "}}\n",
       "\n",
       "// Listen for the clearing of the current output cell\n",
       "var outputEl = gd.closest('.output');\n",
       "if (outputEl) {{\n",
       "    x.observe(outputEl, {childList: true});\n",
       "}}\n",
       "\n",
       "                        })                };                });            </script>        </div>"
      ]
     },
     "metadata": {},
     "output_type": "display_data"
    }
   ],
   "source": [
    "fig = op.visualization.plot_param_importances(study)\n",
    "fig.show()"
   ]
  },
  {
   "cell_type": "code",
   "execution_count": 20,
   "id": "4cfa8ccf",
   "metadata": {
    "execution": {
     "iopub.execute_input": "2023-01-17T21:39:08.057157Z",
     "iopub.status.busy": "2023-01-17T21:39:08.056363Z",
     "iopub.status.idle": "2023-01-17T21:39:08.258336Z",
     "shell.execute_reply": "2023-01-17T21:39:08.257435Z"
    },
    "papermill": {
     "duration": 0.224718,
     "end_time": "2023-01-17T21:39:08.263442",
     "exception": false,
     "start_time": "2023-01-17T21:39:08.038724",
     "status": "completed"
    },
    "tags": []
   },
   "outputs": [
    {
     "data": {
      "text/html": [
       "<div>                            <div id=\"6b7aa4bf-a0cb-42f5-8e0b-dba84048e733\" class=\"plotly-graph-div\" style=\"height:525px; width:100%;\"></div>            <script type=\"text/javascript\">                require([\"plotly\"], function(Plotly) {                    window.PLOTLYENV=window.PLOTLYENV || {};                                    if (document.getElementById(\"6b7aa4bf-a0cb-42f5-8e0b-dba84048e733\")) {                    Plotly.newPlot(                        \"6b7aa4bf-a0cb-42f5-8e0b-dba84048e733\",                        [{\"marker\":{\"maxdisplayed\":10},\"mode\":\"lines+markers\",\"name\":\"Trial0\",\"x\":[0,1,2,3,4,5,6,7,8,9,10,11,12,13,14,15,16,17,18,19,20,21,22,23,24,25,26,27,28,29,30,31,32,33,34,35,36,37,38,39,40,41,42,43,44,45,46,47,48,49,50,51,52,53,54,55,56,57,58,59,60,61,62,63,64,65,66,67,68,69,70,71,72,73,74,75,76,77,78,79,80,81,82,83],\"y\":[0.6168375607123583,0.6799784133837021,0.6454398273070696,0.6664867781975176,0.7560712358337831,0.7825148407987048,0.7911494873178629,0.8057204533189423,0.8127361036157582,0.8154344306529951,0.8224500809498111,0.832164058283864,0.829465731246627,0.8300053966540745,0.8483540205072855,0.843497031840259,0.8348623853211009,0.8467350242849433,0.843497031840259,0.8521316783594172,0.8429573664328116,0.8402590393955748,0.8402590393955748,0.8413383702104695,0.8499730167296277,0.8559093362115489,0.8537506745817594,0.8510523475445224,0.843497031840259,0.8515920129519697,0.8542903399892067,0.8537506745817594,0.8488936859147329,0.8569886670264436,0.8553696708041014,0.8537506745817594,0.8569886670264436,0.8521316783594172,0.8542903399892067,0.8515920129519697,0.8494333513221802,0.8580679978413384,0.8602266594711279,0.8704803022126282,0.8694009713977334,0.8710199676200756,0.868861305990286,0.8672423097679439,0.8667026443604965,0.8699406368051807,0.8753372908796546,0.8753372908796546,0.8774959525094441,0.8753372908796546,0.8807339449541285,0.882892606583918,0.8904479222881814,0.8882892606583918,0.8974635725849973,0.8958445763626551,0.8953049109552078,0.8931462493254182,0.8974635725849973,0.8953049109552078,0.8947652455477604,0.8974635725849973,0.8969239071775499,0.8936859147328656,0.8969239071775499,0.8271604938271605,0.8281893004115226,0.8302469135802469,0.8302469135802469,0.8353909465020576,0.8353909465020576,0.8328189300411523,0.8307613168724279,0.8292181069958847,0.8302469135802469,0.8333333333333334,0.8302469135802469,0.831275720164609,0.8317901234567902,0.8302469135802469],\"type\":\"scatter\"},{\"marker\":{\"maxdisplayed\":10},\"mode\":\"lines+markers\",\"name\":\"Trial1\",\"x\":[0,1,2,3,4,5,6,7,8,9,10,11,12,13,14,15,16,17,18,19,20,21,22,23,24,25,26,27,28,29,30,31,32,33,34,35,36,37,38,39,40,41,42,43,44,45,46,47,48,49,50,51,52,53,54,55,56,57,58,59,60,61,62,63,64,65,66,67,68,69,70,71,72,73,74,75,76,77,78,79,80,81,82,83,84,85,86,87,88,89,90],\"y\":[0.7706422018348624,0.7433890987587696,0.6948192120885052,0.7112790070156503,0.7231516459794927,0.7533729087965462,0.7684835402050728,0.7738801942795467,0.7641662169454938,0.7728008634646519,0.7835941716135996,0.7976254722072316,0.8057204533189423,0.7943874797625472,0.7997841338370211,0.7949271451699946,0.809498111171074,0.8165137614678899,0.827846735024285,0.8213707501349163,0.8197517539125742,0.8262277388019428,0.8337830545062062,0.827846735024285,0.8332433890987587,0.8343227199136536,0.8343227199136536,0.829465731246627,0.8370210469508904,0.8305450620615219,0.8229897463572585,0.8246087425796006,0.8240690771721533,0.8192120885051268,0.8219104155423638,0.8273070696168375,0.8235294117647058,0.827846735024285,0.83917970858068,0.8418780356179169,0.8402590393955748,0.8343227199136536,0.8397193739881273,0.8445763626551538,0.8526713437668646,0.8607663248785753,0.857528332433891,0.8661629789530491,0.8634646519158122,0.8667026443604965,0.8780356179168916,0.875876956287102,0.8753372908796546,0.875876956287102,0.8753372908796546,0.8774959525094441,0.8747976254722072,0.8699406368051807,0.8672423097679439,0.8634646519158122,0.8650836481381543,0.823559670781893,0.8215020576131687,0.823045267489712,0.8204732510288066,0.8204732510288066,0.8153292181069959,0.8220164609053497,0.8225308641975309,0.9255261737722612,0.922288181327577,0.9228278467350243,0.9201295196977873,0.9217485159201295,0.923907177549919,0.923907177549919,0.9276848354020507,0.9298434970318402,0.9309228278467351,0.9276848354020507,0.9325418240690772,0.9293038316243929,0.9298434970318402,0.9287641662169455,0.926605504587156,0.9271451699946034,0.923907177549919,0.9201295196977873,0.9233675121424717,0.9233675121424717,0.9206691851052348],\"type\":\"scatter\"},{\"marker\":{\"maxdisplayed\":10},\"mode\":\"lines+markers\",\"name\":\"Trial2\",\"x\":[0,1,2,3,4,5,6,7,8,9,10,11,12,13,14,15,16,17,18,19,20,21,22,23,24,25,26,27,28,29,30,31,32,33,34,35,36,37,38,39,40,41,42,43,44,45,46,47,48,49,50,51,52,53,54,55,56,57,58,59,60,61,62,63,64,65,66,67,68,69,70,71,72,73,74,75,76,77,78,79,80,81,82,83,84,85,86,87,88,89,90,91,92,93,94,95,96,97,98,99,100,101,102,103,104,105,106,107,108,109,110,111,112,113,114,115,116,117,118,119,120,121,122,123,124],\"y\":[0.4902860226659471,0.6988667026443605,0.7881813275769023,0.8135456017269294,0.8175930922827847,0.8186724230976794,0.8154344306529951,0.8105774419859687,0.8027522935779816,0.8157042633567189,0.835671883432272,0.8410685375067458,0.8532110091743119,0.8613059902860226,0.8650836481381543,0.8580679978413384,0.857528332433891,0.8596869940636805,0.8596869940636805,0.8602266594711279,0.8607663248785753,0.8685914732865623,0.8712898003237992,0.8696708041014571,0.8712898003237992,0.8745277927684836,0.8783054506206153,0.8756071235833783,0.8718294657312466,0.875876956287102,0.8839719373988127,0.8893685914732865,0.8926065839179709,0.8953049109552078,0.8953049109552078,0.8947652455477604,0.8969239071775499,0.8963842417701026,0.9007015650296816,0.8985429033998921,0.9023205612520238,0.9050188882892607,0.9017808958445763,0.9017808958445763,0.9039395574743659,0.901241230437129,0.9033998920669185,0.9060982191041554,0.9050188882892607,0.9050188882892607,0.9060982191041554,0.905558553696708,0.9060982191041554,0.9050188882892607,0.9066378845116028,0.9033998920669185,0.9033998920669185,0.9039395574743659,0.9028602266594711,0.9033998920669185,0.9033998920669185,0.9033998920669185,0.9017808958445763,0.9033998920669185,0.9028602266594711,0.7895304910955208,0.7916891527253103,0.7927684835402051,0.7895304910955208,0.7922288181327577,0.7906098219104155,0.7916891527253103,0.7976254722072316,0.7992444684295736,0.8003237992444684,0.8035617916891528,0.8062601187263896,0.8051807879114948,0.8073394495412844,0.806799784133837,0.8116567728008635,0.8100377765785213,0.809498111171074,0.8084187803561792,0.8105774419859687,0.8089584457636265,0.8084187803561792,0.8078791149487318,0.8078791149487318,0.8073394495412844,0.8105774419859687,0.8863168724279835,0.8847736625514403,0.8863168724279835,0.8924897119341564,0.8924897119341564,0.8919753086419753,0.8930041152263375,0.8935185185185185,0.8914609053497943,0.8914609053497943,0.8909465020576132,0.8909465020576132,0.8909465020576132,0.8924897119341564,0.8930041152263375,0.8930041152263375,0.8945473251028807,0.8950617283950617,0.8950617283950617,0.8966049382716049,0.8981481481481481,0.8981481481481481,0.897119341563786,0.8960905349794238,0.8950617283950617,0.8950617283950617,0.8945473251028807,0.8955761316872428,0.8945473251028807,0.8950617283950617,0.8955761316872428,0.8441358024691358,0.8436213991769548,0.845679012345679],\"type\":\"scatter\"},{\"marker\":{\"maxdisplayed\":10},\"mode\":\"lines+markers\",\"name\":\"Trial3\",\"x\":[0,1,2,3,4,5,6,7,8,9,10,11,12,13,14,15,16,17,18,19,20,21,22,23,24,25,26,27,28,29,30,31,32,33,34,35,36,37,38,39,40,41,42,43,44,45,46,47,48,49,50,51,52,53,54,55,56,57,58,59,60,61,62,63,64,65,66,67,68,69,70,71,72,73,74,75,76,77,78,79,80,81,82,83,84,85,86,87,88,89,90,91,92,93,94,95,96,97,98,99,100,101,102,103,104,105,106,107,108,109,110,111,112,113,114,115,116,117,118,119,120,121,122,123,124,125,126,127,128,129,130,131,132,133,134,135,136,137,138,139,140,141,142,143],\"y\":[0.6864543982730706,0.7800863464651916,0.7773880194279547,0.7760388559093362,0.784133837021047,0.8119266055045872,0.8402590393955748,0.847814355099838,0.8534808418780356,0.8642741500269833,0.8707501349163519,0.8750674581759309,0.8791149487317863,0.8742579600647599,0.8774959525094441,0.8753372908796546,0.8801942795466811,0.8769562871019968,0.8785752833243389,0.8823529411764706,0.8877495952509444,0.8893685914732865,0.8909875876956287,0.8931462493254182,0.8942255801403131,0.8963842417701026,0.8974635725849973,0.8974635725849973,0.8947652455477604,0.9001618996222343,0.8996222342147868,0.9039395574743659,0.9039395574743659,0.905558553696708,0.9044792228818133,0.9050188882892607,0.9066378845116028,0.9093362115488397,0.9104155423637345,0.9120345385860766,0.9141932002158661,0.9131138694009714,0.9131138694009714,0.9141932002158661,0.9141932002158661,0.9190501888828926,0.9190501888828926,0.9174311926605505,0.9163518618456556,0.9174311926605505,0.9190501888828926,0.9179708580679978,0.9179708580679978,0.9185105234754453,0.9201295196977873,0.9190501888828926,0.9185105234754453,0.9179708580679978,0.91958985429034,0.9174311926605505,0.9190501888828926,0.9168915272531031,0.9174311926605505,0.9179708580679978,0.9174311926605505,0.8834322719913653,0.8297325102880658,0.8287037037037037,0.8271604938271605,0.8245884773662552,0.8209876543209876,0.8261316872427984,0.8297325102880658,0.8307613168724279,0.8323045267489712,0.8323045267489712,0.831275720164609,0.8328189300411523,0.8323045267489712,0.8292181069958847,0.8302469135802469,0.8297325102880658,0.8317901234567902,0.8338477366255144,0.8323045267489712,0.8348765432098766,0.8348765432098766,0.8359053497942387,0.8359053497942387,0.8369341563786008,0.8400205761316872,0.8415637860082305,0.8415637860082305,0.8415637860082305,0.8415637860082305,0.8405349794238683,0.8395061728395061,0.8389917695473251,0.838477366255144,0.8410493827160493,0.8431069958847737,0.8482510288065843,0.8503086419753086,0.8472222222222222,0.8477366255144033,0.8482510288065843,0.8497942386831275,0.8497942386831275,0.8492798353909465,0.8508230452674898,0.8497942386831275,0.8492798353909465,0.845679012345679,0.8461934156378601,0.8467078189300411,0.8461934156378601,0.845679012345679,0.8461934156378601,0.8446502057613169,0.8446502057613169,0.8796296296296297,0.8786008230452675,0.8796296296296297,0.8801440329218106,0.8801440329218106,0.8786008230452675,0.8842592592592593,0.8858024691358025,0.8837448559670782,0.8832304526748971,0.8837448559670782,0.8858024691358025,0.8888888888888888,0.8919753086419753,0.8904320987654321,0.88940329218107,0.8883744855967078,0.8878600823045267,0.8883744855967078,0.8883744855967078,0.8873456790123457,0.8863168724279835,0.8878600823045267,0.8868312757201646],\"type\":\"scatter\"},{\"marker\":{\"maxdisplayed\":10},\"mode\":\"lines+markers\",\"name\":\"Trial4\",\"x\":[0,1,2,3,4,5,6,7,8,9,10,11,12,13,14,15,16,17,18,19,20,21,22,23,24,25,26,27,28,29,30,31,32,33,34,35,36,37,38,39,40,41,42,43,44,45,46,47,48,49,50,51,52,53,54,55,56,57,58,59,60,61,62,63,64,65,66,67,68,69,70,71,72,73,74,75,76,77,78,79,80,81,82,83,84,85,86,87,88,89,90,91,92,93,94,95,96,97,98,99,100,101,102,103,104,105,106,107,108,109,110,111,112],\"y\":[0.6821370750134916,0.7209929843497032,0.7048030221262817,0.7199136535348084,0.7420399352401511,0.7495952509444145,0.7906098219104155,0.806799784133837,0.8121964382083109,0.8165137614678899,0.8354020507285483,0.8354020507285483,0.8440366972477065,0.8559093362115489,0.8521316783594172,0.8623853211009175,0.8650836481381543,0.8672423097679439,0.864543982730707,0.8640043173232596,0.8656233135456017,0.8683216405828387,0.8747976254722072,0.8785752833243389,0.8861305990286023,0.8926065839179709,0.8899082568807339,0.8855909336211549,0.8893685914732865,0.8904479222881814,0.8899082568807339,0.8926065839179709,0.8920669185105234,0.8980032379924446,0.8990825688073395,0.8990825688073395,0.8963842417701026,0.8963842417701026,0.8996222342147868,0.8947652455477604,0.8985429033998921,0.8947652455477604,0.8947652455477604,0.8958445763626551,0.8985429033998921,0.8963842417701026,0.8985429033998921,0.8963842417701026,0.8990825688073395,0.825148407987048,0.820831084727469,0.8262277388019428,0.8289260658391797,0.8354020507285483,0.8343227199136536,0.8332433890987587,0.832164058283864,0.8354020507285483,0.8364813815434431,0.8418780356179169,0.8424177010253643,0.8413383702104695,0.8429573664328116,0.8424177010253643,0.8418780356179169,0.8440366972477065,0.8429573664328116,0.843497031840259,0.8440366972477065,0.8445763626551538,0.8429573664328116,0.8445763626551538,0.843497031840259,0.8483540205072855,0.8467350242849433,0.8456556934700485,0.8429573664328116,0.8386400431732326,0.8397193739881273,0.8375607123583378,0.8407987048030221,0.8386400431732326,0.83917970858068,0.8343227199136536,0.9201295196977873,0.922288181327577,0.9212088505126821,0.91958985429034,0.9158121964382083,0.9158121964382083,0.9174311926605505,0.9147328656233136,0.9125742039935241,0.9174311926605505,0.9190501888828926,0.9179708580679978,0.8650836481381543,0.8672423097679439,0.8650836481381543,0.8683216405828387,0.868861305990286,0.8715596330275229,0.8737182946573124,0.8726389638424177,0.8726389638424177,0.8683216405828387,0.8656233135456017,0.8677819751753912,0.8656233135456017,0.8640043173232596,0.8640043173232596,0.8656233135456017,0.8629249865083648],\"type\":\"scatter\"},{\"marker\":{\"maxdisplayed\":10},\"mode\":\"lines+markers\",\"name\":\"Trial5\",\"x\":[0,1,2,3,4,5,6,7,8,9,10,11,12,13,14,15,16,17,18,19,20,21,22,23,24,25,26,27,28,29,30,31,32,33,34,35,36,37,38,39,40,41,42,43,44,45,46,47,48,49,50,51,52,53,54,55,56,57,58,59,60,61,62,63,64,65,66,67,68,69,70,71,72,73,74,75,76,77,78,79,80,81,82,83,84,85],\"y\":[0.7145169994603346,0.8623853211009175,0.8640043173232596,0.8801942795466811,0.8796546141392336,0.882892606583918,0.8731786292498651,0.875876956287102,0.8704803022126282,0.8747976254722072,0.8742579600647599,0.8845116028062601,0.8855909336211549,0.8785752833243389,0.8785752833243389,0.8855909336211549,0.8877495952509444,0.8839719373988127,0.8769562871019968,0.875876956287102,0.875876956287102,0.868861305990286,0.8769562871019968,0.8866702644360497,0.8909875876956287,0.8888289260658392,0.8834322719913653,0.8785752833243389,0.8796546141392336,0.8796546141392336,0.8855909336211549,0.8818132757690232,0.8926065839179709,0.8882892606583918,0.8882892606583918,0.8936859147328656,0.8963842417701026,0.8931462493254182,0.8936859147328656,0.8931462493254182,0.9007015650296816,0.8990825688073395,0.9001618996222343,0.9023205612520238,0.9001618996222343,0.8974635725849973,0.8969239071775499,0.8996222342147868,0.8985429033998921,0.901241230437129,0.9039395574743659,0.9044792228818133,0.9017808958445763,0.9001618996222343,0.8980032379924446,0.8974635725849973,0.8974635725849973,0.8980032379924446,0.8942255801403131,0.8985429033998921,0.8963842417701026,0.8953049109552078,0.8354020507285483,0.8354020507285483,0.8713991769547325,0.875,0.8734567901234568,0.8548300053966541,0.8521316783594172,0.8532110091743119,0.8148947652455477,0.8132757690232056,0.8143550998381004,0.8175930922827847,0.8175930922827847,0.8192120885051268,0.8186724230976794,0.8175930922827847,0.8186724230976794,0.8170534268753373,0.8175930922827847,0.8170534268753373,0.8165137614678899,0.8170534268753373,0.8170534268753373,0.8165137614678899],\"type\":\"scatter\"},{\"marker\":{\"maxdisplayed\":10},\"mode\":\"lines+markers\",\"name\":\"Trial6\",\"x\":[0,1,2,3,4,5,6,7,8,9,10,11,12,13,14,15,16,17,18,19,20,21,22,23,24,25,26,27,28,29,30,31,32,33,34,35,36,37,38,39,40,41,42,43,44,45,46,47,48,49,50,51,52,53,54,55,56,57,58,59,60,61,62,63,64,65,66,67],\"y\":[0.7746896923907177,0.8170534268753373,0.7808958445763626,0.825148407987048,0.8499730167296277,0.8343227199136536,0.8413383702104695,0.8548300053966541,0.8667026443604965,0.8850512682137075,0.8866702644360497,0.8936859147328656,0.8931462493254182,0.8980032379924446,0.9017808958445763,0.9023205612520238,0.9050188882892607,0.9120345385860766,0.905558553696708,0.9033998920669185,0.9023205612520238,0.9104155423637345,0.9125742039935241,0.926605504587156,0.9228278467350243,0.9271451699946034,0.9271451699946034,0.9276848354020507,0.923907177549919,0.923907177549919,0.9314624932541824,0.9298434970318402,0.9352401511063141,0.9400971397733405,0.937938478143551,0.9368591473286563,0.9368591473286563,0.9373988127361036,0.9336211548839719,0.9336211548839719,0.9336211548839719,0.9352401511063141,0.9352401511063141,0.9395574743658931,0.8009259259259259,0.8009259259259259,0.8045267489711934,0.8096707818930041,0.8070987654320988,0.8065843621399177,0.808641975308642,0.8029835390946503,0.8153292181069959,0.8101851851851852,0.8153292181069959,0.823559670781893,0.8276748971193416,0.831275720164609,0.8261316872427984,0.8261316872427984,0.8261316872427984,0.8302469135802469,0.8292181069958847,0.823559670781893,0.823045267489712,0.8220164609053497,0.8276748971193416,0.8292181069958847],\"type\":\"scatter\"},{\"marker\":{\"maxdisplayed\":10},\"mode\":\"lines+markers\",\"name\":\"Trial7\",\"x\":[0,1,2,3,4,5,6,7,8,9,10,11,12,13,14,15,16,17,18,19,20,21,22,23,24,25,26,27,28,29,30,31,32,33,34,35,36,37,38,39,40,41,42,43,44,45,46,47,48,49,50,51,52,53,54,55,56,57,58,59,60,61,62,63,64,65,66,67,68,69,70,71,72,73,74,75,76,77,78,79,80,81],\"y\":[0.7374527792768484,0.7142471667566109,0.7142471667566109,0.7048030221262817,0.7193739881273611,0.7166756610901241,0.7220723151645979,0.7582298974635726,0.7738801942795467,0.7889908256880734,0.8019427954668106,0.8111171073934161,0.8078791149487318,0.8089584457636265,0.8224500809498111,0.8267674042093902,0.8213707501349163,0.820831084727469,0.8219104155423638,0.8305450620615219,0.8397193739881273,0.8445763626551538,0.846195358877496,0.8494333513221802,0.8521316783594172,0.8569886670264436,0.8548300053966541,0.8623853211009175,0.8667026443604965,0.8634646519158122,0.8661629789530491,0.868861305990286,0.8715596330275229,0.868861305990286,0.8737182946573124,0.8747976254722072,0.8742579600647599,0.8737182946573124,0.8807339449541285,0.8791149487317863,0.8807339449541285,0.8774959525094441,0.8742579600647599,0.8672423097679439,0.8667026443604965,0.8699406368051807,0.8694009713977334,0.8694009713977334,0.8677819751753912,0.7722611980572045,0.7695628710199676,0.7738801942795467,0.7765785213167836,0.7728008634646519,0.7852131678359417,0.7857528332433891,0.7819751753912574,0.7787371829465731,0.7798165137614679,0.7781975175391257,0.7830545062061521,0.7819751753912574,0.7776578521316784,0.784133837021047,0.7835941716135996,0.7819751753912574,0.7870370370370371,0.7916666666666666,0.7896090534979424,0.7906378600823045,0.7926954732510288,0.8974635725849973,0.8958445763626551,0.8947652455477604,0.8974635725849973,0.8958445763626551,0.8963842417701026,0.8980032379924446,0.8873456790123457,0.8832304526748971,0.8827160493827161,0.8811728395061729],\"type\":\"scatter\"},{\"marker\":{\"maxdisplayed\":10},\"mode\":\"lines+markers\",\"name\":\"Trial8\",\"x\":[0,1,2,3,4,5,6,7,8,9,10,11,12,13,14,15,16,17,18,19,20,21,22,23,24,25,26,27,28,29,30,31,32,33,34,35,36,37,38,39,40,41,42,43,44,45,46,47,48,49,50,51,52,53,54,55,56,57,58,59,60,61,62,63,64,65,66,67,68,69,70,71,72,73,74,75,76,77,78,79,80],\"y\":[0.7042633567188343,0.710739341608203,0.7015650296815974,0.7722611980572045,0.7703723691311387,0.7738801942795467,0.7765785213167836,0.7970858067997841,0.8256880733944955,0.832164058283864,0.8256880733944955,0.8262277388019428,0.8375607123583378,0.8424177010253643,0.8413383702104695,0.8364813815434431,0.843497031840259,0.8494333513221802,0.8467350242849433,0.847814355099838,0.8488936859147329,0.8499730167296277,0.8483540205072855,0.8532110091743119,0.857528332433891,0.8596869940636805,0.8650836481381543,0.8650836481381543,0.8699406368051807,0.8677819751753912,0.8710199676200756,0.8796546141392336,0.8747976254722072,0.8785752833243389,0.8780356179168916,0.8780356179168916,0.8791149487317863,0.8845116028062601,0.8893685914732865,0.8882892606583918,0.8888289260658392,0.8877495952509444,0.887209929843497,0.8855909336211549,0.8877495952509444,0.8915272531030761,0.8877495952509444,0.8893685914732865,0.8818132757690232,0.887209929843497,0.8866702644360497,0.8877495952509444,0.8882892606583918,0.8834322719913653,0.8861305990286023,0.8904479222881814,0.9027777777777778,0.9063786008230452,0.9053497942386831,0.8791152263374485,0.8770576131687243,0.8744855967078189,0.8724279835390947,0.8739711934156379,0.8734567901234568,0.8724279835390947,0.8708847736625515,0.8713991769547325,0.8698559670781894,0.8719135802469136,0.8398692810457516,0.8770576131687243,0.8760288065843621,0.8755144032921811,0.8775720164609053,0.8770576131687243,0.8775720164609053,0.8755144032921811,0.8744855967078189,0.8760288065843621,0.8765432098765432],\"type\":\"scatter\"},{\"marker\":{\"maxdisplayed\":10},\"mode\":\"lines+markers\",\"name\":\"Trial9\",\"x\":[0,1,2,3,4,5,6,7,8,9,10,11,12,13,14,15,16,17,18,19,20,21,22,23,24,25,26,27,28,29,30,31,32,33,34,35,36,37,38,39,40,41,42,43,44,45,46,47,48,49,50,51,52,53,54,55,56,57,58,59,60,61,62,63,64,65,66,67,68,69,70,71,72,73,74,75,76,77,78,79,80,81,82,83,84,85,86,87,88,89,90,91,92,93],\"y\":[0.7056125202374528,0.7593092282784674,0.7690232056125202,0.7706422018348624,0.7943874797625472,0.8111171073934161,0.8035617916891528,0.8132757690232056,0.8224500809498111,0.8273070696168375,0.8159740960604426,0.825148407987048,0.8057204533189423,0.8192120885051268,0.8224500809498111,0.8316243928764167,0.8397193739881273,0.8348623853211009,0.8397193739881273,0.8451160280626012,0.8386400431732326,0.8310847274689692,0.8332433890987587,0.8310847274689692,0.8359417161359957,0.847814355099838,0.847814355099838,0.843497031840259,0.8472746896923907,0.8402590393955748,0.8343227199136536,0.829465731246627,0.8332433890987587,0.8235294117647058,0.8262277388019428,0.829465731246627,0.7916891527253103,0.7889908256880734,0.7879114948731786,0.7916891527253103,0.7895304910955208,0.784133837021047,0.7776578521316784,0.7798165137614679,0.7760388559093362,0.7776578521316784,0.7722611980572045,0.9007201646090535,0.9002057613168725,0.9022633744855967,0.8986625514403292,0.9032921810699589,0.9027777777777778,0.9007201646090535,0.9027777777777778,0.9027777777777778,0.9022633744855967,0.9053497942386831,0.9074074074074074,0.904835390946502,0.911522633744856,0.9063786008230452,0.9053497942386831,0.9032921810699589,0.9022633744855967,0.9017489711934157,0.9022633744855967,0.9027777777777778,0.9063786008230452,0.8986625514403292,0.9017489711934157,0.8996222342147868,0.9017808958445763,0.9001618996222343,0.9071775499190502,0.9071775499190502,0.9066378845116028,0.9060982191041554,0.9077172153264975,0.9114948731786292,0.9109552077711819,0.9131138694009714,0.9136535348084188,0.9174311926605505,0.9168915272531031,0.9141932002158661,0.908256880733945,0.9060982191041554,0.9066378845116028,0.9071775499190502,0.9071775499190502,0.9071775499190502,0.9066378845116028,0.9109552077711819],\"type\":\"scatter\"},{\"marker\":{\"maxdisplayed\":10},\"mode\":\"lines+markers\",\"name\":\"Trial10\",\"x\":[0,1,2,3,4,5,6,7,8,9,10,11,12,13,14,15,16,17,18,19,20,21,22,23,24,25,26,27,28,29,30,31,32,33,34,35,36,37,38,39,40,41,42,43,44,45,46,47,48,49,50,51,52,53,54,55,56,57,58,59,60,61,62,63,64,65,66,67,68,69,70,71,72,73,74,75,76,77,78,79,80,81,82,83,84,85,86,87,88,89,90,91,92,93,94,95,96,97,98,99,100,101,102,103,104,105,106,107,108,109,110,111,112,113,114,115,116,117,118,119,120,121,122,123,124,125,126,127,128,129,130,131,132,133,134,135,136,137,138,139,140],\"y\":[0.6365353480841878,0.6316783594171613,0.6786292498650837,0.770102536427415,0.7795466810577442,0.7746896923907177,0.7776578521316784,0.7889908256880734,0.7938478143550999,0.8132757690232056,0.8108472746896924,0.810307609282245,0.8305450620615219,0.8410685375067458,0.8459255261737723,0.8556395035078251,0.8594171613599568,0.8586076632487858,0.8607663248785753,0.8586076632487858,0.8580679978413384,0.8564490016189962,0.8604964921748516,0.8669724770642202,0.8734484619535888,0.8756071235833783,0.87938478143551,0.8761467889908257,0.8858607663248785,0.886400431732326,0.8939557474365893,0.8917970858067998,0.8923367512142472,0.8974635725849973,0.8958445763626551,0.8985429033998921,0.8996222342147868,0.8985429033998921,0.8963842417701026,0.8947652455477604,0.8909875876956287,0.8963842417701026,0.8980032379924446,0.8996222342147868,0.8985429033998921,0.8985429033998921,0.8969239071775499,0.9104938271604939,0.911522633744856,0.8698559670781894,0.8713991769547325,0.8703703703703703,0.8693415637860082,0.8688271604938271,0.8667695473251029,0.8533950617283951,0.8539094650205762,0.8544238683127572,0.8554526748971193,0.8513374485596708,0.8503086419753086,0.852366255144033,0.8513374485596708,0.8533950617283951,0.8564814814814815,0.8569958847736625,0.8580246913580247,0.8585390946502057,0.8595679012345679,0.8600823045267489,0.8616255144032922,0.8631687242798354,0.8626543209876543,0.8600823045267489,0.8626543209876543,0.8621399176954733,0.8611111111111112,0.8595679012345679,0.8600823045267489,0.8595679012345679,0.8595679012345679,0.8590534979423868,0.8343227199136536,0.8354020507285483,0.8364813815434431,0.8370210469508904,0.8370210469508904,0.8332433890987587,0.8305450620615219,0.8305450620615219,0.829465731246627,0.8283864004317323,0.8267674042093902,0.8273070696168375,0.827846735024285,0.8256880733944955,0.8942255801403131,0.8915272531030761,0.8485838779956427,0.8969239071775499,0.8947652455477604,0.8958445763626551,0.8985429033998921,0.8974635725849973,0.8974635725849973,0.8990825688073395,0.9001618996222343,0.8963842417701026,0.8942255801403131,0.8904479222881814,0.8899082568807339,0.8936859147328656,0.8936859147328656,0.8926065839179709,0.8953049109552078,0.8953049109552078,0.8936859147328656,0.8116567728008635,0.809498111171074,0.8100377765785213,0.809498111171074,0.8089584457636265,0.8111171073934161,0.8143550998381004,0.8143550998381004,0.8165137614678899,0.8148947652455477,0.8127361036157582,0.813815434430653,0.8154344306529951,0.8192120885051268,0.8181327576902321,0.8170534268753373,0.8159740960604426,0.8154344306529951,0.8127361036157582,0.8127361036157582,0.8143550998381004,0.8127361036157582,0.8148947652455477,0.8148947652455477],\"type\":\"scatter\"},{\"marker\":{\"maxdisplayed\":10},\"mode\":\"lines+markers\",\"name\":\"Trial11\",\"x\":[0,1,2,3,4,5,6,7,8,9,10,11,12,13,14,15,16,17,18,19,20,21,22,23,24,25,26,27,28,29,30,31,32,33,34,35,36,37,38,39,40,41,42,43,44,45,46,47,48,49,50,51,52,53,54,55,56,57,58,59,60,61,62,63,64,65,66,67,68,69,70,71,72,73,74,75,76,77,78,79,80,81,82,83,84,85,86,87,88,89,90,91,92,93],\"y\":[0.7193739881273611,0.7363734484619536,0.7390717754991905,0.7371829465731247,0.730706961683756,0.7253103076092823,0.749055585536967,0.7830545062061521,0.7652455477603886,0.7835941716135996,0.7933081489476524,0.7987048030221263,0.8111171073934161,0.8267674042093902,0.8451160280626012,0.8710199676200756,0.8801942795466811,0.8801942795466811,0.8899082568807339,0.8888289260658392,0.8850512682137075,0.8861305990286023,0.8899082568807339,0.8893685914732865,0.8877495952509444,0.8915272531030761,0.8915272531030761,0.8893685914732865,0.8909875876956287,0.8969239071775499,0.9028602266594711,0.9050188882892607,0.9028602266594711,0.9033998920669185,0.8990825688073395,0.8969239071775499,0.8969239071775499,0.8953049109552078,0.8947652455477604,0.9023205612520238,0.9028602266594711,0.9066378845116028,0.9093362115488397,0.9087965461413924,0.9066378845116028,0.9109552077711819,0.9114948731786292,0.9104155423637345,0.9087965461413924,0.9147328656233136,0.9136535348084188,0.9098758769562871,0.9060982191041554,0.905558553696708,0.9033998920669185,0.9109552077711819,0.9098758769562871,0.9131138694009714,0.9087965461413924,0.9114948731786292,0.8755144032921811,0.8693415637860082,0.8713991769547325,0.8729423868312757,0.8739711934156379,0.875,0.8760288065843621,0.8739711934156379,0.8770576131687243,0.8708847736625515,0.8760288065843621,0.8791152263374485,0.8770576131687243,0.8734567901234568,0.8744855967078189,0.8770576131687243,0.8786008230452675,0.8755144032921811,0.8739711934156379,0.8729423868312757,0.8719135802469136,0.8729423868312757,0.9152725310307609,0.9190501888828926,0.9168915272531031,0.9158121964382083,0.9141932002158661,0.9141932002158661,0.9131138694009714,0.9114948731786292,0.9120345385860766,0.9120345385860766,0.9136535348084188,0.9179708580679978],\"type\":\"scatter\"},{\"marker\":{\"maxdisplayed\":10},\"mode\":\"lines+markers\",\"name\":\"Trial12\",\"x\":[0,1,2,3,4,5,6,7,8,9,10,11,12,13,14,15,16,17,18,19,20,21,22,23,24,25,26,27,28,29,30,31,32,33,34,35,36,37,38,39,40,41,42,43,44,45,46,47,48,49,50,51,52,53,54,55,56,57,58,59,60,61,62,63,64,65,66,67,68,69,70,71,72,73,74,75,76,77,78,79,80,81,82,83,84,85,86,87,88,89,90,91,92,93],\"y\":[0.729897463572585,0.7738801942795467,0.7819751753912574,0.7873718294657313,0.7819751753912574,0.7636265515380464,0.7587695628710199,0.8041014570966001,0.8073394495412844,0.8273070696168375,0.8181327576902321,0.8256880733944955,0.8305450620615219,0.8283864004317323,0.8310847274689692,0.8337830545062062,0.8381003777657852,0.846195358877496,0.8488936859147329,0.8564490016189962,0.8542903399892067,0.8526713437668646,0.8559093362115489,0.8515920129519697,0.8602266594711279,0.8559093362115489,0.8564490016189962,0.8580679978413384,0.857528332433891,0.8569886670264436,0.8515920129519697,0.8537506745817594,0.8629249865083648,0.857528332433891,0.868861305990286,0.8656233135456017,0.8634646519158122,0.8661629789530491,0.864543982730707,0.8650836481381543,0.8650836481381543,0.8731786292498651,0.8742579600647599,0.8715596330275229,0.8731786292498651,0.8742579600647599,0.8726389638424177,0.8753372908796546,0.8731786292498651,0.8753372908796546,0.8774959525094441,0.8764166216945494,0.8791149487317863,0.8839719373988127,0.8855909336211549,0.8877495952509444,0.8861305990286023,0.8866702644360497,0.8834322719913653,0.8823529411764706,0.8812736103615758,0.8785752833243389,0.8774959525094441,0.8769562871019968,0.8742579600647599,0.8753372908796546,0.8924897119341564,0.8899176954732511,0.8940329218106996,0.8930041152263375,0.8930041152263375,0.8919753086419753,0.8904320987654321,0.8935185185185185,0.8966049382716049,0.8966049382716049,0.8966049382716049,0.8996913580246914,0.9007201646090535,0.9007201646090535,0.9002057613168725,0.9022633744855967,0.9012345679012346,0.9038065843621399,0.9007201646090535,0.9002057613168725,0.9017489711934157,0.8996913580246914,0.8991769547325102,0.9002057613168725,0.8981481481481481,0.897633744855967,0.8966049382716049,0.8966049382716049],\"type\":\"scatter\"},{\"marker\":{\"maxdisplayed\":10},\"mode\":\"lines+markers\",\"name\":\"Trial13\",\"x\":[0,1,2,3,4,5,6,7,8,9,10,11,12,13,14,15,16,17,18,19,20,21,22,23,24,25,26,27,28,29,30,31,32,33,34,35,36,37,38,39,40,41,42,43,44,45,46,47,48,49,50,51,52,53,54,55,56,57,58,59,60,61,62,63,64,65,66,67,68,69,70,71,72,73,74,75],\"y\":[0.791958985429034,0.7425796006475985,0.7398812736103616,0.7754991905018889,0.7738801942795467,0.788451160280626,0.8224500809498111,0.813815434430653,0.8240690771721533,0.8359417161359957,0.850512682137075,0.8542903399892067,0.8548300053966541,0.8613059902860226,0.8634646519158122,0.8613059902860226,0.8413383702104695,0.8494333513221802,0.8429573664328116,0.8445763626551538,0.8623853211009175,0.8602266594711279,0.8564490016189962,0.8596869940636805,0.8683216405828387,0.8672423097679439,0.8694009713977334,0.8699406368051807,0.8737182946573124,0.8710199676200756,0.8839719373988127,0.8839719373988127,0.8839719373988127,0.8915272531030761,0.8834322719913653,0.882892606583918,0.8812736103615758,0.8904479222881814,0.8947652455477604,0.8947652455477604,0.882892606583918,0.8866702644360497,0.8931462493254182,0.8969239071775499,0.8980032379924446,0.9039395574743659,0.9017808958445763,0.9028602266594711,0.9033998920669185,0.9050188882892607,0.905558553696708,0.9050188882892607,0.9109552077711819,0.9087965461413924,0.9066378845116028,0.9060982191041554,0.908256880733945,0.9087965461413924,0.9087965461413924,0.9136535348084188,0.9152725310307609,0.9190501888828926,0.9201295196977873,0.9228278467350243,0.9190501888828926,0.9233675121424717,0.9217485159201295,0.9212088505126821,0.9206691851052348,0.9174311926605505,0.9190501888828926,0.9217485159201295,0.9212088505126821,0.9185105234754453,0.9168915272531031,0.9206691851052348],\"type\":\"scatter\"},{\"marker\":{\"maxdisplayed\":10},\"mode\":\"lines+markers\",\"name\":\"Trial14\",\"x\":[0,1,2,3,4,5,6,7,8,9,10,11,12,13,14,15,16,17,18,19,20,21,22,23,24,25,26,27,28,29,30,31,32,33,34,35,36,37,38,39,40,41,42,43,44,45,46,47,48,49,50,51,52,53,54,55,56,57,58,59,60,61,62,63,64,65,66,67,68,69,70,71,72,73,74,75,76,77,78,79,80,81,82,83,84,85,86,87,88,89,90,91,92,93,94,95],\"y\":[0.736913113869401,0.7280086346465191,0.7576902320561252,0.7406907717215326,0.7738801942795467,0.7781975175391257,0.7900701565029682,0.7938478143550999,0.7927684835402051,0.7960064759848894,0.7976254722072316,0.802482460874258,0.8111171073934161,0.8089584457636265,0.8132757690232056,0.8235294117647058,0.8289260658391797,0.8289260658391797,0.8359417161359957,0.8440366972477065,0.8402590393955748,0.8418780356179169,0.850512682137075,0.8494333513221802,0.8467350242849433,0.8521316783594172,0.846195358877496,0.8424177010253643,0.8494333513221802,0.8607663248785753,0.8640043173232596,0.8661629789530491,0.8747976254722072,0.8720992984349704,0.8715596330275229,0.8710199676200756,0.8726389638424177,0.875876956287102,0.8753372908796546,0.8694009713977334,0.8694009713977334,0.8672423097679439,0.8629249865083648,0.8629249865083648,0.8569886670264436,0.8569886670264436,0.8580679978413384,0.8586076632487858,0.8213707501349163,0.7981651376146789,0.7987048030221263,0.7987048030221263,0.7992444684295736,0.7992444684295736,0.7960064759848894,0.7965461413923367,0.823559670781893,0.8245884773662552,0.8251028806584362,0.8192120885051268,0.8159740960604426,0.8111171073934161,0.8089584457636265,0.8116567728008635,0.8105774419859687,0.8084187803561792,0.8634646519158122,0.8607663248785753,0.8602266594711279,0.8586076632487858,0.8586076632487858,0.8602266594711279,0.8640043173232596,0.8591473286562331,0.8591473286562331,0.8586076632487858,0.8607663248785753,0.8602266594711279,0.8580679978413384,0.8580679978413384,0.8591473286562331,0.8613059902860226,0.8634646519158122,0.8445763626551538,0.8467350242849433,0.8483540205072855,0.847814355099838,0.8467350242849433,0.8467350242849433,0.8451160280626012,0.846195358877496,0.8418780356179169,0.8445763626551538,0.8445763626551538,0.8445763626551538,0.847814355099838],\"type\":\"scatter\"},{\"marker\":{\"maxdisplayed\":10},\"mode\":\"lines+markers\",\"name\":\"Trial15\",\"x\":[0,1,2,3,4,5,6,7,8,9,10,11,12,13,14,15,16,17,18,19,20,21,22,23,24,25,26,27,28,29,30,31,32,33,34,35,36,37,38,39,40,41,42,43,44,45,46,47,48,49,50,51,52,53,54,55,56,57,58,59,60,61,62,63,64,65,66,67,68,69,70,71,72],\"y\":[0.7679438747976255,0.769293038316244,0.7625472207231516,0.7738801942795467,0.7981651376146789,0.7938478143550999,0.8192120885051268,0.8159740960604426,0.8300053966540745,0.8407987048030221,0.850512682137075,0.8672423097679439,0.8667026443604965,0.8699406368051807,0.8888289260658392,0.8909875876956287,0.8839719373988127,0.8926065839179709,0.9001618996222343,0.905558553696708,0.9158121964382083,0.9147328656233136,0.9174311926605505,0.9093362115488397,0.9147328656233136,0.9152725310307609,0.9136535348084188,0.9201295196977873,0.9179708580679978,0.9147328656233136,0.9163518618456556,0.9158121964382083,0.91958985429034,0.9185105234754453,0.9152725310307609,0.9158121964382083,0.9120345385860766,0.9098758769562871,0.8111171073934161,0.8170534268753373,0.8186724230976794,0.8148947652455477,0.8159740960604426,0.8192120885051268,0.8636831275720165,0.8698559670781894,0.8713991769547325,0.8823529411764706,0.8894335511982571,0.8856209150326797,0.880718954248366,0.8785403050108932,0.8818082788671024,0.8785403050108932,0.8741830065359477,0.8730936819172114,0.8720043572984749,0.8779956427015251,0.8790849673202614,0.8323045267489712,0.8348765432098766,0.838477366255144,0.8359053497942387,0.8364197530864198,0.8359053497942387,0.8343621399176955,0.8369341563786008,0.8379629629629629,0.838477366255144,0.838477366255144,0.8374485596707819,0.8369341563786008,0.8065843621399177],\"type\":\"scatter\"},{\"marker\":{\"maxdisplayed\":10},\"mode\":\"lines+markers\",\"name\":\"Trial16\",\"x\":[0,1,2,3,4,5,6,7,8,9,10,11,12,13,14,15,16,17,18,19,20,21,22,23,24,25,26,27,28,29,30,31,32,33,34,35,36,37,38,39,40,41,42,43,44,45,46,47,48,49,50,51,52,53,54,55,56,57,58,59,60,61,62,63,64,65,66,67,68,69,70,71,72,73,74,75,76,77,78,79,80,81,82,83,84,85,86,87,88,89,90,91,92,93,94,95,96,97,98,99,100,101,102,103,104,105,106,107,108,109,110,111,112,113,114,115,116,117,118,119,120,121],\"y\":[0.736913113869401,0.7444684295736643,0.7417701025364274,0.8162439287641662,0.8432271991365353,0.8529411764705882,0.8634646519158122,0.8629249865083648,0.875876956287102,0.8807339449541285,0.8753372908796546,0.8694009713977334,0.8667026443604965,0.8769562871019968,0.8850512682137075,0.8850512682137075,0.8855909336211549,0.8812736103615758,0.8796546141392336,0.8774959525094441,0.8780356179168916,0.8715596330275229,0.875876956287102,0.8726389638424177,0.8861305990286023,0.8855909336211549,0.8899082568807339,0.8888289260658392,0.8947652455477604,0.8915272531030761,0.8974635725849973,0.9023205612520238,0.9028602266594711,0.8996222342147868,0.905558553696708,0.9066378845116028,0.908256880733945,0.9104155423637345,0.9125742039935241,0.9109552077711819,0.9120345385860766,0.9104155423637345,0.9120345385860766,0.9158121964382083,0.9158121964382083,0.9163518618456556,0.9163518618456556,0.9168915272531031,0.9174311926605505,0.923907177549919,0.9271451699946034,0.9276848354020507,0.9276848354020507,0.9309228278467351,0.9276848354020507,0.9271451699946034,0.926605504587156,0.9255261737722612,0.9260658391797085,0.9276848354020507,0.9276848354020507,0.9260658391797085,0.926605504587156,0.9282245008094981,0.9017808958445763,0.9023205612520238,0.9028602266594711,0.9028602266594711,0.9039395574743659,0.9050188882892607,0.9060982191041554,0.908256880733945,0.9087965461413924,0.9098758769562871,0.9104155423637345,0.9131138694009714,0.9120345385860766,0.9141932002158661,0.9158121964382083,0.9168915272531031,0.9158121964382083,0.9147328656233136,0.9163518618456556,0.9158121964382083,0.9174311926605505,0.9185105234754453,0.91958985429034,0.9201295196977873,0.9212088505126821,0.9228278467350243,0.9206691851052348,0.9212088505126821,0.922288181327577,0.9212088505126821,0.922288181327577,0.923907177549919,0.9233675121424717,0.922288181327577,0.9228278467350243,0.9228278467350243,0.922288181327577,0.9206691851052348,0.9206691851052348,0.9244468429573665,0.923907177549919,0.926605504587156,0.9249865083648138,0.9255261737722612,0.9228278467350243,0.923907177549919,0.9217485159201295,0.9217485159201295,0.9217485159201295,0.9206691851052348,0.9190501888828926,0.9201295196977873,0.8333333333333334,0.8323045267489712,0.8287037037037037,0.8276748971193416,0.8302469135802469,0.8333333333333334],\"type\":\"scatter\"},{\"marker\":{\"maxdisplayed\":10},\"mode\":\"lines+markers\",\"name\":\"Trial17\",\"x\":[0,1,2,3,4,5,6,7,8,9,10,11,12,13,14,15,16,17,18,19,20,21,22,23,24,25,26,27,28,29,30,31,32,33,34,35,36,37,38,39,40,41,42,43,44,45,46,47,48,49,50,51,52,53,54,55,56,57,58,59,60,61,62,63,64,65,66,67,68,69,70,71,72,73,74,75,76,77,78,79,80,81,82,83,84,85,86,87,88,89,90,91,92],\"y\":[0.7433890987587696,0.730706961683756,0.7253103076092823,0.7242309767943875,0.7328656233135457,0.7625472207231516,0.7927684835402051,0.8089584457636265,0.8202914193200216,0.8289260658391797,0.832164058283864,0.8364813815434431,0.8515920129519697,0.8677819751753912,0.8683216405828387,0.8769562871019968,0.8753372908796546,0.8753372908796546,0.8796546141392336,0.8899082568807339,0.8904479222881814,0.887209929843497,0.8915272531030761,0.8904479222881814,0.8834322719913653,0.8877495952509444,0.8882892606583918,0.8893685914732865,0.8963842417701026,0.9017808958445763,0.9050188882892607,0.9039395574743659,0.9033998920669185,0.9071775499190502,0.908256880733945,0.9098758769562871,0.9104155423637345,0.9098758769562871,0.9098758769562871,0.9087965461413924,0.9114948731786292,0.9125742039935241,0.9131138694009714,0.908256880733945,0.9077172153264975,0.905558553696708,0.9109552077711819,0.9163518618456556,0.9152725310307609,0.9141932002158661,0.9136535348084188,0.9125742039935241,0.9125742039935241,0.9141932002158661,0.9152725310307609,0.9168915272531031,0.9136535348084188,0.9152725310307609,0.9185105234754453,0.9228278467350243,0.9206691851052348,0.9201295196977873,0.922288181327577,0.9249865083648138,0.9249865083648138,0.9260658391797085,0.9276848354020507,0.9271451699946034,0.9255261737722612,0.9260658391797085,0.9249865083648138,0.9255261737722612,0.9244468429573665,0.9228278467350243,0.9212088505126821,0.9228278467350243,0.9201295196977873,0.7852131678359417,0.7852131678359417,0.7835941716135996,0.7857528332433891,0.7808958445763626,0.7835941716135996,0.7776578521316784,0.7808958445763626,0.7808958445763626,0.9202674897119342,0.9182098765432098,0.9197530864197531,0.918724279835391,0.9156378600823045,0.9151234567901234,0.9156378600823045],\"type\":\"scatter\"},{\"marker\":{\"maxdisplayed\":10},\"mode\":\"lines+markers\",\"name\":\"Trial18\",\"x\":[0,1,2,3,4,5,6,7,8,9,10,11,12,13,14,15,16,17,18,19,20,21,22,23,24,25,26,27,28,29,30,31,32,33,34,35,36,37,38,39,40,41,42,43,44,45,46,47,48,49,50,51,52,53,54,55,56,57,58,59,60,61,62,63,64,65,66,67,68,69,70,71,72,73,74,75],\"y\":[0.6775499190501889,0.6235833783054506,0.642471667566109,0.6834862385321101,0.7056125202374528,0.7155963302752294,0.7145169994603346,0.7776578521316784,0.8116567728008635,0.8121964382083109,0.8127361036157582,0.809498111171074,0.8148947652455477,0.8224500809498111,0.8310847274689692,0.8364813815434431,0.825148407987048,0.8348623853211009,0.8483540205072855,0.8483540205072855,0.8515920129519697,0.847814355099838,0.850512682137075,0.850512682137075,0.8564490016189962,0.8629249865083648,0.86184565569347,0.8586076632487858,0.8640043173232596,0.8650836481381543,0.8602266594711279,0.8607663248785753,0.8720992984349704,0.8747976254722072,0.8661629789530491,0.8694009713977334,0.8683216405828387,0.8672423097679439,0.868861305990286,0.8677819751753912,0.8661629789530491,0.8656233135456017,0.8656233135456017,0.8737182946573124,0.8246087425796006,0.8267674042093902,0.8224500809498111,0.8224500809498111,0.825148407987048,0.8224500809498111,0.8273070696168375,0.8256880733944955,0.829465731246627,0.827846735024285,0.8327037236913114,0.8310847274689692,0.8359417161359957,0.8418780356179169,0.8407987048030221,0.8337830545062062,0.8310847274689692,0.8283864004317323,0.825148407987048,0.8267674042093902,0.8262277388019428,0.8283864004317323,0.8348623853211009,0.8359417161359957,0.8284313725490197,0.8278867102396514,0.8273420479302832,0.826797385620915,0.8246187363834423,0.8251633986928104,0.8159041394335512,0.8213507625272332],\"type\":\"scatter\"},{\"marker\":{\"maxdisplayed\":10},\"mode\":\"lines+markers\",\"name\":\"Trial19\",\"x\":[0,1,2,3,4,5,6,7,8,9,10,11,12,13,14,15,16,17,18,19,20,21,22,23,24,25,26,27,28,29,30,31,32,33,34,35,36,37,38,39,40,41,42,43,44,45,46,47,48,49,50,51,52,53,54,55,56,57,58,59,60,61,62,63,64,65,66,67,68],\"y\":[0.7077711818672423,0.7352941176470589,0.7409606044252564,0.7997841338370211,0.7981651376146789,0.8267674042093902,0.8310847274689692,0.8181327576902321,0.8305450620615219,0.8569886670264436,0.8591473286562331,0.8483540205072855,0.8499730167296277,0.832164058283864,0.8229897463572585,0.8305450620615219,0.8343227199136536,0.8386400431732326,0.8359417161359957,0.8327037236913114,0.8348623853211009,0.8170534268753373,0.8127361036157582,0.809498111171074,0.813815434430653,0.8089584457636265,0.8165137614678899,0.8100377765785213,0.8089584457636265,0.8154344306529951,0.8159740960604426,0.8148947652455477,0.7976254722072316,0.7879114948731786,0.7862924986508365,0.7889908256880734,0.7949271451699946,0.7938478143550999,0.7976254722072316,0.7997841338370211,0.7981651376146789,0.8116567728008635,0.8170534268753373,0.8181327576902321,0.8240690771721533,0.8170534268753373,0.8148947652455477,0.8192120885051268,0.8121964382083109,0.8148947652455477,0.8192120885051268,0.8148947652455477,0.8111171073934161,0.813815434430653,0.8105774419859687,0.8595679012345679,0.7484567901234568,0.7479423868312757,0.7417695473251029,0.742798353909465,0.7412551440329218,0.7412551440329218,0.9228395061728395,0.9228395061728395,0.9243827160493827,0.9228395061728395,0.9248971193415638,0.9238683127572016,0.9233539094650206],\"type\":\"scatter\"},{\"marker\":{\"maxdisplayed\":10},\"mode\":\"lines+markers\",\"name\":\"Trial20\",\"x\":[0,1,2,3,4,5,6,7,8,9,10,11,12,13,14,15,16,17,18,19,20,21,22,23,24,25,26,27,28,29,30,31,32,33,34,35,36,37,38,39,40,41,42,43,44,45,46,47,48,49,50,51,52,53,54,55,56,57,58,59,60,61,62,63,64,65,66,67,68,69,70,71,72,73,74,75],\"y\":[0.6958985429033999,0.7606583917970858,0.7560712358337831,0.7722611980572045,0.7690232056125202,0.7754991905018889,0.7852131678359417,0.8121964382083109,0.8170534268753373,0.8343227199136536,0.8445763626551538,0.8537506745817594,0.8429573664328116,0.8467350242849433,0.847814355099838,0.8397193739881273,0.847814355099838,0.8586076632487858,0.8596869940636805,0.8613059902860226,0.8677819751753912,0.8656233135456017,0.868861305990286,0.8656233135456017,0.8704803022126282,0.8737182946573124,0.8747976254722072,0.8672423097679439,0.8640043173232596,0.8656233135456017,0.8602266594711279,0.8672423097679439,0.8726389638424177,0.8742579600647599,0.8823529411764706,0.8774959525094441,0.8715596330275229,0.8677819751753912,0.8677819751753912,0.8677819751753912,0.8683216405828387,0.8704803022126282,0.8731786292498651,0.8704803022126282,0.8715596330275229,0.8030221262817053,0.7981651376146789,0.7981651376146789,0.7933081489476524,0.7900701565029682,0.7922288181327577,0.7933081489476524,0.7992444684295736,0.7976254722072316,0.7949271451699946,0.7981651376146789,0.7926954732510288,0.7911522633744856,0.7952674897119342,0.7942386831275721,0.7932098765432098,0.7926954732510288,0.7849794238683128,0.7880658436213992,0.911522633744856,0.9151234567901234,0.9130658436213992,0.9104938271604939,0.9110082304526749,0.9068930041152263,0.9053497942386831,0.9094650205761317,0.9063786008230452,0.9068930041152263,0.9058641975308642,0.9104938271604939],\"type\":\"scatter\"},{\"marker\":{\"maxdisplayed\":10},\"mode\":\"lines+markers\",\"name\":\"Trial21\",\"x\":[0,1,2,3,4,5,6,7,8,9,10,11,12,13,14,15,16,17,18,19,20,21,22,23,24,25,26,27,28,29,30,31,32,33,34,35,36,37,38,39,40,41,42,43,44,45,46,47,48,49,50,51,52,53,54,55,56,57,58,59,60,61,62,63,64,65,66,67,68,69,70,71,72,73,74,75,76,77,78,79,80,81,82,83,84,85,86,87],\"y\":[0.7943874797625472,0.7412304371289801,0.752563410685375,0.7652455477603886,0.7835941716135996,0.7765785213167836,0.7987048030221263,0.7970858067997841,0.8154344306529951,0.8402590393955748,0.8381003777657852,0.8386400431732326,0.8569886670264436,0.8532110091743119,0.8515920129519697,0.8596869940636805,0.8634646519158122,0.8607663248785753,0.8731786292498651,0.8726389638424177,0.8694009713977334,0.8640043173232596,0.8667026443604965,0.86184565569347,0.857528332433891,0.8569886670264436,0.8580679978413384,0.8553696708041014,0.8569886670264436,0.8839719373988127,0.8542903399892067,0.8526713437668646,0.8596869940636805,0.7425796006475985,0.7371829465731247,0.7431192660550459,0.7533729087965462,0.7479762547220723,0.7495952509444145,0.7495952509444145,0.7463572584997301,0.744738262277388,0.7468969239071775,0.7458175930922828,0.747436589314625,0.7495952509444145,0.7533729087965462,0.7587448559670782,0.7613168724279835,0.7669753086419753,0.7654320987654321,0.7664609053497943,0.7685185185185185,0.7680041152263375,0.7654320987654321,0.7695473251028807,0.772119341563786,0.7700617283950617,0.7746913580246914,0.7767489711934157,0.7772633744855967,0.7752057613168725,0.7762345679012346,0.7777777777777778,0.7803497942386831,0.7854938271604939,0.7854938271604939,0.7839506172839507,0.7860082304526749,0.786522633744856,0.7906378600823045,0.7860082304526749,0.7870370370370371,0.7911522633744856,0.7890946502057613,0.7880658436213992,0.7880658436213992,0.7875514403292181,0.7849794238683128,0.786522633744856,0.7885802469135802,0.7875514403292181,0.7880658436213992,0.7854938271604939,0.9279835390946503,0.9300411522633745,0.9274691358024691,0.9274691358024691],\"type\":\"scatter\"},{\"marker\":{\"maxdisplayed\":10},\"mode\":\"lines+markers\",\"name\":\"Trial22\",\"x\":[0,1,2,3,4,5,6,7,8,9,10,11,12,13,14,15,16,17,18,19,20,21,22,23,24,25,26,27,28,29,30,31,32,33,34,35,36,37,38,39,40,41,42,43,44,45,46,47,48,49,50,51,52,53,54,55,56,57,58,59,60,61,62,63,64,65,66,67,68,69,70,71,72,73,74,75,76,77,78,79,80,81,82,83],\"y\":[0.6899622234214787,0.6937398812736104,0.7088505126821371,0.7363734484619536,0.8121964382083109,0.8202914193200216,0.8381003777657852,0.8499730167296277,0.8559093362115489,0.8548300053966541,0.8542903399892067,0.8629249865083648,0.8607663248785753,0.8753372908796546,0.8753372908796546,0.875876956287102,0.8791149487317863,0.8807339449541285,0.8812736103615758,0.8823529411764706,0.8877495952509444,0.8899082568807339,0.8904479222881814,0.8942255801403131,0.8996222342147868,0.8980032379924446,0.8990825688073395,0.9033998920669185,0.905558553696708,0.9066378845116028,0.9071775499190502,0.9066378845116028,0.9093362115488397,0.9120345385860766,0.9104155423637345,0.9174311926605505,0.9179708580679978,0.9168915272531031,0.9201295196977873,0.9185105234754453,0.9168915272531031,0.9206691851052348,0.9179708580679978,0.9190501888828926,0.9179708580679978,0.91958985429034,0.922288181327577,0.9185105234754453,0.9201295196977873,0.9206691851052348,0.9190501888828926,0.9201295196977873,0.922288181327577,0.9212088505126821,0.9217485159201295,0.9212088505126821,0.9201295196977873,0.8317901234567902,0.8307613168724279,0.831275720164609,0.8287037037037037,0.8261316872427984,0.8256172839506173,0.8256172839506173,0.8256172839506173,0.8225308641975309,0.8266460905349794,0.8256172839506173,0.7913943355119826,0.7913943355119826,0.7903050108932462,0.7864923747276689,0.7875816993464052,0.7843137254901961,0.8436213991769548,0.8035617916891528,0.8030221262817053,0.897119341563786,0.897633744855967,0.8986625514403292,0.897633744855967,0.897633744855967,0.897119341563786,0.897633744855967],\"type\":\"scatter\"},{\"marker\":{\"maxdisplayed\":10},\"mode\":\"lines+markers\",\"name\":\"Trial23\",\"x\":[0,1,2,3,4,5,6,7,8,9,10,11,12,13,14,15,16,17,18,19,20,21,22,23,24,25,26,27,28,29,30,31,32,33,34,35,36,37,38,39,40,41,42,43,44,45,46,47,48,49,50,51,52,53,54,55,56,57,58,59,60,61,62,63,64,65,66,67,68,69,70,71,72,73,74,75,76,77,78,79,80,81,82,83,84,85,86,87,88,89,90,91,92,93,94,95,96,97,98,99,100,101,102,103,104,105,106,107,108,109],\"y\":[0.7104695089044792,0.6821370750134916,0.7455477603885591,0.7423097679438748,0.7625472207231516,0.763086886130599,0.7916891527253103,0.7862924986508365,0.802482460874258,0.809498111171074,0.825148407987048,0.8337830545062062,0.832164058283864,0.8370210469508904,0.8440366972477065,0.8440366972477065,0.8494333513221802,0.8553696708041014,0.8537506745817594,0.8569886670264436,0.8650836481381543,0.8634646519158122,0.8623853211009175,0.8683216405828387,0.8731786292498651,0.8742579600647599,0.8720992984349704,0.8699406368051807,0.8661629789530491,0.8650836481381543,0.8667026443604965,0.8634646519158122,0.8677819751753912,0.8694009713977334,0.8677819751753912,0.8737182946573124,0.7916891527253103,0.7949271451699946,0.8019427954668106,0.8008634646519158,0.8084187803561792,0.8089584457636265,0.8105774419859687,0.8100377765785213,0.8143550998381004,0.8143550998381004,0.8186724230976794,0.820831084727469,0.8246087425796006,0.8256880733944955,0.8300053966540745,0.8256880733944955,0.827846735024285,0.829465731246627,0.832164058283864,0.8300053966540745,0.8305450620615219,0.8300053966540745,0.8289260658391797,0.8283864004317323,0.8267674042093902,0.8289260658391797,0.8262277388019428,0.825148407987048,0.8267674042093902,0.9346707818930041,0.9331275720164609,0.9356995884773662,0.933641975308642,0.934156378600823,0.9362139917695473,0.9362139917695473,0.9367283950617284,0.9377572016460906,0.9362139917695473,0.9367283950617284,0.9398148148148148,0.9393004115226338,0.9351851851851852,0.933641975308642,0.9367283950617284,0.9346707818930041,0.9346707818930041,0.9331275720164609,0.9362139917695473,0.9372427983539094,0.933641975308642,0.8672423097679439,0.8710199676200756,0.8715596330275229,0.8764166216945494,0.8753372908796546,0.8780356179168916,0.8807339449541285,0.8791149487317863,0.8796546141392336,0.8791149487317863,0.8807339449541285,0.8780356179168916,0.8785752833243389,0.8769562871019968,0.8764166216945494,0.8764166216945494,0.875876956287102,0.8197517539125742,0.8159740960604426,0.8159740960604426,0.8132757690232056,0.8127361036157582,0.813815434430653],\"type\":\"scatter\"},{\"marker\":{\"maxdisplayed\":10},\"mode\":\"lines+markers\",\"name\":\"Trial24\",\"x\":[0,1,2,3,4,5,6,7,8,9,10,11,12,13,14,15,16,17,18,19,20,21,22,23,24,25,26,27,28,29,30,31,32,33,34,35,36,37,38,39,40,41,42,43,44,45,46,47,48,49,50,51,52,53,54,55,56,57,58,59,60,61,62,63,64,65,66,67,68,69,70,71,72,73,74,75,76,77,78,79,80,81,82,83,84,85,86,87,88,89,90,91,92,93,94,95,96,97,98,99,100,101],\"y\":[0.7258499730167296,0.7274689692390718,0.7506745817593092,0.7361036157582299,0.7671343766864543,0.7593092282784674,0.7771181867242309,0.7749595250944414,0.802482460874258,0.8089584457636265,0.8116567728008635,0.8192120885051268,0.8440366972477065,0.8526713437668646,0.8661629789530491,0.8726389638424177,0.8737182946573124,0.8710199676200756,0.8737182946573124,0.8753372908796546,0.8774959525094441,0.8834322719913653,0.8861305990286023,0.8893685914732865,0.8850512682137075,0.8899082568807339,0.8855909336211549,0.8861305990286023,0.8893685914732865,0.8877495952509444,0.8882892606583918,0.8877495952509444,0.8909875876956287,0.8920669185105234,0.8942255801403131,0.8969239071775499,0.8936859147328656,0.8980032379924446,0.8990825688073395,0.8996222342147868,0.8974635725849973,0.8996222342147868,0.8996222342147868,0.9007015650296816,0.9001618996222343,0.8996222342147868,0.9028602266594711,0.9028602266594711,0.9001618996222343,0.8974635725849973,0.8963842417701026,0.8969239071775499,0.9001618996222343,0.8985429033998921,0.9007015650296816,0.9028602266594711,0.9033998920669185,0.9001618996222343,0.9033998920669185,0.9017808958445763,0.9017808958445763,0.9017808958445763,0.9050188882892607,0.9077172153264975,0.9098758769562871,0.9098758769562871,0.9093362115488397,0.9104155423637345,0.9109552077711819,0.9114948731786292,0.9109552077711819,0.9120345385860766,0.9190501888828926,0.9206691851052348,0.9233675121424717,0.922288181327577,0.9206691851052348,0.91958985429034,0.9201295196977873,0.9212088505126821,0.9244468429573665,0.9249865083648138,0.9233675121424717,0.9244468429573665,0.9249865083648138,0.9249865083648138,0.9249865083648138,0.9255261737722612,0.9260658391797085,0.9255261737722612,0.926605504587156,0.9287641662169455,0.9282245008094981,0.9260658391797085,0.9260658391797085,0.9249865083648138,0.923907177549919,0.923907177549919,0.922288181327577,0.9212088505126821,0.922288181327577,0.9255261737722612],\"type\":\"scatter\"},{\"marker\":{\"maxdisplayed\":10},\"mode\":\"lines+markers\",\"name\":\"Trial25\",\"x\":[0,1,2,3,4,5,6,7,8,9,10,11,12,13,14,15,16,17,18,19,20,21,22,23,24,25,26,27,28,29,30,31,32,33,34,35,36,37,38,39,40,41,42,43,44,45,46,47,48,49,50,51,52,53,54,55,56,57,58,59,60,61,62],\"y\":[0.7576902320561252,0.7633567188343228,0.7531030760928225,0.7652455477603886,0.784133837021047,0.7889908256880734,0.7916891527253103,0.7927684835402051,0.8224500809498111,0.8429573664328116,0.8445763626551538,0.8532110091743119,0.8532110091743119,0.8548300053966541,0.8580679978413384,0.8553696708041014,0.8586076632487858,0.850512682137075,0.8510523475445224,0.846195358877496,0.8607663248785753,0.8650836481381543,0.8623853211009175,0.8591473286562331,0.8634646519158122,0.8774959525094441,0.8764166216945494,0.8785752833243389,0.8877495952509444,0.887209929843497,0.8855909336211549,0.8845116028062601,0.8861305990286023,0.8845116028062601,0.8834322719913653,0.8850512682137075,0.8845116028062601,0.8866702644360497,0.887209929843497,0.9125742039935241,0.9168915272531031,0.9104155423637345,0.9077172153264975,0.9017808958445763,0.9077172153264975,0.908256880733945,0.9066378845116028,0.9109552077711819,0.9120345385860766,0.823559670781893,0.8287037037037037,0.8276748971193416,0.8256172839506173,0.823559670781893,0.8220164609053497,0.8173868312757202,0.8209876543209876,0.8179012345679012,0.8204732510288066,0.8251028806584362,0.8256172839506173,0.8389917695473251,0.838477366255144],\"type\":\"scatter\"},{\"marker\":{\"maxdisplayed\":10},\"mode\":\"lines+markers\",\"name\":\"Trial26\",\"x\":[0,1,2,3,4,5,6,7,8,9,10,11,12,13,14,15,16,17,18,19,20,21,22,23,24,25,26,27,28,29,30,31,32,33,34,35,36,37,38,39,40,41,42,43,44,45,46,47,48,49,50,51,52,53,54,55,56,57,58,59,60,61,62,63,64,65,66,67,68,69,70,71,72,73,74,75,76,77,78,79,80],\"y\":[0.6411225040474906,0.6872638963842418,0.7031840259039396,0.7458175930922828,0.7614678899082569,0.7938478143550999,0.8073394495412844,0.8267674042093902,0.8229897463572585,0.8132757690232056,0.825148407987048,0.8407987048030221,0.8451160280626012,0.8472746896923907,0.8559093362115489,0.8515920129519697,0.8542903399892067,0.8526713437668646,0.868861305990286,0.8737182946573124,0.8629249865083648,0.8569886670264436,0.8591473286562331,0.8548300053966541,0.8720992984349704,0.8764166216945494,0.8699406368051807,0.8650836481381543,0.864543982730707,0.8580679978413384,0.8596869940636805,0.8510523475445224,0.8494333513221802,0.8521316783594172,0.8532110091743119,0.8553696708041014,0.829465731246627,0.8332433890987587,0.832164058283864,0.8316243928764167,0.887209929843497,0.8861305990286023,0.8861305990286023,0.8818132757690232,0.8834322719913653,0.8818132757690232,0.8818132757690232,0.8785752833243389,0.875876956287102,0.8812736103615758,0.8283864004317323,0.825148407987048,0.8262277388019428,0.825148407987048,0.8256880733944955,0.8267674042093902,0.8213707501349163,0.8202914193200216,0.8192120885051268,0.8165137614678899,0.9033998920669185,0.901241230437129,0.9033998920669185,0.9028602266594711,0.9017808958445763,0.8990825688073395,0.901241230437129,0.9023205612520238,0.9023205612520238,0.9017808958445763,0.905558553696708,0.9023205612520238,0.9033998920669185,0.9007015650296816,0.8996222342147868,0.9017808958445763,0.8985429033998921,0.8996222342147868,0.8985429033998921,0.8958445763626551,0.8969239071775499],\"type\":\"scatter\"},{\"marker\":{\"maxdisplayed\":10},\"mode\":\"lines+markers\",\"name\":\"Trial27\",\"x\":[0,1,2,3,4,5,6,7,8,9,10,11,12,13,14,15,16,17,18,19,20,21,22,23,24,25,26,27,28,29,30,31,32,33,34,35,36,37,38,39,40,41,42,43,44,45,46,47,48,49,50,51,52,53,54,55,56,57,58,59,60,61,62,63,64,65,66,67,68,69,70,71,72,73,74,75,76,77,78],\"y\":[0.7819751753912574,0.7819751753912574,0.7738801942795467,0.7819751753912574,0.7679438747976255,0.7970858067997841,0.8202914193200216,0.83917970858068,0.8364813815434431,0.83917970858068,0.8364813815434431,0.8300053966540745,0.8283864004317323,0.827846735024285,0.83917970858068,0.8488936859147329,0.8456556934700485,0.8586076632487858,0.8602266594711279,0.8542903399892067,0.8456556934700485,0.8397193739881273,0.8386400431732326,0.8521316783594172,0.8591473286562331,0.8586076632487858,0.8483540205072855,0.8510523475445224,0.843497031840259,0.850512682137075,0.8440366972477065,0.8424177010253643,0.8332433890987587,0.8375607123583378,0.7301672962763087,0.7199136535348084,0.7193739881273611,0.7193739881273611,0.7161359956826767,0.7998971193415638,0.7993827160493827,0.8070987654320988,0.8112139917695473,0.8101851851851852,0.8122427983539094,0.8112139917695473,0.8040123456790124,0.7988683127572016,0.8024691358024691,0.8127572016460906,0.8081275720164609,0.8101851851851852,0.8070987654320988,0.8179012345679012,0.8179012345679012,0.8137860082304527,0.8153292181069959,0.816358024691358,0.8215020576131687,0.8194444444444444,0.815843621399177,0.8096707818930041,0.8034979423868313,0.8009259259259259,0.7993827160493827,0.7998971193415638,0.8060699588477366,0.8112139917695473,0.8122427983539094,0.9290123456790124,0.9295267489711934,0.9295267489711934,0.9300411522633745,0.9320987654320988,0.9326131687242798,0.9326131687242798,0.9305555555555556,0.9295267489711934,0.9310699588477366],\"type\":\"scatter\"},{\"marker\":{\"maxdisplayed\":10},\"mode\":\"lines+markers\",\"name\":\"Trial28\",\"x\":[0,1,2,3,4,5,6,7,8,9,10,11,12,13,14,15,16,17,18,19,20,21,22,23,24,25,26,27,28,29,30,31,32,33,34,35,36,37,38,39,40,41,42,43,44,45,46,47,48,49,50,51,52,53,54,55,56,57,58,59,60,61,62,63,64,65,66,67,68,69,70,71,72,73,74,75,76,77,78,79,80,81,82,83,84,85,86,87],\"y\":[0.6119805720453318,0.6832164058283864,0.7004856988667026,0.7048030221262817,0.7684835402050728,0.784133837021047,0.7862924986508365,0.8159740960604426,0.8073394495412844,0.8192120885051268,0.8229897463572585,0.829465731246627,0.8397193739881273,0.8526713437668646,0.8532110091743119,0.8526713437668646,0.8494333513221802,0.850512682137075,0.8532110091743119,0.8483540205072855,0.8467350242849433,0.8418780356179169,0.8515920129519697,0.8451160280626012,0.8596869940636805,0.8515920129519697,0.8596869940636805,0.8602266594711279,0.8650836481381543,0.8699406368051807,0.8747976254722072,0.8764166216945494,0.8764166216945494,0.8710199676200756,0.8661629789530491,0.8672423097679439,0.8656233135456017,0.8640043173232596,0.8650836481381543,0.8683216405828387,0.8774959525094441,0.887209929843497,0.887209929843497,0.8807339449541285,0.8812736103615758,0.8791149487317863,0.8737182946573124,0.8764166216945494,0.8753372908796546,0.8764166216945494,0.8764166216945494,0.8801942795466811,0.8924897119341564,0.8991769547325102,0.8950617283950617,0.8945473251028807,0.8966049382716049,0.9007201646090535,0.8991769547325102,0.897633744855967,0.9012345679012346,0.8991769547325102,0.9027777777777778,0.9007201646090535,0.9032921810699589,0.9032921810699589,0.9027777777777778,0.9027777777777778,0.9022633744855967,0.9027777777777778,0.904320987654321,0.9063786008230452,0.904835390946502,0.904835390946502,0.9053497942386831,0.904320987654321,0.9068930041152263,0.9079218106995884,0.9053497942386831,0.9074074074074074,0.9038065843621399,0.9027777777777778,0.8986625514403292,0.8981481481481481,0.8996913580246914,0.8981481481481481,0.8981481481481481,0.9002057613168725],\"type\":\"scatter\"},{\"marker\":{\"maxdisplayed\":10},\"mode\":\"lines+markers\",\"name\":\"Trial29\",\"x\":[0,1,2,3,4,5,6,7,8,9,10,11,12,13,14,15,16,17,18,19,20,21,22,23,24,25,26,27,28,29,30,31,32,33,34,35,36,37,38,39,40,41,42,43,44,45,46,47,48,49,50,51,52,53,54,55,56,57,58,59,60,61,62,63,64,65,66,67,68,69,70,71,72,73,74,75,76,77,78,79,80,81],\"y\":[0.733405288720993,0.7026443604964921,0.7544522396114409,0.7293577981651376,0.7390717754991905,0.7212628170534269,0.788451160280626,0.8084187803561792,0.820831084727469,0.8327037236913114,0.820831084727469,0.8240690771721533,0.847814355099838,0.8537506745817594,0.8586076632487858,0.8667026443604965,0.8699406368051807,0.8769562871019968,0.8801942795466811,0.8796546141392336,0.8785752833243389,0.8796546141392336,0.8801942795466811,0.8753372908796546,0.8812736103615758,0.8861305990286023,0.8909875876956287,0.8904479222881814,0.8899082568807339,0.8812736103615758,0.8888289260658392,0.8947652455477604,0.8985429033998921,0.8969239071775499,0.8974635725849973,0.901241230437129,0.9023205612520238,0.9050188882892607,0.9087965461413924,0.9163518618456556,0.9163518618456556,0.9147328656233136,0.9109552077711819,0.9109552077711819,0.9093362115488397,0.908256880733945,0.9114948731786292,0.9179708580679978,0.9174311926605505,0.9212088505126821,0.9201295196977873,0.9185105234754453,0.9179708580679978,0.9174311926605505,0.9158121964382083,0.9163518618456556,0.91958985429034,0.9174311926605505,0.9201295196977873,0.9190501888828926,0.8441358024691358,0.845679012345679,0.8487654320987654,0.8492798353909465,0.8539094650205762,0.8533950617283951,0.8533950617283951,0.8544238683127572,0.8533950617283951,0.8533950617283951,0.8497942386831275,0.8472222222222222,0.8472222222222222,0.8441358024691358,0.8374485596707819,0.8379629629629629,0.838477366255144,0.8369341563786008,0.8774959525094441,0.875876956287102,0.8753372908796546,0.8785752833243389],\"type\":\"scatter\"},{\"marker\":{\"maxdisplayed\":10},\"mode\":\"lines+markers\",\"name\":\"Trial30\",\"x\":[0,1,2,3,4,5,6,7,8,9,10,11,12,13,14,15,16,17,18,19,20,21,22,23,24,25,26,27,28,29,30,31,32,33,34,35,36,37,38,39,40,41,42,43,44,45,46,47,48,49,50,51,52,53,54,55,56,57,58,59,60,61,62,63,64,65,66,67,68,69,70,71,72,73,74,75,76,77,78,79,80,81,82,83,84],\"y\":[0.7638963842417701,0.7061521856449001,0.715866162978953,0.7226119805720453,0.726389638424177,0.7690232056125202,0.7587695628710199,0.770102536427415,0.7987048030221263,0.806799784133837,0.8229897463572585,0.8213707501349163,0.8213707501349163,0.8289260658391797,0.8224500809498111,0.832164058283864,0.8397193739881273,0.850512682137075,0.8640043173232596,0.8591473286562331,0.8629249865083648,0.8683216405828387,0.8747976254722072,0.8769562871019968,0.8769562871019968,0.8769562871019968,0.8753372908796546,0.8737182946573124,0.8720992984349704,0.8667026443604965,0.8650836481381543,0.8613059902860226,0.8661629789530491,0.8591473286562331,0.843497031840259,0.8440366972477065,0.8148947652455477,0.813815434430653,0.8132757690232056,0.8078791149487318,0.8111171073934161,0.8062601187263896,0.802482460874258,0.8111171073934161,0.8186724230976794,0.8181327576902321,0.8186724230976794,0.8170534268753373,0.8148947652455477,0.8100377765785213,0.8175930922827847,0.8116567728008635,0.8197517539125742,0.8197517539125742,0.820831084727469,0.8246087425796006,0.8256880733944955,0.8240690771721533,0.8229897463572585,0.8240690771721533,0.8262277388019428,0.8224500809498111,0.8267674042093902,0.8332433890987587,0.8337830545062062,0.832164058283864,0.832164058283864,0.8332433890987587,0.8354020507285483,0.8310847274689692,0.8305450620615219,0.8300053966540745,0.832164058283864,0.8343227199136536,0.8381003777657852,0.8375607123583378,0.8348623853211009,0.8348623853211009,0.8381003777657852,0.8370210469508904,0.8337830545062062,0.8316243928764167,0.8359417161359957,0.8370210469508904,0.8327037236913114],\"type\":\"scatter\"},{\"marker\":{\"maxdisplayed\":10},\"mode\":\"lines+markers\",\"name\":\"Trial31\",\"x\":[0,1,2,3,4,5,6,7,8,9,10,11,12,13,14,15,16,17,18,19,20,21,22,23,24,25,26,27,28,29,30,31,32,33,34,35,36,37,38,39,40,41,42,43,44,45,46,47,48,49,50,51,52,53,54,55,56,57,58,59,60,61,62,63,64,65,66,67,68,69,70,71,72,73,74,75,76,77,78,79,80,81,82,83,84,85,86,87,88,89,90,91,92,93,94,95,96,97,98,99,100],\"y\":[0.7976254722072316,0.7728008634646519,0.7908796546141392,0.7941176470588235,0.7933081489476524,0.8051807879114948,0.809498111171074,0.8105774419859687,0.8111171073934161,0.8240690771721533,0.8256880733944955,0.829465731246627,0.8370210469508904,0.8402590393955748,0.843497031840259,0.8542903399892067,0.8521316783594172,0.8661629789530491,0.864543982730707,0.8699406368051807,0.8704803022126282,0.8764166216945494,0.8764166216945494,0.8764166216945494,0.8731786292498651,0.8737182946573124,0.8704803022126282,0.8699406368051807,0.8715596330275229,0.8715596330275229,0.8704803022126282,0.8731786292498651,0.8515920129519697,0.8472746896923907,0.8456556934700485,0.8488936859147329,0.850512682137075,0.850512682137075,0.9060982191041554,0.9120345385860766,0.9114948731786292,0.9147328656233136,0.9152725310307609,0.9174311926605505,0.91958985429034,0.9185105234754453,0.9185105234754453,0.9163518618456556,0.9179708580679978,0.9163518618456556,0.9152725310307609,0.9174311926605505,0.9179708580679978,0.9163518618456556,0.9179708580679978,0.8755144032921811,0.8744855967078189,0.8739711934156379,0.8698559670781894,0.8708847736625515,0.8719135802469136,0.8770576131687243,0.8786008230452675,0.8775720164609053,0.8780864197530864,0.8755144032921811,0.8765432098765432,0.8770576131687243,0.8806584362139918,0.8811728395061729,0.8801440329218106,0.8801440329218106,0.8858024691358025,0.8878600823045267,0.8878600823045267,0.8873456790123457,0.8919753086419753,0.8904320987654321,0.8909465020576132,0.8935185185185185,0.8919753086419753,0.8924897119341564,0.8940329218106996,0.897119341563786,0.8981481481481481,0.897119341563786,0.8981481481481481,0.897633744855967,0.8996913580246914,0.8991769547325102,0.9012345679012346,0.9002057613168725,0.9002057613168725,0.9012345679012346,0.9007201646090535,0.9002057613168725,0.8986625514403292,0.8986625514403292,0.8991769547325102,0.897633744855967,0.9007201646090535],\"type\":\"scatter\"},{\"marker\":{\"maxdisplayed\":10},\"mode\":\"lines+markers\",\"name\":\"Trial32\",\"x\":[0,1,2,3,4,5,6,7,8,9,10,11,12,13,14,15,16,17,18,19,20,21,22,23,24,25,26,27,28,29,30,31,32,33,34,35,36,37,38,39,40,41,42,43,44,45,46,47,48,49,50,51,52,53,54,55,56,57,58,59,60,61,62,63,64,65,66,67,68,69,70,71,72,73,74,75,76,77,78,79,80,81,82,83,84,85,86,87],\"y\":[0.6745817593092283,0.7363734484619536,0.7860226659471128,0.7744198596869941,0.8049109552077712,0.8127361036157582,0.8359417161359957,0.8386400431732326,0.8364813815434431,0.8488936859147329,0.8564490016189962,0.8559093362115489,0.8667026443604965,0.8677819751753912,0.8742579600647599,0.864543982730707,0.8710199676200756,0.8785752833243389,0.8764166216945494,0.8753372908796546,0.8694009713977334,0.8672423097679439,0.8694009713977334,0.8785752833243389,0.8823529411764706,0.8812736103615758,0.8839719373988127,0.8909875876956287,0.8904479222881814,0.8899082568807339,0.8974635725849973,0.8996222342147868,0.8969239071775499,0.8953049109552078,0.8926065839179709,0.8974635725849973,0.9001618996222343,0.9017808958445763,0.9098758769562871,0.9098758769562871,0.9109552077711819,0.9201295196977873,0.922288181327577,0.922288181327577,0.9206691851052348,0.91958985429034,0.9201295196977873,0.9228278467350243,0.9228278467350243,0.9217485159201295,0.9201295196977873,0.91958985429034,0.9190501888828926,0.9201295196977873,0.9212088505126821,0.9255261737722612,0.9233675121424717,0.922288181327577,0.9190501888828926,0.9190501888828926,0.9190501888828926,0.9190501888828926,0.9190501888828926,0.9185105234754453,0.9185105234754453,0.91958985429034,0.8173868312757202,0.8148148148148148,0.8189300411522634,0.8173868312757202,0.816358024691358,0.8173868312757202,0.816358024691358,0.8179012345679012,0.8184156378600823,0.8137860082304527,0.816358024691358,0.8184156378600823,0.8143004115226338,0.9151234567901234,0.9135802469135802,0.9135802469135802,0.9125514403292181,0.8354020507285483,0.8348623853211009,0.922288181327577,0.9233675121424717,0.923907177549919],\"type\":\"scatter\"},{\"marker\":{\"maxdisplayed\":10},\"mode\":\"lines+markers\",\"name\":\"Trial33\",\"x\":[0,1,2,3,4,5,6,7,8,9,10,11,12,13,14,15,16,17,18,19,20,21,22,23,24,25,26,27,28,29,30,31,32,33,34,35,36,37,38,39,40,41,42,43,44,45,46,47,48,49,50,51,52,53,54,55,56,57,58,59,60,61,62,63,64,65,66,67,68,69,70,71,72,73,74,75,76,77,78,79,80,81,82,83,84,85,86,87,88,89,90,91,92,93,94,95,96,97,98,99,100,101,102,103,104,105,106,107,108,109,110,111,112,113,114,115],\"y\":[0.8049109552077712,0.7927684835402051,0.7819751753912574,0.7452779276848354,0.7582298974635726,0.7776578521316784,0.784133837021047,0.7857528332433891,0.795466810577442,0.813815434430653,0.8219104155423638,0.8273070696168375,0.8332433890987587,0.8359417161359957,0.8472746896923907,0.8672423097679439,0.8602266594711279,0.8553696708041014,0.8548300053966541,0.8445763626551538,0.8494333513221802,0.8413383702104695,0.8397193739881273,0.8316243928764167,0.8397193739881273,0.8327037236913114,0.8116567728008635,0.8116567728008635,0.8154344306529951,0.8202914193200216,0.809498111171074,0.8127361036157582,0.8181327576902321,0.8235294117647058,0.8240690771721533,0.8240690771721533,0.820831084727469,0.8224500809498111,0.820831084727469,0.8246087425796006,0.8267674042093902,0.8273070696168375,0.825148407987048,0.8310847274689692,0.8354020507285483,0.8445763626551538,0.8445763626551538,0.8467350242849433,0.8467350242849433,0.8499730167296277,0.8515920129519697,0.8515920129519697,0.8537506745817594,0.8515920129519697,0.8521316783594172,0.850512682137075,0.8510523475445224,0.8542903399892067,0.8553696708041014,0.8569886670264436,0.8553696708041014,0.8586076632487858,0.8553696708041014,0.8542903399892067,0.8532110091743119,0.8569886670264436,0.857528332433891,0.8586076632487858,0.8542903399892067,0.8510523475445224,0.8521316783594172,0.8553696708041014,0.8492798353909465,0.8482510288065843,0.8518518518518519,0.8492798353909465,0.8477366255144033,0.8492798353909465,0.8487654320987654,0.8533950617283951,0.8518518518518519,0.8518518518518519,0.8549382716049383,0.8544238683127572,0.8569958847736625,0.8569958847736625,0.8549382716049383,0.8554526748971193,0.8569958847736625,0.8559670781893004,0.8575102880658436,0.8585390946502057,0.8585390946502057,0.8585390946502057,0.8554526748971193,0.8564814814814815,0.8590534979423868,0.8564814814814815,0.8549382716049383,0.8554526748971193,0.8559670781893004,0.8549382716049383,0.8554526748971193,0.8569958847736625,0.8585390946502057,0.8595679012345679,0.8569958847736625,0.8569958847736625,0.8575102880658436,0.8569958847736625,0.8569958847736625,0.8569958847736625,0.8559670781893004,0.8564814814814815,0.8575102880658436,0.8595679012345679],\"type\":\"scatter\"},{\"marker\":{\"maxdisplayed\":10},\"mode\":\"lines+markers\",\"name\":\"Trial34\",\"x\":[0,1,2,3,4,5,6,7,8,9,10,11,12,13,14,15,16,17,18,19,20,21,22,23,24,25,26,27,28,29,30,31,32,33,34,35,36,37,38,39,40,41,42,43,44,45,46,47,48,49,50,51,52,53,54,55,56,57,58,59,60,61,62,63,64,65,66,67,68,69,70,71,72,73,74,75,76,77,78,79,80,81,82,83,84,85,86,87,88,89,90,91,92],\"y\":[0.7355639503507825,0.7933081489476524,0.8062601187263896,0.8359417161359957,0.8283864004317323,0.8283864004317323,0.847814355099838,0.8348623853211009,0.8219104155423638,0.8445763626551538,0.8456556934700485,0.8488936859147329,0.8456556934700485,0.8407987048030221,0.8402590393955748,0.8359417161359957,0.829465731246627,0.832164058283864,0.8262277388019428,0.8267674042093902,0.829465731246627,0.8267674042093902,0.8661629789530491,0.8774959525094441,0.8710199676200756,0.8667026443604965,0.8667026443604965,0.8704803022126282,0.8677819751753912,0.8667026443604965,0.8327037236913114,0.8370210469508904,0.8343227199136536,0.8354020507285483,0.8300053966540745,0.829465731246627,0.8354020507285483,0.8364813815434431,0.8381003777657852,0.8337830545062062,0.8337830545062062,0.8375607123583378,0.8364813815434431,0.8337830545062062,0.8343227199136536,0.8332433890987587,0.8305450620615219,0.8316243928764167,0.832164058283864,0.8070987654320988,0.8055555555555556,0.8004115226337448,0.801954732510288,0.7993827160493827,0.7906378600823045,0.7978395061728395,0.7957818930041153,0.7983539094650206,0.7983539094650206,0.7968106995884774,0.868861305990286,0.8667026443604965,0.8370210469508904,0.8337830545062062,0.8381003777657852,0.8407987048030221,0.8370210469508904,0.83917970858068,0.8386400431732326,0.8381003777657852,0.8397193739881273,0.8397193739881273,0.8402590393955748,0.8407987048030221,0.8424177010253643,0.8445763626551538,0.8429573664328116,0.8418780356179169,0.8424177010253643,0.8429573664328116,0.843497031840259,0.8429573664328116,0.8386400431732326,0.8381003777657852,0.8375607123583378,0.8424177010253643,0.9084362139917695,0.9068930041152263,0.9063786008230452,0.9074074074074074,0.904320987654321,0.9038065843621399,0.904320987654321],\"type\":\"scatter\"},{\"marker\":{\"maxdisplayed\":10},\"mode\":\"lines+markers\",\"name\":\"Trial35\",\"x\":[0,1,2,3,4,5,6,7,8,9,10,11,12,13,14,15,16,17,18,19,20,21,22,23,24,25,26,27,28,29,30,31,32,33,34,35,36,37,38,39,40,41,42,43,44,45,46,47,48,49,50,51,52,53,54,55,56,57,58,59,60,61,62,63,64,65,66,67,68,69,70,71,72,73,74,75,76,77,78,79,80,81,82,83,84],\"y\":[0.7077711818672423,0.8008634646519158,0.7719913653534809,0.7976254722072316,0.7949271451699946,0.7781975175391257,0.7728008634646519,0.8235294117647058,0.8127361036157582,0.8289260658391797,0.8429573664328116,0.8348623853211009,0.847814355099838,0.8548300053966541,0.8521316783594172,0.8564490016189962,0.8613059902860226,0.8661629789530491,0.8667026443604965,0.8710199676200756,0.8704803022126282,0.8699406368051807,0.8774959525094441,0.875876956287102,0.8731786292498651,0.8764166216945494,0.8791149487317863,0.875876956287102,0.8774959525094441,0.8785752833243389,0.8845116028062601,0.8823529411764706,0.8812736103615758,0.8764166216945494,0.8720992984349704,0.8737182946573124,0.8731786292498651,0.8764166216945494,0.8764166216945494,0.8726389638424177,0.8769562871019968,0.8273070696168375,0.829465731246627,0.829465731246627,0.8300053966540745,0.8300053966540745,0.8305450620615219,0.8305450620615219,0.8305450620615219,0.8283864004317323,0.7932098765432098,0.7926954732510288,0.7978395061728395,0.7973251028806584,0.7968106995884774,0.7998971193415638,0.801440329218107,0.7973251028806584,0.7978395061728395,0.7968106995884774,0.7993827160493827,0.7993827160493827,0.7988683127572016,0.7978395061728395,0.7978395061728395,0.7993827160493827,0.8029835390946503,0.8034979423868313,0.8055555555555556,0.8050411522633745,0.8050411522633745,0.8070987654320988,0.8065843621399177,0.801440329218107,0.7988683127572016,0.7968106995884774,0.7957818930041153,0.7973251028806584,0.7993827160493827,0.7998971193415638,0.7993827160493827,0.7998971193415638,0.875876956287102,0.8764166216945494,0.8769562871019968],\"type\":\"scatter\"},{\"marker\":{\"maxdisplayed\":10},\"mode\":\"lines+markers\",\"name\":\"Trial36\",\"x\":[0,1,2,3,4,5,6,7,8,9,10,11,12,13,14,15,16,17,18,19,20,21,22,23,24,25,26,27,28,29,30,31,32,33,34,35,36,37,38,39,40,41,42,43,44,45,46,47,48,49,50,51,52,53,54,55,56,57,58,59,60,61,62,63,64,65,66,67,68,69,70,71,72,73,74,75,76,77,78],\"y\":[0.7296276308688613,0.7412304371289801,0.7981651376146789,0.8165137614678899,0.8499730167296277,0.8542903399892067,0.875876956287102,0.8785752833243389,0.8602266594711279,0.864543982730707,0.8715596330275229,0.864543982730707,0.8607663248785753,0.8661629789530491,0.8602266594711279,0.8720992984349704,0.868861305990286,0.8667026443604965,0.7738801942795467,0.7792768483540206,0.7835941716135996,0.7911494873178629,0.8014031300593631,0.8051807879114948,0.8057204533189423,0.8121964382083109,0.8100377765785213,0.806799784133837,0.8100377765785213,0.8121964382083109,0.8154344306529951,0.8159740960604426,0.8165137614678899,0.8159740960604426,0.820831084727469,0.825148407987048,0.8267674042093902,0.8310847274689692,0.8364813815434431,0.8337830545062062,0.8354020507285483,0.8316243928764167,0.8262277388019428,0.825148407987048,0.8316243928764167,0.8343227199136536,0.83917970858068,0.8413383702104695,0.8429573664328116,0.8445763626551538,0.8467350242849433,0.8451160280626012,0.8413383702104695,0.8413383702104695,0.8451160280626012,0.8429573664328116,0.8488936859147329,0.8494333513221802,0.8499730167296277,0.8521316783594172,0.8532110091743119,0.8548300053966541,0.8532110091743119,0.8488936859147329,0.850512682137075,0.847814355099838,0.8488936859147329,0.8429573664328116,0.846195358877496,0.8424177010253643,0.8429573664328116,0.8402590393955748,0.7808641975308642,0.779835390946502,0.7808641975308642,0.7829218106995884,0.7818930041152263,0.7767489711934157,0.809156378600823],\"type\":\"scatter\"},{\"marker\":{\"maxdisplayed\":10},\"mode\":\"lines+markers\",\"name\":\"Trial37\",\"x\":[0,1,2,3,4,5,6,7,8,9,10,11,12,13,14,15,16,17,18,19,20,21,22,23,24,25,26,27,28,29,30,31,32,33,34,35,36,37,38,39,40,41,42,43,44,45,46,47,48,49,50],\"y\":[0.7574203993524015,0.770102536427415,0.7728008634646519,0.7684835402050728,0.8003237992444684,0.7987048030221263,0.7819751753912574,0.7754991905018889,0.7754991905018889,0.7684835402050728,0.7765785213167836,0.7857528332433891,0.7868321640582838,0.7997841338370211,0.8073394495412844,0.8132757690232056,0.8262277388019428,0.8316243928764167,0.8316243928764167,0.8310847274689692,0.8332433890987587,0.8219104155423638,0.8192120885051268,0.8192120885051268,0.8186724230976794,0.8262277388019428,0.8289260658391797,0.8424177010253643,0.83917970858068,0.8418780356179169,0.8424177010253643,0.8494333513221802,0.8472746896923907,0.8456556934700485,0.8429573664328116,0.8488936859147329,0.8472746896923907,0.8532110091743119,0.8510523475445224,0.8532110091743119,0.8510523475445224,0.8553696708041014,0.8532110091743119,0.8548300053966541,0.8591473286562331,0.86184565569347,0.8580679978413384,0.8596869940636805,0.8640043173232596,0.8613059902860226,0.8634646519158122],\"type\":\"scatter\"},{\"marker\":{\"maxdisplayed\":10},\"mode\":\"lines+markers\",\"name\":\"Trial38\",\"x\":[0,1,2,3,4,5,6,7,8,9,10,11,12,13,14,15,16,17,18,19,20,21,22,23,24,25,26,27,28,29,30,31,32,33,34,35,36,37,38,39,40,41,42,43,44,45,46,47,48,49,50,51,52,53,54,55,56,57,58,59,60,61,62,63,64,65,66,67,68,69,70,71,72,73,74,75,76,77,78,79,80,81,82,83,84],\"y\":[0.6357258499730167,0.7452779276848354,0.7695628710199676,0.7520237452779277,0.7452779276848354,0.7226119805720453,0.7555315704263357,0.7614678899082569,0.7749595250944414,0.7663248785752833,0.7744198596869941,0.7835941716135996,0.7798165137614679,0.7835941716135996,0.788451160280626,0.7900701565029682,0.8089584457636265,0.8051807879114948,0.8041014570966001,0.813815434430653,0.827846735024285,0.8397193739881273,0.8386400431732326,0.8499730167296277,0.8424177010253643,0.8402590393955748,0.8488936859147329,0.846195358877496,0.8548300053966541,0.8586076632487858,0.8548300053966541,0.8521316783594172,0.8532110091743119,0.8586076632487858,0.8634646519158122,0.8704803022126282,0.8694009713977334,0.8774959525094441,0.8737182946573124,0.8720992984349704,0.8726389638424177,0.8694009713977334,0.8710199676200756,0.8753372908796546,0.8742579600647599,0.8764166216945494,0.8780356179168916,0.8769562871019968,0.8774959525094441,0.8791149487317863,0.8774959525094441,0.8747976254722072,0.8818132757690232,0.8818132757690232,0.8791149487317863,0.8785752833243389,0.8807339449541285,0.8785752833243389,0.8796546141392336,0.875876956287102,0.8764166216945494,0.8742579600647599,0.8731786292498651,0.7818930041152263,0.8636831275720165,0.8647119341563786,0.8662551440329218,0.8662551440329218,0.8626543209876543,0.8600823045267489,0.8616255144032922,0.8595679012345679,0.8595679012345679,0.86059670781893,0.8611111111111112,0.8600823045267489,0.8611111111111112,0.8878600823045267,0.8899176954732511,0.8904320987654321,0.8909465020576132,0.8919753086419753,0.8935185185185185,0.8945473251028807,0.8940329218106996],\"type\":\"scatter\"},{\"marker\":{\"maxdisplayed\":10},\"mode\":\"lines+markers\",\"name\":\"Trial39\",\"x\":[0,1,2,3,4,5,6,7,8,9,10,11,12,13,14,15,16,17,18,19,20,21,22,23,24,25,26,27,28,29,30,31,32,33,34,35,36,37,38,39,40,41,42,43,44,45,46,47,48,49,50],\"y\":[0.7987048030221263,0.8343227199136536,0.8710199676200756,0.8542903399892067,0.843497031840259,0.8332433890987587,0.8337830545062062,0.8451160280626012,0.8337830545062062,0.8343227199136536,0.8327037236913114,0.8381003777657852,0.8343227199136536,0.7873718294657313,0.7992444684295736,0.8008634646519158,0.7976254722072316,0.7970858067997841,0.7981651376146789,0.7965461413923367,0.7933081489476524,0.7911494873178629,0.7906098219104155,0.7927684835402051,0.7992444684295736,0.795466810577442,0.8337830545062062,0.8289260658391797,0.8267674042093902,0.8300053966540745,0.8386400431732326,0.8386400431732326,0.8402590393955748,0.8418780356179169,0.8445763626551538,0.8483540205072855,0.8483540205072855,0.8515920129519697,0.8499730167296277,0.8488936859147329,0.8532110091743119,0.850512682137075,0.8488936859147329,0.8445763626551538,0.83917970858068,0.8429573664328116,0.8467350242849433,0.8451160280626012,0.846195358877496,0.846195358877496,0.8445763626551538],\"type\":\"scatter\"},{\"marker\":{\"maxdisplayed\":10},\"mode\":\"lines+markers\",\"name\":\"Trial40\",\"x\":[0,1,2,3,4,5,6,7,8,9,10,11,12,13,14,15,16,17,18,19,20,21,22,23,24,25,26,27,28,29,30,31,32,33,34,35,36,37,38,39,40,41,42,43,44,45,46,47,48,49,50,51,52,53,54,55,56,57,58,59,60,61,62,63,64,65,66,67,68,69,70,71,72,73,74,75,76,77,78,79,80,81,82,83,84,85,86,87,88,89,90,91,92,93,94,95,96,97,98,99,100],\"y\":[0.7388019427954668,0.704533189422558,0.7808958445763626,0.7404209390178089,0.7620075553157043,0.7911494873178629,0.7911494873178629,0.7879114948731786,0.806799784133837,0.8003237992444684,0.7852131678359417,0.7906098219104155,0.7943874797625472,0.8030221262817053,0.7976254722072316,0.8008634646519158,0.8014031300593631,0.8030221262817053,0.8084187803561792,0.8035617916891528,0.8111171073934161,0.8019427954668106,0.8019427954668106,0.8035617916891528,0.7943874797625472,0.7976254722072316,0.7911494873178629,0.7868321640582838,0.7916891527253103,0.7938478143550999,0.8030221262817053,0.8710199676200756,0.8683216405828387,0.8650836481381543,0.8305450620615219,0.8310847274689692,0.8283864004317323,0.8262277388019428,0.825148407987048,0.8262277388019428,0.7485159201295197,0.7528332433890987,0.7528332433890987,0.7512142471667567,0.7506745817593092,0.7479762547220723,0.7458175930922828,0.8755144032921811,0.8744855967078189,0.8765432098765432,0.875,0.8760288065843621,0.8734567901234568,0.8755144032921811,0.8765432098765432,0.8765432098765432,0.8744855967078189,0.8760288065843621,0.8755144032921811,0.8786008230452675,0.8801440329218106,0.8786008230452675,0.8775720164609053,0.8780864197530864,0.8816872427983539,0.8801440329218106,0.882201646090535,0.8832304526748971,0.882201646090535,0.8791152263374485,0.8791152263374485,0.8806584362139918,0.8780864197530864,0.8770576131687243,0.8765432098765432,0.875,0.8760288065843621,0.8765432098765432,0.9393004115226338,0.941358024691358,0.9418724279835391,0.940843621399177,0.941358024691358,0.940843621399177,0.9387860082304527,0.9398148148148148,0.9382716049382716,0.9398148148148148,0.9418724279835391,0.940843621399177,0.9423868312757202,0.9423868312757202,0.940843621399177,0.9398148148148148,0.9382716049382716,0.9377572016460906,0.9367283950617284,0.9362139917695473,0.9377572016460906,0.9351851851851852,0.9372427983539094],\"type\":\"scatter\"},{\"marker\":{\"maxdisplayed\":10},\"mode\":\"lines+markers\",\"name\":\"Trial41\",\"x\":[0,1,2,3,4,5,6,7,8,9,10,11,12,13,14,15,16,17,18,19,20,21,22,23,24,25,26,27,28,29,30,31,32,33,34,35,36,37,38,39,40,41,42,43,44,45,46,47,48,49,50],\"y\":[0.689692390717755,0.6654074473826228,0.6265515380464112,0.6338370210469509,0.6921208850512682,0.6921208850512682,0.708041014570966,0.708041014570966,0.6977873718294657,0.7053426875337291,0.7069616837560713,0.7058823529411765,0.7204533189422558,0.7436589314624933,0.7495952509444145,0.7549919050188882,0.7636265515380464,0.7868321640582838,0.7933081489476524,0.8132757690232056,0.8148947652455477,0.8078791149487318,0.8170534268753373,0.827846735024285,0.8246087425796006,0.8186724230976794,0.8197517539125742,0.8159740960604426,0.8213707501349163,0.8246087425796006,0.8246087425796006,0.8197517539125742,0.8105774419859687,0.8127361036157582,0.86184565569347,0.8602266594711279,0.8580679978413384,0.8602266594711279,0.8580679978413384,0.8289260658391797,0.8310847274689692,0.8316243928764167,0.8305450620615219,0.8289260658391797,0.8283864004317323,0.8289260658391797,0.8305450620615219,0.8289260658391797,0.8327037236913114,0.8375607123583378,0.83917970858068],\"type\":\"scatter\"},{\"marker\":{\"maxdisplayed\":10},\"mode\":\"lines+markers\",\"name\":\"Trial42\",\"x\":[0,1,2,3,4,5,6,7,8,9,10,11,12,13,14,15,16,17,18,19,20,21,22,23,24,25,26,27,28,29,30,31,32,33,34,35,36,37,38,39,40,41,42,43,44,45,46,47,48,49,50,51,52,53,54,55,56,57,58,59,60,61,62,63,64,65,66,67,68,69,70,71,72,73,74,75,76,77,78,79,80,81,82,83,84],\"y\":[0.7425796006475985,0.7169454937938479,0.7382622773880194,0.7622773880194279,0.7590393955747436,0.7684835402050728,0.770102536427415,0.7728008634646519,0.7852131678359417,0.8046411225040475,0.7933081489476524,0.8116567728008635,0.8219104155423638,0.8240690771721533,0.8354020507285483,0.8354020507285483,0.8407987048030221,0.8494333513221802,0.8537506745817594,0.8667026443604965,0.8694009713977334,0.8731786292498651,0.8699406368051807,0.8747976254722072,0.8769562871019968,0.8753372908796546,0.8710199676200756,0.8720992984349704,0.8742579600647599,0.875876956287102,0.8694009713977334,0.8715596330275229,0.8742579600647599,0.8774959525094441,0.8747976254722072,0.8720992984349704,0.8715596330275229,0.8650836481381543,0.8667026443604965,0.86184565569347,0.86184565569347,0.8596869940636805,0.8596869940636805,0.8629249865083648,0.809498111171074,0.901241230437129,0.9028602266594711,0.9044792228818133,0.9125742039935241,0.9136535348084188,0.9158121964382083,0.9152725310307609,0.9201295196977873,0.9179708580679978,0.9185105234754453,0.9163518618456556,0.9136535348084188,0.9131138694009714,0.9163518618456556,0.9201295196977873,0.9168915272531031,0.9217485159201295,0.9228278467350243,0.922288181327577,0.9206691851052348,0.9185105234754453,0.9179708580679978,0.9163518618456556,0.9158121964382083,0.9114948731786292,0.9158121964382083,0.9147328656233136,0.9131138694009714,0.8120915032679739,0.8099128540305011,0.8126361655773421,0.809368191721133,0.8044662309368191,0.803921568627451,0.8050108932461874,0.8050108932461874,0.8055555555555556,0.8017429193899782,0.8893685914732865,0.8850512682137075],\"type\":\"scatter\"},{\"marker\":{\"maxdisplayed\":10},\"mode\":\"lines+markers\",\"name\":\"Trial43\",\"x\":[0,1,2,3,4,5,6,7,8,9,10,11,12,13,14,15,16,17,18,19,20,21,22,23,24,25,26,27,28,29,30,31,32,33,34,35,36,37,38,39,40,41,42,43,44,45,46,47,48,49,50],\"y\":[0.7177549919050189,0.6330275229357798,0.6540744738262277,0.6405828386400432,0.6465191581219644,0.6497571505666486,0.6842957366432811,0.7226119805720453,0.7312466270912035,0.7614678899082569,0.7603885590933621,0.7798165137614679,0.7690232056125202,0.7728008634646519,0.7749595250944414,0.7862924986508365,0.7857528332433891,0.7981651376146789,0.8159740960604426,0.8224500809498111,0.827846735024285,0.8348623853211009,0.8359417161359957,0.8386400431732326,0.8381003777657852,0.8418780356179169,0.8418780356179169,0.8332433890987587,0.8327037236913114,0.8354020507285483,0.8429573664328116,0.8451160280626012,0.8397193739881273,0.8354020507285483,0.8370210469508904,0.8407987048030221,0.8397193739881273,0.8381003777657852,0.8381003777657852,0.8332433890987587,0.8332433890987587,0.8327037236913114,0.8456556934700485,0.8456556934700485,0.8445763626551538,0.8456556934700485,0.8424177010253643,0.8456556934700485,0.8451160280626012,0.8451160280626012,0.8440366972477065],\"type\":\"scatter\"},{\"marker\":{\"maxdisplayed\":10},\"mode\":\"lines+markers\",\"name\":\"Trial44\",\"x\":[0,1,2,3,4,5,6,7,8,9,10,11,12,13,14,15,16,17,18,19,20,21,22,23,24,25,26,27,28,29,30,31,32,33,34,35,36,37,38,39,40,41,42,43,44,45,46,47,48,49,50],\"y\":[0.7390717754991905,0.765785213167836,0.7808958445763626,0.8197517539125742,0.8197517539125742,0.8175930922827847,0.8165137614678899,0.8197517539125742,0.8235294117647058,0.8359417161359957,0.8224500809498111,0.8305450620615219,0.8240690771721533,0.8283864004317323,0.8451160280626012,0.8445763626551538,0.846195358877496,0.8542903399892067,0.8472746896923907,0.8548300053966541,0.8467350242849433,0.8386400431732326,0.8327037236913114,0.8359417161359957,0.8332433890987587,0.8488936859147329,0.8467350242849433,0.846195358877496,0.8510523475445224,0.8542903399892067,0.829465731246627,0.8262277388019428,0.8310847274689692,0.8273070696168375,0.8337830545062062,0.83917970858068,0.8316243928764167,0.8273070696168375,0.825148407987048,0.8213707501349163,0.8213707501349163,0.8256880733944955,0.8240690771721533,0.8181327576902321,0.8165137614678899,0.8116567728008635,0.7825148407987048,0.7593092282784674,0.8024691358024691,0.8040123456790124,0.801954732510288],\"type\":\"scatter\"},{\"marker\":{\"maxdisplayed\":10},\"mode\":\"lines+markers\",\"name\":\"Trial45\",\"x\":[0,1,2,3,4,5,6,7,8,9,10,11,12,13,14,15,16,17,18,19,20,21,22,23,24,25,26,27,28,29,30,31,32,33,34,35,36,37,38,39,40,41,42,43,44,45,46,47,48,49,50,51,52,53,54,55,56,57,58,59,60,61,62,63,64,65,66,67,68,69,70,71,72,73,74,75,76,77,78,79,80,81,82,83,84,85,86],\"y\":[0.5574743658931463,0.6937398812736104,0.7889908256880734,0.8165137614678899,0.8413383702104695,0.8899082568807339,0.8920669185105234,0.8909875876956287,0.8915272531030761,0.9044792228818133,0.8974635725849973,0.8926065839179709,0.8747976254722072,0.8672423097679439,0.8796546141392336,0.8818132757690232,0.8699406368051807,0.8866702644360497,0.8818132757690232,0.8823529411764706,0.8154344306529951,0.8089584457636265,0.8111171073934161,0.8181327576902321,0.8202914193200216,0.7717215326497572,0.7711818672423097,0.7663248785752833,0.7749595250944414,0.7771181867242309,0.7582298974635726,0.7598488936859147,0.7663248785752833,0.7636265515380464,0.7614678899082569,0.7593092282784674,0.7528332433890987,0.7512142471667567,0.7501349163518618,0.744738262277388,0.8631687242798354,0.8652263374485597,0.8662551440329218,0.8719135802469136,0.8713991769547325,0.8713991769547325,0.8693415637860082,0.8683127572016461,0.8708847736625515,0.8734567901234568,0.8765432098765432,0.8770576131687243,0.8806584362139918,0.882201646090535,0.8837448559670782,0.8832304526748971,0.8832304526748971,0.8806584362139918,0.8832304526748971,0.8852880658436214,0.8858024691358025,0.8842592592592593,0.8837448559670782,0.8842592592592593,0.8863168724279835,0.8816872427983539,0.8827160493827161,0.8827160493827161,0.8832304526748971,0.8827160493827161,0.8832304526748971,0.8837448559670782,0.8847736625514403,0.8806584362139918,0.882201646090535,0.7690329218106996,0.7746913580246914,0.7762345679012346,0.7762345679012346,0.7752057613168725,0.7777777777777778,0.772633744855967,0.7680041152263375,0.7680041152263375,0.7685185185185185,0.7705761316872428,0.772633744855967],\"type\":\"scatter\"},{\"marker\":{\"maxdisplayed\":10},\"mode\":\"lines+markers\",\"name\":\"Trial46\",\"x\":[0,1,2,3,4,5,6,7,8,9,10,11,12,13,14,15,16,17,18,19,20,21,22,23,24,25,26,27,28,29,30,31,32,33,34,35,36,37,38,39,40,41,42,43,44,45,46,47,48,49,50],\"y\":[0.802482460874258,0.7803561791689153,0.7933081489476524,0.802482460874258,0.7933081489476524,0.8073394495412844,0.8003237992444684,0.7819751753912574,0.7900701565029682,0.8008634646519158,0.8116567728008635,0.806799784133837,0.8289260658391797,0.8213707501349163,0.8229897463572585,0.8375607123583378,0.825148407987048,0.832164058283864,0.8364813815434431,0.8510523475445224,0.8472746896923907,0.8494333513221802,0.8510523475445224,0.8467350242849433,0.8467350242849433,0.847814355099838,0.8499730167296277,0.8407987048030221,0.8488936859147329,0.8472746896923907,0.8451160280626012,0.8510523475445224,0.8499730167296277,0.8515920129519697,0.8499730167296277,0.8537506745817594,0.847814355099838,0.8494333513221802,0.8526713437668646,0.8499730167296277,0.8553696708041014,0.8580679978413384,0.857528332433891,0.8542903399892067,0.8499730167296277,0.8548300053966541,0.8586076632487858,0.8580679978413384,0.8569886670264436,0.8586076632487858,0.8542903399892067],\"type\":\"scatter\"},{\"marker\":{\"maxdisplayed\":10},\"mode\":\"lines+markers\",\"name\":\"Trial47\",\"x\":[0,1,2,3,4,5,6,7,8,9,10,11,12,13,14,15,16,17,18,19,20,21,22,23,24,25,26,27,28,29,30,31,32,33,34,35,36,37,38,39,40,41,42,43,44,45,46,47,48,49,50,51,52,53,54,55,56,57,58,59,60,61,62,63,64,65,66,67,68,69,70,71,72,73,74,75,76,77,78,79,80,81,82,83,84,85,86],\"y\":[0.6853750674581759,0.6732325957906098,0.7096600107933081,0.7010253642741501,0.7037236913113869,0.7021046950890448,0.730706961683756,0.7571505666486779,0.7582298974635726,0.7506745817593092,0.7522935779816514,0.7749595250944414,0.765785213167836,0.7674042093901781,0.7738801942795467,0.7857528332433891,0.7749595250944414,0.7695628710199676,0.7722611980572045,0.7760388559093362,0.7738801942795467,0.7706422018348624,0.7728008634646519,0.770102536427415,0.7733405288720993,0.7787371829465731,0.8650836481381543,0.8677819751753912,0.8650836481381543,0.8699406368051807,0.8737182946573124,0.8699406368051807,0.8672423097679439,0.8661629789530491,0.8656233135456017,0.8650836481381543,0.8640043173232596,0.8640043173232596,0.8731786292498651,0.8747976254722072,0.875876956287102,0.8774959525094441,0.8774959525094441,0.8742579600647599,0.875876956287102,0.8769562871019968,0.8747976254722072,0.875876956287102,0.8774959525094441,0.8764166216945494,0.8742579600647599,0.875876956287102,0.8370210469508904,0.8354020507285483,0.8370210469508904,0.8364813815434431,0.8375607123583378,0.8375607123583378,0.9032921810699589,0.9027777777777778,0.904835390946502,0.904320987654321,0.9038065843621399,0.9022633744855967,0.904835390946502,0.9012345679012346,0.9017489711934157,0.8966049382716049,0.8940329218106996,0.8996913580246914,0.897119341563786,0.8801942795466811,0.8801942795466811,0.8801942795466811,0.8785752833243389,0.8807339449541285,0.8812736103615758,0.8801942795466811,0.8774959525094441,0.8796546141392336,0.8818132757690232,0.882892606583918,0.8861305990286023,0.8882892606583918,0.8877495952509444,0.8893685914732865,0.887209929843497],\"type\":\"scatter\"},{\"marker\":{\"maxdisplayed\":10},\"mode\":\"lines+markers\",\"name\":\"Trial48\",\"x\":[0,1,2,3,4,5,6,7,8,9,10,11,12,13,14,15,16,17,18,19,20,21,22,23,24,25,26,27,28,29,30,31,32,33,34,35,36,37,38,39,40,41,42,43,44,45,46,47,48,49,50],\"y\":[0.6826767404209391,0.7072315164597949,0.7889908256880734,0.7773880194279547,0.7798165137614679,0.7749595250944414,0.7609282245008095,0.7922288181327577,0.7965461413923367,0.8051807879114948,0.8192120885051268,0.8159740960604426,0.8202914193200216,0.8246087425796006,0.8370210469508904,0.8451160280626012,0.8559093362115489,0.8623853211009175,0.8629249865083648,0.8607663248785753,0.8634646519158122,0.8661629789530491,0.864543982730707,0.864543982730707,0.8613059902860226,0.857528332433891,0.8537506745817594,0.850512682137075,0.8521316783594172,0.8596869940636805,0.8537506745817594,0.8532110091743119,0.8580679978413384,0.8580679978413384,0.8580679978413384,0.8623853211009175,0.857528332433891,0.8613059902860226,0.8623853211009175,0.8370210469508904,0.8348623853211009,0.8386400431732326,0.8381003777657852,0.8375607123583378,0.8418780356179169,0.8364813815434431,0.8332433890987587,0.8354020507285483,0.8381003777657852,0.8375607123583378,0.8413383702104695],\"type\":\"scatter\"},{\"marker\":{\"maxdisplayed\":10},\"mode\":\"lines+markers\",\"name\":\"Trial49\",\"x\":[0,1,2,3,4,5,6,7,8,9,10,11,12,13,14,15,16,17,18,19,20,21,22,23,24,25,26,27,28,29,30,31,32,33,34,35,36,37,38,39,40,41,42,43,44,45,46,47,48,49,50],\"y\":[0.7193739881273611,0.6519158121964382,0.6726929303831625,0.675661090124123,0.6961683756071236,0.7021046950890448,0.7042633567188343,0.7166756610901241,0.747436589314625,0.7522935779816514,0.7674042093901781,0.7857528332433891,0.7997841338370211,0.7911494873178629,0.7830545062061521,0.8041014570966001,0.813815434430653,0.8165137614678899,0.829465731246627,0.8332433890987587,0.83917970858068,0.829465731246627,0.8332433890987587,0.8310847274689692,0.8213707501349163,0.8273070696168375,0.8332433890987587,0.8488936859147329,0.8440366972477065,0.8440366972477065,0.8440366972477065,0.8488936859147329,0.8499730167296277,0.8429573664328116,0.8381003777657852,0.8381003777657852,0.8375607123583378,0.8418780356179169,0.8445763626551538,0.846195358877496,0.8445763626551538,0.8467350242849433,0.8488936859147329,0.809498111171074,0.8105774419859687,0.8111171073934161,0.8121964382083109,0.8132757690232056,0.813815434430653,0.8186724230976794,0.8192120885051268],\"type\":\"scatter\"},{\"marker\":{\"maxdisplayed\":10},\"mode\":\"lines+markers\",\"name\":\"Trial50\",\"x\":[0,1,2,3,4,5,6,7,8,9,10,11,12,13,14,15,16,17,18,19,20,21,22,23,24,25,26,27,28,29,30,31,32,33,34,35,36,37,38,39,40,41,42,43,44,45,46,47,48,49,50,51,52,53,54,55,56,57,58,59,60,61,62,63,64,65,66,67,68,69,70,71,72,73,74,75,76,77,78,79,80,81,82,83,84,85,86],\"y\":[0.784943335132218,0.7636265515380464,0.8116567728008635,0.7895304910955208,0.7835941716135996,0.7846735024284943,0.8127361036157582,0.8256880733944955,0.8348623853211009,0.8337830545062062,0.8510523475445224,0.8532110091743119,0.8472746896923907,0.843497031840259,0.8521316783594172,0.857528332433891,0.8623853211009175,0.8715596330275229,0.8753372908796546,0.8774959525094441,0.8769562871019968,0.8720992984349704,0.8769562871019968,0.8764166216945494,0.8791149487317863,0.8818132757690232,0.8780356179168916,0.8742579600647599,0.8812736103615758,0.8839719373988127,0.8850512682137075,0.8823529411764706,0.8850512682137075,0.8812736103615758,0.8855909336211549,0.8839719373988127,0.8796546141392336,0.882892606583918,0.8877495952509444,0.8845116028062601,0.8785752833243389,0.8834322719913653,0.8861305990286023,0.8888289260658392,0.8920669185105234,0.8866702644360497,0.8904479222881814,0.8958445763626551,0.8947652455477604,0.8909875876956287,0.8942255801403131,0.8942255801403131,0.8936859147328656,0.8969239071775499,0.8969239071775499,0.8980032379924446,0.9007015650296816,0.8990825688073395,0.8980032379924446,0.8980032379924446,0.9007015650296816,0.9060982191041554,0.9066378845116028,0.9023205612520238,0.905558553696708,0.9039395574743659,0.9033998920669185,0.8990825688073395,0.8996222342147868,0.8980032379924446,0.9001618996222343,0.8996222342147868,0.8990825688073395,0.882201646090535,0.8827160493827161,0.8832304526748971,0.8827160493827161,0.882201646090535,0.8832304526748971,0.8827160493827161,0.8832304526748971,0.8842592592592593,0.8827160493827161,0.8816872427983539,0.8801440329218106,0.8827160493827161,0.8811728395061729],\"type\":\"scatter\"},{\"marker\":{\"maxdisplayed\":10},\"mode\":\"lines+markers\",\"name\":\"Trial51\",\"x\":[0,1,2,3,4,5,6,7,8,9,10,11,12,13,14,15,16,17,18,19,20,21,22,23,24,25,26,27,28,29,30,31,32,33,34,35,36,37,38,39,40,41,42,43,44,45,46,47,48,49,50,51,52,53,54,55,56,57,58,59,60,61,62,63,64,65,66,67,68,69,70,71,72,73,74,75,76,77,78,79,80,81,82,83,84,85,86,87,88,89,90,91,92,93,94,95,96,97,98,99,100],\"y\":[0.729897463572585,0.7620075553157043,0.7566109012412304,0.7433890987587696,0.7568807339449541,0.7968159740960604,0.8043712898003238,0.8175930922827847,0.8359417161359957,0.846195358877496,0.850512682137075,0.8407987048030221,0.8370210469508904,0.8445763626551538,0.843497031840259,0.8515920129519697,0.8515920129519697,0.8591473286562331,0.8569886670264436,0.8596869940636805,0.8569886670264436,0.8569886670264436,0.8602266594711279,0.8596869940636805,0.8672423097679439,0.8699406368051807,0.8747976254722072,0.8780356179168916,0.882892606583918,0.8812736103615758,0.8818132757690232,0.887209929843497,0.887209929843497,0.8926065839179709,0.8974635725849973,0.8953049109552078,0.8990825688073395,0.8985429033998921,0.8958445763626551,0.8953049109552078,0.8953049109552078,0.8963842417701026,0.9028602266594711,0.9023205612520238,0.9028602266594711,0.9039395574743659,0.9066378845116028,0.9044792228818133,0.9033998920669185,0.9071775499190502,0.9098758769562871,0.9071775499190502,0.9077172153264975,0.9077172153264975,0.9087965461413924,0.9093362115488397,0.908256880733945,0.908256880733945,0.9087965461413924,0.9104155423637345,0.9131138694009714,0.9125742039935241,0.9152725310307609,0.9158121964382083,0.9168915272531031,0.9174311926605505,0.9174311926605505,0.9168915272531031,0.9163518618456556,0.9120345385860766,0.9141932002158661,0.9147328656233136,0.9136535348084188,0.9125742039935241,0.9120345385860766,0.9131138694009714,0.8186724230976794,0.8165137614678899,0.8165137614678899,0.8165137614678899,0.8364197530864198,0.8497942386831275,0.8492798353909465,0.8497942386831275,0.8513374485596708,0.8533950617283951,0.8564814814814815,0.8564814814814815,0.8569958847736625,0.8585390946502057,0.8595679012345679,0.8580246913580247,0.8595679012345679,0.8595679012345679,0.8559670781893004,0.8590534979423868,0.8569958847736625,0.8569958847736625,0.8564814814814815,0.8554526748971193,0.8564814814814815],\"type\":\"scatter\"},{\"marker\":{\"maxdisplayed\":10},\"mode\":\"lines+markers\",\"name\":\"Trial52\",\"x\":[0,1,2,3,4,5,6,7,8,9,10,11,12,13,14,15,16,17,18,19,20,21,22,23,24,25,26,27,28,29,30,31,32,33,34,35,36,37,38,39,40,41,42,43,44,45,46,47,48,49,50,51,52,53,54,55,56,57,58,59,60,61,62,63,64,65,66,67,68,69,70,71,72,73,74,75,76,77,78,79,80],\"y\":[0.7104695089044792,0.7477064220183486,0.7792768483540206,0.8418780356179169,0.8494333513221802,0.8407987048030221,0.8607663248785753,0.868861305990286,0.8845116028062601,0.9028602266594711,0.9104155423637345,0.9087965461413924,0.9050188882892607,0.9066378845116028,0.9028602266594711,0.9007015650296816,0.9023205612520238,0.8985429033998921,0.8985429033998921,0.8920669185105234,0.8958445763626551,0.7981651376146789,0.8100377765785213,0.813815434430653,0.8132757690232056,0.8154344306529951,0.8100377765785213,0.8121964382083109,0.8148947652455477,0.8057204533189423,0.8121964382083109,0.8116567728008635,0.8111171073934161,0.8175930922827847,0.8240690771721533,0.8246087425796006,0.8289260658391797,0.8300053966540745,0.8337830545062062,0.829465731246627,0.8407987048030221,0.8429573664328116,0.8440366972477065,0.83917970858068,0.8424177010253643,0.8445763626551538,0.8472746896923907,0.8488936859147329,0.8472746896923907,0.846195358877496,0.8456556934700485,0.8472746896923907,0.850512682137075,0.850512682137075,0.8499730167296277,0.847814355099838,0.8488936859147329,0.8483540205072855,0.847814355099838,0.847814355099838,0.8483540205072855,0.8515920129519697,0.850512682137075,0.8510523475445224,0.8515920129519697,0.8499730167296277,0.8521316783594172,0.8521316783594172,0.8515920129519697,0.8564490016189962,0.8596869940636805,0.8559093362115489,0.8596869940636805,0.8569886670264436,0.8542903399892067,0.8564490016189962,0.8564490016189962,0.8564490016189962,0.8569886670264436,0.8580679978413384,0.8580679978413384],\"type\":\"scatter\"},{\"marker\":{\"maxdisplayed\":10},\"mode\":\"lines+markers\",\"name\":\"Trial53\",\"x\":[0,1,2,3,4,5,6,7,8,9,10,11,12,13,14,15,16,17,18,19,20,21,22,23,24,25,26,27,28,29,30,31,32,33,34,35,36,37,38,39,40,41,42,43,44,45,46,47,48,49,50],\"y\":[0.6656772800863464,0.6708041014570966,0.6645979492714517,0.6875337290879655,0.7415002698327037,0.7668645439827307,0.806799784133837,0.8041014570966001,0.827846735024285,0.8413383702104695,0.83917970858068,0.8240690771721533,0.8148947652455477,0.8224500809498111,0.8354020507285483,0.8386400431732326,0.8381003777657852,0.8348623853211009,0.8440366972477065,0.8488936859147329,0.8413383702104695,0.8542903399892067,0.8499730167296277,0.847814355099838,0.8494333513221802,0.8542903399892067,0.8548300053966541,0.8542903399892067,0.8580679978413384,0.8542903399892067,0.8510523475445224,0.850512682137075,0.8526713437668646,0.850512682137075,0.8510523475445224,0.8494333513221802,0.857528332433891,0.8569886670264436,0.8542903399892067,0.76440329218107,0.7736625514403292,0.7736625514403292,0.772119341563786,0.7736625514403292,0.772633744855967,0.7746913580246914,0.7690329218106996,0.7762345679012346,0.7752057613168725,0.7767489711934157,0.7777777777777778],\"type\":\"scatter\"},{\"marker\":{\"maxdisplayed\":10},\"mode\":\"lines+markers\",\"name\":\"Trial54\",\"x\":[0,1,2,3,4,5,6,7,8,9,10,11,12,13,14,15,16,17,18,19,20,21,22,23,24,25,26,27,28,29,30,31,32,33,34,35,36,37,38,39,40,41,42,43,44,45,46,47,48,49,50,51,52,53,54,55,56,57,58,59,60,61,62,63,64,65,66,67,68,69,70,71,72,73,74,75,76,77,78,79,80,81,82,83,84],\"y\":[0.7852131678359417,0.7957366432811657,0.8300053966540745,0.8397193739881273,0.8343227199136536,0.8418780356179169,0.8375607123583378,0.8364813815434431,0.8381003777657852,0.8445763626551538,0.8494333513221802,0.8424177010253643,0.8467350242849433,0.8499730167296277,0.8613059902860226,0.8634646519158122,0.8640043173232596,0.8542903399892067,0.8553696708041014,0.8542903399892067,0.8613059902860226,0.8623853211009175,0.8656233135456017,0.8656233135456017,0.8650836481381543,0.8661629789530491,0.8656233135456017,0.8699406368051807,0.8737182946573124,0.8726389638424177,0.8764166216945494,0.8801942795466811,0.8801942795466811,0.8774959525094441,0.875876956287102,0.8791149487317863,0.8818132757690232,0.882892606583918,0.8823529411764706,0.8834322719913653,0.8834322719913653,0.8812736103615758,0.8855909336211549,0.8834322719913653,0.8834322719913653,0.8823529411764706,0.8823529411764706,0.8818132757690232,0.8839719373988127,0.8823529411764706,0.8834322719913653,0.8855909336211549,0.8834322719913653,0.801954732510288,0.8029835390946503,0.801954732510288,0.8024691358024691,0.801954732510288,0.8040123456790124,0.8029835390946503,0.8055555555555556,0.809156378600823,0.8101851851851852,0.8112139917695473,0.8106995884773662,0.8096707818930041,0.8101851851851852,0.8081275720164609,0.8076131687242798,0.8076131687242798,0.8060699588477366,0.809156378600823,0.809156378600823,0.8122427983539094,0.8101851851851852,0.8132716049382716,0.815843621399177,0.8127572016460906,0.8173868312757202,0.815843621399177,0.8199588477366255,0.8153292181069959,0.816358024691358,0.8173868312757202,0.8189300411522634],\"type\":\"scatter\"},{\"marker\":{\"maxdisplayed\":10},\"mode\":\"lines+markers\",\"name\":\"Trial55\",\"x\":[0,1,2,3,4,5,6,7,8,9,10,11,12,13,14,15,16,17,18,19,20,21,22,23,24,25,26,27,28,29,30,31,32,33,34,35,36,37,38,39,40,41,42,43,44,45,46,47,48,49,50,51,52,53,54,55,56,57,58,59,60,61,62,63,64,65,66,67,68,69,70,71,72,73,74,75,76,77,78],\"y\":[0.7687533729087965,0.8057204533189423,0.8116567728008635,0.8418780356179169,0.8316243928764167,0.8483540205072855,0.847814355099838,0.8596869940636805,0.8796546141392336,0.8715596330275229,0.8672423097679439,0.868861305990286,0.8780356179168916,0.8796546141392336,0.8812736103615758,0.8774959525094441,0.8747976254722072,0.8780356179168916,0.8726389638424177,0.8823529411764706,0.8845116028062601,0.8888289260658392,0.8845116028062601,0.8818132757690232,0.8904479222881814,0.8834322719913653,0.8785752833243389,0.8861305990286023,0.8893685914732865,0.8850512682137075,0.8818132757690232,0.8769562871019968,0.8769562871019968,0.8715596330275229,0.8710199676200756,0.7690232056125202,0.7679438747976255,0.7711818672423097,0.7738801942795467,0.7647058823529411,0.7603885590933621,0.7598488936859147,0.7738801942795467,0.7754991905018889,0.7771181867242309,0.7749595250944414,0.7722611980572045,0.7706422018348624,0.7684835402050728,0.7679438747976255,0.7668645439827307,0.7684835402050728,0.7695628710199676,0.7684835402050728,0.7690232056125202,0.7943874797625472,0.7933081489476524,0.8003237992444684,0.8003237992444684,0.8003237992444684,0.802482460874258,0.7976254722072316,0.7992444684295736,0.7997841338370211,0.8046411225040475,0.8035617916891528,0.7992444684295736,0.7976254722072316,0.8014031300593631,0.8014031300593631,0.8003237992444684,0.8019427954668106,0.8030221262817053,0.8030221262817053,0.8030221262817053,0.7712418300653595,0.7701525054466231,0.7728758169934641,0.7777777777777778],\"type\":\"scatter\"},{\"marker\":{\"maxdisplayed\":10},\"mode\":\"lines+markers\",\"name\":\"Trial56\",\"x\":[0,1,2,3,4,5,6,7,8,9,10,11,12,13,14,15,16,17,18,19,20,21,22,23,24,25,26,27,28,29,30,31,32,33,34,35,36,37,38,39,40,41,42,43,44,45,46,47,48,49,50,51,52,53,54,55,56,57,58,59,60,61,62,63,64,65,66,67,68,69,70,71,72,73,74,75,76,77,78,79,80,81,82,83,84,85,86,87,88],\"y\":[0.7185644900161899,0.6697247706422018,0.6567728008634647,0.6977873718294657,0.7398812736103616,0.7603885590933621,0.8057204533189423,0.820831084727469,0.825148407987048,0.8386400431732326,0.8256880733944955,0.8289260658391797,0.8332433890987587,0.8515920129519697,0.8537506745817594,0.8623853211009175,0.8699406368051807,0.8683216405828387,0.8694009713977334,0.8764166216945494,0.8796546141392336,0.8731786292498651,0.8855909336211549,0.8861305990286023,0.8931462493254182,0.8920669185105234,0.8909875876956287,0.9001618996222343,0.9023205612520238,0.9039395574743659,0.9039395574743659,0.9028602266594711,0.9087965461413924,0.901241230437129,0.9007015650296816,0.8985429033998921,0.8963842417701026,0.9007015650296816,0.8963842417701026,0.8942255801403131,0.8969239071775499,0.9007015650296816,0.9023205612520238,0.847814355099838,0.8652263374485597,0.8621399176954733,0.8652263374485597,0.8652263374485597,0.867798353909465,0.8698559670781894,0.8703703703703703,0.8719135802469136,0.8760288065843621,0.875,0.8734567901234568,0.8760288065843621,0.8765432098765432,0.8780864197530864,0.8765432098765432,0.8791152263374485,0.8780864197530864,0.8786008230452675,0.8770576131687243,0.8739711934156379,0.8796296296296297,0.8791152263374485,0.8816872427983539,0.8796296296296297,0.8816872427983539,0.8837448559670782,0.8816872427983539,0.8842592592592593,0.8811728395061729,0.882201646090535,0.8806584362139918,0.8801440329218106,0.8796296296296297,0.8791152263374485,0.8765432098765432,0.8770576131687243,0.8801440329218106,0.8796296296296297,0.9068930041152263,0.9063786008230452,0.9058641975308642,0.9063786008230452,0.9068930041152263,0.9068930041152263,0.9068930041152263],\"type\":\"scatter\"},{\"marker\":{\"maxdisplayed\":10},\"mode\":\"lines+markers\",\"name\":\"Trial57\",\"x\":[0,1,2,3,4,5,6,7,8,9,10,11,12,13,14,15,16,17,18,19,20,21,22,23,24,25,26,27,28,29,30,31,32,33,34,35,36,37,38,39,40,41,42,43,44,45,46,47,48,49,50],\"y\":[0.766594711279007,0.712358337830545,0.7075013491635186,0.7091203453858608,0.7166756610901241,0.7458175930922828,0.7852131678359417,0.8089584457636265,0.7916891527253103,0.809498111171074,0.8192120885051268,0.8273070696168375,0.8310847274689692,0.8354020507285483,0.8381003777657852,0.8418780356179169,0.8424177010253643,0.8467350242849433,0.8580679978413384,0.86184565569347,0.8596869940636805,0.8494333513221802,0.8456556934700485,0.8407987048030221,0.8375607123583378,0.8343227199136536,0.8359417161359957,0.8375607123583378,0.8370210469508904,0.8429573664328116,0.806799784133837,0.813815434430653,0.8170534268753373,0.8197517539125742,0.8202914193200216,0.8213707501349163,0.8170534268753373,0.8202914193200216,0.8175930922827847,0.8165137614678899,0.8235294117647058,0.8219104155423638,0.8165137614678899,0.8170534268753373,0.8202914193200216,0.8175930922827847,0.8219104155423638,0.8202914193200216,0.8170534268753373,0.8127361036157582,0.809498111171074],\"type\":\"scatter\"},{\"marker\":{\"maxdisplayed\":10},\"mode\":\"lines+markers\",\"name\":\"Trial58\",\"x\":[0,1,2,3,4,5,6,7,8,9,10,11,12,13,14,15,16,17,18,19,20,21,22,23,24,25,26,27,28,29,30,31,32,33,34,35,36,37,38,39,40,41,42,43,44,45,46,47,48,49,50,51,52,53,54,55,56,57,58,59,60,61,62,63,64,65,66,67,68,69,70,71,72,73,74,75,76,77,78,79,80,81,82,83,84],\"y\":[0.7811656772800863,0.7754991905018889,0.7501349163518618,0.7927684835402051,0.8235294117647058,0.8569886670264436,0.8650836481381543,0.8785752833243389,0.8893685914732865,0.9039395574743659,0.9158121964382083,0.9152725310307609,0.9060982191041554,0.9007015650296816,0.9098758769562871,0.9028602266594711,0.8926065839179709,0.8947652455477604,0.8904479222881814,0.8904479222881814,0.8899082568807339,0.846195358877496,0.8418780356179169,0.8273070696168375,0.8219104155423638,0.8202914193200216,0.820831084727469,0.8154344306529951,0.8224500809498111,0.8219104155423638,0.8202914193200216,0.8181327576902321,0.8202914193200216,0.825148407987048,0.8310847274689692,0.8348623853211009,0.8386400431732326,0.8359417161359957,0.8283864004317323,0.827846735024285,0.8273070696168375,0.8305450620615219,0.8300053966540745,0.8310847274689692,0.8262277388019428,0.8262277388019428,0.820831084727469,0.8100377765785213,0.8051807879114948,0.8035617916891528,0.8062601187263896,0.8062601187263896,0.806799784133837,0.8078791149487318,0.8078791149487318,0.8041014570966001,0.8062601187263896,0.8035617916891528,0.8842592592592593,0.8811728395061729,0.8786008230452675,0.8811728395061729,0.882201646090535,0.7274689692390718,0.7204533189422558,0.7231516459794927,0.7236913113869401,0.7258499730167296,0.7242309767943875,0.7247706422018348,0.7215326497571506,0.7236913113869401,0.9074074074074074,0.9063786008230452,0.8245884773662552,0.8215020576131687,0.8204732510288066,0.8209876543209876,0.8194444444444444,0.8194444444444444,0.8189300411522634,0.8194444444444444,0.8179012345679012,0.8215020576131687,0.8215020576131687],\"type\":\"scatter\"},{\"marker\":{\"maxdisplayed\":10},\"mode\":\"lines+markers\",\"name\":\"Trial59\",\"x\":[0,1,2,3,4,5,6,7,8,9,10,11,12,13,14,15,16,17,18,19,20,21,22,23,24,25,26,27,28,29,30,31,32,33,34,35,36,37,38,39,40,41,42,43,44,45,46,47,48,49,50,51,52,53,54,55,56,57,58,59,60,61,62,63,64,65,66,67,68,69,70,71,72,73,74,75,76,77,78,79,80,81,82,83,84,85,86],\"y\":[0.749055585536967,0.8078791149487318,0.7911494873178629,0.7706422018348624,0.7695628710199676,0.784133837021047,0.7609282245008095,0.7765785213167836,0.7674042093901781,0.7738801942795467,0.784133837021047,0.7825148407987048,0.7862924986508365,0.7852131678359417,0.7906098219104155,0.7852131678359417,0.7927684835402051,0.8003237992444684,0.802482460874258,0.8035617916891528,0.8051807879114948,0.8154344306529951,0.8219104155423638,0.8240690771721533,0.825148407987048,0.8240690771721533,0.825148407987048,0.8181327576902321,0.8202914193200216,0.8202914193200216,0.8175930922827847,0.8202914193200216,0.8181327576902321,0.820831084727469,0.8246087425796006,0.8034979423868313,0.8055555555555556,0.8024691358024691,0.7962962962962963,0.7993827160493827,0.8638344226579521,0.8660130718954249,0.8676470588235294,0.869281045751634,0.8720043572984749,0.8720043572984749,0.8769063180827886,0.8796296296296297,0.8828976034858388,0.880718954248366,0.8801742919389978,0.8828976034858388,0.8796296296296297,0.8785403050108932,0.8763616557734205,0.8801742919389978,0.8818082788671024,0.8779956427015251,0.883442265795207,0.8812636165577342,0.8812636165577342,0.8812636165577342,0.8801742919389978,0.883442265795207,0.883442265795207,0.8823529411764706,0.8823529411764706,0.8839869281045751,0.8861655773420479,0.8839869281045751,0.8850762527233116,0.8867102396514162,0.8927015250544662,0.894880174291939,0.8943355119825708,0.8965141612200436,0.8970588235294118,0.8976034858387799,0.8992374727668845,0.900871459694989,0.9030501089324618,0.9041394335511983,0.9025054466230937,0.9046840958605664,0.9046840958605664,0.9046840958605664,0.9057734204793029],\"type\":\"scatter\"},{\"marker\":{\"maxdisplayed\":10},\"mode\":\"lines+markers\",\"name\":\"Trial60\",\"x\":[0,1,2,3,4,5,6,7,8,9,10,11,12,13,14,15,16,17,18,19,20,21,22,23,24,25,26,27,28,29,30,31,32,33,34,35,36,37,38,39,40,41,42,43,44,45,46,47,48,49,50,51,52,53,54,55,56,57,58,59,60,61,62,63,64],\"y\":[0.7728008634646519,0.7995143011332974,0.7916891527253103,0.8105774419859687,0.8327037236913114,0.8202914193200216,0.825148407987048,0.8219104155423638,0.8407987048030221,0.8370210469508904,0.8300053966540745,0.8300053966540745,0.8413383702104695,0.846195358877496,0.8472746896923907,0.8559093362115489,0.8515920129519697,0.8694009713977334,0.8694009713977334,0.8764166216945494,0.8818132757690232,0.8861305990286023,0.8764166216945494,0.8834322719913653,0.8850512682137075,0.8904479222881814,0.8958445763626551,0.8974635725849973,0.9017808958445763,0.8996222342147868,0.9007015650296816,0.9033998920669185,0.9023205612520238,0.9007015650296816,0.8947652455477604,0.901241230437129,0.9050188882892607,0.8980032379924446,0.9071775499190502,0.9098758769562871,0.9087965461413924,0.9109552077711819,0.9158121964382083,0.9185105234754453,0.9168915272531031,0.9168915272531031,0.9168915272531031,0.9141932002158661,0.9131138694009714,0.9109552077711819,0.9098758769562871,0.9098758769562871,0.908256880733945,0.9066378845116028,0.8354020507285483,0.8354020507285483,0.832164058283864,0.8305450620615219,0.8327037236913114,0.8310847274689692,0.8316243928764167,0.829465731246627,0.8650836481381543,0.8640043173232596,0.864543982730707],\"type\":\"scatter\"},{\"marker\":{\"maxdisplayed\":10},\"mode\":\"lines+markers\",\"name\":\"Trial61\",\"x\":[0,1,2,3,4,5,6,7,8,9,10,11,12,13,14,15,16,17,18,19,20,21,22,23,24,25,26,27,28,29,30,31,32,33,34,35,36,37,38,39,40,41,42,43,44,45,46,47,48,49,50,51,52,53,54,55,56,57,58,59,60,61,62,63,64,65,66,67,68,69,70,71,72,73,74,75,76,77,78,79],\"y\":[0.7598488936859147,0.7174851592012952,0.7048030221262817,0.7296276308688613,0.7873718294657313,0.832164058283864,0.8337830545062062,0.847814355099838,0.8494333513221802,0.8602266594711279,0.8537506745817594,0.8623853211009175,0.8634646519158122,0.8726389638424177,0.8710199676200756,0.8866702644360497,0.8834322719913653,0.8958445763626551,0.9007015650296816,0.9066378845116028,0.9125742039935241,0.9185105234754453,0.922288181327577,0.9217485159201295,0.9276848354020507,0.9276848354020507,0.9336211548839719,0.9293038316243929,0.9276848354020507,0.9217485159201295,0.9217485159201295,0.9260658391797085,0.926605504587156,0.9298434970318402,0.9303831624392876,0.9293038316243929,0.9320021586616298,0.8818132757690232,0.8769562871019968,0.8796546141392336,0.8807339449541285,0.8769562871019968,0.8710199676200756,0.8715596330275229,0.8667026443604965,0.7968106995884774,0.8477366255144033,0.8492798353909465,0.8508230452674898,0.852366255144033,0.8544238683127572,0.852880658436214,0.852880658436214,0.852366255144033,0.8580246913580247,0.8549382716049383,0.8549382716049383,0.8533950617283951,0.8559670781893004,0.8569958847736625,0.8497942386831275,0.8513374485596708,0.8513374485596708,0.8533950617283951,0.8544238683127572,0.8909465020576132,0.8888888888888888,0.8914609053497943,0.8904320987654321,0.8919753086419753,0.8878600823045267,0.8863168724279835,0.8878600823045267,0.8919753086419753,0.8935185185185185,0.8950617283950617,0.8919753086419753,0.8878600823045267,0.8930041152263375,0.8935185185185185],\"type\":\"scatter\"},{\"marker\":{\"maxdisplayed\":10},\"mode\":\"lines+markers\",\"name\":\"Trial62\",\"x\":[0,1,2,3,4,5,6,7,8,9,10,11,12,13,14,15,16,17,18,19,20,21,22,23,24,25,26,27,28,29,30,31,32,33,34,35,36,37,38,39,40,41,42,43,44,45,46,47,48,49,50],\"y\":[0.6872638963842418,0.6899622234214787,0.7679438747976255,0.7900701565029682,0.813815434430653,0.8078791149487318,0.806799784133837,0.8100377765785213,0.8057204533189423,0.7997841338370211,0.8084187803561792,0.8186724230976794,0.8213707501349163,0.813815434430653,0.8143550998381004,0.8062601187263896,0.802482460874258,0.8127361036157582,0.8202914193200216,0.8267674042093902,0.8467350242849433,0.8413383702104695,0.8424177010253643,0.8424177010253643,0.8429573664328116,0.8483540205072855,0.8499730167296277,0.8629249865083648,0.8634646519158122,0.868861305990286,0.8694009713977334,0.8710199676200756,0.86184565569347,0.8602266594711279,0.8596869940636805,0.8607663248785753,0.8607663248785753,0.8569886670264436,0.8586076632487858,0.8553696708041014,0.8483540205072855,0.8472746896923907,0.8229897463572585,0.8229897463572585,0.8273070696168375,0.8235294117647058,0.8337830545062062,0.832164058283864,0.8343227199136536,0.8316243928764167,0.827846735024285],\"type\":\"scatter\"},{\"marker\":{\"maxdisplayed\":10},\"mode\":\"lines+markers\",\"name\":\"Trial63\",\"x\":[0,1,2,3,4,5,6,7,8,9,10,11,12,13,14,15,16,17,18,19,20,21,22,23,24,25,26,27,28,29,30,31,32,33,34,35,36,37,38,39,40,41,42,43,44,45,46,47,48,49,50],\"y\":[0.7574203993524015,0.7641662169454938,0.7652455477603886,0.7258499730167296,0.7468969239071775,0.7539125742039935,0.8046411225040475,0.8359417161359957,0.8224500809498111,0.8213707501349163,0.8019427954668106,0.8121964382083109,0.8143550998381004,0.827846735024285,0.8354020507285483,0.8337830545062062,0.8246087425796006,0.843497031840259,0.8445763626551538,0.8440366972477065,0.8354020507285483,0.8327037236913114,0.8386400431732326,0.8429573664328116,0.8488936859147329,0.857528332433891,0.8521316783594172,0.8494333513221802,0.8456556934700485,0.8456556934700485,0.846195358877496,0.8548300053966541,0.8569886670264436,0.8548300053966541,0.8602266594711279,0.8569886670264436,0.8586076632487858,0.8596869940636805,0.8629249865083648,0.8634646519158122,0.8656233135456017,0.8613059902860226,0.8613059902860226,0.8613059902860226,0.8580679978413384,0.8672423097679439,0.8704803022126282,0.8634646519158122,0.8634646519158122,0.864543982730707,0.8634646519158122],\"type\":\"scatter\"},{\"marker\":{\"maxdisplayed\":10},\"mode\":\"lines+markers\",\"name\":\"Trial64\",\"x\":[0,1,2,3,4,5,6,7,8,9,10,11,12,13,14,15,16,17,18,19,20,21,22,23,24,25,26,27,28,29,30,31,32,33,34,35,36,37,38,39,40,41,42,43,44,45,46,47,48,49,50,51,52,53,54,55,56,57,58,59,60,61,62,63,64,65,66,67,68,69,70,71,72,73,74,75,76,77,78,79,80,81,82,83,84],\"y\":[0.6654074473826228,0.8016729627630869,0.8011332973556395,0.802482460874258,0.8219104155423638,0.8300053966540745,0.8327037236913114,0.820831084727469,0.8159740960604426,0.8089584457636265,0.8370210469508904,0.843497031840259,0.8397193739881273,0.8316243928764167,0.8467350242849433,0.8499730167296277,0.8494333513221802,0.8515920129519697,0.8596869940636805,0.8634646519158122,0.8661629789530491,0.8694009713977334,0.8710199676200756,0.8753372908796546,0.8726389638424177,0.875876956287102,0.8769562871019968,0.8720992984349704,0.8769562871019968,0.8769562871019968,0.8791149487317863,0.8769562871019968,0.8737182946573124,0.875876956287102,0.8699406368051807,0.8764166216945494,0.8699406368051807,0.8780356179168916,0.8769562871019968,0.8791149487317863,0.8791149487317863,0.8791149487317863,0.8812736103615758,0.8769562871019968,0.8812736103615758,0.8801942795466811,0.8791149487317863,0.8780356179168916,0.8807339449541285,0.8769562871019968,0.8791149487317863,0.8801942795466811,0.8801942795466811,0.7345679012345679,0.7407407407407407,0.7453703703703703,0.7484567901234568,0.7551440329218106,0.7587448559670782,0.7566872427983539,0.7546296296296297,0.7536008230452675,0.7515432098765432,0.7515432098765432,0.7556584362139918,0.7551440329218106,0.7566872427983539,0.7587448559670782,0.7628600823045267,0.7695473251028807,0.7690329218106996,0.7664609053497943,0.7700617283950617,0.7705761316872428,0.7669753086419753,0.7695473251028807,0.7705761316872428,0.7736625514403292,0.7772633744855967,0.7752057613168725,0.7746913580246914,0.7782921810699589,0.7782921810699589,0.779835390946502,0.7772633744855967],\"type\":\"scatter\"},{\"marker\":{\"maxdisplayed\":10},\"mode\":\"lines+markers\",\"name\":\"Trial65\",\"x\":[0,1,2,3,4,5,6,7,8,9,10,11,12,13,14,15,16,17,18,19,20,21,22,23,24,25,26,27,28,29,30,31,32,33,34,35,36,37,38,39,40,41,42,43,44,45,46,47,48,49,50,51,52,53,54,55,56,57,58,59,60,61,62,63,64,65,66,67,68,69,70,71,72,73,74,75,76,77,78,79,80,81,82,83,84,85,86,87,88,89,90,91,92,93,94,95,96,97,98,99],\"y\":[0.7328656233135457,0.7895304910955208,0.8237992444684296,0.7992444684295736,0.8003237992444684,0.8143550998381004,0.8386400431732326,0.8429573664328116,0.8548300053966541,0.86184565569347,0.8683216405828387,0.8699406368051807,0.8839719373988127,0.8899082568807339,0.8866702644360497,0.8899082568807339,0.8877495952509444,0.8899082568807339,0.8947652455477604,0.8899082568807339,0.8942255801403131,0.8963842417701026,0.8990825688073395,0.8969239071775499,0.8926065839179709,0.8947652455477604,0.8953049109552078,0.8947652455477604,0.8936859147328656,0.8904479222881814,0.8963842417701026,0.8936859147328656,0.8974635725849973,0.8515920129519697,0.850512682137075,0.8553696708041014,0.8553696708041014,0.8580679978413384,0.8596869940636805,0.8553696708041014,0.8629249865083648,0.86184565569347,0.8591473286562331,0.8580679978413384,0.8596869940636805,0.8640043173232596,0.8672423097679439,0.8650836481381543,0.8650836481381543,0.864543982730707,0.8629249865083648,0.8672423097679439,0.868861305990286,0.8726389638424177,0.8710199676200756,0.8737182946573124,0.8731786292498651,0.8742579600647599,0.8747976254722072,0.8742579600647599,0.8737182946573124,0.8720992984349704,0.8699406368051807,0.8661629789530491,0.8699406368051807,0.8726389638424177,0.8720992984349704,0.8737182946573124,0.8753372908796546,0.8731786292498651,0.8726389638424177,0.8720992984349704,0.8747976254722072,0.8747976254722072,0.8747976254722072,0.8737182946573124,0.8715596330275229,0.8731786292498651,0.8710199676200756,0.7993827160493827,0.801440329218107,0.7988683127572016,0.7993827160493827,0.9146090534979424,0.9146090534979424,0.9151234567901234,0.9146090534979424,0.9151234567901234,0.9176954732510288,0.9223251028806584,0.9218106995884774,0.9218106995884774,0.9202674897119342,0.918724279835391,0.9171810699588477,0.9161522633744856,0.9171810699588477,0.9171810699588477,0.9192386831275721,0.9192386831275721],\"type\":\"scatter\"},{\"marker\":{\"maxdisplayed\":10},\"mode\":\"lines+markers\",\"name\":\"Trial66\",\"x\":[0,1,2,3,4,5,6,7,8,9,10,11,12,13,14,15,16,17,18,19,20,21,22,23,24,25,26,27,28,29,30,31,32,33,34,35,36,37,38,39,40,41,42,43,44,45,46,47,48,49,50,51,52,53,54,55,56,57,58,59,60,61,62,63,64,65,66,67,68,69,70,71,72,73,74,75,76,77,78,79,80,81,82,83,84,85],\"y\":[0.7468969239071775,0.6988667026443605,0.6915812196438208,0.656502968159741,0.6834862385321101,0.7352941176470589,0.7452779276848354,0.7555315704263357,0.7641662169454938,0.7744198596869941,0.7889908256880734,0.7922288181327577,0.7911494873178629,0.8132757690232056,0.8197517539125742,0.8413383702104695,0.8407987048030221,0.8467350242849433,0.8548300053966541,0.8456556934700485,0.8494333513221802,0.843497031840259,0.8499730167296277,0.8602266594711279,0.8656233135456017,0.8661629789530491,0.8720992984349704,0.8667026443604965,0.8710199676200756,0.8715596330275229,0.8742579600647599,0.8694009713977334,0.8672423097679439,0.8656233135456017,0.868861305990286,0.8704803022126282,0.8694009713977334,0.8737182946573124,0.8801942795466811,0.8818132757690232,0.8801942795466811,0.8882892606583918,0.8861305990286023,0.8861305990286023,0.887209929843497,0.8888289260658392,0.8845116028062601,0.882892606583918,0.8823529411764706,0.8812736103615758,0.8839719373988127,0.8839719373988127,0.8839719373988127,0.8839719373988127,0.882892606583918,0.8818132757690232,0.901241230437129,0.901241230437129,0.8990825688073395,0.8974635725849973,0.9001618996222343,0.8985429033998921,0.8990825688073395,0.8990825688073395,0.901241230437129,0.8980032379924446,0.9001618996222343,0.8521316783594172,0.8499730167296277,0.8494333513221802,0.8483540205072855,0.847814355099838,0.8515920129519697,0.8499730167296277,0.8488936859147329,0.8494333513221802,0.8488936859147329,0.8515920129519697,0.8877495952509444,0.8877495952509444,0.8888289260658392,0.8899082568807339,0.8893685914732865,0.887209929843497,0.8861305990286023,0.8882892606583918],\"type\":\"scatter\"},{\"marker\":{\"maxdisplayed\":10},\"mode\":\"lines+markers\",\"name\":\"Trial67\",\"x\":[0,1,2,3,4,5,6,7,8,9,10,11,12,13,14,15,16,17,18,19,20,21,22,23,24,25,26,27,28,29,30,31,32,33,34,35,36,37,38,39,40,41,42,43,44,45,46,47,48,49,50],\"y\":[0.7293577981651376,0.6821370750134916,0.7145169994603346,0.696708041014571,0.6972477064220184,0.7155963302752294,0.7069616837560713,0.7361036157582299,0.7663248785752833,0.7668645439827307,0.7641662169454938,0.7695628710199676,0.7706422018348624,0.7695628710199676,0.7835941716135996,0.7895304910955208,0.7949271451699946,0.7987048030221263,0.8041014570966001,0.7976254722072316,0.7943874797625472,0.7976254722072316,0.8035617916891528,0.7949271451699946,0.7933081489476524,0.806799784133837,0.8105774419859687,0.8116567728008635,0.8078791149487318,0.8084187803561792,0.8073394495412844,0.8165137614678899,0.8213707501349163,0.8181327576902321,0.8148947652455477,0.8170534268753373,0.8170534268753373,0.8235294117647058,0.8181327576902321,0.813815434430653,0.813815434430653,0.8121964382083109,0.8111171073934161,0.8154344306529951,0.8154344306529951,0.8148947652455477,0.8224500809498111,0.8202914193200216,0.8467350242849433,0.8445763626551538,0.8467350242849433],\"type\":\"scatter\"},{\"marker\":{\"maxdisplayed\":10},\"mode\":\"lines+markers\",\"name\":\"Trial68\",\"x\":[0,1,2,3,4,5,6,7,8,9,10,11,12,13,14,15,16,17,18,19,20,21,22,23,24,25,26,27,28,29,30,31,32,33,34,35,36,37,38,39,40,41,42,43,44,45,46,47,48,49,50,51,52,53,54,55,56,57,58,59,60,61,62,63,64,65,66,67,68,69,70,71,72,73,74,75,76,77,78,79],\"y\":[0.7226119805720453,0.7539125742039935,0.7765785213167836,0.788451160280626,0.8310847274689692,0.8424177010253643,0.8429573664328116,0.8440366972477065,0.8499730167296277,0.8451160280626012,0.8548300053966541,0.8677819751753912,0.8769562871019968,0.8737182946573124,0.8845116028062601,0.8801942795466811,0.887209929843497,0.8882892606583918,0.8920669185105234,0.8958445763626551,0.8877495952509444,0.8850512682137075,0.8969239071775499,0.8888289260658392,0.8866702644360497,0.8899082568807339,0.887209929843497,0.8920669185105234,0.8958445763626551,0.9033998920669185,0.9087965461413924,0.9098758769562871,0.9120345385860766,0.9114948731786292,0.9141932002158661,0.9104155423637345,0.9050188882892607,0.908256880733945,0.908256880733945,0.9087965461413924,0.9104155423637345,0.9109552077711819,0.9104155423637345,0.9114948731786292,0.9093362115488397,0.8539094650205762,0.8564814814814815,0.8580246913580247,0.8595679012345679,0.8631687242798354,0.8657407407407407,0.8647119341563786,0.8626543209876543,0.8616255144032922,0.8600823045267489,0.8636831275720165,0.8652263374485597,0.8662551440329218,0.8652263374485597,0.8662551440329218,0.8672839506172839,0.8662551440329218,0.8698559670781894,0.8713991769547325,0.8719135802469136,0.8739711934156379,0.8703703703703703,0.8713991769547325,0.8734567901234568,0.8780864197530864,0.8765432098765432,0.8780864197530864,0.8755144032921811,0.8744855967078189,0.8744855967078189,0.8744855967078189,0.875,0.8760288065843621,0.8755144032921811,0.8734567901234568],\"type\":\"scatter\"},{\"marker\":{\"maxdisplayed\":10},\"mode\":\"lines+markers\",\"name\":\"Trial69\",\"x\":[0,1,2,3,4,5,6,7,8,9,10,11,12,13,14,15,16,17,18,19,20,21,22,23,24,25,26,27,28,29,30,31,32,33,34,35,36,37,38,39,40,41,42,43,44,45,46,47,48,49,50,51,52,53,54,55,56,57,58,59,60,61,62,63,64,65,66,67,68,69,70,71,72,73,74,75,76,77,78,79,80,81,82,83,84,85],\"y\":[0.6867242309767944,0.7050728548300054,0.7366432811656772,0.7522935779816514,0.8111171073934161,0.8019427954668106,0.806799784133837,0.8165137614678899,0.825148407987048,0.8370210469508904,0.8542903399892067,0.8445763626551538,0.8402590393955748,0.8510523475445224,0.8596869940636805,0.864543982730707,0.8569886670264436,0.8640043173232596,0.86184565569347,0.864543982730707,0.8774959525094441,0.8769562871019968,0.8747976254722072,0.8780356179168916,0.8753372908796546,0.875876956287102,0.8818132757690232,0.8796546141392336,0.8753372908796546,0.8791149487317863,0.8855909336211549,0.8818132757690232,0.8834322719913653,0.8850512682137075,0.8926065839179709,0.8888289260658392,0.8899082568807339,0.8866702644360497,0.8899082568807339,0.8904479222881814,0.8931462493254182,0.8915272531030761,0.8953049109552078,0.8953049109552078,0.8942255801403131,0.8947652455477604,0.8866702644360497,0.8904479222881814,0.8882892606583918,0.8866702644360497,0.8834322719913653,0.8877495952509444,0.8877495952509444,0.8055555555555556,0.8127572016460906,0.8122427983539094,0.8127572016460906,0.8137860082304527,0.8112139917695473,0.8055555555555556,0.8096707818930041,0.8137860082304527,0.8096707818930041,0.8101851851851852,0.8122427983539094,0.8112139917695473,0.8076131687242798,0.8060699588477366,0.8856209150326797,0.8888888888888888,0.8927015250544662,0.8927015250544662,0.8910675381263616,0.8921568627450981,0.7965461413923367,0.7976254722072316,0.7965461413923367,0.9393004115226338,0.9367283950617284,0.9393004115226338,0.9372427983539094,0.9351851851851852,0.9377572016460906,0.9326131687242798,0.933641975308642,0.9346707818930041],\"type\":\"scatter\"},{\"marker\":{\"maxdisplayed\":10},\"mode\":\"lines+markers\",\"name\":\"Trial70\",\"x\":[0,1,2,3,4,5,6,7,8,9,10,11,12,13,14,15,16,17,18,19,20,21,22,23,24,25,26,27,28,29,30,31,32,33,34,35,36,37,38,39,40,41,42,43,44,45,46,47,48,49,50,51,52,53,54,55,56,57,58,59,60,61,62,63,64,65,66,67,68,69,70,71,72,73,74,75,76,77,78,79,80,81,82,83,84],\"y\":[0.7215326497571506,0.747436589314625,0.7522935779816514,0.7949271451699946,0.8100377765785213,0.8062601187263896,0.8143550998381004,0.813815434430653,0.8170534268753373,0.8159740960604426,0.8305450620615219,0.8229897463572585,0.8510523475445224,0.8440366972477065,0.8445763626551538,0.850512682137075,0.8467350242849433,0.8553696708041014,0.8532110091743119,0.8456556934700485,0.8548300053966541,0.8580679978413384,0.8580679978413384,0.8704803022126282,0.8731786292498651,0.8715596330275229,0.8672423097679439,0.8683216405828387,0.8683216405828387,0.8667026443604965,0.8704803022126282,0.8791149487317863,0.8791149487317863,0.8807339449541285,0.8807339449541285,0.8834322719913653,0.8882892606583918,0.8926065839179709,0.8899082568807339,0.8904479222881814,0.8936859147328656,0.8915272531030761,0.8904479222881814,0.8931462493254182,0.8915272531030761,0.8888289260658392,0.8931462493254182,0.8963842417701026,0.8936859147328656,0.8936859147328656,0.8974635725849973,0.8909875876956287,0.8893685914732865,0.8882892606583918,0.8942255801403131,0.8915272531030761,0.8915272531030761,0.8920669185105234,0.8899082568807339,0.8915272531030761,0.8920669185105234,0.8526713437668646,0.8559093362115489,0.8580679978413384,0.8553696708041014,0.8537506745817594,0.8559093362115489,0.8580679978413384,0.857528332433891,0.857528332433891,0.8596869940636805,0.86184565569347,0.8623853211009175,0.8629249865083648,0.8667026443604965,0.868861305990286,0.8694009713977334,0.868861305990286,0.8694009713977334,0.8737182946573124,0.8704803022126282,0.8704803022126282,0.8720992984349704,0.8720992984349704,0.8715596330275229],\"type\":\"scatter\"},{\"marker\":{\"maxdisplayed\":10},\"mode\":\"lines+markers\",\"name\":\"Trial71\",\"x\":[0,1,2,3,4,5,6,7,8,9,10,11,12,13,14,15,16,17,18,19,20,21,22,23,24,25,26,27,28,29,30,31,32,33,34,35,36,37,38,39,40,41,42,43,44,45,46,47,48,49,50,51,52,53,54,55,56,57,58,59,60,61,62,63,64,65,66,67,68,69,70,71,72,73,74,75,76,77],\"y\":[0.670534268753373,0.7617377226119806,0.7398812736103616,0.8035617916891528,0.8629249865083648,0.8823529411764706,0.8899082568807339,0.8980032379924446,0.9077172153264975,0.9093362115488397,0.9152725310307609,0.905558553696708,0.9007015650296816,0.8920669185105234,0.8974635725849973,0.8953049109552078,0.8996222342147868,0.9033998920669185,0.9077172153264975,0.9060982191041554,0.9114948731786292,0.8586076632487858,0.8472746896923907,0.8537506745817594,0.8532110091743119,0.8553696708041014,0.8553696708041014,0.8494333513221802,0.8488936859147329,0.8629249865083648,0.8580679978413384,0.8580679978413384,0.8526713437668646,0.8521316783594172,0.8537506745817594,0.8553696708041014,0.8564490016189962,0.847814355099838,0.8429573664328116,0.8407987048030221,0.8623853211009175,0.8602266594711279,0.8613059902860226,0.8596869940636805,0.8564490016189962,0.8569886670264436,0.857528332433891,0.8521316783594172,0.8532110091743119,0.8564490016189962,0.8532110091743119,0.8173868312757202,0.815843621399177,0.8220164609053497,0.8148148148148148,0.815843621399177,0.8112139917695473,0.8204732510288066,0.8245884773662552,0.823559670781893,0.8189300411522634,0.8204732510288066,0.8209876543209876,0.8215020576131687,0.8209876543209876,0.8245884773662552,0.8266460905349794,0.8287037037037037,0.8281893004115226,0.8199588477366255,0.823559670781893,0.8209876543209876,0.8173868312757202,0.8184156378600823,0.816358024691358,0.8184156378600823,0.8173868312757202,0.8194444444444444],\"type\":\"scatter\"},{\"marker\":{\"maxdisplayed\":10},\"mode\":\"lines+markers\",\"name\":\"Trial72\",\"x\":[0,1,2,3,4,5,6,7,8,9,10,11,12,13,14,15,16,17,18,19,20,21,22,23,24,25,26,27,28,29,30,31,32,33,34,35,36,37,38,39,40,41,42,43,44,45,46,47,48,49,50,51,52,53,54,55,56,57,58,59,60,61,62,63,64,65,66,67,68,69,70,71,72,73,74,75,76,77,78,79,80,81,82,83,84,85,86,87,88,89,90,91,92,93,94,95,96,97,98,99],\"y\":[0.7479762547220723,0.7895304910955208,0.7668645439827307,0.7728008634646519,0.7862924986508365,0.8159740960604426,0.8116567728008635,0.8300053966540745,0.8219104155423638,0.8364813815434431,0.8553696708041014,0.8694009713977334,0.8596869940636805,0.8613059902860226,0.8521316783594172,0.8499730167296277,0.8569886670264436,0.868861305990286,0.864543982730707,0.86184565569347,0.8667026443604965,0.8726389638424177,0.8731786292498651,0.8737182946573124,0.8764166216945494,0.8769562871019968,0.8845116028062601,0.8877495952509444,0.8866702644360497,0.8801942795466811,0.8785752833243389,0.8726389638424177,0.8764166216945494,0.8818132757690232,0.8893685914732865,0.8947652455477604,0.8947652455477604,0.8974635725849973,0.9001618996222343,0.9023205612520238,0.8985429033998921,0.8963842417701026,0.901241230437129,0.9028602266594711,0.905558553696708,0.908256880733945,0.9109552077711819,0.908256880733945,0.9087965461413924,0.9093362115488397,0.9114948731786292,0.9098758769562871,0.9104155423637345,0.9125742039935241,0.9136535348084188,0.9136535348084188,0.9131138694009714,0.9109552077711819,0.9087965461413924,0.9114948731786292,0.9120345385860766,0.9125742039935241,0.9141932002158661,0.9125742039935241,0.9109552077711819,0.9104155423637345,0.9071775499190502,0.905558553696708,0.9093362115488397,0.9098758769562871,0.9098758769562871,0.9104155423637345,0.9077172153264975,0.8688271604938271,0.8698559670781894,0.8693415637860082,0.8729423868312757,0.8724279835390947,0.8719135802469136,0.8744855967078189,0.8775720164609053,0.8786008230452675,0.8744855967078189,0.8775720164609053,0.875,0.8770576131687243,0.8739711934156379,0.8739711934156379,0.8729423868312757,0.8713991769547325,0.8719135802469136,0.8698559670781894,0.8726389638424177,0.8720992984349704,0.8715596330275229,0.8715596330275229,0.8710199676200756,0.8720992984349704,0.8726389638424177,0.8737182946573124],\"type\":\"scatter\"},{\"marker\":{\"maxdisplayed\":10},\"mode\":\"lines+markers\",\"name\":\"Trial73\",\"x\":[0,1,2,3,4,5,6,7,8,9,10,11,12,13,14,15,16,17,18,19,20,21,22,23,24,25,26,27,28,29,30,31,32,33,34,35,36,37,38,39,40,41,42,43,44,45,46,47,48,49,50,51,52,53,54,55,56,57,58,59,60,61,62,63,64,65,66,67,68,69,70,71,72,73,74,75,76,77,78,79,80,81,82,83,84,85,86,87,88,89,90,91,92,93,94,95,96,97,98,99,100,101,102,103,104,105,106,107,108,109,110,111,112],\"y\":[0.6181867242309768,0.7223421478683216,0.7209929843497032,0.7862924986508365,0.8596869940636805,0.8354020507285483,0.8542903399892067,0.8553696708041014,0.8785752833243389,0.8791149487317863,0.8801942795466811,0.8818132757690232,0.887209929843497,0.9050188882892607,0.9066378845116028,0.9039395574743659,0.9028602266594711,0.9087965461413924,0.9017808958445763,0.8963842417701026,0.8839719373988127,0.8823529411764706,0.882892606583918,0.8747976254722072,0.8861305990286023,0.887209929843497,0.8845116028062601,0.8861305990286023,0.7987048030221263,0.7997841338370211,0.8947652455477604,0.8953049109552078,0.8904479222881814,0.8920669185105234,0.8882892606583918,0.8904479222881814,0.8920669185105234,0.8942255801403131,0.8942255801403131,0.8904479222881814,0.8915272531030761,0.8947652455477604,0.7128980032379925,0.7161359956826767,0.715056664867782,0.7161359956826767,0.7166756610901241,0.7134376686454398,0.7204533189422558,0.8353909465020576,0.8353909465020576,0.8328189300411523,0.8307613168724279,0.8307613168724279,0.8348765432098766,0.831275720164609,0.8328189300411523,0.8338477366255144,0.8338477366255144,0.8328189300411523,0.8317901234567902,0.8281893004115226,0.8281893004115226,0.8281893004115226,0.875876956287102,0.8742579600647599,0.8715596330275229,0.8731786292498651,0.8742579600647599,0.8764166216945494,0.8774959525094441,0.8812736103615758,0.8801942795466811,0.8791149487317863,0.8774959525094441,0.8769562871019968,0.8780356179168916,0.8791149487317863,0.8769562871019968,0.8769562871019968,0.8753372908796546,0.8774959525094441,0.8861305990286023,0.8845116028062601,0.8204732510288066,0.8220164609053497,0.8251028806584362,0.8220164609053497,0.8240740740740741,0.7818930041152263,0.7844650205761317,0.7839506172839507,0.7849794238683128,0.7839506172839507,0.7834362139917695,0.7818930041152263,0.7813786008230452,0.7854938271604939,0.7860082304526749,0.7870370370370371,0.7875514403292181,0.7854938271604939,0.7880658436213992,0.7870370370370371,0.786522633744856,0.7880658436213992,0.7860082304526749,0.7854938271604939,0.7839506172839507,0.7824074074074074,0.7824074074074074,0.7824074074074074,0.7803497942386831],\"type\":\"scatter\"},{\"marker\":{\"maxdisplayed\":10},\"mode\":\"lines+markers\",\"name\":\"Trial74\",\"x\":[0,1,2,3,4,5,6,7,8,9,10,11,12,13,14,15,16,17,18,19,20,21,22,23,24,25,26,27,28,29,30,31,32,33,34,35,36,37,38,39,40,41,42,43,44,45,46,47,48,49,50,51,52,53,54,55,56,57,58,59,60,61,62,63,64,65,66,67,68,69,70,71,72,73,74,75,76,77],\"y\":[0.6478683216405828,0.7647058823529411,0.7415002698327037,0.7452779276848354,0.7690232056125202,0.7927684835402051,0.7987048030221263,0.8046411225040475,0.8116567728008635,0.8348623853211009,0.8402590393955748,0.8483540205072855,0.8467350242849433,0.8499730167296277,0.8537506745817594,0.8532110091743119,0.8451160280626012,0.8629249865083648,0.8532110091743119,0.850512682137075,0.8413383702104695,0.8407987048030221,0.8440366972477065,0.8418780356179169,0.8580679978413384,0.8548300053966541,0.8569886670264436,0.8640043173232596,0.8726389638424177,0.8764166216945494,0.882892606583918,0.8818132757690232,0.882892606583918,0.8715596330275229,0.8694009713977334,0.8683216405828387,0.8737182946573124,0.8785752833243389,0.8699406368051807,0.8742579600647599,0.8753372908796546,0.8019427954668106,0.8041014570966001,0.8035617916891528,0.8014031300593631,0.7992444684295736,0.8051807879114948,0.8051807879114948,0.8035617916891528,0.8580679978413384,0.8559093362115489,0.8559093362115489,0.8586076632487858,0.8569886670264436,0.8526713437668646,0.8510523475445224,0.8488936859147329,0.8467350242849433,0.8225308641975309,0.8271604938271605,0.8276748971193416,0.8323045267489712,0.8333333333333334,0.8369341563786008,0.8364197530864198,0.8369341563786008,0.8395061728395061,0.8405349794238683,0.838477366255144,0.8364197530864198,0.8369341563786008,0.8343621399176955,0.8359053497942387,0.8389917695473251,0.8374485596707819,0.838477366255144,0.8374485596707819,0.8395061728395061],\"type\":\"scatter\"},{\"marker\":{\"maxdisplayed\":10},\"mode\":\"lines+markers\",\"name\":\"Trial75\",\"x\":[0,1,2,3,4,5,6,7,8,9,10,11,12,13,14,15,16,17,18,19,20,21,22,23,24,25,26,27,28,29,30,31,32,33,34,35,36,37,38,39,40,41,42,43,44,45,46,47,48,49,50,51,52,53,54,55,56,57,58,59,60,61,62,63,64,65,66,67,68,69,70,71,72,73,74,75,76,77,78,79,80,81,82,83,84,85],\"y\":[0.634646519158122,0.7633567188343228,0.7706422018348624,0.8014031300593631,0.8413383702104695,0.8521316783594172,0.8694009713977334,0.8650836481381543,0.86184565569347,0.8747976254722072,0.8877495952509444,0.8769562871019968,0.8785752833243389,0.8747976254722072,0.8747976254722072,0.8796546141392336,0.8801942795466811,0.8774959525094441,0.8855909336211549,0.8882892606583918,0.8893685914732865,0.8888289260658392,0.8909875876956287,0.8920669185105234,0.8969239071775499,0.8996222342147868,0.8953049109552078,0.8850512682137075,0.8801942795466811,0.8839719373988127,0.8855909336211549,0.8861305990286023,0.8839719373988127,0.8807339449541285,0.882892606583918,0.8877495952509444,0.7911494873178629,0.7922288181327577,0.7916891527253103,0.7889908256880734,0.7987048030221263,0.8030221262817053,0.8003237992444684,0.8035617916891528,0.8062601187263896,0.809498111171074,0.8078791149487318,0.8100377765785213,0.8111171073934161,0.8116567728008635,0.809498111171074,0.809498111171074,0.8089584457636265,0.8073394495412844,0.8105774419859687,0.8078791149487318,0.8116567728008635,0.8159740960604426,0.8165137614678899,0.8229897463572585,0.8240690771721533,0.8246087425796006,0.8300053966540745,0.825148407987048,0.8246087425796006,0.8229897463572585,0.8283864004317323,0.8267674042093902,0.8283864004317323,0.827846735024285,0.8256880733944955,0.8310847274689692,0.8229897463572585,0.8267674042093902,0.8267674042093902,0.8310847274689692,0.8310847274689692,0.8343227199136536,0.8305450620615219,0.8337830545062062,0.8283864004317323,0.8289260658391797,0.8310847274689692,0.8359417161359957,0.8348623853211009,0.8327037236913114],\"type\":\"scatter\"},{\"marker\":{\"maxdisplayed\":10},\"mode\":\"lines+markers\",\"name\":\"Trial76\",\"x\":[0,1,2,3,4,5,6,7,8,9,10,11,12,13,14,15,16,17,18,19,20,21,22,23,24,25,26,27,28,29,30,31,32,33,34,35,36,37,38,39,40,41,42,43,44,45,46,47,48,49,50,51,52,53,54,55,56,57,58,59,60,61,62,63,64,65,66,67,68,69,70,71,72,73,74,75,76,77,78,79,80,81,82,83,84,85,86,87,88,89,90,91,92,93,94,95,96,97,98],\"y\":[0.7339449541284404,0.8224500809498111,0.8248785752833243,0.8424177010253643,0.8942255801403131,0.905558553696708,0.9179708580679978,0.9093362115488397,0.9028602266594711,0.9168915272531031,0.9168915272531031,0.9158121964382083,0.8980032379924446,0.8969239071775499,0.908256880733945,0.9044792228818133,0.905558553696708,0.8699406368051807,0.8672423097679439,0.8634646519158122,0.8629249865083648,0.8683216405828387,0.8613059902860226,0.8623853211009175,0.8694009713977334,0.8710199676200756,0.864543982730707,0.8694009713977334,0.8704803022126282,0.8699406368051807,0.8764166216945494,0.8731786292498651,0.8715596330275229,0.8661629789530491,0.8683216405828387,0.8710199676200756,0.8710199676200756,0.875876956287102,0.8780356179168916,0.8764166216945494,0.8747976254722072,0.875876956287102,0.8845116028062601,0.8877495952509444,0.8861305990286023,0.8861305990286023,0.8861305990286023,0.8882892606583918,0.8888289260658392,0.8963842417701026,0.8931462493254182,0.8915272531030761,0.8936859147328656,0.8931462493254182,0.8942255801403131,0.8958445763626551,0.8931462493254182,0.8947652455477604,0.8958445763626551,0.8942255801403131,0.8148148148148148,0.8148148148148148,0.816358024691358,0.8143004115226338,0.816358024691358,0.8209876543209876,0.8199588477366255,0.8215020576131687,0.8220164609053497,0.823559670781893,0.823045267489712,0.8251028806584362,0.8240740740740741,0.8245884773662552,0.8281893004115226,0.8251028806584362,0.823045267489712,0.8215020576131687,0.8225308641975309,0.8225308641975309,0.823559670781893,0.8245884773662552,0.8261316872427984,0.8271604938271605,0.8287037037037037,0.8297325102880658,0.8307613168724279,0.8276748971193416,0.831275720164609,0.8271604938271605,0.8261316872427984,0.8276748971193416,0.8297325102880658,0.8307613168724279,0.8281893004115226,0.8276748971193416,0.8287037037037037,0.8287037037037037,0.8292181069958847],\"type\":\"scatter\"},{\"marker\":{\"maxdisplayed\":10},\"mode\":\"lines+markers\",\"name\":\"Trial77\",\"x\":[0,1,2,3,4,5,6,7,8,9,10,11,12,13,14,15,16,17,18,19,20,21,22,23,24,25,26,27,28,29,30,31,32,33,34,35,36,37,38,39,40,41,42,43,44,45,46,47,48,49,50,51,52,53,54,55,56,57,58,59,60,61,62,63,64,65,66,67,68,69,70,71,72,73,74,75,76,77,78,79,80,81,82,83,84,85],\"y\":[0.6146788990825688,0.6594711279007016,0.7021046950890448,0.7317862924986508,0.765785213167836,0.7943874797625472,0.8186724230976794,0.8148947652455477,0.8397193739881273,0.8370210469508904,0.8397193739881273,0.8586076632487858,0.8607663248785753,0.8634646519158122,0.8715596330275229,0.8812736103615758,0.8893685914732865,0.8882892606583918,0.8796546141392336,0.8812736103615758,0.8850512682137075,0.8780356179168916,0.882892606583918,0.8801942795466811,0.8834322719913653,0.887209929843497,0.8855909336211549,0.8904479222881814,0.8920669185105234,0.8953049109552078,0.8931462493254182,0.8980032379924446,0.8909875876956287,0.8855909336211549,0.8774959525094441,0.887209929843497,0.8823529411764706,0.8845116028062601,0.8812736103615758,0.8791149487317863,0.8818132757690232,0.8807339449541285,0.8240690771721533,0.8289260658391797,0.8224500809498111,0.825148407987048,0.8224500809498111,0.8240690771721533,0.8267674042093902,0.8235294117647058,0.8213707501349163,0.820831084727469,0.8229897463572585,0.8240690771721533,0.882201646090535,0.8780864197530864,0.8775720164609053,0.8760288065843621,0.8780864197530864,0.8734567901234568,0.8729423868312757,0.8713991769547325,0.8765432098765432,0.8791152263374485,0.8744855967078189,0.772633744855967,0.7757201646090535,0.7757201646090535,0.7731481481481481,0.7700617283950617,0.7736625514403292,0.7716049382716049,0.772119341563786,0.772633744855967,0.7710905349794238,0.772119341563786,0.7757201646090535,0.8981481481481481,0.8955761316872428,0.8930041152263375,0.8945473251028807,0.8919753086419753,0.8935185185185185,0.8940329218106996,0.8945473251028807,0.8955761316872428],\"type\":\"scatter\"},{\"marker\":{\"maxdisplayed\":10},\"mode\":\"lines+markers\",\"name\":\"Trial78\",\"x\":[0,1,2,3,4,5,6,7,8,9,10,11,12,13,14,15,16,17,18,19,20,21,22,23,24,25,26,27,28,29,30,31,32,33,34,35,36,37,38,39,40,41,42,43,44,45,46,47,48,49,50,51,52,53,54,55,56,57,58,59,60,61,62,63,64,65,66,67,68,69,70,71],\"y\":[0.6899622234214787,0.6945493793847815,0.6961683756071236,0.7614678899082569,0.8246087425796006,0.8418780356179169,0.8359417161359957,0.8413383702104695,0.8623853211009175,0.8753372908796546,0.8839719373988127,0.868861305990286,0.846195358877496,0.8542903399892067,0.8726389638424177,0.8747976254722072,0.8731786292498651,0.8812736103615758,0.8801942795466811,0.8791149487317863,0.8845116028062601,0.8818132757690232,0.8780356179168916,0.8753372908796546,0.8845116028062601,0.8904479222881814,0.8845116028062601,0.8780356179168916,0.8845116028062601,0.8888289260658392,0.8888289260658392,0.8807339449541285,0.8823529411764706,0.8801942795466811,0.8764166216945494,0.8747976254722072,0.8192120885051268,0.8181327576902321,0.8283864004317323,0.827846735024285,0.8289260658391797,0.829465731246627,0.827846735024285,0.8300053966540745,0.829465731246627,0.8370210469508904,0.8343227199136536,0.8348623853211009,0.8305450620615219,0.8327037236913114,0.8310847274689692,0.8343227199136536,0.8375607123583378,0.8316243928764167,0.827846735024285,0.8283864004317323,0.8289260658391797,0.8273070696168375,0.8283864004317323,0.827846735024285,0.8273070696168375,0.8213707501349163,0.8192120885051268,0.7412551440329218,0.7391975308641975,0.7412551440329218,0.742798353909465,0.7407407407407407,0.7371399176954733,0.8281893004115226,0.8251028806584362,0.8266460905349794],\"type\":\"scatter\"},{\"marker\":{\"maxdisplayed\":10},\"mode\":\"lines+markers\",\"name\":\"Trial79\",\"x\":[0,1,2,3,4,5,6,7,8,9,10,11,12,13,14,15,16,17,18,19,20,21,22,23,24,25,26,27,28,29,30,31,32,33,34,35,36,37,38,39,40,41,42,43,44,45,46,47,48,49,50,51,52,53,54,55,56,57,58,59,60,61,62,63,64,65,66,67,68,69,70,71,72,73,74,75,76,77,78,79,80,81,82],\"y\":[0.7223421478683216,0.8453858607663248,0.8602266594711279,0.8494333513221802,0.864543982730707,0.8834322719913653,0.8877495952509444,0.908256880733945,0.901241230437129,0.9077172153264975,0.9087965461413924,0.9217485159201295,0.9233675121424717,0.9158121964382083,0.9179708580679978,0.9201295196977873,0.9158121964382083,0.9190501888828926,0.9185105234754453,0.923907177549919,0.9233675121424717,0.91958985429034,0.9136535348084188,0.9093362115488397,0.9217485159201295,0.9206691851052348,0.9163518618456556,0.9147328656233136,0.9158121964382083,0.9141932002158661,0.825148407987048,0.825148407987048,0.820831084727469,0.8256880733944955,0.8316243928764167,0.8381003777657852,0.8407987048030221,0.8413383702104695,0.8413383702104695,0.8402590393955748,0.8386400431732326,0.8370210469508904,0.7926954732510288,0.7875514403292181,0.7916666666666666,0.7890946502057613,0.7952674897119342,0.7880658436213992,0.7896090534979424,0.7860082304526749,0.9099794238683128,0.9094650205761317,0.9140946502057613,0.9166666666666666,0.9161522633744856,0.9182098765432098,0.9176954732510288,0.9197530864197531,0.9182098765432098,0.918724279835391,0.9182098765432098,0.9156378600823045,0.9156378600823045,0.9125514403292181,0.9146090534979424,0.9151234567901234,0.9156378600823045,0.9151234567901234,0.7501349163518618,0.7495952509444145,0.744738262277388,0.7431192660550459,0.7468969239071775,0.7495952509444145,0.7479762547220723,0.747436589314625,0.7441985968699406,0.747436589314625,0.9135802469135802,0.9146090534979424,0.9146090534979424,0.9151234567901234,0.9130658436213992],\"type\":\"scatter\"},{\"marker\":{\"maxdisplayed\":10},\"mode\":\"lines+markers\",\"name\":\"Trial80\",\"x\":[0,1,2,3,4,5,6,7,8,9,10,11,12,13,14,15,16,17,18,19,20,21,22,23,24,25,26,27,28,29,30,31,32,33,34,35,36,37,38,39,40,41,42,43,44,45,46,47,48,49,50],\"y\":[0.7245008094981111,0.7274689692390718,0.7725310307609282,0.7768483540205073,0.7916891527253103,0.7960064759848894,0.7927684835402051,0.7873718294657313,0.8132757690232056,0.7965461413923367,0.8127361036157582,0.8121964382083109,0.8186724230976794,0.8316243928764167,0.8289260658391797,0.8175930922827847,0.8224500809498111,0.8440366972477065,0.8402590393955748,0.8343227199136536,0.850512682137075,0.8429573664328116,0.8327037236913114,0.825148407987048,0.8262277388019428,0.8192120885051268,0.832164058283864,0.827846735024285,0.8219104155423638,0.8364813815434431,0.8429573664328116,0.7733405288720993,0.7717215326497572,0.7711818672423097,0.7695628710199676,0.7711818672423097,0.7744198596869941,0.770102536427415,0.7771181867242309,0.7771181867242309,0.7760388559093362,0.7808958445763626,0.7803561791689153,0.7814355099838101,0.7873718294657313,0.7868321640582838,0.7900701565029682,0.7922288181327577,0.788451160280626,0.7911494873178629,0.7922288181327577],\"type\":\"scatter\"},{\"marker\":{\"maxdisplayed\":10},\"mode\":\"lines+markers\",\"name\":\"Trial81\",\"x\":[0,1,2,3,4,5,6,7,8,9,10,11,12,13,14,15,16,17,18,19,20,21,22,23,24,25,26,27,28,29,30,31,32,33,34,35,36,37,38,39,40,41,42,43,44,45,46,47,48,49,50,51,52,53,54,55,56,57,58,59,60,61,62,63,64,65,66,67,68,69,70,71,72,73,74,75,76,77,78,79,80,81,82,83,84,85],\"y\":[0.7568807339449541,0.7868321640582838,0.7846735024284943,0.7960064759848894,0.7987048030221263,0.7738801942795467,0.7776578521316784,0.7765785213167836,0.7927684835402051,0.7949271451699946,0.8046411225040475,0.820831084727469,0.8116567728008635,0.8170534268753373,0.8159740960604426,0.8121964382083109,0.8062601187263896,0.8224500809498111,0.8224500809498111,0.829465731246627,0.8305450620615219,0.8343227199136536,0.850512682137075,0.8553696708041014,0.8602266594711279,0.8613059902860226,0.8548300053966541,0.850512682137075,0.850512682137075,0.8499730167296277,0.8548300053966541,0.8526713437668646,0.8596869940636805,0.857528332433891,0.8634646519158122,0.8694009713977334,0.8699406368051807,0.8764166216945494,0.8839719373988127,0.8845116028062601,0.8877495952509444,0.8861305990286023,0.8861305990286023,0.8877495952509444,0.8866702644360497,0.8899082568807339,0.8942255801403131,0.8904479222881814,0.8904479222881814,0.8888289260658392,0.8936859147328656,0.8947652455477604,0.8931462493254182,0.8915272531030761,0.8931462493254182,0.8974635725849973,0.8947652455477604,0.8893685914732865,0.8915272531030761,0.8899082568807339,0.8866702644360497,0.8855909336211549,0.8877495952509444,0.8909875876956287,0.8888289260658392,0.8915272531030761,0.8873456790123457,0.8909465020576132,0.8930041152263375,0.8909465020576132,0.8734567901234568,0.8734567901234568,0.8744855967078189,0.8755144032921811,0.8775720164609053,0.8780864197530864,0.8775720164609053,0.8796296296296297,0.8791152263374485,0.8786008230452675,0.8806584362139918,0.8786008230452675,0.8780864197530864,0.8796296296296297,0.8796296296296297,0.8791152263374485],\"type\":\"scatter\"},{\"marker\":{\"maxdisplayed\":10},\"mode\":\"lines+markers\",\"name\":\"Trial82\",\"x\":[0,1,2,3,4,5,6,7,8,9,10,11,12,13,14,15,16,17,18,19,20,21,22,23,24,25,26,27,28,29,30,31,32,33,34,35,36,37,38,39,40,41,42,43,44,45,46,47,48,49,50,51,52,53,54,55,56,57,58,59,60,61,62,63,64,65,66,67,68,69,70,71,72,73],\"y\":[0.7328656233135457,0.7943874797625472,0.770102536427415,0.788451160280626,0.8030221262817053,0.8127361036157582,0.8359417161359957,0.8483540205072855,0.8467350242849433,0.8407987048030221,0.8348623853211009,0.832164058283864,0.8634646519158122,0.8569886670264436,0.8569886670264436,0.8586076632487858,0.857528332433891,0.8553696708041014,0.850512682137075,0.8548300053966541,0.8510523475445224,0.8456556934700485,0.8596869940636805,0.8559093362115489,0.8494333513221802,0.8418780356179169,0.8451160280626012,0.850512682137075,0.8591473286562331,0.8559093362115489,0.846195358877496,0.8456556934700485,0.83917970858068,0.8413383702104695,0.8413383702104695,0.8397193739881273,0.843497031840259,0.8337830545062062,0.8337830545062062,0.875876956287102,0.8780356179168916,0.8747976254722072,0.8791149487317863,0.8764166216945494,0.8769562871019968,0.8747976254722072,0.8769562871019968,0.875876956287102,0.8769562871019968,0.8785752833243389,0.8753372908796546,0.8769562871019968,0.875876956287102,0.864543982730707,0.8629249865083648,0.8640043173232596,0.8602266594711279,0.9038065843621399,0.8693415637860082,0.8703703703703703,0.867798353909465,0.8698559670781894,0.7901234567901234,0.801440329218107,0.7973251028806584,0.7978395061728395,0.8009259259259259,0.7926954732510288,0.7952674897119342,0.7993827160493827,0.7962962962962963,0.7978395061728395,0.7993827160493827,0.793724279835391],\"type\":\"scatter\"},{\"marker\":{\"maxdisplayed\":10},\"mode\":\"lines+markers\",\"name\":\"Trial83\",\"x\":[0,1,2,3,4,5,6,7,8,9,10,11,12,13,14,15,16,17,18,19,20,21,22,23,24,25,26,27,28,29,30,31,32,33,34,35,36,37,38,39,40,41,42,43,44,45,46,47,48,49,50,51,52,53,54,55,56,57,58,59,60,61,62,63,64,65,66,67,68,69,70,71,72,73],\"y\":[0.7266594711279007,0.7520237452779277,0.7792768483540206,0.8256880733944955,0.8532110091743119,0.875876956287102,0.8683216405828387,0.8596869940636805,0.8586076632487858,0.8607663248785753,0.8640043173232596,0.86184565569347,0.8564490016189962,0.8591473286562331,0.8586076632487858,0.8726389638424177,0.7922288181327577,0.7862924986508365,0.7808958445763626,0.7798165137614679,0.7814355099838101,0.788451160280626,0.7965461413923367,0.7970858067997841,0.7976254722072316,0.809498111171074,0.8084187803561792,0.8127361036157582,0.8165137614678899,0.8256880733944955,0.8273070696168375,0.820831084727469,0.8213707501349163,0.820831084727469,0.8246087425796006,0.8246087425796006,0.8283864004317323,0.8316243928764167,0.8310847274689692,0.8240690771721533,0.8273070696168375,0.827846735024285,0.8240690771721533,0.8359417161359957,0.8375607123583378,0.8370210469508904,0.832164058283864,0.8354020507285483,0.8327037236913114,0.8332433890987587,0.8359417161359957,0.8343227199136536,0.8375607123583378,0.8354020507285483,0.8316243928764167,0.8818132757690232,0.8807339449541285,0.8785752833243389,0.8818132757690232,0.8823529411764706,0.8791149487317863,0.8753372908796546,0.8753372908796546,0.8769562871019968,0.8774959525094441,0.875876956287102,0.8801942795466811,0.8791149487317863,0.8791149487317863,0.8818132757690232,0.8559670781893004,0.8590534979423868,0.86059670781893,0.8590534979423868],\"type\":\"scatter\"},{\"marker\":{\"maxdisplayed\":10},\"mode\":\"lines+markers\",\"name\":\"Trial84\",\"x\":[0,1,2,3,4,5,6,7,8,9,10,11,12,13,14,15,16,17,18,19,20,21,22,23,24,25,26,27,28,29,30,31,32,33,34,35,36,37,38,39,40,41,42,43,44,45,46,47,48,49,50,51,52,53,54,55,56,57,58,59,60,61,62,63,64,65,66,67,68,69,70,71,72,73,74,75,76,77,78,79,80,81,82,83,84],\"y\":[0.6985968699406369,0.7423097679438748,0.711548839719374,0.7479762547220723,0.7879114948731786,0.7992444684295736,0.8057204533189423,0.8273070696168375,0.8429573664328116,0.83917970858068,0.8548300053966541,0.8564490016189962,0.8526713437668646,0.8613059902860226,0.8774959525094441,0.8715596330275229,0.864543982730707,0.8715596330275229,0.8710199676200756,0.8694009713977334,0.8656233135456017,0.8607663248785753,0.8591473286562331,0.8726389638424177,0.8823529411764706,0.8904479222881814,0.8920669185105234,0.8888289260658392,0.8985429033998921,0.8985429033998921,0.8942255801403131,0.8947652455477604,0.8980032379924446,0.9007015650296816,0.9001618996222343,0.8996222342147868,0.8980032379924446,0.9060982191041554,0.908256880733945,0.9023205612520238,0.8974635725849973,0.901241230437129,0.9050188882892607,0.905558553696708,0.9087965461413924,0.9131138694009714,0.9141932002158661,0.9131138694009714,0.9125742039935241,0.9158121964382083,0.9163518618456556,0.9152725310307609,0.9179708580679978,0.9190501888828926,0.9168915272531031,0.9163518618456556,0.91958985429034,0.9147328656233136,0.9179708580679978,0.9174311926605505,0.9185105234754453,0.9190501888828926,0.91958985429034,0.9212088505126821,0.9212088505126821,0.9190501888828926,0.9174311926605505,0.9163518618456556,0.9147328656233136,0.9109552077711819,0.9152725310307609,0.9136535348084188,0.9104155423637345,0.9114948731786292,0.8626543209876543,0.8641975308641975,0.8621399176954733,0.8508230452674898,0.8508230452674898,0.8482510288065843,0.8497942386831275,0.8503086419753086,0.845164609053498,0.8446502057613169,0.8482510288065843],\"type\":\"scatter\"},{\"marker\":{\"maxdisplayed\":10},\"mode\":\"lines+markers\",\"name\":\"Trial85\",\"x\":[0,1,2,3,4,5,6,7,8,9,10,11,12,13,14,15,16,17,18,19,20,21,22,23,24,25,26,27,28,29,30,31,32,33,34,35,36,37,38,39,40,41,42,43,44,45,46,47,48,49,50],\"y\":[0.7396114409066379,0.7293577981651376,0.7512142471667567,0.7350242849433352,0.7501349163518618,0.7361036157582299,0.7441985968699406,0.7636265515380464,0.7798165137614679,0.7997841338370211,0.8143550998381004,0.820831084727469,0.8127361036157582,0.8186724230976794,0.8197517539125742,0.825148407987048,0.8289260658391797,0.8262277388019428,0.8224500809498111,0.8246087425796006,0.8273070696168375,0.8213707501349163,0.820831084727469,0.8197517539125742,0.8256880733944955,0.8229897463572585,0.8305450620615219,0.8262277388019428,0.8289260658391797,0.8337830545062062,0.8305450620615219,0.8370210469508904,0.8337830545062062,0.8397193739881273,0.8402590393955748,0.8424177010253643,0.8456556934700485,0.8483540205072855,0.8472746896923907,0.8542903399892067,0.8542903399892067,0.8559093362115489,0.8596869940636805,0.8559093362115489,0.8532110091743119,0.8510523475445224,0.8488936859147329,0.847814355099838,0.8472746896923907,0.8494333513221802,0.850512682137075],\"type\":\"scatter\"},{\"marker\":{\"maxdisplayed\":10},\"mode\":\"lines+markers\",\"name\":\"Trial86\",\"x\":[0,1,2,3,4,5,6,7,8,9,10,11,12,13,14,15,16,17,18,19,20,21,22,23,24,25,26,27,28,29,30,31,32,33,34,35,36,37,38,39,40,41,42,43,44,45,46,47,48,49,50,51,52,53,54,55,56,57,58,59,60,61,62,63,64,65,66,67,68,69,70,71,72,73,74,75,76,77,78,79,80,81,82,83,84,85,86],\"y\":[0.7209929843497032,0.7603885590933621,0.7763086886130599,0.7803561791689153,0.7803561791689153,0.8019427954668106,0.8219104155423638,0.8289260658391797,0.8375607123583378,0.8440366972477065,0.8494333513221802,0.857528332433891,0.8532110091743119,0.8613059902860226,0.8694009713977334,0.8677819751753912,0.8710199676200756,0.8694009713977334,0.8699406368051807,0.8737182946573124,0.8747976254722072,0.8650836481381543,0.8710199676200756,0.875876956287102,0.8807339449541285,0.8855909336211549,0.8850512682137075,0.8877495952509444,0.8855909336211549,0.8855909336211549,0.8877495952509444,0.8909875876956287,0.8942255801403131,0.8947652455477604,0.8888289260658392,0.8855909336211549,0.8882892606583918,0.8861305990286023,0.8861305990286023,0.882892606583918,0.8877495952509444,0.8904479222881814,0.8904479222881814,0.8877495952509444,0.8980032379924446,0.8974635725849973,0.9001618996222343,0.9001618996222343,0.9017808958445763,0.9033998920669185,0.9023205612520238,0.9028602266594711,0.9050188882892607,0.901241230437129,0.9023205612520238,0.9028602266594711,0.9023205612520238,0.9023205612520238,0.9039395574743659,0.9050188882892607,0.9028602266594711,0.9007015650296816,0.8996222342147868,0.8186724230976794,0.8175930922827847,0.8186724230976794,0.8197517539125742,0.8213707501349163,0.8235294117647058,0.8256880733944955,0.8256880733944955,0.8273070696168375,0.8289260658391797,0.829465731246627,0.8327037236913114,0.8337830545062062,0.832164058283864,0.8305450620615219,0.8316243928764167,0.8343227199136536,0.8332433890987587,0.8343227199136536,0.8337830545062062,0.8348623853211009,0.8370210469508904,0.8327037236913114,0.8300053966540745],\"type\":\"scatter\"},{\"marker\":{\"maxdisplayed\":10},\"mode\":\"lines+markers\",\"name\":\"Trial87\",\"x\":[0,1,2,3,4,5,6,7,8,9,10,11,12,13,14,15,16,17,18,19,20,21,22,23,24,25,26,27,28,29,30,31,32,33,34,35,36,37,38,39,40,41,42,43,44,45,46,47,48,49,50,51,52,53,54,55,56,57,58,59,60,61,62,63,64,65,66,67,68,69,70,71,72,73,74,75,76,77,78,79,80,81,82,83,84,85,86],\"y\":[0.6036157582298974,0.6667566109012413,0.6799784133837021,0.667835941716136,0.7352941176470589,0.750944414463033,0.7717215326497572,0.7808958445763626,0.7744198596869941,0.7792768483540206,0.7787371829465731,0.7690232056125202,0.806799784133837,0.8143550998381004,0.8256880733944955,0.829465731246627,0.8154344306529951,0.832164058283864,0.8386400431732326,0.8515920129519697,0.8445763626551538,0.8370210469508904,0.8359417161359957,0.8337830545062062,0.8289260658391797,0.8370210469508904,0.8375607123583378,0.8386400431732326,0.8354020507285483,0.8359417161359957,0.8650836481381543,0.8672423097679439,0.8742579600647599,0.8780356179168916,0.8791149487317863,0.8742579600647599,0.868861305990286,0.8715596330275229,0.8699406368051807,0.8774959525094441,0.8737182946573124,0.8704803022126282,0.8715596330275229,0.8737182946573124,0.8699406368051807,0.8942255801403131,0.8926065839179709,0.8882892606583918,0.8947652455477604,0.8936859147328656,0.8909875876956287,0.8931462493254182,0.8847736625514403,0.8863168724279835,0.8873456790123457,0.8863168724279835,0.88940329218107,0.8909465020576132,0.8940329218106996,0.8935185185185185,0.8930041152263375,0.8935185185185185,0.8919753086419753,0.8914609053497943,0.88940329218107,0.8909465020576132,0.8935185185185185,0.8935185185185185,0.8966049382716049,0.8960905349794238,0.897633744855967,0.8960905349794238,0.897633744855967,0.8981481481481481,0.897633744855967,0.8991769547325102,0.8981481481481481,0.8986625514403292,0.897633744855967,0.9002057613168725,0.8996913580246914,0.8996913580246914,0.9002057613168725,0.8981481481481481,0.9012345679012346,0.8981481481481481,0.8966049382716049],\"type\":\"scatter\"},{\"marker\":{\"maxdisplayed\":10},\"mode\":\"lines+markers\",\"name\":\"Trial88\",\"x\":[0,1,2,3,4,5,6,7,8,9,10,11,12,13,14,15,16,17,18,19,20,21,22,23,24,25,26,27,28,29,30,31,32,33,34,35,36,37,38,39,40,41,42,43,44,45,46,47,48,49,50,51,52,53,54,55,56,57,58,59,60,61,62,63,64,65,66,67,68,69,70,71,72,73,74,75,76,77,78,79,80,81,82,83,84,85,86,87,88,89,90,91,92,93,94,95,96,97,98,99,100,101,102,103,104,105,106,107,108,109,110,111,112,113,114,115,116,117,118,119,120,121,122],\"y\":[0.6656772800863464,0.6894225580140313,0.7358337830545062,0.763086886130599,0.795466810577442,0.8127361036157582,0.8092282784673502,0.8000539665407448,0.7992444684295736,0.8159740960604426,0.8181327576902321,0.8154344306529951,0.8100377765785213,0.8181327576902321,0.8327037236913114,0.8332433890987587,0.8451160280626012,0.8467350242849433,0.8467350242849433,0.8532110091743119,0.8510523475445224,0.8542903399892067,0.8537506745817594,0.8542903399892067,0.8672423097679439,0.8677819751753912,0.8677819751753912,0.8731786292498651,0.8818132757690232,0.8823529411764706,0.8812736103615758,0.8796546141392336,0.8791149487317863,0.8850512682137075,0.8855909336211549,0.8850512682137075,0.8855909336211549,0.8839719373988127,0.887209929843497,0.8818132757690232,0.8861305990286023,0.8877495952509444,0.8904479222881814,0.887209929843497,0.8866702644360497,0.8861305990286023,0.887209929843497,0.8861305990286023,0.8850512682137075,0.8839719373988127,0.8855909336211549,0.8834322719913653,0.8845116028062601,0.8019427954668106,0.7992444684295736,0.7987048030221263,0.7987048030221263,0.7960064759848894,0.7949271451699946,0.7987048030221263,0.9023205612520238,0.905558553696708,0.9077172153264975,0.9066378845116028,0.905558553696708,0.9033998920669185,0.9023205612520238,0.9039395574743659,0.905558553696708,0.9071775499190502,0.9060982191041554,0.9093362115488397,0.9077172153264975,0.9087965461413924,0.9093362115488397,0.908256880733945,0.9104155423637345,0.9087965461413924,0.9098758769562871,0.9109552077711819,0.908256880733945,0.905558553696708,0.905558553696708,0.9071775499190502,0.9071775499190502,0.9077172153264975,0.908256880733945,0.9098758769562871,0.9098758769562871,0.9120345385860766,0.9158121964382083,0.9158121964382083,0.9185105234754453,0.9217485159201295,0.922288181327577,0.923907177549919,0.922288181327577,0.9244468429573665,0.9228278467350243,0.9212088505126821,0.9228278467350243,0.9255261737722612,0.9249865083648138,0.9244468429573665,0.926605504587156,0.926605504587156,0.9260658391797085,0.9255261737722612,0.926605504587156,0.9276848354020507,0.9282245008094981,0.9293038316243929,0.9298434970318402,0.9298434970318402,0.9282245008094981,0.9271451699946034,0.9276848354020507,0.9287641662169455,0.926605504587156,0.9276848354020507,0.9271451699946034,0.926605504587156,0.9293038316243929],\"type\":\"scatter\"},{\"marker\":{\"maxdisplayed\":10},\"mode\":\"lines+markers\",\"name\":\"Trial89\",\"x\":[0,1,2,3,4,5,6,7,8,9,10,11,12,13,14,15,16,17,18,19,20,21,22,23,24,25,26,27,28,29,30,31,32,33,34,35,36,37,38,39,40,41,42,43,44,45,46,47,48,49,50,51,52,53,54,55,56,57,58,59,60,61,62,63,64,65,66,67,68,69,70,71,72,73,74,75,76,77,78,79,80,81,82,83,84,85,86,87,88,89,90,91,92,93],\"y\":[0.7401511063140853,0.6953588774959525,0.7301672962763087,0.6945493793847815,0.7010253642741501,0.7393416082029142,0.7355639503507825,0.7528332433890987,0.7441985968699406,0.7792768483540206,0.7814355099838101,0.7684835402050728,0.7749595250944414,0.7889908256880734,0.802482460874258,0.8262277388019428,0.8240690771721533,0.8273070696168375,0.8354020507285483,0.8386400431732326,0.8424177010253643,0.8542903399892067,0.8548300053966541,0.8569886670264436,0.8569886670264436,0.8580679978413384,0.8569886670264436,0.8591473286562331,0.86184565569347,0.8661629789530491,0.8640043173232596,0.8613059902860226,0.8596869940636805,0.8607663248785753,0.8607663248785753,0.8634646519158122,0.8726389638424177,0.8672423097679439,0.868861305990286,0.8634646519158122,0.86184565569347,0.8683216405828387,0.8677819751753912,0.8720992984349704,0.8726389638424177,0.8780356179168916,0.8747976254722072,0.875876956287102,0.8791149487317863,0.8780356179168916,0.8791149487317863,0.8823529411764706,0.8807339449541285,0.882892606583918,0.8834322719913653,0.8807339449541285,0.8834322719913653,0.882892606583918,0.8807339449541285,0.8796546141392336,0.8845116028062601,0.8855909336211549,0.8866702644360497,0.8893685914732865,0.887209929843497,0.8893685914732865,0.8882892606583918,0.8915272531030761,0.8909875876956287,0.8899082568807339,0.8915272531030761,0.8893685914732865,0.887209929843497,0.8855909336211549,0.887209929843497,0.887209929843497,0.8839719373988127,0.8839719373988127,0.9058641975308642,0.9074074074074074,0.9099794238683128,0.9084362139917695,0.9099794238683128,0.9125514403292181,0.9094650205761317,0.9094650205761317,0.9104938271604939,0.9089506172839507,0.9099794238683128,0.9084362139917695,0.9089506172839507,0.9099794238683128,0.9110082304526749,0.911522633744856],\"type\":\"scatter\"},{\"marker\":{\"maxdisplayed\":10},\"mode\":\"lines+markers\",\"name\":\"Trial90\",\"x\":[0,1,2,3,4,5,6,7,8,9,10,11,12,13,14,15,16,17,18,19,20,21,22,23,24,25,26,27,28,29,30,31,32,33,34,35,36,37,38,39,40,41,42,43,44,45,46,47,48,49,50,51,52,53,54,55,56,57,58,59,60,61,62,63,64,65,66,67,68,69,70,71,72,73,74,75,76,77,78,79,80,81,82,83,84,85],\"y\":[0.7717215326497572,0.8081489476524555,0.7889908256880734,0.7868321640582838,0.8229897463572585,0.8327037236913114,0.8359417161359957,0.8418780356179169,0.850512682137075,0.8704803022126282,0.8683216405828387,0.8710199676200756,0.8737182946573124,0.8753372908796546,0.8866702644360497,0.8958445763626551,0.8877495952509444,0.8882892606583918,0.8823529411764706,0.887209929843497,0.8861305990286023,0.8796546141392336,0.8823529411764706,0.8801942795466811,0.8812736103615758,0.8839719373988127,0.8305450620615219,0.8343227199136536,0.8327037236913114,0.8780356179168916,0.8710199676200756,0.8769562871019968,0.8769562871019968,0.875876956287102,0.8785752833243389,0.875876956287102,0.8780356179168916,0.8785752833243389,0.8407987048030221,0.8418780356179169,0.8402590393955748,0.8413383702104695,0.8402590393955748,0.83917970858068,0.8429573664328116,0.8451160280626012,0.8440366972477065,0.847814355099838,0.8472746896923907,0.8472746896923907,0.8499730167296277,0.8488936859147329,0.8472746896923907,0.8499730167296277,0.8456556934700485,0.8440366972477065,0.846195358877496,0.8451160280626012,0.847814355099838,0.850512682137075,0.8515920129519697,0.8548300053966541,0.8553696708041014,0.8553696708041014,0.8548300053966541,0.8559093362115489,0.8553696708041014,0.8548300053966541,0.8591473286562331,0.8569886670264436,0.8559093362115489,0.8559093362115489,0.8564490016189962,0.8542903399892067,0.8542903399892067,0.8548300053966541,0.8537506745817594,0.8564490016189962,0.8559093362115489,0.8688271604938271,0.867798353909465,0.8667695473251029,0.8662551440329218,0.8662551440329218,0.867798353909465,0.8683127572016461],\"type\":\"scatter\"},{\"marker\":{\"maxdisplayed\":10},\"mode\":\"lines+markers\",\"name\":\"Trial91\",\"x\":[0,1,2,3,4,5,6,7,8,9,10,11,12,13,14,15,16,17,18,19,20,21,22,23,24,25,26,27,28,29,30,31,32,33,34,35,36,37,38,39,40,41,42,43,44,45,46,47,48,49,50],\"y\":[0.6821370750134916,0.6832164058283864,0.6594711279007016,0.6594711279007016,0.7296276308688613,0.7593092282784674,0.7765785213167836,0.7787371829465731,0.7970858067997841,0.813815434430653,0.8256880733944955,0.8256880733944955,0.8348623853211009,0.8305450620615219,0.832164058283864,0.8337830545062062,0.8424177010253643,0.8515920129519697,0.8537506745817594,0.850512682137075,0.8569886670264436,0.8451160280626012,0.8521316783594172,0.8564490016189962,0.8667026443604965,0.8747976254722072,0.8591473286562331,0.8564490016189962,0.8564490016189962,0.8634646519158122,0.8564490016189962,0.8499730167296277,0.8472746896923907,0.8526713437668646,0.8623853211009175,0.8667026443604965,0.8192120885051268,0.820831084727469,0.8213707501349163,0.8224500809498111,0.825148407987048,0.8224500809498111,0.825148407987048,0.8283864004317323,0.8235294117647058,0.8229897463572585,0.8235294117647058,0.8256880733944955,0.8267674042093902,0.8310847274689692,0.8327037236913114],\"type\":\"scatter\"},{\"marker\":{\"maxdisplayed\":10},\"mode\":\"lines+markers\",\"name\":\"Trial92\",\"x\":[0,1,2,3,4,5,6,7,8,9,10,11,12,13,14,15,16,17,18,19,20,21,22,23,24,25,26,27,28,29,30,31,32,33,34,35,36,37,38,39,40,41,42,43,44,45,46,47,48,49,50,51,52,53,54,55,56,57,58,59,60,61,62,63,64,65,66,67,68,69,70,71,72,73,74,75,76,77,78,79,80,81,82,83,84],\"y\":[0.7021046950890448,0.7137075013491635,0.7350242849433352,0.7514840798704803,0.7879114948731786,0.7981651376146789,0.827846735024285,0.8300053966540745,0.8354020507285483,0.8429573664328116,0.846195358877496,0.8510523475445224,0.847814355099838,0.8515920129519697,0.86184565569347,0.8694009713977334,0.8726389638424177,0.8677819751753912,0.8564490016189962,0.8499730167296277,0.8526713437668646,0.8526713437668646,0.8596869940636805,0.850512682137075,0.8494333513221802,0.8607663248785753,0.8564490016189962,0.8041014570966001,0.7987048030221263,0.7987048030221263,0.7933081489476524,0.7916891527253103,0.7835941716135996,0.8737182946573124,0.8747976254722072,0.8791149487317863,0.8785752833243389,0.8807339449541285,0.8747976254722072,0.8742579600647599,0.8747976254722072,0.8785752833243389,0.8834322719913653,0.887209929843497,0.8866702644360497,0.8866702644360497,0.887209929843497,0.8888289260658392,0.8947652455477604,0.8942255801403131,0.8990825688073395,0.8980032379924446,0.8963842417701026,0.8958445763626551,0.8969239071775499,0.8990825688073395,0.8990825688073395,0.901241230437129,0.9039395574743659,0.9098758769562871,0.905558553696708,0.8985429033998921,0.8958445763626551,0.8947652455477604,0.8926065839179709,0.8974635725849973,0.8980032379924446,0.9028602266594711,0.9033998920669185,0.9033998920669185,0.8786008230452675,0.8816872427983539,0.8816872427983539,0.8791152263374485,0.8827160493827161,0.8775720164609053,0.8765432098765432,0.8724279835390947,0.8703703703703703,0.8703703703703703,0.8729423868312757,0.8719135802469136,0.8713991769547325,0.8713991769547325,0.8724279835390947],\"type\":\"scatter\"},{\"marker\":{\"maxdisplayed\":10},\"mode\":\"lines+markers\",\"name\":\"Trial93\",\"x\":[0,1,2,3,4,5,6,7,8,9,10,11,12,13,14,15,16,17,18,19,20,21,22,23,24,25,26,27,28,29,30,31,32,33,34,35,36,37,38,39,40,41,42,43,44,45,46,47,48,49,50,51,52,53,54,55,56,57,58,59,60,61,62,63,64,65,66,67,68,69,70,71,72,73,74,75,76,77,78,79,80,81,82,83,84,85],\"y\":[0.7603885590933621,0.8022126281705343,0.829465731246627,0.7987048030221263,0.8143550998381004,0.8413383702104695,0.8440366972477065,0.864543982730707,0.8569886670264436,0.864543982730707,0.8613059902860226,0.8672423097679439,0.8683216405828387,0.868861305990286,0.8683216405828387,0.8861305990286023,0.8834322719913653,0.8807339449541285,0.8812736103615758,0.8850512682137075,0.887209929843497,0.882892606583918,0.8931462493254182,0.8947652455477604,0.8942255801403131,0.8915272531030761,0.8926065839179709,0.8996222342147868,0.8974635725849973,0.8963842417701026,0.8985429033998921,0.8963842417701026,0.9023205612520238,0.8985429033998921,0.8963842417701026,0.8947652455477604,0.8958445763626551,0.8947652455477604,0.8953049109552078,0.8915272531030761,0.8899082568807339,0.882892606583918,0.8893685914732865,0.8292181069958847,0.8245884773662552,0.8245884773662552,0.8297325102880658,0.8245884773662552,0.8209876543209876,0.8220164609053497,0.8168724279835391,0.8189300411522634,0.8194444444444444,0.8148148148148148,0.809156378600823,0.8106995884773662,0.8106995884773662,0.8650836481381543,0.8623853211009175,0.8667026443604965,0.8677819751753912,0.8677819751753912,0.8710199676200756,0.8694009713977334,0.8710199676200756,0.8731786292498651,0.8726389638424177,0.8731786292498651,0.8742579600647599,0.8769562871019968,0.8774959525094441,0.8780356179168916,0.875876956287102,0.8753372908796546,0.8769562871019968,0.8807339449541285,0.8818132757690232,0.8823529411764706,0.8818132757690232,0.8812736103615758,0.8812736103615758,0.8785752833243389,0.8764166216945494,0.882892606583918,0.8834322719913653,0.8796546141392336],\"type\":\"scatter\"},{\"marker\":{\"maxdisplayed\":10},\"mode\":\"lines+markers\",\"name\":\"Trial94\",\"x\":[0,1,2,3,4,5,6,7,8,9,10,11,12,13,14,15,16,17,18,19,20,21,22,23,24,25,26,27,28,29,30,31,32,33,34,35,36,37,38,39,40,41,42,43,44,45,46,47,48,49,50,51,52,53,54,55,56,57,58,59,60,61,62,63,64,65,66,67,68],\"y\":[0.7182946573124662,0.8041014570966001,0.8197517539125742,0.8181327576902321,0.8041014570966001,0.8224500809498111,0.8402590393955748,0.83917970858068,0.8397193739881273,0.864543982730707,0.8834322719913653,0.8731786292498651,0.875876956287102,0.8634646519158122,0.8785752833243389,0.8704803022126282,0.8699406368051807,0.8731786292498651,0.8742579600647599,0.8791149487317863,0.8774959525094441,0.8580679978413384,0.8526713437668646,0.857528332433891,0.8650836481381543,0.8564490016189962,0.850512682137075,0.8375607123583378,0.827846735024285,0.8192120885051268,0.8219104155423638,0.8224500809498111,0.8181327576902321,0.8186724230976794,0.8229897463572585,0.8192120885051268,0.8202914193200216,0.8143550998381004,0.8132757690232056,0.8121964382083109,0.8105774419859687,0.8165137614678899,0.8832304526748971,0.8852880658436214,0.8137860082304527,0.7263374485596708,0.7330246913580247,0.7258230452674898,0.727880658436214,0.7283950617283951,0.7350823045267489,0.7371399176954733,0.7366255144032922,0.7479423868312757,0.7438271604938271,0.7453703703703703,0.7458847736625515,0.7443415637860082,0.7520576131687243,0.7505144032921811,0.7448559670781894,0.7412551440329218,0.7412551440329218,0.7397119341563786,0.7407407407407407,0.7412551440329218,0.742798353909465,0.7417695473251029,0.7438271604938271],\"type\":\"scatter\"},{\"marker\":{\"maxdisplayed\":10},\"mode\":\"lines+markers\",\"name\":\"Trial95\",\"x\":[0,1,2,3,4,5,6,7,8,9,10,11,12,13,14,15,16,17,18,19,20,21,22,23,24,25,26,27,28,29,30,31,32,33,34,35,36,37,38,39,40,41,42,43,44,45,46,47,48,49,50,51,52,53,54,55,56,57,58,59,60,61,62,63,64,65,66,67,68,69,70,71,72,73,74,75,76,77,78,79,80,81,82,83,84],\"y\":[0.8283864004317323,0.8456556934700485,0.825148407987048,0.7862924986508365,0.7906098219104155,0.7927684835402051,0.7965461413923367,0.8219104155423638,0.8327037236913114,0.8316243928764167,0.825148407987048,0.8359417161359957,0.8559093362115489,0.8623853211009175,0.8834322719913653,0.8737182946573124,0.8677819751753912,0.8704803022126282,0.8737182946573124,0.8656233135456017,0.8613059902860226,0.86184565569347,0.8591473286562331,0.8656233135456017,0.8667026443604965,0.827846735024285,0.8235294117647058,0.8240690771721533,0.8273070696168375,0.829465731246627,0.8289260658391797,0.8273070696168375,0.8283864004317323,0.8273070696168375,0.8256880733944955,0.829465731246627,0.8262277388019428,0.8283864004317323,0.8267674042093902,0.8262277388019428,0.7749595250944414,0.7749595250944414,0.7754991905018889,0.7798165137614679,0.7835941716135996,0.7814355099838101,0.7825148407987048,0.7852131678359417,0.7825148407987048,0.7825148407987048,0.788451160280626,0.7889908256880734,0.7873718294657313,0.788451160280626,0.7911494873178629,0.7895304910955208,0.7916891527253103,0.7927684835402051,0.7906098219104155,0.7916891527253103,0.7922288181327577,0.7922288181327577,0.7895304910955208,0.7933081489476524,0.7943874797625472,0.7943874797625472,0.7943874797625472,0.7970858067997841,0.7970858067997841,0.7943874797625472,0.7981651376146789,0.8014031300593631,0.8014031300593631,0.7997841338370211,0.8041014570966001,0.8084187803561792,0.8078791149487318,0.809498111171074,0.8062601187263896,0.8111171073934161,0.8062601187263896,0.8057204533189423,0.806799784133837,0.8089584457636265,0.8078791149487318],\"type\":\"scatter\"},{\"marker\":{\"maxdisplayed\":10},\"mode\":\"lines+markers\",\"name\":\"Trial96\",\"x\":[0,1,2,3,4,5,6,7,8,9,10,11,12,13,14,15,16,17,18,19,20,21,22,23,24,25,26,27,28,29,30,31,32,33,34,35,36,37,38,39,40,41,42,43,44,45,46,47,48,49,50],\"y\":[0.6840259039395574,0.7026443604964921,0.7231516459794927,0.7301672962763087,0.7317862924986508,0.7711818672423097,0.8046411225040475,0.8262277388019428,0.8354020507285483,0.8370210469508904,0.8402590393955748,0.843497031840259,0.8537506745817594,0.8537506745817594,0.8640043173232596,0.8613059902860226,0.8526713437668646,0.8569886670264436,0.8548300053966541,0.8542903399892067,0.8586076632487858,0.850512682137075,0.8526713437668646,0.8537506745817594,0.846195358877496,0.813815434430653,0.8181327576902321,0.8197517539125742,0.8202914193200216,0.8197517539125742,0.8542903399892067,0.8510523475445224,0.8515920129519697,0.8526713437668646,0.8564490016189962,0.8548300053966541,0.8467350242849433,0.8515920129519697,0.8526713437668646,0.8510523475445224,0.8553696708041014,0.8532110091743119,0.8532110091743119,0.8586076632487858,0.8586076632487858,0.8569886670264436,0.8559093362115489,0.8542903399892067,0.8564490016189962,0.8559093362115489,0.8564490016189962],\"type\":\"scatter\"},{\"marker\":{\"maxdisplayed\":10},\"mode\":\"lines+markers\",\"name\":\"Trial97\",\"x\":[0,1,2,3,4,5,6,7,8,9,10,11,12,13,14,15,16,17,18,19,20,21,22,23,24,25,26,27,28,29,30,31,32,33,34,35,36,37,38,39,40,41,42,43,44,45,46,47,48,49,50,51,52,53,54,55,56,57,58,59,60,61,62,63,64,65,66,67,68,69,70,71,72,73,74,75,76],\"y\":[0.7560712358337831,0.8065299514301133,0.8186724230976794,0.8148947652455477,0.8229897463572585,0.8175930922827847,0.802482460874258,0.825148407987048,0.820831084727469,0.8246087425796006,0.8148947652455477,0.8337830545062062,0.8229897463572585,0.8197517539125742,0.8305450620615219,0.8397193739881273,0.8337830545062062,0.8429573664328116,0.8440366972477065,0.850512682137075,0.8521316783594172,0.8499730167296277,0.8569886670264436,0.8521316783594172,0.8499730167296277,0.8488936859147329,0.8467350242849433,0.8440366972477065,0.843497031840259,0.847814355099838,0.850512682137075,0.8488936859147329,0.8526713437668646,0.7889908256880734,0.7879114948731786,0.7927684835402051,0.7889908256880734,0.7889908256880734,0.7857528332433891,0.7879114948731786,0.8837448559670782,0.8888888888888888,0.8868312757201646,0.8909465020576132,0.8883744855967078,0.8847736625514403,0.8883744855967078,0.8868312757201646,0.8847736625514403,0.8878600823045267,0.8904320987654321,0.88940329218107,0.8904320987654321,0.8878600823045267,0.8947652455477604,0.8969239071775499,0.8953049109552078,0.8942255801403131,0.8953049109552078,0.8926065839179709,0.8926065839179709,0.8909875876956287,0.8920669185105234,0.8847736625514403,0.8832304526748971,0.8899176954732511,0.8904320987654321,0.8899176954732511,0.8842592592592593,0.8852880658436214,0.8873456790123457,0.8858024691358025,0.88940329218107,0.8878600823045267,0.8883744855967078,0.8899176954732511,0.8873456790123457],\"type\":\"scatter\"},{\"marker\":{\"maxdisplayed\":10},\"mode\":\"lines+markers\",\"name\":\"Trial98\",\"x\":[0,1,2,3,4,5,6,7,8,9,10,11,12,13,14,15,16,17,18,19,20,21,22,23,24,25,26,27,28,29,30,31,32,33,34,35,36,37,38,39,40,41,42,43,44,45,46,47,48,49,50,51,52,53,54,55,56,57,58,59,60,61,62,63,64,65,66,67,68,69,70,71,72,73,74,75,76,77,78,79,80,81,82,83,84,85,86],\"y\":[0.7193739881273611,0.736913113869401,0.7671343766864543,0.8289260658391797,0.8418780356179169,0.857528332433891,0.8586076632487858,0.8526713437668646,0.8580679978413384,0.850512682137075,0.8553696708041014,0.8602266594711279,0.8456556934700485,0.8532110091743119,0.8526713437668646,0.847814355099838,0.8672423097679439,0.8672423097679439,0.8672423097679439,0.8683216405828387,0.8812736103615758,0.8839719373988127,0.8845116028062601,0.8801942795466811,0.8807339449541285,0.8818132757690232,0.8812736103615758,0.887209929843497,0.8774959525094441,0.8769562871019968,0.8774959525094441,0.8796546141392336,0.8774959525094441,0.8791149487317863,0.8780356179168916,0.8791149487317863,0.8780356179168916,0.8823529411764706,0.8920669185105234,0.8942255801403131,0.9001618996222343,0.8985429033998921,0.8996222342147868,0.8996222342147868,0.8990825688073395,0.8985429033998921,0.8963842417701026,0.8958445763626551,0.8980032379924446,0.8990825688073395,0.901241230437129,0.8996222342147868,0.9001618996222343,0.9017808958445763,0.9023205612520238,0.9007015650296816,0.9066378845116028,0.9060982191041554,0.9066378845116028,0.9044792228818133,0.9071775499190502,0.9093362115488397,0.9087965461413924,0.9087965461413924,0.9066378845116028,0.9044792228818133,0.9060982191041554,0.908256880733945,0.9050188882892607,0.9044792228818133,0.9044792228818133,0.9033998920669185,0.8542903399892067,0.8521316783594172,0.8521316783594172,0.8526713437668646,0.8515920129519697,0.8904320987654321,0.8914609053497943,0.8904320987654321,0.8904320987654321,0.8919753086419753,0.8904320987654321,0.8904320987654321,0.8904320987654321,0.8218954248366013,0.8197167755991286],\"type\":\"scatter\"},{\"marker\":{\"maxdisplayed\":10},\"mode\":\"lines+markers\",\"name\":\"Trial99\",\"x\":[0,1,2,3,4,5,6,7,8,9,10,11,12,13,14,15,16,17,18,19,20,21,22,23,24,25,26,27,28,29,30,31,32,33,34,35,36,37,38,39,40,41,42,43,44,45,46,47,48,49,50,51,52,53,54,55,56,57,58,59,60,61,62,63,64,65,66,67,68,69,70,71,72,73,74,75,76,77,78,79,80,81,82,83,84,85,86,87,88,89,90,91,92,93,94,95,96],\"y\":[0.803291958985429,0.7995143011332974,0.8327037236913114,0.8418780356179169,0.8289260658391797,0.8588774959525094,0.8550998381003778,0.8375607123583378,0.83917970858068,0.8381003777657852,0.8381003777657852,0.8440366972477065,0.8467350242849433,0.8526713437668646,0.8602266594711279,0.8613059902860226,0.8596869940636805,0.86184565569347,0.8656233135456017,0.8715596330275229,0.8780356179168916,0.8818132757690232,0.8839719373988127,0.8791149487317863,0.8791149487317863,0.8801942795466811,0.8780356179168916,0.8861305990286023,0.8839719373988127,0.8893685914732865,0.8926065839179709,0.8904479222881814,0.8926065839179709,0.8963842417701026,0.8942255801403131,0.8947652455477604,0.8920669185105234,0.8899082568807339,0.8942255801403131,0.8980032379924446,0.9017808958445763,0.9028602266594711,0.9039395574743659,0.9028602266594711,0.9001618996222343,0.8990825688073395,0.8920669185105234,0.8909875876956287,0.8915272531030761,0.8953049109552078,0.8963842417701026,0.8985429033998921,0.8963842417701026,0.9066378845116028,0.8418780356179169,0.8429573664328116,0.8440366972477065,0.8451160280626012,0.8413383702104695,0.8424177010253643,0.83917970858068,0.8386400431732326,0.83917970858068,0.8386400431732326,0.83917970858068,0.8418780356179169,0.8402590393955748,0.8402590393955748,0.7846735024284943,0.7857528332433891,0.8508230452674898,0.852366255144033,0.8544238683127572,0.8533950617283951,0.8533950617283951,0.8539094650205762,0.852366255144033,0.8492798353909465,0.8513374485596708,0.8539094650205762,0.8539094650205762,0.8544238683127572,0.852366255144033,0.9735563950350783,0.9740960604425256,0.974635725849973,0.9751753912574204,0.974635725849973,0.974635725849973,0.9724770642201835,0.9708580679978414,0.9719373988127361,0.9713977334052887,0.9730167296276309,0.9719373988127361,0.9719373988127361,0.9719373988127361],\"type\":\"scatter\"}],                        {\"showlegend\":false,\"title\":{\"text\":\"Intermediate Values Plot\"},\"xaxis\":{\"title\":{\"text\":\"Step\"}},\"yaxis\":{\"title\":{\"text\":\"Intermediate Value\"}},\"template\":{\"data\":{\"histogram2dcontour\":[{\"type\":\"histogram2dcontour\",\"colorbar\":{\"outlinewidth\":0,\"ticks\":\"\"},\"colorscale\":[[0.0,\"#0d0887\"],[0.1111111111111111,\"#46039f\"],[0.2222222222222222,\"#7201a8\"],[0.3333333333333333,\"#9c179e\"],[0.4444444444444444,\"#bd3786\"],[0.5555555555555556,\"#d8576b\"],[0.6666666666666666,\"#ed7953\"],[0.7777777777777778,\"#fb9f3a\"],[0.8888888888888888,\"#fdca26\"],[1.0,\"#f0f921\"]]}],\"choropleth\":[{\"type\":\"choropleth\",\"colorbar\":{\"outlinewidth\":0,\"ticks\":\"\"}}],\"histogram2d\":[{\"type\":\"histogram2d\",\"colorbar\":{\"outlinewidth\":0,\"ticks\":\"\"},\"colorscale\":[[0.0,\"#0d0887\"],[0.1111111111111111,\"#46039f\"],[0.2222222222222222,\"#7201a8\"],[0.3333333333333333,\"#9c179e\"],[0.4444444444444444,\"#bd3786\"],[0.5555555555555556,\"#d8576b\"],[0.6666666666666666,\"#ed7953\"],[0.7777777777777778,\"#fb9f3a\"],[0.8888888888888888,\"#fdca26\"],[1.0,\"#f0f921\"]]}],\"heatmap\":[{\"type\":\"heatmap\",\"colorbar\":{\"outlinewidth\":0,\"ticks\":\"\"},\"colorscale\":[[0.0,\"#0d0887\"],[0.1111111111111111,\"#46039f\"],[0.2222222222222222,\"#7201a8\"],[0.3333333333333333,\"#9c179e\"],[0.4444444444444444,\"#bd3786\"],[0.5555555555555556,\"#d8576b\"],[0.6666666666666666,\"#ed7953\"],[0.7777777777777778,\"#fb9f3a\"],[0.8888888888888888,\"#fdca26\"],[1.0,\"#f0f921\"]]}],\"heatmapgl\":[{\"type\":\"heatmapgl\",\"colorbar\":{\"outlinewidth\":0,\"ticks\":\"\"},\"colorscale\":[[0.0,\"#0d0887\"],[0.1111111111111111,\"#46039f\"],[0.2222222222222222,\"#7201a8\"],[0.3333333333333333,\"#9c179e\"],[0.4444444444444444,\"#bd3786\"],[0.5555555555555556,\"#d8576b\"],[0.6666666666666666,\"#ed7953\"],[0.7777777777777778,\"#fb9f3a\"],[0.8888888888888888,\"#fdca26\"],[1.0,\"#f0f921\"]]}],\"contourcarpet\":[{\"type\":\"contourcarpet\",\"colorbar\":{\"outlinewidth\":0,\"ticks\":\"\"}}],\"contour\":[{\"type\":\"contour\",\"colorbar\":{\"outlinewidth\":0,\"ticks\":\"\"},\"colorscale\":[[0.0,\"#0d0887\"],[0.1111111111111111,\"#46039f\"],[0.2222222222222222,\"#7201a8\"],[0.3333333333333333,\"#9c179e\"],[0.4444444444444444,\"#bd3786\"],[0.5555555555555556,\"#d8576b\"],[0.6666666666666666,\"#ed7953\"],[0.7777777777777778,\"#fb9f3a\"],[0.8888888888888888,\"#fdca26\"],[1.0,\"#f0f921\"]]}],\"surface\":[{\"type\":\"surface\",\"colorbar\":{\"outlinewidth\":0,\"ticks\":\"\"},\"colorscale\":[[0.0,\"#0d0887\"],[0.1111111111111111,\"#46039f\"],[0.2222222222222222,\"#7201a8\"],[0.3333333333333333,\"#9c179e\"],[0.4444444444444444,\"#bd3786\"],[0.5555555555555556,\"#d8576b\"],[0.6666666666666666,\"#ed7953\"],[0.7777777777777778,\"#fb9f3a\"],[0.8888888888888888,\"#fdca26\"],[1.0,\"#f0f921\"]]}],\"mesh3d\":[{\"type\":\"mesh3d\",\"colorbar\":{\"outlinewidth\":0,\"ticks\":\"\"}}],\"scatter\":[{\"fillpattern\":{\"fillmode\":\"overlay\",\"size\":10,\"solidity\":0.2},\"type\":\"scatter\"}],\"parcoords\":[{\"type\":\"parcoords\",\"line\":{\"colorbar\":{\"outlinewidth\":0,\"ticks\":\"\"}}}],\"scatterpolargl\":[{\"type\":\"scatterpolargl\",\"marker\":{\"colorbar\":{\"outlinewidth\":0,\"ticks\":\"\"}}}],\"bar\":[{\"error_x\":{\"color\":\"#2a3f5f\"},\"error_y\":{\"color\":\"#2a3f5f\"},\"marker\":{\"line\":{\"color\":\"#E5ECF6\",\"width\":0.5},\"pattern\":{\"fillmode\":\"overlay\",\"size\":10,\"solidity\":0.2}},\"type\":\"bar\"}],\"scattergeo\":[{\"type\":\"scattergeo\",\"marker\":{\"colorbar\":{\"outlinewidth\":0,\"ticks\":\"\"}}}],\"scatterpolar\":[{\"type\":\"scatterpolar\",\"marker\":{\"colorbar\":{\"outlinewidth\":0,\"ticks\":\"\"}}}],\"histogram\":[{\"marker\":{\"pattern\":{\"fillmode\":\"overlay\",\"size\":10,\"solidity\":0.2}},\"type\":\"histogram\"}],\"scattergl\":[{\"type\":\"scattergl\",\"marker\":{\"colorbar\":{\"outlinewidth\":0,\"ticks\":\"\"}}}],\"scatter3d\":[{\"type\":\"scatter3d\",\"line\":{\"colorbar\":{\"outlinewidth\":0,\"ticks\":\"\"}},\"marker\":{\"colorbar\":{\"outlinewidth\":0,\"ticks\":\"\"}}}],\"scattermapbox\":[{\"type\":\"scattermapbox\",\"marker\":{\"colorbar\":{\"outlinewidth\":0,\"ticks\":\"\"}}}],\"scatterternary\":[{\"type\":\"scatterternary\",\"marker\":{\"colorbar\":{\"outlinewidth\":0,\"ticks\":\"\"}}}],\"scattercarpet\":[{\"type\":\"scattercarpet\",\"marker\":{\"colorbar\":{\"outlinewidth\":0,\"ticks\":\"\"}}}],\"carpet\":[{\"aaxis\":{\"endlinecolor\":\"#2a3f5f\",\"gridcolor\":\"white\",\"linecolor\":\"white\",\"minorgridcolor\":\"white\",\"startlinecolor\":\"#2a3f5f\"},\"baxis\":{\"endlinecolor\":\"#2a3f5f\",\"gridcolor\":\"white\",\"linecolor\":\"white\",\"minorgridcolor\":\"white\",\"startlinecolor\":\"#2a3f5f\"},\"type\":\"carpet\"}],\"table\":[{\"cells\":{\"fill\":{\"color\":\"#EBF0F8\"},\"line\":{\"color\":\"white\"}},\"header\":{\"fill\":{\"color\":\"#C8D4E3\"},\"line\":{\"color\":\"white\"}},\"type\":\"table\"}],\"barpolar\":[{\"marker\":{\"line\":{\"color\":\"#E5ECF6\",\"width\":0.5},\"pattern\":{\"fillmode\":\"overlay\",\"size\":10,\"solidity\":0.2}},\"type\":\"barpolar\"}],\"pie\":[{\"automargin\":true,\"type\":\"pie\"}]},\"layout\":{\"autotypenumbers\":\"strict\",\"colorway\":[\"#636efa\",\"#EF553B\",\"#00cc96\",\"#ab63fa\",\"#FFA15A\",\"#19d3f3\",\"#FF6692\",\"#B6E880\",\"#FF97FF\",\"#FECB52\"],\"font\":{\"color\":\"#2a3f5f\"},\"hovermode\":\"closest\",\"hoverlabel\":{\"align\":\"left\"},\"paper_bgcolor\":\"white\",\"plot_bgcolor\":\"#E5ECF6\",\"polar\":{\"bgcolor\":\"#E5ECF6\",\"angularaxis\":{\"gridcolor\":\"white\",\"linecolor\":\"white\",\"ticks\":\"\"},\"radialaxis\":{\"gridcolor\":\"white\",\"linecolor\":\"white\",\"ticks\":\"\"}},\"ternary\":{\"bgcolor\":\"#E5ECF6\",\"aaxis\":{\"gridcolor\":\"white\",\"linecolor\":\"white\",\"ticks\":\"\"},\"baxis\":{\"gridcolor\":\"white\",\"linecolor\":\"white\",\"ticks\":\"\"},\"caxis\":{\"gridcolor\":\"white\",\"linecolor\":\"white\",\"ticks\":\"\"}},\"coloraxis\":{\"colorbar\":{\"outlinewidth\":0,\"ticks\":\"\"}},\"colorscale\":{\"sequential\":[[0.0,\"#0d0887\"],[0.1111111111111111,\"#46039f\"],[0.2222222222222222,\"#7201a8\"],[0.3333333333333333,\"#9c179e\"],[0.4444444444444444,\"#bd3786\"],[0.5555555555555556,\"#d8576b\"],[0.6666666666666666,\"#ed7953\"],[0.7777777777777778,\"#fb9f3a\"],[0.8888888888888888,\"#fdca26\"],[1.0,\"#f0f921\"]],\"sequentialminus\":[[0.0,\"#0d0887\"],[0.1111111111111111,\"#46039f\"],[0.2222222222222222,\"#7201a8\"],[0.3333333333333333,\"#9c179e\"],[0.4444444444444444,\"#bd3786\"],[0.5555555555555556,\"#d8576b\"],[0.6666666666666666,\"#ed7953\"],[0.7777777777777778,\"#fb9f3a\"],[0.8888888888888888,\"#fdca26\"],[1.0,\"#f0f921\"]],\"diverging\":[[0,\"#8e0152\"],[0.1,\"#c51b7d\"],[0.2,\"#de77ae\"],[0.3,\"#f1b6da\"],[0.4,\"#fde0ef\"],[0.5,\"#f7f7f7\"],[0.6,\"#e6f5d0\"],[0.7,\"#b8e186\"],[0.8,\"#7fbc41\"],[0.9,\"#4d9221\"],[1,\"#276419\"]]},\"xaxis\":{\"gridcolor\":\"white\",\"linecolor\":\"white\",\"ticks\":\"\",\"title\":{\"standoff\":15},\"zerolinecolor\":\"white\",\"automargin\":true,\"zerolinewidth\":2},\"yaxis\":{\"gridcolor\":\"white\",\"linecolor\":\"white\",\"ticks\":\"\",\"title\":{\"standoff\":15},\"zerolinecolor\":\"white\",\"automargin\":true,\"zerolinewidth\":2},\"scene\":{\"xaxis\":{\"backgroundcolor\":\"#E5ECF6\",\"gridcolor\":\"white\",\"linecolor\":\"white\",\"showbackground\":true,\"ticks\":\"\",\"zerolinecolor\":\"white\",\"gridwidth\":2},\"yaxis\":{\"backgroundcolor\":\"#E5ECF6\",\"gridcolor\":\"white\",\"linecolor\":\"white\",\"showbackground\":true,\"ticks\":\"\",\"zerolinecolor\":\"white\",\"gridwidth\":2},\"zaxis\":{\"backgroundcolor\":\"#E5ECF6\",\"gridcolor\":\"white\",\"linecolor\":\"white\",\"showbackground\":true,\"ticks\":\"\",\"zerolinecolor\":\"white\",\"gridwidth\":2}},\"shapedefaults\":{\"line\":{\"color\":\"#2a3f5f\"}},\"annotationdefaults\":{\"arrowcolor\":\"#2a3f5f\",\"arrowhead\":0,\"arrowwidth\":1},\"geo\":{\"bgcolor\":\"white\",\"landcolor\":\"#E5ECF6\",\"subunitcolor\":\"white\",\"showland\":true,\"showlakes\":true,\"lakecolor\":\"white\"},\"title\":{\"x\":0.05},\"mapbox\":{\"style\":\"light\"}}}},                        {\"responsive\": true}                    ).then(function(){\n",
       "                            \n",
       "var gd = document.getElementById('6b7aa4bf-a0cb-42f5-8e0b-dba84048e733');\n",
       "var x = new MutationObserver(function (mutations, observer) {{\n",
       "        var display = window.getComputedStyle(gd).display;\n",
       "        if (!display || display === 'none') {{\n",
       "            console.log([gd, 'removed!']);\n",
       "            Plotly.purge(gd);\n",
       "            observer.disconnect();\n",
       "        }}\n",
       "}});\n",
       "\n",
       "// Listen for the removal of the full notebook cells\n",
       "var notebookContainer = gd.closest('#notebook-container');\n",
       "if (notebookContainer) {{\n",
       "    x.observe(notebookContainer, {childList: true});\n",
       "}}\n",
       "\n",
       "// Listen for the clearing of the current output cell\n",
       "var outputEl = gd.closest('.output');\n",
       "if (outputEl) {{\n",
       "    x.observe(outputEl, {childList: true});\n",
       "}}\n",
       "\n",
       "                        })                };                });            </script>        </div>"
      ]
     },
     "metadata": {},
     "output_type": "display_data"
    }
   ],
   "source": [
    "fig = op.visualization.plot_intermediate_values(study)\n",
    "fig.show()"
   ]
  },
  {
   "cell_type": "markdown",
   "id": "8d65f6b0",
   "metadata": {
    "papermill": {
     "duration": 0.018383,
     "end_time": "2023-01-17T21:39:08.300510",
     "exception": false,
     "start_time": "2023-01-17T21:39:08.282127",
     "status": "completed"
    },
    "tags": []
   },
   "source": [
    "# Model Training"
   ]
  },
  {
   "cell_type": "code",
   "execution_count": 21,
   "id": "6fe15fcf",
   "metadata": {
    "execution": {
     "iopub.execute_input": "2023-01-17T21:39:08.339162Z",
     "iopub.status.busy": "2023-01-17T21:39:08.338182Z",
     "iopub.status.idle": "2023-01-17T21:39:08.709260Z",
     "shell.execute_reply": "2023-01-17T21:39:08.708212Z"
    },
    "papermill": {
     "duration": 0.393245,
     "end_time": "2023-01-17T21:39:08.711863",
     "exception": false,
     "start_time": "2023-01-17T21:39:08.318618",
     "status": "completed"
    },
    "tags": []
   },
   "outputs": [
    {
     "name": "stdout",
     "output_type": "stream",
     "text": [
      "[LightGBM] [Warning] feature_fraction is set=0.7664729878100122, colsample_bytree=1.0 will be ignored. Current value: feature_fraction=0.7664729878100122\n",
      "[LightGBM] [Warning] lambda_l1 is set=0.011275010242960529, reg_alpha=0.0 will be ignored. Current value: lambda_l1=0.011275010242960529\n",
      "[LightGBM] [Warning] bagging_fraction is set=0.9159150490160863, subsample=1.0 will be ignored. Current value: bagging_fraction=0.9159150490160863\n",
      "[LightGBM] [Warning] lambda_l2 is set=0.0032813361527887267, reg_lambda=0.0 will be ignored. Current value: lambda_l2=0.0032813361527887267\n",
      "[LightGBM] [Warning] bagging_freq is set=2, subsample_freq=0 will be ignored. Current value: bagging_freq=2\n"
     ]
    },
    {
     "data": {
      "text/plain": [
       "LGBMClassifier(bagging_fraction=0.9159150490160863, bagging_freq=2,\n",
       "               feature_fraction=0.7664729878100122,\n",
       "               lambda_l1=0.011275010242960529, lambda_l2=0.0032813361527887267,\n",
       "               max_depth=28, min_child_samples=9, num_leaves=218)"
      ]
     },
     "execution_count": 21,
     "metadata": {},
     "output_type": "execute_result"
    }
   ],
   "source": [
    "best_params = study.best_params\n",
    "model = lg.LGBMClassifier(**best_params)\n",
    "model.fit(x_val, y_val, verbose=0)"
   ]
  },
  {
   "cell_type": "markdown",
   "id": "ea0ac963",
   "metadata": {
    "papermill": {
     "duration": 0.018094,
     "end_time": "2023-01-17T21:39:08.748660",
     "exception": false,
     "start_time": "2023-01-17T21:39:08.730566",
     "status": "completed"
    },
    "tags": []
   },
   "source": [
    "# Prediction & Submission"
   ]
  },
  {
   "cell_type": "code",
   "execution_count": 22,
   "id": "df165c07",
   "metadata": {
    "execution": {
     "iopub.execute_input": "2023-01-17T21:39:08.787751Z",
     "iopub.status.busy": "2023-01-17T21:39:08.787329Z",
     "iopub.status.idle": "2023-01-17T21:39:08.834677Z",
     "shell.execute_reply": "2023-01-17T21:39:08.833652Z"
    },
    "papermill": {
     "duration": 0.069584,
     "end_time": "2023-01-17T21:39:08.837224",
     "exception": false,
     "start_time": "2023-01-17T21:39:08.767640",
     "status": "completed"
    },
    "tags": []
   },
   "outputs": [
    {
     "data": {
      "text/plain": [
       "0.9205552787793324"
      ]
     },
     "execution_count": 22,
     "metadata": {},
     "output_type": "execute_result"
    }
   ],
   "source": [
    "test_pred = model.predict_proba(x)[:, 1]\n",
    "roc_auc_score(y, test_pred)"
   ]
  },
  {
   "cell_type": "code",
   "execution_count": 23,
   "id": "bfb9a92b",
   "metadata": {
    "execution": {
     "iopub.execute_input": "2023-01-17T21:39:08.877433Z",
     "iopub.status.busy": "2023-01-17T21:39:08.876992Z",
     "iopub.status.idle": "2023-01-17T21:39:08.920743Z",
     "shell.execute_reply": "2023-01-17T21:39:08.919534Z"
    },
    "papermill": {
     "duration": 0.066656,
     "end_time": "2023-01-17T21:39:08.923701",
     "exception": false,
     "start_time": "2023-01-17T21:39:08.857045",
     "status": "completed"
    },
    "tags": []
   },
   "outputs": [
    {
     "data": {
      "text/html": [
       "<div>\n",
       "<style scoped>\n",
       "    .dataframe tbody tr th:only-of-type {\n",
       "        vertical-align: middle;\n",
       "    }\n",
       "\n",
       "    .dataframe tbody tr th {\n",
       "        vertical-align: top;\n",
       "    }\n",
       "\n",
       "    .dataframe thead th {\n",
       "        text-align: right;\n",
       "    }\n",
       "</style>\n",
       "<table border=\"1\" class=\"dataframe\">\n",
       "  <thead>\n",
       "    <tr style=\"text-align: right;\">\n",
       "      <th></th>\n",
       "      <th>id</th>\n",
       "      <th>Attrition</th>\n",
       "    </tr>\n",
       "  </thead>\n",
       "  <tbody>\n",
       "    <tr>\n",
       "      <th>0</th>\n",
       "      <td>1677</td>\n",
       "      <td>0.056057</td>\n",
       "    </tr>\n",
       "    <tr>\n",
       "      <th>1</th>\n",
       "      <td>1678</td>\n",
       "      <td>0.000461</td>\n",
       "    </tr>\n",
       "    <tr>\n",
       "      <th>2</th>\n",
       "      <td>1679</td>\n",
       "      <td>0.001308</td>\n",
       "    </tr>\n",
       "    <tr>\n",
       "      <th>3</th>\n",
       "      <td>1680</td>\n",
       "      <td>0.000651</td>\n",
       "    </tr>\n",
       "    <tr>\n",
       "      <th>4</th>\n",
       "      <td>1681</td>\n",
       "      <td>0.693144</td>\n",
       "    </tr>\n",
       "  </tbody>\n",
       "</table>\n",
       "</div>"
      ],
      "text/plain": [
       "     id  Attrition\n",
       "0  1677   0.056057\n",
       "1  1678   0.000461\n",
       "2  1679   0.001308\n",
       "3  1680   0.000651\n",
       "4  1681   0.693144"
      ]
     },
     "execution_count": 23,
     "metadata": {},
     "output_type": "execute_result"
    }
   ],
   "source": [
    "pred = model.predict_proba(test_lgb)[:, 1]\n",
    "submission = pd.DataFrame({\"id\": test.id, \"Attrition\": pred})\n",
    "submission.head()"
   ]
  },
  {
   "cell_type": "code",
   "execution_count": 24,
   "id": "2685b890",
   "metadata": {
    "execution": {
     "iopub.execute_input": "2023-01-17T21:39:08.963518Z",
     "iopub.status.busy": "2023-01-17T21:39:08.963127Z",
     "iopub.status.idle": "2023-01-17T21:39:08.974596Z",
     "shell.execute_reply": "2023-01-17T21:39:08.973026Z"
    },
    "papermill": {
     "duration": 0.035054,
     "end_time": "2023-01-17T21:39:08.978060",
     "exception": false,
     "start_time": "2023-01-17T21:39:08.943006",
     "status": "completed"
    },
    "tags": []
   },
   "outputs": [],
   "source": [
    "submission.to_csv(\"submission.csv\", index=False)"
   ]
  }
 ],
 "metadata": {
  "kernelspec": {
   "display_name": "Python 3",
   "language": "python",
   "name": "python3"
  },
  "language_info": {
   "codemirror_mode": {
    "name": "ipython",
    "version": 3
   },
   "file_extension": ".py",
   "mimetype": "text/x-python",
   "name": "python",
   "nbconvert_exporter": "python",
   "pygments_lexer": "ipython3",
   "version": "3.7.12"
  },
  "papermill": {
   "default_parameters": {},
   "duration": 1770.391158,
   "end_time": "2023-01-17T21:39:09.923660",
   "environment_variables": {},
   "exception": null,
   "input_path": "__notebook__.ipynb",
   "output_path": "__notebook__.ipynb",
   "parameters": {},
   "start_time": "2023-01-17T21:09:39.532502",
   "version": "2.3.4"
  }
 },
 "nbformat": 4,
 "nbformat_minor": 5
}
