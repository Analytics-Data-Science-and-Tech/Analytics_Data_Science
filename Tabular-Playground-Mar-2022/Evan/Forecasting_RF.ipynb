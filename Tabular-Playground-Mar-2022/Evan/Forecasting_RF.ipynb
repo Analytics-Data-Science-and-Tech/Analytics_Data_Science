{
 "cells": [
  {
   "cell_type": "markdown",
   "metadata": {},
   "source": [
    "## Forecasting congestion in October with Random Forest"
   ]
  },
  {
   "cell_type": "code",
   "execution_count": 1,
   "metadata": {},
   "outputs": [],
   "source": [
    "## Importing libraries\n",
    "import warnings\n",
    "import numpy as np\n",
    "import pandas as pd\n",
    "import rf_modeling as rf_m\n",
    "from sklearn.ensemble import RandomForestRegressor\n",
    "from sklearn.model_selection import train_test_split, GridSearchCV\n",
    "pd.set_option('display.max_columns', 50)\n",
    "from sklearn.exceptions import DataConversionWarning\n",
    "warnings.filterwarnings(action='ignore', category=DataConversionWarning)"
   ]
  },
  {
   "cell_type": "code",
   "execution_count": 2,
   "metadata": {},
   "outputs": [
    {
     "data": {
      "text/html": [
       "<div>\n",
       "<style scoped>\n",
       "    .dataframe tbody tr th:only-of-type {\n",
       "        vertical-align: middle;\n",
       "    }\n",
       "\n",
       "    .dataframe tbody tr th {\n",
       "        vertical-align: top;\n",
       "    }\n",
       "\n",
       "    .dataframe thead th {\n",
       "        text-align: right;\n",
       "    }\n",
       "</style>\n",
       "<table border=\"1\" class=\"dataframe\">\n",
       "  <thead>\n",
       "    <tr style=\"text-align: right;\">\n",
       "      <th></th>\n",
       "      <th>row_id</th>\n",
       "      <th>time</th>\n",
       "      <th>x</th>\n",
       "      <th>y</th>\n",
       "      <th>direction</th>\n",
       "      <th>congestion</th>\n",
       "    </tr>\n",
       "  </thead>\n",
       "  <tbody>\n",
       "    <tr>\n",
       "      <th>0</th>\n",
       "      <td>0</td>\n",
       "      <td>1991-04-01</td>\n",
       "      <td>0</td>\n",
       "      <td>0</td>\n",
       "      <td>EB</td>\n",
       "      <td>70</td>\n",
       "    </tr>\n",
       "    <tr>\n",
       "      <th>1</th>\n",
       "      <td>1</td>\n",
       "      <td>1991-04-01</td>\n",
       "      <td>0</td>\n",
       "      <td>0</td>\n",
       "      <td>NB</td>\n",
       "      <td>49</td>\n",
       "    </tr>\n",
       "    <tr>\n",
       "      <th>2</th>\n",
       "      <td>2</td>\n",
       "      <td>1991-04-01</td>\n",
       "      <td>0</td>\n",
       "      <td>0</td>\n",
       "      <td>SB</td>\n",
       "      <td>24</td>\n",
       "    </tr>\n",
       "    <tr>\n",
       "      <th>3</th>\n",
       "      <td>3</td>\n",
       "      <td>1991-04-01</td>\n",
       "      <td>0</td>\n",
       "      <td>1</td>\n",
       "      <td>EB</td>\n",
       "      <td>18</td>\n",
       "    </tr>\n",
       "    <tr>\n",
       "      <th>4</th>\n",
       "      <td>4</td>\n",
       "      <td>1991-04-01</td>\n",
       "      <td>0</td>\n",
       "      <td>1</td>\n",
       "      <td>NB</td>\n",
       "      <td>60</td>\n",
       "    </tr>\n",
       "  </tbody>\n",
       "</table>\n",
       "</div>"
      ],
      "text/plain": [
       "   row_id       time  x  y direction  congestion\n",
       "0       0 1991-04-01  0  0        EB          70\n",
       "1       1 1991-04-01  0  0        NB          49\n",
       "2       2 1991-04-01  0  0        SB          24\n",
       "3       3 1991-04-01  0  1        EB          18\n",
       "4       4 1991-04-01  0  1        NB          60"
      ]
     },
     "execution_count": 2,
     "metadata": {},
     "output_type": "execute_result"
    }
   ],
   "source": [
    "## Reading the data sets\n",
    "train = pd.read_csv('/Users/EvanCallaghan/Documents/Data_Science_Group/Analytics_Data_Science/Forecasting_Traffic_Flow/Data/train.csv')\n",
    "test = pd.read_csv('/Users/EvanCallaghan/Documents/Data_Science_Group/Analytics_Data_Science/Forecasting_Traffic_Flow/Data/test.csv')\n",
    "\n",
    "## Getting the 'time' variable in the proper format\n",
    "train['time'] = pd.to_datetime(train['time'], format = '%Y-%m-%d %H:%M:%S')\n",
    "test['time'] = pd.to_datetime(test['time'], format = '%Y-%m-%d %H:%M:%S')\n",
    "\n",
    "## Printing the first five observations\n",
    "train.head()"
   ]
  },
  {
   "cell_type": "markdown",
   "metadata": {},
   "source": [
    "### Variable Engineering:"
   ]
  },
  {
   "cell_type": "code",
   "execution_count": 3,
   "metadata": {},
   "outputs": [],
   "source": [
    "## Extracting day, hour and minute\n",
    "train['day'] = train['time'].dt.dayofweek\n",
    "train['hour'] = train['time'].dt.hour\n",
    "train['minute'] = train['time'].dt.minute\n",
    "\n",
    "test['day'] = test['time'].dt.dayofweek\n",
    "test['hour'] = test['time'].dt.hour\n",
    "test['minute'] = test['time'].dt.minute\n",
    "\n",
    "## Changing direction to dummies\n",
    "train = pd.concat([train, pd.get_dummies(train['direction'])], axis = 1)\n",
    "test = pd.concat([test, pd.get_dummies(test['direction'])], axis = 1)"
   ]
  },
  {
   "cell_type": "markdown",
   "metadata": {},
   "source": [
    "### Modeling:"
   ]
  },
  {
   "cell_type": "code",
   "execution_count": 4,
   "metadata": {},
   "outputs": [
    {
     "name": "stdout",
     "output_type": "stream",
     "text": [
      "Working on direction: EB\n",
      "Working on location: ( 0 , 0 )\n",
      "Working on location: ( 0 , 1 )\n",
      "Working on location: ( 0 , 2 )\n",
      "Working on location: ( 0 , 3 )\n",
      "Working on location: ( 1 , 0 )\n",
      "Working on location: ( 1 , 1 )\n",
      "Working on location: ( 1 , 2 )\n",
      "Working on location: ( 1 , 3 )\n",
      "Working on location: ( 2 , 0 )\n",
      "Working on location: ( 2 , 1 )\n",
      "Working on location: ( 2 , 2 )\n",
      "Working on location: ( 2 , 3 )\n",
      "Working on direction: NB\n",
      "Working on location: ( 0 , 0 )\n",
      "Working on location: ( 0 , 1 )\n",
      "Working on location: ( 0 , 2 )\n",
      "Working on location: ( 0 , 3 )\n",
      "Working on location: ( 1 , 0 )\n",
      "Working on location: ( 1 , 1 )\n",
      "Working on location: ( 1 , 2 )\n",
      "Working on location: ( 1 , 3 )\n",
      "Working on location: ( 2 , 0 )\n",
      "Working on location: ( 2 , 1 )\n",
      "Working on location: ( 2 , 2 )\n",
      "Working on location: ( 2 , 3 )\n",
      "Working on direction: SB\n",
      "Working on location: ( 0 , 0 )\n",
      "Working on location: ( 0 , 1 )\n",
      "Working on location: ( 0 , 2 )\n",
      "Working on location: ( 0 , 3 )\n",
      "Working on location: ( 1 , 0 )\n",
      "Working on location: ( 1 , 1 )\n",
      "Working on location: ( 1 , 2 )\n",
      "Working on location: ( 1 , 3 )\n",
      "Working on location: ( 2 , 0 )\n",
      "Working on location: ( 2 , 1 )\n",
      "Working on location: ( 2 , 2 )\n",
      "Working on location: ( 2 , 3 )\n",
      "Working on direction: WB\n",
      "Working on location: ( 0 , 1 )\n",
      "Working on location: ( 0 , 2 )\n",
      "Working on location: ( 0 , 3 )\n",
      "Working on location: ( 0 , 0 )\n",
      "Working on location: ( 1 , 1 )\n",
      "Working on location: ( 1 , 2 )\n",
      "Working on location: ( 1 , 3 )\n",
      "Working on location: ( 1 , 0 )\n",
      "Working on location: ( 2 , 1 )\n",
      "Working on location: ( 2 , 2 )\n",
      "Working on location: ( 2 , 3 )\n",
      "Working on location: ( 2 , 0 )\n",
      "Working on direction: NE\n",
      "Working on location: ( 0 , 3 )\n",
      "Working on location: ( 0 , 0 )\n",
      "Working on location: ( 0 , 2 )\n",
      "Working on location: ( 0 , 1 )\n",
      "Working on location: ( 1 , 3 )\n",
      "Working on location: ( 1 , 0 )\n",
      "Working on location: ( 1 , 2 )\n",
      "Working on location: ( 1 , 1 )\n",
      "Working on location: ( 2 , 3 )\n",
      "Working on location: ( 2 , 0 )\n",
      "Working on location: ( 2 , 2 )\n",
      "Working on location: ( 2 , 1 )\n",
      "Working on direction: SW\n",
      "Working on location: ( 0 , 3 )\n",
      "Working on location: ( 0 , 0 )\n",
      "Working on location: ( 0 , 2 )\n",
      "Working on location: ( 0 , 1 )\n",
      "Working on location: ( 1 , 3 )\n",
      "Working on location: ( 1 , 0 )\n",
      "Working on location: ( 1 , 2 )\n",
      "Working on location: ( 1 , 1 )\n",
      "Working on location: ( 2 , 3 )\n",
      "Working on location: ( 2 , 0 )\n",
      "Working on location: ( 2 , 2 )\n",
      "Working on location: ( 2 , 1 )\n",
      "Working on direction: NW\n",
      "Working on location: ( 2 , 1 )\n",
      "Working on location: ( 2 , 2 )\n",
      "Working on direction: SE\n",
      "Working on location: ( 2 , 1 )\n",
      "Working on location: ( 2 , 2 )\n"
     ]
    }
   ],
   "source": [
    "## Calling the 'main_rf' function in the rf_modeling script\n",
    "results = rf_m.main_rf(train, test)\n",
    "\n",
    "## Storing results as csv files\n",
    "results[0].to_csv('results_validation.csv', index = False)\n",
    "results[1].to_csv('results_test.csv', index = False)"
   ]
  },
  {
   "cell_type": "markdown",
   "metadata": {},
   "source": [
    "### Evaluation:"
   ]
  },
  {
   "cell_type": "code",
   "execution_count": 6,
   "metadata": {},
   "outputs": [
    {
     "name": "stdout",
     "output_type": "stream",
     "text": [
      "MAE of validation set predictions: 6.725180149993974\n"
     ]
    }
   ],
   "source": [
    "from sklearn.metrics import mean_absolute_error\n",
    "\n",
    "## Reading the newly created validation results data set\n",
    "validation = pd.read_csv('results_validation.csv')\n",
    "\n",
    "## Computing the MAE of congestion predictions\n",
    "print('MAE of validation set predictions:', mean_absolute_error(validation['congestion'], validation['congestion_pred']))"
   ]
  }
 ],
 "metadata": {
  "kernelspec": {
   "display_name": "Python 3",
   "language": "python",
   "name": "python3"
  },
  "language_info": {
   "codemirror_mode": {
    "name": "ipython",
    "version": 3
   },
   "file_extension": ".py",
   "mimetype": "text/x-python",
   "name": "python",
   "nbconvert_exporter": "python",
   "pygments_lexer": "ipython3",
   "version": "3.8.3"
  }
 },
 "nbformat": 4,
 "nbformat_minor": 4
}
