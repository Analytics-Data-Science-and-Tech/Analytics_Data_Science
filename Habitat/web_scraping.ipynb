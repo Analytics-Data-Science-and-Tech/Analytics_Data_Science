{
 "cells": [
  {
   "cell_type": "code",
   "execution_count": 7,
   "id": "6d2a6c9a",
   "metadata": {},
   "outputs": [
    {
     "data": {
      "text/plain": [
       "b'<!DOCTYPE html>\\n<html lang=\"en-US\">\\n<head>\\n    <title>Just a moment...</title>\\n    <meta http-equiv=\"Content-Type\" content=\"text/html; charset=UTF-8\" />\\n    <meta http-equiv=\"X-UA-Compatible\" content=\"IE=Edge\" />\\n    <meta name=\"robots\" content=\"noindex,nofollow\" />\\n    <meta name=\"viewport\" content=\"width=device-width,initial-scale=1\" />\\n    <link href=\"/cdn-cgi/styles/challenges.css\" rel=\"stylesheet\" />\\n    \\n\\n</head>\\n<body class=\"no-js\">\\n    <div class=\"main-wrapper\" role=\"main\">\\n    <div class=\"main-content\">\\n        <h1 class=\"zone-name-title h1\">\\n            <img class=\"heading-favicon\" src=\"/favicon.ico\"\\n                 onerror=\"this.onerror=null;this.parentNode.removeChild(this)\" />\\n            beacon.schneidercorp.com\\n        </h1>\\n        <h2 class=\"h2\" id=\"challenge-running\">\\n            Checking if the site connection is secure\\n        </h2>\\n        <noscript>\\n            <div id=\"challenge-error-title\">\\n                <div class=\"h2\">\\n                    <span class=\"icon-wrapper\">\\n                        <div class=\"heading-icon warning-icon\"></div>\\n                    </span>\\n                    <span id=\"challenge-error-text\">\\n                        Enable JavaScript and cookies to continue\\n                    </span>\\n                </div>\\n            </div>\\n        </noscript>\\n        <div id=\"trk_jschal_js\" style=\"display:none;background-image:url(\\'/cdn-cgi/images/trace/managed/nojs/transparent.gif?ray=74b62b1e3d3c9c2e\\')\"></div>\\n        <div id=\"challenge-body-text\" class=\"core-msg spacer\">\\n            beacon.schneidercorp.com needs to review the security of your connection before proceeding.\\n        </div>\\n        <form id=\"challenge-form\" action=\"/Application.aspx?AppID=325&amp;LayerID=3398&amp;PageTypeID=4&amp;PageID=2264&amp;Q=2066176320&amp;KeyValue=0835107007&amp;__cf_chl_f_tk=vYzaz.uH5QyHW.qBgnf.KIqZYddqnyDMJvUndTX0y78-1663295303-0-gaNycGzNB2U\" method=\"POST\" enctype=\"application/x-www-form-urlencoded\">\\n            <input type=\"hidden\" name=\"md\" value=\"nuXeGgBd0AUjjNwz8._J66.CKQoYjUKdp7_t36uTyWA-1663295303-0-AaZw_kBXaJPPq4uwN7KZBsevW72ZEDKdzMSNpHnp3kFm204bvXp8149e4xQEjctBFue3BahAJwUFZsxlc1oaTlrRdQwyFXdnzhI8dpGksQA8f-ixs7zi7Qk8t6QhTivYNG_7zyUXw6reRto8SMIxM8MAmX5sfBAm1bVD6g1Tv2iCk4GnOu8EeacwsWfrmmZ76-blQdrAMc38Fj5QnJV_e_VIaDezAY-o8i7YhTNQfeJE1pvUOXx8SROAlkZYZWJG0CORkLxCkZF1UMmQmzZx0ynYHcwno7THRCcQczLNMjNfgj1VFQEE8VXGMxz6h0Nl5iX_08Ae1hfevzuo506Lm2WVSgBgN-N6ZLbXHkAHjAkK3fgiT_0QMKsfVhwUMzDfnGnO8ORp2ZQrXjtw62xsKCVIleZJA9as_baA6h42V8GMw-PQRds8HkrccMWn6KNPDgJWhA0-nUwBnRko1QEqmEXjEG9XmDXeO8eZ850Igi5oY_wT2SIuVabbT3bZ39zpzFBkRoIVGWmIhbr1ZkoPYG3yxwO7Qjb2QbBOiey6g_aXPrRqEHyAum_M6-bVpXeCQQiYsvANGGTTITX1DKr_zwYoLKrCjN3EBeJUXrl9zRpNmkKbhrkDZpHY_SP6lDT6QHGrzA4jgJ4DDeC4mYVvfwUivEdnEkJmYxv_csoyFEns_NL7n-qT7gzjJckK_qBwDrJe6rcCLr0YpkWIQYo_w0tjwd_O2S9P194bTkmdMYE1oMj61D302-OwMlphr5pfFx-AFgr9oils1xxaQl3ie3wa3o0EC7Ip6AJ0-dTRvXUcVkvr8QJMp6KDFR2q1dM596nPRO2P-zktE3B7ZvG1h79NcK97GuVdDh9Vj0MauytoWvAX5AIA68BLYTQDWb8cW8BQLfWmNa76qSCQlzlYgBWRvLV0ys8AakN2MIhtmrq3XH5mxJKcnwJZ_8O5Wfq-JCuwtliywvVB2lkSgL65MIg\" />\\n            <input type=\"hidden\" name=\"r\" value=\"yDvB9KuRzR502YYeV8jkOjBMuJnl.W_2staf3eNJ2T0-1663295303-0-AUYqqbC0TRvAMzzFlWdhbT7CUP31NvARvOretk0JP9GXzrWETl7dCmN99ntMJjKm3W5tzFQ8jBSpq/SQF1MH/k16sqEgnV0ZM1AjKU3+Nz5umFp/031WF950FoKusSWDy+vdPU6U4FgpOcm65FZTFXXH+a2VnnV4K0xhdAsDmXRT3SbL42TxAjWzUsUpTUet3u7tP4hTS+kgchChU207HWG1Fv4/XvHVRJHD/rvPa/szyEfcHVmZCDb36mVwuXfiRlRIIlTqaIFxEr+rSKwX9nu/1vUdaRvVuNRhNogXHllr2+7W30WUDligt17ydkcjPZ/+NOrr5AS0FQR5HSP/zG74F9Y/7WvmxyMFYNFyrOCWbyjqsznxu4hVIx0VSBFNXWFuu/I52di0HihrMwyqu3FZm4FdkekCW9aK8NCHZu/PhAZOBW2AlMB1rAy4ieW92gBQjPSyqDVam900q+C8uvMRojTaPZvyRwn5QR74ZCWNpwD6r/JdeFKq31HEHaf0Zol3d1hZtHdKlwyKVHoSdwvyhjvta9NOV2fJevjK+YX/PL1eR4uMISodhGKB/b3IM2SnB7jbEtob+ExmrfWSOEg1FzqlX2uyqYKAVNXbEAmlV0ftc/WvEgC0fKQbGrlqMZLU/loRZZsNVACLbzTrOwfQ5alKssBjOLG3p24qoOjqy4UKIjZitw25VSpsUWr9FZ4HC4jI/9wRJ+O2xCqYKJ+yn2lEJf/v/HB/sYdKXflP5sw0BC9MNxBdFgDlUg4HH1BmdaVMq2PcVYam+yq5Zma739PfUKwsoDgZ6ncRTNVKMVx01n+0F/Nd+2+XdfsIEprp+D9Zs3bRQY7OQAS4bdmfcvrVVBIENAMCQUgHOa9CJNpCGR/mmoXpAvkptEGfrIwOLIIEd4Pn6ZSjOLx0aSZhLiasVw6mRiM2ki8MhAu1UMx7/3v3YN2QPx5V15Wnzh7Lf+ihlreJXkwvzTlyWtDYkV8uPShjheETpq9zCEXWtZ3lDkltWp/pVs+3etVywkq+s747gSjljCoq/rQYW9A90aOjwNevZ580AsTOf22lLNkvGjt+ZyFNHtWs/WieKZ3Bq0S5OJuMbDVaDJ344o5U7sav8WxOqqpsq+2CmnisNkwz0Ydftk6WM+imeRraIXWuCS0IN6geZJT/tnfjkFhwzApS081iX3nZrLp2OBXO/Hz6xczm3Jol7B5INyzXU01aTY80vNJrAXPIRerYNWQntetsFzqXv3dEhHI9jFotx98XurHC0LwPfV3Lz1k9Bmm4xOemLdSzAb3wJDU1fcrpbkQMUcsESu5+1680NjjLFzs/kTsV2vnolbW3BZyjhHJ60bIr6YTjrF6VQgcSLJn6wmo/eGOuPF/Hc400jpjIWUy2BGVyBqcJgPaqF5yZpXB5PKqGLn4RtlVc0arjytqWf0x9XDSAbUyqazKn3J2qRfoK7CELShamFpUc0slFG/VRaPPpdl1lPvqJ7ehPwB8i7T/VYb51sET/tD8nVgamBVEZa8T9RolUYQTwlp23dLajih0Q+YM2HDr8vST2k3514j+LJEYspXQP+FVxuFooKXxV+yMyHv+hC9WXSzKCzWd8ISVybxFwfUYr5DS5L3U0NceT2hTXAx8ZVR05zwsqF3YyqSQdlyVTI6vuWvZF1ThqJ+9/zfTD91jAOUvw1PE9562ztGxdLtjSTYop5YNqQq98xE/L5XcBQos93dHpPUWF20OzE7XPynjdJ1DXQOVbVkOJZmGD+uqmwzWjhsQ0jhBSQdgruC4Udx/GRTnPYv+vdOAkcS6SE24etjMs93Du4X5dGPxQ2nGPLRBslyG7\"/>\\n        </form>\\n    </div>\\n</div>\\n<script>\\n    (function(){\\n        window._cf_chl_opt={\\n            cvId: \\'2\\',\\n            cType: \\'managed\\',\\n            cNounce: \\'16046\\',\\n            cRay: \\'74b62b1e3d3c9c2e\\',\\n            cHash: \\'67074e6d595af50\\',\\n            cUPMDTk: \"\\\\/Application.aspx?AppID=325&LayerID=3398&PageTypeID=4&PageID=2264&Q=2066176320&KeyValue=0835107007&__cf_chl_tk=vYzaz.uH5QyHW.qBgnf.KIqZYddqnyDMJvUndTX0y78-1663295303-0-gaNycGzNB2U\",\\n            cFPWv: \\'b\\',\\n            cTTimeMs: \\'1000\\',\\n            cTplV: 4,\\n            cTplB: \\'cf\\',\\n            cRq: {\\n                ru: \\'aHR0cHM6Ly9iZWFjb24uc2NobmVpZGVyY29ycC5jb20vQXBwbGljYXRpb24uYXNweD9BcHBJRD0zMjUmTGF5ZXJJRD0zMzk4JlBhZ2VUeXBlSUQ9NCZQYWdlSUQ9MjI2NCZRPTIwNjYxNzYzMjAmS2V5VmFsdWU9MDgzNTEwNzAwNw==\\',\\n                ra: \\'cHl0aG9uLXJlcXVlc3RzLzIuMjYuMA==\\',\\n                rm: \\'R0VU\\',\\n                d: \\'Wa4KClwnOgaBmV/uNfyig5nBFxLaB1slp1mIYxqtbvqaDyDuNKoAWs+XKmnvjqgFCUarKwrsu75wIABvjHxTop3WQ2f+0B3b4df3ejhgo0qqYEPCZlgM/9hWvj/C7ImGujn0z/vSgzCA+/NOPsYqnammM+UKVL+aEgPl0RXv7q0ixTaqOK/KqEUWkw5KCWsRCr+A/NhxpqFYJWGi+JNQkYXB2JEOfafcTmnplaVOY1MTyZWcGBZ7wk8bwuGZFoFcQvXpBm5VE39f2uNsTpoMxuaIUViH/vuopE4cplkwaoWp4166GLLwpynYWOJ16y1iw0ULAVeQwwMLDbjLWUWP7vDTPLq/cejuPl7wnEJGpMS5UgPVuKFQvrh1p7zFnwKjacKOdZCxpOMe69n9shPUAa7IYew46hH2P7gh2LsuAIbLtJy4QA/w2XJd/Vym/rojj5S58i4h4QbBC24pXL8/u41uX4OEdySqlT3mqrQ9m19vubwtQ30PYDUum2kxzq+OxTEvBsK+2wK+yMagJ8VQLlpGCZZsw4kuROOe1bZJPcA1OGOa6+j1lDeC3arKG/bam0tM0jXfdb6/yPtawU62aDIxfkk0/p4eiAjktvHnxsyiOLnumA3/z9CU7htmJBG2FewzU8yU0loQVikRYpqYzJuocPVzOUZt7YRsLxJpKnMifn3HRHLl/1SwJUoWDZne\\',\\n                t: \\'MTY2MzI5NTMwMy40MTAwMDA=\\',\\n                m: \\'4De7MpurHE3oipp8dQAqvHkKhNyJOL6adPoJ8yvICfA=\\',\\n                i1: \\'PPZNDfknZffVlli6mY/Kcw==\\',\\n                i2: \\'p0uIdcYFeRpZnfJd8NbjiQ==\\',\\n                zh: \\'9PbOsqhSKsLpjRc2OkMWk0h/2bQLoa45/u0P1gLq0HY=\\',\\n                uh: \\'xaa5dII6Z3KyYGzGAu/zTXOfAYzLW3WlpO4dxW/Wc8c=\\',\\n                hh: \\'z1PLu2KPJfY2I4YzfUIJyk5iSeOJDT8VV7UBO5WLEL4=\\',\\n            }\\n        };\\n        var trkjs = document.createElement(\\'img\\');\\n        trkjs.setAttribute(\\'src\\', \\'/cdn-cgi/images/trace/managed/js/transparent.gif?ray=74b62b1e3d3c9c2e\\');\\n        trkjs.setAttribute(\\'style\\', \\'display: none\\');\\n        document.body.appendChild(trkjs);\\n        var cpo = document.createElement(\\'script\\');\\n        cpo.src = \\'/cdn-cgi/challenge-platform/h/b/orchestrate/managed/v1?ray=74b62b1e3d3c9c2e\\';\\n        window._cf_chl_opt.cOgUHash = location.hash === \\'\\' && location.href.indexOf(\\'#\\') !== -1 ? \\'#\\' : location.hash;\\n        window._cf_chl_opt.cOgUQuery = location.search === \\'\\' && location.href.slice(0, -window._cf_chl_opt.cOgUHash.length).indexOf(\\'?\\') !== -1 ? \\'?\\' : location.search;\\n        if (window.history && window.history.replaceState) {\\n            var ogU = location.pathname + window._cf_chl_opt.cOgUQuery + window._cf_chl_opt.cOgUHash;\\n            history.replaceState(null, null, \"\\\\/Application.aspx?AppID=325&LayerID=3398&PageTypeID=4&PageID=2264&Q=2066176320&KeyValue=0835107007&__cf_chl_rt_tk=vYzaz.uH5QyHW.qBgnf.KIqZYddqnyDMJvUndTX0y78-1663295303-0-gaNycGzNB2U\" + window._cf_chl_opt.cOgUHash);\\n            cpo.onload = function() {\\n                history.replaceState(null, null, ogU);\\n            };\\n        }\\n        document.getElementsByTagName(\\'head\\')[0].appendChild(cpo);\\n    }());\\n</script>\\n\\n    <div class=\"footer\" role=\"contentinfo\">\\n        <div class=\"footer-inner\">\\n            <div class=\"clearfix diagnostic-wrapper\">\\n                <div class=\"ray-id\">Ray ID: <code>74b62b1e3d3c9c2e</code></div>\\n            </div>\\n            <div class=\"text-center\">Performance &amp; security by <a rel=\"noopener noreferrer\" href=\"https://www.cloudflare.com?utm_source=challenge&utm_campaign=m\" target=\"_blank\">Cloudflare</a></div>\\n        </div>\\n    </div>\\n</body>\\n</html>\\n'"
      ]
     },
     "execution_count": 7,
     "metadata": {},
     "output_type": "execute_result"
    }
   ],
   "source": [
    "import requests\n",
    "from bs4 import BeautifulSoup\n",
    "\n",
    "URL = 'https://beacon.schneidercorp.com/Application.aspx?AppID=325&LayerID=3398&PageTypeID=4&PageID=2264&Q=2066176320&KeyValue=0835107007'\n",
    "page = requests.get(URL)\n",
    "\n",
    "page.content\n",
    "# soup = BeautifulSoup(page.content, \"html.parser\")"
   ]
  },
  {
   "cell_type": "code",
   "execution_count": 6,
   "id": "11746210",
   "metadata": {},
   "outputs": [
    {
     "data": {
      "text/plain": [
       "<!DOCTYPE html>\n",
       "\n",
       "<html lang=\"en-US\">\n",
       "<head>\n",
       "<title>Just a moment...</title>\n",
       "<meta content=\"text/html; charset=utf-8\" http-equiv=\"Content-Type\"/>\n",
       "<meta content=\"IE=Edge\" http-equiv=\"X-UA-Compatible\"/>\n",
       "<meta content=\"noindex,nofollow\" name=\"robots\"/>\n",
       "<meta content=\"width=device-width,initial-scale=1\" name=\"viewport\"/>\n",
       "<link href=\"/cdn-cgi/styles/challenges.css\" rel=\"stylesheet\"/>\n",
       "</head>\n",
       "<body class=\"no-js\">\n",
       "<div class=\"main-wrapper\" role=\"main\">\n",
       "<div class=\"main-content\">\n",
       "<h1 class=\"zone-name-title h1\">\n",
       "<img class=\"heading-favicon\" onerror=\"this.onerror=null;this.parentNode.removeChild(this)\" src=\"/favicon.ico\"/>\n",
       "            beacon.schneidercorp.com\n",
       "        </h1>\n",
       "<h2 class=\"h2\" id=\"challenge-running\">\n",
       "            Checking if the site connection is secure\n",
       "        </h2>\n",
       "<noscript>\n",
       "<div id=\"challenge-error-title\">\n",
       "<div class=\"h2\">\n",
       "<span class=\"icon-wrapper\">\n",
       "<div class=\"heading-icon warning-icon\"></div>\n",
       "</span>\n",
       "<span id=\"challenge-error-text\">\n",
       "                        Enable JavaScript and cookies to continue\n",
       "                    </span>\n",
       "</div>\n",
       "</div>\n",
       "</noscript>\n",
       "<div id=\"trk_jschal_js\" style=\"display:none;background-image:url('/cdn-cgi/images/trace/managed/nojs/transparent.gif?ray=74b6268b48417009')\"></div>\n",
       "<div class=\"core-msg spacer\" id=\"challenge-body-text\">\n",
       "            beacon.schneidercorp.com needs to review the security of your connection before proceeding.\n",
       "        </div>\n",
       "<form action=\"/Application.aspx?AppID=325&amp;LayerID=3398&amp;PageTypeID=4&amp;PageID=2264&amp;Q=2066176320&amp;KeyValue=0835107007&amp;__cf_chl_f_tk=Lgzx8kYEqZBD8.n7_A0vTyvXHChdA3o.lKBlC81yZFU-1663295116-0-gaNycGzNB1E\" enctype=\"application/x-www-form-urlencoded\" id=\"challenge-form\" method=\"POST\">\n",
       "<input name=\"md\" type=\"hidden\" value=\"i3NpVZnSMJSAD7OffFdKdW0sc.AkJuVE02cWIgBF1u0-1663295116-0-AfV4oOHhNpdyliLbX5tv02CrY-sIs4gRWu6X1r0ZH6FVC3Dw_JxDSp2db9jeFZdogq1luFAENy16eWZ2_SwAqyTEB7qrDSUsTYxoJUn2WshA0ikajk3mSDjODKB7d2z4L6ADismEl6XfSxDowytRydTmyZEX4y9qgsw0r469HGjZx-kj1iYQq1M9yFGluswYRCqEkTwob0x55aws61JCptxS2dTyNwfb9x8JFwmjrlDtHj95teLCjPfKMXFWtSHBcSkfKs7u1UfrxYzgmt5BxJnlATvWeV4W603tuPIQnU6G5ahTUENotjOKTp0XjnOPaatYo82OZstYWnr2vfToPMWwdtLtHn6hWuP-B_w37_7M-xPPd5hla4grylCQsNqDpbjeVOmRUJ8N-zOvzAUlnmAqTtgcH5rFG2Zum0ja95XloTq6Y1qUY7uaPTmu6UVFpt3UrwQKAn0H5T7A5FPSmyZZLz_sKYqlGD3v6UVQ2ILzEOUJL_gTGEDogu3wc1gfAw6YroHRyCDyoZja6UrZukgUn5OqZbyspZAi1omFcA47TlFB0Y_-ZOpelj_K1DqRHix9ipTpmPj6K6oYtOjqsQcDx-oNXygHuLtCX23nT_tjBq6_iK4BanNtXl4h7DDRvoyrzUTSOeD_QLd1tUCoUVx_CmmenkqEvZaLHJEfPitEkE-OyUbmcWhtJzhO-sFE_Yyfr0nn9zk0Nn1EDJPdPkNAkSORFpkYdlBRkvZTr9ZWec6lelXtNJ2d_ISXyUuViT-OWM_H39cQi3NpxZ0laJGMa88CfMC85JITjkWPdMwloRR38Lk038doYgbcYFlRmpE_s_Za72S_tvhqwfsO2bxvFOKFYoXLSj4kieHVTzQY3LDgAdLqD4if4njOUbY7hwKONfMXFA7PRhTbc2u3TPGW6wjLWB5YTg9FDvSH2X31peT5K0ILDak_OLWlz6d7KiETd9R34btwDMfUqf1T4ns\"/>\n",
       "<input name=\"r\" type=\"hidden\" value=\"elFN6WsEPIYfNUAIryI2UNMeu_chz1WwS10YSWbcJuQ-1663295116-0-AeZ2/FNjDyQ3GASFKJkh6N/BrTQsWNW/50qZuTCwu6y+ate0KHWhVZnqKC1+1rqX+NmaRu6ZkPivPIq6b3dBb0nFg+pvBZq/ydKqRew1oc3mgmA8yzZPoV2im3sEM4mv4EAQRnEmKnYuExZK/LaSqWOuJ0XMV0PDoX54cnR9XWJYhohyZuEfpFZFTEjvMKOWO+lnkf136SHBR88LGj9JYeRMMdGHOlRosS11rOjoj/E0mjlDtFciMrruKW1zp9l0NmVjEJeocUcA2mOyTe2dTZtmm4fUiL11YlHxt3PAitpdfPB3k+Wr63SM+KmL7XnCs1haSpQ5wnJfNAIois0KPIVea7obn05At/7eXkhkuqsyGIZN0wqczBrA83o0JWCa4AkjPvh5B2+jztKk9MiZBZnqCypRiGJTqGZA1Iwd9O7j8Th59z1HYGm7GhmkwcIDVq7XdJ0lcmYM0mSGqmBlXghZyF/fUc9NL5kWPFee9bhEXtdm62gzkr5vZelHBzOxOSUCjwfzJfO7bwmuo1+ze1hM/PY+vvM6LrLVaRnDBlQPbSYyaC55/diz/b+bJjPED5aXyI3JaDNqcqSvW/fpVuous+Gz08rvzZBIcHJ5MxeHP3/tdo/95m6ivbpYdGxqeM3TARUM9v2d9GimbmuwJU6pY3RXLXfjhrR+1zifCU6tHfv+lxNCeV1WXM6mwoMSJWqHF972HB634d5qGD/pvR/7Uo4FlHVr2NnfxCEQoNgHm9FL3fiLC9vdVTmVWEipLpSlsBQ6RJqGTZkadUTMbrxe/IysE0HKgRfrv9y6VXpniALBsHq34gEfQWlHLoWbG1lvOw3rbXM4SPc+DOOW6B/ttx2uiQKFJ0JHYBlkICTrp29Mw23l3HmzH9x564Bufg5YWK+qwZj1ZfeFZLRVKbJeBWG8yYbSxfpLYPbjCorbdpKa8PuzZvueRsLNvRz0DnUozW0dNWjKo/QkD0v+SIOFqB9JdG8fOXzBIPRj69iJ6gPAANTxfRKlUB62OG1Y4WIpLtj0e8h3YQJehZl3qxDVMYNU+A2DhTP3GPFJ7aYCB/IKGLffLNTtll3NqiQ3Ur/JZfmvaSpavdPcJNDN1P2/E67fZ0lVhiroWAm9hrSm4rWSU2Oswpwu7uxYXWfB+0ne0NA7UWWOb6XL2tJmiWfdqhuN1qnvJqEq8VKUpvvNCb7NptbAc5IYIcFjshfsjfRpoM1PYb1dIsG2IjD4MOITZNp7iP5IdO0Fb9XXBrJ5CxKWSVNyycI6gGaPnrO3PjFslqI2eIbXqQeXLL3fe0esw1qW2lvX1EGJ2VNqYlCfbamYdak2FVnmLjpL+uizGHCW+AOizfrxZoGUh6Cpwtx37KClG480zuERwaW18M8D2gtIdN72nuF+SeI+w3G2ChIOtkbiwpFowjc4kMUQSklvzkKb7L7riio9XflePrJk9eUl3+aYmPylVH59pUfVXG80wnCgTtbpkE7HB3m3hiMeQDS0X7LKq1YbUAqK0hjbnibSWHfKYx2YUzsRhlLTOYC9A1pb26oX96RRl8SZh0Vj4NDUTIZwuP8QknVkuc3h1pbSj2y1NOyEmKQOSejMIdzQpB3wx0Nopp/+TDYMz27uwsWYKbHrcBgZyG/GH8LENyScXXx8oQvE9NeigKoJMVPsa77zPG65Gd3yuneGxwnJkM0dzrWIjFmwF7I27AFvWHv0BTRcMRHKSPESP+NijbhtqDGKjs9P0p0diVxLEyBEqDGKsLm7i3PlCJDNaL9MGOVwO/JPUzmsLSnPhd+T0NRXEJ0J9ZPGVje2UiYGuQ8=\"/>\n",
       "</form>\n",
       "</div>\n",
       "</div>\n",
       "<script>\n",
       "    (function(){\n",
       "        window._cf_chl_opt={\n",
       "            cvId: '2',\n",
       "            cType: 'managed',\n",
       "            cNounce: '29103',\n",
       "            cRay: '74b6268b48417009',\n",
       "            cHash: '6fdfbc0ce943510',\n",
       "            cUPMDTk: \"\\/Application.aspx?AppID=325&LayerID=3398&PageTypeID=4&PageID=2264&Q=2066176320&KeyValue=0835107007&__cf_chl_tk=Lgzx8kYEqZBD8.n7_A0vTyvXHChdA3o.lKBlC81yZFU-1663295116-0-gaNycGzNB1E\",\n",
       "            cFPWv: 'b',\n",
       "            cTTimeMs: '1000',\n",
       "            cTplV: 4,\n",
       "            cTplB: 'cf',\n",
       "            cRq: {\n",
       "                ru: 'aHR0cHM6Ly9iZWFjb24uc2NobmVpZGVyY29ycC5jb20vQXBwbGljYXRpb24uYXNweD9BcHBJRD0zMjUmTGF5ZXJJRD0zMzk4JlBhZ2VUeXBlSUQ9NCZQYWdlSUQ9MjI2NCZRPTIwNjYxNzYzMjAmS2V5VmFsdWU9MDgzNTEwNzAwNw==',\n",
       "                ra: 'cHl0aG9uLXJlcXVlc3RzLzIuMjYuMA==',\n",
       "                rm: 'R0VU',\n",
       "                d: 'uSzEqYrPEuM1Di7GGaPPDhtrIAjuvWXnoA9nMGupeRg2HtfO5TaP2xOZhUrtzgd3vilm8rFpvpVQt9VEIvIrxDru7Sd4ZIdiQN/jrXnErKrGBTfJnEwlOFdk7T0uKwjgiTmsfPVF32cY9iXQEf3xunaHafBiVQ5jn9JaqmoX95xip1amSXY7hDfb2SJiinwg3fLW3FzqkEiS/94L/3rfaZvN4w5ATVY9n6L0P4WgAMhLas2O0Rsjppz3Zko02d7O2VVf5jy7sA/zMuWDjGQ6jqnffdHMKc/SYj0BLSQ8j9GzZzbrb/QnrQnTEr/QfFktidsmxtDLPVAzeVs9ve1SUrtz9giRIU/DhQe1JuOQafxdEipiuVdhnHKnlg7jJVOTPHxI1wOkvpRyw3juNw1vMEPgNWILnsk9CLwkqijioZJm0ckWYBI2uKygEJnS6FQhnUvsl6i1iLk3nuWKPltElhEizCPP+5aun6PMgQfq5vIQC3t0IlwaTiuMrYz08FDm2vWa5u9E+M4sTkIRKk4F81ZZQhZc7BZrksV/c0jZ4kiYPdQFAkEK8srSXyvUNf0gTRyJUVGT9ksrqCMeAXXwAnyj0e/fON21aeImIOId+FQxYXyuWf01oE5/dEr4bjCfoSZqB5t3jcWWLjgQ8rxYjYAn8NUOrIpJ5lHE5bTuSmnJQRoNSL5SK9ElrhQXEDcg',\n",
       "                t: 'MTY2MzI5NTExNi4wNDkwMDA=',\n",
       "                m: 'd+PDD+bbtK5NnPiTCwC7Rw16BBpdvbH99qkIa94Lets=',\n",
       "                i1: 'VhXkVohKQRUA7nNpgDUaYA==',\n",
       "                i2: 'aX/J+QLw7ghUZ3Crjsa/hw==',\n",
       "                zh: '9PbOsqhSKsLpjRc2OkMWk0h/2bQLoa45/u0P1gLq0HY=',\n",
       "                uh: 'xaa5dII6Z3KyYGzGAu/zTXOfAYzLW3WlpO4dxW/Wc8c=',\n",
       "                hh: 'z1PLu2KPJfY2I4YzfUIJyk5iSeOJDT8VV7UBO5WLEL4=',\n",
       "            }\n",
       "        };\n",
       "        var trkjs = document.createElement('img');\n",
       "        trkjs.setAttribute('src', '/cdn-cgi/images/trace/managed/js/transparent.gif?ray=74b6268b48417009');\n",
       "        trkjs.setAttribute('style', 'display: none');\n",
       "        document.body.appendChild(trkjs);\n",
       "        var cpo = document.createElement('script');\n",
       "        cpo.src = '/cdn-cgi/challenge-platform/h/b/orchestrate/managed/v1?ray=74b6268b48417009';\n",
       "        window._cf_chl_opt.cOgUHash = location.hash === '' && location.href.indexOf('#') !== -1 ? '#' : location.hash;\n",
       "        window._cf_chl_opt.cOgUQuery = location.search === '' && location.href.slice(0, -window._cf_chl_opt.cOgUHash.length).indexOf('?') !== -1 ? '?' : location.search;\n",
       "        if (window.history && window.history.replaceState) {\n",
       "            var ogU = location.pathname + window._cf_chl_opt.cOgUQuery + window._cf_chl_opt.cOgUHash;\n",
       "            history.replaceState(null, null, \"\\/Application.aspx?AppID=325&LayerID=3398&PageTypeID=4&PageID=2264&Q=2066176320&KeyValue=0835107007&__cf_chl_rt_tk=Lgzx8kYEqZBD8.n7_A0vTyvXHChdA3o.lKBlC81yZFU-1663295116-0-gaNycGzNB1E\" + window._cf_chl_opt.cOgUHash);\n",
       "            cpo.onload = function() {\n",
       "                history.replaceState(null, null, ogU);\n",
       "            };\n",
       "        }\n",
       "        document.getElementsByTagName('head')[0].appendChild(cpo);\n",
       "    }());\n",
       "</script>\n",
       "<div class=\"footer\" role=\"contentinfo\">\n",
       "<div class=\"footer-inner\">\n",
       "<div class=\"clearfix diagnostic-wrapper\">\n",
       "<div class=\"ray-id\">Ray ID: <code>74b6268b48417009</code></div>\n",
       "</div>\n",
       "<div class=\"text-center\">Performance &amp; security by <a href=\"https://www.cloudflare.com?utm_source=challenge&amp;utm_campaign=m\" rel=\"noopener noreferrer\" target=\"_blank\">Cloudflare</a></div>\n",
       "</div>\n",
       "</div>\n",
       "</body>\n",
       "</html>"
      ]
     },
     "execution_count": 6,
     "metadata": {},
     "output_type": "execute_result"
    }
   ],
   "source": [
    "soup"
   ]
  }
 ],
 "metadata": {
  "kernelspec": {
   "display_name": "conda_python3",
   "language": "python",
   "name": "conda_python3"
  },
  "language_info": {
   "codemirror_mode": {
    "name": "ipython",
    "version": 3
   },
   "file_extension": ".py",
   "mimetype": "text/x-python",
   "name": "python",
   "nbconvert_exporter": "python",
   "pygments_lexer": "ipython3",
   "version": "3.8.12"
  }
 },
 "nbformat": 4,
 "nbformat_minor": 5
}
