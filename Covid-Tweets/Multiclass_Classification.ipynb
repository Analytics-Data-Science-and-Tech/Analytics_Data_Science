{
 "cells": [
  {
   "cell_type": "code",
   "execution_count": null,
   "id": "9cf066a4",
   "metadata": {},
   "outputs": [],
   "source": [
    "import pandas as pd\n",
    "import numpy as np\n",
    "import matplotlib.pyplot as plt\n",
    "from sklearn.preprocessing import MinMaxScaler\n",
    "from sklearn.model_selection import train_test_split\n",
    "import tensorflow as tf\n",
    "\n",
    "\n",
    "## Reading data-file\n",
    "train = pd.read_csv('train.csv')\n",
    "test = pd.read_csv('test.csv')\n",
    "\n",
    "## Defining input and target\n",
    "X = train.drop(columns = ['text', 'reply_to_screen_name', 'hashtags', 'country'], axis = 1)\n",
    "Y = train['country']\n",
    "Y = np.where(Y == 'us', 0, \n",
    "             np.where(Y == 'uk', 1, \n",
    "                      np.where(Y == 'canada', 2, \n",
    "                               np.where(Y == 'australia', 3,\n",
    "                                        np.where(Y == 'ireland', 4, 5)))))\n",
    "\n",
    "## Splitting the data \n",
    "X_train, X_test, Y_train, Y_test = train_test_split(X, Y, train_size = 0.2)\n",
    "\n",
    "## Scaling the data \n",
    "scaler = MinMaxScaler()\n",
    "X_train = scaler.fit_transform(X_train)\n",
    "X_test = scaler.fit_transform(X_test)\n",
    "\n",
    "## Defining model \n",
    "model = tf.keras.models.Sequential([\n",
    "        tf.keras.layers.Dense(10, input_dim =  15, activation = 'relu'),\n",
    "#         tf.keras.layers.Dense(10, input_dim =  15, activation = 'relu'),\n",
    "        tf.keras.layers.Dense(6, activation = 'softmax')\n",
    "])\n",
    "\n",
    "model.compile(optimizer = 'adam', loss = 'categorical_crossentropy', metrics = ['accuracy'])\n",
    "\n",
    "## Fitting model \n",
    "history = model.fit(X_train, tf.keras.utils.to_categorical(Y_train, num_classes = 6), epochs = 10, batch_size = 32, validation_data = (X_test, tf.keras.utils.to_categorical(Y_test, num_classes = 6)))"
   ]
  },
  {
   "cell_type": "code",
   "execution_count": null,
   "id": "f4b69ca8",
   "metadata": {},
   "outputs": [],
   "source": [
    "fig = plt.figure(figsize = (12, 8))\n",
    "\n",
    "## Visualization of accuracy in train and test datasets\n",
    "plt.plot(history.history['accuracy'])\n",
    "plt.plot(history.history['val_accuracy'])\n",
    "plt.title('Model accuracy')\n",
    "plt.ylabel('Accuracy')\n",
    "plt.xlabel('Epoch')\n",
    "plt.legend(['Train', 'Test'], loc = 'upper left')\n",
    "plt.grid()\n",
    "plt.show()"
   ]
  },
  {
   "cell_type": "code",
   "execution_count": null,
   "id": "c32d1bc2",
   "metadata": {},
   "outputs": [],
   "source": [
    "test = scaler.fit_transform(test)"
   ]
  },
  {
   "cell_type": "code",
   "execution_count": null,
   "id": "f7b4ac21",
   "metadata": {},
   "outputs": [],
   "source": [
    "x = model.predict(test)\n",
    "x = np.argmax(x, axis = 1)\n",
    "x"
   ]
  },
  {
   "cell_type": "code",
   "execution_count": null,
   "id": "129bd1cc",
   "metadata": {},
   "outputs": [],
   "source": [
    "import boto3\n",
    "import pandas as pd; pd.set_option('display.max_columns', 100)\n",
    "import numpy as np\n",
    "import matplotlib.pyplot as plt\n",
    "import seaborn as sns\n",
    "from sklearn.tree import DecisionTreeClassifier, plot_tree\n",
    "from sklearn.ensemble import RandomForestClassifier\n",
    "from sklearn.model_selection import GridSearchCV, train_test_split\n",
    "from sklearn.multiclass import OneVsRestClassifier\n",
    "# from xgboost import XGBClassifier\n",
    "\n",
    "from Help_Funs import count_chars, count_words, count_capital_chars, count_capital_words, count_sent, count_unique_words, count_stopwords, count_hashtags \n",
    "\n",
    "s3 = boto3.resource('s3')\n",
    "bucket_name = 'analytics-data-science-competitions'\n",
    "bucket = s3.Bucket(bucket_name)\n",
    "\n",
    "file_key_1 = 'Covid-tweets/training_data.csv'\n",
    "file_key_2 = 'Covid-tweets/test_data.csv'\n",
    "\n",
    "bucket_object_1 = bucket.Object(file_key_1)\n",
    "file_object_1 = bucket_object_1.get()\n",
    "file_content_stream_1 = file_object_1.get('Body')\n",
    "\n",
    "bucket_object_2 = bucket.Object(file_key_2)\n",
    "file_object_2 = bucket_object_2.get()\n",
    "file_content_stream_2 = file_object_2.get('Body')\n",
    "\n",
    "## Reading data-files\n",
    "train = pd.read_csv(file_content_stream_1)\n",
    "test = pd.read_csv(file_content_stream_2)\n"
   ]
  },
  {
   "cell_type": "code",
   "execution_count": null,
   "id": "57367e1e",
   "metadata": {},
   "outputs": [],
   "source": [
    "test_id = test['Id']"
   ]
  },
  {
   "cell_type": "code",
   "execution_count": null,
   "id": "be4ff74e",
   "metadata": {},
   "outputs": [],
   "source": [
    "data_out = pd.DataFrame({'Id': test_id, 'Category': x})\n",
    "data_out['Category'] = np.where(data_out['Category'] == 0, 'us',\n",
    "                                np.where(data_out['Category'] == 1, 'uk',\n",
    "                                         np.where(data_out['Category'] == 2, 'canada',\n",
    "                                                  np.where(data_out['Category'] == 3, 'australia',\n",
    "                                                           np.where(data_out['Category'] == 4, 'ireland', 'new_zealand')))))\n",
    "\n",
    "# data_out.to_csv('LightGBM_submission_md.csv', index = False)"
   ]
  },
  {
   "cell_type": "code",
   "execution_count": null,
   "id": "13fd0629",
   "metadata": {},
   "outputs": [],
   "source": [
    "data_out['Category'].value_counts()"
   ]
  },
  {
   "cell_type": "code",
   "execution_count": null,
   "id": "4c585c30",
   "metadata": {},
   "outputs": [],
   "source": [
    "data_out.to_csv('network_submission_md_1.csv', index = False)"
   ]
  },
  {
   "cell_type": "code",
   "execution_count": null,
   "id": "cfd5b966",
   "metadata": {},
   "outputs": [],
   "source": [
    "history = model.fit(X_train, tf.keras.utils.to_categorical(Y_train, num_classes = 6), epochs = 10, batch_size = 32, validation_data = (X_test, tf.keras.utils.to_categorical(Y_test, num_classes = 6)))"
   ]
  },
  {
   "cell_type": "code",
   "execution_count": null,
   "id": "5f07821e",
   "metadata": {},
   "outputs": [],
   "source": [
    "X_train.shape"
   ]
  },
  {
   "cell_type": "code",
   "execution_count": null,
   "id": "a749e68d",
   "metadata": {},
   "outputs": [],
   "source": [
    "tf.keras.utils.to_categorical(Y_train, num_classes = 6)"
   ]
  },
  {
   "cell_type": "code",
   "execution_count": null,
   "id": "8fa2d7c6",
   "metadata": {},
   "outputs": [],
   "source": [
    "Y_train"
   ]
  },
  {
   "cell_type": "code",
   "execution_count": null,
   "id": "5b074442",
   "metadata": {},
   "outputs": [],
   "source": [
    "tf.keras.utils.to_categorical(Y_test, num_classes = 6)"
   ]
  },
  {
   "cell_type": "code",
   "execution_count": null,
   "id": "c3ac8c02",
   "metadata": {},
   "outputs": [],
   "source": [
    "Y_test"
   ]
  },
  {
   "cell_type": "markdown",
   "id": "6868b0c6",
   "metadata": {},
   "source": [
    "# Experiements"
   ]
  },
  {
   "cell_type": "code",
   "execution_count": 6,
   "id": "9ff05427",
   "metadata": {},
   "outputs": [
    {
     "name": "stdout",
     "output_type": "stream",
     "text": [
      "Epoch 1/20\n",
      "750/750 [==============================] - 4s 4ms/step - loss: 1.4419 - accuracy: 0.3094 - val_loss: 1.3476 - val_accuracy: 0.3203\n",
      "Epoch 2/20\n",
      "750/750 [==============================] - 3s 4ms/step - loss: 1.3466 - accuracy: 0.3193 - val_loss: 1.3435 - val_accuracy: 0.3170\n",
      "Epoch 3/20\n",
      "750/750 [==============================] - 3s 4ms/step - loss: 1.3432 - accuracy: 0.3249 - val_loss: 1.3403 - val_accuracy: 0.3388\n",
      "Epoch 4/20\n",
      "750/750 [==============================] - 3s 4ms/step - loss: 1.3417 - accuracy: 0.3335 - val_loss: 1.3405 - val_accuracy: 0.3217\n",
      "Epoch 5/20\n",
      "750/750 [==============================] - 3s 4ms/step - loss: 1.3397 - accuracy: 0.3364 - val_loss: 1.3363 - val_accuracy: 0.3454\n",
      "Epoch 6/20\n",
      "750/750 [==============================] - 3s 4ms/step - loss: 1.3384 - accuracy: 0.3404 - val_loss: 1.3355 - val_accuracy: 0.3447\n",
      "Epoch 7/20\n",
      "750/750 [==============================] - 3s 5ms/step - loss: 1.3371 - accuracy: 0.3417 - val_loss: 1.3356 - val_accuracy: 0.3455\n",
      "Epoch 8/20\n",
      "750/750 [==============================] - 3s 4ms/step - loss: 1.3366 - accuracy: 0.3494 - val_loss: 1.3349 - val_accuracy: 0.3424\n",
      "Epoch 9/20\n",
      "750/750 [==============================] - 3s 4ms/step - loss: 1.3361 - accuracy: 0.3475 - val_loss: 1.3350 - val_accuracy: 0.3403\n",
      "Epoch 10/20\n",
      "750/750 [==============================] - 3s 4ms/step - loss: 1.3357 - accuracy: 0.3485 - val_loss: 1.3349 - val_accuracy: 0.3410\n",
      "Epoch 11/20\n",
      "750/750 [==============================] - 3s 4ms/step - loss: 1.3352 - accuracy: 0.3493 - val_loss: 1.3341 - val_accuracy: 0.3446\n",
      "Epoch 12/20\n",
      "750/750 [==============================] - 3s 4ms/step - loss: 1.3350 - accuracy: 0.3495 - val_loss: 1.3331 - val_accuracy: 0.3473\n",
      "Epoch 13/20\n",
      "750/750 [==============================] - 3s 5ms/step - loss: 1.3346 - accuracy: 0.3502 - val_loss: 1.3332 - val_accuracy: 0.3471\n",
      "Epoch 14/20\n",
      "750/750 [==============================] - 3s 4ms/step - loss: 1.3342 - accuracy: 0.3496 - val_loss: 1.3335 - val_accuracy: 0.3479\n",
      "Epoch 15/20\n",
      "750/750 [==============================] - 3s 4ms/step - loss: 1.3344 - accuracy: 0.3499 - val_loss: 1.3352 - val_accuracy: 0.3417\n",
      "Epoch 16/20\n",
      "750/750 [==============================] - 3s 4ms/step - loss: 1.3337 - accuracy: 0.3508 - val_loss: 1.3326 - val_accuracy: 0.3472\n",
      "Epoch 17/20\n",
      "750/750 [==============================] - 3s 4ms/step - loss: 1.3336 - accuracy: 0.3513 - val_loss: 1.3352 - val_accuracy: 0.3413\n",
      "Epoch 18/20\n",
      "750/750 [==============================] - 3s 4ms/step - loss: 1.3336 - accuracy: 0.3516 - val_loss: 1.3374 - val_accuracy: 0.3415\n",
      "Epoch 19/20\n",
      "750/750 [==============================] - 3s 4ms/step - loss: 1.3334 - accuracy: 0.3519 - val_loss: 1.3340 - val_accuracy: 0.3450\n",
      "Epoch 20/20\n",
      "750/750 [==============================] - 3s 4ms/step - loss: 1.3330 - accuracy: 0.3526 - val_loss: 1.3364 - val_accuracy: 0.3358\n"
     ]
    },
    {
     "data": {
      "image/png": "[encoded data removed]",
      "text/plain": [
       "<Figure size 864x576 with 1 Axes>"
      ]
     },
     "metadata": {
      "needs_background": "light"
     },
     "output_type": "display_data"
    }
   ],
   "source": [
    "import pandas as pd\n",
    "import numpy as np\n",
    "import matplotlib.pyplot as plt\n",
    "from sklearn.preprocessing import MinMaxScaler\n",
    "from sklearn.model_selection import GridSearchCV, train_test_split\n",
    "import tensorflow as tf\n",
    "\n",
    "train = pd.read_csv('train.csv')\n",
    "test = pd.read_csv('test.csv')\n",
    "\n",
    "test_id = test['Id']\n",
    "test = test.drop(columns = ['Id', 'text', 'reply_to_screen_name', 'hashtags'], axis = 1)\n",
    "\n",
    "## Defining input and target\n",
    "X = train.drop(columns = ['text', 'reply_to_screen_name', 'hashtags', 'country'], axis = 1)\n",
    "Y = train['country']\n",
    "Y = np.where(Y == 'us', 0, \n",
    "             np.where(Y == 'uk', 1, \n",
    "                      np.where(Y == 'canada', 2, \n",
    "                               np.where(Y == 'australia', 3,\n",
    "                                        np.where(Y == 'ireland', 4, 5)))))\n",
    "\n",
    "## Splitting the data \n",
    "X_train, X_test, Y_train, Y_test = train_test_split(X, Y, train_size = 0.2)\n",
    "\n",
    "## Scaling the data \n",
    "scaler = MinMaxScaler()\n",
    "X_train = scaler.fit_transform(X_train)\n",
    "X_test = scaler.fit_transform(X_test)\n",
    "test = scaler.fit_transform(test)\n",
    "\n",
    "## Defining model \n",
    "model = tf.keras.models.Sequential([\n",
    "        tf.keras.layers.Dense(10, input_dim =  15, activation = 'relu'),\n",
    "        tf.keras.layers.Dense(10, activation = 'relu'),\n",
    "        tf.keras.layers.Dense(10, activation = 'relu'),\n",
    "        tf.keras.layers.Dense(6, activation = 'softmax')\n",
    "])\n",
    "\n",
    "model.compile(optimizer = 'adam', loss = 'categorical_crossentropy', metrics = ['accuracy'])\n",
    "\n",
    "## Fitting model \n",
    "history = model.fit(X_train, tf.keras.utils.to_categorical(Y_train, num_classes = 6), epochs = 20, batch_size = 64, validation_data = (X_test, tf.keras.utils.to_categorical(Y_test, num_classes = 6)))\n",
    "\n",
    "fig = plt.figure(figsize = (12, 8))\n",
    "\n",
    "## Visualization of accuracy in train and test datasets\n",
    "plt.plot(history.history['accuracy'])\n",
    "plt.plot(history.history['val_accuracy'])\n",
    "plt.title('Model accuracy')\n",
    "plt.ylabel('Accuracy')\n",
    "plt.xlabel('Epoch')\n",
    "plt.legend(['Train', 'Test'], loc = 'upper left')\n",
    "plt.grid()\n",
    "plt.show()"
   ]
  },
  {
   "cell_type": "code",
   "execution_count": 7,
   "id": "9c68597f",
   "metadata": {},
   "outputs": [],
   "source": [
    "## Predicting on test\n",
    "nn_pred = model.predict(test)\n",
    "nn_pred = np.argmax(nn_pred, axis = 1)\n",
    "\n",
    "## Defining data to be exported\n",
    "data_out = pd.DataFrame({'Id': test_id, 'Category': nn_pred})\n",
    "data_out['Category'] = np.where(data_out['Category'] == 0, 'us',\n",
    "                                np.where(data_out['Category'] == 1, 'uk',\n",
    "                                         np.where(data_out['Category'] == 2, 'canada',\n",
    "                                                  np.where(data_out['Category'] == 3, 'australia',\n",
    "                                                           np.where(data_out['Category'] == 4, 'ireland', 'new_zealand')))))\n",
    "data_out.to_csv('nn_submission_md5.csv', index = False)"
   ]
  }
 ],
 "metadata": {
  "kernelspec": {
   "display_name": "conda_tensorflow2_p38",
   "language": "python",
   "name": "conda_tensorflow2_p38"
  },
  "language_info": {
   "codemirror_mode": {
    "name": "ipython",
    "version": 3
   },
   "file_extension": ".py",
   "mimetype": "text/x-python",
   "name": "python",
   "nbconvert_exporter": "python",
   "pygments_lexer": "ipython3",
   "version": "3.8.12"
  }
 },
 "nbformat": 4,
 "nbformat_minor": 5
}
