{
 "cells": [
  {
   "cell_type": "code",
   "execution_count": null,
   "id": "fc5fd072",
   "metadata": {},
   "outputs": [],
   "source": [
    "pip install xgboost lightgbm catboost optuna"
   ]
  },
  {
   "cell_type": "code",
   "execution_count": null,
   "id": "21edfa67",
   "metadata": {},
   "outputs": [],
   "source": [
    "import boto3\n",
    "import pandas as pd; pd.set_option('display.max_columns', 100)\n",
    "import numpy as np\n",
    "\n",
    "import matplotlib.pyplot as plt; plt.style.use('ggplot')\n",
    "import seaborn as sns\n",
    "\n",
    "from scipy.stats import rankdata\n",
    "from sklearn.tree import DecisionTreeRegressor, plot_tree\n",
    "from sklearn.preprocessing import MinMaxScaler\n",
    "from sklearn.model_selection import KFold, train_test_split, GridSearchCV, StratifiedKFold, TimeSeriesSplit\n",
    "from sklearn.metrics import mean_squared_error, roc_auc_score\n",
    "from sklearn.neighbors import KNeighborsClassifier\n",
    "from sklearn.ensemble import RandomForestClassifier, HistGradientBoostingClassifier\n",
    "from sklearn.linear_model import LogisticRegression\n",
    "from lightgbm import LGBMClassifier\n",
    "from xgboost import XGBClassifier\n",
    "from catboost import CatBoostClassifier\n",
    "\n",
    "import optuna as op\n",
    "\n",
    "s3 = boto3.resource('s3')\n",
    "bucket_name = 'analytics-data-science-competitions'\n",
    "bucket = s3.Bucket(bucket_name)\n",
    "\n",
    "file_key_1 = 'Tabular-Playground-Series/Tabular-Playground-Jan-2023-4/train.csv'\n",
    "file_key_2 = 'Tabular-Playground-Series/Tabular-Playground-Jan-2023-4/test.csv'\n",
    "file_key_3 = 'Tabular-Playground-Series/Tabular-Playground-Jan-2023-4/sample_submission.csv'\n",
    "\n",
    "bucket_object_1 = bucket.Object(file_key_1)\n",
    "file_object_1 = bucket_object_1.get()\n",
    "file_content_stream_1 = file_object_1.get('Body')\n",
    "\n",
    "bucket_object_2 = bucket.Object(file_key_2)\n",
    "file_object_2 = bucket_object_2.get()\n",
    "file_content_stream_2 = file_object_2.get('Body')\n",
    "\n",
    "bucket_object_3 = bucket.Object(file_key_3)\n",
    "file_object_3 = bucket_object_3.get()\n",
    "file_content_stream_3 = file_object_3.get('Body')\n",
    "\n",
    "## Reading data files\n",
    "train = pd.read_csv(file_content_stream_1)\n",
    "test = pd.read_csv(file_content_stream_2)\n",
    "submission = pd.read_csv(file_content_stream_3)\n",
    "\n",
    "train['Time'] = train['Time'] / 3600\n",
    "test['Time'] = test['Time'] / 3600\n",
    "\n",
    "train = train[(train['Time'] >= 10) & (train['Time'] <= 24)].reset_index(drop = True)"
   ]
  },
  {
   "cell_type": "markdown",
   "id": "3453798a",
   "metadata": {},
   "source": [
    "# XGBoost Modeling"
   ]
  },
  {
   "cell_type": "code",
   "execution_count": null,
   "id": "5bd2fc42",
   "metadata": {},
   "outputs": [],
   "source": [
    "X = train.drop(columns = ['id', 'Time', 'Class'], axis = 1)\n",
    "Y = train['Class']\n",
    "test = test.drop(columns = ['id', 'Time'], axis = 1)\n",
    "\n",
    "XGB_cv_scores, XGB_imp = list(), list()\n",
    "preds = list()\n",
    "\n",
    "## Running 5 times CV\n",
    "for i in range(5):\n",
    "    \n",
    "    skf = StratifiedKFold(n_splits = 5, shuffle = False)\n",
    "    \n",
    "    for train_ix, test_ix in skf.split(X, Y):\n",
    "        \n",
    "        ## Splitting the data \n",
    "        X_train, X_test = X.iloc[train_ix], X.iloc[test_ix]\n",
    "        Y_train, Y_test = Y.iloc[train_ix], Y.iloc[test_ix]\n",
    "                \n",
    "        ## Building RF model\n",
    "        XGB_md = XGBClassifier(tree_method = 'hist',\n",
    "                               colsample_bytree = 0.7, \n",
    "                               gamma = 0.8, \n",
    "                               learning_rate = 0.01, \n",
    "                               max_depth = 7, \n",
    "                               min_child_weight = 10, \n",
    "                               n_estimators = 1000, \n",
    "                               subsample = 0.7).fit(X_train, Y_train)\n",
    "        XGB_imp.append(XGB_md.feature_importances_)\n",
    "        \n",
    "        ## Predicting on X_test and test\n",
    "        XGB_pred_1 = XGB_md.predict_proba(X_test)[:, 1]\n",
    "        XGB_pred_2 = XGB_md.predict_proba(test)[:, 1]\n",
    "        \n",
    "        ## Computing roc-auc score\n",
    "        XGB_cv_scores.append(roc_auc_score(Y_test, XGB_pred_1))\n",
    "        preds.append(XGB_pred_2)\n",
    "\n",
    "XGB_cv_score = np.mean(XGB_cv_scores)    \n",
    "print('The average roc-auc score over 5-folds (run 5 times) is:', XGB_cv_score)"
   ]
  },
  {
   "cell_type": "code",
   "execution_count": null,
   "id": "9761587e",
   "metadata": {},
   "outputs": [],
   "source": [
    "XGB_preds_test = pd.DataFrame(preds).apply(np.mean, axis = 0)\n",
    "submission['Class'] = XGB_preds_test\n",
    "submission.to_csv('xgb_submission_2.csv', index = False)"
   ]
  }
 ],
 "metadata": {
  "kernelspec": {
   "display_name": "conda_python3",
   "language": "python",
   "name": "conda_python3"
  },
  "language_info": {
   "codemirror_mode": {
    "name": "ipython",
    "version": 3
   },
   "file_extension": ".py",
   "mimetype": "text/x-python",
   "name": "python",
   "nbconvert_exporter": "python",
   "pygments_lexer": "ipython3",
   "version": "3.10.6"
  }
 },
 "nbformat": 4,
 "nbformat_minor": 5
}
