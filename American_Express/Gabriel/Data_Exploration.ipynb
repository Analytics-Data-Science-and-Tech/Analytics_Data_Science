{
 "cells": [
  {
   "cell_type": "code",
   "execution_count": 2,
   "id": "6467fe3e",
   "metadata": {},
   "outputs": [],
   "source": [
    "import boto3\n",
    "import pandas as pd; pd.set_option('display.max_columns', 200)\n",
    "import numpy as np\n",
    "import matplotlib.pyplot as plt\n",
    "import seaborn as sns"
   ]
  },
  {
   "cell_type": "code",
   "execution_count": null,
   "id": "6be945b7",
   "metadata": {},
   "outputs": [],
   "source": [
    "s3 = boto3.resource('s3')\n",
    "bucket_name = 'gabriel-data-science'\n",
    "bucket = s3.Bucket(bucket_name)\n",
    "\n",
    "## Defining files names\n",
    "file_key_1 = 'AmericanExpress/train_data.csv'\n",
    "file_key_2 = 'AmericanExpress/train_labels.csv'\n",
    "\n",
    "bucket_object_1 = bucket.Object(file_key_1)\n",
    "file_object_1 = bucket_object_1.get()\n",
    "file_content_stream_1 = file_object_1.get('Body')\n",
    "\n",
    "bucket_object_2 = bucket.Object(file_key_2)\n",
    "file_object_2 = bucket_object_2.get()\n",
    "file_content_stream_2 = file_object_2.get('Body')\n",
    "\n",
    "## Creating data-type dictionary for reading the train data-frame\n",
    "dtype_dict = {'customer_ID': \"object\", 'S_2': \"object\", 'P_2': 'float16', 'B_1': 'float16', 'B_1': 'float16','B_2': 'float16',\n",
    "              'R_1': 'float16','S_3': 'float16','D_41': 'float16','B_3': 'float16','D_42': 'float16','D_43': 'float16','D_44': 'float16',\n",
    "              'B_4': 'float16','D_45': 'float16','B_5': 'float16','R_2': 'float16','D_46': 'float16','D_47': 'float16','D_48': 'float16',\n",
    "              'D_49': 'float16','B_6': 'float16','B_7': 'float16','B_8': 'float16','D_50': 'float16','D_51': 'float16','B_9': 'float16',\n",
    "              'R_3': 'float16','D_52': 'float16','P_3': 'float16','B_10': 'float16','D_53': 'float16','S_5': 'float16','B_11': 'float16',\n",
    "              'S_6': 'float16','D_54': 'float16','R_4': 'float16','S_7': 'float16','B_12': 'float16','S_8': 'float16','D_55': 'float16',\n",
    "              'D_56': 'float16','B_13': 'float16','R_5': 'float16','D_58': 'float16','S_9': 'float16','B_14': 'float16','D_59': 'float16',\n",
    "              'D_60': 'float16','D_61': 'float16','B_15': 'float16','S_11': 'float16','D_62': 'float16','D_63': 'object','D_64': 'object',\n",
    "              'B_2': 'float16','B_16': 'float16','B_17': 'float16','B_18': 'float16','B_19': 'float16','D_66': 'float16','B_20': 'float16',\n",
    "              'D_68': 'float16','S_12': 'float16','R_6': 'float16','S_13': 'float16','B_21': 'float16','D_69': 'float16','B_22': 'float16',\n",
    "              'D_70': 'float16','D_71': 'float16','D_72': 'float16','S_15': 'float16','B_23': 'float16','D_73': 'float16','P_4': 'float16',\n",
    "              'D_74': 'float16','D_75': 'float16','D_76': 'float16','B_24': 'float16','R_7': 'float16','D_77': 'float16','B_25': 'float16',\n",
    "              'B_26': 'float16','D_78': 'float16','D_79': 'float16','R_8': 'float16','R_9': 'float16','S_16': 'float16','D_80': 'float16',\n",
    "              'R_10': 'float16','R_11': 'float16','B_27': 'float16','D_81': 'float16','D_82': 'float16','S_17': 'float16','R_12': 'float16',\n",
    "              'B_28': 'float16','R_13': 'float16','D_83': 'float16','R_14': 'float16','R_15': 'float16','D_84': 'float16','R_16': 'float16',\n",
    "              'B_29': 'float16','B_30': 'float16','S_18': 'float16','D_86': 'float16','D_87': 'float16','R_17': 'float16','R_18': 'float16',\n",
    "              'D_88': 'float16','B_31': 'int64','S_19': 'float16','R_19': 'float16','B_32': 'float16','S_20': 'float16','R_20': 'float16',\n",
    "              'R_21': 'float16','B_33': 'float16','D_89': 'float16','R_22': 'float16','R_23': 'float16','D_91': 'float16','D_92': 'float16',\n",
    "              'D_93': 'float16','D_94': 'float16','R_24': 'float16','R_25': 'float16','D_96': 'float16','S_22': 'float16','S_23': 'float16',\n",
    "              'S_24': 'float16','S_25': 'float16','S_26': 'float16','D_102': 'float16','D_103': 'float16','D_104': 'float16','D_105': 'float16',\n",
    "              'D_106': 'float16','D_107': 'float16','B_36': 'float16','B_37': 'float16', 'R_26': 'float16','R_27': 'float16','B_38': 'float16',\n",
    "              'D_108': 'float16','D_109': 'float16','D_110': 'float16','D_111': 'float16','B_39': 'float16','D_112': 'float16','B_40': 'float16',\n",
    "              'S_27': 'float16','D_113': 'float16','D_114': 'float16','D_115': 'float16','D_116': 'float16','D_117': 'float16','D_118': 'float16',\n",
    "              'D_119': 'float16','D_120': 'float16','D_121': 'float16','D_122': 'float16','D_123': 'float16','D_124': 'float16','D_125': 'float16',\n",
    "              'D_126': 'float16','D_127': 'float16','D_128': 'float16','D_129': 'float16','B_41': 'float16','B_42': 'float16','D_130': 'float16',\n",
    "              'D_131': 'float16','D_132': 'float16','D_133': 'float16','R_28': 'float16','D_134': 'float16','D_135': 'float16','D_136': 'float16',\n",
    "              'D_137': 'float16','D_138': 'float16','D_139': 'float16','D_140': 'float16','D_141': 'float16','D_142': 'float16','D_143': 'float16',\n",
    "              'D_144': 'float16','D_145': 'float16'}\n",
    "\n",
    "\n",
    "## Reading data-files\n",
    "train = pd.read_csv(file_content_stream_1, dtype = dtype_dict)\n",
    "target = pd.read_csv(file_content_stream_2)\n",
    "\n",
    "## Appending target variables\n",
    "train = pd.merge(train, target, on = 'customer_ID', how = 'left')\n",
    "train.head()"
   ]
  },
  {
   "cell_type": "code",
   "execution_count": null,
   "id": "60c6c09f",
   "metadata": {},
   "outputs": [],
   "source": [
    "train.shape"
   ]
  },
  {
   "cell_type": "markdown",
   "id": "5fd03a5e",
   "metadata": {},
   "source": [
    "## Feature Engineering of Balance Variables"
   ]
  },
  {
   "cell_type": "code",
   "execution_count": null,
   "id": "5c2788f2",
   "metadata": {},
   "outputs": [],
   "source": [
    "## Selecting Balance variables\n",
    "my_variables = train.columns\n",
    "B_variables = [x for x in my_variables if x.startswith('B_')]\n",
    "to_select = ['customer_ID', 'target']\n",
    "for i in range(2, (len(B_variables) + 2)):\n",
    "    to_select.append(B_variables[i-2])\n",
    "\n",
    "balance_features = train[to_select]\n",
    "balance_features.head()"
   ]
  },
  {
   "cell_type": "markdown",
   "id": "9a4ff02d",
   "metadata": {},
   "source": [
    "## Target_0 & target_1"
   ]
  },
  {
   "cell_type": "code",
   "execution_count": null,
   "id": "3f59acbc",
   "metadata": {},
   "outputs": [],
   "source": [
    "target_0 = check_nan[check_nan['target'] == 0]\n",
    "target_1 = check_nan[check_nan['target'] == 1]"
   ]
  },
  {
   "cell_type": "markdown",
   "id": "2387544f",
   "metadata": {},
   "source": [
    "## Null Values"
   ]
  },
  {
   "cell_type": "code",
   "execution_count": null,
   "id": "c2d1dc47",
   "metadata": {},
   "outputs": [],
   "source": [
    "check_nan = balance_features[['customer_ID', 'target', 'B_17', \"B_29\", \"B_39\", \"B_42\"]]\n",
    "check_nan"
   ]
  },
  {
   "cell_type": "markdown",
   "id": "6469b000",
   "metadata": {},
   "source": [
    "## B_17"
   ]
  },
  {
   "cell_type": "code",
   "execution_count": null,
   "id": "14079fb2",
   "metadata": {},
   "outputs": [],
   "source": [
    "## NaN in the whole dataset\n",
    "round(np.isnan(check_nan['B_17']).value_counts() / check_nan.shape[0], 2)"
   ]
  },
  {
   "cell_type": "code",
   "execution_count": null,
   "id": "5d4d9ade",
   "metadata": {},
   "outputs": [],
   "source": [
    "## NaN in the target_0\n",
    "round(np.isnan(target_0['B_17']).value_counts() / target_0.shape[0], 2)"
   ]
  },
  {
   "cell_type": "code",
   "execution_count": null,
   "id": "14883437",
   "metadata": {},
   "outputs": [],
   "source": [
    "## NaN in the target_1\n",
    "round(np.isnan(target_1['B_17']).value_counts() / target_1.shape[0], 2)"
   ]
  },
  {
   "cell_type": "markdown",
   "id": "43e27542",
   "metadata": {},
   "source": [
    "\\\n",
    "Target_0 == True: 66% \\\n",
    "Target_1 == True: 28%"
   ]
  },
  {
   "cell_type": "markdown",
   "id": "6b2f11ad",
   "metadata": {},
   "source": [
    "## B_29"
   ]
  },
  {
   "cell_type": "code",
   "execution_count": null,
   "id": "01921f64",
   "metadata": {},
   "outputs": [],
   "source": [
    "## NaN in the whole dataset\n",
    "round(np.isnan(check_nan['B_29']).value_counts() / check_nan.shape[0], 2)"
   ]
  },
  {
   "cell_type": "code",
   "execution_count": null,
   "id": "c3f4b102",
   "metadata": {},
   "outputs": [],
   "source": [
    "## NaN in the target_0\n",
    "round(np.isnan(target_0['B_29']).value_counts() / target_0.shape[0], 2)"
   ]
  },
  {
   "cell_type": "code",
   "execution_count": null,
   "id": "3ab48f92",
   "metadata": {},
   "outputs": [],
   "source": [
    "## NaN in the target_1\n",
    "round(np.isnan(target_1['B_29']).value_counts() / target_1.shape[0], 2)"
   ]
  },
  {
   "cell_type": "markdown",
   "id": "50951059",
   "metadata": {},
   "source": [
    "\\\n",
    "Target_0 == True: 93% \\\n",
    "Target_1 == True: 94%"
   ]
  },
  {
   "cell_type": "markdown",
   "id": "a49e72a1",
   "metadata": {},
   "source": [
    "## B_39"
   ]
  },
  {
   "cell_type": "code",
   "execution_count": null,
   "id": "3e710edc",
   "metadata": {},
   "outputs": [],
   "source": [
    "## NaN in the whole dataset\n",
    "round(np.isnan(check_nan['B_39']).value_counts() / check_nan.shape[0], 2)"
   ]
  },
  {
   "cell_type": "markdown",
   "id": "1f22f0d4",
   "metadata": {},
   "source": [
    "## B_42"
   ]
  },
  {
   "cell_type": "code",
   "execution_count": null,
   "id": "77ae1427",
   "metadata": {},
   "outputs": [],
   "source": [
    "## NaN in the whole dataset\n",
    "round(np.isnan(check_nan['B_42']).value_counts() / check_nan.shape[0], 2)"
   ]
  },
  {
   "cell_type": "markdown",
   "id": "a953896e",
   "metadata": {},
   "source": [
    "### How many observation per customer?"
   ]
  },
  {
   "cell_type": "code",
   "execution_count": null,
   "id": "988a57c3",
   "metadata": {},
   "outputs": [],
   "source": [
    "ID = balance_features['customer_ID'].unique()\n",
    "\n",
    "round(train.shape[0]/ID.shape[0],2)"
   ]
  },
  {
   "cell_type": "code",
   "execution_count": null,
   "id": "b98f8a44",
   "metadata": {},
   "outputs": [],
   "source": [
    "balance_features[balance_features['customer_ID'] == Ib[0]]"
   ]
  },
  {
   "cell_type": "code",
   "execution_count": null,
   "id": "1b58077e",
   "metadata": {},
   "outputs": [],
   "source": [
    "balance_features[balance_features['customer_ID'] == Ib[2]]"
   ]
  },
  {
   "cell_type": "markdown",
   "id": "9603312b",
   "metadata": {},
   "source": [
    "## Feature Engineering"
   ]
  },
  {
   "cell_type": "code",
   "execution_count": null,
   "id": "45bdab19",
   "metadata": {},
   "outputs": [],
   "source": [
    "B1 = balance_features[['customer_ID', 'B_1', 'target']]\n",
    "\n",
    "def f(x):\n",
    "    \n",
    "    b = {}\n",
    "    b['B_1_mean'] = x['B_1'].mean()\n",
    "    b['B_1_median'] = x['B_1'].median()\n",
    "    b['B_1_min'] = x['B_1'].min()\n",
    "    b['B_1_max'] = x['B_1'].max()\n",
    "    b['B_1_range'] = x['B_1'].max() - x['B_1'].min()\n",
    "    b['B_1_IQR'] = np.percentile(x['B_1'], 75) - np.percentile(x['B_1'], 25)\n",
    "#     b['B_1_negative_count'] = np.sum(x['B_1'] < 0) \n",
    "    b['B_1_positive_count'] = np.sum(x['B_1'] > 0)\n",
    "    b['B_1_values_above_mean'] = np.sum(x['B_1'] > x['B_1'].mean())\n",
    "    \n",
    "    return pd.Series(b, index = ['B_1_mean', 'B_1_median', 'B_1_min', 'B_1_max', 'B_1_range', 'B_1_IQR', 'B_1_negative_count', 'B_1_positive_count', 'B_1_values_above_mean'])\n",
    "\n",
    "\n",
    "B_1 = B1.groupby('customer_ID').apply(f)\n",
    "B_1"
   ]
  },
  {
   "cell_type": "code",
   "execution_count": null,
   "id": "388235bd",
   "metadata": {},
   "outputs": [],
   "source": [
    "\n",
    "\n",
    "## Selecting unique customer_ID and target\n",
    "customer_target = train[['customer_ID', 'target']].drop_duplicates().reset_index(drop = True)\n",
    "\n",
    "## Computing basic summary-stats features\n",
    "def summary_stats(x):\n",
    "    \n",
    "    b = {}\n",
    "    b['B_2_mean'] = x['B_2'].mean()\n",
    "    b['B_2_median'] = x['B_2'].median()\n",
    "    b['B_2_min'] = x['B_2'].min()\n",
    "    b['B_2_max'] = x['B_2'].max()\n",
    "    b['B_2_range'] = np.where(x['B_2'].shape[0] == 1, 0, x['B_2'].max() - x['B_2'].min())\n",
    "    b['B_2_IQR'] = np.where(x['B_2'].shape[0] == 1, 0,np.percentile(x['B_2'], 75) - np.percentile(x['B_2'], 25))\n",
    "    b['B_2_std'] = np.where(x['B_2'].shape[0] == 1, 0, np.std(x['B_2'], ddof = 1))\n",
    "#     b['B_2_negative_count'] = np.sum(x['B_2'] < 0) \n",
    "#     b['B_2_positive_count'] = np.sum(x['B_2'] > 0)\n",
    "    b['B_2_pct_values_above_mean'] = np.where(x['B_2'].shape[0] == 1, 0, np.sum(x['B_2'] > x['B_2'].mean())/x['B_2'].shape[0])\n",
    "    b['B_2_avg_pct_change'] = np.where(x['B_2'].shape[0] == 1, 0, pd.Series(x['B_2'].to_list()).pct_change().mean())\n",
    "    \n",
    "    return pd.Series(b, index = ['B_2_mean', 'B_2_median', 'B_2_min', 'B_2_max', 'B_2_range', 'B_2_IQR', 'B_2_std', 'B_2_pct_values_above_mean', 'B_2_avg_pct_change'])\n",
    "\n",
    "data_out = train_deli.groupby('customer_ID').apply(summary_stats)\n",
    "data_out['customer_ID'] = data_out.index\n",
    "data_out = data_out.reset_index(drop = True)\n",
    "\n",
    "# ## Computing average change at the customer level\n",
    "# data_change = pd.DataFrame(train_deli.groupby(['customer_ID'])['B_2'].apply(lambda x: pd.Series(x.to_list()).pct_change().mean()))\n",
    "# data_change['customer_ID'] = data_change.index\n",
    "# data_change = data_change.reset_index(drop = True)\n",
    "# data_change.columns = ['B_2_change', 'customer_ID']\n",
    "\n",
    "# ## Computing change from first to last month\n",
    "# data_change_first_last = pd.DataFrame(train_deli.groupby(['customer_ID'])['B_2'].apply(lambda x: pd.Series(x.iloc[[0, -1]].to_list()).pct_change())).unstack()\n",
    "# data_change_first_last = data_change_first_last.drop(columns = ('B_2', 0), axis = 1)\n",
    "# data_change_first_last['customer_ID'] = data_change_first_last.index\n",
    "# data_change_first_last = data_change_first_last.reset_index(drop = True)\n",
    "# data_change_first_last.columns = ['B_2_change_first_last', 'customer_ID']\n",
    "\n",
    "## Joining the to datasets\n",
    "data_out = pd.merge(customer_target, data_out, on = 'customer_ID', how = 'left')\n",
    "data_out = data_out.drop(columns = ['target'], axis = 1)\n",
    "\n",
    "balance_features = pd.merge(balance_features, data_out, on = 'customer_ID', how = 'left')\n",
    "\n",
    "# data_out = pd.merge(data_avg, data_median, on = 'customer_ID', how = 'left')\n",
    "# data_out = pd.merge(data_out, data_change, on = 'customer_ID', how = 'left')\n",
    "# data_out = pd.merge(data_out, data_change_first_last, on = 'customer_ID', how = 'left')\n",
    "\n",
    "# data_out.to_csv('balance_Features.csv', index = False)\n",
    "balance_features.to_csv('Balance_Features.csv', index = False)\n"
   ]
  },
  {
   "cell_type": "code",
   "execution_count": null,
   "id": "b056d3fc",
   "metadata": {},
   "outputs": [],
   "source": []
  }
 ],
 "metadata": {
  "kernelspec": {
   "display_name": "conda_python3",
   "language": "python",
   "name": "conda_python3"
  },
  "language_info": {
   "codemirror_mode": {
    "name": "ipython",
    "version": 3
   },
   "file_extension": ".py",
   "mimetype": "text/x-python",
   "name": "python",
   "nbconvert_exporter": "python",
   "pygments_lexer": "ipython3",
   "version": "3.8.12"
  }
 },
 "nbformat": 4,
 "nbformat_minor": 5
}
