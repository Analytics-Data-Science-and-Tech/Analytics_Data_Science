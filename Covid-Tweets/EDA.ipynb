{
 "cells": [
  {
   "cell_type": "code",
   "execution_count": 2,
   "id": "26df5042",
   "metadata": {},
   "outputs": [
    {
     "data": {
      "text/html": [
       "<div>\n",
       "<style scoped>\n",
       "    .dataframe tbody tr th:only-of-type {\n",
       "        vertical-align: middle;\n",
       "    }\n",
       "\n",
       "    .dataframe tbody tr th {\n",
       "        vertical-align: top;\n",
       "    }\n",
       "\n",
       "    .dataframe thead th {\n",
       "        text-align: right;\n",
       "    }\n",
       "</style>\n",
       "<table border=\"1\" class=\"dataframe\">\n",
       "  <thead>\n",
       "    <tr style=\"text-align: right;\">\n",
       "      <th></th>\n",
       "      <th>text</th>\n",
       "      <th>reply_to_screen_name</th>\n",
       "      <th>is_quote</th>\n",
       "      <th>is_retweet</th>\n",
       "      <th>hashtags</th>\n",
       "      <th>country</th>\n",
       "      <th>Trump_flag</th>\n",
       "      <th>jfrketich_flag</th>\n",
       "      <th>clean_tweet</th>\n",
       "      <th>sentiment</th>\n",
       "      <th>char_count</th>\n",
       "      <th>word_count</th>\n",
       "      <th>unique_word_count</th>\n",
       "      <th>avg_wordlength</th>\n",
       "      <th>unique_vs_words</th>\n",
       "    </tr>\n",
       "  </thead>\n",
       "  <tbody>\n",
       "    <tr>\n",
       "      <th>0</th>\n",
       "      <td>Remember the #WuhanCoronaVirus? The pandemic w...</td>\n",
       "      <td>NaN</td>\n",
       "      <td>1</td>\n",
       "      <td>1</td>\n",
       "      <td>WuhanCoronaVirus KillerCuomo</td>\n",
       "      <td>us</td>\n",
       "      <td>0</td>\n",
       "      <td>0</td>\n",
       "      <td>remember pandemic great percentage deaths resu...</td>\n",
       "      <td>0.20000</td>\n",
       "      <td>156</td>\n",
       "      <td>21</td>\n",
       "      <td>21</td>\n",
       "      <td>7.428571</td>\n",
       "      <td>1.000000</td>\n",
       "    </tr>\n",
       "    <tr>\n",
       "      <th>1</th>\n",
       "      <td>My sources @WhiteHouse say 2 tactics will be u...</td>\n",
       "      <td>NaN</td>\n",
       "      <td>1</td>\n",
       "      <td>1</td>\n",
       "      <td>Trump</td>\n",
       "      <td>us</td>\n",
       "      <td>0</td>\n",
       "      <td>0</td>\n",
       "      <td>sources say tactics used get america open amp ...</td>\n",
       "      <td>0.00000</td>\n",
       "      <td>172</td>\n",
       "      <td>28</td>\n",
       "      <td>25</td>\n",
       "      <td>6.142857</td>\n",
       "      <td>0.892857</td>\n",
       "    </tr>\n",
       "    <tr>\n",
       "      <th>2</th>\n",
       "      <td>I'll venture a wild guess: If you were running...</td>\n",
       "      <td>NaN</td>\n",
       "      <td>1</td>\n",
       "      <td>1</td>\n",
       "      <td>COVID19</td>\n",
       "      <td>us</td>\n",
       "      <td>0</td>\n",
       "      <td>0</td>\n",
       "      <td>venture wild guess running usa crisis youd wan...</td>\n",
       "      <td>0.22500</td>\n",
       "      <td>175</td>\n",
       "      <td>29</td>\n",
       "      <td>23</td>\n",
       "      <td>6.034483</td>\n",
       "      <td>0.793103</td>\n",
       "    </tr>\n",
       "    <tr>\n",
       "      <th>3</th>\n",
       "      <td>#Pakistan (#GreenStimulus = #Nature protection...</td>\n",
       "      <td>NaN</td>\n",
       "      <td>1</td>\n",
       "      <td>1</td>\n",
       "      <td>Pakistan GreenStimulus Nature Green</td>\n",
       "      <td>us</td>\n",
       "      <td>0</td>\n",
       "      <td>0</td>\n",
       "      <td>protection jobs community youth within recentl...</td>\n",
       "      <td>0.03125</td>\n",
       "      <td>87</td>\n",
       "      <td>12</td>\n",
       "      <td>12</td>\n",
       "      <td>7.250000</td>\n",
       "      <td>1.000000</td>\n",
       "    </tr>\n",
       "    <tr>\n",
       "      <th>4</th>\n",
       "      <td>🇺🇸 Pandémie de #coronavirus: 30 pasteurs améri...</td>\n",
       "      <td>NaN</td>\n",
       "      <td>1</td>\n",
       "      <td>1</td>\n",
       "      <td>coronavirus COVID__19 COVIDー19</td>\n",
       "      <td>us</td>\n",
       "      <td>0</td>\n",
       "      <td>0</td>\n",
       "      <td>pand mie de 30 pasteurs ricains qui avaient mi...</td>\n",
       "      <td>0.00000</td>\n",
       "      <td>201</td>\n",
       "      <td>31</td>\n",
       "      <td>31</td>\n",
       "      <td>6.483871</td>\n",
       "      <td>1.000000</td>\n",
       "    </tr>\n",
       "  </tbody>\n",
       "</table>\n",
       "</div>"
      ],
      "text/plain": [
       "                                                text reply_to_screen_name  \\\n",
       "0  Remember the #WuhanCoronaVirus? The pandemic w...                  NaN   \n",
       "1  My sources @WhiteHouse say 2 tactics will be u...                  NaN   \n",
       "2  I'll venture a wild guess: If you were running...                  NaN   \n",
       "3  #Pakistan (#GreenStimulus = #Nature protection...                  NaN   \n",
       "4  🇺🇸 Pandémie de #coronavirus: 30 pasteurs améri...                  NaN   \n",
       "\n",
       "   is_quote  is_retweet                             hashtags country  \\\n",
       "0         1           1         WuhanCoronaVirus KillerCuomo      us   \n",
       "1         1           1                                Trump      us   \n",
       "2         1           1                              COVID19      us   \n",
       "3         1           1  Pakistan GreenStimulus Nature Green      us   \n",
       "4         1           1       coronavirus COVID__19 COVIDー19      us   \n",
       "\n",
       "   Trump_flag  jfrketich_flag  \\\n",
       "0           0               0   \n",
       "1           0               0   \n",
       "2           0               0   \n",
       "3           0               0   \n",
       "4           0               0   \n",
       "\n",
       "                                         clean_tweet  sentiment  char_count  \\\n",
       "0  remember pandemic great percentage deaths resu...    0.20000         156   \n",
       "1  sources say tactics used get america open amp ...    0.00000         172   \n",
       "2  venture wild guess running usa crisis youd wan...    0.22500         175   \n",
       "3  protection jobs community youth within recentl...    0.03125          87   \n",
       "4  pand mie de 30 pasteurs ricains qui avaient mi...    0.00000         201   \n",
       "\n",
       "   word_count  unique_word_count  avg_wordlength  unique_vs_words  \n",
       "0          21                 21        7.428571         1.000000  \n",
       "1          28                 25        6.142857         0.892857  \n",
       "2          29                 23        6.034483         0.793103  \n",
       "3          12                 12        7.250000         1.000000  \n",
       "4          31                 31        6.483871         1.000000  "
      ]
     },
     "execution_count": 2,
     "metadata": {},
     "output_type": "execute_result"
    }
   ],
   "source": [
    "import pandas as pd\n",
    "import numpy as np\n",
    "\n",
    "## Reading csv file\n",
    "train = pd.read_csv('train_new.csv')\n",
    "train.head()"
   ]
  },
  {
   "cell_type": "markdown",
   "id": "e1d48347",
   "metadata": {},
   "source": [
    "# USA"
   ]
  },
  {
   "cell_type": "code",
   "execution_count": 13,
   "id": "c5d56882",
   "metadata": {},
   "outputs": [
    {
     "name": "stdout",
     "output_type": "stream",
     "text": [
      "1    40000\n",
      "Name: is_quote, dtype: int64\n",
      "1    40000\n",
      "Name: is_retweet, dtype: int64\n"
     ]
    }
   ],
   "source": [
    "usa = train[train['country'] ==  'us'].reset_index(drop = True)\n",
    "\n",
    "print(usa['is_quote'].value_counts())\n",
    "print(usa['is_retweet'].value_counts())"
   ]
  },
  {
   "cell_type": "markdown",
   "id": "2e46c6f8",
   "metadata": {},
   "source": [
    "# UK"
   ]
  },
  {
   "cell_type": "code",
   "execution_count": 14,
   "id": "64fcf2f8",
   "metadata": {},
   "outputs": [
    {
     "name": "stdout",
     "output_type": "stream",
     "text": [
      "1    40000\n",
      "Name: is_quote, dtype: int64\n",
      "1    40000\n",
      "Name: is_retweet, dtype: int64\n"
     ]
    }
   ],
   "source": [
    "uk = train[train['country'] ==  'uk'].reset_index(drop = True)\n",
    "\n",
    "print(uk['is_quote'].value_counts())\n",
    "print(uk['is_retweet'].value_counts())"
   ]
  },
  {
   "cell_type": "markdown",
   "id": "8f25437b",
   "metadata": {},
   "source": [
    "# Canada"
   ]
  },
  {
   "cell_type": "code",
   "execution_count": 15,
   "id": "50a3bd67",
   "metadata": {},
   "outputs": [
    {
     "name": "stdout",
     "output_type": "stream",
     "text": [
      "1    40000\n",
      "Name: is_quote, dtype: int64\n",
      "1    40000\n",
      "Name: is_retweet, dtype: int64\n"
     ]
    }
   ],
   "source": [
    "canada = train[train['country'] ==  'canada'].reset_index(drop = True)\n",
    "\n",
    "print(canada['is_quote'].value_counts())\n",
    "print(canada['is_retweet'].value_counts())"
   ]
  },
  {
   "cell_type": "markdown",
   "id": "916f98d6",
   "metadata": {},
   "source": [
    "# Australia"
   ]
  },
  {
   "cell_type": "code",
   "execution_count": 16,
   "id": "c3d51583",
   "metadata": {},
   "outputs": [
    {
     "name": "stdout",
     "output_type": "stream",
     "text": [
      "0    23807\n",
      "1    16193\n",
      "Name: is_quote, dtype: int64\n",
      "1    30785\n",
      "0     9215\n",
      "Name: is_retweet, dtype: int64\n"
     ]
    }
   ],
   "source": [
    "australia = train[train['country'] ==  'australia'].reset_index(drop = True)\n",
    "\n",
    "print(australia['is_quote'].value_counts())\n",
    "print(australia['is_retweet'].value_counts())"
   ]
  },
  {
   "cell_type": "markdown",
   "id": "c23ce643",
   "metadata": {},
   "source": [
    "# New Zealand"
   ]
  },
  {
   "cell_type": "code",
   "execution_count": 17,
   "id": "622f365a",
   "metadata": {},
   "outputs": [
    {
     "name": "stdout",
     "output_type": "stream",
     "text": [
      "0    33388\n",
      "1     6612\n",
      "Name: is_quote, dtype: int64\n",
      "1    27658\n",
      "0    12342\n",
      "Name: is_retweet, dtype: int64\n"
     ]
    }
   ],
   "source": [
    "new_zealand = train[train['country'] ==  'new_zealand'].reset_index(drop = True)\n",
    "\n",
    "print(new_zealand['is_quote'].value_counts())\n",
    "print(new_zealand['is_retweet'].value_counts())"
   ]
  },
  {
   "cell_type": "markdown",
   "id": "a01239ab",
   "metadata": {},
   "source": [
    "# Ireland"
   ]
  },
  {
   "cell_type": "code",
   "execution_count": 18,
   "id": "d51bc184",
   "metadata": {},
   "outputs": [
    {
     "name": "stdout",
     "output_type": "stream",
     "text": [
      "0    32600\n",
      "1     7400\n",
      "Name: is_quote, dtype: int64\n",
      "1    27453\n",
      "0    12547\n",
      "Name: is_retweet, dtype: int64\n"
     ]
    }
   ],
   "source": [
    "ireland = train[train['country'] ==  'ireland'].reset_index(drop = True)\n",
    "\n",
    "print(ireland['is_quote'].value_counts())\n",
    "print(ireland['is_retweet'].value_counts())"
   ]
  }
 ],
 "metadata": {
  "kernelspec": {
   "display_name": "conda_python3",
   "language": "python",
   "name": "conda_python3"
  },
  "language_info": {
   "codemirror_mode": {
    "name": "ipython",
    "version": 3
   },
   "file_extension": ".py",
   "mimetype": "text/x-python",
   "name": "python",
   "nbconvert_exporter": "python",
   "pygments_lexer": "ipython3",
   "version": "3.8.12"
  }
 },
 "nbformat": 4,
 "nbformat_minor": 5
}
