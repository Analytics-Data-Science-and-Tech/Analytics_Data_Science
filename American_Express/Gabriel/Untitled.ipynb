{
 "cells": [
  {
   "cell_type": "code",
   "execution_count": null,
   "id": "34128913",
   "metadata": {},
   "outputs": [],
   "source": [
    "sh-4.2$ cd SageMaker/Analytics_Data_Science/American_Express/Gabriel\n",
    "sh-4.2$ source ~/anaconda3/bin/activate python3\n",
    "(python3) sh-4.2$ python3 knn_imputation.py"
   ]
  }
 ],
 "metadata": {
  "kernelspec": {
   "display_name": "conda_python3",
   "language": "python",
   "name": "conda_python3"
  },
  "language_info": {
   "codemirror_mode": {
    "name": "ipython",
    "version": 3
   },
   "file_extension": ".py",
   "mimetype": "text/x-python",
   "name": "python",
   "nbconvert_exporter": "python",
   "pygments_lexer": "ipython3",
   "version": "3.8.12"
  }
 },
 "nbformat": 4,
 "nbformat_minor": 5
}
