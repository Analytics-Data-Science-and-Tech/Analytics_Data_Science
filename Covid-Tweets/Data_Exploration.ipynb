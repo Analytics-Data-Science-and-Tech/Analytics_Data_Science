{
 "cells": [
  {
   "cell_type": "code",
   "execution_count": 4,
   "id": "711e37ca",
   "metadata": {},
   "outputs": [
    {
     "name": "stderr",
     "output_type": "stream",
     "text": [
      "[nltk_data] Downloading package punkt to /home/ec2-user/nltk_data...\n",
      "[nltk_data]   Unzipping tokenizers/punkt.zip.\n",
      "[nltk_data] Downloading package stopwords to\n",
      "[nltk_data]     /home/ec2-user/nltk_data...\n",
      "[nltk_data]   Unzipping corpora/stopwords.zip.\n"
     ]
    },
    {
     "data": {
      "text/plain": [
       "True"
      ]
     },
     "execution_count": 4,
     "metadata": {},
     "output_type": "execute_result"
    }
   ],
   "source": [
    "import nltk\n",
    "\n",
    "nltk.download('punkt')\n",
    "nltk.download('stopwords')"
   ]
  },
  {
   "cell_type": "code",
   "execution_count": 6,
   "id": "9c13c1ce",
   "metadata": {},
   "outputs": [],
   "source": [
    "import boto3\n",
    "import pandas as pd; pd.set_option('display.max_columns', 100)\n",
    "import numpy as np\n",
    "import matplotlib.pyplot as plt\n",
    "import seaborn as sns\n",
    "from sklearn.tree import DecisionTreeClassifier, plot_tree\n",
    "from sklearn.model_selection import GridSearchCV, train_test_split\n",
    "from sklearn.multiclass import OneVsRestClassifier\n",
    "# from xgboost import XGBClassifier\n",
    "\n",
    "\n",
    "from Help_Funs import count_chars, count_words, count_capital_chars, count_capital_words, count_sent, count_unique_words, count_stopwords, count_hashtags \n",
    "\n",
    "s3 = boto3.resource('s3')\n",
    "bucket_name = 'analytics-data-science-competitions'\n",
    "bucket = s3.Bucket(bucket_name)\n",
    "\n",
    "file_key_1 = 'Covid-tweets/training_data.csv'\n",
    "file_key_2 = 'Covid-tweets/test_data.csv'\n",
    "\n",
    "bucket_object_1 = bucket.Object(file_key_1)\n",
    "file_object_1 = bucket_object_1.get()\n",
    "file_content_stream_1 = file_object_1.get('Body')\n",
    "\n",
    "bucket_object_2 = bucket.Object(file_key_2)\n",
    "file_object_2 = bucket_object_2.get()\n",
    "file_content_stream_2 = file_object_2.get('Body')\n",
    "\n",
    "## Reading data-files\n",
    "train = pd.read_csv(file_content_stream_1)\n",
    "test = pd.read_csv(file_content_stream_2)\n",
    "\n",
    "## Feature Engineering \n",
    "train['is_quote'] = train['is_quote'].str.lower()\n",
    "train['is_quote'] = np.where(train['is_quote'] == 'false', 0, 1)\n",
    "train['is_retweet'] = train['is_retweet'].str.lower()\n",
    "train['is_retweet'] = np.where(train['is_retweet'] == 'false', 0, 1)\n",
    "train['Trump_flag'] = np.where(train['reply_to_screen_name'] == 'realDonaldTrump', 1, 0)\n",
    "train['jfrketich_flag'] = np.where(train['reply_to_screen_name'] == 'jfrketich', 1, 0)\n",
    "\n",
    "\n",
    "test['is_quote'] = np.where(test['is_quote'] == False, 0, 1)\n",
    "test['is_retweet'] = np.where(test['is_retweet'] == False, 0, 1)\n",
    "test['Trump_flag'] = np.where(test['reply_to_screen_name'] == 'realDonaldTrump', 1, 0)\n",
    "test['jfrketich_flag'] = np.where(test['reply_to_screen_name'] == 'jfrketich', 1, 0)"
   ]
  },
  {
   "cell_type": "markdown",
   "id": "7384828a",
   "metadata": {},
   "source": [
    "# Basic Feature Engineering"
   ]
  },
  {
   "cell_type": "code",
   "execution_count": 7,
   "id": "5cb4c2ad",
   "metadata": {},
   "outputs": [],
   "source": [
    "train['char_count'] = train['text'].apply(lambda x: count_chars(x))\n",
    "train['word_count'] = train['text'].apply(lambda x: count_words(x))\n",
    "train['sent_count'] = train['text'].apply(lambda x: count_sent(x))\n",
    "train['capital_char_count'] = train['text'].apply(lambda x: count_capital_chars(x))\n",
    "train['capital_word_count'] = train['text'].apply(lambda x: count_capital_words(x))\n",
    "# train['quoted_word_count'] = train['text'].apply(lambda x: count_words_in_quotes(x))\n",
    "train['stopword_count'] = train['text'].apply(lambda x: count_stopwords(x))\n",
    "train['unique_word_count'] = train['text'].apply(lambda x: count_unique_words(x))\n",
    "                                                 \n",
    "test['char_count'] = test['text'].apply(lambda x: count_chars(x))\n",
    "test['word_count'] = test['text'].apply(lambda x: count_words(x))\n",
    "test['sent_count'] = test['text'].apply(lambda x: count_sent(x))\n",
    "test['capital_char_count'] = test['text'].apply(lambda x: count_capital_chars(x))\n",
    "test['capital_word_count'] = test['text'].apply(lambda x: count_capital_words(x))\n",
    "# test['quoted_word_count'] = test['text'].apply(lambda x: count_words_in_quotes(x))\n",
    "test['stopword_count'] = test['text'].apply(lambda x: count_stopwords(x))\n",
    "test['unique_word_count'] = test['text'].apply(lambda x: count_unique_words(x))\n",
    "                                                 \n",
    "## Average word length\n",
    "train['avg_wordlength'] = train['char_count'] / train['word_count']\n",
    "test['avg_wordlength'] = test['char_count'] / test['word_count']\n",
    "\n",
    "## Average sentence lenght\n",
    "train['avg_sentlength'] = train['word_count'] / train['sent_count']\n",
    "test['avg_sentlength'] = test['word_count'] / test['sent_count']\n",
    "\n",
    "## Unique words vs count words\n",
    "train['unique_vs_words'] = train['unique_word_count'] / train['word_count']\n",
    "test['unique_vs_words'] = test['unique_word_count'] / test['word_count']\n",
    "\n",
    "## stopwords vs count words\n",
    "train['stopwords_vs_words'] = train['stopword_count'] / train['word_count']\n",
    "test['stopwords_vs_words'] = test['stopword_count'] / test['word_count']"
   ]
  },
  {
   "cell_type": "code",
   "execution_count": 12,
   "id": "2181ca07",
   "metadata": {},
   "outputs": [],
   "source": [
    "## Defining input and target\n",
    "X = train.drop(columns = ['text', 'reply_to_screen_name', 'hashtags', 'country'], axis = 1)\n",
    "Y = train['country']\n",
    "Y = np.where(Y == 'us', 0, \n",
    "             np.where(Y == 'uk', 1, \n",
    "                      np.where(Y == 'canada', 2, \n",
    "                               np.where(Y == 'australia', 3,\n",
    "                                        np.where(Y == 'ireland', 4, 5)))))"
   ]
  },
  {
   "cell_type": "code",
   "execution_count": 14,
   "id": "5c287a22",
   "metadata": {},
   "outputs": [
    {
     "data": {
      "text/plain": [
       "array([0, 0, 0, ..., 5, 5, 5])"
      ]
     },
     "execution_count": 14,
     "metadata": {},
     "output_type": "execute_result"
    }
   ],
   "source": [
    "Y"
   ]
  },
  {
   "cell_type": "code",
   "execution_count": 11,
   "id": "191366fc",
   "metadata": {},
   "outputs": [
    {
     "data": {
      "text/plain": [
       "us             40000\n",
       "uk             40000\n",
       "canada         40000\n",
       "australia      40000\n",
       "ireland        40000\n",
       "new_zealand    40000\n",
       "Name: country, dtype: int64"
      ]
     },
     "execution_count": 11,
     "metadata": {},
     "output_type": "execute_result"
    }
   ],
   "source": [
    "Y.value_counts()"
   ]
  },
  {
   "cell_type": "code",
   "execution_count": 8,
   "id": "c1f35650",
   "metadata": {},
   "outputs": [
    {
     "data": {
      "text/html": [
       "<div>\n",
       "<style scoped>\n",
       "    .dataframe tbody tr th:only-of-type {\n",
       "        vertical-align: middle;\n",
       "    }\n",
       "\n",
       "    .dataframe tbody tr th {\n",
       "        vertical-align: top;\n",
       "    }\n",
       "\n",
       "    .dataframe thead th {\n",
       "        text-align: right;\n",
       "    }\n",
       "</style>\n",
       "<table border=\"1\" class=\"dataframe\">\n",
       "  <thead>\n",
       "    <tr style=\"text-align: right;\">\n",
       "      <th></th>\n",
       "      <th>text</th>\n",
       "      <th>reply_to_screen_name</th>\n",
       "      <th>is_quote</th>\n",
       "      <th>is_retweet</th>\n",
       "      <th>hashtags</th>\n",
       "      <th>country</th>\n",
       "      <th>Trump_flag</th>\n",
       "      <th>jfrketich_flag</th>\n",
       "      <th>char_count</th>\n",
       "      <th>word_count</th>\n",
       "      <th>sent_count</th>\n",
       "      <th>capital_char_count</th>\n",
       "      <th>capital_word_count</th>\n",
       "      <th>stopword_count</th>\n",
       "      <th>unique_word_count</th>\n",
       "      <th>avg_wordlength</th>\n",
       "      <th>avg_sentlength</th>\n",
       "      <th>unique_vs_words</th>\n",
       "      <th>stopwords_vs_words</th>\n",
       "    </tr>\n",
       "  </thead>\n",
       "  <tbody>\n",
       "    <tr>\n",
       "      <th>0</th>\n",
       "      <td>Remember the #WuhanCoronaVirus? The pandemic w...</td>\n",
       "      <td>NaN</td>\n",
       "      <td>1</td>\n",
       "      <td>1</td>\n",
       "      <td>WuhanCoronaVirus KillerCuomo</td>\n",
       "      <td>us</td>\n",
       "      <td>0</td>\n",
       "      <td>0</td>\n",
       "      <td>267</td>\n",
       "      <td>41</td>\n",
       "      <td>5</td>\n",
       "      <td>12</td>\n",
       "      <td>0</td>\n",
       "      <td>17</td>\n",
       "      <td>36</td>\n",
       "      <td>6.512195</td>\n",
       "      <td>8.200000</td>\n",
       "      <td>0.878049</td>\n",
       "      <td>0.414634</td>\n",
       "    </tr>\n",
       "    <tr>\n",
       "      <th>1</th>\n",
       "      <td>My sources @WhiteHouse say 2 tactics will be u...</td>\n",
       "      <td>NaN</td>\n",
       "      <td>1</td>\n",
       "      <td>1</td>\n",
       "      <td>Trump</td>\n",
       "      <td>us</td>\n",
       "      <td>0</td>\n",
       "      <td>0</td>\n",
       "      <td>281</td>\n",
       "      <td>48</td>\n",
       "      <td>6</td>\n",
       "      <td>22</td>\n",
       "      <td>2</td>\n",
       "      <td>11</td>\n",
       "      <td>42</td>\n",
       "      <td>5.854167</td>\n",
       "      <td>8.000000</td>\n",
       "      <td>0.875000</td>\n",
       "      <td>0.229167</td>\n",
       "    </tr>\n",
       "    <tr>\n",
       "      <th>2</th>\n",
       "      <td>I'll venture a wild guess: If you were running...</td>\n",
       "      <td>NaN</td>\n",
       "      <td>1</td>\n",
       "      <td>1</td>\n",
       "      <td>COVID19</td>\n",
       "      <td>us</td>\n",
       "      <td>0</td>\n",
       "      <td>0</td>\n",
       "      <td>292</td>\n",
       "      <td>50</td>\n",
       "      <td>3</td>\n",
       "      <td>20</td>\n",
       "      <td>3</td>\n",
       "      <td>16</td>\n",
       "      <td>44</td>\n",
       "      <td>5.840000</td>\n",
       "      <td>16.666667</td>\n",
       "      <td>0.880000</td>\n",
       "      <td>0.320000</td>\n",
       "    </tr>\n",
       "    <tr>\n",
       "      <th>3</th>\n",
       "      <td>#Pakistan (#GreenStimulus = #Nature protection...</td>\n",
       "      <td>NaN</td>\n",
       "      <td>1</td>\n",
       "      <td>1</td>\n",
       "      <td>Pakistan GreenStimulus Nature Green</td>\n",
       "      <td>us</td>\n",
       "      <td>0</td>\n",
       "      <td>0</td>\n",
       "      <td>236</td>\n",
       "      <td>31</td>\n",
       "      <td>1</td>\n",
       "      <td>23</td>\n",
       "      <td>1</td>\n",
       "      <td>8</td>\n",
       "      <td>30</td>\n",
       "      <td>7.612903</td>\n",
       "      <td>31.000000</td>\n",
       "      <td>0.967742</td>\n",
       "      <td>0.258065</td>\n",
       "    </tr>\n",
       "    <tr>\n",
       "      <th>4</th>\n",
       "      <td>🇺🇸 Pandémie de #coronavirus: 30 pasteurs améri...</td>\n",
       "      <td>NaN</td>\n",
       "      <td>1</td>\n",
       "      <td>1</td>\n",
       "      <td>coronavirus COVID__19 COVIDー19</td>\n",
       "      <td>us</td>\n",
       "      <td>0</td>\n",
       "      <td>0</td>\n",
       "      <td>279</td>\n",
       "      <td>35</td>\n",
       "      <td>3</td>\n",
       "      <td>18</td>\n",
       "      <td>2</td>\n",
       "      <td>2</td>\n",
       "      <td>35</td>\n",
       "      <td>7.971429</td>\n",
       "      <td>11.666667</td>\n",
       "      <td>1.000000</td>\n",
       "      <td>0.057143</td>\n",
       "    </tr>\n",
       "  </tbody>\n",
       "</table>\n",
       "</div>"
      ],
      "text/plain": [
       "                                                text reply_to_screen_name  \\\n",
       "0  Remember the #WuhanCoronaVirus? The pandemic w...                  NaN   \n",
       "1  My sources @WhiteHouse say 2 tactics will be u...                  NaN   \n",
       "2  I'll venture a wild guess: If you were running...                  NaN   \n",
       "3  #Pakistan (#GreenStimulus = #Nature protection...                  NaN   \n",
       "4  🇺🇸 Pandémie de #coronavirus: 30 pasteurs améri...                  NaN   \n",
       "\n",
       "   is_quote  is_retweet                             hashtags country  \\\n",
       "0         1           1         WuhanCoronaVirus KillerCuomo      us   \n",
       "1         1           1                                Trump      us   \n",
       "2         1           1                              COVID19      us   \n",
       "3         1           1  Pakistan GreenStimulus Nature Green      us   \n",
       "4         1           1       coronavirus COVID__19 COVIDー19      us   \n",
       "\n",
       "   Trump_flag  jfrketich_flag  char_count  word_count  sent_count  \\\n",
       "0           0               0         267          41           5   \n",
       "1           0               0         281          48           6   \n",
       "2           0               0         292          50           3   \n",
       "3           0               0         236          31           1   \n",
       "4           0               0         279          35           3   \n",
       "\n",
       "   capital_char_count  capital_word_count  stopword_count  unique_word_count  \\\n",
       "0                  12                   0              17                 36   \n",
       "1                  22                   2              11                 42   \n",
       "2                  20                   3              16                 44   \n",
       "3                  23                   1               8                 30   \n",
       "4                  18                   2               2                 35   \n",
       "\n",
       "   avg_wordlength  avg_sentlength  unique_vs_words  stopwords_vs_words  \n",
       "0        6.512195        8.200000         0.878049            0.414634  \n",
       "1        5.854167        8.000000         0.875000            0.229167  \n",
       "2        5.840000       16.666667         0.880000            0.320000  \n",
       "3        7.612903       31.000000         0.967742            0.258065  \n",
       "4        7.971429       11.666667         1.000000            0.057143  "
      ]
     },
     "execution_count": 8,
     "metadata": {},
     "output_type": "execute_result"
    }
   ],
   "source": [
    "train.head()"
   ]
  },
  {
   "cell_type": "code",
   "execution_count": 3,
   "id": "bd8e0150",
   "metadata": {},
   "outputs": [
    {
     "data": {
      "text/plain": [
       "COVID19                        58516\n",
       "coronavirus                    13002\n",
       "Covid19                         8020\n",
       "COVID                           4649\n",
       "covid19                         4578\n",
       "                               ...  \n",
       "covid19 Lockdown                   1\n",
       "NCAAFootball coronavirus           1\n",
       "Liverpool Covid19 JustsayNO        1\n",
       "coronavirus DYK                    1\n",
       "Covid_19 HopeAlive                 1\n",
       "Name: hashtags, Length: 80149, dtype: int64"
      ]
     },
     "execution_count": 3,
     "metadata": {},
     "output_type": "execute_result"
    }
   ],
   "source": [
    "train['hashtags'].value_counts()"
   ]
  },
  {
   "cell_type": "code",
   "execution_count": 47,
   "id": "3b13ca28",
   "metadata": {},
   "outputs": [
    {
     "data": {
      "text/plain": [
       "realDonaldTrump    497\n",
       "jfrketich          129\n",
       "NYGovCuomo          72\n",
       "BorisJohnson        70\n",
       "InfoInterest        47\n",
       "                  ... \n",
       "SNC_GC               1\n",
       "starwars             1\n",
       "UniofOxford          1\n",
       "OPHA_Ontario         1\n",
       "SoonerReporter       1\n",
       "Name: reply_to_screen_name, Length: 7943, dtype: int64"
      ]
     },
     "execution_count": 47,
     "metadata": {},
     "output_type": "execute_result"
    }
   ],
   "source": [
    "train['reply_to_screen_name'].value_counts()"
   ]
  },
  {
   "cell_type": "code",
   "execution_count": 48,
   "id": "7513c183",
   "metadata": {},
   "outputs": [
    {
     "data": {
      "text/plain": [
       "realDonaldTrump    112\n",
       "jfrketich           26\n",
       "paddypower          19\n",
       "BdaGovernment       16\n",
       "LukePField          15\n",
       "                  ... \n",
       "FarleyMedia          1\n",
       "pmagn                1\n",
       "CllrIanSherwood      1\n",
       "OprosUK              1\n",
       "SqueezeJuice         1\n",
       "Name: reply_to_screen_name, Length: 2418, dtype: int64"
      ]
     },
     "execution_count": 48,
     "metadata": {},
     "output_type": "execute_result"
    }
   ],
   "source": [
    "test['reply_to_screen_name'].value_counts()"
   ]
  },
  {
   "cell_type": "code",
   "execution_count": 53,
   "id": "876fd8ab",
   "metadata": {},
   "outputs": [
    {
     "data": {
      "text/plain": [
       "1"
      ]
     },
     "execution_count": 53,
     "metadata": {},
     "output_type": "execute_result"
    }
   ],
   "source": [
    "sum(test['reply_to_screen_name'].unique() == 'InfoInterest')"
   ]
  },
  {
   "cell_type": "code",
   "execution_count": 45,
   "id": "90a89be0",
   "metadata": {},
   "outputs": [
    {
     "data": {
      "text/plain": [
       "1    150205\n",
       "0     89795\n",
       "Name: is_quote, dtype: int64"
      ]
     },
     "execution_count": 45,
     "metadata": {},
     "output_type": "execute_result"
    }
   ],
   "source": [
    "train['is_quote'].value_counts()"
   ]
  },
  {
   "cell_type": "code",
   "execution_count": 46,
   "id": "7417dd1a",
   "metadata": {},
   "outputs": [
    {
     "data": {
      "text/plain": [
       "1    205896\n",
       "0     34104\n",
       "Name: is_retweet, dtype: int64"
      ]
     },
     "execution_count": 46,
     "metadata": {},
     "output_type": "execute_result"
    }
   ],
   "source": [
    "train['is_retweet'].value_counts()"
   ]
  },
  {
   "cell_type": "code",
   "execution_count": 7,
   "id": "b7e8a43e",
   "metadata": {},
   "outputs": [
    {
     "data": {
      "text/plain": [
       "us             40000\n",
       "uk             40000\n",
       "canada         40000\n",
       "australia      40000\n",
       "ireland        40000\n",
       "new_zealand    40000\n",
       "Name: country, dtype: int64"
      ]
     },
     "execution_count": 7,
     "metadata": {},
     "output_type": "execute_result"
    }
   ],
   "source": [
    "train['country'].value_counts()"
   ]
  },
  {
   "cell_type": "code",
   "execution_count": 8,
   "id": "84ce8950",
   "metadata": {},
   "outputs": [
    {
     "data": {
      "text/plain": [
       "False               109482\n",
       "FALSE                89795\n",
       "True                 21590\n",
       "TRUE                 19132\n",
       "Colin o'donoghue         1\n",
       "Name: is_quote, dtype: int64"
      ]
     },
     "execution_count": 8,
     "metadata": {},
     "output_type": "execute_result"
    }
   ],
   "source": [
    "train['is_quote'].value_counts()"
   ]
  },
  {
   "cell_type": "code",
   "execution_count": 13,
   "id": "f5844728",
   "metadata": {},
   "outputs": [
    {
     "data": {
      "text/plain": [
       "0"
      ]
     },
     "execution_count": 13,
     "metadata": {},
     "output_type": "execute_result"
    }
   ],
   "source": [
    "sum(train['is_quote'].isna())"
   ]
  },
  {
   "cell_type": "code",
   "execution_count": 15,
   "id": "1f71bae2",
   "metadata": {},
   "outputs": [
    {
     "data": {
      "text/html": [
       "<div>\n",
       "<style scoped>\n",
       "    .dataframe tbody tr th:only-of-type {\n",
       "        vertical-align: middle;\n",
       "    }\n",
       "\n",
       "    .dataframe tbody tr th {\n",
       "        vertical-align: top;\n",
       "    }\n",
       "\n",
       "    .dataframe thead th {\n",
       "        text-align: right;\n",
       "    }\n",
       "</style>\n",
       "<table border=\"1\" class=\"dataframe\">\n",
       "  <thead>\n",
       "    <tr style=\"text-align: right;\">\n",
       "      <th></th>\n",
       "      <th>text</th>\n",
       "      <th>reply_to_screen_name</th>\n",
       "      <th>is_quote</th>\n",
       "      <th>is_retweet</th>\n",
       "      <th>hashtags</th>\n",
       "      <th>country</th>\n",
       "    </tr>\n",
       "  </thead>\n",
       "  <tbody>\n",
       "    <tr>\n",
       "      <th>162661</th>\n",
       "      <td>0</td>\n",
       "      <td>NYCTogether</td>\n",
       "      <td>Colin o'donoghue</td>\n",
       "      <td>ireland</td>\n",
       "      <td>1498</td>\n",
       "      <td>ireland</td>\n",
       "    </tr>\n",
       "  </tbody>\n",
       "</table>\n",
       "</div>"
      ],
      "text/plain": [
       "       text reply_to_screen_name          is_quote is_retweet hashtags  \\\n",
       "162661    0          NYCTogether  Colin o'donoghue    ireland     1498   \n",
       "\n",
       "        country  \n",
       "162661  ireland  "
      ]
     },
     "execution_count": 15,
     "metadata": {},
     "output_type": "execute_result"
    }
   ],
   "source": [
    "train[train['is_quote'] == \"Colin o'donoghue\"]"
   ]
  },
  {
   "cell_type": "code",
   "execution_count": 11,
   "id": "3667aa80",
   "metadata": {},
   "outputs": [
    {
     "data": {
      "text/plain": [
       "(240000, 6)"
      ]
     },
     "execution_count": 11,
     "metadata": {},
     "output_type": "execute_result"
    }
   ],
   "source": [
    "train.shape"
   ]
  },
  {
   "cell_type": "code",
   "execution_count": 6,
   "id": "2a24d31f",
   "metadata": {},
   "outputs": [
    {
     "data": {
      "text/html": [
       "<div>\n",
       "<style scoped>\n",
       "    .dataframe tbody tr th:only-of-type {\n",
       "        vertical-align: middle;\n",
       "    }\n",
       "\n",
       "    .dataframe tbody tr th {\n",
       "        vertical-align: top;\n",
       "    }\n",
       "\n",
       "    .dataframe thead th {\n",
       "        text-align: right;\n",
       "    }\n",
       "</style>\n",
       "<table border=\"1\" class=\"dataframe\">\n",
       "  <thead>\n",
       "    <tr style=\"text-align: right;\">\n",
       "      <th></th>\n",
       "      <th>text</th>\n",
       "      <th>reply_to_screen_name</th>\n",
       "      <th>is_quote</th>\n",
       "      <th>is_retweet</th>\n",
       "      <th>hashtags</th>\n",
       "      <th>Id</th>\n",
       "    </tr>\n",
       "  </thead>\n",
       "  <tbody>\n",
       "    <tr>\n",
       "      <th>0</th>\n",
       "      <td>Ethical investing is not optional anymore, say...</td>\n",
       "      <td>NaN</td>\n",
       "      <td>False</td>\n",
       "      <td>False</td>\n",
       "      <td>covid19</td>\n",
       "      <td>0</td>\n",
       "    </tr>\n",
       "    <tr>\n",
       "      <th>1</th>\n",
       "      <td>#COVID19 | Suite à la conférence de presse du ...</td>\n",
       "      <td>NaN</td>\n",
       "      <td>False</td>\n",
       "      <td>True</td>\n",
       "      <td>COVID19</td>\n",
       "      <td>1</td>\n",
       "    </tr>\n",
       "    <tr>\n",
       "      <th>2</th>\n",
       "      <td>Yesterday, I had a live discussion with @Steve...</td>\n",
       "      <td>NaN</td>\n",
       "      <td>False</td>\n",
       "      <td>True</td>\n",
       "      <td>COVID19</td>\n",
       "      <td>2</td>\n",
       "    </tr>\n",
       "    <tr>\n",
       "      <th>3</th>\n",
       "      <td>Nepal - #Coronavirus cases up 24% in a week. D...</td>\n",
       "      <td>NaN</td>\n",
       "      <td>False</td>\n",
       "      <td>True</td>\n",
       "      <td>Coronavirus</td>\n",
       "      <td>3</td>\n",
       "    </tr>\n",
       "    <tr>\n",
       "      <th>4</th>\n",
       "      <td>American economy jumped up a %  big news story...</td>\n",
       "      <td>NaN</td>\n",
       "      <td>False</td>\n",
       "      <td>False</td>\n",
       "      <td>LysolAndCloroxSales</td>\n",
       "      <td>4</td>\n",
       "    </tr>\n",
       "  </tbody>\n",
       "</table>\n",
       "</div>"
      ],
      "text/plain": [
       "                                                text reply_to_screen_name  \\\n",
       "0  Ethical investing is not optional anymore, say...                  NaN   \n",
       "1  #COVID19 | Suite à la conférence de presse du ...                  NaN   \n",
       "2  Yesterday, I had a live discussion with @Steve...                  NaN   \n",
       "3  Nepal - #Coronavirus cases up 24% in a week. D...                  NaN   \n",
       "4  American economy jumped up a %  big news story...                  NaN   \n",
       "\n",
       "   is_quote  is_retweet             hashtags  Id  \n",
       "0     False       False              covid19   0  \n",
       "1     False        True              COVID19   1  \n",
       "2     False        True              COVID19   2  \n",
       "3     False        True          Coronavirus   3  \n",
       "4     False       False  LysolAndCloroxSales   4  "
      ]
     },
     "execution_count": 6,
     "metadata": {},
     "output_type": "execute_result"
    }
   ],
   "source": [
    "test.head()"
   ]
  },
  {
   "cell_type": "markdown",
   "id": "91908e59",
   "metadata": {},
   "source": [
    "# Feature Engineering "
   ]
  },
  {
   "cell_type": "code",
   "execution_count": 37,
   "id": "7c7b6edc",
   "metadata": {},
   "outputs": [],
   "source": [
    "train['is_quote'] = train['is_quote'].str.lower()\n",
    "train['is_quote'] = np.where(train['is_quote'] == 'false', 0, 1)\n",
    "\n",
    "test['is_quote'] = np.where(test['is_quote'] == False, 0, 1)"
   ]
  },
  {
   "cell_type": "code",
   "execution_count": 40,
   "id": "f78f5160",
   "metadata": {},
   "outputs": [
    {
     "data": {
      "text/plain": [
       "True       87067\n",
       "TRUE       74823\n",
       "False      44005\n",
       "FALSE      34104\n",
       "ireland        1\n",
       "Name: is_retweet, dtype: int64"
      ]
     },
     "execution_count": 40,
     "metadata": {},
     "output_type": "execute_result"
    }
   ],
   "source": [
    "train['is_retweet'].value_counts()"
   ]
  },
  {
   "cell_type": "code",
   "execution_count": 41,
   "id": "b2d40e17",
   "metadata": {},
   "outputs": [
    {
     "data": {
      "text/html": [
       "<div>\n",
       "<style scoped>\n",
       "    .dataframe tbody tr th:only-of-type {\n",
       "        vertical-align: middle;\n",
       "    }\n",
       "\n",
       "    .dataframe tbody tr th {\n",
       "        vertical-align: top;\n",
       "    }\n",
       "\n",
       "    .dataframe thead th {\n",
       "        text-align: right;\n",
       "    }\n",
       "</style>\n",
       "<table border=\"1\" class=\"dataframe\">\n",
       "  <thead>\n",
       "    <tr style=\"text-align: right;\">\n",
       "      <th></th>\n",
       "      <th>text</th>\n",
       "      <th>reply_to_screen_name</th>\n",
       "      <th>is_quote</th>\n",
       "      <th>is_retweet</th>\n",
       "      <th>hashtags</th>\n",
       "      <th>country</th>\n",
       "    </tr>\n",
       "  </thead>\n",
       "  <tbody>\n",
       "    <tr>\n",
       "      <th>162661</th>\n",
       "      <td>0</td>\n",
       "      <td>NYCTogether</td>\n",
       "      <td>1</td>\n",
       "      <td>ireland</td>\n",
       "      <td>1498</td>\n",
       "      <td>ireland</td>\n",
       "    </tr>\n",
       "  </tbody>\n",
       "</table>\n",
       "</div>"
      ],
      "text/plain": [
       "       text reply_to_screen_name  is_quote is_retweet hashtags  country\n",
       "162661    0          NYCTogether         1    ireland     1498  ireland"
      ]
     },
     "execution_count": 41,
     "metadata": {},
     "output_type": "execute_result"
    }
   ],
   "source": [
    "train[train['is_retweet'] == 'ireland']"
   ]
  },
  {
   "cell_type": "code",
   "execution_count": 42,
   "id": "62b051a1",
   "metadata": {},
   "outputs": [
    {
     "data": {
      "text/plain": [
       "True     40284\n",
       "False    19716\n",
       "Name: is_retweet, dtype: int64"
      ]
     },
     "execution_count": 42,
     "metadata": {},
     "output_type": "execute_result"
    }
   ],
   "source": [
    "test['is_retweet'].value_counts()"
   ]
  }
 ],
 "metadata": {
  "kernelspec": {
   "display_name": "conda_python3",
   "language": "python",
   "name": "conda_python3"
  },
  "language_info": {
   "codemirror_mode": {
    "name": "ipython",
    "version": 3
   },
   "file_extension": ".py",
   "mimetype": "text/x-python",
   "name": "python",
   "nbconvert_exporter": "python",
   "pygments_lexer": "ipython3",
   "version": "3.8.12"
  }
 },
 "nbformat": 4,
 "nbformat_minor": 5
}
