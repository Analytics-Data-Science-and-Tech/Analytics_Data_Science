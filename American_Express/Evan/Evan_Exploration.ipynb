{
 "cells": [
  {
   "cell_type": "code",
   "execution_count": null,
   "id": "81959d9a",
   "metadata": {},
   "outputs": [],
   "source": [
    "## Importing libraries\n",
    "import boto3\n",
    "import pandas as pd\n",
    "import numpy as np\n",
    "from random import sample\n",
    "import matplotlib.pyplot as plt \n",
    "import seaborn as sns\n",
    "from sklearn.impute import KNNImputer\n",
    "pd.set_option('display.max_columns', 200)\n",
    "\n",
    "\n",
    "## Defining the bucket\n",
    "s3 = boto3.resource('s3')\n",
    "bucket_name = 'evan-callaghan-bucket'\n",
    "bucket = s3.Bucket(bucket_name)\n",
    "\n",
    "file_key = 'Kaggle-American-Express-Default/amex_sample_submission.csv'\n",
    "file_key2 = 'Kaggle-American-Express-Default/amex_train_labels.csv'\n",
    "file_key3 = 'Kaggle-American-Express-Default/amex_train_data.csv'\n",
    "file_key4 = 'Kaggle-American-Express-Default/amex_test_data.csv'\n",
    "\n",
    "bucket_object = bucket.Object(file_key)\n",
    "bucket_object2 = bucket.Object(file_key2)\n",
    "bucket_object3 = bucket.Object(file_key3)\n",
    "bucket_object4 = bucket.Object(file_key4)\n",
    "\n",
    "file_object = bucket_object.get()\n",
    "file_object2 = bucket_object2.get()\n",
    "file_object3 = bucket_object3.get()\n",
    "file_object4 = bucket_object4.get()\n",
    "\n",
    "file_content_stream = file_object.get('Body')\n",
    "file_content_stream2 = file_object2.get('Body')\n",
    "file_content_stream3 = file_object3.get('Body')\n",
    "file_content_stream4 = file_object4.get('Body')\n",
    "\n",
    "## Creating data-type dictionary for reading the train data-frame\n",
    "dtype_dict = {'customer_ID': \"object\", 'S_2': \"object\", 'P_2': 'float16', 'D_39': 'float16', 'B_1': 'float16','B_2': 'float16',\n",
    "              'R_1': 'float16','S_3': 'float16','D_41': 'float16','B_3': 'float16','D_42': 'float16','D_43': 'float16','D_44': 'float16',\n",
    "              'B_4': 'float16','D_45': 'float16','B_5': 'float16','R_2': 'float16','D_46': 'float16','D_47': 'float16','D_48': 'float16',\n",
    "              'D_49': 'float16','B_6': 'float16','B_7': 'float16','B_8': 'float16','D_50': 'float16','D_51': 'float16','B_9': 'float16',\n",
    "              'R_3': 'float16','D_52': 'float16','P_3': 'float16','B_10': 'float16','D_53': 'float16','S_5': 'float16','B_11': 'float16',\n",
    "              'S_6': 'float16','D_54': 'float16','R_4': 'float16','S_7': 'float16','B_12': 'float16','S_8': 'float16','D_55': 'float16',\n",
    "              'D_56': 'float16','B_13': 'float16','R_5': 'float16','D_58': 'float16','S_9': 'float16','B_14': 'float16','D_59': 'float16',\n",
    "              'D_60': 'float16','D_61': 'float16','B_15': 'float16','S_11': 'float16','D_62': 'float16','D_63': 'object','D_64': 'object',\n",
    "              'D_65': 'float16','B_16': 'float16','B_17': 'float16','B_18': 'float16','B_19': 'float16','D_66': 'float16','B_20': 'float16',\n",
    "              'D_68': 'float16','S_12': 'float16','R_6': 'float16','S_13': 'float16','B_21': 'float16','D_69': 'float16','B_22': 'float16',\n",
    "              'D_70': 'float16','D_71': 'float16','D_72': 'float16','S_15': 'float16','B_23': 'float16','D_73': 'float16','P_4': 'float16',\n",
    "              'D_74': 'float16','D_75': 'float16','D_76': 'float16','B_24': 'float16','R_7': 'float16','D_77': 'float16','B_25': 'float16',\n",
    "              'B_26': 'float16','D_78': 'float16','D_79': 'float16','R_8': 'float16','R_9': 'float16','S_16': 'float16','D_80': 'float16',\n",
    "              'R_10': 'float16','R_11': 'float16','B_27': 'float16','D_81': 'float16','D_82': 'float16','S_17': 'float16','R_12': 'float16',\n",
    "              'B_28': 'float16','R_13': 'float16','D_83': 'float16','R_14': 'float16','R_15': 'float16','D_84': 'float16','R_16': 'float16',\n",
    "              'B_29': 'float16','B_30': 'float16','S_18': 'float16','D_86': 'float16','D_87': 'float16','R_17': 'float16','R_18': 'float16',\n",
    "              'D_88': 'float16','B_31': 'int64','S_19': 'float16','R_19': 'float16','B_32': 'float16','S_20': 'float16','R_20': 'float16',\n",
    "              'R_21': 'float16','B_33': 'float16','D_89': 'float16','R_22': 'float16','R_23': 'float16','D_91': 'float16','D_92': 'float16',\n",
    "              'D_93': 'float16','D_94': 'float16','R_24': 'float16','R_25': 'float16','D_96': 'float16','S_22': 'float16','S_23': 'float16',\n",
    "              'S_24': 'float16','S_25': 'float16','S_26': 'float16','D_102': 'float16','D_103': 'float16','D_104': 'float16','D_105': 'float16',\n",
    "              'D_106': 'float16','D_107': 'float16','B_36': 'float16','B_37': 'float16', 'R_26': 'float16','R_27': 'float16','B_38': 'float16',\n",
    "              'D_108': 'float16','D_109': 'float16','D_110': 'float16','D_111': 'float16','B_39': 'float16','D_112': 'float16','B_40': 'float16',\n",
    "              'S_27': 'float16','D_113': 'float16','D_114': 'float16','D_115': 'float16','D_116': 'float16','D_117': 'float16','D_118': 'float16',\n",
    "              'D_119': 'float16','D_120': 'float16','D_121': 'float16','D_122': 'float16','D_123': 'float16','D_124': 'float16','D_125': 'float16',\n",
    "              'D_126': 'float16','D_127': 'float16','D_128': 'float16','D_129': 'float16','B_41': 'float16','B_42': 'float16','D_130': 'float16',\n",
    "              'D_131': 'float16','D_132': 'float16','D_133': 'float16','R_28': 'float16','D_134': 'float16','D_135': 'float16','D_136': 'float16',\n",
    "              'D_137': 'float16','D_138': 'float16','D_139': 'float16','D_140': 'float16','D_141': 'float16','D_142': 'float16','D_143': 'float16',\n",
    "              'D_144': 'float16','D_145': 'float16'}\n",
    "\n",
    "## Reading the data\n",
    "sample_submission = pd.read_csv(file_content_stream)\n",
    "train_labels = pd.read_csv(file_content_stream2)\n",
    "train = pd.read_csv(file_content_stream3, dtype = dtype_dict)\n",
    "#test = pd.read_csv(file_content_stream4)"
   ]
  },
  {
   "cell_type": "code",
   "execution_count": null,
   "id": "267d129a",
   "metadata": {},
   "outputs": [],
   "source": [
    "## Appending target variables\n",
    "train = pd.merge(train, train_labels, on = 'customer_ID', how = 'left')\n",
    "train.head()"
   ]
  },
  {
   "cell_type": "code",
   "execution_count": null,
   "id": "f1f375e6",
   "metadata": {},
   "outputs": [],
   "source": [
    "## Builidng a subset of the training data-frame with 1000 randomly sampled customers\n",
    "listy = set(train['customer_ID'].unique())\n",
    "samples = sample(listy, 1000)\n",
    "\n",
    "## Subsetting the data\n",
    "train_sample = train[np.isin(train['customer_ID'], samples)]\n",
    "\n",
    "## Printing the shape of the resulting data-frame\n",
    "train_sample.shape"
   ]
  },
  {
   "cell_type": "markdown",
   "id": "b0769341",
   "metadata": {},
   "source": [
    "Ideas:"
   ]
  },
  {
   "cell_type": "code",
   "execution_count": null,
   "id": "5100b3e3",
   "metadata": {},
   "outputs": [],
   "source": [
    "# from sklearn.linear_model import LinearRegression\n",
    "# import matplotlib.pyplot as plt\n",
    "\n",
    "# ## Creating a subset of the training data\n",
    "# sub = train_sample[train_sample['customer_ID'] == '04305420dfcc6bae8a5943fde9b19a8beff5456e529a0e6bce15655d9b814329']\n",
    "\n",
    "# ## Defining the input and target variables\n",
    "# X = np.asarray(sub['S_2'])\n",
    "# Y = np.asarray(sub['S_5'])\n",
    "\n",
    "# ## Cleaning the date variable\n",
    "# df = pd.DataFrame({'time': X, 'value': Y})\n",
    "# df.time = pd.to_datetime(df.time)\n",
    "\n",
    "# ## Fitting a linear regression line\n",
    "# lm_md = LinearRegression().fit(df.time.values.reshape(-1, 1), df['value'].values.reshape(-1, 1)) \n",
    "\n",
    "# ## Extracting the linear model coefficients\n",
    "# print('Coefficient:', lm_md.coef_)\n",
    "\n",
    "# ## Predicting on the train set\n",
    "# y_pred = lm_md.predict(df.time.values.astype(float).reshape(-1, 1))\n",
    "# df['pred'] = y_pred\n",
    "\n",
    "# ## Plotting results\n",
    "# ax = df.plot(x='time', y='value', color='black', style='.', figsize = ([14, 8]))\n",
    "# df.plot(x='time', y='pred', color='orange', linewidth=3, ax=ax, alpha=0.5)\n",
    "# ax.set_title('My Title')\n",
    "# ax.set_xlabel('Date')\n",
    "# ax.set_ylabel('Value')\n",
    "# plt.show()"
   ]
  },
  {
   "cell_type": "code",
   "execution_count": null,
   "id": "47199517",
   "metadata": {},
   "outputs": [],
   "source": [
    "# train_labels[train_labels['customer_ID'] == '04305420dfcc6bae8a5943fde9b19a8beff5456e529a0e6bce15655d9b814329']"
   ]
  },
  {
   "cell_type": "code",
   "execution_count": null,
   "id": "040c1f6a",
   "metadata": {},
   "outputs": [],
   "source": [
    "# ## Defining a list of all customer_IDs\n",
    "# customers = train_samples['customer_ID'].unique()\n",
    "\n",
    "# ## Initialzing new column in the train_labels_sample data-frame\n",
    "# train_labels_sample['Spend_Slope'] = np.nan\n",
    "\n",
    "# ## Looping through each set of customers:\n",
    "# for customer in customers:\n",
    "    \n",
    "#     ## Subsetting by customer\n",
    "#     customers_temp = train_sample[train_sample['customer_ID'] == customer]\n",
    "    \n",
    "#     ## Spend variable subset\n",
    "#     spend_temp = customer_temp[['S_2', 'S_3', 'S_5', 'S_6', 'S_7', 'S_8', 'S_9','S_11', 'S_12', 'S_13', 'S_15', 'S_16', \n",
    "#                                 'S_17', 'S_18', 'S_19', 'S_20', 'S_22', 'S_23', 'S_24', 'S_25', 'S_26', 'S_27']]\n",
    "    \n",
    "#     ## Defining the input and target variables\n",
    "#     X = spend_temp['S_2']\n",
    "#     Y = spend_temp.drop(columns = ['S_2'])\n",
    "    \n",
    "#     ## Creating the linear regression model\n",
    "#     lm_md = LinearRegression().fit(X, Y)\n",
    "    \n",
    "#     ## Extracting the slope of the line\n",
    "#     slope = lm_md.coef_\n",
    "    \n",
    "#     ## Creating new variable for spend slope\n",
    "#     train_labels_sample['Spend_Slope'] = np.where(train_labels_sample['customer_ID'] == customer, slope, train_labels_sample['Spend_Slope'])\n",
    "    \n",
    "    "
   ]
  },
  {
   "cell_type": "markdown",
   "id": "72489738",
   "metadata": {},
   "source": [
    "## Idea:\n",
    "Create subsets on customer_ID and create a simple linear regression model to extract the slope of the line\n",
    "\n",
    "Useful for change in spending habit, change in balance, and change in paymne behaviours."
   ]
  },
  {
   "cell_type": "markdown",
   "id": "891f2d65",
   "metadata": {},
   "source": [
    "## Handling missing values:"
   ]
  },
  {
   "cell_type": "code",
   "execution_count": null,
   "id": "8b0c958b",
   "metadata": {},
   "outputs": [],
   "source": [
    "train.shape"
   ]
  },
  {
   "cell_type": "code",
   "execution_count": null,
   "id": "5341edd3",
   "metadata": {},
   "outputs": [],
   "source": [
    "missing = pd.DataFrame(train.isnull().sum()).T\n",
    "missing"
   ]
  },
  {
   "cell_type": "code",
   "execution_count": null,
   "id": "f6813db2",
   "metadata": {},
   "outputs": [],
   "source": [
    "train_sample.shape"
   ]
  },
  {
   "cell_type": "code",
   "execution_count": null,
   "id": "1acb1b5b",
   "metadata": {},
   "outputs": [],
   "source": [
    "missing = pd.DataFrame(train_sample.isnull().sum()).T\n",
    "missing"
   ]
  },
  {
   "cell_type": "code",
   "execution_count": null,
   "id": "d4020de2",
   "metadata": {},
   "outputs": [],
   "source": [
    "## Dropping columns with too many missing values (over 4,000,000 missing)\n",
    "train = train.drop(columns = ['D_42', 'D_49', 'D_53', 'D_66', 'D_73', 'D_76', 'R_9', 'D_82', 'B_29', 'D_87', 'D_88', 'D_106', 'R_26', 'D_108', 'D_110', \n",
    "                             'D_111', 'B_39', 'B_42', 'D_132', 'D_134', 'D_135', 'D_136', 'D_137', 'D_138', 'D_142'])\n",
    "train_sample = train_sample.drop(columns = ['D_42', 'D_49', 'D_53', 'D_66', 'D_73', 'D_76', 'R_9', 'D_82', 'B_29', 'D_87', 'D_88', 'D_106', 'R_26', \n",
    "                                            'D_108', 'D_110', 'D_111', 'B_39', 'B_42', 'D_132', 'D_134', 'D_135', 'D_136', 'D_137', 'D_138', 'D_142'])"
   ]
  },
  {
   "cell_type": "markdown",
   "id": "c0dce2c2",
   "metadata": {},
   "source": [
    "### KNN Imputer"
   ]
  },
  {
   "cell_type": "markdown",
   "id": "17648f74",
   "metadata": {},
   "source": [
    "#### Sample data-frame:"
   ]
  },
  {
   "cell_type": "code",
   "execution_count": null,
   "id": "c920bb0c",
   "metadata": {},
   "outputs": [],
   "source": [
    "## Defining the input variables and dropping categorical variables\n",
    "knn_train_sample = train_sample.drop(columns = ['customer_ID', 'S_2', 'D_63', 'D_64', 'target'])\n",
    "\n",
    "## Building the KNN model\n",
    "knn_train_sample_fixed = KNNImputer(n_neighbors = 5).fit_transform(knn_train_sample)\n",
    "\n",
    "## Defining data-frames to store results\n",
    "DF1 = train_sample[['customer_ID', 'S_2', 'D_63', 'D_64', 'target']].reset_index(drop = True)\n",
    "DF2 = pd.DataFrame(knn_train_sample_fixed, columns = knn_train_sample.columns)\n",
    "\n",
    "## Returning final data-frame\n",
    "results = pd.concat([DF1, DF2], axis = 1)\n",
    "\n",
    "results.head()"
   ]
  },
  {
   "cell_type": "markdown",
   "id": "b91a67dd",
   "metadata": {},
   "source": [
    "#### Full train data-frame:"
   ]
  },
  {
   "cell_type": "code",
   "execution_count": null,
   "id": "f887ed45",
   "metadata": {},
   "outputs": [],
   "source": [
    "## Defining the input variables and dropping categorical variables\n",
    "knn_train = train.drop(columns = ['customer_ID', 'S_2', 'D_63', 'D_64', 'target'])\n",
    "\n",
    "## Building the KNN model\n",
    "knn_train_fixed = KNNImputer(n_neighbors = 5).fit_transform(knn_train)\n",
    "\n",
    "## Defining data-frames to store results\n",
    "DF1 = train[['customer_ID', 'S_2', 'D_63', 'D_64', 'target']].reset_index(drop = True)\n",
    "DF2 = pd.DataFrame(knn_train_fixed, columns = knn_train.columns)\n",
    "\n",
    "## Returning final data-frame\n",
    "pd.concat([DF1, DF2], axis = 1)"
   ]
  },
  {
   "cell_type": "markdown",
   "id": "3151b60f",
   "metadata": {},
   "source": [
    "## \"Payment\" and \"Spend\" variable engineering:"
   ]
  },
  {
   "cell_type": "code",
   "execution_count": null,
   "id": "1df8d9bc",
   "metadata": {},
   "outputs": [],
   "source": [
    "p_variables = train.columns\n",
    "[x for x in p_variables if x.startswith('P_')]"
   ]
  },
  {
   "cell_type": "code",
   "execution_count": null,
   "id": "8e4b10ca",
   "metadata": {},
   "outputs": [],
   "source": [
    "## Creating a new figure\n",
    "fig, axes = plt.subplots(2, 2, figsize = (18, 12))\n",
    "\n",
    "sns.boxplot(ax = axes[0, 0], x = 'target', y = 'P_2', hue = 'target', data = train)\n",
    "sns.boxplot(ax = axes[0, 1], x = 'target', y = 'P_3', hue = 'target', data = train)\n",
    "sns.boxplot(ax = axes[1, 0], x = 'target', y = 'P_4', hue = 'target', data = train)"
   ]
  },
  {
   "cell_type": "code",
   "execution_count": null,
   "id": "a7597124",
   "metadata": {},
   "outputs": [],
   "source": [
    "## Sum of 'P' variables\n",
    "sum_value = train.groupby('customer_ID')[['P_2', 'P_3', 'P_4']].sum().reset_index(drop = False)\n",
    "target = train.groupby('customer_ID')['target'].max().reset_index(drop = False)\n",
    "target_sums = sum_value.merge(target, how = 'left', on = 'customer_ID')\n",
    "target_sums.columns = ['customer_ID', 'P_2_sum', 'P_3_sum', 'P_4_sum', 'target']\n",
    "\n",
    "## Creating a new figure\n",
    "fig, axes = plt.subplots(2, 2, figsize = (18, 12))\n",
    "\n",
    "sns.boxplot(ax = axes[0, 0], x = 'target', y = 'P_2_sum', hue = 'target', data = target_sums)\n",
    "sns.boxplot(ax = axes[0, 1], x = 'target', y = 'P_3_sum', hue = 'target', data = target_sums)\n",
    "sns.boxplot(ax = axes[1, 0], x = 'target', y = 'P_4_sum', hue = 'target', data = target_sums)"
   ]
  },
  {
   "cell_type": "markdown",
   "id": "d5518267",
   "metadata": {},
   "source": [
    "### Selections: P_2, P_2_sum, P_3"
   ]
  },
  {
   "cell_type": "code",
   "execution_count": null,
   "id": "e0e6c3c6",
   "metadata": {},
   "outputs": [],
   "source": [
    "## Grouping the data by customer_ID to obtain the mean and median P_2 variable values\n",
    "P_2_mean = pd.DataFrame(train.groupby(['customer_ID'])['P_2'].mean()).reset_index(drop = False)\n",
    "P_2_median = pd.DataFrame(train.groupby(['customer_ID'])['P_2'].median()).reset_index(drop = False)\n",
    "P_2_sum = pd.DataFrame(train.groupby(['customer_ID'])['P_2'].sum()).reset_index(drop = False)\n",
    "\n",
    "## Cleaning the resulting data-frames\n",
    "P_2_mean.columns = ['customer_ID', 'P_2_mean']\n",
    "P_2_median.columns = ['customer_ID', 'P_2_median']\n",
    "P_2_sum.columns = ['customer_ID', 'P_2_sum']\n",
    "\n",
    "## Merging the resulting data-frames together\n",
    "P_2_variable = P_2_mean.merge(P_2_median, how = 'left', \n",
    "                              on = 'customer_ID').merge(P_2_sum, how = 'left', on = 'customer_ID')\n",
    "\n",
    "## Merging back into the complete train data-frame\n",
    "train = train.merge(P_2_variable, how = 'left', on = 'customer_ID')"
   ]
  },
  {
   "cell_type": "code",
   "execution_count": null,
   "id": "dab39678",
   "metadata": {},
   "outputs": [],
   "source": [
    "## Grouping the data by customer_ID to obtain the mean and median P_3 variable values\n",
    "P_3_mean = pd.DataFrame(train.groupby(['customer_ID'])['P_3'].mean()).reset_index(drop = False)\n",
    "P_3_median = pd.DataFrame(train.groupby(['customer_ID'])['P_3'].median()).reset_index(drop = False)\n",
    "\n",
    "## Cleaning the resulting data-frames\n",
    "P_3_mean.columns = ['customer_ID', 'P_3_mean']\n",
    "P_3_median.columns = ['customer_ID', 'P_3_median']\n",
    "\n",
    "## Merging the resulting data-frames together\n",
    "P_3_variable = P_3_mean.merge(P_3_median, how = 'left', on = 'customer_ID')\n",
    "\n",
    "## Merging back into the complete train data-frame\n",
    "train = train.merge(P_3_variable, how = 'left', on = 'customer_ID')"
   ]
  },
  {
   "cell_type": "code",
   "execution_count": null,
   "id": "9473c5bd",
   "metadata": {},
   "outputs": [],
   "source": [
    "train.head(13)"
   ]
  },
  {
   "cell_type": "code",
   "execution_count": null,
   "id": "28eaf8ca",
   "metadata": {},
   "outputs": [],
   "source": []
  },
  {
   "cell_type": "code",
   "execution_count": null,
   "id": "b02f86f0",
   "metadata": {},
   "outputs": [],
   "source": []
  },
  {
   "cell_type": "code",
   "execution_count": null,
   "id": "46b9ee9c",
   "metadata": {},
   "outputs": [],
   "source": []
  },
  {
   "cell_type": "code",
   "execution_count": null,
   "id": "04aa4417",
   "metadata": {},
   "outputs": [],
   "source": [
    "s_variables = train.columns\n",
    "[x for x in s_variables if x.startswith('S_')]"
   ]
  },
  {
   "cell_type": "code",
   "execution_count": null,
   "id": "5e181d22",
   "metadata": {},
   "outputs": [],
   "source": [
    "## Creating a new figure\n",
    "fig, axes = plt.subplots(11, 2, figsize = (18, 100))\n",
    "\n",
    "sns.boxplot(ax = axes[0, 0], x = 'target', y = 'S_3', hue = 'target', data = train)\n",
    "sns.boxplot(ax = axes[0, 1], x = 'target', y = 'S_5', hue = 'target', data = train)\n",
    "sns.boxplot(ax = axes[1, 0], x = 'target', y = 'S_6', hue = 'target', data = train)\n",
    "sns.boxplot(ax = axes[1, 1], x = 'target', y = 'S_7', hue = 'target', data = train)\n",
    "sns.boxplot(ax = axes[2, 0], x = 'target', y = 'S_8', hue = 'target', data = train)\n",
    "sns.boxplot(ax = axes[2, 1], x = 'target', y = 'S_9', hue = 'target', data = train)\n",
    "sns.boxplot(ax = axes[3, 0], x = 'target', y = 'S_11', hue = 'target', data = train)\n",
    "sns.boxplot(ax = axes[3, 1], x = 'target', y = 'S_12', hue = 'target', data = train)\n",
    "sns.boxplot(ax = axes[4, 0], x = 'target', y = 'S_13', hue = 'target', data = train)\n",
    "sns.boxplot(ax = axes[4, 1], x = 'target', y = 'S_15', hue = 'target', data = train)\n",
    "sns.boxplot(ax = axes[5, 0], x = 'target', y = 'S_16', hue = 'target', data = train)\n",
    "sns.boxplot(ax = axes[5, 1], x = 'target', y = 'S_17', hue = 'target', data = train)\n",
    "sns.boxplot(ax = axes[6, 0], x = 'target', y = 'S_18', hue = 'target', data = train)\n",
    "sns.boxplot(ax = axes[6, 1], x = 'target', y = 'S_19', hue = 'target', data = train)\n",
    "sns.boxplot(ax = axes[7, 0], x = 'target', y = 'S_20', hue = 'target', data = train)\n",
    "sns.boxplot(ax = axes[7, 1], x = 'target', y = 'S_22', hue = 'target', data = train)\n",
    "sns.boxplot(ax = axes[8, 0], x = 'target', y = 'S_23', hue = 'target', data = train)\n",
    "sns.boxplot(ax = axes[8, 1], x = 'target', y = 'S_24', hue = 'target', data = train)\n",
    "sns.boxplot(ax = axes[9, 0], x = 'target', y = 'S_25', hue = 'target', data = train)\n",
    "sns.boxplot(ax = axes[9, 1], x = 'target', y = 'S_26', hue = 'target', data = train)\n",
    "sns.boxplot(ax = axes[10, 0], x = 'target', y = 'S_27', hue = 'target', data = train)"
   ]
  },
  {
   "cell_type": "markdown",
   "id": "4c9fa060",
   "metadata": {},
   "source": [
    "### Selections: S_3, S_7, S_8, S_13, S_15, S_27"
   ]
  },
  {
   "cell_type": "code",
   "execution_count": null,
   "id": "13f0754c",
   "metadata": {},
   "outputs": [],
   "source": [
    "## Grouping the data by customer_ID to obtain the mean and median S_3 variable values\n",
    "S_3_mean = pd.DataFrame(train.groupby(['customer_ID'])['S_3'].mean()).reset_index(drop = False)\n",
    "S_3_median = pd.DataFrame(train.groupby(['customer_ID'])['S_3'].median()).reset_index(drop = False)\n",
    "\n",
    "## Cleaning the resulting data-frames\n",
    "S_3_mean.columns = ['customer_ID', 'S_3_mean']\n",
    "S_3_median.columns = ['customer_ID', 'S_3_median']\n",
    "\n",
    "## Merging the resulting data-frames together\n",
    "S_3_variable = S_3_mean.merge(S_3_median, how = 'left', on = 'customer_ID')\n",
    "\n",
    "## Merging back into the complete train data-frame\n",
    "train = train.merge(S_3_variable, how = 'left', on = 'customer_ID')"
   ]
  },
  {
   "cell_type": "code",
   "execution_count": null,
   "id": "305de7d1",
   "metadata": {},
   "outputs": [],
   "source": [
    "## Adding Mean and Median for \"Spend\" variables by customer\n",
    "\n",
    "## Defining a list of all customerIDs\n",
    "customers = train_sample['customer_ID'].unique()\n",
    "\n",
    "## Defining an empty data-frame to store results\n",
    "train_sample_out = pd.DataFrame()\n",
    "\n",
    "## Looping through all customer subsets\n",
    "for customer in customers:\n",
    "    \n",
    "    ## Subsetting the data\n",
    "    customer_temp = train_sample[train_sample['customer_ID'] == customer]\n",
    "    \n",
    "    ## Creating the mean and median variables\n",
    "    customer_temp['Mean_S3'] = customer_temp['S_3'].mean()\n",
    "    customer_temp['Mean_S5'] = customer_temp['S_5'].mean()\n",
    "    customer_temp['Mean_S6'] = customer_temp['S_6'].mean()\n",
    "    customer_temp['Mean_S7'] = customer_temp['S_7'].mean()\n",
    "    customer_temp['Mean_S8'] = customer_temp['S_8'].mean()\n",
    "    customer_temp['Mean_S9'] = customer_temp['S_9'].mean()\n",
    "    customer_temp['Mean_S11'] = customer_temp['S_11'].mean()\n",
    "    customer_temp['Mean_S12'] = customer_temp['S_12'].mean()\n",
    "    customer_temp['Mean_S13'] = customer_temp['S_13'].mean()\n",
    "    customer_temp['Mean_S15'] = customer_temp['S_15'].mean()\n",
    "    customer_temp['Mean_S16'] = customer_temp['S_16'].mean()\n",
    "    customer_temp['Mean_S17'] = customer_temp['S_17'].mean()\n",
    "    \n",
    "    \n",
    "    \n",
    "    customer_temp['Median_P2'] = customer_temp['P_2'].median()\n",
    "    customer_temp['Median_P3'] = customer_temp['P_2'].median()\n",
    "    \n",
    "    ## Appending values to results data-frame\n",
    "    train_sample_out = pd.concat([train_sample_out, customer_temp], axis = 0) "
   ]
  },
  {
   "cell_type": "markdown",
   "id": "6b7201ef",
   "metadata": {},
   "source": [
    "#### Mean, Median, and Mode for each customer and variable "
   ]
  },
  {
   "cell_type": "code",
   "execution_count": null,
   "id": "23c5e3c6",
   "metadata": {},
   "outputs": [],
   "source": [
    "## Defining a list of all customerIDs\n",
    "customers = train_samples['customer_ID'].unique()\n",
    "\n",
    "## Defining an empty data-frame to store results\n",
    "train_samples_out = pd.DataFrame()\n",
    "\n",
    "## Looping through all customer subsets\n",
    "for customer in customers:\n",
    "    \n",
    "    ## Subsetting the data\n",
    "    customer_temp = train_samples[train_samples['customer_ID'] == customer]\n",
    "    \n",
    "    ## Creating the mean, median, and mode variables\n",
    "    customer_temp['Mean_P2'] = customer_temp['P_2'].mean()\n",
    "    \n",
    "values = mydata.values\n",
    "imputer = Imputer(missing_values=’NaN’, strategy=’mean’)\n",
    "transformed_values = imputer.fit_transform(values)\n",
    "# strategy can be changed to \"median\" and “most_frequent”"
   ]
  },
  {
   "cell_type": "code",
   "execution_count": null,
   "id": "b7a8ee6d",
   "metadata": {},
   "outputs": [],
   "source": [
    "train_sample.head()"
   ]
  },
  {
   "cell_type": "code",
   "execution_count": null,
   "id": "10faf82d",
   "metadata": {},
   "outputs": [],
   "source": [
    "train.shape"
   ]
  },
  {
   "cell_type": "code",
   "execution_count": null,
   "id": "6ba86332",
   "metadata": {},
   "outputs": [],
   "source": []
  },
  {
   "cell_type": "code",
   "execution_count": null,
   "id": "3695d4cc",
   "metadata": {},
   "outputs": [],
   "source": []
  },
  {
   "cell_type": "code",
   "execution_count": null,
   "id": "171ed189",
   "metadata": {},
   "outputs": [],
   "source": []
  }
 ],
 "metadata": {
  "kernelspec": {
   "display_name": "conda_python3",
   "language": "python",
   "name": "conda_python3"
  },
  "language_info": {
   "codemirror_mode": {
    "name": "ipython",
    "version": 3
   },
   "file_extension": ".py",
   "mimetype": "text/x-python",
   "name": "python",
   "nbconvert_exporter": "python",
   "pygments_lexer": "ipython3",
   "version": "3.8.12"
  }
 },
 "nbformat": 4,
 "nbformat_minor": 5
}
