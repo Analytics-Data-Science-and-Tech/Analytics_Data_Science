{
 "cells": [
  {
   "cell_type": "code",
   "execution_count": null,
   "id": "81e564d7",
   "metadata": {},
   "outputs": [],
   "source": [
    "import boto3\n",
    "import pandas as pd; pd.set_option('display.max_columns', 100)\n",
    "import numpy as np\n",
    "import matplotlib.pyplot as plt\n",
    "import seaborn as sns\n",
    "from sklearn.tree import DecisionTreeClassifier, plot_tree\n",
    "from sklearn.ensemble import RandomForestClassifier\n",
    "from sklearn.impute import KNNImputer\n",
    "\n",
    "s3 = boto3.resource('s3')\n",
    "bucket_name = 'analytics-data-science-competitions'\n",
    "bucket = s3.Bucket(bucket_name)\n",
    "\n",
    "file_key_1 = 'Tabular-Playground-Aug-2022/train.csv'\n",
    "file_key_2 = 'Tabular-Playground-Aug-2022/test.csv'\n",
    "\n",
    "bucket_object_1 = bucket.Object(file_key_1)\n",
    "file_object_1 = bucket_object_1.get()\n",
    "file_content_stream_1 = file_object_1.get('Body')\n",
    "\n",
    "bucket_object_2 = bucket.Object(file_key_2)\n",
    "file_object_2 = bucket_object_2.get()\n",
    "file_content_stream_2 = file_object_2.get('Body')\n",
    "\n",
    "## Reading data-files\n",
    "train = pd.read_csv(file_content_stream_1)\n",
    "train = train.drop(columns = ['id'], axis = 1)\n",
    "\n",
    "test = pd.read_csv(file_content_stream_2)\n",
    "test = test.drop(columns = ['id'], axis = 1)\n",
    "\n",
    "## Changing labels to dummies\n",
    "train_dummies = pd.get_dummies(train[['attribute_0']])\n",
    "train = train.drop(columns = ['product_code', 'attribute_0', 'attribute_1'], axis = 1)\n",
    "train = pd.concat([train, train_dummies], axis = 1)\n",
    "\n",
    "test_dummies = pd.get_dummies(test[['attribute_0']])\n",
    "test = test.drop(columns = ['product_code', 'attribute_0', 'attribute_1'], axis = 1)\n",
    "test = pd.concat([test, test_dummies], axis = 1)\n",
    "\n",
    "## Filling missing values with kNN\n",
    "knn_imputer = KNNImputer(n_neighbors = 5, weights = 'distance')\n",
    "train = pd.DataFrame(knn_imputer.fit_transform(train), columns = train.columns)\n",
    "test = pd.DataFrame(knn_imputer.fit_transform(test), columns = test.columns)\n",
    "\n",
    "## Engineering features\n",
    "train['feature_1'] = np.where(train['loading'] < 150, 0, 1)\n",
    "test['feature_1'] = np.where(test['loading'] < 150, 0, 1)\n",
    "\n",
    "## Defining input and target variables\n",
    "X = train[['loading', 'measurement_2', 'measurement_4', 'measurement_5',\n",
    "           'measurement_6', 'measurement_7', 'measurement_8', 'measurement_15',\n",
    "           'measurement_17', 'feature_1']]\n",
    "# X = train.drop(columns = ['failure'], axis = 1)\n",
    "Y = train['failure']"
   ]
  },
  {
   "cell_type": "code",
   "execution_count": null,
   "id": "5712869a",
   "metadata": {},
   "outputs": [],
   "source": [
    "X.describe()"
   ]
  },
  {
   "cell_type": "code",
   "execution_count": null,
   "id": "76718089",
   "metadata": {},
   "outputs": [],
   "source": [
    "## Building Random Forest model\n",
    "RF_md = RandomForestClassifier(n_estimators = 300, max_depth = 3, criterion = 'gini').fit(X, Y)"
   ]
  },
  {
   "cell_type": "code",
   "execution_count": null,
   "id": "3a706503",
   "metadata": {},
   "outputs": [],
   "source": [
    "importance = pd.DataFrame({'feature': X.columns, 'Imp': RF_md.feature_importances_})\n",
    "importance = importance.sort_values(by = 'Imp', ascending = False)\n",
    "importance"
   ]
  },
  {
   "cell_type": "code",
   "execution_count": null,
   "id": "c75dceba",
   "metadata": {},
   "outputs": [],
   "source": [
    "from sklearn.feature_selection import RFECV\n",
    "\n",
    "## Running RFE with Random forest\n",
    "RF_auto_feature = RFECV(estimator = RandomForestClassifier(n_estimators = 300, max_depth = 3), step = 1, scoring = 'roc_auc', min_features_to_select = 10, cv = 3, n_jobs = -1).fit(X, Y)\n",
    "\n",
    "## Appending results \n",
    "X.columns[RF_auto_feature.support_]"
   ]
  },
  {
   "cell_type": "code",
   "execution_count": null,
   "id": "cac83f53",
   "metadata": {},
   "outputs": [],
   "source": [
    "X.columns[RF_auto_feature.support_]"
   ]
  },
  {
   "cell_type": "code",
   "execution_count": null,
   "id": "0b66f00f",
   "metadata": {},
   "outputs": [],
   "source": [
    "X.describe()"
   ]
  },
  {
   "cell_type": "code",
   "execution_count": null,
   "id": "8214b9a0",
   "metadata": {},
   "outputs": [],
   "source": [
    "test.describe()"
   ]
  },
  {
   "cell_type": "code",
   "execution_count": null,
   "id": "44d98d45",
   "metadata": {},
   "outputs": [],
   "source": [
    "## Building the decision tree on the train data-frame\n",
    "tree_md = DecisionTreeClassifier(max_depth = 3).fit(X, Y)\n",
    "\n",
    "## Visualizing the decision-tree model \n",
    "fig = plt.figure(figsize = (25, 15))\n",
    "plot_tree(tree_md, feature_names = X.columns, filled = True)"
   ]
  },
  {
   "cell_type": "code",
   "execution_count": null,
   "id": "3994eb4b",
   "metadata": {},
   "outputs": [],
   "source": [
    "fig, axes = plt.subplots(1, 2, figsize = (18, 12))\n",
    "\n",
    "sns.boxplot(ax = axes[0], x = 'failure', y = 'loading', hue = 'failure', data = train)\n",
    "sns.boxplot(ax = axes[1], x = 'failure', y = 'measurement_3', hue = 'failure', data = train)"
   ]
  },
  {
   "cell_type": "code",
   "execution_count": null,
   "id": "3a023bbe",
   "metadata": {},
   "outputs": [],
   "source": [
    "train.head()"
   ]
  },
  {
   "cell_type": "code",
   "execution_count": null,
   "id": "1696eaad",
   "metadata": {},
   "outputs": [],
   "source": [
    "train['attribute_1'].value_counts()"
   ]
  },
  {
   "cell_type": "code",
   "execution_count": null,
   "id": "b1684283",
   "metadata": {},
   "outputs": [],
   "source": [
    "test['attribute_1'].value_counts()"
   ]
  },
  {
   "cell_type": "code",
   "execution_count": null,
   "id": "a8d34e9d",
   "metadata": {},
   "outputs": [],
   "source": [
    "test.head()"
   ]
  },
  {
   "cell_type": "code",
   "execution_count": null,
   "id": "e52acba2",
   "metadata": {},
   "outputs": [],
   "source": [
    "test.describe()"
   ]
  },
  {
   "cell_type": "code",
   "execution_count": null,
   "id": "8781f925",
   "metadata": {},
   "outputs": [],
   "source": [
    "## Defining the model \n",
    "knn_imputer = KNNImputer(n_neighbors = 5, weights = 'uniform')\n",
    "X_new = knn_imputer.fit_transform(X)"
   ]
  },
  {
   "cell_type": "code",
   "execution_count": null,
   "id": "fa7b4fba",
   "metadata": {},
   "outputs": [],
   "source": [
    "X_new = pd.DataFrame(X_new)"
   ]
  },
  {
   "cell_type": "code",
   "execution_count": null,
   "id": "ed3c60d4",
   "metadata": {},
   "outputs": [],
   "source": [
    "X_new.head()"
   ]
  },
  {
   "cell_type": "code",
   "execution_count": null,
   "id": "e6d0fde4",
   "metadata": {},
   "outputs": [],
   "source": [
    "train.head()"
   ]
  },
  {
   "cell_type": "code",
   "execution_count": null,
   "id": "1f6dc337",
   "metadata": {},
   "outputs": [],
   "source": [
    "train.shape"
   ]
  },
  {
   "cell_type": "code",
   "execution_count": null,
   "id": "08119e48",
   "metadata": {},
   "outputs": [],
   "source": [
    "train.describe()"
   ]
  },
  {
   "cell_type": "code",
   "execution_count": null,
   "id": "eb31734c",
   "metadata": {},
   "outputs": [],
   "source": [
    "test.head()"
   ]
  },
  {
   "cell_type": "code",
   "execution_count": null,
   "id": "e5e72000",
   "metadata": {},
   "outputs": [],
   "source": [
    "test.describe()"
   ]
  },
  {
   "cell_type": "code",
   "execution_count": null,
   "id": "8e290b4c",
   "metadata": {},
   "outputs": [],
   "source": [
    "test.shape"
   ]
  },
  {
   "cell_type": "code",
   "execution_count": null,
   "id": "f0629dce",
   "metadata": {},
   "outputs": [],
   "source": [
    "train['attribute_0'].value_counts()"
   ]
  },
  {
   "cell_type": "code",
   "execution_count": null,
   "id": "c7ab2bcd",
   "metadata": {},
   "outputs": [],
   "source": [
    "train['attribute_1'].value_counts()"
   ]
  },
  {
   "cell_type": "code",
   "execution_count": null,
   "id": "a6a06902",
   "metadata": {},
   "outputs": [],
   "source": [
    "test['attribute_0'].value_counts()"
   ]
  },
  {
   "cell_type": "code",
   "execution_count": null,
   "id": "cdaa6d8f",
   "metadata": {},
   "outputs": [],
   "source": [
    "test['attribute_1'].value_counts()"
   ]
  },
  {
   "cell_type": "code",
   "execution_count": null,
   "id": "bb63ec23",
   "metadata": {},
   "outputs": [],
   "source": [
    "X.head()"
   ]
  },
  {
   "cell_type": "code",
   "execution_count": null,
   "id": "5efd8db8",
   "metadata": {},
   "outputs": [],
   "source": [
    "X.shape"
   ]
  },
  {
   "cell_type": "code",
   "execution_count": null,
   "id": "6a1c6c19",
   "metadata": {},
   "outputs": [],
   "source": [
    "test.head()"
   ]
  },
  {
   "cell_type": "code",
   "execution_count": null,
   "id": "bf179727",
   "metadata": {},
   "outputs": [],
   "source": [
    "train.head()"
   ]
  },
  {
   "cell_type": "code",
   "execution_count": null,
   "id": "19e4cd1e",
   "metadata": {},
   "outputs": [],
   "source": [
    "train['attribute_1'].value_counts()"
   ]
  },
  {
   "cell_type": "code",
   "execution_count": null,
   "id": "26e7e6a9",
   "metadata": {},
   "outputs": [],
   "source": [
    "train.describe()"
   ]
  },
  {
   "cell_type": "code",
   "execution_count": null,
   "id": "62bebcde",
   "metadata": {},
   "outputs": [],
   "source": [
    "train['product_code'].value_counts()"
   ]
  },
  {
   "cell_type": "code",
   "execution_count": null,
   "id": "d3202ac8",
   "metadata": {},
   "outputs": [],
   "source": [
    "train['attribute_0'].value_counts()"
   ]
  },
  {
   "cell_type": "code",
   "execution_count": null,
   "id": "e83120ed",
   "metadata": {},
   "outputs": [],
   "source": [
    "train['attribute_1'].value_counts()"
   ]
  },
  {
   "cell_type": "code",
   "execution_count": null,
   "id": "59a7f57d",
   "metadata": {},
   "outputs": [],
   "source": [
    "test.head()"
   ]
  },
  {
   "cell_type": "code",
   "execution_count": null,
   "id": "0b089983",
   "metadata": {},
   "outputs": [],
   "source": [
    "train_dummies = pd.get_dummies(train[['product_code', 'attribute_0', 'attribute_1']])\n",
    "train_dummies.head()"
   ]
  },
  {
   "cell_type": "code",
   "execution_count": null,
   "id": "b8038b8d",
   "metadata": {},
   "outputs": [],
   "source": [
    "train_dummies = pd.get_dummies(train[['product_code', 'attribute_0', 'attribute_1']])\n",
    "train = train.drop(columns = ['product_code', 'attribute_0', 'attribute_1'], axis = 1)\n",
    "train = pd.concat([train, train_dummies], axis = 1)\n",
    "train.head()"
   ]
  },
  {
   "cell_type": "code",
   "execution_count": null,
   "id": "25fc6df8",
   "metadata": {},
   "outputs": [],
   "source": [
    "train['failure'].value_counts() / train.shape[0]"
   ]
  },
  {
   "cell_type": "code",
   "execution_count": null,
   "id": "4131c562",
   "metadata": {},
   "outputs": [],
   "source": [
    "test_dummies = pd.get_dummies(test[['product_code', 'attribute_0', 'attribute_1']])\n",
    "test = test.drop(columns = ['product_code', 'attribute_0', 'attribute_1'], axis = 1)\n",
    "test = pd.concat([test, test_dummies], axis = 1)\n",
    "test.head()"
   ]
  },
  {
   "cell_type": "markdown",
   "id": "cdf84e76",
   "metadata": {},
   "source": [
    "# Logistic Regression"
   ]
  },
  {
   "cell_type": "code",
   "execution_count": null,
   "id": "137e139d",
   "metadata": {},
   "outputs": [],
   "source": [
    "import boto3\n",
    "import pandas as pd; pd.set_option('display.max_columns', 100)\n",
    "import numpy as np\n",
    "from sklearn.preprocessing import MinMaxScaler\n",
    "from sklearn.model_selection import GridSearchCV\n",
    "from sklearn.metrics import roc_auc_score\n",
    "from sklearn.impute import KNNImputer\n",
    "from sklearn.linear_model import LogisticRegression\n",
    "\n",
    "s3 = boto3.resource('s3')\n",
    "bucket_name = 'analytics-data-science-competitions'\n",
    "bucket = s3.Bucket(bucket_name)\n",
    "\n",
    "file_key_1 = 'Tabular-Playground-Aug-2022/train.csv'\n",
    "file_key_2 = 'Tabular-Playground-Aug-2022/test.csv'\n",
    "\n",
    "bucket_object_1 = bucket.Object(file_key_1)\n",
    "file_object_1 = bucket_object_1.get()\n",
    "file_content_stream_1 = file_object_1.get('Body')\n",
    "\n",
    "bucket_object_2 = bucket.Object(file_key_2)\n",
    "file_object_2 = bucket_object_2.get()\n",
    "file_content_stream_2 = file_object_2.get('Body')\n",
    "\n",
    "## Reading data-files\n",
    "train = pd.read_csv(file_content_stream_1)\n",
    "train = train.drop(columns = ['id'], axis = 1)\n",
    "\n",
    "test = pd.read_csv(file_content_stream_2)\n",
    "test_id = test['id']\n",
    "test = test.drop(columns = ['id'], axis = 1)\n",
    "\n",
    "## Changing labels to dummies\n",
    "train_dummies = pd.get_dummies(train[['attribute_0']])\n",
    "train = train.drop(columns = ['product_code', 'attribute_0', 'attribute_1'], axis = 1)\n",
    "train = pd.concat([train, train_dummies], axis = 1)\n",
    "\n",
    "test_dummies = pd.get_dummies(test[['attribute_0']])\n",
    "test = test.drop(columns = ['product_code', 'attribute_0', 'attribute_1'], axis = 1)\n",
    "test = pd.concat([test, test_dummies], axis = 1)\n",
    "\n",
    "## Filling missing values with kNN\n",
    "knn_imputer = KNNImputer(n_neighbors = 5, weights = 'distance')\n",
    "train = pd.DataFrame(knn_imputer.fit_transform(train), columns = train.columns)\n",
    "test = pd.DataFrame(knn_imputer.fit_transform(test), columns = test.columns)\n",
    "\n",
    "## Defining input and target variables\n",
    "X = train.drop(columns = ['failure'], axis = 1)\n",
    "Y = train['failure']\n",
    "\n",
    "## Scaling inputs to 0-1\n",
    "scaler = MinMaxScaler()\n",
    "X = scaler.fit_transform(X)\n",
    "test = scaler.fit_transform(test)\n",
    "\n",
    "## Defining the hyper-parameter grid\n",
    "logistic_param_grid = {'penalty': ['l1', 'l2', 'elasticnet'],\n",
    "                       'C': [0.001, 0.01, 0.1, 1, 10, 100],\n",
    "                       'solver': ['liblinear', 'sag', 'saga']}\n",
    "\n",
    "## Performing grid search with 5 folds\n",
    "logistic_grid_search = GridSearchCV(LogisticRegression(max_iter = 1000), logistic_param_grid, cv = 5, scoring = 'roc_auc', n_jobs = -1, verbose = 1).fit(X, Y)"
   ]
  },
  {
   "cell_type": "code",
   "execution_count": null,
   "id": "d42beb08",
   "metadata": {},
   "outputs": [],
   "source": [
    "logistic_grid_search"
   ]
  },
  {
   "cell_type": "code",
   "execution_count": null,
   "id": "6e4b9a0f",
   "metadata": {},
   "outputs": [],
   "source": [
    "best_params = logistic_grid_search.best_params_\n",
    "print(best_params)"
   ]
  },
  {
   "cell_type": "code",
   "execution_count": null,
   "id": "d5686589",
   "metadata": {},
   "outputs": [],
   "source": [
    "logistic_param_grid = {'penalty': ['l1', 'l2', 'elasticnet'],\n",
    "                       'C': [0.001, 0.01, 0.1, 1, 10, 100],\n",
    "                       'solver': ['sag', 'saga']}\n",
    "\n",
    "## Performing grid search with 5 folds\n",
    "logistic_grid_search = GridSearchCV(LogisticRegression(max_iter = 1000), logistic_param_grid, cv = 5, scoring = 'roc_auc', n_jobs = -1, verbose = 1).fit(X, Y)"
   ]
  }
 ],
 "metadata": {
  "kernelspec": {
   "display_name": "conda_python3",
   "language": "python",
   "name": "conda_python3"
  },
  "language_info": {
   "codemirror_mode": {
    "name": "ipython",
    "version": 3
   },
   "file_extension": ".py",
   "mimetype": "text/x-python",
   "name": "python",
   "nbconvert_exporter": "python",
   "pygments_lexer": "ipython3",
   "version": "3.8.12"
  }
 },
 "nbformat": 4,
 "nbformat_minor": 5
}
