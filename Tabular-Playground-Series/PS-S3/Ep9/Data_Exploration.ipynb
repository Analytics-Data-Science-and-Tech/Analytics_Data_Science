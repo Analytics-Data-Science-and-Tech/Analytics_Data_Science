{
 "cells": [
  {
   "cell_type": "code",
   "execution_count": 1,
   "id": "a1bfbfaf",
   "metadata": {},
   "outputs": [
    {
     "name": "stdout",
     "output_type": "stream",
     "text": [
      "Looking in indexes: https://pypi.org/simple, https://pip.repos.neuron.amazonaws.com\n",
      "Collecting xgboost\n",
      "  Downloading xgboost-1.7.4-py3-none-manylinux2014_x86_64.whl (193.6 MB)\n",
      "\u001b[2K     \u001b[90m━━━━━━━━━━━━━━━━━━━━━━━━━━━━━━━━━━━━━━━\u001b[0m \u001b[32m193.6/193.6 MB\u001b[0m \u001b[31m4.0 MB/s\u001b[0m eta \u001b[36m0:00:00\u001b[0m00:01\u001b[0m00:01\u001b[0m\n",
      "\u001b[?25hCollecting lightgbm\n",
      "  Downloading lightgbm-3.3.5-py3-none-manylinux1_x86_64.whl (2.0 MB)\n",
      "\u001b[2K     \u001b[90m━━━━━━━━━━━━━━━━━━━━━━━━━━━━━━━━━━━━━━━━\u001b[0m \u001b[32m2.0/2.0 MB\u001b[0m \u001b[31m34.2 MB/s\u001b[0m eta \u001b[36m0:00:00\u001b[0m:00:01\u001b[0m\n",
      "\u001b[?25hCollecting catboost\n",
      "  Downloading catboost-1.1.1-cp310-none-manylinux1_x86_64.whl (76.6 MB)\n",
      "\u001b[2K     \u001b[90m━━━━━━━━━━━━━━━━━━━━━━━━━━━━━━━━━━━━━━━━\u001b[0m \u001b[32m76.6/76.6 MB\u001b[0m \u001b[31m22.4 MB/s\u001b[0m eta \u001b[36m0:00:00\u001b[0m00:01\u001b[0m00:01\u001b[0m\n",
      "\u001b[?25hCollecting optuna\n",
      "  Downloading optuna-3.1.0-py3-none-any.whl (365 kB)\n",
      "\u001b[2K     \u001b[90m━━━━━━━━━━━━━━━━━━━━━━━━━━━━━━━━━━━━━━\u001b[0m \u001b[32m365.3/365.3 kB\u001b[0m \u001b[31m48.3 MB/s\u001b[0m eta \u001b[36m0:00:00\u001b[0m\n",
      "\u001b[?25hRequirement already satisfied: numpy in /home/ec2-user/anaconda3/envs/python3/lib/python3.10/site-packages (from xgboost) (1.22.4)\n",
      "Requirement already satisfied: scipy in /home/ec2-user/anaconda3/envs/python3/lib/python3.10/site-packages (from xgboost) (1.9.3)\n",
      "Requirement already satisfied: scikit-learn!=0.22.0 in /home/ec2-user/anaconda3/envs/python3/lib/python3.10/site-packages (from lightgbm) (1.1.3)\n",
      "Requirement already satisfied: wheel in /home/ec2-user/anaconda3/envs/python3/lib/python3.10/site-packages (from lightgbm) (0.37.1)\n",
      "Requirement already satisfied: matplotlib in /home/ec2-user/anaconda3/envs/python3/lib/python3.10/site-packages (from catboost) (3.6.1)\n",
      "Requirement already satisfied: pandas>=0.24.0 in /home/ec2-user/anaconda3/envs/python3/lib/python3.10/site-packages (from catboost) (1.5.1)\n",
      "Requirement already satisfied: six in /home/ec2-user/anaconda3/envs/python3/lib/python3.10/site-packages (from catboost) (1.16.0)\n",
      "Collecting graphviz\n",
      "  Downloading graphviz-0.20.1-py3-none-any.whl (47 kB)\n",
      "\u001b[2K     \u001b[90m━━━━━━━━━━━━━━━━━━━━━━━━━━━━━━━━━━━━━━━━\u001b[0m \u001b[32m47.0/47.0 kB\u001b[0m \u001b[31m11.2 MB/s\u001b[0m eta \u001b[36m0:00:00\u001b[0m\n",
      "\u001b[?25hRequirement already satisfied: plotly in /home/ec2-user/anaconda3/envs/python3/lib/python3.10/site-packages (from catboost) (5.11.0)\n",
      "Requirement already satisfied: sqlalchemy>=1.3.0 in /home/ec2-user/anaconda3/envs/python3/lib/python3.10/site-packages (from optuna) (1.4.42)\n",
      "Collecting cmaes>=0.9.1\n",
      "  Downloading cmaes-0.9.1-py3-none-any.whl (21 kB)\n",
      "Requirement already satisfied: packaging>=20.0 in /home/ec2-user/anaconda3/envs/python3/lib/python3.10/site-packages (from optuna) (21.3)\n",
      "Requirement already satisfied: tqdm in /home/ec2-user/anaconda3/envs/python3/lib/python3.10/site-packages (from optuna) (4.64.1)\n",
      "Requirement already satisfied: PyYAML in /home/ec2-user/anaconda3/envs/python3/lib/python3.10/site-packages (from optuna) (5.4.1)\n",
      "Collecting colorlog\n",
      "  Downloading colorlog-6.7.0-py2.py3-none-any.whl (11 kB)\n",
      "Collecting alembic>=1.5.0\n",
      "  Downloading alembic-1.9.4-py3-none-any.whl (210 kB)\n",
      "\u001b[2K     \u001b[90m━━━━━━━━━━━━━━━━━━━━━━━━━━━━━━━━━━━━━━━\u001b[0m \u001b[32m210.5/210.5 kB\u001b[0m \u001b[31m3.3 MB/s\u001b[0m eta \u001b[36m0:00:00\u001b[0ma \u001b[36m0:00:01\u001b[0m\n",
      "\u001b[?25hCollecting Mako\n",
      "  Downloading Mako-1.2.4-py3-none-any.whl (78 kB)\n",
      "\u001b[2K     \u001b[90m━━━━━━━━━━━━━━━━━━━━━━━━━━━━━━━━━━━━━━━━\u001b[0m \u001b[32m78.7/78.7 kB\u001b[0m \u001b[31m16.4 MB/s\u001b[0m eta \u001b[36m0:00:00\u001b[0m\n",
      "\u001b[?25hRequirement already satisfied: pyparsing!=3.0.5,>=2.0.2 in /home/ec2-user/anaconda3/envs/python3/lib/python3.10/site-packages (from packaging>=20.0->optuna) (3.0.9)\n",
      "Requirement already satisfied: python-dateutil>=2.8.1 in /home/ec2-user/anaconda3/envs/python3/lib/python3.10/site-packages (from pandas>=0.24.0->catboost) (2.8.2)\n",
      "Requirement already satisfied: pytz>=2020.1 in /home/ec2-user/anaconda3/envs/python3/lib/python3.10/site-packages (from pandas>=0.24.0->catboost) (2022.5)\n",
      "Requirement already satisfied: threadpoolctl>=2.0.0 in /home/ec2-user/anaconda3/envs/python3/lib/python3.10/site-packages (from scikit-learn!=0.22.0->lightgbm) (3.1.0)\n",
      "Requirement already satisfied: joblib>=1.0.0 in /home/ec2-user/anaconda3/envs/python3/lib/python3.10/site-packages (from scikit-learn!=0.22.0->lightgbm) (1.2.0)\n",
      "Requirement already satisfied: greenlet!=0.4.17 in /home/ec2-user/anaconda3/envs/python3/lib/python3.10/site-packages (from sqlalchemy>=1.3.0->optuna) (1.1.3.post0)\n",
      "Requirement already satisfied: kiwisolver>=1.0.1 in /home/ec2-user/anaconda3/envs/python3/lib/python3.10/site-packages (from matplotlib->catboost) (1.4.4)\n",
      "Requirement already satisfied: pillow>=6.2.0 in /home/ec2-user/anaconda3/envs/python3/lib/python3.10/site-packages (from matplotlib->catboost) (9.2.0)\n",
      "Requirement already satisfied: cycler>=0.10 in /home/ec2-user/anaconda3/envs/python3/lib/python3.10/site-packages (from matplotlib->catboost) (0.11.0)\n",
      "Requirement already satisfied: fonttools>=4.22.0 in /home/ec2-user/anaconda3/envs/python3/lib/python3.10/site-packages (from matplotlib->catboost) (4.38.0)\n",
      "Requirement already satisfied: contourpy>=1.0.1 in /home/ec2-user/anaconda3/envs/python3/lib/python3.10/site-packages (from matplotlib->catboost) (1.0.6)\n",
      "Requirement already satisfied: tenacity>=6.2.0 in /home/ec2-user/anaconda3/envs/python3/lib/python3.10/site-packages (from plotly->catboost) (8.1.0)\n",
      "Requirement already satisfied: MarkupSafe>=0.9.2 in /home/ec2-user/anaconda3/envs/python3/lib/python3.10/site-packages (from Mako->alembic>=1.5.0->optuna) (2.1.1)\n",
      "Installing collected packages: Mako, graphviz, colorlog, cmaes, xgboost, alembic, optuna, lightgbm, catboost\n",
      "Successfully installed Mako-1.2.4 alembic-1.9.4 catboost-1.1.1 cmaes-0.9.1 colorlog-6.7.0 graphviz-0.20.1 lightgbm-3.3.5 optuna-3.1.0 xgboost-1.7.4\n",
      "Note: you may need to restart the kernel to use updated packages.\n"
     ]
    }
   ],
   "source": [
    "pip install xgboost lightgbm catboost optuna"
   ]
  },
  {
   "cell_type": "code",
   "execution_count": 2,
   "id": "1312c929",
   "metadata": {},
   "outputs": [],
   "source": [
    "import boto3\n",
    "import pandas as pd; pd.set_option('display.max_columns', 100)\n",
    "import numpy as np\n",
    "\n",
    "import matplotlib.pyplot as plt; plt.style.use('ggplot')\n",
    "import seaborn as sns\n",
    "\n",
    "from scipy.stats import rankdata\n",
    "from sklearn.multiclass import OneVsRestClassifier\n",
    "from sklearn.tree import DecisionTreeRegressor, plot_tree\n",
    "from sklearn.preprocessing import MinMaxScaler\n",
    "from sklearn.model_selection import KFold, train_test_split, GridSearchCV, StratifiedKFold, TimeSeriesSplit\n",
    "from sklearn.metrics import mean_squared_error, roc_auc_score\n",
    "from sklearn.neighbors import KNeighborsClassifier\n",
    "from sklearn.ensemble import RandomForestClassifier, HistGradientBoostingClassifier\n",
    "from sklearn.linear_model import LogisticRegression\n",
    "from lightgbm import LGBMClassifier, LGBMRegressor \n",
    "from xgboost import XGBClassifier, XGBRegressor\n",
    "from catboost import CatBoostClassifier, CatBoostRegressor\n",
    "\n",
    "import optuna \n",
    "\n",
    "s3 = boto3.resource('s3')\n",
    "bucket_name = 'analytics-data-science-competitions'\n",
    "bucket = s3.Bucket(bucket_name)\n",
    "\n",
    "file_key_1 = 'Tabular-Playground-Series/PS-S3/Ep9/train.csv'\n",
    "file_key_2 = 'Tabular-Playground-Series/PS-S3/Ep9/test.csv'\n",
    "file_key_3 = 'Tabular-Playground-Series/PS-S3/Ep9/sample_submission.csv'\n",
    "\n",
    "bucket_object_1 = bucket.Object(file_key_1)\n",
    "file_object_1 = bucket_object_1.get()\n",
    "file_content_stream_1 = file_object_1.get('Body')\n",
    "\n",
    "bucket_object_2 = bucket.Object(file_key_2)\n",
    "file_object_2 = bucket_object_2.get()\n",
    "file_content_stream_2 = file_object_2.get('Body')\n",
    "\n",
    "bucket_object_3 = bucket.Object(file_key_3)\n",
    "file_object_3 = bucket_object_3.get()\n",
    "file_content_stream_3 = file_object_3.get('Body')\n",
    "\n",
    "## Reading data files\n",
    "train = pd.read_csv(file_content_stream_1)\n",
    "test = pd.read_csv(file_content_stream_2)\n",
    "submission = pd.read_csv(file_content_stream_3)"
   ]
  },
  {
   "cell_type": "markdown",
   "id": "7768ea66",
   "metadata": {},
   "source": [
    "# "
   ]
  },
  {
   "cell_type": "code",
   "execution_count": null,
   "id": "e07b9aa1",
   "metadata": {},
   "outputs": [],
   "source": [
    "train.head()"
   ]
  },
  {
   "cell_type": "code",
   "execution_count": null,
   "id": "d9b1ce05",
   "metadata": {},
   "outputs": [],
   "source": [
    "train.describe()"
   ]
  },
  {
   "cell_type": "code",
   "execution_count": null,
   "id": "1303345f",
   "metadata": {},
   "outputs": [],
   "source": [
    "test.describe()"
   ]
  },
  {
   "cell_type": "code",
   "execution_count": 2,
   "id": "501dd233",
   "metadata": {},
   "outputs": [],
   "source": [
    "train_lgb = train.copy()\n",
    "test_lgb = test.copy()\n",
    "\n",
    "X = train_lgb.drop(columns = ['id', 'booking_status'], axis = 1)\n",
    "Y = train_lgb['booking_status']\n",
    "\n",
    "test_lgb = test_lgb.drop(columns = ['id'], axis = 1)"
   ]
  },
  {
   "cell_type": "code",
   "execution_count": 3,
   "id": "cbb5e79f",
   "metadata": {},
   "outputs": [
    {
     "data": {
      "text/html": [
       "<div>\n",
       "<style scoped>\n",
       "    .dataframe tbody tr th:only-of-type {\n",
       "        vertical-align: middle;\n",
       "    }\n",
       "\n",
       "    .dataframe tbody tr th {\n",
       "        vertical-align: top;\n",
       "    }\n",
       "\n",
       "    .dataframe thead th {\n",
       "        text-align: right;\n",
       "    }\n",
       "</style>\n",
       "<table border=\"1\" class=\"dataframe\">\n",
       "  <thead>\n",
       "    <tr style=\"text-align: right;\">\n",
       "      <th></th>\n",
       "      <th>no_of_adults</th>\n",
       "      <th>no_of_children</th>\n",
       "      <th>no_of_weekend_nights</th>\n",
       "      <th>no_of_week_nights</th>\n",
       "      <th>type_of_meal_plan</th>\n",
       "      <th>required_car_parking_space</th>\n",
       "      <th>room_type_reserved</th>\n",
       "      <th>lead_time</th>\n",
       "      <th>arrival_year</th>\n",
       "      <th>arrival_month</th>\n",
       "      <th>arrival_date</th>\n",
       "      <th>market_segment_type</th>\n",
       "      <th>repeated_guest</th>\n",
       "      <th>no_of_previous_cancellations</th>\n",
       "      <th>no_of_previous_bookings_not_canceled</th>\n",
       "      <th>avg_price_per_room</th>\n",
       "      <th>no_of_special_requests</th>\n",
       "      <th>low_price_flag</th>\n",
       "    </tr>\n",
       "  </thead>\n",
       "  <tbody>\n",
       "    <tr>\n",
       "      <th>0</th>\n",
       "      <td>2</td>\n",
       "      <td>0</td>\n",
       "      <td>0</td>\n",
       "      <td>2</td>\n",
       "      <td>1</td>\n",
       "      <td>0</td>\n",
       "      <td>0</td>\n",
       "      <td>9</td>\n",
       "      <td>2018</td>\n",
       "      <td>1</td>\n",
       "      <td>14</td>\n",
       "      <td>1</td>\n",
       "      <td>1</td>\n",
       "      <td>11</td>\n",
       "      <td>0</td>\n",
       "      <td>67.50</td>\n",
       "      <td>0</td>\n",
       "      <td>0</td>\n",
       "    </tr>\n",
       "    <tr>\n",
       "      <th>1</th>\n",
       "      <td>2</td>\n",
       "      <td>0</td>\n",
       "      <td>1</td>\n",
       "      <td>2</td>\n",
       "      <td>0</td>\n",
       "      <td>0</td>\n",
       "      <td>0</td>\n",
       "      <td>117</td>\n",
       "      <td>2018</td>\n",
       "      <td>7</td>\n",
       "      <td>29</td>\n",
       "      <td>0</td>\n",
       "      <td>0</td>\n",
       "      <td>0</td>\n",
       "      <td>0</td>\n",
       "      <td>72.25</td>\n",
       "      <td>0</td>\n",
       "      <td>0</td>\n",
       "    </tr>\n",
       "    <tr>\n",
       "      <th>2</th>\n",
       "      <td>2</td>\n",
       "      <td>0</td>\n",
       "      <td>0</td>\n",
       "      <td>1</td>\n",
       "      <td>0</td>\n",
       "      <td>0</td>\n",
       "      <td>0</td>\n",
       "      <td>315</td>\n",
       "      <td>2018</td>\n",
       "      <td>12</td>\n",
       "      <td>2</td>\n",
       "      <td>0</td>\n",
       "      <td>0</td>\n",
       "      <td>0</td>\n",
       "      <td>0</td>\n",
       "      <td>52.00</td>\n",
       "      <td>0</td>\n",
       "      <td>0</td>\n",
       "    </tr>\n",
       "    <tr>\n",
       "      <th>3</th>\n",
       "      <td>1</td>\n",
       "      <td>0</td>\n",
       "      <td>0</td>\n",
       "      <td>2</td>\n",
       "      <td>1</td>\n",
       "      <td>0</td>\n",
       "      <td>0</td>\n",
       "      <td>32</td>\n",
       "      <td>2018</td>\n",
       "      <td>12</td>\n",
       "      <td>1</td>\n",
       "      <td>1</td>\n",
       "      <td>0</td>\n",
       "      <td>0</td>\n",
       "      <td>0</td>\n",
       "      <td>56.00</td>\n",
       "      <td>0</td>\n",
       "      <td>0</td>\n",
       "    </tr>\n",
       "    <tr>\n",
       "      <th>4</th>\n",
       "      <td>2</td>\n",
       "      <td>0</td>\n",
       "      <td>1</td>\n",
       "      <td>0</td>\n",
       "      <td>0</td>\n",
       "      <td>0</td>\n",
       "      <td>0</td>\n",
       "      <td>258</td>\n",
       "      <td>2018</td>\n",
       "      <td>10</td>\n",
       "      <td>16</td>\n",
       "      <td>0</td>\n",
       "      <td>0</td>\n",
       "      <td>0</td>\n",
       "      <td>0</td>\n",
       "      <td>100.00</td>\n",
       "      <td>0</td>\n",
       "      <td>0</td>\n",
       "    </tr>\n",
       "  </tbody>\n",
       "</table>\n",
       "</div>"
      ],
      "text/plain": [
       "   no_of_adults  no_of_children  no_of_weekend_nights  no_of_week_nights  \\\n",
       "0             2               0                     0                  2   \n",
       "1             2               0                     1                  2   \n",
       "2             2               0                     0                  1   \n",
       "3             1               0                     0                  2   \n",
       "4             2               0                     1                  0   \n",
       "\n",
       "   type_of_meal_plan  required_car_parking_space  room_type_reserved  \\\n",
       "0                  1                           0                   0   \n",
       "1                  0                           0                   0   \n",
       "2                  0                           0                   0   \n",
       "3                  1                           0                   0   \n",
       "4                  0                           0                   0   \n",
       "\n",
       "   lead_time  arrival_year  arrival_month  arrival_date  market_segment_type  \\\n",
       "0          9          2018              1            14                    1   \n",
       "1        117          2018              7            29                    0   \n",
       "2        315          2018             12             2                    0   \n",
       "3         32          2018             12             1                    1   \n",
       "4        258          2018             10            16                    0   \n",
       "\n",
       "   repeated_guest  no_of_previous_cancellations  \\\n",
       "0               1                            11   \n",
       "1               0                             0   \n",
       "2               0                             0   \n",
       "3               0                             0   \n",
       "4               0                             0   \n",
       "\n",
       "   no_of_previous_bookings_not_canceled  avg_price_per_room  \\\n",
       "0                                     0               67.50   \n",
       "1                                     0               72.25   \n",
       "2                                     0               52.00   \n",
       "3                                     0               56.00   \n",
       "4                                     0              100.00   \n",
       "\n",
       "   no_of_special_requests  low_price_flag  \n",
       "0                       0               0  \n",
       "1                       0               0  \n",
       "2                       0               0  \n",
       "3                       0               0  \n",
       "4                       0               0  "
      ]
     },
     "execution_count": 3,
     "metadata": {},
     "output_type": "execute_result"
    }
   ],
   "source": [
    "X.head()"
   ]
  },
  {
   "cell_type": "code",
   "execution_count": 20,
   "id": "9b5dc2e3",
   "metadata": {},
   "outputs": [
    {
     "data": {
      "text/html": [
       "<div>\n",
       "<style scoped>\n",
       "    .dataframe tbody tr th:only-of-type {\n",
       "        vertical-align: middle;\n",
       "    }\n",
       "\n",
       "    .dataframe tbody tr th {\n",
       "        vertical-align: top;\n",
       "    }\n",
       "\n",
       "    .dataframe thead th {\n",
       "        text-align: right;\n",
       "    }\n",
       "</style>\n",
       "<table border=\"1\" class=\"dataframe\">\n",
       "  <thead>\n",
       "    <tr style=\"text-align: right;\">\n",
       "      <th></th>\n",
       "      <th>no_of_adults</th>\n",
       "      <th>no_of_children</th>\n",
       "      <th>no_of_weekend_nights</th>\n",
       "      <th>no_of_week_nights</th>\n",
       "      <th>type_of_meal_plan</th>\n",
       "      <th>required_car_parking_space</th>\n",
       "      <th>room_type_reserved</th>\n",
       "      <th>lead_time</th>\n",
       "      <th>arrival_year</th>\n",
       "      <th>arrival_month</th>\n",
       "      <th>arrival_date</th>\n",
       "      <th>market_segment_type</th>\n",
       "      <th>repeated_guest</th>\n",
       "      <th>no_of_previous_cancellations</th>\n",
       "      <th>no_of_previous_bookings_not_canceled</th>\n",
       "      <th>avg_price_per_room</th>\n",
       "      <th>no_of_special_requests</th>\n",
       "      <th>low_price_flag</th>\n",
       "    </tr>\n",
       "  </thead>\n",
       "  <tbody>\n",
       "    <tr>\n",
       "      <th>0</th>\n",
       "      <td>3</td>\n",
       "      <td>0</td>\n",
       "      <td>1</td>\n",
       "      <td>4</td>\n",
       "      <td>0</td>\n",
       "      <td>0</td>\n",
       "      <td>1</td>\n",
       "      <td>111</td>\n",
       "      <td>2018</td>\n",
       "      <td>12</td>\n",
       "      <td>5</td>\n",
       "      <td>1</td>\n",
       "      <td>0</td>\n",
       "      <td>0</td>\n",
       "      <td>0</td>\n",
       "      <td>115.60</td>\n",
       "      <td>2</td>\n",
       "      <td>0</td>\n",
       "    </tr>\n",
       "    <tr>\n",
       "      <th>1</th>\n",
       "      <td>2</td>\n",
       "      <td>0</td>\n",
       "      <td>0</td>\n",
       "      <td>3</td>\n",
       "      <td>0</td>\n",
       "      <td>0</td>\n",
       "      <td>0</td>\n",
       "      <td>22</td>\n",
       "      <td>2017</td>\n",
       "      <td>10</td>\n",
       "      <td>21</td>\n",
       "      <td>0</td>\n",
       "      <td>0</td>\n",
       "      <td>0</td>\n",
       "      <td>0</td>\n",
       "      <td>85.00</td>\n",
       "      <td>0</td>\n",
       "      <td>0</td>\n",
       "    </tr>\n",
       "    <tr>\n",
       "      <th>2</th>\n",
       "      <td>2</td>\n",
       "      <td>2</td>\n",
       "      <td>0</td>\n",
       "      <td>1</td>\n",
       "      <td>0</td>\n",
       "      <td>0</td>\n",
       "      <td>3</td>\n",
       "      <td>18</td>\n",
       "      <td>2018</td>\n",
       "      <td>8</td>\n",
       "      <td>10</td>\n",
       "      <td>1</td>\n",
       "      <td>0</td>\n",
       "      <td>0</td>\n",
       "      <td>0</td>\n",
       "      <td>240.00</td>\n",
       "      <td>1</td>\n",
       "      <td>0</td>\n",
       "    </tr>\n",
       "    <tr>\n",
       "      <th>3</th>\n",
       "      <td>2</td>\n",
       "      <td>0</td>\n",
       "      <td>0</td>\n",
       "      <td>3</td>\n",
       "      <td>0</td>\n",
       "      <td>0</td>\n",
       "      <td>0</td>\n",
       "      <td>88</td>\n",
       "      <td>2018</td>\n",
       "      <td>5</td>\n",
       "      <td>30</td>\n",
       "      <td>0</td>\n",
       "      <td>0</td>\n",
       "      <td>0</td>\n",
       "      <td>0</td>\n",
       "      <td>80.75</td>\n",
       "      <td>0</td>\n",
       "      <td>0</td>\n",
       "    </tr>\n",
       "    <tr>\n",
       "      <th>4</th>\n",
       "      <td>1</td>\n",
       "      <td>0</td>\n",
       "      <td>0</td>\n",
       "      <td>2</td>\n",
       "      <td>2</td>\n",
       "      <td>0</td>\n",
       "      <td>0</td>\n",
       "      <td>7</td>\n",
       "      <td>2018</td>\n",
       "      <td>9</td>\n",
       "      <td>21</td>\n",
       "      <td>1</td>\n",
       "      <td>0</td>\n",
       "      <td>0</td>\n",
       "      <td>0</td>\n",
       "      <td>144.00</td>\n",
       "      <td>0</td>\n",
       "      <td>0</td>\n",
       "    </tr>\n",
       "  </tbody>\n",
       "</table>\n",
       "</div>"
      ],
      "text/plain": [
       "   no_of_adults  no_of_children  no_of_weekend_nights  no_of_week_nights  \\\n",
       "0             3               0                     1                  4   \n",
       "1             2               0                     0                  3   \n",
       "2             2               2                     0                  1   \n",
       "3             2               0                     0                  3   \n",
       "4             1               0                     0                  2   \n",
       "\n",
       "   type_of_meal_plan  required_car_parking_space  room_type_reserved  \\\n",
       "0                  0                           0                   1   \n",
       "1                  0                           0                   0   \n",
       "2                  0                           0                   3   \n",
       "3                  0                           0                   0   \n",
       "4                  2                           0                   0   \n",
       "\n",
       "   lead_time  arrival_year  arrival_month  arrival_date  market_segment_type  \\\n",
       "0        111          2018             12             5                    1   \n",
       "1         22          2017             10            21                    0   \n",
       "2         18          2018              8            10                    1   \n",
       "3         88          2018              5            30                    0   \n",
       "4          7          2018              9            21                    1   \n",
       "\n",
       "   repeated_guest  no_of_previous_cancellations  \\\n",
       "0               0                             0   \n",
       "1               0                             0   \n",
       "2               0                             0   \n",
       "3               0                             0   \n",
       "4               0                             0   \n",
       "\n",
       "   no_of_previous_bookings_not_canceled  avg_price_per_room  \\\n",
       "0                                     0              115.60   \n",
       "1                                     0               85.00   \n",
       "2                                     0              240.00   \n",
       "3                                     0               80.75   \n",
       "4                                     0              144.00   \n",
       "\n",
       "   no_of_special_requests  low_price_flag  \n",
       "0                       2               0  \n",
       "1                       0               0  \n",
       "2                       1               0  \n",
       "3                       0               0  \n",
       "4                       0               0  "
      ]
     },
     "execution_count": 20,
     "metadata": {},
     "output_type": "execute_result"
    }
   ],
   "source": [
    "test_lgb.head()"
   ]
  },
  {
   "cell_type": "code",
   "execution_count": null,
   "id": "2c8d9e53",
   "metadata": {},
   "outputs": [],
   "source": [
    "train.describe()"
   ]
  },
  {
   "cell_type": "code",
   "execution_count": null,
   "id": "df3b7669",
   "metadata": {},
   "outputs": [],
   "source": [
    "test_lgb.describe()"
   ]
  },
  {
   "cell_type": "markdown",
   "id": "a36301e8",
   "metadata": {},
   "source": [
    "# LightGBM Modeling"
   ]
  },
  {
   "cell_type": "code",
   "execution_count": null,
   "id": "785217cd",
   "metadata": {},
   "outputs": [],
   "source": [
    "cv_scores, roc_auc_scores = list(), list()\n",
    "preds = list()\n",
    "\n",
    "## Running 5 times CV\n",
    "for i in range(5):\n",
    "    \n",
    "    skf = StratifiedKFold(n_splits = 5, random_state = 42, shuffle = True)\n",
    "    \n",
    "    for train_ix, test_ix in skf.split(X, Y):\n",
    "        \n",
    "        ## Splitting the data \n",
    "        X_train, X_test = X.iloc[train_ix], X.iloc[test_ix]\n",
    "        Y_train, Y_test = Y.iloc[train_ix], Y.iloc[test_ix]\n",
    "    \n",
    "        ## Building RF model\n",
    "        lgb_md = LGBMClassifier(n_estimators = 7880,\n",
    "                                max_depth = 10,\n",
    "                                learning_rate = 0.009689077948120357,\n",
    "                                num_leaves = 20,\n",
    "                                lambda_l1 = 1.2185030034603348,\n",
    "                                lambda_l2 = 1.8144608820124146,\n",
    "                                bagging_fraction = 0.6383698341881532,\n",
    "                                feature_fraction = 0.5452440168291733).fit(X_train, Y_train)\n",
    "        \n",
    "        ## Predicting on X_test and test\n",
    "        lgb_pred_1 = lgb_md.predict_proba(X_test)[:, 1]\n",
    "        lgb_pred_2 = lgb_md.predict_proba(test_lgb)[:, 1]\n",
    "        \n",
    "        ## Computing roc-auc score\n",
    "        roc_auc_scores.append(roc_auc_score(Y_test, lgb_pred_1))\n",
    "        preds.append(lgb_pred_2)\n",
    "        \n",
    "    cv_scores.append(np.mean(roc_auc_scores))\n",
    "\n",
    "lgb_cv_score = np.mean(cv_scores)    \n",
    "print('The roc-auc score over 5-folds (run 5 times) is:', lgb_cv_score)"
   ]
  },
  {
   "cell_type": "markdown",
   "id": "0359a770",
   "metadata": {},
   "source": [
    "# Optuna"
   ]
  },
  {
   "cell_type": "code",
   "execution_count": 21,
   "id": "bae5d157",
   "metadata": {},
   "outputs": [],
   "source": [
    "class Objective:\n",
    "\n",
    "    def __init__(self, seed):\n",
    "        # Hold this implementation specific arguments as the fields of the class.\n",
    "        self.seed = seed\n",
    "\n",
    "    def __call__(self, trial):\n",
    "        ## Parameters to be evaluated\n",
    "        param = dict(objective = 'binary',\n",
    "                     metric = 'auc',\n",
    "                     tree_method = 'gbdt', \n",
    "                     n_estimators = trial.suggest_int('n_estimators', 300, 10000),\n",
    "                     learning_rate = trial.suggest_float('learning_rate', 0.001, 1, log = True),\n",
    "                     max_depth = trial.suggest_int('max_depth', 3, 12),\n",
    "                     lambda_l1 = trial.suggest_float('lambda_l1', 0.01, 10.0, log = True),\n",
    "                     lambda_l2 = trial.suggest_float('lambda_l2', 0.01, 10.0, log = True),\n",
    "                     num_leaves = trial.suggest_int('num_leaves', 2, 100),\n",
    "                     bagging_fraction = trial.suggest_float('bagging_fraction', 0.2, 0.9),\n",
    "                     feature_fraction = trial.suggest_float('feature_fraction', 0.2, 0.9)\n",
    "                    )\n",
    "\n",
    "        scores = []\n",
    "        \n",
    "        skf = StratifiedKFold(n_splits = 5, shuffle = True, random_state = self.seed)\n",
    "#         skf = KFold(n_splits = 5, shuffle = True, random_state = self.seed)\n",
    "\n",
    "        for train_idx, valid_idx in skf.split(X, Y):\n",
    "\n",
    "            X_train, X_valid = X.iloc[train_idx], X.iloc[valid_idx]\n",
    "            Y_train , Y_valid = Y.iloc[train_idx] , Y.iloc[valid_idx]\n",
    "\n",
    "            model = LGBMClassifier(**param).fit(X_train, Y_train)\n",
    "\n",
    "#             preds_train = model.predict(X_train)\n",
    "            preds_valid = model.predict_proba(X_valid)[:, 1]\n",
    "\n",
    "            score = roc_auc_score(Y_valid, preds_valid)\n",
    "            scores.append(score)\n",
    "\n",
    "        return np.mean(scores)"
   ]
  },
  {
   "cell_type": "code",
   "execution_count": 22,
   "id": "4bcfd465",
   "metadata": {},
   "outputs": [
    {
     "name": "stderr",
     "output_type": "stream",
     "text": [
      "\u001b[32m[I 2023-02-15 05:19:09,324]\u001b[0m A new study created in memory with name: no-name-8061a8e3-7a2a-48f7-ad3f-dfaf53e75a57\u001b[0m\n"
     ]
    },
    {
     "name": "stdout",
     "output_type": "stream",
     "text": [
      "[LightGBM] [Warning] Unknown parameter: tree_method\n",
      "[LightGBM] [Warning] lambda_l1 is set=0.042922956747237805, reg_alpha=0.0 will be ignored. Current value: lambda_l1=0.042922956747237805\n",
      "[LightGBM] [Warning] feature_fraction is set=0.734285259695096, colsample_bytree=1.0 will be ignored. Current value: feature_fraction=0.734285259695096\n",
      "[LightGBM] [Warning] lambda_l2 is set=0.8344669403439081, reg_lambda=0.0 will be ignored. Current value: lambda_l2=0.8344669403439081\n",
      "[LightGBM] [Warning] bagging_fraction is set=0.45753001191099424, subsample=1.0 will be ignored. Current value: bagging_fraction=0.45753001191099424\n",
      "[LightGBM] [Warning] Unknown parameter: tree_method\n",
      "[LightGBM] [Warning] lambda_l1 is set=0.042922956747237805, reg_alpha=0.0 will be ignored. Current value: lambda_l1=0.042922956747237805\n",
      "[LightGBM] [Warning] feature_fraction is set=0.734285259695096, colsample_bytree=1.0 will be ignored. Current value: feature_fraction=0.734285259695096\n",
      "[LightGBM] [Warning] lambda_l2 is set=0.8344669403439081, reg_lambda=0.0 will be ignored. Current value: lambda_l2=0.8344669403439081\n",
      "[LightGBM] [Warning] bagging_fraction is set=0.45753001191099424, subsample=1.0 will be ignored. Current value: bagging_fraction=0.45753001191099424\n",
      "[LightGBM] [Warning] Unknown parameter: tree_method\n",
      "[LightGBM] [Warning] lambda_l1 is set=0.042922956747237805, reg_alpha=0.0 will be ignored. Current value: lambda_l1=0.042922956747237805\n",
      "[LightGBM] [Warning] feature_fraction is set=0.734285259695096, colsample_bytree=1.0 will be ignored. Current value: feature_fraction=0.734285259695096\n",
      "[LightGBM] [Warning] lambda_l2 is set=0.8344669403439081, reg_lambda=0.0 will be ignored. Current value: lambda_l2=0.8344669403439081\n",
      "[LightGBM] [Warning] bagging_fraction is set=0.45753001191099424, subsample=1.0 will be ignored. Current value: bagging_fraction=0.45753001191099424\n",
      "[LightGBM] [Warning] Unknown parameter: tree_method\n",
      "[LightGBM] [Warning] lambda_l1 is set=0.042922956747237805, reg_alpha=0.0 will be ignored. Current value: lambda_l1=0.042922956747237805\n",
      "[LightGBM] [Warning] feature_fraction is set=0.734285259695096, colsample_bytree=1.0 will be ignored. Current value: feature_fraction=0.734285259695096\n",
      "[LightGBM] [Warning] lambda_l2 is set=0.8344669403439081, reg_lambda=0.0 will be ignored. Current value: lambda_l2=0.8344669403439081\n",
      "[LightGBM] [Warning] bagging_fraction is set=0.45753001191099424, subsample=1.0 will be ignored. Current value: bagging_fraction=0.45753001191099424\n",
      "[LightGBM] [Warning] Unknown parameter: tree_method\n",
      "[LightGBM] [Warning] lambda_l1 is set=0.042922956747237805, reg_alpha=0.0 will be ignored. Current value: lambda_l1=0.042922956747237805\n",
      "[LightGBM] [Warning] feature_fraction is set=0.734285259695096, colsample_bytree=1.0 will be ignored. Current value: feature_fraction=0.734285259695096\n",
      "[LightGBM] [Warning] lambda_l2 is set=0.8344669403439081, reg_lambda=0.0 will be ignored. Current value: lambda_l2=0.8344669403439081\n",
      "[LightGBM] [Warning] bagging_fraction is set=0.45753001191099424, subsample=1.0 will be ignored. Current value: bagging_fraction=0.45753001191099424\n"
     ]
    },
    {
     "name": "stderr",
     "output_type": "stream",
     "text": [
      "\u001b[32m[I 2023-02-15 05:19:18,574]\u001b[0m Trial 0 finished with value: 0.8902038372994191 and parameters: {'n_estimators': 1090, 'learning_rate': 0.008720178264787914, 'max_depth': 5, 'lambda_l1': 0.042922956747237805, 'lambda_l2': 0.8344669403439081, 'num_leaves': 48, 'bagging_fraction': 0.45753001191099424, 'feature_fraction': 0.734285259695096}. Best is trial 0 with value: 0.8902038372994191.\u001b[0m\n"
     ]
    },
    {
     "name": "stdout",
     "output_type": "stream",
     "text": [
      "[LightGBM] [Warning] Unknown parameter: tree_method\n",
      "[LightGBM] [Warning] lambda_l1 is set=1.1519867782876925, reg_alpha=0.0 will be ignored. Current value: lambda_l1=1.1519867782876925\n",
      "[LightGBM] [Warning] feature_fraction is set=0.40396705360519847, colsample_bytree=1.0 will be ignored. Current value: feature_fraction=0.40396705360519847\n",
      "[LightGBM] [Warning] lambda_l2 is set=0.01773347336024294, reg_lambda=0.0 will be ignored. Current value: lambda_l2=0.01773347336024294\n",
      "[LightGBM] [Warning] bagging_fraction is set=0.6571809852841091, subsample=1.0 will be ignored. Current value: bagging_fraction=0.6571809852841091\n",
      "[LightGBM] [Warning] Unknown parameter: tree_method\n",
      "[LightGBM] [Warning] lambda_l1 is set=1.1519867782876925, reg_alpha=0.0 will be ignored. Current value: lambda_l1=1.1519867782876925\n",
      "[LightGBM] [Warning] feature_fraction is set=0.40396705360519847, colsample_bytree=1.0 will be ignored. Current value: feature_fraction=0.40396705360519847\n",
      "[LightGBM] [Warning] lambda_l2 is set=0.01773347336024294, reg_lambda=0.0 will be ignored. Current value: lambda_l2=0.01773347336024294\n",
      "[LightGBM] [Warning] bagging_fraction is set=0.6571809852841091, subsample=1.0 will be ignored. Current value: bagging_fraction=0.6571809852841091\n",
      "[LightGBM] [Warning] Unknown parameter: tree_method\n",
      "[LightGBM] [Warning] lambda_l1 is set=1.1519867782876925, reg_alpha=0.0 will be ignored. Current value: lambda_l1=1.1519867782876925\n",
      "[LightGBM] [Warning] feature_fraction is set=0.40396705360519847, colsample_bytree=1.0 will be ignored. Current value: feature_fraction=0.40396705360519847\n",
      "[LightGBM] [Warning] lambda_l2 is set=0.01773347336024294, reg_lambda=0.0 will be ignored. Current value: lambda_l2=0.01773347336024294\n",
      "[LightGBM] [Warning] bagging_fraction is set=0.6571809852841091, subsample=1.0 will be ignored. Current value: bagging_fraction=0.6571809852841091\n",
      "[LightGBM] [Warning] Unknown parameter: tree_method\n",
      "[LightGBM] [Warning] lambda_l1 is set=1.1519867782876925, reg_alpha=0.0 will be ignored. Current value: lambda_l1=1.1519867782876925\n",
      "[LightGBM] [Warning] feature_fraction is set=0.40396705360519847, colsample_bytree=1.0 will be ignored. Current value: feature_fraction=0.40396705360519847\n",
      "[LightGBM] [Warning] lambda_l2 is set=0.01773347336024294, reg_lambda=0.0 will be ignored. Current value: lambda_l2=0.01773347336024294\n",
      "[LightGBM] [Warning] bagging_fraction is set=0.6571809852841091, subsample=1.0 will be ignored. Current value: bagging_fraction=0.6571809852841091\n",
      "[LightGBM] [Warning] Unknown parameter: tree_method\n",
      "[LightGBM] [Warning] lambda_l1 is set=1.1519867782876925, reg_alpha=0.0 will be ignored. Current value: lambda_l1=1.1519867782876925\n",
      "[LightGBM] [Warning] feature_fraction is set=0.40396705360519847, colsample_bytree=1.0 will be ignored. Current value: feature_fraction=0.40396705360519847\n",
      "[LightGBM] [Warning] lambda_l2 is set=0.01773347336024294, reg_lambda=0.0 will be ignored. Current value: lambda_l2=0.01773347336024294\n",
      "[LightGBM] [Warning] bagging_fraction is set=0.6571809852841091, subsample=1.0 will be ignored. Current value: bagging_fraction=0.6571809852841091\n"
     ]
    },
    {
     "name": "stderr",
     "output_type": "stream",
     "text": [
      "\u001b[32m[I 2023-02-15 05:19:41,743]\u001b[0m Trial 1 finished with value: 0.8715440227736204 and parameters: {'n_estimators': 3572, 'learning_rate': 0.8279639533984487, 'max_depth': 8, 'lambda_l1': 1.1519867782876925, 'lambda_l2': 0.01773347336024294, 'num_leaves': 33, 'bagging_fraction': 0.6571809852841091, 'feature_fraction': 0.40396705360519847}. Best is trial 0 with value: 0.8902038372994191.\u001b[0m\n"
     ]
    },
    {
     "name": "stdout",
     "output_type": "stream",
     "text": [
      "[LightGBM] [Warning] Unknown parameter: tree_method\n",
      "[LightGBM] [Warning] lambda_l1 is set=0.03418425317678791, reg_alpha=0.0 will be ignored. Current value: lambda_l1=0.03418425317678791\n",
      "[LightGBM] [Warning] feature_fraction is set=0.2956575056588752, colsample_bytree=1.0 will be ignored. Current value: feature_fraction=0.2956575056588752\n",
      "[LightGBM] [Warning] lambda_l2 is set=0.013680667791494306, reg_lambda=0.0 will be ignored. Current value: lambda_l2=0.013680667791494306\n",
      "[LightGBM] [Warning] bagging_fraction is set=0.8933794751488835, subsample=1.0 will be ignored. Current value: bagging_fraction=0.8933794751488835\n",
      "[LightGBM] [Warning] Unknown parameter: tree_method\n",
      "[LightGBM] [Warning] lambda_l1 is set=0.03418425317678791, reg_alpha=0.0 will be ignored. Current value: lambda_l1=0.03418425317678791\n",
      "[LightGBM] [Warning] feature_fraction is set=0.2956575056588752, colsample_bytree=1.0 will be ignored. Current value: feature_fraction=0.2956575056588752\n",
      "[LightGBM] [Warning] lambda_l2 is set=0.013680667791494306, reg_lambda=0.0 will be ignored. Current value: lambda_l2=0.013680667791494306\n",
      "[LightGBM] [Warning] bagging_fraction is set=0.8933794751488835, subsample=1.0 will be ignored. Current value: bagging_fraction=0.8933794751488835\n",
      "[LightGBM] [Warning] Unknown parameter: tree_method\n",
      "[LightGBM] [Warning] lambda_l1 is set=0.03418425317678791, reg_alpha=0.0 will be ignored. Current value: lambda_l1=0.03418425317678791\n",
      "[LightGBM] [Warning] feature_fraction is set=0.2956575056588752, colsample_bytree=1.0 will be ignored. Current value: feature_fraction=0.2956575056588752\n",
      "[LightGBM] [Warning] lambda_l2 is set=0.013680667791494306, reg_lambda=0.0 will be ignored. Current value: lambda_l2=0.013680667791494306\n",
      "[LightGBM] [Warning] bagging_fraction is set=0.8933794751488835, subsample=1.0 will be ignored. Current value: bagging_fraction=0.8933794751488835\n",
      "[LightGBM] [Warning] Unknown parameter: tree_method\n",
      "[LightGBM] [Warning] lambda_l1 is set=0.03418425317678791, reg_alpha=0.0 will be ignored. Current value: lambda_l1=0.03418425317678791\n",
      "[LightGBM] [Warning] feature_fraction is set=0.2956575056588752, colsample_bytree=1.0 will be ignored. Current value: feature_fraction=0.2956575056588752\n",
      "[LightGBM] [Warning] lambda_l2 is set=0.013680667791494306, reg_lambda=0.0 will be ignored. Current value: lambda_l2=0.013680667791494306\n",
      "[LightGBM] [Warning] bagging_fraction is set=0.8933794751488835, subsample=1.0 will be ignored. Current value: bagging_fraction=0.8933794751488835\n",
      "[LightGBM] [Warning] Unknown parameter: tree_method\n",
      "[LightGBM] [Warning] lambda_l1 is set=0.03418425317678791, reg_alpha=0.0 will be ignored. Current value: lambda_l1=0.03418425317678791\n",
      "[LightGBM] [Warning] feature_fraction is set=0.2956575056588752, colsample_bytree=1.0 will be ignored. Current value: feature_fraction=0.2956575056588752\n",
      "[LightGBM] [Warning] lambda_l2 is set=0.013680667791494306, reg_lambda=0.0 will be ignored. Current value: lambda_l2=0.013680667791494306\n",
      "[LightGBM] [Warning] bagging_fraction is set=0.8933794751488835, subsample=1.0 will be ignored. Current value: bagging_fraction=0.8933794751488835\n"
     ]
    },
    {
     "name": "stderr",
     "output_type": "stream",
     "text": [
      "\u001b[32m[I 2023-02-15 05:20:35,021]\u001b[0m Trial 2 finished with value: 0.8900664585783622 and parameters: {'n_estimators': 8179, 'learning_rate': 0.0018098751450333747, 'max_depth': 12, 'lambda_l1': 0.03418425317678791, 'lambda_l2': 0.013680667791494306, 'num_leaves': 12, 'bagging_fraction': 0.8933794751488835, 'feature_fraction': 0.2956575056588752}. Best is trial 0 with value: 0.8902038372994191.\u001b[0m\n"
     ]
    },
    {
     "name": "stdout",
     "output_type": "stream",
     "text": [
      "[LightGBM] [Warning] Unknown parameter: tree_method\n",
      "[LightGBM] [Warning] lambda_l1 is set=0.17934455373684338, reg_alpha=0.0 will be ignored. Current value: lambda_l1=0.17934455373684338\n",
      "[LightGBM] [Warning] feature_fraction is set=0.3354563733008074, colsample_bytree=1.0 will be ignored. Current value: feature_fraction=0.3354563733008074\n",
      "[LightGBM] [Warning] lambda_l2 is set=0.03485024689486541, reg_lambda=0.0 will be ignored. Current value: lambda_l2=0.03485024689486541\n",
      "[LightGBM] [Warning] bagging_fraction is set=0.8995146584570681, subsample=1.0 will be ignored. Current value: bagging_fraction=0.8995146584570681\n",
      "[LightGBM] [Warning] Unknown parameter: tree_method\n",
      "[LightGBM] [Warning] lambda_l1 is set=0.17934455373684338, reg_alpha=0.0 will be ignored. Current value: lambda_l1=0.17934455373684338\n",
      "[LightGBM] [Warning] feature_fraction is set=0.3354563733008074, colsample_bytree=1.0 will be ignored. Current value: feature_fraction=0.3354563733008074\n",
      "[LightGBM] [Warning] lambda_l2 is set=0.03485024689486541, reg_lambda=0.0 will be ignored. Current value: lambda_l2=0.03485024689486541\n",
      "[LightGBM] [Warning] bagging_fraction is set=0.8995146584570681, subsample=1.0 will be ignored. Current value: bagging_fraction=0.8995146584570681\n",
      "[LightGBM] [Warning] Unknown parameter: tree_method\n",
      "[LightGBM] [Warning] lambda_l1 is set=0.17934455373684338, reg_alpha=0.0 will be ignored. Current value: lambda_l1=0.17934455373684338\n",
      "[LightGBM] [Warning] feature_fraction is set=0.3354563733008074, colsample_bytree=1.0 will be ignored. Current value: feature_fraction=0.3354563733008074\n",
      "[LightGBM] [Warning] lambda_l2 is set=0.03485024689486541, reg_lambda=0.0 will be ignored. Current value: lambda_l2=0.03485024689486541\n",
      "[LightGBM] [Warning] bagging_fraction is set=0.8995146584570681, subsample=1.0 will be ignored. Current value: bagging_fraction=0.8995146584570681\n",
      "[LightGBM] [Warning] Unknown parameter: tree_method\n",
      "[LightGBM] [Warning] lambda_l1 is set=0.17934455373684338, reg_alpha=0.0 will be ignored. Current value: lambda_l1=0.17934455373684338\n",
      "[LightGBM] [Warning] feature_fraction is set=0.3354563733008074, colsample_bytree=1.0 will be ignored. Current value: feature_fraction=0.3354563733008074\n",
      "[LightGBM] [Warning] lambda_l2 is set=0.03485024689486541, reg_lambda=0.0 will be ignored. Current value: lambda_l2=0.03485024689486541\n",
      "[LightGBM] [Warning] bagging_fraction is set=0.8995146584570681, subsample=1.0 will be ignored. Current value: bagging_fraction=0.8995146584570681\n",
      "[LightGBM] [Warning] Unknown parameter: tree_method\n",
      "[LightGBM] [Warning] lambda_l1 is set=0.17934455373684338, reg_alpha=0.0 will be ignored. Current value: lambda_l1=0.17934455373684338\n",
      "[LightGBM] [Warning] feature_fraction is set=0.3354563733008074, colsample_bytree=1.0 will be ignored. Current value: feature_fraction=0.3354563733008074\n",
      "[LightGBM] [Warning] lambda_l2 is set=0.03485024689486541, reg_lambda=0.0 will be ignored. Current value: lambda_l2=0.03485024689486541\n",
      "[LightGBM] [Warning] bagging_fraction is set=0.8995146584570681, subsample=1.0 will be ignored. Current value: bagging_fraction=0.8995146584570681\n"
     ]
    },
    {
     "name": "stderr",
     "output_type": "stream",
     "text": [
      "\u001b[32m[I 2023-02-15 05:21:19,316]\u001b[0m Trial 3 finished with value: 0.8965272312748697 and parameters: {'n_estimators': 5519, 'learning_rate': 0.005009301871992326, 'max_depth': 10, 'lambda_l1': 0.17934455373684338, 'lambda_l2': 0.03485024689486541, 'num_leaves': 26, 'bagging_fraction': 0.8995146584570681, 'feature_fraction': 0.3354563733008074}. Best is trial 3 with value: 0.8965272312748697.\u001b[0m\n"
     ]
    },
    {
     "name": "stdout",
     "output_type": "stream",
     "text": [
      "[LightGBM] [Warning] Unknown parameter: tree_method\n",
      "[LightGBM] [Warning] lambda_l1 is set=0.0650289737750784, reg_alpha=0.0 will be ignored. Current value: lambda_l1=0.0650289737750784\n",
      "[LightGBM] [Warning] feature_fraction is set=0.3156617494155408, colsample_bytree=1.0 will be ignored. Current value: feature_fraction=0.3156617494155408\n",
      "[LightGBM] [Warning] lambda_l2 is set=0.08027025916760921, reg_lambda=0.0 will be ignored. Current value: lambda_l2=0.08027025916760921\n",
      "[LightGBM] [Warning] bagging_fraction is set=0.49150419930682965, subsample=1.0 will be ignored. Current value: bagging_fraction=0.49150419930682965\n",
      "[LightGBM] [Warning] Unknown parameter: tree_method\n",
      "[LightGBM] [Warning] lambda_l1 is set=0.0650289737750784, reg_alpha=0.0 will be ignored. Current value: lambda_l1=0.0650289737750784\n",
      "[LightGBM] [Warning] feature_fraction is set=0.3156617494155408, colsample_bytree=1.0 will be ignored. Current value: feature_fraction=0.3156617494155408\n",
      "[LightGBM] [Warning] lambda_l2 is set=0.08027025916760921, reg_lambda=0.0 will be ignored. Current value: lambda_l2=0.08027025916760921\n",
      "[LightGBM] [Warning] bagging_fraction is set=0.49150419930682965, subsample=1.0 will be ignored. Current value: bagging_fraction=0.49150419930682965\n",
      "[LightGBM] [Warning] Unknown parameter: tree_method\n",
      "[LightGBM] [Warning] lambda_l1 is set=0.0650289737750784, reg_alpha=0.0 will be ignored. Current value: lambda_l1=0.0650289737750784\n",
      "[LightGBM] [Warning] feature_fraction is set=0.3156617494155408, colsample_bytree=1.0 will be ignored. Current value: feature_fraction=0.3156617494155408\n",
      "[LightGBM] [Warning] lambda_l2 is set=0.08027025916760921, reg_lambda=0.0 will be ignored. Current value: lambda_l2=0.08027025916760921\n",
      "[LightGBM] [Warning] bagging_fraction is set=0.49150419930682965, subsample=1.0 will be ignored. Current value: bagging_fraction=0.49150419930682965\n",
      "[LightGBM] [Warning] Unknown parameter: tree_method\n",
      "[LightGBM] [Warning] lambda_l1 is set=0.0650289737750784, reg_alpha=0.0 will be ignored. Current value: lambda_l1=0.0650289737750784\n",
      "[LightGBM] [Warning] feature_fraction is set=0.3156617494155408, colsample_bytree=1.0 will be ignored. Current value: feature_fraction=0.3156617494155408\n",
      "[LightGBM] [Warning] lambda_l2 is set=0.08027025916760921, reg_lambda=0.0 will be ignored. Current value: lambda_l2=0.08027025916760921\n",
      "[LightGBM] [Warning] bagging_fraction is set=0.49150419930682965, subsample=1.0 will be ignored. Current value: bagging_fraction=0.49150419930682965\n",
      "[LightGBM] [Warning] Unknown parameter: tree_method\n",
      "[LightGBM] [Warning] lambda_l1 is set=0.0650289737750784, reg_alpha=0.0 will be ignored. Current value: lambda_l1=0.0650289737750784\n",
      "[LightGBM] [Warning] feature_fraction is set=0.3156617494155408, colsample_bytree=1.0 will be ignored. Current value: feature_fraction=0.3156617494155408\n",
      "[LightGBM] [Warning] lambda_l2 is set=0.08027025916760921, reg_lambda=0.0 will be ignored. Current value: lambda_l2=0.08027025916760921\n",
      "[LightGBM] [Warning] bagging_fraction is set=0.49150419930682965, subsample=1.0 will be ignored. Current value: bagging_fraction=0.49150419930682965\n"
     ]
    },
    {
     "name": "stderr",
     "output_type": "stream",
     "text": [
      "\u001b[32m[I 2023-02-15 05:21:40,057]\u001b[0m Trial 4 finished with value: 0.8978680422979346 and parameters: {'n_estimators': 2950, 'learning_rate': 0.02146640189840897, 'max_depth': 12, 'lambda_l1': 0.0650289737750784, 'lambda_l2': 0.08027025916760921, 'num_leaves': 21, 'bagging_fraction': 0.49150419930682965, 'feature_fraction': 0.3156617494155408}. Best is trial 4 with value: 0.8978680422979346.\u001b[0m\n"
     ]
    },
    {
     "name": "stdout",
     "output_type": "stream",
     "text": [
      "[LightGBM] [Warning] Unknown parameter: tree_method\n",
      "[LightGBM] [Warning] lambda_l1 is set=1.337604203509746, reg_alpha=0.0 will be ignored. Current value: lambda_l1=1.337604203509746\n",
      "[LightGBM] [Warning] feature_fraction is set=0.30764597379081876, colsample_bytree=1.0 will be ignored. Current value: feature_fraction=0.30764597379081876\n",
      "[LightGBM] [Warning] lambda_l2 is set=2.0054971104982253, reg_lambda=0.0 will be ignored. Current value: lambda_l2=2.0054971104982253\n",
      "[LightGBM] [Warning] bagging_fraction is set=0.5023739511848648, subsample=1.0 will be ignored. Current value: bagging_fraction=0.5023739511848648\n",
      "[LightGBM] [Warning] Unknown parameter: tree_method\n",
      "[LightGBM] [Warning] lambda_l1 is set=1.337604203509746, reg_alpha=0.0 will be ignored. Current value: lambda_l1=1.337604203509746\n",
      "[LightGBM] [Warning] feature_fraction is set=0.30764597379081876, colsample_bytree=1.0 will be ignored. Current value: feature_fraction=0.30764597379081876\n",
      "[LightGBM] [Warning] lambda_l2 is set=2.0054971104982253, reg_lambda=0.0 will be ignored. Current value: lambda_l2=2.0054971104982253\n",
      "[LightGBM] [Warning] bagging_fraction is set=0.5023739511848648, subsample=1.0 will be ignored. Current value: bagging_fraction=0.5023739511848648\n",
      "[LightGBM] [Warning] Unknown parameter: tree_method\n",
      "[LightGBM] [Warning] lambda_l1 is set=1.337604203509746, reg_alpha=0.0 will be ignored. Current value: lambda_l1=1.337604203509746\n",
      "[LightGBM] [Warning] feature_fraction is set=0.30764597379081876, colsample_bytree=1.0 will be ignored. Current value: feature_fraction=0.30764597379081876\n",
      "[LightGBM] [Warning] lambda_l2 is set=2.0054971104982253, reg_lambda=0.0 will be ignored. Current value: lambda_l2=2.0054971104982253\n",
      "[LightGBM] [Warning] bagging_fraction is set=0.5023739511848648, subsample=1.0 will be ignored. Current value: bagging_fraction=0.5023739511848648\n",
      "[LightGBM] [Warning] Unknown parameter: tree_method\n",
      "[LightGBM] [Warning] lambda_l1 is set=1.337604203509746, reg_alpha=0.0 will be ignored. Current value: lambda_l1=1.337604203509746\n",
      "[LightGBM] [Warning] feature_fraction is set=0.30764597379081876, colsample_bytree=1.0 will be ignored. Current value: feature_fraction=0.30764597379081876\n",
      "[LightGBM] [Warning] lambda_l2 is set=2.0054971104982253, reg_lambda=0.0 will be ignored. Current value: lambda_l2=2.0054971104982253\n",
      "[LightGBM] [Warning] bagging_fraction is set=0.5023739511848648, subsample=1.0 will be ignored. Current value: bagging_fraction=0.5023739511848648\n",
      "[LightGBM] [Warning] Unknown parameter: tree_method\n",
      "[LightGBM] [Warning] lambda_l1 is set=1.337604203509746, reg_alpha=0.0 will be ignored. Current value: lambda_l1=1.337604203509746\n",
      "[LightGBM] [Warning] feature_fraction is set=0.30764597379081876, colsample_bytree=1.0 will be ignored. Current value: feature_fraction=0.30764597379081876\n",
      "[LightGBM] [Warning] lambda_l2 is set=2.0054971104982253, reg_lambda=0.0 will be ignored. Current value: lambda_l2=2.0054971104982253\n",
      "[LightGBM] [Warning] bagging_fraction is set=0.5023739511848648, subsample=1.0 will be ignored. Current value: bagging_fraction=0.5023739511848648\n"
     ]
    },
    {
     "name": "stderr",
     "output_type": "stream",
     "text": [
      "\u001b[32m[I 2023-02-15 05:22:07,865]\u001b[0m Trial 5 finished with value: 0.8890124482048349 and parameters: {'n_estimators': 5698, 'learning_rate': 0.356269291065736, 'max_depth': 12, 'lambda_l1': 1.337604203509746, 'lambda_l2': 2.0054971104982253, 'num_leaves': 20, 'bagging_fraction': 0.5023739511848648, 'feature_fraction': 0.30764597379081876}. Best is trial 4 with value: 0.8978680422979346.\u001b[0m\n"
     ]
    },
    {
     "name": "stdout",
     "output_type": "stream",
     "text": [
      "[LightGBM] [Warning] Unknown parameter: tree_method\n",
      "[LightGBM] [Warning] lambda_l1 is set=0.48926043686578036, reg_alpha=0.0 will be ignored. Current value: lambda_l1=0.48926043686578036\n",
      "[LightGBM] [Warning] feature_fraction is set=0.7300113458115285, colsample_bytree=1.0 will be ignored. Current value: feature_fraction=0.7300113458115285\n",
      "[LightGBM] [Warning] lambda_l2 is set=0.20490930834557286, reg_lambda=0.0 will be ignored. Current value: lambda_l2=0.20490930834557286\n",
      "[LightGBM] [Warning] bagging_fraction is set=0.5839197212980063, subsample=1.0 will be ignored. Current value: bagging_fraction=0.5839197212980063\n",
      "[LightGBM] [Warning] Unknown parameter: tree_method\n",
      "[LightGBM] [Warning] lambda_l1 is set=0.48926043686578036, reg_alpha=0.0 will be ignored. Current value: lambda_l1=0.48926043686578036\n",
      "[LightGBM] [Warning] feature_fraction is set=0.7300113458115285, colsample_bytree=1.0 will be ignored. Current value: feature_fraction=0.7300113458115285\n",
      "[LightGBM] [Warning] lambda_l2 is set=0.20490930834557286, reg_lambda=0.0 will be ignored. Current value: lambda_l2=0.20490930834557286\n",
      "[LightGBM] [Warning] bagging_fraction is set=0.5839197212980063, subsample=1.0 will be ignored. Current value: bagging_fraction=0.5839197212980063\n",
      "[LightGBM] [Warning] Unknown parameter: tree_method\n",
      "[LightGBM] [Warning] lambda_l1 is set=0.48926043686578036, reg_alpha=0.0 will be ignored. Current value: lambda_l1=0.48926043686578036\n",
      "[LightGBM] [Warning] feature_fraction is set=0.7300113458115285, colsample_bytree=1.0 will be ignored. Current value: feature_fraction=0.7300113458115285\n",
      "[LightGBM] [Warning] lambda_l2 is set=0.20490930834557286, reg_lambda=0.0 will be ignored. Current value: lambda_l2=0.20490930834557286\n",
      "[LightGBM] [Warning] bagging_fraction is set=0.5839197212980063, subsample=1.0 will be ignored. Current value: bagging_fraction=0.5839197212980063\n",
      "[LightGBM] [Warning] Unknown parameter: tree_method\n",
      "[LightGBM] [Warning] lambda_l1 is set=0.48926043686578036, reg_alpha=0.0 will be ignored. Current value: lambda_l1=0.48926043686578036\n",
      "[LightGBM] [Warning] feature_fraction is set=0.7300113458115285, colsample_bytree=1.0 will be ignored. Current value: feature_fraction=0.7300113458115285\n",
      "[LightGBM] [Warning] lambda_l2 is set=0.20490930834557286, reg_lambda=0.0 will be ignored. Current value: lambda_l2=0.20490930834557286\n",
      "[LightGBM] [Warning] bagging_fraction is set=0.5839197212980063, subsample=1.0 will be ignored. Current value: bagging_fraction=0.5839197212980063\n",
      "[LightGBM] [Warning] Unknown parameter: tree_method\n",
      "[LightGBM] [Warning] lambda_l1 is set=0.48926043686578036, reg_alpha=0.0 will be ignored. Current value: lambda_l1=0.48926043686578036\n",
      "[LightGBM] [Warning] feature_fraction is set=0.7300113458115285, colsample_bytree=1.0 will be ignored. Current value: feature_fraction=0.7300113458115285\n",
      "[LightGBM] [Warning] lambda_l2 is set=0.20490930834557286, reg_lambda=0.0 will be ignored. Current value: lambda_l2=0.20490930834557286\n",
      "[LightGBM] [Warning] bagging_fraction is set=0.5839197212980063, subsample=1.0 will be ignored. Current value: bagging_fraction=0.5839197212980063\n"
     ]
    },
    {
     "name": "stderr",
     "output_type": "stream",
     "text": [
      "\u001b[32m[I 2023-02-15 05:22:55,952]\u001b[0m Trial 6 finished with value: 0.8745691647633438 and parameters: {'n_estimators': 5539, 'learning_rate': 0.20180108549637857, 'max_depth': 8, 'lambda_l1': 0.48926043686578036, 'lambda_l2': 0.20490930834557286, 'num_leaves': 33, 'bagging_fraction': 0.5839197212980063, 'feature_fraction': 0.7300113458115285}. Best is trial 4 with value: 0.8978680422979346.\u001b[0m\n"
     ]
    },
    {
     "name": "stdout",
     "output_type": "stream",
     "text": [
      "[LightGBM] [Warning] Unknown parameter: tree_method\n",
      "[LightGBM] [Warning] lambda_l1 is set=0.08901289941797771, reg_alpha=0.0 will be ignored. Current value: lambda_l1=0.08901289941797771\n",
      "[LightGBM] [Warning] feature_fraction is set=0.7226825507268664, colsample_bytree=1.0 will be ignored. Current value: feature_fraction=0.7226825507268664\n",
      "[LightGBM] [Warning] lambda_l2 is set=0.01469491302321305, reg_lambda=0.0 will be ignored. Current value: lambda_l2=0.01469491302321305\n",
      "[LightGBM] [Warning] bagging_fraction is set=0.8103209117893568, subsample=1.0 will be ignored. Current value: bagging_fraction=0.8103209117893568\n",
      "[LightGBM] [Warning] Unknown parameter: tree_method\n",
      "[LightGBM] [Warning] lambda_l1 is set=0.08901289941797771, reg_alpha=0.0 will be ignored. Current value: lambda_l1=0.08901289941797771\n",
      "[LightGBM] [Warning] feature_fraction is set=0.7226825507268664, colsample_bytree=1.0 will be ignored. Current value: feature_fraction=0.7226825507268664\n",
      "[LightGBM] [Warning] lambda_l2 is set=0.01469491302321305, reg_lambda=0.0 will be ignored. Current value: lambda_l2=0.01469491302321305\n",
      "[LightGBM] [Warning] bagging_fraction is set=0.8103209117893568, subsample=1.0 will be ignored. Current value: bagging_fraction=0.8103209117893568\n",
      "[LightGBM] [Warning] Unknown parameter: tree_method\n",
      "[LightGBM] [Warning] lambda_l1 is set=0.08901289941797771, reg_alpha=0.0 will be ignored. Current value: lambda_l1=0.08901289941797771\n",
      "[LightGBM] [Warning] feature_fraction is set=0.7226825507268664, colsample_bytree=1.0 will be ignored. Current value: feature_fraction=0.7226825507268664\n",
      "[LightGBM] [Warning] lambda_l2 is set=0.01469491302321305, reg_lambda=0.0 will be ignored. Current value: lambda_l2=0.01469491302321305\n",
      "[LightGBM] [Warning] bagging_fraction is set=0.8103209117893568, subsample=1.0 will be ignored. Current value: bagging_fraction=0.8103209117893568\n",
      "[LightGBM] [Warning] Unknown parameter: tree_method\n",
      "[LightGBM] [Warning] lambda_l1 is set=0.08901289941797771, reg_alpha=0.0 will be ignored. Current value: lambda_l1=0.08901289941797771\n",
      "[LightGBM] [Warning] feature_fraction is set=0.7226825507268664, colsample_bytree=1.0 will be ignored. Current value: feature_fraction=0.7226825507268664\n",
      "[LightGBM] [Warning] lambda_l2 is set=0.01469491302321305, reg_lambda=0.0 will be ignored. Current value: lambda_l2=0.01469491302321305\n",
      "[LightGBM] [Warning] bagging_fraction is set=0.8103209117893568, subsample=1.0 will be ignored. Current value: bagging_fraction=0.8103209117893568\n",
      "[LightGBM] [Warning] Unknown parameter: tree_method\n",
      "[LightGBM] [Warning] lambda_l1 is set=0.08901289941797771, reg_alpha=0.0 will be ignored. Current value: lambda_l1=0.08901289941797771\n",
      "[LightGBM] [Warning] feature_fraction is set=0.7226825507268664, colsample_bytree=1.0 will be ignored. Current value: feature_fraction=0.7226825507268664\n",
      "[LightGBM] [Warning] lambda_l2 is set=0.01469491302321305, reg_lambda=0.0 will be ignored. Current value: lambda_l2=0.01469491302321305\n",
      "[LightGBM] [Warning] bagging_fraction is set=0.8103209117893568, subsample=1.0 will be ignored. Current value: bagging_fraction=0.8103209117893568\n"
     ]
    },
    {
     "name": "stderr",
     "output_type": "stream",
     "text": [
      "\u001b[32m[I 2023-02-15 05:24:46,327]\u001b[0m Trial 7 finished with value: 0.8663404588399203 and parameters: {'n_estimators': 7560, 'learning_rate': 0.13514599933975913, 'max_depth': 7, 'lambda_l1': 0.08901289941797771, 'lambda_l2': 0.01469491302321305, 'num_leaves': 88, 'bagging_fraction': 0.8103209117893568, 'feature_fraction': 0.7226825507268664}. Best is trial 4 with value: 0.8978680422979346.\u001b[0m\n"
     ]
    },
    {
     "name": "stdout",
     "output_type": "stream",
     "text": [
      "[LightGBM] [Warning] Unknown parameter: tree_method\n",
      "[LightGBM] [Warning] lambda_l1 is set=0.18819741679579793, reg_alpha=0.0 will be ignored. Current value: lambda_l1=0.18819741679579793\n",
      "[LightGBM] [Warning] feature_fraction is set=0.7245919328967001, colsample_bytree=1.0 will be ignored. Current value: feature_fraction=0.7245919328967001\n",
      "[LightGBM] [Warning] lambda_l2 is set=0.034628626548331265, reg_lambda=0.0 will be ignored. Current value: lambda_l2=0.034628626548331265\n",
      "[LightGBM] [Warning] bagging_fraction is set=0.8193231524224118, subsample=1.0 will be ignored. Current value: bagging_fraction=0.8193231524224118\n",
      "[LightGBM] [Warning] Unknown parameter: tree_method\n",
      "[LightGBM] [Warning] lambda_l1 is set=0.18819741679579793, reg_alpha=0.0 will be ignored. Current value: lambda_l1=0.18819741679579793\n",
      "[LightGBM] [Warning] feature_fraction is set=0.7245919328967001, colsample_bytree=1.0 will be ignored. Current value: feature_fraction=0.7245919328967001\n",
      "[LightGBM] [Warning] lambda_l2 is set=0.034628626548331265, reg_lambda=0.0 will be ignored. Current value: lambda_l2=0.034628626548331265\n",
      "[LightGBM] [Warning] bagging_fraction is set=0.8193231524224118, subsample=1.0 will be ignored. Current value: bagging_fraction=0.8193231524224118\n",
      "[LightGBM] [Warning] Unknown parameter: tree_method\n",
      "[LightGBM] [Warning] lambda_l1 is set=0.18819741679579793, reg_alpha=0.0 will be ignored. Current value: lambda_l1=0.18819741679579793\n",
      "[LightGBM] [Warning] feature_fraction is set=0.7245919328967001, colsample_bytree=1.0 will be ignored. Current value: feature_fraction=0.7245919328967001\n",
      "[LightGBM] [Warning] lambda_l2 is set=0.034628626548331265, reg_lambda=0.0 will be ignored. Current value: lambda_l2=0.034628626548331265\n",
      "[LightGBM] [Warning] bagging_fraction is set=0.8193231524224118, subsample=1.0 will be ignored. Current value: bagging_fraction=0.8193231524224118\n",
      "[LightGBM] [Warning] Unknown parameter: tree_method\n",
      "[LightGBM] [Warning] lambda_l1 is set=0.18819741679579793, reg_alpha=0.0 will be ignored. Current value: lambda_l1=0.18819741679579793\n",
      "[LightGBM] [Warning] feature_fraction is set=0.7245919328967001, colsample_bytree=1.0 will be ignored. Current value: feature_fraction=0.7245919328967001\n",
      "[LightGBM] [Warning] lambda_l2 is set=0.034628626548331265, reg_lambda=0.0 will be ignored. Current value: lambda_l2=0.034628626548331265\n",
      "[LightGBM] [Warning] bagging_fraction is set=0.8193231524224118, subsample=1.0 will be ignored. Current value: bagging_fraction=0.8193231524224118\n",
      "[LightGBM] [Warning] Unknown parameter: tree_method\n",
      "[LightGBM] [Warning] lambda_l1 is set=0.18819741679579793, reg_alpha=0.0 will be ignored. Current value: lambda_l1=0.18819741679579793\n",
      "[LightGBM] [Warning] feature_fraction is set=0.7245919328967001, colsample_bytree=1.0 will be ignored. Current value: feature_fraction=0.7245919328967001\n",
      "[LightGBM] [Warning] lambda_l2 is set=0.034628626548331265, reg_lambda=0.0 will be ignored. Current value: lambda_l2=0.034628626548331265\n",
      "[LightGBM] [Warning] bagging_fraction is set=0.8193231524224118, subsample=1.0 will be ignored. Current value: bagging_fraction=0.8193231524224118\n"
     ]
    },
    {
     "name": "stderr",
     "output_type": "stream",
     "text": [
      "\u001b[32m[I 2023-02-15 05:26:12,270]\u001b[0m Trial 8 finished with value: 0.8749666443790687 and parameters: {'n_estimators': 6098, 'learning_rate': 0.07446416305317369, 'max_depth': 9, 'lambda_l1': 0.18819741679579793, 'lambda_l2': 0.034628626548331265, 'num_leaves': 67, 'bagging_fraction': 0.8193231524224118, 'feature_fraction': 0.7245919328967001}. Best is trial 4 with value: 0.8978680422979346.\u001b[0m\n"
     ]
    },
    {
     "name": "stdout",
     "output_type": "stream",
     "text": [
      "[LightGBM] [Warning] Unknown parameter: tree_method\n",
      "[LightGBM] [Warning] lambda_l1 is set=3.4343007400000185, reg_alpha=0.0 will be ignored. Current value: lambda_l1=3.4343007400000185\n",
      "[LightGBM] [Warning] feature_fraction is set=0.29190676287540945, colsample_bytree=1.0 will be ignored. Current value: feature_fraction=0.29190676287540945\n",
      "[LightGBM] [Warning] lambda_l2 is set=2.4712185408144425, reg_lambda=0.0 will be ignored. Current value: lambda_l2=2.4712185408144425\n",
      "[LightGBM] [Warning] bagging_fraction is set=0.6704473114789922, subsample=1.0 will be ignored. Current value: bagging_fraction=0.6704473114789922\n",
      "[LightGBM] [Warning] Unknown parameter: tree_method\n",
      "[LightGBM] [Warning] lambda_l1 is set=3.4343007400000185, reg_alpha=0.0 will be ignored. Current value: lambda_l1=3.4343007400000185\n",
      "[LightGBM] [Warning] feature_fraction is set=0.29190676287540945, colsample_bytree=1.0 will be ignored. Current value: feature_fraction=0.29190676287540945\n",
      "[LightGBM] [Warning] lambda_l2 is set=2.4712185408144425, reg_lambda=0.0 will be ignored. Current value: lambda_l2=2.4712185408144425\n",
      "[LightGBM] [Warning] bagging_fraction is set=0.6704473114789922, subsample=1.0 will be ignored. Current value: bagging_fraction=0.6704473114789922\n",
      "[LightGBM] [Warning] Unknown parameter: tree_method\n",
      "[LightGBM] [Warning] lambda_l1 is set=3.4343007400000185, reg_alpha=0.0 will be ignored. Current value: lambda_l1=3.4343007400000185\n",
      "[LightGBM] [Warning] feature_fraction is set=0.29190676287540945, colsample_bytree=1.0 will be ignored. Current value: feature_fraction=0.29190676287540945\n",
      "[LightGBM] [Warning] lambda_l2 is set=2.4712185408144425, reg_lambda=0.0 will be ignored. Current value: lambda_l2=2.4712185408144425\n",
      "[LightGBM] [Warning] bagging_fraction is set=0.6704473114789922, subsample=1.0 will be ignored. Current value: bagging_fraction=0.6704473114789922\n",
      "[LightGBM] [Warning] Unknown parameter: tree_method\n",
      "[LightGBM] [Warning] lambda_l1 is set=3.4343007400000185, reg_alpha=0.0 will be ignored. Current value: lambda_l1=3.4343007400000185\n",
      "[LightGBM] [Warning] feature_fraction is set=0.29190676287540945, colsample_bytree=1.0 will be ignored. Current value: feature_fraction=0.29190676287540945\n",
      "[LightGBM] [Warning] lambda_l2 is set=2.4712185408144425, reg_lambda=0.0 will be ignored. Current value: lambda_l2=2.4712185408144425\n",
      "[LightGBM] [Warning] bagging_fraction is set=0.6704473114789922, subsample=1.0 will be ignored. Current value: bagging_fraction=0.6704473114789922\n",
      "[LightGBM] [Warning] Unknown parameter: tree_method\n",
      "[LightGBM] [Warning] lambda_l1 is set=3.4343007400000185, reg_alpha=0.0 will be ignored. Current value: lambda_l1=3.4343007400000185\n",
      "[LightGBM] [Warning] feature_fraction is set=0.29190676287540945, colsample_bytree=1.0 will be ignored. Current value: feature_fraction=0.29190676287540945\n",
      "[LightGBM] [Warning] lambda_l2 is set=2.4712185408144425, reg_lambda=0.0 will be ignored. Current value: lambda_l2=2.4712185408144425\n",
      "[LightGBM] [Warning] bagging_fraction is set=0.6704473114789922, subsample=1.0 will be ignored. Current value: bagging_fraction=0.6704473114789922\n"
     ]
    },
    {
     "name": "stderr",
     "output_type": "stream",
     "text": [
      "\u001b[32m[I 2023-02-15 05:26:58,432]\u001b[0m Trial 9 finished with value: 0.9004093855164221 and parameters: {'n_estimators': 9691, 'learning_rate': 0.0462768823884295, 'max_depth': 6, 'lambda_l1': 3.4343007400000185, 'lambda_l2': 2.4712185408144425, 'num_leaves': 55, 'bagging_fraction': 0.6704473114789922, 'feature_fraction': 0.29190676287540945}. Best is trial 9 with value: 0.9004093855164221.\u001b[0m\n"
     ]
    },
    {
     "name": "stdout",
     "output_type": "stream",
     "text": [
      "[LightGBM] [Warning] Unknown parameter: tree_method\n",
      "[LightGBM] [Warning] lambda_l1 is set=8.551880567150858, reg_alpha=0.0 will be ignored. Current value: lambda_l1=8.551880567150858\n",
      "[LightGBM] [Warning] feature_fraction is set=0.20831606141959985, colsample_bytree=1.0 will be ignored. Current value: feature_fraction=0.20831606141959985\n",
      "[LightGBM] [Warning] lambda_l2 is set=8.403033534081825, reg_lambda=0.0 will be ignored. Current value: lambda_l2=8.403033534081825\n",
      "[LightGBM] [Warning] bagging_fraction is set=0.268830511669942, subsample=1.0 will be ignored. Current value: bagging_fraction=0.268830511669942\n",
      "[LightGBM] [Warning] Unknown parameter: tree_method\n",
      "[LightGBM] [Warning] lambda_l1 is set=8.551880567150858, reg_alpha=0.0 will be ignored. Current value: lambda_l1=8.551880567150858\n",
      "[LightGBM] [Warning] feature_fraction is set=0.20831606141959985, colsample_bytree=1.0 will be ignored. Current value: feature_fraction=0.20831606141959985\n",
      "[LightGBM] [Warning] lambda_l2 is set=8.403033534081825, reg_lambda=0.0 will be ignored. Current value: lambda_l2=8.403033534081825\n",
      "[LightGBM] [Warning] bagging_fraction is set=0.268830511669942, subsample=1.0 will be ignored. Current value: bagging_fraction=0.268830511669942\n",
      "[LightGBM] [Warning] Unknown parameter: tree_method\n",
      "[LightGBM] [Warning] lambda_l1 is set=8.551880567150858, reg_alpha=0.0 will be ignored. Current value: lambda_l1=8.551880567150858\n",
      "[LightGBM] [Warning] feature_fraction is set=0.20831606141959985, colsample_bytree=1.0 will be ignored. Current value: feature_fraction=0.20831606141959985\n",
      "[LightGBM] [Warning] lambda_l2 is set=8.403033534081825, reg_lambda=0.0 will be ignored. Current value: lambda_l2=8.403033534081825\n",
      "[LightGBM] [Warning] bagging_fraction is set=0.268830511669942, subsample=1.0 will be ignored. Current value: bagging_fraction=0.268830511669942\n",
      "[LightGBM] [Warning] Unknown parameter: tree_method\n",
      "[LightGBM] [Warning] lambda_l1 is set=8.551880567150858, reg_alpha=0.0 will be ignored. Current value: lambda_l1=8.551880567150858\n",
      "[LightGBM] [Warning] feature_fraction is set=0.20831606141959985, colsample_bytree=1.0 will be ignored. Current value: feature_fraction=0.20831606141959985\n",
      "[LightGBM] [Warning] lambda_l2 is set=8.403033534081825, reg_lambda=0.0 will be ignored. Current value: lambda_l2=8.403033534081825\n",
      "[LightGBM] [Warning] bagging_fraction is set=0.268830511669942, subsample=1.0 will be ignored. Current value: bagging_fraction=0.268830511669942\n",
      "[LightGBM] [Warning] Unknown parameter: tree_method\n",
      "[LightGBM] [Warning] lambda_l1 is set=8.551880567150858, reg_alpha=0.0 will be ignored. Current value: lambda_l1=8.551880567150858\n",
      "[LightGBM] [Warning] feature_fraction is set=0.20831606141959985, colsample_bytree=1.0 will be ignored. Current value: feature_fraction=0.20831606141959985\n",
      "[LightGBM] [Warning] lambda_l2 is set=8.403033534081825, reg_lambda=0.0 will be ignored. Current value: lambda_l2=8.403033534081825\n",
      "[LightGBM] [Warning] bagging_fraction is set=0.268830511669942, subsample=1.0 will be ignored. Current value: bagging_fraction=0.268830511669942\n"
     ]
    },
    {
     "name": "stderr",
     "output_type": "stream",
     "text": [
      "\u001b[32m[I 2023-02-15 05:27:38,074]\u001b[0m Trial 10 finished with value: 0.8946402351117314 and parameters: {'n_estimators': 9184, 'learning_rate': 0.04295127770504357, 'max_depth': 3, 'lambda_l1': 8.551880567150858, 'lambda_l2': 8.403033534081825, 'num_leaves': 67, 'bagging_fraction': 0.268830511669942, 'feature_fraction': 0.20831606141959985}. Best is trial 9 with value: 0.9004093855164221.\u001b[0m\n"
     ]
    },
    {
     "name": "stdout",
     "output_type": "stream",
     "text": [
      "[LightGBM] [Warning] Unknown parameter: tree_method\n",
      "[LightGBM] [Warning] lambda_l1 is set=0.012846649136128914, reg_alpha=0.0 will be ignored. Current value: lambda_l1=0.012846649136128914\n",
      "[LightGBM] [Warning] feature_fraction is set=0.4962728141688117, colsample_bytree=1.0 will be ignored. Current value: feature_fraction=0.4962728141688117\n",
      "[LightGBM] [Warning] lambda_l2 is set=0.16976262044253493, reg_lambda=0.0 will be ignored. Current value: lambda_l2=0.16976262044253493\n",
      "[LightGBM] [Warning] bagging_fraction is set=0.6545141321633466, subsample=1.0 will be ignored. Current value: bagging_fraction=0.6545141321633466\n",
      "[LightGBM] [Warning] Unknown parameter: tree_method\n",
      "[LightGBM] [Warning] lambda_l1 is set=0.012846649136128914, reg_alpha=0.0 will be ignored. Current value: lambda_l1=0.012846649136128914\n",
      "[LightGBM] [Warning] feature_fraction is set=0.4962728141688117, colsample_bytree=1.0 will be ignored. Current value: feature_fraction=0.4962728141688117\n",
      "[LightGBM] [Warning] lambda_l2 is set=0.16976262044253493, reg_lambda=0.0 will be ignored. Current value: lambda_l2=0.16976262044253493\n",
      "[LightGBM] [Warning] bagging_fraction is set=0.6545141321633466, subsample=1.0 will be ignored. Current value: bagging_fraction=0.6545141321633466\n",
      "[LightGBM] [Warning] Unknown parameter: tree_method\n",
      "[LightGBM] [Warning] lambda_l1 is set=0.012846649136128914, reg_alpha=0.0 will be ignored. Current value: lambda_l1=0.012846649136128914\n",
      "[LightGBM] [Warning] feature_fraction is set=0.4962728141688117, colsample_bytree=1.0 will be ignored. Current value: feature_fraction=0.4962728141688117\n",
      "[LightGBM] [Warning] lambda_l2 is set=0.16976262044253493, reg_lambda=0.0 will be ignored. Current value: lambda_l2=0.16976262044253493\n",
      "[LightGBM] [Warning] bagging_fraction is set=0.6545141321633466, subsample=1.0 will be ignored. Current value: bagging_fraction=0.6545141321633466\n",
      "[LightGBM] [Warning] Unknown parameter: tree_method\n",
      "[LightGBM] [Warning] lambda_l1 is set=0.012846649136128914, reg_alpha=0.0 will be ignored. Current value: lambda_l1=0.012846649136128914\n",
      "[LightGBM] [Warning] feature_fraction is set=0.4962728141688117, colsample_bytree=1.0 will be ignored. Current value: feature_fraction=0.4962728141688117\n",
      "[LightGBM] [Warning] lambda_l2 is set=0.16976262044253493, reg_lambda=0.0 will be ignored. Current value: lambda_l2=0.16976262044253493\n",
      "[LightGBM] [Warning] bagging_fraction is set=0.6545141321633466, subsample=1.0 will be ignored. Current value: bagging_fraction=0.6545141321633466\n",
      "[LightGBM] [Warning] Unknown parameter: tree_method\n",
      "[LightGBM] [Warning] lambda_l1 is set=0.012846649136128914, reg_alpha=0.0 will be ignored. Current value: lambda_l1=0.012846649136128914\n",
      "[LightGBM] [Warning] feature_fraction is set=0.4962728141688117, colsample_bytree=1.0 will be ignored. Current value: feature_fraction=0.4962728141688117\n",
      "[LightGBM] [Warning] lambda_l2 is set=0.16976262044253493, reg_lambda=0.0 will be ignored. Current value: lambda_l2=0.16976262044253493\n",
      "[LightGBM] [Warning] bagging_fraction is set=0.6545141321633466, subsample=1.0 will be ignored. Current value: bagging_fraction=0.6545141321633466\n"
     ]
    },
    {
     "name": "stderr",
     "output_type": "stream",
     "text": [
      "\u001b[32m[I 2023-02-15 05:28:04,908]\u001b[0m Trial 11 finished with value: 0.8988143323522847 and parameters: {'n_estimators': 2533, 'learning_rate': 0.026973690950933108, 'max_depth': 6, 'lambda_l1': 0.012846649136128914, 'lambda_l2': 0.16976262044253493, 'num_leaves': 57, 'bagging_fraction': 0.6545141321633466, 'feature_fraction': 0.4962728141688117}. Best is trial 9 with value: 0.9004093855164221.\u001b[0m\n"
     ]
    },
    {
     "name": "stdout",
     "output_type": "stream",
     "text": [
      "[LightGBM] [Warning] Unknown parameter: tree_method\n",
      "[LightGBM] [Warning] lambda_l1 is set=0.01378703506379495, reg_alpha=0.0 will be ignored. Current value: lambda_l1=0.01378703506379495\n",
      "[LightGBM] [Warning] feature_fraction is set=0.5193480358841259, colsample_bytree=1.0 will be ignored. Current value: feature_fraction=0.5193480358841259\n",
      "[LightGBM] [Warning] lambda_l2 is set=0.3280617752040292, reg_lambda=0.0 will be ignored. Current value: lambda_l2=0.3280617752040292\n",
      "[LightGBM] [Warning] bagging_fraction is set=0.6956636424383477, subsample=1.0 will be ignored. Current value: bagging_fraction=0.6956636424383477\n",
      "[LightGBM] [Warning] Unknown parameter: tree_method\n",
      "[LightGBM] [Warning] lambda_l1 is set=0.01378703506379495, reg_alpha=0.0 will be ignored. Current value: lambda_l1=0.01378703506379495\n",
      "[LightGBM] [Warning] feature_fraction is set=0.5193480358841259, colsample_bytree=1.0 will be ignored. Current value: feature_fraction=0.5193480358841259\n",
      "[LightGBM] [Warning] lambda_l2 is set=0.3280617752040292, reg_lambda=0.0 will be ignored. Current value: lambda_l2=0.3280617752040292\n",
      "[LightGBM] [Warning] bagging_fraction is set=0.6956636424383477, subsample=1.0 will be ignored. Current value: bagging_fraction=0.6956636424383477\n",
      "[LightGBM] [Warning] Unknown parameter: tree_method\n",
      "[LightGBM] [Warning] lambda_l1 is set=0.01378703506379495, reg_alpha=0.0 will be ignored. Current value: lambda_l1=0.01378703506379495\n",
      "[LightGBM] [Warning] feature_fraction is set=0.5193480358841259, colsample_bytree=1.0 will be ignored. Current value: feature_fraction=0.5193480358841259\n",
      "[LightGBM] [Warning] lambda_l2 is set=0.3280617752040292, reg_lambda=0.0 will be ignored. Current value: lambda_l2=0.3280617752040292\n",
      "[LightGBM] [Warning] bagging_fraction is set=0.6956636424383477, subsample=1.0 will be ignored. Current value: bagging_fraction=0.6956636424383477\n",
      "[LightGBM] [Warning] Unknown parameter: tree_method\n",
      "[LightGBM] [Warning] lambda_l1 is set=0.01378703506379495, reg_alpha=0.0 will be ignored. Current value: lambda_l1=0.01378703506379495\n",
      "[LightGBM] [Warning] feature_fraction is set=0.5193480358841259, colsample_bytree=1.0 will be ignored. Current value: feature_fraction=0.5193480358841259\n",
      "[LightGBM] [Warning] lambda_l2 is set=0.3280617752040292, reg_lambda=0.0 will be ignored. Current value: lambda_l2=0.3280617752040292\n",
      "[LightGBM] [Warning] bagging_fraction is set=0.6956636424383477, subsample=1.0 will be ignored. Current value: bagging_fraction=0.6956636424383477\n",
      "[LightGBM] [Warning] Unknown parameter: tree_method\n",
      "[LightGBM] [Warning] lambda_l1 is set=0.01378703506379495, reg_alpha=0.0 will be ignored. Current value: lambda_l1=0.01378703506379495\n",
      "[LightGBM] [Warning] feature_fraction is set=0.5193480358841259, colsample_bytree=1.0 will be ignored. Current value: feature_fraction=0.5193480358841259\n",
      "[LightGBM] [Warning] lambda_l2 is set=0.3280617752040292, reg_lambda=0.0 will be ignored. Current value: lambda_l2=0.3280617752040292\n",
      "[LightGBM] [Warning] bagging_fraction is set=0.6956636424383477, subsample=1.0 will be ignored. Current value: bagging_fraction=0.6956636424383477\n"
     ]
    },
    {
     "name": "stderr",
     "output_type": "stream",
     "text": [
      "\u001b[32m[I 2023-02-15 05:28:07,959]\u001b[0m Trial 12 finished with value: 0.8895138980680322 and parameters: {'n_estimators': 318, 'learning_rate': 0.024085533960571563, 'max_depth': 5, 'lambda_l1': 0.01378703506379495, 'lambda_l2': 0.3280617752040292, 'num_leaves': 57, 'bagging_fraction': 0.6956636424383477, 'feature_fraction': 0.5193480358841259}. Best is trial 9 with value: 0.9004093855164221.\u001b[0m\n"
     ]
    },
    {
     "name": "stdout",
     "output_type": "stream",
     "text": [
      "[LightGBM] [Warning] Unknown parameter: tree_method\n",
      "[LightGBM] [Warning] lambda_l1 is set=0.010641018077380486, reg_alpha=0.0 will be ignored. Current value: lambda_l1=0.010641018077380486\n",
      "[LightGBM] [Warning] feature_fraction is set=0.49506879918275926, colsample_bytree=1.0 will be ignored. Current value: feature_fraction=0.49506879918275926\n",
      "[LightGBM] [Warning] lambda_l2 is set=1.9193187427127016, reg_lambda=0.0 will be ignored. Current value: lambda_l2=1.9193187427127016\n",
      "[LightGBM] [Warning] bagging_fraction is set=0.6875678471919009, subsample=1.0 will be ignored. Current value: bagging_fraction=0.6875678471919009\n",
      "[LightGBM] [Warning] Unknown parameter: tree_method\n",
      "[LightGBM] [Warning] lambda_l1 is set=0.010641018077380486, reg_alpha=0.0 will be ignored. Current value: lambda_l1=0.010641018077380486\n",
      "[LightGBM] [Warning] feature_fraction is set=0.49506879918275926, colsample_bytree=1.0 will be ignored. Current value: feature_fraction=0.49506879918275926\n",
      "[LightGBM] [Warning] lambda_l2 is set=1.9193187427127016, reg_lambda=0.0 will be ignored. Current value: lambda_l2=1.9193187427127016\n",
      "[LightGBM] [Warning] bagging_fraction is set=0.6875678471919009, subsample=1.0 will be ignored. Current value: bagging_fraction=0.6875678471919009\n",
      "[LightGBM] [Warning] Unknown parameter: tree_method\n",
      "[LightGBM] [Warning] lambda_l1 is set=0.010641018077380486, reg_alpha=0.0 will be ignored. Current value: lambda_l1=0.010641018077380486\n",
      "[LightGBM] [Warning] feature_fraction is set=0.49506879918275926, colsample_bytree=1.0 will be ignored. Current value: feature_fraction=0.49506879918275926\n",
      "[LightGBM] [Warning] lambda_l2 is set=1.9193187427127016, reg_lambda=0.0 will be ignored. Current value: lambda_l2=1.9193187427127016\n",
      "[LightGBM] [Warning] bagging_fraction is set=0.6875678471919009, subsample=1.0 will be ignored. Current value: bagging_fraction=0.6875678471919009\n",
      "[LightGBM] [Warning] Unknown parameter: tree_method\n",
      "[LightGBM] [Warning] lambda_l1 is set=0.010641018077380486, reg_alpha=0.0 will be ignored. Current value: lambda_l1=0.010641018077380486\n",
      "[LightGBM] [Warning] feature_fraction is set=0.49506879918275926, colsample_bytree=1.0 will be ignored. Current value: feature_fraction=0.49506879918275926\n",
      "[LightGBM] [Warning] lambda_l2 is set=1.9193187427127016, reg_lambda=0.0 will be ignored. Current value: lambda_l2=1.9193187427127016\n",
      "[LightGBM] [Warning] bagging_fraction is set=0.6875678471919009, subsample=1.0 will be ignored. Current value: bagging_fraction=0.6875678471919009\n",
      "[LightGBM] [Warning] Unknown parameter: tree_method\n",
      "[LightGBM] [Warning] lambda_l1 is set=0.010641018077380486, reg_alpha=0.0 will be ignored. Current value: lambda_l1=0.010641018077380486\n",
      "[LightGBM] [Warning] feature_fraction is set=0.49506879918275926, colsample_bytree=1.0 will be ignored. Current value: feature_fraction=0.49506879918275926\n",
      "[LightGBM] [Warning] lambda_l2 is set=1.9193187427127016, reg_lambda=0.0 will be ignored. Current value: lambda_l2=1.9193187427127016\n",
      "[LightGBM] [Warning] bagging_fraction is set=0.6875678471919009, subsample=1.0 will be ignored. Current value: bagging_fraction=0.6875678471919009\n"
     ]
    },
    {
     "name": "stderr",
     "output_type": "stream",
     "text": [
      "\u001b[32m[I 2023-02-15 05:28:43,628]\u001b[0m Trial 13 finished with value: 0.8953257586203189 and parameters: {'n_estimators': 3059, 'learning_rate': 0.05783517398871936, 'max_depth': 6, 'lambda_l1': 0.010641018077380486, 'lambda_l2': 1.9193187427127016, 'num_leaves': 92, 'bagging_fraction': 0.6875678471919009, 'feature_fraction': 0.49506879918275926}. Best is trial 9 with value: 0.9004093855164221.\u001b[0m\n"
     ]
    },
    {
     "name": "stdout",
     "output_type": "stream",
     "text": [
      "[LightGBM] [Warning] Unknown parameter: tree_method\n",
      "[LightGBM] [Warning] lambda_l1 is set=9.627620320892575, reg_alpha=0.0 will be ignored. Current value: lambda_l1=9.627620320892575\n",
      "[LightGBM] [Warning] feature_fraction is set=0.5652553817287693, colsample_bytree=1.0 will be ignored. Current value: feature_fraction=0.5652553817287693\n",
      "[LightGBM] [Warning] lambda_l2 is set=0.2079074801768107, reg_lambda=0.0 will be ignored. Current value: lambda_l2=0.2079074801768107\n",
      "[LightGBM] [Warning] bagging_fraction is set=0.5971679614786078, subsample=1.0 will be ignored. Current value: bagging_fraction=0.5971679614786078\n",
      "[LightGBM] [Warning] Unknown parameter: tree_method\n",
      "[LightGBM] [Warning] lambda_l1 is set=9.627620320892575, reg_alpha=0.0 will be ignored. Current value: lambda_l1=9.627620320892575\n",
      "[LightGBM] [Warning] feature_fraction is set=0.5652553817287693, colsample_bytree=1.0 will be ignored. Current value: feature_fraction=0.5652553817287693\n",
      "[LightGBM] [Warning] lambda_l2 is set=0.2079074801768107, reg_lambda=0.0 will be ignored. Current value: lambda_l2=0.2079074801768107\n",
      "[LightGBM] [Warning] bagging_fraction is set=0.5971679614786078, subsample=1.0 will be ignored. Current value: bagging_fraction=0.5971679614786078\n",
      "[LightGBM] [Warning] Unknown parameter: tree_method\n",
      "[LightGBM] [Warning] lambda_l1 is set=9.627620320892575, reg_alpha=0.0 will be ignored. Current value: lambda_l1=9.627620320892575\n",
      "[LightGBM] [Warning] feature_fraction is set=0.5652553817287693, colsample_bytree=1.0 will be ignored. Current value: feature_fraction=0.5652553817287693\n",
      "[LightGBM] [Warning] lambda_l2 is set=0.2079074801768107, reg_lambda=0.0 will be ignored. Current value: lambda_l2=0.2079074801768107\n",
      "[LightGBM] [Warning] bagging_fraction is set=0.5971679614786078, subsample=1.0 will be ignored. Current value: bagging_fraction=0.5971679614786078\n",
      "[LightGBM] [Warning] Unknown parameter: tree_method\n",
      "[LightGBM] [Warning] lambda_l1 is set=9.627620320892575, reg_alpha=0.0 will be ignored. Current value: lambda_l1=9.627620320892575\n",
      "[LightGBM] [Warning] feature_fraction is set=0.5652553817287693, colsample_bytree=1.0 will be ignored. Current value: feature_fraction=0.5652553817287693\n",
      "[LightGBM] [Warning] lambda_l2 is set=0.2079074801768107, reg_lambda=0.0 will be ignored. Current value: lambda_l2=0.2079074801768107\n",
      "[LightGBM] [Warning] bagging_fraction is set=0.5971679614786078, subsample=1.0 will be ignored. Current value: bagging_fraction=0.5971679614786078\n",
      "[LightGBM] [Warning] Unknown parameter: tree_method\n",
      "[LightGBM] [Warning] lambda_l1 is set=9.627620320892575, reg_alpha=0.0 will be ignored. Current value: lambda_l1=9.627620320892575\n",
      "[LightGBM] [Warning] feature_fraction is set=0.5652553817287693, colsample_bytree=1.0 will be ignored. Current value: feature_fraction=0.5652553817287693\n",
      "[LightGBM] [Warning] lambda_l2 is set=0.2079074801768107, reg_lambda=0.0 will be ignored. Current value: lambda_l2=0.2079074801768107\n",
      "[LightGBM] [Warning] bagging_fraction is set=0.5971679614786078, subsample=1.0 will be ignored. Current value: bagging_fraction=0.5971679614786078\n"
     ]
    },
    {
     "name": "stderr",
     "output_type": "stream",
     "text": [
      "\u001b[32m[I 2023-02-15 05:29:29,475]\u001b[0m Trial 14 finished with value: 0.8954737572742282 and parameters: {'n_estimators': 9896, 'learning_rate': 0.014059036869355857, 'max_depth': 3, 'lambda_l1': 9.627620320892575, 'lambda_l2': 0.2079074801768107, 'num_leaves': 47, 'bagging_fraction': 0.5971679614786078, 'feature_fraction': 0.5652553817287693}. Best is trial 9 with value: 0.9004093855164221.\u001b[0m\n"
     ]
    },
    {
     "name": "stdout",
     "output_type": "stream",
     "text": [
      "[LightGBM] [Warning] Unknown parameter: tree_method\n",
      "[LightGBM] [Warning] lambda_l1 is set=0.022705292776502906, reg_alpha=0.0 will be ignored. Current value: lambda_l1=0.022705292776502906\n",
      "[LightGBM] [Warning] feature_fraction is set=0.2011139378259144, colsample_bytree=1.0 will be ignored. Current value: feature_fraction=0.2011139378259144\n",
      "[LightGBM] [Warning] lambda_l2 is set=0.5762138271005658, reg_lambda=0.0 will be ignored. Current value: lambda_l2=0.5762138271005658\n",
      "[LightGBM] [Warning] bagging_fraction is set=0.7432345894647586, subsample=1.0 will be ignored. Current value: bagging_fraction=0.7432345894647586\n",
      "[LightGBM] [Warning] Unknown parameter: tree_method\n",
      "[LightGBM] [Warning] lambda_l1 is set=0.022705292776502906, reg_alpha=0.0 will be ignored. Current value: lambda_l1=0.022705292776502906\n",
      "[LightGBM] [Warning] feature_fraction is set=0.2011139378259144, colsample_bytree=1.0 will be ignored. Current value: feature_fraction=0.2011139378259144\n",
      "[LightGBM] [Warning] lambda_l2 is set=0.5762138271005658, reg_lambda=0.0 will be ignored. Current value: lambda_l2=0.5762138271005658\n",
      "[LightGBM] [Warning] bagging_fraction is set=0.7432345894647586, subsample=1.0 will be ignored. Current value: bagging_fraction=0.7432345894647586\n",
      "[LightGBM] [Warning] Unknown parameter: tree_method\n",
      "[LightGBM] [Warning] lambda_l1 is set=0.022705292776502906, reg_alpha=0.0 will be ignored. Current value: lambda_l1=0.022705292776502906\n",
      "[LightGBM] [Warning] feature_fraction is set=0.2011139378259144, colsample_bytree=1.0 will be ignored. Current value: feature_fraction=0.2011139378259144\n",
      "[LightGBM] [Warning] lambda_l2 is set=0.5762138271005658, reg_lambda=0.0 will be ignored. Current value: lambda_l2=0.5762138271005658\n",
      "[LightGBM] [Warning] bagging_fraction is set=0.7432345894647586, subsample=1.0 will be ignored. Current value: bagging_fraction=0.7432345894647586\n",
      "[LightGBM] [Warning] Unknown parameter: tree_method\n",
      "[LightGBM] [Warning] lambda_l1 is set=0.022705292776502906, reg_alpha=0.0 will be ignored. Current value: lambda_l1=0.022705292776502906\n",
      "[LightGBM] [Warning] feature_fraction is set=0.2011139378259144, colsample_bytree=1.0 will be ignored. Current value: feature_fraction=0.2011139378259144\n",
      "[LightGBM] [Warning] lambda_l2 is set=0.5762138271005658, reg_lambda=0.0 will be ignored. Current value: lambda_l2=0.5762138271005658\n",
      "[LightGBM] [Warning] bagging_fraction is set=0.7432345894647586, subsample=1.0 will be ignored. Current value: bagging_fraction=0.7432345894647586\n",
      "[LightGBM] [Warning] Unknown parameter: tree_method\n",
      "[LightGBM] [Warning] lambda_l1 is set=0.022705292776502906, reg_alpha=0.0 will be ignored. Current value: lambda_l1=0.022705292776502906\n",
      "[LightGBM] [Warning] feature_fraction is set=0.2011139378259144, colsample_bytree=1.0 will be ignored. Current value: feature_fraction=0.2011139378259144\n",
      "[LightGBM] [Warning] lambda_l2 is set=0.5762138271005658, reg_lambda=0.0 will be ignored. Current value: lambda_l2=0.5762138271005658\n",
      "[LightGBM] [Warning] bagging_fraction is set=0.7432345894647586, subsample=1.0 will be ignored. Current value: bagging_fraction=0.7432345894647586\n"
     ]
    },
    {
     "name": "stderr",
     "output_type": "stream",
     "text": [
      "\u001b[32m[I 2023-02-15 05:29:43,183]\u001b[0m Trial 15 finished with value: 0.89389811563567 and parameters: {'n_estimators': 1783, 'learning_rate': 0.03552273252513722, 'max_depth': 5, 'lambda_l1': 0.022705292776502906, 'lambda_l2': 0.5762138271005658, 'num_leaves': 75, 'bagging_fraction': 0.7432345894647586, 'feature_fraction': 0.2011139378259144}. Best is trial 9 with value: 0.9004093855164221.\u001b[0m\n"
     ]
    },
    {
     "name": "stdout",
     "output_type": "stream",
     "text": [
      "[LightGBM] [Warning] Unknown parameter: tree_method\n",
      "[LightGBM] [Warning] lambda_l1 is set=0.010609282280372619, reg_alpha=0.0 will be ignored. Current value: lambda_l1=0.010609282280372619\n",
      "[LightGBM] [Warning] feature_fraction is set=0.8547127174965037, colsample_bytree=1.0 will be ignored. Current value: feature_fraction=0.8547127174965037\n",
      "[LightGBM] [Warning] lambda_l2 is set=0.11026493745883226, reg_lambda=0.0 will be ignored. Current value: lambda_l2=0.11026493745883226\n",
      "[LightGBM] [Warning] bagging_fraction is set=0.5953570077226663, subsample=1.0 will be ignored. Current value: bagging_fraction=0.5953570077226663\n",
      "[LightGBM] [Warning] Unknown parameter: tree_method\n",
      "[LightGBM] [Warning] lambda_l1 is set=0.010609282280372619, reg_alpha=0.0 will be ignored. Current value: lambda_l1=0.010609282280372619\n",
      "[LightGBM] [Warning] feature_fraction is set=0.8547127174965037, colsample_bytree=1.0 will be ignored. Current value: feature_fraction=0.8547127174965037\n",
      "[LightGBM] [Warning] lambda_l2 is set=0.11026493745883226, reg_lambda=0.0 will be ignored. Current value: lambda_l2=0.11026493745883226\n",
      "[LightGBM] [Warning] bagging_fraction is set=0.5953570077226663, subsample=1.0 will be ignored. Current value: bagging_fraction=0.5953570077226663\n",
      "[LightGBM] [Warning] Unknown parameter: tree_method\n",
      "[LightGBM] [Warning] lambda_l1 is set=0.010609282280372619, reg_alpha=0.0 will be ignored. Current value: lambda_l1=0.010609282280372619\n",
      "[LightGBM] [Warning] feature_fraction is set=0.8547127174965037, colsample_bytree=1.0 will be ignored. Current value: feature_fraction=0.8547127174965037\n",
      "[LightGBM] [Warning] lambda_l2 is set=0.11026493745883226, reg_lambda=0.0 will be ignored. Current value: lambda_l2=0.11026493745883226\n",
      "[LightGBM] [Warning] bagging_fraction is set=0.5953570077226663, subsample=1.0 will be ignored. Current value: bagging_fraction=0.5953570077226663\n",
      "[LightGBM] [Warning] Unknown parameter: tree_method\n",
      "[LightGBM] [Warning] lambda_l1 is set=0.010609282280372619, reg_alpha=0.0 will be ignored. Current value: lambda_l1=0.010609282280372619\n",
      "[LightGBM] [Warning] feature_fraction is set=0.8547127174965037, colsample_bytree=1.0 will be ignored. Current value: feature_fraction=0.8547127174965037\n",
      "[LightGBM] [Warning] lambda_l2 is set=0.11026493745883226, reg_lambda=0.0 will be ignored. Current value: lambda_l2=0.11026493745883226\n",
      "[LightGBM] [Warning] bagging_fraction is set=0.5953570077226663, subsample=1.0 will be ignored. Current value: bagging_fraction=0.5953570077226663\n",
      "[LightGBM] [Warning] Unknown parameter: tree_method\n",
      "[LightGBM] [Warning] lambda_l1 is set=0.010609282280372619, reg_alpha=0.0 will be ignored. Current value: lambda_l1=0.010609282280372619\n",
      "[LightGBM] [Warning] feature_fraction is set=0.8547127174965037, colsample_bytree=1.0 will be ignored. Current value: feature_fraction=0.8547127174965037\n",
      "[LightGBM] [Warning] lambda_l2 is set=0.11026493745883226, reg_lambda=0.0 will be ignored. Current value: lambda_l2=0.11026493745883226\n",
      "[LightGBM] [Warning] bagging_fraction is set=0.5953570077226663, subsample=1.0 will be ignored. Current value: bagging_fraction=0.5953570077226663\n"
     ]
    },
    {
     "name": "stderr",
     "output_type": "stream",
     "text": [
      "\u001b[32m[I 2023-02-15 05:30:22,393]\u001b[0m Trial 16 finished with value: 0.879655783115088 and parameters: {'n_estimators': 4150, 'learning_rate': 0.0870523351633551, 'max_depth': 6, 'lambda_l1': 0.010609282280372619, 'lambda_l2': 0.11026493745883226, 'num_leaves': 55, 'bagging_fraction': 0.5953570077226663, 'feature_fraction': 0.8547127174965037}. Best is trial 9 with value: 0.9004093855164221.\u001b[0m\n"
     ]
    },
    {
     "name": "stdout",
     "output_type": "stream",
     "text": [
      "[LightGBM] [Warning] Unknown parameter: tree_method\n",
      "[LightGBM] [Warning] lambda_l1 is set=3.32532794226224, reg_alpha=0.0 will be ignored. Current value: lambda_l1=3.32532794226224\n",
      "[LightGBM] [Warning] feature_fraction is set=0.43709060024500823, colsample_bytree=1.0 will be ignored. Current value: feature_fraction=0.43709060024500823\n",
      "[LightGBM] [Warning] lambda_l2 is set=8.962046635660519, reg_lambda=0.0 will be ignored. Current value: lambda_l2=8.962046635660519\n",
      "[LightGBM] [Warning] bagging_fraction is set=0.41457964940935127, subsample=1.0 will be ignored. Current value: bagging_fraction=0.41457964940935127\n",
      "[LightGBM] [Warning] Unknown parameter: tree_method\n",
      "[LightGBM] [Warning] lambda_l1 is set=3.32532794226224, reg_alpha=0.0 will be ignored. Current value: lambda_l1=3.32532794226224\n",
      "[LightGBM] [Warning] feature_fraction is set=0.43709060024500823, colsample_bytree=1.0 will be ignored. Current value: feature_fraction=0.43709060024500823\n",
      "[LightGBM] [Warning] lambda_l2 is set=8.962046635660519, reg_lambda=0.0 will be ignored. Current value: lambda_l2=8.962046635660519\n",
      "[LightGBM] [Warning] bagging_fraction is set=0.41457964940935127, subsample=1.0 will be ignored. Current value: bagging_fraction=0.41457964940935127\n",
      "[LightGBM] [Warning] Unknown parameter: tree_method\n",
      "[LightGBM] [Warning] lambda_l1 is set=3.32532794226224, reg_alpha=0.0 will be ignored. Current value: lambda_l1=3.32532794226224\n",
      "[LightGBM] [Warning] feature_fraction is set=0.43709060024500823, colsample_bytree=1.0 will be ignored. Current value: feature_fraction=0.43709060024500823\n",
      "[LightGBM] [Warning] lambda_l2 is set=8.962046635660519, reg_lambda=0.0 will be ignored. Current value: lambda_l2=8.962046635660519\n",
      "[LightGBM] [Warning] bagging_fraction is set=0.41457964940935127, subsample=1.0 will be ignored. Current value: bagging_fraction=0.41457964940935127\n",
      "[LightGBM] [Warning] Unknown parameter: tree_method\n",
      "[LightGBM] [Warning] lambda_l1 is set=3.32532794226224, reg_alpha=0.0 will be ignored. Current value: lambda_l1=3.32532794226224\n",
      "[LightGBM] [Warning] feature_fraction is set=0.43709060024500823, colsample_bytree=1.0 will be ignored. Current value: feature_fraction=0.43709060024500823\n",
      "[LightGBM] [Warning] lambda_l2 is set=8.962046635660519, reg_lambda=0.0 will be ignored. Current value: lambda_l2=8.962046635660519\n",
      "[LightGBM] [Warning] bagging_fraction is set=0.41457964940935127, subsample=1.0 will be ignored. Current value: bagging_fraction=0.41457964940935127\n",
      "[LightGBM] [Warning] Unknown parameter: tree_method\n",
      "[LightGBM] [Warning] lambda_l1 is set=3.32532794226224, reg_alpha=0.0 will be ignored. Current value: lambda_l1=3.32532794226224\n",
      "[LightGBM] [Warning] feature_fraction is set=0.43709060024500823, colsample_bytree=1.0 will be ignored. Current value: feature_fraction=0.43709060024500823\n",
      "[LightGBM] [Warning] lambda_l2 is set=8.962046635660519, reg_lambda=0.0 will be ignored. Current value: lambda_l2=8.962046635660519\n",
      "[LightGBM] [Warning] bagging_fraction is set=0.41457964940935127, subsample=1.0 will be ignored. Current value: bagging_fraction=0.41457964940935127\n"
     ]
    },
    {
     "name": "stderr",
     "output_type": "stream",
     "text": [
      "\u001b[32m[I 2023-02-15 05:31:10,174]\u001b[0m Trial 17 finished with value: 0.8969500404744416 and parameters: {'n_estimators': 6927, 'learning_rate': 0.007607023078060199, 'max_depth': 4, 'lambda_l1': 3.32532794226224, 'lambda_l2': 8.962046635660519, 'num_leaves': 82, 'bagging_fraction': 0.41457964940935127, 'feature_fraction': 0.43709060024500823}. Best is trial 9 with value: 0.9004093855164221.\u001b[0m\n"
     ]
    },
    {
     "name": "stdout",
     "output_type": "stream",
     "text": [
      "[LightGBM] [Warning] Unknown parameter: tree_method\n",
      "[LightGBM] [Warning] lambda_l1 is set=0.45584145375928, reg_alpha=0.0 will be ignored. Current value: lambda_l1=0.45584145375928\n",
      "[LightGBM] [Warning] feature_fraction is set=0.5975148286282538, colsample_bytree=1.0 will be ignored. Current value: feature_fraction=0.5975148286282538\n",
      "[LightGBM] [Warning] lambda_l2 is set=1.4828770421303648, reg_lambda=0.0 will be ignored. Current value: lambda_l2=1.4828770421303648\n",
      "[LightGBM] [Warning] bagging_fraction is set=0.7542214307958157, subsample=1.0 will be ignored. Current value: bagging_fraction=0.7542214307958157\n",
      "[LightGBM] [Warning] Unknown parameter: tree_method\n",
      "[LightGBM] [Warning] lambda_l1 is set=0.45584145375928, reg_alpha=0.0 will be ignored. Current value: lambda_l1=0.45584145375928\n",
      "[LightGBM] [Warning] feature_fraction is set=0.5975148286282538, colsample_bytree=1.0 will be ignored. Current value: feature_fraction=0.5975148286282538\n",
      "[LightGBM] [Warning] lambda_l2 is set=1.4828770421303648, reg_lambda=0.0 will be ignored. Current value: lambda_l2=1.4828770421303648\n",
      "[LightGBM] [Warning] bagging_fraction is set=0.7542214307958157, subsample=1.0 will be ignored. Current value: bagging_fraction=0.7542214307958157\n",
      "[LightGBM] [Warning] Unknown parameter: tree_method\n",
      "[LightGBM] [Warning] lambda_l1 is set=0.45584145375928, reg_alpha=0.0 will be ignored. Current value: lambda_l1=0.45584145375928\n",
      "[LightGBM] [Warning] feature_fraction is set=0.5975148286282538, colsample_bytree=1.0 will be ignored. Current value: feature_fraction=0.5975148286282538\n",
      "[LightGBM] [Warning] lambda_l2 is set=1.4828770421303648, reg_lambda=0.0 will be ignored. Current value: lambda_l2=1.4828770421303648\n",
      "[LightGBM] [Warning] bagging_fraction is set=0.7542214307958157, subsample=1.0 will be ignored. Current value: bagging_fraction=0.7542214307958157\n",
      "[LightGBM] [Warning] Unknown parameter: tree_method\n",
      "[LightGBM] [Warning] lambda_l1 is set=0.45584145375928, reg_alpha=0.0 will be ignored. Current value: lambda_l1=0.45584145375928\n",
      "[LightGBM] [Warning] feature_fraction is set=0.5975148286282538, colsample_bytree=1.0 will be ignored. Current value: feature_fraction=0.5975148286282538\n",
      "[LightGBM] [Warning] lambda_l2 is set=1.4828770421303648, reg_lambda=0.0 will be ignored. Current value: lambda_l2=1.4828770421303648\n",
      "[LightGBM] [Warning] bagging_fraction is set=0.7542214307958157, subsample=1.0 will be ignored. Current value: bagging_fraction=0.7542214307958157\n",
      "[LightGBM] [Warning] Unknown parameter: tree_method\n",
      "[LightGBM] [Warning] lambda_l1 is set=0.45584145375928, reg_alpha=0.0 will be ignored. Current value: lambda_l1=0.45584145375928\n",
      "[LightGBM] [Warning] feature_fraction is set=0.5975148286282538, colsample_bytree=1.0 will be ignored. Current value: feature_fraction=0.5975148286282538\n",
      "[LightGBM] [Warning] lambda_l2 is set=1.4828770421303648, reg_lambda=0.0 will be ignored. Current value: lambda_l2=1.4828770421303648\n",
      "[LightGBM] [Warning] bagging_fraction is set=0.7542214307958157, subsample=1.0 will be ignored. Current value: bagging_fraction=0.7542214307958157\n"
     ]
    },
    {
     "name": "stderr",
     "output_type": "stream",
     "text": [
      "\u001b[32m[I 2023-02-15 05:32:01,226]\u001b[0m Trial 18 finished with value: 0.8949733330401382 and parameters: {'n_estimators': 4386, 'learning_rate': 0.030775588625469287, 'max_depth': 7, 'lambda_l1': 0.45584145375928, 'lambda_l2': 1.4828770421303648, 'num_leaves': 43, 'bagging_fraction': 0.7542214307958157, 'feature_fraction': 0.5975148286282538}. Best is trial 9 with value: 0.9004093855164221.\u001b[0m\n"
     ]
    },
    {
     "name": "stdout",
     "output_type": "stream",
     "text": [
      "[LightGBM] [Warning] Unknown parameter: tree_method\n",
      "[LightGBM] [Warning] lambda_l1 is set=0.12207981392410137, reg_alpha=0.0 will be ignored. Current value: lambda_l1=0.12207981392410137\n",
      "[LightGBM] [Warning] feature_fraction is set=0.37678525065532725, colsample_bytree=1.0 will be ignored. Current value: feature_fraction=0.37678525065532725\n",
      "[LightGBM] [Warning] lambda_l2 is set=3.6414616590236295, reg_lambda=0.0 will be ignored. Current value: lambda_l2=3.6414616590236295\n",
      "[LightGBM] [Warning] bagging_fraction is set=0.6205386274191405, subsample=1.0 will be ignored. Current value: bagging_fraction=0.6205386274191405\n",
      "[LightGBM] [Warning] Unknown parameter: tree_method\n",
      "[LightGBM] [Warning] lambda_l1 is set=0.12207981392410137, reg_alpha=0.0 will be ignored. Current value: lambda_l1=0.12207981392410137\n",
      "[LightGBM] [Warning] feature_fraction is set=0.37678525065532725, colsample_bytree=1.0 will be ignored. Current value: feature_fraction=0.37678525065532725\n",
      "[LightGBM] [Warning] lambda_l2 is set=3.6414616590236295, reg_lambda=0.0 will be ignored. Current value: lambda_l2=3.6414616590236295\n",
      "[LightGBM] [Warning] bagging_fraction is set=0.6205386274191405, subsample=1.0 will be ignored. Current value: bagging_fraction=0.6205386274191405\n",
      "[LightGBM] [Warning] Unknown parameter: tree_method\n",
      "[LightGBM] [Warning] lambda_l1 is set=0.12207981392410137, reg_alpha=0.0 will be ignored. Current value: lambda_l1=0.12207981392410137\n",
      "[LightGBM] [Warning] feature_fraction is set=0.37678525065532725, colsample_bytree=1.0 will be ignored. Current value: feature_fraction=0.37678525065532725\n",
      "[LightGBM] [Warning] lambda_l2 is set=3.6414616590236295, reg_lambda=0.0 will be ignored. Current value: lambda_l2=3.6414616590236295\n",
      "[LightGBM] [Warning] bagging_fraction is set=0.6205386274191405, subsample=1.0 will be ignored. Current value: bagging_fraction=0.6205386274191405\n",
      "[LightGBM] [Warning] Unknown parameter: tree_method\n",
      "[LightGBM] [Warning] lambda_l1 is set=0.12207981392410137, reg_alpha=0.0 will be ignored. Current value: lambda_l1=0.12207981392410137\n",
      "[LightGBM] [Warning] feature_fraction is set=0.37678525065532725, colsample_bytree=1.0 will be ignored. Current value: feature_fraction=0.37678525065532725\n",
      "[LightGBM] [Warning] lambda_l2 is set=3.6414616590236295, reg_lambda=0.0 will be ignored. Current value: lambda_l2=3.6414616590236295\n",
      "[LightGBM] [Warning] bagging_fraction is set=0.6205386274191405, subsample=1.0 will be ignored. Current value: bagging_fraction=0.6205386274191405\n",
      "[LightGBM] [Warning] Unknown parameter: tree_method\n",
      "[LightGBM] [Warning] lambda_l1 is set=0.12207981392410137, reg_alpha=0.0 will be ignored. Current value: lambda_l1=0.12207981392410137\n",
      "[LightGBM] [Warning] feature_fraction is set=0.37678525065532725, colsample_bytree=1.0 will be ignored. Current value: feature_fraction=0.37678525065532725\n",
      "[LightGBM] [Warning] lambda_l2 is set=3.6414616590236295, reg_lambda=0.0 will be ignored. Current value: lambda_l2=3.6414616590236295\n",
      "[LightGBM] [Warning] bagging_fraction is set=0.6205386274191405, subsample=1.0 will be ignored. Current value: bagging_fraction=0.6205386274191405\n"
     ]
    },
    {
     "name": "stderr",
     "output_type": "stream",
     "text": [
      "\u001b[32m[I 2023-02-15 05:32:31,113]\u001b[0m Trial 19 finished with value: 0.8884795668891645 and parameters: {'n_estimators': 1968, 'learning_rate': 0.12239248286594015, 'max_depth': 10, 'lambda_l1': 0.12207981392410137, 'lambda_l2': 3.6414616590236295, 'num_leaves': 64, 'bagging_fraction': 0.6205386274191405, 'feature_fraction': 0.37678525065532725}. Best is trial 9 with value: 0.9004093855164221.\u001b[0m\n"
     ]
    },
    {
     "name": "stdout",
     "output_type": "stream",
     "text": [
      "[LightGBM] [Warning] Unknown parameter: tree_method\n",
      "[LightGBM] [Warning] lambda_l1 is set=0.2904912556686908, reg_alpha=0.0 will be ignored. Current value: lambda_l1=0.2904912556686908\n",
      "[LightGBM] [Warning] feature_fraction is set=0.4699564699936937, colsample_bytree=1.0 will be ignored. Current value: feature_fraction=0.4699564699936937\n",
      "[LightGBM] [Warning] lambda_l2 is set=0.5831527477144084, reg_lambda=0.0 will be ignored. Current value: lambda_l2=0.5831527477144084\n",
      "[LightGBM] [Warning] bagging_fraction is set=0.549928439058873, subsample=1.0 will be ignored. Current value: bagging_fraction=0.549928439058873\n",
      "[LightGBM] [Warning] Unknown parameter: tree_method\n",
      "[LightGBM] [Warning] lambda_l1 is set=0.2904912556686908, reg_alpha=0.0 will be ignored. Current value: lambda_l1=0.2904912556686908\n",
      "[LightGBM] [Warning] feature_fraction is set=0.4699564699936937, colsample_bytree=1.0 will be ignored. Current value: feature_fraction=0.4699564699936937\n",
      "[LightGBM] [Warning] lambda_l2 is set=0.5831527477144084, reg_lambda=0.0 will be ignored. Current value: lambda_l2=0.5831527477144084\n",
      "[LightGBM] [Warning] bagging_fraction is set=0.549928439058873, subsample=1.0 will be ignored. Current value: bagging_fraction=0.549928439058873\n",
      "[LightGBM] [Warning] Unknown parameter: tree_method\n",
      "[LightGBM] [Warning] lambda_l1 is set=0.2904912556686908, reg_alpha=0.0 will be ignored. Current value: lambda_l1=0.2904912556686908\n",
      "[LightGBM] [Warning] feature_fraction is set=0.4699564699936937, colsample_bytree=1.0 will be ignored. Current value: feature_fraction=0.4699564699936937\n",
      "[LightGBM] [Warning] lambda_l2 is set=0.5831527477144084, reg_lambda=0.0 will be ignored. Current value: lambda_l2=0.5831527477144084\n",
      "[LightGBM] [Warning] bagging_fraction is set=0.549928439058873, subsample=1.0 will be ignored. Current value: bagging_fraction=0.549928439058873\n",
      "[LightGBM] [Warning] Unknown parameter: tree_method\n",
      "[LightGBM] [Warning] lambda_l1 is set=0.2904912556686908, reg_alpha=0.0 will be ignored. Current value: lambda_l1=0.2904912556686908\n",
      "[LightGBM] [Warning] feature_fraction is set=0.4699564699936937, colsample_bytree=1.0 will be ignored. Current value: feature_fraction=0.4699564699936937\n",
      "[LightGBM] [Warning] lambda_l2 is set=0.5831527477144084, reg_lambda=0.0 will be ignored. Current value: lambda_l2=0.5831527477144084\n",
      "[LightGBM] [Warning] bagging_fraction is set=0.549928439058873, subsample=1.0 will be ignored. Current value: bagging_fraction=0.549928439058873\n",
      "[LightGBM] [Warning] Unknown parameter: tree_method\n",
      "[LightGBM] [Warning] lambda_l1 is set=0.2904912556686908, reg_alpha=0.0 will be ignored. Current value: lambda_l1=0.2904912556686908\n",
      "[LightGBM] [Warning] feature_fraction is set=0.4699564699936937, colsample_bytree=1.0 will be ignored. Current value: feature_fraction=0.4699564699936937\n",
      "[LightGBM] [Warning] lambda_l2 is set=0.5831527477144084, reg_lambda=0.0 will be ignored. Current value: lambda_l2=0.5831527477144084\n",
      "[LightGBM] [Warning] bagging_fraction is set=0.549928439058873, subsample=1.0 will be ignored. Current value: bagging_fraction=0.549928439058873\n"
     ]
    },
    {
     "name": "stderr",
     "output_type": "stream",
     "text": [
      "\u001b[32m[I 2023-02-15 05:33:59,780]\u001b[0m Trial 20 finished with value: 0.8971387499151715 and parameters: {'n_estimators': 8249, 'learning_rate': 0.014447104693102862, 'max_depth': 6, 'lambda_l1': 0.2904912556686908, 'lambda_l2': 0.5831527477144084, 'num_leaves': 76, 'bagging_fraction': 0.549928439058873, 'feature_fraction': 0.4699564699936937}. Best is trial 9 with value: 0.9004093855164221.\u001b[0m\n"
     ]
    },
    {
     "name": "stdout",
     "output_type": "stream",
     "text": [
      "[LightGBM] [Warning] Unknown parameter: tree_method\n",
      "[LightGBM] [Warning] lambda_l1 is set=0.052781625327601514, reg_alpha=0.0 will be ignored. Current value: lambda_l1=0.052781625327601514\n",
      "[LightGBM] [Warning] feature_fraction is set=0.26160171265521504, colsample_bytree=1.0 will be ignored. Current value: feature_fraction=0.26160171265521504\n",
      "[LightGBM] [Warning] lambda_l2 is set=0.11700035430130956, reg_lambda=0.0 will be ignored. Current value: lambda_l2=0.11700035430130956\n",
      "[LightGBM] [Warning] bagging_fraction is set=0.503426696623393, subsample=1.0 will be ignored. Current value: bagging_fraction=0.503426696623393\n",
      "[LightGBM] [Warning] Unknown parameter: tree_method\n",
      "[LightGBM] [Warning] lambda_l1 is set=0.052781625327601514, reg_alpha=0.0 will be ignored. Current value: lambda_l1=0.052781625327601514\n",
      "[LightGBM] [Warning] feature_fraction is set=0.26160171265521504, colsample_bytree=1.0 will be ignored. Current value: feature_fraction=0.26160171265521504\n",
      "[LightGBM] [Warning] lambda_l2 is set=0.11700035430130956, reg_lambda=0.0 will be ignored. Current value: lambda_l2=0.11700035430130956\n",
      "[LightGBM] [Warning] bagging_fraction is set=0.503426696623393, subsample=1.0 will be ignored. Current value: bagging_fraction=0.503426696623393\n",
      "[LightGBM] [Warning] Unknown parameter: tree_method\n",
      "[LightGBM] [Warning] lambda_l1 is set=0.052781625327601514, reg_alpha=0.0 will be ignored. Current value: lambda_l1=0.052781625327601514\n",
      "[LightGBM] [Warning] feature_fraction is set=0.26160171265521504, colsample_bytree=1.0 will be ignored. Current value: feature_fraction=0.26160171265521504\n",
      "[LightGBM] [Warning] lambda_l2 is set=0.11700035430130956, reg_lambda=0.0 will be ignored. Current value: lambda_l2=0.11700035430130956\n",
      "[LightGBM] [Warning] bagging_fraction is set=0.503426696623393, subsample=1.0 will be ignored. Current value: bagging_fraction=0.503426696623393\n",
      "[LightGBM] [Warning] Unknown parameter: tree_method\n",
      "[LightGBM] [Warning] lambda_l1 is set=0.052781625327601514, reg_alpha=0.0 will be ignored. Current value: lambda_l1=0.052781625327601514\n",
      "[LightGBM] [Warning] feature_fraction is set=0.26160171265521504, colsample_bytree=1.0 will be ignored. Current value: feature_fraction=0.26160171265521504\n",
      "[LightGBM] [Warning] lambda_l2 is set=0.11700035430130956, reg_lambda=0.0 will be ignored. Current value: lambda_l2=0.11700035430130956\n",
      "[LightGBM] [Warning] bagging_fraction is set=0.503426696623393, subsample=1.0 will be ignored. Current value: bagging_fraction=0.503426696623393\n",
      "[LightGBM] [Warning] Unknown parameter: tree_method\n",
      "[LightGBM] [Warning] lambda_l1 is set=0.052781625327601514, reg_alpha=0.0 will be ignored. Current value: lambda_l1=0.052781625327601514\n",
      "[LightGBM] [Warning] feature_fraction is set=0.26160171265521504, colsample_bytree=1.0 will be ignored. Current value: feature_fraction=0.26160171265521504\n",
      "[LightGBM] [Warning] lambda_l2 is set=0.11700035430130956, reg_lambda=0.0 will be ignored. Current value: lambda_l2=0.11700035430130956\n",
      "[LightGBM] [Warning] bagging_fraction is set=0.503426696623393, subsample=1.0 will be ignored. Current value: bagging_fraction=0.503426696623393\n"
     ]
    },
    {
     "name": "stderr",
     "output_type": "stream",
     "text": [
      "\u001b[32m[I 2023-02-15 05:34:14,305]\u001b[0m Trial 21 finished with value: 0.8932154298289092 and parameters: {'n_estimators': 2591, 'learning_rate': 0.02121472527771325, 'max_depth': 11, 'lambda_l1': 0.052781625327601514, 'lambda_l2': 0.11700035430130956, 'num_leaves': 6, 'bagging_fraction': 0.503426696623393, 'feature_fraction': 0.26160171265521504}. Best is trial 9 with value: 0.9004093855164221.\u001b[0m\n"
     ]
    },
    {
     "name": "stdout",
     "output_type": "stream",
     "text": [
      "[LightGBM] [Warning] Unknown parameter: tree_method\n",
      "[LightGBM] [Warning] lambda_l1 is set=0.07590019645402839, reg_alpha=0.0 will be ignored. Current value: lambda_l1=0.07590019645402839\n",
      "[LightGBM] [Warning] feature_fraction is set=0.4142959358360944, colsample_bytree=1.0 will be ignored. Current value: feature_fraction=0.4142959358360944\n",
      "[LightGBM] [Warning] lambda_l2 is set=0.07612640897818143, reg_lambda=0.0 will be ignored. Current value: lambda_l2=0.07612640897818143\n",
      "[LightGBM] [Warning] bagging_fraction is set=0.6469869084360182, subsample=1.0 will be ignored. Current value: bagging_fraction=0.6469869084360182\n",
      "[LightGBM] [Warning] Unknown parameter: tree_method\n",
      "[LightGBM] [Warning] lambda_l1 is set=0.07590019645402839, reg_alpha=0.0 will be ignored. Current value: lambda_l1=0.07590019645402839\n",
      "[LightGBM] [Warning] feature_fraction is set=0.4142959358360944, colsample_bytree=1.0 will be ignored. Current value: feature_fraction=0.4142959358360944\n",
      "[LightGBM] [Warning] lambda_l2 is set=0.07612640897818143, reg_lambda=0.0 will be ignored. Current value: lambda_l2=0.07612640897818143\n",
      "[LightGBM] [Warning] bagging_fraction is set=0.6469869084360182, subsample=1.0 will be ignored. Current value: bagging_fraction=0.6469869084360182\n",
      "[LightGBM] [Warning] Unknown parameter: tree_method\n",
      "[LightGBM] [Warning] lambda_l1 is set=0.07590019645402839, reg_alpha=0.0 will be ignored. Current value: lambda_l1=0.07590019645402839\n",
      "[LightGBM] [Warning] feature_fraction is set=0.4142959358360944, colsample_bytree=1.0 will be ignored. Current value: feature_fraction=0.4142959358360944\n",
      "[LightGBM] [Warning] lambda_l2 is set=0.07612640897818143, reg_lambda=0.0 will be ignored. Current value: lambda_l2=0.07612640897818143\n",
      "[LightGBM] [Warning] bagging_fraction is set=0.6469869084360182, subsample=1.0 will be ignored. Current value: bagging_fraction=0.6469869084360182\n",
      "[LightGBM] [Warning] Unknown parameter: tree_method\n",
      "[LightGBM] [Warning] lambda_l1 is set=0.07590019645402839, reg_alpha=0.0 will be ignored. Current value: lambda_l1=0.07590019645402839\n",
      "[LightGBM] [Warning] feature_fraction is set=0.4142959358360944, colsample_bytree=1.0 will be ignored. Current value: feature_fraction=0.4142959358360944\n",
      "[LightGBM] [Warning] lambda_l2 is set=0.07612640897818143, reg_lambda=0.0 will be ignored. Current value: lambda_l2=0.07612640897818143\n",
      "[LightGBM] [Warning] bagging_fraction is set=0.6469869084360182, subsample=1.0 will be ignored. Current value: bagging_fraction=0.6469869084360182\n",
      "[LightGBM] [Warning] Unknown parameter: tree_method\n",
      "[LightGBM] [Warning] lambda_l1 is set=0.07590019645402839, reg_alpha=0.0 will be ignored. Current value: lambda_l1=0.07590019645402839\n",
      "[LightGBM] [Warning] feature_fraction is set=0.4142959358360944, colsample_bytree=1.0 will be ignored. Current value: feature_fraction=0.4142959358360944\n",
      "[LightGBM] [Warning] lambda_l2 is set=0.07612640897818143, reg_lambda=0.0 will be ignored. Current value: lambda_l2=0.07612640897818143\n",
      "[LightGBM] [Warning] bagging_fraction is set=0.6469869084360182, subsample=1.0 will be ignored. Current value: bagging_fraction=0.6469869084360182\n"
     ]
    },
    {
     "name": "stderr",
     "output_type": "stream",
     "text": [
      "\u001b[32m[I 2023-02-15 05:35:07,232]\u001b[0m Trial 22 finished with value: 0.8912340663188736 and parameters: {'n_estimators': 4537, 'learning_rate': 0.050712590034798014, 'max_depth': 9, 'lambda_l1': 0.07590019645402839, 'lambda_l2': 0.07612640897818143, 'num_leaves': 36, 'bagging_fraction': 0.6469869084360182, 'feature_fraction': 0.4142959358360944}. Best is trial 9 with value: 0.9004093855164221.\u001b[0m\n"
     ]
    },
    {
     "name": "stdout",
     "output_type": "stream",
     "text": [
      "[LightGBM] [Warning] Unknown parameter: tree_method\n",
      "[LightGBM] [Warning] lambda_l1 is set=0.019372429023403664, reg_alpha=0.0 will be ignored. Current value: lambda_l1=0.019372429023403664\n",
      "[LightGBM] [Warning] feature_fraction is set=0.3622109937637028, colsample_bytree=1.0 will be ignored. Current value: feature_fraction=0.3622109937637028\n",
      "[LightGBM] [Warning] lambda_l2 is set=0.3286837361752886, reg_lambda=0.0 will be ignored. Current value: lambda_l2=0.3286837361752886\n",
      "[LightGBM] [Warning] bagging_fraction is set=0.5459349739709711, subsample=1.0 will be ignored. Current value: bagging_fraction=0.5459349739709711\n",
      "[LightGBM] [Warning] Unknown parameter: tree_method\n",
      "[LightGBM] [Warning] lambda_l1 is set=0.019372429023403664, reg_alpha=0.0 will be ignored. Current value: lambda_l1=0.019372429023403664\n",
      "[LightGBM] [Warning] feature_fraction is set=0.3622109937637028, colsample_bytree=1.0 will be ignored. Current value: feature_fraction=0.3622109937637028\n",
      "[LightGBM] [Warning] lambda_l2 is set=0.3286837361752886, reg_lambda=0.0 will be ignored. Current value: lambda_l2=0.3286837361752886\n",
      "[LightGBM] [Warning] bagging_fraction is set=0.5459349739709711, subsample=1.0 will be ignored. Current value: bagging_fraction=0.5459349739709711\n",
      "[LightGBM] [Warning] Unknown parameter: tree_method\n",
      "[LightGBM] [Warning] lambda_l1 is set=0.019372429023403664, reg_alpha=0.0 will be ignored. Current value: lambda_l1=0.019372429023403664\n",
      "[LightGBM] [Warning] feature_fraction is set=0.3622109937637028, colsample_bytree=1.0 will be ignored. Current value: feature_fraction=0.3622109937637028\n",
      "[LightGBM] [Warning] lambda_l2 is set=0.3286837361752886, reg_lambda=0.0 will be ignored. Current value: lambda_l2=0.3286837361752886\n",
      "[LightGBM] [Warning] bagging_fraction is set=0.5459349739709711, subsample=1.0 will be ignored. Current value: bagging_fraction=0.5459349739709711\n",
      "[LightGBM] [Warning] Unknown parameter: tree_method\n",
      "[LightGBM] [Warning] lambda_l1 is set=0.019372429023403664, reg_alpha=0.0 will be ignored. Current value: lambda_l1=0.019372429023403664\n",
      "[LightGBM] [Warning] feature_fraction is set=0.3622109937637028, colsample_bytree=1.0 will be ignored. Current value: feature_fraction=0.3622109937637028\n",
      "[LightGBM] [Warning] lambda_l2 is set=0.3286837361752886, reg_lambda=0.0 will be ignored. Current value: lambda_l2=0.3286837361752886\n",
      "[LightGBM] [Warning] bagging_fraction is set=0.5459349739709711, subsample=1.0 will be ignored. Current value: bagging_fraction=0.5459349739709711\n",
      "[LightGBM] [Warning] Unknown parameter: tree_method\n",
      "[LightGBM] [Warning] lambda_l1 is set=0.019372429023403664, reg_alpha=0.0 will be ignored. Current value: lambda_l1=0.019372429023403664\n",
      "[LightGBM] [Warning] feature_fraction is set=0.3622109937637028, colsample_bytree=1.0 will be ignored. Current value: feature_fraction=0.3622109937637028\n",
      "[LightGBM] [Warning] lambda_l2 is set=0.3286837361752886, reg_lambda=0.0 will be ignored. Current value: lambda_l2=0.3286837361752886\n",
      "[LightGBM] [Warning] bagging_fraction is set=0.5459349739709711, subsample=1.0 will be ignored. Current value: bagging_fraction=0.5459349739709711\n"
     ]
    },
    {
     "name": "stderr",
     "output_type": "stream",
     "text": [
      "\u001b[32m[I 2023-02-15 05:35:44,150]\u001b[0m Trial 23 finished with value: 0.8992263283874374 and parameters: {'n_estimators': 2616, 'learning_rate': 0.02104766445806309, 'max_depth': 7, 'lambda_l1': 0.019372429023403664, 'lambda_l2': 0.3286837361752886, 'num_leaves': 100, 'bagging_fraction': 0.5459349739709711, 'feature_fraction': 0.3622109937637028}. Best is trial 9 with value: 0.9004093855164221.\u001b[0m\n"
     ]
    },
    {
     "name": "stdout",
     "output_type": "stream",
     "text": [
      "[LightGBM] [Warning] Unknown parameter: tree_method\n",
      "[LightGBM] [Warning] lambda_l1 is set=0.02732984982433951, reg_alpha=0.0 will be ignored. Current value: lambda_l1=0.02732984982433951\n",
      "[LightGBM] [Warning] feature_fraction is set=0.37035968006230763, colsample_bytree=1.0 will be ignored. Current value: feature_fraction=0.37035968006230763\n",
      "[LightGBM] [Warning] lambda_l2 is set=0.2949866043039955, reg_lambda=0.0 will be ignored. Current value: lambda_l2=0.2949866043039955\n",
      "[LightGBM] [Warning] bagging_fraction is set=0.5546572631892964, subsample=1.0 will be ignored. Current value: bagging_fraction=0.5546572631892964\n",
      "[LightGBM] [Warning] Unknown parameter: tree_method\n",
      "[LightGBM] [Warning] lambda_l1 is set=0.02732984982433951, reg_alpha=0.0 will be ignored. Current value: lambda_l1=0.02732984982433951\n",
      "[LightGBM] [Warning] feature_fraction is set=0.37035968006230763, colsample_bytree=1.0 will be ignored. Current value: feature_fraction=0.37035968006230763\n",
      "[LightGBM] [Warning] lambda_l2 is set=0.2949866043039955, reg_lambda=0.0 will be ignored. Current value: lambda_l2=0.2949866043039955\n",
      "[LightGBM] [Warning] bagging_fraction is set=0.5546572631892964, subsample=1.0 will be ignored. Current value: bagging_fraction=0.5546572631892964\n",
      "[LightGBM] [Warning] Unknown parameter: tree_method\n",
      "[LightGBM] [Warning] lambda_l1 is set=0.02732984982433951, reg_alpha=0.0 will be ignored. Current value: lambda_l1=0.02732984982433951\n",
      "[LightGBM] [Warning] feature_fraction is set=0.37035968006230763, colsample_bytree=1.0 will be ignored. Current value: feature_fraction=0.37035968006230763\n",
      "[LightGBM] [Warning] lambda_l2 is set=0.2949866043039955, reg_lambda=0.0 will be ignored. Current value: lambda_l2=0.2949866043039955\n",
      "[LightGBM] [Warning] bagging_fraction is set=0.5546572631892964, subsample=1.0 will be ignored. Current value: bagging_fraction=0.5546572631892964\n",
      "[LightGBM] [Warning] Unknown parameter: tree_method\n",
      "[LightGBM] [Warning] lambda_l1 is set=0.02732984982433951, reg_alpha=0.0 will be ignored. Current value: lambda_l1=0.02732984982433951\n",
      "[LightGBM] [Warning] feature_fraction is set=0.37035968006230763, colsample_bytree=1.0 will be ignored. Current value: feature_fraction=0.37035968006230763\n",
      "[LightGBM] [Warning] lambda_l2 is set=0.2949866043039955, reg_lambda=0.0 will be ignored. Current value: lambda_l2=0.2949866043039955\n",
      "[LightGBM] [Warning] bagging_fraction is set=0.5546572631892964, subsample=1.0 will be ignored. Current value: bagging_fraction=0.5546572631892964\n",
      "[LightGBM] [Warning] Unknown parameter: tree_method\n",
      "[LightGBM] [Warning] lambda_l1 is set=0.02732984982433951, reg_alpha=0.0 will be ignored. Current value: lambda_l1=0.02732984982433951\n",
      "[LightGBM] [Warning] feature_fraction is set=0.37035968006230763, colsample_bytree=1.0 will be ignored. Current value: feature_fraction=0.37035968006230763\n",
      "[LightGBM] [Warning] lambda_l2 is set=0.2949866043039955, reg_lambda=0.0 will be ignored. Current value: lambda_l2=0.2949866043039955\n",
      "[LightGBM] [Warning] bagging_fraction is set=0.5546572631892964, subsample=1.0 will be ignored. Current value: bagging_fraction=0.5546572631892964\n"
     ]
    },
    {
     "name": "stderr",
     "output_type": "stream",
     "text": [
      "\u001b[32m[I 2023-02-15 05:36:09,767]\u001b[0m Trial 24 finished with value: 0.8963587389582222 and parameters: {'n_estimators': 1796, 'learning_rate': 0.04907217514435997, 'max_depth': 7, 'lambda_l1': 0.02732984982433951, 'lambda_l2': 0.2949866043039955, 'num_leaves': 94, 'bagging_fraction': 0.5546572631892964, 'feature_fraction': 0.37035968006230763}. Best is trial 9 with value: 0.9004093855164221.\u001b[0m\n"
     ]
    },
    {
     "name": "stdout",
     "output_type": "stream",
     "text": [
      "[LightGBM] [Warning] Unknown parameter: tree_method\n",
      "[LightGBM] [Warning] lambda_l1 is set=0.019616562649510238, reg_alpha=0.0 will be ignored. Current value: lambda_l1=0.019616562649510238\n",
      "[LightGBM] [Warning] feature_fraction is set=0.45015477300715184, colsample_bytree=1.0 will be ignored. Current value: feature_fraction=0.45015477300715184\n",
      "[LightGBM] [Warning] lambda_l2 is set=0.9071304852750205, reg_lambda=0.0 will be ignored. Current value: lambda_l2=0.9071304852750205\n",
      "[LightGBM] [Warning] bagging_fraction is set=0.6916864599479388, subsample=1.0 will be ignored. Current value: bagging_fraction=0.6916864599479388\n",
      "[LightGBM] [Warning] Unknown parameter: tree_method\n",
      "[LightGBM] [Warning] lambda_l1 is set=0.019616562649510238, reg_alpha=0.0 will be ignored. Current value: lambda_l1=0.019616562649510238\n",
      "[LightGBM] [Warning] feature_fraction is set=0.45015477300715184, colsample_bytree=1.0 will be ignored. Current value: feature_fraction=0.45015477300715184\n",
      "[LightGBM] [Warning] lambda_l2 is set=0.9071304852750205, reg_lambda=0.0 will be ignored. Current value: lambda_l2=0.9071304852750205\n",
      "[LightGBM] [Warning] bagging_fraction is set=0.6916864599479388, subsample=1.0 will be ignored. Current value: bagging_fraction=0.6916864599479388\n",
      "[LightGBM] [Warning] Unknown parameter: tree_method\n",
      "[LightGBM] [Warning] lambda_l1 is set=0.019616562649510238, reg_alpha=0.0 will be ignored. Current value: lambda_l1=0.019616562649510238\n",
      "[LightGBM] [Warning] feature_fraction is set=0.45015477300715184, colsample_bytree=1.0 will be ignored. Current value: feature_fraction=0.45015477300715184\n",
      "[LightGBM] [Warning] lambda_l2 is set=0.9071304852750205, reg_lambda=0.0 will be ignored. Current value: lambda_l2=0.9071304852750205\n",
      "[LightGBM] [Warning] bagging_fraction is set=0.6916864599479388, subsample=1.0 will be ignored. Current value: bagging_fraction=0.6916864599479388\n",
      "[LightGBM] [Warning] Unknown parameter: tree_method\n",
      "[LightGBM] [Warning] lambda_l1 is set=0.019616562649510238, reg_alpha=0.0 will be ignored. Current value: lambda_l1=0.019616562649510238\n",
      "[LightGBM] [Warning] feature_fraction is set=0.45015477300715184, colsample_bytree=1.0 will be ignored. Current value: feature_fraction=0.45015477300715184\n",
      "[LightGBM] [Warning] lambda_l2 is set=0.9071304852750205, reg_lambda=0.0 will be ignored. Current value: lambda_l2=0.9071304852750205\n",
      "[LightGBM] [Warning] bagging_fraction is set=0.6916864599479388, subsample=1.0 will be ignored. Current value: bagging_fraction=0.6916864599479388\n",
      "[LightGBM] [Warning] Unknown parameter: tree_method\n",
      "[LightGBM] [Warning] lambda_l1 is set=0.019616562649510238, reg_alpha=0.0 will be ignored. Current value: lambda_l1=0.019616562649510238\n",
      "[LightGBM] [Warning] feature_fraction is set=0.45015477300715184, colsample_bytree=1.0 will be ignored. Current value: feature_fraction=0.45015477300715184\n",
      "[LightGBM] [Warning] lambda_l2 is set=0.9071304852750205, reg_lambda=0.0 will be ignored. Current value: lambda_l2=0.9071304852750205\n",
      "[LightGBM] [Warning] bagging_fraction is set=0.6916864599479388, subsample=1.0 will be ignored. Current value: bagging_fraction=0.6916864599479388\n"
     ]
    },
    {
     "name": "stderr",
     "output_type": "stream",
     "text": [
      "\u001b[32m[I 2023-02-15 05:36:55,541]\u001b[0m Trial 25 finished with value: 0.894993631138805 and parameters: {'n_estimators': 6546, 'learning_rate': 0.004337527614758143, 'max_depth': 4, 'lambda_l1': 0.019616562649510238, 'lambda_l2': 0.9071304852750205, 'num_leaves': 97, 'bagging_fraction': 0.6916864599479388, 'feature_fraction': 0.45015477300715184}. Best is trial 9 with value: 0.9004093855164221.\u001b[0m\n"
     ]
    },
    {
     "name": "stdout",
     "output_type": "stream",
     "text": [
      "[LightGBM] [Warning] Unknown parameter: tree_method\n",
      "[LightGBM] [Warning] lambda_l1 is set=0.021162665170399622, reg_alpha=0.0 will be ignored. Current value: lambda_l1=0.021162665170399622\n",
      "[LightGBM] [Warning] feature_fraction is set=0.3527470966108979, colsample_bytree=1.0 will be ignored. Current value: feature_fraction=0.3527470966108979\n",
      "[LightGBM] [Warning] lambda_l2 is set=0.4317468793779342, reg_lambda=0.0 will be ignored. Current value: lambda_l2=0.4317468793779342\n",
      "[LightGBM] [Warning] bagging_fraction is set=0.6383251705607326, subsample=1.0 will be ignored. Current value: bagging_fraction=0.6383251705607326\n",
      "[LightGBM] [Warning] Unknown parameter: tree_method\n",
      "[LightGBM] [Warning] lambda_l1 is set=0.021162665170399622, reg_alpha=0.0 will be ignored. Current value: lambda_l1=0.021162665170399622\n",
      "[LightGBM] [Warning] feature_fraction is set=0.3527470966108979, colsample_bytree=1.0 will be ignored. Current value: feature_fraction=0.3527470966108979\n",
      "[LightGBM] [Warning] lambda_l2 is set=0.4317468793779342, reg_lambda=0.0 will be ignored. Current value: lambda_l2=0.4317468793779342\n",
      "[LightGBM] [Warning] bagging_fraction is set=0.6383251705607326, subsample=1.0 will be ignored. Current value: bagging_fraction=0.6383251705607326\n",
      "[LightGBM] [Warning] Unknown parameter: tree_method\n",
      "[LightGBM] [Warning] lambda_l1 is set=0.021162665170399622, reg_alpha=0.0 will be ignored. Current value: lambda_l1=0.021162665170399622\n",
      "[LightGBM] [Warning] feature_fraction is set=0.3527470966108979, colsample_bytree=1.0 will be ignored. Current value: feature_fraction=0.3527470966108979\n",
      "[LightGBM] [Warning] lambda_l2 is set=0.4317468793779342, reg_lambda=0.0 will be ignored. Current value: lambda_l2=0.4317468793779342\n",
      "[LightGBM] [Warning] bagging_fraction is set=0.6383251705607326, subsample=1.0 will be ignored. Current value: bagging_fraction=0.6383251705607326\n",
      "[LightGBM] [Warning] Unknown parameter: tree_method\n",
      "[LightGBM] [Warning] lambda_l1 is set=0.021162665170399622, reg_alpha=0.0 will be ignored. Current value: lambda_l1=0.021162665170399622\n",
      "[LightGBM] [Warning] feature_fraction is set=0.3527470966108979, colsample_bytree=1.0 will be ignored. Current value: feature_fraction=0.3527470966108979\n",
      "[LightGBM] [Warning] lambda_l2 is set=0.4317468793779342, reg_lambda=0.0 will be ignored. Current value: lambda_l2=0.4317468793779342\n",
      "[LightGBM] [Warning] bagging_fraction is set=0.6383251705607326, subsample=1.0 will be ignored. Current value: bagging_fraction=0.6383251705607326\n",
      "[LightGBM] [Warning] Unknown parameter: tree_method\n",
      "[LightGBM] [Warning] lambda_l1 is set=0.021162665170399622, reg_alpha=0.0 will be ignored. Current value: lambda_l1=0.021162665170399622\n",
      "[LightGBM] [Warning] feature_fraction is set=0.3527470966108979, colsample_bytree=1.0 will be ignored. Current value: feature_fraction=0.3527470966108979\n",
      "[LightGBM] [Warning] lambda_l2 is set=0.4317468793779342, reg_lambda=0.0 will be ignored. Current value: lambda_l2=0.4317468793779342\n",
      "[LightGBM] [Warning] bagging_fraction is set=0.6383251705607326, subsample=1.0 will be ignored. Current value: bagging_fraction=0.6383251705607326\n"
     ]
    },
    {
     "name": "stderr",
     "output_type": "stream",
     "text": [
      "\u001b[32m[I 2023-02-15 05:37:01,664]\u001b[0m Trial 26 finished with value: 0.8870280984604332 and parameters: {'n_estimators': 517, 'learning_rate': 0.014952681310042305, 'max_depth': 6, 'lambda_l1': 0.021162665170399622, 'lambda_l2': 0.4317468793779342, 'num_leaves': 59, 'bagging_fraction': 0.6383251705607326, 'feature_fraction': 0.3527470966108979}. Best is trial 9 with value: 0.9004093855164221.\u001b[0m\n"
     ]
    },
    {
     "name": "stdout",
     "output_type": "stream",
     "text": [
      "[LightGBM] [Warning] Unknown parameter: tree_method\n",
      "[LightGBM] [Warning] lambda_l1 is set=0.04130907662546572, reg_alpha=0.0 will be ignored. Current value: lambda_l1=0.04130907662546572\n",
      "[LightGBM] [Warning] feature_fraction is set=0.263881688775358, colsample_bytree=1.0 will be ignored. Current value: feature_fraction=0.263881688775358\n",
      "[LightGBM] [Warning] lambda_l2 is set=1.0014613926023916, reg_lambda=0.0 will be ignored. Current value: lambda_l2=1.0014613926023916\n",
      "[LightGBM] [Warning] bagging_fraction is set=0.40005724303424767, subsample=1.0 will be ignored. Current value: bagging_fraction=0.40005724303424767\n",
      "[LightGBM] [Warning] Unknown parameter: tree_method\n",
      "[LightGBM] [Warning] lambda_l1 is set=0.04130907662546572, reg_alpha=0.0 will be ignored. Current value: lambda_l1=0.04130907662546572\n",
      "[LightGBM] [Warning] feature_fraction is set=0.263881688775358, colsample_bytree=1.0 will be ignored. Current value: feature_fraction=0.263881688775358\n",
      "[LightGBM] [Warning] lambda_l2 is set=1.0014613926023916, reg_lambda=0.0 will be ignored. Current value: lambda_l2=1.0014613926023916\n",
      "[LightGBM] [Warning] bagging_fraction is set=0.40005724303424767, subsample=1.0 will be ignored. Current value: bagging_fraction=0.40005724303424767\n",
      "[LightGBM] [Warning] Unknown parameter: tree_method\n",
      "[LightGBM] [Warning] lambda_l1 is set=0.04130907662546572, reg_alpha=0.0 will be ignored. Current value: lambda_l1=0.04130907662546572\n",
      "[LightGBM] [Warning] feature_fraction is set=0.263881688775358, colsample_bytree=1.0 will be ignored. Current value: feature_fraction=0.263881688775358\n",
      "[LightGBM] [Warning] lambda_l2 is set=1.0014613926023916, reg_lambda=0.0 will be ignored. Current value: lambda_l2=1.0014613926023916\n",
      "[LightGBM] [Warning] bagging_fraction is set=0.40005724303424767, subsample=1.0 will be ignored. Current value: bagging_fraction=0.40005724303424767\n",
      "[LightGBM] [Warning] Unknown parameter: tree_method\n",
      "[LightGBM] [Warning] lambda_l1 is set=0.04130907662546572, reg_alpha=0.0 will be ignored. Current value: lambda_l1=0.04130907662546572\n",
      "[LightGBM] [Warning] feature_fraction is set=0.263881688775358, colsample_bytree=1.0 will be ignored. Current value: feature_fraction=0.263881688775358\n",
      "[LightGBM] [Warning] lambda_l2 is set=1.0014613926023916, reg_lambda=0.0 will be ignored. Current value: lambda_l2=1.0014613926023916\n",
      "[LightGBM] [Warning] bagging_fraction is set=0.40005724303424767, subsample=1.0 will be ignored. Current value: bagging_fraction=0.40005724303424767\n",
      "[LightGBM] [Warning] Unknown parameter: tree_method\n",
      "[LightGBM] [Warning] lambda_l1 is set=0.04130907662546572, reg_alpha=0.0 will be ignored. Current value: lambda_l1=0.04130907662546572\n",
      "[LightGBM] [Warning] feature_fraction is set=0.263881688775358, colsample_bytree=1.0 will be ignored. Current value: feature_fraction=0.263881688775358\n",
      "[LightGBM] [Warning] lambda_l2 is set=1.0014613926023916, reg_lambda=0.0 will be ignored. Current value: lambda_l2=1.0014613926023916\n",
      "[LightGBM] [Warning] bagging_fraction is set=0.40005724303424767, subsample=1.0 will be ignored. Current value: bagging_fraction=0.40005724303424767\n"
     ]
    },
    {
     "name": "stderr",
     "output_type": "stream",
     "text": [
      "\u001b[32m[I 2023-02-15 05:37:56,011]\u001b[0m Trial 27 finished with value: 0.896260687612914 and parameters: {'n_estimators': 3611, 'learning_rate': 0.028647812456863056, 'max_depth': 8, 'lambda_l1': 0.04130907662546572, 'lambda_l2': 1.0014613926023916, 'num_leaves': 76, 'bagging_fraction': 0.40005724303424767, 'feature_fraction': 0.263881688775358}. Best is trial 9 with value: 0.9004093855164221.\u001b[0m\n"
     ]
    },
    {
     "name": "stdout",
     "output_type": "stream",
     "text": [
      "[LightGBM] [Warning] Unknown parameter: tree_method\n",
      "[LightGBM] [Warning] lambda_l1 is set=0.01738197825053007, reg_alpha=0.0 will be ignored. Current value: lambda_l1=0.01738197825053007\n",
      "[LightGBM] [Warning] feature_fraction is set=0.40078815766818116, colsample_bytree=1.0 will be ignored. Current value: feature_fraction=0.40078815766818116\n",
      "[LightGBM] [Warning] lambda_l2 is set=4.3720356326102845, reg_lambda=0.0 will be ignored. Current value: lambda_l2=4.3720356326102845\n",
      "[LightGBM] [Warning] bagging_fraction is set=0.5694899140134363, subsample=1.0 will be ignored. Current value: bagging_fraction=0.5694899140134363\n",
      "[LightGBM] [Warning] Unknown parameter: tree_method\n",
      "[LightGBM] [Warning] lambda_l1 is set=0.01738197825053007, reg_alpha=0.0 will be ignored. Current value: lambda_l1=0.01738197825053007\n",
      "[LightGBM] [Warning] feature_fraction is set=0.40078815766818116, colsample_bytree=1.0 will be ignored. Current value: feature_fraction=0.40078815766818116\n",
      "[LightGBM] [Warning] lambda_l2 is set=4.3720356326102845, reg_lambda=0.0 will be ignored. Current value: lambda_l2=4.3720356326102845\n",
      "[LightGBM] [Warning] bagging_fraction is set=0.5694899140134363, subsample=1.0 will be ignored. Current value: bagging_fraction=0.5694899140134363\n",
      "[LightGBM] [Warning] Unknown parameter: tree_method\n",
      "[LightGBM] [Warning] lambda_l1 is set=0.01738197825053007, reg_alpha=0.0 will be ignored. Current value: lambda_l1=0.01738197825053007\n",
      "[LightGBM] [Warning] feature_fraction is set=0.40078815766818116, colsample_bytree=1.0 will be ignored. Current value: feature_fraction=0.40078815766818116\n",
      "[LightGBM] [Warning] lambda_l2 is set=4.3720356326102845, reg_lambda=0.0 will be ignored. Current value: lambda_l2=4.3720356326102845\n",
      "[LightGBM] [Warning] bagging_fraction is set=0.5694899140134363, subsample=1.0 will be ignored. Current value: bagging_fraction=0.5694899140134363\n",
      "[LightGBM] [Warning] Unknown parameter: tree_method\n",
      "[LightGBM] [Warning] lambda_l1 is set=0.01738197825053007, reg_alpha=0.0 will be ignored. Current value: lambda_l1=0.01738197825053007\n",
      "[LightGBM] [Warning] feature_fraction is set=0.40078815766818116, colsample_bytree=1.0 will be ignored. Current value: feature_fraction=0.40078815766818116\n",
      "[LightGBM] [Warning] lambda_l2 is set=4.3720356326102845, reg_lambda=0.0 will be ignored. Current value: lambda_l2=4.3720356326102845\n",
      "[LightGBM] [Warning] bagging_fraction is set=0.5694899140134363, subsample=1.0 will be ignored. Current value: bagging_fraction=0.5694899140134363\n",
      "[LightGBM] [Warning] Unknown parameter: tree_method\n",
      "[LightGBM] [Warning] lambda_l1 is set=0.01738197825053007, reg_alpha=0.0 will be ignored. Current value: lambda_l1=0.01738197825053007\n",
      "[LightGBM] [Warning] feature_fraction is set=0.40078815766818116, colsample_bytree=1.0 will be ignored. Current value: feature_fraction=0.40078815766818116\n",
      "[LightGBM] [Warning] lambda_l2 is set=4.3720356326102845, reg_lambda=0.0 will be ignored. Current value: lambda_l2=4.3720356326102845\n",
      "[LightGBM] [Warning] bagging_fraction is set=0.5694899140134363, subsample=1.0 will be ignored. Current value: bagging_fraction=0.5694899140134363\n"
     ]
    },
    {
     "name": "stderr",
     "output_type": "stream",
     "text": [
      "\u001b[32m[I 2023-02-15 05:38:11,613]\u001b[0m Trial 28 finished with value: 0.8996443735949768 and parameters: {'n_estimators': 2337, 'learning_rate': 0.07472980180414668, 'max_depth': 4, 'lambda_l1': 0.01738197825053007, 'lambda_l2': 4.3720356326102845, 'num_leaves': 40, 'bagging_fraction': 0.5694899140134363, 'feature_fraction': 0.40078815766818116}. Best is trial 9 with value: 0.9004093855164221.\u001b[0m\n"
     ]
    },
    {
     "name": "stdout",
     "output_type": "stream",
     "text": [
      "[LightGBM] [Warning] Unknown parameter: tree_method\n",
      "[LightGBM] [Warning] lambda_l1 is set=0.032856665436421406, reg_alpha=0.0 will be ignored. Current value: lambda_l1=0.032856665436421406\n",
      "[LightGBM] [Warning] feature_fraction is set=0.37290969660843365, colsample_bytree=1.0 will be ignored. Current value: feature_fraction=0.37290969660843365\n",
      "[LightGBM] [Warning] lambda_l2 is set=3.933870013173166, reg_lambda=0.0 will be ignored. Current value: lambda_l2=3.933870013173166\n",
      "[LightGBM] [Warning] bagging_fraction is set=0.5469098059779328, subsample=1.0 will be ignored. Current value: bagging_fraction=0.5469098059779328\n",
      "[LightGBM] [Warning] Unknown parameter: tree_method\n",
      "[LightGBM] [Warning] lambda_l1 is set=0.032856665436421406, reg_alpha=0.0 will be ignored. Current value: lambda_l1=0.032856665436421406\n",
      "[LightGBM] [Warning] feature_fraction is set=0.37290969660843365, colsample_bytree=1.0 will be ignored. Current value: feature_fraction=0.37290969660843365\n",
      "[LightGBM] [Warning] lambda_l2 is set=3.933870013173166, reg_lambda=0.0 will be ignored. Current value: lambda_l2=3.933870013173166\n",
      "[LightGBM] [Warning] bagging_fraction is set=0.5469098059779328, subsample=1.0 will be ignored. Current value: bagging_fraction=0.5469098059779328\n",
      "[LightGBM] [Warning] Unknown parameter: tree_method\n",
      "[LightGBM] [Warning] lambda_l1 is set=0.032856665436421406, reg_alpha=0.0 will be ignored. Current value: lambda_l1=0.032856665436421406\n",
      "[LightGBM] [Warning] feature_fraction is set=0.37290969660843365, colsample_bytree=1.0 will be ignored. Current value: feature_fraction=0.37290969660843365\n",
      "[LightGBM] [Warning] lambda_l2 is set=3.933870013173166, reg_lambda=0.0 will be ignored. Current value: lambda_l2=3.933870013173166\n",
      "[LightGBM] [Warning] bagging_fraction is set=0.5469098059779328, subsample=1.0 will be ignored. Current value: bagging_fraction=0.5469098059779328\n",
      "[LightGBM] [Warning] Unknown parameter: tree_method\n",
      "[LightGBM] [Warning] lambda_l1 is set=0.032856665436421406, reg_alpha=0.0 will be ignored. Current value: lambda_l1=0.032856665436421406\n",
      "[LightGBM] [Warning] feature_fraction is set=0.37290969660843365, colsample_bytree=1.0 will be ignored. Current value: feature_fraction=0.37290969660843365\n",
      "[LightGBM] [Warning] lambda_l2 is set=3.933870013173166, reg_lambda=0.0 will be ignored. Current value: lambda_l2=3.933870013173166\n",
      "[LightGBM] [Warning] bagging_fraction is set=0.5469098059779328, subsample=1.0 will be ignored. Current value: bagging_fraction=0.5469098059779328\n",
      "[LightGBM] [Warning] Unknown parameter: tree_method\n",
      "[LightGBM] [Warning] lambda_l1 is set=0.032856665436421406, reg_alpha=0.0 will be ignored. Current value: lambda_l1=0.032856665436421406\n",
      "[LightGBM] [Warning] feature_fraction is set=0.37290969660843365, colsample_bytree=1.0 will be ignored. Current value: feature_fraction=0.37290969660843365\n",
      "[LightGBM] [Warning] lambda_l2 is set=3.933870013173166, reg_lambda=0.0 will be ignored. Current value: lambda_l2=3.933870013173166\n",
      "[LightGBM] [Warning] bagging_fraction is set=0.5469098059779328, subsample=1.0 will be ignored. Current value: bagging_fraction=0.5469098059779328\n"
     ]
    },
    {
     "name": "stderr",
     "output_type": "stream",
     "text": [
      "\u001b[32m[I 2023-02-15 05:38:19,953]\u001b[0m Trial 29 finished with value: 0.8988999916976222 and parameters: {'n_estimators': 1131, 'learning_rate': 0.07224252822082672, 'max_depth': 4, 'lambda_l1': 0.032856665436421406, 'lambda_l2': 3.933870013173166, 'num_leaves': 39, 'bagging_fraction': 0.5469098059779328, 'feature_fraction': 0.37290969660843365}. Best is trial 9 with value: 0.9004093855164221.\u001b[0m\n"
     ]
    },
    {
     "name": "stdout",
     "output_type": "stream",
     "text": [
      "[LightGBM] [Warning] Unknown parameter: tree_method\n",
      "[LightGBM] [Warning] lambda_l1 is set=0.0496710182233287, reg_alpha=0.0 will be ignored. Current value: lambda_l1=0.0496710182233287\n",
      "[LightGBM] [Warning] feature_fraction is set=0.4116253346284611, colsample_bytree=1.0 will be ignored. Current value: feature_fraction=0.4116253346284611\n",
      "[LightGBM] [Warning] lambda_l2 is set=4.321656147736103, reg_lambda=0.0 will be ignored. Current value: lambda_l2=4.321656147736103\n",
      "[LightGBM] [Warning] bagging_fraction is set=0.4794792477315061, subsample=1.0 will be ignored. Current value: bagging_fraction=0.4794792477315061\n",
      "[LightGBM] [Warning] Unknown parameter: tree_method\n",
      "[LightGBM] [Warning] lambda_l1 is set=0.0496710182233287, reg_alpha=0.0 will be ignored. Current value: lambda_l1=0.0496710182233287\n",
      "[LightGBM] [Warning] feature_fraction is set=0.4116253346284611, colsample_bytree=1.0 will be ignored. Current value: feature_fraction=0.4116253346284611\n",
      "[LightGBM] [Warning] lambda_l2 is set=4.321656147736103, reg_lambda=0.0 will be ignored. Current value: lambda_l2=4.321656147736103\n",
      "[LightGBM] [Warning] bagging_fraction is set=0.4794792477315061, subsample=1.0 will be ignored. Current value: bagging_fraction=0.4794792477315061\n",
      "[LightGBM] [Warning] Unknown parameter: tree_method\n",
      "[LightGBM] [Warning] lambda_l1 is set=0.0496710182233287, reg_alpha=0.0 will be ignored. Current value: lambda_l1=0.0496710182233287\n",
      "[LightGBM] [Warning] feature_fraction is set=0.4116253346284611, colsample_bytree=1.0 will be ignored. Current value: feature_fraction=0.4116253346284611\n",
      "[LightGBM] [Warning] lambda_l2 is set=4.321656147736103, reg_lambda=0.0 will be ignored. Current value: lambda_l2=4.321656147736103\n",
      "[LightGBM] [Warning] bagging_fraction is set=0.4794792477315061, subsample=1.0 will be ignored. Current value: bagging_fraction=0.4794792477315061\n",
      "[LightGBM] [Warning] Unknown parameter: tree_method\n",
      "[LightGBM] [Warning] lambda_l1 is set=0.0496710182233287, reg_alpha=0.0 will be ignored. Current value: lambda_l1=0.0496710182233287\n",
      "[LightGBM] [Warning] feature_fraction is set=0.4116253346284611, colsample_bytree=1.0 will be ignored. Current value: feature_fraction=0.4116253346284611\n",
      "[LightGBM] [Warning] lambda_l2 is set=4.321656147736103, reg_lambda=0.0 will be ignored. Current value: lambda_l2=4.321656147736103\n",
      "[LightGBM] [Warning] bagging_fraction is set=0.4794792477315061, subsample=1.0 will be ignored. Current value: bagging_fraction=0.4794792477315061\n",
      "[LightGBM] [Warning] Unknown parameter: tree_method\n",
      "[LightGBM] [Warning] lambda_l1 is set=0.0496710182233287, reg_alpha=0.0 will be ignored. Current value: lambda_l1=0.0496710182233287\n",
      "[LightGBM] [Warning] feature_fraction is set=0.4116253346284611, colsample_bytree=1.0 will be ignored. Current value: feature_fraction=0.4116253346284611\n",
      "[LightGBM] [Warning] lambda_l2 is set=4.321656147736103, reg_lambda=0.0 will be ignored. Current value: lambda_l2=4.321656147736103\n",
      "[LightGBM] [Warning] bagging_fraction is set=0.4794792477315061, subsample=1.0 will be ignored. Current value: bagging_fraction=0.4794792477315061\n"
     ]
    },
    {
     "name": "stderr",
     "output_type": "stream",
     "text": [
      "\u001b[32m[I 2023-02-15 05:38:32,044]\u001b[0m Trial 30 finished with value: 0.8955385489774118 and parameters: {'n_estimators': 1346, 'learning_rate': 0.21242733944598813, 'max_depth': 5, 'lambda_l1': 0.0496710182233287, 'lambda_l2': 4.321656147736103, 'num_leaves': 50, 'bagging_fraction': 0.4794792477315061, 'feature_fraction': 0.4116253346284611}. Best is trial 9 with value: 0.9004093855164221.\u001b[0m\n"
     ]
    },
    {
     "name": "stdout",
     "output_type": "stream",
     "text": [
      "[LightGBM] [Warning] Unknown parameter: tree_method\n",
      "[LightGBM] [Warning] lambda_l1 is set=0.03566893906668489, reg_alpha=0.0 will be ignored. Current value: lambda_l1=0.03566893906668489\n",
      "[LightGBM] [Warning] feature_fraction is set=0.3460515292560105, colsample_bytree=1.0 will be ignored. Current value: feature_fraction=0.3460515292560105\n",
      "[LightGBM] [Warning] lambda_l2 is set=3.746572741202656, reg_lambda=0.0 will be ignored. Current value: lambda_l2=3.746572741202656\n",
      "[LightGBM] [Warning] bagging_fraction is set=0.5458714676889129, subsample=1.0 will be ignored. Current value: bagging_fraction=0.5458714676889129\n",
      "[LightGBM] [Warning] Unknown parameter: tree_method\n",
      "[LightGBM] [Warning] lambda_l1 is set=0.03566893906668489, reg_alpha=0.0 will be ignored. Current value: lambda_l1=0.03566893906668489\n",
      "[LightGBM] [Warning] feature_fraction is set=0.3460515292560105, colsample_bytree=1.0 will be ignored. Current value: feature_fraction=0.3460515292560105\n",
      "[LightGBM] [Warning] lambda_l2 is set=3.746572741202656, reg_lambda=0.0 will be ignored. Current value: lambda_l2=3.746572741202656\n",
      "[LightGBM] [Warning] bagging_fraction is set=0.5458714676889129, subsample=1.0 will be ignored. Current value: bagging_fraction=0.5458714676889129\n",
      "[LightGBM] [Warning] Unknown parameter: tree_method\n",
      "[LightGBM] [Warning] lambda_l1 is set=0.03566893906668489, reg_alpha=0.0 will be ignored. Current value: lambda_l1=0.03566893906668489\n",
      "[LightGBM] [Warning] feature_fraction is set=0.3460515292560105, colsample_bytree=1.0 will be ignored. Current value: feature_fraction=0.3460515292560105\n",
      "[LightGBM] [Warning] lambda_l2 is set=3.746572741202656, reg_lambda=0.0 will be ignored. Current value: lambda_l2=3.746572741202656\n",
      "[LightGBM] [Warning] bagging_fraction is set=0.5458714676889129, subsample=1.0 will be ignored. Current value: bagging_fraction=0.5458714676889129\n",
      "[LightGBM] [Warning] Unknown parameter: tree_method\n",
      "[LightGBM] [Warning] lambda_l1 is set=0.03566893906668489, reg_alpha=0.0 will be ignored. Current value: lambda_l1=0.03566893906668489\n",
      "[LightGBM] [Warning] feature_fraction is set=0.3460515292560105, colsample_bytree=1.0 will be ignored. Current value: feature_fraction=0.3460515292560105\n",
      "[LightGBM] [Warning] lambda_l2 is set=3.746572741202656, reg_lambda=0.0 will be ignored. Current value: lambda_l2=3.746572741202656\n",
      "[LightGBM] [Warning] bagging_fraction is set=0.5458714676889129, subsample=1.0 will be ignored. Current value: bagging_fraction=0.5458714676889129\n",
      "[LightGBM] [Warning] Unknown parameter: tree_method\n",
      "[LightGBM] [Warning] lambda_l1 is set=0.03566893906668489, reg_alpha=0.0 will be ignored. Current value: lambda_l1=0.03566893906668489\n",
      "[LightGBM] [Warning] feature_fraction is set=0.3460515292560105, colsample_bytree=1.0 will be ignored. Current value: feature_fraction=0.3460515292560105\n",
      "[LightGBM] [Warning] lambda_l2 is set=3.746572741202656, reg_lambda=0.0 will be ignored. Current value: lambda_l2=3.746572741202656\n",
      "[LightGBM] [Warning] bagging_fraction is set=0.5458714676889129, subsample=1.0 will be ignored. Current value: bagging_fraction=0.5458714676889129\n"
     ]
    },
    {
     "name": "stderr",
     "output_type": "stream",
     "text": [
      "\u001b[32m[I 2023-02-15 05:38:45,941]\u001b[0m Trial 31 finished with value: 0.8981389439427379 and parameters: {'n_estimators': 2089, 'learning_rate': 0.07020659128572292, 'max_depth': 4, 'lambda_l1': 0.03566893906668489, 'lambda_l2': 3.746572741202656, 'num_leaves': 40, 'bagging_fraction': 0.5458714676889129, 'feature_fraction': 0.3460515292560105}. Best is trial 9 with value: 0.9004093855164221.\u001b[0m\n"
     ]
    },
    {
     "name": "stdout",
     "output_type": "stream",
     "text": [
      "[LightGBM] [Warning] Unknown parameter: tree_method\n",
      "[LightGBM] [Warning] lambda_l1 is set=0.01777694168725253, reg_alpha=0.0 will be ignored. Current value: lambda_l1=0.01777694168725253\n",
      "[LightGBM] [Warning] feature_fraction is set=0.39088270387711965, colsample_bytree=1.0 will be ignored. Current value: feature_fraction=0.39088270387711965\n",
      "[LightGBM] [Warning] lambda_l2 is set=5.13871281304424, reg_lambda=0.0 will be ignored. Current value: lambda_l2=5.13871281304424\n",
      "[LightGBM] [Warning] bagging_fraction is set=0.5409025348267552, subsample=1.0 will be ignored. Current value: bagging_fraction=0.5409025348267552\n",
      "[LightGBM] [Warning] Unknown parameter: tree_method\n",
      "[LightGBM] [Warning] lambda_l1 is set=0.01777694168725253, reg_alpha=0.0 will be ignored. Current value: lambda_l1=0.01777694168725253\n",
      "[LightGBM] [Warning] feature_fraction is set=0.39088270387711965, colsample_bytree=1.0 will be ignored. Current value: feature_fraction=0.39088270387711965\n",
      "[LightGBM] [Warning] lambda_l2 is set=5.13871281304424, reg_lambda=0.0 will be ignored. Current value: lambda_l2=5.13871281304424\n",
      "[LightGBM] [Warning] bagging_fraction is set=0.5409025348267552, subsample=1.0 will be ignored. Current value: bagging_fraction=0.5409025348267552\n",
      "[LightGBM] [Warning] Unknown parameter: tree_method\n",
      "[LightGBM] [Warning] lambda_l1 is set=0.01777694168725253, reg_alpha=0.0 will be ignored. Current value: lambda_l1=0.01777694168725253\n",
      "[LightGBM] [Warning] feature_fraction is set=0.39088270387711965, colsample_bytree=1.0 will be ignored. Current value: feature_fraction=0.39088270387711965\n",
      "[LightGBM] [Warning] lambda_l2 is set=5.13871281304424, reg_lambda=0.0 will be ignored. Current value: lambda_l2=5.13871281304424\n",
      "[LightGBM] [Warning] bagging_fraction is set=0.5409025348267552, subsample=1.0 will be ignored. Current value: bagging_fraction=0.5409025348267552\n",
      "[LightGBM] [Warning] Unknown parameter: tree_method\n",
      "[LightGBM] [Warning] lambda_l1 is set=0.01777694168725253, reg_alpha=0.0 will be ignored. Current value: lambda_l1=0.01777694168725253\n",
      "[LightGBM] [Warning] feature_fraction is set=0.39088270387711965, colsample_bytree=1.0 will be ignored. Current value: feature_fraction=0.39088270387711965\n",
      "[LightGBM] [Warning] lambda_l2 is set=5.13871281304424, reg_lambda=0.0 will be ignored. Current value: lambda_l2=5.13871281304424\n",
      "[LightGBM] [Warning] bagging_fraction is set=0.5409025348267552, subsample=1.0 will be ignored. Current value: bagging_fraction=0.5409025348267552\n",
      "[LightGBM] [Warning] Unknown parameter: tree_method\n",
      "[LightGBM] [Warning] lambda_l1 is set=0.01777694168725253, reg_alpha=0.0 will be ignored. Current value: lambda_l1=0.01777694168725253\n",
      "[LightGBM] [Warning] feature_fraction is set=0.39088270387711965, colsample_bytree=1.0 will be ignored. Current value: feature_fraction=0.39088270387711965\n",
      "[LightGBM] [Warning] lambda_l2 is set=5.13871281304424, reg_lambda=0.0 will be ignored. Current value: lambda_l2=5.13871281304424\n",
      "[LightGBM] [Warning] bagging_fraction is set=0.5409025348267552, subsample=1.0 will be ignored. Current value: bagging_fraction=0.5409025348267552\n"
     ]
    },
    {
     "name": "stderr",
     "output_type": "stream",
     "text": [
      "\u001b[32m[I 2023-02-15 05:38:53,001]\u001b[0m Trial 32 finished with value: 0.8989563009091082 and parameters: {'n_estimators': 945, 'learning_rate': 0.11733453182413696, 'max_depth': 4, 'lambda_l1': 0.01777694168725253, 'lambda_l2': 5.13871281304424, 'num_leaves': 24, 'bagging_fraction': 0.5409025348267552, 'feature_fraction': 0.39088270387711965}. Best is trial 9 with value: 0.9004093855164221.\u001b[0m\n"
     ]
    },
    {
     "name": "stdout",
     "output_type": "stream",
     "text": [
      "[LightGBM] [Warning] Unknown parameter: tree_method\n",
      "[LightGBM] [Warning] lambda_l1 is set=0.016014727017857843, reg_alpha=0.0 will be ignored. Current value: lambda_l1=0.016014727017857843\n",
      "[LightGBM] [Warning] feature_fraction is set=0.3960313714064794, colsample_bytree=1.0 will be ignored. Current value: feature_fraction=0.3960313714064794\n",
      "[LightGBM] [Warning] lambda_l2 is set=5.8365531804030155, reg_lambda=0.0 will be ignored. Current value: lambda_l2=5.8365531804030155\n",
      "[LightGBM] [Warning] bagging_fraction is set=0.4399561513337205, subsample=1.0 will be ignored. Current value: bagging_fraction=0.4399561513337205\n",
      "[LightGBM] [Warning] Unknown parameter: tree_method\n",
      "[LightGBM] [Warning] lambda_l1 is set=0.016014727017857843, reg_alpha=0.0 will be ignored. Current value: lambda_l1=0.016014727017857843\n",
      "[LightGBM] [Warning] feature_fraction is set=0.3960313714064794, colsample_bytree=1.0 will be ignored. Current value: feature_fraction=0.3960313714064794\n",
      "[LightGBM] [Warning] lambda_l2 is set=5.8365531804030155, reg_lambda=0.0 will be ignored. Current value: lambda_l2=5.8365531804030155\n",
      "[LightGBM] [Warning] bagging_fraction is set=0.4399561513337205, subsample=1.0 will be ignored. Current value: bagging_fraction=0.4399561513337205\n",
      "[LightGBM] [Warning] Unknown parameter: tree_method\n",
      "[LightGBM] [Warning] lambda_l1 is set=0.016014727017857843, reg_alpha=0.0 will be ignored. Current value: lambda_l1=0.016014727017857843\n",
      "[LightGBM] [Warning] feature_fraction is set=0.3960313714064794, colsample_bytree=1.0 will be ignored. Current value: feature_fraction=0.3960313714064794\n",
      "[LightGBM] [Warning] lambda_l2 is set=5.8365531804030155, reg_lambda=0.0 will be ignored. Current value: lambda_l2=5.8365531804030155\n",
      "[LightGBM] [Warning] bagging_fraction is set=0.4399561513337205, subsample=1.0 will be ignored. Current value: bagging_fraction=0.4399561513337205\n",
      "[LightGBM] [Warning] Unknown parameter: tree_method\n",
      "[LightGBM] [Warning] lambda_l1 is set=0.016014727017857843, reg_alpha=0.0 will be ignored. Current value: lambda_l1=0.016014727017857843\n",
      "[LightGBM] [Warning] feature_fraction is set=0.3960313714064794, colsample_bytree=1.0 will be ignored. Current value: feature_fraction=0.3960313714064794\n",
      "[LightGBM] [Warning] lambda_l2 is set=5.8365531804030155, reg_lambda=0.0 will be ignored. Current value: lambda_l2=5.8365531804030155\n",
      "[LightGBM] [Warning] bagging_fraction is set=0.4399561513337205, subsample=1.0 will be ignored. Current value: bagging_fraction=0.4399561513337205\n",
      "[LightGBM] [Warning] Unknown parameter: tree_method\n",
      "[LightGBM] [Warning] lambda_l1 is set=0.016014727017857843, reg_alpha=0.0 will be ignored. Current value: lambda_l1=0.016014727017857843\n",
      "[LightGBM] [Warning] feature_fraction is set=0.3960313714064794, colsample_bytree=1.0 will be ignored. Current value: feature_fraction=0.3960313714064794\n",
      "[LightGBM] [Warning] lambda_l2 is set=5.8365531804030155, reg_lambda=0.0 will be ignored. Current value: lambda_l2=5.8365531804030155\n",
      "[LightGBM] [Warning] bagging_fraction is set=0.4399561513337205, subsample=1.0 will be ignored. Current value: bagging_fraction=0.4399561513337205\n"
     ]
    },
    {
     "name": "stderr",
     "output_type": "stream",
     "text": [
      "\u001b[32m[I 2023-02-15 05:38:58,399]\u001b[0m Trial 33 finished with value: 0.897898456830619 and parameters: {'n_estimators': 969, 'learning_rate': 0.12646959008003275, 'max_depth': 3, 'lambda_l1': 0.016014727017857843, 'lambda_l2': 5.8365531804030155, 'num_leaves': 27, 'bagging_fraction': 0.4399561513337205, 'feature_fraction': 0.3960313714064794}. Best is trial 9 with value: 0.9004093855164221.\u001b[0m\n"
     ]
    },
    {
     "name": "stdout",
     "output_type": "stream",
     "text": [
      "[LightGBM] [Warning] Unknown parameter: tree_method\n",
      "[LightGBM] [Warning] lambda_l1 is set=0.02295431124240094, reg_alpha=0.0 will be ignored. Current value: lambda_l1=0.02295431124240094\n",
      "[LightGBM] [Warning] feature_fraction is set=0.26885643976194684, colsample_bytree=1.0 will be ignored. Current value: feature_fraction=0.26885643976194684\n",
      "[LightGBM] [Warning] lambda_l2 is set=2.314430971640147, reg_lambda=0.0 will be ignored. Current value: lambda_l2=2.314430971640147\n",
      "[LightGBM] [Warning] bagging_fraction is set=0.5915842072131681, subsample=1.0 will be ignored. Current value: bagging_fraction=0.5915842072131681\n",
      "[LightGBM] [Warning] Unknown parameter: tree_method\n",
      "[LightGBM] [Warning] lambda_l1 is set=0.02295431124240094, reg_alpha=0.0 will be ignored. Current value: lambda_l1=0.02295431124240094\n",
      "[LightGBM] [Warning] feature_fraction is set=0.26885643976194684, colsample_bytree=1.0 will be ignored. Current value: feature_fraction=0.26885643976194684\n",
      "[LightGBM] [Warning] lambda_l2 is set=2.314430971640147, reg_lambda=0.0 will be ignored. Current value: lambda_l2=2.314430971640147\n",
      "[LightGBM] [Warning] bagging_fraction is set=0.5915842072131681, subsample=1.0 will be ignored. Current value: bagging_fraction=0.5915842072131681\n",
      "[LightGBM] [Warning] Unknown parameter: tree_method\n",
      "[LightGBM] [Warning] lambda_l1 is set=0.02295431124240094, reg_alpha=0.0 will be ignored. Current value: lambda_l1=0.02295431124240094\n",
      "[LightGBM] [Warning] feature_fraction is set=0.26885643976194684, colsample_bytree=1.0 will be ignored. Current value: feature_fraction=0.26885643976194684\n",
      "[LightGBM] [Warning] lambda_l2 is set=2.314430971640147, reg_lambda=0.0 will be ignored. Current value: lambda_l2=2.314430971640147\n",
      "[LightGBM] [Warning] bagging_fraction is set=0.5915842072131681, subsample=1.0 will be ignored. Current value: bagging_fraction=0.5915842072131681\n",
      "[LightGBM] [Warning] Unknown parameter: tree_method\n",
      "[LightGBM] [Warning] lambda_l1 is set=0.02295431124240094, reg_alpha=0.0 will be ignored. Current value: lambda_l1=0.02295431124240094\n",
      "[LightGBM] [Warning] feature_fraction is set=0.26885643976194684, colsample_bytree=1.0 will be ignored. Current value: feature_fraction=0.26885643976194684\n",
      "[LightGBM] [Warning] lambda_l2 is set=2.314430971640147, reg_lambda=0.0 will be ignored. Current value: lambda_l2=2.314430971640147\n",
      "[LightGBM] [Warning] bagging_fraction is set=0.5915842072131681, subsample=1.0 will be ignored. Current value: bagging_fraction=0.5915842072131681\n",
      "[LightGBM] [Warning] Unknown parameter: tree_method\n",
      "[LightGBM] [Warning] lambda_l1 is set=0.02295431124240094, reg_alpha=0.0 will be ignored. Current value: lambda_l1=0.02295431124240094\n",
      "[LightGBM] [Warning] feature_fraction is set=0.26885643976194684, colsample_bytree=1.0 will be ignored. Current value: feature_fraction=0.26885643976194684\n",
      "[LightGBM] [Warning] lambda_l2 is set=2.314430971640147, reg_lambda=0.0 will be ignored. Current value: lambda_l2=2.314430971640147\n",
      "[LightGBM] [Warning] bagging_fraction is set=0.5915842072131681, subsample=1.0 will be ignored. Current value: bagging_fraction=0.5915842072131681\n"
     ]
    },
    {
     "name": "stderr",
     "output_type": "stream",
     "text": [
      "\u001b[32m[I 2023-02-15 05:39:19,897]\u001b[0m Trial 34 finished with value: 0.8992842307980897 and parameters: {'n_estimators': 3293, 'learning_rate': 0.03790661974003276, 'max_depth': 5, 'lambda_l1': 0.02295431124240094, 'lambda_l2': 2.314430971640147, 'num_leaves': 12, 'bagging_fraction': 0.5915842072131681, 'feature_fraction': 0.26885643976194684}. Best is trial 9 with value: 0.9004093855164221.\u001b[0m\n"
     ]
    },
    {
     "name": "stdout",
     "output_type": "stream",
     "text": [
      "[LightGBM] [Warning] Unknown parameter: tree_method\n",
      "[LightGBM] [Warning] lambda_l1 is set=0.024421988780121563, reg_alpha=0.0 will be ignored. Current value: lambda_l1=0.024421988780121563\n",
      "[LightGBM] [Warning] feature_fraction is set=0.27414064539374716, colsample_bytree=1.0 will be ignored. Current value: feature_fraction=0.27414064539374716\n",
      "[LightGBM] [Warning] lambda_l2 is set=2.139441374842394, reg_lambda=0.0 will be ignored. Current value: lambda_l2=2.139441374842394\n",
      "[LightGBM] [Warning] bagging_fraction is set=0.6176444123411382, subsample=1.0 will be ignored. Current value: bagging_fraction=0.6176444123411382\n",
      "[LightGBM] [Warning] Unknown parameter: tree_method\n",
      "[LightGBM] [Warning] lambda_l1 is set=0.024421988780121563, reg_alpha=0.0 will be ignored. Current value: lambda_l1=0.024421988780121563\n",
      "[LightGBM] [Warning] feature_fraction is set=0.27414064539374716, colsample_bytree=1.0 will be ignored. Current value: feature_fraction=0.27414064539374716\n",
      "[LightGBM] [Warning] lambda_l2 is set=2.139441374842394, reg_lambda=0.0 will be ignored. Current value: lambda_l2=2.139441374842394\n",
      "[LightGBM] [Warning] bagging_fraction is set=0.6176444123411382, subsample=1.0 will be ignored. Current value: bagging_fraction=0.6176444123411382\n",
      "[LightGBM] [Warning] Unknown parameter: tree_method\n",
      "[LightGBM] [Warning] lambda_l1 is set=0.024421988780121563, reg_alpha=0.0 will be ignored. Current value: lambda_l1=0.024421988780121563\n",
      "[LightGBM] [Warning] feature_fraction is set=0.27414064539374716, colsample_bytree=1.0 will be ignored. Current value: feature_fraction=0.27414064539374716\n",
      "[LightGBM] [Warning] lambda_l2 is set=2.139441374842394, reg_lambda=0.0 will be ignored. Current value: lambda_l2=2.139441374842394\n",
      "[LightGBM] [Warning] bagging_fraction is set=0.6176444123411382, subsample=1.0 will be ignored. Current value: bagging_fraction=0.6176444123411382\n",
      "[LightGBM] [Warning] Unknown parameter: tree_method\n",
      "[LightGBM] [Warning] lambda_l1 is set=0.024421988780121563, reg_alpha=0.0 will be ignored. Current value: lambda_l1=0.024421988780121563\n",
      "[LightGBM] [Warning] feature_fraction is set=0.27414064539374716, colsample_bytree=1.0 will be ignored. Current value: feature_fraction=0.27414064539374716\n",
      "[LightGBM] [Warning] lambda_l2 is set=2.139441374842394, reg_lambda=0.0 will be ignored. Current value: lambda_l2=2.139441374842394\n",
      "[LightGBM] [Warning] bagging_fraction is set=0.6176444123411382, subsample=1.0 will be ignored. Current value: bagging_fraction=0.6176444123411382\n",
      "[LightGBM] [Warning] Unknown parameter: tree_method\n",
      "[LightGBM] [Warning] lambda_l1 is set=0.024421988780121563, reg_alpha=0.0 will be ignored. Current value: lambda_l1=0.024421988780121563\n",
      "[LightGBM] [Warning] feature_fraction is set=0.27414064539374716, colsample_bytree=1.0 will be ignored. Current value: feature_fraction=0.27414064539374716\n",
      "[LightGBM] [Warning] lambda_l2 is set=2.139441374842394, reg_lambda=0.0 will be ignored. Current value: lambda_l2=2.139441374842394\n",
      "[LightGBM] [Warning] bagging_fraction is set=0.6176444123411382, subsample=1.0 will be ignored. Current value: bagging_fraction=0.6176444123411382\n"
     ]
    },
    {
     "name": "stderr",
     "output_type": "stream",
     "text": [
      "\u001b[32m[I 2023-02-15 05:39:35,250]\u001b[0m Trial 35 finished with value: 0.8714193388839131 and parameters: {'n_estimators': 3642, 'learning_rate': 0.04361469171731591, 'max_depth': 5, 'lambda_l1': 0.024421988780121563, 'lambda_l2': 2.139441374842394, 'num_leaves': 2, 'bagging_fraction': 0.6176444123411382, 'feature_fraction': 0.27414064539374716}. Best is trial 9 with value: 0.9004093855164221.\u001b[0m\n"
     ]
    },
    {
     "name": "stdout",
     "output_type": "stream",
     "text": [
      "[LightGBM] [Warning] Unknown parameter: tree_method\n",
      "[LightGBM] [Warning] lambda_l1 is set=0.04247405656646707, reg_alpha=0.0 will be ignored. Current value: lambda_l1=0.04247405656646707\n",
      "[LightGBM] [Warning] feature_fraction is set=0.3166073397583073, colsample_bytree=1.0 will be ignored. Current value: feature_fraction=0.3166073397583073\n",
      "[LightGBM] [Warning] lambda_l2 is set=1.2762306324040358, reg_lambda=0.0 will be ignored. Current value: lambda_l2=1.2762306324040358\n",
      "[LightGBM] [Warning] bagging_fraction is set=0.5898274019272143, subsample=1.0 will be ignored. Current value: bagging_fraction=0.5898274019272143\n",
      "[LightGBM] [Warning] Unknown parameter: tree_method\n",
      "[LightGBM] [Warning] lambda_l1 is set=0.04247405656646707, reg_alpha=0.0 will be ignored. Current value: lambda_l1=0.04247405656646707\n",
      "[LightGBM] [Warning] feature_fraction is set=0.3166073397583073, colsample_bytree=1.0 will be ignored. Current value: feature_fraction=0.3166073397583073\n",
      "[LightGBM] [Warning] lambda_l2 is set=1.2762306324040358, reg_lambda=0.0 will be ignored. Current value: lambda_l2=1.2762306324040358\n",
      "[LightGBM] [Warning] bagging_fraction is set=0.5898274019272143, subsample=1.0 will be ignored. Current value: bagging_fraction=0.5898274019272143\n",
      "[LightGBM] [Warning] Unknown parameter: tree_method\n",
      "[LightGBM] [Warning] lambda_l1 is set=0.04247405656646707, reg_alpha=0.0 will be ignored. Current value: lambda_l1=0.04247405656646707\n",
      "[LightGBM] [Warning] feature_fraction is set=0.3166073397583073, colsample_bytree=1.0 will be ignored. Current value: feature_fraction=0.3166073397583073\n",
      "[LightGBM] [Warning] lambda_l2 is set=1.2762306324040358, reg_lambda=0.0 will be ignored. Current value: lambda_l2=1.2762306324040358\n",
      "[LightGBM] [Warning] bagging_fraction is set=0.5898274019272143, subsample=1.0 will be ignored. Current value: bagging_fraction=0.5898274019272143\n",
      "[LightGBM] [Warning] Unknown parameter: tree_method\n",
      "[LightGBM] [Warning] lambda_l1 is set=0.04247405656646707, reg_alpha=0.0 will be ignored. Current value: lambda_l1=0.04247405656646707\n",
      "[LightGBM] [Warning] feature_fraction is set=0.3166073397583073, colsample_bytree=1.0 will be ignored. Current value: feature_fraction=0.3166073397583073\n",
      "[LightGBM] [Warning] lambda_l2 is set=1.2762306324040358, reg_lambda=0.0 will be ignored. Current value: lambda_l2=1.2762306324040358\n",
      "[LightGBM] [Warning] bagging_fraction is set=0.5898274019272143, subsample=1.0 will be ignored. Current value: bagging_fraction=0.5898274019272143\n",
      "[LightGBM] [Warning] Unknown parameter: tree_method\n",
      "[LightGBM] [Warning] lambda_l1 is set=0.04247405656646707, reg_alpha=0.0 will be ignored. Current value: lambda_l1=0.04247405656646707\n",
      "[LightGBM] [Warning] feature_fraction is set=0.3166073397583073, colsample_bytree=1.0 will be ignored. Current value: feature_fraction=0.3166073397583073\n",
      "[LightGBM] [Warning] lambda_l2 is set=1.2762306324040358, reg_lambda=0.0 will be ignored. Current value: lambda_l2=1.2762306324040358\n",
      "[LightGBM] [Warning] bagging_fraction is set=0.5898274019272143, subsample=1.0 will be ignored. Current value: bagging_fraction=0.5898274019272143\n"
     ]
    },
    {
     "name": "stderr",
     "output_type": "stream",
     "text": [
      "\u001b[32m[I 2023-02-15 05:40:04,290]\u001b[0m Trial 36 finished with value: 0.8975429241439148 and parameters: {'n_estimators': 4819, 'learning_rate': 0.036351050382994146, 'max_depth': 7, 'lambda_l1': 0.04247405656646707, 'lambda_l2': 1.2762306324040358, 'num_leaves': 9, 'bagging_fraction': 0.5898274019272143, 'feature_fraction': 0.3166073397583073}. Best is trial 9 with value: 0.9004093855164221.\u001b[0m\n"
     ]
    },
    {
     "name": "stdout",
     "output_type": "stream",
     "text": [
      "[LightGBM] [Warning] Unknown parameter: tree_method\n",
      "[LightGBM] [Warning] lambda_l1 is set=0.06450880338855397, reg_alpha=0.0 will be ignored. Current value: lambda_l1=0.06450880338855397\n",
      "[LightGBM] [Warning] feature_fraction is set=0.23528471058425113, colsample_bytree=1.0 will be ignored. Current value: feature_fraction=0.23528471058425113\n",
      "[LightGBM] [Warning] lambda_l2 is set=2.302368519081836, reg_lambda=0.0 will be ignored. Current value: lambda_l2=2.302368519081836\n",
      "[LightGBM] [Warning] bagging_fraction is set=0.5138245344832318, subsample=1.0 will be ignored. Current value: bagging_fraction=0.5138245344832318\n",
      "[LightGBM] [Warning] Unknown parameter: tree_method\n",
      "[LightGBM] [Warning] lambda_l1 is set=0.06450880338855397, reg_alpha=0.0 will be ignored. Current value: lambda_l1=0.06450880338855397\n",
      "[LightGBM] [Warning] feature_fraction is set=0.23528471058425113, colsample_bytree=1.0 will be ignored. Current value: feature_fraction=0.23528471058425113\n",
      "[LightGBM] [Warning] lambda_l2 is set=2.302368519081836, reg_lambda=0.0 will be ignored. Current value: lambda_l2=2.302368519081836\n",
      "[LightGBM] [Warning] bagging_fraction is set=0.5138245344832318, subsample=1.0 will be ignored. Current value: bagging_fraction=0.5138245344832318\n",
      "[LightGBM] [Warning] Unknown parameter: tree_method\n",
      "[LightGBM] [Warning] lambda_l1 is set=0.06450880338855397, reg_alpha=0.0 will be ignored. Current value: lambda_l1=0.06450880338855397\n",
      "[LightGBM] [Warning] feature_fraction is set=0.23528471058425113, colsample_bytree=1.0 will be ignored. Current value: feature_fraction=0.23528471058425113\n",
      "[LightGBM] [Warning] lambda_l2 is set=2.302368519081836, reg_lambda=0.0 will be ignored. Current value: lambda_l2=2.302368519081836\n",
      "[LightGBM] [Warning] bagging_fraction is set=0.5138245344832318, subsample=1.0 will be ignored. Current value: bagging_fraction=0.5138245344832318\n",
      "[LightGBM] [Warning] Unknown parameter: tree_method\n",
      "[LightGBM] [Warning] lambda_l1 is set=0.06450880338855397, reg_alpha=0.0 will be ignored. Current value: lambda_l1=0.06450880338855397\n",
      "[LightGBM] [Warning] feature_fraction is set=0.23528471058425113, colsample_bytree=1.0 will be ignored. Current value: feature_fraction=0.23528471058425113\n",
      "[LightGBM] [Warning] lambda_l2 is set=2.302368519081836, reg_lambda=0.0 will be ignored. Current value: lambda_l2=2.302368519081836\n",
      "[LightGBM] [Warning] bagging_fraction is set=0.5138245344832318, subsample=1.0 will be ignored. Current value: bagging_fraction=0.5138245344832318\n",
      "[LightGBM] [Warning] Unknown parameter: tree_method\n",
      "[LightGBM] [Warning] lambda_l1 is set=0.06450880338855397, reg_alpha=0.0 will be ignored. Current value: lambda_l1=0.06450880338855397\n",
      "[LightGBM] [Warning] feature_fraction is set=0.23528471058425113, colsample_bytree=1.0 will be ignored. Current value: feature_fraction=0.23528471058425113\n",
      "[LightGBM] [Warning] lambda_l2 is set=2.302368519081836, reg_lambda=0.0 will be ignored. Current value: lambda_l2=2.302368519081836\n",
      "[LightGBM] [Warning] bagging_fraction is set=0.5138245344832318, subsample=1.0 will be ignored. Current value: bagging_fraction=0.5138245344832318\n"
     ]
    },
    {
     "name": "stderr",
     "output_type": "stream",
     "text": [
      "\u001b[32m[I 2023-02-15 05:40:23,446]\u001b[0m Trial 37 finished with value: 0.8813962270806661 and parameters: {'n_estimators': 2983, 'learning_rate': 0.712724048021082, 'max_depth': 5, 'lambda_l1': 0.06450880338855397, 'lambda_l2': 2.302368519081836, 'num_leaves': 16, 'bagging_fraction': 0.5138245344832318, 'feature_fraction': 0.23528471058425113}. Best is trial 9 with value: 0.9004093855164221.\u001b[0m\n"
     ]
    },
    {
     "name": "stdout",
     "output_type": "stream",
     "text": [
      "[LightGBM] [Warning] Unknown parameter: tree_method\n",
      "[LightGBM] [Warning] lambda_l1 is set=0.010251448423139374, reg_alpha=0.0 will be ignored. Current value: lambda_l1=0.010251448423139374\n",
      "[LightGBM] [Warning] feature_fraction is set=0.2877075746501148, colsample_bytree=1.0 will be ignored. Current value: feature_fraction=0.2877075746501148\n",
      "[LightGBM] [Warning] lambda_l2 is set=0.6939141727632362, reg_lambda=0.0 will be ignored. Current value: lambda_l2=0.6939141727632362\n",
      "[LightGBM] [Warning] bagging_fraction is set=0.4699104886636518, subsample=1.0 will be ignored. Current value: bagging_fraction=0.4699104886636518\n",
      "[LightGBM] [Warning] Unknown parameter: tree_method\n",
      "[LightGBM] [Warning] lambda_l1 is set=0.010251448423139374, reg_alpha=0.0 will be ignored. Current value: lambda_l1=0.010251448423139374\n",
      "[LightGBM] [Warning] feature_fraction is set=0.2877075746501148, colsample_bytree=1.0 will be ignored. Current value: feature_fraction=0.2877075746501148\n",
      "[LightGBM] [Warning] lambda_l2 is set=0.6939141727632362, reg_lambda=0.0 will be ignored. Current value: lambda_l2=0.6939141727632362\n",
      "[LightGBM] [Warning] bagging_fraction is set=0.4699104886636518, subsample=1.0 will be ignored. Current value: bagging_fraction=0.4699104886636518\n",
      "[LightGBM] [Warning] Unknown parameter: tree_method\n",
      "[LightGBM] [Warning] lambda_l1 is set=0.010251448423139374, reg_alpha=0.0 will be ignored. Current value: lambda_l1=0.010251448423139374\n",
      "[LightGBM] [Warning] feature_fraction is set=0.2877075746501148, colsample_bytree=1.0 will be ignored. Current value: feature_fraction=0.2877075746501148\n",
      "[LightGBM] [Warning] lambda_l2 is set=0.6939141727632362, reg_lambda=0.0 will be ignored. Current value: lambda_l2=0.6939141727632362\n",
      "[LightGBM] [Warning] bagging_fraction is set=0.4699104886636518, subsample=1.0 will be ignored. Current value: bagging_fraction=0.4699104886636518\n",
      "[LightGBM] [Warning] Unknown parameter: tree_method\n",
      "[LightGBM] [Warning] lambda_l1 is set=0.010251448423139374, reg_alpha=0.0 will be ignored. Current value: lambda_l1=0.010251448423139374\n",
      "[LightGBM] [Warning] feature_fraction is set=0.2877075746501148, colsample_bytree=1.0 will be ignored. Current value: feature_fraction=0.2877075746501148\n",
      "[LightGBM] [Warning] lambda_l2 is set=0.6939141727632362, reg_lambda=0.0 will be ignored. Current value: lambda_l2=0.6939141727632362\n",
      "[LightGBM] [Warning] bagging_fraction is set=0.4699104886636518, subsample=1.0 will be ignored. Current value: bagging_fraction=0.4699104886636518\n",
      "[LightGBM] [Warning] Unknown parameter: tree_method\n",
      "[LightGBM] [Warning] lambda_l1 is set=0.010251448423139374, reg_alpha=0.0 will be ignored. Current value: lambda_l1=0.010251448423139374\n",
      "[LightGBM] [Warning] feature_fraction is set=0.2877075746501148, colsample_bytree=1.0 will be ignored. Current value: feature_fraction=0.2877075746501148\n",
      "[LightGBM] [Warning] lambda_l2 is set=0.6939141727632362, reg_lambda=0.0 will be ignored. Current value: lambda_l2=0.6939141727632362\n",
      "[LightGBM] [Warning] bagging_fraction is set=0.4699104886636518, subsample=1.0 will be ignored. Current value: bagging_fraction=0.4699104886636518\n"
     ]
    },
    {
     "name": "stderr",
     "output_type": "stream",
     "text": [
      "\u001b[32m[I 2023-02-15 05:40:57,416]\u001b[0m Trial 38 finished with value: 0.8977160942995607 and parameters: {'n_estimators': 3728, 'learning_rate': 0.010028305351081165, 'max_depth': 6, 'lambda_l1': 0.010251448423139374, 'lambda_l2': 0.6939141727632362, 'num_leaves': 18, 'bagging_fraction': 0.4699104886636518, 'feature_fraction': 0.2877075746501148}. Best is trial 9 with value: 0.9004093855164221.\u001b[0m\n"
     ]
    },
    {
     "name": "stdout",
     "output_type": "stream",
     "text": [
      "[LightGBM] [Warning] Unknown parameter: tree_method\n",
      "[LightGBM] [Warning] lambda_l1 is set=0.03025937948253207, reg_alpha=0.0 will be ignored. Current value: lambda_l1=0.03025937948253207\n",
      "[LightGBM] [Warning] feature_fraction is set=0.3282429539681161, colsample_bytree=1.0 will be ignored. Current value: feature_fraction=0.3282429539681161\n",
      "[LightGBM] [Warning] lambda_l2 is set=2.7263209684734564, reg_lambda=0.0 will be ignored. Current value: lambda_l2=2.7263209684734564\n",
      "[LightGBM] [Warning] bagging_fraction is set=0.6703335799261161, subsample=1.0 will be ignored. Current value: bagging_fraction=0.6703335799261161\n",
      "[LightGBM] [Warning] Unknown parameter: tree_method\n",
      "[LightGBM] [Warning] lambda_l1 is set=0.03025937948253207, reg_alpha=0.0 will be ignored. Current value: lambda_l1=0.03025937948253207\n",
      "[LightGBM] [Warning] feature_fraction is set=0.3282429539681161, colsample_bytree=1.0 will be ignored. Current value: feature_fraction=0.3282429539681161\n",
      "[LightGBM] [Warning] lambda_l2 is set=2.7263209684734564, reg_lambda=0.0 will be ignored. Current value: lambda_l2=2.7263209684734564\n",
      "[LightGBM] [Warning] bagging_fraction is set=0.6703335799261161, subsample=1.0 will be ignored. Current value: bagging_fraction=0.6703335799261161\n",
      "[LightGBM] [Warning] Unknown parameter: tree_method\n",
      "[LightGBM] [Warning] lambda_l1 is set=0.03025937948253207, reg_alpha=0.0 will be ignored. Current value: lambda_l1=0.03025937948253207\n",
      "[LightGBM] [Warning] feature_fraction is set=0.3282429539681161, colsample_bytree=1.0 will be ignored. Current value: feature_fraction=0.3282429539681161\n",
      "[LightGBM] [Warning] lambda_l2 is set=2.7263209684734564, reg_lambda=0.0 will be ignored. Current value: lambda_l2=2.7263209684734564\n",
      "[LightGBM] [Warning] bagging_fraction is set=0.6703335799261161, subsample=1.0 will be ignored. Current value: bagging_fraction=0.6703335799261161\n",
      "[LightGBM] [Warning] Unknown parameter: tree_method\n",
      "[LightGBM] [Warning] lambda_l1 is set=0.03025937948253207, reg_alpha=0.0 will be ignored. Current value: lambda_l1=0.03025937948253207\n",
      "[LightGBM] [Warning] feature_fraction is set=0.3282429539681161, colsample_bytree=1.0 will be ignored. Current value: feature_fraction=0.3282429539681161\n",
      "[LightGBM] [Warning] lambda_l2 is set=2.7263209684734564, reg_lambda=0.0 will be ignored. Current value: lambda_l2=2.7263209684734564\n",
      "[LightGBM] [Warning] bagging_fraction is set=0.6703335799261161, subsample=1.0 will be ignored. Current value: bagging_fraction=0.6703335799261161\n",
      "[LightGBM] [Warning] Unknown parameter: tree_method\n",
      "[LightGBM] [Warning] lambda_l1 is set=0.03025937948253207, reg_alpha=0.0 will be ignored. Current value: lambda_l1=0.03025937948253207\n",
      "[LightGBM] [Warning] feature_fraction is set=0.3282429539681161, colsample_bytree=1.0 will be ignored. Current value: feature_fraction=0.3282429539681161\n",
      "[LightGBM] [Warning] lambda_l2 is set=2.7263209684734564, reg_lambda=0.0 will be ignored. Current value: lambda_l2=2.7263209684734564\n",
      "[LightGBM] [Warning] bagging_fraction is set=0.6703335799261161, subsample=1.0 will be ignored. Current value: bagging_fraction=0.6703335799261161\n"
     ]
    },
    {
     "name": "stderr",
     "output_type": "stream",
     "text": [
      "\u001b[32m[I 2023-02-15 05:41:48,796]\u001b[0m Trial 39 finished with value: 0.8979199168631314 and parameters: {'n_estimators': 5288, 'learning_rate': 0.017997627265466887, 'max_depth': 9, 'lambda_l1': 0.03025937948253207, 'lambda_l2': 2.7263209684734564, 'num_leaves': 30, 'bagging_fraction': 0.6703335799261161, 'feature_fraction': 0.3282429539681161}. Best is trial 9 with value: 0.9004093855164221.\u001b[0m\n"
     ]
    },
    {
     "name": "stdout",
     "output_type": "stream",
     "text": [
      "[LightGBM] [Warning] Unknown parameter: tree_method\n",
      "[LightGBM] [Warning] lambda_l1 is set=0.10840355719351985, reg_alpha=0.0 will be ignored. Current value: lambda_l1=0.10840355719351985\n",
      "[LightGBM] [Warning] feature_fraction is set=0.3051658685812052, colsample_bytree=1.0 will be ignored. Current value: feature_fraction=0.3051658685812052\n",
      "[LightGBM] [Warning] lambda_l2 is set=2.9573119756337327, reg_lambda=0.0 will be ignored. Current value: lambda_l2=2.9573119756337327\n",
      "[LightGBM] [Warning] bagging_fraction is set=0.5813746880257094, subsample=1.0 will be ignored. Current value: bagging_fraction=0.5813746880257094\n",
      "[LightGBM] [Warning] Unknown parameter: tree_method\n",
      "[LightGBM] [Warning] lambda_l1 is set=0.10840355719351985, reg_alpha=0.0 will be ignored. Current value: lambda_l1=0.10840355719351985\n",
      "[LightGBM] [Warning] feature_fraction is set=0.3051658685812052, colsample_bytree=1.0 will be ignored. Current value: feature_fraction=0.3051658685812052\n",
      "[LightGBM] [Warning] lambda_l2 is set=2.9573119756337327, reg_lambda=0.0 will be ignored. Current value: lambda_l2=2.9573119756337327\n",
      "[LightGBM] [Warning] bagging_fraction is set=0.5813746880257094, subsample=1.0 will be ignored. Current value: bagging_fraction=0.5813746880257094\n",
      "[LightGBM] [Warning] Unknown parameter: tree_method\n",
      "[LightGBM] [Warning] lambda_l1 is set=0.10840355719351985, reg_alpha=0.0 will be ignored. Current value: lambda_l1=0.10840355719351985\n",
      "[LightGBM] [Warning] feature_fraction is set=0.3051658685812052, colsample_bytree=1.0 will be ignored. Current value: feature_fraction=0.3051658685812052\n",
      "[LightGBM] [Warning] lambda_l2 is set=2.9573119756337327, reg_lambda=0.0 will be ignored. Current value: lambda_l2=2.9573119756337327\n",
      "[LightGBM] [Warning] bagging_fraction is set=0.5813746880257094, subsample=1.0 will be ignored. Current value: bagging_fraction=0.5813746880257094\n",
      "[LightGBM] [Warning] Unknown parameter: tree_method\n",
      "[LightGBM] [Warning] lambda_l1 is set=0.10840355719351985, reg_alpha=0.0 will be ignored. Current value: lambda_l1=0.10840355719351985\n",
      "[LightGBM] [Warning] feature_fraction is set=0.3051658685812052, colsample_bytree=1.0 will be ignored. Current value: feature_fraction=0.3051658685812052\n",
      "[LightGBM] [Warning] lambda_l2 is set=2.9573119756337327, reg_lambda=0.0 will be ignored. Current value: lambda_l2=2.9573119756337327\n",
      "[LightGBM] [Warning] bagging_fraction is set=0.5813746880257094, subsample=1.0 will be ignored. Current value: bagging_fraction=0.5813746880257094\n",
      "[LightGBM] [Warning] Unknown parameter: tree_method\n",
      "[LightGBM] [Warning] lambda_l1 is set=0.10840355719351985, reg_alpha=0.0 will be ignored. Current value: lambda_l1=0.10840355719351985\n",
      "[LightGBM] [Warning] feature_fraction is set=0.3051658685812052, colsample_bytree=1.0 will be ignored. Current value: feature_fraction=0.3051658685812052\n",
      "[LightGBM] [Warning] lambda_l2 is set=2.9573119756337327, reg_lambda=0.0 will be ignored. Current value: lambda_l2=2.9573119756337327\n",
      "[LightGBM] [Warning] bagging_fraction is set=0.5813746880257094, subsample=1.0 will be ignored. Current value: bagging_fraction=0.5813746880257094\n"
     ]
    },
    {
     "name": "stderr",
     "output_type": "stream",
     "text": [
      "\u001b[32m[I 2023-02-15 05:42:15,431]\u001b[0m Trial 40 finished with value: 0.8977024973293855 and parameters: {'n_estimators': 2448, 'learning_rate': 0.053476377762798136, 'max_depth': 8, 'lambda_l1': 0.10840355719351985, 'lambda_l2': 2.9573119756337327, 'num_leaves': 45, 'bagging_fraction': 0.5813746880257094, 'feature_fraction': 0.3051658685812052}. Best is trial 9 with value: 0.9004093855164221.\u001b[0m\n"
     ]
    },
    {
     "name": "stdout",
     "output_type": "stream",
     "text": [
      "[LightGBM] [Warning] Unknown parameter: tree_method\n",
      "[LightGBM] [Warning] lambda_l1 is set=0.018701916871642802, reg_alpha=0.0 will be ignored. Current value: lambda_l1=0.018701916871642802\n",
      "[LightGBM] [Warning] feature_fraction is set=0.3329031861092038, colsample_bytree=1.0 will be ignored. Current value: feature_fraction=0.3329031861092038\n",
      "[LightGBM] [Warning] lambda_l2 is set=7.0046255860473545, reg_lambda=0.0 will be ignored. Current value: lambda_l2=7.0046255860473545\n",
      "[LightGBM] [Warning] bagging_fraction is set=0.5194445915410761, subsample=1.0 will be ignored. Current value: bagging_fraction=0.5194445915410761\n",
      "[LightGBM] [Warning] Unknown parameter: tree_method\n",
      "[LightGBM] [Warning] lambda_l1 is set=0.018701916871642802, reg_alpha=0.0 will be ignored. Current value: lambda_l1=0.018701916871642802\n",
      "[LightGBM] [Warning] feature_fraction is set=0.3329031861092038, colsample_bytree=1.0 will be ignored. Current value: feature_fraction=0.3329031861092038\n",
      "[LightGBM] [Warning] lambda_l2 is set=7.0046255860473545, reg_lambda=0.0 will be ignored. Current value: lambda_l2=7.0046255860473545\n",
      "[LightGBM] [Warning] bagging_fraction is set=0.5194445915410761, subsample=1.0 will be ignored. Current value: bagging_fraction=0.5194445915410761\n",
      "[LightGBM] [Warning] Unknown parameter: tree_method\n",
      "[LightGBM] [Warning] lambda_l1 is set=0.018701916871642802, reg_alpha=0.0 will be ignored. Current value: lambda_l1=0.018701916871642802\n",
      "[LightGBM] [Warning] feature_fraction is set=0.3329031861092038, colsample_bytree=1.0 will be ignored. Current value: feature_fraction=0.3329031861092038\n",
      "[LightGBM] [Warning] lambda_l2 is set=7.0046255860473545, reg_lambda=0.0 will be ignored. Current value: lambda_l2=7.0046255860473545\n",
      "[LightGBM] [Warning] bagging_fraction is set=0.5194445915410761, subsample=1.0 will be ignored. Current value: bagging_fraction=0.5194445915410761\n",
      "[LightGBM] [Warning] Unknown parameter: tree_method\n",
      "[LightGBM] [Warning] lambda_l1 is set=0.018701916871642802, reg_alpha=0.0 will be ignored. Current value: lambda_l1=0.018701916871642802\n",
      "[LightGBM] [Warning] feature_fraction is set=0.3329031861092038, colsample_bytree=1.0 will be ignored. Current value: feature_fraction=0.3329031861092038\n",
      "[LightGBM] [Warning] lambda_l2 is set=7.0046255860473545, reg_lambda=0.0 will be ignored. Current value: lambda_l2=7.0046255860473545\n",
      "[LightGBM] [Warning] bagging_fraction is set=0.5194445915410761, subsample=1.0 will be ignored. Current value: bagging_fraction=0.5194445915410761\n",
      "[LightGBM] [Warning] Unknown parameter: tree_method\n",
      "[LightGBM] [Warning] lambda_l1 is set=0.018701916871642802, reg_alpha=0.0 will be ignored. Current value: lambda_l1=0.018701916871642802\n",
      "[LightGBM] [Warning] feature_fraction is set=0.3329031861092038, colsample_bytree=1.0 will be ignored. Current value: feature_fraction=0.3329031861092038\n",
      "[LightGBM] [Warning] lambda_l2 is set=7.0046255860473545, reg_lambda=0.0 will be ignored. Current value: lambda_l2=7.0046255860473545\n",
      "[LightGBM] [Warning] bagging_fraction is set=0.5194445915410761, subsample=1.0 will be ignored. Current value: bagging_fraction=0.5194445915410761\n"
     ]
    },
    {
     "name": "stderr",
     "output_type": "stream",
     "text": [
      "\u001b[32m[I 2023-02-15 05:42:35,615]\u001b[0m Trial 41 finished with value: 0.8980891469105753 and parameters: {'n_estimators': 3154, 'learning_rate': 0.08206383707085872, 'max_depth': 4, 'lambda_l1': 0.018701916871642802, 'lambda_l2': 7.0046255860473545, 'num_leaves': 24, 'bagging_fraction': 0.5194445915410761, 'feature_fraction': 0.3329031861092038}. Best is trial 9 with value: 0.9004093855164221.\u001b[0m\n"
     ]
    },
    {
     "name": "stdout",
     "output_type": "stream",
     "text": [
      "[LightGBM] [Warning] Unknown parameter: tree_method\n",
      "[LightGBM] [Warning] lambda_l1 is set=0.01567551333418769, reg_alpha=0.0 will be ignored. Current value: lambda_l1=0.01567551333418769\n",
      "[LightGBM] [Warning] feature_fraction is set=0.2462250016604327, colsample_bytree=1.0 will be ignored. Current value: feature_fraction=0.2462250016604327\n",
      "[LightGBM] [Warning] lambda_l2 is set=5.127236976379271, reg_lambda=0.0 will be ignored. Current value: lambda_l2=5.127236976379271\n",
      "[LightGBM] [Warning] bagging_fraction is set=0.5774958233365137, subsample=1.0 will be ignored. Current value: bagging_fraction=0.5774958233365137\n",
      "[LightGBM] [Warning] Unknown parameter: tree_method\n",
      "[LightGBM] [Warning] lambda_l1 is set=0.01567551333418769, reg_alpha=0.0 will be ignored. Current value: lambda_l1=0.01567551333418769\n",
      "[LightGBM] [Warning] feature_fraction is set=0.2462250016604327, colsample_bytree=1.0 will be ignored. Current value: feature_fraction=0.2462250016604327\n",
      "[LightGBM] [Warning] lambda_l2 is set=5.127236976379271, reg_lambda=0.0 will be ignored. Current value: lambda_l2=5.127236976379271\n",
      "[LightGBM] [Warning] bagging_fraction is set=0.5774958233365137, subsample=1.0 will be ignored. Current value: bagging_fraction=0.5774958233365137\n",
      "[LightGBM] [Warning] Unknown parameter: tree_method\n",
      "[LightGBM] [Warning] lambda_l1 is set=0.01567551333418769, reg_alpha=0.0 will be ignored. Current value: lambda_l1=0.01567551333418769\n",
      "[LightGBM] [Warning] feature_fraction is set=0.2462250016604327, colsample_bytree=1.0 will be ignored. Current value: feature_fraction=0.2462250016604327\n",
      "[LightGBM] [Warning] lambda_l2 is set=5.127236976379271, reg_lambda=0.0 will be ignored. Current value: lambda_l2=5.127236976379271\n",
      "[LightGBM] [Warning] bagging_fraction is set=0.5774958233365137, subsample=1.0 will be ignored. Current value: bagging_fraction=0.5774958233365137\n",
      "[LightGBM] [Warning] Unknown parameter: tree_method\n",
      "[LightGBM] [Warning] lambda_l1 is set=0.01567551333418769, reg_alpha=0.0 will be ignored. Current value: lambda_l1=0.01567551333418769\n",
      "[LightGBM] [Warning] feature_fraction is set=0.2462250016604327, colsample_bytree=1.0 will be ignored. Current value: feature_fraction=0.2462250016604327\n",
      "[LightGBM] [Warning] lambda_l2 is set=5.127236976379271, reg_lambda=0.0 will be ignored. Current value: lambda_l2=5.127236976379271\n",
      "[LightGBM] [Warning] bagging_fraction is set=0.5774958233365137, subsample=1.0 will be ignored. Current value: bagging_fraction=0.5774958233365137\n",
      "[LightGBM] [Warning] Unknown parameter: tree_method\n",
      "[LightGBM] [Warning] lambda_l1 is set=0.01567551333418769, reg_alpha=0.0 will be ignored. Current value: lambda_l1=0.01567551333418769\n",
      "[LightGBM] [Warning] feature_fraction is set=0.2462250016604327, colsample_bytree=1.0 will be ignored. Current value: feature_fraction=0.2462250016604327\n",
      "[LightGBM] [Warning] lambda_l2 is set=5.127236976379271, reg_lambda=0.0 will be ignored. Current value: lambda_l2=5.127236976379271\n",
      "[LightGBM] [Warning] bagging_fraction is set=0.5774958233365137, subsample=1.0 will be ignored. Current value: bagging_fraction=0.5774958233365137\n"
     ]
    },
    {
     "name": "stderr",
     "output_type": "stream",
     "text": [
      "\u001b[32m[I 2023-02-15 05:42:45,290]\u001b[0m Trial 42 finished with value: 0.8943677742633636 and parameters: {'n_estimators': 1444, 'learning_rate': 0.11174665206563895, 'max_depth': 5, 'lambda_l1': 0.01567551333418769, 'lambda_l2': 5.127236976379271, 'num_leaves': 12, 'bagging_fraction': 0.5774958233365137, 'feature_fraction': 0.2462250016604327}. Best is trial 9 with value: 0.9004093855164221.\u001b[0m\n"
     ]
    },
    {
     "name": "stdout",
     "output_type": "stream",
     "text": [
      "[LightGBM] [Warning] Unknown parameter: tree_method\n",
      "[LightGBM] [Warning] lambda_l1 is set=0.016029729015959126, reg_alpha=0.0 will be ignored. Current value: lambda_l1=0.016029729015959126\n",
      "[LightGBM] [Warning] feature_fraction is set=0.28375954744008847, colsample_bytree=1.0 will be ignored. Current value: feature_fraction=0.28375954744008847\n",
      "[LightGBM] [Warning] lambda_l2 is set=9.431190973866398, reg_lambda=0.0 will be ignored. Current value: lambda_l2=9.431190973866398\n",
      "[LightGBM] [Warning] bagging_fraction is set=0.6220569767871599, subsample=1.0 will be ignored. Current value: bagging_fraction=0.6220569767871599\n",
      "[LightGBM] [Warning] Unknown parameter: tree_method\n",
      "[LightGBM] [Warning] lambda_l1 is set=0.016029729015959126, reg_alpha=0.0 will be ignored. Current value: lambda_l1=0.016029729015959126\n",
      "[LightGBM] [Warning] feature_fraction is set=0.28375954744008847, colsample_bytree=1.0 will be ignored. Current value: feature_fraction=0.28375954744008847\n",
      "[LightGBM] [Warning] lambda_l2 is set=9.431190973866398, reg_lambda=0.0 will be ignored. Current value: lambda_l2=9.431190973866398\n",
      "[LightGBM] [Warning] bagging_fraction is set=0.6220569767871599, subsample=1.0 will be ignored. Current value: bagging_fraction=0.6220569767871599\n",
      "[LightGBM] [Warning] Unknown parameter: tree_method\n",
      "[LightGBM] [Warning] lambda_l1 is set=0.016029729015959126, reg_alpha=0.0 will be ignored. Current value: lambda_l1=0.016029729015959126\n",
      "[LightGBM] [Warning] feature_fraction is set=0.28375954744008847, colsample_bytree=1.0 will be ignored. Current value: feature_fraction=0.28375954744008847\n",
      "[LightGBM] [Warning] lambda_l2 is set=9.431190973866398, reg_lambda=0.0 will be ignored. Current value: lambda_l2=9.431190973866398\n",
      "[LightGBM] [Warning] bagging_fraction is set=0.6220569767871599, subsample=1.0 will be ignored. Current value: bagging_fraction=0.6220569767871599\n",
      "[LightGBM] [Warning] Unknown parameter: tree_method\n",
      "[LightGBM] [Warning] lambda_l1 is set=0.016029729015959126, reg_alpha=0.0 will be ignored. Current value: lambda_l1=0.016029729015959126\n",
      "[LightGBM] [Warning] feature_fraction is set=0.28375954744008847, colsample_bytree=1.0 will be ignored. Current value: feature_fraction=0.28375954744008847\n",
      "[LightGBM] [Warning] lambda_l2 is set=9.431190973866398, reg_lambda=0.0 will be ignored. Current value: lambda_l2=9.431190973866398\n",
      "[LightGBM] [Warning] bagging_fraction is set=0.6220569767871599, subsample=1.0 will be ignored. Current value: bagging_fraction=0.6220569767871599\n",
      "[LightGBM] [Warning] Unknown parameter: tree_method\n",
      "[LightGBM] [Warning] lambda_l1 is set=0.016029729015959126, reg_alpha=0.0 will be ignored. Current value: lambda_l1=0.016029729015959126\n",
      "[LightGBM] [Warning] feature_fraction is set=0.28375954744008847, colsample_bytree=1.0 will be ignored. Current value: feature_fraction=0.28375954744008847\n",
      "[LightGBM] [Warning] lambda_l2 is set=9.431190973866398, reg_lambda=0.0 will be ignored. Current value: lambda_l2=9.431190973866398\n",
      "[LightGBM] [Warning] bagging_fraction is set=0.6220569767871599, subsample=1.0 will be ignored. Current value: bagging_fraction=0.6220569767871599\n"
     ]
    },
    {
     "name": "stderr",
     "output_type": "stream",
     "text": [
      "\u001b[32m[I 2023-02-15 05:42:49,496]\u001b[0m Trial 43 finished with value: 0.8980646023761292 and parameters: {'n_estimators': 623, 'learning_rate': 0.17526044652832848, 'max_depth': 4, 'lambda_l1': 0.016029729015959126, 'lambda_l2': 9.431190973866398, 'num_leaves': 32, 'bagging_fraction': 0.6220569767871599, 'feature_fraction': 0.28375954744008847}. Best is trial 9 with value: 0.9004093855164221.\u001b[0m\n"
     ]
    },
    {
     "name": "stdout",
     "output_type": "stream",
     "text": [
      "[LightGBM] [Warning] Unknown parameter: tree_method\n",
      "[LightGBM] [Warning] lambda_l1 is set=0.028367376264655613, reg_alpha=0.0 will be ignored. Current value: lambda_l1=0.028367376264655613\n",
      "[LightGBM] [Warning] feature_fraction is set=0.2272646459916593, colsample_bytree=1.0 will be ignored. Current value: feature_fraction=0.2272646459916593\n",
      "[LightGBM] [Warning] lambda_l2 is set=6.259848671393187, reg_lambda=0.0 will be ignored. Current value: lambda_l2=6.259848671393187\n",
      "[LightGBM] [Warning] bagging_fraction is set=0.5449452828219629, subsample=1.0 will be ignored. Current value: bagging_fraction=0.5449452828219629\n",
      "[LightGBM] [Warning] Unknown parameter: tree_method\n",
      "[LightGBM] [Warning] lambda_l1 is set=0.028367376264655613, reg_alpha=0.0 will be ignored. Current value: lambda_l1=0.028367376264655613\n",
      "[LightGBM] [Warning] feature_fraction is set=0.2272646459916593, colsample_bytree=1.0 will be ignored. Current value: feature_fraction=0.2272646459916593\n",
      "[LightGBM] [Warning] lambda_l2 is set=6.259848671393187, reg_lambda=0.0 will be ignored. Current value: lambda_l2=6.259848671393187\n",
      "[LightGBM] [Warning] bagging_fraction is set=0.5449452828219629, subsample=1.0 will be ignored. Current value: bagging_fraction=0.5449452828219629\n",
      "[LightGBM] [Warning] Unknown parameter: tree_method\n",
      "[LightGBM] [Warning] lambda_l1 is set=0.028367376264655613, reg_alpha=0.0 will be ignored. Current value: lambda_l1=0.028367376264655613\n",
      "[LightGBM] [Warning] feature_fraction is set=0.2272646459916593, colsample_bytree=1.0 will be ignored. Current value: feature_fraction=0.2272646459916593\n",
      "[LightGBM] [Warning] lambda_l2 is set=6.259848671393187, reg_lambda=0.0 will be ignored. Current value: lambda_l2=6.259848671393187\n",
      "[LightGBM] [Warning] bagging_fraction is set=0.5449452828219629, subsample=1.0 will be ignored. Current value: bagging_fraction=0.5449452828219629\n",
      "[LightGBM] [Warning] Unknown parameter: tree_method\n",
      "[LightGBM] [Warning] lambda_l1 is set=0.028367376264655613, reg_alpha=0.0 will be ignored. Current value: lambda_l1=0.028367376264655613\n",
      "[LightGBM] [Warning] feature_fraction is set=0.2272646459916593, colsample_bytree=1.0 will be ignored. Current value: feature_fraction=0.2272646459916593\n",
      "[LightGBM] [Warning] lambda_l2 is set=6.259848671393187, reg_lambda=0.0 will be ignored. Current value: lambda_l2=6.259848671393187\n",
      "[LightGBM] [Warning] bagging_fraction is set=0.5449452828219629, subsample=1.0 will be ignored. Current value: bagging_fraction=0.5449452828219629\n",
      "[LightGBM] [Warning] Unknown parameter: tree_method\n",
      "[LightGBM] [Warning] lambda_l1 is set=0.028367376264655613, reg_alpha=0.0 will be ignored. Current value: lambda_l1=0.028367376264655613\n",
      "[LightGBM] [Warning] feature_fraction is set=0.2272646459916593, colsample_bytree=1.0 will be ignored. Current value: feature_fraction=0.2272646459916593\n",
      "[LightGBM] [Warning] lambda_l2 is set=6.259848671393187, reg_lambda=0.0 will be ignored. Current value: lambda_l2=6.259848671393187\n",
      "[LightGBM] [Warning] bagging_fraction is set=0.5449452828219629, subsample=1.0 will be ignored. Current value: bagging_fraction=0.5449452828219629\n"
     ]
    },
    {
     "name": "stderr",
     "output_type": "stream",
     "text": [
      "\u001b[32m[I 2023-02-15 05:43:02,698]\u001b[0m Trial 44 finished with value: 0.8898355403730493 and parameters: {'n_estimators': 2458, 'learning_rate': 0.03587688255690074, 'max_depth': 3, 'lambda_l1': 0.028367376264655613, 'lambda_l2': 6.259848671393187, 'num_leaves': 23, 'bagging_fraction': 0.5449452828219629, 'feature_fraction': 0.2272646459916593}. Best is trial 9 with value: 0.9004093855164221.\u001b[0m\n"
     ]
    },
    {
     "name": "stdout",
     "output_type": "stream",
     "text": [
      "[LightGBM] [Warning] Unknown parameter: tree_method\n",
      "[LightGBM] [Warning] lambda_l1 is set=0.05607187426828255, reg_alpha=0.0 will be ignored. Current value: lambda_l1=0.05607187426828255\n",
      "[LightGBM] [Warning] feature_fraction is set=0.3061649302774931, colsample_bytree=1.0 will be ignored. Current value: feature_fraction=0.3061649302774931\n",
      "[LightGBM] [Warning] lambda_l2 is set=1.6430437111729246, reg_lambda=0.0 will be ignored. Current value: lambda_l2=1.6430437111729246\n",
      "[LightGBM] [Warning] bagging_fraction is set=0.6597214136830669, subsample=1.0 will be ignored. Current value: bagging_fraction=0.6597214136830669\n",
      "[LightGBM] [Warning] Unknown parameter: tree_method\n",
      "[LightGBM] [Warning] lambda_l1 is set=0.05607187426828255, reg_alpha=0.0 will be ignored. Current value: lambda_l1=0.05607187426828255\n",
      "[LightGBM] [Warning] feature_fraction is set=0.3061649302774931, colsample_bytree=1.0 will be ignored. Current value: feature_fraction=0.3061649302774931\n",
      "[LightGBM] [Warning] lambda_l2 is set=1.6430437111729246, reg_lambda=0.0 will be ignored. Current value: lambda_l2=1.6430437111729246\n",
      "[LightGBM] [Warning] bagging_fraction is set=0.6597214136830669, subsample=1.0 will be ignored. Current value: bagging_fraction=0.6597214136830669\n",
      "[LightGBM] [Warning] Unknown parameter: tree_method\n",
      "[LightGBM] [Warning] lambda_l1 is set=0.05607187426828255, reg_alpha=0.0 will be ignored. Current value: lambda_l1=0.05607187426828255\n",
      "[LightGBM] [Warning] feature_fraction is set=0.3061649302774931, colsample_bytree=1.0 will be ignored. Current value: feature_fraction=0.3061649302774931\n",
      "[LightGBM] [Warning] lambda_l2 is set=1.6430437111729246, reg_lambda=0.0 will be ignored. Current value: lambda_l2=1.6430437111729246\n",
      "[LightGBM] [Warning] bagging_fraction is set=0.6597214136830669, subsample=1.0 will be ignored. Current value: bagging_fraction=0.6597214136830669\n",
      "[LightGBM] [Warning] Unknown parameter: tree_method\n",
      "[LightGBM] [Warning] lambda_l1 is set=0.05607187426828255, reg_alpha=0.0 will be ignored. Current value: lambda_l1=0.05607187426828255\n",
      "[LightGBM] [Warning] feature_fraction is set=0.3061649302774931, colsample_bytree=1.0 will be ignored. Current value: feature_fraction=0.3061649302774931\n",
      "[LightGBM] [Warning] lambda_l2 is set=1.6430437111729246, reg_lambda=0.0 will be ignored. Current value: lambda_l2=1.6430437111729246\n",
      "[LightGBM] [Warning] bagging_fraction is set=0.6597214136830669, subsample=1.0 will be ignored. Current value: bagging_fraction=0.6597214136830669\n",
      "[LightGBM] [Warning] Unknown parameter: tree_method\n",
      "[LightGBM] [Warning] lambda_l1 is set=0.05607187426828255, reg_alpha=0.0 will be ignored. Current value: lambda_l1=0.05607187426828255\n",
      "[LightGBM] [Warning] feature_fraction is set=0.3061649302774931, colsample_bytree=1.0 will be ignored. Current value: feature_fraction=0.3061649302774931\n",
      "[LightGBM] [Warning] lambda_l2 is set=1.6430437111729246, reg_lambda=0.0 will be ignored. Current value: lambda_l2=1.6430437111729246\n",
      "[LightGBM] [Warning] bagging_fraction is set=0.6597214136830669, subsample=1.0 will be ignored. Current value: bagging_fraction=0.6597214136830669\n"
     ]
    },
    {
     "name": "stderr",
     "output_type": "stream",
     "text": [
      "\u001b[32m[I 2023-02-15 05:44:07,337]\u001b[0m Trial 45 finished with value: 0.8889552869940974 and parameters: {'n_estimators': 8892, 'learning_rate': 0.09598346640671584, 'max_depth': 5, 'lambda_l1': 0.05607187426828255, 'lambda_l2': 1.6430437111729246, 'num_leaves': 16, 'bagging_fraction': 0.6597214136830669, 'feature_fraction': 0.3061649302774931}. Best is trial 9 with value: 0.9004093855164221.\u001b[0m\n"
     ]
    },
    {
     "name": "stdout",
     "output_type": "stream",
     "text": [
      "[LightGBM] [Warning] Unknown parameter: tree_method\n",
      "[LightGBM] [Warning] lambda_l1 is set=0.7965240040635698, reg_alpha=0.0 will be ignored. Current value: lambda_l1=0.7965240040635698\n",
      "[LightGBM] [Warning] feature_fraction is set=0.34971946676665777, colsample_bytree=1.0 will be ignored. Current value: feature_fraction=0.34971946676665777\n",
      "[LightGBM] [Warning] lambda_l2 is set=1.220772002639606, reg_lambda=0.0 will be ignored. Current value: lambda_l2=1.220772002639606\n",
      "[LightGBM] [Warning] bagging_fraction is set=0.5128411534772048, subsample=1.0 will be ignored. Current value: bagging_fraction=0.5128411534772048\n",
      "[LightGBM] [Warning] Unknown parameter: tree_method\n",
      "[LightGBM] [Warning] lambda_l1 is set=0.7965240040635698, reg_alpha=0.0 will be ignored. Current value: lambda_l1=0.7965240040635698\n",
      "[LightGBM] [Warning] feature_fraction is set=0.34971946676665777, colsample_bytree=1.0 will be ignored. Current value: feature_fraction=0.34971946676665777\n",
      "[LightGBM] [Warning] lambda_l2 is set=1.220772002639606, reg_lambda=0.0 will be ignored. Current value: lambda_l2=1.220772002639606\n",
      "[LightGBM] [Warning] bagging_fraction is set=0.5128411534772048, subsample=1.0 will be ignored. Current value: bagging_fraction=0.5128411534772048\n",
      "[LightGBM] [Warning] Unknown parameter: tree_method\n",
      "[LightGBM] [Warning] lambda_l1 is set=0.7965240040635698, reg_alpha=0.0 will be ignored. Current value: lambda_l1=0.7965240040635698\n",
      "[LightGBM] [Warning] feature_fraction is set=0.34971946676665777, colsample_bytree=1.0 will be ignored. Current value: feature_fraction=0.34971946676665777\n",
      "[LightGBM] [Warning] lambda_l2 is set=1.220772002639606, reg_lambda=0.0 will be ignored. Current value: lambda_l2=1.220772002639606\n",
      "[LightGBM] [Warning] bagging_fraction is set=0.5128411534772048, subsample=1.0 will be ignored. Current value: bagging_fraction=0.5128411534772048\n",
      "[LightGBM] [Warning] Unknown parameter: tree_method\n",
      "[LightGBM] [Warning] lambda_l1 is set=0.7965240040635698, reg_alpha=0.0 will be ignored. Current value: lambda_l1=0.7965240040635698\n",
      "[LightGBM] [Warning] feature_fraction is set=0.34971946676665777, colsample_bytree=1.0 will be ignored. Current value: feature_fraction=0.34971946676665777\n",
      "[LightGBM] [Warning] lambda_l2 is set=1.220772002639606, reg_lambda=0.0 will be ignored. Current value: lambda_l2=1.220772002639606\n",
      "[LightGBM] [Warning] bagging_fraction is set=0.5128411534772048, subsample=1.0 will be ignored. Current value: bagging_fraction=0.5128411534772048\n",
      "[LightGBM] [Warning] Unknown parameter: tree_method\n",
      "[LightGBM] [Warning] lambda_l1 is set=0.7965240040635698, reg_alpha=0.0 will be ignored. Current value: lambda_l1=0.7965240040635698\n",
      "[LightGBM] [Warning] feature_fraction is set=0.34971946676665777, colsample_bytree=1.0 will be ignored. Current value: feature_fraction=0.34971946676665777\n",
      "[LightGBM] [Warning] lambda_l2 is set=1.220772002639606, reg_lambda=0.0 will be ignored. Current value: lambda_l2=1.220772002639606\n",
      "[LightGBM] [Warning] bagging_fraction is set=0.5128411534772048, subsample=1.0 will be ignored. Current value: bagging_fraction=0.5128411534772048\n"
     ]
    },
    {
     "name": "stderr",
     "output_type": "stream",
     "text": [
      "\u001b[32m[I 2023-02-15 05:44:22,025]\u001b[0m Trial 46 finished with value: 0.8980791834736712 and parameters: {'n_estimators': 1534, 'learning_rate': 0.05929026293183463, 'max_depth': 7, 'lambda_l1': 0.7965240040635698, 'lambda_l2': 1.220772002639606, 'num_leaves': 28, 'bagging_fraction': 0.5128411534772048, 'feature_fraction': 0.34971946676665777}. Best is trial 9 with value: 0.9004093855164221.\u001b[0m\n"
     ]
    },
    {
     "name": "stdout",
     "output_type": "stream",
     "text": [
      "[LightGBM] [Warning] Unknown parameter: tree_method\n",
      "[LightGBM] [Warning] lambda_l1 is set=0.013444249105438552, reg_alpha=0.0 will be ignored. Current value: lambda_l1=0.013444249105438552\n",
      "[LightGBM] [Warning] feature_fraction is set=0.3939735964470093, colsample_bytree=1.0 will be ignored. Current value: feature_fraction=0.3939735964470093\n",
      "[LightGBM] [Warning] lambda_l2 is set=2.616963413571299, reg_lambda=0.0 will be ignored. Current value: lambda_l2=2.616963413571299\n",
      "[LightGBM] [Warning] bagging_fraction is set=0.633206481505231, subsample=1.0 will be ignored. Current value: bagging_fraction=0.633206481505231\n",
      "[LightGBM] [Warning] Unknown parameter: tree_method\n",
      "[LightGBM] [Warning] lambda_l1 is set=0.013444249105438552, reg_alpha=0.0 will be ignored. Current value: lambda_l1=0.013444249105438552\n",
      "[LightGBM] [Warning] feature_fraction is set=0.3939735964470093, colsample_bytree=1.0 will be ignored. Current value: feature_fraction=0.3939735964470093\n",
      "[LightGBM] [Warning] lambda_l2 is set=2.616963413571299, reg_lambda=0.0 will be ignored. Current value: lambda_l2=2.616963413571299\n",
      "[LightGBM] [Warning] bagging_fraction is set=0.633206481505231, subsample=1.0 will be ignored. Current value: bagging_fraction=0.633206481505231\n",
      "[LightGBM] [Warning] Unknown parameter: tree_method\n",
      "[LightGBM] [Warning] lambda_l1 is set=0.013444249105438552, reg_alpha=0.0 will be ignored. Current value: lambda_l1=0.013444249105438552\n",
      "[LightGBM] [Warning] feature_fraction is set=0.3939735964470093, colsample_bytree=1.0 will be ignored. Current value: feature_fraction=0.3939735964470093\n",
      "[LightGBM] [Warning] lambda_l2 is set=2.616963413571299, reg_lambda=0.0 will be ignored. Current value: lambda_l2=2.616963413571299\n",
      "[LightGBM] [Warning] bagging_fraction is set=0.633206481505231, subsample=1.0 will be ignored. Current value: bagging_fraction=0.633206481505231\n",
      "[LightGBM] [Warning] Unknown parameter: tree_method\n",
      "[LightGBM] [Warning] lambda_l1 is set=0.013444249105438552, reg_alpha=0.0 will be ignored. Current value: lambda_l1=0.013444249105438552\n",
      "[LightGBM] [Warning] feature_fraction is set=0.3939735964470093, colsample_bytree=1.0 will be ignored. Current value: feature_fraction=0.3939735964470093\n",
      "[LightGBM] [Warning] lambda_l2 is set=2.616963413571299, reg_lambda=0.0 will be ignored. Current value: lambda_l2=2.616963413571299\n",
      "[LightGBM] [Warning] bagging_fraction is set=0.633206481505231, subsample=1.0 will be ignored. Current value: bagging_fraction=0.633206481505231\n",
      "[LightGBM] [Warning] Unknown parameter: tree_method\n",
      "[LightGBM] [Warning] lambda_l1 is set=0.013444249105438552, reg_alpha=0.0 will be ignored. Current value: lambda_l1=0.013444249105438552\n",
      "[LightGBM] [Warning] feature_fraction is set=0.3939735964470093, colsample_bytree=1.0 will be ignored. Current value: feature_fraction=0.3939735964470093\n",
      "[LightGBM] [Warning] lambda_l2 is set=2.616963413571299, reg_lambda=0.0 will be ignored. Current value: lambda_l2=2.616963413571299\n",
      "[LightGBM] [Warning] bagging_fraction is set=0.633206481505231, subsample=1.0 will be ignored. Current value: bagging_fraction=0.633206481505231\n"
     ]
    },
    {
     "name": "stderr",
     "output_type": "stream",
     "text": [
      "\u001b[32m[I 2023-02-15 05:44:45,466]\u001b[0m Trial 47 finished with value: 0.8975772545542039 and parameters: {'n_estimators': 4067, 'learning_rate': 0.02275737828246434, 'max_depth': 3, 'lambda_l1': 0.013444249105438552, 'lambda_l2': 2.616963413571299, 'num_leaves': 82, 'bagging_fraction': 0.633206481505231, 'feature_fraction': 0.3939735964470093}. Best is trial 9 with value: 0.9004093855164221.\u001b[0m\n"
     ]
    },
    {
     "name": "stdout",
     "output_type": "stream",
     "text": [
      "[LightGBM] [Warning] Unknown parameter: tree_method\n",
      "[LightGBM] [Warning] lambda_l1 is set=0.03954059728439681, reg_alpha=0.0 will be ignored. Current value: lambda_l1=0.03954059728439681\n",
      "[LightGBM] [Warning] feature_fraction is set=0.22846915638700868, colsample_bytree=1.0 will be ignored. Current value: feature_fraction=0.22846915638700868\n",
      "[LightGBM] [Warning] lambda_l2 is set=1.708987339211003, reg_lambda=0.0 will be ignored. Current value: lambda_l2=1.708987339211003\n",
      "[LightGBM] [Warning] bagging_fraction is set=0.4520247675339837, subsample=1.0 will be ignored. Current value: bagging_fraction=0.4520247675339837\n",
      "[LightGBM] [Warning] Unknown parameter: tree_method\n",
      "[LightGBM] [Warning] lambda_l1 is set=0.03954059728439681, reg_alpha=0.0 will be ignored. Current value: lambda_l1=0.03954059728439681\n",
      "[LightGBM] [Warning] feature_fraction is set=0.22846915638700868, colsample_bytree=1.0 will be ignored. Current value: feature_fraction=0.22846915638700868\n",
      "[LightGBM] [Warning] lambda_l2 is set=1.708987339211003, reg_lambda=0.0 will be ignored. Current value: lambda_l2=1.708987339211003\n",
      "[LightGBM] [Warning] bagging_fraction is set=0.4520247675339837, subsample=1.0 will be ignored. Current value: bagging_fraction=0.4520247675339837\n",
      "[LightGBM] [Warning] Unknown parameter: tree_method\n",
      "[LightGBM] [Warning] lambda_l1 is set=0.03954059728439681, reg_alpha=0.0 will be ignored. Current value: lambda_l1=0.03954059728439681\n",
      "[LightGBM] [Warning] feature_fraction is set=0.22846915638700868, colsample_bytree=1.0 will be ignored. Current value: feature_fraction=0.22846915638700868\n",
      "[LightGBM] [Warning] lambda_l2 is set=1.708987339211003, reg_lambda=0.0 will be ignored. Current value: lambda_l2=1.708987339211003\n",
      "[LightGBM] [Warning] bagging_fraction is set=0.4520247675339837, subsample=1.0 will be ignored. Current value: bagging_fraction=0.4520247675339837\n",
      "[LightGBM] [Warning] Unknown parameter: tree_method\n",
      "[LightGBM] [Warning] lambda_l1 is set=0.03954059728439681, reg_alpha=0.0 will be ignored. Current value: lambda_l1=0.03954059728439681\n",
      "[LightGBM] [Warning] feature_fraction is set=0.22846915638700868, colsample_bytree=1.0 will be ignored. Current value: feature_fraction=0.22846915638700868\n",
      "[LightGBM] [Warning] lambda_l2 is set=1.708987339211003, reg_lambda=0.0 will be ignored. Current value: lambda_l2=1.708987339211003\n",
      "[LightGBM] [Warning] bagging_fraction is set=0.4520247675339837, subsample=1.0 will be ignored. Current value: bagging_fraction=0.4520247675339837\n",
      "[LightGBM] [Warning] Unknown parameter: tree_method\n",
      "[LightGBM] [Warning] lambda_l1 is set=0.03954059728439681, reg_alpha=0.0 will be ignored. Current value: lambda_l1=0.03954059728439681\n",
      "[LightGBM] [Warning] feature_fraction is set=0.22846915638700868, colsample_bytree=1.0 will be ignored. Current value: feature_fraction=0.22846915638700868\n",
      "[LightGBM] [Warning] lambda_l2 is set=1.708987339211003, reg_lambda=0.0 will be ignored. Current value: lambda_l2=1.708987339211003\n",
      "[LightGBM] [Warning] bagging_fraction is set=0.4520247675339837, subsample=1.0 will be ignored. Current value: bagging_fraction=0.4520247675339837\n"
     ]
    },
    {
     "name": "stderr",
     "output_type": "stream",
     "text": [
      "\u001b[32m[I 2023-02-15 05:45:05,342]\u001b[0m Trial 48 finished with value: 0.8956649143131482 and parameters: {'n_estimators': 2765, 'learning_rate': 0.06656121392535069, 'max_depth': 6, 'lambda_l1': 0.03954059728439681, 'lambda_l2': 1.708987339211003, 'num_leaves': 13, 'bagging_fraction': 0.4520247675339837, 'feature_fraction': 0.22846915638700868}. Best is trial 9 with value: 0.9004093855164221.\u001b[0m\n"
     ]
    },
    {
     "name": "stdout",
     "output_type": "stream",
     "text": [
      "[LightGBM] [Warning] Unknown parameter: tree_method\n",
      "[LightGBM] [Warning] lambda_l1 is set=0.023149159362266667, reg_alpha=0.0 will be ignored. Current value: lambda_l1=0.023149159362266667\n",
      "[LightGBM] [Warning] feature_fraction is set=0.2935412866535652, colsample_bytree=1.0 will be ignored. Current value: feature_fraction=0.2935412866535652\n",
      "[LightGBM] [Warning] lambda_l2 is set=4.978097117875869, reg_lambda=0.0 will be ignored. Current value: lambda_l2=4.978097117875869\n",
      "[LightGBM] [Warning] bagging_fraction is set=0.7227034632161461, subsample=1.0 will be ignored. Current value: bagging_fraction=0.7227034632161461\n",
      "[LightGBM] [Warning] Unknown parameter: tree_method\n",
      "[LightGBM] [Warning] lambda_l1 is set=0.023149159362266667, reg_alpha=0.0 will be ignored. Current value: lambda_l1=0.023149159362266667\n",
      "[LightGBM] [Warning] feature_fraction is set=0.2935412866535652, colsample_bytree=1.0 will be ignored. Current value: feature_fraction=0.2935412866535652\n",
      "[LightGBM] [Warning] lambda_l2 is set=4.978097117875869, reg_lambda=0.0 will be ignored. Current value: lambda_l2=4.978097117875869\n",
      "[LightGBM] [Warning] bagging_fraction is set=0.7227034632161461, subsample=1.0 will be ignored. Current value: bagging_fraction=0.7227034632161461\n",
      "[LightGBM] [Warning] Unknown parameter: tree_method\n",
      "[LightGBM] [Warning] lambda_l1 is set=0.023149159362266667, reg_alpha=0.0 will be ignored. Current value: lambda_l1=0.023149159362266667\n",
      "[LightGBM] [Warning] feature_fraction is set=0.2935412866535652, colsample_bytree=1.0 will be ignored. Current value: feature_fraction=0.2935412866535652\n",
      "[LightGBM] [Warning] lambda_l2 is set=4.978097117875869, reg_lambda=0.0 will be ignored. Current value: lambda_l2=4.978097117875869\n",
      "[LightGBM] [Warning] bagging_fraction is set=0.7227034632161461, subsample=1.0 will be ignored. Current value: bagging_fraction=0.7227034632161461\n",
      "[LightGBM] [Warning] Unknown parameter: tree_method\n",
      "[LightGBM] [Warning] lambda_l1 is set=0.023149159362266667, reg_alpha=0.0 will be ignored. Current value: lambda_l1=0.023149159362266667\n",
      "[LightGBM] [Warning] feature_fraction is set=0.2935412866535652, colsample_bytree=1.0 will be ignored. Current value: feature_fraction=0.2935412866535652\n",
      "[LightGBM] [Warning] lambda_l2 is set=4.978097117875869, reg_lambda=0.0 will be ignored. Current value: lambda_l2=4.978097117875869\n",
      "[LightGBM] [Warning] bagging_fraction is set=0.7227034632161461, subsample=1.0 will be ignored. Current value: bagging_fraction=0.7227034632161461\n",
      "[LightGBM] [Warning] Unknown parameter: tree_method\n",
      "[LightGBM] [Warning] lambda_l1 is set=0.023149159362266667, reg_alpha=0.0 will be ignored. Current value: lambda_l1=0.023149159362266667\n",
      "[LightGBM] [Warning] feature_fraction is set=0.2935412866535652, colsample_bytree=1.0 will be ignored. Current value: feature_fraction=0.2935412866535652\n",
      "[LightGBM] [Warning] lambda_l2 is set=4.978097117875869, reg_lambda=0.0 will be ignored. Current value: lambda_l2=4.978097117875869\n",
      "[LightGBM] [Warning] bagging_fraction is set=0.7227034632161461, subsample=1.0 will be ignored. Current value: bagging_fraction=0.7227034632161461\n"
     ]
    },
    {
     "name": "stderr",
     "output_type": "stream",
     "text": [
      "\u001b[32m[I 2023-02-15 05:45:10,979]\u001b[0m Trial 49 finished with value: 0.8990234157952613 and parameters: {'n_estimators': 846, 'learning_rate': 0.17510532759263264, 'max_depth': 4, 'lambda_l1': 0.023149159362266667, 'lambda_l2': 4.978097117875869, 'num_leaves': 35, 'bagging_fraction': 0.7227034632161461, 'feature_fraction': 0.2935412866535652}. Best is trial 9 with value: 0.9004093855164221.\u001b[0m\n"
     ]
    }
   ],
   "source": [
    "N_TRIALS = 50\n",
    "SEED = 42\n",
    "\n",
    "study = optuna.create_study(direction = 'maximize')\n",
    "study.optimize(Objective(SEED), n_trials = N_TRIALS)"
   ]
  },
  {
   "cell_type": "code",
   "execution_count": null,
   "id": "6990f9d9",
   "metadata": {},
   "outputs": [],
   "source": [
    "study.best_trial.values"
   ]
  },
  {
   "cell_type": "code",
   "execution_count": null,
   "id": "69c6f316",
   "metadata": {},
   "outputs": [],
   "source": [
    "study.best_trial.params"
   ]
  },
  {
   "cell_type": "code",
   "execution_count": null,
   "id": "2eed8e4b",
   "metadata": {},
   "outputs": [],
   "source": []
  },
  {
   "cell_type": "code",
   "execution_count": null,
   "id": "4b420a1f",
   "metadata": {},
   "outputs": [],
   "source": []
  },
  {
   "cell_type": "code",
   "execution_count": null,
   "id": "99f273f8",
   "metadata": {},
   "outputs": [],
   "source": []
  },
  {
   "cell_type": "code",
   "execution_count": 65,
   "id": "790ec529",
   "metadata": {},
   "outputs": [],
   "source": [
    "train_lgb = train.copy()\n",
    "test_lgb = test.copy()\n",
    "\n",
    "X = train_lgb.drop(columns = ['id', 'booking_status'], axis = 1)\n",
    "Y = train_lgb['booking_status']\n",
    "\n",
    "test_lgb = test_lgb.drop(columns = ['id'], axis = 1)"
   ]
  },
  {
   "cell_type": "code",
   "execution_count": 66,
   "id": "83b2b323",
   "metadata": {},
   "outputs": [
    {
     "name": "stdout",
     "output_type": "stream",
     "text": [
      "[LightGBM] [Warning] lambda_l1 is set=3.4343007400000185, reg_alpha=0.0 will be ignored. Current value: lambda_l1=3.4343007400000185\n",
      "[LightGBM] [Warning] feature_fraction is set=0.29190676287540945, colsample_bytree=1.0 will be ignored. Current value: feature_fraction=0.29190676287540945\n",
      "[LightGBM] [Warning] lambda_l2 is set=2.4712185408144425, reg_lambda=0.0 will be ignored. Current value: lambda_l2=2.4712185408144425\n",
      "[LightGBM] [Warning] bagging_fraction is set=0.6704473114789922, subsample=1.0 will be ignored. Current value: bagging_fraction=0.6704473114789922\n",
      "[LightGBM] [Warning] lambda_l1 is set=3.4343007400000185, reg_alpha=0.0 will be ignored. Current value: lambda_l1=3.4343007400000185\n",
      "[LightGBM] [Warning] feature_fraction is set=0.29190676287540945, colsample_bytree=1.0 will be ignored. Current value: feature_fraction=0.29190676287540945\n",
      "[LightGBM] [Warning] lambda_l2 is set=2.4712185408144425, reg_lambda=0.0 will be ignored. Current value: lambda_l2=2.4712185408144425\n",
      "[LightGBM] [Warning] bagging_fraction is set=0.6704473114789922, subsample=1.0 will be ignored. Current value: bagging_fraction=0.6704473114789922\n",
      "[LightGBM] [Warning] lambda_l1 is set=3.4343007400000185, reg_alpha=0.0 will be ignored. Current value: lambda_l1=3.4343007400000185\n",
      "[LightGBM] [Warning] feature_fraction is set=0.29190676287540945, colsample_bytree=1.0 will be ignored. Current value: feature_fraction=0.29190676287540945\n",
      "[LightGBM] [Warning] lambda_l2 is set=2.4712185408144425, reg_lambda=0.0 will be ignored. Current value: lambda_l2=2.4712185408144425\n",
      "[LightGBM] [Warning] bagging_fraction is set=0.6704473114789922, subsample=1.0 will be ignored. Current value: bagging_fraction=0.6704473114789922\n",
      "[LightGBM] [Warning] lambda_l1 is set=3.4343007400000185, reg_alpha=0.0 will be ignored. Current value: lambda_l1=3.4343007400000185\n",
      "[LightGBM] [Warning] feature_fraction is set=0.29190676287540945, colsample_bytree=1.0 will be ignored. Current value: feature_fraction=0.29190676287540945\n",
      "[LightGBM] [Warning] lambda_l2 is set=2.4712185408144425, reg_lambda=0.0 will be ignored. Current value: lambda_l2=2.4712185408144425\n",
      "[LightGBM] [Warning] bagging_fraction is set=0.6704473114789922, subsample=1.0 will be ignored. Current value: bagging_fraction=0.6704473114789922\n",
      "[LightGBM] [Warning] lambda_l1 is set=3.4343007400000185, reg_alpha=0.0 will be ignored. Current value: lambda_l1=3.4343007400000185\n",
      "[LightGBM] [Warning] feature_fraction is set=0.29190676287540945, colsample_bytree=1.0 will be ignored. Current value: feature_fraction=0.29190676287540945\n",
      "[LightGBM] [Warning] lambda_l2 is set=2.4712185408144425, reg_lambda=0.0 will be ignored. Current value: lambda_l2=2.4712185408144425\n",
      "[LightGBM] [Warning] bagging_fraction is set=0.6704473114789922, subsample=1.0 will be ignored. Current value: bagging_fraction=0.6704473114789922\n",
      "[LightGBM] [Warning] lambda_l1 is set=3.4343007400000185, reg_alpha=0.0 will be ignored. Current value: lambda_l1=3.4343007400000185\n",
      "[LightGBM] [Warning] feature_fraction is set=0.29190676287540945, colsample_bytree=1.0 will be ignored. Current value: feature_fraction=0.29190676287540945\n",
      "[LightGBM] [Warning] lambda_l2 is set=2.4712185408144425, reg_lambda=0.0 will be ignored. Current value: lambda_l2=2.4712185408144425\n",
      "[LightGBM] [Warning] bagging_fraction is set=0.6704473114789922, subsample=1.0 will be ignored. Current value: bagging_fraction=0.6704473114789922\n",
      "[LightGBM] [Warning] lambda_l1 is set=3.4343007400000185, reg_alpha=0.0 will be ignored. Current value: lambda_l1=3.4343007400000185\n",
      "[LightGBM] [Warning] feature_fraction is set=0.29190676287540945, colsample_bytree=1.0 will be ignored. Current value: feature_fraction=0.29190676287540945\n",
      "[LightGBM] [Warning] lambda_l2 is set=2.4712185408144425, reg_lambda=0.0 will be ignored. Current value: lambda_l2=2.4712185408144425\n",
      "[LightGBM] [Warning] bagging_fraction is set=0.6704473114789922, subsample=1.0 will be ignored. Current value: bagging_fraction=0.6704473114789922\n",
      "[LightGBM] [Warning] lambda_l1 is set=3.4343007400000185, reg_alpha=0.0 will be ignored. Current value: lambda_l1=3.4343007400000185\n",
      "[LightGBM] [Warning] feature_fraction is set=0.29190676287540945, colsample_bytree=1.0 will be ignored. Current value: feature_fraction=0.29190676287540945\n",
      "[LightGBM] [Warning] lambda_l2 is set=2.4712185408144425, reg_lambda=0.0 will be ignored. Current value: lambda_l2=2.4712185408144425\n",
      "[LightGBM] [Warning] bagging_fraction is set=0.6704473114789922, subsample=1.0 will be ignored. Current value: bagging_fraction=0.6704473114789922\n",
      "[LightGBM] [Warning] lambda_l1 is set=3.4343007400000185, reg_alpha=0.0 will be ignored. Current value: lambda_l1=3.4343007400000185\n",
      "[LightGBM] [Warning] feature_fraction is set=0.29190676287540945, colsample_bytree=1.0 will be ignored. Current value: feature_fraction=0.29190676287540945\n",
      "[LightGBM] [Warning] lambda_l2 is set=2.4712185408144425, reg_lambda=0.0 will be ignored. Current value: lambda_l2=2.4712185408144425\n",
      "[LightGBM] [Warning] bagging_fraction is set=0.6704473114789922, subsample=1.0 will be ignored. Current value: bagging_fraction=0.6704473114789922\n",
      "[LightGBM] [Warning] lambda_l1 is set=3.4343007400000185, reg_alpha=0.0 will be ignored. Current value: lambda_l1=3.4343007400000185\n",
      "[LightGBM] [Warning] feature_fraction is set=0.29190676287540945, colsample_bytree=1.0 will be ignored. Current value: feature_fraction=0.29190676287540945\n",
      "[LightGBM] [Warning] lambda_l2 is set=2.4712185408144425, reg_lambda=0.0 will be ignored. Current value: lambda_l2=2.4712185408144425\n",
      "[LightGBM] [Warning] bagging_fraction is set=0.6704473114789922, subsample=1.0 will be ignored. Current value: bagging_fraction=0.6704473114789922\n",
      "[LightGBM] [Warning] lambda_l1 is set=3.4343007400000185, reg_alpha=0.0 will be ignored. Current value: lambda_l1=3.4343007400000185\n",
      "[LightGBM] [Warning] feature_fraction is set=0.29190676287540945, colsample_bytree=1.0 will be ignored. Current value: feature_fraction=0.29190676287540945\n",
      "[LightGBM] [Warning] lambda_l2 is set=2.4712185408144425, reg_lambda=0.0 will be ignored. Current value: lambda_l2=2.4712185408144425\n",
      "[LightGBM] [Warning] bagging_fraction is set=0.6704473114789922, subsample=1.0 will be ignored. Current value: bagging_fraction=0.6704473114789922\n",
      "[LightGBM] [Warning] lambda_l1 is set=3.4343007400000185, reg_alpha=0.0 will be ignored. Current value: lambda_l1=3.4343007400000185\n",
      "[LightGBM] [Warning] feature_fraction is set=0.29190676287540945, colsample_bytree=1.0 will be ignored. Current value: feature_fraction=0.29190676287540945\n",
      "[LightGBM] [Warning] lambda_l2 is set=2.4712185408144425, reg_lambda=0.0 will be ignored. Current value: lambda_l2=2.4712185408144425\n",
      "[LightGBM] [Warning] bagging_fraction is set=0.6704473114789922, subsample=1.0 will be ignored. Current value: bagging_fraction=0.6704473114789922\n",
      "[LightGBM] [Warning] lambda_l1 is set=3.4343007400000185, reg_alpha=0.0 will be ignored. Current value: lambda_l1=3.4343007400000185\n",
      "[LightGBM] [Warning] feature_fraction is set=0.29190676287540945, colsample_bytree=1.0 will be ignored. Current value: feature_fraction=0.29190676287540945\n",
      "[LightGBM] [Warning] lambda_l2 is set=2.4712185408144425, reg_lambda=0.0 will be ignored. Current value: lambda_l2=2.4712185408144425\n",
      "[LightGBM] [Warning] bagging_fraction is set=0.6704473114789922, subsample=1.0 will be ignored. Current value: bagging_fraction=0.6704473114789922\n",
      "[LightGBM] [Warning] lambda_l1 is set=3.4343007400000185, reg_alpha=0.0 will be ignored. Current value: lambda_l1=3.4343007400000185\n",
      "[LightGBM] [Warning] feature_fraction is set=0.29190676287540945, colsample_bytree=1.0 will be ignored. Current value: feature_fraction=0.29190676287540945\n",
      "[LightGBM] [Warning] lambda_l2 is set=2.4712185408144425, reg_lambda=0.0 will be ignored. Current value: lambda_l2=2.4712185408144425\n",
      "[LightGBM] [Warning] bagging_fraction is set=0.6704473114789922, subsample=1.0 will be ignored. Current value: bagging_fraction=0.6704473114789922\n",
      "[LightGBM] [Warning] lambda_l1 is set=3.4343007400000185, reg_alpha=0.0 will be ignored. Current value: lambda_l1=3.4343007400000185\n",
      "[LightGBM] [Warning] feature_fraction is set=0.29190676287540945, colsample_bytree=1.0 will be ignored. Current value: feature_fraction=0.29190676287540945\n",
      "[LightGBM] [Warning] lambda_l2 is set=2.4712185408144425, reg_lambda=0.0 will be ignored. Current value: lambda_l2=2.4712185408144425\n",
      "[LightGBM] [Warning] bagging_fraction is set=0.6704473114789922, subsample=1.0 will be ignored. Current value: bagging_fraction=0.6704473114789922\n",
      "[LightGBM] [Warning] lambda_l1 is set=3.4343007400000185, reg_alpha=0.0 will be ignored. Current value: lambda_l1=3.4343007400000185\n",
      "[LightGBM] [Warning] feature_fraction is set=0.29190676287540945, colsample_bytree=1.0 will be ignored. Current value: feature_fraction=0.29190676287540945\n",
      "[LightGBM] [Warning] lambda_l2 is set=2.4712185408144425, reg_lambda=0.0 will be ignored. Current value: lambda_l2=2.4712185408144425\n",
      "[LightGBM] [Warning] bagging_fraction is set=0.6704473114789922, subsample=1.0 will be ignored. Current value: bagging_fraction=0.6704473114789922\n",
      "[LightGBM] [Warning] lambda_l1 is set=3.4343007400000185, reg_alpha=0.0 will be ignored. Current value: lambda_l1=3.4343007400000185\n",
      "[LightGBM] [Warning] feature_fraction is set=0.29190676287540945, colsample_bytree=1.0 will be ignored. Current value: feature_fraction=0.29190676287540945\n",
      "[LightGBM] [Warning] lambda_l2 is set=2.4712185408144425, reg_lambda=0.0 will be ignored. Current value: lambda_l2=2.4712185408144425\n",
      "[LightGBM] [Warning] bagging_fraction is set=0.6704473114789922, subsample=1.0 will be ignored. Current value: bagging_fraction=0.6704473114789922\n",
      "[LightGBM] [Warning] lambda_l1 is set=3.4343007400000185, reg_alpha=0.0 will be ignored. Current value: lambda_l1=3.4343007400000185\n",
      "[LightGBM] [Warning] feature_fraction is set=0.29190676287540945, colsample_bytree=1.0 will be ignored. Current value: feature_fraction=0.29190676287540945\n",
      "[LightGBM] [Warning] lambda_l2 is set=2.4712185408144425, reg_lambda=0.0 will be ignored. Current value: lambda_l2=2.4712185408144425\n",
      "[LightGBM] [Warning] bagging_fraction is set=0.6704473114789922, subsample=1.0 will be ignored. Current value: bagging_fraction=0.6704473114789922\n",
      "[LightGBM] [Warning] lambda_l1 is set=3.4343007400000185, reg_alpha=0.0 will be ignored. Current value: lambda_l1=3.4343007400000185\n",
      "[LightGBM] [Warning] feature_fraction is set=0.29190676287540945, colsample_bytree=1.0 will be ignored. Current value: feature_fraction=0.29190676287540945\n",
      "[LightGBM] [Warning] lambda_l2 is set=2.4712185408144425, reg_lambda=0.0 will be ignored. Current value: lambda_l2=2.4712185408144425\n",
      "[LightGBM] [Warning] bagging_fraction is set=0.6704473114789922, subsample=1.0 will be ignored. Current value: bagging_fraction=0.6704473114789922\n",
      "[LightGBM] [Warning] lambda_l1 is set=3.4343007400000185, reg_alpha=0.0 will be ignored. Current value: lambda_l1=3.4343007400000185\n",
      "[LightGBM] [Warning] feature_fraction is set=0.29190676287540945, colsample_bytree=1.0 will be ignored. Current value: feature_fraction=0.29190676287540945\n",
      "[LightGBM] [Warning] lambda_l2 is set=2.4712185408144425, reg_lambda=0.0 will be ignored. Current value: lambda_l2=2.4712185408144425\n",
      "[LightGBM] [Warning] bagging_fraction is set=0.6704473114789922, subsample=1.0 will be ignored. Current value: bagging_fraction=0.6704473114789922\n",
      "[LightGBM] [Warning] lambda_l1 is set=3.4343007400000185, reg_alpha=0.0 will be ignored. Current value: lambda_l1=3.4343007400000185\n",
      "[LightGBM] [Warning] feature_fraction is set=0.29190676287540945, colsample_bytree=1.0 will be ignored. Current value: feature_fraction=0.29190676287540945\n",
      "[LightGBM] [Warning] lambda_l2 is set=2.4712185408144425, reg_lambda=0.0 will be ignored. Current value: lambda_l2=2.4712185408144425\n",
      "[LightGBM] [Warning] bagging_fraction is set=0.6704473114789922, subsample=1.0 will be ignored. Current value: bagging_fraction=0.6704473114789922\n",
      "[LightGBM] [Warning] lambda_l1 is set=3.4343007400000185, reg_alpha=0.0 will be ignored. Current value: lambda_l1=3.4343007400000185\n",
      "[LightGBM] [Warning] feature_fraction is set=0.29190676287540945, colsample_bytree=1.0 will be ignored. Current value: feature_fraction=0.29190676287540945\n",
      "[LightGBM] [Warning] lambda_l2 is set=2.4712185408144425, reg_lambda=0.0 will be ignored. Current value: lambda_l2=2.4712185408144425\n",
      "[LightGBM] [Warning] bagging_fraction is set=0.6704473114789922, subsample=1.0 will be ignored. Current value: bagging_fraction=0.6704473114789922\n",
      "[LightGBM] [Warning] lambda_l1 is set=3.4343007400000185, reg_alpha=0.0 will be ignored. Current value: lambda_l1=3.4343007400000185\n",
      "[LightGBM] [Warning] feature_fraction is set=0.29190676287540945, colsample_bytree=1.0 will be ignored. Current value: feature_fraction=0.29190676287540945\n",
      "[LightGBM] [Warning] lambda_l2 is set=2.4712185408144425, reg_lambda=0.0 will be ignored. Current value: lambda_l2=2.4712185408144425\n",
      "[LightGBM] [Warning] bagging_fraction is set=0.6704473114789922, subsample=1.0 will be ignored. Current value: bagging_fraction=0.6704473114789922\n",
      "[LightGBM] [Warning] lambda_l1 is set=3.4343007400000185, reg_alpha=0.0 will be ignored. Current value: lambda_l1=3.4343007400000185\n",
      "[LightGBM] [Warning] feature_fraction is set=0.29190676287540945, colsample_bytree=1.0 will be ignored. Current value: feature_fraction=0.29190676287540945\n",
      "[LightGBM] [Warning] lambda_l2 is set=2.4712185408144425, reg_lambda=0.0 will be ignored. Current value: lambda_l2=2.4712185408144425\n",
      "[LightGBM] [Warning] bagging_fraction is set=0.6704473114789922, subsample=1.0 will be ignored. Current value: bagging_fraction=0.6704473114789922\n",
      "[LightGBM] [Warning] lambda_l1 is set=3.4343007400000185, reg_alpha=0.0 will be ignored. Current value: lambda_l1=3.4343007400000185\n",
      "[LightGBM] [Warning] feature_fraction is set=0.29190676287540945, colsample_bytree=1.0 will be ignored. Current value: feature_fraction=0.29190676287540945\n",
      "[LightGBM] [Warning] lambda_l2 is set=2.4712185408144425, reg_lambda=0.0 will be ignored. Current value: lambda_l2=2.4712185408144425\n",
      "[LightGBM] [Warning] bagging_fraction is set=0.6704473114789922, subsample=1.0 will be ignored. Current value: bagging_fraction=0.6704473114789922\n",
      "The roc-auc score over 5-folds (run 5 times) is: 0.8988006875303924\n"
     ]
    }
   ],
   "source": [
    "cv_scores, roc_auc_scores = list(), list()\n",
    "lgb_imp, preds = list(), list()\n",
    "\n",
    "## Running 5 times CV\n",
    "for i in range(5):\n",
    "    \n",
    "    skf = StratifiedKFold(n_splits = 5, random_state = 42, shuffle = True)\n",
    "    \n",
    "    for train_ix, test_ix in skf.split(X, Y):\n",
    "        \n",
    "        ## Splitting the data \n",
    "        X_train, X_test = X.iloc[train_ix], X.iloc[test_ix]\n",
    "        Y_train, Y_test = Y.iloc[train_ix], Y.iloc[test_ix]\n",
    "    \n",
    "        ## Building RF model\n",
    "        lgb_md = LGBMClassifier(n_estimators = 9691,\n",
    "                                max_depth = 6,\n",
    "                                learning_rate = 0.0462768823884295,\n",
    "                                num_leaves = 55,\n",
    "                                lambda_l1 = 3.4343007400000185,\n",
    "                                lambda_l2 = 2.4712185408144425,\n",
    "                                bagging_fraction = 0.6704473114789922,\n",
    "                                feature_fraction = 0.29190676287540945).fit(X_train, Y_train)\n",
    "        lgb_imp.append(lgb_md.feature_importances_)\n",
    "        \n",
    "        ## Predicting on X_test and test\n",
    "        lgb_pred_1 = lgb_md.predict_proba(X_test)[:, 1]\n",
    "        lgb_pred_2 = lgb_md.predict_proba(test_lgb)[:, 1]\n",
    "        \n",
    "        ## Computing roc-auc score\n",
    "        roc_auc_scores.append(roc_auc_score(Y_test, lgb_pred_1))\n",
    "        preds.append(lgb_pred_2)\n",
    "        \n",
    "    cv_scores.append(np.mean(roc_auc_scores))\n",
    "\n",
    "lgb_cv_score = np.mean(cv_scores)    \n",
    "print('The roc-auc score over 5-folds (run 5 times) is:', lgb_cv_score)"
   ]
  },
  {
   "cell_type": "code",
   "execution_count": 67,
   "id": "19d6a5c6",
   "metadata": {},
   "outputs": [
    {
     "data": {
      "image/png": "[encoded data removed]",
      "text/plain": [
       "<Figure size 1200x1400 with 1 Axes>"
      ]
     },
     "metadata": {},
     "output_type": "display_data"
    }
   ],
   "source": [
    "plt.figure(figsize = (12, 14))\n",
    "pd.DataFrame(lgb_imp, columns = X.columns).apply(np.mean, axis = 0).sort_values().plot(kind = 'barh');\n",
    "plt.xlabel('LightGBM Score')\n",
    "plt.ylabel('Feature')\n",
    "plt.show();"
   ]
  },
  {
   "cell_type": "code",
   "execution_count": null,
   "id": "16282965",
   "metadata": {},
   "outputs": [],
   "source": []
  },
  {
   "cell_type": "code",
   "execution_count": null,
   "id": "03be4fe4",
   "metadata": {},
   "outputs": [],
   "source": []
  },
  {
   "cell_type": "code",
   "execution_count": 9,
   "id": "102747eb",
   "metadata": {},
   "outputs": [
    {
     "data": {
      "text/plain": [
       "no_of_adults                             1752.4\n",
       "no_of_children                            543.0\n",
       "no_of_weekend_nights                     1443.6\n",
       "no_of_week_nights                        3877.8\n",
       "type_of_meal_plan                         991.4\n",
       "required_car_parking_space                247.6\n",
       "room_type_reserved                       2004.2\n",
       "lead_time                               15938.6\n",
       "arrival_year                              357.4\n",
       "arrival_month                            5308.6\n",
       "arrival_date                             8019.6\n",
       "market_segment_type                      1357.0\n",
       "repeated_guest                            252.4\n",
       "no_of_previous_cancellations               16.2\n",
       "no_of_previous_bookings_not_canceled      172.4\n",
       "avg_price_per_room                      18427.8\n",
       "no_of_special_requests                   2952.8\n",
       "low_price_flag                            101.2\n",
       "dtype: float64"
      ]
     },
     "execution_count": 9,
     "metadata": {},
     "output_type": "execute_result"
    }
   ],
   "source": [
    "data1 = pd.DataFrame(lgb_imp, columns = X.columns).apply(np.mean, axis = 0)\n",
    "data1 "
   ]
  },
  {
   "cell_type": "code",
   "execution_count": 12,
   "id": "93449639",
   "metadata": {},
   "outputs": [
    {
     "data": {
      "text/plain": [
       "no_of_adults                             1526.4\n",
       "no_of_children                            526.4\n",
       "no_of_weekend_nights                     1500.8\n",
       "no_of_week_nights                        4177.6\n",
       "type_of_meal_plan                        1143.8\n",
       "required_car_parking_space                226.0\n",
       "room_type_reserved                       1873.0\n",
       "lead_time                               15512.8\n",
       "arrival_year                              406.8\n",
       "arrival_month                            4812.6\n",
       "arrival_date                             8503.4\n",
       "market_segment_type                      1359.2\n",
       "repeated_guest                            256.0\n",
       "no_of_previous_cancellations               14.0\n",
       "no_of_previous_bookings_not_canceled      104.6\n",
       "avg_price_per_room                      16612.0\n",
       "no_of_special_requests                   2294.8\n",
       "dtype: float64"
      ]
     },
     "execution_count": 12,
     "metadata": {},
     "output_type": "execute_result"
    }
   ],
   "source": [
    "data2 = pd.DataFrame(lgb_imp, columns = X.columns).apply(np.mean, axis = 0)\n",
    "data2"
   ]
  },
  {
   "cell_type": "code",
   "execution_count": 15,
   "id": "d3ed4cc9",
   "metadata": {},
   "outputs": [
    {
     "data": {
      "text/plain": [
       "no_of_adults                             1553.6\n",
       "no_of_children                            659.6\n",
       "no_of_weekend_nights                     1657.8\n",
       "no_of_week_nights                        3346.4\n",
       "type_of_meal_plan                         987.0\n",
       "required_car_parking_space                243.6\n",
       "room_type_reserved                       1969.8\n",
       "lead_time                               16102.6\n",
       "arrival_year                              230.8\n",
       "arrival_month                            4623.4\n",
       "arrival_date                             7976.2\n",
       "market_segment_type                      1528.2\n",
       "repeated_guest                            213.4\n",
       "no_of_previous_cancellations               13.0\n",
       "no_of_previous_bookings_not_canceled      103.8\n",
       "no_of_special_requests                   1965.2\n",
       "low_price_flag                            125.6\n",
       "dtype: float64"
      ]
     },
     "execution_count": 15,
     "metadata": {},
     "output_type": "execute_result"
    }
   ],
   "source": [
    "data3 = pd.DataFrame(lgb_imp, columns = X.columns).apply(np.mean, axis = 0)\n",
    "data3"
   ]
  },
  {
   "cell_type": "code",
   "execution_count": 18,
   "id": "e55064fe",
   "metadata": {},
   "outputs": [],
   "source": [
    "data1 = data1.sort_values(ascending = False)\n",
    "data2 = data2.sort_values(ascending = False)\n",
    "data3 = data3.sort_values(ascending = False)"
   ]
  },
  {
   "cell_type": "code",
   "execution_count": 21,
   "id": "1da01070",
   "metadata": {},
   "outputs": [
    {
     "data": {
      "text/plain": [
       "lead_time                               16102.6\n",
       "arrival_date                             7976.2\n",
       "arrival_month                            4623.4\n",
       "no_of_week_nights                        3346.4\n",
       "room_type_reserved                       1969.8\n",
       "no_of_special_requests                   1965.2\n",
       "no_of_weekend_nights                     1657.8\n",
       "no_of_adults                             1553.6\n",
       "market_segment_type                      1528.2\n",
       "type_of_meal_plan                         987.0\n",
       "no_of_children                            659.6\n",
       "required_car_parking_space                243.6\n",
       "arrival_year                              230.8\n",
       "repeated_guest                            213.4\n",
       "low_price_flag                            125.6\n",
       "no_of_previous_bookings_not_canceled      103.8\n",
       "no_of_previous_cancellations               13.0\n",
       "dtype: float64"
      ]
     },
     "execution_count": 21,
     "metadata": {},
     "output_type": "execute_result"
    }
   ],
   "source": [
    "data3"
   ]
  },
  {
   "cell_type": "code",
   "execution_count": 23,
   "id": "aae56008",
   "metadata": {},
   "outputs": [
    {
     "data": {
      "text/plain": [
       "<AxesSubplot: >"
      ]
     },
     "execution_count": 23,
     "metadata": {},
     "output_type": "execute_result"
    },
    {
     "data": {
      "image/png": "[encoded data removed]",
      "text/plain": [
       "<Figure size 640x480 with 1 Axes>"
      ]
     },
     "metadata": {},
     "output_type": "display_data"
    }
   ],
   "source": [
    "data1.plot(kind = 'barh')"
   ]
  },
  {
   "cell_type": "code",
   "execution_count": 38,
   "id": "c3ee57a7",
   "metadata": {},
   "outputs": [
    {
     "data": {
      "text/plain": [
       "array([1.84278e+04, 1.59386e+04, 8.01960e+03, 5.30860e+03, 3.87780e+03,\n",
       "       2.95280e+03, 2.00420e+03, 1.75240e+03, 1.44360e+03, 1.35700e+03,\n",
       "       9.91400e+02, 5.43000e+02, 3.57400e+02, 2.52400e+02, 2.47600e+02,\n",
       "       1.72400e+02, 1.01200e+02, 1.62000e+01])"
      ]
     },
     "execution_count": 38,
     "metadata": {},
     "output_type": "execute_result"
    }
   ],
   "source": [
    "data1.values"
   ]
  },
  {
   "cell_type": "code",
   "execution_count": 43,
   "id": "31ab81c3",
   "metadata": {},
   "outputs": [
    {
     "data": {
      "text/plain": [
       "Index(['avg_price_per_room', 'lead_time', 'arrival_date', 'arrival_month',\n",
       "       'no_of_week_nights', 'no_of_special_requests', 'room_type_reserved',\n",
       "       'no_of_adults', 'no_of_weekend_nights', 'market_segment_type',\n",
       "       'type_of_meal_plan', 'no_of_children', 'arrival_year', 'repeated_guest',\n",
       "       'required_car_parking_space', 'no_of_previous_bookings_not_canceled',\n",
       "       'low_price_flag', 'no_of_previous_cancellations'],\n",
       "      dtype='object')"
      ]
     },
     "execution_count": 43,
     "metadata": {},
     "output_type": "execute_result"
    }
   ],
   "source": [
    "data1.index"
   ]
  },
  {
   "cell_type": "code",
   "execution_count": 50,
   "id": "80d4982a",
   "metadata": {},
   "outputs": [
    {
     "data": {
      "text/plain": [
       "<BarContainer object of 18 artists>"
      ]
     },
     "execution_count": 50,
     "metadata": {},
     "output_type": "execute_result"
    },
    {
     "data": {
      "image/png": "[encoded data removed]",
      "text/plain": [
       "<Figure size 640x480 with 1 Axes>"
      ]
     },
     "metadata": {},
     "output_type": "display_data"
    }
   ],
   "source": [
    "plt.barh(y = data1.index, width = data1.values)\n"
   ]
  },
  {
   "cell_type": "code",
   "execution_count": 58,
   "id": "5e6209bc",
   "metadata": {},
   "outputs": [
    {
     "data": {
      "text/plain": [
       "<Figure size 2500x800 with 0 Axes>"
      ]
     },
     "metadata": {},
     "output_type": "display_data"
    },
    {
     "data": {
      "image/png": "[encoded data removed]",
      "text/plain": [
       "<Figure size 2000x700 with 3 Axes>"
      ]
     },
     "metadata": {},
     "output_type": "display_data"
    }
   ],
   "source": [
    "plt.figure(figsize = (25, 8))\n",
    "fig, axes = plt.subplots(1, 3, figsize = (20, 7))\n",
    "\n",
    "axes[0].barh(y = data1.index, width = data1.values)\n",
    "axes[0].set_xlabel('LightGBM Importance Score')\n",
    "axes[0].set_title('avg_price_per_room & low_price_flag')\n",
    "\n",
    "axes[1].barh(y = data2.index, width = data2.values)\n",
    "axes[1].set_xlabel('LightGBM Importance Score')\n",
    "axes[1].set_title('avg_price_per_room only')\n",
    "\n",
    "axes[2].barh(y = data3.index, width = data3.values)\n",
    "axes[2].set_xlabel('LightGBM Importance Score')\n",
    "axes[2].set_title('low_price_flag only')\n",
    "\n",
    "## saving the plot\n",
    "# fig.savefig('importance_subplots.png');"
   ]
  },
  {
   "cell_type": "code",
   "execution_count": 6,
   "id": "140486d7",
   "metadata": {},
   "outputs": [
    {
     "data": {
      "text/html": [
       "<div>\n",
       "<style scoped>\n",
       "    .dataframe tbody tr th:only-of-type {\n",
       "        vertical-align: middle;\n",
       "    }\n",
       "\n",
       "    .dataframe tbody tr th {\n",
       "        vertical-align: top;\n",
       "    }\n",
       "\n",
       "    .dataframe thead th {\n",
       "        text-align: right;\n",
       "    }\n",
       "</style>\n",
       "<table border=\"1\" class=\"dataframe\">\n",
       "  <thead>\n",
       "    <tr style=\"text-align: right;\">\n",
       "      <th></th>\n",
       "      <th>id</th>\n",
       "      <th>booking_status</th>\n",
       "    </tr>\n",
       "  </thead>\n",
       "  <tbody>\n",
       "    <tr>\n",
       "      <th>0</th>\n",
       "      <td>42100</td>\n",
       "      <td>0.075531</td>\n",
       "    </tr>\n",
       "    <tr>\n",
       "      <th>1</th>\n",
       "      <td>42101</td>\n",
       "      <td>0.096545</td>\n",
       "    </tr>\n",
       "    <tr>\n",
       "      <th>2</th>\n",
       "      <td>42102</td>\n",
       "      <td>0.328719</td>\n",
       "    </tr>\n",
       "    <tr>\n",
       "      <th>3</th>\n",
       "      <td>42103</td>\n",
       "      <td>0.031375</td>\n",
       "    </tr>\n",
       "    <tr>\n",
       "      <th>4</th>\n",
       "      <td>42104</td>\n",
       "      <td>0.452083</td>\n",
       "    </tr>\n",
       "  </tbody>\n",
       "</table>\n",
       "</div>"
      ],
      "text/plain": [
       "      id  booking_status\n",
       "0  42100        0.075531\n",
       "1  42101        0.096545\n",
       "2  42102        0.328719\n",
       "3  42103        0.031375\n",
       "4  42104        0.452083"
      ]
     },
     "execution_count": 6,
     "metadata": {},
     "output_type": "execute_result"
    }
   ],
   "source": [
    "lgb_preds_test = pd.DataFrame(preds).apply(np.mean, axis = 0)\n",
    "submission['booking_status'] = lgb_preds_test\n",
    "submission.head()"
   ]
  },
  {
   "cell_type": "code",
   "execution_count": 8,
   "id": "ca80a6bf",
   "metadata": {},
   "outputs": [
    {
     "data": {
      "text/html": [
       "<div>\n",
       "<style scoped>\n",
       "    .dataframe tbody tr th:only-of-type {\n",
       "        vertical-align: middle;\n",
       "    }\n",
       "\n",
       "    .dataframe tbody tr th {\n",
       "        vertical-align: top;\n",
       "    }\n",
       "\n",
       "    .dataframe thead th {\n",
       "        text-align: right;\n",
       "    }\n",
       "</style>\n",
       "<table border=\"1\" class=\"dataframe\">\n",
       "  <thead>\n",
       "    <tr style=\"text-align: right;\">\n",
       "      <th></th>\n",
       "      <th>id</th>\n",
       "      <th>booking_status</th>\n",
       "    </tr>\n",
       "  </thead>\n",
       "  <tbody>\n",
       "    <tr>\n",
       "      <th>count</th>\n",
       "      <td>28068.000000</td>\n",
       "      <td>28068.000000</td>\n",
       "    </tr>\n",
       "    <tr>\n",
       "      <th>mean</th>\n",
       "      <td>56133.500000</td>\n",
       "      <td>0.389283</td>\n",
       "    </tr>\n",
       "    <tr>\n",
       "      <th>std</th>\n",
       "      <td>8102.678014</td>\n",
       "      <td>0.341880</td>\n",
       "    </tr>\n",
       "    <tr>\n",
       "      <th>min</th>\n",
       "      <td>42100.000000</td>\n",
       "      <td>0.000011</td>\n",
       "    </tr>\n",
       "    <tr>\n",
       "      <th>25%</th>\n",
       "      <td>49116.750000</td>\n",
       "      <td>0.065435</td>\n",
       "    </tr>\n",
       "    <tr>\n",
       "      <th>50%</th>\n",
       "      <td>56133.500000</td>\n",
       "      <td>0.277330</td>\n",
       "    </tr>\n",
       "    <tr>\n",
       "      <th>75%</th>\n",
       "      <td>63150.250000</td>\n",
       "      <td>0.736594</td>\n",
       "    </tr>\n",
       "    <tr>\n",
       "      <th>max</th>\n",
       "      <td>70167.000000</td>\n",
       "      <td>0.998395</td>\n",
       "    </tr>\n",
       "  </tbody>\n",
       "</table>\n",
       "</div>"
      ],
      "text/plain": [
       "                 id  booking_status\n",
       "count  28068.000000    28068.000000\n",
       "mean   56133.500000        0.389283\n",
       "std     8102.678014        0.341880\n",
       "min    42100.000000        0.000011\n",
       "25%    49116.750000        0.065435\n",
       "50%    56133.500000        0.277330\n",
       "75%    63150.250000        0.736594\n",
       "max    70167.000000        0.998395"
      ]
     },
     "execution_count": 8,
     "metadata": {},
     "output_type": "execute_result"
    }
   ],
   "source": [
    "submission.describe()"
   ]
  },
  {
   "cell_type": "code",
   "execution_count": 9,
   "id": "6081d401",
   "metadata": {},
   "outputs": [
    {
     "ename": "StopIteration",
     "evalue": "",
     "output_type": "error",
     "traceback": [
      "\u001b[0;31m---------------------------------------------------------------------------\u001b[0m",
      "\u001b[0;31mStopIteration\u001b[0m                             Traceback (most recent call last)",
      "\u001b[0;32m/tmp/ipykernel_8490/895280918.py\u001b[0m in \u001b[0;36m<cell line: 2>\u001b[0;34m()\u001b[0m\n\u001b[1;32m      1\u001b[0m \u001b[0mdata2\u001b[0m \u001b[0;34m=\u001b[0m \u001b[0mpd\u001b[0m\u001b[0;34m.\u001b[0m\u001b[0mDataFrame\u001b[0m\u001b[0;34m(\u001b[0m\u001b[0;34m{\u001b[0m\u001b[0;34m'Predicted Likelihood'\u001b[0m\u001b[0;34m:\u001b[0m \u001b[0mlgb_preds_test\u001b[0m\u001b[0;34m}\u001b[0m\u001b[0;34m)\u001b[0m\u001b[0;34m\u001b[0m\u001b[0;34m\u001b[0m\u001b[0m\n\u001b[0;32m----> 2\u001b[0;31m \u001b[0msns\u001b[0m\u001b[0;34m.\u001b[0m\u001b[0mhistplot\u001b[0m\u001b[0;34m(\u001b[0m\u001b[0mdata\u001b[0m \u001b[0;34m=\u001b[0m \u001b[0mdata2\u001b[0m\u001b[0;34m,\u001b[0m \u001b[0mkde\u001b[0m \u001b[0;34m=\u001b[0m \u001b[0;32mTrue\u001b[0m\u001b[0;34m,\u001b[0m \u001b[0mstat\u001b[0m \u001b[0;34m=\u001b[0m \u001b[0;34m'density'\u001b[0m\u001b[0;34m)\u001b[0m\u001b[0;34m.\u001b[0m\u001b[0mset\u001b[0m\u001b[0;34m(\u001b[0m\u001b[0mtitle\u001b[0m \u001b[0;34m=\u001b[0m \u001b[0;34m'LightGBM Predicted Likelihood (Optuna) in Test'\u001b[0m\u001b[0;34m)\u001b[0m\u001b[0;34m\u001b[0m\u001b[0;34m\u001b[0m\u001b[0m\n\u001b[0m",
      "\u001b[0;32m~/anaconda3/envs/python3/lib/python3.10/site-packages/seaborn/distributions.py\u001b[0m in \u001b[0;36mhistplot\u001b[0;34m(data, x, y, hue, weights, stat, bins, binwidth, binrange, discrete, cumulative, common_bins, common_norm, multiple, element, fill, shrink, kde, kde_kws, line_kws, thresh, pthresh, pmax, cbar, cbar_ax, cbar_kws, palette, hue_order, hue_norm, color, log_scale, legend, ax, **kwargs)\u001b[0m\n\u001b[1;32m   1416\u001b[0m         \u001b[0;32melse\u001b[0m\u001b[0;34m:\u001b[0m\u001b[0;34m\u001b[0m\u001b[0;34m\u001b[0m\u001b[0m\n\u001b[1;32m   1417\u001b[0m             \u001b[0mmethod\u001b[0m \u001b[0;34m=\u001b[0m \u001b[0max\u001b[0m\u001b[0;34m.\u001b[0m\u001b[0mplot\u001b[0m\u001b[0;34m\u001b[0m\u001b[0;34m\u001b[0m\u001b[0m\n\u001b[0;32m-> 1418\u001b[0;31m         \u001b[0mcolor\u001b[0m \u001b[0;34m=\u001b[0m \u001b[0m_default_color\u001b[0m\u001b[0;34m(\u001b[0m\u001b[0mmethod\u001b[0m\u001b[0;34m,\u001b[0m \u001b[0mhue\u001b[0m\u001b[0;34m,\u001b[0m \u001b[0mcolor\u001b[0m\u001b[0;34m,\u001b[0m \u001b[0mkwargs\u001b[0m\u001b[0;34m)\u001b[0m\u001b[0;34m\u001b[0m\u001b[0;34m\u001b[0m\u001b[0m\n\u001b[0m\u001b[1;32m   1419\u001b[0m \u001b[0;34m\u001b[0m\u001b[0m\n\u001b[1;32m   1420\u001b[0m     \u001b[0;32mif\u001b[0m \u001b[0;32mnot\u001b[0m \u001b[0mp\u001b[0m\u001b[0;34m.\u001b[0m\u001b[0mhas_xy_data\u001b[0m\u001b[0;34m:\u001b[0m\u001b[0;34m\u001b[0m\u001b[0;34m\u001b[0m\u001b[0m\n",
      "\u001b[0;32m~/anaconda3/envs/python3/lib/python3.10/site-packages/seaborn/utils.py\u001b[0m in \u001b[0;36m_default_color\u001b[0;34m(method, hue, color, kws)\u001b[0m\n\u001b[1;32m    137\u001b[0m \u001b[0;34m\u001b[0m\u001b[0m\n\u001b[1;32m    138\u001b[0m         \u001b[0;31m# bar() needs masked, not empty data, to generate a patch\u001b[0m\u001b[0;34m\u001b[0m\u001b[0;34m\u001b[0m\u001b[0m\n\u001b[0;32m--> 139\u001b[0;31m         \u001b[0mscout\u001b[0m\u001b[0;34m,\u001b[0m \u001b[0;34m=\u001b[0m \u001b[0mmethod\u001b[0m\u001b[0;34m(\u001b[0m\u001b[0;34m[\u001b[0m\u001b[0mnp\u001b[0m\u001b[0;34m.\u001b[0m\u001b[0mnan\u001b[0m\u001b[0;34m]\u001b[0m\u001b[0;34m,\u001b[0m \u001b[0;34m[\u001b[0m\u001b[0mnp\u001b[0m\u001b[0;34m.\u001b[0m\u001b[0mnan\u001b[0m\u001b[0;34m]\u001b[0m\u001b[0;34m,\u001b[0m \u001b[0;34m**\u001b[0m\u001b[0mkws\u001b[0m\u001b[0;34m)\u001b[0m\u001b[0;34m\u001b[0m\u001b[0;34m\u001b[0m\u001b[0m\n\u001b[0m\u001b[1;32m    140\u001b[0m         \u001b[0mcolor\u001b[0m \u001b[0;34m=\u001b[0m \u001b[0mto_rgb\u001b[0m\u001b[0;34m(\u001b[0m\u001b[0mscout\u001b[0m\u001b[0;34m.\u001b[0m\u001b[0mget_facecolor\u001b[0m\u001b[0;34m(\u001b[0m\u001b[0;34m)\u001b[0m\u001b[0;34m)\u001b[0m\u001b[0;34m\u001b[0m\u001b[0;34m\u001b[0m\u001b[0m\n\u001b[1;32m    141\u001b[0m         \u001b[0mscout\u001b[0m\u001b[0;34m.\u001b[0m\u001b[0mremove\u001b[0m\u001b[0;34m(\u001b[0m\u001b[0;34m)\u001b[0m\u001b[0;34m\u001b[0m\u001b[0;34m\u001b[0m\u001b[0m\n",
      "\u001b[0;32m~/anaconda3/envs/python3/lib/python3.10/site-packages/matplotlib/__init__.py\u001b[0m in \u001b[0;36minner\u001b[0;34m(ax, data, *args, **kwargs)\u001b[0m\n\u001b[1;32m   1421\u001b[0m     \u001b[0;32mdef\u001b[0m \u001b[0minner\u001b[0m\u001b[0;34m(\u001b[0m\u001b[0max\u001b[0m\u001b[0;34m,\u001b[0m \u001b[0;34m*\u001b[0m\u001b[0margs\u001b[0m\u001b[0;34m,\u001b[0m \u001b[0mdata\u001b[0m\u001b[0;34m=\u001b[0m\u001b[0;32mNone\u001b[0m\u001b[0;34m,\u001b[0m \u001b[0;34m**\u001b[0m\u001b[0mkwargs\u001b[0m\u001b[0;34m)\u001b[0m\u001b[0;34m:\u001b[0m\u001b[0;34m\u001b[0m\u001b[0;34m\u001b[0m\u001b[0m\n\u001b[1;32m   1422\u001b[0m         \u001b[0;32mif\u001b[0m \u001b[0mdata\u001b[0m \u001b[0;32mis\u001b[0m \u001b[0;32mNone\u001b[0m\u001b[0;34m:\u001b[0m\u001b[0;34m\u001b[0m\u001b[0;34m\u001b[0m\u001b[0m\n\u001b[0;32m-> 1423\u001b[0;31m             \u001b[0;32mreturn\u001b[0m \u001b[0mfunc\u001b[0m\u001b[0;34m(\u001b[0m\u001b[0max\u001b[0m\u001b[0;34m,\u001b[0m \u001b[0;34m*\u001b[0m\u001b[0mmap\u001b[0m\u001b[0;34m(\u001b[0m\u001b[0msanitize_sequence\u001b[0m\u001b[0;34m,\u001b[0m \u001b[0margs\u001b[0m\u001b[0;34m)\u001b[0m\u001b[0;34m,\u001b[0m \u001b[0;34m**\u001b[0m\u001b[0mkwargs\u001b[0m\u001b[0;34m)\u001b[0m\u001b[0;34m\u001b[0m\u001b[0;34m\u001b[0m\u001b[0m\n\u001b[0m\u001b[1;32m   1424\u001b[0m \u001b[0;34m\u001b[0m\u001b[0m\n\u001b[1;32m   1425\u001b[0m         \u001b[0mbound\u001b[0m \u001b[0;34m=\u001b[0m \u001b[0mnew_sig\u001b[0m\u001b[0;34m.\u001b[0m\u001b[0mbind\u001b[0m\u001b[0;34m(\u001b[0m\u001b[0max\u001b[0m\u001b[0;34m,\u001b[0m \u001b[0;34m*\u001b[0m\u001b[0margs\u001b[0m\u001b[0;34m,\u001b[0m \u001b[0;34m**\u001b[0m\u001b[0mkwargs\u001b[0m\u001b[0;34m)\u001b[0m\u001b[0;34m\u001b[0m\u001b[0;34m\u001b[0m\u001b[0m\n",
      "\u001b[0;32m~/anaconda3/envs/python3/lib/python3.10/site-packages/matplotlib/axes/_axes.py\u001b[0m in \u001b[0;36mbar\u001b[0;34m(self, x, height, width, bottom, align, **kwargs)\u001b[0m\n\u001b[1;32m   2371\u001b[0m             \u001b[0mx0\u001b[0m \u001b[0;34m=\u001b[0m \u001b[0mx\u001b[0m\u001b[0;34m\u001b[0m\u001b[0;34m\u001b[0m\u001b[0m\n\u001b[1;32m   2372\u001b[0m             \u001b[0mx\u001b[0m \u001b[0;34m=\u001b[0m \u001b[0mnp\u001b[0m\u001b[0;34m.\u001b[0m\u001b[0masarray\u001b[0m\u001b[0;34m(\u001b[0m\u001b[0mself\u001b[0m\u001b[0;34m.\u001b[0m\u001b[0mconvert_xunits\u001b[0m\u001b[0;34m(\u001b[0m\u001b[0mx\u001b[0m\u001b[0;34m)\u001b[0m\u001b[0;34m)\u001b[0m\u001b[0;34m\u001b[0m\u001b[0;34m\u001b[0m\u001b[0m\n\u001b[0;32m-> 2373\u001b[0;31m             \u001b[0mwidth\u001b[0m \u001b[0;34m=\u001b[0m \u001b[0mself\u001b[0m\u001b[0;34m.\u001b[0m\u001b[0m_convert_dx\u001b[0m\u001b[0;34m(\u001b[0m\u001b[0mwidth\u001b[0m\u001b[0;34m,\u001b[0m \u001b[0mx0\u001b[0m\u001b[0;34m,\u001b[0m \u001b[0mx\u001b[0m\u001b[0;34m,\u001b[0m \u001b[0mself\u001b[0m\u001b[0;34m.\u001b[0m\u001b[0mconvert_xunits\u001b[0m\u001b[0;34m)\u001b[0m\u001b[0;34m\u001b[0m\u001b[0;34m\u001b[0m\u001b[0m\n\u001b[0m\u001b[1;32m   2374\u001b[0m             \u001b[0;32mif\u001b[0m \u001b[0mxerr\u001b[0m \u001b[0;32mis\u001b[0m \u001b[0;32mnot\u001b[0m \u001b[0;32mNone\u001b[0m\u001b[0;34m:\u001b[0m\u001b[0;34m\u001b[0m\u001b[0;34m\u001b[0m\u001b[0m\n\u001b[1;32m   2375\u001b[0m                 \u001b[0mxerr\u001b[0m \u001b[0;34m=\u001b[0m \u001b[0mself\u001b[0m\u001b[0;34m.\u001b[0m\u001b[0m_convert_dx\u001b[0m\u001b[0;34m(\u001b[0m\u001b[0mxerr\u001b[0m\u001b[0;34m,\u001b[0m \u001b[0mx0\u001b[0m\u001b[0;34m,\u001b[0m \u001b[0mx\u001b[0m\u001b[0;34m,\u001b[0m \u001b[0mself\u001b[0m\u001b[0;34m.\u001b[0m\u001b[0mconvert_xunits\u001b[0m\u001b[0;34m)\u001b[0m\u001b[0;34m\u001b[0m\u001b[0;34m\u001b[0m\u001b[0m\n",
      "\u001b[0;32m~/anaconda3/envs/python3/lib/python3.10/site-packages/matplotlib/axes/_axes.py\u001b[0m in \u001b[0;36m_convert_dx\u001b[0;34m(dx, x0, xconv, convert)\u001b[0m\n\u001b[1;32m   2180\u001b[0m             \u001b[0;31m# wrap numpy arrays.\u001b[0m\u001b[0;34m\u001b[0m\u001b[0;34m\u001b[0m\u001b[0m\n\u001b[1;32m   2181\u001b[0m             \u001b[0;32mtry\u001b[0m\u001b[0;34m:\u001b[0m\u001b[0;34m\u001b[0m\u001b[0;34m\u001b[0m\u001b[0m\n\u001b[0;32m-> 2182\u001b[0;31m                 \u001b[0mx0\u001b[0m \u001b[0;34m=\u001b[0m \u001b[0mcbook\u001b[0m\u001b[0;34m.\u001b[0m\u001b[0m_safe_first_finite\u001b[0m\u001b[0;34m(\u001b[0m\u001b[0mx0\u001b[0m\u001b[0;34m)\u001b[0m\u001b[0;34m\u001b[0m\u001b[0;34m\u001b[0m\u001b[0m\n\u001b[0m\u001b[1;32m   2183\u001b[0m             \u001b[0;32mexcept\u001b[0m \u001b[0;34m(\u001b[0m\u001b[0mTypeError\u001b[0m\u001b[0;34m,\u001b[0m \u001b[0mIndexError\u001b[0m\u001b[0;34m,\u001b[0m \u001b[0mKeyError\u001b[0m\u001b[0;34m)\u001b[0m\u001b[0;34m:\u001b[0m\u001b[0;34m\u001b[0m\u001b[0;34m\u001b[0m\u001b[0m\n\u001b[1;32m   2184\u001b[0m                 \u001b[0;32mpass\u001b[0m\u001b[0;34m\u001b[0m\u001b[0;34m\u001b[0m\u001b[0m\n",
      "\u001b[0;32m~/anaconda3/envs/python3/lib/python3.10/site-packages/matplotlib/cbook/__init__.py\u001b[0m in \u001b[0;36m_safe_first_finite\u001b[0;34m(obj, skip_nonfinite)\u001b[0m\n\u001b[1;32m   1747\u001b[0m                            \"support generators as input\")\n\u001b[1;32m   1748\u001b[0m     \u001b[0;32melse\u001b[0m\u001b[0;34m:\u001b[0m\u001b[0;34m\u001b[0m\u001b[0;34m\u001b[0m\u001b[0m\n\u001b[0;32m-> 1749\u001b[0;31m         \u001b[0;32mreturn\u001b[0m \u001b[0mnext\u001b[0m\u001b[0;34m(\u001b[0m\u001b[0mval\u001b[0m \u001b[0;32mfor\u001b[0m \u001b[0mval\u001b[0m \u001b[0;32min\u001b[0m \u001b[0mobj\u001b[0m \u001b[0;32mif\u001b[0m \u001b[0msafe_isfinite\u001b[0m\u001b[0;34m(\u001b[0m\u001b[0mval\u001b[0m\u001b[0;34m)\u001b[0m\u001b[0;34m)\u001b[0m\u001b[0;34m\u001b[0m\u001b[0;34m\u001b[0m\u001b[0m\n\u001b[0m\u001b[1;32m   1750\u001b[0m \u001b[0;34m\u001b[0m\u001b[0m\n\u001b[1;32m   1751\u001b[0m \u001b[0;34m\u001b[0m\u001b[0m\n",
      "\u001b[0;31mStopIteration\u001b[0m: "
     ]
    },
    {
     "data": {
      "image/png": "[encoded data removed]",
      "text/plain": [
       "<Figure size 640x480 with 1 Axes>"
      ]
     },
     "metadata": {},
     "output_type": "display_data"
    }
   ],
   "source": [
    "data2 = pd.DataFrame({'Predicted Likelihood': lgb_preds_test})\n",
    "sns.histplot(data = data2, kde = True, stat = 'density').set(title = 'LightGBM Predicted Likelihood (Optuna) in Test')"
   ]
  },
  {
   "cell_type": "code",
   "execution_count": 10,
   "id": "e8d77951",
   "metadata": {},
   "outputs": [],
   "source": [
    "submission.to_csv('Baseline_LightGBM_Optuna_price_flag_submission.csv', index = False)"
   ]
  }
 ],
 "metadata": {
  "kernelspec": {
   "display_name": "conda_python3",
   "language": "python",
   "name": "conda_python3"
  },
  "language_info": {
   "codemirror_mode": {
    "name": "ipython",
    "version": 3
   },
   "file_extension": ".py",
   "mimetype": "text/x-python",
   "name": "python",
   "nbconvert_exporter": "python",
   "pygments_lexer": "ipython3",
   "version": "3.10.6"
  }
 },
 "nbformat": 4,
 "nbformat_minor": 5
}
