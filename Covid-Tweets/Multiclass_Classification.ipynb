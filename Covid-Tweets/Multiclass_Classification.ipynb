{
 "cells": [
  {
   "cell_type": "code",
   "execution_count": null,
   "id": "8172f8e7",
   "metadata": {},
   "outputs": [],
   "source": [
    "import pandas as pd\n",
    "import numpy as np\n",
    "import matplotlib.pyplot as plt\n",
    "from sklearn.preprocessing import MinMaxScaler\n",
    "from sklearn.model_selection import train_test_split\n",
    "import tensorflow as tf\n",
    "\n",
    "\n",
    "## Reading data-file\n",
    "train = pd.read_csv('train.csv')\n",
    "test = pd.read_csv('test.csv')\n",
    "\n",
    "## Defining input and target\n",
    "X = train.drop(columns = ['text', 'reply_to_screen_name', 'hashtags', 'country'], axis = 1)\n",
    "Y = train['country']\n",
    "Y = np.where(Y == 'us', 0, \n",
    "             np.where(Y == 'uk', 1, \n",
    "                      np.where(Y == 'canada', 2, \n",
    "                               np.where(Y == 'australia', 3,\n",
    "                                        np.where(Y == 'ireland', 4, 5)))))\n",
    "\n",
    "## Splitting the data \n",
    "X_train, X_test, Y_train, Y_test = train_test_split(X, Y, train_size = 0.2)\n",
    "\n",
    "## Scaling the data \n",
    "scaler = MinMaxScaler()\n",
    "X_train = scaler.fit_transform(X_train)\n",
    "X_test = scaler.fit_transform(X_test)\n",
    "\n",
    "## Defining model \n",
    "model = tf.keras.models.Sequential([\n",
    "        tf.keras.layers.Dense(10, input_dim =  15, activation = 'relu'),\n",
    "#         tf.keras.layers.Dense(10, input_dim =  15, activation = 'relu'),\n",
    "        tf.keras.layers.Dense(6, activation = 'softmax')\n",
    "])\n",
    "\n",
    "model.compile(optimizer = 'adam', loss = 'categorical_crossentropy', metrics = ['accuracy'])\n",
    "\n",
    "## Fitting model \n",
    "history = model.fit(X_train, tf.keras.utils.to_categorical(Y_train, num_classes = 6), epochs = 10, batch_size = 32, validation_data = (X_test, tf.keras.utils.to_categorical(Y_test, num_classes = 6)))"
   ]
  },
  {
   "cell_type": "code",
   "execution_count": null,
   "id": "83493c46",
   "metadata": {},
   "outputs": [],
   "source": [
    "fig = plt.figure(figsize = (12, 8))\n",
    "\n",
    "## Visualization of accuracy in train and test datasets\n",
    "plt.plot(history.history['accuracy'])\n",
    "plt.plot(history.history['val_accuracy'])\n",
    "plt.title('Model accuracy')\n",
    "plt.ylabel('Accuracy')\n",
    "plt.xlabel('Epoch')\n",
    "plt.legend(['Train', 'Test'], loc = 'upper left')\n",
    "plt.grid()\n",
    "plt.show()"
   ]
  },
  {
   "cell_type": "code",
   "execution_count": null,
   "id": "af750b69",
   "metadata": {},
   "outputs": [],
   "source": [
    "test = scaler.fit_transform(test)"
   ]
  },
  {
   "cell_type": "code",
   "execution_count": null,
   "id": "8fd2acf5",
   "metadata": {},
   "outputs": [],
   "source": [
    "x = model.predict(test)\n",
    "x = np.argmax(x, axis = 1)\n",
    "x"
   ]
  },
  {
   "cell_type": "code",
   "execution_count": null,
   "id": "46982747",
   "metadata": {},
   "outputs": [],
   "source": [
    "import boto3\n",
    "import pandas as pd; pd.set_option('display.max_columns', 100)\n",
    "import numpy as np\n",
    "import matplotlib.pyplot as plt\n",
    "import seaborn as sns\n",
    "from sklearn.tree import DecisionTreeClassifier, plot_tree\n",
    "from sklearn.ensemble import RandomForestClassifier\n",
    "from sklearn.model_selection import GridSearchCV, train_test_split\n",
    "from sklearn.multiclass import OneVsRestClassifier\n",
    "# from xgboost import XGBClassifier\n",
    "\n",
    "from Help_Funs import count_chars, count_words, count_capital_chars, count_capital_words, count_sent, count_unique_words, count_stopwords, count_hashtags \n",
    "\n",
    "s3 = boto3.resource('s3')\n",
    "bucket_name = 'analytics-data-science-competitions'\n",
    "bucket = s3.Bucket(bucket_name)\n",
    "\n",
    "file_key_1 = 'Covid-tweets/training_data.csv'\n",
    "file_key_2 = 'Covid-tweets/test_data.csv'\n",
    "\n",
    "bucket_object_1 = bucket.Object(file_key_1)\n",
    "file_object_1 = bucket_object_1.get()\n",
    "file_content_stream_1 = file_object_1.get('Body')\n",
    "\n",
    "bucket_object_2 = bucket.Object(file_key_2)\n",
    "file_object_2 = bucket_object_2.get()\n",
    "file_content_stream_2 = file_object_2.get('Body')\n",
    "\n",
    "## Reading data-files\n",
    "train = pd.read_csv(file_content_stream_1)\n",
    "test = pd.read_csv(file_content_stream_2)\n"
   ]
  },
  {
   "cell_type": "code",
   "execution_count": null,
   "id": "b1aee385",
   "metadata": {},
   "outputs": [],
   "source": [
    "test_id = test['Id']"
   ]
  },
  {
   "cell_type": "code",
   "execution_count": null,
   "id": "16d57ca5",
   "metadata": {},
   "outputs": [],
   "source": [
    "data_out = pd.DataFrame({'Id': test_id, 'Category': x})\n",
    "data_out['Category'] = np.where(data_out['Category'] == 0, 'us',\n",
    "                                np.where(data_out['Category'] == 1, 'uk',\n",
    "                                         np.where(data_out['Category'] == 2, 'canada',\n",
    "                                                  np.where(data_out['Category'] == 3, 'australia',\n",
    "                                                           np.where(data_out['Category'] == 4, 'ireland', 'new_zealand')))))\n",
    "\n",
    "# data_out.to_csv('LightGBM_submission_md.csv', index = False)"
   ]
  },
  {
   "cell_type": "code",
   "execution_count": null,
   "id": "5b0575e4",
   "metadata": {},
   "outputs": [],
   "source": [
    "data_out['Category'].value_counts()"
   ]
  },
  {
   "cell_type": "code",
   "execution_count": null,
   "id": "c8af8468",
   "metadata": {},
   "outputs": [],
   "source": [
    "data_out.to_csv('network_submission_md_1.csv', index = False)"
   ]
  },
  {
   "cell_type": "code",
   "execution_count": null,
   "id": "1a4a8138",
   "metadata": {},
   "outputs": [],
   "source": [
    "history = model.fit(X_train, tf.keras.utils.to_categorical(Y_train, num_classes = 6), epochs = 10, batch_size = 32, validation_data = (X_test, tf.keras.utils.to_categorical(Y_test, num_classes = 6)))"
   ]
  },
  {
   "cell_type": "code",
   "execution_count": null,
   "id": "1dff501c",
   "metadata": {},
   "outputs": [],
   "source": [
    "X_train.shape"
   ]
  },
  {
   "cell_type": "code",
   "execution_count": null,
   "id": "9408a512",
   "metadata": {},
   "outputs": [],
   "source": [
    "tf.keras.utils.to_categorical(Y_train, num_classes = 6)"
   ]
  },
  {
   "cell_type": "code",
   "execution_count": null,
   "id": "dd8e9652",
   "metadata": {},
   "outputs": [],
   "source": [
    "Y_train"
   ]
  },
  {
   "cell_type": "code",
   "execution_count": null,
   "id": "99b2862e",
   "metadata": {},
   "outputs": [],
   "source": [
    "tf.keras.utils.to_categorical(Y_test, num_classes = 6)"
   ]
  },
  {
   "cell_type": "code",
   "execution_count": null,
   "id": "a18de79e",
   "metadata": {},
   "outputs": [],
   "source": [
    "Y_test"
   ]
  },
  {
   "cell_type": "markdown",
   "id": "9fae0db0",
   "metadata": {},
   "source": [
    "# Experiements"
   ]
  },
  {
   "cell_type": "code",
   "execution_count": 1,
   "id": "a23fc61c",
   "metadata": {},
   "outputs": [
    {
     "name": "stderr",
     "output_type": "stream",
     "text": [
      "2022-09-07 12:35:03.288224: E tensorflow/stream_executor/cuda/cuda_driver.cc:271] failed call to cuInit: CUDA_ERROR_NO_DEVICE: no CUDA-capable device is detected\n",
      "2022-09-07 12:35:03.288310: I tensorflow/stream_executor/cuda/cuda_diagnostics.cc:156] kernel driver does not appear to be running on this host (ip-172-16-47-234.ec2.internal): /proc/driver/nvidia/version does not exist\n",
      "2022-09-07 12:35:03.289023: I tensorflow/core/platform/cpu_feature_guard.cc:151] This TensorFlow binary is optimized with oneAPI Deep Neural Network Library (oneDNN) to use the following CPU instructions in performance-critical operations:  AVX2 AVX512F FMA\n",
      "To enable them in other operations, rebuild TensorFlow with the appropriate compiler flags.\n"
     ]
    },
    {
     "name": "stdout",
     "output_type": "stream",
     "text": [
      "Epoch 1/20\n",
      "1500/1500 [==============================] - 9s 6ms/step - loss: 1.4898 - accuracy: 0.3010 - val_loss: 1.3598 - val_accuracy: 0.3137\n",
      "Epoch 2/20\n",
      "1500/1500 [==============================] - 10s 6ms/step - loss: 1.3520 - accuracy: 0.3213 - val_loss: 1.3474 - val_accuracy: 0.3228\n",
      "Epoch 3/20\n",
      "1500/1500 [==============================] - 8s 5ms/step - loss: 1.3472 - accuracy: 0.3253 - val_loss: 1.3518 - val_accuracy: 0.3159\n",
      "Epoch 4/20\n",
      "1500/1500 [==============================] - 9s 6ms/step - loss: 1.3447 - accuracy: 0.3308 - val_loss: 1.3538 - val_accuracy: 0.3378\n",
      "Epoch 5/20\n",
      "1500/1500 [==============================] - 8s 5ms/step - loss: 1.3428 - accuracy: 0.3381 - val_loss: 1.3467 - val_accuracy: 0.3428\n",
      "Epoch 6/20\n",
      "1500/1500 [==============================] - 8s 6ms/step - loss: 1.3400 - accuracy: 0.3376 - val_loss: 1.3394 - val_accuracy: 0.3430\n",
      "Epoch 7/20\n",
      "1500/1500 [==============================] - 9s 6ms/step - loss: 1.3384 - accuracy: 0.3426 - val_loss: 1.3388 - val_accuracy: 0.3413\n",
      "Epoch 8/20\n",
      "1500/1500 [==============================] - 8s 6ms/step - loss: 1.3370 - accuracy: 0.3444 - val_loss: 1.3377 - val_accuracy: 0.3448\n",
      "Epoch 9/20\n",
      "1500/1500 [==============================] - 13s 8ms/step - loss: 1.3360 - accuracy: 0.3440 - val_loss: 1.3362 - val_accuracy: 0.3450\n",
      "Epoch 10/20\n",
      "1500/1500 [==============================] - 9s 6ms/step - loss: 1.3355 - accuracy: 0.3439 - val_loss: 1.3354 - val_accuracy: 0.3439\n",
      "Epoch 11/20\n",
      "1500/1500 [==============================] - 13s 8ms/step - loss: 1.3349 - accuracy: 0.3454 - val_loss: 1.3352 - val_accuracy: 0.3463\n",
      "Epoch 12/20\n",
      "1500/1500 [==============================] - 9s 6ms/step - loss: 1.3345 - accuracy: 0.3470 - val_loss: 1.3378 - val_accuracy: 0.3399\n",
      "Epoch 13/20\n",
      "1500/1500 [==============================] - 9s 6ms/step - loss: 1.3342 - accuracy: 0.3451 - val_loss: 1.3362 - val_accuracy: 0.3427\n",
      "Epoch 14/20\n",
      "1500/1500 [==============================] - 13s 8ms/step - loss: 1.3340 - accuracy: 0.3481 - val_loss: 1.3355 - val_accuracy: 0.3460\n",
      "Epoch 15/20\n",
      "1500/1500 [==============================] - 8s 5ms/step - loss: 1.3340 - accuracy: 0.3479 - val_loss: 1.3340 - val_accuracy: 0.3486\n",
      "Epoch 16/20\n",
      "1500/1500 [==============================] - 7s 5ms/step - loss: 1.3337 - accuracy: 0.3465 - val_loss: 1.3343 - val_accuracy: 0.3464\n",
      "Epoch 17/20\n",
      "1500/1500 [==============================] - 8s 5ms/step - loss: 1.3336 - accuracy: 0.3477 - val_loss: 1.3375 - val_accuracy: 0.3406\n",
      "Epoch 18/20\n",
      "1500/1500 [==============================] - 9s 6ms/step - loss: 1.3334 - accuracy: 0.3480 - val_loss: 1.3351 - val_accuracy: 0.3417\n",
      "Epoch 19/20\n",
      "1500/1500 [==============================] - 8s 5ms/step - loss: 1.3333 - accuracy: 0.3484 - val_loss: 1.3345 - val_accuracy: 0.3463\n",
      "Epoch 20/20\n",
      "1500/1500 [==============================] - 9s 6ms/step - loss: 1.3332 - accuracy: 0.3490 - val_loss: 1.3349 - val_accuracy: 0.3431\n"
     ]
    },
    {
     "data": {
      "image/png": "[encoded data removed]",
      "text/plain": [
       "<Figure size 864x576 with 1 Axes>"
      ]
     },
     "metadata": {
      "needs_background": "light"
     },
     "output_type": "display_data"
    }
   ],
   "source": [
    "import pandas as pd\n",
    "import numpy as np\n",
    "import matplotlib.pyplot as plt\n",
    "from sklearn.preprocessing import MinMaxScaler\n",
    "from sklearn.model_selection import GridSearchCV, train_test_split\n",
    "import tensorflow as tf\n",
    "\n",
    "\n",
    "train = pd.read_csv('train.csv')\n",
    "test = pd.read_csv('test.csv')\n",
    "\n",
    "test_id = test['Id']\n",
    "test = test.drop(columns = ['Id', 'text', 'reply_to_screen_name', 'hashtags'], axis = 1)\n",
    "\n",
    "## Defining input and target\n",
    "X = train.drop(columns = ['text', 'reply_to_screen_name', 'hashtags', 'country'], axis = 1)\n",
    "Y = train['country']\n",
    "Y = np.where(Y == 'us', 0, \n",
    "             np.where(Y == 'uk', 1, \n",
    "                      np.where(Y == 'canada', 2, \n",
    "                               np.where(Y == 'australia', 3,\n",
    "                                        np.where(Y == 'ireland', 4, 5)))))\n",
    "\n",
    "## Splitting the data \n",
    "X_train, X_test, Y_train, Y_test = train_test_split(X, Y, train_size = 0.2)\n",
    "\n",
    "## Scaling the data \n",
    "scaler = MinMaxScaler()\n",
    "X_train = scaler.fit_transform(X_train)\n",
    "X_test = scaler.fit_transform(X_test)\n",
    "test = scaler.fit_transform(test)\n",
    "\n",
    "## Defining model \n",
    "model = tf.keras.models.Sequential([\n",
    "        tf.keras.layers.Dense(10, input_dim =  15, activation = 'relu'),\n",
    "        tf.keras.layers.Dense(10, activation = 'relu'),\n",
    "        tf.keras.layers.Dense(6, activation = 'softmax')\n",
    "])\n",
    "\n",
    "model.compile(optimizer = 'adam', loss = 'categorical_crossentropy', metrics = ['accuracy'])\n",
    "\n",
    "## Fitting model \n",
    "history = model.fit(X_train, tf.keras.utils.to_categorical(Y_train, num_classes = 6), epochs = 20, batch_size = 32, validation_data = (X_test, tf.keras.utils.to_categorical(Y_test, num_classes = 6)))\n",
    "\n",
    "fig = plt.figure(figsize = (12, 8))\n",
    "\n",
    "## Visualization of accuracy in train and test datasets\n",
    "plt.plot(history.history['accuracy'])\n",
    "plt.plot(history.history['val_accuracy'])\n",
    "plt.title('Model accuracy')\n",
    "plt.ylabel('Accuracy')\n",
    "plt.xlabel('Epoch')\n",
    "plt.legend(['Train', 'Test'], loc = 'upper left')\n",
    "plt.grid()\n",
    "plt.show()"
   ]
  },
  {
   "cell_type": "code",
   "execution_count": 2,
   "id": "f1a1d8a7",
   "metadata": {},
   "outputs": [],
   "source": [
    "## Predicting on test\n",
    "nn_pred = model.predict(test)\n",
    "nn_pred = np.argmax(nn_pred, axis = 1)\n",
    "\n",
    "## Defining data to be exported\n",
    "data_out = pd.DataFrame({'Id': test_id, 'Category': nn_pred})\n",
    "data_out['Category'] = np.where(data_out['Category'] == 0, 'us',\n",
    "                                np.where(data_out['Category'] == 1, 'uk',\n",
    "                                         np.where(data_out['Category'] == 2, 'canada',\n",
    "                                                  np.where(data_out['Category'] == 3, 'australia',\n",
    "                                                           np.where(data_out['Category'] == 4, 'ireland', 'new_zealand')))))\n",
    "data_out.to_csv('nn_submission_md2.csv', index = False)"
   ]
  }
 ],
 "metadata": {
  "kernelspec": {
   "display_name": "conda_tensorflow2_p38",
   "language": "python",
   "name": "conda_tensorflow2_p38"
  },
  "language_info": {
   "codemirror_mode": {
    "name": "ipython",
    "version": 3
   },
   "file_extension": ".py",
   "mimetype": "text/x-python",
   "name": "python",
   "nbconvert_exporter": "python",
   "pygments_lexer": "ipython3",
   "version": "3.8.12"
  }
 },
 "nbformat": 4,
 "nbformat_minor": 5
}
