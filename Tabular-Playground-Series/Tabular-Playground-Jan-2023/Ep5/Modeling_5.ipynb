{
 "cells": [
  {
   "cell_type": "code",
   "execution_count": 2,
   "id": "6257c2d3",
   "metadata": {},
   "outputs": [
    {
     "name": "stdout",
     "output_type": "stream",
     "text": [
      "Looking in indexes: https://pypi.org/simple, https://pip.repos.neuron.amazonaws.com\n",
      "Collecting xgboost\n",
      "  Downloading xgboost-1.7.3-py3-none-manylinux2014_x86_64.whl (193.6 MB)\n",
      "\u001b[2K     \u001b[90m━━━━━━━━━━━━━━━━━━━━━━━━━━━━━━━━━━━━━━━\u001b[0m \u001b[32m193.6/193.6 MB\u001b[0m \u001b[31m2.9 MB/s\u001b[0m eta \u001b[36m0:00:00\u001b[0m00:01\u001b[0m00:01\u001b[0m\n",
      "\u001b[?25hRequirement already satisfied: numpy in /home/ec2-user/anaconda3/envs/python3/lib/python3.10/site-packages (from xgboost) (1.22.4)\n",
      "Requirement already satisfied: scipy in /home/ec2-user/anaconda3/envs/python3/lib/python3.10/site-packages (from xgboost) (1.9.3)\n",
      "Installing collected packages: xgboost\n",
      "Successfully installed xgboost-1.7.3\n",
      "Note: you may need to restart the kernel to use updated packages.\n"
     ]
    }
   ],
   "source": [
    "pip install xgboost"
   ]
  },
  {
   "cell_type": "code",
   "execution_count": 3,
   "id": "29021a66",
   "metadata": {},
   "outputs": [],
   "source": [
    "import boto3\n",
    "import pandas as pd; pd.set_option('display.max_columns', 100)\n",
    "import numpy as np\n",
    "\n",
    "import matplotlib.pyplot as plt; plt.style.use('ggplot')\n",
    "import seaborn as sns\n",
    "\n",
    "from scipy.stats import rankdata\n",
    "from sklearn.cluster import KMeans\n",
    "from sklearn.multiclass import OneVsRestClassifier\n",
    "from sklearn.tree import DecisionTreeRegressor, DecisionTreeClassifier, plot_tree\n",
    "from sklearn.preprocessing import MinMaxScaler\n",
    "from sklearn.model_selection import KFold, train_test_split, GridSearchCV, StratifiedKFold, TimeSeriesSplit\n",
    "from sklearn.metrics import mean_squared_error, roc_auc_score, cohen_kappa_score, davies_bouldin_score, calinski_harabasz_score, silhouette_score\n",
    "from sklearn.neighbors import KNeighborsClassifier\n",
    "from sklearn.ensemble import RandomForestClassifier, HistGradientBoostingClassifier\n",
    "from sklearn.linear_model import LogisticRegression\n",
    "# from lightgbm import LGBMClassifier\n",
    "from xgboost import XGBClassifier\n",
    "# from catboost import CatBoostClassifier\n",
    "\n",
    "# import optuna \n",
    "\n",
    "s3 = boto3.resource('s3')\n",
    "bucket_name = 'analytics-data-science-competitions'\n",
    "bucket = s3.Bucket(bucket_name)\n",
    "\n",
    "file_key_1 = 'Tabular-Playground-Series/TS-S3-Ep5/train.csv'\n",
    "file_key_2 = 'Tabular-Playground-Series/TS-S3-Ep5/test.csv'\n",
    "file_key_3 = 'Tabular-Playground-Series/TS-S3-Ep5/sample_submission.csv'\n",
    "\n",
    "bucket_object_1 = bucket.Object(file_key_1)\n",
    "file_object_1 = bucket_object_1.get()\n",
    "file_content_stream_1 = file_object_1.get('Body')\n",
    "\n",
    "bucket_object_2 = bucket.Object(file_key_2)\n",
    "file_object_2 = bucket_object_2.get()\n",
    "file_content_stream_2 = file_object_2.get('Body')\n",
    "\n",
    "bucket_object_3 = bucket.Object(file_key_3)\n",
    "file_object_3 = bucket_object_3.get()\n",
    "file_content_stream_3 = file_object_3.get('Body')\n",
    "\n",
    "## Reading data files\n",
    "train = pd.read_csv(file_content_stream_1)\n",
    "test = pd.read_csv(file_content_stream_2)\n",
    "submission = pd.read_csv(file_content_stream_3)\n",
    "\n",
    "## Enginering features\n",
    "train['alcohol_density'] = train['alcohol'] * train['density']\n",
    "train['sulphate/density'] = train['sulphates']  / train['density']\n",
    "train['alcohol_sulphate'] = train['alcohol'] * train['sulphates']\n",
    "\n",
    "test['alcohol_density'] = test['alcohol']  * test['density']\n",
    "test['sulphate/density'] = test['sulphates']  / test['density']\n",
    "test['alcohol_sulphate'] = test['alcohol'] * test['sulphates']\n",
    "\n",
    "test_md = test.copy()\n",
    "\n",
    "X = train[['sulphate/density', 'alcohol_density', 'alcohol', 'sulphates']]\n",
    "Y = train['quality'] - 3\n",
    "\n",
    "test_md = test_md[['sulphate/density', 'alcohol_density', 'alcohol', 'sulphates']]"
   ]
  },
  {
   "cell_type": "markdown",
   "id": "b0166c85",
   "metadata": {},
   "source": [
    "# XGBoost Modeling like Crazy"
   ]
  },
  {
   "cell_type": "code",
   "execution_count": 14,
   "id": "aa00354e",
   "metadata": {},
   "outputs": [
    {
     "name": "stdout",
     "output_type": "stream",
     "text": [
      "0\n",
      "1\n",
      "2\n",
      "3\n",
      "4\n",
      "5\n",
      "6\n",
      "7\n",
      "8\n",
      "9\n",
      "10\n",
      "11\n",
      "12\n",
      "13\n",
      "14\n",
      "15\n",
      "16\n",
      "17\n",
      "18\n",
      "19\n",
      "20\n",
      "21\n",
      "22\n",
      "23\n",
      "24\n",
      "25\n",
      "26\n",
      "27\n",
      "28\n",
      "29\n",
      "30\n",
      "31\n",
      "32\n",
      "33\n",
      "34\n",
      "35\n",
      "36\n",
      "37\n",
      "38\n",
      "39\n",
      "40\n",
      "41\n",
      "42\n",
      "43\n",
      "44\n",
      "45\n",
      "46\n",
      "47\n",
      "48\n",
      "49\n",
      "50\n",
      "51\n",
      "52\n",
      "53\n",
      "54\n",
      "55\n",
      "56\n",
      "57\n",
      "58\n",
      "59\n",
      "60\n",
      "61\n",
      "62\n",
      "63\n",
      "64\n",
      "65\n",
      "66\n",
      "67\n",
      "68\n",
      "69\n",
      "70\n",
      "71\n",
      "72\n",
      "73\n",
      "74\n",
      "75\n",
      "76\n",
      "77\n",
      "78\n",
      "79\n",
      "80\n",
      "81\n",
      "82\n",
      "83\n",
      "84\n",
      "85\n",
      "86\n",
      "87\n",
      "88\n",
      "89\n",
      "90\n",
      "91\n",
      "92\n",
      "93\n",
      "94\n",
      "95\n",
      "96\n",
      "97\n",
      "98\n",
      "99\n",
      "The average roc-auc score over 5-folds (run 5 times) is: 0.5229620617745152\n"
     ]
    }
   ],
   "source": [
    "XGB_cv_scores, XGB_imp = list(), list()\n",
    "preds = list()\n",
    "\n",
    "## Running 5 times CV\n",
    "for i in range(100):\n",
    "    \n",
    "    print(i)\n",
    "    ## Building RF model\n",
    "    XGB_md = XGBClassifier(tree_method = 'hist',\n",
    "                           colsample_bytree = 0.7, \n",
    "                           gamma = 5.5, \n",
    "                           learning_rate = 0.031, \n",
    "                           max_depth = 5, \n",
    "                           min_child_weight = 68, \n",
    "                           n_estimators = 8800, \n",
    "                           subsample = 0.41, \n",
    "                           random_state = i).fit(X, Y)\n",
    "    XGB_imp.append(XGB_md.feature_importances_)\n",
    "        \n",
    "    ## Predicting on X_test and test\n",
    "    XGB_pred_1 = XGB_md.predict(X)\n",
    "    XGB_pred_2 = XGB_md.predict(test_md)\n",
    "        \n",
    "    ## Computing roc-auc score\n",
    "    XGB_cv_scores.append(cohen_kappa_score(Y, XGB_pred_1, weights = 'quadratic'))\n",
    "    preds.append(XGB_pred_2)\n",
    "\n",
    "XGB_cv_score = np.mean(XGB_cv_scores)    \n",
    "print('The average roc-auc score over 5-folds (run 5 times) is:', XGB_cv_score)"
   ]
  },
  {
   "cell_type": "code",
   "execution_count": 10,
   "id": "e60e8541",
   "metadata": {},
   "outputs": [
    {
     "data": {
      "text/plain": [
       "[array([2, 3, 2, ..., 2, 2, 2]),\n",
       " array([2, 3, 2, ..., 2, 2, 2]),\n",
       " array([2, 3, 2, ..., 2, 2, 2]),\n",
       " array([2, 3, 2, ..., 2, 2, 2]),\n",
       " array([2, 3, 2, ..., 2, 2, 2]),\n",
       " array([2, 3, 2, ..., 2, 2, 2]),\n",
       " array([2, 3, 2, ..., 2, 2, 2]),\n",
       " array([2, 3, 2, ..., 2, 2, 2]),\n",
       " array([2, 3, 2, ..., 2, 2, 2]),\n",
       " array([2, 3, 2, ..., 2, 2, 2]),\n",
       " array([2, 3, 2, ..., 2, 2, 2]),\n",
       " array([2, 3, 2, ..., 2, 2, 2]),\n",
       " array([2, 3, 2, ..., 2, 2, 2]),\n",
       " array([2, 3, 2, ..., 2, 2, 2]),\n",
       " array([2, 3, 2, ..., 2, 2, 2]),\n",
       " array([2, 3, 2, ..., 2, 2, 2]),\n",
       " array([2, 3, 2, ..., 2, 2, 2]),\n",
       " array([2, 3, 2, ..., 2, 2, 2]),\n",
       " array([2, 3, 2, ..., 2, 2, 2]),\n",
       " array([2, 3, 2, ..., 2, 2, 2]),\n",
       " array([2, 3, 2, ..., 2, 2, 2]),\n",
       " array([2, 3, 2, ..., 2, 2, 2]),\n",
       " array([2, 3, 2, ..., 2, 2, 2]),\n",
       " array([2, 3, 2, ..., 2, 2, 2]),\n",
       " array([2, 3, 2, ..., 2, 2, 2]),\n",
       " array([2, 3, 2, ..., 2, 2, 2]),\n",
       " array([2, 3, 2, ..., 2, 2, 2]),\n",
       " array([2, 3, 2, ..., 2, 2, 2]),\n",
       " array([2, 3, 2, ..., 2, 2, 2]),\n",
       " array([2, 3, 2, ..., 2, 2, 2]),\n",
       " array([2, 3, 2, ..., 2, 2, 2]),\n",
       " array([2, 3, 2, ..., 2, 2, 2]),\n",
       " array([2, 3, 2, ..., 2, 2, 2]),\n",
       " array([2, 3, 2, ..., 2, 2, 2]),\n",
       " array([2, 3, 2, ..., 2, 2, 2]),\n",
       " array([2, 3, 2, ..., 2, 2, 2]),\n",
       " array([2, 3, 2, ..., 2, 2, 2]),\n",
       " array([2, 3, 2, ..., 2, 2, 2]),\n",
       " array([2, 3, 2, ..., 2, 2, 2]),\n",
       " array([2, 3, 2, ..., 2, 2, 2]),\n",
       " array([2, 3, 2, ..., 2, 2, 2]),\n",
       " array([2, 3, 2, ..., 2, 2, 2]),\n",
       " array([2, 3, 2, ..., 2, 2, 2]),\n",
       " array([2, 3, 2, ..., 2, 2, 2]),\n",
       " array([2, 3, 2, ..., 2, 2, 2]),\n",
       " array([2, 3, 2, ..., 2, 2, 2]),\n",
       " array([2, 3, 2, ..., 2, 2, 2]),\n",
       " array([2, 3, 2, ..., 2, 2, 2]),\n",
       " array([2, 3, 2, ..., 2, 2, 2]),\n",
       " array([2, 3, 2, ..., 2, 2, 2])]"
      ]
     },
     "execution_count": 10,
     "metadata": {},
     "output_type": "execute_result"
    }
   ],
   "source": [
    "preds"
   ]
  },
  {
   "cell_type": "code",
   "execution_count": 11,
   "id": "2732429c",
   "metadata": {},
   "outputs": [
    {
     "data": {
      "text/plain": [
       "0     2\n",
       "1     2\n",
       "2     2\n",
       "3     2\n",
       "4     2\n",
       "5     2\n",
       "6     2\n",
       "7     2\n",
       "8     2\n",
       "9     2\n",
       "10    2\n",
       "11    2\n",
       "12    2\n",
       "13    2\n",
       "14    2\n",
       "15    2\n",
       "16    2\n",
       "17    2\n",
       "18    2\n",
       "19    2\n",
       "20    2\n",
       "21    2\n",
       "22    2\n",
       "23    2\n",
       "24    2\n",
       "25    2\n",
       "26    2\n",
       "27    2\n",
       "28    2\n",
       "29    2\n",
       "30    2\n",
       "31    2\n",
       "32    2\n",
       "33    2\n",
       "34    2\n",
       "35    2\n",
       "36    2\n",
       "37    2\n",
       "38    2\n",
       "39    2\n",
       "40    2\n",
       "41    2\n",
       "42    2\n",
       "43    2\n",
       "44    2\n",
       "45    2\n",
       "46    2\n",
       "47    2\n",
       "48    2\n",
       "49    2\n",
       "Name: 0, dtype: int64"
      ]
     },
     "execution_count": 11,
     "metadata": {},
     "output_type": "execute_result"
    }
   ],
   "source": [
    "pred_out = pd.DataFrame(preds)\n",
    "pred_out.loc[:, 0]"
   ]
  },
  {
   "cell_type": "code",
   "execution_count": 17,
   "id": "352d46b2",
   "metadata": {},
   "outputs": [
    {
     "data": {
      "text/html": [
       "<div>\n",
       "<style scoped>\n",
       "    .dataframe tbody tr th:only-of-type {\n",
       "        vertical-align: middle;\n",
       "    }\n",
       "\n",
       "    .dataframe tbody tr th {\n",
       "        vertical-align: top;\n",
       "    }\n",
       "\n",
       "    .dataframe thead th {\n",
       "        text-align: right;\n",
       "    }\n",
       "</style>\n",
       "<table border=\"1\" class=\"dataframe\">\n",
       "  <thead>\n",
       "    <tr style=\"text-align: right;\">\n",
       "      <th></th>\n",
       "      <th>Id</th>\n",
       "      <th>quality</th>\n",
       "    </tr>\n",
       "  </thead>\n",
       "  <tbody>\n",
       "    <tr>\n",
       "      <th>0</th>\n",
       "      <td>2056</td>\n",
       "      <td>5</td>\n",
       "    </tr>\n",
       "    <tr>\n",
       "      <th>1</th>\n",
       "      <td>2057</td>\n",
       "      <td>6</td>\n",
       "    </tr>\n",
       "    <tr>\n",
       "      <th>2</th>\n",
       "      <td>2058</td>\n",
       "      <td>5</td>\n",
       "    </tr>\n",
       "    <tr>\n",
       "      <th>3</th>\n",
       "      <td>2059</td>\n",
       "      <td>6</td>\n",
       "    </tr>\n",
       "    <tr>\n",
       "      <th>4</th>\n",
       "      <td>2060</td>\n",
       "      <td>6</td>\n",
       "    </tr>\n",
       "  </tbody>\n",
       "</table>\n",
       "</div>"
      ],
      "text/plain": [
       "     Id  quality\n",
       "0  2056        5\n",
       "1  2057        6\n",
       "2  2058        5\n",
       "3  2059        6\n",
       "4  2060        6"
      ]
     },
     "execution_count": 17,
     "metadata": {},
     "output_type": "execute_result"
    }
   ],
   "source": [
    "XGB_preds_test = pd.DataFrame(preds).mode(axis = 0).loc[0, ] + 3\n",
    "\n",
    "submission['quality'] = XGB_preds_test.astype(int)\n",
    "submission.head()"
   ]
  },
  {
   "cell_type": "code",
   "execution_count": 18,
   "id": "ee1d72c7",
   "metadata": {},
   "outputs": [
    {
     "data": {
      "text/plain": [
       "5    635\n",
       "6    565\n",
       "7    172\n",
       "Name: quality, dtype: int64"
      ]
     },
     "execution_count": 18,
     "metadata": {},
     "output_type": "execute_result"
    }
   ],
   "source": [
    "submission['quality'].value_counts()"
   ]
  },
  {
   "cell_type": "code",
   "execution_count": 13,
   "id": "96bd045a",
   "metadata": {},
   "outputs": [
    {
     "data": {
      "text/plain": [
       "5    635\n",
       "6    565\n",
       "7    172\n",
       "Name: quality, dtype: int64"
      ]
     },
     "execution_count": 13,
     "metadata": {},
     "output_type": "execute_result"
    }
   ],
   "source": [
    "submission['quality'].value_counts()"
   ]
  },
  {
   "cell_type": "code",
   "execution_count": 8,
   "id": "572dbb8f",
   "metadata": {},
   "outputs": [
    {
     "data": {
      "text/plain": [
       "5    640\n",
       "6    564\n",
       "7    168\n",
       "Name: quality, dtype: int64"
      ]
     },
     "execution_count": 8,
     "metadata": {},
     "output_type": "execute_result"
    }
   ],
   "source": [
    "submission['quality'].value_counts()"
   ]
  },
  {
   "cell_type": "code",
   "execution_count": 19,
   "id": "086ed369",
   "metadata": {},
   "outputs": [],
   "source": [
    "submission.to_csv('XGB_baseline_full_FE_11.csv', index = False)"
   ]
  }
 ],
 "metadata": {
  "kernelspec": {
   "display_name": "conda_python3",
   "language": "python",
   "name": "conda_python3"
  },
  "language_info": {
   "codemirror_mode": {
    "name": "ipython",
    "version": 3
   },
   "file_extension": ".py",
   "mimetype": "text/x-python",
   "name": "python",
   "nbconvert_exporter": "python",
   "pygments_lexer": "ipython3",
   "version": "3.10.6"
  }
 },
 "nbformat": 4,
 "nbformat_minor": 5
}
