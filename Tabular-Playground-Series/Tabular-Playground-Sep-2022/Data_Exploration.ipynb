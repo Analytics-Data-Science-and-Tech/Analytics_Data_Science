{
 "cells": [
  {
   "cell_type": "code",
   "execution_count": 7,
   "id": "b06fc9ba",
   "metadata": {},
   "outputs": [],
   "source": [
    "import boto3\n",
    "import pandas as pd; pd.set_option('display.max_columns', 100)\n",
    "import numpy as np\n",
    "import matplotlib.pyplot as plt\n",
    "import seaborn as sns\n",
    "from sklearn.tree import DecisionTreeClassifier, plot_tree\n",
    "from sklearn.ensemble import RandomForestClassifier\n",
    "from sklearn.impute import KNNImputer\n",
    "\n",
    "s3 = boto3.resource('s3')\n",
    "bucket_name = 'analytics-data-science-competitions'\n",
    "bucket = s3.Bucket(bucket_name)\n",
    "\n",
    "file_key_1 = 'Tabular-Playground-Sep-2022/train.csv'\n",
    "file_key_2 = 'Tabular-Playground-Sep-2022/test.csv'\n",
    "\n",
    "bucket_object_1 = bucket.Object(file_key_1)\n",
    "file_object_1 = bucket_object_1.get()\n",
    "file_content_stream_1 = file_object_1.get('Body')\n",
    "\n",
    "bucket_object_2 = bucket.Object(file_key_2)\n",
    "file_object_2 = bucket_object_2.get()\n",
    "file_content_stream_2 = file_object_2.get('Body')\n",
    "\n",
    "## Reading data-files\n",
    "train = pd.read_csv(file_content_stream_1)\n",
    "train['date'] = pd.to_datetime(train['date'], format = '%Y-%m-%d')\n",
    "\n",
    "test = pd.read_csv(file_content_stream_2)\n",
    "test['date'] = pd.to_datetime(test['date'], format = '%Y-%m-%d')"
   ]
  },
  {
   "cell_type": "markdown",
   "id": "9fcc0890",
   "metadata": {},
   "source": [
    "# Train Dataset Exploration"
   ]
  },
  {
   "cell_type": "code",
   "execution_count": 8,
   "id": "5e87da92",
   "metadata": {},
   "outputs": [
    {
     "data": {
      "text/html": [
       "<div>\n",
       "<style scoped>\n",
       "    .dataframe tbody tr th:only-of-type {\n",
       "        vertical-align: middle;\n",
       "    }\n",
       "\n",
       "    .dataframe tbody tr th {\n",
       "        vertical-align: top;\n",
       "    }\n",
       "\n",
       "    .dataframe thead th {\n",
       "        text-align: right;\n",
       "    }\n",
       "</style>\n",
       "<table border=\"1\" class=\"dataframe\">\n",
       "  <thead>\n",
       "    <tr style=\"text-align: right;\">\n",
       "      <th></th>\n",
       "      <th>row_id</th>\n",
       "      <th>date</th>\n",
       "      <th>country</th>\n",
       "      <th>store</th>\n",
       "      <th>product</th>\n",
       "      <th>num_sold</th>\n",
       "    </tr>\n",
       "  </thead>\n",
       "  <tbody>\n",
       "    <tr>\n",
       "      <th>0</th>\n",
       "      <td>0</td>\n",
       "      <td>2017-01-01</td>\n",
       "      <td>Belgium</td>\n",
       "      <td>KaggleMart</td>\n",
       "      <td>Kaggle Advanced Techniques</td>\n",
       "      <td>663</td>\n",
       "    </tr>\n",
       "    <tr>\n",
       "      <th>1</th>\n",
       "      <td>1</td>\n",
       "      <td>2017-01-01</td>\n",
       "      <td>Belgium</td>\n",
       "      <td>KaggleMart</td>\n",
       "      <td>Kaggle Getting Started</td>\n",
       "      <td>615</td>\n",
       "    </tr>\n",
       "    <tr>\n",
       "      <th>2</th>\n",
       "      <td>2</td>\n",
       "      <td>2017-01-01</td>\n",
       "      <td>Belgium</td>\n",
       "      <td>KaggleMart</td>\n",
       "      <td>Kaggle Recipe Book</td>\n",
       "      <td>480</td>\n",
       "    </tr>\n",
       "    <tr>\n",
       "      <th>3</th>\n",
       "      <td>3</td>\n",
       "      <td>2017-01-01</td>\n",
       "      <td>Belgium</td>\n",
       "      <td>KaggleMart</td>\n",
       "      <td>Kaggle for Kids: One Smart Goose</td>\n",
       "      <td>710</td>\n",
       "    </tr>\n",
       "    <tr>\n",
       "      <th>4</th>\n",
       "      <td>4</td>\n",
       "      <td>2017-01-01</td>\n",
       "      <td>Belgium</td>\n",
       "      <td>KaggleRama</td>\n",
       "      <td>Kaggle Advanced Techniques</td>\n",
       "      <td>240</td>\n",
       "    </tr>\n",
       "  </tbody>\n",
       "</table>\n",
       "</div>"
      ],
      "text/plain": [
       "   row_id       date  country       store                           product  \\\n",
       "0       0 2017-01-01  Belgium  KaggleMart        Kaggle Advanced Techniques   \n",
       "1       1 2017-01-01  Belgium  KaggleMart            Kaggle Getting Started   \n",
       "2       2 2017-01-01  Belgium  KaggleMart                Kaggle Recipe Book   \n",
       "3       3 2017-01-01  Belgium  KaggleMart  Kaggle for Kids: One Smart Goose   \n",
       "4       4 2017-01-01  Belgium  KaggleRama        Kaggle Advanced Techniques   \n",
       "\n",
       "   num_sold  \n",
       "0       663  \n",
       "1       615  \n",
       "2       480  \n",
       "3       710  \n",
       "4       240  "
      ]
     },
     "execution_count": 8,
     "metadata": {},
     "output_type": "execute_result"
    }
   ],
   "source": [
    "train.head()"
   ]
  },
  {
   "cell_type": "code",
   "execution_count": 11,
   "id": "64dc5d82",
   "metadata": {},
   "outputs": [
    {
     "name": "stderr",
     "output_type": "stream",
     "text": [
      "/tmp/ipykernel_10814/3633980960.py:1: FutureWarning: Treating datetime data as categorical rather than numeric in `.describe` is deprecated and will be removed in a future version of pandas. Specify `datetime_is_numeric=True` to silence this warning and adopt the future behavior now.\n",
      "  train['date'].describe()\n"
     ]
    },
    {
     "data": {
      "text/plain": [
       "count                   70128\n",
       "unique                   1461\n",
       "top       2017-01-01 00:00:00\n",
       "freq                       48\n",
       "first     2017-01-01 00:00:00\n",
       "last      2020-12-31 00:00:00\n",
       "Name: date, dtype: object"
      ]
     },
     "execution_count": 11,
     "metadata": {},
     "output_type": "execute_result"
    }
   ],
   "source": [
    "train['date'].describe()"
   ]
  },
  {
   "cell_type": "code",
   "execution_count": null,
   "id": "89955974",
   "metadata": {},
   "outputs": [],
   "source": []
  },
  {
   "cell_type": "code",
   "execution_count": 12,
   "id": "17a3f9c5",
   "metadata": {},
   "outputs": [
    {
     "data": {
      "text/plain": [
       "KaggleMart    35064\n",
       "KaggleRama    35064\n",
       "Name: store, dtype: int64"
      ]
     },
     "execution_count": 12,
     "metadata": {},
     "output_type": "execute_result"
    }
   ],
   "source": [
    "train['store'].value_counts()"
   ]
  },
  {
   "cell_type": "code",
   "execution_count": 13,
   "id": "2e8d06e8",
   "metadata": {},
   "outputs": [
    {
     "data": {
      "text/plain": [
       "Belgium    11688\n",
       "France     11688\n",
       "Germany    11688\n",
       "Italy      11688\n",
       "Poland     11688\n",
       "Spain      11688\n",
       "Name: country, dtype: int64"
      ]
     },
     "execution_count": 13,
     "metadata": {},
     "output_type": "execute_result"
    }
   ],
   "source": [
    "train['country'].value_counts()"
   ]
  },
  {
   "cell_type": "code",
   "execution_count": 16,
   "id": "d861c7cb",
   "metadata": {},
   "outputs": [
    {
     "data": {
      "text/html": [
       "<div>\n",
       "<style scoped>\n",
       "    .dataframe tbody tr th:only-of-type {\n",
       "        vertical-align: middle;\n",
       "    }\n",
       "\n",
       "    .dataframe tbody tr th {\n",
       "        vertical-align: top;\n",
       "    }\n",
       "\n",
       "    .dataframe thead th {\n",
       "        text-align: right;\n",
       "    }\n",
       "</style>\n",
       "<table border=\"1\" class=\"dataframe\">\n",
       "  <thead>\n",
       "    <tr style=\"text-align: right;\">\n",
       "      <th>store</th>\n",
       "      <th>KaggleMart</th>\n",
       "      <th>KaggleRama</th>\n",
       "    </tr>\n",
       "    <tr>\n",
       "      <th>country</th>\n",
       "      <th></th>\n",
       "      <th></th>\n",
       "    </tr>\n",
       "  </thead>\n",
       "  <tbody>\n",
       "    <tr>\n",
       "      <th>Belgium</th>\n",
       "      <td>5844</td>\n",
       "      <td>5844</td>\n",
       "    </tr>\n",
       "    <tr>\n",
       "      <th>France</th>\n",
       "      <td>5844</td>\n",
       "      <td>5844</td>\n",
       "    </tr>\n",
       "    <tr>\n",
       "      <th>Germany</th>\n",
       "      <td>5844</td>\n",
       "      <td>5844</td>\n",
       "    </tr>\n",
       "    <tr>\n",
       "      <th>Italy</th>\n",
       "      <td>5844</td>\n",
       "      <td>5844</td>\n",
       "    </tr>\n",
       "    <tr>\n",
       "      <th>Poland</th>\n",
       "      <td>5844</td>\n",
       "      <td>5844</td>\n",
       "    </tr>\n",
       "    <tr>\n",
       "      <th>Spain</th>\n",
       "      <td>5844</td>\n",
       "      <td>5844</td>\n",
       "    </tr>\n",
       "  </tbody>\n",
       "</table>\n",
       "</div>"
      ],
      "text/plain": [
       "store    KaggleMart  KaggleRama\n",
       "country                        \n",
       "Belgium        5844        5844\n",
       "France         5844        5844\n",
       "Germany        5844        5844\n",
       "Italy          5844        5844\n",
       "Poland         5844        5844\n",
       "Spain          5844        5844"
      ]
     },
     "execution_count": 16,
     "metadata": {},
     "output_type": "execute_result"
    }
   ],
   "source": [
    "pd.crosstab(train['country'], train['store'])"
   ]
  },
  {
   "cell_type": "code",
   "execution_count": 9,
   "id": "552f21ad",
   "metadata": {},
   "outputs": [
    {
     "data": {
      "text/html": [
       "<div>\n",
       "<style scoped>\n",
       "    .dataframe tbody tr th:only-of-type {\n",
       "        vertical-align: middle;\n",
       "    }\n",
       "\n",
       "    .dataframe tbody tr th {\n",
       "        vertical-align: top;\n",
       "    }\n",
       "\n",
       "    .dataframe thead th {\n",
       "        text-align: right;\n",
       "    }\n",
       "</style>\n",
       "<table border=\"1\" class=\"dataframe\">\n",
       "  <thead>\n",
       "    <tr style=\"text-align: right;\">\n",
       "      <th></th>\n",
       "      <th>row_id</th>\n",
       "      <th>date</th>\n",
       "      <th>country</th>\n",
       "      <th>store</th>\n",
       "      <th>product</th>\n",
       "    </tr>\n",
       "  </thead>\n",
       "  <tbody>\n",
       "    <tr>\n",
       "      <th>0</th>\n",
       "      <td>70128</td>\n",
       "      <td>2021-01-01</td>\n",
       "      <td>Belgium</td>\n",
       "      <td>KaggleMart</td>\n",
       "      <td>Kaggle Advanced Techniques</td>\n",
       "    </tr>\n",
       "    <tr>\n",
       "      <th>1</th>\n",
       "      <td>70129</td>\n",
       "      <td>2021-01-01</td>\n",
       "      <td>Belgium</td>\n",
       "      <td>KaggleMart</td>\n",
       "      <td>Kaggle Getting Started</td>\n",
       "    </tr>\n",
       "    <tr>\n",
       "      <th>2</th>\n",
       "      <td>70130</td>\n",
       "      <td>2021-01-01</td>\n",
       "      <td>Belgium</td>\n",
       "      <td>KaggleMart</td>\n",
       "      <td>Kaggle Recipe Book</td>\n",
       "    </tr>\n",
       "    <tr>\n",
       "      <th>3</th>\n",
       "      <td>70131</td>\n",
       "      <td>2021-01-01</td>\n",
       "      <td>Belgium</td>\n",
       "      <td>KaggleMart</td>\n",
       "      <td>Kaggle for Kids: One Smart Goose</td>\n",
       "    </tr>\n",
       "    <tr>\n",
       "      <th>4</th>\n",
       "      <td>70132</td>\n",
       "      <td>2021-01-01</td>\n",
       "      <td>Belgium</td>\n",
       "      <td>KaggleRama</td>\n",
       "      <td>Kaggle Advanced Techniques</td>\n",
       "    </tr>\n",
       "  </tbody>\n",
       "</table>\n",
       "</div>"
      ],
      "text/plain": [
       "   row_id       date  country       store                           product\n",
       "0   70128 2021-01-01  Belgium  KaggleMart        Kaggle Advanced Techniques\n",
       "1   70129 2021-01-01  Belgium  KaggleMart            Kaggle Getting Started\n",
       "2   70130 2021-01-01  Belgium  KaggleMart                Kaggle Recipe Book\n",
       "3   70131 2021-01-01  Belgium  KaggleMart  Kaggle for Kids: One Smart Goose\n",
       "4   70132 2021-01-01  Belgium  KaggleRama        Kaggle Advanced Techniques"
      ]
     },
     "execution_count": 9,
     "metadata": {},
     "output_type": "execute_result"
    }
   ],
   "source": [
    "test.head()"
   ]
  },
  {
   "cell_type": "code",
   "execution_count": 14,
   "id": "eac55b4c",
   "metadata": {},
   "outputs": [
    {
     "data": {
      "text/plain": [
       "KaggleMart    8760\n",
       "KaggleRama    8760\n",
       "Name: store, dtype: int64"
      ]
     },
     "execution_count": 14,
     "metadata": {},
     "output_type": "execute_result"
    }
   ],
   "source": [
    "test['store'].value_counts()"
   ]
  },
  {
   "cell_type": "code",
   "execution_count": 15,
   "id": "2dd9d536",
   "metadata": {},
   "outputs": [
    {
     "data": {
      "text/plain": [
       "Belgium    2920\n",
       "France     2920\n",
       "Germany    2920\n",
       "Italy      2920\n",
       "Poland     2920\n",
       "Spain      2920\n",
       "Name: country, dtype: int64"
      ]
     },
     "execution_count": 15,
     "metadata": {},
     "output_type": "execute_result"
    }
   ],
   "source": [
    "test['country'].value_counts()"
   ]
  }
 ],
 "metadata": {
  "kernelspec": {
   "display_name": "conda_python3",
   "language": "python",
   "name": "conda_python3"
  },
  "language_info": {
   "codemirror_mode": {
    "name": "ipython",
    "version": 3
   },
   "file_extension": ".py",
   "mimetype": "text/x-python",
   "name": "python",
   "nbconvert_exporter": "python",
   "pygments_lexer": "ipython3",
   "version": "3.8.12"
  }
 },
 "nbformat": 4,
 "nbformat_minor": 5
}
