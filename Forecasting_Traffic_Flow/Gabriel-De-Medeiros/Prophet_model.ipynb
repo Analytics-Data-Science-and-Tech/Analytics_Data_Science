{
 "cells": [
  {
   "cell_type": "markdown",
   "id": "9a44d670-52c9-49c6-a979-8b2cd30610d7",
   "metadata": {},
   "source": [
    "# Installing prophet"
   ]
  },
  {
   "cell_type": "code",
   "execution_count": 1,
   "id": "039a6965-6a5c-460a-9055-1f04207641d0",
   "metadata": {},
   "outputs": [],
   "source": [
    "# pip install prophet"
   ]
  },
  {
   "cell_type": "code",
   "execution_count": 2,
   "id": "abab4df4-1550-4cd8-8b1e-dfbc899ae981",
   "metadata": {},
   "outputs": [
    {
     "name": "stderr",
     "output_type": "stream",
     "text": [
      "Importing plotly failed. Interactive plots will not work.\n"
     ]
    }
   ],
   "source": [
    "# Importing libraries\n",
    "from sklearn.metrics import mean_absolute_error\n",
    "import matplotlib.pyplot as plt\n",
    "from prophet import Prophet\n",
    "from tqdm import tqdm\n",
    "import pandas as pd\n",
    "import numpy as np\n",
    "import logging\n",
    "\n",
    "logging.getLogger('prophet').setLevel(logging.WARNING) \n",
    "\n",
    "## Importing train and test data\n",
    "congestion = pd.read_csv('/Users/gabrielmedeiros/Desktop/Data_Science_Competitions/Comp1/train.csv')\n",
    "test_data = pd.read_csv('/Users/gabrielmedeiros/Desktop/Data_Science_Competitions/Comp1/test.csv')\n",
    "\n",
    "\n",
    "\n",
    "\n",
    "## Here I add the columns as strings to create the new column\n",
    "congestion['location_id'] = pd.DataFrame(\n",
    "                 'x' + congestion.x.astype(str) +\\\n",
    "                 'y' + congestion.y.astype(str) + \\\n",
    "                 congestion.direction.astype(str))\n",
    "\n",
    "## Here I subset the data set into a train data for predicitons\n",
    "train_prophet = congestion[['location_id', 'time' ,'congestion']]\n",
    "\n",
    "## Here I rename the columns to match prophet's requirements (ds for dates, and y for value to be predicted)\n",
    "train_prophet.columns = ['location_id','ds','y']\n",
    "\n",
    "           \n",
    "    \n",
    "## Here I add the columns as strings to create the new column\n",
    "test_data['location_id'] = pd.DataFrame(\n",
    "                 'x' + congestion.x.astype(str) +\\\n",
    "                 'y' + congestion.y.astype(str) + \\\n",
    "                 congestion.direction.astype(str))\n",
    "\n",
    "## Here I subset the data set into a train data for predicitons\n",
    "test_prophet = test_data[['location_id', 'time']]\n",
    "\n",
    "## Here I rename the columns to match prophet's requirements (ds for dates, and y for value to be predicted)\n",
    "test_prophet.columns = ['location_id','ds']\n",
    "\n",
    "\n",
    "\n",
    "\n",
    "## This data set retrieves an n number of days, in order, based on a single id match\n",
    "## By doing so, I am able to retrieve a fixed number of days to be predicted for each combination\n",
    "## Prophet requires the creation o an empty data frame so we can allocate the results.\n",
    "\n",
    "## The train dataset has days of which we already have the congestion data, so we can evaluate the predictions\n",
    "future_train_full = pd.DataFrame(train_prophet['ds'][train_prophet['location_id'] == 'x2y3NE'].reset_index(drop = True))\n",
    "\n",
    "future_train = future_train_full.iloc[0:13023,:]\n",
    "\n",
    "future_val = future_train_full.iloc[13023:13059,:]\n",
    "\n",
    "\n",
    "## The test dataset contains days of whych we do not have congestion data, which are the days to be submited\n",
    "future_test = pd.DataFrame(test_prophet['ds'][test_prophet['location_id'] == 'x2y3NE'].reset_index(drop = True))\n",
    "\n",
    "\n",
    "\n",
    "## When using prophet, we need the train and test data sets in one data set\n",
    "## Hence, I concatenated both data frames I just created \n",
    "\n",
    "future = pd.concat([future_train_full, future_test])"
   ]
  },
  {
   "cell_type": "markdown",
   "id": "75f51d95-6ffd-4328-893f-5ea1cdae62ba",
   "metadata": {},
   "source": [
    "## Cross-Validation"
   ]
  },
  {
   "cell_type": "code",
   "execution_count": 3,
   "id": "e9260f80-0c05-4765-9d60-8e0ea406d34f",
   "metadata": {},
   "outputs": [],
   "source": [
    "# import itertools\n",
    "# import numpy as np\n",
    "# import pandas as pd\n",
    "# from prophet.diagnostics import cross_validation, performance_metrics\n",
    "\n",
    "\n",
    "\n",
    "\n",
    "\n",
    "\n",
    "\n",
    "# param_grid = {  \n",
    "#     'changepoint_prior_scale': [0.001, 0.01, 0.1, 0.5],\n",
    "#     'seasonality_prior_scale': [0.01, 0.1, 1.0, 10.0],\n",
    "# }\n",
    "\n",
    "# # Generate all combinations of parameters\n",
    "# all_params = [dict(zip(param_grid.keys(), v)) for v in itertools.product(*param_grid.values())]\n",
    "# results = -pd.DataFrame()  # Store the RMSEs for each params here\n",
    "\n",
    "\n",
    "\n",
    "\n",
    "# ## Here I create a group by for each location id, so we can have predictions based on each individual location\n",
    "# locations = train_prophet.groupby('location_id')\n",
    "\n",
    "\n",
    "\n",
    "\n",
    "\n",
    "# for params in tqdm(all_params):\n",
    "\n",
    "#     ## Here I loop through the groups\n",
    "#     for g in locations.groups:\n",
    "\n",
    "#         ## Here I specify the group to be used (g would be here 'x0y0EB' as an example)\n",
    "#         group_train = locations.get_group(g)\n",
    "\n",
    "#         ## Here we define a new prophet model so we can refresh it and use a model for each group\n",
    "#         ## Prophet will not allow one Prophet() model to be ran multiple times, that is why a new one\n",
    "#         ## is called for each loop\n",
    "#         m = Prophet(**params).fit(group_train)  # Fit model with given params\n",
    "#         df_cv = cross_validation(m, initial = '150 days',horizon = '12 hours',parallel=\"processes\")\n",
    "#         df_p = performance_metrics(df_cv, rolling_window=1)\n",
    "        \n",
    "        \n",
    "#         results = pd.concat([results, pd.DataFrame([df_p['rmse'].values[0],params])], ignore_index=True)"
   ]
  },
  {
   "cell_type": "code",
   "execution_count": 4,
   "id": "f2100263-7170-455e-96f9-a2eb2cc5c7c3",
   "metadata": {},
   "outputs": [],
   "source": [
    "# params_df = pd.DataFrame(results)\n",
    "# params_df.columns = ['rmse','parameters']\n",
    "# params_df['parameters'] = params_df['parameters'].astype('str')\n",
    "\n",
    "\n",
    "# params_df.groupby('parameters')['rmse'].mean().sort_values()"
   ]
  },
  {
   "cell_type": "code",
   "execution_count": 9,
   "id": "779d6b08-1c1f-4a0f-9b32-0266c9c8eeaa",
   "metadata": {},
   "outputs": [
    {
     "name": "stderr",
     "output_type": "stream",
     "text": [
      "100%|██████████| 65/65 [04:48<00:00,  4.44s/it]\n"
     ]
    }
   ],
   "source": [
    "## This avoids prophet from printing warning messages, but still allows tqdm to show us a progress bar\n",
    "logging.getLogger('prophet').setLevel(logging.WARNING) \n",
    "\n",
    "## Creating empty data frame to store results\n",
    "results = pd.DataFrame()\n",
    "\n",
    "\n",
    "## Here I create a group by for each location id, so we can have predictions based on each individual location\n",
    "locations = train_prophet.groupby('location_id')\n",
    "\n",
    "## Here I loop through the groups\n",
    "for g in tqdm(locations.groups):\n",
    "    \n",
    "    ## Here I specify the group to be used (g would be here 'x0y0EB' as an example)\n",
    "    group_train = locations.get_group(g)\n",
    "    \n",
    "    ## Here we define a new prophet model so we can refresh it and use a model for each group\n",
    "    ## Prophet will not allow one Prophet() model to be ran multiple times, that is why a new one\n",
    "    ## is called for each loop\n",
    "    prophet_md = Prophet(changepoint_prior_scale = 0.001, seasonality_prior_scale = 0.01)\n",
    "    \n",
    "    ## Here, the group data is fittet into the model\n",
    "    prophet_fit = prophet_md.fit(group_train)\n",
    "    \n",
    "    ## Here, prophet predicts congestion based on the dates specified on the 'future' data set\n",
    "    forecast = prophet_fit.predict(future)\n",
    "    \n",
    "    ## This creates a new column in our data frame and appends the group name being used for that specific loop\n",
    "    forecast['location_id'] = g\n",
    "    \n",
    "    ## Here we store the results in a single data frame\n",
    "    results = pd.concat([results, forecast], ignore_index=True)\n",
    "\n"
   ]
  },
  {
   "cell_type": "code",
   "execution_count": 10,
   "id": "7b0e8f19-ed02-4cec-8cbf-f22444a253f4",
   "metadata": {},
   "outputs": [
    {
     "name": "stderr",
     "output_type": "stream",
     "text": [
      "<ipython-input-10-30a2a0f63393>:2: SettingWithCopyWarning: \n",
      "A value is trying to be set on a copy of a slice from a DataFrame.\n",
      "Try using .loc[row_indexer,col_indexer] = value instead\n",
      "\n",
      "See the caveats in the documentation: https://pandas.pydata.org/pandas-docs/stable/user_guide/indexing.html#returning-a-view-versus-a-copy\n",
      "  train_prophet['ds'] = pd.to_datetime(train_prophet['ds'])\n",
      "<ipython-input-10-30a2a0f63393>:3: SettingWithCopyWarning: \n",
      "A value is trying to be set on a copy of a slice from a DataFrame.\n",
      "Try using .loc[row_indexer,col_indexer] = value instead\n",
      "\n",
      "See the caveats in the documentation: https://pandas.pydata.org/pandas-docs/stable/user_guide/indexing.html#returning-a-view-versus-a-copy\n",
      "  future_val['ds'] = pd.to_datetime(future_val['ds'])\n"
     ]
    },
    {
     "name": "stdout",
     "output_type": "stream",
     "text": [
      "Validation mae: 7.226606785557371\n",
      "Train mae: 6.754171223632951\n"
     ]
    }
   ],
   "source": [
    "## Changing time format for visualizations\n",
    "train_prophet['ds'] = pd.to_datetime(train_prophet['ds'])\n",
    "future_val['ds'] = pd.to_datetime(future_val['ds'])\n",
    "\n",
    "\n",
    "\n",
    "validation_to_evaluate = train_prophet.loc[train_prophet['ds'].isin(future_val.ds)]\n",
    "validation_to_evaluate = validation_to_evaluate.sort_values(by=['location_id','ds'])\n",
    "\n",
    "train_to_evaluate = train_prophet.loc[train_prophet['ds'].isin(future_train.ds)]\n",
    "train_to_evaluate = train_to_evaluate.sort_values(by=['location_id','ds'])\n",
    "\n",
    "val_results_to_evaluate = results.loc[results['ds'].isin(future_val.ds)]\n",
    "train_results_to_evaluate = results.loc[results['ds'].isin(future_train.ds)]\n",
    "\n",
    "print('Validation mae: {}'.format(mean_absolute_error(validation_to_evaluate.y, val_results_to_evaluate.yhat)))\n",
    "print('Train mae: {}'.format(mean_absolute_error(train_to_evaluate.y, train_results_to_evaluate.yhat)))"
   ]
  },
  {
   "cell_type": "markdown",
   "id": "b79e1010-f72c-4ea5-be58-8f8eff5222c6",
   "metadata": {},
   "source": [
    "## Performance Evaluation"
   ]
  },
  {
   "cell_type": "code",
   "execution_count": null,
   "id": "64a3ed24-c5ba-404b-bf18-12a97f9b7a8d",
   "metadata": {},
   "outputs": [],
   "source": [
    "## Here, I ploted both train and test data\n",
    "\n",
    "plt.figure(figsize = (20,15))\n",
    "plt.plot(results.ds, results.yhat, color = 'blue')\n",
    "# plt.plot(results.ds, results.yhat_upper, color = 'red')\n",
    "# plt.plot(results.ds, results.yhat_lower, color = 'red')\n",
    "plt.title('Congestion Levels Preds')\n",
    "plt.xlabel('Date')\n",
    "plt.ylabel('Congestion')\n",
    "plt.xticks(rotation = 45)\n",
    "plt.grid()\n",
    "plt.show()"
   ]
  },
  {
   "cell_type": "code",
   "execution_count": null,
   "id": "4dc938ef-3f59-4f78-a683-e0a9a2215d03",
   "metadata": {},
   "outputs": [],
   "source": [
    "## This plot has the acutal data \n",
    "plt.figure(figsize = (20,15))\n",
    "plt.plot(train_prophet.ds, train_prophet.y, color = 'blue')\n",
    "plt.title('Congestion Levels')\n",
    "plt.xlabel('Date')\n",
    "plt.ylabel('Congestion')\n",
    "plt.xticks(rotation = 45)\n",
    "plt.grid()\n",
    "plt.show()"
   ]
  },
  {
   "cell_type": "code",
   "execution_count": 11,
   "id": "8113cc62-af93-463e-a70e-a1aed2e1c13c",
   "metadata": {},
   "outputs": [],
   "source": [
    "results_to_append = results.loc[results['ds'].isin(test_prophet.ds)]\n",
    "validation_to_append =  results.loc[results['ds'].isin(future_val.ds)]"
   ]
  },
  {
   "cell_type": "code",
   "execution_count": 25,
   "id": "f3559171-ad63-42b3-be6f-62c2f4a9759a",
   "metadata": {},
   "outputs": [],
   "source": [
    "test_data['time'] = pd.to_datetime(test_data['time'])\n",
    "congestion['time'] = pd.to_datetime(congestion['time'])"
   ]
  },
  {
   "cell_type": "code",
   "execution_count": 35,
   "id": "8c787ddf-98c0-4e8d-8652-55b87e849046",
   "metadata": {},
   "outputs": [],
   "source": [
    "## Example of submission\n",
    "submission_test_data = test_data.merge(results_to_append, \n",
    "                                  how = 'left',\n",
    "                                  left_on = ['time','location_id'], \n",
    "                                  right_on = ['ds','location_id'])\n",
    "\n",
    "submission_test_data = submission_test_data[['row_id','yhat']]\n",
    "submission_test_data.columns = ['row_id','congestion']\n",
    "\n",
    "\n",
    "## Example of submission\n",
    "submission_validation_data = congestion.merge(validation_to_append, \n",
    "                                  how = 'right',\n",
    "                                  left_on = ['time','location_id'], \n",
    "                                  right_on = ['ds','location_id'])\n",
    "\n",
    "submission_validation_data = submission_validation_data[['row_id','yhat']]\n",
    "submission_validation_data.columns = ['row_id','congestion']\n"
   ]
  },
  {
   "cell_type": "code",
   "execution_count": 36,
   "id": "c9e0a812-804d-4909-8ff6-001355dcb880",
   "metadata": {},
   "outputs": [],
   "source": [
    "submission_test_data.to_csv('submission_test_data.csv',index = False)\n",
    "submission_validation_data.to_csv('submission_validation_data.csv',index = False)\n"
   ]
  }
 ],
 "metadata": {
  "kernelspec": {
   "display_name": "Python 3",
   "language": "python",
   "name": "python3"
  },
  "language_info": {
   "codemirror_mode": {
    "name": "ipython",
    "version": 3
   },
   "file_extension": ".py",
   "mimetype": "text/x-python",
   "name": "python",
   "nbconvert_exporter": "python",
   "pygments_lexer": "ipython3",
   "version": "3.8.8"
  }
 },
 "nbformat": 4,
 "nbformat_minor": 5
}
