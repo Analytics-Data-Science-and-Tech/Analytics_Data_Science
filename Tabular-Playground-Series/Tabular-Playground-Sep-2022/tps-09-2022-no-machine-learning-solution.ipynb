{
 "cells": [
  {
   "cell_type": "code",
   "execution_count": 1,
   "id": "85f6465a",
   "metadata": {
    "execution": {
     "iopub.execute_input": "2022-09-01T01:18:54.458825Z",
     "iopub.status.busy": "2022-09-01T01:18:54.458477Z",
     "iopub.status.idle": "2022-09-01T01:18:54.646950Z",
     "shell.execute_reply": "2022-09-01T01:18:54.646083Z"
    },
    "papermill": {
     "duration": 0.195509,
     "end_time": "2022-09-01T01:18:54.649419",
     "exception": false,
     "start_time": "2022-09-01T01:18:54.453910",
     "status": "completed"
    },
    "tags": []
   },
   "outputs": [],
   "source": [
    "import boto3\n",
    "import pandas as pd; pd.set_option('display.max_columns', 100)\n",
    "import numpy as np\n",
    "import matplotlib.pyplot as plt\n",
    "import seaborn as sns\n",
    "from sklearn.tree import DecisionTreeClassifier, plot_tree\n",
    "from sklearn.ensemble import RandomForestClassifier\n",
    "from sklearn.impute import KNNImputer\n",
    "\n",
    "s3 = boto3.resource('s3')\n",
    "bucket_name = 'analytics-data-science-competitions'\n",
    "bucket = s3.Bucket(bucket_name)\n",
    "\n",
    "file_key_1 = 'Tabular-Playground-Series/Tabular-Playground-Sep-2022/train.csv'\n",
    "file_key_2 = 'Tabular-Playground-Series/Tabular-Playground-Sep-2022/test.csv'\n",
    "\n",
    "bucket_object_1 = bucket.Object(file_key_1)\n",
    "file_object_1 = bucket_object_1.get()\n",
    "file_content_stream_1 = file_object_1.get('Body')\n",
    "\n",
    "bucket_object_2 = bucket.Object(file_key_2)\n",
    "file_object_2 = bucket_object_2.get()\n",
    "file_content_stream_2 = file_object_2.get('Body')\n",
    "\n",
    "## Reading data-files\n",
    "train = pd.read_csv(file_content_stream_1)\n",
    "train['date'] = pd.to_datetime(train['date'], format = '%Y-%m-%d')\n",
    "\n",
    "test = pd.read_csv(file_content_stream_2)\n",
    "test['date'] = pd.to_datetime(test['date'], format = '%Y-%m-%d')"
   ]
  },
  {
   "cell_type": "markdown",
   "id": "fcccc06f",
   "metadata": {},
   "source": [
    "# Basic Feature Engineering "
   ]
  },
  {
   "cell_type": "code",
   "execution_count": 2,
   "id": "aa6dc63d",
   "metadata": {
    "execution": {
     "iopub.execute_input": "2022-09-01T01:18:54.787533Z",
     "iopub.status.busy": "2022-09-01T01:18:54.786823Z",
     "iopub.status.idle": "2022-09-01T01:18:54.833538Z",
     "shell.execute_reply": "2022-09-01T01:18:54.832234Z"
    },
    "papermill": {
     "duration": 0.055146,
     "end_time": "2022-09-01T01:18:54.836273",
     "exception": false,
     "start_time": "2022-09-01T01:18:54.781127",
     "status": "completed"
    },
    "tags": []
   },
   "outputs": [],
   "source": [
    "train['weekday'] = train['date'].dt.dayofweek\n",
    "test['weekday'] = test['date'].dt.dayofweek\n",
    "\n",
    "train['month'] = train['date'].dt.month_name()\n",
    "test['month'] = test['date'].dt.month_name()"
   ]
  },
  {
   "cell_type": "markdown",
   "id": "c3c7d662",
   "metadata": {},
   "source": [
    "# Basic Prediction using medians"
   ]
  },
  {
   "cell_type": "code",
   "execution_count": 17,
   "id": "310d10a7",
   "metadata": {
    "execution": {
     "iopub.execute_input": "2022-09-01T01:18:54.847391Z",
     "iopub.status.busy": "2022-09-01T01:18:54.846608Z",
     "iopub.status.idle": "2022-09-01T01:18:54.936182Z",
     "shell.execute_reply": "2022-09-01T01:18:54.934922Z"
    },
    "papermill": {
     "duration": 0.097784,
     "end_time": "2022-09-01T01:18:54.938612",
     "exception": false,
     "start_time": "2022-09-01T01:18:54.840828",
     "status": "completed"
    },
    "tags": []
   },
   "outputs": [
    {
     "data": {
      "text/html": [
       "<div>\n",
       "<style scoped>\n",
       "    .dataframe tbody tr th:only-of-type {\n",
       "        vertical-align: middle;\n",
       "    }\n",
       "\n",
       "    .dataframe tbody tr th {\n",
       "        vertical-align: top;\n",
       "    }\n",
       "\n",
       "    .dataframe thead th {\n",
       "        text-align: right;\n",
       "    }\n",
       "</style>\n",
       "<table border=\"1\" class=\"dataframe\">\n",
       "  <thead>\n",
       "    <tr style=\"text-align: right;\">\n",
       "      <th></th>\n",
       "      <th>row_id</th>\n",
       "      <th>date</th>\n",
       "      <th>country</th>\n",
       "      <th>store</th>\n",
       "      <th>product</th>\n",
       "      <th>weekday</th>\n",
       "      <th>month</th>\n",
       "      <th>num_sold</th>\n",
       "    </tr>\n",
       "  </thead>\n",
       "  <tbody>\n",
       "    <tr>\n",
       "      <th>0</th>\n",
       "      <td>70128</td>\n",
       "      <td>2021-01-01</td>\n",
       "      <td>Belgium</td>\n",
       "      <td>KaggleMart</td>\n",
       "      <td>Kaggle Advanced Techniques</td>\n",
       "      <td>4</td>\n",
       "      <td>January</td>\n",
       "      <td>437.0</td>\n",
       "    </tr>\n",
       "    <tr>\n",
       "      <th>1</th>\n",
       "      <td>70129</td>\n",
       "      <td>2021-01-01</td>\n",
       "      <td>Belgium</td>\n",
       "      <td>KaggleMart</td>\n",
       "      <td>Kaggle Getting Started</td>\n",
       "      <td>4</td>\n",
       "      <td>January</td>\n",
       "      <td>311.0</td>\n",
       "    </tr>\n",
       "    <tr>\n",
       "      <th>2</th>\n",
       "      <td>70130</td>\n",
       "      <td>2021-01-01</td>\n",
       "      <td>Belgium</td>\n",
       "      <td>KaggleMart</td>\n",
       "      <td>Kaggle Recipe Book</td>\n",
       "      <td>4</td>\n",
       "      <td>January</td>\n",
       "      <td>279.0</td>\n",
       "    </tr>\n",
       "    <tr>\n",
       "      <th>3</th>\n",
       "      <td>70131</td>\n",
       "      <td>2021-01-01</td>\n",
       "      <td>Belgium</td>\n",
       "      <td>KaggleMart</td>\n",
       "      <td>Kaggle for Kids: One Smart Goose</td>\n",
       "      <td>4</td>\n",
       "      <td>January</td>\n",
       "      <td>444.0</td>\n",
       "    </tr>\n",
       "    <tr>\n",
       "      <th>4</th>\n",
       "      <td>70132</td>\n",
       "      <td>2021-01-01</td>\n",
       "      <td>Belgium</td>\n",
       "      <td>KaggleRama</td>\n",
       "      <td>Kaggle Advanced Techniques</td>\n",
       "      <td>4</td>\n",
       "      <td>January</td>\n",
       "      <td>154.0</td>\n",
       "    </tr>\n",
       "  </tbody>\n",
       "</table>\n",
       "</div>"
      ],
      "text/plain": [
       "   row_id       date  country       store                           product  \\\n",
       "0   70128 2021-01-01  Belgium  KaggleMart        Kaggle Advanced Techniques   \n",
       "1   70129 2021-01-01  Belgium  KaggleMart            Kaggle Getting Started   \n",
       "2   70130 2021-01-01  Belgium  KaggleMart                Kaggle Recipe Book   \n",
       "3   70131 2021-01-01  Belgium  KaggleMart  Kaggle for Kids: One Smart Goose   \n",
       "4   70132 2021-01-01  Belgium  KaggleRama        Kaggle Advanced Techniques   \n",
       "\n",
       "   weekday    month  num_sold  \n",
       "0        4  January     437.0  \n",
       "1        4  January     311.0  \n",
       "2        4  January     279.0  \n",
       "3        4  January     444.0  \n",
       "4        4  January     154.0  "
      ]
     },
     "execution_count": 17,
     "metadata": {},
     "output_type": "execute_result"
    }
   ],
   "source": [
    "train_means = train.groupby(['country', 'store', 'product', 'month', 'weekday'])['num_sold'].median().to_dict()\n",
    "test['num_sold'] = test.set_index(['country', 'store', 'product', 'month', 'weekday']).index.map(train_means.get)\n",
    "test.head()"
   ]
  },
  {
   "cell_type": "code",
   "execution_count": 18,
   "id": "e6f28d74",
   "metadata": {},
   "outputs": [],
   "source": [
    "test['num_sold'] = np.where(test['country'] == 'Poland', test['num_sold'] + 98, test['num_sold'])"
   ]
  },
  {
   "cell_type": "code",
   "execution_count": 19,
   "id": "d29b1eb3",
   "metadata": {
    "execution": {
     "iopub.execute_input": "2022-09-01T01:18:54.949865Z",
     "iopub.status.busy": "2022-09-01T01:18:54.949490Z",
     "iopub.status.idle": "2022-09-01T01:18:55.006732Z",
     "shell.execute_reply": "2022-09-01T01:18:55.005233Z"
    },
    "papermill": {
     "duration": 0.065733,
     "end_time": "2022-09-01T01:18:55.009166",
     "exception": false,
     "start_time": "2022-09-01T01:18:54.943433",
     "status": "completed"
    },
    "tags": []
   },
   "outputs": [],
   "source": [
    "test[['row_id', 'num_sold']].to_csv('submission_median_9.csv',index = False)"
   ]
  }
 ],
 "metadata": {
  "kernelspec": {
   "display_name": "conda_python3",
   "language": "python",
   "name": "conda_python3"
  },
  "language_info": {
   "codemirror_mode": {
    "name": "ipython",
    "version": 3
   },
   "file_extension": ".py",
   "mimetype": "text/x-python",
   "name": "python",
   "nbconvert_exporter": "python",
   "pygments_lexer": "ipython3",
   "version": "3.8.12"
  },
  "papermill": {
   "default_parameters": {},
   "duration": 12.229353,
   "end_time": "2022-09-01T01:18:55.745790",
   "environment_variables": {},
   "exception": null,
   "input_path": "__notebook__.ipynb",
   "output_path": "__notebook__.ipynb",
   "parameters": {},
   "start_time": "2022-09-01T01:18:43.516437",
   "version": "2.3.4"
  }
 },
 "nbformat": 4,
 "nbformat_minor": 5
}
