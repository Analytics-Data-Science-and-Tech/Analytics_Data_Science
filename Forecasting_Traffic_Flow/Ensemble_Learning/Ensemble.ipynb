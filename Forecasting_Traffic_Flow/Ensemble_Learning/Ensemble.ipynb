{
 "cells": [
  {
   "cell_type": "code",
   "execution_count": 39,
   "id": "b3361c3d",
   "metadata": {},
   "outputs": [],
   "source": [
    "import pandas as pd\n",
    "import numpy as np\n",
    "import matplotlib.pyplot as plt\n",
    "from sklearn.preprocessing import MinMaxScaler\n",
    "from sklearn.model_selection import LeaveOneOut, GridSearchCV\n",
    "from sklearn.ensemble import RandomForestRegressor\n",
    "from sklearn.svm import SVR\n",
    "from sklearn.metrics import mean_squared_error\n",
    "\n",
    "#########################\n",
    "## Validation Datasets ##\n",
    "#########################\n",
    "\n",
    "val_1 = pd.read_csv('Evan_results_validation.csv')\n",
    "val_1.columns = ['row_id', 'time', 'x', 'y', 'direction', 'congestion', 'congestion_pred_1']\n",
    "\n",
    "val_2 = pd.read_csv('Gabriel_Ferreira_results_validation.csv')\n",
    "val_2 = val_2[['row_id', 'congestion_pred']]\n",
    "val_2.columns = ['row_id', 'congestion_pred_2']\n",
    "\n",
    "val_3 = pd.read_csv('Gabriel_De_Medeiros_results_validation.csv')\n",
    "val_3.columns = ['row_id', 'congestion_pred_3']\n",
    "\n",
    "val_4 = pd.read_csv('Oscar_results_validation.csv')\n",
    "val_4 = val_4[['row_id', 'congestion_pred']]\n",
    "val_4.columns = ['row_id', 'congestion_pred_4']\n",
    "\n",
    "validation = pd.merge(val_1, val_2, on = ['row_id'], how = 'left')\n",
    "validation = pd.merge(validation, val_3, on = ['row_id'], how = 'left')\n",
    "validation = pd.merge(validation, val_4, on = ['row_id'], how = 'left')\n",
    "\n",
    "###################\n",
    "## Test Datasets ##\n",
    "###################\n",
    "\n",
    "test_1 = pd.read_csv('Evan_results_test.csv')\n",
    "test_1.columns = ['row_id', 'time', 'x', 'y', 'direction', 'congestion_pred_1']\n",
    "\n",
    "test_2 = pd.read_csv('Gabriel_Ferreira_results_test.csv')\n",
    "test_2 = test_2[['row_id', 'congestion_pred']]\n",
    "test_2.columns = ['row_id', 'congestion_pred_2']\n",
    "\n",
    "test_3 = pd.read_csv('Gabriel_De_Medeiros_results_test.csv')\n",
    "test_3.columns = ['row_id', 'congestion_pred_3']\n",
    "\n",
    "test_4 = pd.read_csv('Oscar_results_test.csv')\n",
    "test_4 = test_4[['row_id', 'congestion_pred']]\n",
    "test_4.columns = ['row_id', 'congestion_pred_4']\n",
    "\n",
    "test = pd.merge(test_1, test_2, on = ['row_id'], how = 'left')\n",
    "test = pd.merge(test, test_3, on = ['row_id'], how = 'left')\n",
    "test = pd.merge(test, test_4, on = ['row_id'], how = 'left')"
   ]
  },
  {
   "cell_type": "code",
   "execution_count": 22,
   "id": "c04d0b09",
   "metadata": {},
   "outputs": [],
   "source": [
    "A = validation[(validation['direction'] == 'EB') & (validation['x'] == 0) & (validation['y'] == 0)].reset_index(drop = True) \n",
    "B = test[(test['direction'] == 'EB') & (test['x'] == 0) & (test['y'] == 0)].reset_index(drop = True) "
   ]
  },
  {
   "cell_type": "code",
   "execution_count": 11,
   "id": "c181e829",
   "metadata": {},
   "outputs": [
    {
     "data": {
      "text/plain": [
       "LeaveOneOut()"
      ]
     },
     "execution_count": 11,
     "metadata": {},
     "output_type": "execute_result"
    }
   ],
   "source": [
    "my_cv = LeaveOneOut()\n",
    "my_cv"
   ]
  },
  {
   "cell_type": "code",
   "execution_count": 23,
   "id": "56d3158c",
   "metadata": {},
   "outputs": [
    {
     "data": {
      "text/plain": [
       "<generator object BaseCrossValidator.split at 0x7f9e1f555200>"
      ]
     },
     "execution_count": 23,
     "metadata": {},
     "output_type": "execute_result"
    }
   ],
   "source": [
    "X = A[['congestion_pred_1', 'congestion_pred_2', 'congestion_pred_3', 'congestion_pred_4']]\n",
    "Y = A['congestion']\n",
    "\n",
    "## Defining leave-one-out cross validation\n",
    "my_cv = LeaveOneOut().split(X)\n",
    "my_cv"
   ]
  },
  {
   "cell_type": "code",
   "execution_count": 47,
   "id": "cb675e9b",
   "metadata": {},
   "outputs": [
    {
     "name": "stdout",
     "output_type": "stream",
     "text": [
      "The mse of the RF model on the test dataset is 104.64728967856941\n"
     ]
    }
   ],
   "source": [
    "X = A[['congestion_pred_1', 'congestion_pred_2', 'congestion_pred_3', 'congestion_pred_4']]\n",
    "Y = A['congestion']\n",
    "\n",
    "scaler = MinMaxScaler()\n",
    "X = scaler.fit_transform(X)\n",
    "\n",
    "## Defining the hyper-parameters\n",
    "# RF_param_grid = {'n_estimators': [100, 300, 500],\n",
    "#                  'min_samples_split' : [10, 15],\n",
    "#                  'min_samples_leaf' : [5, 7],\n",
    "#                  'max_depth' : [3, 5, 7]}\n",
    "\n",
    "SVM_param_grid = {'kernel': ['rbf', 'poly', 'sigmoid'],\n",
    "                  'C': [0.01, 0.1, 1, 10],\n",
    "                  'gamma': [0.01, 0.1, 1]}\n",
    "\n",
    "## Performing grid search\n",
    "# RF_grid_search = GridSearchCV(RandomForestRegressor(), RF_param_grid, cv = LeaveOneOut(), scoring = 'neg_mean_squared_error', n_jobs = -1).fit(X, Y)\n",
    "RF_grid_search = GridSearchCV(SVR(), SVM_param_grid, cv = LeaveOneOut(), scoring = 'neg_mean_squared_error', n_jobs = -1).fit(X, Y)\n",
    "\n",
    "## Extraciting the best model \n",
    "RF_md = RF_grid_search.best_estimator_\n",
    "\n",
    "## Predicting on test \n",
    "RF_test_pred = RF_md.predict(X)\n",
    "\n",
    "## Computing the mse on validation and test \n",
    "RF_test_mse = mean_squared_error(Y, RF_test_pred)\n",
    "print('The mse of the RF model on the test dataset is', RF_test_mse)"
   ]
  },
  {
   "cell_type": "code",
   "execution_count": 44,
   "id": "b9685f13",
   "metadata": {},
   "outputs": [
    {
     "data": {
      "text/plain": [
       "{'C': 10, 'gamma': 1, 'kernel': 'rbf'}"
      ]
     },
     "execution_count": 44,
     "metadata": {},
     "output_type": "execute_result"
    }
   ],
   "source": [
    "RF_grid_search.best_params_"
   ]
  },
  {
   "cell_type": "code",
   "execution_count": 41,
   "id": "36569209",
   "metadata": {},
   "outputs": [
    {
     "data": {
      "text/plain": [
       "array([32.89977732, 33.05612875, 33.09977708, 33.06775636, 33.30666058,\n",
       "       45.67610682, 33.24914854, 33.09986382, 34.57565407, 32.89983089,\n",
       "       33.04843655, 34.64921253, 39.29096651, 43.0685127 , 44.52224437,\n",
       "       43.39912535, 45.44341128, 45.68158033, 44.43802974, 45.35668855,\n",
       "       45.86299107, 45.27109556, 45.41435702, 45.88803242, 45.21619391,\n",
       "       44.94953544, 44.92910891, 43.54897091, 43.21774485, 40.66886578,\n",
       "       43.07677867, 43.10075298, 40.46329672, 43.74760587, 43.91704844,\n",
       "       41.16802903])"
      ]
     },
     "execution_count": 41,
     "metadata": {},
     "output_type": "execute_result"
    }
   ],
   "source": [
    "RF_test_pred"
   ]
  },
  {
   "cell_type": "code",
   "execution_count": 42,
   "id": "9c2cfc10",
   "metadata": {},
   "outputs": [
    {
     "data": {
      "image/png": "[encoded data removed]",
      "text/plain": [
       "<Figure size 432x288 with 1 Axes>"
      ]
     },
     "metadata": {
      "needs_background": "light"
     },
     "output_type": "display_data"
    }
   ],
   "source": [
    "out = pd.DataFrame({'pred': RF_test_pred, 'target': Y})\n",
    "\n",
    "plt.scatter('pred', 'target', data = out)\n",
    "plt.xlabel('Prediction')\n",
    "plt.ylabel('Actual')\n",
    "plt.grid()\n",
    "plt.show()"
   ]
  },
  {
   "cell_type": "code",
   "execution_count": 26,
   "id": "c907bc45",
   "metadata": {},
   "outputs": [
    {
     "data": {
      "text/plain": [
       "{'max_depth': 5,\n",
       " 'min_samples_leaf': 5,\n",
       " 'min_samples_split': 10,\n",
       " 'n_estimators': 300}"
      ]
     },
     "execution_count": 26,
     "metadata": {},
     "output_type": "execute_result"
    }
   ],
   "source": [
    "RF_grid_search.best_params_"
   ]
  },
  {
   "cell_type": "code",
   "execution_count": 28,
   "id": "42b1da92",
   "metadata": {},
   "outputs": [
    {
     "data": {
      "text/plain": [
       "{'max_depth': 5,\n",
       " 'min_samples_leaf': 5,\n",
       " 'min_samples_split': 10,\n",
       " 'n_estimators': 300}"
      ]
     },
     "execution_count": 28,
     "metadata": {},
     "output_type": "execute_result"
    }
   ],
   "source": [
    "RF_grid_search.best_params_"
   ]
  },
  {
   "cell_type": "code",
   "execution_count": 19,
   "id": "b052b793",
   "metadata": {},
   "outputs": [
    {
     "data": {
      "text/plain": [
       "RandomForestRegressor(max_depth=7, min_samples_leaf=5, min_samples_split=10)"
      ]
     },
     "execution_count": 19,
     "metadata": {},
     "output_type": "execute_result"
    }
   ],
   "source": [
    "RF_md"
   ]
  },
  {
   "cell_type": "code",
   "execution_count": 14,
   "id": "d201ad2f",
   "metadata": {},
   "outputs": [
    {
     "data": {
      "text/plain": [
       "{'max_depth': 3,\n",
       " 'min_samples_leaf': 5,\n",
       " 'min_samples_split': 10,\n",
       " 'n_estimators': 100}"
      ]
     },
     "execution_count": 14,
     "metadata": {},
     "output_type": "execute_result"
    }
   ],
   "source": [
    "RF_grid_search.best_params_"
   ]
  },
  {
   "cell_type": "code",
   "execution_count": 2,
   "id": "c73e918f",
   "metadata": {},
   "outputs": [
    {
     "data": {
      "text/html": [
       "<div>\n",
       "<style scoped>\n",
       "    .dataframe tbody tr th:only-of-type {\n",
       "        vertical-align: middle;\n",
       "    }\n",
       "\n",
       "    .dataframe tbody tr th {\n",
       "        vertical-align: top;\n",
       "    }\n",
       "\n",
       "    .dataframe thead th {\n",
       "        text-align: right;\n",
       "    }\n",
       "</style>\n",
       "<table border=\"1\" class=\"dataframe\">\n",
       "  <thead>\n",
       "    <tr style=\"text-align: right;\">\n",
       "      <th></th>\n",
       "      <th>row_id</th>\n",
       "      <th>time</th>\n",
       "      <th>x</th>\n",
       "      <th>y</th>\n",
       "      <th>direction</th>\n",
       "      <th>congestion</th>\n",
       "      <th>congestion_pred_1</th>\n",
       "      <th>congestion_pred_2</th>\n",
       "      <th>congestion_pred_3</th>\n",
       "      <th>congestion_pred_4</th>\n",
       "    </tr>\n",
       "  </thead>\n",
       "  <tbody>\n",
       "    <tr>\n",
       "      <th>0</th>\n",
       "      <td>846495</td>\n",
       "      <td>1991-09-30 00:00:00</td>\n",
       "      <td>0</td>\n",
       "      <td>0</td>\n",
       "      <td>EB</td>\n",
       "      <td>33</td>\n",
       "      <td>39.661178</td>\n",
       "      <td>39.682927</td>\n",
       "      <td>38.250197</td>\n",
       "      <td>37.643880</td>\n",
       "    </tr>\n",
       "    <tr>\n",
       "      <th>1</th>\n",
       "      <td>846560</td>\n",
       "      <td>1991-09-30 00:20:00</td>\n",
       "      <td>0</td>\n",
       "      <td>0</td>\n",
       "      <td>EB</td>\n",
       "      <td>33</td>\n",
       "      <td>39.713862</td>\n",
       "      <td>40.000000</td>\n",
       "      <td>38.736305</td>\n",
       "      <td>37.730434</td>\n",
       "    </tr>\n",
       "    <tr>\n",
       "      <th>2</th>\n",
       "      <td>846625</td>\n",
       "      <td>1991-09-30 00:40:00</td>\n",
       "      <td>0</td>\n",
       "      <td>0</td>\n",
       "      <td>EB</td>\n",
       "      <td>33</td>\n",
       "      <td>39.872391</td>\n",
       "      <td>39.727273</td>\n",
       "      <td>39.631089</td>\n",
       "      <td>37.910370</td>\n",
       "    </tr>\n",
       "    <tr>\n",
       "      <th>3</th>\n",
       "      <td>846690</td>\n",
       "      <td>1991-09-30 01:00:00</td>\n",
       "      <td>0</td>\n",
       "      <td>0</td>\n",
       "      <td>EB</td>\n",
       "      <td>33</td>\n",
       "      <td>39.977422</td>\n",
       "      <td>39.440000</td>\n",
       "      <td>40.875726</td>\n",
       "      <td>37.935738</td>\n",
       "    </tr>\n",
       "    <tr>\n",
       "      <th>4</th>\n",
       "      <td>846755</td>\n",
       "      <td>1991-09-30 01:20:00</td>\n",
       "      <td>0</td>\n",
       "      <td>0</td>\n",
       "      <td>EB</td>\n",
       "      <td>33</td>\n",
       "      <td>39.730986</td>\n",
       "      <td>39.949153</td>\n",
       "      <td>42.377400</td>\n",
       "      <td>37.982544</td>\n",
       "    </tr>\n",
       "  </tbody>\n",
       "</table>\n",
       "</div>"
      ],
      "text/plain": [
       "   row_id                 time  x  y direction  congestion  congestion_pred_1  \\\n",
       "0  846495  1991-09-30 00:00:00  0  0        EB          33          39.661178   \n",
       "1  846560  1991-09-30 00:20:00  0  0        EB          33          39.713862   \n",
       "2  846625  1991-09-30 00:40:00  0  0        EB          33          39.872391   \n",
       "3  846690  1991-09-30 01:00:00  0  0        EB          33          39.977422   \n",
       "4  846755  1991-09-30 01:20:00  0  0        EB          33          39.730986   \n",
       "\n",
       "   congestion_pred_2  congestion_pred_3  congestion_pred_4  \n",
       "0          39.682927          38.250197          37.643880  \n",
       "1          40.000000          38.736305          37.730434  \n",
       "2          39.727273          39.631089          37.910370  \n",
       "3          39.440000          40.875726          37.935738  \n",
       "4          39.949153          42.377400          37.982544  "
      ]
     },
     "execution_count": 2,
     "metadata": {},
     "output_type": "execute_result"
    }
   ],
   "source": [
    "validation.head()"
   ]
  },
  {
   "cell_type": "code",
   "execution_count": 3,
   "id": "63b14f43",
   "metadata": {},
   "outputs": [
    {
     "data": {
      "text/html": [
       "<div>\n",
       "<style scoped>\n",
       "    .dataframe tbody tr th:only-of-type {\n",
       "        vertical-align: middle;\n",
       "    }\n",
       "\n",
       "    .dataframe tbody tr th {\n",
       "        vertical-align: top;\n",
       "    }\n",
       "\n",
       "    .dataframe thead th {\n",
       "        text-align: right;\n",
       "    }\n",
       "</style>\n",
       "<table border=\"1\" class=\"dataframe\">\n",
       "  <thead>\n",
       "    <tr style=\"text-align: right;\">\n",
       "      <th></th>\n",
       "      <th>row_id</th>\n",
       "      <th>time</th>\n",
       "      <th>x</th>\n",
       "      <th>y</th>\n",
       "      <th>direction</th>\n",
       "      <th>congestion_pred_1</th>\n",
       "      <th>congestion_pred_2</th>\n",
       "      <th>congestion_pred_3</th>\n",
       "      <th>congestion_pred_4</th>\n",
       "    </tr>\n",
       "  </thead>\n",
       "  <tbody>\n",
       "    <tr>\n",
       "      <th>0</th>\n",
       "      <td>848835</td>\n",
       "      <td>1991-09-30 12:00:00</td>\n",
       "      <td>0</td>\n",
       "      <td>0</td>\n",
       "      <td>EB</td>\n",
       "      <td>48.981912</td>\n",
       "      <td>49.189163</td>\n",
       "      <td>49.017353</td>\n",
       "      <td>45.011130</td>\n",
       "    </tr>\n",
       "    <tr>\n",
       "      <th>1</th>\n",
       "      <td>848900</td>\n",
       "      <td>1991-09-30 12:20:00</td>\n",
       "      <td>0</td>\n",
       "      <td>0</td>\n",
       "      <td>EB</td>\n",
       "      <td>48.964293</td>\n",
       "      <td>49.189163</td>\n",
       "      <td>49.192940</td>\n",
       "      <td>44.354027</td>\n",
       "    </tr>\n",
       "    <tr>\n",
       "      <th>2</th>\n",
       "      <td>848965</td>\n",
       "      <td>1991-09-30 12:40:00</td>\n",
       "      <td>0</td>\n",
       "      <td>0</td>\n",
       "      <td>EB</td>\n",
       "      <td>50.344437</td>\n",
       "      <td>51.245642</td>\n",
       "      <td>49.560480</td>\n",
       "      <td>46.279410</td>\n",
       "    </tr>\n",
       "    <tr>\n",
       "      <th>3</th>\n",
       "      <td>849030</td>\n",
       "      <td>1991-09-30 13:00:00</td>\n",
       "      <td>0</td>\n",
       "      <td>0</td>\n",
       "      <td>EB</td>\n",
       "      <td>52.420165</td>\n",
       "      <td>54.218750</td>\n",
       "      <td>50.099945</td>\n",
       "      <td>48.843200</td>\n",
       "    </tr>\n",
       "    <tr>\n",
       "      <th>4</th>\n",
       "      <td>849095</td>\n",
       "      <td>1991-09-30 13:20:00</td>\n",
       "      <td>0</td>\n",
       "      <td>0</td>\n",
       "      <td>EB</td>\n",
       "      <td>49.834319</td>\n",
       "      <td>49.478041</td>\n",
       "      <td>50.767148</td>\n",
       "      <td>46.702070</td>\n",
       "    </tr>\n",
       "  </tbody>\n",
       "</table>\n",
       "</div>"
      ],
      "text/plain": [
       "   row_id                 time  x  y direction  congestion_pred_1  \\\n",
       "0  848835  1991-09-30 12:00:00  0  0        EB          48.981912   \n",
       "1  848900  1991-09-30 12:20:00  0  0        EB          48.964293   \n",
       "2  848965  1991-09-30 12:40:00  0  0        EB          50.344437   \n",
       "3  849030  1991-09-30 13:00:00  0  0        EB          52.420165   \n",
       "4  849095  1991-09-30 13:20:00  0  0        EB          49.834319   \n",
       "\n",
       "   congestion_pred_2  congestion_pred_3  congestion_pred_4  \n",
       "0          49.189163          49.017353          45.011130  \n",
       "1          49.189163          49.192940          44.354027  \n",
       "2          51.245642          49.560480          46.279410  \n",
       "3          54.218750          50.099945          48.843200  \n",
       "4          49.478041          50.767148          46.702070  "
      ]
     },
     "execution_count": 3,
     "metadata": {},
     "output_type": "execute_result"
    }
   ],
   "source": [
    "test.head()"
   ]
  }
 ],
 "metadata": {
  "kernelspec": {
   "display_name": "conda_python3",
   "language": "python",
   "name": "conda_python3"
  },
  "language_info": {
   "codemirror_mode": {
    "name": "ipython",
    "version": 3
   },
   "file_extension": ".py",
   "mimetype": "text/x-python",
   "name": "python",
   "nbconvert_exporter": "python",
   "pygments_lexer": "ipython3",
   "version": "3.6.13"
  }
 },
 "nbformat": 4,
 "nbformat_minor": 5
}
