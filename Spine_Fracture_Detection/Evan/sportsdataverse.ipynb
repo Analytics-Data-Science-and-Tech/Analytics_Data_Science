{
 "cells": [
  {
   "cell_type": "code",
   "execution_count": null,
   "id": "b2f0f335",
   "metadata": {},
   "outputs": [],
   "source": [
    "pip install sportsdataverse"
   ]
  },
  {
   "cell_type": "code",
   "execution_count": 1,
   "id": "0149dc8e",
   "metadata": {},
   "outputs": [],
   "source": [
    "import sportsdataverse"
   ]
  },
  {
   "cell_type": "code",
   "execution_count": 4,
   "id": "b8d60379",
   "metadata": {},
   "outputs": [
    {
     "name": "stderr",
     "output_type": "stream",
     "text": [
      "100%|██████████| 22/22 [00:02<00:00,  7.91it/s]\n"
     ]
    }
   ],
   "source": [
    "nfl_df = sportsdataverse.nfl.load_nfl_schedule(seasons=range(1999,2021))"
   ]
  },
  {
   "cell_type": "code",
   "execution_count": 6,
   "id": "3cd86549",
   "metadata": {},
   "outputs": [
    {
     "data": {
      "text/html": [
       "<div>\n",
       "<style scoped>\n",
       "    .dataframe tbody tr th:only-of-type {\n",
       "        vertical-align: middle;\n",
       "    }\n",
       "\n",
       "    .dataframe tbody tr th {\n",
       "        vertical-align: top;\n",
       "    }\n",
       "\n",
       "    .dataframe thead th {\n",
       "        text-align: right;\n",
       "    }\n",
       "</style>\n",
       "<table border=\"1\" class=\"dataframe\">\n",
       "  <thead>\n",
       "    <tr style=\"text-align: right;\">\n",
       "      <th></th>\n",
       "      <th>Unnamed: 0</th>\n",
       "      <th>game_id</th>\n",
       "      <th>season</th>\n",
       "      <th>game_type</th>\n",
       "      <th>week</th>\n",
       "      <th>gameday</th>\n",
       "      <th>weekday</th>\n",
       "      <th>gametime</th>\n",
       "      <th>away_team</th>\n",
       "      <th>home_team</th>\n",
       "      <th>away_score</th>\n",
       "      <th>home_score</th>\n",
       "      <th>home_result</th>\n",
       "      <th>stadium</th>\n",
       "      <th>location</th>\n",
       "      <th>roof</th>\n",
       "      <th>surface</th>\n",
       "      <th>old_game_id</th>\n",
       "    </tr>\n",
       "  </thead>\n",
       "  <tbody>\n",
       "    <tr>\n",
       "      <th>5847</th>\n",
       "      <td>264</td>\n",
       "      <td>2020_19_CLE_KC</td>\n",
       "      <td>2020</td>\n",
       "      <td>DIV</td>\n",
       "      <td>19</td>\n",
       "      <td>2021-01-17</td>\n",
       "      <td>Sunday</td>\n",
       "      <td>15:05</td>\n",
       "      <td>CLE</td>\n",
       "      <td>KC</td>\n",
       "      <td>17</td>\n",
       "      <td>22</td>\n",
       "      <td>5</td>\n",
       "      <td>Arrowhead Stadium</td>\n",
       "      <td>Home</td>\n",
       "      <td>outdoors</td>\n",
       "      <td>astroturf</td>\n",
       "      <td>2021011700</td>\n",
       "    </tr>\n",
       "    <tr>\n",
       "      <th>5848</th>\n",
       "      <td>265</td>\n",
       "      <td>2020_19_TB_NO</td>\n",
       "      <td>2020</td>\n",
       "      <td>DIV</td>\n",
       "      <td>19</td>\n",
       "      <td>2021-01-17</td>\n",
       "      <td>Sunday</td>\n",
       "      <td>18:40</td>\n",
       "      <td>TB</td>\n",
       "      <td>NO</td>\n",
       "      <td>30</td>\n",
       "      <td>20</td>\n",
       "      <td>-10</td>\n",
       "      <td>Mercedes-Benz Superdome</td>\n",
       "      <td>Home</td>\n",
       "      <td>dome</td>\n",
       "      <td>astroturf</td>\n",
       "      <td>2021011701</td>\n",
       "    </tr>\n",
       "    <tr>\n",
       "      <th>5849</th>\n",
       "      <td>266</td>\n",
       "      <td>2020_20_TB_GB</td>\n",
       "      <td>2020</td>\n",
       "      <td>CON</td>\n",
       "      <td>20</td>\n",
       "      <td>2021-01-24</td>\n",
       "      <td>Sunday</td>\n",
       "      <td>15:05</td>\n",
       "      <td>TB</td>\n",
       "      <td>GB</td>\n",
       "      <td>31</td>\n",
       "      <td>26</td>\n",
       "      <td>-5</td>\n",
       "      <td>Lambeau Field</td>\n",
       "      <td>Home</td>\n",
       "      <td>outdoors</td>\n",
       "      <td>grass</td>\n",
       "      <td>2021012400</td>\n",
       "    </tr>\n",
       "    <tr>\n",
       "      <th>5850</th>\n",
       "      <td>267</td>\n",
       "      <td>2020_20_BUF_KC</td>\n",
       "      <td>2020</td>\n",
       "      <td>CON</td>\n",
       "      <td>20</td>\n",
       "      <td>2021-01-24</td>\n",
       "      <td>Sunday</td>\n",
       "      <td>18:40</td>\n",
       "      <td>BUF</td>\n",
       "      <td>KC</td>\n",
       "      <td>24</td>\n",
       "      <td>38</td>\n",
       "      <td>14</td>\n",
       "      <td>Arrowhead Stadium</td>\n",
       "      <td>Home</td>\n",
       "      <td>outdoors</td>\n",
       "      <td>astroturf</td>\n",
       "      <td>2021012401</td>\n",
       "    </tr>\n",
       "    <tr>\n",
       "      <th>5851</th>\n",
       "      <td>268</td>\n",
       "      <td>2020_21_KC_TB</td>\n",
       "      <td>2020</td>\n",
       "      <td>SB</td>\n",
       "      <td>21</td>\n",
       "      <td>2021-02-07</td>\n",
       "      <td>Sunday</td>\n",
       "      <td>18:30</td>\n",
       "      <td>KC</td>\n",
       "      <td>TB</td>\n",
       "      <td>9</td>\n",
       "      <td>31</td>\n",
       "      <td>22</td>\n",
       "      <td>Raymond James Stadium</td>\n",
       "      <td>Neutral</td>\n",
       "      <td>outdoors</td>\n",
       "      <td>grass</td>\n",
       "      <td>2021020700</td>\n",
       "    </tr>\n",
       "  </tbody>\n",
       "</table>\n",
       "</div>"
      ],
      "text/plain": [
       "      Unnamed: 0         game_id  season game_type  week     gameday weekday  \\\n",
       "5847         264  2020_19_CLE_KC    2020       DIV    19  2021-01-17  Sunday   \n",
       "5848         265   2020_19_TB_NO    2020       DIV    19  2021-01-17  Sunday   \n",
       "5849         266   2020_20_TB_GB    2020       CON    20  2021-01-24  Sunday   \n",
       "5850         267  2020_20_BUF_KC    2020       CON    20  2021-01-24  Sunday   \n",
       "5851         268   2020_21_KC_TB    2020        SB    21  2021-02-07  Sunday   \n",
       "\n",
       "     gametime away_team home_team  away_score  home_score  home_result  \\\n",
       "5847    15:05       CLE        KC          17          22            5   \n",
       "5848    18:40        TB        NO          30          20          -10   \n",
       "5849    15:05        TB        GB          31          26           -5   \n",
       "5850    18:40       BUF        KC          24          38           14   \n",
       "5851    18:30        KC        TB           9          31           22   \n",
       "\n",
       "                      stadium location      roof    surface  old_game_id  \n",
       "5847        Arrowhead Stadium     Home  outdoors  astroturf   2021011700  \n",
       "5848  Mercedes-Benz Superdome     Home      dome  astroturf   2021011701  \n",
       "5849            Lambeau Field     Home  outdoors      grass   2021012400  \n",
       "5850        Arrowhead Stadium     Home  outdoors  astroturf   2021012401  \n",
       "5851    Raymond James Stadium  Neutral  outdoors      grass   2021020700  "
      ]
     },
     "execution_count": 6,
     "metadata": {},
     "output_type": "execute_result"
    }
   ],
   "source": [
    "nfl_df.tail()"
   ]
  },
  {
   "cell_type": "code",
   "execution_count": 7,
   "id": "4673eb9d",
   "metadata": {},
   "outputs": [],
   "source": [
    "nfl_df = sportsdataverse.nfl.load_nfl_teams()"
   ]
  },
  {
   "cell_type": "code",
   "execution_count": 11,
   "id": "b5fa5e25",
   "metadata": {},
   "outputs": [
    {
     "ename": "NameError",
     "evalue": "name 'underscore' is not defined",
     "output_type": "error",
     "traceback": [
      "\u001b[0;31m---------------------------------------------------------------------------\u001b[0m",
      "\u001b[0;31mNameError\u001b[0m                                 Traceback (most recent call last)",
      "\u001b[0;32m/tmp/ipykernel_31709/3879275402.py\u001b[0m in \u001b[0;36m<cell line: 1>\u001b[0;34m()\u001b[0m\n\u001b[0;32m----> 1\u001b[0;31m \u001b[0msportsdataverse\u001b[0m\u001b[0;34m.\u001b[0m\u001b[0mnfl\u001b[0m\u001b[0;34m.\u001b[0m\u001b[0mnfl_teams\u001b[0m\u001b[0;34m.\u001b[0m\u001b[0mespn_nfl_teams\u001b[0m\u001b[0;34m(\u001b[0m\u001b[0;34m)\u001b[0m\u001b[0;34m\u001b[0m\u001b[0;34m\u001b[0m\u001b[0m\n\u001b[0m",
      "\u001b[0;32m~/anaconda3/envs/python3/lib/python3.8/site-packages/sportsdataverse/nfl/nfl_teams.py\u001b[0m in \u001b[0;36mespn_nfl_teams\u001b[0;34m()\u001b[0m\n\u001b[1;32m     22\u001b[0m                 \u001b[0mteam\u001b[0m\u001b[0;34m.\u001b[0m\u001b[0mget\u001b[0m\u001b[0;34m(\u001b[0m\u001b[0;34m'team'\u001b[0m\u001b[0;34m)\u001b[0m\u001b[0;34m.\u001b[0m\u001b[0mpop\u001b[0m\u001b[0;34m(\u001b[0m\u001b[0mk\u001b[0m\u001b[0;34m,\u001b[0m \u001b[0;32mNone\u001b[0m\u001b[0;34m)\u001b[0m\u001b[0;34m\u001b[0m\u001b[0;34m\u001b[0m\u001b[0m\n\u001b[1;32m     23\u001b[0m         \u001b[0mteams\u001b[0m \u001b[0;34m=\u001b[0m \u001b[0mpd\u001b[0m\u001b[0;34m.\u001b[0m\u001b[0mjson_normalize\u001b[0m\u001b[0;34m(\u001b[0m\u001b[0mteams\u001b[0m\u001b[0;34m,\u001b[0m \u001b[0msep\u001b[0m\u001b[0;34m=\u001b[0m\u001b[0;34m'_'\u001b[0m\u001b[0;34m)\u001b[0m\u001b[0;34m\u001b[0m\u001b[0;34m\u001b[0m\u001b[0m\n\u001b[0;32m---> 24\u001b[0;31m     \u001b[0mteams\u001b[0m\u001b[0;34m.\u001b[0m\u001b[0mcolumns\u001b[0m \u001b[0;34m=\u001b[0m \u001b[0;34m[\u001b[0m\u001b[0munderscore\u001b[0m\u001b[0;34m(\u001b[0m\u001b[0mc\u001b[0m\u001b[0;34m)\u001b[0m \u001b[0;32mfor\u001b[0m \u001b[0mc\u001b[0m \u001b[0;32min\u001b[0m \u001b[0mteams\u001b[0m\u001b[0;34m.\u001b[0m\u001b[0mcolumns\u001b[0m\u001b[0;34m.\u001b[0m\u001b[0mtolist\u001b[0m\u001b[0;34m(\u001b[0m\u001b[0;34m)\u001b[0m\u001b[0;34m]\u001b[0m\u001b[0;34m\u001b[0m\u001b[0;34m\u001b[0m\u001b[0m\n\u001b[0m\u001b[1;32m     25\u001b[0m     \u001b[0;32mreturn\u001b[0m \u001b[0mteams\u001b[0m\u001b[0;34m\u001b[0m\u001b[0;34m\u001b[0m\u001b[0m\n\u001b[1;32m     26\u001b[0m \u001b[0;34m\u001b[0m\u001b[0m\n",
      "\u001b[0;32m~/anaconda3/envs/python3/lib/python3.8/site-packages/sportsdataverse/nfl/nfl_teams.py\u001b[0m in \u001b[0;36m<listcomp>\u001b[0;34m(.0)\u001b[0m\n\u001b[1;32m     22\u001b[0m                 \u001b[0mteam\u001b[0m\u001b[0;34m.\u001b[0m\u001b[0mget\u001b[0m\u001b[0;34m(\u001b[0m\u001b[0;34m'team'\u001b[0m\u001b[0;34m)\u001b[0m\u001b[0;34m.\u001b[0m\u001b[0mpop\u001b[0m\u001b[0;34m(\u001b[0m\u001b[0mk\u001b[0m\u001b[0;34m,\u001b[0m \u001b[0;32mNone\u001b[0m\u001b[0;34m)\u001b[0m\u001b[0;34m\u001b[0m\u001b[0;34m\u001b[0m\u001b[0m\n\u001b[1;32m     23\u001b[0m         \u001b[0mteams\u001b[0m \u001b[0;34m=\u001b[0m \u001b[0mpd\u001b[0m\u001b[0;34m.\u001b[0m\u001b[0mjson_normalize\u001b[0m\u001b[0;34m(\u001b[0m\u001b[0mteams\u001b[0m\u001b[0;34m,\u001b[0m \u001b[0msep\u001b[0m\u001b[0;34m=\u001b[0m\u001b[0;34m'_'\u001b[0m\u001b[0;34m)\u001b[0m\u001b[0;34m\u001b[0m\u001b[0;34m\u001b[0m\u001b[0m\n\u001b[0;32m---> 24\u001b[0;31m     \u001b[0mteams\u001b[0m\u001b[0;34m.\u001b[0m\u001b[0mcolumns\u001b[0m \u001b[0;34m=\u001b[0m \u001b[0;34m[\u001b[0m\u001b[0munderscore\u001b[0m\u001b[0;34m(\u001b[0m\u001b[0mc\u001b[0m\u001b[0;34m)\u001b[0m \u001b[0;32mfor\u001b[0m \u001b[0mc\u001b[0m \u001b[0;32min\u001b[0m \u001b[0mteams\u001b[0m\u001b[0;34m.\u001b[0m\u001b[0mcolumns\u001b[0m\u001b[0;34m.\u001b[0m\u001b[0mtolist\u001b[0m\u001b[0;34m(\u001b[0m\u001b[0;34m)\u001b[0m\u001b[0;34m]\u001b[0m\u001b[0;34m\u001b[0m\u001b[0;34m\u001b[0m\u001b[0m\n\u001b[0m\u001b[1;32m     25\u001b[0m     \u001b[0;32mreturn\u001b[0m \u001b[0mteams\u001b[0m\u001b[0;34m\u001b[0m\u001b[0;34m\u001b[0m\u001b[0m\n\u001b[1;32m     26\u001b[0m \u001b[0;34m\u001b[0m\u001b[0m\n",
      "\u001b[0;31mNameError\u001b[0m: name 'underscore' is not defined"
     ]
    }
   ],
   "source": [
    "sportsdataverse.nfl.nfl_teams.espn_nfl_teams()"
   ]
  },
  {
   "cell_type": "code",
   "execution_count": null,
   "id": "af1f0861",
   "metadata": {},
   "outputs": [],
   "source": []
  }
 ],
 "metadata": {
  "kernelspec": {
   "display_name": "conda_python3",
   "language": "python",
   "name": "conda_python3"
  },
  "language_info": {
   "codemirror_mode": {
    "name": "ipython",
    "version": 3
   },
   "file_extension": ".py",
   "mimetype": "text/x-python",
   "name": "python",
   "nbconvert_exporter": "python",
   "pygments_lexer": "ipython3",
   "version": "3.8.12"
  }
 },
 "nbformat": 4,
 "nbformat_minor": 5
}
