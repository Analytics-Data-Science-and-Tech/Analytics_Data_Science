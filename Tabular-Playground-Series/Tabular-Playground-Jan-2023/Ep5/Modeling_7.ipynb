{
 "cells": [
  {
   "cell_type": "code",
   "execution_count": 19,
   "id": "da3ec3a7",
   "metadata": {},
   "outputs": [
    {
     "name": "stdout",
     "output_type": "stream",
     "text": [
      "Looking in indexes: https://pypi.org/simple, https://pip.repos.neuron.amazonaws.com\n",
      "Requirement already satisfied: xgboost in /home/ec2-user/anaconda3/envs/python3/lib/python3.10/site-packages (1.7.3)\n",
      "Collecting optuna\n",
      "  Downloading optuna-3.1.0-py3-none-any.whl (365 kB)\n",
      "\u001b[2K     \u001b[90m━━━━━━━━━━━━━━━━━━━━━━━━━━━━━━━━━━━━━━━\u001b[0m \u001b[32m365.3/365.3 kB\u001b[0m \u001b[31m6.9 MB/s\u001b[0m eta \u001b[36m0:00:00\u001b[0m00:01\u001b[0m\n",
      "\u001b[?25hRequirement already satisfied: scipy in /home/ec2-user/anaconda3/envs/python3/lib/python3.10/site-packages (from xgboost) (1.9.3)\n",
      "Requirement already satisfied: numpy in /home/ec2-user/anaconda3/envs/python3/lib/python3.10/site-packages (from xgboost) (1.22.4)\n",
      "Collecting colorlog\n",
      "  Downloading colorlog-6.7.0-py2.py3-none-any.whl (11 kB)\n",
      "Requirement already satisfied: PyYAML in /home/ec2-user/anaconda3/envs/python3/lib/python3.10/site-packages (from optuna) (5.4.1)\n",
      "Requirement already satisfied: packaging>=20.0 in /home/ec2-user/anaconda3/envs/python3/lib/python3.10/site-packages (from optuna) (21.3)\n",
      "Collecting cmaes>=0.9.1\n",
      "  Downloading cmaes-0.9.1-py3-none-any.whl (21 kB)\n",
      "Requirement already satisfied: tqdm in /home/ec2-user/anaconda3/envs/python3/lib/python3.10/site-packages (from optuna) (4.64.1)\n",
      "Collecting alembic>=1.5.0\n",
      "  Downloading alembic-1.9.2-py3-none-any.whl (210 kB)\n",
      "\u001b[2K     \u001b[90m━━━━━━━━━━━━━━━━━━━━━━━━━━━━━━━━━━━━━━\u001b[0m \u001b[32m210.6/210.6 kB\u001b[0m \u001b[31m45.1 MB/s\u001b[0m eta \u001b[36m0:00:00\u001b[0m\n",
      "\u001b[?25hRequirement already satisfied: sqlalchemy>=1.3.0 in /home/ec2-user/anaconda3/envs/python3/lib/python3.10/site-packages (from optuna) (1.4.42)\n",
      "Collecting Mako\n",
      "  Downloading Mako-1.2.4-py3-none-any.whl (78 kB)\n",
      "\u001b[2K     \u001b[90m━━━━━━━━━━━━━━━━━━━━━━━━━━━━━━━━━━━━━━━━\u001b[0m \u001b[32m78.7/78.7 kB\u001b[0m \u001b[31m21.5 MB/s\u001b[0m eta \u001b[36m0:00:00\u001b[0m\n",
      "\u001b[?25hRequirement already satisfied: pyparsing!=3.0.5,>=2.0.2 in /home/ec2-user/anaconda3/envs/python3/lib/python3.10/site-packages (from packaging>=20.0->optuna) (3.0.9)\n",
      "Requirement already satisfied: greenlet!=0.4.17 in /home/ec2-user/anaconda3/envs/python3/lib/python3.10/site-packages (from sqlalchemy>=1.3.0->optuna) (1.1.3.post0)\n",
      "Requirement already satisfied: MarkupSafe>=0.9.2 in /home/ec2-user/anaconda3/envs/python3/lib/python3.10/site-packages (from Mako->alembic>=1.5.0->optuna) (2.1.1)\n",
      "Installing collected packages: Mako, colorlog, cmaes, alembic, optuna\n",
      "Successfully installed Mako-1.2.4 alembic-1.9.2 cmaes-0.9.1 colorlog-6.7.0 optuna-3.1.0\n",
      "Note: you may need to restart the kernel to use updated packages.\n"
     ]
    }
   ],
   "source": [
    "pip install xgboost optuna"
   ]
  },
  {
   "cell_type": "code",
   "execution_count": 20,
   "id": "bd7ee772",
   "metadata": {},
   "outputs": [],
   "source": [
    "import boto3\n",
    "import pandas as pd; pd.set_option('display.max_columns', 100)\n",
    "import numpy as np\n",
    "\n",
    "import matplotlib.pyplot as plt; plt.style.use('ggplot')\n",
    "import seaborn as sns\n",
    "\n",
    "from scipy.stats import rankdata\n",
    "from sklearn.cluster import KMeans\n",
    "from sklearn.multiclass import OneVsRestClassifier\n",
    "from sklearn.tree import DecisionTreeRegressor, DecisionTreeClassifier, plot_tree\n",
    "from sklearn.preprocessing import MinMaxScaler\n",
    "from sklearn.model_selection import KFold, train_test_split, GridSearchCV, StratifiedKFold, TimeSeriesSplit\n",
    "from sklearn.metrics import mean_squared_error, roc_auc_score, cohen_kappa_score, davies_bouldin_score, calinski_harabasz_score, silhouette_score\n",
    "from sklearn.neighbors import KNeighborsClassifier\n",
    "from sklearn.ensemble import RandomForestClassifier, HistGradientBoostingClassifier\n",
    "from sklearn.linear_model import LogisticRegression\n",
    "# from lightgbm import LGBMClassifier\n",
    "from xgboost import XGBClassifier, XGBRegressor\n",
    "# from catboost import CatBoostClassifier\n",
    "\n",
    "import optuna \n",
    "\n",
    "s3 = boto3.resource('s3')\n",
    "bucket_name = 'analytics-data-science-competitions'\n",
    "bucket = s3.Bucket(bucket_name)\n",
    "\n",
    "file_key_1 = 'Tabular-Playground-Series/TS-S3-Ep5/train.csv'\n",
    "file_key_2 = 'Tabular-Playground-Series/TS-S3-Ep5/test.csv'\n",
    "file_key_3 = 'Tabular-Playground-Series/TS-S3-Ep5/sample_submission.csv'\n",
    "\n",
    "bucket_object_1 = bucket.Object(file_key_1)\n",
    "file_object_1 = bucket_object_1.get()\n",
    "file_content_stream_1 = file_object_1.get('Body')\n",
    "\n",
    "bucket_object_2 = bucket.Object(file_key_2)\n",
    "file_object_2 = bucket_object_2.get()\n",
    "file_content_stream_2 = file_object_2.get('Body')\n",
    "\n",
    "bucket_object_3 = bucket.Object(file_key_3)\n",
    "file_object_3 = bucket_object_3.get()\n",
    "file_content_stream_3 = file_object_3.get('Body')\n",
    "\n",
    "## Reading data files\n",
    "train = pd.read_csv(file_content_stream_1)\n",
    "test = pd.read_csv(file_content_stream_2)\n",
    "submission = pd.read_csv(file_content_stream_3)\n",
    "\n",
    "## Enginering features\n",
    "train['alcohol_density'] = train['alcohol'] * train['density']\n",
    "train['sulphate/density'] = train['sulphates']  / train['density']\n",
    "train['alcohol_sulphate'] = train['alcohol'] * train['sulphates']\n",
    "\n",
    "test['alcohol_density'] = test['alcohol']  * test['density']\n",
    "test['sulphate/density'] = test['sulphates']  / test['density']\n",
    "test['alcohol_sulphate'] = test['alcohol'] * test['sulphates']\n",
    "\n",
    "test_md = test.copy()\n",
    "\n",
    "X = train[['sulphate/density', 'alcohol_density', 'alcohol', 'sulphates']]\n",
    "Y = train['quality'] \n",
    "\n",
    "test_md = test_md[['sulphate/density', 'alcohol_density', 'alcohol', 'sulphates']]"
   ]
  },
  {
   "cell_type": "markdown",
   "id": "b1879ba4",
   "metadata": {},
   "source": [
    "# Optimal Rounder"
   ]
  },
  {
   "cell_type": "code",
   "execution_count": 21,
   "id": "5d840072",
   "metadata": {},
   "outputs": [],
   "source": [
    "from functools import partial\n",
    "import numpy as np\n",
    "import scipy as sp\n",
    "\n",
    "class OptimizedRounder(object):\n",
    "    def __init__(self):\n",
    "        self.coef_ = 0\n",
    "\n",
    "    def _kappa_loss(self, coef, X, y):\n",
    "        X_p = np.copy(X)\n",
    "        for i, pred in enumerate(X_p):\n",
    "            if pred < coef[0]:\n",
    "                X_p[i] = 3\n",
    "            elif pred >= coef[0] and pred < coef[1]:\n",
    "                X_p[i] = 4\n",
    "            elif pred >= coef[1] and pred < coef[2]:\n",
    "                X_p[i] = 5\n",
    "            elif pred >= coef[2] and pred < coef[3]:\n",
    "                X_p[i] = 6\n",
    "            elif pred >= coef[3] and pred < coef[4]:\n",
    "                X_p[i] = 7\n",
    "            else:\n",
    "                X_p[i] = 8\n",
    "\n",
    "        ll = cohen_kappa_score(y, X_p, weights = 'quadratic')\n",
    "        return -ll\n",
    "\n",
    "    def fit(self, X, y):\n",
    "        loss_partial = partial(self._kappa_loss, X = X, y = y)\n",
    "        initial_coef = [3.5, 4.5, 5.5, 6.5, 7.5]\n",
    "        self.coef_ = sp.optimize.minimize(loss_partial, initial_coef, method = 'nelder-mead')\n",
    "\n",
    "    def predict(self, X, coef):\n",
    "        X_p = np.copy(X)\n",
    "        for i, pred in enumerate(X_p):\n",
    "            if pred < coef[0]:\n",
    "                X_p[i] = 3\n",
    "            elif pred >= coef[0] and pred < coef[1]:\n",
    "                X_p[i] = 4\n",
    "            elif pred >= coef[1] and pred < coef[2]:\n",
    "                X_p[i] = 5\n",
    "            elif pred >= coef[2] and pred < coef[3]:\n",
    "                X_p[i] = 6\n",
    "            elif pred >= coef[3] and pred < coef[4]:\n",
    "                X_p[i] = 7\n",
    "            else:\n",
    "                X_p[i] = 8\n",
    "        return X_p\n",
    "\n",
    "    def coefficients(self):\n",
    "        return self.coef_['x']"
   ]
  },
  {
   "cell_type": "markdown",
   "id": "14b68d75",
   "metadata": {},
   "source": [
    "# Optuna Optimzation"
   ]
  },
  {
   "cell_type": "code",
   "execution_count": 26,
   "id": "a3fec975",
   "metadata": {},
   "outputs": [],
   "source": [
    "def objective(trial):\n",
    "    \n",
    "    ## Parameters to be evaluated\n",
    "    param = dict(objective = 'reg:absoluteerror',\n",
    "                 eval_metric = 'mae',\n",
    "                 tree_method = 'hist', \n",
    "                 random_state = 42,\n",
    "                 max_depth = trial.suggest_int('max_depth', 2, 10),\n",
    "                 learning_rate = trial.suggest_float('learning_rate', 1e-4, 1e-1, log = True),\n",
    "                 n_estimators = trial.suggest_int('n_estimators', 30, 10000),\n",
    "                 gamma = trial.suggest_float('gamma', 0, 10),\n",
    "                 min_child_weight = trial.suggest_int('min_child_weight', 1, 100),\n",
    "                 colsample_bytree = trial.suggest_float('colsample_bytree', 0.2, 0.9),\n",
    "                 subsample = trial.suggest_float('subsample', 0.2, 0.9)\n",
    "                )\n",
    "\n",
    "    scores = []\n",
    "\n",
    "#     skf = StratifiedKFold(n_splits = 5, shuffle = True, random_state = 42)\n",
    "    skf = KFold(n_splits = 5, shuffle = True, random_state = 42)\n",
    "    \n",
    "    for fold, (train_idx, valid_idx) in enumerate(skf.split(X, Y)):\n",
    "        \n",
    "        print(fold, end = ' ')\n",
    "        X_train, X_valid = X.iloc[train_idx], X.iloc[valid_idx]\n",
    "        y_train , y_valid = Y.iloc[train_idx] , Y.iloc[valid_idx]\n",
    "\n",
    "        model = XGBRegressor(**param)\n",
    "        model.fit(X_train, y_train)\n",
    "\n",
    "        preds_valid = model.predict(X_valid)\n",
    "        \n",
    "        optR = OptimizedRounder()\n",
    "        optR.fit(preds_valid, y_valid)\n",
    "        coef = optR.coefficients()\n",
    "        preds_valid = optR.predict(preds_valid, coef).astype(int)\n",
    "        \n",
    "        score = cohen_kappa_score(y_valid,  preds_valid, weights = \"quadratic\")\n",
    "        scores.append(score)\n",
    "        \n",
    "    return np.mean(scores)"
   ]
  },
  {
   "cell_type": "code",
   "execution_count": 27,
   "id": "186b0fd2",
   "metadata": {},
   "outputs": [
    {
     "name": "stderr",
     "output_type": "stream",
     "text": [
      "\u001b[32m[I 2023-02-05 01:26:18,030]\u001b[0m A new study created in memory with name: no-name-fa966b1f-4b81-4bf5-a842-f479c7445b3b\u001b[0m\n"
     ]
    },
    {
     "name": "stdout",
     "output_type": "stream",
     "text": [
      "0 1 2 3 4 "
     ]
    },
    {
     "name": "stderr",
     "output_type": "stream",
     "text": [
      "\u001b[32m[I 2023-02-05 01:26:47,667]\u001b[0m Trial 0 finished with value: 0.5017616407122193 and parameters: {'max_depth': 8, 'learning_rate': 0.0011037275501185272, 'n_estimators': 9276, 'gamma': 0.4715157731881592, 'min_child_weight': 72, 'colsample_bytree': 0.2797783463119873, 'subsample': 0.588048518897616}. Best is trial 0 with value: 0.5017616407122193.\u001b[0m\n"
     ]
    },
    {
     "name": "stdout",
     "output_type": "stream",
     "text": [
      "0 1 2 3 4 "
     ]
    },
    {
     "name": "stderr",
     "output_type": "stream",
     "text": [
      "\u001b[32m[I 2023-02-05 01:27:01,688]\u001b[0m Trial 1 finished with value: 0.48942404381208676 and parameters: {'max_depth': 2, 'learning_rate': 0.0034703673345219707, 'n_estimators': 3385, 'gamma': 5.73910500190444, 'min_child_weight': 55, 'colsample_bytree': 0.6657816410008429, 'subsample': 0.7471827976938796}. Best is trial 0 with value: 0.5017616407122193.\u001b[0m\n"
     ]
    },
    {
     "name": "stdout",
     "output_type": "stream",
     "text": [
      "0 1 2 3 4 "
     ]
    },
    {
     "name": "stderr",
     "output_type": "stream",
     "text": [
      "\u001b[32m[I 2023-02-05 01:27:26,376]\u001b[0m Trial 2 finished with value: 0.5372463847395591 and parameters: {'max_depth': 9, 'learning_rate': 0.044415553125680234, 'n_estimators': 6880, 'gamma': 9.617925634341363, 'min_child_weight': 46, 'colsample_bytree': 0.2536338375344066, 'subsample': 0.7481327103920989}. Best is trial 2 with value: 0.5372463847395591.\u001b[0m\n"
     ]
    },
    {
     "name": "stdout",
     "output_type": "stream",
     "text": [
      "0 1 2 3 4 "
     ]
    },
    {
     "name": "stderr",
     "output_type": "stream",
     "text": [
      "\u001b[32m[I 2023-02-05 01:27:34,185]\u001b[0m Trial 3 finished with value: 0.5174782102928994 and parameters: {'max_depth': 2, 'learning_rate': 0.0002506222719502113, 'n_estimators': 1149, 'gamma': 0.9949347118548812, 'min_child_weight': 88, 'colsample_bytree': 0.7124847793100533, 'subsample': 0.5854782659917311}. Best is trial 2 with value: 0.5372463847395591.\u001b[0m\n"
     ]
    },
    {
     "name": "stdout",
     "output_type": "stream",
     "text": [
      "0 1 2 3 4 "
     ]
    },
    {
     "name": "stderr",
     "output_type": "stream",
     "text": [
      "\u001b[32m[I 2023-02-05 01:27:47,326]\u001b[0m Trial 4 finished with value: 0.5098527470422716 and parameters: {'max_depth': 4, 'learning_rate': 0.0039356475219505865, 'n_estimators': 5519, 'gamma': 9.097008104145132, 'min_child_weight': 22, 'colsample_bytree': 0.6698938627108985, 'subsample': 0.3283636132863248}. Best is trial 2 with value: 0.5372463847395591.\u001b[0m\n"
     ]
    },
    {
     "name": "stdout",
     "output_type": "stream",
     "text": [
      "0 1 2 3 4 "
     ]
    },
    {
     "name": "stderr",
     "output_type": "stream",
     "text": [
      "\u001b[32m[I 2023-02-05 01:27:56,980]\u001b[0m Trial 5 finished with value: 0.48204395437701875 and parameters: {'max_depth': 10, 'learning_rate': 0.00843418373619299, 'n_estimators': 2013, 'gamma': 4.376682880961936, 'min_child_weight': 45, 'colsample_bytree': 0.8923735532751615, 'subsample': 0.47382168721170814}. Best is trial 2 with value: 0.5372463847395591.\u001b[0m\n"
     ]
    },
    {
     "name": "stdout",
     "output_type": "stream",
     "text": [
      "0 1 2 3 4 "
     ]
    },
    {
     "name": "stderr",
     "output_type": "stream",
     "text": [
      "\u001b[32m[I 2023-02-05 01:28:11,553]\u001b[0m Trial 6 finished with value: 0.5209001823076481 and parameters: {'max_depth': 2, 'learning_rate': 0.012792658969985196, 'n_estimators': 5664, 'gamma': 4.384085132564387, 'min_child_weight': 28, 'colsample_bytree': 0.35421915111503566, 'subsample': 0.3942802095634844}. Best is trial 2 with value: 0.5372463847395591.\u001b[0m\n"
     ]
    },
    {
     "name": "stdout",
     "output_type": "stream",
     "text": [
      "0 1 2 3 4 "
     ]
    },
    {
     "name": "stderr",
     "output_type": "stream",
     "text": [
      "\u001b[32m[I 2023-02-05 01:28:18,063]\u001b[0m Trial 7 finished with value: 0.5160382968221118 and parameters: {'max_depth': 5, 'learning_rate': 0.022152693779620328, 'n_estimators': 1517, 'gamma': 8.5563520273844, 'min_child_weight': 53, 'colsample_bytree': 0.8754439317452001, 'subsample': 0.5557455453724731}. Best is trial 2 with value: 0.5372463847395591.\u001b[0m\n"
     ]
    },
    {
     "name": "stdout",
     "output_type": "stream",
     "text": [
      "0 1 2 3 4 "
     ]
    },
    {
     "name": "stderr",
     "output_type": "stream",
     "text": [
      "\u001b[32m[I 2023-02-05 01:28:41,886]\u001b[0m Trial 8 finished with value: 0.4982537288389617 and parameters: {'max_depth': 8, 'learning_rate': 0.0343400039021185, 'n_estimators': 6281, 'gamma': 3.8864212322293747, 'min_child_weight': 65, 'colsample_bytree': 0.801701176238492, 'subsample': 0.8938217725492443}. Best is trial 2 with value: 0.5372463847395591.\u001b[0m\n"
     ]
    },
    {
     "name": "stdout",
     "output_type": "stream",
     "text": [
      "0 1 2 3 4 "
     ]
    },
    {
     "name": "stderr",
     "output_type": "stream",
     "text": [
      "\u001b[32m[I 2023-02-05 01:28:53,017]\u001b[0m Trial 9 finished with value: 0.49319473251572743 and parameters: {'max_depth': 8, 'learning_rate': 0.0008685527473884903, 'n_estimators': 4130, 'gamma': 5.395048201106323, 'min_child_weight': 71, 'colsample_bytree': 0.8639865817826782, 'subsample': 0.7541279805602144}. Best is trial 2 with value: 0.5372463847395591.\u001b[0m\n"
     ]
    },
    {
     "name": "stdout",
     "output_type": "stream",
     "text": [
      "0 1 2 3 4 "
     ]
    },
    {
     "name": "stderr",
     "output_type": "stream",
     "text": [
      "\u001b[32m[I 2023-02-05 01:29:10,726]\u001b[0m Trial 10 finished with value: 0.5291074636372524 and parameters: {'max_depth': 10, 'learning_rate': 0.07798017416475102, 'n_estimators': 8346, 'gamma': 9.903575461846007, 'min_child_weight': 4, 'colsample_bytree': 0.46531061808639484, 'subsample': 0.7085107088204967}. Best is trial 2 with value: 0.5372463847395591.\u001b[0m\n"
     ]
    },
    {
     "name": "stdout",
     "output_type": "stream",
     "text": [
      "0 1 2 3 4 "
     ]
    },
    {
     "name": "stderr",
     "output_type": "stream",
     "text": [
      "\u001b[32m[I 2023-02-05 01:29:28,617]\u001b[0m Trial 11 finished with value: 0.5372071610544029 and parameters: {'max_depth': 10, 'learning_rate': 0.07877213949258662, 'n_estimators': 8320, 'gamma': 9.078154743004564, 'min_child_weight': 1, 'colsample_bytree': 0.43557567758505195, 'subsample': 0.7138850042455607}. Best is trial 2 with value: 0.5372463847395591.\u001b[0m\n"
     ]
    },
    {
     "name": "stdout",
     "output_type": "stream",
     "text": [
      "0 1 2 3 4 "
     ]
    },
    {
     "name": "stderr",
     "output_type": "stream",
     "text": [
      "\u001b[32m[I 2023-02-05 01:29:44,057]\u001b[0m Trial 12 finished with value: 0.501248901190619 and parameters: {'max_depth': 9, 'learning_rate': 0.06611683504725085, 'n_estimators': 7660, 'gamma': 7.886294525023524, 'min_child_weight': 2, 'colsample_bytree': 0.2207591481089441, 'subsample': 0.2107627785858639}. Best is trial 2 with value: 0.5372463847395591.\u001b[0m\n"
     ]
    },
    {
     "name": "stdout",
     "output_type": "stream",
     "text": [
      "0 1 2 3 4 "
     ]
    },
    {
     "name": "stderr",
     "output_type": "stream",
     "text": [
      "\u001b[32m[I 2023-02-05 01:30:03,835]\u001b[0m Trial 13 finished with value: 0.530470005168012 and parameters: {'max_depth': 7, 'learning_rate': 0.09734609842564941, 'n_estimators': 7453, 'gamma': 7.299262943177817, 'min_child_weight': 30, 'colsample_bytree': 0.4185565301670912, 'subsample': 0.8771513315626208}. Best is trial 2 with value: 0.5372463847395591.\u001b[0m\n"
     ]
    },
    {
     "name": "stdout",
     "output_type": "stream",
     "text": [
      "0 1 2 3 4 "
     ]
    },
    {
     "name": "stderr",
     "output_type": "stream",
     "text": [
      "\u001b[32m[I 2023-02-05 01:30:27,587]\u001b[0m Trial 14 finished with value: 0.5024555739563732 and parameters: {'max_depth': 10, 'learning_rate': 0.028461977844150187, 'n_estimators': 9789, 'gamma': 9.936372914889866, 'min_child_weight': 15, 'colsample_bytree': 0.5104906724955741, 'subsample': 0.6668053197642605}. Best is trial 2 with value: 0.5372463847395591.\u001b[0m\n"
     ]
    },
    {
     "name": "stdout",
     "output_type": "stream",
     "text": [
      "0 1 2 3 4 "
     ]
    },
    {
     "name": "stderr",
     "output_type": "stream",
     "text": [
      "\u001b[32m[I 2023-02-05 01:30:46,938]\u001b[0m Trial 15 finished with value: 0.5338891234354566 and parameters: {'max_depth': 6, 'learning_rate': 0.04419289801282888, 'n_estimators': 6925, 'gamma': 7.129709705628515, 'min_child_weight': 37, 'colsample_bytree': 0.33886302323332296, 'subsample': 0.8287064472620458}. Best is trial 2 with value: 0.5372463847395591.\u001b[0m\n"
     ]
    },
    {
     "name": "stdout",
     "output_type": "stream",
     "text": [
      "0 1 2 3 4 "
     ]
    },
    {
     "name": "stderr",
     "output_type": "stream",
     "text": [
      "\u001b[32m[I 2023-02-05 01:31:07,624]\u001b[0m Trial 16 finished with value: 0.5324725061966079 and parameters: {'max_depth': 9, 'learning_rate': 0.015529644861733307, 'n_estimators': 8463, 'gamma': 8.702536974447154, 'min_child_weight': 99, 'colsample_bytree': 0.2175003028372363, 'subsample': 0.6639624656761716}. Best is trial 2 with value: 0.5372463847395591.\u001b[0m\n"
     ]
    },
    {
     "name": "stdout",
     "output_type": "stream",
     "text": [
      "0 1 2 3 4 "
     ]
    },
    {
     "name": "stderr",
     "output_type": "stream",
     "text": [
      "\u001b[32m[I 2023-02-05 01:31:27,608]\u001b[0m Trial 17 finished with value: 0.5127075193415346 and parameters: {'max_depth': 9, 'learning_rate': 0.040108947543485776, 'n_estimators': 4283, 'gamma': 9.9104370116824, 'min_child_weight': 12, 'colsample_bytree': 0.5716385336513541, 'subsample': 0.7916338014251528}. Best is trial 2 with value: 0.5372463847395591.\u001b[0m\n"
     ]
    },
    {
     "name": "stdout",
     "output_type": "stream",
     "text": [
      "0 1 2 3 4 "
     ]
    },
    {
     "name": "stderr",
     "output_type": "stream",
     "text": [
      "\u001b[32m[I 2023-02-05 01:31:51,489]\u001b[0m Trial 18 finished with value: 0.5315068868843073 and parameters: {'max_depth': 7, 'learning_rate': 0.09597596909607711, 'n_estimators': 8716, 'gamma': 7.192647509283284, 'min_child_weight': 41, 'colsample_bytree': 0.3777861730172958, 'subsample': 0.8118263665331327}. Best is trial 2 with value: 0.5372463847395591.\u001b[0m\n"
     ]
    },
    {
     "name": "stdout",
     "output_type": "stream",
     "text": [
      "0 1 2 3 4 "
     ]
    },
    {
     "name": "stderr",
     "output_type": "stream",
     "text": [
      "\u001b[32m[I 2023-02-05 01:32:10,790]\u001b[0m Trial 19 finished with value: 0.5333902808085224 and parameters: {'max_depth': 7, 'learning_rate': 0.007394670886648466, 'n_estimators': 6520, 'gamma': 6.478159249106158, 'min_child_weight': 84, 'colsample_bytree': 0.3022131562704571, 'subsample': 0.7025260729862249}. Best is trial 2 with value: 0.5372463847395591.\u001b[0m\n"
     ]
    },
    {
     "name": "stdout",
     "output_type": "stream",
     "text": [
      "0 1 2 3 4 "
     ]
    },
    {
     "name": "stderr",
     "output_type": "stream",
     "text": [
      "\u001b[32m[I 2023-02-05 01:32:20,474]\u001b[0m Trial 20 finished with value: 0.5344134984025412 and parameters: {'max_depth': 4, 'learning_rate': 0.019325849242983757, 'n_estimators': 2930, 'gamma': 8.433854524316795, 'min_child_weight': 60, 'colsample_bytree': 0.453371544252321, 'subsample': 0.6312962329128703}. Best is trial 2 with value: 0.5372463847395591.\u001b[0m\n"
     ]
    },
    {
     "name": "stdout",
     "output_type": "stream",
     "text": [
      "0 1 2 3 4 "
     ]
    },
    {
     "name": "stderr",
     "output_type": "stream",
     "text": [
      "\u001b[32m[I 2023-02-05 01:32:28,281]\u001b[0m Trial 21 finished with value: 0.5223129094074233 and parameters: {'max_depth': 4, 'learning_rate': 0.025767175357882605, 'n_estimators': 169, 'gamma': 8.567676385876691, 'min_child_weight': 64, 'colsample_bytree': 0.42405205871581136, 'subsample': 0.6339892144209117}. Best is trial 2 with value: 0.5372463847395591.\u001b[0m\n"
     ]
    },
    {
     "name": "stdout",
     "output_type": "stream",
     "text": [
      "0 1 2 3 4 "
     ]
    },
    {
     "name": "stderr",
     "output_type": "stream",
     "text": [
      "\u001b[32m[I 2023-02-05 01:32:41,280]\u001b[0m Trial 22 finished with value: 0.520568778576559 and parameters: {'max_depth': 4, 'learning_rate': 0.04707067153133921, 'n_estimators': 2872, 'gamma': 9.204517251990596, 'min_child_weight': 54, 'colsample_bytree': 0.4976046548103583, 'subsample': 0.6307481517078878}. Best is trial 2 with value: 0.5372463847395591.\u001b[0m\n"
     ]
    },
    {
     "name": "stdout",
     "output_type": "stream",
     "text": [
      "0 1 2 3 4 "
     ]
    },
    {
     "name": "stderr",
     "output_type": "stream",
     "text": [
      "\u001b[32m[I 2023-02-05 01:32:52,597]\u001b[0m Trial 23 finished with value: 0.4834454102250637 and parameters: {'max_depth': 3, 'learning_rate': 0.014853003176777289, 'n_estimators': 4697, 'gamma': 8.142877032269617, 'min_child_weight': 81, 'colsample_bytree': 0.5696010563736512, 'subsample': 0.7230862498421388}. Best is trial 2 with value: 0.5372463847395591.\u001b[0m\n"
     ]
    },
    {
     "name": "stdout",
     "output_type": "stream",
     "text": [
      "0 1 2 3 4 "
     ]
    },
    {
     "name": "stderr",
     "output_type": "stream",
     "text": [
      "\u001b[32m[I 2023-02-05 01:33:10,029]\u001b[0m Trial 24 finished with value: 0.5214685097363284 and parameters: {'max_depth': 5, 'learning_rate': 0.05475794049701959, 'n_estimators': 7449, 'gamma': 9.144094259090325, 'min_child_weight': 46, 'colsample_bytree': 0.4088450569256215, 'subsample': 0.5265367116212817}. Best is trial 2 with value: 0.5372463847395591.\u001b[0m\n"
     ]
    },
    {
     "name": "stdout",
     "output_type": "stream",
     "text": [
      "0 1 2 3 4 "
     ]
    },
    {
     "name": "stderr",
     "output_type": "stream",
     "text": [
      "\u001b[32m[I 2023-02-05 01:33:20,710]\u001b[0m Trial 25 finished with value: 0.5374115663653174 and parameters: {'max_depth': 6, 'learning_rate': 0.020016651817565304, 'n_estimators': 3133, 'gamma': 7.838851232209607, 'min_child_weight': 31, 'colsample_bytree': 0.27296065715640017, 'subsample': 0.7745079797756027}. Best is trial 25 with value: 0.5374115663653174.\u001b[0m\n"
     ]
    },
    {
     "name": "stdout",
     "output_type": "stream",
     "text": [
      "0 1 2 3 4 "
     ]
    },
    {
     "name": "stderr",
     "output_type": "stream",
     "text": [
      "\u001b[32m[I 2023-02-05 01:33:36,801]\u001b[0m Trial 26 finished with value: 0.5362949278372164 and parameters: {'max_depth': 6, 'learning_rate': 0.05668540885947754, 'n_estimators': 5336, 'gamma': 7.838820779908101, 'min_child_weight': 33, 'colsample_bytree': 0.2765969563171128, 'subsample': 0.7607573833171933}. Best is trial 25 with value: 0.5374115663653174.\u001b[0m\n"
     ]
    },
    {
     "name": "stdout",
     "output_type": "stream",
     "text": [
      "0 1 2 3 4 "
     ]
    },
    {
     "name": "stderr",
     "output_type": "stream",
     "text": [
      "\u001b[32m[I 2023-02-05 01:33:52,931]\u001b[0m Trial 27 finished with value: 0.5126993215479267 and parameters: {'max_depth': 9, 'learning_rate': 0.02959171827764179, 'n_estimators': 5980, 'gamma': 9.301912119147936, 'min_child_weight': 20, 'colsample_bytree': 0.2033370020035013, 'subsample': 0.8311709487787063}. Best is trial 25 with value: 0.5374115663653174.\u001b[0m\n"
     ]
    },
    {
     "name": "stdout",
     "output_type": "stream",
     "text": [
      "0 1 2 3 4 "
     ]
    },
    {
     "name": "stderr",
     "output_type": "stream",
     "text": [
      "\u001b[32m[I 2023-02-05 01:34:10,143]\u001b[0m Trial 28 finished with value: 0.5240567114834281 and parameters: {'max_depth': 10, 'learning_rate': 0.06479784667109512, 'n_estimators': 3850, 'gamma': 7.8200019503053975, 'min_child_weight': 10, 'colsample_bytree': 0.3286491648682087, 'subsample': 0.784859592172004}. Best is trial 25 with value: 0.5374115663653174.\u001b[0m\n"
     ]
    },
    {
     "name": "stdout",
     "output_type": "stream",
     "text": [
      "0 1 2 3 4 "
     ]
    },
    {
     "name": "stderr",
     "output_type": "stream",
     "text": [
      "\u001b[32m[I 2023-02-05 01:34:36,117]\u001b[0m Trial 29 finished with value: 0.5181951028970508 and parameters: {'max_depth': 8, 'learning_rate': 0.01088533338540591, 'n_estimators': 9755, 'gamma': 6.4147096839034, 'min_child_weight': 24, 'colsample_bytree': 0.255168877781549, 'subsample': 0.8400377581327316}. Best is trial 25 with value: 0.5374115663653174.\u001b[0m\n"
     ]
    },
    {
     "name": "stdout",
     "output_type": "stream",
     "text": [
      "0 1 2 3 4 "
     ]
    },
    {
     "name": "stderr",
     "output_type": "stream",
     "text": [
      "\u001b[32m[I 2023-02-05 01:34:54,035]\u001b[0m Trial 30 finished with value: 0.5330662697502577 and parameters: {'max_depth': 7, 'learning_rate': 0.022557805361121095, 'n_estimators': 8109, 'gamma': 9.487585122819247, 'min_child_weight': 37, 'colsample_bytree': 0.27731477739035026, 'subsample': 0.7121866091343195}. Best is trial 25 with value: 0.5374115663653174.\u001b[0m\n"
     ]
    },
    {
     "name": "stdout",
     "output_type": "stream",
     "text": [
      "0 1 2 3 4 "
     ]
    },
    {
     "name": "stderr",
     "output_type": "stream",
     "text": [
      "\u001b[32m[I 2023-02-05 01:35:12,019]\u001b[0m Trial 31 finished with value: 0.5424351960927478 and parameters: {'max_depth': 6, 'learning_rate': 0.05592094327462056, 'n_estimators': 5235, 'gamma': 8.007385843523652, 'min_child_weight': 30, 'colsample_bytree': 0.28744348149625176, 'subsample': 0.757401052819223}. Best is trial 31 with value: 0.5424351960927478.\u001b[0m\n"
     ]
    },
    {
     "name": "stdout",
     "output_type": "stream",
     "text": [
      "0 1 2 3 4 "
     ]
    },
    {
     "name": "stderr",
     "output_type": "stream",
     "text": [
      "\u001b[32m[I 2023-02-05 01:35:33,644]\u001b[0m Trial 32 finished with value: 0.5341840388016807 and parameters: {'max_depth': 6, 'learning_rate': 0.037715263555112954, 'n_estimators': 9085, 'gamma': 8.876861094667436, 'min_child_weight': 48, 'colsample_bytree': 0.3160353669122856, 'subsample': 0.7669277569243905}. Best is trial 31 with value: 0.5424351960927478.\u001b[0m\n"
     ]
    },
    {
     "name": "stdout",
     "output_type": "stream",
     "text": [
      "0 1 2 3 4 "
     ]
    },
    {
     "name": "stderr",
     "output_type": "stream",
     "text": [
      "\u001b[32m[I 2023-02-05 01:35:50,097]\u001b[0m Trial 33 finished with value: 0.518603997258951 and parameters: {'max_depth': 5, 'learning_rate': 0.08741991757987076, 'n_estimators': 4923, 'gamma': 8.27704938854661, 'min_child_weight': 18, 'colsample_bytree': 0.2551682337241664, 'subsample': 0.8598574198701106}. Best is trial 31 with value: 0.5424351960927478.\u001b[0m\n"
     ]
    },
    {
     "name": "stdout",
     "output_type": "stream",
     "text": [
      "0 1 2 3 4 "
     ]
    },
    {
     "name": "stderr",
     "output_type": "stream",
     "text": [
      "\u001b[32m[I 2023-02-05 01:36:10,507]\u001b[0m Trial 34 finished with value: 0.5312411240831739 and parameters: {'max_depth': 6, 'learning_rate': 0.05345117465881594, 'n_estimators': 6977, 'gamma': 9.485746981234868, 'min_child_weight': 9, 'colsample_bytree': 0.3695383170045571, 'subsample': 0.8006195090006221}. Best is trial 31 with value: 0.5424351960927478.\u001b[0m\n"
     ]
    },
    {
     "name": "stdout",
     "output_type": "stream",
     "text": [
      "0 1 2 3 4 "
     ]
    },
    {
     "name": "stderr",
     "output_type": "stream",
     "text": [
      "\u001b[32m[I 2023-02-05 01:36:22,233]\u001b[0m Trial 35 finished with value: 0.533747351575917 and parameters: {'max_depth': 8, 'learning_rate': 0.09903488271312558, 'n_estimators': 2453, 'gamma': 8.935826389493714, 'min_child_weight': 25, 'colsample_bytree': 0.3036630550083264, 'subsample': 0.7423342612417183}. Best is trial 31 with value: 0.5424351960927478.\u001b[0m\n"
     ]
    },
    {
     "name": "stdout",
     "output_type": "stream",
     "text": [
      "0 1 2 3 4 "
     ]
    },
    {
     "name": "stderr",
     "output_type": "stream",
     "text": [
      "\u001b[32m[I 2023-02-05 01:36:38,622]\u001b[0m Trial 36 finished with value: 0.5372887353028135 and parameters: {'max_depth': 5, 'learning_rate': 0.03298403994789727, 'n_estimators': 3399, 'gamma': 7.638155039305419, 'min_child_weight': 40, 'colsample_bytree': 0.25161327269602807, 'subsample': 0.6876531284992913}. Best is trial 31 with value: 0.5424351960927478.\u001b[0m\n"
     ]
    },
    {
     "name": "stdout",
     "output_type": "stream",
     "text": [
      "0 1 2 3 4 "
     ]
    },
    {
     "name": "stderr",
     "output_type": "stream",
     "text": [
      "\u001b[32m[I 2023-02-05 01:36:49,722]\u001b[0m Trial 37 finished with value: 0.5278712384759883 and parameters: {'max_depth': 5, 'learning_rate': 0.007207685514658094, 'n_estimators': 3587, 'gamma': 7.40464514527947, 'min_child_weight': 40, 'colsample_bytree': 0.2376818372176336, 'subsample': 0.6767665063088354}. Best is trial 31 with value: 0.5424351960927478.\u001b[0m\n"
     ]
    },
    {
     "name": "stdout",
     "output_type": "stream",
     "text": [
      "0 1 2 3 4 "
     ]
    },
    {
     "name": "stderr",
     "output_type": "stream",
     "text": [
      "\u001b[32m[I 2023-02-05 01:36:58,909]\u001b[0m Trial 38 finished with value: 0.5312069031118813 and parameters: {'max_depth': 3, 'learning_rate': 0.018621900714081718, 'n_estimators': 1711, 'gamma': 6.169654415730628, 'min_child_weight': 32, 'colsample_bytree': 0.27306493463182147, 'subsample': 0.7555963805199082}. Best is trial 31 with value: 0.5424351960927478.\u001b[0m\n"
     ]
    },
    {
     "name": "stdout",
     "output_type": "stream",
     "text": [
      "0 1 2 3 4 "
     ]
    },
    {
     "name": "stderr",
     "output_type": "stream",
     "text": [
      "\u001b[32m[I 2023-02-05 01:37:08,787]\u001b[0m Trial 39 finished with value: 0.5263757087700964 and parameters: {'max_depth': 6, 'learning_rate': 0.010118293883366943, 'n_estimators': 2926, 'gamma': 6.93773677348999, 'min_child_weight': 42, 'colsample_bytree': 0.20170293786262444, 'subsample': 0.8968812956467789}. Best is trial 31 with value: 0.5424351960927478.\u001b[0m\n"
     ]
    },
    {
     "name": "stdout",
     "output_type": "stream",
     "text": [
      "0 1 2 3 4 "
     ]
    },
    {
     "name": "stderr",
     "output_type": "stream",
     "text": [
      "\u001b[32m[I 2023-02-05 01:37:21,874]\u001b[0m Trial 40 finished with value: 0.5094338630529722 and parameters: {'max_depth': 5, 'learning_rate': 0.029721643269893086, 'n_estimators': 4461, 'gamma': 5.73962577692836, 'min_child_weight': 51, 'colsample_bytree': 0.2488611395486016, 'subsample': 0.5855088217613065}. Best is trial 31 with value: 0.5424351960927478.\u001b[0m\n"
     ]
    },
    {
     "name": "stdout",
     "output_type": "stream",
     "text": [
      "0 1 2 3 4 "
     ]
    },
    {
     "name": "stderr",
     "output_type": "stream",
     "text": [
      "\u001b[32m[I 2023-02-05 01:37:38,668]\u001b[0m Trial 41 finished with value: 0.5190131844168697 and parameters: {'max_depth': 7, 'learning_rate': 0.0402189401892648, 'n_estimators': 5080, 'gamma': 8.019078127753655, 'min_child_weight': 59, 'colsample_bytree': 0.34350719791385376, 'subsample': 0.7318656979794702}. Best is trial 31 with value: 0.5424351960927478.\u001b[0m\n"
     ]
    },
    {
     "name": "stdout",
     "output_type": "stream",
     "text": [
      "0 1 2 3 4 "
     ]
    },
    {
     "name": "stderr",
     "output_type": "stream",
     "text": [
      "\u001b[32m[I 2023-02-05 01:37:45,556]\u001b[0m Trial 42 finished with value: 0.527791765461471 and parameters: {'max_depth': 10, 'learning_rate': 0.06273042084018633, 'n_estimators': 822, 'gamma': 8.765281225841502, 'min_child_weight': 26, 'colsample_bytree': 0.29846438192046737, 'subsample': 0.7866351295240224}. Best is trial 31 with value: 0.5424351960927478.\u001b[0m\n"
     ]
    },
    {
     "name": "stdout",
     "output_type": "stream",
     "text": [
      "0 1 2 3 4 "
     ]
    },
    {
     "name": "stderr",
     "output_type": "stream",
     "text": [
      "\u001b[32m[I 2023-02-05 01:37:59,394]\u001b[0m Trial 43 finished with value: 0.5337444637774913 and parameters: {'max_depth': 6, 'learning_rate': 0.03369190564476246, 'n_estimators': 5808, 'gamma': 7.682788460899545, 'min_child_weight': 35, 'colsample_bytree': 0.35886461821936644, 'subsample': 0.7028492805162603}. Best is trial 31 with value: 0.5424351960927478.\u001b[0m\n"
     ]
    },
    {
     "name": "stdout",
     "output_type": "stream",
     "text": [
      "0 1 2 3 4 "
     ]
    },
    {
     "name": "stderr",
     "output_type": "stream",
     "text": [
      "\u001b[32m[I 2023-02-05 01:38:11,307]\u001b[0m Trial 44 finished with value: 0.521535610433726 and parameters: {'max_depth': 9, 'learning_rate': 0.07112793142290058, 'n_estimators': 3594, 'gamma': 8.307435142331796, 'min_child_weight': 29, 'colsample_bytree': 0.23289203734606304, 'subsample': 0.8458988513290304}. Best is trial 31 with value: 0.5424351960927478.\u001b[0m\n"
     ]
    },
    {
     "name": "stdout",
     "output_type": "stream",
     "text": [
      "0 1 2 3 4 "
     ]
    },
    {
     "name": "stderr",
     "output_type": "stream",
     "text": [
      "\u001b[32m[I 2023-02-05 01:38:27,032]\u001b[0m Trial 45 finished with value: 0.5367226033484053 and parameters: {'max_depth': 5, 'learning_rate': 0.021375941662113557, 'n_estimators': 2200, 'gamma': 9.582660114937942, 'min_child_weight': 45, 'colsample_bytree': 0.3218996085227251, 'subsample': 0.7430791617709332}. Best is trial 31 with value: 0.5424351960927478.\u001b[0m\n"
     ]
    },
    {
     "name": "stdout",
     "output_type": "stream",
     "text": [
      "0 1 2 3 4 "
     ]
    },
    {
     "name": "stderr",
     "output_type": "stream",
     "text": [
      "\u001b[32m[I 2023-02-05 01:38:47,075]\u001b[0m Trial 46 finished with value: 0.5344910344736861 and parameters: {'max_depth': 10, 'learning_rate': 0.04738292553735624, 'n_estimators': 6444, 'gamma': 7.455916314687922, 'min_child_weight': 1, 'colsample_bytree': 0.2844612589529596, 'subsample': 0.8121577099093825}. Best is trial 31 with value: 0.5424351960927478.\u001b[0m\n"
     ]
    },
    {
     "name": "stdout",
     "output_type": "stream",
     "text": [
      "0 1 2 3 4 "
     ]
    },
    {
     "name": "stderr",
     "output_type": "stream",
     "text": [
      "\u001b[32m[I 2023-02-05 01:39:10,038]\u001b[0m Trial 47 finished with value: 0.5241395139140742 and parameters: {'max_depth': 8, 'learning_rate': 0.07274273656224658, 'n_estimators': 8051, 'gamma': 9.981946639245225, 'min_child_weight': 6, 'colsample_bytree': 0.3795881200050439, 'subsample': 0.6891456353161515}. Best is trial 31 with value: 0.5424351960927478.\u001b[0m\n"
     ]
    },
    {
     "name": "stdout",
     "output_type": "stream",
     "text": [
      "0 1 2 3 4 "
     ]
    },
    {
     "name": "stderr",
     "output_type": "stream",
     "text": [
      "\u001b[32m[I 2023-02-05 01:39:27,768]\u001b[0m Trial 48 finished with value: 0.528213783545822 and parameters: {'max_depth': 7, 'learning_rate': 0.0324468759377853, 'n_estimators': 3985, 'gamma': 8.6899893540224, 'min_child_weight': 16, 'colsample_bytree': 0.22750093542151942, 'subsample': 0.6633971321742418}. Best is trial 31 with value: 0.5424351960927478.\u001b[0m\n"
     ]
    },
    {
     "name": "stdout",
     "output_type": "stream",
     "text": [
      "0 1 2 3 4 "
     ]
    },
    {
     "name": "stderr",
     "output_type": "stream",
     "text": [
      "\u001b[32m[I 2023-02-05 01:39:47,651]\u001b[0m Trial 49 finished with value: 0.5338600415664281 and parameters: {'max_depth': 4, 'learning_rate': 0.015948313259779377, 'n_estimators': 7032, 'gamma': 6.885225618443959, 'min_child_weight': 50, 'colsample_bytree': 0.2584203830430017, 'subsample': 0.7733262327353702}. Best is trial 31 with value: 0.5424351960927478.\u001b[0m\n"
     ]
    }
   ],
   "source": [
    "study = optuna.create_study(direction = \"maximize\")\n",
    "study.optimize(objective, n_trials = 50, timeout = 3600)"
   ]
  },
  {
   "cell_type": "code",
   "execution_count": 29,
   "id": "991d4cf6",
   "metadata": {},
   "outputs": [
    {
     "data": {
      "text/plain": [
       "0.5424351960927478"
      ]
     },
     "execution_count": 29,
     "metadata": {},
     "output_type": "execute_result"
    }
   ],
   "source": [
    "study.best_trial.value"
   ]
  },
  {
   "cell_type": "markdown",
   "id": "24056d5f",
   "metadata": {},
   "source": [
    "# XGBoost Modeling"
   ]
  },
  {
   "cell_type": "code",
   "execution_count": 40,
   "id": "c5920059",
   "metadata": {},
   "outputs": [
    {
     "name": "stdout",
     "output_type": "stream",
     "text": [
      "The average roc-auc score over 5-folds (run 5 times) is: 0.5719634451523088\n"
     ]
    }
   ],
   "source": [
    "XGB_cv_scores, XGB_imp = list(), list()\n",
    "preds = list()\n",
    "\n",
    "## Running 5 times CV\n",
    "# for i in range(5):\n",
    "    \n",
    "#     skf = StratifiedKFold(n_splits = 5, random_state = 40, shuffle = True)\n",
    "skf = KFold(n_splits = 5, random_state = 42, shuffle = True)\n",
    "    \n",
    "for train_ix, test_ix in skf.split(X, Y):\n",
    "        \n",
    "    ## Splitting the data \n",
    "    X_train, X_test = X.iloc[train_ix], X.iloc[test_ix]\n",
    "    Y_train, Y_test = Y.iloc[train_ix], Y.iloc[test_ix]\n",
    "                \n",
    "    ## Building RF model\n",
    "    XGB_md = XGBRegressor(tree_method = 'hist',\n",
    "                              colsample_bytree = 0.2874, \n",
    "                              gamma = 8, \n",
    "                              learning_rate = 0.05592, \n",
    "                              max_depth = 6, \n",
    "                              min_child_weight = 30, \n",
    "                              n_estimators = 5235, \n",
    "                              subsample = 0.7574, \n",
    "                              random_state = 42).fit(X_train, Y_train)\n",
    "    XGB_imp.append(XGB_md.feature_importances_)\n",
    "        \n",
    "    ## Predicting on X_test and test\n",
    "    XGB_pred_1 = XGB_md.predict(X_test)\n",
    "    XGB_pred_2 = XGB_md.predict(test_md)\n",
    "        \n",
    "    ## Applying Optimal Rounder (using abhishek approach)\n",
    "    optR = OptimizedRounder()\n",
    "    optR.fit(XGB_pred_1, Y_test)\n",
    "    coef = optR.coefficients()\n",
    "    XGB_pred_1 = optR.predict(XGB_pred_1, coef).astype(int)\n",
    "    XGB_pred_2 = optR.predict(XGB_pred_2, coef).astype(int)\n",
    "        \n",
    "    ## Computing roc-auc score\n",
    "    XGB_cv_scores.append(cohen_kappa_score(Y_test, XGB_pred_1, weights = 'quadratic'))\n",
    "    preds.append(XGB_pred_2)\n",
    "\n",
    "XGB_cv_score = np.mean(XGB_cv_scores)    \n",
    "print('The average roc-auc score over 5-folds (run 5 times) is:', XGB_cv_score)"
   ]
  },
  {
   "cell_type": "code",
   "execution_count": 41,
   "id": "924bad45",
   "metadata": {},
   "outputs": [
    {
     "data": {
      "text/html": [
       "<div>\n",
       "<style scoped>\n",
       "    .dataframe tbody tr th:only-of-type {\n",
       "        vertical-align: middle;\n",
       "    }\n",
       "\n",
       "    .dataframe tbody tr th {\n",
       "        vertical-align: top;\n",
       "    }\n",
       "\n",
       "    .dataframe thead th {\n",
       "        text-align: right;\n",
       "    }\n",
       "</style>\n",
       "<table border=\"1\" class=\"dataframe\">\n",
       "  <thead>\n",
       "    <tr style=\"text-align: right;\">\n",
       "      <th></th>\n",
       "      <th>Id</th>\n",
       "      <th>quality</th>\n",
       "    </tr>\n",
       "  </thead>\n",
       "  <tbody>\n",
       "    <tr>\n",
       "      <th>0</th>\n",
       "      <td>2056</td>\n",
       "      <td>5</td>\n",
       "    </tr>\n",
       "    <tr>\n",
       "      <th>1</th>\n",
       "      <td>2057</td>\n",
       "      <td>6</td>\n",
       "    </tr>\n",
       "    <tr>\n",
       "      <th>2</th>\n",
       "      <td>2058</td>\n",
       "      <td>5</td>\n",
       "    </tr>\n",
       "    <tr>\n",
       "      <th>3</th>\n",
       "      <td>2059</td>\n",
       "      <td>6</td>\n",
       "    </tr>\n",
       "    <tr>\n",
       "      <th>4</th>\n",
       "      <td>2060</td>\n",
       "      <td>6</td>\n",
       "    </tr>\n",
       "  </tbody>\n",
       "</table>\n",
       "</div>"
      ],
      "text/plain": [
       "     Id  quality\n",
       "0  2056        5\n",
       "1  2057        6\n",
       "2  2058        5\n",
       "3  2059        6\n",
       "4  2060        6"
      ]
     },
     "execution_count": 41,
     "metadata": {},
     "output_type": "execute_result"
    }
   ],
   "source": [
    "XGB_preds_test = pd.DataFrame(preds).mode(axis = 0).loc[0, ]\n",
    "\n",
    "submission['quality'] = XGB_preds_test.astype(int)\n",
    "submission.head()"
   ]
  },
  {
   "cell_type": "code",
   "execution_count": 42,
   "id": "da1ee303",
   "metadata": {},
   "outputs": [
    {
     "data": {
      "text/plain": [
       "5    634\n",
       "6    425\n",
       "7    313\n",
       "Name: quality, dtype: int64"
      ]
     },
     "execution_count": 42,
     "metadata": {},
     "output_type": "execute_result"
    }
   ],
   "source": [
    "submission['quality'].value_counts()"
   ]
  },
  {
   "cell_type": "code",
   "execution_count": 38,
   "id": "5da107d1",
   "metadata": {},
   "outputs": [
    {
     "data": {
      "text/plain": [
       "5    634\n",
       "6    425\n",
       "7    313\n",
       "Name: quality, dtype: int64"
      ]
     },
     "execution_count": 38,
     "metadata": {},
     "output_type": "execute_result"
    }
   ],
   "source": [
    "submission['quality'].value_counts()"
   ]
  },
  {
   "cell_type": "code",
   "execution_count": 36,
   "id": "55da9edd",
   "metadata": {},
   "outputs": [
    {
     "data": {
      "text/plain": [
       "5    634\n",
       "6    425\n",
       "7    313\n",
       "Name: quality, dtype: int64"
      ]
     },
     "execution_count": 36,
     "metadata": {},
     "output_type": "execute_result"
    }
   ],
   "source": [
    "submission['quality'].value_counts()"
   ]
  },
  {
   "cell_type": "code",
   "execution_count": 37,
   "id": "d3ff713c",
   "metadata": {},
   "outputs": [],
   "source": [
    "submission.to_csv('XGB_Reg_FE_2.csv', index = False)"
   ]
  }
 ],
 "metadata": {
  "kernelspec": {
   "display_name": "conda_python3",
   "language": "python",
   "name": "conda_python3"
  },
  "language_info": {
   "codemirror_mode": {
    "name": "ipython",
    "version": 3
   },
   "file_extension": ".py",
   "mimetype": "text/x-python",
   "name": "python",
   "nbconvert_exporter": "python",
   "pygments_lexer": "ipython3",
   "version": "3.10.6"
  }
 },
 "nbformat": 4,
 "nbformat_minor": 5
}
