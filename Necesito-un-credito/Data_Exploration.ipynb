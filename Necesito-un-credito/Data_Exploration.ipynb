{
 "cells": [
  {
   "cell_type": "code",
   "execution_count": null,
   "id": "89e2f230",
   "metadata": {},
   "outputs": [],
   "source": [
    "pip install xgboost lightgbm"
   ]
  },
  {
   "cell_type": "code",
   "execution_count": null,
   "id": "fa7a703e",
   "metadata": {},
   "outputs": [],
   "source": [
    "import boto3\n",
    "import pandas as pd; pd.set_option('display.max_columns', 100)\n",
    "import numpy as np\n",
    "import matplotlib.pyplot as plt\n",
    "import seaborn as sns\n",
    "from sklearn.model_selection import GridSearchCV\n",
    "from xgboost import XGBClassifier\n",
    "from sklearn.metrics import roc_curve\n",
    "from sklearn.impute import KNNImputer\n",
    "\n",
    "s3 = boto3.resource('s3')\n",
    "bucket_name = 'analytics-data-science-competitions'\n",
    "bucket = s3.Bucket(bucket_name)\n",
    "\n",
    "file_key_1 = 'Necesito-un-credito/train.csv'\n",
    "file_key_2 = 'Necesito-un-credito/test.csv'\n",
    "\n",
    "bucket_object_1 = bucket.Object(file_key_1)\n",
    "file_object_1 = bucket_object_1.get()\n",
    "file_content_stream_1 = file_object_1.get('Body')\n",
    "\n",
    "bucket_object_2 = bucket.Object(file_key_2)\n",
    "file_object_2 = bucket_object_2.get()\n",
    "file_content_stream_2 = file_object_2.get('Body')\n",
    "\n",
    "## Reading data-files\n",
    "train = pd.read_csv(file_content_stream_1)\n",
    "train['age'] = [train['age'][i][:-1] for i in range(0, train.shape[0])]\n",
    "train['age'] = pd.to_numeric(train['age'])\n",
    "\n",
    "test = pd.read_csv(file_content_stream_2)\n",
    "test['age'] = [test['age'][i][:-1] for i in range(0, test.shape[0])]\n",
    "test['age'] = pd.to_numeric(test['age'])"
   ]
  },
  {
   "cell_type": "markdown",
   "id": "ea81276c",
   "metadata": {},
   "source": [
    "# Basic Exploration"
   ]
  },
  {
   "cell_type": "code",
   "execution_count": null,
   "id": "1f5b0675",
   "metadata": {},
   "outputs": [],
   "source": [
    "train.head()"
   ]
  },
  {
   "cell_type": "code",
   "execution_count": null,
   "id": "7a9d24dd",
   "metadata": {},
   "outputs": [],
   "source": [
    "train['SeriousDlqin2yrs'].value_counts() / train.shape[0]"
   ]
  },
  {
   "cell_type": "code",
   "execution_count": null,
   "id": "5e3898f9",
   "metadata": {},
   "outputs": [],
   "source": [
    "train.describe()"
   ]
  },
  {
   "cell_type": "code",
   "execution_count": null,
   "id": "1cf28a01",
   "metadata": {},
   "outputs": [],
   "source": [
    "test.head()"
   ]
  },
  {
   "cell_type": "markdown",
   "id": "c501cf4b",
   "metadata": {},
   "source": [
    "# Baseline Model: XGBoost"
   ]
  },
  {
   "cell_type": "code",
   "execution_count": null,
   "id": "805f6249",
   "metadata": {},
   "outputs": [],
   "source": [
    "X = train.drop(columns = ['Id', 'SeriousDlqin2yrs'], axis = 1)\n",
    "Y = train['SeriousDlqin2yrs']\n",
    "\n",
    "## Defining the hyper-parameter grid\n",
    "XGBoost_param_grid = {'n_estimators': [100],\n",
    "                      'max_depth': [5, 7],\n",
    "                      'min_child_weight': [5, 7, 10],\n",
    "                      'learning_rate': [0.01, 0.001],\n",
    "                      'gamma': [0.3, 0.1],\n",
    "                      'subsample': [0.8, 1],\n",
    "                      'colsample_bytree': [0.8, 1]}\n",
    "\n",
    "## Performing grid search with 5 folds\n",
    "XGBoost_grid_search = GridSearchCV(XGBClassifier(), XGBoost_param_grid, cv = 5, scoring = 'roc_auc', n_jobs = -1, verbose = 3).fit(X, Y)\n",
    "\n",
    "## Extracting the best score\n",
    "best_score = XGBoost_grid_search.best_score_\n",
    "print('The best area under the ROC cure is:', best_score)\n",
    "\n",
    "## Extracting the best model\n",
    "XGBoost_md = XGBoost_grid_search.best_estimator_\n",
    "\n",
    "## Predicting on test with best xgboost model \n",
    "xgb_pred = XGBoost_md.predict_proba(test.drop(columns = ['Id'], axis = 1))[:, 1] \n",
    "xgb_pred"
   ]
  },
  {
   "cell_type": "code",
   "execution_count": null,
   "id": "a4783ee0",
   "metadata": {},
   "outputs": [],
   "source": [
    "from sklearn.metrics import roc_curve\n",
    "\n",
    "def roc_auc_cutoff(Y_test, Y_pred):\n",
    "    \n",
    "    ## Computing the precision recall curve\n",
    "    fpr, tpr, thresholds = roc_curve(Y_test, Y_pred)\n",
    "    \n",
    "    cutoffs = pd.DataFrame({'False_Positive': fpr, 'True_Positive': tpr, 'cutoff': thresholds})\n",
    "\n",
    "    ## Finding the optimal cut-off\n",
    "    cutoffs['True_Positive_minus_1'] = cutoffs['True_Positive'] - 1\n",
    "    cutoffs['Euclidean_dist'] = np.sqrt(cutoffs['False_Positive']**2 + cutoffs['True_Positive_minus_1']**2)\n",
    "\n",
    "    ## Sorting based on the Euclidean distance\n",
    "    cutoffs = cutoffs.sort_values(by = 'Euclidean_dist').reset_index(drop = True)\n",
    "        \n",
    "    return cutoffs['cutoff'][0]\n",
    "\n",
    "\n",
    "xgb_pred_train = XGBoost_md.predict_proba(X)[:, 1]\n",
    "opt_cutoff = roc_auc_cutoff(Y, xgb_pred_train)\n",
    "print('The optimal cutoff is', opt_cutoff)"
   ]
  },
  {
   "cell_type": "code",
   "execution_count": null,
   "id": "e8c8292b",
   "metadata": {},
   "outputs": [],
   "source": [
    "xgb_pred_test = XGBoost_md.predict_proba(test.drop(columns = ['Id'], axis = 1))[:, 1]\n",
    "xgb_label_test = np.where(xgb_pred_test < opt_cutoff, 0, 1)"
   ]
  },
  {
   "cell_type": "code",
   "execution_count": null,
   "id": "c7991c54",
   "metadata": {},
   "outputs": [],
   "source": [
    "sum(xgb_label_test) / xgb_label_test.shape[0]"
   ]
  },
  {
   "cell_type": "code",
   "execution_count": null,
   "id": "b18260c8",
   "metadata": {},
   "outputs": [],
   "source": [
    "xgb_label.shape"
   ]
  },
  {
   "cell_type": "code",
   "execution_count": null,
   "id": "9f6ad0a8",
   "metadata": {},
   "outputs": [],
   "source": [
    "test.shape"
   ]
  },
  {
   "cell_type": "code",
   "execution_count": null,
   "id": "9dea9094",
   "metadata": {},
   "outputs": [],
   "source": [
    "data_out = pd.DataFrame({'Id': test['Id'], 'SeriousDlqin2yrs': xgb_label_test})\n",
    "data_out.head()"
   ]
  },
  {
   "cell_type": "code",
   "execution_count": null,
   "id": "4f66cb1b",
   "metadata": {},
   "outputs": [],
   "source": [
    "data_out['SeriousDlqin2yrs'].value_counts() / data_out.shape[0]"
   ]
  },
  {
   "cell_type": "code",
   "execution_count": null,
   "id": "a976e6b0",
   "metadata": {},
   "outputs": [],
   "source": [
    "data_out.to_csv('xgb_submission.csv', index = False)"
   ]
  },
  {
   "cell_type": "markdown",
   "id": "3fb51879",
   "metadata": {},
   "source": [
    "# Baseline Model: LightGBM"
   ]
  },
  {
   "cell_type": "code",
   "execution_count": null,
   "id": "f4792ee8",
   "metadata": {},
   "outputs": [],
   "source": [
    "import boto3\n",
    "import pandas as pd; pd.set_option('display.max_columns', 100)\n",
    "import numpy as np\n",
    "import matplotlib.pyplot as plt\n",
    "import seaborn as sns\n",
    "from sklearn.model_selection import GridSearchCV\n",
    "from lightgbm import LGBMClassifier\n",
    "from sklearn.metrics import roc_curve\n",
    "from sklearn.impute import KNNImputer\n",
    "\n",
    "s3 = boto3.resource('s3')\n",
    "bucket_name = 'analytics-data-science-competitions'\n",
    "bucket = s3.Bucket(bucket_name)\n",
    "\n",
    "file_key_1 = 'Necesito-un-credito/train.csv'\n",
    "file_key_2 = 'Necesito-un-credito/test.csv'\n",
    "\n",
    "bucket_object_1 = bucket.Object(file_key_1)\n",
    "file_object_1 = bucket_object_1.get()\n",
    "file_content_stream_1 = file_object_1.get('Body')\n",
    "\n",
    "bucket_object_2 = bucket.Object(file_key_2)\n",
    "file_object_2 = bucket_object_2.get()\n",
    "file_content_stream_2 = file_object_2.get('Body')\n",
    "\n",
    "## Reading data-files\n",
    "train = pd.read_csv(file_content_stream_1)\n",
    "train['age'] = [train['age'][i][:-1] for i in range(0, train.shape[0])]\n",
    "train['age'] = pd.to_numeric(train['age'])\n",
    "\n",
    "test = pd.read_csv(file_content_stream_2)\n",
    "test['age'] = [test['age'][i][:-1] for i in range(0, test.shape[0])]\n",
    "test['age'] = pd.to_numeric(test['age'])\n",
    "\n",
    "X = train.drop(columns = ['Id', 'SeriousDlqin2yrs'], axis = 1)\n",
    "Y = train['SeriousDlqin2yrs']\n",
    "\n",
    "## Defining the hyper-parameter grid\n",
    "LightGBM_param_grid = {'n_estimators': [100, 300],\n",
    "                       'max_depth': [3, 5, 7],\n",
    "                       'num_leaves': [20, 25, 30],\n",
    "                       'min_data_in_leaf': [10, 15, 20],\n",
    "                       'learning_rate': [0.01, 0.001],\n",
    "                       'feature_fraction': [0.8, 0.9, 1],\n",
    "                       'lambda_l1': [0, 10, 100],\n",
    "                       'lambda_l2': [0, 10, 100]\n",
    "                      }\n",
    "\n",
    "## Performing grid search with 5 folds\n",
    "LightGBM_grid_search = GridSearchCV(LGBMClassifier(), LightGBM_param_grid, cv = 5, scoring = 'roc_auc', n_jobs = -1, verbose = 3).fit(X, Y)\n",
    "\n",
    "## Extracting the best model\n",
    "LightGBM_md = LightGBM_grid_search.best_estimator_\n",
    "\n",
    "def roc_auc_cutoff(Y_test, Y_pred):\n",
    "    \n",
    "    ## Computing the precision recall curve\n",
    "    fpr, tpr, thresholds = roc_curve(Y_test, Y_pred)\n",
    "    \n",
    "    cutoffs = pd.DataFrame({'False_Positive': fpr, 'True_Positive': tpr, 'cutoff': thresholds})\n",
    "\n",
    "    ## Finding the optimal cut-off\n",
    "    cutoffs['True_Positive_minus_1'] = cutoffs['True_Positive'] - 1\n",
    "    cutoffs['Euclidean_dist'] = np.sqrt(cutoffs['False_Positive']**2 + cutoffs['True_Positive_minus_1']**2)\n",
    "\n",
    "    ## Sorting based on the Euclidean distance\n",
    "    cutoffs = cutoffs.sort_values(by = 'Euclidean_dist').reset_index(drop = True)\n",
    "        \n",
    "    return cutoffs['cutoff'][0]\n",
    "\n",
    "## Predicting on train to estimate cutoff\n",
    "lightgbm_pred_train = LightGBM_md.predict_proba(X)[:, 1]\n",
    "opt_cutoff = roc_auc_cutoff(Y, lightgbm_pred_train)\n",
    "print('The optimal cutoff is', opt_cutoff)\n",
    "\n",
    "## Predicting on the test\n",
    "lightgbm_pred_test = LightGBM_md.predict_proba(test.drop(columns = ['Id'], axis = 1))[:, 1]\n",
    "lightgbm_label_test = np.where(lightgbm_pred_test < opt_cutoff, 0, 1)\n",
    "\n",
    "## Data-frame for submission\n",
    "data_out = pd.DataFrame({'Id': test['Id'], 'SeriousDlqin2yrs': lightgbm_label_test})\n",
    "print(data_out.head())\n",
    "\n",
    "data_out.to_csv('lightgbm_submission.csv', index = False)"
   ]
  }
 ],
 "metadata": {
  "kernelspec": {
   "display_name": "conda_python3",
   "language": "python",
   "name": "conda_python3"
  },
  "language_info": {
   "codemirror_mode": {
    "name": "ipython",
    "version": 3
   },
   "file_extension": ".py",
   "mimetype": "text/x-python",
   "name": "python",
   "nbconvert_exporter": "python",
   "pygments_lexer": "ipython3",
   "version": "3.8.12"
  }
 },
 "nbformat": 4,
 "nbformat_minor": 5
}
