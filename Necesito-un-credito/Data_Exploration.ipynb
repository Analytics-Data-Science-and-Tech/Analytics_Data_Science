{
 "cells": [
  {
   "cell_type": "code",
   "execution_count": null,
   "id": "ed02a240",
   "metadata": {},
   "outputs": [],
   "source": [
    "pip install xgboost lightgbm"
   ]
  },
  {
   "cell_type": "code",
   "execution_count": null,
   "id": "43d0171b",
   "metadata": {},
   "outputs": [],
   "source": [
    "import boto3\n",
    "import pandas as pd; pd.set_option('display.max_columns', 100)\n",
    "import numpy as np\n",
    "import matplotlib.pyplot as plt\n",
    "import seaborn as sns\n",
    "from sklearn.tree import DecisionTreeClassifier, plot_tree\n",
    "from sklearn.model_selection import GridSearchCV, train_test_split\n",
    "from xgboost import XGBClassifier\n",
    "from sklearn.metrics import roc_curve\n",
    "from sklearn.impute import KNNImputer\n",
    "\n",
    "s3 = boto3.resource('s3')\n",
    "bucket_name = 'analytics-data-science-competitions'\n",
    "bucket = s3.Bucket(bucket_name)\n",
    "\n",
    "file_key_1 = 'Necesito-un-credito/train.csv'\n",
    "file_key_2 = 'Necesito-un-credito/test.csv'\n",
    "\n",
    "bucket_object_1 = bucket.Object(file_key_1)\n",
    "file_object_1 = bucket_object_1.get()\n",
    "file_content_stream_1 = file_object_1.get('Body')\n",
    "\n",
    "bucket_object_2 = bucket.Object(file_key_2)\n",
    "file_object_2 = bucket_object_2.get()\n",
    "file_content_stream_2 = file_object_2.get('Body')\n",
    "\n",
    "## Reading data-files\n",
    "train = pd.read_csv(file_content_stream_1)\n",
    "train['age'] = [train['age'][i][:-1] for i in range(0, train.shape[0])]\n",
    "train['age'] = pd.to_numeric(train['age'])\n",
    "\n",
    "test = pd.read_csv(file_content_stream_2)\n",
    "test['age'] = [test['age'][i][:-1] for i in range(0, test.shape[0])]\n",
    "test['age'] = pd.to_numeric(test['age'])"
   ]
  },
  {
   "cell_type": "markdown",
   "id": "30ebbb54",
   "metadata": {},
   "source": [
    "# Basic Exploration"
   ]
  },
  {
   "cell_type": "code",
   "execution_count": null,
   "id": "01949063",
   "metadata": {},
   "outputs": [],
   "source": [
    "train.head()"
   ]
  },
  {
   "cell_type": "code",
   "execution_count": null,
   "id": "092a219f",
   "metadata": {},
   "outputs": [],
   "source": [
    "train['SeriousDlqin2yrs'].value_counts() / train.shape[0]"
   ]
  },
  {
   "cell_type": "code",
   "execution_count": null,
   "id": "2b7e5e37",
   "metadata": {},
   "outputs": [],
   "source": [
    "train.describe()"
   ]
  },
  {
   "cell_type": "code",
   "execution_count": null,
   "id": "c9b6d295",
   "metadata": {},
   "outputs": [],
   "source": [
    "train['TotalLoans'] = train['NumberOfOpenCreditLinesAndLoans'] + train['NumberRealEstateLoansOrLines']\n",
    "train['Late90days'] = np.where(train['NumberOfTimes90DaysLate'] >= 1, 1, 0)\n",
    "train['Late60_90days'] = np.where(train['NumberOfTime60-89DaysPastDueNotWorse'] >= 1, 1, 0)\n",
    "train['Late30_50days'] = np.where(train['NumberOfTime60-89DaysPastDueNotWorse'] >= 2, 1, 0)\n",
    "\n",
    "train.head()"
   ]
  },
  {
   "cell_type": "code",
   "execution_count": null,
   "id": "c887bc14",
   "metadata": {},
   "outputs": [],
   "source": [
    "plt.figure(figsize = (10, 8))\n",
    "sns.histplot(x = 'RevolvingUtilizationOfUnsecuredLines', data = train)\n",
    "plt.show();"
   ]
  },
  {
   "cell_type": "code",
   "execution_count": null,
   "id": "bf7b964b",
   "metadata": {},
   "outputs": [],
   "source": [
    "plt.figure(figsize = (10, 8))\n",
    "sns.boxplot(x = 'Late90days', y = 'RevolvingUtilizationOfUnsecuredLines', data = train, hue = 'Late90days').set_yscale('log')\n",
    "plt.show();"
   ]
  },
  {
   "cell_type": "code",
   "execution_count": null,
   "id": "0c0a7e0e",
   "metadata": {},
   "outputs": [],
   "source": [
    "plt.figure(figsize = (10, 8))\n",
    "sns.scatterplot(x = 'RevolvingUtilizationOfUnsecuredLines', y = 'Late90days', data = train, hue = 'SeriousDlqin2yrs')\n",
    "plt.show();"
   ]
  },
  {
   "cell_type": "code",
   "execution_count": null,
   "id": "4edfcbe6",
   "metadata": {},
   "outputs": [],
   "source": [
    "## Defining the input and target variables\n",
    "train_clean = train.dropna()\n",
    "X = train_clean.drop(columns = ['Id', 'SeriousDlqin2yrs'], axis = 1)\n",
    "Y = train_clean['SeriousDlqin2yrs']\n",
    "\n",
    "## Spliting the data \n",
    "X_train, X_test, Y_train, Y_test = train_test_split(X, Y, test_size = 0.2, stratify = Y)\n",
    "\n",
    "## Building the decision tree on the train data-frame\n",
    "tree_md = DecisionTreeClassifier(max_depth = 3).fit(X_train, Y_train)\n",
    "\n",
    "## Visualizing the decision-tree model \n",
    "fig = plt.figure(figsize = (25, 15))\n",
    "plot_tree(tree_md, feature_names = X_train.columns, filled = True);"
   ]
  },
  {
   "cell_type": "code",
   "execution_count": null,
   "id": "746f2af0",
   "metadata": {},
   "outputs": [],
   "source": [
    "plt.figure(figsize = (10, 8))\n",
    "sns.scatterplot(x = 'TotalLoans', y = 'DebtRatio', data = train, hue = 'SeriousDlqin2yrs')\n",
    "plt.show()"
   ]
  },
  {
   "cell_type": "code",
   "execution_count": null,
   "id": "c9c764bd",
   "metadata": {},
   "outputs": [],
   "source": [
    "plt.figure(figsize = (10, 8))\n",
    "sns.boxplot(x = 'SeriousDlqin2yrs', y = 'TotalLoans', data = train, hue = 'SeriousDlqin2yrs')\n",
    "plt.show();"
   ]
  },
  {
   "cell_type": "code",
   "execution_count": null,
   "id": "0dd94d7f",
   "metadata": {},
   "outputs": [],
   "source": [
    "plt.figure(figsize = (10, 8))\n",
    "sns.scatterplot(x = 'NumberOfOpenCreditLinesAndLoans', y = 'NumberRealEstateLoansOrLines', data = train, hue = 'SeriousDlqin2yrs')\n",
    "plt.show();"
   ]
  },
  {
   "cell_type": "code",
   "execution_count": null,
   "id": "64e80175",
   "metadata": {},
   "outputs": [],
   "source": [
    "plt.figure(figsize = (10, 8))\n",
    "sns.scatterplot(x = 'NumberOfOpenCreditLinesAndLoans', y = 'NumberOfTimes90DaysLate', data = train, hue = 'SeriousDlqin2yrs')\n",
    "plt.show();"
   ]
  },
  {
   "cell_type": "code",
   "execution_count": null,
   "id": "932ed274",
   "metadata": {},
   "outputs": [],
   "source": [
    "plt.figure(figsize = (10, 8))\n",
    "sns.scatterplot(x = 'age', y = 'DebtRatio', data = train, hue = 'SeriousDlqin2yrs')\n",
    "plt.show();"
   ]
  },
  {
   "cell_type": "code",
   "execution_count": null,
   "id": "db745064",
   "metadata": {},
   "outputs": [],
   "source": [
    "plt.figure(figsize = (10, 8))\n",
    "sns.scatterplot(x = 'age', y = 'MonthlyIncome', data = train, hue = 'SeriousDlqin2yrs')\n",
    "plt.show();"
   ]
  },
  {
   "cell_type": "markdown",
   "id": "e089fd55",
   "metadata": {},
   "source": [
    "# Feature Engineering"
   ]
  },
  {
   "cell_type": "code",
   "execution_count": null,
   "id": "04509975",
   "metadata": {},
   "outputs": [],
   "source": [
    "train['Late90days'] = np.where(train['NumberOfTimes90DaysLate'] >= 1, 1, 0)\n",
    "train['Late60_90days'] = np.where(train['NumberOfTime60-89DaysPastDueNotWorse'] >= 1, 1, 0)\n",
    "\n"
   ]
  },
  {
   "cell_type": "markdown",
   "id": "95e6ad92",
   "metadata": {},
   "source": [
    "# Baseline Model: XGBoost"
   ]
  },
  {
   "cell_type": "code",
   "execution_count": null,
   "id": "28043467",
   "metadata": {},
   "outputs": [],
   "source": [
    "X = train.drop(columns = ['Id', 'SeriousDlqin2yrs'], axis = 1)\n",
    "Y = train['SeriousDlqin2yrs']\n",
    "\n",
    "## Defining the hyper-parameter grid\n",
    "XGBoost_param_grid = {'n_estimators': [100],\n",
    "                      'max_depth': [5, 7],\n",
    "                      'min_child_weight': [5, 7, 10],\n",
    "                      'learning_rate': [0.01, 0.001],\n",
    "                      'gamma': [0.3, 0.1],\n",
    "                      'subsample': [0.8, 1],\n",
    "                      'colsample_bytree': [0.8, 1]}\n",
    "\n",
    "## Performing grid search with 5 folds\n",
    "XGBoost_grid_search = GridSearchCV(XGBClassifier(), XGBoost_param_grid, cv = 5, scoring = 'roc_auc', n_jobs = -1, verbose = 3).fit(X, Y)\n",
    "\n",
    "## Extracting the best score\n",
    "best_score = XGBoost_grid_search.best_score_\n",
    "print('The best area under the ROC cure is:', best_score)\n",
    "\n",
    "## Extracting the best model\n",
    "XGBoost_md = XGBoost_grid_search.best_estimator_\n",
    "\n",
    "## Predicting on test with best xgboost model \n",
    "xgb_pred = XGBoost_md.predict_proba(test.drop(columns = ['Id'], axis = 1))[:, 1] \n",
    "xgb_pred"
   ]
  },
  {
   "cell_type": "code",
   "execution_count": null,
   "id": "156c1acf",
   "metadata": {},
   "outputs": [],
   "source": [
    "from sklearn.metrics import roc_curve\n",
    "\n",
    "def roc_auc_cutoff(Y_test, Y_pred):\n",
    "    \n",
    "    ## Computing the precision recall curve\n",
    "    fpr, tpr, thresholds = roc_curve(Y_test, Y_pred)\n",
    "    \n",
    "    cutoffs = pd.DataFrame({'False_Positive': fpr, 'True_Positive': tpr, 'cutoff': thresholds})\n",
    "\n",
    "    ## Finding the optimal cut-off\n",
    "    cutoffs['True_Positive_minus_1'] = cutoffs['True_Positive'] - 1\n",
    "    cutoffs['Euclidean_dist'] = np.sqrt(cutoffs['False_Positive']**2 + cutoffs['True_Positive_minus_1']**2)\n",
    "\n",
    "    ## Sorting based on the Euclidean distance\n",
    "    cutoffs = cutoffs.sort_values(by = 'Euclidean_dist').reset_index(drop = True)\n",
    "        \n",
    "    return cutoffs['cutoff'][0]\n",
    "\n",
    "\n",
    "xgb_pred_train = XGBoost_md.predict_proba(X)[:, 1]\n",
    "opt_cutoff = roc_auc_cutoff(Y, xgb_pred_train)\n",
    "print('The optimal cutoff is', opt_cutoff)"
   ]
  },
  {
   "cell_type": "code",
   "execution_count": null,
   "id": "96e970fe",
   "metadata": {},
   "outputs": [],
   "source": [
    "xgb_pred_test = XGBoost_md.predict_proba(test.drop(columns = ['Id'], axis = 1))[:, 1]\n",
    "xgb_label_test = np.where(xgb_pred_test < opt_cutoff, 0, 1)"
   ]
  },
  {
   "cell_type": "code",
   "execution_count": null,
   "id": "5b167521",
   "metadata": {},
   "outputs": [],
   "source": [
    "sum(xgb_label_test) / xgb_label_test.shape[0]"
   ]
  },
  {
   "cell_type": "code",
   "execution_count": null,
   "id": "ae9e65eb",
   "metadata": {},
   "outputs": [],
   "source": [
    "xgb_label.shape"
   ]
  },
  {
   "cell_type": "code",
   "execution_count": null,
   "id": "ff698b79",
   "metadata": {},
   "outputs": [],
   "source": [
    "test.shape"
   ]
  },
  {
   "cell_type": "code",
   "execution_count": null,
   "id": "da16ce6f",
   "metadata": {},
   "outputs": [],
   "source": [
    "data_out = pd.DataFrame({'Id': test['Id'], 'SeriousDlqin2yrs': xgb_label_test})\n",
    "data_out.head()"
   ]
  },
  {
   "cell_type": "code",
   "execution_count": null,
   "id": "d4aa65e4",
   "metadata": {},
   "outputs": [],
   "source": [
    "data_out['SeriousDlqin2yrs'].value_counts() / data_out.shape[0]"
   ]
  },
  {
   "cell_type": "code",
   "execution_count": null,
   "id": "d2686e63",
   "metadata": {},
   "outputs": [],
   "source": [
    "data_out.to_csv('xgb_submission.csv', index = False)"
   ]
  },
  {
   "cell_type": "markdown",
   "id": "1596672d",
   "metadata": {},
   "source": [
    "# Baseline Model: LightGBM"
   ]
  },
  {
   "cell_type": "code",
   "execution_count": null,
   "id": "f1314b32",
   "metadata": {},
   "outputs": [],
   "source": [
    "import boto3\n",
    "import pandas as pd; pd.set_option('display.max_columns', 100)\n",
    "import numpy as np\n",
    "import matplotlib.pyplot as plt\n",
    "import seaborn as sns\n",
    "from sklearn.model_selection import GridSearchCV\n",
    "from lightgbm import LGBMClassifier\n",
    "from sklearn.metrics import roc_curve\n",
    "from sklearn.impute import KNNImputer\n",
    "\n",
    "s3 = boto3.resource('s3')\n",
    "bucket_name = 'analytics-data-science-competitions'\n",
    "bucket = s3.Bucket(bucket_name)\n",
    "\n",
    "file_key_1 = 'Necesito-un-credito/train.csv'\n",
    "file_key_2 = 'Necesito-un-credito/test.csv'\n",
    "\n",
    "bucket_object_1 = bucket.Object(file_key_1)\n",
    "file_object_1 = bucket_object_1.get()\n",
    "file_content_stream_1 = file_object_1.get('Body')\n",
    "\n",
    "bucket_object_2 = bucket.Object(file_key_2)\n",
    "file_object_2 = bucket_object_2.get()\n",
    "file_content_stream_2 = file_object_2.get('Body')\n",
    "\n",
    "## Reading data-files\n",
    "train = pd.read_csv(file_content_stream_1)\n",
    "train['age'] = [train['age'][i][:-1] for i in range(0, train.shape[0])]\n",
    "train['age'] = pd.to_numeric(train['age'])\n",
    "\n",
    "test = pd.read_csv(file_content_stream_2)\n",
    "test['age'] = [test['age'][i][:-1] for i in range(0, test.shape[0])]\n",
    "test['age'] = pd.to_numeric(test['age'])\n",
    "\n",
    "X = train.drop(columns = ['Id', 'SeriousDlqin2yrs'], axis = 1)\n",
    "Y = train['SeriousDlqin2yrs']\n",
    "\n",
    "## Defining the hyper-parameter grid\n",
    "LightGBM_param_grid = {'n_estimators': [100, 300],\n",
    "                       'max_depth': [3, 5, 7],\n",
    "                       'num_leaves': [20, 25, 30],\n",
    "                       'min_data_in_leaf': [10, 15, 20],\n",
    "                       'learning_rate': [0.01, 0.001],\n",
    "                       'feature_fraction': [0.8, 0.9, 1],\n",
    "                       'lambda_l1': [0, 10, 100],\n",
    "                       'lambda_l2': [0, 10, 100]\n",
    "                      }\n",
    "\n",
    "## Performing grid search with 5 folds\n",
    "LightGBM_grid_search = GridSearchCV(LGBMClassifier(), LightGBM_param_grid, cv = 5, scoring = 'roc_auc', n_jobs = -1, verbose = 3).fit(X, Y)\n",
    "\n",
    "## Extracting the best model\n",
    "LightGBM_md = LightGBM_grid_search.best_estimator_\n",
    "\n",
    "def roc_auc_cutoff(Y_test, Y_pred):\n",
    "    \n",
    "    ## Computing the precision recall curve\n",
    "    fpr, tpr, thresholds = roc_curve(Y_test, Y_pred)\n",
    "    \n",
    "    cutoffs = pd.DataFrame({'False_Positive': fpr, 'True_Positive': tpr, 'cutoff': thresholds})\n",
    "\n",
    "    ## Finding the optimal cut-off\n",
    "    cutoffs['True_Positive_minus_1'] = cutoffs['True_Positive'] - 1\n",
    "    cutoffs['Euclidean_dist'] = np.sqrt(cutoffs['False_Positive']**2 + cutoffs['True_Positive_minus_1']**2)\n",
    "\n",
    "    ## Sorting based on the Euclidean distance\n",
    "    cutoffs = cutoffs.sort_values(by = 'Euclidean_dist').reset_index(drop = True)\n",
    "        \n",
    "    return cutoffs['cutoff'][0]\n",
    "\n",
    "## Predicting on train to estimate cutoff\n",
    "lightgbm_pred_train = LightGBM_md.predict_proba(X)[:, 1]\n",
    "opt_cutoff = roc_auc_cutoff(Y, lightgbm_pred_train)\n",
    "print('The optimal cutoff is', opt_cutoff)\n",
    "\n",
    "## Predicting on the test\n",
    "lightgbm_pred_test = LightGBM_md.predict_proba(test.drop(columns = ['Id'], axis = 1))[:, 1]\n",
    "lightgbm_label_test = np.where(lightgbm_pred_test < opt_cutoff, 0, 1)\n",
    "\n",
    "## Data-frame for submission\n",
    "data_out = pd.DataFrame({'Id': test['Id'], 'SeriousDlqin2yrs': lightgbm_label_test})\n",
    "print(data_out.head())\n",
    "\n",
    "data_out.to_csv('lightgbm_submission.csv', index = False)"
   ]
  }
 ],
 "metadata": {
  "kernelspec": {
   "display_name": "conda_python3",
   "language": "python",
   "name": "conda_python3"
  },
  "language_info": {
   "codemirror_mode": {
    "name": "ipython",
    "version": 3
   },
   "file_extension": ".py",
   "mimetype": "text/x-python",
   "name": "python",
   "nbconvert_exporter": "python",
   "pygments_lexer": "ipython3",
   "version": "3.8.12"
  }
 },
 "nbformat": 4,
 "nbformat_minor": 5
}
