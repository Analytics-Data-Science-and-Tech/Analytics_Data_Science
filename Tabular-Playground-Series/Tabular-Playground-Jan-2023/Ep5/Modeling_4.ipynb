{
 "cells": [
  {
   "cell_type": "code",
   "execution_count": 1,
   "id": "01ebfdf3",
   "metadata": {},
   "outputs": [
    {
     "name": "stdout",
     "output_type": "stream",
     "text": [
      "Looking in indexes: https://pypi.org/simple, https://pip.repos.neuron.amazonaws.com\n",
      "Requirement already satisfied: xgboost in /home/ec2-user/anaconda3/envs/python3/lib/python3.10/site-packages (1.7.3)\n",
      "Requirement already satisfied: lightgbm in /home/ec2-user/anaconda3/envs/python3/lib/python3.10/site-packages (3.3.5)\n",
      "Requirement already satisfied: catboost in /home/ec2-user/anaconda3/envs/python3/lib/python3.10/site-packages (1.1.1)\n",
      "Requirement already satisfied: optuna in /home/ec2-user/anaconda3/envs/python3/lib/python3.10/site-packages (3.1.0)\n",
      "Requirement already satisfied: scipy in /home/ec2-user/anaconda3/envs/python3/lib/python3.10/site-packages (from xgboost) (1.9.3)\n",
      "Requirement already satisfied: numpy in /home/ec2-user/anaconda3/envs/python3/lib/python3.10/site-packages (from xgboost) (1.22.4)\n",
      "Requirement already satisfied: wheel in /home/ec2-user/anaconda3/envs/python3/lib/python3.10/site-packages (from lightgbm) (0.37.1)\n",
      "Requirement already satisfied: scikit-learn!=0.22.0 in /home/ec2-user/anaconda3/envs/python3/lib/python3.10/site-packages (from lightgbm) (1.1.3)\n",
      "Requirement already satisfied: plotly in /home/ec2-user/anaconda3/envs/python3/lib/python3.10/site-packages (from catboost) (5.11.0)\n",
      "Requirement already satisfied: matplotlib in /home/ec2-user/anaconda3/envs/python3/lib/python3.10/site-packages (from catboost) (3.6.1)\n",
      "Requirement already satisfied: pandas>=0.24.0 in /home/ec2-user/anaconda3/envs/python3/lib/python3.10/site-packages (from catboost) (1.5.1)\n",
      "Requirement already satisfied: six in /home/ec2-user/anaconda3/envs/python3/lib/python3.10/site-packages (from catboost) (1.16.0)\n",
      "Requirement already satisfied: graphviz in /home/ec2-user/anaconda3/envs/python3/lib/python3.10/site-packages (from catboost) (0.20.1)\n",
      "Requirement already satisfied: tqdm in /home/ec2-user/anaconda3/envs/python3/lib/python3.10/site-packages (from optuna) (4.64.1)\n",
      "Requirement already satisfied: packaging>=20.0 in /home/ec2-user/anaconda3/envs/python3/lib/python3.10/site-packages (from optuna) (21.3)\n",
      "Requirement already satisfied: PyYAML in /home/ec2-user/anaconda3/envs/python3/lib/python3.10/site-packages (from optuna) (5.4.1)\n",
      "Requirement already satisfied: colorlog in /home/ec2-user/anaconda3/envs/python3/lib/python3.10/site-packages (from optuna) (6.7.0)\n",
      "Requirement already satisfied: sqlalchemy>=1.3.0 in /home/ec2-user/anaconda3/envs/python3/lib/python3.10/site-packages (from optuna) (1.4.42)\n",
      "Requirement already satisfied: alembic>=1.5.0 in /home/ec2-user/anaconda3/envs/python3/lib/python3.10/site-packages (from optuna) (1.9.2)\n",
      "Requirement already satisfied: cmaes>=0.9.1 in /home/ec2-user/anaconda3/envs/python3/lib/python3.10/site-packages (from optuna) (0.9.1)\n",
      "Requirement already satisfied: Mako in /home/ec2-user/anaconda3/envs/python3/lib/python3.10/site-packages (from alembic>=1.5.0->optuna) (1.2.4)\n",
      "Requirement already satisfied: pyparsing!=3.0.5,>=2.0.2 in /home/ec2-user/anaconda3/envs/python3/lib/python3.10/site-packages (from packaging>=20.0->optuna) (3.0.9)\n",
      "Requirement already satisfied: python-dateutil>=2.8.1 in /home/ec2-user/anaconda3/envs/python3/lib/python3.10/site-packages (from pandas>=0.24.0->catboost) (2.8.2)\n",
      "Requirement already satisfied: pytz>=2020.1 in /home/ec2-user/anaconda3/envs/python3/lib/python3.10/site-packages (from pandas>=0.24.0->catboost) (2022.5)\n",
      "Requirement already satisfied: threadpoolctl>=2.0.0 in /home/ec2-user/anaconda3/envs/python3/lib/python3.10/site-packages (from scikit-learn!=0.22.0->lightgbm) (3.1.0)\n",
      "Requirement already satisfied: joblib>=1.0.0 in /home/ec2-user/anaconda3/envs/python3/lib/python3.10/site-packages (from scikit-learn!=0.22.0->lightgbm) (1.2.0)\n",
      "Requirement already satisfied: greenlet!=0.4.17 in /home/ec2-user/anaconda3/envs/python3/lib/python3.10/site-packages (from sqlalchemy>=1.3.0->optuna) (1.1.3.post0)\n",
      "Requirement already satisfied: contourpy>=1.0.1 in /home/ec2-user/anaconda3/envs/python3/lib/python3.10/site-packages (from matplotlib->catboost) (1.0.6)\n",
      "Requirement already satisfied: pillow>=6.2.0 in /home/ec2-user/anaconda3/envs/python3/lib/python3.10/site-packages (from matplotlib->catboost) (9.2.0)\n",
      "Requirement already satisfied: cycler>=0.10 in /home/ec2-user/anaconda3/envs/python3/lib/python3.10/site-packages (from matplotlib->catboost) (0.11.0)\n",
      "Requirement already satisfied: kiwisolver>=1.0.1 in /home/ec2-user/anaconda3/envs/python3/lib/python3.10/site-packages (from matplotlib->catboost) (1.4.4)\n",
      "Requirement already satisfied: fonttools>=4.22.0 in /home/ec2-user/anaconda3/envs/python3/lib/python3.10/site-packages (from matplotlib->catboost) (4.38.0)\n",
      "Requirement already satisfied: tenacity>=6.2.0 in /home/ec2-user/anaconda3/envs/python3/lib/python3.10/site-packages (from plotly->catboost) (8.1.0)\n",
      "Requirement already satisfied: MarkupSafe>=0.9.2 in /home/ec2-user/anaconda3/envs/python3/lib/python3.10/site-packages (from Mako->alembic>=1.5.0->optuna) (2.1.1)\n",
      "Note: you may need to restart the kernel to use updated packages.\n"
     ]
    }
   ],
   "source": [
    "pip install xgboost lightgbm catboost optuna"
   ]
  },
  {
   "cell_type": "code",
   "execution_count": 74,
   "id": "77ad6fbe",
   "metadata": {},
   "outputs": [],
   "source": [
    "import boto3\n",
    "import pandas as pd; pd.set_option('display.max_columns', 100)\n",
    "import numpy as np\n",
    "\n",
    "import matplotlib.pyplot as plt; plt.style.use('ggplot')\n",
    "import seaborn as sns\n",
    "\n",
    "from scipy.stats import rankdata\n",
    "from sklearn.cluster import KMeans\n",
    "from sklearn.multiclass import OneVsRestClassifier\n",
    "from sklearn.tree import DecisionTreeRegressor, DecisionTreeClassifier, plot_tree\n",
    "from sklearn.preprocessing import MinMaxScaler\n",
    "from sklearn.model_selection import KFold, train_test_split, GridSearchCV, StratifiedKFold, TimeSeriesSplit\n",
    "from sklearn.metrics import mean_squared_error, roc_auc_score, cohen_kappa_score, davies_bouldin_score, calinski_harabasz_score, silhouette_score\n",
    "from sklearn.neighbors import KNeighborsClassifier\n",
    "from sklearn.ensemble import RandomForestClassifier, HistGradientBoostingClassifier\n",
    "from sklearn.linear_model import LogisticRegression\n",
    "from lightgbm import LGBMClassifier\n",
    "from xgboost import XGBClassifier\n",
    "from catboost import CatBoostClassifier\n",
    "\n",
    "import optuna \n",
    "\n",
    "s3 = boto3.resource('s3')\n",
    "bucket_name = 'analytics-data-science-competitions'\n",
    "bucket = s3.Bucket(bucket_name)\n",
    "\n",
    "file_key_1 = 'Tabular-Playground-Series/TS-S3-Ep5/train.csv'\n",
    "file_key_2 = 'Tabular-Playground-Series/TS-S3-Ep5/test.csv'\n",
    "file_key_3 = 'Tabular-Playground-Series/TS-S3-Ep5/sample_submission.csv'\n",
    "\n",
    "bucket_object_1 = bucket.Object(file_key_1)\n",
    "file_object_1 = bucket_object_1.get()\n",
    "file_content_stream_1 = file_object_1.get('Body')\n",
    "\n",
    "bucket_object_2 = bucket.Object(file_key_2)\n",
    "file_object_2 = bucket_object_2.get()\n",
    "file_content_stream_2 = file_object_2.get('Body')\n",
    "\n",
    "bucket_object_3 = bucket.Object(file_key_3)\n",
    "file_object_3 = bucket_object_3.get()\n",
    "file_content_stream_3 = file_object_3.get('Body')\n",
    "\n",
    "## Reading data files\n",
    "train = pd.read_csv(file_content_stream_1)\n",
    "test = pd.read_csv(file_content_stream_2)\n",
    "submission = pd.read_csv(file_content_stream_3)"
   ]
  },
  {
   "cell_type": "code",
   "execution_count": 62,
   "id": "7e20b324",
   "metadata": {},
   "outputs": [
    {
     "data": {
      "text/plain": [
       "5    839\n",
       "6    778\n",
       "7    333\n",
       "Name: quality, dtype: int64"
      ]
     },
     "execution_count": 62,
     "metadata": {},
     "output_type": "execute_result"
    }
   ],
   "source": [
    "train = train[np.isin(train['quality'], [5, 6, 7])].reset_index(drop = True)\n",
    "train['quality'].value_counts()"
   ]
  },
  {
   "cell_type": "code",
   "execution_count": 23,
   "id": "81348b68",
   "metadata": {},
   "outputs": [
    {
     "data": {
      "text/plain": [
       "5    839\n",
       "6    778\n",
       "7    333\n",
       "4     55\n",
       "8     39\n",
       "3     12\n",
       "Name: quality, dtype: int64"
      ]
     },
     "execution_count": 23,
     "metadata": {},
     "output_type": "execute_result"
    }
   ],
   "source": [
    "train['quality'].value_counts() \n",
    "# / train.shape[0]"
   ]
  },
  {
   "cell_type": "code",
   "execution_count": 11,
   "id": "e00f0c3e",
   "metadata": {},
   "outputs": [
    {
     "data": {
      "text/plain": [
       "5    839\n",
       "6    778\n",
       "7    333\n",
       "4    106\n",
       "Name: quality, dtype: int64"
      ]
     },
     "execution_count": 11,
     "metadata": {},
     "output_type": "execute_result"
    }
   ],
   "source": [
    "train['quality'] = np.where(((train['quality'] < 5) | (train['quality'] > 7)), 4, train['quality'])\n",
    "train['quality'].value_counts()"
   ]
  },
  {
   "cell_type": "code",
   "execution_count": 12,
   "id": "26458ef2",
   "metadata": {},
   "outputs": [
    {
     "data": {
      "text/plain": [
       "5    0.408074\n",
       "6    0.378405\n",
       "7    0.161965\n",
       "4    0.051556\n",
       "Name: quality, dtype: float64"
      ]
     },
     "execution_count": 12,
     "metadata": {},
     "output_type": "execute_result"
    }
   ],
   "source": [
    "train['quality'].value_counts() / train.shape[0]"
   ]
  },
  {
   "cell_type": "markdown",
   "id": "6b4e909c",
   "metadata": {},
   "source": [
    "# Feature Engineering "
   ]
  },
  {
   "cell_type": "code",
   "execution_count": 75,
   "id": "ae1a1bbf",
   "metadata": {},
   "outputs": [],
   "source": [
    "train['alcohol_density'] = train['alcohol'] * train['density']\n",
    "train['sulphate/density'] = train['sulphates']  / train['density']\n",
    "train['alcohol_sulphate'] = train['alcohol'] * train['sulphates']\n",
    "\n",
    "test['alcohol_density'] = test['alcohol']  * test['density']\n",
    "test['sulphate/density'] = test['sulphates']  / test['density']\n",
    "test['alcohol_sulphate'] = test['alcohol'] * test['sulphates']"
   ]
  },
  {
   "cell_type": "code",
   "execution_count": 76,
   "id": "075da98d",
   "metadata": {},
   "outputs": [],
   "source": [
    "test_md = test.copy()\n",
    "\n",
    "X = train[['sulphate/density', 'alcohol_density', 'alcohol', 'sulphates']]\n",
    "# X = train.drop(columns = ['Id', 'quality'], axis = 1)\n",
    "Y = train['quality'] - 3\n",
    "# test_md = test_md.drop(columns = 'Id', axis = 1)\n",
    "test_md = test_md[['sulphate/density', 'alcohol_density', 'alcohol', 'sulphates']]"
   ]
  },
  {
   "cell_type": "markdown",
   "id": "f0865906",
   "metadata": {},
   "source": [
    "# XGBoost Modeling"
   ]
  },
  {
   "cell_type": "code",
   "execution_count": 92,
   "id": "f77c8491",
   "metadata": {},
   "outputs": [],
   "source": [
    "def objective(trial):\n",
    "    \n",
    "    ## Parameters to be evaluated\n",
    "    param = dict(objective = 'multi:softmax',\n",
    "                 eval_metric = 'mlogloss',\n",
    "                 tree_method ='hist', \n",
    "                 random_state = 42,\n",
    "                 max_depth = trial.suggest_int('max_depth', 2, 10),\n",
    "                 learning_rate = trial.suggest_float('learning_rate', 1e-4, 1e-1, log = True),\n",
    "                 n_estimators = trial.suggest_int('n_estimators', 30, 10000),\n",
    "                 gamma = trial.suggest_float('gamma', 0, 10),\n",
    "                 min_child_weight = trial.suggest_int('min_child_weight', 1, 100),\n",
    "                 colsample_bytree = trial.suggest_float('colsample_bytree', 0.2, 0.9),\n",
    "                 subsample = trial.suggest_float('subsample', 0.2, 0.9)\n",
    "                )\n",
    "\n",
    "    scores = []\n",
    "\n",
    "    skf = StratifiedKFold(n_splits = 5, shuffle = True, random_state=42)\n",
    "    \n",
    "    for fold, (train_idx, valid_idx) in enumerate(skf.split(X, Y)):\n",
    "        print(fold, end = ' ')\n",
    "        X_train, X_valid = X.iloc[train_idx], X.iloc[valid_idx]\n",
    "        y_train , y_valid = Y.iloc[train_idx] , Y.iloc[valid_idx]\n",
    "\n",
    "        model = XGBClassifier(**param)\n",
    "        model.fit(X_train, y_train)\n",
    "\n",
    "        preds_valid = model.predict(X_valid)\n",
    "        score = cohen_kappa_score(y_valid,  preds_valid, weights = \"quadratic\")\n",
    "        scores.append(score)\n",
    "    return np.mean(scores)"
   ]
  },
  {
   "cell_type": "code",
   "execution_count": 93,
   "id": "3c864d6f",
   "metadata": {},
   "outputs": [
    {
     "name": "stderr",
     "output_type": "stream",
     "text": [
      "\u001b[32m[I 2023-02-03 00:22:54,818]\u001b[0m A new study created in memory with name: no-name-7f2c1fc0-ff7b-4608-9cc5-5ac1bdb2b089\u001b[0m\n"
     ]
    },
    {
     "name": "stdout",
     "output_type": "stream",
     "text": [
      "0 1 2 3 4 "
     ]
    },
    {
     "name": "stderr",
     "output_type": "stream",
     "text": [
      "\u001b[32m[I 2023-02-03 00:23:17,987]\u001b[0m Trial 0 finished with value: 0.5085029653995343 and parameters: {'max_depth': 7, 'learning_rate': 0.07893059761375568, 'n_estimators': 6239, 'gamma': 6.996574362263747, 'min_child_weight': 3, 'colsample_bytree': 0.6827053418368323, 'subsample': 0.8827994532173611}. Best is trial 0 with value: 0.5085029653995343.\u001b[0m\n"
     ]
    },
    {
     "name": "stdout",
     "output_type": "stream",
     "text": [
      "0 1 2 3 4 "
     ]
    },
    {
     "name": "stderr",
     "output_type": "stream",
     "text": [
      "\u001b[32m[I 2023-02-03 00:23:26,605]\u001b[0m Trial 1 finished with value: 0.4794433632983127 and parameters: {'max_depth': 4, 'learning_rate': 0.0027765485982789414, 'n_estimators': 2192, 'gamma': 2.7654270668185674, 'min_child_weight': 69, 'colsample_bytree': 0.3716522890814079, 'subsample': 0.4392124782358095}. Best is trial 0 with value: 0.5085029653995343.\u001b[0m\n"
     ]
    },
    {
     "name": "stdout",
     "output_type": "stream",
     "text": [
      "0 1 2 3 4 "
     ]
    },
    {
     "name": "stderr",
     "output_type": "stream",
     "text": [
      "\u001b[32m[I 2023-02-03 00:23:48,185]\u001b[0m Trial 2 finished with value: 0.4508549018646223 and parameters: {'max_depth': 3, 'learning_rate': 0.001533538496610234, 'n_estimators': 5552, 'gamma': 7.236939482341671, 'min_child_weight': 24, 'colsample_bytree': 0.38620147551103035, 'subsample': 0.3151538631939168}. Best is trial 0 with value: 0.5085029653995343.\u001b[0m\n"
     ]
    },
    {
     "name": "stdout",
     "output_type": "stream",
     "text": [
      "0 1 2 3 4 "
     ]
    },
    {
     "name": "stderr",
     "output_type": "stream",
     "text": [
      "\u001b[32m[I 2023-02-03 00:24:31,266]\u001b[0m Trial 3 finished with value: 0.4697288460193517 and parameters: {'max_depth': 5, 'learning_rate': 0.000675696872988292, 'n_estimators': 9465, 'gamma': 3.098251838077214, 'min_child_weight': 31, 'colsample_bytree': 0.2900397512983707, 'subsample': 0.21076926693415593}. Best is trial 0 with value: 0.5085029653995343.\u001b[0m\n"
     ]
    },
    {
     "name": "stdout",
     "output_type": "stream",
     "text": [
      "0 1 2 3 4 "
     ]
    },
    {
     "name": "stderr",
     "output_type": "stream",
     "text": [
      "\u001b[32m[I 2023-02-03 00:24:38,889]\u001b[0m Trial 4 finished with value: 0.39225522451128547 and parameters: {'max_depth': 7, 'learning_rate': 0.0003632985904051706, 'n_estimators': 1212, 'gamma': 2.620278707994669, 'min_child_weight': 60, 'colsample_bytree': 0.6033466435797181, 'subsample': 0.6800076328874772}. Best is trial 0 with value: 0.5085029653995343.\u001b[0m\n"
     ]
    },
    {
     "name": "stdout",
     "output_type": "stream",
     "text": [
      "0 1 2 3 4 "
     ]
    },
    {
     "name": "stderr",
     "output_type": "stream",
     "text": [
      "\u001b[32m[I 2023-02-03 00:24:45,082]\u001b[0m Trial 5 finished with value: 0.366230721908767 and parameters: {'max_depth': 4, 'learning_rate': 0.00015126802692217228, 'n_estimators': 1196, 'gamma': 1.4110669826939903, 'min_child_weight': 67, 'colsample_bytree': 0.7410842068135965, 'subsample': 0.2981044498702003}. Best is trial 0 with value: 0.5085029653995343.\u001b[0m\n"
     ]
    },
    {
     "name": "stdout",
     "output_type": "stream",
     "text": [
      "0 1 2 3 4 "
     ]
    },
    {
     "name": "stderr",
     "output_type": "stream",
     "text": [
      "\u001b[32m[I 2023-02-03 00:24:58,397]\u001b[0m Trial 6 finished with value: 0.49793502940613543 and parameters: {'max_depth': 5, 'learning_rate': 0.003437804533379529, 'n_estimators': 2645, 'gamma': 3.6851990293885195, 'min_child_weight': 28, 'colsample_bytree': 0.2520970534091917, 'subsample': 0.8975351531363702}. Best is trial 0 with value: 0.5085029653995343.\u001b[0m\n"
     ]
    },
    {
     "name": "stdout",
     "output_type": "stream",
     "text": [
      "0 1 2 3 4 "
     ]
    },
    {
     "name": "stderr",
     "output_type": "stream",
     "text": [
      "\u001b[32m[I 2023-02-03 00:25:51,393]\u001b[0m Trial 7 finished with value: 0.49929786766182493 and parameters: {'max_depth': 8, 'learning_rate': 0.013248817106441862, 'n_estimators': 9549, 'gamma': 0.8444636906090397, 'min_child_weight': 15, 'colsample_bytree': 0.30013436990415554, 'subsample': 0.38245945076930765}. Best is trial 0 with value: 0.5085029653995343.\u001b[0m\n"
     ]
    },
    {
     "name": "stdout",
     "output_type": "stream",
     "text": [
      "0 1 2 3 4 "
     ]
    },
    {
     "name": "stderr",
     "output_type": "stream",
     "text": [
      "\u001b[32m[I 2023-02-03 00:26:10,199]\u001b[0m Trial 8 finished with value: 0.3999980274898351 and parameters: {'max_depth': 2, 'learning_rate': 0.0076360729560522944, 'n_estimators': 4087, 'gamma': 0.6433193102059886, 'min_child_weight': 81, 'colsample_bytree': 0.6703852493756621, 'subsample': 0.39051009871659303}. Best is trial 0 with value: 0.5085029653995343.\u001b[0m\n"
     ]
    },
    {
     "name": "stdout",
     "output_type": "stream",
     "text": [
      "0 1 2 3 4 "
     ]
    },
    {
     "name": "stderr",
     "output_type": "stream",
     "text": [
      "\u001b[32m[I 2023-02-03 00:26:44,840]\u001b[0m Trial 9 finished with value: 0.5194729719503379 and parameters: {'max_depth': 8, 'learning_rate': 0.0010583383972237734, 'n_estimators': 3847, 'gamma': 0.45980375115162286, 'min_child_weight': 30, 'colsample_bytree': 0.8413304308896525, 'subsample': 0.5568429064855053}. Best is trial 9 with value: 0.5194729719503379.\u001b[0m\n"
     ]
    },
    {
     "name": "stdout",
     "output_type": "stream",
     "text": [
      "0 1 2 3 4 "
     ]
    },
    {
     "name": "stderr",
     "output_type": "stream",
     "text": [
      "\u001b[32m[I 2023-02-03 00:27:19,364]\u001b[0m Trial 10 finished with value: 0.3906003930460835 and parameters: {'max_depth': 10, 'learning_rate': 0.0001621726558887553, 'n_estimators': 7462, 'gamma': 5.183282899184295, 'min_child_weight': 98, 'colsample_bytree': 0.8992853705544194, 'subsample': 0.5844949622481617}. Best is trial 9 with value: 0.5194729719503379.\u001b[0m\n"
     ]
    },
    {
     "name": "stdout",
     "output_type": "stream",
     "text": [
      "0 1 2 3 4 "
     ]
    },
    {
     "name": "stderr",
     "output_type": "stream",
     "text": [
      "\u001b[32m[I 2023-02-03 00:27:39,907]\u001b[0m Trial 11 finished with value: 0.5085457213534882 and parameters: {'max_depth': 9, 'learning_rate': 0.09798510589202353, 'n_estimators': 5818, 'gamma': 8.520134975695235, 'min_child_weight': 4, 'colsample_bytree': 0.8055879337771517, 'subsample': 0.801277032643908}. Best is trial 9 with value: 0.5194729719503379.\u001b[0m\n"
     ]
    },
    {
     "name": "stdout",
     "output_type": "stream",
     "text": [
      "0 1 2 3 4 "
     ]
    },
    {
     "name": "stderr",
     "output_type": "stream",
     "text": [
      "\u001b[32m[I 2023-02-03 00:27:55,474]\u001b[0m Trial 12 finished with value: 0.49417645682407746 and parameters: {'max_depth': 10, 'learning_rate': 0.09001748280972952, 'n_estimators': 3943, 'gamma': 8.888510844878995, 'min_child_weight': 41, 'colsample_bytree': 0.880363901083819, 'subsample': 0.7138302285399748}. Best is trial 9 with value: 0.5194729719503379.\u001b[0m\n"
     ]
    },
    {
     "name": "stdout",
     "output_type": "stream",
     "text": [
      "0 1 2 3 4 "
     ]
    },
    {
     "name": "stderr",
     "output_type": "stream",
     "text": [
      "\u001b[32m[I 2023-02-03 00:28:26,805]\u001b[0m Trial 13 finished with value: 0.499072102482204 and parameters: {'max_depth': 9, 'learning_rate': 0.02534906099164336, 'n_estimators': 7409, 'gamma': 9.967299914244725, 'min_child_weight': 4, 'colsample_bytree': 0.7948789919702535, 'subsample': 0.5068862957561383}. Best is trial 9 with value: 0.5194729719503379.\u001b[0m\n"
     ]
    },
    {
     "name": "stdout",
     "output_type": "stream",
     "text": [
      "0 1 2 3 4 "
     ]
    },
    {
     "name": "stderr",
     "output_type": "stream",
     "text": [
      "\u001b[32m[I 2023-02-03 00:29:05,959]\u001b[0m Trial 14 finished with value: 0.5130538916517584 and parameters: {'max_depth': 8, 'learning_rate': 0.0010101520454277885, 'n_estimators': 4091, 'gamma': 0.06188980201689731, 'min_child_weight': 45, 'colsample_bytree': 0.8008712313157906, 'subsample': 0.7543966772168464}. Best is trial 9 with value: 0.5194729719503379.\u001b[0m\n"
     ]
    },
    {
     "name": "stdout",
     "output_type": "stream",
     "text": [
      "0 1 2 3 4 "
     ]
    },
    {
     "name": "stderr",
     "output_type": "stream",
     "text": [
      "\u001b[32m[I 2023-02-03 00:29:34,622]\u001b[0m Trial 15 finished with value: 0.5188856303038637 and parameters: {'max_depth': 7, 'learning_rate': 0.0009910549638214169, 'n_estimators': 3874, 'gamma': 0.09123515286066092, 'min_child_weight': 46, 'colsample_bytree': 0.5513148711668796, 'subsample': 0.6108911982985201}. Best is trial 9 with value: 0.5194729719503379.\u001b[0m\n"
     ]
    },
    {
     "name": "stdout",
     "output_type": "stream",
     "text": [
      "0 1 2 3 4 "
     ]
    },
    {
     "name": "stderr",
     "output_type": "stream",
     "text": [
      "\u001b[32m[I 2023-02-03 00:29:53,457]\u001b[0m Trial 16 finished with value: 0.5099625681666311 and parameters: {'max_depth': 6, 'learning_rate': 0.0005566959177259191, 'n_estimators': 2925, 'gamma': 1.6640683721616991, 'min_child_weight': 52, 'colsample_bytree': 0.5177935409617288, 'subsample': 0.6048476429047772}. Best is trial 9 with value: 0.5194729719503379.\u001b[0m\n"
     ]
    },
    {
     "name": "stdout",
     "output_type": "stream",
     "text": [
      "0 1 2 3 4 "
     ]
    },
    {
     "name": "stderr",
     "output_type": "stream",
     "text": [
      "\u001b[32m[I 2023-02-03 00:29:54,978]\u001b[0m Trial 17 finished with value: 0.47240833380031544 and parameters: {'max_depth': 7, 'learning_rate': 0.00030956620036849724, 'n_estimators': 240, 'gamma': 0.08939723875993226, 'min_child_weight': 35, 'colsample_bytree': 0.5551610409887114, 'subsample': 0.5280551826047322}. Best is trial 9 with value: 0.5194729719503379.\u001b[0m\n"
     ]
    },
    {
     "name": "stdout",
     "output_type": "stream",
     "text": [
      "0 1 2 3 4 "
     ]
    },
    {
     "name": "stderr",
     "output_type": "stream",
     "text": [
      "\u001b[32m[I 2023-02-03 00:30:22,114]\u001b[0m Trial 18 finished with value: 0.5105044352130692 and parameters: {'max_depth': 6, 'learning_rate': 0.0015505111239113244, 'n_estimators': 4914, 'gamma': 1.7198653177123797, 'min_child_weight': 19, 'colsample_bytree': 0.48976205458321564, 'subsample': 0.6369501405021187}. Best is trial 9 with value: 0.5194729719503379.\u001b[0m\n"
     ]
    },
    {
     "name": "stdout",
     "output_type": "stream",
     "text": [
      "0 1 2 3 4 "
     ]
    },
    {
     "name": "stderr",
     "output_type": "stream",
     "text": [
      "\u001b[32m[I 2023-02-03 00:30:57,359]\u001b[0m Trial 19 finished with value: 0.40456182481292374 and parameters: {'max_depth': 8, 'learning_rate': 0.00010480400379578809, 'n_estimators': 6872, 'gamma': 4.3437269655641, 'min_child_weight': 49, 'colsample_bytree': 0.6225837666340059, 'subsample': 0.5180627778947544}. Best is trial 9 with value: 0.5194729719503379.\u001b[0m\n"
     ]
    },
    {
     "name": "stdout",
     "output_type": "stream",
     "text": [
      "0 1 2 3 4 "
     ]
    },
    {
     "name": "stderr",
     "output_type": "stream",
     "text": [
      "\u001b[32m[I 2023-02-03 00:31:11,050]\u001b[0m Trial 20 finished with value: 0.5152332334128611 and parameters: {'max_depth': 9, 'learning_rate': 0.002886889572697518, 'n_estimators': 3330, 'gamma': 1.773514969584552, 'min_child_weight': 85, 'colsample_bytree': 0.7330070659888385, 'subsample': 0.6494948799708096}. Best is trial 9 with value: 0.5194729719503379.\u001b[0m\n"
     ]
    },
    {
     "name": "stdout",
     "output_type": "stream",
     "text": [
      "0 1 2 3 4 "
     ]
    },
    {
     "name": "stderr",
     "output_type": "stream",
     "text": [
      "\u001b[32m[I 2023-02-03 00:31:24,755]\u001b[0m Trial 21 finished with value: 0.5216547210012331 and parameters: {'max_depth': 9, 'learning_rate': 0.0027905654449033503, 'n_estimators': 3084, 'gamma': 0.9969456811320532, 'min_child_weight': 76, 'colsample_bytree': 0.7431582760184835, 'subsample': 0.6453494091541063}. Best is trial 21 with value: 0.5216547210012331.\u001b[0m\n"
     ]
    },
    {
     "name": "stdout",
     "output_type": "stream",
     "text": [
      "0 1 2 3 4 "
     ]
    },
    {
     "name": "stderr",
     "output_type": "stream",
     "text": [
      "\u001b[32m[I 2023-02-03 00:32:03,096]\u001b[0m Trial 22 finished with value: 0.5248974143171334 and parameters: {'max_depth': 8, 'learning_rate': 0.0016774237649515198, 'n_estimators': 4863, 'gamma': 0.08765622887047725, 'min_child_weight': 57, 'colsample_bytree': 0.851367667390416, 'subsample': 0.5925525343085731}. Best is trial 22 with value: 0.5248974143171334.\u001b[0m\n"
     ]
    },
    {
     "name": "stdout",
     "output_type": "stream",
     "text": [
      "0 1 2 3 4 "
     ]
    },
    {
     "name": "stderr",
     "output_type": "stream",
     "text": [
      "\u001b[32m[I 2023-02-03 00:32:23,387]\u001b[0m Trial 23 finished with value: 0.522020422748992 and parameters: {'max_depth': 9, 'learning_rate': 0.004629494420844623, 'n_estimators': 4892, 'gamma': 0.9356942741905432, 'min_child_weight': 75, 'colsample_bytree': 0.8535905498692357, 'subsample': 0.584718493623243}. Best is trial 22 with value: 0.5248974143171334.\u001b[0m\n"
     ]
    },
    {
     "name": "stdout",
     "output_type": "stream",
     "text": [
      "0 1 2 3 4 "
     ]
    },
    {
     "name": "stderr",
     "output_type": "stream",
     "text": [
      "\u001b[32m[I 2023-02-03 00:32:43,189]\u001b[0m Trial 24 finished with value: 0.5197149506137142 and parameters: {'max_depth': 10, 'learning_rate': 0.004548823245333882, 'n_estimators': 4647, 'gamma': 1.2230846478679414, 'min_child_weight': 79, 'colsample_bytree': 0.862653998609899, 'subsample': 0.6945863984446452}. Best is trial 22 with value: 0.5248974143171334.\u001b[0m\n"
     ]
    },
    {
     "name": "stdout",
     "output_type": "stream",
     "text": [
      "0 1 2 3 4 "
     ]
    },
    {
     "name": "stderr",
     "output_type": "stream",
     "text": [
      "\u001b[32m[I 2023-02-03 00:33:06,091]\u001b[0m Trial 25 finished with value: 0.5208505708281754 and parameters: {'max_depth': 9, 'learning_rate': 0.00787497967463716, 'n_estimators': 5237, 'gamma': 1.9365773337414003, 'min_child_weight': 71, 'colsample_bytree': 0.7607860468022383, 'subsample': 0.581844019372575}. Best is trial 22 with value: 0.5248974143171334.\u001b[0m\n"
     ]
    },
    {
     "name": "stdout",
     "output_type": "stream",
     "text": [
      "0 1 2 3 4 "
     ]
    },
    {
     "name": "stderr",
     "output_type": "stream",
     "text": [
      "\u001b[32m[I 2023-02-03 00:33:44,129]\u001b[0m Trial 26 finished with value: 0.5198093610209442 and parameters: {'max_depth': 9, 'learning_rate': 0.002104751375900819, 'n_estimators': 8268, 'gamma': 0.9832868093251742, 'min_child_weight': 96, 'colsample_bytree': 0.8370295107457163, 'subsample': 0.6529087287872735}. Best is trial 22 with value: 0.5248974143171334.\u001b[0m\n"
     ]
    },
    {
     "name": "stdout",
     "output_type": "stream",
     "text": [
      "0 1 2 3 4 "
     ]
    },
    {
     "name": "stderr",
     "output_type": "stream",
     "text": [
      "\u001b[32m[I 2023-02-03 00:33:52,943]\u001b[0m Trial 27 finished with value: 0.5155876410574717 and parameters: {'max_depth': 10, 'learning_rate': 0.004972864357075661, 'n_estimators': 1874, 'gamma': 2.3051986125920783, 'min_child_weight': 88, 'colsample_bytree': 0.8987332834885708, 'subsample': 0.7421096847580667}. Best is trial 22 with value: 0.5248974143171334.\u001b[0m\n"
     ]
    },
    {
     "name": "stdout",
     "output_type": "stream",
     "text": [
      "0 1 2 3 4 "
     ]
    },
    {
     "name": "stderr",
     "output_type": "stream",
     "text": [
      "\u001b[32m[I 2023-02-03 00:34:25,945]\u001b[0m Trial 28 finished with value: 0.5216888422082337 and parameters: {'max_depth': 8, 'learning_rate': 0.0019618824708241885, 'n_estimators': 6201, 'gamma': 1.1187673197336756, 'min_child_weight': 59, 'colsample_bytree': 0.8293048821841895, 'subsample': 0.47241471215293596}. Best is trial 22 with value: 0.5248974143171334.\u001b[0m\n"
     ]
    },
    {
     "name": "stdout",
     "output_type": "stream",
     "text": [
      "0 1 2 3 4 "
     ]
    },
    {
     "name": "stderr",
     "output_type": "stream",
     "text": [
      "\u001b[32m[I 2023-02-03 00:35:00,977]\u001b[0m Trial 29 finished with value: 0.5161036888666349 and parameters: {'max_depth': 7, 'learning_rate': 0.0017479917496013922, 'n_estimators': 6408, 'gamma': 2.293497872173269, 'min_child_weight': 59, 'colsample_bytree': 0.7104909332296258, 'subsample': 0.48584737975007275}. Best is trial 22 with value: 0.5248974143171334.\u001b[0m\n"
     ]
    },
    {
     "name": "stdout",
     "output_type": "stream",
     "text": [
      "0 1 2 3 4 "
     ]
    },
    {
     "name": "stderr",
     "output_type": "stream",
     "text": [
      "\u001b[32m[I 2023-02-03 00:35:25,337]\u001b[0m Trial 30 finished with value: 0.525318569237453 and parameters: {'max_depth': 8, 'learning_rate': 0.026122871155099082, 'n_estimators': 6402, 'gamma': 3.1396271213562654, 'min_child_weight': 60, 'colsample_bytree': 0.8410522417328885, 'subsample': 0.5455978571912129}. Best is trial 30 with value: 0.525318569237453.\u001b[0m\n"
     ]
    },
    {
     "name": "stdout",
     "output_type": "stream",
     "text": [
      "0 1 2 3 4 "
     ]
    },
    {
     "name": "stderr",
     "output_type": "stream",
     "text": [
      "\u001b[32m[I 2023-02-03 00:35:55,920]\u001b[0m Trial 31 finished with value: 0.5154270903865 and parameters: {'max_depth': 8, 'learning_rate': 0.04325746467585684, 'n_estimators': 6356, 'gamma': 1.0414417834780145, 'min_child_weight': 61, 'colsample_bytree': 0.8288931309842342, 'subsample': 0.5592841772325492}. Best is trial 30 with value: 0.525318569237453.\u001b[0m\n"
     ]
    },
    {
     "name": "stdout",
     "output_type": "stream",
     "text": [
      "0 1 2 3 4 "
     ]
    },
    {
     "name": "stderr",
     "output_type": "stream",
     "text": [
      "\u001b[32m[I 2023-02-03 00:36:27,424]\u001b[0m Trial 32 finished with value: 0.5236469124193771 and parameters: {'max_depth': 7, 'learning_rate': 0.01789579590440998, 'n_estimators': 7726, 'gamma': 3.0510717896703845, 'min_child_weight': 55, 'colsample_bytree': 0.783517305642641, 'subsample': 0.4623067054997251}. Best is trial 30 with value: 0.525318569237453.\u001b[0m\n"
     ]
    },
    {
     "name": "stdout",
     "output_type": "stream",
     "text": [
      "0 1 2 3 4 "
     ]
    },
    {
     "name": "stderr",
     "output_type": "stream",
     "text": [
      "\u001b[32m[I 2023-02-03 00:37:01,170]\u001b[0m Trial 33 finished with value: 0.5254595310602787 and parameters: {'max_depth': 7, 'learning_rate': 0.01987983313416184, 'n_estimators': 8426, 'gamma': 3.4103969327748294, 'min_child_weight': 53, 'colsample_bytree': 0.7788197441332908, 'subsample': 0.4567715034504576}. Best is trial 33 with value: 0.5254595310602787.\u001b[0m\n"
     ]
    },
    {
     "name": "stdout",
     "output_type": "stream",
     "text": [
      "0 1 2 3 4 "
     ]
    },
    {
     "name": "stderr",
     "output_type": "stream",
     "text": [
      "\u001b[32m[I 2023-02-03 00:37:40,911]\u001b[0m Trial 34 finished with value: 0.522336329883723 and parameters: {'max_depth': 6, 'learning_rate': 0.05117714701280564, 'n_estimators': 8568, 'gamma': 3.0368809732933966, 'min_child_weight': 54, 'colsample_bytree': 0.7930258065435288, 'subsample': 0.4621850609796544}. Best is trial 33 with value: 0.5254595310602787.\u001b[0m\n"
     ]
    },
    {
     "name": "stdout",
     "output_type": "stream",
     "text": [
      "0 1 2 3 4 "
     ]
    },
    {
     "name": "stderr",
     "output_type": "stream",
     "text": [
      "\u001b[32m[I 2023-02-03 00:38:17,655]\u001b[0m Trial 35 finished with value: 0.5261690076603357 and parameters: {'max_depth': 7, 'learning_rate': 0.022667047240201684, 'n_estimators': 8601, 'gamma': 3.671879471101324, 'min_child_weight': 64, 'colsample_bytree': 0.6902992261005392, 'subsample': 0.41937284537087716}. Best is trial 35 with value: 0.5261690076603357.\u001b[0m\n"
     ]
    },
    {
     "name": "stdout",
     "output_type": "stream",
     "text": [
      "0 1 2 3 4 "
     ]
    },
    {
     "name": "stderr",
     "output_type": "stream",
     "text": [
      "\u001b[32m[I 2023-02-03 00:38:53,790]\u001b[0m Trial 36 finished with value: 0.5264724022238702 and parameters: {'max_depth': 5, 'learning_rate': 0.02843876708619157, 'n_estimators': 8844, 'gamma': 5.158819701888897, 'min_child_weight': 64, 'colsample_bytree': 0.6951789775413684, 'subsample': 0.42066221683759925}. Best is trial 36 with value: 0.5264724022238702.\u001b[0m\n"
     ]
    },
    {
     "name": "stdout",
     "output_type": "stream",
     "text": [
      "0 1 2 3 4 "
     ]
    },
    {
     "name": "stderr",
     "output_type": "stream",
     "text": [
      "\u001b[32m[I 2023-02-03 00:39:27,967]\u001b[0m Trial 37 finished with value: 0.5274373986835524 and parameters: {'max_depth': 5, 'learning_rate': 0.031005167601864923, 'n_estimators': 8851, 'gamma': 5.555121417819512, 'min_child_weight': 68, 'colsample_bytree': 0.6878264653902313, 'subsample': 0.41423100774189403}. Best is trial 37 with value: 0.5274373986835524.\u001b[0m\n"
     ]
    },
    {
     "name": "stdout",
     "output_type": "stream",
     "text": [
      "0 1 2 3 4 "
     ]
    },
    {
     "name": "stderr",
     "output_type": "stream",
     "text": [
      "\u001b[32m[I 2023-02-03 00:40:08,639]\u001b[0m Trial 38 finished with value: 0.5232539950894436 and parameters: {'max_depth': 5, 'learning_rate': 0.049126290331453284, 'n_estimators': 9937, 'gamma': 5.425282013005059, 'min_child_weight': 67, 'colsample_bytree': 0.6841530473909936, 'subsample': 0.39991267025781}. Best is trial 37 with value: 0.5274373986835524.\u001b[0m\n"
     ]
    },
    {
     "name": "stdout",
     "output_type": "stream",
     "text": [
      "0 1 2 3 4 "
     ]
    },
    {
     "name": "stderr",
     "output_type": "stream",
     "text": [
      "\u001b[32m[I 2023-02-03 00:40:48,479]\u001b[0m Trial 39 finished with value: 0.5178936320253843 and parameters: {'max_depth': 4, 'learning_rate': 0.06089135517478072, 'n_estimators': 8770, 'gamma': 5.864537756581539, 'min_child_weight': 67, 'colsample_bytree': 0.671353895446417, 'subsample': 0.43111239379423444}. Best is trial 37 with value: 0.5274373986835524.\u001b[0m\n"
     ]
    },
    {
     "name": "stdout",
     "output_type": "stream",
     "text": [
      "0 1 2 3 4 "
     ]
    },
    {
     "name": "stderr",
     "output_type": "stream",
     "text": [
      "\u001b[32m[I 2023-02-03 00:41:24,211]\u001b[0m Trial 40 finished with value: 0.5238780090331367 and parameters: {'max_depth': 4, 'learning_rate': 0.034795997874491176, 'n_estimators': 9034, 'gamma': 4.486175490983368, 'min_child_weight': 65, 'colsample_bytree': 0.6373303983055624, 'subsample': 0.3341626721329876}. Best is trial 37 with value: 0.5274373986835524.\u001b[0m\n"
     ]
    },
    {
     "name": "stdout",
     "output_type": "stream",
     "text": [
      "0 1 2 3 4 "
     ]
    },
    {
     "name": "stderr",
     "output_type": "stream",
     "text": [
      "\u001b[32m[I 2023-02-03 00:41:56,345]\u001b[0m Trial 41 finished with value: 0.5214984022006196 and parameters: {'max_depth': 5, 'learning_rate': 0.028251430619415076, 'n_estimators': 8054, 'gamma': 3.889312276774965, 'min_child_weight': 73, 'colsample_bytree': 0.7599673613153756, 'subsample': 0.4369443321156835}. Best is trial 37 with value: 0.5274373986835524.\u001b[0m\n"
     ]
    },
    {
     "name": "stdout",
     "output_type": "stream",
     "text": [
      "0 1 2 3 4 "
     ]
    },
    {
     "name": "stderr",
     "output_type": "stream",
     "text": [
      "\u001b[32m[I 2023-02-03 00:42:32,693]\u001b[0m Trial 42 finished with value: 0.519098451058144 and parameters: {'max_depth': 6, 'learning_rate': 0.020749186464712577, 'n_estimators': 9268, 'gamma': 3.6038361869990254, 'min_child_weight': 64, 'colsample_bytree': 0.713643034379977, 'subsample': 0.343130450149677}. Best is trial 37 with value: 0.5274373986835524.\u001b[0m\n"
     ]
    },
    {
     "name": "stdout",
     "output_type": "stream",
     "text": [
      "0 1 2 3 4 "
     ]
    },
    {
     "name": "stderr",
     "output_type": "stream",
     "text": [
      "\u001b[32m[I 2023-02-03 00:43:14,286]\u001b[0m Trial 43 finished with value: 0.5157884774577184 and parameters: {'max_depth': 5, 'learning_rate': 0.014149724968483391, 'n_estimators': 9857, 'gamma': 5.956547301860306, 'min_child_weight': 40, 'colsample_bytree': 0.7632303036824397, 'subsample': 0.43095789777866095}. Best is trial 37 with value: 0.5274373986835524.\u001b[0m\n"
     ]
    },
    {
     "name": "stdout",
     "output_type": "stream",
     "text": [
      "0 1 2 3 4 "
     ]
    },
    {
     "name": "stderr",
     "output_type": "stream",
     "text": [
      "\u001b[32m[I 2023-02-03 00:43:46,798]\u001b[0m Trial 44 finished with value: 0.5264100482557034 and parameters: {'max_depth': 6, 'learning_rate': 0.06567790400842985, 'n_estimators': 6924, 'gamma': 4.628562039775121, 'min_child_weight': 50, 'colsample_bytree': 0.70062939526261, 'subsample': 0.37348730349683}. Best is trial 37 with value: 0.5274373986835524.\u001b[0m\n"
     ]
    },
    {
     "name": "stdout",
     "output_type": "stream",
     "text": [
      "0 1 2 3 4 "
     ]
    },
    {
     "name": "stderr",
     "output_type": "stream",
     "text": [
      "\u001b[32m[I 2023-02-03 00:44:14,655]\u001b[0m Trial 45 finished with value: 0.5252001059102014 and parameters: {'max_depth': 3, 'learning_rate': 0.0685847805258, 'n_estimators': 7021, 'gamma': 4.675066153962026, 'min_child_weight': 47, 'colsample_bytree': 0.6822263620470372, 'subsample': 0.36675289497345864}. Best is trial 37 with value: 0.5274373986835524.\u001b[0m\n"
     ]
    },
    {
     "name": "stdout",
     "output_type": "stream",
     "text": [
      "0 1 2 3 4 "
     ]
    },
    {
     "name": "stderr",
     "output_type": "stream",
     "text": [
      "\u001b[32m[I 2023-02-03 00:44:46,218]\u001b[0m Trial 46 finished with value: 0.5227638416693752 and parameters: {'max_depth': 6, 'learning_rate': 0.04268696465967494, 'n_estimators': 8099, 'gamma': 4.905465463506295, 'min_child_weight': 37, 'colsample_bytree': 0.6431808089783985, 'subsample': 0.2868477023273117}. Best is trial 37 with value: 0.5274373986835524.\u001b[0m\n"
     ]
    },
    {
     "name": "stdout",
     "output_type": "stream",
     "text": [
      "0 1 2 3 4 "
     ]
    },
    {
     "name": "stderr",
     "output_type": "stream",
     "text": [
      "\u001b[32m[I 2023-02-03 00:45:21,069]\u001b[0m Trial 47 finished with value: 0.52442386967912 and parameters: {'max_depth': 5, 'learning_rate': 0.06448770549718999, 'n_estimators': 8587, 'gamma': 4.0241892549138765, 'min_child_weight': 53, 'colsample_bytree': 0.5972652787294238, 'subsample': 0.4109372286493358}. Best is trial 37 with value: 0.5274373986835524.\u001b[0m\n"
     ]
    },
    {
     "name": "stdout",
     "output_type": "stream",
     "text": [
      "0 1 2 3 4 "
     ]
    },
    {
     "name": "stderr",
     "output_type": "stream",
     "text": [
      "\u001b[32m[I 2023-02-03 00:45:52,474]\u001b[0m Trial 48 finished with value: 0.5211516995739742 and parameters: {'max_depth': 6, 'learning_rate': 0.033468856471462576, 'n_estimators': 9142, 'gamma': 5.467375625464141, 'min_child_weight': 70, 'colsample_bytree': 0.7241407391058825, 'subsample': 0.37232947007738193}. Best is trial 37 with value: 0.5274373986835524.\u001b[0m\n"
     ]
    },
    {
     "name": "stdout",
     "output_type": "stream",
     "text": [
      "0 1 2 3 4 "
     ]
    },
    {
     "name": "stderr",
     "output_type": "stream",
     "text": [
      "\u001b[32m[I 2023-02-03 00:46:19,343]\u001b[0m Trial 49 finished with value: 0.522761525250149 and parameters: {'max_depth': 3, 'learning_rate': 0.09770337536146823, 'n_estimators': 7627, 'gamma': 3.534787553175006, 'min_child_weight': 63, 'colsample_bytree': 0.6870582102458276, 'subsample': 0.49150059163150434}. Best is trial 37 with value: 0.5274373986835524.\u001b[0m\n"
     ]
    }
   ],
   "source": [
    "study = optuna.create_study(direction = \"maximize\")\n",
    "study.optimize(objective, n_trials = 50, timeout = 3600)"
   ]
  },
  {
   "cell_type": "code",
   "execution_count": 101,
   "id": "c0b3a977",
   "metadata": {},
   "outputs": [
    {
     "name": "stdout",
     "output_type": "stream",
     "text": [
      "The average roc-auc score over 5-folds (run 5 times) is: 0.5280753543267158\n"
     ]
    }
   ],
   "source": [
    "XGB_cv_scores, XGB_imp = list(), list()\n",
    "preds = list()\n",
    "\n",
    "## Running 5 times CV\n",
    "for i in range(5):\n",
    "    \n",
    "    skf = StratifiedKFold(n_splits = 5, random_state = 42, shuffle = True)\n",
    "    \n",
    "    for train_ix, test_ix in skf.split(X, Y):\n",
    "        \n",
    "        ## Splitting the data \n",
    "        X_train, X_test = X.iloc[train_ix], X.iloc[test_ix]\n",
    "        Y_train, Y_test = Y.iloc[train_ix], Y.iloc[test_ix]\n",
    "                \n",
    "        ## Building RF model\n",
    "        XGB_md = XGBClassifier(tree_method = 'hist',\n",
    "                               colsample_bytree = 0.7, \n",
    "                               gamma = 5.5, \n",
    "                               learning_rate = 0.031, \n",
    "                               max_depth = 5, \n",
    "                               min_child_weight = 68, \n",
    "                               n_estimators = 8800, \n",
    "                               subsample = 0.41, \n",
    "                               random_state = 42).fit(X_train, Y_train)\n",
    "        XGB_imp.append(XGB_md.feature_importances_)\n",
    "        \n",
    "        ## Predicting on X_test and test\n",
    "        XGB_pred_1 = XGB_md.predict(X_test)\n",
    "        XGB_pred_2 = XGB_md.predict(test_md)\n",
    "        \n",
    "        ## Computing roc-auc score\n",
    "        XGB_cv_scores.append(cohen_kappa_score(Y_test, XGB_pred_1, weights = 'quadratic'))\n",
    "        preds.append(XGB_pred_2)\n",
    "\n",
    "XGB_cv_score = np.mean(XGB_cv_scores)    \n",
    "print('The average roc-auc score over 5-folds (run 5 times) is:', XGB_cv_score)"
   ]
  },
  {
   "cell_type": "code",
   "execution_count": 102,
   "id": "ba2e8b4c",
   "metadata": {},
   "outputs": [
    {
     "data": {
      "text/html": [
       "<div>\n",
       "<style scoped>\n",
       "    .dataframe tbody tr th:only-of-type {\n",
       "        vertical-align: middle;\n",
       "    }\n",
       "\n",
       "    .dataframe tbody tr th {\n",
       "        vertical-align: top;\n",
       "    }\n",
       "\n",
       "    .dataframe thead th {\n",
       "        text-align: right;\n",
       "    }\n",
       "</style>\n",
       "<table border=\"1\" class=\"dataframe\">\n",
       "  <thead>\n",
       "    <tr style=\"text-align: right;\">\n",
       "      <th></th>\n",
       "      <th>Id</th>\n",
       "      <th>quality</th>\n",
       "    </tr>\n",
       "  </thead>\n",
       "  <tbody>\n",
       "    <tr>\n",
       "      <th>0</th>\n",
       "      <td>2056</td>\n",
       "      <td>5</td>\n",
       "    </tr>\n",
       "    <tr>\n",
       "      <th>1</th>\n",
       "      <td>2057</td>\n",
       "      <td>6</td>\n",
       "    </tr>\n",
       "    <tr>\n",
       "      <th>2</th>\n",
       "      <td>2058</td>\n",
       "      <td>5</td>\n",
       "    </tr>\n",
       "    <tr>\n",
       "      <th>3</th>\n",
       "      <td>2059</td>\n",
       "      <td>6</td>\n",
       "    </tr>\n",
       "    <tr>\n",
       "      <th>4</th>\n",
       "      <td>2060</td>\n",
       "      <td>6</td>\n",
       "    </tr>\n",
       "  </tbody>\n",
       "</table>\n",
       "</div>"
      ],
      "text/plain": [
       "     Id  quality\n",
       "0  2056        5\n",
       "1  2057        6\n",
       "2  2058        5\n",
       "3  2059        6\n",
       "4  2060        6"
      ]
     },
     "execution_count": 102,
     "metadata": {},
     "output_type": "execute_result"
    }
   ],
   "source": [
    "XGB_preds_test = pd.DataFrame(preds).mode(axis = 0).loc[0, ] + 3\n",
    "\n",
    "submission['quality'] = XGB_preds_test.astype(int)\n",
    "submission.head()"
   ]
  },
  {
   "cell_type": "code",
   "execution_count": 103,
   "id": "d3951004",
   "metadata": {},
   "outputs": [
    {
     "data": {
      "text/plain": [
       "5    616\n",
       "6    564\n",
       "7    192\n",
       "Name: quality, dtype: int64"
      ]
     },
     "execution_count": 103,
     "metadata": {},
     "output_type": "execute_result"
    }
   ],
   "source": [
    "submission['quality'].value_counts()"
   ]
  },
  {
   "cell_type": "code",
   "execution_count": 104,
   "id": "ed7d3437",
   "metadata": {},
   "outputs": [],
   "source": [
    "submission.to_csv('XGB_baseline_FE_9.csv', index = False)"
   ]
  },
  {
   "cell_type": "markdown",
   "id": "2e5f0c52",
   "metadata": {},
   "source": [
    "# LightGBM"
   ]
  },
  {
   "cell_type": "code",
   "execution_count": 55,
   "id": "1f703629",
   "metadata": {},
   "outputs": [
    {
     "name": "stdout",
     "output_type": "stream",
     "text": [
      "[LightGBM] [Warning] lambda_l1 is set=3, reg_alpha=0.0 will be ignored. Current value: lambda_l1=3\n",
      "[LightGBM] [Warning] feature_fraction is set=0.7, colsample_bytree=1.0 will be ignored. Current value: feature_fraction=0.7\n",
      "[LightGBM] [Warning] lambda_l2 is set=3, reg_lambda=0.0 will be ignored. Current value: lambda_l2=3\n",
      "[LightGBM] [Warning] bagging_fraction is set=0.7, subsample=1.0 will be ignored. Current value: bagging_fraction=0.7\n",
      "[LightGBM] [Warning] lambda_l1 is set=3, reg_alpha=0.0 will be ignored. Current value: lambda_l1=3\n",
      "[LightGBM] [Warning] feature_fraction is set=0.7, colsample_bytree=1.0 will be ignored. Current value: feature_fraction=0.7\n",
      "[LightGBM] [Warning] lambda_l2 is set=3, reg_lambda=0.0 will be ignored. Current value: lambda_l2=3\n",
      "[LightGBM] [Warning] bagging_fraction is set=0.7, subsample=1.0 will be ignored. Current value: bagging_fraction=0.7\n",
      "[LightGBM] [Warning] lambda_l1 is set=3, reg_alpha=0.0 will be ignored. Current value: lambda_l1=3\n",
      "[LightGBM] [Warning] feature_fraction is set=0.7, colsample_bytree=1.0 will be ignored. Current value: feature_fraction=0.7\n",
      "[LightGBM] [Warning] lambda_l2 is set=3, reg_lambda=0.0 will be ignored. Current value: lambda_l2=3\n",
      "[LightGBM] [Warning] bagging_fraction is set=0.7, subsample=1.0 will be ignored. Current value: bagging_fraction=0.7\n",
      "[LightGBM] [Warning] lambda_l1 is set=3, reg_alpha=0.0 will be ignored. Current value: lambda_l1=3\n",
      "[LightGBM] [Warning] feature_fraction is set=0.7, colsample_bytree=1.0 will be ignored. Current value: feature_fraction=0.7\n",
      "[LightGBM] [Warning] lambda_l2 is set=3, reg_lambda=0.0 will be ignored. Current value: lambda_l2=3\n",
      "[LightGBM] [Warning] bagging_fraction is set=0.7, subsample=1.0 will be ignored. Current value: bagging_fraction=0.7\n",
      "[LightGBM] [Warning] lambda_l1 is set=3, reg_alpha=0.0 will be ignored. Current value: lambda_l1=3\n",
      "[LightGBM] [Warning] feature_fraction is set=0.7, colsample_bytree=1.0 will be ignored. Current value: feature_fraction=0.7\n",
      "[LightGBM] [Warning] lambda_l2 is set=3, reg_lambda=0.0 will be ignored. Current value: lambda_l2=3\n",
      "[LightGBM] [Warning] bagging_fraction is set=0.7, subsample=1.0 will be ignored. Current value: bagging_fraction=0.7\n",
      "[LightGBM] [Warning] lambda_l1 is set=3, reg_alpha=0.0 will be ignored. Current value: lambda_l1=3\n",
      "[LightGBM] [Warning] feature_fraction is set=0.7, colsample_bytree=1.0 will be ignored. Current value: feature_fraction=0.7\n",
      "[LightGBM] [Warning] lambda_l2 is set=3, reg_lambda=0.0 will be ignored. Current value: lambda_l2=3\n",
      "[LightGBM] [Warning] bagging_fraction is set=0.7, subsample=1.0 will be ignored. Current value: bagging_fraction=0.7\n",
      "[LightGBM] [Warning] lambda_l1 is set=3, reg_alpha=0.0 will be ignored. Current value: lambda_l1=3\n",
      "[LightGBM] [Warning] feature_fraction is set=0.7, colsample_bytree=1.0 will be ignored. Current value: feature_fraction=0.7\n",
      "[LightGBM] [Warning] lambda_l2 is set=3, reg_lambda=0.0 will be ignored. Current value: lambda_l2=3\n",
      "[LightGBM] [Warning] bagging_fraction is set=0.7, subsample=1.0 will be ignored. Current value: bagging_fraction=0.7\n",
      "[LightGBM] [Warning] lambda_l1 is set=3, reg_alpha=0.0 will be ignored. Current value: lambda_l1=3\n",
      "[LightGBM] [Warning] feature_fraction is set=0.7, colsample_bytree=1.0 will be ignored. Current value: feature_fraction=0.7\n",
      "[LightGBM] [Warning] lambda_l2 is set=3, reg_lambda=0.0 will be ignored. Current value: lambda_l2=3\n",
      "[LightGBM] [Warning] bagging_fraction is set=0.7, subsample=1.0 will be ignored. Current value: bagging_fraction=0.7\n",
      "[LightGBM] [Warning] lambda_l1 is set=3, reg_alpha=0.0 will be ignored. Current value: lambda_l1=3\n",
      "[LightGBM] [Warning] feature_fraction is set=0.7, colsample_bytree=1.0 will be ignored. Current value: feature_fraction=0.7\n",
      "[LightGBM] [Warning] lambda_l2 is set=3, reg_lambda=0.0 will be ignored. Current value: lambda_l2=3\n",
      "[LightGBM] [Warning] bagging_fraction is set=0.7, subsample=1.0 will be ignored. Current value: bagging_fraction=0.7\n",
      "[LightGBM] [Warning] lambda_l1 is set=3, reg_alpha=0.0 will be ignored. Current value: lambda_l1=3\n",
      "[LightGBM] [Warning] feature_fraction is set=0.7, colsample_bytree=1.0 will be ignored. Current value: feature_fraction=0.7\n",
      "[LightGBM] [Warning] lambda_l2 is set=3, reg_lambda=0.0 will be ignored. Current value: lambda_l2=3\n",
      "[LightGBM] [Warning] bagging_fraction is set=0.7, subsample=1.0 will be ignored. Current value: bagging_fraction=0.7\n",
      "[LightGBM] [Warning] lambda_l1 is set=3, reg_alpha=0.0 will be ignored. Current value: lambda_l1=3\n",
      "[LightGBM] [Warning] feature_fraction is set=0.7, colsample_bytree=1.0 will be ignored. Current value: feature_fraction=0.7\n",
      "[LightGBM] [Warning] lambda_l2 is set=3, reg_lambda=0.0 will be ignored. Current value: lambda_l2=3\n",
      "[LightGBM] [Warning] bagging_fraction is set=0.7, subsample=1.0 will be ignored. Current value: bagging_fraction=0.7\n",
      "[LightGBM] [Warning] lambda_l1 is set=3, reg_alpha=0.0 will be ignored. Current value: lambda_l1=3\n",
      "[LightGBM] [Warning] feature_fraction is set=0.7, colsample_bytree=1.0 will be ignored. Current value: feature_fraction=0.7\n",
      "[LightGBM] [Warning] lambda_l2 is set=3, reg_lambda=0.0 will be ignored. Current value: lambda_l2=3\n",
      "[LightGBM] [Warning] bagging_fraction is set=0.7, subsample=1.0 will be ignored. Current value: bagging_fraction=0.7\n",
      "[LightGBM] [Warning] lambda_l1 is set=3, reg_alpha=0.0 will be ignored. Current value: lambda_l1=3\n",
      "[LightGBM] [Warning] feature_fraction is set=0.7, colsample_bytree=1.0 will be ignored. Current value: feature_fraction=0.7\n",
      "[LightGBM] [Warning] lambda_l2 is set=3, reg_lambda=0.0 will be ignored. Current value: lambda_l2=3\n",
      "[LightGBM] [Warning] bagging_fraction is set=0.7, subsample=1.0 will be ignored. Current value: bagging_fraction=0.7\n",
      "[LightGBM] [Warning] lambda_l1 is set=3, reg_alpha=0.0 will be ignored. Current value: lambda_l1=3\n",
      "[LightGBM] [Warning] feature_fraction is set=0.7, colsample_bytree=1.0 will be ignored. Current value: feature_fraction=0.7\n",
      "[LightGBM] [Warning] lambda_l2 is set=3, reg_lambda=0.0 will be ignored. Current value: lambda_l2=3\n",
      "[LightGBM] [Warning] bagging_fraction is set=0.7, subsample=1.0 will be ignored. Current value: bagging_fraction=0.7\n",
      "[LightGBM] [Warning] lambda_l1 is set=3, reg_alpha=0.0 will be ignored. Current value: lambda_l1=3\n",
      "[LightGBM] [Warning] feature_fraction is set=0.7, colsample_bytree=1.0 will be ignored. Current value: feature_fraction=0.7\n",
      "[LightGBM] [Warning] lambda_l2 is set=3, reg_lambda=0.0 will be ignored. Current value: lambda_l2=3\n",
      "[LightGBM] [Warning] bagging_fraction is set=0.7, subsample=1.0 will be ignored. Current value: bagging_fraction=0.7\n",
      "[LightGBM] [Warning] lambda_l1 is set=3, reg_alpha=0.0 will be ignored. Current value: lambda_l1=3\n",
      "[LightGBM] [Warning] feature_fraction is set=0.7, colsample_bytree=1.0 will be ignored. Current value: feature_fraction=0.7\n",
      "[LightGBM] [Warning] lambda_l2 is set=3, reg_lambda=0.0 will be ignored. Current value: lambda_l2=3\n",
      "[LightGBM] [Warning] bagging_fraction is set=0.7, subsample=1.0 will be ignored. Current value: bagging_fraction=0.7\n",
      "[LightGBM] [Warning] lambda_l1 is set=3, reg_alpha=0.0 will be ignored. Current value: lambda_l1=3\n",
      "[LightGBM] [Warning] feature_fraction is set=0.7, colsample_bytree=1.0 will be ignored. Current value: feature_fraction=0.7\n",
      "[LightGBM] [Warning] lambda_l2 is set=3, reg_lambda=0.0 will be ignored. Current value: lambda_l2=3\n",
      "[LightGBM] [Warning] bagging_fraction is set=0.7, subsample=1.0 will be ignored. Current value: bagging_fraction=0.7\n",
      "[LightGBM] [Warning] lambda_l1 is set=3, reg_alpha=0.0 will be ignored. Current value: lambda_l1=3\n",
      "[LightGBM] [Warning] feature_fraction is set=0.7, colsample_bytree=1.0 will be ignored. Current value: feature_fraction=0.7\n",
      "[LightGBM] [Warning] lambda_l2 is set=3, reg_lambda=0.0 will be ignored. Current value: lambda_l2=3\n",
      "[LightGBM] [Warning] bagging_fraction is set=0.7, subsample=1.0 will be ignored. Current value: bagging_fraction=0.7\n",
      "[LightGBM] [Warning] lambda_l1 is set=3, reg_alpha=0.0 will be ignored. Current value: lambda_l1=3\n",
      "[LightGBM] [Warning] feature_fraction is set=0.7, colsample_bytree=1.0 will be ignored. Current value: feature_fraction=0.7\n",
      "[LightGBM] [Warning] lambda_l2 is set=3, reg_lambda=0.0 will be ignored. Current value: lambda_l2=3\n",
      "[LightGBM] [Warning] bagging_fraction is set=0.7, subsample=1.0 will be ignored. Current value: bagging_fraction=0.7\n",
      "[LightGBM] [Warning] lambda_l1 is set=3, reg_alpha=0.0 will be ignored. Current value: lambda_l1=3\n",
      "[LightGBM] [Warning] feature_fraction is set=0.7, colsample_bytree=1.0 will be ignored. Current value: feature_fraction=0.7\n",
      "[LightGBM] [Warning] lambda_l2 is set=3, reg_lambda=0.0 will be ignored. Current value: lambda_l2=3\n",
      "[LightGBM] [Warning] bagging_fraction is set=0.7, subsample=1.0 will be ignored. Current value: bagging_fraction=0.7\n",
      "[LightGBM] [Warning] lambda_l1 is set=3, reg_alpha=0.0 will be ignored. Current value: lambda_l1=3\n",
      "[LightGBM] [Warning] feature_fraction is set=0.7, colsample_bytree=1.0 will be ignored. Current value: feature_fraction=0.7\n",
      "[LightGBM] [Warning] lambda_l2 is set=3, reg_lambda=0.0 will be ignored. Current value: lambda_l2=3\n",
      "[LightGBM] [Warning] bagging_fraction is set=0.7, subsample=1.0 will be ignored. Current value: bagging_fraction=0.7\n",
      "[LightGBM] [Warning] lambda_l1 is set=3, reg_alpha=0.0 will be ignored. Current value: lambda_l1=3\n",
      "[LightGBM] [Warning] feature_fraction is set=0.7, colsample_bytree=1.0 will be ignored. Current value: feature_fraction=0.7\n",
      "[LightGBM] [Warning] lambda_l2 is set=3, reg_lambda=0.0 will be ignored. Current value: lambda_l2=3\n",
      "[LightGBM] [Warning] bagging_fraction is set=0.7, subsample=1.0 will be ignored. Current value: bagging_fraction=0.7\n",
      "[LightGBM] [Warning] lambda_l1 is set=3, reg_alpha=0.0 will be ignored. Current value: lambda_l1=3\n",
      "[LightGBM] [Warning] feature_fraction is set=0.7, colsample_bytree=1.0 will be ignored. Current value: feature_fraction=0.7\n",
      "[LightGBM] [Warning] lambda_l2 is set=3, reg_lambda=0.0 will be ignored. Current value: lambda_l2=3\n",
      "[LightGBM] [Warning] bagging_fraction is set=0.7, subsample=1.0 will be ignored. Current value: bagging_fraction=0.7\n",
      "[LightGBM] [Warning] lambda_l1 is set=3, reg_alpha=0.0 will be ignored. Current value: lambda_l1=3\n",
      "[LightGBM] [Warning] feature_fraction is set=0.7, colsample_bytree=1.0 will be ignored. Current value: feature_fraction=0.7\n",
      "[LightGBM] [Warning] lambda_l2 is set=3, reg_lambda=0.0 will be ignored. Current value: lambda_l2=3\n",
      "[LightGBM] [Warning] bagging_fraction is set=0.7, subsample=1.0 will be ignored. Current value: bagging_fraction=0.7\n",
      "[LightGBM] [Warning] lambda_l1 is set=3, reg_alpha=0.0 will be ignored. Current value: lambda_l1=3\n",
      "[LightGBM] [Warning] feature_fraction is set=0.7, colsample_bytree=1.0 will be ignored. Current value: feature_fraction=0.7\n",
      "[LightGBM] [Warning] lambda_l2 is set=3, reg_lambda=0.0 will be ignored. Current value: lambda_l2=3\n",
      "[LightGBM] [Warning] bagging_fraction is set=0.7, subsample=1.0 will be ignored. Current value: bagging_fraction=0.7\n",
      "The average oof roc-auc score over 5-folds (run 5 times) is: 0.5408678479398848\n"
     ]
    }
   ],
   "source": [
    "lgb_cv_scores, lgb_imp = list(), list()\n",
    "preds = list()\n",
    "\n",
    "## Running 5 times CV\n",
    "for i in range(5):\n",
    "    \n",
    "    skf = StratifiedKFold(n_splits = 5, random_state = 42, shuffle = True)\n",
    "    \n",
    "    for train_ix, test_ix in skf.split(X, Y):\n",
    "        \n",
    "        ## Splitting the data \n",
    "        X_train, X_test = X.iloc[train_ix], X.iloc[test_ix]\n",
    "        Y_train, Y_test = Y.iloc[train_ix], Y.iloc[test_ix]\n",
    "                \n",
    "        ## Building RF model\n",
    "        lgb_md = LGBMClassifier(n_estimators = 1000,\n",
    "                                max_depth = 5,\n",
    "                                learning_rate = 0.01,\n",
    "                                num_leaves = 10,\n",
    "                                lambda_l1 = 3,\n",
    "                                lambda_l2 = 3,\n",
    "                                bagging_fraction = 0.7,\n",
    "                                feature_fraction = 0.7).fit(X_train, Y_train)\n",
    "        lgb_imp.append(lgb_md.feature_importances_)\n",
    "        \n",
    "        ## Predicting on X_test and test\n",
    "        lgb_pred_1 = lgb_md.predict(X_test)\n",
    "        lgb_pred_2 = lgb_md.predict(test_md)\n",
    "        \n",
    "        ## Computing roc-auc score\n",
    "        lgb_cv_scores.append(cohen_kappa_score(Y_test, lgb_pred_1, weights = 'quadratic'))\n",
    "        preds.append(lgb_pred_2)\n",
    "\n",
    "lgb_cv_score = np.mean(lgb_cv_scores)    \n",
    "print('The average oof roc-auc score over 5-folds (run 5 times) is:', lgb_cv_score)"
   ]
  },
  {
   "cell_type": "code",
   "execution_count": 56,
   "id": "1bb4f37b",
   "metadata": {},
   "outputs": [
    {
     "data": {
      "text/html": [
       "<div>\n",
       "<style scoped>\n",
       "    .dataframe tbody tr th:only-of-type {\n",
       "        vertical-align: middle;\n",
       "    }\n",
       "\n",
       "    .dataframe tbody tr th {\n",
       "        vertical-align: top;\n",
       "    }\n",
       "\n",
       "    .dataframe thead th {\n",
       "        text-align: right;\n",
       "    }\n",
       "</style>\n",
       "<table border=\"1\" class=\"dataframe\">\n",
       "  <thead>\n",
       "    <tr style=\"text-align: right;\">\n",
       "      <th></th>\n",
       "      <th>Id</th>\n",
       "      <th>quality</th>\n",
       "    </tr>\n",
       "  </thead>\n",
       "  <tbody>\n",
       "    <tr>\n",
       "      <th>0</th>\n",
       "      <td>2056</td>\n",
       "      <td>5</td>\n",
       "    </tr>\n",
       "    <tr>\n",
       "      <th>1</th>\n",
       "      <td>2057</td>\n",
       "      <td>6</td>\n",
       "    </tr>\n",
       "    <tr>\n",
       "      <th>2</th>\n",
       "      <td>2058</td>\n",
       "      <td>6</td>\n",
       "    </tr>\n",
       "    <tr>\n",
       "      <th>3</th>\n",
       "      <td>2059</td>\n",
       "      <td>6</td>\n",
       "    </tr>\n",
       "    <tr>\n",
       "      <th>4</th>\n",
       "      <td>2060</td>\n",
       "      <td>6</td>\n",
       "    </tr>\n",
       "  </tbody>\n",
       "</table>\n",
       "</div>"
      ],
      "text/plain": [
       "     Id  quality\n",
       "0  2056        5\n",
       "1  2057        6\n",
       "2  2058        6\n",
       "3  2059        6\n",
       "4  2060        6"
      ]
     },
     "execution_count": 56,
     "metadata": {},
     "output_type": "execute_result"
    }
   ],
   "source": [
    "lgb_preds_test = pd.DataFrame(preds).mode(axis = 0).loc[0, ] + 5\n",
    "\n",
    "submission['quality'] = lgb_preds_test.astype(int)\n",
    "submission.head()"
   ]
  },
  {
   "cell_type": "code",
   "execution_count": 57,
   "id": "558ffb4a",
   "metadata": {},
   "outputs": [
    {
     "data": {
      "text/plain": [
       "5    603\n",
       "6    602\n",
       "7    167\n",
       "Name: quality, dtype: int64"
      ]
     },
     "execution_count": 57,
     "metadata": {},
     "output_type": "execute_result"
    }
   ],
   "source": [
    "submission['quality'].value_counts()"
   ]
  }
 ],
 "metadata": {
  "kernelspec": {
   "display_name": "conda_python3",
   "language": "python",
   "name": "conda_python3"
  },
  "language_info": {
   "codemirror_mode": {
    "name": "ipython",
    "version": 3
   },
   "file_extension": ".py",
   "mimetype": "text/x-python",
   "name": "python",
   "nbconvert_exporter": "python",
   "pygments_lexer": "ipython3",
   "version": "3.10.6"
  }
 },
 "nbformat": 4,
 "nbformat_minor": 5
}
