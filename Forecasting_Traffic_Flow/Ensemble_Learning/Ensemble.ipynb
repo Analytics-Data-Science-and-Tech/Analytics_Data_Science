{
 "cells": [
  {
   "cell_type": "code",
   "execution_count": 39,
   "id": "014cd1e2",
   "metadata": {},
   "outputs": [],
   "source": [
    "import pandas as pd\n",
    "import numpy as np\n",
    "import matplotlib.pyplot as plt\n",
    "from sklearn.preprocessing import MI\n",
    "from sklearn.model_selection import LeaveOneOut, GridSearchCV\n",
    "from sklearn.ensemble import RandomForestRegressor\n",
    "from sklearn.svm import SVR\n",
    "from sklearn.metrics import mean_squared_error\n",
    "\n",
    "#########################\n",
    "## Validation Datasets ##\n",
    "#########################\n",
    "\n",
    "val_1 = pd.read_csv('Evan_results_validation.csv')\n",
    "val_1.columns = ['row_id', 'time', 'x', 'y', 'direction', 'congestion', 'congestion_pred_1']\n",
    "\n",
    "val_2 = pd.read_csv('Gabriel_Ferreira_results_validation.csv')\n",
    "val_2 = val_2[['row_id', 'congestion_pred']]\n",
    "val_2.columns = ['row_id', 'congestion_pred_2']\n",
    "\n",
    "val_3 = pd.read_csv('Gabriel_De_Medeiros_results_validation.csv')\n",
    "val_3.columns = ['row_id', 'congestion_pred_3']\n",
    "\n",
    "val_4 = pd.read_csv('Oscar_results_validation.csv')\n",
    "val_4 = val_4[['row_id', 'congestion_pred']]\n",
    "val_4.columns = ['row_id', 'congestion_pred_4']\n",
    "\n",
    "validation = pd.merge(val_1, val_2, on = ['row_id'], how = 'left')\n",
    "validation = pd.merge(validation, val_3, on = ['row_id'], how = 'left')\n",
    "validation = pd.merge(validation, val_4, on = ['row_id'], how = 'left')\n",
    "\n",
    "###################\n",
    "## Test Datasets ##\n",
    "###################\n",
    "\n",
    "test_1 = pd.read_csv('Evan_results_test.csv')\n",
    "test_1.columns = ['row_id', 'time', 'x', 'y', 'direction', 'congestion_pred_1']\n",
    "\n",
    "test_2 = pd.read_csv('Gabriel_Ferreira_results_test.csv')\n",
    "test_2 = test_2[['row_id', 'congestion_pred']]\n",
    "test_2.columns = ['row_id', 'congestion_pred_2']\n",
    "\n",
    "test_3 = pd.read_csv('Gabriel_De_Medeiros_results_test.csv')\n",
    "test_3.columns = ['row_id', 'congestion_pred_3']\n",
    "\n",
    "test_4 = pd.read_csv('Oscar_results_test.csv')\n",
    "test_4 = test_4[['row_id', 'congestion_pred']]\n",
    "test_4.columns = ['row_id', 'congestion_pred_4']\n",
    "\n",
    "test = pd.merge(test_1, test_2, on = ['row_id'], how = 'left')\n",
    "test = pd.merge(test, test_3, on = ['row_id'], how = 'left')\n",
    "test = pd.merge(test, test_4, on = ['row_id'], how = 'left')"
   ]
  }
 ],
 "metadata": {
  "kernelspec": {
   "display_name": "conda_python3",
   "language": "python",
   "name": "conda_python3"
  },
  "language_info": {
   "codemirror_mode": {
    "name": "ipython",
    "version": 3
   },
   "file_extension": ".py",
   "mimetype": "text/x-python",
   "name": "python",
   "nbconvert_exporter": "python",
   "pygments_lexer": "ipython3",
   "version": "3.6.13"
  }
 },
 "nbformat": 4,
 "nbformat_minor": 5
}
