{
 "cells": [
  {
   "cell_type": "code",
   "execution_count": 1,
   "id": "79c87af1",
   "metadata": {},
   "outputs": [
    {
     "name": "stdout",
     "output_type": "stream",
     "text": [
      "Looking in indexes: https://pypi.org/simple, https://pip.repos.neuron.amazonaws.com\n",
      "Requirement already satisfied: lightgbm in /home/ec2-user/anaconda3/envs/python3/lib/python3.10/site-packages (3.3.5)\n",
      "Requirement already satisfied: xgboost in /home/ec2-user/anaconda3/envs/python3/lib/python3.10/site-packages (1.7.4)\n",
      "Requirement already satisfied: catboost in /home/ec2-user/anaconda3/envs/python3/lib/python3.10/site-packages (1.1.1)\n",
      "Requirement already satisfied: optuna in /home/ec2-user/anaconda3/envs/python3/lib/python3.10/site-packages (3.1.0)\n",
      "Requirement already satisfied: scipy in /home/ec2-user/anaconda3/envs/python3/lib/python3.10/site-packages (from lightgbm) (1.9.3)\n",
      "Requirement already satisfied: numpy in /home/ec2-user/anaconda3/envs/python3/lib/python3.10/site-packages (from lightgbm) (1.22.4)\n",
      "Requirement already satisfied: scikit-learn!=0.22.0 in /home/ec2-user/anaconda3/envs/python3/lib/python3.10/site-packages (from lightgbm) (1.1.3)\n",
      "Requirement already satisfied: wheel in /home/ec2-user/anaconda3/envs/python3/lib/python3.10/site-packages (from lightgbm) (0.37.1)\n",
      "Requirement already satisfied: plotly in /home/ec2-user/anaconda3/envs/python3/lib/python3.10/site-packages (from catboost) (5.11.0)\n",
      "Requirement already satisfied: matplotlib in /home/ec2-user/anaconda3/envs/python3/lib/python3.10/site-packages (from catboost) (3.6.1)\n",
      "Requirement already satisfied: graphviz in /home/ec2-user/anaconda3/envs/python3/lib/python3.10/site-packages (from catboost) (0.20.1)\n",
      "Requirement already satisfied: pandas>=0.24.0 in /home/ec2-user/anaconda3/envs/python3/lib/python3.10/site-packages (from catboost) (1.5.1)\n",
      "Requirement already satisfied: six in /home/ec2-user/anaconda3/envs/python3/lib/python3.10/site-packages (from catboost) (1.16.0)\n",
      "Requirement already satisfied: tqdm in /home/ec2-user/anaconda3/envs/python3/lib/python3.10/site-packages (from optuna) (4.64.1)\n",
      "Requirement already satisfied: PyYAML in /home/ec2-user/anaconda3/envs/python3/lib/python3.10/site-packages (from optuna) (5.4.1)\n",
      "Requirement already satisfied: packaging>=20.0 in /home/ec2-user/anaconda3/envs/python3/lib/python3.10/site-packages (from optuna) (21.3)\n",
      "Requirement already satisfied: colorlog in /home/ec2-user/anaconda3/envs/python3/lib/python3.10/site-packages (from optuna) (6.7.0)\n",
      "Requirement already satisfied: alembic>=1.5.0 in /home/ec2-user/anaconda3/envs/python3/lib/python3.10/site-packages (from optuna) (1.9.4)\n",
      "Requirement already satisfied: sqlalchemy>=1.3.0 in /home/ec2-user/anaconda3/envs/python3/lib/python3.10/site-packages (from optuna) (1.4.42)\n",
      "Requirement already satisfied: cmaes>=0.9.1 in /home/ec2-user/anaconda3/envs/python3/lib/python3.10/site-packages (from optuna) (0.9.1)\n",
      "Requirement already satisfied: Mako in /home/ec2-user/anaconda3/envs/python3/lib/python3.10/site-packages (from alembic>=1.5.0->optuna) (1.2.4)\n",
      "Requirement already satisfied: pyparsing!=3.0.5,>=2.0.2 in /home/ec2-user/anaconda3/envs/python3/lib/python3.10/site-packages (from packaging>=20.0->optuna) (3.0.9)\n",
      "Requirement already satisfied: python-dateutil>=2.8.1 in /home/ec2-user/anaconda3/envs/python3/lib/python3.10/site-packages (from pandas>=0.24.0->catboost) (2.8.2)\n",
      "Requirement already satisfied: pytz>=2020.1 in /home/ec2-user/anaconda3/envs/python3/lib/python3.10/site-packages (from pandas>=0.24.0->catboost) (2022.5)\n",
      "Requirement already satisfied: joblib>=1.0.0 in /home/ec2-user/anaconda3/envs/python3/lib/python3.10/site-packages (from scikit-learn!=0.22.0->lightgbm) (1.2.0)\n",
      "Requirement already satisfied: threadpoolctl>=2.0.0 in /home/ec2-user/anaconda3/envs/python3/lib/python3.10/site-packages (from scikit-learn!=0.22.0->lightgbm) (3.1.0)\n",
      "Requirement already satisfied: greenlet!=0.4.17 in /home/ec2-user/anaconda3/envs/python3/lib/python3.10/site-packages (from sqlalchemy>=1.3.0->optuna) (1.1.3.post0)\n",
      "Requirement already satisfied: pillow>=6.2.0 in /home/ec2-user/anaconda3/envs/python3/lib/python3.10/site-packages (from matplotlib->catboost) (9.2.0)\n",
      "Requirement already satisfied: kiwisolver>=1.0.1 in /home/ec2-user/anaconda3/envs/python3/lib/python3.10/site-packages (from matplotlib->catboost) (1.4.4)\n",
      "Requirement already satisfied: fonttools>=4.22.0 in /home/ec2-user/anaconda3/envs/python3/lib/python3.10/site-packages (from matplotlib->catboost) (4.38.0)\n",
      "Requirement already satisfied: cycler>=0.10 in /home/ec2-user/anaconda3/envs/python3/lib/python3.10/site-packages (from matplotlib->catboost) (0.11.0)\n",
      "Requirement already satisfied: contourpy>=1.0.1 in /home/ec2-user/anaconda3/envs/python3/lib/python3.10/site-packages (from matplotlib->catboost) (1.0.6)\n",
      "Requirement already satisfied: tenacity>=6.2.0 in /home/ec2-user/anaconda3/envs/python3/lib/python3.10/site-packages (from plotly->catboost) (8.1.0)\n",
      "Requirement already satisfied: MarkupSafe>=0.9.2 in /home/ec2-user/anaconda3/envs/python3/lib/python3.10/site-packages (from Mako->alembic>=1.5.0->optuna) (2.1.1)\n",
      "Note: you may need to restart the kernel to use updated packages.\n"
     ]
    }
   ],
   "source": [
    "pip install lightgbm xgboost catboost optuna"
   ]
  },
  {
   "cell_type": "code",
   "execution_count": 3,
   "id": "548bd0de",
   "metadata": {},
   "outputs": [],
   "source": [
    "import boto3\n",
    "import pandas as pd; pd.set_option('display.max_columns', 100)\n",
    "import numpy as np\n",
    "\n",
    "import matplotlib.pyplot as plt; plt.style.use('ggplot')\n",
    "import seaborn as sns\n",
    "\n",
    "from scipy.stats import rankdata\n",
    "from sklearn.multiclass import OneVsRestClassifier\n",
    "from sklearn.tree import DecisionTreeRegressor, DecisionTreeClassifier, plot_tree\n",
    "from sklearn.preprocessing import MinMaxScaler\n",
    "from sklearn.model_selection import KFold, train_test_split, GridSearchCV, StratifiedKFold, TimeSeriesSplit\n",
    "from sklearn.metrics import mean_squared_error, roc_auc_score\n",
    "from sklearn.neighbors import KNeighborsClassifier\n",
    "from sklearn.ensemble import RandomForestClassifier, HistGradientBoostingClassifier\n",
    "from sklearn.linear_model import LogisticRegression\n",
    "from lightgbm import LGBMClassifier\n",
    "from xgboost import XGBClassifier\n",
    "from catboost import CatBoostClassifier\n",
    "\n",
    "import optuna \n",
    "\n",
    "s3 = boto3.resource('s3')\n",
    "bucket_name = 'analytics-data-science-competitions'\n",
    "bucket = s3.Bucket(bucket_name)\n",
    "\n",
    "file_key_1 = 'Tabular-Playground-Series/PS-S3/Ep7/train.csv'\n",
    "file_key_2 = 'Tabular-Playground-Series/PS-S3/Ep7/test.csv'\n",
    "file_key_3 = 'Tabular-Playground-Series/PS-S3/Ep7/sample_submission.csv'\n",
    "\n",
    "bucket_object_1 = bucket.Object(file_key_1)\n",
    "file_object_1 = bucket_object_1.get()\n",
    "file_content_stream_1 = file_object_1.get('Body')\n",
    "\n",
    "bucket_object_2 = bucket.Object(file_key_2)\n",
    "file_object_2 = bucket_object_2.get()\n",
    "file_content_stream_2 = file_object_2.get('Body')\n",
    "\n",
    "bucket_object_3 = bucket.Object(file_key_3)\n",
    "file_object_3 = bucket_object_3.get()\n",
    "file_content_stream_3 = file_object_3.get('Body')\n",
    "\n",
    "## Reading data files\n",
    "train = pd.read_csv(file_content_stream_1)\n",
    "test = pd.read_csv(file_content_stream_2)\n",
    "submission = pd.read_csv(file_content_stream_3)\n",
    "\n",
    "## Fixing dates (https://www.kaggle.com/competitions/playground-series-s3e7/discussion/386655)\n",
    "train['arrival_year_month'] = pd.to_datetime(train['arrival_year'].astype(str) + train['arrival_month'].astype(str), format = '%Y%m')\n",
    "test['arrival_year_month'] = pd.to_datetime(test['arrival_year'].astype(str) + test['arrival_month'].astype(str), format = '%Y%m')\n",
    "\n",
    "train.loc[train.arrival_date > train.arrival_year_month.dt.days_in_month, 'arrival_date'] = train.arrival_year_month.dt.days_in_month\n",
    "test.loc[test.arrival_date > test.arrival_year_month.dt.days_in_month, 'arrival_date'] = test.arrival_year_month.dt.days_in_month\n",
    "\n",
    "train.drop(columns = 'arrival_year_month', inplace = True)\n",
    "test.drop(columns = 'arrival_year_month', inplace = True)\n",
    "\n",
    "train['low_price_flag'] = np.where(train['avg_price_per_room'] < 30, 1, 0)\n",
    "train['segment_0'] = np.where(train['market_segment_type'] == 0, 1, 0)\n",
    "train['segment_1'] = np.where(train['market_segment_type'] == 1, 1, 0)\n",
    "train['total_guests'] = train['no_of_adults'] + train['no_of_children']\n",
    "train['stay_length'] = train['no_of_weekend_nights'] + train['no_of_week_nights']\n",
    "train['stay_during_weekend'] = np.where(train['no_of_weekend_nights'] > 0, 1, 0)\n",
    "train['quarter_1'] = np.where(train['arrival_month'] <= 3, 1, 0)\n",
    "train['quarter_2'] = np.where(((train['arrival_month'] >= 4) & (train['arrival_month'] <= 6)), 1, 0)\n",
    "train['quarter_3'] = np.where(((train['arrival_month'] >= 7) & (train['arrival_month'] <= 9)), 1, 0)\n",
    "train['quarter_4'] = np.where(train['arrival_month'] >= 10, 1, 0)\n",
    "train['segment_0_feature_1'] = np.where(((train['market_segment_type'] == 0) & (train['lead_time'] <= 90)), 1, 0)\n",
    "train['segment_0_feature_2'] = np.where(((train['market_segment_type'] == 0) & (train['avg_price_per_room'] > 98)), 1, 0)\n",
    "train['segment_1_feature_1'] = np.where(((train['market_segment_type'] == 1) & (train['no_of_special_requests'] == 0)), 1, 0)\n",
    "train['segment_1_feature_2'] = np.where(((train['market_segment_type'] == 1) & (train['no_of_special_requests'] > 0) & (train['lead_time'] <= 150)), 1, 0)\n",
    "train['segment_0_year_flag'] = np.where(((train['market_segment_type'] == 0) & (train['arrival_year'] == 2018)), 1, 0)\n",
    "train['segment_1_year_flag'] = np.where(((train['market_segment_type'] == 1) & (train['arrival_year'] == 2018)), 1, 0)\n",
    "train['price_lead_time_flag'] = np.where(((train['avg_price_per_room'] > 100) & (train['lead_time'] > 150)), 1, 0)\n",
    "\n",
    "test['low_price_flag'] = np.where(test['avg_price_per_room'] < 30, 1, 0)\n",
    "test['segment_0'] = np.where(test['market_segment_type'] == 0, 1, 0)\n",
    "test['segment_1'] = np.where(test['market_segment_type'] == 1, 1, 0)\n",
    "test['total_guests'] = test['no_of_adults'] + test['no_of_children']\n",
    "test['stay_length'] = test['no_of_weekend_nights'] + test['no_of_week_nights']\n",
    "test['stay_during_weekend'] = np.where(test['no_of_weekend_nights'] > 0, 1, 0)\n",
    "test['quarter_1'] = np.where(test['arrival_month'] <= 3, 1, 0)\n",
    "test['quarter_2'] = np.where(((test['arrival_month'] >= 4) & (test['arrival_month'] <= 6)), 1, 0)\n",
    "test['quarter_3'] = np.where(((test['arrival_month'] >= 7) & (test['arrival_month'] <= 9)), 1, 0)\n",
    "test['quarter_4'] = np.where(test['arrival_month'] >= 10, 1, 0)\n",
    "test['segment_0_feature_1'] = np.where(((test['market_segment_type'] == 0) & (test['lead_time'] <= 90)), 1, 0)\n",
    "test['segment_0_feature_2'] = np.where(((test['market_segment_type'] == 0) & (test['avg_price_per_room'] > 98)), 1, 0)\n",
    "test['segment_1_feature_1'] = np.where(((test['market_segment_type'] == 1) & (test['no_of_special_requests'] == 0)), 1, 0)\n",
    "test['segment_1_feature_2'] = np.where(((test['market_segment_type'] == 1) & (test['no_of_special_requests'] > 0) & (test['lead_time'] <= 150)), 1, 0)\n",
    "test['segment_0_year_flag'] = np.where(((test['market_segment_type'] == 0) & (test['arrival_year'] == 2018)), 1, 0)\n",
    "test['segment_1_year_flag'] = np.where(((test['market_segment_type'] == 1) & (test['arrival_year'] == 2018)), 1, 0)\n",
    "test['price_lead_time_flag'] = np.where(((test['avg_price_per_room'] > 100) & (test['lead_time'] > 150)), 1, 0)"
   ]
  },
  {
   "cell_type": "code",
   "execution_count": 4,
   "id": "8eed63bc",
   "metadata": {},
   "outputs": [],
   "source": [
    "train_lgb = train.copy()\n",
    "test_lgb = test.copy()\n",
    "\n",
    "# X = train_lgb[['avg_price_per_room', 'lead_time', 'segment_0', 'segment_1', 'total_guests', 'stay_length', 'stay_during_weekend', 'quarter_1', 'quarter_2', 'quarter_3', 'quarter_4', 'segment_0_feature_1', 'segment_0_feature_2', 'segment_1_feature_1', 'segment_1_feature_2', 'segment_0_year_flag', 'segment_1_year_flag']]\n",
    "# Y = train_lgb['booking_status']\n",
    "\n",
    "# test_lgb = test_lgb[['avg_price_per_room', 'lead_time', 'segment_0', 'segment_1', 'total_guests', 'stay_length', 'stay_during_weekend', 'quarter_1', 'quarter_2', 'quarter_3', 'quarter_4', 'segment_0_feature_1', 'segment_0_feature_2', 'segment_1_feature_1', 'segment_1_feature_2', 'segment_0_year_flag', 'segment_1_year_flag']]\n",
    "\n",
    "X = train_lgb[['avg_price_per_room', 'lead_time', 'total_guests', 'stay_length', 'segment_0_feature_1', 'segment_1_feature_1']]\n",
    "Y = train_lgb['booking_status']\n",
    "\n",
    "test_lgb = test_lgb[['avg_price_per_room', 'lead_time', 'total_guests', 'stay_length', 'segment_0_feature_1', 'segment_1_feature_1']]"
   ]
  },
  {
   "cell_type": "markdown",
   "id": "be281061",
   "metadata": {},
   "source": [
    "# Optuna Optimization"
   ]
  },
  {
   "cell_type": "code",
   "execution_count": 7,
   "id": "6d59cdcd",
   "metadata": {},
   "outputs": [
    {
     "name": "stderr",
     "output_type": "stream",
     "text": [
      "\u001b[32m[I 2023-02-18 16:06:07,113]\u001b[0m A new study created in memory with name: no-name-9f31cba0-3df4-40f8-b2d8-5887b22b092d\u001b[0m\n",
      "\u001b[32m[I 2023-02-18 16:06:40,454]\u001b[0m Trial 0 finished with value: 0.8526835455725263 and parameters: {'iterations': 765, 'learning_rate': 0.004426316263660051, 'depth': 9, 'random_strength': 6.316223799456743, 'bagging_temperature': 0.9649032143092443, 'border_count': 222, 'l2_leaf_reg': 10}. Best is trial 0 with value: 0.8526835455725263.\u001b[0m\n",
      "\u001b[32m[I 2023-02-18 16:07:05,741]\u001b[0m Trial 1 finished with value: 0.8692919896644653 and parameters: {'iterations': 1523, 'learning_rate': 0.17720676103585087, 'depth': 3, 'random_strength': 2.1213639089084264, 'bagging_temperature': 0.3829143209392964, 'border_count': 53, 'l2_leaf_reg': 7}. Best is trial 1 with value: 0.8692919896644653.\u001b[0m\n",
      "\u001b[32m[I 2023-02-18 16:08:34,929]\u001b[0m Trial 2 finished with value: 0.8759483572098304 and parameters: {'iterations': 2709, 'learning_rate': 0.047528452250513435, 'depth': 7, 'random_strength': 0.2145744163579608, 'bagging_temperature': 0.5190299334009163, 'border_count': 202, 'l2_leaf_reg': 7}. Best is trial 2 with value: 0.8759483572098304.\u001b[0m\n",
      "\u001b[32m[I 2023-02-18 16:10:07,576]\u001b[0m Trial 3 finished with value: 0.8727798164276777 and parameters: {'iterations': 5587, 'learning_rate': 0.022606735289380866, 'depth': 3, 'random_strength': 1.758079722427004, 'bagging_temperature': 0.33740458384874117, 'border_count': 111, 'l2_leaf_reg': 9}. Best is trial 2 with value: 0.8759483572098304.\u001b[0m\n",
      "\u001b[32m[I 2023-02-18 16:17:00,775]\u001b[0m Trial 4 finished with value: 0.856340436837087 and parameters: {'iterations': 9741, 'learning_rate': 0.12871370103951751, 'depth': 8, 'random_strength': 9.148542381087804, 'bagging_temperature': 0.17588400498812348, 'border_count': 222, 'l2_leaf_reg': 22}. Best is trial 2 with value: 0.8759483572098304.\u001b[0m\n",
      "\u001b[32m[I 2023-02-18 16:17:53,228]\u001b[0m Trial 5 finished with value: 0.8769816962482408 and parameters: {'iterations': 2897, 'learning_rate': 0.14277960395205264, 'depth': 3, 'random_strength': 0.03484651605365746, 'bagging_temperature': 0.8501156043022784, 'border_count': 234, 'l2_leaf_reg': 10}. Best is trial 5 with value: 0.8769816962482408.\u001b[0m\n",
      "\u001b[32m[I 2023-02-18 16:18:57,554]\u001b[0m Trial 6 finished with value: 0.8669902900559009 and parameters: {'iterations': 2661, 'learning_rate': 0.049309143888794316, 'depth': 6, 'random_strength': 2.7425869012221, 'bagging_temperature': 0.4381811497926462, 'border_count': 44, 'l2_leaf_reg': 15}. Best is trial 5 with value: 0.8769816962482408.\u001b[0m\n",
      "\u001b[32m[I 2023-02-18 16:32:40,486]\u001b[0m Trial 7 finished with value: 0.859759852652739 and parameters: {'iterations': 5180, 'learning_rate': 0.10438755939389834, 'depth': 11, 'random_strength': 0.40920899504823627, 'bagging_temperature': 0.132482737995354, 'border_count': 228, 'l2_leaf_reg': 29}. Best is trial 5 with value: 0.8769816962482408.\u001b[0m\n",
      "\u001b[32m[I 2023-02-18 16:34:23,669]\u001b[0m Trial 8 finished with value: 0.8572916468184613 and parameters: {'iterations': 4025, 'learning_rate': 0.0016125508886550503, 'depth': 6, 'random_strength': 2.2127458566487164, 'bagging_temperature': 0.912760228321029, 'border_count': 163, 'l2_leaf_reg': 24}. Best is trial 5 with value: 0.8769816962482408.\u001b[0m\n",
      "\u001b[32m[I 2023-02-18 16:35:10,075]\u001b[0m Trial 9 finished with value: 0.8550423211599989 and parameters: {'iterations': 2507, 'learning_rate': 0.007404641780708932, 'depth': 4, 'random_strength': 2.4535034258205375, 'bagging_temperature': 0.5068707713101887, 'border_count': 15, 'l2_leaf_reg': 11}. Best is trial 5 with value: 0.8769816962482408.\u001b[0m\n",
      "\u001b[32m[I 2023-02-18 16:48:30,361]\u001b[0m Trial 10 finished with value: 0.8285907016689581 and parameters: {'iterations': 7856, 'learning_rate': 0.7046363027716754, 'depth': 11, 'random_strength': 0.032449927370692855, 'bagging_temperature': 0.755061646750028, 'border_count': 129, 'l2_leaf_reg': 3}. Best is trial 5 with value: 0.8769816962482408.\u001b[0m\n",
      "\u001b[32m[I 2023-02-18 16:50:01,779]\u001b[0m Trial 11 finished with value: 0.8765481295410907 and parameters: {'iterations': 3518, 'learning_rate': 0.030125655048161934, 'depth': 6, 'random_strength': 0.03528958156541158, 'bagging_temperature': 0.6669119584604667, 'border_count': 181, 'l2_leaf_reg': 2}. Best is trial 5 with value: 0.8769816962482408.\u001b[0m\n",
      "\u001b[32m[I 2023-02-18 16:51:31,858]\u001b[0m Trial 12 finished with value: 0.876112361608901 and parameters: {'iterations': 4234, 'learning_rate': 0.018043096991707586, 'depth': 5, 'random_strength': 0.010504671802596245, 'bagging_temperature': 0.7258844378354925, 'border_count': 176, 'l2_leaf_reg': 4}. Best is trial 5 with value: 0.8769816962482408.\u001b[0m\n",
      "\u001b[32m[I 2023-02-18 16:52:57,090]\u001b[0m Trial 13 finished with value: 0.8635078536573412 and parameters: {'iterations': 3863, 'learning_rate': 0.35906965629234466, 'depth': 5, 'random_strength': 0.05051729401209798, 'bagging_temperature': 0.6950678444748327, 'border_count': 254, 'l2_leaf_reg': 15}. Best is trial 5 with value: 0.8769816962482408.\u001b[0m\n",
      "\u001b[32m[I 2023-02-18 16:57:44,013]\u001b[0m Trial 14 finished with value: 0.8272540783288846 and parameters: {'iterations': 6418, 'learning_rate': 0.9120372525878571, 'depth': 9, 'random_strength': 0.053408530601611354, 'bagging_temperature': 0.8111642134890094, 'border_count': 159, 'l2_leaf_reg': 2}. Best is trial 5 with value: 0.8769816962482408.\u001b[0m\n",
      "\u001b[32m[I 2023-02-18 16:57:53,476]\u001b[0m Trial 15 finished with value: 0.8706090491799212 and parameters: {'iterations': 476, 'learning_rate': 0.06363152712948379, 'depth': 4, 'random_strength': 0.01114533927083276, 'bagging_temperature': 0.6206941752598558, 'border_count': 255, 'l2_leaf_reg': 18}. Best is trial 5 with value: 0.8769816962482408.\u001b[0m\n",
      "\u001b[32m[I 2023-02-18 17:01:11,938]\u001b[0m Trial 16 finished with value: 0.8482092625163803 and parameters: {'iterations': 6506, 'learning_rate': 0.2177530194287599, 'depth': 7, 'random_strength': 0.12651051541458144, 'bagging_temperature': 0.820518503674644, 'border_count': 104, 'l2_leaf_reg': 13}. Best is trial 5 with value: 0.8769816962482408.\u001b[0m\n",
      "\u001b[32m[I 2023-02-18 17:01:51,170]\u001b[0m Trial 17 finished with value: 0.8743551960349653 and parameters: {'iterations': 1796, 'learning_rate': 0.023563475472677703, 'depth': 5, 'random_strength': 0.025628901365868595, 'bagging_temperature': 0.8849729251118145, 'border_count': 182, 'l2_leaf_reg': 5}. Best is trial 5 with value: 0.8769816962482408.\u001b[0m\n",
      "\u001b[32m[I 2023-02-18 17:02:53,779]\u001b[0m Trial 18 finished with value: 0.8768181914272356 and parameters: {'iterations': 3494, 'learning_rate': 0.08812183004050309, 'depth': 3, 'random_strength': 0.0933416659974621, 'bagging_temperature': 0.6240298439255847, 'border_count': 199, 'l2_leaf_reg': 18}. Best is trial 5 with value: 0.8769816962482408.\u001b[0m\n",
      "\u001b[32m[I 2023-02-18 17:05:03,092]\u001b[0m Trial 19 finished with value: 0.8677554857051509 and parameters: {'iterations': 7760, 'learning_rate': 0.4103719589985224, 'depth': 3, 'random_strength': 0.1018168881422316, 'bagging_temperature': 0.9666104044988295, 'border_count': 139, 'l2_leaf_reg': 19}. Best is trial 5 with value: 0.8769816962482408.\u001b[0m\n",
      "\u001b[32m[I 2023-02-18 17:28:38,500]\u001b[0m Trial 20 finished with value: 0.8554060178880581 and parameters: {'iterations': 4522, 'learning_rate': 0.11736373350183663, 'depth': 12, 'random_strength': 0.3034452314812367, 'bagging_temperature': 0.6016854018487164, 'border_count': 206, 'l2_leaf_reg': 25}. Best is trial 5 with value: 0.8769816962482408.\u001b[0m\n",
      "\u001b[32m[I 2023-02-18 17:29:44,012]\u001b[0m Trial 21 finished with value: 0.877359556365701 and parameters: {'iterations': 3363, 'learning_rate': 0.06335468477265149, 'depth': 4, 'random_strength': 0.023788941730478286, 'bagging_temperature': 0.6474265657327436, 'border_count': 187, 'l2_leaf_reg': 18}. Best is trial 21 with value: 0.877359556365701.\u001b[0m\n",
      "\u001b[32m[I 2023-02-18 17:30:49,543]\u001b[0m Trial 22 finished with value: 0.8773721072778148 and parameters: {'iterations': 3376, 'learning_rate': 0.07467022327757494, 'depth': 4, 'random_strength': 0.07930100794795736, 'bagging_temperature': 0.5835144813414413, 'border_count': 202, 'l2_leaf_reg': 19}. Best is trial 22 with value: 0.8773721072778148.\u001b[0m\n",
      "\u001b[32m[I 2023-02-18 17:31:24,863]\u001b[0m Trial 23 finished with value: 0.8771912878209529 and parameters: {'iterations': 1767, 'learning_rate': 0.2060726212740672, 'depth': 4, 'random_strength': 0.018402561133201933, 'bagging_temperature': 0.7757907923754152, 'border_count': 236, 'l2_leaf_reg': 21}. Best is trial 22 with value: 0.8773721072778148.\u001b[0m\n",
      "\u001b[32m[I 2023-02-18 17:31:56,050]\u001b[0m Trial 24 finished with value: 0.8745112781728022 and parameters: {'iterations': 1656, 'learning_rate': 0.2519454564663156, 'depth': 4, 'random_strength': 0.01780770578558123, 'bagging_temperature': 0.7744294058784654, 'border_count': 152, 'l2_leaf_reg': 24}. Best is trial 22 with value: 0.8773721072778148.\u001b[0m\n",
      "\u001b[32m[I 2023-02-18 17:32:32,789]\u001b[0m Trial 25 finished with value: 0.8755602599625236 and parameters: {'iterations': 1892, 'learning_rate': 0.04363955522563435, 'depth': 4, 'random_strength': 0.017569524879490636, 'bagging_temperature': 0.5599509817926266, 'border_count': 196, 'l2_leaf_reg': 21}. Best is trial 22 with value: 0.8773721072778148.\u001b[0m\n",
      "\u001b[32m[I 2023-02-18 17:32:58,446]\u001b[0m Trial 26 finished with value: 0.8774041215888259 and parameters: {'iterations': 1098, 'learning_rate': 0.07625930144422058, 'depth': 5, 'random_strength': 0.05987527014268125, 'bagging_temperature': 0.7373419007614965, 'border_count': 242, 'l2_leaf_reg': 27}. Best is trial 26 with value: 0.8774041215888259.\u001b[0m\n",
      "\u001b[32m[I 2023-02-18 17:33:13,874]\u001b[0m Trial 27 finished with value: 0.8756780443960637 and parameters: {'iterations': 694, 'learning_rate': 0.08209703562478149, 'depth': 5, 'random_strength': 0.06054235967752748, 'bagging_temperature': 0.69400146943067, 'border_count': 208, 'l2_leaf_reg': 30}. Best is trial 26 with value: 0.8774041215888259.\u001b[0m\n",
      "\u001b[32m[I 2023-02-18 17:35:54,803]\u001b[0m Trial 28 finished with value: 0.8751303445122927 and parameters: {'iterations': 5872, 'learning_rate': 0.06871535909253018, 'depth': 6, 'random_strength': 0.07306781008099907, 'bagging_temperature': 0.5838010326986243, 'border_count': 242, 'l2_leaf_reg': 27}. Best is trial 26 with value: 0.8774041215888259.\u001b[0m\n",
      "\u001b[32m[I 2023-02-18 17:36:32,800]\u001b[0m Trial 29 finished with value: 0.8759901026139666 and parameters: {'iterations': 874, 'learning_rate': 0.037772204226802754, 'depth': 8, 'random_strength': 0.1228279619978402, 'bagging_temperature': 0.6514324076305622, 'border_count': 217, 'l2_leaf_reg': 27}. Best is trial 26 with value: 0.8774041215888259.\u001b[0m\n",
      "\u001b[32m[I 2023-02-18 17:38:07,258]\u001b[0m Trial 30 finished with value: 0.872687445392652 and parameters: {'iterations': 4568, 'learning_rate': 0.014571044146320617, 'depth': 5, 'random_strength': 0.04397379809564522, 'bagging_temperature': 0.7140887431713566, 'border_count': 73, 'l2_leaf_reg': 13}. Best is trial 26 with value: 0.8774041215888259.\u001b[0m\n",
      "\u001b[32m[I 2023-02-18 17:38:30,246]\u001b[0m Trial 31 finished with value: 0.8760483972346732 and parameters: {'iterations': 1177, 'learning_rate': 0.07084570990897564, 'depth': 4, 'random_strength': 0.02429851995077952, 'bagging_temperature': 0.7790490887459125, 'border_count': 241, 'l2_leaf_reg': 20}. Best is trial 26 with value: 0.8774041215888259.\u001b[0m\n",
      "\u001b[32m[I 2023-02-18 17:39:14,598]\u001b[0m Trial 32 finished with value: 0.8771767087001381 and parameters: {'iterations': 2288, 'learning_rate': 0.17922042002875607, 'depth': 4, 'random_strength': 0.018822670525432506, 'bagging_temperature': 0.8889829036762097, 'border_count': 229, 'l2_leaf_reg': 22}. Best is trial 26 with value: 0.8774041215888259.\u001b[0m\n",
      "\u001b[32m[I 2023-02-18 17:40:07,833]\u001b[0m Trial 33 finished with value: 0.8763139535579582 and parameters: {'iterations': 3095, 'learning_rate': 0.15124247964443802, 'depth': 3, 'random_strength': 0.01420657109406353, 'bagging_temperature': 0.5508778498585842, 'border_count': 191, 'l2_leaf_reg': 17}. Best is trial 26 with value: 0.8774041215888259.\u001b[0m\n",
      "\u001b[32m[I 2023-02-18 17:40:51,550]\u001b[0m Trial 34 finished with value: 0.8771073300087879 and parameters: {'iterations': 1373, 'learning_rate': 0.045608310186173624, 'depth': 7, 'random_strength': 0.025240880953852116, 'bagging_temperature': 0.7618847739595549, 'border_count': 214, 'l2_leaf_reg': 26}. Best is trial 26 with value: 0.8774041215888259.\u001b[0m\n",
      "\u001b[32m[I 2023-02-18 17:42:05,103]\u001b[0m Trial 35 finished with value: 0.8704054903501465 and parameters: {'iterations': 3332, 'learning_rate': 0.2641596275983047, 'depth': 5, 'random_strength': 0.041310677685513726, 'bagging_temperature': 0.46006843109829826, 'border_count': 240, 'l2_leaf_reg': 23}. Best is trial 26 with value: 0.8774041215888259.\u001b[0m\n",
      "\u001b[32m[I 2023-02-18 17:42:42,894]\u001b[0m Trial 36 finished with value: 0.8756610183819753 and parameters: {'iterations': 2195, 'learning_rate': 0.10300020952272312, 'depth': 3, 'random_strength': 0.18175778178466392, 'bagging_temperature': 0.6480492717697435, 'border_count': 170, 'l2_leaf_reg': 16}. Best is trial 26 with value: 0.8774041215888259.\u001b[0m\n",
      "\u001b[32m[I 2023-02-18 17:42:48,789]\u001b[0m Trial 37 finished with value: 0.8713113946927059 and parameters: {'iterations': 301, 'learning_rate': 0.14574198482162767, 'depth': 4, 'random_strength': 0.07591608893905605, 'bagging_temperature': 0.5222347504396107, 'border_count': 107, 'l2_leaf_reg': 21}. Best is trial 26 with value: 0.8774041215888259.\u001b[0m\n",
      "\u001b[32m[I 2023-02-18 17:43:17,397]\u001b[0m Trial 38 finished with value: 0.8768474625158665 and parameters: {'iterations': 1075, 'learning_rate': 0.055473252338710484, 'depth': 6, 'random_strength': 0.03163423872102295, 'bagging_temperature': 0.846208091565186, 'border_count': 220, 'l2_leaf_reg': 20}. Best is trial 26 with value: 0.8774041215888259.\u001b[0m\n",
      "\u001b[32m[I 2023-02-18 17:44:10,694]\u001b[0m Trial 39 finished with value: 0.8745234085311109 and parameters: {'iterations': 3059, 'learning_rate': 0.031174715279113432, 'depth': 3, 'random_strength': 0.0612916589557992, 'bagging_temperature': 0.4106051476223191, 'border_count': 248, 'l2_leaf_reg': 13}. Best is trial 26 with value: 0.8774041215888259.\u001b[0m\n",
      "\u001b[32m[I 2023-02-18 17:45:09,082]\u001b[0m Trial 40 finished with value: 0.8777455354258141 and parameters: {'iterations': 2647, 'learning_rate': 0.10197259173271898, 'depth': 5, 'random_strength': 0.021339898901428064, 'bagging_temperature': 0.36779529377576803, 'border_count': 227, 'l2_leaf_reg': 29}. Best is trial 40 with value: 0.8777455354258141.\u001b[0m\n",
      "\u001b[32m[I 2023-02-18 17:46:06,003]\u001b[0m Trial 41 finished with value: 0.877616732201399 and parameters: {'iterations': 2603, 'learning_rate': 0.10902447106313656, 'depth': 5, 'random_strength': 0.013686346661346707, 'bagging_temperature': 0.28993607559423973, 'border_count': 230, 'l2_leaf_reg': 28}. Best is trial 40 with value: 0.8777455354258141.\u001b[0m\n",
      "\u001b[32m[I 2023-02-18 17:47:13,120]\u001b[0m Trial 42 finished with value: 0.8775173709317776 and parameters: {'iterations': 2541, 'learning_rate': 0.081753153553999, 'depth': 6, 'random_strength': 0.01241552765514024, 'bagging_temperature': 0.22426661580665036, 'border_count': 226, 'l2_leaf_reg': 29}. Best is trial 40 with value: 0.8777455354258141.\u001b[0m\n",
      "\u001b[32m[I 2023-02-18 17:48:40,308]\u001b[0m Trial 43 finished with value: 0.8750922799641861 and parameters: {'iterations': 2728, 'learning_rate': 0.09479164050744794, 'depth': 7, 'random_strength': 0.012677625133264295, 'bagging_temperature': 0.3302945115205125, 'border_count': 224, 'l2_leaf_reg': 29}. Best is trial 40 with value: 0.8777455354258141.\u001b[0m\n",
      "\u001b[32m[I 2023-02-18 17:49:44,595]\u001b[0m Trial 44 finished with value: 0.8761857665664066 and parameters: {'iterations': 2429, 'learning_rate': 0.12440010527073737, 'depth': 6, 'random_strength': 0.0138610768360667, 'bagging_temperature': 0.26256732609155675, 'border_count': 229, 'l2_leaf_reg': 28}. Best is trial 40 with value: 0.8777455354258141.\u001b[0m\n",
      "\u001b[32m[I 2023-02-18 17:51:24,929]\u001b[0m Trial 45 finished with value: 0.8751709348406473 and parameters: {'iterations': 3801, 'learning_rate': 0.08216106083389914, 'depth': 6, 'random_strength': 0.03860935609979184, 'bagging_temperature': 0.18887707186156494, 'border_count': 208, 'l2_leaf_reg': 29}. Best is trial 40 with value: 0.8777455354258141.\u001b[0m\n",
      "\u001b[32m[I 2023-02-18 17:53:11,203]\u001b[0m Trial 46 finished with value: 0.8780045789398218 and parameters: {'iterations': 4868, 'learning_rate': 0.05460324133219719, 'depth': 5, 'random_strength': 0.011296276693328888, 'bagging_temperature': 0.359017032835801, 'border_count': 232, 'l2_leaf_reg': 30}. Best is trial 46 with value: 0.8780045789398218.\u001b[0m\n",
      "\u001b[32m[I 2023-02-18 17:56:00,913]\u001b[0m Trial 47 finished with value: 0.8777364561107082 and parameters: {'iterations': 7664, 'learning_rate': 0.049705884894170306, 'depth': 5, 'random_strength': 0.011590929501465015, 'bagging_temperature': 0.3591891089314912, 'border_count': 255, 'l2_leaf_reg': 30}. Best is trial 46 with value: 0.8780045789398218.\u001b[0m\n",
      "\u001b[32m[I 2023-02-18 17:59:33,583]\u001b[0m Trial 48 finished with value: 0.875428053802436 and parameters: {'iterations': 7915, 'learning_rate': 0.04868903986963232, 'depth': 6, 'random_strength': 0.010525845282912944, 'bagging_temperature': 0.34871969271078757, 'border_count': 231, 'l2_leaf_reg': 30}. Best is trial 46 with value: 0.8780045789398218.\u001b[0m\n",
      "\u001b[32m[I 2023-02-18 18:05:59,295]\u001b[0m Trial 49 finished with value: 0.8618019056434708 and parameters: {'iterations': 8804, 'learning_rate': 0.11371543108368662, 'depth': 8, 'random_strength': 0.010113919750999168, 'bagging_temperature': 0.2910042357383894, 'border_count': 254, 'l2_leaf_reg': 28}. Best is trial 46 with value: 0.8780045789398218.\u001b[0m\n"
     ]
    }
   ],
   "source": [
    "class Objective:\n",
    "\n",
    "    def __init__(self, seed):\n",
    "        # Hold this implementation specific arguments as the fields of the class.\n",
    "        self.seed = seed\n",
    "\n",
    "    def __call__(self, trial):\n",
    "        ## Parameters to be evaluated\n",
    "        param = dict(loss_function = 'Logloss',\n",
    "                     eval_metric = 'AUC',\n",
    "                     iterations = trial.suggest_int('iterations', 300, 10000),\n",
    "                     learning_rate = trial.suggest_float('learning_rate', 0.001, 1, log = True),\n",
    "                     depth = trial.suggest_int('depth', 3, 12),\n",
    "                     random_strength = trial.suggest_float('random_strength', 0.01, 10.0, log = True),\n",
    "                     bagging_temperature = trial.suggest_float('bagging_temperature', 0.01,  0.99),\n",
    "                     border_count = trial.suggest_int('border_count', 1, 255),\n",
    "                     l2_leaf_reg = trial.suggest_int('l2_leaf_reg', 2, 30),\n",
    "                     verbose = False\n",
    "                    )\n",
    "\n",
    "        scores = []\n",
    "        \n",
    "        skf = StratifiedKFold(n_splits = 5, shuffle = True, random_state = self.seed)\n",
    "#         skf = KFold(n_splits = 5, shuffle = True, random_state = self.seed)\n",
    "\n",
    "        for train_idx, valid_idx in skf.split(X, Y):\n",
    "\n",
    "            X_train, X_valid = X.iloc[train_idx], X.iloc[valid_idx]\n",
    "            Y_train , Y_valid = Y.iloc[train_idx] , Y.iloc[valid_idx]\n",
    "\n",
    "            model = CatBoostClassifier(**param).fit(X_train, Y_train)\n",
    "\n",
    "            preds_valid = model.predict_proba(X_valid)[:, 1]\n",
    "\n",
    "            score = roc_auc_score(Y_valid, preds_valid)\n",
    "            scores.append(score)\n",
    "\n",
    "        return np.mean(scores)\n",
    "    \n",
    "## Defining number of runs and seed\n",
    "RUNS = 2\n",
    "SEED = 42\n",
    "N_TRIALS = 50\n",
    "\n",
    "# Execute an optimization\n",
    "study = optuna.create_study(direction = 'maximize')\n",
    "study.optimize(Objective(SEED), n_trials = N_TRIALS)"
   ]
  },
  {
   "cell_type": "code",
   "execution_count": 8,
   "id": "6f271aed",
   "metadata": {},
   "outputs": [
    {
     "data": {
      "text/plain": [
       "[0.8780045789398218]"
      ]
     },
     "execution_count": 8,
     "metadata": {},
     "output_type": "execute_result"
    }
   ],
   "source": [
    "study.best_trial.values"
   ]
  },
  {
   "cell_type": "code",
   "execution_count": 9,
   "id": "10ef3f88",
   "metadata": {},
   "outputs": [
    {
     "data": {
      "text/plain": [
       "{'iterations': 4868,\n",
       " 'learning_rate': 0.05460324133219719,\n",
       " 'depth': 5,\n",
       " 'random_strength': 0.011296276693328888,\n",
       " 'bagging_temperature': 0.359017032835801,\n",
       " 'border_count': 232,\n",
       " 'l2_leaf_reg': 30}"
      ]
     },
     "execution_count": 9,
     "metadata": {},
     "output_type": "execute_result"
    }
   ],
   "source": [
    "study.best_trial.params"
   ]
  },
  {
   "cell_type": "markdown",
   "id": "dc119bb3",
   "metadata": {},
   "source": [
    "# Cross Validation"
   ]
  },
  {
   "cell_type": "code",
   "execution_count": 11,
   "id": "1f3c1ef4",
   "metadata": {},
   "outputs": [
    {
     "ename": "NameError",
     "evalue": "name 'cat_cv_score' is not defined",
     "output_type": "error",
     "traceback": [
      "\u001b[0;31m---------------------------------------------------------------------------\u001b[0m",
      "\u001b[0;31mNameError\u001b[0m                                 Traceback (most recent call last)",
      "\u001b[0;32m/tmp/ipykernel_4833/1006311559.py\u001b[0m in \u001b[0;36m<cell line: 37>\u001b[0;34m()\u001b[0m\n\u001b[1;32m     35\u001b[0m \u001b[0;34m\u001b[0m\u001b[0m\n\u001b[1;32m     36\u001b[0m \u001b[0mlgb_cv_score\u001b[0m \u001b[0;34m=\u001b[0m \u001b[0mnp\u001b[0m\u001b[0;34m.\u001b[0m\u001b[0mmean\u001b[0m\u001b[0;34m(\u001b[0m\u001b[0mcv_scores\u001b[0m\u001b[0;34m)\u001b[0m\u001b[0;34m\u001b[0m\u001b[0;34m\u001b[0m\u001b[0m\n\u001b[0;32m---> 37\u001b[0;31m \u001b[0mprint\u001b[0m\u001b[0;34m(\u001b[0m\u001b[0;34m'The roc-auc score over 5-folds (run 5 times) is:'\u001b[0m\u001b[0;34m,\u001b[0m \u001b[0mcat_cv_score\u001b[0m\u001b[0;34m)\u001b[0m\u001b[0;34m\u001b[0m\u001b[0;34m\u001b[0m\u001b[0m\n\u001b[0m\u001b[1;32m     38\u001b[0m \u001b[0;34m\u001b[0m\u001b[0m\n\u001b[1;32m     39\u001b[0m \u001b[0;31m# 0.8794706067469678\u001b[0m\u001b[0;34m\u001b[0m\u001b[0;34m\u001b[0m\u001b[0m\n",
      "\u001b[0;31mNameError\u001b[0m: name 'cat_cv_score' is not defined"
     ]
    }
   ],
   "source": [
    "cv_scores, roc_auc_scores = list(), list()\n",
    "cat_imp, preds = list(), list()\n",
    "\n",
    "## Running 5 times CV\n",
    "for i in range(5):\n",
    "    \n",
    "    skf = StratifiedKFold(n_splits = 5, random_state = 42, shuffle = True)\n",
    "    \n",
    "    for train_ix, test_ix in skf.split(X, Y):\n",
    "        \n",
    "        ## Splitting the data \n",
    "        X_train, X_test = X.iloc[train_ix], X.iloc[test_ix]\n",
    "        Y_train, Y_test = Y.iloc[train_ix], Y.iloc[test_ix]\n",
    "    \n",
    "        ## Building RF model\n",
    "        lgb_md = CatBoostClassifier(iterations = 4868,\n",
    "                                    learning_rate = 0.05460324133219719,\n",
    "                                    depth = 5,\n",
    "                                    random_strength = 0.011296276693328888,\n",
    "                                    bagging_temperature = 0.359017032835801,\n",
    "                                    border_count = 232,\n",
    "                                    l2_leaf_reg = 30, \n",
    "                                    verbose = False).fit(X_train, Y_train)\n",
    "        cat_imp.append(lgb_md.feature_importances_)\n",
    "        \n",
    "        ## Predicting on X_test and test\n",
    "        cat_pred_1 = lgb_md.predict_proba(X_test)[:, 1]\n",
    "        cat_pred_2 = lgb_md.predict_proba(test_lgb)[:, 1]\n",
    "        \n",
    "        ## Computing roc-auc score\n",
    "        roc_auc_scores.append(roc_auc_score(Y_test, cat_pred_1))\n",
    "        preds.append(cat_pred_2)\n",
    "        \n",
    "    cv_scores.append(np.mean(roc_auc_scores))\n",
    "\n",
    "cat_cv_score = np.mean(cv_scores)    \n",
    "print('The roc-auc score over 5-folds (run 5 times) is:', cat_cv_score)\n",
    "\n",
    "# 0.8794706067469678\n",
    "# 0.8799903985410327"
   ]
  },
  {
   "cell_type": "code",
   "execution_count": 12,
   "id": "52dc0f90",
   "metadata": {},
   "outputs": [
    {
     "data": {
      "text/plain": [
       "0.8780045789398218"
      ]
     },
     "execution_count": 12,
     "metadata": {},
     "output_type": "execute_result"
    }
   ],
   "source": [
    "lgb_cv_score"
   ]
  },
  {
   "cell_type": "code",
   "execution_count": 14,
   "id": "a0770ae9",
   "metadata": {},
   "outputs": [
    {
     "data": {
      "image/png": "[encoded data removed]",
      "text/plain": [
       "<Figure size 1200x1400 with 1 Axes>"
      ]
     },
     "metadata": {},
     "output_type": "display_data"
    }
   ],
   "source": [
    "plt.figure(figsize = (12, 14))\n",
    "pd.DataFrame(cat_imp, columns = X.columns).apply(np.mean, axis = 0).sort_values().plot(kind = 'barh');\n",
    "plt.xlabel('LightGBM Score')\n",
    "plt.ylabel('Feature')\n",
    "plt.show();"
   ]
  },
  {
   "cell_type": "code",
   "execution_count": 15,
   "id": "6f3006c9",
   "metadata": {},
   "outputs": [
    {
     "data": {
      "text/html": [
       "<div>\n",
       "<style scoped>\n",
       "    .dataframe tbody tr th:only-of-type {\n",
       "        vertical-align: middle;\n",
       "    }\n",
       "\n",
       "    .dataframe tbody tr th {\n",
       "        vertical-align: top;\n",
       "    }\n",
       "\n",
       "    .dataframe thead th {\n",
       "        text-align: right;\n",
       "    }\n",
       "</style>\n",
       "<table border=\"1\" class=\"dataframe\">\n",
       "  <thead>\n",
       "    <tr style=\"text-align: right;\">\n",
       "      <th></th>\n",
       "      <th>id</th>\n",
       "      <th>booking_status</th>\n",
       "    </tr>\n",
       "  </thead>\n",
       "  <tbody>\n",
       "    <tr>\n",
       "      <th>0</th>\n",
       "      <td>42100</td>\n",
       "      <td>0.250814</td>\n",
       "    </tr>\n",
       "    <tr>\n",
       "      <th>1</th>\n",
       "      <td>42101</td>\n",
       "      <td>0.368882</td>\n",
       "    </tr>\n",
       "    <tr>\n",
       "      <th>2</th>\n",
       "      <td>42102</td>\n",
       "      <td>0.108656</td>\n",
       "    </tr>\n",
       "    <tr>\n",
       "      <th>3</th>\n",
       "      <td>42103</td>\n",
       "      <td>0.029170</td>\n",
       "    </tr>\n",
       "    <tr>\n",
       "      <th>4</th>\n",
       "      <td>42104</td>\n",
       "      <td>0.492634</td>\n",
       "    </tr>\n",
       "  </tbody>\n",
       "</table>\n",
       "</div>"
      ],
      "text/plain": [
       "      id  booking_status\n",
       "0  42100        0.250814\n",
       "1  42101        0.368882\n",
       "2  42102        0.108656\n",
       "3  42103        0.029170\n",
       "4  42104        0.492634"
      ]
     },
     "execution_count": 15,
     "metadata": {},
     "output_type": "execute_result"
    }
   ],
   "source": [
    "cat_preds_test = pd.DataFrame(preds).apply(np.mean, axis = 0)\n",
    "\n",
    "submission['booking_status'] = cat_preds_test\n",
    "submission.head()"
   ]
  },
  {
   "cell_type": "code",
   "execution_count": 16,
   "id": "2558ddca",
   "metadata": {},
   "outputs": [],
   "source": [
    "submission.to_csv('CatBoost_6_features__optuna_submission.csv', index = False)"
   ]
  }
 ],
 "metadata": {
  "kernelspec": {
   "display_name": "conda_python3",
   "language": "python",
   "name": "conda_python3"
  },
  "language_info": {
   "codemirror_mode": {
    "name": "ipython",
    "version": 3
   },
   "file_extension": ".py",
   "mimetype": "text/x-python",
   "name": "python",
   "nbconvert_exporter": "python",
   "pygments_lexer": "ipython3",
   "version": "3.10.6"
  }
 },
 "nbformat": 4,
 "nbformat_minor": 5
}
