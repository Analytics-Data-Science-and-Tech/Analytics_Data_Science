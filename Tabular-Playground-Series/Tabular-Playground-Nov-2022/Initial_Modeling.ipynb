{
 "cells": [
  {
   "cell_type": "code",
   "execution_count": 2,
   "id": "19cd0b2b",
   "metadata": {},
   "outputs": [
    {
     "name": "stdout",
     "output_type": "stream",
     "text": [
      "Looking in indexes: https://pypi.org/simple, https://pip.repos.neuron.amazonaws.com\n",
      "Collecting fastparquet\n",
      "  Downloading fastparquet-0.8.3-cp38-cp38-manylinux_2_17_x86_64.manylinux2014_x86_64.whl (1.6 MB)\n",
      "\u001b[2K     \u001b[90m━━━━━━━━━━━━━━━━━━━━━━━━━━━━━━━━━━━━━━━━\u001b[0m \u001b[32m1.6/1.6 MB\u001b[0m \u001b[31m73.3 MB/s\u001b[0m eta \u001b[36m0:00:00\u001b[0m\n",
      "\u001b[?25hRequirement already satisfied: numpy>=1.18 in /home/ec2-user/anaconda3/envs/python3/lib/python3.8/site-packages (from fastparquet) (1.20.3)\n",
      "Requirement already satisfied: pandas>=1.1.0 in /home/ec2-user/anaconda3/envs/python3/lib/python3.8/site-packages (from fastparquet) (1.3.4)\n",
      "Requirement already satisfied: packaging in /home/ec2-user/anaconda3/envs/python3/lib/python3.8/site-packages (from fastparquet) (21.3)\n",
      "Requirement already satisfied: fsspec in /home/ec2-user/anaconda3/envs/python3/lib/python3.8/site-packages (from fastparquet) (2021.11.1)\n",
      "Collecting cramjam>=2.3.0\n",
      "  Downloading cramjam-2.6.1-cp38-cp38-manylinux_2_17_x86_64.manylinux2014_x86_64.whl (2.0 MB)\n",
      "\u001b[2K     \u001b[90m━━━━━━━━━━━━━━━━━━━━━━━━━━━━━━━━━━━━━━━━\u001b[0m \u001b[32m2.0/2.0 MB\u001b[0m \u001b[31m33.5 MB/s\u001b[0m eta \u001b[36m0:00:00\u001b[0m:00:01\u001b[0m\n",
      "\u001b[?25hRequirement already satisfied: python-dateutil>=2.7.3 in /home/ec2-user/anaconda3/envs/python3/lib/python3.8/site-packages (from pandas>=1.1.0->fastparquet) (2.8.2)\n",
      "Requirement already satisfied: pytz>=2017.3 in /home/ec2-user/anaconda3/envs/python3/lib/python3.8/site-packages (from pandas>=1.1.0->fastparquet) (2021.3)\n",
      "Requirement already satisfied: pyparsing!=3.0.5,>=2.0.2 in /home/ec2-user/anaconda3/envs/python3/lib/python3.8/site-packages (from packaging->fastparquet) (3.0.6)\n",
      "Requirement already satisfied: six>=1.5 in /home/ec2-user/anaconda3/envs/python3/lib/python3.8/site-packages (from python-dateutil>=2.7.3->pandas>=1.1.0->fastparquet) (1.16.0)\n",
      "Installing collected packages: cramjam, fastparquet\n",
      "Successfully installed cramjam-2.6.1 fastparquet-0.8.3\n",
      "\u001b[33mWARNING: You are using pip version 22.0.4; however, version 22.3 is available.\n",
      "You should consider upgrading via the '/home/ec2-user/anaconda3/envs/python3/bin/python -m pip install --upgrade pip' command.\u001b[0m\u001b[33m\n",
      "\u001b[0mNote: you may need to restart the kernel to use updated packages.\n"
     ]
    }
   ],
   "source": [
    "pip install fastparquet"
   ]
  },
  {
   "cell_type": "code",
   "execution_count": 3,
   "id": "2df79f60",
   "metadata": {},
   "outputs": [],
   "source": [
    "import boto3\n",
    "import pandas as pd; pd.set_option('display.max_columns', 100)\n",
    "import numpy as np\n",
    "\n",
    "import matplotlib.pyplot as plt\n",
    "import seaborn as sns\n",
    "\n",
    "from sklearn.model_selection import StratifiedKFold\n",
    "from sklearn.linear_model import LogisticRegression\n",
    "\n",
    "s3 = boto3.resource('s3')\n",
    "bucket_name = 'analytics-data-science-competitions'\n",
    "bucket = s3.Bucket(bucket_name)\n",
    "\n",
    "file_key_1 = 'Tabular-Playground-Series/Tabular-Playground-Nov-2022/sample_submission.csv'\n",
    "\n",
    "bucket_object_1 = bucket.Object(file_key_1)\n",
    "file_object_1 = bucket_object_1.get()\n",
    "file_content_stream_1 = file_object_1.get('Body')\n",
    "\n",
    "## Reading data-files\n",
    "submission = pd.read_parquet(file_content_stream_1)\n",
    "df = pd.read_parquet('s3://analytics-data-science-competitions/Tabular-Playground-Series/Tabular-Playground-Nov-2022/preds_concat_gzip.parquet', engine = 'fastparquet')"
   ]
  },
  {
   "cell_type": "code",
   "execution_count": 6,
   "id": "49a5b790",
   "metadata": {},
   "outputs": [],
   "source": [
    "preds_df = df.clip(0, 1) ## Notice that some of the model prediction files have negative likehookds and greater than 1 likelihoods\n",
    "train = preds_df[preds_df['target'].notnull()]\n",
    "test = preds_df[preds_df['target'].isnull()] "
   ]
  },
  {
   "cell_type": "code",
   "execution_count": 10,
   "id": "03c79056",
   "metadata": {},
   "outputs": [
    {
     "data": {
      "text/html": [
       "<div>\n",
       "<style scoped>\n",
       "    .dataframe tbody tr th:only-of-type {\n",
       "        vertical-align: middle;\n",
       "    }\n",
       "\n",
       "    .dataframe tbody tr th {\n",
       "        vertical-align: top;\n",
       "    }\n",
       "\n",
       "    .dataframe thead th {\n",
       "        text-align: right;\n",
       "    }\n",
       "</style>\n",
       "<table border=\"1\" class=\"dataframe\">\n",
       "  <thead>\n",
       "    <tr style=\"text-align: right;\">\n",
       "      <th></th>\n",
       "      <th>File</th>\n",
       "      <th>LogLoss</th>\n",
       "    </tr>\n",
       "  </thead>\n",
       "  <tbody>\n",
       "    <tr>\n",
       "      <th>0</th>\n",
       "      <td>0.6222863195.csv</td>\n",
       "      <td>0.622286</td>\n",
       "    </tr>\n",
       "    <tr>\n",
       "      <th>1</th>\n",
       "      <td>0.6223807245.csv</td>\n",
       "      <td>0.622381</td>\n",
       "    </tr>\n",
       "    <tr>\n",
       "      <th>2</th>\n",
       "      <td>0.6225426578.csv</td>\n",
       "      <td>0.622543</td>\n",
       "    </tr>\n",
       "    <tr>\n",
       "      <th>3</th>\n",
       "      <td>0.6247722291.csv</td>\n",
       "      <td>0.624772</td>\n",
       "    </tr>\n",
       "    <tr>\n",
       "      <th>4</th>\n",
       "      <td>0.6253455681.csv</td>\n",
       "      <td>0.625346</td>\n",
       "    </tr>\n",
       "    <tr>\n",
       "      <th>5</th>\n",
       "      <td>0.6254850917.csv</td>\n",
       "      <td>0.625485</td>\n",
       "    </tr>\n",
       "    <tr>\n",
       "      <th>6</th>\n",
       "      <td>0.6255093621.csv</td>\n",
       "      <td>0.625509</td>\n",
       "    </tr>\n",
       "    <tr>\n",
       "      <th>7</th>\n",
       "      <td>0.6260141578.csv</td>\n",
       "      <td>0.626014</td>\n",
       "    </tr>\n",
       "    <tr>\n",
       "      <th>8</th>\n",
       "      <td>0.6263493693.csv</td>\n",
       "      <td>0.626349</td>\n",
       "    </tr>\n",
       "    <tr>\n",
       "      <th>9</th>\n",
       "      <td>0.6272779211.csv</td>\n",
       "      <td>0.627278</td>\n",
       "    </tr>\n",
       "    <tr>\n",
       "      <th>10</th>\n",
       "      <td>0.6272932068.csv</td>\n",
       "      <td>0.627293</td>\n",
       "    </tr>\n",
       "    <tr>\n",
       "      <th>11</th>\n",
       "      <td>0.6278191266.csv</td>\n",
       "      <td>0.627819</td>\n",
       "    </tr>\n",
       "    <tr>\n",
       "      <th>12</th>\n",
       "      <td>0.6286579774.csv</td>\n",
       "      <td>0.628658</td>\n",
       "    </tr>\n",
       "    <tr>\n",
       "      <th>13</th>\n",
       "      <td>0.6288297558.csv</td>\n",
       "      <td>0.628830</td>\n",
       "    </tr>\n",
       "    <tr>\n",
       "      <th>14</th>\n",
       "      <td>0.6288608516.csv</td>\n",
       "      <td>0.628861</td>\n",
       "    </tr>\n",
       "    <tr>\n",
       "      <th>15</th>\n",
       "      <td>0.6294457895.csv</td>\n",
       "      <td>0.629446</td>\n",
       "    </tr>\n",
       "    <tr>\n",
       "      <th>16</th>\n",
       "      <td>0.6297384065.csv</td>\n",
       "      <td>0.629738</td>\n",
       "    </tr>\n",
       "    <tr>\n",
       "      <th>17</th>\n",
       "      <td>0.6301504673.csv</td>\n",
       "      <td>0.630150</td>\n",
       "    </tr>\n",
       "    <tr>\n",
       "      <th>18</th>\n",
       "      <td>0.6312756578.csv</td>\n",
       "      <td>0.631276</td>\n",
       "    </tr>\n",
       "    <tr>\n",
       "      <th>19</th>\n",
       "      <td>0.6321136145.csv</td>\n",
       "      <td>0.632114</td>\n",
       "    </tr>\n",
       "  </tbody>\n",
       "</table>\n",
       "</div>"
      ],
      "text/plain": [
       "                File   LogLoss\n",
       "0   0.6222863195.csv  0.622286\n",
       "1   0.6223807245.csv  0.622381\n",
       "2   0.6225426578.csv  0.622543\n",
       "3   0.6247722291.csv  0.624772\n",
       "4   0.6253455681.csv  0.625346\n",
       "5   0.6254850917.csv  0.625485\n",
       "6   0.6255093621.csv  0.625509\n",
       "7   0.6260141578.csv  0.626014\n",
       "8   0.6263493693.csv  0.626349\n",
       "9   0.6272779211.csv  0.627278\n",
       "10  0.6272932068.csv  0.627293\n",
       "11  0.6278191266.csv  0.627819\n",
       "12  0.6286579774.csv  0.628658\n",
       "13  0.6288297558.csv  0.628830\n",
       "14  0.6288608516.csv  0.628861\n",
       "15  0.6294457895.csv  0.629446\n",
       "16  0.6297384065.csv  0.629738\n",
       "17  0.6301504673.csv  0.630150\n",
       "18  0.6312756578.csv  0.631276\n",
       "19  0.6321136145.csv  0.632114"
      ]
     },
     "execution_count": 10,
     "metadata": {},
     "output_type": "execute_result"
    }
   ],
   "source": [
    "from sklearn.metrics import log_loss\n",
    "\n",
    "train_new = train.copy()\n",
    "logloss = list()\n",
    "\n",
    "for i in range(0, 5000):\n",
    "    \n",
    "    logloss.append(log_loss(train_new['target'], train_new.iloc[:, i]))\n",
    "    \n",
    "#  Log-Loss dataframe\n",
    "logloss_data = pd.DataFrame({'File': train_new.columns[:-1], 'LogLoss': logloss})\n",
    "logloss_data = logloss_data.sort_values(by = 'LogLoss').reset_index(drop = True)\n",
    "logloss_data.head(20)"
   ]
  },
  {
   "cell_type": "code",
   "execution_count": 17,
   "id": "f6e3b3c8",
   "metadata": {},
   "outputs": [],
   "source": [
    "logloss_data.to_csv('logloss_data.csv', index = False)"
   ]
  },
  {
   "cell_type": "code",
   "execution_count": 13,
   "id": "bc7bb0a6",
   "metadata": {},
   "outputs": [
    {
     "name": "stdout",
     "output_type": "stream",
     "text": [
      "Fold  1  result is: 0.5310085332338175 \n",
      "\n",
      "Fold  2  result is: 0.5371195951983304 \n",
      "\n",
      "Fold  3  result is: 0.5318544121508715 \n",
      "\n",
      "Fold  4  result is: 0.5257264512172775 \n",
      "\n",
      "Fold  5  result is: 0.5344636708896188 \n",
      "\n",
      "The average log-loss over 5-fold CV is 0.532034532537983\n"
     ]
    }
   ],
   "source": [
    "X = train[logloss_data['File'][0:100].values]\n",
    "Y = train['target']\n",
    "\n",
    "test_new = test[logloss_data['File'][0:100].values]\n",
    "\n",
    "## Defining list to store results\n",
    "logit_results, test_preds_logit = list(), list()\n",
    "\n",
    "fold = 1\n",
    "kfold = StratifiedKFold(n_splits = 5, shuffle = True)\n",
    "        \n",
    "for train_ix, test_ix in kfold.split(X, Y):\n",
    "    \n",
    "    ## Splitting the data \n",
    "    X_train, X_test = X.iloc[train_ix], X.iloc[test_ix]\n",
    "    Y_train, Y_test = Y.iloc[train_ix], Y.iloc[test_ix]\n",
    "\n",
    "    ## Building model\n",
    "    logit_md = LogisticRegression(solver = 'liblinear', penalty = 'l1').fit(X_train, Y_train)\n",
    "        \n",
    "    ## Predicting on test\n",
    "    logit_pred = logit_md.predict_proba(X_test)[:, 1]\n",
    "    score = log_loss(Y_test, logit_pred)\n",
    "    logit_results.append(score)\n",
    "        \n",
    "    print('Fold ', str(fold), ' result is:', score, '\\n')\n",
    "\n",
    "    test_preds_logit.append(logit_md.predict_proba(test_new)[:, 1])\n",
    "    fold +=1\n",
    "\n",
    "print('The average log-loss over 5-fold CV is', np.mean(logit_results))"
   ]
  },
  {
   "cell_type": "code",
   "execution_count": 14,
   "id": "b3fa8b26",
   "metadata": {},
   "outputs": [
    {
     "name": "stdout",
     "output_type": "stream",
     "text": [
      "(5, 20000)\n",
      "0    0.615394\n",
      "1    0.695442\n",
      "2    0.169539\n",
      "3    0.425722\n",
      "4    0.025819\n",
      "dtype: float64\n"
     ]
    }
   ],
   "source": [
    "test_preds_logit = pd.DataFrame(test_preds_logit)\n",
    "print(test_preds_logit.shape)\n",
    "\n",
    "test_preds_logit = test_preds_logit.mean(axis = 0)\n",
    "print(test_preds_logit.head(5))"
   ]
  },
  {
   "cell_type": "code",
   "execution_count": null,
   "id": "4307b27b",
   "metadata": {},
   "outputs": [],
   "source": [
    "submission['pred'] = test_preds_logit\n",
    "submission.head()"
   ]
  },
  {
   "cell_type": "code",
   "execution_count": null,
   "id": "12a08aa1",
   "metadata": {},
   "outputs": [],
   "source": []
  },
  {
   "cell_type": "code",
   "execution_count": null,
   "id": "423b1510",
   "metadata": {},
   "outputs": [],
   "source": []
  },
  {
   "cell_type": "code",
   "execution_count": 20,
   "id": "7513f713",
   "metadata": {},
   "outputs": [
    {
     "data": {
      "text/html": [
       "<div>\n",
       "<style scoped>\n",
       "    .dataframe tbody tr th:only-of-type {\n",
       "        vertical-align: middle;\n",
       "    }\n",
       "\n",
       "    .dataframe tbody tr th {\n",
       "        vertical-align: top;\n",
       "    }\n",
       "\n",
       "    .dataframe thead th {\n",
       "        text-align: right;\n",
       "    }\n",
       "</style>\n",
       "<table border=\"1\" class=\"dataframe\">\n",
       "  <thead>\n",
       "    <tr style=\"text-align: right;\">\n",
       "      <th></th>\n",
       "      <th>Number_of_Features</th>\n",
       "      <th>CV_score</th>\n",
       "      <th>LB_score</th>\n",
       "    </tr>\n",
       "  </thead>\n",
       "  <tbody>\n",
       "    <tr>\n",
       "      <th>0</th>\n",
       "      <td>100</td>\n",
       "      <td>0.53143</td>\n",
       "      <td>0.52438</td>\n",
       "    </tr>\n",
       "    <tr>\n",
       "      <th>1</th>\n",
       "      <td>200</td>\n",
       "      <td>0.53033</td>\n",
       "      <td>0.52390</td>\n",
       "    </tr>\n",
       "    <tr>\n",
       "      <th>2</th>\n",
       "      <td>300</td>\n",
       "      <td>0.53068</td>\n",
       "      <td>0.52357</td>\n",
       "    </tr>\n",
       "    <tr>\n",
       "      <th>3</th>\n",
       "      <td>400</td>\n",
       "      <td>0.53017</td>\n",
       "      <td>0.52319</td>\n",
       "    </tr>\n",
       "    <tr>\n",
       "      <th>4</th>\n",
       "      <td>500</td>\n",
       "      <td>0.53065</td>\n",
       "      <td>0.52313</td>\n",
       "    </tr>\n",
       "  </tbody>\n",
       "</table>\n",
       "</div>"
      ],
      "text/plain": [
       "   Number_of_Features  CV_score  LB_score\n",
       "0                 100   0.53143   0.52438\n",
       "1                 200   0.53033   0.52390\n",
       "2                 300   0.53068   0.52357\n",
       "3                 400   0.53017   0.52319\n",
       "4                 500   0.53065   0.52313"
      ]
     },
     "execution_count": 20,
     "metadata": {},
     "output_type": "execute_result"
    }
   ],
   "source": [
    "import pandas as pd\n",
    "import matplotlib.pyplot as plt\n",
    "plt.style.use('ggplot')\n",
    "import seaborn as sns\n",
    "\n",
    "logistic_performance = pd.DataFrame({'Number_of_Features': [100, 200, 300, 400, 500], 'CV_score': [0.5314294293449413, 0.5303333592114292, 0.5306822864009136, 0.5301723355083536, 0.5306497920414268], 'LB_score': [0.52438, 0.5239, 0.52357, 0.52319, 0.52313]})\n",
    "logistic_performance['CV_score'] = round(logistic_performance['CV_score'], 5)\n",
    "logistic_performance"
   ]
  },
  {
   "cell_type": "code",
   "execution_count": 21,
   "id": "2f8d8676",
   "metadata": {},
   "outputs": [
    {
     "data": {
      "image/png": "[encoded data removed]",
      "text/plain": [
       "<Figure size 720x576 with 1 Axes>"
      ]
     },
     "metadata": {},
     "output_type": "display_data"
    }
   ],
   "source": [
    "plt.figure(figsize = (10, 8))\n",
    "\n",
    "sns.lineplot(data = logistic_performance, x = 'Number_of_Features', y = 'CV_score', label = 'CV-score').set(xlabel = 'Number of Features', ylabel = 'Log-Loss Score', title = 'Logistic Regression Performance')\n",
    "sns.lineplot(data = logistic_performance, x = 'Number_of_Features', y = 'LB_score', label = 'LB-score')\n",
    "\n",
    "plt.savefig('logistic_performace.png')\n",
    "plt.show();"
   ]
  },
  {
   "cell_type": "code",
   "execution_count": 13,
   "id": "bc985ceb",
   "metadata": {},
   "outputs": [
    {
     "data": {
      "text/plain": [
       "<AxesSubplot:>"
      ]
     },
     "execution_count": 13,
     "metadata": {},
     "output_type": "execute_result"
    },
    {
     "data": {
      "image/png": "[encoded data removed]",
      "text/plain": [
       "<Figure size 432x288 with 1 Axes>"
      ]
     },
     "metadata": {},
     "output_type": "display_data"
    }
   ],
   "source": [
    "sns.lineplot(data = logistic_performance.drop(columns = 'Number_of_Features', axis = 1))"
   ]
  }
 ],
 "metadata": {
  "kernelspec": {
   "display_name": "conda_python3",
   "language": "python",
   "name": "conda_python3"
  },
  "language_info": {
   "codemirror_mode": {
    "name": "ipython",
    "version": 3
   },
   "file_extension": ".py",
   "mimetype": "text/x-python",
   "name": "python",
   "nbconvert_exporter": "python",
   "pygments_lexer": "ipython3",
   "version": "3.8.12"
  }
 },
 "nbformat": 4,
 "nbformat_minor": 5
}
