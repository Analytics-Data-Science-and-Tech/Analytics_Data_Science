{
 "cells": [
  {
   "cell_type": "code",
   "execution_count": 1,
   "id": "00b3b7ee",
   "metadata": {},
   "outputs": [
    {
     "name": "stdout",
     "output_type": "stream",
     "text": [
      "Looking in indexes: https://pypi.org/simple, https://pip.repos.neuron.amazonaws.com\n",
      "Collecting xgboost\n",
      "  Downloading xgboost-1.7.3-py3-none-manylinux2014_x86_64.whl (193.6 MB)\n",
      "\u001b[2K     \u001b[90m━━━━━━━━━━━━━━━━━━━━━━━━━━━━━━━━━━━━━━━\u001b[0m \u001b[32m193.6/193.6 MB\u001b[0m \u001b[31m3.1 MB/s\u001b[0m eta \u001b[36m0:00:00\u001b[0m00:01\u001b[0m00:01\u001b[0m\n",
      "\u001b[?25hCollecting optuna\n",
      "  Downloading optuna-3.1.0-py3-none-any.whl (365 kB)\n",
      "\u001b[2K     \u001b[90m━━━━━━━━━━━━━━━━━━━━━━━━━━━━━━━━━━━━━━\u001b[0m \u001b[32m365.3/365.3 kB\u001b[0m \u001b[31m46.4 MB/s\u001b[0m eta \u001b[36m0:00:00\u001b[0m\n",
      "\u001b[?25hRequirement already satisfied: numpy in /home/ec2-user/anaconda3/envs/python3/lib/python3.10/site-packages (from xgboost) (1.22.4)\n",
      "Requirement already satisfied: scipy in /home/ec2-user/anaconda3/envs/python3/lib/python3.10/site-packages (from xgboost) (1.9.3)\n",
      "Requirement already satisfied: tqdm in /home/ec2-user/anaconda3/envs/python3/lib/python3.10/site-packages (from optuna) (4.64.1)\n",
      "Collecting cmaes>=0.9.1\n",
      "  Downloading cmaes-0.9.1-py3-none-any.whl (21 kB)\n",
      "Requirement already satisfied: PyYAML in /home/ec2-user/anaconda3/envs/python3/lib/python3.10/site-packages (from optuna) (5.4.1)\n",
      "Requirement already satisfied: packaging>=20.0 in /home/ec2-user/anaconda3/envs/python3/lib/python3.10/site-packages (from optuna) (21.3)\n",
      "Collecting alembic>=1.5.0\n",
      "  Downloading alembic-1.9.3-py3-none-any.whl (210 kB)\n",
      "\u001b[2K     \u001b[90m━━━━━━━━━━━━━━━━━━━━━━━━━━━━━━━━━━━━━━\u001b[0m \u001b[32m210.6/210.6 kB\u001b[0m \u001b[31m44.9 MB/s\u001b[0m eta \u001b[36m0:00:00\u001b[0m\n",
      "\u001b[?25hRequirement already satisfied: sqlalchemy>=1.3.0 in /home/ec2-user/anaconda3/envs/python3/lib/python3.10/site-packages (from optuna) (1.4.42)\n",
      "Collecting colorlog\n",
      "  Downloading colorlog-6.7.0-py2.py3-none-any.whl (11 kB)\n",
      "Collecting Mako\n",
      "  Downloading Mako-1.2.4-py3-none-any.whl (78 kB)\n",
      "\u001b[2K     \u001b[90m━━━━━━━━━━━━━━━━━━━━━━━━━━━━━━━━━━━━━━━━\u001b[0m \u001b[32m78.7/78.7 kB\u001b[0m \u001b[31m13.7 MB/s\u001b[0m eta \u001b[36m0:00:00\u001b[0m\n",
      "\u001b[?25hRequirement already satisfied: pyparsing!=3.0.5,>=2.0.2 in /home/ec2-user/anaconda3/envs/python3/lib/python3.10/site-packages (from packaging>=20.0->optuna) (3.0.9)\n",
      "Requirement already satisfied: greenlet!=0.4.17 in /home/ec2-user/anaconda3/envs/python3/lib/python3.10/site-packages (from sqlalchemy>=1.3.0->optuna) (1.1.3.post0)\n",
      "Requirement already satisfied: MarkupSafe>=0.9.2 in /home/ec2-user/anaconda3/envs/python3/lib/python3.10/site-packages (from Mako->alembic>=1.5.0->optuna) (2.1.1)\n",
      "Installing collected packages: Mako, colorlog, cmaes, xgboost, alembic, optuna\n",
      "Successfully installed Mako-1.2.4 alembic-1.9.3 cmaes-0.9.1 colorlog-6.7.0 optuna-3.1.0 xgboost-1.7.3\n",
      "Note: you may need to restart the kernel to use updated packages.\n"
     ]
    }
   ],
   "source": [
    "pip install xgboost optuna"
   ]
  },
  {
   "cell_type": "code",
   "execution_count": 1,
   "id": "6b41e4aa",
   "metadata": {},
   "outputs": [],
   "source": [
    "import boto3\n",
    "import pandas as pd; pd.set_option('display.max_columns', 100)\n",
    "import numpy as np\n",
    "\n",
    "import matplotlib.pyplot as plt; plt.style.use('ggplot')\n",
    "import seaborn as sns\n",
    "\n",
    "from scipy.stats import rankdata\n",
    "from sklearn.cluster import KMeans\n",
    "from sklearn.multiclass import OneVsRestClassifier\n",
    "from sklearn.tree import DecisionTreeRegressor, DecisionTreeClassifier, plot_tree\n",
    "from sklearn.preprocessing import MinMaxScaler\n",
    "from sklearn.model_selection import KFold, train_test_split, GridSearchCV, StratifiedKFold, TimeSeriesSplit\n",
    "from sklearn.metrics import mean_squared_error, roc_auc_score, cohen_kappa_score, davies_bouldin_score, calinski_harabasz_score, silhouette_score\n",
    "from sklearn.neighbors import KNeighborsClassifier\n",
    "from sklearn.ensemble import RandomForestClassifier, HistGradientBoostingClassifier\n",
    "from sklearn.linear_model import LogisticRegression, LinearRegression\n",
    "from sklearn.svm import SVR\n",
    "# from lightgbm import LGBMClassifier, LGBMRegressor\n",
    "from xgboost import XGBClassifier, XGBRegressor\n",
    "# from catboost import CatBoostClassifier\n",
    "\n",
    "import optuna \n",
    "\n",
    "s3 = boto3.resource('s3')\n",
    "bucket_name = 'analytics-data-science-competitions'\n",
    "bucket = s3.Bucket(bucket_name)\n",
    "\n",
    "file_key_1 = 'Tabular-Playground-Series/TS-S3-Ep5/train.csv'\n",
    "file_key_2 = 'Tabular-Playground-Series/TS-S3-Ep5/test.csv'\n",
    "file_key_3 = 'Tabular-Playground-Series/TS-S3-Ep5/sample_submission.csv'\n",
    "\n",
    "bucket_object_1 = bucket.Object(file_key_1)\n",
    "file_object_1 = bucket_object_1.get()\n",
    "file_content_stream_1 = file_object_1.get('Body')\n",
    "\n",
    "bucket_object_2 = bucket.Object(file_key_2)\n",
    "file_object_2 = bucket_object_2.get()\n",
    "file_content_stream_2 = file_object_2.get('Body')\n",
    "\n",
    "bucket_object_3 = bucket.Object(file_key_3)\n",
    "file_object_3 = bucket_object_3.get()\n",
    "file_content_stream_3 = file_object_3.get('Body')\n",
    "\n",
    "## Reading data files\n",
    "train = pd.read_csv(file_content_stream_1)\n",
    "test = pd.read_csv(file_content_stream_2)\n",
    "submission = pd.read_csv(file_content_stream_3)\n",
    "\n",
    "## Enginering features\n",
    "train['alcohol_density'] = train['alcohol'] * train['density']\n",
    "train['sulphate/density'] = train['sulphates']  / train['density']\n",
    "train['alcohol_sulphate'] = train['alcohol'] * train['sulphates']\n",
    "\n",
    "test['alcohol_density'] = test['alcohol']  * test['density']\n",
    "test['sulphate/density'] = test['sulphates']  / test['density']\n",
    "test['alcohol_sulphate'] = test['alcohol'] * test['sulphates']\n",
    "\n",
    "test_md = test.copy()\n",
    "\n",
    "X = train[['sulphate/density', 'alcohol_density', 'alcohol', 'sulphates', 'fixed acidity', 'alcohol_sulphate']]\n",
    "Y = train['quality'] \n",
    "\n",
    "test_md = test_md[['sulphate/density', 'alcohol_density', 'alcohol', 'sulphates', 'fixed acidity', 'alcohol_sulphate']]"
   ]
  },
  {
   "cell_type": "code",
   "execution_count": 2,
   "id": "cb35068d",
   "metadata": {},
   "outputs": [
    {
     "data": {
      "text/html": [
       "<div>\n",
       "<style scoped>\n",
       "    .dataframe tbody tr th:only-of-type {\n",
       "        vertical-align: middle;\n",
       "    }\n",
       "\n",
       "    .dataframe tbody tr th {\n",
       "        vertical-align: top;\n",
       "    }\n",
       "\n",
       "    .dataframe thead th {\n",
       "        text-align: right;\n",
       "    }\n",
       "</style>\n",
       "<table border=\"1\" class=\"dataframe\">\n",
       "  <thead>\n",
       "    <tr style=\"text-align: right;\">\n",
       "      <th></th>\n",
       "      <th>Id</th>\n",
       "      <th>fixed acidity</th>\n",
       "      <th>volatile acidity</th>\n",
       "      <th>citric acid</th>\n",
       "      <th>residual sugar</th>\n",
       "      <th>chlorides</th>\n",
       "      <th>free sulfur dioxide</th>\n",
       "      <th>total sulfur dioxide</th>\n",
       "      <th>density</th>\n",
       "      <th>pH</th>\n",
       "      <th>sulphates</th>\n",
       "      <th>alcohol</th>\n",
       "      <th>quality</th>\n",
       "      <th>alcohol_density</th>\n",
       "      <th>sulphate/density</th>\n",
       "      <th>alcohol_sulphate</th>\n",
       "    </tr>\n",
       "  </thead>\n",
       "  <tbody>\n",
       "    <tr>\n",
       "      <th>0</th>\n",
       "      <td>0</td>\n",
       "      <td>8.0</td>\n",
       "      <td>0.50</td>\n",
       "      <td>0.39</td>\n",
       "      <td>2.2</td>\n",
       "      <td>0.073</td>\n",
       "      <td>30.0</td>\n",
       "      <td>39.0</td>\n",
       "      <td>0.99572</td>\n",
       "      <td>3.33</td>\n",
       "      <td>0.77</td>\n",
       "      <td>12.1</td>\n",
       "      <td>6</td>\n",
       "      <td>12.048212</td>\n",
       "      <td>0.773310</td>\n",
       "      <td>9.317</td>\n",
       "    </tr>\n",
       "    <tr>\n",
       "      <th>1</th>\n",
       "      <td>1</td>\n",
       "      <td>9.3</td>\n",
       "      <td>0.30</td>\n",
       "      <td>0.73</td>\n",
       "      <td>2.3</td>\n",
       "      <td>0.092</td>\n",
       "      <td>30.0</td>\n",
       "      <td>67.0</td>\n",
       "      <td>0.99854</td>\n",
       "      <td>3.32</td>\n",
       "      <td>0.67</td>\n",
       "      <td>12.8</td>\n",
       "      <td>6</td>\n",
       "      <td>12.781312</td>\n",
       "      <td>0.670980</td>\n",
       "      <td>8.576</td>\n",
       "    </tr>\n",
       "    <tr>\n",
       "      <th>2</th>\n",
       "      <td>2</td>\n",
       "      <td>7.1</td>\n",
       "      <td>0.51</td>\n",
       "      <td>0.03</td>\n",
       "      <td>2.1</td>\n",
       "      <td>0.059</td>\n",
       "      <td>3.0</td>\n",
       "      <td>12.0</td>\n",
       "      <td>0.99660</td>\n",
       "      <td>3.52</td>\n",
       "      <td>0.73</td>\n",
       "      <td>11.3</td>\n",
       "      <td>7</td>\n",
       "      <td>11.261580</td>\n",
       "      <td>0.732490</td>\n",
       "      <td>8.249</td>\n",
       "    </tr>\n",
       "    <tr>\n",
       "      <th>3</th>\n",
       "      <td>3</td>\n",
       "      <td>8.1</td>\n",
       "      <td>0.87</td>\n",
       "      <td>0.22</td>\n",
       "      <td>2.6</td>\n",
       "      <td>0.084</td>\n",
       "      <td>11.0</td>\n",
       "      <td>65.0</td>\n",
       "      <td>0.99730</td>\n",
       "      <td>3.20</td>\n",
       "      <td>0.53</td>\n",
       "      <td>9.8</td>\n",
       "      <td>5</td>\n",
       "      <td>9.773540</td>\n",
       "      <td>0.531435</td>\n",
       "      <td>5.194</td>\n",
       "    </tr>\n",
       "    <tr>\n",
       "      <th>4</th>\n",
       "      <td>4</td>\n",
       "      <td>8.5</td>\n",
       "      <td>0.36</td>\n",
       "      <td>0.30</td>\n",
       "      <td>2.3</td>\n",
       "      <td>0.079</td>\n",
       "      <td>10.0</td>\n",
       "      <td>45.0</td>\n",
       "      <td>0.99444</td>\n",
       "      <td>3.20</td>\n",
       "      <td>1.36</td>\n",
       "      <td>9.5</td>\n",
       "      <td>6</td>\n",
       "      <td>9.447180</td>\n",
       "      <td>1.367604</td>\n",
       "      <td>12.920</td>\n",
       "    </tr>\n",
       "  </tbody>\n",
       "</table>\n",
       "</div>"
      ],
      "text/plain": [
       "   Id  fixed acidity  volatile acidity  citric acid  residual sugar  \\\n",
       "0   0            8.0              0.50         0.39             2.2   \n",
       "1   1            9.3              0.30         0.73             2.3   \n",
       "2   2            7.1              0.51         0.03             2.1   \n",
       "3   3            8.1              0.87         0.22             2.6   \n",
       "4   4            8.5              0.36         0.30             2.3   \n",
       "\n",
       "   chlorides  free sulfur dioxide  total sulfur dioxide  density    pH  \\\n",
       "0      0.073                 30.0                  39.0  0.99572  3.33   \n",
       "1      0.092                 30.0                  67.0  0.99854  3.32   \n",
       "2      0.059                  3.0                  12.0  0.99660  3.52   \n",
       "3      0.084                 11.0                  65.0  0.99730  3.20   \n",
       "4      0.079                 10.0                  45.0  0.99444  3.20   \n",
       "\n",
       "   sulphates  alcohol  quality  alcohol_density  sulphate/density  \\\n",
       "0       0.77     12.1        6        12.048212          0.773310   \n",
       "1       0.67     12.8        6        12.781312          0.670980   \n",
       "2       0.73     11.3        7        11.261580          0.732490   \n",
       "3       0.53      9.8        5         9.773540          0.531435   \n",
       "4       1.36      9.5        6         9.447180          1.367604   \n",
       "\n",
       "   alcohol_sulphate  \n",
       "0             9.317  \n",
       "1             8.576  \n",
       "2             8.249  \n",
       "3             5.194  \n",
       "4            12.920  "
      ]
     },
     "execution_count": 2,
     "metadata": {},
     "output_type": "execute_result"
    }
   ],
   "source": [
    "train.head()"
   ]
  },
  {
   "cell_type": "markdown",
   "id": "694b29c6",
   "metadata": {},
   "source": [
    "# Optimal Rounder"
   ]
  },
  {
   "cell_type": "code",
   "execution_count": 3,
   "id": "7f739cb5",
   "metadata": {},
   "outputs": [],
   "source": [
    "from functools import partial\n",
    "import numpy as np\n",
    "import scipy as sp\n",
    "\n",
    "class OptimizedRounder(object):\n",
    "    def __init__(self):\n",
    "        self.coef_ = 0\n",
    "\n",
    "    def _kappa_loss(self, coef, X, y):\n",
    "        X_p = np.copy(X)\n",
    "        for i, pred in enumerate(X_p):\n",
    "            if pred < coef[0]:\n",
    "                X_p[i] = 3\n",
    "            elif pred >= coef[0] and pred < coef[1]:\n",
    "                X_p[i] = 4\n",
    "            elif pred >= coef[1] and pred < coef[2]:\n",
    "                X_p[i] = 5\n",
    "            elif pred >= coef[2] and pred < coef[3]:\n",
    "                X_p[i] = 6\n",
    "            elif pred >= coef[3] and pred < coef[4]:\n",
    "                X_p[i] = 7\n",
    "            else:\n",
    "                X_p[i] = 8\n",
    "\n",
    "        ll = cohen_kappa_score(y, X_p, weights = 'quadratic')\n",
    "        return -ll\n",
    "\n",
    "    def fit(self, X, y):\n",
    "        loss_partial = partial(self._kappa_loss, X = X, y = y)\n",
    "        initial_coef = [3.5, 4.5, 5.5, 6.5, 7.5]\n",
    "        self.coef_ = sp.optimize.minimize(loss_partial, initial_coef, method = 'nelder-mead')\n",
    "\n",
    "    def predict(self, X, coef):\n",
    "        X_p = np.copy(X)\n",
    "        for i, pred in enumerate(X_p):\n",
    "            if pred < coef[0]:\n",
    "                X_p[i] = 3\n",
    "            elif pred >= coef[0] and pred < coef[1]:\n",
    "                X_p[i] = 4\n",
    "            elif pred >= coef[1] and pred < coef[2]:\n",
    "                X_p[i] = 5\n",
    "            elif pred >= coef[2] and pred < coef[3]:\n",
    "                X_p[i] = 6\n",
    "            elif pred >= coef[3] and pred < coef[4]:\n",
    "                X_p[i] = 7\n",
    "            else:\n",
    "                X_p[i] = 8\n",
    "        return X_p\n",
    "\n",
    "    def coefficients(self):\n",
    "        return self.coef_['x']"
   ]
  },
  {
   "cell_type": "markdown",
   "id": "454e85aa",
   "metadata": {},
   "source": [
    "# Optuna Optimization"
   ]
  },
  {
   "cell_type": "code",
   "execution_count": 4,
   "id": "80f6f4f4",
   "metadata": {},
   "outputs": [],
   "source": [
    "def objective(trial):\n",
    "    \n",
    "    ## Parameters to be evaluated\n",
    "    param = dict(objective = 'reg:absoluteerror',\n",
    "                 eval_metric = 'mae',\n",
    "                 tree_method = 'hist', \n",
    "                 random_state = 42,\n",
    "                 max_depth = trial.suggest_int('max_depth', 2, 10),\n",
    "                 learning_rate = trial.suggest_float('learning_rate', 1e-4, 1e-1, log = True),\n",
    "                 n_estimators = trial.suggest_int('n_estimators', 30, 10000),\n",
    "                 gamma = trial.suggest_float('gamma', 0, 10),\n",
    "                 min_child_weight = trial.suggest_int('min_child_weight', 1, 100),\n",
    "                 colsample_bytree = trial.suggest_float('colsample_bytree', 0.2, 0.9),\n",
    "                 subsample = trial.suggest_float('subsample', 0.2, 0.9)\n",
    "                )\n",
    "\n",
    "    scores = []\n",
    "\n",
    "#     skf = StratifiedKFold(n_splits = 5, shuffle = True, random_state = 42)\n",
    "    skf = KFold(n_splits = 5, shuffle = True, random_state = 42)\n",
    "    \n",
    "    for fold, (train_idx, valid_idx) in enumerate(skf.split(X, Y)):\n",
    "        \n",
    "        print(fold, end = ' ')\n",
    "        X_train, X_valid = X.iloc[train_idx], X.iloc[valid_idx]\n",
    "        y_train , y_valid = Y.iloc[train_idx] , Y.iloc[valid_idx]\n",
    "\n",
    "        model = XGBRegressor(**param)\n",
    "        model.fit(X_train, y_train)\n",
    "        \n",
    "        preds_train = model.predict(X_train)\n",
    "        preds_valid = model.predict(X_valid)\n",
    "        \n",
    "        optR = OptimizedRounder()\n",
    "        optR.fit(preds_train, y_train)\n",
    "        coef = optR.coefficients()\n",
    "        preds_valid = optR.predict(preds_valid, coef).astype(int)\n",
    "        \n",
    "        score = cohen_kappa_score(y_valid,  preds_valid, weights = \"quadratic\")\n",
    "        scores.append(score)\n",
    "        \n",
    "    return np.mean(scores)"
   ]
  },
  {
   "cell_type": "code",
   "execution_count": null,
   "id": "d0771c6f",
   "metadata": {},
   "outputs": [
    {
     "name": "stderr",
     "output_type": "stream",
     "text": [
      "\u001b[32m[I 2023-02-10 22:34:22,748]\u001b[0m A new study created in memory with name: no-name-87837fb2-6233-4e40-8af9-d690e2b42c12\u001b[0m\n"
     ]
    },
    {
     "name": "stdout",
     "output_type": "stream",
     "text": [
      "0 1 2 3 4 "
     ]
    },
    {
     "name": "stderr",
     "output_type": "stream",
     "text": [
      "\u001b[32m[I 2023-02-10 22:35:00,408]\u001b[0m Trial 0 finished with value: 0.37683807893640325 and parameters: {'max_depth': 7, 'learning_rate': 0.001927203039860696, 'n_estimators': 6488, 'gamma': 3.0726263617277216, 'min_child_weight': 6, 'colsample_bytree': 0.7092265933084838, 'subsample': 0.6438561603099846}. Best is trial 0 with value: 0.37683807893640325.\u001b[0m\n"
     ]
    },
    {
     "name": "stdout",
     "output_type": "stream",
     "text": [
      "0 1 2 3 4 "
     ]
    },
    {
     "name": "stderr",
     "output_type": "stream",
     "text": [
      "\u001b[32m[I 2023-02-10 22:35:16,812]\u001b[0m Trial 1 finished with value: 0.30859899214122266 and parameters: {'max_depth': 3, 'learning_rate': 0.0004286353510303723, 'n_estimators': 63, 'gamma': 1.1379063234718223, 'min_child_weight': 2, 'colsample_bytree': 0.699821750617027, 'subsample': 0.24577246280135367}. Best is trial 0 with value: 0.37683807893640325.\u001b[0m\n"
     ]
    },
    {
     "name": "stdout",
     "output_type": "stream",
     "text": [
      "0 1 2 3 4 "
     ]
    },
    {
     "name": "stderr",
     "output_type": "stream",
     "text": [
      "\u001b[32m[I 2023-02-10 22:35:52,969]\u001b[0m Trial 2 finished with value: 0.4954883539657223 and parameters: {'max_depth': 8, 'learning_rate': 0.09965244644516956, 'n_estimators': 8001, 'gamma': 8.82479779928585, 'min_child_weight': 25, 'colsample_bytree': 0.3901763827606908, 'subsample': 0.41479358656506315}. Best is trial 2 with value: 0.4954883539657223.\u001b[0m\n"
     ]
    },
    {
     "name": "stdout",
     "output_type": "stream",
     "text": [
      "0 1 2 3 4 "
     ]
    },
    {
     "name": "stderr",
     "output_type": "stream",
     "text": [
      "\u001b[32m[I 2023-02-10 22:36:28,237]\u001b[0m Trial 3 finished with value: 0.4975362822807745 and parameters: {'max_depth': 4, 'learning_rate': 0.002332913416790477, 'n_estimators': 9443, 'gamma': 3.8232540915544213, 'min_child_weight': 56, 'colsample_bytree': 0.27991114800732175, 'subsample': 0.6091848532561019}. Best is trial 3 with value: 0.4975362822807745.\u001b[0m\n"
     ]
    },
    {
     "name": "stdout",
     "output_type": "stream",
     "text": [
      "0 1 2 3 4 "
     ]
    },
    {
     "name": "stderr",
     "output_type": "stream",
     "text": [
      "\u001b[32m[I 2023-02-10 22:36:49,055]\u001b[0m Trial 4 finished with value: 0.4946813153666234 and parameters: {'max_depth': 4, 'learning_rate': 0.003386506677205059, 'n_estimators': 2813, 'gamma': 4.191788535738735, 'min_child_weight': 75, 'colsample_bytree': 0.30342142657119464, 'subsample': 0.7801647523709172}. Best is trial 3 with value: 0.4975362822807745.\u001b[0m\n"
     ]
    },
    {
     "name": "stdout",
     "output_type": "stream",
     "text": [
      "0 1 2 3 4 "
     ]
    },
    {
     "name": "stderr",
     "output_type": "stream",
     "text": [
      "\u001b[32m[I 2023-02-10 22:37:20,688]\u001b[0m Trial 5 finished with value: 0.5006382637190423 and parameters: {'max_depth': 5, 'learning_rate': 0.0040917760083535705, 'n_estimators': 6535, 'gamma': 6.262947287699069, 'min_child_weight': 39, 'colsample_bytree': 0.2164196190271715, 'subsample': 0.47813149699989876}. Best is trial 5 with value: 0.5006382637190423.\u001b[0m\n"
     ]
    },
    {
     "name": "stdout",
     "output_type": "stream",
     "text": [
      "0 1 2 3 4 "
     ]
    },
    {
     "name": "stderr",
     "output_type": "stream",
     "text": [
      "\u001b[32m[I 2023-02-10 22:37:48,556]\u001b[0m Trial 6 finished with value: 0.48719089584879843 and parameters: {'max_depth': 5, 'learning_rate': 0.00026281482816317497, 'n_estimators': 1861, 'gamma': 7.493175575197313, 'min_child_weight': 14, 'colsample_bytree': 0.29885412139836337, 'subsample': 0.3614896536718704}. Best is trial 5 with value: 0.5006382637190423.\u001b[0m\n"
     ]
    },
    {
     "name": "stdout",
     "output_type": "stream",
     "text": [
      "0 1 2 3 4 "
     ]
    },
    {
     "name": "stderr",
     "output_type": "stream",
     "text": [
      "\u001b[32m[I 2023-02-10 22:38:14,509]\u001b[0m Trial 7 finished with value: 0.4929206250655872 and parameters: {'max_depth': 7, 'learning_rate': 0.005406572823719318, 'n_estimators': 4575, 'gamma': 4.822074346348293, 'min_child_weight': 82, 'colsample_bytree': 0.44574014183734517, 'subsample': 0.4924975441487282}. Best is trial 5 with value: 0.5006382637190423.\u001b[0m\n"
     ]
    },
    {
     "name": "stdout",
     "output_type": "stream",
     "text": [
      "0 1 2 3 4 "
     ]
    },
    {
     "name": "stderr",
     "output_type": "stream",
     "text": [
      "\u001b[32m[I 2023-02-10 22:38:57,337]\u001b[0m Trial 8 finished with value: 0.15348382612496053 and parameters: {'max_depth': 8, 'learning_rate': 0.00020712226134555735, 'n_estimators': 8923, 'gamma': 1.5960833582752876, 'min_child_weight': 11, 'colsample_bytree': 0.5749015793228058, 'subsample': 0.40816115811453707}. Best is trial 5 with value: 0.5006382637190423.\u001b[0m\n"
     ]
    },
    {
     "name": "stdout",
     "output_type": "stream",
     "text": [
      "0 1 2 3 4 "
     ]
    },
    {
     "name": "stderr",
     "output_type": "stream",
     "text": [
      "\u001b[32m[I 2023-02-10 22:39:25,094]\u001b[0m Trial 9 finished with value: 0.5034253447536184 and parameters: {'max_depth': 10, 'learning_rate': 0.017922210522950524, 'n_estimators': 5262, 'gamma': 3.933244929780763, 'min_child_weight': 92, 'colsample_bytree': 0.48141569555675046, 'subsample': 0.5902395155161007}. Best is trial 9 with value: 0.5034253447536184.\u001b[0m\n"
     ]
    },
    {
     "name": "stdout",
     "output_type": "stream",
     "text": [
      "0 1 2 3 4 "
     ]
    },
    {
     "name": "stderr",
     "output_type": "stream",
     "text": [
      "\u001b[32m[I 2023-02-10 22:39:54,320]\u001b[0m Trial 10 finished with value: 0.4862656999503262 and parameters: {'max_depth': 10, 'learning_rate': 0.030436182755657733, 'n_estimators': 4369, 'gamma': 0.16207880252503903, 'min_child_weight': 95, 'colsample_bytree': 0.8185045614102109, 'subsample': 0.8252390204262371}. Best is trial 9 with value: 0.5034253447536184.\u001b[0m\n"
     ]
    },
    {
     "name": "stdout",
     "output_type": "stream",
     "text": [
      "0 1 2 3 4 "
     ]
    },
    {
     "name": "stderr",
     "output_type": "stream",
     "text": [
      "\u001b[32m[I 2023-02-10 22:40:26,182]\u001b[0m Trial 11 finished with value: 0.5184565585768957 and parameters: {'max_depth': 10, 'learning_rate': 0.011261160892211741, 'n_estimators': 6544, 'gamma': 6.36837933246769, 'min_child_weight': 41, 'colsample_bytree': 0.2262166063169757, 'subsample': 0.569229517413783}. Best is trial 11 with value: 0.5184565585768957.\u001b[0m\n"
     ]
    },
    {
     "name": "stdout",
     "output_type": "stream",
     "text": [
      "0 1 2 3 4 "
     ]
    },
    {
     "name": "stderr",
     "output_type": "stream",
     "text": [
      "\u001b[32m[I 2023-02-10 22:40:55,312]\u001b[0m Trial 12 finished with value: 0.47896267545883564 and parameters: {'max_depth': 10, 'learning_rate': 0.01861114452706088, 'n_estimators': 6431, 'gamma': 5.84326340292265, 'min_child_weight': 55, 'colsample_bytree': 0.4638223903364498, 'subsample': 0.6929073771330024}. Best is trial 11 with value: 0.5184565585768957.\u001b[0m\n"
     ]
    },
    {
     "name": "stdout",
     "output_type": "stream",
     "text": [
      "0 1 2 3 4 "
     ]
    },
    {
     "name": "stderr",
     "output_type": "stream",
     "text": [
      "\u001b[32m[I 2023-02-10 22:41:34,065]\u001b[0m Trial 13 finished with value: 0.5000986773029089 and parameters: {'max_depth': 9, 'learning_rate': 0.01680974218282238, 'n_estimators': 5552, 'gamma': 9.912345617539474, 'min_child_weight': 39, 'colsample_bytree': 0.546770457293588, 'subsample': 0.5699000770532354}. Best is trial 11 with value: 0.5184565585768957.\u001b[0m\n"
     ]
    },
    {
     "name": "stdout",
     "output_type": "stream",
     "text": [
      "0 1 2 3 4 "
     ]
    },
    {
     "name": "stderr",
     "output_type": "stream",
     "text": [
      "\u001b[32m[I 2023-02-10 22:42:02,281]\u001b[0m Trial 14 finished with value: 0.4975244805726028 and parameters: {'max_depth': 10, 'learning_rate': 0.00917835547787775, 'n_estimators': 7667, 'gamma': 6.575093342271553, 'min_child_weight': 70, 'colsample_bytree': 0.21506434858838508, 'subsample': 0.7193419500205754}. Best is trial 11 with value: 0.5184565585768957.\u001b[0m\n"
     ]
    },
    {
     "name": "stdout",
     "output_type": "stream",
     "text": [
      "0 1 2 3 4 "
     ]
    },
    {
     "name": "stderr",
     "output_type": "stream",
     "text": [
      "\u001b[32m[I 2023-02-10 22:42:26,877]\u001b[0m Trial 15 finished with value: 0.4992809484430637 and parameters: {'max_depth': 9, 'learning_rate': 0.042488994685392856, 'n_estimators': 2870, 'gamma': 5.220545897523185, 'min_child_weight': 97, 'colsample_bytree': 0.3871677966221289, 'subsample': 0.8964213963741594}. Best is trial 11 with value: 0.5184565585768957.\u001b[0m\n"
     ]
    },
    {
     "name": "stdout",
     "output_type": "stream",
     "text": [
      "0 1 2 3 4 "
     ]
    },
    {
     "name": "stderr",
     "output_type": "stream",
     "text": [
      "\u001b[32m[I 2023-02-10 22:42:53,714]\u001b[0m Trial 16 finished with value: 0.4780850957169139 and parameters: {'max_depth': 2, 'learning_rate': 0.009778123144556616, 'n_estimators': 5051, 'gamma': 2.9807318555658995, 'min_child_weight': 37, 'colsample_bytree': 0.20157218116970307, 'subsample': 0.5476478446492431}. Best is trial 11 with value: 0.5184565585768957.\u001b[0m\n"
     ]
    },
    {
     "name": "stdout",
     "output_type": "stream",
     "text": [
      "0 1 2 3 4 "
     ]
    },
    {
     "name": "stderr",
     "output_type": "stream",
     "text": [
      "\u001b[32m[I 2023-02-10 22:43:27,840]\u001b[0m Trial 17 finished with value: 0.4977419063185719 and parameters: {'max_depth': 9, 'learning_rate': 0.0010148139960668241, 'n_estimators': 3686, 'gamma': 7.245969709396394, 'min_child_weight': 62, 'colsample_bytree': 0.3627577664795843, 'subsample': 0.6540680025387737}. Best is trial 11 with value: 0.5184565585768957.\u001b[0m\n"
     ]
    },
    {
     "name": "stdout",
     "output_type": "stream",
     "text": [
      "0 1 2 3 4 "
     ]
    },
    {
     "name": "stderr",
     "output_type": "stream",
     "text": [
      "\u001b[32m[I 2023-02-10 22:44:02,996]\u001b[0m Trial 18 finished with value: 0.47172298742819885 and parameters: {'max_depth': 7, 'learning_rate': 0.008444237104719993, 'n_estimators': 7702, 'gamma': 5.11160037734251, 'min_child_weight': 85, 'colsample_bytree': 0.5244529743694886, 'subsample': 0.5602254754117071}. Best is trial 11 with value: 0.5184565585768957.\u001b[0m\n"
     ]
    },
    {
     "name": "stdout",
     "output_type": "stream",
     "text": [
      "0 1 2 3 4 "
     ]
    },
    {
     "name": "stderr",
     "output_type": "stream",
     "text": [
      "\u001b[32m[I 2023-02-10 22:44:27,516]\u001b[0m Trial 19 finished with value: 0.5124744707542727 and parameters: {'max_depth': 8, 'learning_rate': 0.00011749241751862547, 'n_estimators': 5899, 'gamma': 7.760298649344389, 'min_child_weight': 28, 'colsample_bytree': 0.4711966590396841, 'subsample': 0.7310956643217268}. Best is trial 11 with value: 0.5184565585768957.\u001b[0m\n"
     ]
    },
    {
     "name": "stdout",
     "output_type": "stream",
     "text": [
      "0 1 2 3 4 "
     ]
    },
    {
     "name": "stderr",
     "output_type": "stream",
     "text": [
      "\u001b[32m[I 2023-02-10 22:45:05,770]\u001b[0m Trial 20 finished with value: 0.4741291117455906 and parameters: {'max_depth': 8, 'learning_rate': 0.00012181294412794624, 'n_estimators': 8421, 'gamma': 8.022054322772922, 'min_child_weight': 26, 'colsample_bytree': 0.6270379280037864, 'subsample': 0.7412316613593729}. Best is trial 11 with value: 0.5184565585768957.\u001b[0m\n"
     ]
    },
    {
     "name": "stdout",
     "output_type": "stream",
     "text": [
      "0 1 2 3 4 "
     ]
    },
    {
     "name": "stderr",
     "output_type": "stream",
     "text": [
      "\u001b[32m[I 2023-02-10 22:45:37,725]\u001b[0m Trial 21 finished with value: 0.5124080957997311 and parameters: {'max_depth': 10, 'learning_rate': 0.0011942590537039948, 'n_estimators': 5755, 'gamma': 6.650285885910914, 'min_child_weight': 46, 'colsample_bytree': 0.452834845206787, 'subsample': 0.6638053823461725}. Best is trial 11 with value: 0.5184565585768957.\u001b[0m\n"
     ]
    },
    {
     "name": "stdout",
     "output_type": "stream",
     "text": [
      "0 1 2 3 4 "
     ]
    },
    {
     "name": "stderr",
     "output_type": "stream",
     "text": [
      "\u001b[32m[I 2023-02-10 22:46:13,302]\u001b[0m Trial 22 finished with value: 0.5102385346243988 and parameters: {'max_depth': 9, 'learning_rate': 0.000708615771285717, 'n_estimators': 6900, 'gamma': 6.711450321088015, 'min_child_weight': 47, 'colsample_bytree': 0.4291315289834709, 'subsample': 0.6732779891235292}. Best is trial 11 with value: 0.5184565585768957.\u001b[0m\n"
     ]
    },
    {
     "name": "stdout",
     "output_type": "stream",
     "text": [
      "0 1 2 3 4 "
     ]
    },
    {
     "name": "stderr",
     "output_type": "stream",
     "text": [
      "\u001b[32m[I 2023-02-10 22:46:43,110]\u001b[0m Trial 23 finished with value: 0.4844045313801025 and parameters: {'max_depth': 8, 'learning_rate': 0.00010099045064476907, 'n_estimators': 5890, 'gamma': 8.026718467513229, 'min_child_weight': 26, 'colsample_bytree': 0.3697001602614729, 'subsample': 0.7522554252158494}. Best is trial 11 with value: 0.5184565585768957.\u001b[0m\n"
     ]
    },
    {
     "name": "stdout",
     "output_type": "stream",
     "text": [
      "0 1 2 3 4 "
     ]
    },
    {
     "name": "stderr",
     "output_type": "stream",
     "text": [
      "\u001b[32m[I 2023-02-10 22:47:22,186]\u001b[0m Trial 24 finished with value: 0.5047531777094006 and parameters: {'max_depth': 6, 'learning_rate': 0.0012295897591771958, 'n_estimators': 7269, 'gamma': 5.971341962271174, 'min_child_weight': 45, 'colsample_bytree': 0.5048422078136819, 'subsample': 0.6461761663036059}. Best is trial 11 with value: 0.5184565585768957.\u001b[0m\n"
     ]
    },
    {
     "name": "stdout",
     "output_type": "stream",
     "text": [
      "0 1 2 3 4 "
     ]
    },
    {
     "name": "stderr",
     "output_type": "stream",
     "text": [
      "\u001b[32m[I 2023-02-10 22:47:53,744]\u001b[0m Trial 25 finished with value: 0.4842725579575509 and parameters: {'max_depth': 9, 'learning_rate': 0.0005146660477107125, 'n_estimators': 3809, 'gamma': 7.057056841970578, 'min_child_weight': 31, 'colsample_bytree': 0.4536871650916575, 'subsample': 0.6968820422406694}. Best is trial 11 with value: 0.5184565585768957.\u001b[0m\n"
     ]
    },
    {
     "name": "stdout",
     "output_type": "stream",
     "text": [
      "0 1 2 3 4 "
     ]
    },
    {
     "name": "stderr",
     "output_type": "stream",
     "text": [
      "\u001b[32m[I 2023-02-10 22:48:16,189]\u001b[0m Trial 26 finished with value: 0.5021825547205814 and parameters: {'max_depth': 10, 'learning_rate': 0.0014390969981724652, 'n_estimators': 5631, 'gamma': 8.422829464186188, 'min_child_weight': 18, 'colsample_bytree': 0.3238585578044931, 'subsample': 0.7917565046732233}. Best is trial 11 with value: 0.5184565585768957.\u001b[0m\n"
     ]
    },
    {
     "name": "stdout",
     "output_type": "stream",
     "text": [
      "0 1 2 3 4 "
     ]
    },
    {
     "name": "stderr",
     "output_type": "stream",
     "text": [
      "\u001b[32m[I 2023-02-10 22:48:45,995]\u001b[0m Trial 27 finished with value: 0.5131492538875297 and parameters: {'max_depth': 9, 'learning_rate': 0.0024672693689749546, 'n_estimators': 5913, 'gamma': 7.365911358169399, 'min_child_weight': 64, 'colsample_bytree': 0.415834317673975, 'subsample': 0.615694944274483}. Best is trial 11 with value: 0.5184565585768957.\u001b[0m\n"
     ]
    },
    {
     "name": "stdout",
     "output_type": "stream",
     "text": [
      "0 1 2 3 4 "
     ]
    },
    {
     "name": "stderr",
     "output_type": "stream",
     "text": [
      "\u001b[32m[I 2023-02-10 22:49:20,660]\u001b[0m Trial 28 finished with value: 0.526084189524658 and parameters: {'max_depth': 6, 'learning_rate': 0.00280461514932476, 'n_estimators': 8829, 'gamma': 9.10353138054341, 'min_child_weight': 64, 'colsample_bytree': 0.25610471492920833, 'subsample': 0.6109294338977546}. Best is trial 28 with value: 0.526084189524658.\u001b[0m\n"
     ]
    },
    {
     "name": "stdout",
     "output_type": "stream",
     "text": [
      "0 1 2 3 4 "
     ]
    },
    {
     "name": "stderr",
     "output_type": "stream",
     "text": [
      "\u001b[32m[I 2023-02-10 22:49:51,931]\u001b[0m Trial 29 finished with value: 0.5110438311675342 and parameters: {'max_depth': 6, 'learning_rate': 0.002319346977961695, 'n_estimators': 9467, 'gamma': 9.19185827082188, 'min_child_weight': 63, 'colsample_bytree': 0.26376198387688854, 'subsample': 0.613717959662964}. Best is trial 28 with value: 0.526084189524658.\u001b[0m\n"
     ]
    },
    {
     "name": "stdout",
     "output_type": "stream",
     "text": [
      "0 1 2 3 4 "
     ]
    },
    {
     "name": "stderr",
     "output_type": "stream",
     "text": [
      "\u001b[32m[I 2023-02-10 22:50:25,079]\u001b[0m Trial 30 finished with value: 0.471611008768662 and parameters: {'max_depth': 7, 'learning_rate': 0.005253228451442322, 'n_estimators': 8634, 'gamma': 9.389571177093092, 'min_child_weight': 70, 'colsample_bytree': 0.25425277311963057, 'subsample': 0.6126069164825733}. Best is trial 28 with value: 0.526084189524658.\u001b[0m\n"
     ]
    },
    {
     "name": "stdout",
     "output_type": "stream",
     "text": [
      "0 1 2 3 4 "
     ]
    },
    {
     "name": "stderr",
     "output_type": "stream",
     "text": [
      "\u001b[32m[I 2023-02-10 22:50:53,012]\u001b[0m Trial 31 finished with value: 0.4902423015651432 and parameters: {'max_depth': 7, 'learning_rate': 0.0023099098646266747, 'n_estimators': 6998, 'gamma': 7.774598217229545, 'min_child_weight': 55, 'colsample_bytree': 0.31758789004414323, 'subsample': 0.5292101562706857}. Best is trial 28 with value: 0.526084189524658.\u001b[0m\n"
     ]
    },
    {
     "name": "stdout",
     "output_type": "stream",
     "text": [
      "0 1 2 3 "
     ]
    }
   ],
   "source": [
    "study = optuna.create_study(direction = 'maximize')\n",
    "study.optimize(objective, n_trials = 50, timeout = 3600)"
   ]
  },
  {
   "cell_type": "code",
   "execution_count": 22,
   "id": "baf83d47",
   "metadata": {},
   "outputs": [
    {
     "data": {
      "text/plain": [
       "0.5278961906556633"
      ]
     },
     "execution_count": 22,
     "metadata": {},
     "output_type": "execute_result"
    }
   ],
   "source": [
    "study.best_trial.value"
   ]
  },
  {
   "cell_type": "code",
   "execution_count": 23,
   "id": "55bec1a9",
   "metadata": {},
   "outputs": [
    {
     "data": {
      "text/plain": [
       "{'max_depth': 6,\n",
       " 'learning_rate': 0.0028042860282173395,\n",
       " 'n_estimators': 7187,\n",
       " 'gamma': 8.827628724839752,\n",
       " 'min_child_weight': 34,\n",
       " 'colsample_bytree': 0.584892625203338,\n",
       " 'subsample': 0.8784803193789038}"
      ]
     },
     "execution_count": 23,
     "metadata": {},
     "output_type": "execute_result"
    }
   ],
   "source": [
    "study.best_trial.params"
   ]
  },
  {
   "cell_type": "markdown",
   "id": "1148391c",
   "metadata": {},
   "source": [
    "# XGBoost Modeling"
   ]
  },
  {
   "cell_type": "code",
   "execution_count": 5,
   "id": "7aa6c91c",
   "metadata": {},
   "outputs": [
    {
     "name": "stdout",
     "output_type": "stream",
     "text": [
      "The average roc-auc score over 5-folds (run 5 times) is: 0.5494279295059983\n"
     ]
    }
   ],
   "source": [
    "XGB_cv_scores, XGB_imp = list(), list()\n",
    "preds = list()\n",
    "\n",
    "## Running 5 times CV\n",
    "# for i in range(5):\n",
    "    \n",
    "#     skf = StratifiedKFold(n_splits = 5, random_state = 40, shuffle = True)\n",
    "skf = KFold(n_splits = 5, random_state = 42, shuffle = True)\n",
    "    \n",
    "for train_ix, test_ix in skf.split(X, Y):\n",
    "        \n",
    "    ## Splitting the data \n",
    "    X_train, X_test = X.iloc[train_ix], X.iloc[test_ix]\n",
    "    Y_train, Y_test = Y.iloc[train_ix], Y.iloc[test_ix]\n",
    "                \n",
    "    ## Building RF model\n",
    "    XGB_md = XGBRegressor(tree_method = 'hist',\n",
    "                              colsample_bytree = 0.25610471492920833, \n",
    "                              gamma = 9.10353138054341, \n",
    "                              learning_rate = 0.00280461514932476, \n",
    "                              max_depth = 6, \n",
    "                              min_child_weight = 64, \n",
    "                              n_estimators = 8829, \n",
    "                              subsample = 0.6109294338977546, \n",
    "                              random_state = 42).fit(X_train, Y_train)\n",
    "\n",
    "#     XGB_md = XGBRegressor(tree_method = 'hist',\n",
    "#                               colsample_bytree = 0.3159, \n",
    "#                               gamma = 5.3427, \n",
    "#                               learning_rate = 0.02, \n",
    "#                               max_depth = 5, \n",
    "#                               min_child_weight = 21, \n",
    "#                               n_estimators = 3116, \n",
    "#                               subsample = 0.59327, \n",
    "#                               random_state = 42).fit(X_train, Y_train)\n",
    "    XGB_imp.append(XGB_md.feature_importances_)\n",
    "        \n",
    "    ## Predicting on X_test and test\n",
    "    XGB_pred_train = XGB_md.predict(X_train)\n",
    "    XGB_pred_1 = XGB_md.predict(X_test)\n",
    "    XGB_pred_2 = XGB_md.predict(test_md)\n",
    "        \n",
    "    ## Applying Optimal Rounder (using abhishek approach)\n",
    "    optR = OptimizedRounder()\n",
    "#     optR.fit(XGB_pred_1, Y_test)\n",
    "    optR.fit(XGB_pred_train, Y_train)\n",
    "    coef = optR.coefficients()\n",
    "    XGB_pred_1 = optR.predict(XGB_pred_1, coef).astype(int)\n",
    "    XGB_pred_2 = optR.predict(XGB_pred_2, coef).astype(int)\n",
    "        \n",
    "    ## Computing roc-auc score\n",
    "    XGB_cv_scores.append(cohen_kappa_score(Y_test, XGB_pred_1, weights = 'quadratic'))\n",
    "    preds.append(XGB_pred_2)\n",
    "\n",
    "XGB_cv_score = np.mean(XGB_cv_scores)    \n",
    "print('The average roc-auc score over 5-folds (run 5 times) is:', XGB_cv_score)"
   ]
  },
  {
   "cell_type": "code",
   "execution_count": 9,
   "id": "5ac88af4",
   "metadata": {},
   "outputs": [
    {
     "data": {
      "text/html": [
       "<div>\n",
       "<style scoped>\n",
       "    .dataframe tbody tr th:only-of-type {\n",
       "        vertical-align: middle;\n",
       "    }\n",
       "\n",
       "    .dataframe tbody tr th {\n",
       "        vertical-align: top;\n",
       "    }\n",
       "\n",
       "    .dataframe thead th {\n",
       "        text-align: right;\n",
       "    }\n",
       "</style>\n",
       "<table border=\"1\" class=\"dataframe\">\n",
       "  <thead>\n",
       "    <tr style=\"text-align: right;\">\n",
       "      <th></th>\n",
       "      <th>Id</th>\n",
       "      <th>quality</th>\n",
       "    </tr>\n",
       "  </thead>\n",
       "  <tbody>\n",
       "    <tr>\n",
       "      <th>0</th>\n",
       "      <td>2056</td>\n",
       "      <td>5</td>\n",
       "    </tr>\n",
       "    <tr>\n",
       "      <th>1</th>\n",
       "      <td>2057</td>\n",
       "      <td>6</td>\n",
       "    </tr>\n",
       "    <tr>\n",
       "      <th>2</th>\n",
       "      <td>2058</td>\n",
       "      <td>5</td>\n",
       "    </tr>\n",
       "    <tr>\n",
       "      <th>3</th>\n",
       "      <td>2059</td>\n",
       "      <td>6</td>\n",
       "    </tr>\n",
       "    <tr>\n",
       "      <th>4</th>\n",
       "      <td>2060</td>\n",
       "      <td>6</td>\n",
       "    </tr>\n",
       "  </tbody>\n",
       "</table>\n",
       "</div>"
      ],
      "text/plain": [
       "     Id  quality\n",
       "0  2056        5\n",
       "1  2057        6\n",
       "2  2058        5\n",
       "3  2059        6\n",
       "4  2060        6"
      ]
     },
     "execution_count": 9,
     "metadata": {},
     "output_type": "execute_result"
    }
   ],
   "source": [
    "XGB_preds_test = pd.DataFrame(preds).mode(axis = 0).loc[0, ]\n",
    "\n",
    "submission['quality'] = XGB_preds_test.astype(int)\n",
    "submission.head()"
   ]
  },
  {
   "cell_type": "code",
   "execution_count": 10,
   "id": "3d1d9113",
   "metadata": {},
   "outputs": [
    {
     "data": {
      "text/plain": [
       "5    668\n",
       "6    377\n",
       "7    327\n",
       "Name: quality, dtype: int64"
      ]
     },
     "execution_count": 10,
     "metadata": {},
     "output_type": "execute_result"
    }
   ],
   "source": [
    "submission['quality'].value_counts()"
   ]
  },
  {
   "cell_type": "code",
   "execution_count": 11,
   "id": "a853d23d",
   "metadata": {},
   "outputs": [],
   "source": [
    "submission.to_csv('XGB_Reg_FE_12.csv', index = False)"
   ]
  },
  {
   "cell_type": "code",
   "execution_count": 26,
   "id": "b21480bb",
   "metadata": {},
   "outputs": [
    {
     "data": {
      "text/plain": [
       "5    622\n",
       "6    435\n",
       "7    315\n",
       "Name: quality, dtype: int64"
      ]
     },
     "execution_count": 26,
     "metadata": {},
     "output_type": "execute_result"
    }
   ],
   "source": [
    "submission['quality'].value_counts()"
   ]
  },
  {
   "cell_type": "code",
   "execution_count": 17,
   "id": "62a94d2c",
   "metadata": {},
   "outputs": [
    {
     "data": {
      "text/plain": [
       "5    618\n",
       "6    440\n",
       "7    314\n",
       "Name: quality, dtype: int64"
      ]
     },
     "execution_count": 17,
     "metadata": {},
     "output_type": "execute_result"
    }
   ],
   "source": [
    "submission['quality'].value_counts()"
   ]
  },
  {
   "cell_type": "code",
   "execution_count": 6,
   "id": "d6f1d01e",
   "metadata": {},
   "outputs": [
    {
     "data": {
      "text/plain": [
       "5    603\n",
       "6    442\n",
       "7    327\n",
       "Name: quality, dtype: int64"
      ]
     },
     "execution_count": 6,
     "metadata": {},
     "output_type": "execute_result"
    }
   ],
   "source": [
    "submission['quality'].value_counts()"
   ]
  },
  {
   "cell_type": "code",
   "execution_count": 28,
   "id": "efbe36e5",
   "metadata": {},
   "outputs": [],
   "source": [
    "# submission.to_csv('XGB_Reg_FE_4.csv', index = False)"
   ]
  },
  {
   "cell_type": "code",
   "execution_count": 12,
   "id": "b820c289",
   "metadata": {},
   "outputs": [
    {
     "data": {
      "text/html": [
       "<div>\n",
       "<style scoped>\n",
       "    .dataframe tbody tr th:only-of-type {\n",
       "        vertical-align: middle;\n",
       "    }\n",
       "\n",
       "    .dataframe tbody tr th {\n",
       "        vertical-align: top;\n",
       "    }\n",
       "\n",
       "    .dataframe thead th {\n",
       "        text-align: right;\n",
       "    }\n",
       "</style>\n",
       "<table border=\"1\" class=\"dataframe\">\n",
       "  <thead>\n",
       "    <tr style=\"text-align: right;\">\n",
       "      <th></th>\n",
       "      <th>Id</th>\n",
       "      <th>quality</th>\n",
       "    </tr>\n",
       "  </thead>\n",
       "  <tbody>\n",
       "    <tr>\n",
       "      <th>0</th>\n",
       "      <td>2056</td>\n",
       "      <td>5</td>\n",
       "    </tr>\n",
       "    <tr>\n",
       "      <th>1</th>\n",
       "      <td>2057</td>\n",
       "      <td>6</td>\n",
       "    </tr>\n",
       "    <tr>\n",
       "      <th>2</th>\n",
       "      <td>2058</td>\n",
       "      <td>5</td>\n",
       "    </tr>\n",
       "    <tr>\n",
       "      <th>3</th>\n",
       "      <td>2059</td>\n",
       "      <td>6</td>\n",
       "    </tr>\n",
       "    <tr>\n",
       "      <th>4</th>\n",
       "      <td>2060</td>\n",
       "      <td>6</td>\n",
       "    </tr>\n",
       "  </tbody>\n",
       "</table>\n",
       "</div>"
      ],
      "text/plain": [
       "     Id  quality\n",
       "0  2056        5\n",
       "1  2057        6\n",
       "2  2058        5\n",
       "3  2059        6\n",
       "4  2060        6"
      ]
     },
     "execution_count": 12,
     "metadata": {},
     "output_type": "execute_result"
    }
   ],
   "source": [
    "## Building RF model\n",
    "XGB_md = XGBRegressor(tree_method = 'hist',\n",
    "                      colsample_bytree = 0.3159, \n",
    "                      gamma = 5.3427, \n",
    "                      learning_rate = 0.02, \n",
    "                      max_depth = 5, \n",
    "                      min_child_weight = 21, \n",
    "                      n_estimators = 3116, \n",
    "                      subsample = 0.59327, \n",
    "                      random_state = 42).fit(X, Y)\n",
    "\n",
    "XGB_train = XGB_md.predict(X)\n",
    "XGB_pred = XGB_md.predict(test_md)\n",
    "\n",
    "optR = OptimizedRounder()\n",
    "optR.fit(XGB_train, Y)\n",
    "coef = optR.coefficients()\n",
    "XGB_pred = optR.predict(XGB_pred, coef).astype(int)\n",
    "\n",
    "submission['quality'] = XGB_pred.astype(int)\n",
    "submission.head()"
   ]
  },
  {
   "cell_type": "code",
   "execution_count": 13,
   "id": "61b95015",
   "metadata": {},
   "outputs": [
    {
     "data": {
      "text/plain": [
       "5    545\n",
       "6    505\n",
       "7    322\n",
       "Name: quality, dtype: int64"
      ]
     },
     "execution_count": 13,
     "metadata": {},
     "output_type": "execute_result"
    }
   ],
   "source": [
    "submission['quality'].value_counts()"
   ]
  },
  {
   "cell_type": "code",
   "execution_count": 14,
   "id": "680ae6f0",
   "metadata": {},
   "outputs": [],
   "source": [
    "submission.to_csv('XGB_Reg_full_FE_02_10_2023_1.csv', index = False)"
   ]
  }
 ],
 "metadata": {
  "kernelspec": {
   "display_name": "conda_python3",
   "language": "python",
   "name": "conda_python3"
  },
  "language_info": {
   "codemirror_mode": {
    "name": "ipython",
    "version": 3
   },
   "file_extension": ".py",
   "mimetype": "text/x-python",
   "name": "python",
   "nbconvert_exporter": "python",
   "pygments_lexer": "ipython3",
   "version": "3.10.6"
  }
 },
 "nbformat": 4,
 "nbformat_minor": 5
}
