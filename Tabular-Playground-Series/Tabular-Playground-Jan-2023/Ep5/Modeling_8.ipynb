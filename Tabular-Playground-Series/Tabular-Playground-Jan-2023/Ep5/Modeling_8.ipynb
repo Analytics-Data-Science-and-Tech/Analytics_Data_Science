{
 "cells": [
  {
   "cell_type": "code",
   "execution_count": 24,
   "id": "75469dfa",
   "metadata": {},
   "outputs": [
    {
     "name": "stdout",
     "output_type": "stream",
     "text": [
      "Looking in indexes: https://pypi.org/simple, https://pip.repos.neuron.amazonaws.com\n",
      "Requirement already satisfied: lightgbm in /home/ec2-user/anaconda3/envs/python3/lib/python3.10/site-packages (3.3.5)\n",
      "Requirement already satisfied: optuna in /home/ec2-user/anaconda3/envs/python3/lib/python3.10/site-packages (3.1.0)\n",
      "Requirement already satisfied: numpy in /home/ec2-user/anaconda3/envs/python3/lib/python3.10/site-packages (from lightgbm) (1.22.4)\n",
      "Requirement already satisfied: scipy in /home/ec2-user/anaconda3/envs/python3/lib/python3.10/site-packages (from lightgbm) (1.9.3)\n",
      "Requirement already satisfied: scikit-learn!=0.22.0 in /home/ec2-user/anaconda3/envs/python3/lib/python3.10/site-packages (from lightgbm) (1.1.3)\n",
      "Requirement already satisfied: wheel in /home/ec2-user/anaconda3/envs/python3/lib/python3.10/site-packages (from lightgbm) (0.37.1)\n",
      "Requirement already satisfied: colorlog in /home/ec2-user/anaconda3/envs/python3/lib/python3.10/site-packages (from optuna) (6.7.0)\n",
      "Requirement already satisfied: tqdm in /home/ec2-user/anaconda3/envs/python3/lib/python3.10/site-packages (from optuna) (4.64.1)\n",
      "Requirement already satisfied: cmaes>=0.9.1 in /home/ec2-user/anaconda3/envs/python3/lib/python3.10/site-packages (from optuna) (0.9.1)\n",
      "Requirement already satisfied: sqlalchemy>=1.3.0 in /home/ec2-user/anaconda3/envs/python3/lib/python3.10/site-packages (from optuna) (1.4.42)\n",
      "Requirement already satisfied: alembic>=1.5.0 in /home/ec2-user/anaconda3/envs/python3/lib/python3.10/site-packages (from optuna) (1.9.2)\n",
      "Requirement already satisfied: PyYAML in /home/ec2-user/anaconda3/envs/python3/lib/python3.10/site-packages (from optuna) (5.4.1)\n",
      "Requirement already satisfied: packaging>=20.0 in /home/ec2-user/anaconda3/envs/python3/lib/python3.10/site-packages (from optuna) (21.3)\n",
      "Requirement already satisfied: Mako in /home/ec2-user/anaconda3/envs/python3/lib/python3.10/site-packages (from alembic>=1.5.0->optuna) (1.2.4)\n",
      "Requirement already satisfied: pyparsing!=3.0.5,>=2.0.2 in /home/ec2-user/anaconda3/envs/python3/lib/python3.10/site-packages (from packaging>=20.0->optuna) (3.0.9)\n",
      "Requirement already satisfied: threadpoolctl>=2.0.0 in /home/ec2-user/anaconda3/envs/python3/lib/python3.10/site-packages (from scikit-learn!=0.22.0->lightgbm) (3.1.0)\n",
      "Requirement already satisfied: joblib>=1.0.0 in /home/ec2-user/anaconda3/envs/python3/lib/python3.10/site-packages (from scikit-learn!=0.22.0->lightgbm) (1.2.0)\n",
      "Requirement already satisfied: greenlet!=0.4.17 in /home/ec2-user/anaconda3/envs/python3/lib/python3.10/site-packages (from sqlalchemy>=1.3.0->optuna) (1.1.3.post0)\n",
      "Requirement already satisfied: MarkupSafe>=0.9.2 in /home/ec2-user/anaconda3/envs/python3/lib/python3.10/site-packages (from Mako->alembic>=1.5.0->optuna) (2.1.1)\n",
      "Note: you may need to restart the kernel to use updated packages.\n"
     ]
    }
   ],
   "source": [
    "pip install lightgbm optuna"
   ]
  },
  {
   "cell_type": "code",
   "execution_count": 1,
   "id": "0a8a4bea",
   "metadata": {},
   "outputs": [],
   "source": [
    "import boto3\n",
    "import pandas as pd; pd.set_option('display.max_columns', 100)\n",
    "import numpy as np\n",
    "\n",
    "import matplotlib.pyplot as plt; plt.style.use('ggplot')\n",
    "import seaborn as sns\n",
    "\n",
    "from scipy.stats import rankdata\n",
    "from sklearn.cluster import KMeans\n",
    "from sklearn.multiclass import OneVsRestClassifier\n",
    "from sklearn.tree import DecisionTreeRegressor, DecisionTreeClassifier, plot_tree\n",
    "from sklearn.preprocessing import MinMaxScaler\n",
    "from sklearn.model_selection import KFold, train_test_split, GridSearchCV, StratifiedKFold, TimeSeriesSplit\n",
    "from sklearn.metrics import mean_squared_error, roc_auc_score, cohen_kappa_score, davies_bouldin_score, calinski_harabasz_score, silhouette_score\n",
    "from sklearn.neighbors import KNeighborsClassifier\n",
    "from sklearn.ensemble import RandomForestClassifier, HistGradientBoostingClassifier\n",
    "from sklearn.linear_model import LogisticRegression\n",
    "from lightgbm import LGBMClassifier, LGBMRegressor\n",
    "# from xgboost import XGBClassifier, XGBRegressor\n",
    "# from catboost import CatBoostClassifier\n",
    "\n",
    "import optuna \n",
    "\n",
    "s3 = boto3.resource('s3')\n",
    "bucket_name = 'analytics-data-science-competitions'\n",
    "bucket = s3.Bucket(bucket_name)\n",
    "\n",
    "file_key_1 = 'Tabular-Playground-Series/TS-S3-Ep5/train.csv'\n",
    "file_key_2 = 'Tabular-Playground-Series/TS-S3-Ep5/test.csv'\n",
    "file_key_3 = 'Tabular-Playground-Series/TS-S3-Ep5/sample_submission.csv'\n",
    "\n",
    "bucket_object_1 = bucket.Object(file_key_1)\n",
    "file_object_1 = bucket_object_1.get()\n",
    "file_content_stream_1 = file_object_1.get('Body')\n",
    "\n",
    "bucket_object_2 = bucket.Object(file_key_2)\n",
    "file_object_2 = bucket_object_2.get()\n",
    "file_content_stream_2 = file_object_2.get('Body')\n",
    "\n",
    "bucket_object_3 = bucket.Object(file_key_3)\n",
    "file_object_3 = bucket_object_3.get()\n",
    "file_content_stream_3 = file_object_3.get('Body')\n",
    "\n",
    "## Reading data files\n",
    "train = pd.read_csv(file_content_stream_1)\n",
    "test = pd.read_csv(file_content_stream_2)\n",
    "submission = pd.read_csv(file_content_stream_3)\n",
    "\n",
    "## Enginering features\n",
    "train['alcohol_density'] = train['alcohol'] * train['density']\n",
    "train['sulphate/density'] = train['sulphates']  / train['density']\n",
    "train['alcohol_sulphate'] = train['alcohol'] * train['sulphates']\n",
    "\n",
    "test['alcohol_density'] = test['alcohol']  * test['density']\n",
    "test['sulphate/density'] = test['sulphates']  / test['density']\n",
    "test['alcohol_sulphate'] = test['alcohol'] * test['sulphates']\n",
    "\n",
    "test_md = test.copy()\n",
    "\n",
    "X = train[['sulphate/density', 'alcohol_density', 'alcohol', 'sulphates']]\n",
    "Y = train['quality'] \n",
    "\n",
    "test_md = test_md[['sulphate/density', 'alcohol_density', 'alcohol', 'sulphates']]"
   ]
  },
  {
   "cell_type": "markdown",
   "id": "fc1bd58c",
   "metadata": {},
   "source": [
    "# Optimal Rounder"
   ]
  },
  {
   "cell_type": "code",
   "execution_count": 2,
   "id": "9c6b449f",
   "metadata": {},
   "outputs": [],
   "source": [
    "from functools import partial\n",
    "import numpy as np\n",
    "import scipy as sp\n",
    "\n",
    "class OptimizedRounder(object):\n",
    "    def __init__(self):\n",
    "        self.coef_ = 0\n",
    "\n",
    "    def _kappa_loss(self, coef, X, y):\n",
    "        X_p = np.copy(X)\n",
    "        for i, pred in enumerate(X_p):\n",
    "            if pred < coef[0]:\n",
    "                X_p[i] = 3\n",
    "            elif pred >= coef[0] and pred < coef[1]:\n",
    "                X_p[i] = 4\n",
    "            elif pred >= coef[1] and pred < coef[2]:\n",
    "                X_p[i] = 5\n",
    "            elif pred >= coef[2] and pred < coef[3]:\n",
    "                X_p[i] = 6\n",
    "            elif pred >= coef[3] and pred < coef[4]:\n",
    "                X_p[i] = 7\n",
    "            else:\n",
    "                X_p[i] = 8\n",
    "\n",
    "        ll = cohen_kappa_score(y, X_p, weights = 'quadratic')\n",
    "        return -ll\n",
    "\n",
    "    def fit(self, X, y):\n",
    "        loss_partial = partial(self._kappa_loss, X = X, y = y)\n",
    "        initial_coef = [3.5, 4.5, 5.5, 6.5, 7.5]\n",
    "        self.coef_ = sp.optimize.minimize(loss_partial, initial_coef, method = 'nelder-mead')\n",
    "\n",
    "    def predict(self, X, coef):\n",
    "        X_p = np.copy(X)\n",
    "        for i, pred in enumerate(X_p):\n",
    "            if pred < coef[0]:\n",
    "                X_p[i] = 3\n",
    "            elif pred >= coef[0] and pred < coef[1]:\n",
    "                X_p[i] = 4\n",
    "            elif pred >= coef[1] and pred < coef[2]:\n",
    "                X_p[i] = 5\n",
    "            elif pred >= coef[2] and pred < coef[3]:\n",
    "                X_p[i] = 6\n",
    "            elif pred >= coef[3] and pred < coef[4]:\n",
    "                X_p[i] = 7\n",
    "            else:\n",
    "                X_p[i] = 8\n",
    "        return X_p\n",
    "\n",
    "    def coefficients(self):\n",
    "        return self.coef_['x']"
   ]
  },
  {
   "cell_type": "markdown",
   "id": "6b9e9cc9",
   "metadata": {},
   "source": [
    "# Optuna Optimzation"
   ]
  },
  {
   "cell_type": "code",
   "execution_count": 3,
   "id": "ca799ac1",
   "metadata": {},
   "outputs": [],
   "source": [
    "def objective(trial):\n",
    "    \n",
    "    ## Parameters to be evaluated\n",
    "    param = dict(objective = 'regression_l1',\n",
    "                 verbose = -100,\n",
    "                 boosting_type = 'gbdt', \n",
    "                 random_state = 42,\n",
    "                 n_estimators = trial.suggest_int('n_estimators', 300, 10000),\n",
    "                 learning_rate = trial.suggest_float('learning_rate', 0.001, 1, log=True),\n",
    "                 max_depth = trial.suggest_int('max_depth', 3, 12),\n",
    "                 lambda_l1 = trial.suggest_float('lambda_l1', 0.01, 10.0, log=True),\n",
    "                 lambda_l2 = trial.suggest_float('lambda_l2', 0.01, 10.0, log=True),\n",
    "                 num_leaves = trial.suggest_int('num_leaves', 2, 100),\n",
    "                 bagging_fraction = trial.suggest_float('bagging_fraction', 0.2, 0.9),\n",
    "                 feature_fraction = trial.suggest_float('feature_fraction', 0.2, 0.9)\n",
    "                 )\n",
    "\n",
    "    \n",
    "    scores = []\n",
    "\n",
    "#     skf = StratifiedKFold(n_splits = 5, shuffle = True, random_state = 42)\n",
    "    skf = KFold(n_splits = 5, shuffle = True, random_state = 42)\n",
    "    \n",
    "    for fold, (train_idx, valid_idx) in enumerate(skf.split(X, Y)):\n",
    "        \n",
    "        print(fold, end = ' ')\n",
    "        X_train, X_valid = X.iloc[train_idx], X.iloc[valid_idx]\n",
    "        y_train , y_valid = Y.iloc[train_idx] , Y.iloc[valid_idx]\n",
    "\n",
    "        model = LGBMRegressor(**param)\n",
    "        model.fit(X_train, y_train)\n",
    "\n",
    "        preds_valid = model.predict(X_valid)\n",
    "        \n",
    "        optR = OptimizedRounder()\n",
    "        optR.fit(preds_valid, y_valid)\n",
    "        coef = optR.coefficients()\n",
    "        preds_valid = optR.predict(preds_valid, coef).astype(int)\n",
    "        \n",
    "        score = cohen_kappa_score(y_valid,  preds_valid, weights = \"quadratic\")\n",
    "        scores.append(score)\n",
    "        \n",
    "    return np.mean(scores)"
   ]
  },
  {
   "cell_type": "code",
   "execution_count": 28,
   "id": "025fb35c",
   "metadata": {},
   "outputs": [
    {
     "name": "stderr",
     "output_type": "stream",
     "text": [
      "\u001b[32m[I 2023-02-06 20:53:22,549]\u001b[0m A new study created in memory with name: no-name-105458ed-b7b8-4a45-8d60-972b8c18b1b0\u001b[0m\n"
     ]
    },
    {
     "name": "stdout",
     "output_type": "stream",
     "text": [
      "0 [LightGBM] [Warning] lambda_l1 is set=0.38218629383871416, reg_alpha=0.0 will be ignored. Current value: lambda_l1=0.38218629383871416\n",
      "[LightGBM] [Warning] bagging_fraction is set=0.3319118604868666, subsample=1.0 will be ignored. Current value: bagging_fraction=0.3319118604868666\n",
      "[LightGBM] [Warning] feature_fraction is set=0.7672166744399376, colsample_bytree=1.0 will be ignored. Current value: feature_fraction=0.7672166744399376\n",
      "[LightGBM] [Warning] lambda_l2 is set=0.027010052172435354, reg_lambda=0.0 will be ignored. Current value: lambda_l2=0.027010052172435354\n",
      "1 [LightGBM] [Warning] lambda_l1 is set=0.38218629383871416, reg_alpha=0.0 will be ignored. Current value: lambda_l1=0.38218629383871416\n",
      "[LightGBM] [Warning] bagging_fraction is set=0.3319118604868666, subsample=1.0 will be ignored. Current value: bagging_fraction=0.3319118604868666\n",
      "[LightGBM] [Warning] feature_fraction is set=0.7672166744399376, colsample_bytree=1.0 will be ignored. Current value: feature_fraction=0.7672166744399376\n",
      "[LightGBM] [Warning] lambda_l2 is set=0.027010052172435354, reg_lambda=0.0 will be ignored. Current value: lambda_l2=0.027010052172435354\n",
      "2 [LightGBM] [Warning] lambda_l1 is set=0.38218629383871416, reg_alpha=0.0 will be ignored. Current value: lambda_l1=0.38218629383871416\n",
      "[LightGBM] [Warning] bagging_fraction is set=0.3319118604868666, subsample=1.0 will be ignored. Current value: bagging_fraction=0.3319118604868666\n",
      "[LightGBM] [Warning] feature_fraction is set=0.7672166744399376, colsample_bytree=1.0 will be ignored. Current value: feature_fraction=0.7672166744399376\n",
      "[LightGBM] [Warning] lambda_l2 is set=0.027010052172435354, reg_lambda=0.0 will be ignored. Current value: lambda_l2=0.027010052172435354\n",
      "3 [LightGBM] [Warning] lambda_l1 is set=0.38218629383871416, reg_alpha=0.0 will be ignored. Current value: lambda_l1=0.38218629383871416\n",
      "[LightGBM] [Warning] bagging_fraction is set=0.3319118604868666, subsample=1.0 will be ignored. Current value: bagging_fraction=0.3319118604868666\n",
      "[LightGBM] [Warning] feature_fraction is set=0.7672166744399376, colsample_bytree=1.0 will be ignored. Current value: feature_fraction=0.7672166744399376\n",
      "[LightGBM] [Warning] lambda_l2 is set=0.027010052172435354, reg_lambda=0.0 will be ignored. Current value: lambda_l2=0.027010052172435354\n",
      "4 [LightGBM] [Warning] lambda_l1 is set=0.38218629383871416, reg_alpha=0.0 will be ignored. Current value: lambda_l1=0.38218629383871416\n",
      "[LightGBM] [Warning] bagging_fraction is set=0.3319118604868666, subsample=1.0 will be ignored. Current value: bagging_fraction=0.3319118604868666\n",
      "[LightGBM] [Warning] feature_fraction is set=0.7672166744399376, colsample_bytree=1.0 will be ignored. Current value: feature_fraction=0.7672166744399376\n",
      "[LightGBM] [Warning] lambda_l2 is set=0.027010052172435354, reg_lambda=0.0 will be ignored. Current value: lambda_l2=0.027010052172435354\n"
     ]
    },
    {
     "name": "stderr",
     "output_type": "stream",
     "text": [
      "\u001b[32m[I 2023-02-06 20:53:29,090]\u001b[0m Trial 0 finished with value: 0.3880404541003152 and parameters: {'n_estimators': 6968, 'learning_rate': 0.0030967402634097716, 'max_depth': 11, 'lambda_l1': 0.38218629383871416, 'lambda_l2': 0.027010052172435354, 'num_leaves': 2, 'bagging_fraction': 0.3319118604868666, 'feature_fraction': 0.7672166744399376}. Best is trial 0 with value: 0.3880404541003152.\u001b[0m\n"
     ]
    },
    {
     "name": "stdout",
     "output_type": "stream",
     "text": [
      "0 [LightGBM] [Warning] lambda_l1 is set=0.015170233035481328, reg_alpha=0.0 will be ignored. Current value: lambda_l1=0.015170233035481328\n",
      "[LightGBM] [Warning] bagging_fraction is set=0.5377442807200433, subsample=1.0 will be ignored. Current value: bagging_fraction=0.5377442807200433\n",
      "[LightGBM] [Warning] feature_fraction is set=0.703251472437088, colsample_bytree=1.0 will be ignored. Current value: feature_fraction=0.703251472437088\n",
      "[LightGBM] [Warning] lambda_l2 is set=1.253274261270629, reg_lambda=0.0 will be ignored. Current value: lambda_l2=1.253274261270629\n",
      "1 [LightGBM] [Warning] lambda_l1 is set=0.015170233035481328, reg_alpha=0.0 will be ignored. Current value: lambda_l1=0.015170233035481328\n",
      "[LightGBM] [Warning] bagging_fraction is set=0.5377442807200433, subsample=1.0 will be ignored. Current value: bagging_fraction=0.5377442807200433\n",
      "[LightGBM] [Warning] feature_fraction is set=0.703251472437088, colsample_bytree=1.0 will be ignored. Current value: feature_fraction=0.703251472437088\n",
      "[LightGBM] [Warning] lambda_l2 is set=1.253274261270629, reg_lambda=0.0 will be ignored. Current value: lambda_l2=1.253274261270629\n",
      "2 [LightGBM] [Warning] lambda_l1 is set=0.015170233035481328, reg_alpha=0.0 will be ignored. Current value: lambda_l1=0.015170233035481328\n",
      "[LightGBM] [Warning] bagging_fraction is set=0.5377442807200433, subsample=1.0 will be ignored. Current value: bagging_fraction=0.5377442807200433\n",
      "[LightGBM] [Warning] feature_fraction is set=0.703251472437088, colsample_bytree=1.0 will be ignored. Current value: feature_fraction=0.703251472437088\n",
      "[LightGBM] [Warning] lambda_l2 is set=1.253274261270629, reg_lambda=0.0 will be ignored. Current value: lambda_l2=1.253274261270629\n",
      "3 [LightGBM] [Warning] lambda_l1 is set=0.015170233035481328, reg_alpha=0.0 will be ignored. Current value: lambda_l1=0.015170233035481328\n",
      "[LightGBM] [Warning] bagging_fraction is set=0.5377442807200433, subsample=1.0 will be ignored. Current value: bagging_fraction=0.5377442807200433\n",
      "[LightGBM] [Warning] feature_fraction is set=0.703251472437088, colsample_bytree=1.0 will be ignored. Current value: feature_fraction=0.703251472437088\n",
      "[LightGBM] [Warning] lambda_l2 is set=1.253274261270629, reg_lambda=0.0 will be ignored. Current value: lambda_l2=1.253274261270629\n",
      "4 [LightGBM] [Warning] lambda_l1 is set=0.015170233035481328, reg_alpha=0.0 will be ignored. Current value: lambda_l1=0.015170233035481328\n",
      "[LightGBM] [Warning] bagging_fraction is set=0.5377442807200433, subsample=1.0 will be ignored. Current value: bagging_fraction=0.5377442807200433\n",
      "[LightGBM] [Warning] feature_fraction is set=0.703251472437088, colsample_bytree=1.0 will be ignored. Current value: feature_fraction=0.703251472437088\n",
      "[LightGBM] [Warning] lambda_l2 is set=1.253274261270629, reg_lambda=0.0 will be ignored. Current value: lambda_l2=1.253274261270629\n"
     ]
    },
    {
     "name": "stderr",
     "output_type": "stream",
     "text": [
      "\u001b[32m[I 2023-02-06 20:53:33,155]\u001b[0m Trial 1 finished with value: 0.5254418885456448 and parameters: {'n_estimators': 610, 'learning_rate': 0.32549346930959216, 'max_depth': 6, 'lambda_l1': 0.015170233035481328, 'lambda_l2': 1.253274261270629, 'num_leaves': 94, 'bagging_fraction': 0.5377442807200433, 'feature_fraction': 0.703251472437088}. Best is trial 1 with value: 0.5254418885456448.\u001b[0m\n"
     ]
    },
    {
     "name": "stdout",
     "output_type": "stream",
     "text": [
      "0 [LightGBM] [Warning] lambda_l1 is set=1.2551387582780704, reg_alpha=0.0 will be ignored. Current value: lambda_l1=1.2551387582780704\n",
      "[LightGBM] [Warning] bagging_fraction is set=0.8659700547350371, subsample=1.0 will be ignored. Current value: bagging_fraction=0.8659700547350371\n",
      "[LightGBM] [Warning] feature_fraction is set=0.2958456555563941, colsample_bytree=1.0 will be ignored. Current value: feature_fraction=0.2958456555563941\n",
      "[LightGBM] [Warning] lambda_l2 is set=9.67294376014615, reg_lambda=0.0 will be ignored. Current value: lambda_l2=9.67294376014615\n",
      "1 [LightGBM] [Warning] lambda_l1 is set=1.2551387582780704, reg_alpha=0.0 will be ignored. Current value: lambda_l1=1.2551387582780704\n",
      "[LightGBM] [Warning] bagging_fraction is set=0.8659700547350371, subsample=1.0 will be ignored. Current value: bagging_fraction=0.8659700547350371\n",
      "[LightGBM] [Warning] feature_fraction is set=0.2958456555563941, colsample_bytree=1.0 will be ignored. Current value: feature_fraction=0.2958456555563941\n",
      "[LightGBM] [Warning] lambda_l2 is set=9.67294376014615, reg_lambda=0.0 will be ignored. Current value: lambda_l2=9.67294376014615\n",
      "2 [LightGBM] [Warning] lambda_l1 is set=1.2551387582780704, reg_alpha=0.0 will be ignored. Current value: lambda_l1=1.2551387582780704\n",
      "[LightGBM] [Warning] bagging_fraction is set=0.8659700547350371, subsample=1.0 will be ignored. Current value: bagging_fraction=0.8659700547350371\n",
      "[LightGBM] [Warning] feature_fraction is set=0.2958456555563941, colsample_bytree=1.0 will be ignored. Current value: feature_fraction=0.2958456555563941\n",
      "[LightGBM] [Warning] lambda_l2 is set=9.67294376014615, reg_lambda=0.0 will be ignored. Current value: lambda_l2=9.67294376014615\n",
      "3 [LightGBM] [Warning] lambda_l1 is set=1.2551387582780704, reg_alpha=0.0 will be ignored. Current value: lambda_l1=1.2551387582780704\n",
      "[LightGBM] [Warning] bagging_fraction is set=0.8659700547350371, subsample=1.0 will be ignored. Current value: bagging_fraction=0.8659700547350371\n",
      "[LightGBM] [Warning] feature_fraction is set=0.2958456555563941, colsample_bytree=1.0 will be ignored. Current value: feature_fraction=0.2958456555563941\n",
      "[LightGBM] [Warning] lambda_l2 is set=9.67294376014615, reg_lambda=0.0 will be ignored. Current value: lambda_l2=9.67294376014615\n",
      "4 [LightGBM] [Warning] lambda_l1 is set=1.2551387582780704, reg_alpha=0.0 will be ignored. Current value: lambda_l1=1.2551387582780704\n",
      "[LightGBM] [Warning] bagging_fraction is set=0.8659700547350371, subsample=1.0 will be ignored. Current value: bagging_fraction=0.8659700547350371\n",
      "[LightGBM] [Warning] feature_fraction is set=0.2958456555563941, colsample_bytree=1.0 will be ignored. Current value: feature_fraction=0.2958456555563941\n",
      "[LightGBM] [Warning] lambda_l2 is set=9.67294376014615, reg_lambda=0.0 will be ignored. Current value: lambda_l2=9.67294376014615\n"
     ]
    },
    {
     "name": "stderr",
     "output_type": "stream",
     "text": [
      "\u001b[32m[I 2023-02-06 20:53:52,018]\u001b[0m Trial 2 finished with value: 0.5502906374368911 and parameters: {'n_estimators': 9418, 'learning_rate': 0.010448648763031115, 'max_depth': 8, 'lambda_l1': 1.2551387582780704, 'lambda_l2': 9.67294376014615, 'num_leaves': 15, 'bagging_fraction': 0.8659700547350371, 'feature_fraction': 0.2958456555563941}. Best is trial 2 with value: 0.5502906374368911.\u001b[0m\n"
     ]
    },
    {
     "name": "stdout",
     "output_type": "stream",
     "text": [
      "0 [LightGBM] [Warning] lambda_l1 is set=0.2618107952024081, reg_alpha=0.0 will be ignored. Current value: lambda_l1=0.2618107952024081\n",
      "[LightGBM] [Warning] bagging_fraction is set=0.6281663288880251, subsample=1.0 will be ignored. Current value: bagging_fraction=0.6281663288880251\n",
      "[LightGBM] [Warning] feature_fraction is set=0.670661848039721, colsample_bytree=1.0 will be ignored. Current value: feature_fraction=0.670661848039721\n",
      "[LightGBM] [Warning] lambda_l2 is set=0.12833804591143266, reg_lambda=0.0 will be ignored. Current value: lambda_l2=0.12833804591143266\n",
      "1 [LightGBM] [Warning] lambda_l1 is set=0.2618107952024081, reg_alpha=0.0 will be ignored. Current value: lambda_l1=0.2618107952024081\n",
      "[LightGBM] [Warning] bagging_fraction is set=0.6281663288880251, subsample=1.0 will be ignored. Current value: bagging_fraction=0.6281663288880251\n",
      "[LightGBM] [Warning] feature_fraction is set=0.670661848039721, colsample_bytree=1.0 will be ignored. Current value: feature_fraction=0.670661848039721\n",
      "[LightGBM] [Warning] lambda_l2 is set=0.12833804591143266, reg_lambda=0.0 will be ignored. Current value: lambda_l2=0.12833804591143266\n",
      "2 [LightGBM] [Warning] lambda_l1 is set=0.2618107952024081, reg_alpha=0.0 will be ignored. Current value: lambda_l1=0.2618107952024081\n",
      "[LightGBM] [Warning] bagging_fraction is set=0.6281663288880251, subsample=1.0 will be ignored. Current value: bagging_fraction=0.6281663288880251\n",
      "[LightGBM] [Warning] feature_fraction is set=0.670661848039721, colsample_bytree=1.0 will be ignored. Current value: feature_fraction=0.670661848039721\n",
      "[LightGBM] [Warning] lambda_l2 is set=0.12833804591143266, reg_lambda=0.0 will be ignored. Current value: lambda_l2=0.12833804591143266\n",
      "3 [LightGBM] [Warning] lambda_l1 is set=0.2618107952024081, reg_alpha=0.0 will be ignored. Current value: lambda_l1=0.2618107952024081\n",
      "[LightGBM] [Warning] bagging_fraction is set=0.6281663288880251, subsample=1.0 will be ignored. Current value: bagging_fraction=0.6281663288880251\n",
      "[LightGBM] [Warning] feature_fraction is set=0.670661848039721, colsample_bytree=1.0 will be ignored. Current value: feature_fraction=0.670661848039721\n",
      "[LightGBM] [Warning] lambda_l2 is set=0.12833804591143266, reg_lambda=0.0 will be ignored. Current value: lambda_l2=0.12833804591143266\n",
      "4 [LightGBM] [Warning] lambda_l1 is set=0.2618107952024081, reg_alpha=0.0 will be ignored. Current value: lambda_l1=0.2618107952024081\n",
      "[LightGBM] [Warning] bagging_fraction is set=0.6281663288880251, subsample=1.0 will be ignored. Current value: bagging_fraction=0.6281663288880251\n",
      "[LightGBM] [Warning] feature_fraction is set=0.670661848039721, colsample_bytree=1.0 will be ignored. Current value: feature_fraction=0.670661848039721\n",
      "[LightGBM] [Warning] lambda_l2 is set=0.12833804591143266, reg_lambda=0.0 will be ignored. Current value: lambda_l2=0.12833804591143266\n"
     ]
    },
    {
     "name": "stderr",
     "output_type": "stream",
     "text": [
      "\u001b[32m[I 2023-02-06 20:53:58,847]\u001b[0m Trial 3 finished with value: 0.5382543018325476 and parameters: {'n_estimators': 1530, 'learning_rate': 0.018706794891134866, 'max_depth': 8, 'lambda_l1': 0.2618107952024081, 'lambda_l2': 0.12833804591143266, 'num_leaves': 61, 'bagging_fraction': 0.6281663288880251, 'feature_fraction': 0.670661848039721}. Best is trial 2 with value: 0.5502906374368911.\u001b[0m\n"
     ]
    },
    {
     "name": "stdout",
     "output_type": "stream",
     "text": [
      "0 [LightGBM] [Warning] lambda_l1 is set=0.2594846395974583, reg_alpha=0.0 will be ignored. Current value: lambda_l1=0.2594846395974583\n",
      "[LightGBM] [Warning] bagging_fraction is set=0.587269849788161, subsample=1.0 will be ignored. Current value: bagging_fraction=0.587269849788161\n",
      "[LightGBM] [Warning] feature_fraction is set=0.5931908277861608, colsample_bytree=1.0 will be ignored. Current value: feature_fraction=0.5931908277861608\n",
      "[LightGBM] [Warning] lambda_l2 is set=0.011216130723046053, reg_lambda=0.0 will be ignored. Current value: lambda_l2=0.011216130723046053\n",
      "1 [LightGBM] [Warning] lambda_l1 is set=0.2594846395974583, reg_alpha=0.0 will be ignored. Current value: lambda_l1=0.2594846395974583\n",
      "[LightGBM] [Warning] bagging_fraction is set=0.587269849788161, subsample=1.0 will be ignored. Current value: bagging_fraction=0.587269849788161\n",
      "[LightGBM] [Warning] feature_fraction is set=0.5931908277861608, colsample_bytree=1.0 will be ignored. Current value: feature_fraction=0.5931908277861608\n",
      "[LightGBM] [Warning] lambda_l2 is set=0.011216130723046053, reg_lambda=0.0 will be ignored. Current value: lambda_l2=0.011216130723046053\n",
      "2 [LightGBM] [Warning] lambda_l1 is set=0.2594846395974583, reg_alpha=0.0 will be ignored. Current value: lambda_l1=0.2594846395974583\n",
      "[LightGBM] [Warning] bagging_fraction is set=0.587269849788161, subsample=1.0 will be ignored. Current value: bagging_fraction=0.587269849788161\n",
      "[LightGBM] [Warning] feature_fraction is set=0.5931908277861608, colsample_bytree=1.0 will be ignored. Current value: feature_fraction=0.5931908277861608\n",
      "[LightGBM] [Warning] lambda_l2 is set=0.011216130723046053, reg_lambda=0.0 will be ignored. Current value: lambda_l2=0.011216130723046053\n",
      "3 [LightGBM] [Warning] lambda_l1 is set=0.2594846395974583, reg_alpha=0.0 will be ignored. Current value: lambda_l1=0.2594846395974583\n",
      "[LightGBM] [Warning] bagging_fraction is set=0.587269849788161, subsample=1.0 will be ignored. Current value: bagging_fraction=0.587269849788161\n",
      "[LightGBM] [Warning] feature_fraction is set=0.5931908277861608, colsample_bytree=1.0 will be ignored. Current value: feature_fraction=0.5931908277861608\n",
      "[LightGBM] [Warning] lambda_l2 is set=0.011216130723046053, reg_lambda=0.0 will be ignored. Current value: lambda_l2=0.011216130723046053\n",
      "4 [LightGBM] [Warning] lambda_l1 is set=0.2594846395974583, reg_alpha=0.0 will be ignored. Current value: lambda_l1=0.2594846395974583\n",
      "[LightGBM] [Warning] bagging_fraction is set=0.587269849788161, subsample=1.0 will be ignored. Current value: bagging_fraction=0.587269849788161\n",
      "[LightGBM] [Warning] feature_fraction is set=0.5931908277861608, colsample_bytree=1.0 will be ignored. Current value: feature_fraction=0.5931908277861608\n",
      "[LightGBM] [Warning] lambda_l2 is set=0.011216130723046053, reg_lambda=0.0 will be ignored. Current value: lambda_l2=0.011216130723046053\n"
     ]
    },
    {
     "name": "stderr",
     "output_type": "stream",
     "text": [
      "\u001b[32m[I 2023-02-06 20:54:15,708]\u001b[0m Trial 4 finished with value: 0.5463294456110377 and parameters: {'n_estimators': 3778, 'learning_rate': 0.00260832606450151, 'max_depth': 11, 'lambda_l1': 0.2594846395974583, 'lambda_l2': 0.011216130723046053, 'num_leaves': 55, 'bagging_fraction': 0.587269849788161, 'feature_fraction': 0.5931908277861608}. Best is trial 2 with value: 0.5502906374368911.\u001b[0m\n"
     ]
    },
    {
     "name": "stdout",
     "output_type": "stream",
     "text": [
      "0 [LightGBM] [Warning] lambda_l1 is set=0.16045227750768043, reg_alpha=0.0 will be ignored. Current value: lambda_l1=0.16045227750768043\n",
      "[LightGBM] [Warning] bagging_fraction is set=0.41898406440744307, subsample=1.0 will be ignored. Current value: bagging_fraction=0.41898406440744307\n",
      "[LightGBM] [Warning] feature_fraction is set=0.6499222237531525, colsample_bytree=1.0 will be ignored. Current value: feature_fraction=0.6499222237531525\n",
      "[LightGBM] [Warning] lambda_l2 is set=3.2815959055707293, reg_lambda=0.0 will be ignored. Current value: lambda_l2=3.2815959055707293\n",
      "1 [LightGBM] [Warning] lambda_l1 is set=0.16045227750768043, reg_alpha=0.0 will be ignored. Current value: lambda_l1=0.16045227750768043\n",
      "[LightGBM] [Warning] bagging_fraction is set=0.41898406440744307, subsample=1.0 will be ignored. Current value: bagging_fraction=0.41898406440744307\n",
      "[LightGBM] [Warning] feature_fraction is set=0.6499222237531525, colsample_bytree=1.0 will be ignored. Current value: feature_fraction=0.6499222237531525\n",
      "[LightGBM] [Warning] lambda_l2 is set=3.2815959055707293, reg_lambda=0.0 will be ignored. Current value: lambda_l2=3.2815959055707293\n",
      "2 [LightGBM] [Warning] lambda_l1 is set=0.16045227750768043, reg_alpha=0.0 will be ignored. Current value: lambda_l1=0.16045227750768043\n",
      "[LightGBM] [Warning] bagging_fraction is set=0.41898406440744307, subsample=1.0 will be ignored. Current value: bagging_fraction=0.41898406440744307\n",
      "[LightGBM] [Warning] feature_fraction is set=0.6499222237531525, colsample_bytree=1.0 will be ignored. Current value: feature_fraction=0.6499222237531525\n",
      "[LightGBM] [Warning] lambda_l2 is set=3.2815959055707293, reg_lambda=0.0 will be ignored. Current value: lambda_l2=3.2815959055707293\n",
      "3 [LightGBM] [Warning] lambda_l1 is set=0.16045227750768043, reg_alpha=0.0 will be ignored. Current value: lambda_l1=0.16045227750768043\n",
      "[LightGBM] [Warning] bagging_fraction is set=0.41898406440744307, subsample=1.0 will be ignored. Current value: bagging_fraction=0.41898406440744307\n",
      "[LightGBM] [Warning] feature_fraction is set=0.6499222237531525, colsample_bytree=1.0 will be ignored. Current value: feature_fraction=0.6499222237531525\n",
      "[LightGBM] [Warning] lambda_l2 is set=3.2815959055707293, reg_lambda=0.0 will be ignored. Current value: lambda_l2=3.2815959055707293\n",
      "4 [LightGBM] [Warning] lambda_l1 is set=0.16045227750768043, reg_alpha=0.0 will be ignored. Current value: lambda_l1=0.16045227750768043\n",
      "[LightGBM] [Warning] bagging_fraction is set=0.41898406440744307, subsample=1.0 will be ignored. Current value: bagging_fraction=0.41898406440744307\n",
      "[LightGBM] [Warning] feature_fraction is set=0.6499222237531525, colsample_bytree=1.0 will be ignored. Current value: feature_fraction=0.6499222237531525\n",
      "[LightGBM] [Warning] lambda_l2 is set=3.2815959055707293, reg_lambda=0.0 will be ignored. Current value: lambda_l2=3.2815959055707293\n"
     ]
    },
    {
     "name": "stderr",
     "output_type": "stream",
     "text": [
      "\u001b[32m[I 2023-02-06 20:54:30,501]\u001b[0m Trial 5 finished with value: 0.5118112771348977 and parameters: {'n_estimators': 4693, 'learning_rate': 0.31979872469289455, 'max_depth': 8, 'lambda_l1': 0.16045227750768043, 'lambda_l2': 3.2815959055707293, 'num_leaves': 57, 'bagging_fraction': 0.41898406440744307, 'feature_fraction': 0.6499222237531525}. Best is trial 2 with value: 0.5502906374368911.\u001b[0m\n"
     ]
    },
    {
     "name": "stdout",
     "output_type": "stream",
     "text": [
      "0 [LightGBM] [Warning] lambda_l1 is set=3.966149899134551, reg_alpha=0.0 will be ignored. Current value: lambda_l1=3.966149899134551\n",
      "[LightGBM] [Warning] bagging_fraction is set=0.8253701770624062, subsample=1.0 will be ignored. Current value: bagging_fraction=0.8253701770624062\n",
      "[LightGBM] [Warning] feature_fraction is set=0.27735515154102236, colsample_bytree=1.0 will be ignored. Current value: feature_fraction=0.27735515154102236\n",
      "[LightGBM] [Warning] lambda_l2 is set=0.025885566286394147, reg_lambda=0.0 will be ignored. Current value: lambda_l2=0.025885566286394147\n",
      "1 [LightGBM] [Warning] lambda_l1 is set=3.966149899134551, reg_alpha=0.0 will be ignored. Current value: lambda_l1=3.966149899134551\n",
      "[LightGBM] [Warning] bagging_fraction is set=0.8253701770624062, subsample=1.0 will be ignored. Current value: bagging_fraction=0.8253701770624062\n",
      "[LightGBM] [Warning] feature_fraction is set=0.27735515154102236, colsample_bytree=1.0 will be ignored. Current value: feature_fraction=0.27735515154102236\n",
      "[LightGBM] [Warning] lambda_l2 is set=0.025885566286394147, reg_lambda=0.0 will be ignored. Current value: lambda_l2=0.025885566286394147\n",
      "2 [LightGBM] [Warning] lambda_l1 is set=3.966149899134551, reg_alpha=0.0 will be ignored. Current value: lambda_l1=3.966149899134551\n",
      "[LightGBM] [Warning] bagging_fraction is set=0.8253701770624062, subsample=1.0 will be ignored. Current value: bagging_fraction=0.8253701770624062\n",
      "[LightGBM] [Warning] feature_fraction is set=0.27735515154102236, colsample_bytree=1.0 will be ignored. Current value: feature_fraction=0.27735515154102236\n",
      "[LightGBM] [Warning] lambda_l2 is set=0.025885566286394147, reg_lambda=0.0 will be ignored. Current value: lambda_l2=0.025885566286394147\n",
      "3 [LightGBM] [Warning] lambda_l1 is set=3.966149899134551, reg_alpha=0.0 will be ignored. Current value: lambda_l1=3.966149899134551\n",
      "[LightGBM] [Warning] bagging_fraction is set=0.8253701770624062, subsample=1.0 will be ignored. Current value: bagging_fraction=0.8253701770624062\n",
      "[LightGBM] [Warning] feature_fraction is set=0.27735515154102236, colsample_bytree=1.0 will be ignored. Current value: feature_fraction=0.27735515154102236\n",
      "[LightGBM] [Warning] lambda_l2 is set=0.025885566286394147, reg_lambda=0.0 will be ignored. Current value: lambda_l2=0.025885566286394147\n",
      "4 [LightGBM] [Warning] lambda_l1 is set=3.966149899134551, reg_alpha=0.0 will be ignored. Current value: lambda_l1=3.966149899134551\n",
      "[LightGBM] [Warning] bagging_fraction is set=0.8253701770624062, subsample=1.0 will be ignored. Current value: bagging_fraction=0.8253701770624062\n",
      "[LightGBM] [Warning] feature_fraction is set=0.27735515154102236, colsample_bytree=1.0 will be ignored. Current value: feature_fraction=0.27735515154102236\n",
      "[LightGBM] [Warning] lambda_l2 is set=0.025885566286394147, reg_lambda=0.0 will be ignored. Current value: lambda_l2=0.025885566286394147\n"
     ]
    },
    {
     "name": "stderr",
     "output_type": "stream",
     "text": [
      "\u001b[32m[I 2023-02-06 20:54:36,975]\u001b[0m Trial 6 finished with value: 0.5404857726181251 and parameters: {'n_estimators': 2771, 'learning_rate': 0.9306851588097913, 'max_depth': 11, 'lambda_l1': 3.966149899134551, 'lambda_l2': 0.025885566286394147, 'num_leaves': 92, 'bagging_fraction': 0.8253701770624062, 'feature_fraction': 0.27735515154102236}. Best is trial 2 with value: 0.5502906374368911.\u001b[0m\n"
     ]
    },
    {
     "name": "stdout",
     "output_type": "stream",
     "text": [
      "0 [LightGBM] [Warning] lambda_l1 is set=1.1926022324749614, reg_alpha=0.0 will be ignored. Current value: lambda_l1=1.1926022324749614\n",
      "[LightGBM] [Warning] bagging_fraction is set=0.7221457594275438, subsample=1.0 will be ignored. Current value: bagging_fraction=0.7221457594275438\n",
      "[LightGBM] [Warning] feature_fraction is set=0.8271986675849092, colsample_bytree=1.0 will be ignored. Current value: feature_fraction=0.8271986675849092\n",
      "[LightGBM] [Warning] lambda_l2 is set=0.2005476911987778, reg_lambda=0.0 will be ignored. Current value: lambda_l2=0.2005476911987778\n",
      "1 [LightGBM] [Warning] lambda_l1 is set=1.1926022324749614, reg_alpha=0.0 will be ignored. Current value: lambda_l1=1.1926022324749614\n",
      "[LightGBM] [Warning] bagging_fraction is set=0.7221457594275438, subsample=1.0 will be ignored. Current value: bagging_fraction=0.7221457594275438\n",
      "[LightGBM] [Warning] feature_fraction is set=0.8271986675849092, colsample_bytree=1.0 will be ignored. Current value: feature_fraction=0.8271986675849092\n",
      "[LightGBM] [Warning] lambda_l2 is set=0.2005476911987778, reg_lambda=0.0 will be ignored. Current value: lambda_l2=0.2005476911987778\n",
      "2 [LightGBM] [Warning] lambda_l1 is set=1.1926022324749614, reg_alpha=0.0 will be ignored. Current value: lambda_l1=1.1926022324749614\n",
      "[LightGBM] [Warning] bagging_fraction is set=0.7221457594275438, subsample=1.0 will be ignored. Current value: bagging_fraction=0.7221457594275438\n",
      "[LightGBM] [Warning] feature_fraction is set=0.8271986675849092, colsample_bytree=1.0 will be ignored. Current value: feature_fraction=0.8271986675849092\n",
      "[LightGBM] [Warning] lambda_l2 is set=0.2005476911987778, reg_lambda=0.0 will be ignored. Current value: lambda_l2=0.2005476911987778\n",
      "3 [LightGBM] [Warning] lambda_l1 is set=1.1926022324749614, reg_alpha=0.0 will be ignored. Current value: lambda_l1=1.1926022324749614\n",
      "[LightGBM] [Warning] bagging_fraction is set=0.7221457594275438, subsample=1.0 will be ignored. Current value: bagging_fraction=0.7221457594275438\n",
      "[LightGBM] [Warning] feature_fraction is set=0.8271986675849092, colsample_bytree=1.0 will be ignored. Current value: feature_fraction=0.8271986675849092\n",
      "[LightGBM] [Warning] lambda_l2 is set=0.2005476911987778, reg_lambda=0.0 will be ignored. Current value: lambda_l2=0.2005476911987778\n",
      "4 [LightGBM] [Warning] lambda_l1 is set=1.1926022324749614, reg_alpha=0.0 will be ignored. Current value: lambda_l1=1.1926022324749614\n",
      "[LightGBM] [Warning] bagging_fraction is set=0.7221457594275438, subsample=1.0 will be ignored. Current value: bagging_fraction=0.7221457594275438\n",
      "[LightGBM] [Warning] feature_fraction is set=0.8271986675849092, colsample_bytree=1.0 will be ignored. Current value: feature_fraction=0.8271986675849092\n",
      "[LightGBM] [Warning] lambda_l2 is set=0.2005476911987778, reg_lambda=0.0 will be ignored. Current value: lambda_l2=0.2005476911987778\n"
     ]
    },
    {
     "name": "stderr",
     "output_type": "stream",
     "text": [
      "\u001b[32m[I 2023-02-06 20:54:44,993]\u001b[0m Trial 7 finished with value: 0.4925510314956177 and parameters: {'n_estimators': 2274, 'learning_rate': 0.9991450950790579, 'max_depth': 8, 'lambda_l1': 1.1926022324749614, 'lambda_l2': 0.2005476911987778, 'num_leaves': 65, 'bagging_fraction': 0.7221457594275438, 'feature_fraction': 0.8271986675849092}. Best is trial 2 with value: 0.5502906374368911.\u001b[0m\n"
     ]
    },
    {
     "name": "stdout",
     "output_type": "stream",
     "text": [
      "0 [LightGBM] [Warning] lambda_l1 is set=4.287288975612532, reg_alpha=0.0 will be ignored. Current value: lambda_l1=4.287288975612532\n",
      "[LightGBM] [Warning] bagging_fraction is set=0.7573972922198822, subsample=1.0 will be ignored. Current value: bagging_fraction=0.7573972922198822\n",
      "[LightGBM] [Warning] feature_fraction is set=0.20475314452014554, colsample_bytree=1.0 will be ignored. Current value: feature_fraction=0.20475314452014554\n",
      "[LightGBM] [Warning] lambda_l2 is set=0.48567893958477937, reg_lambda=0.0 will be ignored. Current value: lambda_l2=0.48567893958477937\n",
      "1 [LightGBM] [Warning] lambda_l1 is set=4.287288975612532, reg_alpha=0.0 will be ignored. Current value: lambda_l1=4.287288975612532\n",
      "[LightGBM] [Warning] bagging_fraction is set=0.7573972922198822, subsample=1.0 will be ignored. Current value: bagging_fraction=0.7573972922198822\n",
      "[LightGBM] [Warning] feature_fraction is set=0.20475314452014554, colsample_bytree=1.0 will be ignored. Current value: feature_fraction=0.20475314452014554\n",
      "[LightGBM] [Warning] lambda_l2 is set=0.48567893958477937, reg_lambda=0.0 will be ignored. Current value: lambda_l2=0.48567893958477937\n",
      "2 [LightGBM] [Warning] lambda_l1 is set=4.287288975612532, reg_alpha=0.0 will be ignored. Current value: lambda_l1=4.287288975612532\n",
      "[LightGBM] [Warning] bagging_fraction is set=0.7573972922198822, subsample=1.0 will be ignored. Current value: bagging_fraction=0.7573972922198822\n",
      "[LightGBM] [Warning] feature_fraction is set=0.20475314452014554, colsample_bytree=1.0 will be ignored. Current value: feature_fraction=0.20475314452014554\n",
      "[LightGBM] [Warning] lambda_l2 is set=0.48567893958477937, reg_lambda=0.0 will be ignored. Current value: lambda_l2=0.48567893958477937\n",
      "3 [LightGBM] [Warning] lambda_l1 is set=4.287288975612532, reg_alpha=0.0 will be ignored. Current value: lambda_l1=4.287288975612532\n",
      "[LightGBM] [Warning] bagging_fraction is set=0.7573972922198822, subsample=1.0 will be ignored. Current value: bagging_fraction=0.7573972922198822\n",
      "[LightGBM] [Warning] feature_fraction is set=0.20475314452014554, colsample_bytree=1.0 will be ignored. Current value: feature_fraction=0.20475314452014554\n",
      "[LightGBM] [Warning] lambda_l2 is set=0.48567893958477937, reg_lambda=0.0 will be ignored. Current value: lambda_l2=0.48567893958477937\n",
      "4 [LightGBM] [Warning] lambda_l1 is set=4.287288975612532, reg_alpha=0.0 will be ignored. Current value: lambda_l1=4.287288975612532\n",
      "[LightGBM] [Warning] bagging_fraction is set=0.7573972922198822, subsample=1.0 will be ignored. Current value: bagging_fraction=0.7573972922198822\n",
      "[LightGBM] [Warning] feature_fraction is set=0.20475314452014554, colsample_bytree=1.0 will be ignored. Current value: feature_fraction=0.20475314452014554\n",
      "[LightGBM] [Warning] lambda_l2 is set=0.48567893958477937, reg_lambda=0.0 will be ignored. Current value: lambda_l2=0.48567893958477937\n"
     ]
    },
    {
     "name": "stderr",
     "output_type": "stream",
     "text": [
      "\u001b[32m[I 2023-02-06 20:54:55,525]\u001b[0m Trial 8 finished with value: 0.5591330226377825 and parameters: {'n_estimators': 9494, 'learning_rate': 0.001283788600272066, 'max_depth': 4, 'lambda_l1': 4.287288975612532, 'lambda_l2': 0.48567893958477937, 'num_leaves': 100, 'bagging_fraction': 0.7573972922198822, 'feature_fraction': 0.20475314452014554}. Best is trial 8 with value: 0.5591330226377825.\u001b[0m\n"
     ]
    },
    {
     "name": "stdout",
     "output_type": "stream",
     "text": [
      "0 [LightGBM] [Warning] lambda_l1 is set=0.118994335900865, reg_alpha=0.0 will be ignored. Current value: lambda_l1=0.118994335900865\n",
      "[LightGBM] [Warning] bagging_fraction is set=0.3479590683812721, subsample=1.0 will be ignored. Current value: bagging_fraction=0.3479590683812721\n",
      "[LightGBM] [Warning] feature_fraction is set=0.5709253871055042, colsample_bytree=1.0 will be ignored. Current value: feature_fraction=0.5709253871055042\n",
      "[LightGBM] [Warning] lambda_l2 is set=1.9163687705329426, reg_lambda=0.0 will be ignored. Current value: lambda_l2=1.9163687705329426\n",
      "1 [LightGBM] [Warning] lambda_l1 is set=0.118994335900865, reg_alpha=0.0 will be ignored. Current value: lambda_l1=0.118994335900865\n",
      "[LightGBM] [Warning] bagging_fraction is set=0.3479590683812721, subsample=1.0 will be ignored. Current value: bagging_fraction=0.3479590683812721\n",
      "[LightGBM] [Warning] feature_fraction is set=0.5709253871055042, colsample_bytree=1.0 will be ignored. Current value: feature_fraction=0.5709253871055042\n",
      "[LightGBM] [Warning] lambda_l2 is set=1.9163687705329426, reg_lambda=0.0 will be ignored. Current value: lambda_l2=1.9163687705329426\n",
      "2 [LightGBM] [Warning] lambda_l1 is set=0.118994335900865, reg_alpha=0.0 will be ignored. Current value: lambda_l1=0.118994335900865\n",
      "[LightGBM] [Warning] bagging_fraction is set=0.3479590683812721, subsample=1.0 will be ignored. Current value: bagging_fraction=0.3479590683812721\n",
      "[LightGBM] [Warning] feature_fraction is set=0.5709253871055042, colsample_bytree=1.0 will be ignored. Current value: feature_fraction=0.5709253871055042\n",
      "[LightGBM] [Warning] lambda_l2 is set=1.9163687705329426, reg_lambda=0.0 will be ignored. Current value: lambda_l2=1.9163687705329426\n",
      "3 [LightGBM] [Warning] lambda_l1 is set=0.118994335900865, reg_alpha=0.0 will be ignored. Current value: lambda_l1=0.118994335900865\n",
      "[LightGBM] [Warning] bagging_fraction is set=0.3479590683812721, subsample=1.0 will be ignored. Current value: bagging_fraction=0.3479590683812721\n",
      "[LightGBM] [Warning] feature_fraction is set=0.5709253871055042, colsample_bytree=1.0 will be ignored. Current value: feature_fraction=0.5709253871055042\n",
      "[LightGBM] [Warning] lambda_l2 is set=1.9163687705329426, reg_lambda=0.0 will be ignored. Current value: lambda_l2=1.9163687705329426\n",
      "4 [LightGBM] [Warning] lambda_l1 is set=0.118994335900865, reg_alpha=0.0 will be ignored. Current value: lambda_l1=0.118994335900865\n",
      "[LightGBM] [Warning] bagging_fraction is set=0.3479590683812721, subsample=1.0 will be ignored. Current value: bagging_fraction=0.3479590683812721\n",
      "[LightGBM] [Warning] feature_fraction is set=0.5709253871055042, colsample_bytree=1.0 will be ignored. Current value: feature_fraction=0.5709253871055042\n",
      "[LightGBM] [Warning] lambda_l2 is set=1.9163687705329426, reg_lambda=0.0 will be ignored. Current value: lambda_l2=1.9163687705329426\n"
     ]
    },
    {
     "name": "stderr",
     "output_type": "stream",
     "text": [
      "\u001b[32m[I 2023-02-06 20:54:57,572]\u001b[0m Trial 9 finished with value: 0.5652895509115479 and parameters: {'n_estimators': 467, 'learning_rate': 0.05240981859986616, 'max_depth': 9, 'lambda_l1': 0.118994335900865, 'lambda_l2': 1.9163687705329426, 'num_leaves': 6, 'bagging_fraction': 0.3479590683812721, 'feature_fraction': 0.5709253871055042}. Best is trial 9 with value: 0.5652895509115479.\u001b[0m\n"
     ]
    },
    {
     "name": "stdout",
     "output_type": "stream",
     "text": [
      "0 [LightGBM] [Warning] lambda_l1 is set=0.038795531062368584, reg_alpha=0.0 will be ignored. Current value: lambda_l1=0.038795531062368584\n",
      "[LightGBM] [Warning] bagging_fraction is set=0.255480866678903, subsample=1.0 will be ignored. Current value: bagging_fraction=0.255480866678903\n",
      "[LightGBM] [Warning] feature_fraction is set=0.4764865254536225, colsample_bytree=1.0 will be ignored. Current value: feature_fraction=0.4764865254536225\n",
      "[LightGBM] [Warning] lambda_l2 is set=1.4203332360312941, reg_lambda=0.0 will be ignored. Current value: lambda_l2=1.4203332360312941\n",
      "1 [LightGBM] [Warning] lambda_l1 is set=0.038795531062368584, reg_alpha=0.0 will be ignored. Current value: lambda_l1=0.038795531062368584\n",
      "[LightGBM] [Warning] bagging_fraction is set=0.255480866678903, subsample=1.0 will be ignored. Current value: bagging_fraction=0.255480866678903\n",
      "[LightGBM] [Warning] feature_fraction is set=0.4764865254536225, colsample_bytree=1.0 will be ignored. Current value: feature_fraction=0.4764865254536225\n",
      "[LightGBM] [Warning] lambda_l2 is set=1.4203332360312941, reg_lambda=0.0 will be ignored. Current value: lambda_l2=1.4203332360312941\n",
      "2 [LightGBM] [Warning] lambda_l1 is set=0.038795531062368584, reg_alpha=0.0 will be ignored. Current value: lambda_l1=0.038795531062368584\n",
      "[LightGBM] [Warning] bagging_fraction is set=0.255480866678903, subsample=1.0 will be ignored. Current value: bagging_fraction=0.255480866678903\n",
      "[LightGBM] [Warning] feature_fraction is set=0.4764865254536225, colsample_bytree=1.0 will be ignored. Current value: feature_fraction=0.4764865254536225\n",
      "[LightGBM] [Warning] lambda_l2 is set=1.4203332360312941, reg_lambda=0.0 will be ignored. Current value: lambda_l2=1.4203332360312941\n",
      "3 [LightGBM] [Warning] lambda_l1 is set=0.038795531062368584, reg_alpha=0.0 will be ignored. Current value: lambda_l1=0.038795531062368584\n",
      "[LightGBM] [Warning] bagging_fraction is set=0.255480866678903, subsample=1.0 will be ignored. Current value: bagging_fraction=0.255480866678903\n",
      "[LightGBM] [Warning] feature_fraction is set=0.4764865254536225, colsample_bytree=1.0 will be ignored. Current value: feature_fraction=0.4764865254536225\n",
      "[LightGBM] [Warning] lambda_l2 is set=1.4203332360312941, reg_lambda=0.0 will be ignored. Current value: lambda_l2=1.4203332360312941\n",
      "4 [LightGBM] [Warning] lambda_l1 is set=0.038795531062368584, reg_alpha=0.0 will be ignored. Current value: lambda_l1=0.038795531062368584\n",
      "[LightGBM] [Warning] bagging_fraction is set=0.255480866678903, subsample=1.0 will be ignored. Current value: bagging_fraction=0.255480866678903\n",
      "[LightGBM] [Warning] feature_fraction is set=0.4764865254536225, colsample_bytree=1.0 will be ignored. Current value: feature_fraction=0.4764865254536225\n",
      "[LightGBM] [Warning] lambda_l2 is set=1.4203332360312941, reg_lambda=0.0 will be ignored. Current value: lambda_l2=1.4203332360312941\n"
     ]
    },
    {
     "name": "stderr",
     "output_type": "stream",
     "text": [
      "\u001b[32m[I 2023-02-06 20:55:10,356]\u001b[0m Trial 10 finished with value: 0.5407571194060747 and parameters: {'n_estimators': 7122, 'learning_rate': 0.054500339739466754, 'max_depth': 5, 'lambda_l1': 0.038795531062368584, 'lambda_l2': 1.4203332360312941, 'num_leaves': 26, 'bagging_fraction': 0.255480866678903, 'feature_fraction': 0.4764865254536225}. Best is trial 9 with value: 0.5652895509115479.\u001b[0m\n"
     ]
    },
    {
     "name": "stdout",
     "output_type": "stream",
     "text": [
      "0 [LightGBM] [Warning] lambda_l1 is set=8.52678229846395, reg_alpha=0.0 will be ignored. Current value: lambda_l1=8.52678229846395\n",
      "[LightGBM] [Warning] bagging_fraction is set=0.44067716291804343, subsample=1.0 will be ignored. Current value: bagging_fraction=0.44067716291804343\n",
      "[LightGBM] [Warning] feature_fraction is set=0.45610680402524095, colsample_bytree=1.0 will be ignored. Current value: feature_fraction=0.45610680402524095\n",
      "[LightGBM] [Warning] lambda_l2 is set=0.5240348577880385, reg_lambda=0.0 will be ignored. Current value: lambda_l2=0.5240348577880385\n",
      "1 [LightGBM] [Warning] lambda_l1 is set=8.52678229846395, reg_alpha=0.0 will be ignored. Current value: lambda_l1=8.52678229846395\n",
      "[LightGBM] [Warning] bagging_fraction is set=0.44067716291804343, subsample=1.0 will be ignored. Current value: bagging_fraction=0.44067716291804343\n",
      "[LightGBM] [Warning] feature_fraction is set=0.45610680402524095, colsample_bytree=1.0 will be ignored. Current value: feature_fraction=0.45610680402524095\n",
      "[LightGBM] [Warning] lambda_l2 is set=0.5240348577880385, reg_lambda=0.0 will be ignored. Current value: lambda_l2=0.5240348577880385\n",
      "2 [LightGBM] [Warning] lambda_l1 is set=8.52678229846395, reg_alpha=0.0 will be ignored. Current value: lambda_l1=8.52678229846395\n",
      "[LightGBM] [Warning] bagging_fraction is set=0.44067716291804343, subsample=1.0 will be ignored. Current value: bagging_fraction=0.44067716291804343\n",
      "[LightGBM] [Warning] feature_fraction is set=0.45610680402524095, colsample_bytree=1.0 will be ignored. Current value: feature_fraction=0.45610680402524095\n",
      "[LightGBM] [Warning] lambda_l2 is set=0.5240348577880385, reg_lambda=0.0 will be ignored. Current value: lambda_l2=0.5240348577880385\n",
      "3 [LightGBM] [Warning] lambda_l1 is set=8.52678229846395, reg_alpha=0.0 will be ignored. Current value: lambda_l1=8.52678229846395\n",
      "[LightGBM] [Warning] bagging_fraction is set=0.44067716291804343, subsample=1.0 will be ignored. Current value: bagging_fraction=0.44067716291804343\n",
      "[LightGBM] [Warning] feature_fraction is set=0.45610680402524095, colsample_bytree=1.0 will be ignored. Current value: feature_fraction=0.45610680402524095\n",
      "[LightGBM] [Warning] lambda_l2 is set=0.5240348577880385, reg_lambda=0.0 will be ignored. Current value: lambda_l2=0.5240348577880385\n",
      "4 [LightGBM] [Warning] lambda_l1 is set=8.52678229846395, reg_alpha=0.0 will be ignored. Current value: lambda_l1=8.52678229846395\n",
      "[LightGBM] [Warning] bagging_fraction is set=0.44067716291804343, subsample=1.0 will be ignored. Current value: bagging_fraction=0.44067716291804343\n",
      "[LightGBM] [Warning] feature_fraction is set=0.45610680402524095, colsample_bytree=1.0 will be ignored. Current value: feature_fraction=0.45610680402524095\n",
      "[LightGBM] [Warning] lambda_l2 is set=0.5240348577880385, reg_lambda=0.0 will be ignored. Current value: lambda_l2=0.5240348577880385\n"
     ]
    },
    {
     "name": "stderr",
     "output_type": "stream",
     "text": [
      "\u001b[32m[I 2023-02-06 20:55:24,213]\u001b[0m Trial 11 finished with value: 0.5300494387241805 and parameters: {'n_estimators': 9456, 'learning_rate': 0.0010531591424863286, 'max_depth': 3, 'lambda_l1': 8.52678229846395, 'lambda_l2': 0.5240348577880385, 'num_leaves': 32, 'bagging_fraction': 0.44067716291804343, 'feature_fraction': 0.45610680402524095}. Best is trial 9 with value: 0.5652895509115479.\u001b[0m\n"
     ]
    },
    {
     "name": "stdout",
     "output_type": "stream",
     "text": [
      "0 [LightGBM] [Warning] lambda_l1 is set=0.08225945719813345, reg_alpha=0.0 will be ignored. Current value: lambda_l1=0.08225945719813345\n",
      "[LightGBM] [Warning] bagging_fraction is set=0.728733119756391, subsample=1.0 will be ignored. Current value: bagging_fraction=0.728733119756391\n",
      "[LightGBM] [Warning] feature_fraction is set=0.20837171985254213, colsample_bytree=1.0 will be ignored. Current value: feature_fraction=0.20837171985254213\n",
      "[LightGBM] [Warning] lambda_l2 is set=0.6021347560337426, reg_lambda=0.0 will be ignored. Current value: lambda_l2=0.6021347560337426\n",
      "1 [LightGBM] [Warning] lambda_l1 is set=0.08225945719813345, reg_alpha=0.0 will be ignored. Current value: lambda_l1=0.08225945719813345\n",
      "[LightGBM] [Warning] bagging_fraction is set=0.728733119756391, subsample=1.0 will be ignored. Current value: bagging_fraction=0.728733119756391\n",
      "[LightGBM] [Warning] feature_fraction is set=0.20837171985254213, colsample_bytree=1.0 will be ignored. Current value: feature_fraction=0.20837171985254213\n",
      "[LightGBM] [Warning] lambda_l2 is set=0.6021347560337426, reg_lambda=0.0 will be ignored. Current value: lambda_l2=0.6021347560337426\n",
      "2 [LightGBM] [Warning] lambda_l1 is set=0.08225945719813345, reg_alpha=0.0 will be ignored. Current value: lambda_l1=0.08225945719813345\n",
      "[LightGBM] [Warning] bagging_fraction is set=0.728733119756391, subsample=1.0 will be ignored. Current value: bagging_fraction=0.728733119756391\n",
      "[LightGBM] [Warning] feature_fraction is set=0.20837171985254213, colsample_bytree=1.0 will be ignored. Current value: feature_fraction=0.20837171985254213\n",
      "[LightGBM] [Warning] lambda_l2 is set=0.6021347560337426, reg_lambda=0.0 will be ignored. Current value: lambda_l2=0.6021347560337426\n",
      "3 [LightGBM] [Warning] lambda_l1 is set=0.08225945719813345, reg_alpha=0.0 will be ignored. Current value: lambda_l1=0.08225945719813345\n",
      "[LightGBM] [Warning] bagging_fraction is set=0.728733119756391, subsample=1.0 will be ignored. Current value: bagging_fraction=0.728733119756391\n",
      "[LightGBM] [Warning] feature_fraction is set=0.20837171985254213, colsample_bytree=1.0 will be ignored. Current value: feature_fraction=0.20837171985254213\n",
      "[LightGBM] [Warning] lambda_l2 is set=0.6021347560337426, reg_lambda=0.0 will be ignored. Current value: lambda_l2=0.6021347560337426\n",
      "4 [LightGBM] [Warning] lambda_l1 is set=0.08225945719813345, reg_alpha=0.0 will be ignored. Current value: lambda_l1=0.08225945719813345\n",
      "[LightGBM] [Warning] bagging_fraction is set=0.728733119756391, subsample=1.0 will be ignored. Current value: bagging_fraction=0.728733119756391\n",
      "[LightGBM] [Warning] feature_fraction is set=0.20837171985254213, colsample_bytree=1.0 will be ignored. Current value: feature_fraction=0.20837171985254213\n",
      "[LightGBM] [Warning] lambda_l2 is set=0.6021347560337426, reg_lambda=0.0 will be ignored. Current value: lambda_l2=0.6021347560337426\n"
     ]
    },
    {
     "name": "stderr",
     "output_type": "stream",
     "text": [
      "\u001b[32m[I 2023-02-06 20:55:31,235]\u001b[0m Trial 12 finished with value: 0.5677019478328463 and parameters: {'n_estimators': 6622, 'learning_rate': 0.04793223771258008, 'max_depth': 3, 'lambda_l1': 0.08225945719813345, 'lambda_l2': 0.6021347560337426, 'num_leaves': 78, 'bagging_fraction': 0.728733119756391, 'feature_fraction': 0.20837171985254213}. Best is trial 12 with value: 0.5677019478328463.\u001b[0m\n"
     ]
    },
    {
     "name": "stdout",
     "output_type": "stream",
     "text": [
      "0 [LightGBM] [Warning] lambda_l1 is set=0.07530037070297133, reg_alpha=0.0 will be ignored. Current value: lambda_l1=0.07530037070297133\n",
      "[LightGBM] [Warning] bagging_fraction is set=0.21117138587583456, subsample=1.0 will be ignored. Current value: bagging_fraction=0.21117138587583456\n",
      "[LightGBM] [Warning] feature_fraction is set=0.5020300513301204, colsample_bytree=1.0 will be ignored. Current value: feature_fraction=0.5020300513301204\n",
      "[LightGBM] [Warning] lambda_l2 is set=3.148019992105491, reg_lambda=0.0 will be ignored. Current value: lambda_l2=3.148019992105491\n",
      "1 [LightGBM] [Warning] lambda_l1 is set=0.07530037070297133, reg_alpha=0.0 will be ignored. Current value: lambda_l1=0.07530037070297133\n",
      "[LightGBM] [Warning] bagging_fraction is set=0.21117138587583456, subsample=1.0 will be ignored. Current value: bagging_fraction=0.21117138587583456\n",
      "[LightGBM] [Warning] feature_fraction is set=0.5020300513301204, colsample_bytree=1.0 will be ignored. Current value: feature_fraction=0.5020300513301204\n",
      "[LightGBM] [Warning] lambda_l2 is set=3.148019992105491, reg_lambda=0.0 will be ignored. Current value: lambda_l2=3.148019992105491\n",
      "2 [LightGBM] [Warning] lambda_l1 is set=0.07530037070297133, reg_alpha=0.0 will be ignored. Current value: lambda_l1=0.07530037070297133\n",
      "[LightGBM] [Warning] bagging_fraction is set=0.21117138587583456, subsample=1.0 will be ignored. Current value: bagging_fraction=0.21117138587583456\n",
      "[LightGBM] [Warning] feature_fraction is set=0.5020300513301204, colsample_bytree=1.0 will be ignored. Current value: feature_fraction=0.5020300513301204\n",
      "[LightGBM] [Warning] lambda_l2 is set=3.148019992105491, reg_lambda=0.0 will be ignored. Current value: lambda_l2=3.148019992105491\n",
      "3 [LightGBM] [Warning] lambda_l1 is set=0.07530037070297133, reg_alpha=0.0 will be ignored. Current value: lambda_l1=0.07530037070297133\n",
      "[LightGBM] [Warning] bagging_fraction is set=0.21117138587583456, subsample=1.0 will be ignored. Current value: bagging_fraction=0.21117138587583456\n",
      "[LightGBM] [Warning] feature_fraction is set=0.5020300513301204, colsample_bytree=1.0 will be ignored. Current value: feature_fraction=0.5020300513301204\n",
      "[LightGBM] [Warning] lambda_l2 is set=3.148019992105491, reg_lambda=0.0 will be ignored. Current value: lambda_l2=3.148019992105491\n",
      "4 [LightGBM] [Warning] lambda_l1 is set=0.07530037070297133, reg_alpha=0.0 will be ignored. Current value: lambda_l1=0.07530037070297133\n",
      "[LightGBM] [Warning] bagging_fraction is set=0.21117138587583456, subsample=1.0 will be ignored. Current value: bagging_fraction=0.21117138587583456\n",
      "[LightGBM] [Warning] feature_fraction is set=0.5020300513301204, colsample_bytree=1.0 will be ignored. Current value: feature_fraction=0.5020300513301204\n",
      "[LightGBM] [Warning] lambda_l2 is set=3.148019992105491, reg_lambda=0.0 will be ignored. Current value: lambda_l2=3.148019992105491\n"
     ]
    },
    {
     "name": "stderr",
     "output_type": "stream",
     "text": [
      "\u001b[32m[I 2023-02-06 20:55:44,196]\u001b[0m Trial 13 finished with value: 0.521468940225392 and parameters: {'n_estimators': 6466, 'learning_rate': 0.05156863107114966, 'max_depth': 6, 'lambda_l1': 0.07530037070297133, 'lambda_l2': 3.148019992105491, 'num_leaves': 79, 'bagging_fraction': 0.21117138587583456, 'feature_fraction': 0.5020300513301204}. Best is trial 12 with value: 0.5677019478328463.\u001b[0m\n"
     ]
    },
    {
     "name": "stdout",
     "output_type": "stream",
     "text": [
      "0 [LightGBM] [Warning] lambda_l1 is set=0.051289957691119305, reg_alpha=0.0 will be ignored. Current value: lambda_l1=0.051289957691119305\n",
      "[LightGBM] [Warning] bagging_fraction is set=0.6678836346551112, subsample=1.0 will be ignored. Current value: bagging_fraction=0.6678836346551112\n",
      "[LightGBM] [Warning] feature_fraction is set=0.40019344176501753, colsample_bytree=1.0 will be ignored. Current value: feature_fraction=0.40019344176501753\n",
      "[LightGBM] [Warning] lambda_l2 is set=0.7398717494224422, reg_lambda=0.0 will be ignored. Current value: lambda_l2=0.7398717494224422\n",
      "1 [LightGBM] [Warning] lambda_l1 is set=0.051289957691119305, reg_alpha=0.0 will be ignored. Current value: lambda_l1=0.051289957691119305\n",
      "[LightGBM] [Warning] bagging_fraction is set=0.6678836346551112, subsample=1.0 will be ignored. Current value: bagging_fraction=0.6678836346551112\n",
      "[LightGBM] [Warning] feature_fraction is set=0.40019344176501753, colsample_bytree=1.0 will be ignored. Current value: feature_fraction=0.40019344176501753\n",
      "[LightGBM] [Warning] lambda_l2 is set=0.7398717494224422, reg_lambda=0.0 will be ignored. Current value: lambda_l2=0.7398717494224422\n",
      "2 [LightGBM] [Warning] lambda_l1 is set=0.051289957691119305, reg_alpha=0.0 will be ignored. Current value: lambda_l1=0.051289957691119305\n",
      "[LightGBM] [Warning] bagging_fraction is set=0.6678836346551112, subsample=1.0 will be ignored. Current value: bagging_fraction=0.6678836346551112\n",
      "[LightGBM] [Warning] feature_fraction is set=0.40019344176501753, colsample_bytree=1.0 will be ignored. Current value: feature_fraction=0.40019344176501753\n",
      "[LightGBM] [Warning] lambda_l2 is set=0.7398717494224422, reg_lambda=0.0 will be ignored. Current value: lambda_l2=0.7398717494224422\n",
      "3 [LightGBM] [Warning] lambda_l1 is set=0.051289957691119305, reg_alpha=0.0 will be ignored. Current value: lambda_l1=0.051289957691119305\n",
      "[LightGBM] [Warning] bagging_fraction is set=0.6678836346551112, subsample=1.0 will be ignored. Current value: bagging_fraction=0.6678836346551112\n",
      "[LightGBM] [Warning] feature_fraction is set=0.40019344176501753, colsample_bytree=1.0 will be ignored. Current value: feature_fraction=0.40019344176501753\n",
      "[LightGBM] [Warning] lambda_l2 is set=0.7398717494224422, reg_lambda=0.0 will be ignored. Current value: lambda_l2=0.7398717494224422\n",
      "4 [LightGBM] [Warning] lambda_l1 is set=0.051289957691119305, reg_alpha=0.0 will be ignored. Current value: lambda_l1=0.051289957691119305\n",
      "[LightGBM] [Warning] bagging_fraction is set=0.6678836346551112, subsample=1.0 will be ignored. Current value: bagging_fraction=0.6678836346551112\n",
      "[LightGBM] [Warning] feature_fraction is set=0.40019344176501753, colsample_bytree=1.0 will be ignored. Current value: feature_fraction=0.40019344176501753\n",
      "[LightGBM] [Warning] lambda_l2 is set=0.7398717494224422, reg_lambda=0.0 will be ignored. Current value: lambda_l2=0.7398717494224422\n"
     ]
    },
    {
     "name": "stderr",
     "output_type": "stream",
     "text": [
      "\u001b[32m[I 2023-02-06 20:56:04,956]\u001b[0m Trial 14 finished with value: 0.5192305949486263 and parameters: {'n_estimators': 5776, 'learning_rate': 0.08177798475395352, 'max_depth': 10, 'lambda_l1': 0.051289957691119305, 'lambda_l2': 0.7398717494224422, 'num_leaves': 41, 'bagging_fraction': 0.6678836346551112, 'feature_fraction': 0.40019344176501753}. Best is trial 12 with value: 0.5677019478328463.\u001b[0m\n"
     ]
    },
    {
     "name": "stdout",
     "output_type": "stream",
     "text": [
      "0 [LightGBM] [Warning] lambda_l1 is set=0.017878889770942964, reg_alpha=0.0 will be ignored. Current value: lambda_l1=0.017878889770942964\n",
      "[LightGBM] [Warning] bagging_fraction is set=0.5021022854525654, subsample=1.0 will be ignored. Current value: bagging_fraction=0.5021022854525654\n",
      "[LightGBM] [Warning] feature_fraction is set=0.5721680518066218, colsample_bytree=1.0 will be ignored. Current value: feature_fraction=0.5721680518066218\n",
      "[LightGBM] [Warning] lambda_l2 is set=0.18722759843481038, reg_lambda=0.0 will be ignored. Current value: lambda_l2=0.18722759843481038\n",
      "1 [LightGBM] [Warning] lambda_l1 is set=0.017878889770942964, reg_alpha=0.0 will be ignored. Current value: lambda_l1=0.017878889770942964\n",
      "[LightGBM] [Warning] bagging_fraction is set=0.5021022854525654, subsample=1.0 will be ignored. Current value: bagging_fraction=0.5021022854525654\n",
      "[LightGBM] [Warning] feature_fraction is set=0.5721680518066218, colsample_bytree=1.0 will be ignored. Current value: feature_fraction=0.5721680518066218\n",
      "[LightGBM] [Warning] lambda_l2 is set=0.18722759843481038, reg_lambda=0.0 will be ignored. Current value: lambda_l2=0.18722759843481038\n",
      "2 [LightGBM] [Warning] lambda_l1 is set=0.017878889770942964, reg_alpha=0.0 will be ignored. Current value: lambda_l1=0.017878889770942964\n",
      "[LightGBM] [Warning] bagging_fraction is set=0.5021022854525654, subsample=1.0 will be ignored. Current value: bagging_fraction=0.5021022854525654\n",
      "[LightGBM] [Warning] feature_fraction is set=0.5721680518066218, colsample_bytree=1.0 will be ignored. Current value: feature_fraction=0.5721680518066218\n",
      "[LightGBM] [Warning] lambda_l2 is set=0.18722759843481038, reg_lambda=0.0 will be ignored. Current value: lambda_l2=0.18722759843481038\n",
      "3 [LightGBM] [Warning] lambda_l1 is set=0.017878889770942964, reg_alpha=0.0 will be ignored. Current value: lambda_l1=0.017878889770942964\n",
      "[LightGBM] [Warning] bagging_fraction is set=0.5021022854525654, subsample=1.0 will be ignored. Current value: bagging_fraction=0.5021022854525654\n",
      "[LightGBM] [Warning] feature_fraction is set=0.5721680518066218, colsample_bytree=1.0 will be ignored. Current value: feature_fraction=0.5721680518066218\n",
      "[LightGBM] [Warning] lambda_l2 is set=0.18722759843481038, reg_lambda=0.0 will be ignored. Current value: lambda_l2=0.18722759843481038\n",
      "4 [LightGBM] [Warning] lambda_l1 is set=0.017878889770942964, reg_alpha=0.0 will be ignored. Current value: lambda_l1=0.017878889770942964\n",
      "[LightGBM] [Warning] bagging_fraction is set=0.5021022854525654, subsample=1.0 will be ignored. Current value: bagging_fraction=0.5021022854525654\n",
      "[LightGBM] [Warning] feature_fraction is set=0.5721680518066218, colsample_bytree=1.0 will be ignored. Current value: feature_fraction=0.5721680518066218\n",
      "[LightGBM] [Warning] lambda_l2 is set=0.18722759843481038, reg_lambda=0.0 will be ignored. Current value: lambda_l2=0.18722759843481038\n"
     ]
    },
    {
     "name": "stderr",
     "output_type": "stream",
     "text": [
      "\u001b[32m[I 2023-02-06 20:56:32,092]\u001b[0m Trial 15 finished with value: 0.540985931585937 and parameters: {'n_estimators': 7932, 'learning_rate': 0.01973439661685472, 'max_depth': 9, 'lambda_l1': 0.017878889770942964, 'lambda_l2': 0.18722759843481038, 'num_leaves': 77, 'bagging_fraction': 0.5021022854525654, 'feature_fraction': 0.5721680518066218}. Best is trial 12 with value: 0.5677019478328463.\u001b[0m\n"
     ]
    },
    {
     "name": "stdout",
     "output_type": "stream",
     "text": [
      "0 [LightGBM] [Warning] lambda_l1 is set=0.10865783291932259, reg_alpha=0.0 will be ignored. Current value: lambda_l1=0.10865783291932259\n",
      "[LightGBM] [Warning] bagging_fraction is set=0.6590794353098028, subsample=1.0 will be ignored. Current value: bagging_fraction=0.6590794353098028\n",
      "[LightGBM] [Warning] feature_fraction is set=0.38991511350469776, colsample_bytree=1.0 will be ignored. Current value: feature_fraction=0.38991511350469776\n",
      "[LightGBM] [Warning] lambda_l2 is set=2.379294569380132, reg_lambda=0.0 will be ignored. Current value: lambda_l2=2.379294569380132\n",
      "1 [LightGBM] [Warning] lambda_l1 is set=0.10865783291932259, reg_alpha=0.0 will be ignored. Current value: lambda_l1=0.10865783291932259\n",
      "[LightGBM] [Warning] bagging_fraction is set=0.6590794353098028, subsample=1.0 will be ignored. Current value: bagging_fraction=0.6590794353098028\n",
      "[LightGBM] [Warning] feature_fraction is set=0.38991511350469776, colsample_bytree=1.0 will be ignored. Current value: feature_fraction=0.38991511350469776\n",
      "[LightGBM] [Warning] lambda_l2 is set=2.379294569380132, reg_lambda=0.0 will be ignored. Current value: lambda_l2=2.379294569380132\n",
      "2 [LightGBM] [Warning] lambda_l1 is set=0.10865783291932259, reg_alpha=0.0 will be ignored. Current value: lambda_l1=0.10865783291932259\n",
      "[LightGBM] [Warning] bagging_fraction is set=0.6590794353098028, subsample=1.0 will be ignored. Current value: bagging_fraction=0.6590794353098028\n",
      "[LightGBM] [Warning] feature_fraction is set=0.38991511350469776, colsample_bytree=1.0 will be ignored. Current value: feature_fraction=0.38991511350469776\n",
      "[LightGBM] [Warning] lambda_l2 is set=2.379294569380132, reg_lambda=0.0 will be ignored. Current value: lambda_l2=2.379294569380132\n",
      "3 [LightGBM] [Warning] lambda_l1 is set=0.10865783291932259, reg_alpha=0.0 will be ignored. Current value: lambda_l1=0.10865783291932259\n",
      "[LightGBM] [Warning] bagging_fraction is set=0.6590794353098028, subsample=1.0 will be ignored. Current value: bagging_fraction=0.6590794353098028\n",
      "[LightGBM] [Warning] feature_fraction is set=0.38991511350469776, colsample_bytree=1.0 will be ignored. Current value: feature_fraction=0.38991511350469776\n",
      "[LightGBM] [Warning] lambda_l2 is set=2.379294569380132, reg_lambda=0.0 will be ignored. Current value: lambda_l2=2.379294569380132\n",
      "4 [LightGBM] [Warning] lambda_l1 is set=0.10865783291932259, reg_alpha=0.0 will be ignored. Current value: lambda_l1=0.10865783291932259\n",
      "[LightGBM] [Warning] bagging_fraction is set=0.6590794353098028, subsample=1.0 will be ignored. Current value: bagging_fraction=0.6590794353098028\n",
      "[LightGBM] [Warning] feature_fraction is set=0.38991511350469776, colsample_bytree=1.0 will be ignored. Current value: feature_fraction=0.38991511350469776\n",
      "[LightGBM] [Warning] lambda_l2 is set=2.379294569380132, reg_lambda=0.0 will be ignored. Current value: lambda_l2=2.379294569380132\n"
     ]
    },
    {
     "name": "stderr",
     "output_type": "stream",
     "text": [
      "\u001b[32m[I 2023-02-06 20:56:41,529]\u001b[0m Trial 16 finished with value: 0.5287703705383164 and parameters: {'n_estimators': 4500, 'learning_rate': 0.09967749274450048, 'max_depth': 6, 'lambda_l1': 0.10865783291932259, 'lambda_l2': 2.379294569380132, 'num_leaves': 76, 'bagging_fraction': 0.6590794353098028, 'feature_fraction': 0.38991511350469776}. Best is trial 12 with value: 0.5677019478328463.\u001b[0m\n"
     ]
    },
    {
     "name": "stdout",
     "output_type": "stream",
     "text": [
      "0 [LightGBM] [Warning] lambda_l1 is set=0.03803491178105155, reg_alpha=0.0 will be ignored. Current value: lambda_l1=0.03803491178105155\n",
      "[LightGBM] [Warning] bagging_fraction is set=0.8920932984559278, subsample=1.0 will be ignored. Current value: bagging_fraction=0.8920932984559278\n",
      "[LightGBM] [Warning] feature_fraction is set=0.8971247229668342, colsample_bytree=1.0 will be ignored. Current value: feature_fraction=0.8971247229668342\n",
      "[LightGBM] [Warning] lambda_l2 is set=9.802919139105397, reg_lambda=0.0 will be ignored. Current value: lambda_l2=9.802919139105397\n",
      "1 [LightGBM] [Warning] lambda_l1 is set=0.03803491178105155, reg_alpha=0.0 will be ignored. Current value: lambda_l1=0.03803491178105155\n",
      "[LightGBM] [Warning] bagging_fraction is set=0.8920932984559278, subsample=1.0 will be ignored. Current value: bagging_fraction=0.8920932984559278\n",
      "[LightGBM] [Warning] feature_fraction is set=0.8971247229668342, colsample_bytree=1.0 will be ignored. Current value: feature_fraction=0.8971247229668342\n",
      "[LightGBM] [Warning] lambda_l2 is set=9.802919139105397, reg_lambda=0.0 will be ignored. Current value: lambda_l2=9.802919139105397\n",
      "2 [LightGBM] [Warning] lambda_l1 is set=0.03803491178105155, reg_alpha=0.0 will be ignored. Current value: lambda_l1=0.03803491178105155\n",
      "[LightGBM] [Warning] bagging_fraction is set=0.8920932984559278, subsample=1.0 will be ignored. Current value: bagging_fraction=0.8920932984559278\n",
      "[LightGBM] [Warning] feature_fraction is set=0.8971247229668342, colsample_bytree=1.0 will be ignored. Current value: feature_fraction=0.8971247229668342\n",
      "[LightGBM] [Warning] lambda_l2 is set=9.802919139105397, reg_lambda=0.0 will be ignored. Current value: lambda_l2=9.802919139105397\n",
      "3 [LightGBM] [Warning] lambda_l1 is set=0.03803491178105155, reg_alpha=0.0 will be ignored. Current value: lambda_l1=0.03803491178105155\n",
      "[LightGBM] [Warning] bagging_fraction is set=0.8920932984559278, subsample=1.0 will be ignored. Current value: bagging_fraction=0.8920932984559278\n",
      "[LightGBM] [Warning] feature_fraction is set=0.8971247229668342, colsample_bytree=1.0 will be ignored. Current value: feature_fraction=0.8971247229668342\n",
      "[LightGBM] [Warning] lambda_l2 is set=9.802919139105397, reg_lambda=0.0 will be ignored. Current value: lambda_l2=9.802919139105397\n",
      "4 [LightGBM] [Warning] lambda_l1 is set=0.03803491178105155, reg_alpha=0.0 will be ignored. Current value: lambda_l1=0.03803491178105155\n",
      "[LightGBM] [Warning] bagging_fraction is set=0.8920932984559278, subsample=1.0 will be ignored. Current value: bagging_fraction=0.8920932984559278\n",
      "[LightGBM] [Warning] feature_fraction is set=0.8971247229668342, colsample_bytree=1.0 will be ignored. Current value: feature_fraction=0.8971247229668342\n",
      "[LightGBM] [Warning] lambda_l2 is set=9.802919139105397, reg_lambda=0.0 will be ignored. Current value: lambda_l2=9.802919139105397\n"
     ]
    },
    {
     "name": "stderr",
     "output_type": "stream",
     "text": [
      "\u001b[32m[I 2023-02-06 20:56:43,273]\u001b[0m Trial 17 finished with value: 0.4039718316236881 and parameters: {'n_estimators': 480, 'learning_rate': 0.011270651432791757, 'max_depth': 3, 'lambda_l1': 0.03803491178105155, 'lambda_l2': 9.802919139105397, 'num_leaves': 43, 'bagging_fraction': 0.8920932984559278, 'feature_fraction': 0.8971247229668342}. Best is trial 12 with value: 0.5677019478328463.\u001b[0m\n"
     ]
    },
    {
     "name": "stdout",
     "output_type": "stream",
     "text": [
      "0 [LightGBM] [Warning] lambda_l1 is set=0.11051774440437333, reg_alpha=0.0 will be ignored. Current value: lambda_l1=0.11051774440437333\n",
      "[LightGBM] [Warning] bagging_fraction is set=0.3561436149711876, subsample=1.0 will be ignored. Current value: bagging_fraction=0.3561436149711876\n",
      "[LightGBM] [Warning] feature_fraction is set=0.5684265952126187, colsample_bytree=1.0 will be ignored. Current value: feature_fraction=0.5684265952126187\n",
      "[LightGBM] [Warning] lambda_l2 is set=0.4151758212376172, reg_lambda=0.0 will be ignored. Current value: lambda_l2=0.4151758212376172\n",
      "1 [LightGBM] [Warning] lambda_l1 is set=0.11051774440437333, reg_alpha=0.0 will be ignored. Current value: lambda_l1=0.11051774440437333\n",
      "[LightGBM] [Warning] bagging_fraction is set=0.3561436149711876, subsample=1.0 will be ignored. Current value: bagging_fraction=0.3561436149711876\n",
      "[LightGBM] [Warning] feature_fraction is set=0.5684265952126187, colsample_bytree=1.0 will be ignored. Current value: feature_fraction=0.5684265952126187\n",
      "[LightGBM] [Warning] lambda_l2 is set=0.4151758212376172, reg_lambda=0.0 will be ignored. Current value: lambda_l2=0.4151758212376172\n",
      "2 [LightGBM] [Warning] lambda_l1 is set=0.11051774440437333, reg_alpha=0.0 will be ignored. Current value: lambda_l1=0.11051774440437333\n",
      "[LightGBM] [Warning] bagging_fraction is set=0.3561436149711876, subsample=1.0 will be ignored. Current value: bagging_fraction=0.3561436149711876\n",
      "[LightGBM] [Warning] feature_fraction is set=0.5684265952126187, colsample_bytree=1.0 will be ignored. Current value: feature_fraction=0.5684265952126187\n",
      "[LightGBM] [Warning] lambda_l2 is set=0.4151758212376172, reg_lambda=0.0 will be ignored. Current value: lambda_l2=0.4151758212376172\n",
      "3 [LightGBM] [Warning] lambda_l1 is set=0.11051774440437333, reg_alpha=0.0 will be ignored. Current value: lambda_l1=0.11051774440437333\n",
      "[LightGBM] [Warning] bagging_fraction is set=0.3561436149711876, subsample=1.0 will be ignored. Current value: bagging_fraction=0.3561436149711876\n",
      "[LightGBM] [Warning] feature_fraction is set=0.5684265952126187, colsample_bytree=1.0 will be ignored. Current value: feature_fraction=0.5684265952126187\n",
      "[LightGBM] [Warning] lambda_l2 is set=0.4151758212376172, reg_lambda=0.0 will be ignored. Current value: lambda_l2=0.4151758212376172\n",
      "4 [LightGBM] [Warning] lambda_l1 is set=0.11051774440437333, reg_alpha=0.0 will be ignored. Current value: lambda_l1=0.11051774440437333\n",
      "[LightGBM] [Warning] bagging_fraction is set=0.3561436149711876, subsample=1.0 will be ignored. Current value: bagging_fraction=0.3561436149711876\n",
      "[LightGBM] [Warning] feature_fraction is set=0.5684265952126187, colsample_bytree=1.0 will be ignored. Current value: feature_fraction=0.5684265952126187\n",
      "[LightGBM] [Warning] lambda_l2 is set=0.4151758212376172, reg_lambda=0.0 will be ignored. Current value: lambda_l2=0.4151758212376172\n"
     ]
    },
    {
     "name": "stderr",
     "output_type": "stream",
     "text": [
      "\u001b[32m[I 2023-02-06 20:56:54,397]\u001b[0m Trial 18 finished with value: 0.5576388106803416 and parameters: {'n_estimators': 8179, 'learning_rate': 0.1244633704083593, 'max_depth': 12, 'lambda_l1': 0.11051774440437333, 'lambda_l2': 0.4151758212376172, 'num_leaves': 7, 'bagging_fraction': 0.3561436149711876, 'feature_fraction': 0.5684265952126187}. Best is trial 12 with value: 0.5677019478328463.\u001b[0m\n"
     ]
    },
    {
     "name": "stdout",
     "output_type": "stream",
     "text": [
      "0 [LightGBM] [Warning] lambda_l1 is set=0.011120144434198953, reg_alpha=0.0 will be ignored. Current value: lambda_l1=0.011120144434198953\n",
      "[LightGBM] [Warning] bagging_fraction is set=0.5670025948618933, subsample=1.0 will be ignored. Current value: bagging_fraction=0.5670025948618933\n",
      "[LightGBM] [Warning] feature_fraction is set=0.3986821389512214, colsample_bytree=1.0 will be ignored. Current value: feature_fraction=0.3986821389512214\n",
      "[LightGBM] [Warning] lambda_l2 is set=0.862194092829523, reg_lambda=0.0 will be ignored. Current value: lambda_l2=0.862194092829523\n",
      "1 [LightGBM] [Warning] lambda_l1 is set=0.011120144434198953, reg_alpha=0.0 will be ignored. Current value: lambda_l1=0.011120144434198953\n",
      "[LightGBM] [Warning] bagging_fraction is set=0.5670025948618933, subsample=1.0 will be ignored. Current value: bagging_fraction=0.5670025948618933\n",
      "[LightGBM] [Warning] feature_fraction is set=0.3986821389512214, colsample_bytree=1.0 will be ignored. Current value: feature_fraction=0.3986821389512214\n",
      "[LightGBM] [Warning] lambda_l2 is set=0.862194092829523, reg_lambda=0.0 will be ignored. Current value: lambda_l2=0.862194092829523\n",
      "2 [LightGBM] [Warning] lambda_l1 is set=0.011120144434198953, reg_alpha=0.0 will be ignored. Current value: lambda_l1=0.011120144434198953\n",
      "[LightGBM] [Warning] bagging_fraction is set=0.5670025948618933, subsample=1.0 will be ignored. Current value: bagging_fraction=0.5670025948618933\n",
      "[LightGBM] [Warning] feature_fraction is set=0.3986821389512214, colsample_bytree=1.0 will be ignored. Current value: feature_fraction=0.3986821389512214\n",
      "[LightGBM] [Warning] lambda_l2 is set=0.862194092829523, reg_lambda=0.0 will be ignored. Current value: lambda_l2=0.862194092829523\n",
      "3 [LightGBM] [Warning] lambda_l1 is set=0.011120144434198953, reg_alpha=0.0 will be ignored. Current value: lambda_l1=0.011120144434198953\n",
      "[LightGBM] [Warning] bagging_fraction is set=0.5670025948618933, subsample=1.0 will be ignored. Current value: bagging_fraction=0.5670025948618933\n",
      "[LightGBM] [Warning] feature_fraction is set=0.3986821389512214, colsample_bytree=1.0 will be ignored. Current value: feature_fraction=0.3986821389512214\n",
      "[LightGBM] [Warning] lambda_l2 is set=0.862194092829523, reg_lambda=0.0 will be ignored. Current value: lambda_l2=0.862194092829523\n",
      "4 [LightGBM] [Warning] lambda_l1 is set=0.011120144434198953, reg_alpha=0.0 will be ignored. Current value: lambda_l1=0.011120144434198953\n",
      "[LightGBM] [Warning] bagging_fraction is set=0.5670025948618933, subsample=1.0 will be ignored. Current value: bagging_fraction=0.5670025948618933\n",
      "[LightGBM] [Warning] feature_fraction is set=0.3986821389512214, colsample_bytree=1.0 will be ignored. Current value: feature_fraction=0.3986821389512214\n",
      "[LightGBM] [Warning] lambda_l2 is set=0.862194092829523, reg_lambda=0.0 will be ignored. Current value: lambda_l2=0.862194092829523\n"
     ]
    },
    {
     "name": "stderr",
     "output_type": "stream",
     "text": [
      "\u001b[32m[I 2023-02-06 20:57:04,464]\u001b[0m Trial 19 finished with value: 0.5461550750874069 and parameters: {'n_estimators': 3060, 'learning_rate': 0.039093060386562545, 'max_depth': 7, 'lambda_l1': 0.011120144434198953, 'lambda_l2': 0.862194092829523, 'num_leaves': 24, 'bagging_fraction': 0.5670025948618933, 'feature_fraction': 0.3986821389512214}. Best is trial 12 with value: 0.5677019478328463.\u001b[0m\n"
     ]
    },
    {
     "name": "stdout",
     "output_type": "stream",
     "text": [
      "0 [LightGBM] [Warning] lambda_l1 is set=0.02608543651640553, reg_alpha=0.0 will be ignored. Current value: lambda_l1=0.02608543651640553\n",
      "[LightGBM] [Warning] bagging_fraction is set=0.47834868498751215, subsample=1.0 will be ignored. Current value: bagging_fraction=0.47834868498751215\n",
      "[LightGBM] [Warning] feature_fraction is set=0.20120353292017296, colsample_bytree=1.0 will be ignored. Current value: feature_fraction=0.20120353292017296\n",
      "[LightGBM] [Warning] lambda_l2 is set=0.2818304166175938, reg_lambda=0.0 will be ignored. Current value: lambda_l2=0.2818304166175938\n",
      "1 [LightGBM] [Warning] lambda_l1 is set=0.02608543651640553, reg_alpha=0.0 will be ignored. Current value: lambda_l1=0.02608543651640553\n",
      "[LightGBM] [Warning] bagging_fraction is set=0.47834868498751215, subsample=1.0 will be ignored. Current value: bagging_fraction=0.47834868498751215\n",
      "[LightGBM] [Warning] feature_fraction is set=0.20120353292017296, colsample_bytree=1.0 will be ignored. Current value: feature_fraction=0.20120353292017296\n",
      "[LightGBM] [Warning] lambda_l2 is set=0.2818304166175938, reg_lambda=0.0 will be ignored. Current value: lambda_l2=0.2818304166175938\n",
      "2 [LightGBM] [Warning] lambda_l1 is set=0.02608543651640553, reg_alpha=0.0 will be ignored. Current value: lambda_l1=0.02608543651640553\n",
      "[LightGBM] [Warning] bagging_fraction is set=0.47834868498751215, subsample=1.0 will be ignored. Current value: bagging_fraction=0.47834868498751215\n",
      "[LightGBM] [Warning] feature_fraction is set=0.20120353292017296, colsample_bytree=1.0 will be ignored. Current value: feature_fraction=0.20120353292017296\n",
      "[LightGBM] [Warning] lambda_l2 is set=0.2818304166175938, reg_lambda=0.0 will be ignored. Current value: lambda_l2=0.2818304166175938\n",
      "3 [LightGBM] [Warning] lambda_l1 is set=0.02608543651640553, reg_alpha=0.0 will be ignored. Current value: lambda_l1=0.02608543651640553\n",
      "[LightGBM] [Warning] bagging_fraction is set=0.47834868498751215, subsample=1.0 will be ignored. Current value: bagging_fraction=0.47834868498751215\n",
      "[LightGBM] [Warning] feature_fraction is set=0.20120353292017296, colsample_bytree=1.0 will be ignored. Current value: feature_fraction=0.20120353292017296\n",
      "[LightGBM] [Warning] lambda_l2 is set=0.2818304166175938, reg_lambda=0.0 will be ignored. Current value: lambda_l2=0.2818304166175938\n",
      "4 [LightGBM] [Warning] lambda_l1 is set=0.02608543651640553, reg_alpha=0.0 will be ignored. Current value: lambda_l1=0.02608543651640553\n",
      "[LightGBM] [Warning] bagging_fraction is set=0.47834868498751215, subsample=1.0 will be ignored. Current value: bagging_fraction=0.47834868498751215\n",
      "[LightGBM] [Warning] feature_fraction is set=0.20120353292017296, colsample_bytree=1.0 will be ignored. Current value: feature_fraction=0.20120353292017296\n",
      "[LightGBM] [Warning] lambda_l2 is set=0.2818304166175938, reg_lambda=0.0 will be ignored. Current value: lambda_l2=0.2818304166175938\n"
     ]
    },
    {
     "name": "stderr",
     "output_type": "stream",
     "text": [
      "\u001b[32m[I 2023-02-06 20:57:23,315]\u001b[0m Trial 20 finished with value: 0.5530399291586827 and parameters: {'n_estimators': 5393, 'learning_rate': 0.02755842266981102, 'max_depth': 9, 'lambda_l1': 0.02608543651640553, 'lambda_l2': 0.2818304166175938, 'num_leaves': 68, 'bagging_fraction': 0.47834868498751215, 'feature_fraction': 0.20120353292017296}. Best is trial 12 with value: 0.5677019478328463.\u001b[0m\n"
     ]
    },
    {
     "name": "stdout",
     "output_type": "stream",
     "text": [
      "0 [LightGBM] [Warning] lambda_l1 is set=0.5179068557051463, reg_alpha=0.0 will be ignored. Current value: lambda_l1=0.5179068557051463\n",
      "[LightGBM] [Warning] bagging_fraction is set=0.7736121134091272, subsample=1.0 will be ignored. Current value: bagging_fraction=0.7736121134091272\n",
      "[LightGBM] [Warning] feature_fraction is set=0.24784997196769115, colsample_bytree=1.0 will be ignored. Current value: feature_fraction=0.24784997196769115\n",
      "[LightGBM] [Warning] lambda_l2 is set=0.44901903268254395, reg_lambda=0.0 will be ignored. Current value: lambda_l2=0.44901903268254395\n",
      "1 [LightGBM] [Warning] lambda_l1 is set=0.5179068557051463, reg_alpha=0.0 will be ignored. Current value: lambda_l1=0.5179068557051463\n",
      "[LightGBM] [Warning] bagging_fraction is set=0.7736121134091272, subsample=1.0 will be ignored. Current value: bagging_fraction=0.7736121134091272\n",
      "[LightGBM] [Warning] feature_fraction is set=0.24784997196769115, colsample_bytree=1.0 will be ignored. Current value: feature_fraction=0.24784997196769115\n",
      "[LightGBM] [Warning] lambda_l2 is set=0.44901903268254395, reg_lambda=0.0 will be ignored. Current value: lambda_l2=0.44901903268254395\n",
      "2 [LightGBM] [Warning] lambda_l1 is set=0.5179068557051463, reg_alpha=0.0 will be ignored. Current value: lambda_l1=0.5179068557051463\n",
      "[LightGBM] [Warning] bagging_fraction is set=0.7736121134091272, subsample=1.0 will be ignored. Current value: bagging_fraction=0.7736121134091272\n",
      "[LightGBM] [Warning] feature_fraction is set=0.24784997196769115, colsample_bytree=1.0 will be ignored. Current value: feature_fraction=0.24784997196769115\n",
      "[LightGBM] [Warning] lambda_l2 is set=0.44901903268254395, reg_lambda=0.0 will be ignored. Current value: lambda_l2=0.44901903268254395\n",
      "3 [LightGBM] [Warning] lambda_l1 is set=0.5179068557051463, reg_alpha=0.0 will be ignored. Current value: lambda_l1=0.5179068557051463\n",
      "[LightGBM] [Warning] bagging_fraction is set=0.7736121134091272, subsample=1.0 will be ignored. Current value: bagging_fraction=0.7736121134091272\n",
      "[LightGBM] [Warning] feature_fraction is set=0.24784997196769115, colsample_bytree=1.0 will be ignored. Current value: feature_fraction=0.24784997196769115\n",
      "[LightGBM] [Warning] lambda_l2 is set=0.44901903268254395, reg_lambda=0.0 will be ignored. Current value: lambda_l2=0.44901903268254395\n",
      "4 [LightGBM] [Warning] lambda_l1 is set=0.5179068557051463, reg_alpha=0.0 will be ignored. Current value: lambda_l1=0.5179068557051463\n",
      "[LightGBM] [Warning] bagging_fraction is set=0.7736121134091272, subsample=1.0 will be ignored. Current value: bagging_fraction=0.7736121134091272\n",
      "[LightGBM] [Warning] feature_fraction is set=0.24784997196769115, colsample_bytree=1.0 will be ignored. Current value: feature_fraction=0.24784997196769115\n",
      "[LightGBM] [Warning] lambda_l2 is set=0.44901903268254395, reg_lambda=0.0 will be ignored. Current value: lambda_l2=0.44901903268254395\n"
     ]
    },
    {
     "name": "stderr",
     "output_type": "stream",
     "text": [
      "\u001b[32m[I 2023-02-06 20:57:37,496]\u001b[0m Trial 21 finished with value: 0.5569275888878191 and parameters: {'n_estimators': 8395, 'learning_rate': 0.009784576811608927, 'max_depth': 4, 'lambda_l1': 0.5179068557051463, 'lambda_l2': 0.44901903268254395, 'num_leaves': 98, 'bagging_fraction': 0.7736121134091272, 'feature_fraction': 0.24784997196769115}. Best is trial 12 with value: 0.5677019478328463.\u001b[0m\n"
     ]
    },
    {
     "name": "stdout",
     "output_type": "stream",
     "text": [
      "0 [LightGBM] [Warning] lambda_l1 is set=0.08473079871939207, reg_alpha=0.0 will be ignored. Current value: lambda_l1=0.08473079871939207\n",
      "[LightGBM] [Warning] bagging_fraction is set=0.7422502386942813, subsample=1.0 will be ignored. Current value: bagging_fraction=0.7422502386942813\n",
      "[LightGBM] [Warning] feature_fraction is set=0.33845872952435974, colsample_bytree=1.0 will be ignored. Current value: feature_fraction=0.33845872952435974\n",
      "[LightGBM] [Warning] lambda_l2 is set=1.6598594534172855, reg_lambda=0.0 will be ignored. Current value: lambda_l2=1.6598594534172855\n",
      "1 [LightGBM] [Warning] lambda_l1 is set=0.08473079871939207, reg_alpha=0.0 will be ignored. Current value: lambda_l1=0.08473079871939207\n",
      "[LightGBM] [Warning] bagging_fraction is set=0.7422502386942813, subsample=1.0 will be ignored. Current value: bagging_fraction=0.7422502386942813\n",
      "[LightGBM] [Warning] feature_fraction is set=0.33845872952435974, colsample_bytree=1.0 will be ignored. Current value: feature_fraction=0.33845872952435974\n",
      "[LightGBM] [Warning] lambda_l2 is set=1.6598594534172855, reg_lambda=0.0 will be ignored. Current value: lambda_l2=1.6598594534172855\n",
      "2 [LightGBM] [Warning] lambda_l1 is set=0.08473079871939207, reg_alpha=0.0 will be ignored. Current value: lambda_l1=0.08473079871939207\n",
      "[LightGBM] [Warning] bagging_fraction is set=0.7422502386942813, subsample=1.0 will be ignored. Current value: bagging_fraction=0.7422502386942813\n",
      "[LightGBM] [Warning] feature_fraction is set=0.33845872952435974, colsample_bytree=1.0 will be ignored. Current value: feature_fraction=0.33845872952435974\n",
      "[LightGBM] [Warning] lambda_l2 is set=1.6598594534172855, reg_lambda=0.0 will be ignored. Current value: lambda_l2=1.6598594534172855\n",
      "3 [LightGBM] [Warning] lambda_l1 is set=0.08473079871939207, reg_alpha=0.0 will be ignored. Current value: lambda_l1=0.08473079871939207\n",
      "[LightGBM] [Warning] bagging_fraction is set=0.7422502386942813, subsample=1.0 will be ignored. Current value: bagging_fraction=0.7422502386942813\n",
      "[LightGBM] [Warning] feature_fraction is set=0.33845872952435974, colsample_bytree=1.0 will be ignored. Current value: feature_fraction=0.33845872952435974\n",
      "[LightGBM] [Warning] lambda_l2 is set=1.6598594534172855, reg_lambda=0.0 will be ignored. Current value: lambda_l2=1.6598594534172855\n",
      "4 [LightGBM] [Warning] lambda_l1 is set=0.08473079871939207, reg_alpha=0.0 will be ignored. Current value: lambda_l1=0.08473079871939207\n",
      "[LightGBM] [Warning] bagging_fraction is set=0.7422502386942813, subsample=1.0 will be ignored. Current value: bagging_fraction=0.7422502386942813\n",
      "[LightGBM] [Warning] feature_fraction is set=0.33845872952435974, colsample_bytree=1.0 will be ignored. Current value: feature_fraction=0.33845872952435974\n",
      "[LightGBM] [Warning] lambda_l2 is set=1.6598594534172855, reg_lambda=0.0 will be ignored. Current value: lambda_l2=1.6598594534172855\n"
     ]
    },
    {
     "name": "stderr",
     "output_type": "stream",
     "text": [
      "\u001b[32m[I 2023-02-06 20:57:50,747]\u001b[0m Trial 22 finished with value: 0.5606602627216797 and parameters: {'n_estimators': 8654, 'learning_rate': 0.005162929046471226, 'max_depth': 4, 'lambda_l1': 0.08473079871939207, 'lambda_l2': 1.6598594534172855, 'num_leaves': 87, 'bagging_fraction': 0.7422502386942813, 'feature_fraction': 0.33845872952435974}. Best is trial 12 with value: 0.5677019478328463.\u001b[0m\n"
     ]
    },
    {
     "name": "stdout",
     "output_type": "stream",
     "text": [
      "0 [LightGBM] [Warning] lambda_l1 is set=0.06276381274409497, reg_alpha=0.0 will be ignored. Current value: lambda_l1=0.06276381274409497\n",
      "[LightGBM] [Warning] bagging_fraction is set=0.7208627228849043, subsample=1.0 will be ignored. Current value: bagging_fraction=0.7208627228849043\n",
      "[LightGBM] [Warning] feature_fraction is set=0.31228895610948754, colsample_bytree=1.0 will be ignored. Current value: feature_fraction=0.31228895610948754\n",
      "[LightGBM] [Warning] lambda_l2 is set=1.8550516634661298, reg_lambda=0.0 will be ignored. Current value: lambda_l2=1.8550516634661298\n",
      "1 [LightGBM] [Warning] lambda_l1 is set=0.06276381274409497, reg_alpha=0.0 will be ignored. Current value: lambda_l1=0.06276381274409497\n",
      "[LightGBM] [Warning] bagging_fraction is set=0.7208627228849043, subsample=1.0 will be ignored. Current value: bagging_fraction=0.7208627228849043\n",
      "[LightGBM] [Warning] feature_fraction is set=0.31228895610948754, colsample_bytree=1.0 will be ignored. Current value: feature_fraction=0.31228895610948754\n",
      "[LightGBM] [Warning] lambda_l2 is set=1.8550516634661298, reg_lambda=0.0 will be ignored. Current value: lambda_l2=1.8550516634661298\n",
      "2 [LightGBM] [Warning] lambda_l1 is set=0.06276381274409497, reg_alpha=0.0 will be ignored. Current value: lambda_l1=0.06276381274409497\n",
      "[LightGBM] [Warning] bagging_fraction is set=0.7208627228849043, subsample=1.0 will be ignored. Current value: bagging_fraction=0.7208627228849043\n",
      "[LightGBM] [Warning] feature_fraction is set=0.31228895610948754, colsample_bytree=1.0 will be ignored. Current value: feature_fraction=0.31228895610948754\n",
      "[LightGBM] [Warning] lambda_l2 is set=1.8550516634661298, reg_lambda=0.0 will be ignored. Current value: lambda_l2=1.8550516634661298\n",
      "3 [LightGBM] [Warning] lambda_l1 is set=0.06276381274409497, reg_alpha=0.0 will be ignored. Current value: lambda_l1=0.06276381274409497\n",
      "[LightGBM] [Warning] bagging_fraction is set=0.7208627228849043, subsample=1.0 will be ignored. Current value: bagging_fraction=0.7208627228849043\n",
      "[LightGBM] [Warning] feature_fraction is set=0.31228895610948754, colsample_bytree=1.0 will be ignored. Current value: feature_fraction=0.31228895610948754\n",
      "[LightGBM] [Warning] lambda_l2 is set=1.8550516634661298, reg_lambda=0.0 will be ignored. Current value: lambda_l2=1.8550516634661298\n",
      "4 [LightGBM] [Warning] lambda_l1 is set=0.06276381274409497, reg_alpha=0.0 will be ignored. Current value: lambda_l1=0.06276381274409497\n",
      "[LightGBM] [Warning] bagging_fraction is set=0.7208627228849043, subsample=1.0 will be ignored. Current value: bagging_fraction=0.7208627228849043\n",
      "[LightGBM] [Warning] feature_fraction is set=0.31228895610948754, colsample_bytree=1.0 will be ignored. Current value: feature_fraction=0.31228895610948754\n",
      "[LightGBM] [Warning] lambda_l2 is set=1.8550516634661298, reg_lambda=0.0 will be ignored. Current value: lambda_l2=1.8550516634661298\n"
     ]
    },
    {
     "name": "stderr",
     "output_type": "stream",
     "text": [
      "\u001b[32m[I 2023-02-06 20:58:00,887]\u001b[0m Trial 23 finished with value: 0.5616495911120282 and parameters: {'n_estimators': 5931, 'learning_rate': 0.0045925533670990665, 'max_depth': 4, 'lambda_l1': 0.06276381274409497, 'lambda_l2': 1.8550516634661298, 'num_leaves': 88, 'bagging_fraction': 0.7208627228849043, 'feature_fraction': 0.31228895610948754}. Best is trial 12 with value: 0.5677019478328463.\u001b[0m\n"
     ]
    },
    {
     "name": "stdout",
     "output_type": "stream",
     "text": [
      "0 [LightGBM] [Warning] lambda_l1 is set=0.057131295647788245, reg_alpha=0.0 will be ignored. Current value: lambda_l1=0.057131295647788245\n",
      "[LightGBM] [Warning] bagging_fraction is set=0.687158321137505, subsample=1.0 will be ignored. Current value: bagging_fraction=0.687158321137505\n",
      "[LightGBM] [Warning] feature_fraction is set=0.32478418428002087, colsample_bytree=1.0 will be ignored. Current value: feature_fraction=0.32478418428002087\n",
      "[LightGBM] [Warning] lambda_l2 is set=4.3880763084961, reg_lambda=0.0 will be ignored. Current value: lambda_l2=4.3880763084961\n",
      "1 [LightGBM] [Warning] lambda_l1 is set=0.057131295647788245, reg_alpha=0.0 will be ignored. Current value: lambda_l1=0.057131295647788245\n",
      "[LightGBM] [Warning] bagging_fraction is set=0.687158321137505, subsample=1.0 will be ignored. Current value: bagging_fraction=0.687158321137505\n",
      "[LightGBM] [Warning] feature_fraction is set=0.32478418428002087, colsample_bytree=1.0 will be ignored. Current value: feature_fraction=0.32478418428002087\n",
      "[LightGBM] [Warning] lambda_l2 is set=4.3880763084961, reg_lambda=0.0 will be ignored. Current value: lambda_l2=4.3880763084961\n",
      "2 [LightGBM] [Warning] lambda_l1 is set=0.057131295647788245, reg_alpha=0.0 will be ignored. Current value: lambda_l1=0.057131295647788245\n",
      "[LightGBM] [Warning] bagging_fraction is set=0.687158321137505, subsample=1.0 will be ignored. Current value: bagging_fraction=0.687158321137505\n",
      "[LightGBM] [Warning] feature_fraction is set=0.32478418428002087, colsample_bytree=1.0 will be ignored. Current value: feature_fraction=0.32478418428002087\n",
      "[LightGBM] [Warning] lambda_l2 is set=4.3880763084961, reg_lambda=0.0 will be ignored. Current value: lambda_l2=4.3880763084961\n",
      "3 [LightGBM] [Warning] lambda_l1 is set=0.057131295647788245, reg_alpha=0.0 will be ignored. Current value: lambda_l1=0.057131295647788245\n",
      "[LightGBM] [Warning] bagging_fraction is set=0.687158321137505, subsample=1.0 will be ignored. Current value: bagging_fraction=0.687158321137505\n",
      "[LightGBM] [Warning] feature_fraction is set=0.32478418428002087, colsample_bytree=1.0 will be ignored. Current value: feature_fraction=0.32478418428002087\n",
      "[LightGBM] [Warning] lambda_l2 is set=4.3880763084961, reg_lambda=0.0 will be ignored. Current value: lambda_l2=4.3880763084961\n",
      "4 [LightGBM] [Warning] lambda_l1 is set=0.057131295647788245, reg_alpha=0.0 will be ignored. Current value: lambda_l1=0.057131295647788245\n",
      "[LightGBM] [Warning] bagging_fraction is set=0.687158321137505, subsample=1.0 will be ignored. Current value: bagging_fraction=0.687158321137505\n",
      "[LightGBM] [Warning] feature_fraction is set=0.32478418428002087, colsample_bytree=1.0 will be ignored. Current value: feature_fraction=0.32478418428002087\n",
      "[LightGBM] [Warning] lambda_l2 is set=4.3880763084961, reg_lambda=0.0 will be ignored. Current value: lambda_l2=4.3880763084961\n"
     ]
    },
    {
     "name": "stderr",
     "output_type": "stream",
     "text": [
      "\u001b[32m[I 2023-02-06 20:58:08,766]\u001b[0m Trial 24 finished with value: 0.5554718724765291 and parameters: {'n_estimators': 6181, 'learning_rate': 0.02924394190931495, 'max_depth': 3, 'lambda_l1': 0.057131295647788245, 'lambda_l2': 4.3880763084961, 'num_leaves': 81, 'bagging_fraction': 0.687158321137505, 'feature_fraction': 0.32478418428002087}. Best is trial 12 with value: 0.5677019478328463.\u001b[0m\n"
     ]
    },
    {
     "name": "stdout",
     "output_type": "stream",
     "text": [
      "0 [LightGBM] [Warning] lambda_l1 is set=0.14437700076462917, reg_alpha=0.0 will be ignored. Current value: lambda_l1=0.14437700076462917\n",
      "[LightGBM] [Warning] bagging_fraction is set=0.6084032468238985, subsample=1.0 will be ignored. Current value: bagging_fraction=0.6084032468238985\n",
      "[LightGBM] [Warning] feature_fraction is set=0.26669850016270963, colsample_bytree=1.0 will be ignored. Current value: feature_fraction=0.26669850016270963\n",
      "[LightGBM] [Warning] lambda_l2 is set=1.682637219313357, reg_lambda=0.0 will be ignored. Current value: lambda_l2=1.682637219313357\n",
      "1 [LightGBM] [Warning] lambda_l1 is set=0.14437700076462917, reg_alpha=0.0 will be ignored. Current value: lambda_l1=0.14437700076462917\n",
      "[LightGBM] [Warning] bagging_fraction is set=0.6084032468238985, subsample=1.0 will be ignored. Current value: bagging_fraction=0.6084032468238985\n",
      "[LightGBM] [Warning] feature_fraction is set=0.26669850016270963, colsample_bytree=1.0 will be ignored. Current value: feature_fraction=0.26669850016270963\n",
      "[LightGBM] [Warning] lambda_l2 is set=1.682637219313357, reg_lambda=0.0 will be ignored. Current value: lambda_l2=1.682637219313357\n",
      "2 [LightGBM] [Warning] lambda_l1 is set=0.14437700076462917, reg_alpha=0.0 will be ignored. Current value: lambda_l1=0.14437700076462917\n",
      "[LightGBM] [Warning] bagging_fraction is set=0.6084032468238985, subsample=1.0 will be ignored. Current value: bagging_fraction=0.6084032468238985\n",
      "[LightGBM] [Warning] feature_fraction is set=0.26669850016270963, colsample_bytree=1.0 will be ignored. Current value: feature_fraction=0.26669850016270963\n",
      "[LightGBM] [Warning] lambda_l2 is set=1.682637219313357, reg_lambda=0.0 will be ignored. Current value: lambda_l2=1.682637219313357\n",
      "3 [LightGBM] [Warning] lambda_l1 is set=0.14437700076462917, reg_alpha=0.0 will be ignored. Current value: lambda_l1=0.14437700076462917\n",
      "[LightGBM] [Warning] bagging_fraction is set=0.6084032468238985, subsample=1.0 will be ignored. Current value: bagging_fraction=0.6084032468238985\n",
      "[LightGBM] [Warning] feature_fraction is set=0.26669850016270963, colsample_bytree=1.0 will be ignored. Current value: feature_fraction=0.26669850016270963\n",
      "[LightGBM] [Warning] lambda_l2 is set=1.682637219313357, reg_lambda=0.0 will be ignored. Current value: lambda_l2=1.682637219313357\n",
      "4 [LightGBM] [Warning] lambda_l1 is set=0.14437700076462917, reg_alpha=0.0 will be ignored. Current value: lambda_l1=0.14437700076462917\n",
      "[LightGBM] [Warning] bagging_fraction is set=0.6084032468238985, subsample=1.0 will be ignored. Current value: bagging_fraction=0.6084032468238985\n",
      "[LightGBM] [Warning] feature_fraction is set=0.26669850016270963, colsample_bytree=1.0 will be ignored. Current value: feature_fraction=0.26669850016270963\n",
      "[LightGBM] [Warning] lambda_l2 is set=1.682637219313357, reg_lambda=0.0 will be ignored. Current value: lambda_l2=1.682637219313357\n"
     ]
    },
    {
     "name": "stderr",
     "output_type": "stream",
     "text": [
      "\u001b[32m[I 2023-02-06 20:58:28,713]\u001b[0m Trial 25 finished with value: 0.5520858608995871 and parameters: {'n_estimators': 7273, 'learning_rate': 0.006294566968486827, 'max_depth': 5, 'lambda_l1': 0.14437700076462917, 'lambda_l2': 1.682637219313357, 'num_leaves': 46, 'bagging_fraction': 0.6084032468238985, 'feature_fraction': 0.26669850016270963}. Best is trial 12 with value: 0.5677019478328463.\u001b[0m\n"
     ]
    },
    {
     "name": "stdout",
     "output_type": "stream",
     "text": [
      "0 [LightGBM] [Warning] lambda_l1 is set=0.027645496760829204, reg_alpha=0.0 will be ignored. Current value: lambda_l1=0.027645496760829204\n",
      "[LightGBM] [Warning] bagging_fraction is set=0.8254666179319955, subsample=1.0 will be ignored. Current value: bagging_fraction=0.8254666179319955\n",
      "[LightGBM] [Warning] feature_fraction is set=0.34215865519159283, colsample_bytree=1.0 will be ignored. Current value: feature_fraction=0.34215865519159283\n",
      "[LightGBM] [Warning] lambda_l2 is set=0.8193711710368262, reg_lambda=0.0 will be ignored. Current value: lambda_l2=0.8193711710368262\n",
      "1 [LightGBM] [Warning] lambda_l1 is set=0.027645496760829204, reg_alpha=0.0 will be ignored. Current value: lambda_l1=0.027645496760829204\n",
      "[LightGBM] [Warning] bagging_fraction is set=0.8254666179319955, subsample=1.0 will be ignored. Current value: bagging_fraction=0.8254666179319955\n",
      "[LightGBM] [Warning] feature_fraction is set=0.34215865519159283, colsample_bytree=1.0 will be ignored. Current value: feature_fraction=0.34215865519159283\n",
      "[LightGBM] [Warning] lambda_l2 is set=0.8193711710368262, reg_lambda=0.0 will be ignored. Current value: lambda_l2=0.8193711710368262\n",
      "2 [LightGBM] [Warning] lambda_l1 is set=0.027645496760829204, reg_alpha=0.0 will be ignored. Current value: lambda_l1=0.027645496760829204\n",
      "[LightGBM] [Warning] bagging_fraction is set=0.8254666179319955, subsample=1.0 will be ignored. Current value: bagging_fraction=0.8254666179319955\n",
      "[LightGBM] [Warning] feature_fraction is set=0.34215865519159283, colsample_bytree=1.0 will be ignored. Current value: feature_fraction=0.34215865519159283\n",
      "[LightGBM] [Warning] lambda_l2 is set=0.8193711710368262, reg_lambda=0.0 will be ignored. Current value: lambda_l2=0.8193711710368262\n",
      "3 [LightGBM] [Warning] lambda_l1 is set=0.027645496760829204, reg_alpha=0.0 will be ignored. Current value: lambda_l1=0.027645496760829204\n",
      "[LightGBM] [Warning] bagging_fraction is set=0.8254666179319955, subsample=1.0 will be ignored. Current value: bagging_fraction=0.8254666179319955\n",
      "[LightGBM] [Warning] feature_fraction is set=0.34215865519159283, colsample_bytree=1.0 will be ignored. Current value: feature_fraction=0.34215865519159283\n",
      "[LightGBM] [Warning] lambda_l2 is set=0.8193711710368262, reg_lambda=0.0 will be ignored. Current value: lambda_l2=0.8193711710368262\n",
      "4 [LightGBM] [Warning] lambda_l1 is set=0.027645496760829204, reg_alpha=0.0 will be ignored. Current value: lambda_l1=0.027645496760829204\n",
      "[LightGBM] [Warning] bagging_fraction is set=0.8254666179319955, subsample=1.0 will be ignored. Current value: bagging_fraction=0.8254666179319955\n",
      "[LightGBM] [Warning] feature_fraction is set=0.34215865519159283, colsample_bytree=1.0 will be ignored. Current value: feature_fraction=0.34215865519159283\n",
      "[LightGBM] [Warning] lambda_l2 is set=0.8193711710368262, reg_lambda=0.0 will be ignored. Current value: lambda_l2=0.8193711710368262\n"
     ]
    },
    {
     "name": "stderr",
     "output_type": "stream",
     "text": [
      "\u001b[32m[I 2023-02-06 20:58:37,835]\u001b[0m Trial 26 finished with value: 0.558788379456262 and parameters: {'n_estimators': 4248, 'learning_rate': 0.027194745306915544, 'max_depth': 5, 'lambda_l1': 0.027645496760829204, 'lambda_l2': 0.8193711710368262, 'num_leaves': 69, 'bagging_fraction': 0.8254666179319955, 'feature_fraction': 0.34215865519159283}. Best is trial 12 with value: 0.5677019478328463.\u001b[0m\n"
     ]
    },
    {
     "name": "stdout",
     "output_type": "stream",
     "text": [
      "0 [LightGBM] [Warning] lambda_l1 is set=0.06905066743876292, reg_alpha=0.0 will be ignored. Current value: lambda_l1=0.06905066743876292\n",
      "[LightGBM] [Warning] bagging_fraction is set=0.6972894714821216, subsample=1.0 will be ignored. Current value: bagging_fraction=0.6972894714821216\n",
      "[LightGBM] [Warning] feature_fraction is set=0.5197942752252654, colsample_bytree=1.0 will be ignored. Current value: feature_fraction=0.5197942752252654\n",
      "[LightGBM] [Warning] lambda_l2 is set=5.397091446186392, reg_lambda=0.0 will be ignored. Current value: lambda_l2=5.397091446186392\n",
      "1 [LightGBM] [Warning] lambda_l1 is set=0.06905066743876292, reg_alpha=0.0 will be ignored. Current value: lambda_l1=0.06905066743876292\n",
      "[LightGBM] [Warning] bagging_fraction is set=0.6972894714821216, subsample=1.0 will be ignored. Current value: bagging_fraction=0.6972894714821216\n",
      "[LightGBM] [Warning] feature_fraction is set=0.5197942752252654, colsample_bytree=1.0 will be ignored. Current value: feature_fraction=0.5197942752252654\n",
      "[LightGBM] [Warning] lambda_l2 is set=5.397091446186392, reg_lambda=0.0 will be ignored. Current value: lambda_l2=5.397091446186392\n",
      "2 [LightGBM] [Warning] lambda_l1 is set=0.06905066743876292, reg_alpha=0.0 will be ignored. Current value: lambda_l1=0.06905066743876292\n",
      "[LightGBM] [Warning] bagging_fraction is set=0.6972894714821216, subsample=1.0 will be ignored. Current value: bagging_fraction=0.6972894714821216\n",
      "[LightGBM] [Warning] feature_fraction is set=0.5197942752252654, colsample_bytree=1.0 will be ignored. Current value: feature_fraction=0.5197942752252654\n",
      "[LightGBM] [Warning] lambda_l2 is set=5.397091446186392, reg_lambda=0.0 will be ignored. Current value: lambda_l2=5.397091446186392\n",
      "3 [LightGBM] [Warning] lambda_l1 is set=0.06905066743876292, reg_alpha=0.0 will be ignored. Current value: lambda_l1=0.06905066743876292\n",
      "[LightGBM] [Warning] bagging_fraction is set=0.6972894714821216, subsample=1.0 will be ignored. Current value: bagging_fraction=0.6972894714821216\n",
      "[LightGBM] [Warning] feature_fraction is set=0.5197942752252654, colsample_bytree=1.0 will be ignored. Current value: feature_fraction=0.5197942752252654\n",
      "[LightGBM] [Warning] lambda_l2 is set=5.397091446186392, reg_lambda=0.0 will be ignored. Current value: lambda_l2=5.397091446186392\n",
      "4 [LightGBM] [Warning] lambda_l1 is set=0.06905066743876292, reg_alpha=0.0 will be ignored. Current value: lambda_l1=0.06905066743876292\n",
      "[LightGBM] [Warning] bagging_fraction is set=0.6972894714821216, subsample=1.0 will be ignored. Current value: bagging_fraction=0.6972894714821216\n",
      "[LightGBM] [Warning] feature_fraction is set=0.5197942752252654, colsample_bytree=1.0 will be ignored. Current value: feature_fraction=0.5197942752252654\n",
      "[LightGBM] [Warning] lambda_l2 is set=5.397091446186392, reg_lambda=0.0 will be ignored. Current value: lambda_l2=5.397091446186392\n"
     ]
    },
    {
     "name": "stderr",
     "output_type": "stream",
     "text": [
      "\u001b[32m[I 2023-02-06 20:58:55,560]\u001b[0m Trial 27 finished with value: 0.5352184814048122 and parameters: {'n_estimators': 5264, 'learning_rate': 0.017105847786013297, 'max_depth': 9, 'lambda_l1': 0.06905066743876292, 'lambda_l2': 5.397091446186392, 'num_leaves': 87, 'bagging_fraction': 0.6972894714821216, 'feature_fraction': 0.5197942752252654}. Best is trial 12 with value: 0.5677019478328463.\u001b[0m\n"
     ]
    },
    {
     "name": "stdout",
     "output_type": "stream",
     "text": [
      "0 [LightGBM] [Warning] lambda_l1 is set=0.14482019274347768, reg_alpha=0.0 will be ignored. Current value: lambda_l1=0.14482019274347768\n",
      "[LightGBM] [Warning] bagging_fraction is set=0.6349324034580863, subsample=1.0 will be ignored. Current value: bagging_fraction=0.6349324034580863\n",
      "[LightGBM] [Warning] feature_fraction is set=0.2008989183915979, colsample_bytree=1.0 will be ignored. Current value: feature_fraction=0.2008989183915979\n",
      "[LightGBM] [Warning] lambda_l2 is set=2.164528489498517, reg_lambda=0.0 will be ignored. Current value: lambda_l2=2.164528489498517\n",
      "1 [LightGBM] [Warning] lambda_l1 is set=0.14482019274347768, reg_alpha=0.0 will be ignored. Current value: lambda_l1=0.14482019274347768\n",
      "[LightGBM] [Warning] bagging_fraction is set=0.6349324034580863, subsample=1.0 will be ignored. Current value: bagging_fraction=0.6349324034580863\n",
      "[LightGBM] [Warning] feature_fraction is set=0.2008989183915979, colsample_bytree=1.0 will be ignored. Current value: feature_fraction=0.2008989183915979\n",
      "[LightGBM] [Warning] lambda_l2 is set=2.164528489498517, reg_lambda=0.0 will be ignored. Current value: lambda_l2=2.164528489498517\n",
      "2 [LightGBM] [Warning] lambda_l1 is set=0.14482019274347768, reg_alpha=0.0 will be ignored. Current value: lambda_l1=0.14482019274347768\n",
      "[LightGBM] [Warning] bagging_fraction is set=0.6349324034580863, subsample=1.0 will be ignored. Current value: bagging_fraction=0.6349324034580863\n",
      "[LightGBM] [Warning] feature_fraction is set=0.2008989183915979, colsample_bytree=1.0 will be ignored. Current value: feature_fraction=0.2008989183915979\n",
      "[LightGBM] [Warning] lambda_l2 is set=2.164528489498517, reg_lambda=0.0 will be ignored. Current value: lambda_l2=2.164528489498517\n",
      "3 [LightGBM] [Warning] lambda_l1 is set=0.14482019274347768, reg_alpha=0.0 will be ignored. Current value: lambda_l1=0.14482019274347768\n",
      "[LightGBM] [Warning] bagging_fraction is set=0.6349324034580863, subsample=1.0 will be ignored. Current value: bagging_fraction=0.6349324034580863\n",
      "[LightGBM] [Warning] feature_fraction is set=0.2008989183915979, colsample_bytree=1.0 will be ignored. Current value: feature_fraction=0.2008989183915979\n",
      "[LightGBM] [Warning] lambda_l2 is set=2.164528489498517, reg_lambda=0.0 will be ignored. Current value: lambda_l2=2.164528489498517\n",
      "4 [LightGBM] [Warning] lambda_l1 is set=0.14482019274347768, reg_alpha=0.0 will be ignored. Current value: lambda_l1=0.14482019274347768\n",
      "[LightGBM] [Warning] bagging_fraction is set=0.6349324034580863, subsample=1.0 will be ignored. Current value: bagging_fraction=0.6349324034580863\n",
      "[LightGBM] [Warning] feature_fraction is set=0.2008989183915979, colsample_bytree=1.0 will be ignored. Current value: feature_fraction=0.2008989183915979\n",
      "[LightGBM] [Warning] lambda_l2 is set=2.164528489498517, reg_lambda=0.0 will be ignored. Current value: lambda_l2=2.164528489498517\n"
     ]
    },
    {
     "name": "stderr",
     "output_type": "stream",
     "text": [
      "\u001b[32m[I 2023-02-06 20:59:04,128]\u001b[0m Trial 28 finished with value: 0.5572099861794717 and parameters: {'n_estimators': 3468, 'learning_rate': 0.05665846190495744, 'max_depth': 7, 'lambda_l1': 0.14482019274347768, 'lambda_l2': 2.164528489498517, 'num_leaves': 35, 'bagging_fraction': 0.6349324034580863, 'feature_fraction': 0.2008989183915979}. Best is trial 12 with value: 0.5677019478328463.\u001b[0m\n"
     ]
    },
    {
     "name": "stdout",
     "output_type": "stream",
     "text": [
      "0 [LightGBM] [Warning] lambda_l1 is set=0.04838784824399976, reg_alpha=0.0 will be ignored. Current value: lambda_l1=0.04838784824399976\n",
      "[LightGBM] [Warning] bagging_fraction is set=0.5593537609407931, subsample=1.0 will be ignored. Current value: bagging_fraction=0.5593537609407931\n",
      "[LightGBM] [Warning] feature_fraction is set=0.4418571206379379, colsample_bytree=1.0 will be ignored. Current value: feature_fraction=0.4418571206379379\n",
      "[LightGBM] [Warning] lambda_l2 is set=0.8050369562481035, reg_lambda=0.0 will be ignored. Current value: lambda_l2=0.8050369562481035\n",
      "1 [LightGBM] [Warning] lambda_l1 is set=0.04838784824399976, reg_alpha=0.0 will be ignored. Current value: lambda_l1=0.04838784824399976\n",
      "[LightGBM] [Warning] bagging_fraction is set=0.5593537609407931, subsample=1.0 will be ignored. Current value: bagging_fraction=0.5593537609407931\n",
      "[LightGBM] [Warning] feature_fraction is set=0.4418571206379379, colsample_bytree=1.0 will be ignored. Current value: feature_fraction=0.4418571206379379\n",
      "[LightGBM] [Warning] lambda_l2 is set=0.8050369562481035, reg_lambda=0.0 will be ignored. Current value: lambda_l2=0.8050369562481035\n",
      "2 [LightGBM] [Warning] lambda_l1 is set=0.04838784824399976, reg_alpha=0.0 will be ignored. Current value: lambda_l1=0.04838784824399976\n",
      "[LightGBM] [Warning] bagging_fraction is set=0.5593537609407931, subsample=1.0 will be ignored. Current value: bagging_fraction=0.5593537609407931\n",
      "[LightGBM] [Warning] feature_fraction is set=0.4418571206379379, colsample_bytree=1.0 will be ignored. Current value: feature_fraction=0.4418571206379379\n",
      "[LightGBM] [Warning] lambda_l2 is set=0.8050369562481035, reg_lambda=0.0 will be ignored. Current value: lambda_l2=0.8050369562481035\n",
      "3 [LightGBM] [Warning] lambda_l1 is set=0.04838784824399976, reg_alpha=0.0 will be ignored. Current value: lambda_l1=0.04838784824399976\n",
      "[LightGBM] [Warning] bagging_fraction is set=0.5593537609407931, subsample=1.0 will be ignored. Current value: bagging_fraction=0.5593537609407931\n",
      "[LightGBM] [Warning] feature_fraction is set=0.4418571206379379, colsample_bytree=1.0 will be ignored. Current value: feature_fraction=0.4418571206379379\n",
      "[LightGBM] [Warning] lambda_l2 is set=0.8050369562481035, reg_lambda=0.0 will be ignored. Current value: lambda_l2=0.8050369562481035\n",
      "4 [LightGBM] [Warning] lambda_l1 is set=0.04838784824399976, reg_alpha=0.0 will be ignored. Current value: lambda_l1=0.04838784824399976\n",
      "[LightGBM] [Warning] bagging_fraction is set=0.5593537609407931, subsample=1.0 will be ignored. Current value: bagging_fraction=0.5593537609407931\n",
      "[LightGBM] [Warning] feature_fraction is set=0.4418571206379379, colsample_bytree=1.0 will be ignored. Current value: feature_fraction=0.4418571206379379\n",
      "[LightGBM] [Warning] lambda_l2 is set=0.8050369562481035, reg_lambda=0.0 will be ignored. Current value: lambda_l2=0.8050369562481035\n"
     ]
    },
    {
     "name": "stderr",
     "output_type": "stream",
     "text": [
      "\u001b[32m[I 2023-02-06 20:59:14,848]\u001b[0m Trial 29 finished with value: 0.5573571770118588 and parameters: {'n_estimators': 6439, 'learning_rate': 0.002233005774910824, 'max_depth': 10, 'lambda_l1': 0.04838784824399976, 'lambda_l2': 0.8050369562481035, 'num_leaves': 11, 'bagging_fraction': 0.5593537609407931, 'feature_fraction': 0.4418571206379379}. Best is trial 12 with value: 0.5677019478328463.\u001b[0m\n"
     ]
    },
    {
     "name": "stdout",
     "output_type": "stream",
     "text": [
      "0 [LightGBM] [Warning] lambda_l1 is set=0.19944591738286535, reg_alpha=0.0 will be ignored. Current value: lambda_l1=0.19944591738286535\n",
      "[LightGBM] [Warning] bagging_fraction is set=0.7897687923565024, subsample=1.0 will be ignored. Current value: bagging_fraction=0.7897687923565024\n",
      "[LightGBM] [Warning] feature_fraction is set=0.5249918434676478, colsample_bytree=1.0 will be ignored. Current value: feature_fraction=0.5249918434676478\n",
      "[LightGBM] [Warning] lambda_l2 is set=1.2377419081959316, reg_lambda=0.0 will be ignored. Current value: lambda_l2=1.2377419081959316\n",
      "1 [LightGBM] [Warning] lambda_l1 is set=0.19944591738286535, reg_alpha=0.0 will be ignored. Current value: lambda_l1=0.19944591738286535\n",
      "[LightGBM] [Warning] bagging_fraction is set=0.7897687923565024, subsample=1.0 will be ignored. Current value: bagging_fraction=0.7897687923565024\n",
      "[LightGBM] [Warning] feature_fraction is set=0.5249918434676478, colsample_bytree=1.0 will be ignored. Current value: feature_fraction=0.5249918434676478\n",
      "[LightGBM] [Warning] lambda_l2 is set=1.2377419081959316, reg_lambda=0.0 will be ignored. Current value: lambda_l2=1.2377419081959316\n",
      "2 [LightGBM] [Warning] lambda_l1 is set=0.19944591738286535, reg_alpha=0.0 will be ignored. Current value: lambda_l1=0.19944591738286535\n",
      "[LightGBM] [Warning] bagging_fraction is set=0.7897687923565024, subsample=1.0 will be ignored. Current value: bagging_fraction=0.7897687923565024\n",
      "[LightGBM] [Warning] feature_fraction is set=0.5249918434676478, colsample_bytree=1.0 will be ignored. Current value: feature_fraction=0.5249918434676478\n",
      "[LightGBM] [Warning] lambda_l2 is set=1.2377419081959316, reg_lambda=0.0 will be ignored. Current value: lambda_l2=1.2377419081959316\n",
      "3 [LightGBM] [Warning] lambda_l1 is set=0.19944591738286535, reg_alpha=0.0 will be ignored. Current value: lambda_l1=0.19944591738286535\n",
      "[LightGBM] [Warning] bagging_fraction is set=0.7897687923565024, subsample=1.0 will be ignored. Current value: bagging_fraction=0.7897687923565024\n",
      "[LightGBM] [Warning] feature_fraction is set=0.5249918434676478, colsample_bytree=1.0 will be ignored. Current value: feature_fraction=0.5249918434676478\n",
      "[LightGBM] [Warning] lambda_l2 is set=1.2377419081959316, reg_lambda=0.0 will be ignored. Current value: lambda_l2=1.2377419081959316\n",
      "4 [LightGBM] [Warning] lambda_l1 is set=0.19944591738286535, reg_alpha=0.0 will be ignored. Current value: lambda_l1=0.19944591738286535\n",
      "[LightGBM] [Warning] bagging_fraction is set=0.7897687923565024, subsample=1.0 will be ignored. Current value: bagging_fraction=0.7897687923565024\n",
      "[LightGBM] [Warning] feature_fraction is set=0.5249918434676478, colsample_bytree=1.0 will be ignored. Current value: feature_fraction=0.5249918434676478\n",
      "[LightGBM] [Warning] lambda_l2 is set=1.2377419081959316, reg_lambda=0.0 will be ignored. Current value: lambda_l2=1.2377419081959316\n"
     ]
    },
    {
     "name": "stderr",
     "output_type": "stream",
     "text": [
      "\u001b[32m[I 2023-02-06 20:59:19,767]\u001b[0m Trial 30 finished with value: 0.39193782808798605 and parameters: {'n_estimators': 7592, 'learning_rate': 0.003905401504656467, 'max_depth': 4, 'lambda_l1': 0.19944591738286535, 'lambda_l2': 1.2377419081959316, 'num_leaves': 2, 'bagging_fraction': 0.7897687923565024, 'feature_fraction': 0.5249918434676478}. Best is trial 12 with value: 0.5677019478328463.\u001b[0m\n"
     ]
    },
    {
     "name": "stdout",
     "output_type": "stream",
     "text": [
      "0 [LightGBM] [Warning] lambda_l1 is set=0.09228001516420256, reg_alpha=0.0 will be ignored. Current value: lambda_l1=0.09228001516420256\n",
      "[LightGBM] [Warning] bagging_fraction is set=0.7200312848706591, subsample=1.0 will be ignored. Current value: bagging_fraction=0.7200312848706591\n",
      "[LightGBM] [Warning] feature_fraction is set=0.3201272801068543, colsample_bytree=1.0 will be ignored. Current value: feature_fraction=0.3201272801068543\n",
      "[LightGBM] [Warning] lambda_l2 is set=2.59788803635261, reg_lambda=0.0 will be ignored. Current value: lambda_l2=2.59788803635261\n",
      "1 [LightGBM] [Warning] lambda_l1 is set=0.09228001516420256, reg_alpha=0.0 will be ignored. Current value: lambda_l1=0.09228001516420256\n",
      "[LightGBM] [Warning] bagging_fraction is set=0.7200312848706591, subsample=1.0 will be ignored. Current value: bagging_fraction=0.7200312848706591\n",
      "[LightGBM] [Warning] feature_fraction is set=0.3201272801068543, colsample_bytree=1.0 will be ignored. Current value: feature_fraction=0.3201272801068543\n",
      "[LightGBM] [Warning] lambda_l2 is set=2.59788803635261, reg_lambda=0.0 will be ignored. Current value: lambda_l2=2.59788803635261\n",
      "2 [LightGBM] [Warning] lambda_l1 is set=0.09228001516420256, reg_alpha=0.0 will be ignored. Current value: lambda_l1=0.09228001516420256\n",
      "[LightGBM] [Warning] bagging_fraction is set=0.7200312848706591, subsample=1.0 will be ignored. Current value: bagging_fraction=0.7200312848706591\n",
      "[LightGBM] [Warning] feature_fraction is set=0.3201272801068543, colsample_bytree=1.0 will be ignored. Current value: feature_fraction=0.3201272801068543\n",
      "[LightGBM] [Warning] lambda_l2 is set=2.59788803635261, reg_lambda=0.0 will be ignored. Current value: lambda_l2=2.59788803635261\n",
      "3 [LightGBM] [Warning] lambda_l1 is set=0.09228001516420256, reg_alpha=0.0 will be ignored. Current value: lambda_l1=0.09228001516420256\n",
      "[LightGBM] [Warning] bagging_fraction is set=0.7200312848706591, subsample=1.0 will be ignored. Current value: bagging_fraction=0.7200312848706591\n",
      "[LightGBM] [Warning] feature_fraction is set=0.3201272801068543, colsample_bytree=1.0 will be ignored. Current value: feature_fraction=0.3201272801068543\n",
      "[LightGBM] [Warning] lambda_l2 is set=2.59788803635261, reg_lambda=0.0 will be ignored. Current value: lambda_l2=2.59788803635261\n",
      "4 [LightGBM] [Warning] lambda_l1 is set=0.09228001516420256, reg_alpha=0.0 will be ignored. Current value: lambda_l1=0.09228001516420256\n",
      "[LightGBM] [Warning] bagging_fraction is set=0.7200312848706591, subsample=1.0 will be ignored. Current value: bagging_fraction=0.7200312848706591\n",
      "[LightGBM] [Warning] feature_fraction is set=0.3201272801068543, colsample_bytree=1.0 will be ignored. Current value: feature_fraction=0.3201272801068543\n",
      "[LightGBM] [Warning] lambda_l2 is set=2.59788803635261, reg_lambda=0.0 will be ignored. Current value: lambda_l2=2.59788803635261\n"
     ]
    },
    {
     "name": "stderr",
     "output_type": "stream",
     "text": [
      "\u001b[32m[I 2023-02-06 20:59:31,073]\u001b[0m Trial 31 finished with value: 0.5550748333496054 and parameters: {'n_estimators': 8589, 'learning_rate': 0.004614092481679211, 'max_depth': 4, 'lambda_l1': 0.09228001516420256, 'lambda_l2': 2.59788803635261, 'num_leaves': 89, 'bagging_fraction': 0.7200312848706591, 'feature_fraction': 0.3201272801068543}. Best is trial 12 with value: 0.5677019478328463.\u001b[0m\n"
     ]
    },
    {
     "name": "stdout",
     "output_type": "stream",
     "text": [
      "0 [LightGBM] [Warning] lambda_l1 is set=0.07999625989552536, reg_alpha=0.0 will be ignored. Current value: lambda_l1=0.07999625989552536\n",
      "[LightGBM] [Warning] bagging_fraction is set=0.7297056185232735, subsample=1.0 will be ignored. Current value: bagging_fraction=0.7297056185232735\n",
      "[LightGBM] [Warning] feature_fraction is set=0.26085821456592506, colsample_bytree=1.0 will be ignored. Current value: feature_fraction=0.26085821456592506\n",
      "[LightGBM] [Warning] lambda_l2 is set=1.5082936209383282, reg_lambda=0.0 will be ignored. Current value: lambda_l2=1.5082936209383282\n",
      "1 [LightGBM] [Warning] lambda_l1 is set=0.07999625989552536, reg_alpha=0.0 will be ignored. Current value: lambda_l1=0.07999625989552536\n",
      "[LightGBM] [Warning] bagging_fraction is set=0.7297056185232735, subsample=1.0 will be ignored. Current value: bagging_fraction=0.7297056185232735\n",
      "[LightGBM] [Warning] feature_fraction is set=0.26085821456592506, colsample_bytree=1.0 will be ignored. Current value: feature_fraction=0.26085821456592506\n",
      "[LightGBM] [Warning] lambda_l2 is set=1.5082936209383282, reg_lambda=0.0 will be ignored. Current value: lambda_l2=1.5082936209383282\n",
      "2 [LightGBM] [Warning] lambda_l1 is set=0.07999625989552536, reg_alpha=0.0 will be ignored. Current value: lambda_l1=0.07999625989552536\n",
      "[LightGBM] [Warning] bagging_fraction is set=0.7297056185232735, subsample=1.0 will be ignored. Current value: bagging_fraction=0.7297056185232735\n",
      "[LightGBM] [Warning] feature_fraction is set=0.26085821456592506, colsample_bytree=1.0 will be ignored. Current value: feature_fraction=0.26085821456592506\n",
      "[LightGBM] [Warning] lambda_l2 is set=1.5082936209383282, reg_lambda=0.0 will be ignored. Current value: lambda_l2=1.5082936209383282\n",
      "3 [LightGBM] [Warning] lambda_l1 is set=0.07999625989552536, reg_alpha=0.0 will be ignored. Current value: lambda_l1=0.07999625989552536\n",
      "[LightGBM] [Warning] bagging_fraction is set=0.7297056185232735, subsample=1.0 will be ignored. Current value: bagging_fraction=0.7297056185232735\n",
      "[LightGBM] [Warning] feature_fraction is set=0.26085821456592506, colsample_bytree=1.0 will be ignored. Current value: feature_fraction=0.26085821456592506\n",
      "[LightGBM] [Warning] lambda_l2 is set=1.5082936209383282, reg_lambda=0.0 will be ignored. Current value: lambda_l2=1.5082936209383282\n",
      "4 [LightGBM] [Warning] lambda_l1 is set=0.07999625989552536, reg_alpha=0.0 will be ignored. Current value: lambda_l1=0.07999625989552536\n",
      "[LightGBM] [Warning] bagging_fraction is set=0.7297056185232735, subsample=1.0 will be ignored. Current value: bagging_fraction=0.7297056185232735\n",
      "[LightGBM] [Warning] feature_fraction is set=0.26085821456592506, colsample_bytree=1.0 will be ignored. Current value: feature_fraction=0.26085821456592506\n",
      "[LightGBM] [Warning] lambda_l2 is set=1.5082936209383282, reg_lambda=0.0 will be ignored. Current value: lambda_l2=1.5082936209383282\n"
     ]
    },
    {
     "name": "stderr",
     "output_type": "stream",
     "text": [
      "\u001b[32m[I 2023-02-06 20:59:34,128]\u001b[0m Trial 32 finished with value: 0.5545653940144895 and parameters: {'n_estimators': 1648, 'learning_rate': 0.007150106706253386, 'max_depth': 3, 'lambda_l1': 0.07999625989552536, 'lambda_l2': 1.5082936209383282, 'num_leaves': 87, 'bagging_fraction': 0.7297056185232735, 'feature_fraction': 0.26085821456592506}. Best is trial 12 with value: 0.5677019478328463.\u001b[0m\n"
     ]
    },
    {
     "name": "stdout",
     "output_type": "stream",
     "text": [
      "0 [LightGBM] [Warning] lambda_l1 is set=0.1149866308295789, reg_alpha=0.0 will be ignored. Current value: lambda_l1=0.1149866308295789\n",
      "[LightGBM] [Warning] bagging_fraction is set=0.6511334869311137, subsample=1.0 will be ignored. Current value: bagging_fraction=0.6511334869311137\n",
      "[LightGBM] [Warning] feature_fraction is set=0.3663779856758822, colsample_bytree=1.0 will be ignored. Current value: feature_fraction=0.3663779856758822\n",
      "[LightGBM] [Warning] lambda_l2 is set=5.664568529706053, reg_lambda=0.0 will be ignored. Current value: lambda_l2=5.664568529706053\n",
      "1 [LightGBM] [Warning] lambda_l1 is set=0.1149866308295789, reg_alpha=0.0 will be ignored. Current value: lambda_l1=0.1149866308295789\n",
      "[LightGBM] [Warning] bagging_fraction is set=0.6511334869311137, subsample=1.0 will be ignored. Current value: bagging_fraction=0.6511334869311137\n",
      "[LightGBM] [Warning] feature_fraction is set=0.3663779856758822, colsample_bytree=1.0 will be ignored. Current value: feature_fraction=0.3663779856758822\n",
      "[LightGBM] [Warning] lambda_l2 is set=5.664568529706053, reg_lambda=0.0 will be ignored. Current value: lambda_l2=5.664568529706053\n",
      "2 [LightGBM] [Warning] lambda_l1 is set=0.1149866308295789, reg_alpha=0.0 will be ignored. Current value: lambda_l1=0.1149866308295789\n",
      "[LightGBM] [Warning] bagging_fraction is set=0.6511334869311137, subsample=1.0 will be ignored. Current value: bagging_fraction=0.6511334869311137\n",
      "[LightGBM] [Warning] feature_fraction is set=0.3663779856758822, colsample_bytree=1.0 will be ignored. Current value: feature_fraction=0.3663779856758822\n",
      "[LightGBM] [Warning] lambda_l2 is set=5.664568529706053, reg_lambda=0.0 will be ignored. Current value: lambda_l2=5.664568529706053\n",
      "3 [LightGBM] [Warning] lambda_l1 is set=0.1149866308295789, reg_alpha=0.0 will be ignored. Current value: lambda_l1=0.1149866308295789\n",
      "[LightGBM] [Warning] bagging_fraction is set=0.6511334869311137, subsample=1.0 will be ignored. Current value: bagging_fraction=0.6511334869311137\n",
      "[LightGBM] [Warning] feature_fraction is set=0.3663779856758822, colsample_bytree=1.0 will be ignored. Current value: feature_fraction=0.3663779856758822\n",
      "[LightGBM] [Warning] lambda_l2 is set=5.664568529706053, reg_lambda=0.0 will be ignored. Current value: lambda_l2=5.664568529706053\n",
      "4 [LightGBM] [Warning] lambda_l1 is set=0.1149866308295789, reg_alpha=0.0 will be ignored. Current value: lambda_l1=0.1149866308295789\n",
      "[LightGBM] [Warning] bagging_fraction is set=0.6511334869311137, subsample=1.0 will be ignored. Current value: bagging_fraction=0.6511334869311137\n",
      "[LightGBM] [Warning] feature_fraction is set=0.3663779856758822, colsample_bytree=1.0 will be ignored. Current value: feature_fraction=0.3663779856758822\n",
      "[LightGBM] [Warning] lambda_l2 is set=5.664568529706053, reg_lambda=0.0 will be ignored. Current value: lambda_l2=5.664568529706053\n"
     ]
    },
    {
     "name": "stderr",
     "output_type": "stream",
     "text": [
      "\u001b[32m[I 2023-02-06 20:59:45,342]\u001b[0m Trial 33 finished with value: 0.5562693776961283 and parameters: {'n_estimators': 6654, 'learning_rate': 0.003868991359838406, 'max_depth': 5, 'lambda_l1': 0.1149866308295789, 'lambda_l2': 5.664568529706053, 'num_leaves': 84, 'bagging_fraction': 0.6511334869311137, 'feature_fraction': 0.3663779856758822}. Best is trial 12 with value: 0.5677019478328463.\u001b[0m\n"
     ]
    },
    {
     "name": "stdout",
     "output_type": "stream",
     "text": [
      "0 [LightGBM] [Warning] lambda_l1 is set=0.07059106589255425, reg_alpha=0.0 will be ignored. Current value: lambda_l1=0.07059106589255425\n",
      "[LightGBM] [Warning] bagging_fraction is set=0.7469550000136629, subsample=1.0 will be ignored. Current value: bagging_fraction=0.7469550000136629\n",
      "[LightGBM] [Warning] feature_fraction is set=0.3082285352952409, colsample_bytree=1.0 will be ignored. Current value: feature_fraction=0.3082285352952409\n",
      "[LightGBM] [Warning] lambda_l2 is set=1.051544517896921, reg_lambda=0.0 will be ignored. Current value: lambda_l2=1.051544517896921\n",
      "1 [LightGBM] [Warning] lambda_l1 is set=0.07059106589255425, reg_alpha=0.0 will be ignored. Current value: lambda_l1=0.07059106589255425\n",
      "[LightGBM] [Warning] bagging_fraction is set=0.7469550000136629, subsample=1.0 will be ignored. Current value: bagging_fraction=0.7469550000136629\n",
      "[LightGBM] [Warning] feature_fraction is set=0.3082285352952409, colsample_bytree=1.0 will be ignored. Current value: feature_fraction=0.3082285352952409\n",
      "[LightGBM] [Warning] lambda_l2 is set=1.051544517896921, reg_lambda=0.0 will be ignored. Current value: lambda_l2=1.051544517896921\n",
      "2 [LightGBM] [Warning] lambda_l1 is set=0.07059106589255425, reg_alpha=0.0 will be ignored. Current value: lambda_l1=0.07059106589255425\n",
      "[LightGBM] [Warning] bagging_fraction is set=0.7469550000136629, subsample=1.0 will be ignored. Current value: bagging_fraction=0.7469550000136629\n",
      "[LightGBM] [Warning] feature_fraction is set=0.3082285352952409, colsample_bytree=1.0 will be ignored. Current value: feature_fraction=0.3082285352952409\n",
      "[LightGBM] [Warning] lambda_l2 is set=1.051544517896921, reg_lambda=0.0 will be ignored. Current value: lambda_l2=1.051544517896921\n",
      "3 [LightGBM] [Warning] lambda_l1 is set=0.07059106589255425, reg_alpha=0.0 will be ignored. Current value: lambda_l1=0.07059106589255425\n",
      "[LightGBM] [Warning] bagging_fraction is set=0.7469550000136629, subsample=1.0 will be ignored. Current value: bagging_fraction=0.7469550000136629\n",
      "[LightGBM] [Warning] feature_fraction is set=0.3082285352952409, colsample_bytree=1.0 will be ignored. Current value: feature_fraction=0.3082285352952409\n",
      "[LightGBM] [Warning] lambda_l2 is set=1.051544517896921, reg_lambda=0.0 will be ignored. Current value: lambda_l2=1.051544517896921\n",
      "4 [LightGBM] [Warning] lambda_l1 is set=0.07059106589255425, reg_alpha=0.0 will be ignored. Current value: lambda_l1=0.07059106589255425\n",
      "[LightGBM] [Warning] bagging_fraction is set=0.7469550000136629, subsample=1.0 will be ignored. Current value: bagging_fraction=0.7469550000136629\n",
      "[LightGBM] [Warning] feature_fraction is set=0.3082285352952409, colsample_bytree=1.0 will be ignored. Current value: feature_fraction=0.3082285352952409\n",
      "[LightGBM] [Warning] lambda_l2 is set=1.051544517896921, reg_lambda=0.0 will be ignored. Current value: lambda_l2=1.051544517896921\n"
     ]
    },
    {
     "name": "stderr",
     "output_type": "stream",
     "text": [
      "\u001b[32m[I 2023-02-06 21:00:02,689]\u001b[0m Trial 34 finished with value: 0.5635485992245819 and parameters: {'n_estimators': 8860, 'learning_rate': 0.01360063882962628, 'max_depth': 6, 'lambda_l1': 0.07059106589255425, 'lambda_l2': 1.051544517896921, 'num_leaves': 72, 'bagging_fraction': 0.7469550000136629, 'feature_fraction': 0.3082285352952409}. Best is trial 12 with value: 0.5677019478328463.\u001b[0m\n"
     ]
    },
    {
     "name": "stdout",
     "output_type": "stream",
     "text": [
      "0 [LightGBM] [Warning] lambda_l1 is set=0.39223995473686235, reg_alpha=0.0 will be ignored. Current value: lambda_l1=0.39223995473686235\n",
      "[LightGBM] [Warning] bagging_fraction is set=0.6132401957724513, subsample=1.0 will be ignored. Current value: bagging_fraction=0.6132401957724513\n",
      "[LightGBM] [Warning] feature_fraction is set=0.3091056606342296, colsample_bytree=1.0 will be ignored. Current value: feature_fraction=0.3091056606342296\n",
      "[LightGBM] [Warning] lambda_l2 is set=1.1020067319079518, reg_lambda=0.0 will be ignored. Current value: lambda_l2=1.1020067319079518\n",
      "1 [LightGBM] [Warning] lambda_l1 is set=0.39223995473686235, reg_alpha=0.0 will be ignored. Current value: lambda_l1=0.39223995473686235\n",
      "[LightGBM] [Warning] bagging_fraction is set=0.6132401957724513, subsample=1.0 will be ignored. Current value: bagging_fraction=0.6132401957724513\n",
      "[LightGBM] [Warning] feature_fraction is set=0.3091056606342296, colsample_bytree=1.0 will be ignored. Current value: feature_fraction=0.3091056606342296\n",
      "[LightGBM] [Warning] lambda_l2 is set=1.1020067319079518, reg_lambda=0.0 will be ignored. Current value: lambda_l2=1.1020067319079518\n",
      "2 [LightGBM] [Warning] lambda_l1 is set=0.39223995473686235, reg_alpha=0.0 will be ignored. Current value: lambda_l1=0.39223995473686235\n",
      "[LightGBM] [Warning] bagging_fraction is set=0.6132401957724513, subsample=1.0 will be ignored. Current value: bagging_fraction=0.6132401957724513\n",
      "[LightGBM] [Warning] feature_fraction is set=0.3091056606342296, colsample_bytree=1.0 will be ignored. Current value: feature_fraction=0.3091056606342296\n",
      "[LightGBM] [Warning] lambda_l2 is set=1.1020067319079518, reg_lambda=0.0 will be ignored. Current value: lambda_l2=1.1020067319079518\n",
      "3 [LightGBM] [Warning] lambda_l1 is set=0.39223995473686235, reg_alpha=0.0 will be ignored. Current value: lambda_l1=0.39223995473686235\n",
      "[LightGBM] [Warning] bagging_fraction is set=0.6132401957724513, subsample=1.0 will be ignored. Current value: bagging_fraction=0.6132401957724513\n",
      "[LightGBM] [Warning] feature_fraction is set=0.3091056606342296, colsample_bytree=1.0 will be ignored. Current value: feature_fraction=0.3091056606342296\n",
      "[LightGBM] [Warning] lambda_l2 is set=1.1020067319079518, reg_lambda=0.0 will be ignored. Current value: lambda_l2=1.1020067319079518\n",
      "4 [LightGBM] [Warning] lambda_l1 is set=0.39223995473686235, reg_alpha=0.0 will be ignored. Current value: lambda_l1=0.39223995473686235\n",
      "[LightGBM] [Warning] bagging_fraction is set=0.6132401957724513, subsample=1.0 will be ignored. Current value: bagging_fraction=0.6132401957724513\n",
      "[LightGBM] [Warning] feature_fraction is set=0.3091056606342296, colsample_bytree=1.0 will be ignored. Current value: feature_fraction=0.3091056606342296\n",
      "[LightGBM] [Warning] lambda_l2 is set=1.1020067319079518, reg_lambda=0.0 will be ignored. Current value: lambda_l2=1.1020067319079518\n"
     ]
    },
    {
     "name": "stderr",
     "output_type": "stream",
     "text": [
      "\u001b[32m[I 2023-02-06 21:00:14,753]\u001b[0m Trial 35 finished with value: 0.569335194817751 and parameters: {'n_estimators': 5801, 'learning_rate': 0.01386592547479894, 'max_depth': 6, 'lambda_l1': 0.39223995473686235, 'lambda_l2': 1.1020067319079518, 'num_leaves': 71, 'bagging_fraction': 0.6132401957724513, 'feature_fraction': 0.3091056606342296}. Best is trial 35 with value: 0.569335194817751.\u001b[0m\n"
     ]
    },
    {
     "name": "stdout",
     "output_type": "stream",
     "text": [
      "0 [LightGBM] [Warning] lambda_l1 is set=0.34049111733610343, reg_alpha=0.0 will be ignored. Current value: lambda_l1=0.34049111733610343\n",
      "[LightGBM] [Warning] bagging_fraction is set=0.5919658045770205, subsample=1.0 will be ignored. Current value: bagging_fraction=0.5919658045770205\n",
      "[LightGBM] [Warning] feature_fraction is set=0.24080381039400467, colsample_bytree=1.0 will be ignored. Current value: feature_fraction=0.24080381039400467\n",
      "[LightGBM] [Warning] lambda_l2 is set=1.1473366860052066, reg_lambda=0.0 will be ignored. Current value: lambda_l2=1.1473366860052066\n",
      "1 [LightGBM] [Warning] lambda_l1 is set=0.34049111733610343, reg_alpha=0.0 will be ignored. Current value: lambda_l1=0.34049111733610343\n",
      "[LightGBM] [Warning] bagging_fraction is set=0.5919658045770205, subsample=1.0 will be ignored. Current value: bagging_fraction=0.5919658045770205\n",
      "[LightGBM] [Warning] feature_fraction is set=0.24080381039400467, colsample_bytree=1.0 will be ignored. Current value: feature_fraction=0.24080381039400467\n",
      "[LightGBM] [Warning] lambda_l2 is set=1.1473366860052066, reg_lambda=0.0 will be ignored. Current value: lambda_l2=1.1473366860052066\n",
      "2 [LightGBM] [Warning] lambda_l1 is set=0.34049111733610343, reg_alpha=0.0 will be ignored. Current value: lambda_l1=0.34049111733610343\n",
      "[LightGBM] [Warning] bagging_fraction is set=0.5919658045770205, subsample=1.0 will be ignored. Current value: bagging_fraction=0.5919658045770205\n",
      "[LightGBM] [Warning] feature_fraction is set=0.24080381039400467, colsample_bytree=1.0 will be ignored. Current value: feature_fraction=0.24080381039400467\n",
      "[LightGBM] [Warning] lambda_l2 is set=1.1473366860052066, reg_lambda=0.0 will be ignored. Current value: lambda_l2=1.1473366860052066\n",
      "3 [LightGBM] [Warning] lambda_l1 is set=0.34049111733610343, reg_alpha=0.0 will be ignored. Current value: lambda_l1=0.34049111733610343\n",
      "[LightGBM] [Warning] bagging_fraction is set=0.5919658045770205, subsample=1.0 will be ignored. Current value: bagging_fraction=0.5919658045770205\n",
      "[LightGBM] [Warning] feature_fraction is set=0.24080381039400467, colsample_bytree=1.0 will be ignored. Current value: feature_fraction=0.24080381039400467\n",
      "[LightGBM] [Warning] lambda_l2 is set=1.1473366860052066, reg_lambda=0.0 will be ignored. Current value: lambda_l2=1.1473366860052066\n",
      "4 [LightGBM] [Warning] lambda_l1 is set=0.34049111733610343, reg_alpha=0.0 will be ignored. Current value: lambda_l1=0.34049111733610343\n",
      "[LightGBM] [Warning] bagging_fraction is set=0.5919658045770205, subsample=1.0 will be ignored. Current value: bagging_fraction=0.5919658045770205\n",
      "[LightGBM] [Warning] feature_fraction is set=0.24080381039400467, colsample_bytree=1.0 will be ignored. Current value: feature_fraction=0.24080381039400467\n",
      "[LightGBM] [Warning] lambda_l2 is set=1.1473366860052066, reg_lambda=0.0 will be ignored. Current value: lambda_l2=1.1473366860052066\n"
     ]
    },
    {
     "name": "stderr",
     "output_type": "stream",
     "text": [
      "\u001b[32m[I 2023-02-06 21:00:38,113]\u001b[0m Trial 36 finished with value: 0.5646900608078845 and parameters: {'n_estimators': 9850, 'learning_rate': 0.01024016902910065, 'max_depth': 7, 'lambda_l1': 0.34049111733610343, 'lambda_l2': 1.1473366860052066, 'num_leaves': 72, 'bagging_fraction': 0.5919658045770205, 'feature_fraction': 0.24080381039400467}. Best is trial 35 with value: 0.569335194817751.\u001b[0m\n"
     ]
    },
    {
     "name": "stdout",
     "output_type": "stream",
     "text": [
      "0 [LightGBM] [Warning] lambda_l1 is set=0.3898339609696622, reg_alpha=0.0 will be ignored. Current value: lambda_l1=0.3898339609696622\n",
      "[LightGBM] [Warning] bagging_fraction is set=0.527490816754782, subsample=1.0 will be ignored. Current value: bagging_fraction=0.527490816754782\n",
      "[LightGBM] [Warning] feature_fraction is set=0.611434618893371, colsample_bytree=1.0 will be ignored. Current value: feature_fraction=0.611434618893371\n",
      "[LightGBM] [Warning] lambda_l2 is set=0.6987847571708531, reg_lambda=0.0 will be ignored. Current value: lambda_l2=0.6987847571708531\n",
      "1 [LightGBM] [Warning] lambda_l1 is set=0.3898339609696622, reg_alpha=0.0 will be ignored. Current value: lambda_l1=0.3898339609696622\n",
      "[LightGBM] [Warning] bagging_fraction is set=0.527490816754782, subsample=1.0 will be ignored. Current value: bagging_fraction=0.527490816754782\n",
      "[LightGBM] [Warning] feature_fraction is set=0.611434618893371, colsample_bytree=1.0 will be ignored. Current value: feature_fraction=0.611434618893371\n",
      "[LightGBM] [Warning] lambda_l2 is set=0.6987847571708531, reg_lambda=0.0 will be ignored. Current value: lambda_l2=0.6987847571708531\n",
      "2 [LightGBM] [Warning] lambda_l1 is set=0.3898339609696622, reg_alpha=0.0 will be ignored. Current value: lambda_l1=0.3898339609696622\n",
      "[LightGBM] [Warning] bagging_fraction is set=0.527490816754782, subsample=1.0 will be ignored. Current value: bagging_fraction=0.527490816754782\n",
      "[LightGBM] [Warning] feature_fraction is set=0.611434618893371, colsample_bytree=1.0 will be ignored. Current value: feature_fraction=0.611434618893371\n",
      "[LightGBM] [Warning] lambda_l2 is set=0.6987847571708531, reg_lambda=0.0 will be ignored. Current value: lambda_l2=0.6987847571708531\n",
      "3 [LightGBM] [Warning] lambda_l1 is set=0.3898339609696622, reg_alpha=0.0 will be ignored. Current value: lambda_l1=0.3898339609696622\n",
      "[LightGBM] [Warning] bagging_fraction is set=0.527490816754782, subsample=1.0 will be ignored. Current value: bagging_fraction=0.527490816754782\n",
      "[LightGBM] [Warning] feature_fraction is set=0.611434618893371, colsample_bytree=1.0 will be ignored. Current value: feature_fraction=0.611434618893371\n",
      "[LightGBM] [Warning] lambda_l2 is set=0.6987847571708531, reg_lambda=0.0 will be ignored. Current value: lambda_l2=0.6987847571708531\n",
      "4 [LightGBM] [Warning] lambda_l1 is set=0.3898339609696622, reg_alpha=0.0 will be ignored. Current value: lambda_l1=0.3898339609696622\n",
      "[LightGBM] [Warning] bagging_fraction is set=0.527490816754782, subsample=1.0 will be ignored. Current value: bagging_fraction=0.527490816754782\n",
      "[LightGBM] [Warning] feature_fraction is set=0.611434618893371, colsample_bytree=1.0 will be ignored. Current value: feature_fraction=0.611434618893371\n",
      "[LightGBM] [Warning] lambda_l2 is set=0.6987847571708531, reg_lambda=0.0 will be ignored. Current value: lambda_l2=0.6987847571708531\n"
     ]
    },
    {
     "name": "stderr",
     "output_type": "stream",
     "text": [
      "\u001b[32m[I 2023-02-06 21:01:05,239]\u001b[0m Trial 37 finished with value: 0.5435560031937026 and parameters: {'n_estimators': 9942, 'learning_rate': 0.008342340573486186, 'max_depth': 7, 'lambda_l1': 0.3898339609696622, 'lambda_l2': 0.6987847571708531, 'num_leaves': 59, 'bagging_fraction': 0.527490816754782, 'feature_fraction': 0.611434618893371}. Best is trial 35 with value: 0.569335194817751.\u001b[0m\n"
     ]
    },
    {
     "name": "stdout",
     "output_type": "stream",
     "text": [
      "0 [LightGBM] [Warning] lambda_l1 is set=0.22166862623726483, reg_alpha=0.0 will be ignored. Current value: lambda_l1=0.22166862623726483\n",
      "[LightGBM] [Warning] bagging_fraction is set=0.6088997976038988, subsample=1.0 will be ignored. Current value: bagging_fraction=0.6088997976038988\n",
      "[LightGBM] [Warning] feature_fraction is set=0.24356051834186077, colsample_bytree=1.0 will be ignored. Current value: feature_fraction=0.24356051834186077\n",
      "[LightGBM] [Warning] lambda_l2 is set=0.9887694029246434, reg_lambda=0.0 will be ignored. Current value: lambda_l2=0.9887694029246434\n",
      "1 [LightGBM] [Warning] lambda_l1 is set=0.22166862623726483, reg_alpha=0.0 will be ignored. Current value: lambda_l1=0.22166862623726483\n",
      "[LightGBM] [Warning] bagging_fraction is set=0.6088997976038988, subsample=1.0 will be ignored. Current value: bagging_fraction=0.6088997976038988\n",
      "[LightGBM] [Warning] feature_fraction is set=0.24356051834186077, colsample_bytree=1.0 will be ignored. Current value: feature_fraction=0.24356051834186077\n",
      "[LightGBM] [Warning] lambda_l2 is set=0.9887694029246434, reg_lambda=0.0 will be ignored. Current value: lambda_l2=0.9887694029246434\n",
      "2 [LightGBM] [Warning] lambda_l1 is set=0.22166862623726483, reg_alpha=0.0 will be ignored. Current value: lambda_l1=0.22166862623726483\n",
      "[LightGBM] [Warning] bagging_fraction is set=0.6088997976038988, subsample=1.0 will be ignored. Current value: bagging_fraction=0.6088997976038988\n",
      "[LightGBM] [Warning] feature_fraction is set=0.24356051834186077, colsample_bytree=1.0 will be ignored. Current value: feature_fraction=0.24356051834186077\n",
      "[LightGBM] [Warning] lambda_l2 is set=0.9887694029246434, reg_lambda=0.0 will be ignored. Current value: lambda_l2=0.9887694029246434\n",
      "3 [LightGBM] [Warning] lambda_l1 is set=0.22166862623726483, reg_alpha=0.0 will be ignored. Current value: lambda_l1=0.22166862623726483\n",
      "[LightGBM] [Warning] bagging_fraction is set=0.6088997976038988, subsample=1.0 will be ignored. Current value: bagging_fraction=0.6088997976038988\n",
      "[LightGBM] [Warning] feature_fraction is set=0.24356051834186077, colsample_bytree=1.0 will be ignored. Current value: feature_fraction=0.24356051834186077\n",
      "[LightGBM] [Warning] lambda_l2 is set=0.9887694029246434, reg_lambda=0.0 will be ignored. Current value: lambda_l2=0.9887694029246434\n",
      "4 [LightGBM] [Warning] lambda_l1 is set=0.22166862623726483, reg_alpha=0.0 will be ignored. Current value: lambda_l1=0.22166862623726483\n",
      "[LightGBM] [Warning] bagging_fraction is set=0.6088997976038988, subsample=1.0 will be ignored. Current value: bagging_fraction=0.6088997976038988\n",
      "[LightGBM] [Warning] feature_fraction is set=0.24356051834186077, colsample_bytree=1.0 will be ignored. Current value: feature_fraction=0.24356051834186077\n",
      "[LightGBM] [Warning] lambda_l2 is set=0.9887694029246434, reg_lambda=0.0 will be ignored. Current value: lambda_l2=0.9887694029246434\n"
     ]
    },
    {
     "name": "stderr",
     "output_type": "stream",
     "text": [
      "\u001b[32m[I 2023-02-06 21:01:12,062]\u001b[0m Trial 38 finished with value: 0.5681756492173202 and parameters: {'n_estimators': 1608, 'learning_rate': 0.014719310746076355, 'max_depth': 10, 'lambda_l1': 0.22166862623726483, 'lambda_l2': 0.9887694029246434, 'num_leaves': 72, 'bagging_fraction': 0.6088997976038988, 'feature_fraction': 0.24356051834186077}. Best is trial 35 with value: 0.569335194817751.\u001b[0m\n"
     ]
    },
    {
     "name": "stdout",
     "output_type": "stream",
     "text": [
      "0 [LightGBM] [Warning] lambda_l1 is set=0.2547569839550015, reg_alpha=0.0 will be ignored. Current value: lambda_l1=0.2547569839550015\n",
      "[LightGBM] [Warning] bagging_fraction is set=0.6074516497392743, subsample=1.0 will be ignored. Current value: bagging_fraction=0.6074516497392743\n",
      "[LightGBM] [Warning] feature_fraction is set=0.2868664156108183, colsample_bytree=1.0 will be ignored. Current value: feature_fraction=0.2868664156108183\n",
      "[LightGBM] [Warning] lambda_l2 is set=0.09305640452831758, reg_lambda=0.0 will be ignored. Current value: lambda_l2=0.09305640452831758\n",
      "1 [LightGBM] [Warning] lambda_l1 is set=0.2547569839550015, reg_alpha=0.0 will be ignored. Current value: lambda_l1=0.2547569839550015\n",
      "[LightGBM] [Warning] bagging_fraction is set=0.6074516497392743, subsample=1.0 will be ignored. Current value: bagging_fraction=0.6074516497392743\n",
      "[LightGBM] [Warning] feature_fraction is set=0.2868664156108183, colsample_bytree=1.0 will be ignored. Current value: feature_fraction=0.2868664156108183\n",
      "[LightGBM] [Warning] lambda_l2 is set=0.09305640452831758, reg_lambda=0.0 will be ignored. Current value: lambda_l2=0.09305640452831758\n",
      "2 [LightGBM] [Warning] lambda_l1 is set=0.2547569839550015, reg_alpha=0.0 will be ignored. Current value: lambda_l1=0.2547569839550015\n",
      "[LightGBM] [Warning] bagging_fraction is set=0.6074516497392743, subsample=1.0 will be ignored. Current value: bagging_fraction=0.6074516497392743\n",
      "[LightGBM] [Warning] feature_fraction is set=0.2868664156108183, colsample_bytree=1.0 will be ignored. Current value: feature_fraction=0.2868664156108183\n",
      "[LightGBM] [Warning] lambda_l2 is set=0.09305640452831758, reg_lambda=0.0 will be ignored. Current value: lambda_l2=0.09305640452831758\n",
      "3 [LightGBM] [Warning] lambda_l1 is set=0.2547569839550015, reg_alpha=0.0 will be ignored. Current value: lambda_l1=0.2547569839550015\n",
      "[LightGBM] [Warning] bagging_fraction is set=0.6074516497392743, subsample=1.0 will be ignored. Current value: bagging_fraction=0.6074516497392743\n",
      "[LightGBM] [Warning] feature_fraction is set=0.2868664156108183, colsample_bytree=1.0 will be ignored. Current value: feature_fraction=0.2868664156108183\n",
      "[LightGBM] [Warning] lambda_l2 is set=0.09305640452831758, reg_lambda=0.0 will be ignored. Current value: lambda_l2=0.09305640452831758\n",
      "4 [LightGBM] [Warning] lambda_l1 is set=0.2547569839550015, reg_alpha=0.0 will be ignored. Current value: lambda_l1=0.2547569839550015\n",
      "[LightGBM] [Warning] bagging_fraction is set=0.6074516497392743, subsample=1.0 will be ignored. Current value: bagging_fraction=0.6074516497392743\n",
      "[LightGBM] [Warning] feature_fraction is set=0.2868664156108183, colsample_bytree=1.0 will be ignored. Current value: feature_fraction=0.2868664156108183\n",
      "[LightGBM] [Warning] lambda_l2 is set=0.09305640452831758, reg_lambda=0.0 will be ignored. Current value: lambda_l2=0.09305640452831758\n"
     ]
    },
    {
     "name": "stderr",
     "output_type": "stream",
     "text": [
      "\u001b[32m[I 2023-02-06 21:01:23,222]\u001b[0m Trial 39 finished with value: 0.5709286837925462 and parameters: {'n_estimators': 1147, 'learning_rate': 0.018886819794747486, 'max_depth': 10, 'lambda_l1': 0.2547569839550015, 'lambda_l2': 0.09305640452831758, 'num_leaves': 51, 'bagging_fraction': 0.6074516497392743, 'feature_fraction': 0.2868664156108183}. Best is trial 39 with value: 0.5709286837925462.\u001b[0m\n"
     ]
    },
    {
     "name": "stdout",
     "output_type": "stream",
     "text": [
      "0 [LightGBM] [Warning] lambda_l1 is set=0.2182914723972292, reg_alpha=0.0 will be ignored. Current value: lambda_l1=0.2182914723972292\n",
      "[LightGBM] [Warning] bagging_fraction is set=0.6269692322331828, subsample=1.0 will be ignored. Current value: bagging_fraction=0.6269692322331828\n",
      "[LightGBM] [Warning] feature_fraction is set=0.27907293473344047, colsample_bytree=1.0 will be ignored. Current value: feature_fraction=0.27907293473344047\n",
      "[LightGBM] [Warning] lambda_l2 is set=0.08313812956839213, reg_lambda=0.0 will be ignored. Current value: lambda_l2=0.08313812956839213\n",
      "1 [LightGBM] [Warning] lambda_l1 is set=0.2182914723972292, reg_alpha=0.0 will be ignored. Current value: lambda_l1=0.2182914723972292\n",
      "[LightGBM] [Warning] bagging_fraction is set=0.6269692322331828, subsample=1.0 will be ignored. Current value: bagging_fraction=0.6269692322331828\n",
      "[LightGBM] [Warning] feature_fraction is set=0.27907293473344047, colsample_bytree=1.0 will be ignored. Current value: feature_fraction=0.27907293473344047\n",
      "[LightGBM] [Warning] lambda_l2 is set=0.08313812956839213, reg_lambda=0.0 will be ignored. Current value: lambda_l2=0.08313812956839213\n",
      "2 [LightGBM] [Warning] lambda_l1 is set=0.2182914723972292, reg_alpha=0.0 will be ignored. Current value: lambda_l1=0.2182914723972292\n",
      "[LightGBM] [Warning] bagging_fraction is set=0.6269692322331828, subsample=1.0 will be ignored. Current value: bagging_fraction=0.6269692322331828\n",
      "[LightGBM] [Warning] feature_fraction is set=0.27907293473344047, colsample_bytree=1.0 will be ignored. Current value: feature_fraction=0.27907293473344047\n",
      "[LightGBM] [Warning] lambda_l2 is set=0.08313812956839213, reg_lambda=0.0 will be ignored. Current value: lambda_l2=0.08313812956839213\n",
      "3 [LightGBM] [Warning] lambda_l1 is set=0.2182914723972292, reg_alpha=0.0 will be ignored. Current value: lambda_l1=0.2182914723972292\n",
      "[LightGBM] [Warning] bagging_fraction is set=0.6269692322331828, subsample=1.0 will be ignored. Current value: bagging_fraction=0.6269692322331828\n",
      "[LightGBM] [Warning] feature_fraction is set=0.27907293473344047, colsample_bytree=1.0 will be ignored. Current value: feature_fraction=0.27907293473344047\n",
      "[LightGBM] [Warning] lambda_l2 is set=0.08313812956839213, reg_lambda=0.0 will be ignored. Current value: lambda_l2=0.08313812956839213\n",
      "4 [LightGBM] [Warning] lambda_l1 is set=0.2182914723972292, reg_alpha=0.0 will be ignored. Current value: lambda_l1=0.2182914723972292\n",
      "[LightGBM] [Warning] bagging_fraction is set=0.6269692322331828, subsample=1.0 will be ignored. Current value: bagging_fraction=0.6269692322331828\n",
      "[LightGBM] [Warning] feature_fraction is set=0.27907293473344047, colsample_bytree=1.0 will be ignored. Current value: feature_fraction=0.27907293473344047\n",
      "[LightGBM] [Warning] lambda_l2 is set=0.08313812956839213, reg_lambda=0.0 will be ignored. Current value: lambda_l2=0.08313812956839213\n"
     ]
    },
    {
     "name": "stderr",
     "output_type": "stream",
     "text": [
      "\u001b[32m[I 2023-02-06 21:01:28,912]\u001b[0m Trial 40 finished with value: 0.5655432714095092 and parameters: {'n_estimators': 1144, 'learning_rate': 0.022118519648825507, 'max_depth': 12, 'lambda_l1': 0.2182914723972292, 'lambda_l2': 0.08313812956839213, 'num_leaves': 52, 'bagging_fraction': 0.6269692322331828, 'feature_fraction': 0.27907293473344047}. Best is trial 39 with value: 0.5709286837925462.\u001b[0m\n"
     ]
    },
    {
     "name": "stdout",
     "output_type": "stream",
     "text": [
      "0 [LightGBM] [Warning] lambda_l1 is set=0.23254905372082768, reg_alpha=0.0 will be ignored. Current value: lambda_l1=0.23254905372082768\n",
      "[LightGBM] [Warning] bagging_fraction is set=0.6180757326821472, subsample=1.0 will be ignored. Current value: bagging_fraction=0.6180757326821472\n",
      "[LightGBM] [Warning] feature_fraction is set=0.2878271087304469, colsample_bytree=1.0 will be ignored. Current value: feature_fraction=0.2878271087304469\n",
      "[LightGBM] [Warning] lambda_l2 is set=0.11231497474997365, reg_lambda=0.0 will be ignored. Current value: lambda_l2=0.11231497474997365\n",
      "1 [LightGBM] [Warning] lambda_l1 is set=0.23254905372082768, reg_alpha=0.0 will be ignored. Current value: lambda_l1=0.23254905372082768\n",
      "[LightGBM] [Warning] bagging_fraction is set=0.6180757326821472, subsample=1.0 will be ignored. Current value: bagging_fraction=0.6180757326821472\n",
      "[LightGBM] [Warning] feature_fraction is set=0.2878271087304469, colsample_bytree=1.0 will be ignored. Current value: feature_fraction=0.2878271087304469\n",
      "[LightGBM] [Warning] lambda_l2 is set=0.11231497474997365, reg_lambda=0.0 will be ignored. Current value: lambda_l2=0.11231497474997365\n",
      "2 [LightGBM] [Warning] lambda_l1 is set=0.23254905372082768, reg_alpha=0.0 will be ignored. Current value: lambda_l1=0.23254905372082768\n",
      "[LightGBM] [Warning] bagging_fraction is set=0.6180757326821472, subsample=1.0 will be ignored. Current value: bagging_fraction=0.6180757326821472\n",
      "[LightGBM] [Warning] feature_fraction is set=0.2878271087304469, colsample_bytree=1.0 will be ignored. Current value: feature_fraction=0.2878271087304469\n",
      "[LightGBM] [Warning] lambda_l2 is set=0.11231497474997365, reg_lambda=0.0 will be ignored. Current value: lambda_l2=0.11231497474997365\n",
      "3 [LightGBM] [Warning] lambda_l1 is set=0.23254905372082768, reg_alpha=0.0 will be ignored. Current value: lambda_l1=0.23254905372082768\n",
      "[LightGBM] [Warning] bagging_fraction is set=0.6180757326821472, subsample=1.0 will be ignored. Current value: bagging_fraction=0.6180757326821472\n",
      "[LightGBM] [Warning] feature_fraction is set=0.2878271087304469, colsample_bytree=1.0 will be ignored. Current value: feature_fraction=0.2878271087304469\n",
      "[LightGBM] [Warning] lambda_l2 is set=0.11231497474997365, reg_lambda=0.0 will be ignored. Current value: lambda_l2=0.11231497474997365\n",
      "4 [LightGBM] [Warning] lambda_l1 is set=0.23254905372082768, reg_alpha=0.0 will be ignored. Current value: lambda_l1=0.23254905372082768\n",
      "[LightGBM] [Warning] bagging_fraction is set=0.6180757326821472, subsample=1.0 will be ignored. Current value: bagging_fraction=0.6180757326821472\n",
      "[LightGBM] [Warning] feature_fraction is set=0.2878271087304469, colsample_bytree=1.0 will be ignored. Current value: feature_fraction=0.2878271087304469\n",
      "[LightGBM] [Warning] lambda_l2 is set=0.11231497474997365, reg_lambda=0.0 will be ignored. Current value: lambda_l2=0.11231497474997365\n"
     ]
    },
    {
     "name": "stderr",
     "output_type": "stream",
     "text": [
      "\u001b[32m[I 2023-02-06 21:01:35,137]\u001b[0m Trial 41 finished with value: 0.5631780356907958 and parameters: {'n_estimators': 1298, 'learning_rate': 0.01515704828385605, 'max_depth': 12, 'lambda_l1': 0.23254905372082768, 'lambda_l2': 0.11231497474997365, 'num_leaves': 52, 'bagging_fraction': 0.6180757326821472, 'feature_fraction': 0.2878271087304469}. Best is trial 39 with value: 0.5709286837925462.\u001b[0m\n"
     ]
    },
    {
     "name": "stdout",
     "output_type": "stream",
     "text": [
      "0 [LightGBM] [Warning] lambda_l1 is set=0.5391969757186842, reg_alpha=0.0 will be ignored. Current value: lambda_l1=0.5391969757186842\n",
      "[LightGBM] [Warning] bagging_fraction is set=0.5984127676970329, subsample=1.0 will be ignored. Current value: bagging_fraction=0.5984127676970329\n",
      "[LightGBM] [Warning] feature_fraction is set=0.23338183480097677, colsample_bytree=1.0 will be ignored. Current value: feature_fraction=0.23338183480097677\n",
      "[LightGBM] [Warning] lambda_l2 is set=0.07503981802049173, reg_lambda=0.0 will be ignored. Current value: lambda_l2=0.07503981802049173\n",
      "1 [LightGBM] [Warning] lambda_l1 is set=0.5391969757186842, reg_alpha=0.0 will be ignored. Current value: lambda_l1=0.5391969757186842\n",
      "[LightGBM] [Warning] bagging_fraction is set=0.5984127676970329, subsample=1.0 will be ignored. Current value: bagging_fraction=0.5984127676970329\n",
      "[LightGBM] [Warning] feature_fraction is set=0.23338183480097677, colsample_bytree=1.0 will be ignored. Current value: feature_fraction=0.23338183480097677\n",
      "[LightGBM] [Warning] lambda_l2 is set=0.07503981802049173, reg_lambda=0.0 will be ignored. Current value: lambda_l2=0.07503981802049173\n",
      "2 [LightGBM] [Warning] lambda_l1 is set=0.5391969757186842, reg_alpha=0.0 will be ignored. Current value: lambda_l1=0.5391969757186842\n",
      "[LightGBM] [Warning] bagging_fraction is set=0.5984127676970329, subsample=1.0 will be ignored. Current value: bagging_fraction=0.5984127676970329\n",
      "[LightGBM] [Warning] feature_fraction is set=0.23338183480097677, colsample_bytree=1.0 will be ignored. Current value: feature_fraction=0.23338183480097677\n",
      "[LightGBM] [Warning] lambda_l2 is set=0.07503981802049173, reg_lambda=0.0 will be ignored. Current value: lambda_l2=0.07503981802049173\n",
      "3 [LightGBM] [Warning] lambda_l1 is set=0.5391969757186842, reg_alpha=0.0 will be ignored. Current value: lambda_l1=0.5391969757186842\n",
      "[LightGBM] [Warning] bagging_fraction is set=0.5984127676970329, subsample=1.0 will be ignored. Current value: bagging_fraction=0.5984127676970329\n",
      "[LightGBM] [Warning] feature_fraction is set=0.23338183480097677, colsample_bytree=1.0 will be ignored. Current value: feature_fraction=0.23338183480097677\n",
      "[LightGBM] [Warning] lambda_l2 is set=0.07503981802049173, reg_lambda=0.0 will be ignored. Current value: lambda_l2=0.07503981802049173\n",
      "4 [LightGBM] [Warning] lambda_l1 is set=0.5391969757186842, reg_alpha=0.0 will be ignored. Current value: lambda_l1=0.5391969757186842\n",
      "[LightGBM] [Warning] bagging_fraction is set=0.5984127676970329, subsample=1.0 will be ignored. Current value: bagging_fraction=0.5984127676970329\n",
      "[LightGBM] [Warning] feature_fraction is set=0.23338183480097677, colsample_bytree=1.0 will be ignored. Current value: feature_fraction=0.23338183480097677\n",
      "[LightGBM] [Warning] lambda_l2 is set=0.07503981802049173, reg_lambda=0.0 will be ignored. Current value: lambda_l2=0.07503981802049173\n"
     ]
    },
    {
     "name": "stderr",
     "output_type": "stream",
     "text": [
      "\u001b[32m[I 2023-02-06 21:01:40,246]\u001b[0m Trial 42 finished with value: 0.5666727275132282 and parameters: {'n_estimators': 1080, 'learning_rate': 0.02052765914573895, 'max_depth': 11, 'lambda_l1': 0.5391969757186842, 'lambda_l2': 0.07503981802049173, 'num_leaves': 64, 'bagging_fraction': 0.5984127676970329, 'feature_fraction': 0.23338183480097677}. Best is trial 39 with value: 0.5709286837925462.\u001b[0m\n"
     ]
    },
    {
     "name": "stdout",
     "output_type": "stream",
     "text": [
      "0 [LightGBM] [Warning] lambda_l1 is set=0.6175657667487522, reg_alpha=0.0 will be ignored. Current value: lambda_l1=0.6175657667487522\n",
      "[LightGBM] [Warning] bagging_fraction is set=0.585964567008524, subsample=1.0 will be ignored. Current value: bagging_fraction=0.585964567008524\n",
      "[LightGBM] [Warning] feature_fraction is set=0.23264690511532934, colsample_bytree=1.0 will be ignored. Current value: feature_fraction=0.23264690511532934\n",
      "[LightGBM] [Warning] lambda_l2 is set=0.05413257277295514, reg_lambda=0.0 will be ignored. Current value: lambda_l2=0.05413257277295514\n",
      "1 [LightGBM] [Warning] lambda_l1 is set=0.6175657667487522, reg_alpha=0.0 will be ignored. Current value: lambda_l1=0.6175657667487522\n",
      "[LightGBM] [Warning] bagging_fraction is set=0.585964567008524, subsample=1.0 will be ignored. Current value: bagging_fraction=0.585964567008524\n",
      "[LightGBM] [Warning] feature_fraction is set=0.23264690511532934, colsample_bytree=1.0 will be ignored. Current value: feature_fraction=0.23264690511532934\n",
      "[LightGBM] [Warning] lambda_l2 is set=0.05413257277295514, reg_lambda=0.0 will be ignored. Current value: lambda_l2=0.05413257277295514\n",
      "2 [LightGBM] [Warning] lambda_l1 is set=0.6175657667487522, reg_alpha=0.0 will be ignored. Current value: lambda_l1=0.6175657667487522\n",
      "[LightGBM] [Warning] bagging_fraction is set=0.585964567008524, subsample=1.0 will be ignored. Current value: bagging_fraction=0.585964567008524\n",
      "[LightGBM] [Warning] feature_fraction is set=0.23264690511532934, colsample_bytree=1.0 will be ignored. Current value: feature_fraction=0.23264690511532934\n",
      "[LightGBM] [Warning] lambda_l2 is set=0.05413257277295514, reg_lambda=0.0 will be ignored. Current value: lambda_l2=0.05413257277295514\n",
      "3 [LightGBM] [Warning] lambda_l1 is set=0.6175657667487522, reg_alpha=0.0 will be ignored. Current value: lambda_l1=0.6175657667487522\n",
      "[LightGBM] [Warning] bagging_fraction is set=0.585964567008524, subsample=1.0 will be ignored. Current value: bagging_fraction=0.585964567008524\n",
      "[LightGBM] [Warning] feature_fraction is set=0.23264690511532934, colsample_bytree=1.0 will be ignored. Current value: feature_fraction=0.23264690511532934\n",
      "[LightGBM] [Warning] lambda_l2 is set=0.05413257277295514, reg_lambda=0.0 will be ignored. Current value: lambda_l2=0.05413257277295514\n",
      "4 [LightGBM] [Warning] lambda_l1 is set=0.6175657667487522, reg_alpha=0.0 will be ignored. Current value: lambda_l1=0.6175657667487522\n",
      "[LightGBM] [Warning] bagging_fraction is set=0.585964567008524, subsample=1.0 will be ignored. Current value: bagging_fraction=0.585964567008524\n",
      "[LightGBM] [Warning] feature_fraction is set=0.23264690511532934, colsample_bytree=1.0 will be ignored. Current value: feature_fraction=0.23264690511532934\n",
      "[LightGBM] [Warning] lambda_l2 is set=0.05413257277295514, reg_lambda=0.0 will be ignored. Current value: lambda_l2=0.05413257277295514\n"
     ]
    },
    {
     "name": "stderr",
     "output_type": "stream",
     "text": [
      "\u001b[32m[I 2023-02-06 21:01:47,359]\u001b[0m Trial 43 finished with value: 0.5622978032150789 and parameters: {'n_estimators': 1909, 'learning_rate': 0.014584955645753182, 'max_depth': 10, 'lambda_l1': 0.6175657667487522, 'lambda_l2': 0.05413257277295514, 'num_leaves': 63, 'bagging_fraction': 0.585964567008524, 'feature_fraction': 0.23264690511532934}. Best is trial 39 with value: 0.5709286837925462.\u001b[0m\n"
     ]
    },
    {
     "name": "stdout",
     "output_type": "stream",
     "text": [
      "0 [LightGBM] [Warning] lambda_l1 is set=0.29877579661884895, reg_alpha=0.0 will be ignored. Current value: lambda_l1=0.29877579661884895\n",
      "[LightGBM] [Warning] bagging_fraction is set=0.546629319720624, subsample=1.0 will be ignored. Current value: bagging_fraction=0.546629319720624\n",
      "[LightGBM] [Warning] feature_fraction is set=0.2388972981307508, colsample_bytree=1.0 will be ignored. Current value: feature_fraction=0.2388972981307508\n",
      "[LightGBM] [Warning] lambda_l2 is set=0.04603480387041988, reg_lambda=0.0 will be ignored. Current value: lambda_l2=0.04603480387041988\n",
      "1 [LightGBM] [Warning] lambda_l1 is set=0.29877579661884895, reg_alpha=0.0 will be ignored. Current value: lambda_l1=0.29877579661884895\n",
      "[LightGBM] [Warning] bagging_fraction is set=0.546629319720624, subsample=1.0 will be ignored. Current value: bagging_fraction=0.546629319720624\n",
      "[LightGBM] [Warning] feature_fraction is set=0.2388972981307508, colsample_bytree=1.0 will be ignored. Current value: feature_fraction=0.2388972981307508\n",
      "[LightGBM] [Warning] lambda_l2 is set=0.04603480387041988, reg_lambda=0.0 will be ignored. Current value: lambda_l2=0.04603480387041988\n",
      "2 [LightGBM] [Warning] lambda_l1 is set=0.29877579661884895, reg_alpha=0.0 will be ignored. Current value: lambda_l1=0.29877579661884895\n",
      "[LightGBM] [Warning] bagging_fraction is set=0.546629319720624, subsample=1.0 will be ignored. Current value: bagging_fraction=0.546629319720624\n",
      "[LightGBM] [Warning] feature_fraction is set=0.2388972981307508, colsample_bytree=1.0 will be ignored. Current value: feature_fraction=0.2388972981307508\n",
      "[LightGBM] [Warning] lambda_l2 is set=0.04603480387041988, reg_lambda=0.0 will be ignored. Current value: lambda_l2=0.04603480387041988\n",
      "3 [LightGBM] [Warning] lambda_l1 is set=0.29877579661884895, reg_alpha=0.0 will be ignored. Current value: lambda_l1=0.29877579661884895\n",
      "[LightGBM] [Warning] bagging_fraction is set=0.546629319720624, subsample=1.0 will be ignored. Current value: bagging_fraction=0.546629319720624\n",
      "[LightGBM] [Warning] feature_fraction is set=0.2388972981307508, colsample_bytree=1.0 will be ignored. Current value: feature_fraction=0.2388972981307508\n",
      "[LightGBM] [Warning] lambda_l2 is set=0.04603480387041988, reg_lambda=0.0 will be ignored. Current value: lambda_l2=0.04603480387041988\n",
      "4 [LightGBM] [Warning] lambda_l1 is set=0.29877579661884895, reg_alpha=0.0 will be ignored. Current value: lambda_l1=0.29877579661884895\n",
      "[LightGBM] [Warning] bagging_fraction is set=0.546629319720624, subsample=1.0 will be ignored. Current value: bagging_fraction=0.546629319720624\n",
      "[LightGBM] [Warning] feature_fraction is set=0.2388972981307508, colsample_bytree=1.0 will be ignored. Current value: feature_fraction=0.2388972981307508\n",
      "[LightGBM] [Warning] lambda_l2 is set=0.04603480387041988, reg_lambda=0.0 will be ignored. Current value: lambda_l2=0.04603480387041988\n"
     ]
    },
    {
     "name": "stderr",
     "output_type": "stream",
     "text": [
      "\u001b[32m[I 2023-02-06 21:01:55,777]\u001b[0m Trial 44 finished with value: 0.5622741819159455 and parameters: {'n_estimators': 2261, 'learning_rate': 0.02287033255610984, 'max_depth': 11, 'lambda_l1': 0.29877579661884895, 'lambda_l2': 0.04603480387041988, 'num_leaves': 58, 'bagging_fraction': 0.546629319720624, 'feature_fraction': 0.2388972981307508}. Best is trial 39 with value: 0.5709286837925462.\u001b[0m\n"
     ]
    },
    {
     "name": "stdout",
     "output_type": "stream",
     "text": [
      "0 [LightGBM] [Warning] lambda_l1 is set=0.7084623947063738, reg_alpha=0.0 will be ignored. Current value: lambda_l1=0.7084623947063738\n",
      "[LightGBM] [Warning] bagging_fraction is set=0.6867238761955465, subsample=1.0 will be ignored. Current value: bagging_fraction=0.6867238761955465\n",
      "[LightGBM] [Warning] feature_fraction is set=0.2867214003754529, colsample_bytree=1.0 will be ignored. Current value: feature_fraction=0.2867214003754529\n",
      "[LightGBM] [Warning] lambda_l2 is set=0.5429781247239907, reg_lambda=0.0 will be ignored. Current value: lambda_l2=0.5429781247239907\n",
      "1 [LightGBM] [Warning] lambda_l1 is set=0.7084623947063738, reg_alpha=0.0 will be ignored. Current value: lambda_l1=0.7084623947063738\n",
      "[LightGBM] [Warning] bagging_fraction is set=0.6867238761955465, subsample=1.0 will be ignored. Current value: bagging_fraction=0.6867238761955465\n",
      "[LightGBM] [Warning] feature_fraction is set=0.2867214003754529, colsample_bytree=1.0 will be ignored. Current value: feature_fraction=0.2867214003754529\n",
      "[LightGBM] [Warning] lambda_l2 is set=0.5429781247239907, reg_lambda=0.0 will be ignored. Current value: lambda_l2=0.5429781247239907\n",
      "2 [LightGBM] [Warning] lambda_l1 is set=0.7084623947063738, reg_alpha=0.0 will be ignored. Current value: lambda_l1=0.7084623947063738\n",
      "[LightGBM] [Warning] bagging_fraction is set=0.6867238761955465, subsample=1.0 will be ignored. Current value: bagging_fraction=0.6867238761955465\n",
      "[LightGBM] [Warning] feature_fraction is set=0.2867214003754529, colsample_bytree=1.0 will be ignored. Current value: feature_fraction=0.2867214003754529\n",
      "[LightGBM] [Warning] lambda_l2 is set=0.5429781247239907, reg_lambda=0.0 will be ignored. Current value: lambda_l2=0.5429781247239907\n",
      "3 [LightGBM] [Warning] lambda_l1 is set=0.7084623947063738, reg_alpha=0.0 will be ignored. Current value: lambda_l1=0.7084623947063738\n",
      "[LightGBM] [Warning] bagging_fraction is set=0.6867238761955465, subsample=1.0 will be ignored. Current value: bagging_fraction=0.6867238761955465\n",
      "[LightGBM] [Warning] feature_fraction is set=0.2867214003754529, colsample_bytree=1.0 will be ignored. Current value: feature_fraction=0.2867214003754529\n",
      "[LightGBM] [Warning] lambda_l2 is set=0.5429781247239907, reg_lambda=0.0 will be ignored. Current value: lambda_l2=0.5429781247239907\n",
      "4 [LightGBM] [Warning] lambda_l1 is set=0.7084623947063738, reg_alpha=0.0 will be ignored. Current value: lambda_l1=0.7084623947063738\n",
      "[LightGBM] [Warning] bagging_fraction is set=0.6867238761955465, subsample=1.0 will be ignored. Current value: bagging_fraction=0.6867238761955465\n",
      "[LightGBM] [Warning] feature_fraction is set=0.2867214003754529, colsample_bytree=1.0 will be ignored. Current value: feature_fraction=0.2867214003754529\n",
      "[LightGBM] [Warning] lambda_l2 is set=0.5429781247239907, reg_lambda=0.0 will be ignored. Current value: lambda_l2=0.5429781247239907\n"
     ]
    },
    {
     "name": "stderr",
     "output_type": "stream",
     "text": [
      "\u001b[32m[I 2023-02-06 21:02:04,129]\u001b[0m Trial 45 finished with value: 0.5606814121949402 and parameters: {'n_estimators': 2443, 'learning_rate': 0.01247334323385397, 'max_depth': 10, 'lambda_l1': 0.7084623947063738, 'lambda_l2': 0.5429781247239907, 'num_leaves': 64, 'bagging_fraction': 0.6867238761955465, 'feature_fraction': 0.2867214003754529}. Best is trial 39 with value: 0.5709286837925462.\u001b[0m\n"
     ]
    },
    {
     "name": "stdout",
     "output_type": "stream",
     "text": [
      "0 [LightGBM] [Warning] lambda_l1 is set=0.1857298987998187, reg_alpha=0.0 will be ignored. Current value: lambda_l1=0.1857298987998187\n",
      "[LightGBM] [Warning] bagging_fraction is set=0.5934534465341691, subsample=1.0 will be ignored. Current value: bagging_fraction=0.5934534465341691\n",
      "[LightGBM] [Warning] feature_fraction is set=0.23748445208532556, colsample_bytree=1.0 will be ignored. Current value: feature_fraction=0.23748445208532556\n",
      "[LightGBM] [Warning] lambda_l2 is set=0.3077791647819188, reg_lambda=0.0 will be ignored. Current value: lambda_l2=0.3077791647819188\n",
      "1 [LightGBM] [Warning] lambda_l1 is set=0.1857298987998187, reg_alpha=0.0 will be ignored. Current value: lambda_l1=0.1857298987998187\n",
      "[LightGBM] [Warning] bagging_fraction is set=0.5934534465341691, subsample=1.0 will be ignored. Current value: bagging_fraction=0.5934534465341691\n",
      "[LightGBM] [Warning] feature_fraction is set=0.23748445208532556, colsample_bytree=1.0 will be ignored. Current value: feature_fraction=0.23748445208532556\n",
      "[LightGBM] [Warning] lambda_l2 is set=0.3077791647819188, reg_lambda=0.0 will be ignored. Current value: lambda_l2=0.3077791647819188\n",
      "2 [LightGBM] [Warning] lambda_l1 is set=0.1857298987998187, reg_alpha=0.0 will be ignored. Current value: lambda_l1=0.1857298987998187\n",
      "[LightGBM] [Warning] bagging_fraction is set=0.5934534465341691, subsample=1.0 will be ignored. Current value: bagging_fraction=0.5934534465341691\n",
      "[LightGBM] [Warning] feature_fraction is set=0.23748445208532556, colsample_bytree=1.0 will be ignored. Current value: feature_fraction=0.23748445208532556\n",
      "[LightGBM] [Warning] lambda_l2 is set=0.3077791647819188, reg_lambda=0.0 will be ignored. Current value: lambda_l2=0.3077791647819188\n",
      "3 [LightGBM] [Warning] lambda_l1 is set=0.1857298987998187, reg_alpha=0.0 will be ignored. Current value: lambda_l1=0.1857298987998187\n",
      "[LightGBM] [Warning] bagging_fraction is set=0.5934534465341691, subsample=1.0 will be ignored. Current value: bagging_fraction=0.5934534465341691\n",
      "[LightGBM] [Warning] feature_fraction is set=0.23748445208532556, colsample_bytree=1.0 will be ignored. Current value: feature_fraction=0.23748445208532556\n",
      "[LightGBM] [Warning] lambda_l2 is set=0.3077791647819188, reg_lambda=0.0 will be ignored. Current value: lambda_l2=0.3077791647819188\n",
      "4 [LightGBM] [Warning] lambda_l1 is set=0.1857298987998187, reg_alpha=0.0 will be ignored. Current value: lambda_l1=0.1857298987998187\n",
      "[LightGBM] [Warning] bagging_fraction is set=0.5934534465341691, subsample=1.0 will be ignored. Current value: bagging_fraction=0.5934534465341691\n",
      "[LightGBM] [Warning] feature_fraction is set=0.23748445208532556, colsample_bytree=1.0 will be ignored. Current value: feature_fraction=0.23748445208532556\n",
      "[LightGBM] [Warning] lambda_l2 is set=0.3077791647819188, reg_lambda=0.0 will be ignored. Current value: lambda_l2=0.3077791647819188\n"
     ]
    },
    {
     "name": "stderr",
     "output_type": "stream",
     "text": [
      "\u001b[32m[I 2023-02-06 21:02:08,882]\u001b[0m Trial 46 finished with value: 0.5639845627949966 and parameters: {'n_estimators': 873, 'learning_rate': 0.018116362223556025, 'max_depth': 11, 'lambda_l1': 0.1857298987998187, 'lambda_l2': 0.3077791647819188, 'num_leaves': 73, 'bagging_fraction': 0.5934534465341691, 'feature_fraction': 0.23748445208532556}. Best is trial 39 with value: 0.5709286837925462.\u001b[0m\n"
     ]
    },
    {
     "name": "stdout",
     "output_type": "stream",
     "text": [
      "0 [LightGBM] [Warning] lambda_l1 is set=0.46320820289673226, reg_alpha=0.0 will be ignored. Current value: lambda_l1=0.46320820289673226\n",
      "[LightGBM] [Warning] bagging_fraction is set=0.6498010133032265, subsample=1.0 will be ignored. Current value: bagging_fraction=0.6498010133032265\n",
      "[LightGBM] [Warning] feature_fraction is set=0.22029736271660963, colsample_bytree=1.0 will be ignored. Current value: feature_fraction=0.22029736271660963\n",
      "[LightGBM] [Warning] lambda_l2 is set=0.19023462533545885, reg_lambda=0.0 will be ignored. Current value: lambda_l2=0.19023462533545885\n",
      "1 [LightGBM] [Warning] lambda_l1 is set=0.46320820289673226, reg_alpha=0.0 will be ignored. Current value: lambda_l1=0.46320820289673226\n",
      "[LightGBM] [Warning] bagging_fraction is set=0.6498010133032265, subsample=1.0 will be ignored. Current value: bagging_fraction=0.6498010133032265\n",
      "[LightGBM] [Warning] feature_fraction is set=0.22029736271660963, colsample_bytree=1.0 will be ignored. Current value: feature_fraction=0.22029736271660963\n",
      "[LightGBM] [Warning] lambda_l2 is set=0.19023462533545885, reg_lambda=0.0 will be ignored. Current value: lambda_l2=0.19023462533545885\n",
      "2 [LightGBM] [Warning] lambda_l1 is set=0.46320820289673226, reg_alpha=0.0 will be ignored. Current value: lambda_l1=0.46320820289673226\n",
      "[LightGBM] [Warning] bagging_fraction is set=0.6498010133032265, subsample=1.0 will be ignored. Current value: bagging_fraction=0.6498010133032265\n",
      "[LightGBM] [Warning] feature_fraction is set=0.22029736271660963, colsample_bytree=1.0 will be ignored. Current value: feature_fraction=0.22029736271660963\n",
      "[LightGBM] [Warning] lambda_l2 is set=0.19023462533545885, reg_lambda=0.0 will be ignored. Current value: lambda_l2=0.19023462533545885\n",
      "3 [LightGBM] [Warning] lambda_l1 is set=0.46320820289673226, reg_alpha=0.0 will be ignored. Current value: lambda_l1=0.46320820289673226\n",
      "[LightGBM] [Warning] bagging_fraction is set=0.6498010133032265, subsample=1.0 will be ignored. Current value: bagging_fraction=0.6498010133032265\n",
      "[LightGBM] [Warning] feature_fraction is set=0.22029736271660963, colsample_bytree=1.0 will be ignored. Current value: feature_fraction=0.22029736271660963\n",
      "[LightGBM] [Warning] lambda_l2 is set=0.19023462533545885, reg_lambda=0.0 will be ignored. Current value: lambda_l2=0.19023462533545885\n",
      "4 [LightGBM] [Warning] lambda_l1 is set=0.46320820289673226, reg_alpha=0.0 will be ignored. Current value: lambda_l1=0.46320820289673226\n",
      "[LightGBM] [Warning] bagging_fraction is set=0.6498010133032265, subsample=1.0 will be ignored. Current value: bagging_fraction=0.6498010133032265\n",
      "[LightGBM] [Warning] feature_fraction is set=0.22029736271660963, colsample_bytree=1.0 will be ignored. Current value: feature_fraction=0.22029736271660963\n",
      "[LightGBM] [Warning] lambda_l2 is set=0.19023462533545885, reg_lambda=0.0 will be ignored. Current value: lambda_l2=0.19023462533545885\n"
     ]
    },
    {
     "name": "stderr",
     "output_type": "stream",
     "text": [
      "\u001b[32m[I 2023-02-06 21:02:14,818]\u001b[0m Trial 47 finished with value: 0.5631774476500565 and parameters: {'n_estimators': 1708, 'learning_rate': 0.03569780471633349, 'max_depth': 8, 'lambda_l1': 0.46320820289673226, 'lambda_l2': 0.19023462533545885, 'num_leaves': 68, 'bagging_fraction': 0.6498010133032265, 'feature_fraction': 0.22029736271660963}. Best is trial 39 with value: 0.5709286837925462.\u001b[0m\n"
     ]
    },
    {
     "name": "stdout",
     "output_type": "stream",
     "text": [
      "0 [LightGBM] [Warning] lambda_l1 is set=0.28980304381838196, reg_alpha=0.0 will be ignored. Current value: lambda_l1=0.28980304381838196\n",
      "[LightGBM] [Warning] bagging_fraction is set=0.53149979229554, subsample=1.0 will be ignored. Current value: bagging_fraction=0.53149979229554\n",
      "[LightGBM] [Warning] feature_fraction is set=0.2703811616120403, colsample_bytree=1.0 will be ignored. Current value: feature_fraction=0.2703811616120403\n",
      "[LightGBM] [Warning] lambda_l2 is set=0.2605049133399094, reg_lambda=0.0 will be ignored. Current value: lambda_l2=0.2605049133399094\n",
      "1 [LightGBM] [Warning] lambda_l1 is set=0.28980304381838196, reg_alpha=0.0 will be ignored. Current value: lambda_l1=0.28980304381838196\n",
      "[LightGBM] [Warning] bagging_fraction is set=0.53149979229554, subsample=1.0 will be ignored. Current value: bagging_fraction=0.53149979229554\n",
      "[LightGBM] [Warning] feature_fraction is set=0.2703811616120403, colsample_bytree=1.0 will be ignored. Current value: feature_fraction=0.2703811616120403\n",
      "[LightGBM] [Warning] lambda_l2 is set=0.2605049133399094, reg_lambda=0.0 will be ignored. Current value: lambda_l2=0.2605049133399094\n",
      "2 [LightGBM] [Warning] lambda_l1 is set=0.28980304381838196, reg_alpha=0.0 will be ignored. Current value: lambda_l1=0.28980304381838196\n",
      "[LightGBM] [Warning] bagging_fraction is set=0.53149979229554, subsample=1.0 will be ignored. Current value: bagging_fraction=0.53149979229554\n",
      "[LightGBM] [Warning] feature_fraction is set=0.2703811616120403, colsample_bytree=1.0 will be ignored. Current value: feature_fraction=0.2703811616120403\n",
      "[LightGBM] [Warning] lambda_l2 is set=0.2605049133399094, reg_lambda=0.0 will be ignored. Current value: lambda_l2=0.2605049133399094\n",
      "3 [LightGBM] [Warning] lambda_l1 is set=0.28980304381838196, reg_alpha=0.0 will be ignored. Current value: lambda_l1=0.28980304381838196\n",
      "[LightGBM] [Warning] bagging_fraction is set=0.53149979229554, subsample=1.0 will be ignored. Current value: bagging_fraction=0.53149979229554\n",
      "[LightGBM] [Warning] feature_fraction is set=0.2703811616120403, colsample_bytree=1.0 will be ignored. Current value: feature_fraction=0.2703811616120403\n",
      "[LightGBM] [Warning] lambda_l2 is set=0.2605049133399094, reg_lambda=0.0 will be ignored. Current value: lambda_l2=0.2605049133399094\n",
      "4 [LightGBM] [Warning] lambda_l1 is set=0.28980304381838196, reg_alpha=0.0 will be ignored. Current value: lambda_l1=0.28980304381838196\n",
      "[LightGBM] [Warning] bagging_fraction is set=0.53149979229554, subsample=1.0 will be ignored. Current value: bagging_fraction=0.53149979229554\n",
      "[LightGBM] [Warning] feature_fraction is set=0.2703811616120403, colsample_bytree=1.0 will be ignored. Current value: feature_fraction=0.2703811616120403\n",
      "[LightGBM] [Warning] lambda_l2 is set=0.2605049133399094, reg_lambda=0.0 will be ignored. Current value: lambda_l2=0.2605049133399094\n"
     ]
    },
    {
     "name": "stderr",
     "output_type": "stream",
     "text": [
      "\u001b[32m[I 2023-02-06 21:02:28,877]\u001b[0m Trial 48 finished with value: 0.5686545172007703 and parameters: {'n_estimators': 3993, 'learning_rate': 0.00828498794020625, 'max_depth': 11, 'lambda_l1': 0.28980304381838196, 'lambda_l2': 0.2605049133399094, 'num_leaves': 48, 'bagging_fraction': 0.53149979229554, 'feature_fraction': 0.2703811616120403}. Best is trial 39 with value: 0.5709286837925462.\u001b[0m\n"
     ]
    },
    {
     "name": "stdout",
     "output_type": "stream",
     "text": [
      "0 [LightGBM] [Warning] lambda_l1 is set=0.2853887101315789, reg_alpha=0.0 will be ignored. Current value: lambda_l1=0.2853887101315789\n",
      "[LightGBM] [Warning] bagging_fraction is set=0.5298697965942635, subsample=1.0 will be ignored. Current value: bagging_fraction=0.5298697965942635\n",
      "[LightGBM] [Warning] feature_fraction is set=0.27392396545478515, colsample_bytree=1.0 will be ignored. Current value: feature_fraction=0.27392396545478515\n",
      "[LightGBM] [Warning] lambda_l2 is set=0.3556487592536847, reg_lambda=0.0 will be ignored. Current value: lambda_l2=0.3556487592536847\n",
      "1 [LightGBM] [Warning] lambda_l1 is set=0.2853887101315789, reg_alpha=0.0 will be ignored. Current value: lambda_l1=0.2853887101315789\n",
      "[LightGBM] [Warning] bagging_fraction is set=0.5298697965942635, subsample=1.0 will be ignored. Current value: bagging_fraction=0.5298697965942635\n",
      "[LightGBM] [Warning] feature_fraction is set=0.27392396545478515, colsample_bytree=1.0 will be ignored. Current value: feature_fraction=0.27392396545478515\n",
      "[LightGBM] [Warning] lambda_l2 is set=0.3556487592536847, reg_lambda=0.0 will be ignored. Current value: lambda_l2=0.3556487592536847\n",
      "2 [LightGBM] [Warning] lambda_l1 is set=0.2853887101315789, reg_alpha=0.0 will be ignored. Current value: lambda_l1=0.2853887101315789\n",
      "[LightGBM] [Warning] bagging_fraction is set=0.5298697965942635, subsample=1.0 will be ignored. Current value: bagging_fraction=0.5298697965942635\n",
      "[LightGBM] [Warning] feature_fraction is set=0.27392396545478515, colsample_bytree=1.0 will be ignored. Current value: feature_fraction=0.27392396545478515\n",
      "[LightGBM] [Warning] lambda_l2 is set=0.3556487592536847, reg_lambda=0.0 will be ignored. Current value: lambda_l2=0.3556487592536847\n",
      "3 [LightGBM] [Warning] lambda_l1 is set=0.2853887101315789, reg_alpha=0.0 will be ignored. Current value: lambda_l1=0.2853887101315789\n",
      "[LightGBM] [Warning] bagging_fraction is set=0.5298697965942635, subsample=1.0 will be ignored. Current value: bagging_fraction=0.5298697965942635\n",
      "[LightGBM] [Warning] feature_fraction is set=0.27392396545478515, colsample_bytree=1.0 will be ignored. Current value: feature_fraction=0.27392396545478515\n",
      "[LightGBM] [Warning] lambda_l2 is set=0.3556487592536847, reg_lambda=0.0 will be ignored. Current value: lambda_l2=0.3556487592536847\n",
      "4 [LightGBM] [Warning] lambda_l1 is set=0.2853887101315789, reg_alpha=0.0 will be ignored. Current value: lambda_l1=0.2853887101315789\n",
      "[LightGBM] [Warning] bagging_fraction is set=0.5298697965942635, subsample=1.0 will be ignored. Current value: bagging_fraction=0.5298697965942635\n",
      "[LightGBM] [Warning] feature_fraction is set=0.27392396545478515, colsample_bytree=1.0 will be ignored. Current value: feature_fraction=0.27392396545478515\n",
      "[LightGBM] [Warning] lambda_l2 is set=0.3556487592536847, reg_lambda=0.0 will be ignored. Current value: lambda_l2=0.3556487592536847\n"
     ]
    },
    {
     "name": "stderr",
     "output_type": "stream",
     "text": [
      "\u001b[32m[I 2023-02-06 21:02:41,238]\u001b[0m Trial 49 finished with value: 0.5699614373224217 and parameters: {'n_estimators': 3744, 'learning_rate': 0.00874629729447718, 'max_depth': 10, 'lambda_l1': 0.2853887101315789, 'lambda_l2': 0.3556487592536847, 'num_leaves': 48, 'bagging_fraction': 0.5298697965942635, 'feature_fraction': 0.27392396545478515}. Best is trial 39 with value: 0.5709286837925462.\u001b[0m\n"
     ]
    }
   ],
   "source": [
    "study = optuna.create_study(direction = \"maximize\")\n",
    "study.optimize(objective, n_trials = 50, timeout = 3600)"
   ]
  },
  {
   "cell_type": "markdown",
   "id": "c11a124e",
   "metadata": {},
   "source": [
    "# LightGBM Modeling"
   ]
  },
  {
   "cell_type": "code",
   "execution_count": 5,
   "id": "5582a18c",
   "metadata": {},
   "outputs": [
    {
     "name": "stdout",
     "output_type": "stream",
     "text": [
      "[LightGBM] [Warning] lambda_l1 is set=0.2547, reg_alpha=0.0 will be ignored. Current value: lambda_l1=0.2547\n",
      "[LightGBM] [Warning] bagging_fraction is set=0.6074, subsample=1.0 will be ignored. Current value: bagging_fraction=0.6074\n",
      "[LightGBM] [Warning] feature_fraction is set=0.2868, colsample_bytree=1.0 will be ignored. Current value: feature_fraction=0.2868\n",
      "[LightGBM] [Warning] lambda_l2 is set=0.09305, reg_lambda=0.0 will be ignored. Current value: lambda_l2=0.09305\n",
      "[LightGBM] [Warning] lambda_l1 is set=0.2547, reg_alpha=0.0 will be ignored. Current value: lambda_l1=0.2547\n",
      "[LightGBM] [Warning] bagging_fraction is set=0.6074, subsample=1.0 will be ignored. Current value: bagging_fraction=0.6074\n",
      "[LightGBM] [Warning] feature_fraction is set=0.2868, colsample_bytree=1.0 will be ignored. Current value: feature_fraction=0.2868\n",
      "[LightGBM] [Warning] lambda_l2 is set=0.09305, reg_lambda=0.0 will be ignored. Current value: lambda_l2=0.09305\n",
      "[LightGBM] [Warning] lambda_l1 is set=0.2547, reg_alpha=0.0 will be ignored. Current value: lambda_l1=0.2547\n",
      "[LightGBM] [Warning] bagging_fraction is set=0.6074, subsample=1.0 will be ignored. Current value: bagging_fraction=0.6074\n",
      "[LightGBM] [Warning] feature_fraction is set=0.2868, colsample_bytree=1.0 will be ignored. Current value: feature_fraction=0.2868\n",
      "[LightGBM] [Warning] lambda_l2 is set=0.09305, reg_lambda=0.0 will be ignored. Current value: lambda_l2=0.09305\n",
      "[LightGBM] [Warning] lambda_l1 is set=0.2547, reg_alpha=0.0 will be ignored. Current value: lambda_l1=0.2547\n",
      "[LightGBM] [Warning] bagging_fraction is set=0.6074, subsample=1.0 will be ignored. Current value: bagging_fraction=0.6074\n",
      "[LightGBM] [Warning] feature_fraction is set=0.2868, colsample_bytree=1.0 will be ignored. Current value: feature_fraction=0.2868\n",
      "[LightGBM] [Warning] lambda_l2 is set=0.09305, reg_lambda=0.0 will be ignored. Current value: lambda_l2=0.09305\n",
      "[LightGBM] [Warning] lambda_l1 is set=0.2547, reg_alpha=0.0 will be ignored. Current value: lambda_l1=0.2547\n",
      "[LightGBM] [Warning] bagging_fraction is set=0.6074, subsample=1.0 will be ignored. Current value: bagging_fraction=0.6074\n",
      "[LightGBM] [Warning] feature_fraction is set=0.2868, colsample_bytree=1.0 will be ignored. Current value: feature_fraction=0.2868\n",
      "[LightGBM] [Warning] lambda_l2 is set=0.09305, reg_lambda=0.0 will be ignored. Current value: lambda_l2=0.09305\n",
      "The average roc-auc score over 5-folds (run 5 times) is: 0.5519794514993521\n"
     ]
    }
   ],
   "source": [
    "lgb_cv_scores, lgb_imp = list(), list()\n",
    "preds = list()\n",
    "\n",
    "skf = KFold(n_splits = 5, shuffle = True, random_state = 42)\n",
    "    \n",
    "for train_ix, test_ix in skf.split(X, Y):\n",
    "        \n",
    "    ## Splitting the data \n",
    "    X_train, X_test = X.iloc[train_ix], X.iloc[test_ix]\n",
    "    Y_train, Y_test = Y.iloc[train_ix], Y.iloc[test_ix]\n",
    "    \n",
    "    ## Building the model\n",
    "    lgb_md = LGBMRegressor(n_estimators = 1147,\n",
    "                            max_depth = 10,\n",
    "                            learning_rate = 0.018,\n",
    "                            num_leaves = 51,\n",
    "                            lambda_l1 = 0.2547,\n",
    "                            lambda_l2 = 0.09305,\n",
    "                            bagging_fraction = 0.6074,\n",
    "                            feature_fraction = 0.2868,\n",
    "                            random_state = 42).fit(X_train, Y_train)\n",
    "    lgb_imp.append(lgb_md.feature_importances_)\n",
    "    \n",
    "    ## Predicting on X_test and test\n",
    "    lgb_pred_1 = lgb_md.predict(X_test)\n",
    "    lgb_pred_2 = lgb_md.predict(test_md)\n",
    "        \n",
    "    ## Applying Optimal Rounder (using abhishek approach)\n",
    "    optR = OptimizedRounder()\n",
    "    optR.fit(lgb_pred_1, Y_test)\n",
    "    coef = optR.coefficients()\n",
    "    lgb_pred_1 = optR.predict(lgb_pred_1, coef).astype(int)\n",
    "    lgb_pred_2 = optR.predict(lgb_pred_2, coef).astype(int)\n",
    "        \n",
    "    ## Computing roc-auc score\n",
    "    lgb_cv_scores.append(cohen_kappa_score(Y_test, lgb_pred_1, weights = 'quadratic'))\n",
    "    preds.append(lgb_pred_2)\n",
    "\n",
    "lgb_cv_score = np.mean(lgb_cv_scores)    \n",
    "print('The average roc-auc score over 5-folds (run 5 times) is:', lgb_cv_score)"
   ]
  },
  {
   "cell_type": "code",
   "execution_count": 6,
   "id": "e4e4b285",
   "metadata": {},
   "outputs": [
    {
     "data": {
      "text/html": [
       "<div>\n",
       "<style scoped>\n",
       "    .dataframe tbody tr th:only-of-type {\n",
       "        vertical-align: middle;\n",
       "    }\n",
       "\n",
       "    .dataframe tbody tr th {\n",
       "        vertical-align: top;\n",
       "    }\n",
       "\n",
       "    .dataframe thead th {\n",
       "        text-align: right;\n",
       "    }\n",
       "</style>\n",
       "<table border=\"1\" class=\"dataframe\">\n",
       "  <thead>\n",
       "    <tr style=\"text-align: right;\">\n",
       "      <th></th>\n",
       "      <th>Id</th>\n",
       "      <th>quality</th>\n",
       "    </tr>\n",
       "  </thead>\n",
       "  <tbody>\n",
       "    <tr>\n",
       "      <th>0</th>\n",
       "      <td>2056</td>\n",
       "      <td>5</td>\n",
       "    </tr>\n",
       "    <tr>\n",
       "      <th>1</th>\n",
       "      <td>2057</td>\n",
       "      <td>6</td>\n",
       "    </tr>\n",
       "    <tr>\n",
       "      <th>2</th>\n",
       "      <td>2058</td>\n",
       "      <td>6</td>\n",
       "    </tr>\n",
       "    <tr>\n",
       "      <th>3</th>\n",
       "      <td>2059</td>\n",
       "      <td>7</td>\n",
       "    </tr>\n",
       "    <tr>\n",
       "      <th>4</th>\n",
       "      <td>2060</td>\n",
       "      <td>6</td>\n",
       "    </tr>\n",
       "  </tbody>\n",
       "</table>\n",
       "</div>"
      ],
      "text/plain": [
       "     Id  quality\n",
       "0  2056        5\n",
       "1  2057        6\n",
       "2  2058        6\n",
       "3  2059        7\n",
       "4  2060        6"
      ]
     },
     "execution_count": 6,
     "metadata": {},
     "output_type": "execute_result"
    }
   ],
   "source": [
    "lgb_preds_test = pd.DataFrame(preds).mode(axis = 0).loc[0, ]\n",
    "\n",
    "submission['quality'] = lgb_preds_test.astype(int)\n",
    "submission.head()"
   ]
  },
  {
   "cell_type": "code",
   "execution_count": 7,
   "id": "9aa3dc9d",
   "metadata": {},
   "outputs": [
    {
     "data": {
      "text/plain": [
       "5    552\n",
       "6    484\n",
       "7    334\n",
       "4      2\n",
       "Name: quality, dtype: int64"
      ]
     },
     "execution_count": 7,
     "metadata": {},
     "output_type": "execute_result"
    }
   ],
   "source": [
    "submission['quality'].value_counts()"
   ]
  },
  {
   "cell_type": "code",
   "execution_count": 8,
   "id": "274db582",
   "metadata": {},
   "outputs": [],
   "source": [
    "submission.to_csv('LightGBM_Reg_FE_2.csv', index = False)"
   ]
  }
 ],
 "metadata": {
  "kernelspec": {
   "display_name": "conda_python3",
   "language": "python",
   "name": "conda_python3"
  },
  "language_info": {
   "codemirror_mode": {
    "name": "ipython",
    "version": 3
   },
   "file_extension": ".py",
   "mimetype": "text/x-python",
   "name": "python",
   "nbconvert_exporter": "python",
   "pygments_lexer": "ipython3",
   "version": "3.10.6"
  }
 },
 "nbformat": 4,
 "nbformat_minor": 5
}
