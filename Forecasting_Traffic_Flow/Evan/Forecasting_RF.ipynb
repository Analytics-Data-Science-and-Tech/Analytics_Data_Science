{
 "cells": [
  {
   "cell_type": "markdown",
   "metadata": {},
   "source": [
    "## Forecasting congestion in October with Random Forest"
   ]
  },
  {
   "cell_type": "code",
   "execution_count": null,
   "metadata": {},
   "outputs": [],
   "source": [
    "## Importing libraries\n",
    "import warnings\n",
    "import numpy as np\n",
    "import pandas as pd\n",
    "import rf_modeling as rf_m\n",
    "from sklearn.ensemble import RandomForestRegressor\n",
    "from sklearn.model_selection import train_test_split, GridSearchCV\n",
    "pd.set_option('display.max_columns', 50)\n",
    "from sklearn.exceptions import DataConversionWarning\n",
    "warnings.filterwarnings(action='ignore', category=DataConversionWarning)"
   ]
  },
  {
   "cell_type": "code",
   "execution_count": null,
   "metadata": {},
   "outputs": [],
   "source": [
    "## Reading the data sets\n",
    "train = pd.read_csv('/Users/EvanCallaghan/Documents/Data_Science_Group/Analytics_Data_Science/Forecasting_Traffic_Flow/Data/train.csv')\n",
    "test = pd.read_csv('/Users/EvanCallaghan/Documents/Data_Science_Group/Analytics_Data_Science/Forecasting_Traffic_Flow/Data/test.csv')\n",
    "\n",
    "## Getting the 'time' variable in the proper format\n",
    "train['time'] = pd.to_datetime(train['time'], format = '%Y-%m-%d %H:%M:%S')\n",
    "test['time'] = pd.to_datetime(test['time'], format = '%Y-%m-%d %H:%M:%S')\n",
    "\n",
    "## Printing the first five observations\n",
    "train.head()"
   ]
  },
  {
   "cell_type": "markdown",
   "metadata": {},
   "source": [
    "### Variable Engineering:"
   ]
  },
  {
   "cell_type": "code",
   "execution_count": null,
   "metadata": {},
   "outputs": [],
   "source": [
    "## Extracting day, hour and minute\n",
    "train['day'] = train['time'].dt.dayofweek\n",
    "train['hour'] = train['time'].dt.hour\n",
    "train['minute'] = train['time'].dt.minute\n",
    "\n",
    "test['day'] = test['time'].dt.dayofweek\n",
    "test['hour'] = test['time'].dt.hour\n",
    "test['minute'] = test['time'].dt.minute\n",
    "\n",
    "## Changing direction to dummies\n",
    "train = pd.concat([train, pd.get_dummies(train['direction'])], axis = 1)\n",
    "test = pd.concat([test, pd.get_dummies(test['direction'])], axis = 1)"
   ]
  },
  {
   "cell_type": "markdown",
   "metadata": {},
   "source": [
    "### Modeling:"
   ]
  },
  {
   "cell_type": "code",
   "execution_count": null,
   "metadata": {},
   "outputs": [],
   "source": [
    "## Calling the 'main_rf' function in the rf_modeling script\n",
    "results = rf_m.main_rf(train, test)\n",
    "\n",
    "## Storing results as csv files\n",
    "results[0].to_csv('results_validation.csv', index = False)\n",
    "results[1].to_csv('results_test.csv', index = False)"
   ]
  },
  {
   "cell_type": "markdown",
   "metadata": {},
   "source": [
    "### Evaluation:"
   ]
  },
  {
   "cell_type": "code",
   "execution_count": null,
   "metadata": {},
   "outputs": [],
   "source": [
    "from sklearn.metrics import mean_absolute_error\n",
    "\n",
    "## Reading the newly created validation results data set\n",
    "validation = pd.read_csv('results_validation')\n",
    "\n",
    "## Computing the MAE of congestion predictions\n",
    "print('MAE of validation set predictions:', mean_absolute_error(validation['congestion'], validation['congestion_pred']))"
   ]
  }
 ],
 "metadata": {
  "kernelspec": {
   "display_name": "Python 3",
   "language": "python",
   "name": "python3"
  },
  "language_info": {
   "codemirror_mode": {
    "name": "ipython",
    "version": 3
   },
   "file_extension": ".py",
   "mimetype": "text/x-python",
   "name": "python",
   "nbconvert_exporter": "python",
   "pygments_lexer": "ipython3",
   "version": "3.8.3"
  }
 },
 "nbformat": 4,
 "nbformat_minor": 4
}
