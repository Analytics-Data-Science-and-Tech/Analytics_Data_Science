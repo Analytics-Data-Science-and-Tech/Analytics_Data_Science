{
 "cells": [
  {
   "cell_type": "code",
   "execution_count": 1,
   "id": "9b584e43",
   "metadata": {},
   "outputs": [
    {
     "name": "stdout",
     "output_type": "stream",
     "text": [
      "Looking in indexes: https://pypi.org/simple, https://pip.repos.neuron.amazonaws.com\n",
      "Requirement already satisfied: xgboost in /home/ec2-user/anaconda3/envs/python3/lib/python3.10/site-packages (1.7.4)\n",
      "Requirement already satisfied: lightgbm in /home/ec2-user/anaconda3/envs/python3/lib/python3.10/site-packages (3.3.5)\n",
      "Requirement already satisfied: catboost in /home/ec2-user/anaconda3/envs/python3/lib/python3.10/site-packages (1.1.1)\n",
      "Requirement already satisfied: optuna in /home/ec2-user/anaconda3/envs/python3/lib/python3.10/site-packages (3.1.0)\n",
      "Requirement already satisfied: scipy in /home/ec2-user/anaconda3/envs/python3/lib/python3.10/site-packages (from xgboost) (1.9.3)\n",
      "Requirement already satisfied: numpy in /home/ec2-user/anaconda3/envs/python3/lib/python3.10/site-packages (from xgboost) (1.22.4)\n",
      "Requirement already satisfied: wheel in /home/ec2-user/anaconda3/envs/python3/lib/python3.10/site-packages (from lightgbm) (0.37.1)\n",
      "Requirement already satisfied: scikit-learn!=0.22.0 in /home/ec2-user/anaconda3/envs/python3/lib/python3.10/site-packages (from lightgbm) (1.1.3)\n",
      "Requirement already satisfied: graphviz in /home/ec2-user/anaconda3/envs/python3/lib/python3.10/site-packages (from catboost) (0.20.1)\n",
      "Requirement already satisfied: pandas>=0.24.0 in /home/ec2-user/anaconda3/envs/python3/lib/python3.10/site-packages (from catboost) (1.5.1)\n",
      "Requirement already satisfied: six in /home/ec2-user/anaconda3/envs/python3/lib/python3.10/site-packages (from catboost) (1.16.0)\n",
      "Requirement already satisfied: matplotlib in /home/ec2-user/anaconda3/envs/python3/lib/python3.10/site-packages (from catboost) (3.6.1)\n",
      "Requirement already satisfied: plotly in /home/ec2-user/anaconda3/envs/python3/lib/python3.10/site-packages (from catboost) (5.11.0)\n",
      "Requirement already satisfied: colorlog in /home/ec2-user/anaconda3/envs/python3/lib/python3.10/site-packages (from optuna) (6.7.0)\n",
      "Requirement already satisfied: tqdm in /home/ec2-user/anaconda3/envs/python3/lib/python3.10/site-packages (from optuna) (4.64.1)\n",
      "Requirement already satisfied: sqlalchemy>=1.3.0 in /home/ec2-user/anaconda3/envs/python3/lib/python3.10/site-packages (from optuna) (1.4.42)\n",
      "Requirement already satisfied: alembic>=1.5.0 in /home/ec2-user/anaconda3/envs/python3/lib/python3.10/site-packages (from optuna) (1.9.4)\n",
      "Requirement already satisfied: PyYAML in /home/ec2-user/anaconda3/envs/python3/lib/python3.10/site-packages (from optuna) (5.4.1)\n",
      "Requirement already satisfied: packaging>=20.0 in /home/ec2-user/anaconda3/envs/python3/lib/python3.10/site-packages (from optuna) (21.3)\n",
      "Requirement already satisfied: cmaes>=0.9.1 in /home/ec2-user/anaconda3/envs/python3/lib/python3.10/site-packages (from optuna) (0.9.1)\n",
      "Requirement already satisfied: Mako in /home/ec2-user/anaconda3/envs/python3/lib/python3.10/site-packages (from alembic>=1.5.0->optuna) (1.2.4)\n",
      "Requirement already satisfied: pyparsing!=3.0.5,>=2.0.2 in /home/ec2-user/anaconda3/envs/python3/lib/python3.10/site-packages (from packaging>=20.0->optuna) (3.0.9)\n",
      "Requirement already satisfied: python-dateutil>=2.8.1 in /home/ec2-user/anaconda3/envs/python3/lib/python3.10/site-packages (from pandas>=0.24.0->catboost) (2.8.2)\n",
      "Requirement already satisfied: pytz>=2020.1 in /home/ec2-user/anaconda3/envs/python3/lib/python3.10/site-packages (from pandas>=0.24.0->catboost) (2022.5)\n",
      "Requirement already satisfied: threadpoolctl>=2.0.0 in /home/ec2-user/anaconda3/envs/python3/lib/python3.10/site-packages (from scikit-learn!=0.22.0->lightgbm) (3.1.0)\n",
      "Requirement already satisfied: joblib>=1.0.0 in /home/ec2-user/anaconda3/envs/python3/lib/python3.10/site-packages (from scikit-learn!=0.22.0->lightgbm) (1.2.0)\n",
      "Requirement already satisfied: greenlet!=0.4.17 in /home/ec2-user/anaconda3/envs/python3/lib/python3.10/site-packages (from sqlalchemy>=1.3.0->optuna) (1.1.3.post0)\n",
      "Requirement already satisfied: cycler>=0.10 in /home/ec2-user/anaconda3/envs/python3/lib/python3.10/site-packages (from matplotlib->catboost) (0.11.0)\n",
      "Requirement already satisfied: kiwisolver>=1.0.1 in /home/ec2-user/anaconda3/envs/python3/lib/python3.10/site-packages (from matplotlib->catboost) (1.4.4)\n",
      "Requirement already satisfied: fonttools>=4.22.0 in /home/ec2-user/anaconda3/envs/python3/lib/python3.10/site-packages (from matplotlib->catboost) (4.38.0)\n",
      "Requirement already satisfied: contourpy>=1.0.1 in /home/ec2-user/anaconda3/envs/python3/lib/python3.10/site-packages (from matplotlib->catboost) (1.0.6)\n",
      "Requirement already satisfied: pillow>=6.2.0 in /home/ec2-user/anaconda3/envs/python3/lib/python3.10/site-packages (from matplotlib->catboost) (9.2.0)\n",
      "Requirement already satisfied: tenacity>=6.2.0 in /home/ec2-user/anaconda3/envs/python3/lib/python3.10/site-packages (from plotly->catboost) (8.1.0)\n",
      "Requirement already satisfied: MarkupSafe>=0.9.2 in /home/ec2-user/anaconda3/envs/python3/lib/python3.10/site-packages (from Mako->alembic>=1.5.0->optuna) (2.1.1)\n",
      "Note: you may need to restart the kernel to use updated packages.\n"
     ]
    }
   ],
   "source": [
    "pip install xgboost lightgbm catboost optuna"
   ]
  },
  {
   "cell_type": "code",
   "execution_count": 2,
   "id": "f5971384",
   "metadata": {},
   "outputs": [],
   "source": [
    "import boto3\n",
    "import pandas as pd; pd.set_option('display.max_columns', 100)\n",
    "import numpy as np\n",
    "\n",
    "import matplotlib.pyplot as plt; plt.style.use('ggplot')\n",
    "import seaborn as sns\n",
    "\n",
    "from scipy.stats import rankdata\n",
    "from sklearn.multiclass import OneVsRestClassifier\n",
    "from sklearn.tree import DecisionTreeRegressor, DecisionTreeClassifier, plot_tree\n",
    "from sklearn.preprocessing import MinMaxScaler\n",
    "from sklearn.model_selection import KFold, train_test_split, GridSearchCV, StratifiedKFold, TimeSeriesSplit\n",
    "from sklearn.metrics import mean_squared_error, roc_auc_score\n",
    "from sklearn.neighbors import KNeighborsClassifier\n",
    "from sklearn.ensemble import RandomForestClassifier, HistGradientBoostingClassifier\n",
    "from sklearn.linear_model import LogisticRegression\n",
    "from lightgbm import LGBMClassifier\n",
    "from xgboost import XGBClassifier\n",
    "from catboost import CatBoostClassifier\n",
    "\n",
    "import optuna \n",
    "\n",
    "s3 = boto3.resource('s3')\n",
    "bucket_name = 'analytics-data-science-competitions'\n",
    "bucket = s3.Bucket(bucket_name)\n",
    "\n",
    "file_key_1 = 'Tabular-Playground-Series/PS-S3/Ep7/train.csv'\n",
    "file_key_2 = 'Tabular-Playground-Series/PS-S3/Ep7/test.csv'\n",
    "file_key_3 = 'Tabular-Playground-Series/PS-S3/Ep7/sample_submission.csv'\n",
    "\n",
    "bucket_object_1 = bucket.Object(file_key_1)\n",
    "file_object_1 = bucket_object_1.get()\n",
    "file_content_stream_1 = file_object_1.get('Body')\n",
    "\n",
    "bucket_object_2 = bucket.Object(file_key_2)\n",
    "file_object_2 = bucket_object_2.get()\n",
    "file_content_stream_2 = file_object_2.get('Body')\n",
    "\n",
    "bucket_object_3 = bucket.Object(file_key_3)\n",
    "file_object_3 = bucket_object_3.get()\n",
    "file_content_stream_3 = file_object_3.get('Body')\n",
    "\n",
    "## Reading data files\n",
    "train = pd.read_csv(file_content_stream_1)\n",
    "test = pd.read_csv(file_content_stream_2)\n",
    "submission = pd.read_csv(file_content_stream_3)\n",
    "\n",
    "## Fixing dates (https://www.kaggle.com/competitions/playground-series-s3e7/discussion/386655)\n",
    "train['arrival_year_month'] = pd.to_datetime(train['arrival_year'].astype(str) + train['arrival_month'].astype(str), format = '%Y%m')\n",
    "test['arrival_year_month'] = pd.to_datetime(test['arrival_year'].astype(str) + test['arrival_month'].astype(str), format = '%Y%m')\n",
    "\n",
    "train.loc[train.arrival_date > train.arrival_year_month.dt.days_in_month, 'arrival_date'] = train.arrival_year_month.dt.days_in_month\n",
    "test.loc[test.arrival_date > test.arrival_year_month.dt.days_in_month, 'arrival_date'] = test.arrival_year_month.dt.days_in_month\n",
    "\n",
    "train.drop(columns = 'arrival_year_month', inplace = True)\n",
    "test.drop(columns = 'arrival_year_month', inplace = True)\n",
    "\n",
    "train['low_price_flag'] = np.where(train['avg_price_per_room'] < 30, 1, 0)\n",
    "train['segment_0'] = np.where(train['market_segment_type'] == 0, 1, 0)\n",
    "train['segment_1'] = np.where(train['market_segment_type'] == 1, 1, 0)\n",
    "train['total_guests'] = train['no_of_adults'] + train['no_of_children']\n",
    "train['stay_length'] = train['no_of_weekend_nights'] + train['no_of_week_nights']\n",
    "train['stay_during_weekend'] = np.where(train['no_of_weekend_nights'] > 0, 1, 0)\n",
    "train['quarter_1'] = np.where(train['arrival_month'] <= 3, 1, 0)\n",
    "train['quarter_2'] = np.where(((train['arrival_month'] >= 4) & (train['arrival_month'] <= 6)), 1, 0)\n",
    "train['quarter_3'] = np.where(((train['arrival_month'] >= 7) & (train['arrival_month'] <= 9)), 1, 0)\n",
    "train['quarter_4'] = np.where(train['arrival_month'] >= 10, 1, 0)\n",
    "train['segment_0_feature_1'] = np.where(((train['market_segment_type'] == 0) & (train['lead_time'] <= 90)), 1, 0)\n",
    "train['segment_0_feature_2'] = np.where(((train['market_segment_type'] == 0) & (train['avg_price_per_room'] > 98)), 1, 0)\n",
    "train['segment_1_feature_1'] = np.where(((train['market_segment_type'] == 1) & (train['no_of_special_requests'] == 0)), 1, 0)\n",
    "train['segment_1_feature_2'] = np.where(((train['market_segment_type'] == 1) & (train['no_of_special_requests'] > 0) & (train['lead_time'] <= 150)), 1, 0)\n",
    "train['segment_0_year_flag'] = np.where(((train['market_segment_type'] == 0) & (train['arrival_year'] == 2018)), 1, 0)\n",
    "train['segment_1_year_flag'] = np.where(((train['market_segment_type'] == 1) & (train['arrival_year'] == 2018)), 1, 0)\n",
    "train['price_lead_time_flag'] = np.where(((train['avg_price_per_room'] > 100) & (train['lead_time'] > 150)), 1, 0)\n",
    "\n",
    "test['low_price_flag'] = np.where(test['avg_price_per_room'] < 30, 1, 0)\n",
    "test['segment_0'] = np.where(test['market_segment_type'] == 0, 1, 0)\n",
    "test['segment_1'] = np.where(test['market_segment_type'] == 1, 1, 0)\n",
    "test['total_guests'] = test['no_of_adults'] + test['no_of_children']\n",
    "test['stay_length'] = test['no_of_weekend_nights'] + test['no_of_week_nights']\n",
    "test['stay_during_weekend'] = np.where(test['no_of_weekend_nights'] > 0, 1, 0)\n",
    "test['quarter_1'] = np.where(test['arrival_month'] <= 3, 1, 0)\n",
    "test['quarter_2'] = np.where(((test['arrival_month'] >= 4) & (test['arrival_month'] <= 6)), 1, 0)\n",
    "test['quarter_3'] = np.where(((test['arrival_month'] >= 7) & (test['arrival_month'] <= 9)), 1, 0)\n",
    "test['quarter_4'] = np.where(test['arrival_month'] >= 10, 1, 0)\n",
    "test['segment_0_feature_1'] = np.where(((test['market_segment_type'] == 0) & (test['lead_time'] <= 90)), 1, 0)\n",
    "test['segment_0_feature_2'] = np.where(((test['market_segment_type'] == 0) & (test['avg_price_per_room'] > 98)), 1, 0)\n",
    "test['segment_1_feature_1'] = np.where(((test['market_segment_type'] == 1) & (test['no_of_special_requests'] == 0)), 1, 0)\n",
    "test['segment_1_feature_2'] = np.where(((test['market_segment_type'] == 1) & (test['no_of_special_requests'] > 0) & (test['lead_time'] <= 150)), 1, 0)\n",
    "test['segment_0_year_flag'] = np.where(((test['market_segment_type'] == 0) & (test['arrival_year'] == 2018)), 1, 0)\n",
    "test['segment_1_year_flag'] = np.where(((test['market_segment_type'] == 1) & (test['arrival_year'] == 2018)), 1, 0)\n",
    "test['price_lead_time_flag'] = np.where(((test['avg_price_per_room'] > 100) & (test['lead_time'] > 150)), 1, 0)"
   ]
  },
  {
   "cell_type": "code",
   "execution_count": 3,
   "id": "83cc7985",
   "metadata": {},
   "outputs": [],
   "source": [
    "train_lgb = train.copy()\n",
    "test_lgb = test.copy()\n",
    "\n",
    "# X = train_lgb[['avg_price_per_room', 'lead_time', 'segment_0', 'segment_1', 'total_guests', 'stay_length', 'stay_during_weekend', 'quarter_1', 'quarter_2', 'quarter_3', 'quarter_4', 'segment_0_feature_1', 'segment_0_feature_2', 'segment_1_feature_1', 'segment_1_feature_2', 'segment_0_year_flag', 'segment_1_year_flag']]\n",
    "# Y = train_lgb['booking_status']\n",
    "\n",
    "# test_lgb = test_lgb[['avg_price_per_room', 'lead_time', 'segment_0', 'segment_1', 'total_guests', 'stay_length', 'stay_during_weekend', 'quarter_1', 'quarter_2', 'quarter_3', 'quarter_4', 'segment_0_feature_1', 'segment_0_feature_2', 'segment_1_feature_1', 'segment_1_feature_2', 'segment_0_year_flag', 'segment_1_year_flag']]\n",
    "\n",
    "X = train_lgb[['avg_price_per_room', 'lead_time', 'total_guests', 'stay_length', 'segment_0_feature_1', 'segment_1_feature_1']]\n",
    "Y = train_lgb['booking_status']\n",
    "\n",
    "test_lgb = test_lgb[['avg_price_per_room', 'lead_time', 'total_guests', 'stay_length', 'segment_0_feature_1', 'segment_1_feature_1']]"
   ]
  },
  {
   "cell_type": "markdown",
   "id": "ddd7d689",
   "metadata": {},
   "source": [
    "# Optuna Optimization"
   ]
  },
  {
   "cell_type": "code",
   "execution_count": 6,
   "id": "da5cdefc",
   "metadata": {},
   "outputs": [
    {
     "name": "stderr",
     "output_type": "stream",
     "text": [
      "\u001b[32m[I 2023-02-18 01:52:42,702]\u001b[0m A new study created in memory with name: no-name-5607a85b-4098-4851-a8fa-af6ae787fb13\u001b[0m\n",
      "\u001b[32m[I 2023-02-18 01:52:58,765]\u001b[0m Trial 0 finished with value: 0.8607521764245396 and parameters: {'max_depth': 10, 'learning_rate': 0.014486541942411337, 'n_estimators': 6505, 'gamma': 8.098912358016099, 'min_child_weight': 93, 'colsample_bytree': 0.34511160455761014, 'subsample': 0.6612297503582053}. Best is trial 0 with value: 0.8607521764245396.\u001b[0m\n",
      "\u001b[32m[I 2023-02-18 01:53:23,775]\u001b[0m Trial 1 finished with value: 0.8402302030302374 and parameters: {'max_depth': 2, 'learning_rate': 0.00027579380032116273, 'n_estimators': 8043, 'gamma': 1.1137166307976887, 'min_child_weight': 29, 'colsample_bytree': 0.28948555352624455, 'subsample': 0.6725597532530161}. Best is trial 0 with value: 0.8607521764245396.\u001b[0m\n",
      "\u001b[32m[I 2023-02-18 01:53:35,466]\u001b[0m Trial 2 finished with value: 0.8655299897454529 and parameters: {'max_depth': 10, 'learning_rate': 0.02573892421576156, 'n_estimators': 2632, 'gamma': 5.2090037387179695, 'min_child_weight': 66, 'colsample_bytree': 0.3402773351854238, 'subsample': 0.7391898313043048}. Best is trial 2 with value: 0.8655299897454529.\u001b[0m\n",
      "\u001b[32m[I 2023-02-18 01:53:45,866]\u001b[0m Trial 3 finished with value: 0.8597059119061473 and parameters: {'max_depth': 10, 'learning_rate': 0.0022473258247071733, 'n_estimators': 2260, 'gamma': 6.213585449162984, 'min_child_weight': 38, 'colsample_bytree': 0.6152520925937277, 'subsample': 0.354280692945519}. Best is trial 2 with value: 0.8655299897454529.\u001b[0m\n",
      "\u001b[32m[I 2023-02-18 01:54:48,989]\u001b[0m Trial 4 finished with value: 0.8594289673466164 and parameters: {'max_depth': 10, 'learning_rate': 0.00024623531757407915, 'n_estimators': 8898, 'gamma': 0.5286356564611217, 'min_child_weight': 85, 'colsample_bytree': 0.5584591623591609, 'subsample': 0.5407732044987067}. Best is trial 2 with value: 0.8655299897454529.\u001b[0m\n",
      "\u001b[32m[I 2023-02-18 01:55:00,094]\u001b[0m Trial 5 finished with value: 0.8642992300567235 and parameters: {'max_depth': 4, 'learning_rate': 0.009104554368504256, 'n_estimators': 4061, 'gamma': 6.449485216089123, 'min_child_weight': 3, 'colsample_bytree': 0.40987215970151286, 'subsample': 0.678005331452123}. Best is trial 2 with value: 0.8655299897454529.\u001b[0m\n",
      "\u001b[32m[I 2023-02-18 01:55:16,081]\u001b[0m Trial 6 finished with value: 0.8513731726346994 and parameters: {'max_depth': 3, 'learning_rate': 0.0004408685142734956, 'n_estimators': 3710, 'gamma': 4.336470438250043, 'min_child_weight': 51, 'colsample_bytree': 0.8685502614456218, 'subsample': 0.6490436002583313}. Best is trial 2 with value: 0.8655299897454529.\u001b[0m\n",
      "\u001b[32m[I 2023-02-18 01:55:30,792]\u001b[0m Trial 7 finished with value: 0.8730035173046 and parameters: {'max_depth': 3, 'learning_rate': 0.02785635754361251, 'n_estimators': 4550, 'gamma': 1.6695042725511477, 'min_child_weight': 33, 'colsample_bytree': 0.5519535843887113, 'subsample': 0.5257265576937411}. Best is trial 7 with value: 0.8730035173046.\u001b[0m\n",
      "\u001b[32m[I 2023-02-18 01:55:43,926]\u001b[0m Trial 8 finished with value: 0.8597959747787485 and parameters: {'max_depth': 4, 'learning_rate': 0.006467127166362777, 'n_estimators': 5048, 'gamma': 9.776441526158575, 'min_child_weight': 48, 'colsample_bytree': 0.6427590153616654, 'subsample': 0.6355546251136177}. Best is trial 7 with value: 0.8730035173046.\u001b[0m\n",
      "\u001b[32m[I 2023-02-18 01:56:12,919]\u001b[0m Trial 9 finished with value: 0.857789315128548 and parameters: {'max_depth': 3, 'learning_rate': 0.001136674840238508, 'n_estimators': 7988, 'gamma': 6.1903601730059075, 'min_child_weight': 73, 'colsample_bytree': 0.5782655779128478, 'subsample': 0.6250387468041559}. Best is trial 7 with value: 0.8730035173046.\u001b[0m\n",
      "\u001b[32m[I 2023-02-18 01:56:16,551]\u001b[0m Trial 10 finished with value: 0.8652988632671313 and parameters: {'max_depth': 7, 'learning_rate': 0.0785041431102864, 'n_estimators': 1443, 'gamma': 2.6083427285625347, 'min_child_weight': 16, 'colsample_bytree': 0.22067101699279223, 'subsample': 0.8593650694676035}. Best is trial 7 with value: 0.8730035173046.\u001b[0m\n",
      "\u001b[32m[I 2023-02-18 01:56:18,084]\u001b[0m Trial 11 finished with value: 0.8630880318044356 and parameters: {'max_depth': 7, 'learning_rate': 0.04223333938780976, 'n_estimators': 348, 'gamma': 3.4504245150650754, 'min_child_weight': 59, 'colsample_bytree': 0.4294291645154641, 'subsample': 0.4473196598217415}. Best is trial 7 with value: 0.8730035173046.\u001b[0m\n",
      "\u001b[32m[I 2023-02-18 01:56:27,492]\u001b[0m Trial 12 finished with value: 0.8667501296535367 and parameters: {'max_depth': 6, 'learning_rate': 0.02578223893811652, 'n_estimators': 2786, 'gamma': 1.9518208635812648, 'min_child_weight': 67, 'colsample_bytree': 0.46506349757660415, 'subsample': 0.28558198059493634}. Best is trial 7 with value: 0.8730035173046.\u001b[0m\n",
      "\u001b[32m[I 2023-02-18 01:56:51,145]\u001b[0m Trial 13 finished with value: 0.875433066997138 and parameters: {'max_depth': 6, 'learning_rate': 0.08560303636136365, 'n_estimators': 5676, 'gamma': 1.8511554636117897, 'min_child_weight': 28, 'colsample_bytree': 0.4925205981528259, 'subsample': 0.27737106632448494}. Best is trial 13 with value: 0.875433066997138.\u001b[0m\n",
      "\u001b[32m[I 2023-02-18 01:57:23,771]\u001b[0m Trial 14 finished with value: 0.8727894879525963 and parameters: {'max_depth': 6, 'learning_rate': 0.08903649541377634, 'n_estimators': 5790, 'gamma': 0.17116086408097475, 'min_child_weight': 26, 'colsample_bytree': 0.6922850622249914, 'subsample': 0.298204169904918}. Best is trial 13 with value: 0.875433066997138.\u001b[0m\n",
      "\u001b[32m[I 2023-02-18 01:57:46,506]\u001b[0m Trial 15 finished with value: 0.8750127452671179 and parameters: {'max_depth': 8, 'learning_rate': 0.09377456412665293, 'n_estimators': 6839, 'gamma': 1.9860949409906148, 'min_child_weight': 11, 'colsample_bytree': 0.4903243482819016, 'subsample': 0.21588987695615813}. Best is trial 13 with value: 0.875433066997138.\u001b[0m\n",
      "\u001b[32m[I 2023-02-18 01:58:05,728]\u001b[0m Trial 16 finished with value: 0.8759125657265147 and parameters: {'max_depth': 8, 'learning_rate': 0.09760395903089356, 'n_estimators': 7009, 'gamma': 2.9302915404854337, 'min_child_weight': 3, 'colsample_bytree': 0.48475933978992236, 'subsample': 0.2133075339608963}. Best is trial 16 with value: 0.8759125657265147.\u001b[0m\n",
      "\u001b[32m[I 2023-02-18 01:58:33,475]\u001b[0m Trial 17 finished with value: 0.8767833501445825 and parameters: {'max_depth': 8, 'learning_rate': 0.04906983718588676, 'n_estimators': 9805, 'gamma': 3.172504935399676, 'min_child_weight': 3, 'colsample_bytree': 0.4872065283369698, 'subsample': 0.2277953192072661}. Best is trial 17 with value: 0.8767833501445825.\u001b[0m\n",
      "\u001b[32m[I 2023-02-18 01:59:11,867]\u001b[0m Trial 18 finished with value: 0.8760147623323782 and parameters: {'max_depth': 8, 'learning_rate': 0.004620482397783105, 'n_estimators': 9901, 'gamma': 2.943068857634502, 'min_child_weight': 4, 'colsample_bytree': 0.7137145440681243, 'subsample': 0.20715166691691658}. Best is trial 17 with value: 0.8767833501445825.\u001b[0m\n",
      "\u001b[32m[I 2023-02-18 01:59:47,864]\u001b[0m Trial 19 finished with value: 0.8709524909881197 and parameters: {'max_depth': 8, 'learning_rate': 0.004322771118826527, 'n_estimators': 9770, 'gamma': 3.967690920182911, 'min_child_weight': 16, 'colsample_bytree': 0.7224176195802365, 'subsample': 0.38787087206816906}. Best is trial 17 with value: 0.8767833501445825.\u001b[0m\n",
      "\u001b[32m[I 2023-02-18 02:00:35,916]\u001b[0m Trial 20 finished with value: 0.8710042380026337 and parameters: {'max_depth': 9, 'learning_rate': 0.0025183887277188924, 'n_estimators': 9963, 'gamma': 3.0752878310390583, 'min_child_weight': 12, 'colsample_bytree': 0.7768119637522078, 'subsample': 0.20250055635881276}. Best is trial 17 with value: 0.8767833501445825.\u001b[0m\n",
      "\u001b[32m[I 2023-02-18 02:01:03,912]\u001b[0m Trial 21 finished with value: 0.8772200671371511 and parameters: {'max_depth': 8, 'learning_rate': 0.014695530736768372, 'n_estimators': 8587, 'gamma': 3.0493607863721754, 'min_child_weight': 3, 'colsample_bytree': 0.5040612227806975, 'subsample': 0.22666658999446024}. Best is trial 21 with value: 0.8772200671371511.\u001b[0m\n",
      "\u001b[32m[I 2023-02-18 02:01:28,984]\u001b[0m Trial 22 finished with value: 0.8741046550942929 and parameters: {'max_depth': 7, 'learning_rate': 0.013362664614870255, 'n_estimators': 8959, 'gamma': 4.048306438659456, 'min_child_weight': 2, 'colsample_bytree': 0.6295238208293308, 'subsample': 0.34711292183256126}. Best is trial 21 with value: 0.8772200671371511.\u001b[0m\n",
      "\u001b[32m[I 2023-02-18 02:01:59,598]\u001b[0m Trial 23 finished with value: 0.8730588074936877 and parameters: {'max_depth': 9, 'learning_rate': 0.008074584745128855, 'n_estimators': 8841, 'gamma': 2.7710044966036023, 'min_child_weight': 20, 'colsample_bytree': 0.528698109728287, 'subsample': 0.27742032663761523}. Best is trial 21 with value: 0.8772200671371511.\u001b[0m\n",
      "\u001b[32m[I 2023-02-18 02:02:19,847]\u001b[0m Trial 24 finished with value: 0.8701380345762907 and parameters: {'max_depth': 9, 'learning_rate': 0.015131118245526957, 'n_estimators': 7762, 'gamma': 4.731226439720347, 'min_child_weight': 9, 'colsample_bytree': 0.42482308429860394, 'subsample': 0.42797801600095414}. Best is trial 21 with value: 0.8772200671371511.\u001b[0m\n",
      "\u001b[32m[I 2023-02-18 02:02:53,383]\u001b[0m Trial 25 finished with value: 0.8690736332858193 and parameters: {'max_depth': 8, 'learning_rate': 0.005255140611100313, 'n_estimators': 9369, 'gamma': 3.6409856274496692, 'min_child_weight': 19, 'colsample_bytree': 0.5805168057725033, 'subsample': 0.2476490370853094}. Best is trial 21 with value: 0.8772200671371511.\u001b[0m\n",
      "\u001b[32m[I 2023-02-18 02:03:23,404]\u001b[0m Trial 26 finished with value: 0.875511417503789 and parameters: {'max_depth': 5, 'learning_rate': 0.03727064890204096, 'n_estimators': 8289, 'gamma': 2.398947499697905, 'min_child_weight': 38, 'colsample_bytree': 0.6947401867625205, 'subsample': 0.3030619599511071}. Best is trial 21 with value: 0.8772200671371511.\u001b[0m\n",
      "\u001b[32m[I 2023-02-18 02:04:13,092]\u001b[0m Trial 27 finished with value: 0.8615234791089383 and parameters: {'max_depth': 7, 'learning_rate': 0.00011490189128534488, 'n_estimators': 7415, 'gamma': 0.8507034937847235, 'min_child_weight': 2, 'colsample_bytree': 0.5315290579608626, 'subsample': 0.2017469376099013}. Best is trial 21 with value: 0.8772200671371511.\u001b[0m\n",
      "\u001b[32m[I 2023-02-18 02:04:43,885]\u001b[0m Trial 28 finished with value: 0.8734671812382618 and parameters: {'max_depth': 9, 'learning_rate': 0.011545281646359287, 'n_estimators': 9824, 'gamma': 3.3371382393882234, 'min_child_weight': 21, 'colsample_bytree': 0.7855034633070157, 'subsample': 0.3287292347586148}. Best is trial 21 with value: 0.8772200671371511.\u001b[0m\n",
      "\u001b[32m[I 2023-02-18 02:05:12,918]\u001b[0m Trial 29 finished with value: 0.8676234215993736 and parameters: {'max_depth': 8, 'learning_rate': 0.016926011904666267, 'n_estimators': 6220, 'gamma': 1.2527562159681205, 'min_child_weight': 94, 'colsample_bytree': 0.3712152037882668, 'subsample': 0.2528377870986859}. Best is trial 21 with value: 0.8772200671371511.\u001b[0m\n",
      "\u001b[32m[I 2023-02-18 02:05:47,928]\u001b[0m Trial 30 finished with value: 0.8678578524420988 and parameters: {'max_depth': 5, 'learning_rate': 0.004056406197800009, 'n_estimators': 8527, 'gamma': 4.841453622510803, 'min_child_weight': 8, 'colsample_bytree': 0.5966857806016262, 'subsample': 0.3783462213938954}. Best is trial 21 with value: 0.8772200671371511.\u001b[0m\n",
      "\u001b[32m[I 2023-02-18 02:06:07,192]\u001b[0m Trial 31 finished with value: 0.8766199012614745 and parameters: {'max_depth': 8, 'learning_rate': 0.04404851622165722, 'n_estimators': 7018, 'gamma': 3.0324476993011, 'min_child_weight': 1, 'colsample_bytree': 0.4652798548344692, 'subsample': 0.23869467039105347}. Best is trial 21 with value: 0.8772200671371511.\u001b[0m\n",
      "\u001b[32m[I 2023-02-18 02:06:38,638]\u001b[0m Trial 32 finished with value: 0.8771732560486376 and parameters: {'max_depth': 7, 'learning_rate': 0.05092366600687471, 'n_estimators': 9233, 'gamma': 2.464993968792875, 'min_child_weight': 6, 'colsample_bytree': 0.5171858531686735, 'subsample': 0.2446237137285277}. Best is trial 21 with value: 0.8772200671371511.\u001b[0m\n",
      "\u001b[32m[I 2023-02-18 02:07:09,216]\u001b[0m Trial 33 finished with value: 0.875997906712261 and parameters: {'max_depth': 7, 'learning_rate': 0.047919961053251796, 'n_estimators': 7355, 'gamma': 1.3272770718046456, 'min_child_weight': 11, 'colsample_bytree': 0.44763163029162156, 'subsample': 0.25253669573498316}. Best is trial 21 with value: 0.8772200671371511.\u001b[0m\n",
      "\u001b[32m[I 2023-02-18 02:07:40,577]\u001b[0m Trial 34 finished with value: 0.8769674231714226 and parameters: {'max_depth': 9, 'learning_rate': 0.052368193420835034, 'n_estimators': 9240, 'gamma': 2.33647506894711, 'min_child_weight': 22, 'colsample_bytree': 0.5197966190479308, 'subsample': 0.3192109281891621}. Best is trial 21 with value: 0.8772200671371511.\u001b[0m\n",
      "\u001b[32m[I 2023-02-18 02:08:13,560]\u001b[0m Trial 35 finished with value: 0.8771608667101155 and parameters: {'max_depth': 10, 'learning_rate': 0.05617135993407113, 'n_estimators': 9262, 'gamma': 2.025777738508015, 'min_child_weight': 24, 'colsample_bytree': 0.5161538107697792, 'subsample': 0.32613715636241747}. Best is trial 21 with value: 0.8772200671371511.\u001b[0m\n",
      "\u001b[32m[I 2023-02-18 02:08:48,808]\u001b[0m Trial 36 finished with value: 0.8742511209140315 and parameters: {'max_depth': 10, 'learning_rate': 0.02032599462553984, 'n_estimators': 9054, 'gamma': 2.244511887592802, 'min_child_weight': 42, 'colsample_bytree': 0.5173228688604925, 'subsample': 0.33246431543505794}. Best is trial 21 with value: 0.8772200671371511.\u001b[0m\n",
      "\u001b[32m[I 2023-02-18 02:09:31,388]\u001b[0m Trial 37 finished with value: 0.8759472773848275 and parameters: {'max_depth': 10, 'learning_rate': 0.022764059242403174, 'n_estimators': 8311, 'gamma': 0.6751634755768576, 'min_child_weight': 32, 'colsample_bytree': 0.3867066895069666, 'subsample': 0.3214274889116499}. Best is trial 21 with value: 0.8772200671371511.\u001b[0m\n",
      "\u001b[32m[I 2023-02-18 02:10:10,962]\u001b[0m Trial 38 finished with value: 0.8765610156009165 and parameters: {'max_depth': 9, 'learning_rate': 0.058480814646782654, 'n_estimators': 9301, 'gamma': 1.4985337491486916, 'min_child_weight': 26, 'colsample_bytree': 0.5481984327196296, 'subsample': 0.3665257726600784}. Best is trial 21 with value: 0.8772200671371511.\u001b[0m\n",
      "\u001b[32m[I 2023-02-18 02:10:33,310]\u001b[0m Trial 39 finished with value: 0.8655511400879348 and parameters: {'max_depth': 10, 'learning_rate': 0.032701893791503796, 'n_estimators': 8375, 'gamma': 2.343104934583843, 'min_child_weight': 22, 'colsample_bytree': 0.3209845128142697, 'subsample': 0.27070794171355744}. Best is trial 21 with value: 0.8772200671371511.\u001b[0m\n",
      "\u001b[32m[I 2023-02-18 02:11:04,269]\u001b[0m Trial 40 finished with value: 0.8745654402918277 and parameters: {'max_depth': 9, 'learning_rate': 0.029090805993369728, 'n_estimators': 7801, 'gamma': 1.19243114908754, 'min_child_weight': 46, 'colsample_bytree': 0.40013630614692147, 'subsample': 0.3112819715971058}. Best is trial 21 with value: 0.8772200671371511.\u001b[0m\n",
      "\u001b[32m[I 2023-02-18 02:11:28,708]\u001b[0m Trial 41 finished with value: 0.8765123471467751 and parameters: {'max_depth': 9, 'learning_rate': 0.0677115208907698, 'n_estimators': 9247, 'gamma': 3.658208481418211, 'min_child_weight': 7, 'colsample_bytree': 0.5076045884927091, 'subsample': 0.24122949224515633}. Best is trial 21 with value: 0.8772200671371511.\u001b[0m\n",
      "\u001b[32m[I 2023-02-18 02:12:03,962]\u001b[0m Trial 42 finished with value: 0.8772962748279669 and parameters: {'max_depth': 10, 'learning_rate': 0.053873468688278574, 'n_estimators': 9439, 'gamma': 2.467538098121212, 'min_child_weight': 15, 'colsample_bytree': 0.5536236693996119, 'subsample': 0.283493660810044}. Best is trial 42 with value: 0.8772962748279669.\u001b[0m\n",
      "\u001b[32m[I 2023-02-18 02:12:48,134]\u001b[0m Trial 43 finished with value: 0.8756525231649281 and parameters: {'max_depth': 10, 'learning_rate': 0.05536752424485455, 'n_estimators': 9434, 'gamma': 1.7107621201450984, 'min_child_weight': 15, 'colsample_bytree': 0.5581869968187867, 'subsample': 0.29580561231930635}. Best is trial 42 with value: 0.8772962748279669.\u001b[0m\n",
      "\u001b[32m[I 2023-02-18 02:13:13,905]\u001b[0m Trial 44 finished with value: 0.8754633800848566 and parameters: {'max_depth': 10, 'learning_rate': 0.03445093685007312, 'n_estimators': 8487, 'gamma': 2.495002549191528, 'min_child_weight': 36, 'colsample_bytree': 0.5985730018400618, 'subsample': 0.41535982071194544}. Best is trial 42 with value: 0.8772962748279669.\u001b[0m\n",
      "\u001b[32m[I 2023-02-18 02:13:38,229]\u001b[0m Trial 45 finished with value: 0.8715977734403915 and parameters: {'max_depth': 10, 'learning_rate': 0.06248210370189836, 'n_estimators': 8684, 'gamma': 2.187523903948756, 'min_child_weight': 84, 'colsample_bytree': 0.44567366914417617, 'subsample': 0.35163423844111025}. Best is trial 42 with value: 0.8772962748279669.\u001b[0m\n",
      "\u001b[32m[I 2023-02-18 02:14:09,538]\u001b[0m Trial 46 finished with value: 0.8785283656464296 and parameters: {'max_depth': 9, 'learning_rate': 0.02034965867512702, 'n_estimators': 7842, 'gamma': 1.5968349443319794, 'min_child_weight': 15, 'colsample_bytree': 0.5611157723628909, 'subsample': 0.4630289732218028}. Best is trial 46 with value: 0.8785283656464296.\u001b[0m\n",
      "\u001b[32m[I 2023-02-18 02:14:38,735]\u001b[0m Trial 47 finished with value: 0.8718789159157389 and parameters: {'max_depth': 2, 'learning_rate': 0.01907687826989454, 'n_estimators': 7939, 'gamma': 0.11441588164408145, 'min_child_weight': 14, 'colsample_bytree': 0.5622286670477961, 'subsample': 0.5181072495648412}. Best is trial 46 with value: 0.8785283656464296.\u001b[0m\n",
      "\u001b[32m[I 2023-02-18 02:15:16,090]\u001b[0m Trial 48 finished with value: 0.8746933882446128 and parameters: {'max_depth': 10, 'learning_rate': 0.025470618874502287, 'n_estimators': 7534, 'gamma': 1.0625981222002265, 'min_child_weight': 53, 'colsample_bytree': 0.6308046472865317, 'subsample': 0.2700858621203734}. Best is trial 46 with value: 0.8785283656464296.\u001b[0m\n",
      "\u001b[32m[I 2023-02-18 02:15:32,295]\u001b[0m Trial 49 finished with value: 0.8782089510413899 and parameters: {'max_depth': 9, 'learning_rate': 0.03733035310104102, 'n_estimators': 4111, 'gamma': 1.6777117799280497, 'min_child_weight': 7, 'colsample_bytree': 0.579527611363177, 'subsample': 0.4760108080563851}. Best is trial 46 with value: 0.8785283656464296.\u001b[0m\n"
     ]
    }
   ],
   "source": [
    "class Objective:\n",
    "\n",
    "    def __init__(self, seed):\n",
    "        # Hold this implementation specific arguments as the fields of the class.\n",
    "        self.seed = seed\n",
    "\n",
    "    def __call__(self, trial):\n",
    "        ## Parameters to be evaluated\n",
    "        param = dict(objective = 'binary:logistic',\n",
    "                     eval_metric = 'auc',\n",
    "                     tree_method = 'hist', \n",
    "                     max_depth = trial.suggest_int('max_depth', 2, 10),\n",
    "                     learning_rate = trial.suggest_float('learning_rate', 1e-4, 1e-1, log = True),\n",
    "                     n_estimators = trial.suggest_int('n_estimators', 30, 10000),\n",
    "                     gamma = trial.suggest_float('gamma', 0, 10),\n",
    "                     min_child_weight = trial.suggest_int('min_child_weight', 1, 100),\n",
    "                     colsample_bytree = trial.suggest_float('colsample_bytree', 0.2, 0.9),\n",
    "                     subsample = trial.suggest_float('subsample', 0.2, 0.9)\n",
    "                    )\n",
    "\n",
    "        scores = []\n",
    "        \n",
    "        skf = StratifiedKFold(n_splits = 5, shuffle = True, random_state = self.seed)\n",
    "#         skf = KFold(n_splits = 5, shuffle = True, random_state = self.seed)\n",
    "\n",
    "        for train_idx, valid_idx in skf.split(X, Y):\n",
    "\n",
    "            X_train, X_valid = X.iloc[train_idx], X.iloc[valid_idx]\n",
    "            Y_train , Y_valid = Y.iloc[train_idx] , Y.iloc[valid_idx]\n",
    "\n",
    "            model = XGBClassifier(**param).fit(X_train, Y_train)\n",
    "\n",
    "#             preds_train = model.predict(X_train)\n",
    "            preds_valid = model.predict_proba(X_valid)[:, 1]\n",
    "\n",
    "            score = roc_auc_score(Y_valid, preds_valid)\n",
    "            scores.append(score)\n",
    "            \n",
    "        return np.mean(scores)\n",
    "    \n",
    "## Defining number of runs and seed\n",
    "RUNS = 50\n",
    "SEED = 42\n",
    "N_TRIALS = 50\n",
    "\n",
    "# Execute an optimization\n",
    "study = optuna.create_study(direction = 'maximize')\n",
    "study.optimize(Objective(SEED), n_trials = N_TRIALS)"
   ]
  },
  {
   "cell_type": "code",
   "execution_count": 7,
   "id": "cff4e07f",
   "metadata": {},
   "outputs": [
    {
     "data": {
      "text/plain": [
       "[0.8785283656464296]"
      ]
     },
     "execution_count": 7,
     "metadata": {},
     "output_type": "execute_result"
    }
   ],
   "source": [
    "study.best_trial.values"
   ]
  },
  {
   "cell_type": "code",
   "execution_count": 8,
   "id": "01bf82ad",
   "metadata": {},
   "outputs": [
    {
     "data": {
      "text/plain": [
       "{'max_depth': 9,\n",
       " 'learning_rate': 0.02034965867512702,\n",
       " 'n_estimators': 7842,\n",
       " 'gamma': 1.5968349443319794,\n",
       " 'min_child_weight': 15,\n",
       " 'colsample_bytree': 0.5611157723628909,\n",
       " 'subsample': 0.4630289732218028}"
      ]
     },
     "execution_count": 8,
     "metadata": {},
     "output_type": "execute_result"
    }
   ],
   "source": [
    "study.best_trial.params"
   ]
  },
  {
   "cell_type": "markdown",
   "id": "715a885c",
   "metadata": {},
   "source": [
    "# Cross Validation"
   ]
  },
  {
   "cell_type": "code",
   "execution_count": 13,
   "id": "14c39025",
   "metadata": {},
   "outputs": [
    {
     "name": "stdout",
     "output_type": "stream",
     "text": [
      "The average oof roc-auc score over 5-folds (run 5 times) is: 0.8785283656464296\n"
     ]
    }
   ],
   "source": [
    "XGB_cv_scores, roc_auc_scores, XGB_imp = list(), list(), list()\n",
    "preds = list()\n",
    "\n",
    "## Running 5 times CV\n",
    "for i in range(5):\n",
    "    \n",
    "    skf = StratifiedKFold(n_splits = 5, random_state = 42, shuffle = True)\n",
    "    \n",
    "    for train_ix, test_ix in skf.split(X, Y):\n",
    "        \n",
    "        ## Splitting the data \n",
    "        X_train, X_test = X.iloc[train_ix], X.iloc[test_ix]\n",
    "        Y_train, Y_test = Y.iloc[train_ix], Y.iloc[test_ix]\n",
    "                \n",
    "        ## Building RF model\n",
    "        XGB_md = XGBClassifier(tree_method = 'hist',\n",
    "                               colsample_bytree = 0.5611157723628909, \n",
    "                               gamma = 1.5968349443319794, \n",
    "                               learning_rate = 0.02034965867512702, \n",
    "                               max_depth = 9, \n",
    "                               min_child_weight = 15, \n",
    "                               n_estimators = 7842, \n",
    "                               subsample = 0.4630289732218028).fit(X_train, Y_train)\n",
    "        XGB_imp.append(XGB_md.feature_importances_)\n",
    "        \n",
    "        ## Predicting on X_test and test\n",
    "        XGB_pred_1 = XGB_md.predict_proba(X_test)[:, 1]\n",
    "        XGB_pred_2 = XGB_md.predict_proba(test_lgb)[:, 1]\n",
    "        \n",
    "        ## Computing roc-auc score\n",
    "        roc_auc_scores.append(roc_auc_score(Y_test, XGB_pred_1))\n",
    "        preds.append(XGB_pred_2)\n",
    "\n",
    "    XGB_cv_scores.append(np.mean(roc_auc_scores))\n",
    "    \n",
    "XGB_cv_score = np.mean(XGB_cv_scores)    \n",
    "print('The average oof roc-auc score over 5-folds (run 5 times) is:', XGB_cv_score)"
   ]
  },
  {
   "cell_type": "code",
   "execution_count": 15,
   "id": "af8576c0",
   "metadata": {},
   "outputs": [
    {
     "data": {
      "image/png": "[encoded data removed]",
      "text/plain": [
       "<Figure size 1200x1400 with 1 Axes>"
      ]
     },
     "metadata": {},
     "output_type": "display_data"
    }
   ],
   "source": [
    "plt.figure(figsize = (12, 14))\n",
    "pd.DataFrame(XGB_imp, columns = X.columns).apply(np.mean, axis = 0).sort_values().plot(kind = 'barh');\n",
    "plt.xlabel('XGBoost Score')\n",
    "plt.ylabel('Feature')\n",
    "plt.show();"
   ]
  },
  {
   "cell_type": "code",
   "execution_count": 16,
   "id": "c8361fa5",
   "metadata": {},
   "outputs": [
    {
     "data": {
      "text/html": [
       "<div>\n",
       "<style scoped>\n",
       "    .dataframe tbody tr th:only-of-type {\n",
       "        vertical-align: middle;\n",
       "    }\n",
       "\n",
       "    .dataframe tbody tr th {\n",
       "        vertical-align: top;\n",
       "    }\n",
       "\n",
       "    .dataframe thead th {\n",
       "        text-align: right;\n",
       "    }\n",
       "</style>\n",
       "<table border=\"1\" class=\"dataframe\">\n",
       "  <thead>\n",
       "    <tr style=\"text-align: right;\">\n",
       "      <th></th>\n",
       "      <th>id</th>\n",
       "      <th>booking_status</th>\n",
       "    </tr>\n",
       "  </thead>\n",
       "  <tbody>\n",
       "    <tr>\n",
       "      <th>0</th>\n",
       "      <td>42100</td>\n",
       "      <td>0.248543</td>\n",
       "    </tr>\n",
       "    <tr>\n",
       "      <th>1</th>\n",
       "      <td>42101</td>\n",
       "      <td>0.260800</td>\n",
       "    </tr>\n",
       "    <tr>\n",
       "      <th>2</th>\n",
       "      <td>42102</td>\n",
       "      <td>0.125405</td>\n",
       "    </tr>\n",
       "    <tr>\n",
       "      <th>3</th>\n",
       "      <td>42103</td>\n",
       "      <td>0.036110</td>\n",
       "    </tr>\n",
       "    <tr>\n",
       "      <th>4</th>\n",
       "      <td>42104</td>\n",
       "      <td>0.510280</td>\n",
       "    </tr>\n",
       "  </tbody>\n",
       "</table>\n",
       "</div>"
      ],
      "text/plain": [
       "      id  booking_status\n",
       "0  42100        0.248543\n",
       "1  42101        0.260800\n",
       "2  42102        0.125405\n",
       "3  42103        0.036110\n",
       "4  42104        0.510280"
      ]
     },
     "execution_count": 16,
     "metadata": {},
     "output_type": "execute_result"
    }
   ],
   "source": [
    "XGB_preds_test = pd.DataFrame(preds).apply(np.mean, axis = 0)\n",
    "\n",
    "submission['booking_status'] = XGB_preds_test\n",
    "submission.head()"
   ]
  },
  {
   "cell_type": "code",
   "execution_count": 17,
   "id": "e0535592",
   "metadata": {},
   "outputs": [],
   "source": [
    "submission.to_csv('XGB_6_features_optuna_submission.csv', index = False)"
   ]
  }
 ],
 "metadata": {
  "kernelspec": {
   "display_name": "conda_python3",
   "language": "python",
   "name": "conda_python3"
  },
  "language_info": {
   "codemirror_mode": {
    "name": "ipython",
    "version": 3
   },
   "file_extension": ".py",
   "mimetype": "text/x-python",
   "name": "python",
   "nbconvert_exporter": "python",
   "pygments_lexer": "ipython3",
   "version": "3.10.6"
  }
 },
 "nbformat": 4,
 "nbformat_minor": 5
}
