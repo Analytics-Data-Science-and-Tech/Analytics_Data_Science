{
 "cells": [
  {
   "cell_type": "code",
   "execution_count": 1,
   "id": "82f1fd90",
   "metadata": {},
   "outputs": [
    {
     "name": "stdout",
     "output_type": "stream",
     "text": [
      "Looking in indexes: https://pypi.org/simple, https://pip.repos.neuron.amazonaws.com\n",
      "Requirement already satisfied: optuna in /home/ec2-user/anaconda3/envs/python3/lib/python3.10/site-packages (3.1.0)\n",
      "Requirement already satisfied: cmaes>=0.9.1 in /home/ec2-user/anaconda3/envs/python3/lib/python3.10/site-packages (from optuna) (0.9.1)\n",
      "Requirement already satisfied: sqlalchemy>=1.3.0 in /home/ec2-user/anaconda3/envs/python3/lib/python3.10/site-packages (from optuna) (1.4.42)\n",
      "Requirement already satisfied: alembic>=1.5.0 in /home/ec2-user/anaconda3/envs/python3/lib/python3.10/site-packages (from optuna) (1.9.2)\n",
      "Requirement already satisfied: colorlog in /home/ec2-user/anaconda3/envs/python3/lib/python3.10/site-packages (from optuna) (6.7.0)\n",
      "Requirement already satisfied: tqdm in /home/ec2-user/anaconda3/envs/python3/lib/python3.10/site-packages (from optuna) (4.64.1)\n",
      "Requirement already satisfied: PyYAML in /home/ec2-user/anaconda3/envs/python3/lib/python3.10/site-packages (from optuna) (5.4.1)\n",
      "Requirement already satisfied: numpy in /home/ec2-user/anaconda3/envs/python3/lib/python3.10/site-packages (from optuna) (1.22.4)\n",
      "Requirement already satisfied: packaging>=20.0 in /home/ec2-user/anaconda3/envs/python3/lib/python3.10/site-packages (from optuna) (21.3)\n",
      "Requirement already satisfied: Mako in /home/ec2-user/anaconda3/envs/python3/lib/python3.10/site-packages (from alembic>=1.5.0->optuna) (1.2.4)\n",
      "Requirement already satisfied: pyparsing!=3.0.5,>=2.0.2 in /home/ec2-user/anaconda3/envs/python3/lib/python3.10/site-packages (from packaging>=20.0->optuna) (3.0.9)\n",
      "Requirement already satisfied: greenlet!=0.4.17 in /home/ec2-user/anaconda3/envs/python3/lib/python3.10/site-packages (from sqlalchemy>=1.3.0->optuna) (1.1.3.post0)\n",
      "Requirement already satisfied: MarkupSafe>=0.9.2 in /home/ec2-user/anaconda3/envs/python3/lib/python3.10/site-packages (from Mako->alembic>=1.5.0->optuna) (2.1.1)\n",
      "Note: you may need to restart the kernel to use updated packages.\n"
     ]
    }
   ],
   "source": [
    "pip install optuna"
   ]
  },
  {
   "cell_type": "code",
   "execution_count": 2,
   "id": "364ff0c6",
   "metadata": {},
   "outputs": [],
   "source": [
    "import boto3\n",
    "import pandas as pd; pd.set_option('display.max_columns', 100)\n",
    "import numpy as np\n",
    "\n",
    "import matplotlib.pyplot as plt; plt.style.use('ggplot')\n",
    "import seaborn as sns\n",
    "\n",
    "from scipy.stats import rankdata\n",
    "from sklearn.cluster import KMeans\n",
    "from sklearn.multiclass import OneVsRestClassifier\n",
    "from sklearn.tree import DecisionTreeRegressor, DecisionTreeClassifier, plot_tree\n",
    "from sklearn.preprocessing import MinMaxScaler\n",
    "from sklearn.model_selection import KFold, train_test_split, GridSearchCV, StratifiedKFold, TimeSeriesSplit\n",
    "from sklearn.metrics import mean_squared_error, roc_auc_score, cohen_kappa_score, davies_bouldin_score, calinski_harabasz_score, silhouette_score\n",
    "from sklearn.neighbors import KNeighborsClassifier\n",
    "from sklearn.ensemble import RandomForestClassifier, HistGradientBoostingClassifier\n",
    "from sklearn.linear_model import LogisticRegression\n",
    "from sklearn.svm import SVR\n",
    "# from lightgbm import LGBMClassifier, LGBMRegressor\n",
    "# from xgboost import XGBClassifier, XGBRegressor\n",
    "# from catboost import CatBoostClassifier\n",
    "\n",
    "import optuna \n",
    "\n",
    "s3 = boto3.resource('s3')\n",
    "bucket_name = 'analytics-data-science-competitions'\n",
    "bucket = s3.Bucket(bucket_name)\n",
    "\n",
    "file_key_1 = 'Tabular-Playground-Series/TS-S3-Ep5/train.csv'\n",
    "file_key_2 = 'Tabular-Playground-Series/TS-S3-Ep5/test.csv'\n",
    "file_key_3 = 'Tabular-Playground-Series/TS-S3-Ep5/sample_submission.csv'\n",
    "\n",
    "bucket_object_1 = bucket.Object(file_key_1)\n",
    "file_object_1 = bucket_object_1.get()\n",
    "file_content_stream_1 = file_object_1.get('Body')\n",
    "\n",
    "bucket_object_2 = bucket.Object(file_key_2)\n",
    "file_object_2 = bucket_object_2.get()\n",
    "file_content_stream_2 = file_object_2.get('Body')\n",
    "\n",
    "bucket_object_3 = bucket.Object(file_key_3)\n",
    "file_object_3 = bucket_object_3.get()\n",
    "file_content_stream_3 = file_object_3.get('Body')\n",
    "\n",
    "## Reading data files\n",
    "train = pd.read_csv(file_content_stream_1)\n",
    "test = pd.read_csv(file_content_stream_2)\n",
    "submission = pd.read_csv(file_content_stream_3)\n",
    "\n",
    "## Enginering features\n",
    "train['alcohol_density'] = train['alcohol'] * train['density']\n",
    "train['sulphate/density'] = train['sulphates']  / train['density']\n",
    "train['alcohol_sulphate'] = train['alcohol'] * train['sulphates']\n",
    "\n",
    "test['alcohol_density'] = test['alcohol']  * test['density']\n",
    "test['sulphate/density'] = test['sulphates']  / test['density']\n",
    "test['alcohol_sulphate'] = test['alcohol'] * test['sulphates']\n",
    "\n",
    "test_md = test.copy()\n",
    "\n",
    "X = train[['sulphate/density', 'alcohol_density', 'alcohol', 'sulphates']]\n",
    "Y = train['quality'] \n",
    "\n",
    "test_md = test_md[['sulphate/density', 'alcohol_density', 'alcohol', 'sulphates']]"
   ]
  },
  {
   "cell_type": "markdown",
   "id": "f4de830f",
   "metadata": {},
   "source": [
    "# Optimal Rounder"
   ]
  },
  {
   "cell_type": "code",
   "execution_count": 3,
   "id": "7fab6a95",
   "metadata": {},
   "outputs": [],
   "source": [
    "from functools import partial\n",
    "import numpy as np\n",
    "import scipy as sp\n",
    "\n",
    "class OptimizedRounder(object):\n",
    "    def __init__(self):\n",
    "        self.coef_ = 0\n",
    "\n",
    "    def _kappa_loss(self, coef, X, y):\n",
    "        X_p = np.copy(X)\n",
    "        for i, pred in enumerate(X_p):\n",
    "            if pred < coef[0]:\n",
    "                X_p[i] = 3\n",
    "            elif pred >= coef[0] and pred < coef[1]:\n",
    "                X_p[i] = 4\n",
    "            elif pred >= coef[1] and pred < coef[2]:\n",
    "                X_p[i] = 5\n",
    "            elif pred >= coef[2] and pred < coef[3]:\n",
    "                X_p[i] = 6\n",
    "            elif pred >= coef[3] and pred < coef[4]:\n",
    "                X_p[i] = 7\n",
    "            else:\n",
    "                X_p[i] = 8\n",
    "\n",
    "        ll = cohen_kappa_score(y, X_p, weights = 'quadratic')\n",
    "        return -ll\n",
    "\n",
    "    def fit(self, X, y):\n",
    "        loss_partial = partial(self._kappa_loss, X = X, y = y)\n",
    "        initial_coef = [3.5, 4.5, 5.5, 6.5, 7.5]\n",
    "        self.coef_ = sp.optimize.minimize(loss_partial, initial_coef, method = 'nelder-mead')\n",
    "\n",
    "    def predict(self, X, coef):\n",
    "        X_p = np.copy(X)\n",
    "        for i, pred in enumerate(X_p):\n",
    "            if pred < coef[0]:\n",
    "                X_p[i] = 3\n",
    "            elif pred >= coef[0] and pred < coef[1]:\n",
    "                X_p[i] = 4\n",
    "            elif pred >= coef[1] and pred < coef[2]:\n",
    "                X_p[i] = 5\n",
    "            elif pred >= coef[2] and pred < coef[3]:\n",
    "                X_p[i] = 6\n",
    "            elif pred >= coef[3] and pred < coef[4]:\n",
    "                X_p[i] = 7\n",
    "            else:\n",
    "                X_p[i] = 8\n",
    "        return X_p\n",
    "\n",
    "    def coefficients(self):\n",
    "        return self.coef_['x']"
   ]
  },
  {
   "cell_type": "markdown",
   "id": "b01a233e",
   "metadata": {},
   "source": [
    "# Optuna Optimization"
   ]
  },
  {
   "cell_type": "code",
   "execution_count": 6,
   "id": "a0756b35",
   "metadata": {},
   "outputs": [],
   "source": [
    "def objective(trial):\n",
    "    \n",
    "    ## Parameters to be evaluated\n",
    "    param = dict(gamma = trial.suggest_float('gamma', 0.001, 100, log = True),\n",
    "                 C = trial.suggest_float('C', 0.001, 100, log = True)\n",
    "                 )\n",
    "\n",
    "    \n",
    "    scores = []\n",
    "\n",
    "#     skf = StratifiedKFold(n_splits = 5, shuffle = True, random_state = 42)\n",
    "    skf = KFold(n_splits = 5, shuffle = True, random_state = 42)\n",
    "    \n",
    "    for fold, (train_idx, valid_idx) in enumerate(skf.split(X, Y)):\n",
    "        \n",
    "        print(fold, end = ' ')\n",
    "        X_train, X_valid = X.iloc[train_idx], X.iloc[valid_idx]\n",
    "        y_train , y_valid = Y.iloc[train_idx] , Y.iloc[valid_idx]\n",
    "\n",
    "        scaler = MinMaxScaler()\n",
    "        X_train = scaler.fit_transform(X_train)\n",
    "        X_valid = scaler.fit_transform(X_valid)\n",
    "        \n",
    "        model = SVR(**param)\n",
    "        model.fit(X_train, y_train)\n",
    "\n",
    "        preds_valid = model.predict(X_valid)\n",
    "        \n",
    "        optR = OptimizedRounder()\n",
    "        optR.fit(preds_valid, y_valid)\n",
    "        coef = optR.coefficients()\n",
    "        preds_valid = optR.predict(preds_valid, coef).astype(int)\n",
    "        \n",
    "        score = cohen_kappa_score(y_valid,  preds_valid, weights = \"quadratic\")\n",
    "        scores.append(score)\n",
    "        \n",
    "    return np.mean(scores)"
   ]
  },
  {
   "cell_type": "code",
   "execution_count": 7,
   "id": "51443d5c",
   "metadata": {},
   "outputs": [
    {
     "name": "stderr",
     "output_type": "stream",
     "text": [
      "\u001b[32m[I 2023-02-07 05:23:48,789]\u001b[0m A new study created in memory with name: no-name-f47ef7a9-5ee6-423d-8a87-d8ce8d2a77fa\u001b[0m\n"
     ]
    },
    {
     "name": "stdout",
     "output_type": "stream",
     "text": [
      "0 1 2 3 4 "
     ]
    },
    {
     "name": "stderr",
     "output_type": "stream",
     "text": [
      "\u001b[32m[I 2023-02-07 05:23:50,968]\u001b[0m Trial 0 finished with value: 0.5323880393356217 and parameters: {'gamma': 0.005251583707631983, 'C': 44.366136196986396}. Best is trial 0 with value: 0.5323880393356217.\u001b[0m\n"
     ]
    },
    {
     "name": "stdout",
     "output_type": "stream",
     "text": [
      "0 1 2 3 4 "
     ]
    },
    {
     "name": "stderr",
     "output_type": "stream",
     "text": [
      "\u001b[32m[I 2023-02-07 05:23:53,100]\u001b[0m Trial 1 finished with value: 0.5615095702383444 and parameters: {'gamma': 0.42024562480270605, 'C': 2.2711369345105425}. Best is trial 1 with value: 0.5615095702383444.\u001b[0m\n"
     ]
    },
    {
     "name": "stdout",
     "output_type": "stream",
     "text": [
      "0 1 2 3 4 "
     ]
    },
    {
     "name": "stderr",
     "output_type": "stream",
     "text": [
      "\u001b[32m[I 2023-02-07 05:23:55,078]\u001b[0m Trial 2 finished with value: 0.3877953574569566 and parameters: {'gamma': 13.265553560082235, 'C': 0.006924694000439944}. Best is trial 1 with value: 0.5615095702383444.\u001b[0m\n"
     ]
    },
    {
     "name": "stdout",
     "output_type": "stream",
     "text": [
      "0 1 2 3 4 "
     ]
    },
    {
     "name": "stderr",
     "output_type": "stream",
     "text": [
      "\u001b[32m[I 2023-02-07 05:23:57,178]\u001b[0m Trial 3 finished with value: 0.5387767064914922 and parameters: {'gamma': 0.019889009323938573, 'C': 4.8613890475466395}. Best is trial 1 with value: 0.5615095702383444.\u001b[0m\n"
     ]
    },
    {
     "name": "stdout",
     "output_type": "stream",
     "text": [
      "0 1 2 3 4 "
     ]
    },
    {
     "name": "stderr",
     "output_type": "stream",
     "text": [
      "\u001b[32m[I 2023-02-07 05:23:59,396]\u001b[0m Trial 4 finished with value: 0.5087268395106057 and parameters: {'gamma': 0.4452231421625899, 'C': 0.015145620450498339}. Best is trial 1 with value: 0.5615095702383444.\u001b[0m\n"
     ]
    },
    {
     "name": "stdout",
     "output_type": "stream",
     "text": [
      "0 1 2 3 4 "
     ]
    },
    {
     "name": "stderr",
     "output_type": "stream",
     "text": [
      "\u001b[32m[I 2023-02-07 05:24:01,174]\u001b[0m Trial 5 finished with value: 0.0 and parameters: {'gamma': 0.0026068971097006027, 'C': 0.001674515567833916}. Best is trial 1 with value: 0.5615095702383444.\u001b[0m\n"
     ]
    },
    {
     "name": "stdout",
     "output_type": "stream",
     "text": [
      "0 1 2 3 4 "
     ]
    },
    {
     "name": "stderr",
     "output_type": "stream",
     "text": [
      "\u001b[32m[I 2023-02-07 05:24:03,413]\u001b[0m Trial 6 finished with value: 0.5353132736267053 and parameters: {'gamma': 0.002043907531065452, 'C': 2.770554501858864}. Best is trial 1 with value: 0.5615095702383444.\u001b[0m\n"
     ]
    },
    {
     "name": "stdout",
     "output_type": "stream",
     "text": [
      "0 1 2 3 4 "
     ]
    },
    {
     "name": "stderr",
     "output_type": "stream",
     "text": [
      "\u001b[32m[I 2023-02-07 05:24:05,651]\u001b[0m Trial 7 finished with value: 0.5377031704138174 and parameters: {'gamma': 0.006829400395642031, 'C': 0.5964715220573397}. Best is trial 1 with value: 0.5615095702383444.\u001b[0m\n"
     ]
    },
    {
     "name": "stdout",
     "output_type": "stream",
     "text": [
      "0 1 2 3 4 "
     ]
    },
    {
     "name": "stderr",
     "output_type": "stream",
     "text": [
      "\u001b[32m[I 2023-02-07 05:24:07,647]\u001b[0m Trial 8 finished with value: 0.37512514438301087 and parameters: {'gamma': 71.51491345252035, 'C': 0.44249416136359754}. Best is trial 1 with value: 0.5615095702383444.\u001b[0m\n"
     ]
    },
    {
     "name": "stdout",
     "output_type": "stream",
     "text": [
      "0 1 2 3 4 "
     ]
    },
    {
     "name": "stderr",
     "output_type": "stream",
     "text": [
      "\u001b[32m[I 2023-02-07 05:24:09,608]\u001b[0m Trial 9 finished with value: 0.3789110002285571 and parameters: {'gamma': 37.31459408931413, 'C': 0.4365020273733838}. Best is trial 1 with value: 0.5615095702383444.\u001b[0m\n"
     ]
    },
    {
     "name": "stdout",
     "output_type": "stream",
     "text": [
      "0 1 2 3 4 "
     ]
    },
    {
     "name": "stderr",
     "output_type": "stream",
     "text": [
      "\u001b[32m[I 2023-02-07 05:24:11,730]\u001b[0m Trial 10 finished with value: 0.552730235085923 and parameters: {'gamma': 0.35624492539446756, 'C': 0.0556489088942576}. Best is trial 1 with value: 0.5615095702383444.\u001b[0m\n"
     ]
    },
    {
     "name": "stdout",
     "output_type": "stream",
     "text": [
      "0 1 2 3 4 "
     ]
    },
    {
     "name": "stderr",
     "output_type": "stream",
     "text": [
      "\u001b[32m[I 2023-02-07 05:24:13,863]\u001b[0m Trial 11 finished with value: 0.5525435404145778 and parameters: {'gamma': 0.46163636754804593, 'C': 0.06588990977901586}. Best is trial 1 with value: 0.5615095702383444.\u001b[0m\n"
     ]
    },
    {
     "name": "stdout",
     "output_type": "stream",
     "text": [
      "0 1 2 3 4 "
     ]
    },
    {
     "name": "stderr",
     "output_type": "stream",
     "text": [
      "\u001b[32m[I 2023-02-07 05:24:16,028]\u001b[0m Trial 12 finished with value: 0.5411576645685316 and parameters: {'gamma': 0.10530777921899345, 'C': 0.06790582353706563}. Best is trial 1 with value: 0.5615095702383444.\u001b[0m\n"
     ]
    },
    {
     "name": "stdout",
     "output_type": "stream",
     "text": [
      "0 1 2 3 4 "
     ]
    },
    {
     "name": "stderr",
     "output_type": "stream",
     "text": [
      "\u001b[32m[I 2023-02-07 05:24:18,035]\u001b[0m Trial 13 finished with value: 0.5069786218635336 and parameters: {'gamma': 2.4545920686420413, 'C': 0.07527970575905206}. Best is trial 1 with value: 0.5615095702383444.\u001b[0m\n"
     ]
    },
    {
     "name": "stdout",
     "output_type": "stream",
     "text": [
      "0 1 2 3 4 "
     ]
    },
    {
     "name": "stderr",
     "output_type": "stream",
     "text": [
      "\u001b[32m[I 2023-02-07 05:24:20,166]\u001b[0m Trial 14 finished with value: 0.5510396249084565 and parameters: {'gamma': 0.08982631103210932, 'C': 7.194104542579919}. Best is trial 1 with value: 0.5615095702383444.\u001b[0m\n"
     ]
    },
    {
     "name": "stdout",
     "output_type": "stream",
     "text": [
      "0 1 2 3 4 "
     ]
    },
    {
     "name": "stderr",
     "output_type": "stream",
     "text": [
      "\u001b[32m[I 2023-02-07 05:24:22,710]\u001b[0m Trial 15 finished with value: 0.4681795573627664 and parameters: {'gamma': 2.695354321330111, 'C': 65.94794557608202}. Best is trial 1 with value: 0.5615095702383444.\u001b[0m\n"
     ]
    },
    {
     "name": "stdout",
     "output_type": "stream",
     "text": [
      "0 1 2 3 4 "
     ]
    },
    {
     "name": "stderr",
     "output_type": "stream",
     "text": [
      "\u001b[32m[I 2023-02-07 05:24:24,848]\u001b[0m Trial 16 finished with value: 0.5317997424097511 and parameters: {'gamma': 1.5533436317690894, 'C': 1.1228859470219785}. Best is trial 1 with value: 0.5615095702383444.\u001b[0m\n"
     ]
    },
    {
     "name": "stdout",
     "output_type": "stream",
     "text": [
      "0 1 2 3 4 "
     ]
    },
    {
     "name": "stderr",
     "output_type": "stream",
     "text": [
      "\u001b[32m[I 2023-02-07 05:24:27,050]\u001b[0m Trial 17 finished with value: 0.5396273910007123 and parameters: {'gamma': 0.07972792186735836, 'C': 0.1430644412372276}. Best is trial 1 with value: 0.5615095702383444.\u001b[0m\n"
     ]
    },
    {
     "name": "stdout",
     "output_type": "stream",
     "text": [
      "0 1 2 3 4 "
     ]
    },
    {
     "name": "stderr",
     "output_type": "stream",
     "text": [
      "\u001b[32m[I 2023-02-07 05:24:29,146]\u001b[0m Trial 18 finished with value: 0.5486643972405059 and parameters: {'gamma': 0.023241923117579, 'C': 1.5402925552910667}. Best is trial 1 with value: 0.5615095702383444.\u001b[0m\n"
     ]
    },
    {
     "name": "stdout",
     "output_type": "stream",
     "text": [
      "0 1 2 3 4 "
     ]
    },
    {
     "name": "stderr",
     "output_type": "stream",
     "text": [
      "\u001b[32m[I 2023-02-07 05:24:31,330]\u001b[0m Trial 19 finished with value: 0.544665285107971 and parameters: {'gamma': 0.7804961264364222, 'C': 9.848159405993338}. Best is trial 1 with value: 0.5615095702383444.\u001b[0m\n"
     ]
    },
    {
     "name": "stdout",
     "output_type": "stream",
     "text": [
      "0 1 2 3 4 "
     ]
    },
    {
     "name": "stderr",
     "output_type": "stream",
     "text": [
      "\u001b[32m[I 2023-02-07 05:24:33,422]\u001b[0m Trial 20 finished with value: 0.5567243183442983 and parameters: {'gamma': 0.22057180340917223, 'C': 0.19119271954759443}. Best is trial 1 with value: 0.5615095702383444.\u001b[0m\n"
     ]
    },
    {
     "name": "stdout",
     "output_type": "stream",
     "text": [
      "0 1 2 3 4 "
     ]
    },
    {
     "name": "stderr",
     "output_type": "stream",
     "text": [
      "\u001b[32m[I 2023-02-07 05:24:35,469]\u001b[0m Trial 21 finished with value: 0.5446031345106611 and parameters: {'gamma': 0.18654228124057673, 'C': 0.18637876047809493}. Best is trial 1 with value: 0.5615095702383444.\u001b[0m\n"
     ]
    },
    {
     "name": "stdout",
     "output_type": "stream",
     "text": [
      "0 1 2 3 4 "
     ]
    },
    {
     "name": "stderr",
     "output_type": "stream",
     "text": [
      "\u001b[32m[I 2023-02-07 05:24:37,674]\u001b[0m Trial 22 finished with value: 0.5366715019172215 and parameters: {'gamma': 0.2791168802730611, 'C': 0.024905307839819497}. Best is trial 1 with value: 0.5615095702383444.\u001b[0m\n"
     ]
    },
    {
     "name": "stdout",
     "output_type": "stream",
     "text": [
      "0 1 2 3 4 "
     ]
    },
    {
     "name": "stderr",
     "output_type": "stream",
     "text": [
      "\u001b[32m[I 2023-02-07 05:24:39,776]\u001b[0m Trial 23 finished with value: 0.5626052989188715 and parameters: {'gamma': 0.8520490797131716, 'C': 0.1837129101657571}. Best is trial 23 with value: 0.5626052989188715.\u001b[0m\n"
     ]
    },
    {
     "name": "stdout",
     "output_type": "stream",
     "text": [
      "0 1 2 3 4 "
     ]
    },
    {
     "name": "stderr",
     "output_type": "stream",
     "text": [
      "\u001b[32m[I 2023-02-07 05:24:41,843]\u001b[0m Trial 24 finished with value: 0.5456416240162024 and parameters: {'gamma': 1.0869951619987182, 'C': 0.9536491299896149}. Best is trial 23 with value: 0.5626052989188715.\u001b[0m\n"
     ]
    },
    {
     "name": "stdout",
     "output_type": "stream",
     "text": [
      "0 1 2 3 4 "
     ]
    },
    {
     "name": "stderr",
     "output_type": "stream",
     "text": [
      "\u001b[32m[I 2023-02-07 05:24:43,904]\u001b[0m Trial 25 finished with value: 0.4835141094078835 and parameters: {'gamma': 5.152274028468974, 'C': 0.2304583681711223}. Best is trial 23 with value: 0.5626052989188715.\u001b[0m\n"
     ]
    },
    {
     "name": "stdout",
     "output_type": "stream",
     "text": [
      "0 1 2 3 4 "
     ]
    },
    {
     "name": "stderr",
     "output_type": "stream",
     "text": [
      "\u001b[32m[I 2023-02-07 05:24:46,004]\u001b[0m Trial 26 finished with value: 0.5660708973431483 and parameters: {'gamma': 1.0542080231873707, 'C': 0.2771400815744156}. Best is trial 26 with value: 0.5660708973431483.\u001b[0m\n"
     ]
    },
    {
     "name": "stdout",
     "output_type": "stream",
     "text": [
      "0 1 2 3 4 "
     ]
    },
    {
     "name": "stderr",
     "output_type": "stream",
     "text": [
      "\u001b[32m[I 2023-02-07 05:24:48,107]\u001b[0m Trial 27 finished with value: 0.45322431507757377 and parameters: {'gamma': 6.361032914771076, 'C': 2.193163535859739}. Best is trial 26 with value: 0.5660708973431483.\u001b[0m\n"
     ]
    },
    {
     "name": "stdout",
     "output_type": "stream",
     "text": [
      "0 1 2 3 4 "
     ]
    },
    {
     "name": "stderr",
     "output_type": "stream",
     "text": [
      "\u001b[32m[I 2023-02-07 05:24:50,217]\u001b[0m Trial 28 finished with value: 0.5557720448766797 and parameters: {'gamma': 1.0276470883619806, 'C': 0.531535636355389}. Best is trial 26 with value: 0.5660708973431483.\u001b[0m\n"
     ]
    },
    {
     "name": "stdout",
     "output_type": "stream",
     "text": [
      "0 1 2 3 4 "
     ]
    },
    {
     "name": "stderr",
     "output_type": "stream",
     "text": [
      "\u001b[32m[I 2023-02-07 05:24:52,488]\u001b[0m Trial 29 finished with value: 0.5408045349907533 and parameters: {'gamma': 0.654703407122767, 'C': 15.863854819018554}. Best is trial 26 with value: 0.5660708973431483.\u001b[0m\n"
     ]
    },
    {
     "name": "stdout",
     "output_type": "stream",
     "text": [
      "0 1 2 3 4 "
     ]
    },
    {
     "name": "stderr",
     "output_type": "stream",
     "text": [
      "\u001b[32m[I 2023-02-07 05:24:54,854]\u001b[0m Trial 30 finished with value: 0.4556710036978318 and parameters: {'gamma': 1.8646869734553646, 'C': 38.59930857917014}. Best is trial 26 with value: 0.5660708973431483.\u001b[0m\n"
     ]
    },
    {
     "name": "stdout",
     "output_type": "stream",
     "text": [
      "0 1 2 3 4 "
     ]
    },
    {
     "name": "stderr",
     "output_type": "stream",
     "text": [
      "\u001b[32m[I 2023-02-07 05:24:56,956]\u001b[0m Trial 31 finished with value: 0.5551471766394226 and parameters: {'gamma': 0.2814525930682202, 'C': 0.26958243240710816}. Best is trial 26 with value: 0.5660708973431483.\u001b[0m\n"
     ]
    },
    {
     "name": "stdout",
     "output_type": "stream",
     "text": [
      "0 1 2 3 4 "
     ]
    },
    {
     "name": "stderr",
     "output_type": "stream",
     "text": [
      "\u001b[32m[I 2023-02-07 05:24:59,119]\u001b[0m Trial 32 finished with value: 0.5621645821526264 and parameters: {'gamma': 0.7464340943649804, 'C': 0.7923226909000245}. Best is trial 26 with value: 0.5660708973431483.\u001b[0m\n"
     ]
    },
    {
     "name": "stdout",
     "output_type": "stream",
     "text": [
      "0 1 2 3 4 "
     ]
    },
    {
     "name": "stderr",
     "output_type": "stream",
     "text": [
      "\u001b[32m[I 2023-02-07 05:25:01,244]\u001b[0m Trial 33 finished with value: 0.5429263071585507 and parameters: {'gamma': 0.9372258491472305, 'C': 3.164217673058026}. Best is trial 26 with value: 0.5660708973431483.\u001b[0m\n"
     ]
    },
    {
     "name": "stdout",
     "output_type": "stream",
     "text": [
      "0 1 2 3 4 "
     ]
    },
    {
     "name": "stderr",
     "output_type": "stream",
     "text": [
      "\u001b[32m[I 2023-02-07 05:25:03,345]\u001b[0m Trial 34 finished with value: 0.46248021874777134 and parameters: {'gamma': 5.086310993344702, 'C': 1.248903531622651}. Best is trial 26 with value: 0.5660708973431483.\u001b[0m\n"
     ]
    },
    {
     "name": "stdout",
     "output_type": "stream",
     "text": [
      "0 1 2 3 4 "
     ]
    },
    {
     "name": "stderr",
     "output_type": "stream",
     "text": [
      "\u001b[32m[I 2023-02-07 05:25:05,549]\u001b[0m Trial 35 finished with value: 0.5569881387868312 and parameters: {'gamma': 0.504738268388753, 'C': 0.8489714904434914}. Best is trial 26 with value: 0.5660708973431483.\u001b[0m\n"
     ]
    },
    {
     "name": "stdout",
     "output_type": "stream",
     "text": [
      "0 1 2 3 4 "
     ]
    },
    {
     "name": "stderr",
     "output_type": "stream",
     "text": [
      "\u001b[32m[I 2023-02-07 05:25:07,675]\u001b[0m Trial 36 finished with value: 0.4596645781310363 and parameters: {'gamma': 2.6717214857411165, 'C': 2.980670546160694}. Best is trial 26 with value: 0.5660708973431483.\u001b[0m\n"
     ]
    },
    {
     "name": "stdout",
     "output_type": "stream",
     "text": [
      "0 1 2 3 4 "
     ]
    },
    {
     "name": "stderr",
     "output_type": "stream",
     "text": [
      "\u001b[32m[I 2023-02-07 05:25:09,665]\u001b[0m Trial 37 finished with value: 0.43393213650896734 and parameters: {'gamma': 10.528592892957082, 'C': 0.36362728745024964}. Best is trial 26 with value: 0.5660708973431483.\u001b[0m\n"
     ]
    },
    {
     "name": "stdout",
     "output_type": "stream",
     "text": [
      "0 1 2 3 4 "
     ]
    },
    {
     "name": "stderr",
     "output_type": "stream",
     "text": [
      "\u001b[32m[I 2023-02-07 05:25:11,790]\u001b[0m Trial 38 finished with value: 0.5335780338204698 and parameters: {'gamma': 1.447269225259647, 'C': 0.6282737785558768}. Best is trial 26 with value: 0.5660708973431483.\u001b[0m\n"
     ]
    },
    {
     "name": "stdout",
     "output_type": "stream",
     "text": [
      "0 1 2 3 4 "
     ]
    },
    {
     "name": "stderr",
     "output_type": "stream",
     "text": [
      "\u001b[32m[I 2023-02-07 05:25:13,948]\u001b[0m Trial 39 finished with value: 0.5417060385733811 and parameters: {'gamma': 0.1533450509918624, 'C': 1.673898630070168}. Best is trial 26 with value: 0.5660708973431483.\u001b[0m\n"
     ]
    },
    {
     "name": "stdout",
     "output_type": "stream",
     "text": [
      "0 1 2 3 4 "
     ]
    },
    {
     "name": "stderr",
     "output_type": "stream",
     "text": [
      "\u001b[32m[I 2023-02-07 05:25:16,054]\u001b[0m Trial 40 finished with value: 0.5507717459580455 and parameters: {'gamma': 0.5141650714604057, 'C': 4.344362636240653}. Best is trial 26 with value: 0.5660708973431483.\u001b[0m\n"
     ]
    },
    {
     "name": "stdout",
     "output_type": "stream",
     "text": [
      "0 1 2 3 4 "
     ]
    },
    {
     "name": "stderr",
     "output_type": "stream",
     "text": [
      "\u001b[32m[I 2023-02-07 05:25:18,216]\u001b[0m Trial 41 finished with value: 0.5599469493175194 and parameters: {'gamma': 0.5659240824896566, 'C': 0.9047383968748925}. Best is trial 26 with value: 0.5660708973431483.\u001b[0m\n"
     ]
    },
    {
     "name": "stdout",
     "output_type": "stream",
     "text": [
      "0 1 2 3 4 "
     ]
    },
    {
     "name": "stderr",
     "output_type": "stream",
     "text": [
      "\u001b[32m[I 2023-02-07 05:25:20,279]\u001b[0m Trial 42 finished with value: 0.5607804991899986 and parameters: {'gamma': 0.7668223949730968, 'C': 0.7634292296300069}. Best is trial 26 with value: 0.5660708973431483.\u001b[0m\n"
     ]
    },
    {
     "name": "stdout",
     "output_type": "stream",
     "text": [
      "0 1 2 3 4 "
     ]
    },
    {
     "name": "stderr",
     "output_type": "stream",
     "text": [
      "\u001b[32m[I 2023-02-07 05:25:22,496]\u001b[0m Trial 43 finished with value: 0.5645772100492813 and parameters: {'gamma': 0.992648090306339, 'C': 0.4264150028821251}. Best is trial 26 with value: 0.5660708973431483.\u001b[0m\n"
     ]
    },
    {
     "name": "stdout",
     "output_type": "stream",
     "text": [
      "0 1 2 3 4 "
     ]
    },
    {
     "name": "stderr",
     "output_type": "stream",
     "text": [
      "\u001b[32m[I 2023-02-07 05:25:24,587]\u001b[0m Trial 44 finished with value: 0.5520625987642875 and parameters: {'gamma': 0.31599924118207884, 'C': 0.3650731185416263}. Best is trial 26 with value: 0.5660708973431483.\u001b[0m\n"
     ]
    },
    {
     "name": "stdout",
     "output_type": "stream",
     "text": [
      "0 1 2 3 4 "
     ]
    },
    {
     "name": "stderr",
     "output_type": "stream",
     "text": [
      "\u001b[32m[I 2023-02-07 05:25:26,676]\u001b[0m Trial 45 finished with value: 0.5512869964331861 and parameters: {'gamma': 1.6041419682218034, 'C': 0.1277433425659228}. Best is trial 26 with value: 0.5660708973431483.\u001b[0m\n"
     ]
    },
    {
     "name": "stdout",
     "output_type": "stream",
     "text": [
      "0 1 2 3 4 "
     ]
    },
    {
     "name": "stderr",
     "output_type": "stream",
     "text": [
      "\u001b[32m[I 2023-02-07 05:25:28,785]\u001b[0m Trial 46 finished with value: 0.49397093311533347 and parameters: {'gamma': 3.8442467409876486, 'C': 0.31512133654248103}. Best is trial 26 with value: 0.5660708973431483.\u001b[0m\n"
     ]
    },
    {
     "name": "stdout",
     "output_type": "stream",
     "text": [
      "0 1 2 3 4 "
     ]
    },
    {
     "name": "stderr",
     "output_type": "stream",
     "text": [
      "\u001b[32m[I 2023-02-07 05:25:30,827]\u001b[0m Trial 47 finished with value: 0.5111080659546994 and parameters: {'gamma': 2.703943350746687, 'C': 0.43770296647500184}. Best is trial 26 with value: 0.5660708973431483.\u001b[0m\n"
     ]
    },
    {
     "name": "stdout",
     "output_type": "stream",
     "text": [
      "0 1 2 3 4 "
     ]
    },
    {
     "name": "stderr",
     "output_type": "stream",
     "text": [
      "\u001b[32m[I 2023-02-07 05:25:32,889]\u001b[0m Trial 48 finished with value: 0.5559021101583037 and parameters: {'gamma': 1.2011031019690146, 'C': 0.10833093440576959}. Best is trial 26 with value: 0.5660708973431483.\u001b[0m\n"
     ]
    },
    {
     "name": "stdout",
     "output_type": "stream",
     "text": [
      "0 1 2 3 4 "
     ]
    },
    {
     "name": "stderr",
     "output_type": "stream",
     "text": [
      "\u001b[32m[I 2023-02-07 05:25:34,956]\u001b[0m Trial 49 finished with value: 0.558608542602665 and parameters: {'gamma': 0.40872137142354886, 'C': 1.8303947620833592}. Best is trial 26 with value: 0.5660708973431483.\u001b[0m\n"
     ]
    }
   ],
   "source": [
    "study = optuna.create_study(direction = \"maximize\")\n",
    "study.optimize(objective, n_trials = 50, timeout = 3600)"
   ]
  },
  {
   "cell_type": "markdown",
   "id": "75b190b5",
   "metadata": {},
   "source": [
    "# SVM Modeling"
   ]
  },
  {
   "cell_type": "code",
   "execution_count": 11,
   "id": "5dd93c7e",
   "metadata": {},
   "outputs": [
    {
     "data": {
      "text/html": [
       "<div>\n",
       "<style scoped>\n",
       "    .dataframe tbody tr th:only-of-type {\n",
       "        vertical-align: middle;\n",
       "    }\n",
       "\n",
       "    .dataframe tbody tr th {\n",
       "        vertical-align: top;\n",
       "    }\n",
       "\n",
       "    .dataframe thead th {\n",
       "        text-align: right;\n",
       "    }\n",
       "</style>\n",
       "<table border=\"1\" class=\"dataframe\">\n",
       "  <thead>\n",
       "    <tr style=\"text-align: right;\">\n",
       "      <th></th>\n",
       "      <th>sulphate/density</th>\n",
       "      <th>alcohol_density</th>\n",
       "      <th>alcohol</th>\n",
       "      <th>sulphates</th>\n",
       "    </tr>\n",
       "  </thead>\n",
       "  <tbody>\n",
       "    <tr>\n",
       "      <th>0</th>\n",
       "      <td>0.591491</td>\n",
       "      <td>9.775304</td>\n",
       "      <td>9.8</td>\n",
       "      <td>0.59</td>\n",
       "    </tr>\n",
       "    <tr>\n",
       "      <th>1</th>\n",
       "      <td>0.682827</td>\n",
       "      <td>9.958600</td>\n",
       "      <td>10.0</td>\n",
       "      <td>0.68</td>\n",
       "    </tr>\n",
       "    <tr>\n",
       "      <th>2</th>\n",
       "      <td>0.651472</td>\n",
       "      <td>9.478530</td>\n",
       "      <td>9.5</td>\n",
       "      <td>0.65</td>\n",
       "    </tr>\n",
       "    <tr>\n",
       "      <th>3</th>\n",
       "      <td>0.653398</td>\n",
       "      <td>11.639160</td>\n",
       "      <td>11.7</td>\n",
       "      <td>0.65</td>\n",
       "    </tr>\n",
       "    <tr>\n",
       "      <th>4</th>\n",
       "      <td>0.483111</td>\n",
       "      <td>12.717568</td>\n",
       "      <td>12.8</td>\n",
       "      <td>0.48</td>\n",
       "    </tr>\n",
       "  </tbody>\n",
       "</table>\n",
       "</div>"
      ],
      "text/plain": [
       "   sulphate/density  alcohol_density  alcohol  sulphates\n",
       "0          0.591491         9.775304      9.8       0.59\n",
       "1          0.682827         9.958600     10.0       0.68\n",
       "2          0.651472         9.478530      9.5       0.65\n",
       "3          0.653398        11.639160     11.7       0.65\n",
       "4          0.483111        12.717568     12.8       0.48"
      ]
     },
     "execution_count": 11,
     "metadata": {},
     "output_type": "execute_result"
    }
   ],
   "source": [
    "test_md.head()"
   ]
  },
  {
   "cell_type": "code",
   "execution_count": 12,
   "id": "c2384686",
   "metadata": {},
   "outputs": [
    {
     "name": "stdout",
     "output_type": "stream",
     "text": [
      "The average weighted quadratic kappa score over 5-folds is: 0.5660708973431483\n"
     ]
    }
   ],
   "source": [
    "svm_cv_scores = list()\n",
    "preds = list()\n",
    "\n",
    "skf = KFold(n_splits = 5, shuffle = True, random_state = 42)\n",
    "    \n",
    "for train_ix, test_ix in skf.split(X, Y):\n",
    "        \n",
    "    ## Splitting the data \n",
    "    X_train, X_test = X.iloc[train_ix], X.iloc[test_ix]\n",
    "    Y_train, Y_test = Y.iloc[train_ix], Y.iloc[test_ix]\n",
    "    \n",
    "    scaler = MinMaxScaler()\n",
    "    X_train = scaler.fit_transform(X_train)\n",
    "    X_test = scaler.fit_transform(X_test)\n",
    "    test_md = scaler.fit_transform(test_md)\n",
    "    \n",
    "    ## Building the model\n",
    "    svm_md = SVR(gamma = 1.0542080231873707, C = 0.2771400815744156).fit(X_train, Y_train)\n",
    "    \n",
    "    ## Predicting on X_test and test\n",
    "    svm_pred_1 = svm_md.predict(X_test)\n",
    "    svm_pred_2 = svm_md.predict(test_md)\n",
    "        \n",
    "    ## Applying Optimal Rounder (using abhishek approach)\n",
    "    optR = OptimizedRounder()\n",
    "    optR.fit(svm_pred_1, Y_test)\n",
    "    coef = optR.coefficients()\n",
    "    svm_pred_1 = optR.predict(svm_pred_1, coef).astype(int)\n",
    "    svm_pred_2 = optR.predict(svm_pred_2, coef).astype(int)\n",
    "        \n",
    "    ## Computing roc-auc score\n",
    "    svm_cv_scores.append(cohen_kappa_score(Y_test, svm_pred_1, weights = 'quadratic'))\n",
    "    preds.append(svm_pred_2)\n",
    "\n",
    "svm_cv_score = np.mean(svm_cv_scores)    \n",
    "print('The average weighted quadratic kappa score over 5-folds is:', svm_cv_score)"
   ]
  },
  {
   "cell_type": "code",
   "execution_count": 13,
   "id": "97faac0e",
   "metadata": {},
   "outputs": [
    {
     "data": {
      "text/html": [
       "<div>\n",
       "<style scoped>\n",
       "    .dataframe tbody tr th:only-of-type {\n",
       "        vertical-align: middle;\n",
       "    }\n",
       "\n",
       "    .dataframe tbody tr th {\n",
       "        vertical-align: top;\n",
       "    }\n",
       "\n",
       "    .dataframe thead th {\n",
       "        text-align: right;\n",
       "    }\n",
       "</style>\n",
       "<table border=\"1\" class=\"dataframe\">\n",
       "  <thead>\n",
       "    <tr style=\"text-align: right;\">\n",
       "      <th></th>\n",
       "      <th>Id</th>\n",
       "      <th>quality</th>\n",
       "    </tr>\n",
       "  </thead>\n",
       "  <tbody>\n",
       "    <tr>\n",
       "      <th>0</th>\n",
       "      <td>2056</td>\n",
       "      <td>5</td>\n",
       "    </tr>\n",
       "    <tr>\n",
       "      <th>1</th>\n",
       "      <td>2057</td>\n",
       "      <td>5</td>\n",
       "    </tr>\n",
       "    <tr>\n",
       "      <th>2</th>\n",
       "      <td>2058</td>\n",
       "      <td>5</td>\n",
       "    </tr>\n",
       "    <tr>\n",
       "      <th>3</th>\n",
       "      <td>2059</td>\n",
       "      <td>6</td>\n",
       "    </tr>\n",
       "    <tr>\n",
       "      <th>4</th>\n",
       "      <td>2060</td>\n",
       "      <td>6</td>\n",
       "    </tr>\n",
       "  </tbody>\n",
       "</table>\n",
       "</div>"
      ],
      "text/plain": [
       "     Id  quality\n",
       "0  2056        5\n",
       "1  2057        5\n",
       "2  2058        5\n",
       "3  2059        6\n",
       "4  2060        6"
      ]
     },
     "execution_count": 13,
     "metadata": {},
     "output_type": "execute_result"
    }
   ],
   "source": [
    "svm_preds_test = pd.DataFrame(preds).mode(axis = 0).loc[0, ]\n",
    "\n",
    "submission['quality'] = svm_preds_test.astype(int)\n",
    "submission.head()"
   ]
  },
  {
   "cell_type": "code",
   "execution_count": 14,
   "id": "8b7b0e51",
   "metadata": {},
   "outputs": [
    {
     "data": {
      "text/plain": [
       "5    748\n",
       "6    418\n",
       "7    206\n",
       "Name: quality, dtype: int64"
      ]
     },
     "execution_count": 14,
     "metadata": {},
     "output_type": "execute_result"
    }
   ],
   "source": [
    "submission['quality'].value_counts()"
   ]
  },
  {
   "cell_type": "code",
   "execution_count": 15,
   "id": "861f6d6a",
   "metadata": {},
   "outputs": [],
   "source": [
    "submission.to_csv('SVM_Reg_FE_1.csv', index = False)"
   ]
  }
 ],
 "metadata": {
  "kernelspec": {
   "display_name": "conda_python3",
   "language": "python",
   "name": "conda_python3"
  },
  "language_info": {
   "codemirror_mode": {
    "name": "ipython",
    "version": 3
   },
   "file_extension": ".py",
   "mimetype": "text/x-python",
   "name": "python",
   "nbconvert_exporter": "python",
   "pygments_lexer": "ipython3",
   "version": "3.10.6"
  }
 },
 "nbformat": 4,
 "nbformat_minor": 5
}
