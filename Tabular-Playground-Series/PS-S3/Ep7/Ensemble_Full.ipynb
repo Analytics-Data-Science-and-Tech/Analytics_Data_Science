{
 "cells": [
  {
   "cell_type": "code",
   "execution_count": 1,
   "id": "6f491edd",
   "metadata": {},
   "outputs": [
    {
     "name": "stdout",
     "output_type": "stream",
     "text": [
      "Looking in indexes: https://pypi.org/simple, https://pip.repos.neuron.amazonaws.com\n",
      "Collecting xgboost\n",
      "  Downloading xgboost-1.7.4-py3-none-manylinux2014_x86_64.whl (193.6 MB)\n",
      "\u001b[2K     \u001b[90m━━━━━━━━━━━━━━━━━━━━━━━━━━━━━━━━━━━━━━━\u001b[0m \u001b[32m193.6/193.6 MB\u001b[0m \u001b[31m2.8 MB/s\u001b[0m eta \u001b[36m0:00:00\u001b[0m00:01\u001b[0m00:01\u001b[0m\n",
      "\u001b[?25hCollecting lightgbm\n",
      "  Downloading lightgbm-3.3.5-py3-none-manylinux1_x86_64.whl (2.0 MB)\n",
      "\u001b[2K     \u001b[90m━━━━━━━━━━━━━━━━━━━━━━━━━━━━━━━━━━━━━━━━\u001b[0m \u001b[32m2.0/2.0 MB\u001b[0m \u001b[31m15.6 MB/s\u001b[0m eta \u001b[36m0:00:00\u001b[0m:00:01\u001b[0m\n",
      "\u001b[?25hCollecting catboost\n",
      "  Downloading catboost-1.1.1-cp310-none-manylinux1_x86_64.whl (76.6 MB)\n",
      "\u001b[2K     \u001b[90m━━━━━━━━━━━━━━━━━━━━━━━━━━━━━━━━━━━━━━━━\u001b[0m \u001b[32m76.6/76.6 MB\u001b[0m \u001b[31m7.6 MB/s\u001b[0m eta \u001b[36m0:00:00\u001b[0m:00:01\u001b[0m00:01\u001b[0m\n",
      "\u001b[?25hRequirement already satisfied: numpy in /home/ec2-user/anaconda3/envs/python3/lib/python3.10/site-packages (from xgboost) (1.22.4)\n",
      "Requirement already satisfied: scipy in /home/ec2-user/anaconda3/envs/python3/lib/python3.10/site-packages (from xgboost) (1.9.3)\n",
      "Requirement already satisfied: wheel in /home/ec2-user/anaconda3/envs/python3/lib/python3.10/site-packages (from lightgbm) (0.37.1)\n",
      "Requirement already satisfied: scikit-learn!=0.22.0 in /home/ec2-user/anaconda3/envs/python3/lib/python3.10/site-packages (from lightgbm) (1.1.3)\n",
      "Requirement already satisfied: plotly in /home/ec2-user/anaconda3/envs/python3/lib/python3.10/site-packages (from catboost) (5.11.0)\n",
      "Requirement already satisfied: pandas>=0.24.0 in /home/ec2-user/anaconda3/envs/python3/lib/python3.10/site-packages (from catboost) (1.5.1)\n",
      "Collecting graphviz\n",
      "  Downloading graphviz-0.20.1-py3-none-any.whl (47 kB)\n",
      "\u001b[2K     \u001b[90m━━━━━━━━━━━━━━━━━━━━━━━━━━━━━━━━━━━━━━━━\u001b[0m \u001b[32m47.0/47.0 kB\u001b[0m \u001b[31m10.5 MB/s\u001b[0m eta \u001b[36m0:00:00\u001b[0m\n",
      "\u001b[?25hRequirement already satisfied: six in /home/ec2-user/anaconda3/envs/python3/lib/python3.10/site-packages (from catboost) (1.16.0)\n",
      "Requirement already satisfied: matplotlib in /home/ec2-user/anaconda3/envs/python3/lib/python3.10/site-packages (from catboost) (3.6.1)\n",
      "Requirement already satisfied: python-dateutil>=2.8.1 in /home/ec2-user/anaconda3/envs/python3/lib/python3.10/site-packages (from pandas>=0.24.0->catboost) (2.8.2)\n",
      "Requirement already satisfied: pytz>=2020.1 in /home/ec2-user/anaconda3/envs/python3/lib/python3.10/site-packages (from pandas>=0.24.0->catboost) (2022.5)\n",
      "Requirement already satisfied: threadpoolctl>=2.0.0 in /home/ec2-user/anaconda3/envs/python3/lib/python3.10/site-packages (from scikit-learn!=0.22.0->lightgbm) (3.1.0)\n",
      "Requirement already satisfied: joblib>=1.0.0 in /home/ec2-user/anaconda3/envs/python3/lib/python3.10/site-packages (from scikit-learn!=0.22.0->lightgbm) (1.2.0)\n",
      "Requirement already satisfied: contourpy>=1.0.1 in /home/ec2-user/anaconda3/envs/python3/lib/python3.10/site-packages (from matplotlib->catboost) (1.0.6)\n",
      "Requirement already satisfied: cycler>=0.10 in /home/ec2-user/anaconda3/envs/python3/lib/python3.10/site-packages (from matplotlib->catboost) (0.11.0)\n",
      "Requirement already satisfied: packaging>=20.0 in /home/ec2-user/anaconda3/envs/python3/lib/python3.10/site-packages (from matplotlib->catboost) (21.3)\n",
      "Requirement already satisfied: pyparsing>=2.2.1 in /home/ec2-user/anaconda3/envs/python3/lib/python3.10/site-packages (from matplotlib->catboost) (3.0.9)\n",
      "Requirement already satisfied: kiwisolver>=1.0.1 in /home/ec2-user/anaconda3/envs/python3/lib/python3.10/site-packages (from matplotlib->catboost) (1.4.4)\n",
      "Requirement already satisfied: fonttools>=4.22.0 in /home/ec2-user/anaconda3/envs/python3/lib/python3.10/site-packages (from matplotlib->catboost) (4.38.0)\n",
      "Requirement already satisfied: pillow>=6.2.0 in /home/ec2-user/anaconda3/envs/python3/lib/python3.10/site-packages (from matplotlib->catboost) (9.2.0)\n",
      "Requirement already satisfied: tenacity>=6.2.0 in /home/ec2-user/anaconda3/envs/python3/lib/python3.10/site-packages (from plotly->catboost) (8.1.0)\n",
      "Installing collected packages: graphviz, xgboost, lightgbm, catboost\n",
      "Successfully installed catboost-1.1.1 graphviz-0.20.1 lightgbm-3.3.5 xgboost-1.7.4\n",
      "Note: you may need to restart the kernel to use updated packages.\n"
     ]
    }
   ],
   "source": [
    "pip install xgboost lightgbm catboost "
   ]
  },
  {
   "cell_type": "code",
   "execution_count": 4,
   "id": "b313a867",
   "metadata": {},
   "outputs": [],
   "source": [
    "import boto3\n",
    "import pandas as pd; pd.set_option('display.max_columns', 100)\n",
    "import numpy as np\n",
    "\n",
    "from tqdm import tqdm\n",
    "\n",
    "import matplotlib.pyplot as plt; plt.style.use('ggplot')\n",
    "import seaborn as sns\n",
    "\n",
    "from scipy.stats import rankdata\n",
    "from sklearn.multiclass import OneVsRestClassifier\n",
    "from sklearn.tree import DecisionTreeRegressor, DecisionTreeClassifier, plot_tree\n",
    "from sklearn.preprocessing import MinMaxScaler\n",
    "from sklearn.model_selection import KFold, train_test_split, GridSearchCV, StratifiedKFold, TimeSeriesSplit\n",
    "from sklearn.metrics import mean_squared_error, roc_auc_score\n",
    "from sklearn.neighbors import KNeighborsClassifier\n",
    "from sklearn.ensemble import RandomForestClassifier, HistGradientBoostingClassifier\n",
    "from sklearn.linear_model import LogisticRegression\n",
    "from sklearn.feature_selection import RFE, RFECV\n",
    "from lightgbm import LGBMClassifier\n",
    "from xgboost import XGBClassifier\n",
    "from catboost import CatBoostClassifier\n",
    "\n",
    "# import optuna \n",
    "\n",
    "s3 = boto3.resource('s3')\n",
    "bucket_name = 'analytics-data-science-competitions'\n",
    "bucket = s3.Bucket(bucket_name)\n",
    "\n",
    "file_key_1 = 'Tabular-Playground-Series/PS-S3/Ep7/train.csv'\n",
    "file_key_2 = 'Tabular-Playground-Series/PS-S3/Ep7/test.csv'\n",
    "file_key_3 = 'Tabular-Playground-Series/PS-S3/Ep7/sample_submission.csv'\n",
    "\n",
    "bucket_object_1 = bucket.Object(file_key_1)\n",
    "file_object_1 = bucket_object_1.get()\n",
    "file_content_stream_1 = file_object_1.get('Body')\n",
    "\n",
    "bucket_object_2 = bucket.Object(file_key_2)\n",
    "file_object_2 = bucket_object_2.get()\n",
    "file_content_stream_2 = file_object_2.get('Body')\n",
    "\n",
    "bucket_object_3 = bucket.Object(file_key_3)\n",
    "file_object_3 = bucket_object_3.get()\n",
    "file_content_stream_3 = file_object_3.get('Body')\n",
    "\n",
    "## Reading data files\n",
    "train = pd.read_csv(file_content_stream_1)\n",
    "test = pd.read_csv(file_content_stream_2)\n",
    "submission = pd.read_csv(file_content_stream_3)\n",
    "\n",
    "## Fixing dates (https://www.kaggle.com/competitions/playground-series-s3e7/discussion/386655)\n",
    "train['arrival_year_month'] = pd.to_datetime(train['arrival_year'].astype(str) + train['arrival_month'].astype(str), format = '%Y%m')\n",
    "test['arrival_year_month'] = pd.to_datetime(test['arrival_year'].astype(str) + test['arrival_month'].astype(str), format = '%Y%m')\n",
    "\n",
    "train.loc[train.arrival_date > train.arrival_year_month.dt.days_in_month, 'arrival_date'] = train.arrival_year_month.dt.days_in_month\n",
    "test.loc[test.arrival_date > test.arrival_year_month.dt.days_in_month, 'arrival_date'] = test.arrival_year_month.dt.days_in_month\n",
    "\n",
    "train.drop(columns = 'arrival_year_month', inplace = True)\n",
    "test.drop(columns = 'arrival_year_month', inplace = True)\n",
    "\n",
    "train['low_price_flag'] = np.where(train['avg_price_per_room'] < 30, 1, 0)\n",
    "train['segment_0'] = np.where(train['market_segment_type'] == 0, 1, 0)\n",
    "train['segment_1'] = np.where(train['market_segment_type'] == 1, 1, 0)\n",
    "train['total_guests'] = train['no_of_adults'] + train['no_of_children']\n",
    "train['stay_length'] = train['no_of_weekend_nights'] + train['no_of_week_nights']\n",
    "train['stay_during_weekend'] = np.where(train['no_of_weekend_nights'] > 0, 1, 0)\n",
    "train['quarter_1'] = np.where(train['arrival_month'] <= 3, 1, 0)\n",
    "train['quarter_2'] = np.where(((train['arrival_month'] >= 4) & (train['arrival_month'] <= 6)), 1, 0)\n",
    "train['quarter_3'] = np.where(((train['arrival_month'] >= 7) & (train['arrival_month'] <= 9)), 1, 0)\n",
    "train['quarter_4'] = np.where(train['arrival_month'] >= 10, 1, 0)\n",
    "train['segment_0_feature_1'] = np.where(((train['market_segment_type'] == 0) & (train['lead_time'] <= 90)), 1, 0)\n",
    "train['segment_0_feature_2'] = np.where(((train['market_segment_type'] == 0) & (train['avg_price_per_room'] > 98)), 1, 0)\n",
    "train['segment_1_feature_1'] = np.where(((train['market_segment_type'] == 1) & (train['no_of_special_requests'] == 0)), 1, 0)\n",
    "train['segment_1_feature_2'] = np.where(((train['market_segment_type'] == 1) & (train['no_of_special_requests'] > 0) & (train['lead_time'] <= 150)), 1, 0)\n",
    "train['segment_0_year_flag'] = np.where(((train['market_segment_type'] == 0) & (train['arrival_year'] == 2018)), 1, 0)\n",
    "train['segment_1_year_flag'] = np.where(((train['market_segment_type'] == 1) & (train['arrival_year'] == 2018)), 1, 0)\n",
    "train['price_lead_time_flag'] = np.where(((train['avg_price_per_room'] > 100) & (train['lead_time'] > 150)), 1, 0)\n",
    "\n",
    "test['low_price_flag'] = np.where(test['avg_price_per_room'] < 30, 1, 0)\n",
    "test['segment_0'] = np.where(test['market_segment_type'] == 0, 1, 0)\n",
    "test['segment_1'] = np.where(test['market_segment_type'] == 1, 1, 0)\n",
    "test['total_guests'] = test['no_of_adults'] + test['no_of_children']\n",
    "test['stay_length'] = test['no_of_weekend_nights'] + test['no_of_week_nights']\n",
    "test['stay_during_weekend'] = np.where(test['no_of_weekend_nights'] > 0, 1, 0)\n",
    "test['quarter_1'] = np.where(test['arrival_month'] <= 3, 1, 0)\n",
    "test['quarter_2'] = np.where(((test['arrival_month'] >= 4) & (test['arrival_month'] <= 6)), 1, 0)\n",
    "test['quarter_3'] = np.where(((test['arrival_month'] >= 7) & (test['arrival_month'] <= 9)), 1, 0)\n",
    "test['quarter_4'] = np.where(test['arrival_month'] >= 10, 1, 0)\n",
    "test['segment_0_feature_1'] = np.where(((test['market_segment_type'] == 0) & (test['lead_time'] <= 90)), 1, 0)\n",
    "test['segment_0_feature_2'] = np.where(((test['market_segment_type'] == 0) & (test['avg_price_per_room'] > 98)), 1, 0)\n",
    "test['segment_1_feature_1'] = np.where(((test['market_segment_type'] == 1) & (test['no_of_special_requests'] == 0)), 1, 0)\n",
    "test['segment_1_feature_2'] = np.where(((test['market_segment_type'] == 1) & (test['no_of_special_requests'] > 0) & (test['lead_time'] <= 150)), 1, 0)\n",
    "test['segment_0_year_flag'] = np.where(((test['market_segment_type'] == 0) & (test['arrival_year'] == 2018)), 1, 0)\n",
    "test['segment_1_year_flag'] = np.where(((test['market_segment_type'] == 1) & (test['arrival_year'] == 2018)), 1, 0)\n",
    "test['price_lead_time_flag'] = np.where(((test['avg_price_per_room'] > 100) & (test['lead_time'] > 150)), 1, 0)\n",
    "\n",
    "\n",
    "##########################\n",
    "## Splitting Duplicates ##\n",
    "##########################\n",
    "\n",
    "train_dup = train.copy()\n",
    "test_dup = test.copy()\n",
    "\n",
    "duplicates = pd.merge(train, test, on = train_dup.columns.tolist()[1:18])\n",
    "train_dup_ids = duplicates['id_x'].tolist()\n",
    "test_dup_ids = duplicates['id_y'].tolist()\n",
    "\n",
    "train_clean = train[~np.isin(train['id'], train_dup_ids)].reset_index(drop = True)\n",
    "train_dup = train[np.isin(train['id'], train_dup_ids)].reset_index(drop = True)\n",
    "\n",
    "test_clean = test[~np.isin(test['id'], test_dup_ids)].reset_index(drop = True)\n",
    "test_dup = test[np.isin(test['id'], test_dup_ids)].reset_index(drop = True)"
   ]
  },
  {
   "cell_type": "markdown",
   "id": "d8b1d7bc",
   "metadata": {},
   "source": [
    "# XGBoost"
   ]
  },
  {
   "cell_type": "code",
   "execution_count": 17,
   "id": "38d1a89d",
   "metadata": {},
   "outputs": [
    {
     "name": "stderr",
     "output_type": "stream",
     "text": [
      "/tmp/ipykernel_17924/120222301.py:30: SettingWithCopyWarning: \n",
      "A value is trying to be set on a copy of a slice from a DataFrame.\n",
      "Try using .loc[row_indexer,col_indexer] = value instead\n",
      "\n",
      "See the caveats in the documentation: https://pandas.pydata.org/pandas-docs/stable/user_guide/indexing.html#returning-a-view-versus-a-copy\n",
      "  dup_pred['booking_status_dup'] = 1 - dup_pred['booking_status_dup']\n"
     ]
    },
    {
     "data": {
      "text/html": [
       "<div>\n",
       "<style scoped>\n",
       "    .dataframe tbody tr th:only-of-type {\n",
       "        vertical-align: middle;\n",
       "    }\n",
       "\n",
       "    .dataframe tbody tr th {\n",
       "        vertical-align: top;\n",
       "    }\n",
       "\n",
       "    .dataframe thead th {\n",
       "        text-align: right;\n",
       "    }\n",
       "</style>\n",
       "<table border=\"1\" class=\"dataframe\">\n",
       "  <thead>\n",
       "    <tr style=\"text-align: right;\">\n",
       "      <th></th>\n",
       "      <th>id</th>\n",
       "      <th>xgb</th>\n",
       "    </tr>\n",
       "  </thead>\n",
       "  <tbody>\n",
       "    <tr>\n",
       "      <th>0</th>\n",
       "      <td>42100</td>\n",
       "      <td>0.111617</td>\n",
       "    </tr>\n",
       "    <tr>\n",
       "      <th>1</th>\n",
       "      <td>42101</td>\n",
       "      <td>0.100939</td>\n",
       "    </tr>\n",
       "    <tr>\n",
       "      <th>2</th>\n",
       "      <td>42102</td>\n",
       "      <td>0.364020</td>\n",
       "    </tr>\n",
       "    <tr>\n",
       "      <th>3</th>\n",
       "      <td>42103</td>\n",
       "      <td>0.030002</td>\n",
       "    </tr>\n",
       "    <tr>\n",
       "      <th>4</th>\n",
       "      <td>42104</td>\n",
       "      <td>0.492941</td>\n",
       "    </tr>\n",
       "  </tbody>\n",
       "</table>\n",
       "</div>"
      ],
      "text/plain": [
       "      id       xgb\n",
       "0  42100  0.111617\n",
       "1  42101  0.100939\n",
       "2  42102  0.364020\n",
       "3  42103  0.030002\n",
       "4  42104  0.492941"
      ]
     },
     "execution_count": 17,
     "metadata": {},
     "output_type": "execute_result"
    }
   ],
   "source": [
    "X_xgb = train_clean[['type_of_meal_plan', 'required_car_parking_space', 'room_type_reserved', 'lead_time', \n",
    "                     'arrival_year', 'arrival_month', 'market_segment_type', 'repeated_guest', 'avg_price_per_room', \n",
    "                     'no_of_special_requests', 'segment_1', 'total_guests', 'stay_during_weekend', 'quarter_2', \n",
    "                     'quarter_3', 'segment_0_feature_1', 'segment_0_feature_2', 'segment_1_feature_1', \n",
    "                     'segment_1_feature_2', 'segment_1_year_flag', 'price_lead_time_flag']]\n",
    "Y = train_clean['booking_status']\n",
    "\n",
    "test_xgb = test_clean[['type_of_meal_plan', 'required_car_parking_space', 'room_type_reserved', 'lead_time', \n",
    "                     'arrival_year', 'arrival_month', 'market_segment_type', 'repeated_guest', 'avg_price_per_room', \n",
    "                     'no_of_special_requests', 'segment_1', 'total_guests', 'stay_during_weekend', 'quarter_2', \n",
    "                     'quarter_3', 'segment_0_feature_1', 'segment_0_feature_2', 'segment_1_feature_1', \n",
    "                     'segment_1_feature_2', 'segment_1_year_flag', 'price_lead_time_flag']]\n",
    "\n",
    "XGB_md = XGBClassifier(tree_method = 'hist', \n",
    "                       max_depth = 5,\n",
    "                       learning_rate = 0.012569604344366379,\n",
    "                       n_estimators = 5050,\n",
    "                       gamma = 1.1534413128130536,\n",
    "                       min_child_weight = 10,\n",
    "                       colsample_bytree = 0.4542341159557226,\n",
    "                       subsample = 0.8576987566989286).fit(X_xgb, Y)\n",
    "\n",
    "xgb_pred_test = XGB_md.predict_proba(test_xgb)[:, 1]\n",
    "\n",
    "clean_pred = pd.DataFrame({'id': test_clean['id']})\n",
    "clean_pred['booking_status_clean'] = xgb_pred_test\n",
    "\n",
    "dup_pred = duplicates[['id_y', 'booking_status']]\n",
    "dup_pred.columns = ['id', 'booking_status_dup']\n",
    "dup_pred['booking_status_dup'] = 1 - dup_pred['booking_status_dup']\n",
    "\n",
    "submission = pd.merge(submission.drop(columns = 'booking_status', axis = 1), clean_pred, on = 'id', how = 'left')\n",
    "submission = pd.merge(submission, dup_pred, on = 'id', how = 'left')\n",
    "submission['booking_status'] = np.where(np.isnan(submission['booking_status_clean']), submission['booking_status_dup'], submission['booking_status_clean'])\n",
    "submission.drop(columns = ['booking_status_clean', 'booking_status_dup'], axis = 1, inplace = True)\n",
    "\n",
    "xgb_sub = submission.copy()\n",
    "xgb_sub.columns = ['id', 'xgb']\n",
    "xgb_sub.head()"
   ]
  },
  {
   "cell_type": "markdown",
   "id": "9e4a2a7e",
   "metadata": {},
   "source": [
    "# LightGBM"
   ]
  },
  {
   "cell_type": "code",
   "execution_count": 19,
   "id": "d332b8b6",
   "metadata": {},
   "outputs": [
    {
     "name": "stderr",
     "output_type": "stream",
     "text": [
      "/tmp/ipykernel_17924/2879570209.py:31: SettingWithCopyWarning: \n",
      "A value is trying to be set on a copy of a slice from a DataFrame.\n",
      "Try using .loc[row_indexer,col_indexer] = value instead\n",
      "\n",
      "See the caveats in the documentation: https://pandas.pydata.org/pandas-docs/stable/user_guide/indexing.html#returning-a-view-versus-a-copy\n",
      "  dup_pred['booking_status_dup'] = 1 - dup_pred['booking_status_dup']\n"
     ]
    },
    {
     "data": {
      "text/html": [
       "<div>\n",
       "<style scoped>\n",
       "    .dataframe tbody tr th:only-of-type {\n",
       "        vertical-align: middle;\n",
       "    }\n",
       "\n",
       "    .dataframe tbody tr th {\n",
       "        vertical-align: top;\n",
       "    }\n",
       "\n",
       "    .dataframe thead th {\n",
       "        text-align: right;\n",
       "    }\n",
       "</style>\n",
       "<table border=\"1\" class=\"dataframe\">\n",
       "  <thead>\n",
       "    <tr style=\"text-align: right;\">\n",
       "      <th></th>\n",
       "      <th>id</th>\n",
       "      <th>lgb</th>\n",
       "    </tr>\n",
       "  </thead>\n",
       "  <tbody>\n",
       "    <tr>\n",
       "      <th>0</th>\n",
       "      <td>42100</td>\n",
       "      <td>0.063296</td>\n",
       "    </tr>\n",
       "    <tr>\n",
       "      <th>1</th>\n",
       "      <td>42101</td>\n",
       "      <td>0.083414</td>\n",
       "    </tr>\n",
       "    <tr>\n",
       "      <th>2</th>\n",
       "      <td>42102</td>\n",
       "      <td>0.326009</td>\n",
       "    </tr>\n",
       "    <tr>\n",
       "      <th>3</th>\n",
       "      <td>42103</td>\n",
       "      <td>0.030986</td>\n",
       "    </tr>\n",
       "    <tr>\n",
       "      <th>4</th>\n",
       "      <td>42104</td>\n",
       "      <td>0.576908</td>\n",
       "    </tr>\n",
       "  </tbody>\n",
       "</table>\n",
       "</div>"
      ],
      "text/plain": [
       "      id       lgb\n",
       "0  42100  0.063296\n",
       "1  42101  0.083414\n",
       "2  42102  0.326009\n",
       "3  42103  0.030986\n",
       "4  42104  0.576908"
      ]
     },
     "execution_count": 19,
     "metadata": {},
     "output_type": "execute_result"
    }
   ],
   "source": [
    "X_lgb = train_clean[['type_of_meal_plan', 'required_car_parking_space', 'room_type_reserved',\n",
    "                     'lead_time', 'arrival_year', 'arrival_month', 'arrival_date', 'market_segment_type',\n",
    "                     'repeated_guest', 'no_of_previous_bookings_not_canceled', 'avg_price_per_room', \n",
    "                     'no_of_special_requests', 'segment_1', 'total_guests', 'stay_length', 'stay_during_weekend',\n",
    "                     'quarter_2', 'quarter_3', 'segment_1_feature_1', 'price_lead_time_flag']]\n",
    "Y = train_clean['booking_status']\n",
    "\n",
    "test_lgb = test_clean[['type_of_meal_plan', 'required_car_parking_space', 'room_type_reserved',\n",
    "                     'lead_time', 'arrival_year', 'arrival_month', 'arrival_date', 'market_segment_type',\n",
    "                     'repeated_guest', 'no_of_previous_bookings_not_canceled', 'avg_price_per_room', \n",
    "                     'no_of_special_requests', 'segment_1', 'total_guests', 'stay_length', 'stay_during_weekend',\n",
    "                     'quarter_2', 'quarter_3', 'segment_1_feature_1', 'price_lead_time_flag']]\n",
    "\n",
    "lgb_md = LGBMClassifier(boosting_type = 'gbdt', \n",
    "                        n_estimators = 8743,\n",
    "                        learning_rate = 0.005503197021026835,\n",
    "                        max_depth = 11,\n",
    "                        lambda_l1 = 1.815327684394496,\n",
    "                        lambda_l2 = 0.2012642220501286,\n",
    "                        num_leaves = 27,\n",
    "                        bagging_fraction = 0.21774814214525,\n",
    "                        feature_fraction = 0.4307774047555758).fit(X_lgb, Y)\n",
    "\n",
    "lgb_pred_test = lgb_md.predict_proba(test_lgb)[:, 1]\n",
    "\n",
    "clean_pred = pd.DataFrame({'id': test_clean['id']})\n",
    "clean_pred['booking_status_clean'] = lgb_pred_test\n",
    "\n",
    "dup_pred = duplicates[['id_y', 'booking_status']]\n",
    "dup_pred.columns = ['id', 'booking_status_dup']\n",
    "dup_pred['booking_status_dup'] = 1 - dup_pred['booking_status_dup']\n",
    "\n",
    "submission = pd.merge(submission.drop(columns = 'booking_status', axis = 1), clean_pred, on = 'id', how = 'left')\n",
    "submission = pd.merge(submission, dup_pred, on = 'id', how = 'left')\n",
    "submission['booking_status'] = np.where(np.isnan(submission['booking_status_clean']), submission['booking_status_dup'], submission['booking_status_clean'])\n",
    "submission.drop(columns = ['booking_status_clean', 'booking_status_dup'], axis = 1, inplace = True)\n",
    "\n",
    "lgb_sub = submission.copy()\n",
    "lgb_sub.columns = ['id', 'lgb']\n",
    "lgb_sub.head()"
   ]
  },
  {
   "cell_type": "markdown",
   "id": "24d1ca86",
   "metadata": {},
   "source": [
    "# CatBoost"
   ]
  },
  {
   "cell_type": "code",
   "execution_count": 21,
   "id": "3a270abc",
   "metadata": {},
   "outputs": [
    {
     "name": "stderr",
     "output_type": "stream",
     "text": [
      "/tmp/ipykernel_17924/3711426072.py:32: SettingWithCopyWarning: \n",
      "A value is trying to be set on a copy of a slice from a DataFrame.\n",
      "Try using .loc[row_indexer,col_indexer] = value instead\n",
      "\n",
      "See the caveats in the documentation: https://pandas.pydata.org/pandas-docs/stable/user_guide/indexing.html#returning-a-view-versus-a-copy\n",
      "  dup_pred['booking_status_dup'] = 1 - dup_pred['booking_status_dup']\n"
     ]
    },
    {
     "data": {
      "text/html": [
       "<div>\n",
       "<style scoped>\n",
       "    .dataframe tbody tr th:only-of-type {\n",
       "        vertical-align: middle;\n",
       "    }\n",
       "\n",
       "    .dataframe tbody tr th {\n",
       "        vertical-align: top;\n",
       "    }\n",
       "\n",
       "    .dataframe thead th {\n",
       "        text-align: right;\n",
       "    }\n",
       "</style>\n",
       "<table border=\"1\" class=\"dataframe\">\n",
       "  <thead>\n",
       "    <tr style=\"text-align: right;\">\n",
       "      <th></th>\n",
       "      <th>id</th>\n",
       "      <th>cat</th>\n",
       "    </tr>\n",
       "  </thead>\n",
       "  <tbody>\n",
       "    <tr>\n",
       "      <th>0</th>\n",
       "      <td>42100</td>\n",
       "      <td>0.067354</td>\n",
       "    </tr>\n",
       "    <tr>\n",
       "      <th>1</th>\n",
       "      <td>42101</td>\n",
       "      <td>0.097399</td>\n",
       "    </tr>\n",
       "    <tr>\n",
       "      <th>2</th>\n",
       "      <td>42102</td>\n",
       "      <td>0.274797</td>\n",
       "    </tr>\n",
       "    <tr>\n",
       "      <th>3</th>\n",
       "      <td>42103</td>\n",
       "      <td>0.028800</td>\n",
       "    </tr>\n",
       "    <tr>\n",
       "      <th>4</th>\n",
       "      <td>42104</td>\n",
       "      <td>0.651255</td>\n",
       "    </tr>\n",
       "  </tbody>\n",
       "</table>\n",
       "</div>"
      ],
      "text/plain": [
       "      id       cat\n",
       "0  42100  0.067354\n",
       "1  42101  0.097399\n",
       "2  42102  0.274797\n",
       "3  42103  0.028800\n",
       "4  42104  0.651255"
      ]
     },
     "execution_count": 21,
     "metadata": {},
     "output_type": "execute_result"
    }
   ],
   "source": [
    "X_cat = train_clean[['type_of_meal_plan', 'required_car_parking_space', 'room_type_reserved',\n",
    "                     'lead_time', 'arrival_year', 'arrival_month', 'arrival_date', 'market_segment_type',\n",
    "                     'repeated_guest', 'avg_price_per_room', \n",
    "                     'no_of_special_requests', 'total_guests', 'stay_length', 'stay_during_weekend',\n",
    "                     'segment_0_feature_1', 'segment_1_feature_1', 'segment_1_year_flag', 'price_lead_time_flag']]\n",
    "Y = train_clean['booking_status']\n",
    "\n",
    "test_cat = test_clean[['type_of_meal_plan', 'required_car_parking_space', 'room_type_reserved',\n",
    "                     'lead_time', 'arrival_year', 'arrival_month', 'arrival_date', 'market_segment_type',\n",
    "                     'repeated_guest', 'avg_price_per_room', \n",
    "                     'no_of_special_requests', 'total_guests', 'stay_length', 'stay_during_weekend',\n",
    "                     'segment_0_feature_1', 'segment_1_feature_1', 'segment_1_year_flag', 'price_lead_time_flag']]\n",
    "\n",
    "cat_md = CatBoostClassifier(loss_function = 'Logloss',\n",
    "                            eval_metric = 'AUC',\n",
    "                            iterations = 3287,\n",
    "                            learning_rate = 0.06487165843182341,\n",
    "                            depth = 5,\n",
    "                            random_strength = 0.34199641155092914,\n",
    "                            bagging_temperature = 0.81496844524381,\n",
    "                            border_count = 255,\n",
    "                            l2_leaf_reg = 25, \n",
    "                            verbose = False).fit(X_cat, Y)\n",
    "\n",
    "cat_pred_test = cat_md.predict_proba(test_cat)[:, 1]\n",
    "\n",
    "clean_pred = pd.DataFrame({'id': test_clean['id']})\n",
    "clean_pred['booking_status_clean'] = cat_pred_test\n",
    "\n",
    "dup_pred = duplicates[['id_y', 'booking_status']]\n",
    "dup_pred.columns = ['id', 'booking_status_dup']\n",
    "dup_pred['booking_status_dup'] = 1 - dup_pred['booking_status_dup']\n",
    "\n",
    "submission = pd.merge(submission.drop(columns = 'booking_status', axis = 1), clean_pred, on = 'id', how = 'left')\n",
    "submission = pd.merge(submission, dup_pred, on = 'id', how = 'left')\n",
    "submission['booking_status'] = np.where(np.isnan(submission['booking_status_clean']), submission['booking_status_dup'], submission['booking_status_clean'])\n",
    "submission.drop(columns = ['booking_status_clean', 'booking_status_dup'], axis = 1, inplace = True)\n",
    "\n",
    "cat_sub = submission.copy()\n",
    "cat_sub.columns = ['id', 'cat']\n",
    "cat_sub.head()"
   ]
  },
  {
   "cell_type": "markdown",
   "id": "6d97a5f2",
   "metadata": {},
   "source": [
    "# Consolidating "
   ]
  },
  {
   "cell_type": "code",
   "execution_count": 22,
   "id": "5f2c1f6d",
   "metadata": {},
   "outputs": [
    {
     "data": {
      "text/html": [
       "<div>\n",
       "<style scoped>\n",
       "    .dataframe tbody tr th:only-of-type {\n",
       "        vertical-align: middle;\n",
       "    }\n",
       "\n",
       "    .dataframe tbody tr th {\n",
       "        vertical-align: top;\n",
       "    }\n",
       "\n",
       "    .dataframe thead th {\n",
       "        text-align: right;\n",
       "    }\n",
       "</style>\n",
       "<table border=\"1\" class=\"dataframe\">\n",
       "  <thead>\n",
       "    <tr style=\"text-align: right;\">\n",
       "      <th></th>\n",
       "      <th>id</th>\n",
       "      <th>xgb</th>\n",
       "      <th>lgb</th>\n",
       "      <th>cat</th>\n",
       "    </tr>\n",
       "  </thead>\n",
       "  <tbody>\n",
       "    <tr>\n",
       "      <th>0</th>\n",
       "      <td>42100</td>\n",
       "      <td>0.111617</td>\n",
       "      <td>0.063296</td>\n",
       "      <td>0.067354</td>\n",
       "    </tr>\n",
       "    <tr>\n",
       "      <th>1</th>\n",
       "      <td>42101</td>\n",
       "      <td>0.100939</td>\n",
       "      <td>0.083414</td>\n",
       "      <td>0.097399</td>\n",
       "    </tr>\n",
       "    <tr>\n",
       "      <th>2</th>\n",
       "      <td>42102</td>\n",
       "      <td>0.364020</td>\n",
       "      <td>0.326009</td>\n",
       "      <td>0.274797</td>\n",
       "    </tr>\n",
       "    <tr>\n",
       "      <th>3</th>\n",
       "      <td>42103</td>\n",
       "      <td>0.030002</td>\n",
       "      <td>0.030986</td>\n",
       "      <td>0.028800</td>\n",
       "    </tr>\n",
       "    <tr>\n",
       "      <th>4</th>\n",
       "      <td>42104</td>\n",
       "      <td>0.492941</td>\n",
       "      <td>0.576908</td>\n",
       "      <td>0.651255</td>\n",
       "    </tr>\n",
       "  </tbody>\n",
       "</table>\n",
       "</div>"
      ],
      "text/plain": [
       "      id       xgb       lgb       cat\n",
       "0  42100  0.111617  0.063296  0.067354\n",
       "1  42101  0.100939  0.083414  0.097399\n",
       "2  42102  0.364020  0.326009  0.274797\n",
       "3  42103  0.030002  0.030986  0.028800\n",
       "4  42104  0.492941  0.576908  0.651255"
      ]
     },
     "execution_count": 22,
     "metadata": {},
     "output_type": "execute_result"
    }
   ],
   "source": [
    "submission = pd.merge(xgb_sub, lgb_sub, on = 'id')\n",
    "submission = pd.merge(submission, cat_sub, on = 'id')\n",
    "submission.head()"
   ]
  },
  {
   "cell_type": "code",
   "execution_count": 23,
   "id": "81eec0d0",
   "metadata": {},
   "outputs": [
    {
     "data": {
      "text/html": [
       "<div>\n",
       "<style scoped>\n",
       "    .dataframe tbody tr th:only-of-type {\n",
       "        vertical-align: middle;\n",
       "    }\n",
       "\n",
       "    .dataframe tbody tr th {\n",
       "        vertical-align: top;\n",
       "    }\n",
       "\n",
       "    .dataframe thead th {\n",
       "        text-align: right;\n",
       "    }\n",
       "</style>\n",
       "<table border=\"1\" class=\"dataframe\">\n",
       "  <thead>\n",
       "    <tr style=\"text-align: right;\">\n",
       "      <th></th>\n",
       "      <th>id</th>\n",
       "      <th>booking_status</th>\n",
       "    </tr>\n",
       "  </thead>\n",
       "  <tbody>\n",
       "    <tr>\n",
       "      <th>0</th>\n",
       "      <td>42100</td>\n",
       "      <td>0.080756</td>\n",
       "    </tr>\n",
       "    <tr>\n",
       "      <th>1</th>\n",
       "      <td>42101</td>\n",
       "      <td>0.093917</td>\n",
       "    </tr>\n",
       "    <tr>\n",
       "      <th>2</th>\n",
       "      <td>42102</td>\n",
       "      <td>0.321609</td>\n",
       "    </tr>\n",
       "    <tr>\n",
       "      <th>3</th>\n",
       "      <td>42103</td>\n",
       "      <td>0.029929</td>\n",
       "    </tr>\n",
       "    <tr>\n",
       "      <th>4</th>\n",
       "      <td>42104</td>\n",
       "      <td>0.573701</td>\n",
       "    </tr>\n",
       "  </tbody>\n",
       "</table>\n",
       "</div>"
      ],
      "text/plain": [
       "      id  booking_status\n",
       "0  42100        0.080756\n",
       "1  42101        0.093917\n",
       "2  42102        0.321609\n",
       "3  42103        0.029929\n",
       "4  42104        0.573701"
      ]
     },
     "execution_count": 23,
     "metadata": {},
     "output_type": "execute_result"
    }
   ],
   "source": [
    "submission['booking_status'] = (submission['xgb'] + submission['lgb'] + submission['cat']) / 3\n",
    "submission.drop(columns = ['xgb', 'lgb', 'cat'], axis = 1, inplace = True)\n",
    "submission.head()"
   ]
  },
  {
   "cell_type": "code",
   "execution_count": 24,
   "id": "9b42ab36",
   "metadata": {},
   "outputs": [],
   "source": [
    "submission.to_csv('ensemble_full_data.csv', index = False)"
   ]
  },
  {
   "cell_type": "markdown",
   "id": "56447f74",
   "metadata": {},
   "source": [
    "# Looping "
   ]
  },
  {
   "cell_type": "code",
   "execution_count": 6,
   "id": "d7fb3e69",
   "metadata": {},
   "outputs": [
    {
     "name": "stderr",
     "output_type": "stream",
     "text": [
      "100%|██████████| 100/100 [10:07<00:00,  6.08s/it]\n",
      "/tmp/ipykernel_10046/716018496.py:34: SettingWithCopyWarning: \n",
      "A value is trying to be set on a copy of a slice from a DataFrame.\n",
      "Try using .loc[row_indexer,col_indexer] = value instead\n",
      "\n",
      "See the caveats in the documentation: https://pandas.pydata.org/pandas-docs/stable/user_guide/indexing.html#returning-a-view-versus-a-copy\n",
      "  dup_pred['booking_status_dup'] = 1 - dup_pred['booking_status_dup']\n"
     ]
    },
    {
     "data": {
      "text/html": [
       "<div>\n",
       "<style scoped>\n",
       "    .dataframe tbody tr th:only-of-type {\n",
       "        vertical-align: middle;\n",
       "    }\n",
       "\n",
       "    .dataframe tbody tr th {\n",
       "        vertical-align: top;\n",
       "    }\n",
       "\n",
       "    .dataframe thead th {\n",
       "        text-align: right;\n",
       "    }\n",
       "</style>\n",
       "<table border=\"1\" class=\"dataframe\">\n",
       "  <thead>\n",
       "    <tr style=\"text-align: right;\">\n",
       "      <th></th>\n",
       "      <th>id</th>\n",
       "      <th>xgb</th>\n",
       "    </tr>\n",
       "  </thead>\n",
       "  <tbody>\n",
       "    <tr>\n",
       "      <th>0</th>\n",
       "      <td>42100</td>\n",
       "      <td>0.109704</td>\n",
       "    </tr>\n",
       "    <tr>\n",
       "      <th>1</th>\n",
       "      <td>42101</td>\n",
       "      <td>0.095307</td>\n",
       "    </tr>\n",
       "    <tr>\n",
       "      <th>2</th>\n",
       "      <td>42102</td>\n",
       "      <td>0.348856</td>\n",
       "    </tr>\n",
       "    <tr>\n",
       "      <th>3</th>\n",
       "      <td>42103</td>\n",
       "      <td>0.030804</td>\n",
       "    </tr>\n",
       "    <tr>\n",
       "      <th>4</th>\n",
       "      <td>42104</td>\n",
       "      <td>0.480270</td>\n",
       "    </tr>\n",
       "  </tbody>\n",
       "</table>\n",
       "</div>"
      ],
      "text/plain": [
       "      id       xgb\n",
       "0  42100  0.109704\n",
       "1  42101  0.095307\n",
       "2  42102  0.348856\n",
       "3  42103  0.030804\n",
       "4  42104  0.480270"
      ]
     },
     "execution_count": 6,
     "metadata": {},
     "output_type": "execute_result"
    }
   ],
   "source": [
    "X_xgb = train_clean[['type_of_meal_plan', 'required_car_parking_space', 'room_type_reserved', 'lead_time', \n",
    "                     'arrival_year', 'arrival_month', 'market_segment_type', 'repeated_guest', 'avg_price_per_room', \n",
    "                     'no_of_special_requests', 'segment_1', 'total_guests', 'stay_during_weekend', 'quarter_2', \n",
    "                     'quarter_3', 'segment_0_feature_1', 'segment_0_feature_2', 'segment_1_feature_1', \n",
    "                     'segment_1_feature_2', 'segment_1_year_flag', 'price_lead_time_flag']]\n",
    "Y = train_clean['booking_status']\n",
    "\n",
    "test_xgb = test_clean[['type_of_meal_plan', 'required_car_parking_space', 'room_type_reserved', 'lead_time', \n",
    "                     'arrival_year', 'arrival_month', 'market_segment_type', 'repeated_guest', 'avg_price_per_room', \n",
    "                     'no_of_special_requests', 'segment_1', 'total_guests', 'stay_during_weekend', 'quarter_2', \n",
    "                     'quarter_3', 'segment_0_feature_1', 'segment_0_feature_2', 'segment_1_feature_1', \n",
    "                     'segment_1_feature_2', 'segment_1_year_flag', 'price_lead_time_flag']]\n",
    "preds = list()\n",
    "\n",
    "for i in tqdm(range(0, 100)):\n",
    "    \n",
    "    XGB_md = XGBClassifier(tree_method = 'hist', \n",
    "                           max_depth = 5,\n",
    "                           learning_rate = 0.012569604344366379,\n",
    "                           n_estimators = 5050,\n",
    "                           gamma = 1.1534413128130536,\n",
    "                           min_child_weight = 10,\n",
    "                           colsample_bytree = 0.4542341159557226,\n",
    "                           subsample = 0.8576987566989286, \n",
    "                           random_state = i).fit(X_xgb, Y)\n",
    "    preds.append(XGB_md.predict_proba(test_xgb)[:, 1])\n",
    "\n",
    "xgb_pred_test = pd.DataFrame(preds).apply(np.mean, axis = 0)\n",
    "clean_pred = pd.DataFrame({'id': test_clean['id']})\n",
    "clean_pred['booking_status_clean'] = xgb_pred_test\n",
    "\n",
    "dup_pred = duplicates[['id_y', 'booking_status']]\n",
    "dup_pred.columns = ['id', 'booking_status_dup']\n",
    "dup_pred['booking_status_dup'] = 1 - dup_pred['booking_status_dup']\n",
    "\n",
    "submission = pd.merge(submission.drop(columns = 'booking_status', axis = 1), clean_pred, on = 'id', how = 'left')\n",
    "submission = pd.merge(submission, dup_pred, on = 'id', how = 'left')\n",
    "submission['booking_status'] = np.where(np.isnan(submission['booking_status_clean']), submission['booking_status_dup'], submission['booking_status_clean'])\n",
    "submission.drop(columns = ['booking_status_clean', 'booking_status_dup'], axis = 1, inplace = True)\n",
    "\n",
    "xgb_sub = submission.copy()\n",
    "xgb_sub.columns = ['id', 'xgb']\n",
    "xgb_sub.head()"
   ]
  },
  {
   "cell_type": "code",
   "execution_count": 7,
   "id": "07a58c62",
   "metadata": {},
   "outputs": [
    {
     "name": "stderr",
     "output_type": "stream",
     "text": [
      "  0%|          | 0/100 [00:00<?, ?it/s]"
     ]
    },
    {
     "name": "stdout",
     "output_type": "stream",
     "text": [
      "[LightGBM] [Warning] lambda_l1 is set=1.815327684394496, reg_alpha=0.0 will be ignored. Current value: lambda_l1=1.815327684394496\n",
      "[LightGBM] [Warning] bagging_fraction is set=0.21774814214525, subsample=1.0 will be ignored. Current value: bagging_fraction=0.21774814214525\n",
      "[LightGBM] [Warning] feature_fraction is set=0.4307774047555758, colsample_bytree=1.0 will be ignored. Current value: feature_fraction=0.4307774047555758\n",
      "[LightGBM] [Warning] lambda_l2 is set=0.2012642220501286, reg_lambda=0.0 will be ignored. Current value: lambda_l2=0.2012642220501286\n"
     ]
    },
    {
     "name": "stderr",
     "output_type": "stream",
     "text": [
      "  1%|          | 1/100 [00:23<39:08, 23.73s/it]"
     ]
    },
    {
     "name": "stdout",
     "output_type": "stream",
     "text": [
      "[LightGBM] [Warning] lambda_l1 is set=1.815327684394496, reg_alpha=0.0 will be ignored. Current value: lambda_l1=1.815327684394496\n",
      "[LightGBM] [Warning] bagging_fraction is set=0.21774814214525, subsample=1.0 will be ignored. Current value: bagging_fraction=0.21774814214525\n",
      "[LightGBM] [Warning] feature_fraction is set=0.4307774047555758, colsample_bytree=1.0 will be ignored. Current value: feature_fraction=0.4307774047555758\n",
      "[LightGBM] [Warning] lambda_l2 is set=0.2012642220501286, reg_lambda=0.0 will be ignored. Current value: lambda_l2=0.2012642220501286\n"
     ]
    },
    {
     "name": "stderr",
     "output_type": "stream",
     "text": [
      "  2%|▏         | 2/100 [00:46<37:37, 23.04s/it]"
     ]
    },
    {
     "name": "stdout",
     "output_type": "stream",
     "text": [
      "[LightGBM] [Warning] lambda_l1 is set=1.815327684394496, reg_alpha=0.0 will be ignored. Current value: lambda_l1=1.815327684394496\n",
      "[LightGBM] [Warning] bagging_fraction is set=0.21774814214525, subsample=1.0 will be ignored. Current value: bagging_fraction=0.21774814214525\n",
      "[LightGBM] [Warning] feature_fraction is set=0.4307774047555758, colsample_bytree=1.0 will be ignored. Current value: feature_fraction=0.4307774047555758\n",
      "[LightGBM] [Warning] lambda_l2 is set=0.2012642220501286, reg_lambda=0.0 will be ignored. Current value: lambda_l2=0.2012642220501286\n"
     ]
    },
    {
     "name": "stderr",
     "output_type": "stream",
     "text": [
      "  3%|▎         | 3/100 [01:09<37:32, 23.23s/it]"
     ]
    },
    {
     "name": "stdout",
     "output_type": "stream",
     "text": [
      "[LightGBM] [Warning] lambda_l1 is set=1.815327684394496, reg_alpha=0.0 will be ignored. Current value: lambda_l1=1.815327684394496\n",
      "[LightGBM] [Warning] bagging_fraction is set=0.21774814214525, subsample=1.0 will be ignored. Current value: bagging_fraction=0.21774814214525\n",
      "[LightGBM] [Warning] feature_fraction is set=0.4307774047555758, colsample_bytree=1.0 will be ignored. Current value: feature_fraction=0.4307774047555758\n",
      "[LightGBM] [Warning] lambda_l2 is set=0.2012642220501286, reg_lambda=0.0 will be ignored. Current value: lambda_l2=0.2012642220501286\n"
     ]
    },
    {
     "name": "stderr",
     "output_type": "stream",
     "text": [
      "  4%|▍         | 4/100 [01:29<34:50, 21.77s/it]"
     ]
    },
    {
     "name": "stdout",
     "output_type": "stream",
     "text": [
      "[LightGBM] [Warning] lambda_l1 is set=1.815327684394496, reg_alpha=0.0 will be ignored. Current value: lambda_l1=1.815327684394496\n",
      "[LightGBM] [Warning] bagging_fraction is set=0.21774814214525, subsample=1.0 will be ignored. Current value: bagging_fraction=0.21774814214525\n",
      "[LightGBM] [Warning] feature_fraction is set=0.4307774047555758, colsample_bytree=1.0 will be ignored. Current value: feature_fraction=0.4307774047555758\n",
      "[LightGBM] [Warning] lambda_l2 is set=0.2012642220501286, reg_lambda=0.0 will be ignored. Current value: lambda_l2=0.2012642220501286\n"
     ]
    },
    {
     "name": "stderr",
     "output_type": "stream",
     "text": [
      "  5%|▌         | 5/100 [01:49<33:18, 21.04s/it]"
     ]
    },
    {
     "name": "stdout",
     "output_type": "stream",
     "text": [
      "[LightGBM] [Warning] lambda_l1 is set=1.815327684394496, reg_alpha=0.0 will be ignored. Current value: lambda_l1=1.815327684394496\n",
      "[LightGBM] [Warning] bagging_fraction is set=0.21774814214525, subsample=1.0 will be ignored. Current value: bagging_fraction=0.21774814214525\n",
      "[LightGBM] [Warning] feature_fraction is set=0.4307774047555758, colsample_bytree=1.0 will be ignored. Current value: feature_fraction=0.4307774047555758\n",
      "[LightGBM] [Warning] lambda_l2 is set=0.2012642220501286, reg_lambda=0.0 will be ignored. Current value: lambda_l2=0.2012642220501286\n"
     ]
    },
    {
     "name": "stderr",
     "output_type": "stream",
     "text": [
      "  6%|▌         | 6/100 [02:13<34:34, 22.07s/it]"
     ]
    },
    {
     "name": "stdout",
     "output_type": "stream",
     "text": [
      "[LightGBM] [Warning] lambda_l1 is set=1.815327684394496, reg_alpha=0.0 will be ignored. Current value: lambda_l1=1.815327684394496\n",
      "[LightGBM] [Warning] bagging_fraction is set=0.21774814214525, subsample=1.0 will be ignored. Current value: bagging_fraction=0.21774814214525\n",
      "[LightGBM] [Warning] feature_fraction is set=0.4307774047555758, colsample_bytree=1.0 will be ignored. Current value: feature_fraction=0.4307774047555758\n",
      "[LightGBM] [Warning] lambda_l2 is set=0.2012642220501286, reg_lambda=0.0 will be ignored. Current value: lambda_l2=0.2012642220501286\n"
     ]
    },
    {
     "name": "stderr",
     "output_type": "stream",
     "text": [
      "  7%|▋         | 7/100 [02:32<32:59, 21.29s/it]"
     ]
    },
    {
     "name": "stdout",
     "output_type": "stream",
     "text": [
      "[LightGBM] [Warning] lambda_l1 is set=1.815327684394496, reg_alpha=0.0 will be ignored. Current value: lambda_l1=1.815327684394496\n",
      "[LightGBM] [Warning] bagging_fraction is set=0.21774814214525, subsample=1.0 will be ignored. Current value: bagging_fraction=0.21774814214525\n",
      "[LightGBM] [Warning] feature_fraction is set=0.4307774047555758, colsample_bytree=1.0 will be ignored. Current value: feature_fraction=0.4307774047555758\n",
      "[LightGBM] [Warning] lambda_l2 is set=0.2012642220501286, reg_lambda=0.0 will be ignored. Current value: lambda_l2=0.2012642220501286\n"
     ]
    },
    {
     "name": "stderr",
     "output_type": "stream",
     "text": [
      "  8%|▊         | 8/100 [02:52<32:06, 20.94s/it]"
     ]
    },
    {
     "name": "stdout",
     "output_type": "stream",
     "text": [
      "[LightGBM] [Warning] lambda_l1 is set=1.815327684394496, reg_alpha=0.0 will be ignored. Current value: lambda_l1=1.815327684394496\n",
      "[LightGBM] [Warning] bagging_fraction is set=0.21774814214525, subsample=1.0 will be ignored. Current value: bagging_fraction=0.21774814214525\n",
      "[LightGBM] [Warning] feature_fraction is set=0.4307774047555758, colsample_bytree=1.0 will be ignored. Current value: feature_fraction=0.4307774047555758\n",
      "[LightGBM] [Warning] lambda_l2 is set=0.2012642220501286, reg_lambda=0.0 will be ignored. Current value: lambda_l2=0.2012642220501286\n"
     ]
    },
    {
     "name": "stderr",
     "output_type": "stream",
     "text": [
      "  9%|▉         | 9/100 [03:13<31:27, 20.74s/it]"
     ]
    },
    {
     "name": "stdout",
     "output_type": "stream",
     "text": [
      "[LightGBM] [Warning] lambda_l1 is set=1.815327684394496, reg_alpha=0.0 will be ignored. Current value: lambda_l1=1.815327684394496\n",
      "[LightGBM] [Warning] bagging_fraction is set=0.21774814214525, subsample=1.0 will be ignored. Current value: bagging_fraction=0.21774814214525\n",
      "[LightGBM] [Warning] feature_fraction is set=0.4307774047555758, colsample_bytree=1.0 will be ignored. Current value: feature_fraction=0.4307774047555758\n",
      "[LightGBM] [Warning] lambda_l2 is set=0.2012642220501286, reg_lambda=0.0 will be ignored. Current value: lambda_l2=0.2012642220501286\n"
     ]
    },
    {
     "name": "stderr",
     "output_type": "stream",
     "text": [
      " 10%|█         | 10/100 [03:33<30:51, 20.58s/it]"
     ]
    },
    {
     "name": "stdout",
     "output_type": "stream",
     "text": [
      "[LightGBM] [Warning] lambda_l1 is set=1.815327684394496, reg_alpha=0.0 will be ignored. Current value: lambda_l1=1.815327684394496\n",
      "[LightGBM] [Warning] bagging_fraction is set=0.21774814214525, subsample=1.0 will be ignored. Current value: bagging_fraction=0.21774814214525\n",
      "[LightGBM] [Warning] feature_fraction is set=0.4307774047555758, colsample_bytree=1.0 will be ignored. Current value: feature_fraction=0.4307774047555758\n",
      "[LightGBM] [Warning] lambda_l2 is set=0.2012642220501286, reg_lambda=0.0 will be ignored. Current value: lambda_l2=0.2012642220501286\n"
     ]
    },
    {
     "name": "stderr",
     "output_type": "stream",
     "text": [
      " 11%|█         | 11/100 [03:56<31:33, 21.27s/it]"
     ]
    },
    {
     "name": "stdout",
     "output_type": "stream",
     "text": [
      "[LightGBM] [Warning] lambda_l1 is set=1.815327684394496, reg_alpha=0.0 will be ignored. Current value: lambda_l1=1.815327684394496\n",
      "[LightGBM] [Warning] bagging_fraction is set=0.21774814214525, subsample=1.0 will be ignored. Current value: bagging_fraction=0.21774814214525\n",
      "[LightGBM] [Warning] feature_fraction is set=0.4307774047555758, colsample_bytree=1.0 will be ignored. Current value: feature_fraction=0.4307774047555758\n",
      "[LightGBM] [Warning] lambda_l2 is set=0.2012642220501286, reg_lambda=0.0 will be ignored. Current value: lambda_l2=0.2012642220501286\n"
     ]
    },
    {
     "name": "stderr",
     "output_type": "stream",
     "text": [
      " 12%|█▏        | 12/100 [04:19<31:50, 21.71s/it]"
     ]
    },
    {
     "name": "stdout",
     "output_type": "stream",
     "text": [
      "[LightGBM] [Warning] lambda_l1 is set=1.815327684394496, reg_alpha=0.0 will be ignored. Current value: lambda_l1=1.815327684394496\n",
      "[LightGBM] [Warning] bagging_fraction is set=0.21774814214525, subsample=1.0 will be ignored. Current value: bagging_fraction=0.21774814214525\n",
      "[LightGBM] [Warning] feature_fraction is set=0.4307774047555758, colsample_bytree=1.0 will be ignored. Current value: feature_fraction=0.4307774047555758\n",
      "[LightGBM] [Warning] lambda_l2 is set=0.2012642220501286, reg_lambda=0.0 will be ignored. Current value: lambda_l2=0.2012642220501286\n"
     ]
    },
    {
     "name": "stderr",
     "output_type": "stream",
     "text": [
      " 13%|█▎        | 13/100 [04:38<30:37, 21.13s/it]"
     ]
    },
    {
     "name": "stdout",
     "output_type": "stream",
     "text": [
      "[LightGBM] [Warning] lambda_l1 is set=1.815327684394496, reg_alpha=0.0 will be ignored. Current value: lambda_l1=1.815327684394496\n",
      "[LightGBM] [Warning] bagging_fraction is set=0.21774814214525, subsample=1.0 will be ignored. Current value: bagging_fraction=0.21774814214525\n",
      "[LightGBM] [Warning] feature_fraction is set=0.4307774047555758, colsample_bytree=1.0 will be ignored. Current value: feature_fraction=0.4307774047555758\n",
      "[LightGBM] [Warning] lambda_l2 is set=0.2012642220501286, reg_lambda=0.0 will be ignored. Current value: lambda_l2=0.2012642220501286\n"
     ]
    },
    {
     "name": "stderr",
     "output_type": "stream",
     "text": [
      " 14%|█▍        | 14/100 [04:58<29:50, 20.82s/it]"
     ]
    },
    {
     "name": "stdout",
     "output_type": "stream",
     "text": [
      "[LightGBM] [Warning] lambda_l1 is set=1.815327684394496, reg_alpha=0.0 will be ignored. Current value: lambda_l1=1.815327684394496\n",
      "[LightGBM] [Warning] bagging_fraction is set=0.21774814214525, subsample=1.0 will be ignored. Current value: bagging_fraction=0.21774814214525\n",
      "[LightGBM] [Warning] feature_fraction is set=0.4307774047555758, colsample_bytree=1.0 will be ignored. Current value: feature_fraction=0.4307774047555758\n",
      "[LightGBM] [Warning] lambda_l2 is set=0.2012642220501286, reg_lambda=0.0 will be ignored. Current value: lambda_l2=0.2012642220501286\n"
     ]
    },
    {
     "name": "stderr",
     "output_type": "stream",
     "text": [
      " 15%|█▌        | 15/100 [05:22<30:48, 21.75s/it]"
     ]
    },
    {
     "name": "stdout",
     "output_type": "stream",
     "text": [
      "[LightGBM] [Warning] lambda_l1 is set=1.815327684394496, reg_alpha=0.0 will be ignored. Current value: lambda_l1=1.815327684394496\n",
      "[LightGBM] [Warning] bagging_fraction is set=0.21774814214525, subsample=1.0 will be ignored. Current value: bagging_fraction=0.21774814214525\n",
      "[LightGBM] [Warning] feature_fraction is set=0.4307774047555758, colsample_bytree=1.0 will be ignored. Current value: feature_fraction=0.4307774047555758\n",
      "[LightGBM] [Warning] lambda_l2 is set=0.2012642220501286, reg_lambda=0.0 will be ignored. Current value: lambda_l2=0.2012642220501286\n"
     ]
    },
    {
     "name": "stderr",
     "output_type": "stream",
     "text": [
      " 16%|█▌        | 16/100 [05:42<29:31, 21.09s/it]"
     ]
    },
    {
     "name": "stdout",
     "output_type": "stream",
     "text": [
      "[LightGBM] [Warning] lambda_l1 is set=1.815327684394496, reg_alpha=0.0 will be ignored. Current value: lambda_l1=1.815327684394496\n",
      "[LightGBM] [Warning] bagging_fraction is set=0.21774814214525, subsample=1.0 will be ignored. Current value: bagging_fraction=0.21774814214525\n",
      "[LightGBM] [Warning] feature_fraction is set=0.4307774047555758, colsample_bytree=1.0 will be ignored. Current value: feature_fraction=0.4307774047555758\n",
      "[LightGBM] [Warning] lambda_l2 is set=0.2012642220501286, reg_lambda=0.0 will be ignored. Current value: lambda_l2=0.2012642220501286\n"
     ]
    },
    {
     "name": "stderr",
     "output_type": "stream",
     "text": [
      " 17%|█▋        | 17/100 [06:02<28:42, 20.75s/it]"
     ]
    },
    {
     "name": "stdout",
     "output_type": "stream",
     "text": [
      "[LightGBM] [Warning] lambda_l1 is set=1.815327684394496, reg_alpha=0.0 will be ignored. Current value: lambda_l1=1.815327684394496\n",
      "[LightGBM] [Warning] bagging_fraction is set=0.21774814214525, subsample=1.0 will be ignored. Current value: bagging_fraction=0.21774814214525\n",
      "[LightGBM] [Warning] feature_fraction is set=0.4307774047555758, colsample_bytree=1.0 will be ignored. Current value: feature_fraction=0.4307774047555758\n",
      "[LightGBM] [Warning] lambda_l2 is set=0.2012642220501286, reg_lambda=0.0 will be ignored. Current value: lambda_l2=0.2012642220501286\n"
     ]
    },
    {
     "name": "stderr",
     "output_type": "stream",
     "text": [
      " 18%|█▊        | 18/100 [06:22<28:03, 20.54s/it]"
     ]
    },
    {
     "name": "stdout",
     "output_type": "stream",
     "text": [
      "[LightGBM] [Warning] lambda_l1 is set=1.815327684394496, reg_alpha=0.0 will be ignored. Current value: lambda_l1=1.815327684394496\n",
      "[LightGBM] [Warning] bagging_fraction is set=0.21774814214525, subsample=1.0 will be ignored. Current value: bagging_fraction=0.21774814214525\n",
      "[LightGBM] [Warning] feature_fraction is set=0.4307774047555758, colsample_bytree=1.0 will be ignored. Current value: feature_fraction=0.4307774047555758\n",
      "[LightGBM] [Warning] lambda_l2 is set=0.2012642220501286, reg_lambda=0.0 will be ignored. Current value: lambda_l2=0.2012642220501286\n"
     ]
    },
    {
     "name": "stderr",
     "output_type": "stream",
     "text": [
      " 19%|█▉        | 19/100 [06:45<28:57, 21.46s/it]"
     ]
    },
    {
     "name": "stdout",
     "output_type": "stream",
     "text": [
      "[LightGBM] [Warning] lambda_l1 is set=1.815327684394496, reg_alpha=0.0 will be ignored. Current value: lambda_l1=1.815327684394496\n",
      "[LightGBM] [Warning] bagging_fraction is set=0.21774814214525, subsample=1.0 will be ignored. Current value: bagging_fraction=0.21774814214525\n",
      "[LightGBM] [Warning] feature_fraction is set=0.4307774047555758, colsample_bytree=1.0 will be ignored. Current value: feature_fraction=0.4307774047555758\n",
      "[LightGBM] [Warning] lambda_l2 is set=0.2012642220501286, reg_lambda=0.0 will be ignored. Current value: lambda_l2=0.2012642220501286\n"
     ]
    },
    {
     "name": "stderr",
     "output_type": "stream",
     "text": [
      " 20%|██        | 20/100 [07:10<29:44, 22.31s/it]"
     ]
    },
    {
     "name": "stdout",
     "output_type": "stream",
     "text": [
      "[LightGBM] [Warning] lambda_l1 is set=1.815327684394496, reg_alpha=0.0 will be ignored. Current value: lambda_l1=1.815327684394496\n",
      "[LightGBM] [Warning] bagging_fraction is set=0.21774814214525, subsample=1.0 will be ignored. Current value: bagging_fraction=0.21774814214525\n",
      "[LightGBM] [Warning] feature_fraction is set=0.4307774047555758, colsample_bytree=1.0 will be ignored. Current value: feature_fraction=0.4307774047555758\n",
      "[LightGBM] [Warning] lambda_l2 is set=0.2012642220501286, reg_lambda=0.0 will be ignored. Current value: lambda_l2=0.2012642220501286\n"
     ]
    },
    {
     "name": "stderr",
     "output_type": "stream",
     "text": [
      " 21%|██        | 21/100 [07:33<29:40, 22.53s/it]"
     ]
    },
    {
     "name": "stdout",
     "output_type": "stream",
     "text": [
      "[LightGBM] [Warning] lambda_l1 is set=1.815327684394496, reg_alpha=0.0 will be ignored. Current value: lambda_l1=1.815327684394496\n",
      "[LightGBM] [Warning] bagging_fraction is set=0.21774814214525, subsample=1.0 will be ignored. Current value: bagging_fraction=0.21774814214525\n",
      "[LightGBM] [Warning] feature_fraction is set=0.4307774047555758, colsample_bytree=1.0 will be ignored. Current value: feature_fraction=0.4307774047555758\n",
      "[LightGBM] [Warning] lambda_l2 is set=0.2012642220501286, reg_lambda=0.0 will be ignored. Current value: lambda_l2=0.2012642220501286\n"
     ]
    },
    {
     "name": "stderr",
     "output_type": "stream",
     "text": [
      " 22%|██▏       | 22/100 [07:54<28:35, 21.99s/it]"
     ]
    },
    {
     "name": "stdout",
     "output_type": "stream",
     "text": [
      "[LightGBM] [Warning] lambda_l1 is set=1.815327684394496, reg_alpha=0.0 will be ignored. Current value: lambda_l1=1.815327684394496\n",
      "[LightGBM] [Warning] bagging_fraction is set=0.21774814214525, subsample=1.0 will be ignored. Current value: bagging_fraction=0.21774814214525\n",
      "[LightGBM] [Warning] feature_fraction is set=0.4307774047555758, colsample_bytree=1.0 will be ignored. Current value: feature_fraction=0.4307774047555758\n",
      "[LightGBM] [Warning] lambda_l2 is set=0.2012642220501286, reg_lambda=0.0 will be ignored. Current value: lambda_l2=0.2012642220501286\n"
     ]
    },
    {
     "name": "stderr",
     "output_type": "stream",
     "text": [
      " 23%|██▎       | 23/100 [08:18<29:13, 22.77s/it]"
     ]
    },
    {
     "name": "stdout",
     "output_type": "stream",
     "text": [
      "[LightGBM] [Warning] lambda_l1 is set=1.815327684394496, reg_alpha=0.0 will be ignored. Current value: lambda_l1=1.815327684394496\n",
      "[LightGBM] [Warning] bagging_fraction is set=0.21774814214525, subsample=1.0 will be ignored. Current value: bagging_fraction=0.21774814214525\n",
      "[LightGBM] [Warning] feature_fraction is set=0.4307774047555758, colsample_bytree=1.0 will be ignored. Current value: feature_fraction=0.4307774047555758\n",
      "[LightGBM] [Warning] lambda_l2 is set=0.2012642220501286, reg_lambda=0.0 will be ignored. Current value: lambda_l2=0.2012642220501286\n"
     ]
    },
    {
     "name": "stderr",
     "output_type": "stream",
     "text": [
      " 24%|██▍       | 24/100 [08:38<27:49, 21.96s/it]"
     ]
    },
    {
     "name": "stdout",
     "output_type": "stream",
     "text": [
      "[LightGBM] [Warning] lambda_l1 is set=1.815327684394496, reg_alpha=0.0 will be ignored. Current value: lambda_l1=1.815327684394496\n",
      "[LightGBM] [Warning] bagging_fraction is set=0.21774814214525, subsample=1.0 will be ignored. Current value: bagging_fraction=0.21774814214525\n",
      "[LightGBM] [Warning] feature_fraction is set=0.4307774047555758, colsample_bytree=1.0 will be ignored. Current value: feature_fraction=0.4307774047555758\n",
      "[LightGBM] [Warning] lambda_l2 is set=0.2012642220501286, reg_lambda=0.0 will be ignored. Current value: lambda_l2=0.2012642220501286\n"
     ]
    },
    {
     "name": "stderr",
     "output_type": "stream",
     "text": [
      " 25%|██▌       | 25/100 [09:02<28:09, 22.53s/it]"
     ]
    },
    {
     "name": "stdout",
     "output_type": "stream",
     "text": [
      "[LightGBM] [Warning] lambda_l1 is set=1.815327684394496, reg_alpha=0.0 will be ignored. Current value: lambda_l1=1.815327684394496\n",
      "[LightGBM] [Warning] bagging_fraction is set=0.21774814214525, subsample=1.0 will be ignored. Current value: bagging_fraction=0.21774814214525\n",
      "[LightGBM] [Warning] feature_fraction is set=0.4307774047555758, colsample_bytree=1.0 will be ignored. Current value: feature_fraction=0.4307774047555758\n",
      "[LightGBM] [Warning] lambda_l2 is set=0.2012642220501286, reg_lambda=0.0 will be ignored. Current value: lambda_l2=0.2012642220501286\n"
     ]
    },
    {
     "name": "stderr",
     "output_type": "stream",
     "text": [
      " 26%|██▌       | 26/100 [09:25<27:50, 22.57s/it]"
     ]
    },
    {
     "name": "stdout",
     "output_type": "stream",
     "text": [
      "[LightGBM] [Warning] lambda_l1 is set=1.815327684394496, reg_alpha=0.0 will be ignored. Current value: lambda_l1=1.815327684394496\n",
      "[LightGBM] [Warning] bagging_fraction is set=0.21774814214525, subsample=1.0 will be ignored. Current value: bagging_fraction=0.21774814214525\n",
      "[LightGBM] [Warning] feature_fraction is set=0.4307774047555758, colsample_bytree=1.0 will be ignored. Current value: feature_fraction=0.4307774047555758\n",
      "[LightGBM] [Warning] lambda_l2 is set=0.2012642220501286, reg_lambda=0.0 will be ignored. Current value: lambda_l2=0.2012642220501286\n"
     ]
    },
    {
     "name": "stderr",
     "output_type": "stream",
     "text": [
      " 27%|██▋       | 27/100 [09:48<27:36, 22.69s/it]"
     ]
    },
    {
     "name": "stdout",
     "output_type": "stream",
     "text": [
      "[LightGBM] [Warning] lambda_l1 is set=1.815327684394496, reg_alpha=0.0 will be ignored. Current value: lambda_l1=1.815327684394496\n",
      "[LightGBM] [Warning] bagging_fraction is set=0.21774814214525, subsample=1.0 will be ignored. Current value: bagging_fraction=0.21774814214525\n",
      "[LightGBM] [Warning] feature_fraction is set=0.4307774047555758, colsample_bytree=1.0 will be ignored. Current value: feature_fraction=0.4307774047555758\n",
      "[LightGBM] [Warning] lambda_l2 is set=0.2012642220501286, reg_lambda=0.0 will be ignored. Current value: lambda_l2=0.2012642220501286\n"
     ]
    },
    {
     "name": "stderr",
     "output_type": "stream",
     "text": [
      " 28%|██▊       | 28/100 [10:11<27:20, 22.79s/it]"
     ]
    },
    {
     "name": "stdout",
     "output_type": "stream",
     "text": [
      "[LightGBM] [Warning] lambda_l1 is set=1.815327684394496, reg_alpha=0.0 will be ignored. Current value: lambda_l1=1.815327684394496\n",
      "[LightGBM] [Warning] bagging_fraction is set=0.21774814214525, subsample=1.0 will be ignored. Current value: bagging_fraction=0.21774814214525\n",
      "[LightGBM] [Warning] feature_fraction is set=0.4307774047555758, colsample_bytree=1.0 will be ignored. Current value: feature_fraction=0.4307774047555758\n",
      "[LightGBM] [Warning] lambda_l2 is set=0.2012642220501286, reg_lambda=0.0 will be ignored. Current value: lambda_l2=0.2012642220501286\n"
     ]
    },
    {
     "name": "stderr",
     "output_type": "stream",
     "text": [
      " 29%|██▉       | 29/100 [10:34<26:58, 22.80s/it]"
     ]
    },
    {
     "name": "stdout",
     "output_type": "stream",
     "text": [
      "[LightGBM] [Warning] lambda_l1 is set=1.815327684394496, reg_alpha=0.0 will be ignored. Current value: lambda_l1=1.815327684394496\n",
      "[LightGBM] [Warning] bagging_fraction is set=0.21774814214525, subsample=1.0 will be ignored. Current value: bagging_fraction=0.21774814214525\n",
      "[LightGBM] [Warning] feature_fraction is set=0.4307774047555758, colsample_bytree=1.0 will be ignored. Current value: feature_fraction=0.4307774047555758\n",
      "[LightGBM] [Warning] lambda_l2 is set=0.2012642220501286, reg_lambda=0.0 will be ignored. Current value: lambda_l2=0.2012642220501286\n"
     ]
    },
    {
     "name": "stderr",
     "output_type": "stream",
     "text": [
      " 30%|███       | 30/100 [10:57<26:48, 22.98s/it]"
     ]
    },
    {
     "name": "stdout",
     "output_type": "stream",
     "text": [
      "[LightGBM] [Warning] lambda_l1 is set=1.815327684394496, reg_alpha=0.0 will be ignored. Current value: lambda_l1=1.815327684394496\n",
      "[LightGBM] [Warning] bagging_fraction is set=0.21774814214525, subsample=1.0 will be ignored. Current value: bagging_fraction=0.21774814214525\n",
      "[LightGBM] [Warning] feature_fraction is set=0.4307774047555758, colsample_bytree=1.0 will be ignored. Current value: feature_fraction=0.4307774047555758\n",
      "[LightGBM] [Warning] lambda_l2 is set=0.2012642220501286, reg_lambda=0.0 will be ignored. Current value: lambda_l2=0.2012642220501286\n"
     ]
    },
    {
     "name": "stderr",
     "output_type": "stream",
     "text": [
      " 31%|███       | 31/100 [11:24<27:52, 24.24s/it]"
     ]
    },
    {
     "name": "stdout",
     "output_type": "stream",
     "text": [
      "[LightGBM] [Warning] lambda_l1 is set=1.815327684394496, reg_alpha=0.0 will be ignored. Current value: lambda_l1=1.815327684394496\n",
      "[LightGBM] [Warning] bagging_fraction is set=0.21774814214525, subsample=1.0 will be ignored. Current value: bagging_fraction=0.21774814214525\n",
      "[LightGBM] [Warning] feature_fraction is set=0.4307774047555758, colsample_bytree=1.0 will be ignored. Current value: feature_fraction=0.4307774047555758\n",
      "[LightGBM] [Warning] lambda_l2 is set=0.2012642220501286, reg_lambda=0.0 will be ignored. Current value: lambda_l2=0.2012642220501286\n"
     ]
    },
    {
     "name": "stderr",
     "output_type": "stream",
     "text": [
      " 32%|███▏      | 32/100 [11:47<26:58, 23.80s/it]"
     ]
    },
    {
     "name": "stdout",
     "output_type": "stream",
     "text": [
      "[LightGBM] [Warning] lambda_l1 is set=1.815327684394496, reg_alpha=0.0 will be ignored. Current value: lambda_l1=1.815327684394496\n",
      "[LightGBM] [Warning] bagging_fraction is set=0.21774814214525, subsample=1.0 will be ignored. Current value: bagging_fraction=0.21774814214525\n",
      "[LightGBM] [Warning] feature_fraction is set=0.4307774047555758, colsample_bytree=1.0 will be ignored. Current value: feature_fraction=0.4307774047555758\n",
      "[LightGBM] [Warning] lambda_l2 is set=0.2012642220501286, reg_lambda=0.0 will be ignored. Current value: lambda_l2=0.2012642220501286\n"
     ]
    },
    {
     "name": "stderr",
     "output_type": "stream",
     "text": [
      " 33%|███▎      | 33/100 [12:08<25:34, 22.91s/it]"
     ]
    },
    {
     "name": "stdout",
     "output_type": "stream",
     "text": [
      "[LightGBM] [Warning] lambda_l1 is set=1.815327684394496, reg_alpha=0.0 will be ignored. Current value: lambda_l1=1.815327684394496\n",
      "[LightGBM] [Warning] bagging_fraction is set=0.21774814214525, subsample=1.0 will be ignored. Current value: bagging_fraction=0.21774814214525\n",
      "[LightGBM] [Warning] feature_fraction is set=0.4307774047555758, colsample_bytree=1.0 will be ignored. Current value: feature_fraction=0.4307774047555758\n",
      "[LightGBM] [Warning] lambda_l2 is set=0.2012642220501286, reg_lambda=0.0 will be ignored. Current value: lambda_l2=0.2012642220501286\n"
     ]
    },
    {
     "name": "stderr",
     "output_type": "stream",
     "text": [
      " 34%|███▍      | 34/100 [12:28<24:12, 22.00s/it]"
     ]
    },
    {
     "name": "stdout",
     "output_type": "stream",
     "text": [
      "[LightGBM] [Warning] lambda_l1 is set=1.815327684394496, reg_alpha=0.0 will be ignored. Current value: lambda_l1=1.815327684394496\n",
      "[LightGBM] [Warning] bagging_fraction is set=0.21774814214525, subsample=1.0 will be ignored. Current value: bagging_fraction=0.21774814214525\n",
      "[LightGBM] [Warning] feature_fraction is set=0.4307774047555758, colsample_bytree=1.0 will be ignored. Current value: feature_fraction=0.4307774047555758\n",
      "[LightGBM] [Warning] lambda_l2 is set=0.2012642220501286, reg_lambda=0.0 will be ignored. Current value: lambda_l2=0.2012642220501286\n"
     ]
    },
    {
     "name": "stderr",
     "output_type": "stream",
     "text": [
      " 35%|███▌      | 35/100 [12:47<23:02, 21.26s/it]"
     ]
    },
    {
     "name": "stdout",
     "output_type": "stream",
     "text": [
      "[LightGBM] [Warning] lambda_l1 is set=1.815327684394496, reg_alpha=0.0 will be ignored. Current value: lambda_l1=1.815327684394496\n",
      "[LightGBM] [Warning] bagging_fraction is set=0.21774814214525, subsample=1.0 will be ignored. Current value: bagging_fraction=0.21774814214525\n",
      "[LightGBM] [Warning] feature_fraction is set=0.4307774047555758, colsample_bytree=1.0 will be ignored. Current value: feature_fraction=0.4307774047555758\n",
      "[LightGBM] [Warning] lambda_l2 is set=0.2012642220501286, reg_lambda=0.0 will be ignored. Current value: lambda_l2=0.2012642220501286\n"
     ]
    },
    {
     "name": "stderr",
     "output_type": "stream",
     "text": [
      " 36%|███▌      | 36/100 [13:11<23:22, 21.91s/it]"
     ]
    },
    {
     "name": "stdout",
     "output_type": "stream",
     "text": [
      "[LightGBM] [Warning] lambda_l1 is set=1.815327684394496, reg_alpha=0.0 will be ignored. Current value: lambda_l1=1.815327684394496\n",
      "[LightGBM] [Warning] bagging_fraction is set=0.21774814214525, subsample=1.0 will be ignored. Current value: bagging_fraction=0.21774814214525\n",
      "[LightGBM] [Warning] feature_fraction is set=0.4307774047555758, colsample_bytree=1.0 will be ignored. Current value: feature_fraction=0.4307774047555758\n",
      "[LightGBM] [Warning] lambda_l2 is set=0.2012642220501286, reg_lambda=0.0 will be ignored. Current value: lambda_l2=0.2012642220501286\n"
     ]
    },
    {
     "name": "stderr",
     "output_type": "stream",
     "text": [
      " 37%|███▋      | 37/100 [13:34<23:21, 22.25s/it]"
     ]
    },
    {
     "name": "stdout",
     "output_type": "stream",
     "text": [
      "[LightGBM] [Warning] lambda_l1 is set=1.815327684394496, reg_alpha=0.0 will be ignored. Current value: lambda_l1=1.815327684394496\n",
      "[LightGBM] [Warning] bagging_fraction is set=0.21774814214525, subsample=1.0 will be ignored. Current value: bagging_fraction=0.21774814214525\n",
      "[LightGBM] [Warning] feature_fraction is set=0.4307774047555758, colsample_bytree=1.0 will be ignored. Current value: feature_fraction=0.4307774047555758\n",
      "[LightGBM] [Warning] lambda_l2 is set=0.2012642220501286, reg_lambda=0.0 will be ignored. Current value: lambda_l2=0.2012642220501286\n"
     ]
    },
    {
     "name": "stderr",
     "output_type": "stream",
     "text": [
      " 38%|███▊      | 38/100 [13:56<23:08, 22.39s/it]"
     ]
    },
    {
     "name": "stdout",
     "output_type": "stream",
     "text": [
      "[LightGBM] [Warning] lambda_l1 is set=1.815327684394496, reg_alpha=0.0 will be ignored. Current value: lambda_l1=1.815327684394496\n",
      "[LightGBM] [Warning] bagging_fraction is set=0.21774814214525, subsample=1.0 will be ignored. Current value: bagging_fraction=0.21774814214525\n",
      "[LightGBM] [Warning] feature_fraction is set=0.4307774047555758, colsample_bytree=1.0 will be ignored. Current value: feature_fraction=0.4307774047555758\n",
      "[LightGBM] [Warning] lambda_l2 is set=0.2012642220501286, reg_lambda=0.0 will be ignored. Current value: lambda_l2=0.2012642220501286\n"
     ]
    },
    {
     "name": "stderr",
     "output_type": "stream",
     "text": [
      " 39%|███▉      | 39/100 [14:22<23:52, 23.49s/it]"
     ]
    },
    {
     "name": "stdout",
     "output_type": "stream",
     "text": [
      "[LightGBM] [Warning] lambda_l1 is set=1.815327684394496, reg_alpha=0.0 will be ignored. Current value: lambda_l1=1.815327684394496\n",
      "[LightGBM] [Warning] bagging_fraction is set=0.21774814214525, subsample=1.0 will be ignored. Current value: bagging_fraction=0.21774814214525\n",
      "[LightGBM] [Warning] feature_fraction is set=0.4307774047555758, colsample_bytree=1.0 will be ignored. Current value: feature_fraction=0.4307774047555758\n",
      "[LightGBM] [Warning] lambda_l2 is set=0.2012642220501286, reg_lambda=0.0 will be ignored. Current value: lambda_l2=0.2012642220501286\n"
     ]
    },
    {
     "name": "stderr",
     "output_type": "stream",
     "text": [
      " 40%|████      | 40/100 [14:42<22:23, 22.38s/it]"
     ]
    },
    {
     "name": "stdout",
     "output_type": "stream",
     "text": [
      "[LightGBM] [Warning] lambda_l1 is set=1.815327684394496, reg_alpha=0.0 will be ignored. Current value: lambda_l1=1.815327684394496\n",
      "[LightGBM] [Warning] bagging_fraction is set=0.21774814214525, subsample=1.0 will be ignored. Current value: bagging_fraction=0.21774814214525\n",
      "[LightGBM] [Warning] feature_fraction is set=0.4307774047555758, colsample_bytree=1.0 will be ignored. Current value: feature_fraction=0.4307774047555758\n",
      "[LightGBM] [Warning] lambda_l2 is set=0.2012642220501286, reg_lambda=0.0 will be ignored. Current value: lambda_l2=0.2012642220501286\n"
     ]
    },
    {
     "name": "stderr",
     "output_type": "stream",
     "text": [
      " 41%|████      | 41/100 [15:03<21:26, 21.80s/it]"
     ]
    },
    {
     "name": "stdout",
     "output_type": "stream",
     "text": [
      "[LightGBM] [Warning] lambda_l1 is set=1.815327684394496, reg_alpha=0.0 will be ignored. Current value: lambda_l1=1.815327684394496\n",
      "[LightGBM] [Warning] bagging_fraction is set=0.21774814214525, subsample=1.0 will be ignored. Current value: bagging_fraction=0.21774814214525\n",
      "[LightGBM] [Warning] feature_fraction is set=0.4307774047555758, colsample_bytree=1.0 will be ignored. Current value: feature_fraction=0.4307774047555758\n",
      "[LightGBM] [Warning] lambda_l2 is set=0.2012642220501286, reg_lambda=0.0 will be ignored. Current value: lambda_l2=0.2012642220501286\n"
     ]
    },
    {
     "name": "stderr",
     "output_type": "stream",
     "text": [
      " 42%|████▏     | 42/100 [15:23<20:42, 21.42s/it]"
     ]
    },
    {
     "name": "stdout",
     "output_type": "stream",
     "text": [
      "[LightGBM] [Warning] lambda_l1 is set=1.815327684394496, reg_alpha=0.0 will be ignored. Current value: lambda_l1=1.815327684394496\n",
      "[LightGBM] [Warning] bagging_fraction is set=0.21774814214525, subsample=1.0 will be ignored. Current value: bagging_fraction=0.21774814214525\n",
      "[LightGBM] [Warning] feature_fraction is set=0.4307774047555758, colsample_bytree=1.0 will be ignored. Current value: feature_fraction=0.4307774047555758\n",
      "[LightGBM] [Warning] lambda_l2 is set=0.2012642220501286, reg_lambda=0.0 will be ignored. Current value: lambda_l2=0.2012642220501286\n"
     ]
    },
    {
     "name": "stderr",
     "output_type": "stream",
     "text": [
      " 43%|████▎     | 43/100 [15:46<20:50, 21.93s/it]"
     ]
    },
    {
     "name": "stdout",
     "output_type": "stream",
     "text": [
      "[LightGBM] [Warning] lambda_l1 is set=1.815327684394496, reg_alpha=0.0 will be ignored. Current value: lambda_l1=1.815327684394496\n",
      "[LightGBM] [Warning] bagging_fraction is set=0.21774814214525, subsample=1.0 will be ignored. Current value: bagging_fraction=0.21774814214525\n",
      "[LightGBM] [Warning] feature_fraction is set=0.4307774047555758, colsample_bytree=1.0 will be ignored. Current value: feature_fraction=0.4307774047555758\n",
      "[LightGBM] [Warning] lambda_l2 is set=0.2012642220501286, reg_lambda=0.0 will be ignored. Current value: lambda_l2=0.2012642220501286\n"
     ]
    },
    {
     "name": "stderr",
     "output_type": "stream",
     "text": [
      " 44%|████▍     | 44/100 [16:09<20:41, 22.18s/it]"
     ]
    },
    {
     "name": "stdout",
     "output_type": "stream",
     "text": [
      "[LightGBM] [Warning] lambda_l1 is set=1.815327684394496, reg_alpha=0.0 will be ignored. Current value: lambda_l1=1.815327684394496\n",
      "[LightGBM] [Warning] bagging_fraction is set=0.21774814214525, subsample=1.0 will be ignored. Current value: bagging_fraction=0.21774814214525\n",
      "[LightGBM] [Warning] feature_fraction is set=0.4307774047555758, colsample_bytree=1.0 will be ignored. Current value: feature_fraction=0.4307774047555758\n",
      "[LightGBM] [Warning] lambda_l2 is set=0.2012642220501286, reg_lambda=0.0 will be ignored. Current value: lambda_l2=0.2012642220501286\n"
     ]
    },
    {
     "name": "stderr",
     "output_type": "stream",
     "text": [
      " 45%|████▌     | 45/100 [16:32<20:34, 22.45s/it]"
     ]
    },
    {
     "name": "stdout",
     "output_type": "stream",
     "text": [
      "[LightGBM] [Warning] lambda_l1 is set=1.815327684394496, reg_alpha=0.0 will be ignored. Current value: lambda_l1=1.815327684394496\n",
      "[LightGBM] [Warning] bagging_fraction is set=0.21774814214525, subsample=1.0 will be ignored. Current value: bagging_fraction=0.21774814214525\n",
      "[LightGBM] [Warning] feature_fraction is set=0.4307774047555758, colsample_bytree=1.0 will be ignored. Current value: feature_fraction=0.4307774047555758\n",
      "[LightGBM] [Warning] lambda_l2 is set=0.2012642220501286, reg_lambda=0.0 will be ignored. Current value: lambda_l2=0.2012642220501286\n"
     ]
    },
    {
     "name": "stderr",
     "output_type": "stream",
     "text": [
      " 46%|████▌     | 46/100 [16:56<20:39, 22.96s/it]"
     ]
    },
    {
     "name": "stdout",
     "output_type": "stream",
     "text": [
      "[LightGBM] [Warning] lambda_l1 is set=1.815327684394496, reg_alpha=0.0 will be ignored. Current value: lambda_l1=1.815327684394496\n",
      "[LightGBM] [Warning] bagging_fraction is set=0.21774814214525, subsample=1.0 will be ignored. Current value: bagging_fraction=0.21774814214525\n",
      "[LightGBM] [Warning] feature_fraction is set=0.4307774047555758, colsample_bytree=1.0 will be ignored. Current value: feature_fraction=0.4307774047555758\n",
      "[LightGBM] [Warning] lambda_l2 is set=0.2012642220501286, reg_lambda=0.0 will be ignored. Current value: lambda_l2=0.2012642220501286\n"
     ]
    },
    {
     "name": "stderr",
     "output_type": "stream",
     "text": [
      " 47%|████▋     | 47/100 [17:22<21:06, 23.89s/it]"
     ]
    },
    {
     "name": "stdout",
     "output_type": "stream",
     "text": [
      "[LightGBM] [Warning] lambda_l1 is set=1.815327684394496, reg_alpha=0.0 will be ignored. Current value: lambda_l1=1.815327684394496\n",
      "[LightGBM] [Warning] bagging_fraction is set=0.21774814214525, subsample=1.0 will be ignored. Current value: bagging_fraction=0.21774814214525\n",
      "[LightGBM] [Warning] feature_fraction is set=0.4307774047555758, colsample_bytree=1.0 will be ignored. Current value: feature_fraction=0.4307774047555758\n",
      "[LightGBM] [Warning] lambda_l2 is set=0.2012642220501286, reg_lambda=0.0 will be ignored. Current value: lambda_l2=0.2012642220501286\n"
     ]
    },
    {
     "name": "stderr",
     "output_type": "stream",
     "text": [
      " 48%|████▊     | 48/100 [17:45<20:24, 23.54s/it]"
     ]
    },
    {
     "name": "stdout",
     "output_type": "stream",
     "text": [
      "[LightGBM] [Warning] lambda_l1 is set=1.815327684394496, reg_alpha=0.0 will be ignored. Current value: lambda_l1=1.815327684394496\n",
      "[LightGBM] [Warning] bagging_fraction is set=0.21774814214525, subsample=1.0 will be ignored. Current value: bagging_fraction=0.21774814214525\n",
      "[LightGBM] [Warning] feature_fraction is set=0.4307774047555758, colsample_bytree=1.0 will be ignored. Current value: feature_fraction=0.4307774047555758\n",
      "[LightGBM] [Warning] lambda_l2 is set=0.2012642220501286, reg_lambda=0.0 will be ignored. Current value: lambda_l2=0.2012642220501286\n"
     ]
    },
    {
     "name": "stderr",
     "output_type": "stream",
     "text": [
      " 49%|████▉     | 49/100 [18:08<19:47, 23.27s/it]"
     ]
    },
    {
     "name": "stdout",
     "output_type": "stream",
     "text": [
      "[LightGBM] [Warning] lambda_l1 is set=1.815327684394496, reg_alpha=0.0 will be ignored. Current value: lambda_l1=1.815327684394496\n",
      "[LightGBM] [Warning] bagging_fraction is set=0.21774814214525, subsample=1.0 will be ignored. Current value: bagging_fraction=0.21774814214525\n",
      "[LightGBM] [Warning] feature_fraction is set=0.4307774047555758, colsample_bytree=1.0 will be ignored. Current value: feature_fraction=0.4307774047555758\n",
      "[LightGBM] [Warning] lambda_l2 is set=0.2012642220501286, reg_lambda=0.0 will be ignored. Current value: lambda_l2=0.2012642220501286\n"
     ]
    },
    {
     "name": "stderr",
     "output_type": "stream",
     "text": [
      " 50%|█████     | 50/100 [18:31<19:17, 23.14s/it]"
     ]
    },
    {
     "name": "stdout",
     "output_type": "stream",
     "text": [
      "[LightGBM] [Warning] lambda_l1 is set=1.815327684394496, reg_alpha=0.0 will be ignored. Current value: lambda_l1=1.815327684394496\n",
      "[LightGBM] [Warning] bagging_fraction is set=0.21774814214525, subsample=1.0 will be ignored. Current value: bagging_fraction=0.21774814214525\n",
      "[LightGBM] [Warning] feature_fraction is set=0.4307774047555758, colsample_bytree=1.0 will be ignored. Current value: feature_fraction=0.4307774047555758\n",
      "[LightGBM] [Warning] lambda_l2 is set=0.2012642220501286, reg_lambda=0.0 will be ignored. Current value: lambda_l2=0.2012642220501286\n"
     ]
    },
    {
     "name": "stderr",
     "output_type": "stream",
     "text": [
      " 51%|█████     | 51/100 [18:54<18:51, 23.09s/it]"
     ]
    },
    {
     "name": "stdout",
     "output_type": "stream",
     "text": [
      "[LightGBM] [Warning] lambda_l1 is set=1.815327684394496, reg_alpha=0.0 will be ignored. Current value: lambda_l1=1.815327684394496\n",
      "[LightGBM] [Warning] bagging_fraction is set=0.21774814214525, subsample=1.0 will be ignored. Current value: bagging_fraction=0.21774814214525\n",
      "[LightGBM] [Warning] feature_fraction is set=0.4307774047555758, colsample_bytree=1.0 will be ignored. Current value: feature_fraction=0.4307774047555758\n",
      "[LightGBM] [Warning] lambda_l2 is set=0.2012642220501286, reg_lambda=0.0 will be ignored. Current value: lambda_l2=0.2012642220501286\n"
     ]
    },
    {
     "name": "stderr",
     "output_type": "stream",
     "text": [
      " 52%|█████▏    | 52/100 [19:16<18:22, 22.97s/it]"
     ]
    },
    {
     "name": "stdout",
     "output_type": "stream",
     "text": [
      "[LightGBM] [Warning] lambda_l1 is set=1.815327684394496, reg_alpha=0.0 will be ignored. Current value: lambda_l1=1.815327684394496\n",
      "[LightGBM] [Warning] bagging_fraction is set=0.21774814214525, subsample=1.0 will be ignored. Current value: bagging_fraction=0.21774814214525\n",
      "[LightGBM] [Warning] feature_fraction is set=0.4307774047555758, colsample_bytree=1.0 will be ignored. Current value: feature_fraction=0.4307774047555758\n",
      "[LightGBM] [Warning] lambda_l2 is set=0.2012642220501286, reg_lambda=0.0 will be ignored. Current value: lambda_l2=0.2012642220501286\n"
     ]
    },
    {
     "name": "stderr",
     "output_type": "stream",
     "text": [
      " 53%|█████▎    | 53/100 [19:39<17:58, 22.96s/it]"
     ]
    },
    {
     "name": "stdout",
     "output_type": "stream",
     "text": [
      "[LightGBM] [Warning] lambda_l1 is set=1.815327684394496, reg_alpha=0.0 will be ignored. Current value: lambda_l1=1.815327684394496\n",
      "[LightGBM] [Warning] bagging_fraction is set=0.21774814214525, subsample=1.0 will be ignored. Current value: bagging_fraction=0.21774814214525\n",
      "[LightGBM] [Warning] feature_fraction is set=0.4307774047555758, colsample_bytree=1.0 will be ignored. Current value: feature_fraction=0.4307774047555758\n",
      "[LightGBM] [Warning] lambda_l2 is set=0.2012642220501286, reg_lambda=0.0 will be ignored. Current value: lambda_l2=0.2012642220501286\n"
     ]
    },
    {
     "name": "stderr",
     "output_type": "stream",
     "text": [
      " 54%|█████▍    | 54/100 [20:02<17:33, 22.89s/it]"
     ]
    },
    {
     "name": "stdout",
     "output_type": "stream",
     "text": [
      "[LightGBM] [Warning] lambda_l1 is set=1.815327684394496, reg_alpha=0.0 will be ignored. Current value: lambda_l1=1.815327684394496\n",
      "[LightGBM] [Warning] bagging_fraction is set=0.21774814214525, subsample=1.0 will be ignored. Current value: bagging_fraction=0.21774814214525\n",
      "[LightGBM] [Warning] feature_fraction is set=0.4307774047555758, colsample_bytree=1.0 will be ignored. Current value: feature_fraction=0.4307774047555758\n",
      "[LightGBM] [Warning] lambda_l2 is set=0.2012642220501286, reg_lambda=0.0 will be ignored. Current value: lambda_l2=0.2012642220501286\n"
     ]
    },
    {
     "name": "stderr",
     "output_type": "stream",
     "text": [
      " 55%|█████▌    | 55/100 [20:27<17:40, 23.56s/it]"
     ]
    },
    {
     "name": "stdout",
     "output_type": "stream",
     "text": [
      "[LightGBM] [Warning] lambda_l1 is set=1.815327684394496, reg_alpha=0.0 will be ignored. Current value: lambda_l1=1.815327684394496\n",
      "[LightGBM] [Warning] bagging_fraction is set=0.21774814214525, subsample=1.0 will be ignored. Current value: bagging_fraction=0.21774814214525\n",
      "[LightGBM] [Warning] feature_fraction is set=0.4307774047555758, colsample_bytree=1.0 will be ignored. Current value: feature_fraction=0.4307774047555758\n",
      "[LightGBM] [Warning] lambda_l2 is set=0.2012642220501286, reg_lambda=0.0 will be ignored. Current value: lambda_l2=0.2012642220501286\n"
     ]
    },
    {
     "name": "stderr",
     "output_type": "stream",
     "text": [
      " 56%|█████▌    | 56/100 [20:50<17:14, 23.50s/it]"
     ]
    },
    {
     "name": "stdout",
     "output_type": "stream",
     "text": [
      "[LightGBM] [Warning] lambda_l1 is set=1.815327684394496, reg_alpha=0.0 will be ignored. Current value: lambda_l1=1.815327684394496\n",
      "[LightGBM] [Warning] bagging_fraction is set=0.21774814214525, subsample=1.0 will be ignored. Current value: bagging_fraction=0.21774814214525\n",
      "[LightGBM] [Warning] feature_fraction is set=0.4307774047555758, colsample_bytree=1.0 will be ignored. Current value: feature_fraction=0.4307774047555758\n",
      "[LightGBM] [Warning] lambda_l2 is set=0.2012642220501286, reg_lambda=0.0 will be ignored. Current value: lambda_l2=0.2012642220501286\n"
     ]
    },
    {
     "name": "stderr",
     "output_type": "stream",
     "text": [
      " 57%|█████▋    | 57/100 [21:14<16:48, 23.44s/it]"
     ]
    },
    {
     "name": "stdout",
     "output_type": "stream",
     "text": [
      "[LightGBM] [Warning] lambda_l1 is set=1.815327684394496, reg_alpha=0.0 will be ignored. Current value: lambda_l1=1.815327684394496\n",
      "[LightGBM] [Warning] bagging_fraction is set=0.21774814214525, subsample=1.0 will be ignored. Current value: bagging_fraction=0.21774814214525\n",
      "[LightGBM] [Warning] feature_fraction is set=0.4307774047555758, colsample_bytree=1.0 will be ignored. Current value: feature_fraction=0.4307774047555758\n",
      "[LightGBM] [Warning] lambda_l2 is set=0.2012642220501286, reg_lambda=0.0 will be ignored. Current value: lambda_l2=0.2012642220501286\n"
     ]
    },
    {
     "name": "stderr",
     "output_type": "stream",
     "text": [
      " 58%|█████▊    | 58/100 [21:37<16:18, 23.31s/it]"
     ]
    },
    {
     "name": "stdout",
     "output_type": "stream",
     "text": [
      "[LightGBM] [Warning] lambda_l1 is set=1.815327684394496, reg_alpha=0.0 will be ignored. Current value: lambda_l1=1.815327684394496\n",
      "[LightGBM] [Warning] bagging_fraction is set=0.21774814214525, subsample=1.0 will be ignored. Current value: bagging_fraction=0.21774814214525\n",
      "[LightGBM] [Warning] feature_fraction is set=0.4307774047555758, colsample_bytree=1.0 will be ignored. Current value: feature_fraction=0.4307774047555758\n",
      "[LightGBM] [Warning] lambda_l2 is set=0.2012642220501286, reg_lambda=0.0 will be ignored. Current value: lambda_l2=0.2012642220501286\n"
     ]
    },
    {
     "name": "stderr",
     "output_type": "stream",
     "text": [
      " 59%|█████▉    | 59/100 [22:00<15:56, 23.32s/it]"
     ]
    },
    {
     "name": "stdout",
     "output_type": "stream",
     "text": [
      "[LightGBM] [Warning] lambda_l1 is set=1.815327684394496, reg_alpha=0.0 will be ignored. Current value: lambda_l1=1.815327684394496\n",
      "[LightGBM] [Warning] bagging_fraction is set=0.21774814214525, subsample=1.0 will be ignored. Current value: bagging_fraction=0.21774814214525\n",
      "[LightGBM] [Warning] feature_fraction is set=0.4307774047555758, colsample_bytree=1.0 will be ignored. Current value: feature_fraction=0.4307774047555758\n",
      "[LightGBM] [Warning] lambda_l2 is set=0.2012642220501286, reg_lambda=0.0 will be ignored. Current value: lambda_l2=0.2012642220501286\n"
     ]
    },
    {
     "name": "stderr",
     "output_type": "stream",
     "text": [
      " 60%|██████    | 60/100 [22:23<15:28, 23.22s/it]"
     ]
    },
    {
     "name": "stdout",
     "output_type": "stream",
     "text": [
      "[LightGBM] [Warning] lambda_l1 is set=1.815327684394496, reg_alpha=0.0 will be ignored. Current value: lambda_l1=1.815327684394496\n",
      "[LightGBM] [Warning] bagging_fraction is set=0.21774814214525, subsample=1.0 will be ignored. Current value: bagging_fraction=0.21774814214525\n",
      "[LightGBM] [Warning] feature_fraction is set=0.4307774047555758, colsample_bytree=1.0 will be ignored. Current value: feature_fraction=0.4307774047555758\n",
      "[LightGBM] [Warning] lambda_l2 is set=0.2012642220501286, reg_lambda=0.0 will be ignored. Current value: lambda_l2=0.2012642220501286\n"
     ]
    },
    {
     "name": "stderr",
     "output_type": "stream",
     "text": [
      " 61%|██████    | 61/100 [22:46<15:06, 23.24s/it]"
     ]
    },
    {
     "name": "stdout",
     "output_type": "stream",
     "text": [
      "[LightGBM] [Warning] lambda_l1 is set=1.815327684394496, reg_alpha=0.0 will be ignored. Current value: lambda_l1=1.815327684394496\n",
      "[LightGBM] [Warning] bagging_fraction is set=0.21774814214525, subsample=1.0 will be ignored. Current value: bagging_fraction=0.21774814214525\n",
      "[LightGBM] [Warning] feature_fraction is set=0.4307774047555758, colsample_bytree=1.0 will be ignored. Current value: feature_fraction=0.4307774047555758\n",
      "[LightGBM] [Warning] lambda_l2 is set=0.2012642220501286, reg_lambda=0.0 will be ignored. Current value: lambda_l2=0.2012642220501286\n"
     ]
    },
    {
     "name": "stderr",
     "output_type": "stream",
     "text": [
      " 62%|██████▏   | 62/100 [23:15<15:40, 24.75s/it]"
     ]
    },
    {
     "name": "stdout",
     "output_type": "stream",
     "text": [
      "[LightGBM] [Warning] lambda_l1 is set=1.815327684394496, reg_alpha=0.0 will be ignored. Current value: lambda_l1=1.815327684394496\n",
      "[LightGBM] [Warning] bagging_fraction is set=0.21774814214525, subsample=1.0 will be ignored. Current value: bagging_fraction=0.21774814214525\n",
      "[LightGBM] [Warning] feature_fraction is set=0.4307774047555758, colsample_bytree=1.0 will be ignored. Current value: feature_fraction=0.4307774047555758\n",
      "[LightGBM] [Warning] lambda_l2 is set=0.2012642220501286, reg_lambda=0.0 will be ignored. Current value: lambda_l2=0.2012642220501286\n"
     ]
    },
    {
     "name": "stderr",
     "output_type": "stream",
     "text": [
      " 63%|██████▎   | 63/100 [23:38<15:01, 24.36s/it]"
     ]
    },
    {
     "name": "stdout",
     "output_type": "stream",
     "text": [
      "[LightGBM] [Warning] lambda_l1 is set=1.815327684394496, reg_alpha=0.0 will be ignored. Current value: lambda_l1=1.815327684394496\n",
      "[LightGBM] [Warning] bagging_fraction is set=0.21774814214525, subsample=1.0 will be ignored. Current value: bagging_fraction=0.21774814214525\n",
      "[LightGBM] [Warning] feature_fraction is set=0.4307774047555758, colsample_bytree=1.0 will be ignored. Current value: feature_fraction=0.4307774047555758\n",
      "[LightGBM] [Warning] lambda_l2 is set=0.2012642220501286, reg_lambda=0.0 will be ignored. Current value: lambda_l2=0.2012642220501286\n"
     ]
    },
    {
     "name": "stderr",
     "output_type": "stream",
     "text": [
      " 64%|██████▍   | 64/100 [24:01<14:23, 24.00s/it]"
     ]
    },
    {
     "name": "stdout",
     "output_type": "stream",
     "text": [
      "[LightGBM] [Warning] lambda_l1 is set=1.815327684394496, reg_alpha=0.0 will be ignored. Current value: lambda_l1=1.815327684394496\n",
      "[LightGBM] [Warning] bagging_fraction is set=0.21774814214525, subsample=1.0 will be ignored. Current value: bagging_fraction=0.21774814214525\n",
      "[LightGBM] [Warning] feature_fraction is set=0.4307774047555758, colsample_bytree=1.0 will be ignored. Current value: feature_fraction=0.4307774047555758\n",
      "[LightGBM] [Warning] lambda_l2 is set=0.2012642220501286, reg_lambda=0.0 will be ignored. Current value: lambda_l2=0.2012642220501286\n"
     ]
    },
    {
     "name": "stderr",
     "output_type": "stream",
     "text": [
      " 65%|██████▌   | 65/100 [24:25<13:56, 23.89s/it]"
     ]
    },
    {
     "name": "stdout",
     "output_type": "stream",
     "text": [
      "[LightGBM] [Warning] lambda_l1 is set=1.815327684394496, reg_alpha=0.0 will be ignored. Current value: lambda_l1=1.815327684394496\n",
      "[LightGBM] [Warning] bagging_fraction is set=0.21774814214525, subsample=1.0 will be ignored. Current value: bagging_fraction=0.21774814214525\n",
      "[LightGBM] [Warning] feature_fraction is set=0.4307774047555758, colsample_bytree=1.0 will be ignored. Current value: feature_fraction=0.4307774047555758\n",
      "[LightGBM] [Warning] lambda_l2 is set=0.2012642220501286, reg_lambda=0.0 will be ignored. Current value: lambda_l2=0.2012642220501286\n"
     ]
    },
    {
     "name": "stderr",
     "output_type": "stream",
     "text": [
      " 66%|██████▌   | 66/100 [24:48<13:27, 23.76s/it]"
     ]
    },
    {
     "name": "stdout",
     "output_type": "stream",
     "text": [
      "[LightGBM] [Warning] lambda_l1 is set=1.815327684394496, reg_alpha=0.0 will be ignored. Current value: lambda_l1=1.815327684394496\n",
      "[LightGBM] [Warning] bagging_fraction is set=0.21774814214525, subsample=1.0 will be ignored. Current value: bagging_fraction=0.21774814214525\n",
      "[LightGBM] [Warning] feature_fraction is set=0.4307774047555758, colsample_bytree=1.0 will be ignored. Current value: feature_fraction=0.4307774047555758\n",
      "[LightGBM] [Warning] lambda_l2 is set=0.2012642220501286, reg_lambda=0.0 will be ignored. Current value: lambda_l2=0.2012642220501286\n"
     ]
    },
    {
     "name": "stderr",
     "output_type": "stream",
     "text": [
      " 67%|██████▋   | 67/100 [25:12<13:06, 23.82s/it]"
     ]
    },
    {
     "name": "stdout",
     "output_type": "stream",
     "text": [
      "[LightGBM] [Warning] lambda_l1 is set=1.815327684394496, reg_alpha=0.0 will be ignored. Current value: lambda_l1=1.815327684394496\n",
      "[LightGBM] [Warning] bagging_fraction is set=0.21774814214525, subsample=1.0 will be ignored. Current value: bagging_fraction=0.21774814214525\n",
      "[LightGBM] [Warning] feature_fraction is set=0.4307774047555758, colsample_bytree=1.0 will be ignored. Current value: feature_fraction=0.4307774047555758\n",
      "[LightGBM] [Warning] lambda_l2 is set=0.2012642220501286, reg_lambda=0.0 will be ignored. Current value: lambda_l2=0.2012642220501286\n"
     ]
    },
    {
     "name": "stderr",
     "output_type": "stream",
     "text": [
      " 68%|██████▊   | 68/100 [25:35<12:34, 23.56s/it]"
     ]
    },
    {
     "name": "stdout",
     "output_type": "stream",
     "text": [
      "[LightGBM] [Warning] lambda_l1 is set=1.815327684394496, reg_alpha=0.0 will be ignored. Current value: lambda_l1=1.815327684394496\n",
      "[LightGBM] [Warning] bagging_fraction is set=0.21774814214525, subsample=1.0 will be ignored. Current value: bagging_fraction=0.21774814214525\n",
      "[LightGBM] [Warning] feature_fraction is set=0.4307774047555758, colsample_bytree=1.0 will be ignored. Current value: feature_fraction=0.4307774047555758\n",
      "[LightGBM] [Warning] lambda_l2 is set=0.2012642220501286, reg_lambda=0.0 will be ignored. Current value: lambda_l2=0.2012642220501286\n"
     ]
    },
    {
     "name": "stderr",
     "output_type": "stream",
     "text": [
      " 69%|██████▉   | 69/100 [25:58<12:06, 23.44s/it]"
     ]
    },
    {
     "name": "stdout",
     "output_type": "stream",
     "text": [
      "[LightGBM] [Warning] lambda_l1 is set=1.815327684394496, reg_alpha=0.0 will be ignored. Current value: lambda_l1=1.815327684394496\n",
      "[LightGBM] [Warning] bagging_fraction is set=0.21774814214525, subsample=1.0 will be ignored. Current value: bagging_fraction=0.21774814214525\n",
      "[LightGBM] [Warning] feature_fraction is set=0.4307774047555758, colsample_bytree=1.0 will be ignored. Current value: feature_fraction=0.4307774047555758\n",
      "[LightGBM] [Warning] lambda_l2 is set=0.2012642220501286, reg_lambda=0.0 will be ignored. Current value: lambda_l2=0.2012642220501286\n"
     ]
    },
    {
     "name": "stderr",
     "output_type": "stream",
     "text": [
      " 70%|███████   | 70/100 [26:26<12:16, 24.56s/it]"
     ]
    },
    {
     "name": "stdout",
     "output_type": "stream",
     "text": [
      "[LightGBM] [Warning] lambda_l1 is set=1.815327684394496, reg_alpha=0.0 will be ignored. Current value: lambda_l1=1.815327684394496\n",
      "[LightGBM] [Warning] bagging_fraction is set=0.21774814214525, subsample=1.0 will be ignored. Current value: bagging_fraction=0.21774814214525\n",
      "[LightGBM] [Warning] feature_fraction is set=0.4307774047555758, colsample_bytree=1.0 will be ignored. Current value: feature_fraction=0.4307774047555758\n",
      "[LightGBM] [Warning] lambda_l2 is set=0.2012642220501286, reg_lambda=0.0 will be ignored. Current value: lambda_l2=0.2012642220501286\n"
     ]
    },
    {
     "name": "stderr",
     "output_type": "stream",
     "text": [
      " 71%|███████   | 71/100 [26:48<11:35, 23.99s/it]"
     ]
    },
    {
     "name": "stdout",
     "output_type": "stream",
     "text": [
      "[LightGBM] [Warning] lambda_l1 is set=1.815327684394496, reg_alpha=0.0 will be ignored. Current value: lambda_l1=1.815327684394496\n",
      "[LightGBM] [Warning] bagging_fraction is set=0.21774814214525, subsample=1.0 will be ignored. Current value: bagging_fraction=0.21774814214525\n",
      "[LightGBM] [Warning] feature_fraction is set=0.4307774047555758, colsample_bytree=1.0 will be ignored. Current value: feature_fraction=0.4307774047555758\n",
      "[LightGBM] [Warning] lambda_l2 is set=0.2012642220501286, reg_lambda=0.0 will be ignored. Current value: lambda_l2=0.2012642220501286\n"
     ]
    },
    {
     "name": "stderr",
     "output_type": "stream",
     "text": [
      " 72%|███████▏  | 72/100 [27:12<11:12, 24.00s/it]"
     ]
    },
    {
     "name": "stdout",
     "output_type": "stream",
     "text": [
      "[LightGBM] [Warning] lambda_l1 is set=1.815327684394496, reg_alpha=0.0 will be ignored. Current value: lambda_l1=1.815327684394496\n",
      "[LightGBM] [Warning] bagging_fraction is set=0.21774814214525, subsample=1.0 will be ignored. Current value: bagging_fraction=0.21774814214525\n",
      "[LightGBM] [Warning] feature_fraction is set=0.4307774047555758, colsample_bytree=1.0 will be ignored. Current value: feature_fraction=0.4307774047555758\n",
      "[LightGBM] [Warning] lambda_l2 is set=0.2012642220501286, reg_lambda=0.0 will be ignored. Current value: lambda_l2=0.2012642220501286\n"
     ]
    },
    {
     "name": "stderr",
     "output_type": "stream",
     "text": [
      " 73%|███████▎  | 73/100 [27:35<10:37, 23.62s/it]"
     ]
    },
    {
     "name": "stdout",
     "output_type": "stream",
     "text": [
      "[LightGBM] [Warning] lambda_l1 is set=1.815327684394496, reg_alpha=0.0 will be ignored. Current value: lambda_l1=1.815327684394496\n",
      "[LightGBM] [Warning] bagging_fraction is set=0.21774814214525, subsample=1.0 will be ignored. Current value: bagging_fraction=0.21774814214525\n",
      "[LightGBM] [Warning] feature_fraction is set=0.4307774047555758, colsample_bytree=1.0 will be ignored. Current value: feature_fraction=0.4307774047555758\n",
      "[LightGBM] [Warning] lambda_l2 is set=0.2012642220501286, reg_lambda=0.0 will be ignored. Current value: lambda_l2=0.2012642220501286\n"
     ]
    },
    {
     "name": "stderr",
     "output_type": "stream",
     "text": [
      " 74%|███████▍  | 74/100 [27:58<10:05, 23.31s/it]"
     ]
    },
    {
     "name": "stdout",
     "output_type": "stream",
     "text": [
      "[LightGBM] [Warning] lambda_l1 is set=1.815327684394496, reg_alpha=0.0 will be ignored. Current value: lambda_l1=1.815327684394496\n",
      "[LightGBM] [Warning] bagging_fraction is set=0.21774814214525, subsample=1.0 will be ignored. Current value: bagging_fraction=0.21774814214525\n",
      "[LightGBM] [Warning] feature_fraction is set=0.4307774047555758, colsample_bytree=1.0 will be ignored. Current value: feature_fraction=0.4307774047555758\n",
      "[LightGBM] [Warning] lambda_l2 is set=0.2012642220501286, reg_lambda=0.0 will be ignored. Current value: lambda_l2=0.2012642220501286\n"
     ]
    },
    {
     "name": "stderr",
     "output_type": "stream",
     "text": [
      " 75%|███████▌  | 75/100 [28:20<09:38, 23.13s/it]"
     ]
    },
    {
     "name": "stdout",
     "output_type": "stream",
     "text": [
      "[LightGBM] [Warning] lambda_l1 is set=1.815327684394496, reg_alpha=0.0 will be ignored. Current value: lambda_l1=1.815327684394496\n",
      "[LightGBM] [Warning] bagging_fraction is set=0.21774814214525, subsample=1.0 will be ignored. Current value: bagging_fraction=0.21774814214525\n",
      "[LightGBM] [Warning] feature_fraction is set=0.4307774047555758, colsample_bytree=1.0 will be ignored. Current value: feature_fraction=0.4307774047555758\n",
      "[LightGBM] [Warning] lambda_l2 is set=0.2012642220501286, reg_lambda=0.0 will be ignored. Current value: lambda_l2=0.2012642220501286\n"
     ]
    },
    {
     "name": "stderr",
     "output_type": "stream",
     "text": [
      " 76%|███████▌  | 76/100 [28:41<09:00, 22.51s/it]"
     ]
    },
    {
     "name": "stdout",
     "output_type": "stream",
     "text": [
      "[LightGBM] [Warning] lambda_l1 is set=1.815327684394496, reg_alpha=0.0 will be ignored. Current value: lambda_l1=1.815327684394496\n",
      "[LightGBM] [Warning] bagging_fraction is set=0.21774814214525, subsample=1.0 will be ignored. Current value: bagging_fraction=0.21774814214525\n",
      "[LightGBM] [Warning] feature_fraction is set=0.4307774047555758, colsample_bytree=1.0 will be ignored. Current value: feature_fraction=0.4307774047555758\n",
      "[LightGBM] [Warning] lambda_l2 is set=0.2012642220501286, reg_lambda=0.0 will be ignored. Current value: lambda_l2=0.2012642220501286\n"
     ]
    },
    {
     "name": "stderr",
     "output_type": "stream",
     "text": [
      " 77%|███████▋  | 77/100 [29:08<09:05, 23.71s/it]"
     ]
    },
    {
     "name": "stdout",
     "output_type": "stream",
     "text": [
      "[LightGBM] [Warning] lambda_l1 is set=1.815327684394496, reg_alpha=0.0 will be ignored. Current value: lambda_l1=1.815327684394496\n",
      "[LightGBM] [Warning] bagging_fraction is set=0.21774814214525, subsample=1.0 will be ignored. Current value: bagging_fraction=0.21774814214525\n",
      "[LightGBM] [Warning] feature_fraction is set=0.4307774047555758, colsample_bytree=1.0 will be ignored. Current value: feature_fraction=0.4307774047555758\n",
      "[LightGBM] [Warning] lambda_l2 is set=0.2012642220501286, reg_lambda=0.0 will be ignored. Current value: lambda_l2=0.2012642220501286\n"
     ]
    },
    {
     "name": "stderr",
     "output_type": "stream",
     "text": [
      " 78%|███████▊  | 78/100 [29:31<08:35, 23.45s/it]"
     ]
    },
    {
     "name": "stdout",
     "output_type": "stream",
     "text": [
      "[LightGBM] [Warning] lambda_l1 is set=1.815327684394496, reg_alpha=0.0 will be ignored. Current value: lambda_l1=1.815327684394496\n",
      "[LightGBM] [Warning] bagging_fraction is set=0.21774814214525, subsample=1.0 will be ignored. Current value: bagging_fraction=0.21774814214525\n",
      "[LightGBM] [Warning] feature_fraction is set=0.4307774047555758, colsample_bytree=1.0 will be ignored. Current value: feature_fraction=0.4307774047555758\n",
      "[LightGBM] [Warning] lambda_l2 is set=0.2012642220501286, reg_lambda=0.0 will be ignored. Current value: lambda_l2=0.2012642220501286\n"
     ]
    },
    {
     "name": "stderr",
     "output_type": "stream",
     "text": [
      " 79%|███████▉  | 79/100 [29:55<08:16, 23.63s/it]"
     ]
    },
    {
     "name": "stdout",
     "output_type": "stream",
     "text": [
      "[LightGBM] [Warning] lambda_l1 is set=1.815327684394496, reg_alpha=0.0 will be ignored. Current value: lambda_l1=1.815327684394496\n",
      "[LightGBM] [Warning] bagging_fraction is set=0.21774814214525, subsample=1.0 will be ignored. Current value: bagging_fraction=0.21774814214525\n",
      "[LightGBM] [Warning] feature_fraction is set=0.4307774047555758, colsample_bytree=1.0 will be ignored. Current value: feature_fraction=0.4307774047555758\n",
      "[LightGBM] [Warning] lambda_l2 is set=0.2012642220501286, reg_lambda=0.0 will be ignored. Current value: lambda_l2=0.2012642220501286\n"
     ]
    },
    {
     "name": "stderr",
     "output_type": "stream",
     "text": [
      " 80%|████████  | 80/100 [30:18<07:48, 23.41s/it]"
     ]
    },
    {
     "name": "stdout",
     "output_type": "stream",
     "text": [
      "[LightGBM] [Warning] lambda_l1 is set=1.815327684394496, reg_alpha=0.0 will be ignored. Current value: lambda_l1=1.815327684394496\n",
      "[LightGBM] [Warning] bagging_fraction is set=0.21774814214525, subsample=1.0 will be ignored. Current value: bagging_fraction=0.21774814214525\n",
      "[LightGBM] [Warning] feature_fraction is set=0.4307774047555758, colsample_bytree=1.0 will be ignored. Current value: feature_fraction=0.4307774047555758\n",
      "[LightGBM] [Warning] lambda_l2 is set=0.2012642220501286, reg_lambda=0.0 will be ignored. Current value: lambda_l2=0.2012642220501286\n"
     ]
    },
    {
     "name": "stderr",
     "output_type": "stream",
     "text": [
      " 81%|████████  | 81/100 [30:41<07:22, 23.29s/it]"
     ]
    },
    {
     "name": "stdout",
     "output_type": "stream",
     "text": [
      "[LightGBM] [Warning] lambda_l1 is set=1.815327684394496, reg_alpha=0.0 will be ignored. Current value: lambda_l1=1.815327684394496\n",
      "[LightGBM] [Warning] bagging_fraction is set=0.21774814214525, subsample=1.0 will be ignored. Current value: bagging_fraction=0.21774814214525\n",
      "[LightGBM] [Warning] feature_fraction is set=0.4307774047555758, colsample_bytree=1.0 will be ignored. Current value: feature_fraction=0.4307774047555758\n",
      "[LightGBM] [Warning] lambda_l2 is set=0.2012642220501286, reg_lambda=0.0 will be ignored. Current value: lambda_l2=0.2012642220501286\n"
     ]
    },
    {
     "name": "stderr",
     "output_type": "stream",
     "text": [
      " 82%|████████▏ | 82/100 [31:03<06:56, 23.14s/it]"
     ]
    },
    {
     "name": "stdout",
     "output_type": "stream",
     "text": [
      "[LightGBM] [Warning] lambda_l1 is set=1.815327684394496, reg_alpha=0.0 will be ignored. Current value: lambda_l1=1.815327684394496\n",
      "[LightGBM] [Warning] bagging_fraction is set=0.21774814214525, subsample=1.0 will be ignored. Current value: bagging_fraction=0.21774814214525\n",
      "[LightGBM] [Warning] feature_fraction is set=0.4307774047555758, colsample_bytree=1.0 will be ignored. Current value: feature_fraction=0.4307774047555758\n",
      "[LightGBM] [Warning] lambda_l2 is set=0.2012642220501286, reg_lambda=0.0 will be ignored. Current value: lambda_l2=0.2012642220501286\n"
     ]
    },
    {
     "name": "stderr",
     "output_type": "stream",
     "text": [
      " 83%|████████▎ | 83/100 [31:24<06:22, 22.51s/it]"
     ]
    },
    {
     "name": "stdout",
     "output_type": "stream",
     "text": [
      "[LightGBM] [Warning] lambda_l1 is set=1.815327684394496, reg_alpha=0.0 will be ignored. Current value: lambda_l1=1.815327684394496\n",
      "[LightGBM] [Warning] bagging_fraction is set=0.21774814214525, subsample=1.0 will be ignored. Current value: bagging_fraction=0.21774814214525\n",
      "[LightGBM] [Warning] feature_fraction is set=0.4307774047555758, colsample_bytree=1.0 will be ignored. Current value: feature_fraction=0.4307774047555758\n",
      "[LightGBM] [Warning] lambda_l2 is set=0.2012642220501286, reg_lambda=0.0 will be ignored. Current value: lambda_l2=0.2012642220501286\n"
     ]
    },
    {
     "name": "stderr",
     "output_type": "stream",
     "text": [
      " 84%|████████▍ | 84/100 [31:48<06:06, 22.90s/it]"
     ]
    },
    {
     "name": "stdout",
     "output_type": "stream",
     "text": [
      "[LightGBM] [Warning] lambda_l1 is set=1.815327684394496, reg_alpha=0.0 will be ignored. Current value: lambda_l1=1.815327684394496\n",
      "[LightGBM] [Warning] bagging_fraction is set=0.21774814214525, subsample=1.0 will be ignored. Current value: bagging_fraction=0.21774814214525\n",
      "[LightGBM] [Warning] feature_fraction is set=0.4307774047555758, colsample_bytree=1.0 will be ignored. Current value: feature_fraction=0.4307774047555758\n",
      "[LightGBM] [Warning] lambda_l2 is set=0.2012642220501286, reg_lambda=0.0 will be ignored. Current value: lambda_l2=0.2012642220501286\n"
     ]
    },
    {
     "name": "stderr",
     "output_type": "stream",
     "text": [
      " 85%|████████▌ | 85/100 [32:16<06:03, 24.27s/it]"
     ]
    },
    {
     "name": "stdout",
     "output_type": "stream",
     "text": [
      "[LightGBM] [Warning] lambda_l1 is set=1.815327684394496, reg_alpha=0.0 will be ignored. Current value: lambda_l1=1.815327684394496\n",
      "[LightGBM] [Warning] bagging_fraction is set=0.21774814214525, subsample=1.0 will be ignored. Current value: bagging_fraction=0.21774814214525\n",
      "[LightGBM] [Warning] feature_fraction is set=0.4307774047555758, colsample_bytree=1.0 will be ignored. Current value: feature_fraction=0.4307774047555758\n",
      "[LightGBM] [Warning] lambda_l2 is set=0.2012642220501286, reg_lambda=0.0 will be ignored. Current value: lambda_l2=0.2012642220501286\n"
     ]
    },
    {
     "name": "stderr",
     "output_type": "stream",
     "text": [
      " 86%|████████▌ | 86/100 [32:38<05:29, 23.57s/it]"
     ]
    },
    {
     "name": "stdout",
     "output_type": "stream",
     "text": [
      "[LightGBM] [Warning] lambda_l1 is set=1.815327684394496, reg_alpha=0.0 will be ignored. Current value: lambda_l1=1.815327684394496\n",
      "[LightGBM] [Warning] bagging_fraction is set=0.21774814214525, subsample=1.0 will be ignored. Current value: bagging_fraction=0.21774814214525\n",
      "[LightGBM] [Warning] feature_fraction is set=0.4307774047555758, colsample_bytree=1.0 will be ignored. Current value: feature_fraction=0.4307774047555758\n",
      "[LightGBM] [Warning] lambda_l2 is set=0.2012642220501286, reg_lambda=0.0 will be ignored. Current value: lambda_l2=0.2012642220501286\n"
     ]
    },
    {
     "name": "stderr",
     "output_type": "stream",
     "text": [
      " 87%|████████▋ | 87/100 [32:58<04:54, 22.63s/it]"
     ]
    },
    {
     "name": "stdout",
     "output_type": "stream",
     "text": [
      "[LightGBM] [Warning] lambda_l1 is set=1.815327684394496, reg_alpha=0.0 will be ignored. Current value: lambda_l1=1.815327684394496\n",
      "[LightGBM] [Warning] bagging_fraction is set=0.21774814214525, subsample=1.0 will be ignored. Current value: bagging_fraction=0.21774814214525\n",
      "[LightGBM] [Warning] feature_fraction is set=0.4307774047555758, colsample_bytree=1.0 will be ignored. Current value: feature_fraction=0.4307774047555758\n",
      "[LightGBM] [Warning] lambda_l2 is set=0.2012642220501286, reg_lambda=0.0 will be ignored. Current value: lambda_l2=0.2012642220501286\n"
     ]
    },
    {
     "name": "stderr",
     "output_type": "stream",
     "text": [
      " 88%|████████▊ | 88/100 [33:20<04:29, 22.44s/it]"
     ]
    },
    {
     "name": "stdout",
     "output_type": "stream",
     "text": [
      "[LightGBM] [Warning] lambda_l1 is set=1.815327684394496, reg_alpha=0.0 will be ignored. Current value: lambda_l1=1.815327684394496\n",
      "[LightGBM] [Warning] bagging_fraction is set=0.21774814214525, subsample=1.0 will be ignored. Current value: bagging_fraction=0.21774814214525\n",
      "[LightGBM] [Warning] feature_fraction is set=0.4307774047555758, colsample_bytree=1.0 will be ignored. Current value: feature_fraction=0.4307774047555758\n",
      "[LightGBM] [Warning] lambda_l2 is set=0.2012642220501286, reg_lambda=0.0 will be ignored. Current value: lambda_l2=0.2012642220501286\n"
     ]
    },
    {
     "name": "stderr",
     "output_type": "stream",
     "text": [
      " 89%|████████▉ | 89/100 [33:43<04:07, 22.53s/it]"
     ]
    },
    {
     "name": "stdout",
     "output_type": "stream",
     "text": [
      "[LightGBM] [Warning] lambda_l1 is set=1.815327684394496, reg_alpha=0.0 will be ignored. Current value: lambda_l1=1.815327684394496\n",
      "[LightGBM] [Warning] bagging_fraction is set=0.21774814214525, subsample=1.0 will be ignored. Current value: bagging_fraction=0.21774814214525\n",
      "[LightGBM] [Warning] feature_fraction is set=0.4307774047555758, colsample_bytree=1.0 will be ignored. Current value: feature_fraction=0.4307774047555758\n",
      "[LightGBM] [Warning] lambda_l2 is set=0.2012642220501286, reg_lambda=0.0 will be ignored. Current value: lambda_l2=0.2012642220501286\n"
     ]
    },
    {
     "name": "stderr",
     "output_type": "stream",
     "text": [
      " 90%|█████████ | 90/100 [34:06<03:47, 22.77s/it]"
     ]
    },
    {
     "name": "stdout",
     "output_type": "stream",
     "text": [
      "[LightGBM] [Warning] lambda_l1 is set=1.815327684394496, reg_alpha=0.0 will be ignored. Current value: lambda_l1=1.815327684394496\n",
      "[LightGBM] [Warning] bagging_fraction is set=0.21774814214525, subsample=1.0 will be ignored. Current value: bagging_fraction=0.21774814214525\n",
      "[LightGBM] [Warning] feature_fraction is set=0.4307774047555758, colsample_bytree=1.0 will be ignored. Current value: feature_fraction=0.4307774047555758\n",
      "[LightGBM] [Warning] lambda_l2 is set=0.2012642220501286, reg_lambda=0.0 will be ignored. Current value: lambda_l2=0.2012642220501286\n"
     ]
    },
    {
     "name": "stderr",
     "output_type": "stream",
     "text": [
      " 91%|█████████ | 91/100 [34:29<03:24, 22.73s/it]"
     ]
    },
    {
     "name": "stdout",
     "output_type": "stream",
     "text": [
      "[LightGBM] [Warning] lambda_l1 is set=1.815327684394496, reg_alpha=0.0 will be ignored. Current value: lambda_l1=1.815327684394496\n",
      "[LightGBM] [Warning] bagging_fraction is set=0.21774814214525, subsample=1.0 will be ignored. Current value: bagging_fraction=0.21774814214525\n",
      "[LightGBM] [Warning] feature_fraction is set=0.4307774047555758, colsample_bytree=1.0 will be ignored. Current value: feature_fraction=0.4307774047555758\n",
      "[LightGBM] [Warning] lambda_l2 is set=0.2012642220501286, reg_lambda=0.0 will be ignored. Current value: lambda_l2=0.2012642220501286\n"
     ]
    },
    {
     "name": "stderr",
     "output_type": "stream",
     "text": [
      " 92%|█████████▏| 92/100 [34:52<03:02, 22.81s/it]"
     ]
    },
    {
     "name": "stdout",
     "output_type": "stream",
     "text": [
      "[LightGBM] [Warning] lambda_l1 is set=1.815327684394496, reg_alpha=0.0 will be ignored. Current value: lambda_l1=1.815327684394496\n",
      "[LightGBM] [Warning] bagging_fraction is set=0.21774814214525, subsample=1.0 will be ignored. Current value: bagging_fraction=0.21774814214525\n",
      "[LightGBM] [Warning] feature_fraction is set=0.4307774047555758, colsample_bytree=1.0 will be ignored. Current value: feature_fraction=0.4307774047555758\n",
      "[LightGBM] [Warning] lambda_l2 is set=0.2012642220501286, reg_lambda=0.0 will be ignored. Current value: lambda_l2=0.2012642220501286\n"
     ]
    },
    {
     "name": "stderr",
     "output_type": "stream",
     "text": [
      " 93%|█████████▎| 93/100 [35:20<02:50, 24.34s/it]"
     ]
    },
    {
     "name": "stdout",
     "output_type": "stream",
     "text": [
      "[LightGBM] [Warning] lambda_l1 is set=1.815327684394496, reg_alpha=0.0 will be ignored. Current value: lambda_l1=1.815327684394496\n",
      "[LightGBM] [Warning] bagging_fraction is set=0.21774814214525, subsample=1.0 will be ignored. Current value: bagging_fraction=0.21774814214525\n",
      "[LightGBM] [Warning] feature_fraction is set=0.4307774047555758, colsample_bytree=1.0 will be ignored. Current value: feature_fraction=0.4307774047555758\n",
      "[LightGBM] [Warning] lambda_l2 is set=0.2012642220501286, reg_lambda=0.0 will be ignored. Current value: lambda_l2=0.2012642220501286\n"
     ]
    },
    {
     "name": "stderr",
     "output_type": "stream",
     "text": [
      " 94%|█████████▍| 94/100 [35:43<02:23, 23.99s/it]"
     ]
    },
    {
     "name": "stdout",
     "output_type": "stream",
     "text": [
      "[LightGBM] [Warning] lambda_l1 is set=1.815327684394496, reg_alpha=0.0 will be ignored. Current value: lambda_l1=1.815327684394496\n",
      "[LightGBM] [Warning] bagging_fraction is set=0.21774814214525, subsample=1.0 will be ignored. Current value: bagging_fraction=0.21774814214525\n",
      "[LightGBM] [Warning] feature_fraction is set=0.4307774047555758, colsample_bytree=1.0 will be ignored. Current value: feature_fraction=0.4307774047555758\n",
      "[LightGBM] [Warning] lambda_l2 is set=0.2012642220501286, reg_lambda=0.0 will be ignored. Current value: lambda_l2=0.2012642220501286\n"
     ]
    },
    {
     "name": "stderr",
     "output_type": "stream",
     "text": [
      " 95%|█████████▌| 95/100 [36:06<01:58, 23.62s/it]"
     ]
    },
    {
     "name": "stdout",
     "output_type": "stream",
     "text": [
      "[LightGBM] [Warning] lambda_l1 is set=1.815327684394496, reg_alpha=0.0 will be ignored. Current value: lambda_l1=1.815327684394496\n",
      "[LightGBM] [Warning] bagging_fraction is set=0.21774814214525, subsample=1.0 will be ignored. Current value: bagging_fraction=0.21774814214525\n",
      "[LightGBM] [Warning] feature_fraction is set=0.4307774047555758, colsample_bytree=1.0 will be ignored. Current value: feature_fraction=0.4307774047555758\n",
      "[LightGBM] [Warning] lambda_l2 is set=0.2012642220501286, reg_lambda=0.0 will be ignored. Current value: lambda_l2=0.2012642220501286\n"
     ]
    },
    {
     "name": "stderr",
     "output_type": "stream",
     "text": [
      " 96%|█████████▌| 96/100 [36:26<01:30, 22.68s/it]"
     ]
    },
    {
     "name": "stdout",
     "output_type": "stream",
     "text": [
      "[LightGBM] [Warning] lambda_l1 is set=1.815327684394496, reg_alpha=0.0 will be ignored. Current value: lambda_l1=1.815327684394496\n",
      "[LightGBM] [Warning] bagging_fraction is set=0.21774814214525, subsample=1.0 will be ignored. Current value: bagging_fraction=0.21774814214525\n",
      "[LightGBM] [Warning] feature_fraction is set=0.4307774047555758, colsample_bytree=1.0 will be ignored. Current value: feature_fraction=0.4307774047555758\n",
      "[LightGBM] [Warning] lambda_l2 is set=0.2012642220501286, reg_lambda=0.0 will be ignored. Current value: lambda_l2=0.2012642220501286\n"
     ]
    },
    {
     "name": "stderr",
     "output_type": "stream",
     "text": [
      " 97%|█████████▋| 97/100 [36:46<01:05, 21.86s/it]"
     ]
    },
    {
     "name": "stdout",
     "output_type": "stream",
     "text": [
      "[LightGBM] [Warning] lambda_l1 is set=1.815327684394496, reg_alpha=0.0 will be ignored. Current value: lambda_l1=1.815327684394496\n",
      "[LightGBM] [Warning] bagging_fraction is set=0.21774814214525, subsample=1.0 will be ignored. Current value: bagging_fraction=0.21774814214525\n",
      "[LightGBM] [Warning] feature_fraction is set=0.4307774047555758, colsample_bytree=1.0 will be ignored. Current value: feature_fraction=0.4307774047555758\n",
      "[LightGBM] [Warning] lambda_l2 is set=0.2012642220501286, reg_lambda=0.0 will be ignored. Current value: lambda_l2=0.2012642220501286\n"
     ]
    },
    {
     "name": "stderr",
     "output_type": "stream",
     "text": [
      " 98%|█████████▊| 98/100 [37:07<00:42, 21.48s/it]"
     ]
    },
    {
     "name": "stdout",
     "output_type": "stream",
     "text": [
      "[LightGBM] [Warning] lambda_l1 is set=1.815327684394496, reg_alpha=0.0 will be ignored. Current value: lambda_l1=1.815327684394496\n",
      "[LightGBM] [Warning] bagging_fraction is set=0.21774814214525, subsample=1.0 will be ignored. Current value: bagging_fraction=0.21774814214525\n",
      "[LightGBM] [Warning] feature_fraction is set=0.4307774047555758, colsample_bytree=1.0 will be ignored. Current value: feature_fraction=0.4307774047555758\n",
      "[LightGBM] [Warning] lambda_l2 is set=0.2012642220501286, reg_lambda=0.0 will be ignored. Current value: lambda_l2=0.2012642220501286\n"
     ]
    },
    {
     "name": "stderr",
     "output_type": "stream",
     "text": [
      " 99%|█████████▉| 99/100 [37:30<00:21, 21.93s/it]"
     ]
    },
    {
     "name": "stdout",
     "output_type": "stream",
     "text": [
      "[LightGBM] [Warning] lambda_l1 is set=1.815327684394496, reg_alpha=0.0 will be ignored. Current value: lambda_l1=1.815327684394496\n",
      "[LightGBM] [Warning] bagging_fraction is set=0.21774814214525, subsample=1.0 will be ignored. Current value: bagging_fraction=0.21774814214525\n",
      "[LightGBM] [Warning] feature_fraction is set=0.4307774047555758, colsample_bytree=1.0 will be ignored. Current value: feature_fraction=0.4307774047555758\n",
      "[LightGBM] [Warning] lambda_l2 is set=0.2012642220501286, reg_lambda=0.0 will be ignored. Current value: lambda_l2=0.2012642220501286\n"
     ]
    },
    {
     "name": "stderr",
     "output_type": "stream",
     "text": [
      "100%|██████████| 100/100 [37:52<00:00, 22.73s/it]\n",
      "/tmp/ipykernel_10046/2614677942.py:37: SettingWithCopyWarning: \n",
      "A value is trying to be set on a copy of a slice from a DataFrame.\n",
      "Try using .loc[row_indexer,col_indexer] = value instead\n",
      "\n",
      "See the caveats in the documentation: https://pandas.pydata.org/pandas-docs/stable/user_guide/indexing.html#returning-a-view-versus-a-copy\n",
      "  dup_pred['booking_status_dup'] = 1 - dup_pred['booking_status_dup']\n"
     ]
    },
    {
     "data": {
      "text/html": [
       "<div>\n",
       "<style scoped>\n",
       "    .dataframe tbody tr th:only-of-type {\n",
       "        vertical-align: middle;\n",
       "    }\n",
       "\n",
       "    .dataframe tbody tr th {\n",
       "        vertical-align: top;\n",
       "    }\n",
       "\n",
       "    .dataframe thead th {\n",
       "        text-align: right;\n",
       "    }\n",
       "</style>\n",
       "<table border=\"1\" class=\"dataframe\">\n",
       "  <thead>\n",
       "    <tr style=\"text-align: right;\">\n",
       "      <th></th>\n",
       "      <th>id</th>\n",
       "      <th>lgb</th>\n",
       "    </tr>\n",
       "  </thead>\n",
       "  <tbody>\n",
       "    <tr>\n",
       "      <th>0</th>\n",
       "      <td>42100</td>\n",
       "      <td>0.060219</td>\n",
       "    </tr>\n",
       "    <tr>\n",
       "      <th>1</th>\n",
       "      <td>42101</td>\n",
       "      <td>0.081466</td>\n",
       "    </tr>\n",
       "    <tr>\n",
       "      <th>2</th>\n",
       "      <td>42102</td>\n",
       "      <td>0.326648</td>\n",
       "    </tr>\n",
       "    <tr>\n",
       "      <th>3</th>\n",
       "      <td>42103</td>\n",
       "      <td>0.029949</td>\n",
       "    </tr>\n",
       "    <tr>\n",
       "      <th>4</th>\n",
       "      <td>42104</td>\n",
       "      <td>0.589078</td>\n",
       "    </tr>\n",
       "  </tbody>\n",
       "</table>\n",
       "</div>"
      ],
      "text/plain": [
       "      id       lgb\n",
       "0  42100  0.060219\n",
       "1  42101  0.081466\n",
       "2  42102  0.326648\n",
       "3  42103  0.029949\n",
       "4  42104  0.589078"
      ]
     },
     "execution_count": 7,
     "metadata": {},
     "output_type": "execute_result"
    }
   ],
   "source": [
    "X_lgb = train_clean[['type_of_meal_plan', 'required_car_parking_space', 'room_type_reserved',\n",
    "                     'lead_time', 'arrival_year', 'arrival_month', 'arrival_date', 'market_segment_type',\n",
    "                     'repeated_guest', 'no_of_previous_bookings_not_canceled', 'avg_price_per_room', \n",
    "                     'no_of_special_requests', 'segment_1', 'total_guests', 'stay_length', 'stay_during_weekend',\n",
    "                     'quarter_2', 'quarter_3', 'segment_1_feature_1', 'price_lead_time_flag']]\n",
    "Y = train_clean['booking_status']\n",
    "\n",
    "test_lgb = test_clean[['type_of_meal_plan', 'required_car_parking_space', 'room_type_reserved',\n",
    "                     'lead_time', 'arrival_year', 'arrival_month', 'arrival_date', 'market_segment_type',\n",
    "                     'repeated_guest', 'no_of_previous_bookings_not_canceled', 'avg_price_per_room', \n",
    "                     'no_of_special_requests', 'segment_1', 'total_guests', 'stay_length', 'stay_during_weekend',\n",
    "                     'quarter_2', 'quarter_3', 'segment_1_feature_1', 'price_lead_time_flag']]\n",
    "\n",
    "preds = list()\n",
    "\n",
    "for i in tqdm(range(0, 100)):\n",
    "\n",
    "    lgb_md = LGBMClassifier(boosting_type = 'gbdt', \n",
    "                        n_estimators = 8743,\n",
    "                        learning_rate = 0.005503197021026835,\n",
    "                        max_depth = 11,\n",
    "                        lambda_l1 = 1.815327684394496,\n",
    "                        lambda_l2 = 0.2012642220501286,\n",
    "                        num_leaves = 27,\n",
    "                        bagging_fraction = 0.21774814214525,\n",
    "                        feature_fraction = 0.4307774047555758,\n",
    "                        random_state = i).fit(X_lgb, Y)\n",
    "    \n",
    "    preds.append(lgb_md.predict_proba(test_lgb)[:, 1])\n",
    "\n",
    "lgb_pred_test = pd.DataFrame(preds).apply(np.mean, axis = 0)\n",
    "clean_pred = pd.DataFrame({'id': test_clean['id']})\n",
    "clean_pred['booking_status_clean'] = lgb_pred_test\n",
    "\n",
    "dup_pred = duplicates[['id_y', 'booking_status']]\n",
    "dup_pred.columns = ['id', 'booking_status_dup']\n",
    "dup_pred['booking_status_dup'] = 1 - dup_pred['booking_status_dup']\n",
    "\n",
    "submission = pd.merge(submission.drop(columns = 'booking_status', axis = 1), clean_pred, on = 'id', how = 'left')\n",
    "submission = pd.merge(submission, dup_pred, on = 'id', how = 'left')\n",
    "submission['booking_status'] = np.where(np.isnan(submission['booking_status_clean']), submission['booking_status_dup'], submission['booking_status_clean'])\n",
    "submission.drop(columns = ['booking_status_clean', 'booking_status_dup'], axis = 1, inplace = True)\n",
    "\n",
    "lgb_sub = submission.copy()\n",
    "lgb_sub.columns = ['id', 'lgb']\n",
    "lgb_sub.head()"
   ]
  },
  {
   "cell_type": "code",
   "execution_count": 8,
   "id": "ca3f5856",
   "metadata": {},
   "outputs": [
    {
     "name": "stderr",
     "output_type": "stream",
     "text": [
      "100%|██████████| 10/10 [02:39<00:00, 15.95s/it]\n",
      "/tmp/ipykernel_10046/1557399692.py:38: SettingWithCopyWarning: \n",
      "A value is trying to be set on a copy of a slice from a DataFrame.\n",
      "Try using .loc[row_indexer,col_indexer] = value instead\n",
      "\n",
      "See the caveats in the documentation: https://pandas.pydata.org/pandas-docs/stable/user_guide/indexing.html#returning-a-view-versus-a-copy\n",
      "  dup_pred['booking_status_dup'] = 1 - dup_pred['booking_status_dup']\n"
     ]
    },
    {
     "data": {
      "text/html": [
       "<div>\n",
       "<style scoped>\n",
       "    .dataframe tbody tr th:only-of-type {\n",
       "        vertical-align: middle;\n",
       "    }\n",
       "\n",
       "    .dataframe tbody tr th {\n",
       "        vertical-align: top;\n",
       "    }\n",
       "\n",
       "    .dataframe thead th {\n",
       "        text-align: right;\n",
       "    }\n",
       "</style>\n",
       "<table border=\"1\" class=\"dataframe\">\n",
       "  <thead>\n",
       "    <tr style=\"text-align: right;\">\n",
       "      <th></th>\n",
       "      <th>id</th>\n",
       "      <th>cat</th>\n",
       "    </tr>\n",
       "  </thead>\n",
       "  <tbody>\n",
       "    <tr>\n",
       "      <th>0</th>\n",
       "      <td>42100</td>\n",
       "      <td>0.069672</td>\n",
       "    </tr>\n",
       "    <tr>\n",
       "      <th>1</th>\n",
       "      <td>42101</td>\n",
       "      <td>0.115494</td>\n",
       "    </tr>\n",
       "    <tr>\n",
       "      <th>2</th>\n",
       "      <td>42102</td>\n",
       "      <td>0.259006</td>\n",
       "    </tr>\n",
       "    <tr>\n",
       "      <th>3</th>\n",
       "      <td>42103</td>\n",
       "      <td>0.027250</td>\n",
       "    </tr>\n",
       "    <tr>\n",
       "      <th>4</th>\n",
       "      <td>42104</td>\n",
       "      <td>0.654640</td>\n",
       "    </tr>\n",
       "  </tbody>\n",
       "</table>\n",
       "</div>"
      ],
      "text/plain": [
       "      id       cat\n",
       "0  42100  0.069672\n",
       "1  42101  0.115494\n",
       "2  42102  0.259006\n",
       "3  42103  0.027250\n",
       "4  42104  0.654640"
      ]
     },
     "execution_count": 8,
     "metadata": {},
     "output_type": "execute_result"
    }
   ],
   "source": [
    "X_cat = train_clean[['type_of_meal_plan', 'required_car_parking_space', 'room_type_reserved',\n",
    "                     'lead_time', 'arrival_year', 'arrival_month', 'arrival_date', 'market_segment_type',\n",
    "                     'repeated_guest', 'avg_price_per_room', \n",
    "                     'no_of_special_requests', 'total_guests', 'stay_length', 'stay_during_weekend',\n",
    "                     'segment_0_feature_1', 'segment_1_feature_1', 'segment_1_year_flag', 'price_lead_time_flag']]\n",
    "Y = train_clean['booking_status']\n",
    "\n",
    "test_cat = test_clean[['type_of_meal_plan', 'required_car_parking_space', 'room_type_reserved',\n",
    "                     'lead_time', 'arrival_year', 'arrival_month', 'arrival_date', 'market_segment_type',\n",
    "                     'repeated_guest', 'avg_price_per_room', \n",
    "                     'no_of_special_requests', 'total_guests', 'stay_length', 'stay_during_weekend',\n",
    "                     'segment_0_feature_1', 'segment_1_feature_1', 'segment_1_year_flag', 'price_lead_time_flag']]\n",
    "\n",
    "preds = list()\n",
    "\n",
    "for i in tqdm(range(0, 10)):\n",
    "\n",
    "    cat_md = CatBoostClassifier(loss_function = 'Logloss',\n",
    "                            eval_metric = 'AUC',\n",
    "                            iterations = 3287,\n",
    "                            learning_rate = 0.06487165843182341,\n",
    "                            depth = 5,\n",
    "                            random_strength = 0.34199641155092914,\n",
    "                            bagging_temperature = 0.81496844524381,\n",
    "                            border_count = 255,\n",
    "                            l2_leaf_reg = 25,\n",
    "                            random_seed = i,    \n",
    "                            verbose = False).fit(X_cat, Y)\n",
    "\n",
    "    preds.append(cat_md.predict_proba(test_cat)[:, 1])\n",
    "\n",
    "cat_pred_test = pd.DataFrame(preds).apply(np.mean, axis = 0)\n",
    "clean_pred = pd.DataFrame({'id': test_clean['id']})\n",
    "clean_pred['booking_status_clean'] = cat_pred_test\n",
    "\n",
    "dup_pred = duplicates[['id_y', 'booking_status']]\n",
    "dup_pred.columns = ['id', 'booking_status_dup']\n",
    "dup_pred['booking_status_dup'] = 1 - dup_pred['booking_status_dup']\n",
    "\n",
    "submission = pd.merge(submission.drop(columns = 'booking_status', axis = 1), clean_pred, on = 'id', how = 'left')\n",
    "submission = pd.merge(submission, dup_pred, on = 'id', how = 'left')\n",
    "submission['booking_status'] = np.where(np.isnan(submission['booking_status_clean']), submission['booking_status_dup'], submission['booking_status_clean'])\n",
    "submission.drop(columns = ['booking_status_clean', 'booking_status_dup'], axis = 1, inplace = True)\n",
    "\n",
    "cat_sub = submission.copy()\n",
    "cat_sub.columns = ['id', 'cat']\n",
    "cat_sub.head()"
   ]
  },
  {
   "cell_type": "code",
   "execution_count": 9,
   "id": "fd9c3691",
   "metadata": {},
   "outputs": [
    {
     "data": {
      "text/html": [
       "<div>\n",
       "<style scoped>\n",
       "    .dataframe tbody tr th:only-of-type {\n",
       "        vertical-align: middle;\n",
       "    }\n",
       "\n",
       "    .dataframe tbody tr th {\n",
       "        vertical-align: top;\n",
       "    }\n",
       "\n",
       "    .dataframe thead th {\n",
       "        text-align: right;\n",
       "    }\n",
       "</style>\n",
       "<table border=\"1\" class=\"dataframe\">\n",
       "  <thead>\n",
       "    <tr style=\"text-align: right;\">\n",
       "      <th></th>\n",
       "      <th>id</th>\n",
       "      <th>xgb</th>\n",
       "      <th>lgb</th>\n",
       "      <th>cat</th>\n",
       "    </tr>\n",
       "  </thead>\n",
       "  <tbody>\n",
       "    <tr>\n",
       "      <th>0</th>\n",
       "      <td>42100</td>\n",
       "      <td>0.109704</td>\n",
       "      <td>0.060219</td>\n",
       "      <td>0.069672</td>\n",
       "    </tr>\n",
       "    <tr>\n",
       "      <th>1</th>\n",
       "      <td>42101</td>\n",
       "      <td>0.095307</td>\n",
       "      <td>0.081466</td>\n",
       "      <td>0.115494</td>\n",
       "    </tr>\n",
       "    <tr>\n",
       "      <th>2</th>\n",
       "      <td>42102</td>\n",
       "      <td>0.348856</td>\n",
       "      <td>0.326648</td>\n",
       "      <td>0.259006</td>\n",
       "    </tr>\n",
       "    <tr>\n",
       "      <th>3</th>\n",
       "      <td>42103</td>\n",
       "      <td>0.030804</td>\n",
       "      <td>0.029949</td>\n",
       "      <td>0.027250</td>\n",
       "    </tr>\n",
       "    <tr>\n",
       "      <th>4</th>\n",
       "      <td>42104</td>\n",
       "      <td>0.480270</td>\n",
       "      <td>0.589078</td>\n",
       "      <td>0.654640</td>\n",
       "    </tr>\n",
       "  </tbody>\n",
       "</table>\n",
       "</div>"
      ],
      "text/plain": [
       "      id       xgb       lgb       cat\n",
       "0  42100  0.109704  0.060219  0.069672\n",
       "1  42101  0.095307  0.081466  0.115494\n",
       "2  42102  0.348856  0.326648  0.259006\n",
       "3  42103  0.030804  0.029949  0.027250\n",
       "4  42104  0.480270  0.589078  0.654640"
      ]
     },
     "execution_count": 9,
     "metadata": {},
     "output_type": "execute_result"
    }
   ],
   "source": [
    "submission = pd.merge(xgb_sub, lgb_sub, on = 'id')\n",
    "submission = pd.merge(submission, cat_sub, on = 'id')\n",
    "submission.head()"
   ]
  },
  {
   "cell_type": "code",
   "execution_count": 10,
   "id": "973b6404",
   "metadata": {},
   "outputs": [
    {
     "data": {
      "text/html": [
       "<div>\n",
       "<style scoped>\n",
       "    .dataframe tbody tr th:only-of-type {\n",
       "        vertical-align: middle;\n",
       "    }\n",
       "\n",
       "    .dataframe tbody tr th {\n",
       "        vertical-align: top;\n",
       "    }\n",
       "\n",
       "    .dataframe thead th {\n",
       "        text-align: right;\n",
       "    }\n",
       "</style>\n",
       "<table border=\"1\" class=\"dataframe\">\n",
       "  <thead>\n",
       "    <tr style=\"text-align: right;\">\n",
       "      <th></th>\n",
       "      <th>id</th>\n",
       "      <th>booking_status</th>\n",
       "    </tr>\n",
       "  </thead>\n",
       "  <tbody>\n",
       "    <tr>\n",
       "      <th>0</th>\n",
       "      <td>42100</td>\n",
       "      <td>0.079865</td>\n",
       "    </tr>\n",
       "    <tr>\n",
       "      <th>1</th>\n",
       "      <td>42101</td>\n",
       "      <td>0.097422</td>\n",
       "    </tr>\n",
       "    <tr>\n",
       "      <th>2</th>\n",
       "      <td>42102</td>\n",
       "      <td>0.311503</td>\n",
       "    </tr>\n",
       "    <tr>\n",
       "      <th>3</th>\n",
       "      <td>42103</td>\n",
       "      <td>0.029335</td>\n",
       "    </tr>\n",
       "    <tr>\n",
       "      <th>4</th>\n",
       "      <td>42104</td>\n",
       "      <td>0.574663</td>\n",
       "    </tr>\n",
       "  </tbody>\n",
       "</table>\n",
       "</div>"
      ],
      "text/plain": [
       "      id  booking_status\n",
       "0  42100        0.079865\n",
       "1  42101        0.097422\n",
       "2  42102        0.311503\n",
       "3  42103        0.029335\n",
       "4  42104        0.574663"
      ]
     },
     "execution_count": 10,
     "metadata": {},
     "output_type": "execute_result"
    }
   ],
   "source": [
    "submission['booking_status'] = (submission['xgb'] + submission['lgb'] + submission['cat']) / 3\n",
    "submission.drop(columns = ['xgb', 'lgb', 'cat'], axis = 1, inplace = True)\n",
    "submission.head()"
   ]
  },
  {
   "cell_type": "code",
   "execution_count": 11,
   "id": "93088e9c",
   "metadata": {},
   "outputs": [],
   "source": [
    "submission.to_csv('ensemble_full_data_100.csv', index = False)"
   ]
  }
 ],
 "metadata": {
  "kernelspec": {
   "display_name": "conda_python3",
   "language": "python",
   "name": "conda_python3"
  },
  "language_info": {
   "codemirror_mode": {
    "name": "ipython",
    "version": 3
   },
   "file_extension": ".py",
   "mimetype": "text/x-python",
   "name": "python",
   "nbconvert_exporter": "python",
   "pygments_lexer": "ipython3",
   "version": "3.10.6"
  }
 },
 "nbformat": 4,
 "nbformat_minor": 5
}
