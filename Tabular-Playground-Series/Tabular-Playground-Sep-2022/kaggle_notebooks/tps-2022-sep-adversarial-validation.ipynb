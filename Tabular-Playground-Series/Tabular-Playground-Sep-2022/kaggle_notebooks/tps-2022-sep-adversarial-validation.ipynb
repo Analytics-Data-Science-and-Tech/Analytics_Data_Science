{
 "cells": [
  {
   "cell_type": "markdown",
   "id": "eea2cd89",
   "metadata": {
    "papermill": {
     "duration": 0.006787,
     "end_time": "2022-09-05T19:25:28.513916",
     "exception": false,
     "start_time": "2022-09-05T19:25:28.507129",
     "status": "completed"
    },
    "tags": []
   },
   "source": [
    "<b><h2>What we are going to do in this notebook : -</h2></b>\n",
    "\n",
    "**First we are going to discuss about LB and then how to divide the test set into Public LB and Private LB and then do Adversarial Validation on both test sets with the trainsets .**\n",
    "\n",
    "If you find any mistake I have made here then Please report that in the coments.\n",
    "\n",
    "<font color='red'>**If you like this notebook then Plese Upvote :)**"
   ]
  },
  {
   "cell_type": "code",
   "execution_count": 1,
   "id": "f05dc258",
   "metadata": {
    "_cell_guid": "b1076dfc-b9ad-4769-8c92-a6c4dae69d19",
    "_uuid": "8f2839f25d086af736a60e9eeb907d3b93b6e0e5",
    "execution": {
     "iopub.execute_input": "2022-09-05T19:25:28.528314Z",
     "iopub.status.busy": "2022-09-05T19:25:28.527731Z",
     "iopub.status.idle": "2022-09-05T19:25:28.542377Z",
     "shell.execute_reply": "2022-09-05T19:25:28.541539Z"
    },
    "papermill": {
     "duration": 0.02464,
     "end_time": "2022-09-05T19:25:28.545332",
     "exception": false,
     "start_time": "2022-09-05T19:25:28.520692",
     "status": "completed"
    },
    "tags": []
   },
   "outputs": [],
   "source": [
    "import os\n",
    "import numpy as np \n",
    "import pandas as pd \n",
    "\n",
    "pd.set_option(\"max_columns\", 500)\n",
    "pd.set_option(\"max_rows\", 500)"
   ]
  },
  {
   "cell_type": "code",
   "execution_count": 2,
   "id": "2c7597a2",
   "metadata": {
    "execution": {
     "iopub.execute_input": "2022-09-05T19:25:28.563515Z",
     "iopub.status.busy": "2022-09-05T19:25:28.563072Z",
     "iopub.status.idle": "2022-09-05T19:25:28.745165Z",
     "shell.execute_reply": "2022-09-05T19:25:28.743978Z"
    },
    "papermill": {
     "duration": 0.195558,
     "end_time": "2022-09-05T19:25:28.749070",
     "exception": false,
     "start_time": "2022-09-05T19:25:28.553512",
     "status": "completed"
    },
    "tags": []
   },
   "outputs": [
    {
     "name": "stdout",
     "output_type": "stream",
     "text": [
      "(70128, 5) (17520, 5)\n"
     ]
    }
   ],
   "source": [
    "train = pd.read_csv(\"../input/tabular-playground-series-sep-2022/train.csv\")\n",
    "test = pd.read_csv(\"../input/tabular-playground-series-sep-2022/test.csv\")\n",
    "train['date'] = pd.to_datetime(train['date'])\n",
    "test['date'] = pd.to_datetime(test['date'])\n",
    "\n",
    "train = train.drop([\"num_sold\"], axis=1)\n",
    "print(train.shape, test.shape)"
   ]
  },
  {
   "cell_type": "code",
   "execution_count": 3,
   "id": "54117df7",
   "metadata": {
    "execution": {
     "iopub.execute_input": "2022-09-05T19:25:28.763833Z",
     "iopub.status.busy": "2022-09-05T19:25:28.762026Z",
     "iopub.status.idle": "2022-09-05T19:25:28.784249Z",
     "shell.execute_reply": "2022-09-05T19:25:28.783255Z"
    },
    "papermill": {
     "duration": 0.03149,
     "end_time": "2022-09-05T19:25:28.786748",
     "exception": false,
     "start_time": "2022-09-05T19:25:28.755258",
     "status": "completed"
    },
    "tags": []
   },
   "outputs": [
    {
     "data": {
      "text/html": [
       "<div>\n",
       "<style scoped>\n",
       "    .dataframe tbody tr th:only-of-type {\n",
       "        vertical-align: middle;\n",
       "    }\n",
       "\n",
       "    .dataframe tbody tr th {\n",
       "        vertical-align: top;\n",
       "    }\n",
       "\n",
       "    .dataframe thead th {\n",
       "        text-align: right;\n",
       "    }\n",
       "</style>\n",
       "<table border=\"1\" class=\"dataframe\">\n",
       "  <thead>\n",
       "    <tr style=\"text-align: right;\">\n",
       "      <th></th>\n",
       "      <th>row_id</th>\n",
       "      <th>date</th>\n",
       "      <th>country</th>\n",
       "      <th>store</th>\n",
       "      <th>product</th>\n",
       "    </tr>\n",
       "  </thead>\n",
       "  <tbody>\n",
       "    <tr>\n",
       "      <th>0</th>\n",
       "      <td>0</td>\n",
       "      <td>2017-01-01</td>\n",
       "      <td>Belgium</td>\n",
       "      <td>KaggleMart</td>\n",
       "      <td>Kaggle Advanced Techniques</td>\n",
       "    </tr>\n",
       "    <tr>\n",
       "      <th>1</th>\n",
       "      <td>1</td>\n",
       "      <td>2017-01-01</td>\n",
       "      <td>Belgium</td>\n",
       "      <td>KaggleMart</td>\n",
       "      <td>Kaggle Getting Started</td>\n",
       "    </tr>\n",
       "    <tr>\n",
       "      <th>2</th>\n",
       "      <td>2</td>\n",
       "      <td>2017-01-01</td>\n",
       "      <td>Belgium</td>\n",
       "      <td>KaggleMart</td>\n",
       "      <td>Kaggle Recipe Book</td>\n",
       "    </tr>\n",
       "    <tr>\n",
       "      <th>3</th>\n",
       "      <td>3</td>\n",
       "      <td>2017-01-01</td>\n",
       "      <td>Belgium</td>\n",
       "      <td>KaggleMart</td>\n",
       "      <td>Kaggle for Kids: One Smart Goose</td>\n",
       "    </tr>\n",
       "    <tr>\n",
       "      <th>4</th>\n",
       "      <td>4</td>\n",
       "      <td>2017-01-01</td>\n",
       "      <td>Belgium</td>\n",
       "      <td>KaggleRama</td>\n",
       "      <td>Kaggle Advanced Techniques</td>\n",
       "    </tr>\n",
       "  </tbody>\n",
       "</table>\n",
       "</div>"
      ],
      "text/plain": [
       "   row_id       date  country       store                           product\n",
       "0       0 2017-01-01  Belgium  KaggleMart        Kaggle Advanced Techniques\n",
       "1       1 2017-01-01  Belgium  KaggleMart            Kaggle Getting Started\n",
       "2       2 2017-01-01  Belgium  KaggleMart                Kaggle Recipe Book\n",
       "3       3 2017-01-01  Belgium  KaggleMart  Kaggle for Kids: One Smart Goose\n",
       "4       4 2017-01-01  Belgium  KaggleRama        Kaggle Advanced Techniques"
      ]
     },
     "execution_count": 3,
     "metadata": {},
     "output_type": "execute_result"
    }
   ],
   "source": [
    "train.head(5)"
   ]
  },
  {
   "cell_type": "markdown",
   "id": "fd4bc799",
   "metadata": {
    "papermill": {
     "duration": 0.005105,
     "end_time": "2022-09-05T19:25:28.797410",
     "exception": false,
     "start_time": "2022-09-05T19:25:28.792305",
     "status": "completed"
    },
    "tags": []
   },
   "source": [
    "There are two versions of Leaderboards in Kaggle Competitions :\n",
    "1. <b><u>Public LB : </u></b> This is the Leaderboard which is available to us during any competition, it consists of a portion of a test set, (In this competition this is 25% of the total test data)\n",
    "\n",
    "2. <b><u>Private LB : </u></b> This is the Leaderboard which is available to us after the competition ends, it decides who wins the Medals and final points.(In this competition this is 75% of the total test data)\n",
    "\n",
    "Most of the time(specially in tougher competitions) the distributions between Public and Private LBs are set to be different, in those times despite getting a higher position during the competition sometimes results in getting a very lower position at the end of the competition. It depends on the submissions you choose as final 2. (1)If the Private LB is more like Public LB then you may choose the best 2 LB solutions as your final 2 but if it's not the case,(2) If the Private LB is completely different from Public LB then it's better to choose the submissions with BEST local CVs."
   ]
  },
  {
   "cell_type": "markdown",
   "id": "0f471d23",
   "metadata": {
    "papermill": {
     "duration": 0.004948,
     "end_time": "2022-09-05T19:25:28.807736",
     "exception": false,
     "start_time": "2022-09-05T19:25:28.802788",
     "status": "completed"
    },
    "tags": []
   },
   "source": [
    "**How will we detect if both of the LBs are alike or not?**\n",
    "\n",
    "1) In `Non-Code` competitions it's relatively easier since we are already given the sample_submission & test file, we have to split the test set in a way that it resembles the public-private set ratio(given at the top of the LB webpage).\n",
    "\n",
    "2) Then we just submit the sample_submission file to Kaggle(unchanged) and note down the score we get as `base_score`.\n",
    "\n",
    "3) After we have chosen the splits, we need to replace the private submission part as a higher number as 999 and keep the public part same(as the sample_submission file) and then submit to Kaggle, and then compare the score we get to the`base_score`. If both scores are same then comgrats you have successfully identified the splits!!!\n",
    "\n",
    "**Why does it work?**\n",
    "\n",
    "Since the LB will only show us the result of Public Set it won't mind the 999 values we have put in the private submission part as long as we have ONLY modified the private part."
   ]
  },
  {
   "cell_type": "code",
   "execution_count": 4,
   "id": "1570127c",
   "metadata": {
    "execution": {
     "iopub.execute_input": "2022-09-05T19:25:28.820457Z",
     "iopub.status.busy": "2022-09-05T19:25:28.819728Z",
     "iopub.status.idle": "2022-09-05T19:25:28.832359Z",
     "shell.execute_reply": "2022-09-05T19:25:28.831551Z"
    },
    "papermill": {
     "duration": 0.021294,
     "end_time": "2022-09-05T19:25:28.834302",
     "exception": false,
     "start_time": "2022-09-05T19:25:28.813008",
     "status": "completed"
    },
    "tags": []
   },
   "outputs": [
    {
     "name": "stdout",
     "output_type": "stream",
     "text": [
      "(17520, 5)\n"
     ]
    },
    {
     "data": {
      "text/html": [
       "<div>\n",
       "<style scoped>\n",
       "    .dataframe tbody tr th:only-of-type {\n",
       "        vertical-align: middle;\n",
       "    }\n",
       "\n",
       "    .dataframe tbody tr th {\n",
       "        vertical-align: top;\n",
       "    }\n",
       "\n",
       "    .dataframe thead th {\n",
       "        text-align: right;\n",
       "    }\n",
       "</style>\n",
       "<table border=\"1\" class=\"dataframe\">\n",
       "  <thead>\n",
       "    <tr style=\"text-align: right;\">\n",
       "      <th></th>\n",
       "      <th>row_id</th>\n",
       "      <th>date</th>\n",
       "      <th>country</th>\n",
       "      <th>store</th>\n",
       "      <th>product</th>\n",
       "    </tr>\n",
       "  </thead>\n",
       "  <tbody>\n",
       "    <tr>\n",
       "      <th>0</th>\n",
       "      <td>70128</td>\n",
       "      <td>2021-01-01</td>\n",
       "      <td>Belgium</td>\n",
       "      <td>KaggleMart</td>\n",
       "      <td>Kaggle Advanced Techniques</td>\n",
       "    </tr>\n",
       "    <tr>\n",
       "      <th>1</th>\n",
       "      <td>70129</td>\n",
       "      <td>2021-01-01</td>\n",
       "      <td>Belgium</td>\n",
       "      <td>KaggleMart</td>\n",
       "      <td>Kaggle Getting Started</td>\n",
       "    </tr>\n",
       "    <tr>\n",
       "      <th>2</th>\n",
       "      <td>70130</td>\n",
       "      <td>2021-01-01</td>\n",
       "      <td>Belgium</td>\n",
       "      <td>KaggleMart</td>\n",
       "      <td>Kaggle Recipe Book</td>\n",
       "    </tr>\n",
       "    <tr>\n",
       "      <th>3</th>\n",
       "      <td>70131</td>\n",
       "      <td>2021-01-01</td>\n",
       "      <td>Belgium</td>\n",
       "      <td>KaggleMart</td>\n",
       "      <td>Kaggle for Kids: One Smart Goose</td>\n",
       "    </tr>\n",
       "    <tr>\n",
       "      <th>4</th>\n",
       "      <td>70132</td>\n",
       "      <td>2021-01-01</td>\n",
       "      <td>Belgium</td>\n",
       "      <td>KaggleRama</td>\n",
       "      <td>Kaggle Advanced Techniques</td>\n",
       "    </tr>\n",
       "  </tbody>\n",
       "</table>\n",
       "</div>"
      ],
      "text/plain": [
       "   row_id       date  country       store                           product\n",
       "0   70128 2021-01-01  Belgium  KaggleMart        Kaggle Advanced Techniques\n",
       "1   70129 2021-01-01  Belgium  KaggleMart            Kaggle Getting Started\n",
       "2   70130 2021-01-01  Belgium  KaggleMart                Kaggle Recipe Book\n",
       "3   70131 2021-01-01  Belgium  KaggleMart  Kaggle for Kids: One Smart Goose\n",
       "4   70132 2021-01-01  Belgium  KaggleRama        Kaggle Advanced Techniques"
      ]
     },
     "execution_count": 4,
     "metadata": {},
     "output_type": "execute_result"
    }
   ],
   "source": [
    "print(test.shape)\n",
    "test.head(5)"
   ]
  },
  {
   "cell_type": "markdown",
   "id": "530cca0b",
   "metadata": {
    "papermill": {
     "duration": 0.005544,
     "end_time": "2022-09-05T19:25:28.845646",
     "exception": false,
     "start_time": "2022-09-05T19:25:28.840102",
     "status": "completed"
    },
    "tags": []
   },
   "source": [
    "**Public-Private Split for this competition**\n",
    "\n",
    "* In this competition we are given a test set of 17520 elements (for 2021, 365 days for each day we have to predict for 6 countries and 8 samples per country)\n",
    "\n",
    "* Since the public set the 25% of the whole data, it means it will contain the elements of 3 months, it's most likely that these 3 months will be consecutive.\n",
    "\n",
    "* I first submitted the sample_submission to get the `base score` : \n",
    "![](https://i.postimg.cc/Vkpw6MnK/Screenshot-2022-09-06-at-00-13-21-Tabular-Playground-Series-Sep-2022-Kaggle.png)\n",
    "\n",
    "* Then I kept first 3 months(JAN-MARCH) same(`num_sold` : 100) and changed the others to 999, and it worked! I got the same score as the sample_submission!\n",
    "![](https://i.postimg.cc/2657KqXf/Screenshot-2022-09-06-at-00-16-37-Tabular-Playground-Series-Sep-2022-Kaggle.png)\n",
    "\n",
    "* To be sure I double checked it with keeping March-May same(`num_sold` : 100) and putting others to 999 and the score increased!\n",
    "![](https://i.postimg.cc/SxNLsYkY/Screenshot-2022-09-06-at-00-18-35-Tabular-Playground-Series-Sep-2022-Kaggle.png)\n",
    "\n",
    "\n",
    "***Which clearly means that the PUBLIC LB IS FROM JAN-MARCH & the PRIVATE LB IS APRIL-DEC***"
   ]
  },
  {
   "cell_type": "code",
   "execution_count": 5,
   "id": "bcc4bfe8",
   "metadata": {
    "execution": {
     "iopub.execute_input": "2022-09-05T19:25:28.859274Z",
     "iopub.status.busy": "2022-09-05T19:25:28.858535Z",
     "iopub.status.idle": "2022-09-05T19:25:28.875332Z",
     "shell.execute_reply": "2022-09-05T19:25:28.873286Z"
    },
    "papermill": {
     "duration": 0.02819,
     "end_time": "2022-09-05T19:25:28.879501",
     "exception": false,
     "start_time": "2022-09-05T19:25:28.851311",
     "status": "completed"
    },
    "tags": []
   },
   "outputs": [
    {
     "name": "stdout",
     "output_type": "stream",
     "text": [
      "(4320, 5) (13200, 5)\n",
      "      row_id       date country       store                           product\n",
      "4315   74443 2021-03-31   Spain  KaggleMart  Kaggle for Kids: One Smart Goose\n",
      "4316   74444 2021-03-31   Spain  KaggleRama        Kaggle Advanced Techniques\n",
      "4317   74445 2021-03-31   Spain  KaggleRama            Kaggle Getting Started\n",
      "4318   74446 2021-03-31   Spain  KaggleRama                Kaggle Recipe Book\n",
      "4319   74447 2021-03-31   Spain  KaggleRama  Kaggle for Kids: One Smart Goose\n",
      "      row_id       date  country       store                           product\n",
      "4320   74448 2021-04-01  Belgium  KaggleMart        Kaggle Advanced Techniques\n",
      "4321   74449 2021-04-01  Belgium  KaggleMart            Kaggle Getting Started\n",
      "4322   74450 2021-04-01  Belgium  KaggleMart                Kaggle Recipe Book\n",
      "4323   74451 2021-04-01  Belgium  KaggleMart  Kaggle for Kids: One Smart Goose\n",
      "4324   74452 2021-04-01  Belgium  KaggleRama        Kaggle Advanced Techniques\n"
     ]
    }
   ],
   "source": [
    "public_test = test[test.date<=\"2021-03-31\"]\n",
    "private_test = test[test.date>=\"2021-04-01\"]\n",
    "\n",
    "print(public_test.shape, private_test.shape)\n",
    "print(public_test.tail(5))\n",
    "print(private_test.head(5))"
   ]
  },
  {
   "cell_type": "markdown",
   "id": "c7fc3101",
   "metadata": {
    "papermill": {
     "duration": 0.005905,
     "end_time": "2022-09-05T19:25:28.891567",
     "exception": false,
     "start_time": "2022-09-05T19:25:28.885662",
     "status": "completed"
    },
    "tags": []
   },
   "source": [
    "ADVERSARIAL VALIDATION\n",
    "\n",
    "* After we have splitted the LB into Public and Private, we need to check if they are different from each other or not.\n",
    "\n",
    "* One way to do it that we can train a classifier to predict the Public and Private sets, (1)If the classifier manages to predict them(AUC close to 1.0) then they are different from each other, (2) Otherwise if the classifier gets score of(AUC close to 0.5-0.6)the sets are so intertwined that the classifier can't also pick them apart! \n",
    "\n",
    "* We can do this for all of them (TrainVSPublic, TrainVSPrivate and PublicVSPrivate) we do this one by one below. \n",
    "\n",
    "* We remove the target variable(num_sold) from train and then combine both sets and then also consider Train set as 0 and Public Set as 1."
   ]
  },
  {
   "cell_type": "markdown",
   "id": "26299ca3",
   "metadata": {
    "papermill": {
     "duration": 0.005825,
     "end_time": "2022-09-05T19:25:28.903354",
     "exception": false,
     "start_time": "2022-09-05T19:25:28.897529",
     "status": "completed"
    },
    "tags": []
   },
   "source": [
    "**TRAIN VS PUBLIC-TEST**"
   ]
  },
  {
   "cell_type": "code",
   "execution_count": 6,
   "id": "efa29e44",
   "metadata": {
    "execution": {
     "iopub.execute_input": "2022-09-05T19:25:28.917114Z",
     "iopub.status.busy": "2022-09-05T19:25:28.916282Z",
     "iopub.status.idle": "2022-09-05T19:25:30.961100Z",
     "shell.execute_reply": "2022-09-05T19:25:30.960136Z"
    },
    "papermill": {
     "duration": 2.054426,
     "end_time": "2022-09-05T19:25:30.963603",
     "exception": false,
     "start_time": "2022-09-05T19:25:28.909177",
     "status": "completed"
    },
    "tags": []
   },
   "outputs": [
    {
     "name": "stdout",
     "output_type": "stream",
     "text": [
      "(74448, 5)\n",
      "        date  country       store                     product  target\n",
      "0 2021-02-26  Germany  KaggleMart  Kaggle Advanced Techniques       1\n",
      "1 2018-04-07  Germany  KaggleMart  Kaggle Advanced Techniques       0\n",
      "2 2017-05-03   Poland  KaggleMart  Kaggle Advanced Techniques       0\n",
      "3 2017-01-04    Italy  KaggleRama  Kaggle Advanced Techniques       0\n",
      "4 2018-11-22   Poland  KaggleMart      Kaggle Getting Started       0\n",
      "0    70128\n",
      "1     4320\n",
      "Name: target, dtype: int64\n",
      "date\n",
      "country\n",
      "store\n",
      "product\n",
      "(59558, 4) (14890, 4) (59558,) (14890,)\n",
      "[0]\tvalidation_0-auc:1.00000\tvalidation_1-auc:1.00000\n",
      "[10]\tvalidation_0-auc:1.00000\tvalidation_1-auc:1.00000\n",
      "[20]\tvalidation_0-auc:1.00000\tvalidation_1-auc:1.00000\n",
      "[30]\tvalidation_0-auc:1.00000\tvalidation_1-auc:1.00000\n",
      "[40]\tvalidation_0-auc:1.00000\tvalidation_1-auc:1.00000\n",
      "[49]\tvalidation_0-auc:1.00000\tvalidation_1-auc:1.00000\n"
     ]
    },
    {
     "data": {
      "text/plain": [
       "XGBClassifier(base_score=0.5, booster='gbtree', callbacks=None,\n",
       "              colsample_bylevel=1, colsample_bynode=1, colsample_bytree=1,\n",
       "              early_stopping_rounds=None, enable_categorical=False,\n",
       "              eval_metric='auc', gamma=0, gpu_id=-1, grow_policy='depthwise',\n",
       "              importance_type=None, interaction_constraints='',\n",
       "              learning_rate=0.300000012, max_bin=256, max_cat_to_onehot=4,\n",
       "              max_delta_step=0, max_depth=6, max_leaves=0, min_child_weight=1,\n",
       "              missing=nan, monotone_constraints='()', n_estimators=50, n_jobs=0,\n",
       "              num_parallel_tree=1, predictor='auto', random_state=0,\n",
       "              reg_alpha=0, reg_lambda=1, ...)"
      ]
     },
     "execution_count": 6,
     "metadata": {},
     "output_type": "execute_result"
    }
   ],
   "source": [
    "# TRAIN : 0\n",
    "# PUBLIC TEST : 1\n",
    "import xgboost as xgb\n",
    "from sklearn.preprocessing import LabelEncoder\n",
    "from sklearn.model_selection import train_test_split\n",
    "\n",
    "tt = pd.concat([train.drop([\"row_id\"], axis=1), public_test.drop([\"row_id\"], axis=1)])\n",
    "tt['target'] = [0]*train.shape[0]+[1]*public_test.shape[0]\n",
    "tt = tt.sample(frac=1.0).reset_index(drop=True)\n",
    "\n",
    "print(tt.shape)\n",
    "print(tt.head(5))\n",
    "print(tt['target'].value_counts())\n",
    "\n",
    "for col in tt.columns:\n",
    "    if col!=\"target\":\n",
    "        print(col)\n",
    "        le = LabelEncoder()\n",
    "        tt.loc[:, col] = le.fit_transform(tt[col])\n",
    "        \n",
    "        \n",
    "# FIT MODEL\n",
    "x_tr, x_val, y_tr, y_val = train_test_split(tt.drop([\"target\"], axis=1), tt[\"target\"],\n",
    "                                           test_size=0.2)\n",
    "print(x_tr.shape, x_val.shape, y_tr.shape, y_val.shape)\n",
    "clf = xgb.XGBClassifier(n_estimators=50,\n",
    "                       eval_metric=\"auc\")\n",
    "clf.fit(x_tr, y_tr,\n",
    "       eval_set=[(x_tr, y_tr), (x_val, y_val)],\n",
    "       verbose=10)"
   ]
  },
  {
   "cell_type": "markdown",
   "id": "091c6bb9",
   "metadata": {
    "papermill": {
     "duration": 0.0059,
     "end_time": "2022-09-05T19:25:30.975873",
     "exception": false,
     "start_time": "2022-09-05T19:25:30.969973",
     "status": "completed"
    },
    "tags": []
   },
   "source": [
    "* We, can see that the score is very high!!! AUC=1.0 but it is all due to the `date` column. Since the date in Train is from `2017-01-01` to `2020-12-31`,  and the `date` in Public Set is from `2021-01-01` to `2021-03-31`. \n",
    "* If we remove it we will see that the datasets are no different from each other, but we must not remove this feature(as we may do in other cases to make these two sets same) since it will make the data useless. But it is still good to know that the sets are same! "
   ]
  },
  {
   "cell_type": "markdown",
   "id": "f7572fd7",
   "metadata": {
    "papermill": {
     "duration": 0.005806,
     "end_time": "2022-09-05T19:25:30.987799",
     "exception": false,
     "start_time": "2022-09-05T19:25:30.981993",
     "status": "completed"
    },
    "tags": []
   },
   "source": [
    "**TRAIN VS PUBLIC-TEST(WITHOUT `DATE`)**"
   ]
  },
  {
   "cell_type": "code",
   "execution_count": 7,
   "id": "7d3d4848",
   "metadata": {
    "execution": {
     "iopub.execute_input": "2022-09-05T19:25:31.003113Z",
     "iopub.status.busy": "2022-09-05T19:25:31.002712Z",
     "iopub.status.idle": "2022-09-05T19:25:31.968058Z",
     "shell.execute_reply": "2022-09-05T19:25:31.967093Z"
    },
    "papermill": {
     "duration": 0.976592,
     "end_time": "2022-09-05T19:25:31.971388",
     "exception": false,
     "start_time": "2022-09-05T19:25:30.994796",
     "status": "completed"
    },
    "tags": []
   },
   "outputs": [
    {
     "name": "stdout",
     "output_type": "stream",
     "text": [
      "(74448, 4)\n",
      "   country       store                     product  target\n",
      "0    Italy  KaggleRama  Kaggle Advanced Techniques       0\n",
      "1   France  KaggleMart      Kaggle Getting Started       0\n",
      "2   Poland  KaggleRama      Kaggle Getting Started       0\n",
      "3  Germany  KaggleMart  Kaggle Advanced Techniques       0\n",
      "4    Italy  KaggleRama      Kaggle Getting Started       0\n",
      "0    70128\n",
      "1     4320\n",
      "Name: target, dtype: int64\n",
      "country\n",
      "store\n",
      "product\n",
      "(59558, 3) (14890, 3) (59558,) (14890,)\n",
      "[0]\tvalidation_0-auc:0.50000\tvalidation_1-auc:0.50000\n",
      "[10]\tvalidation_0-auc:0.51258\tvalidation_1-auc:0.44923\n",
      "[20]\tvalidation_0-auc:0.51441\tvalidation_1-auc:0.44182\n",
      "[30]\tvalidation_0-auc:0.51443\tvalidation_1-auc:0.44173\n",
      "[40]\tvalidation_0-auc:0.51443\tvalidation_1-auc:0.44173\n",
      "[49]\tvalidation_0-auc:0.51443\tvalidation_1-auc:0.44173\n"
     ]
    },
    {
     "data": {
      "text/plain": [
       "XGBClassifier(base_score=0.5, booster='gbtree', callbacks=None,\n",
       "              colsample_bylevel=1, colsample_bynode=1, colsample_bytree=1,\n",
       "              early_stopping_rounds=None, enable_categorical=False,\n",
       "              eval_metric='auc', gamma=0, gpu_id=-1, grow_policy='depthwise',\n",
       "              importance_type=None, interaction_constraints='',\n",
       "              learning_rate=0.300000012, max_bin=256, max_cat_to_onehot=4,\n",
       "              max_delta_step=0, max_depth=6, max_leaves=0, min_child_weight=1,\n",
       "              missing=nan, monotone_constraints='()', n_estimators=50, n_jobs=0,\n",
       "              num_parallel_tree=1, predictor='auto', random_state=0,\n",
       "              reg_alpha=0, reg_lambda=1, ...)"
      ]
     },
     "execution_count": 7,
     "metadata": {},
     "output_type": "execute_result"
    }
   ],
   "source": [
    "# TRAIN : 0\n",
    "# PUBLIC TEST : 1\n",
    "import xgboost as xgb\n",
    "from sklearn.preprocessing import LabelEncoder\n",
    "from sklearn.model_selection import train_test_split\n",
    "\n",
    "tt = pd.concat([train.drop([\"row_id\", \"date\"], axis=1), public_test.drop([\"row_id\", \"date\"], axis=1)])\n",
    "tt['target'] = [0]*train.shape[0]+[1]*public_test.shape[0]\n",
    "tt = tt.sample(frac=1.0).reset_index(drop=True)\n",
    "\n",
    "print(tt.shape)\n",
    "print(tt.head(5))\n",
    "print(tt['target'].value_counts())\n",
    "\n",
    "for col in tt.columns:\n",
    "    if col!=\"target\":\n",
    "        print(col)\n",
    "        le = LabelEncoder()\n",
    "        tt.loc[:, col] = le.fit_transform(tt[col])\n",
    "        \n",
    "        \n",
    "# FIT MODEL\n",
    "x_tr, x_val, y_tr, y_val = train_test_split(tt.drop([\"target\"], axis=1), tt[\"target\"],\n",
    "                                           test_size=0.2)\n",
    "print(x_tr.shape, x_val.shape, y_tr.shape, y_val.shape)\n",
    "clf = xgb.XGBClassifier(n_estimators=50,\n",
    "                       eval_metric=\"auc\")\n",
    "clf.fit(x_tr, y_tr,\n",
    "       eval_set=[(x_tr, y_tr), (x_val, y_val)],\n",
    "       verbose=10)"
   ]
  },
  {
   "cell_type": "markdown",
   "id": "9efd3db9",
   "metadata": {
    "papermill": {
     "duration": 0.00658,
     "end_time": "2022-09-05T19:25:31.985402",
     "exception": false,
     "start_time": "2022-09-05T19:25:31.978822",
     "status": "completed"
    },
    "tags": []
   },
   "source": [
    "**THE OTHER AVs are shown below...**"
   ]
  },
  {
   "cell_type": "markdown",
   "id": "5b3e8d76",
   "metadata": {
    "papermill": {
     "duration": 0.006707,
     "end_time": "2022-09-05T19:25:31.999232",
     "exception": false,
     "start_time": "2022-09-05T19:25:31.992525",
     "status": "completed"
    },
    "tags": []
   },
   "source": [
    "**PUBLIC-TEST VS PRIVATE-TEST(WITHOUT `DATE`)**"
   ]
  },
  {
   "cell_type": "code",
   "execution_count": 8,
   "id": "9fd4a42f",
   "metadata": {
    "execution": {
     "iopub.execute_input": "2022-09-05T19:25:32.015868Z",
     "iopub.status.busy": "2022-09-05T19:25:32.014537Z",
     "iopub.status.idle": "2022-09-05T19:25:32.490410Z",
     "shell.execute_reply": "2022-09-05T19:25:32.489357Z"
    },
    "papermill": {
     "duration": 0.487145,
     "end_time": "2022-09-05T19:25:32.493351",
     "exception": false,
     "start_time": "2022-09-05T19:25:32.006206",
     "status": "completed"
    },
    "tags": []
   },
   "outputs": [
    {
     "name": "stdout",
     "output_type": "stream",
     "text": [
      "(17520, 4)\n",
      "  country       store                           product  target\n",
      "0   Spain  KaggleMart  Kaggle for Kids: One Smart Goose       1\n",
      "1  Poland  KaggleRama                Kaggle Recipe Book       1\n",
      "2   Italy  KaggleMart        Kaggle Advanced Techniques       1\n",
      "3   Spain  KaggleRama        Kaggle Advanced Techniques       0\n",
      "4  France  KaggleRama            Kaggle Getting Started       1\n",
      "1    13200\n",
      "0     4320\n",
      "Name: target, dtype: int64\n",
      "country\n",
      "store\n",
      "product\n",
      "(14016, 3) (3504, 3) (14016,) (3504,)\n",
      "[0]\tvalidation_0-auc:0.50000\tvalidation_1-auc:0.50000\n",
      "[10]\tvalidation_0-auc:0.51658\tvalidation_1-auc:0.43454\n",
      "[20]\tvalidation_0-auc:0.51681\tvalidation_1-auc:0.43362\n",
      "[30]\tvalidation_0-auc:0.51681\tvalidation_1-auc:0.43361\n",
      "[40]\tvalidation_0-auc:0.51681\tvalidation_1-auc:0.43361\n",
      "[49]\tvalidation_0-auc:0.51681\tvalidation_1-auc:0.43361\n"
     ]
    },
    {
     "data": {
      "text/plain": [
       "XGBClassifier(base_score=0.5, booster='gbtree', callbacks=None,\n",
       "              colsample_bylevel=1, colsample_bynode=1, colsample_bytree=1,\n",
       "              early_stopping_rounds=None, enable_categorical=False,\n",
       "              eval_metric='auc', gamma=0, gpu_id=-1, grow_policy='depthwise',\n",
       "              importance_type=None, interaction_constraints='',\n",
       "              learning_rate=0.300000012, max_bin=256, max_cat_to_onehot=4,\n",
       "              max_delta_step=0, max_depth=6, max_leaves=0, min_child_weight=1,\n",
       "              missing=nan, monotone_constraints='()', n_estimators=50, n_jobs=0,\n",
       "              num_parallel_tree=1, predictor='auto', random_state=0,\n",
       "              reg_alpha=0, reg_lambda=1, ...)"
      ]
     },
     "execution_count": 8,
     "metadata": {},
     "output_type": "execute_result"
    }
   ],
   "source": [
    "# PUBLIC TEST : 0\n",
    "# PRIVATE TEST : 1\n",
    "import xgboost as xgb\n",
    "from sklearn.preprocessing import LabelEncoder\n",
    "from sklearn.model_selection import train_test_split\n",
    "\n",
    "tt = pd.concat([public_test.drop([\"row_id\", \"date\"], axis=1), private_test.drop([\"row_id\", \"date\"], axis=1)])\n",
    "tt['target'] = [0]*public_test.shape[0]+[1]*private_test.shape[0]\n",
    "tt = tt.sample(frac=1.0).reset_index(drop=True)\n",
    "\n",
    "print(tt.shape)\n",
    "print(tt.head(5))\n",
    "print(tt['target'].value_counts())\n",
    "\n",
    "for col in tt.columns:\n",
    "    if col!=\"target\":\n",
    "        print(col)\n",
    "        le = LabelEncoder()\n",
    "        tt.loc[:, col] = le.fit_transform(tt[col])\n",
    "        \n",
    "        \n",
    "# FIT MODEL\n",
    "x_tr, x_val, y_tr, y_val = train_test_split(tt.drop([\"target\"], axis=1), tt[\"target\"],\n",
    "                                           test_size=0.2)\n",
    "print(x_tr.shape, x_val.shape, y_tr.shape, y_val.shape)\n",
    "clf = xgb.XGBClassifier(n_estimators=50,\n",
    "                       eval_metric=\"auc\")\n",
    "clf.fit(x_tr, y_tr,\n",
    "       eval_set=[(x_tr, y_tr), (x_val, y_val)],\n",
    "       verbose=10)"
   ]
  },
  {
   "cell_type": "markdown",
   "id": "2d13b93a",
   "metadata": {
    "papermill": {
     "duration": 0.00717,
     "end_time": "2022-09-05T19:25:32.508176",
     "exception": false,
     "start_time": "2022-09-05T19:25:32.501006",
     "status": "completed"
    },
    "tags": []
   },
   "source": [
    "**TRAIN VS PRIVATE TEST(WITHOUT `DATE`)**"
   ]
  },
  {
   "cell_type": "code",
   "execution_count": 9,
   "id": "e0031ee5",
   "metadata": {
    "execution": {
     "iopub.execute_input": "2022-09-05T19:25:32.525518Z",
     "iopub.status.busy": "2022-09-05T19:25:32.524523Z",
     "iopub.status.idle": "2022-09-05T19:25:33.589518Z",
     "shell.execute_reply": "2022-09-05T19:25:33.588560Z"
    },
    "papermill": {
     "duration": 1.07642,
     "end_time": "2022-09-05T19:25:33.592151",
     "exception": false,
     "start_time": "2022-09-05T19:25:32.515731",
     "status": "completed"
    },
    "tags": []
   },
   "outputs": [
    {
     "name": "stdout",
     "output_type": "stream",
     "text": [
      "(83328, 4)\n",
      "   country       store                           product  target\n",
      "0    Spain  KaggleMart            Kaggle Getting Started       1\n",
      "1  Germany  KaggleRama            Kaggle Getting Started       0\n",
      "2  Belgium  KaggleRama  Kaggle for Kids: One Smart Goose       1\n",
      "3    Spain  KaggleMart  Kaggle for Kids: One Smart Goose       0\n",
      "4    Spain  KaggleMart                Kaggle Recipe Book       1\n",
      "0    70128\n",
      "1    13200\n",
      "Name: target, dtype: int64\n",
      "country\n",
      "store\n",
      "product\n",
      "(66662, 3) (16666, 3) (66662,) (16666,)\n",
      "[0]\tvalidation_0-auc:0.50000\tvalidation_1-auc:0.50000\n",
      "[10]\tvalidation_0-auc:0.50909\tvalidation_1-auc:0.46373\n",
      "[20]\tvalidation_0-auc:0.50922\tvalidation_1-auc:0.46318\n",
      "[30]\tvalidation_0-auc:0.50922\tvalidation_1-auc:0.46317\n",
      "[40]\tvalidation_0-auc:0.50922\tvalidation_1-auc:0.46317\n",
      "[49]\tvalidation_0-auc:0.50922\tvalidation_1-auc:0.46317\n"
     ]
    },
    {
     "data": {
      "text/plain": [
       "XGBClassifier(base_score=0.5, booster='gbtree', callbacks=None,\n",
       "              colsample_bylevel=1, colsample_bynode=1, colsample_bytree=1,\n",
       "              early_stopping_rounds=None, enable_categorical=False,\n",
       "              eval_metric='auc', gamma=0, gpu_id=-1, grow_policy='depthwise',\n",
       "              importance_type=None, interaction_constraints='',\n",
       "              learning_rate=0.300000012, max_bin=256, max_cat_to_onehot=4,\n",
       "              max_delta_step=0, max_depth=6, max_leaves=0, min_child_weight=1,\n",
       "              missing=nan, monotone_constraints='()', n_estimators=50, n_jobs=0,\n",
       "              num_parallel_tree=1, predictor='auto', random_state=0,\n",
       "              reg_alpha=0, reg_lambda=1, ...)"
      ]
     },
     "execution_count": 9,
     "metadata": {},
     "output_type": "execute_result"
    }
   ],
   "source": [
    "# TRAIN : 0\n",
    "# PRIVATE TEST : 1\n",
    "import xgboost as xgb\n",
    "from sklearn.preprocessing import LabelEncoder\n",
    "from sklearn.model_selection import train_test_split\n",
    "\n",
    "tt = pd.concat([train.drop([\"row_id\", \"date\"], axis=1), private_test.drop([\"row_id\", \"date\"], axis=1)])\n",
    "tt['target'] = [0]*train.shape[0]+[1]*private_test.shape[0]\n",
    "tt = tt.sample(frac=1.0).reset_index(drop=True)\n",
    "\n",
    "print(tt.shape)\n",
    "print(tt.head(5))\n",
    "print(tt['target'].value_counts())\n",
    "\n",
    "for col in tt.columns:\n",
    "    if col!=\"target\":\n",
    "        print(col)\n",
    "        le = LabelEncoder()\n",
    "        tt.loc[:, col] = le.fit_transform(tt[col])\n",
    "        \n",
    "        \n",
    "# FIT MODEL\n",
    "x_tr, x_val, y_tr, y_val = train_test_split(tt.drop([\"target\"], axis=1), tt[\"target\"],\n",
    "                                           test_size=0.2)\n",
    "print(x_tr.shape, x_val.shape, y_tr.shape, y_val.shape)\n",
    "clf = xgb.XGBClassifier(n_estimators=50,\n",
    "                       eval_metric=\"auc\")\n",
    "clf.fit(x_tr, y_tr,\n",
    "       eval_set=[(x_tr, y_tr), (x_val, y_val)],\n",
    "       verbose=10)"
   ]
  },
  {
   "cell_type": "markdown",
   "id": "b81870e0",
   "metadata": {
    "papermill": {
     "duration": 0.00788,
     "end_time": "2022-09-05T19:25:33.608681",
     "exception": false,
     "start_time": "2022-09-05T19:25:33.600801",
     "status": "completed"
    },
    "tags": []
   },
   "source": [
    "**Colclusion :**\n",
    "\n",
    "* It clearly shows that there is no difference in distribution between `TRAINvsPUBLIC-TEST`, `TRAINvsPRIVATE-TEST`, `PRIVATE-TESTvsPUBLIC-TEST` BUT WITHOUT DATE!\n",
    "\n",
    "* So, we need to make a validation that completely resembles the Private Set."
   ]
  },
  {
   "cell_type": "code",
   "execution_count": null,
   "id": "996a38c4",
   "metadata": {
    "papermill": {
     "duration": 0.007712,
     "end_time": "2022-09-05T19:25:33.624654",
     "exception": false,
     "start_time": "2022-09-05T19:25:33.616942",
     "status": "completed"
    },
    "tags": []
   },
   "outputs": [],
   "source": []
  }
 ],
 "metadata": {
  "kernelspec": {
   "display_name": "Python 3",
   "language": "python",
   "name": "python3"
  },
  "language_info": {
   "codemirror_mode": {
    "name": "ipython",
    "version": 3
   },
   "file_extension": ".py",
   "mimetype": "text/x-python",
   "name": "python",
   "nbconvert_exporter": "python",
   "pygments_lexer": "ipython3",
   "version": "3.7.12"
  },
  "papermill": {
   "default_parameters": {},
   "duration": 15.15529,
   "end_time": "2022-09-05T19:25:34.355813",
   "environment_variables": {},
   "exception": null,
   "input_path": "__notebook__.ipynb",
   "output_path": "__notebook__.ipynb",
   "parameters": {},
   "start_time": "2022-09-05T19:25:19.200523",
   "version": "2.3.4"
  }
 },
 "nbformat": 4,
 "nbformat_minor": 5
}
