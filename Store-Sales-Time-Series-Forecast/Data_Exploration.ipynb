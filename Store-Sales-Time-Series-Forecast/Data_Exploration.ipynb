{
 "cells": [
  {
   "cell_type": "code",
   "execution_count": null,
   "id": "17853706",
   "metadata": {},
   "outputs": [],
   "source": [
    "import boto3\n",
    "import pandas as pd; pd.set_option('display.max_columns', 200)\n",
    "import numpy as np\n",
    "import matplotlib.pyplot as plt \n",
    "import seaborn as sns\n",
    "\n",
    "s3 = boto3.resource('s3')\n",
    "bucket_name = 'analytics-data-science-competitions'\n",
    "bucket = s3.Bucket(bucket_name)\n",
    "\n",
    "## Defining files names\n",
    "file_key_1 = 'Store-Sales-Time-Series-Forecast/oil.csv'\n",
    "file_key_2 = 'Store-Sales-Time-Series-Forecast/holidays_events.csv'\n",
    "file_key_3 = 'Store-Sales-Time-Series-Forecast/stores.csv'\n",
    "file_key_4 = 'Store-Sales-Time-Series-Forecast/transactions.csv'\n",
    "file_key_5 = 'Store-Sales-Time-Series-Forecast/train.csv'\n",
    "file_key_6 = 'Store-Sales-Time-Series-Forecast/test.csv'\n",
    "\n",
    "bucket_object_1 = bucket.Object(file_key_1)\n",
    "file_object_1 = bucket_object_1.get()\n",
    "file_content_stream_1 = file_object_1.get('Body')\n",
    "\n",
    "bucket_object_2 = bucket.Object(file_key_2)\n",
    "file_object_2 = bucket_object_2.get()\n",
    "file_content_stream_2 = file_object_2.get('Body')\n",
    "\n",
    "bucket_object_3 = bucket.Object(file_key_3)\n",
    "file_object_3 = bucket_object_3.get()\n",
    "file_content_stream_3 = file_object_3.get('Body')\n",
    "\n",
    "bucket_object_4 = bucket.Object(file_key_4)\n",
    "file_object_4 = bucket_object_4.get()\n",
    "file_content_stream_4 = file_object_4.get('Body')\n",
    "\n",
    "bucket_object_5 = bucket.Object(file_key_5)\n",
    "file_object_5 = bucket_object_5.get()\n",
    "file_content_stream_5 = file_object_5.get('Body')\n",
    "\n",
    "bucket_object_6 = bucket.Object(file_key_6)\n",
    "file_object_6 = bucket_object_6.get()\n",
    "file_content_stream_6 = file_object_6.get('Body')\n",
    "\n",
    "## Reading data-files\n"
   ]
  }
 ],
 "metadata": {
  "kernelspec": {
   "display_name": "conda_python3",
   "language": "python",
   "name": "conda_python3"
  },
  "language_info": {
   "codemirror_mode": {
    "name": "ipython",
    "version": 3
   },
   "file_extension": ".py",
   "mimetype": "text/x-python",
   "name": "python",
   "nbconvert_exporter": "python",
   "pygments_lexer": "ipython3",
   "version": "3.8.12"
  }
 },
 "nbformat": 4,
 "nbformat_minor": 5
}
