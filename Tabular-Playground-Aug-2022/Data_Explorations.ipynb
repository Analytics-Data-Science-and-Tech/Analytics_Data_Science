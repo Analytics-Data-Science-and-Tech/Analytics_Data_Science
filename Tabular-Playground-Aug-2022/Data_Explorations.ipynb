{
 "cells": [
  {
   "cell_type": "code",
   "execution_count": null,
   "id": "94a2105e",
   "metadata": {},
   "outputs": [],
   "source": [
    "import boto3\n",
    "import pandas as pd; pd.set_option('display.max_columns', 100)\n",
    "import numpy as np\n",
    "import matplotlib.pyplot as plt\n",
    "import seaborn as sns\n",
    "from sklearn.tree import DecisionTreeClassifier, plot_tree\n",
    "from sklearn.ensemble import RandomForestClassifier\n",
    "from sklearn.impute import KNNImputer\n",
    "\n",
    "s3 = boto3.resource('s3')\n",
    "bucket_name = 'analytics-data-science-competitions'\n",
    "bucket = s3.Bucket(bucket_name)\n",
    "\n",
    "file_key_1 = 'Tabular-Playground-Aug-2022/train.csv'\n",
    "file_key_2 = 'Tabular-Playground-Aug-2022/test.csv'\n",
    "\n",
    "bucket_object_1 = bucket.Object(file_key_1)\n",
    "file_object_1 = bucket_object_1.get()\n",
    "file_content_stream_1 = file_object_1.get('Body')\n",
    "\n",
    "bucket_object_2 = bucket.Object(file_key_2)\n",
    "file_object_2 = bucket_object_2.get()\n",
    "file_content_stream_2 = file_object_2.get('Body')\n",
    "\n",
    "## Reading data-files\n",
    "train = pd.read_csv(file_content_stream_1)\n",
    "train = train.drop(columns = ['id'], axis = 1)\n",
    "\n",
    "test = pd.read_csv(file_content_stream_2)\n",
    "test = test.drop(columns = ['id'], axis = 1)\n",
    "\n",
    "## Changing labels to dummies\n",
    "train_dummies = pd.get_dummies(train[['attribute_0']])\n",
    "train = train.drop(columns = ['product_code', 'attribute_0', 'attribute_1'], axis = 1)\n",
    "train = pd.concat([train, train_dummies], axis = 1)\n",
    "\n",
    "test_dummies = pd.get_dummies(test[['attribute_0']])\n",
    "test = test.drop(columns = ['product_code', 'attribute_0', 'attribute_1'], axis = 1)\n",
    "test = pd.concat([test, test_dummies], axis = 1)\n",
    "\n",
    "## Filling missing values with kNN\n",
    "knn_imputer = KNNImputer(n_neighbors = 5, weights = 'distance')\n",
    "train = pd.DataFrame(knn_imputer.fit_transform(train), columns = train.columns)\n",
    "test = pd.DataFrame(knn_imputer.fit_transform(test), columns = test.columns)\n",
    "\n",
    "## Engineering features\n",
    "train['feature_1'] = np.where(train['loading'] < 150, 0, 1)\n",
    "test['feature_1'] = np.where(test['loading'] < 150, 0, 1)\n",
    "\n",
    "## Defining input and target variables\n",
    "X = train[['loading', 'measurement_2', 'measurement_4', 'measurement_5',\n",
    "           'measurement_6', 'measurement_7', 'measurement_8', 'measurement_15',\n",
    "           'measurement_17', 'feature_1']]\n",
    "# X = train.drop(columns = ['failure'], axis = 1)\n",
    "Y = train['failure']"
   ]
  },
  {
   "cell_type": "code",
   "execution_count": null,
   "id": "e9119102",
   "metadata": {},
   "outputs": [],
   "source": [
    "X.describe()"
   ]
  },
  {
   "cell_type": "code",
   "execution_count": null,
   "id": "1801c3a1",
   "metadata": {},
   "outputs": [],
   "source": [
    "## Building Random Forest model\n",
    "RF_md = RandomForestClassifier(n_estimators = 300, max_depth = 3, criterion = 'gini').fit(X, Y)"
   ]
  },
  {
   "cell_type": "code",
   "execution_count": null,
   "id": "8a11ac0d",
   "metadata": {},
   "outputs": [],
   "source": [
    "importance = pd.DataFrame({'feature': X.columns, 'Imp': RF_md.feature_importances_})\n",
    "importance = importance.sort_values(by = 'Imp', ascending = False)\n",
    "importance"
   ]
  },
  {
   "cell_type": "code",
   "execution_count": null,
   "id": "a4d7e10d",
   "metadata": {},
   "outputs": [],
   "source": [
    "from sklearn.feature_selection import RFECV\n",
    "\n",
    "## Running RFE with Random forest\n",
    "RF_auto_feature = RFECV(estimator = RandomForestClassifier(n_estimators = 300, max_depth = 3), step = 1, scoring = 'roc_auc', min_features_to_select = 10, cv = 3, n_jobs = -1).fit(X, Y)\n",
    "\n",
    "## Appending results \n",
    "X.columns[RF_auto_feature.support_]"
   ]
  },
  {
   "cell_type": "code",
   "execution_count": null,
   "id": "b8735f1e",
   "metadata": {},
   "outputs": [],
   "source": [
    "X.columns[RF_auto_feature.support_]"
   ]
  },
  {
   "cell_type": "code",
   "execution_count": null,
   "id": "fc4dab36",
   "metadata": {},
   "outputs": [],
   "source": [
    "X.describe()"
   ]
  },
  {
   "cell_type": "code",
   "execution_count": null,
   "id": "d1a191a5",
   "metadata": {},
   "outputs": [],
   "source": [
    "test.describe()"
   ]
  },
  {
   "cell_type": "code",
   "execution_count": null,
   "id": "a9f6fc4f",
   "metadata": {},
   "outputs": [],
   "source": [
    "## Building the decision tree on the train data-frame\n",
    "tree_md = DecisionTreeClassifier(max_depth = 3).fit(X, Y)\n",
    "\n",
    "## Visualizing the decision-tree model \n",
    "fig = plt.figure(figsize = (25, 15))\n",
    "plot_tree(tree_md, feature_names = X.columns, filled = True)"
   ]
  },
  {
   "cell_type": "code",
   "execution_count": null,
   "id": "78f3d698",
   "metadata": {},
   "outputs": [],
   "source": [
    "fig, axes = plt.subplots(1, 2, figsize = (18, 12))\n",
    "\n",
    "sns.boxplot(ax = axes[0], x = 'failure', y = 'loading', hue = 'failure', data = train)\n",
    "sns.boxplot(ax = axes[1], x = 'failure', y = 'measurement_3', hue = 'failure', data = train)"
   ]
  },
  {
   "cell_type": "code",
   "execution_count": null,
   "id": "5b1d4b09",
   "metadata": {},
   "outputs": [],
   "source": [
    "train.head()"
   ]
  },
  {
   "cell_type": "code",
   "execution_count": null,
   "id": "c85d5530",
   "metadata": {},
   "outputs": [],
   "source": [
    "train['attribute_1'].value_counts()"
   ]
  },
  {
   "cell_type": "code",
   "execution_count": null,
   "id": "ee8eba78",
   "metadata": {},
   "outputs": [],
   "source": [
    "test['attribute_1'].value_counts()"
   ]
  },
  {
   "cell_type": "code",
   "execution_count": null,
   "id": "40a9c751",
   "metadata": {},
   "outputs": [],
   "source": [
    "test.head()"
   ]
  },
  {
   "cell_type": "code",
   "execution_count": null,
   "id": "f32e7fa0",
   "metadata": {},
   "outputs": [],
   "source": [
    "test.describe()"
   ]
  },
  {
   "cell_type": "code",
   "execution_count": null,
   "id": "7a1046ee",
   "metadata": {},
   "outputs": [],
   "source": [
    "## Defining the model \n",
    "knn_imputer = KNNImputer(n_neighbors = 5, weights = 'uniform')\n",
    "X_new = knn_imputer.fit_transform(X)"
   ]
  },
  {
   "cell_type": "code",
   "execution_count": null,
   "id": "c16f915b",
   "metadata": {},
   "outputs": [],
   "source": [
    "X_new = pd.DataFrame(X_new)"
   ]
  },
  {
   "cell_type": "code",
   "execution_count": null,
   "id": "fdcdcfa5",
   "metadata": {},
   "outputs": [],
   "source": [
    "X_new.head()"
   ]
  },
  {
   "cell_type": "code",
   "execution_count": null,
   "id": "60344a2f",
   "metadata": {},
   "outputs": [],
   "source": [
    "train.head()"
   ]
  },
  {
   "cell_type": "code",
   "execution_count": null,
   "id": "f44964c5",
   "metadata": {},
   "outputs": [],
   "source": [
    "train.shape"
   ]
  },
  {
   "cell_type": "code",
   "execution_count": null,
   "id": "36372617",
   "metadata": {},
   "outputs": [],
   "source": [
    "train.describe()"
   ]
  },
  {
   "cell_type": "code",
   "execution_count": null,
   "id": "e36dbc63",
   "metadata": {},
   "outputs": [],
   "source": [
    "test.head()"
   ]
  },
  {
   "cell_type": "code",
   "execution_count": null,
   "id": "9740370a",
   "metadata": {},
   "outputs": [],
   "source": [
    "test.describe()"
   ]
  },
  {
   "cell_type": "code",
   "execution_count": null,
   "id": "cad16cc3",
   "metadata": {},
   "outputs": [],
   "source": [
    "test.shape"
   ]
  },
  {
   "cell_type": "code",
   "execution_count": null,
   "id": "794736ab",
   "metadata": {},
   "outputs": [],
   "source": [
    "train['attribute_0'].value_counts()"
   ]
  },
  {
   "cell_type": "code",
   "execution_count": null,
   "id": "7e6ba387",
   "metadata": {},
   "outputs": [],
   "source": [
    "train['attribute_1'].value_counts()"
   ]
  },
  {
   "cell_type": "code",
   "execution_count": null,
   "id": "38f57215",
   "metadata": {},
   "outputs": [],
   "source": [
    "test['attribute_0'].value_counts()"
   ]
  },
  {
   "cell_type": "code",
   "execution_count": null,
   "id": "231d00b3",
   "metadata": {},
   "outputs": [],
   "source": [
    "test['attribute_1'].value_counts()"
   ]
  },
  {
   "cell_type": "code",
   "execution_count": null,
   "id": "53738452",
   "metadata": {},
   "outputs": [],
   "source": [
    "X.head()"
   ]
  },
  {
   "cell_type": "code",
   "execution_count": null,
   "id": "f8d08436",
   "metadata": {},
   "outputs": [],
   "source": [
    "X.shape"
   ]
  },
  {
   "cell_type": "code",
   "execution_count": null,
   "id": "0d3b30c9",
   "metadata": {},
   "outputs": [],
   "source": [
    "test.head()"
   ]
  },
  {
   "cell_type": "code",
   "execution_count": null,
   "id": "ba8c0b30",
   "metadata": {},
   "outputs": [],
   "source": [
    "train.head()"
   ]
  },
  {
   "cell_type": "code",
   "execution_count": null,
   "id": "e132fce6",
   "metadata": {},
   "outputs": [],
   "source": [
    "train['attribute_1'].value_counts()"
   ]
  },
  {
   "cell_type": "code",
   "execution_count": null,
   "id": "8e8fc003",
   "metadata": {},
   "outputs": [],
   "source": [
    "train.describe()"
   ]
  },
  {
   "cell_type": "code",
   "execution_count": null,
   "id": "4f8552ce",
   "metadata": {},
   "outputs": [],
   "source": [
    "train['product_code'].value_counts()"
   ]
  },
  {
   "cell_type": "code",
   "execution_count": null,
   "id": "5072bbf5",
   "metadata": {},
   "outputs": [],
   "source": [
    "train['attribute_0'].value_counts()"
   ]
  },
  {
   "cell_type": "code",
   "execution_count": null,
   "id": "fe495aaf",
   "metadata": {},
   "outputs": [],
   "source": [
    "train['attribute_1'].value_counts()"
   ]
  },
  {
   "cell_type": "code",
   "execution_count": null,
   "id": "5f8bcc0a",
   "metadata": {},
   "outputs": [],
   "source": [
    "test.head()"
   ]
  },
  {
   "cell_type": "code",
   "execution_count": null,
   "id": "c349fc4b",
   "metadata": {},
   "outputs": [],
   "source": [
    "train_dummies = pd.get_dummies(train[['product_code', 'attribute_0', 'attribute_1']])\n",
    "train_dummies.head()"
   ]
  },
  {
   "cell_type": "code",
   "execution_count": null,
   "id": "538b811d",
   "metadata": {},
   "outputs": [],
   "source": [
    "train_dummies = pd.get_dummies(train[['product_code', 'attribute_0', 'attribute_1']])\n",
    "train = train.drop(columns = ['product_code', 'attribute_0', 'attribute_1'], axis = 1)\n",
    "train = pd.concat([train, train_dummies], axis = 1)\n",
    "train.head()"
   ]
  },
  {
   "cell_type": "code",
   "execution_count": null,
   "id": "08cf14c5",
   "metadata": {},
   "outputs": [],
   "source": [
    "train['failure'].value_counts() / train.shape[0]"
   ]
  },
  {
   "cell_type": "code",
   "execution_count": null,
   "id": "c4d4f0bb",
   "metadata": {},
   "outputs": [],
   "source": [
    "test_dummies = pd.get_dummies(test[['product_code', 'attribute_0', 'attribute_1']])\n",
    "test = test.drop(columns = ['product_code', 'attribute_0', 'attribute_1'], axis = 1)\n",
    "test = pd.concat([test, test_dummies], axis = 1)\n",
    "test.head()"
   ]
  },
  {
   "cell_type": "markdown",
   "id": "c89daaba",
   "metadata": {},
   "source": [
    "# Logistic Regression"
   ]
  },
  {
   "cell_type": "code",
   "execution_count": 10,
   "id": "25bba07d",
   "metadata": {},
   "outputs": [
    {
     "name": "stdout",
     "output_type": "stream",
     "text": [
      "Fitting 5 folds for each of 54 candidates, totalling 270 fits\n"
     ]
    },
    {
     "name": "stderr",
     "output_type": "stream",
     "text": [
      "/home/ec2-user/anaconda3/envs/python3/lib/python3.8/site-packages/sklearn/model_selection/_validation.py:372: FitFailedWarning: \n",
      "120 fits failed out of a total of 270.\n",
      "The score on these train-test partitions for these parameters will be set to nan.\n",
      "If these failures are not expected, you can try to debug them by setting error_score='raise'.\n",
      "\n",
      "Below are more details about the failures:\n",
      "--------------------------------------------------------------------------------\n",
      "30 fits failed with the following error:\n",
      "Traceback (most recent call last):\n",
      "  File \"/home/ec2-user/anaconda3/envs/python3/lib/python3.8/site-packages/sklearn/model_selection/_validation.py\", line 681, in _fit_and_score\n",
      "    estimator.fit(X_train, y_train, **fit_params)\n",
      "  File \"/home/ec2-user/anaconda3/envs/python3/lib/python3.8/site-packages/sklearn/linear_model/_logistic.py\", line 1461, in fit\n",
      "    solver = _check_solver(self.solver, self.penalty, self.dual)\n",
      "  File \"/home/ec2-user/anaconda3/envs/python3/lib/python3.8/site-packages/sklearn/linear_model/_logistic.py\", line 447, in _check_solver\n",
      "    raise ValueError(\n",
      "ValueError: Solver sag supports only 'l2' or 'none' penalties, got l1 penalty.\n",
      "\n",
      "--------------------------------------------------------------------------------\n",
      "30 fits failed with the following error:\n",
      "Traceback (most recent call last):\n",
      "  File \"/home/ec2-user/anaconda3/envs/python3/lib/python3.8/site-packages/sklearn/model_selection/_validation.py\", line 681, in _fit_and_score\n",
      "    estimator.fit(X_train, y_train, **fit_params)\n",
      "  File \"/home/ec2-user/anaconda3/envs/python3/lib/python3.8/site-packages/sklearn/linear_model/_logistic.py\", line 1461, in fit\n",
      "    solver = _check_solver(self.solver, self.penalty, self.dual)\n",
      "  File \"/home/ec2-user/anaconda3/envs/python3/lib/python3.8/site-packages/sklearn/linear_model/_logistic.py\", line 457, in _check_solver\n",
      "    raise ValueError(\n",
      "ValueError: Only 'saga' solver supports elasticnet penalty, got solver=liblinear.\n",
      "\n",
      "--------------------------------------------------------------------------------\n",
      "30 fits failed with the following error:\n",
      "Traceback (most recent call last):\n",
      "  File \"/home/ec2-user/anaconda3/envs/python3/lib/python3.8/site-packages/sklearn/model_selection/_validation.py\", line 681, in _fit_and_score\n",
      "    estimator.fit(X_train, y_train, **fit_params)\n",
      "  File \"/home/ec2-user/anaconda3/envs/python3/lib/python3.8/site-packages/sklearn/linear_model/_logistic.py\", line 1461, in fit\n",
      "    solver = _check_solver(self.solver, self.penalty, self.dual)\n",
      "  File \"/home/ec2-user/anaconda3/envs/python3/lib/python3.8/site-packages/sklearn/linear_model/_logistic.py\", line 447, in _check_solver\n",
      "    raise ValueError(\n",
      "ValueError: Solver sag supports only 'l2' or 'none' penalties, got elasticnet penalty.\n",
      "\n",
      "--------------------------------------------------------------------------------\n",
      "30 fits failed with the following error:\n",
      "Traceback (most recent call last):\n",
      "  File \"/home/ec2-user/anaconda3/envs/python3/lib/python3.8/site-packages/sklearn/model_selection/_validation.py\", line 681, in _fit_and_score\n",
      "    estimator.fit(X_train, y_train, **fit_params)\n",
      "  File \"/home/ec2-user/anaconda3/envs/python3/lib/python3.8/site-packages/sklearn/linear_model/_logistic.py\", line 1471, in fit\n",
      "    raise ValueError(\n",
      "ValueError: l1_ratio must be between 0 and 1; got (l1_ratio=None)\n",
      "\n",
      "  warnings.warn(some_fits_failed_message, FitFailedWarning)\n",
      "/home/ec2-user/anaconda3/envs/python3/lib/python3.8/site-packages/sklearn/model_selection/_search.py:969: UserWarning: One or more of the test scores are non-finite: [0.5               nan 0.5        0.50133733 0.59060257 0.59060388\n",
      "        nan        nan        nan 0.51133708        nan 0.58751726\n",
      " 0.57615191 0.59085918 0.59085829        nan        nan        nan\n",
      " 0.59133642        nan 0.59091137 0.59014888 0.5911725  0.5911703\n",
      "        nan        nan        nan 0.5915549         nan 0.59154452\n",
      " 0.59122355 0.59121154 0.59121416        nan        nan        nan\n",
      " 0.59124487        nan 0.59121934 0.59118491 0.59118169 0.59118143\n",
      "        nan        nan        nan 0.59120493        nan 0.5911778\n",
      " 0.59117387 0.59117678 0.59117687        nan        nan        nan]\n",
      "  warnings.warn(\n"
     ]
    }
   ],
   "source": [
    "import boto3\n",
    "import pandas as pd; pd.set_option('display.max_columns', 100)\n",
    "import numpy as np\n",
    "from sklearn.preprocessing import MinMaxScaler\n",
    "from sklearn.model_selection import GridSearchCV\n",
    "from sklearn.metrics import roc_auc_score\n",
    "from sklearn.impute import KNNImputer\n",
    "from sklearn.linear_model import LogisticRegression\n",
    "\n",
    "s3 = boto3.resource('s3')\n",
    "bucket_name = 'analytics-data-science-competitions'\n",
    "bucket = s3.Bucket(bucket_name)\n",
    "\n",
    "file_key_1 = 'Tabular-Playground-Aug-2022/train.csv'\n",
    "file_key_2 = 'Tabular-Playground-Aug-2022/test.csv'\n",
    "\n",
    "bucket_object_1 = bucket.Object(file_key_1)\n",
    "file_object_1 = bucket_object_1.get()\n",
    "file_content_stream_1 = file_object_1.get('Body')\n",
    "\n",
    "bucket_object_2 = bucket.Object(file_key_2)\n",
    "file_object_2 = bucket_object_2.get()\n",
    "file_content_stream_2 = file_object_2.get('Body')\n",
    "\n",
    "## Reading data-files\n",
    "train = pd.read_csv(file_content_stream_1)\n",
    "train = train.drop(columns = ['id'], axis = 1)\n",
    "\n",
    "test = pd.read_csv(file_content_stream_2)\n",
    "test_id = test['id']\n",
    "test = test.drop(columns = ['id'], axis = 1)\n",
    "\n",
    "## Changing labels to dummies\n",
    "train_dummies = pd.get_dummies(train[['attribute_0']])\n",
    "train = train.drop(columns = ['product_code', 'attribute_0', 'attribute_1'], axis = 1)\n",
    "train = pd.concat([train, train_dummies], axis = 1)\n",
    "\n",
    "test_dummies = pd.get_dummies(test[['attribute_0']])\n",
    "test = test.drop(columns = ['product_code', 'attribute_0', 'attribute_1'], axis = 1)\n",
    "test = pd.concat([test, test_dummies], axis = 1)\n",
    "\n",
    "## Filling missing values with kNN\n",
    "knn_imputer = KNNImputer(n_neighbors = 5, weights = 'distance')\n",
    "train = pd.DataFrame(knn_imputer.fit_transform(train), columns = train.columns)\n",
    "test = pd.DataFrame(knn_imputer.fit_transform(test), columns = test.columns)\n",
    "\n",
    "## Defining input and target variables\n",
    "X = train.drop(columns = ['failure'], axis = 1)\n",
    "Y = train['failure']\n",
    "\n",
    "## Scaling inputs to 0-1\n",
    "scaler = MinMaxScaler()\n",
    "X = pd.DataFrame(scaler.fit_transform(X), columns = X.columns)\n",
    "test = pd.DataFrame(scaler.fit_transform(test), columns = test.columns)\n",
    "\n",
    "## Defining the hyper-parameter grid\n",
    "logistic_param_grid = {'penalty': ['l1', 'l2', 'elasticnet'],\n",
    "                       'C': [0.001, 0.01, 0.1, 1, 10, 100],\n",
    "                       'solver': ['liblinear', 'sag', 'saga']}\n",
    "\n",
    "## Performing grid search with 5 folds\n",
    "logistic_grid_search = GridSearchCV(LogisticRegression(max_iter = 1000), logistic_param_grid, cv = 5, scoring = 'roc_auc', n_jobs = -1, verbose = 1).fit(X, Y)"
   ]
  },
  {
   "cell_type": "code",
   "execution_count": 11,
   "id": "1a2a4caf",
   "metadata": {},
   "outputs": [
    {
     "name": "stdout",
     "output_type": "stream",
     "text": [
      "{'C': 1, 'penalty': 'l1', 'solver': 'liblinear'}\n"
     ]
    }
   ],
   "source": [
    "best_params = logistic_grid_search.best_params_\n",
    "print(best_params)"
   ]
  },
  {
   "cell_type": "code",
   "execution_count": 12,
   "id": "7291048e",
   "metadata": {},
   "outputs": [
    {
     "name": "stdout",
     "output_type": "stream",
     "text": [
      "The best area under the ROC cure is: 0.591554902498434\n"
     ]
    }
   ],
   "source": [
    "best_score = logistic_grid_search.best_score_\n",
    "print('The best area under the ROC cure is:', best_score)"
   ]
  },
  {
   "cell_type": "code",
   "execution_count": 13,
   "id": "5746ade6",
   "metadata": {},
   "outputs": [
    {
     "name": "stdout",
     "output_type": "stream",
     "text": [
      "LogisticRegression(C=1, max_iter=1000, penalty='l1', solver='liblinear')\n"
     ]
    }
   ],
   "source": [
    "## Extracting the best model\n",
    "logistic_md = logistic_grid_search.best_estimator_\n",
    "print(logistic_md)"
   ]
  },
  {
   "cell_type": "code",
   "execution_count": 37,
   "id": "816f4f9e",
   "metadata": {},
   "outputs": [
    {
     "data": {
      "text/html": [
       "<div>\n",
       "<style scoped>\n",
       "    .dataframe tbody tr th:only-of-type {\n",
       "        vertical-align: middle;\n",
       "    }\n",
       "\n",
       "    .dataframe tbody tr th {\n",
       "        vertical-align: top;\n",
       "    }\n",
       "\n",
       "    .dataframe thead th {\n",
       "        text-align: right;\n",
       "    }\n",
       "</style>\n",
       "<table border=\"1\" class=\"dataframe\">\n",
       "  <thead>\n",
       "    <tr style=\"text-align: right;\">\n",
       "      <th></th>\n",
       "      <th>feature</th>\n",
       "      <th>est_coef</th>\n",
       "    </tr>\n",
       "  </thead>\n",
       "  <tbody>\n",
       "    <tr>\n",
       "      <th>0</th>\n",
       "      <td>loading</td>\n",
       "      <td>2.668642</td>\n",
       "    </tr>\n",
       "    <tr>\n",
       "      <th>21</th>\n",
       "      <td>attribute_0_material_5</td>\n",
       "      <td>1.344234</td>\n",
       "    </tr>\n",
       "    <tr>\n",
       "      <th>22</th>\n",
       "      <td>attribute_0_material_7</td>\n",
       "      <td>1.218404</td>\n",
       "    </tr>\n",
       "    <tr>\n",
       "      <th>20</th>\n",
       "      <td>measurement_17</td>\n",
       "      <td>0.726453</td>\n",
       "    </tr>\n",
       "    <tr>\n",
       "      <th>5</th>\n",
       "      <td>measurement_2</td>\n",
       "      <td>0.347865</td>\n",
       "    </tr>\n",
       "    <tr>\n",
       "      <th>7</th>\n",
       "      <td>measurement_4</td>\n",
       "      <td>0.298360</td>\n",
       "    </tr>\n",
       "    <tr>\n",
       "      <th>14</th>\n",
       "      <td>measurement_11</td>\n",
       "      <td>0.133324</td>\n",
       "    </tr>\n",
       "    <tr>\n",
       "      <th>12</th>\n",
       "      <td>measurement_9</td>\n",
       "      <td>0.130638</td>\n",
       "    </tr>\n",
       "    <tr>\n",
       "      <th>17</th>\n",
       "      <td>measurement_14</td>\n",
       "      <td>0.095053</td>\n",
       "    </tr>\n",
       "    <tr>\n",
       "      <th>8</th>\n",
       "      <td>measurement_5</td>\n",
       "      <td>0.091406</td>\n",
       "    </tr>\n",
       "    <tr>\n",
       "      <th>15</th>\n",
       "      <td>measurement_12</td>\n",
       "      <td>0.077050</td>\n",
       "    </tr>\n",
       "    <tr>\n",
       "      <th>10</th>\n",
       "      <td>measurement_7</td>\n",
       "      <td>0.076049</td>\n",
       "    </tr>\n",
       "    <tr>\n",
       "      <th>13</th>\n",
       "      <td>measurement_10</td>\n",
       "      <td>0.069011</td>\n",
       "    </tr>\n",
       "    <tr>\n",
       "      <th>4</th>\n",
       "      <td>measurement_1</td>\n",
       "      <td>0.067332</td>\n",
       "    </tr>\n",
       "    <tr>\n",
       "      <th>9</th>\n",
       "      <td>measurement_6</td>\n",
       "      <td>0.063696</td>\n",
       "    </tr>\n",
       "    <tr>\n",
       "      <th>1</th>\n",
       "      <td>attribute_2</td>\n",
       "      <td>0.058518</td>\n",
       "    </tr>\n",
       "    <tr>\n",
       "      <th>19</th>\n",
       "      <td>measurement_16</td>\n",
       "      <td>0.045823</td>\n",
       "    </tr>\n",
       "    <tr>\n",
       "      <th>2</th>\n",
       "      <td>attribute_3</td>\n",
       "      <td>0.044654</td>\n",
       "    </tr>\n",
       "    <tr>\n",
       "      <th>3</th>\n",
       "      <td>measurement_0</td>\n",
       "      <td>0.036457</td>\n",
       "    </tr>\n",
       "    <tr>\n",
       "      <th>16</th>\n",
       "      <td>measurement_13</td>\n",
       "      <td>0.024089</td>\n",
       "    </tr>\n",
       "    <tr>\n",
       "      <th>6</th>\n",
       "      <td>measurement_3</td>\n",
       "      <td>0.011246</td>\n",
       "    </tr>\n",
       "    <tr>\n",
       "      <th>18</th>\n",
       "      <td>measurement_15</td>\n",
       "      <td>0.000000</td>\n",
       "    </tr>\n",
       "    <tr>\n",
       "      <th>11</th>\n",
       "      <td>measurement_8</td>\n",
       "      <td>0.000000</td>\n",
       "    </tr>\n",
       "  </tbody>\n",
       "</table>\n",
       "</div>"
      ],
      "text/plain": [
       "                   feature  est_coef\n",
       "0                  loading  2.668642\n",
       "21  attribute_0_material_5  1.344234\n",
       "22  attribute_0_material_7  1.218404\n",
       "20          measurement_17  0.726453\n",
       "5            measurement_2  0.347865\n",
       "7            measurement_4  0.298360\n",
       "14          measurement_11  0.133324\n",
       "12           measurement_9  0.130638\n",
       "17          measurement_14  0.095053\n",
       "8            measurement_5  0.091406\n",
       "15          measurement_12  0.077050\n",
       "10           measurement_7  0.076049\n",
       "13          measurement_10  0.069011\n",
       "4            measurement_1  0.067332\n",
       "9            measurement_6  0.063696\n",
       "1              attribute_2  0.058518\n",
       "19          measurement_16  0.045823\n",
       "2              attribute_3  0.044654\n",
       "3            measurement_0  0.036457\n",
       "16          measurement_13  0.024089\n",
       "6            measurement_3  0.011246\n",
       "18          measurement_15  0.000000\n",
       "11           measurement_8  0.000000"
      ]
     },
     "execution_count": 37,
     "metadata": {},
     "output_type": "execute_result"
    }
   ],
   "source": [
    "logit_md = LogisticRegression(C = 1, penalty = 'l1', solver = 'liblinear', max_iter = 1000).fit(X, Y)\n",
    "coefs =  pd.DataFrame({'feature': X.columns, 'est_coef': abs(logit_md.coef_.flatten())})\n",
    "coefs = coefs.sort_values(by = 'est_coef', ascending = False)\n",
    "coefs"
   ]
  },
  {
   "cell_type": "code",
   "execution_count": null,
   "id": "2ec91616",
   "metadata": {},
   "outputs": [],
   "source": []
  }
 ],
 "metadata": {
  "kernelspec": {
   "display_name": "conda_python3",
   "language": "python",
   "name": "conda_python3"
  },
  "language_info": {
   "codemirror_mode": {
    "name": "ipython",
    "version": 3
   },
   "file_extension": ".py",
   "mimetype": "text/x-python",
   "name": "python",
   "nbconvert_exporter": "python",
   "pygments_lexer": "ipython3",
   "version": "3.8.12"
  }
 },
 "nbformat": 4,
 "nbformat_minor": 5
}
