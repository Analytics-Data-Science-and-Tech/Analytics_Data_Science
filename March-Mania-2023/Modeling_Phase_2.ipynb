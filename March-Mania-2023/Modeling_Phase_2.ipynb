{
 "cells": [
  {
   "cell_type": "code",
   "execution_count": 1,
   "id": "b7917344",
   "metadata": {},
   "outputs": [
    {
     "name": "stdout",
     "output_type": "stream",
     "text": [
      "Looking in indexes: https://pypi.org/simple, https://pip.repos.neuron.amazonaws.com\n",
      "Collecting xgboost\n",
      "  Downloading xgboost-1.7.4-py3-none-manylinux2014_x86_64.whl (193.6 MB)\n",
      "\u001b[2K     \u001b[90m━━━━━━━━━━━━━━━━━━━━━━━━━━━━━━━━━━━━━━━\u001b[0m \u001b[32m193.6/193.6 MB\u001b[0m \u001b[31m4.6 MB/s\u001b[0m eta \u001b[36m0:00:00\u001b[0m00:01\u001b[0m00:01\u001b[0m\n",
      "\u001b[?25hCollecting lightgbm\n",
      "  Downloading lightgbm-3.3.5-py3-none-manylinux1_x86_64.whl (2.0 MB)\n",
      "\u001b[2K     \u001b[90m━━━━━━━━━━━━━━━━━━━━━━━━━━━━━━━━━━━━━━━━\u001b[0m \u001b[32m2.0/2.0 MB\u001b[0m \u001b[31m19.3 MB/s\u001b[0m eta \u001b[36m0:00:00\u001b[0m00:01\u001b[0m\n",
      "\u001b[?25hRequirement already satisfied: numpy in /home/ec2-user/anaconda3/envs/python3/lib/python3.10/site-packages (from xgboost) (1.22.3)\n",
      "Requirement already satisfied: scipy in /home/ec2-user/anaconda3/envs/python3/lib/python3.10/site-packages (from xgboost) (1.10.0)\n",
      "Requirement already satisfied: scikit-learn!=0.22.0 in /home/ec2-user/anaconda3/envs/python3/lib/python3.10/site-packages (from lightgbm) (1.2.0)\n",
      "Requirement already satisfied: wheel in /home/ec2-user/anaconda3/envs/python3/lib/python3.10/site-packages (from lightgbm) (0.38.4)\n",
      "Requirement already satisfied: threadpoolctl>=2.0.0 in /home/ec2-user/anaconda3/envs/python3/lib/python3.10/site-packages (from scikit-learn!=0.22.0->lightgbm) (3.1.0)\n",
      "Requirement already satisfied: joblib>=1.1.1 in /home/ec2-user/anaconda3/envs/python3/lib/python3.10/site-packages (from scikit-learn!=0.22.0->lightgbm) (1.2.0)\n",
      "Installing collected packages: xgboost, lightgbm\n",
      "Successfully installed lightgbm-3.3.5 xgboost-1.7.4\n",
      "Note: you may need to restart the kernel to use updated packages.\n"
     ]
    }
   ],
   "source": [
    "pip install xgboost lightgbm"
   ]
  },
  {
   "cell_type": "code",
   "execution_count": 4,
   "id": "376c3923",
   "metadata": {},
   "outputs": [],
   "source": [
    "import boto3\n",
    "import pandas as pd; pd.set_option('display.max_columns', 100)\n",
    "import numpy as np\n",
    "\n",
    "from tqdm import tqdm\n",
    "\n",
    "import matplotlib.pyplot as plt; plt.style.use('ggplot')\n",
    "import seaborn as sns\n",
    "\n",
    "from scipy.stats import rankdata\n",
    "from sklearn.multiclass import OneVsRestClassifier\n",
    "from sklearn.tree import DecisionTreeRegressor, plot_tree\n",
    "from sklearn.preprocessing import MinMaxScaler\n",
    "from sklearn.model_selection import KFold, train_test_split, GridSearchCV, StratifiedKFold, TimeSeriesSplit\n",
    "from sklearn.metrics import mean_squared_error, roc_auc_score\n",
    "from sklearn.neighbors import KNeighborsClassifier\n",
    "from sklearn.ensemble import RandomForestClassifier, HistGradientBoostingClassifier, HistGradientBoostingRegressor\n",
    "from sklearn.linear_model import LogisticRegression\n",
    "from lightgbm import LGBMClassifier, LGBMRegressor \n",
    "from xgboost import XGBClassifier, XGBRegressor\n",
    "# from catboost import CatBoostClassifier, CatBoostRegressor\n",
    "\n",
    "# import optuna \n",
    "\n",
    "s3 = boto3.resource('s3')\n",
    "bucket_name = 'analytics-data-science-competitions'\n",
    "bucket = s3.Bucket(bucket_name)\n",
    "\n",
    "file_key_1 = 'March-Mania-2023/Evan-Data/MNCAA_train_538.csv'\n",
    "file_key_2 = 'March-Mania-2023/Evan-Data/MNCAA_test_538.csv'\n",
    "file_key_3 = 'March-Mania-2023/Evan-Data/WNCAA_train_538.csv'\n",
    "file_key_4 = 'March-Mania-2023/Evan-Data/WNCAA_test_538.csv'\n",
    "file_key_5 = 'March-Mania-2023/Evan-Data/SampleSubmission2023.csv'\n",
    "\n",
    "bucket_object_1 = bucket.Object(file_key_1)\n",
    "file_object_1 = bucket_object_1.get()\n",
    "file_content_stream_1 = file_object_1.get('Body')\n",
    "\n",
    "bucket_object_2 = bucket.Object(file_key_2)\n",
    "file_object_2 = bucket_object_2.get()\n",
    "file_content_stream_2 = file_object_2.get('Body')\n",
    "\n",
    "bucket_object_3 = bucket.Object(file_key_3)\n",
    "file_object_3 = bucket_object_3.get()\n",
    "file_content_stream_3 = file_object_3.get('Body')\n",
    "\n",
    "bucket_object_4 = bucket.Object(file_key_4)\n",
    "file_object_4 = bucket_object_4.get()\n",
    "file_content_stream_4 = file_object_4.get('Body')\n",
    "\n",
    "bucket_object_5 = bucket.Object(file_key_5)\n",
    "file_object_5 = bucket_object_5.get()\n",
    "file_content_stream_5 = file_object_5.get('Body')\n",
    "\n",
    "## Reading data files\n",
    "man_train = pd.read_csv(file_content_stream_1)\n",
    "# man_test = pd.read_csv(file_content_stream_2)\n",
    "woman_train = pd.read_csv(file_content_stream_3)\n",
    "# woman_test = pd.read_csv(file_content_stream_4)\n",
    "\n",
    "submission = pd.read_csv(file_content_stream_5)\n",
    "\n",
    "man_train['target'] = np.where(man_train['ResultDiff'] > 0, 1, 0)\n",
    "man_train = man_train[man_train['Season'] >= 2016].reset_index(drop = True)\n",
    "\n",
    "woman_train['target'] = np.where(woman_train['ResultDiff'] > 0, 1, 0)\n",
    "woman_train = woman_train[woman_train['Season'] >= 2016].reset_index(drop = True)\n",
    "\n",
    "man_test = pd.read_csv('man_test_tour_phase_1.csv')\n",
    "woman_test = pd.read_csv('woman_test_tour_phase_1.csv')"
   ]
  },
  {
   "cell_type": "markdown",
   "id": "c09ff575",
   "metadata": {},
   "source": [
    "# Man"
   ]
  },
  {
   "cell_type": "code",
   "execution_count": 12,
   "id": "a92e736b",
   "metadata": {},
   "outputs": [
    {
     "name": "stdout",
     "output_type": "stream",
     "text": [
      "[LightGBM] [Warning] lambda_l1 is set=1.6568558853289863, reg_alpha=0.0 will be ignored. Current value: lambda_l1=1.6568558853289863\n",
      "[LightGBM] [Warning] feature_fraction is set=0.705433568927063, colsample_bytree=1.0 will be ignored. Current value: feature_fraction=0.705433568927063\n",
      "[LightGBM] [Warning] lambda_l2 is set=5.241653664300623, reg_lambda=0.0 will be ignored. Current value: lambda_l2=5.241653664300623\n",
      "[LightGBM] [Warning] bagging_fraction is set=0.8504282163263281, subsample=1.0 will be ignored. Current value: bagging_fraction=0.8504282163263281\n"
     ]
    },
    {
     "data": {
      "text/html": [
       "<div>\n",
       "<style scoped>\n",
       "    .dataframe tbody tr th:only-of-type {\n",
       "        vertical-align: middle;\n",
       "    }\n",
       "\n",
       "    .dataframe tbody tr th {\n",
       "        vertical-align: top;\n",
       "    }\n",
       "\n",
       "    .dataframe thead th {\n",
       "        text-align: right;\n",
       "    }\n",
       "</style>\n",
       "<table border=\"1\" class=\"dataframe\">\n",
       "  <thead>\n",
       "    <tr style=\"text-align: right;\">\n",
       "      <th></th>\n",
       "      <th>ID</th>\n",
       "      <th>Pred</th>\n",
       "    </tr>\n",
       "  </thead>\n",
       "  <tbody>\n",
       "    <tr>\n",
       "      <th>0</th>\n",
       "      <td>2023_1104_1112</td>\n",
       "      <td>0.948642</td>\n",
       "    </tr>\n",
       "    <tr>\n",
       "      <th>1</th>\n",
       "      <td>2023_1104_1113</td>\n",
       "      <td>0.950995</td>\n",
       "    </tr>\n",
       "    <tr>\n",
       "      <th>2</th>\n",
       "      <td>2023_1104_1116</td>\n",
       "      <td>0.950323</td>\n",
       "    </tr>\n",
       "    <tr>\n",
       "      <th>3</th>\n",
       "      <td>2023_1104_1120</td>\n",
       "      <td>0.950384</td>\n",
       "    </tr>\n",
       "    <tr>\n",
       "      <th>4</th>\n",
       "      <td>2023_1104_1124</td>\n",
       "      <td>0.949934</td>\n",
       "    </tr>\n",
       "  </tbody>\n",
       "</table>\n",
       "</div>"
      ],
      "text/plain": [
       "               ID      Pred\n",
       "0  2023_1104_1112  0.948642\n",
       "1  2023_1104_1113  0.950995\n",
       "2  2023_1104_1116  0.950323\n",
       "3  2023_1104_1120  0.950384\n",
       "4  2023_1104_1124  0.949934"
      ]
     },
     "execution_count": 12,
     "metadata": {},
     "output_type": "execute_result"
    }
   ],
   "source": [
    "to_select = ['X1_WinRatio14d',\n",
    "             'X1_PointsMean',\n",
    "             'X1_PointsMedian',\n",
    "             'X1_PointsDiffMean',\n",
    "             'X1_FgaMean',\n",
    "             'X1_FgaMedian',\n",
    "             'X1_FgaMin',\n",
    "             'X1_FgaMax',\n",
    "             'X1_AstMean',\n",
    "             'X1_BlkMean',\n",
    "             'X1_OppFgaMean',\n",
    "             'X1_OppFgaMin',\n",
    "             'X1_EfgpMean',\n",
    "             'X1_PossessionsMean',\n",
    "             'X1_PpmMean',\n",
    "             'X1_FtrMean',\n",
    "             'X1_TopMean',\n",
    "             'X1_DrebpMean',\n",
    "             'X2_WinRatio14d',\n",
    "             'X2_PointsMean',\n",
    "             'X2_PointsMedian',\n",
    "             'X2_PointsDiffMean',\n",
    "             'X2_FgaMean',\n",
    "             'X2_FgaMedian',\n",
    "             'X2_FgaMin',\n",
    "             'X2_FgaMax',\n",
    "             'X2_AstMean',\n",
    "             'X2_BlkMean',\n",
    "             'X2_OppFgaMean',\n",
    "             'X2_OppFgaMin',\n",
    "             'X2_EfgpMean',\n",
    "             'X2_PossessionsMean',\n",
    "             'X2_PpmMean',\n",
    "             'X2_FtrMean',\n",
    "             'X2_TopMean',\n",
    "             'X2_DrebpMean',\n",
    "             'Seed1',\n",
    "             'Seed2',\n",
    "             'SeedDiff',\n",
    "             'quality_march_T1',\n",
    "             'quality_march_T2', \n",
    "             'ResultDiff',\n",
    "             'X1_team_rating',\n",
    "             'X1_rd1_win',\n",
    "             'X1_rd2_win',\n",
    "             'X1_rd3_win',\n",
    "             'X1_rd4_win',\n",
    "             'X1_rd5_win',\n",
    "             'X1_rd6_win',\n",
    "             'X1_rd7_win',\n",
    "             'X2_team_rating',\n",
    "             'X2_rd1_win',\n",
    "             'X2_rd2_win',\n",
    "             'X2_rd3_win',\n",
    "             'X2_rd4_win',\n",
    "             'X2_rd5_win',\n",
    "             'X2_rd6_win',\n",
    "             'X2_rd7_win']\n",
    "\n",
    "X = man_train[to_select]\n",
    "Y = man_train['target']\n",
    "\n",
    "man_test_tour_ID = man_test['ID']\n",
    "man_test_tour = man_test[to_select]\n",
    "\n",
    "#############\n",
    "## XGBoost ##\n",
    "#############\n",
    "\n",
    "xgb_params = pd.read_csv('man_XGB_Phase_2_42_Optuna_Hyperparameters.csv')\n",
    "\n",
    "xgb_md = XGBClassifier(tree_method = 'hist', \n",
    "                       max_depth = xgb_params['max_depth'][0],\n",
    "                       learning_rate = xgb_params['learning_rate'][0],\n",
    "                       n_estimators = xgb_params['n_estimators'][0],\n",
    "                       gamma = xgb_params['gamma'][0],\n",
    "                       min_child_weight = xgb_params['min_child_weight'][0],\n",
    "                       colsample_bytree = xgb_params['colsample_bytree'][0],\n",
    "                       subsample = xgb_params['subsample'][0]).fit(X, Y)\n",
    "\n",
    "xgb_pred = xgb_md.predict_proba(man_test_tour)[:, 1]\n",
    "\n",
    "##############\n",
    "## LightGBM ##\n",
    "##############\n",
    "\n",
    "lgb_params = pd.read_csv('man_LightGBM_Phase_2_42_Optuna_Hyperparameters.csv')\n",
    "\n",
    "lgb_md = LGBMClassifier(boosting_type = 'gbdt', \n",
    "                        n_estimators = lgb_params['n_estimators'][0],\n",
    "                        learning_rate = lgb_params['learning_rate'][0],\n",
    "                        max_depth = lgb_params['max_depth'][0],\n",
    "                        lambda_l1 = lgb_params['lambda_l1'][0],\n",
    "                        lambda_l2 = lgb_params['lambda_l2'][0],\n",
    "                        num_leaves = lgb_params['num_leaves'][0],\n",
    "                        bagging_fraction = lgb_params['bagging_fraction'][0],\n",
    "                        feature_fraction = lgb_params['feature_fraction'][0]).fit(X, Y)\n",
    "\n",
    "lgb_pred = lgb_md.predict_proba(man_test_tour)[:, 1]\n",
    "\n",
    "##################\n",
    "## HistGradient ##\n",
    "##################\n",
    "\n",
    "hist_params = pd.read_csv('man_Hist_Phase_2_42_Optuna_Hyperparameters.csv')\n",
    "\n",
    "hist_md = HistGradientBoostingClassifier(l2_regularization = hist_params['l2_regularization'][0],\n",
    "                                         early_stopping = False,\n",
    "                                         learning_rate = hist_params['learning_rate'][0],\n",
    "                                         max_iter = hist_params['max_iter'][0],\n",
    "                                         max_depth = hist_params['max_depth'][0],\n",
    "                                         max_bins = hist_params['max_bins'][0],\n",
    "                                         min_samples_leaf = hist_params['min_samples_leaf'][0],\n",
    "                                         max_leaf_nodes = hist_params['max_leaf_nodes'][0]).fit(X, Y)\n",
    "\n",
    "hist_pred = hist_md.predict_proba(man_test_tour)[:, 1]\n",
    "\n",
    "##############\n",
    "## Ensemble ##\n",
    "##############\n",
    "\n",
    "ens_pred = (xgb_pred + lgb_pred + hist_pred) / 3\n",
    "man_pred = pd.DataFrame({'ID': man_test_tour_ID, 'Pred': ens_pred})\n",
    "man_pred.head()"
   ]
  },
  {
   "cell_type": "markdown",
   "id": "23e55016",
   "metadata": {},
   "source": [
    "# Woman"
   ]
  },
  {
   "cell_type": "code",
   "execution_count": 13,
   "id": "5624064e",
   "metadata": {},
   "outputs": [
    {
     "name": "stdout",
     "output_type": "stream",
     "text": [
      "[LightGBM] [Warning] lambda_l1 is set=0.0474587633751369, reg_alpha=0.0 will be ignored. Current value: lambda_l1=0.0474587633751369\n",
      "[LightGBM] [Warning] feature_fraction is set=0.6539801342710443, colsample_bytree=1.0 will be ignored. Current value: feature_fraction=0.6539801342710443\n",
      "[LightGBM] [Warning] lambda_l2 is set=0.3422853948073336, reg_lambda=0.0 will be ignored. Current value: lambda_l2=0.3422853948073336\n",
      "[LightGBM] [Warning] bagging_fraction is set=0.8976619661127543, subsample=1.0 will be ignored. Current value: bagging_fraction=0.8976619661127543\n"
     ]
    },
    {
     "data": {
      "text/html": [
       "<div>\n",
       "<style scoped>\n",
       "    .dataframe tbody tr th:only-of-type {\n",
       "        vertical-align: middle;\n",
       "    }\n",
       "\n",
       "    .dataframe tbody tr th {\n",
       "        vertical-align: top;\n",
       "    }\n",
       "\n",
       "    .dataframe thead th {\n",
       "        text-align: right;\n",
       "    }\n",
       "</style>\n",
       "<table border=\"1\" class=\"dataframe\">\n",
       "  <thead>\n",
       "    <tr style=\"text-align: right;\">\n",
       "      <th></th>\n",
       "      <th>ID</th>\n",
       "      <th>Pred</th>\n",
       "    </tr>\n",
       "  </thead>\n",
       "  <tbody>\n",
       "    <tr>\n",
       "      <th>0</th>\n",
       "      <td>2023_1104_1112</td>\n",
       "      <td>0.898688</td>\n",
       "    </tr>\n",
       "    <tr>\n",
       "      <th>1</th>\n",
       "      <td>2023_1104_1113</td>\n",
       "      <td>0.928590</td>\n",
       "    </tr>\n",
       "    <tr>\n",
       "      <th>2</th>\n",
       "      <td>2023_1104_1116</td>\n",
       "      <td>0.921148</td>\n",
       "    </tr>\n",
       "    <tr>\n",
       "      <th>3</th>\n",
       "      <td>2023_1104_1120</td>\n",
       "      <td>0.921199</td>\n",
       "    </tr>\n",
       "    <tr>\n",
       "      <th>4</th>\n",
       "      <td>2023_1104_1124</td>\n",
       "      <td>0.907645</td>\n",
       "    </tr>\n",
       "  </tbody>\n",
       "</table>\n",
       "</div>"
      ],
      "text/plain": [
       "               ID      Pred\n",
       "0  2023_1104_1112  0.898688\n",
       "1  2023_1104_1113  0.928590\n",
       "2  2023_1104_1116  0.921148\n",
       "3  2023_1104_1120  0.921199\n",
       "4  2023_1104_1124  0.907645"
      ]
     },
     "execution_count": 13,
     "metadata": {},
     "output_type": "execute_result"
    }
   ],
   "source": [
    "to_select = ['X1_WinRatio14d',\n",
    "             'X1_PointsMean',\n",
    "             'X1_PointsMedian',\n",
    "             'X1_PointsDiffMean',\n",
    "             'X1_FgaMean',\n",
    "             'X1_FgaMedian',\n",
    "             'X1_FgaMin',\n",
    "             'X1_FgaMax',\n",
    "             'X1_AstMean',\n",
    "             'X1_BlkMean',\n",
    "             'X1_OppFgaMean',\n",
    "             'X1_OppFgaMin',\n",
    "             'X1_EfgpMean',\n",
    "             'X1_PossessionsMean',\n",
    "             'X1_PpmMean',\n",
    "             'X1_FtrMean',\n",
    "             'X1_TopMean',\n",
    "             'X1_DrebpMean',\n",
    "             'X2_WinRatio14d',\n",
    "             'X2_PointsMean',\n",
    "             'X2_PointsMedian',\n",
    "             'X2_PointsDiffMean',\n",
    "             'X2_FgaMean',\n",
    "             'X2_FgaMedian',\n",
    "             'X2_FgaMin',\n",
    "             'X2_FgaMax',\n",
    "             'X2_AstMean',\n",
    "             'X2_BlkMean',\n",
    "             'X2_OppFgaMean',\n",
    "             'X2_OppFgaMin',\n",
    "             'X2_EfgpMean',\n",
    "             'X2_PossessionsMean',\n",
    "             'X2_PpmMean',\n",
    "             'X2_FtrMean',\n",
    "             'X2_TopMean',\n",
    "             'X2_DrebpMean',\n",
    "             'Seed1',\n",
    "             'Seed2',\n",
    "             'SeedDiff',\n",
    "             'quality_march_T1',\n",
    "             'quality_march_T2', \n",
    "             'ResultDiff',\n",
    "             'X1_team_rating',\n",
    "             'X1_rd1_win',\n",
    "             'X1_rd2_win',\n",
    "             'X1_rd3_win',\n",
    "             'X1_rd4_win',\n",
    "             'X1_rd5_win',\n",
    "             'X1_rd6_win',\n",
    "             'X1_rd7_win',\n",
    "             'X2_team_rating',\n",
    "             'X2_rd1_win',\n",
    "             'X2_rd2_win',\n",
    "             'X2_rd3_win',\n",
    "             'X2_rd4_win',\n",
    "             'X2_rd5_win',\n",
    "             'X2_rd6_win',\n",
    "             'X2_rd7_win']\n",
    "\n",
    "X = woman_train[to_select]\n",
    "Y = woman_train['target']\n",
    "\n",
    "woman_test_tour_ID = woman_test['ID']\n",
    "woman_test_tour = woman_test[to_select]\n",
    "\n",
    "#############\n",
    "## XGBoost ##\n",
    "#############\n",
    "\n",
    "xgb_params = pd.read_csv('woman_XGB_Phase_2_42_Optuna_Hyperparameters.csv')\n",
    "\n",
    "xgb_md = XGBClassifier(tree_method = 'hist', \n",
    "                       max_depth = xgb_params['max_depth'][0],\n",
    "                       learning_rate = xgb_params['learning_rate'][0],\n",
    "                       n_estimators = xgb_params['n_estimators'][0],\n",
    "                       gamma = xgb_params['gamma'][0],\n",
    "                       min_child_weight = xgb_params['min_child_weight'][0],\n",
    "                       colsample_bytree = xgb_params['colsample_bytree'][0],\n",
    "                       subsample = xgb_params['subsample'][0]).fit(X, Y)\n",
    "\n",
    "xgb_pred = xgb_md.predict_proba(woman_test_tour)[:, 1]\n",
    "\n",
    "##############\n",
    "## LightGBM ##\n",
    "##############\n",
    "\n",
    "lgb_params = pd.read_csv('woman_LightGBM_Phase_2_42_Optuna_Hyperparameters.csv')\n",
    "\n",
    "lgb_md = LGBMClassifier(boosting_type = 'gbdt', \n",
    "                        n_estimators = lgb_params['n_estimators'][0],\n",
    "                        learning_rate = lgb_params['learning_rate'][0],\n",
    "                        max_depth = lgb_params['max_depth'][0],\n",
    "                        lambda_l1 = lgb_params['lambda_l1'][0],\n",
    "                        lambda_l2 = lgb_params['lambda_l2'][0],\n",
    "                        num_leaves = lgb_params['num_leaves'][0],\n",
    "                        bagging_fraction = lgb_params['bagging_fraction'][0],\n",
    "                        feature_fraction = lgb_params['feature_fraction'][0]).fit(X, Y)\n",
    "\n",
    "lgb_pred = lgb_md.predict_proba(woman_test_tour)[:, 1]\n",
    "\n",
    "##################\n",
    "## HistGradient ##\n",
    "##################\n",
    "\n",
    "hist_params = pd.read_csv('woman_Hist_Phase_2_42_Optuna_Hyperparameters.csv')\n",
    "\n",
    "hist_md = HistGradientBoostingClassifier(l2_regularization = hist_params['l2_regularization'][0],\n",
    "                                         early_stopping = False,\n",
    "                                         learning_rate = hist_params['learning_rate'][0],\n",
    "                                         max_iter = hist_params['max_iter'][0],\n",
    "                                         max_depth = hist_params['max_depth'][0],\n",
    "                                         max_bins = hist_params['max_bins'][0],\n",
    "                                         min_samples_leaf = hist_params['min_samples_leaf'][0],\n",
    "                                         max_leaf_nodes = hist_params['max_leaf_nodes'][0]).fit(X, Y)\n",
    "\n",
    "hist_pred = hist_md.predict_proba(woman_test_tour)[:, 1]\n",
    "\n",
    "##############\n",
    "## Ensemble ##\n",
    "##############\n",
    "\n",
    "ens_pred = (xgb_pred + lgb_pred + hist_pred) / 3\n",
    "woman_pred = pd.DataFrame({'ID': woman_test_tour_ID, 'Pred': ens_pred})\n",
    "woman_pred.head()"
   ]
  },
  {
   "cell_type": "code",
   "execution_count": 18,
   "id": "011829b4",
   "metadata": {},
   "outputs": [
    {
     "data": {
      "text/html": [
       "<div>\n",
       "<style scoped>\n",
       "    .dataframe tbody tr th:only-of-type {\n",
       "        vertical-align: middle;\n",
       "    }\n",
       "\n",
       "    .dataframe tbody tr th {\n",
       "        vertical-align: top;\n",
       "    }\n",
       "\n",
       "    .dataframe thead th {\n",
       "        text-align: right;\n",
       "    }\n",
       "</style>\n",
       "<table border=\"1\" class=\"dataframe\">\n",
       "  <thead>\n",
       "    <tr style=\"text-align: right;\">\n",
       "      <th></th>\n",
       "      <th>ID</th>\n",
       "      <th>Pred_x</th>\n",
       "      <th>Pred_y</th>\n",
       "      <th>Pred</th>\n",
       "    </tr>\n",
       "  </thead>\n",
       "  <tbody>\n",
       "    <tr>\n",
       "      <th>0</th>\n",
       "      <td>2023_1101_1102</td>\n",
       "      <td>0.5</td>\n",
       "      <td>NaN</td>\n",
       "      <td>NaN</td>\n",
       "    </tr>\n",
       "    <tr>\n",
       "      <th>1</th>\n",
       "      <td>2023_1101_1103</td>\n",
       "      <td>0.5</td>\n",
       "      <td>NaN</td>\n",
       "      <td>NaN</td>\n",
       "    </tr>\n",
       "    <tr>\n",
       "      <th>2</th>\n",
       "      <td>2023_1101_1104</td>\n",
       "      <td>0.5</td>\n",
       "      <td>NaN</td>\n",
       "      <td>NaN</td>\n",
       "    </tr>\n",
       "    <tr>\n",
       "      <th>3</th>\n",
       "      <td>2023_1101_1105</td>\n",
       "      <td>0.5</td>\n",
       "      <td>NaN</td>\n",
       "      <td>NaN</td>\n",
       "    </tr>\n",
       "    <tr>\n",
       "      <th>4</th>\n",
       "      <td>2023_1101_1106</td>\n",
       "      <td>0.5</td>\n",
       "      <td>NaN</td>\n",
       "      <td>NaN</td>\n",
       "    </tr>\n",
       "    <tr>\n",
       "      <th>5</th>\n",
       "      <td>2023_1101_1107</td>\n",
       "      <td>0.5</td>\n",
       "      <td>NaN</td>\n",
       "      <td>NaN</td>\n",
       "    </tr>\n",
       "    <tr>\n",
       "      <th>6</th>\n",
       "      <td>2023_1101_1108</td>\n",
       "      <td>0.5</td>\n",
       "      <td>NaN</td>\n",
       "      <td>NaN</td>\n",
       "    </tr>\n",
       "    <tr>\n",
       "      <th>7</th>\n",
       "      <td>2023_1101_1110</td>\n",
       "      <td>0.5</td>\n",
       "      <td>NaN</td>\n",
       "      <td>NaN</td>\n",
       "    </tr>\n",
       "    <tr>\n",
       "      <th>8</th>\n",
       "      <td>2023_1101_1111</td>\n",
       "      <td>0.5</td>\n",
       "      <td>NaN</td>\n",
       "      <td>NaN</td>\n",
       "    </tr>\n",
       "    <tr>\n",
       "      <th>9</th>\n",
       "      <td>2023_1101_1112</td>\n",
       "      <td>0.5</td>\n",
       "      <td>NaN</td>\n",
       "      <td>NaN</td>\n",
       "    </tr>\n",
       "    <tr>\n",
       "      <th>10</th>\n",
       "      <td>2023_1101_1113</td>\n",
       "      <td>0.5</td>\n",
       "      <td>NaN</td>\n",
       "      <td>NaN</td>\n",
       "    </tr>\n",
       "    <tr>\n",
       "      <th>11</th>\n",
       "      <td>2023_1101_1114</td>\n",
       "      <td>0.5</td>\n",
       "      <td>NaN</td>\n",
       "      <td>NaN</td>\n",
       "    </tr>\n",
       "    <tr>\n",
       "      <th>12</th>\n",
       "      <td>2023_1101_1115</td>\n",
       "      <td>0.5</td>\n",
       "      <td>NaN</td>\n",
       "      <td>NaN</td>\n",
       "    </tr>\n",
       "    <tr>\n",
       "      <th>13</th>\n",
       "      <td>2023_1101_1116</td>\n",
       "      <td>0.5</td>\n",
       "      <td>NaN</td>\n",
       "      <td>NaN</td>\n",
       "    </tr>\n",
       "    <tr>\n",
       "      <th>14</th>\n",
       "      <td>2023_1101_1117</td>\n",
       "      <td>0.5</td>\n",
       "      <td>NaN</td>\n",
       "      <td>NaN</td>\n",
       "    </tr>\n",
       "    <tr>\n",
       "      <th>15</th>\n",
       "      <td>2023_1101_1119</td>\n",
       "      <td>0.5</td>\n",
       "      <td>NaN</td>\n",
       "      <td>NaN</td>\n",
       "    </tr>\n",
       "    <tr>\n",
       "      <th>16</th>\n",
       "      <td>2023_1101_1120</td>\n",
       "      <td>0.5</td>\n",
       "      <td>NaN</td>\n",
       "      <td>NaN</td>\n",
       "    </tr>\n",
       "    <tr>\n",
       "      <th>17</th>\n",
       "      <td>2023_1101_1122</td>\n",
       "      <td>0.5</td>\n",
       "      <td>NaN</td>\n",
       "      <td>NaN</td>\n",
       "    </tr>\n",
       "    <tr>\n",
       "      <th>18</th>\n",
       "      <td>2023_1101_1123</td>\n",
       "      <td>0.5</td>\n",
       "      <td>NaN</td>\n",
       "      <td>NaN</td>\n",
       "    </tr>\n",
       "    <tr>\n",
       "      <th>19</th>\n",
       "      <td>2023_1101_1124</td>\n",
       "      <td>0.5</td>\n",
       "      <td>NaN</td>\n",
       "      <td>NaN</td>\n",
       "    </tr>\n",
       "  </tbody>\n",
       "</table>\n",
       "</div>"
      ],
      "text/plain": [
       "                ID  Pred_x  Pred_y  Pred\n",
       "0   2023_1101_1102     0.5     NaN   NaN\n",
       "1   2023_1101_1103     0.5     NaN   NaN\n",
       "2   2023_1101_1104     0.5     NaN   NaN\n",
       "3   2023_1101_1105     0.5     NaN   NaN\n",
       "4   2023_1101_1106     0.5     NaN   NaN\n",
       "5   2023_1101_1107     0.5     NaN   NaN\n",
       "6   2023_1101_1108     0.5     NaN   NaN\n",
       "7   2023_1101_1110     0.5     NaN   NaN\n",
       "8   2023_1101_1111     0.5     NaN   NaN\n",
       "9   2023_1101_1112     0.5     NaN   NaN\n",
       "10  2023_1101_1113     0.5     NaN   NaN\n",
       "11  2023_1101_1114     0.5     NaN   NaN\n",
       "12  2023_1101_1115     0.5     NaN   NaN\n",
       "13  2023_1101_1116     0.5     NaN   NaN\n",
       "14  2023_1101_1117     0.5     NaN   NaN\n",
       "15  2023_1101_1119     0.5     NaN   NaN\n",
       "16  2023_1101_1120     0.5     NaN   NaN\n",
       "17  2023_1101_1122     0.5     NaN   NaN\n",
       "18  2023_1101_1123     0.5     NaN   NaN\n",
       "19  2023_1101_1124     0.5     NaN   NaN"
      ]
     },
     "execution_count": 18,
     "metadata": {},
     "output_type": "execute_result"
    }
   ],
   "source": [
    "submission = pd.merge(submission, man_pred, on = 'ID', how = 'left')\n",
    "submission = pd.merge(submission, woman_pred, on = 'ID', how = 'left')\n",
    "submission.head(20)"
   ]
  },
  {
   "cell_type": "code",
   "execution_count": 19,
   "id": "151e3f9a",
   "metadata": {},
   "outputs": [
    {
     "data": {
      "text/html": [
       "<div>\n",
       "<style scoped>\n",
       "    .dataframe tbody tr th:only-of-type {\n",
       "        vertical-align: middle;\n",
       "    }\n",
       "\n",
       "    .dataframe tbody tr th {\n",
       "        vertical-align: top;\n",
       "    }\n",
       "\n",
       "    .dataframe thead th {\n",
       "        text-align: right;\n",
       "    }\n",
       "</style>\n",
       "<table border=\"1\" class=\"dataframe\">\n",
       "  <thead>\n",
       "    <tr style=\"text-align: right;\">\n",
       "      <th></th>\n",
       "      <th>ID</th>\n",
       "      <th>pred1</th>\n",
       "      <th>pred2</th>\n",
       "      <th>pred3</th>\n",
       "    </tr>\n",
       "  </thead>\n",
       "  <tbody>\n",
       "    <tr>\n",
       "      <th>0</th>\n",
       "      <td>2023_1101_1102</td>\n",
       "      <td>0.5</td>\n",
       "      <td>NaN</td>\n",
       "      <td>NaN</td>\n",
       "    </tr>\n",
       "    <tr>\n",
       "      <th>1</th>\n",
       "      <td>2023_1101_1103</td>\n",
       "      <td>0.5</td>\n",
       "      <td>NaN</td>\n",
       "      <td>NaN</td>\n",
       "    </tr>\n",
       "    <tr>\n",
       "      <th>2</th>\n",
       "      <td>2023_1101_1104</td>\n",
       "      <td>0.5</td>\n",
       "      <td>NaN</td>\n",
       "      <td>NaN</td>\n",
       "    </tr>\n",
       "    <tr>\n",
       "      <th>3</th>\n",
       "      <td>2023_1101_1105</td>\n",
       "      <td>0.5</td>\n",
       "      <td>NaN</td>\n",
       "      <td>NaN</td>\n",
       "    </tr>\n",
       "    <tr>\n",
       "      <th>4</th>\n",
       "      <td>2023_1101_1106</td>\n",
       "      <td>0.5</td>\n",
       "      <td>NaN</td>\n",
       "      <td>NaN</td>\n",
       "    </tr>\n",
       "  </tbody>\n",
       "</table>\n",
       "</div>"
      ],
      "text/plain": [
       "               ID  pred1  pred2  pred3\n",
       "0  2023_1101_1102    0.5    NaN    NaN\n",
       "1  2023_1101_1103    0.5    NaN    NaN\n",
       "2  2023_1101_1104    0.5    NaN    NaN\n",
       "3  2023_1101_1105    0.5    NaN    NaN\n",
       "4  2023_1101_1106    0.5    NaN    NaN"
      ]
     },
     "execution_count": 19,
     "metadata": {},
     "output_type": "execute_result"
    }
   ],
   "source": [
    "submission.columns = ['ID', 'pred1', 'pred2', 'pred3']\n",
    "submission.head()"
   ]
  },
  {
   "cell_type": "code",
   "execution_count": 20,
   "id": "f641cc45",
   "metadata": {},
   "outputs": [
    {
     "data": {
      "text/html": [
       "<div>\n",
       "<style scoped>\n",
       "    .dataframe tbody tr th:only-of-type {\n",
       "        vertical-align: middle;\n",
       "    }\n",
       "\n",
       "    .dataframe tbody tr th {\n",
       "        vertical-align: top;\n",
       "    }\n",
       "\n",
       "    .dataframe thead th {\n",
       "        text-align: right;\n",
       "    }\n",
       "</style>\n",
       "<table border=\"1\" class=\"dataframe\">\n",
       "  <thead>\n",
       "    <tr style=\"text-align: right;\">\n",
       "      <th></th>\n",
       "      <th>ID</th>\n",
       "      <th>pred1</th>\n",
       "      <th>pred2</th>\n",
       "      <th>pred3</th>\n",
       "      <th>Pred</th>\n",
       "    </tr>\n",
       "  </thead>\n",
       "  <tbody>\n",
       "    <tr>\n",
       "      <th>0</th>\n",
       "      <td>2023_1101_1102</td>\n",
       "      <td>0.5</td>\n",
       "      <td>NaN</td>\n",
       "      <td>NaN</td>\n",
       "      <td>0.5</td>\n",
       "    </tr>\n",
       "    <tr>\n",
       "      <th>1</th>\n",
       "      <td>2023_1101_1103</td>\n",
       "      <td>0.5</td>\n",
       "      <td>NaN</td>\n",
       "      <td>NaN</td>\n",
       "      <td>0.5</td>\n",
       "    </tr>\n",
       "    <tr>\n",
       "      <th>2</th>\n",
       "      <td>2023_1101_1104</td>\n",
       "      <td>0.5</td>\n",
       "      <td>NaN</td>\n",
       "      <td>NaN</td>\n",
       "      <td>0.5</td>\n",
       "    </tr>\n",
       "    <tr>\n",
       "      <th>3</th>\n",
       "      <td>2023_1101_1105</td>\n",
       "      <td>0.5</td>\n",
       "      <td>NaN</td>\n",
       "      <td>NaN</td>\n",
       "      <td>0.5</td>\n",
       "    </tr>\n",
       "    <tr>\n",
       "      <th>4</th>\n",
       "      <td>2023_1101_1106</td>\n",
       "      <td>0.5</td>\n",
       "      <td>NaN</td>\n",
       "      <td>NaN</td>\n",
       "      <td>0.5</td>\n",
       "    </tr>\n",
       "  </tbody>\n",
       "</table>\n",
       "</div>"
      ],
      "text/plain": [
       "               ID  pred1  pred2  pred3  Pred\n",
       "0  2023_1101_1102    0.5    NaN    NaN   0.5\n",
       "1  2023_1101_1103    0.5    NaN    NaN   0.5\n",
       "2  2023_1101_1104    0.5    NaN    NaN   0.5\n",
       "3  2023_1101_1105    0.5    NaN    NaN   0.5\n",
       "4  2023_1101_1106    0.5    NaN    NaN   0.5"
      ]
     },
     "execution_count": 20,
     "metadata": {},
     "output_type": "execute_result"
    }
   ],
   "source": [
    "submission['Pred'] = np.where(np.isnan(submission['pred2']), submission['pred1'], submission['pred2'])\n",
    "submission.head()"
   ]
  },
  {
   "cell_type": "code",
   "execution_count": 21,
   "id": "40102890",
   "metadata": {},
   "outputs": [
    {
     "data": {
      "text/html": [
       "<div>\n",
       "<style scoped>\n",
       "    .dataframe tbody tr th:only-of-type {\n",
       "        vertical-align: middle;\n",
       "    }\n",
       "\n",
       "    .dataframe tbody tr th {\n",
       "        vertical-align: top;\n",
       "    }\n",
       "\n",
       "    .dataframe thead th {\n",
       "        text-align: right;\n",
       "    }\n",
       "</style>\n",
       "<table border=\"1\" class=\"dataframe\">\n",
       "  <thead>\n",
       "    <tr style=\"text-align: right;\">\n",
       "      <th></th>\n",
       "      <th>ID</th>\n",
       "      <th>Pred</th>\n",
       "    </tr>\n",
       "  </thead>\n",
       "  <tbody>\n",
       "    <tr>\n",
       "      <th>0</th>\n",
       "      <td>2023_1101_1102</td>\n",
       "      <td>0.5</td>\n",
       "    </tr>\n",
       "    <tr>\n",
       "      <th>1</th>\n",
       "      <td>2023_1101_1103</td>\n",
       "      <td>0.5</td>\n",
       "    </tr>\n",
       "    <tr>\n",
       "      <th>2</th>\n",
       "      <td>2023_1101_1104</td>\n",
       "      <td>0.5</td>\n",
       "    </tr>\n",
       "    <tr>\n",
       "      <th>3</th>\n",
       "      <td>2023_1101_1105</td>\n",
       "      <td>0.5</td>\n",
       "    </tr>\n",
       "    <tr>\n",
       "      <th>4</th>\n",
       "      <td>2023_1101_1106</td>\n",
       "      <td>0.5</td>\n",
       "    </tr>\n",
       "  </tbody>\n",
       "</table>\n",
       "</div>"
      ],
      "text/plain": [
       "               ID  Pred\n",
       "0  2023_1101_1102   0.5\n",
       "1  2023_1101_1103   0.5\n",
       "2  2023_1101_1104   0.5\n",
       "3  2023_1101_1105   0.5\n",
       "4  2023_1101_1106   0.5"
      ]
     },
     "execution_count": 21,
     "metadata": {},
     "output_type": "execute_result"
    }
   ],
   "source": [
    "submission['Pred'] = np.where(np.isnan(submission['pred3']), submission['Pred'], submission['pred3'])\n",
    "submission.drop(columns = ['pred1', 'pred2', 'pred3'], axis = 1, inplace = True)\n",
    "submission.head()"
   ]
  },
  {
   "cell_type": "code",
   "execution_count": 23,
   "id": "b6f4371e",
   "metadata": {},
   "outputs": [
    {
     "data": {
      "text/html": [
       "<div>\n",
       "<style scoped>\n",
       "    .dataframe tbody tr th:only-of-type {\n",
       "        vertical-align: middle;\n",
       "    }\n",
       "\n",
       "    .dataframe tbody tr th {\n",
       "        vertical-align: top;\n",
       "    }\n",
       "\n",
       "    .dataframe thead th {\n",
       "        text-align: right;\n",
       "    }\n",
       "</style>\n",
       "<table border=\"1\" class=\"dataframe\">\n",
       "  <thead>\n",
       "    <tr style=\"text-align: right;\">\n",
       "      <th></th>\n",
       "      <th>Pred</th>\n",
       "    </tr>\n",
       "  </thead>\n",
       "  <tbody>\n",
       "    <tr>\n",
       "      <th>count</th>\n",
       "      <td>130683.000000</td>\n",
       "    </tr>\n",
       "    <tr>\n",
       "      <th>mean</th>\n",
       "      <td>0.500113</td>\n",
       "    </tr>\n",
       "    <tr>\n",
       "      <th>std</th>\n",
       "      <td>0.054271</td>\n",
       "    </tr>\n",
       "    <tr>\n",
       "      <th>min</th>\n",
       "      <td>0.066861</td>\n",
       "    </tr>\n",
       "    <tr>\n",
       "      <th>25%</th>\n",
       "      <td>0.500000</td>\n",
       "    </tr>\n",
       "    <tr>\n",
       "      <th>50%</th>\n",
       "      <td>0.500000</td>\n",
       "    </tr>\n",
       "    <tr>\n",
       "      <th>75%</th>\n",
       "      <td>0.500000</td>\n",
       "    </tr>\n",
       "    <tr>\n",
       "      <th>max</th>\n",
       "      <td>0.932993</td>\n",
       "    </tr>\n",
       "  </tbody>\n",
       "</table>\n",
       "</div>"
      ],
      "text/plain": [
       "                Pred\n",
       "count  130683.000000\n",
       "mean        0.500113\n",
       "std         0.054271\n",
       "min         0.066861\n",
       "25%         0.500000\n",
       "50%         0.500000\n",
       "75%         0.500000\n",
       "max         0.932993"
      ]
     },
     "execution_count": 23,
     "metadata": {},
     "output_type": "execute_result"
    }
   ],
   "source": [
    "submission.describe()"
   ]
  },
  {
   "cell_type": "code",
   "execution_count": 24,
   "id": "e5b1d395",
   "metadata": {},
   "outputs": [],
   "source": [
    "submission.to_csv('First_submission.csv', index = False)"
   ]
  },
  {
   "cell_type": "markdown",
   "id": "b02edab5",
   "metadata": {},
   "source": [
    "# Man 100 Reps"
   ]
  },
  {
   "cell_type": "code",
   "execution_count": 5,
   "id": "bd4f2b76",
   "metadata": {},
   "outputs": [
    {
     "name": "stderr",
     "output_type": "stream",
     "text": [
      "100%|██████████| 100/100 [07:39<00:00,  4.59s/it]\n",
      "  0%|          | 0/100 [00:00<?, ?it/s]"
     ]
    },
    {
     "name": "stdout",
     "output_type": "stream",
     "text": [
      "[LightGBM] [Warning] lambda_l1 is set=1.6568558853289863, reg_alpha=0.0 will be ignored. Current value: lambda_l1=1.6568558853289863\n",
      "[LightGBM] [Warning] bagging_fraction is set=0.8504282163263281, subsample=1.0 will be ignored. Current value: bagging_fraction=0.8504282163263281\n",
      "[LightGBM] [Warning] feature_fraction is set=0.705433568927063, colsample_bytree=1.0 will be ignored. Current value: feature_fraction=0.705433568927063\n",
      "[LightGBM] [Warning] lambda_l2 is set=5.241653664300623, reg_lambda=0.0 will be ignored. Current value: lambda_l2=5.241653664300623\n"
     ]
    },
    {
     "name": "stderr",
     "output_type": "stream",
     "text": [
      "  1%|          | 1/100 [00:00<01:31,  1.09it/s]"
     ]
    },
    {
     "name": "stdout",
     "output_type": "stream",
     "text": [
      "[LightGBM] [Warning] lambda_l1 is set=1.6568558853289863, reg_alpha=0.0 will be ignored. Current value: lambda_l1=1.6568558853289863\n",
      "[LightGBM] [Warning] bagging_fraction is set=0.8504282163263281, subsample=1.0 will be ignored. Current value: bagging_fraction=0.8504282163263281\n",
      "[LightGBM] [Warning] feature_fraction is set=0.705433568927063, colsample_bytree=1.0 will be ignored. Current value: feature_fraction=0.705433568927063\n",
      "[LightGBM] [Warning] lambda_l2 is set=5.241653664300623, reg_lambda=0.0 will be ignored. Current value: lambda_l2=5.241653664300623\n"
     ]
    },
    {
     "name": "stderr",
     "output_type": "stream",
     "text": [
      "  2%|▏         | 2/100 [00:01<01:28,  1.10it/s]"
     ]
    },
    {
     "name": "stdout",
     "output_type": "stream",
     "text": [
      "[LightGBM] [Warning] lambda_l1 is set=1.6568558853289863, reg_alpha=0.0 will be ignored. Current value: lambda_l1=1.6568558853289863\n",
      "[LightGBM] [Warning] bagging_fraction is set=0.8504282163263281, subsample=1.0 will be ignored. Current value: bagging_fraction=0.8504282163263281\n",
      "[LightGBM] [Warning] feature_fraction is set=0.705433568927063, colsample_bytree=1.0 will be ignored. Current value: feature_fraction=0.705433568927063\n",
      "[LightGBM] [Warning] lambda_l2 is set=5.241653664300623, reg_lambda=0.0 will be ignored. Current value: lambda_l2=5.241653664300623\n"
     ]
    },
    {
     "name": "stderr",
     "output_type": "stream",
     "text": [
      "  3%|▎         | 3/100 [00:02<01:27,  1.11it/s]"
     ]
    },
    {
     "name": "stdout",
     "output_type": "stream",
     "text": [
      "[LightGBM] [Warning] lambda_l1 is set=1.6568558853289863, reg_alpha=0.0 will be ignored. Current value: lambda_l1=1.6568558853289863\n",
      "[LightGBM] [Warning] bagging_fraction is set=0.8504282163263281, subsample=1.0 will be ignored. Current value: bagging_fraction=0.8504282163263281\n",
      "[LightGBM] [Warning] feature_fraction is set=0.705433568927063, colsample_bytree=1.0 will be ignored. Current value: feature_fraction=0.705433568927063\n",
      "[LightGBM] [Warning] lambda_l2 is set=5.241653664300623, reg_lambda=0.0 will be ignored. Current value: lambda_l2=5.241653664300623\n"
     ]
    },
    {
     "name": "stderr",
     "output_type": "stream",
     "text": [
      "  4%|▍         | 4/100 [00:03<01:25,  1.12it/s]"
     ]
    },
    {
     "name": "stdout",
     "output_type": "stream",
     "text": [
      "[LightGBM] [Warning] lambda_l1 is set=1.6568558853289863, reg_alpha=0.0 will be ignored. Current value: lambda_l1=1.6568558853289863\n",
      "[LightGBM] [Warning] bagging_fraction is set=0.8504282163263281, subsample=1.0 will be ignored. Current value: bagging_fraction=0.8504282163263281\n",
      "[LightGBM] [Warning] feature_fraction is set=0.705433568927063, colsample_bytree=1.0 will be ignored. Current value: feature_fraction=0.705433568927063\n",
      "[LightGBM] [Warning] lambda_l2 is set=5.241653664300623, reg_lambda=0.0 will be ignored. Current value: lambda_l2=5.241653664300623\n"
     ]
    },
    {
     "name": "stderr",
     "output_type": "stream",
     "text": [
      "  5%|▌         | 5/100 [00:04<01:27,  1.09it/s]"
     ]
    },
    {
     "name": "stdout",
     "output_type": "stream",
     "text": [
      "[LightGBM] [Warning] lambda_l1 is set=1.6568558853289863, reg_alpha=0.0 will be ignored. Current value: lambda_l1=1.6568558853289863\n",
      "[LightGBM] [Warning] bagging_fraction is set=0.8504282163263281, subsample=1.0 will be ignored. Current value: bagging_fraction=0.8504282163263281\n",
      "[LightGBM] [Warning] feature_fraction is set=0.705433568927063, colsample_bytree=1.0 will be ignored. Current value: feature_fraction=0.705433568927063\n",
      "[LightGBM] [Warning] lambda_l2 is set=5.241653664300623, reg_lambda=0.0 will be ignored. Current value: lambda_l2=5.241653664300623\n"
     ]
    },
    {
     "name": "stderr",
     "output_type": "stream",
     "text": [
      "  6%|▌         | 6/100 [00:05<01:26,  1.09it/s]"
     ]
    },
    {
     "name": "stdout",
     "output_type": "stream",
     "text": [
      "[LightGBM] [Warning] lambda_l1 is set=1.6568558853289863, reg_alpha=0.0 will be ignored. Current value: lambda_l1=1.6568558853289863\n",
      "[LightGBM] [Warning] bagging_fraction is set=0.8504282163263281, subsample=1.0 will be ignored. Current value: bagging_fraction=0.8504282163263281\n",
      "[LightGBM] [Warning] feature_fraction is set=0.705433568927063, colsample_bytree=1.0 will be ignored. Current value: feature_fraction=0.705433568927063\n",
      "[LightGBM] [Warning] lambda_l2 is set=5.241653664300623, reg_lambda=0.0 will be ignored. Current value: lambda_l2=5.241653664300623\n"
     ]
    },
    {
     "name": "stderr",
     "output_type": "stream",
     "text": [
      "  7%|▋         | 7/100 [00:06<01:23,  1.11it/s]"
     ]
    },
    {
     "name": "stdout",
     "output_type": "stream",
     "text": [
      "[LightGBM] [Warning] lambda_l1 is set=1.6568558853289863, reg_alpha=0.0 will be ignored. Current value: lambda_l1=1.6568558853289863\n",
      "[LightGBM] [Warning] bagging_fraction is set=0.8504282163263281, subsample=1.0 will be ignored. Current value: bagging_fraction=0.8504282163263281\n",
      "[LightGBM] [Warning] feature_fraction is set=0.705433568927063, colsample_bytree=1.0 will be ignored. Current value: feature_fraction=0.705433568927063\n",
      "[LightGBM] [Warning] lambda_l2 is set=5.241653664300623, reg_lambda=0.0 will be ignored. Current value: lambda_l2=5.241653664300623\n"
     ]
    },
    {
     "name": "stderr",
     "output_type": "stream",
     "text": [
      "  8%|▊         | 8/100 [00:07<01:22,  1.12it/s]"
     ]
    },
    {
     "name": "stdout",
     "output_type": "stream",
     "text": [
      "[LightGBM] [Warning] lambda_l1 is set=1.6568558853289863, reg_alpha=0.0 will be ignored. Current value: lambda_l1=1.6568558853289863\n",
      "[LightGBM] [Warning] bagging_fraction is set=0.8504282163263281, subsample=1.0 will be ignored. Current value: bagging_fraction=0.8504282163263281\n",
      "[LightGBM] [Warning] feature_fraction is set=0.705433568927063, colsample_bytree=1.0 will be ignored. Current value: feature_fraction=0.705433568927063\n",
      "[LightGBM] [Warning] lambda_l2 is set=5.241653664300623, reg_lambda=0.0 will be ignored. Current value: lambda_l2=5.241653664300623\n"
     ]
    },
    {
     "name": "stderr",
     "output_type": "stream",
     "text": [
      "  9%|▉         | 9/100 [00:08<01:20,  1.12it/s]"
     ]
    },
    {
     "name": "stdout",
     "output_type": "stream",
     "text": [
      "[LightGBM] [Warning] lambda_l1 is set=1.6568558853289863, reg_alpha=0.0 will be ignored. Current value: lambda_l1=1.6568558853289863\n",
      "[LightGBM] [Warning] bagging_fraction is set=0.8504282163263281, subsample=1.0 will be ignored. Current value: bagging_fraction=0.8504282163263281\n",
      "[LightGBM] [Warning] feature_fraction is set=0.705433568927063, colsample_bytree=1.0 will be ignored. Current value: feature_fraction=0.705433568927063\n",
      "[LightGBM] [Warning] lambda_l2 is set=5.241653664300623, reg_lambda=0.0 will be ignored. Current value: lambda_l2=5.241653664300623\n"
     ]
    },
    {
     "name": "stderr",
     "output_type": "stream",
     "text": [
      " 10%|█         | 10/100 [00:09<01:20,  1.12it/s]"
     ]
    },
    {
     "name": "stdout",
     "output_type": "stream",
     "text": [
      "[LightGBM] [Warning] lambda_l1 is set=1.6568558853289863, reg_alpha=0.0 will be ignored. Current value: lambda_l1=1.6568558853289863\n",
      "[LightGBM] [Warning] bagging_fraction is set=0.8504282163263281, subsample=1.0 will be ignored. Current value: bagging_fraction=0.8504282163263281\n",
      "[LightGBM] [Warning] feature_fraction is set=0.705433568927063, colsample_bytree=1.0 will be ignored. Current value: feature_fraction=0.705433568927063\n",
      "[LightGBM] [Warning] lambda_l2 is set=5.241653664300623, reg_lambda=0.0 will be ignored. Current value: lambda_l2=5.241653664300623\n"
     ]
    },
    {
     "name": "stderr",
     "output_type": "stream",
     "text": [
      " 11%|█         | 11/100 [00:09<01:19,  1.12it/s]"
     ]
    },
    {
     "name": "stdout",
     "output_type": "stream",
     "text": [
      "[LightGBM] [Warning] lambda_l1 is set=1.6568558853289863, reg_alpha=0.0 will be ignored. Current value: lambda_l1=1.6568558853289863\n",
      "[LightGBM] [Warning] bagging_fraction is set=0.8504282163263281, subsample=1.0 will be ignored. Current value: bagging_fraction=0.8504282163263281\n",
      "[LightGBM] [Warning] feature_fraction is set=0.705433568927063, colsample_bytree=1.0 will be ignored. Current value: feature_fraction=0.705433568927063\n",
      "[LightGBM] [Warning] lambda_l2 is set=5.241653664300623, reg_lambda=0.0 will be ignored. Current value: lambda_l2=5.241653664300623\n"
     ]
    },
    {
     "name": "stderr",
     "output_type": "stream",
     "text": [
      " 12%|█▏        | 12/100 [00:10<01:20,  1.10it/s]"
     ]
    },
    {
     "name": "stdout",
     "output_type": "stream",
     "text": [
      "[LightGBM] [Warning] lambda_l1 is set=1.6568558853289863, reg_alpha=0.0 will be ignored. Current value: lambda_l1=1.6568558853289863\n",
      "[LightGBM] [Warning] bagging_fraction is set=0.8504282163263281, subsample=1.0 will be ignored. Current value: bagging_fraction=0.8504282163263281\n",
      "[LightGBM] [Warning] feature_fraction is set=0.705433568927063, colsample_bytree=1.0 will be ignored. Current value: feature_fraction=0.705433568927063\n",
      "[LightGBM] [Warning] lambda_l2 is set=5.241653664300623, reg_lambda=0.0 will be ignored. Current value: lambda_l2=5.241653664300623\n"
     ]
    },
    {
     "name": "stderr",
     "output_type": "stream",
     "text": [
      " 13%|█▎        | 13/100 [00:11<01:18,  1.10it/s]"
     ]
    },
    {
     "name": "stdout",
     "output_type": "stream",
     "text": [
      "[LightGBM] [Warning] lambda_l1 is set=1.6568558853289863, reg_alpha=0.0 will be ignored. Current value: lambda_l1=1.6568558853289863\n",
      "[LightGBM] [Warning] bagging_fraction is set=0.8504282163263281, subsample=1.0 will be ignored. Current value: bagging_fraction=0.8504282163263281\n",
      "[LightGBM] [Warning] feature_fraction is set=0.705433568927063, colsample_bytree=1.0 will be ignored. Current value: feature_fraction=0.705433568927063\n",
      "[LightGBM] [Warning] lambda_l2 is set=5.241653664300623, reg_lambda=0.0 will be ignored. Current value: lambda_l2=5.241653664300623\n"
     ]
    },
    {
     "name": "stderr",
     "output_type": "stream",
     "text": [
      " 14%|█▍        | 14/100 [00:12<01:17,  1.12it/s]"
     ]
    },
    {
     "name": "stdout",
     "output_type": "stream",
     "text": [
      "[LightGBM] [Warning] lambda_l1 is set=1.6568558853289863, reg_alpha=0.0 will be ignored. Current value: lambda_l1=1.6568558853289863\n",
      "[LightGBM] [Warning] bagging_fraction is set=0.8504282163263281, subsample=1.0 will be ignored. Current value: bagging_fraction=0.8504282163263281\n",
      "[LightGBM] [Warning] feature_fraction is set=0.705433568927063, colsample_bytree=1.0 will be ignored. Current value: feature_fraction=0.705433568927063\n",
      "[LightGBM] [Warning] lambda_l2 is set=5.241653664300623, reg_lambda=0.0 will be ignored. Current value: lambda_l2=5.241653664300623\n"
     ]
    },
    {
     "name": "stderr",
     "output_type": "stream",
     "text": [
      " 15%|█▌        | 15/100 [00:13<01:15,  1.12it/s]"
     ]
    },
    {
     "name": "stdout",
     "output_type": "stream",
     "text": [
      "[LightGBM] [Warning] lambda_l1 is set=1.6568558853289863, reg_alpha=0.0 will be ignored. Current value: lambda_l1=1.6568558853289863\n",
      "[LightGBM] [Warning] bagging_fraction is set=0.8504282163263281, subsample=1.0 will be ignored. Current value: bagging_fraction=0.8504282163263281\n",
      "[LightGBM] [Warning] feature_fraction is set=0.705433568927063, colsample_bytree=1.0 will be ignored. Current value: feature_fraction=0.705433568927063\n",
      "[LightGBM] [Warning] lambda_l2 is set=5.241653664300623, reg_lambda=0.0 will be ignored. Current value: lambda_l2=5.241653664300623\n"
     ]
    },
    {
     "name": "stderr",
     "output_type": "stream",
     "text": [
      " 16%|█▌        | 16/100 [00:14<01:14,  1.13it/s]"
     ]
    },
    {
     "name": "stdout",
     "output_type": "stream",
     "text": [
      "[LightGBM] [Warning] lambda_l1 is set=1.6568558853289863, reg_alpha=0.0 will be ignored. Current value: lambda_l1=1.6568558853289863\n",
      "[LightGBM] [Warning] bagging_fraction is set=0.8504282163263281, subsample=1.0 will be ignored. Current value: bagging_fraction=0.8504282163263281\n",
      "[LightGBM] [Warning] feature_fraction is set=0.705433568927063, colsample_bytree=1.0 will be ignored. Current value: feature_fraction=0.705433568927063\n",
      "[LightGBM] [Warning] lambda_l2 is set=5.241653664300623, reg_lambda=0.0 will be ignored. Current value: lambda_l2=5.241653664300623\n"
     ]
    },
    {
     "name": "stderr",
     "output_type": "stream",
     "text": [
      " 17%|█▋        | 17/100 [00:15<01:13,  1.14it/s]"
     ]
    },
    {
     "name": "stdout",
     "output_type": "stream",
     "text": [
      "[LightGBM] [Warning] lambda_l1 is set=1.6568558853289863, reg_alpha=0.0 will be ignored. Current value: lambda_l1=1.6568558853289863\n",
      "[LightGBM] [Warning] bagging_fraction is set=0.8504282163263281, subsample=1.0 will be ignored. Current value: bagging_fraction=0.8504282163263281\n",
      "[LightGBM] [Warning] feature_fraction is set=0.705433568927063, colsample_bytree=1.0 will be ignored. Current value: feature_fraction=0.705433568927063\n",
      "[LightGBM] [Warning] lambda_l2 is set=5.241653664300623, reg_lambda=0.0 will be ignored. Current value: lambda_l2=5.241653664300623\n"
     ]
    },
    {
     "name": "stderr",
     "output_type": "stream",
     "text": [
      " 18%|█▊        | 18/100 [00:16<01:11,  1.14it/s]"
     ]
    },
    {
     "name": "stdout",
     "output_type": "stream",
     "text": [
      "[LightGBM] [Warning] lambda_l1 is set=1.6568558853289863, reg_alpha=0.0 will be ignored. Current value: lambda_l1=1.6568558853289863\n",
      "[LightGBM] [Warning] bagging_fraction is set=0.8504282163263281, subsample=1.0 will be ignored. Current value: bagging_fraction=0.8504282163263281\n",
      "[LightGBM] [Warning] feature_fraction is set=0.705433568927063, colsample_bytree=1.0 will be ignored. Current value: feature_fraction=0.705433568927063\n",
      "[LightGBM] [Warning] lambda_l2 is set=5.241653664300623, reg_lambda=0.0 will be ignored. Current value: lambda_l2=5.241653664300623\n"
     ]
    },
    {
     "name": "stderr",
     "output_type": "stream",
     "text": [
      " 19%|█▉        | 19/100 [00:17<01:12,  1.12it/s]"
     ]
    },
    {
     "name": "stdout",
     "output_type": "stream",
     "text": [
      "[LightGBM] [Warning] lambda_l1 is set=1.6568558853289863, reg_alpha=0.0 will be ignored. Current value: lambda_l1=1.6568558853289863\n",
      "[LightGBM] [Warning] bagging_fraction is set=0.8504282163263281, subsample=1.0 will be ignored. Current value: bagging_fraction=0.8504282163263281\n",
      "[LightGBM] [Warning] feature_fraction is set=0.705433568927063, colsample_bytree=1.0 will be ignored. Current value: feature_fraction=0.705433568927063\n",
      "[LightGBM] [Warning] lambda_l2 is set=5.241653664300623, reg_lambda=0.0 will be ignored. Current value: lambda_l2=5.241653664300623\n"
     ]
    },
    {
     "name": "stderr",
     "output_type": "stream",
     "text": [
      " 20%|██        | 20/100 [00:17<01:11,  1.12it/s]"
     ]
    },
    {
     "name": "stdout",
     "output_type": "stream",
     "text": [
      "[LightGBM] [Warning] lambda_l1 is set=1.6568558853289863, reg_alpha=0.0 will be ignored. Current value: lambda_l1=1.6568558853289863\n",
      "[LightGBM] [Warning] bagging_fraction is set=0.8504282163263281, subsample=1.0 will be ignored. Current value: bagging_fraction=0.8504282163263281\n",
      "[LightGBM] [Warning] feature_fraction is set=0.705433568927063, colsample_bytree=1.0 will be ignored. Current value: feature_fraction=0.705433568927063\n",
      "[LightGBM] [Warning] lambda_l2 is set=5.241653664300623, reg_lambda=0.0 will be ignored. Current value: lambda_l2=5.241653664300623\n"
     ]
    },
    {
     "name": "stderr",
     "output_type": "stream",
     "text": [
      " 21%|██        | 21/100 [00:18<01:10,  1.12it/s]"
     ]
    },
    {
     "name": "stdout",
     "output_type": "stream",
     "text": [
      "[LightGBM] [Warning] lambda_l1 is set=1.6568558853289863, reg_alpha=0.0 will be ignored. Current value: lambda_l1=1.6568558853289863\n",
      "[LightGBM] [Warning] bagging_fraction is set=0.8504282163263281, subsample=1.0 will be ignored. Current value: bagging_fraction=0.8504282163263281\n",
      "[LightGBM] [Warning] feature_fraction is set=0.705433568927063, colsample_bytree=1.0 will be ignored. Current value: feature_fraction=0.705433568927063\n",
      "[LightGBM] [Warning] lambda_l2 is set=5.241653664300623, reg_lambda=0.0 will be ignored. Current value: lambda_l2=5.241653664300623\n"
     ]
    },
    {
     "name": "stderr",
     "output_type": "stream",
     "text": [
      " 22%|██▏       | 22/100 [00:19<01:09,  1.13it/s]"
     ]
    },
    {
     "name": "stdout",
     "output_type": "stream",
     "text": [
      "[LightGBM] [Warning] lambda_l1 is set=1.6568558853289863, reg_alpha=0.0 will be ignored. Current value: lambda_l1=1.6568558853289863\n",
      "[LightGBM] [Warning] bagging_fraction is set=0.8504282163263281, subsample=1.0 will be ignored. Current value: bagging_fraction=0.8504282163263281\n",
      "[LightGBM] [Warning] feature_fraction is set=0.705433568927063, colsample_bytree=1.0 will be ignored. Current value: feature_fraction=0.705433568927063\n",
      "[LightGBM] [Warning] lambda_l2 is set=5.241653664300623, reg_lambda=0.0 will be ignored. Current value: lambda_l2=5.241653664300623\n"
     ]
    },
    {
     "name": "stderr",
     "output_type": "stream",
     "text": [
      " 23%|██▎       | 23/100 [00:20<01:08,  1.12it/s]"
     ]
    },
    {
     "name": "stdout",
     "output_type": "stream",
     "text": [
      "[LightGBM] [Warning] lambda_l1 is set=1.6568558853289863, reg_alpha=0.0 will be ignored. Current value: lambda_l1=1.6568558853289863\n",
      "[LightGBM] [Warning] bagging_fraction is set=0.8504282163263281, subsample=1.0 will be ignored. Current value: bagging_fraction=0.8504282163263281\n",
      "[LightGBM] [Warning] feature_fraction is set=0.705433568927063, colsample_bytree=1.0 will be ignored. Current value: feature_fraction=0.705433568927063\n",
      "[LightGBM] [Warning] lambda_l2 is set=5.241653664300623, reg_lambda=0.0 will be ignored. Current value: lambda_l2=5.241653664300623\n"
     ]
    },
    {
     "name": "stderr",
     "output_type": "stream",
     "text": [
      " 24%|██▍       | 24/100 [00:21<01:09,  1.10it/s]"
     ]
    },
    {
     "name": "stdout",
     "output_type": "stream",
     "text": [
      "[LightGBM] [Warning] lambda_l1 is set=1.6568558853289863, reg_alpha=0.0 will be ignored. Current value: lambda_l1=1.6568558853289863\n",
      "[LightGBM] [Warning] bagging_fraction is set=0.8504282163263281, subsample=1.0 will be ignored. Current value: bagging_fraction=0.8504282163263281\n",
      "[LightGBM] [Warning] feature_fraction is set=0.705433568927063, colsample_bytree=1.0 will be ignored. Current value: feature_fraction=0.705433568927063\n",
      "[LightGBM] [Warning] lambda_l2 is set=5.241653664300623, reg_lambda=0.0 will be ignored. Current value: lambda_l2=5.241653664300623\n"
     ]
    },
    {
     "name": "stderr",
     "output_type": "stream",
     "text": [
      " 25%|██▌       | 25/100 [00:22<01:07,  1.11it/s]"
     ]
    },
    {
     "name": "stdout",
     "output_type": "stream",
     "text": [
      "[LightGBM] [Warning] lambda_l1 is set=1.6568558853289863, reg_alpha=0.0 will be ignored. Current value: lambda_l1=1.6568558853289863\n",
      "[LightGBM] [Warning] bagging_fraction is set=0.8504282163263281, subsample=1.0 will be ignored. Current value: bagging_fraction=0.8504282163263281\n",
      "[LightGBM] [Warning] feature_fraction is set=0.705433568927063, colsample_bytree=1.0 will be ignored. Current value: feature_fraction=0.705433568927063\n",
      "[LightGBM] [Warning] lambda_l2 is set=5.241653664300623, reg_lambda=0.0 will be ignored. Current value: lambda_l2=5.241653664300623\n"
     ]
    },
    {
     "name": "stderr",
     "output_type": "stream",
     "text": [
      " 26%|██▌       | 26/100 [00:23<01:06,  1.12it/s]"
     ]
    },
    {
     "name": "stdout",
     "output_type": "stream",
     "text": [
      "[LightGBM] [Warning] lambda_l1 is set=1.6568558853289863, reg_alpha=0.0 will be ignored. Current value: lambda_l1=1.6568558853289863\n",
      "[LightGBM] [Warning] bagging_fraction is set=0.8504282163263281, subsample=1.0 will be ignored. Current value: bagging_fraction=0.8504282163263281\n",
      "[LightGBM] [Warning] feature_fraction is set=0.705433568927063, colsample_bytree=1.0 will be ignored. Current value: feature_fraction=0.705433568927063\n",
      "[LightGBM] [Warning] lambda_l2 is set=5.241653664300623, reg_lambda=0.0 will be ignored. Current value: lambda_l2=5.241653664300623\n"
     ]
    },
    {
     "name": "stderr",
     "output_type": "stream",
     "text": [
      " 27%|██▋       | 27/100 [00:24<01:06,  1.10it/s]"
     ]
    },
    {
     "name": "stdout",
     "output_type": "stream",
     "text": [
      "[LightGBM] [Warning] lambda_l1 is set=1.6568558853289863, reg_alpha=0.0 will be ignored. Current value: lambda_l1=1.6568558853289863\n",
      "[LightGBM] [Warning] bagging_fraction is set=0.8504282163263281, subsample=1.0 will be ignored. Current value: bagging_fraction=0.8504282163263281\n",
      "[LightGBM] [Warning] feature_fraction is set=0.705433568927063, colsample_bytree=1.0 will be ignored. Current value: feature_fraction=0.705433568927063\n",
      "[LightGBM] [Warning] lambda_l2 is set=5.241653664300623, reg_lambda=0.0 will be ignored. Current value: lambda_l2=5.241653664300623\n"
     ]
    },
    {
     "name": "stderr",
     "output_type": "stream",
     "text": [
      " 28%|██▊       | 28/100 [00:25<01:05,  1.10it/s]"
     ]
    },
    {
     "name": "stdout",
     "output_type": "stream",
     "text": [
      "[LightGBM] [Warning] lambda_l1 is set=1.6568558853289863, reg_alpha=0.0 will be ignored. Current value: lambda_l1=1.6568558853289863\n",
      "[LightGBM] [Warning] bagging_fraction is set=0.8504282163263281, subsample=1.0 will be ignored. Current value: bagging_fraction=0.8504282163263281\n",
      "[LightGBM] [Warning] feature_fraction is set=0.705433568927063, colsample_bytree=1.0 will be ignored. Current value: feature_fraction=0.705433568927063\n",
      "[LightGBM] [Warning] lambda_l2 is set=5.241653664300623, reg_lambda=0.0 will be ignored. Current value: lambda_l2=5.241653664300623\n"
     ]
    },
    {
     "name": "stderr",
     "output_type": "stream",
     "text": [
      " 29%|██▉       | 29/100 [00:26<01:03,  1.11it/s]"
     ]
    },
    {
     "name": "stdout",
     "output_type": "stream",
     "text": [
      "[LightGBM] [Warning] lambda_l1 is set=1.6568558853289863, reg_alpha=0.0 will be ignored. Current value: lambda_l1=1.6568558853289863\n",
      "[LightGBM] [Warning] bagging_fraction is set=0.8504282163263281, subsample=1.0 will be ignored. Current value: bagging_fraction=0.8504282163263281\n",
      "[LightGBM] [Warning] feature_fraction is set=0.705433568927063, colsample_bytree=1.0 will be ignored. Current value: feature_fraction=0.705433568927063\n",
      "[LightGBM] [Warning] lambda_l2 is set=5.241653664300623, reg_lambda=0.0 will be ignored. Current value: lambda_l2=5.241653664300623\n"
     ]
    },
    {
     "name": "stderr",
     "output_type": "stream",
     "text": [
      " 30%|███       | 30/100 [00:26<01:03,  1.10it/s]"
     ]
    },
    {
     "name": "stdout",
     "output_type": "stream",
     "text": [
      "[LightGBM] [Warning] lambda_l1 is set=1.6568558853289863, reg_alpha=0.0 will be ignored. Current value: lambda_l1=1.6568558853289863\n",
      "[LightGBM] [Warning] bagging_fraction is set=0.8504282163263281, subsample=1.0 will be ignored. Current value: bagging_fraction=0.8504282163263281\n",
      "[LightGBM] [Warning] feature_fraction is set=0.705433568927063, colsample_bytree=1.0 will be ignored. Current value: feature_fraction=0.705433568927063\n",
      "[LightGBM] [Warning] lambda_l2 is set=5.241653664300623, reg_lambda=0.0 will be ignored. Current value: lambda_l2=5.241653664300623\n"
     ]
    },
    {
     "name": "stderr",
     "output_type": "stream",
     "text": [
      " 31%|███       | 31/100 [00:27<01:02,  1.11it/s]"
     ]
    },
    {
     "name": "stdout",
     "output_type": "stream",
     "text": [
      "[LightGBM] [Warning] lambda_l1 is set=1.6568558853289863, reg_alpha=0.0 will be ignored. Current value: lambda_l1=1.6568558853289863\n",
      "[LightGBM] [Warning] bagging_fraction is set=0.8504282163263281, subsample=1.0 will be ignored. Current value: bagging_fraction=0.8504282163263281\n",
      "[LightGBM] [Warning] feature_fraction is set=0.705433568927063, colsample_bytree=1.0 will be ignored. Current value: feature_fraction=0.705433568927063\n",
      "[LightGBM] [Warning] lambda_l2 is set=5.241653664300623, reg_lambda=0.0 will be ignored. Current value: lambda_l2=5.241653664300623\n"
     ]
    },
    {
     "name": "stderr",
     "output_type": "stream",
     "text": [
      " 32%|███▏      | 32/100 [00:28<01:02,  1.09it/s]"
     ]
    },
    {
     "name": "stdout",
     "output_type": "stream",
     "text": [
      "[LightGBM] [Warning] lambda_l1 is set=1.6568558853289863, reg_alpha=0.0 will be ignored. Current value: lambda_l1=1.6568558853289863\n",
      "[LightGBM] [Warning] bagging_fraction is set=0.8504282163263281, subsample=1.0 will be ignored. Current value: bagging_fraction=0.8504282163263281\n",
      "[LightGBM] [Warning] feature_fraction is set=0.705433568927063, colsample_bytree=1.0 will be ignored. Current value: feature_fraction=0.705433568927063\n",
      "[LightGBM] [Warning] lambda_l2 is set=5.241653664300623, reg_lambda=0.0 will be ignored. Current value: lambda_l2=5.241653664300623\n"
     ]
    },
    {
     "name": "stderr",
     "output_type": "stream",
     "text": [
      " 33%|███▎      | 33/100 [00:30<01:15,  1.12s/it]"
     ]
    },
    {
     "name": "stdout",
     "output_type": "stream",
     "text": [
      "[LightGBM] [Warning] lambda_l1 is set=1.6568558853289863, reg_alpha=0.0 will be ignored. Current value: lambda_l1=1.6568558853289863\n",
      "[LightGBM] [Warning] bagging_fraction is set=0.8504282163263281, subsample=1.0 will be ignored. Current value: bagging_fraction=0.8504282163263281\n",
      "[LightGBM] [Warning] feature_fraction is set=0.705433568927063, colsample_bytree=1.0 will be ignored. Current value: feature_fraction=0.705433568927063\n",
      "[LightGBM] [Warning] lambda_l2 is set=5.241653664300623, reg_lambda=0.0 will be ignored. Current value: lambda_l2=5.241653664300623\n"
     ]
    },
    {
     "name": "stderr",
     "output_type": "stream",
     "text": [
      " 34%|███▍      | 34/100 [00:31<01:10,  1.06s/it]"
     ]
    },
    {
     "name": "stdout",
     "output_type": "stream",
     "text": [
      "[LightGBM] [Warning] lambda_l1 is set=1.6568558853289863, reg_alpha=0.0 will be ignored. Current value: lambda_l1=1.6568558853289863\n",
      "[LightGBM] [Warning] bagging_fraction is set=0.8504282163263281, subsample=1.0 will be ignored. Current value: bagging_fraction=0.8504282163263281\n",
      "[LightGBM] [Warning] feature_fraction is set=0.705433568927063, colsample_bytree=1.0 will be ignored. Current value: feature_fraction=0.705433568927063\n",
      "[LightGBM] [Warning] lambda_l2 is set=5.241653664300623, reg_lambda=0.0 will be ignored. Current value: lambda_l2=5.241653664300623\n"
     ]
    },
    {
     "name": "stderr",
     "output_type": "stream",
     "text": [
      " 35%|███▌      | 35/100 [00:32<01:05,  1.01s/it]"
     ]
    },
    {
     "name": "stdout",
     "output_type": "stream",
     "text": [
      "[LightGBM] [Warning] lambda_l1 is set=1.6568558853289863, reg_alpha=0.0 will be ignored. Current value: lambda_l1=1.6568558853289863\n",
      "[LightGBM] [Warning] bagging_fraction is set=0.8504282163263281, subsample=1.0 will be ignored. Current value: bagging_fraction=0.8504282163263281\n",
      "[LightGBM] [Warning] feature_fraction is set=0.705433568927063, colsample_bytree=1.0 will be ignored. Current value: feature_fraction=0.705433568927063\n",
      "[LightGBM] [Warning] lambda_l2 is set=5.241653664300623, reg_lambda=0.0 will be ignored. Current value: lambda_l2=5.241653664300623\n"
     ]
    },
    {
     "name": "stderr",
     "output_type": "stream",
     "text": [
      " 36%|███▌      | 36/100 [00:33<01:03,  1.00it/s]"
     ]
    },
    {
     "name": "stdout",
     "output_type": "stream",
     "text": [
      "[LightGBM] [Warning] lambda_l1 is set=1.6568558853289863, reg_alpha=0.0 will be ignored. Current value: lambda_l1=1.6568558853289863\n",
      "[LightGBM] [Warning] bagging_fraction is set=0.8504282163263281, subsample=1.0 will be ignored. Current value: bagging_fraction=0.8504282163263281\n",
      "[LightGBM] [Warning] feature_fraction is set=0.705433568927063, colsample_bytree=1.0 will be ignored. Current value: feature_fraction=0.705433568927063\n",
      "[LightGBM] [Warning] lambda_l2 is set=5.241653664300623, reg_lambda=0.0 will be ignored. Current value: lambda_l2=5.241653664300623\n"
     ]
    },
    {
     "name": "stderr",
     "output_type": "stream",
     "text": [
      " 37%|███▋      | 37/100 [00:34<01:00,  1.04it/s]"
     ]
    },
    {
     "name": "stdout",
     "output_type": "stream",
     "text": [
      "[LightGBM] [Warning] lambda_l1 is set=1.6568558853289863, reg_alpha=0.0 will be ignored. Current value: lambda_l1=1.6568558853289863\n",
      "[LightGBM] [Warning] bagging_fraction is set=0.8504282163263281, subsample=1.0 will be ignored. Current value: bagging_fraction=0.8504282163263281\n",
      "[LightGBM] [Warning] feature_fraction is set=0.705433568927063, colsample_bytree=1.0 will be ignored. Current value: feature_fraction=0.705433568927063\n",
      "[LightGBM] [Warning] lambda_l2 is set=5.241653664300623, reg_lambda=0.0 will be ignored. Current value: lambda_l2=5.241653664300623\n"
     ]
    },
    {
     "name": "stderr",
     "output_type": "stream",
     "text": [
      " 38%|███▊      | 38/100 [00:34<00:58,  1.06it/s]"
     ]
    },
    {
     "name": "stdout",
     "output_type": "stream",
     "text": [
      "[LightGBM] [Warning] lambda_l1 is set=1.6568558853289863, reg_alpha=0.0 will be ignored. Current value: lambda_l1=1.6568558853289863\n",
      "[LightGBM] [Warning] bagging_fraction is set=0.8504282163263281, subsample=1.0 will be ignored. Current value: bagging_fraction=0.8504282163263281\n",
      "[LightGBM] [Warning] feature_fraction is set=0.705433568927063, colsample_bytree=1.0 will be ignored. Current value: feature_fraction=0.705433568927063\n",
      "[LightGBM] [Warning] lambda_l2 is set=5.241653664300623, reg_lambda=0.0 will be ignored. Current value: lambda_l2=5.241653664300623\n"
     ]
    },
    {
     "name": "stderr",
     "output_type": "stream",
     "text": [
      " 39%|███▉      | 39/100 [00:35<00:56,  1.07it/s]"
     ]
    },
    {
     "name": "stdout",
     "output_type": "stream",
     "text": [
      "[LightGBM] [Warning] lambda_l1 is set=1.6568558853289863, reg_alpha=0.0 will be ignored. Current value: lambda_l1=1.6568558853289863\n",
      "[LightGBM] [Warning] bagging_fraction is set=0.8504282163263281, subsample=1.0 will be ignored. Current value: bagging_fraction=0.8504282163263281\n",
      "[LightGBM] [Warning] feature_fraction is set=0.705433568927063, colsample_bytree=1.0 will be ignored. Current value: feature_fraction=0.705433568927063\n",
      "[LightGBM] [Warning] lambda_l2 is set=5.241653664300623, reg_lambda=0.0 will be ignored. Current value: lambda_l2=5.241653664300623\n"
     ]
    },
    {
     "name": "stderr",
     "output_type": "stream",
     "text": [
      " 40%|████      | 40/100 [00:36<00:55,  1.09it/s]"
     ]
    },
    {
     "name": "stdout",
     "output_type": "stream",
     "text": [
      "[LightGBM] [Warning] lambda_l1 is set=1.6568558853289863, reg_alpha=0.0 will be ignored. Current value: lambda_l1=1.6568558853289863\n",
      "[LightGBM] [Warning] bagging_fraction is set=0.8504282163263281, subsample=1.0 will be ignored. Current value: bagging_fraction=0.8504282163263281\n",
      "[LightGBM] [Warning] feature_fraction is set=0.705433568927063, colsample_bytree=1.0 will be ignored. Current value: feature_fraction=0.705433568927063\n",
      "[LightGBM] [Warning] lambda_l2 is set=5.241653664300623, reg_lambda=0.0 will be ignored. Current value: lambda_l2=5.241653664300623\n"
     ]
    },
    {
     "name": "stderr",
     "output_type": "stream",
     "text": [
      " 41%|████      | 41/100 [00:37<00:53,  1.10it/s]"
     ]
    },
    {
     "name": "stdout",
     "output_type": "stream",
     "text": [
      "[LightGBM] [Warning] lambda_l1 is set=1.6568558853289863, reg_alpha=0.0 will be ignored. Current value: lambda_l1=1.6568558853289863\n",
      "[LightGBM] [Warning] bagging_fraction is set=0.8504282163263281, subsample=1.0 will be ignored. Current value: bagging_fraction=0.8504282163263281\n",
      "[LightGBM] [Warning] feature_fraction is set=0.705433568927063, colsample_bytree=1.0 will be ignored. Current value: feature_fraction=0.705433568927063\n",
      "[LightGBM] [Warning] lambda_l2 is set=5.241653664300623, reg_lambda=0.0 will be ignored. Current value: lambda_l2=5.241653664300623\n"
     ]
    },
    {
     "name": "stderr",
     "output_type": "stream",
     "text": [
      " 42%|████▏     | 42/100 [00:38<00:52,  1.11it/s]"
     ]
    },
    {
     "name": "stdout",
     "output_type": "stream",
     "text": [
      "[LightGBM] [Warning] lambda_l1 is set=1.6568558853289863, reg_alpha=0.0 will be ignored. Current value: lambda_l1=1.6568558853289863\n",
      "[LightGBM] [Warning] bagging_fraction is set=0.8504282163263281, subsample=1.0 will be ignored. Current value: bagging_fraction=0.8504282163263281\n",
      "[LightGBM] [Warning] feature_fraction is set=0.705433568927063, colsample_bytree=1.0 will be ignored. Current value: feature_fraction=0.705433568927063\n",
      "[LightGBM] [Warning] lambda_l2 is set=5.241653664300623, reg_lambda=0.0 will be ignored. Current value: lambda_l2=5.241653664300623\n"
     ]
    },
    {
     "name": "stderr",
     "output_type": "stream",
     "text": [
      " 43%|████▎     | 43/100 [00:39<00:51,  1.12it/s]"
     ]
    },
    {
     "name": "stdout",
     "output_type": "stream",
     "text": [
      "[LightGBM] [Warning] lambda_l1 is set=1.6568558853289863, reg_alpha=0.0 will be ignored. Current value: lambda_l1=1.6568558853289863\n",
      "[LightGBM] [Warning] bagging_fraction is set=0.8504282163263281, subsample=1.0 will be ignored. Current value: bagging_fraction=0.8504282163263281\n",
      "[LightGBM] [Warning] feature_fraction is set=0.705433568927063, colsample_bytree=1.0 will be ignored. Current value: feature_fraction=0.705433568927063\n",
      "[LightGBM] [Warning] lambda_l2 is set=5.241653664300623, reg_lambda=0.0 will be ignored. Current value: lambda_l2=5.241653664300623\n"
     ]
    },
    {
     "name": "stderr",
     "output_type": "stream",
     "text": [
      " 44%|████▍     | 44/100 [00:40<00:50,  1.11it/s]"
     ]
    },
    {
     "name": "stdout",
     "output_type": "stream",
     "text": [
      "[LightGBM] [Warning] lambda_l1 is set=1.6568558853289863, reg_alpha=0.0 will be ignored. Current value: lambda_l1=1.6568558853289863\n",
      "[LightGBM] [Warning] bagging_fraction is set=0.8504282163263281, subsample=1.0 will be ignored. Current value: bagging_fraction=0.8504282163263281\n",
      "[LightGBM] [Warning] feature_fraction is set=0.705433568927063, colsample_bytree=1.0 will be ignored. Current value: feature_fraction=0.705433568927063\n",
      "[LightGBM] [Warning] lambda_l2 is set=5.241653664300623, reg_lambda=0.0 will be ignored. Current value: lambda_l2=5.241653664300623\n"
     ]
    },
    {
     "name": "stderr",
     "output_type": "stream",
     "text": [
      " 45%|████▌     | 45/100 [00:41<00:49,  1.11it/s]"
     ]
    },
    {
     "name": "stdout",
     "output_type": "stream",
     "text": [
      "[LightGBM] [Warning] lambda_l1 is set=1.6568558853289863, reg_alpha=0.0 will be ignored. Current value: lambda_l1=1.6568558853289863\n",
      "[LightGBM] [Warning] bagging_fraction is set=0.8504282163263281, subsample=1.0 will be ignored. Current value: bagging_fraction=0.8504282163263281\n",
      "[LightGBM] [Warning] feature_fraction is set=0.705433568927063, colsample_bytree=1.0 will be ignored. Current value: feature_fraction=0.705433568927063\n",
      "[LightGBM] [Warning] lambda_l2 is set=5.241653664300623, reg_lambda=0.0 will be ignored. Current value: lambda_l2=5.241653664300623\n"
     ]
    },
    {
     "name": "stderr",
     "output_type": "stream",
     "text": [
      " 46%|████▌     | 46/100 [00:42<00:48,  1.12it/s]"
     ]
    },
    {
     "name": "stdout",
     "output_type": "stream",
     "text": [
      "[LightGBM] [Warning] lambda_l1 is set=1.6568558853289863, reg_alpha=0.0 will be ignored. Current value: lambda_l1=1.6568558853289863\n",
      "[LightGBM] [Warning] bagging_fraction is set=0.8504282163263281, subsample=1.0 will be ignored. Current value: bagging_fraction=0.8504282163263281\n",
      "[LightGBM] [Warning] feature_fraction is set=0.705433568927063, colsample_bytree=1.0 will be ignored. Current value: feature_fraction=0.705433568927063\n",
      "[LightGBM] [Warning] lambda_l2 is set=5.241653664300623, reg_lambda=0.0 will be ignored. Current value: lambda_l2=5.241653664300623\n"
     ]
    },
    {
     "name": "stderr",
     "output_type": "stream",
     "text": [
      " 47%|████▋     | 47/100 [00:43<00:47,  1.12it/s]"
     ]
    },
    {
     "name": "stdout",
     "output_type": "stream",
     "text": [
      "[LightGBM] [Warning] lambda_l1 is set=1.6568558853289863, reg_alpha=0.0 will be ignored. Current value: lambda_l1=1.6568558853289863\n",
      "[LightGBM] [Warning] bagging_fraction is set=0.8504282163263281, subsample=1.0 will be ignored. Current value: bagging_fraction=0.8504282163263281\n",
      "[LightGBM] [Warning] feature_fraction is set=0.705433568927063, colsample_bytree=1.0 will be ignored. Current value: feature_fraction=0.705433568927063\n",
      "[LightGBM] [Warning] lambda_l2 is set=5.241653664300623, reg_lambda=0.0 will be ignored. Current value: lambda_l2=5.241653664300623\n"
     ]
    },
    {
     "name": "stderr",
     "output_type": "stream",
     "text": [
      " 48%|████▊     | 48/100 [00:43<00:46,  1.11it/s]"
     ]
    },
    {
     "name": "stdout",
     "output_type": "stream",
     "text": [
      "[LightGBM] [Warning] lambda_l1 is set=1.6568558853289863, reg_alpha=0.0 will be ignored. Current value: lambda_l1=1.6568558853289863\n",
      "[LightGBM] [Warning] bagging_fraction is set=0.8504282163263281, subsample=1.0 will be ignored. Current value: bagging_fraction=0.8504282163263281\n",
      "[LightGBM] [Warning] feature_fraction is set=0.705433568927063, colsample_bytree=1.0 will be ignored. Current value: feature_fraction=0.705433568927063\n",
      "[LightGBM] [Warning] lambda_l2 is set=5.241653664300623, reg_lambda=0.0 will be ignored. Current value: lambda_l2=5.241653664300623\n"
     ]
    },
    {
     "name": "stderr",
     "output_type": "stream",
     "text": [
      " 49%|████▉     | 49/100 [00:44<00:45,  1.12it/s]"
     ]
    },
    {
     "name": "stdout",
     "output_type": "stream",
     "text": [
      "[LightGBM] [Warning] lambda_l1 is set=1.6568558853289863, reg_alpha=0.0 will be ignored. Current value: lambda_l1=1.6568558853289863\n",
      "[LightGBM] [Warning] bagging_fraction is set=0.8504282163263281, subsample=1.0 will be ignored. Current value: bagging_fraction=0.8504282163263281\n",
      "[LightGBM] [Warning] feature_fraction is set=0.705433568927063, colsample_bytree=1.0 will be ignored. Current value: feature_fraction=0.705433568927063\n",
      "[LightGBM] [Warning] lambda_l2 is set=5.241653664300623, reg_lambda=0.0 will be ignored. Current value: lambda_l2=5.241653664300623\n"
     ]
    },
    {
     "name": "stderr",
     "output_type": "stream",
     "text": [
      " 50%|█████     | 50/100 [00:45<00:44,  1.12it/s]"
     ]
    },
    {
     "name": "stdout",
     "output_type": "stream",
     "text": [
      "[LightGBM] [Warning] lambda_l1 is set=1.6568558853289863, reg_alpha=0.0 will be ignored. Current value: lambda_l1=1.6568558853289863\n",
      "[LightGBM] [Warning] bagging_fraction is set=0.8504282163263281, subsample=1.0 will be ignored. Current value: bagging_fraction=0.8504282163263281\n",
      "[LightGBM] [Warning] feature_fraction is set=0.705433568927063, colsample_bytree=1.0 will be ignored. Current value: feature_fraction=0.705433568927063\n",
      "[LightGBM] [Warning] lambda_l2 is set=5.241653664300623, reg_lambda=0.0 will be ignored. Current value: lambda_l2=5.241653664300623\n"
     ]
    },
    {
     "name": "stderr",
     "output_type": "stream",
     "text": [
      " 51%|█████     | 51/100 [00:46<00:43,  1.12it/s]"
     ]
    },
    {
     "name": "stdout",
     "output_type": "stream",
     "text": [
      "[LightGBM] [Warning] lambda_l1 is set=1.6568558853289863, reg_alpha=0.0 will be ignored. Current value: lambda_l1=1.6568558853289863\n",
      "[LightGBM] [Warning] bagging_fraction is set=0.8504282163263281, subsample=1.0 will be ignored. Current value: bagging_fraction=0.8504282163263281\n",
      "[LightGBM] [Warning] feature_fraction is set=0.705433568927063, colsample_bytree=1.0 will be ignored. Current value: feature_fraction=0.705433568927063\n",
      "[LightGBM] [Warning] lambda_l2 is set=5.241653664300623, reg_lambda=0.0 will be ignored. Current value: lambda_l2=5.241653664300623\n"
     ]
    },
    {
     "name": "stderr",
     "output_type": "stream",
     "text": [
      " 52%|█████▏    | 52/100 [00:47<00:43,  1.12it/s]"
     ]
    },
    {
     "name": "stdout",
     "output_type": "stream",
     "text": [
      "[LightGBM] [Warning] lambda_l1 is set=1.6568558853289863, reg_alpha=0.0 will be ignored. Current value: lambda_l1=1.6568558853289863\n",
      "[LightGBM] [Warning] bagging_fraction is set=0.8504282163263281, subsample=1.0 will be ignored. Current value: bagging_fraction=0.8504282163263281\n",
      "[LightGBM] [Warning] feature_fraction is set=0.705433568927063, colsample_bytree=1.0 will be ignored. Current value: feature_fraction=0.705433568927063\n",
      "[LightGBM] [Warning] lambda_l2 is set=5.241653664300623, reg_lambda=0.0 will be ignored. Current value: lambda_l2=5.241653664300623\n"
     ]
    },
    {
     "name": "stderr",
     "output_type": "stream",
     "text": [
      " 53%|█████▎    | 53/100 [00:48<00:42,  1.11it/s]"
     ]
    },
    {
     "name": "stdout",
     "output_type": "stream",
     "text": [
      "[LightGBM] [Warning] lambda_l1 is set=1.6568558853289863, reg_alpha=0.0 will be ignored. Current value: lambda_l1=1.6568558853289863\n",
      "[LightGBM] [Warning] bagging_fraction is set=0.8504282163263281, subsample=1.0 will be ignored. Current value: bagging_fraction=0.8504282163263281\n",
      "[LightGBM] [Warning] feature_fraction is set=0.705433568927063, colsample_bytree=1.0 will be ignored. Current value: feature_fraction=0.705433568927063\n",
      "[LightGBM] [Warning] lambda_l2 is set=5.241653664300623, reg_lambda=0.0 will be ignored. Current value: lambda_l2=5.241653664300623\n"
     ]
    },
    {
     "name": "stderr",
     "output_type": "stream",
     "text": [
      " 54%|█████▍    | 54/100 [00:49<00:41,  1.12it/s]"
     ]
    },
    {
     "name": "stdout",
     "output_type": "stream",
     "text": [
      "[LightGBM] [Warning] lambda_l1 is set=1.6568558853289863, reg_alpha=0.0 will be ignored. Current value: lambda_l1=1.6568558853289863\n",
      "[LightGBM] [Warning] bagging_fraction is set=0.8504282163263281, subsample=1.0 will be ignored. Current value: bagging_fraction=0.8504282163263281\n",
      "[LightGBM] [Warning] feature_fraction is set=0.705433568927063, colsample_bytree=1.0 will be ignored. Current value: feature_fraction=0.705433568927063\n",
      "[LightGBM] [Warning] lambda_l2 is set=5.241653664300623, reg_lambda=0.0 will be ignored. Current value: lambda_l2=5.241653664300623\n"
     ]
    },
    {
     "name": "stderr",
     "output_type": "stream",
     "text": [
      " 55%|█████▌    | 55/100 [00:50<00:40,  1.11it/s]"
     ]
    },
    {
     "name": "stdout",
     "output_type": "stream",
     "text": [
      "[LightGBM] [Warning] lambda_l1 is set=1.6568558853289863, reg_alpha=0.0 will be ignored. Current value: lambda_l1=1.6568558853289863\n",
      "[LightGBM] [Warning] bagging_fraction is set=0.8504282163263281, subsample=1.0 will be ignored. Current value: bagging_fraction=0.8504282163263281\n",
      "[LightGBM] [Warning] feature_fraction is set=0.705433568927063, colsample_bytree=1.0 will be ignored. Current value: feature_fraction=0.705433568927063\n",
      "[LightGBM] [Warning] lambda_l2 is set=5.241653664300623, reg_lambda=0.0 will be ignored. Current value: lambda_l2=5.241653664300623\n"
     ]
    },
    {
     "name": "stderr",
     "output_type": "stream",
     "text": [
      " 56%|█████▌    | 56/100 [00:51<00:39,  1.11it/s]"
     ]
    },
    {
     "name": "stdout",
     "output_type": "stream",
     "text": [
      "[LightGBM] [Warning] lambda_l1 is set=1.6568558853289863, reg_alpha=0.0 will be ignored. Current value: lambda_l1=1.6568558853289863\n",
      "[LightGBM] [Warning] bagging_fraction is set=0.8504282163263281, subsample=1.0 will be ignored. Current value: bagging_fraction=0.8504282163263281\n",
      "[LightGBM] [Warning] feature_fraction is set=0.705433568927063, colsample_bytree=1.0 will be ignored. Current value: feature_fraction=0.705433568927063\n",
      "[LightGBM] [Warning] lambda_l2 is set=5.241653664300623, reg_lambda=0.0 will be ignored. Current value: lambda_l2=5.241653664300623\n"
     ]
    },
    {
     "name": "stderr",
     "output_type": "stream",
     "text": [
      " 57%|█████▋    | 57/100 [00:52<00:38,  1.11it/s]"
     ]
    },
    {
     "name": "stdout",
     "output_type": "stream",
     "text": [
      "[LightGBM] [Warning] lambda_l1 is set=1.6568558853289863, reg_alpha=0.0 will be ignored. Current value: lambda_l1=1.6568558853289863\n",
      "[LightGBM] [Warning] bagging_fraction is set=0.8504282163263281, subsample=1.0 will be ignored. Current value: bagging_fraction=0.8504282163263281\n",
      "[LightGBM] [Warning] feature_fraction is set=0.705433568927063, colsample_bytree=1.0 will be ignored. Current value: feature_fraction=0.705433568927063\n",
      "[LightGBM] [Warning] lambda_l2 is set=5.241653664300623, reg_lambda=0.0 will be ignored. Current value: lambda_l2=5.241653664300623\n"
     ]
    },
    {
     "name": "stderr",
     "output_type": "stream",
     "text": [
      " 58%|█████▊    | 58/100 [00:52<00:37,  1.11it/s]"
     ]
    },
    {
     "name": "stdout",
     "output_type": "stream",
     "text": [
      "[LightGBM] [Warning] lambda_l1 is set=1.6568558853289863, reg_alpha=0.0 will be ignored. Current value: lambda_l1=1.6568558853289863\n",
      "[LightGBM] [Warning] bagging_fraction is set=0.8504282163263281, subsample=1.0 will be ignored. Current value: bagging_fraction=0.8504282163263281\n",
      "[LightGBM] [Warning] feature_fraction is set=0.705433568927063, colsample_bytree=1.0 will be ignored. Current value: feature_fraction=0.705433568927063\n",
      "[LightGBM] [Warning] lambda_l2 is set=5.241653664300623, reg_lambda=0.0 will be ignored. Current value: lambda_l2=5.241653664300623\n"
     ]
    },
    {
     "name": "stderr",
     "output_type": "stream",
     "text": [
      " 59%|█████▉    | 59/100 [00:53<00:36,  1.11it/s]"
     ]
    },
    {
     "name": "stdout",
     "output_type": "stream",
     "text": [
      "[LightGBM] [Warning] lambda_l1 is set=1.6568558853289863, reg_alpha=0.0 will be ignored. Current value: lambda_l1=1.6568558853289863\n",
      "[LightGBM] [Warning] bagging_fraction is set=0.8504282163263281, subsample=1.0 will be ignored. Current value: bagging_fraction=0.8504282163263281\n",
      "[LightGBM] [Warning] feature_fraction is set=0.705433568927063, colsample_bytree=1.0 will be ignored. Current value: feature_fraction=0.705433568927063\n",
      "[LightGBM] [Warning] lambda_l2 is set=5.241653664300623, reg_lambda=0.0 will be ignored. Current value: lambda_l2=5.241653664300623\n"
     ]
    },
    {
     "name": "stderr",
     "output_type": "stream",
     "text": [
      " 60%|██████    | 60/100 [00:54<00:35,  1.12it/s]"
     ]
    },
    {
     "name": "stdout",
     "output_type": "stream",
     "text": [
      "[LightGBM] [Warning] lambda_l1 is set=1.6568558853289863, reg_alpha=0.0 will be ignored. Current value: lambda_l1=1.6568558853289863\n",
      "[LightGBM] [Warning] bagging_fraction is set=0.8504282163263281, subsample=1.0 will be ignored. Current value: bagging_fraction=0.8504282163263281\n",
      "[LightGBM] [Warning] feature_fraction is set=0.705433568927063, colsample_bytree=1.0 will be ignored. Current value: feature_fraction=0.705433568927063\n",
      "[LightGBM] [Warning] lambda_l2 is set=5.241653664300623, reg_lambda=0.0 will be ignored. Current value: lambda_l2=5.241653664300623\n"
     ]
    },
    {
     "name": "stderr",
     "output_type": "stream",
     "text": [
      " 61%|██████    | 61/100 [00:55<00:34,  1.12it/s]"
     ]
    },
    {
     "name": "stdout",
     "output_type": "stream",
     "text": [
      "[LightGBM] [Warning] lambda_l1 is set=1.6568558853289863, reg_alpha=0.0 will be ignored. Current value: lambda_l1=1.6568558853289863\n",
      "[LightGBM] [Warning] bagging_fraction is set=0.8504282163263281, subsample=1.0 will be ignored. Current value: bagging_fraction=0.8504282163263281\n",
      "[LightGBM] [Warning] feature_fraction is set=0.705433568927063, colsample_bytree=1.0 will be ignored. Current value: feature_fraction=0.705433568927063\n",
      "[LightGBM] [Warning] lambda_l2 is set=5.241653664300623, reg_lambda=0.0 will be ignored. Current value: lambda_l2=5.241653664300623\n"
     ]
    },
    {
     "name": "stderr",
     "output_type": "stream",
     "text": [
      " 62%|██████▏   | 62/100 [00:56<00:33,  1.12it/s]"
     ]
    },
    {
     "name": "stdout",
     "output_type": "stream",
     "text": [
      "[LightGBM] [Warning] lambda_l1 is set=1.6568558853289863, reg_alpha=0.0 will be ignored. Current value: lambda_l1=1.6568558853289863\n",
      "[LightGBM] [Warning] bagging_fraction is set=0.8504282163263281, subsample=1.0 will be ignored. Current value: bagging_fraction=0.8504282163263281\n",
      "[LightGBM] [Warning] feature_fraction is set=0.705433568927063, colsample_bytree=1.0 will be ignored. Current value: feature_fraction=0.705433568927063\n",
      "[LightGBM] [Warning] lambda_l2 is set=5.241653664300623, reg_lambda=0.0 will be ignored. Current value: lambda_l2=5.241653664300623\n"
     ]
    },
    {
     "name": "stderr",
     "output_type": "stream",
     "text": [
      " 63%|██████▎   | 63/100 [00:57<00:33,  1.12it/s]"
     ]
    },
    {
     "name": "stdout",
     "output_type": "stream",
     "text": [
      "[LightGBM] [Warning] lambda_l1 is set=1.6568558853289863, reg_alpha=0.0 will be ignored. Current value: lambda_l1=1.6568558853289863\n",
      "[LightGBM] [Warning] bagging_fraction is set=0.8504282163263281, subsample=1.0 will be ignored. Current value: bagging_fraction=0.8504282163263281\n",
      "[LightGBM] [Warning] feature_fraction is set=0.705433568927063, colsample_bytree=1.0 will be ignored. Current value: feature_fraction=0.705433568927063\n",
      "[LightGBM] [Warning] lambda_l2 is set=5.241653664300623, reg_lambda=0.0 will be ignored. Current value: lambda_l2=5.241653664300623\n"
     ]
    },
    {
     "name": "stderr",
     "output_type": "stream",
     "text": [
      " 64%|██████▍   | 64/100 [00:58<00:32,  1.12it/s]"
     ]
    },
    {
     "name": "stdout",
     "output_type": "stream",
     "text": [
      "[LightGBM] [Warning] lambda_l1 is set=1.6568558853289863, reg_alpha=0.0 will be ignored. Current value: lambda_l1=1.6568558853289863\n",
      "[LightGBM] [Warning] bagging_fraction is set=0.8504282163263281, subsample=1.0 will be ignored. Current value: bagging_fraction=0.8504282163263281\n",
      "[LightGBM] [Warning] feature_fraction is set=0.705433568927063, colsample_bytree=1.0 will be ignored. Current value: feature_fraction=0.705433568927063\n",
      "[LightGBM] [Warning] lambda_l2 is set=5.241653664300623, reg_lambda=0.0 will be ignored. Current value: lambda_l2=5.241653664300623\n"
     ]
    },
    {
     "name": "stderr",
     "output_type": "stream",
     "text": [
      " 65%|██████▌   | 65/100 [00:59<00:31,  1.11it/s]"
     ]
    },
    {
     "name": "stdout",
     "output_type": "stream",
     "text": [
      "[LightGBM] [Warning] lambda_l1 is set=1.6568558853289863, reg_alpha=0.0 will be ignored. Current value: lambda_l1=1.6568558853289863\n",
      "[LightGBM] [Warning] bagging_fraction is set=0.8504282163263281, subsample=1.0 will be ignored. Current value: bagging_fraction=0.8504282163263281\n",
      "[LightGBM] [Warning] feature_fraction is set=0.705433568927063, colsample_bytree=1.0 will be ignored. Current value: feature_fraction=0.705433568927063\n",
      "[LightGBM] [Warning] lambda_l2 is set=5.241653664300623, reg_lambda=0.0 will be ignored. Current value: lambda_l2=5.241653664300623\n"
     ]
    },
    {
     "name": "stderr",
     "output_type": "stream",
     "text": [
      " 66%|██████▌   | 66/100 [01:00<00:30,  1.10it/s]"
     ]
    },
    {
     "name": "stdout",
     "output_type": "stream",
     "text": [
      "[LightGBM] [Warning] lambda_l1 is set=1.6568558853289863, reg_alpha=0.0 will be ignored. Current value: lambda_l1=1.6568558853289863\n",
      "[LightGBM] [Warning] bagging_fraction is set=0.8504282163263281, subsample=1.0 will be ignored. Current value: bagging_fraction=0.8504282163263281\n",
      "[LightGBM] [Warning] feature_fraction is set=0.705433568927063, colsample_bytree=1.0 will be ignored. Current value: feature_fraction=0.705433568927063\n",
      "[LightGBM] [Warning] lambda_l2 is set=5.241653664300623, reg_lambda=0.0 will be ignored. Current value: lambda_l2=5.241653664300623\n"
     ]
    },
    {
     "name": "stderr",
     "output_type": "stream",
     "text": [
      " 67%|██████▋   | 67/100 [01:00<00:29,  1.11it/s]"
     ]
    },
    {
     "name": "stdout",
     "output_type": "stream",
     "text": [
      "[LightGBM] [Warning] lambda_l1 is set=1.6568558853289863, reg_alpha=0.0 will be ignored. Current value: lambda_l1=1.6568558853289863\n",
      "[LightGBM] [Warning] bagging_fraction is set=0.8504282163263281, subsample=1.0 will be ignored. Current value: bagging_fraction=0.8504282163263281\n",
      "[LightGBM] [Warning] feature_fraction is set=0.705433568927063, colsample_bytree=1.0 will be ignored. Current value: feature_fraction=0.705433568927063\n",
      "[LightGBM] [Warning] lambda_l2 is set=5.241653664300623, reg_lambda=0.0 will be ignored. Current value: lambda_l2=5.241653664300623\n"
     ]
    },
    {
     "name": "stderr",
     "output_type": "stream",
     "text": [
      " 68%|██████▊   | 68/100 [01:01<00:28,  1.12it/s]"
     ]
    },
    {
     "name": "stdout",
     "output_type": "stream",
     "text": [
      "[LightGBM] [Warning] lambda_l1 is set=1.6568558853289863, reg_alpha=0.0 will be ignored. Current value: lambda_l1=1.6568558853289863\n",
      "[LightGBM] [Warning] bagging_fraction is set=0.8504282163263281, subsample=1.0 will be ignored. Current value: bagging_fraction=0.8504282163263281\n",
      "[LightGBM] [Warning] feature_fraction is set=0.705433568927063, colsample_bytree=1.0 will be ignored. Current value: feature_fraction=0.705433568927063\n",
      "[LightGBM] [Warning] lambda_l2 is set=5.241653664300623, reg_lambda=0.0 will be ignored. Current value: lambda_l2=5.241653664300623\n"
     ]
    },
    {
     "name": "stderr",
     "output_type": "stream",
     "text": [
      " 69%|██████▉   | 69/100 [01:02<00:27,  1.13it/s]"
     ]
    },
    {
     "name": "stdout",
     "output_type": "stream",
     "text": [
      "[LightGBM] [Warning] lambda_l1 is set=1.6568558853289863, reg_alpha=0.0 will be ignored. Current value: lambda_l1=1.6568558853289863\n",
      "[LightGBM] [Warning] bagging_fraction is set=0.8504282163263281, subsample=1.0 will be ignored. Current value: bagging_fraction=0.8504282163263281\n",
      "[LightGBM] [Warning] feature_fraction is set=0.705433568927063, colsample_bytree=1.0 will be ignored. Current value: feature_fraction=0.705433568927063\n",
      "[LightGBM] [Warning] lambda_l2 is set=5.241653664300623, reg_lambda=0.0 will be ignored. Current value: lambda_l2=5.241653664300623\n"
     ]
    },
    {
     "name": "stderr",
     "output_type": "stream",
     "text": [
      " 70%|███████   | 70/100 [01:03<00:26,  1.13it/s]"
     ]
    },
    {
     "name": "stdout",
     "output_type": "stream",
     "text": [
      "[LightGBM] [Warning] lambda_l1 is set=1.6568558853289863, reg_alpha=0.0 will be ignored. Current value: lambda_l1=1.6568558853289863\n",
      "[LightGBM] [Warning] bagging_fraction is set=0.8504282163263281, subsample=1.0 will be ignored. Current value: bagging_fraction=0.8504282163263281\n",
      "[LightGBM] [Warning] feature_fraction is set=0.705433568927063, colsample_bytree=1.0 will be ignored. Current value: feature_fraction=0.705433568927063\n",
      "[LightGBM] [Warning] lambda_l2 is set=5.241653664300623, reg_lambda=0.0 will be ignored. Current value: lambda_l2=5.241653664300623\n"
     ]
    },
    {
     "name": "stderr",
     "output_type": "stream",
     "text": [
      " 71%|███████   | 71/100 [01:04<00:25,  1.12it/s]"
     ]
    },
    {
     "name": "stdout",
     "output_type": "stream",
     "text": [
      "[LightGBM] [Warning] lambda_l1 is set=1.6568558853289863, reg_alpha=0.0 will be ignored. Current value: lambda_l1=1.6568558853289863\n",
      "[LightGBM] [Warning] bagging_fraction is set=0.8504282163263281, subsample=1.0 will be ignored. Current value: bagging_fraction=0.8504282163263281\n",
      "[LightGBM] [Warning] feature_fraction is set=0.705433568927063, colsample_bytree=1.0 will be ignored. Current value: feature_fraction=0.705433568927063\n",
      "[LightGBM] [Warning] lambda_l2 is set=5.241653664300623, reg_lambda=0.0 will be ignored. Current value: lambda_l2=5.241653664300623\n"
     ]
    },
    {
     "name": "stderr",
     "output_type": "stream",
     "text": [
      " 72%|███████▏  | 72/100 [01:05<00:24,  1.12it/s]"
     ]
    },
    {
     "name": "stdout",
     "output_type": "stream",
     "text": [
      "[LightGBM] [Warning] lambda_l1 is set=1.6568558853289863, reg_alpha=0.0 will be ignored. Current value: lambda_l1=1.6568558853289863\n",
      "[LightGBM] [Warning] bagging_fraction is set=0.8504282163263281, subsample=1.0 will be ignored. Current value: bagging_fraction=0.8504282163263281\n",
      "[LightGBM] [Warning] feature_fraction is set=0.705433568927063, colsample_bytree=1.0 will be ignored. Current value: feature_fraction=0.705433568927063\n",
      "[LightGBM] [Warning] lambda_l2 is set=5.241653664300623, reg_lambda=0.0 will be ignored. Current value: lambda_l2=5.241653664300623\n"
     ]
    },
    {
     "name": "stderr",
     "output_type": "stream",
     "text": [
      " 73%|███████▎  | 73/100 [01:06<00:24,  1.12it/s]"
     ]
    },
    {
     "name": "stdout",
     "output_type": "stream",
     "text": [
      "[LightGBM] [Warning] lambda_l1 is set=1.6568558853289863, reg_alpha=0.0 will be ignored. Current value: lambda_l1=1.6568558853289863\n",
      "[LightGBM] [Warning] bagging_fraction is set=0.8504282163263281, subsample=1.0 will be ignored. Current value: bagging_fraction=0.8504282163263281\n",
      "[LightGBM] [Warning] feature_fraction is set=0.705433568927063, colsample_bytree=1.0 will be ignored. Current value: feature_fraction=0.705433568927063\n",
      "[LightGBM] [Warning] lambda_l2 is set=5.241653664300623, reg_lambda=0.0 will be ignored. Current value: lambda_l2=5.241653664300623\n"
     ]
    },
    {
     "name": "stderr",
     "output_type": "stream",
     "text": [
      " 74%|███████▍  | 74/100 [01:07<00:23,  1.13it/s]"
     ]
    },
    {
     "name": "stdout",
     "output_type": "stream",
     "text": [
      "[LightGBM] [Warning] lambda_l1 is set=1.6568558853289863, reg_alpha=0.0 will be ignored. Current value: lambda_l1=1.6568558853289863\n",
      "[LightGBM] [Warning] bagging_fraction is set=0.8504282163263281, subsample=1.0 will be ignored. Current value: bagging_fraction=0.8504282163263281\n",
      "[LightGBM] [Warning] feature_fraction is set=0.705433568927063, colsample_bytree=1.0 will be ignored. Current value: feature_fraction=0.705433568927063\n",
      "[LightGBM] [Warning] lambda_l2 is set=5.241653664300623, reg_lambda=0.0 will be ignored. Current value: lambda_l2=5.241653664300623\n"
     ]
    },
    {
     "name": "stderr",
     "output_type": "stream",
     "text": [
      " 75%|███████▌  | 75/100 [01:08<00:22,  1.12it/s]"
     ]
    },
    {
     "name": "stdout",
     "output_type": "stream",
     "text": [
      "[LightGBM] [Warning] lambda_l1 is set=1.6568558853289863, reg_alpha=0.0 will be ignored. Current value: lambda_l1=1.6568558853289863\n",
      "[LightGBM] [Warning] bagging_fraction is set=0.8504282163263281, subsample=1.0 will be ignored. Current value: bagging_fraction=0.8504282163263281\n",
      "[LightGBM] [Warning] feature_fraction is set=0.705433568927063, colsample_bytree=1.0 will be ignored. Current value: feature_fraction=0.705433568927063\n",
      "[LightGBM] [Warning] lambda_l2 is set=5.241653664300623, reg_lambda=0.0 will be ignored. Current value: lambda_l2=5.241653664300623\n"
     ]
    },
    {
     "name": "stderr",
     "output_type": "stream",
     "text": [
      " 76%|███████▌  | 76/100 [01:09<00:21,  1.11it/s]"
     ]
    },
    {
     "name": "stdout",
     "output_type": "stream",
     "text": [
      "[LightGBM] [Warning] lambda_l1 is set=1.6568558853289863, reg_alpha=0.0 will be ignored. Current value: lambda_l1=1.6568558853289863\n",
      "[LightGBM] [Warning] bagging_fraction is set=0.8504282163263281, subsample=1.0 will be ignored. Current value: bagging_fraction=0.8504282163263281\n",
      "[LightGBM] [Warning] feature_fraction is set=0.705433568927063, colsample_bytree=1.0 will be ignored. Current value: feature_fraction=0.705433568927063\n",
      "[LightGBM] [Warning] lambda_l2 is set=5.241653664300623, reg_lambda=0.0 will be ignored. Current value: lambda_l2=5.241653664300623\n"
     ]
    },
    {
     "name": "stderr",
     "output_type": "stream",
     "text": [
      " 77%|███████▋  | 77/100 [01:09<00:20,  1.12it/s]"
     ]
    },
    {
     "name": "stdout",
     "output_type": "stream",
     "text": [
      "[LightGBM] [Warning] lambda_l1 is set=1.6568558853289863, reg_alpha=0.0 will be ignored. Current value: lambda_l1=1.6568558853289863\n",
      "[LightGBM] [Warning] bagging_fraction is set=0.8504282163263281, subsample=1.0 will be ignored. Current value: bagging_fraction=0.8504282163263281\n",
      "[LightGBM] [Warning] feature_fraction is set=0.705433568927063, colsample_bytree=1.0 will be ignored. Current value: feature_fraction=0.705433568927063\n",
      "[LightGBM] [Warning] lambda_l2 is set=5.241653664300623, reg_lambda=0.0 will be ignored. Current value: lambda_l2=5.241653664300623\n"
     ]
    },
    {
     "name": "stderr",
     "output_type": "stream",
     "text": [
      " 78%|███████▊  | 78/100 [01:10<00:19,  1.11it/s]"
     ]
    },
    {
     "name": "stdout",
     "output_type": "stream",
     "text": [
      "[LightGBM] [Warning] lambda_l1 is set=1.6568558853289863, reg_alpha=0.0 will be ignored. Current value: lambda_l1=1.6568558853289863\n",
      "[LightGBM] [Warning] bagging_fraction is set=0.8504282163263281, subsample=1.0 will be ignored. Current value: bagging_fraction=0.8504282163263281\n",
      "[LightGBM] [Warning] feature_fraction is set=0.705433568927063, colsample_bytree=1.0 will be ignored. Current value: feature_fraction=0.705433568927063\n",
      "[LightGBM] [Warning] lambda_l2 is set=5.241653664300623, reg_lambda=0.0 will be ignored. Current value: lambda_l2=5.241653664300623\n"
     ]
    },
    {
     "name": "stderr",
     "output_type": "stream",
     "text": [
      " 79%|███████▉  | 79/100 [01:11<00:19,  1.07it/s]"
     ]
    },
    {
     "name": "stdout",
     "output_type": "stream",
     "text": [
      "[LightGBM] [Warning] lambda_l1 is set=1.6568558853289863, reg_alpha=0.0 will be ignored. Current value: lambda_l1=1.6568558853289863\n",
      "[LightGBM] [Warning] bagging_fraction is set=0.8504282163263281, subsample=1.0 will be ignored. Current value: bagging_fraction=0.8504282163263281\n",
      "[LightGBM] [Warning] feature_fraction is set=0.705433568927063, colsample_bytree=1.0 will be ignored. Current value: feature_fraction=0.705433568927063\n",
      "[LightGBM] [Warning] lambda_l2 is set=5.241653664300623, reg_lambda=0.0 will be ignored. Current value: lambda_l2=5.241653664300623\n"
     ]
    },
    {
     "name": "stderr",
     "output_type": "stream",
     "text": [
      " 80%|████████  | 80/100 [01:12<00:18,  1.09it/s]"
     ]
    },
    {
     "name": "stdout",
     "output_type": "stream",
     "text": [
      "[LightGBM] [Warning] lambda_l1 is set=1.6568558853289863, reg_alpha=0.0 will be ignored. Current value: lambda_l1=1.6568558853289863\n",
      "[LightGBM] [Warning] bagging_fraction is set=0.8504282163263281, subsample=1.0 will be ignored. Current value: bagging_fraction=0.8504282163263281\n",
      "[LightGBM] [Warning] feature_fraction is set=0.705433568927063, colsample_bytree=1.0 will be ignored. Current value: feature_fraction=0.705433568927063\n",
      "[LightGBM] [Warning] lambda_l2 is set=5.241653664300623, reg_lambda=0.0 will be ignored. Current value: lambda_l2=5.241653664300623\n"
     ]
    },
    {
     "name": "stderr",
     "output_type": "stream",
     "text": [
      " 81%|████████  | 81/100 [01:13<00:17,  1.10it/s]"
     ]
    },
    {
     "name": "stdout",
     "output_type": "stream",
     "text": [
      "[LightGBM] [Warning] lambda_l1 is set=1.6568558853289863, reg_alpha=0.0 will be ignored. Current value: lambda_l1=1.6568558853289863\n",
      "[LightGBM] [Warning] bagging_fraction is set=0.8504282163263281, subsample=1.0 will be ignored. Current value: bagging_fraction=0.8504282163263281\n",
      "[LightGBM] [Warning] feature_fraction is set=0.705433568927063, colsample_bytree=1.0 will be ignored. Current value: feature_fraction=0.705433568927063\n",
      "[LightGBM] [Warning] lambda_l2 is set=5.241653664300623, reg_lambda=0.0 will be ignored. Current value: lambda_l2=5.241653664300623\n"
     ]
    },
    {
     "name": "stderr",
     "output_type": "stream",
     "text": [
      " 82%|████████▏ | 82/100 [01:14<00:16,  1.11it/s]"
     ]
    },
    {
     "name": "stdout",
     "output_type": "stream",
     "text": [
      "[LightGBM] [Warning] lambda_l1 is set=1.6568558853289863, reg_alpha=0.0 will be ignored. Current value: lambda_l1=1.6568558853289863\n",
      "[LightGBM] [Warning] bagging_fraction is set=0.8504282163263281, subsample=1.0 will be ignored. Current value: bagging_fraction=0.8504282163263281\n",
      "[LightGBM] [Warning] feature_fraction is set=0.705433568927063, colsample_bytree=1.0 will be ignored. Current value: feature_fraction=0.705433568927063\n",
      "[LightGBM] [Warning] lambda_l2 is set=5.241653664300623, reg_lambda=0.0 will be ignored. Current value: lambda_l2=5.241653664300623\n"
     ]
    },
    {
     "name": "stderr",
     "output_type": "stream",
     "text": [
      " 83%|████████▎ | 83/100 [01:15<00:15,  1.12it/s]"
     ]
    },
    {
     "name": "stdout",
     "output_type": "stream",
     "text": [
      "[LightGBM] [Warning] lambda_l1 is set=1.6568558853289863, reg_alpha=0.0 will be ignored. Current value: lambda_l1=1.6568558853289863\n",
      "[LightGBM] [Warning] bagging_fraction is set=0.8504282163263281, subsample=1.0 will be ignored. Current value: bagging_fraction=0.8504282163263281\n",
      "[LightGBM] [Warning] feature_fraction is set=0.705433568927063, colsample_bytree=1.0 will be ignored. Current value: feature_fraction=0.705433568927063\n",
      "[LightGBM] [Warning] lambda_l2 is set=5.241653664300623, reg_lambda=0.0 will be ignored. Current value: lambda_l2=5.241653664300623\n"
     ]
    },
    {
     "name": "stderr",
     "output_type": "stream",
     "text": [
      " 84%|████████▍ | 84/100 [01:16<00:14,  1.12it/s]"
     ]
    },
    {
     "name": "stdout",
     "output_type": "stream",
     "text": [
      "[LightGBM] [Warning] lambda_l1 is set=1.6568558853289863, reg_alpha=0.0 will be ignored. Current value: lambda_l1=1.6568558853289863\n",
      "[LightGBM] [Warning] bagging_fraction is set=0.8504282163263281, subsample=1.0 will be ignored. Current value: bagging_fraction=0.8504282163263281\n",
      "[LightGBM] [Warning] feature_fraction is set=0.705433568927063, colsample_bytree=1.0 will be ignored. Current value: feature_fraction=0.705433568927063\n",
      "[LightGBM] [Warning] lambda_l2 is set=5.241653664300623, reg_lambda=0.0 will be ignored. Current value: lambda_l2=5.241653664300623\n"
     ]
    },
    {
     "name": "stderr",
     "output_type": "stream",
     "text": [
      " 85%|████████▌ | 85/100 [01:17<00:13,  1.12it/s]"
     ]
    },
    {
     "name": "stdout",
     "output_type": "stream",
     "text": [
      "[LightGBM] [Warning] lambda_l1 is set=1.6568558853289863, reg_alpha=0.0 will be ignored. Current value: lambda_l1=1.6568558853289863\n",
      "[LightGBM] [Warning] bagging_fraction is set=0.8504282163263281, subsample=1.0 will be ignored. Current value: bagging_fraction=0.8504282163263281\n",
      "[LightGBM] [Warning] feature_fraction is set=0.705433568927063, colsample_bytree=1.0 will be ignored. Current value: feature_fraction=0.705433568927063\n",
      "[LightGBM] [Warning] lambda_l2 is set=5.241653664300623, reg_lambda=0.0 will be ignored. Current value: lambda_l2=5.241653664300623\n"
     ]
    },
    {
     "name": "stderr",
     "output_type": "stream",
     "text": [
      " 86%|████████▌ | 86/100 [01:17<00:12,  1.13it/s]"
     ]
    },
    {
     "name": "stdout",
     "output_type": "stream",
     "text": [
      "[LightGBM] [Warning] lambda_l1 is set=1.6568558853289863, reg_alpha=0.0 will be ignored. Current value: lambda_l1=1.6568558853289863\n",
      "[LightGBM] [Warning] bagging_fraction is set=0.8504282163263281, subsample=1.0 will be ignored. Current value: bagging_fraction=0.8504282163263281\n",
      "[LightGBM] [Warning] feature_fraction is set=0.705433568927063, colsample_bytree=1.0 will be ignored. Current value: feature_fraction=0.705433568927063\n",
      "[LightGBM] [Warning] lambda_l2 is set=5.241653664300623, reg_lambda=0.0 will be ignored. Current value: lambda_l2=5.241653664300623\n"
     ]
    },
    {
     "name": "stderr",
     "output_type": "stream",
     "text": [
      " 87%|████████▋ | 87/100 [01:18<00:11,  1.13it/s]"
     ]
    },
    {
     "name": "stdout",
     "output_type": "stream",
     "text": [
      "[LightGBM] [Warning] lambda_l1 is set=1.6568558853289863, reg_alpha=0.0 will be ignored. Current value: lambda_l1=1.6568558853289863\n",
      "[LightGBM] [Warning] bagging_fraction is set=0.8504282163263281, subsample=1.0 will be ignored. Current value: bagging_fraction=0.8504282163263281\n",
      "[LightGBM] [Warning] feature_fraction is set=0.705433568927063, colsample_bytree=1.0 will be ignored. Current value: feature_fraction=0.705433568927063\n",
      "[LightGBM] [Warning] lambda_l2 is set=5.241653664300623, reg_lambda=0.0 will be ignored. Current value: lambda_l2=5.241653664300623\n"
     ]
    },
    {
     "name": "stderr",
     "output_type": "stream",
     "text": [
      " 88%|████████▊ | 88/100 [01:19<00:10,  1.13it/s]"
     ]
    },
    {
     "name": "stdout",
     "output_type": "stream",
     "text": [
      "[LightGBM] [Warning] lambda_l1 is set=1.6568558853289863, reg_alpha=0.0 will be ignored. Current value: lambda_l1=1.6568558853289863\n",
      "[LightGBM] [Warning] bagging_fraction is set=0.8504282163263281, subsample=1.0 will be ignored. Current value: bagging_fraction=0.8504282163263281\n",
      "[LightGBM] [Warning] feature_fraction is set=0.705433568927063, colsample_bytree=1.0 will be ignored. Current value: feature_fraction=0.705433568927063\n",
      "[LightGBM] [Warning] lambda_l2 is set=5.241653664300623, reg_lambda=0.0 will be ignored. Current value: lambda_l2=5.241653664300623\n"
     ]
    },
    {
     "name": "stderr",
     "output_type": "stream",
     "text": [
      " 89%|████████▉ | 89/100 [01:20<00:09,  1.13it/s]"
     ]
    },
    {
     "name": "stdout",
     "output_type": "stream",
     "text": [
      "[LightGBM] [Warning] lambda_l1 is set=1.6568558853289863, reg_alpha=0.0 will be ignored. Current value: lambda_l1=1.6568558853289863\n",
      "[LightGBM] [Warning] bagging_fraction is set=0.8504282163263281, subsample=1.0 will be ignored. Current value: bagging_fraction=0.8504282163263281\n",
      "[LightGBM] [Warning] feature_fraction is set=0.705433568927063, colsample_bytree=1.0 will be ignored. Current value: feature_fraction=0.705433568927063\n",
      "[LightGBM] [Warning] lambda_l2 is set=5.241653664300623, reg_lambda=0.0 will be ignored. Current value: lambda_l2=5.241653664300623\n"
     ]
    },
    {
     "name": "stderr",
     "output_type": "stream",
     "text": [
      " 90%|█████████ | 90/100 [01:21<00:08,  1.13it/s]"
     ]
    },
    {
     "name": "stdout",
     "output_type": "stream",
     "text": [
      "[LightGBM] [Warning] lambda_l1 is set=1.6568558853289863, reg_alpha=0.0 will be ignored. Current value: lambda_l1=1.6568558853289863\n",
      "[LightGBM] [Warning] bagging_fraction is set=0.8504282163263281, subsample=1.0 will be ignored. Current value: bagging_fraction=0.8504282163263281\n",
      "[LightGBM] [Warning] feature_fraction is set=0.705433568927063, colsample_bytree=1.0 will be ignored. Current value: feature_fraction=0.705433568927063\n",
      "[LightGBM] [Warning] lambda_l2 is set=5.241653664300623, reg_lambda=0.0 will be ignored. Current value: lambda_l2=5.241653664300623\n"
     ]
    },
    {
     "name": "stderr",
     "output_type": "stream",
     "text": [
      " 91%|█████████ | 91/100 [01:22<00:07,  1.13it/s]"
     ]
    },
    {
     "name": "stdout",
     "output_type": "stream",
     "text": [
      "[LightGBM] [Warning] lambda_l1 is set=1.6568558853289863, reg_alpha=0.0 will be ignored. Current value: lambda_l1=1.6568558853289863\n",
      "[LightGBM] [Warning] bagging_fraction is set=0.8504282163263281, subsample=1.0 will be ignored. Current value: bagging_fraction=0.8504282163263281\n",
      "[LightGBM] [Warning] feature_fraction is set=0.705433568927063, colsample_bytree=1.0 will be ignored. Current value: feature_fraction=0.705433568927063\n",
      "[LightGBM] [Warning] lambda_l2 is set=5.241653664300623, reg_lambda=0.0 will be ignored. Current value: lambda_l2=5.241653664300623\n"
     ]
    },
    {
     "name": "stderr",
     "output_type": "stream",
     "text": [
      " 92%|█████████▏| 92/100 [01:23<00:07,  1.11it/s]"
     ]
    },
    {
     "name": "stdout",
     "output_type": "stream",
     "text": [
      "[LightGBM] [Warning] lambda_l1 is set=1.6568558853289863, reg_alpha=0.0 will be ignored. Current value: lambda_l1=1.6568558853289863\n",
      "[LightGBM] [Warning] bagging_fraction is set=0.8504282163263281, subsample=1.0 will be ignored. Current value: bagging_fraction=0.8504282163263281\n",
      "[LightGBM] [Warning] feature_fraction is set=0.705433568927063, colsample_bytree=1.0 will be ignored. Current value: feature_fraction=0.705433568927063\n",
      "[LightGBM] [Warning] lambda_l2 is set=5.241653664300623, reg_lambda=0.0 will be ignored. Current value: lambda_l2=5.241653664300623\n"
     ]
    },
    {
     "name": "stderr",
     "output_type": "stream",
     "text": [
      " 93%|█████████▎| 93/100 [01:24<00:06,  1.09it/s]"
     ]
    },
    {
     "name": "stdout",
     "output_type": "stream",
     "text": [
      "[LightGBM] [Warning] lambda_l1 is set=1.6568558853289863, reg_alpha=0.0 will be ignored. Current value: lambda_l1=1.6568558853289863\n",
      "[LightGBM] [Warning] bagging_fraction is set=0.8504282163263281, subsample=1.0 will be ignored. Current value: bagging_fraction=0.8504282163263281\n",
      "[LightGBM] [Warning] feature_fraction is set=0.705433568927063, colsample_bytree=1.0 will be ignored. Current value: feature_fraction=0.705433568927063\n",
      "[LightGBM] [Warning] lambda_l2 is set=5.241653664300623, reg_lambda=0.0 will be ignored. Current value: lambda_l2=5.241653664300623\n"
     ]
    },
    {
     "name": "stderr",
     "output_type": "stream",
     "text": [
      " 94%|█████████▍| 94/100 [01:25<00:05,  1.08it/s]"
     ]
    },
    {
     "name": "stdout",
     "output_type": "stream",
     "text": [
      "[LightGBM] [Warning] lambda_l1 is set=1.6568558853289863, reg_alpha=0.0 will be ignored. Current value: lambda_l1=1.6568558853289863\n",
      "[LightGBM] [Warning] bagging_fraction is set=0.8504282163263281, subsample=1.0 will be ignored. Current value: bagging_fraction=0.8504282163263281\n",
      "[LightGBM] [Warning] feature_fraction is set=0.705433568927063, colsample_bytree=1.0 will be ignored. Current value: feature_fraction=0.705433568927063\n",
      "[LightGBM] [Warning] lambda_l2 is set=5.241653664300623, reg_lambda=0.0 will be ignored. Current value: lambda_l2=5.241653664300623\n"
     ]
    },
    {
     "name": "stderr",
     "output_type": "stream",
     "text": [
      " 95%|█████████▌| 95/100 [01:26<00:04,  1.09it/s]"
     ]
    },
    {
     "name": "stdout",
     "output_type": "stream",
     "text": [
      "[LightGBM] [Warning] lambda_l1 is set=1.6568558853289863, reg_alpha=0.0 will be ignored. Current value: lambda_l1=1.6568558853289863\n",
      "[LightGBM] [Warning] bagging_fraction is set=0.8504282163263281, subsample=1.0 will be ignored. Current value: bagging_fraction=0.8504282163263281\n",
      "[LightGBM] [Warning] feature_fraction is set=0.705433568927063, colsample_bytree=1.0 will be ignored. Current value: feature_fraction=0.705433568927063\n",
      "[LightGBM] [Warning] lambda_l2 is set=5.241653664300623, reg_lambda=0.0 will be ignored. Current value: lambda_l2=5.241653664300623\n"
     ]
    },
    {
     "name": "stderr",
     "output_type": "stream",
     "text": [
      " 96%|█████████▌| 96/100 [01:27<00:03,  1.09it/s]"
     ]
    },
    {
     "name": "stdout",
     "output_type": "stream",
     "text": [
      "[LightGBM] [Warning] lambda_l1 is set=1.6568558853289863, reg_alpha=0.0 will be ignored. Current value: lambda_l1=1.6568558853289863\n",
      "[LightGBM] [Warning] bagging_fraction is set=0.8504282163263281, subsample=1.0 will be ignored. Current value: bagging_fraction=0.8504282163263281\n",
      "[LightGBM] [Warning] feature_fraction is set=0.705433568927063, colsample_bytree=1.0 will be ignored. Current value: feature_fraction=0.705433568927063\n",
      "[LightGBM] [Warning] lambda_l2 is set=5.241653664300623, reg_lambda=0.0 will be ignored. Current value: lambda_l2=5.241653664300623\n"
     ]
    },
    {
     "name": "stderr",
     "output_type": "stream",
     "text": [
      " 97%|█████████▋| 97/100 [01:27<00:02,  1.10it/s]"
     ]
    },
    {
     "name": "stdout",
     "output_type": "stream",
     "text": [
      "[LightGBM] [Warning] lambda_l1 is set=1.6568558853289863, reg_alpha=0.0 will be ignored. Current value: lambda_l1=1.6568558853289863\n",
      "[LightGBM] [Warning] bagging_fraction is set=0.8504282163263281, subsample=1.0 will be ignored. Current value: bagging_fraction=0.8504282163263281\n",
      "[LightGBM] [Warning] feature_fraction is set=0.705433568927063, colsample_bytree=1.0 will be ignored. Current value: feature_fraction=0.705433568927063\n",
      "[LightGBM] [Warning] lambda_l2 is set=5.241653664300623, reg_lambda=0.0 will be ignored. Current value: lambda_l2=5.241653664300623\n"
     ]
    },
    {
     "name": "stderr",
     "output_type": "stream",
     "text": [
      " 98%|█████████▊| 98/100 [01:28<00:01,  1.09it/s]"
     ]
    },
    {
     "name": "stdout",
     "output_type": "stream",
     "text": [
      "[LightGBM] [Warning] lambda_l1 is set=1.6568558853289863, reg_alpha=0.0 will be ignored. Current value: lambda_l1=1.6568558853289863\n",
      "[LightGBM] [Warning] bagging_fraction is set=0.8504282163263281, subsample=1.0 will be ignored. Current value: bagging_fraction=0.8504282163263281\n",
      "[LightGBM] [Warning] feature_fraction is set=0.705433568927063, colsample_bytree=1.0 will be ignored. Current value: feature_fraction=0.705433568927063\n",
      "[LightGBM] [Warning] lambda_l2 is set=5.241653664300623, reg_lambda=0.0 will be ignored. Current value: lambda_l2=5.241653664300623\n"
     ]
    },
    {
     "name": "stderr",
     "output_type": "stream",
     "text": [
      " 99%|█████████▉| 99/100 [01:29<00:00,  1.10it/s]"
     ]
    },
    {
     "name": "stdout",
     "output_type": "stream",
     "text": [
      "[LightGBM] [Warning] lambda_l1 is set=1.6568558853289863, reg_alpha=0.0 will be ignored. Current value: lambda_l1=1.6568558853289863\n",
      "[LightGBM] [Warning] bagging_fraction is set=0.8504282163263281, subsample=1.0 will be ignored. Current value: bagging_fraction=0.8504282163263281\n",
      "[LightGBM] [Warning] feature_fraction is set=0.705433568927063, colsample_bytree=1.0 will be ignored. Current value: feature_fraction=0.705433568927063\n",
      "[LightGBM] [Warning] lambda_l2 is set=5.241653664300623, reg_lambda=0.0 will be ignored. Current value: lambda_l2=5.241653664300623\n"
     ]
    },
    {
     "name": "stderr",
     "output_type": "stream",
     "text": [
      "100%|██████████| 100/100 [01:30<00:00,  1.10it/s]\n",
      "100%|██████████| 100/100 [01:25<00:00,  1.17it/s]\n"
     ]
    },
    {
     "data": {
      "text/html": [
       "<div>\n",
       "<style scoped>\n",
       "    .dataframe tbody tr th:only-of-type {\n",
       "        vertical-align: middle;\n",
       "    }\n",
       "\n",
       "    .dataframe tbody tr th {\n",
       "        vertical-align: top;\n",
       "    }\n",
       "\n",
       "    .dataframe thead th {\n",
       "        text-align: right;\n",
       "    }\n",
       "</style>\n",
       "<table border=\"1\" class=\"dataframe\">\n",
       "  <thead>\n",
       "    <tr style=\"text-align: right;\">\n",
       "      <th></th>\n",
       "      <th>ID</th>\n",
       "      <th>Pred</th>\n",
       "    </tr>\n",
       "  </thead>\n",
       "  <tbody>\n",
       "    <tr>\n",
       "      <th>0</th>\n",
       "      <td>2023_1104_1112</td>\n",
       "      <td>0.948612</td>\n",
       "    </tr>\n",
       "    <tr>\n",
       "      <th>1</th>\n",
       "      <td>2023_1104_1113</td>\n",
       "      <td>0.951004</td>\n",
       "    </tr>\n",
       "    <tr>\n",
       "      <th>2</th>\n",
       "      <td>2023_1104_1116</td>\n",
       "      <td>0.950284</td>\n",
       "    </tr>\n",
       "    <tr>\n",
       "      <th>3</th>\n",
       "      <td>2023_1104_1120</td>\n",
       "      <td>0.950387</td>\n",
       "    </tr>\n",
       "    <tr>\n",
       "      <th>4</th>\n",
       "      <td>2023_1104_1124</td>\n",
       "      <td>0.949926</td>\n",
       "    </tr>\n",
       "  </tbody>\n",
       "</table>\n",
       "</div>"
      ],
      "text/plain": [
       "               ID      Pred\n",
       "0  2023_1104_1112  0.948612\n",
       "1  2023_1104_1113  0.951004\n",
       "2  2023_1104_1116  0.950284\n",
       "3  2023_1104_1120  0.950387\n",
       "4  2023_1104_1124  0.949926"
      ]
     },
     "execution_count": 5,
     "metadata": {},
     "output_type": "execute_result"
    }
   ],
   "source": [
    "to_select = ['X1_WinRatio14d',\n",
    "             'X1_PointsMean',\n",
    "             'X1_PointsMedian',\n",
    "             'X1_PointsDiffMean',\n",
    "             'X1_FgaMean',\n",
    "             'X1_FgaMedian',\n",
    "             'X1_FgaMin',\n",
    "             'X1_FgaMax',\n",
    "             'X1_AstMean',\n",
    "             'X1_BlkMean',\n",
    "             'X1_OppFgaMean',\n",
    "             'X1_OppFgaMin',\n",
    "             'X1_EfgpMean',\n",
    "             'X1_PossessionsMean',\n",
    "             'X1_PpmMean',\n",
    "             'X1_FtrMean',\n",
    "             'X1_TopMean',\n",
    "             'X1_DrebpMean',\n",
    "             'X2_WinRatio14d',\n",
    "             'X2_PointsMean',\n",
    "             'X2_PointsMedian',\n",
    "             'X2_PointsDiffMean',\n",
    "             'X2_FgaMean',\n",
    "             'X2_FgaMedian',\n",
    "             'X2_FgaMin',\n",
    "             'X2_FgaMax',\n",
    "             'X2_AstMean',\n",
    "             'X2_BlkMean',\n",
    "             'X2_OppFgaMean',\n",
    "             'X2_OppFgaMin',\n",
    "             'X2_EfgpMean',\n",
    "             'X2_PossessionsMean',\n",
    "             'X2_PpmMean',\n",
    "             'X2_FtrMean',\n",
    "             'X2_TopMean',\n",
    "             'X2_DrebpMean',\n",
    "             'Seed1',\n",
    "             'Seed2',\n",
    "             'SeedDiff',\n",
    "             'quality_march_T1',\n",
    "             'quality_march_T2', \n",
    "             'ResultDiff',\n",
    "             'X1_team_rating',\n",
    "             'X1_rd1_win',\n",
    "             'X1_rd2_win',\n",
    "             'X1_rd3_win',\n",
    "             'X1_rd4_win',\n",
    "             'X1_rd5_win',\n",
    "             'X1_rd6_win',\n",
    "             'X1_rd7_win',\n",
    "             'X2_team_rating',\n",
    "             'X2_rd1_win',\n",
    "             'X2_rd2_win',\n",
    "             'X2_rd3_win',\n",
    "             'X2_rd4_win',\n",
    "             'X2_rd5_win',\n",
    "             'X2_rd6_win',\n",
    "             'X2_rd7_win']\n",
    "\n",
    "X = man_train[to_select]\n",
    "Y = man_train['target']\n",
    "\n",
    "man_test_tour_ID = man_test['ID']\n",
    "man_test_tour = man_test[to_select]\n",
    "\n",
    "#############\n",
    "## XGBoost ##\n",
    "#############\n",
    "\n",
    "xgb_params = pd.read_csv('man_XGB_Phase_2_42_Optuna_Hyperparameters.csv')\n",
    "xgb_preds = list()\n",
    "\n",
    "for i in tqdm(range(100)):\n",
    "\n",
    "    xgb_md = XGBClassifier(tree_method = 'hist', \n",
    "                           max_depth = xgb_params['max_depth'][0],\n",
    "                           learning_rate = xgb_params['learning_rate'][0],\n",
    "                           n_estimators = xgb_params['n_estimators'][0],\n",
    "                           gamma = xgb_params['gamma'][0],\n",
    "                           min_child_weight = xgb_params['min_child_weight'][0],\n",
    "                           colsample_bytree = xgb_params['colsample_bytree'][0],\n",
    "                           subsample = xgb_params['subsample'][0],\n",
    "                           random_state = i).fit(X, Y)\n",
    "\n",
    "    xgb_pred = xgb_md.predict_proba(man_test_tour)[:, 1]\n",
    "    xgb_preds.append(xgb_pred)\n",
    "\n",
    "##############\n",
    "## LightGBM ##\n",
    "##############\n",
    "\n",
    "lgb_params = pd.read_csv('man_LightGBM_Phase_2_42_Optuna_Hyperparameters.csv')\n",
    "lgb_preds = list()\n",
    "\n",
    "for i in tqdm(range(100)):\n",
    "    \n",
    "    lgb_md = LGBMClassifier(boosting_type = 'gbdt', \n",
    "                            n_estimators = lgb_params['n_estimators'][0],\n",
    "                            learning_rate = lgb_params['learning_rate'][0],\n",
    "                            max_depth = lgb_params['max_depth'][0],\n",
    "                            lambda_l1 = lgb_params['lambda_l1'][0],\n",
    "                            lambda_l2 = lgb_params['lambda_l2'][0],\n",
    "                            num_leaves = lgb_params['num_leaves'][0],\n",
    "                            bagging_fraction = lgb_params['bagging_fraction'][0],\n",
    "                            feature_fraction = lgb_params['feature_fraction'][0],\n",
    "                            random_state = i).fit(X, Y)\n",
    "\n",
    "    lgb_pred = lgb_md.predict_proba(man_test_tour)[:, 1]\n",
    "    lgb_preds.append(lgb_pred)\n",
    "\n",
    "##################\n",
    "## HistGradient ##\n",
    "##################\n",
    "\n",
    "hist_params = pd.read_csv('man_Hist_Phase_2_42_Optuna_Hyperparameters.csv')\n",
    "hist_preds = list()\n",
    "\n",
    "for i in tqdm(range(100)):\n",
    "\n",
    "    hist_md = HistGradientBoostingClassifier(l2_regularization = hist_params['l2_regularization'][0],\n",
    "                                             early_stopping = False,\n",
    "                                             learning_rate = hist_params['learning_rate'][0],\n",
    "                                             max_iter = hist_params['max_iter'][0],\n",
    "                                             max_depth = hist_params['max_depth'][0],\n",
    "                                             max_bins = hist_params['max_bins'][0],\n",
    "                                             min_samples_leaf = hist_params['min_samples_leaf'][0],\n",
    "                                             max_leaf_nodes = hist_params['max_leaf_nodes'][0], \n",
    "                                             random_state = i).fit(X, Y)\n",
    "\n",
    "    hist_pred = hist_md.predict_proba(man_test_tour)[:, 1]\n",
    "    hist_preds.append(hist_pred)\n",
    "\n",
    "##############\n",
    "## Ensemble ##\n",
    "##############\n",
    "\n",
    "xgb_pred = pd.DataFrame(xgb_preds).apply(np.mean, axis = 0)\n",
    "lgb_pred = pd.DataFrame(lgb_preds).apply(np.mean, axis = 0)\n",
    "hist_pred = pd.DataFrame(hist_preds).apply(np.mean, axis = 0)\n",
    "\n",
    "ens_pred = (xgb_pred + lgb_pred + hist_pred) / 3\n",
    "man_pred = pd.DataFrame({'ID': man_test_tour_ID, 'Pred': ens_pred})\n",
    "man_pred.head()"
   ]
  },
  {
   "cell_type": "markdown",
   "id": "6a6c6dfd",
   "metadata": {},
   "source": [
    "# Woman 100 Reps"
   ]
  },
  {
   "cell_type": "code",
   "execution_count": 6,
   "id": "d4644835",
   "metadata": {},
   "outputs": [
    {
     "name": "stderr",
     "output_type": "stream",
     "text": [
      "100%|██████████| 100/100 [01:58<00:00,  1.19s/it]\n",
      "  0%|          | 0/100 [00:00<?, ?it/s]"
     ]
    },
    {
     "name": "stdout",
     "output_type": "stream",
     "text": [
      "[LightGBM] [Warning] lambda_l1 is set=0.0474587633751369, reg_alpha=0.0 will be ignored. Current value: lambda_l1=0.0474587633751369\n",
      "[LightGBM] [Warning] bagging_fraction is set=0.8976619661127543, subsample=1.0 will be ignored. Current value: bagging_fraction=0.8976619661127543\n",
      "[LightGBM] [Warning] feature_fraction is set=0.6539801342710443, colsample_bytree=1.0 will be ignored. Current value: feature_fraction=0.6539801342710443\n",
      "[LightGBM] [Warning] lambda_l2 is set=0.3422853948073336, reg_lambda=0.0 will be ignored. Current value: lambda_l2=0.3422853948073336\n"
     ]
    },
    {
     "name": "stderr",
     "output_type": "stream",
     "text": [
      "  1%|          | 1/100 [00:00<00:31,  3.10it/s]"
     ]
    },
    {
     "name": "stdout",
     "output_type": "stream",
     "text": [
      "[LightGBM] [Warning] lambda_l1 is set=0.0474587633751369, reg_alpha=0.0 will be ignored. Current value: lambda_l1=0.0474587633751369\n",
      "[LightGBM] [Warning] bagging_fraction is set=0.8976619661127543, subsample=1.0 will be ignored. Current value: bagging_fraction=0.8976619661127543\n",
      "[LightGBM] [Warning] feature_fraction is set=0.6539801342710443, colsample_bytree=1.0 will be ignored. Current value: feature_fraction=0.6539801342710443\n",
      "[LightGBM] [Warning] lambda_l2 is set=0.3422853948073336, reg_lambda=0.0 will be ignored. Current value: lambda_l2=0.3422853948073336\n"
     ]
    },
    {
     "name": "stderr",
     "output_type": "stream",
     "text": [
      "  2%|▏         | 2/100 [00:00<00:30,  3.18it/s]"
     ]
    },
    {
     "name": "stdout",
     "output_type": "stream",
     "text": [
      "[LightGBM] [Warning] lambda_l1 is set=0.0474587633751369, reg_alpha=0.0 will be ignored. Current value: lambda_l1=0.0474587633751369\n",
      "[LightGBM] [Warning] bagging_fraction is set=0.8976619661127543, subsample=1.0 will be ignored. Current value: bagging_fraction=0.8976619661127543\n",
      "[LightGBM] [Warning] feature_fraction is set=0.6539801342710443, colsample_bytree=1.0 will be ignored. Current value: feature_fraction=0.6539801342710443\n",
      "[LightGBM] [Warning] lambda_l2 is set=0.3422853948073336, reg_lambda=0.0 will be ignored. Current value: lambda_l2=0.3422853948073336\n"
     ]
    },
    {
     "name": "stderr",
     "output_type": "stream",
     "text": [
      "  3%|▎         | 3/100 [00:00<00:30,  3.21it/s]"
     ]
    },
    {
     "name": "stdout",
     "output_type": "stream",
     "text": [
      "[LightGBM] [Warning] lambda_l1 is set=0.0474587633751369, reg_alpha=0.0 will be ignored. Current value: lambda_l1=0.0474587633751369\n",
      "[LightGBM] [Warning] bagging_fraction is set=0.8976619661127543, subsample=1.0 will be ignored. Current value: bagging_fraction=0.8976619661127543\n",
      "[LightGBM] [Warning] feature_fraction is set=0.6539801342710443, colsample_bytree=1.0 will be ignored. Current value: feature_fraction=0.6539801342710443\n",
      "[LightGBM] [Warning] lambda_l2 is set=0.3422853948073336, reg_lambda=0.0 will be ignored. Current value: lambda_l2=0.3422853948073336\n"
     ]
    },
    {
     "name": "stderr",
     "output_type": "stream",
     "text": [
      "  4%|▍         | 4/100 [00:01<00:30,  3.15it/s]"
     ]
    },
    {
     "name": "stdout",
     "output_type": "stream",
     "text": [
      "[LightGBM] [Warning] lambda_l1 is set=0.0474587633751369, reg_alpha=0.0 will be ignored. Current value: lambda_l1=0.0474587633751369\n",
      "[LightGBM] [Warning] bagging_fraction is set=0.8976619661127543, subsample=1.0 will be ignored. Current value: bagging_fraction=0.8976619661127543\n",
      "[LightGBM] [Warning] feature_fraction is set=0.6539801342710443, colsample_bytree=1.0 will be ignored. Current value: feature_fraction=0.6539801342710443\n",
      "[LightGBM] [Warning] lambda_l2 is set=0.3422853948073336, reg_lambda=0.0 will be ignored. Current value: lambda_l2=0.3422853948073336\n"
     ]
    },
    {
     "name": "stderr",
     "output_type": "stream",
     "text": [
      "  5%|▌         | 5/100 [00:01<00:30,  3.08it/s]"
     ]
    },
    {
     "name": "stdout",
     "output_type": "stream",
     "text": [
      "[LightGBM] [Warning] lambda_l1 is set=0.0474587633751369, reg_alpha=0.0 will be ignored. Current value: lambda_l1=0.0474587633751369\n",
      "[LightGBM] [Warning] bagging_fraction is set=0.8976619661127543, subsample=1.0 will be ignored. Current value: bagging_fraction=0.8976619661127543\n",
      "[LightGBM] [Warning] feature_fraction is set=0.6539801342710443, colsample_bytree=1.0 will be ignored. Current value: feature_fraction=0.6539801342710443\n",
      "[LightGBM] [Warning] lambda_l2 is set=0.3422853948073336, reg_lambda=0.0 will be ignored. Current value: lambda_l2=0.3422853948073336\n"
     ]
    },
    {
     "name": "stderr",
     "output_type": "stream",
     "text": [
      "  6%|▌         | 6/100 [00:01<00:30,  3.13it/s]"
     ]
    },
    {
     "name": "stdout",
     "output_type": "stream",
     "text": [
      "[LightGBM] [Warning] lambda_l1 is set=0.0474587633751369, reg_alpha=0.0 will be ignored. Current value: lambda_l1=0.0474587633751369\n",
      "[LightGBM] [Warning] bagging_fraction is set=0.8976619661127543, subsample=1.0 will be ignored. Current value: bagging_fraction=0.8976619661127543\n",
      "[LightGBM] [Warning] feature_fraction is set=0.6539801342710443, colsample_bytree=1.0 will be ignored. Current value: feature_fraction=0.6539801342710443\n",
      "[LightGBM] [Warning] lambda_l2 is set=0.3422853948073336, reg_lambda=0.0 will be ignored. Current value: lambda_l2=0.3422853948073336\n"
     ]
    },
    {
     "name": "stderr",
     "output_type": "stream",
     "text": [
      "  7%|▋         | 7/100 [00:02<00:30,  3.07it/s]"
     ]
    },
    {
     "name": "stdout",
     "output_type": "stream",
     "text": [
      "[LightGBM] [Warning] lambda_l1 is set=0.0474587633751369, reg_alpha=0.0 will be ignored. Current value: lambda_l1=0.0474587633751369\n",
      "[LightGBM] [Warning] bagging_fraction is set=0.8976619661127543, subsample=1.0 will be ignored. Current value: bagging_fraction=0.8976619661127543\n",
      "[LightGBM] [Warning] feature_fraction is set=0.6539801342710443, colsample_bytree=1.0 will be ignored. Current value: feature_fraction=0.6539801342710443\n",
      "[LightGBM] [Warning] lambda_l2 is set=0.3422853948073336, reg_lambda=0.0 will be ignored. Current value: lambda_l2=0.3422853948073336\n"
     ]
    },
    {
     "name": "stderr",
     "output_type": "stream",
     "text": [
      "  8%|▊         | 8/100 [00:02<00:29,  3.10it/s]"
     ]
    },
    {
     "name": "stdout",
     "output_type": "stream",
     "text": [
      "[LightGBM] [Warning] lambda_l1 is set=0.0474587633751369, reg_alpha=0.0 will be ignored. Current value: lambda_l1=0.0474587633751369\n",
      "[LightGBM] [Warning] bagging_fraction is set=0.8976619661127543, subsample=1.0 will be ignored. Current value: bagging_fraction=0.8976619661127543\n",
      "[LightGBM] [Warning] feature_fraction is set=0.6539801342710443, colsample_bytree=1.0 will be ignored. Current value: feature_fraction=0.6539801342710443\n",
      "[LightGBM] [Warning] lambda_l2 is set=0.3422853948073336, reg_lambda=0.0 will be ignored. Current value: lambda_l2=0.3422853948073336\n"
     ]
    },
    {
     "name": "stderr",
     "output_type": "stream",
     "text": [
      "  9%|▉         | 9/100 [00:02<00:29,  3.08it/s]"
     ]
    },
    {
     "name": "stdout",
     "output_type": "stream",
     "text": [
      "[LightGBM] [Warning] lambda_l1 is set=0.0474587633751369, reg_alpha=0.0 will be ignored. Current value: lambda_l1=0.0474587633751369\n",
      "[LightGBM] [Warning] bagging_fraction is set=0.8976619661127543, subsample=1.0 will be ignored. Current value: bagging_fraction=0.8976619661127543\n",
      "[LightGBM] [Warning] feature_fraction is set=0.6539801342710443, colsample_bytree=1.0 will be ignored. Current value: feature_fraction=0.6539801342710443\n",
      "[LightGBM] [Warning] lambda_l2 is set=0.3422853948073336, reg_lambda=0.0 will be ignored. Current value: lambda_l2=0.3422853948073336\n"
     ]
    },
    {
     "name": "stderr",
     "output_type": "stream",
     "text": [
      " 10%|█         | 10/100 [00:03<00:29,  3.06it/s]"
     ]
    },
    {
     "name": "stdout",
     "output_type": "stream",
     "text": [
      "[LightGBM] [Warning] lambda_l1 is set=0.0474587633751369, reg_alpha=0.0 will be ignored. Current value: lambda_l1=0.0474587633751369\n",
      "[LightGBM] [Warning] bagging_fraction is set=0.8976619661127543, subsample=1.0 will be ignored. Current value: bagging_fraction=0.8976619661127543\n",
      "[LightGBM] [Warning] feature_fraction is set=0.6539801342710443, colsample_bytree=1.0 will be ignored. Current value: feature_fraction=0.6539801342710443\n",
      "[LightGBM] [Warning] lambda_l2 is set=0.3422853948073336, reg_lambda=0.0 will be ignored. Current value: lambda_l2=0.3422853948073336\n"
     ]
    },
    {
     "name": "stderr",
     "output_type": "stream",
     "text": [
      " 11%|█         | 11/100 [00:03<00:29,  3.03it/s]"
     ]
    },
    {
     "name": "stdout",
     "output_type": "stream",
     "text": [
      "[LightGBM] [Warning] lambda_l1 is set=0.0474587633751369, reg_alpha=0.0 will be ignored. Current value: lambda_l1=0.0474587633751369\n",
      "[LightGBM] [Warning] bagging_fraction is set=0.8976619661127543, subsample=1.0 will be ignored. Current value: bagging_fraction=0.8976619661127543\n",
      "[LightGBM] [Warning] feature_fraction is set=0.6539801342710443, colsample_bytree=1.0 will be ignored. Current value: feature_fraction=0.6539801342710443\n",
      "[LightGBM] [Warning] lambda_l2 is set=0.3422853948073336, reg_lambda=0.0 will be ignored. Current value: lambda_l2=0.3422853948073336\n"
     ]
    },
    {
     "name": "stderr",
     "output_type": "stream",
     "text": [
      " 12%|█▏        | 12/100 [00:03<00:28,  3.05it/s]"
     ]
    },
    {
     "name": "stdout",
     "output_type": "stream",
     "text": [
      "[LightGBM] [Warning] lambda_l1 is set=0.0474587633751369, reg_alpha=0.0 will be ignored. Current value: lambda_l1=0.0474587633751369\n",
      "[LightGBM] [Warning] bagging_fraction is set=0.8976619661127543, subsample=1.0 will be ignored. Current value: bagging_fraction=0.8976619661127543\n",
      "[LightGBM] [Warning] feature_fraction is set=0.6539801342710443, colsample_bytree=1.0 will be ignored. Current value: feature_fraction=0.6539801342710443\n",
      "[LightGBM] [Warning] lambda_l2 is set=0.3422853948073336, reg_lambda=0.0 will be ignored. Current value: lambda_l2=0.3422853948073336\n"
     ]
    },
    {
     "name": "stderr",
     "output_type": "stream",
     "text": [
      " 13%|█▎        | 13/100 [00:04<00:28,  3.11it/s]"
     ]
    },
    {
     "name": "stdout",
     "output_type": "stream",
     "text": [
      "[LightGBM] [Warning] lambda_l1 is set=0.0474587633751369, reg_alpha=0.0 will be ignored. Current value: lambda_l1=0.0474587633751369\n",
      "[LightGBM] [Warning] bagging_fraction is set=0.8976619661127543, subsample=1.0 will be ignored. Current value: bagging_fraction=0.8976619661127543\n",
      "[LightGBM] [Warning] feature_fraction is set=0.6539801342710443, colsample_bytree=1.0 will be ignored. Current value: feature_fraction=0.6539801342710443\n",
      "[LightGBM] [Warning] lambda_l2 is set=0.3422853948073336, reg_lambda=0.0 will be ignored. Current value: lambda_l2=0.3422853948073336\n"
     ]
    },
    {
     "name": "stderr",
     "output_type": "stream",
     "text": [
      " 14%|█▍        | 14/100 [00:04<00:27,  3.11it/s]"
     ]
    },
    {
     "name": "stdout",
     "output_type": "stream",
     "text": [
      "[LightGBM] [Warning] lambda_l1 is set=0.0474587633751369, reg_alpha=0.0 will be ignored. Current value: lambda_l1=0.0474587633751369\n",
      "[LightGBM] [Warning] bagging_fraction is set=0.8976619661127543, subsample=1.0 will be ignored. Current value: bagging_fraction=0.8976619661127543\n",
      "[LightGBM] [Warning] feature_fraction is set=0.6539801342710443, colsample_bytree=1.0 will be ignored. Current value: feature_fraction=0.6539801342710443\n",
      "[LightGBM] [Warning] lambda_l2 is set=0.3422853948073336, reg_lambda=0.0 will be ignored. Current value: lambda_l2=0.3422853948073336\n"
     ]
    },
    {
     "name": "stderr",
     "output_type": "stream",
     "text": [
      " 15%|█▌        | 15/100 [00:04<00:27,  3.14it/s]"
     ]
    },
    {
     "name": "stdout",
     "output_type": "stream",
     "text": [
      "[LightGBM] [Warning] lambda_l1 is set=0.0474587633751369, reg_alpha=0.0 will be ignored. Current value: lambda_l1=0.0474587633751369\n",
      "[LightGBM] [Warning] bagging_fraction is set=0.8976619661127543, subsample=1.0 will be ignored. Current value: bagging_fraction=0.8976619661127543\n",
      "[LightGBM] [Warning] feature_fraction is set=0.6539801342710443, colsample_bytree=1.0 will be ignored. Current value: feature_fraction=0.6539801342710443\n",
      "[LightGBM] [Warning] lambda_l2 is set=0.3422853948073336, reg_lambda=0.0 will be ignored. Current value: lambda_l2=0.3422853948073336\n"
     ]
    },
    {
     "name": "stderr",
     "output_type": "stream",
     "text": [
      " 16%|█▌        | 16/100 [00:05<00:26,  3.11it/s]"
     ]
    },
    {
     "name": "stdout",
     "output_type": "stream",
     "text": [
      "[LightGBM] [Warning] lambda_l1 is set=0.0474587633751369, reg_alpha=0.0 will be ignored. Current value: lambda_l1=0.0474587633751369\n",
      "[LightGBM] [Warning] bagging_fraction is set=0.8976619661127543, subsample=1.0 will be ignored. Current value: bagging_fraction=0.8976619661127543\n",
      "[LightGBM] [Warning] feature_fraction is set=0.6539801342710443, colsample_bytree=1.0 will be ignored. Current value: feature_fraction=0.6539801342710443\n",
      "[LightGBM] [Warning] lambda_l2 is set=0.3422853948073336, reg_lambda=0.0 will be ignored. Current value: lambda_l2=0.3422853948073336\n"
     ]
    },
    {
     "name": "stderr",
     "output_type": "stream",
     "text": [
      " 17%|█▋        | 17/100 [00:05<00:27,  3.06it/s]"
     ]
    },
    {
     "name": "stdout",
     "output_type": "stream",
     "text": [
      "[LightGBM] [Warning] lambda_l1 is set=0.0474587633751369, reg_alpha=0.0 will be ignored. Current value: lambda_l1=0.0474587633751369\n",
      "[LightGBM] [Warning] bagging_fraction is set=0.8976619661127543, subsample=1.0 will be ignored. Current value: bagging_fraction=0.8976619661127543\n",
      "[LightGBM] [Warning] feature_fraction is set=0.6539801342710443, colsample_bytree=1.0 will be ignored. Current value: feature_fraction=0.6539801342710443\n",
      "[LightGBM] [Warning] lambda_l2 is set=0.3422853948073336, reg_lambda=0.0 will be ignored. Current value: lambda_l2=0.3422853948073336\n"
     ]
    },
    {
     "name": "stderr",
     "output_type": "stream",
     "text": [
      " 18%|█▊        | 18/100 [00:05<00:26,  3.06it/s]"
     ]
    },
    {
     "name": "stdout",
     "output_type": "stream",
     "text": [
      "[LightGBM] [Warning] lambda_l1 is set=0.0474587633751369, reg_alpha=0.0 will be ignored. Current value: lambda_l1=0.0474587633751369\n",
      "[LightGBM] [Warning] bagging_fraction is set=0.8976619661127543, subsample=1.0 will be ignored. Current value: bagging_fraction=0.8976619661127543\n",
      "[LightGBM] [Warning] feature_fraction is set=0.6539801342710443, colsample_bytree=1.0 will be ignored. Current value: feature_fraction=0.6539801342710443\n",
      "[LightGBM] [Warning] lambda_l2 is set=0.3422853948073336, reg_lambda=0.0 will be ignored. Current value: lambda_l2=0.3422853948073336\n"
     ]
    },
    {
     "name": "stderr",
     "output_type": "stream",
     "text": [
      " 19%|█▉        | 19/100 [00:06<00:25,  3.13it/s]"
     ]
    },
    {
     "name": "stdout",
     "output_type": "stream",
     "text": [
      "[LightGBM] [Warning] lambda_l1 is set=0.0474587633751369, reg_alpha=0.0 will be ignored. Current value: lambda_l1=0.0474587633751369\n",
      "[LightGBM] [Warning] bagging_fraction is set=0.8976619661127543, subsample=1.0 will be ignored. Current value: bagging_fraction=0.8976619661127543\n",
      "[LightGBM] [Warning] feature_fraction is set=0.6539801342710443, colsample_bytree=1.0 will be ignored. Current value: feature_fraction=0.6539801342710443\n",
      "[LightGBM] [Warning] lambda_l2 is set=0.3422853948073336, reg_lambda=0.0 will be ignored. Current value: lambda_l2=0.3422853948073336\n"
     ]
    },
    {
     "name": "stderr",
     "output_type": "stream",
     "text": [
      " 20%|██        | 20/100 [00:06<00:25,  3.10it/s]"
     ]
    },
    {
     "name": "stdout",
     "output_type": "stream",
     "text": [
      "[LightGBM] [Warning] lambda_l1 is set=0.0474587633751369, reg_alpha=0.0 will be ignored. Current value: lambda_l1=0.0474587633751369\n",
      "[LightGBM] [Warning] bagging_fraction is set=0.8976619661127543, subsample=1.0 will be ignored. Current value: bagging_fraction=0.8976619661127543\n",
      "[LightGBM] [Warning] feature_fraction is set=0.6539801342710443, colsample_bytree=1.0 will be ignored. Current value: feature_fraction=0.6539801342710443\n",
      "[LightGBM] [Warning] lambda_l2 is set=0.3422853948073336, reg_lambda=0.0 will be ignored. Current value: lambda_l2=0.3422853948073336\n"
     ]
    },
    {
     "name": "stderr",
     "output_type": "stream",
     "text": [
      " 21%|██        | 21/100 [00:06<00:25,  3.06it/s]"
     ]
    },
    {
     "name": "stdout",
     "output_type": "stream",
     "text": [
      "[LightGBM] [Warning] lambda_l1 is set=0.0474587633751369, reg_alpha=0.0 will be ignored. Current value: lambda_l1=0.0474587633751369\n",
      "[LightGBM] [Warning] bagging_fraction is set=0.8976619661127543, subsample=1.0 will be ignored. Current value: bagging_fraction=0.8976619661127543\n",
      "[LightGBM] [Warning] feature_fraction is set=0.6539801342710443, colsample_bytree=1.0 will be ignored. Current value: feature_fraction=0.6539801342710443\n",
      "[LightGBM] [Warning] lambda_l2 is set=0.3422853948073336, reg_lambda=0.0 will be ignored. Current value: lambda_l2=0.3422853948073336\n"
     ]
    },
    {
     "name": "stderr",
     "output_type": "stream",
     "text": [
      " 22%|██▏       | 22/100 [00:07<00:25,  3.11it/s]"
     ]
    },
    {
     "name": "stdout",
     "output_type": "stream",
     "text": [
      "[LightGBM] [Warning] lambda_l1 is set=0.0474587633751369, reg_alpha=0.0 will be ignored. Current value: lambda_l1=0.0474587633751369\n",
      "[LightGBM] [Warning] bagging_fraction is set=0.8976619661127543, subsample=1.0 will be ignored. Current value: bagging_fraction=0.8976619661127543\n",
      "[LightGBM] [Warning] feature_fraction is set=0.6539801342710443, colsample_bytree=1.0 will be ignored. Current value: feature_fraction=0.6539801342710443\n",
      "[LightGBM] [Warning] lambda_l2 is set=0.3422853948073336, reg_lambda=0.0 will be ignored. Current value: lambda_l2=0.3422853948073336\n"
     ]
    },
    {
     "name": "stderr",
     "output_type": "stream",
     "text": [
      " 23%|██▎       | 23/100 [00:07<00:24,  3.15it/s]"
     ]
    },
    {
     "name": "stdout",
     "output_type": "stream",
     "text": [
      "[LightGBM] [Warning] lambda_l1 is set=0.0474587633751369, reg_alpha=0.0 will be ignored. Current value: lambda_l1=0.0474587633751369\n",
      "[LightGBM] [Warning] bagging_fraction is set=0.8976619661127543, subsample=1.0 will be ignored. Current value: bagging_fraction=0.8976619661127543\n",
      "[LightGBM] [Warning] feature_fraction is set=0.6539801342710443, colsample_bytree=1.0 will be ignored. Current value: feature_fraction=0.6539801342710443\n",
      "[LightGBM] [Warning] lambda_l2 is set=0.3422853948073336, reg_lambda=0.0 will be ignored. Current value: lambda_l2=0.3422853948073336\n"
     ]
    },
    {
     "name": "stderr",
     "output_type": "stream",
     "text": [
      " 24%|██▍       | 24/100 [00:07<00:24,  3.16it/s]"
     ]
    },
    {
     "name": "stdout",
     "output_type": "stream",
     "text": [
      "[LightGBM] [Warning] lambda_l1 is set=0.0474587633751369, reg_alpha=0.0 will be ignored. Current value: lambda_l1=0.0474587633751369\n",
      "[LightGBM] [Warning] bagging_fraction is set=0.8976619661127543, subsample=1.0 will be ignored. Current value: bagging_fraction=0.8976619661127543\n",
      "[LightGBM] [Warning] feature_fraction is set=0.6539801342710443, colsample_bytree=1.0 will be ignored. Current value: feature_fraction=0.6539801342710443\n",
      "[LightGBM] [Warning] lambda_l2 is set=0.3422853948073336, reg_lambda=0.0 will be ignored. Current value: lambda_l2=0.3422853948073336\n"
     ]
    },
    {
     "name": "stderr",
     "output_type": "stream",
     "text": [
      " 25%|██▌       | 25/100 [00:08<00:23,  3.23it/s]"
     ]
    },
    {
     "name": "stdout",
     "output_type": "stream",
     "text": [
      "[LightGBM] [Warning] lambda_l1 is set=0.0474587633751369, reg_alpha=0.0 will be ignored. Current value: lambda_l1=0.0474587633751369\n",
      "[LightGBM] [Warning] bagging_fraction is set=0.8976619661127543, subsample=1.0 will be ignored. Current value: bagging_fraction=0.8976619661127543\n",
      "[LightGBM] [Warning] feature_fraction is set=0.6539801342710443, colsample_bytree=1.0 will be ignored. Current value: feature_fraction=0.6539801342710443\n",
      "[LightGBM] [Warning] lambda_l2 is set=0.3422853948073336, reg_lambda=0.0 will be ignored. Current value: lambda_l2=0.3422853948073336\n"
     ]
    },
    {
     "name": "stderr",
     "output_type": "stream",
     "text": [
      " 26%|██▌       | 26/100 [00:08<00:22,  3.23it/s]"
     ]
    },
    {
     "name": "stdout",
     "output_type": "stream",
     "text": [
      "[LightGBM] [Warning] lambda_l1 is set=0.0474587633751369, reg_alpha=0.0 will be ignored. Current value: lambda_l1=0.0474587633751369\n",
      "[LightGBM] [Warning] bagging_fraction is set=0.8976619661127543, subsample=1.0 will be ignored. Current value: bagging_fraction=0.8976619661127543\n",
      "[LightGBM] [Warning] feature_fraction is set=0.6539801342710443, colsample_bytree=1.0 will be ignored. Current value: feature_fraction=0.6539801342710443\n",
      "[LightGBM] [Warning] lambda_l2 is set=0.3422853948073336, reg_lambda=0.0 will be ignored. Current value: lambda_l2=0.3422853948073336\n"
     ]
    },
    {
     "name": "stderr",
     "output_type": "stream",
     "text": [
      " 27%|██▋       | 27/100 [00:08<00:23,  3.17it/s]"
     ]
    },
    {
     "name": "stdout",
     "output_type": "stream",
     "text": [
      "[LightGBM] [Warning] lambda_l1 is set=0.0474587633751369, reg_alpha=0.0 will be ignored. Current value: lambda_l1=0.0474587633751369\n",
      "[LightGBM] [Warning] bagging_fraction is set=0.8976619661127543, subsample=1.0 will be ignored. Current value: bagging_fraction=0.8976619661127543\n",
      "[LightGBM] [Warning] feature_fraction is set=0.6539801342710443, colsample_bytree=1.0 will be ignored. Current value: feature_fraction=0.6539801342710443\n",
      "[LightGBM] [Warning] lambda_l2 is set=0.3422853948073336, reg_lambda=0.0 will be ignored. Current value: lambda_l2=0.3422853948073336\n"
     ]
    },
    {
     "name": "stderr",
     "output_type": "stream",
     "text": [
      " 28%|██▊       | 28/100 [00:08<00:22,  3.17it/s]"
     ]
    },
    {
     "name": "stdout",
     "output_type": "stream",
     "text": [
      "[LightGBM] [Warning] lambda_l1 is set=0.0474587633751369, reg_alpha=0.0 will be ignored. Current value: lambda_l1=0.0474587633751369\n",
      "[LightGBM] [Warning] bagging_fraction is set=0.8976619661127543, subsample=1.0 will be ignored. Current value: bagging_fraction=0.8976619661127543\n",
      "[LightGBM] [Warning] feature_fraction is set=0.6539801342710443, colsample_bytree=1.0 will be ignored. Current value: feature_fraction=0.6539801342710443\n",
      "[LightGBM] [Warning] lambda_l2 is set=0.3422853948073336, reg_lambda=0.0 will be ignored. Current value: lambda_l2=0.3422853948073336\n"
     ]
    },
    {
     "name": "stderr",
     "output_type": "stream",
     "text": [
      " 29%|██▉       | 29/100 [00:09<00:22,  3.16it/s]"
     ]
    },
    {
     "name": "stdout",
     "output_type": "stream",
     "text": [
      "[LightGBM] [Warning] lambda_l1 is set=0.0474587633751369, reg_alpha=0.0 will be ignored. Current value: lambda_l1=0.0474587633751369\n",
      "[LightGBM] [Warning] bagging_fraction is set=0.8976619661127543, subsample=1.0 will be ignored. Current value: bagging_fraction=0.8976619661127543\n",
      "[LightGBM] [Warning] feature_fraction is set=0.6539801342710443, colsample_bytree=1.0 will be ignored. Current value: feature_fraction=0.6539801342710443\n",
      "[LightGBM] [Warning] lambda_l2 is set=0.3422853948073336, reg_lambda=0.0 will be ignored. Current value: lambda_l2=0.3422853948073336\n"
     ]
    },
    {
     "name": "stderr",
     "output_type": "stream",
     "text": [
      " 30%|███       | 30/100 [00:09<00:22,  3.13it/s]"
     ]
    },
    {
     "name": "stdout",
     "output_type": "stream",
     "text": [
      "[LightGBM] [Warning] lambda_l1 is set=0.0474587633751369, reg_alpha=0.0 will be ignored. Current value: lambda_l1=0.0474587633751369\n",
      "[LightGBM] [Warning] bagging_fraction is set=0.8976619661127543, subsample=1.0 will be ignored. Current value: bagging_fraction=0.8976619661127543\n",
      "[LightGBM] [Warning] feature_fraction is set=0.6539801342710443, colsample_bytree=1.0 will be ignored. Current value: feature_fraction=0.6539801342710443\n",
      "[LightGBM] [Warning] lambda_l2 is set=0.3422853948073336, reg_lambda=0.0 will be ignored. Current value: lambda_l2=0.3422853948073336\n"
     ]
    },
    {
     "name": "stderr",
     "output_type": "stream",
     "text": [
      " 31%|███       | 31/100 [00:09<00:22,  3.10it/s]"
     ]
    },
    {
     "name": "stdout",
     "output_type": "stream",
     "text": [
      "[LightGBM] [Warning] lambda_l1 is set=0.0474587633751369, reg_alpha=0.0 will be ignored. Current value: lambda_l1=0.0474587633751369\n",
      "[LightGBM] [Warning] bagging_fraction is set=0.8976619661127543, subsample=1.0 will be ignored. Current value: bagging_fraction=0.8976619661127543\n",
      "[LightGBM] [Warning] feature_fraction is set=0.6539801342710443, colsample_bytree=1.0 will be ignored. Current value: feature_fraction=0.6539801342710443\n",
      "[LightGBM] [Warning] lambda_l2 is set=0.3422853948073336, reg_lambda=0.0 will be ignored. Current value: lambda_l2=0.3422853948073336\n"
     ]
    },
    {
     "name": "stderr",
     "output_type": "stream",
     "text": [
      " 32%|███▏      | 32/100 [00:10<00:21,  3.14it/s]"
     ]
    },
    {
     "name": "stdout",
     "output_type": "stream",
     "text": [
      "[LightGBM] [Warning] lambda_l1 is set=0.0474587633751369, reg_alpha=0.0 will be ignored. Current value: lambda_l1=0.0474587633751369\n",
      "[LightGBM] [Warning] bagging_fraction is set=0.8976619661127543, subsample=1.0 will be ignored. Current value: bagging_fraction=0.8976619661127543\n",
      "[LightGBM] [Warning] feature_fraction is set=0.6539801342710443, colsample_bytree=1.0 will be ignored. Current value: feature_fraction=0.6539801342710443\n",
      "[LightGBM] [Warning] lambda_l2 is set=0.3422853948073336, reg_lambda=0.0 will be ignored. Current value: lambda_l2=0.3422853948073336\n"
     ]
    },
    {
     "name": "stderr",
     "output_type": "stream",
     "text": [
      " 33%|███▎      | 33/100 [00:10<00:21,  3.05it/s]"
     ]
    },
    {
     "name": "stdout",
     "output_type": "stream",
     "text": [
      "[LightGBM] [Warning] lambda_l1 is set=0.0474587633751369, reg_alpha=0.0 will be ignored. Current value: lambda_l1=0.0474587633751369\n",
      "[LightGBM] [Warning] bagging_fraction is set=0.8976619661127543, subsample=1.0 will be ignored. Current value: bagging_fraction=0.8976619661127543\n",
      "[LightGBM] [Warning] feature_fraction is set=0.6539801342710443, colsample_bytree=1.0 will be ignored. Current value: feature_fraction=0.6539801342710443\n",
      "[LightGBM] [Warning] lambda_l2 is set=0.3422853948073336, reg_lambda=0.0 will be ignored. Current value: lambda_l2=0.3422853948073336\n"
     ]
    },
    {
     "name": "stderr",
     "output_type": "stream",
     "text": [
      " 34%|███▍      | 34/100 [00:11<00:27,  2.44it/s]"
     ]
    },
    {
     "name": "stdout",
     "output_type": "stream",
     "text": [
      "[LightGBM] [Warning] lambda_l1 is set=0.0474587633751369, reg_alpha=0.0 will be ignored. Current value: lambda_l1=0.0474587633751369\n",
      "[LightGBM] [Warning] bagging_fraction is set=0.8976619661127543, subsample=1.0 will be ignored. Current value: bagging_fraction=0.8976619661127543\n",
      "[LightGBM] [Warning] feature_fraction is set=0.6539801342710443, colsample_bytree=1.0 will be ignored. Current value: feature_fraction=0.6539801342710443\n",
      "[LightGBM] [Warning] lambda_l2 is set=0.3422853948073336, reg_lambda=0.0 will be ignored. Current value: lambda_l2=0.3422853948073336\n"
     ]
    },
    {
     "name": "stderr",
     "output_type": "stream",
     "text": [
      " 35%|███▌      | 35/100 [00:11<00:25,  2.58it/s]"
     ]
    },
    {
     "name": "stdout",
     "output_type": "stream",
     "text": [
      "[LightGBM] [Warning] lambda_l1 is set=0.0474587633751369, reg_alpha=0.0 will be ignored. Current value: lambda_l1=0.0474587633751369\n",
      "[LightGBM] [Warning] bagging_fraction is set=0.8976619661127543, subsample=1.0 will be ignored. Current value: bagging_fraction=0.8976619661127543\n",
      "[LightGBM] [Warning] feature_fraction is set=0.6539801342710443, colsample_bytree=1.0 will be ignored. Current value: feature_fraction=0.6539801342710443\n",
      "[LightGBM] [Warning] lambda_l2 is set=0.3422853948073336, reg_lambda=0.0 will be ignored. Current value: lambda_l2=0.3422853948073336\n"
     ]
    },
    {
     "name": "stderr",
     "output_type": "stream",
     "text": [
      " 36%|███▌      | 36/100 [00:11<00:23,  2.67it/s]"
     ]
    },
    {
     "name": "stdout",
     "output_type": "stream",
     "text": [
      "[LightGBM] [Warning] lambda_l1 is set=0.0474587633751369, reg_alpha=0.0 will be ignored. Current value: lambda_l1=0.0474587633751369\n",
      "[LightGBM] [Warning] bagging_fraction is set=0.8976619661127543, subsample=1.0 will be ignored. Current value: bagging_fraction=0.8976619661127543\n",
      "[LightGBM] [Warning] feature_fraction is set=0.6539801342710443, colsample_bytree=1.0 will be ignored. Current value: feature_fraction=0.6539801342710443\n",
      "[LightGBM] [Warning] lambda_l2 is set=0.3422853948073336, reg_lambda=0.0 will be ignored. Current value: lambda_l2=0.3422853948073336\n"
     ]
    },
    {
     "name": "stderr",
     "output_type": "stream",
     "text": [
      " 37%|███▋      | 37/100 [00:12<00:22,  2.77it/s]"
     ]
    },
    {
     "name": "stdout",
     "output_type": "stream",
     "text": [
      "[LightGBM] [Warning] lambda_l1 is set=0.0474587633751369, reg_alpha=0.0 will be ignored. Current value: lambda_l1=0.0474587633751369\n",
      "[LightGBM] [Warning] bagging_fraction is set=0.8976619661127543, subsample=1.0 will be ignored. Current value: bagging_fraction=0.8976619661127543\n",
      "[LightGBM] [Warning] feature_fraction is set=0.6539801342710443, colsample_bytree=1.0 will be ignored. Current value: feature_fraction=0.6539801342710443\n",
      "[LightGBM] [Warning] lambda_l2 is set=0.3422853948073336, reg_lambda=0.0 will be ignored. Current value: lambda_l2=0.3422853948073336\n"
     ]
    },
    {
     "name": "stderr",
     "output_type": "stream",
     "text": [
      " 38%|███▊      | 38/100 [00:12<00:21,  2.87it/s]"
     ]
    },
    {
     "name": "stdout",
     "output_type": "stream",
     "text": [
      "[LightGBM] [Warning] lambda_l1 is set=0.0474587633751369, reg_alpha=0.0 will be ignored. Current value: lambda_l1=0.0474587633751369\n",
      "[LightGBM] [Warning] bagging_fraction is set=0.8976619661127543, subsample=1.0 will be ignored. Current value: bagging_fraction=0.8976619661127543\n",
      "[LightGBM] [Warning] feature_fraction is set=0.6539801342710443, colsample_bytree=1.0 will be ignored. Current value: feature_fraction=0.6539801342710443\n",
      "[LightGBM] [Warning] lambda_l2 is set=0.3422853948073336, reg_lambda=0.0 will be ignored. Current value: lambda_l2=0.3422853948073336\n"
     ]
    },
    {
     "name": "stderr",
     "output_type": "stream",
     "text": [
      " 39%|███▉      | 39/100 [00:12<00:20,  2.96it/s]"
     ]
    },
    {
     "name": "stdout",
     "output_type": "stream",
     "text": [
      "[LightGBM] [Warning] lambda_l1 is set=0.0474587633751369, reg_alpha=0.0 will be ignored. Current value: lambda_l1=0.0474587633751369\n",
      "[LightGBM] [Warning] bagging_fraction is set=0.8976619661127543, subsample=1.0 will be ignored. Current value: bagging_fraction=0.8976619661127543\n",
      "[LightGBM] [Warning] feature_fraction is set=0.6539801342710443, colsample_bytree=1.0 will be ignored. Current value: feature_fraction=0.6539801342710443\n",
      "[LightGBM] [Warning] lambda_l2 is set=0.3422853948073336, reg_lambda=0.0 will be ignored. Current value: lambda_l2=0.3422853948073336\n"
     ]
    },
    {
     "name": "stderr",
     "output_type": "stream",
     "text": [
      " 40%|████      | 40/100 [00:13<00:20,  2.97it/s]"
     ]
    },
    {
     "name": "stdout",
     "output_type": "stream",
     "text": [
      "[LightGBM] [Warning] lambda_l1 is set=0.0474587633751369, reg_alpha=0.0 will be ignored. Current value: lambda_l1=0.0474587633751369\n",
      "[LightGBM] [Warning] bagging_fraction is set=0.8976619661127543, subsample=1.0 will be ignored. Current value: bagging_fraction=0.8976619661127543\n",
      "[LightGBM] [Warning] feature_fraction is set=0.6539801342710443, colsample_bytree=1.0 will be ignored. Current value: feature_fraction=0.6539801342710443\n",
      "[LightGBM] [Warning] lambda_l2 is set=0.3422853948073336, reg_lambda=0.0 will be ignored. Current value: lambda_l2=0.3422853948073336\n"
     ]
    },
    {
     "name": "stderr",
     "output_type": "stream",
     "text": [
      " 41%|████      | 41/100 [00:13<00:19,  2.95it/s]"
     ]
    },
    {
     "name": "stdout",
     "output_type": "stream",
     "text": [
      "[LightGBM] [Warning] lambda_l1 is set=0.0474587633751369, reg_alpha=0.0 will be ignored. Current value: lambda_l1=0.0474587633751369\n",
      "[LightGBM] [Warning] bagging_fraction is set=0.8976619661127543, subsample=1.0 will be ignored. Current value: bagging_fraction=0.8976619661127543\n",
      "[LightGBM] [Warning] feature_fraction is set=0.6539801342710443, colsample_bytree=1.0 will be ignored. Current value: feature_fraction=0.6539801342710443\n",
      "[LightGBM] [Warning] lambda_l2 is set=0.3422853948073336, reg_lambda=0.0 will be ignored. Current value: lambda_l2=0.3422853948073336\n"
     ]
    },
    {
     "name": "stderr",
     "output_type": "stream",
     "text": [
      " 42%|████▏     | 42/100 [00:13<00:19,  2.94it/s]"
     ]
    },
    {
     "name": "stdout",
     "output_type": "stream",
     "text": [
      "[LightGBM] [Warning] lambda_l1 is set=0.0474587633751369, reg_alpha=0.0 will be ignored. Current value: lambda_l1=0.0474587633751369\n",
      "[LightGBM] [Warning] bagging_fraction is set=0.8976619661127543, subsample=1.0 will be ignored. Current value: bagging_fraction=0.8976619661127543\n",
      "[LightGBM] [Warning] feature_fraction is set=0.6539801342710443, colsample_bytree=1.0 will be ignored. Current value: feature_fraction=0.6539801342710443\n",
      "[LightGBM] [Warning] lambda_l2 is set=0.3422853948073336, reg_lambda=0.0 will be ignored. Current value: lambda_l2=0.3422853948073336\n"
     ]
    },
    {
     "name": "stderr",
     "output_type": "stream",
     "text": [
      " 43%|████▎     | 43/100 [00:14<00:18,  3.03it/s]"
     ]
    },
    {
     "name": "stdout",
     "output_type": "stream",
     "text": [
      "[LightGBM] [Warning] lambda_l1 is set=0.0474587633751369, reg_alpha=0.0 will be ignored. Current value: lambda_l1=0.0474587633751369\n",
      "[LightGBM] [Warning] bagging_fraction is set=0.8976619661127543, subsample=1.0 will be ignored. Current value: bagging_fraction=0.8976619661127543\n",
      "[LightGBM] [Warning] feature_fraction is set=0.6539801342710443, colsample_bytree=1.0 will be ignored. Current value: feature_fraction=0.6539801342710443\n",
      "[LightGBM] [Warning] lambda_l2 is set=0.3422853948073336, reg_lambda=0.0 will be ignored. Current value: lambda_l2=0.3422853948073336\n"
     ]
    },
    {
     "name": "stderr",
     "output_type": "stream",
     "text": [
      " 44%|████▍     | 44/100 [00:14<00:18,  3.03it/s]"
     ]
    },
    {
     "name": "stdout",
     "output_type": "stream",
     "text": [
      "[LightGBM] [Warning] lambda_l1 is set=0.0474587633751369, reg_alpha=0.0 will be ignored. Current value: lambda_l1=0.0474587633751369\n",
      "[LightGBM] [Warning] bagging_fraction is set=0.8976619661127543, subsample=1.0 will be ignored. Current value: bagging_fraction=0.8976619661127543\n",
      "[LightGBM] [Warning] feature_fraction is set=0.6539801342710443, colsample_bytree=1.0 will be ignored. Current value: feature_fraction=0.6539801342710443\n",
      "[LightGBM] [Warning] lambda_l2 is set=0.3422853948073336, reg_lambda=0.0 will be ignored. Current value: lambda_l2=0.3422853948073336\n"
     ]
    },
    {
     "name": "stderr",
     "output_type": "stream",
     "text": [
      " 45%|████▌     | 45/100 [00:14<00:18,  3.02it/s]"
     ]
    },
    {
     "name": "stdout",
     "output_type": "stream",
     "text": [
      "[LightGBM] [Warning] lambda_l1 is set=0.0474587633751369, reg_alpha=0.0 will be ignored. Current value: lambda_l1=0.0474587633751369\n",
      "[LightGBM] [Warning] bagging_fraction is set=0.8976619661127543, subsample=1.0 will be ignored. Current value: bagging_fraction=0.8976619661127543\n",
      "[LightGBM] [Warning] feature_fraction is set=0.6539801342710443, colsample_bytree=1.0 will be ignored. Current value: feature_fraction=0.6539801342710443\n",
      "[LightGBM] [Warning] lambda_l2 is set=0.3422853948073336, reg_lambda=0.0 will be ignored. Current value: lambda_l2=0.3422853948073336\n"
     ]
    },
    {
     "name": "stderr",
     "output_type": "stream",
     "text": [
      " 46%|████▌     | 46/100 [00:15<00:17,  3.04it/s]"
     ]
    },
    {
     "name": "stdout",
     "output_type": "stream",
     "text": [
      "[LightGBM] [Warning] lambda_l1 is set=0.0474587633751369, reg_alpha=0.0 will be ignored. Current value: lambda_l1=0.0474587633751369\n",
      "[LightGBM] [Warning] bagging_fraction is set=0.8976619661127543, subsample=1.0 will be ignored. Current value: bagging_fraction=0.8976619661127543\n",
      "[LightGBM] [Warning] feature_fraction is set=0.6539801342710443, colsample_bytree=1.0 will be ignored. Current value: feature_fraction=0.6539801342710443\n",
      "[LightGBM] [Warning] lambda_l2 is set=0.3422853948073336, reg_lambda=0.0 will be ignored. Current value: lambda_l2=0.3422853948073336\n"
     ]
    },
    {
     "name": "stderr",
     "output_type": "stream",
     "text": [
      " 47%|████▋     | 47/100 [00:15<00:17,  3.00it/s]"
     ]
    },
    {
     "name": "stdout",
     "output_type": "stream",
     "text": [
      "[LightGBM] [Warning] lambda_l1 is set=0.0474587633751369, reg_alpha=0.0 will be ignored. Current value: lambda_l1=0.0474587633751369\n",
      "[LightGBM] [Warning] bagging_fraction is set=0.8976619661127543, subsample=1.0 will be ignored. Current value: bagging_fraction=0.8976619661127543\n",
      "[LightGBM] [Warning] feature_fraction is set=0.6539801342710443, colsample_bytree=1.0 will be ignored. Current value: feature_fraction=0.6539801342710443\n",
      "[LightGBM] [Warning] lambda_l2 is set=0.3422853948073336, reg_lambda=0.0 will be ignored. Current value: lambda_l2=0.3422853948073336\n"
     ]
    },
    {
     "name": "stderr",
     "output_type": "stream",
     "text": [
      " 48%|████▊     | 48/100 [00:15<00:17,  3.03it/s]"
     ]
    },
    {
     "name": "stdout",
     "output_type": "stream",
     "text": [
      "[LightGBM] [Warning] lambda_l1 is set=0.0474587633751369, reg_alpha=0.0 will be ignored. Current value: lambda_l1=0.0474587633751369\n",
      "[LightGBM] [Warning] bagging_fraction is set=0.8976619661127543, subsample=1.0 will be ignored. Current value: bagging_fraction=0.8976619661127543\n",
      "[LightGBM] [Warning] feature_fraction is set=0.6539801342710443, colsample_bytree=1.0 will be ignored. Current value: feature_fraction=0.6539801342710443\n",
      "[LightGBM] [Warning] lambda_l2 is set=0.3422853948073336, reg_lambda=0.0 will be ignored. Current value: lambda_l2=0.3422853948073336\n"
     ]
    },
    {
     "name": "stderr",
     "output_type": "stream",
     "text": [
      " 49%|████▉     | 49/100 [00:16<00:16,  3.09it/s]"
     ]
    },
    {
     "name": "stdout",
     "output_type": "stream",
     "text": [
      "[LightGBM] [Warning] lambda_l1 is set=0.0474587633751369, reg_alpha=0.0 will be ignored. Current value: lambda_l1=0.0474587633751369\n",
      "[LightGBM] [Warning] bagging_fraction is set=0.8976619661127543, subsample=1.0 will be ignored. Current value: bagging_fraction=0.8976619661127543\n",
      "[LightGBM] [Warning] feature_fraction is set=0.6539801342710443, colsample_bytree=1.0 will be ignored. Current value: feature_fraction=0.6539801342710443\n",
      "[LightGBM] [Warning] lambda_l2 is set=0.3422853948073336, reg_lambda=0.0 will be ignored. Current value: lambda_l2=0.3422853948073336\n"
     ]
    },
    {
     "name": "stderr",
     "output_type": "stream",
     "text": [
      " 50%|█████     | 50/100 [00:16<00:16,  3.08it/s]"
     ]
    },
    {
     "name": "stdout",
     "output_type": "stream",
     "text": [
      "[LightGBM] [Warning] lambda_l1 is set=0.0474587633751369, reg_alpha=0.0 will be ignored. Current value: lambda_l1=0.0474587633751369\n",
      "[LightGBM] [Warning] bagging_fraction is set=0.8976619661127543, subsample=1.0 will be ignored. Current value: bagging_fraction=0.8976619661127543\n",
      "[LightGBM] [Warning] feature_fraction is set=0.6539801342710443, colsample_bytree=1.0 will be ignored. Current value: feature_fraction=0.6539801342710443\n",
      "[LightGBM] [Warning] lambda_l2 is set=0.3422853948073336, reg_lambda=0.0 will be ignored. Current value: lambda_l2=0.3422853948073336\n"
     ]
    },
    {
     "name": "stderr",
     "output_type": "stream",
     "text": [
      " 51%|█████     | 51/100 [00:16<00:16,  2.99it/s]"
     ]
    },
    {
     "name": "stdout",
     "output_type": "stream",
     "text": [
      "[LightGBM] [Warning] lambda_l1 is set=0.0474587633751369, reg_alpha=0.0 will be ignored. Current value: lambda_l1=0.0474587633751369\n",
      "[LightGBM] [Warning] bagging_fraction is set=0.8976619661127543, subsample=1.0 will be ignored. Current value: bagging_fraction=0.8976619661127543\n",
      "[LightGBM] [Warning] feature_fraction is set=0.6539801342710443, colsample_bytree=1.0 will be ignored. Current value: feature_fraction=0.6539801342710443\n",
      "[LightGBM] [Warning] lambda_l2 is set=0.3422853948073336, reg_lambda=0.0 will be ignored. Current value: lambda_l2=0.3422853948073336\n"
     ]
    },
    {
     "name": "stderr",
     "output_type": "stream",
     "text": [
      " 52%|█████▏    | 52/100 [00:17<00:15,  3.07it/s]"
     ]
    },
    {
     "name": "stdout",
     "output_type": "stream",
     "text": [
      "[LightGBM] [Warning] lambda_l1 is set=0.0474587633751369, reg_alpha=0.0 will be ignored. Current value: lambda_l1=0.0474587633751369\n",
      "[LightGBM] [Warning] bagging_fraction is set=0.8976619661127543, subsample=1.0 will be ignored. Current value: bagging_fraction=0.8976619661127543\n",
      "[LightGBM] [Warning] feature_fraction is set=0.6539801342710443, colsample_bytree=1.0 will be ignored. Current value: feature_fraction=0.6539801342710443\n",
      "[LightGBM] [Warning] lambda_l2 is set=0.3422853948073336, reg_lambda=0.0 will be ignored. Current value: lambda_l2=0.3422853948073336\n"
     ]
    },
    {
     "name": "stderr",
     "output_type": "stream",
     "text": [
      " 53%|█████▎    | 53/100 [00:17<00:15,  3.03it/s]"
     ]
    },
    {
     "name": "stdout",
     "output_type": "stream",
     "text": [
      "[LightGBM] [Warning] lambda_l1 is set=0.0474587633751369, reg_alpha=0.0 will be ignored. Current value: lambda_l1=0.0474587633751369\n",
      "[LightGBM] [Warning] bagging_fraction is set=0.8976619661127543, subsample=1.0 will be ignored. Current value: bagging_fraction=0.8976619661127543\n",
      "[LightGBM] [Warning] feature_fraction is set=0.6539801342710443, colsample_bytree=1.0 will be ignored. Current value: feature_fraction=0.6539801342710443\n",
      "[LightGBM] [Warning] lambda_l2 is set=0.3422853948073336, reg_lambda=0.0 will be ignored. Current value: lambda_l2=0.3422853948073336\n"
     ]
    },
    {
     "name": "stderr",
     "output_type": "stream",
     "text": [
      " 54%|█████▍    | 54/100 [00:17<00:14,  3.09it/s]"
     ]
    },
    {
     "name": "stdout",
     "output_type": "stream",
     "text": [
      "[LightGBM] [Warning] lambda_l1 is set=0.0474587633751369, reg_alpha=0.0 will be ignored. Current value: lambda_l1=0.0474587633751369\n",
      "[LightGBM] [Warning] bagging_fraction is set=0.8976619661127543, subsample=1.0 will be ignored. Current value: bagging_fraction=0.8976619661127543\n",
      "[LightGBM] [Warning] feature_fraction is set=0.6539801342710443, colsample_bytree=1.0 will be ignored. Current value: feature_fraction=0.6539801342710443\n",
      "[LightGBM] [Warning] lambda_l2 is set=0.3422853948073336, reg_lambda=0.0 will be ignored. Current value: lambda_l2=0.3422853948073336\n"
     ]
    },
    {
     "name": "stderr",
     "output_type": "stream",
     "text": [
      " 55%|█████▌    | 55/100 [00:18<00:14,  3.07it/s]"
     ]
    },
    {
     "name": "stdout",
     "output_type": "stream",
     "text": [
      "[LightGBM] [Warning] lambda_l1 is set=0.0474587633751369, reg_alpha=0.0 will be ignored. Current value: lambda_l1=0.0474587633751369\n",
      "[LightGBM] [Warning] bagging_fraction is set=0.8976619661127543, subsample=1.0 will be ignored. Current value: bagging_fraction=0.8976619661127543\n",
      "[LightGBM] [Warning] feature_fraction is set=0.6539801342710443, colsample_bytree=1.0 will be ignored. Current value: feature_fraction=0.6539801342710443\n",
      "[LightGBM] [Warning] lambda_l2 is set=0.3422853948073336, reg_lambda=0.0 will be ignored. Current value: lambda_l2=0.3422853948073336\n"
     ]
    },
    {
     "name": "stderr",
     "output_type": "stream",
     "text": [
      " 56%|█████▌    | 56/100 [00:18<00:14,  3.11it/s]"
     ]
    },
    {
     "name": "stdout",
     "output_type": "stream",
     "text": [
      "[LightGBM] [Warning] lambda_l1 is set=0.0474587633751369, reg_alpha=0.0 will be ignored. Current value: lambda_l1=0.0474587633751369\n",
      "[LightGBM] [Warning] bagging_fraction is set=0.8976619661127543, subsample=1.0 will be ignored. Current value: bagging_fraction=0.8976619661127543\n",
      "[LightGBM] [Warning] feature_fraction is set=0.6539801342710443, colsample_bytree=1.0 will be ignored. Current value: feature_fraction=0.6539801342710443\n",
      "[LightGBM] [Warning] lambda_l2 is set=0.3422853948073336, reg_lambda=0.0 will be ignored. Current value: lambda_l2=0.3422853948073336\n"
     ]
    },
    {
     "name": "stderr",
     "output_type": "stream",
     "text": [
      " 57%|█████▋    | 57/100 [00:18<00:14,  3.04it/s]"
     ]
    },
    {
     "name": "stdout",
     "output_type": "stream",
     "text": [
      "[LightGBM] [Warning] lambda_l1 is set=0.0474587633751369, reg_alpha=0.0 will be ignored. Current value: lambda_l1=0.0474587633751369\n",
      "[LightGBM] [Warning] bagging_fraction is set=0.8976619661127543, subsample=1.0 will be ignored. Current value: bagging_fraction=0.8976619661127543\n",
      "[LightGBM] [Warning] feature_fraction is set=0.6539801342710443, colsample_bytree=1.0 will be ignored. Current value: feature_fraction=0.6539801342710443\n",
      "[LightGBM] [Warning] lambda_l2 is set=0.3422853948073336, reg_lambda=0.0 will be ignored. Current value: lambda_l2=0.3422853948073336\n"
     ]
    },
    {
     "name": "stderr",
     "output_type": "stream",
     "text": [
      " 58%|█████▊    | 58/100 [00:19<00:13,  3.03it/s]"
     ]
    },
    {
     "name": "stdout",
     "output_type": "stream",
     "text": [
      "[LightGBM] [Warning] lambda_l1 is set=0.0474587633751369, reg_alpha=0.0 will be ignored. Current value: lambda_l1=0.0474587633751369\n",
      "[LightGBM] [Warning] bagging_fraction is set=0.8976619661127543, subsample=1.0 will be ignored. Current value: bagging_fraction=0.8976619661127543\n",
      "[LightGBM] [Warning] feature_fraction is set=0.6539801342710443, colsample_bytree=1.0 will be ignored. Current value: feature_fraction=0.6539801342710443\n",
      "[LightGBM] [Warning] lambda_l2 is set=0.3422853948073336, reg_lambda=0.0 will be ignored. Current value: lambda_l2=0.3422853948073336\n"
     ]
    },
    {
     "name": "stderr",
     "output_type": "stream",
     "text": [
      " 59%|█████▉    | 59/100 [00:19<00:13,  3.08it/s]"
     ]
    },
    {
     "name": "stdout",
     "output_type": "stream",
     "text": [
      "[LightGBM] [Warning] lambda_l1 is set=0.0474587633751369, reg_alpha=0.0 will be ignored. Current value: lambda_l1=0.0474587633751369\n",
      "[LightGBM] [Warning] bagging_fraction is set=0.8976619661127543, subsample=1.0 will be ignored. Current value: bagging_fraction=0.8976619661127543\n",
      "[LightGBM] [Warning] feature_fraction is set=0.6539801342710443, colsample_bytree=1.0 will be ignored. Current value: feature_fraction=0.6539801342710443\n",
      "[LightGBM] [Warning] lambda_l2 is set=0.3422853948073336, reg_lambda=0.0 will be ignored. Current value: lambda_l2=0.3422853948073336\n"
     ]
    },
    {
     "name": "stderr",
     "output_type": "stream",
     "text": [
      " 60%|██████    | 60/100 [00:19<00:13,  3.05it/s]"
     ]
    },
    {
     "name": "stdout",
     "output_type": "stream",
     "text": [
      "[LightGBM] [Warning] lambda_l1 is set=0.0474587633751369, reg_alpha=0.0 will be ignored. Current value: lambda_l1=0.0474587633751369\n",
      "[LightGBM] [Warning] bagging_fraction is set=0.8976619661127543, subsample=1.0 will be ignored. Current value: bagging_fraction=0.8976619661127543\n",
      "[LightGBM] [Warning] feature_fraction is set=0.6539801342710443, colsample_bytree=1.0 will be ignored. Current value: feature_fraction=0.6539801342710443\n",
      "[LightGBM] [Warning] lambda_l2 is set=0.3422853948073336, reg_lambda=0.0 will be ignored. Current value: lambda_l2=0.3422853948073336\n"
     ]
    },
    {
     "name": "stderr",
     "output_type": "stream",
     "text": [
      " 61%|██████    | 61/100 [00:20<00:12,  3.09it/s]"
     ]
    },
    {
     "name": "stdout",
     "output_type": "stream",
     "text": [
      "[LightGBM] [Warning] lambda_l1 is set=0.0474587633751369, reg_alpha=0.0 will be ignored. Current value: lambda_l1=0.0474587633751369\n",
      "[LightGBM] [Warning] bagging_fraction is set=0.8976619661127543, subsample=1.0 will be ignored. Current value: bagging_fraction=0.8976619661127543\n",
      "[LightGBM] [Warning] feature_fraction is set=0.6539801342710443, colsample_bytree=1.0 will be ignored. Current value: feature_fraction=0.6539801342710443\n",
      "[LightGBM] [Warning] lambda_l2 is set=0.3422853948073336, reg_lambda=0.0 will be ignored. Current value: lambda_l2=0.3422853948073336\n"
     ]
    },
    {
     "name": "stderr",
     "output_type": "stream",
     "text": [
      " 62%|██████▏   | 62/100 [00:20<00:12,  3.10it/s]"
     ]
    },
    {
     "name": "stdout",
     "output_type": "stream",
     "text": [
      "[LightGBM] [Warning] lambda_l1 is set=0.0474587633751369, reg_alpha=0.0 will be ignored. Current value: lambda_l1=0.0474587633751369\n",
      "[LightGBM] [Warning] bagging_fraction is set=0.8976619661127543, subsample=1.0 will be ignored. Current value: bagging_fraction=0.8976619661127543\n",
      "[LightGBM] [Warning] feature_fraction is set=0.6539801342710443, colsample_bytree=1.0 will be ignored. Current value: feature_fraction=0.6539801342710443\n",
      "[LightGBM] [Warning] lambda_l2 is set=0.3422853948073336, reg_lambda=0.0 will be ignored. Current value: lambda_l2=0.3422853948073336\n"
     ]
    },
    {
     "name": "stderr",
     "output_type": "stream",
     "text": [
      " 63%|██████▎   | 63/100 [00:20<00:12,  3.07it/s]"
     ]
    },
    {
     "name": "stdout",
     "output_type": "stream",
     "text": [
      "[LightGBM] [Warning] lambda_l1 is set=0.0474587633751369, reg_alpha=0.0 will be ignored. Current value: lambda_l1=0.0474587633751369\n",
      "[LightGBM] [Warning] bagging_fraction is set=0.8976619661127543, subsample=1.0 will be ignored. Current value: bagging_fraction=0.8976619661127543\n",
      "[LightGBM] [Warning] feature_fraction is set=0.6539801342710443, colsample_bytree=1.0 will be ignored. Current value: feature_fraction=0.6539801342710443\n",
      "[LightGBM] [Warning] lambda_l2 is set=0.3422853948073336, reg_lambda=0.0 will be ignored. Current value: lambda_l2=0.3422853948073336\n"
     ]
    },
    {
     "name": "stderr",
     "output_type": "stream",
     "text": [
      " 64%|██████▍   | 64/100 [00:21<00:11,  3.06it/s]"
     ]
    },
    {
     "name": "stdout",
     "output_type": "stream",
     "text": [
      "[LightGBM] [Warning] lambda_l1 is set=0.0474587633751369, reg_alpha=0.0 will be ignored. Current value: lambda_l1=0.0474587633751369\n",
      "[LightGBM] [Warning] bagging_fraction is set=0.8976619661127543, subsample=1.0 will be ignored. Current value: bagging_fraction=0.8976619661127543\n",
      "[LightGBM] [Warning] feature_fraction is set=0.6539801342710443, colsample_bytree=1.0 will be ignored. Current value: feature_fraction=0.6539801342710443\n",
      "[LightGBM] [Warning] lambda_l2 is set=0.3422853948073336, reg_lambda=0.0 will be ignored. Current value: lambda_l2=0.3422853948073336\n"
     ]
    },
    {
     "name": "stderr",
     "output_type": "stream",
     "text": [
      " 65%|██████▌   | 65/100 [00:21<00:11,  3.13it/s]"
     ]
    },
    {
     "name": "stdout",
     "output_type": "stream",
     "text": [
      "[LightGBM] [Warning] lambda_l1 is set=0.0474587633751369, reg_alpha=0.0 will be ignored. Current value: lambda_l1=0.0474587633751369\n",
      "[LightGBM] [Warning] bagging_fraction is set=0.8976619661127543, subsample=1.0 will be ignored. Current value: bagging_fraction=0.8976619661127543\n",
      "[LightGBM] [Warning] feature_fraction is set=0.6539801342710443, colsample_bytree=1.0 will be ignored. Current value: feature_fraction=0.6539801342710443\n",
      "[LightGBM] [Warning] lambda_l2 is set=0.3422853948073336, reg_lambda=0.0 will be ignored. Current value: lambda_l2=0.3422853948073336\n"
     ]
    },
    {
     "name": "stderr",
     "output_type": "stream",
     "text": [
      " 66%|██████▌   | 66/100 [00:21<00:10,  3.10it/s]"
     ]
    },
    {
     "name": "stdout",
     "output_type": "stream",
     "text": [
      "[LightGBM] [Warning] lambda_l1 is set=0.0474587633751369, reg_alpha=0.0 will be ignored. Current value: lambda_l1=0.0474587633751369\n",
      "[LightGBM] [Warning] bagging_fraction is set=0.8976619661127543, subsample=1.0 will be ignored. Current value: bagging_fraction=0.8976619661127543\n",
      "[LightGBM] [Warning] feature_fraction is set=0.6539801342710443, colsample_bytree=1.0 will be ignored. Current value: feature_fraction=0.6539801342710443\n",
      "[LightGBM] [Warning] lambda_l2 is set=0.3422853948073336, reg_lambda=0.0 will be ignored. Current value: lambda_l2=0.3422853948073336\n"
     ]
    },
    {
     "name": "stderr",
     "output_type": "stream",
     "text": [
      " 67%|██████▋   | 67/100 [00:21<00:10,  3.11it/s]"
     ]
    },
    {
     "name": "stdout",
     "output_type": "stream",
     "text": [
      "[LightGBM] [Warning] lambda_l1 is set=0.0474587633751369, reg_alpha=0.0 will be ignored. Current value: lambda_l1=0.0474587633751369\n",
      "[LightGBM] [Warning] bagging_fraction is set=0.8976619661127543, subsample=1.0 will be ignored. Current value: bagging_fraction=0.8976619661127543\n",
      "[LightGBM] [Warning] feature_fraction is set=0.6539801342710443, colsample_bytree=1.0 will be ignored. Current value: feature_fraction=0.6539801342710443\n",
      "[LightGBM] [Warning] lambda_l2 is set=0.3422853948073336, reg_lambda=0.0 will be ignored. Current value: lambda_l2=0.3422853948073336\n"
     ]
    },
    {
     "name": "stderr",
     "output_type": "stream",
     "text": [
      " 68%|██████▊   | 68/100 [00:22<00:10,  3.12it/s]"
     ]
    },
    {
     "name": "stdout",
     "output_type": "stream",
     "text": [
      "[LightGBM] [Warning] lambda_l1 is set=0.0474587633751369, reg_alpha=0.0 will be ignored. Current value: lambda_l1=0.0474587633751369\n",
      "[LightGBM] [Warning] bagging_fraction is set=0.8976619661127543, subsample=1.0 will be ignored. Current value: bagging_fraction=0.8976619661127543\n",
      "[LightGBM] [Warning] feature_fraction is set=0.6539801342710443, colsample_bytree=1.0 will be ignored. Current value: feature_fraction=0.6539801342710443\n",
      "[LightGBM] [Warning] lambda_l2 is set=0.3422853948073336, reg_lambda=0.0 will be ignored. Current value: lambda_l2=0.3422853948073336\n"
     ]
    },
    {
     "name": "stderr",
     "output_type": "stream",
     "text": [
      " 69%|██████▉   | 69/100 [00:22<00:10,  3.10it/s]"
     ]
    },
    {
     "name": "stdout",
     "output_type": "stream",
     "text": [
      "[LightGBM] [Warning] lambda_l1 is set=0.0474587633751369, reg_alpha=0.0 will be ignored. Current value: lambda_l1=0.0474587633751369\n",
      "[LightGBM] [Warning] bagging_fraction is set=0.8976619661127543, subsample=1.0 will be ignored. Current value: bagging_fraction=0.8976619661127543\n",
      "[LightGBM] [Warning] feature_fraction is set=0.6539801342710443, colsample_bytree=1.0 will be ignored. Current value: feature_fraction=0.6539801342710443\n",
      "[LightGBM] [Warning] lambda_l2 is set=0.3422853948073336, reg_lambda=0.0 will be ignored. Current value: lambda_l2=0.3422853948073336\n"
     ]
    },
    {
     "name": "stderr",
     "output_type": "stream",
     "text": [
      " 70%|███████   | 70/100 [00:23<00:10,  2.81it/s]"
     ]
    },
    {
     "name": "stdout",
     "output_type": "stream",
     "text": [
      "[LightGBM] [Warning] lambda_l1 is set=0.0474587633751369, reg_alpha=0.0 will be ignored. Current value: lambda_l1=0.0474587633751369\n",
      "[LightGBM] [Warning] bagging_fraction is set=0.8976619661127543, subsample=1.0 will be ignored. Current value: bagging_fraction=0.8976619661127543\n",
      "[LightGBM] [Warning] feature_fraction is set=0.6539801342710443, colsample_bytree=1.0 will be ignored. Current value: feature_fraction=0.6539801342710443\n",
      "[LightGBM] [Warning] lambda_l2 is set=0.3422853948073336, reg_lambda=0.0 will be ignored. Current value: lambda_l2=0.3422853948073336\n"
     ]
    },
    {
     "name": "stderr",
     "output_type": "stream",
     "text": [
      " 71%|███████   | 71/100 [00:23<00:13,  2.08it/s]"
     ]
    },
    {
     "name": "stdout",
     "output_type": "stream",
     "text": [
      "[LightGBM] [Warning] lambda_l1 is set=0.0474587633751369, reg_alpha=0.0 will be ignored. Current value: lambda_l1=0.0474587633751369\n",
      "[LightGBM] [Warning] bagging_fraction is set=0.8976619661127543, subsample=1.0 will be ignored. Current value: bagging_fraction=0.8976619661127543\n",
      "[LightGBM] [Warning] feature_fraction is set=0.6539801342710443, colsample_bytree=1.0 will be ignored. Current value: feature_fraction=0.6539801342710443\n",
      "[LightGBM] [Warning] lambda_l2 is set=0.3422853948073336, reg_lambda=0.0 will be ignored. Current value: lambda_l2=0.3422853948073336\n"
     ]
    },
    {
     "name": "stderr",
     "output_type": "stream",
     "text": [
      " 72%|███████▏  | 72/100 [00:24<00:12,  2.29it/s]"
     ]
    },
    {
     "name": "stdout",
     "output_type": "stream",
     "text": [
      "[LightGBM] [Warning] lambda_l1 is set=0.0474587633751369, reg_alpha=0.0 will be ignored. Current value: lambda_l1=0.0474587633751369\n",
      "[LightGBM] [Warning] bagging_fraction is set=0.8976619661127543, subsample=1.0 will be ignored. Current value: bagging_fraction=0.8976619661127543\n",
      "[LightGBM] [Warning] feature_fraction is set=0.6539801342710443, colsample_bytree=1.0 will be ignored. Current value: feature_fraction=0.6539801342710443\n",
      "[LightGBM] [Warning] lambda_l2 is set=0.3422853948073336, reg_lambda=0.0 will be ignored. Current value: lambda_l2=0.3422853948073336\n"
     ]
    },
    {
     "name": "stderr",
     "output_type": "stream",
     "text": [
      " 73%|███████▎  | 73/100 [00:24<00:10,  2.51it/s]"
     ]
    },
    {
     "name": "stdout",
     "output_type": "stream",
     "text": [
      "[LightGBM] [Warning] lambda_l1 is set=0.0474587633751369, reg_alpha=0.0 will be ignored. Current value: lambda_l1=0.0474587633751369\n",
      "[LightGBM] [Warning] bagging_fraction is set=0.8976619661127543, subsample=1.0 will be ignored. Current value: bagging_fraction=0.8976619661127543\n",
      "[LightGBM] [Warning] feature_fraction is set=0.6539801342710443, colsample_bytree=1.0 will be ignored. Current value: feature_fraction=0.6539801342710443\n",
      "[LightGBM] [Warning] lambda_l2 is set=0.3422853948073336, reg_lambda=0.0 will be ignored. Current value: lambda_l2=0.3422853948073336\n"
     ]
    },
    {
     "name": "stderr",
     "output_type": "stream",
     "text": [
      " 74%|███████▍  | 74/100 [00:24<00:09,  2.61it/s]"
     ]
    },
    {
     "name": "stdout",
     "output_type": "stream",
     "text": [
      "[LightGBM] [Warning] lambda_l1 is set=0.0474587633751369, reg_alpha=0.0 will be ignored. Current value: lambda_l1=0.0474587633751369\n",
      "[LightGBM] [Warning] bagging_fraction is set=0.8976619661127543, subsample=1.0 will be ignored. Current value: bagging_fraction=0.8976619661127543\n",
      "[LightGBM] [Warning] feature_fraction is set=0.6539801342710443, colsample_bytree=1.0 will be ignored. Current value: feature_fraction=0.6539801342710443\n",
      "[LightGBM] [Warning] lambda_l2 is set=0.3422853948073336, reg_lambda=0.0 will be ignored. Current value: lambda_l2=0.3422853948073336\n"
     ]
    },
    {
     "name": "stderr",
     "output_type": "stream",
     "text": [
      " 75%|███████▌  | 75/100 [00:25<00:09,  2.75it/s]"
     ]
    },
    {
     "name": "stdout",
     "output_type": "stream",
     "text": [
      "[LightGBM] [Warning] lambda_l1 is set=0.0474587633751369, reg_alpha=0.0 will be ignored. Current value: lambda_l1=0.0474587633751369\n",
      "[LightGBM] [Warning] bagging_fraction is set=0.8976619661127543, subsample=1.0 will be ignored. Current value: bagging_fraction=0.8976619661127543\n",
      "[LightGBM] [Warning] feature_fraction is set=0.6539801342710443, colsample_bytree=1.0 will be ignored. Current value: feature_fraction=0.6539801342710443\n",
      "[LightGBM] [Warning] lambda_l2 is set=0.3422853948073336, reg_lambda=0.0 will be ignored. Current value: lambda_l2=0.3422853948073336\n"
     ]
    },
    {
     "name": "stderr",
     "output_type": "stream",
     "text": [
      " 76%|███████▌  | 76/100 [00:25<00:08,  2.87it/s]"
     ]
    },
    {
     "name": "stdout",
     "output_type": "stream",
     "text": [
      "[LightGBM] [Warning] lambda_l1 is set=0.0474587633751369, reg_alpha=0.0 will be ignored. Current value: lambda_l1=0.0474587633751369\n",
      "[LightGBM] [Warning] bagging_fraction is set=0.8976619661127543, subsample=1.0 will be ignored. Current value: bagging_fraction=0.8976619661127543\n",
      "[LightGBM] [Warning] feature_fraction is set=0.6539801342710443, colsample_bytree=1.0 will be ignored. Current value: feature_fraction=0.6539801342710443\n",
      "[LightGBM] [Warning] lambda_l2 is set=0.3422853948073336, reg_lambda=0.0 will be ignored. Current value: lambda_l2=0.3422853948073336\n"
     ]
    },
    {
     "name": "stderr",
     "output_type": "stream",
     "text": [
      " 77%|███████▋  | 77/100 [00:25<00:07,  2.97it/s]"
     ]
    },
    {
     "name": "stdout",
     "output_type": "stream",
     "text": [
      "[LightGBM] [Warning] lambda_l1 is set=0.0474587633751369, reg_alpha=0.0 will be ignored. Current value: lambda_l1=0.0474587633751369\n",
      "[LightGBM] [Warning] bagging_fraction is set=0.8976619661127543, subsample=1.0 will be ignored. Current value: bagging_fraction=0.8976619661127543\n",
      "[LightGBM] [Warning] feature_fraction is set=0.6539801342710443, colsample_bytree=1.0 will be ignored. Current value: feature_fraction=0.6539801342710443\n",
      "[LightGBM] [Warning] lambda_l2 is set=0.3422853948073336, reg_lambda=0.0 will be ignored. Current value: lambda_l2=0.3422853948073336\n"
     ]
    },
    {
     "name": "stderr",
     "output_type": "stream",
     "text": [
      " 78%|███████▊  | 78/100 [00:26<00:07,  3.05it/s]"
     ]
    },
    {
     "name": "stdout",
     "output_type": "stream",
     "text": [
      "[LightGBM] [Warning] lambda_l1 is set=0.0474587633751369, reg_alpha=0.0 will be ignored. Current value: lambda_l1=0.0474587633751369\n",
      "[LightGBM] [Warning] bagging_fraction is set=0.8976619661127543, subsample=1.0 will be ignored. Current value: bagging_fraction=0.8976619661127543\n",
      "[LightGBM] [Warning] feature_fraction is set=0.6539801342710443, colsample_bytree=1.0 will be ignored. Current value: feature_fraction=0.6539801342710443\n",
      "[LightGBM] [Warning] lambda_l2 is set=0.3422853948073336, reg_lambda=0.0 will be ignored. Current value: lambda_l2=0.3422853948073336\n"
     ]
    },
    {
     "name": "stderr",
     "output_type": "stream",
     "text": [
      " 79%|███████▉  | 79/100 [00:26<00:06,  3.07it/s]"
     ]
    },
    {
     "name": "stdout",
     "output_type": "stream",
     "text": [
      "[LightGBM] [Warning] lambda_l1 is set=0.0474587633751369, reg_alpha=0.0 will be ignored. Current value: lambda_l1=0.0474587633751369\n",
      "[LightGBM] [Warning] bagging_fraction is set=0.8976619661127543, subsample=1.0 will be ignored. Current value: bagging_fraction=0.8976619661127543\n",
      "[LightGBM] [Warning] feature_fraction is set=0.6539801342710443, colsample_bytree=1.0 will be ignored. Current value: feature_fraction=0.6539801342710443\n",
      "[LightGBM] [Warning] lambda_l2 is set=0.3422853948073336, reg_lambda=0.0 will be ignored. Current value: lambda_l2=0.3422853948073336\n"
     ]
    },
    {
     "name": "stderr",
     "output_type": "stream",
     "text": [
      " 80%|████████  | 80/100 [00:26<00:06,  3.07it/s]"
     ]
    },
    {
     "name": "stdout",
     "output_type": "stream",
     "text": [
      "[LightGBM] [Warning] lambda_l1 is set=0.0474587633751369, reg_alpha=0.0 will be ignored. Current value: lambda_l1=0.0474587633751369\n",
      "[LightGBM] [Warning] bagging_fraction is set=0.8976619661127543, subsample=1.0 will be ignored. Current value: bagging_fraction=0.8976619661127543\n",
      "[LightGBM] [Warning] feature_fraction is set=0.6539801342710443, colsample_bytree=1.0 will be ignored. Current value: feature_fraction=0.6539801342710443\n",
      "[LightGBM] [Warning] lambda_l2 is set=0.3422853948073336, reg_lambda=0.0 will be ignored. Current value: lambda_l2=0.3422853948073336\n"
     ]
    },
    {
     "name": "stderr",
     "output_type": "stream",
     "text": [
      " 81%|████████  | 81/100 [00:27<00:06,  3.03it/s]"
     ]
    },
    {
     "name": "stdout",
     "output_type": "stream",
     "text": [
      "[LightGBM] [Warning] lambda_l1 is set=0.0474587633751369, reg_alpha=0.0 will be ignored. Current value: lambda_l1=0.0474587633751369\n",
      "[LightGBM] [Warning] bagging_fraction is set=0.8976619661127543, subsample=1.0 will be ignored. Current value: bagging_fraction=0.8976619661127543\n",
      "[LightGBM] [Warning] feature_fraction is set=0.6539801342710443, colsample_bytree=1.0 will be ignored. Current value: feature_fraction=0.6539801342710443\n",
      "[LightGBM] [Warning] lambda_l2 is set=0.3422853948073336, reg_lambda=0.0 will be ignored. Current value: lambda_l2=0.3422853948073336\n"
     ]
    },
    {
     "name": "stderr",
     "output_type": "stream",
     "text": [
      " 82%|████████▏ | 82/100 [00:27<00:07,  2.28it/s]"
     ]
    },
    {
     "name": "stdout",
     "output_type": "stream",
     "text": [
      "[LightGBM] [Warning] lambda_l1 is set=0.0474587633751369, reg_alpha=0.0 will be ignored. Current value: lambda_l1=0.0474587633751369\n",
      "[LightGBM] [Warning] bagging_fraction is set=0.8976619661127543, subsample=1.0 will be ignored. Current value: bagging_fraction=0.8976619661127543\n",
      "[LightGBM] [Warning] feature_fraction is set=0.6539801342710443, colsample_bytree=1.0 will be ignored. Current value: feature_fraction=0.6539801342710443\n",
      "[LightGBM] [Warning] lambda_l2 is set=0.3422853948073336, reg_lambda=0.0 will be ignored. Current value: lambda_l2=0.3422853948073336\n"
     ]
    },
    {
     "name": "stderr",
     "output_type": "stream",
     "text": [
      " 83%|████████▎ | 83/100 [00:28<00:07,  2.15it/s]"
     ]
    },
    {
     "name": "stdout",
     "output_type": "stream",
     "text": [
      "[LightGBM] [Warning] lambda_l1 is set=0.0474587633751369, reg_alpha=0.0 will be ignored. Current value: lambda_l1=0.0474587633751369\n",
      "[LightGBM] [Warning] bagging_fraction is set=0.8976619661127543, subsample=1.0 will be ignored. Current value: bagging_fraction=0.8976619661127543\n",
      "[LightGBM] [Warning] feature_fraction is set=0.6539801342710443, colsample_bytree=1.0 will be ignored. Current value: feature_fraction=0.6539801342710443\n",
      "[LightGBM] [Warning] lambda_l2 is set=0.3422853948073336, reg_lambda=0.0 will be ignored. Current value: lambda_l2=0.3422853948073336\n"
     ]
    },
    {
     "name": "stderr",
     "output_type": "stream",
     "text": [
      " 84%|████████▍ | 84/100 [00:28<00:06,  2.39it/s]"
     ]
    },
    {
     "name": "stdout",
     "output_type": "stream",
     "text": [
      "[LightGBM] [Warning] lambda_l1 is set=0.0474587633751369, reg_alpha=0.0 will be ignored. Current value: lambda_l1=0.0474587633751369\n",
      "[LightGBM] [Warning] bagging_fraction is set=0.8976619661127543, subsample=1.0 will be ignored. Current value: bagging_fraction=0.8976619661127543\n",
      "[LightGBM] [Warning] feature_fraction is set=0.6539801342710443, colsample_bytree=1.0 will be ignored. Current value: feature_fraction=0.6539801342710443\n",
      "[LightGBM] [Warning] lambda_l2 is set=0.3422853948073336, reg_lambda=0.0 will be ignored. Current value: lambda_l2=0.3422853948073336\n"
     ]
    },
    {
     "name": "stderr",
     "output_type": "stream",
     "text": [
      " 85%|████████▌ | 85/100 [00:28<00:05,  2.58it/s]"
     ]
    },
    {
     "name": "stdout",
     "output_type": "stream",
     "text": [
      "[LightGBM] [Warning] lambda_l1 is set=0.0474587633751369, reg_alpha=0.0 will be ignored. Current value: lambda_l1=0.0474587633751369\n",
      "[LightGBM] [Warning] bagging_fraction is set=0.8976619661127543, subsample=1.0 will be ignored. Current value: bagging_fraction=0.8976619661127543\n",
      "[LightGBM] [Warning] feature_fraction is set=0.6539801342710443, colsample_bytree=1.0 will be ignored. Current value: feature_fraction=0.6539801342710443\n",
      "[LightGBM] [Warning] lambda_l2 is set=0.3422853948073336, reg_lambda=0.0 will be ignored. Current value: lambda_l2=0.3422853948073336\n"
     ]
    },
    {
     "name": "stderr",
     "output_type": "stream",
     "text": [
      " 86%|████████▌ | 86/100 [00:29<00:05,  2.70it/s]"
     ]
    },
    {
     "name": "stdout",
     "output_type": "stream",
     "text": [
      "[LightGBM] [Warning] lambda_l1 is set=0.0474587633751369, reg_alpha=0.0 will be ignored. Current value: lambda_l1=0.0474587633751369\n",
      "[LightGBM] [Warning] bagging_fraction is set=0.8976619661127543, subsample=1.0 will be ignored. Current value: bagging_fraction=0.8976619661127543\n",
      "[LightGBM] [Warning] feature_fraction is set=0.6539801342710443, colsample_bytree=1.0 will be ignored. Current value: feature_fraction=0.6539801342710443\n",
      "[LightGBM] [Warning] lambda_l2 is set=0.3422853948073336, reg_lambda=0.0 will be ignored. Current value: lambda_l2=0.3422853948073336\n"
     ]
    },
    {
     "name": "stderr",
     "output_type": "stream",
     "text": [
      " 87%|████████▋ | 87/100 [00:29<00:04,  2.87it/s]"
     ]
    },
    {
     "name": "stdout",
     "output_type": "stream",
     "text": [
      "[LightGBM] [Warning] lambda_l1 is set=0.0474587633751369, reg_alpha=0.0 will be ignored. Current value: lambda_l1=0.0474587633751369\n",
      "[LightGBM] [Warning] bagging_fraction is set=0.8976619661127543, subsample=1.0 will be ignored. Current value: bagging_fraction=0.8976619661127543\n",
      "[LightGBM] [Warning] feature_fraction is set=0.6539801342710443, colsample_bytree=1.0 will be ignored. Current value: feature_fraction=0.6539801342710443\n",
      "[LightGBM] [Warning] lambda_l2 is set=0.3422853948073336, reg_lambda=0.0 will be ignored. Current value: lambda_l2=0.3422853948073336\n"
     ]
    },
    {
     "name": "stderr",
     "output_type": "stream",
     "text": [
      " 88%|████████▊ | 88/100 [00:29<00:04,  2.93it/s]"
     ]
    },
    {
     "name": "stdout",
     "output_type": "stream",
     "text": [
      "[LightGBM] [Warning] lambda_l1 is set=0.0474587633751369, reg_alpha=0.0 will be ignored. Current value: lambda_l1=0.0474587633751369\n",
      "[LightGBM] [Warning] bagging_fraction is set=0.8976619661127543, subsample=1.0 will be ignored. Current value: bagging_fraction=0.8976619661127543\n",
      "[LightGBM] [Warning] feature_fraction is set=0.6539801342710443, colsample_bytree=1.0 will be ignored. Current value: feature_fraction=0.6539801342710443\n",
      "[LightGBM] [Warning] lambda_l2 is set=0.3422853948073336, reg_lambda=0.0 will be ignored. Current value: lambda_l2=0.3422853948073336\n"
     ]
    },
    {
     "name": "stderr",
     "output_type": "stream",
     "text": [
      " 89%|████████▉ | 89/100 [00:30<00:03,  3.04it/s]"
     ]
    },
    {
     "name": "stdout",
     "output_type": "stream",
     "text": [
      "[LightGBM] [Warning] lambda_l1 is set=0.0474587633751369, reg_alpha=0.0 will be ignored. Current value: lambda_l1=0.0474587633751369\n",
      "[LightGBM] [Warning] bagging_fraction is set=0.8976619661127543, subsample=1.0 will be ignored. Current value: bagging_fraction=0.8976619661127543\n",
      "[LightGBM] [Warning] feature_fraction is set=0.6539801342710443, colsample_bytree=1.0 will be ignored. Current value: feature_fraction=0.6539801342710443\n",
      "[LightGBM] [Warning] lambda_l2 is set=0.3422853948073336, reg_lambda=0.0 will be ignored. Current value: lambda_l2=0.3422853948073336\n"
     ]
    },
    {
     "name": "stderr",
     "output_type": "stream",
     "text": [
      " 90%|█████████ | 90/100 [00:30<00:03,  3.10it/s]"
     ]
    },
    {
     "name": "stdout",
     "output_type": "stream",
     "text": [
      "[LightGBM] [Warning] lambda_l1 is set=0.0474587633751369, reg_alpha=0.0 will be ignored. Current value: lambda_l1=0.0474587633751369\n",
      "[LightGBM] [Warning] bagging_fraction is set=0.8976619661127543, subsample=1.0 will be ignored. Current value: bagging_fraction=0.8976619661127543\n",
      "[LightGBM] [Warning] feature_fraction is set=0.6539801342710443, colsample_bytree=1.0 will be ignored. Current value: feature_fraction=0.6539801342710443\n",
      "[LightGBM] [Warning] lambda_l2 is set=0.3422853948073336, reg_lambda=0.0 will be ignored. Current value: lambda_l2=0.3422853948073336\n"
     ]
    },
    {
     "name": "stderr",
     "output_type": "stream",
     "text": [
      " 91%|█████████ | 91/100 [00:30<00:02,  3.16it/s]"
     ]
    },
    {
     "name": "stdout",
     "output_type": "stream",
     "text": [
      "[LightGBM] [Warning] lambda_l1 is set=0.0474587633751369, reg_alpha=0.0 will be ignored. Current value: lambda_l1=0.0474587633751369\n",
      "[LightGBM] [Warning] bagging_fraction is set=0.8976619661127543, subsample=1.0 will be ignored. Current value: bagging_fraction=0.8976619661127543\n",
      "[LightGBM] [Warning] feature_fraction is set=0.6539801342710443, colsample_bytree=1.0 will be ignored. Current value: feature_fraction=0.6539801342710443\n",
      "[LightGBM] [Warning] lambda_l2 is set=0.3422853948073336, reg_lambda=0.0 will be ignored. Current value: lambda_l2=0.3422853948073336\n"
     ]
    },
    {
     "name": "stderr",
     "output_type": "stream",
     "text": [
      " 92%|█████████▏| 92/100 [00:31<00:02,  3.11it/s]"
     ]
    },
    {
     "name": "stdout",
     "output_type": "stream",
     "text": [
      "[LightGBM] [Warning] lambda_l1 is set=0.0474587633751369, reg_alpha=0.0 will be ignored. Current value: lambda_l1=0.0474587633751369\n",
      "[LightGBM] [Warning] bagging_fraction is set=0.8976619661127543, subsample=1.0 will be ignored. Current value: bagging_fraction=0.8976619661127543\n",
      "[LightGBM] [Warning] feature_fraction is set=0.6539801342710443, colsample_bytree=1.0 will be ignored. Current value: feature_fraction=0.6539801342710443\n",
      "[LightGBM] [Warning] lambda_l2 is set=0.3422853948073336, reg_lambda=0.0 will be ignored. Current value: lambda_l2=0.3422853948073336\n"
     ]
    },
    {
     "name": "stderr",
     "output_type": "stream",
     "text": [
      " 93%|█████████▎| 93/100 [00:31<00:02,  2.90it/s]"
     ]
    },
    {
     "name": "stdout",
     "output_type": "stream",
     "text": [
      "[LightGBM] [Warning] lambda_l1 is set=0.0474587633751369, reg_alpha=0.0 will be ignored. Current value: lambda_l1=0.0474587633751369\n",
      "[LightGBM] [Warning] bagging_fraction is set=0.8976619661127543, subsample=1.0 will be ignored. Current value: bagging_fraction=0.8976619661127543\n",
      "[LightGBM] [Warning] feature_fraction is set=0.6539801342710443, colsample_bytree=1.0 will be ignored. Current value: feature_fraction=0.6539801342710443\n",
      "[LightGBM] [Warning] lambda_l2 is set=0.3422853948073336, reg_lambda=0.0 will be ignored. Current value: lambda_l2=0.3422853948073336\n"
     ]
    },
    {
     "name": "stderr",
     "output_type": "stream",
     "text": [
      " 94%|█████████▍| 94/100 [00:32<00:02,  2.09it/s]"
     ]
    },
    {
     "name": "stdout",
     "output_type": "stream",
     "text": [
      "[LightGBM] [Warning] lambda_l1 is set=0.0474587633751369, reg_alpha=0.0 will be ignored. Current value: lambda_l1=0.0474587633751369\n",
      "[LightGBM] [Warning] bagging_fraction is set=0.8976619661127543, subsample=1.0 will be ignored. Current value: bagging_fraction=0.8976619661127543\n",
      "[LightGBM] [Warning] feature_fraction is set=0.6539801342710443, colsample_bytree=1.0 will be ignored. Current value: feature_fraction=0.6539801342710443\n",
      "[LightGBM] [Warning] lambda_l2 is set=0.3422853948073336, reg_lambda=0.0 will be ignored. Current value: lambda_l2=0.3422853948073336\n"
     ]
    },
    {
     "name": "stderr",
     "output_type": "stream",
     "text": [
      " 95%|█████████▌| 95/100 [00:32<00:02,  2.35it/s]"
     ]
    },
    {
     "name": "stdout",
     "output_type": "stream",
     "text": [
      "[LightGBM] [Warning] lambda_l1 is set=0.0474587633751369, reg_alpha=0.0 will be ignored. Current value: lambda_l1=0.0474587633751369\n",
      "[LightGBM] [Warning] bagging_fraction is set=0.8976619661127543, subsample=1.0 will be ignored. Current value: bagging_fraction=0.8976619661127543\n",
      "[LightGBM] [Warning] feature_fraction is set=0.6539801342710443, colsample_bytree=1.0 will be ignored. Current value: feature_fraction=0.6539801342710443\n",
      "[LightGBM] [Warning] lambda_l2 is set=0.3422853948073336, reg_lambda=0.0 will be ignored. Current value: lambda_l2=0.3422853948073336\n"
     ]
    },
    {
     "name": "stderr",
     "output_type": "stream",
     "text": [
      " 96%|█████████▌| 96/100 [00:32<00:01,  2.52it/s]"
     ]
    },
    {
     "name": "stdout",
     "output_type": "stream",
     "text": [
      "[LightGBM] [Warning] lambda_l1 is set=0.0474587633751369, reg_alpha=0.0 will be ignored. Current value: lambda_l1=0.0474587633751369\n",
      "[LightGBM] [Warning] bagging_fraction is set=0.8976619661127543, subsample=1.0 will be ignored. Current value: bagging_fraction=0.8976619661127543\n",
      "[LightGBM] [Warning] feature_fraction is set=0.6539801342710443, colsample_bytree=1.0 will be ignored. Current value: feature_fraction=0.6539801342710443\n",
      "[LightGBM] [Warning] lambda_l2 is set=0.3422853948073336, reg_lambda=0.0 will be ignored. Current value: lambda_l2=0.3422853948073336\n"
     ]
    },
    {
     "name": "stderr",
     "output_type": "stream",
     "text": [
      " 97%|█████████▋| 97/100 [00:33<00:01,  2.68it/s]"
     ]
    },
    {
     "name": "stdout",
     "output_type": "stream",
     "text": [
      "[LightGBM] [Warning] lambda_l1 is set=0.0474587633751369, reg_alpha=0.0 will be ignored. Current value: lambda_l1=0.0474587633751369\n",
      "[LightGBM] [Warning] bagging_fraction is set=0.8976619661127543, subsample=1.0 will be ignored. Current value: bagging_fraction=0.8976619661127543\n",
      "[LightGBM] [Warning] feature_fraction is set=0.6539801342710443, colsample_bytree=1.0 will be ignored. Current value: feature_fraction=0.6539801342710443\n",
      "[LightGBM] [Warning] lambda_l2 is set=0.3422853948073336, reg_lambda=0.0 will be ignored. Current value: lambda_l2=0.3422853948073336\n"
     ]
    },
    {
     "name": "stderr",
     "output_type": "stream",
     "text": [
      " 98%|█████████▊| 98/100 [00:33<00:00,  2.84it/s]"
     ]
    },
    {
     "name": "stdout",
     "output_type": "stream",
     "text": [
      "[LightGBM] [Warning] lambda_l1 is set=0.0474587633751369, reg_alpha=0.0 will be ignored. Current value: lambda_l1=0.0474587633751369\n",
      "[LightGBM] [Warning] bagging_fraction is set=0.8976619661127543, subsample=1.0 will be ignored. Current value: bagging_fraction=0.8976619661127543\n",
      "[LightGBM] [Warning] feature_fraction is set=0.6539801342710443, colsample_bytree=1.0 will be ignored. Current value: feature_fraction=0.6539801342710443\n",
      "[LightGBM] [Warning] lambda_l2 is set=0.3422853948073336, reg_lambda=0.0 will be ignored. Current value: lambda_l2=0.3422853948073336\n"
     ]
    },
    {
     "name": "stderr",
     "output_type": "stream",
     "text": [
      " 99%|█████████▉| 99/100 [00:33<00:00,  2.85it/s]"
     ]
    },
    {
     "name": "stdout",
     "output_type": "stream",
     "text": [
      "[LightGBM] [Warning] lambda_l1 is set=0.0474587633751369, reg_alpha=0.0 will be ignored. Current value: lambda_l1=0.0474587633751369\n",
      "[LightGBM] [Warning] bagging_fraction is set=0.8976619661127543, subsample=1.0 will be ignored. Current value: bagging_fraction=0.8976619661127543\n",
      "[LightGBM] [Warning] feature_fraction is set=0.6539801342710443, colsample_bytree=1.0 will be ignored. Current value: feature_fraction=0.6539801342710443\n",
      "[LightGBM] [Warning] lambda_l2 is set=0.3422853948073336, reg_lambda=0.0 will be ignored. Current value: lambda_l2=0.3422853948073336\n"
     ]
    },
    {
     "name": "stderr",
     "output_type": "stream",
     "text": [
      "100%|██████████| 100/100 [00:34<00:00,  2.92it/s]\n",
      "100%|██████████| 100/100 [01:21<00:00,  1.23it/s]\n"
     ]
    },
    {
     "data": {
      "text/html": [
       "<div>\n",
       "<style scoped>\n",
       "    .dataframe tbody tr th:only-of-type {\n",
       "        vertical-align: middle;\n",
       "    }\n",
       "\n",
       "    .dataframe tbody tr th {\n",
       "        vertical-align: top;\n",
       "    }\n",
       "\n",
       "    .dataframe thead th {\n",
       "        text-align: right;\n",
       "    }\n",
       "</style>\n",
       "<table border=\"1\" class=\"dataframe\">\n",
       "  <thead>\n",
       "    <tr style=\"text-align: right;\">\n",
       "      <th></th>\n",
       "      <th>ID</th>\n",
       "      <th>Pred</th>\n",
       "    </tr>\n",
       "  </thead>\n",
       "  <tbody>\n",
       "    <tr>\n",
       "      <th>0</th>\n",
       "      <td>2023_1104_1112</td>\n",
       "      <td>0.899237</td>\n",
       "    </tr>\n",
       "    <tr>\n",
       "      <th>1</th>\n",
       "      <td>2023_1104_1113</td>\n",
       "      <td>0.928278</td>\n",
       "    </tr>\n",
       "    <tr>\n",
       "      <th>2</th>\n",
       "      <td>2023_1104_1116</td>\n",
       "      <td>0.920351</td>\n",
       "    </tr>\n",
       "    <tr>\n",
       "      <th>3</th>\n",
       "      <td>2023_1104_1120</td>\n",
       "      <td>0.920685</td>\n",
       "    </tr>\n",
       "    <tr>\n",
       "      <th>4</th>\n",
       "      <td>2023_1104_1124</td>\n",
       "      <td>0.908050</td>\n",
       "    </tr>\n",
       "  </tbody>\n",
       "</table>\n",
       "</div>"
      ],
      "text/plain": [
       "               ID      Pred\n",
       "0  2023_1104_1112  0.899237\n",
       "1  2023_1104_1113  0.928278\n",
       "2  2023_1104_1116  0.920351\n",
       "3  2023_1104_1120  0.920685\n",
       "4  2023_1104_1124  0.908050"
      ]
     },
     "execution_count": 6,
     "metadata": {},
     "output_type": "execute_result"
    }
   ],
   "source": [
    "to_select = ['X1_WinRatio14d',\n",
    "             'X1_PointsMean',\n",
    "             'X1_PointsMedian',\n",
    "             'X1_PointsDiffMean',\n",
    "             'X1_FgaMean',\n",
    "             'X1_FgaMedian',\n",
    "             'X1_FgaMin',\n",
    "             'X1_FgaMax',\n",
    "             'X1_AstMean',\n",
    "             'X1_BlkMean',\n",
    "             'X1_OppFgaMean',\n",
    "             'X1_OppFgaMin',\n",
    "             'X1_EfgpMean',\n",
    "             'X1_PossessionsMean',\n",
    "             'X1_PpmMean',\n",
    "             'X1_FtrMean',\n",
    "             'X1_TopMean',\n",
    "             'X1_DrebpMean',\n",
    "             'X2_WinRatio14d',\n",
    "             'X2_PointsMean',\n",
    "             'X2_PointsMedian',\n",
    "             'X2_PointsDiffMean',\n",
    "             'X2_FgaMean',\n",
    "             'X2_FgaMedian',\n",
    "             'X2_FgaMin',\n",
    "             'X2_FgaMax',\n",
    "             'X2_AstMean',\n",
    "             'X2_BlkMean',\n",
    "             'X2_OppFgaMean',\n",
    "             'X2_OppFgaMin',\n",
    "             'X2_EfgpMean',\n",
    "             'X2_PossessionsMean',\n",
    "             'X2_PpmMean',\n",
    "             'X2_FtrMean',\n",
    "             'X2_TopMean',\n",
    "             'X2_DrebpMean',\n",
    "             'Seed1',\n",
    "             'Seed2',\n",
    "             'SeedDiff',\n",
    "             'quality_march_T1',\n",
    "             'quality_march_T2', \n",
    "             'ResultDiff',\n",
    "             'X1_team_rating',\n",
    "             'X1_rd1_win',\n",
    "             'X1_rd2_win',\n",
    "             'X1_rd3_win',\n",
    "             'X1_rd4_win',\n",
    "             'X1_rd5_win',\n",
    "             'X1_rd6_win',\n",
    "             'X1_rd7_win',\n",
    "             'X2_team_rating',\n",
    "             'X2_rd1_win',\n",
    "             'X2_rd2_win',\n",
    "             'X2_rd3_win',\n",
    "             'X2_rd4_win',\n",
    "             'X2_rd5_win',\n",
    "             'X2_rd6_win',\n",
    "             'X2_rd7_win']\n",
    "\n",
    "X = woman_train[to_select]\n",
    "Y = woman_train['target']\n",
    "\n",
    "woman_test_tour_ID = woman_test['ID']\n",
    "woman_test_tour = woman_test[to_select]\n",
    "\n",
    "#############\n",
    "## XGBoost ##\n",
    "#############\n",
    "\n",
    "xgb_params = pd.read_csv('woman_XGB_Phase_2_42_Optuna_Hyperparameters.csv')\n",
    "xgb_preds = list()\n",
    "\n",
    "for i in tqdm(range(100)):\n",
    "\n",
    "    xgb_md = XGBClassifier(tree_method = 'hist', \n",
    "                           max_depth = xgb_params['max_depth'][0],\n",
    "                           learning_rate = xgb_params['learning_rate'][0],\n",
    "                           n_estimators = xgb_params['n_estimators'][0],\n",
    "                           gamma = xgb_params['gamma'][0],\n",
    "                           min_child_weight = xgb_params['min_child_weight'][0],\n",
    "                           colsample_bytree = xgb_params['colsample_bytree'][0],\n",
    "                           subsample = xgb_params['subsample'][0],\n",
    "                           random_state = i).fit(X, Y)\n",
    "\n",
    "    xgb_pred = xgb_md.predict_proba(woman_test_tour)[:, 1]\n",
    "    xgb_preds.append(xgb_pred)\n",
    "\n",
    "##############\n",
    "## LightGBM ##\n",
    "##############\n",
    "\n",
    "lgb_params = pd.read_csv('woman_LightGBM_Phase_2_42_Optuna_Hyperparameters.csv')\n",
    "lgb_preds = list()\n",
    "\n",
    "for i in tqdm(range(100)):\n",
    "    \n",
    "    lgb_md = LGBMClassifier(boosting_type = 'gbdt', \n",
    "                            n_estimators = lgb_params['n_estimators'][0],\n",
    "                            learning_rate = lgb_params['learning_rate'][0],\n",
    "                            max_depth = lgb_params['max_depth'][0],\n",
    "                            lambda_l1 = lgb_params['lambda_l1'][0],\n",
    "                            lambda_l2 = lgb_params['lambda_l2'][0],\n",
    "                            num_leaves = lgb_params['num_leaves'][0],\n",
    "                            bagging_fraction = lgb_params['bagging_fraction'][0],\n",
    "                            feature_fraction = lgb_params['feature_fraction'][0],\n",
    "                            random_state = i).fit(X, Y)\n",
    "\n",
    "    lgb_pred = lgb_md.predict_proba(woman_test_tour)[:, 1]\n",
    "    lgb_preds.append(lgb_pred)\n",
    "\n",
    "##################\n",
    "## HistGradient ##\n",
    "##################\n",
    "\n",
    "hist_params = pd.read_csv('woman_Hist_Phase_2_42_Optuna_Hyperparameters.csv')\n",
    "hist_preds = list()\n",
    "\n",
    "for i in tqdm(range(100)):\n",
    "\n",
    "    hist_md = HistGradientBoostingClassifier(l2_regularization = hist_params['l2_regularization'][0],\n",
    "                                             early_stopping = False,\n",
    "                                             learning_rate = hist_params['learning_rate'][0],\n",
    "                                             max_iter = hist_params['max_iter'][0],\n",
    "                                             max_depth = hist_params['max_depth'][0],\n",
    "                                             max_bins = hist_params['max_bins'][0],\n",
    "                                             min_samples_leaf = hist_params['min_samples_leaf'][0],\n",
    "                                             max_leaf_nodes = hist_params['max_leaf_nodes'][0], \n",
    "                                             random_state = i).fit(X, Y)\n",
    "\n",
    "    hist_pred = hist_md.predict_proba(woman_test_tour)[:, 1]\n",
    "    hist_preds.append(hist_pred)\n",
    "\n",
    "##############\n",
    "## Ensemble ##\n",
    "##############\n",
    "\n",
    "xgb_pred = pd.DataFrame(xgb_preds).apply(np.mean, axis = 0)\n",
    "lgb_pred = pd.DataFrame(lgb_preds).apply(np.mean, axis = 0)\n",
    "hist_pred = pd.DataFrame(hist_preds).apply(np.mean, axis = 0)\n",
    "\n",
    "ens_pred = (xgb_pred + lgb_pred + hist_pred) / 3\n",
    "woman_pred = pd.DataFrame({'ID': woman_test_tour_ID, 'Pred': ens_pred})\n",
    "woman_pred.head()"
   ]
  },
  {
   "cell_type": "code",
   "execution_count": 7,
   "id": "31d97a34",
   "metadata": {},
   "outputs": [
    {
     "data": {
      "text/html": [
       "<div>\n",
       "<style scoped>\n",
       "    .dataframe tbody tr th:only-of-type {\n",
       "        vertical-align: middle;\n",
       "    }\n",
       "\n",
       "    .dataframe tbody tr th {\n",
       "        vertical-align: top;\n",
       "    }\n",
       "\n",
       "    .dataframe thead th {\n",
       "        text-align: right;\n",
       "    }\n",
       "</style>\n",
       "<table border=\"1\" class=\"dataframe\">\n",
       "  <thead>\n",
       "    <tr style=\"text-align: right;\">\n",
       "      <th></th>\n",
       "      <th>ID</th>\n",
       "      <th>Pred</th>\n",
       "    </tr>\n",
       "  </thead>\n",
       "  <tbody>\n",
       "    <tr>\n",
       "      <th>0</th>\n",
       "      <td>2023_1101_1102</td>\n",
       "      <td>0.5</td>\n",
       "    </tr>\n",
       "    <tr>\n",
       "      <th>1</th>\n",
       "      <td>2023_1101_1103</td>\n",
       "      <td>0.5</td>\n",
       "    </tr>\n",
       "    <tr>\n",
       "      <th>2</th>\n",
       "      <td>2023_1101_1104</td>\n",
       "      <td>0.5</td>\n",
       "    </tr>\n",
       "    <tr>\n",
       "      <th>3</th>\n",
       "      <td>2023_1101_1105</td>\n",
       "      <td>0.5</td>\n",
       "    </tr>\n",
       "    <tr>\n",
       "      <th>4</th>\n",
       "      <td>2023_1101_1106</td>\n",
       "      <td>0.5</td>\n",
       "    </tr>\n",
       "  </tbody>\n",
       "</table>\n",
       "</div>"
      ],
      "text/plain": [
       "               ID  Pred\n",
       "0  2023_1101_1102   0.5\n",
       "1  2023_1101_1103   0.5\n",
       "2  2023_1101_1104   0.5\n",
       "3  2023_1101_1105   0.5\n",
       "4  2023_1101_1106   0.5"
      ]
     },
     "execution_count": 7,
     "metadata": {},
     "output_type": "execute_result"
    }
   ],
   "source": [
    "submission = pd.merge(submission, man_pred, on = 'ID', how = 'left')\n",
    "submission = pd.merge(submission, woman_pred, on = 'ID', how = 'left')\n",
    "submission.columns = ['ID', 'pred1', 'pred2', 'pred3']\n",
    "submission['Pred'] = np.where(np.isnan(submission['pred2']), submission['pred1'], submission['pred2'])\n",
    "submission['Pred'] = np.where(np.isnan(submission['pred3']), submission['Pred'], submission['pred3'])\n",
    "submission.drop(columns = ['pred1', 'pred2', 'pred3'], axis = 1, inplace = True)\n",
    "submission.head()"
   ]
  },
  {
   "cell_type": "code",
   "execution_count": 8,
   "id": "a4028ba2",
   "metadata": {},
   "outputs": [
    {
     "data": {
      "text/html": [
       "<div>\n",
       "<style scoped>\n",
       "    .dataframe tbody tr th:only-of-type {\n",
       "        vertical-align: middle;\n",
       "    }\n",
       "\n",
       "    .dataframe tbody tr th {\n",
       "        vertical-align: top;\n",
       "    }\n",
       "\n",
       "    .dataframe thead th {\n",
       "        text-align: right;\n",
       "    }\n",
       "</style>\n",
       "<table border=\"1\" class=\"dataframe\">\n",
       "  <thead>\n",
       "    <tr style=\"text-align: right;\">\n",
       "      <th></th>\n",
       "      <th>Pred</th>\n",
       "    </tr>\n",
       "  </thead>\n",
       "  <tbody>\n",
       "    <tr>\n",
       "      <th>count</th>\n",
       "      <td>130683.000000</td>\n",
       "    </tr>\n",
       "    <tr>\n",
       "      <th>mean</th>\n",
       "      <td>0.500117</td>\n",
       "    </tr>\n",
       "    <tr>\n",
       "      <th>std</th>\n",
       "      <td>0.054281</td>\n",
       "    </tr>\n",
       "    <tr>\n",
       "      <th>min</th>\n",
       "      <td>0.067208</td>\n",
       "    </tr>\n",
       "    <tr>\n",
       "      <th>25%</th>\n",
       "      <td>0.500000</td>\n",
       "    </tr>\n",
       "    <tr>\n",
       "      <th>50%</th>\n",
       "      <td>0.500000</td>\n",
       "    </tr>\n",
       "    <tr>\n",
       "      <th>75%</th>\n",
       "      <td>0.500000</td>\n",
       "    </tr>\n",
       "    <tr>\n",
       "      <th>max</th>\n",
       "      <td>0.933010</td>\n",
       "    </tr>\n",
       "  </tbody>\n",
       "</table>\n",
       "</div>"
      ],
      "text/plain": [
       "                Pred\n",
       "count  130683.000000\n",
       "mean        0.500117\n",
       "std         0.054281\n",
       "min         0.067208\n",
       "25%         0.500000\n",
       "50%         0.500000\n",
       "75%         0.500000\n",
       "max         0.933010"
      ]
     },
     "execution_count": 8,
     "metadata": {},
     "output_type": "execute_result"
    }
   ],
   "source": [
    "submission.describe()"
   ]
  },
  {
   "cell_type": "code",
   "execution_count": 9,
   "id": "f17b1a8c",
   "metadata": {},
   "outputs": [],
   "source": [
    "submission.to_csv('Second_submission.csv', index = False)"
   ]
  }
 ],
 "metadata": {
  "kernelspec": {
   "display_name": "conda_python3",
   "language": "python",
   "name": "conda_python3"
  },
  "language_info": {
   "codemirror_mode": {
    "name": "ipython",
    "version": 3
   },
   "file_extension": ".py",
   "mimetype": "text/x-python",
   "name": "python",
   "nbconvert_exporter": "python",
   "pygments_lexer": "ipython3",
   "version": "3.10.8"
  }
 },
 "nbformat": 4,
 "nbformat_minor": 5
}
