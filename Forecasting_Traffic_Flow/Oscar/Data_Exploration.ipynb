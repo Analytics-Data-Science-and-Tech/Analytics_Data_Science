{
 "cells": [
  {
   "cell_type": "code",
   "execution_count": 1,
   "id": "35789804",
   "metadata": {},
   "outputs": [
    {
     "name": "stdout",
     "output_type": "stream",
     "text": [
      "Collecting xgboost\n",
      "  Downloading xgboost-1.5.2-py3-none-manylinux2014_x86_64.whl (173.6 MB)\n",
      "     |████████████████████████████████| 173.6 MB 5.8 kB/s              \n",
      "\u001b[?25hRequirement already satisfied: scipy in /home/ec2-user/anaconda3/envs/python3/lib/python3.6/site-packages (from xgboost) (1.5.3)\n",
      "Requirement already satisfied: numpy in /home/ec2-user/anaconda3/envs/python3/lib/python3.6/site-packages (from xgboost) (1.19.5)\n",
      "Installing collected packages: xgboost\n",
      "Successfully installed xgboost-1.5.2\n",
      "Note: you may need to restart the kernel to use updated packages.\n"
     ]
    }
   ],
   "source": [
    "pip install xgboost"
   ]
  },
  {
   "cell_type": "code",
   "execution_count": 2,
   "id": "fc0159ff",
   "metadata": {},
   "outputs": [],
   "source": [
    "import boto3\n",
    "import pandas as pd; pd.set_option('display.max_columns', 50)\n",
    "import numpy as np\n",
    "import matplotlib.pyplot as plt\n",
    "from sklearn.model_selection import train_test_split, GridSearchCV, RandomizedSearchCV\n",
    "from xgboost import XGBRegressor\n",
    "from sklearn.metrics import mean_squared_error\n",
    "\n",
    "## Defining the bucket \n",
    "s3 = boto3.resource('s3')\n",
    "bucket_name = 'analytics-data-science-competitions'\n",
    "bucket = s3.Bucket(bucket_name)\n",
    "\n",
    "## Defining the csv file \n",
    "file_key_train = 'Forecasting-Flow-Traffic/train.csv'\n",
    "file_key_test = 'Forecasting-Flow-Traffic/test.csv'\n",
    "\n",
    "bucket_object_train = bucket.Object(file_key_train)\n",
    "file_object_train = bucket_object_train.get()\n",
    "file_content_stream_train = file_object_train.get('Body')\n",
    "\n",
    "bucket_object_test = bucket.Object(file_key_test)\n",
    "file_object_test = bucket_object_test.get()\n",
    "file_content_stream_test = file_object_test.get('Body')\n",
    "\n",
    "## Reading the csv file\n",
    "train = pd.read_csv(file_content_stream_train)\n",
    "test = pd.read_csv(file_content_stream_test)\n",
    "\n",
    "## Puting time in the right format \n",
    "train['time'] = pd.to_datetime(train['time'], format = '%Y-%m-%d %H:%M:%S')\n",
    "test['time'] = pd.to_datetime(test['time'], format = '%Y-%m-%d %H:%M:%S')"
   ]
  },
  {
   "cell_type": "markdown",
   "id": "ee570006",
   "metadata": {},
   "source": [
    "## Quick Distribution Comparisons"
   ]
  },
  {
   "cell_type": "code",
   "execution_count": 2,
   "id": "5e516eba",
   "metadata": {},
   "outputs": [
    {
     "data": {
      "text/plain": [
       "(848835, 6)"
      ]
     },
     "execution_count": 2,
     "metadata": {},
     "output_type": "execute_result"
    }
   ],
   "source": [
    "train.shape"
   ]
  },
  {
   "cell_type": "code",
   "execution_count": 3,
   "id": "0f597d32",
   "metadata": {},
   "outputs": [
    {
     "data": {
      "text/plain": [
       "(2340, 5)"
      ]
     },
     "execution_count": 3,
     "metadata": {},
     "output_type": "execute_result"
    }
   ],
   "source": [
    "test.shape"
   ]
  },
  {
   "cell_type": "code",
   "execution_count": 4,
   "id": "52c052ff",
   "metadata": {},
   "outputs": [
    {
     "data": {
      "text/plain": [
       "EB    156708\n",
       "SB    156708\n",
       "NB    156708\n",
       "WB    143649\n",
       "NE     91413\n",
       "SW     91413\n",
       "NW     26118\n",
       "SE     26118\n",
       "Name: direction, dtype: int64"
      ]
     },
     "execution_count": 4,
     "metadata": {},
     "output_type": "execute_result"
    }
   ],
   "source": [
    "train['direction'].value_counts()"
   ]
  },
  {
   "cell_type": "code",
   "execution_count": 5,
   "id": "e649c927",
   "metadata": {},
   "outputs": [
    {
     "data": {
      "text/plain": [
       "NB    432\n",
       "SB    432\n",
       "EB    432\n",
       "WB    396\n",
       "NE    252\n",
       "SW    252\n",
       "NW     72\n",
       "SE     72\n",
       "Name: direction, dtype: int64"
      ]
     },
     "execution_count": 5,
     "metadata": {},
     "output_type": "execute_result"
    }
   ],
   "source": [
    "test['direction'].value_counts()"
   ]
  },
  {
   "cell_type": "code",
   "execution_count": 6,
   "id": "ee3f1190",
   "metadata": {},
   "outputs": [
    {
     "data": {
      "text/plain": [
       "0        1991-04-01 00:00:00\n",
       "1        1991-04-01 00:00:00\n",
       "2        1991-04-01 00:00:00\n",
       "3        1991-04-01 00:00:00\n",
       "4        1991-04-01 00:00:00\n",
       "                 ...        \n",
       "848830   1991-09-30 11:40:00\n",
       "848831   1991-09-30 11:40:00\n",
       "848832   1991-09-30 11:40:00\n",
       "848833   1991-09-30 11:40:00\n",
       "848834   1991-09-30 11:40:00\n",
       "Name: time, Length: 848835, dtype: datetime64[ns]"
      ]
     },
     "execution_count": 6,
     "metadata": {},
     "output_type": "execute_result"
    }
   ],
   "source": [
    "train['time']"
   ]
  },
  {
   "cell_type": "code",
   "execution_count": 7,
   "id": "f8973932",
   "metadata": {},
   "outputs": [
    {
     "data": {
      "text/plain": [
       "0      1991-09-30 12:00:00\n",
       "1      1991-09-30 12:00:00\n",
       "2      1991-09-30 12:00:00\n",
       "3      1991-09-30 12:00:00\n",
       "4      1991-09-30 12:00:00\n",
       "               ...        \n",
       "2335   1991-09-30 23:40:00\n",
       "2336   1991-09-30 23:40:00\n",
       "2337   1991-09-30 23:40:00\n",
       "2338   1991-09-30 23:40:00\n",
       "2339   1991-09-30 23:40:00\n",
       "Name: time, Length: 2340, dtype: datetime64[ns]"
      ]
     },
     "execution_count": 7,
     "metadata": {},
     "output_type": "execute_result"
    }
   ],
   "source": [
    "test['time']"
   ]
  },
  {
   "cell_type": "markdown",
   "id": "fdc7f40b",
   "metadata": {},
   "source": [
    "## Engineering Basic Features"
   ]
  },
  {
   "cell_type": "code",
   "execution_count": 3,
   "id": "7ab880aa",
   "metadata": {},
   "outputs": [],
   "source": [
    "## Extracting day, hour and minute\n",
    "train['day'] = train['time'].dt.dayofweek\n",
    "train['hour'] = train['time'].dt.hour\n",
    "train['minute'] = train['time'].dt.minute\n",
    "\n",
    "test['day'] = test['time'].dt.dayofweek\n",
    "test['hour'] = test['time'].dt.hour\n",
    "test['minute'] = test['time'].dt.minute\n",
    "\n",
    "## Changing direction to dummies\n",
    "train = pd.concat([train, pd.get_dummies(train['direction'])], axis = 1)\n",
    "test = pd.concat([test, pd.get_dummies(train['direction'])], axis = 1)"
   ]
  },
  {
   "cell_type": "code",
   "execution_count": 9,
   "id": "1caf7c3c",
   "metadata": {},
   "outputs": [
    {
     "data": {
      "text/html": [
       "<div>\n",
       "<style scoped>\n",
       "    .dataframe tbody tr th:only-of-type {\n",
       "        vertical-align: middle;\n",
       "    }\n",
       "\n",
       "    .dataframe tbody tr th {\n",
       "        vertical-align: top;\n",
       "    }\n",
       "\n",
       "    .dataframe thead th {\n",
       "        text-align: right;\n",
       "    }\n",
       "</style>\n",
       "<table border=\"1\" class=\"dataframe\">\n",
       "  <thead>\n",
       "    <tr style=\"text-align: right;\">\n",
       "      <th></th>\n",
       "      <th>row_id</th>\n",
       "      <th>time</th>\n",
       "      <th>x</th>\n",
       "      <th>y</th>\n",
       "      <th>direction</th>\n",
       "      <th>congestion</th>\n",
       "      <th>day</th>\n",
       "      <th>hour</th>\n",
       "      <th>minute</th>\n",
       "      <th>EB</th>\n",
       "      <th>NB</th>\n",
       "      <th>NE</th>\n",
       "      <th>NW</th>\n",
       "      <th>SB</th>\n",
       "      <th>SE</th>\n",
       "      <th>SW</th>\n",
       "      <th>WB</th>\n",
       "    </tr>\n",
       "  </thead>\n",
       "  <tbody>\n",
       "    <tr>\n",
       "      <th>0</th>\n",
       "      <td>0</td>\n",
       "      <td>1991-04-01</td>\n",
       "      <td>0</td>\n",
       "      <td>0</td>\n",
       "      <td>EB</td>\n",
       "      <td>70</td>\n",
       "      <td>0</td>\n",
       "      <td>0</td>\n",
       "      <td>0</td>\n",
       "      <td>1</td>\n",
       "      <td>0</td>\n",
       "      <td>0</td>\n",
       "      <td>0</td>\n",
       "      <td>0</td>\n",
       "      <td>0</td>\n",
       "      <td>0</td>\n",
       "      <td>0</td>\n",
       "    </tr>\n",
       "    <tr>\n",
       "      <th>1</th>\n",
       "      <td>1</td>\n",
       "      <td>1991-04-01</td>\n",
       "      <td>0</td>\n",
       "      <td>0</td>\n",
       "      <td>NB</td>\n",
       "      <td>49</td>\n",
       "      <td>0</td>\n",
       "      <td>0</td>\n",
       "      <td>0</td>\n",
       "      <td>0</td>\n",
       "      <td>1</td>\n",
       "      <td>0</td>\n",
       "      <td>0</td>\n",
       "      <td>0</td>\n",
       "      <td>0</td>\n",
       "      <td>0</td>\n",
       "      <td>0</td>\n",
       "    </tr>\n",
       "    <tr>\n",
       "      <th>2</th>\n",
       "      <td>2</td>\n",
       "      <td>1991-04-01</td>\n",
       "      <td>0</td>\n",
       "      <td>0</td>\n",
       "      <td>SB</td>\n",
       "      <td>24</td>\n",
       "      <td>0</td>\n",
       "      <td>0</td>\n",
       "      <td>0</td>\n",
       "      <td>0</td>\n",
       "      <td>0</td>\n",
       "      <td>0</td>\n",
       "      <td>0</td>\n",
       "      <td>1</td>\n",
       "      <td>0</td>\n",
       "      <td>0</td>\n",
       "      <td>0</td>\n",
       "    </tr>\n",
       "    <tr>\n",
       "      <th>3</th>\n",
       "      <td>3</td>\n",
       "      <td>1991-04-01</td>\n",
       "      <td>0</td>\n",
       "      <td>1</td>\n",
       "      <td>EB</td>\n",
       "      <td>18</td>\n",
       "      <td>0</td>\n",
       "      <td>0</td>\n",
       "      <td>0</td>\n",
       "      <td>1</td>\n",
       "      <td>0</td>\n",
       "      <td>0</td>\n",
       "      <td>0</td>\n",
       "      <td>0</td>\n",
       "      <td>0</td>\n",
       "      <td>0</td>\n",
       "      <td>0</td>\n",
       "    </tr>\n",
       "    <tr>\n",
       "      <th>4</th>\n",
       "      <td>4</td>\n",
       "      <td>1991-04-01</td>\n",
       "      <td>0</td>\n",
       "      <td>1</td>\n",
       "      <td>NB</td>\n",
       "      <td>60</td>\n",
       "      <td>0</td>\n",
       "      <td>0</td>\n",
       "      <td>0</td>\n",
       "      <td>0</td>\n",
       "      <td>1</td>\n",
       "      <td>0</td>\n",
       "      <td>0</td>\n",
       "      <td>0</td>\n",
       "      <td>0</td>\n",
       "      <td>0</td>\n",
       "      <td>0</td>\n",
       "    </tr>\n",
       "  </tbody>\n",
       "</table>\n",
       "</div>"
      ],
      "text/plain": [
       "   row_id       time  x  y direction  congestion  day  hour  minute  EB  NB  \\\n",
       "0       0 1991-04-01  0  0        EB          70    0     0       0   1   0   \n",
       "1       1 1991-04-01  0  0        NB          49    0     0       0   0   1   \n",
       "2       2 1991-04-01  0  0        SB          24    0     0       0   0   0   \n",
       "3       3 1991-04-01  0  1        EB          18    0     0       0   1   0   \n",
       "4       4 1991-04-01  0  1        NB          60    0     0       0   0   1   \n",
       "\n",
       "   NE  NW  SB  SE  SW  WB  \n",
       "0   0   0   0   0   0   0  \n",
       "1   0   0   0   0   0   0  \n",
       "2   0   0   1   0   0   0  \n",
       "3   0   0   0   0   0   0  \n",
       "4   0   0   0   0   0   0  "
      ]
     },
     "execution_count": 9,
     "metadata": {},
     "output_type": "execute_result"
    }
   ],
   "source": [
    "train.head()"
   ]
  },
  {
   "cell_type": "code",
   "execution_count": 10,
   "id": "d116ab9a",
   "metadata": {},
   "outputs": [
    {
     "data": {
      "text/html": [
       "<div>\n",
       "<style scoped>\n",
       "    .dataframe tbody tr th:only-of-type {\n",
       "        vertical-align: middle;\n",
       "    }\n",
       "\n",
       "    .dataframe tbody tr th {\n",
       "        vertical-align: top;\n",
       "    }\n",
       "\n",
       "    .dataframe thead th {\n",
       "        text-align: right;\n",
       "    }\n",
       "</style>\n",
       "<table border=\"1\" class=\"dataframe\">\n",
       "  <thead>\n",
       "    <tr style=\"text-align: right;\">\n",
       "      <th></th>\n",
       "      <th>row_id</th>\n",
       "      <th>time</th>\n",
       "      <th>x</th>\n",
       "      <th>y</th>\n",
       "      <th>direction</th>\n",
       "      <th>day</th>\n",
       "      <th>hour</th>\n",
       "      <th>minute</th>\n",
       "      <th>EB</th>\n",
       "      <th>NB</th>\n",
       "      <th>NE</th>\n",
       "      <th>NW</th>\n",
       "      <th>SB</th>\n",
       "      <th>SE</th>\n",
       "      <th>SW</th>\n",
       "      <th>WB</th>\n",
       "    </tr>\n",
       "  </thead>\n",
       "  <tbody>\n",
       "    <tr>\n",
       "      <th>0</th>\n",
       "      <td>848835.0</td>\n",
       "      <td>1991-09-30 12:00:00</td>\n",
       "      <td>0.0</td>\n",
       "      <td>0.0</td>\n",
       "      <td>EB</td>\n",
       "      <td>0.0</td>\n",
       "      <td>12.0</td>\n",
       "      <td>0.0</td>\n",
       "      <td>1</td>\n",
       "      <td>0</td>\n",
       "      <td>0</td>\n",
       "      <td>0</td>\n",
       "      <td>0</td>\n",
       "      <td>0</td>\n",
       "      <td>0</td>\n",
       "      <td>0</td>\n",
       "    </tr>\n",
       "    <tr>\n",
       "      <th>1</th>\n",
       "      <td>848836.0</td>\n",
       "      <td>1991-09-30 12:00:00</td>\n",
       "      <td>0.0</td>\n",
       "      <td>0.0</td>\n",
       "      <td>NB</td>\n",
       "      <td>0.0</td>\n",
       "      <td>12.0</td>\n",
       "      <td>0.0</td>\n",
       "      <td>0</td>\n",
       "      <td>1</td>\n",
       "      <td>0</td>\n",
       "      <td>0</td>\n",
       "      <td>0</td>\n",
       "      <td>0</td>\n",
       "      <td>0</td>\n",
       "      <td>0</td>\n",
       "    </tr>\n",
       "    <tr>\n",
       "      <th>2</th>\n",
       "      <td>848837.0</td>\n",
       "      <td>1991-09-30 12:00:00</td>\n",
       "      <td>0.0</td>\n",
       "      <td>0.0</td>\n",
       "      <td>SB</td>\n",
       "      <td>0.0</td>\n",
       "      <td>12.0</td>\n",
       "      <td>0.0</td>\n",
       "      <td>0</td>\n",
       "      <td>0</td>\n",
       "      <td>0</td>\n",
       "      <td>0</td>\n",
       "      <td>1</td>\n",
       "      <td>0</td>\n",
       "      <td>0</td>\n",
       "      <td>0</td>\n",
       "    </tr>\n",
       "    <tr>\n",
       "      <th>3</th>\n",
       "      <td>848838.0</td>\n",
       "      <td>1991-09-30 12:00:00</td>\n",
       "      <td>0.0</td>\n",
       "      <td>1.0</td>\n",
       "      <td>EB</td>\n",
       "      <td>0.0</td>\n",
       "      <td>12.0</td>\n",
       "      <td>0.0</td>\n",
       "      <td>1</td>\n",
       "      <td>0</td>\n",
       "      <td>0</td>\n",
       "      <td>0</td>\n",
       "      <td>0</td>\n",
       "      <td>0</td>\n",
       "      <td>0</td>\n",
       "      <td>0</td>\n",
       "    </tr>\n",
       "    <tr>\n",
       "      <th>4</th>\n",
       "      <td>848839.0</td>\n",
       "      <td>1991-09-30 12:00:00</td>\n",
       "      <td>0.0</td>\n",
       "      <td>1.0</td>\n",
       "      <td>NB</td>\n",
       "      <td>0.0</td>\n",
       "      <td>12.0</td>\n",
       "      <td>0.0</td>\n",
       "      <td>0</td>\n",
       "      <td>1</td>\n",
       "      <td>0</td>\n",
       "      <td>0</td>\n",
       "      <td>0</td>\n",
       "      <td>0</td>\n",
       "      <td>0</td>\n",
       "      <td>0</td>\n",
       "    </tr>\n",
       "  </tbody>\n",
       "</table>\n",
       "</div>"
      ],
      "text/plain": [
       "     row_id                time    x    y direction  day  hour  minute  EB  \\\n",
       "0  848835.0 1991-09-30 12:00:00  0.0  0.0        EB  0.0  12.0     0.0   1   \n",
       "1  848836.0 1991-09-30 12:00:00  0.0  0.0        NB  0.0  12.0     0.0   0   \n",
       "2  848837.0 1991-09-30 12:00:00  0.0  0.0        SB  0.0  12.0     0.0   0   \n",
       "3  848838.0 1991-09-30 12:00:00  0.0  1.0        EB  0.0  12.0     0.0   1   \n",
       "4  848839.0 1991-09-30 12:00:00  0.0  1.0        NB  0.0  12.0     0.0   0   \n",
       "\n",
       "   NB  NE  NW  SB  SE  SW  WB  \n",
       "0   0   0   0   0   0   0   0  \n",
       "1   1   0   0   0   0   0   0  \n",
       "2   0   0   0   1   0   0   0  \n",
       "3   0   0   0   0   0   0   0  \n",
       "4   1   0   0   0   0   0   0  "
      ]
     },
     "execution_count": 10,
     "metadata": {},
     "output_type": "execute_result"
    }
   ],
   "source": [
    "test.head()"
   ]
  },
  {
   "cell_type": "markdown",
   "id": "3bdc556f",
   "metadata": {},
   "source": [
    "## Basic Visualizations"
   ]
  },
  {
   "cell_type": "code",
   "execution_count": 11,
   "id": "b368942e",
   "metadata": {},
   "outputs": [
    {
     "data": {
      "image/png": "[encoded data removed]",
      "text/plain": [
       "<Figure size 1080x576 with 1 Axes>"
      ]
     },
     "metadata": {
      "needs_background": "light"
     },
     "output_type": "display_data"
    }
   ],
   "source": [
    "## Creating a new figure\n",
    "plt.figure(figsize = (15, 8))\n",
    "\n",
    "plt.plot(train['time'], train['congestion'])\n",
    "plt.xlabel('Date')\n",
    "plt.ylabel('Congestion Measure')\n",
    "plt.grid()\n",
    "plt.show()"
   ]
  },
  {
   "cell_type": "code",
   "execution_count": 14,
   "id": "36956e4a",
   "metadata": {},
   "outputs": [
    {
     "data": {
      "image/png": "[encoded data removed]",
      "text/plain": [
       "<Figure size 1080x576 with 1 Axes>"
      ]
     },
     "metadata": {
      "needs_background": "light"
     },
     "output_type": "display_data"
    }
   ],
   "source": [
    "## Creating a new figure\n",
    "plt.figure(figsize = (15, 8))\n",
    "\n",
    "plt.plot(train['time'][0:100], train['congestion'][0:100])\n",
    "plt.xlabel('Date')\n",
    "plt.ylabel('Congestion Measure')\n",
    "plt.title('Visualizing som observations')\n",
    "plt.grid()\n",
    "plt.show()"
   ]
  },
  {
   "cell_type": "code",
   "execution_count": 23,
   "id": "03786023",
   "metadata": {},
   "outputs": [
    {
     "data": {
      "text/html": [
       "<div>\n",
       "<style scoped>\n",
       "    .dataframe tbody tr th:only-of-type {\n",
       "        vertical-align: middle;\n",
       "    }\n",
       "\n",
       "    .dataframe tbody tr th {\n",
       "        vertical-align: top;\n",
       "    }\n",
       "\n",
       "    .dataframe thead th {\n",
       "        text-align: right;\n",
       "    }\n",
       "</style>\n",
       "<table border=\"1\" class=\"dataframe\">\n",
       "  <thead>\n",
       "    <tr style=\"text-align: right;\">\n",
       "      <th></th>\n",
       "      <th>row_id</th>\n",
       "      <th>time</th>\n",
       "      <th>x</th>\n",
       "      <th>y</th>\n",
       "      <th>direction</th>\n",
       "      <th>congestion</th>\n",
       "      <th>day</th>\n",
       "      <th>hour</th>\n",
       "      <th>minute</th>\n",
       "      <th>EB</th>\n",
       "      <th>NB</th>\n",
       "      <th>NE</th>\n",
       "      <th>NW</th>\n",
       "      <th>SB</th>\n",
       "      <th>SE</th>\n",
       "      <th>SW</th>\n",
       "      <th>WB</th>\n",
       "    </tr>\n",
       "  </thead>\n",
       "  <tbody>\n",
       "    <tr>\n",
       "      <th>0</th>\n",
       "      <td>0</td>\n",
       "      <td>1991-04-01 00:00:00</td>\n",
       "      <td>0</td>\n",
       "      <td>0</td>\n",
       "      <td>EB</td>\n",
       "      <td>70</td>\n",
       "      <td>0</td>\n",
       "      <td>0</td>\n",
       "      <td>0</td>\n",
       "      <td>1</td>\n",
       "      <td>0</td>\n",
       "      <td>0</td>\n",
       "      <td>0</td>\n",
       "      <td>0</td>\n",
       "      <td>0</td>\n",
       "      <td>0</td>\n",
       "      <td>0</td>\n",
       "    </tr>\n",
       "    <tr>\n",
       "      <th>65</th>\n",
       "      <td>65</td>\n",
       "      <td>1991-04-01 00:20:00</td>\n",
       "      <td>0</td>\n",
       "      <td>0</td>\n",
       "      <td>EB</td>\n",
       "      <td>70</td>\n",
       "      <td>0</td>\n",
       "      <td>0</td>\n",
       "      <td>20</td>\n",
       "      <td>1</td>\n",
       "      <td>0</td>\n",
       "      <td>0</td>\n",
       "      <td>0</td>\n",
       "      <td>0</td>\n",
       "      <td>0</td>\n",
       "      <td>0</td>\n",
       "      <td>0</td>\n",
       "    </tr>\n",
       "    <tr>\n",
       "      <th>130</th>\n",
       "      <td>130</td>\n",
       "      <td>1991-04-01 00:40:00</td>\n",
       "      <td>0</td>\n",
       "      <td>0</td>\n",
       "      <td>EB</td>\n",
       "      <td>70</td>\n",
       "      <td>0</td>\n",
       "      <td>0</td>\n",
       "      <td>40</td>\n",
       "      <td>1</td>\n",
       "      <td>0</td>\n",
       "      <td>0</td>\n",
       "      <td>0</td>\n",
       "      <td>0</td>\n",
       "      <td>0</td>\n",
       "      <td>0</td>\n",
       "      <td>0</td>\n",
       "    </tr>\n",
       "    <tr>\n",
       "      <th>195</th>\n",
       "      <td>195</td>\n",
       "      <td>1991-04-01 01:00:00</td>\n",
       "      <td>0</td>\n",
       "      <td>0</td>\n",
       "      <td>EB</td>\n",
       "      <td>70</td>\n",
       "      <td>0</td>\n",
       "      <td>1</td>\n",
       "      <td>0</td>\n",
       "      <td>1</td>\n",
       "      <td>0</td>\n",
       "      <td>0</td>\n",
       "      <td>0</td>\n",
       "      <td>0</td>\n",
       "      <td>0</td>\n",
       "      <td>0</td>\n",
       "      <td>0</td>\n",
       "    </tr>\n",
       "    <tr>\n",
       "      <th>260</th>\n",
       "      <td>260</td>\n",
       "      <td>1991-04-01 01:20:00</td>\n",
       "      <td>0</td>\n",
       "      <td>0</td>\n",
       "      <td>EB</td>\n",
       "      <td>70</td>\n",
       "      <td>0</td>\n",
       "      <td>1</td>\n",
       "      <td>20</td>\n",
       "      <td>1</td>\n",
       "      <td>0</td>\n",
       "      <td>0</td>\n",
       "      <td>0</td>\n",
       "      <td>0</td>\n",
       "      <td>0</td>\n",
       "      <td>0</td>\n",
       "      <td>0</td>\n",
       "    </tr>\n",
       "    <tr>\n",
       "      <th>325</th>\n",
       "      <td>325</td>\n",
       "      <td>1991-04-01 01:40:00</td>\n",
       "      <td>0</td>\n",
       "      <td>0</td>\n",
       "      <td>EB</td>\n",
       "      <td>70</td>\n",
       "      <td>0</td>\n",
       "      <td>1</td>\n",
       "      <td>40</td>\n",
       "      <td>1</td>\n",
       "      <td>0</td>\n",
       "      <td>0</td>\n",
       "      <td>0</td>\n",
       "      <td>0</td>\n",
       "      <td>0</td>\n",
       "      <td>0</td>\n",
       "      <td>0</td>\n",
       "    </tr>\n",
       "    <tr>\n",
       "      <th>390</th>\n",
       "      <td>390</td>\n",
       "      <td>1991-04-01 02:00:00</td>\n",
       "      <td>0</td>\n",
       "      <td>0</td>\n",
       "      <td>EB</td>\n",
       "      <td>70</td>\n",
       "      <td>0</td>\n",
       "      <td>2</td>\n",
       "      <td>0</td>\n",
       "      <td>1</td>\n",
       "      <td>0</td>\n",
       "      <td>0</td>\n",
       "      <td>0</td>\n",
       "      <td>0</td>\n",
       "      <td>0</td>\n",
       "      <td>0</td>\n",
       "      <td>0</td>\n",
       "    </tr>\n",
       "    <tr>\n",
       "      <th>455</th>\n",
       "      <td>455</td>\n",
       "      <td>1991-04-01 02:20:00</td>\n",
       "      <td>0</td>\n",
       "      <td>0</td>\n",
       "      <td>EB</td>\n",
       "      <td>70</td>\n",
       "      <td>0</td>\n",
       "      <td>2</td>\n",
       "      <td>20</td>\n",
       "      <td>1</td>\n",
       "      <td>0</td>\n",
       "      <td>0</td>\n",
       "      <td>0</td>\n",
       "      <td>0</td>\n",
       "      <td>0</td>\n",
       "      <td>0</td>\n",
       "      <td>0</td>\n",
       "    </tr>\n",
       "    <tr>\n",
       "      <th>520</th>\n",
       "      <td>520</td>\n",
       "      <td>1991-04-01 02:40:00</td>\n",
       "      <td>0</td>\n",
       "      <td>0</td>\n",
       "      <td>EB</td>\n",
       "      <td>70</td>\n",
       "      <td>0</td>\n",
       "      <td>2</td>\n",
       "      <td>40</td>\n",
       "      <td>1</td>\n",
       "      <td>0</td>\n",
       "      <td>0</td>\n",
       "      <td>0</td>\n",
       "      <td>0</td>\n",
       "      <td>0</td>\n",
       "      <td>0</td>\n",
       "      <td>0</td>\n",
       "    </tr>\n",
       "    <tr>\n",
       "      <th>585</th>\n",
       "      <td>585</td>\n",
       "      <td>1991-04-01 03:00:00</td>\n",
       "      <td>0</td>\n",
       "      <td>0</td>\n",
       "      <td>EB</td>\n",
       "      <td>70</td>\n",
       "      <td>0</td>\n",
       "      <td>3</td>\n",
       "      <td>0</td>\n",
       "      <td>1</td>\n",
       "      <td>0</td>\n",
       "      <td>0</td>\n",
       "      <td>0</td>\n",
       "      <td>0</td>\n",
       "      <td>0</td>\n",
       "      <td>0</td>\n",
       "      <td>0</td>\n",
       "    </tr>\n",
       "  </tbody>\n",
       "</table>\n",
       "</div>"
      ],
      "text/plain": [
       "     row_id                time  x  y direction  congestion  day  hour  \\\n",
       "0         0 1991-04-01 00:00:00  0  0        EB          70    0     0   \n",
       "65       65 1991-04-01 00:20:00  0  0        EB          70    0     0   \n",
       "130     130 1991-04-01 00:40:00  0  0        EB          70    0     0   \n",
       "195     195 1991-04-01 01:00:00  0  0        EB          70    0     1   \n",
       "260     260 1991-04-01 01:20:00  0  0        EB          70    0     1   \n",
       "325     325 1991-04-01 01:40:00  0  0        EB          70    0     1   \n",
       "390     390 1991-04-01 02:00:00  0  0        EB          70    0     2   \n",
       "455     455 1991-04-01 02:20:00  0  0        EB          70    0     2   \n",
       "520     520 1991-04-01 02:40:00  0  0        EB          70    0     2   \n",
       "585     585 1991-04-01 03:00:00  0  0        EB          70    0     3   \n",
       "\n",
       "     minute  EB  NB  NE  NW  SB  SE  SW  WB  \n",
       "0         0   1   0   0   0   0   0   0   0  \n",
       "65       20   1   0   0   0   0   0   0   0  \n",
       "130      40   1   0   0   0   0   0   0   0  \n",
       "195       0   1   0   0   0   0   0   0   0  \n",
       "260      20   1   0   0   0   0   0   0   0  \n",
       "325      40   1   0   0   0   0   0   0   0  \n",
       "390       0   1   0   0   0   0   0   0   0  \n",
       "455      20   1   0   0   0   0   0   0   0  \n",
       "520      40   1   0   0   0   0   0   0   0  \n",
       "585       0   1   0   0   0   0   0   0   0  "
      ]
     },
     "execution_count": 23,
     "metadata": {},
     "output_type": "execute_result"
    }
   ],
   "source": [
    "out = train[(train['direction'] == 'EB') & (train['x'] == 0) & (train['y'] == 0)]\n",
    "out.head(10)"
   ]
  },
  {
   "cell_type": "code",
   "execution_count": 26,
   "id": "328be497",
   "metadata": {},
   "outputs": [
    {
     "data": {
      "text/plain": [
       "(13059, 17)"
      ]
     },
     "execution_count": 26,
     "metadata": {},
     "output_type": "execute_result"
    }
   ],
   "source": [
    "out.shape"
   ]
  },
  {
   "cell_type": "code",
   "execution_count": 27,
   "id": "8c11c9e6",
   "metadata": {},
   "outputs": [
    {
     "data": {
      "text/html": [
       "<div>\n",
       "<style scoped>\n",
       "    .dataframe tbody tr th:only-of-type {\n",
       "        vertical-align: middle;\n",
       "    }\n",
       "\n",
       "    .dataframe tbody tr th {\n",
       "        vertical-align: top;\n",
       "    }\n",
       "\n",
       "    .dataframe thead th {\n",
       "        text-align: right;\n",
       "    }\n",
       "</style>\n",
       "<table border=\"1\" class=\"dataframe\">\n",
       "  <thead>\n",
       "    <tr style=\"text-align: right;\">\n",
       "      <th></th>\n",
       "      <th>row_id</th>\n",
       "      <th>time</th>\n",
       "      <th>x</th>\n",
       "      <th>y</th>\n",
       "      <th>direction</th>\n",
       "      <th>day</th>\n",
       "      <th>hour</th>\n",
       "      <th>minute</th>\n",
       "      <th>EB</th>\n",
       "      <th>NB</th>\n",
       "      <th>NE</th>\n",
       "      <th>NW</th>\n",
       "      <th>SB</th>\n",
       "      <th>SE</th>\n",
       "      <th>SW</th>\n",
       "      <th>WB</th>\n",
       "    </tr>\n",
       "  </thead>\n",
       "  <tbody>\n",
       "    <tr>\n",
       "      <th>0</th>\n",
       "      <td>848835.0</td>\n",
       "      <td>1991-09-30 12:00:00</td>\n",
       "      <td>0.0</td>\n",
       "      <td>0.0</td>\n",
       "      <td>EB</td>\n",
       "      <td>0.0</td>\n",
       "      <td>12.0</td>\n",
       "      <td>0.0</td>\n",
       "      <td>1</td>\n",
       "      <td>0</td>\n",
       "      <td>0</td>\n",
       "      <td>0</td>\n",
       "      <td>0</td>\n",
       "      <td>0</td>\n",
       "      <td>0</td>\n",
       "      <td>0</td>\n",
       "    </tr>\n",
       "    <tr>\n",
       "      <th>65</th>\n",
       "      <td>848900.0</td>\n",
       "      <td>1991-09-30 12:20:00</td>\n",
       "      <td>0.0</td>\n",
       "      <td>0.0</td>\n",
       "      <td>EB</td>\n",
       "      <td>0.0</td>\n",
       "      <td>12.0</td>\n",
       "      <td>20.0</td>\n",
       "      <td>1</td>\n",
       "      <td>0</td>\n",
       "      <td>0</td>\n",
       "      <td>0</td>\n",
       "      <td>0</td>\n",
       "      <td>0</td>\n",
       "      <td>0</td>\n",
       "      <td>0</td>\n",
       "    </tr>\n",
       "    <tr>\n",
       "      <th>130</th>\n",
       "      <td>848965.0</td>\n",
       "      <td>1991-09-30 12:40:00</td>\n",
       "      <td>0.0</td>\n",
       "      <td>0.0</td>\n",
       "      <td>EB</td>\n",
       "      <td>0.0</td>\n",
       "      <td>12.0</td>\n",
       "      <td>40.0</td>\n",
       "      <td>1</td>\n",
       "      <td>0</td>\n",
       "      <td>0</td>\n",
       "      <td>0</td>\n",
       "      <td>0</td>\n",
       "      <td>0</td>\n",
       "      <td>0</td>\n",
       "      <td>0</td>\n",
       "    </tr>\n",
       "    <tr>\n",
       "      <th>195</th>\n",
       "      <td>849030.0</td>\n",
       "      <td>1991-09-30 13:00:00</td>\n",
       "      <td>0.0</td>\n",
       "      <td>0.0</td>\n",
       "      <td>EB</td>\n",
       "      <td>0.0</td>\n",
       "      <td>13.0</td>\n",
       "      <td>0.0</td>\n",
       "      <td>1</td>\n",
       "      <td>0</td>\n",
       "      <td>0</td>\n",
       "      <td>0</td>\n",
       "      <td>0</td>\n",
       "      <td>0</td>\n",
       "      <td>0</td>\n",
       "      <td>0</td>\n",
       "    </tr>\n",
       "    <tr>\n",
       "      <th>260</th>\n",
       "      <td>849095.0</td>\n",
       "      <td>1991-09-30 13:20:00</td>\n",
       "      <td>0.0</td>\n",
       "      <td>0.0</td>\n",
       "      <td>EB</td>\n",
       "      <td>0.0</td>\n",
       "      <td>13.0</td>\n",
       "      <td>20.0</td>\n",
       "      <td>1</td>\n",
       "      <td>0</td>\n",
       "      <td>0</td>\n",
       "      <td>0</td>\n",
       "      <td>0</td>\n",
       "      <td>0</td>\n",
       "      <td>0</td>\n",
       "      <td>0</td>\n",
       "    </tr>\n",
       "    <tr>\n",
       "      <th>325</th>\n",
       "      <td>849160.0</td>\n",
       "      <td>1991-09-30 13:40:00</td>\n",
       "      <td>0.0</td>\n",
       "      <td>0.0</td>\n",
       "      <td>EB</td>\n",
       "      <td>0.0</td>\n",
       "      <td>13.0</td>\n",
       "      <td>40.0</td>\n",
       "      <td>1</td>\n",
       "      <td>0</td>\n",
       "      <td>0</td>\n",
       "      <td>0</td>\n",
       "      <td>0</td>\n",
       "      <td>0</td>\n",
       "      <td>0</td>\n",
       "      <td>0</td>\n",
       "    </tr>\n",
       "    <tr>\n",
       "      <th>390</th>\n",
       "      <td>849225.0</td>\n",
       "      <td>1991-09-30 14:00:00</td>\n",
       "      <td>0.0</td>\n",
       "      <td>0.0</td>\n",
       "      <td>EB</td>\n",
       "      <td>0.0</td>\n",
       "      <td>14.0</td>\n",
       "      <td>0.0</td>\n",
       "      <td>1</td>\n",
       "      <td>0</td>\n",
       "      <td>0</td>\n",
       "      <td>0</td>\n",
       "      <td>0</td>\n",
       "      <td>0</td>\n",
       "      <td>0</td>\n",
       "      <td>0</td>\n",
       "    </tr>\n",
       "    <tr>\n",
       "      <th>455</th>\n",
       "      <td>849290.0</td>\n",
       "      <td>1991-09-30 14:20:00</td>\n",
       "      <td>0.0</td>\n",
       "      <td>0.0</td>\n",
       "      <td>EB</td>\n",
       "      <td>0.0</td>\n",
       "      <td>14.0</td>\n",
       "      <td>20.0</td>\n",
       "      <td>1</td>\n",
       "      <td>0</td>\n",
       "      <td>0</td>\n",
       "      <td>0</td>\n",
       "      <td>0</td>\n",
       "      <td>0</td>\n",
       "      <td>0</td>\n",
       "      <td>0</td>\n",
       "    </tr>\n",
       "    <tr>\n",
       "      <th>520</th>\n",
       "      <td>849355.0</td>\n",
       "      <td>1991-09-30 14:40:00</td>\n",
       "      <td>0.0</td>\n",
       "      <td>0.0</td>\n",
       "      <td>EB</td>\n",
       "      <td>0.0</td>\n",
       "      <td>14.0</td>\n",
       "      <td>40.0</td>\n",
       "      <td>1</td>\n",
       "      <td>0</td>\n",
       "      <td>0</td>\n",
       "      <td>0</td>\n",
       "      <td>0</td>\n",
       "      <td>0</td>\n",
       "      <td>0</td>\n",
       "      <td>0</td>\n",
       "    </tr>\n",
       "    <tr>\n",
       "      <th>585</th>\n",
       "      <td>849420.0</td>\n",
       "      <td>1991-09-30 15:00:00</td>\n",
       "      <td>0.0</td>\n",
       "      <td>0.0</td>\n",
       "      <td>EB</td>\n",
       "      <td>0.0</td>\n",
       "      <td>15.0</td>\n",
       "      <td>0.0</td>\n",
       "      <td>1</td>\n",
       "      <td>0</td>\n",
       "      <td>0</td>\n",
       "      <td>0</td>\n",
       "      <td>0</td>\n",
       "      <td>0</td>\n",
       "      <td>0</td>\n",
       "      <td>0</td>\n",
       "    </tr>\n",
       "  </tbody>\n",
       "</table>\n",
       "</div>"
      ],
      "text/plain": [
       "       row_id                time    x    y direction  day  hour  minute  EB  \\\n",
       "0    848835.0 1991-09-30 12:00:00  0.0  0.0        EB  0.0  12.0     0.0   1   \n",
       "65   848900.0 1991-09-30 12:20:00  0.0  0.0        EB  0.0  12.0    20.0   1   \n",
       "130  848965.0 1991-09-30 12:40:00  0.0  0.0        EB  0.0  12.0    40.0   1   \n",
       "195  849030.0 1991-09-30 13:00:00  0.0  0.0        EB  0.0  13.0     0.0   1   \n",
       "260  849095.0 1991-09-30 13:20:00  0.0  0.0        EB  0.0  13.0    20.0   1   \n",
       "325  849160.0 1991-09-30 13:40:00  0.0  0.0        EB  0.0  13.0    40.0   1   \n",
       "390  849225.0 1991-09-30 14:00:00  0.0  0.0        EB  0.0  14.0     0.0   1   \n",
       "455  849290.0 1991-09-30 14:20:00  0.0  0.0        EB  0.0  14.0    20.0   1   \n",
       "520  849355.0 1991-09-30 14:40:00  0.0  0.0        EB  0.0  14.0    40.0   1   \n",
       "585  849420.0 1991-09-30 15:00:00  0.0  0.0        EB  0.0  15.0     0.0   1   \n",
       "\n",
       "     NB  NE  NW  SB  SE  SW  WB  \n",
       "0     0   0   0   0   0   0   0  \n",
       "65    0   0   0   0   0   0   0  \n",
       "130   0   0   0   0   0   0   0  \n",
       "195   0   0   0   0   0   0   0  \n",
       "260   0   0   0   0   0   0   0  \n",
       "325   0   0   0   0   0   0   0  \n",
       "390   0   0   0   0   0   0   0  \n",
       "455   0   0   0   0   0   0   0  \n",
       "520   0   0   0   0   0   0   0  \n",
       "585   0   0   0   0   0   0   0  "
      ]
     },
     "execution_count": 27,
     "metadata": {},
     "output_type": "execute_result"
    }
   ],
   "source": [
    "out_test = test[(test['direction'] == 'EB') & (test['x'] == 0) & (train['y'] == 0)]\n",
    "out_test.head(10)"
   ]
  },
  {
   "cell_type": "code",
   "execution_count": 28,
   "id": "ebf78ccd",
   "metadata": {},
   "outputs": [
    {
     "data": {
      "text/plain": [
       "(36, 16)"
      ]
     },
     "execution_count": 28,
     "metadata": {},
     "output_type": "execute_result"
    }
   ],
   "source": [
    "out_test.shape"
   ]
  },
  {
   "cell_type": "code",
   "execution_count": 25,
   "id": "4ed6b42b",
   "metadata": {},
   "outputs": [
    {
     "data": {
      "image/png": "[encoded data removed]",
      "text/plain": [
       "<Figure size 1080x576 with 1 Axes>"
      ]
     },
     "metadata": {
      "needs_background": "light"
     },
     "output_type": "display_data"
    }
   ],
   "source": [
    "## Creating a new figure\n",
    "plt.figure(figsize = (15, 8))\n",
    "\n",
    "plt.plot(out['time'], out['congestion'])\n",
    "plt.xlabel('Date')\n",
    "plt.ylabel('Congestion Measure')\n",
    "plt.title('Visualizing som observations')\n",
    "plt.grid()\n",
    "plt.show()"
   ]
  },
  {
   "cell_type": "markdown",
   "id": "83f73183",
   "metadata": {},
   "source": [
    "## Modeling "
   ]
  },
  {
   "cell_type": "code",
   "execution_count": 4,
   "id": "b4bc8b5d",
   "metadata": {},
   "outputs": [],
   "source": [
    "train_data_sample = train[(train['direction'] == 'EB') & (train['x'] == 0) & (train['y'] == 0)].reset_index(drop = True)\n",
    "test_data_sample = test[(test['direction'] == 'EB') & (test['x'] == 0) & (test['y'] == 0)].reset_index(drop = True)"
   ]
  },
  {
   "cell_type": "code",
   "execution_count": 5,
   "id": "74294c11",
   "metadata": {},
   "outputs": [],
   "source": [
    "## Splitting the data intro train & valudation \n",
    "X_train = train_data_sample.loc[0:13023, ['day', 'hour', 'minute']].reset_index(drop = True)\n",
    "Y_train = train_data_sample.loc[0:13023, ['congestion']].reset_index(drop = True)\n",
    "\n",
    "X_val = train_data_sample.loc[13023:13059, ['day', 'hour', 'minute']].reset_index(drop = True)\n",
    "Y_val = train_data_sample.loc[13023:13059, ['congestion']].reset_index(drop = True)"
   ]
  },
  {
   "cell_type": "code",
   "execution_count": 8,
   "id": "63637f9d",
   "metadata": {},
   "outputs": [
    {
     "name": "stdout",
     "output_type": "stream",
     "text": [
      "173.4361566491336\n"
     ]
    }
   ],
   "source": [
    "## Buidling XGBoost\n",
    "xgb = XGBRegressor(booster = 'gbtree', objective = 'reg:squarederror', n_estimators = 500, max_depth = 7, learning_rate = 0.01, n_jobs = -1).fit(X_train, Y_train)\n",
    "\n",
    "## Predicting on the test \n",
    "xgb_pred = xgb.predict(X_val)\n",
    "\n",
    "## Computing the mse\n",
    "print(mean_squared_error(Y_val, xgb_pred))"
   ]
  },
  {
   "cell_type": "code",
   "execution_count": 9,
   "id": "1d1f0b64",
   "metadata": {},
   "outputs": [
    {
     "data": {
      "text/plain": [
       "array([39.41808 , 39.508057, 39.508877, 39.477806, 39.498314, 47.815224,\n",
       "       54.622437, 54.65232 , 53.962894, 54.610695, 54.58254 , 53.799004,\n",
       "       54.1152  , 52.251247, 48.11481 , 52.579212, 46.347187, 46.62214 ,\n",
       "       51.83403 , 45.63191 , 47.064217, 45.25699 , 44.740257, 47.372375,\n",
       "       48.055504, 46.154934, 48.104294, 48.83319 , 49.27556 , 51.495968,\n",
       "       48.169716, 49.838062, 52.723694, 47.651947, 48.3992  , 52.290684],\n",
       "      dtype=float32)"
      ]
     },
     "execution_count": 9,
     "metadata": {},
     "output_type": "execute_result"
    }
   ],
   "source": [
    "xgb_pred"
   ]
  },
  {
   "cell_type": "code",
   "execution_count": 10,
   "id": "3a6558e3",
   "metadata": {},
   "outputs": [
    {
     "data": {
      "image/png": "[encoded data removed]",
      "text/plain": [
       "<Figure size 1080x576 with 1 Axes>"
      ]
     },
     "metadata": {
      "needs_background": "light"
     },
     "output_type": "display_data"
    }
   ],
   "source": [
    "## Creating a new figure\n",
    "plt.figure(figsize = (15, 8))\n",
    "\n",
    "plt.plot(train_data_sample['time'][13023:13059], train_data_sample['congestion'][13023:13059])\n",
    "plt.plot(train_data_sample['time'][13023:13059], xgb_pred)\n",
    "plt.xlabel('Date')\n",
    "plt.ylabel('Congestion Measure')\n",
    "plt.title('Visualizing Initial Predictions')\n",
    "plt.grid()\n",
    "plt.show()"
   ]
  },
  {
   "cell_type": "markdown",
   "id": "5e14ecea",
   "metadata": {},
   "source": [
    "## Hyper-Parameter Tuning"
   ]
  },
  {
   "cell_type": "code",
   "execution_count": 13,
   "id": "deb08343",
   "metadata": {},
   "outputs": [
    {
     "data": {
      "text/plain": [
       "{'colsample_bytree': 1,\n",
       " 'gamma': 0.3,\n",
       " 'learning_rate': 0.01,\n",
       " 'max_depth': 5,\n",
       " 'min_child_weight': 5,\n",
       " 'n_estimators': 500,\n",
       " 'subsample': 0.8}"
      ]
     },
     "execution_count": 13,
     "metadata": {},
     "output_type": "execute_result"
    }
   ],
   "source": [
    "## Defining the hyper-parameter grid\n",
    "XGBoost_param_grid = {'n_estimators': [500],\n",
    "                      'max_depth': [5, 7],\n",
    "                      'min_child_weight': [5, 7, 10],\n",
    "                      'learning_rate': [0.01],\n",
    "                      'gamma': [0.3, 0.1],\n",
    "                      'subsample': [0.8, 1],\n",
    "                      'colsample_bytree': [1]}\n",
    "\n",
    "## Performing grid search with 5 folds\n",
    "XGBoost_grid_search = GridSearchCV(XGBRegressor(), XGBoost_param_grid, cv = 5, scoring = 'neg_mean_squared_error').fit(X_train, Y_train)\n",
    "\n",
    "## Extracting the best hyper-parameter combination \n",
    "XGBoost_grid_search.best_params_"
   ]
  },
  {
   "cell_type": "code",
   "execution_count": 17,
   "id": "a82ec29b",
   "metadata": {},
   "outputs": [
    {
     "name": "stdout",
     "output_type": "stream",
     "text": [
      "171.86475165995137\n"
     ]
    },
    {
     "data": {
      "image/png": "[encoded data removed]",
      "text/plain": [
       "<Figure size 1080x576 with 1 Axes>"
      ]
     },
     "metadata": {
      "needs_background": "light"
     },
     "output_type": "display_data"
    }
   ],
   "source": [
    "XGBoost_md = XGBoost_grid_search.best_estimator_\n",
    "\n",
    "## Predicting on the test \n",
    "xgb_pred = XGBoost_md.predict(X_val)\n",
    "\n",
    "## Computing the mse\n",
    "print(mean_squared_error(Y_val, xgb_pred))\n",
    "\n",
    "## Creating a new figure\n",
    "plt.figure(figsize = (15, 8))\n",
    "\n",
    "plt.plot(train_data_sample['time'][13023:13059], train_data_sample['congestion'][13023:13059])\n",
    "plt.plot(train_data_sample['time'][13023:13059], xgb_pred)\n",
    "plt.xlabel('Date')\n",
    "plt.ylabel('Congestion Measure')\n",
    "plt.title('Visualizing Initial Predictions')\n",
    "plt.grid()\n",
    "plt.show()"
   ]
  }
 ],
 "metadata": {
  "kernelspec": {
   "display_name": "conda_python3",
   "language": "python",
   "name": "conda_python3"
  },
  "language_info": {
   "codemirror_mode": {
    "name": "ipython",
    "version": 3
   },
   "file_extension": ".py",
   "mimetype": "text/x-python",
   "name": "python",
   "nbconvert_exporter": "python",
   "pygments_lexer": "ipython3",
   "version": "3.6.13"
  }
 },
 "nbformat": 4,
 "nbformat_minor": 5
}
