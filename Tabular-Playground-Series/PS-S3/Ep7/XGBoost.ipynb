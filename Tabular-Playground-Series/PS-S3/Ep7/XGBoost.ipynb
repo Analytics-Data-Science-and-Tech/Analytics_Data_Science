{
 "cells": [
  {
   "cell_type": "code",
   "execution_count": 1,
   "id": "fb3079b6",
   "metadata": {},
   "outputs": [
    {
     "name": "stdout",
     "output_type": "stream",
     "text": [
      "Looking in indexes: https://pypi.org/simple, https://pip.repos.neuron.amazonaws.com\n",
      "Collecting xgboost\n",
      "  Downloading xgboost-1.7.4-py3-none-manylinux2014_x86_64.whl (193.6 MB)\n",
      "\u001b[2K     \u001b[90m━━━━━━━━━━━━━━━━━━━━━━━━━━━━━━━━━━━━━━━\u001b[0m \u001b[32m193.6/193.6 MB\u001b[0m \u001b[31m4.2 MB/s\u001b[0m eta \u001b[36m0:00:00\u001b[0m00:01\u001b[0m00:01\u001b[0m\n",
      "\u001b[?25hCollecting lightgbm\n",
      "  Downloading lightgbm-3.3.5-py3-none-manylinux1_x86_64.whl (2.0 MB)\n",
      "\u001b[2K     \u001b[90m━━━━━━━━━━━━━━━━━━━━━━━━━━━━━━━━━━━━━━━━\u001b[0m \u001b[32m2.0/2.0 MB\u001b[0m \u001b[31m25.3 MB/s\u001b[0m eta \u001b[36m0:00:00\u001b[0m:00:01\u001b[0m\n",
      "\u001b[?25hCollecting catboost\n",
      "  Downloading catboost-1.1.1-cp310-none-manylinux1_x86_64.whl (76.6 MB)\n",
      "\u001b[2K     \u001b[90m━━━━━━━━━━━━━━━━━━━━━━━━━━━━━━━━━━━━━━━━\u001b[0m \u001b[32m76.6/76.6 MB\u001b[0m \u001b[31m9.4 MB/s\u001b[0m eta \u001b[36m0:00:00\u001b[0m:00:01\u001b[0m00:01\u001b[0m\n",
      "\u001b[?25hCollecting optuna\n",
      "  Downloading optuna-3.1.0-py3-none-any.whl (365 kB)\n",
      "\u001b[2K     \u001b[90m━━━━━━━━━━━━━━━━━━━━━━━━━━━━━━━━━━━━━━━\u001b[0m \u001b[32m365.3/365.3 kB\u001b[0m \u001b[31m9.7 MB/s\u001b[0m eta \u001b[36m0:00:00\u001b[0m00:01\u001b[0m\n",
      "\u001b[?25hRequirement already satisfied: numpy in /home/ec2-user/anaconda3/envs/python3/lib/python3.10/site-packages (from xgboost) (1.22.4)\n",
      "Requirement already satisfied: scipy in /home/ec2-user/anaconda3/envs/python3/lib/python3.10/site-packages (from xgboost) (1.9.3)\n",
      "Requirement already satisfied: wheel in /home/ec2-user/anaconda3/envs/python3/lib/python3.10/site-packages (from lightgbm) (0.37.1)\n",
      "Requirement already satisfied: scikit-learn!=0.22.0 in /home/ec2-user/anaconda3/envs/python3/lib/python3.10/site-packages (from lightgbm) (1.1.3)\n",
      "Requirement already satisfied: matplotlib in /home/ec2-user/anaconda3/envs/python3/lib/python3.10/site-packages (from catboost) (3.6.1)\n",
      "Collecting graphviz\n",
      "  Downloading graphviz-0.20.1-py3-none-any.whl (47 kB)\n",
      "\u001b[2K     \u001b[90m━━━━━━━━━━━━━━━━━━━━━━━━━━━━━━━━━━━━━━━━\u001b[0m \u001b[32m47.0/47.0 kB\u001b[0m \u001b[31m8.1 MB/s\u001b[0m eta \u001b[36m0:00:00\u001b[0m\n",
      "\u001b[?25hRequirement already satisfied: plotly in /home/ec2-user/anaconda3/envs/python3/lib/python3.10/site-packages (from catboost) (5.11.0)\n",
      "Requirement already satisfied: six in /home/ec2-user/anaconda3/envs/python3/lib/python3.10/site-packages (from catboost) (1.16.0)\n",
      "Requirement already satisfied: pandas>=0.24.0 in /home/ec2-user/anaconda3/envs/python3/lib/python3.10/site-packages (from catboost) (1.5.1)\n",
      "Requirement already satisfied: tqdm in /home/ec2-user/anaconda3/envs/python3/lib/python3.10/site-packages (from optuna) (4.64.1)\n",
      "Requirement already satisfied: sqlalchemy>=1.3.0 in /home/ec2-user/anaconda3/envs/python3/lib/python3.10/site-packages (from optuna) (1.4.42)\n",
      "Requirement already satisfied: PyYAML in /home/ec2-user/anaconda3/envs/python3/lib/python3.10/site-packages (from optuna) (5.4.1)\n",
      "Collecting colorlog\n",
      "  Downloading colorlog-6.7.0-py2.py3-none-any.whl (11 kB)\n",
      "Collecting cmaes>=0.9.1\n",
      "  Downloading cmaes-0.9.1-py3-none-any.whl (21 kB)\n",
      "Requirement already satisfied: packaging>=20.0 in /home/ec2-user/anaconda3/envs/python3/lib/python3.10/site-packages (from optuna) (21.3)\n",
      "Collecting alembic>=1.5.0\n",
      "  Downloading alembic-1.9.4-py3-none-any.whl (210 kB)\n",
      "\u001b[2K     \u001b[90m━━━━━━━━━━━━━━━━━━━━━━━━━━━━━━━━━━━━━━\u001b[0m \u001b[32m210.5/210.5 kB\u001b[0m \u001b[31m29.2 MB/s\u001b[0m eta \u001b[36m0:00:00\u001b[0m\n",
      "\u001b[?25hCollecting Mako\n",
      "  Downloading Mako-1.2.4-py3-none-any.whl (78 kB)\n",
      "\u001b[2K     \u001b[90m━━━━━━━━━━━━━━━━━━━━━━━━━━━━━━━━━━━━━━━━\u001b[0m \u001b[32m78.7/78.7 kB\u001b[0m \u001b[31m13.7 MB/s\u001b[0m eta \u001b[36m0:00:00\u001b[0m\n",
      "\u001b[?25hRequirement already satisfied: pyparsing!=3.0.5,>=2.0.2 in /home/ec2-user/anaconda3/envs/python3/lib/python3.10/site-packages (from packaging>=20.0->optuna) (3.0.9)\n",
      "Requirement already satisfied: python-dateutil>=2.8.1 in /home/ec2-user/anaconda3/envs/python3/lib/python3.10/site-packages (from pandas>=0.24.0->catboost) (2.8.2)\n",
      "Requirement already satisfied: pytz>=2020.1 in /home/ec2-user/anaconda3/envs/python3/lib/python3.10/site-packages (from pandas>=0.24.0->catboost) (2022.5)\n",
      "Requirement already satisfied: threadpoolctl>=2.0.0 in /home/ec2-user/anaconda3/envs/python3/lib/python3.10/site-packages (from scikit-learn!=0.22.0->lightgbm) (3.1.0)\n",
      "Requirement already satisfied: joblib>=1.0.0 in /home/ec2-user/anaconda3/envs/python3/lib/python3.10/site-packages (from scikit-learn!=0.22.0->lightgbm) (1.2.0)\n",
      "Requirement already satisfied: greenlet!=0.4.17 in /home/ec2-user/anaconda3/envs/python3/lib/python3.10/site-packages (from sqlalchemy>=1.3.0->optuna) (1.1.3.post0)\n",
      "Requirement already satisfied: fonttools>=4.22.0 in /home/ec2-user/anaconda3/envs/python3/lib/python3.10/site-packages (from matplotlib->catboost) (4.38.0)\n",
      "Requirement already satisfied: cycler>=0.10 in /home/ec2-user/anaconda3/envs/python3/lib/python3.10/site-packages (from matplotlib->catboost) (0.11.0)\n",
      "Requirement already satisfied: kiwisolver>=1.0.1 in /home/ec2-user/anaconda3/envs/python3/lib/python3.10/site-packages (from matplotlib->catboost) (1.4.4)\n",
      "Requirement already satisfied: pillow>=6.2.0 in /home/ec2-user/anaconda3/envs/python3/lib/python3.10/site-packages (from matplotlib->catboost) (9.2.0)\n",
      "Requirement already satisfied: contourpy>=1.0.1 in /home/ec2-user/anaconda3/envs/python3/lib/python3.10/site-packages (from matplotlib->catboost) (1.0.6)\n",
      "Requirement already satisfied: tenacity>=6.2.0 in /home/ec2-user/anaconda3/envs/python3/lib/python3.10/site-packages (from plotly->catboost) (8.1.0)\n",
      "Requirement already satisfied: MarkupSafe>=0.9.2 in /home/ec2-user/anaconda3/envs/python3/lib/python3.10/site-packages (from Mako->alembic>=1.5.0->optuna) (2.1.1)\n",
      "Installing collected packages: Mako, graphviz, colorlog, cmaes, xgboost, alembic, optuna, lightgbm, catboost\n",
      "Successfully installed Mako-1.2.4 alembic-1.9.4 catboost-1.1.1 cmaes-0.9.1 colorlog-6.7.0 graphviz-0.20.1 lightgbm-3.3.5 optuna-3.1.0 xgboost-1.7.4\n",
      "Note: you may need to restart the kernel to use updated packages.\n"
     ]
    }
   ],
   "source": [
    "pip install xgboost lightgbm catboost optuna"
   ]
  },
  {
   "cell_type": "code",
   "execution_count": 3,
   "id": "17269fb5",
   "metadata": {},
   "outputs": [],
   "source": [
    "import boto3\n",
    "import pandas as pd; pd.set_option('display.max_columns', 100)\n",
    "import numpy as np\n",
    "\n",
    "import matplotlib.pyplot as plt; plt.style.use('ggplot')\n",
    "import seaborn as sns\n",
    "\n",
    "from scipy.stats import rankdata\n",
    "from sklearn.multiclass import OneVsRestClassifier\n",
    "from sklearn.tree import DecisionTreeRegressor, DecisionTreeClassifier, plot_tree\n",
    "from sklearn.preprocessing import MinMaxScaler\n",
    "from sklearn.model_selection import KFold, train_test_split, GridSearchCV, StratifiedKFold, TimeSeriesSplit\n",
    "from sklearn.metrics import mean_squared_error, roc_auc_score\n",
    "from sklearn.neighbors import KNeighborsClassifier\n",
    "from sklearn.ensemble import RandomForestClassifier, HistGradientBoostingClassifier\n",
    "from sklearn.linear_model import LogisticRegression\n",
    "from lightgbm import LGBMClassifier\n",
    "from xgboost import XGBClassifier\n",
    "from catboost import CatBoostClassifier\n",
    "\n",
    "import optuna \n",
    "\n",
    "s3 = boto3.resource('s3')\n",
    "bucket_name = 'analytics-data-science-competitions'\n",
    "bucket = s3.Bucket(bucket_name)\n",
    "\n",
    "file_key_1 = 'Tabular-Playground-Series/PS-S3/Ep7/train.csv'\n",
    "file_key_2 = 'Tabular-Playground-Series/PS-S3/Ep7/test.csv'\n",
    "file_key_3 = 'Tabular-Playground-Series/PS-S3/Ep7/sample_submission.csv'\n",
    "\n",
    "bucket_object_1 = bucket.Object(file_key_1)\n",
    "file_object_1 = bucket_object_1.get()\n",
    "file_content_stream_1 = file_object_1.get('Body')\n",
    "\n",
    "bucket_object_2 = bucket.Object(file_key_2)\n",
    "file_object_2 = bucket_object_2.get()\n",
    "file_content_stream_2 = file_object_2.get('Body')\n",
    "\n",
    "bucket_object_3 = bucket.Object(file_key_3)\n",
    "file_object_3 = bucket_object_3.get()\n",
    "file_content_stream_3 = file_object_3.get('Body')\n",
    "\n",
    "## Reading data files\n",
    "train = pd.read_csv(file_content_stream_1)\n",
    "test = pd.read_csv(file_content_stream_2)\n",
    "submission = pd.read_csv(file_content_stream_3)\n",
    "\n",
    "## Fixing dates (https://www.kaggle.com/competitions/playground-series-s3e7/discussion/386655)\n",
    "train['arrival_year_month'] = pd.to_datetime(train['arrival_year'].astype(str) + train['arrival_month'].astype(str), format = '%Y%m')\n",
    "test['arrival_year_month'] = pd.to_datetime(test['arrival_year'].astype(str) + test['arrival_month'].astype(str), format = '%Y%m')\n",
    "\n",
    "train.loc[train.arrival_date > train.arrival_year_month.dt.days_in_month, 'arrival_date'] = train.arrival_year_month.dt.days_in_month\n",
    "test.loc[test.arrival_date > test.arrival_year_month.dt.days_in_month, 'arrival_date'] = test.arrival_year_month.dt.days_in_month\n",
    "\n",
    "train.drop(columns = 'arrival_year_month', inplace = True)\n",
    "test.drop(columns = 'arrival_year_month', inplace = True)\n",
    "\n",
    "train['low_price_flag'] = np.where(train['avg_price_per_room'] < 30, 1, 0)\n",
    "train['segment_0'] = np.where(train['market_segment_type'] == 0, 1, 0)\n",
    "train['segment_1'] = np.where(train['market_segment_type'] == 1, 1, 0)\n",
    "train['total_guests'] = train['no_of_adults'] + train['no_of_children']\n",
    "train['stay_length'] = train['no_of_weekend_nights'] + train['no_of_week_nights']\n",
    "train['stay_during_weekend'] = np.where(train['no_of_weekend_nights'] > 0, 1, 0)\n",
    "train['quarter_1'] = np.where(train['arrival_month'] <= 3, 1, 0)\n",
    "train['quarter_2'] = np.where(((train['arrival_month'] >= 4) & (train['arrival_month'] <= 6)), 1, 0)\n",
    "train['quarter_3'] = np.where(((train['arrival_month'] >= 7) & (train['arrival_month'] <= 9)), 1, 0)\n",
    "train['quarter_4'] = np.where(train['arrival_month'] >= 10, 1, 0)\n",
    "train['segment_0_feature_1'] = np.where(((train['market_segment_type'] == 0) & (train['lead_time'] <= 90)), 1, 0)\n",
    "train['segment_0_feature_2'] = np.where(((train['market_segment_type'] == 0) & (train['avg_price_per_room'] > 98)), 1, 0)\n",
    "train['segment_1_feature_1'] = np.where(((train['market_segment_type'] == 1) & (train['no_of_special_requests'] == 0)), 1, 0)\n",
    "train['segment_1_feature_2'] = np.where(((train['market_segment_type'] == 1) & (train['no_of_special_requests'] > 0) & (train['lead_time'] <= 150)), 1, 0)\n",
    "train['segment_0_year_flag'] = np.where(((train['market_segment_type'] == 0) & (train['arrival_year'] == 2018)), 1, 0)\n",
    "train['segment_1_year_flag'] = np.where(((train['market_segment_type'] == 1) & (train['arrival_year'] == 2018)), 1, 0)\n",
    "train['price_lead_time_flag'] = np.where(((train['avg_price_per_room'] > 100) & (train['lead_time'] > 150)), 1, 0)\n",
    "\n",
    "test['low_price_flag'] = np.where(test['avg_price_per_room'] < 30, 1, 0)\n",
    "test['segment_0'] = np.where(test['market_segment_type'] == 0, 1, 0)\n",
    "test['segment_1'] = np.where(test['market_segment_type'] == 1, 1, 0)\n",
    "test['total_guests'] = test['no_of_adults'] + test['no_of_children']\n",
    "test['stay_length'] = test['no_of_weekend_nights'] + test['no_of_week_nights']\n",
    "test['stay_during_weekend'] = np.where(test['no_of_weekend_nights'] > 0, 1, 0)\n",
    "test['quarter_1'] = np.where(test['arrival_month'] <= 3, 1, 0)\n",
    "test['quarter_2'] = np.where(((test['arrival_month'] >= 4) & (test['arrival_month'] <= 6)), 1, 0)\n",
    "test['quarter_3'] = np.where(((test['arrival_month'] >= 7) & (test['arrival_month'] <= 9)), 1, 0)\n",
    "test['quarter_4'] = np.where(test['arrival_month'] >= 10, 1, 0)\n",
    "test['segment_0_feature_1'] = np.where(((test['market_segment_type'] == 0) & (test['lead_time'] <= 90)), 1, 0)\n",
    "test['segment_0_feature_2'] = np.where(((test['market_segment_type'] == 0) & (test['avg_price_per_room'] > 98)), 1, 0)\n",
    "test['segment_1_feature_1'] = np.where(((test['market_segment_type'] == 1) & (test['no_of_special_requests'] == 0)), 1, 0)\n",
    "test['segment_1_feature_2'] = np.where(((test['market_segment_type'] == 1) & (test['no_of_special_requests'] > 0) & (test['lead_time'] <= 150)), 1, 0)\n",
    "test['segment_0_year_flag'] = np.where(((test['market_segment_type'] == 0) & (test['arrival_year'] == 2018)), 1, 0)\n",
    "test['segment_1_year_flag'] = np.where(((test['market_segment_type'] == 1) & (test['arrival_year'] == 2018)), 1, 0)\n",
    "test['price_lead_time_flag'] = np.where(((test['avg_price_per_room'] > 100) & (test['lead_time'] > 150)), 1, 0)"
   ]
  },
  {
   "cell_type": "code",
   "execution_count": 4,
   "id": "8f3a3d52",
   "metadata": {},
   "outputs": [],
   "source": [
    "train_lgb = train.copy()\n",
    "test_lgb = test.copy()\n",
    "\n",
    "# X = train_lgb[['avg_price_per_room', 'lead_time', 'segment_0', 'segment_1', 'total_guests', 'stay_length', 'stay_during_weekend', 'quarter_1', 'quarter_2', 'quarter_3', 'quarter_4', 'segment_0_feature_1', 'segment_0_feature_2', 'segment_1_feature_1', 'segment_1_feature_2', 'segment_0_year_flag', 'segment_1_year_flag']]\n",
    "# Y = train_lgb['booking_status']\n",
    "\n",
    "# test_lgb = test_lgb[['avg_price_per_room', 'lead_time', 'segment_0', 'segment_1', 'total_guests', 'stay_length', 'stay_during_weekend', 'quarter_1', 'quarter_2', 'quarter_3', 'quarter_4', 'segment_0_feature_1', 'segment_0_feature_2', 'segment_1_feature_1', 'segment_1_feature_2', 'segment_0_year_flag', 'segment_1_year_flag']]\n",
    "\n",
    "# X = train_lgb[['avg_price_per_room', 'lead_time', 'total_guests', 'stay_length', 'segment_0_feature_1', 'segment_1_feature_1']]\n",
    "X = train_lgb[['avg_price_per_room', 'lead_time', 'total_guests', 'stay_length', 'arrival_year', 'arrival_month', 'arrival_date', 'market_segment_type', 'repeated_guest', 'no_of_special_requests']]\n",
    "Y = train_lgb['booking_status']\n",
    "\n",
    "test_lgb = test_lgb[['avg_price_per_room', 'lead_time', 'total_guests', 'stay_length', 'arrival_year', 'arrival_month', 'arrival_date', 'market_segment_type', 'repeated_guest', 'no_of_special_requests']]"
   ]
  },
  {
   "cell_type": "markdown",
   "id": "2b2d9099",
   "metadata": {},
   "source": [
    "# Optuna Optimization"
   ]
  },
  {
   "cell_type": "code",
   "execution_count": 5,
   "id": "245cd48f",
   "metadata": {},
   "outputs": [
    {
     "name": "stderr",
     "output_type": "stream",
     "text": [
      "\u001b[32m[I 2023-02-19 02:32:51,764]\u001b[0m A new study created in memory with name: no-name-fb8584a4-2a0a-476e-8278-d7e500f0d877\u001b[0m\n",
      "\u001b[32m[I 2023-02-19 02:33:41,993]\u001b[0m Trial 0 finished with value: 0.8881790989531325 and parameters: {'max_depth': 6, 'learning_rate': 0.04275467501629567, 'n_estimators': 9647, 'gamma': 2.321478591011613, 'min_child_weight': 49, 'colsample_bytree': 0.6498403516063882, 'subsample': 0.23602680721719863}. Best is trial 0 with value: 0.8881790989531325.\u001b[0m\n",
      "\u001b[32m[I 2023-02-19 02:33:48,195]\u001b[0m Trial 1 finished with value: 0.8845307099931083 and parameters: {'max_depth': 8, 'learning_rate': 0.08267476702882781, 'n_estimators': 2217, 'gamma': 7.346044515107424, 'min_child_weight': 48, 'colsample_bytree': 0.6111416555673739, 'subsample': 0.8431663211881644}. Best is trial 0 with value: 0.8881790989531325.\u001b[0m\n",
      "\u001b[32m[I 2023-02-19 02:34:17,165]\u001b[0m Trial 2 finished with value: 0.8874293877424867 and parameters: {'max_depth': 5, 'learning_rate': 0.035575291107396476, 'n_estimators': 7283, 'gamma': 2.098199936561093, 'min_child_weight': 97, 'colsample_bytree': 0.5929833676703574, 'subsample': 0.6047585575752374}. Best is trial 0 with value: 0.8881790989531325.\u001b[0m\n",
      "\u001b[32m[I 2023-02-19 02:34:32,720]\u001b[0m Trial 3 finished with value: 0.8885648530482957 and parameters: {'max_depth': 9, 'learning_rate': 0.03156846394999144, 'n_estimators': 2463, 'gamma': 2.9114208206335537, 'min_child_weight': 28, 'colsample_bytree': 0.8469939635204724, 'subsample': 0.24213522059137016}. Best is trial 3 with value: 0.8885648530482957.\u001b[0m\n",
      "\u001b[32m[I 2023-02-19 02:34:48,374]\u001b[0m Trial 4 finished with value: 0.8948417997919155 and parameters: {'max_depth': 7, 'learning_rate': 0.02124907090565521, 'n_estimators': 3271, 'gamma': 1.257889320472586, 'min_child_weight': 6, 'colsample_bytree': 0.22576171684963292, 'subsample': 0.771657413224065}. Best is trial 4 with value: 0.8948417997919155.\u001b[0m\n",
      "\u001b[32m[I 2023-02-19 02:35:40,370]\u001b[0m Trial 5 finished with value: 0.8667149392563903 and parameters: {'max_depth': 7, 'learning_rate': 0.0006479441801460794, 'n_estimators': 6756, 'gamma': 0.7589901113136599, 'min_child_weight': 84, 'colsample_bytree': 0.5461477962801065, 'subsample': 0.21411334384912165}. Best is trial 4 with value: 0.8948417997919155.\u001b[0m\n",
      "\u001b[32m[I 2023-02-19 02:35:44,733]\u001b[0m Trial 6 finished with value: 0.8806312494942519 and parameters: {'max_depth': 3, 'learning_rate': 0.04156710315758096, 'n_estimators': 863, 'gamma': 0.1442132646015648, 'min_child_weight': 49, 'colsample_bytree': 0.30530563625560325, 'subsample': 0.3178882076845319}. Best is trial 4 with value: 0.8948417997919155.\u001b[0m\n",
      "\u001b[32m[I 2023-02-19 02:36:29,658]\u001b[0m Trial 7 finished with value: 0.8722020583756448 and parameters: {'max_depth': 6, 'learning_rate': 0.0012982123698337818, 'n_estimators': 9024, 'gamma': 5.453962967723035, 'min_child_weight': 73, 'colsample_bytree': 0.29133579397031384, 'subsample': 0.4674599843359889}. Best is trial 4 with value: 0.8948417997919155.\u001b[0m\n",
      "\u001b[32m[I 2023-02-19 02:36:48,276]\u001b[0m Trial 8 finished with value: 0.8769577173473042 and parameters: {'max_depth': 10, 'learning_rate': 0.00043196279296157605, 'n_estimators': 2259, 'gamma': 4.872472317368427, 'min_child_weight': 8, 'colsample_bytree': 0.41943608799701204, 'subsample': 0.6261695355398342}. Best is trial 4 with value: 0.8948417997919155.\u001b[0m\n",
      "\u001b[32m[I 2023-02-19 02:36:52,525]\u001b[0m Trial 9 finished with value: 0.8830818395720877 and parameters: {'max_depth': 8, 'learning_rate': 0.010392944066551505, 'n_estimators': 812, 'gamma': 8.947927185674343, 'min_child_weight': 26, 'colsample_bytree': 0.6099295707865207, 'subsample': 0.6474335794997965}. Best is trial 4 with value: 0.8948417997919155.\u001b[0m\n",
      "\u001b[32m[I 2023-02-19 02:37:06,187]\u001b[0m Trial 10 finished with value: 0.872112930263149 and parameters: {'max_depth': 2, 'learning_rate': 0.0047995477970444326, 'n_estimators': 4310, 'gamma': 3.949863621517765, 'min_child_weight': 4, 'colsample_bytree': 0.2281523359003481, 'subsample': 0.8967870945287588}. Best is trial 4 with value: 0.8948417997919155.\u001b[0m\n",
      "\u001b[32m[I 2023-02-19 02:37:26,011]\u001b[0m Trial 11 finished with value: 0.8917998539765687 and parameters: {'max_depth': 10, 'learning_rate': 0.008423378995784603, 'n_estimators': 4141, 'gamma': 2.859392569571331, 'min_child_weight': 23, 'colsample_bytree': 0.893515117436813, 'subsample': 0.4772473043714551}. Best is trial 4 with value: 0.8948417997919155.\u001b[0m\n",
      "\u001b[32m[I 2023-02-19 02:38:16,013]\u001b[0m Trial 12 finished with value: 0.8821311112701412 and parameters: {'max_depth': 10, 'learning_rate': 0.00013536028079740785, 'n_estimators': 4458, 'gamma': 1.353575573712683, 'min_child_weight': 24, 'colsample_bytree': 0.7980321835841091, 'subsample': 0.7304324159091423}. Best is trial 4 with value: 0.8948417997919155.\u001b[0m\n",
      "\u001b[32m[I 2023-02-19 02:38:38,537]\u001b[0m Trial 13 finished with value: 0.8912455909821837 and parameters: {'max_depth': 4, 'learning_rate': 0.008927464636552163, 'n_estimators': 5813, 'gamma': 3.0784477280821343, 'min_child_weight': 14, 'colsample_bytree': 0.7579852936872522, 'subsample': 0.47146967234996695}. Best is trial 4 with value: 0.8948417997919155.\u001b[0m\n",
      "\u001b[32m[I 2023-02-19 02:38:59,697]\u001b[0m Trial 14 finished with value: 0.8933718982786913 and parameters: {'max_depth': 9, 'learning_rate': 0.011166695027928086, 'n_estimators': 3523, 'gamma': 1.1997324601968666, 'min_child_weight': 31, 'colsample_bytree': 0.8947495906127447, 'subsample': 0.7611860301424337}. Best is trial 4 with value: 0.8948417997919155.\u001b[0m\n",
      "\u001b[32m[I 2023-02-19 02:39:24,360]\u001b[0m Trial 15 finished with value: 0.8903798518897998 and parameters: {'max_depth': 8, 'learning_rate': 0.0025164841979779685, 'n_estimators': 3225, 'gamma': 0.4375760801130071, 'min_child_weight': 34, 'colsample_bytree': 0.48643933111914783, 'subsample': 0.7723820482677547}. Best is trial 4 with value: 0.8948417997919155.\u001b[0m\n",
      "\u001b[32m[I 2023-02-19 02:39:48,217]\u001b[0m Trial 16 finished with value: 0.8954926134625184 and parameters: {'max_depth': 7, 'learning_rate': 0.014556997228302174, 'n_estimators': 5774, 'gamma': 1.4024131723421704, 'min_child_weight': 2, 'colsample_bytree': 0.719714513398779, 'subsample': 0.7511786213516047}. Best is trial 16 with value: 0.8954926134625184.\u001b[0m\n",
      "\u001b[32m[I 2023-02-19 02:40:18,964]\u001b[0m Trial 17 finished with value: 0.8943163131733518 and parameters: {'max_depth': 5, 'learning_rate': 0.014763674579435657, 'n_estimators': 5661, 'gamma': 0.027092393637943024, 'min_child_weight': 2, 'colsample_bytree': 0.6966912693056658, 'subsample': 0.7099091801575906}. Best is trial 16 with value: 0.8954926134625184.\u001b[0m\n",
      "\u001b[32m[I 2023-02-19 02:41:02,331]\u001b[0m Trial 18 finished with value: 0.8892101606195457 and parameters: {'max_depth': 7, 'learning_rate': 0.0035851120328191798, 'n_estimators': 8287, 'gamma': 1.6660743148672088, 'min_child_weight': 62, 'colsample_bytree': 0.4112610614677312, 'subsample': 0.8167064420550495}. Best is trial 16 with value: 0.8954926134625184.\u001b[0m\n",
      "\u001b[32m[I 2023-02-19 02:41:19,546]\u001b[0m Trial 19 finished with value: 0.8944352558766221 and parameters: {'max_depth': 6, 'learning_rate': 0.019500388987605772, 'n_estimators': 5632, 'gamma': 1.2635736522128402, 'min_child_weight': 15, 'colsample_bytree': 0.712761653160797, 'subsample': 0.8964119523719758}. Best is trial 16 with value: 0.8954926134625184.\u001b[0m\n",
      "\u001b[32m[I 2023-02-19 02:41:37,892]\u001b[0m Trial 20 finished with value: 0.8885817172975047 and parameters: {'max_depth': 7, 'learning_rate': 0.021036052353825822, 'n_estimators': 7002, 'gamma': 4.002372752876741, 'min_child_weight': 40, 'colsample_bytree': 0.5404773225187876, 'subsample': 0.7002795716032204}. Best is trial 16 with value: 0.8954926134625184.\u001b[0m\n",
      "\u001b[32m[I 2023-02-19 02:41:51,541]\u001b[0m Trial 21 finished with value: 0.8946118744072324 and parameters: {'max_depth': 5, 'learning_rate': 0.0888159815758938, 'n_estimators': 5526, 'gamma': 1.65961458808638, 'min_child_weight': 13, 'colsample_bytree': 0.7233508875045938, 'subsample': 0.8665626486993783}. Best is trial 16 with value: 0.8954926134625184.\u001b[0m\n",
      "\u001b[32m[I 2023-02-19 02:42:07,476]\u001b[0m Trial 22 finished with value: 0.8940276274686004 and parameters: {'max_depth': 5, 'learning_rate': 0.09459716118422087, 'n_estimators': 6184, 'gamma': 2.1292119212933995, 'min_child_weight': 15, 'colsample_bytree': 0.7619068584302251, 'subsample': 0.8228359745337896}. Best is trial 16 with value: 0.8954926134625184.\u001b[0m\n",
      "\u001b[32m[I 2023-02-19 02:42:26,404]\u001b[0m Trial 23 finished with value: 0.8929109161252298 and parameters: {'max_depth': 4, 'learning_rate': 0.06275626408394558, 'n_estimators': 5171, 'gamma': 0.9183205275973094, 'min_child_weight': 1, 'colsample_bytree': 0.6779884769155998, 'subsample': 0.7820232607561762}. Best is trial 16 with value: 0.8954926134625184.\u001b[0m\n",
      "\u001b[32m[I 2023-02-19 02:42:46,318]\u001b[0m Trial 24 finished with value: 0.8946996535054625 and parameters: {'max_depth': 6, 'learning_rate': 0.09972896333587858, 'n_estimators': 7887, 'gamma': 1.7281953366461924, 'min_child_weight': 13, 'colsample_bytree': 0.7442970565109855, 'subsample': 0.8444379000267912}. Best is trial 16 with value: 0.8954926134625184.\u001b[0m\n",
      "\u001b[32m[I 2023-02-19 02:43:26,599]\u001b[0m Trial 25 finished with value: 0.8904096179326182 and parameters: {'max_depth': 7, 'learning_rate': 0.023321580718845217, 'n_estimators': 7988, 'gamma': 0.6967509349657213, 'min_child_weight': 19, 'colsample_bytree': 0.8016993130848512, 'subsample': 0.8250297253254101}. Best is trial 16 with value: 0.8954926134625184.\u001b[0m\n",
      "\u001b[32m[I 2023-02-19 02:44:19,628]\u001b[0m Trial 26 finished with value: 0.8783296139660486 and parameters: {'max_depth': 6, 'learning_rate': 0.053466049486274654, 'n_estimators': 7742, 'gamma': 0.08376714025724574, 'min_child_weight': 10, 'colsample_bytree': 0.6834584076386147, 'subsample': 0.6781505028115096}. Best is trial 16 with value: 0.8954926134625184.\u001b[0m\n",
      "\u001b[32m[I 2023-02-19 02:44:43,005]\u001b[0m Trial 27 finished with value: 0.8902733604540771 and parameters: {'max_depth': 8, 'learning_rate': 0.02665757393037726, 'n_estimators': 8521, 'gamma': 2.2486097929260227, 'min_child_weight': 40, 'colsample_bytree': 0.20252085318514224, 'subsample': 0.7515950225555583}. Best is trial 16 with value: 0.8954926134625184.\u001b[0m\n",
      "\u001b[32m[I 2023-02-19 02:45:01,925]\u001b[0m Trial 28 finished with value: 0.8955357864600787 and parameters: {'max_depth': 7, 'learning_rate': 0.047384282621727274, 'n_estimators': 6715, 'gamma': 1.592889899616253, 'min_child_weight': 8, 'colsample_bytree': 0.6423372093850683, 'subsample': 0.7904995050175238}. Best is trial 28 with value: 0.8955357864600787.\u001b[0m\n",
      "\u001b[32m[I 2023-02-19 02:45:26,031]\u001b[0m Trial 29 finished with value: 0.8896154391845259 and parameters: {'max_depth': 9, 'learning_rate': 0.04639887843746214, 'n_estimators': 9685, 'gamma': 2.5060105396815606, 'min_child_weight': 62, 'colsample_bytree': 0.6651671246501725, 'subsample': 0.792527453501452}. Best is trial 28 with value: 0.8955357864600787.\u001b[0m\n",
      "\u001b[32m[I 2023-02-19 02:46:02,647]\u001b[0m Trial 30 finished with value: 0.8932132884395505 and parameters: {'max_depth': 7, 'learning_rate': 0.014676336091716884, 'n_estimators': 6482, 'gamma': 0.871843776670199, 'min_child_weight': 7, 'colsample_bytree': 0.6543190963632318, 'subsample': 0.7247442297250147}. Best is trial 28 with value: 0.8955357864600787.\u001b[0m\n",
      "\u001b[32m[I 2023-02-19 02:46:23,092]\u001b[0m Trial 31 finished with value: 0.8951862393904861 and parameters: {'max_depth': 6, 'learning_rate': 0.05388277532724365, 'n_estimators': 7303, 'gamma': 1.69344388702285, 'min_child_weight': 1, 'colsample_bytree': 0.6308086828514652, 'subsample': 0.8540253874123547}. Best is trial 28 with value: 0.8955357864600787.\u001b[0m\n",
      "\u001b[32m[I 2023-02-19 02:46:38,531]\u001b[0m Trial 32 finished with value: 0.8952361604336069 and parameters: {'max_depth': 8, 'learning_rate': 0.05705696314409603, 'n_estimators': 4973, 'gamma': 1.6190966744154867, 'min_child_weight': 1, 'colsample_bytree': 0.6266748905230045, 'subsample': 0.7947133622789103}. Best is trial 28 with value: 0.8955357864600787.\u001b[0m\n",
      "\u001b[32m[I 2023-02-19 02:46:50,574]\u001b[0m Trial 33 finished with value: 0.8944925760767217 and parameters: {'max_depth': 8, 'learning_rate': 0.056837224406284546, 'n_estimators': 4798, 'gamma': 2.1960783101524455, 'min_child_weight': 1, 'colsample_bytree': 0.633895684841591, 'subsample': 0.8599487258556991}. Best is trial 28 with value: 0.8955357864600787.\u001b[0m\n",
      "\u001b[32m[I 2023-02-19 02:47:13,542]\u001b[0m Trial 34 finished with value: 0.892219283162697 and parameters: {'max_depth': 8, 'learning_rate': 0.03516260698191129, 'n_estimators': 7319, 'gamma': 3.0247617224627703, 'min_child_weight': 22, 'colsample_bytree': 0.5896464153616735, 'subsample': 0.8054818524636254}. Best is trial 28 with value: 0.8955357864600787.\u001b[0m\n",
      "\u001b[32m[I 2023-02-19 02:47:41,035]\u001b[0m Trial 35 finished with value: 0.893865205450935 and parameters: {'max_depth': 9, 'learning_rate': 0.06399149153391948, 'n_estimators': 8962, 'gamma': 1.7477081246275992, 'min_child_weight': 19, 'colsample_bytree': 0.586866341133546, 'subsample': 0.6711324006705285}. Best is trial 28 with value: 0.8955357864600787.\u001b[0m\n",
      "\u001b[32m[I 2023-02-19 02:48:16,454]\u001b[0m Trial 36 finished with value: 0.8870322104929969 and parameters: {'max_depth': 6, 'learning_rate': 0.03365288957461081, 'n_estimators': 6095, 'gamma': 0.5229206218715565, 'min_child_weight': 8, 'colsample_bytree': 0.6602893136844176, 'subsample': 0.7385027504736743}. Best is trial 28 with value: 0.8955357864600787.\u001b[0m\n",
      "\u001b[32m[I 2023-02-19 02:48:34,280]\u001b[0m Trial 37 finished with value: 0.8862765820623251 and parameters: {'max_depth': 7, 'learning_rate': 0.03987969278460736, 'n_estimators': 7366, 'gamma': 2.5757038689400558, 'min_child_weight': 88, 'colsample_bytree': 0.6125324486739789, 'subsample': 0.8588053485780253}. Best is trial 28 with value: 0.8955357864600787.\u001b[0m\n",
      "\u001b[32m[I 2023-02-19 02:48:59,075]\u001b[0m Trial 38 finished with value: 0.8925868333243046 and parameters: {'max_depth': 4, 'learning_rate': 0.06699670554921965, 'n_estimators': 6758, 'gamma': 1.0272494338197609, 'min_child_weight': 6, 'colsample_bytree': 0.711240497753524, 'subsample': 0.7906143834871627}. Best is trial 28 with value: 0.8955357864600787.\u001b[0m\n",
      "\u001b[32m[I 2023-02-19 02:49:14,235]\u001b[0m Trial 39 finished with value: 0.8875409111136378 and parameters: {'max_depth': 7, 'learning_rate': 0.02949603456779746, 'n_estimators': 4908, 'gamma': 3.4560121052367094, 'min_child_weight': 56, 'colsample_bytree': 0.6429958247082311, 'subsample': 0.5793797907175571}. Best is trial 28 with value: 0.8955357864600787.\u001b[0m\n",
      "\u001b[32m[I 2023-02-19 02:49:31,943]\u001b[0m Trial 40 finished with value: 0.8948100886857364 and parameters: {'max_depth': 9, 'learning_rate': 0.044892538074437105, 'n_estimators': 6317, 'gamma': 1.877655202593623, 'min_child_weight': 18, 'colsample_bytree': 0.5669673886309973, 'subsample': 0.7523285769027471}. Best is trial 28 with value: 0.8955357864600787.\u001b[0m\n",
      "\u001b[32m[I 2023-02-19 02:49:42,433]\u001b[0m Trial 41 finished with value: 0.8954255096260114 and parameters: {'max_depth': 7, 'learning_rate': 0.02762050772952691, 'n_estimators': 2772, 'gamma': 1.3488223299220294, 'min_child_weight': 9, 'colsample_bytree': 0.5311352986476159, 'subsample': 0.8074347472591514}. Best is trial 28 with value: 0.8955357864600787.\u001b[0m\n",
      "\u001b[32m[I 2023-02-19 02:49:51,731]\u001b[0m Trial 42 finished with value: 0.8955035247610809 and parameters: {'max_depth': 8, 'learning_rate': 0.030425582074372064, 'n_estimators': 2674, 'gamma': 1.5351701972432295, 'min_child_weight': 1, 'colsample_bytree': 0.5534150667825957, 'subsample': 0.826582639158765}. Best is trial 28 with value: 0.8955357864600787.\u001b[0m\n",
      "\u001b[32m[I 2023-02-19 02:49:52,437]\u001b[0m Trial 43 finished with value: 0.8820403219478805 and parameters: {'max_depth': 8, 'learning_rate': 0.029549378028766, 'n_estimators': 48, 'gamma': 0.5767508281102157, 'min_child_weight': 10, 'colsample_bytree': 0.5199088593358123, 'subsample': 0.8055612490907215}. Best is trial 28 with value: 0.8955357864600787.\u001b[0m\n",
      "\u001b[32m[I 2023-02-19 02:50:07,864]\u001b[0m Trial 44 finished with value: 0.8953549418661574 and parameters: {'max_depth': 7, 'learning_rate': 0.016375556706459696, 'n_estimators': 1654, 'gamma': 1.3019792525437177, 'min_child_weight': 7, 'colsample_bytree': 0.5894657366535112, 'subsample': 0.7034848836303959}. Best is trial 28 with value: 0.8955357864600787.\u001b[0m\n",
      "\u001b[32m[I 2023-02-19 02:50:20,103]\u001b[0m Trial 45 finished with value: 0.8861274015163808 and parameters: {'max_depth': 7, 'learning_rate': 0.016545396311214693, 'n_estimators': 1730, 'gamma': 1.2098477218078725, 'min_child_weight': 100, 'colsample_bytree': 0.5776425512293868, 'subsample': 0.6952007522498469}. Best is trial 28 with value: 0.8955357864600787.\u001b[0m\n",
      "\u001b[32m[I 2023-02-19 02:50:33,369]\u001b[0m Trial 46 finished with value: 0.8900288634841387 and parameters: {'max_depth': 7, 'learning_rate': 0.007020075922625612, 'n_estimators': 1854, 'gamma': 2.4219584743831124, 'min_child_weight': 28, 'colsample_bytree': 0.5075741207031458, 'subsample': 0.6376233954599437}. Best is trial 28 with value: 0.8955357864600787.\u001b[0m\n",
      "\u001b[32m[I 2023-02-19 02:51:01,963]\u001b[0m Trial 47 finished with value: 0.8950642895048636 and parameters: {'max_depth': 8, 'learning_rate': 0.0116415598324736, 'n_estimators': 2794, 'gamma': 0.3970602413478691, 'min_child_weight': 6, 'colsample_bytree': 0.5578132713660299, 'subsample': 0.7261733912508964}. Best is trial 28 with value: 0.8955357864600787.\u001b[0m\n",
      "\u001b[32m[I 2023-02-19 02:51:10,975]\u001b[0m Trial 48 finished with value: 0.8946713133899868 and parameters: {'max_depth': 6, 'learning_rate': 0.02310514872626116, 'n_estimators': 1308, 'gamma': 1.2531455693202758, 'min_child_weight': 11, 'colsample_bytree': 0.600533344069421, 'subsample': 0.7521344104053421}. Best is trial 28 with value: 0.8955357864600787.\u001b[0m\n",
      "\u001b[32m[I 2023-02-19 02:51:27,361]\u001b[0m Trial 49 finished with value: 0.8931501323974956 and parameters: {'max_depth': 9, 'learning_rate': 0.016799541577896253, 'n_estimators': 3832, 'gamma': 2.6903297560883446, 'min_child_weight': 18, 'colsample_bytree': 0.47796893251145817, 'subsample': 0.6744074719613233}. Best is trial 28 with value: 0.8955357864600787.\u001b[0m\n"
     ]
    }
   ],
   "source": [
    "class Objective:\n",
    "\n",
    "    def __init__(self, seed):\n",
    "        # Hold this implementation specific arguments as the fields of the class.\n",
    "        self.seed = seed\n",
    "\n",
    "    def __call__(self, trial):\n",
    "        ## Parameters to be evaluated\n",
    "        param = dict(objective = 'binary:logistic',\n",
    "                     eval_metric = 'auc',\n",
    "                     tree_method = 'hist', \n",
    "                     max_depth = trial.suggest_int('max_depth', 2, 10),\n",
    "                     learning_rate = trial.suggest_float('learning_rate', 1e-4, 1e-1, log = True),\n",
    "                     n_estimators = trial.suggest_int('n_estimators', 30, 10000),\n",
    "                     gamma = trial.suggest_float('gamma', 0, 10),\n",
    "                     min_child_weight = trial.suggest_int('min_child_weight', 1, 100),\n",
    "                     colsample_bytree = trial.suggest_float('colsample_bytree', 0.2, 0.9),\n",
    "                     subsample = trial.suggest_float('subsample', 0.2, 0.9)\n",
    "                    )\n",
    "\n",
    "        scores = []\n",
    "        \n",
    "        skf = StratifiedKFold(n_splits = 5, shuffle = True, random_state = self.seed)\n",
    "#         skf = KFold(n_splits = 5, shuffle = True, random_state = self.seed)\n",
    "\n",
    "        for train_idx, valid_idx in skf.split(X, Y):\n",
    "\n",
    "            X_train, X_valid = X.iloc[train_idx], X.iloc[valid_idx]\n",
    "            Y_train , Y_valid = Y.iloc[train_idx] , Y.iloc[valid_idx]\n",
    "\n",
    "            model = XGBClassifier(**param).fit(X_train, Y_train)\n",
    "\n",
    "#             preds_train = model.predict(X_train)\n",
    "            preds_valid = model.predict_proba(X_valid)[:, 1]\n",
    "\n",
    "            score = roc_auc_score(Y_valid, preds_valid)\n",
    "            scores.append(score)\n",
    "            \n",
    "        return np.mean(scores)\n",
    "    \n",
    "## Defining number of runs and seed\n",
    "RUNS = 50\n",
    "SEED = 42\n",
    "N_TRIALS = 50\n",
    "\n",
    "# Execute an optimization\n",
    "study = optuna.create_study(direction = 'maximize')\n",
    "study.optimize(Objective(SEED), n_trials = N_TRIALS)"
   ]
  },
  {
   "cell_type": "code",
   "execution_count": 6,
   "id": "1301184f",
   "metadata": {},
   "outputs": [
    {
     "data": {
      "text/plain": [
       "[0.8955357864600787]"
      ]
     },
     "execution_count": 6,
     "metadata": {},
     "output_type": "execute_result"
    }
   ],
   "source": [
    "study.best_trial.values"
   ]
  },
  {
   "cell_type": "code",
   "execution_count": 7,
   "id": "37453b34",
   "metadata": {},
   "outputs": [
    {
     "data": {
      "text/plain": [
       "{'max_depth': 7,\n",
       " 'learning_rate': 0.047384282621727274,\n",
       " 'n_estimators': 6715,\n",
       " 'gamma': 1.592889899616253,\n",
       " 'min_child_weight': 8,\n",
       " 'colsample_bytree': 0.6423372093850683,\n",
       " 'subsample': 0.7904995050175238}"
      ]
     },
     "execution_count": 7,
     "metadata": {},
     "output_type": "execute_result"
    }
   ],
   "source": [
    "study.best_trial.params"
   ]
  },
  {
   "cell_type": "markdown",
   "id": "203d5f43",
   "metadata": {},
   "source": [
    "# Cross Validation"
   ]
  },
  {
   "cell_type": "code",
   "execution_count": 8,
   "id": "846a46a5",
   "metadata": {},
   "outputs": [
    {
     "name": "stdout",
     "output_type": "stream",
     "text": [
      "The average oof roc-auc score over 5-folds (run 5 times) is: 0.8955357864600785\n"
     ]
    }
   ],
   "source": [
    "XGB_cv_scores, roc_auc_scores, XGB_imp = list(), list(), list()\n",
    "preds = list()\n",
    "\n",
    "## Running 5 times CV\n",
    "for i in range(5):\n",
    "    \n",
    "    skf = StratifiedKFold(n_splits = 5, random_state = 42, shuffle = True)\n",
    "    \n",
    "    for train_ix, test_ix in skf.split(X, Y):\n",
    "        \n",
    "        ## Splitting the data \n",
    "        X_train, X_test = X.iloc[train_ix], X.iloc[test_ix]\n",
    "        Y_train, Y_test = Y.iloc[train_ix], Y.iloc[test_ix]\n",
    "                \n",
    "        ## Building RF model\n",
    "        XGB_md = XGBClassifier(tree_method = 'hist',\n",
    "                               colsample_bytree = 0.6423372093850683, \n",
    "                               gamma = 1.592889899616253, \n",
    "                               learning_rate = 0.047384282621727274, \n",
    "                               max_depth = 7, \n",
    "                               min_child_weight = 8, \n",
    "                               n_estimators = 6715, \n",
    "                               subsample = 0.7904995050175238).fit(X_train, Y_train)\n",
    "        XGB_imp.append(XGB_md.feature_importances_)\n",
    "        \n",
    "        ## Predicting on X_test and test\n",
    "        XGB_pred_1 = XGB_md.predict_proba(X_test)[:, 1]\n",
    "        XGB_pred_2 = XGB_md.predict_proba(test_lgb)[:, 1]\n",
    "        \n",
    "        ## Computing roc-auc score\n",
    "        roc_auc_scores.append(roc_auc_score(Y_test, XGB_pred_1))\n",
    "        preds.append(XGB_pred_2)\n",
    "\n",
    "    XGB_cv_scores.append(np.mean(roc_auc_scores))\n",
    "    \n",
    "XGB_cv_score = np.mean(XGB_cv_scores)    \n",
    "print('The average oof roc-auc score over 5-folds (run 5 times) is:', XGB_cv_score)"
   ]
  },
  {
   "cell_type": "code",
   "execution_count": 9,
   "id": "bdad34a2",
   "metadata": {},
   "outputs": [
    {
     "data": {
      "image/png": "[encoded data removed]",
      "text/plain": [
       "<Figure size 1200x1400 with 1 Axes>"
      ]
     },
     "metadata": {},
     "output_type": "display_data"
    }
   ],
   "source": [
    "plt.figure(figsize = (12, 14))\n",
    "pd.DataFrame(XGB_imp, columns = X.columns).apply(np.mean, axis = 0).sort_values().plot(kind = 'barh');\n",
    "plt.xlabel('XGBoost Score')\n",
    "plt.ylabel('Feature')\n",
    "plt.show();"
   ]
  },
  {
   "cell_type": "code",
   "execution_count": 10,
   "id": "6b2660ad",
   "metadata": {},
   "outputs": [
    {
     "data": {
      "text/html": [
       "<div>\n",
       "<style scoped>\n",
       "    .dataframe tbody tr th:only-of-type {\n",
       "        vertical-align: middle;\n",
       "    }\n",
       "\n",
       "    .dataframe tbody tr th {\n",
       "        vertical-align: top;\n",
       "    }\n",
       "\n",
       "    .dataframe thead th {\n",
       "        text-align: right;\n",
       "    }\n",
       "</style>\n",
       "<table border=\"1\" class=\"dataframe\">\n",
       "  <thead>\n",
       "    <tr style=\"text-align: right;\">\n",
       "      <th></th>\n",
       "      <th>id</th>\n",
       "      <th>booking_status</th>\n",
       "    </tr>\n",
       "  </thead>\n",
       "  <tbody>\n",
       "    <tr>\n",
       "      <th>0</th>\n",
       "      <td>42100</td>\n",
       "      <td>0.073300</td>\n",
       "    </tr>\n",
       "    <tr>\n",
       "      <th>1</th>\n",
       "      <td>42101</td>\n",
       "      <td>0.071458</td>\n",
       "    </tr>\n",
       "    <tr>\n",
       "      <th>2</th>\n",
       "      <td>42102</td>\n",
       "      <td>0.194028</td>\n",
       "    </tr>\n",
       "    <tr>\n",
       "      <th>3</th>\n",
       "      <td>42103</td>\n",
       "      <td>0.078278</td>\n",
       "    </tr>\n",
       "    <tr>\n",
       "      <th>4</th>\n",
       "      <td>42104</td>\n",
       "      <td>0.473762</td>\n",
       "    </tr>\n",
       "  </tbody>\n",
       "</table>\n",
       "</div>"
      ],
      "text/plain": [
       "      id  booking_status\n",
       "0  42100        0.073300\n",
       "1  42101        0.071458\n",
       "2  42102        0.194028\n",
       "3  42103        0.078278\n",
       "4  42104        0.473762"
      ]
     },
     "execution_count": 10,
     "metadata": {},
     "output_type": "execute_result"
    }
   ],
   "source": [
    "XGB_preds_test = pd.DataFrame(preds).apply(np.mean, axis = 0)\n",
    "\n",
    "submission['booking_status'] = XGB_preds_test\n",
    "submission.head()"
   ]
  },
  {
   "cell_type": "code",
   "execution_count": 11,
   "id": "3c9150d7",
   "metadata": {},
   "outputs": [],
   "source": [
    "submission.to_csv('XGB_10_features_optuna_submission.csv', index = False)"
   ]
  }
 ],
 "metadata": {
  "kernelspec": {
   "display_name": "conda_python3",
   "language": "python",
   "name": "conda_python3"
  },
  "language_info": {
   "codemirror_mode": {
    "name": "ipython",
    "version": 3
   },
   "file_extension": ".py",
   "mimetype": "text/x-python",
   "name": "python",
   "nbconvert_exporter": "python",
   "pygments_lexer": "ipython3",
   "version": "3.10.6"
  }
 },
 "nbformat": 4,
 "nbformat_minor": 5
}
