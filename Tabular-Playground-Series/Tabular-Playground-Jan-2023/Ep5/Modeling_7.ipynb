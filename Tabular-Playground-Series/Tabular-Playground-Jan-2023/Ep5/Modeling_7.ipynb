{
 "cells": [
  {
   "cell_type": "code",
   "execution_count": 89,
   "id": "53ac1bab",
   "metadata": {},
   "outputs": [
    {
     "name": "stdout",
     "output_type": "stream",
     "text": [
      "Looking in indexes: https://pypi.org/simple, https://pip.repos.neuron.amazonaws.com\n",
      "Requirement already satisfied: xgboost in /home/ec2-user/anaconda3/envs/python3/lib/python3.10/site-packages (1.7.3)\n",
      "Requirement already satisfied: optuna in /home/ec2-user/anaconda3/envs/python3/lib/python3.10/site-packages (3.1.0)\n",
      "Requirement already satisfied: numpy in /home/ec2-user/anaconda3/envs/python3/lib/python3.10/site-packages (from xgboost) (1.22.4)\n",
      "Requirement already satisfied: scipy in /home/ec2-user/anaconda3/envs/python3/lib/python3.10/site-packages (from xgboost) (1.9.3)\n",
      "Requirement already satisfied: cmaes>=0.9.1 in /home/ec2-user/anaconda3/envs/python3/lib/python3.10/site-packages (from optuna) (0.9.1)\n",
      "Requirement already satisfied: tqdm in /home/ec2-user/anaconda3/envs/python3/lib/python3.10/site-packages (from optuna) (4.64.1)\n",
      "Requirement already satisfied: alembic>=1.5.0 in /home/ec2-user/anaconda3/envs/python3/lib/python3.10/site-packages (from optuna) (1.9.3)\n",
      "Requirement already satisfied: sqlalchemy>=1.3.0 in /home/ec2-user/anaconda3/envs/python3/lib/python3.10/site-packages (from optuna) (1.4.42)\n",
      "Requirement already satisfied: packaging>=20.0 in /home/ec2-user/anaconda3/envs/python3/lib/python3.10/site-packages (from optuna) (21.3)\n",
      "Requirement already satisfied: PyYAML in /home/ec2-user/anaconda3/envs/python3/lib/python3.10/site-packages (from optuna) (5.4.1)\n",
      "Requirement already satisfied: colorlog in /home/ec2-user/anaconda3/envs/python3/lib/python3.10/site-packages (from optuna) (6.7.0)\n",
      "Requirement already satisfied: Mako in /home/ec2-user/anaconda3/envs/python3/lib/python3.10/site-packages (from alembic>=1.5.0->optuna) (1.2.4)\n",
      "Requirement already satisfied: pyparsing!=3.0.5,>=2.0.2 in /home/ec2-user/anaconda3/envs/python3/lib/python3.10/site-packages (from packaging>=20.0->optuna) (3.0.9)\n",
      "Requirement already satisfied: greenlet!=0.4.17 in /home/ec2-user/anaconda3/envs/python3/lib/python3.10/site-packages (from sqlalchemy>=1.3.0->optuna) (1.1.3.post0)\n",
      "Requirement already satisfied: MarkupSafe>=0.9.2 in /home/ec2-user/anaconda3/envs/python3/lib/python3.10/site-packages (from Mako->alembic>=1.5.0->optuna) (2.1.1)\n",
      "Note: you may need to restart the kernel to use updated packages.\n"
     ]
    }
   ],
   "source": [
    "pip install xgboost optuna"
   ]
  },
  {
   "cell_type": "code",
   "execution_count": 130,
   "id": "45b945c4",
   "metadata": {},
   "outputs": [],
   "source": [
    "import boto3\n",
    "import pandas as pd; pd.set_option('display.max_columns', 100)\n",
    "import numpy as np\n",
    "\n",
    "import matplotlib.pyplot as plt; plt.style.use('ggplot')\n",
    "import seaborn as sns\n",
    "\n",
    "from scipy.stats import rankdata\n",
    "from sklearn.cluster import KMeans\n",
    "from sklearn.multiclass import OneVsRestClassifier\n",
    "from sklearn.tree import DecisionTreeRegressor, DecisionTreeClassifier, plot_tree\n",
    "from sklearn.preprocessing import MinMaxScaler\n",
    "from sklearn.model_selection import KFold, train_test_split, GridSearchCV, StratifiedKFold, TimeSeriesSplit\n",
    "from sklearn.metrics import mean_squared_error, roc_auc_score, cohen_kappa_score, davies_bouldin_score, calinski_harabasz_score, silhouette_score\n",
    "from sklearn.neighbors import KNeighborsClassifier\n",
    "from sklearn.ensemble import RandomForestClassifier, HistGradientBoostingClassifier\n",
    "from sklearn.linear_model import LogisticRegression\n",
    "# from lightgbm import LGBMClassifier\n",
    "from xgboost import XGBClassifier, XGBRegressor\n",
    "# from catboost import CatBoostClassifier\n",
    "\n",
    "import optuna \n",
    "\n",
    "s3 = boto3.resource('s3')\n",
    "bucket_name = 'analytics-data-science-competitions'\n",
    "bucket = s3.Bucket(bucket_name)\n",
    "\n",
    "file_key_1 = 'Tabular-Playground-Series/TS-S3-Ep5/train.csv'\n",
    "file_key_2 = 'Tabular-Playground-Series/TS-S3-Ep5/test.csv'\n",
    "file_key_3 = 'Tabular-Playground-Series/TS-S3-Ep5/sample_submission.csv'\n",
    "\n",
    "bucket_object_1 = bucket.Object(file_key_1)\n",
    "file_object_1 = bucket_object_1.get()\n",
    "file_content_stream_1 = file_object_1.get('Body')\n",
    "\n",
    "bucket_object_2 = bucket.Object(file_key_2)\n",
    "file_object_2 = bucket_object_2.get()\n",
    "file_content_stream_2 = file_object_2.get('Body')\n",
    "\n",
    "bucket_object_3 = bucket.Object(file_key_3)\n",
    "file_object_3 = bucket_object_3.get()\n",
    "file_content_stream_3 = file_object_3.get('Body')\n",
    "\n",
    "## Reading data files\n",
    "train = pd.read_csv(file_content_stream_1)\n",
    "test = pd.read_csv(file_content_stream_2)\n",
    "submission = pd.read_csv(file_content_stream_3)\n",
    "\n",
    "## Enginering features\n",
    "# train['total_acid'] = train['fixed acidity'] + train['volatile acidity'] + train['citric acid']\n",
    "# train['acid/density'] = train['total_acid']  / train['density']\n",
    "train['alcohol_density'] = train['alcohol'] * train['density']\n",
    "train['sulphate/density'] = train['sulphates']  / train['density']\n",
    "# train['sulphates/acid'] = train['sulphates'] / train['volatile acidity']\n",
    "# train['sulphates/chlorides'] = train['sulphates'] / train['chlorides']\n",
    "# train['sulphates*alcohol'] = train['sulphates'] / train['alcohol']\n",
    "train['alcohol_sulphate'] = train['alcohol'] * train['sulphates']\n",
    "train['pH_round'] = train['pH'].round(1)\n",
    "# train['citric_acid_per_alcohol'] = np.where(train['alcohol'] == 0, 0, train['citric acid'] / train['alcohol'])\n",
    "\n",
    "alcohol_mean_groupby_pH = pd.DataFrame(train.groupby('pH_round')['alcohol'].mean())\n",
    "alcohol_mean_groupby_pH.columns = ['mean_alcohol_by_pH_round']\n",
    "alcohol_mean_groupby_pH['pH_round'] = alcohol_mean_groupby_pH.index\n",
    "alcohol_mean_groupby_pH = alcohol_mean_groupby_pH.reset_index(drop = True)\n",
    "\n",
    "train = pd.merge(train, alcohol_mean_groupby_pH, on = 'pH_round', how = 'left')\n",
    "\n",
    "\n",
    "test['alcohol_density'] = test['alcohol']  * test['density']\n",
    "test['sulphate/density'] = test['sulphates']  / test['density']\n",
    "test['alcohol_sulphate'] = test['alcohol'] * test['sulphates']\n",
    "\n",
    "test['pH_round'] = test['pH'].round(1)\n",
    "\n",
    "alcohol_mean_groupby_pH = pd.DataFrame(test.groupby('pH_round')['alcohol'].mean())\n",
    "alcohol_mean_groupby_pH.columns = ['mean_alcohol_by_pH_round']\n",
    "alcohol_mean_groupby_pH['pH_round'] = alcohol_mean_groupby_pH.index\n",
    "alcohol_mean_groupby_pH = alcohol_mean_groupby_pH.reset_index(drop = True)\n",
    "\n",
    "test = pd.merge(test, alcohol_mean_groupby_pH, on = 'pH_round', how = 'left')\n",
    "\n",
    "\n",
    "test_md = test.copy()\n",
    "\n",
    "X = train[['sulphate/density', 'alcohol_density', 'alcohol', 'sulphates', 'pH_round', 'mean_alcohol_by_pH_round']]\n",
    "Y = train['quality'] \n",
    "\n",
    "test_md = test_md[['sulphate/density', 'alcohol_density', 'alcohol', 'sulphates', 'pH_round', 'mean_alcohol_by_pH_round']]"
   ]
  },
  {
   "cell_type": "code",
   "execution_count": null,
   "id": "bc9314f1",
   "metadata": {},
   "outputs": [],
   "source": [
    "pca = PCA()\n",
    "    pca.fit(X)\n",
    "    explained_variance = pca.explained_variance_ratio_\n",
    "    num_components = np.arange(len(explained_variance)) + 1\n",
    "    # Plot the elbow graph\n",
    "    x = [1, 2, 3, 4]\n",
    "    fig, ax = plt.subplots(figsize=(12,5))\n",
    "    plt.plot(num_components, explained_variance, 'ro-')\n",
    "    ax.xaxis.set_ticks(x)\n",
    "    plt.xlabel(\"Number of Components\")\n",
    "    plt.ylabel(\"Explained Variance (%)\")\n",
    "    plt.show()"
   ]
  },
  {
   "cell_type": "code",
   "execution_count": 128,
   "id": "dcb62786",
   "metadata": {},
   "outputs": [
    {
     "data": {
      "text/plain": [
       "3.3    544\n",
       "3.4    486\n",
       "3.2    462\n",
       "3.5    216\n",
       "3.1    179\n",
       "3.6     90\n",
       "3.0     49\n",
       "3.7     18\n",
       "3.8      6\n",
       "2.9      5\n",
       "2.7      1\n",
       "Name: pH_round, dtype: int64"
      ]
     },
     "execution_count": 128,
     "metadata": {},
     "output_type": "execute_result"
    }
   ],
   "source": [
    "train['pH_round'].value_counts()"
   ]
  },
  {
   "cell_type": "code",
   "execution_count": 129,
   "id": "3dcd3d2f",
   "metadata": {},
   "outputs": [
    {
     "data": {
      "text/plain": [
       "3.4    376\n",
       "3.3    347\n",
       "3.2    314\n",
       "3.5    122\n",
       "3.1    102\n",
       "3.6     53\n",
       "3.0     32\n",
       "3.7     15\n",
       "2.9      5\n",
       "3.8      2\n",
       "3.9      2\n",
       "4.0      1\n",
       "2.7      1\n",
       "Name: pH_round, dtype: int64"
      ]
     },
     "execution_count": 129,
     "metadata": {},
     "output_type": "execute_result"
    }
   ],
   "source": [
    "test['pH_round'].value_counts()"
   ]
  },
  {
   "cell_type": "code",
   "execution_count": 121,
   "id": "611b91f2",
   "metadata": {},
   "outputs": [
    {
     "data": {
      "text/html": [
       "<div>\n",
       "<style scoped>\n",
       "    .dataframe tbody tr th:only-of-type {\n",
       "        vertical-align: middle;\n",
       "    }\n",
       "\n",
       "    .dataframe tbody tr th {\n",
       "        vertical-align: top;\n",
       "    }\n",
       "\n",
       "    .dataframe thead th {\n",
       "        text-align: right;\n",
       "    }\n",
       "</style>\n",
       "<table border=\"1\" class=\"dataframe\">\n",
       "  <thead>\n",
       "    <tr style=\"text-align: right;\">\n",
       "      <th></th>\n",
       "      <th>Id</th>\n",
       "      <th>fixed acidity</th>\n",
       "      <th>volatile acidity</th>\n",
       "      <th>citric acid</th>\n",
       "      <th>residual sugar</th>\n",
       "      <th>chlorides</th>\n",
       "      <th>free sulfur dioxide</th>\n",
       "      <th>total sulfur dioxide</th>\n",
       "      <th>density</th>\n",
       "      <th>pH</th>\n",
       "      <th>sulphates</th>\n",
       "      <th>alcohol</th>\n",
       "      <th>quality</th>\n",
       "      <th>total_acid</th>\n",
       "      <th>acid/density</th>\n",
       "      <th>alcohol_density</th>\n",
       "      <th>sulphate/density</th>\n",
       "      <th>sulphates/acid</th>\n",
       "      <th>sulphates/chlorides</th>\n",
       "      <th>sulphates*alcohol</th>\n",
       "      <th>alcohol_sulphate</th>\n",
       "      <th>pH_round</th>\n",
       "      <th>citric_acid_per_alcohol</th>\n",
       "      <th>mean_alcohol_by_pH_round</th>\n",
       "    </tr>\n",
       "  </thead>\n",
       "  <tbody>\n",
       "    <tr>\n",
       "      <th>0</th>\n",
       "      <td>0</td>\n",
       "      <td>8.0</td>\n",
       "      <td>0.50</td>\n",
       "      <td>0.39</td>\n",
       "      <td>2.2</td>\n",
       "      <td>0.073</td>\n",
       "      <td>30.0</td>\n",
       "      <td>39.0</td>\n",
       "      <td>0.99572</td>\n",
       "      <td>3.33</td>\n",
       "      <td>0.77</td>\n",
       "      <td>12.1</td>\n",
       "      <td>6</td>\n",
       "      <td>8.89</td>\n",
       "      <td>8.928213</td>\n",
       "      <td>12.048212</td>\n",
       "      <td>0.773310</td>\n",
       "      <td>1.540000</td>\n",
       "      <td>10.547945</td>\n",
       "      <td>0.063636</td>\n",
       "      <td>9.317</td>\n",
       "      <td>3.3</td>\n",
       "      <td>0.032231</td>\n",
       "      <td>10.440993</td>\n",
       "    </tr>\n",
       "    <tr>\n",
       "      <th>1</th>\n",
       "      <td>1</td>\n",
       "      <td>9.3</td>\n",
       "      <td>0.30</td>\n",
       "      <td>0.73</td>\n",
       "      <td>2.3</td>\n",
       "      <td>0.092</td>\n",
       "      <td>30.0</td>\n",
       "      <td>67.0</td>\n",
       "      <td>0.99854</td>\n",
       "      <td>3.32</td>\n",
       "      <td>0.67</td>\n",
       "      <td>12.8</td>\n",
       "      <td>6</td>\n",
       "      <td>10.33</td>\n",
       "      <td>10.345104</td>\n",
       "      <td>12.781312</td>\n",
       "      <td>0.670980</td>\n",
       "      <td>2.233333</td>\n",
       "      <td>7.282609</td>\n",
       "      <td>0.052344</td>\n",
       "      <td>8.576</td>\n",
       "      <td>3.3</td>\n",
       "      <td>0.057031</td>\n",
       "      <td>10.440993</td>\n",
       "    </tr>\n",
       "    <tr>\n",
       "      <th>2</th>\n",
       "      <td>2</td>\n",
       "      <td>7.1</td>\n",
       "      <td>0.51</td>\n",
       "      <td>0.03</td>\n",
       "      <td>2.1</td>\n",
       "      <td>0.059</td>\n",
       "      <td>3.0</td>\n",
       "      <td>12.0</td>\n",
       "      <td>0.99660</td>\n",
       "      <td>3.52</td>\n",
       "      <td>0.73</td>\n",
       "      <td>11.3</td>\n",
       "      <td>7</td>\n",
       "      <td>7.64</td>\n",
       "      <td>7.666065</td>\n",
       "      <td>11.261580</td>\n",
       "      <td>0.732490</td>\n",
       "      <td>1.431373</td>\n",
       "      <td>12.372881</td>\n",
       "      <td>0.064602</td>\n",
       "      <td>8.249</td>\n",
       "      <td>3.5</td>\n",
       "      <td>0.002655</td>\n",
       "      <td>10.417824</td>\n",
       "    </tr>\n",
       "    <tr>\n",
       "      <th>3</th>\n",
       "      <td>3</td>\n",
       "      <td>8.1</td>\n",
       "      <td>0.87</td>\n",
       "      <td>0.22</td>\n",
       "      <td>2.6</td>\n",
       "      <td>0.084</td>\n",
       "      <td>11.0</td>\n",
       "      <td>65.0</td>\n",
       "      <td>0.99730</td>\n",
       "      <td>3.20</td>\n",
       "      <td>0.53</td>\n",
       "      <td>9.8</td>\n",
       "      <td>5</td>\n",
       "      <td>9.19</td>\n",
       "      <td>9.214880</td>\n",
       "      <td>9.773540</td>\n",
       "      <td>0.531435</td>\n",
       "      <td>0.609195</td>\n",
       "      <td>6.309524</td>\n",
       "      <td>0.054082</td>\n",
       "      <td>5.194</td>\n",
       "      <td>3.2</td>\n",
       "      <td>0.022449</td>\n",
       "      <td>10.270202</td>\n",
       "    </tr>\n",
       "    <tr>\n",
       "      <th>4</th>\n",
       "      <td>4</td>\n",
       "      <td>8.5</td>\n",
       "      <td>0.36</td>\n",
       "      <td>0.30</td>\n",
       "      <td>2.3</td>\n",
       "      <td>0.079</td>\n",
       "      <td>10.0</td>\n",
       "      <td>45.0</td>\n",
       "      <td>0.99444</td>\n",
       "      <td>3.20</td>\n",
       "      <td>1.36</td>\n",
       "      <td>9.5</td>\n",
       "      <td>6</td>\n",
       "      <td>9.16</td>\n",
       "      <td>9.211214</td>\n",
       "      <td>9.447180</td>\n",
       "      <td>1.367604</td>\n",
       "      <td>3.777778</td>\n",
       "      <td>17.215190</td>\n",
       "      <td>0.143158</td>\n",
       "      <td>12.920</td>\n",
       "      <td>3.2</td>\n",
       "      <td>0.031579</td>\n",
       "      <td>10.270202</td>\n",
       "    </tr>\n",
       "  </tbody>\n",
       "</table>\n",
       "</div>"
      ],
      "text/plain": [
       "   Id  fixed acidity  volatile acidity  citric acid  residual sugar  \\\n",
       "0   0            8.0              0.50         0.39             2.2   \n",
       "1   1            9.3              0.30         0.73             2.3   \n",
       "2   2            7.1              0.51         0.03             2.1   \n",
       "3   3            8.1              0.87         0.22             2.6   \n",
       "4   4            8.5              0.36         0.30             2.3   \n",
       "\n",
       "   chlorides  free sulfur dioxide  total sulfur dioxide  density    pH  \\\n",
       "0      0.073                 30.0                  39.0  0.99572  3.33   \n",
       "1      0.092                 30.0                  67.0  0.99854  3.32   \n",
       "2      0.059                  3.0                  12.0  0.99660  3.52   \n",
       "3      0.084                 11.0                  65.0  0.99730  3.20   \n",
       "4      0.079                 10.0                  45.0  0.99444  3.20   \n",
       "\n",
       "   sulphates  alcohol  quality  total_acid  acid/density  alcohol_density  \\\n",
       "0       0.77     12.1        6        8.89      8.928213        12.048212   \n",
       "1       0.67     12.8        6       10.33     10.345104        12.781312   \n",
       "2       0.73     11.3        7        7.64      7.666065        11.261580   \n",
       "3       0.53      9.8        5        9.19      9.214880         9.773540   \n",
       "4       1.36      9.5        6        9.16      9.211214         9.447180   \n",
       "\n",
       "   sulphate/density  sulphates/acid  sulphates/chlorides  sulphates*alcohol  \\\n",
       "0          0.773310        1.540000            10.547945           0.063636   \n",
       "1          0.670980        2.233333             7.282609           0.052344   \n",
       "2          0.732490        1.431373            12.372881           0.064602   \n",
       "3          0.531435        0.609195             6.309524           0.054082   \n",
       "4          1.367604        3.777778            17.215190           0.143158   \n",
       "\n",
       "   alcohol_sulphate  pH_round  citric_acid_per_alcohol  \\\n",
       "0             9.317       3.3                 0.032231   \n",
       "1             8.576       3.3                 0.057031   \n",
       "2             8.249       3.5                 0.002655   \n",
       "3             5.194       3.2                 0.022449   \n",
       "4            12.920       3.2                 0.031579   \n",
       "\n",
       "   mean_alcohol_by_pH_round  \n",
       "0                 10.440993  \n",
       "1                 10.440993  \n",
       "2                 10.417824  \n",
       "3                 10.270202  \n",
       "4                 10.270202  "
      ]
     },
     "execution_count": 121,
     "metadata": {},
     "output_type": "execute_result"
    }
   ],
   "source": [
    "train.head()"
   ]
  },
  {
   "cell_type": "code",
   "execution_count": 122,
   "id": "98ff4a10",
   "metadata": {},
   "outputs": [
    {
     "name": "stdout",
     "output_type": "stream",
     "text": [
      "2\n",
      "3\n",
      "4\n",
      "5\n",
      "6\n",
      "7\n",
      "8\n",
      "9\n",
      "10\n",
      "11\n",
      "12\n",
      "13\n",
      "14\n",
      "15\n",
      "16\n",
      "17\n",
      "18\n",
      "19\n",
      "20\n",
      "21\n",
      "22\n",
      "23\n",
      "24\n",
      "25\n",
      "26\n",
      "27\n",
      "28\n",
      "29\n"
     ]
    },
    {
     "data": {
      "image/png": "[encoded data removed]",
      "text/plain": [
       "<Figure size 640x480 with 1 Axes>"
      ]
     },
     "metadata": {},
     "output_type": "display_data"
    }
   ],
   "source": [
    "scaler = MinMaxScaler()\n",
    "\n",
    "# X = train[['sulphate/density', 'alcohol_density', 'alcohol', 'sulphates', 'pH_round']]\n",
    "X = train.drop(columns = ['Id', 'quality'], axis = 1)\n",
    "X_trans = scaler.fit_transform(X)\n",
    "\n",
    "from sklearn.metrics import calinski_harabasz_score\n",
    "from sklearn.metrics import davies_bouldin_score\n",
    "from sklearn.metrics import silhouette_score\n",
    "\n",
    "## Defining the number of clusters to be considered\n",
    "krange = list(range(2, 30))\n",
    "\n",
    "## Defining lists to store scores\n",
    "CH_scores, DB_scores, silhouette_scores = list(), list(), list()\n",
    "inertias = list()\n",
    "\n",
    "for i in krange:\n",
    "    print(i)\n",
    "    ## Here we define the k-means model\n",
    "    cluster_md = KMeans(n_clusters = i, n_init = 20).fit(X_trans)\n",
    "    cluster_assignments = cluster_md.labels_\n",
    "    inertias.append(cluster_md.inertia_)\n",
    "    \n",
    "    ## Here we extract CH, DB and silhoutte scores\n",
    "    CH = calinski_harabasz_score(X_trans, cluster_assignments)\n",
    "    DB = davies_bouldin_score(X_trans, cluster_assignments)\n",
    "    silhouette = silhouette_score(X_trans, cluster_assignments)\n",
    "    \n",
    "    ## Storing scores\n",
    "    CH_scores.append(CH)\n",
    "    DB_scores.append(DB)\n",
    "    silhouette_scores.append(silhouette)\n",
    "\n",
    "plt.plot(krange, inertias)\n",
    "plt.xlabel('Number of Clusters (k)')\n",
    "plt.ylabel('Custer Inertia')\n",
    "plt.show()"
   ]
  },
  {
   "cell_type": "code",
   "execution_count": 123,
   "id": "100f110b",
   "metadata": {},
   "outputs": [
    {
     "data": {
      "image/png": "[encoded data removed]",
      "text/plain": [
       "<Figure size 2000x800 with 3 Axes>"
      ]
     },
     "metadata": {},
     "output_type": "display_data"
    }
   ],
   "source": [
    "fig, axs = plt.subplots(1, 3, figsize = (20, 8))\n",
    "axs[0].plot(krange, CH_scores)\n",
    "axs[0].set_xlabel('Number of Clusters (k)')\n",
    "axs[0].set_ylabel('CH-Score')\n",
    "axs[0].grid()\n",
    "\n",
    "axs[1].plot(krange, DB_scores)\n",
    "axs[1].set_xlabel('Number of Clusters (k)')\n",
    "axs[1].set_ylabel('DB-Score')\n",
    "axs[1].grid()\n",
    "\n",
    "axs[2].plot(krange, silhouette_scores)\n",
    "axs[2].set_xlabel('Number of Clusters (k)')\n",
    "axs[2].set_ylabel('Silhouette-Score')\n",
    "axs[2].grid()"
   ]
  },
  {
   "cell_type": "markdown",
   "id": "1c4ec95d",
   "metadata": {},
   "source": [
    "# Optimal Rounder"
   ]
  },
  {
   "cell_type": "code",
   "execution_count": 131,
   "id": "c1be729e",
   "metadata": {},
   "outputs": [],
   "source": [
    "from functools import partial\n",
    "import numpy as np\n",
    "import scipy as sp\n",
    "\n",
    "class OptimizedRounder(object):\n",
    "    def __init__(self):\n",
    "        self.coef_ = 0\n",
    "\n",
    "    def _kappa_loss(self, coef, X, y):\n",
    "        X_p = np.copy(X)\n",
    "        for i, pred in enumerate(X_p):\n",
    "            if pred < coef[0]:\n",
    "                X_p[i] = 3\n",
    "            elif pred >= coef[0] and pred < coef[1]:\n",
    "                X_p[i] = 4\n",
    "            elif pred >= coef[1] and pred < coef[2]:\n",
    "                X_p[i] = 5\n",
    "            elif pred >= coef[2] and pred < coef[3]:\n",
    "                X_p[i] = 6\n",
    "            elif pred >= coef[3] and pred < coef[4]:\n",
    "                X_p[i] = 7\n",
    "            else:\n",
    "                X_p[i] = 8\n",
    "\n",
    "        ll = cohen_kappa_score(y, X_p, weights = 'quadratic')\n",
    "        return -ll\n",
    "\n",
    "    def fit(self, X, y):\n",
    "        loss_partial = partial(self._kappa_loss, X = X, y = y)\n",
    "        initial_coef = [3.5, 4.5, 5.5, 6.5, 7.5]\n",
    "        self.coef_ = sp.optimize.minimize(loss_partial, initial_coef, method = 'nelder-mead')\n",
    "\n",
    "    def predict(self, X, coef):\n",
    "        X_p = np.copy(X)\n",
    "        for i, pred in enumerate(X_p):\n",
    "            if pred < coef[0]:\n",
    "                X_p[i] = 3\n",
    "            elif pred >= coef[0] and pred < coef[1]:\n",
    "                X_p[i] = 4\n",
    "            elif pred >= coef[1] and pred < coef[2]:\n",
    "                X_p[i] = 5\n",
    "            elif pred >= coef[2] and pred < coef[3]:\n",
    "                X_p[i] = 6\n",
    "            elif pred >= coef[3] and pred < coef[4]:\n",
    "                X_p[i] = 7\n",
    "            else:\n",
    "                X_p[i] = 8\n",
    "        return X_p\n",
    "\n",
    "    def coefficients(self):\n",
    "        return self.coef_['x']"
   ]
  },
  {
   "cell_type": "markdown",
   "id": "973fd0fe",
   "metadata": {},
   "source": [
    "# Optuna Optimzation"
   ]
  },
  {
   "cell_type": "code",
   "execution_count": 132,
   "id": "23d17d8a",
   "metadata": {},
   "outputs": [],
   "source": [
    "def objective(trial):\n",
    "    \n",
    "    ## Parameters to be evaluated\n",
    "    param = dict(objective = 'reg:absoluteerror',\n",
    "                 eval_metric = 'mae',\n",
    "                 tree_method = 'hist', \n",
    "                 random_state = 42,\n",
    "                 max_depth = trial.suggest_int('max_depth', 2, 10),\n",
    "                 learning_rate = trial.suggest_float('learning_rate', 1e-4, 1e-1, log = True),\n",
    "                 n_estimators = trial.suggest_int('n_estimators', 30, 10000),\n",
    "                 gamma = trial.suggest_float('gamma', 0, 10),\n",
    "                 min_child_weight = trial.suggest_int('min_child_weight', 1, 100),\n",
    "                 colsample_bytree = trial.suggest_float('colsample_bytree', 0.2, 0.9),\n",
    "                 subsample = trial.suggest_float('subsample', 0.2, 0.9)\n",
    "                )\n",
    "\n",
    "    scores = []\n",
    "\n",
    "#     skf = StratifiedKFold(n_splits = 5, shuffle = True, random_state = 42)\n",
    "    skf = KFold(n_splits = 5, shuffle = True, random_state = 42)\n",
    "    \n",
    "    for fold, (train_idx, valid_idx) in enumerate(skf.split(X, Y)):\n",
    "        \n",
    "        print(fold, end = ' ')\n",
    "        X_train, X_valid = X.iloc[train_idx], X.iloc[valid_idx]\n",
    "        Y_train , Y_valid = Y.iloc[train_idx] , Y.iloc[valid_idx]\n",
    "\n",
    "        model = XGBRegressor(**param).fit(X_train, Y_train)\n",
    "\n",
    "        preds_train = model.predict(X_train)\n",
    "        preds_valid = model.predict(X_valid)\n",
    "        \n",
    "        optR = OptimizedRounder()\n",
    "        optR.fit(preds_train, Y_train)\n",
    "        coef = optR.coefficients()\n",
    "        preds_valid = optR.predict(preds_valid, coef).astype(int)\n",
    "        \n",
    "        score = cohen_kappa_score(Y_valid,  preds_valid, weights = \"quadratic\")\n",
    "        scores.append(score)\n",
    "        \n",
    "    return np.mean(scores)"
   ]
  },
  {
   "cell_type": "code",
   "execution_count": 133,
   "id": "2768f1f3",
   "metadata": {},
   "outputs": [
    {
     "name": "stderr",
     "output_type": "stream",
     "text": [
      "\u001b[32m[I 2023-02-09 02:08:21,374]\u001b[0m A new study created in memory with name: no-name-148afd87-64f3-460f-8e19-dd612ca2383c\u001b[0m\n"
     ]
    },
    {
     "name": "stdout",
     "output_type": "stream",
     "text": [
      "0 1 2 3 4 "
     ]
    },
    {
     "name": "stderr",
     "output_type": "stream",
     "text": [
      "\u001b[32m[I 2023-02-09 02:08:43,198]\u001b[0m Trial 0 finished with value: 0.5042048007943939 and parameters: {'max_depth': 6, 'learning_rate': 0.00045261913470540923, 'n_estimators': 991, 'gamma': 6.157750107350495, 'min_child_weight': 25, 'colsample_bytree': 0.7163137067564145, 'subsample': 0.5073612070412958}. Best is trial 0 with value: 0.5042048007943939.\u001b[0m\n"
     ]
    },
    {
     "name": "stdout",
     "output_type": "stream",
     "text": [
      "0 1 2 3 4 "
     ]
    },
    {
     "name": "stderr",
     "output_type": "stream",
     "text": [
      "\u001b[32m[I 2023-02-09 02:09:01,302]\u001b[0m Trial 1 finished with value: 0.351965158254239 and parameters: {'max_depth': 8, 'learning_rate': 0.00043234111617735846, 'n_estimators': 857, 'gamma': 4.036027644617719, 'min_child_weight': 4, 'colsample_bytree': 0.7780118581942761, 'subsample': 0.4481743886490416}. Best is trial 0 with value: 0.5042048007943939.\u001b[0m\n"
     ]
    },
    {
     "name": "stdout",
     "output_type": "stream",
     "text": [
      "0 1 2 3 4 "
     ]
    },
    {
     "name": "stderr",
     "output_type": "stream",
     "text": [
      "\u001b[32m[I 2023-02-09 02:09:22,852]\u001b[0m Trial 2 finished with value: 0.5201768523518538 and parameters: {'max_depth': 4, 'learning_rate': 0.0003988387595629122, 'n_estimators': 978, 'gamma': 6.015706277059661, 'min_child_weight': 35, 'colsample_bytree': 0.30047168092089144, 'subsample': 0.6675304303139573}. Best is trial 2 with value: 0.5201768523518538.\u001b[0m\n"
     ]
    },
    {
     "name": "stdout",
     "output_type": "stream",
     "text": [
      "0 1 2 3 4 "
     ]
    },
    {
     "name": "stderr",
     "output_type": "stream",
     "text": [
      "\u001b[32m[I 2023-02-09 02:09:56,635]\u001b[0m Trial 3 finished with value: 0.49032964000352897 and parameters: {'max_depth': 9, 'learning_rate': 0.013488584465058915, 'n_estimators': 4295, 'gamma': 5.116322456856468, 'min_child_weight': 36, 'colsample_bytree': 0.4910401738817971, 'subsample': 0.8206044330666376}. Best is trial 2 with value: 0.5201768523518538.\u001b[0m\n"
     ]
    },
    {
     "name": "stdout",
     "output_type": "stream",
     "text": [
      "0 1 2 3 4 "
     ]
    },
    {
     "name": "stderr",
     "output_type": "stream",
     "text": [
      "\u001b[32m[I 2023-02-09 02:10:22,345]\u001b[0m Trial 4 finished with value: 0.4980558332404009 and parameters: {'max_depth': 8, 'learning_rate': 0.0005532633003090279, 'n_estimators': 2388, 'gamma': 3.503089383528697, 'min_child_weight': 84, 'colsample_bytree': 0.40549363524334425, 'subsample': 0.8664428319916586}. Best is trial 2 with value: 0.5201768523518538.\u001b[0m\n"
     ]
    },
    {
     "name": "stdout",
     "output_type": "stream",
     "text": [
      "0 1 2 3 4 "
     ]
    },
    {
     "name": "stderr",
     "output_type": "stream",
     "text": [
      "\u001b[32m[I 2023-02-09 02:10:45,155]\u001b[0m Trial 5 finished with value: 0.47452956404338753 and parameters: {'max_depth': 7, 'learning_rate': 0.00859317083813768, 'n_estimators': 734, 'gamma': 7.288310803381879, 'min_child_weight': 37, 'colsample_bytree': 0.8785399397108367, 'subsample': 0.2986421398855496}. Best is trial 2 with value: 0.5201768523518538.\u001b[0m\n"
     ]
    },
    {
     "name": "stdout",
     "output_type": "stream",
     "text": [
      "0 1 2 3 4 "
     ]
    },
    {
     "name": "stderr",
     "output_type": "stream",
     "text": [
      "\u001b[32m[I 2023-02-09 02:11:11,800]\u001b[0m Trial 6 finished with value: 0.5103262631250587 and parameters: {'max_depth': 4, 'learning_rate': 0.002464747510479261, 'n_estimators': 4578, 'gamma': 6.730094062875765, 'min_child_weight': 43, 'colsample_bytree': 0.6488839071566126, 'subsample': 0.5281750339357419}. Best is trial 2 with value: 0.5201768523518538.\u001b[0m\n"
     ]
    },
    {
     "name": "stdout",
     "output_type": "stream",
     "text": [
      "0 1 2 3 4 "
     ]
    },
    {
     "name": "stderr",
     "output_type": "stream",
     "text": [
      "\u001b[32m[I 2023-02-09 02:11:43,964]\u001b[0m Trial 7 finished with value: 0.4917260369318967 and parameters: {'max_depth': 10, 'learning_rate': 0.05735220496653951, 'n_estimators': 9834, 'gamma': 7.085701789117235, 'min_child_weight': 73, 'colsample_bytree': 0.4747357255700767, 'subsample': 0.31954959802711413}. Best is trial 2 with value: 0.5201768523518538.\u001b[0m\n"
     ]
    },
    {
     "name": "stdout",
     "output_type": "stream",
     "text": [
      "0 1 2 3 4 "
     ]
    },
    {
     "name": "stderr",
     "output_type": "stream",
     "text": [
      "\u001b[32m[I 2023-02-09 02:12:14,111]\u001b[0m Trial 8 finished with value: 0.48520626459983607 and parameters: {'max_depth': 4, 'learning_rate': 0.001176282786016261, 'n_estimators': 5309, 'gamma': 8.282044115231015, 'min_child_weight': 22, 'colsample_bytree': 0.6857818044469169, 'subsample': 0.41977028608929556}. Best is trial 2 with value: 0.5201768523518538.\u001b[0m\n"
     ]
    },
    {
     "name": "stdout",
     "output_type": "stream",
     "text": [
      "0 1 2 3 4 "
     ]
    },
    {
     "name": "stderr",
     "output_type": "stream",
     "text": [
      "\u001b[32m[I 2023-02-09 02:12:48,841]\u001b[0m Trial 9 finished with value: 0.47240708841388707 and parameters: {'max_depth': 3, 'learning_rate': 0.010521139537022101, 'n_estimators': 9476, 'gamma': 5.240614983728555, 'min_child_weight': 67, 'colsample_bytree': 0.7005700660792067, 'subsample': 0.5444185740539329}. Best is trial 2 with value: 0.5201768523518538.\u001b[0m\n"
     ]
    },
    {
     "name": "stdout",
     "output_type": "stream",
     "text": [
      "0 1 2 3 4 "
     ]
    },
    {
     "name": "stderr",
     "output_type": "stream",
     "text": [
      "\u001b[32m[I 2023-02-09 02:13:23,307]\u001b[0m Trial 10 finished with value: 0.5111579541629585 and parameters: {'max_depth': 2, 'learning_rate': 0.00011532639710089187, 'n_estimators': 6880, 'gamma': 1.230518067062465, 'min_child_weight': 98, 'colsample_bytree': 0.25053301959736407, 'subsample': 0.6958436775342121}. Best is trial 2 with value: 0.5201768523518538.\u001b[0m\n"
     ]
    },
    {
     "name": "stdout",
     "output_type": "stream",
     "text": [
      "0 1 2 3 4 "
     ]
    },
    {
     "name": "stderr",
     "output_type": "stream",
     "text": [
      "\u001b[32m[I 2023-02-09 02:13:51,533]\u001b[0m Trial 11 finished with value: 0.502443881940631 and parameters: {'max_depth': 2, 'learning_rate': 0.00010219589630758308, 'n_estimators': 7152, 'gamma': 0.6451800064723381, 'min_child_weight': 100, 'colsample_bytree': 0.2201067086032978, 'subsample': 0.7103943684578886}. Best is trial 2 with value: 0.5201768523518538.\u001b[0m\n"
     ]
    },
    {
     "name": "stdout",
     "output_type": "stream",
     "text": [
      "0 1 2 3 4 "
     ]
    },
    {
     "name": "stderr",
     "output_type": "stream",
     "text": [
      "\u001b[32m[I 2023-02-09 02:14:20,795]\u001b[0m Trial 12 finished with value: 0.5284302821369959 and parameters: {'max_depth': 5, 'learning_rate': 0.00011540098159641986, 'n_estimators': 7707, 'gamma': 9.309305391706507, 'min_child_weight': 56, 'colsample_bytree': 0.24247732053633186, 'subsample': 0.6664491194084398}. Best is trial 12 with value: 0.5284302821369959.\u001b[0m\n"
     ]
    },
    {
     "name": "stdout",
     "output_type": "stream",
     "text": [
      "0 1 2 3 4 "
     ]
    },
    {
     "name": "stderr",
     "output_type": "stream",
     "text": [
      "\u001b[32m[I 2023-02-09 02:14:48,987]\u001b[0m Trial 13 finished with value: 0.5122260346240632 and parameters: {'max_depth': 5, 'learning_rate': 0.00021370757886566134, 'n_estimators': 7919, 'gamma': 9.498877707720348, 'min_child_weight': 58, 'colsample_bytree': 0.3280699666466076, 'subsample': 0.649964744631724}. Best is trial 12 with value: 0.5284302821369959.\u001b[0m\n"
     ]
    },
    {
     "name": "stdout",
     "output_type": "stream",
     "text": [
      "0 1 2 3 4 "
     ]
    },
    {
     "name": "stderr",
     "output_type": "stream",
     "text": [
      "\u001b[32m[I 2023-02-09 02:15:17,995]\u001b[0m Trial 14 finished with value: 0.5219221597246371 and parameters: {'max_depth': 5, 'learning_rate': 0.00023441556355929786, 'n_estimators': 2834, 'gamma': 9.992287299504051, 'min_child_weight': 52, 'colsample_bytree': 0.3078176263967659, 'subsample': 0.6306461511196884}. Best is trial 12 with value: 0.5284302821369959.\u001b[0m\n"
     ]
    },
    {
     "name": "stdout",
     "output_type": "stream",
     "text": [
      "0 1 2 3 4 "
     ]
    },
    {
     "name": "stderr",
     "output_type": "stream",
     "text": [
      "\u001b[32m[I 2023-02-09 02:15:37,278]\u001b[0m Trial 15 finished with value: 0.5263775039772339 and parameters: {'max_depth': 6, 'learning_rate': 0.00015835750092792628, 'n_estimators': 2982, 'gamma': 9.925040280373294, 'min_child_weight': 53, 'colsample_bytree': 0.20260190238899242, 'subsample': 0.59463180458969}. Best is trial 12 with value: 0.5284302821369959.\u001b[0m\n"
     ]
    },
    {
     "name": "stdout",
     "output_type": "stream",
     "text": [
      "0 1 2 3 4 "
     ]
    },
    {
     "name": "stderr",
     "output_type": "stream",
     "text": [
      "\u001b[32m[I 2023-02-09 02:16:11,707]\u001b[0m Trial 16 finished with value: 0.5246795328853058 and parameters: {'max_depth': 6, 'learning_rate': 0.0011670609278370647, 'n_estimators': 6129, 'gamma': 8.761216106774654, 'min_child_weight': 65, 'colsample_bytree': 0.22001562419180343, 'subsample': 0.7679106503188496}. Best is trial 12 with value: 0.5284302821369959.\u001b[0m\n"
     ]
    },
    {
     "name": "stdout",
     "output_type": "stream",
     "text": [
      "0 1 2 3 4 "
     ]
    },
    {
     "name": "stderr",
     "output_type": "stream",
     "text": [
      "\u001b[32m[I 2023-02-09 02:16:38,069]\u001b[0m Trial 17 finished with value: 0.507116370253 and parameters: {'max_depth': 7, 'learning_rate': 0.00010146913905066026, 'n_estimators': 3266, 'gamma': 8.41626526381472, 'min_child_weight': 78, 'colsample_bytree': 0.39662481685763473, 'subsample': 0.599083774109741}. Best is trial 12 with value: 0.5284302821369959.\u001b[0m\n"
     ]
    },
    {
     "name": "stdout",
     "output_type": "stream",
     "text": [
      "0 1 2 3 4 "
     ]
    },
    {
     "name": "stderr",
     "output_type": "stream",
     "text": [
      "\u001b[32m[I 2023-02-09 02:17:25,967]\u001b[0m Trial 18 finished with value: 0.5300012664785901 and parameters: {'max_depth': 5, 'learning_rate': 0.00021958759063632168, 'n_estimators': 8167, 'gamma': 9.815108124991168, 'min_child_weight': 57, 'colsample_bytree': 0.20247051186516785, 'subsample': 0.8963316740481351}. Best is trial 18 with value: 0.5300012664785901.\u001b[0m\n"
     ]
    },
    {
     "name": "stdout",
     "output_type": "stream",
     "text": [
      "0 1 2 3 4 "
     ]
    },
    {
     "name": "stderr",
     "output_type": "stream",
     "text": [
      "\u001b[32m[I 2023-02-09 02:18:00,168]\u001b[0m Trial 19 finished with value: 0.49624505672062347 and parameters: {'max_depth': 5, 'learning_rate': 0.00025862607751458945, 'n_estimators': 8377, 'gamma': 8.239804466454146, 'min_child_weight': 83, 'colsample_bytree': 0.5803186293104808, 'subsample': 0.8550907063665235}. Best is trial 18 with value: 0.5300012664785901.\u001b[0m\n"
     ]
    },
    {
     "name": "stdout",
     "output_type": "stream",
     "text": [
      "0 1 2 3 4 "
     ]
    },
    {
     "name": "stderr",
     "output_type": "stream",
     "text": [
      "\u001b[32m[I 2023-02-09 02:18:29,693]\u001b[0m Trial 20 finished with value: 0.5133616473374059 and parameters: {'max_depth': 3, 'learning_rate': 0.0007159816538887359, 'n_estimators': 8617, 'gamma': 9.162593914482196, 'min_child_weight': 61, 'colsample_bytree': 0.3708269098814799, 'subsample': 0.7777641994198267}. Best is trial 18 with value: 0.5300012664785901.\u001b[0m\n"
     ]
    },
    {
     "name": "stdout",
     "output_type": "stream",
     "text": [
      "0 1 2 3 4 "
     ]
    },
    {
     "name": "stderr",
     "output_type": "stream",
     "text": [
      "\u001b[32m[I 2023-02-09 02:19:15,320]\u001b[0m Trial 21 finished with value: 0.5326174560283946 and parameters: {'max_depth': 7, 'learning_rate': 0.00014943382293955388, 'n_estimators': 5905, 'gamma': 9.377503225675342, 'min_child_weight': 58, 'colsample_bytree': 0.20653293256995398, 'subsample': 0.8978657961927203}. Best is trial 21 with value: 0.5326174560283946.\u001b[0m\n"
     ]
    },
    {
     "name": "stdout",
     "output_type": "stream",
     "text": [
      "0 1 2 3 4 "
     ]
    },
    {
     "name": "stderr",
     "output_type": "stream",
     "text": [
      "\u001b[32m[I 2023-02-09 02:20:04,657]\u001b[0m Trial 22 finished with value: 0.521831030164085 and parameters: {'max_depth': 7, 'learning_rate': 0.0002147359589235725, 'n_estimators': 6424, 'gamma': 7.825916818464605, 'min_child_weight': 44, 'colsample_bytree': 0.26529282443767027, 'subsample': 0.8933634724300725}. Best is trial 21 with value: 0.5326174560283946.\u001b[0m\n"
     ]
    },
    {
     "name": "stdout",
     "output_type": "stream",
     "text": [
      "0 1 2 3 4 "
     ]
    },
    {
     "name": "stderr",
     "output_type": "stream",
     "text": [
      "\u001b[32m[I 2023-02-09 02:20:43,392]\u001b[0m Trial 23 finished with value: 0.5306394723717501 and parameters: {'max_depth': 5, 'learning_rate': 0.00018560534990284052, 'n_estimators': 5675, 'gamma': 8.980545156971663, 'min_child_weight': 72, 'colsample_bytree': 0.2770275275085955, 'subsample': 0.8903187236145252}. Best is trial 21 with value: 0.5326174560283946.\u001b[0m\n"
     ]
    },
    {
     "name": "stdout",
     "output_type": "stream",
     "text": [
      "0 1 2 3 4 "
     ]
    },
    {
     "name": "stderr",
     "output_type": "stream",
     "text": [
      "\u001b[32m[I 2023-02-09 02:21:16,940]\u001b[0m Trial 24 finished with value: 0.5289208394868198 and parameters: {'max_depth': 8, 'learning_rate': 0.00032282849849011745, 'n_estimators': 5544, 'gamma': 8.979841069424303, 'min_child_weight': 71, 'colsample_bytree': 0.2896860862063714, 'subsample': 0.8203946242531157}. Best is trial 21 with value: 0.5326174560283946.\u001b[0m\n"
     ]
    },
    {
     "name": "stdout",
     "output_type": "stream",
     "text": [
      "0 1 2 3 4 "
     ]
    },
    {
     "name": "stderr",
     "output_type": "stream",
     "text": [
      "\u001b[32m[I 2023-02-09 02:21:53,117]\u001b[0m Trial 25 finished with value: 0.5335883869565885 and parameters: {'max_depth': 7, 'learning_rate': 0.0001812177588829213, 'n_estimators': 4228, 'gamma': 9.995778472456966, 'min_child_weight': 93, 'colsample_bytree': 0.21266483414979495, 'subsample': 0.892568158510844}. Best is trial 25 with value: 0.5335883869565885.\u001b[0m\n"
     ]
    },
    {
     "name": "stdout",
     "output_type": "stream",
     "text": [
      "0 1 2 3 4 "
     ]
    },
    {
     "name": "stderr",
     "output_type": "stream",
     "text": [
      "\u001b[32m[I 2023-02-09 02:22:21,201]\u001b[0m Trial 26 finished with value: 0.4962223566398286 and parameters: {'max_depth': 9, 'learning_rate': 0.0007631753813114138, 'n_estimators': 4053, 'gamma': 7.850886289195237, 'min_child_weight': 90, 'colsample_bytree': 0.3482091720310103, 'subsample': 0.772889828674909}. Best is trial 25 with value: 0.5335883869565885.\u001b[0m\n"
     ]
    },
    {
     "name": "stdout",
     "output_type": "stream",
     "text": [
      "0 1 2 3 4 "
     ]
    },
    {
     "name": "stderr",
     "output_type": "stream",
     "text": [
      "\u001b[32m[I 2023-02-09 02:23:01,901]\u001b[0m Trial 27 finished with value: 0.5287412539844365 and parameters: {'max_depth': 7, 'learning_rate': 0.0001879460431847782, 'n_estimators': 5953, 'gamma': 8.899778893407127, 'min_child_weight': 90, 'colsample_bytree': 0.27763305378993053, 'subsample': 0.8489847388218621}. Best is trial 25 with value: 0.5335883869565885.\u001b[0m\n"
     ]
    },
    {
     "name": "stdout",
     "output_type": "stream",
     "text": [
      "0 1 2 3 4 "
     ]
    },
    {
     "name": "stderr",
     "output_type": "stream",
     "text": [
      "\u001b[32m[I 2023-02-09 02:23:23,231]\u001b[0m Trial 28 finished with value: 0.5128236858740733 and parameters: {'max_depth': 9, 'learning_rate': 0.0003744236046665105, 'n_estimators': 4900, 'gamma': 7.7767110853854415, 'min_child_weight': 77, 'colsample_bytree': 0.333411228261101, 'subsample': 0.8985627033396169}. Best is trial 25 with value: 0.5335883869565885.\u001b[0m\n"
     ]
    },
    {
     "name": "stdout",
     "output_type": "stream",
     "text": [
      "0 1 2 3 4 "
     ]
    },
    {
     "name": "stderr",
     "output_type": "stream",
     "text": [
      "\u001b[32m[I 2023-02-09 02:23:49,125]\u001b[0m Trial 29 finished with value: 0.5019695325111417 and parameters: {'max_depth': 6, 'learning_rate': 0.0004908726263932697, 'n_estimators': 2063, 'gamma': 9.04302827191699, 'min_child_weight': 92, 'colsample_bytree': 0.4302297983609997, 'subsample': 0.8102040021453004}. Best is trial 25 with value: 0.5335883869565885.\u001b[0m\n"
     ]
    },
    {
     "name": "stdout",
     "output_type": "stream",
     "text": [
      "0 1 2 3 4 "
     ]
    },
    {
     "name": "stderr",
     "output_type": "stream",
     "text": [
      "\u001b[32m[I 2023-02-09 02:24:18,804]\u001b[0m Trial 30 finished with value: 0.5243112689128091 and parameters: {'max_depth': 6, 'learning_rate': 0.00015551054655011596, 'n_estimators': 3859, 'gamma': 9.416737125056502, 'min_child_weight': 82, 'colsample_bytree': 0.2699868237065842, 'subsample': 0.747914092045291}. Best is trial 25 with value: 0.5335883869565885.\u001b[0m\n"
     ]
    },
    {
     "name": "stdout",
     "output_type": "stream",
     "text": [
      "0 1 2 3 4 "
     ]
    },
    {
     "name": "stderr",
     "output_type": "stream",
     "text": [
      "\u001b[32m[I 2023-02-09 02:24:56,576]\u001b[0m Trial 31 finished with value: 0.5352919338788799 and parameters: {'max_depth': 5, 'learning_rate': 0.000270134857298064, 'n_estimators': 6862, 'gamma': 9.905195130197818, 'min_child_weight': 66, 'colsample_bytree': 0.217733651517636, 'subsample': 0.8948103134892086}. Best is trial 31 with value: 0.5352919338788799.\u001b[0m\n"
     ]
    },
    {
     "name": "stdout",
     "output_type": "stream",
     "text": [
      "0 1 2 3 4 "
     ]
    },
    {
     "name": "stderr",
     "output_type": "stream",
     "text": [
      "\u001b[32m[I 2023-02-09 02:25:42,328]\u001b[0m Trial 32 finished with value: 0.5372966959358523 and parameters: {'max_depth': 7, 'learning_rate': 0.00030697583041108936, 'n_estimators': 6953, 'gamma': 9.934624092061162, 'min_child_weight': 64, 'colsample_bytree': 0.2562969531245944, 'subsample': 0.8403593057310367}. Best is trial 32 with value: 0.5372966959358523.\u001b[0m\n"
     ]
    },
    {
     "name": "stdout",
     "output_type": "stream",
     "text": [
      "0 1 2 3 4 "
     ]
    },
    {
     "name": "stderr",
     "output_type": "stream",
     "text": [
      "\u001b[32m[I 2023-02-09 02:26:28,951]\u001b[0m Trial 33 finished with value: 0.5392774376073499 and parameters: {'max_depth': 8, 'learning_rate': 0.00033309336466060566, 'n_estimators': 6869, 'gamma': 9.815617437392243, 'min_child_weight': 21, 'colsample_bytree': 0.20359391322581583, 'subsample': 0.8384068440062318}. Best is trial 33 with value: 0.5392774376073499.\u001b[0m\n"
     ]
    },
    {
     "name": "stdout",
     "output_type": "stream",
     "text": [
      "0 1 2 3 4 "
     ]
    },
    {
     "name": "stderr",
     "output_type": "stream",
     "text": [
      "\u001b[32m[I 2023-02-09 02:26:54,270]\u001b[0m Trial 34 finished with value: 0.4940156483345023 and parameters: {'max_depth': 8, 'learning_rate': 0.0003167623350696325, 'n_estimators': 7196, 'gamma': 9.814759496306142, 'min_child_weight': 5, 'colsample_bytree': 0.3382450867058975, 'subsample': 0.826583194916941}. Best is trial 33 with value: 0.5392774376073499.\u001b[0m\n"
     ]
    },
    {
     "name": "stdout",
     "output_type": "stream",
     "text": [
      "0 1 2 3 4 "
     ]
    },
    {
     "name": "stderr",
     "output_type": "stream",
     "text": [
      "\u001b[32m[I 2023-02-09 02:27:44,372]\u001b[0m Trial 35 finished with value: 0.542387181135103 and parameters: {'max_depth': 10, 'learning_rate': 0.00038335440199808356, 'n_estimators': 8997, 'gamma': 9.824298168657974, 'min_child_weight': 22, 'colsample_bytree': 0.24137733355645757, 'subsample': 0.7990993576890345}. Best is trial 35 with value: 0.542387181135103.\u001b[0m\n"
     ]
    },
    {
     "name": "stdout",
     "output_type": "stream",
     "text": [
      "0 1 2 3 4 "
     ]
    },
    {
     "name": "stderr",
     "output_type": "stream",
     "text": [
      "\u001b[32m[I 2023-02-09 02:28:35,223]\u001b[0m Trial 36 finished with value: 0.5397015117435581 and parameters: {'max_depth': 10, 'learning_rate': 0.0005007004280912661, 'n_estimators': 9059, 'gamma': 8.60790034821735, 'min_child_weight': 19, 'colsample_bytree': 0.30083105317337966, 'subsample': 0.8020055291368684}. Best is trial 35 with value: 0.542387181135103.\u001b[0m\n"
     ]
    },
    {
     "name": "stdout",
     "output_type": "stream",
     "text": [
      "0 1 2 3 4 "
     ]
    },
    {
     "name": "stderr",
     "output_type": "stream",
     "text": [
      "\u001b[32m[I 2023-02-09 02:29:19,226]\u001b[0m Trial 37 finished with value: 0.5218788604880757 and parameters: {'max_depth': 10, 'learning_rate': 0.0004882595994551123, 'n_estimators': 9189, 'gamma': 8.471990004667042, 'min_child_weight': 21, 'colsample_bytree': 0.29516833134903003, 'subsample': 0.7305198860101381}. Best is trial 35 with value: 0.542387181135103.\u001b[0m\n"
     ]
    },
    {
     "name": "stdout",
     "output_type": "stream",
     "text": [
      "0 1 2 3 4 "
     ]
    },
    {
     "name": "stderr",
     "output_type": "stream",
     "text": [
      "\u001b[32m[I 2023-02-09 02:29:55,350]\u001b[0m Trial 38 finished with value: 0.4808506482667177 and parameters: {'max_depth': 10, 'learning_rate': 0.00076321218595904, 'n_estimators': 8848, 'gamma': 6.3278055524009105, 'min_child_weight': 12, 'colsample_bytree': 0.36385110126890696, 'subsample': 0.704501730852865}. Best is trial 35 with value: 0.542387181135103.\u001b[0m\n"
     ]
    },
    {
     "name": "stdout",
     "output_type": "stream",
     "text": [
      "0 1 2 3 4 "
     ]
    },
    {
     "name": "stderr",
     "output_type": "stream",
     "text": [
      "\u001b[32m[I 2023-02-09 02:30:38,693]\u001b[0m Trial 39 finished with value: 0.5300236517493084 and parameters: {'max_depth': 9, 'learning_rate': 0.00036727708740342044, 'n_estimators': 9928, 'gamma': 7.646093470075663, 'min_child_weight': 29, 'colsample_bytree': 0.25190627886011535, 'subsample': 0.8018278932614891}. Best is trial 35 with value: 0.542387181135103.\u001b[0m\n"
     ]
    },
    {
     "name": "stdout",
     "output_type": "stream",
     "text": [
      "0 1 2 3 4 "
     ]
    },
    {
     "name": "stderr",
     "output_type": "stream",
     "text": [
      "\u001b[32m[I 2023-02-09 02:31:30,427]\u001b[0m Trial 40 finished with value: 0.5345841953025883 and parameters: {'max_depth': 8, 'learning_rate': 0.0015850990193630589, 'n_estimators': 9089, 'gamma': 7.186243197317106, 'min_child_weight': 15, 'colsample_bytree': 0.31334066410980643, 'subsample': 0.7440101483741771}. Best is trial 35 with value: 0.542387181135103.\u001b[0m\n"
     ]
    },
    {
     "name": "stdout",
     "output_type": "stream",
     "text": [
      "0 1 2 3 4 "
     ]
    },
    {
     "name": "stderr",
     "output_type": "stream",
     "text": [
      "\u001b[32m[I 2023-02-09 02:32:16,519]\u001b[0m Trial 41 finished with value: 0.535144008523073 and parameters: {'max_depth': 9, 'learning_rate': 0.00047512650712212145, 'n_estimators': 7496, 'gamma': 8.653397612551334, 'min_child_weight': 30, 'colsample_bytree': 0.23439339377386184, 'subsample': 0.8457813828812158}. Best is trial 35 with value: 0.542387181135103.\u001b[0m\n"
     ]
    },
    {
     "name": "stdout",
     "output_type": "stream",
     "text": [
      "0 1 2 3 4 "
     ]
    },
    {
     "name": "stderr",
     "output_type": "stream",
     "text": [
      "\u001b[32m[I 2023-02-09 02:32:40,367]\u001b[0m Trial 42 finished with value: 0.5197397222150284 and parameters: {'max_depth': 10, 'learning_rate': 0.0006070764610157281, 'n_estimators': 6824, 'gamma': 9.517648688125766, 'min_child_weight': 46, 'colsample_bytree': 0.23973333710873973, 'subsample': 0.7928014610854694}. Best is trial 35 with value: 0.542387181135103.\u001b[0m\n"
     ]
    },
    {
     "name": "stdout",
     "output_type": "stream",
     "text": [
      "0 1 2 3 4 "
     ]
    },
    {
     "name": "stderr",
     "output_type": "stream",
     "text": [
      "\u001b[32m[I 2023-02-09 02:33:20,352]\u001b[0m Trial 43 finished with value: 0.53558331627373 and parameters: {'max_depth': 10, 'learning_rate': 0.0003197490084502123, 'n_estimators': 6565, 'gamma': 9.514413625012162, 'min_child_weight': 16, 'colsample_bytree': 0.3041863405245144, 'subsample': 0.8378411423008587}. Best is trial 35 with value: 0.542387181135103.\u001b[0m\n"
     ]
    },
    {
     "name": "stdout",
     "output_type": "stream",
     "text": [
      "0 1 2 3 4 "
     ]
    },
    {
     "name": "stderr",
     "output_type": "stream",
     "text": [
      "\u001b[32m[I 2023-02-09 02:33:50,431]\u001b[0m Trial 44 finished with value: 0.5288654196779271 and parameters: {'max_depth': 10, 'learning_rate': 0.00038406269899836213, 'n_estimators': 6504, 'gamma': 8.073780883085872, 'min_child_weight': 14, 'colsample_bytree': 0.30280366955379273, 'subsample': 0.8325638125439139}. Best is trial 35 with value: 0.542387181135103.\u001b[0m\n"
     ]
    },
    {
     "name": "stdout",
     "output_type": "stream",
     "text": [
      "0 1 2 3 4 "
     ]
    },
    {
     "name": "stderr",
     "output_type": "stream",
     "text": [
      "\u001b[32m[I 2023-02-09 02:34:28,651]\u001b[0m Trial 45 finished with value: 0.5362949933279053 and parameters: {'max_depth': 9, 'learning_rate': 0.0009952701626602643, 'n_estimators': 7552, 'gamma': 8.59348764031264, 'min_child_weight': 7, 'colsample_bytree': 0.2588422299143107, 'subsample': 0.8003368376634354}. Best is trial 35 with value: 0.542387181135103.\u001b[0m\n"
     ]
    },
    {
     "name": "stdout",
     "output_type": "stream",
     "text": [
      "0 1 2 3 4 "
     ]
    },
    {
     "name": "stderr",
     "output_type": "stream",
     "text": [
      "\u001b[32m[I 2023-02-09 02:35:11,517]\u001b[0m Trial 46 finished with value: 0.529251810546226 and parameters: {'max_depth': 9, 'learning_rate': 0.0008733890078633737, 'n_estimators': 9401, 'gamma': 8.45895547263353, 'min_child_weight': 3, 'colsample_bytree': 0.25830168519395913, 'subsample': 0.7776732398444252}. Best is trial 35 with value: 0.542387181135103.\u001b[0m\n"
     ]
    },
    {
     "name": "stdout",
     "output_type": "stream",
     "text": [
      "0 1 2 3 4 "
     ]
    },
    {
     "name": "stderr",
     "output_type": "stream",
     "text": [
      "\u001b[32m[I 2023-02-09 02:35:42,540]\u001b[0m Trial 47 finished with value: 0.5139165098195481 and parameters: {'max_depth': 8, 'learning_rate': 0.0005734158500961425, 'n_estimators': 7926, 'gamma': 7.449903301804376, 'min_child_weight': 8, 'colsample_bytree': 0.24893602804978168, 'subsample': 0.7290283073362414}. Best is trial 35 with value: 0.542387181135103.\u001b[0m\n"
     ]
    },
    {
     "name": "stdout",
     "output_type": "stream",
     "text": [
      "0 1 2 3 4 "
     ]
    },
    {
     "name": "stderr",
     "output_type": "stream",
     "text": [
      "\u001b[32m[I 2023-02-09 02:35:52,424]\u001b[0m Trial 48 finished with value: 0.5161919739584905 and parameters: {'max_depth': 9, 'learning_rate': 0.0017409691613339477, 'n_estimators': 32, 'gamma': 8.672952660344059, 'min_child_weight': 37, 'colsample_bytree': 0.36383365495427156, 'subsample': 0.803219814746866}. Best is trial 35 with value: 0.542387181135103.\u001b[0m\n"
     ]
    },
    {
     "name": "stdout",
     "output_type": "stream",
     "text": [
      "0 1 2 3 4 "
     ]
    },
    {
     "name": "stderr",
     "output_type": "stream",
     "text": [
      "\u001b[32m[I 2023-02-09 02:36:27,530]\u001b[0m Trial 49 finished with value: 0.5390004579155038 and parameters: {'max_depth': 8, 'learning_rate': 0.0011062028948626466, 'n_estimators': 8571, 'gamma': 6.848999040007493, 'min_child_weight': 23, 'colsample_bytree': 0.32083471646492884, 'subsample': 0.6824965161114558}. Best is trial 35 with value: 0.542387181135103.\u001b[0m\n"
     ]
    }
   ],
   "source": [
    "study = optuna.create_study(direction = \"maximize\")\n",
    "study.optimize(objective, n_trials = 50, timeout = 3600)"
   ]
  },
  {
   "cell_type": "code",
   "execution_count": 134,
   "id": "ecc1c700",
   "metadata": {},
   "outputs": [
    {
     "data": {
      "text/plain": [
       "0.542387181135103"
      ]
     },
     "execution_count": 134,
     "metadata": {},
     "output_type": "execute_result"
    }
   ],
   "source": [
    "study.best_trial.value"
   ]
  },
  {
   "cell_type": "code",
   "execution_count": 135,
   "id": "c3caf794",
   "metadata": {},
   "outputs": [
    {
     "data": {
      "text/plain": [
       "{'max_depth': 10,\n",
       " 'learning_rate': 0.00038335440199808356,\n",
       " 'n_estimators': 8997,\n",
       " 'gamma': 9.824298168657974,\n",
       " 'min_child_weight': 22,\n",
       " 'colsample_bytree': 0.24137733355645757,\n",
       " 'subsample': 0.7990993576890345}"
      ]
     },
     "execution_count": 135,
     "metadata": {},
     "output_type": "execute_result"
    }
   ],
   "source": [
    "study.best_trial.params"
   ]
  },
  {
   "cell_type": "markdown",
   "id": "2b3da754",
   "metadata": {},
   "source": [
    "# XGBoost Modeling"
   ]
  },
  {
   "cell_type": "code",
   "execution_count": 147,
   "id": "c6e6b9ed",
   "metadata": {},
   "outputs": [
    {
     "name": "stdout",
     "output_type": "stream",
     "text": [
      "The average roc-auc score over 5-folds (run 5 times) is: 0.5149514943910498\n"
     ]
    }
   ],
   "source": [
    "XGB_cv_scores, XGB_imp = list(), list()\n",
    "preds = list()\n",
    "\n",
    "## Running 5 times CV\n",
    "# for i in range(5):\n",
    "    \n",
    "#     skf = StratifiedKFold(n_splits = 5, random_state = 40, shuffle = True)\n",
    "skf = KFold(n_splits = 5, random_state = 42, shuffle = True)\n",
    "    \n",
    "for train_ix, test_ix in skf.split(X, Y):\n",
    "        \n",
    "    ## Splitting the data \n",
    "    X_train, X_test = X.iloc[train_ix], X.iloc[test_ix]\n",
    "    Y_train, Y_test = Y.iloc[train_ix], Y.iloc[test_ix]\n",
    "                \n",
    "    ## Building RF model\n",
    "    XGB_md = XGBRegressor(**study.best_trial.params, random_state = 42).fit(X_train, Y_train)\n",
    "#     XGB_md = XGBRegressor(tree_method = 'hist',\n",
    "#                           colsample_bytree = 0.2715039879238372, \n",
    "#                           gamma = 8.977910227926444, \n",
    "#                           learning_rate = 0.048945719202738824, \n",
    "#                           max_depth = 6, \n",
    "#                           min_child_weight = 71, \n",
    "#                           n_estimators = 1189, \n",
    "#                           subsample = 0.739476345973539, \n",
    "#                           random_state = 42).fit(X_train, Y_train)\n",
    "    XGB_imp.append(XGB_md.feature_importances_)\n",
    "        \n",
    "    ## Predicting on X_test and test\n",
    "    XGB_pred_1 = XGB_md.predict(X_test)\n",
    "    XGB_pred_2 = XGB_md.predict(test_md)\n",
    "        \n",
    "    ## Applying Optimal Rounder (using abhishek approach)\n",
    "    optR = OptimizedRounder()\n",
    "#     optR.fit(XGB_md.predict(X_train), Y_train)\n",
    "    optR.fit(XGB_pred_1, Y_test)\n",
    "    coef = optR.coefficients()\n",
    "    XGB_pred_1 = optR.predict(XGB_pred_1, coef).astype(int)\n",
    "    XGB_pred_2 = optR.predict(XGB_pred_2, coef).astype(int)\n",
    "        \n",
    "    ## Computing weighted quadratic kappa\n",
    "    XGB_cv_scores.append(cohen_kappa_score(Y_test, XGB_pred_1, weights = 'quadratic'))\n",
    "    preds.append(XGB_pred_2)\n",
    "\n",
    "XGB_cv_score = np.mean(XGB_cv_scores)    \n",
    "print('The average roc-auc score over 5-folds (run 5 times) is:', XGB_cv_score)"
   ]
  },
  {
   "cell_type": "code",
   "execution_count": 148,
   "id": "fb49ef8e",
   "metadata": {},
   "outputs": [
    {
     "data": {
      "text/html": [
       "<div>\n",
       "<style scoped>\n",
       "    .dataframe tbody tr th:only-of-type {\n",
       "        vertical-align: middle;\n",
       "    }\n",
       "\n",
       "    .dataframe tbody tr th {\n",
       "        vertical-align: top;\n",
       "    }\n",
       "\n",
       "    .dataframe thead th {\n",
       "        text-align: right;\n",
       "    }\n",
       "</style>\n",
       "<table border=\"1\" class=\"dataframe\">\n",
       "  <thead>\n",
       "    <tr style=\"text-align: right;\">\n",
       "      <th></th>\n",
       "      <th>Id</th>\n",
       "      <th>quality</th>\n",
       "    </tr>\n",
       "  </thead>\n",
       "  <tbody>\n",
       "    <tr>\n",
       "      <th>0</th>\n",
       "      <td>2056</td>\n",
       "      <td>5</td>\n",
       "    </tr>\n",
       "    <tr>\n",
       "      <th>1</th>\n",
       "      <td>2057</td>\n",
       "      <td>6</td>\n",
       "    </tr>\n",
       "    <tr>\n",
       "      <th>2</th>\n",
       "      <td>2058</td>\n",
       "      <td>5</td>\n",
       "    </tr>\n",
       "    <tr>\n",
       "      <th>3</th>\n",
       "      <td>2059</td>\n",
       "      <td>6</td>\n",
       "    </tr>\n",
       "    <tr>\n",
       "      <th>4</th>\n",
       "      <td>2060</td>\n",
       "      <td>6</td>\n",
       "    </tr>\n",
       "  </tbody>\n",
       "</table>\n",
       "</div>"
      ],
      "text/plain": [
       "     Id  quality\n",
       "0  2056        5\n",
       "1  2057        6\n",
       "2  2058        5\n",
       "3  2059        6\n",
       "4  2060        6"
      ]
     },
     "execution_count": 148,
     "metadata": {},
     "output_type": "execute_result"
    }
   ],
   "source": [
    "XGB_preds_test = pd.DataFrame(preds).mode(axis = 0).loc[0, ]\n",
    "\n",
    "submission['quality'] = XGB_preds_test.astype(int)\n",
    "submission.head()"
   ]
  },
  {
   "cell_type": "code",
   "execution_count": 149,
   "id": "01be4fa2",
   "metadata": {},
   "outputs": [
    {
     "data": {
      "text/plain": [
       "5    645\n",
       "6    450\n",
       "7    277\n",
       "Name: quality, dtype: int64"
      ]
     },
     "execution_count": 149,
     "metadata": {},
     "output_type": "execute_result"
    }
   ],
   "source": [
    "submission['quality'].value_counts()"
   ]
  },
  {
   "cell_type": "code",
   "execution_count": 150,
   "id": "f9b39750",
   "metadata": {},
   "outputs": [],
   "source": [
    "submission.to_csv('XGB_Reg_FE_8.csv', index = False)"
   ]
  },
  {
   "cell_type": "code",
   "execution_count": 75,
   "id": "ea82dfe6",
   "metadata": {},
   "outputs": [
    {
     "data": {
      "text/plain": [
       "5    634\n",
       "6    410\n",
       "7    328\n",
       "Name: quality, dtype: int64"
      ]
     },
     "execution_count": 75,
     "metadata": {},
     "output_type": "execute_result"
    }
   ],
   "source": [
    "submission['quality'].value_counts()"
   ]
  },
  {
   "cell_type": "code",
   "execution_count": 76,
   "id": "60f7be7b",
   "metadata": {},
   "outputs": [],
   "source": [
    "submission.to_csv('XGB_Reg_FE_6.csv', index = False)"
   ]
  },
  {
   "cell_type": "code",
   "execution_count": 10,
   "id": "b534ebce",
   "metadata": {},
   "outputs": [
    {
     "data": {
      "text/plain": [
       "5    622\n",
       "6    417\n",
       "7    333\n",
       "Name: quality, dtype: int64"
      ]
     },
     "execution_count": 10,
     "metadata": {},
     "output_type": "execute_result"
    }
   ],
   "source": [
    "submission['quality'].value_counts()"
   ]
  },
  {
   "cell_type": "code",
   "execution_count": 11,
   "id": "6983b737",
   "metadata": {},
   "outputs": [],
   "source": [
    "submission.to_csv('XGB_Reg_FE_5.csv', index = False)"
   ]
  },
  {
   "cell_type": "code",
   "execution_count": 140,
   "id": "24cfd5f2",
   "metadata": {},
   "outputs": [],
   "source": [
    "XGB_md = XGBRegressor(**study.best_trial.params, \n",
    "                      random_state = 42).fit(X, Y)\n",
    "# XGB_md = XGBRegressor(tree_method = 'hist',\n",
    "#                       colsample_bytree = 0.2715039879238372, \n",
    "#                       gamma = 8.977910227926444, \n",
    "#                       learning_rate = 0.048945719202738824, \n",
    "#                       max_depth = 6, \n",
    "#                       min_child_weight = 71, \n",
    "#                       n_estimators = 1189, \n",
    "#                       subsample = 0.739476345973539, \n",
    "#                       random_state = 4).fit(X, Y)\n",
    "\n",
    "optR = OptimizedRounder()\n",
    "optR.fit(XGB_md.predict(X), Y)\n",
    "coef = optR.coefficients()\n",
    "XGB_pred = XGB_md.predict(test_md)\n",
    "XGB_pred = optR.predict(XGB_pred, coef).astype(int)"
   ]
  },
  {
   "cell_type": "code",
   "execution_count": 141,
   "id": "737c05c2",
   "metadata": {},
   "outputs": [
    {
     "data": {
      "text/html": [
       "<div>\n",
       "<style scoped>\n",
       "    .dataframe tbody tr th:only-of-type {\n",
       "        vertical-align: middle;\n",
       "    }\n",
       "\n",
       "    .dataframe tbody tr th {\n",
       "        vertical-align: top;\n",
       "    }\n",
       "\n",
       "    .dataframe thead th {\n",
       "        text-align: right;\n",
       "    }\n",
       "</style>\n",
       "<table border=\"1\" class=\"dataframe\">\n",
       "  <thead>\n",
       "    <tr style=\"text-align: right;\">\n",
       "      <th></th>\n",
       "      <th>Id</th>\n",
       "      <th>quality</th>\n",
       "    </tr>\n",
       "  </thead>\n",
       "  <tbody>\n",
       "    <tr>\n",
       "      <th>0</th>\n",
       "      <td>2056</td>\n",
       "      <td>5</td>\n",
       "    </tr>\n",
       "    <tr>\n",
       "      <th>1</th>\n",
       "      <td>2057</td>\n",
       "      <td>6</td>\n",
       "    </tr>\n",
       "    <tr>\n",
       "      <th>2</th>\n",
       "      <td>2058</td>\n",
       "      <td>5</td>\n",
       "    </tr>\n",
       "    <tr>\n",
       "      <th>3</th>\n",
       "      <td>2059</td>\n",
       "      <td>6</td>\n",
       "    </tr>\n",
       "    <tr>\n",
       "      <th>4</th>\n",
       "      <td>2060</td>\n",
       "      <td>6</td>\n",
       "    </tr>\n",
       "  </tbody>\n",
       "</table>\n",
       "</div>"
      ],
      "text/plain": [
       "     Id  quality\n",
       "0  2056        5\n",
       "1  2057        6\n",
       "2  2058        5\n",
       "3  2059        6\n",
       "4  2060        6"
      ]
     },
     "execution_count": 141,
     "metadata": {},
     "output_type": "execute_result"
    }
   ],
   "source": [
    "submission['quality'] = XGB_pred\n",
    "submission.head()"
   ]
  },
  {
   "cell_type": "code",
   "execution_count": 142,
   "id": "17930d58",
   "metadata": {},
   "outputs": [
    {
     "data": {
      "text/plain": [
       "5    665\n",
       "6    383\n",
       "7    324\n",
       "Name: quality, dtype: int64"
      ]
     },
     "execution_count": 142,
     "metadata": {},
     "output_type": "execute_result"
    }
   ],
   "source": [
    "submission['quality'].value_counts()"
   ]
  },
  {
   "cell_type": "code",
   "execution_count": 143,
   "id": "7eed3c26",
   "metadata": {},
   "outputs": [],
   "source": [
    "submission.to_csv('XGB_Reg_full_FE_7.csv', index = False)"
   ]
  },
  {
   "cell_type": "code",
   "execution_count": 88,
   "id": "8161b360",
   "metadata": {},
   "outputs": [
    {
     "data": {
      "text/plain": [
       "'XGB_Reg_FUll_Seed_1.csv'"
      ]
     },
     "execution_count": 88,
     "metadata": {},
     "output_type": "execute_result"
    }
   ],
   "source": [
    "file_name = 'XGB_Reg_FUll_Seed_' + str(1) + '.csv'\n",
    "file_name"
   ]
  },
  {
   "cell_type": "code",
   "execution_count": 39,
   "id": "a3daed23",
   "metadata": {},
   "outputs": [
    {
     "data": {
      "text/plain": [
       "5    594\n",
       "6    454\n",
       "7    324\n",
       "Name: quality, dtype: int64"
      ]
     },
     "execution_count": 39,
     "metadata": {},
     "output_type": "execute_result"
    }
   ],
   "source": [
    "## seed = 42\n",
    "submission['quality'].value_counts()"
   ]
  },
  {
   "cell_type": "code",
   "execution_count": 42,
   "id": "7d1bbecb",
   "metadata": {},
   "outputs": [
    {
     "data": {
      "text/plain": [
       "5    671\n",
       "6    380\n",
       "7    321\n",
       "Name: quality, dtype: int64"
      ]
     },
     "execution_count": 42,
     "metadata": {},
     "output_type": "execute_result"
    }
   ],
   "source": [
    "## seed 4\n",
    "submission['quality'].value_counts()"
   ]
  },
  {
   "cell_type": "code",
   "execution_count": 15,
   "id": "4b27d274",
   "metadata": {},
   "outputs": [],
   "source": [
    "submission.to_csv('XGB_Reg_full_FE_6.csv', index = False)"
   ]
  },
  {
   "cell_type": "markdown",
   "id": "69ab8a58",
   "metadata": {},
   "source": [
    "# Modeling XGBoost Like Crazy"
   ]
  },
  {
   "cell_type": "code",
   "execution_count": 48,
   "id": "87e01e3f",
   "metadata": {},
   "outputs": [
    {
     "name": "stdout",
     "output_type": "stream",
     "text": [
      "0\n",
      "1\n",
      "2\n",
      "3\n",
      "4\n",
      "5\n",
      "6\n",
      "7\n",
      "8\n",
      "9\n",
      "10\n",
      "11\n",
      "12\n",
      "13\n",
      "14\n",
      "15\n",
      "16\n",
      "17\n",
      "18\n",
      "19\n",
      "20\n",
      "21\n",
      "22\n",
      "23\n",
      "24\n",
      "25\n",
      "26\n",
      "27\n",
      "28\n",
      "29\n",
      "30\n",
      "31\n",
      "32\n",
      "33\n",
      "34\n",
      "35\n",
      "36\n",
      "37\n",
      "38\n",
      "39\n",
      "40\n",
      "41\n",
      "42\n",
      "43\n",
      "44\n",
      "45\n",
      "46\n",
      "47\n",
      "48\n",
      "49\n",
      "50\n",
      "51\n",
      "52\n",
      "53\n",
      "54\n",
      "55\n",
      "56\n",
      "57\n",
      "58\n",
      "59\n",
      "60\n",
      "61\n",
      "62\n",
      "63\n",
      "64\n",
      "65\n",
      "66\n",
      "67\n",
      "68\n",
      "69\n",
      "70\n",
      "71\n",
      "72\n",
      "73\n",
      "74\n",
      "75\n",
      "76\n",
      "77\n",
      "78\n",
      "79\n",
      "80\n",
      "81\n",
      "82\n",
      "83\n",
      "84\n",
      "85\n",
      "86\n",
      "87\n",
      "88\n",
      "89\n",
      "90\n",
      "91\n",
      "92\n",
      "93\n",
      "94\n",
      "95\n",
      "96\n",
      "97\n",
      "98\n",
      "99\n",
      "The average roc-auc score over 5-folds (run 5 times) is: 0.5650031992255752\n"
     ]
    }
   ],
   "source": [
    "XGB_cv_scores, XGB_imp = list(), list()\n",
    "preds = list()\n",
    "\n",
    "## Running 5 times CV\n",
    "for i in range(100):\n",
    "    \n",
    "    print(i)\n",
    "    ## Building RF model\n",
    "    XGB_md = XGBRegressor(**study.best_trial.params, \n",
    "                          random_state = i).fit(X, Y)\n",
    "    \n",
    "#     XGB_imp.append(XGB_md.feature_importances_)\n",
    "        \n",
    "    ## Predicting on X_test and test\n",
    "    XGB_pred_1 = XGB_md.predict(X)\n",
    "    XGB_pred_2 = XGB_md.predict(test_md)\n",
    "    \n",
    "    optR = OptimizedRounder()\n",
    "    optR.fit(XGB_pred_1, Y)\n",
    "    coef = optR.coefficients()\n",
    "    XGB_pred_1 = optR.predict(XGB_pred_1, coef).astype(int)\n",
    "    XGB_pred_2 = optR.predict(XGB_pred_2, coef).astype(int)\n",
    "    \n",
    "    ## Computing roc-auc score\n",
    "    XGB_cv_scores.append(cohen_kappa_score(Y, XGB_pred_1, weights = 'quadratic'))\n",
    "    preds.append(XGB_pred_2)\n",
    "\n",
    "XGB_cv_score = np.mean(XGB_cv_scores)    \n",
    "print('The average roc-auc score over 5-folds (run 5 times) is:', XGB_cv_score)"
   ]
  },
  {
   "cell_type": "code",
   "execution_count": 49,
   "id": "428752ed",
   "metadata": {},
   "outputs": [
    {
     "data": {
      "text/html": [
       "<div>\n",
       "<style scoped>\n",
       "    .dataframe tbody tr th:only-of-type {\n",
       "        vertical-align: middle;\n",
       "    }\n",
       "\n",
       "    .dataframe tbody tr th {\n",
       "        vertical-align: top;\n",
       "    }\n",
       "\n",
       "    .dataframe thead th {\n",
       "        text-align: right;\n",
       "    }\n",
       "</style>\n",
       "<table border=\"1\" class=\"dataframe\">\n",
       "  <thead>\n",
       "    <tr style=\"text-align: right;\">\n",
       "      <th></th>\n",
       "      <th>0</th>\n",
       "      <th>1</th>\n",
       "      <th>2</th>\n",
       "      <th>3</th>\n",
       "      <th>4</th>\n",
       "      <th>5</th>\n",
       "      <th>6</th>\n",
       "      <th>7</th>\n",
       "      <th>8</th>\n",
       "      <th>9</th>\n",
       "      <th>10</th>\n",
       "      <th>11</th>\n",
       "      <th>12</th>\n",
       "      <th>13</th>\n",
       "      <th>14</th>\n",
       "      <th>15</th>\n",
       "      <th>16</th>\n",
       "      <th>17</th>\n",
       "      <th>18</th>\n",
       "      <th>19</th>\n",
       "      <th>20</th>\n",
       "      <th>21</th>\n",
       "      <th>22</th>\n",
       "      <th>23</th>\n",
       "      <th>24</th>\n",
       "      <th>25</th>\n",
       "      <th>26</th>\n",
       "      <th>27</th>\n",
       "      <th>28</th>\n",
       "      <th>29</th>\n",
       "      <th>30</th>\n",
       "      <th>31</th>\n",
       "      <th>32</th>\n",
       "      <th>33</th>\n",
       "      <th>34</th>\n",
       "      <th>35</th>\n",
       "      <th>36</th>\n",
       "      <th>37</th>\n",
       "      <th>38</th>\n",
       "      <th>39</th>\n",
       "      <th>40</th>\n",
       "      <th>41</th>\n",
       "      <th>42</th>\n",
       "      <th>43</th>\n",
       "      <th>44</th>\n",
       "      <th>45</th>\n",
       "      <th>46</th>\n",
       "      <th>47</th>\n",
       "      <th>48</th>\n",
       "      <th>49</th>\n",
       "      <th>...</th>\n",
       "      <th>1322</th>\n",
       "      <th>1323</th>\n",
       "      <th>1324</th>\n",
       "      <th>1325</th>\n",
       "      <th>1326</th>\n",
       "      <th>1327</th>\n",
       "      <th>1328</th>\n",
       "      <th>1329</th>\n",
       "      <th>1330</th>\n",
       "      <th>1331</th>\n",
       "      <th>1332</th>\n",
       "      <th>1333</th>\n",
       "      <th>1334</th>\n",
       "      <th>1335</th>\n",
       "      <th>1336</th>\n",
       "      <th>1337</th>\n",
       "      <th>1338</th>\n",
       "      <th>1339</th>\n",
       "      <th>1340</th>\n",
       "      <th>1341</th>\n",
       "      <th>1342</th>\n",
       "      <th>1343</th>\n",
       "      <th>1344</th>\n",
       "      <th>1345</th>\n",
       "      <th>1346</th>\n",
       "      <th>1347</th>\n",
       "      <th>1348</th>\n",
       "      <th>1349</th>\n",
       "      <th>1350</th>\n",
       "      <th>1351</th>\n",
       "      <th>1352</th>\n",
       "      <th>1353</th>\n",
       "      <th>1354</th>\n",
       "      <th>1355</th>\n",
       "      <th>1356</th>\n",
       "      <th>1357</th>\n",
       "      <th>1358</th>\n",
       "      <th>1359</th>\n",
       "      <th>1360</th>\n",
       "      <th>1361</th>\n",
       "      <th>1362</th>\n",
       "      <th>1363</th>\n",
       "      <th>1364</th>\n",
       "      <th>1365</th>\n",
       "      <th>1366</th>\n",
       "      <th>1367</th>\n",
       "      <th>1368</th>\n",
       "      <th>1369</th>\n",
       "      <th>1370</th>\n",
       "      <th>1371</th>\n",
       "    </tr>\n",
       "  </thead>\n",
       "  <tbody>\n",
       "    <tr>\n",
       "      <th>0</th>\n",
       "      <td>5</td>\n",
       "      <td>6</td>\n",
       "      <td>5</td>\n",
       "      <td>6</td>\n",
       "      <td>6</td>\n",
       "      <td>6</td>\n",
       "      <td>6</td>\n",
       "      <td>6</td>\n",
       "      <td>6</td>\n",
       "      <td>5</td>\n",
       "      <td>5</td>\n",
       "      <td>6</td>\n",
       "      <td>7</td>\n",
       "      <td>6</td>\n",
       "      <td>6</td>\n",
       "      <td>5</td>\n",
       "      <td>7</td>\n",
       "      <td>5</td>\n",
       "      <td>5</td>\n",
       "      <td>7</td>\n",
       "      <td>7</td>\n",
       "      <td>6</td>\n",
       "      <td>5</td>\n",
       "      <td>7</td>\n",
       "      <td>5</td>\n",
       "      <td>5</td>\n",
       "      <td>7</td>\n",
       "      <td>5</td>\n",
       "      <td>7</td>\n",
       "      <td>5</td>\n",
       "      <td>5</td>\n",
       "      <td>7</td>\n",
       "      <td>5</td>\n",
       "      <td>5</td>\n",
       "      <td>6</td>\n",
       "      <td>5</td>\n",
       "      <td>7</td>\n",
       "      <td>6</td>\n",
       "      <td>5</td>\n",
       "      <td>5</td>\n",
       "      <td>5</td>\n",
       "      <td>5</td>\n",
       "      <td>5</td>\n",
       "      <td>7</td>\n",
       "      <td>7</td>\n",
       "      <td>6</td>\n",
       "      <td>5</td>\n",
       "      <td>5</td>\n",
       "      <td>6</td>\n",
       "      <td>5</td>\n",
       "      <td>...</td>\n",
       "      <td>6</td>\n",
       "      <td>7</td>\n",
       "      <td>6</td>\n",
       "      <td>5</td>\n",
       "      <td>5</td>\n",
       "      <td>5</td>\n",
       "      <td>5</td>\n",
       "      <td>5</td>\n",
       "      <td>5</td>\n",
       "      <td>5</td>\n",
       "      <td>5</td>\n",
       "      <td>7</td>\n",
       "      <td>7</td>\n",
       "      <td>5</td>\n",
       "      <td>6</td>\n",
       "      <td>6</td>\n",
       "      <td>5</td>\n",
       "      <td>6</td>\n",
       "      <td>6</td>\n",
       "      <td>5</td>\n",
       "      <td>7</td>\n",
       "      <td>5</td>\n",
       "      <td>5</td>\n",
       "      <td>6</td>\n",
       "      <td>7</td>\n",
       "      <td>7</td>\n",
       "      <td>5</td>\n",
       "      <td>6</td>\n",
       "      <td>6</td>\n",
       "      <td>5</td>\n",
       "      <td>5</td>\n",
       "      <td>6</td>\n",
       "      <td>5</td>\n",
       "      <td>5</td>\n",
       "      <td>5</td>\n",
       "      <td>5</td>\n",
       "      <td>5</td>\n",
       "      <td>7</td>\n",
       "      <td>7</td>\n",
       "      <td>7</td>\n",
       "      <td>6</td>\n",
       "      <td>5</td>\n",
       "      <td>5</td>\n",
       "      <td>7</td>\n",
       "      <td>7</td>\n",
       "      <td>5</td>\n",
       "      <td>7</td>\n",
       "      <td>5</td>\n",
       "      <td>5</td>\n",
       "      <td>5</td>\n",
       "    </tr>\n",
       "    <tr>\n",
       "      <th>1</th>\n",
       "      <td>5</td>\n",
       "      <td>6</td>\n",
       "      <td>5</td>\n",
       "      <td>6</td>\n",
       "      <td>6</td>\n",
       "      <td>6</td>\n",
       "      <td>5</td>\n",
       "      <td>6</td>\n",
       "      <td>6</td>\n",
       "      <td>5</td>\n",
       "      <td>5</td>\n",
       "      <td>6</td>\n",
       "      <td>7</td>\n",
       "      <td>6</td>\n",
       "      <td>6</td>\n",
       "      <td>5</td>\n",
       "      <td>7</td>\n",
       "      <td>5</td>\n",
       "      <td>5</td>\n",
       "      <td>7</td>\n",
       "      <td>7</td>\n",
       "      <td>6</td>\n",
       "      <td>5</td>\n",
       "      <td>7</td>\n",
       "      <td>5</td>\n",
       "      <td>5</td>\n",
       "      <td>7</td>\n",
       "      <td>5</td>\n",
       "      <td>7</td>\n",
       "      <td>5</td>\n",
       "      <td>5</td>\n",
       "      <td>7</td>\n",
       "      <td>5</td>\n",
       "      <td>5</td>\n",
       "      <td>6</td>\n",
       "      <td>5</td>\n",
       "      <td>7</td>\n",
       "      <td>6</td>\n",
       "      <td>5</td>\n",
       "      <td>5</td>\n",
       "      <td>5</td>\n",
       "      <td>5</td>\n",
       "      <td>5</td>\n",
       "      <td>7</td>\n",
       "      <td>7</td>\n",
       "      <td>6</td>\n",
       "      <td>5</td>\n",
       "      <td>5</td>\n",
       "      <td>6</td>\n",
       "      <td>5</td>\n",
       "      <td>...</td>\n",
       "      <td>6</td>\n",
       "      <td>7</td>\n",
       "      <td>6</td>\n",
       "      <td>5</td>\n",
       "      <td>5</td>\n",
       "      <td>5</td>\n",
       "      <td>5</td>\n",
       "      <td>5</td>\n",
       "      <td>5</td>\n",
       "      <td>5</td>\n",
       "      <td>5</td>\n",
       "      <td>7</td>\n",
       "      <td>7</td>\n",
       "      <td>5</td>\n",
       "      <td>6</td>\n",
       "      <td>6</td>\n",
       "      <td>5</td>\n",
       "      <td>6</td>\n",
       "      <td>6</td>\n",
       "      <td>5</td>\n",
       "      <td>7</td>\n",
       "      <td>5</td>\n",
       "      <td>5</td>\n",
       "      <td>5</td>\n",
       "      <td>7</td>\n",
       "      <td>7</td>\n",
       "      <td>5</td>\n",
       "      <td>6</td>\n",
       "      <td>6</td>\n",
       "      <td>5</td>\n",
       "      <td>5</td>\n",
       "      <td>6</td>\n",
       "      <td>5</td>\n",
       "      <td>5</td>\n",
       "      <td>5</td>\n",
       "      <td>5</td>\n",
       "      <td>5</td>\n",
       "      <td>7</td>\n",
       "      <td>7</td>\n",
       "      <td>7</td>\n",
       "      <td>6</td>\n",
       "      <td>5</td>\n",
       "      <td>5</td>\n",
       "      <td>7</td>\n",
       "      <td>7</td>\n",
       "      <td>5</td>\n",
       "      <td>7</td>\n",
       "      <td>5</td>\n",
       "      <td>5</td>\n",
       "      <td>5</td>\n",
       "    </tr>\n",
       "    <tr>\n",
       "      <th>2</th>\n",
       "      <td>5</td>\n",
       "      <td>6</td>\n",
       "      <td>5</td>\n",
       "      <td>7</td>\n",
       "      <td>6</td>\n",
       "      <td>6</td>\n",
       "      <td>5</td>\n",
       "      <td>6</td>\n",
       "      <td>6</td>\n",
       "      <td>5</td>\n",
       "      <td>5</td>\n",
       "      <td>6</td>\n",
       "      <td>7</td>\n",
       "      <td>6</td>\n",
       "      <td>6</td>\n",
       "      <td>5</td>\n",
       "      <td>7</td>\n",
       "      <td>5</td>\n",
       "      <td>5</td>\n",
       "      <td>7</td>\n",
       "      <td>7</td>\n",
       "      <td>6</td>\n",
       "      <td>5</td>\n",
       "      <td>7</td>\n",
       "      <td>5</td>\n",
       "      <td>5</td>\n",
       "      <td>7</td>\n",
       "      <td>5</td>\n",
       "      <td>7</td>\n",
       "      <td>5</td>\n",
       "      <td>5</td>\n",
       "      <td>7</td>\n",
       "      <td>5</td>\n",
       "      <td>5</td>\n",
       "      <td>6</td>\n",
       "      <td>5</td>\n",
       "      <td>7</td>\n",
       "      <td>6</td>\n",
       "      <td>5</td>\n",
       "      <td>5</td>\n",
       "      <td>5</td>\n",
       "      <td>5</td>\n",
       "      <td>5</td>\n",
       "      <td>7</td>\n",
       "      <td>7</td>\n",
       "      <td>6</td>\n",
       "      <td>5</td>\n",
       "      <td>5</td>\n",
       "      <td>6</td>\n",
       "      <td>5</td>\n",
       "      <td>...</td>\n",
       "      <td>6</td>\n",
       "      <td>7</td>\n",
       "      <td>6</td>\n",
       "      <td>5</td>\n",
       "      <td>5</td>\n",
       "      <td>5</td>\n",
       "      <td>5</td>\n",
       "      <td>5</td>\n",
       "      <td>5</td>\n",
       "      <td>5</td>\n",
       "      <td>5</td>\n",
       "      <td>7</td>\n",
       "      <td>7</td>\n",
       "      <td>5</td>\n",
       "      <td>6</td>\n",
       "      <td>6</td>\n",
       "      <td>5</td>\n",
       "      <td>6</td>\n",
       "      <td>6</td>\n",
       "      <td>5</td>\n",
       "      <td>7</td>\n",
       "      <td>5</td>\n",
       "      <td>5</td>\n",
       "      <td>5</td>\n",
       "      <td>7</td>\n",
       "      <td>7</td>\n",
       "      <td>5</td>\n",
       "      <td>6</td>\n",
       "      <td>6</td>\n",
       "      <td>5</td>\n",
       "      <td>5</td>\n",
       "      <td>6</td>\n",
       "      <td>5</td>\n",
       "      <td>5</td>\n",
       "      <td>5</td>\n",
       "      <td>5</td>\n",
       "      <td>5</td>\n",
       "      <td>7</td>\n",
       "      <td>7</td>\n",
       "      <td>7</td>\n",
       "      <td>6</td>\n",
       "      <td>5</td>\n",
       "      <td>5</td>\n",
       "      <td>7</td>\n",
       "      <td>7</td>\n",
       "      <td>5</td>\n",
       "      <td>7</td>\n",
       "      <td>5</td>\n",
       "      <td>5</td>\n",
       "      <td>5</td>\n",
       "    </tr>\n",
       "    <tr>\n",
       "      <th>3</th>\n",
       "      <td>5</td>\n",
       "      <td>6</td>\n",
       "      <td>5</td>\n",
       "      <td>7</td>\n",
       "      <td>6</td>\n",
       "      <td>6</td>\n",
       "      <td>6</td>\n",
       "      <td>6</td>\n",
       "      <td>6</td>\n",
       "      <td>6</td>\n",
       "      <td>5</td>\n",
       "      <td>6</td>\n",
       "      <td>7</td>\n",
       "      <td>6</td>\n",
       "      <td>6</td>\n",
       "      <td>5</td>\n",
       "      <td>7</td>\n",
       "      <td>5</td>\n",
       "      <td>5</td>\n",
       "      <td>7</td>\n",
       "      <td>7</td>\n",
       "      <td>6</td>\n",
       "      <td>6</td>\n",
       "      <td>7</td>\n",
       "      <td>5</td>\n",
       "      <td>5</td>\n",
       "      <td>7</td>\n",
       "      <td>6</td>\n",
       "      <td>7</td>\n",
       "      <td>6</td>\n",
       "      <td>5</td>\n",
       "      <td>7</td>\n",
       "      <td>5</td>\n",
       "      <td>5</td>\n",
       "      <td>6</td>\n",
       "      <td>5</td>\n",
       "      <td>7</td>\n",
       "      <td>6</td>\n",
       "      <td>5</td>\n",
       "      <td>5</td>\n",
       "      <td>5</td>\n",
       "      <td>5</td>\n",
       "      <td>5</td>\n",
       "      <td>7</td>\n",
       "      <td>7</td>\n",
       "      <td>6</td>\n",
       "      <td>5</td>\n",
       "      <td>5</td>\n",
       "      <td>6</td>\n",
       "      <td>5</td>\n",
       "      <td>...</td>\n",
       "      <td>6</td>\n",
       "      <td>7</td>\n",
       "      <td>6</td>\n",
       "      <td>5</td>\n",
       "      <td>5</td>\n",
       "      <td>5</td>\n",
       "      <td>5</td>\n",
       "      <td>5</td>\n",
       "      <td>5</td>\n",
       "      <td>5</td>\n",
       "      <td>5</td>\n",
       "      <td>7</td>\n",
       "      <td>7</td>\n",
       "      <td>5</td>\n",
       "      <td>6</td>\n",
       "      <td>6</td>\n",
       "      <td>5</td>\n",
       "      <td>6</td>\n",
       "      <td>6</td>\n",
       "      <td>5</td>\n",
       "      <td>7</td>\n",
       "      <td>5</td>\n",
       "      <td>5</td>\n",
       "      <td>6</td>\n",
       "      <td>7</td>\n",
       "      <td>7</td>\n",
       "      <td>5</td>\n",
       "      <td>6</td>\n",
       "      <td>6</td>\n",
       "      <td>5</td>\n",
       "      <td>5</td>\n",
       "      <td>6</td>\n",
       "      <td>5</td>\n",
       "      <td>5</td>\n",
       "      <td>5</td>\n",
       "      <td>5</td>\n",
       "      <td>5</td>\n",
       "      <td>7</td>\n",
       "      <td>7</td>\n",
       "      <td>7</td>\n",
       "      <td>6</td>\n",
       "      <td>5</td>\n",
       "      <td>5</td>\n",
       "      <td>7</td>\n",
       "      <td>7</td>\n",
       "      <td>6</td>\n",
       "      <td>7</td>\n",
       "      <td>5</td>\n",
       "      <td>5</td>\n",
       "      <td>5</td>\n",
       "    </tr>\n",
       "    <tr>\n",
       "      <th>4</th>\n",
       "      <td>5</td>\n",
       "      <td>6</td>\n",
       "      <td>5</td>\n",
       "      <td>6</td>\n",
       "      <td>6</td>\n",
       "      <td>6</td>\n",
       "      <td>5</td>\n",
       "      <td>6</td>\n",
       "      <td>6</td>\n",
       "      <td>5</td>\n",
       "      <td>5</td>\n",
       "      <td>6</td>\n",
       "      <td>6</td>\n",
       "      <td>6</td>\n",
       "      <td>6</td>\n",
       "      <td>5</td>\n",
       "      <td>7</td>\n",
       "      <td>5</td>\n",
       "      <td>5</td>\n",
       "      <td>7</td>\n",
       "      <td>7</td>\n",
       "      <td>6</td>\n",
       "      <td>5</td>\n",
       "      <td>7</td>\n",
       "      <td>5</td>\n",
       "      <td>5</td>\n",
       "      <td>7</td>\n",
       "      <td>5</td>\n",
       "      <td>7</td>\n",
       "      <td>5</td>\n",
       "      <td>5</td>\n",
       "      <td>6</td>\n",
       "      <td>5</td>\n",
       "      <td>5</td>\n",
       "      <td>6</td>\n",
       "      <td>5</td>\n",
       "      <td>7</td>\n",
       "      <td>6</td>\n",
       "      <td>5</td>\n",
       "      <td>5</td>\n",
       "      <td>5</td>\n",
       "      <td>5</td>\n",
       "      <td>5</td>\n",
       "      <td>7</td>\n",
       "      <td>7</td>\n",
       "      <td>6</td>\n",
       "      <td>5</td>\n",
       "      <td>5</td>\n",
       "      <td>6</td>\n",
       "      <td>5</td>\n",
       "      <td>...</td>\n",
       "      <td>6</td>\n",
       "      <td>7</td>\n",
       "      <td>6</td>\n",
       "      <td>5</td>\n",
       "      <td>5</td>\n",
       "      <td>5</td>\n",
       "      <td>5</td>\n",
       "      <td>5</td>\n",
       "      <td>5</td>\n",
       "      <td>5</td>\n",
       "      <td>5</td>\n",
       "      <td>7</td>\n",
       "      <td>7</td>\n",
       "      <td>5</td>\n",
       "      <td>6</td>\n",
       "      <td>6</td>\n",
       "      <td>5</td>\n",
       "      <td>6</td>\n",
       "      <td>6</td>\n",
       "      <td>5</td>\n",
       "      <td>7</td>\n",
       "      <td>5</td>\n",
       "      <td>5</td>\n",
       "      <td>5</td>\n",
       "      <td>7</td>\n",
       "      <td>7</td>\n",
       "      <td>5</td>\n",
       "      <td>6</td>\n",
       "      <td>6</td>\n",
       "      <td>5</td>\n",
       "      <td>5</td>\n",
       "      <td>6</td>\n",
       "      <td>5</td>\n",
       "      <td>5</td>\n",
       "      <td>5</td>\n",
       "      <td>5</td>\n",
       "      <td>5</td>\n",
       "      <td>7</td>\n",
       "      <td>7</td>\n",
       "      <td>7</td>\n",
       "      <td>6</td>\n",
       "      <td>5</td>\n",
       "      <td>5</td>\n",
       "      <td>7</td>\n",
       "      <td>7</td>\n",
       "      <td>5</td>\n",
       "      <td>7</td>\n",
       "      <td>5</td>\n",
       "      <td>5</td>\n",
       "      <td>5</td>\n",
       "    </tr>\n",
       "    <tr>\n",
       "      <th>...</th>\n",
       "      <td>...</td>\n",
       "      <td>...</td>\n",
       "      <td>...</td>\n",
       "      <td>...</td>\n",
       "      <td>...</td>\n",
       "      <td>...</td>\n",
       "      <td>...</td>\n",
       "      <td>...</td>\n",
       "      <td>...</td>\n",
       "      <td>...</td>\n",
       "      <td>...</td>\n",
       "      <td>...</td>\n",
       "      <td>...</td>\n",
       "      <td>...</td>\n",
       "      <td>...</td>\n",
       "      <td>...</td>\n",
       "      <td>...</td>\n",
       "      <td>...</td>\n",
       "      <td>...</td>\n",
       "      <td>...</td>\n",
       "      <td>...</td>\n",
       "      <td>...</td>\n",
       "      <td>...</td>\n",
       "      <td>...</td>\n",
       "      <td>...</td>\n",
       "      <td>...</td>\n",
       "      <td>...</td>\n",
       "      <td>...</td>\n",
       "      <td>...</td>\n",
       "      <td>...</td>\n",
       "      <td>...</td>\n",
       "      <td>...</td>\n",
       "      <td>...</td>\n",
       "      <td>...</td>\n",
       "      <td>...</td>\n",
       "      <td>...</td>\n",
       "      <td>...</td>\n",
       "      <td>...</td>\n",
       "      <td>...</td>\n",
       "      <td>...</td>\n",
       "      <td>...</td>\n",
       "      <td>...</td>\n",
       "      <td>...</td>\n",
       "      <td>...</td>\n",
       "      <td>...</td>\n",
       "      <td>...</td>\n",
       "      <td>...</td>\n",
       "      <td>...</td>\n",
       "      <td>...</td>\n",
       "      <td>...</td>\n",
       "      <td>...</td>\n",
       "      <td>...</td>\n",
       "      <td>...</td>\n",
       "      <td>...</td>\n",
       "      <td>...</td>\n",
       "      <td>...</td>\n",
       "      <td>...</td>\n",
       "      <td>...</td>\n",
       "      <td>...</td>\n",
       "      <td>...</td>\n",
       "      <td>...</td>\n",
       "      <td>...</td>\n",
       "      <td>...</td>\n",
       "      <td>...</td>\n",
       "      <td>...</td>\n",
       "      <td>...</td>\n",
       "      <td>...</td>\n",
       "      <td>...</td>\n",
       "      <td>...</td>\n",
       "      <td>...</td>\n",
       "      <td>...</td>\n",
       "      <td>...</td>\n",
       "      <td>...</td>\n",
       "      <td>...</td>\n",
       "      <td>...</td>\n",
       "      <td>...</td>\n",
       "      <td>...</td>\n",
       "      <td>...</td>\n",
       "      <td>...</td>\n",
       "      <td>...</td>\n",
       "      <td>...</td>\n",
       "      <td>...</td>\n",
       "      <td>...</td>\n",
       "      <td>...</td>\n",
       "      <td>...</td>\n",
       "      <td>...</td>\n",
       "      <td>...</td>\n",
       "      <td>...</td>\n",
       "      <td>...</td>\n",
       "      <td>...</td>\n",
       "      <td>...</td>\n",
       "      <td>...</td>\n",
       "      <td>...</td>\n",
       "      <td>...</td>\n",
       "      <td>...</td>\n",
       "      <td>...</td>\n",
       "      <td>...</td>\n",
       "      <td>...</td>\n",
       "      <td>...</td>\n",
       "      <td>...</td>\n",
       "      <td>...</td>\n",
       "    </tr>\n",
       "    <tr>\n",
       "      <th>95</th>\n",
       "      <td>5</td>\n",
       "      <td>6</td>\n",
       "      <td>5</td>\n",
       "      <td>7</td>\n",
       "      <td>6</td>\n",
       "      <td>6</td>\n",
       "      <td>5</td>\n",
       "      <td>6</td>\n",
       "      <td>6</td>\n",
       "      <td>6</td>\n",
       "      <td>5</td>\n",
       "      <td>6</td>\n",
       "      <td>7</td>\n",
       "      <td>6</td>\n",
       "      <td>6</td>\n",
       "      <td>5</td>\n",
       "      <td>7</td>\n",
       "      <td>5</td>\n",
       "      <td>5</td>\n",
       "      <td>7</td>\n",
       "      <td>7</td>\n",
       "      <td>6</td>\n",
       "      <td>6</td>\n",
       "      <td>7</td>\n",
       "      <td>5</td>\n",
       "      <td>5</td>\n",
       "      <td>7</td>\n",
       "      <td>5</td>\n",
       "      <td>7</td>\n",
       "      <td>5</td>\n",
       "      <td>5</td>\n",
       "      <td>7</td>\n",
       "      <td>5</td>\n",
       "      <td>5</td>\n",
       "      <td>6</td>\n",
       "      <td>5</td>\n",
       "      <td>7</td>\n",
       "      <td>6</td>\n",
       "      <td>5</td>\n",
       "      <td>5</td>\n",
       "      <td>5</td>\n",
       "      <td>5</td>\n",
       "      <td>5</td>\n",
       "      <td>7</td>\n",
       "      <td>7</td>\n",
       "      <td>6</td>\n",
       "      <td>5</td>\n",
       "      <td>5</td>\n",
       "      <td>6</td>\n",
       "      <td>5</td>\n",
       "      <td>...</td>\n",
       "      <td>6</td>\n",
       "      <td>7</td>\n",
       "      <td>6</td>\n",
       "      <td>5</td>\n",
       "      <td>5</td>\n",
       "      <td>5</td>\n",
       "      <td>5</td>\n",
       "      <td>5</td>\n",
       "      <td>5</td>\n",
       "      <td>5</td>\n",
       "      <td>5</td>\n",
       "      <td>7</td>\n",
       "      <td>7</td>\n",
       "      <td>5</td>\n",
       "      <td>6</td>\n",
       "      <td>6</td>\n",
       "      <td>5</td>\n",
       "      <td>6</td>\n",
       "      <td>6</td>\n",
       "      <td>5</td>\n",
       "      <td>7</td>\n",
       "      <td>5</td>\n",
       "      <td>5</td>\n",
       "      <td>6</td>\n",
       "      <td>7</td>\n",
       "      <td>7</td>\n",
       "      <td>5</td>\n",
       "      <td>6</td>\n",
       "      <td>6</td>\n",
       "      <td>5</td>\n",
       "      <td>5</td>\n",
       "      <td>6</td>\n",
       "      <td>5</td>\n",
       "      <td>5</td>\n",
       "      <td>5</td>\n",
       "      <td>5</td>\n",
       "      <td>5</td>\n",
       "      <td>7</td>\n",
       "      <td>7</td>\n",
       "      <td>7</td>\n",
       "      <td>6</td>\n",
       "      <td>5</td>\n",
       "      <td>5</td>\n",
       "      <td>7</td>\n",
       "      <td>7</td>\n",
       "      <td>5</td>\n",
       "      <td>7</td>\n",
       "      <td>5</td>\n",
       "      <td>5</td>\n",
       "      <td>5</td>\n",
       "    </tr>\n",
       "    <tr>\n",
       "      <th>96</th>\n",
       "      <td>5</td>\n",
       "      <td>6</td>\n",
       "      <td>5</td>\n",
       "      <td>6</td>\n",
       "      <td>6</td>\n",
       "      <td>6</td>\n",
       "      <td>6</td>\n",
       "      <td>6</td>\n",
       "      <td>6</td>\n",
       "      <td>6</td>\n",
       "      <td>5</td>\n",
       "      <td>6</td>\n",
       "      <td>7</td>\n",
       "      <td>6</td>\n",
       "      <td>6</td>\n",
       "      <td>5</td>\n",
       "      <td>7</td>\n",
       "      <td>5</td>\n",
       "      <td>5</td>\n",
       "      <td>7</td>\n",
       "      <td>7</td>\n",
       "      <td>6</td>\n",
       "      <td>6</td>\n",
       "      <td>7</td>\n",
       "      <td>5</td>\n",
       "      <td>5</td>\n",
       "      <td>7</td>\n",
       "      <td>6</td>\n",
       "      <td>7</td>\n",
       "      <td>5</td>\n",
       "      <td>5</td>\n",
       "      <td>7</td>\n",
       "      <td>5</td>\n",
       "      <td>5</td>\n",
       "      <td>6</td>\n",
       "      <td>6</td>\n",
       "      <td>7</td>\n",
       "      <td>6</td>\n",
       "      <td>5</td>\n",
       "      <td>5</td>\n",
       "      <td>5</td>\n",
       "      <td>5</td>\n",
       "      <td>5</td>\n",
       "      <td>7</td>\n",
       "      <td>7</td>\n",
       "      <td>6</td>\n",
       "      <td>5</td>\n",
       "      <td>5</td>\n",
       "      <td>6</td>\n",
       "      <td>5</td>\n",
       "      <td>...</td>\n",
       "      <td>6</td>\n",
       "      <td>7</td>\n",
       "      <td>6</td>\n",
       "      <td>5</td>\n",
       "      <td>5</td>\n",
       "      <td>5</td>\n",
       "      <td>5</td>\n",
       "      <td>5</td>\n",
       "      <td>5</td>\n",
       "      <td>5</td>\n",
       "      <td>5</td>\n",
       "      <td>7</td>\n",
       "      <td>7</td>\n",
       "      <td>5</td>\n",
       "      <td>6</td>\n",
       "      <td>6</td>\n",
       "      <td>5</td>\n",
       "      <td>6</td>\n",
       "      <td>6</td>\n",
       "      <td>5</td>\n",
       "      <td>7</td>\n",
       "      <td>5</td>\n",
       "      <td>5</td>\n",
       "      <td>6</td>\n",
       "      <td>7</td>\n",
       "      <td>7</td>\n",
       "      <td>5</td>\n",
       "      <td>6</td>\n",
       "      <td>6</td>\n",
       "      <td>5</td>\n",
       "      <td>5</td>\n",
       "      <td>6</td>\n",
       "      <td>5</td>\n",
       "      <td>5</td>\n",
       "      <td>5</td>\n",
       "      <td>5</td>\n",
       "      <td>5</td>\n",
       "      <td>7</td>\n",
       "      <td>7</td>\n",
       "      <td>7</td>\n",
       "      <td>6</td>\n",
       "      <td>5</td>\n",
       "      <td>5</td>\n",
       "      <td>7</td>\n",
       "      <td>7</td>\n",
       "      <td>6</td>\n",
       "      <td>7</td>\n",
       "      <td>5</td>\n",
       "      <td>5</td>\n",
       "      <td>5</td>\n",
       "    </tr>\n",
       "    <tr>\n",
       "      <th>97</th>\n",
       "      <td>5</td>\n",
       "      <td>6</td>\n",
       "      <td>5</td>\n",
       "      <td>6</td>\n",
       "      <td>6</td>\n",
       "      <td>6</td>\n",
       "      <td>5</td>\n",
       "      <td>6</td>\n",
       "      <td>6</td>\n",
       "      <td>5</td>\n",
       "      <td>5</td>\n",
       "      <td>6</td>\n",
       "      <td>6</td>\n",
       "      <td>6</td>\n",
       "      <td>6</td>\n",
       "      <td>5</td>\n",
       "      <td>7</td>\n",
       "      <td>5</td>\n",
       "      <td>5</td>\n",
       "      <td>7</td>\n",
       "      <td>7</td>\n",
       "      <td>6</td>\n",
       "      <td>5</td>\n",
       "      <td>7</td>\n",
       "      <td>5</td>\n",
       "      <td>5</td>\n",
       "      <td>7</td>\n",
       "      <td>5</td>\n",
       "      <td>7</td>\n",
       "      <td>5</td>\n",
       "      <td>5</td>\n",
       "      <td>6</td>\n",
       "      <td>5</td>\n",
       "      <td>5</td>\n",
       "      <td>6</td>\n",
       "      <td>5</td>\n",
       "      <td>7</td>\n",
       "      <td>6</td>\n",
       "      <td>5</td>\n",
       "      <td>5</td>\n",
       "      <td>5</td>\n",
       "      <td>5</td>\n",
       "      <td>5</td>\n",
       "      <td>7</td>\n",
       "      <td>7</td>\n",
       "      <td>6</td>\n",
       "      <td>5</td>\n",
       "      <td>5</td>\n",
       "      <td>6</td>\n",
       "      <td>5</td>\n",
       "      <td>...</td>\n",
       "      <td>6</td>\n",
       "      <td>7</td>\n",
       "      <td>6</td>\n",
       "      <td>5</td>\n",
       "      <td>5</td>\n",
       "      <td>5</td>\n",
       "      <td>5</td>\n",
       "      <td>5</td>\n",
       "      <td>5</td>\n",
       "      <td>5</td>\n",
       "      <td>5</td>\n",
       "      <td>7</td>\n",
       "      <td>7</td>\n",
       "      <td>5</td>\n",
       "      <td>6</td>\n",
       "      <td>6</td>\n",
       "      <td>5</td>\n",
       "      <td>6</td>\n",
       "      <td>6</td>\n",
       "      <td>5</td>\n",
       "      <td>7</td>\n",
       "      <td>5</td>\n",
       "      <td>5</td>\n",
       "      <td>5</td>\n",
       "      <td>7</td>\n",
       "      <td>7</td>\n",
       "      <td>5</td>\n",
       "      <td>6</td>\n",
       "      <td>6</td>\n",
       "      <td>5</td>\n",
       "      <td>5</td>\n",
       "      <td>6</td>\n",
       "      <td>5</td>\n",
       "      <td>5</td>\n",
       "      <td>5</td>\n",
       "      <td>5</td>\n",
       "      <td>5</td>\n",
       "      <td>7</td>\n",
       "      <td>7</td>\n",
       "      <td>7</td>\n",
       "      <td>6</td>\n",
       "      <td>5</td>\n",
       "      <td>5</td>\n",
       "      <td>7</td>\n",
       "      <td>7</td>\n",
       "      <td>5</td>\n",
       "      <td>7</td>\n",
       "      <td>5</td>\n",
       "      <td>5</td>\n",
       "      <td>5</td>\n",
       "    </tr>\n",
       "    <tr>\n",
       "      <th>98</th>\n",
       "      <td>5</td>\n",
       "      <td>6</td>\n",
       "      <td>5</td>\n",
       "      <td>6</td>\n",
       "      <td>6</td>\n",
       "      <td>6</td>\n",
       "      <td>6</td>\n",
       "      <td>6</td>\n",
       "      <td>6</td>\n",
       "      <td>6</td>\n",
       "      <td>5</td>\n",
       "      <td>6</td>\n",
       "      <td>6</td>\n",
       "      <td>6</td>\n",
       "      <td>6</td>\n",
       "      <td>5</td>\n",
       "      <td>7</td>\n",
       "      <td>5</td>\n",
       "      <td>5</td>\n",
       "      <td>7</td>\n",
       "      <td>7</td>\n",
       "      <td>6</td>\n",
       "      <td>6</td>\n",
       "      <td>7</td>\n",
       "      <td>5</td>\n",
       "      <td>5</td>\n",
       "      <td>7</td>\n",
       "      <td>5</td>\n",
       "      <td>7</td>\n",
       "      <td>6</td>\n",
       "      <td>5</td>\n",
       "      <td>7</td>\n",
       "      <td>5</td>\n",
       "      <td>5</td>\n",
       "      <td>6</td>\n",
       "      <td>6</td>\n",
       "      <td>7</td>\n",
       "      <td>6</td>\n",
       "      <td>5</td>\n",
       "      <td>5</td>\n",
       "      <td>5</td>\n",
       "      <td>5</td>\n",
       "      <td>5</td>\n",
       "      <td>7</td>\n",
       "      <td>7</td>\n",
       "      <td>6</td>\n",
       "      <td>5</td>\n",
       "      <td>5</td>\n",
       "      <td>6</td>\n",
       "      <td>5</td>\n",
       "      <td>...</td>\n",
       "      <td>6</td>\n",
       "      <td>7</td>\n",
       "      <td>6</td>\n",
       "      <td>5</td>\n",
       "      <td>5</td>\n",
       "      <td>5</td>\n",
       "      <td>5</td>\n",
       "      <td>5</td>\n",
       "      <td>5</td>\n",
       "      <td>5</td>\n",
       "      <td>5</td>\n",
       "      <td>7</td>\n",
       "      <td>7</td>\n",
       "      <td>5</td>\n",
       "      <td>6</td>\n",
       "      <td>6</td>\n",
       "      <td>5</td>\n",
       "      <td>6</td>\n",
       "      <td>6</td>\n",
       "      <td>5</td>\n",
       "      <td>7</td>\n",
       "      <td>5</td>\n",
       "      <td>5</td>\n",
       "      <td>6</td>\n",
       "      <td>7</td>\n",
       "      <td>7</td>\n",
       "      <td>5</td>\n",
       "      <td>6</td>\n",
       "      <td>6</td>\n",
       "      <td>5</td>\n",
       "      <td>5</td>\n",
       "      <td>6</td>\n",
       "      <td>5</td>\n",
       "      <td>5</td>\n",
       "      <td>5</td>\n",
       "      <td>5</td>\n",
       "      <td>5</td>\n",
       "      <td>7</td>\n",
       "      <td>7</td>\n",
       "      <td>7</td>\n",
       "      <td>6</td>\n",
       "      <td>5</td>\n",
       "      <td>5</td>\n",
       "      <td>7</td>\n",
       "      <td>7</td>\n",
       "      <td>6</td>\n",
       "      <td>7</td>\n",
       "      <td>5</td>\n",
       "      <td>5</td>\n",
       "      <td>5</td>\n",
       "    </tr>\n",
       "    <tr>\n",
       "      <th>99</th>\n",
       "      <td>5</td>\n",
       "      <td>6</td>\n",
       "      <td>5</td>\n",
       "      <td>6</td>\n",
       "      <td>6</td>\n",
       "      <td>6</td>\n",
       "      <td>5</td>\n",
       "      <td>6</td>\n",
       "      <td>6</td>\n",
       "      <td>5</td>\n",
       "      <td>5</td>\n",
       "      <td>6</td>\n",
       "      <td>7</td>\n",
       "      <td>6</td>\n",
       "      <td>6</td>\n",
       "      <td>5</td>\n",
       "      <td>7</td>\n",
       "      <td>5</td>\n",
       "      <td>5</td>\n",
       "      <td>7</td>\n",
       "      <td>7</td>\n",
       "      <td>6</td>\n",
       "      <td>5</td>\n",
       "      <td>7</td>\n",
       "      <td>5</td>\n",
       "      <td>5</td>\n",
       "      <td>7</td>\n",
       "      <td>5</td>\n",
       "      <td>7</td>\n",
       "      <td>5</td>\n",
       "      <td>5</td>\n",
       "      <td>7</td>\n",
       "      <td>5</td>\n",
       "      <td>5</td>\n",
       "      <td>6</td>\n",
       "      <td>5</td>\n",
       "      <td>7</td>\n",
       "      <td>6</td>\n",
       "      <td>5</td>\n",
       "      <td>5</td>\n",
       "      <td>5</td>\n",
       "      <td>5</td>\n",
       "      <td>5</td>\n",
       "      <td>7</td>\n",
       "      <td>7</td>\n",
       "      <td>6</td>\n",
       "      <td>5</td>\n",
       "      <td>5</td>\n",
       "      <td>6</td>\n",
       "      <td>5</td>\n",
       "      <td>...</td>\n",
       "      <td>6</td>\n",
       "      <td>7</td>\n",
       "      <td>6</td>\n",
       "      <td>5</td>\n",
       "      <td>5</td>\n",
       "      <td>5</td>\n",
       "      <td>5</td>\n",
       "      <td>5</td>\n",
       "      <td>5</td>\n",
       "      <td>5</td>\n",
       "      <td>5</td>\n",
       "      <td>7</td>\n",
       "      <td>7</td>\n",
       "      <td>5</td>\n",
       "      <td>6</td>\n",
       "      <td>6</td>\n",
       "      <td>5</td>\n",
       "      <td>6</td>\n",
       "      <td>6</td>\n",
       "      <td>5</td>\n",
       "      <td>7</td>\n",
       "      <td>5</td>\n",
       "      <td>5</td>\n",
       "      <td>6</td>\n",
       "      <td>7</td>\n",
       "      <td>7</td>\n",
       "      <td>5</td>\n",
       "      <td>6</td>\n",
       "      <td>6</td>\n",
       "      <td>5</td>\n",
       "      <td>5</td>\n",
       "      <td>6</td>\n",
       "      <td>5</td>\n",
       "      <td>5</td>\n",
       "      <td>5</td>\n",
       "      <td>5</td>\n",
       "      <td>5</td>\n",
       "      <td>7</td>\n",
       "      <td>7</td>\n",
       "      <td>7</td>\n",
       "      <td>6</td>\n",
       "      <td>5</td>\n",
       "      <td>5</td>\n",
       "      <td>7</td>\n",
       "      <td>7</td>\n",
       "      <td>5</td>\n",
       "      <td>7</td>\n",
       "      <td>5</td>\n",
       "      <td>5</td>\n",
       "      <td>5</td>\n",
       "    </tr>\n",
       "  </tbody>\n",
       "</table>\n",
       "<p>100 rows × 1372 columns</p>\n",
       "</div>"
      ],
      "text/plain": [
       "    0     1     2     3     4     5     6     7     8     9     10    11    \\\n",
       "0      5     6     5     6     6     6     6     6     6     5     5     6   \n",
       "1      5     6     5     6     6     6     5     6     6     5     5     6   \n",
       "2      5     6     5     7     6     6     5     6     6     5     5     6   \n",
       "3      5     6     5     7     6     6     6     6     6     6     5     6   \n",
       "4      5     6     5     6     6     6     5     6     6     5     5     6   \n",
       "..   ...   ...   ...   ...   ...   ...   ...   ...   ...   ...   ...   ...   \n",
       "95     5     6     5     7     6     6     5     6     6     6     5     6   \n",
       "96     5     6     5     6     6     6     6     6     6     6     5     6   \n",
       "97     5     6     5     6     6     6     5     6     6     5     5     6   \n",
       "98     5     6     5     6     6     6     6     6     6     6     5     6   \n",
       "99     5     6     5     6     6     6     5     6     6     5     5     6   \n",
       "\n",
       "    12    13    14    15    16    17    18    19    20    21    22    23    \\\n",
       "0      7     6     6     5     7     5     5     7     7     6     5     7   \n",
       "1      7     6     6     5     7     5     5     7     7     6     5     7   \n",
       "2      7     6     6     5     7     5     5     7     7     6     5     7   \n",
       "3      7     6     6     5     7     5     5     7     7     6     6     7   \n",
       "4      6     6     6     5     7     5     5     7     7     6     5     7   \n",
       "..   ...   ...   ...   ...   ...   ...   ...   ...   ...   ...   ...   ...   \n",
       "95     7     6     6     5     7     5     5     7     7     6     6     7   \n",
       "96     7     6     6     5     7     5     5     7     7     6     6     7   \n",
       "97     6     6     6     5     7     5     5     7     7     6     5     7   \n",
       "98     6     6     6     5     7     5     5     7     7     6     6     7   \n",
       "99     7     6     6     5     7     5     5     7     7     6     5     7   \n",
       "\n",
       "    24    25    26    27    28    29    30    31    32    33    34    35    \\\n",
       "0      5     5     7     5     7     5     5     7     5     5     6     5   \n",
       "1      5     5     7     5     7     5     5     7     5     5     6     5   \n",
       "2      5     5     7     5     7     5     5     7     5     5     6     5   \n",
       "3      5     5     7     6     7     6     5     7     5     5     6     5   \n",
       "4      5     5     7     5     7     5     5     6     5     5     6     5   \n",
       "..   ...   ...   ...   ...   ...   ...   ...   ...   ...   ...   ...   ...   \n",
       "95     5     5     7     5     7     5     5     7     5     5     6     5   \n",
       "96     5     5     7     6     7     5     5     7     5     5     6     6   \n",
       "97     5     5     7     5     7     5     5     6     5     5     6     5   \n",
       "98     5     5     7     5     7     6     5     7     5     5     6     6   \n",
       "99     5     5     7     5     7     5     5     7     5     5     6     5   \n",
       "\n",
       "    36    37    38    39    40    41    42    43    44    45    46    47    \\\n",
       "0      7     6     5     5     5     5     5     7     7     6     5     5   \n",
       "1      7     6     5     5     5     5     5     7     7     6     5     5   \n",
       "2      7     6     5     5     5     5     5     7     7     6     5     5   \n",
       "3      7     6     5     5     5     5     5     7     7     6     5     5   \n",
       "4      7     6     5     5     5     5     5     7     7     6     5     5   \n",
       "..   ...   ...   ...   ...   ...   ...   ...   ...   ...   ...   ...   ...   \n",
       "95     7     6     5     5     5     5     5     7     7     6     5     5   \n",
       "96     7     6     5     5     5     5     5     7     7     6     5     5   \n",
       "97     7     6     5     5     5     5     5     7     7     6     5     5   \n",
       "98     7     6     5     5     5     5     5     7     7     6     5     5   \n",
       "99     7     6     5     5     5     5     5     7     7     6     5     5   \n",
       "\n",
       "    48    49    ...  1322  1323  1324  1325  1326  1327  1328  1329  1330  \\\n",
       "0      6     5  ...     6     7     6     5     5     5     5     5     5   \n",
       "1      6     5  ...     6     7     6     5     5     5     5     5     5   \n",
       "2      6     5  ...     6     7     6     5     5     5     5     5     5   \n",
       "3      6     5  ...     6     7     6     5     5     5     5     5     5   \n",
       "4      6     5  ...     6     7     6     5     5     5     5     5     5   \n",
       "..   ...   ...  ...   ...   ...   ...   ...   ...   ...   ...   ...   ...   \n",
       "95     6     5  ...     6     7     6     5     5     5     5     5     5   \n",
       "96     6     5  ...     6     7     6     5     5     5     5     5     5   \n",
       "97     6     5  ...     6     7     6     5     5     5     5     5     5   \n",
       "98     6     5  ...     6     7     6     5     5     5     5     5     5   \n",
       "99     6     5  ...     6     7     6     5     5     5     5     5     5   \n",
       "\n",
       "    1331  1332  1333  1334  1335  1336  1337  1338  1339  1340  1341  1342  \\\n",
       "0      5     5     7     7     5     6     6     5     6     6     5     7   \n",
       "1      5     5     7     7     5     6     6     5     6     6     5     7   \n",
       "2      5     5     7     7     5     6     6     5     6     6     5     7   \n",
       "3      5     5     7     7     5     6     6     5     6     6     5     7   \n",
       "4      5     5     7     7     5     6     6     5     6     6     5     7   \n",
       "..   ...   ...   ...   ...   ...   ...   ...   ...   ...   ...   ...   ...   \n",
       "95     5     5     7     7     5     6     6     5     6     6     5     7   \n",
       "96     5     5     7     7     5     6     6     5     6     6     5     7   \n",
       "97     5     5     7     7     5     6     6     5     6     6     5     7   \n",
       "98     5     5     7     7     5     6     6     5     6     6     5     7   \n",
       "99     5     5     7     7     5     6     6     5     6     6     5     7   \n",
       "\n",
       "    1343  1344  1345  1346  1347  1348  1349  1350  1351  1352  1353  1354  \\\n",
       "0      5     5     6     7     7     5     6     6     5     5     6     5   \n",
       "1      5     5     5     7     7     5     6     6     5     5     6     5   \n",
       "2      5     5     5     7     7     5     6     6     5     5     6     5   \n",
       "3      5     5     6     7     7     5     6     6     5     5     6     5   \n",
       "4      5     5     5     7     7     5     6     6     5     5     6     5   \n",
       "..   ...   ...   ...   ...   ...   ...   ...   ...   ...   ...   ...   ...   \n",
       "95     5     5     6     7     7     5     6     6     5     5     6     5   \n",
       "96     5     5     6     7     7     5     6     6     5     5     6     5   \n",
       "97     5     5     5     7     7     5     6     6     5     5     6     5   \n",
       "98     5     5     6     7     7     5     6     6     5     5     6     5   \n",
       "99     5     5     6     7     7     5     6     6     5     5     6     5   \n",
       "\n",
       "    1355  1356  1357  1358  1359  1360  1361  1362  1363  1364  1365  1366  \\\n",
       "0      5     5     5     5     7     7     7     6     5     5     7     7   \n",
       "1      5     5     5     5     7     7     7     6     5     5     7     7   \n",
       "2      5     5     5     5     7     7     7     6     5     5     7     7   \n",
       "3      5     5     5     5     7     7     7     6     5     5     7     7   \n",
       "4      5     5     5     5     7     7     7     6     5     5     7     7   \n",
       "..   ...   ...   ...   ...   ...   ...   ...   ...   ...   ...   ...   ...   \n",
       "95     5     5     5     5     7     7     7     6     5     5     7     7   \n",
       "96     5     5     5     5     7     7     7     6     5     5     7     7   \n",
       "97     5     5     5     5     7     7     7     6     5     5     7     7   \n",
       "98     5     5     5     5     7     7     7     6     5     5     7     7   \n",
       "99     5     5     5     5     7     7     7     6     5     5     7     7   \n",
       "\n",
       "    1367  1368  1369  1370  1371  \n",
       "0      5     7     5     5     5  \n",
       "1      5     7     5     5     5  \n",
       "2      5     7     5     5     5  \n",
       "3      6     7     5     5     5  \n",
       "4      5     7     5     5     5  \n",
       "..   ...   ...   ...   ...   ...  \n",
       "95     5     7     5     5     5  \n",
       "96     6     7     5     5     5  \n",
       "97     5     7     5     5     5  \n",
       "98     6     7     5     5     5  \n",
       "99     5     7     5     5     5  \n",
       "\n",
       "[100 rows x 1372 columns]"
      ]
     },
     "execution_count": 49,
     "metadata": {},
     "output_type": "execute_result"
    }
   ],
   "source": [
    " pd.DataFrame(preds)"
   ]
  },
  {
   "cell_type": "code",
   "execution_count": 50,
   "id": "b10af8b1",
   "metadata": {},
   "outputs": [
    {
     "data": {
      "text/html": [
       "<div>\n",
       "<style scoped>\n",
       "    .dataframe tbody tr th:only-of-type {\n",
       "        vertical-align: middle;\n",
       "    }\n",
       "\n",
       "    .dataframe tbody tr th {\n",
       "        vertical-align: top;\n",
       "    }\n",
       "\n",
       "    .dataframe thead th {\n",
       "        text-align: right;\n",
       "    }\n",
       "</style>\n",
       "<table border=\"1\" class=\"dataframe\">\n",
       "  <thead>\n",
       "    <tr style=\"text-align: right;\">\n",
       "      <th></th>\n",
       "      <th>Id</th>\n",
       "      <th>quality</th>\n",
       "    </tr>\n",
       "  </thead>\n",
       "  <tbody>\n",
       "    <tr>\n",
       "      <th>0</th>\n",
       "      <td>2056</td>\n",
       "      <td>5</td>\n",
       "    </tr>\n",
       "    <tr>\n",
       "      <th>1</th>\n",
       "      <td>2057</td>\n",
       "      <td>6</td>\n",
       "    </tr>\n",
       "    <tr>\n",
       "      <th>2</th>\n",
       "      <td>2058</td>\n",
       "      <td>5</td>\n",
       "    </tr>\n",
       "    <tr>\n",
       "      <th>3</th>\n",
       "      <td>2059</td>\n",
       "      <td>6</td>\n",
       "    </tr>\n",
       "    <tr>\n",
       "      <th>4</th>\n",
       "      <td>2060</td>\n",
       "      <td>6</td>\n",
       "    </tr>\n",
       "  </tbody>\n",
       "</table>\n",
       "</div>"
      ],
      "text/plain": [
       "     Id  quality\n",
       "0  2056        5\n",
       "1  2057        6\n",
       "2  2058        5\n",
       "3  2059        6\n",
       "4  2060        6"
      ]
     },
     "execution_count": 50,
     "metadata": {},
     "output_type": "execute_result"
    }
   ],
   "source": [
    "XGB_preds_test = pd.DataFrame(preds).mode(axis = 0).loc[0, ]\n",
    "\n",
    "submission['quality'] = XGB_preds_test.astype(int)\n",
    "submission.head()"
   ]
  },
  {
   "cell_type": "code",
   "execution_count": 51,
   "id": "ddf485a6",
   "metadata": {},
   "outputs": [
    {
     "data": {
      "text/plain": [
       "5    652\n",
       "6    392\n",
       "7    328\n",
       "Name: quality, dtype: int64"
      ]
     },
     "execution_count": 51,
     "metadata": {},
     "output_type": "execute_result"
    }
   ],
   "source": [
    "submission['quality'].value_counts()"
   ]
  },
  {
   "cell_type": "code",
   "execution_count": 52,
   "id": "ed844ce9",
   "metadata": {},
   "outputs": [],
   "source": [
    "submission.to_csv('XGB_Reg_full_100_FE_7.csv', index = False)"
   ]
  }
 ],
 "metadata": {
  "kernelspec": {
   "display_name": "conda_python3",
   "language": "python",
   "name": "conda_python3"
  },
  "language_info": {
   "codemirror_mode": {
    "name": "ipython",
    "version": 3
   },
   "file_extension": ".py",
   "mimetype": "text/x-python",
   "name": "python",
   "nbconvert_exporter": "python",
   "pygments_lexer": "ipython3",
   "version": "3.10.6"
  }
 },
 "nbformat": 4,
 "nbformat_minor": 5
}
