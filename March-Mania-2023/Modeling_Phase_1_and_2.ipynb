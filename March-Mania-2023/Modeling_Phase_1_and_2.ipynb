{
 "cells": [
  {
   "cell_type": "code",
   "execution_count": 1,
   "id": "b52684ac",
   "metadata": {},
   "outputs": [
    {
     "name": "stdout",
     "output_type": "stream",
     "text": [
      "Looking in indexes: https://pypi.org/simple, https://pip.repos.neuron.amazonaws.com\n",
      "Collecting xgboost\n",
      "  Downloading xgboost-1.7.4-py3-none-manylinux2014_x86_64.whl (193.6 MB)\n",
      "\u001b[2K     \u001b[90m━━━━━━━━━━━━━━━━━━━━━━━━━━━━━━━━━━━━━━━\u001b[0m \u001b[32m193.6/193.6 MB\u001b[0m \u001b[31m3.4 MB/s\u001b[0m eta \u001b[36m0:00:00\u001b[0m00:01\u001b[0m00:01\u001b[0m\n",
      "\u001b[?25hCollecting lightgbm\n",
      "  Downloading lightgbm-3.3.5-py3-none-manylinux1_x86_64.whl (2.0 MB)\n",
      "\u001b[2K     \u001b[90m━━━━━━━━━━━━━━━━━━━━━━━━━━━━━━━━━━━━━━━━\u001b[0m \u001b[32m2.0/2.0 MB\u001b[0m \u001b[31m16.6 MB/s\u001b[0m eta \u001b[36m0:00:00\u001b[0m:00:01\u001b[0m\n",
      "\u001b[?25hRequirement already satisfied: scipy in /home/ec2-user/anaconda3/envs/python3/lib/python3.10/site-packages (from xgboost) (1.10.0)\n",
      "Requirement already satisfied: numpy in /home/ec2-user/anaconda3/envs/python3/lib/python3.10/site-packages (from xgboost) (1.22.3)\n",
      "Requirement already satisfied: wheel in /home/ec2-user/anaconda3/envs/python3/lib/python3.10/site-packages (from lightgbm) (0.38.4)\n",
      "Requirement already satisfied: scikit-learn!=0.22.0 in /home/ec2-user/anaconda3/envs/python3/lib/python3.10/site-packages (from lightgbm) (1.2.0)\n",
      "Requirement already satisfied: threadpoolctl>=2.0.0 in /home/ec2-user/anaconda3/envs/python3/lib/python3.10/site-packages (from scikit-learn!=0.22.0->lightgbm) (3.1.0)\n",
      "Requirement already satisfied: joblib>=1.1.1 in /home/ec2-user/anaconda3/envs/python3/lib/python3.10/site-packages (from scikit-learn!=0.22.0->lightgbm) (1.2.0)\n",
      "Installing collected packages: xgboost, lightgbm\n",
      "Successfully installed lightgbm-3.3.5 xgboost-1.7.4\n",
      "Note: you may need to restart the kernel to use updated packages.\n"
     ]
    }
   ],
   "source": [
    "pip install xgboost lightgbm"
   ]
  },
  {
   "cell_type": "code",
   "execution_count": 2,
   "id": "7763dc61",
   "metadata": {},
   "outputs": [
    {
     "name": "stderr",
     "output_type": "stream",
     "text": [
      "/tmp/ipykernel_8954/1750915339.py:57: DtypeWarning: Columns (46,55) have mixed types. Specify dtype option on import or set low_memory=False.\n",
      "  man_test = pd.read_csv(file_content_stream_2)\n",
      "/tmp/ipykernel_8954/1750915339.py:59: DtypeWarning: Columns (46) have mixed types. Specify dtype option on import or set low_memory=False.\n",
      "  woman_test = pd.read_csv(file_content_stream_4)\n"
     ]
    }
   ],
   "source": [
    "import boto3\n",
    "import pandas as pd; pd.set_option('display.max_columns', 100)\n",
    "import numpy as np\n",
    "\n",
    "from tqdm import tqdm\n",
    "\n",
    "import matplotlib.pyplot as plt; plt.style.use('ggplot')\n",
    "import seaborn as sns\n",
    "\n",
    "from scipy.stats import rankdata\n",
    "from sklearn.multiclass import OneVsRestClassifier\n",
    "from sklearn.tree import DecisionTreeRegressor, plot_tree\n",
    "from sklearn.preprocessing import MinMaxScaler\n",
    "from sklearn.model_selection import KFold, train_test_split, GridSearchCV, StratifiedKFold, TimeSeriesSplit\n",
    "from sklearn.metrics import mean_squared_error, roc_auc_score\n",
    "from sklearn.neighbors import KNeighborsClassifier\n",
    "from sklearn.ensemble import RandomForestClassifier, HistGradientBoostingClassifier, HistGradientBoostingRegressor\n",
    "from sklearn.linear_model import LogisticRegression\n",
    "from lightgbm import LGBMClassifier, LGBMRegressor \n",
    "from xgboost import XGBClassifier, XGBRegressor\n",
    "# from catboost import CatBoostClassifier, CatBoostRegressor\n",
    "\n",
    "# import optuna \n",
    "\n",
    "s3 = boto3.resource('s3')\n",
    "bucket_name = 'analytics-data-science-competitions'\n",
    "bucket = s3.Bucket(bucket_name)\n",
    "\n",
    "file_key_1 = 'March-Mania-2023/Evan-Data/MNCAA_train_538.csv'\n",
    "file_key_2 = 'March-Mania-2023/Evan-Data/MNCAA_test_538.csv'\n",
    "file_key_3 = 'March-Mania-2023/Evan-Data/WNCAA_train_538.csv'\n",
    "file_key_4 = 'March-Mania-2023/Evan-Data/WNCAA_test_538.csv'\n",
    "file_key_5 = 'March-Mania-2023/Evan-Data/SampleSubmission2023.csv'\n",
    "\n",
    "bucket_object_1 = bucket.Object(file_key_1)\n",
    "file_object_1 = bucket_object_1.get()\n",
    "file_content_stream_1 = file_object_1.get('Body')\n",
    "\n",
    "bucket_object_2 = bucket.Object(file_key_2)\n",
    "file_object_2 = bucket_object_2.get()\n",
    "file_content_stream_2 = file_object_2.get('Body')\n",
    "\n",
    "bucket_object_3 = bucket.Object(file_key_3)\n",
    "file_object_3 = bucket_object_3.get()\n",
    "file_content_stream_3 = file_object_3.get('Body')\n",
    "\n",
    "bucket_object_4 = bucket.Object(file_key_4)\n",
    "file_object_4 = bucket_object_4.get()\n",
    "file_content_stream_4 = file_object_4.get('Body')\n",
    "\n",
    "bucket_object_5 = bucket.Object(file_key_5)\n",
    "file_object_5 = bucket_object_5.get()\n",
    "file_content_stream_5 = file_object_5.get('Body')\n",
    "\n",
    "## Reading data files\n",
    "man_train = pd.read_csv(file_content_stream_1)\n",
    "man_test = pd.read_csv(file_content_stream_2)\n",
    "woman_train = pd.read_csv(file_content_stream_3)\n",
    "woman_test = pd.read_csv(file_content_stream_4)\n",
    "\n",
    "submission = pd.read_csv(file_content_stream_5)\n",
    "\n",
    "man_train['target'] = np.where(man_train['ResultDiff'] > 0, 1, 0)\n",
    "man_train_2016 = man_train[man_train['Season'] >= 2016].reset_index(drop = True)\n",
    "\n",
    "woman_train['target'] = np.where(woman_train['ResultDiff'] > 0, 1, 0)\n",
    "woman_train_2016 = woman_train[woman_train['Season'] >= 2016].reset_index(drop = True)"
   ]
  },
  {
   "cell_type": "markdown",
   "id": "bb6c9062",
   "metadata": {},
   "source": [
    "# Solution 1\n",
    "## Phase 1: Man"
   ]
  },
  {
   "cell_type": "code",
   "execution_count": 3,
   "id": "e8b5c0cd",
   "metadata": {},
   "outputs": [
    {
     "name": "stderr",
     "output_type": "stream",
     "text": [
      "100%|██████████| 100/100 [45:50<00:00, 27.50s/it]\n",
      "  0%|          | 0/100 [00:00<?, ?it/s]"
     ]
    },
    {
     "name": "stdout",
     "output_type": "stream",
     "text": [
      "[LightGBM] [Warning] lambda_l1 is set=0.1713152100541493, reg_alpha=0.0 will be ignored. Current value: lambda_l1=0.1713152100541493\n",
      "[LightGBM] [Warning] bagging_fraction is set=0.8443456049471257, subsample=1.0 will be ignored. Current value: bagging_fraction=0.8443456049471257\n",
      "[LightGBM] [Warning] feature_fraction is set=0.2439888911439529, colsample_bytree=1.0 will be ignored. Current value: feature_fraction=0.2439888911439529\n",
      "[LightGBM] [Warning] lambda_l2 is set=1.290608460937753, reg_lambda=0.0 will be ignored. Current value: lambda_l2=1.290608460937753\n"
     ]
    },
    {
     "name": "stderr",
     "output_type": "stream",
     "text": [
      "  1%|          | 1/100 [00:07<12:25,  7.53s/it]"
     ]
    },
    {
     "name": "stdout",
     "output_type": "stream",
     "text": [
      "[LightGBM] [Warning] lambda_l1 is set=0.1713152100541493, reg_alpha=0.0 will be ignored. Current value: lambda_l1=0.1713152100541493\n",
      "[LightGBM] [Warning] bagging_fraction is set=0.8443456049471257, subsample=1.0 will be ignored. Current value: bagging_fraction=0.8443456049471257\n",
      "[LightGBM] [Warning] feature_fraction is set=0.2439888911439529, colsample_bytree=1.0 will be ignored. Current value: feature_fraction=0.2439888911439529\n",
      "[LightGBM] [Warning] lambda_l2 is set=1.290608460937753, reg_lambda=0.0 will be ignored. Current value: lambda_l2=1.290608460937753\n"
     ]
    },
    {
     "name": "stderr",
     "output_type": "stream",
     "text": [
      "  2%|▏         | 2/100 [00:14<12:07,  7.42s/it]"
     ]
    },
    {
     "name": "stdout",
     "output_type": "stream",
     "text": [
      "[LightGBM] [Warning] lambda_l1 is set=0.1713152100541493, reg_alpha=0.0 will be ignored. Current value: lambda_l1=0.1713152100541493\n",
      "[LightGBM] [Warning] bagging_fraction is set=0.8443456049471257, subsample=1.0 will be ignored. Current value: bagging_fraction=0.8443456049471257\n",
      "[LightGBM] [Warning] feature_fraction is set=0.2439888911439529, colsample_bytree=1.0 will be ignored. Current value: feature_fraction=0.2439888911439529\n",
      "[LightGBM] [Warning] lambda_l2 is set=1.290608460937753, reg_lambda=0.0 will be ignored. Current value: lambda_l2=1.290608460937753\n"
     ]
    },
    {
     "name": "stderr",
     "output_type": "stream",
     "text": [
      "  3%|▎         | 3/100 [00:22<12:19,  7.62s/it]"
     ]
    },
    {
     "name": "stdout",
     "output_type": "stream",
     "text": [
      "[LightGBM] [Warning] lambda_l1 is set=0.1713152100541493, reg_alpha=0.0 will be ignored. Current value: lambda_l1=0.1713152100541493\n",
      "[LightGBM] [Warning] bagging_fraction is set=0.8443456049471257, subsample=1.0 will be ignored. Current value: bagging_fraction=0.8443456049471257\n",
      "[LightGBM] [Warning] feature_fraction is set=0.2439888911439529, colsample_bytree=1.0 will be ignored. Current value: feature_fraction=0.2439888911439529\n",
      "[LightGBM] [Warning] lambda_l2 is set=1.290608460937753, reg_lambda=0.0 will be ignored. Current value: lambda_l2=1.290608460937753\n"
     ]
    },
    {
     "name": "stderr",
     "output_type": "stream",
     "text": [
      "  4%|▍         | 4/100 [00:30<12:25,  7.77s/it]"
     ]
    },
    {
     "name": "stdout",
     "output_type": "stream",
     "text": [
      "[LightGBM] [Warning] lambda_l1 is set=0.1713152100541493, reg_alpha=0.0 will be ignored. Current value: lambda_l1=0.1713152100541493\n",
      "[LightGBM] [Warning] bagging_fraction is set=0.8443456049471257, subsample=1.0 will be ignored. Current value: bagging_fraction=0.8443456049471257\n",
      "[LightGBM] [Warning] feature_fraction is set=0.2439888911439529, colsample_bytree=1.0 will be ignored. Current value: feature_fraction=0.2439888911439529\n",
      "[LightGBM] [Warning] lambda_l2 is set=1.290608460937753, reg_lambda=0.0 will be ignored. Current value: lambda_l2=1.290608460937753\n"
     ]
    },
    {
     "name": "stderr",
     "output_type": "stream",
     "text": [
      "  5%|▌         | 5/100 [00:38<12:22,  7.82s/it]"
     ]
    },
    {
     "name": "stdout",
     "output_type": "stream",
     "text": [
      "[LightGBM] [Warning] lambda_l1 is set=0.1713152100541493, reg_alpha=0.0 will be ignored. Current value: lambda_l1=0.1713152100541493\n",
      "[LightGBM] [Warning] bagging_fraction is set=0.8443456049471257, subsample=1.0 will be ignored. Current value: bagging_fraction=0.8443456049471257\n",
      "[LightGBM] [Warning] feature_fraction is set=0.2439888911439529, colsample_bytree=1.0 will be ignored. Current value: feature_fraction=0.2439888911439529\n",
      "[LightGBM] [Warning] lambda_l2 is set=1.290608460937753, reg_lambda=0.0 will be ignored. Current value: lambda_l2=1.290608460937753\n"
     ]
    },
    {
     "name": "stderr",
     "output_type": "stream",
     "text": [
      "  6%|▌         | 6/100 [00:46<12:06,  7.72s/it]"
     ]
    },
    {
     "name": "stdout",
     "output_type": "stream",
     "text": [
      "[LightGBM] [Warning] lambda_l1 is set=0.1713152100541493, reg_alpha=0.0 will be ignored. Current value: lambda_l1=0.1713152100541493\n",
      "[LightGBM] [Warning] bagging_fraction is set=0.8443456049471257, subsample=1.0 will be ignored. Current value: bagging_fraction=0.8443456049471257\n",
      "[LightGBM] [Warning] feature_fraction is set=0.2439888911439529, colsample_bytree=1.0 will be ignored. Current value: feature_fraction=0.2439888911439529\n",
      "[LightGBM] [Warning] lambda_l2 is set=1.290608460937753, reg_lambda=0.0 will be ignored. Current value: lambda_l2=1.290608460937753\n"
     ]
    },
    {
     "name": "stderr",
     "output_type": "stream",
     "text": [
      "  7%|▋         | 7/100 [00:53<11:51,  7.65s/it]"
     ]
    },
    {
     "name": "stdout",
     "output_type": "stream",
     "text": [
      "[LightGBM] [Warning] lambda_l1 is set=0.1713152100541493, reg_alpha=0.0 will be ignored. Current value: lambda_l1=0.1713152100541493\n",
      "[LightGBM] [Warning] bagging_fraction is set=0.8443456049471257, subsample=1.0 will be ignored. Current value: bagging_fraction=0.8443456049471257\n",
      "[LightGBM] [Warning] feature_fraction is set=0.2439888911439529, colsample_bytree=1.0 will be ignored. Current value: feature_fraction=0.2439888911439529\n",
      "[LightGBM] [Warning] lambda_l2 is set=1.290608460937753, reg_lambda=0.0 will be ignored. Current value: lambda_l2=1.290608460937753\n"
     ]
    },
    {
     "name": "stderr",
     "output_type": "stream",
     "text": [
      "  8%|▊         | 8/100 [01:01<11:40,  7.61s/it]"
     ]
    },
    {
     "name": "stdout",
     "output_type": "stream",
     "text": [
      "[LightGBM] [Warning] lambda_l1 is set=0.1713152100541493, reg_alpha=0.0 will be ignored. Current value: lambda_l1=0.1713152100541493\n",
      "[LightGBM] [Warning] bagging_fraction is set=0.8443456049471257, subsample=1.0 will be ignored. Current value: bagging_fraction=0.8443456049471257\n",
      "[LightGBM] [Warning] feature_fraction is set=0.2439888911439529, colsample_bytree=1.0 will be ignored. Current value: feature_fraction=0.2439888911439529\n",
      "[LightGBM] [Warning] lambda_l2 is set=1.290608460937753, reg_lambda=0.0 will be ignored. Current value: lambda_l2=1.290608460937753\n"
     ]
    },
    {
     "name": "stderr",
     "output_type": "stream",
     "text": [
      "  9%|▉         | 9/100 [01:08<11:30,  7.59s/it]"
     ]
    },
    {
     "name": "stdout",
     "output_type": "stream",
     "text": [
      "[LightGBM] [Warning] lambda_l1 is set=0.1713152100541493, reg_alpha=0.0 will be ignored. Current value: lambda_l1=0.1713152100541493\n",
      "[LightGBM] [Warning] bagging_fraction is set=0.8443456049471257, subsample=1.0 will be ignored. Current value: bagging_fraction=0.8443456049471257\n",
      "[LightGBM] [Warning] feature_fraction is set=0.2439888911439529, colsample_bytree=1.0 will be ignored. Current value: feature_fraction=0.2439888911439529\n",
      "[LightGBM] [Warning] lambda_l2 is set=1.290608460937753, reg_lambda=0.0 will be ignored. Current value: lambda_l2=1.290608460937753\n"
     ]
    },
    {
     "name": "stderr",
     "output_type": "stream",
     "text": [
      " 10%|█         | 10/100 [01:16<11:20,  7.56s/it]"
     ]
    },
    {
     "name": "stdout",
     "output_type": "stream",
     "text": [
      "[LightGBM] [Warning] lambda_l1 is set=0.1713152100541493, reg_alpha=0.0 will be ignored. Current value: lambda_l1=0.1713152100541493\n",
      "[LightGBM] [Warning] bagging_fraction is set=0.8443456049471257, subsample=1.0 will be ignored. Current value: bagging_fraction=0.8443456049471257\n",
      "[LightGBM] [Warning] feature_fraction is set=0.2439888911439529, colsample_bytree=1.0 will be ignored. Current value: feature_fraction=0.2439888911439529\n",
      "[LightGBM] [Warning] lambda_l2 is set=1.290608460937753, reg_lambda=0.0 will be ignored. Current value: lambda_l2=1.290608460937753\n"
     ]
    },
    {
     "name": "stderr",
     "output_type": "stream",
     "text": [
      " 11%|█         | 11/100 [01:23<11:10,  7.53s/it]"
     ]
    },
    {
     "name": "stdout",
     "output_type": "stream",
     "text": [
      "[LightGBM] [Warning] lambda_l1 is set=0.1713152100541493, reg_alpha=0.0 will be ignored. Current value: lambda_l1=0.1713152100541493\n",
      "[LightGBM] [Warning] bagging_fraction is set=0.8443456049471257, subsample=1.0 will be ignored. Current value: bagging_fraction=0.8443456049471257\n",
      "[LightGBM] [Warning] feature_fraction is set=0.2439888911439529, colsample_bytree=1.0 will be ignored. Current value: feature_fraction=0.2439888911439529\n",
      "[LightGBM] [Warning] lambda_l2 is set=1.290608460937753, reg_lambda=0.0 will be ignored. Current value: lambda_l2=1.290608460937753\n"
     ]
    },
    {
     "name": "stderr",
     "output_type": "stream",
     "text": [
      " 12%|█▏        | 12/100 [01:31<10:59,  7.50s/it]"
     ]
    },
    {
     "name": "stdout",
     "output_type": "stream",
     "text": [
      "[LightGBM] [Warning] lambda_l1 is set=0.1713152100541493, reg_alpha=0.0 will be ignored. Current value: lambda_l1=0.1713152100541493\n",
      "[LightGBM] [Warning] bagging_fraction is set=0.8443456049471257, subsample=1.0 will be ignored. Current value: bagging_fraction=0.8443456049471257\n",
      "[LightGBM] [Warning] feature_fraction is set=0.2439888911439529, colsample_bytree=1.0 will be ignored. Current value: feature_fraction=0.2439888911439529\n",
      "[LightGBM] [Warning] lambda_l2 is set=1.290608460937753, reg_lambda=0.0 will be ignored. Current value: lambda_l2=1.290608460937753\n"
     ]
    },
    {
     "name": "stderr",
     "output_type": "stream",
     "text": [
      " 13%|█▎        | 13/100 [01:38<10:49,  7.46s/it]"
     ]
    },
    {
     "name": "stdout",
     "output_type": "stream",
     "text": [
      "[LightGBM] [Warning] lambda_l1 is set=0.1713152100541493, reg_alpha=0.0 will be ignored. Current value: lambda_l1=0.1713152100541493\n",
      "[LightGBM] [Warning] bagging_fraction is set=0.8443456049471257, subsample=1.0 will be ignored. Current value: bagging_fraction=0.8443456049471257\n",
      "[LightGBM] [Warning] feature_fraction is set=0.2439888911439529, colsample_bytree=1.0 will be ignored. Current value: feature_fraction=0.2439888911439529\n",
      "[LightGBM] [Warning] lambda_l2 is set=1.290608460937753, reg_lambda=0.0 will be ignored. Current value: lambda_l2=1.290608460937753\n"
     ]
    },
    {
     "name": "stderr",
     "output_type": "stream",
     "text": [
      " 14%|█▍        | 14/100 [01:45<10:38,  7.43s/it]"
     ]
    },
    {
     "name": "stdout",
     "output_type": "stream",
     "text": [
      "[LightGBM] [Warning] lambda_l1 is set=0.1713152100541493, reg_alpha=0.0 will be ignored. Current value: lambda_l1=0.1713152100541493\n",
      "[LightGBM] [Warning] bagging_fraction is set=0.8443456049471257, subsample=1.0 will be ignored. Current value: bagging_fraction=0.8443456049471257\n",
      "[LightGBM] [Warning] feature_fraction is set=0.2439888911439529, colsample_bytree=1.0 will be ignored. Current value: feature_fraction=0.2439888911439529\n",
      "[LightGBM] [Warning] lambda_l2 is set=1.290608460937753, reg_lambda=0.0 will be ignored. Current value: lambda_l2=1.290608460937753\n"
     ]
    },
    {
     "name": "stderr",
     "output_type": "stream",
     "text": [
      " 15%|█▌        | 15/100 [01:53<10:31,  7.43s/it]"
     ]
    },
    {
     "name": "stdout",
     "output_type": "stream",
     "text": [
      "[LightGBM] [Warning] lambda_l1 is set=0.1713152100541493, reg_alpha=0.0 will be ignored. Current value: lambda_l1=0.1713152100541493\n",
      "[LightGBM] [Warning] bagging_fraction is set=0.8443456049471257, subsample=1.0 will be ignored. Current value: bagging_fraction=0.8443456049471257\n",
      "[LightGBM] [Warning] feature_fraction is set=0.2439888911439529, colsample_bytree=1.0 will be ignored. Current value: feature_fraction=0.2439888911439529\n",
      "[LightGBM] [Warning] lambda_l2 is set=1.290608460937753, reg_lambda=0.0 will be ignored. Current value: lambda_l2=1.290608460937753\n"
     ]
    },
    {
     "name": "stderr",
     "output_type": "stream",
     "text": [
      " 16%|█▌        | 16/100 [02:00<10:28,  7.48s/it]"
     ]
    },
    {
     "name": "stdout",
     "output_type": "stream",
     "text": [
      "[LightGBM] [Warning] lambda_l1 is set=0.1713152100541493, reg_alpha=0.0 will be ignored. Current value: lambda_l1=0.1713152100541493\n",
      "[LightGBM] [Warning] bagging_fraction is set=0.8443456049471257, subsample=1.0 will be ignored. Current value: bagging_fraction=0.8443456049471257\n",
      "[LightGBM] [Warning] feature_fraction is set=0.2439888911439529, colsample_bytree=1.0 will be ignored. Current value: feature_fraction=0.2439888911439529\n",
      "[LightGBM] [Warning] lambda_l2 is set=1.290608460937753, reg_lambda=0.0 will be ignored. Current value: lambda_l2=1.290608460937753\n"
     ]
    },
    {
     "name": "stderr",
     "output_type": "stream",
     "text": [
      " 17%|█▋        | 17/100 [02:08<10:23,  7.52s/it]"
     ]
    },
    {
     "name": "stdout",
     "output_type": "stream",
     "text": [
      "[LightGBM] [Warning] lambda_l1 is set=0.1713152100541493, reg_alpha=0.0 will be ignored. Current value: lambda_l1=0.1713152100541493\n",
      "[LightGBM] [Warning] bagging_fraction is set=0.8443456049471257, subsample=1.0 will be ignored. Current value: bagging_fraction=0.8443456049471257\n",
      "[LightGBM] [Warning] feature_fraction is set=0.2439888911439529, colsample_bytree=1.0 will be ignored. Current value: feature_fraction=0.2439888911439529\n",
      "[LightGBM] [Warning] lambda_l2 is set=1.290608460937753, reg_lambda=0.0 will be ignored. Current value: lambda_l2=1.290608460937753\n"
     ]
    },
    {
     "name": "stderr",
     "output_type": "stream",
     "text": [
      " 18%|█▊        | 18/100 [02:16<10:22,  7.59s/it]"
     ]
    },
    {
     "name": "stdout",
     "output_type": "stream",
     "text": [
      "[LightGBM] [Warning] lambda_l1 is set=0.1713152100541493, reg_alpha=0.0 will be ignored. Current value: lambda_l1=0.1713152100541493\n",
      "[LightGBM] [Warning] bagging_fraction is set=0.8443456049471257, subsample=1.0 will be ignored. Current value: bagging_fraction=0.8443456049471257\n",
      "[LightGBM] [Warning] feature_fraction is set=0.2439888911439529, colsample_bytree=1.0 will be ignored. Current value: feature_fraction=0.2439888911439529\n",
      "[LightGBM] [Warning] lambda_l2 is set=1.290608460937753, reg_lambda=0.0 will be ignored. Current value: lambda_l2=1.290608460937753\n"
     ]
    },
    {
     "name": "stderr",
     "output_type": "stream",
     "text": [
      " 19%|█▉        | 19/100 [02:37<15:59, 11.84s/it]"
     ]
    },
    {
     "name": "stdout",
     "output_type": "stream",
     "text": [
      "[LightGBM] [Warning] lambda_l1 is set=0.1713152100541493, reg_alpha=0.0 will be ignored. Current value: lambda_l1=0.1713152100541493\n",
      "[LightGBM] [Warning] bagging_fraction is set=0.8443456049471257, subsample=1.0 will be ignored. Current value: bagging_fraction=0.8443456049471257\n",
      "[LightGBM] [Warning] feature_fraction is set=0.2439888911439529, colsample_bytree=1.0 will be ignored. Current value: feature_fraction=0.2439888911439529\n",
      "[LightGBM] [Warning] lambda_l2 is set=1.290608460937753, reg_lambda=0.0 will be ignored. Current value: lambda_l2=1.290608460937753\n"
     ]
    },
    {
     "name": "stderr",
     "output_type": "stream",
     "text": [
      " 20%|██        | 20/100 [02:45<14:02, 10.53s/it]"
     ]
    },
    {
     "name": "stdout",
     "output_type": "stream",
     "text": [
      "[LightGBM] [Warning] lambda_l1 is set=0.1713152100541493, reg_alpha=0.0 will be ignored. Current value: lambda_l1=0.1713152100541493\n",
      "[LightGBM] [Warning] bagging_fraction is set=0.8443456049471257, subsample=1.0 will be ignored. Current value: bagging_fraction=0.8443456049471257\n",
      "[LightGBM] [Warning] feature_fraction is set=0.2439888911439529, colsample_bytree=1.0 will be ignored. Current value: feature_fraction=0.2439888911439529\n",
      "[LightGBM] [Warning] lambda_l2 is set=1.290608460937753, reg_lambda=0.0 will be ignored. Current value: lambda_l2=1.290608460937753\n"
     ]
    },
    {
     "name": "stderr",
     "output_type": "stream",
     "text": [
      " 21%|██        | 21/100 [02:53<12:42,  9.65s/it]"
     ]
    },
    {
     "name": "stdout",
     "output_type": "stream",
     "text": [
      "[LightGBM] [Warning] lambda_l1 is set=0.1713152100541493, reg_alpha=0.0 will be ignored. Current value: lambda_l1=0.1713152100541493\n",
      "[LightGBM] [Warning] bagging_fraction is set=0.8443456049471257, subsample=1.0 will be ignored. Current value: bagging_fraction=0.8443456049471257\n",
      "[LightGBM] [Warning] feature_fraction is set=0.2439888911439529, colsample_bytree=1.0 will be ignored. Current value: feature_fraction=0.2439888911439529\n",
      "[LightGBM] [Warning] lambda_l2 is set=1.290608460937753, reg_lambda=0.0 will be ignored. Current value: lambda_l2=1.290608460937753\n"
     ]
    },
    {
     "name": "stderr",
     "output_type": "stream",
     "text": [
      " 22%|██▏       | 22/100 [03:00<11:42,  9.01s/it]"
     ]
    },
    {
     "name": "stdout",
     "output_type": "stream",
     "text": [
      "[LightGBM] [Warning] lambda_l1 is set=0.1713152100541493, reg_alpha=0.0 will be ignored. Current value: lambda_l1=0.1713152100541493\n",
      "[LightGBM] [Warning] bagging_fraction is set=0.8443456049471257, subsample=1.0 will be ignored. Current value: bagging_fraction=0.8443456049471257\n",
      "[LightGBM] [Warning] feature_fraction is set=0.2439888911439529, colsample_bytree=1.0 will be ignored. Current value: feature_fraction=0.2439888911439529\n",
      "[LightGBM] [Warning] lambda_l2 is set=1.290608460937753, reg_lambda=0.0 will be ignored. Current value: lambda_l2=1.290608460937753\n"
     ]
    },
    {
     "name": "stderr",
     "output_type": "stream",
     "text": [
      " 23%|██▎       | 23/100 [03:08<10:59,  8.56s/it]"
     ]
    },
    {
     "name": "stdout",
     "output_type": "stream",
     "text": [
      "[LightGBM] [Warning] lambda_l1 is set=0.1713152100541493, reg_alpha=0.0 will be ignored. Current value: lambda_l1=0.1713152100541493\n",
      "[LightGBM] [Warning] bagging_fraction is set=0.8443456049471257, subsample=1.0 will be ignored. Current value: bagging_fraction=0.8443456049471257\n",
      "[LightGBM] [Warning] feature_fraction is set=0.2439888911439529, colsample_bytree=1.0 will be ignored. Current value: feature_fraction=0.2439888911439529\n",
      "[LightGBM] [Warning] lambda_l2 is set=1.290608460937753, reg_lambda=0.0 will be ignored. Current value: lambda_l2=1.290608460937753\n"
     ]
    },
    {
     "name": "stderr",
     "output_type": "stream",
     "text": [
      " 24%|██▍       | 24/100 [03:15<10:26,  8.25s/it]"
     ]
    },
    {
     "name": "stdout",
     "output_type": "stream",
     "text": [
      "[LightGBM] [Warning] lambda_l1 is set=0.1713152100541493, reg_alpha=0.0 will be ignored. Current value: lambda_l1=0.1713152100541493\n",
      "[LightGBM] [Warning] bagging_fraction is set=0.8443456049471257, subsample=1.0 will be ignored. Current value: bagging_fraction=0.8443456049471257\n",
      "[LightGBM] [Warning] feature_fraction is set=0.2439888911439529, colsample_bytree=1.0 will be ignored. Current value: feature_fraction=0.2439888911439529\n",
      "[LightGBM] [Warning] lambda_l2 is set=1.290608460937753, reg_lambda=0.0 will be ignored. Current value: lambda_l2=1.290608460937753\n"
     ]
    },
    {
     "name": "stderr",
     "output_type": "stream",
     "text": [
      " 25%|██▌       | 25/100 [03:23<10:02,  8.03s/it]"
     ]
    },
    {
     "name": "stdout",
     "output_type": "stream",
     "text": [
      "[LightGBM] [Warning] lambda_l1 is set=0.1713152100541493, reg_alpha=0.0 will be ignored. Current value: lambda_l1=0.1713152100541493\n",
      "[LightGBM] [Warning] bagging_fraction is set=0.8443456049471257, subsample=1.0 will be ignored. Current value: bagging_fraction=0.8443456049471257\n",
      "[LightGBM] [Warning] feature_fraction is set=0.2439888911439529, colsample_bytree=1.0 will be ignored. Current value: feature_fraction=0.2439888911439529\n",
      "[LightGBM] [Warning] lambda_l2 is set=1.290608460937753, reg_lambda=0.0 will be ignored. Current value: lambda_l2=1.290608460937753\n"
     ]
    },
    {
     "name": "stderr",
     "output_type": "stream",
     "text": [
      " 26%|██▌       | 26/100 [03:30<09:41,  7.85s/it]"
     ]
    },
    {
     "name": "stdout",
     "output_type": "stream",
     "text": [
      "[LightGBM] [Warning] lambda_l1 is set=0.1713152100541493, reg_alpha=0.0 will be ignored. Current value: lambda_l1=0.1713152100541493\n",
      "[LightGBM] [Warning] bagging_fraction is set=0.8443456049471257, subsample=1.0 will be ignored. Current value: bagging_fraction=0.8443456049471257\n",
      "[LightGBM] [Warning] feature_fraction is set=0.2439888911439529, colsample_bytree=1.0 will be ignored. Current value: feature_fraction=0.2439888911439529\n",
      "[LightGBM] [Warning] lambda_l2 is set=1.290608460937753, reg_lambda=0.0 will be ignored. Current value: lambda_l2=1.290608460937753\n"
     ]
    },
    {
     "name": "stderr",
     "output_type": "stream",
     "text": [
      " 27%|██▋       | 27/100 [03:38<09:27,  7.78s/it]"
     ]
    },
    {
     "name": "stdout",
     "output_type": "stream",
     "text": [
      "[LightGBM] [Warning] lambda_l1 is set=0.1713152100541493, reg_alpha=0.0 will be ignored. Current value: lambda_l1=0.1713152100541493\n",
      "[LightGBM] [Warning] bagging_fraction is set=0.8443456049471257, subsample=1.0 will be ignored. Current value: bagging_fraction=0.8443456049471257\n",
      "[LightGBM] [Warning] feature_fraction is set=0.2439888911439529, colsample_bytree=1.0 will be ignored. Current value: feature_fraction=0.2439888911439529\n",
      "[LightGBM] [Warning] lambda_l2 is set=1.290608460937753, reg_lambda=0.0 will be ignored. Current value: lambda_l2=1.290608460937753\n"
     ]
    },
    {
     "name": "stderr",
     "output_type": "stream",
     "text": [
      " 28%|██▊       | 28/100 [03:45<09:12,  7.68s/it]"
     ]
    },
    {
     "name": "stdout",
     "output_type": "stream",
     "text": [
      "[LightGBM] [Warning] lambda_l1 is set=0.1713152100541493, reg_alpha=0.0 will be ignored. Current value: lambda_l1=0.1713152100541493\n",
      "[LightGBM] [Warning] bagging_fraction is set=0.8443456049471257, subsample=1.0 will be ignored. Current value: bagging_fraction=0.8443456049471257\n",
      "[LightGBM] [Warning] feature_fraction is set=0.2439888911439529, colsample_bytree=1.0 will be ignored. Current value: feature_fraction=0.2439888911439529\n",
      "[LightGBM] [Warning] lambda_l2 is set=1.290608460937753, reg_lambda=0.0 will be ignored. Current value: lambda_l2=1.290608460937753\n"
     ]
    },
    {
     "name": "stderr",
     "output_type": "stream",
     "text": [
      " 29%|██▉       | 29/100 [03:53<09:01,  7.63s/it]"
     ]
    },
    {
     "name": "stdout",
     "output_type": "stream",
     "text": [
      "[LightGBM] [Warning] lambda_l1 is set=0.1713152100541493, reg_alpha=0.0 will be ignored. Current value: lambda_l1=0.1713152100541493\n",
      "[LightGBM] [Warning] bagging_fraction is set=0.8443456049471257, subsample=1.0 will be ignored. Current value: bagging_fraction=0.8443456049471257\n",
      "[LightGBM] [Warning] feature_fraction is set=0.2439888911439529, colsample_bytree=1.0 will be ignored. Current value: feature_fraction=0.2439888911439529\n",
      "[LightGBM] [Warning] lambda_l2 is set=1.290608460937753, reg_lambda=0.0 will be ignored. Current value: lambda_l2=1.290608460937753\n"
     ]
    },
    {
     "name": "stderr",
     "output_type": "stream",
     "text": [
      " 30%|███       | 30/100 [04:00<08:53,  7.62s/it]"
     ]
    },
    {
     "name": "stdout",
     "output_type": "stream",
     "text": [
      "[LightGBM] [Warning] lambda_l1 is set=0.1713152100541493, reg_alpha=0.0 will be ignored. Current value: lambda_l1=0.1713152100541493\n",
      "[LightGBM] [Warning] bagging_fraction is set=0.8443456049471257, subsample=1.0 will be ignored. Current value: bagging_fraction=0.8443456049471257\n",
      "[LightGBM] [Warning] feature_fraction is set=0.2439888911439529, colsample_bytree=1.0 will be ignored. Current value: feature_fraction=0.2439888911439529\n",
      "[LightGBM] [Warning] lambda_l2 is set=1.290608460937753, reg_lambda=0.0 will be ignored. Current value: lambda_l2=1.290608460937753\n"
     ]
    },
    {
     "name": "stderr",
     "output_type": "stream",
     "text": [
      " 31%|███       | 31/100 [04:08<08:43,  7.59s/it]"
     ]
    },
    {
     "name": "stdout",
     "output_type": "stream",
     "text": [
      "[LightGBM] [Warning] lambda_l1 is set=0.1713152100541493, reg_alpha=0.0 will be ignored. Current value: lambda_l1=0.1713152100541493\n",
      "[LightGBM] [Warning] bagging_fraction is set=0.8443456049471257, subsample=1.0 will be ignored. Current value: bagging_fraction=0.8443456049471257\n",
      "[LightGBM] [Warning] feature_fraction is set=0.2439888911439529, colsample_bytree=1.0 will be ignored. Current value: feature_fraction=0.2439888911439529\n",
      "[LightGBM] [Warning] lambda_l2 is set=1.290608460937753, reg_lambda=0.0 will be ignored. Current value: lambda_l2=1.290608460937753\n"
     ]
    },
    {
     "name": "stderr",
     "output_type": "stream",
     "text": [
      " 32%|███▏      | 32/100 [04:15<08:33,  7.55s/it]"
     ]
    },
    {
     "name": "stdout",
     "output_type": "stream",
     "text": [
      "[LightGBM] [Warning] lambda_l1 is set=0.1713152100541493, reg_alpha=0.0 will be ignored. Current value: lambda_l1=0.1713152100541493\n",
      "[LightGBM] [Warning] bagging_fraction is set=0.8443456049471257, subsample=1.0 will be ignored. Current value: bagging_fraction=0.8443456049471257\n",
      "[LightGBM] [Warning] feature_fraction is set=0.2439888911439529, colsample_bytree=1.0 will be ignored. Current value: feature_fraction=0.2439888911439529\n",
      "[LightGBM] [Warning] lambda_l2 is set=1.290608460937753, reg_lambda=0.0 will be ignored. Current value: lambda_l2=1.290608460937753\n"
     ]
    },
    {
     "name": "stderr",
     "output_type": "stream",
     "text": [
      " 33%|███▎      | 33/100 [04:23<08:28,  7.58s/it]"
     ]
    },
    {
     "name": "stdout",
     "output_type": "stream",
     "text": [
      "[LightGBM] [Warning] lambda_l1 is set=0.1713152100541493, reg_alpha=0.0 will be ignored. Current value: lambda_l1=0.1713152100541493\n",
      "[LightGBM] [Warning] bagging_fraction is set=0.8443456049471257, subsample=1.0 will be ignored. Current value: bagging_fraction=0.8443456049471257\n",
      "[LightGBM] [Warning] feature_fraction is set=0.2439888911439529, colsample_bytree=1.0 will be ignored. Current value: feature_fraction=0.2439888911439529\n",
      "[LightGBM] [Warning] lambda_l2 is set=1.290608460937753, reg_lambda=0.0 will be ignored. Current value: lambda_l2=1.290608460937753\n"
     ]
    },
    {
     "name": "stderr",
     "output_type": "stream",
     "text": [
      " 34%|███▍      | 34/100 [04:30<08:17,  7.54s/it]"
     ]
    },
    {
     "name": "stdout",
     "output_type": "stream",
     "text": [
      "[LightGBM] [Warning] lambda_l1 is set=0.1713152100541493, reg_alpha=0.0 will be ignored. Current value: lambda_l1=0.1713152100541493\n",
      "[LightGBM] [Warning] bagging_fraction is set=0.8443456049471257, subsample=1.0 will be ignored. Current value: bagging_fraction=0.8443456049471257\n",
      "[LightGBM] [Warning] feature_fraction is set=0.2439888911439529, colsample_bytree=1.0 will be ignored. Current value: feature_fraction=0.2439888911439529\n",
      "[LightGBM] [Warning] lambda_l2 is set=1.290608460937753, reg_lambda=0.0 will be ignored. Current value: lambda_l2=1.290608460937753\n"
     ]
    },
    {
     "name": "stderr",
     "output_type": "stream",
     "text": [
      " 35%|███▌      | 35/100 [04:38<08:12,  7.58s/it]"
     ]
    },
    {
     "name": "stdout",
     "output_type": "stream",
     "text": [
      "[LightGBM] [Warning] lambda_l1 is set=0.1713152100541493, reg_alpha=0.0 will be ignored. Current value: lambda_l1=0.1713152100541493\n",
      "[LightGBM] [Warning] bagging_fraction is set=0.8443456049471257, subsample=1.0 will be ignored. Current value: bagging_fraction=0.8443456049471257\n",
      "[LightGBM] [Warning] feature_fraction is set=0.2439888911439529, colsample_bytree=1.0 will be ignored. Current value: feature_fraction=0.2439888911439529\n",
      "[LightGBM] [Warning] lambda_l2 is set=1.290608460937753, reg_lambda=0.0 will be ignored. Current value: lambda_l2=1.290608460937753\n"
     ]
    },
    {
     "name": "stderr",
     "output_type": "stream",
     "text": [
      " 36%|███▌      | 36/100 [04:46<08:04,  7.56s/it]"
     ]
    },
    {
     "name": "stdout",
     "output_type": "stream",
     "text": [
      "[LightGBM] [Warning] lambda_l1 is set=0.1713152100541493, reg_alpha=0.0 will be ignored. Current value: lambda_l1=0.1713152100541493\n",
      "[LightGBM] [Warning] bagging_fraction is set=0.8443456049471257, subsample=1.0 will be ignored. Current value: bagging_fraction=0.8443456049471257\n",
      "[LightGBM] [Warning] feature_fraction is set=0.2439888911439529, colsample_bytree=1.0 will be ignored. Current value: feature_fraction=0.2439888911439529\n",
      "[LightGBM] [Warning] lambda_l2 is set=1.290608460937753, reg_lambda=0.0 will be ignored. Current value: lambda_l2=1.290608460937753\n"
     ]
    },
    {
     "name": "stderr",
     "output_type": "stream",
     "text": [
      " 37%|███▋      | 37/100 [04:53<08:01,  7.65s/it]"
     ]
    },
    {
     "name": "stdout",
     "output_type": "stream",
     "text": [
      "[LightGBM] [Warning] lambda_l1 is set=0.1713152100541493, reg_alpha=0.0 will be ignored. Current value: lambda_l1=0.1713152100541493\n",
      "[LightGBM] [Warning] bagging_fraction is set=0.8443456049471257, subsample=1.0 will be ignored. Current value: bagging_fraction=0.8443456049471257\n",
      "[LightGBM] [Warning] feature_fraction is set=0.2439888911439529, colsample_bytree=1.0 will be ignored. Current value: feature_fraction=0.2439888911439529\n",
      "[LightGBM] [Warning] lambda_l2 is set=1.290608460937753, reg_lambda=0.0 will be ignored. Current value: lambda_l2=1.290608460937753\n"
     ]
    },
    {
     "name": "stderr",
     "output_type": "stream",
     "text": [
      " 38%|███▊      | 38/100 [05:01<07:59,  7.73s/it]"
     ]
    },
    {
     "name": "stdout",
     "output_type": "stream",
     "text": [
      "[LightGBM] [Warning] lambda_l1 is set=0.1713152100541493, reg_alpha=0.0 will be ignored. Current value: lambda_l1=0.1713152100541493\n",
      "[LightGBM] [Warning] bagging_fraction is set=0.8443456049471257, subsample=1.0 will be ignored. Current value: bagging_fraction=0.8443456049471257\n",
      "[LightGBM] [Warning] feature_fraction is set=0.2439888911439529, colsample_bytree=1.0 will be ignored. Current value: feature_fraction=0.2439888911439529\n",
      "[LightGBM] [Warning] lambda_l2 is set=1.290608460937753, reg_lambda=0.0 will be ignored. Current value: lambda_l2=1.290608460937753\n"
     ]
    },
    {
     "name": "stderr",
     "output_type": "stream",
     "text": [
      " 39%|███▉      | 39/100 [05:09<07:57,  7.83s/it]"
     ]
    },
    {
     "name": "stdout",
     "output_type": "stream",
     "text": [
      "[LightGBM] [Warning] lambda_l1 is set=0.1713152100541493, reg_alpha=0.0 will be ignored. Current value: lambda_l1=0.1713152100541493\n",
      "[LightGBM] [Warning] bagging_fraction is set=0.8443456049471257, subsample=1.0 will be ignored. Current value: bagging_fraction=0.8443456049471257\n",
      "[LightGBM] [Warning] feature_fraction is set=0.2439888911439529, colsample_bytree=1.0 will be ignored. Current value: feature_fraction=0.2439888911439529\n",
      "[LightGBM] [Warning] lambda_l2 is set=1.290608460937753, reg_lambda=0.0 will be ignored. Current value: lambda_l2=1.290608460937753\n"
     ]
    },
    {
     "name": "stderr",
     "output_type": "stream",
     "text": [
      " 40%|████      | 40/100 [05:19<08:16,  8.27s/it]"
     ]
    },
    {
     "name": "stdout",
     "output_type": "stream",
     "text": [
      "[LightGBM] [Warning] lambda_l1 is set=0.1713152100541493, reg_alpha=0.0 will be ignored. Current value: lambda_l1=0.1713152100541493\n",
      "[LightGBM] [Warning] bagging_fraction is set=0.8443456049471257, subsample=1.0 will be ignored. Current value: bagging_fraction=0.8443456049471257\n",
      "[LightGBM] [Warning] feature_fraction is set=0.2439888911439529, colsample_bytree=1.0 will be ignored. Current value: feature_fraction=0.2439888911439529\n",
      "[LightGBM] [Warning] lambda_l2 is set=1.290608460937753, reg_lambda=0.0 will be ignored. Current value: lambda_l2=1.290608460937753\n"
     ]
    },
    {
     "name": "stderr",
     "output_type": "stream",
     "text": [
      " 41%|████      | 41/100 [05:39<11:35, 11.78s/it]"
     ]
    },
    {
     "name": "stdout",
     "output_type": "stream",
     "text": [
      "[LightGBM] [Warning] lambda_l1 is set=0.1713152100541493, reg_alpha=0.0 will be ignored. Current value: lambda_l1=0.1713152100541493\n",
      "[LightGBM] [Warning] bagging_fraction is set=0.8443456049471257, subsample=1.0 will be ignored. Current value: bagging_fraction=0.8443456049471257\n",
      "[LightGBM] [Warning] feature_fraction is set=0.2439888911439529, colsample_bytree=1.0 will be ignored. Current value: feature_fraction=0.2439888911439529\n",
      "[LightGBM] [Warning] lambda_l2 is set=1.290608460937753, reg_lambda=0.0 will be ignored. Current value: lambda_l2=1.290608460937753\n"
     ]
    },
    {
     "name": "stderr",
     "output_type": "stream",
     "text": [
      " 42%|████▏     | 42/100 [05:46<10:09, 10.51s/it]"
     ]
    },
    {
     "name": "stdout",
     "output_type": "stream",
     "text": [
      "[LightGBM] [Warning] lambda_l1 is set=0.1713152100541493, reg_alpha=0.0 will be ignored. Current value: lambda_l1=0.1713152100541493\n",
      "[LightGBM] [Warning] bagging_fraction is set=0.8443456049471257, subsample=1.0 will be ignored. Current value: bagging_fraction=0.8443456049471257\n",
      "[LightGBM] [Warning] feature_fraction is set=0.2439888911439529, colsample_bytree=1.0 will be ignored. Current value: feature_fraction=0.2439888911439529\n",
      "[LightGBM] [Warning] lambda_l2 is set=1.290608460937753, reg_lambda=0.0 will be ignored. Current value: lambda_l2=1.290608460937753\n"
     ]
    },
    {
     "name": "stderr",
     "output_type": "stream",
     "text": [
      " 43%|████▎     | 43/100 [05:54<09:05,  9.57s/it]"
     ]
    },
    {
     "name": "stdout",
     "output_type": "stream",
     "text": [
      "[LightGBM] [Warning] lambda_l1 is set=0.1713152100541493, reg_alpha=0.0 will be ignored. Current value: lambda_l1=0.1713152100541493\n",
      "[LightGBM] [Warning] bagging_fraction is set=0.8443456049471257, subsample=1.0 will be ignored. Current value: bagging_fraction=0.8443456049471257\n",
      "[LightGBM] [Warning] feature_fraction is set=0.2439888911439529, colsample_bytree=1.0 will be ignored. Current value: feature_fraction=0.2439888911439529\n",
      "[LightGBM] [Warning] lambda_l2 is set=1.290608460937753, reg_lambda=0.0 will be ignored. Current value: lambda_l2=1.290608460937753\n"
     ]
    },
    {
     "name": "stderr",
     "output_type": "stream",
     "text": [
      " 44%|████▍     | 44/100 [06:01<08:21,  8.95s/it]"
     ]
    },
    {
     "name": "stdout",
     "output_type": "stream",
     "text": [
      "[LightGBM] [Warning] lambda_l1 is set=0.1713152100541493, reg_alpha=0.0 will be ignored. Current value: lambda_l1=0.1713152100541493\n",
      "[LightGBM] [Warning] bagging_fraction is set=0.8443456049471257, subsample=1.0 will be ignored. Current value: bagging_fraction=0.8443456049471257\n",
      "[LightGBM] [Warning] feature_fraction is set=0.2439888911439529, colsample_bytree=1.0 will be ignored. Current value: feature_fraction=0.2439888911439529\n",
      "[LightGBM] [Warning] lambda_l2 is set=1.290608460937753, reg_lambda=0.0 will be ignored. Current value: lambda_l2=1.290608460937753\n"
     ]
    },
    {
     "name": "stderr",
     "output_type": "stream",
     "text": [
      " 45%|████▌     | 45/100 [06:09<07:48,  8.52s/it]"
     ]
    },
    {
     "name": "stdout",
     "output_type": "stream",
     "text": [
      "[LightGBM] [Warning] lambda_l1 is set=0.1713152100541493, reg_alpha=0.0 will be ignored. Current value: lambda_l1=0.1713152100541493\n",
      "[LightGBM] [Warning] bagging_fraction is set=0.8443456049471257, subsample=1.0 will be ignored. Current value: bagging_fraction=0.8443456049471257\n",
      "[LightGBM] [Warning] feature_fraction is set=0.2439888911439529, colsample_bytree=1.0 will be ignored. Current value: feature_fraction=0.2439888911439529\n",
      "[LightGBM] [Warning] lambda_l2 is set=1.290608460937753, reg_lambda=0.0 will be ignored. Current value: lambda_l2=1.290608460937753\n"
     ]
    },
    {
     "name": "stderr",
     "output_type": "stream",
     "text": [
      " 46%|████▌     | 46/100 [06:16<07:22,  8.19s/it]"
     ]
    },
    {
     "name": "stdout",
     "output_type": "stream",
     "text": [
      "[LightGBM] [Warning] lambda_l1 is set=0.1713152100541493, reg_alpha=0.0 will be ignored. Current value: lambda_l1=0.1713152100541493\n",
      "[LightGBM] [Warning] bagging_fraction is set=0.8443456049471257, subsample=1.0 will be ignored. Current value: bagging_fraction=0.8443456049471257\n",
      "[LightGBM] [Warning] feature_fraction is set=0.2439888911439529, colsample_bytree=1.0 will be ignored. Current value: feature_fraction=0.2439888911439529\n",
      "[LightGBM] [Warning] lambda_l2 is set=1.290608460937753, reg_lambda=0.0 will be ignored. Current value: lambda_l2=1.290608460937753\n"
     ]
    },
    {
     "name": "stderr",
     "output_type": "stream",
     "text": [
      " 47%|████▋     | 47/100 [06:23<07:01,  7.94s/it]"
     ]
    },
    {
     "name": "stdout",
     "output_type": "stream",
     "text": [
      "[LightGBM] [Warning] lambda_l1 is set=0.1713152100541493, reg_alpha=0.0 will be ignored. Current value: lambda_l1=0.1713152100541493\n",
      "[LightGBM] [Warning] bagging_fraction is set=0.8443456049471257, subsample=1.0 will be ignored. Current value: bagging_fraction=0.8443456049471257\n",
      "[LightGBM] [Warning] feature_fraction is set=0.2439888911439529, colsample_bytree=1.0 will be ignored. Current value: feature_fraction=0.2439888911439529\n",
      "[LightGBM] [Warning] lambda_l2 is set=1.290608460937753, reg_lambda=0.0 will be ignored. Current value: lambda_l2=1.290608460937753\n"
     ]
    },
    {
     "name": "stderr",
     "output_type": "stream",
     "text": [
      " 48%|████▊     | 48/100 [06:31<06:44,  7.77s/it]"
     ]
    },
    {
     "name": "stdout",
     "output_type": "stream",
     "text": [
      "[LightGBM] [Warning] lambda_l1 is set=0.1713152100541493, reg_alpha=0.0 will be ignored. Current value: lambda_l1=0.1713152100541493\n",
      "[LightGBM] [Warning] bagging_fraction is set=0.8443456049471257, subsample=1.0 will be ignored. Current value: bagging_fraction=0.8443456049471257\n",
      "[LightGBM] [Warning] feature_fraction is set=0.2439888911439529, colsample_bytree=1.0 will be ignored. Current value: feature_fraction=0.2439888911439529\n",
      "[LightGBM] [Warning] lambda_l2 is set=1.290608460937753, reg_lambda=0.0 will be ignored. Current value: lambda_l2=1.290608460937753\n"
     ]
    },
    {
     "name": "stderr",
     "output_type": "stream",
     "text": [
      " 49%|████▉     | 49/100 [06:38<06:30,  7.65s/it]"
     ]
    },
    {
     "name": "stdout",
     "output_type": "stream",
     "text": [
      "[LightGBM] [Warning] lambda_l1 is set=0.1713152100541493, reg_alpha=0.0 will be ignored. Current value: lambda_l1=0.1713152100541493\n",
      "[LightGBM] [Warning] bagging_fraction is set=0.8443456049471257, subsample=1.0 will be ignored. Current value: bagging_fraction=0.8443456049471257\n",
      "[LightGBM] [Warning] feature_fraction is set=0.2439888911439529, colsample_bytree=1.0 will be ignored. Current value: feature_fraction=0.2439888911439529\n",
      "[LightGBM] [Warning] lambda_l2 is set=1.290608460937753, reg_lambda=0.0 will be ignored. Current value: lambda_l2=1.290608460937753\n"
     ]
    },
    {
     "name": "stderr",
     "output_type": "stream",
     "text": [
      " 50%|█████     | 50/100 [06:46<06:19,  7.58s/it]"
     ]
    },
    {
     "name": "stdout",
     "output_type": "stream",
     "text": [
      "[LightGBM] [Warning] lambda_l1 is set=0.1713152100541493, reg_alpha=0.0 will be ignored. Current value: lambda_l1=0.1713152100541493\n",
      "[LightGBM] [Warning] bagging_fraction is set=0.8443456049471257, subsample=1.0 will be ignored. Current value: bagging_fraction=0.8443456049471257\n",
      "[LightGBM] [Warning] feature_fraction is set=0.2439888911439529, colsample_bytree=1.0 will be ignored. Current value: feature_fraction=0.2439888911439529\n",
      "[LightGBM] [Warning] lambda_l2 is set=1.290608460937753, reg_lambda=0.0 will be ignored. Current value: lambda_l2=1.290608460937753\n"
     ]
    },
    {
     "name": "stderr",
     "output_type": "stream",
     "text": [
      " 51%|█████     | 51/100 [06:53<06:09,  7.54s/it]"
     ]
    },
    {
     "name": "stdout",
     "output_type": "stream",
     "text": [
      "[LightGBM] [Warning] lambda_l1 is set=0.1713152100541493, reg_alpha=0.0 will be ignored. Current value: lambda_l1=0.1713152100541493\n",
      "[LightGBM] [Warning] bagging_fraction is set=0.8443456049471257, subsample=1.0 will be ignored. Current value: bagging_fraction=0.8443456049471257\n",
      "[LightGBM] [Warning] feature_fraction is set=0.2439888911439529, colsample_bytree=1.0 will be ignored. Current value: feature_fraction=0.2439888911439529\n",
      "[LightGBM] [Warning] lambda_l2 is set=1.290608460937753, reg_lambda=0.0 will be ignored. Current value: lambda_l2=1.290608460937753\n"
     ]
    },
    {
     "name": "stderr",
     "output_type": "stream",
     "text": [
      " 52%|█████▏    | 52/100 [07:01<06:09,  7.70s/it]"
     ]
    },
    {
     "name": "stdout",
     "output_type": "stream",
     "text": [
      "[LightGBM] [Warning] lambda_l1 is set=0.1713152100541493, reg_alpha=0.0 will be ignored. Current value: lambda_l1=0.1713152100541493\n",
      "[LightGBM] [Warning] bagging_fraction is set=0.8443456049471257, subsample=1.0 will be ignored. Current value: bagging_fraction=0.8443456049471257\n",
      "[LightGBM] [Warning] feature_fraction is set=0.2439888911439529, colsample_bytree=1.0 will be ignored. Current value: feature_fraction=0.2439888911439529\n",
      "[LightGBM] [Warning] lambda_l2 is set=1.290608460937753, reg_lambda=0.0 will be ignored. Current value: lambda_l2=1.290608460937753\n"
     ]
    },
    {
     "name": "stderr",
     "output_type": "stream",
     "text": [
      " 53%|█████▎    | 53/100 [07:08<05:58,  7.62s/it]"
     ]
    },
    {
     "name": "stdout",
     "output_type": "stream",
     "text": [
      "[LightGBM] [Warning] lambda_l1 is set=0.1713152100541493, reg_alpha=0.0 will be ignored. Current value: lambda_l1=0.1713152100541493\n",
      "[LightGBM] [Warning] bagging_fraction is set=0.8443456049471257, subsample=1.0 will be ignored. Current value: bagging_fraction=0.8443456049471257\n",
      "[LightGBM] [Warning] feature_fraction is set=0.2439888911439529, colsample_bytree=1.0 will be ignored. Current value: feature_fraction=0.2439888911439529\n",
      "[LightGBM] [Warning] lambda_l2 is set=1.290608460937753, reg_lambda=0.0 will be ignored. Current value: lambda_l2=1.290608460937753\n"
     ]
    },
    {
     "name": "stderr",
     "output_type": "stream",
     "text": [
      " 54%|█████▍    | 54/100 [07:16<05:48,  7.57s/it]"
     ]
    },
    {
     "name": "stdout",
     "output_type": "stream",
     "text": [
      "[LightGBM] [Warning] lambda_l1 is set=0.1713152100541493, reg_alpha=0.0 will be ignored. Current value: lambda_l1=0.1713152100541493\n",
      "[LightGBM] [Warning] bagging_fraction is set=0.8443456049471257, subsample=1.0 will be ignored. Current value: bagging_fraction=0.8443456049471257\n",
      "[LightGBM] [Warning] feature_fraction is set=0.2439888911439529, colsample_bytree=1.0 will be ignored. Current value: feature_fraction=0.2439888911439529\n",
      "[LightGBM] [Warning] lambda_l2 is set=1.290608460937753, reg_lambda=0.0 will be ignored. Current value: lambda_l2=1.290608460937753\n"
     ]
    },
    {
     "name": "stderr",
     "output_type": "stream",
     "text": [
      " 55%|█████▌    | 55/100 [07:23<05:37,  7.50s/it]"
     ]
    },
    {
     "name": "stdout",
     "output_type": "stream",
     "text": [
      "[LightGBM] [Warning] lambda_l1 is set=0.1713152100541493, reg_alpha=0.0 will be ignored. Current value: lambda_l1=0.1713152100541493\n",
      "[LightGBM] [Warning] bagging_fraction is set=0.8443456049471257, subsample=1.0 will be ignored. Current value: bagging_fraction=0.8443456049471257\n",
      "[LightGBM] [Warning] feature_fraction is set=0.2439888911439529, colsample_bytree=1.0 will be ignored. Current value: feature_fraction=0.2439888911439529\n",
      "[LightGBM] [Warning] lambda_l2 is set=1.290608460937753, reg_lambda=0.0 will be ignored. Current value: lambda_l2=1.290608460937753\n"
     ]
    },
    {
     "name": "stderr",
     "output_type": "stream",
     "text": [
      " 56%|█████▌    | 56/100 [07:31<05:29,  7.49s/it]"
     ]
    },
    {
     "name": "stdout",
     "output_type": "stream",
     "text": [
      "[LightGBM] [Warning] lambda_l1 is set=0.1713152100541493, reg_alpha=0.0 will be ignored. Current value: lambda_l1=0.1713152100541493\n",
      "[LightGBM] [Warning] bagging_fraction is set=0.8443456049471257, subsample=1.0 will be ignored. Current value: bagging_fraction=0.8443456049471257\n",
      "[LightGBM] [Warning] feature_fraction is set=0.2439888911439529, colsample_bytree=1.0 will be ignored. Current value: feature_fraction=0.2439888911439529\n",
      "[LightGBM] [Warning] lambda_l2 is set=1.290608460937753, reg_lambda=0.0 will be ignored. Current value: lambda_l2=1.290608460937753\n"
     ]
    },
    {
     "name": "stderr",
     "output_type": "stream",
     "text": [
      " 57%|█████▋    | 57/100 [07:38<05:21,  7.47s/it]"
     ]
    },
    {
     "name": "stdout",
     "output_type": "stream",
     "text": [
      "[LightGBM] [Warning] lambda_l1 is set=0.1713152100541493, reg_alpha=0.0 will be ignored. Current value: lambda_l1=0.1713152100541493\n",
      "[LightGBM] [Warning] bagging_fraction is set=0.8443456049471257, subsample=1.0 will be ignored. Current value: bagging_fraction=0.8443456049471257\n",
      "[LightGBM] [Warning] feature_fraction is set=0.2439888911439529, colsample_bytree=1.0 will be ignored. Current value: feature_fraction=0.2439888911439529\n",
      "[LightGBM] [Warning] lambda_l2 is set=1.290608460937753, reg_lambda=0.0 will be ignored. Current value: lambda_l2=1.290608460937753\n"
     ]
    },
    {
     "name": "stderr",
     "output_type": "stream",
     "text": [
      " 58%|█████▊    | 58/100 [07:45<05:11,  7.41s/it]"
     ]
    },
    {
     "name": "stdout",
     "output_type": "stream",
     "text": [
      "[LightGBM] [Warning] lambda_l1 is set=0.1713152100541493, reg_alpha=0.0 will be ignored. Current value: lambda_l1=0.1713152100541493\n",
      "[LightGBM] [Warning] bagging_fraction is set=0.8443456049471257, subsample=1.0 will be ignored. Current value: bagging_fraction=0.8443456049471257\n",
      "[LightGBM] [Warning] feature_fraction is set=0.2439888911439529, colsample_bytree=1.0 will be ignored. Current value: feature_fraction=0.2439888911439529\n",
      "[LightGBM] [Warning] lambda_l2 is set=1.290608460937753, reg_lambda=0.0 will be ignored. Current value: lambda_l2=1.290608460937753\n"
     ]
    },
    {
     "name": "stderr",
     "output_type": "stream",
     "text": [
      " 59%|█████▉    | 59/100 [07:53<05:04,  7.42s/it]"
     ]
    },
    {
     "name": "stdout",
     "output_type": "stream",
     "text": [
      "[LightGBM] [Warning] lambda_l1 is set=0.1713152100541493, reg_alpha=0.0 will be ignored. Current value: lambda_l1=0.1713152100541493\n",
      "[LightGBM] [Warning] bagging_fraction is set=0.8443456049471257, subsample=1.0 will be ignored. Current value: bagging_fraction=0.8443456049471257\n",
      "[LightGBM] [Warning] feature_fraction is set=0.2439888911439529, colsample_bytree=1.0 will be ignored. Current value: feature_fraction=0.2439888911439529\n",
      "[LightGBM] [Warning] lambda_l2 is set=1.290608460937753, reg_lambda=0.0 will be ignored. Current value: lambda_l2=1.290608460937753\n"
     ]
    },
    {
     "name": "stderr",
     "output_type": "stream",
     "text": [
      " 60%|██████    | 60/100 [08:00<04:56,  7.41s/it]"
     ]
    },
    {
     "name": "stdout",
     "output_type": "stream",
     "text": [
      "[LightGBM] [Warning] lambda_l1 is set=0.1713152100541493, reg_alpha=0.0 will be ignored. Current value: lambda_l1=0.1713152100541493\n",
      "[LightGBM] [Warning] bagging_fraction is set=0.8443456049471257, subsample=1.0 will be ignored. Current value: bagging_fraction=0.8443456049471257\n",
      "[LightGBM] [Warning] feature_fraction is set=0.2439888911439529, colsample_bytree=1.0 will be ignored. Current value: feature_fraction=0.2439888911439529\n",
      "[LightGBM] [Warning] lambda_l2 is set=1.290608460937753, reg_lambda=0.0 will be ignored. Current value: lambda_l2=1.290608460937753\n"
     ]
    },
    {
     "name": "stderr",
     "output_type": "stream",
     "text": [
      " 61%|██████    | 61/100 [08:08<04:53,  7.51s/it]"
     ]
    },
    {
     "name": "stdout",
     "output_type": "stream",
     "text": [
      "[LightGBM] [Warning] lambda_l1 is set=0.1713152100541493, reg_alpha=0.0 will be ignored. Current value: lambda_l1=0.1713152100541493\n",
      "[LightGBM] [Warning] bagging_fraction is set=0.8443456049471257, subsample=1.0 will be ignored. Current value: bagging_fraction=0.8443456049471257\n",
      "[LightGBM] [Warning] feature_fraction is set=0.2439888911439529, colsample_bytree=1.0 will be ignored. Current value: feature_fraction=0.2439888911439529\n",
      "[LightGBM] [Warning] lambda_l2 is set=1.290608460937753, reg_lambda=0.0 will be ignored. Current value: lambda_l2=1.290608460937753\n"
     ]
    },
    {
     "name": "stderr",
     "output_type": "stream",
     "text": [
      " 62%|██████▏   | 62/100 [08:16<04:50,  7.66s/it]"
     ]
    },
    {
     "name": "stdout",
     "output_type": "stream",
     "text": [
      "[LightGBM] [Warning] lambda_l1 is set=0.1713152100541493, reg_alpha=0.0 will be ignored. Current value: lambda_l1=0.1713152100541493\n",
      "[LightGBM] [Warning] bagging_fraction is set=0.8443456049471257, subsample=1.0 will be ignored. Current value: bagging_fraction=0.8443456049471257\n",
      "[LightGBM] [Warning] feature_fraction is set=0.2439888911439529, colsample_bytree=1.0 will be ignored. Current value: feature_fraction=0.2439888911439529\n",
      "[LightGBM] [Warning] lambda_l2 is set=1.290608460937753, reg_lambda=0.0 will be ignored. Current value: lambda_l2=1.290608460937753\n"
     ]
    },
    {
     "name": "stderr",
     "output_type": "stream",
     "text": [
      " 63%|██████▎   | 63/100 [08:38<07:19, 11.87s/it]"
     ]
    },
    {
     "name": "stdout",
     "output_type": "stream",
     "text": [
      "[LightGBM] [Warning] lambda_l1 is set=0.1713152100541493, reg_alpha=0.0 will be ignored. Current value: lambda_l1=0.1713152100541493\n",
      "[LightGBM] [Warning] bagging_fraction is set=0.8443456049471257, subsample=1.0 will be ignored. Current value: bagging_fraction=0.8443456049471257\n",
      "[LightGBM] [Warning] feature_fraction is set=0.2439888911439529, colsample_bytree=1.0 will be ignored. Current value: feature_fraction=0.2439888911439529\n",
      "[LightGBM] [Warning] lambda_l2 is set=1.290608460937753, reg_lambda=0.0 will be ignored. Current value: lambda_l2=1.290608460937753\n"
     ]
    },
    {
     "name": "stderr",
     "output_type": "stream",
     "text": [
      " 64%|██████▍   | 64/100 [08:45<06:21, 10.61s/it]"
     ]
    },
    {
     "name": "stdout",
     "output_type": "stream",
     "text": [
      "[LightGBM] [Warning] lambda_l1 is set=0.1713152100541493, reg_alpha=0.0 will be ignored. Current value: lambda_l1=0.1713152100541493\n",
      "[LightGBM] [Warning] bagging_fraction is set=0.8443456049471257, subsample=1.0 will be ignored. Current value: bagging_fraction=0.8443456049471257\n",
      "[LightGBM] [Warning] feature_fraction is set=0.2439888911439529, colsample_bytree=1.0 will be ignored. Current value: feature_fraction=0.2439888911439529\n",
      "[LightGBM] [Warning] lambda_l2 is set=1.290608460937753, reg_lambda=0.0 will be ignored. Current value: lambda_l2=1.290608460937753\n"
     ]
    },
    {
     "name": "stderr",
     "output_type": "stream",
     "text": [
      " 65%|██████▌   | 65/100 [08:53<05:37,  9.66s/it]"
     ]
    },
    {
     "name": "stdout",
     "output_type": "stream",
     "text": [
      "[LightGBM] [Warning] lambda_l1 is set=0.1713152100541493, reg_alpha=0.0 will be ignored. Current value: lambda_l1=0.1713152100541493\n",
      "[LightGBM] [Warning] bagging_fraction is set=0.8443456049471257, subsample=1.0 will be ignored. Current value: bagging_fraction=0.8443456049471257\n",
      "[LightGBM] [Warning] feature_fraction is set=0.2439888911439529, colsample_bytree=1.0 will be ignored. Current value: feature_fraction=0.2439888911439529\n",
      "[LightGBM] [Warning] lambda_l2 is set=1.290608460937753, reg_lambda=0.0 will be ignored. Current value: lambda_l2=1.290608460937753\n"
     ]
    },
    {
     "name": "stderr",
     "output_type": "stream",
     "text": [
      " 66%|██████▌   | 66/100 [09:00<05:07,  9.04s/it]"
     ]
    },
    {
     "name": "stdout",
     "output_type": "stream",
     "text": [
      "[LightGBM] [Warning] lambda_l1 is set=0.1713152100541493, reg_alpha=0.0 will be ignored. Current value: lambda_l1=0.1713152100541493\n",
      "[LightGBM] [Warning] bagging_fraction is set=0.8443456049471257, subsample=1.0 will be ignored. Current value: bagging_fraction=0.8443456049471257\n",
      "[LightGBM] [Warning] feature_fraction is set=0.2439888911439529, colsample_bytree=1.0 will be ignored. Current value: feature_fraction=0.2439888911439529\n",
      "[LightGBM] [Warning] lambda_l2 is set=1.290608460937753, reg_lambda=0.0 will be ignored. Current value: lambda_l2=1.290608460937753\n"
     ]
    },
    {
     "name": "stderr",
     "output_type": "stream",
     "text": [
      " 67%|██████▋   | 67/100 [09:08<04:44,  8.61s/it]"
     ]
    },
    {
     "name": "stdout",
     "output_type": "stream",
     "text": [
      "[LightGBM] [Warning] lambda_l1 is set=0.1713152100541493, reg_alpha=0.0 will be ignored. Current value: lambda_l1=0.1713152100541493\n",
      "[LightGBM] [Warning] bagging_fraction is set=0.8443456049471257, subsample=1.0 will be ignored. Current value: bagging_fraction=0.8443456049471257\n",
      "[LightGBM] [Warning] feature_fraction is set=0.2439888911439529, colsample_bytree=1.0 will be ignored. Current value: feature_fraction=0.2439888911439529\n",
      "[LightGBM] [Warning] lambda_l2 is set=1.290608460937753, reg_lambda=0.0 will be ignored. Current value: lambda_l2=1.290608460937753\n"
     ]
    },
    {
     "name": "stderr",
     "output_type": "stream",
     "text": [
      " 68%|██████▊   | 68/100 [09:16<04:25,  8.29s/it]"
     ]
    },
    {
     "name": "stdout",
     "output_type": "stream",
     "text": [
      "[LightGBM] [Warning] lambda_l1 is set=0.1713152100541493, reg_alpha=0.0 will be ignored. Current value: lambda_l1=0.1713152100541493\n",
      "[LightGBM] [Warning] bagging_fraction is set=0.8443456049471257, subsample=1.0 will be ignored. Current value: bagging_fraction=0.8443456049471257\n",
      "[LightGBM] [Warning] feature_fraction is set=0.2439888911439529, colsample_bytree=1.0 will be ignored. Current value: feature_fraction=0.2439888911439529\n",
      "[LightGBM] [Warning] lambda_l2 is set=1.290608460937753, reg_lambda=0.0 will be ignored. Current value: lambda_l2=1.290608460937753\n"
     ]
    },
    {
     "name": "stderr",
     "output_type": "stream",
     "text": [
      " 69%|██████▉   | 69/100 [09:23<04:10,  8.07s/it]"
     ]
    },
    {
     "name": "stdout",
     "output_type": "stream",
     "text": [
      "[LightGBM] [Warning] lambda_l1 is set=0.1713152100541493, reg_alpha=0.0 will be ignored. Current value: lambda_l1=0.1713152100541493\n",
      "[LightGBM] [Warning] bagging_fraction is set=0.8443456049471257, subsample=1.0 will be ignored. Current value: bagging_fraction=0.8443456049471257\n",
      "[LightGBM] [Warning] feature_fraction is set=0.2439888911439529, colsample_bytree=1.0 will be ignored. Current value: feature_fraction=0.2439888911439529\n",
      "[LightGBM] [Warning] lambda_l2 is set=1.290608460937753, reg_lambda=0.0 will be ignored. Current value: lambda_l2=1.290608460937753\n"
     ]
    },
    {
     "name": "stderr",
     "output_type": "stream",
     "text": [
      " 70%|███████   | 70/100 [09:31<03:58,  7.94s/it]"
     ]
    },
    {
     "name": "stdout",
     "output_type": "stream",
     "text": [
      "[LightGBM] [Warning] lambda_l1 is set=0.1713152100541493, reg_alpha=0.0 will be ignored. Current value: lambda_l1=0.1713152100541493\n",
      "[LightGBM] [Warning] bagging_fraction is set=0.8443456049471257, subsample=1.0 will be ignored. Current value: bagging_fraction=0.8443456049471257\n",
      "[LightGBM] [Warning] feature_fraction is set=0.2439888911439529, colsample_bytree=1.0 will be ignored. Current value: feature_fraction=0.2439888911439529\n",
      "[LightGBM] [Warning] lambda_l2 is set=1.290608460937753, reg_lambda=0.0 will be ignored. Current value: lambda_l2=1.290608460937753\n"
     ]
    },
    {
     "name": "stderr",
     "output_type": "stream",
     "text": [
      " 71%|███████   | 71/100 [09:38<03:47,  7.85s/it]"
     ]
    },
    {
     "name": "stdout",
     "output_type": "stream",
     "text": [
      "[LightGBM] [Warning] lambda_l1 is set=0.1713152100541493, reg_alpha=0.0 will be ignored. Current value: lambda_l1=0.1713152100541493\n",
      "[LightGBM] [Warning] bagging_fraction is set=0.8443456049471257, subsample=1.0 will be ignored. Current value: bagging_fraction=0.8443456049471257\n",
      "[LightGBM] [Warning] feature_fraction is set=0.2439888911439529, colsample_bytree=1.0 will be ignored. Current value: feature_fraction=0.2439888911439529\n",
      "[LightGBM] [Warning] lambda_l2 is set=1.290608460937753, reg_lambda=0.0 will be ignored. Current value: lambda_l2=1.290608460937753\n"
     ]
    },
    {
     "name": "stderr",
     "output_type": "stream",
     "text": [
      " 72%|███████▏  | 72/100 [09:46<03:35,  7.71s/it]"
     ]
    },
    {
     "name": "stdout",
     "output_type": "stream",
     "text": [
      "[LightGBM] [Warning] lambda_l1 is set=0.1713152100541493, reg_alpha=0.0 will be ignored. Current value: lambda_l1=0.1713152100541493\n",
      "[LightGBM] [Warning] bagging_fraction is set=0.8443456049471257, subsample=1.0 will be ignored. Current value: bagging_fraction=0.8443456049471257\n",
      "[LightGBM] [Warning] feature_fraction is set=0.2439888911439529, colsample_bytree=1.0 will be ignored. Current value: feature_fraction=0.2439888911439529\n",
      "[LightGBM] [Warning] lambda_l2 is set=1.290608460937753, reg_lambda=0.0 will be ignored. Current value: lambda_l2=1.290608460937753\n"
     ]
    },
    {
     "name": "stderr",
     "output_type": "stream",
     "text": [
      " 73%|███████▎  | 73/100 [09:53<03:26,  7.65s/it]"
     ]
    },
    {
     "name": "stdout",
     "output_type": "stream",
     "text": [
      "[LightGBM] [Warning] lambda_l1 is set=0.1713152100541493, reg_alpha=0.0 will be ignored. Current value: lambda_l1=0.1713152100541493\n",
      "[LightGBM] [Warning] bagging_fraction is set=0.8443456049471257, subsample=1.0 will be ignored. Current value: bagging_fraction=0.8443456049471257\n",
      "[LightGBM] [Warning] feature_fraction is set=0.2439888911439529, colsample_bytree=1.0 will be ignored. Current value: feature_fraction=0.2439888911439529\n",
      "[LightGBM] [Warning] lambda_l2 is set=1.290608460937753, reg_lambda=0.0 will be ignored. Current value: lambda_l2=1.290608460937753\n"
     ]
    },
    {
     "name": "stderr",
     "output_type": "stream",
     "text": [
      " 74%|███████▍  | 74/100 [10:01<03:17,  7.61s/it]"
     ]
    },
    {
     "name": "stdout",
     "output_type": "stream",
     "text": [
      "[LightGBM] [Warning] lambda_l1 is set=0.1713152100541493, reg_alpha=0.0 will be ignored. Current value: lambda_l1=0.1713152100541493\n",
      "[LightGBM] [Warning] bagging_fraction is set=0.8443456049471257, subsample=1.0 will be ignored. Current value: bagging_fraction=0.8443456049471257\n",
      "[LightGBM] [Warning] feature_fraction is set=0.2439888911439529, colsample_bytree=1.0 will be ignored. Current value: feature_fraction=0.2439888911439529\n",
      "[LightGBM] [Warning] lambda_l2 is set=1.290608460937753, reg_lambda=0.0 will be ignored. Current value: lambda_l2=1.290608460937753\n"
     ]
    },
    {
     "name": "stderr",
     "output_type": "stream",
     "text": [
      " 75%|███████▌  | 75/100 [10:08<03:08,  7.54s/it]"
     ]
    },
    {
     "name": "stdout",
     "output_type": "stream",
     "text": [
      "[LightGBM] [Warning] lambda_l1 is set=0.1713152100541493, reg_alpha=0.0 will be ignored. Current value: lambda_l1=0.1713152100541493\n",
      "[LightGBM] [Warning] bagging_fraction is set=0.8443456049471257, subsample=1.0 will be ignored. Current value: bagging_fraction=0.8443456049471257\n",
      "[LightGBM] [Warning] feature_fraction is set=0.2439888911439529, colsample_bytree=1.0 will be ignored. Current value: feature_fraction=0.2439888911439529\n",
      "[LightGBM] [Warning] lambda_l2 is set=1.290608460937753, reg_lambda=0.0 will be ignored. Current value: lambda_l2=1.290608460937753\n"
     ]
    },
    {
     "name": "stderr",
     "output_type": "stream",
     "text": [
      " 76%|███████▌  | 76/100 [10:16<03:00,  7.53s/it]"
     ]
    },
    {
     "name": "stdout",
     "output_type": "stream",
     "text": [
      "[LightGBM] [Warning] lambda_l1 is set=0.1713152100541493, reg_alpha=0.0 will be ignored. Current value: lambda_l1=0.1713152100541493\n",
      "[LightGBM] [Warning] bagging_fraction is set=0.8443456049471257, subsample=1.0 will be ignored. Current value: bagging_fraction=0.8443456049471257\n",
      "[LightGBM] [Warning] feature_fraction is set=0.2439888911439529, colsample_bytree=1.0 will be ignored. Current value: feature_fraction=0.2439888911439529\n",
      "[LightGBM] [Warning] lambda_l2 is set=1.290608460937753, reg_lambda=0.0 will be ignored. Current value: lambda_l2=1.290608460937753\n"
     ]
    },
    {
     "name": "stderr",
     "output_type": "stream",
     "text": [
      " 77%|███████▋  | 77/100 [10:23<02:52,  7.48s/it]"
     ]
    },
    {
     "name": "stdout",
     "output_type": "stream",
     "text": [
      "[LightGBM] [Warning] lambda_l1 is set=0.1713152100541493, reg_alpha=0.0 will be ignored. Current value: lambda_l1=0.1713152100541493\n",
      "[LightGBM] [Warning] bagging_fraction is set=0.8443456049471257, subsample=1.0 will be ignored. Current value: bagging_fraction=0.8443456049471257\n",
      "[LightGBM] [Warning] feature_fraction is set=0.2439888911439529, colsample_bytree=1.0 will be ignored. Current value: feature_fraction=0.2439888911439529\n",
      "[LightGBM] [Warning] lambda_l2 is set=1.290608460937753, reg_lambda=0.0 will be ignored. Current value: lambda_l2=1.290608460937753\n"
     ]
    },
    {
     "name": "stderr",
     "output_type": "stream",
     "text": [
      " 78%|███████▊  | 78/100 [10:31<02:44,  7.50s/it]"
     ]
    },
    {
     "name": "stdout",
     "output_type": "stream",
     "text": [
      "[LightGBM] [Warning] lambda_l1 is set=0.1713152100541493, reg_alpha=0.0 will be ignored. Current value: lambda_l1=0.1713152100541493\n",
      "[LightGBM] [Warning] bagging_fraction is set=0.8443456049471257, subsample=1.0 will be ignored. Current value: bagging_fraction=0.8443456049471257\n",
      "[LightGBM] [Warning] feature_fraction is set=0.2439888911439529, colsample_bytree=1.0 will be ignored. Current value: feature_fraction=0.2439888911439529\n",
      "[LightGBM] [Warning] lambda_l2 is set=1.290608460937753, reg_lambda=0.0 will be ignored. Current value: lambda_l2=1.290608460937753\n"
     ]
    },
    {
     "name": "stderr",
     "output_type": "stream",
     "text": [
      " 79%|███████▉  | 79/100 [10:40<02:49,  8.05s/it]"
     ]
    },
    {
     "name": "stdout",
     "output_type": "stream",
     "text": [
      "[LightGBM] [Warning] lambda_l1 is set=0.1713152100541493, reg_alpha=0.0 will be ignored. Current value: lambda_l1=0.1713152100541493\n",
      "[LightGBM] [Warning] bagging_fraction is set=0.8443456049471257, subsample=1.0 will be ignored. Current value: bagging_fraction=0.8443456049471257\n",
      "[LightGBM] [Warning] feature_fraction is set=0.2439888911439529, colsample_bytree=1.0 will be ignored. Current value: feature_fraction=0.2439888911439529\n",
      "[LightGBM] [Warning] lambda_l2 is set=1.290608460937753, reg_lambda=0.0 will be ignored. Current value: lambda_l2=1.290608460937753\n"
     ]
    },
    {
     "name": "stderr",
     "output_type": "stream",
     "text": [
      " 80%|████████  | 80/100 [10:49<02:48,  8.42s/it]"
     ]
    },
    {
     "name": "stdout",
     "output_type": "stream",
     "text": [
      "[LightGBM] [Warning] lambda_l1 is set=0.1713152100541493, reg_alpha=0.0 will be ignored. Current value: lambda_l1=0.1713152100541493\n",
      "[LightGBM] [Warning] bagging_fraction is set=0.8443456049471257, subsample=1.0 will be ignored. Current value: bagging_fraction=0.8443456049471257\n",
      "[LightGBM] [Warning] feature_fraction is set=0.2439888911439529, colsample_bytree=1.0 will be ignored. Current value: feature_fraction=0.2439888911439529\n",
      "[LightGBM] [Warning] lambda_l2 is set=1.290608460937753, reg_lambda=0.0 will be ignored. Current value: lambda_l2=1.290608460937753\n"
     ]
    },
    {
     "name": "stderr",
     "output_type": "stream",
     "text": [
      " 81%|████████  | 81/100 [10:57<02:35,  8.18s/it]"
     ]
    },
    {
     "name": "stdout",
     "output_type": "stream",
     "text": [
      "[LightGBM] [Warning] lambda_l1 is set=0.1713152100541493, reg_alpha=0.0 will be ignored. Current value: lambda_l1=0.1713152100541493\n",
      "[LightGBM] [Warning] bagging_fraction is set=0.8443456049471257, subsample=1.0 will be ignored. Current value: bagging_fraction=0.8443456049471257\n",
      "[LightGBM] [Warning] feature_fraction is set=0.2439888911439529, colsample_bytree=1.0 will be ignored. Current value: feature_fraction=0.2439888911439529\n",
      "[LightGBM] [Warning] lambda_l2 is set=1.290608460937753, reg_lambda=0.0 will be ignored. Current value: lambda_l2=1.290608460937753\n"
     ]
    },
    {
     "name": "stderr",
     "output_type": "stream",
     "text": [
      " 82%|████████▏ | 82/100 [11:04<02:23,  7.95s/it]"
     ]
    },
    {
     "name": "stdout",
     "output_type": "stream",
     "text": [
      "[LightGBM] [Warning] lambda_l1 is set=0.1713152100541493, reg_alpha=0.0 will be ignored. Current value: lambda_l1=0.1713152100541493\n",
      "[LightGBM] [Warning] bagging_fraction is set=0.8443456049471257, subsample=1.0 will be ignored. Current value: bagging_fraction=0.8443456049471257\n",
      "[LightGBM] [Warning] feature_fraction is set=0.2439888911439529, colsample_bytree=1.0 will be ignored. Current value: feature_fraction=0.2439888911439529\n",
      "[LightGBM] [Warning] lambda_l2 is set=1.290608460937753, reg_lambda=0.0 will be ignored. Current value: lambda_l2=1.290608460937753\n"
     ]
    },
    {
     "name": "stderr",
     "output_type": "stream",
     "text": [
      " 83%|████████▎ | 83/100 [11:12<02:12,  7.80s/it]"
     ]
    },
    {
     "name": "stdout",
     "output_type": "stream",
     "text": [
      "[LightGBM] [Warning] lambda_l1 is set=0.1713152100541493, reg_alpha=0.0 will be ignored. Current value: lambda_l1=0.1713152100541493\n",
      "[LightGBM] [Warning] bagging_fraction is set=0.8443456049471257, subsample=1.0 will be ignored. Current value: bagging_fraction=0.8443456049471257\n",
      "[LightGBM] [Warning] feature_fraction is set=0.2439888911439529, colsample_bytree=1.0 will be ignored. Current value: feature_fraction=0.2439888911439529\n",
      "[LightGBM] [Warning] lambda_l2 is set=1.290608460937753, reg_lambda=0.0 will be ignored. Current value: lambda_l2=1.290608460937753\n"
     ]
    },
    {
     "name": "stderr",
     "output_type": "stream",
     "text": [
      " 84%|████████▍ | 84/100 [11:28<02:46, 10.38s/it]"
     ]
    },
    {
     "name": "stdout",
     "output_type": "stream",
     "text": [
      "[LightGBM] [Warning] lambda_l1 is set=0.1713152100541493, reg_alpha=0.0 will be ignored. Current value: lambda_l1=0.1713152100541493\n",
      "[LightGBM] [Warning] bagging_fraction is set=0.8443456049471257, subsample=1.0 will be ignored. Current value: bagging_fraction=0.8443456049471257\n",
      "[LightGBM] [Warning] feature_fraction is set=0.2439888911439529, colsample_bytree=1.0 will be ignored. Current value: feature_fraction=0.2439888911439529\n",
      "[LightGBM] [Warning] lambda_l2 is set=1.290608460937753, reg_lambda=0.0 will be ignored. Current value: lambda_l2=1.290608460937753\n"
     ]
    },
    {
     "name": "stderr",
     "output_type": "stream",
     "text": [
      " 85%|████████▌ | 85/100 [11:40<02:42, 10.84s/it]"
     ]
    },
    {
     "name": "stdout",
     "output_type": "stream",
     "text": [
      "[LightGBM] [Warning] lambda_l1 is set=0.1713152100541493, reg_alpha=0.0 will be ignored. Current value: lambda_l1=0.1713152100541493\n",
      "[LightGBM] [Warning] bagging_fraction is set=0.8443456049471257, subsample=1.0 will be ignored. Current value: bagging_fraction=0.8443456049471257\n",
      "[LightGBM] [Warning] feature_fraction is set=0.2439888911439529, colsample_bytree=1.0 will be ignored. Current value: feature_fraction=0.2439888911439529\n",
      "[LightGBM] [Warning] lambda_l2 is set=1.290608460937753, reg_lambda=0.0 will be ignored. Current value: lambda_l2=1.290608460937753\n"
     ]
    },
    {
     "name": "stderr",
     "output_type": "stream",
     "text": [
      " 86%|████████▌ | 86/100 [11:47<02:17,  9.84s/it]"
     ]
    },
    {
     "name": "stdout",
     "output_type": "stream",
     "text": [
      "[LightGBM] [Warning] lambda_l1 is set=0.1713152100541493, reg_alpha=0.0 will be ignored. Current value: lambda_l1=0.1713152100541493\n",
      "[LightGBM] [Warning] bagging_fraction is set=0.8443456049471257, subsample=1.0 will be ignored. Current value: bagging_fraction=0.8443456049471257\n",
      "[LightGBM] [Warning] feature_fraction is set=0.2439888911439529, colsample_bytree=1.0 will be ignored. Current value: feature_fraction=0.2439888911439529\n",
      "[LightGBM] [Warning] lambda_l2 is set=1.290608460937753, reg_lambda=0.0 will be ignored. Current value: lambda_l2=1.290608460937753\n"
     ]
    },
    {
     "name": "stderr",
     "output_type": "stream",
     "text": [
      " 87%|████████▋ | 87/100 [11:55<01:58,  9.15s/it]"
     ]
    },
    {
     "name": "stdout",
     "output_type": "stream",
     "text": [
      "[LightGBM] [Warning] lambda_l1 is set=0.1713152100541493, reg_alpha=0.0 will be ignored. Current value: lambda_l1=0.1713152100541493\n",
      "[LightGBM] [Warning] bagging_fraction is set=0.8443456049471257, subsample=1.0 will be ignored. Current value: bagging_fraction=0.8443456049471257\n",
      "[LightGBM] [Warning] feature_fraction is set=0.2439888911439529, colsample_bytree=1.0 will be ignored. Current value: feature_fraction=0.2439888911439529\n",
      "[LightGBM] [Warning] lambda_l2 is set=1.290608460937753, reg_lambda=0.0 will be ignored. Current value: lambda_l2=1.290608460937753\n"
     ]
    },
    {
     "name": "stderr",
     "output_type": "stream",
     "text": [
      " 88%|████████▊ | 88/100 [12:02<01:43,  8.64s/it]"
     ]
    },
    {
     "name": "stdout",
     "output_type": "stream",
     "text": [
      "[LightGBM] [Warning] lambda_l1 is set=0.1713152100541493, reg_alpha=0.0 will be ignored. Current value: lambda_l1=0.1713152100541493\n",
      "[LightGBM] [Warning] bagging_fraction is set=0.8443456049471257, subsample=1.0 will be ignored. Current value: bagging_fraction=0.8443456049471257\n",
      "[LightGBM] [Warning] feature_fraction is set=0.2439888911439529, colsample_bytree=1.0 will be ignored. Current value: feature_fraction=0.2439888911439529\n",
      "[LightGBM] [Warning] lambda_l2 is set=1.290608460937753, reg_lambda=0.0 will be ignored. Current value: lambda_l2=1.290608460937753\n"
     ]
    },
    {
     "name": "stderr",
     "output_type": "stream",
     "text": [
      " 89%|████████▉ | 89/100 [12:10<01:31,  8.32s/it]"
     ]
    },
    {
     "name": "stdout",
     "output_type": "stream",
     "text": [
      "[LightGBM] [Warning] lambda_l1 is set=0.1713152100541493, reg_alpha=0.0 will be ignored. Current value: lambda_l1=0.1713152100541493\n",
      "[LightGBM] [Warning] bagging_fraction is set=0.8443456049471257, subsample=1.0 will be ignored. Current value: bagging_fraction=0.8443456049471257\n",
      "[LightGBM] [Warning] feature_fraction is set=0.2439888911439529, colsample_bytree=1.0 will be ignored. Current value: feature_fraction=0.2439888911439529\n",
      "[LightGBM] [Warning] lambda_l2 is set=1.290608460937753, reg_lambda=0.0 will be ignored. Current value: lambda_l2=1.290608460937753\n"
     ]
    },
    {
     "name": "stderr",
     "output_type": "stream",
     "text": [
      " 90%|█████████ | 90/100 [12:17<01:20,  8.02s/it]"
     ]
    },
    {
     "name": "stdout",
     "output_type": "stream",
     "text": [
      "[LightGBM] [Warning] lambda_l1 is set=0.1713152100541493, reg_alpha=0.0 will be ignored. Current value: lambda_l1=0.1713152100541493\n",
      "[LightGBM] [Warning] bagging_fraction is set=0.8443456049471257, subsample=1.0 will be ignored. Current value: bagging_fraction=0.8443456049471257\n",
      "[LightGBM] [Warning] feature_fraction is set=0.2439888911439529, colsample_bytree=1.0 will be ignored. Current value: feature_fraction=0.2439888911439529\n",
      "[LightGBM] [Warning] lambda_l2 is set=1.290608460937753, reg_lambda=0.0 will be ignored. Current value: lambda_l2=1.290608460937753\n"
     ]
    },
    {
     "name": "stderr",
     "output_type": "stream",
     "text": [
      " 91%|█████████ | 91/100 [12:25<01:10,  7.84s/it]"
     ]
    },
    {
     "name": "stdout",
     "output_type": "stream",
     "text": [
      "[LightGBM] [Warning] lambda_l1 is set=0.1713152100541493, reg_alpha=0.0 will be ignored. Current value: lambda_l1=0.1713152100541493\n",
      "[LightGBM] [Warning] bagging_fraction is set=0.8443456049471257, subsample=1.0 will be ignored. Current value: bagging_fraction=0.8443456049471257\n",
      "[LightGBM] [Warning] feature_fraction is set=0.2439888911439529, colsample_bytree=1.0 will be ignored. Current value: feature_fraction=0.2439888911439529\n",
      "[LightGBM] [Warning] lambda_l2 is set=1.290608460937753, reg_lambda=0.0 will be ignored. Current value: lambda_l2=1.290608460937753\n"
     ]
    },
    {
     "name": "stderr",
     "output_type": "stream",
     "text": [
      " 92%|█████████▏| 92/100 [12:32<01:01,  7.74s/it]"
     ]
    },
    {
     "name": "stdout",
     "output_type": "stream",
     "text": [
      "[LightGBM] [Warning] lambda_l1 is set=0.1713152100541493, reg_alpha=0.0 will be ignored. Current value: lambda_l1=0.1713152100541493\n",
      "[LightGBM] [Warning] bagging_fraction is set=0.8443456049471257, subsample=1.0 will be ignored. Current value: bagging_fraction=0.8443456049471257\n",
      "[LightGBM] [Warning] feature_fraction is set=0.2439888911439529, colsample_bytree=1.0 will be ignored. Current value: feature_fraction=0.2439888911439529\n",
      "[LightGBM] [Warning] lambda_l2 is set=1.290608460937753, reg_lambda=0.0 will be ignored. Current value: lambda_l2=1.290608460937753\n"
     ]
    },
    {
     "name": "stderr",
     "output_type": "stream",
     "text": [
      " 93%|█████████▎| 93/100 [12:40<00:54,  7.73s/it]"
     ]
    },
    {
     "name": "stdout",
     "output_type": "stream",
     "text": [
      "[LightGBM] [Warning] lambda_l1 is set=0.1713152100541493, reg_alpha=0.0 will be ignored. Current value: lambda_l1=0.1713152100541493\n",
      "[LightGBM] [Warning] bagging_fraction is set=0.8443456049471257, subsample=1.0 will be ignored. Current value: bagging_fraction=0.8443456049471257\n",
      "[LightGBM] [Warning] feature_fraction is set=0.2439888911439529, colsample_bytree=1.0 will be ignored. Current value: feature_fraction=0.2439888911439529\n",
      "[LightGBM] [Warning] lambda_l2 is set=1.290608460937753, reg_lambda=0.0 will be ignored. Current value: lambda_l2=1.290608460937753\n"
     ]
    },
    {
     "name": "stderr",
     "output_type": "stream",
     "text": [
      " 94%|█████████▍| 94/100 [12:47<00:45,  7.66s/it]"
     ]
    },
    {
     "name": "stdout",
     "output_type": "stream",
     "text": [
      "[LightGBM] [Warning] lambda_l1 is set=0.1713152100541493, reg_alpha=0.0 will be ignored. Current value: lambda_l1=0.1713152100541493\n",
      "[LightGBM] [Warning] bagging_fraction is set=0.8443456049471257, subsample=1.0 will be ignored. Current value: bagging_fraction=0.8443456049471257\n",
      "[LightGBM] [Warning] feature_fraction is set=0.2439888911439529, colsample_bytree=1.0 will be ignored. Current value: feature_fraction=0.2439888911439529\n",
      "[LightGBM] [Warning] lambda_l2 is set=1.290608460937753, reg_lambda=0.0 will be ignored. Current value: lambda_l2=1.290608460937753\n"
     ]
    },
    {
     "name": "stderr",
     "output_type": "stream",
     "text": [
      " 95%|█████████▌| 95/100 [12:55<00:37,  7.58s/it]"
     ]
    },
    {
     "name": "stdout",
     "output_type": "stream",
     "text": [
      "[LightGBM] [Warning] lambda_l1 is set=0.1713152100541493, reg_alpha=0.0 will be ignored. Current value: lambda_l1=0.1713152100541493\n",
      "[LightGBM] [Warning] bagging_fraction is set=0.8443456049471257, subsample=1.0 will be ignored. Current value: bagging_fraction=0.8443456049471257\n",
      "[LightGBM] [Warning] feature_fraction is set=0.2439888911439529, colsample_bytree=1.0 will be ignored. Current value: feature_fraction=0.2439888911439529\n",
      "[LightGBM] [Warning] lambda_l2 is set=1.290608460937753, reg_lambda=0.0 will be ignored. Current value: lambda_l2=1.290608460937753\n"
     ]
    },
    {
     "name": "stderr",
     "output_type": "stream",
     "text": [
      " 96%|█████████▌| 96/100 [13:02<00:30,  7.55s/it]"
     ]
    },
    {
     "name": "stdout",
     "output_type": "stream",
     "text": [
      "[LightGBM] [Warning] lambda_l1 is set=0.1713152100541493, reg_alpha=0.0 will be ignored. Current value: lambda_l1=0.1713152100541493\n",
      "[LightGBM] [Warning] bagging_fraction is set=0.8443456049471257, subsample=1.0 will be ignored. Current value: bagging_fraction=0.8443456049471257\n",
      "[LightGBM] [Warning] feature_fraction is set=0.2439888911439529, colsample_bytree=1.0 will be ignored. Current value: feature_fraction=0.2439888911439529\n",
      "[LightGBM] [Warning] lambda_l2 is set=1.290608460937753, reg_lambda=0.0 will be ignored. Current value: lambda_l2=1.290608460937753\n"
     ]
    },
    {
     "name": "stderr",
     "output_type": "stream",
     "text": [
      " 97%|█████████▋| 97/100 [13:10<00:22,  7.54s/it]"
     ]
    },
    {
     "name": "stdout",
     "output_type": "stream",
     "text": [
      "[LightGBM] [Warning] lambda_l1 is set=0.1713152100541493, reg_alpha=0.0 will be ignored. Current value: lambda_l1=0.1713152100541493\n",
      "[LightGBM] [Warning] bagging_fraction is set=0.8443456049471257, subsample=1.0 will be ignored. Current value: bagging_fraction=0.8443456049471257\n",
      "[LightGBM] [Warning] feature_fraction is set=0.2439888911439529, colsample_bytree=1.0 will be ignored. Current value: feature_fraction=0.2439888911439529\n",
      "[LightGBM] [Warning] lambda_l2 is set=1.290608460937753, reg_lambda=0.0 will be ignored. Current value: lambda_l2=1.290608460937753\n"
     ]
    },
    {
     "name": "stderr",
     "output_type": "stream",
     "text": [
      " 98%|█████████▊| 98/100 [13:17<00:14,  7.49s/it]"
     ]
    },
    {
     "name": "stdout",
     "output_type": "stream",
     "text": [
      "[LightGBM] [Warning] lambda_l1 is set=0.1713152100541493, reg_alpha=0.0 will be ignored. Current value: lambda_l1=0.1713152100541493\n",
      "[LightGBM] [Warning] bagging_fraction is set=0.8443456049471257, subsample=1.0 will be ignored. Current value: bagging_fraction=0.8443456049471257\n",
      "[LightGBM] [Warning] feature_fraction is set=0.2439888911439529, colsample_bytree=1.0 will be ignored. Current value: feature_fraction=0.2439888911439529\n",
      "[LightGBM] [Warning] lambda_l2 is set=1.290608460937753, reg_lambda=0.0 will be ignored. Current value: lambda_l2=1.290608460937753\n"
     ]
    },
    {
     "name": "stderr",
     "output_type": "stream",
     "text": [
      " 99%|█████████▉| 99/100 [13:25<00:07,  7.50s/it]"
     ]
    },
    {
     "name": "stdout",
     "output_type": "stream",
     "text": [
      "[LightGBM] [Warning] lambda_l1 is set=0.1713152100541493, reg_alpha=0.0 will be ignored. Current value: lambda_l1=0.1713152100541493\n",
      "[LightGBM] [Warning] bagging_fraction is set=0.8443456049471257, subsample=1.0 will be ignored. Current value: bagging_fraction=0.8443456049471257\n",
      "[LightGBM] [Warning] feature_fraction is set=0.2439888911439529, colsample_bytree=1.0 will be ignored. Current value: feature_fraction=0.2439888911439529\n",
      "[LightGBM] [Warning] lambda_l2 is set=1.290608460937753, reg_lambda=0.0 will be ignored. Current value: lambda_l2=1.290608460937753\n"
     ]
    },
    {
     "name": "stderr",
     "output_type": "stream",
     "text": [
      "100%|██████████| 100/100 [13:32<00:00,  8.13s/it]\n",
      "100%|██████████| 100/100 [21:18<00:00, 12.79s/it]\n"
     ]
    }
   ],
   "source": [
    "to_select = ['X1_WinRatio14d',\n",
    "             'X1_PointsMean',\n",
    "             'X1_PointsMedian',\n",
    "             'X1_PointsDiffMean',\n",
    "             'X1_FgaMean',\n",
    "             'X1_FgaMedian',\n",
    "             'X1_FgaMin',\n",
    "             'X1_FgaMax',\n",
    "             'X1_AstMean',\n",
    "             'X1_BlkMean',\n",
    "             'X1_OppFgaMean',\n",
    "             'X1_OppFgaMin',\n",
    "             'X1_EfgpMean',\n",
    "             'X1_PossessionsMean',\n",
    "             'X1_PpmMean',\n",
    "             'X1_FtrMean',\n",
    "             'X1_TopMean',\n",
    "             'X1_DrebpMean',\n",
    "             'X2_WinRatio14d',\n",
    "             'X2_PointsMean',\n",
    "             'X2_PointsMedian',\n",
    "             'X2_PointsDiffMean',\n",
    "             'X2_FgaMean',\n",
    "             'X2_FgaMedian',\n",
    "             'X2_FgaMin',\n",
    "             'X2_FgaMax',\n",
    "             'X2_AstMean',\n",
    "             'X2_BlkMean',\n",
    "             'X2_OppFgaMean',\n",
    "             'X2_OppFgaMin',\n",
    "             'X2_EfgpMean',\n",
    "             'X2_PossessionsMean',\n",
    "             'X2_PpmMean',\n",
    "             'X2_FtrMean',\n",
    "             'X2_TopMean',\n",
    "             'X2_DrebpMean',\n",
    "             'Seed1',\n",
    "             'Seed2',\n",
    "             'SeedDiff',\n",
    "             'quality_march_T1',\n",
    "             'quality_march_T2']\n",
    "\n",
    "X = man_train[to_select]\n",
    "Y = man_train['ResultDiff']\n",
    "\n",
    "man_test_tour =  man_test[~(man_test['Seed1'].isnull() | man_test['Seed2'].isnull())].reset_index(drop = True)\n",
    "man_test_IDS = man_test_tour['ID'] \n",
    "man_test_tour = man_test_tour[to_select]\n",
    "\n",
    "#############\n",
    "## XGBoost ##\n",
    "#############\n",
    "\n",
    "xgb_params = pd.read_csv('man_XGB_Phase_1_42_Optuna_Hyperparameters.csv')\n",
    "xgb_preds = list()\n",
    "\n",
    "for i in tqdm(range(100)):\n",
    "\n",
    "    xgb_md = XGBRegressor(tree_method = 'hist', \n",
    "                          max_depth = xgb_params['max_depth'][0],\n",
    "                          learning_rate = xgb_params['learning_rate'][0],\n",
    "                          n_estimators = xgb_params['n_estimators'][0],\n",
    "                          gamma = xgb_params['gamma'][0],\n",
    "                          min_child_weight = xgb_params['min_child_weight'][0],\n",
    "                          colsample_bytree = xgb_params['colsample_bytree'][0],\n",
    "                          subsample = xgb_params['subsample'][0],\n",
    "                          random_state = 1).fit(X, Y)\n",
    "\n",
    "    xgb_pred = xgb_md.predict(man_test_tour)\n",
    "    xgb_preds.append(xgb_pred)\n",
    "    \n",
    "##############\n",
    "## LightGBM ##\n",
    "##############\n",
    "\n",
    "lgb_params = pd.read_csv('man_LightGBM_Phase_1_42_Optuna_Hyperparameters.csv')\n",
    "lgb_preds = list()\n",
    "\n",
    "for i in tqdm(range(100)):\n",
    "\n",
    "    lgb_md = LGBMRegressor(boosting_type = 'gbdt', \n",
    "                           n_estimators = lgb_params['n_estimators'][0],\n",
    "                           learning_rate = lgb_params['learning_rate'][0],\n",
    "                           max_depth = lgb_params['max_depth'][0],\n",
    "                           lambda_l1 = lgb_params['lambda_l1'][0],\n",
    "                           lambda_l2 = lgb_params['lambda_l2'][0],\n",
    "                           num_leaves = lgb_params['num_leaves'][0],\n",
    "                           bagging_fraction = lgb_params['bagging_fraction'][0],\n",
    "                           feature_fraction = lgb_params['feature_fraction'][0], \n",
    "                           random_state = i).fit(X, Y)\n",
    "\n",
    "    lgb_pred = lgb_md.predict(man_test_tour)\n",
    "    lgb_preds.append(lgb_pred)\n",
    "    \n",
    "##################\n",
    "## HistGradient ##\n",
    "##################\n",
    "\n",
    "hist_params = pd.read_csv('man_Hist_Phase_1_42_Optuna_Hyperparameters.csv')\n",
    "hist_preds = list()\n",
    "\n",
    "for i in tqdm(range(100)):\n",
    "\n",
    "    hist_md = HistGradientBoostingRegressor(l2_regularization = hist_params['l2_regularization'][0],\n",
    "                                            early_stopping = False,\n",
    "                                            learning_rate = hist_params['learning_rate'][0],\n",
    "                                            max_iter = hist_params['max_iter'][0],\n",
    "                                            max_depth = hist_params['max_depth'][0],\n",
    "                                            max_bins = hist_params['max_bins'][0],\n",
    "                                            min_samples_leaf = hist_params['min_samples_leaf'][0],\n",
    "                                            max_leaf_nodes = hist_params['max_leaf_nodes'][0],\n",
    "                                            random_state = i).fit(X, Y)\n",
    "\n",
    "    hist_pred = hist_md.predict(man_test_tour)\n",
    "    hist_preds.append(hist_pred)\n",
    "\n",
    "##############\n",
    "## Ensemble ##\n",
    "##############\n",
    "\n",
    "xgb_pred = pd.DataFrame(xgb_preds).apply(np.mean, axis = 0)\n",
    "lgb_pred = pd.DataFrame(lgb_preds).apply(np.mean, axis = 0)\n",
    "hist_pred = pd.DataFrame(hist_preds).apply(np.mean, axis = 0)\n",
    "\n",
    "ens_pred = (xgb_pred + lgb_pred + hist_pred) / 3\n",
    "man_test_tour['ResultDiff'] = np.round_(ens_pred, decimals = 0).astype(int)\n",
    "man_test_tour['ID'] = man_test_IDS\n",
    "\n",
    "########################\n",
    "## Appending 538 data ##\n",
    "########################\n",
    "\n",
    "data_538 = ['ID',\n",
    "            'X1_team_rating',\n",
    "            'X1_rd1_win',\n",
    "            'X1_rd2_win',\n",
    "            'X1_rd3_win',\n",
    "            'X1_rd4_win',\n",
    "            'X1_rd5_win',\n",
    "            'X1_rd6_win',\n",
    "            'X1_rd7_win',\n",
    "            'X2_team_rating',\n",
    "            'X2_rd1_win',\n",
    "            'X2_rd2_win',\n",
    "            'X2_rd3_win',\n",
    "            'X2_rd4_win',\n",
    "            'X2_rd5_win',\n",
    "            'X2_rd6_win',\n",
    "            'X2_rd7_win']\n",
    "\n",
    "man_test_538 = man_test[data_538]\n",
    "man_test_tour = pd.merge(man_test_tour, man_test_538, on = 'ID', how = 'left')"
   ]
  },
  {
   "cell_type": "markdown",
   "id": "7f3d4793",
   "metadata": {},
   "source": [
    "## Phase 2: Man"
   ]
  },
  {
   "cell_type": "code",
   "execution_count": 4,
   "id": "c94303f0",
   "metadata": {},
   "outputs": [
    {
     "name": "stderr",
     "output_type": "stream",
     "text": [
      "100%|██████████| 100/100 [24:20<00:00, 14.60s/it]\n",
      "  0%|          | 0/100 [00:00<?, ?it/s]"
     ]
    },
    {
     "name": "stdout",
     "output_type": "stream",
     "text": [
      "[LightGBM] [Warning] lambda_l1 is set=1.6568558853289863, reg_alpha=0.0 will be ignored. Current value: lambda_l1=1.6568558853289863\n",
      "[LightGBM] [Warning] bagging_fraction is set=0.8504282163263281, subsample=1.0 will be ignored. Current value: bagging_fraction=0.8504282163263281\n",
      "[LightGBM] [Warning] feature_fraction is set=0.705433568927063, colsample_bytree=1.0 will be ignored. Current value: feature_fraction=0.705433568927063\n",
      "[LightGBM] [Warning] lambda_l2 is set=5.241653664300623, reg_lambda=0.0 will be ignored. Current value: lambda_l2=5.241653664300623\n"
     ]
    },
    {
     "name": "stderr",
     "output_type": "stream",
     "text": [
      "  1%|          | 1/100 [00:02<04:38,  2.81s/it]"
     ]
    },
    {
     "name": "stdout",
     "output_type": "stream",
     "text": [
      "[LightGBM] [Warning] lambda_l1 is set=1.6568558853289863, reg_alpha=0.0 will be ignored. Current value: lambda_l1=1.6568558853289863\n",
      "[LightGBM] [Warning] bagging_fraction is set=0.8504282163263281, subsample=1.0 will be ignored. Current value: bagging_fraction=0.8504282163263281\n",
      "[LightGBM] [Warning] feature_fraction is set=0.705433568927063, colsample_bytree=1.0 will be ignored. Current value: feature_fraction=0.705433568927063\n",
      "[LightGBM] [Warning] lambda_l2 is set=5.241653664300623, reg_lambda=0.0 will be ignored. Current value: lambda_l2=5.241653664300623\n"
     ]
    },
    {
     "name": "stderr",
     "output_type": "stream",
     "text": [
      "  2%|▏         | 2/100 [00:11<10:26,  6.39s/it]"
     ]
    },
    {
     "name": "stdout",
     "output_type": "stream",
     "text": [
      "[LightGBM] [Warning] lambda_l1 is set=1.6568558853289863, reg_alpha=0.0 will be ignored. Current value: lambda_l1=1.6568558853289863\n",
      "[LightGBM] [Warning] bagging_fraction is set=0.8504282163263281, subsample=1.0 will be ignored. Current value: bagging_fraction=0.8504282163263281\n",
      "[LightGBM] [Warning] feature_fraction is set=0.705433568927063, colsample_bytree=1.0 will be ignored. Current value: feature_fraction=0.705433568927063\n",
      "[LightGBM] [Warning] lambda_l2 is set=5.241653664300623, reg_lambda=0.0 will be ignored. Current value: lambda_l2=5.241653664300623\n"
     ]
    },
    {
     "name": "stderr",
     "output_type": "stream",
     "text": [
      "  3%|▎         | 3/100 [00:20<11:51,  7.34s/it]"
     ]
    },
    {
     "name": "stdout",
     "output_type": "stream",
     "text": [
      "[LightGBM] [Warning] lambda_l1 is set=1.6568558853289863, reg_alpha=0.0 will be ignored. Current value: lambda_l1=1.6568558853289863\n",
      "[LightGBM] [Warning] bagging_fraction is set=0.8504282163263281, subsample=1.0 will be ignored. Current value: bagging_fraction=0.8504282163263281\n",
      "[LightGBM] [Warning] feature_fraction is set=0.705433568927063, colsample_bytree=1.0 will be ignored. Current value: feature_fraction=0.705433568927063\n",
      "[LightGBM] [Warning] lambda_l2 is set=5.241653664300623, reg_lambda=0.0 will be ignored. Current value: lambda_l2=5.241653664300623\n"
     ]
    },
    {
     "name": "stderr",
     "output_type": "stream",
     "text": [
      "  4%|▍         | 4/100 [00:23<09:16,  5.80s/it]"
     ]
    },
    {
     "name": "stdout",
     "output_type": "stream",
     "text": [
      "[LightGBM] [Warning] lambda_l1 is set=1.6568558853289863, reg_alpha=0.0 will be ignored. Current value: lambda_l1=1.6568558853289863\n",
      "[LightGBM] [Warning] bagging_fraction is set=0.8504282163263281, subsample=1.0 will be ignored. Current value: bagging_fraction=0.8504282163263281\n",
      "[LightGBM] [Warning] feature_fraction is set=0.705433568927063, colsample_bytree=1.0 will be ignored. Current value: feature_fraction=0.705433568927063\n",
      "[LightGBM] [Warning] lambda_l2 is set=5.241653664300623, reg_lambda=0.0 will be ignored. Current value: lambda_l2=5.241653664300623\n"
     ]
    },
    {
     "name": "stderr",
     "output_type": "stream",
     "text": [
      "  5%|▌         | 5/100 [00:26<07:28,  4.72s/it]"
     ]
    },
    {
     "name": "stdout",
     "output_type": "stream",
     "text": [
      "[LightGBM] [Warning] lambda_l1 is set=1.6568558853289863, reg_alpha=0.0 will be ignored. Current value: lambda_l1=1.6568558853289863\n",
      "[LightGBM] [Warning] bagging_fraction is set=0.8504282163263281, subsample=1.0 will be ignored. Current value: bagging_fraction=0.8504282163263281\n",
      "[LightGBM] [Warning] feature_fraction is set=0.705433568927063, colsample_bytree=1.0 will be ignored. Current value: feature_fraction=0.705433568927063\n",
      "[LightGBM] [Warning] lambda_l2 is set=5.241653664300623, reg_lambda=0.0 will be ignored. Current value: lambda_l2=5.241653664300623\n"
     ]
    },
    {
     "name": "stderr",
     "output_type": "stream",
     "text": [
      "  6%|▌         | 6/100 [00:29<06:19,  4.04s/it]"
     ]
    },
    {
     "name": "stdout",
     "output_type": "stream",
     "text": [
      "[LightGBM] [Warning] lambda_l1 is set=1.6568558853289863, reg_alpha=0.0 will be ignored. Current value: lambda_l1=1.6568558853289863\n",
      "[LightGBM] [Warning] bagging_fraction is set=0.8504282163263281, subsample=1.0 will be ignored. Current value: bagging_fraction=0.8504282163263281\n",
      "[LightGBM] [Warning] feature_fraction is set=0.705433568927063, colsample_bytree=1.0 will be ignored. Current value: feature_fraction=0.705433568927063\n",
      "[LightGBM] [Warning] lambda_l2 is set=5.241653664300623, reg_lambda=0.0 will be ignored. Current value: lambda_l2=5.241653664300623\n"
     ]
    },
    {
     "name": "stderr",
     "output_type": "stream",
     "text": [
      "  7%|▋         | 7/100 [00:31<05:38,  3.64s/it]"
     ]
    },
    {
     "name": "stdout",
     "output_type": "stream",
     "text": [
      "[LightGBM] [Warning] lambda_l1 is set=1.6568558853289863, reg_alpha=0.0 will be ignored. Current value: lambda_l1=1.6568558853289863\n",
      "[LightGBM] [Warning] bagging_fraction is set=0.8504282163263281, subsample=1.0 will be ignored. Current value: bagging_fraction=0.8504282163263281\n",
      "[LightGBM] [Warning] feature_fraction is set=0.705433568927063, colsample_bytree=1.0 will be ignored. Current value: feature_fraction=0.705433568927063\n",
      "[LightGBM] [Warning] lambda_l2 is set=5.241653664300623, reg_lambda=0.0 will be ignored. Current value: lambda_l2=5.241653664300623\n"
     ]
    },
    {
     "name": "stderr",
     "output_type": "stream",
     "text": [
      "  8%|▊         | 8/100 [00:34<05:14,  3.42s/it]"
     ]
    },
    {
     "name": "stdout",
     "output_type": "stream",
     "text": [
      "[LightGBM] [Warning] lambda_l1 is set=1.6568558853289863, reg_alpha=0.0 will be ignored. Current value: lambda_l1=1.6568558853289863\n",
      "[LightGBM] [Warning] bagging_fraction is set=0.8504282163263281, subsample=1.0 will be ignored. Current value: bagging_fraction=0.8504282163263281\n",
      "[LightGBM] [Warning] feature_fraction is set=0.705433568927063, colsample_bytree=1.0 will be ignored. Current value: feature_fraction=0.705433568927063\n",
      "[LightGBM] [Warning] lambda_l2 is set=5.241653664300623, reg_lambda=0.0 will be ignored. Current value: lambda_l2=5.241653664300623\n"
     ]
    },
    {
     "name": "stderr",
     "output_type": "stream",
     "text": [
      "  9%|▉         | 9/100 [00:37<04:57,  3.27s/it]"
     ]
    },
    {
     "name": "stdout",
     "output_type": "stream",
     "text": [
      "[LightGBM] [Warning] lambda_l1 is set=1.6568558853289863, reg_alpha=0.0 will be ignored. Current value: lambda_l1=1.6568558853289863\n",
      "[LightGBM] [Warning] bagging_fraction is set=0.8504282163263281, subsample=1.0 will be ignored. Current value: bagging_fraction=0.8504282163263281\n",
      "[LightGBM] [Warning] feature_fraction is set=0.705433568927063, colsample_bytree=1.0 will be ignored. Current value: feature_fraction=0.705433568927063\n",
      "[LightGBM] [Warning] lambda_l2 is set=5.241653664300623, reg_lambda=0.0 will be ignored. Current value: lambda_l2=5.241653664300623\n"
     ]
    },
    {
     "name": "stderr",
     "output_type": "stream",
     "text": [
      " 10%|█         | 10/100 [00:40<04:45,  3.17s/it]"
     ]
    },
    {
     "name": "stdout",
     "output_type": "stream",
     "text": [
      "[LightGBM] [Warning] lambda_l1 is set=1.6568558853289863, reg_alpha=0.0 will be ignored. Current value: lambda_l1=1.6568558853289863\n",
      "[LightGBM] [Warning] bagging_fraction is set=0.8504282163263281, subsample=1.0 will be ignored. Current value: bagging_fraction=0.8504282163263281\n",
      "[LightGBM] [Warning] feature_fraction is set=0.705433568927063, colsample_bytree=1.0 will be ignored. Current value: feature_fraction=0.705433568927063\n",
      "[LightGBM] [Warning] lambda_l2 is set=5.241653664300623, reg_lambda=0.0 will be ignored. Current value: lambda_l2=5.241653664300623\n"
     ]
    },
    {
     "name": "stderr",
     "output_type": "stream",
     "text": [
      " 11%|█         | 11/100 [00:43<04:37,  3.11s/it]"
     ]
    },
    {
     "name": "stdout",
     "output_type": "stream",
     "text": [
      "[LightGBM] [Warning] lambda_l1 is set=1.6568558853289863, reg_alpha=0.0 will be ignored. Current value: lambda_l1=1.6568558853289863\n",
      "[LightGBM] [Warning] bagging_fraction is set=0.8504282163263281, subsample=1.0 will be ignored. Current value: bagging_fraction=0.8504282163263281\n",
      "[LightGBM] [Warning] feature_fraction is set=0.705433568927063, colsample_bytree=1.0 will be ignored. Current value: feature_fraction=0.705433568927063\n",
      "[LightGBM] [Warning] lambda_l2 is set=5.241653664300623, reg_lambda=0.0 will be ignored. Current value: lambda_l2=5.241653664300623\n"
     ]
    },
    {
     "name": "stderr",
     "output_type": "stream",
     "text": [
      " 12%|█▏        | 12/100 [00:46<04:31,  3.09s/it]"
     ]
    },
    {
     "name": "stdout",
     "output_type": "stream",
     "text": [
      "[LightGBM] [Warning] lambda_l1 is set=1.6568558853289863, reg_alpha=0.0 will be ignored. Current value: lambda_l1=1.6568558853289863\n",
      "[LightGBM] [Warning] bagging_fraction is set=0.8504282163263281, subsample=1.0 will be ignored. Current value: bagging_fraction=0.8504282163263281\n",
      "[LightGBM] [Warning] feature_fraction is set=0.705433568927063, colsample_bytree=1.0 will be ignored. Current value: feature_fraction=0.705433568927063\n",
      "[LightGBM] [Warning] lambda_l2 is set=5.241653664300623, reg_lambda=0.0 will be ignored. Current value: lambda_l2=5.241653664300623\n"
     ]
    },
    {
     "name": "stderr",
     "output_type": "stream",
     "text": [
      " 13%|█▎        | 13/100 [00:49<04:21,  3.00s/it]"
     ]
    },
    {
     "name": "stdout",
     "output_type": "stream",
     "text": [
      "[LightGBM] [Warning] lambda_l1 is set=1.6568558853289863, reg_alpha=0.0 will be ignored. Current value: lambda_l1=1.6568558853289863\n",
      "[LightGBM] [Warning] bagging_fraction is set=0.8504282163263281, subsample=1.0 will be ignored. Current value: bagging_fraction=0.8504282163263281\n",
      "[LightGBM] [Warning] feature_fraction is set=0.705433568927063, colsample_bytree=1.0 will be ignored. Current value: feature_fraction=0.705433568927063\n",
      "[LightGBM] [Warning] lambda_l2 is set=5.241653664300623, reg_lambda=0.0 will be ignored. Current value: lambda_l2=5.241653664300623\n"
     ]
    },
    {
     "name": "stderr",
     "output_type": "stream",
     "text": [
      " 14%|█▍        | 14/100 [00:52<04:11,  2.92s/it]"
     ]
    },
    {
     "name": "stdout",
     "output_type": "stream",
     "text": [
      "[LightGBM] [Warning] lambda_l1 is set=1.6568558853289863, reg_alpha=0.0 will be ignored. Current value: lambda_l1=1.6568558853289863\n",
      "[LightGBM] [Warning] bagging_fraction is set=0.8504282163263281, subsample=1.0 will be ignored. Current value: bagging_fraction=0.8504282163263281\n",
      "[LightGBM] [Warning] feature_fraction is set=0.705433568927063, colsample_bytree=1.0 will be ignored. Current value: feature_fraction=0.705433568927063\n",
      "[LightGBM] [Warning] lambda_l2 is set=5.241653664300623, reg_lambda=0.0 will be ignored. Current value: lambda_l2=5.241653664300623\n"
     ]
    },
    {
     "name": "stderr",
     "output_type": "stream",
     "text": [
      " 15%|█▌        | 15/100 [00:55<04:02,  2.86s/it]"
     ]
    },
    {
     "name": "stdout",
     "output_type": "stream",
     "text": [
      "[LightGBM] [Warning] lambda_l1 is set=1.6568558853289863, reg_alpha=0.0 will be ignored. Current value: lambda_l1=1.6568558853289863\n",
      "[LightGBM] [Warning] bagging_fraction is set=0.8504282163263281, subsample=1.0 will be ignored. Current value: bagging_fraction=0.8504282163263281\n",
      "[LightGBM] [Warning] feature_fraction is set=0.705433568927063, colsample_bytree=1.0 will be ignored. Current value: feature_fraction=0.705433568927063\n",
      "[LightGBM] [Warning] lambda_l2 is set=5.241653664300623, reg_lambda=0.0 will be ignored. Current value: lambda_l2=5.241653664300623\n"
     ]
    },
    {
     "name": "stderr",
     "output_type": "stream",
     "text": [
      " 16%|█▌        | 16/100 [00:57<03:56,  2.82s/it]"
     ]
    },
    {
     "name": "stdout",
     "output_type": "stream",
     "text": [
      "[LightGBM] [Warning] lambda_l1 is set=1.6568558853289863, reg_alpha=0.0 will be ignored. Current value: lambda_l1=1.6568558853289863\n",
      "[LightGBM] [Warning] bagging_fraction is set=0.8504282163263281, subsample=1.0 will be ignored. Current value: bagging_fraction=0.8504282163263281\n",
      "[LightGBM] [Warning] feature_fraction is set=0.705433568927063, colsample_bytree=1.0 will be ignored. Current value: feature_fraction=0.705433568927063\n",
      "[LightGBM] [Warning] lambda_l2 is set=5.241653664300623, reg_lambda=0.0 will be ignored. Current value: lambda_l2=5.241653664300623\n"
     ]
    },
    {
     "name": "stderr",
     "output_type": "stream",
     "text": [
      " 17%|█▋        | 17/100 [01:00<03:53,  2.81s/it]"
     ]
    },
    {
     "name": "stdout",
     "output_type": "stream",
     "text": [
      "[LightGBM] [Warning] lambda_l1 is set=1.6568558853289863, reg_alpha=0.0 will be ignored. Current value: lambda_l1=1.6568558853289863\n",
      "[LightGBM] [Warning] bagging_fraction is set=0.8504282163263281, subsample=1.0 will be ignored. Current value: bagging_fraction=0.8504282163263281\n",
      "[LightGBM] [Warning] feature_fraction is set=0.705433568927063, colsample_bytree=1.0 will be ignored. Current value: feature_fraction=0.705433568927063\n",
      "[LightGBM] [Warning] lambda_l2 is set=5.241653664300623, reg_lambda=0.0 will be ignored. Current value: lambda_l2=5.241653664300623\n"
     ]
    },
    {
     "name": "stderr",
     "output_type": "stream",
     "text": [
      " 18%|█▊        | 18/100 [01:03<03:50,  2.81s/it]"
     ]
    },
    {
     "name": "stdout",
     "output_type": "stream",
     "text": [
      "[LightGBM] [Warning] lambda_l1 is set=1.6568558853289863, reg_alpha=0.0 will be ignored. Current value: lambda_l1=1.6568558853289863\n",
      "[LightGBM] [Warning] bagging_fraction is set=0.8504282163263281, subsample=1.0 will be ignored. Current value: bagging_fraction=0.8504282163263281\n",
      "[LightGBM] [Warning] feature_fraction is set=0.705433568927063, colsample_bytree=1.0 will be ignored. Current value: feature_fraction=0.705433568927063\n",
      "[LightGBM] [Warning] lambda_l2 is set=5.241653664300623, reg_lambda=0.0 will be ignored. Current value: lambda_l2=5.241653664300623\n"
     ]
    },
    {
     "name": "stderr",
     "output_type": "stream",
     "text": [
      " 19%|█▉        | 19/100 [01:06<03:47,  2.80s/it]"
     ]
    },
    {
     "name": "stdout",
     "output_type": "stream",
     "text": [
      "[LightGBM] [Warning] lambda_l1 is set=1.6568558853289863, reg_alpha=0.0 will be ignored. Current value: lambda_l1=1.6568558853289863\n",
      "[LightGBM] [Warning] bagging_fraction is set=0.8504282163263281, subsample=1.0 will be ignored. Current value: bagging_fraction=0.8504282163263281\n",
      "[LightGBM] [Warning] feature_fraction is set=0.705433568927063, colsample_bytree=1.0 will be ignored. Current value: feature_fraction=0.705433568927063\n",
      "[LightGBM] [Warning] lambda_l2 is set=5.241653664300623, reg_lambda=0.0 will be ignored. Current value: lambda_l2=5.241653664300623\n"
     ]
    },
    {
     "name": "stderr",
     "output_type": "stream",
     "text": [
      " 20%|██        | 20/100 [01:09<03:48,  2.85s/it]"
     ]
    },
    {
     "name": "stdout",
     "output_type": "stream",
     "text": [
      "[LightGBM] [Warning] lambda_l1 is set=1.6568558853289863, reg_alpha=0.0 will be ignored. Current value: lambda_l1=1.6568558853289863\n",
      "[LightGBM] [Warning] bagging_fraction is set=0.8504282163263281, subsample=1.0 will be ignored. Current value: bagging_fraction=0.8504282163263281\n",
      "[LightGBM] [Warning] feature_fraction is set=0.705433568927063, colsample_bytree=1.0 will be ignored. Current value: feature_fraction=0.705433568927063\n",
      "[LightGBM] [Warning] lambda_l2 is set=5.241653664300623, reg_lambda=0.0 will be ignored. Current value: lambda_l2=5.241653664300623\n"
     ]
    },
    {
     "name": "stderr",
     "output_type": "stream",
     "text": [
      " 21%|██        | 21/100 [01:12<03:45,  2.86s/it]"
     ]
    },
    {
     "name": "stdout",
     "output_type": "stream",
     "text": [
      "[LightGBM] [Warning] lambda_l1 is set=1.6568558853289863, reg_alpha=0.0 will be ignored. Current value: lambda_l1=1.6568558853289863\n",
      "[LightGBM] [Warning] bagging_fraction is set=0.8504282163263281, subsample=1.0 will be ignored. Current value: bagging_fraction=0.8504282163263281\n",
      "[LightGBM] [Warning] feature_fraction is set=0.705433568927063, colsample_bytree=1.0 will be ignored. Current value: feature_fraction=0.705433568927063\n",
      "[LightGBM] [Warning] lambda_l2 is set=5.241653664300623, reg_lambda=0.0 will be ignored. Current value: lambda_l2=5.241653664300623\n"
     ]
    },
    {
     "name": "stderr",
     "output_type": "stream",
     "text": [
      " 22%|██▏       | 22/100 [01:14<03:39,  2.82s/it]"
     ]
    },
    {
     "name": "stdout",
     "output_type": "stream",
     "text": [
      "[LightGBM] [Warning] lambda_l1 is set=1.6568558853289863, reg_alpha=0.0 will be ignored. Current value: lambda_l1=1.6568558853289863\n",
      "[LightGBM] [Warning] bagging_fraction is set=0.8504282163263281, subsample=1.0 will be ignored. Current value: bagging_fraction=0.8504282163263281\n",
      "[LightGBM] [Warning] feature_fraction is set=0.705433568927063, colsample_bytree=1.0 will be ignored. Current value: feature_fraction=0.705433568927063\n",
      "[LightGBM] [Warning] lambda_l2 is set=5.241653664300623, reg_lambda=0.0 will be ignored. Current value: lambda_l2=5.241653664300623\n"
     ]
    },
    {
     "name": "stderr",
     "output_type": "stream",
     "text": [
      " 23%|██▎       | 23/100 [01:17<03:36,  2.81s/it]"
     ]
    },
    {
     "name": "stdout",
     "output_type": "stream",
     "text": [
      "[LightGBM] [Warning] lambda_l1 is set=1.6568558853289863, reg_alpha=0.0 will be ignored. Current value: lambda_l1=1.6568558853289863\n",
      "[LightGBM] [Warning] bagging_fraction is set=0.8504282163263281, subsample=1.0 will be ignored. Current value: bagging_fraction=0.8504282163263281\n",
      "[LightGBM] [Warning] feature_fraction is set=0.705433568927063, colsample_bytree=1.0 will be ignored. Current value: feature_fraction=0.705433568927063\n",
      "[LightGBM] [Warning] lambda_l2 is set=5.241653664300623, reg_lambda=0.0 will be ignored. Current value: lambda_l2=5.241653664300623\n"
     ]
    },
    {
     "name": "stderr",
     "output_type": "stream",
     "text": [
      " 24%|██▍       | 24/100 [01:20<03:33,  2.81s/it]"
     ]
    },
    {
     "name": "stdout",
     "output_type": "stream",
     "text": [
      "[LightGBM] [Warning] lambda_l1 is set=1.6568558853289863, reg_alpha=0.0 will be ignored. Current value: lambda_l1=1.6568558853289863\n",
      "[LightGBM] [Warning] bagging_fraction is set=0.8504282163263281, subsample=1.0 will be ignored. Current value: bagging_fraction=0.8504282163263281\n",
      "[LightGBM] [Warning] feature_fraction is set=0.705433568927063, colsample_bytree=1.0 will be ignored. Current value: feature_fraction=0.705433568927063\n",
      "[LightGBM] [Warning] lambda_l2 is set=5.241653664300623, reg_lambda=0.0 will be ignored. Current value: lambda_l2=5.241653664300623\n"
     ]
    },
    {
     "name": "stderr",
     "output_type": "stream",
     "text": [
      " 25%|██▌       | 25/100 [01:23<03:31,  2.83s/it]"
     ]
    },
    {
     "name": "stdout",
     "output_type": "stream",
     "text": [
      "[LightGBM] [Warning] lambda_l1 is set=1.6568558853289863, reg_alpha=0.0 will be ignored. Current value: lambda_l1=1.6568558853289863\n",
      "[LightGBM] [Warning] bagging_fraction is set=0.8504282163263281, subsample=1.0 will be ignored. Current value: bagging_fraction=0.8504282163263281\n",
      "[LightGBM] [Warning] feature_fraction is set=0.705433568927063, colsample_bytree=1.0 will be ignored. Current value: feature_fraction=0.705433568927063\n",
      "[LightGBM] [Warning] lambda_l2 is set=5.241653664300623, reg_lambda=0.0 will be ignored. Current value: lambda_l2=5.241653664300623\n"
     ]
    },
    {
     "name": "stderr",
     "output_type": "stream",
     "text": [
      " 26%|██▌       | 26/100 [01:25<03:27,  2.80s/it]"
     ]
    },
    {
     "name": "stdout",
     "output_type": "stream",
     "text": [
      "[LightGBM] [Warning] lambda_l1 is set=1.6568558853289863, reg_alpha=0.0 will be ignored. Current value: lambda_l1=1.6568558853289863\n",
      "[LightGBM] [Warning] bagging_fraction is set=0.8504282163263281, subsample=1.0 will be ignored. Current value: bagging_fraction=0.8504282163263281\n",
      "[LightGBM] [Warning] feature_fraction is set=0.705433568927063, colsample_bytree=1.0 will be ignored. Current value: feature_fraction=0.705433568927063\n",
      "[LightGBM] [Warning] lambda_l2 is set=5.241653664300623, reg_lambda=0.0 will be ignored. Current value: lambda_l2=5.241653664300623\n"
     ]
    },
    {
     "name": "stderr",
     "output_type": "stream",
     "text": [
      " 27%|██▋       | 27/100 [01:28<03:24,  2.80s/it]"
     ]
    },
    {
     "name": "stdout",
     "output_type": "stream",
     "text": [
      "[LightGBM] [Warning] lambda_l1 is set=1.6568558853289863, reg_alpha=0.0 will be ignored. Current value: lambda_l1=1.6568558853289863\n",
      "[LightGBM] [Warning] bagging_fraction is set=0.8504282163263281, subsample=1.0 will be ignored. Current value: bagging_fraction=0.8504282163263281\n",
      "[LightGBM] [Warning] feature_fraction is set=0.705433568927063, colsample_bytree=1.0 will be ignored. Current value: feature_fraction=0.705433568927063\n",
      "[LightGBM] [Warning] lambda_l2 is set=5.241653664300623, reg_lambda=0.0 will be ignored. Current value: lambda_l2=5.241653664300623\n"
     ]
    },
    {
     "name": "stderr",
     "output_type": "stream",
     "text": [
      " 28%|██▊       | 28/100 [01:31<03:21,  2.80s/it]"
     ]
    },
    {
     "name": "stdout",
     "output_type": "stream",
     "text": [
      "[LightGBM] [Warning] lambda_l1 is set=1.6568558853289863, reg_alpha=0.0 will be ignored. Current value: lambda_l1=1.6568558853289863\n",
      "[LightGBM] [Warning] bagging_fraction is set=0.8504282163263281, subsample=1.0 will be ignored. Current value: bagging_fraction=0.8504282163263281\n",
      "[LightGBM] [Warning] feature_fraction is set=0.705433568927063, colsample_bytree=1.0 will be ignored. Current value: feature_fraction=0.705433568927063\n",
      "[LightGBM] [Warning] lambda_l2 is set=5.241653664300623, reg_lambda=0.0 will be ignored. Current value: lambda_l2=5.241653664300623\n"
     ]
    },
    {
     "name": "stderr",
     "output_type": "stream",
     "text": [
      " 29%|██▉       | 29/100 [01:34<03:16,  2.77s/it]"
     ]
    },
    {
     "name": "stdout",
     "output_type": "stream",
     "text": [
      "[LightGBM] [Warning] lambda_l1 is set=1.6568558853289863, reg_alpha=0.0 will be ignored. Current value: lambda_l1=1.6568558853289863\n",
      "[LightGBM] [Warning] bagging_fraction is set=0.8504282163263281, subsample=1.0 will be ignored. Current value: bagging_fraction=0.8504282163263281\n",
      "[LightGBM] [Warning] feature_fraction is set=0.705433568927063, colsample_bytree=1.0 will be ignored. Current value: feature_fraction=0.705433568927063\n",
      "[LightGBM] [Warning] lambda_l2 is set=5.241653664300623, reg_lambda=0.0 will be ignored. Current value: lambda_l2=5.241653664300623\n"
     ]
    },
    {
     "name": "stderr",
     "output_type": "stream",
     "text": [
      " 30%|███       | 30/100 [01:37<03:14,  2.78s/it]"
     ]
    },
    {
     "name": "stdout",
     "output_type": "stream",
     "text": [
      "[LightGBM] [Warning] lambda_l1 is set=1.6568558853289863, reg_alpha=0.0 will be ignored. Current value: lambda_l1=1.6568558853289863\n",
      "[LightGBM] [Warning] bagging_fraction is set=0.8504282163263281, subsample=1.0 will be ignored. Current value: bagging_fraction=0.8504282163263281\n",
      "[LightGBM] [Warning] feature_fraction is set=0.705433568927063, colsample_bytree=1.0 will be ignored. Current value: feature_fraction=0.705433568927063\n",
      "[LightGBM] [Warning] lambda_l2 is set=5.241653664300623, reg_lambda=0.0 will be ignored. Current value: lambda_l2=5.241653664300623\n"
     ]
    },
    {
     "name": "stderr",
     "output_type": "stream",
     "text": [
      " 31%|███       | 31/100 [01:39<03:14,  2.81s/it]"
     ]
    },
    {
     "name": "stdout",
     "output_type": "stream",
     "text": [
      "[LightGBM] [Warning] lambda_l1 is set=1.6568558853289863, reg_alpha=0.0 will be ignored. Current value: lambda_l1=1.6568558853289863\n",
      "[LightGBM] [Warning] bagging_fraction is set=0.8504282163263281, subsample=1.0 will be ignored. Current value: bagging_fraction=0.8504282163263281\n",
      "[LightGBM] [Warning] feature_fraction is set=0.705433568927063, colsample_bytree=1.0 will be ignored. Current value: feature_fraction=0.705433568927063\n",
      "[LightGBM] [Warning] lambda_l2 is set=5.241653664300623, reg_lambda=0.0 will be ignored. Current value: lambda_l2=5.241653664300623\n"
     ]
    },
    {
     "name": "stderr",
     "output_type": "stream",
     "text": [
      " 32%|███▏      | 32/100 [01:42<03:10,  2.81s/it]"
     ]
    },
    {
     "name": "stdout",
     "output_type": "stream",
     "text": [
      "[LightGBM] [Warning] lambda_l1 is set=1.6568558853289863, reg_alpha=0.0 will be ignored. Current value: lambda_l1=1.6568558853289863\n",
      "[LightGBM] [Warning] bagging_fraction is set=0.8504282163263281, subsample=1.0 will be ignored. Current value: bagging_fraction=0.8504282163263281\n",
      "[LightGBM] [Warning] feature_fraction is set=0.705433568927063, colsample_bytree=1.0 will be ignored. Current value: feature_fraction=0.705433568927063\n",
      "[LightGBM] [Warning] lambda_l2 is set=5.241653664300623, reg_lambda=0.0 will be ignored. Current value: lambda_l2=5.241653664300623\n"
     ]
    },
    {
     "name": "stderr",
     "output_type": "stream",
     "text": [
      " 33%|███▎      | 33/100 [01:45<03:06,  2.78s/it]"
     ]
    },
    {
     "name": "stdout",
     "output_type": "stream",
     "text": [
      "[LightGBM] [Warning] lambda_l1 is set=1.6568558853289863, reg_alpha=0.0 will be ignored. Current value: lambda_l1=1.6568558853289863\n",
      "[LightGBM] [Warning] bagging_fraction is set=0.8504282163263281, subsample=1.0 will be ignored. Current value: bagging_fraction=0.8504282163263281\n",
      "[LightGBM] [Warning] feature_fraction is set=0.705433568927063, colsample_bytree=1.0 will be ignored. Current value: feature_fraction=0.705433568927063\n",
      "[LightGBM] [Warning] lambda_l2 is set=5.241653664300623, reg_lambda=0.0 will be ignored. Current value: lambda_l2=5.241653664300623\n"
     ]
    },
    {
     "name": "stderr",
     "output_type": "stream",
     "text": [
      " 34%|███▍      | 34/100 [01:48<03:05,  2.81s/it]"
     ]
    },
    {
     "name": "stdout",
     "output_type": "stream",
     "text": [
      "[LightGBM] [Warning] lambda_l1 is set=1.6568558853289863, reg_alpha=0.0 will be ignored. Current value: lambda_l1=1.6568558853289863\n",
      "[LightGBM] [Warning] bagging_fraction is set=0.8504282163263281, subsample=1.0 will be ignored. Current value: bagging_fraction=0.8504282163263281\n",
      "[LightGBM] [Warning] feature_fraction is set=0.705433568927063, colsample_bytree=1.0 will be ignored. Current value: feature_fraction=0.705433568927063\n",
      "[LightGBM] [Warning] lambda_l2 is set=5.241653664300623, reg_lambda=0.0 will be ignored. Current value: lambda_l2=5.241653664300623\n"
     ]
    },
    {
     "name": "stderr",
     "output_type": "stream",
     "text": [
      " 35%|███▌      | 35/100 [01:51<03:00,  2.78s/it]"
     ]
    },
    {
     "name": "stdout",
     "output_type": "stream",
     "text": [
      "[LightGBM] [Warning] lambda_l1 is set=1.6568558853289863, reg_alpha=0.0 will be ignored. Current value: lambda_l1=1.6568558853289863\n",
      "[LightGBM] [Warning] bagging_fraction is set=0.8504282163263281, subsample=1.0 will be ignored. Current value: bagging_fraction=0.8504282163263281\n",
      "[LightGBM] [Warning] feature_fraction is set=0.705433568927063, colsample_bytree=1.0 will be ignored. Current value: feature_fraction=0.705433568927063\n",
      "[LightGBM] [Warning] lambda_l2 is set=5.241653664300623, reg_lambda=0.0 will be ignored. Current value: lambda_l2=5.241653664300623\n"
     ]
    },
    {
     "name": "stderr",
     "output_type": "stream",
     "text": [
      " 36%|███▌      | 36/100 [01:54<03:02,  2.86s/it]"
     ]
    },
    {
     "name": "stdout",
     "output_type": "stream",
     "text": [
      "[LightGBM] [Warning] lambda_l1 is set=1.6568558853289863, reg_alpha=0.0 will be ignored. Current value: lambda_l1=1.6568558853289863\n",
      "[LightGBM] [Warning] bagging_fraction is set=0.8504282163263281, subsample=1.0 will be ignored. Current value: bagging_fraction=0.8504282163263281\n",
      "[LightGBM] [Warning] feature_fraction is set=0.705433568927063, colsample_bytree=1.0 will be ignored. Current value: feature_fraction=0.705433568927063\n",
      "[LightGBM] [Warning] lambda_l2 is set=5.241653664300623, reg_lambda=0.0 will be ignored. Current value: lambda_l2=5.241653664300623\n"
     ]
    },
    {
     "name": "stderr",
     "output_type": "stream",
     "text": [
      " 37%|███▋      | 37/100 [01:59<03:44,  3.56s/it]"
     ]
    },
    {
     "name": "stdout",
     "output_type": "stream",
     "text": [
      "[LightGBM] [Warning] lambda_l1 is set=1.6568558853289863, reg_alpha=0.0 will be ignored. Current value: lambda_l1=1.6568558853289863\n",
      "[LightGBM] [Warning] bagging_fraction is set=0.8504282163263281, subsample=1.0 will be ignored. Current value: bagging_fraction=0.8504282163263281\n",
      "[LightGBM] [Warning] feature_fraction is set=0.705433568927063, colsample_bytree=1.0 will be ignored. Current value: feature_fraction=0.705433568927063\n",
      "[LightGBM] [Warning] lambda_l2 is set=5.241653664300623, reg_lambda=0.0 will be ignored. Current value: lambda_l2=5.241653664300623\n"
     ]
    },
    {
     "name": "stderr",
     "output_type": "stream",
     "text": [
      " 38%|███▊      | 38/100 [02:02<03:28,  3.36s/it]"
     ]
    },
    {
     "name": "stdout",
     "output_type": "stream",
     "text": [
      "[LightGBM] [Warning] lambda_l1 is set=1.6568558853289863, reg_alpha=0.0 will be ignored. Current value: lambda_l1=1.6568558853289863\n",
      "[LightGBM] [Warning] bagging_fraction is set=0.8504282163263281, subsample=1.0 will be ignored. Current value: bagging_fraction=0.8504282163263281\n",
      "[LightGBM] [Warning] feature_fraction is set=0.705433568927063, colsample_bytree=1.0 will be ignored. Current value: feature_fraction=0.705433568927063\n",
      "[LightGBM] [Warning] lambda_l2 is set=5.241653664300623, reg_lambda=0.0 will be ignored. Current value: lambda_l2=5.241653664300623\n"
     ]
    },
    {
     "name": "stderr",
     "output_type": "stream",
     "text": [
      " 39%|███▉      | 39/100 [02:05<03:17,  3.24s/it]"
     ]
    },
    {
     "name": "stdout",
     "output_type": "stream",
     "text": [
      "[LightGBM] [Warning] lambda_l1 is set=1.6568558853289863, reg_alpha=0.0 will be ignored. Current value: lambda_l1=1.6568558853289863\n",
      "[LightGBM] [Warning] bagging_fraction is set=0.8504282163263281, subsample=1.0 will be ignored. Current value: bagging_fraction=0.8504282163263281\n",
      "[LightGBM] [Warning] feature_fraction is set=0.705433568927063, colsample_bytree=1.0 will be ignored. Current value: feature_fraction=0.705433568927063\n",
      "[LightGBM] [Warning] lambda_l2 is set=5.241653664300623, reg_lambda=0.0 will be ignored. Current value: lambda_l2=5.241653664300623\n"
     ]
    },
    {
     "name": "stderr",
     "output_type": "stream",
     "text": [
      " 40%|████      | 40/100 [02:08<03:09,  3.15s/it]"
     ]
    },
    {
     "name": "stdout",
     "output_type": "stream",
     "text": [
      "[LightGBM] [Warning] lambda_l1 is set=1.6568558853289863, reg_alpha=0.0 will be ignored. Current value: lambda_l1=1.6568558853289863\n",
      "[LightGBM] [Warning] bagging_fraction is set=0.8504282163263281, subsample=1.0 will be ignored. Current value: bagging_fraction=0.8504282163263281\n",
      "[LightGBM] [Warning] feature_fraction is set=0.705433568927063, colsample_bytree=1.0 will be ignored. Current value: feature_fraction=0.705433568927063\n",
      "[LightGBM] [Warning] lambda_l2 is set=5.241653664300623, reg_lambda=0.0 will be ignored. Current value: lambda_l2=5.241653664300623\n"
     ]
    },
    {
     "name": "stderr",
     "output_type": "stream",
     "text": [
      " 41%|████      | 41/100 [02:10<03:01,  3.07s/it]"
     ]
    },
    {
     "name": "stdout",
     "output_type": "stream",
     "text": [
      "[LightGBM] [Warning] lambda_l1 is set=1.6568558853289863, reg_alpha=0.0 will be ignored. Current value: lambda_l1=1.6568558853289863\n",
      "[LightGBM] [Warning] bagging_fraction is set=0.8504282163263281, subsample=1.0 will be ignored. Current value: bagging_fraction=0.8504282163263281\n",
      "[LightGBM] [Warning] feature_fraction is set=0.705433568927063, colsample_bytree=1.0 will be ignored. Current value: feature_fraction=0.705433568927063\n",
      "[LightGBM] [Warning] lambda_l2 is set=5.241653664300623, reg_lambda=0.0 will be ignored. Current value: lambda_l2=5.241653664300623\n"
     ]
    },
    {
     "name": "stderr",
     "output_type": "stream",
     "text": [
      " 42%|████▏     | 42/100 [02:13<02:56,  3.04s/it]"
     ]
    },
    {
     "name": "stdout",
     "output_type": "stream",
     "text": [
      "[LightGBM] [Warning] lambda_l1 is set=1.6568558853289863, reg_alpha=0.0 will be ignored. Current value: lambda_l1=1.6568558853289863\n",
      "[LightGBM] [Warning] bagging_fraction is set=0.8504282163263281, subsample=1.0 will be ignored. Current value: bagging_fraction=0.8504282163263281\n",
      "[LightGBM] [Warning] feature_fraction is set=0.705433568927063, colsample_bytree=1.0 will be ignored. Current value: feature_fraction=0.705433568927063\n",
      "[LightGBM] [Warning] lambda_l2 is set=5.241653664300623, reg_lambda=0.0 will be ignored. Current value: lambda_l2=5.241653664300623\n"
     ]
    },
    {
     "name": "stderr",
     "output_type": "stream",
     "text": [
      " 43%|████▎     | 43/100 [02:16<02:47,  2.94s/it]"
     ]
    },
    {
     "name": "stdout",
     "output_type": "stream",
     "text": [
      "[LightGBM] [Warning] lambda_l1 is set=1.6568558853289863, reg_alpha=0.0 will be ignored. Current value: lambda_l1=1.6568558853289863\n",
      "[LightGBM] [Warning] bagging_fraction is set=0.8504282163263281, subsample=1.0 will be ignored. Current value: bagging_fraction=0.8504282163263281\n",
      "[LightGBM] [Warning] feature_fraction is set=0.705433568927063, colsample_bytree=1.0 will be ignored. Current value: feature_fraction=0.705433568927063\n",
      "[LightGBM] [Warning] lambda_l2 is set=5.241653664300623, reg_lambda=0.0 will be ignored. Current value: lambda_l2=5.241653664300623\n"
     ]
    },
    {
     "name": "stderr",
     "output_type": "stream",
     "text": [
      " 44%|████▍     | 44/100 [02:19<02:42,  2.90s/it]"
     ]
    },
    {
     "name": "stdout",
     "output_type": "stream",
     "text": [
      "[LightGBM] [Warning] lambda_l1 is set=1.6568558853289863, reg_alpha=0.0 will be ignored. Current value: lambda_l1=1.6568558853289863\n",
      "[LightGBM] [Warning] bagging_fraction is set=0.8504282163263281, subsample=1.0 will be ignored. Current value: bagging_fraction=0.8504282163263281\n",
      "[LightGBM] [Warning] feature_fraction is set=0.705433568927063, colsample_bytree=1.0 will be ignored. Current value: feature_fraction=0.705433568927063\n",
      "[LightGBM] [Warning] lambda_l2 is set=5.241653664300623, reg_lambda=0.0 will be ignored. Current value: lambda_l2=5.241653664300623\n"
     ]
    },
    {
     "name": "stderr",
     "output_type": "stream",
     "text": [
      " 45%|████▌     | 45/100 [02:22<02:37,  2.87s/it]"
     ]
    },
    {
     "name": "stdout",
     "output_type": "stream",
     "text": [
      "[LightGBM] [Warning] lambda_l1 is set=1.6568558853289863, reg_alpha=0.0 will be ignored. Current value: lambda_l1=1.6568558853289863\n",
      "[LightGBM] [Warning] bagging_fraction is set=0.8504282163263281, subsample=1.0 will be ignored. Current value: bagging_fraction=0.8504282163263281\n",
      "[LightGBM] [Warning] feature_fraction is set=0.705433568927063, colsample_bytree=1.0 will be ignored. Current value: feature_fraction=0.705433568927063\n",
      "[LightGBM] [Warning] lambda_l2 is set=5.241653664300623, reg_lambda=0.0 will be ignored. Current value: lambda_l2=5.241653664300623\n"
     ]
    },
    {
     "name": "stderr",
     "output_type": "stream",
     "text": [
      " 46%|████▌     | 46/100 [02:25<02:33,  2.85s/it]"
     ]
    },
    {
     "name": "stdout",
     "output_type": "stream",
     "text": [
      "[LightGBM] [Warning] lambda_l1 is set=1.6568558853289863, reg_alpha=0.0 will be ignored. Current value: lambda_l1=1.6568558853289863\n",
      "[LightGBM] [Warning] bagging_fraction is set=0.8504282163263281, subsample=1.0 will be ignored. Current value: bagging_fraction=0.8504282163263281\n",
      "[LightGBM] [Warning] feature_fraction is set=0.705433568927063, colsample_bytree=1.0 will be ignored. Current value: feature_fraction=0.705433568927063\n",
      "[LightGBM] [Warning] lambda_l2 is set=5.241653664300623, reg_lambda=0.0 will be ignored. Current value: lambda_l2=5.241653664300623\n"
     ]
    },
    {
     "name": "stderr",
     "output_type": "stream",
     "text": [
      " 47%|████▋     | 47/100 [02:27<02:30,  2.84s/it]"
     ]
    },
    {
     "name": "stdout",
     "output_type": "stream",
     "text": [
      "[LightGBM] [Warning] lambda_l1 is set=1.6568558853289863, reg_alpha=0.0 will be ignored. Current value: lambda_l1=1.6568558853289863\n",
      "[LightGBM] [Warning] bagging_fraction is set=0.8504282163263281, subsample=1.0 will be ignored. Current value: bagging_fraction=0.8504282163263281\n",
      "[LightGBM] [Warning] feature_fraction is set=0.705433568927063, colsample_bytree=1.0 will be ignored. Current value: feature_fraction=0.705433568927063\n",
      "[LightGBM] [Warning] lambda_l2 is set=5.241653664300623, reg_lambda=0.0 will be ignored. Current value: lambda_l2=5.241653664300623\n"
     ]
    },
    {
     "name": "stderr",
     "output_type": "stream",
     "text": [
      " 48%|████▊     | 48/100 [02:30<02:26,  2.82s/it]"
     ]
    },
    {
     "name": "stdout",
     "output_type": "stream",
     "text": [
      "[LightGBM] [Warning] lambda_l1 is set=1.6568558853289863, reg_alpha=0.0 will be ignored. Current value: lambda_l1=1.6568558853289863\n",
      "[LightGBM] [Warning] bagging_fraction is set=0.8504282163263281, subsample=1.0 will be ignored. Current value: bagging_fraction=0.8504282163263281\n",
      "[LightGBM] [Warning] feature_fraction is set=0.705433568927063, colsample_bytree=1.0 will be ignored. Current value: feature_fraction=0.705433568927063\n",
      "[LightGBM] [Warning] lambda_l2 is set=5.241653664300623, reg_lambda=0.0 will be ignored. Current value: lambda_l2=5.241653664300623\n"
     ]
    },
    {
     "name": "stderr",
     "output_type": "stream",
     "text": [
      " 49%|████▉     | 49/100 [02:33<02:23,  2.82s/it]"
     ]
    },
    {
     "name": "stdout",
     "output_type": "stream",
     "text": [
      "[LightGBM] [Warning] lambda_l1 is set=1.6568558853289863, reg_alpha=0.0 will be ignored. Current value: lambda_l1=1.6568558853289863\n",
      "[LightGBM] [Warning] bagging_fraction is set=0.8504282163263281, subsample=1.0 will be ignored. Current value: bagging_fraction=0.8504282163263281\n",
      "[LightGBM] [Warning] feature_fraction is set=0.705433568927063, colsample_bytree=1.0 will be ignored. Current value: feature_fraction=0.705433568927063\n",
      "[LightGBM] [Warning] lambda_l2 is set=5.241653664300623, reg_lambda=0.0 will be ignored. Current value: lambda_l2=5.241653664300623\n"
     ]
    },
    {
     "name": "stderr",
     "output_type": "stream",
     "text": [
      " 50%|█████     | 50/100 [02:36<02:21,  2.83s/it]"
     ]
    },
    {
     "name": "stdout",
     "output_type": "stream",
     "text": [
      "[LightGBM] [Warning] lambda_l1 is set=1.6568558853289863, reg_alpha=0.0 will be ignored. Current value: lambda_l1=1.6568558853289863\n",
      "[LightGBM] [Warning] bagging_fraction is set=0.8504282163263281, subsample=1.0 will be ignored. Current value: bagging_fraction=0.8504282163263281\n",
      "[LightGBM] [Warning] feature_fraction is set=0.705433568927063, colsample_bytree=1.0 will be ignored. Current value: feature_fraction=0.705433568927063\n",
      "[LightGBM] [Warning] lambda_l2 is set=5.241653664300623, reg_lambda=0.0 will be ignored. Current value: lambda_l2=5.241653664300623\n"
     ]
    },
    {
     "name": "stderr",
     "output_type": "stream",
     "text": [
      " 51%|█████     | 51/100 [02:39<02:19,  2.85s/it]"
     ]
    },
    {
     "name": "stdout",
     "output_type": "stream",
     "text": [
      "[LightGBM] [Warning] lambda_l1 is set=1.6568558853289863, reg_alpha=0.0 will be ignored. Current value: lambda_l1=1.6568558853289863\n",
      "[LightGBM] [Warning] bagging_fraction is set=0.8504282163263281, subsample=1.0 will be ignored. Current value: bagging_fraction=0.8504282163263281\n",
      "[LightGBM] [Warning] feature_fraction is set=0.705433568927063, colsample_bytree=1.0 will be ignored. Current value: feature_fraction=0.705433568927063\n",
      "[LightGBM] [Warning] lambda_l2 is set=5.241653664300623, reg_lambda=0.0 will be ignored. Current value: lambda_l2=5.241653664300623\n"
     ]
    },
    {
     "name": "stderr",
     "output_type": "stream",
     "text": [
      " 52%|█████▏    | 52/100 [02:42<02:16,  2.84s/it]"
     ]
    },
    {
     "name": "stdout",
     "output_type": "stream",
     "text": [
      "[LightGBM] [Warning] lambda_l1 is set=1.6568558853289863, reg_alpha=0.0 will be ignored. Current value: lambda_l1=1.6568558853289863\n",
      "[LightGBM] [Warning] bagging_fraction is set=0.8504282163263281, subsample=1.0 will be ignored. Current value: bagging_fraction=0.8504282163263281\n",
      "[LightGBM] [Warning] feature_fraction is set=0.705433568927063, colsample_bytree=1.0 will be ignored. Current value: feature_fraction=0.705433568927063\n",
      "[LightGBM] [Warning] lambda_l2 is set=5.241653664300623, reg_lambda=0.0 will be ignored. Current value: lambda_l2=5.241653664300623\n"
     ]
    },
    {
     "name": "stderr",
     "output_type": "stream",
     "text": [
      " 53%|█████▎    | 53/100 [02:44<02:13,  2.84s/it]"
     ]
    },
    {
     "name": "stdout",
     "output_type": "stream",
     "text": [
      "[LightGBM] [Warning] lambda_l1 is set=1.6568558853289863, reg_alpha=0.0 will be ignored. Current value: lambda_l1=1.6568558853289863\n",
      "[LightGBM] [Warning] bagging_fraction is set=0.8504282163263281, subsample=1.0 will be ignored. Current value: bagging_fraction=0.8504282163263281\n",
      "[LightGBM] [Warning] feature_fraction is set=0.705433568927063, colsample_bytree=1.0 will be ignored. Current value: feature_fraction=0.705433568927063\n",
      "[LightGBM] [Warning] lambda_l2 is set=5.241653664300623, reg_lambda=0.0 will be ignored. Current value: lambda_l2=5.241653664300623\n"
     ]
    },
    {
     "name": "stderr",
     "output_type": "stream",
     "text": [
      " 54%|█████▍    | 54/100 [02:47<02:09,  2.81s/it]"
     ]
    },
    {
     "name": "stdout",
     "output_type": "stream",
     "text": [
      "[LightGBM] [Warning] lambda_l1 is set=1.6568558853289863, reg_alpha=0.0 will be ignored. Current value: lambda_l1=1.6568558853289863\n",
      "[LightGBM] [Warning] bagging_fraction is set=0.8504282163263281, subsample=1.0 will be ignored. Current value: bagging_fraction=0.8504282163263281\n",
      "[LightGBM] [Warning] feature_fraction is set=0.705433568927063, colsample_bytree=1.0 will be ignored. Current value: feature_fraction=0.705433568927063\n",
      "[LightGBM] [Warning] lambda_l2 is set=5.241653664300623, reg_lambda=0.0 will be ignored. Current value: lambda_l2=5.241653664300623\n"
     ]
    },
    {
     "name": "stderr",
     "output_type": "stream",
     "text": [
      " 55%|█████▌    | 55/100 [02:50<02:07,  2.83s/it]"
     ]
    },
    {
     "name": "stdout",
     "output_type": "stream",
     "text": [
      "[LightGBM] [Warning] lambda_l1 is set=1.6568558853289863, reg_alpha=0.0 will be ignored. Current value: lambda_l1=1.6568558853289863\n",
      "[LightGBM] [Warning] bagging_fraction is set=0.8504282163263281, subsample=1.0 will be ignored. Current value: bagging_fraction=0.8504282163263281\n",
      "[LightGBM] [Warning] feature_fraction is set=0.705433568927063, colsample_bytree=1.0 will be ignored. Current value: feature_fraction=0.705433568927063\n",
      "[LightGBM] [Warning] lambda_l2 is set=5.241653664300623, reg_lambda=0.0 will be ignored. Current value: lambda_l2=5.241653664300623\n"
     ]
    },
    {
     "name": "stderr",
     "output_type": "stream",
     "text": [
      " 56%|█████▌    | 56/100 [02:53<02:07,  2.89s/it]"
     ]
    },
    {
     "name": "stdout",
     "output_type": "stream",
     "text": [
      "[LightGBM] [Warning] lambda_l1 is set=1.6568558853289863, reg_alpha=0.0 will be ignored. Current value: lambda_l1=1.6568558853289863\n",
      "[LightGBM] [Warning] bagging_fraction is set=0.8504282163263281, subsample=1.0 will be ignored. Current value: bagging_fraction=0.8504282163263281\n",
      "[LightGBM] [Warning] feature_fraction is set=0.705433568927063, colsample_bytree=1.0 will be ignored. Current value: feature_fraction=0.705433568927063\n",
      "[LightGBM] [Warning] lambda_l2 is set=5.241653664300623, reg_lambda=0.0 will be ignored. Current value: lambda_l2=5.241653664300623\n"
     ]
    },
    {
     "name": "stderr",
     "output_type": "stream",
     "text": [
      " 57%|█████▋    | 57/100 [02:56<02:04,  2.89s/it]"
     ]
    },
    {
     "name": "stdout",
     "output_type": "stream",
     "text": [
      "[LightGBM] [Warning] lambda_l1 is set=1.6568558853289863, reg_alpha=0.0 will be ignored. Current value: lambda_l1=1.6568558853289863\n",
      "[LightGBM] [Warning] bagging_fraction is set=0.8504282163263281, subsample=1.0 will be ignored. Current value: bagging_fraction=0.8504282163263281\n",
      "[LightGBM] [Warning] feature_fraction is set=0.705433568927063, colsample_bytree=1.0 will be ignored. Current value: feature_fraction=0.705433568927063\n",
      "[LightGBM] [Warning] lambda_l2 is set=5.241653664300623, reg_lambda=0.0 will be ignored. Current value: lambda_l2=5.241653664300623\n"
     ]
    },
    {
     "name": "stderr",
     "output_type": "stream",
     "text": [
      " 58%|█████▊    | 58/100 [02:59<01:59,  2.84s/it]"
     ]
    },
    {
     "name": "stdout",
     "output_type": "stream",
     "text": [
      "[LightGBM] [Warning] lambda_l1 is set=1.6568558853289863, reg_alpha=0.0 will be ignored. Current value: lambda_l1=1.6568558853289863\n",
      "[LightGBM] [Warning] bagging_fraction is set=0.8504282163263281, subsample=1.0 will be ignored. Current value: bagging_fraction=0.8504282163263281\n",
      "[LightGBM] [Warning] feature_fraction is set=0.705433568927063, colsample_bytree=1.0 will be ignored. Current value: feature_fraction=0.705433568927063\n",
      "[LightGBM] [Warning] lambda_l2 is set=5.241653664300623, reg_lambda=0.0 will be ignored. Current value: lambda_l2=5.241653664300623\n"
     ]
    },
    {
     "name": "stderr",
     "output_type": "stream",
     "text": [
      " 59%|█████▉    | 59/100 [03:02<01:56,  2.85s/it]"
     ]
    },
    {
     "name": "stdout",
     "output_type": "stream",
     "text": [
      "[LightGBM] [Warning] lambda_l1 is set=1.6568558853289863, reg_alpha=0.0 will be ignored. Current value: lambda_l1=1.6568558853289863\n",
      "[LightGBM] [Warning] bagging_fraction is set=0.8504282163263281, subsample=1.0 will be ignored. Current value: bagging_fraction=0.8504282163263281\n",
      "[LightGBM] [Warning] feature_fraction is set=0.705433568927063, colsample_bytree=1.0 will be ignored. Current value: feature_fraction=0.705433568927063\n",
      "[LightGBM] [Warning] lambda_l2 is set=5.241653664300623, reg_lambda=0.0 will be ignored. Current value: lambda_l2=5.241653664300623\n"
     ]
    },
    {
     "name": "stderr",
     "output_type": "stream",
     "text": [
      " 60%|██████    | 60/100 [03:07<02:24,  3.61s/it]"
     ]
    },
    {
     "name": "stdout",
     "output_type": "stream",
     "text": [
      "[LightGBM] [Warning] lambda_l1 is set=1.6568558853289863, reg_alpha=0.0 will be ignored. Current value: lambda_l1=1.6568558853289863\n",
      "[LightGBM] [Warning] bagging_fraction is set=0.8504282163263281, subsample=1.0 will be ignored. Current value: bagging_fraction=0.8504282163263281\n",
      "[LightGBM] [Warning] feature_fraction is set=0.705433568927063, colsample_bytree=1.0 will be ignored. Current value: feature_fraction=0.705433568927063\n",
      "[LightGBM] [Warning] lambda_l2 is set=5.241653664300623, reg_lambda=0.0 will be ignored. Current value: lambda_l2=5.241653664300623\n"
     ]
    },
    {
     "name": "stderr",
     "output_type": "stream",
     "text": [
      " 61%|██████    | 61/100 [03:16<03:19,  5.11s/it]"
     ]
    },
    {
     "name": "stdout",
     "output_type": "stream",
     "text": [
      "[LightGBM] [Warning] lambda_l1 is set=1.6568558853289863, reg_alpha=0.0 will be ignored. Current value: lambda_l1=1.6568558853289863\n",
      "[LightGBM] [Warning] bagging_fraction is set=0.8504282163263281, subsample=1.0 will be ignored. Current value: bagging_fraction=0.8504282163263281\n",
      "[LightGBM] [Warning] feature_fraction is set=0.705433568927063, colsample_bytree=1.0 will be ignored. Current value: feature_fraction=0.705433568927063\n",
      "[LightGBM] [Warning] lambda_l2 is set=5.241653664300623, reg_lambda=0.0 will be ignored. Current value: lambda_l2=5.241653664300623\n"
     ]
    },
    {
     "name": "stderr",
     "output_type": "stream",
     "text": [
      " 62%|██████▏   | 62/100 [03:21<03:23,  5.35s/it]"
     ]
    },
    {
     "name": "stdout",
     "output_type": "stream",
     "text": [
      "[LightGBM] [Warning] lambda_l1 is set=1.6568558853289863, reg_alpha=0.0 will be ignored. Current value: lambda_l1=1.6568558853289863\n",
      "[LightGBM] [Warning] bagging_fraction is set=0.8504282163263281, subsample=1.0 will be ignored. Current value: bagging_fraction=0.8504282163263281\n",
      "[LightGBM] [Warning] feature_fraction is set=0.705433568927063, colsample_bytree=1.0 will be ignored. Current value: feature_fraction=0.705433568927063\n",
      "[LightGBM] [Warning] lambda_l2 is set=5.241653664300623, reg_lambda=0.0 will be ignored. Current value: lambda_l2=5.241653664300623\n"
     ]
    },
    {
     "name": "stderr",
     "output_type": "stream",
     "text": [
      " 63%|██████▎   | 63/100 [03:24<02:49,  4.59s/it]"
     ]
    },
    {
     "name": "stdout",
     "output_type": "stream",
     "text": [
      "[LightGBM] [Warning] lambda_l1 is set=1.6568558853289863, reg_alpha=0.0 will be ignored. Current value: lambda_l1=1.6568558853289863\n",
      "[LightGBM] [Warning] bagging_fraction is set=0.8504282163263281, subsample=1.0 will be ignored. Current value: bagging_fraction=0.8504282163263281\n",
      "[LightGBM] [Warning] feature_fraction is set=0.705433568927063, colsample_bytree=1.0 will be ignored. Current value: feature_fraction=0.705433568927063\n",
      "[LightGBM] [Warning] lambda_l2 is set=5.241653664300623, reg_lambda=0.0 will be ignored. Current value: lambda_l2=5.241653664300623\n"
     ]
    },
    {
     "name": "stderr",
     "output_type": "stream",
     "text": [
      " 64%|██████▍   | 64/100 [03:27<02:25,  4.05s/it]"
     ]
    },
    {
     "name": "stdout",
     "output_type": "stream",
     "text": [
      "[LightGBM] [Warning] lambda_l1 is set=1.6568558853289863, reg_alpha=0.0 will be ignored. Current value: lambda_l1=1.6568558853289863\n",
      "[LightGBM] [Warning] bagging_fraction is set=0.8504282163263281, subsample=1.0 will be ignored. Current value: bagging_fraction=0.8504282163263281\n",
      "[LightGBM] [Warning] feature_fraction is set=0.705433568927063, colsample_bytree=1.0 will be ignored. Current value: feature_fraction=0.705433568927063\n",
      "[LightGBM] [Warning] lambda_l2 is set=5.241653664300623, reg_lambda=0.0 will be ignored. Current value: lambda_l2=5.241653664300623\n"
     ]
    },
    {
     "name": "stderr",
     "output_type": "stream",
     "text": [
      " 65%|██████▌   | 65/100 [03:30<02:09,  3.70s/it]"
     ]
    },
    {
     "name": "stdout",
     "output_type": "stream",
     "text": [
      "[LightGBM] [Warning] lambda_l1 is set=1.6568558853289863, reg_alpha=0.0 will be ignored. Current value: lambda_l1=1.6568558853289863\n",
      "[LightGBM] [Warning] bagging_fraction is set=0.8504282163263281, subsample=1.0 will be ignored. Current value: bagging_fraction=0.8504282163263281\n",
      "[LightGBM] [Warning] feature_fraction is set=0.705433568927063, colsample_bytree=1.0 will be ignored. Current value: feature_fraction=0.705433568927063\n",
      "[LightGBM] [Warning] lambda_l2 is set=5.241653664300623, reg_lambda=0.0 will be ignored. Current value: lambda_l2=5.241653664300623\n"
     ]
    },
    {
     "name": "stderr",
     "output_type": "stream",
     "text": [
      " 66%|██████▌   | 66/100 [03:33<01:56,  3.43s/it]"
     ]
    },
    {
     "name": "stdout",
     "output_type": "stream",
     "text": [
      "[LightGBM] [Warning] lambda_l1 is set=1.6568558853289863, reg_alpha=0.0 will be ignored. Current value: lambda_l1=1.6568558853289863\n",
      "[LightGBM] [Warning] bagging_fraction is set=0.8504282163263281, subsample=1.0 will be ignored. Current value: bagging_fraction=0.8504282163263281\n",
      "[LightGBM] [Warning] feature_fraction is set=0.705433568927063, colsample_bytree=1.0 will be ignored. Current value: feature_fraction=0.705433568927063\n",
      "[LightGBM] [Warning] lambda_l2 is set=5.241653664300623, reg_lambda=0.0 will be ignored. Current value: lambda_l2=5.241653664300623\n"
     ]
    },
    {
     "name": "stderr",
     "output_type": "stream",
     "text": [
      " 67%|██████▋   | 67/100 [03:36<01:47,  3.27s/it]"
     ]
    },
    {
     "name": "stdout",
     "output_type": "stream",
     "text": [
      "[LightGBM] [Warning] lambda_l1 is set=1.6568558853289863, reg_alpha=0.0 will be ignored. Current value: lambda_l1=1.6568558853289863\n",
      "[LightGBM] [Warning] bagging_fraction is set=0.8504282163263281, subsample=1.0 will be ignored. Current value: bagging_fraction=0.8504282163263281\n",
      "[LightGBM] [Warning] feature_fraction is set=0.705433568927063, colsample_bytree=1.0 will be ignored. Current value: feature_fraction=0.705433568927063\n",
      "[LightGBM] [Warning] lambda_l2 is set=5.241653664300623, reg_lambda=0.0 will be ignored. Current value: lambda_l2=5.241653664300623\n"
     ]
    },
    {
     "name": "stderr",
     "output_type": "stream",
     "text": [
      " 68%|██████▊   | 68/100 [03:39<01:43,  3.22s/it]"
     ]
    },
    {
     "name": "stdout",
     "output_type": "stream",
     "text": [
      "[LightGBM] [Warning] lambda_l1 is set=1.6568558853289863, reg_alpha=0.0 will be ignored. Current value: lambda_l1=1.6568558853289863\n",
      "[LightGBM] [Warning] bagging_fraction is set=0.8504282163263281, subsample=1.0 will be ignored. Current value: bagging_fraction=0.8504282163263281\n",
      "[LightGBM] [Warning] feature_fraction is set=0.705433568927063, colsample_bytree=1.0 will be ignored. Current value: feature_fraction=0.705433568927063\n",
      "[LightGBM] [Warning] lambda_l2 is set=5.241653664300623, reg_lambda=0.0 will be ignored. Current value: lambda_l2=5.241653664300623\n"
     ]
    },
    {
     "name": "stderr",
     "output_type": "stream",
     "text": [
      " 69%|██████▉   | 69/100 [03:42<01:36,  3.12s/it]"
     ]
    },
    {
     "name": "stdout",
     "output_type": "stream",
     "text": [
      "[LightGBM] [Warning] lambda_l1 is set=1.6568558853289863, reg_alpha=0.0 will be ignored. Current value: lambda_l1=1.6568558853289863\n",
      "[LightGBM] [Warning] bagging_fraction is set=0.8504282163263281, subsample=1.0 will be ignored. Current value: bagging_fraction=0.8504282163263281\n",
      "[LightGBM] [Warning] feature_fraction is set=0.705433568927063, colsample_bytree=1.0 will be ignored. Current value: feature_fraction=0.705433568927063\n",
      "[LightGBM] [Warning] lambda_l2 is set=5.241653664300623, reg_lambda=0.0 will be ignored. Current value: lambda_l2=5.241653664300623\n"
     ]
    },
    {
     "name": "stderr",
     "output_type": "stream",
     "text": [
      " 70%|███████   | 70/100 [03:44<01:30,  3.02s/it]"
     ]
    },
    {
     "name": "stdout",
     "output_type": "stream",
     "text": [
      "[LightGBM] [Warning] lambda_l1 is set=1.6568558853289863, reg_alpha=0.0 will be ignored. Current value: lambda_l1=1.6568558853289863\n",
      "[LightGBM] [Warning] bagging_fraction is set=0.8504282163263281, subsample=1.0 will be ignored. Current value: bagging_fraction=0.8504282163263281\n",
      "[LightGBM] [Warning] feature_fraction is set=0.705433568927063, colsample_bytree=1.0 will be ignored. Current value: feature_fraction=0.705433568927063\n",
      "[LightGBM] [Warning] lambda_l2 is set=5.241653664300623, reg_lambda=0.0 will be ignored. Current value: lambda_l2=5.241653664300623\n"
     ]
    },
    {
     "name": "stderr",
     "output_type": "stream",
     "text": [
      " 71%|███████   | 71/100 [03:47<01:25,  2.93s/it]"
     ]
    },
    {
     "name": "stdout",
     "output_type": "stream",
     "text": [
      "[LightGBM] [Warning] lambda_l1 is set=1.6568558853289863, reg_alpha=0.0 will be ignored. Current value: lambda_l1=1.6568558853289863\n",
      "[LightGBM] [Warning] bagging_fraction is set=0.8504282163263281, subsample=1.0 will be ignored. Current value: bagging_fraction=0.8504282163263281\n",
      "[LightGBM] [Warning] feature_fraction is set=0.705433568927063, colsample_bytree=1.0 will be ignored. Current value: feature_fraction=0.705433568927063\n",
      "[LightGBM] [Warning] lambda_l2 is set=5.241653664300623, reg_lambda=0.0 will be ignored. Current value: lambda_l2=5.241653664300623\n"
     ]
    },
    {
     "name": "stderr",
     "output_type": "stream",
     "text": [
      " 72%|███████▏  | 72/100 [03:52<01:42,  3.66s/it]"
     ]
    },
    {
     "name": "stdout",
     "output_type": "stream",
     "text": [
      "[LightGBM] [Warning] lambda_l1 is set=1.6568558853289863, reg_alpha=0.0 will be ignored. Current value: lambda_l1=1.6568558853289863\n",
      "[LightGBM] [Warning] bagging_fraction is set=0.8504282163263281, subsample=1.0 will be ignored. Current value: bagging_fraction=0.8504282163263281\n",
      "[LightGBM] [Warning] feature_fraction is set=0.705433568927063, colsample_bytree=1.0 will be ignored. Current value: feature_fraction=0.705433568927063\n",
      "[LightGBM] [Warning] lambda_l2 is set=5.241653664300623, reg_lambda=0.0 will be ignored. Current value: lambda_l2=5.241653664300623\n"
     ]
    },
    {
     "name": "stderr",
     "output_type": "stream",
     "text": [
      " 73%|███████▎  | 73/100 [03:55<01:31,  3.38s/it]"
     ]
    },
    {
     "name": "stdout",
     "output_type": "stream",
     "text": [
      "[LightGBM] [Warning] lambda_l1 is set=1.6568558853289863, reg_alpha=0.0 will be ignored. Current value: lambda_l1=1.6568558853289863\n",
      "[LightGBM] [Warning] bagging_fraction is set=0.8504282163263281, subsample=1.0 will be ignored. Current value: bagging_fraction=0.8504282163263281\n",
      "[LightGBM] [Warning] feature_fraction is set=0.705433568927063, colsample_bytree=1.0 will be ignored. Current value: feature_fraction=0.705433568927063\n",
      "[LightGBM] [Warning] lambda_l2 is set=5.241653664300623, reg_lambda=0.0 will be ignored. Current value: lambda_l2=5.241653664300623\n"
     ]
    },
    {
     "name": "stderr",
     "output_type": "stream",
     "text": [
      " 74%|███████▍  | 74/100 [03:58<01:23,  3.21s/it]"
     ]
    },
    {
     "name": "stdout",
     "output_type": "stream",
     "text": [
      "[LightGBM] [Warning] lambda_l1 is set=1.6568558853289863, reg_alpha=0.0 will be ignored. Current value: lambda_l1=1.6568558853289863\n",
      "[LightGBM] [Warning] bagging_fraction is set=0.8504282163263281, subsample=1.0 will be ignored. Current value: bagging_fraction=0.8504282163263281\n",
      "[LightGBM] [Warning] feature_fraction is set=0.705433568927063, colsample_bytree=1.0 will be ignored. Current value: feature_fraction=0.705433568927063\n",
      "[LightGBM] [Warning] lambda_l2 is set=5.241653664300623, reg_lambda=0.0 will be ignored. Current value: lambda_l2=5.241653664300623\n"
     ]
    },
    {
     "name": "stderr",
     "output_type": "stream",
     "text": [
      " 75%|███████▌  | 75/100 [04:01<01:17,  3.11s/it]"
     ]
    },
    {
     "name": "stdout",
     "output_type": "stream",
     "text": [
      "[LightGBM] [Warning] lambda_l1 is set=1.6568558853289863, reg_alpha=0.0 will be ignored. Current value: lambda_l1=1.6568558853289863\n",
      "[LightGBM] [Warning] bagging_fraction is set=0.8504282163263281, subsample=1.0 will be ignored. Current value: bagging_fraction=0.8504282163263281\n",
      "[LightGBM] [Warning] feature_fraction is set=0.705433568927063, colsample_bytree=1.0 will be ignored. Current value: feature_fraction=0.705433568927063\n",
      "[LightGBM] [Warning] lambda_l2 is set=5.241653664300623, reg_lambda=0.0 will be ignored. Current value: lambda_l2=5.241653664300623\n"
     ]
    },
    {
     "name": "stderr",
     "output_type": "stream",
     "text": [
      " 76%|███████▌  | 76/100 [04:04<01:12,  3.04s/it]"
     ]
    },
    {
     "name": "stdout",
     "output_type": "stream",
     "text": [
      "[LightGBM] [Warning] lambda_l1 is set=1.6568558853289863, reg_alpha=0.0 will be ignored. Current value: lambda_l1=1.6568558853289863\n",
      "[LightGBM] [Warning] bagging_fraction is set=0.8504282163263281, subsample=1.0 will be ignored. Current value: bagging_fraction=0.8504282163263281\n",
      "[LightGBM] [Warning] feature_fraction is set=0.705433568927063, colsample_bytree=1.0 will be ignored. Current value: feature_fraction=0.705433568927063\n",
      "[LightGBM] [Warning] lambda_l2 is set=5.241653664300623, reg_lambda=0.0 will be ignored. Current value: lambda_l2=5.241653664300623\n"
     ]
    },
    {
     "name": "stderr",
     "output_type": "stream",
     "text": [
      " 77%|███████▋  | 77/100 [04:07<01:08,  2.97s/it]"
     ]
    },
    {
     "name": "stdout",
     "output_type": "stream",
     "text": [
      "[LightGBM] [Warning] lambda_l1 is set=1.6568558853289863, reg_alpha=0.0 will be ignored. Current value: lambda_l1=1.6568558853289863\n",
      "[LightGBM] [Warning] bagging_fraction is set=0.8504282163263281, subsample=1.0 will be ignored. Current value: bagging_fraction=0.8504282163263281\n",
      "[LightGBM] [Warning] feature_fraction is set=0.705433568927063, colsample_bytree=1.0 will be ignored. Current value: feature_fraction=0.705433568927063\n",
      "[LightGBM] [Warning] lambda_l2 is set=5.241653664300623, reg_lambda=0.0 will be ignored. Current value: lambda_l2=5.241653664300623\n"
     ]
    },
    {
     "name": "stderr",
     "output_type": "stream",
     "text": [
      " 78%|███████▊  | 78/100 [04:09<01:04,  2.94s/it]"
     ]
    },
    {
     "name": "stdout",
     "output_type": "stream",
     "text": [
      "[LightGBM] [Warning] lambda_l1 is set=1.6568558853289863, reg_alpha=0.0 will be ignored. Current value: lambda_l1=1.6568558853289863\n",
      "[LightGBM] [Warning] bagging_fraction is set=0.8504282163263281, subsample=1.0 will be ignored. Current value: bagging_fraction=0.8504282163263281\n",
      "[LightGBM] [Warning] feature_fraction is set=0.705433568927063, colsample_bytree=1.0 will be ignored. Current value: feature_fraction=0.705433568927063\n",
      "[LightGBM] [Warning] lambda_l2 is set=5.241653664300623, reg_lambda=0.0 will be ignored. Current value: lambda_l2=5.241653664300623\n"
     ]
    },
    {
     "name": "stderr",
     "output_type": "stream",
     "text": [
      " 79%|███████▉  | 79/100 [04:12<01:00,  2.90s/it]"
     ]
    },
    {
     "name": "stdout",
     "output_type": "stream",
     "text": [
      "[LightGBM] [Warning] lambda_l1 is set=1.6568558853289863, reg_alpha=0.0 will be ignored. Current value: lambda_l1=1.6568558853289863\n",
      "[LightGBM] [Warning] bagging_fraction is set=0.8504282163263281, subsample=1.0 will be ignored. Current value: bagging_fraction=0.8504282163263281\n",
      "[LightGBM] [Warning] feature_fraction is set=0.705433568927063, colsample_bytree=1.0 will be ignored. Current value: feature_fraction=0.705433568927063\n",
      "[LightGBM] [Warning] lambda_l2 is set=5.241653664300623, reg_lambda=0.0 will be ignored. Current value: lambda_l2=5.241653664300623\n"
     ]
    },
    {
     "name": "stderr",
     "output_type": "stream",
     "text": [
      " 80%|████████  | 80/100 [04:15<00:57,  2.87s/it]"
     ]
    },
    {
     "name": "stdout",
     "output_type": "stream",
     "text": [
      "[LightGBM] [Warning] lambda_l1 is set=1.6568558853289863, reg_alpha=0.0 will be ignored. Current value: lambda_l1=1.6568558853289863\n",
      "[LightGBM] [Warning] bagging_fraction is set=0.8504282163263281, subsample=1.0 will be ignored. Current value: bagging_fraction=0.8504282163263281\n",
      "[LightGBM] [Warning] feature_fraction is set=0.705433568927063, colsample_bytree=1.0 will be ignored. Current value: feature_fraction=0.705433568927063\n",
      "[LightGBM] [Warning] lambda_l2 is set=5.241653664300623, reg_lambda=0.0 will be ignored. Current value: lambda_l2=5.241653664300623\n"
     ]
    },
    {
     "name": "stderr",
     "output_type": "stream",
     "text": [
      " 81%|████████  | 81/100 [04:18<00:54,  2.85s/it]"
     ]
    },
    {
     "name": "stdout",
     "output_type": "stream",
     "text": [
      "[LightGBM] [Warning] lambda_l1 is set=1.6568558853289863, reg_alpha=0.0 will be ignored. Current value: lambda_l1=1.6568558853289863\n",
      "[LightGBM] [Warning] bagging_fraction is set=0.8504282163263281, subsample=1.0 will be ignored. Current value: bagging_fraction=0.8504282163263281\n",
      "[LightGBM] [Warning] feature_fraction is set=0.705433568927063, colsample_bytree=1.0 will be ignored. Current value: feature_fraction=0.705433568927063\n",
      "[LightGBM] [Warning] lambda_l2 is set=5.241653664300623, reg_lambda=0.0 will be ignored. Current value: lambda_l2=5.241653664300623\n"
     ]
    },
    {
     "name": "stderr",
     "output_type": "stream",
     "text": [
      " 82%|████████▏ | 82/100 [04:21<00:54,  3.00s/it]"
     ]
    },
    {
     "name": "stdout",
     "output_type": "stream",
     "text": [
      "[LightGBM] [Warning] lambda_l1 is set=1.6568558853289863, reg_alpha=0.0 will be ignored. Current value: lambda_l1=1.6568558853289863\n",
      "[LightGBM] [Warning] bagging_fraction is set=0.8504282163263281, subsample=1.0 will be ignored. Current value: bagging_fraction=0.8504282163263281\n",
      "[LightGBM] [Warning] feature_fraction is set=0.705433568927063, colsample_bytree=1.0 will be ignored. Current value: feature_fraction=0.705433568927063\n",
      "[LightGBM] [Warning] lambda_l2 is set=5.241653664300623, reg_lambda=0.0 will be ignored. Current value: lambda_l2=5.241653664300623\n"
     ]
    },
    {
     "name": "stderr",
     "output_type": "stream",
     "text": [
      " 83%|████████▎ | 83/100 [04:24<00:50,  2.96s/it]"
     ]
    },
    {
     "name": "stdout",
     "output_type": "stream",
     "text": [
      "[LightGBM] [Warning] lambda_l1 is set=1.6568558853289863, reg_alpha=0.0 will be ignored. Current value: lambda_l1=1.6568558853289863\n",
      "[LightGBM] [Warning] bagging_fraction is set=0.8504282163263281, subsample=1.0 will be ignored. Current value: bagging_fraction=0.8504282163263281\n",
      "[LightGBM] [Warning] feature_fraction is set=0.705433568927063, colsample_bytree=1.0 will be ignored. Current value: feature_fraction=0.705433568927063\n",
      "[LightGBM] [Warning] lambda_l2 is set=5.241653664300623, reg_lambda=0.0 will be ignored. Current value: lambda_l2=5.241653664300623\n"
     ]
    },
    {
     "name": "stderr",
     "output_type": "stream",
     "text": [
      " 84%|████████▍ | 84/100 [04:27<00:46,  2.92s/it]"
     ]
    },
    {
     "name": "stdout",
     "output_type": "stream",
     "text": [
      "[LightGBM] [Warning] lambda_l1 is set=1.6568558853289863, reg_alpha=0.0 will be ignored. Current value: lambda_l1=1.6568558853289863\n",
      "[LightGBM] [Warning] bagging_fraction is set=0.8504282163263281, subsample=1.0 will be ignored. Current value: bagging_fraction=0.8504282163263281\n",
      "[LightGBM] [Warning] feature_fraction is set=0.705433568927063, colsample_bytree=1.0 will be ignored. Current value: feature_fraction=0.705433568927063\n",
      "[LightGBM] [Warning] lambda_l2 is set=5.241653664300623, reg_lambda=0.0 will be ignored. Current value: lambda_l2=5.241653664300623\n"
     ]
    },
    {
     "name": "stderr",
     "output_type": "stream",
     "text": [
      " 85%|████████▌ | 85/100 [04:30<00:43,  2.91s/it]"
     ]
    },
    {
     "name": "stdout",
     "output_type": "stream",
     "text": [
      "[LightGBM] [Warning] lambda_l1 is set=1.6568558853289863, reg_alpha=0.0 will be ignored. Current value: lambda_l1=1.6568558853289863\n",
      "[LightGBM] [Warning] bagging_fraction is set=0.8504282163263281, subsample=1.0 will be ignored. Current value: bagging_fraction=0.8504282163263281\n",
      "[LightGBM] [Warning] feature_fraction is set=0.705433568927063, colsample_bytree=1.0 will be ignored. Current value: feature_fraction=0.705433568927063\n",
      "[LightGBM] [Warning] lambda_l2 is set=5.241653664300623, reg_lambda=0.0 will be ignored. Current value: lambda_l2=5.241653664300623\n"
     ]
    },
    {
     "name": "stderr",
     "output_type": "stream",
     "text": [
      " 86%|████████▌ | 86/100 [04:33<00:40,  2.87s/it]"
     ]
    },
    {
     "name": "stdout",
     "output_type": "stream",
     "text": [
      "[LightGBM] [Warning] lambda_l1 is set=1.6568558853289863, reg_alpha=0.0 will be ignored. Current value: lambda_l1=1.6568558853289863\n",
      "[LightGBM] [Warning] bagging_fraction is set=0.8504282163263281, subsample=1.0 will be ignored. Current value: bagging_fraction=0.8504282163263281\n",
      "[LightGBM] [Warning] feature_fraction is set=0.705433568927063, colsample_bytree=1.0 will be ignored. Current value: feature_fraction=0.705433568927063\n",
      "[LightGBM] [Warning] lambda_l2 is set=5.241653664300623, reg_lambda=0.0 will be ignored. Current value: lambda_l2=5.241653664300623\n"
     ]
    },
    {
     "name": "stderr",
     "output_type": "stream",
     "text": [
      " 87%|████████▋ | 87/100 [04:35<00:36,  2.83s/it]"
     ]
    },
    {
     "name": "stdout",
     "output_type": "stream",
     "text": [
      "[LightGBM] [Warning] lambda_l1 is set=1.6568558853289863, reg_alpha=0.0 will be ignored. Current value: lambda_l1=1.6568558853289863\n",
      "[LightGBM] [Warning] bagging_fraction is set=0.8504282163263281, subsample=1.0 will be ignored. Current value: bagging_fraction=0.8504282163263281\n",
      "[LightGBM] [Warning] feature_fraction is set=0.705433568927063, colsample_bytree=1.0 will be ignored. Current value: feature_fraction=0.705433568927063\n",
      "[LightGBM] [Warning] lambda_l2 is set=5.241653664300623, reg_lambda=0.0 will be ignored. Current value: lambda_l2=5.241653664300623\n"
     ]
    },
    {
     "name": "stderr",
     "output_type": "stream",
     "text": [
      " 88%|████████▊ | 88/100 [04:38<00:33,  2.82s/it]"
     ]
    },
    {
     "name": "stdout",
     "output_type": "stream",
     "text": [
      "[LightGBM] [Warning] lambda_l1 is set=1.6568558853289863, reg_alpha=0.0 will be ignored. Current value: lambda_l1=1.6568558853289863\n",
      "[LightGBM] [Warning] bagging_fraction is set=0.8504282163263281, subsample=1.0 will be ignored. Current value: bagging_fraction=0.8504282163263281\n",
      "[LightGBM] [Warning] feature_fraction is set=0.705433568927063, colsample_bytree=1.0 will be ignored. Current value: feature_fraction=0.705433568927063\n",
      "[LightGBM] [Warning] lambda_l2 is set=5.241653664300623, reg_lambda=0.0 will be ignored. Current value: lambda_l2=5.241653664300623\n"
     ]
    },
    {
     "name": "stderr",
     "output_type": "stream",
     "text": [
      " 89%|████████▉ | 89/100 [04:41<00:31,  2.86s/it]"
     ]
    },
    {
     "name": "stdout",
     "output_type": "stream",
     "text": [
      "[LightGBM] [Warning] lambda_l1 is set=1.6568558853289863, reg_alpha=0.0 will be ignored. Current value: lambda_l1=1.6568558853289863\n",
      "[LightGBM] [Warning] bagging_fraction is set=0.8504282163263281, subsample=1.0 will be ignored. Current value: bagging_fraction=0.8504282163263281\n",
      "[LightGBM] [Warning] feature_fraction is set=0.705433568927063, colsample_bytree=1.0 will be ignored. Current value: feature_fraction=0.705433568927063\n",
      "[LightGBM] [Warning] lambda_l2 is set=5.241653664300623, reg_lambda=0.0 will be ignored. Current value: lambda_l2=5.241653664300623\n"
     ]
    },
    {
     "name": "stderr",
     "output_type": "stream",
     "text": [
      " 90%|█████████ | 90/100 [04:44<00:28,  2.84s/it]"
     ]
    },
    {
     "name": "stdout",
     "output_type": "stream",
     "text": [
      "[LightGBM] [Warning] lambda_l1 is set=1.6568558853289863, reg_alpha=0.0 will be ignored. Current value: lambda_l1=1.6568558853289863\n",
      "[LightGBM] [Warning] bagging_fraction is set=0.8504282163263281, subsample=1.0 will be ignored. Current value: bagging_fraction=0.8504282163263281\n",
      "[LightGBM] [Warning] feature_fraction is set=0.705433568927063, colsample_bytree=1.0 will be ignored. Current value: feature_fraction=0.705433568927063\n",
      "[LightGBM] [Warning] lambda_l2 is set=5.241653664300623, reg_lambda=0.0 will be ignored. Current value: lambda_l2=5.241653664300623\n"
     ]
    },
    {
     "name": "stderr",
     "output_type": "stream",
     "text": [
      " 91%|█████████ | 91/100 [04:47<00:25,  2.88s/it]"
     ]
    },
    {
     "name": "stdout",
     "output_type": "stream",
     "text": [
      "[LightGBM] [Warning] lambda_l1 is set=1.6568558853289863, reg_alpha=0.0 will be ignored. Current value: lambda_l1=1.6568558853289863\n",
      "[LightGBM] [Warning] bagging_fraction is set=0.8504282163263281, subsample=1.0 will be ignored. Current value: bagging_fraction=0.8504282163263281\n",
      "[LightGBM] [Warning] feature_fraction is set=0.705433568927063, colsample_bytree=1.0 will be ignored. Current value: feature_fraction=0.705433568927063\n",
      "[LightGBM] [Warning] lambda_l2 is set=5.241653664300623, reg_lambda=0.0 will be ignored. Current value: lambda_l2=5.241653664300623\n"
     ]
    },
    {
     "name": "stderr",
     "output_type": "stream",
     "text": [
      " 92%|█████████▏| 92/100 [04:50<00:23,  2.88s/it]"
     ]
    },
    {
     "name": "stdout",
     "output_type": "stream",
     "text": [
      "[LightGBM] [Warning] lambda_l1 is set=1.6568558853289863, reg_alpha=0.0 will be ignored. Current value: lambda_l1=1.6568558853289863\n",
      "[LightGBM] [Warning] bagging_fraction is set=0.8504282163263281, subsample=1.0 will be ignored. Current value: bagging_fraction=0.8504282163263281\n",
      "[LightGBM] [Warning] feature_fraction is set=0.705433568927063, colsample_bytree=1.0 will be ignored. Current value: feature_fraction=0.705433568927063\n",
      "[LightGBM] [Warning] lambda_l2 is set=5.241653664300623, reg_lambda=0.0 will be ignored. Current value: lambda_l2=5.241653664300623\n"
     ]
    },
    {
     "name": "stderr",
     "output_type": "stream",
     "text": [
      " 93%|█████████▎| 93/100 [04:53<00:20,  2.88s/it]"
     ]
    },
    {
     "name": "stdout",
     "output_type": "stream",
     "text": [
      "[LightGBM] [Warning] lambda_l1 is set=1.6568558853289863, reg_alpha=0.0 will be ignored. Current value: lambda_l1=1.6568558853289863\n",
      "[LightGBM] [Warning] bagging_fraction is set=0.8504282163263281, subsample=1.0 will be ignored. Current value: bagging_fraction=0.8504282163263281\n",
      "[LightGBM] [Warning] feature_fraction is set=0.705433568927063, colsample_bytree=1.0 will be ignored. Current value: feature_fraction=0.705433568927063\n",
      "[LightGBM] [Warning] lambda_l2 is set=5.241653664300623, reg_lambda=0.0 will be ignored. Current value: lambda_l2=5.241653664300623\n"
     ]
    },
    {
     "name": "stderr",
     "output_type": "stream",
     "text": [
      " 94%|█████████▍| 94/100 [04:55<00:17,  2.85s/it]"
     ]
    },
    {
     "name": "stdout",
     "output_type": "stream",
     "text": [
      "[LightGBM] [Warning] lambda_l1 is set=1.6568558853289863, reg_alpha=0.0 will be ignored. Current value: lambda_l1=1.6568558853289863\n",
      "[LightGBM] [Warning] bagging_fraction is set=0.8504282163263281, subsample=1.0 will be ignored. Current value: bagging_fraction=0.8504282163263281\n",
      "[LightGBM] [Warning] feature_fraction is set=0.705433568927063, colsample_bytree=1.0 will be ignored. Current value: feature_fraction=0.705433568927063\n",
      "[LightGBM] [Warning] lambda_l2 is set=5.241653664300623, reg_lambda=0.0 will be ignored. Current value: lambda_l2=5.241653664300623\n"
     ]
    },
    {
     "name": "stderr",
     "output_type": "stream",
     "text": [
      " 95%|█████████▌| 95/100 [04:58<00:14,  2.84s/it]"
     ]
    },
    {
     "name": "stdout",
     "output_type": "stream",
     "text": [
      "[LightGBM] [Warning] lambda_l1 is set=1.6568558853289863, reg_alpha=0.0 will be ignored. Current value: lambda_l1=1.6568558853289863\n",
      "[LightGBM] [Warning] bagging_fraction is set=0.8504282163263281, subsample=1.0 will be ignored. Current value: bagging_fraction=0.8504282163263281\n",
      "[LightGBM] [Warning] feature_fraction is set=0.705433568927063, colsample_bytree=1.0 will be ignored. Current value: feature_fraction=0.705433568927063\n",
      "[LightGBM] [Warning] lambda_l2 is set=5.241653664300623, reg_lambda=0.0 will be ignored. Current value: lambda_l2=5.241653664300623\n"
     ]
    },
    {
     "name": "stderr",
     "output_type": "stream",
     "text": [
      " 96%|█████████▌| 96/100 [05:01<00:11,  2.85s/it]"
     ]
    },
    {
     "name": "stdout",
     "output_type": "stream",
     "text": [
      "[LightGBM] [Warning] lambda_l1 is set=1.6568558853289863, reg_alpha=0.0 will be ignored. Current value: lambda_l1=1.6568558853289863\n",
      "[LightGBM] [Warning] bagging_fraction is set=0.8504282163263281, subsample=1.0 will be ignored. Current value: bagging_fraction=0.8504282163263281\n",
      "[LightGBM] [Warning] feature_fraction is set=0.705433568927063, colsample_bytree=1.0 will be ignored. Current value: feature_fraction=0.705433568927063\n",
      "[LightGBM] [Warning] lambda_l2 is set=5.241653664300623, reg_lambda=0.0 will be ignored. Current value: lambda_l2=5.241653664300623\n"
     ]
    },
    {
     "name": "stderr",
     "output_type": "stream",
     "text": [
      " 97%|█████████▋| 97/100 [05:04<00:08,  2.83s/it]"
     ]
    },
    {
     "name": "stdout",
     "output_type": "stream",
     "text": [
      "[LightGBM] [Warning] lambda_l1 is set=1.6568558853289863, reg_alpha=0.0 will be ignored. Current value: lambda_l1=1.6568558853289863\n",
      "[LightGBM] [Warning] bagging_fraction is set=0.8504282163263281, subsample=1.0 will be ignored. Current value: bagging_fraction=0.8504282163263281\n",
      "[LightGBM] [Warning] feature_fraction is set=0.705433568927063, colsample_bytree=1.0 will be ignored. Current value: feature_fraction=0.705433568927063\n",
      "[LightGBM] [Warning] lambda_l2 is set=5.241653664300623, reg_lambda=0.0 will be ignored. Current value: lambda_l2=5.241653664300623\n"
     ]
    },
    {
     "name": "stderr",
     "output_type": "stream",
     "text": [
      " 98%|█████████▊| 98/100 [05:06<00:05,  2.78s/it]"
     ]
    },
    {
     "name": "stdout",
     "output_type": "stream",
     "text": [
      "[LightGBM] [Warning] lambda_l1 is set=1.6568558853289863, reg_alpha=0.0 will be ignored. Current value: lambda_l1=1.6568558853289863\n",
      "[LightGBM] [Warning] bagging_fraction is set=0.8504282163263281, subsample=1.0 will be ignored. Current value: bagging_fraction=0.8504282163263281\n",
      "[LightGBM] [Warning] feature_fraction is set=0.705433568927063, colsample_bytree=1.0 will be ignored. Current value: feature_fraction=0.705433568927063\n",
      "[LightGBM] [Warning] lambda_l2 is set=5.241653664300623, reg_lambda=0.0 will be ignored. Current value: lambda_l2=5.241653664300623\n"
     ]
    },
    {
     "name": "stderr",
     "output_type": "stream",
     "text": [
      " 99%|█████████▉| 99/100 [05:09<00:02,  2.78s/it]"
     ]
    },
    {
     "name": "stdout",
     "output_type": "stream",
     "text": [
      "[LightGBM] [Warning] lambda_l1 is set=1.6568558853289863, reg_alpha=0.0 will be ignored. Current value: lambda_l1=1.6568558853289863\n",
      "[LightGBM] [Warning] bagging_fraction is set=0.8504282163263281, subsample=1.0 will be ignored. Current value: bagging_fraction=0.8504282163263281\n",
      "[LightGBM] [Warning] feature_fraction is set=0.705433568927063, colsample_bytree=1.0 will be ignored. Current value: feature_fraction=0.705433568927063\n",
      "[LightGBM] [Warning] lambda_l2 is set=5.241653664300623, reg_lambda=0.0 will be ignored. Current value: lambda_l2=5.241653664300623\n"
     ]
    },
    {
     "name": "stderr",
     "output_type": "stream",
     "text": [
      "100%|██████████| 100/100 [05:12<00:00,  3.12s/it]\n",
      "100%|██████████| 100/100 [04:15<00:00,  2.56s/it]\n"
     ]
    },
    {
     "data": {
      "text/html": [
       "<div>\n",
       "<style scoped>\n",
       "    .dataframe tbody tr th:only-of-type {\n",
       "        vertical-align: middle;\n",
       "    }\n",
       "\n",
       "    .dataframe tbody tr th {\n",
       "        vertical-align: top;\n",
       "    }\n",
       "\n",
       "    .dataframe thead th {\n",
       "        text-align: right;\n",
       "    }\n",
       "</style>\n",
       "<table border=\"1\" class=\"dataframe\">\n",
       "  <thead>\n",
       "    <tr style=\"text-align: right;\">\n",
       "      <th></th>\n",
       "      <th>ID</th>\n",
       "      <th>Pred</th>\n",
       "    </tr>\n",
       "  </thead>\n",
       "  <tbody>\n",
       "    <tr>\n",
       "      <th>0</th>\n",
       "      <td>2023_1104_1112</td>\n",
       "      <td>0.948612</td>\n",
       "    </tr>\n",
       "    <tr>\n",
       "      <th>1</th>\n",
       "      <td>2023_1104_1113</td>\n",
       "      <td>0.951004</td>\n",
       "    </tr>\n",
       "    <tr>\n",
       "      <th>2</th>\n",
       "      <td>2023_1104_1116</td>\n",
       "      <td>0.950284</td>\n",
       "    </tr>\n",
       "    <tr>\n",
       "      <th>3</th>\n",
       "      <td>2023_1104_1120</td>\n",
       "      <td>0.950387</td>\n",
       "    </tr>\n",
       "    <tr>\n",
       "      <th>4</th>\n",
       "      <td>2023_1104_1124</td>\n",
       "      <td>0.949926</td>\n",
       "    </tr>\n",
       "  </tbody>\n",
       "</table>\n",
       "</div>"
      ],
      "text/plain": [
       "               ID      Pred\n",
       "0  2023_1104_1112  0.948612\n",
       "1  2023_1104_1113  0.951004\n",
       "2  2023_1104_1116  0.950284\n",
       "3  2023_1104_1120  0.950387\n",
       "4  2023_1104_1124  0.949926"
      ]
     },
     "execution_count": 4,
     "metadata": {},
     "output_type": "execute_result"
    }
   ],
   "source": [
    "to_select = ['X1_WinRatio14d',\n",
    "             'X1_PointsMean',\n",
    "             'X1_PointsMedian',\n",
    "             'X1_PointsDiffMean',\n",
    "             'X1_FgaMean',\n",
    "             'X1_FgaMedian',\n",
    "             'X1_FgaMin',\n",
    "             'X1_FgaMax',\n",
    "             'X1_AstMean',\n",
    "             'X1_BlkMean',\n",
    "             'X1_OppFgaMean',\n",
    "             'X1_OppFgaMin',\n",
    "             'X1_EfgpMean',\n",
    "             'X1_PossessionsMean',\n",
    "             'X1_PpmMean',\n",
    "             'X1_FtrMean',\n",
    "             'X1_TopMean',\n",
    "             'X1_DrebpMean',\n",
    "             'X2_WinRatio14d',\n",
    "             'X2_PointsMean',\n",
    "             'X2_PointsMedian',\n",
    "             'X2_PointsDiffMean',\n",
    "             'X2_FgaMean',\n",
    "             'X2_FgaMedian',\n",
    "             'X2_FgaMin',\n",
    "             'X2_FgaMax',\n",
    "             'X2_AstMean',\n",
    "             'X2_BlkMean',\n",
    "             'X2_OppFgaMean',\n",
    "             'X2_OppFgaMin',\n",
    "             'X2_EfgpMean',\n",
    "             'X2_PossessionsMean',\n",
    "             'X2_PpmMean',\n",
    "             'X2_FtrMean',\n",
    "             'X2_TopMean',\n",
    "             'X2_DrebpMean',\n",
    "             'Seed1',\n",
    "             'Seed2',\n",
    "             'SeedDiff',\n",
    "             'quality_march_T1',\n",
    "             'quality_march_T2', \n",
    "             'ResultDiff',\n",
    "             'X1_team_rating',\n",
    "             'X1_rd1_win',\n",
    "             'X1_rd2_win',\n",
    "             'X1_rd3_win',\n",
    "             'X1_rd4_win',\n",
    "             'X1_rd5_win',\n",
    "             'X1_rd6_win',\n",
    "             'X1_rd7_win',\n",
    "             'X2_team_rating',\n",
    "             'X2_rd1_win',\n",
    "             'X2_rd2_win',\n",
    "             'X2_rd3_win',\n",
    "             'X2_rd4_win',\n",
    "             'X2_rd5_win',\n",
    "             'X2_rd6_win',\n",
    "             'X2_rd7_win']\n",
    "\n",
    "X = man_train_2016[to_select]\n",
    "Y = man_train_2016['target']\n",
    "\n",
    "man_test_tour_ID = man_test_tour['ID']\n",
    "man_test_tour = man_test_tour[to_select]\n",
    "\n",
    "#############\n",
    "## XGBoost ##\n",
    "#############\n",
    "\n",
    "xgb_params = pd.read_csv('man_XGB_Phase_2_42_Optuna_Hyperparameters.csv')\n",
    "xgb_preds = list()\n",
    "\n",
    "for i in tqdm(range(100)):\n",
    "\n",
    "    xgb_md = XGBClassifier(tree_method = 'hist', \n",
    "                           max_depth = xgb_params['max_depth'][0],\n",
    "                           learning_rate = xgb_params['learning_rate'][0],\n",
    "                           n_estimators = xgb_params['n_estimators'][0],\n",
    "                           gamma = xgb_params['gamma'][0],\n",
    "                           min_child_weight = xgb_params['min_child_weight'][0],\n",
    "                           colsample_bytree = xgb_params['colsample_bytree'][0],\n",
    "                           subsample = xgb_params['subsample'][0],\n",
    "                           random_state = i).fit(X, Y)\n",
    "\n",
    "    xgb_pred = xgb_md.predict_proba(man_test_tour)[:, 1]\n",
    "    xgb_preds.append(xgb_pred)\n",
    "\n",
    "##############\n",
    "## LightGBM ##\n",
    "##############\n",
    "\n",
    "lgb_params = pd.read_csv('man_LightGBM_Phase_2_42_Optuna_Hyperparameters.csv')\n",
    "lgb_preds = list()\n",
    "\n",
    "for i in tqdm(range(100)):\n",
    "    \n",
    "    lgb_md = LGBMClassifier(boosting_type = 'gbdt', \n",
    "                            n_estimators = lgb_params['n_estimators'][0],\n",
    "                            learning_rate = lgb_params['learning_rate'][0],\n",
    "                            max_depth = lgb_params['max_depth'][0],\n",
    "                            lambda_l1 = lgb_params['lambda_l1'][0],\n",
    "                            lambda_l2 = lgb_params['lambda_l2'][0],\n",
    "                            num_leaves = lgb_params['num_leaves'][0],\n",
    "                            bagging_fraction = lgb_params['bagging_fraction'][0],\n",
    "                            feature_fraction = lgb_params['feature_fraction'][0],\n",
    "                            random_state = i).fit(X, Y)\n",
    "\n",
    "    lgb_pred = lgb_md.predict_proba(man_test_tour)[:, 1]\n",
    "    lgb_preds.append(lgb_pred)\n",
    "\n",
    "##################\n",
    "## HistGradient ##\n",
    "##################\n",
    "\n",
    "hist_params = pd.read_csv('man_Hist_Phase_2_42_Optuna_Hyperparameters.csv')\n",
    "hist_preds = list()\n",
    "\n",
    "for i in tqdm(range(100)):\n",
    "\n",
    "    hist_md = HistGradientBoostingClassifier(l2_regularization = hist_params['l2_regularization'][0],\n",
    "                                             early_stopping = False,\n",
    "                                             learning_rate = hist_params['learning_rate'][0],\n",
    "                                             max_iter = hist_params['max_iter'][0],\n",
    "                                             max_depth = hist_params['max_depth'][0],\n",
    "                                             max_bins = hist_params['max_bins'][0],\n",
    "                                             min_samples_leaf = hist_params['min_samples_leaf'][0],\n",
    "                                             max_leaf_nodes = hist_params['max_leaf_nodes'][0], \n",
    "                                             random_state = i).fit(X, Y)\n",
    "\n",
    "    hist_pred = hist_md.predict_proba(man_test_tour)[:, 1]\n",
    "    hist_preds.append(hist_pred)\n",
    "\n",
    "##############\n",
    "## Ensemble ##\n",
    "##############\n",
    "\n",
    "xgb_pred = pd.DataFrame(xgb_preds).apply(np.mean, axis = 0)\n",
    "lgb_pred = pd.DataFrame(lgb_preds).apply(np.mean, axis = 0)\n",
    "hist_pred = pd.DataFrame(hist_preds).apply(np.mean, axis = 0)\n",
    "\n",
    "ens_pred = (xgb_pred + lgb_pred + hist_pred) / 3\n",
    "man_pred = pd.DataFrame({'ID': man_test_tour_ID, 'Pred': ens_pred})\n",
    "man_pred.head()"
   ]
  },
  {
   "cell_type": "markdown",
   "id": "a67bb910",
   "metadata": {},
   "source": [
    "## Phase 1: Woman"
   ]
  },
  {
   "cell_type": "code",
   "execution_count": null,
   "id": "dc898466",
   "metadata": {},
   "outputs": [
    {
     "name": "stderr",
     "output_type": "stream",
     "text": [
      " 14%|█▍        | 14/100 [00:31<03:17,  2.29s/it]"
     ]
    },
    {
     "name": "stdout",
     "output_type": "stream",
     "text": [
      "[LightGBM] [Warning] lambda_l1 is set=9.27034195631365, reg_alpha=0.0 will be ignored. Current value: lambda_l1=9.27034195631365\n",
      "[LightGBM] [Warning] bagging_fraction is set=0.2077432535958427, subsample=1.0 will be ignored. Current value: bagging_fraction=0.2077432535958427\n",
      "[LightGBM] [Warning] feature_fraction is set=0.3451001288372496, colsample_bytree=1.0 will be ignored. Current value: feature_fraction=0.3451001288372496\n",
      "[LightGBM] [Warning] lambda_l2 is set=1.7560660843788178, reg_lambda=0.0 will be ignored. Current value: lambda_l2=1.7560660843788178\n"
     ]
    },
    {
     "name": "stderr",
     "output_type": "stream",
     "text": [
      " 15%|█▌        | 15/100 [00:33<03:15,  2.30s/it]"
     ]
    },
    {
     "name": "stdout",
     "output_type": "stream",
     "text": [
      "[LightGBM] [Warning] lambda_l1 is set=9.27034195631365, reg_alpha=0.0 will be ignored. Current value: lambda_l1=9.27034195631365\n",
      "[LightGBM] [Warning] bagging_fraction is set=0.2077432535958427, subsample=1.0 will be ignored. Current value: bagging_fraction=0.2077432535958427\n",
      "[LightGBM] [Warning] feature_fraction is set=0.3451001288372496, colsample_bytree=1.0 will be ignored. Current value: feature_fraction=0.3451001288372496\n",
      "[LightGBM] [Warning] lambda_l2 is set=1.7560660843788178, reg_lambda=0.0 will be ignored. Current value: lambda_l2=1.7560660843788178\n"
     ]
    },
    {
     "name": "stderr",
     "output_type": "stream",
     "text": [
      " 16%|█▌        | 16/100 [00:36<03:13,  2.30s/it]"
     ]
    },
    {
     "name": "stdout",
     "output_type": "stream",
     "text": [
      "[LightGBM] [Warning] lambda_l1 is set=9.27034195631365, reg_alpha=0.0 will be ignored. Current value: lambda_l1=9.27034195631365\n",
      "[LightGBM] [Warning] bagging_fraction is set=0.2077432535958427, subsample=1.0 will be ignored. Current value: bagging_fraction=0.2077432535958427\n",
      "[LightGBM] [Warning] feature_fraction is set=0.3451001288372496, colsample_bytree=1.0 will be ignored. Current value: feature_fraction=0.3451001288372496\n",
      "[LightGBM] [Warning] lambda_l2 is set=1.7560660843788178, reg_lambda=0.0 will be ignored. Current value: lambda_l2=1.7560660843788178\n"
     ]
    },
    {
     "name": "stderr",
     "output_type": "stream",
     "text": [
      " 17%|█▋        | 17/100 [00:38<03:11,  2.31s/it]"
     ]
    },
    {
     "name": "stdout",
     "output_type": "stream",
     "text": [
      "[LightGBM] [Warning] lambda_l1 is set=9.27034195631365, reg_alpha=0.0 will be ignored. Current value: lambda_l1=9.27034195631365\n",
      "[LightGBM] [Warning] bagging_fraction is set=0.2077432535958427, subsample=1.0 will be ignored. Current value: bagging_fraction=0.2077432535958427\n",
      "[LightGBM] [Warning] feature_fraction is set=0.3451001288372496, colsample_bytree=1.0 will be ignored. Current value: feature_fraction=0.3451001288372496\n",
      "[LightGBM] [Warning] lambda_l2 is set=1.7560660843788178, reg_lambda=0.0 will be ignored. Current value: lambda_l2=1.7560660843788178\n"
     ]
    },
    {
     "name": "stderr",
     "output_type": "stream",
     "text": [
      " 18%|█▊        | 18/100 [00:40<03:08,  2.29s/it]"
     ]
    },
    {
     "name": "stdout",
     "output_type": "stream",
     "text": [
      "[LightGBM] [Warning] lambda_l1 is set=9.27034195631365, reg_alpha=0.0 will be ignored. Current value: lambda_l1=9.27034195631365\n",
      "[LightGBM] [Warning] bagging_fraction is set=0.2077432535958427, subsample=1.0 will be ignored. Current value: bagging_fraction=0.2077432535958427\n",
      "[LightGBM] [Warning] feature_fraction is set=0.3451001288372496, colsample_bytree=1.0 will be ignored. Current value: feature_fraction=0.3451001288372496\n",
      "[LightGBM] [Warning] lambda_l2 is set=1.7560660843788178, reg_lambda=0.0 will be ignored. Current value: lambda_l2=1.7560660843788178\n"
     ]
    },
    {
     "name": "stderr",
     "output_type": "stream",
     "text": [
      " 19%|█▉        | 19/100 [00:43<03:09,  2.34s/it]"
     ]
    },
    {
     "name": "stdout",
     "output_type": "stream",
     "text": [
      "[LightGBM] [Warning] lambda_l1 is set=9.27034195631365, reg_alpha=0.0 will be ignored. Current value: lambda_l1=9.27034195631365\n",
      "[LightGBM] [Warning] bagging_fraction is set=0.2077432535958427, subsample=1.0 will be ignored. Current value: bagging_fraction=0.2077432535958427\n",
      "[LightGBM] [Warning] feature_fraction is set=0.3451001288372496, colsample_bytree=1.0 will be ignored. Current value: feature_fraction=0.3451001288372496\n",
      "[LightGBM] [Warning] lambda_l2 is set=1.7560660843788178, reg_lambda=0.0 will be ignored. Current value: lambda_l2=1.7560660843788178\n"
     ]
    },
    {
     "name": "stderr",
     "output_type": "stream",
     "text": [
      " 20%|██        | 20/100 [00:45<03:07,  2.34s/it]"
     ]
    },
    {
     "name": "stdout",
     "output_type": "stream",
     "text": [
      "[LightGBM] [Warning] lambda_l1 is set=9.27034195631365, reg_alpha=0.0 will be ignored. Current value: lambda_l1=9.27034195631365\n",
      "[LightGBM] [Warning] bagging_fraction is set=0.2077432535958427, subsample=1.0 will be ignored. Current value: bagging_fraction=0.2077432535958427\n",
      "[LightGBM] [Warning] feature_fraction is set=0.3451001288372496, colsample_bytree=1.0 will be ignored. Current value: feature_fraction=0.3451001288372496\n",
      "[LightGBM] [Warning] lambda_l2 is set=1.7560660843788178, reg_lambda=0.0 will be ignored. Current value: lambda_l2=1.7560660843788178\n"
     ]
    },
    {
     "name": "stderr",
     "output_type": "stream",
     "text": [
      " 21%|██        | 21/100 [00:47<03:02,  2.31s/it]"
     ]
    },
    {
     "name": "stdout",
     "output_type": "stream",
     "text": [
      "[LightGBM] [Warning] lambda_l1 is set=9.27034195631365, reg_alpha=0.0 will be ignored. Current value: lambda_l1=9.27034195631365\n",
      "[LightGBM] [Warning] bagging_fraction is set=0.2077432535958427, subsample=1.0 will be ignored. Current value: bagging_fraction=0.2077432535958427\n",
      "[LightGBM] [Warning] feature_fraction is set=0.3451001288372496, colsample_bytree=1.0 will be ignored. Current value: feature_fraction=0.3451001288372496\n",
      "[LightGBM] [Warning] lambda_l2 is set=1.7560660843788178, reg_lambda=0.0 will be ignored. Current value: lambda_l2=1.7560660843788178\n"
     ]
    },
    {
     "name": "stderr",
     "output_type": "stream",
     "text": [
      " 22%|██▏       | 22/100 [00:49<02:58,  2.29s/it]"
     ]
    },
    {
     "name": "stdout",
     "output_type": "stream",
     "text": [
      "[LightGBM] [Warning] lambda_l1 is set=9.27034195631365, reg_alpha=0.0 will be ignored. Current value: lambda_l1=9.27034195631365\n",
      "[LightGBM] [Warning] bagging_fraction is set=0.2077432535958427, subsample=1.0 will be ignored. Current value: bagging_fraction=0.2077432535958427\n",
      "[LightGBM] [Warning] feature_fraction is set=0.3451001288372496, colsample_bytree=1.0 will be ignored. Current value: feature_fraction=0.3451001288372496\n",
      "[LightGBM] [Warning] lambda_l2 is set=1.7560660843788178, reg_lambda=0.0 will be ignored. Current value: lambda_l2=1.7560660843788178\n"
     ]
    },
    {
     "name": "stderr",
     "output_type": "stream",
     "text": [
      " 23%|██▎       | 23/100 [00:52<02:56,  2.29s/it]"
     ]
    },
    {
     "name": "stdout",
     "output_type": "stream",
     "text": [
      "[LightGBM] [Warning] lambda_l1 is set=9.27034195631365, reg_alpha=0.0 will be ignored. Current value: lambda_l1=9.27034195631365\n",
      "[LightGBM] [Warning] bagging_fraction is set=0.2077432535958427, subsample=1.0 will be ignored. Current value: bagging_fraction=0.2077432535958427\n",
      "[LightGBM] [Warning] feature_fraction is set=0.3451001288372496, colsample_bytree=1.0 will be ignored. Current value: feature_fraction=0.3451001288372496\n",
      "[LightGBM] [Warning] lambda_l2 is set=1.7560660843788178, reg_lambda=0.0 will be ignored. Current value: lambda_l2=1.7560660843788178\n"
     ]
    },
    {
     "name": "stderr",
     "output_type": "stream",
     "text": [
      " 24%|██▍       | 24/100 [00:54<02:53,  2.28s/it]"
     ]
    },
    {
     "name": "stdout",
     "output_type": "stream",
     "text": [
      "[LightGBM] [Warning] lambda_l1 is set=9.27034195631365, reg_alpha=0.0 will be ignored. Current value: lambda_l1=9.27034195631365\n",
      "[LightGBM] [Warning] bagging_fraction is set=0.2077432535958427, subsample=1.0 will be ignored. Current value: bagging_fraction=0.2077432535958427\n",
      "[LightGBM] [Warning] feature_fraction is set=0.3451001288372496, colsample_bytree=1.0 will be ignored. Current value: feature_fraction=0.3451001288372496\n",
      "[LightGBM] [Warning] lambda_l2 is set=1.7560660843788178, reg_lambda=0.0 will be ignored. Current value: lambda_l2=1.7560660843788178\n"
     ]
    },
    {
     "name": "stderr",
     "output_type": "stream",
     "text": [
      " 25%|██▌       | 25/100 [00:56<02:52,  2.30s/it]"
     ]
    },
    {
     "name": "stdout",
     "output_type": "stream",
     "text": [
      "[LightGBM] [Warning] lambda_l1 is set=9.27034195631365, reg_alpha=0.0 will be ignored. Current value: lambda_l1=9.27034195631365\n",
      "[LightGBM] [Warning] bagging_fraction is set=0.2077432535958427, subsample=1.0 will be ignored. Current value: bagging_fraction=0.2077432535958427\n",
      "[LightGBM] [Warning] feature_fraction is set=0.3451001288372496, colsample_bytree=1.0 will be ignored. Current value: feature_fraction=0.3451001288372496\n",
      "[LightGBM] [Warning] lambda_l2 is set=1.7560660843788178, reg_lambda=0.0 will be ignored. Current value: lambda_l2=1.7560660843788178\n"
     ]
    },
    {
     "name": "stderr",
     "output_type": "stream",
     "text": [
      " 26%|██▌       | 26/100 [00:59<02:50,  2.30s/it]"
     ]
    },
    {
     "name": "stdout",
     "output_type": "stream",
     "text": [
      "[LightGBM] [Warning] lambda_l1 is set=9.27034195631365, reg_alpha=0.0 will be ignored. Current value: lambda_l1=9.27034195631365\n",
      "[LightGBM] [Warning] bagging_fraction is set=0.2077432535958427, subsample=1.0 will be ignored. Current value: bagging_fraction=0.2077432535958427\n",
      "[LightGBM] [Warning] feature_fraction is set=0.3451001288372496, colsample_bytree=1.0 will be ignored. Current value: feature_fraction=0.3451001288372496\n",
      "[LightGBM] [Warning] lambda_l2 is set=1.7560660843788178, reg_lambda=0.0 will be ignored. Current value: lambda_l2=1.7560660843788178\n"
     ]
    },
    {
     "name": "stderr",
     "output_type": "stream",
     "text": [
      " 27%|██▋       | 27/100 [01:01<02:50,  2.33s/it]"
     ]
    },
    {
     "name": "stdout",
     "output_type": "stream",
     "text": [
      "[LightGBM] [Warning] lambda_l1 is set=9.27034195631365, reg_alpha=0.0 will be ignored. Current value: lambda_l1=9.27034195631365\n",
      "[LightGBM] [Warning] bagging_fraction is set=0.2077432535958427, subsample=1.0 will be ignored. Current value: bagging_fraction=0.2077432535958427\n",
      "[LightGBM] [Warning] feature_fraction is set=0.3451001288372496, colsample_bytree=1.0 will be ignored. Current value: feature_fraction=0.3451001288372496\n",
      "[LightGBM] [Warning] lambda_l2 is set=1.7560660843788178, reg_lambda=0.0 will be ignored. Current value: lambda_l2=1.7560660843788178\n"
     ]
    },
    {
     "name": "stderr",
     "output_type": "stream",
     "text": [
      " 28%|██▊       | 28/100 [01:03<02:47,  2.32s/it]"
     ]
    },
    {
     "name": "stdout",
     "output_type": "stream",
     "text": [
      "[LightGBM] [Warning] lambda_l1 is set=9.27034195631365, reg_alpha=0.0 will be ignored. Current value: lambda_l1=9.27034195631365\n",
      "[LightGBM] [Warning] bagging_fraction is set=0.2077432535958427, subsample=1.0 will be ignored. Current value: bagging_fraction=0.2077432535958427\n",
      "[LightGBM] [Warning] feature_fraction is set=0.3451001288372496, colsample_bytree=1.0 will be ignored. Current value: feature_fraction=0.3451001288372496\n",
      "[LightGBM] [Warning] lambda_l2 is set=1.7560660843788178, reg_lambda=0.0 will be ignored. Current value: lambda_l2=1.7560660843788178\n"
     ]
    },
    {
     "name": "stderr",
     "output_type": "stream",
     "text": [
      " 29%|██▉       | 29/100 [01:06<02:44,  2.32s/it]"
     ]
    },
    {
     "name": "stdout",
     "output_type": "stream",
     "text": [
      "[LightGBM] [Warning] lambda_l1 is set=9.27034195631365, reg_alpha=0.0 will be ignored. Current value: lambda_l1=9.27034195631365\n",
      "[LightGBM] [Warning] bagging_fraction is set=0.2077432535958427, subsample=1.0 will be ignored. Current value: bagging_fraction=0.2077432535958427\n",
      "[LightGBM] [Warning] feature_fraction is set=0.3451001288372496, colsample_bytree=1.0 will be ignored. Current value: feature_fraction=0.3451001288372496\n",
      "[LightGBM] [Warning] lambda_l2 is set=1.7560660843788178, reg_lambda=0.0 will be ignored. Current value: lambda_l2=1.7560660843788178\n"
     ]
    },
    {
     "name": "stderr",
     "output_type": "stream",
     "text": [
      " 30%|███       | 30/100 [01:08<02:40,  2.30s/it]"
     ]
    },
    {
     "name": "stdout",
     "output_type": "stream",
     "text": [
      "[LightGBM] [Warning] lambda_l1 is set=9.27034195631365, reg_alpha=0.0 will be ignored. Current value: lambda_l1=9.27034195631365\n",
      "[LightGBM] [Warning] bagging_fraction is set=0.2077432535958427, subsample=1.0 will be ignored. Current value: bagging_fraction=0.2077432535958427\n",
      "[LightGBM] [Warning] feature_fraction is set=0.3451001288372496, colsample_bytree=1.0 will be ignored. Current value: feature_fraction=0.3451001288372496\n",
      "[LightGBM] [Warning] lambda_l2 is set=1.7560660843788178, reg_lambda=0.0 will be ignored. Current value: lambda_l2=1.7560660843788178\n"
     ]
    },
    {
     "name": "stderr",
     "output_type": "stream",
     "text": [
      " 31%|███       | 31/100 [01:10<02:37,  2.28s/it]"
     ]
    },
    {
     "name": "stdout",
     "output_type": "stream",
     "text": [
      "[LightGBM] [Warning] lambda_l1 is set=9.27034195631365, reg_alpha=0.0 will be ignored. Current value: lambda_l1=9.27034195631365\n",
      "[LightGBM] [Warning] bagging_fraction is set=0.2077432535958427, subsample=1.0 will be ignored. Current value: bagging_fraction=0.2077432535958427\n",
      "[LightGBM] [Warning] feature_fraction is set=0.3451001288372496, colsample_bytree=1.0 will be ignored. Current value: feature_fraction=0.3451001288372496\n",
      "[LightGBM] [Warning] lambda_l2 is set=1.7560660843788178, reg_lambda=0.0 will be ignored. Current value: lambda_l2=1.7560660843788178\n"
     ]
    },
    {
     "name": "stderr",
     "output_type": "stream",
     "text": [
      " 32%|███▏      | 32/100 [01:12<02:34,  2.27s/it]"
     ]
    },
    {
     "name": "stdout",
     "output_type": "stream",
     "text": [
      "[LightGBM] [Warning] lambda_l1 is set=9.27034195631365, reg_alpha=0.0 will be ignored. Current value: lambda_l1=9.27034195631365\n",
      "[LightGBM] [Warning] bagging_fraction is set=0.2077432535958427, subsample=1.0 will be ignored. Current value: bagging_fraction=0.2077432535958427\n",
      "[LightGBM] [Warning] feature_fraction is set=0.3451001288372496, colsample_bytree=1.0 will be ignored. Current value: feature_fraction=0.3451001288372496\n",
      "[LightGBM] [Warning] lambda_l2 is set=1.7560660843788178, reg_lambda=0.0 will be ignored. Current value: lambda_l2=1.7560660843788178\n"
     ]
    },
    {
     "name": "stderr",
     "output_type": "stream",
     "text": [
      " 33%|███▎      | 33/100 [01:15<02:31,  2.26s/it]"
     ]
    },
    {
     "name": "stdout",
     "output_type": "stream",
     "text": [
      "[LightGBM] [Warning] lambda_l1 is set=9.27034195631365, reg_alpha=0.0 will be ignored. Current value: lambda_l1=9.27034195631365\n",
      "[LightGBM] [Warning] bagging_fraction is set=0.2077432535958427, subsample=1.0 will be ignored. Current value: bagging_fraction=0.2077432535958427\n",
      "[LightGBM] [Warning] feature_fraction is set=0.3451001288372496, colsample_bytree=1.0 will be ignored. Current value: feature_fraction=0.3451001288372496\n",
      "[LightGBM] [Warning] lambda_l2 is set=1.7560660843788178, reg_lambda=0.0 will be ignored. Current value: lambda_l2=1.7560660843788178\n"
     ]
    },
    {
     "name": "stderr",
     "output_type": "stream",
     "text": [
      " 34%|███▍      | 34/100 [01:17<02:28,  2.25s/it]"
     ]
    },
    {
     "name": "stdout",
     "output_type": "stream",
     "text": [
      "[LightGBM] [Warning] lambda_l1 is set=9.27034195631365, reg_alpha=0.0 will be ignored. Current value: lambda_l1=9.27034195631365\n",
      "[LightGBM] [Warning] bagging_fraction is set=0.2077432535958427, subsample=1.0 will be ignored. Current value: bagging_fraction=0.2077432535958427\n",
      "[LightGBM] [Warning] feature_fraction is set=0.3451001288372496, colsample_bytree=1.0 will be ignored. Current value: feature_fraction=0.3451001288372496\n",
      "[LightGBM] [Warning] lambda_l2 is set=1.7560660843788178, reg_lambda=0.0 will be ignored. Current value: lambda_l2=1.7560660843788178\n"
     ]
    },
    {
     "name": "stderr",
     "output_type": "stream",
     "text": [
      " 35%|███▌      | 35/100 [01:19<02:26,  2.25s/it]"
     ]
    },
    {
     "name": "stdout",
     "output_type": "stream",
     "text": [
      "[LightGBM] [Warning] lambda_l1 is set=9.27034195631365, reg_alpha=0.0 will be ignored. Current value: lambda_l1=9.27034195631365\n",
      "[LightGBM] [Warning] bagging_fraction is set=0.2077432535958427, subsample=1.0 will be ignored. Current value: bagging_fraction=0.2077432535958427\n",
      "[LightGBM] [Warning] feature_fraction is set=0.3451001288372496, colsample_bytree=1.0 will be ignored. Current value: feature_fraction=0.3451001288372496\n",
      "[LightGBM] [Warning] lambda_l2 is set=1.7560660843788178, reg_lambda=0.0 will be ignored. Current value: lambda_l2=1.7560660843788178\n"
     ]
    },
    {
     "name": "stderr",
     "output_type": "stream",
     "text": [
      " 36%|███▌      | 36/100 [01:22<02:28,  2.32s/it]"
     ]
    },
    {
     "name": "stdout",
     "output_type": "stream",
     "text": [
      "[LightGBM] [Warning] lambda_l1 is set=9.27034195631365, reg_alpha=0.0 will be ignored. Current value: lambda_l1=9.27034195631365\n",
      "[LightGBM] [Warning] bagging_fraction is set=0.2077432535958427, subsample=1.0 will be ignored. Current value: bagging_fraction=0.2077432535958427\n",
      "[LightGBM] [Warning] feature_fraction is set=0.3451001288372496, colsample_bytree=1.0 will be ignored. Current value: feature_fraction=0.3451001288372496\n",
      "[LightGBM] [Warning] lambda_l2 is set=1.7560660843788178, reg_lambda=0.0 will be ignored. Current value: lambda_l2=1.7560660843788178\n"
     ]
    },
    {
     "name": "stderr",
     "output_type": "stream",
     "text": [
      " 37%|███▋      | 37/100 [01:24<02:29,  2.37s/it]"
     ]
    },
    {
     "name": "stdout",
     "output_type": "stream",
     "text": [
      "[LightGBM] [Warning] lambda_l1 is set=9.27034195631365, reg_alpha=0.0 will be ignored. Current value: lambda_l1=9.27034195631365\n",
      "[LightGBM] [Warning] bagging_fraction is set=0.2077432535958427, subsample=1.0 will be ignored. Current value: bagging_fraction=0.2077432535958427\n",
      "[LightGBM] [Warning] feature_fraction is set=0.3451001288372496, colsample_bytree=1.0 will be ignored. Current value: feature_fraction=0.3451001288372496\n",
      "[LightGBM] [Warning] lambda_l2 is set=1.7560660843788178, reg_lambda=0.0 will be ignored. Current value: lambda_l2=1.7560660843788178\n"
     ]
    },
    {
     "name": "stderr",
     "output_type": "stream",
     "text": [
      " 38%|███▊      | 38/100 [01:27<02:30,  2.43s/it]"
     ]
    },
    {
     "name": "stdout",
     "output_type": "stream",
     "text": [
      "[LightGBM] [Warning] lambda_l1 is set=9.27034195631365, reg_alpha=0.0 will be ignored. Current value: lambda_l1=9.27034195631365\n",
      "[LightGBM] [Warning] bagging_fraction is set=0.2077432535958427, subsample=1.0 will be ignored. Current value: bagging_fraction=0.2077432535958427\n",
      "[LightGBM] [Warning] feature_fraction is set=0.3451001288372496, colsample_bytree=1.0 will be ignored. Current value: feature_fraction=0.3451001288372496\n",
      "[LightGBM] [Warning] lambda_l2 is set=1.7560660843788178, reg_lambda=0.0 will be ignored. Current value: lambda_l2=1.7560660843788178\n"
     ]
    },
    {
     "name": "stderr",
     "output_type": "stream",
     "text": [
      " 39%|███▉      | 39/100 [01:29<02:27,  2.42s/it]"
     ]
    },
    {
     "name": "stdout",
     "output_type": "stream",
     "text": [
      "[LightGBM] [Warning] lambda_l1 is set=9.27034195631365, reg_alpha=0.0 will be ignored. Current value: lambda_l1=9.27034195631365\n",
      "[LightGBM] [Warning] bagging_fraction is set=0.2077432535958427, subsample=1.0 will be ignored. Current value: bagging_fraction=0.2077432535958427\n",
      "[LightGBM] [Warning] feature_fraction is set=0.3451001288372496, colsample_bytree=1.0 will be ignored. Current value: feature_fraction=0.3451001288372496\n",
      "[LightGBM] [Warning] lambda_l2 is set=1.7560660843788178, reg_lambda=0.0 will be ignored. Current value: lambda_l2=1.7560660843788178\n"
     ]
    },
    {
     "name": "stderr",
     "output_type": "stream",
     "text": [
      " 40%|████      | 40/100 [01:32<02:27,  2.46s/it]"
     ]
    },
    {
     "name": "stdout",
     "output_type": "stream",
     "text": [
      "[LightGBM] [Warning] lambda_l1 is set=9.27034195631365, reg_alpha=0.0 will be ignored. Current value: lambda_l1=9.27034195631365\n",
      "[LightGBM] [Warning] bagging_fraction is set=0.2077432535958427, subsample=1.0 will be ignored. Current value: bagging_fraction=0.2077432535958427\n",
      "[LightGBM] [Warning] feature_fraction is set=0.3451001288372496, colsample_bytree=1.0 will be ignored. Current value: feature_fraction=0.3451001288372496\n",
      "[LightGBM] [Warning] lambda_l2 is set=1.7560660843788178, reg_lambda=0.0 will be ignored. Current value: lambda_l2=1.7560660843788178\n"
     ]
    },
    {
     "name": "stderr",
     "output_type": "stream",
     "text": [
      " 41%|████      | 41/100 [01:34<02:24,  2.44s/it]"
     ]
    },
    {
     "name": "stdout",
     "output_type": "stream",
     "text": [
      "[LightGBM] [Warning] lambda_l1 is set=9.27034195631365, reg_alpha=0.0 will be ignored. Current value: lambda_l1=9.27034195631365\n",
      "[LightGBM] [Warning] bagging_fraction is set=0.2077432535958427, subsample=1.0 will be ignored. Current value: bagging_fraction=0.2077432535958427\n",
      "[LightGBM] [Warning] feature_fraction is set=0.3451001288372496, colsample_bytree=1.0 will be ignored. Current value: feature_fraction=0.3451001288372496\n",
      "[LightGBM] [Warning] lambda_l2 is set=1.7560660843788178, reg_lambda=0.0 will be ignored. Current value: lambda_l2=1.7560660843788178\n"
     ]
    },
    {
     "name": "stderr",
     "output_type": "stream",
     "text": [
      " 42%|████▏     | 42/100 [01:37<02:22,  2.46s/it]"
     ]
    },
    {
     "name": "stdout",
     "output_type": "stream",
     "text": [
      "[LightGBM] [Warning] lambda_l1 is set=9.27034195631365, reg_alpha=0.0 will be ignored. Current value: lambda_l1=9.27034195631365\n",
      "[LightGBM] [Warning] bagging_fraction is set=0.2077432535958427, subsample=1.0 will be ignored. Current value: bagging_fraction=0.2077432535958427\n",
      "[LightGBM] [Warning] feature_fraction is set=0.3451001288372496, colsample_bytree=1.0 will be ignored. Current value: feature_fraction=0.3451001288372496\n",
      "[LightGBM] [Warning] lambda_l2 is set=1.7560660843788178, reg_lambda=0.0 will be ignored. Current value: lambda_l2=1.7560660843788178\n"
     ]
    },
    {
     "name": "stderr",
     "output_type": "stream",
     "text": [
      " 43%|████▎     | 43/100 [01:39<02:17,  2.41s/it]"
     ]
    },
    {
     "name": "stdout",
     "output_type": "stream",
     "text": [
      "[LightGBM] [Warning] lambda_l1 is set=9.27034195631365, reg_alpha=0.0 will be ignored. Current value: lambda_l1=9.27034195631365\n",
      "[LightGBM] [Warning] bagging_fraction is set=0.2077432535958427, subsample=1.0 will be ignored. Current value: bagging_fraction=0.2077432535958427\n",
      "[LightGBM] [Warning] feature_fraction is set=0.3451001288372496, colsample_bytree=1.0 will be ignored. Current value: feature_fraction=0.3451001288372496\n",
      "[LightGBM] [Warning] lambda_l2 is set=1.7560660843788178, reg_lambda=0.0 will be ignored. Current value: lambda_l2=1.7560660843788178\n"
     ]
    },
    {
     "name": "stderr",
     "output_type": "stream",
     "text": [
      " 44%|████▍     | 44/100 [01:41<02:13,  2.38s/it]"
     ]
    },
    {
     "name": "stdout",
     "output_type": "stream",
     "text": [
      "[LightGBM] [Warning] lambda_l1 is set=9.27034195631365, reg_alpha=0.0 will be ignored. Current value: lambda_l1=9.27034195631365\n",
      "[LightGBM] [Warning] bagging_fraction is set=0.2077432535958427, subsample=1.0 will be ignored. Current value: bagging_fraction=0.2077432535958427\n",
      "[LightGBM] [Warning] feature_fraction is set=0.3451001288372496, colsample_bytree=1.0 will be ignored. Current value: feature_fraction=0.3451001288372496\n",
      "[LightGBM] [Warning] lambda_l2 is set=1.7560660843788178, reg_lambda=0.0 will be ignored. Current value: lambda_l2=1.7560660843788178\n"
     ]
    },
    {
     "name": "stderr",
     "output_type": "stream",
     "text": [
      " 45%|████▌     | 45/100 [01:43<02:10,  2.37s/it]"
     ]
    },
    {
     "name": "stdout",
     "output_type": "stream",
     "text": [
      "[LightGBM] [Warning] lambda_l1 is set=9.27034195631365, reg_alpha=0.0 will be ignored. Current value: lambda_l1=9.27034195631365\n",
      "[LightGBM] [Warning] bagging_fraction is set=0.2077432535958427, subsample=1.0 will be ignored. Current value: bagging_fraction=0.2077432535958427\n",
      "[LightGBM] [Warning] feature_fraction is set=0.3451001288372496, colsample_bytree=1.0 will be ignored. Current value: feature_fraction=0.3451001288372496\n",
      "[LightGBM] [Warning] lambda_l2 is set=1.7560660843788178, reg_lambda=0.0 will be ignored. Current value: lambda_l2=1.7560660843788178\n"
     ]
    },
    {
     "name": "stderr",
     "output_type": "stream",
     "text": [
      " 46%|████▌     | 46/100 [01:46<02:08,  2.38s/it]"
     ]
    },
    {
     "name": "stdout",
     "output_type": "stream",
     "text": [
      "[LightGBM] [Warning] lambda_l1 is set=9.27034195631365, reg_alpha=0.0 will be ignored. Current value: lambda_l1=9.27034195631365\n",
      "[LightGBM] [Warning] bagging_fraction is set=0.2077432535958427, subsample=1.0 will be ignored. Current value: bagging_fraction=0.2077432535958427\n",
      "[LightGBM] [Warning] feature_fraction is set=0.3451001288372496, colsample_bytree=1.0 will be ignored. Current value: feature_fraction=0.3451001288372496\n",
      "[LightGBM] [Warning] lambda_l2 is set=1.7560660843788178, reg_lambda=0.0 will be ignored. Current value: lambda_l2=1.7560660843788178\n"
     ]
    },
    {
     "name": "stderr",
     "output_type": "stream",
     "text": [
      " 47%|████▋     | 47/100 [01:48<02:03,  2.34s/it]"
     ]
    },
    {
     "name": "stdout",
     "output_type": "stream",
     "text": [
      "[LightGBM] [Warning] lambda_l1 is set=9.27034195631365, reg_alpha=0.0 will be ignored. Current value: lambda_l1=9.27034195631365\n",
      "[LightGBM] [Warning] bagging_fraction is set=0.2077432535958427, subsample=1.0 will be ignored. Current value: bagging_fraction=0.2077432535958427\n",
      "[LightGBM] [Warning] feature_fraction is set=0.3451001288372496, colsample_bytree=1.0 will be ignored. Current value: feature_fraction=0.3451001288372496\n",
      "[LightGBM] [Warning] lambda_l2 is set=1.7560660843788178, reg_lambda=0.0 will be ignored. Current value: lambda_l2=1.7560660843788178\n"
     ]
    },
    {
     "name": "stderr",
     "output_type": "stream",
     "text": [
      " 48%|████▊     | 48/100 [01:50<01:59,  2.31s/it]"
     ]
    },
    {
     "name": "stdout",
     "output_type": "stream",
     "text": [
      "[LightGBM] [Warning] lambda_l1 is set=9.27034195631365, reg_alpha=0.0 will be ignored. Current value: lambda_l1=9.27034195631365\n",
      "[LightGBM] [Warning] bagging_fraction is set=0.2077432535958427, subsample=1.0 will be ignored. Current value: bagging_fraction=0.2077432535958427\n",
      "[LightGBM] [Warning] feature_fraction is set=0.3451001288372496, colsample_bytree=1.0 will be ignored. Current value: feature_fraction=0.3451001288372496\n",
      "[LightGBM] [Warning] lambda_l2 is set=1.7560660843788178, reg_lambda=0.0 will be ignored. Current value: lambda_l2=1.7560660843788178\n"
     ]
    },
    {
     "name": "stderr",
     "output_type": "stream",
     "text": [
      " 49%|████▉     | 49/100 [01:53<01:57,  2.31s/it]"
     ]
    },
    {
     "name": "stdout",
     "output_type": "stream",
     "text": [
      "[LightGBM] [Warning] lambda_l1 is set=9.27034195631365, reg_alpha=0.0 will be ignored. Current value: lambda_l1=9.27034195631365\n",
      "[LightGBM] [Warning] bagging_fraction is set=0.2077432535958427, subsample=1.0 will be ignored. Current value: bagging_fraction=0.2077432535958427\n",
      "[LightGBM] [Warning] feature_fraction is set=0.3451001288372496, colsample_bytree=1.0 will be ignored. Current value: feature_fraction=0.3451001288372496\n",
      "[LightGBM] [Warning] lambda_l2 is set=1.7560660843788178, reg_lambda=0.0 will be ignored. Current value: lambda_l2=1.7560660843788178\n"
     ]
    },
    {
     "name": "stderr",
     "output_type": "stream",
     "text": [
      " 50%|█████     | 50/100 [01:55<01:54,  2.29s/it]"
     ]
    },
    {
     "name": "stdout",
     "output_type": "stream",
     "text": [
      "[LightGBM] [Warning] lambda_l1 is set=9.27034195631365, reg_alpha=0.0 will be ignored. Current value: lambda_l1=9.27034195631365\n",
      "[LightGBM] [Warning] bagging_fraction is set=0.2077432535958427, subsample=1.0 will be ignored. Current value: bagging_fraction=0.2077432535958427\n",
      "[LightGBM] [Warning] feature_fraction is set=0.3451001288372496, colsample_bytree=1.0 will be ignored. Current value: feature_fraction=0.3451001288372496\n",
      "[LightGBM] [Warning] lambda_l2 is set=1.7560660843788178, reg_lambda=0.0 will be ignored. Current value: lambda_l2=1.7560660843788178\n"
     ]
    },
    {
     "name": "stderr",
     "output_type": "stream",
     "text": [
      " 51%|█████     | 51/100 [01:57<01:51,  2.28s/it]"
     ]
    },
    {
     "name": "stdout",
     "output_type": "stream",
     "text": [
      "[LightGBM] [Warning] lambda_l1 is set=9.27034195631365, reg_alpha=0.0 will be ignored. Current value: lambda_l1=9.27034195631365\n",
      "[LightGBM] [Warning] bagging_fraction is set=0.2077432535958427, subsample=1.0 will be ignored. Current value: bagging_fraction=0.2077432535958427\n",
      "[LightGBM] [Warning] feature_fraction is set=0.3451001288372496, colsample_bytree=1.0 will be ignored. Current value: feature_fraction=0.3451001288372496\n",
      "[LightGBM] [Warning] lambda_l2 is set=1.7560660843788178, reg_lambda=0.0 will be ignored. Current value: lambda_l2=1.7560660843788178\n"
     ]
    },
    {
     "name": "stderr",
     "output_type": "stream",
     "text": [
      " 52%|█████▏    | 52/100 [01:59<01:49,  2.28s/it]"
     ]
    },
    {
     "name": "stdout",
     "output_type": "stream",
     "text": [
      "[LightGBM] [Warning] lambda_l1 is set=9.27034195631365, reg_alpha=0.0 will be ignored. Current value: lambda_l1=9.27034195631365\n",
      "[LightGBM] [Warning] bagging_fraction is set=0.2077432535958427, subsample=1.0 will be ignored. Current value: bagging_fraction=0.2077432535958427\n",
      "[LightGBM] [Warning] feature_fraction is set=0.3451001288372496, colsample_bytree=1.0 will be ignored. Current value: feature_fraction=0.3451001288372496\n",
      "[LightGBM] [Warning] lambda_l2 is set=1.7560660843788178, reg_lambda=0.0 will be ignored. Current value: lambda_l2=1.7560660843788178\n"
     ]
    },
    {
     "name": "stderr",
     "output_type": "stream",
     "text": [
      " 53%|█████▎    | 53/100 [02:02<01:47,  2.28s/it]"
     ]
    },
    {
     "name": "stdout",
     "output_type": "stream",
     "text": [
      "[LightGBM] [Warning] lambda_l1 is set=9.27034195631365, reg_alpha=0.0 will be ignored. Current value: lambda_l1=9.27034195631365\n",
      "[LightGBM] [Warning] bagging_fraction is set=0.2077432535958427, subsample=1.0 will be ignored. Current value: bagging_fraction=0.2077432535958427\n",
      "[LightGBM] [Warning] feature_fraction is set=0.3451001288372496, colsample_bytree=1.0 will be ignored. Current value: feature_fraction=0.3451001288372496\n",
      "[LightGBM] [Warning] lambda_l2 is set=1.7560660843788178, reg_lambda=0.0 will be ignored. Current value: lambda_l2=1.7560660843788178\n"
     ]
    },
    {
     "name": "stderr",
     "output_type": "stream",
     "text": [
      " 54%|█████▍    | 54/100 [02:07<02:27,  3.20s/it]"
     ]
    },
    {
     "name": "stdout",
     "output_type": "stream",
     "text": [
      "[LightGBM] [Warning] lambda_l1 is set=9.27034195631365, reg_alpha=0.0 will be ignored. Current value: lambda_l1=9.27034195631365\n",
      "[LightGBM] [Warning] bagging_fraction is set=0.2077432535958427, subsample=1.0 will be ignored. Current value: bagging_fraction=0.2077432535958427\n",
      "[LightGBM] [Warning] feature_fraction is set=0.3451001288372496, colsample_bytree=1.0 will be ignored. Current value: feature_fraction=0.3451001288372496\n",
      "[LightGBM] [Warning] lambda_l2 is set=1.7560660843788178, reg_lambda=0.0 will be ignored. Current value: lambda_l2=1.7560660843788178\n"
     ]
    },
    {
     "name": "stderr",
     "output_type": "stream",
     "text": [
      " 55%|█████▌    | 55/100 [02:14<03:15,  4.35s/it]"
     ]
    },
    {
     "name": "stdout",
     "output_type": "stream",
     "text": [
      "[LightGBM] [Warning] lambda_l1 is set=9.27034195631365, reg_alpha=0.0 will be ignored. Current value: lambda_l1=9.27034195631365\n",
      "[LightGBM] [Warning] bagging_fraction is set=0.2077432535958427, subsample=1.0 will be ignored. Current value: bagging_fraction=0.2077432535958427\n",
      "[LightGBM] [Warning] feature_fraction is set=0.3451001288372496, colsample_bytree=1.0 will be ignored. Current value: feature_fraction=0.3451001288372496\n",
      "[LightGBM] [Warning] lambda_l2 is set=1.7560660843788178, reg_lambda=0.0 will be ignored. Current value: lambda_l2=1.7560660843788178\n"
     ]
    },
    {
     "name": "stderr",
     "output_type": "stream",
     "text": [
      " 56%|█████▌    | 56/100 [02:20<03:37,  4.95s/it]"
     ]
    },
    {
     "name": "stdout",
     "output_type": "stream",
     "text": [
      "[LightGBM] [Warning] lambda_l1 is set=9.27034195631365, reg_alpha=0.0 will be ignored. Current value: lambda_l1=9.27034195631365\n",
      "[LightGBM] [Warning] bagging_fraction is set=0.2077432535958427, subsample=1.0 will be ignored. Current value: bagging_fraction=0.2077432535958427\n",
      "[LightGBM] [Warning] feature_fraction is set=0.3451001288372496, colsample_bytree=1.0 will be ignored. Current value: feature_fraction=0.3451001288372496\n",
      "[LightGBM] [Warning] lambda_l2 is set=1.7560660843788178, reg_lambda=0.0 will be ignored. Current value: lambda_l2=1.7560660843788178\n"
     ]
    },
    {
     "name": "stderr",
     "output_type": "stream",
     "text": [
      " 57%|█████▋    | 57/100 [02:23<02:58,  4.15s/it]"
     ]
    },
    {
     "name": "stdout",
     "output_type": "stream",
     "text": [
      "[LightGBM] [Warning] lambda_l1 is set=9.27034195631365, reg_alpha=0.0 will be ignored. Current value: lambda_l1=9.27034195631365\n",
      "[LightGBM] [Warning] bagging_fraction is set=0.2077432535958427, subsample=1.0 will be ignored. Current value: bagging_fraction=0.2077432535958427\n",
      "[LightGBM] [Warning] feature_fraction is set=0.3451001288372496, colsample_bytree=1.0 will be ignored. Current value: feature_fraction=0.3451001288372496\n",
      "[LightGBM] [Warning] lambda_l2 is set=1.7560660843788178, reg_lambda=0.0 will be ignored. Current value: lambda_l2=1.7560660843788178\n"
     ]
    },
    {
     "name": "stderr",
     "output_type": "stream",
     "text": [
      " 58%|█████▊    | 58/100 [02:25<02:29,  3.55s/it]"
     ]
    },
    {
     "name": "stdout",
     "output_type": "stream",
     "text": [
      "[LightGBM] [Warning] lambda_l1 is set=9.27034195631365, reg_alpha=0.0 will be ignored. Current value: lambda_l1=9.27034195631365\n",
      "[LightGBM] [Warning] bagging_fraction is set=0.2077432535958427, subsample=1.0 will be ignored. Current value: bagging_fraction=0.2077432535958427\n",
      "[LightGBM] [Warning] feature_fraction is set=0.3451001288372496, colsample_bytree=1.0 will be ignored. Current value: feature_fraction=0.3451001288372496\n",
      "[LightGBM] [Warning] lambda_l2 is set=1.7560660843788178, reg_lambda=0.0 will be ignored. Current value: lambda_l2=1.7560660843788178\n"
     ]
    },
    {
     "name": "stderr",
     "output_type": "stream",
     "text": [
      " 59%|█████▉    | 59/100 [02:27<02:08,  3.14s/it]"
     ]
    },
    {
     "name": "stdout",
     "output_type": "stream",
     "text": [
      "[LightGBM] [Warning] lambda_l1 is set=9.27034195631365, reg_alpha=0.0 will be ignored. Current value: lambda_l1=9.27034195631365\n",
      "[LightGBM] [Warning] bagging_fraction is set=0.2077432535958427, subsample=1.0 will be ignored. Current value: bagging_fraction=0.2077432535958427\n",
      "[LightGBM] [Warning] feature_fraction is set=0.3451001288372496, colsample_bytree=1.0 will be ignored. Current value: feature_fraction=0.3451001288372496\n",
      "[LightGBM] [Warning] lambda_l2 is set=1.7560660843788178, reg_lambda=0.0 will be ignored. Current value: lambda_l2=1.7560660843788178\n"
     ]
    },
    {
     "name": "stderr",
     "output_type": "stream",
     "text": [
      " 60%|██████    | 60/100 [02:29<01:54,  2.87s/it]"
     ]
    },
    {
     "name": "stdout",
     "output_type": "stream",
     "text": [
      "[LightGBM] [Warning] lambda_l1 is set=9.27034195631365, reg_alpha=0.0 will be ignored. Current value: lambda_l1=9.27034195631365\n",
      "[LightGBM] [Warning] bagging_fraction is set=0.2077432535958427, subsample=1.0 will be ignored. Current value: bagging_fraction=0.2077432535958427\n",
      "[LightGBM] [Warning] feature_fraction is set=0.3451001288372496, colsample_bytree=1.0 will be ignored. Current value: feature_fraction=0.3451001288372496\n",
      "[LightGBM] [Warning] lambda_l2 is set=1.7560660843788178, reg_lambda=0.0 will be ignored. Current value: lambda_l2=1.7560660843788178\n"
     ]
    },
    {
     "name": "stderr",
     "output_type": "stream",
     "text": [
      " 61%|██████    | 61/100 [02:32<01:46,  2.73s/it]"
     ]
    },
    {
     "name": "stdout",
     "output_type": "stream",
     "text": [
      "[LightGBM] [Warning] lambda_l1 is set=9.27034195631365, reg_alpha=0.0 will be ignored. Current value: lambda_l1=9.27034195631365\n",
      "[LightGBM] [Warning] bagging_fraction is set=0.2077432535958427, subsample=1.0 will be ignored. Current value: bagging_fraction=0.2077432535958427\n",
      "[LightGBM] [Warning] feature_fraction is set=0.3451001288372496, colsample_bytree=1.0 will be ignored. Current value: feature_fraction=0.3451001288372496\n",
      "[LightGBM] [Warning] lambda_l2 is set=1.7560660843788178, reg_lambda=0.0 will be ignored. Current value: lambda_l2=1.7560660843788178\n"
     ]
    },
    {
     "name": "stderr",
     "output_type": "stream",
     "text": [
      " 62%|██████▏   | 62/100 [02:34<01:39,  2.63s/it]"
     ]
    },
    {
     "name": "stdout",
     "output_type": "stream",
     "text": [
      "[LightGBM] [Warning] lambda_l1 is set=9.27034195631365, reg_alpha=0.0 will be ignored. Current value: lambda_l1=9.27034195631365\n",
      "[LightGBM] [Warning] bagging_fraction is set=0.2077432535958427, subsample=1.0 will be ignored. Current value: bagging_fraction=0.2077432535958427\n",
      "[LightGBM] [Warning] feature_fraction is set=0.3451001288372496, colsample_bytree=1.0 will be ignored. Current value: feature_fraction=0.3451001288372496\n",
      "[LightGBM] [Warning] lambda_l2 is set=1.7560660843788178, reg_lambda=0.0 will be ignored. Current value: lambda_l2=1.7560660843788178\n"
     ]
    },
    {
     "name": "stderr",
     "output_type": "stream",
     "text": [
      " 63%|██████▎   | 63/100 [02:37<01:36,  2.60s/it]"
     ]
    },
    {
     "name": "stdout",
     "output_type": "stream",
     "text": [
      "[LightGBM] [Warning] lambda_l1 is set=9.27034195631365, reg_alpha=0.0 will be ignored. Current value: lambda_l1=9.27034195631365\n",
      "[LightGBM] [Warning] bagging_fraction is set=0.2077432535958427, subsample=1.0 will be ignored. Current value: bagging_fraction=0.2077432535958427\n",
      "[LightGBM] [Warning] feature_fraction is set=0.3451001288372496, colsample_bytree=1.0 will be ignored. Current value: feature_fraction=0.3451001288372496\n",
      "[LightGBM] [Warning] lambda_l2 is set=1.7560660843788178, reg_lambda=0.0 will be ignored. Current value: lambda_l2=1.7560660843788178\n"
     ]
    },
    {
     "name": "stderr",
     "output_type": "stream",
     "text": [
      " 64%|██████▍   | 64/100 [02:39<01:31,  2.54s/it]"
     ]
    },
    {
     "name": "stdout",
     "output_type": "stream",
     "text": [
      "[LightGBM] [Warning] lambda_l1 is set=9.27034195631365, reg_alpha=0.0 will be ignored. Current value: lambda_l1=9.27034195631365\n",
      "[LightGBM] [Warning] bagging_fraction is set=0.2077432535958427, subsample=1.0 will be ignored. Current value: bagging_fraction=0.2077432535958427\n",
      "[LightGBM] [Warning] feature_fraction is set=0.3451001288372496, colsample_bytree=1.0 will be ignored. Current value: feature_fraction=0.3451001288372496\n",
      "[LightGBM] [Warning] lambda_l2 is set=1.7560660843788178, reg_lambda=0.0 will be ignored. Current value: lambda_l2=1.7560660843788178\n"
     ]
    },
    {
     "name": "stderr",
     "output_type": "stream",
     "text": [
      " 65%|██████▌   | 65/100 [02:41<01:26,  2.46s/it]"
     ]
    },
    {
     "name": "stdout",
     "output_type": "stream",
     "text": [
      "[LightGBM] [Warning] lambda_l1 is set=9.27034195631365, reg_alpha=0.0 will be ignored. Current value: lambda_l1=9.27034195631365\n",
      "[LightGBM] [Warning] bagging_fraction is set=0.2077432535958427, subsample=1.0 will be ignored. Current value: bagging_fraction=0.2077432535958427\n",
      "[LightGBM] [Warning] feature_fraction is set=0.3451001288372496, colsample_bytree=1.0 will be ignored. Current value: feature_fraction=0.3451001288372496\n",
      "[LightGBM] [Warning] lambda_l2 is set=1.7560660843788178, reg_lambda=0.0 will be ignored. Current value: lambda_l2=1.7560660843788178\n"
     ]
    },
    {
     "name": "stderr",
     "output_type": "stream",
     "text": [
      " 66%|██████▌   | 66/100 [02:44<01:22,  2.42s/it]"
     ]
    },
    {
     "name": "stdout",
     "output_type": "stream",
     "text": [
      "[LightGBM] [Warning] lambda_l1 is set=9.27034195631365, reg_alpha=0.0 will be ignored. Current value: lambda_l1=9.27034195631365\n",
      "[LightGBM] [Warning] bagging_fraction is set=0.2077432535958427, subsample=1.0 will be ignored. Current value: bagging_fraction=0.2077432535958427\n",
      "[LightGBM] [Warning] feature_fraction is set=0.3451001288372496, colsample_bytree=1.0 will be ignored. Current value: feature_fraction=0.3451001288372496\n",
      "[LightGBM] [Warning] lambda_l2 is set=1.7560660843788178, reg_lambda=0.0 will be ignored. Current value: lambda_l2=1.7560660843788178\n"
     ]
    },
    {
     "name": "stderr",
     "output_type": "stream",
     "text": [
      " 67%|██████▋   | 67/100 [02:46<01:18,  2.38s/it]"
     ]
    },
    {
     "name": "stdout",
     "output_type": "stream",
     "text": [
      "[LightGBM] [Warning] lambda_l1 is set=9.27034195631365, reg_alpha=0.0 will be ignored. Current value: lambda_l1=9.27034195631365\n",
      "[LightGBM] [Warning] bagging_fraction is set=0.2077432535958427, subsample=1.0 will be ignored. Current value: bagging_fraction=0.2077432535958427\n",
      "[LightGBM] [Warning] feature_fraction is set=0.3451001288372496, colsample_bytree=1.0 will be ignored. Current value: feature_fraction=0.3451001288372496\n",
      "[LightGBM] [Warning] lambda_l2 is set=1.7560660843788178, reg_lambda=0.0 will be ignored. Current value: lambda_l2=1.7560660843788178\n"
     ]
    },
    {
     "name": "stderr",
     "output_type": "stream",
     "text": [
      " 68%|██████▊   | 68/100 [02:49<01:18,  2.46s/it]"
     ]
    },
    {
     "name": "stdout",
     "output_type": "stream",
     "text": [
      "[LightGBM] [Warning] lambda_l1 is set=9.27034195631365, reg_alpha=0.0 will be ignored. Current value: lambda_l1=9.27034195631365\n",
      "[LightGBM] [Warning] bagging_fraction is set=0.2077432535958427, subsample=1.0 will be ignored. Current value: bagging_fraction=0.2077432535958427\n",
      "[LightGBM] [Warning] feature_fraction is set=0.3451001288372496, colsample_bytree=1.0 will be ignored. Current value: feature_fraction=0.3451001288372496\n",
      "[LightGBM] [Warning] lambda_l2 is set=1.7560660843788178, reg_lambda=0.0 will be ignored. Current value: lambda_l2=1.7560660843788178\n"
     ]
    },
    {
     "name": "stderr",
     "output_type": "stream",
     "text": [
      " 69%|██████▉   | 69/100 [02:51<01:15,  2.44s/it]"
     ]
    },
    {
     "name": "stdout",
     "output_type": "stream",
     "text": [
      "[LightGBM] [Warning] lambda_l1 is set=9.27034195631365, reg_alpha=0.0 will be ignored. Current value: lambda_l1=9.27034195631365\n",
      "[LightGBM] [Warning] bagging_fraction is set=0.2077432535958427, subsample=1.0 will be ignored. Current value: bagging_fraction=0.2077432535958427\n",
      "[LightGBM] [Warning] feature_fraction is set=0.3451001288372496, colsample_bytree=1.0 will be ignored. Current value: feature_fraction=0.3451001288372496\n",
      "[LightGBM] [Warning] lambda_l2 is set=1.7560660843788178, reg_lambda=0.0 will be ignored. Current value: lambda_l2=1.7560660843788178\n"
     ]
    },
    {
     "name": "stderr",
     "output_type": "stream",
     "text": [
      " 70%|███████   | 70/100 [02:53<01:12,  2.40s/it]"
     ]
    },
    {
     "name": "stdout",
     "output_type": "stream",
     "text": [
      "[LightGBM] [Warning] lambda_l1 is set=9.27034195631365, reg_alpha=0.0 will be ignored. Current value: lambda_l1=9.27034195631365\n",
      "[LightGBM] [Warning] bagging_fraction is set=0.2077432535958427, subsample=1.0 will be ignored. Current value: bagging_fraction=0.2077432535958427\n",
      "[LightGBM] [Warning] feature_fraction is set=0.3451001288372496, colsample_bytree=1.0 will be ignored. Current value: feature_fraction=0.3451001288372496\n",
      "[LightGBM] [Warning] lambda_l2 is set=1.7560660843788178, reg_lambda=0.0 will be ignored. Current value: lambda_l2=1.7560660843788178\n"
     ]
    },
    {
     "name": "stderr",
     "output_type": "stream",
     "text": [
      " 71%|███████   | 71/100 [02:56<01:10,  2.43s/it]"
     ]
    },
    {
     "name": "stdout",
     "output_type": "stream",
     "text": [
      "[LightGBM] [Warning] lambda_l1 is set=9.27034195631365, reg_alpha=0.0 will be ignored. Current value: lambda_l1=9.27034195631365\n",
      "[LightGBM] [Warning] bagging_fraction is set=0.2077432535958427, subsample=1.0 will be ignored. Current value: bagging_fraction=0.2077432535958427\n",
      "[LightGBM] [Warning] feature_fraction is set=0.3451001288372496, colsample_bytree=1.0 will be ignored. Current value: feature_fraction=0.3451001288372496\n",
      "[LightGBM] [Warning] lambda_l2 is set=1.7560660843788178, reg_lambda=0.0 will be ignored. Current value: lambda_l2=1.7560660843788178\n"
     ]
    },
    {
     "name": "stderr",
     "output_type": "stream",
     "text": [
      " 72%|███████▏  | 72/100 [02:58<01:06,  2.37s/it]"
     ]
    },
    {
     "name": "stdout",
     "output_type": "stream",
     "text": [
      "[LightGBM] [Warning] lambda_l1 is set=9.27034195631365, reg_alpha=0.0 will be ignored. Current value: lambda_l1=9.27034195631365\n",
      "[LightGBM] [Warning] bagging_fraction is set=0.2077432535958427, subsample=1.0 will be ignored. Current value: bagging_fraction=0.2077432535958427\n",
      "[LightGBM] [Warning] feature_fraction is set=0.3451001288372496, colsample_bytree=1.0 will be ignored. Current value: feature_fraction=0.3451001288372496\n",
      "[LightGBM] [Warning] lambda_l2 is set=1.7560660843788178, reg_lambda=0.0 will be ignored. Current value: lambda_l2=1.7560660843788178\n"
     ]
    },
    {
     "name": "stderr",
     "output_type": "stream",
     "text": [
      " 73%|███████▎  | 73/100 [03:00<01:03,  2.35s/it]"
     ]
    },
    {
     "name": "stdout",
     "output_type": "stream",
     "text": [
      "[LightGBM] [Warning] lambda_l1 is set=9.27034195631365, reg_alpha=0.0 will be ignored. Current value: lambda_l1=9.27034195631365\n",
      "[LightGBM] [Warning] bagging_fraction is set=0.2077432535958427, subsample=1.0 will be ignored. Current value: bagging_fraction=0.2077432535958427\n",
      "[LightGBM] [Warning] feature_fraction is set=0.3451001288372496, colsample_bytree=1.0 will be ignored. Current value: feature_fraction=0.3451001288372496\n",
      "[LightGBM] [Warning] lambda_l2 is set=1.7560660843788178, reg_lambda=0.0 will be ignored. Current value: lambda_l2=1.7560660843788178\n"
     ]
    },
    {
     "name": "stderr",
     "output_type": "stream",
     "text": [
      " 74%|███████▍  | 74/100 [03:03<01:00,  2.32s/it]"
     ]
    },
    {
     "name": "stdout",
     "output_type": "stream",
     "text": [
      "[LightGBM] [Warning] lambda_l1 is set=9.27034195631365, reg_alpha=0.0 will be ignored. Current value: lambda_l1=9.27034195631365\n",
      "[LightGBM] [Warning] bagging_fraction is set=0.2077432535958427, subsample=1.0 will be ignored. Current value: bagging_fraction=0.2077432535958427\n",
      "[LightGBM] [Warning] feature_fraction is set=0.3451001288372496, colsample_bytree=1.0 will be ignored. Current value: feature_fraction=0.3451001288372496\n",
      "[LightGBM] [Warning] lambda_l2 is set=1.7560660843788178, reg_lambda=0.0 will be ignored. Current value: lambda_l2=1.7560660843788178\n"
     ]
    },
    {
     "name": "stderr",
     "output_type": "stream",
     "text": [
      " 75%|███████▌  | 75/100 [03:05<00:57,  2.30s/it]"
     ]
    },
    {
     "name": "stdout",
     "output_type": "stream",
     "text": [
      "[LightGBM] [Warning] lambda_l1 is set=9.27034195631365, reg_alpha=0.0 will be ignored. Current value: lambda_l1=9.27034195631365\n",
      "[LightGBM] [Warning] bagging_fraction is set=0.2077432535958427, subsample=1.0 will be ignored. Current value: bagging_fraction=0.2077432535958427\n",
      "[LightGBM] [Warning] feature_fraction is set=0.3451001288372496, colsample_bytree=1.0 will be ignored. Current value: feature_fraction=0.3451001288372496\n",
      "[LightGBM] [Warning] lambda_l2 is set=1.7560660843788178, reg_lambda=0.0 will be ignored. Current value: lambda_l2=1.7560660843788178\n"
     ]
    },
    {
     "name": "stderr",
     "output_type": "stream",
     "text": [
      " 76%|███████▌  | 76/100 [03:07<00:54,  2.28s/it]"
     ]
    },
    {
     "name": "stdout",
     "output_type": "stream",
     "text": [
      "[LightGBM] [Warning] lambda_l1 is set=9.27034195631365, reg_alpha=0.0 will be ignored. Current value: lambda_l1=9.27034195631365\n",
      "[LightGBM] [Warning] bagging_fraction is set=0.2077432535958427, subsample=1.0 will be ignored. Current value: bagging_fraction=0.2077432535958427\n",
      "[LightGBM] [Warning] feature_fraction is set=0.3451001288372496, colsample_bytree=1.0 will be ignored. Current value: feature_fraction=0.3451001288372496\n",
      "[LightGBM] [Warning] lambda_l2 is set=1.7560660843788178, reg_lambda=0.0 will be ignored. Current value: lambda_l2=1.7560660843788178\n"
     ]
    },
    {
     "name": "stderr",
     "output_type": "stream",
     "text": [
      " 77%|███████▋  | 77/100 [03:09<00:53,  2.32s/it]"
     ]
    },
    {
     "name": "stdout",
     "output_type": "stream",
     "text": [
      "[LightGBM] [Warning] lambda_l1 is set=9.27034195631365, reg_alpha=0.0 will be ignored. Current value: lambda_l1=9.27034195631365\n",
      "[LightGBM] [Warning] bagging_fraction is set=0.2077432535958427, subsample=1.0 will be ignored. Current value: bagging_fraction=0.2077432535958427\n",
      "[LightGBM] [Warning] feature_fraction is set=0.3451001288372496, colsample_bytree=1.0 will be ignored. Current value: feature_fraction=0.3451001288372496\n",
      "[LightGBM] [Warning] lambda_l2 is set=1.7560660843788178, reg_lambda=0.0 will be ignored. Current value: lambda_l2=1.7560660843788178\n"
     ]
    },
    {
     "name": "stderr",
     "output_type": "stream",
     "text": [
      " 78%|███████▊  | 78/100 [03:13<01:01,  2.82s/it]"
     ]
    },
    {
     "name": "stdout",
     "output_type": "stream",
     "text": [
      "[LightGBM] [Warning] lambda_l1 is set=9.27034195631365, reg_alpha=0.0 will be ignored. Current value: lambda_l1=9.27034195631365\n",
      "[LightGBM] [Warning] bagging_fraction is set=0.2077432535958427, subsample=1.0 will be ignored. Current value: bagging_fraction=0.2077432535958427\n",
      "[LightGBM] [Warning] feature_fraction is set=0.3451001288372496, colsample_bytree=1.0 will be ignored. Current value: feature_fraction=0.3451001288372496\n",
      "[LightGBM] [Warning] lambda_l2 is set=1.7560660843788178, reg_lambda=0.0 will be ignored. Current value: lambda_l2=1.7560660843788178\n"
     ]
    },
    {
     "name": "stderr",
     "output_type": "stream",
     "text": [
      " 79%|███████▉  | 79/100 [03:16<00:55,  2.65s/it]"
     ]
    },
    {
     "name": "stdout",
     "output_type": "stream",
     "text": [
      "[LightGBM] [Warning] lambda_l1 is set=9.27034195631365, reg_alpha=0.0 will be ignored. Current value: lambda_l1=9.27034195631365\n",
      "[LightGBM] [Warning] bagging_fraction is set=0.2077432535958427, subsample=1.0 will be ignored. Current value: bagging_fraction=0.2077432535958427\n",
      "[LightGBM] [Warning] feature_fraction is set=0.3451001288372496, colsample_bytree=1.0 will be ignored. Current value: feature_fraction=0.3451001288372496\n",
      "[LightGBM] [Warning] lambda_l2 is set=1.7560660843788178, reg_lambda=0.0 will be ignored. Current value: lambda_l2=1.7560660843788178\n"
     ]
    },
    {
     "name": "stderr",
     "output_type": "stream",
     "text": [
      " 80%|████████  | 80/100 [03:18<00:51,  2.55s/it]"
     ]
    },
    {
     "name": "stdout",
     "output_type": "stream",
     "text": [
      "[LightGBM] [Warning] lambda_l1 is set=9.27034195631365, reg_alpha=0.0 will be ignored. Current value: lambda_l1=9.27034195631365\n",
      "[LightGBM] [Warning] bagging_fraction is set=0.2077432535958427, subsample=1.0 will be ignored. Current value: bagging_fraction=0.2077432535958427\n",
      "[LightGBM] [Warning] feature_fraction is set=0.3451001288372496, colsample_bytree=1.0 will be ignored. Current value: feature_fraction=0.3451001288372496\n",
      "[LightGBM] [Warning] lambda_l2 is set=1.7560660843788178, reg_lambda=0.0 will be ignored. Current value: lambda_l2=1.7560660843788178\n"
     ]
    },
    {
     "name": "stderr",
     "output_type": "stream",
     "text": [
      " 81%|████████  | 81/100 [03:20<00:47,  2.48s/it]"
     ]
    },
    {
     "name": "stdout",
     "output_type": "stream",
     "text": [
      "[LightGBM] [Warning] lambda_l1 is set=9.27034195631365, reg_alpha=0.0 will be ignored. Current value: lambda_l1=9.27034195631365\n",
      "[LightGBM] [Warning] bagging_fraction is set=0.2077432535958427, subsample=1.0 will be ignored. Current value: bagging_fraction=0.2077432535958427\n",
      "[LightGBM] [Warning] feature_fraction is set=0.3451001288372496, colsample_bytree=1.0 will be ignored. Current value: feature_fraction=0.3451001288372496\n",
      "[LightGBM] [Warning] lambda_l2 is set=1.7560660843788178, reg_lambda=0.0 will be ignored. Current value: lambda_l2=1.7560660843788178\n"
     ]
    },
    {
     "name": "stderr",
     "output_type": "stream",
     "text": [
      " 82%|████████▏ | 82/100 [03:23<00:42,  2.38s/it]"
     ]
    },
    {
     "name": "stdout",
     "output_type": "stream",
     "text": [
      "[LightGBM] [Warning] lambda_l1 is set=9.27034195631365, reg_alpha=0.0 will be ignored. Current value: lambda_l1=9.27034195631365\n",
      "[LightGBM] [Warning] bagging_fraction is set=0.2077432535958427, subsample=1.0 will be ignored. Current value: bagging_fraction=0.2077432535958427\n",
      "[LightGBM] [Warning] feature_fraction is set=0.3451001288372496, colsample_bytree=1.0 will be ignored. Current value: feature_fraction=0.3451001288372496\n",
      "[LightGBM] [Warning] lambda_l2 is set=1.7560660843788178, reg_lambda=0.0 will be ignored. Current value: lambda_l2=1.7560660843788178\n"
     ]
    },
    {
     "name": "stderr",
     "output_type": "stream",
     "text": [
      " 83%|████████▎ | 83/100 [03:25<00:39,  2.32s/it]"
     ]
    },
    {
     "name": "stdout",
     "output_type": "stream",
     "text": [
      "[LightGBM] [Warning] lambda_l1 is set=9.27034195631365, reg_alpha=0.0 will be ignored. Current value: lambda_l1=9.27034195631365\n",
      "[LightGBM] [Warning] bagging_fraction is set=0.2077432535958427, subsample=1.0 will be ignored. Current value: bagging_fraction=0.2077432535958427\n",
      "[LightGBM] [Warning] feature_fraction is set=0.3451001288372496, colsample_bytree=1.0 will be ignored. Current value: feature_fraction=0.3451001288372496\n",
      "[LightGBM] [Warning] lambda_l2 is set=1.7560660843788178, reg_lambda=0.0 will be ignored. Current value: lambda_l2=1.7560660843788178\n"
     ]
    },
    {
     "name": "stderr",
     "output_type": "stream",
     "text": [
      " 84%|████████▍ | 84/100 [03:27<00:36,  2.29s/it]"
     ]
    },
    {
     "name": "stdout",
     "output_type": "stream",
     "text": [
      "[LightGBM] [Warning] lambda_l1 is set=9.27034195631365, reg_alpha=0.0 will be ignored. Current value: lambda_l1=9.27034195631365\n",
      "[LightGBM] [Warning] bagging_fraction is set=0.2077432535958427, subsample=1.0 will be ignored. Current value: bagging_fraction=0.2077432535958427\n",
      "[LightGBM] [Warning] feature_fraction is set=0.3451001288372496, colsample_bytree=1.0 will be ignored. Current value: feature_fraction=0.3451001288372496\n",
      "[LightGBM] [Warning] lambda_l2 is set=1.7560660843788178, reg_lambda=0.0 will be ignored. Current value: lambda_l2=1.7560660843788178\n"
     ]
    },
    {
     "name": "stderr",
     "output_type": "stream",
     "text": [
      " 85%|████████▌ | 85/100 [03:29<00:34,  2.27s/it]"
     ]
    },
    {
     "name": "stdout",
     "output_type": "stream",
     "text": [
      "[LightGBM] [Warning] lambda_l1 is set=9.27034195631365, reg_alpha=0.0 will be ignored. Current value: lambda_l1=9.27034195631365\n",
      "[LightGBM] [Warning] bagging_fraction is set=0.2077432535958427, subsample=1.0 will be ignored. Current value: bagging_fraction=0.2077432535958427\n",
      "[LightGBM] [Warning] feature_fraction is set=0.3451001288372496, colsample_bytree=1.0 will be ignored. Current value: feature_fraction=0.3451001288372496\n",
      "[LightGBM] [Warning] lambda_l2 is set=1.7560660843788178, reg_lambda=0.0 will be ignored. Current value: lambda_l2=1.7560660843788178\n"
     ]
    },
    {
     "name": "stderr",
     "output_type": "stream",
     "text": [
      " 86%|████████▌ | 86/100 [03:31<00:31,  2.27s/it]"
     ]
    },
    {
     "name": "stdout",
     "output_type": "stream",
     "text": [
      "[LightGBM] [Warning] lambda_l1 is set=9.27034195631365, reg_alpha=0.0 will be ignored. Current value: lambda_l1=9.27034195631365\n",
      "[LightGBM] [Warning] bagging_fraction is set=0.2077432535958427, subsample=1.0 will be ignored. Current value: bagging_fraction=0.2077432535958427\n",
      "[LightGBM] [Warning] feature_fraction is set=0.3451001288372496, colsample_bytree=1.0 will be ignored. Current value: feature_fraction=0.3451001288372496\n",
      "[LightGBM] [Warning] lambda_l2 is set=1.7560660843788178, reg_lambda=0.0 will be ignored. Current value: lambda_l2=1.7560660843788178\n"
     ]
    },
    {
     "name": "stderr",
     "output_type": "stream",
     "text": [
      " 87%|████████▋ | 87/100 [03:34<00:29,  2.28s/it]"
     ]
    },
    {
     "name": "stdout",
     "output_type": "stream",
     "text": [
      "[LightGBM] [Warning] lambda_l1 is set=9.27034195631365, reg_alpha=0.0 will be ignored. Current value: lambda_l1=9.27034195631365\n",
      "[LightGBM] [Warning] bagging_fraction is set=0.2077432535958427, subsample=1.0 will be ignored. Current value: bagging_fraction=0.2077432535958427\n",
      "[LightGBM] [Warning] feature_fraction is set=0.3451001288372496, colsample_bytree=1.0 will be ignored. Current value: feature_fraction=0.3451001288372496\n",
      "[LightGBM] [Warning] lambda_l2 is set=1.7560660843788178, reg_lambda=0.0 will be ignored. Current value: lambda_l2=1.7560660843788178\n"
     ]
    },
    {
     "name": "stderr",
     "output_type": "stream",
     "text": [
      " 88%|████████▊ | 88/100 [03:36<00:27,  2.27s/it]"
     ]
    },
    {
     "name": "stdout",
     "output_type": "stream",
     "text": [
      "[LightGBM] [Warning] lambda_l1 is set=9.27034195631365, reg_alpha=0.0 will be ignored. Current value: lambda_l1=9.27034195631365\n",
      "[LightGBM] [Warning] bagging_fraction is set=0.2077432535958427, subsample=1.0 will be ignored. Current value: bagging_fraction=0.2077432535958427\n",
      "[LightGBM] [Warning] feature_fraction is set=0.3451001288372496, colsample_bytree=1.0 will be ignored. Current value: feature_fraction=0.3451001288372496\n",
      "[LightGBM] [Warning] lambda_l2 is set=1.7560660843788178, reg_lambda=0.0 will be ignored. Current value: lambda_l2=1.7560660843788178\n"
     ]
    },
    {
     "name": "stderr",
     "output_type": "stream",
     "text": [
      " 89%|████████▉ | 89/100 [03:38<00:24,  2.26s/it]"
     ]
    },
    {
     "name": "stdout",
     "output_type": "stream",
     "text": [
      "[LightGBM] [Warning] lambda_l1 is set=9.27034195631365, reg_alpha=0.0 will be ignored. Current value: lambda_l1=9.27034195631365\n",
      "[LightGBM] [Warning] bagging_fraction is set=0.2077432535958427, subsample=1.0 will be ignored. Current value: bagging_fraction=0.2077432535958427\n",
      "[LightGBM] [Warning] feature_fraction is set=0.3451001288372496, colsample_bytree=1.0 will be ignored. Current value: feature_fraction=0.3451001288372496\n",
      "[LightGBM] [Warning] lambda_l2 is set=1.7560660843788178, reg_lambda=0.0 will be ignored. Current value: lambda_l2=1.7560660843788178\n"
     ]
    },
    {
     "name": "stderr",
     "output_type": "stream",
     "text": [
      " 90%|█████████ | 90/100 [03:40<00:22,  2.26s/it]"
     ]
    },
    {
     "name": "stdout",
     "output_type": "stream",
     "text": [
      "[LightGBM] [Warning] lambda_l1 is set=9.27034195631365, reg_alpha=0.0 will be ignored. Current value: lambda_l1=9.27034195631365\n",
      "[LightGBM] [Warning] bagging_fraction is set=0.2077432535958427, subsample=1.0 will be ignored. Current value: bagging_fraction=0.2077432535958427\n",
      "[LightGBM] [Warning] feature_fraction is set=0.3451001288372496, colsample_bytree=1.0 will be ignored. Current value: feature_fraction=0.3451001288372496\n",
      "[LightGBM] [Warning] lambda_l2 is set=1.7560660843788178, reg_lambda=0.0 will be ignored. Current value: lambda_l2=1.7560660843788178\n"
     ]
    },
    {
     "name": "stderr",
     "output_type": "stream",
     "text": [
      " 91%|█████████ | 91/100 [03:43<00:20,  2.25s/it]"
     ]
    },
    {
     "name": "stdout",
     "output_type": "stream",
     "text": [
      "[LightGBM] [Warning] lambda_l1 is set=9.27034195631365, reg_alpha=0.0 will be ignored. Current value: lambda_l1=9.27034195631365\n",
      "[LightGBM] [Warning] bagging_fraction is set=0.2077432535958427, subsample=1.0 will be ignored. Current value: bagging_fraction=0.2077432535958427\n",
      "[LightGBM] [Warning] feature_fraction is set=0.3451001288372496, colsample_bytree=1.0 will be ignored. Current value: feature_fraction=0.3451001288372496\n",
      "[LightGBM] [Warning] lambda_l2 is set=1.7560660843788178, reg_lambda=0.0 will be ignored. Current value: lambda_l2=1.7560660843788178\n"
     ]
    },
    {
     "name": "stderr",
     "output_type": "stream",
     "text": [
      " 92%|█████████▏| 92/100 [03:45<00:17,  2.25s/it]"
     ]
    },
    {
     "name": "stdout",
     "output_type": "stream",
     "text": [
      "[LightGBM] [Warning] lambda_l1 is set=9.27034195631365, reg_alpha=0.0 will be ignored. Current value: lambda_l1=9.27034195631365\n",
      "[LightGBM] [Warning] bagging_fraction is set=0.2077432535958427, subsample=1.0 will be ignored. Current value: bagging_fraction=0.2077432535958427\n",
      "[LightGBM] [Warning] feature_fraction is set=0.3451001288372496, colsample_bytree=1.0 will be ignored. Current value: feature_fraction=0.3451001288372496\n",
      "[LightGBM] [Warning] lambda_l2 is set=1.7560660843788178, reg_lambda=0.0 will be ignored. Current value: lambda_l2=1.7560660843788178\n"
     ]
    },
    {
     "name": "stderr",
     "output_type": "stream",
     "text": [
      " 93%|█████████▎| 93/100 [03:47<00:15,  2.23s/it]"
     ]
    },
    {
     "name": "stdout",
     "output_type": "stream",
     "text": [
      "[LightGBM] [Warning] lambda_l1 is set=9.27034195631365, reg_alpha=0.0 will be ignored. Current value: lambda_l1=9.27034195631365\n",
      "[LightGBM] [Warning] bagging_fraction is set=0.2077432535958427, subsample=1.0 will be ignored. Current value: bagging_fraction=0.2077432535958427\n",
      "[LightGBM] [Warning] feature_fraction is set=0.3451001288372496, colsample_bytree=1.0 will be ignored. Current value: feature_fraction=0.3451001288372496\n",
      "[LightGBM] [Warning] lambda_l2 is set=1.7560660843788178, reg_lambda=0.0 will be ignored. Current value: lambda_l2=1.7560660843788178\n"
     ]
    },
    {
     "name": "stderr",
     "output_type": "stream",
     "text": [
      " 94%|█████████▍| 94/100 [03:49<00:13,  2.25s/it]"
     ]
    },
    {
     "name": "stdout",
     "output_type": "stream",
     "text": [
      "[LightGBM] [Warning] lambda_l1 is set=9.27034195631365, reg_alpha=0.0 will be ignored. Current value: lambda_l1=9.27034195631365\n",
      "[LightGBM] [Warning] bagging_fraction is set=0.2077432535958427, subsample=1.0 will be ignored. Current value: bagging_fraction=0.2077432535958427\n",
      "[LightGBM] [Warning] feature_fraction is set=0.3451001288372496, colsample_bytree=1.0 will be ignored. Current value: feature_fraction=0.3451001288372496\n",
      "[LightGBM] [Warning] lambda_l2 is set=1.7560660843788178, reg_lambda=0.0 will be ignored. Current value: lambda_l2=1.7560660843788178\n"
     ]
    },
    {
     "name": "stderr",
     "output_type": "stream",
     "text": [
      " 95%|█████████▌| 95/100 [03:52<00:11,  2.27s/it]"
     ]
    },
    {
     "name": "stdout",
     "output_type": "stream",
     "text": [
      "[LightGBM] [Warning] lambda_l1 is set=9.27034195631365, reg_alpha=0.0 will be ignored. Current value: lambda_l1=9.27034195631365\n",
      "[LightGBM] [Warning] bagging_fraction is set=0.2077432535958427, subsample=1.0 will be ignored. Current value: bagging_fraction=0.2077432535958427\n",
      "[LightGBM] [Warning] feature_fraction is set=0.3451001288372496, colsample_bytree=1.0 will be ignored. Current value: feature_fraction=0.3451001288372496\n",
      "[LightGBM] [Warning] lambda_l2 is set=1.7560660843788178, reg_lambda=0.0 will be ignored. Current value: lambda_l2=1.7560660843788178\n"
     ]
    },
    {
     "name": "stderr",
     "output_type": "stream",
     "text": [
      " 96%|█████████▌| 96/100 [03:54<00:09,  2.26s/it]"
     ]
    },
    {
     "name": "stdout",
     "output_type": "stream",
     "text": [
      "[LightGBM] [Warning] lambda_l1 is set=9.27034195631365, reg_alpha=0.0 will be ignored. Current value: lambda_l1=9.27034195631365\n",
      "[LightGBM] [Warning] bagging_fraction is set=0.2077432535958427, subsample=1.0 will be ignored. Current value: bagging_fraction=0.2077432535958427\n",
      "[LightGBM] [Warning] feature_fraction is set=0.3451001288372496, colsample_bytree=1.0 will be ignored. Current value: feature_fraction=0.3451001288372496\n",
      "[LightGBM] [Warning] lambda_l2 is set=1.7560660843788178, reg_lambda=0.0 will be ignored. Current value: lambda_l2=1.7560660843788178\n"
     ]
    },
    {
     "name": "stderr",
     "output_type": "stream",
     "text": [
      " 97%|█████████▋| 97/100 [03:56<00:06,  2.26s/it]"
     ]
    },
    {
     "name": "stdout",
     "output_type": "stream",
     "text": [
      "[LightGBM] [Warning] lambda_l1 is set=9.27034195631365, reg_alpha=0.0 will be ignored. Current value: lambda_l1=9.27034195631365\n",
      "[LightGBM] [Warning] bagging_fraction is set=0.2077432535958427, subsample=1.0 will be ignored. Current value: bagging_fraction=0.2077432535958427\n",
      "[LightGBM] [Warning] feature_fraction is set=0.3451001288372496, colsample_bytree=1.0 will be ignored. Current value: feature_fraction=0.3451001288372496\n",
      "[LightGBM] [Warning] lambda_l2 is set=1.7560660843788178, reg_lambda=0.0 will be ignored. Current value: lambda_l2=1.7560660843788178\n"
     ]
    },
    {
     "name": "stderr",
     "output_type": "stream",
     "text": [
      " 98%|█████████▊| 98/100 [03:58<00:04,  2.25s/it]"
     ]
    },
    {
     "name": "stdout",
     "output_type": "stream",
     "text": [
      "[LightGBM] [Warning] lambda_l1 is set=9.27034195631365, reg_alpha=0.0 will be ignored. Current value: lambda_l1=9.27034195631365\n",
      "[LightGBM] [Warning] bagging_fraction is set=0.2077432535958427, subsample=1.0 will be ignored. Current value: bagging_fraction=0.2077432535958427\n",
      "[LightGBM] [Warning] feature_fraction is set=0.3451001288372496, colsample_bytree=1.0 will be ignored. Current value: feature_fraction=0.3451001288372496\n",
      "[LightGBM] [Warning] lambda_l2 is set=1.7560660843788178, reg_lambda=0.0 will be ignored. Current value: lambda_l2=1.7560660843788178\n"
     ]
    },
    {
     "name": "stderr",
     "output_type": "stream",
     "text": [
      " 99%|█████████▉| 99/100 [04:01<00:02,  2.25s/it]"
     ]
    },
    {
     "name": "stdout",
     "output_type": "stream",
     "text": [
      "[LightGBM] [Warning] lambda_l1 is set=9.27034195631365, reg_alpha=0.0 will be ignored. Current value: lambda_l1=9.27034195631365\n",
      "[LightGBM] [Warning] bagging_fraction is set=0.2077432535958427, subsample=1.0 will be ignored. Current value: bagging_fraction=0.2077432535958427\n",
      "[LightGBM] [Warning] feature_fraction is set=0.3451001288372496, colsample_bytree=1.0 will be ignored. Current value: feature_fraction=0.3451001288372496\n",
      "[LightGBM] [Warning] lambda_l2 is set=1.7560660843788178, reg_lambda=0.0 will be ignored. Current value: lambda_l2=1.7560660843788178\n"
     ]
    },
    {
     "name": "stderr",
     "output_type": "stream",
     "text": [
      "100%|██████████| 100/100 [04:03<00:00,  2.44s/it]\n",
      "100%|██████████| 100/100 [04:55<00:00,  2.96s/it]\n"
     ]
    }
   ],
   "source": [
    "to_select = ['X1_WinRatio14d',\n",
    "             'X1_PointsMean',\n",
    "             'X1_PointsMedian',\n",
    "             'X1_PointsDiffMean',\n",
    "             'X1_FgaMean',\n",
    "             'X1_FgaMedian',\n",
    "             'X1_FgaMin',\n",
    "             'X1_FgaMax',\n",
    "             'X1_AstMean',\n",
    "             'X1_BlkMean',\n",
    "             'X1_OppFgaMean',\n",
    "             'X1_OppFgaMin',\n",
    "             'X1_EfgpMean',\n",
    "             'X1_PossessionsMean',\n",
    "             'X1_PpmMean',\n",
    "             'X1_FtrMean',\n",
    "             'X1_TopMean',\n",
    "             'X1_DrebpMean',\n",
    "             'X2_WinRatio14d',\n",
    "             'X2_PointsMean',\n",
    "             'X2_PointsMedian',\n",
    "             'X2_PointsDiffMean',\n",
    "             'X2_FgaMean',\n",
    "             'X2_FgaMedian',\n",
    "             'X2_FgaMin',\n",
    "             'X2_FgaMax',\n",
    "             'X2_AstMean',\n",
    "             'X2_BlkMean',\n",
    "             'X2_OppFgaMean',\n",
    "             'X2_OppFgaMin',\n",
    "             'X2_EfgpMean',\n",
    "             'X2_PossessionsMean',\n",
    "             'X2_PpmMean',\n",
    "             'X2_FtrMean',\n",
    "             'X2_TopMean',\n",
    "             'X2_DrebpMean',\n",
    "             'Seed1',\n",
    "             'Seed2',\n",
    "             'SeedDiff',\n",
    "             'quality_march_T1',\n",
    "             'quality_march_T2']\n",
    "\n",
    "X = woman_train[to_select]\n",
    "Y = woman_train['ResultDiff']\n",
    "\n",
    "woman_test_tour =  woman_test[~(woman_test['Seed1'].isnull() | woman_test['Seed2'].isnull())].reset_index(drop = True)\n",
    "woman_test_IDS = woman_test_tour['ID'] \n",
    "woman_test_tour = woman_test_tour[to_select]\n",
    "\n",
    "#############\n",
    "## XGBoost ##\n",
    "#############\n",
    "\n",
    "xgb_params = pd.read_csv('woman_XGB_Phase_1_42_Optuna_Hyperparameters.csv')\n",
    "xgb_preds = list()\n",
    "\n",
    "for i in tqdm(range(100)):\n",
    "\n",
    "    xgb_md = XGBRegressor(tree_method = 'hist', \n",
    "                          max_depth = xgb_params['max_depth'][0],\n",
    "                          learning_rate = xgb_params['learning_rate'][0],\n",
    "                          n_estimators = xgb_params['n_estimators'][0],\n",
    "                          gamma = xgb_params['gamma'][0],\n",
    "                          min_child_weight = xgb_params['min_child_weight'][0],\n",
    "                          colsample_bytree = xgb_params['colsample_bytree'][0],\n",
    "                          subsample = xgb_params['subsample'][0],\n",
    "                          random_state = 1).fit(X, Y)\n",
    "\n",
    "    xgb_pred = xgb_md.predict(woman_test_tour)\n",
    "    xgb_preds.append(xgb_pred)\n",
    "    \n",
    "##############\n",
    "## LightGBM ##\n",
    "##############\n",
    "\n",
    "lgb_params = pd.read_csv('woman_LightGBM_Phase_1_42_Optuna_Hyperparameters.csv')\n",
    "lgb_preds = list()\n",
    "\n",
    "for i in tqdm(range(100)):\n",
    "\n",
    "    lgb_md = LGBMRegressor(boosting_type = 'gbdt', \n",
    "                           n_estimators = lgb_params['n_estimators'][0],\n",
    "                           learning_rate = lgb_params['learning_rate'][0],\n",
    "                           max_depth = lgb_params['max_depth'][0],\n",
    "                           lambda_l1 = lgb_params['lambda_l1'][0],\n",
    "                           lambda_l2 = lgb_params['lambda_l2'][0],\n",
    "                           num_leaves = lgb_params['num_leaves'][0],\n",
    "                           bagging_fraction = lgb_params['bagging_fraction'][0],\n",
    "                           feature_fraction = lgb_params['feature_fraction'][0], \n",
    "                           random_state = i).fit(X, Y)\n",
    "\n",
    "    lgb_pred = lgb_md.predict(woman_test_tour)\n",
    "    lgb_preds.append(lgb_pred)\n",
    "    \n",
    "##################\n",
    "## HistGradient ##\n",
    "##################\n",
    "\n",
    "hist_params = pd.read_csv('woman_Hist_Phase_1_42_Optuna_Hyperparameters.csv')\n",
    "hist_preds = list()\n",
    "\n",
    "for i in tqdm(range(100)):\n",
    "\n",
    "    hist_md = HistGradientBoostingRegressor(l2_regularization = hist_params['l2_regularization'][0],\n",
    "                                            early_stopping = False,\n",
    "                                            learning_rate = hist_params['learning_rate'][0],\n",
    "                                            max_iter = hist_params['max_iter'][0],\n",
    "                                            max_depth = hist_params['max_depth'][0],\n",
    "                                            max_bins = hist_params['max_bins'][0],\n",
    "                                            min_samples_leaf = hist_params['min_samples_leaf'][0],\n",
    "                                            max_leaf_nodes = hist_params['max_leaf_nodes'][0],\n",
    "                                            random_state = i).fit(X, Y)\n",
    "\n",
    "    hist_pred = hist_md.predict(woman_test_tour)\n",
    "    hist_preds.append(hist_pred)\n",
    "\n",
    "##############\n",
    "## Ensemble ##\n",
    "##############\n",
    "\n",
    "xgb_pred = pd.DataFrame(xgb_preds).apply(np.mean, axis = 0)\n",
    "lgb_pred = pd.DataFrame(lgb_preds).apply(np.mean, axis = 0)\n",
    "hist_pred = pd.DataFrame(hist_preds).apply(np.mean, axis = 0)\n",
    "\n",
    "ens_pred = (xgb_pred + lgb_pred + hist_pred) / 3\n",
    "woman_test_tour['ResultDiff'] = np.round_(ens_pred, decimals = 0).astype(int)\n",
    "woman_test_tour['ID'] = woman_test_IDS\n",
    "\n",
    "########################\n",
    "## Appending 538 data ##\n",
    "########################\n",
    "\n",
    "data_538 = ['ID',\n",
    "            'X1_team_rating',\n",
    "            'X1_rd1_win',\n",
    "            'X1_rd2_win',\n",
    "            'X1_rd3_win',\n",
    "            'X1_rd4_win',\n",
    "            'X1_rd5_win',\n",
    "            'X1_rd6_win',\n",
    "            'X1_rd7_win',\n",
    "            'X2_team_rating',\n",
    "            'X2_rd1_win',\n",
    "            'X2_rd2_win',\n",
    "            'X2_rd3_win',\n",
    "            'X2_rd4_win',\n",
    "            'X2_rd5_win',\n",
    "            'X2_rd6_win',\n",
    "            'X2_rd7_win']\n",
    "\n",
    "woman_test_538 = woman_test[data_538]\n",
    "woman_test_tour = pd.merge(woman_test_tour, woman_test_538, on = 'ID', how = 'left')"
   ]
  },
  {
   "cell_type": "markdown",
   "id": "c26d1c3e",
   "metadata": {},
   "source": [
    "## Phase 2: Woman"
   ]
  },
  {
   "cell_type": "code",
   "execution_count": null,
   "id": "4904877a",
   "metadata": {},
   "outputs": [
    {
     "name": "stderr",
     "output_type": "stream",
     "text": [
      "100%|██████████| 100/100 [06:36<00:00,  3.96s/it]\n",
      "  0%|          | 0/100 [00:00<?, ?it/s]"
     ]
    },
    {
     "name": "stdout",
     "output_type": "stream",
     "text": [
      "[LightGBM] [Warning] lambda_l1 is set=0.0474587633751369, reg_alpha=0.0 will be ignored. Current value: lambda_l1=0.0474587633751369\n",
      "[LightGBM] [Warning] bagging_fraction is set=0.8976619661127543, subsample=1.0 will be ignored. Current value: bagging_fraction=0.8976619661127543\n",
      "[LightGBM] [Warning] feature_fraction is set=0.6539801342710443, colsample_bytree=1.0 will be ignored. Current value: feature_fraction=0.6539801342710443\n",
      "[LightGBM] [Warning] lambda_l2 is set=0.3422853948073336, reg_lambda=0.0 will be ignored. Current value: lambda_l2=0.3422853948073336\n"
     ]
    },
    {
     "name": "stderr",
     "output_type": "stream",
     "text": [
      "  1%|          | 1/100 [00:01<01:48,  1.10s/it]"
     ]
    },
    {
     "name": "stdout",
     "output_type": "stream",
     "text": [
      "[LightGBM] [Warning] lambda_l1 is set=0.0474587633751369, reg_alpha=0.0 will be ignored. Current value: lambda_l1=0.0474587633751369\n",
      "[LightGBM] [Warning] bagging_fraction is set=0.8976619661127543, subsample=1.0 will be ignored. Current value: bagging_fraction=0.8976619661127543\n",
      "[LightGBM] [Warning] feature_fraction is set=0.6539801342710443, colsample_bytree=1.0 will be ignored. Current value: feature_fraction=0.6539801342710443\n",
      "[LightGBM] [Warning] lambda_l2 is set=0.3422853948073336, reg_lambda=0.0 will be ignored. Current value: lambda_l2=0.3422853948073336\n"
     ]
    },
    {
     "name": "stderr",
     "output_type": "stream",
     "text": [
      "  2%|▏         | 2/100 [00:02<01:40,  1.03s/it]"
     ]
    },
    {
     "name": "stdout",
     "output_type": "stream",
     "text": [
      "[LightGBM] [Warning] lambda_l1 is set=0.0474587633751369, reg_alpha=0.0 will be ignored. Current value: lambda_l1=0.0474587633751369\n",
      "[LightGBM] [Warning] bagging_fraction is set=0.8976619661127543, subsample=1.0 will be ignored. Current value: bagging_fraction=0.8976619661127543\n",
      "[LightGBM] [Warning] feature_fraction is set=0.6539801342710443, colsample_bytree=1.0 will be ignored. Current value: feature_fraction=0.6539801342710443\n",
      "[LightGBM] [Warning] lambda_l2 is set=0.3422853948073336, reg_lambda=0.0 will be ignored. Current value: lambda_l2=0.3422853948073336\n"
     ]
    },
    {
     "name": "stderr",
     "output_type": "stream",
     "text": [
      "  3%|▎         | 3/100 [00:03<01:36,  1.00it/s]"
     ]
    },
    {
     "name": "stdout",
     "output_type": "stream",
     "text": [
      "[LightGBM] [Warning] lambda_l1 is set=0.0474587633751369, reg_alpha=0.0 will be ignored. Current value: lambda_l1=0.0474587633751369\n",
      "[LightGBM] [Warning] bagging_fraction is set=0.8976619661127543, subsample=1.0 will be ignored. Current value: bagging_fraction=0.8976619661127543\n",
      "[LightGBM] [Warning] feature_fraction is set=0.6539801342710443, colsample_bytree=1.0 will be ignored. Current value: feature_fraction=0.6539801342710443\n",
      "[LightGBM] [Warning] lambda_l2 is set=0.3422853948073336, reg_lambda=0.0 will be ignored. Current value: lambda_l2=0.3422853948073336\n"
     ]
    },
    {
     "name": "stderr",
     "output_type": "stream",
     "text": [
      "  4%|▍         | 4/100 [00:04<01:36,  1.01s/it]"
     ]
    },
    {
     "name": "stdout",
     "output_type": "stream",
     "text": [
      "[LightGBM] [Warning] lambda_l1 is set=0.0474587633751369, reg_alpha=0.0 will be ignored. Current value: lambda_l1=0.0474587633751369\n",
      "[LightGBM] [Warning] bagging_fraction is set=0.8976619661127543, subsample=1.0 will be ignored. Current value: bagging_fraction=0.8976619661127543\n",
      "[LightGBM] [Warning] feature_fraction is set=0.6539801342710443, colsample_bytree=1.0 will be ignored. Current value: feature_fraction=0.6539801342710443\n",
      "[LightGBM] [Warning] lambda_l2 is set=0.3422853948073336, reg_lambda=0.0 will be ignored. Current value: lambda_l2=0.3422853948073336\n"
     ]
    },
    {
     "name": "stderr",
     "output_type": "stream",
     "text": [
      "  5%|▌         | 5/100 [00:05<01:34,  1.00it/s]"
     ]
    },
    {
     "name": "stdout",
     "output_type": "stream",
     "text": [
      "[LightGBM] [Warning] lambda_l1 is set=0.0474587633751369, reg_alpha=0.0 will be ignored. Current value: lambda_l1=0.0474587633751369\n",
      "[LightGBM] [Warning] bagging_fraction is set=0.8976619661127543, subsample=1.0 will be ignored. Current value: bagging_fraction=0.8976619661127543\n",
      "[LightGBM] [Warning] feature_fraction is set=0.6539801342710443, colsample_bytree=1.0 will be ignored. Current value: feature_fraction=0.6539801342710443\n",
      "[LightGBM] [Warning] lambda_l2 is set=0.3422853948073336, reg_lambda=0.0 will be ignored. Current value: lambda_l2=0.3422853948073336\n"
     ]
    },
    {
     "name": "stderr",
     "output_type": "stream",
     "text": [
      "  6%|▌         | 6/100 [00:06<01:35,  1.01s/it]"
     ]
    },
    {
     "name": "stdout",
     "output_type": "stream",
     "text": [
      "[LightGBM] [Warning] lambda_l1 is set=0.0474587633751369, reg_alpha=0.0 will be ignored. Current value: lambda_l1=0.0474587633751369\n",
      "[LightGBM] [Warning] bagging_fraction is set=0.8976619661127543, subsample=1.0 will be ignored. Current value: bagging_fraction=0.8976619661127543\n",
      "[LightGBM] [Warning] feature_fraction is set=0.6539801342710443, colsample_bytree=1.0 will be ignored. Current value: feature_fraction=0.6539801342710443\n",
      "[LightGBM] [Warning] lambda_l2 is set=0.3422853948073336, reg_lambda=0.0 will be ignored. Current value: lambda_l2=0.3422853948073336\n"
     ]
    },
    {
     "name": "stderr",
     "output_type": "stream",
     "text": [
      "  7%|▋         | 7/100 [00:07<01:34,  1.02s/it]"
     ]
    },
    {
     "name": "stdout",
     "output_type": "stream",
     "text": [
      "[LightGBM] [Warning] lambda_l1 is set=0.0474587633751369, reg_alpha=0.0 will be ignored. Current value: lambda_l1=0.0474587633751369\n",
      "[LightGBM] [Warning] bagging_fraction is set=0.8976619661127543, subsample=1.0 will be ignored. Current value: bagging_fraction=0.8976619661127543\n",
      "[LightGBM] [Warning] feature_fraction is set=0.6539801342710443, colsample_bytree=1.0 will be ignored. Current value: feature_fraction=0.6539801342710443\n",
      "[LightGBM] [Warning] lambda_l2 is set=0.3422853948073336, reg_lambda=0.0 will be ignored. Current value: lambda_l2=0.3422853948073336\n"
     ]
    },
    {
     "name": "stderr",
     "output_type": "stream",
     "text": [
      "  8%|▊         | 8/100 [00:08<01:34,  1.02s/it]"
     ]
    },
    {
     "name": "stdout",
     "output_type": "stream",
     "text": [
      "[LightGBM] [Warning] lambda_l1 is set=0.0474587633751369, reg_alpha=0.0 will be ignored. Current value: lambda_l1=0.0474587633751369\n",
      "[LightGBM] [Warning] bagging_fraction is set=0.8976619661127543, subsample=1.0 will be ignored. Current value: bagging_fraction=0.8976619661127543\n",
      "[LightGBM] [Warning] feature_fraction is set=0.6539801342710443, colsample_bytree=1.0 will be ignored. Current value: feature_fraction=0.6539801342710443\n",
      "[LightGBM] [Warning] lambda_l2 is set=0.3422853948073336, reg_lambda=0.0 will be ignored. Current value: lambda_l2=0.3422853948073336\n"
     ]
    },
    {
     "name": "stderr",
     "output_type": "stream",
     "text": [
      "  9%|▉         | 9/100 [00:09<01:31,  1.01s/it]"
     ]
    },
    {
     "name": "stdout",
     "output_type": "stream",
     "text": [
      "[LightGBM] [Warning] lambda_l1 is set=0.0474587633751369, reg_alpha=0.0 will be ignored. Current value: lambda_l1=0.0474587633751369\n",
      "[LightGBM] [Warning] bagging_fraction is set=0.8976619661127543, subsample=1.0 will be ignored. Current value: bagging_fraction=0.8976619661127543\n",
      "[LightGBM] [Warning] feature_fraction is set=0.6539801342710443, colsample_bytree=1.0 will be ignored. Current value: feature_fraction=0.6539801342710443\n",
      "[LightGBM] [Warning] lambda_l2 is set=0.3422853948073336, reg_lambda=0.0 will be ignored. Current value: lambda_l2=0.3422853948073336\n"
     ]
    },
    {
     "name": "stderr",
     "output_type": "stream",
     "text": [
      " 10%|█         | 10/100 [00:10<01:31,  1.02s/it]"
     ]
    },
    {
     "name": "stdout",
     "output_type": "stream",
     "text": [
      "[LightGBM] [Warning] lambda_l1 is set=0.0474587633751369, reg_alpha=0.0 will be ignored. Current value: lambda_l1=0.0474587633751369\n",
      "[LightGBM] [Warning] bagging_fraction is set=0.8976619661127543, subsample=1.0 will be ignored. Current value: bagging_fraction=0.8976619661127543\n",
      "[LightGBM] [Warning] feature_fraction is set=0.6539801342710443, colsample_bytree=1.0 will be ignored. Current value: feature_fraction=0.6539801342710443\n",
      "[LightGBM] [Warning] lambda_l2 is set=0.3422853948073336, reg_lambda=0.0 will be ignored. Current value: lambda_l2=0.3422853948073336\n"
     ]
    },
    {
     "name": "stderr",
     "output_type": "stream",
     "text": [
      " 11%|█         | 11/100 [00:11<01:30,  1.02s/it]"
     ]
    },
    {
     "name": "stdout",
     "output_type": "stream",
     "text": [
      "[LightGBM] [Warning] lambda_l1 is set=0.0474587633751369, reg_alpha=0.0 will be ignored. Current value: lambda_l1=0.0474587633751369\n",
      "[LightGBM] [Warning] bagging_fraction is set=0.8976619661127543, subsample=1.0 will be ignored. Current value: bagging_fraction=0.8976619661127543\n",
      "[LightGBM] [Warning] feature_fraction is set=0.6539801342710443, colsample_bytree=1.0 will be ignored. Current value: feature_fraction=0.6539801342710443\n",
      "[LightGBM] [Warning] lambda_l2 is set=0.3422853948073336, reg_lambda=0.0 will be ignored. Current value: lambda_l2=0.3422853948073336\n"
     ]
    },
    {
     "name": "stderr",
     "output_type": "stream",
     "text": [
      " 12%|█▏        | 12/100 [00:12<01:28,  1.00s/it]"
     ]
    },
    {
     "name": "stdout",
     "output_type": "stream",
     "text": [
      "[LightGBM] [Warning] lambda_l1 is set=0.0474587633751369, reg_alpha=0.0 will be ignored. Current value: lambda_l1=0.0474587633751369\n",
      "[LightGBM] [Warning] bagging_fraction is set=0.8976619661127543, subsample=1.0 will be ignored. Current value: bagging_fraction=0.8976619661127543\n",
      "[LightGBM] [Warning] feature_fraction is set=0.6539801342710443, colsample_bytree=1.0 will be ignored. Current value: feature_fraction=0.6539801342710443\n",
      "[LightGBM] [Warning] lambda_l2 is set=0.3422853948073336, reg_lambda=0.0 will be ignored. Current value: lambda_l2=0.3422853948073336\n"
     ]
    },
    {
     "name": "stderr",
     "output_type": "stream",
     "text": [
      " 13%|█▎        | 13/100 [00:13<01:26,  1.01it/s]"
     ]
    },
    {
     "name": "stdout",
     "output_type": "stream",
     "text": [
      "[LightGBM] [Warning] lambda_l1 is set=0.0474587633751369, reg_alpha=0.0 will be ignored. Current value: lambda_l1=0.0474587633751369\n",
      "[LightGBM] [Warning] bagging_fraction is set=0.8976619661127543, subsample=1.0 will be ignored. Current value: bagging_fraction=0.8976619661127543\n",
      "[LightGBM] [Warning] feature_fraction is set=0.6539801342710443, colsample_bytree=1.0 will be ignored. Current value: feature_fraction=0.6539801342710443\n",
      "[LightGBM] [Warning] lambda_l2 is set=0.3422853948073336, reg_lambda=0.0 will be ignored. Current value: lambda_l2=0.3422853948073336\n"
     ]
    },
    {
     "name": "stderr",
     "output_type": "stream",
     "text": [
      " 14%|█▍        | 14/100 [00:14<01:26,  1.01s/it]"
     ]
    },
    {
     "name": "stdout",
     "output_type": "stream",
     "text": [
      "[LightGBM] [Warning] lambda_l1 is set=0.0474587633751369, reg_alpha=0.0 will be ignored. Current value: lambda_l1=0.0474587633751369\n",
      "[LightGBM] [Warning] bagging_fraction is set=0.8976619661127543, subsample=1.0 will be ignored. Current value: bagging_fraction=0.8976619661127543\n",
      "[LightGBM] [Warning] feature_fraction is set=0.6539801342710443, colsample_bytree=1.0 will be ignored. Current value: feature_fraction=0.6539801342710443\n",
      "[LightGBM] [Warning] lambda_l2 is set=0.3422853948073336, reg_lambda=0.0 will be ignored. Current value: lambda_l2=0.3422853948073336\n"
     ]
    },
    {
     "name": "stderr",
     "output_type": "stream",
     "text": [
      " 15%|█▌        | 15/100 [00:15<01:26,  1.01s/it]"
     ]
    },
    {
     "name": "stdout",
     "output_type": "stream",
     "text": [
      "[LightGBM] [Warning] lambda_l1 is set=0.0474587633751369, reg_alpha=0.0 will be ignored. Current value: lambda_l1=0.0474587633751369\n",
      "[LightGBM] [Warning] bagging_fraction is set=0.8976619661127543, subsample=1.0 will be ignored. Current value: bagging_fraction=0.8976619661127543\n",
      "[LightGBM] [Warning] feature_fraction is set=0.6539801342710443, colsample_bytree=1.0 will be ignored. Current value: feature_fraction=0.6539801342710443\n",
      "[LightGBM] [Warning] lambda_l2 is set=0.3422853948073336, reg_lambda=0.0 will be ignored. Current value: lambda_l2=0.3422853948073336\n"
     ]
    },
    {
     "name": "stderr",
     "output_type": "stream",
     "text": [
      " 16%|█▌        | 16/100 [00:16<01:25,  1.02s/it]"
     ]
    },
    {
     "name": "stdout",
     "output_type": "stream",
     "text": [
      "[LightGBM] [Warning] lambda_l1 is set=0.0474587633751369, reg_alpha=0.0 will be ignored. Current value: lambda_l1=0.0474587633751369\n",
      "[LightGBM] [Warning] bagging_fraction is set=0.8976619661127543, subsample=1.0 will be ignored. Current value: bagging_fraction=0.8976619661127543\n",
      "[LightGBM] [Warning] feature_fraction is set=0.6539801342710443, colsample_bytree=1.0 will be ignored. Current value: feature_fraction=0.6539801342710443\n",
      "[LightGBM] [Warning] lambda_l2 is set=0.3422853948073336, reg_lambda=0.0 will be ignored. Current value: lambda_l2=0.3422853948073336\n"
     ]
    },
    {
     "name": "stderr",
     "output_type": "stream",
     "text": [
      " 17%|█▋        | 17/100 [00:17<01:23,  1.01s/it]"
     ]
    },
    {
     "name": "stdout",
     "output_type": "stream",
     "text": [
      "[LightGBM] [Warning] lambda_l1 is set=0.0474587633751369, reg_alpha=0.0 will be ignored. Current value: lambda_l1=0.0474587633751369\n",
      "[LightGBM] [Warning] bagging_fraction is set=0.8976619661127543, subsample=1.0 will be ignored. Current value: bagging_fraction=0.8976619661127543\n",
      "[LightGBM] [Warning] feature_fraction is set=0.6539801342710443, colsample_bytree=1.0 will be ignored. Current value: feature_fraction=0.6539801342710443\n",
      "[LightGBM] [Warning] lambda_l2 is set=0.3422853948073336, reg_lambda=0.0 will be ignored. Current value: lambda_l2=0.3422853948073336\n"
     ]
    },
    {
     "name": "stderr",
     "output_type": "stream",
     "text": [
      " 18%|█▊        | 18/100 [00:18<01:23,  1.01s/it]"
     ]
    },
    {
     "name": "stdout",
     "output_type": "stream",
     "text": [
      "[LightGBM] [Warning] lambda_l1 is set=0.0474587633751369, reg_alpha=0.0 will be ignored. Current value: lambda_l1=0.0474587633751369\n",
      "[LightGBM] [Warning] bagging_fraction is set=0.8976619661127543, subsample=1.0 will be ignored. Current value: bagging_fraction=0.8976619661127543\n",
      "[LightGBM] [Warning] feature_fraction is set=0.6539801342710443, colsample_bytree=1.0 will be ignored. Current value: feature_fraction=0.6539801342710443\n",
      "[LightGBM] [Warning] lambda_l2 is set=0.3422853948073336, reg_lambda=0.0 will be ignored. Current value: lambda_l2=0.3422853948073336\n"
     ]
    },
    {
     "name": "stderr",
     "output_type": "stream",
     "text": [
      " 19%|█▉        | 19/100 [00:19<01:21,  1.00s/it]"
     ]
    },
    {
     "name": "stdout",
     "output_type": "stream",
     "text": [
      "[LightGBM] [Warning] lambda_l1 is set=0.0474587633751369, reg_alpha=0.0 will be ignored. Current value: lambda_l1=0.0474587633751369\n",
      "[LightGBM] [Warning] bagging_fraction is set=0.8976619661127543, subsample=1.0 will be ignored. Current value: bagging_fraction=0.8976619661127543\n",
      "[LightGBM] [Warning] feature_fraction is set=0.6539801342710443, colsample_bytree=1.0 will be ignored. Current value: feature_fraction=0.6539801342710443\n",
      "[LightGBM] [Warning] lambda_l2 is set=0.3422853948073336, reg_lambda=0.0 will be ignored. Current value: lambda_l2=0.3422853948073336\n"
     ]
    },
    {
     "name": "stderr",
     "output_type": "stream",
     "text": [
      " 20%|██        | 20/100 [00:20<01:18,  1.01it/s]"
     ]
    },
    {
     "name": "stdout",
     "output_type": "stream",
     "text": [
      "[LightGBM] [Warning] lambda_l1 is set=0.0474587633751369, reg_alpha=0.0 will be ignored. Current value: lambda_l1=0.0474587633751369\n",
      "[LightGBM] [Warning] bagging_fraction is set=0.8976619661127543, subsample=1.0 will be ignored. Current value: bagging_fraction=0.8976619661127543\n",
      "[LightGBM] [Warning] feature_fraction is set=0.6539801342710443, colsample_bytree=1.0 will be ignored. Current value: feature_fraction=0.6539801342710443\n",
      "[LightGBM] [Warning] lambda_l2 is set=0.3422853948073336, reg_lambda=0.0 will be ignored. Current value: lambda_l2=0.3422853948073336\n"
     ]
    },
    {
     "name": "stderr",
     "output_type": "stream",
     "text": [
      " 21%|██        | 21/100 [00:21<01:19,  1.00s/it]"
     ]
    },
    {
     "name": "stdout",
     "output_type": "stream",
     "text": [
      "[LightGBM] [Warning] lambda_l1 is set=0.0474587633751369, reg_alpha=0.0 will be ignored. Current value: lambda_l1=0.0474587633751369\n",
      "[LightGBM] [Warning] bagging_fraction is set=0.8976619661127543, subsample=1.0 will be ignored. Current value: bagging_fraction=0.8976619661127543\n",
      "[LightGBM] [Warning] feature_fraction is set=0.6539801342710443, colsample_bytree=1.0 will be ignored. Current value: feature_fraction=0.6539801342710443\n",
      "[LightGBM] [Warning] lambda_l2 is set=0.3422853948073336, reg_lambda=0.0 will be ignored. Current value: lambda_l2=0.3422853948073336\n"
     ]
    },
    {
     "name": "stderr",
     "output_type": "stream",
     "text": [
      " 22%|██▏       | 22/100 [00:22<01:17,  1.01it/s]"
     ]
    },
    {
     "name": "stdout",
     "output_type": "stream",
     "text": [
      "[LightGBM] [Warning] lambda_l1 is set=0.0474587633751369, reg_alpha=0.0 will be ignored. Current value: lambda_l1=0.0474587633751369\n",
      "[LightGBM] [Warning] bagging_fraction is set=0.8976619661127543, subsample=1.0 will be ignored. Current value: bagging_fraction=0.8976619661127543\n",
      "[LightGBM] [Warning] feature_fraction is set=0.6539801342710443, colsample_bytree=1.0 will be ignored. Current value: feature_fraction=0.6539801342710443\n",
      "[LightGBM] [Warning] lambda_l2 is set=0.3422853948073336, reg_lambda=0.0 will be ignored. Current value: lambda_l2=0.3422853948073336\n"
     ]
    },
    {
     "name": "stderr",
     "output_type": "stream",
     "text": [
      " 23%|██▎       | 23/100 [00:23<01:15,  1.02it/s]"
     ]
    },
    {
     "name": "stdout",
     "output_type": "stream",
     "text": [
      "[LightGBM] [Warning] lambda_l1 is set=0.0474587633751369, reg_alpha=0.0 will be ignored. Current value: lambda_l1=0.0474587633751369\n",
      "[LightGBM] [Warning] bagging_fraction is set=0.8976619661127543, subsample=1.0 will be ignored. Current value: bagging_fraction=0.8976619661127543\n",
      "[LightGBM] [Warning] feature_fraction is set=0.6539801342710443, colsample_bytree=1.0 will be ignored. Current value: feature_fraction=0.6539801342710443\n",
      "[LightGBM] [Warning] lambda_l2 is set=0.3422853948073336, reg_lambda=0.0 will be ignored. Current value: lambda_l2=0.3422853948073336\n"
     ]
    },
    {
     "name": "stderr",
     "output_type": "stream",
     "text": [
      " 24%|██▍       | 24/100 [00:24<01:14,  1.02it/s]"
     ]
    },
    {
     "name": "stdout",
     "output_type": "stream",
     "text": [
      "[LightGBM] [Warning] lambda_l1 is set=0.0474587633751369, reg_alpha=0.0 will be ignored. Current value: lambda_l1=0.0474587633751369\n",
      "[LightGBM] [Warning] bagging_fraction is set=0.8976619661127543, subsample=1.0 will be ignored. Current value: bagging_fraction=0.8976619661127543\n",
      "[LightGBM] [Warning] feature_fraction is set=0.6539801342710443, colsample_bytree=1.0 will be ignored. Current value: feature_fraction=0.6539801342710443\n",
      "[LightGBM] [Warning] lambda_l2 is set=0.3422853948073336, reg_lambda=0.0 will be ignored. Current value: lambda_l2=0.3422853948073336\n"
     ]
    },
    {
     "name": "stderr",
     "output_type": "stream",
     "text": [
      " 25%|██▌       | 25/100 [00:25<01:14,  1.01it/s]"
     ]
    },
    {
     "name": "stdout",
     "output_type": "stream",
     "text": [
      "[LightGBM] [Warning] lambda_l1 is set=0.0474587633751369, reg_alpha=0.0 will be ignored. Current value: lambda_l1=0.0474587633751369\n",
      "[LightGBM] [Warning] bagging_fraction is set=0.8976619661127543, subsample=1.0 will be ignored. Current value: bagging_fraction=0.8976619661127543\n",
      "[LightGBM] [Warning] feature_fraction is set=0.6539801342710443, colsample_bytree=1.0 will be ignored. Current value: feature_fraction=0.6539801342710443\n",
      "[LightGBM] [Warning] lambda_l2 is set=0.3422853948073336, reg_lambda=0.0 will be ignored. Current value: lambda_l2=0.3422853948073336\n"
     ]
    },
    {
     "name": "stderr",
     "output_type": "stream",
     "text": [
      " 26%|██▌       | 26/100 [00:27<01:35,  1.30s/it]"
     ]
    },
    {
     "name": "stdout",
     "output_type": "stream",
     "text": [
      "[LightGBM] [Warning] lambda_l1 is set=0.0474587633751369, reg_alpha=0.0 will be ignored. Current value: lambda_l1=0.0474587633751369\n",
      "[LightGBM] [Warning] bagging_fraction is set=0.8976619661127543, subsample=1.0 will be ignored. Current value: bagging_fraction=0.8976619661127543\n",
      "[LightGBM] [Warning] feature_fraction is set=0.6539801342710443, colsample_bytree=1.0 will be ignored. Current value: feature_fraction=0.6539801342710443\n",
      "[LightGBM] [Warning] lambda_l2 is set=0.3422853948073336, reg_lambda=0.0 will be ignored. Current value: lambda_l2=0.3422853948073336\n"
     ]
    },
    {
     "name": "stderr",
     "output_type": "stream",
     "text": [
      " 27%|██▋       | 27/100 [00:28<01:28,  1.21s/it]"
     ]
    },
    {
     "name": "stdout",
     "output_type": "stream",
     "text": [
      "[LightGBM] [Warning] lambda_l1 is set=0.0474587633751369, reg_alpha=0.0 will be ignored. Current value: lambda_l1=0.0474587633751369\n",
      "[LightGBM] [Warning] bagging_fraction is set=0.8976619661127543, subsample=1.0 will be ignored. Current value: bagging_fraction=0.8976619661127543\n",
      "[LightGBM] [Warning] feature_fraction is set=0.6539801342710443, colsample_bytree=1.0 will be ignored. Current value: feature_fraction=0.6539801342710443\n",
      "[LightGBM] [Warning] lambda_l2 is set=0.3422853948073336, reg_lambda=0.0 will be ignored. Current value: lambda_l2=0.3422853948073336\n"
     ]
    },
    {
     "name": "stderr",
     "output_type": "stream",
     "text": [
      " 28%|██▊       | 28/100 [00:29<01:22,  1.14s/it]"
     ]
    },
    {
     "name": "stdout",
     "output_type": "stream",
     "text": [
      "[LightGBM] [Warning] lambda_l1 is set=0.0474587633751369, reg_alpha=0.0 will be ignored. Current value: lambda_l1=0.0474587633751369\n",
      "[LightGBM] [Warning] bagging_fraction is set=0.8976619661127543, subsample=1.0 will be ignored. Current value: bagging_fraction=0.8976619661127543\n",
      "[LightGBM] [Warning] feature_fraction is set=0.6539801342710443, colsample_bytree=1.0 will be ignored. Current value: feature_fraction=0.6539801342710443\n",
      "[LightGBM] [Warning] lambda_l2 is set=0.3422853948073336, reg_lambda=0.0 will be ignored. Current value: lambda_l2=0.3422853948073336\n"
     ]
    },
    {
     "name": "stderr",
     "output_type": "stream",
     "text": [
      " 29%|██▉       | 29/100 [00:30<01:18,  1.11s/it]"
     ]
    },
    {
     "name": "stdout",
     "output_type": "stream",
     "text": [
      "[LightGBM] [Warning] lambda_l1 is set=0.0474587633751369, reg_alpha=0.0 will be ignored. Current value: lambda_l1=0.0474587633751369\n",
      "[LightGBM] [Warning] bagging_fraction is set=0.8976619661127543, subsample=1.0 will be ignored. Current value: bagging_fraction=0.8976619661127543\n",
      "[LightGBM] [Warning] feature_fraction is set=0.6539801342710443, colsample_bytree=1.0 will be ignored. Current value: feature_fraction=0.6539801342710443\n",
      "[LightGBM] [Warning] lambda_l2 is set=0.3422853948073336, reg_lambda=0.0 will be ignored. Current value: lambda_l2=0.3422853948073336\n"
     ]
    },
    {
     "name": "stderr",
     "output_type": "stream",
     "text": [
      " 30%|███       | 30/100 [00:31<01:14,  1.07s/it]"
     ]
    },
    {
     "name": "stdout",
     "output_type": "stream",
     "text": [
      "[LightGBM] [Warning] lambda_l1 is set=0.0474587633751369, reg_alpha=0.0 will be ignored. Current value: lambda_l1=0.0474587633751369\n",
      "[LightGBM] [Warning] bagging_fraction is set=0.8976619661127543, subsample=1.0 will be ignored. Current value: bagging_fraction=0.8976619661127543\n",
      "[LightGBM] [Warning] feature_fraction is set=0.6539801342710443, colsample_bytree=1.0 will be ignored. Current value: feature_fraction=0.6539801342710443\n",
      "[LightGBM] [Warning] lambda_l2 is set=0.3422853948073336, reg_lambda=0.0 will be ignored. Current value: lambda_l2=0.3422853948073336\n"
     ]
    },
    {
     "name": "stderr",
     "output_type": "stream",
     "text": [
      " 31%|███       | 31/100 [00:32<01:12,  1.06s/it]"
     ]
    },
    {
     "name": "stdout",
     "output_type": "stream",
     "text": [
      "[LightGBM] [Warning] lambda_l1 is set=0.0474587633751369, reg_alpha=0.0 will be ignored. Current value: lambda_l1=0.0474587633751369\n",
      "[LightGBM] [Warning] bagging_fraction is set=0.8976619661127543, subsample=1.0 will be ignored. Current value: bagging_fraction=0.8976619661127543\n",
      "[LightGBM] [Warning] feature_fraction is set=0.6539801342710443, colsample_bytree=1.0 will be ignored. Current value: feature_fraction=0.6539801342710443\n",
      "[LightGBM] [Warning] lambda_l2 is set=0.3422853948073336, reg_lambda=0.0 will be ignored. Current value: lambda_l2=0.3422853948073336\n"
     ]
    },
    {
     "name": "stderr",
     "output_type": "stream",
     "text": [
      " 32%|███▏      | 32/100 [00:33<01:11,  1.05s/it]"
     ]
    },
    {
     "name": "stdout",
     "output_type": "stream",
     "text": [
      "[LightGBM] [Warning] lambda_l1 is set=0.0474587633751369, reg_alpha=0.0 will be ignored. Current value: lambda_l1=0.0474587633751369\n",
      "[LightGBM] [Warning] bagging_fraction is set=0.8976619661127543, subsample=1.0 will be ignored. Current value: bagging_fraction=0.8976619661127543\n",
      "[LightGBM] [Warning] feature_fraction is set=0.6539801342710443, colsample_bytree=1.0 will be ignored. Current value: feature_fraction=0.6539801342710443\n",
      "[LightGBM] [Warning] lambda_l2 is set=0.3422853948073336, reg_lambda=0.0 will be ignored. Current value: lambda_l2=0.3422853948073336\n"
     ]
    },
    {
     "name": "stderr",
     "output_type": "stream",
     "text": [
      " 33%|███▎      | 33/100 [00:34<01:08,  1.03s/it]"
     ]
    },
    {
     "name": "stdout",
     "output_type": "stream",
     "text": [
      "[LightGBM] [Warning] lambda_l1 is set=0.0474587633751369, reg_alpha=0.0 will be ignored. Current value: lambda_l1=0.0474587633751369\n",
      "[LightGBM] [Warning] bagging_fraction is set=0.8976619661127543, subsample=1.0 will be ignored. Current value: bagging_fraction=0.8976619661127543\n",
      "[LightGBM] [Warning] feature_fraction is set=0.6539801342710443, colsample_bytree=1.0 will be ignored. Current value: feature_fraction=0.6539801342710443\n",
      "[LightGBM] [Warning] lambda_l2 is set=0.3422853948073336, reg_lambda=0.0 will be ignored. Current value: lambda_l2=0.3422853948073336\n"
     ]
    },
    {
     "name": "stderr",
     "output_type": "stream",
     "text": [
      " 34%|███▍      | 34/100 [00:35<01:06,  1.01s/it]"
     ]
    },
    {
     "name": "stdout",
     "output_type": "stream",
     "text": [
      "[LightGBM] [Warning] lambda_l1 is set=0.0474587633751369, reg_alpha=0.0 will be ignored. Current value: lambda_l1=0.0474587633751369\n",
      "[LightGBM] [Warning] bagging_fraction is set=0.8976619661127543, subsample=1.0 will be ignored. Current value: bagging_fraction=0.8976619661127543\n",
      "[LightGBM] [Warning] feature_fraction is set=0.6539801342710443, colsample_bytree=1.0 will be ignored. Current value: feature_fraction=0.6539801342710443\n",
      "[LightGBM] [Warning] lambda_l2 is set=0.3422853948073336, reg_lambda=0.0 will be ignored. Current value: lambda_l2=0.3422853948073336\n"
     ]
    },
    {
     "name": "stderr",
     "output_type": "stream",
     "text": [
      " 35%|███▌      | 35/100 [00:36<01:07,  1.04s/it]"
     ]
    },
    {
     "name": "stdout",
     "output_type": "stream",
     "text": [
      "[LightGBM] [Warning] lambda_l1 is set=0.0474587633751369, reg_alpha=0.0 will be ignored. Current value: lambda_l1=0.0474587633751369\n",
      "[LightGBM] [Warning] bagging_fraction is set=0.8976619661127543, subsample=1.0 will be ignored. Current value: bagging_fraction=0.8976619661127543\n",
      "[LightGBM] [Warning] feature_fraction is set=0.6539801342710443, colsample_bytree=1.0 will be ignored. Current value: feature_fraction=0.6539801342710443\n",
      "[LightGBM] [Warning] lambda_l2 is set=0.3422853948073336, reg_lambda=0.0 will be ignored. Current value: lambda_l2=0.3422853948073336\n"
     ]
    },
    {
     "name": "stderr",
     "output_type": "stream",
     "text": [
      " 36%|███▌      | 36/100 [00:37<01:07,  1.06s/it]"
     ]
    },
    {
     "name": "stdout",
     "output_type": "stream",
     "text": [
      "[LightGBM] [Warning] lambda_l1 is set=0.0474587633751369, reg_alpha=0.0 will be ignored. Current value: lambda_l1=0.0474587633751369\n",
      "[LightGBM] [Warning] bagging_fraction is set=0.8976619661127543, subsample=1.0 will be ignored. Current value: bagging_fraction=0.8976619661127543\n",
      "[LightGBM] [Warning] feature_fraction is set=0.6539801342710443, colsample_bytree=1.0 will be ignored. Current value: feature_fraction=0.6539801342710443\n",
      "[LightGBM] [Warning] lambda_l2 is set=0.3422853948073336, reg_lambda=0.0 will be ignored. Current value: lambda_l2=0.3422853948073336\n"
     ]
    },
    {
     "name": "stderr",
     "output_type": "stream",
     "text": [
      " 37%|███▋      | 37/100 [00:38<01:05,  1.04s/it]"
     ]
    },
    {
     "name": "stdout",
     "output_type": "stream",
     "text": [
      "[LightGBM] [Warning] lambda_l1 is set=0.0474587633751369, reg_alpha=0.0 will be ignored. Current value: lambda_l1=0.0474587633751369\n",
      "[LightGBM] [Warning] bagging_fraction is set=0.8976619661127543, subsample=1.0 will be ignored. Current value: bagging_fraction=0.8976619661127543\n",
      "[LightGBM] [Warning] feature_fraction is set=0.6539801342710443, colsample_bytree=1.0 will be ignored. Current value: feature_fraction=0.6539801342710443\n",
      "[LightGBM] [Warning] lambda_l2 is set=0.3422853948073336, reg_lambda=0.0 will be ignored. Current value: lambda_l2=0.3422853948073336\n"
     ]
    },
    {
     "name": "stderr",
     "output_type": "stream",
     "text": [
      " 38%|███▊      | 38/100 [00:39<01:02,  1.01s/it]"
     ]
    },
    {
     "name": "stdout",
     "output_type": "stream",
     "text": [
      "[LightGBM] [Warning] lambda_l1 is set=0.0474587633751369, reg_alpha=0.0 will be ignored. Current value: lambda_l1=0.0474587633751369\n",
      "[LightGBM] [Warning] bagging_fraction is set=0.8976619661127543, subsample=1.0 will be ignored. Current value: bagging_fraction=0.8976619661127543\n",
      "[LightGBM] [Warning] feature_fraction is set=0.6539801342710443, colsample_bytree=1.0 will be ignored. Current value: feature_fraction=0.6539801342710443\n",
      "[LightGBM] [Warning] lambda_l2 is set=0.3422853948073336, reg_lambda=0.0 will be ignored. Current value: lambda_l2=0.3422853948073336\n"
     ]
    },
    {
     "name": "stderr",
     "output_type": "stream",
     "text": [
      " 39%|███▉      | 39/100 [00:40<01:02,  1.02s/it]"
     ]
    },
    {
     "name": "stdout",
     "output_type": "stream",
     "text": [
      "[LightGBM] [Warning] lambda_l1 is set=0.0474587633751369, reg_alpha=0.0 will be ignored. Current value: lambda_l1=0.0474587633751369\n",
      "[LightGBM] [Warning] bagging_fraction is set=0.8976619661127543, subsample=1.0 will be ignored. Current value: bagging_fraction=0.8976619661127543\n",
      "[LightGBM] [Warning] feature_fraction is set=0.6539801342710443, colsample_bytree=1.0 will be ignored. Current value: feature_fraction=0.6539801342710443\n",
      "[LightGBM] [Warning] lambda_l2 is set=0.3422853948073336, reg_lambda=0.0 will be ignored. Current value: lambda_l2=0.3422853948073336\n"
     ]
    },
    {
     "name": "stderr",
     "output_type": "stream",
     "text": [
      " 40%|████      | 40/100 [00:41<01:00,  1.01s/it]"
     ]
    },
    {
     "name": "stdout",
     "output_type": "stream",
     "text": [
      "[LightGBM] [Warning] lambda_l1 is set=0.0474587633751369, reg_alpha=0.0 will be ignored. Current value: lambda_l1=0.0474587633751369\n",
      "[LightGBM] [Warning] bagging_fraction is set=0.8976619661127543, subsample=1.0 will be ignored. Current value: bagging_fraction=0.8976619661127543\n",
      "[LightGBM] [Warning] feature_fraction is set=0.6539801342710443, colsample_bytree=1.0 will be ignored. Current value: feature_fraction=0.6539801342710443\n",
      "[LightGBM] [Warning] lambda_l2 is set=0.3422853948073336, reg_lambda=0.0 will be ignored. Current value: lambda_l2=0.3422853948073336\n"
     ]
    },
    {
     "name": "stderr",
     "output_type": "stream",
     "text": [
      " 41%|████      | 41/100 [00:42<00:59,  1.01s/it]"
     ]
    },
    {
     "name": "stdout",
     "output_type": "stream",
     "text": [
      "[LightGBM] [Warning] lambda_l1 is set=0.0474587633751369, reg_alpha=0.0 will be ignored. Current value: lambda_l1=0.0474587633751369\n",
      "[LightGBM] [Warning] bagging_fraction is set=0.8976619661127543, subsample=1.0 will be ignored. Current value: bagging_fraction=0.8976619661127543\n",
      "[LightGBM] [Warning] feature_fraction is set=0.6539801342710443, colsample_bytree=1.0 will be ignored. Current value: feature_fraction=0.6539801342710443\n",
      "[LightGBM] [Warning] lambda_l2 is set=0.3422853948073336, reg_lambda=0.0 will be ignored. Current value: lambda_l2=0.3422853948073336\n"
     ]
    },
    {
     "name": "stderr",
     "output_type": "stream",
     "text": [
      " 42%|████▏     | 42/100 [00:43<01:00,  1.04s/it]"
     ]
    },
    {
     "name": "stdout",
     "output_type": "stream",
     "text": [
      "[LightGBM] [Warning] lambda_l1 is set=0.0474587633751369, reg_alpha=0.0 will be ignored. Current value: lambda_l1=0.0474587633751369\n",
      "[LightGBM] [Warning] bagging_fraction is set=0.8976619661127543, subsample=1.0 will be ignored. Current value: bagging_fraction=0.8976619661127543\n",
      "[LightGBM] [Warning] feature_fraction is set=0.6539801342710443, colsample_bytree=1.0 will be ignored. Current value: feature_fraction=0.6539801342710443\n",
      "[LightGBM] [Warning] lambda_l2 is set=0.3422853948073336, reg_lambda=0.0 will be ignored. Current value: lambda_l2=0.3422853948073336\n"
     ]
    },
    {
     "name": "stderr",
     "output_type": "stream",
     "text": [
      " 43%|████▎     | 43/100 [00:44<00:58,  1.02s/it]"
     ]
    },
    {
     "name": "stdout",
     "output_type": "stream",
     "text": [
      "[LightGBM] [Warning] lambda_l1 is set=0.0474587633751369, reg_alpha=0.0 will be ignored. Current value: lambda_l1=0.0474587633751369\n",
      "[LightGBM] [Warning] bagging_fraction is set=0.8976619661127543, subsample=1.0 will be ignored. Current value: bagging_fraction=0.8976619661127543\n",
      "[LightGBM] [Warning] feature_fraction is set=0.6539801342710443, colsample_bytree=1.0 will be ignored. Current value: feature_fraction=0.6539801342710443\n",
      "[LightGBM] [Warning] lambda_l2 is set=0.3422853948073336, reg_lambda=0.0 will be ignored. Current value: lambda_l2=0.3422853948073336\n"
     ]
    },
    {
     "name": "stderr",
     "output_type": "stream",
     "text": [
      " 44%|████▍     | 44/100 [00:45<00:57,  1.03s/it]"
     ]
    },
    {
     "name": "stdout",
     "output_type": "stream",
     "text": [
      "[LightGBM] [Warning] lambda_l1 is set=0.0474587633751369, reg_alpha=0.0 will be ignored. Current value: lambda_l1=0.0474587633751369\n",
      "[LightGBM] [Warning] bagging_fraction is set=0.8976619661127543, subsample=1.0 will be ignored. Current value: bagging_fraction=0.8976619661127543\n",
      "[LightGBM] [Warning] feature_fraction is set=0.6539801342710443, colsample_bytree=1.0 will be ignored. Current value: feature_fraction=0.6539801342710443\n",
      "[LightGBM] [Warning] lambda_l2 is set=0.3422853948073336, reg_lambda=0.0 will be ignored. Current value: lambda_l2=0.3422853948073336\n"
     ]
    },
    {
     "name": "stderr",
     "output_type": "stream",
     "text": [
      " 45%|████▌     | 45/100 [00:46<00:56,  1.03s/it]"
     ]
    },
    {
     "name": "stdout",
     "output_type": "stream",
     "text": [
      "[LightGBM] [Warning] lambda_l1 is set=0.0474587633751369, reg_alpha=0.0 will be ignored. Current value: lambda_l1=0.0474587633751369\n",
      "[LightGBM] [Warning] bagging_fraction is set=0.8976619661127543, subsample=1.0 will be ignored. Current value: bagging_fraction=0.8976619661127543\n",
      "[LightGBM] [Warning] feature_fraction is set=0.6539801342710443, colsample_bytree=1.0 will be ignored. Current value: feature_fraction=0.6539801342710443\n",
      "[LightGBM] [Warning] lambda_l2 is set=0.3422853948073336, reg_lambda=0.0 will be ignored. Current value: lambda_l2=0.3422853948073336\n"
     ]
    },
    {
     "name": "stderr",
     "output_type": "stream",
     "text": [
      " 46%|████▌     | 46/100 [00:47<00:54,  1.01s/it]"
     ]
    },
    {
     "name": "stdout",
     "output_type": "stream",
     "text": [
      "[LightGBM] [Warning] lambda_l1 is set=0.0474587633751369, reg_alpha=0.0 will be ignored. Current value: lambda_l1=0.0474587633751369\n",
      "[LightGBM] [Warning] bagging_fraction is set=0.8976619661127543, subsample=1.0 will be ignored. Current value: bagging_fraction=0.8976619661127543\n",
      "[LightGBM] [Warning] feature_fraction is set=0.6539801342710443, colsample_bytree=1.0 will be ignored. Current value: feature_fraction=0.6539801342710443\n",
      "[LightGBM] [Warning] lambda_l2 is set=0.3422853948073336, reg_lambda=0.0 will be ignored. Current value: lambda_l2=0.3422853948073336\n"
     ]
    },
    {
     "name": "stderr",
     "output_type": "stream",
     "text": [
      " 47%|████▋     | 47/100 [00:48<00:54,  1.02s/it]"
     ]
    },
    {
     "name": "stdout",
     "output_type": "stream",
     "text": [
      "[LightGBM] [Warning] lambda_l1 is set=0.0474587633751369, reg_alpha=0.0 will be ignored. Current value: lambda_l1=0.0474587633751369\n",
      "[LightGBM] [Warning] bagging_fraction is set=0.8976619661127543, subsample=1.0 will be ignored. Current value: bagging_fraction=0.8976619661127543\n",
      "[LightGBM] [Warning] feature_fraction is set=0.6539801342710443, colsample_bytree=1.0 will be ignored. Current value: feature_fraction=0.6539801342710443\n",
      "[LightGBM] [Warning] lambda_l2 is set=0.3422853948073336, reg_lambda=0.0 will be ignored. Current value: lambda_l2=0.3422853948073336\n"
     ]
    },
    {
     "name": "stderr",
     "output_type": "stream",
     "text": [
      " 48%|████▊     | 48/100 [00:49<00:53,  1.02s/it]"
     ]
    },
    {
     "name": "stdout",
     "output_type": "stream",
     "text": [
      "[LightGBM] [Warning] lambda_l1 is set=0.0474587633751369, reg_alpha=0.0 will be ignored. Current value: lambda_l1=0.0474587633751369\n",
      "[LightGBM] [Warning] bagging_fraction is set=0.8976619661127543, subsample=1.0 will be ignored. Current value: bagging_fraction=0.8976619661127543\n",
      "[LightGBM] [Warning] feature_fraction is set=0.6539801342710443, colsample_bytree=1.0 will be ignored. Current value: feature_fraction=0.6539801342710443\n",
      "[LightGBM] [Warning] lambda_l2 is set=0.3422853948073336, reg_lambda=0.0 will be ignored. Current value: lambda_l2=0.3422853948073336\n"
     ]
    },
    {
     "name": "stderr",
     "output_type": "stream",
     "text": [
      " 49%|████▉     | 49/100 [00:50<00:52,  1.03s/it]"
     ]
    },
    {
     "name": "stdout",
     "output_type": "stream",
     "text": [
      "[LightGBM] [Warning] lambda_l1 is set=0.0474587633751369, reg_alpha=0.0 will be ignored. Current value: lambda_l1=0.0474587633751369\n",
      "[LightGBM] [Warning] bagging_fraction is set=0.8976619661127543, subsample=1.0 will be ignored. Current value: bagging_fraction=0.8976619661127543\n",
      "[LightGBM] [Warning] feature_fraction is set=0.6539801342710443, colsample_bytree=1.0 will be ignored. Current value: feature_fraction=0.6539801342710443\n",
      "[LightGBM] [Warning] lambda_l2 is set=0.3422853948073336, reg_lambda=0.0 will be ignored. Current value: lambda_l2=0.3422853948073336\n"
     ]
    },
    {
     "name": "stderr",
     "output_type": "stream",
     "text": [
      " 50%|█████     | 50/100 [00:51<00:52,  1.05s/it]"
     ]
    },
    {
     "name": "stdout",
     "output_type": "stream",
     "text": [
      "[LightGBM] [Warning] lambda_l1 is set=0.0474587633751369, reg_alpha=0.0 will be ignored. Current value: lambda_l1=0.0474587633751369\n",
      "[LightGBM] [Warning] bagging_fraction is set=0.8976619661127543, subsample=1.0 will be ignored. Current value: bagging_fraction=0.8976619661127543\n",
      "[LightGBM] [Warning] feature_fraction is set=0.6539801342710443, colsample_bytree=1.0 will be ignored. Current value: feature_fraction=0.6539801342710443\n",
      "[LightGBM] [Warning] lambda_l2 is set=0.3422853948073336, reg_lambda=0.0 will be ignored. Current value: lambda_l2=0.3422853948073336\n"
     ]
    },
    {
     "name": "stderr",
     "output_type": "stream",
     "text": [
      " 51%|█████     | 51/100 [00:52<00:52,  1.08s/it]"
     ]
    },
    {
     "name": "stdout",
     "output_type": "stream",
     "text": [
      "[LightGBM] [Warning] lambda_l1 is set=0.0474587633751369, reg_alpha=0.0 will be ignored. Current value: lambda_l1=0.0474587633751369\n",
      "[LightGBM] [Warning] bagging_fraction is set=0.8976619661127543, subsample=1.0 will be ignored. Current value: bagging_fraction=0.8976619661127543\n",
      "[LightGBM] [Warning] feature_fraction is set=0.6539801342710443, colsample_bytree=1.0 will be ignored. Current value: feature_fraction=0.6539801342710443\n",
      "[LightGBM] [Warning] lambda_l2 is set=0.3422853948073336, reg_lambda=0.0 will be ignored. Current value: lambda_l2=0.3422853948073336\n"
     ]
    },
    {
     "name": "stderr",
     "output_type": "stream",
     "text": [
      " 52%|█████▏    | 52/100 [00:53<00:50,  1.06s/it]"
     ]
    },
    {
     "name": "stdout",
     "output_type": "stream",
     "text": [
      "[LightGBM] [Warning] lambda_l1 is set=0.0474587633751369, reg_alpha=0.0 will be ignored. Current value: lambda_l1=0.0474587633751369\n",
      "[LightGBM] [Warning] bagging_fraction is set=0.8976619661127543, subsample=1.0 will be ignored. Current value: bagging_fraction=0.8976619661127543\n",
      "[LightGBM] [Warning] feature_fraction is set=0.6539801342710443, colsample_bytree=1.0 will be ignored. Current value: feature_fraction=0.6539801342710443\n",
      "[LightGBM] [Warning] lambda_l2 is set=0.3422853948073336, reg_lambda=0.0 will be ignored. Current value: lambda_l2=0.3422853948073336\n"
     ]
    },
    {
     "name": "stderr",
     "output_type": "stream",
     "text": [
      " 53%|█████▎    | 53/100 [00:54<00:48,  1.03s/it]"
     ]
    },
    {
     "name": "stdout",
     "output_type": "stream",
     "text": [
      "[LightGBM] [Warning] lambda_l1 is set=0.0474587633751369, reg_alpha=0.0 will be ignored. Current value: lambda_l1=0.0474587633751369\n",
      "[LightGBM] [Warning] bagging_fraction is set=0.8976619661127543, subsample=1.0 will be ignored. Current value: bagging_fraction=0.8976619661127543\n",
      "[LightGBM] [Warning] feature_fraction is set=0.6539801342710443, colsample_bytree=1.0 will be ignored. Current value: feature_fraction=0.6539801342710443\n",
      "[LightGBM] [Warning] lambda_l2 is set=0.3422853948073336, reg_lambda=0.0 will be ignored. Current value: lambda_l2=0.3422853948073336\n"
     ]
    },
    {
     "name": "stderr",
     "output_type": "stream",
     "text": [
      " 54%|█████▍    | 54/100 [00:55<00:46,  1.01s/it]"
     ]
    },
    {
     "name": "stdout",
     "output_type": "stream",
     "text": [
      "[LightGBM] [Warning] lambda_l1 is set=0.0474587633751369, reg_alpha=0.0 will be ignored. Current value: lambda_l1=0.0474587633751369\n",
      "[LightGBM] [Warning] bagging_fraction is set=0.8976619661127543, subsample=1.0 will be ignored. Current value: bagging_fraction=0.8976619661127543\n",
      "[LightGBM] [Warning] feature_fraction is set=0.6539801342710443, colsample_bytree=1.0 will be ignored. Current value: feature_fraction=0.6539801342710443\n",
      "[LightGBM] [Warning] lambda_l2 is set=0.3422853948073336, reg_lambda=0.0 will be ignored. Current value: lambda_l2=0.3422853948073336\n"
     ]
    },
    {
     "name": "stderr",
     "output_type": "stream",
     "text": [
      " 55%|█████▌    | 55/100 [00:56<00:45,  1.02s/it]"
     ]
    },
    {
     "name": "stdout",
     "output_type": "stream",
     "text": [
      "[LightGBM] [Warning] lambda_l1 is set=0.0474587633751369, reg_alpha=0.0 will be ignored. Current value: lambda_l1=0.0474587633751369\n",
      "[LightGBM] [Warning] bagging_fraction is set=0.8976619661127543, subsample=1.0 will be ignored. Current value: bagging_fraction=0.8976619661127543\n",
      "[LightGBM] [Warning] feature_fraction is set=0.6539801342710443, colsample_bytree=1.0 will be ignored. Current value: feature_fraction=0.6539801342710443\n",
      "[LightGBM] [Warning] lambda_l2 is set=0.3422853948073336, reg_lambda=0.0 will be ignored. Current value: lambda_l2=0.3422853948073336\n"
     ]
    },
    {
     "name": "stderr",
     "output_type": "stream",
     "text": [
      " 56%|█████▌    | 56/100 [00:57<00:45,  1.03s/it]"
     ]
    },
    {
     "name": "stdout",
     "output_type": "stream",
     "text": [
      "[LightGBM] [Warning] lambda_l1 is set=0.0474587633751369, reg_alpha=0.0 will be ignored. Current value: lambda_l1=0.0474587633751369\n",
      "[LightGBM] [Warning] bagging_fraction is set=0.8976619661127543, subsample=1.0 will be ignored. Current value: bagging_fraction=0.8976619661127543\n",
      "[LightGBM] [Warning] feature_fraction is set=0.6539801342710443, colsample_bytree=1.0 will be ignored. Current value: feature_fraction=0.6539801342710443\n",
      "[LightGBM] [Warning] lambda_l2 is set=0.3422853948073336, reg_lambda=0.0 will be ignored. Current value: lambda_l2=0.3422853948073336\n"
     ]
    },
    {
     "name": "stderr",
     "output_type": "stream",
     "text": [
      " 57%|█████▋    | 57/100 [00:58<00:44,  1.03s/it]"
     ]
    },
    {
     "name": "stdout",
     "output_type": "stream",
     "text": [
      "[LightGBM] [Warning] lambda_l1 is set=0.0474587633751369, reg_alpha=0.0 will be ignored. Current value: lambda_l1=0.0474587633751369\n",
      "[LightGBM] [Warning] bagging_fraction is set=0.8976619661127543, subsample=1.0 will be ignored. Current value: bagging_fraction=0.8976619661127543\n",
      "[LightGBM] [Warning] feature_fraction is set=0.6539801342710443, colsample_bytree=1.0 will be ignored. Current value: feature_fraction=0.6539801342710443\n",
      "[LightGBM] [Warning] lambda_l2 is set=0.3422853948073336, reg_lambda=0.0 will be ignored. Current value: lambda_l2=0.3422853948073336\n"
     ]
    },
    {
     "name": "stderr",
     "output_type": "stream",
     "text": [
      " 58%|█████▊    | 58/100 [00:59<00:43,  1.03s/it]"
     ]
    },
    {
     "name": "stdout",
     "output_type": "stream",
     "text": [
      "[LightGBM] [Warning] lambda_l1 is set=0.0474587633751369, reg_alpha=0.0 will be ignored. Current value: lambda_l1=0.0474587633751369\n",
      "[LightGBM] [Warning] bagging_fraction is set=0.8976619661127543, subsample=1.0 will be ignored. Current value: bagging_fraction=0.8976619661127543\n",
      "[LightGBM] [Warning] feature_fraction is set=0.6539801342710443, colsample_bytree=1.0 will be ignored. Current value: feature_fraction=0.6539801342710443\n",
      "[LightGBM] [Warning] lambda_l2 is set=0.3422853948073336, reg_lambda=0.0 will be ignored. Current value: lambda_l2=0.3422853948073336\n"
     ]
    },
    {
     "name": "stderr",
     "output_type": "stream",
     "text": [
      " 59%|█████▉    | 59/100 [01:00<00:42,  1.04s/it]"
     ]
    },
    {
     "name": "stdout",
     "output_type": "stream",
     "text": [
      "[LightGBM] [Warning] lambda_l1 is set=0.0474587633751369, reg_alpha=0.0 will be ignored. Current value: lambda_l1=0.0474587633751369\n",
      "[LightGBM] [Warning] bagging_fraction is set=0.8976619661127543, subsample=1.0 will be ignored. Current value: bagging_fraction=0.8976619661127543\n",
      "[LightGBM] [Warning] feature_fraction is set=0.6539801342710443, colsample_bytree=1.0 will be ignored. Current value: feature_fraction=0.6539801342710443\n",
      "[LightGBM] [Warning] lambda_l2 is set=0.3422853948073336, reg_lambda=0.0 will be ignored. Current value: lambda_l2=0.3422853948073336\n"
     ]
    },
    {
     "name": "stderr",
     "output_type": "stream",
     "text": [
      " 60%|██████    | 60/100 [01:01<00:41,  1.03s/it]"
     ]
    },
    {
     "name": "stdout",
     "output_type": "stream",
     "text": [
      "[LightGBM] [Warning] lambda_l1 is set=0.0474587633751369, reg_alpha=0.0 will be ignored. Current value: lambda_l1=0.0474587633751369\n",
      "[LightGBM] [Warning] bagging_fraction is set=0.8976619661127543, subsample=1.0 will be ignored. Current value: bagging_fraction=0.8976619661127543\n",
      "[LightGBM] [Warning] feature_fraction is set=0.6539801342710443, colsample_bytree=1.0 will be ignored. Current value: feature_fraction=0.6539801342710443\n",
      "[LightGBM] [Warning] lambda_l2 is set=0.3422853948073336, reg_lambda=0.0 will be ignored. Current value: lambda_l2=0.3422853948073336\n"
     ]
    },
    {
     "name": "stderr",
     "output_type": "stream",
     "text": [
      " 61%|██████    | 61/100 [01:03<00:40,  1.04s/it]"
     ]
    },
    {
     "name": "stdout",
     "output_type": "stream",
     "text": [
      "[LightGBM] [Warning] lambda_l1 is set=0.0474587633751369, reg_alpha=0.0 will be ignored. Current value: lambda_l1=0.0474587633751369\n",
      "[LightGBM] [Warning] bagging_fraction is set=0.8976619661127543, subsample=1.0 will be ignored. Current value: bagging_fraction=0.8976619661127543\n",
      "[LightGBM] [Warning] feature_fraction is set=0.6539801342710443, colsample_bytree=1.0 will be ignored. Current value: feature_fraction=0.6539801342710443\n",
      "[LightGBM] [Warning] lambda_l2 is set=0.3422853948073336, reg_lambda=0.0 will be ignored. Current value: lambda_l2=0.3422853948073336\n"
     ]
    },
    {
     "name": "stderr",
     "output_type": "stream",
     "text": [
      " 62%|██████▏   | 62/100 [01:04<00:39,  1.04s/it]"
     ]
    },
    {
     "name": "stdout",
     "output_type": "stream",
     "text": [
      "[LightGBM] [Warning] lambda_l1 is set=0.0474587633751369, reg_alpha=0.0 will be ignored. Current value: lambda_l1=0.0474587633751369\n",
      "[LightGBM] [Warning] bagging_fraction is set=0.8976619661127543, subsample=1.0 will be ignored. Current value: bagging_fraction=0.8976619661127543\n",
      "[LightGBM] [Warning] feature_fraction is set=0.6539801342710443, colsample_bytree=1.0 will be ignored. Current value: feature_fraction=0.6539801342710443\n",
      "[LightGBM] [Warning] lambda_l2 is set=0.3422853948073336, reg_lambda=0.0 will be ignored. Current value: lambda_l2=0.3422853948073336\n"
     ]
    },
    {
     "name": "stderr",
     "output_type": "stream",
     "text": [
      " 63%|██████▎   | 63/100 [01:05<00:37,  1.02s/it]"
     ]
    },
    {
     "name": "stdout",
     "output_type": "stream",
     "text": [
      "[LightGBM] [Warning] lambda_l1 is set=0.0474587633751369, reg_alpha=0.0 will be ignored. Current value: lambda_l1=0.0474587633751369\n",
      "[LightGBM] [Warning] bagging_fraction is set=0.8976619661127543, subsample=1.0 will be ignored. Current value: bagging_fraction=0.8976619661127543\n",
      "[LightGBM] [Warning] feature_fraction is set=0.6539801342710443, colsample_bytree=1.0 will be ignored. Current value: feature_fraction=0.6539801342710443\n",
      "[LightGBM] [Warning] lambda_l2 is set=0.3422853948073336, reg_lambda=0.0 will be ignored. Current value: lambda_l2=0.3422853948073336\n"
     ]
    },
    {
     "name": "stderr",
     "output_type": "stream",
     "text": [
      " 64%|██████▍   | 64/100 [01:06<00:36,  1.02s/it]"
     ]
    },
    {
     "name": "stdout",
     "output_type": "stream",
     "text": [
      "[LightGBM] [Warning] lambda_l1 is set=0.0474587633751369, reg_alpha=0.0 will be ignored. Current value: lambda_l1=0.0474587633751369\n",
      "[LightGBM] [Warning] bagging_fraction is set=0.8976619661127543, subsample=1.0 will be ignored. Current value: bagging_fraction=0.8976619661127543\n",
      "[LightGBM] [Warning] feature_fraction is set=0.6539801342710443, colsample_bytree=1.0 will be ignored. Current value: feature_fraction=0.6539801342710443\n",
      "[LightGBM] [Warning] lambda_l2 is set=0.3422853948073336, reg_lambda=0.0 will be ignored. Current value: lambda_l2=0.3422853948073336\n"
     ]
    },
    {
     "name": "stderr",
     "output_type": "stream",
     "text": [
      " 65%|██████▌   | 65/100 [01:07<00:35,  1.01s/it]"
     ]
    },
    {
     "name": "stdout",
     "output_type": "stream",
     "text": [
      "[LightGBM] [Warning] lambda_l1 is set=0.0474587633751369, reg_alpha=0.0 will be ignored. Current value: lambda_l1=0.0474587633751369\n",
      "[LightGBM] [Warning] bagging_fraction is set=0.8976619661127543, subsample=1.0 will be ignored. Current value: bagging_fraction=0.8976619661127543\n",
      "[LightGBM] [Warning] feature_fraction is set=0.6539801342710443, colsample_bytree=1.0 will be ignored. Current value: feature_fraction=0.6539801342710443\n",
      "[LightGBM] [Warning] lambda_l2 is set=0.3422853948073336, reg_lambda=0.0 will be ignored. Current value: lambda_l2=0.3422853948073336\n"
     ]
    },
    {
     "name": "stderr",
     "output_type": "stream",
     "text": [
      " 66%|██████▌   | 66/100 [01:08<00:34,  1.02s/it]"
     ]
    },
    {
     "name": "stdout",
     "output_type": "stream",
     "text": [
      "[LightGBM] [Warning] lambda_l1 is set=0.0474587633751369, reg_alpha=0.0 will be ignored. Current value: lambda_l1=0.0474587633751369\n",
      "[LightGBM] [Warning] bagging_fraction is set=0.8976619661127543, subsample=1.0 will be ignored. Current value: bagging_fraction=0.8976619661127543\n",
      "[LightGBM] [Warning] feature_fraction is set=0.6539801342710443, colsample_bytree=1.0 will be ignored. Current value: feature_fraction=0.6539801342710443\n",
      "[LightGBM] [Warning] lambda_l2 is set=0.3422853948073336, reg_lambda=0.0 will be ignored. Current value: lambda_l2=0.3422853948073336\n"
     ]
    },
    {
     "name": "stderr",
     "output_type": "stream",
     "text": [
      " 67%|██████▋   | 67/100 [01:09<00:33,  1.02s/it]"
     ]
    },
    {
     "name": "stdout",
     "output_type": "stream",
     "text": [
      "[LightGBM] [Warning] lambda_l1 is set=0.0474587633751369, reg_alpha=0.0 will be ignored. Current value: lambda_l1=0.0474587633751369\n",
      "[LightGBM] [Warning] bagging_fraction is set=0.8976619661127543, subsample=1.0 will be ignored. Current value: bagging_fraction=0.8976619661127543\n",
      "[LightGBM] [Warning] feature_fraction is set=0.6539801342710443, colsample_bytree=1.0 will be ignored. Current value: feature_fraction=0.6539801342710443\n",
      "[LightGBM] [Warning] lambda_l2 is set=0.3422853948073336, reg_lambda=0.0 will be ignored. Current value: lambda_l2=0.3422853948073336\n"
     ]
    },
    {
     "name": "stderr",
     "output_type": "stream",
     "text": [
      " 68%|██████▊   | 68/100 [01:10<00:32,  1.02s/it]"
     ]
    },
    {
     "name": "stdout",
     "output_type": "stream",
     "text": [
      "[LightGBM] [Warning] lambda_l1 is set=0.0474587633751369, reg_alpha=0.0 will be ignored. Current value: lambda_l1=0.0474587633751369\n",
      "[LightGBM] [Warning] bagging_fraction is set=0.8976619661127543, subsample=1.0 will be ignored. Current value: bagging_fraction=0.8976619661127543\n",
      "[LightGBM] [Warning] feature_fraction is set=0.6539801342710443, colsample_bytree=1.0 will be ignored. Current value: feature_fraction=0.6539801342710443\n",
      "[LightGBM] [Warning] lambda_l2 is set=0.3422853948073336, reg_lambda=0.0 will be ignored. Current value: lambda_l2=0.3422853948073336\n"
     ]
    },
    {
     "name": "stderr",
     "output_type": "stream",
     "text": [
      " 69%|██████▉   | 69/100 [01:11<00:31,  1.03s/it]"
     ]
    },
    {
     "name": "stdout",
     "output_type": "stream",
     "text": [
      "[LightGBM] [Warning] lambda_l1 is set=0.0474587633751369, reg_alpha=0.0 will be ignored. Current value: lambda_l1=0.0474587633751369\n",
      "[LightGBM] [Warning] bagging_fraction is set=0.8976619661127543, subsample=1.0 will be ignored. Current value: bagging_fraction=0.8976619661127543\n",
      "[LightGBM] [Warning] feature_fraction is set=0.6539801342710443, colsample_bytree=1.0 will be ignored. Current value: feature_fraction=0.6539801342710443\n",
      "[LightGBM] [Warning] lambda_l2 is set=0.3422853948073336, reg_lambda=0.0 will be ignored. Current value: lambda_l2=0.3422853948073336\n"
     ]
    },
    {
     "name": "stderr",
     "output_type": "stream",
     "text": [
      " 70%|███████   | 70/100 [01:12<00:30,  1.01s/it]"
     ]
    },
    {
     "name": "stdout",
     "output_type": "stream",
     "text": [
      "[LightGBM] [Warning] lambda_l1 is set=0.0474587633751369, reg_alpha=0.0 will be ignored. Current value: lambda_l1=0.0474587633751369\n",
      "[LightGBM] [Warning] bagging_fraction is set=0.8976619661127543, subsample=1.0 will be ignored. Current value: bagging_fraction=0.8976619661127543\n",
      "[LightGBM] [Warning] feature_fraction is set=0.6539801342710443, colsample_bytree=1.0 will be ignored. Current value: feature_fraction=0.6539801342710443\n",
      "[LightGBM] [Warning] lambda_l2 is set=0.3422853948073336, reg_lambda=0.0 will be ignored. Current value: lambda_l2=0.3422853948073336\n"
     ]
    },
    {
     "name": "stderr",
     "output_type": "stream",
     "text": [
      " 71%|███████   | 71/100 [01:13<00:29,  1.02s/it]"
     ]
    },
    {
     "name": "stdout",
     "output_type": "stream",
     "text": [
      "[LightGBM] [Warning] lambda_l1 is set=0.0474587633751369, reg_alpha=0.0 will be ignored. Current value: lambda_l1=0.0474587633751369\n",
      "[LightGBM] [Warning] bagging_fraction is set=0.8976619661127543, subsample=1.0 will be ignored. Current value: bagging_fraction=0.8976619661127543\n",
      "[LightGBM] [Warning] feature_fraction is set=0.6539801342710443, colsample_bytree=1.0 will be ignored. Current value: feature_fraction=0.6539801342710443\n",
      "[LightGBM] [Warning] lambda_l2 is set=0.3422853948073336, reg_lambda=0.0 will be ignored. Current value: lambda_l2=0.3422853948073336\n"
     ]
    },
    {
     "name": "stderr",
     "output_type": "stream",
     "text": [
      " 72%|███████▏  | 72/100 [01:14<00:28,  1.02s/it]"
     ]
    },
    {
     "name": "stdout",
     "output_type": "stream",
     "text": [
      "[LightGBM] [Warning] lambda_l1 is set=0.0474587633751369, reg_alpha=0.0 will be ignored. Current value: lambda_l1=0.0474587633751369\n",
      "[LightGBM] [Warning] bagging_fraction is set=0.8976619661127543, subsample=1.0 will be ignored. Current value: bagging_fraction=0.8976619661127543\n",
      "[LightGBM] [Warning] feature_fraction is set=0.6539801342710443, colsample_bytree=1.0 will be ignored. Current value: feature_fraction=0.6539801342710443\n",
      "[LightGBM] [Warning] lambda_l2 is set=0.3422853948073336, reg_lambda=0.0 will be ignored. Current value: lambda_l2=0.3422853948073336\n"
     ]
    },
    {
     "name": "stderr",
     "output_type": "stream",
     "text": [
      " 73%|███████▎  | 73/100 [01:15<00:27,  1.01s/it]"
     ]
    },
    {
     "name": "stdout",
     "output_type": "stream",
     "text": [
      "[LightGBM] [Warning] lambda_l1 is set=0.0474587633751369, reg_alpha=0.0 will be ignored. Current value: lambda_l1=0.0474587633751369\n",
      "[LightGBM] [Warning] bagging_fraction is set=0.8976619661127543, subsample=1.0 will be ignored. Current value: bagging_fraction=0.8976619661127543\n",
      "[LightGBM] [Warning] feature_fraction is set=0.6539801342710443, colsample_bytree=1.0 will be ignored. Current value: feature_fraction=0.6539801342710443\n",
      "[LightGBM] [Warning] lambda_l2 is set=0.3422853948073336, reg_lambda=0.0 will be ignored. Current value: lambda_l2=0.3422853948073336\n"
     ]
    },
    {
     "name": "stderr",
     "output_type": "stream",
     "text": [
      " 74%|███████▍  | 74/100 [01:16<00:26,  1.02s/it]"
     ]
    },
    {
     "name": "stdout",
     "output_type": "stream",
     "text": [
      "[LightGBM] [Warning] lambda_l1 is set=0.0474587633751369, reg_alpha=0.0 will be ignored. Current value: lambda_l1=0.0474587633751369\n",
      "[LightGBM] [Warning] bagging_fraction is set=0.8976619661127543, subsample=1.0 will be ignored. Current value: bagging_fraction=0.8976619661127543\n",
      "[LightGBM] [Warning] feature_fraction is set=0.6539801342710443, colsample_bytree=1.0 will be ignored. Current value: feature_fraction=0.6539801342710443\n",
      "[LightGBM] [Warning] lambda_l2 is set=0.3422853948073336, reg_lambda=0.0 will be ignored. Current value: lambda_l2=0.3422853948073336\n"
     ]
    },
    {
     "name": "stderr",
     "output_type": "stream",
     "text": [
      " 75%|███████▌  | 75/100 [01:17<00:25,  1.02s/it]"
     ]
    },
    {
     "name": "stdout",
     "output_type": "stream",
     "text": [
      "[LightGBM] [Warning] lambda_l1 is set=0.0474587633751369, reg_alpha=0.0 will be ignored. Current value: lambda_l1=0.0474587633751369\n",
      "[LightGBM] [Warning] bagging_fraction is set=0.8976619661127543, subsample=1.0 will be ignored. Current value: bagging_fraction=0.8976619661127543\n",
      "[LightGBM] [Warning] feature_fraction is set=0.6539801342710443, colsample_bytree=1.0 will be ignored. Current value: feature_fraction=0.6539801342710443\n",
      "[LightGBM] [Warning] lambda_l2 is set=0.3422853948073336, reg_lambda=0.0 will be ignored. Current value: lambda_l2=0.3422853948073336\n"
     ]
    },
    {
     "name": "stderr",
     "output_type": "stream",
     "text": [
      " 76%|███████▌  | 76/100 [01:18<00:24,  1.01s/it]"
     ]
    },
    {
     "name": "stdout",
     "output_type": "stream",
     "text": [
      "[LightGBM] [Warning] lambda_l1 is set=0.0474587633751369, reg_alpha=0.0 will be ignored. Current value: lambda_l1=0.0474587633751369\n",
      "[LightGBM] [Warning] bagging_fraction is set=0.8976619661127543, subsample=1.0 will be ignored. Current value: bagging_fraction=0.8976619661127543\n",
      "[LightGBM] [Warning] feature_fraction is set=0.6539801342710443, colsample_bytree=1.0 will be ignored. Current value: feature_fraction=0.6539801342710443\n",
      "[LightGBM] [Warning] lambda_l2 is set=0.3422853948073336, reg_lambda=0.0 will be ignored. Current value: lambda_l2=0.3422853948073336\n"
     ]
    },
    {
     "name": "stderr",
     "output_type": "stream",
     "text": [
      " 77%|███████▋  | 77/100 [01:19<00:22,  1.01it/s]"
     ]
    },
    {
     "name": "stdout",
     "output_type": "stream",
     "text": [
      "[LightGBM] [Warning] lambda_l1 is set=0.0474587633751369, reg_alpha=0.0 will be ignored. Current value: lambda_l1=0.0474587633751369\n",
      "[LightGBM] [Warning] bagging_fraction is set=0.8976619661127543, subsample=1.0 will be ignored. Current value: bagging_fraction=0.8976619661127543\n",
      "[LightGBM] [Warning] feature_fraction is set=0.6539801342710443, colsample_bytree=1.0 will be ignored. Current value: feature_fraction=0.6539801342710443\n",
      "[LightGBM] [Warning] lambda_l2 is set=0.3422853948073336, reg_lambda=0.0 will be ignored. Current value: lambda_l2=0.3422853948073336\n"
     ]
    },
    {
     "name": "stderr",
     "output_type": "stream",
     "text": [
      " 78%|███████▊  | 78/100 [01:20<00:21,  1.02it/s]"
     ]
    },
    {
     "name": "stdout",
     "output_type": "stream",
     "text": [
      "[LightGBM] [Warning] lambda_l1 is set=0.0474587633751369, reg_alpha=0.0 will be ignored. Current value: lambda_l1=0.0474587633751369\n",
      "[LightGBM] [Warning] bagging_fraction is set=0.8976619661127543, subsample=1.0 will be ignored. Current value: bagging_fraction=0.8976619661127543\n",
      "[LightGBM] [Warning] feature_fraction is set=0.6539801342710443, colsample_bytree=1.0 will be ignored. Current value: feature_fraction=0.6539801342710443\n",
      "[LightGBM] [Warning] lambda_l2 is set=0.3422853948073336, reg_lambda=0.0 will be ignored. Current value: lambda_l2=0.3422853948073336\n"
     ]
    },
    {
     "name": "stderr",
     "output_type": "stream",
     "text": [
      " 79%|███████▉  | 79/100 [01:21<00:21,  1.00s/it]"
     ]
    },
    {
     "name": "stdout",
     "output_type": "stream",
     "text": [
      "[LightGBM] [Warning] lambda_l1 is set=0.0474587633751369, reg_alpha=0.0 will be ignored. Current value: lambda_l1=0.0474587633751369\n",
      "[LightGBM] [Warning] bagging_fraction is set=0.8976619661127543, subsample=1.0 will be ignored. Current value: bagging_fraction=0.8976619661127543\n",
      "[LightGBM] [Warning] feature_fraction is set=0.6539801342710443, colsample_bytree=1.0 will be ignored. Current value: feature_fraction=0.6539801342710443\n",
      "[LightGBM] [Warning] lambda_l2 is set=0.3422853948073336, reg_lambda=0.0 will be ignored. Current value: lambda_l2=0.3422853948073336\n"
     ]
    },
    {
     "name": "stderr",
     "output_type": "stream",
     "text": [
      " 80%|████████  | 80/100 [01:22<00:19,  1.01it/s]"
     ]
    },
    {
     "name": "stdout",
     "output_type": "stream",
     "text": [
      "[LightGBM] [Warning] lambda_l1 is set=0.0474587633751369, reg_alpha=0.0 will be ignored. Current value: lambda_l1=0.0474587633751369\n",
      "[LightGBM] [Warning] bagging_fraction is set=0.8976619661127543, subsample=1.0 will be ignored. Current value: bagging_fraction=0.8976619661127543\n",
      "[LightGBM] [Warning] feature_fraction is set=0.6539801342710443, colsample_bytree=1.0 will be ignored. Current value: feature_fraction=0.6539801342710443\n",
      "[LightGBM] [Warning] lambda_l2 is set=0.3422853948073336, reg_lambda=0.0 will be ignored. Current value: lambda_l2=0.3422853948073336\n"
     ]
    },
    {
     "name": "stderr",
     "output_type": "stream",
     "text": [
      " 81%|████████  | 81/100 [01:23<00:18,  1.00it/s]"
     ]
    },
    {
     "name": "stdout",
     "output_type": "stream",
     "text": [
      "[LightGBM] [Warning] lambda_l1 is set=0.0474587633751369, reg_alpha=0.0 will be ignored. Current value: lambda_l1=0.0474587633751369\n",
      "[LightGBM] [Warning] bagging_fraction is set=0.8976619661127543, subsample=1.0 will be ignored. Current value: bagging_fraction=0.8976619661127543\n",
      "[LightGBM] [Warning] feature_fraction is set=0.6539801342710443, colsample_bytree=1.0 will be ignored. Current value: feature_fraction=0.6539801342710443\n",
      "[LightGBM] [Warning] lambda_l2 is set=0.3422853948073336, reg_lambda=0.0 will be ignored. Current value: lambda_l2=0.3422853948073336\n"
     ]
    },
    {
     "name": "stderr",
     "output_type": "stream",
     "text": [
      " 82%|████████▏ | 82/100 [01:24<00:18,  1.01s/it]"
     ]
    },
    {
     "name": "stdout",
     "output_type": "stream",
     "text": [
      "[LightGBM] [Warning] lambda_l1 is set=0.0474587633751369, reg_alpha=0.0 will be ignored. Current value: lambda_l1=0.0474587633751369\n",
      "[LightGBM] [Warning] bagging_fraction is set=0.8976619661127543, subsample=1.0 will be ignored. Current value: bagging_fraction=0.8976619661127543\n",
      "[LightGBM] [Warning] feature_fraction is set=0.6539801342710443, colsample_bytree=1.0 will be ignored. Current value: feature_fraction=0.6539801342710443\n",
      "[LightGBM] [Warning] lambda_l2 is set=0.3422853948073336, reg_lambda=0.0 will be ignored. Current value: lambda_l2=0.3422853948073336\n"
     ]
    },
    {
     "name": "stderr",
     "output_type": "stream",
     "text": [
      " 83%|████████▎ | 83/100 [01:25<00:17,  1.00s/it]"
     ]
    },
    {
     "name": "stdout",
     "output_type": "stream",
     "text": [
      "[LightGBM] [Warning] lambda_l1 is set=0.0474587633751369, reg_alpha=0.0 will be ignored. Current value: lambda_l1=0.0474587633751369\n",
      "[LightGBM] [Warning] bagging_fraction is set=0.8976619661127543, subsample=1.0 will be ignored. Current value: bagging_fraction=0.8976619661127543\n",
      "[LightGBM] [Warning] feature_fraction is set=0.6539801342710443, colsample_bytree=1.0 will be ignored. Current value: feature_fraction=0.6539801342710443\n",
      "[LightGBM] [Warning] lambda_l2 is set=0.3422853948073336, reg_lambda=0.0 will be ignored. Current value: lambda_l2=0.3422853948073336\n"
     ]
    },
    {
     "name": "stderr",
     "output_type": "stream",
     "text": [
      " 84%|████████▍ | 84/100 [01:26<00:17,  1.08s/it]"
     ]
    },
    {
     "name": "stdout",
     "output_type": "stream",
     "text": [
      "[LightGBM] [Warning] lambda_l1 is set=0.0474587633751369, reg_alpha=0.0 will be ignored. Current value: lambda_l1=0.0474587633751369\n",
      "[LightGBM] [Warning] bagging_fraction is set=0.8976619661127543, subsample=1.0 will be ignored. Current value: bagging_fraction=0.8976619661127543\n",
      "[LightGBM] [Warning] feature_fraction is set=0.6539801342710443, colsample_bytree=1.0 will be ignored. Current value: feature_fraction=0.6539801342710443\n",
      "[LightGBM] [Warning] lambda_l2 is set=0.3422853948073336, reg_lambda=0.0 will be ignored. Current value: lambda_l2=0.3422853948073336\n"
     ]
    },
    {
     "name": "stderr",
     "output_type": "stream",
     "text": [
      " 85%|████████▌ | 85/100 [01:29<00:23,  1.60s/it]"
     ]
    },
    {
     "name": "stdout",
     "output_type": "stream",
     "text": [
      "[LightGBM] [Warning] lambda_l1 is set=0.0474587633751369, reg_alpha=0.0 will be ignored. Current value: lambda_l1=0.0474587633751369\n",
      "[LightGBM] [Warning] bagging_fraction is set=0.8976619661127543, subsample=1.0 will be ignored. Current value: bagging_fraction=0.8976619661127543\n",
      "[LightGBM] [Warning] feature_fraction is set=0.6539801342710443, colsample_bytree=1.0 will be ignored. Current value: feature_fraction=0.6539801342710443\n",
      "[LightGBM] [Warning] lambda_l2 is set=0.3422853948073336, reg_lambda=0.0 will be ignored. Current value: lambda_l2=0.3422853948073336\n"
     ]
    },
    {
     "name": "stderr",
     "output_type": "stream",
     "text": [
      " 86%|████████▌ | 86/100 [01:31<00:26,  1.88s/it]"
     ]
    },
    {
     "name": "stdout",
     "output_type": "stream",
     "text": [
      "[LightGBM] [Warning] lambda_l1 is set=0.0474587633751369, reg_alpha=0.0 will be ignored. Current value: lambda_l1=0.0474587633751369\n",
      "[LightGBM] [Warning] bagging_fraction is set=0.8976619661127543, subsample=1.0 will be ignored. Current value: bagging_fraction=0.8976619661127543\n",
      "[LightGBM] [Warning] feature_fraction is set=0.6539801342710443, colsample_bytree=1.0 will be ignored. Current value: feature_fraction=0.6539801342710443\n",
      "[LightGBM] [Warning] lambda_l2 is set=0.3422853948073336, reg_lambda=0.0 will be ignored. Current value: lambda_l2=0.3422853948073336\n"
     ]
    },
    {
     "name": "stderr",
     "output_type": "stream",
     "text": [
      " 87%|████████▋ | 87/100 [01:34<00:26,  2.02s/it]"
     ]
    },
    {
     "name": "stdout",
     "output_type": "stream",
     "text": [
      "[LightGBM] [Warning] lambda_l1 is set=0.0474587633751369, reg_alpha=0.0 will be ignored. Current value: lambda_l1=0.0474587633751369\n",
      "[LightGBM] [Warning] bagging_fraction is set=0.8976619661127543, subsample=1.0 will be ignored. Current value: bagging_fraction=0.8976619661127543\n",
      "[LightGBM] [Warning] feature_fraction is set=0.6539801342710443, colsample_bytree=1.0 will be ignored. Current value: feature_fraction=0.6539801342710443\n",
      "[LightGBM] [Warning] lambda_l2 is set=0.3422853948073336, reg_lambda=0.0 will be ignored. Current value: lambda_l2=0.3422853948073336\n"
     ]
    },
    {
     "name": "stderr",
     "output_type": "stream",
     "text": [
      " 88%|████████▊ | 88/100 [01:37<00:27,  2.30s/it]"
     ]
    },
    {
     "name": "stdout",
     "output_type": "stream",
     "text": [
      "[LightGBM] [Warning] lambda_l1 is set=0.0474587633751369, reg_alpha=0.0 will be ignored. Current value: lambda_l1=0.0474587633751369\n",
      "[LightGBM] [Warning] bagging_fraction is set=0.8976619661127543, subsample=1.0 will be ignored. Current value: bagging_fraction=0.8976619661127543\n",
      "[LightGBM] [Warning] feature_fraction is set=0.6539801342710443, colsample_bytree=1.0 will be ignored. Current value: feature_fraction=0.6539801342710443\n",
      "[LightGBM] [Warning] lambda_l2 is set=0.3422853948073336, reg_lambda=0.0 will be ignored. Current value: lambda_l2=0.3422853948073336\n"
     ]
    },
    {
     "name": "stderr",
     "output_type": "stream",
     "text": [
      " 89%|████████▉ | 89/100 [01:39<00:26,  2.45s/it]"
     ]
    },
    {
     "name": "stdout",
     "output_type": "stream",
     "text": [
      "[LightGBM] [Warning] lambda_l1 is set=0.0474587633751369, reg_alpha=0.0 will be ignored. Current value: lambda_l1=0.0474587633751369\n",
      "[LightGBM] [Warning] bagging_fraction is set=0.8976619661127543, subsample=1.0 will be ignored. Current value: bagging_fraction=0.8976619661127543\n",
      "[LightGBM] [Warning] feature_fraction is set=0.6539801342710443, colsample_bytree=1.0 will be ignored. Current value: feature_fraction=0.6539801342710443\n",
      "[LightGBM] [Warning] lambda_l2 is set=0.3422853948073336, reg_lambda=0.0 will be ignored. Current value: lambda_l2=0.3422853948073336\n"
     ]
    },
    {
     "name": "stderr",
     "output_type": "stream",
     "text": [
      " 90%|█████████ | 90/100 [01:41<00:22,  2.27s/it]"
     ]
    },
    {
     "name": "stdout",
     "output_type": "stream",
     "text": [
      "[LightGBM] [Warning] lambda_l1 is set=0.0474587633751369, reg_alpha=0.0 will be ignored. Current value: lambda_l1=0.0474587633751369\n",
      "[LightGBM] [Warning] bagging_fraction is set=0.8976619661127543, subsample=1.0 will be ignored. Current value: bagging_fraction=0.8976619661127543\n",
      "[LightGBM] [Warning] feature_fraction is set=0.6539801342710443, colsample_bytree=1.0 will be ignored. Current value: feature_fraction=0.6539801342710443\n",
      "[LightGBM] [Warning] lambda_l2 is set=0.3422853948073336, reg_lambda=0.0 will be ignored. Current value: lambda_l2=0.3422853948073336\n"
     ]
    },
    {
     "name": "stderr",
     "output_type": "stream",
     "text": [
      " 91%|█████████ | 91/100 [01:44<00:21,  2.36s/it]"
     ]
    },
    {
     "name": "stdout",
     "output_type": "stream",
     "text": [
      "[LightGBM] [Warning] lambda_l1 is set=0.0474587633751369, reg_alpha=0.0 will be ignored. Current value: lambda_l1=0.0474587633751369\n",
      "[LightGBM] [Warning] bagging_fraction is set=0.8976619661127543, subsample=1.0 will be ignored. Current value: bagging_fraction=0.8976619661127543\n",
      "[LightGBM] [Warning] feature_fraction is set=0.6539801342710443, colsample_bytree=1.0 will be ignored. Current value: feature_fraction=0.6539801342710443\n",
      "[LightGBM] [Warning] lambda_l2 is set=0.3422853948073336, reg_lambda=0.0 will be ignored. Current value: lambda_l2=0.3422853948073336\n"
     ]
    },
    {
     "name": "stderr",
     "output_type": "stream",
     "text": [
      " 92%|█████████▏| 92/100 [01:45<00:16,  2.05s/it]"
     ]
    },
    {
     "name": "stdout",
     "output_type": "stream",
     "text": [
      "[LightGBM] [Warning] lambda_l1 is set=0.0474587633751369, reg_alpha=0.0 will be ignored. Current value: lambda_l1=0.0474587633751369\n",
      "[LightGBM] [Warning] bagging_fraction is set=0.8976619661127543, subsample=1.0 will be ignored. Current value: bagging_fraction=0.8976619661127543\n",
      "[LightGBM] [Warning] feature_fraction is set=0.6539801342710443, colsample_bytree=1.0 will be ignored. Current value: feature_fraction=0.6539801342710443\n",
      "[LightGBM] [Warning] lambda_l2 is set=0.3422853948073336, reg_lambda=0.0 will be ignored. Current value: lambda_l2=0.3422853948073336\n"
     ]
    },
    {
     "name": "stderr",
     "output_type": "stream",
     "text": [
      " 93%|█████████▎| 93/100 [01:46<00:12,  1.73s/it]"
     ]
    },
    {
     "name": "stdout",
     "output_type": "stream",
     "text": [
      "[LightGBM] [Warning] lambda_l1 is set=0.0474587633751369, reg_alpha=0.0 will be ignored. Current value: lambda_l1=0.0474587633751369\n",
      "[LightGBM] [Warning] bagging_fraction is set=0.8976619661127543, subsample=1.0 will be ignored. Current value: bagging_fraction=0.8976619661127543\n",
      "[LightGBM] [Warning] feature_fraction is set=0.6539801342710443, colsample_bytree=1.0 will be ignored. Current value: feature_fraction=0.6539801342710443\n",
      "[LightGBM] [Warning] lambda_l2 is set=0.3422853948073336, reg_lambda=0.0 will be ignored. Current value: lambda_l2=0.3422853948073336\n"
     ]
    },
    {
     "name": "stderr",
     "output_type": "stream",
     "text": [
      " 94%|█████████▍| 94/100 [01:47<00:09,  1.52s/it]"
     ]
    },
    {
     "name": "stdout",
     "output_type": "stream",
     "text": [
      "[LightGBM] [Warning] lambda_l1 is set=0.0474587633751369, reg_alpha=0.0 will be ignored. Current value: lambda_l1=0.0474587633751369\n",
      "[LightGBM] [Warning] bagging_fraction is set=0.8976619661127543, subsample=1.0 will be ignored. Current value: bagging_fraction=0.8976619661127543\n",
      "[LightGBM] [Warning] feature_fraction is set=0.6539801342710443, colsample_bytree=1.0 will be ignored. Current value: feature_fraction=0.6539801342710443\n",
      "[LightGBM] [Warning] lambda_l2 is set=0.3422853948073336, reg_lambda=0.0 will be ignored. Current value: lambda_l2=0.3422853948073336\n"
     ]
    },
    {
     "name": "stderr",
     "output_type": "stream",
     "text": [
      " 95%|█████████▌| 95/100 [01:48<00:06,  1.35s/it]"
     ]
    },
    {
     "name": "stdout",
     "output_type": "stream",
     "text": [
      "[LightGBM] [Warning] lambda_l1 is set=0.0474587633751369, reg_alpha=0.0 will be ignored. Current value: lambda_l1=0.0474587633751369\n",
      "[LightGBM] [Warning] bagging_fraction is set=0.8976619661127543, subsample=1.0 will be ignored. Current value: bagging_fraction=0.8976619661127543\n",
      "[LightGBM] [Warning] feature_fraction is set=0.6539801342710443, colsample_bytree=1.0 will be ignored. Current value: feature_fraction=0.6539801342710443\n",
      "[LightGBM] [Warning] lambda_l2 is set=0.3422853948073336, reg_lambda=0.0 will be ignored. Current value: lambda_l2=0.3422853948073336\n"
     ]
    },
    {
     "name": "stderr",
     "output_type": "stream",
     "text": [
      " 96%|█████████▌| 96/100 [01:49<00:05,  1.26s/it]"
     ]
    },
    {
     "name": "stdout",
     "output_type": "stream",
     "text": [
      "[LightGBM] [Warning] lambda_l1 is set=0.0474587633751369, reg_alpha=0.0 will be ignored. Current value: lambda_l1=0.0474587633751369\n",
      "[LightGBM] [Warning] bagging_fraction is set=0.8976619661127543, subsample=1.0 will be ignored. Current value: bagging_fraction=0.8976619661127543\n",
      "[LightGBM] [Warning] feature_fraction is set=0.6539801342710443, colsample_bytree=1.0 will be ignored. Current value: feature_fraction=0.6539801342710443\n",
      "[LightGBM] [Warning] lambda_l2 is set=0.3422853948073336, reg_lambda=0.0 will be ignored. Current value: lambda_l2=0.3422853948073336\n"
     ]
    },
    {
     "name": "stderr",
     "output_type": "stream",
     "text": [
      " 97%|█████████▋| 97/100 [01:50<00:03,  1.22s/it]"
     ]
    },
    {
     "name": "stdout",
     "output_type": "stream",
     "text": [
      "[LightGBM] [Warning] lambda_l1 is set=0.0474587633751369, reg_alpha=0.0 will be ignored. Current value: lambda_l1=0.0474587633751369\n",
      "[LightGBM] [Warning] bagging_fraction is set=0.8976619661127543, subsample=1.0 will be ignored. Current value: bagging_fraction=0.8976619661127543\n",
      "[LightGBM] [Warning] feature_fraction is set=0.6539801342710443, colsample_bytree=1.0 will be ignored. Current value: feature_fraction=0.6539801342710443\n",
      "[LightGBM] [Warning] lambda_l2 is set=0.3422853948073336, reg_lambda=0.0 will be ignored. Current value: lambda_l2=0.3422853948073336\n"
     ]
    },
    {
     "name": "stderr",
     "output_type": "stream",
     "text": [
      " 98%|█████████▊| 98/100 [01:51<00:02,  1.16s/it]"
     ]
    },
    {
     "name": "stdout",
     "output_type": "stream",
     "text": [
      "[LightGBM] [Warning] lambda_l1 is set=0.0474587633751369, reg_alpha=0.0 will be ignored. Current value: lambda_l1=0.0474587633751369\n",
      "[LightGBM] [Warning] bagging_fraction is set=0.8976619661127543, subsample=1.0 will be ignored. Current value: bagging_fraction=0.8976619661127543\n",
      "[LightGBM] [Warning] feature_fraction is set=0.6539801342710443, colsample_bytree=1.0 will be ignored. Current value: feature_fraction=0.6539801342710443\n",
      "[LightGBM] [Warning] lambda_l2 is set=0.3422853948073336, reg_lambda=0.0 will be ignored. Current value: lambda_l2=0.3422853948073336\n"
     ]
    },
    {
     "name": "stderr",
     "output_type": "stream",
     "text": [
      " 99%|█████████▉| 99/100 [01:52<00:01,  1.13s/it]"
     ]
    },
    {
     "name": "stdout",
     "output_type": "stream",
     "text": [
      "[LightGBM] [Warning] lambda_l1 is set=0.0474587633751369, reg_alpha=0.0 will be ignored. Current value: lambda_l1=0.0474587633751369\n",
      "[LightGBM] [Warning] bagging_fraction is set=0.8976619661127543, subsample=1.0 will be ignored. Current value: bagging_fraction=0.8976619661127543\n",
      "[LightGBM] [Warning] feature_fraction is set=0.6539801342710443, colsample_bytree=1.0 will be ignored. Current value: feature_fraction=0.6539801342710443\n",
      "[LightGBM] [Warning] lambda_l2 is set=0.3422853948073336, reg_lambda=0.0 will be ignored. Current value: lambda_l2=0.3422853948073336\n"
     ]
    },
    {
     "name": "stderr",
     "output_type": "stream",
     "text": [
      "100%|██████████| 100/100 [01:53<00:00,  1.14s/it]\n",
      "100%|██████████| 100/100 [03:51<00:00,  2.32s/it]\n"
     ]
    },
    {
     "data": {
      "text/html": [
       "<div>\n",
       "<style scoped>\n",
       "    .dataframe tbody tr th:only-of-type {\n",
       "        vertical-align: middle;\n",
       "    }\n",
       "\n",
       "    .dataframe tbody tr th {\n",
       "        vertical-align: top;\n",
       "    }\n",
       "\n",
       "    .dataframe thead th {\n",
       "        text-align: right;\n",
       "    }\n",
       "</style>\n",
       "<table border=\"1\" class=\"dataframe\">\n",
       "  <thead>\n",
       "    <tr style=\"text-align: right;\">\n",
       "      <th></th>\n",
       "      <th>ID</th>\n",
       "      <th>Pred</th>\n",
       "    </tr>\n",
       "  </thead>\n",
       "  <tbody>\n",
       "    <tr>\n",
       "      <th>0</th>\n",
       "      <td>2023_3104_3112</td>\n",
       "      <td>0.093010</td>\n",
       "    </tr>\n",
       "    <tr>\n",
       "      <th>1</th>\n",
       "      <td>2023_3104_3124</td>\n",
       "      <td>0.081812</td>\n",
       "    </tr>\n",
       "    <tr>\n",
       "      <th>2</th>\n",
       "      <td>2023_3104_3151</td>\n",
       "      <td>0.903684</td>\n",
       "    </tr>\n",
       "    <tr>\n",
       "      <th>3</th>\n",
       "      <td>2023_3104_3156</td>\n",
       "      <td>0.899416</td>\n",
       "    </tr>\n",
       "    <tr>\n",
       "      <th>4</th>\n",
       "      <td>2023_3104_3160</td>\n",
       "      <td>0.078373</td>\n",
       "    </tr>\n",
       "  </tbody>\n",
       "</table>\n",
       "</div>"
      ],
      "text/plain": [
       "               ID      Pred\n",
       "0  2023_3104_3112  0.093010\n",
       "1  2023_3104_3124  0.081812\n",
       "2  2023_3104_3151  0.903684\n",
       "3  2023_3104_3156  0.899416\n",
       "4  2023_3104_3160  0.078373"
      ]
     },
     "execution_count": 6,
     "metadata": {},
     "output_type": "execute_result"
    }
   ],
   "source": [
    "to_select = ['X1_WinRatio14d',\n",
    "             'X1_PointsMean',\n",
    "             'X1_PointsMedian',\n",
    "             'X1_PointsDiffMean',\n",
    "             'X1_FgaMean',\n",
    "             'X1_FgaMedian',\n",
    "             'X1_FgaMin',\n",
    "             'X1_FgaMax',\n",
    "             'X1_AstMean',\n",
    "             'X1_BlkMean',\n",
    "             'X1_OppFgaMean',\n",
    "             'X1_OppFgaMin',\n",
    "             'X1_EfgpMean',\n",
    "             'X1_PossessionsMean',\n",
    "             'X1_PpmMean',\n",
    "             'X1_FtrMean',\n",
    "             'X1_TopMean',\n",
    "             'X1_DrebpMean',\n",
    "             'X2_WinRatio14d',\n",
    "             'X2_PointsMean',\n",
    "             'X2_PointsMedian',\n",
    "             'X2_PointsDiffMean',\n",
    "             'X2_FgaMean',\n",
    "             'X2_FgaMedian',\n",
    "             'X2_FgaMin',\n",
    "             'X2_FgaMax',\n",
    "             'X2_AstMean',\n",
    "             'X2_BlkMean',\n",
    "             'X2_OppFgaMean',\n",
    "             'X2_OppFgaMin',\n",
    "             'X2_EfgpMean',\n",
    "             'X2_PossessionsMean',\n",
    "             'X2_PpmMean',\n",
    "             'X2_FtrMean',\n",
    "             'X2_TopMean',\n",
    "             'X2_DrebpMean',\n",
    "             'Seed1',\n",
    "             'Seed2',\n",
    "             'SeedDiff',\n",
    "             'quality_march_T1',\n",
    "             'quality_march_T2', \n",
    "             'ResultDiff',\n",
    "             'X1_team_rating',\n",
    "             'X1_rd1_win',\n",
    "             'X1_rd2_win',\n",
    "             'X1_rd3_win',\n",
    "             'X1_rd4_win',\n",
    "             'X1_rd5_win',\n",
    "             'X1_rd6_win',\n",
    "             'X1_rd7_win',\n",
    "             'X2_team_rating',\n",
    "             'X2_rd1_win',\n",
    "             'X2_rd2_win',\n",
    "             'X2_rd3_win',\n",
    "             'X2_rd4_win',\n",
    "             'X2_rd5_win',\n",
    "             'X2_rd6_win',\n",
    "             'X2_rd7_win']\n",
    "\n",
    "X = woman_train_2016[to_select]\n",
    "Y = woman_train_2016['target']\n",
    "\n",
    "woman_test_tour_ID = woman_test_tour['ID']\n",
    "woman_test_tour = woman_test_tour[to_select]\n",
    "\n",
    "#############\n",
    "## XGBoost ##\n",
    "#############\n",
    "\n",
    "xgb_params = pd.read_csv('woman_XGB_Phase_2_42_Optuna_Hyperparameters.csv')\n",
    "xgb_preds = list()\n",
    "\n",
    "for i in tqdm(range(100)):\n",
    "\n",
    "    xgb_md = XGBClassifier(tree_method = 'hist', \n",
    "                           max_depth = xgb_params['max_depth'][0],\n",
    "                           learning_rate = xgb_params['learning_rate'][0],\n",
    "                           n_estimators = xgb_params['n_estimators'][0],\n",
    "                           gamma = xgb_params['gamma'][0],\n",
    "                           min_child_weight = xgb_params['min_child_weight'][0],\n",
    "                           colsample_bytree = xgb_params['colsample_bytree'][0],\n",
    "                           subsample = xgb_params['subsample'][0],\n",
    "                           random_state = i).fit(X, Y)\n",
    "\n",
    "    xgb_pred = xgb_md.predict_proba(woman_test_tour)[:, 1]\n",
    "    xgb_preds.append(xgb_pred)\n",
    "\n",
    "##############\n",
    "## LightGBM ##\n",
    "##############\n",
    "\n",
    "lgb_params = pd.read_csv('woman_LightGBM_Phase_2_42_Optuna_Hyperparameters.csv')\n",
    "lgb_preds = list()\n",
    "\n",
    "for i in tqdm(range(100)):\n",
    "    \n",
    "    lgb_md = LGBMClassifier(boosting_type = 'gbdt', \n",
    "                            n_estimators = lgb_params['n_estimators'][0],\n",
    "                            learning_rate = lgb_params['learning_rate'][0],\n",
    "                            max_depth = lgb_params['max_depth'][0],\n",
    "                            lambda_l1 = lgb_params['lambda_l1'][0],\n",
    "                            lambda_l2 = lgb_params['lambda_l2'][0],\n",
    "                            num_leaves = lgb_params['num_leaves'][0],\n",
    "                            bagging_fraction = lgb_params['bagging_fraction'][0],\n",
    "                            feature_fraction = lgb_params['feature_fraction'][0],\n",
    "                            random_state = i).fit(X, Y)\n",
    "\n",
    "    lgb_pred = lgb_md.predict_proba(woman_test_tour)[:, 1]\n",
    "    lgb_preds.append(lgb_pred)\n",
    "\n",
    "##################\n",
    "## HistGradient ##\n",
    "##################\n",
    "\n",
    "hist_params = pd.read_csv('woman_Hist_Phase_2_42_Optuna_Hyperparameters.csv')\n",
    "hist_preds = list()\n",
    "\n",
    "for i in tqdm(range(100)):\n",
    "\n",
    "    hist_md = HistGradientBoostingClassifier(l2_regularization = hist_params['l2_regularization'][0],\n",
    "                                             early_stopping = False,\n",
    "                                             learning_rate = hist_params['learning_rate'][0],\n",
    "                                             max_iter = hist_params['max_iter'][0],\n",
    "                                             max_depth = hist_params['max_depth'][0],\n",
    "                                             max_bins = hist_params['max_bins'][0],\n",
    "                                             min_samples_leaf = hist_params['min_samples_leaf'][0],\n",
    "                                             max_leaf_nodes = hist_params['max_leaf_nodes'][0], \n",
    "                                             random_state = i).fit(X, Y)\n",
    "\n",
    "    hist_pred = hist_md.predict_proba(woman_test_tour)[:, 1]\n",
    "    hist_preds.append(hist_pred)\n",
    "\n",
    "##############\n",
    "## Ensemble ##\n",
    "##############\n",
    "\n",
    "xgb_pred = pd.DataFrame(xgb_preds).apply(np.mean, axis = 0)\n",
    "lgb_pred = pd.DataFrame(lgb_preds).apply(np.mean, axis = 0)\n",
    "hist_pred = pd.DataFrame(hist_preds).apply(np.mean, axis = 0)\n",
    "\n",
    "ens_pred = (xgb_pred + lgb_pred + hist_pred) / 3\n",
    "woman_pred = pd.DataFrame({'ID': woman_test_tour_ID, 'Pred': ens_pred})\n",
    "woman_pred.head()"
   ]
  },
  {
   "cell_type": "code",
   "execution_count": null,
   "id": "eaccfb6c",
   "metadata": {},
   "outputs": [
    {
     "data": {
      "text/html": [
       "<div>\n",
       "<style scoped>\n",
       "    .dataframe tbody tr th:only-of-type {\n",
       "        vertical-align: middle;\n",
       "    }\n",
       "\n",
       "    .dataframe tbody tr th {\n",
       "        vertical-align: top;\n",
       "    }\n",
       "\n",
       "    .dataframe thead th {\n",
       "        text-align: right;\n",
       "    }\n",
       "</style>\n",
       "<table border=\"1\" class=\"dataframe\">\n",
       "  <thead>\n",
       "    <tr style=\"text-align: right;\">\n",
       "      <th></th>\n",
       "      <th>ID</th>\n",
       "      <th>Pred</th>\n",
       "    </tr>\n",
       "  </thead>\n",
       "  <tbody>\n",
       "    <tr>\n",
       "      <th>0</th>\n",
       "      <td>2023_1101_1102</td>\n",
       "      <td>0.5</td>\n",
       "    </tr>\n",
       "    <tr>\n",
       "      <th>1</th>\n",
       "      <td>2023_1101_1103</td>\n",
       "      <td>0.5</td>\n",
       "    </tr>\n",
       "    <tr>\n",
       "      <th>2</th>\n",
       "      <td>2023_1101_1104</td>\n",
       "      <td>0.5</td>\n",
       "    </tr>\n",
       "    <tr>\n",
       "      <th>3</th>\n",
       "      <td>2023_1101_1105</td>\n",
       "      <td>0.5</td>\n",
       "    </tr>\n",
       "    <tr>\n",
       "      <th>4</th>\n",
       "      <td>2023_1101_1106</td>\n",
       "      <td>0.5</td>\n",
       "    </tr>\n",
       "  </tbody>\n",
       "</table>\n",
       "</div>"
      ],
      "text/plain": [
       "               ID  Pred\n",
       "0  2023_1101_1102   0.5\n",
       "1  2023_1101_1103   0.5\n",
       "2  2023_1101_1104   0.5\n",
       "3  2023_1101_1105   0.5\n",
       "4  2023_1101_1106   0.5"
      ]
     },
     "execution_count": 7,
     "metadata": {},
     "output_type": "execute_result"
    }
   ],
   "source": [
    "submission = pd.merge(submission, man_pred, on = 'ID', how = 'left')\n",
    "submission = pd.merge(submission, woman_pred, on = 'ID', how = 'left')\n",
    "submission.columns = ['ID', 'pred1', 'pred2', 'pred3']\n",
    "submission['Pred'] = np.where(np.isnan(submission['pred2']), submission['pred1'], submission['pred2'])\n",
    "submission['Pred'] = np.where(np.isnan(submission['pred3']), submission['Pred'], submission['pred3'])\n",
    "submission.drop(columns = ['pred1', 'pred2', 'pred3'], axis = 1, inplace = True)\n",
    "submission.head()"
   ]
  },
  {
   "cell_type": "code",
   "execution_count": null,
   "id": "31c7fa50",
   "metadata": {},
   "outputs": [],
   "source": [
    "submission.to_csv('Third_submission.csv', index = False)"
   ]
  },
  {
   "cell_type": "markdown",
   "id": "41122188",
   "metadata": {},
   "source": [
    "# Solution 2\n",
    "## Phase 1: Man"
   ]
  },
  {
   "cell_type": "code",
   "execution_count": null,
   "id": "da09fe02",
   "metadata": {},
   "outputs": [
    {
     "name": "stderr",
     "output_type": "stream",
     "text": [
      "100%|██████████| 100/100 [37:43<00:00, 22.63s/it]\n",
      "  0%|          | 0/100 [00:00<?, ?it/s]"
     ]
    },
    {
     "name": "stdout",
     "output_type": "stream",
     "text": [
      "[LightGBM] [Warning] lambda_l1 is set=0.0768920138186167, reg_alpha=0.0 will be ignored. Current value: lambda_l1=0.0768920138186167\n",
      "[LightGBM] [Warning] bagging_fraction is set=0.576781303889645, subsample=1.0 will be ignored. Current value: bagging_fraction=0.576781303889645\n",
      "[LightGBM] [Warning] feature_fraction is set=0.548497029189781, colsample_bytree=1.0 will be ignored. Current value: feature_fraction=0.548497029189781\n",
      "[LightGBM] [Warning] lambda_l2 is set=0.0595126440974096, reg_lambda=0.0 will be ignored. Current value: lambda_l2=0.0595126440974096\n"
     ]
    },
    {
     "name": "stderr",
     "output_type": "stream",
     "text": [
      "  1%|          | 1/100 [00:17<29:19, 17.77s/it]"
     ]
    },
    {
     "name": "stdout",
     "output_type": "stream",
     "text": [
      "[LightGBM] [Warning] lambda_l1 is set=0.0768920138186167, reg_alpha=0.0 will be ignored. Current value: lambda_l1=0.0768920138186167\n",
      "[LightGBM] [Warning] bagging_fraction is set=0.576781303889645, subsample=1.0 will be ignored. Current value: bagging_fraction=0.576781303889645\n",
      "[LightGBM] [Warning] feature_fraction is set=0.548497029189781, colsample_bytree=1.0 will be ignored. Current value: feature_fraction=0.548497029189781\n",
      "[LightGBM] [Warning] lambda_l2 is set=0.0595126440974096, reg_lambda=0.0 will be ignored. Current value: lambda_l2=0.0595126440974096\n"
     ]
    },
    {
     "name": "stderr",
     "output_type": "stream",
     "text": [
      "  2%|▏         | 2/100 [00:25<19:29, 11.93s/it]"
     ]
    },
    {
     "name": "stdout",
     "output_type": "stream",
     "text": [
      "[LightGBM] [Warning] lambda_l1 is set=0.0768920138186167, reg_alpha=0.0 will be ignored. Current value: lambda_l1=0.0768920138186167\n",
      "[LightGBM] [Warning] bagging_fraction is set=0.576781303889645, subsample=1.0 will be ignored. Current value: bagging_fraction=0.576781303889645\n",
      "[LightGBM] [Warning] feature_fraction is set=0.548497029189781, colsample_bytree=1.0 will be ignored. Current value: feature_fraction=0.548497029189781\n",
      "[LightGBM] [Warning] lambda_l2 is set=0.0595126440974096, reg_lambda=0.0 will be ignored. Current value: lambda_l2=0.0595126440974096\n"
     ]
    },
    {
     "name": "stderr",
     "output_type": "stream",
     "text": [
      "  3%|▎         | 3/100 [00:33<16:23, 10.14s/it]"
     ]
    },
    {
     "name": "stdout",
     "output_type": "stream",
     "text": [
      "[LightGBM] [Warning] lambda_l1 is set=0.0768920138186167, reg_alpha=0.0 will be ignored. Current value: lambda_l1=0.0768920138186167\n",
      "[LightGBM] [Warning] bagging_fraction is set=0.576781303889645, subsample=1.0 will be ignored. Current value: bagging_fraction=0.576781303889645\n",
      "[LightGBM] [Warning] feature_fraction is set=0.548497029189781, colsample_bytree=1.0 will be ignored. Current value: feature_fraction=0.548497029189781\n",
      "[LightGBM] [Warning] lambda_l2 is set=0.0595126440974096, reg_lambda=0.0 will be ignored. Current value: lambda_l2=0.0595126440974096\n"
     ]
    },
    {
     "name": "stderr",
     "output_type": "stream",
     "text": [
      "  4%|▍         | 4/100 [00:41<14:48,  9.25s/it]"
     ]
    },
    {
     "name": "stdout",
     "output_type": "stream",
     "text": [
      "[LightGBM] [Warning] lambda_l1 is set=0.0768920138186167, reg_alpha=0.0 will be ignored. Current value: lambda_l1=0.0768920138186167\n",
      "[LightGBM] [Warning] bagging_fraction is set=0.576781303889645, subsample=1.0 will be ignored. Current value: bagging_fraction=0.576781303889645\n",
      "[LightGBM] [Warning] feature_fraction is set=0.548497029189781, colsample_bytree=1.0 will be ignored. Current value: feature_fraction=0.548497029189781\n",
      "[LightGBM] [Warning] lambda_l2 is set=0.0595126440974096, reg_lambda=0.0 will be ignored. Current value: lambda_l2=0.0595126440974096\n"
     ]
    },
    {
     "name": "stderr",
     "output_type": "stream",
     "text": [
      "  5%|▌         | 5/100 [00:49<14:00,  8.84s/it]"
     ]
    },
    {
     "name": "stdout",
     "output_type": "stream",
     "text": [
      "[LightGBM] [Warning] lambda_l1 is set=0.0768920138186167, reg_alpha=0.0 will be ignored. Current value: lambda_l1=0.0768920138186167\n",
      "[LightGBM] [Warning] bagging_fraction is set=0.576781303889645, subsample=1.0 will be ignored. Current value: bagging_fraction=0.576781303889645\n",
      "[LightGBM] [Warning] feature_fraction is set=0.548497029189781, colsample_bytree=1.0 will be ignored. Current value: feature_fraction=0.548497029189781\n",
      "[LightGBM] [Warning] lambda_l2 is set=0.0595126440974096, reg_lambda=0.0 will be ignored. Current value: lambda_l2=0.0595126440974096\n"
     ]
    },
    {
     "name": "stderr",
     "output_type": "stream",
     "text": [
      "  6%|▌         | 6/100 [00:57<13:23,  8.55s/it]"
     ]
    },
    {
     "name": "stdout",
     "output_type": "stream",
     "text": [
      "[LightGBM] [Warning] lambda_l1 is set=0.0768920138186167, reg_alpha=0.0 will be ignored. Current value: lambda_l1=0.0768920138186167\n",
      "[LightGBM] [Warning] bagging_fraction is set=0.576781303889645, subsample=1.0 will be ignored. Current value: bagging_fraction=0.576781303889645\n",
      "[LightGBM] [Warning] feature_fraction is set=0.548497029189781, colsample_bytree=1.0 will be ignored. Current value: feature_fraction=0.548497029189781\n",
      "[LightGBM] [Warning] lambda_l2 is set=0.0595126440974096, reg_lambda=0.0 will be ignored. Current value: lambda_l2=0.0595126440974096\n"
     ]
    },
    {
     "name": "stderr",
     "output_type": "stream",
     "text": [
      "  7%|▋         | 7/100 [01:05<12:58,  8.37s/it]"
     ]
    },
    {
     "name": "stdout",
     "output_type": "stream",
     "text": [
      "[LightGBM] [Warning] lambda_l1 is set=0.0768920138186167, reg_alpha=0.0 will be ignored. Current value: lambda_l1=0.0768920138186167\n",
      "[LightGBM] [Warning] bagging_fraction is set=0.576781303889645, subsample=1.0 will be ignored. Current value: bagging_fraction=0.576781303889645\n",
      "[LightGBM] [Warning] feature_fraction is set=0.548497029189781, colsample_bytree=1.0 will be ignored. Current value: feature_fraction=0.548497029189781\n",
      "[LightGBM] [Warning] lambda_l2 is set=0.0595126440974096, reg_lambda=0.0 will be ignored. Current value: lambda_l2=0.0595126440974096\n"
     ]
    },
    {
     "name": "stderr",
     "output_type": "stream",
     "text": [
      "  8%|▊         | 8/100 [01:13<12:36,  8.22s/it]"
     ]
    },
    {
     "name": "stdout",
     "output_type": "stream",
     "text": [
      "[LightGBM] [Warning] lambda_l1 is set=0.0768920138186167, reg_alpha=0.0 will be ignored. Current value: lambda_l1=0.0768920138186167\n",
      "[LightGBM] [Warning] bagging_fraction is set=0.576781303889645, subsample=1.0 will be ignored. Current value: bagging_fraction=0.576781303889645\n",
      "[LightGBM] [Warning] feature_fraction is set=0.548497029189781, colsample_bytree=1.0 will be ignored. Current value: feature_fraction=0.548497029189781\n",
      "[LightGBM] [Warning] lambda_l2 is set=0.0595126440974096, reg_lambda=0.0 will be ignored. Current value: lambda_l2=0.0595126440974096\n"
     ]
    },
    {
     "name": "stderr",
     "output_type": "stream",
     "text": [
      "  9%|▉         | 9/100 [01:21<12:24,  8.19s/it]"
     ]
    },
    {
     "name": "stdout",
     "output_type": "stream",
     "text": [
      "[LightGBM] [Warning] lambda_l1 is set=0.0768920138186167, reg_alpha=0.0 will be ignored. Current value: lambda_l1=0.0768920138186167\n",
      "[LightGBM] [Warning] bagging_fraction is set=0.576781303889645, subsample=1.0 will be ignored. Current value: bagging_fraction=0.576781303889645\n",
      "[LightGBM] [Warning] feature_fraction is set=0.548497029189781, colsample_bytree=1.0 will be ignored. Current value: feature_fraction=0.548497029189781\n",
      "[LightGBM] [Warning] lambda_l2 is set=0.0595126440974096, reg_lambda=0.0 will be ignored. Current value: lambda_l2=0.0595126440974096\n"
     ]
    },
    {
     "name": "stderr",
     "output_type": "stream",
     "text": [
      " 10%|█         | 10/100 [01:29<12:14,  8.16s/it]"
     ]
    },
    {
     "name": "stdout",
     "output_type": "stream",
     "text": [
      "[LightGBM] [Warning] lambda_l1 is set=0.0768920138186167, reg_alpha=0.0 will be ignored. Current value: lambda_l1=0.0768920138186167\n",
      "[LightGBM] [Warning] bagging_fraction is set=0.576781303889645, subsample=1.0 will be ignored. Current value: bagging_fraction=0.576781303889645\n",
      "[LightGBM] [Warning] feature_fraction is set=0.548497029189781, colsample_bytree=1.0 will be ignored. Current value: feature_fraction=0.548497029189781\n",
      "[LightGBM] [Warning] lambda_l2 is set=0.0595126440974096, reg_lambda=0.0 will be ignored. Current value: lambda_l2=0.0595126440974096\n"
     ]
    },
    {
     "name": "stderr",
     "output_type": "stream",
     "text": [
      " 11%|█         | 11/100 [01:37<12:05,  8.15s/it]"
     ]
    },
    {
     "name": "stdout",
     "output_type": "stream",
     "text": [
      "[LightGBM] [Warning] lambda_l1 is set=0.0768920138186167, reg_alpha=0.0 will be ignored. Current value: lambda_l1=0.0768920138186167\n",
      "[LightGBM] [Warning] bagging_fraction is set=0.576781303889645, subsample=1.0 will be ignored. Current value: bagging_fraction=0.576781303889645\n",
      "[LightGBM] [Warning] feature_fraction is set=0.548497029189781, colsample_bytree=1.0 will be ignored. Current value: feature_fraction=0.548497029189781\n",
      "[LightGBM] [Warning] lambda_l2 is set=0.0595126440974096, reg_lambda=0.0 will be ignored. Current value: lambda_l2=0.0595126440974096\n"
     ]
    },
    {
     "name": "stderr",
     "output_type": "stream",
     "text": [
      " 12%|█▏        | 12/100 [01:45<11:51,  8.09s/it]"
     ]
    },
    {
     "name": "stdout",
     "output_type": "stream",
     "text": [
      "[LightGBM] [Warning] lambda_l1 is set=0.0768920138186167, reg_alpha=0.0 will be ignored. Current value: lambda_l1=0.0768920138186167\n",
      "[LightGBM] [Warning] bagging_fraction is set=0.576781303889645, subsample=1.0 will be ignored. Current value: bagging_fraction=0.576781303889645\n",
      "[LightGBM] [Warning] feature_fraction is set=0.548497029189781, colsample_bytree=1.0 will be ignored. Current value: feature_fraction=0.548497029189781\n",
      "[LightGBM] [Warning] lambda_l2 is set=0.0595126440974096, reg_lambda=0.0 will be ignored. Current value: lambda_l2=0.0595126440974096\n"
     ]
    },
    {
     "name": "stderr",
     "output_type": "stream",
     "text": [
      " 13%|█▎        | 13/100 [01:54<11:53,  8.21s/it]"
     ]
    },
    {
     "name": "stdout",
     "output_type": "stream",
     "text": [
      "[LightGBM] [Warning] lambda_l1 is set=0.0768920138186167, reg_alpha=0.0 will be ignored. Current value: lambda_l1=0.0768920138186167\n",
      "[LightGBM] [Warning] bagging_fraction is set=0.576781303889645, subsample=1.0 will be ignored. Current value: bagging_fraction=0.576781303889645\n",
      "[LightGBM] [Warning] feature_fraction is set=0.548497029189781, colsample_bytree=1.0 will be ignored. Current value: feature_fraction=0.548497029189781\n",
      "[LightGBM] [Warning] lambda_l2 is set=0.0595126440974096, reg_lambda=0.0 will be ignored. Current value: lambda_l2=0.0595126440974096\n"
     ]
    },
    {
     "name": "stderr",
     "output_type": "stream",
     "text": [
      " 14%|█▍        | 14/100 [02:02<11:40,  8.14s/it]"
     ]
    },
    {
     "name": "stdout",
     "output_type": "stream",
     "text": [
      "[LightGBM] [Warning] lambda_l1 is set=0.0768920138186167, reg_alpha=0.0 will be ignored. Current value: lambda_l1=0.0768920138186167\n",
      "[LightGBM] [Warning] bagging_fraction is set=0.576781303889645, subsample=1.0 will be ignored. Current value: bagging_fraction=0.576781303889645\n",
      "[LightGBM] [Warning] feature_fraction is set=0.548497029189781, colsample_bytree=1.0 will be ignored. Current value: feature_fraction=0.548497029189781\n",
      "[LightGBM] [Warning] lambda_l2 is set=0.0595126440974096, reg_lambda=0.0 will be ignored. Current value: lambda_l2=0.0595126440974096\n"
     ]
    },
    {
     "name": "stderr",
     "output_type": "stream",
     "text": [
      " 15%|█▌        | 15/100 [02:10<11:32,  8.14s/it]"
     ]
    },
    {
     "name": "stdout",
     "output_type": "stream",
     "text": [
      "[LightGBM] [Warning] lambda_l1 is set=0.0768920138186167, reg_alpha=0.0 will be ignored. Current value: lambda_l1=0.0768920138186167\n",
      "[LightGBM] [Warning] bagging_fraction is set=0.576781303889645, subsample=1.0 will be ignored. Current value: bagging_fraction=0.576781303889645\n",
      "[LightGBM] [Warning] feature_fraction is set=0.548497029189781, colsample_bytree=1.0 will be ignored. Current value: feature_fraction=0.548497029189781\n",
      "[LightGBM] [Warning] lambda_l2 is set=0.0595126440974096, reg_lambda=0.0 will be ignored. Current value: lambda_l2=0.0595126440974096\n"
     ]
    },
    {
     "name": "stderr",
     "output_type": "stream",
     "text": [
      " 16%|█▌        | 16/100 [02:18<11:21,  8.12s/it]"
     ]
    },
    {
     "name": "stdout",
     "output_type": "stream",
     "text": [
      "[LightGBM] [Warning] lambda_l1 is set=0.0768920138186167, reg_alpha=0.0 will be ignored. Current value: lambda_l1=0.0768920138186167\n",
      "[LightGBM] [Warning] bagging_fraction is set=0.576781303889645, subsample=1.0 will be ignored. Current value: bagging_fraction=0.576781303889645\n",
      "[LightGBM] [Warning] feature_fraction is set=0.548497029189781, colsample_bytree=1.0 will be ignored. Current value: feature_fraction=0.548497029189781\n",
      "[LightGBM] [Warning] lambda_l2 is set=0.0595126440974096, reg_lambda=0.0 will be ignored. Current value: lambda_l2=0.0595126440974096\n"
     ]
    },
    {
     "name": "stderr",
     "output_type": "stream",
     "text": [
      " 17%|█▋        | 17/100 [02:26<11:13,  8.11s/it]"
     ]
    },
    {
     "name": "stdout",
     "output_type": "stream",
     "text": [
      "[LightGBM] [Warning] lambda_l1 is set=0.0768920138186167, reg_alpha=0.0 will be ignored. Current value: lambda_l1=0.0768920138186167\n",
      "[LightGBM] [Warning] bagging_fraction is set=0.576781303889645, subsample=1.0 will be ignored. Current value: bagging_fraction=0.576781303889645\n",
      "[LightGBM] [Warning] feature_fraction is set=0.548497029189781, colsample_bytree=1.0 will be ignored. Current value: feature_fraction=0.548497029189781\n",
      "[LightGBM] [Warning] lambda_l2 is set=0.0595126440974096, reg_lambda=0.0 will be ignored. Current value: lambda_l2=0.0595126440974096\n"
     ]
    },
    {
     "name": "stderr",
     "output_type": "stream",
     "text": [
      " 18%|█▊        | 18/100 [02:34<11:02,  8.08s/it]"
     ]
    },
    {
     "name": "stdout",
     "output_type": "stream",
     "text": [
      "[LightGBM] [Warning] lambda_l1 is set=0.0768920138186167, reg_alpha=0.0 will be ignored. Current value: lambda_l1=0.0768920138186167\n",
      "[LightGBM] [Warning] bagging_fraction is set=0.576781303889645, subsample=1.0 will be ignored. Current value: bagging_fraction=0.576781303889645\n",
      "[LightGBM] [Warning] feature_fraction is set=0.548497029189781, colsample_bytree=1.0 will be ignored. Current value: feature_fraction=0.548497029189781\n",
      "[LightGBM] [Warning] lambda_l2 is set=0.0595126440974096, reg_lambda=0.0 will be ignored. Current value: lambda_l2=0.0595126440974096\n"
     ]
    },
    {
     "name": "stderr",
     "output_type": "stream",
     "text": [
      " 19%|█▉        | 19/100 [02:42<10:56,  8.10s/it]"
     ]
    },
    {
     "name": "stdout",
     "output_type": "stream",
     "text": [
      "[LightGBM] [Warning] lambda_l1 is set=0.0768920138186167, reg_alpha=0.0 will be ignored. Current value: lambda_l1=0.0768920138186167\n",
      "[LightGBM] [Warning] bagging_fraction is set=0.576781303889645, subsample=1.0 will be ignored. Current value: bagging_fraction=0.576781303889645\n",
      "[LightGBM] [Warning] feature_fraction is set=0.548497029189781, colsample_bytree=1.0 will be ignored. Current value: feature_fraction=0.548497029189781\n",
      "[LightGBM] [Warning] lambda_l2 is set=0.0595126440974096, reg_lambda=0.0 will be ignored. Current value: lambda_l2=0.0595126440974096\n"
     ]
    },
    {
     "name": "stderr",
     "output_type": "stream",
     "text": [
      " 20%|██        | 20/100 [02:50<10:49,  8.12s/it]"
     ]
    },
    {
     "name": "stdout",
     "output_type": "stream",
     "text": [
      "[LightGBM] [Warning] lambda_l1 is set=0.0768920138186167, reg_alpha=0.0 will be ignored. Current value: lambda_l1=0.0768920138186167\n",
      "[LightGBM] [Warning] bagging_fraction is set=0.576781303889645, subsample=1.0 will be ignored. Current value: bagging_fraction=0.576781303889645\n",
      "[LightGBM] [Warning] feature_fraction is set=0.548497029189781, colsample_bytree=1.0 will be ignored. Current value: feature_fraction=0.548497029189781\n",
      "[LightGBM] [Warning] lambda_l2 is set=0.0595126440974096, reg_lambda=0.0 will be ignored. Current value: lambda_l2=0.0595126440974096\n"
     ]
    },
    {
     "name": "stderr",
     "output_type": "stream",
     "text": [
      " 21%|██        | 21/100 [02:59<10:55,  8.30s/it]"
     ]
    },
    {
     "name": "stdout",
     "output_type": "stream",
     "text": [
      "[LightGBM] [Warning] lambda_l1 is set=0.0768920138186167, reg_alpha=0.0 will be ignored. Current value: lambda_l1=0.0768920138186167\n",
      "[LightGBM] [Warning] bagging_fraction is set=0.576781303889645, subsample=1.0 will be ignored. Current value: bagging_fraction=0.576781303889645\n",
      "[LightGBM] [Warning] feature_fraction is set=0.548497029189781, colsample_bytree=1.0 will be ignored. Current value: feature_fraction=0.548497029189781\n",
      "[LightGBM] [Warning] lambda_l2 is set=0.0595126440974096, reg_lambda=0.0 will be ignored. Current value: lambda_l2=0.0595126440974096\n"
     ]
    },
    {
     "name": "stderr",
     "output_type": "stream",
     "text": [
      " 22%|██▏       | 22/100 [03:17<14:21, 11.05s/it]"
     ]
    },
    {
     "name": "stdout",
     "output_type": "stream",
     "text": [
      "[LightGBM] [Warning] lambda_l1 is set=0.0768920138186167, reg_alpha=0.0 will be ignored. Current value: lambda_l1=0.0768920138186167\n",
      "[LightGBM] [Warning] bagging_fraction is set=0.576781303889645, subsample=1.0 will be ignored. Current value: bagging_fraction=0.576781303889645\n",
      "[LightGBM] [Warning] feature_fraction is set=0.548497029189781, colsample_bytree=1.0 will be ignored. Current value: feature_fraction=0.548497029189781\n",
      "[LightGBM] [Warning] lambda_l2 is set=0.0595126440974096, reg_lambda=0.0 will be ignored. Current value: lambda_l2=0.0595126440974096\n"
     ]
    },
    {
     "name": "stderr",
     "output_type": "stream",
     "text": [
      " 23%|██▎       | 23/100 [03:25<13:07, 10.23s/it]"
     ]
    },
    {
     "name": "stdout",
     "output_type": "stream",
     "text": [
      "[LightGBM] [Warning] lambda_l1 is set=0.0768920138186167, reg_alpha=0.0 will be ignored. Current value: lambda_l1=0.0768920138186167\n",
      "[LightGBM] [Warning] bagging_fraction is set=0.576781303889645, subsample=1.0 will be ignored. Current value: bagging_fraction=0.576781303889645\n",
      "[LightGBM] [Warning] feature_fraction is set=0.548497029189781, colsample_bytree=1.0 will be ignored. Current value: feature_fraction=0.548497029189781\n",
      "[LightGBM] [Warning] lambda_l2 is set=0.0595126440974096, reg_lambda=0.0 will be ignored. Current value: lambda_l2=0.0595126440974096\n"
     ]
    },
    {
     "name": "stderr",
     "output_type": "stream",
     "text": [
      " 24%|██▍       | 24/100 [03:33<12:13,  9.65s/it]"
     ]
    },
    {
     "name": "stdout",
     "output_type": "stream",
     "text": [
      "[LightGBM] [Warning] lambda_l1 is set=0.0768920138186167, reg_alpha=0.0 will be ignored. Current value: lambda_l1=0.0768920138186167\n",
      "[LightGBM] [Warning] bagging_fraction is set=0.576781303889645, subsample=1.0 will be ignored. Current value: bagging_fraction=0.576781303889645\n",
      "[LightGBM] [Warning] feature_fraction is set=0.548497029189781, colsample_bytree=1.0 will be ignored. Current value: feature_fraction=0.548497029189781\n",
      "[LightGBM] [Warning] lambda_l2 is set=0.0595126440974096, reg_lambda=0.0 will be ignored. Current value: lambda_l2=0.0595126440974096\n"
     ]
    },
    {
     "name": "stderr",
     "output_type": "stream",
     "text": [
      " 25%|██▌       | 25/100 [03:41<11:30,  9.20s/it]"
     ]
    },
    {
     "name": "stdout",
     "output_type": "stream",
     "text": [
      "[LightGBM] [Warning] lambda_l1 is set=0.0768920138186167, reg_alpha=0.0 will be ignored. Current value: lambda_l1=0.0768920138186167\n",
      "[LightGBM] [Warning] bagging_fraction is set=0.576781303889645, subsample=1.0 will be ignored. Current value: bagging_fraction=0.576781303889645\n",
      "[LightGBM] [Warning] feature_fraction is set=0.548497029189781, colsample_bytree=1.0 will be ignored. Current value: feature_fraction=0.548497029189781\n",
      "[LightGBM] [Warning] lambda_l2 is set=0.0595126440974096, reg_lambda=0.0 will be ignored. Current value: lambda_l2=0.0595126440974096\n"
     ]
    },
    {
     "name": "stderr",
     "output_type": "stream",
     "text": [
      " 26%|██▌       | 26/100 [03:50<11:03,  8.97s/it]"
     ]
    },
    {
     "name": "stdout",
     "output_type": "stream",
     "text": [
      "[LightGBM] [Warning] lambda_l1 is set=0.0768920138186167, reg_alpha=0.0 will be ignored. Current value: lambda_l1=0.0768920138186167\n",
      "[LightGBM] [Warning] bagging_fraction is set=0.576781303889645, subsample=1.0 will be ignored. Current value: bagging_fraction=0.576781303889645\n",
      "[LightGBM] [Warning] feature_fraction is set=0.548497029189781, colsample_bytree=1.0 will be ignored. Current value: feature_fraction=0.548497029189781\n",
      "[LightGBM] [Warning] lambda_l2 is set=0.0595126440974096, reg_lambda=0.0 will be ignored. Current value: lambda_l2=0.0595126440974096\n"
     ]
    },
    {
     "name": "stderr",
     "output_type": "stream",
     "text": [
      " 27%|██▋       | 27/100 [03:58<10:39,  8.77s/it]"
     ]
    },
    {
     "name": "stdout",
     "output_type": "stream",
     "text": [
      "[LightGBM] [Warning] lambda_l1 is set=0.0768920138186167, reg_alpha=0.0 will be ignored. Current value: lambda_l1=0.0768920138186167\n",
      "[LightGBM] [Warning] bagging_fraction is set=0.576781303889645, subsample=1.0 will be ignored. Current value: bagging_fraction=0.576781303889645\n",
      "[LightGBM] [Warning] feature_fraction is set=0.548497029189781, colsample_bytree=1.0 will be ignored. Current value: feature_fraction=0.548497029189781\n",
      "[LightGBM] [Warning] lambda_l2 is set=0.0595126440974096, reg_lambda=0.0 will be ignored. Current value: lambda_l2=0.0595126440974096\n"
     ]
    },
    {
     "name": "stderr",
     "output_type": "stream",
     "text": [
      " 28%|██▊       | 28/100 [04:06<10:19,  8.61s/it]"
     ]
    },
    {
     "name": "stdout",
     "output_type": "stream",
     "text": [
      "[LightGBM] [Warning] lambda_l1 is set=0.0768920138186167, reg_alpha=0.0 will be ignored. Current value: lambda_l1=0.0768920138186167\n",
      "[LightGBM] [Warning] bagging_fraction is set=0.576781303889645, subsample=1.0 will be ignored. Current value: bagging_fraction=0.576781303889645\n",
      "[LightGBM] [Warning] feature_fraction is set=0.548497029189781, colsample_bytree=1.0 will be ignored. Current value: feature_fraction=0.548497029189781\n",
      "[LightGBM] [Warning] lambda_l2 is set=0.0595126440974096, reg_lambda=0.0 will be ignored. Current value: lambda_l2=0.0595126440974096\n"
     ]
    },
    {
     "name": "stderr",
     "output_type": "stream",
     "text": [
      " 29%|██▉       | 29/100 [04:14<10:00,  8.45s/it]"
     ]
    },
    {
     "name": "stdout",
     "output_type": "stream",
     "text": [
      "[LightGBM] [Warning] lambda_l1 is set=0.0768920138186167, reg_alpha=0.0 will be ignored. Current value: lambda_l1=0.0768920138186167\n",
      "[LightGBM] [Warning] bagging_fraction is set=0.576781303889645, subsample=1.0 will be ignored. Current value: bagging_fraction=0.576781303889645\n",
      "[LightGBM] [Warning] feature_fraction is set=0.548497029189781, colsample_bytree=1.0 will be ignored. Current value: feature_fraction=0.548497029189781\n",
      "[LightGBM] [Warning] lambda_l2 is set=0.0595126440974096, reg_lambda=0.0 will be ignored. Current value: lambda_l2=0.0595126440974096\n"
     ]
    },
    {
     "name": "stderr",
     "output_type": "stream",
     "text": [
      " 30%|███       | 30/100 [04:22<09:44,  8.35s/it]"
     ]
    },
    {
     "name": "stdout",
     "output_type": "stream",
     "text": [
      "[LightGBM] [Warning] lambda_l1 is set=0.0768920138186167, reg_alpha=0.0 will be ignored. Current value: lambda_l1=0.0768920138186167\n",
      "[LightGBM] [Warning] bagging_fraction is set=0.576781303889645, subsample=1.0 will be ignored. Current value: bagging_fraction=0.576781303889645\n",
      "[LightGBM] [Warning] feature_fraction is set=0.548497029189781, colsample_bytree=1.0 will be ignored. Current value: feature_fraction=0.548497029189781\n",
      "[LightGBM] [Warning] lambda_l2 is set=0.0595126440974096, reg_lambda=0.0 will be ignored. Current value: lambda_l2=0.0595126440974096\n"
     ]
    },
    {
     "name": "stderr",
     "output_type": "stream",
     "text": [
      " 31%|███       | 31/100 [04:31<09:31,  8.29s/it]"
     ]
    },
    {
     "name": "stdout",
     "output_type": "stream",
     "text": [
      "[LightGBM] [Warning] lambda_l1 is set=0.0768920138186167, reg_alpha=0.0 will be ignored. Current value: lambda_l1=0.0768920138186167\n",
      "[LightGBM] [Warning] bagging_fraction is set=0.576781303889645, subsample=1.0 will be ignored. Current value: bagging_fraction=0.576781303889645\n",
      "[LightGBM] [Warning] feature_fraction is set=0.548497029189781, colsample_bytree=1.0 will be ignored. Current value: feature_fraction=0.548497029189781\n",
      "[LightGBM] [Warning] lambda_l2 is set=0.0595126440974096, reg_lambda=0.0 will be ignored. Current value: lambda_l2=0.0595126440974096\n"
     ]
    },
    {
     "name": "stderr",
     "output_type": "stream",
     "text": [
      " 32%|███▏      | 32/100 [04:39<09:22,  8.28s/it]"
     ]
    },
    {
     "name": "stdout",
     "output_type": "stream",
     "text": [
      "[LightGBM] [Warning] lambda_l1 is set=0.0768920138186167, reg_alpha=0.0 will be ignored. Current value: lambda_l1=0.0768920138186167\n",
      "[LightGBM] [Warning] bagging_fraction is set=0.576781303889645, subsample=1.0 will be ignored. Current value: bagging_fraction=0.576781303889645\n",
      "[LightGBM] [Warning] feature_fraction is set=0.548497029189781, colsample_bytree=1.0 will be ignored. Current value: feature_fraction=0.548497029189781\n",
      "[LightGBM] [Warning] lambda_l2 is set=0.0595126440974096, reg_lambda=0.0 will be ignored. Current value: lambda_l2=0.0595126440974096\n"
     ]
    },
    {
     "name": "stderr",
     "output_type": "stream",
     "text": [
      " 33%|███▎      | 33/100 [04:47<09:13,  8.27s/it]"
     ]
    },
    {
     "name": "stdout",
     "output_type": "stream",
     "text": [
      "[LightGBM] [Warning] lambda_l1 is set=0.0768920138186167, reg_alpha=0.0 will be ignored. Current value: lambda_l1=0.0768920138186167\n",
      "[LightGBM] [Warning] bagging_fraction is set=0.576781303889645, subsample=1.0 will be ignored. Current value: bagging_fraction=0.576781303889645\n",
      "[LightGBM] [Warning] feature_fraction is set=0.548497029189781, colsample_bytree=1.0 will be ignored. Current value: feature_fraction=0.548497029189781\n",
      "[LightGBM] [Warning] lambda_l2 is set=0.0595126440974096, reg_lambda=0.0 will be ignored. Current value: lambda_l2=0.0595126440974096\n"
     ]
    },
    {
     "name": "stderr",
     "output_type": "stream",
     "text": [
      " 34%|███▍      | 34/100 [04:55<09:05,  8.26s/it]"
     ]
    },
    {
     "name": "stdout",
     "output_type": "stream",
     "text": [
      "[LightGBM] [Warning] lambda_l1 is set=0.0768920138186167, reg_alpha=0.0 will be ignored. Current value: lambda_l1=0.0768920138186167\n",
      "[LightGBM] [Warning] bagging_fraction is set=0.576781303889645, subsample=1.0 will be ignored. Current value: bagging_fraction=0.576781303889645\n",
      "[LightGBM] [Warning] feature_fraction is set=0.548497029189781, colsample_bytree=1.0 will be ignored. Current value: feature_fraction=0.548497029189781\n",
      "[LightGBM] [Warning] lambda_l2 is set=0.0595126440974096, reg_lambda=0.0 will be ignored. Current value: lambda_l2=0.0595126440974096\n"
     ]
    },
    {
     "name": "stderr",
     "output_type": "stream",
     "text": [
      " 35%|███▌      | 35/100 [05:03<08:54,  8.22s/it]"
     ]
    },
    {
     "name": "stdout",
     "output_type": "stream",
     "text": [
      "[LightGBM] [Warning] lambda_l1 is set=0.0768920138186167, reg_alpha=0.0 will be ignored. Current value: lambda_l1=0.0768920138186167\n",
      "[LightGBM] [Warning] bagging_fraction is set=0.576781303889645, subsample=1.0 will be ignored. Current value: bagging_fraction=0.576781303889645\n",
      "[LightGBM] [Warning] feature_fraction is set=0.548497029189781, colsample_bytree=1.0 will be ignored. Current value: feature_fraction=0.548497029189781\n",
      "[LightGBM] [Warning] lambda_l2 is set=0.0595126440974096, reg_lambda=0.0 will be ignored. Current value: lambda_l2=0.0595126440974096\n"
     ]
    },
    {
     "name": "stderr",
     "output_type": "stream",
     "text": [
      " 36%|███▌      | 36/100 [05:12<08:45,  8.21s/it]"
     ]
    },
    {
     "name": "stdout",
     "output_type": "stream",
     "text": [
      "[LightGBM] [Warning] lambda_l1 is set=0.0768920138186167, reg_alpha=0.0 will be ignored. Current value: lambda_l1=0.0768920138186167\n",
      "[LightGBM] [Warning] bagging_fraction is set=0.576781303889645, subsample=1.0 will be ignored. Current value: bagging_fraction=0.576781303889645\n",
      "[LightGBM] [Warning] feature_fraction is set=0.548497029189781, colsample_bytree=1.0 will be ignored. Current value: feature_fraction=0.548497029189781\n",
      "[LightGBM] [Warning] lambda_l2 is set=0.0595126440974096, reg_lambda=0.0 will be ignored. Current value: lambda_l2=0.0595126440974096\n"
     ]
    },
    {
     "name": "stderr",
     "output_type": "stream",
     "text": [
      " 37%|███▋      | 37/100 [05:20<08:39,  8.24s/it]"
     ]
    },
    {
     "name": "stdout",
     "output_type": "stream",
     "text": [
      "[LightGBM] [Warning] lambda_l1 is set=0.0768920138186167, reg_alpha=0.0 will be ignored. Current value: lambda_l1=0.0768920138186167\n",
      "[LightGBM] [Warning] bagging_fraction is set=0.576781303889645, subsample=1.0 will be ignored. Current value: bagging_fraction=0.576781303889645\n",
      "[LightGBM] [Warning] feature_fraction is set=0.548497029189781, colsample_bytree=1.0 will be ignored. Current value: feature_fraction=0.548497029189781\n",
      "[LightGBM] [Warning] lambda_l2 is set=0.0595126440974096, reg_lambda=0.0 will be ignored. Current value: lambda_l2=0.0595126440974096\n"
     ]
    },
    {
     "name": "stderr",
     "output_type": "stream",
     "text": [
      " 38%|███▊      | 38/100 [05:28<08:29,  8.21s/it]"
     ]
    },
    {
     "name": "stdout",
     "output_type": "stream",
     "text": [
      "[LightGBM] [Warning] lambda_l1 is set=0.0768920138186167, reg_alpha=0.0 will be ignored. Current value: lambda_l1=0.0768920138186167\n",
      "[LightGBM] [Warning] bagging_fraction is set=0.576781303889645, subsample=1.0 will be ignored. Current value: bagging_fraction=0.576781303889645\n",
      "[LightGBM] [Warning] feature_fraction is set=0.548497029189781, colsample_bytree=1.0 will be ignored. Current value: feature_fraction=0.548497029189781\n",
      "[LightGBM] [Warning] lambda_l2 is set=0.0595126440974096, reg_lambda=0.0 will be ignored. Current value: lambda_l2=0.0595126440974096\n"
     ]
    },
    {
     "name": "stderr",
     "output_type": "stream",
     "text": [
      " 39%|███▉      | 39/100 [05:36<08:18,  8.17s/it]"
     ]
    },
    {
     "name": "stdout",
     "output_type": "stream",
     "text": [
      "[LightGBM] [Warning] lambda_l1 is set=0.0768920138186167, reg_alpha=0.0 will be ignored. Current value: lambda_l1=0.0768920138186167\n",
      "[LightGBM] [Warning] bagging_fraction is set=0.576781303889645, subsample=1.0 will be ignored. Current value: bagging_fraction=0.576781303889645\n",
      "[LightGBM] [Warning] feature_fraction is set=0.548497029189781, colsample_bytree=1.0 will be ignored. Current value: feature_fraction=0.548497029189781\n",
      "[LightGBM] [Warning] lambda_l2 is set=0.0595126440974096, reg_lambda=0.0 will be ignored. Current value: lambda_l2=0.0595126440974096\n"
     ]
    },
    {
     "name": "stderr",
     "output_type": "stream",
     "text": [
      " 40%|████      | 40/100 [05:44<08:12,  8.20s/it]"
     ]
    },
    {
     "name": "stdout",
     "output_type": "stream",
     "text": [
      "[LightGBM] [Warning] lambda_l1 is set=0.0768920138186167, reg_alpha=0.0 will be ignored. Current value: lambda_l1=0.0768920138186167\n",
      "[LightGBM] [Warning] bagging_fraction is set=0.576781303889645, subsample=1.0 will be ignored. Current value: bagging_fraction=0.576781303889645\n",
      "[LightGBM] [Warning] feature_fraction is set=0.548497029189781, colsample_bytree=1.0 will be ignored. Current value: feature_fraction=0.548497029189781\n",
      "[LightGBM] [Warning] lambda_l2 is set=0.0595126440974096, reg_lambda=0.0 will be ignored. Current value: lambda_l2=0.0595126440974096\n"
     ]
    },
    {
     "name": "stderr",
     "output_type": "stream",
     "text": [
      " 41%|████      | 41/100 [05:53<08:05,  8.23s/it]"
     ]
    },
    {
     "name": "stdout",
     "output_type": "stream",
     "text": [
      "[LightGBM] [Warning] lambda_l1 is set=0.0768920138186167, reg_alpha=0.0 will be ignored. Current value: lambda_l1=0.0768920138186167\n",
      "[LightGBM] [Warning] bagging_fraction is set=0.576781303889645, subsample=1.0 will be ignored. Current value: bagging_fraction=0.576781303889645\n",
      "[LightGBM] [Warning] feature_fraction is set=0.548497029189781, colsample_bytree=1.0 will be ignored. Current value: feature_fraction=0.548497029189781\n",
      "[LightGBM] [Warning] lambda_l2 is set=0.0595126440974096, reg_lambda=0.0 will be ignored. Current value: lambda_l2=0.0595126440974096\n"
     ]
    },
    {
     "name": "stderr",
     "output_type": "stream",
     "text": [
      " 42%|████▏     | 42/100 [06:07<09:44, 10.08s/it]"
     ]
    },
    {
     "name": "stdout",
     "output_type": "stream",
     "text": [
      "[LightGBM] [Warning] lambda_l1 is set=0.0768920138186167, reg_alpha=0.0 will be ignored. Current value: lambda_l1=0.0768920138186167\n",
      "[LightGBM] [Warning] bagging_fraction is set=0.576781303889645, subsample=1.0 will be ignored. Current value: bagging_fraction=0.576781303889645\n",
      "[LightGBM] [Warning] feature_fraction is set=0.548497029189781, colsample_bytree=1.0 will be ignored. Current value: feature_fraction=0.548497029189781\n",
      "[LightGBM] [Warning] lambda_l2 is set=0.0595126440974096, reg_lambda=0.0 will be ignored. Current value: lambda_l2=0.0595126440974096\n"
     ]
    },
    {
     "name": "stderr",
     "output_type": "stream",
     "text": [
      " 43%|████▎     | 43/100 [06:20<10:14, 10.78s/it]"
     ]
    },
    {
     "name": "stdout",
     "output_type": "stream",
     "text": [
      "[LightGBM] [Warning] lambda_l1 is set=0.0768920138186167, reg_alpha=0.0 will be ignored. Current value: lambda_l1=0.0768920138186167\n",
      "[LightGBM] [Warning] bagging_fraction is set=0.576781303889645, subsample=1.0 will be ignored. Current value: bagging_fraction=0.576781303889645\n",
      "[LightGBM] [Warning] feature_fraction is set=0.548497029189781, colsample_bytree=1.0 will be ignored. Current value: feature_fraction=0.548497029189781\n",
      "[LightGBM] [Warning] lambda_l2 is set=0.0595126440974096, reg_lambda=0.0 will be ignored. Current value: lambda_l2=0.0595126440974096\n"
     ]
    },
    {
     "name": "stderr",
     "output_type": "stream",
     "text": [
      " 44%|████▍     | 44/100 [06:28<09:21, 10.02s/it]"
     ]
    },
    {
     "name": "stdout",
     "output_type": "stream",
     "text": [
      "[LightGBM] [Warning] lambda_l1 is set=0.0768920138186167, reg_alpha=0.0 will be ignored. Current value: lambda_l1=0.0768920138186167\n",
      "[LightGBM] [Warning] bagging_fraction is set=0.576781303889645, subsample=1.0 will be ignored. Current value: bagging_fraction=0.576781303889645\n",
      "[LightGBM] [Warning] feature_fraction is set=0.548497029189781, colsample_bytree=1.0 will be ignored. Current value: feature_fraction=0.548497029189781\n",
      "[LightGBM] [Warning] lambda_l2 is set=0.0595126440974096, reg_lambda=0.0 will be ignored. Current value: lambda_l2=0.0595126440974096\n"
     ]
    },
    {
     "name": "stderr",
     "output_type": "stream",
     "text": [
      " 45%|████▌     | 45/100 [06:36<08:40,  9.46s/it]"
     ]
    },
    {
     "name": "stdout",
     "output_type": "stream",
     "text": [
      "[LightGBM] [Warning] lambda_l1 is set=0.0768920138186167, reg_alpha=0.0 will be ignored. Current value: lambda_l1=0.0768920138186167\n",
      "[LightGBM] [Warning] bagging_fraction is set=0.576781303889645, subsample=1.0 will be ignored. Current value: bagging_fraction=0.576781303889645\n",
      "[LightGBM] [Warning] feature_fraction is set=0.548497029189781, colsample_bytree=1.0 will be ignored. Current value: feature_fraction=0.548497029189781\n",
      "[LightGBM] [Warning] lambda_l2 is set=0.0595126440974096, reg_lambda=0.0 will be ignored. Current value: lambda_l2=0.0595126440974096\n"
     ]
    },
    {
     "name": "stderr",
     "output_type": "stream",
     "text": [
      " 46%|████▌     | 46/100 [06:44<08:09,  9.06s/it]"
     ]
    },
    {
     "name": "stdout",
     "output_type": "stream",
     "text": [
      "[LightGBM] [Warning] lambda_l1 is set=0.0768920138186167, reg_alpha=0.0 will be ignored. Current value: lambda_l1=0.0768920138186167\n",
      "[LightGBM] [Warning] bagging_fraction is set=0.576781303889645, subsample=1.0 will be ignored. Current value: bagging_fraction=0.576781303889645\n",
      "[LightGBM] [Warning] feature_fraction is set=0.548497029189781, colsample_bytree=1.0 will be ignored. Current value: feature_fraction=0.548497029189781\n",
      "[LightGBM] [Warning] lambda_l2 is set=0.0595126440974096, reg_lambda=0.0 will be ignored. Current value: lambda_l2=0.0595126440974096\n"
     ]
    },
    {
     "name": "stderr",
     "output_type": "stream",
     "text": [
      " 47%|████▋     | 47/100 [06:52<07:44,  8.77s/it]"
     ]
    },
    {
     "name": "stdout",
     "output_type": "stream",
     "text": [
      "[LightGBM] [Warning] lambda_l1 is set=0.0768920138186167, reg_alpha=0.0 will be ignored. Current value: lambda_l1=0.0768920138186167\n",
      "[LightGBM] [Warning] bagging_fraction is set=0.576781303889645, subsample=1.0 will be ignored. Current value: bagging_fraction=0.576781303889645\n",
      "[LightGBM] [Warning] feature_fraction is set=0.548497029189781, colsample_bytree=1.0 will be ignored. Current value: feature_fraction=0.548497029189781\n",
      "[LightGBM] [Warning] lambda_l2 is set=0.0595126440974096, reg_lambda=0.0 will be ignored. Current value: lambda_l2=0.0595126440974096\n"
     ]
    },
    {
     "name": "stderr",
     "output_type": "stream",
     "text": [
      " 48%|████▊     | 48/100 [07:00<07:25,  8.57s/it]"
     ]
    },
    {
     "name": "stdout",
     "output_type": "stream",
     "text": [
      "[LightGBM] [Warning] lambda_l1 is set=0.0768920138186167, reg_alpha=0.0 will be ignored. Current value: lambda_l1=0.0768920138186167\n",
      "[LightGBM] [Warning] bagging_fraction is set=0.576781303889645, subsample=1.0 will be ignored. Current value: bagging_fraction=0.576781303889645\n",
      "[LightGBM] [Warning] feature_fraction is set=0.548497029189781, colsample_bytree=1.0 will be ignored. Current value: feature_fraction=0.548497029189781\n",
      "[LightGBM] [Warning] lambda_l2 is set=0.0595126440974096, reg_lambda=0.0 will be ignored. Current value: lambda_l2=0.0595126440974096\n"
     ]
    },
    {
     "name": "stderr",
     "output_type": "stream",
     "text": [
      " 49%|████▉     | 49/100 [07:08<07:09,  8.42s/it]"
     ]
    },
    {
     "name": "stdout",
     "output_type": "stream",
     "text": [
      "[LightGBM] [Warning] lambda_l1 is set=0.0768920138186167, reg_alpha=0.0 will be ignored. Current value: lambda_l1=0.0768920138186167\n",
      "[LightGBM] [Warning] bagging_fraction is set=0.576781303889645, subsample=1.0 will be ignored. Current value: bagging_fraction=0.576781303889645\n",
      "[LightGBM] [Warning] feature_fraction is set=0.548497029189781, colsample_bytree=1.0 will be ignored. Current value: feature_fraction=0.548497029189781\n",
      "[LightGBM] [Warning] lambda_l2 is set=0.0595126440974096, reg_lambda=0.0 will be ignored. Current value: lambda_l2=0.0595126440974096\n"
     ]
    },
    {
     "name": "stderr",
     "output_type": "stream",
     "text": [
      " 50%|█████     | 50/100 [07:16<06:55,  8.31s/it]"
     ]
    },
    {
     "name": "stdout",
     "output_type": "stream",
     "text": [
      "[LightGBM] [Warning] lambda_l1 is set=0.0768920138186167, reg_alpha=0.0 will be ignored. Current value: lambda_l1=0.0768920138186167\n",
      "[LightGBM] [Warning] bagging_fraction is set=0.576781303889645, subsample=1.0 will be ignored. Current value: bagging_fraction=0.576781303889645\n",
      "[LightGBM] [Warning] feature_fraction is set=0.548497029189781, colsample_bytree=1.0 will be ignored. Current value: feature_fraction=0.548497029189781\n",
      "[LightGBM] [Warning] lambda_l2 is set=0.0595126440974096, reg_lambda=0.0 will be ignored. Current value: lambda_l2=0.0595126440974096\n"
     ]
    },
    {
     "name": "stderr",
     "output_type": "stream",
     "text": [
      " 51%|█████     | 51/100 [07:25<06:45,  8.28s/it]"
     ]
    },
    {
     "name": "stdout",
     "output_type": "stream",
     "text": [
      "[LightGBM] [Warning] lambda_l1 is set=0.0768920138186167, reg_alpha=0.0 will be ignored. Current value: lambda_l1=0.0768920138186167\n",
      "[LightGBM] [Warning] bagging_fraction is set=0.576781303889645, subsample=1.0 will be ignored. Current value: bagging_fraction=0.576781303889645\n",
      "[LightGBM] [Warning] feature_fraction is set=0.548497029189781, colsample_bytree=1.0 will be ignored. Current value: feature_fraction=0.548497029189781\n",
      "[LightGBM] [Warning] lambda_l2 is set=0.0595126440974096, reg_lambda=0.0 will be ignored. Current value: lambda_l2=0.0595126440974096\n"
     ]
    },
    {
     "name": "stderr",
     "output_type": "stream",
     "text": [
      " 52%|█████▏    | 52/100 [07:33<06:35,  8.24s/it]"
     ]
    },
    {
     "name": "stdout",
     "output_type": "stream",
     "text": [
      "[LightGBM] [Warning] lambda_l1 is set=0.0768920138186167, reg_alpha=0.0 will be ignored. Current value: lambda_l1=0.0768920138186167\n",
      "[LightGBM] [Warning] bagging_fraction is set=0.576781303889645, subsample=1.0 will be ignored. Current value: bagging_fraction=0.576781303889645\n",
      "[LightGBM] [Warning] feature_fraction is set=0.548497029189781, colsample_bytree=1.0 will be ignored. Current value: feature_fraction=0.548497029189781\n",
      "[LightGBM] [Warning] lambda_l2 is set=0.0595126440974096, reg_lambda=0.0 will be ignored. Current value: lambda_l2=0.0595126440974096\n"
     ]
    },
    {
     "name": "stderr",
     "output_type": "stream",
     "text": [
      " 53%|█████▎    | 53/100 [07:41<06:27,  8.24s/it]"
     ]
    },
    {
     "name": "stdout",
     "output_type": "stream",
     "text": [
      "[LightGBM] [Warning] lambda_l1 is set=0.0768920138186167, reg_alpha=0.0 will be ignored. Current value: lambda_l1=0.0768920138186167\n",
      "[LightGBM] [Warning] bagging_fraction is set=0.576781303889645, subsample=1.0 will be ignored. Current value: bagging_fraction=0.576781303889645\n",
      "[LightGBM] [Warning] feature_fraction is set=0.548497029189781, colsample_bytree=1.0 will be ignored. Current value: feature_fraction=0.548497029189781\n",
      "[LightGBM] [Warning] lambda_l2 is set=0.0595126440974096, reg_lambda=0.0 will be ignored. Current value: lambda_l2=0.0595126440974096\n"
     ]
    },
    {
     "name": "stderr",
     "output_type": "stream",
     "text": [
      " 54%|█████▍    | 54/100 [07:49<06:18,  8.24s/it]"
     ]
    },
    {
     "name": "stdout",
     "output_type": "stream",
     "text": [
      "[LightGBM] [Warning] lambda_l1 is set=0.0768920138186167, reg_alpha=0.0 will be ignored. Current value: lambda_l1=0.0768920138186167\n",
      "[LightGBM] [Warning] bagging_fraction is set=0.576781303889645, subsample=1.0 will be ignored. Current value: bagging_fraction=0.576781303889645\n",
      "[LightGBM] [Warning] feature_fraction is set=0.548497029189781, colsample_bytree=1.0 will be ignored. Current value: feature_fraction=0.548497029189781\n",
      "[LightGBM] [Warning] lambda_l2 is set=0.0595126440974096, reg_lambda=0.0 will be ignored. Current value: lambda_l2=0.0595126440974096\n"
     ]
    },
    {
     "name": "stderr",
     "output_type": "stream",
     "text": [
      " 55%|█████▌    | 55/100 [07:58<06:12,  8.29s/it]"
     ]
    },
    {
     "name": "stdout",
     "output_type": "stream",
     "text": [
      "[LightGBM] [Warning] lambda_l1 is set=0.0768920138186167, reg_alpha=0.0 will be ignored. Current value: lambda_l1=0.0768920138186167\n",
      "[LightGBM] [Warning] bagging_fraction is set=0.576781303889645, subsample=1.0 will be ignored. Current value: bagging_fraction=0.576781303889645\n",
      "[LightGBM] [Warning] feature_fraction is set=0.548497029189781, colsample_bytree=1.0 will be ignored. Current value: feature_fraction=0.548497029189781\n",
      "[LightGBM] [Warning] lambda_l2 is set=0.0595126440974096, reg_lambda=0.0 will be ignored. Current value: lambda_l2=0.0595126440974096\n"
     ]
    },
    {
     "name": "stderr",
     "output_type": "stream",
     "text": [
      " 56%|█████▌    | 56/100 [08:06<06:05,  8.31s/it]"
     ]
    },
    {
     "name": "stdout",
     "output_type": "stream",
     "text": [
      "[LightGBM] [Warning] lambda_l1 is set=0.0768920138186167, reg_alpha=0.0 will be ignored. Current value: lambda_l1=0.0768920138186167\n",
      "[LightGBM] [Warning] bagging_fraction is set=0.576781303889645, subsample=1.0 will be ignored. Current value: bagging_fraction=0.576781303889645\n",
      "[LightGBM] [Warning] feature_fraction is set=0.548497029189781, colsample_bytree=1.0 will be ignored. Current value: feature_fraction=0.548497029189781\n",
      "[LightGBM] [Warning] lambda_l2 is set=0.0595126440974096, reg_lambda=0.0 will be ignored. Current value: lambda_l2=0.0595126440974096\n"
     ]
    },
    {
     "name": "stderr",
     "output_type": "stream",
     "text": [
      " 57%|█████▋    | 57/100 [08:14<05:55,  8.27s/it]"
     ]
    },
    {
     "name": "stdout",
     "output_type": "stream",
     "text": [
      "[LightGBM] [Warning] lambda_l1 is set=0.0768920138186167, reg_alpha=0.0 will be ignored. Current value: lambda_l1=0.0768920138186167\n",
      "[LightGBM] [Warning] bagging_fraction is set=0.576781303889645, subsample=1.0 will be ignored. Current value: bagging_fraction=0.576781303889645\n",
      "[LightGBM] [Warning] feature_fraction is set=0.548497029189781, colsample_bytree=1.0 will be ignored. Current value: feature_fraction=0.548497029189781\n",
      "[LightGBM] [Warning] lambda_l2 is set=0.0595126440974096, reg_lambda=0.0 will be ignored. Current value: lambda_l2=0.0595126440974096\n"
     ]
    },
    {
     "name": "stderr",
     "output_type": "stream",
     "text": [
      " 58%|█████▊    | 58/100 [08:22<05:45,  8.22s/it]"
     ]
    },
    {
     "name": "stdout",
     "output_type": "stream",
     "text": [
      "[LightGBM] [Warning] lambda_l1 is set=0.0768920138186167, reg_alpha=0.0 will be ignored. Current value: lambda_l1=0.0768920138186167\n",
      "[LightGBM] [Warning] bagging_fraction is set=0.576781303889645, subsample=1.0 will be ignored. Current value: bagging_fraction=0.576781303889645\n",
      "[LightGBM] [Warning] feature_fraction is set=0.548497029189781, colsample_bytree=1.0 will be ignored. Current value: feature_fraction=0.548497029189781\n",
      "[LightGBM] [Warning] lambda_l2 is set=0.0595126440974096, reg_lambda=0.0 will be ignored. Current value: lambda_l2=0.0595126440974096\n"
     ]
    },
    {
     "name": "stderr",
     "output_type": "stream",
     "text": [
      " 59%|█████▉    | 59/100 [08:31<05:38,  8.25s/it]"
     ]
    },
    {
     "name": "stdout",
     "output_type": "stream",
     "text": [
      "[LightGBM] [Warning] lambda_l1 is set=0.0768920138186167, reg_alpha=0.0 will be ignored. Current value: lambda_l1=0.0768920138186167\n",
      "[LightGBM] [Warning] bagging_fraction is set=0.576781303889645, subsample=1.0 will be ignored. Current value: bagging_fraction=0.576781303889645\n",
      "[LightGBM] [Warning] feature_fraction is set=0.548497029189781, colsample_bytree=1.0 will be ignored. Current value: feature_fraction=0.548497029189781\n",
      "[LightGBM] [Warning] lambda_l2 is set=0.0595126440974096, reg_lambda=0.0 will be ignored. Current value: lambda_l2=0.0595126440974096\n"
     ]
    },
    {
     "name": "stderr",
     "output_type": "stream",
     "text": [
      " 60%|██████    | 60/100 [08:39<05:29,  8.25s/it]"
     ]
    },
    {
     "name": "stdout",
     "output_type": "stream",
     "text": [
      "[LightGBM] [Warning] lambda_l1 is set=0.0768920138186167, reg_alpha=0.0 will be ignored. Current value: lambda_l1=0.0768920138186167\n",
      "[LightGBM] [Warning] bagging_fraction is set=0.576781303889645, subsample=1.0 will be ignored. Current value: bagging_fraction=0.576781303889645\n",
      "[LightGBM] [Warning] feature_fraction is set=0.548497029189781, colsample_bytree=1.0 will be ignored. Current value: feature_fraction=0.548497029189781\n",
      "[LightGBM] [Warning] lambda_l2 is set=0.0595126440974096, reg_lambda=0.0 will be ignored. Current value: lambda_l2=0.0595126440974096\n"
     ]
    },
    {
     "name": "stderr",
     "output_type": "stream",
     "text": [
      " 61%|██████    | 61/100 [08:47<05:20,  8.21s/it]"
     ]
    },
    {
     "name": "stdout",
     "output_type": "stream",
     "text": [
      "[LightGBM] [Warning] lambda_l1 is set=0.0768920138186167, reg_alpha=0.0 will be ignored. Current value: lambda_l1=0.0768920138186167\n",
      "[LightGBM] [Warning] bagging_fraction is set=0.576781303889645, subsample=1.0 will be ignored. Current value: bagging_fraction=0.576781303889645\n",
      "[LightGBM] [Warning] feature_fraction is set=0.548497029189781, colsample_bytree=1.0 will be ignored. Current value: feature_fraction=0.548497029189781\n",
      "[LightGBM] [Warning] lambda_l2 is set=0.0595126440974096, reg_lambda=0.0 will be ignored. Current value: lambda_l2=0.0595126440974096\n"
     ]
    },
    {
     "name": "stderr",
     "output_type": "stream",
     "text": [
      " 62%|██████▏   | 62/100 [08:55<05:12,  8.22s/it]"
     ]
    },
    {
     "name": "stdout",
     "output_type": "stream",
     "text": [
      "[LightGBM] [Warning] lambda_l1 is set=0.0768920138186167, reg_alpha=0.0 will be ignored. Current value: lambda_l1=0.0768920138186167\n",
      "[LightGBM] [Warning] bagging_fraction is set=0.576781303889645, subsample=1.0 will be ignored. Current value: bagging_fraction=0.576781303889645\n",
      "[LightGBM] [Warning] feature_fraction is set=0.548497029189781, colsample_bytree=1.0 will be ignored. Current value: feature_fraction=0.548497029189781\n",
      "[LightGBM] [Warning] lambda_l2 is set=0.0595126440974096, reg_lambda=0.0 will be ignored. Current value: lambda_l2=0.0595126440974096\n"
     ]
    },
    {
     "name": "stderr",
     "output_type": "stream",
     "text": [
      " 63%|██████▎   | 63/100 [09:15<07:11, 11.66s/it]"
     ]
    },
    {
     "name": "stdout",
     "output_type": "stream",
     "text": [
      "[LightGBM] [Warning] lambda_l1 is set=0.0768920138186167, reg_alpha=0.0 will be ignored. Current value: lambda_l1=0.0768920138186167\n",
      "[LightGBM] [Warning] bagging_fraction is set=0.576781303889645, subsample=1.0 will be ignored. Current value: bagging_fraction=0.576781303889645\n",
      "[LightGBM] [Warning] feature_fraction is set=0.548497029189781, colsample_bytree=1.0 will be ignored. Current value: feature_fraction=0.548497029189781\n",
      "[LightGBM] [Warning] lambda_l2 is set=0.0595126440974096, reg_lambda=0.0 will be ignored. Current value: lambda_l2=0.0595126440974096\n"
     ]
    },
    {
     "name": "stderr",
     "output_type": "stream",
     "text": [
      " 64%|██████▍   | 64/100 [09:23<06:25, 10.71s/it]"
     ]
    },
    {
     "name": "stdout",
     "output_type": "stream",
     "text": [
      "[LightGBM] [Warning] lambda_l1 is set=0.0768920138186167, reg_alpha=0.0 will be ignored. Current value: lambda_l1=0.0768920138186167\n",
      "[LightGBM] [Warning] bagging_fraction is set=0.576781303889645, subsample=1.0 will be ignored. Current value: bagging_fraction=0.576781303889645\n",
      "[LightGBM] [Warning] feature_fraction is set=0.548497029189781, colsample_bytree=1.0 will be ignored. Current value: feature_fraction=0.548497029189781\n",
      "[LightGBM] [Warning] lambda_l2 is set=0.0595126440974096, reg_lambda=0.0 will be ignored. Current value: lambda_l2=0.0595126440974096\n"
     ]
    },
    {
     "name": "stderr",
     "output_type": "stream",
     "text": [
      " 65%|██████▌   | 65/100 [09:32<05:49,  9.97s/it]"
     ]
    },
    {
     "name": "stdout",
     "output_type": "stream",
     "text": [
      "[LightGBM] [Warning] lambda_l1 is set=0.0768920138186167, reg_alpha=0.0 will be ignored. Current value: lambda_l1=0.0768920138186167\n",
      "[LightGBM] [Warning] bagging_fraction is set=0.576781303889645, subsample=1.0 will be ignored. Current value: bagging_fraction=0.576781303889645\n",
      "[LightGBM] [Warning] feature_fraction is set=0.548497029189781, colsample_bytree=1.0 will be ignored. Current value: feature_fraction=0.548497029189781\n",
      "[LightGBM] [Warning] lambda_l2 is set=0.0595126440974096, reg_lambda=0.0 will be ignored. Current value: lambda_l2=0.0595126440974096\n"
     ]
    },
    {
     "name": "stderr",
     "output_type": "stream",
     "text": [
      " 66%|██████▌   | 66/100 [09:40<05:20,  9.42s/it]"
     ]
    },
    {
     "name": "stdout",
     "output_type": "stream",
     "text": [
      "[LightGBM] [Warning] lambda_l1 is set=0.0768920138186167, reg_alpha=0.0 will be ignored. Current value: lambda_l1=0.0768920138186167\n",
      "[LightGBM] [Warning] bagging_fraction is set=0.576781303889645, subsample=1.0 will be ignored. Current value: bagging_fraction=0.576781303889645\n",
      "[LightGBM] [Warning] feature_fraction is set=0.548497029189781, colsample_bytree=1.0 will be ignored. Current value: feature_fraction=0.548497029189781\n",
      "[LightGBM] [Warning] lambda_l2 is set=0.0595126440974096, reg_lambda=0.0 will be ignored. Current value: lambda_l2=0.0595126440974096\n"
     ]
    },
    {
     "name": "stderr",
     "output_type": "stream",
     "text": [
      " 67%|██████▋   | 67/100 [09:48<04:57,  9.02s/it]"
     ]
    },
    {
     "name": "stdout",
     "output_type": "stream",
     "text": [
      "[LightGBM] [Warning] lambda_l1 is set=0.0768920138186167, reg_alpha=0.0 will be ignored. Current value: lambda_l1=0.0768920138186167\n",
      "[LightGBM] [Warning] bagging_fraction is set=0.576781303889645, subsample=1.0 will be ignored. Current value: bagging_fraction=0.576781303889645\n",
      "[LightGBM] [Warning] feature_fraction is set=0.548497029189781, colsample_bytree=1.0 will be ignored. Current value: feature_fraction=0.548497029189781\n",
      "[LightGBM] [Warning] lambda_l2 is set=0.0595126440974096, reg_lambda=0.0 will be ignored. Current value: lambda_l2=0.0595126440974096\n"
     ]
    },
    {
     "name": "stderr",
     "output_type": "stream",
     "text": [
      " 68%|██████▊   | 68/100 [09:56<04:40,  8.77s/it]"
     ]
    },
    {
     "name": "stdout",
     "output_type": "stream",
     "text": [
      "[LightGBM] [Warning] lambda_l1 is set=0.0768920138186167, reg_alpha=0.0 will be ignored. Current value: lambda_l1=0.0768920138186167\n",
      "[LightGBM] [Warning] bagging_fraction is set=0.576781303889645, subsample=1.0 will be ignored. Current value: bagging_fraction=0.576781303889645\n",
      "[LightGBM] [Warning] feature_fraction is set=0.548497029189781, colsample_bytree=1.0 will be ignored. Current value: feature_fraction=0.548497029189781\n",
      "[LightGBM] [Warning] lambda_l2 is set=0.0595126440974096, reg_lambda=0.0 will be ignored. Current value: lambda_l2=0.0595126440974096\n"
     ]
    },
    {
     "name": "stderr",
     "output_type": "stream",
     "text": [
      " 69%|██████▉   | 69/100 [10:04<04:26,  8.58s/it]"
     ]
    },
    {
     "name": "stdout",
     "output_type": "stream",
     "text": [
      "[LightGBM] [Warning] lambda_l1 is set=0.0768920138186167, reg_alpha=0.0 will be ignored. Current value: lambda_l1=0.0768920138186167\n",
      "[LightGBM] [Warning] bagging_fraction is set=0.576781303889645, subsample=1.0 will be ignored. Current value: bagging_fraction=0.576781303889645\n",
      "[LightGBM] [Warning] feature_fraction is set=0.548497029189781, colsample_bytree=1.0 will be ignored. Current value: feature_fraction=0.548497029189781\n",
      "[LightGBM] [Warning] lambda_l2 is set=0.0595126440974096, reg_lambda=0.0 will be ignored. Current value: lambda_l2=0.0595126440974096\n"
     ]
    },
    {
     "name": "stderr",
     "output_type": "stream",
     "text": [
      " 70%|███████   | 70/100 [10:13<04:15,  8.51s/it]"
     ]
    },
    {
     "name": "stdout",
     "output_type": "stream",
     "text": [
      "[LightGBM] [Warning] lambda_l1 is set=0.0768920138186167, reg_alpha=0.0 will be ignored. Current value: lambda_l1=0.0768920138186167\n",
      "[LightGBM] [Warning] bagging_fraction is set=0.576781303889645, subsample=1.0 will be ignored. Current value: bagging_fraction=0.576781303889645\n",
      "[LightGBM] [Warning] feature_fraction is set=0.548497029189781, colsample_bytree=1.0 will be ignored. Current value: feature_fraction=0.548497029189781\n",
      "[LightGBM] [Warning] lambda_l2 is set=0.0595126440974096, reg_lambda=0.0 will be ignored. Current value: lambda_l2=0.0595126440974096\n"
     ]
    },
    {
     "name": "stderr",
     "output_type": "stream",
     "text": [
      " 71%|███████   | 71/100 [10:21<04:05,  8.45s/it]"
     ]
    },
    {
     "name": "stdout",
     "output_type": "stream",
     "text": [
      "[LightGBM] [Warning] lambda_l1 is set=0.0768920138186167, reg_alpha=0.0 will be ignored. Current value: lambda_l1=0.0768920138186167\n",
      "[LightGBM] [Warning] bagging_fraction is set=0.576781303889645, subsample=1.0 will be ignored. Current value: bagging_fraction=0.576781303889645\n",
      "[LightGBM] [Warning] feature_fraction is set=0.548497029189781, colsample_bytree=1.0 will be ignored. Current value: feature_fraction=0.548497029189781\n",
      "[LightGBM] [Warning] lambda_l2 is set=0.0595126440974096, reg_lambda=0.0 will be ignored. Current value: lambda_l2=0.0595126440974096\n"
     ]
    },
    {
     "name": "stderr",
     "output_type": "stream",
     "text": [
      " 72%|███████▏  | 72/100 [10:29<03:54,  8.37s/it]"
     ]
    },
    {
     "name": "stdout",
     "output_type": "stream",
     "text": [
      "[LightGBM] [Warning] lambda_l1 is set=0.0768920138186167, reg_alpha=0.0 will be ignored. Current value: lambda_l1=0.0768920138186167\n",
      "[LightGBM] [Warning] bagging_fraction is set=0.576781303889645, subsample=1.0 will be ignored. Current value: bagging_fraction=0.576781303889645\n",
      "[LightGBM] [Warning] feature_fraction is set=0.548497029189781, colsample_bytree=1.0 will be ignored. Current value: feature_fraction=0.548497029189781\n",
      "[LightGBM] [Warning] lambda_l2 is set=0.0595126440974096, reg_lambda=0.0 will be ignored. Current value: lambda_l2=0.0595126440974096\n"
     ]
    },
    {
     "name": "stderr",
     "output_type": "stream",
     "text": [
      " 73%|███████▎  | 73/100 [10:37<03:45,  8.34s/it]"
     ]
    },
    {
     "name": "stdout",
     "output_type": "stream",
     "text": [
      "[LightGBM] [Warning] lambda_l1 is set=0.0768920138186167, reg_alpha=0.0 will be ignored. Current value: lambda_l1=0.0768920138186167\n",
      "[LightGBM] [Warning] bagging_fraction is set=0.576781303889645, subsample=1.0 will be ignored. Current value: bagging_fraction=0.576781303889645\n",
      "[LightGBM] [Warning] feature_fraction is set=0.548497029189781, colsample_bytree=1.0 will be ignored. Current value: feature_fraction=0.548497029189781\n",
      "[LightGBM] [Warning] lambda_l2 is set=0.0595126440974096, reg_lambda=0.0 will be ignored. Current value: lambda_l2=0.0595126440974096\n"
     ]
    },
    {
     "name": "stderr",
     "output_type": "stream",
     "text": [
      " 74%|███████▍  | 74/100 [10:45<03:35,  8.28s/it]"
     ]
    },
    {
     "name": "stdout",
     "output_type": "stream",
     "text": [
      "[LightGBM] [Warning] lambda_l1 is set=0.0768920138186167, reg_alpha=0.0 will be ignored. Current value: lambda_l1=0.0768920138186167\n",
      "[LightGBM] [Warning] bagging_fraction is set=0.576781303889645, subsample=1.0 will be ignored. Current value: bagging_fraction=0.576781303889645\n",
      "[LightGBM] [Warning] feature_fraction is set=0.548497029189781, colsample_bytree=1.0 will be ignored. Current value: feature_fraction=0.548497029189781\n",
      "[LightGBM] [Warning] lambda_l2 is set=0.0595126440974096, reg_lambda=0.0 will be ignored. Current value: lambda_l2=0.0595126440974096\n"
     ]
    },
    {
     "name": "stderr",
     "output_type": "stream",
     "text": [
      " 75%|███████▌  | 75/100 [10:54<03:26,  8.26s/it]"
     ]
    },
    {
     "name": "stdout",
     "output_type": "stream",
     "text": [
      "[LightGBM] [Warning] lambda_l1 is set=0.0768920138186167, reg_alpha=0.0 will be ignored. Current value: lambda_l1=0.0768920138186167\n",
      "[LightGBM] [Warning] bagging_fraction is set=0.576781303889645, subsample=1.0 will be ignored. Current value: bagging_fraction=0.576781303889645\n",
      "[LightGBM] [Warning] feature_fraction is set=0.548497029189781, colsample_bytree=1.0 will be ignored. Current value: feature_fraction=0.548497029189781\n",
      "[LightGBM] [Warning] lambda_l2 is set=0.0595126440974096, reg_lambda=0.0 will be ignored. Current value: lambda_l2=0.0595126440974096\n"
     ]
    },
    {
     "name": "stderr",
     "output_type": "stream",
     "text": [
      " 76%|███████▌  | 76/100 [11:02<03:17,  8.24s/it]"
     ]
    },
    {
     "name": "stdout",
     "output_type": "stream",
     "text": [
      "[LightGBM] [Warning] lambda_l1 is set=0.0768920138186167, reg_alpha=0.0 will be ignored. Current value: lambda_l1=0.0768920138186167\n",
      "[LightGBM] [Warning] bagging_fraction is set=0.576781303889645, subsample=1.0 will be ignored. Current value: bagging_fraction=0.576781303889645\n",
      "[LightGBM] [Warning] feature_fraction is set=0.548497029189781, colsample_bytree=1.0 will be ignored. Current value: feature_fraction=0.548497029189781\n",
      "[LightGBM] [Warning] lambda_l2 is set=0.0595126440974096, reg_lambda=0.0 will be ignored. Current value: lambda_l2=0.0595126440974096\n"
     ]
    },
    {
     "name": "stderr",
     "output_type": "stream",
     "text": [
      " 77%|███████▋  | 77/100 [11:10<03:08,  8.22s/it]"
     ]
    },
    {
     "name": "stdout",
     "output_type": "stream",
     "text": [
      "[LightGBM] [Warning] lambda_l1 is set=0.0768920138186167, reg_alpha=0.0 will be ignored. Current value: lambda_l1=0.0768920138186167\n",
      "[LightGBM] [Warning] bagging_fraction is set=0.576781303889645, subsample=1.0 will be ignored. Current value: bagging_fraction=0.576781303889645\n",
      "[LightGBM] [Warning] feature_fraction is set=0.548497029189781, colsample_bytree=1.0 will be ignored. Current value: feature_fraction=0.548497029189781\n",
      "[LightGBM] [Warning] lambda_l2 is set=0.0595126440974096, reg_lambda=0.0 will be ignored. Current value: lambda_l2=0.0595126440974096\n"
     ]
    },
    {
     "name": "stderr",
     "output_type": "stream",
     "text": [
      " 78%|███████▊  | 78/100 [11:18<03:01,  8.25s/it]"
     ]
    },
    {
     "name": "stdout",
     "output_type": "stream",
     "text": [
      "[LightGBM] [Warning] lambda_l1 is set=0.0768920138186167, reg_alpha=0.0 will be ignored. Current value: lambda_l1=0.0768920138186167\n",
      "[LightGBM] [Warning] bagging_fraction is set=0.576781303889645, subsample=1.0 will be ignored. Current value: bagging_fraction=0.576781303889645\n",
      "[LightGBM] [Warning] feature_fraction is set=0.548497029189781, colsample_bytree=1.0 will be ignored. Current value: feature_fraction=0.548497029189781\n",
      "[LightGBM] [Warning] lambda_l2 is set=0.0595126440974096, reg_lambda=0.0 will be ignored. Current value: lambda_l2=0.0595126440974096\n"
     ]
    },
    {
     "name": "stderr",
     "output_type": "stream",
     "text": [
      " 79%|███████▉  | 79/100 [11:27<02:52,  8.23s/it]"
     ]
    },
    {
     "name": "stdout",
     "output_type": "stream",
     "text": [
      "[LightGBM] [Warning] lambda_l1 is set=0.0768920138186167, reg_alpha=0.0 will be ignored. Current value: lambda_l1=0.0768920138186167\n",
      "[LightGBM] [Warning] bagging_fraction is set=0.576781303889645, subsample=1.0 will be ignored. Current value: bagging_fraction=0.576781303889645\n",
      "[LightGBM] [Warning] feature_fraction is set=0.548497029189781, colsample_bytree=1.0 will be ignored. Current value: feature_fraction=0.548497029189781\n",
      "[LightGBM] [Warning] lambda_l2 is set=0.0595126440974096, reg_lambda=0.0 will be ignored. Current value: lambda_l2=0.0595126440974096\n"
     ]
    },
    {
     "name": "stderr",
     "output_type": "stream",
     "text": [
      " 80%|████████  | 80/100 [11:35<02:45,  8.25s/it]"
     ]
    },
    {
     "name": "stdout",
     "output_type": "stream",
     "text": [
      "[LightGBM] [Warning] lambda_l1 is set=0.0768920138186167, reg_alpha=0.0 will be ignored. Current value: lambda_l1=0.0768920138186167\n",
      "[LightGBM] [Warning] bagging_fraction is set=0.576781303889645, subsample=1.0 will be ignored. Current value: bagging_fraction=0.576781303889645\n",
      "[LightGBM] [Warning] feature_fraction is set=0.548497029189781, colsample_bytree=1.0 will be ignored. Current value: feature_fraction=0.548497029189781\n",
      "[LightGBM] [Warning] lambda_l2 is set=0.0595126440974096, reg_lambda=0.0 will be ignored. Current value: lambda_l2=0.0595126440974096\n"
     ]
    },
    {
     "name": "stderr",
     "output_type": "stream",
     "text": [
      " 81%|████████  | 81/100 [11:43<02:38,  8.32s/it]"
     ]
    },
    {
     "name": "stdout",
     "output_type": "stream",
     "text": [
      "[LightGBM] [Warning] lambda_l1 is set=0.0768920138186167, reg_alpha=0.0 will be ignored. Current value: lambda_l1=0.0768920138186167\n",
      "[LightGBM] [Warning] bagging_fraction is set=0.576781303889645, subsample=1.0 will be ignored. Current value: bagging_fraction=0.576781303889645\n",
      "[LightGBM] [Warning] feature_fraction is set=0.548497029189781, colsample_bytree=1.0 will be ignored. Current value: feature_fraction=0.548497029189781\n",
      "[LightGBM] [Warning] lambda_l2 is set=0.0595126440974096, reg_lambda=0.0 will be ignored. Current value: lambda_l2=0.0595126440974096\n"
     ]
    },
    {
     "name": "stderr",
     "output_type": "stream",
     "text": [
      " 82%|████████▏ | 82/100 [11:53<02:38,  8.79s/it]"
     ]
    },
    {
     "name": "stdout",
     "output_type": "stream",
     "text": [
      "[LightGBM] [Warning] lambda_l1 is set=0.0768920138186167, reg_alpha=0.0 will be ignored. Current value: lambda_l1=0.0768920138186167\n",
      "[LightGBM] [Warning] bagging_fraction is set=0.576781303889645, subsample=1.0 will be ignored. Current value: bagging_fraction=0.576781303889645\n",
      "[LightGBM] [Warning] feature_fraction is set=0.548497029189781, colsample_bytree=1.0 will be ignored. Current value: feature_fraction=0.548497029189781\n",
      "[LightGBM] [Warning] lambda_l2 is set=0.0595126440974096, reg_lambda=0.0 will be ignored. Current value: lambda_l2=0.0595126440974096\n"
     ]
    },
    {
     "name": "stderr",
     "output_type": "stream",
     "text": [
      " 83%|████████▎ | 83/100 [12:08<02:58, 10.47s/it]"
     ]
    },
    {
     "name": "stdout",
     "output_type": "stream",
     "text": [
      "[LightGBM] [Warning] lambda_l1 is set=0.0768920138186167, reg_alpha=0.0 will be ignored. Current value: lambda_l1=0.0768920138186167\n",
      "[LightGBM] [Warning] bagging_fraction is set=0.576781303889645, subsample=1.0 will be ignored. Current value: bagging_fraction=0.576781303889645\n",
      "[LightGBM] [Warning] feature_fraction is set=0.548497029189781, colsample_bytree=1.0 will be ignored. Current value: feature_fraction=0.548497029189781\n",
      "[LightGBM] [Warning] lambda_l2 is set=0.0595126440974096, reg_lambda=0.0 will be ignored. Current value: lambda_l2=0.0595126440974096\n"
     ]
    },
    {
     "name": "stderr",
     "output_type": "stream",
     "text": [
      " 84%|████████▍ | 84/100 [12:19<02:53, 10.82s/it]"
     ]
    },
    {
     "name": "stdout",
     "output_type": "stream",
     "text": [
      "[LightGBM] [Warning] lambda_l1 is set=0.0768920138186167, reg_alpha=0.0 will be ignored. Current value: lambda_l1=0.0768920138186167\n",
      "[LightGBM] [Warning] bagging_fraction is set=0.576781303889645, subsample=1.0 will be ignored. Current value: bagging_fraction=0.576781303889645\n",
      "[LightGBM] [Warning] feature_fraction is set=0.548497029189781, colsample_bytree=1.0 will be ignored. Current value: feature_fraction=0.548497029189781\n",
      "[LightGBM] [Warning] lambda_l2 is set=0.0595126440974096, reg_lambda=0.0 will be ignored. Current value: lambda_l2=0.0595126440974096\n"
     ]
    },
    {
     "name": "stderr",
     "output_type": "stream",
     "text": [
      " 85%|████████▌ | 85/100 [12:27<02:29,  9.99s/it]"
     ]
    },
    {
     "name": "stdout",
     "output_type": "stream",
     "text": [
      "[LightGBM] [Warning] lambda_l1 is set=0.0768920138186167, reg_alpha=0.0 will be ignored. Current value: lambda_l1=0.0768920138186167\n",
      "[LightGBM] [Warning] bagging_fraction is set=0.576781303889645, subsample=1.0 will be ignored. Current value: bagging_fraction=0.576781303889645\n",
      "[LightGBM] [Warning] feature_fraction is set=0.548497029189781, colsample_bytree=1.0 will be ignored. Current value: feature_fraction=0.548497029189781\n",
      "[LightGBM] [Warning] lambda_l2 is set=0.0595126440974096, reg_lambda=0.0 will be ignored. Current value: lambda_l2=0.0595126440974096\n"
     ]
    },
    {
     "name": "stderr",
     "output_type": "stream",
     "text": [
      " 86%|████████▌ | 86/100 [12:35<02:11,  9.42s/it]"
     ]
    },
    {
     "name": "stdout",
     "output_type": "stream",
     "text": [
      "[LightGBM] [Warning] lambda_l1 is set=0.0768920138186167, reg_alpha=0.0 will be ignored. Current value: lambda_l1=0.0768920138186167\n",
      "[LightGBM] [Warning] bagging_fraction is set=0.576781303889645, subsample=1.0 will be ignored. Current value: bagging_fraction=0.576781303889645\n",
      "[LightGBM] [Warning] feature_fraction is set=0.548497029189781, colsample_bytree=1.0 will be ignored. Current value: feature_fraction=0.548497029189781\n",
      "[LightGBM] [Warning] lambda_l2 is set=0.0595126440974096, reg_lambda=0.0 will be ignored. Current value: lambda_l2=0.0595126440974096\n"
     ]
    },
    {
     "name": "stderr",
     "output_type": "stream",
     "text": [
      " 87%|████████▋ | 87/100 [12:44<01:57,  9.07s/it]"
     ]
    },
    {
     "name": "stdout",
     "output_type": "stream",
     "text": [
      "[LightGBM] [Warning] lambda_l1 is set=0.0768920138186167, reg_alpha=0.0 will be ignored. Current value: lambda_l1=0.0768920138186167\n",
      "[LightGBM] [Warning] bagging_fraction is set=0.576781303889645, subsample=1.0 will be ignored. Current value: bagging_fraction=0.576781303889645\n",
      "[LightGBM] [Warning] feature_fraction is set=0.548497029189781, colsample_bytree=1.0 will be ignored. Current value: feature_fraction=0.548497029189781\n",
      "[LightGBM] [Warning] lambda_l2 is set=0.0595126440974096, reg_lambda=0.0 will be ignored. Current value: lambda_l2=0.0595126440974096\n"
     ]
    },
    {
     "name": "stderr",
     "output_type": "stream",
     "text": [
      " 88%|████████▊ | 88/100 [12:52<01:46,  8.87s/it]"
     ]
    },
    {
     "name": "stdout",
     "output_type": "stream",
     "text": [
      "[LightGBM] [Warning] lambda_l1 is set=0.0768920138186167, reg_alpha=0.0 will be ignored. Current value: lambda_l1=0.0768920138186167\n",
      "[LightGBM] [Warning] bagging_fraction is set=0.576781303889645, subsample=1.0 will be ignored. Current value: bagging_fraction=0.576781303889645\n",
      "[LightGBM] [Warning] feature_fraction is set=0.548497029189781, colsample_bytree=1.0 will be ignored. Current value: feature_fraction=0.548497029189781\n",
      "[LightGBM] [Warning] lambda_l2 is set=0.0595126440974096, reg_lambda=0.0 will be ignored. Current value: lambda_l2=0.0595126440974096\n"
     ]
    },
    {
     "name": "stderr",
     "output_type": "stream",
     "text": [
      " 89%|████████▉ | 89/100 [13:00<01:35,  8.70s/it]"
     ]
    },
    {
     "name": "stdout",
     "output_type": "stream",
     "text": [
      "[LightGBM] [Warning] lambda_l1 is set=0.0768920138186167, reg_alpha=0.0 will be ignored. Current value: lambda_l1=0.0768920138186167\n",
      "[LightGBM] [Warning] bagging_fraction is set=0.576781303889645, subsample=1.0 will be ignored. Current value: bagging_fraction=0.576781303889645\n",
      "[LightGBM] [Warning] feature_fraction is set=0.548497029189781, colsample_bytree=1.0 will be ignored. Current value: feature_fraction=0.548497029189781\n",
      "[LightGBM] [Warning] lambda_l2 is set=0.0595126440974096, reg_lambda=0.0 will be ignored. Current value: lambda_l2=0.0595126440974096\n"
     ]
    },
    {
     "name": "stderr",
     "output_type": "stream",
     "text": [
      " 90%|█████████ | 90/100 [13:09<01:25,  8.54s/it]"
     ]
    },
    {
     "name": "stdout",
     "output_type": "stream",
     "text": [
      "[LightGBM] [Warning] lambda_l1 is set=0.0768920138186167, reg_alpha=0.0 will be ignored. Current value: lambda_l1=0.0768920138186167\n",
      "[LightGBM] [Warning] bagging_fraction is set=0.576781303889645, subsample=1.0 will be ignored. Current value: bagging_fraction=0.576781303889645\n",
      "[LightGBM] [Warning] feature_fraction is set=0.548497029189781, colsample_bytree=1.0 will be ignored. Current value: feature_fraction=0.548497029189781\n",
      "[LightGBM] [Warning] lambda_l2 is set=0.0595126440974096, reg_lambda=0.0 will be ignored. Current value: lambda_l2=0.0595126440974096\n"
     ]
    },
    {
     "name": "stderr",
     "output_type": "stream",
     "text": [
      " 91%|█████████ | 91/100 [13:17<01:15,  8.40s/it]"
     ]
    },
    {
     "name": "stdout",
     "output_type": "stream",
     "text": [
      "[LightGBM] [Warning] lambda_l1 is set=0.0768920138186167, reg_alpha=0.0 will be ignored. Current value: lambda_l1=0.0768920138186167\n",
      "[LightGBM] [Warning] bagging_fraction is set=0.576781303889645, subsample=1.0 will be ignored. Current value: bagging_fraction=0.576781303889645\n",
      "[LightGBM] [Warning] feature_fraction is set=0.548497029189781, colsample_bytree=1.0 will be ignored. Current value: feature_fraction=0.548497029189781\n",
      "[LightGBM] [Warning] lambda_l2 is set=0.0595126440974096, reg_lambda=0.0 will be ignored. Current value: lambda_l2=0.0595126440974096\n"
     ]
    },
    {
     "name": "stderr",
     "output_type": "stream",
     "text": [
      " 92%|█████████▏| 92/100 [13:25<01:07,  8.43s/it]"
     ]
    },
    {
     "name": "stdout",
     "output_type": "stream",
     "text": [
      "[LightGBM] [Warning] lambda_l1 is set=0.0768920138186167, reg_alpha=0.0 will be ignored. Current value: lambda_l1=0.0768920138186167\n",
      "[LightGBM] [Warning] bagging_fraction is set=0.576781303889645, subsample=1.0 will be ignored. Current value: bagging_fraction=0.576781303889645\n",
      "[LightGBM] [Warning] feature_fraction is set=0.548497029189781, colsample_bytree=1.0 will be ignored. Current value: feature_fraction=0.548497029189781\n",
      "[LightGBM] [Warning] lambda_l2 is set=0.0595126440974096, reg_lambda=0.0 will be ignored. Current value: lambda_l2=0.0595126440974096\n"
     ]
    },
    {
     "name": "stderr",
     "output_type": "stream",
     "text": [
      " 93%|█████████▎| 93/100 [13:33<00:58,  8.36s/it]"
     ]
    },
    {
     "name": "stdout",
     "output_type": "stream",
     "text": [
      "[LightGBM] [Warning] lambda_l1 is set=0.0768920138186167, reg_alpha=0.0 will be ignored. Current value: lambda_l1=0.0768920138186167\n",
      "[LightGBM] [Warning] bagging_fraction is set=0.576781303889645, subsample=1.0 will be ignored. Current value: bagging_fraction=0.576781303889645\n",
      "[LightGBM] [Warning] feature_fraction is set=0.548497029189781, colsample_bytree=1.0 will be ignored. Current value: feature_fraction=0.548497029189781\n",
      "[LightGBM] [Warning] lambda_l2 is set=0.0595126440974096, reg_lambda=0.0 will be ignored. Current value: lambda_l2=0.0595126440974096\n"
     ]
    },
    {
     "name": "stderr",
     "output_type": "stream",
     "text": [
      " 94%|█████████▍| 94/100 [13:41<00:49,  8.28s/it]"
     ]
    },
    {
     "name": "stdout",
     "output_type": "stream",
     "text": [
      "[LightGBM] [Warning] lambda_l1 is set=0.0768920138186167, reg_alpha=0.0 will be ignored. Current value: lambda_l1=0.0768920138186167\n",
      "[LightGBM] [Warning] bagging_fraction is set=0.576781303889645, subsample=1.0 will be ignored. Current value: bagging_fraction=0.576781303889645\n",
      "[LightGBM] [Warning] feature_fraction is set=0.548497029189781, colsample_bytree=1.0 will be ignored. Current value: feature_fraction=0.548497029189781\n",
      "[LightGBM] [Warning] lambda_l2 is set=0.0595126440974096, reg_lambda=0.0 will be ignored. Current value: lambda_l2=0.0595126440974096\n"
     ]
    },
    {
     "name": "stderr",
     "output_type": "stream",
     "text": [
      " 95%|█████████▌| 95/100 [13:50<00:41,  8.25s/it]"
     ]
    },
    {
     "name": "stdout",
     "output_type": "stream",
     "text": [
      "[LightGBM] [Warning] lambda_l1 is set=0.0768920138186167, reg_alpha=0.0 will be ignored. Current value: lambda_l1=0.0768920138186167\n",
      "[LightGBM] [Warning] bagging_fraction is set=0.576781303889645, subsample=1.0 will be ignored. Current value: bagging_fraction=0.576781303889645\n",
      "[LightGBM] [Warning] feature_fraction is set=0.548497029189781, colsample_bytree=1.0 will be ignored. Current value: feature_fraction=0.548497029189781\n",
      "[LightGBM] [Warning] lambda_l2 is set=0.0595126440974096, reg_lambda=0.0 will be ignored. Current value: lambda_l2=0.0595126440974096\n"
     ]
    },
    {
     "name": "stderr",
     "output_type": "stream",
     "text": [
      " 96%|█████████▌| 96/100 [13:58<00:32,  8.22s/it]"
     ]
    },
    {
     "name": "stdout",
     "output_type": "stream",
     "text": [
      "[LightGBM] [Warning] lambda_l1 is set=0.0768920138186167, reg_alpha=0.0 will be ignored. Current value: lambda_l1=0.0768920138186167\n",
      "[LightGBM] [Warning] bagging_fraction is set=0.576781303889645, subsample=1.0 will be ignored. Current value: bagging_fraction=0.576781303889645\n",
      "[LightGBM] [Warning] feature_fraction is set=0.548497029189781, colsample_bytree=1.0 will be ignored. Current value: feature_fraction=0.548497029189781\n",
      "[LightGBM] [Warning] lambda_l2 is set=0.0595126440974096, reg_lambda=0.0 will be ignored. Current value: lambda_l2=0.0595126440974096\n"
     ]
    },
    {
     "name": "stderr",
     "output_type": "stream",
     "text": [
      " 97%|█████████▋| 97/100 [14:06<00:24,  8.20s/it]"
     ]
    },
    {
     "name": "stdout",
     "output_type": "stream",
     "text": [
      "[LightGBM] [Warning] lambda_l1 is set=0.0768920138186167, reg_alpha=0.0 will be ignored. Current value: lambda_l1=0.0768920138186167\n",
      "[LightGBM] [Warning] bagging_fraction is set=0.576781303889645, subsample=1.0 will be ignored. Current value: bagging_fraction=0.576781303889645\n",
      "[LightGBM] [Warning] feature_fraction is set=0.548497029189781, colsample_bytree=1.0 will be ignored. Current value: feature_fraction=0.548497029189781\n",
      "[LightGBM] [Warning] lambda_l2 is set=0.0595126440974096, reg_lambda=0.0 will be ignored. Current value: lambda_l2=0.0595126440974096\n"
     ]
    },
    {
     "name": "stderr",
     "output_type": "stream",
     "text": [
      " 98%|█████████▊| 98/100 [14:14<00:16,  8.24s/it]"
     ]
    },
    {
     "name": "stdout",
     "output_type": "stream",
     "text": [
      "[LightGBM] [Warning] lambda_l1 is set=0.0768920138186167, reg_alpha=0.0 will be ignored. Current value: lambda_l1=0.0768920138186167\n",
      "[LightGBM] [Warning] bagging_fraction is set=0.576781303889645, subsample=1.0 will be ignored. Current value: bagging_fraction=0.576781303889645\n",
      "[LightGBM] [Warning] feature_fraction is set=0.548497029189781, colsample_bytree=1.0 will be ignored. Current value: feature_fraction=0.548497029189781\n",
      "[LightGBM] [Warning] lambda_l2 is set=0.0595126440974096, reg_lambda=0.0 will be ignored. Current value: lambda_l2=0.0595126440974096\n"
     ]
    },
    {
     "name": "stderr",
     "output_type": "stream",
     "text": [
      " 99%|█████████▉| 99/100 [14:22<00:08,  8.24s/it]"
     ]
    },
    {
     "name": "stdout",
     "output_type": "stream",
     "text": [
      "[LightGBM] [Warning] lambda_l1 is set=0.0768920138186167, reg_alpha=0.0 will be ignored. Current value: lambda_l1=0.0768920138186167\n",
      "[LightGBM] [Warning] bagging_fraction is set=0.576781303889645, subsample=1.0 will be ignored. Current value: bagging_fraction=0.576781303889645\n",
      "[LightGBM] [Warning] feature_fraction is set=0.548497029189781, colsample_bytree=1.0 will be ignored. Current value: feature_fraction=0.548497029189781\n",
      "[LightGBM] [Warning] lambda_l2 is set=0.0595126440974096, reg_lambda=0.0 will be ignored. Current value: lambda_l2=0.0595126440974096\n"
     ]
    },
    {
     "name": "stderr",
     "output_type": "stream",
     "text": [
      "100%|██████████| 100/100 [14:31<00:00,  8.71s/it]\n",
      "100%|██████████| 100/100 [26:15<00:00, 15.76s/it]\n"
     ]
    }
   ],
   "source": [
    "to_select = ['X1_WinRatio14d',\n",
    "             'X1_PointsMean',\n",
    "             'X1_PointsMedian',\n",
    "             'X1_PointsDiffMean',\n",
    "             'X1_FgaMean',\n",
    "             'X1_FgaMedian',\n",
    "             'X1_FgaMin',\n",
    "             'X1_FgaMax',\n",
    "             'X1_AstMean',\n",
    "             'X1_BlkMean',\n",
    "             'X1_OppFgaMean',\n",
    "             'X1_OppFgaMin',\n",
    "             'X1_EfgpMean',\n",
    "             'X1_PossessionsMean',\n",
    "             'X1_PpmMean',\n",
    "             'X1_FtrMean',\n",
    "             'X1_TopMean',\n",
    "             'X1_DrebpMean',\n",
    "             'X2_WinRatio14d',\n",
    "             'X2_PointsMean',\n",
    "             'X2_PointsMedian',\n",
    "             'X2_PointsDiffMean',\n",
    "             'X2_FgaMean',\n",
    "             'X2_FgaMedian',\n",
    "             'X2_FgaMin',\n",
    "             'X2_FgaMax',\n",
    "             'X2_AstMean',\n",
    "             'X2_BlkMean',\n",
    "             'X2_OppFgaMean',\n",
    "             'X2_OppFgaMin',\n",
    "             'X2_EfgpMean',\n",
    "             'X2_PossessionsMean',\n",
    "             'X2_PpmMean',\n",
    "             'X2_FtrMean',\n",
    "             'X2_TopMean',\n",
    "             'X2_DrebpMean']\n",
    "\n",
    "X = man_train[to_select]\n",
    "Y = man_train['ResultDiff']\n",
    "\n",
    "man_test_other =  man_test[(man_test['Seed1'].isnull() | man_test['Seed2'].isnull())].reset_index(drop = True)\n",
    "man_test_IDS = man_test_other['ID'] \n",
    "man_test_other = man_test_other[to_select]\n",
    "\n",
    "#############\n",
    "## XGBoost ##\n",
    "#############\n",
    "\n",
    "xgb_params = pd.read_csv('man_XGB_Phase_1_Others_42_Optuna_Hyperparameters.csv')\n",
    "xgb_preds = list()\n",
    "\n",
    "for i in tqdm(range(100)):\n",
    "\n",
    "    xgb_md = XGBRegressor(tree_method = 'hist', \n",
    "                          max_depth = xgb_params['max_depth'][0],\n",
    "                          learning_rate = xgb_params['learning_rate'][0],\n",
    "                          n_estimators = xgb_params['n_estimators'][0],\n",
    "                          gamma = xgb_params['gamma'][0],\n",
    "                          min_child_weight = xgb_params['min_child_weight'][0],\n",
    "                          colsample_bytree = xgb_params['colsample_bytree'][0],\n",
    "                          subsample = xgb_params['subsample'][0],\n",
    "                          random_state = 1).fit(X, Y)\n",
    "\n",
    "    xgb_pred = xgb_md.predict(man_test_other)\n",
    "    xgb_preds.append(xgb_pred)\n",
    "    \n",
    "##############\n",
    "## LightGBM ##\n",
    "##############\n",
    "\n",
    "lgb_params = pd.read_csv('man_LightGBM_Phase_1_Others_42_Optuna_Hyperparameters.csv')\n",
    "lgb_preds = list()\n",
    "\n",
    "for i in tqdm(range(100)):\n",
    "\n",
    "    lgb_md = LGBMRegressor(boosting_type = 'gbdt', \n",
    "                           n_estimators = lgb_params['n_estimators'][0],\n",
    "                           learning_rate = lgb_params['learning_rate'][0],\n",
    "                           max_depth = lgb_params['max_depth'][0],\n",
    "                           lambda_l1 = lgb_params['lambda_l1'][0],\n",
    "                           lambda_l2 = lgb_params['lambda_l2'][0],\n",
    "                           num_leaves = lgb_params['num_leaves'][0],\n",
    "                           bagging_fraction = lgb_params['bagging_fraction'][0],\n",
    "                           feature_fraction = lgb_params['feature_fraction'][0], \n",
    "                           random_state = i).fit(X, Y)\n",
    "\n",
    "    lgb_pred = lgb_md.predict(man_test_other)\n",
    "    lgb_preds.append(lgb_pred)\n",
    "    \n",
    "##################\n",
    "## HistGradient ##\n",
    "##################\n",
    "\n",
    "hist_params = pd.read_csv('man_Hist_Phase_1_Others_42_Optuna_Hyperparameters.csv')\n",
    "hist_preds = list()\n",
    "\n",
    "for i in tqdm(range(100)):\n",
    "\n",
    "    hist_md = HistGradientBoostingRegressor(l2_regularization = hist_params['l2_regularization'][0],\n",
    "                                            early_stopping = False,\n",
    "                                            learning_rate = hist_params['learning_rate'][0],\n",
    "                                            max_iter = hist_params['max_iter'][0],\n",
    "                                            max_depth = hist_params['max_depth'][0],\n",
    "                                            max_bins = hist_params['max_bins'][0],\n",
    "                                            min_samples_leaf = hist_params['min_samples_leaf'][0],\n",
    "                                            max_leaf_nodes = hist_params['max_leaf_nodes'][0],\n",
    "                                            random_state = i).fit(X, Y)\n",
    "\n",
    "    hist_pred = hist_md.predict(man_test_other)\n",
    "    hist_preds.append(hist_pred)\n",
    "\n",
    "##############\n",
    "## Ensemble ##\n",
    "##############\n",
    "\n",
    "xgb_pred = pd.DataFrame(xgb_preds).apply(np.mean, axis = 0)\n",
    "lgb_pred = pd.DataFrame(lgb_preds).apply(np.mean, axis = 0)\n",
    "hist_pred = pd.DataFrame(hist_preds).apply(np.mean, axis = 0)\n",
    "\n",
    "ens_pred = (xgb_pred + lgb_pred + hist_pred) / 3\n",
    "man_test_other['ResultDiff'] = np.round_(ens_pred, decimals = 0).astype(int)\n",
    "man_test_other['ID'] = man_test_IDS"
   ]
  },
  {
   "cell_type": "markdown",
   "id": "0af8f6c7",
   "metadata": {},
   "source": [
    "## Phase 2: Man"
   ]
  },
  {
   "cell_type": "code",
   "execution_count": null,
   "id": "d834ffd1",
   "metadata": {},
   "outputs": [
    {
     "name": "stderr",
     "output_type": "stream",
     "text": [
      "100%|██████████| 100/100 [08:21<00:00,  5.02s/it]\n",
      "  0%|          | 0/100 [00:00<?, ?it/s]"
     ]
    },
    {
     "name": "stdout",
     "output_type": "stream",
     "text": [
      "[LightGBM] [Warning] lambda_l1 is set=0.0101037077177569, reg_alpha=0.0 will be ignored. Current value: lambda_l1=0.0101037077177569\n",
      "[LightGBM] [Warning] bagging_fraction is set=0.8808570379580776, subsample=1.0 will be ignored. Current value: bagging_fraction=0.8808570379580776\n",
      "[LightGBM] [Warning] feature_fraction is set=0.8912915369733756, colsample_bytree=1.0 will be ignored. Current value: feature_fraction=0.8912915369733756\n",
      "[LightGBM] [Warning] lambda_l2 is set=0.0104110642739638, reg_lambda=0.0 will be ignored. Current value: lambda_l2=0.0104110642739638\n"
     ]
    },
    {
     "name": "stderr",
     "output_type": "stream",
     "text": [
      "  1%|          | 1/100 [00:02<03:56,  2.39s/it]"
     ]
    },
    {
     "name": "stdout",
     "output_type": "stream",
     "text": [
      "[LightGBM] [Warning] lambda_l1 is set=0.0101037077177569, reg_alpha=0.0 will be ignored. Current value: lambda_l1=0.0101037077177569\n",
      "[LightGBM] [Warning] bagging_fraction is set=0.8808570379580776, subsample=1.0 will be ignored. Current value: bagging_fraction=0.8808570379580776\n",
      "[LightGBM] [Warning] feature_fraction is set=0.8912915369733756, colsample_bytree=1.0 will be ignored. Current value: feature_fraction=0.8912915369733756\n",
      "[LightGBM] [Warning] lambda_l2 is set=0.0104110642739638, reg_lambda=0.0 will be ignored. Current value: lambda_l2=0.0104110642739638\n"
     ]
    },
    {
     "name": "stderr",
     "output_type": "stream",
     "text": [
      "  2%|▏         | 2/100 [00:04<03:37,  2.22s/it]"
     ]
    },
    {
     "name": "stdout",
     "output_type": "stream",
     "text": [
      "[LightGBM] [Warning] lambda_l1 is set=0.0101037077177569, reg_alpha=0.0 will be ignored. Current value: lambda_l1=0.0101037077177569\n",
      "[LightGBM] [Warning] bagging_fraction is set=0.8808570379580776, subsample=1.0 will be ignored. Current value: bagging_fraction=0.8808570379580776\n",
      "[LightGBM] [Warning] feature_fraction is set=0.8912915369733756, colsample_bytree=1.0 will be ignored. Current value: feature_fraction=0.8912915369733756\n",
      "[LightGBM] [Warning] lambda_l2 is set=0.0104110642739638, reg_lambda=0.0 will be ignored. Current value: lambda_l2=0.0104110642739638\n"
     ]
    },
    {
     "name": "stderr",
     "output_type": "stream",
     "text": [
      "  3%|▎         | 3/100 [00:06<03:47,  2.34s/it]"
     ]
    },
    {
     "name": "stdout",
     "output_type": "stream",
     "text": [
      "[LightGBM] [Warning] lambda_l1 is set=0.0101037077177569, reg_alpha=0.0 will be ignored. Current value: lambda_l1=0.0101037077177569\n",
      "[LightGBM] [Warning] bagging_fraction is set=0.8808570379580776, subsample=1.0 will be ignored. Current value: bagging_fraction=0.8808570379580776\n",
      "[LightGBM] [Warning] feature_fraction is set=0.8912915369733756, colsample_bytree=1.0 will be ignored. Current value: feature_fraction=0.8912915369733756\n",
      "[LightGBM] [Warning] lambda_l2 is set=0.0104110642739638, reg_lambda=0.0 will be ignored. Current value: lambda_l2=0.0104110642739638\n"
     ]
    },
    {
     "name": "stderr",
     "output_type": "stream",
     "text": [
      "  4%|▍         | 4/100 [00:09<03:33,  2.23s/it]"
     ]
    },
    {
     "name": "stdout",
     "output_type": "stream",
     "text": [
      "[LightGBM] [Warning] lambda_l1 is set=0.0101037077177569, reg_alpha=0.0 will be ignored. Current value: lambda_l1=0.0101037077177569\n",
      "[LightGBM] [Warning] bagging_fraction is set=0.8808570379580776, subsample=1.0 will be ignored. Current value: bagging_fraction=0.8808570379580776\n",
      "[LightGBM] [Warning] feature_fraction is set=0.8912915369733756, colsample_bytree=1.0 will be ignored. Current value: feature_fraction=0.8912915369733756\n",
      "[LightGBM] [Warning] lambda_l2 is set=0.0104110642739638, reg_lambda=0.0 will be ignored. Current value: lambda_l2=0.0104110642739638\n"
     ]
    },
    {
     "name": "stderr",
     "output_type": "stream",
     "text": [
      "  5%|▌         | 5/100 [00:11<03:46,  2.38s/it]"
     ]
    },
    {
     "name": "stdout",
     "output_type": "stream",
     "text": [
      "[LightGBM] [Warning] lambda_l1 is set=0.0101037077177569, reg_alpha=0.0 will be ignored. Current value: lambda_l1=0.0101037077177569\n",
      "[LightGBM] [Warning] bagging_fraction is set=0.8808570379580776, subsample=1.0 will be ignored. Current value: bagging_fraction=0.8808570379580776\n",
      "[LightGBM] [Warning] feature_fraction is set=0.8912915369733756, colsample_bytree=1.0 will be ignored. Current value: feature_fraction=0.8912915369733756\n",
      "[LightGBM] [Warning] lambda_l2 is set=0.0104110642739638, reg_lambda=0.0 will be ignored. Current value: lambda_l2=0.0104110642739638\n"
     ]
    },
    {
     "name": "stderr",
     "output_type": "stream",
     "text": [
      "  6%|▌         | 6/100 [00:14<03:47,  2.41s/it]"
     ]
    },
    {
     "name": "stdout",
     "output_type": "stream",
     "text": [
      "[LightGBM] [Warning] lambda_l1 is set=0.0101037077177569, reg_alpha=0.0 will be ignored. Current value: lambda_l1=0.0101037077177569\n",
      "[LightGBM] [Warning] bagging_fraction is set=0.8808570379580776, subsample=1.0 will be ignored. Current value: bagging_fraction=0.8808570379580776\n",
      "[LightGBM] [Warning] feature_fraction is set=0.8912915369733756, colsample_bytree=1.0 will be ignored. Current value: feature_fraction=0.8912915369733756\n",
      "[LightGBM] [Warning] lambda_l2 is set=0.0104110642739638, reg_lambda=0.0 will be ignored. Current value: lambda_l2=0.0104110642739638\n"
     ]
    },
    {
     "name": "stderr",
     "output_type": "stream",
     "text": [
      "  7%|▋         | 7/100 [00:16<03:36,  2.33s/it]"
     ]
    },
    {
     "name": "stdout",
     "output_type": "stream",
     "text": [
      "[LightGBM] [Warning] lambda_l1 is set=0.0101037077177569, reg_alpha=0.0 will be ignored. Current value: lambda_l1=0.0101037077177569\n",
      "[LightGBM] [Warning] bagging_fraction is set=0.8808570379580776, subsample=1.0 will be ignored. Current value: bagging_fraction=0.8808570379580776\n",
      "[LightGBM] [Warning] feature_fraction is set=0.8912915369733756, colsample_bytree=1.0 will be ignored. Current value: feature_fraction=0.8912915369733756\n",
      "[LightGBM] [Warning] lambda_l2 is set=0.0104110642739638, reg_lambda=0.0 will be ignored. Current value: lambda_l2=0.0104110642739638\n"
     ]
    },
    {
     "name": "stderr",
     "output_type": "stream",
     "text": [
      "  8%|▊         | 8/100 [00:18<03:27,  2.25s/it]"
     ]
    },
    {
     "name": "stdout",
     "output_type": "stream",
     "text": [
      "[LightGBM] [Warning] lambda_l1 is set=0.0101037077177569, reg_alpha=0.0 will be ignored. Current value: lambda_l1=0.0101037077177569\n",
      "[LightGBM] [Warning] bagging_fraction is set=0.8808570379580776, subsample=1.0 will be ignored. Current value: bagging_fraction=0.8808570379580776\n",
      "[LightGBM] [Warning] feature_fraction is set=0.8912915369733756, colsample_bytree=1.0 will be ignored. Current value: feature_fraction=0.8912915369733756\n",
      "[LightGBM] [Warning] lambda_l2 is set=0.0104110642739638, reg_lambda=0.0 will be ignored. Current value: lambda_l2=0.0104110642739638\n"
     ]
    },
    {
     "name": "stderr",
     "output_type": "stream",
     "text": [
      "  9%|▉         | 9/100 [00:20<03:22,  2.22s/it]"
     ]
    },
    {
     "name": "stdout",
     "output_type": "stream",
     "text": [
      "[LightGBM] [Warning] lambda_l1 is set=0.0101037077177569, reg_alpha=0.0 will be ignored. Current value: lambda_l1=0.0101037077177569\n",
      "[LightGBM] [Warning] bagging_fraction is set=0.8808570379580776, subsample=1.0 will be ignored. Current value: bagging_fraction=0.8808570379580776\n",
      "[LightGBM] [Warning] feature_fraction is set=0.8912915369733756, colsample_bytree=1.0 will be ignored. Current value: feature_fraction=0.8912915369733756\n",
      "[LightGBM] [Warning] lambda_l2 is set=0.0104110642739638, reg_lambda=0.0 will be ignored. Current value: lambda_l2=0.0104110642739638\n"
     ]
    },
    {
     "name": "stderr",
     "output_type": "stream",
     "text": [
      " 10%|█         | 10/100 [00:23<03:51,  2.58s/it]"
     ]
    },
    {
     "name": "stdout",
     "output_type": "stream",
     "text": [
      "[LightGBM] [Warning] lambda_l1 is set=0.0101037077177569, reg_alpha=0.0 will be ignored. Current value: lambda_l1=0.0101037077177569\n",
      "[LightGBM] [Warning] bagging_fraction is set=0.8808570379580776, subsample=1.0 will be ignored. Current value: bagging_fraction=0.8808570379580776\n",
      "[LightGBM] [Warning] feature_fraction is set=0.8912915369733756, colsample_bytree=1.0 will be ignored. Current value: feature_fraction=0.8912915369733756\n",
      "[LightGBM] [Warning] lambda_l2 is set=0.0104110642739638, reg_lambda=0.0 will be ignored. Current value: lambda_l2=0.0104110642739638\n"
     ]
    },
    {
     "name": "stderr",
     "output_type": "stream",
     "text": [
      " 11%|█         | 11/100 [00:26<03:40,  2.47s/it]"
     ]
    },
    {
     "name": "stdout",
     "output_type": "stream",
     "text": [
      "[LightGBM] [Warning] lambda_l1 is set=0.0101037077177569, reg_alpha=0.0 will be ignored. Current value: lambda_l1=0.0101037077177569\n",
      "[LightGBM] [Warning] bagging_fraction is set=0.8808570379580776, subsample=1.0 will be ignored. Current value: bagging_fraction=0.8808570379580776\n",
      "[LightGBM] [Warning] feature_fraction is set=0.8912915369733756, colsample_bytree=1.0 will be ignored. Current value: feature_fraction=0.8912915369733756\n",
      "[LightGBM] [Warning] lambda_l2 is set=0.0104110642739638, reg_lambda=0.0 will be ignored. Current value: lambda_l2=0.0104110642739638\n"
     ]
    },
    {
     "name": "stderr",
     "output_type": "stream",
     "text": [
      " 12%|█▏        | 12/100 [00:28<03:29,  2.38s/it]"
     ]
    },
    {
     "name": "stdout",
     "output_type": "stream",
     "text": [
      "[LightGBM] [Warning] lambda_l1 is set=0.0101037077177569, reg_alpha=0.0 will be ignored. Current value: lambda_l1=0.0101037077177569\n",
      "[LightGBM] [Warning] bagging_fraction is set=0.8808570379580776, subsample=1.0 will be ignored. Current value: bagging_fraction=0.8808570379580776\n",
      "[LightGBM] [Warning] feature_fraction is set=0.8912915369733756, colsample_bytree=1.0 will be ignored. Current value: feature_fraction=0.8912915369733756\n",
      "[LightGBM] [Warning] lambda_l2 is set=0.0104110642739638, reg_lambda=0.0 will be ignored. Current value: lambda_l2=0.0104110642739638\n"
     ]
    },
    {
     "name": "stderr",
     "output_type": "stream",
     "text": [
      " 13%|█▎        | 13/100 [00:30<03:24,  2.35s/it]"
     ]
    },
    {
     "name": "stdout",
     "output_type": "stream",
     "text": [
      "[LightGBM] [Warning] lambda_l1 is set=0.0101037077177569, reg_alpha=0.0 will be ignored. Current value: lambda_l1=0.0101037077177569\n",
      "[LightGBM] [Warning] bagging_fraction is set=0.8808570379580776, subsample=1.0 will be ignored. Current value: bagging_fraction=0.8808570379580776\n",
      "[LightGBM] [Warning] feature_fraction is set=0.8912915369733756, colsample_bytree=1.0 will be ignored. Current value: feature_fraction=0.8912915369733756\n",
      "[LightGBM] [Warning] lambda_l2 is set=0.0104110642739638, reg_lambda=0.0 will be ignored. Current value: lambda_l2=0.0104110642739638\n"
     ]
    },
    {
     "name": "stderr",
     "output_type": "stream",
     "text": [
      " 14%|█▍        | 14/100 [00:32<03:17,  2.30s/it]"
     ]
    },
    {
     "name": "stdout",
     "output_type": "stream",
     "text": [
      "[LightGBM] [Warning] lambda_l1 is set=0.0101037077177569, reg_alpha=0.0 will be ignored. Current value: lambda_l1=0.0101037077177569\n",
      "[LightGBM] [Warning] bagging_fraction is set=0.8808570379580776, subsample=1.0 will be ignored. Current value: bagging_fraction=0.8808570379580776\n",
      "[LightGBM] [Warning] feature_fraction is set=0.8912915369733756, colsample_bytree=1.0 will be ignored. Current value: feature_fraction=0.8912915369733756\n",
      "[LightGBM] [Warning] lambda_l2 is set=0.0104110642739638, reg_lambda=0.0 will be ignored. Current value: lambda_l2=0.0104110642739638\n"
     ]
    },
    {
     "name": "stderr",
     "output_type": "stream",
     "text": [
      " 15%|█▌        | 15/100 [00:34<03:07,  2.21s/it]"
     ]
    },
    {
     "name": "stdout",
     "output_type": "stream",
     "text": [
      "[LightGBM] [Warning] lambda_l1 is set=0.0101037077177569, reg_alpha=0.0 will be ignored. Current value: lambda_l1=0.0101037077177569\n",
      "[LightGBM] [Warning] bagging_fraction is set=0.8808570379580776, subsample=1.0 will be ignored. Current value: bagging_fraction=0.8808570379580776\n",
      "[LightGBM] [Warning] feature_fraction is set=0.8912915369733756, colsample_bytree=1.0 will be ignored. Current value: feature_fraction=0.8912915369733756\n",
      "[LightGBM] [Warning] lambda_l2 is set=0.0104110642739638, reg_lambda=0.0 will be ignored. Current value: lambda_l2=0.0104110642739638\n"
     ]
    },
    {
     "name": "stderr",
     "output_type": "stream",
     "text": [
      " 16%|█▌        | 16/100 [00:37<03:05,  2.21s/it]"
     ]
    },
    {
     "name": "stdout",
     "output_type": "stream",
     "text": [
      "[LightGBM] [Warning] lambda_l1 is set=0.0101037077177569, reg_alpha=0.0 will be ignored. Current value: lambda_l1=0.0101037077177569\n",
      "[LightGBM] [Warning] bagging_fraction is set=0.8808570379580776, subsample=1.0 will be ignored. Current value: bagging_fraction=0.8808570379580776\n",
      "[LightGBM] [Warning] feature_fraction is set=0.8912915369733756, colsample_bytree=1.0 will be ignored. Current value: feature_fraction=0.8912915369733756\n",
      "[LightGBM] [Warning] lambda_l2 is set=0.0104110642739638, reg_lambda=0.0 will be ignored. Current value: lambda_l2=0.0104110642739638\n"
     ]
    },
    {
     "name": "stderr",
     "output_type": "stream",
     "text": [
      " 17%|█▋        | 17/100 [00:38<02:56,  2.13s/it]"
     ]
    },
    {
     "name": "stdout",
     "output_type": "stream",
     "text": [
      "[LightGBM] [Warning] lambda_l1 is set=0.0101037077177569, reg_alpha=0.0 will be ignored. Current value: lambda_l1=0.0101037077177569\n",
      "[LightGBM] [Warning] bagging_fraction is set=0.8808570379580776, subsample=1.0 will be ignored. Current value: bagging_fraction=0.8808570379580776\n",
      "[LightGBM] [Warning] feature_fraction is set=0.8912915369733756, colsample_bytree=1.0 will be ignored. Current value: feature_fraction=0.8912915369733756\n",
      "[LightGBM] [Warning] lambda_l2 is set=0.0104110642739638, reg_lambda=0.0 will be ignored. Current value: lambda_l2=0.0104110642739638\n"
     ]
    },
    {
     "name": "stderr",
     "output_type": "stream",
     "text": [
      " 18%|█▊        | 18/100 [00:40<02:51,  2.09s/it]"
     ]
    },
    {
     "name": "stdout",
     "output_type": "stream",
     "text": [
      "[LightGBM] [Warning] lambda_l1 is set=0.0101037077177569, reg_alpha=0.0 will be ignored. Current value: lambda_l1=0.0101037077177569\n",
      "[LightGBM] [Warning] bagging_fraction is set=0.8808570379580776, subsample=1.0 will be ignored. Current value: bagging_fraction=0.8808570379580776\n",
      "[LightGBM] [Warning] feature_fraction is set=0.8912915369733756, colsample_bytree=1.0 will be ignored. Current value: feature_fraction=0.8912915369733756\n",
      "[LightGBM] [Warning] lambda_l2 is set=0.0104110642739638, reg_lambda=0.0 will be ignored. Current value: lambda_l2=0.0104110642739638\n"
     ]
    },
    {
     "name": "stderr",
     "output_type": "stream",
     "text": [
      " 19%|█▉        | 19/100 [00:42<02:47,  2.07s/it]"
     ]
    },
    {
     "name": "stdout",
     "output_type": "stream",
     "text": [
      "[LightGBM] [Warning] lambda_l1 is set=0.0101037077177569, reg_alpha=0.0 will be ignored. Current value: lambda_l1=0.0101037077177569\n",
      "[LightGBM] [Warning] bagging_fraction is set=0.8808570379580776, subsample=1.0 will be ignored. Current value: bagging_fraction=0.8808570379580776\n",
      "[LightGBM] [Warning] feature_fraction is set=0.8912915369733756, colsample_bytree=1.0 will be ignored. Current value: feature_fraction=0.8912915369733756\n",
      "[LightGBM] [Warning] lambda_l2 is set=0.0104110642739638, reg_lambda=0.0 will be ignored. Current value: lambda_l2=0.0104110642739638\n"
     ]
    },
    {
     "name": "stderr",
     "output_type": "stream",
     "text": [
      " 20%|██        | 20/100 [00:44<02:41,  2.02s/it]"
     ]
    },
    {
     "name": "stdout",
     "output_type": "stream",
     "text": [
      "[LightGBM] [Warning] lambda_l1 is set=0.0101037077177569, reg_alpha=0.0 will be ignored. Current value: lambda_l1=0.0101037077177569\n",
      "[LightGBM] [Warning] bagging_fraction is set=0.8808570379580776, subsample=1.0 will be ignored. Current value: bagging_fraction=0.8808570379580776\n",
      "[LightGBM] [Warning] feature_fraction is set=0.8912915369733756, colsample_bytree=1.0 will be ignored. Current value: feature_fraction=0.8912915369733756\n",
      "[LightGBM] [Warning] lambda_l2 is set=0.0104110642739638, reg_lambda=0.0 will be ignored. Current value: lambda_l2=0.0104110642739638\n"
     ]
    },
    {
     "name": "stderr",
     "output_type": "stream",
     "text": [
      " 21%|██        | 21/100 [00:46<02:39,  2.01s/it]"
     ]
    },
    {
     "name": "stdout",
     "output_type": "stream",
     "text": [
      "[LightGBM] [Warning] lambda_l1 is set=0.0101037077177569, reg_alpha=0.0 will be ignored. Current value: lambda_l1=0.0101037077177569\n",
      "[LightGBM] [Warning] bagging_fraction is set=0.8808570379580776, subsample=1.0 will be ignored. Current value: bagging_fraction=0.8808570379580776\n",
      "[LightGBM] [Warning] feature_fraction is set=0.8912915369733756, colsample_bytree=1.0 will be ignored. Current value: feature_fraction=0.8912915369733756\n",
      "[LightGBM] [Warning] lambda_l2 is set=0.0104110642739638, reg_lambda=0.0 will be ignored. Current value: lambda_l2=0.0104110642739638\n"
     ]
    },
    {
     "name": "stderr",
     "output_type": "stream",
     "text": [
      " 22%|██▏       | 22/100 [00:48<02:38,  2.04s/it]"
     ]
    },
    {
     "name": "stdout",
     "output_type": "stream",
     "text": [
      "[LightGBM] [Warning] lambda_l1 is set=0.0101037077177569, reg_alpha=0.0 will be ignored. Current value: lambda_l1=0.0101037077177569\n",
      "[LightGBM] [Warning] bagging_fraction is set=0.8808570379580776, subsample=1.0 will be ignored. Current value: bagging_fraction=0.8808570379580776\n",
      "[LightGBM] [Warning] feature_fraction is set=0.8912915369733756, colsample_bytree=1.0 will be ignored. Current value: feature_fraction=0.8912915369733756\n",
      "[LightGBM] [Warning] lambda_l2 is set=0.0104110642739638, reg_lambda=0.0 will be ignored. Current value: lambda_l2=0.0104110642739638\n"
     ]
    },
    {
     "name": "stderr",
     "output_type": "stream",
     "text": [
      " 23%|██▎       | 23/100 [00:51<02:37,  2.05s/it]"
     ]
    },
    {
     "name": "stdout",
     "output_type": "stream",
     "text": [
      "[LightGBM] [Warning] lambda_l1 is set=0.0101037077177569, reg_alpha=0.0 will be ignored. Current value: lambda_l1=0.0101037077177569\n",
      "[LightGBM] [Warning] bagging_fraction is set=0.8808570379580776, subsample=1.0 will be ignored. Current value: bagging_fraction=0.8808570379580776\n",
      "[LightGBM] [Warning] feature_fraction is set=0.8912915369733756, colsample_bytree=1.0 will be ignored. Current value: feature_fraction=0.8912915369733756\n",
      "[LightGBM] [Warning] lambda_l2 is set=0.0104110642739638, reg_lambda=0.0 will be ignored. Current value: lambda_l2=0.0104110642739638\n"
     ]
    },
    {
     "name": "stderr",
     "output_type": "stream",
     "text": [
      " 24%|██▍       | 24/100 [00:53<02:36,  2.06s/it]"
     ]
    },
    {
     "name": "stdout",
     "output_type": "stream",
     "text": [
      "[LightGBM] [Warning] lambda_l1 is set=0.0101037077177569, reg_alpha=0.0 will be ignored. Current value: lambda_l1=0.0101037077177569\n",
      "[LightGBM] [Warning] bagging_fraction is set=0.8808570379580776, subsample=1.0 will be ignored. Current value: bagging_fraction=0.8808570379580776\n",
      "[LightGBM] [Warning] feature_fraction is set=0.8912915369733756, colsample_bytree=1.0 will be ignored. Current value: feature_fraction=0.8912915369733756\n",
      "[LightGBM] [Warning] lambda_l2 is set=0.0104110642739638, reg_lambda=0.0 will be ignored. Current value: lambda_l2=0.0104110642739638\n"
     ]
    },
    {
     "name": "stderr",
     "output_type": "stream",
     "text": [
      " 25%|██▌       | 25/100 [00:55<02:38,  2.12s/it]"
     ]
    },
    {
     "name": "stdout",
     "output_type": "stream",
     "text": [
      "[LightGBM] [Warning] lambda_l1 is set=0.0101037077177569, reg_alpha=0.0 will be ignored. Current value: lambda_l1=0.0101037077177569\n",
      "[LightGBM] [Warning] bagging_fraction is set=0.8808570379580776, subsample=1.0 will be ignored. Current value: bagging_fraction=0.8808570379580776\n",
      "[LightGBM] [Warning] feature_fraction is set=0.8912915369733756, colsample_bytree=1.0 will be ignored. Current value: feature_fraction=0.8912915369733756\n",
      "[LightGBM] [Warning] lambda_l2 is set=0.0104110642739638, reg_lambda=0.0 will be ignored. Current value: lambda_l2=0.0104110642739638\n"
     ]
    },
    {
     "name": "stderr",
     "output_type": "stream",
     "text": [
      " 26%|██▌       | 26/100 [00:57<02:33,  2.08s/it]"
     ]
    },
    {
     "name": "stdout",
     "output_type": "stream",
     "text": [
      "[LightGBM] [Warning] lambda_l1 is set=0.0101037077177569, reg_alpha=0.0 will be ignored. Current value: lambda_l1=0.0101037077177569\n",
      "[LightGBM] [Warning] bagging_fraction is set=0.8808570379580776, subsample=1.0 will be ignored. Current value: bagging_fraction=0.8808570379580776\n",
      "[LightGBM] [Warning] feature_fraction is set=0.8912915369733756, colsample_bytree=1.0 will be ignored. Current value: feature_fraction=0.8912915369733756\n",
      "[LightGBM] [Warning] lambda_l2 is set=0.0104110642739638, reg_lambda=0.0 will be ignored. Current value: lambda_l2=0.0104110642739638\n"
     ]
    },
    {
     "name": "stderr",
     "output_type": "stream",
     "text": [
      " 27%|██▋       | 27/100 [00:59<02:35,  2.13s/it]"
     ]
    },
    {
     "name": "stdout",
     "output_type": "stream",
     "text": [
      "[LightGBM] [Warning] lambda_l1 is set=0.0101037077177569, reg_alpha=0.0 will be ignored. Current value: lambda_l1=0.0101037077177569\n",
      "[LightGBM] [Warning] bagging_fraction is set=0.8808570379580776, subsample=1.0 will be ignored. Current value: bagging_fraction=0.8808570379580776\n",
      "[LightGBM] [Warning] feature_fraction is set=0.8912915369733756, colsample_bytree=1.0 will be ignored. Current value: feature_fraction=0.8912915369733756\n",
      "[LightGBM] [Warning] lambda_l2 is set=0.0104110642739638, reg_lambda=0.0 will be ignored. Current value: lambda_l2=0.0104110642739638\n"
     ]
    },
    {
     "name": "stderr",
     "output_type": "stream",
     "text": [
      " 28%|██▊       | 28/100 [01:01<02:32,  2.11s/it]"
     ]
    },
    {
     "name": "stdout",
     "output_type": "stream",
     "text": [
      "[LightGBM] [Warning] lambda_l1 is set=0.0101037077177569, reg_alpha=0.0 will be ignored. Current value: lambda_l1=0.0101037077177569\n",
      "[LightGBM] [Warning] bagging_fraction is set=0.8808570379580776, subsample=1.0 will be ignored. Current value: bagging_fraction=0.8808570379580776\n",
      "[LightGBM] [Warning] feature_fraction is set=0.8912915369733756, colsample_bytree=1.0 will be ignored. Current value: feature_fraction=0.8912915369733756\n",
      "[LightGBM] [Warning] lambda_l2 is set=0.0104110642739638, reg_lambda=0.0 will be ignored. Current value: lambda_l2=0.0104110642739638\n"
     ]
    },
    {
     "name": "stderr",
     "output_type": "stream",
     "text": [
      " 29%|██▉       | 29/100 [01:03<02:29,  2.10s/it]"
     ]
    },
    {
     "name": "stdout",
     "output_type": "stream",
     "text": [
      "[LightGBM] [Warning] lambda_l1 is set=0.0101037077177569, reg_alpha=0.0 will be ignored. Current value: lambda_l1=0.0101037077177569\n",
      "[LightGBM] [Warning] bagging_fraction is set=0.8808570379580776, subsample=1.0 will be ignored. Current value: bagging_fraction=0.8808570379580776\n",
      "[LightGBM] [Warning] feature_fraction is set=0.8912915369733756, colsample_bytree=1.0 will be ignored. Current value: feature_fraction=0.8912915369733756\n",
      "[LightGBM] [Warning] lambda_l2 is set=0.0104110642739638, reg_lambda=0.0 will be ignored. Current value: lambda_l2=0.0104110642739638\n"
     ]
    },
    {
     "name": "stderr",
     "output_type": "stream",
     "text": [
      " 30%|███       | 30/100 [01:05<02:25,  2.07s/it]"
     ]
    },
    {
     "name": "stdout",
     "output_type": "stream",
     "text": [
      "[LightGBM] [Warning] lambda_l1 is set=0.0101037077177569, reg_alpha=0.0 will be ignored. Current value: lambda_l1=0.0101037077177569\n",
      "[LightGBM] [Warning] bagging_fraction is set=0.8808570379580776, subsample=1.0 will be ignored. Current value: bagging_fraction=0.8808570379580776\n",
      "[LightGBM] [Warning] feature_fraction is set=0.8912915369733756, colsample_bytree=1.0 will be ignored. Current value: feature_fraction=0.8912915369733756\n",
      "[LightGBM] [Warning] lambda_l2 is set=0.0104110642739638, reg_lambda=0.0 will be ignored. Current value: lambda_l2=0.0104110642739638\n"
     ]
    },
    {
     "name": "stderr",
     "output_type": "stream",
     "text": [
      " 31%|███       | 31/100 [01:08<02:27,  2.14s/it]"
     ]
    },
    {
     "name": "stdout",
     "output_type": "stream",
     "text": [
      "[LightGBM] [Warning] lambda_l1 is set=0.0101037077177569, reg_alpha=0.0 will be ignored. Current value: lambda_l1=0.0101037077177569\n",
      "[LightGBM] [Warning] bagging_fraction is set=0.8808570379580776, subsample=1.0 will be ignored. Current value: bagging_fraction=0.8808570379580776\n",
      "[LightGBM] [Warning] feature_fraction is set=0.8912915369733756, colsample_bytree=1.0 will be ignored. Current value: feature_fraction=0.8912915369733756\n",
      "[LightGBM] [Warning] lambda_l2 is set=0.0104110642739638, reg_lambda=0.0 will be ignored. Current value: lambda_l2=0.0104110642739638\n"
     ]
    },
    {
     "name": "stderr",
     "output_type": "stream",
     "text": [
      " 32%|███▏      | 32/100 [01:11<02:54,  2.56s/it]"
     ]
    },
    {
     "name": "stdout",
     "output_type": "stream",
     "text": [
      "[LightGBM] [Warning] lambda_l1 is set=0.0101037077177569, reg_alpha=0.0 will be ignored. Current value: lambda_l1=0.0101037077177569\n",
      "[LightGBM] [Warning] bagging_fraction is set=0.8808570379580776, subsample=1.0 will be ignored. Current value: bagging_fraction=0.8808570379580776\n",
      "[LightGBM] [Warning] feature_fraction is set=0.8912915369733756, colsample_bytree=1.0 will be ignored. Current value: feature_fraction=0.8912915369733756\n",
      "[LightGBM] [Warning] lambda_l2 is set=0.0104110642739638, reg_lambda=0.0 will be ignored. Current value: lambda_l2=0.0104110642739638\n"
     ]
    },
    {
     "name": "stderr",
     "output_type": "stream",
     "text": [
      " 33%|███▎      | 33/100 [01:13<02:39,  2.39s/it]"
     ]
    },
    {
     "name": "stdout",
     "output_type": "stream",
     "text": [
      "[LightGBM] [Warning] lambda_l1 is set=0.0101037077177569, reg_alpha=0.0 will be ignored. Current value: lambda_l1=0.0101037077177569\n",
      "[LightGBM] [Warning] bagging_fraction is set=0.8808570379580776, subsample=1.0 will be ignored. Current value: bagging_fraction=0.8808570379580776\n",
      "[LightGBM] [Warning] feature_fraction is set=0.8912915369733756, colsample_bytree=1.0 will be ignored. Current value: feature_fraction=0.8912915369733756\n",
      "[LightGBM] [Warning] lambda_l2 is set=0.0104110642739638, reg_lambda=0.0 will be ignored. Current value: lambda_l2=0.0104110642739638\n"
     ]
    },
    {
     "name": "stderr",
     "output_type": "stream",
     "text": [
      " 34%|███▍      | 34/100 [01:15<02:28,  2.25s/it]"
     ]
    },
    {
     "name": "stdout",
     "output_type": "stream",
     "text": [
      "[LightGBM] [Warning] lambda_l1 is set=0.0101037077177569, reg_alpha=0.0 will be ignored. Current value: lambda_l1=0.0101037077177569\n",
      "[LightGBM] [Warning] bagging_fraction is set=0.8808570379580776, subsample=1.0 will be ignored. Current value: bagging_fraction=0.8808570379580776\n",
      "[LightGBM] [Warning] feature_fraction is set=0.8912915369733756, colsample_bytree=1.0 will be ignored. Current value: feature_fraction=0.8912915369733756\n",
      "[LightGBM] [Warning] lambda_l2 is set=0.0104110642739638, reg_lambda=0.0 will be ignored. Current value: lambda_l2=0.0104110642739638\n"
     ]
    },
    {
     "name": "stderr",
     "output_type": "stream",
     "text": [
      " 35%|███▌      | 35/100 [01:17<02:23,  2.20s/it]"
     ]
    },
    {
     "name": "stdout",
     "output_type": "stream",
     "text": [
      "[LightGBM] [Warning] lambda_l1 is set=0.0101037077177569, reg_alpha=0.0 will be ignored. Current value: lambda_l1=0.0101037077177569\n",
      "[LightGBM] [Warning] bagging_fraction is set=0.8808570379580776, subsample=1.0 will be ignored. Current value: bagging_fraction=0.8808570379580776\n",
      "[LightGBM] [Warning] feature_fraction is set=0.8912915369733756, colsample_bytree=1.0 will be ignored. Current value: feature_fraction=0.8912915369733756\n",
      "[LightGBM] [Warning] lambda_l2 is set=0.0104110642739638, reg_lambda=0.0 will be ignored. Current value: lambda_l2=0.0104110642739638\n"
     ]
    },
    {
     "name": "stderr",
     "output_type": "stream",
     "text": [
      " 36%|███▌      | 36/100 [01:19<02:16,  2.14s/it]"
     ]
    },
    {
     "name": "stdout",
     "output_type": "stream",
     "text": [
      "[LightGBM] [Warning] lambda_l1 is set=0.0101037077177569, reg_alpha=0.0 will be ignored. Current value: lambda_l1=0.0101037077177569\n",
      "[LightGBM] [Warning] bagging_fraction is set=0.8808570379580776, subsample=1.0 will be ignored. Current value: bagging_fraction=0.8808570379580776\n",
      "[LightGBM] [Warning] feature_fraction is set=0.8912915369733756, colsample_bytree=1.0 will be ignored. Current value: feature_fraction=0.8912915369733756\n",
      "[LightGBM] [Warning] lambda_l2 is set=0.0104110642739638, reg_lambda=0.0 will be ignored. Current value: lambda_l2=0.0104110642739638\n"
     ]
    },
    {
     "name": "stderr",
     "output_type": "stream",
     "text": [
      " 37%|███▋      | 37/100 [01:21<02:13,  2.12s/it]"
     ]
    },
    {
     "name": "stdout",
     "output_type": "stream",
     "text": [
      "[LightGBM] [Warning] lambda_l1 is set=0.0101037077177569, reg_alpha=0.0 will be ignored. Current value: lambda_l1=0.0101037077177569\n",
      "[LightGBM] [Warning] bagging_fraction is set=0.8808570379580776, subsample=1.0 will be ignored. Current value: bagging_fraction=0.8808570379580776\n",
      "[LightGBM] [Warning] feature_fraction is set=0.8912915369733756, colsample_bytree=1.0 will be ignored. Current value: feature_fraction=0.8912915369733756\n",
      "[LightGBM] [Warning] lambda_l2 is set=0.0104110642739638, reg_lambda=0.0 will be ignored. Current value: lambda_l2=0.0104110642739638\n"
     ]
    },
    {
     "name": "stderr",
     "output_type": "stream",
     "text": [
      " 38%|███▊      | 38/100 [01:24<02:31,  2.44s/it]"
     ]
    },
    {
     "name": "stdout",
     "output_type": "stream",
     "text": [
      "[LightGBM] [Warning] lambda_l1 is set=0.0101037077177569, reg_alpha=0.0 will be ignored. Current value: lambda_l1=0.0101037077177569\n",
      "[LightGBM] [Warning] bagging_fraction is set=0.8808570379580776, subsample=1.0 will be ignored. Current value: bagging_fraction=0.8808570379580776\n",
      "[LightGBM] [Warning] feature_fraction is set=0.8912915369733756, colsample_bytree=1.0 will be ignored. Current value: feature_fraction=0.8912915369733756\n",
      "[LightGBM] [Warning] lambda_l2 is set=0.0104110642739638, reg_lambda=0.0 will be ignored. Current value: lambda_l2=0.0104110642739638\n"
     ]
    },
    {
     "name": "stderr",
     "output_type": "stream",
     "text": [
      " 39%|███▉      | 39/100 [01:29<03:12,  3.16s/it]"
     ]
    },
    {
     "name": "stdout",
     "output_type": "stream",
     "text": [
      "[LightGBM] [Warning] lambda_l1 is set=0.0101037077177569, reg_alpha=0.0 will be ignored. Current value: lambda_l1=0.0101037077177569\n",
      "[LightGBM] [Warning] bagging_fraction is set=0.8808570379580776, subsample=1.0 will be ignored. Current value: bagging_fraction=0.8808570379580776\n",
      "[LightGBM] [Warning] feature_fraction is set=0.8912915369733756, colsample_bytree=1.0 will be ignored. Current value: feature_fraction=0.8912915369733756\n",
      "[LightGBM] [Warning] lambda_l2 is set=0.0104110642739638, reg_lambda=0.0 will be ignored. Current value: lambda_l2=0.0104110642739638\n"
     ]
    },
    {
     "name": "stderr",
     "output_type": "stream",
     "text": [
      " 40%|████      | 40/100 [01:33<03:28,  3.48s/it]"
     ]
    },
    {
     "name": "stdout",
     "output_type": "stream",
     "text": [
      "[LightGBM] [Warning] lambda_l1 is set=0.0101037077177569, reg_alpha=0.0 will be ignored. Current value: lambda_l1=0.0101037077177569\n",
      "[LightGBM] [Warning] bagging_fraction is set=0.8808570379580776, subsample=1.0 will be ignored. Current value: bagging_fraction=0.8808570379580776\n",
      "[LightGBM] [Warning] feature_fraction is set=0.8912915369733756, colsample_bytree=1.0 will be ignored. Current value: feature_fraction=0.8912915369733756\n",
      "[LightGBM] [Warning] lambda_l2 is set=0.0104110642739638, reg_lambda=0.0 will be ignored. Current value: lambda_l2=0.0104110642739638\n"
     ]
    },
    {
     "name": "stderr",
     "output_type": "stream",
     "text": [
      " 41%|████      | 41/100 [01:38<03:52,  3.95s/it]"
     ]
    },
    {
     "name": "stdout",
     "output_type": "stream",
     "text": [
      "[LightGBM] [Warning] lambda_l1 is set=0.0101037077177569, reg_alpha=0.0 will be ignored. Current value: lambda_l1=0.0101037077177569\n",
      "[LightGBM] [Warning] bagging_fraction is set=0.8808570379580776, subsample=1.0 will be ignored. Current value: bagging_fraction=0.8808570379580776\n",
      "[LightGBM] [Warning] feature_fraction is set=0.8912915369733756, colsample_bytree=1.0 will be ignored. Current value: feature_fraction=0.8912915369733756\n",
      "[LightGBM] [Warning] lambda_l2 is set=0.0104110642739638, reg_lambda=0.0 will be ignored. Current value: lambda_l2=0.0104110642739638\n"
     ]
    },
    {
     "name": "stderr",
     "output_type": "stream",
     "text": [
      " 42%|████▏     | 42/100 [01:43<04:06,  4.25s/it]"
     ]
    },
    {
     "name": "stdout",
     "output_type": "stream",
     "text": [
      "[LightGBM] [Warning] lambda_l1 is set=0.0101037077177569, reg_alpha=0.0 will be ignored. Current value: lambda_l1=0.0101037077177569\n",
      "[LightGBM] [Warning] bagging_fraction is set=0.8808570379580776, subsample=1.0 will be ignored. Current value: bagging_fraction=0.8808570379580776\n",
      "[LightGBM] [Warning] feature_fraction is set=0.8912915369733756, colsample_bytree=1.0 will be ignored. Current value: feature_fraction=0.8912915369733756\n",
      "[LightGBM] [Warning] lambda_l2 is set=0.0104110642739638, reg_lambda=0.0 will be ignored. Current value: lambda_l2=0.0104110642739638\n"
     ]
    },
    {
     "name": "stderr",
     "output_type": "stream",
     "text": [
      " 43%|████▎     | 43/100 [01:45<03:23,  3.57s/it]"
     ]
    },
    {
     "name": "stdout",
     "output_type": "stream",
     "text": [
      "[LightGBM] [Warning] lambda_l1 is set=0.0101037077177569, reg_alpha=0.0 will be ignored. Current value: lambda_l1=0.0101037077177569\n",
      "[LightGBM] [Warning] bagging_fraction is set=0.8808570379580776, subsample=1.0 will be ignored. Current value: bagging_fraction=0.8808570379580776\n",
      "[LightGBM] [Warning] feature_fraction is set=0.8912915369733756, colsample_bytree=1.0 will be ignored. Current value: feature_fraction=0.8912915369733756\n",
      "[LightGBM] [Warning] lambda_l2 is set=0.0104110642739638, reg_lambda=0.0 will be ignored. Current value: lambda_l2=0.0104110642739638\n"
     ]
    },
    {
     "name": "stderr",
     "output_type": "stream",
     "text": [
      " 44%|████▍     | 44/100 [01:48<02:57,  3.17s/it]"
     ]
    },
    {
     "name": "stdout",
     "output_type": "stream",
     "text": [
      "[LightGBM] [Warning] lambda_l1 is set=0.0101037077177569, reg_alpha=0.0 will be ignored. Current value: lambda_l1=0.0101037077177569\n",
      "[LightGBM] [Warning] bagging_fraction is set=0.8808570379580776, subsample=1.0 will be ignored. Current value: bagging_fraction=0.8808570379580776\n",
      "[LightGBM] [Warning] feature_fraction is set=0.8912915369733756, colsample_bytree=1.0 will be ignored. Current value: feature_fraction=0.8912915369733756\n",
      "[LightGBM] [Warning] lambda_l2 is set=0.0104110642739638, reg_lambda=0.0 will be ignored. Current value: lambda_l2=0.0104110642739638\n"
     ]
    },
    {
     "name": "stderr",
     "output_type": "stream",
     "text": [
      " 45%|████▌     | 45/100 [01:50<02:33,  2.80s/it]"
     ]
    },
    {
     "name": "stdout",
     "output_type": "stream",
     "text": [
      "[LightGBM] [Warning] lambda_l1 is set=0.0101037077177569, reg_alpha=0.0 will be ignored. Current value: lambda_l1=0.0101037077177569\n",
      "[LightGBM] [Warning] bagging_fraction is set=0.8808570379580776, subsample=1.0 will be ignored. Current value: bagging_fraction=0.8808570379580776\n",
      "[LightGBM] [Warning] feature_fraction is set=0.8912915369733756, colsample_bytree=1.0 will be ignored. Current value: feature_fraction=0.8912915369733756\n",
      "[LightGBM] [Warning] lambda_l2 is set=0.0104110642739638, reg_lambda=0.0 will be ignored. Current value: lambda_l2=0.0104110642739638\n"
     ]
    },
    {
     "name": "stderr",
     "output_type": "stream",
     "text": [
      " 46%|████▌     | 46/100 [01:52<02:19,  2.58s/it]"
     ]
    },
    {
     "name": "stdout",
     "output_type": "stream",
     "text": [
      "[LightGBM] [Warning] lambda_l1 is set=0.0101037077177569, reg_alpha=0.0 will be ignored. Current value: lambda_l1=0.0101037077177569\n",
      "[LightGBM] [Warning] bagging_fraction is set=0.8808570379580776, subsample=1.0 will be ignored. Current value: bagging_fraction=0.8808570379580776\n",
      "[LightGBM] [Warning] feature_fraction is set=0.8912915369733756, colsample_bytree=1.0 will be ignored. Current value: feature_fraction=0.8912915369733756\n",
      "[LightGBM] [Warning] lambda_l2 is set=0.0104110642739638, reg_lambda=0.0 will be ignored. Current value: lambda_l2=0.0104110642739638\n"
     ]
    },
    {
     "name": "stderr",
     "output_type": "stream",
     "text": [
      " 47%|████▋     | 47/100 [01:54<02:08,  2.43s/it]"
     ]
    },
    {
     "name": "stdout",
     "output_type": "stream",
     "text": [
      "[LightGBM] [Warning] lambda_l1 is set=0.0101037077177569, reg_alpha=0.0 will be ignored. Current value: lambda_l1=0.0101037077177569\n",
      "[LightGBM] [Warning] bagging_fraction is set=0.8808570379580776, subsample=1.0 will be ignored. Current value: bagging_fraction=0.8808570379580776\n",
      "[LightGBM] [Warning] feature_fraction is set=0.8912915369733756, colsample_bytree=1.0 will be ignored. Current value: feature_fraction=0.8912915369733756\n",
      "[LightGBM] [Warning] lambda_l2 is set=0.0104110642739638, reg_lambda=0.0 will be ignored. Current value: lambda_l2=0.0104110642739638\n"
     ]
    },
    {
     "name": "stderr",
     "output_type": "stream",
     "text": [
      " 48%|████▊     | 48/100 [01:56<01:57,  2.26s/it]"
     ]
    },
    {
     "name": "stdout",
     "output_type": "stream",
     "text": [
      "[LightGBM] [Warning] lambda_l1 is set=0.0101037077177569, reg_alpha=0.0 will be ignored. Current value: lambda_l1=0.0101037077177569\n",
      "[LightGBM] [Warning] bagging_fraction is set=0.8808570379580776, subsample=1.0 will be ignored. Current value: bagging_fraction=0.8808570379580776\n",
      "[LightGBM] [Warning] feature_fraction is set=0.8912915369733756, colsample_bytree=1.0 will be ignored. Current value: feature_fraction=0.8912915369733756\n",
      "[LightGBM] [Warning] lambda_l2 is set=0.0104110642739638, reg_lambda=0.0 will be ignored. Current value: lambda_l2=0.0104110642739638\n"
     ]
    },
    {
     "name": "stderr",
     "output_type": "stream",
     "text": [
      " 49%|████▉     | 49/100 [01:58<01:52,  2.20s/it]"
     ]
    },
    {
     "name": "stdout",
     "output_type": "stream",
     "text": [
      "[LightGBM] [Warning] lambda_l1 is set=0.0101037077177569, reg_alpha=0.0 will be ignored. Current value: lambda_l1=0.0101037077177569\n",
      "[LightGBM] [Warning] bagging_fraction is set=0.8808570379580776, subsample=1.0 will be ignored. Current value: bagging_fraction=0.8808570379580776\n",
      "[LightGBM] [Warning] feature_fraction is set=0.8912915369733756, colsample_bytree=1.0 will be ignored. Current value: feature_fraction=0.8912915369733756\n",
      "[LightGBM] [Warning] lambda_l2 is set=0.0104110642739638, reg_lambda=0.0 will be ignored. Current value: lambda_l2=0.0104110642739638\n"
     ]
    },
    {
     "name": "stderr",
     "output_type": "stream",
     "text": [
      " 50%|█████     | 50/100 [02:00<01:46,  2.12s/it]"
     ]
    },
    {
     "name": "stdout",
     "output_type": "stream",
     "text": [
      "[LightGBM] [Warning] lambda_l1 is set=0.0101037077177569, reg_alpha=0.0 will be ignored. Current value: lambda_l1=0.0101037077177569\n",
      "[LightGBM] [Warning] bagging_fraction is set=0.8808570379580776, subsample=1.0 will be ignored. Current value: bagging_fraction=0.8808570379580776\n",
      "[LightGBM] [Warning] feature_fraction is set=0.8912915369733756, colsample_bytree=1.0 will be ignored. Current value: feature_fraction=0.8912915369733756\n",
      "[LightGBM] [Warning] lambda_l2 is set=0.0104110642739638, reg_lambda=0.0 will be ignored. Current value: lambda_l2=0.0104110642739638\n"
     ]
    },
    {
     "name": "stderr",
     "output_type": "stream",
     "text": [
      " 51%|█████     | 51/100 [02:02<01:44,  2.13s/it]"
     ]
    },
    {
     "name": "stdout",
     "output_type": "stream",
     "text": [
      "[LightGBM] [Warning] lambda_l1 is set=0.0101037077177569, reg_alpha=0.0 will be ignored. Current value: lambda_l1=0.0101037077177569\n",
      "[LightGBM] [Warning] bagging_fraction is set=0.8808570379580776, subsample=1.0 will be ignored. Current value: bagging_fraction=0.8808570379580776\n",
      "[LightGBM] [Warning] feature_fraction is set=0.8912915369733756, colsample_bytree=1.0 will be ignored. Current value: feature_fraction=0.8912915369733756\n",
      "[LightGBM] [Warning] lambda_l2 is set=0.0104110642739638, reg_lambda=0.0 will be ignored. Current value: lambda_l2=0.0104110642739638\n"
     ]
    },
    {
     "name": "stderr",
     "output_type": "stream",
     "text": [
      " 52%|█████▏    | 52/100 [02:04<01:41,  2.12s/it]"
     ]
    },
    {
     "name": "stdout",
     "output_type": "stream",
     "text": [
      "[LightGBM] [Warning] lambda_l1 is set=0.0101037077177569, reg_alpha=0.0 will be ignored. Current value: lambda_l1=0.0101037077177569\n",
      "[LightGBM] [Warning] bagging_fraction is set=0.8808570379580776, subsample=1.0 will be ignored. Current value: bagging_fraction=0.8808570379580776\n",
      "[LightGBM] [Warning] feature_fraction is set=0.8912915369733756, colsample_bytree=1.0 will be ignored. Current value: feature_fraction=0.8912915369733756\n",
      "[LightGBM] [Warning] lambda_l2 is set=0.0104110642739638, reg_lambda=0.0 will be ignored. Current value: lambda_l2=0.0104110642739638\n"
     ]
    },
    {
     "name": "stderr",
     "output_type": "stream",
     "text": [
      " 53%|█████▎    | 53/100 [02:06<01:45,  2.24s/it]"
     ]
    },
    {
     "name": "stdout",
     "output_type": "stream",
     "text": [
      "[LightGBM] [Warning] lambda_l1 is set=0.0101037077177569, reg_alpha=0.0 will be ignored. Current value: lambda_l1=0.0101037077177569\n",
      "[LightGBM] [Warning] bagging_fraction is set=0.8808570379580776, subsample=1.0 will be ignored. Current value: bagging_fraction=0.8808570379580776\n",
      "[LightGBM] [Warning] feature_fraction is set=0.8912915369733756, colsample_bytree=1.0 will be ignored. Current value: feature_fraction=0.8912915369733756\n",
      "[LightGBM] [Warning] lambda_l2 is set=0.0104110642739638, reg_lambda=0.0 will be ignored. Current value: lambda_l2=0.0104110642739638\n"
     ]
    },
    {
     "name": "stderr",
     "output_type": "stream",
     "text": [
      " 54%|█████▍    | 54/100 [02:08<01:38,  2.15s/it]"
     ]
    },
    {
     "name": "stdout",
     "output_type": "stream",
     "text": [
      "[LightGBM] [Warning] lambda_l1 is set=0.0101037077177569, reg_alpha=0.0 will be ignored. Current value: lambda_l1=0.0101037077177569\n",
      "[LightGBM] [Warning] bagging_fraction is set=0.8808570379580776, subsample=1.0 will be ignored. Current value: bagging_fraction=0.8808570379580776\n",
      "[LightGBM] [Warning] feature_fraction is set=0.8912915369733756, colsample_bytree=1.0 will be ignored. Current value: feature_fraction=0.8912915369733756\n",
      "[LightGBM] [Warning] lambda_l2 is set=0.0104110642739638, reg_lambda=0.0 will be ignored. Current value: lambda_l2=0.0104110642739638\n"
     ]
    },
    {
     "name": "stderr",
     "output_type": "stream",
     "text": [
      " 55%|█████▌    | 55/100 [02:10<01:34,  2.10s/it]"
     ]
    },
    {
     "name": "stdout",
     "output_type": "stream",
     "text": [
      "[LightGBM] [Warning] lambda_l1 is set=0.0101037077177569, reg_alpha=0.0 will be ignored. Current value: lambda_l1=0.0101037077177569\n",
      "[LightGBM] [Warning] bagging_fraction is set=0.8808570379580776, subsample=1.0 will be ignored. Current value: bagging_fraction=0.8808570379580776\n",
      "[LightGBM] [Warning] feature_fraction is set=0.8912915369733756, colsample_bytree=1.0 will be ignored. Current value: feature_fraction=0.8912915369733756\n",
      "[LightGBM] [Warning] lambda_l2 is set=0.0104110642739638, reg_lambda=0.0 will be ignored. Current value: lambda_l2=0.0104110642739638\n"
     ]
    },
    {
     "name": "stderr",
     "output_type": "stream",
     "text": [
      " 56%|█████▌    | 56/100 [02:13<01:35,  2.17s/it]"
     ]
    },
    {
     "name": "stdout",
     "output_type": "stream",
     "text": [
      "[LightGBM] [Warning] lambda_l1 is set=0.0101037077177569, reg_alpha=0.0 will be ignored. Current value: lambda_l1=0.0101037077177569\n",
      "[LightGBM] [Warning] bagging_fraction is set=0.8808570379580776, subsample=1.0 will be ignored. Current value: bagging_fraction=0.8808570379580776\n",
      "[LightGBM] [Warning] feature_fraction is set=0.8912915369733756, colsample_bytree=1.0 will be ignored. Current value: feature_fraction=0.8912915369733756\n",
      "[LightGBM] [Warning] lambda_l2 is set=0.0104110642739638, reg_lambda=0.0 will be ignored. Current value: lambda_l2=0.0104110642739638\n"
     ]
    },
    {
     "name": "stderr",
     "output_type": "stream",
     "text": [
      " 57%|█████▋    | 57/100 [02:15<01:31,  2.14s/it]"
     ]
    },
    {
     "name": "stdout",
     "output_type": "stream",
     "text": [
      "[LightGBM] [Warning] lambda_l1 is set=0.0101037077177569, reg_alpha=0.0 will be ignored. Current value: lambda_l1=0.0101037077177569\n",
      "[LightGBM] [Warning] bagging_fraction is set=0.8808570379580776, subsample=1.0 will be ignored. Current value: bagging_fraction=0.8808570379580776\n",
      "[LightGBM] [Warning] feature_fraction is set=0.8912915369733756, colsample_bytree=1.0 will be ignored. Current value: feature_fraction=0.8912915369733756\n",
      "[LightGBM] [Warning] lambda_l2 is set=0.0104110642739638, reg_lambda=0.0 will be ignored. Current value: lambda_l2=0.0104110642739638\n"
     ]
    },
    {
     "name": "stderr",
     "output_type": "stream",
     "text": [
      " 58%|█████▊    | 58/100 [02:17<01:28,  2.10s/it]"
     ]
    },
    {
     "name": "stdout",
     "output_type": "stream",
     "text": [
      "[LightGBM] [Warning] lambda_l1 is set=0.0101037077177569, reg_alpha=0.0 will be ignored. Current value: lambda_l1=0.0101037077177569\n",
      "[LightGBM] [Warning] bagging_fraction is set=0.8808570379580776, subsample=1.0 will be ignored. Current value: bagging_fraction=0.8808570379580776\n",
      "[LightGBM] [Warning] feature_fraction is set=0.8912915369733756, colsample_bytree=1.0 will be ignored. Current value: feature_fraction=0.8912915369733756\n",
      "[LightGBM] [Warning] lambda_l2 is set=0.0104110642739638, reg_lambda=0.0 will be ignored. Current value: lambda_l2=0.0104110642739638\n"
     ]
    },
    {
     "name": "stderr",
     "output_type": "stream",
     "text": [
      " 59%|█████▉    | 59/100 [02:19<01:25,  2.09s/it]"
     ]
    },
    {
     "name": "stdout",
     "output_type": "stream",
     "text": [
      "[LightGBM] [Warning] lambda_l1 is set=0.0101037077177569, reg_alpha=0.0 will be ignored. Current value: lambda_l1=0.0101037077177569\n",
      "[LightGBM] [Warning] bagging_fraction is set=0.8808570379580776, subsample=1.0 will be ignored. Current value: bagging_fraction=0.8808570379580776\n",
      "[LightGBM] [Warning] feature_fraction is set=0.8912915369733756, colsample_bytree=1.0 will be ignored. Current value: feature_fraction=0.8912915369733756\n",
      "[LightGBM] [Warning] lambda_l2 is set=0.0104110642739638, reg_lambda=0.0 will be ignored. Current value: lambda_l2=0.0104110642739638\n"
     ]
    },
    {
     "name": "stderr",
     "output_type": "stream",
     "text": [
      " 60%|██████    | 60/100 [02:21<01:23,  2.09s/it]"
     ]
    },
    {
     "name": "stdout",
     "output_type": "stream",
     "text": [
      "[LightGBM] [Warning] lambda_l1 is set=0.0101037077177569, reg_alpha=0.0 will be ignored. Current value: lambda_l1=0.0101037077177569\n",
      "[LightGBM] [Warning] bagging_fraction is set=0.8808570379580776, subsample=1.0 will be ignored. Current value: bagging_fraction=0.8808570379580776\n",
      "[LightGBM] [Warning] feature_fraction is set=0.8912915369733756, colsample_bytree=1.0 will be ignored. Current value: feature_fraction=0.8912915369733756\n",
      "[LightGBM] [Warning] lambda_l2 is set=0.0104110642739638, reg_lambda=0.0 will be ignored. Current value: lambda_l2=0.0104110642739638\n"
     ]
    },
    {
     "name": "stderr",
     "output_type": "stream",
     "text": [
      " 61%|██████    | 61/100 [02:23<01:20,  2.06s/it]"
     ]
    },
    {
     "name": "stdout",
     "output_type": "stream",
     "text": [
      "[LightGBM] [Warning] lambda_l1 is set=0.0101037077177569, reg_alpha=0.0 will be ignored. Current value: lambda_l1=0.0101037077177569\n",
      "[LightGBM] [Warning] bagging_fraction is set=0.8808570379580776, subsample=1.0 will be ignored. Current value: bagging_fraction=0.8808570379580776\n",
      "[LightGBM] [Warning] feature_fraction is set=0.8912915369733756, colsample_bytree=1.0 will be ignored. Current value: feature_fraction=0.8912915369733756\n",
      "[LightGBM] [Warning] lambda_l2 is set=0.0104110642739638, reg_lambda=0.0 will be ignored. Current value: lambda_l2=0.0104110642739638\n"
     ]
    },
    {
     "name": "stderr",
     "output_type": "stream",
     "text": [
      " 62%|██████▏   | 62/100 [02:25<01:22,  2.16s/it]"
     ]
    },
    {
     "name": "stdout",
     "output_type": "stream",
     "text": [
      "[LightGBM] [Warning] lambda_l1 is set=0.0101037077177569, reg_alpha=0.0 will be ignored. Current value: lambda_l1=0.0101037077177569\n",
      "[LightGBM] [Warning] bagging_fraction is set=0.8808570379580776, subsample=1.0 will be ignored. Current value: bagging_fraction=0.8808570379580776\n",
      "[LightGBM] [Warning] feature_fraction is set=0.8912915369733756, colsample_bytree=1.0 will be ignored. Current value: feature_fraction=0.8912915369733756\n",
      "[LightGBM] [Warning] lambda_l2 is set=0.0104110642739638, reg_lambda=0.0 will be ignored. Current value: lambda_l2=0.0104110642739638\n"
     ]
    },
    {
     "name": "stderr",
     "output_type": "stream",
     "text": [
      " 63%|██████▎   | 63/100 [02:27<01:18,  2.12s/it]"
     ]
    },
    {
     "name": "stdout",
     "output_type": "stream",
     "text": [
      "[LightGBM] [Warning] lambda_l1 is set=0.0101037077177569, reg_alpha=0.0 will be ignored. Current value: lambda_l1=0.0101037077177569\n",
      "[LightGBM] [Warning] bagging_fraction is set=0.8808570379580776, subsample=1.0 will be ignored. Current value: bagging_fraction=0.8808570379580776\n",
      "[LightGBM] [Warning] feature_fraction is set=0.8912915369733756, colsample_bytree=1.0 will be ignored. Current value: feature_fraction=0.8912915369733756\n",
      "[LightGBM] [Warning] lambda_l2 is set=0.0104110642739638, reg_lambda=0.0 will be ignored. Current value: lambda_l2=0.0104110642739638\n"
     ]
    },
    {
     "name": "stderr",
     "output_type": "stream",
     "text": [
      " 64%|██████▍   | 64/100 [02:29<01:17,  2.15s/it]"
     ]
    },
    {
     "name": "stdout",
     "output_type": "stream",
     "text": [
      "[LightGBM] [Warning] lambda_l1 is set=0.0101037077177569, reg_alpha=0.0 will be ignored. Current value: lambda_l1=0.0101037077177569\n",
      "[LightGBM] [Warning] bagging_fraction is set=0.8808570379580776, subsample=1.0 will be ignored. Current value: bagging_fraction=0.8808570379580776\n",
      "[LightGBM] [Warning] feature_fraction is set=0.8912915369733756, colsample_bytree=1.0 will be ignored. Current value: feature_fraction=0.8912915369733756\n",
      "[LightGBM] [Warning] lambda_l2 is set=0.0104110642739638, reg_lambda=0.0 will be ignored. Current value: lambda_l2=0.0104110642739638\n"
     ]
    },
    {
     "name": "stderr",
     "output_type": "stream",
     "text": [
      " 65%|██████▌   | 65/100 [02:31<01:13,  2.09s/it]"
     ]
    },
    {
     "name": "stdout",
     "output_type": "stream",
     "text": [
      "[LightGBM] [Warning] lambda_l1 is set=0.0101037077177569, reg_alpha=0.0 will be ignored. Current value: lambda_l1=0.0101037077177569\n",
      "[LightGBM] [Warning] bagging_fraction is set=0.8808570379580776, subsample=1.0 will be ignored. Current value: bagging_fraction=0.8808570379580776\n",
      "[LightGBM] [Warning] feature_fraction is set=0.8912915369733756, colsample_bytree=1.0 will be ignored. Current value: feature_fraction=0.8912915369733756\n",
      "[LightGBM] [Warning] lambda_l2 is set=0.0104110642739638, reg_lambda=0.0 will be ignored. Current value: lambda_l2=0.0104110642739638\n"
     ]
    },
    {
     "name": "stderr",
     "output_type": "stream",
     "text": [
      " 66%|██████▌   | 66/100 [02:33<01:10,  2.06s/it]"
     ]
    },
    {
     "name": "stdout",
     "output_type": "stream",
     "text": [
      "[LightGBM] [Warning] lambda_l1 is set=0.0101037077177569, reg_alpha=0.0 will be ignored. Current value: lambda_l1=0.0101037077177569\n",
      "[LightGBM] [Warning] bagging_fraction is set=0.8808570379580776, subsample=1.0 will be ignored. Current value: bagging_fraction=0.8808570379580776\n",
      "[LightGBM] [Warning] feature_fraction is set=0.8912915369733756, colsample_bytree=1.0 will be ignored. Current value: feature_fraction=0.8912915369733756\n",
      "[LightGBM] [Warning] lambda_l2 is set=0.0104110642739638, reg_lambda=0.0 will be ignored. Current value: lambda_l2=0.0104110642739638\n"
     ]
    },
    {
     "name": "stderr",
     "output_type": "stream",
     "text": [
      " 67%|██████▋   | 67/100 [02:36<01:10,  2.14s/it]"
     ]
    },
    {
     "name": "stdout",
     "output_type": "stream",
     "text": [
      "[LightGBM] [Warning] lambda_l1 is set=0.0101037077177569, reg_alpha=0.0 will be ignored. Current value: lambda_l1=0.0101037077177569\n",
      "[LightGBM] [Warning] bagging_fraction is set=0.8808570379580776, subsample=1.0 will be ignored. Current value: bagging_fraction=0.8808570379580776\n",
      "[LightGBM] [Warning] feature_fraction is set=0.8912915369733756, colsample_bytree=1.0 will be ignored. Current value: feature_fraction=0.8912915369733756\n",
      "[LightGBM] [Warning] lambda_l2 is set=0.0104110642739638, reg_lambda=0.0 will be ignored. Current value: lambda_l2=0.0104110642739638\n"
     ]
    },
    {
     "name": "stderr",
     "output_type": "stream",
     "text": [
      " 68%|██████▊   | 68/100 [02:38<01:08,  2.14s/it]"
     ]
    },
    {
     "name": "stdout",
     "output_type": "stream",
     "text": [
      "[LightGBM] [Warning] lambda_l1 is set=0.0101037077177569, reg_alpha=0.0 will be ignored. Current value: lambda_l1=0.0101037077177569\n",
      "[LightGBM] [Warning] bagging_fraction is set=0.8808570379580776, subsample=1.0 will be ignored. Current value: bagging_fraction=0.8808570379580776\n",
      "[LightGBM] [Warning] feature_fraction is set=0.8912915369733756, colsample_bytree=1.0 will be ignored. Current value: feature_fraction=0.8912915369733756\n",
      "[LightGBM] [Warning] lambda_l2 is set=0.0104110642739638, reg_lambda=0.0 will be ignored. Current value: lambda_l2=0.0104110642739638\n"
     ]
    },
    {
     "name": "stderr",
     "output_type": "stream",
     "text": [
      " 69%|██████▉   | 69/100 [02:40<01:03,  2.05s/it]"
     ]
    },
    {
     "name": "stdout",
     "output_type": "stream",
     "text": [
      "[LightGBM] [Warning] lambda_l1 is set=0.0101037077177569, reg_alpha=0.0 will be ignored. Current value: lambda_l1=0.0101037077177569\n",
      "[LightGBM] [Warning] bagging_fraction is set=0.8808570379580776, subsample=1.0 will be ignored. Current value: bagging_fraction=0.8808570379580776\n",
      "[LightGBM] [Warning] feature_fraction is set=0.8912915369733756, colsample_bytree=1.0 will be ignored. Current value: feature_fraction=0.8912915369733756\n",
      "[LightGBM] [Warning] lambda_l2 is set=0.0104110642739638, reg_lambda=0.0 will be ignored. Current value: lambda_l2=0.0104110642739638\n"
     ]
    },
    {
     "name": "stderr",
     "output_type": "stream",
     "text": [
      " 70%|███████   | 70/100 [02:42<01:02,  2.08s/it]"
     ]
    },
    {
     "name": "stdout",
     "output_type": "stream",
     "text": [
      "[LightGBM] [Warning] lambda_l1 is set=0.0101037077177569, reg_alpha=0.0 will be ignored. Current value: lambda_l1=0.0101037077177569\n",
      "[LightGBM] [Warning] bagging_fraction is set=0.8808570379580776, subsample=1.0 will be ignored. Current value: bagging_fraction=0.8808570379580776\n",
      "[LightGBM] [Warning] feature_fraction is set=0.8912915369733756, colsample_bytree=1.0 will be ignored. Current value: feature_fraction=0.8912915369733756\n",
      "[LightGBM] [Warning] lambda_l2 is set=0.0104110642739638, reg_lambda=0.0 will be ignored. Current value: lambda_l2=0.0104110642739638\n"
     ]
    },
    {
     "name": "stderr",
     "output_type": "stream",
     "text": [
      " 71%|███████   | 71/100 [02:44<01:00,  2.09s/it]"
     ]
    },
    {
     "name": "stdout",
     "output_type": "stream",
     "text": [
      "[LightGBM] [Warning] lambda_l1 is set=0.0101037077177569, reg_alpha=0.0 will be ignored. Current value: lambda_l1=0.0101037077177569\n",
      "[LightGBM] [Warning] bagging_fraction is set=0.8808570379580776, subsample=1.0 will be ignored. Current value: bagging_fraction=0.8808570379580776\n",
      "[LightGBM] [Warning] feature_fraction is set=0.8912915369733756, colsample_bytree=1.0 will be ignored. Current value: feature_fraction=0.8912915369733756\n",
      "[LightGBM] [Warning] lambda_l2 is set=0.0104110642739638, reg_lambda=0.0 will be ignored. Current value: lambda_l2=0.0104110642739638\n"
     ]
    },
    {
     "name": "stderr",
     "output_type": "stream",
     "text": [
      " 72%|███████▏  | 72/100 [02:46<00:59,  2.13s/it]"
     ]
    },
    {
     "name": "stdout",
     "output_type": "stream",
     "text": [
      "[LightGBM] [Warning] lambda_l1 is set=0.0101037077177569, reg_alpha=0.0 will be ignored. Current value: lambda_l1=0.0101037077177569\n",
      "[LightGBM] [Warning] bagging_fraction is set=0.8808570379580776, subsample=1.0 will be ignored. Current value: bagging_fraction=0.8808570379580776\n",
      "[LightGBM] [Warning] feature_fraction is set=0.8912915369733756, colsample_bytree=1.0 will be ignored. Current value: feature_fraction=0.8912915369733756\n",
      "[LightGBM] [Warning] lambda_l2 is set=0.0104110642739638, reg_lambda=0.0 will be ignored. Current value: lambda_l2=0.0104110642739638\n"
     ]
    },
    {
     "name": "stderr",
     "output_type": "stream",
     "text": [
      " 73%|███████▎  | 73/100 [02:48<00:57,  2.14s/it]"
     ]
    },
    {
     "name": "stdout",
     "output_type": "stream",
     "text": [
      "[LightGBM] [Warning] lambda_l1 is set=0.0101037077177569, reg_alpha=0.0 will be ignored. Current value: lambda_l1=0.0101037077177569\n",
      "[LightGBM] [Warning] bagging_fraction is set=0.8808570379580776, subsample=1.0 will be ignored. Current value: bagging_fraction=0.8808570379580776\n",
      "[LightGBM] [Warning] feature_fraction is set=0.8912915369733756, colsample_bytree=1.0 will be ignored. Current value: feature_fraction=0.8912915369733756\n",
      "[LightGBM] [Warning] lambda_l2 is set=0.0104110642739638, reg_lambda=0.0 will be ignored. Current value: lambda_l2=0.0104110642739638\n"
     ]
    },
    {
     "name": "stderr",
     "output_type": "stream",
     "text": [
      " 74%|███████▍  | 74/100 [02:50<00:54,  2.10s/it]"
     ]
    },
    {
     "name": "stdout",
     "output_type": "stream",
     "text": [
      "[LightGBM] [Warning] lambda_l1 is set=0.0101037077177569, reg_alpha=0.0 will be ignored. Current value: lambda_l1=0.0101037077177569\n",
      "[LightGBM] [Warning] bagging_fraction is set=0.8808570379580776, subsample=1.0 will be ignored. Current value: bagging_fraction=0.8808570379580776\n",
      "[LightGBM] [Warning] feature_fraction is set=0.8912915369733756, colsample_bytree=1.0 will be ignored. Current value: feature_fraction=0.8912915369733756\n",
      "[LightGBM] [Warning] lambda_l2 is set=0.0104110642739638, reg_lambda=0.0 will be ignored. Current value: lambda_l2=0.0104110642739638\n"
     ]
    },
    {
     "name": "stderr",
     "output_type": "stream",
     "text": [
      " 75%|███████▌  | 75/100 [02:53<00:57,  2.31s/it]"
     ]
    },
    {
     "name": "stdout",
     "output_type": "stream",
     "text": [
      "[LightGBM] [Warning] lambda_l1 is set=0.0101037077177569, reg_alpha=0.0 will be ignored. Current value: lambda_l1=0.0101037077177569\n",
      "[LightGBM] [Warning] bagging_fraction is set=0.8808570379580776, subsample=1.0 will be ignored. Current value: bagging_fraction=0.8808570379580776\n",
      "[LightGBM] [Warning] feature_fraction is set=0.8912915369733756, colsample_bytree=1.0 will be ignored. Current value: feature_fraction=0.8912915369733756\n",
      "[LightGBM] [Warning] lambda_l2 is set=0.0104110642739638, reg_lambda=0.0 will be ignored. Current value: lambda_l2=0.0104110642739638\n"
     ]
    },
    {
     "name": "stderr",
     "output_type": "stream",
     "text": [
      " 76%|███████▌  | 76/100 [02:56<00:56,  2.34s/it]"
     ]
    },
    {
     "name": "stdout",
     "output_type": "stream",
     "text": [
      "[LightGBM] [Warning] lambda_l1 is set=0.0101037077177569, reg_alpha=0.0 will be ignored. Current value: lambda_l1=0.0101037077177569\n",
      "[LightGBM] [Warning] bagging_fraction is set=0.8808570379580776, subsample=1.0 will be ignored. Current value: bagging_fraction=0.8808570379580776\n",
      "[LightGBM] [Warning] feature_fraction is set=0.8912915369733756, colsample_bytree=1.0 will be ignored. Current value: feature_fraction=0.8912915369733756\n",
      "[LightGBM] [Warning] lambda_l2 is set=0.0104110642739638, reg_lambda=0.0 will be ignored. Current value: lambda_l2=0.0104110642739638\n"
     ]
    },
    {
     "name": "stderr",
     "output_type": "stream",
     "text": [
      " 77%|███████▋  | 77/100 [02:58<00:51,  2.26s/it]"
     ]
    },
    {
     "name": "stdout",
     "output_type": "stream",
     "text": [
      "[LightGBM] [Warning] lambda_l1 is set=0.0101037077177569, reg_alpha=0.0 will be ignored. Current value: lambda_l1=0.0101037077177569\n",
      "[LightGBM] [Warning] bagging_fraction is set=0.8808570379580776, subsample=1.0 will be ignored. Current value: bagging_fraction=0.8808570379580776\n",
      "[LightGBM] [Warning] feature_fraction is set=0.8912915369733756, colsample_bytree=1.0 will be ignored. Current value: feature_fraction=0.8912915369733756\n",
      "[LightGBM] [Warning] lambda_l2 is set=0.0104110642739638, reg_lambda=0.0 will be ignored. Current value: lambda_l2=0.0104110642739638\n"
     ]
    },
    {
     "name": "stderr",
     "output_type": "stream",
     "text": [
      " 78%|███████▊  | 78/100 [03:00<00:50,  2.28s/it]"
     ]
    },
    {
     "name": "stdout",
     "output_type": "stream",
     "text": [
      "[LightGBM] [Warning] lambda_l1 is set=0.0101037077177569, reg_alpha=0.0 will be ignored. Current value: lambda_l1=0.0101037077177569\n",
      "[LightGBM] [Warning] bagging_fraction is set=0.8808570379580776, subsample=1.0 will be ignored. Current value: bagging_fraction=0.8808570379580776\n",
      "[LightGBM] [Warning] feature_fraction is set=0.8912915369733756, colsample_bytree=1.0 will be ignored. Current value: feature_fraction=0.8912915369733756\n",
      "[LightGBM] [Warning] lambda_l2 is set=0.0104110642739638, reg_lambda=0.0 will be ignored. Current value: lambda_l2=0.0104110642739638\n"
     ]
    },
    {
     "name": "stderr",
     "output_type": "stream",
     "text": [
      " 79%|███████▉  | 79/100 [03:02<00:46,  2.22s/it]"
     ]
    },
    {
     "name": "stdout",
     "output_type": "stream",
     "text": [
      "[LightGBM] [Warning] lambda_l1 is set=0.0101037077177569, reg_alpha=0.0 will be ignored. Current value: lambda_l1=0.0101037077177569\n",
      "[LightGBM] [Warning] bagging_fraction is set=0.8808570379580776, subsample=1.0 will be ignored. Current value: bagging_fraction=0.8808570379580776\n",
      "[LightGBM] [Warning] feature_fraction is set=0.8912915369733756, colsample_bytree=1.0 will be ignored. Current value: feature_fraction=0.8912915369733756\n",
      "[LightGBM] [Warning] lambda_l2 is set=0.0104110642739638, reg_lambda=0.0 will be ignored. Current value: lambda_l2=0.0104110642739638\n"
     ]
    },
    {
     "name": "stderr",
     "output_type": "stream",
     "text": [
      " 80%|████████  | 80/100 [03:04<00:43,  2.18s/it]"
     ]
    },
    {
     "name": "stdout",
     "output_type": "stream",
     "text": [
      "[LightGBM] [Warning] lambda_l1 is set=0.0101037077177569, reg_alpha=0.0 will be ignored. Current value: lambda_l1=0.0101037077177569\n",
      "[LightGBM] [Warning] bagging_fraction is set=0.8808570379580776, subsample=1.0 will be ignored. Current value: bagging_fraction=0.8808570379580776\n",
      "[LightGBM] [Warning] feature_fraction is set=0.8912915369733756, colsample_bytree=1.0 will be ignored. Current value: feature_fraction=0.8912915369733756\n",
      "[LightGBM] [Warning] lambda_l2 is set=0.0104110642739638, reg_lambda=0.0 will be ignored. Current value: lambda_l2=0.0104110642739638\n"
     ]
    },
    {
     "name": "stderr",
     "output_type": "stream",
     "text": [
      " 81%|████████  | 81/100 [03:06<00:39,  2.10s/it]"
     ]
    },
    {
     "name": "stdout",
     "output_type": "stream",
     "text": [
      "[LightGBM] [Warning] lambda_l1 is set=0.0101037077177569, reg_alpha=0.0 will be ignored. Current value: lambda_l1=0.0101037077177569\n",
      "[LightGBM] [Warning] bagging_fraction is set=0.8808570379580776, subsample=1.0 will be ignored. Current value: bagging_fraction=0.8808570379580776\n",
      "[LightGBM] [Warning] feature_fraction is set=0.8912915369733756, colsample_bytree=1.0 will be ignored. Current value: feature_fraction=0.8912915369733756\n",
      "[LightGBM] [Warning] lambda_l2 is set=0.0104110642739638, reg_lambda=0.0 will be ignored. Current value: lambda_l2=0.0104110642739638\n"
     ]
    },
    {
     "name": "stderr",
     "output_type": "stream",
     "text": [
      " 82%|████████▏ | 82/100 [03:08<00:38,  2.12s/it]"
     ]
    },
    {
     "name": "stdout",
     "output_type": "stream",
     "text": [
      "[LightGBM] [Warning] lambda_l1 is set=0.0101037077177569, reg_alpha=0.0 will be ignored. Current value: lambda_l1=0.0101037077177569\n",
      "[LightGBM] [Warning] bagging_fraction is set=0.8808570379580776, subsample=1.0 will be ignored. Current value: bagging_fraction=0.8808570379580776\n",
      "[LightGBM] [Warning] feature_fraction is set=0.8912915369733756, colsample_bytree=1.0 will be ignored. Current value: feature_fraction=0.8912915369733756\n",
      "[LightGBM] [Warning] lambda_l2 is set=0.0104110642739638, reg_lambda=0.0 will be ignored. Current value: lambda_l2=0.0104110642739638\n"
     ]
    },
    {
     "name": "stderr",
     "output_type": "stream",
     "text": [
      " 83%|████████▎ | 83/100 [03:10<00:36,  2.13s/it]"
     ]
    },
    {
     "name": "stdout",
     "output_type": "stream",
     "text": [
      "[LightGBM] [Warning] lambda_l1 is set=0.0101037077177569, reg_alpha=0.0 will be ignored. Current value: lambda_l1=0.0101037077177569\n",
      "[LightGBM] [Warning] bagging_fraction is set=0.8808570379580776, subsample=1.0 will be ignored. Current value: bagging_fraction=0.8808570379580776\n",
      "[LightGBM] [Warning] feature_fraction is set=0.8912915369733756, colsample_bytree=1.0 will be ignored. Current value: feature_fraction=0.8912915369733756\n",
      "[LightGBM] [Warning] lambda_l2 is set=0.0104110642739638, reg_lambda=0.0 will be ignored. Current value: lambda_l2=0.0104110642739638\n"
     ]
    },
    {
     "name": "stderr",
     "output_type": "stream",
     "text": [
      " 84%|████████▍ | 84/100 [03:12<00:33,  2.11s/it]"
     ]
    },
    {
     "name": "stdout",
     "output_type": "stream",
     "text": [
      "[LightGBM] [Warning] lambda_l1 is set=0.0101037077177569, reg_alpha=0.0 will be ignored. Current value: lambda_l1=0.0101037077177569\n",
      "[LightGBM] [Warning] bagging_fraction is set=0.8808570379580776, subsample=1.0 will be ignored. Current value: bagging_fraction=0.8808570379580776\n",
      "[LightGBM] [Warning] feature_fraction is set=0.8912915369733756, colsample_bytree=1.0 will be ignored. Current value: feature_fraction=0.8912915369733756\n",
      "[LightGBM] [Warning] lambda_l2 is set=0.0104110642739638, reg_lambda=0.0 will be ignored. Current value: lambda_l2=0.0104110642739638\n"
     ]
    },
    {
     "name": "stderr",
     "output_type": "stream",
     "text": [
      " 85%|████████▌ | 85/100 [03:15<00:31,  2.12s/it]"
     ]
    },
    {
     "name": "stdout",
     "output_type": "stream",
     "text": [
      "[LightGBM] [Warning] lambda_l1 is set=0.0101037077177569, reg_alpha=0.0 will be ignored. Current value: lambda_l1=0.0101037077177569\n",
      "[LightGBM] [Warning] bagging_fraction is set=0.8808570379580776, subsample=1.0 will be ignored. Current value: bagging_fraction=0.8808570379580776\n",
      "[LightGBM] [Warning] feature_fraction is set=0.8912915369733756, colsample_bytree=1.0 will be ignored. Current value: feature_fraction=0.8912915369733756\n",
      "[LightGBM] [Warning] lambda_l2 is set=0.0104110642739638, reg_lambda=0.0 will be ignored. Current value: lambda_l2=0.0104110642739638\n"
     ]
    },
    {
     "name": "stderr",
     "output_type": "stream",
     "text": [
      " 86%|████████▌ | 86/100 [03:17<00:29,  2.09s/it]"
     ]
    },
    {
     "name": "stdout",
     "output_type": "stream",
     "text": [
      "[LightGBM] [Warning] lambda_l1 is set=0.0101037077177569, reg_alpha=0.0 will be ignored. Current value: lambda_l1=0.0101037077177569\n",
      "[LightGBM] [Warning] bagging_fraction is set=0.8808570379580776, subsample=1.0 will be ignored. Current value: bagging_fraction=0.8808570379580776\n",
      "[LightGBM] [Warning] feature_fraction is set=0.8912915369733756, colsample_bytree=1.0 will be ignored. Current value: feature_fraction=0.8912915369733756\n",
      "[LightGBM] [Warning] lambda_l2 is set=0.0104110642739638, reg_lambda=0.0 will be ignored. Current value: lambda_l2=0.0104110642739638\n"
     ]
    },
    {
     "name": "stderr",
     "output_type": "stream",
     "text": [
      " 87%|████████▋ | 87/100 [03:19<00:27,  2.11s/it]"
     ]
    },
    {
     "name": "stdout",
     "output_type": "stream",
     "text": [
      "[LightGBM] [Warning] lambda_l1 is set=0.0101037077177569, reg_alpha=0.0 will be ignored. Current value: lambda_l1=0.0101037077177569\n",
      "[LightGBM] [Warning] bagging_fraction is set=0.8808570379580776, subsample=1.0 will be ignored. Current value: bagging_fraction=0.8808570379580776\n",
      "[LightGBM] [Warning] feature_fraction is set=0.8912915369733756, colsample_bytree=1.0 will be ignored. Current value: feature_fraction=0.8912915369733756\n",
      "[LightGBM] [Warning] lambda_l2 is set=0.0104110642739638, reg_lambda=0.0 will be ignored. Current value: lambda_l2=0.0104110642739638\n"
     ]
    },
    {
     "name": "stderr",
     "output_type": "stream",
     "text": [
      " 88%|████████▊ | 88/100 [03:21<00:25,  2.12s/it]"
     ]
    },
    {
     "name": "stdout",
     "output_type": "stream",
     "text": [
      "[LightGBM] [Warning] lambda_l1 is set=0.0101037077177569, reg_alpha=0.0 will be ignored. Current value: lambda_l1=0.0101037077177569\n",
      "[LightGBM] [Warning] bagging_fraction is set=0.8808570379580776, subsample=1.0 will be ignored. Current value: bagging_fraction=0.8808570379580776\n",
      "[LightGBM] [Warning] feature_fraction is set=0.8912915369733756, colsample_bytree=1.0 will be ignored. Current value: feature_fraction=0.8912915369733756\n",
      "[LightGBM] [Warning] lambda_l2 is set=0.0104110642739638, reg_lambda=0.0 will be ignored. Current value: lambda_l2=0.0104110642739638\n"
     ]
    },
    {
     "name": "stderr",
     "output_type": "stream",
     "text": [
      " 89%|████████▉ | 89/100 [03:23<00:23,  2.11s/it]"
     ]
    },
    {
     "name": "stdout",
     "output_type": "stream",
     "text": [
      "[LightGBM] [Warning] lambda_l1 is set=0.0101037077177569, reg_alpha=0.0 will be ignored. Current value: lambda_l1=0.0101037077177569\n",
      "[LightGBM] [Warning] bagging_fraction is set=0.8808570379580776, subsample=1.0 will be ignored. Current value: bagging_fraction=0.8808570379580776\n",
      "[LightGBM] [Warning] feature_fraction is set=0.8912915369733756, colsample_bytree=1.0 will be ignored. Current value: feature_fraction=0.8912915369733756\n",
      "[LightGBM] [Warning] lambda_l2 is set=0.0104110642739638, reg_lambda=0.0 will be ignored. Current value: lambda_l2=0.0104110642739638\n"
     ]
    },
    {
     "name": "stderr",
     "output_type": "stream",
     "text": [
      " 90%|█████████ | 90/100 [03:25<00:20,  2.06s/it]"
     ]
    },
    {
     "name": "stdout",
     "output_type": "stream",
     "text": [
      "[LightGBM] [Warning] lambda_l1 is set=0.0101037077177569, reg_alpha=0.0 will be ignored. Current value: lambda_l1=0.0101037077177569\n",
      "[LightGBM] [Warning] bagging_fraction is set=0.8808570379580776, subsample=1.0 will be ignored. Current value: bagging_fraction=0.8808570379580776\n",
      "[LightGBM] [Warning] feature_fraction is set=0.8912915369733756, colsample_bytree=1.0 will be ignored. Current value: feature_fraction=0.8912915369733756\n",
      "[LightGBM] [Warning] lambda_l2 is set=0.0104110642739638, reg_lambda=0.0 will be ignored. Current value: lambda_l2=0.0104110642739638\n"
     ]
    },
    {
     "name": "stderr",
     "output_type": "stream",
     "text": [
      " 91%|█████████ | 91/100 [03:27<00:19,  2.11s/it]"
     ]
    },
    {
     "name": "stdout",
     "output_type": "stream",
     "text": [
      "[LightGBM] [Warning] lambda_l1 is set=0.0101037077177569, reg_alpha=0.0 will be ignored. Current value: lambda_l1=0.0101037077177569\n",
      "[LightGBM] [Warning] bagging_fraction is set=0.8808570379580776, subsample=1.0 will be ignored. Current value: bagging_fraction=0.8808570379580776\n",
      "[LightGBM] [Warning] feature_fraction is set=0.8912915369733756, colsample_bytree=1.0 will be ignored. Current value: feature_fraction=0.8912915369733756\n",
      "[LightGBM] [Warning] lambda_l2 is set=0.0104110642739638, reg_lambda=0.0 will be ignored. Current value: lambda_l2=0.0104110642739638\n"
     ]
    },
    {
     "name": "stderr",
     "output_type": "stream",
     "text": [
      " 92%|█████████▏| 92/100 [03:29<00:16,  2.10s/it]"
     ]
    },
    {
     "name": "stdout",
     "output_type": "stream",
     "text": [
      "[LightGBM] [Warning] lambda_l1 is set=0.0101037077177569, reg_alpha=0.0 will be ignored. Current value: lambda_l1=0.0101037077177569\n",
      "[LightGBM] [Warning] bagging_fraction is set=0.8808570379580776, subsample=1.0 will be ignored. Current value: bagging_fraction=0.8808570379580776\n",
      "[LightGBM] [Warning] feature_fraction is set=0.8912915369733756, colsample_bytree=1.0 will be ignored. Current value: feature_fraction=0.8912915369733756\n",
      "[LightGBM] [Warning] lambda_l2 is set=0.0104110642739638, reg_lambda=0.0 will be ignored. Current value: lambda_l2=0.0104110642739638\n"
     ]
    },
    {
     "name": "stderr",
     "output_type": "stream",
     "text": [
      " 93%|█████████▎| 93/100 [03:31<00:14,  2.10s/it]"
     ]
    },
    {
     "name": "stdout",
     "output_type": "stream",
     "text": [
      "[LightGBM] [Warning] lambda_l1 is set=0.0101037077177569, reg_alpha=0.0 will be ignored. Current value: lambda_l1=0.0101037077177569\n",
      "[LightGBM] [Warning] bagging_fraction is set=0.8808570379580776, subsample=1.0 will be ignored. Current value: bagging_fraction=0.8808570379580776\n",
      "[LightGBM] [Warning] feature_fraction is set=0.8912915369733756, colsample_bytree=1.0 will be ignored. Current value: feature_fraction=0.8912915369733756\n",
      "[LightGBM] [Warning] lambda_l2 is set=0.0104110642739638, reg_lambda=0.0 will be ignored. Current value: lambda_l2=0.0104110642739638\n"
     ]
    },
    {
     "name": "stderr",
     "output_type": "stream",
     "text": [
      " 94%|█████████▍| 94/100 [03:34<00:12,  2.16s/it]"
     ]
    },
    {
     "name": "stdout",
     "output_type": "stream",
     "text": [
      "[LightGBM] [Warning] lambda_l1 is set=0.0101037077177569, reg_alpha=0.0 will be ignored. Current value: lambda_l1=0.0101037077177569\n",
      "[LightGBM] [Warning] bagging_fraction is set=0.8808570379580776, subsample=1.0 will be ignored. Current value: bagging_fraction=0.8808570379580776\n",
      "[LightGBM] [Warning] feature_fraction is set=0.8912915369733756, colsample_bytree=1.0 will be ignored. Current value: feature_fraction=0.8912915369733756\n",
      "[LightGBM] [Warning] lambda_l2 is set=0.0104110642739638, reg_lambda=0.0 will be ignored. Current value: lambda_l2=0.0104110642739638\n"
     ]
    },
    {
     "name": "stderr",
     "output_type": "stream",
     "text": [
      " 95%|█████████▌| 95/100 [03:36<00:10,  2.18s/it]"
     ]
    },
    {
     "name": "stdout",
     "output_type": "stream",
     "text": [
      "[LightGBM] [Warning] lambda_l1 is set=0.0101037077177569, reg_alpha=0.0 will be ignored. Current value: lambda_l1=0.0101037077177569\n",
      "[LightGBM] [Warning] bagging_fraction is set=0.8808570379580776, subsample=1.0 will be ignored. Current value: bagging_fraction=0.8808570379580776\n",
      "[LightGBM] [Warning] feature_fraction is set=0.8912915369733756, colsample_bytree=1.0 will be ignored. Current value: feature_fraction=0.8912915369733756\n",
      "[LightGBM] [Warning] lambda_l2 is set=0.0104110642739638, reg_lambda=0.0 will be ignored. Current value: lambda_l2=0.0104110642739638\n"
     ]
    },
    {
     "name": "stderr",
     "output_type": "stream",
     "text": [
      " 96%|█████████▌| 96/100 [03:39<00:10,  2.51s/it]"
     ]
    },
    {
     "name": "stdout",
     "output_type": "stream",
     "text": [
      "[LightGBM] [Warning] lambda_l1 is set=0.0101037077177569, reg_alpha=0.0 will be ignored. Current value: lambda_l1=0.0101037077177569\n",
      "[LightGBM] [Warning] bagging_fraction is set=0.8808570379580776, subsample=1.0 will be ignored. Current value: bagging_fraction=0.8808570379580776\n",
      "[LightGBM] [Warning] feature_fraction is set=0.8912915369733756, colsample_bytree=1.0 will be ignored. Current value: feature_fraction=0.8912915369733756\n",
      "[LightGBM] [Warning] lambda_l2 is set=0.0104110642739638, reg_lambda=0.0 will be ignored. Current value: lambda_l2=0.0104110642739638\n"
     ]
    },
    {
     "name": "stderr",
     "output_type": "stream",
     "text": [
      " 97%|█████████▋| 97/100 [03:41<00:07,  2.36s/it]"
     ]
    },
    {
     "name": "stdout",
     "output_type": "stream",
     "text": [
      "[LightGBM] [Warning] lambda_l1 is set=0.0101037077177569, reg_alpha=0.0 will be ignored. Current value: lambda_l1=0.0101037077177569\n",
      "[LightGBM] [Warning] bagging_fraction is set=0.8808570379580776, subsample=1.0 will be ignored. Current value: bagging_fraction=0.8808570379580776\n",
      "[LightGBM] [Warning] feature_fraction is set=0.8912915369733756, colsample_bytree=1.0 will be ignored. Current value: feature_fraction=0.8912915369733756\n",
      "[LightGBM] [Warning] lambda_l2 is set=0.0104110642739638, reg_lambda=0.0 will be ignored. Current value: lambda_l2=0.0104110642739638\n"
     ]
    },
    {
     "name": "stderr",
     "output_type": "stream",
     "text": [
      " 98%|█████████▊| 98/100 [03:44<00:04,  2.37s/it]"
     ]
    },
    {
     "name": "stdout",
     "output_type": "stream",
     "text": [
      "[LightGBM] [Warning] lambda_l1 is set=0.0101037077177569, reg_alpha=0.0 will be ignored. Current value: lambda_l1=0.0101037077177569\n",
      "[LightGBM] [Warning] bagging_fraction is set=0.8808570379580776, subsample=1.0 will be ignored. Current value: bagging_fraction=0.8808570379580776\n",
      "[LightGBM] [Warning] feature_fraction is set=0.8912915369733756, colsample_bytree=1.0 will be ignored. Current value: feature_fraction=0.8912915369733756\n",
      "[LightGBM] [Warning] lambda_l2 is set=0.0104110642739638, reg_lambda=0.0 will be ignored. Current value: lambda_l2=0.0104110642739638\n"
     ]
    },
    {
     "name": "stderr",
     "output_type": "stream",
     "text": [
      " 99%|█████████▉| 99/100 [03:46<00:02,  2.33s/it]"
     ]
    },
    {
     "name": "stdout",
     "output_type": "stream",
     "text": [
      "[LightGBM] [Warning] lambda_l1 is set=0.0101037077177569, reg_alpha=0.0 will be ignored. Current value: lambda_l1=0.0101037077177569\n",
      "[LightGBM] [Warning] bagging_fraction is set=0.8808570379580776, subsample=1.0 will be ignored. Current value: bagging_fraction=0.8808570379580776\n",
      "[LightGBM] [Warning] feature_fraction is set=0.8912915369733756, colsample_bytree=1.0 will be ignored. Current value: feature_fraction=0.8912915369733756\n",
      "[LightGBM] [Warning] lambda_l2 is set=0.0104110642739638, reg_lambda=0.0 will be ignored. Current value: lambda_l2=0.0104110642739638\n"
     ]
    },
    {
     "name": "stderr",
     "output_type": "stream",
     "text": [
      "100%|██████████| 100/100 [03:48<00:00,  2.28s/it]\n",
      "100%|██████████| 100/100 [05:40<00:00,  3.40s/it]\n"
     ]
    },
    {
     "data": {
      "text/html": [
       "<div>\n",
       "<style scoped>\n",
       "    .dataframe tbody tr th:only-of-type {\n",
       "        vertical-align: middle;\n",
       "    }\n",
       "\n",
       "    .dataframe tbody tr th {\n",
       "        vertical-align: top;\n",
       "    }\n",
       "\n",
       "    .dataframe thead th {\n",
       "        text-align: right;\n",
       "    }\n",
       "</style>\n",
       "<table border=\"1\" class=\"dataframe\">\n",
       "  <thead>\n",
       "    <tr style=\"text-align: right;\">\n",
       "      <th></th>\n",
       "      <th>ID</th>\n",
       "      <th>Pred</th>\n",
       "    </tr>\n",
       "  </thead>\n",
       "  <tbody>\n",
       "    <tr>\n",
       "      <th>0</th>\n",
       "      <td>2023_1101_1102</td>\n",
       "      <td>0.000814</td>\n",
       "    </tr>\n",
       "    <tr>\n",
       "      <th>1</th>\n",
       "      <td>2023_1101_1103</td>\n",
       "      <td>0.000730</td>\n",
       "    </tr>\n",
       "    <tr>\n",
       "      <th>2</th>\n",
       "      <td>2023_1101_1104</td>\n",
       "      <td>0.000457</td>\n",
       "    </tr>\n",
       "    <tr>\n",
       "      <th>3</th>\n",
       "      <td>2023_1101_1105</td>\n",
       "      <td>0.000853</td>\n",
       "    </tr>\n",
       "    <tr>\n",
       "      <th>4</th>\n",
       "      <td>2023_1101_1106</td>\n",
       "      <td>0.999231</td>\n",
       "    </tr>\n",
       "  </tbody>\n",
       "</table>\n",
       "</div>"
      ],
      "text/plain": [
       "               ID      Pred\n",
       "0  2023_1101_1102  0.000814\n",
       "1  2023_1101_1103  0.000730\n",
       "2  2023_1101_1104  0.000457\n",
       "3  2023_1101_1105  0.000853\n",
       "4  2023_1101_1106  0.999231"
      ]
     },
     "execution_count": 10,
     "metadata": {},
     "output_type": "execute_result"
    }
   ],
   "source": [
    "to_select = ['X1_WinRatio14d',\n",
    "             'X1_PointsMean',\n",
    "             'X1_PointsMedian',\n",
    "             'X1_PointsDiffMean',\n",
    "             'X1_FgaMean',\n",
    "             'X1_FgaMedian',\n",
    "             'X1_FgaMin',\n",
    "             'X1_FgaMax',\n",
    "             'X1_AstMean',\n",
    "             'X1_BlkMean',\n",
    "             'X1_OppFgaMean',\n",
    "             'X1_OppFgaMin',\n",
    "             'X1_EfgpMean',\n",
    "             'X1_PossessionsMean',\n",
    "             'X1_PpmMean',\n",
    "             'X1_FtrMean',\n",
    "             'X1_TopMean',\n",
    "             'X1_DrebpMean',\n",
    "             'X2_WinRatio14d',\n",
    "             'X2_PointsMean',\n",
    "             'X2_PointsMedian',\n",
    "             'X2_PointsDiffMean',\n",
    "             'X2_FgaMean',\n",
    "             'X2_FgaMedian',\n",
    "             'X2_FgaMin',\n",
    "             'X2_FgaMax',\n",
    "             'X2_AstMean',\n",
    "             'X2_BlkMean',\n",
    "             'X2_OppFgaMean',\n",
    "             'X2_OppFgaMin',\n",
    "             'X2_EfgpMean',\n",
    "             'X2_PossessionsMean',\n",
    "             'X2_PpmMean',\n",
    "             'X2_FtrMean',\n",
    "             'X2_TopMean',\n",
    "             'X2_DrebpMean',\n",
    "             'ResultDiff']\n",
    "\n",
    "X = man_train[to_select]\n",
    "Y = man_train['target']\n",
    "\n",
    "man_test_other_ID = man_test_other['ID']\n",
    "man_test_other = man_test_other[to_select]\n",
    "\n",
    "#############\n",
    "## XGBoost ##\n",
    "#############\n",
    "\n",
    "xgb_params = pd.read_csv('man_XGB_Phase_2_Others_42_Optuna_Hyperparameters.csv')\n",
    "xgb_preds = list()\n",
    "\n",
    "for i in tqdm(range(100)):\n",
    "\n",
    "    xgb_md = XGBClassifier(tree_method = 'hist', \n",
    "                           max_depth = xgb_params['max_depth'][0],\n",
    "                           learning_rate = xgb_params['learning_rate'][0],\n",
    "                           n_estimators = xgb_params['n_estimators'][0],\n",
    "                           gamma = xgb_params['gamma'][0],\n",
    "                           min_child_weight = xgb_params['min_child_weight'][0],\n",
    "                           colsample_bytree = xgb_params['colsample_bytree'][0],\n",
    "                           subsample = xgb_params['subsample'][0],\n",
    "                           random_state = i).fit(X, Y)\n",
    "\n",
    "    xgb_pred = xgb_md.predict_proba(man_test_other)[:, 1]\n",
    "    xgb_preds.append(xgb_pred)\n",
    "\n",
    "##############\n",
    "## LightGBM ##\n",
    "##############\n",
    "\n",
    "lgb_params = pd.read_csv('man_LightGBM_Phase_2_Others_42_Optuna_Hyperparameters.csv')\n",
    "lgb_preds = list()\n",
    "\n",
    "for i in tqdm(range(50)):\n",
    "    \n",
    "    lgb_md = LGBMClassifier(boosting_type = 'gbdt', \n",
    "                            n_estimators = lgb_params['n_estimators'][0],\n",
    "                            learning_rate = lgb_params['learning_rate'][0],\n",
    "                            max_depth = lgb_params['max_depth'][0],\n",
    "                            lambda_l1 = lgb_params['lambda_l1'][0],\n",
    "                            lambda_l2 = lgb_params['lambda_l2'][0],\n",
    "                            num_leaves = lgb_params['num_leaves'][0],\n",
    "                            bagging_fraction = lgb_params['bagging_fraction'][0],\n",
    "                            feature_fraction = lgb_params['feature_fraction'][0],\n",
    "                            random_state = i).fit(X, Y)\n",
    "\n",
    "    lgb_pred = lgb_md.predict_proba(man_test_other)[:, 1]\n",
    "    lgb_preds.append(lgb_pred)\n",
    "\n",
    "##################\n",
    "## HistGradient ##\n",
    "##################\n",
    "\n",
    "hist_params = pd.read_csv('man_Hist_Phase_2_Others_42_Optuna_Hyperparameters.csv')\n",
    "hist_preds = list()\n",
    "\n",
    "for i in tqdm(range(50)):\n",
    "\n",
    "    hist_md = HistGradientBoostingClassifier(l2_regularization = hist_params['l2_regularization'][0],\n",
    "                                             early_stopping = False,\n",
    "                                             learning_rate = hist_params['learning_rate'][0],\n",
    "                                             max_iter = hist_params['max_iter'][0],\n",
    "                                             max_depth = hist_params['max_depth'][0],\n",
    "                                             max_bins = hist_params['max_bins'][0],\n",
    "                                             min_samples_leaf = hist_params['min_samples_leaf'][0],\n",
    "                                             max_leaf_nodes = hist_params['max_leaf_nodes'][0], \n",
    "                                             random_state = i).fit(X, Y)\n",
    "\n",
    "    hist_pred = hist_md.predict_proba(man_test_other)[:, 1]\n",
    "    hist_preds.append(hist_pred)\n",
    "\n",
    "##############\n",
    "## Ensemble ##\n",
    "##############\n",
    "\n",
    "xgb_pred = pd.DataFrame(xgb_preds).apply(np.mean, axis = 0)\n",
    "lgb_pred = pd.DataFrame(lgb_preds).apply(np.mean, axis = 0)\n",
    "hist_pred = pd.DataFrame(hist_preds).apply(np.mean, axis = 0)\n",
    "\n",
    "ens_pred = (xgb_pred + lgb_pred + hist_pred) / 3\n",
    "man_pred_other = pd.DataFrame({'ID': man_test_other_ID, 'Pred': ens_pred})\n",
    "man_pred_other.head()"
   ]
  },
  {
   "cell_type": "markdown",
   "id": "6a5999d7",
   "metadata": {},
   "source": [
    "## Phase 1: Woman"
   ]
  },
  {
   "cell_type": "code",
   "execution_count": 12,
   "id": "26031530",
   "metadata": {},
   "outputs": [
    {
     "name": "stderr",
     "output_type": "stream",
     "text": [
      "100%|██████████| 30/30 [03:18<00:00,  6.61s/it]\n",
      "  0%|          | 0/30 [00:00<?, ?it/s]"
     ]
    },
    {
     "name": "stdout",
     "output_type": "stream",
     "text": [
      "[LightGBM] [Warning] lambda_l1 is set=4.655160825904243, reg_alpha=0.0 will be ignored. Current value: lambda_l1=4.655160825904243\n",
      "[LightGBM] [Warning] bagging_fraction is set=0.6340177598805505, subsample=1.0 will be ignored. Current value: bagging_fraction=0.6340177598805505\n",
      "[LightGBM] [Warning] feature_fraction is set=0.6056599038672632, colsample_bytree=1.0 will be ignored. Current value: feature_fraction=0.6056599038672632\n",
      "[LightGBM] [Warning] lambda_l2 is set=0.0338137894715804, reg_lambda=0.0 will be ignored. Current value: lambda_l2=0.0338137894715804\n"
     ]
    },
    {
     "name": "stderr",
     "output_type": "stream",
     "text": [
      "  3%|▎         | 1/30 [00:09<04:28,  9.24s/it]"
     ]
    },
    {
     "name": "stdout",
     "output_type": "stream",
     "text": [
      "[LightGBM] [Warning] lambda_l1 is set=4.655160825904243, reg_alpha=0.0 will be ignored. Current value: lambda_l1=4.655160825904243\n",
      "[LightGBM] [Warning] bagging_fraction is set=0.6340177598805505, subsample=1.0 will be ignored. Current value: bagging_fraction=0.6340177598805505\n",
      "[LightGBM] [Warning] feature_fraction is set=0.6056599038672632, colsample_bytree=1.0 will be ignored. Current value: feature_fraction=0.6056599038672632\n",
      "[LightGBM] [Warning] lambda_l2 is set=0.0338137894715804, reg_lambda=0.0 will be ignored. Current value: lambda_l2=0.0338137894715804\n"
     ]
    },
    {
     "name": "stderr",
     "output_type": "stream",
     "text": [
      "  7%|▋         | 2/30 [00:24<05:56, 12.73s/it]"
     ]
    },
    {
     "name": "stdout",
     "output_type": "stream",
     "text": [
      "[LightGBM] [Warning] lambda_l1 is set=4.655160825904243, reg_alpha=0.0 will be ignored. Current value: lambda_l1=4.655160825904243\n",
      "[LightGBM] [Warning] bagging_fraction is set=0.6340177598805505, subsample=1.0 will be ignored. Current value: bagging_fraction=0.6340177598805505\n",
      "[LightGBM] [Warning] feature_fraction is set=0.6056599038672632, colsample_bytree=1.0 will be ignored. Current value: feature_fraction=0.6056599038672632\n",
      "[LightGBM] [Warning] lambda_l2 is set=0.0338137894715804, reg_lambda=0.0 will be ignored. Current value: lambda_l2=0.0338137894715804\n"
     ]
    },
    {
     "name": "stderr",
     "output_type": "stream",
     "text": [
      " 10%|█         | 3/30 [00:33<04:53, 10.86s/it]"
     ]
    },
    {
     "name": "stdout",
     "output_type": "stream",
     "text": [
      "[LightGBM] [Warning] lambda_l1 is set=4.655160825904243, reg_alpha=0.0 will be ignored. Current value: lambda_l1=4.655160825904243\n",
      "[LightGBM] [Warning] bagging_fraction is set=0.6340177598805505, subsample=1.0 will be ignored. Current value: bagging_fraction=0.6340177598805505\n",
      "[LightGBM] [Warning] feature_fraction is set=0.6056599038672632, colsample_bytree=1.0 will be ignored. Current value: feature_fraction=0.6056599038672632\n",
      "[LightGBM] [Warning] lambda_l2 is set=0.0338137894715804, reg_lambda=0.0 will be ignored. Current value: lambda_l2=0.0338137894715804\n"
     ]
    },
    {
     "name": "stderr",
     "output_type": "stream",
     "text": [
      " 13%|█▎        | 4/30 [00:41<04:17,  9.89s/it]"
     ]
    },
    {
     "name": "stdout",
     "output_type": "stream",
     "text": [
      "[LightGBM] [Warning] lambda_l1 is set=4.655160825904243, reg_alpha=0.0 will be ignored. Current value: lambda_l1=4.655160825904243\n",
      "[LightGBM] [Warning] bagging_fraction is set=0.6340177598805505, subsample=1.0 will be ignored. Current value: bagging_fraction=0.6340177598805505\n",
      "[LightGBM] [Warning] feature_fraction is set=0.6056599038672632, colsample_bytree=1.0 will be ignored. Current value: feature_fraction=0.6056599038672632\n",
      "[LightGBM] [Warning] lambda_l2 is set=0.0338137894715804, reg_lambda=0.0 will be ignored. Current value: lambda_l2=0.0338137894715804\n"
     ]
    },
    {
     "name": "stderr",
     "output_type": "stream",
     "text": [
      " 17%|█▋        | 5/30 [00:50<03:57,  9.50s/it]"
     ]
    },
    {
     "name": "stdout",
     "output_type": "stream",
     "text": [
      "[LightGBM] [Warning] lambda_l1 is set=4.655160825904243, reg_alpha=0.0 will be ignored. Current value: lambda_l1=4.655160825904243\n",
      "[LightGBM] [Warning] bagging_fraction is set=0.6340177598805505, subsample=1.0 will be ignored. Current value: bagging_fraction=0.6340177598805505\n",
      "[LightGBM] [Warning] feature_fraction is set=0.6056599038672632, colsample_bytree=1.0 will be ignored. Current value: feature_fraction=0.6056599038672632\n",
      "[LightGBM] [Warning] lambda_l2 is set=0.0338137894715804, reg_lambda=0.0 will be ignored. Current value: lambda_l2=0.0338137894715804\n"
     ]
    },
    {
     "name": "stderr",
     "output_type": "stream",
     "text": [
      " 20%|██        | 6/30 [00:58<03:39,  9.13s/it]"
     ]
    },
    {
     "name": "stdout",
     "output_type": "stream",
     "text": [
      "[LightGBM] [Warning] lambda_l1 is set=4.655160825904243, reg_alpha=0.0 will be ignored. Current value: lambda_l1=4.655160825904243\n",
      "[LightGBM] [Warning] bagging_fraction is set=0.6340177598805505, subsample=1.0 will be ignored. Current value: bagging_fraction=0.6340177598805505\n",
      "[LightGBM] [Warning] feature_fraction is set=0.6056599038672632, colsample_bytree=1.0 will be ignored. Current value: feature_fraction=0.6056599038672632\n",
      "[LightGBM] [Warning] lambda_l2 is set=0.0338137894715804, reg_lambda=0.0 will be ignored. Current value: lambda_l2=0.0338137894715804\n"
     ]
    },
    {
     "name": "stderr",
     "output_type": "stream",
     "text": [
      " 23%|██▎       | 7/30 [01:07<03:24,  8.91s/it]"
     ]
    },
    {
     "name": "stdout",
     "output_type": "stream",
     "text": [
      "[LightGBM] [Warning] lambda_l1 is set=4.655160825904243, reg_alpha=0.0 will be ignored. Current value: lambda_l1=4.655160825904243\n",
      "[LightGBM] [Warning] bagging_fraction is set=0.6340177598805505, subsample=1.0 will be ignored. Current value: bagging_fraction=0.6340177598805505\n",
      "[LightGBM] [Warning] feature_fraction is set=0.6056599038672632, colsample_bytree=1.0 will be ignored. Current value: feature_fraction=0.6056599038672632\n",
      "[LightGBM] [Warning] lambda_l2 is set=0.0338137894715804, reg_lambda=0.0 will be ignored. Current value: lambda_l2=0.0338137894715804\n"
     ]
    },
    {
     "name": "stderr",
     "output_type": "stream",
     "text": [
      " 27%|██▋       | 8/30 [01:15<03:10,  8.64s/it]"
     ]
    },
    {
     "name": "stdout",
     "output_type": "stream",
     "text": [
      "[LightGBM] [Warning] lambda_l1 is set=4.655160825904243, reg_alpha=0.0 will be ignored. Current value: lambda_l1=4.655160825904243\n",
      "[LightGBM] [Warning] bagging_fraction is set=0.6340177598805505, subsample=1.0 will be ignored. Current value: bagging_fraction=0.6340177598805505\n",
      "[LightGBM] [Warning] feature_fraction is set=0.6056599038672632, colsample_bytree=1.0 will be ignored. Current value: feature_fraction=0.6056599038672632\n",
      "[LightGBM] [Warning] lambda_l2 is set=0.0338137894715804, reg_lambda=0.0 will be ignored. Current value: lambda_l2=0.0338137894715804\n"
     ]
    },
    {
     "name": "stderr",
     "output_type": "stream",
     "text": [
      " 30%|███       | 9/30 [01:23<02:59,  8.57s/it]"
     ]
    },
    {
     "name": "stdout",
     "output_type": "stream",
     "text": [
      "[LightGBM] [Warning] lambda_l1 is set=4.655160825904243, reg_alpha=0.0 will be ignored. Current value: lambda_l1=4.655160825904243\n",
      "[LightGBM] [Warning] bagging_fraction is set=0.6340177598805505, subsample=1.0 will be ignored. Current value: bagging_fraction=0.6340177598805505\n",
      "[LightGBM] [Warning] feature_fraction is set=0.6056599038672632, colsample_bytree=1.0 will be ignored. Current value: feature_fraction=0.6056599038672632\n",
      "[LightGBM] [Warning] lambda_l2 is set=0.0338137894715804, reg_lambda=0.0 will be ignored. Current value: lambda_l2=0.0338137894715804\n"
     ]
    },
    {
     "name": "stderr",
     "output_type": "stream",
     "text": [
      " 33%|███▎      | 10/30 [01:31<02:48,  8.42s/it]"
     ]
    },
    {
     "name": "stdout",
     "output_type": "stream",
     "text": [
      "[LightGBM] [Warning] lambda_l1 is set=4.655160825904243, reg_alpha=0.0 will be ignored. Current value: lambda_l1=4.655160825904243\n",
      "[LightGBM] [Warning] bagging_fraction is set=0.6340177598805505, subsample=1.0 will be ignored. Current value: bagging_fraction=0.6340177598805505\n",
      "[LightGBM] [Warning] feature_fraction is set=0.6056599038672632, colsample_bytree=1.0 will be ignored. Current value: feature_fraction=0.6056599038672632\n",
      "[LightGBM] [Warning] lambda_l2 is set=0.0338137894715804, reg_lambda=0.0 will be ignored. Current value: lambda_l2=0.0338137894715804\n"
     ]
    },
    {
     "name": "stderr",
     "output_type": "stream",
     "text": [
      " 37%|███▋      | 11/30 [01:40<02:39,  8.41s/it]"
     ]
    },
    {
     "name": "stdout",
     "output_type": "stream",
     "text": [
      "[LightGBM] [Warning] lambda_l1 is set=4.655160825904243, reg_alpha=0.0 will be ignored. Current value: lambda_l1=4.655160825904243\n",
      "[LightGBM] [Warning] bagging_fraction is set=0.6340177598805505, subsample=1.0 will be ignored. Current value: bagging_fraction=0.6340177598805505\n",
      "[LightGBM] [Warning] feature_fraction is set=0.6056599038672632, colsample_bytree=1.0 will be ignored. Current value: feature_fraction=0.6056599038672632\n",
      "[LightGBM] [Warning] lambda_l2 is set=0.0338137894715804, reg_lambda=0.0 will be ignored. Current value: lambda_l2=0.0338137894715804\n"
     ]
    },
    {
     "name": "stderr",
     "output_type": "stream",
     "text": [
      " 40%|████      | 12/30 [01:48<02:29,  8.31s/it]"
     ]
    },
    {
     "name": "stdout",
     "output_type": "stream",
     "text": [
      "[LightGBM] [Warning] lambda_l1 is set=4.655160825904243, reg_alpha=0.0 will be ignored. Current value: lambda_l1=4.655160825904243\n",
      "[LightGBM] [Warning] bagging_fraction is set=0.6340177598805505, subsample=1.0 will be ignored. Current value: bagging_fraction=0.6340177598805505\n",
      "[LightGBM] [Warning] feature_fraction is set=0.6056599038672632, colsample_bytree=1.0 will be ignored. Current value: feature_fraction=0.6056599038672632\n",
      "[LightGBM] [Warning] lambda_l2 is set=0.0338137894715804, reg_lambda=0.0 will be ignored. Current value: lambda_l2=0.0338137894715804\n"
     ]
    },
    {
     "name": "stderr",
     "output_type": "stream",
     "text": [
      " 43%|████▎     | 13/30 [01:56<02:22,  8.36s/it]"
     ]
    },
    {
     "name": "stdout",
     "output_type": "stream",
     "text": [
      "[LightGBM] [Warning] lambda_l1 is set=4.655160825904243, reg_alpha=0.0 will be ignored. Current value: lambda_l1=4.655160825904243\n",
      "[LightGBM] [Warning] bagging_fraction is set=0.6340177598805505, subsample=1.0 will be ignored. Current value: bagging_fraction=0.6340177598805505\n",
      "[LightGBM] [Warning] feature_fraction is set=0.6056599038672632, colsample_bytree=1.0 will be ignored. Current value: feature_fraction=0.6056599038672632\n",
      "[LightGBM] [Warning] lambda_l2 is set=0.0338137894715804, reg_lambda=0.0 will be ignored. Current value: lambda_l2=0.0338137894715804\n"
     ]
    },
    {
     "name": "stderr",
     "output_type": "stream",
     "text": [
      " 47%|████▋     | 14/30 [02:04<02:12,  8.30s/it]"
     ]
    },
    {
     "name": "stdout",
     "output_type": "stream",
     "text": [
      "[LightGBM] [Warning] lambda_l1 is set=4.655160825904243, reg_alpha=0.0 will be ignored. Current value: lambda_l1=4.655160825904243\n",
      "[LightGBM] [Warning] bagging_fraction is set=0.6340177598805505, subsample=1.0 will be ignored. Current value: bagging_fraction=0.6340177598805505\n",
      "[LightGBM] [Warning] feature_fraction is set=0.6056599038672632, colsample_bytree=1.0 will be ignored. Current value: feature_fraction=0.6056599038672632\n",
      "[LightGBM] [Warning] lambda_l2 is set=0.0338137894715804, reg_lambda=0.0 will be ignored. Current value: lambda_l2=0.0338137894715804\n"
     ]
    },
    {
     "name": "stderr",
     "output_type": "stream",
     "text": [
      " 50%|█████     | 15/30 [02:13<02:04,  8.32s/it]"
     ]
    },
    {
     "name": "stdout",
     "output_type": "stream",
     "text": [
      "[LightGBM] [Warning] lambda_l1 is set=4.655160825904243, reg_alpha=0.0 will be ignored. Current value: lambda_l1=4.655160825904243\n",
      "[LightGBM] [Warning] bagging_fraction is set=0.6340177598805505, subsample=1.0 will be ignored. Current value: bagging_fraction=0.6340177598805505\n",
      "[LightGBM] [Warning] feature_fraction is set=0.6056599038672632, colsample_bytree=1.0 will be ignored. Current value: feature_fraction=0.6056599038672632\n",
      "[LightGBM] [Warning] lambda_l2 is set=0.0338137894715804, reg_lambda=0.0 will be ignored. Current value: lambda_l2=0.0338137894715804\n"
     ]
    },
    {
     "name": "stderr",
     "output_type": "stream",
     "text": [
      " 53%|█████▎    | 16/30 [02:21<01:56,  8.29s/it]"
     ]
    },
    {
     "name": "stdout",
     "output_type": "stream",
     "text": [
      "[LightGBM] [Warning] lambda_l1 is set=4.655160825904243, reg_alpha=0.0 will be ignored. Current value: lambda_l1=4.655160825904243\n",
      "[LightGBM] [Warning] bagging_fraction is set=0.6340177598805505, subsample=1.0 will be ignored. Current value: bagging_fraction=0.6340177598805505\n",
      "[LightGBM] [Warning] feature_fraction is set=0.6056599038672632, colsample_bytree=1.0 will be ignored. Current value: feature_fraction=0.6056599038672632\n",
      "[LightGBM] [Warning] lambda_l2 is set=0.0338137894715804, reg_lambda=0.0 will be ignored. Current value: lambda_l2=0.0338137894715804\n"
     ]
    },
    {
     "name": "stderr",
     "output_type": "stream",
     "text": [
      " 57%|█████▋    | 17/30 [02:29<01:48,  8.32s/it]"
     ]
    },
    {
     "name": "stdout",
     "output_type": "stream",
     "text": [
      "[LightGBM] [Warning] lambda_l1 is set=4.655160825904243, reg_alpha=0.0 will be ignored. Current value: lambda_l1=4.655160825904243\n",
      "[LightGBM] [Warning] bagging_fraction is set=0.6340177598805505, subsample=1.0 will be ignored. Current value: bagging_fraction=0.6340177598805505\n",
      "[LightGBM] [Warning] feature_fraction is set=0.6056599038672632, colsample_bytree=1.0 will be ignored. Current value: feature_fraction=0.6056599038672632\n",
      "[LightGBM] [Warning] lambda_l2 is set=0.0338137894715804, reg_lambda=0.0 will be ignored. Current value: lambda_l2=0.0338137894715804\n"
     ]
    },
    {
     "name": "stderr",
     "output_type": "stream",
     "text": [
      " 60%|██████    | 18/30 [02:37<01:38,  8.24s/it]"
     ]
    },
    {
     "name": "stdout",
     "output_type": "stream",
     "text": [
      "[LightGBM] [Warning] lambda_l1 is set=4.655160825904243, reg_alpha=0.0 will be ignored. Current value: lambda_l1=4.655160825904243\n",
      "[LightGBM] [Warning] bagging_fraction is set=0.6340177598805505, subsample=1.0 will be ignored. Current value: bagging_fraction=0.6340177598805505\n",
      "[LightGBM] [Warning] feature_fraction is set=0.6056599038672632, colsample_bytree=1.0 will be ignored. Current value: feature_fraction=0.6056599038672632\n",
      "[LightGBM] [Warning] lambda_l2 is set=0.0338137894715804, reg_lambda=0.0 will be ignored. Current value: lambda_l2=0.0338137894715804\n"
     ]
    },
    {
     "name": "stderr",
     "output_type": "stream",
     "text": [
      " 63%|██████▎   | 19/30 [02:46<01:32,  8.40s/it]"
     ]
    },
    {
     "name": "stdout",
     "output_type": "stream",
     "text": [
      "[LightGBM] [Warning] lambda_l1 is set=4.655160825904243, reg_alpha=0.0 will be ignored. Current value: lambda_l1=4.655160825904243\n",
      "[LightGBM] [Warning] bagging_fraction is set=0.6340177598805505, subsample=1.0 will be ignored. Current value: bagging_fraction=0.6340177598805505\n",
      "[LightGBM] [Warning] feature_fraction is set=0.6056599038672632, colsample_bytree=1.0 will be ignored. Current value: feature_fraction=0.6056599038672632\n",
      "[LightGBM] [Warning] lambda_l2 is set=0.0338137894715804, reg_lambda=0.0 will be ignored. Current value: lambda_l2=0.0338137894715804\n"
     ]
    },
    {
     "name": "stderr",
     "output_type": "stream",
     "text": [
      " 67%|██████▋   | 20/30 [02:54<01:23,  8.31s/it]"
     ]
    },
    {
     "name": "stdout",
     "output_type": "stream",
     "text": [
      "[LightGBM] [Warning] lambda_l1 is set=4.655160825904243, reg_alpha=0.0 will be ignored. Current value: lambda_l1=4.655160825904243\n",
      "[LightGBM] [Warning] bagging_fraction is set=0.6340177598805505, subsample=1.0 will be ignored. Current value: bagging_fraction=0.6340177598805505\n",
      "[LightGBM] [Warning] feature_fraction is set=0.6056599038672632, colsample_bytree=1.0 will be ignored. Current value: feature_fraction=0.6056599038672632\n",
      "[LightGBM] [Warning] lambda_l2 is set=0.0338137894715804, reg_lambda=0.0 will be ignored. Current value: lambda_l2=0.0338137894715804\n"
     ]
    },
    {
     "name": "stderr",
     "output_type": "stream",
     "text": [
      " 70%|███████   | 21/30 [03:03<01:15,  8.35s/it]"
     ]
    },
    {
     "name": "stdout",
     "output_type": "stream",
     "text": [
      "[LightGBM] [Warning] lambda_l1 is set=4.655160825904243, reg_alpha=0.0 will be ignored. Current value: lambda_l1=4.655160825904243\n",
      "[LightGBM] [Warning] bagging_fraction is set=0.6340177598805505, subsample=1.0 will be ignored. Current value: bagging_fraction=0.6340177598805505\n",
      "[LightGBM] [Warning] feature_fraction is set=0.6056599038672632, colsample_bytree=1.0 will be ignored. Current value: feature_fraction=0.6056599038672632\n",
      "[LightGBM] [Warning] lambda_l2 is set=0.0338137894715804, reg_lambda=0.0 will be ignored. Current value: lambda_l2=0.0338137894715804\n"
     ]
    },
    {
     "name": "stderr",
     "output_type": "stream",
     "text": [
      " 73%|███████▎  | 22/30 [03:11<01:07,  8.48s/it]"
     ]
    },
    {
     "name": "stdout",
     "output_type": "stream",
     "text": [
      "[LightGBM] [Warning] lambda_l1 is set=4.655160825904243, reg_alpha=0.0 will be ignored. Current value: lambda_l1=4.655160825904243\n",
      "[LightGBM] [Warning] bagging_fraction is set=0.6340177598805505, subsample=1.0 will be ignored. Current value: bagging_fraction=0.6340177598805505\n",
      "[LightGBM] [Warning] feature_fraction is set=0.6056599038672632, colsample_bytree=1.0 will be ignored. Current value: feature_fraction=0.6056599038672632\n",
      "[LightGBM] [Warning] lambda_l2 is set=0.0338137894715804, reg_lambda=0.0 will be ignored. Current value: lambda_l2=0.0338137894715804\n"
     ]
    },
    {
     "name": "stderr",
     "output_type": "stream",
     "text": [
      " 77%|███████▋  | 23/30 [03:26<01:12, 10.30s/it]"
     ]
    },
    {
     "name": "stdout",
     "output_type": "stream",
     "text": [
      "[LightGBM] [Warning] lambda_l1 is set=4.655160825904243, reg_alpha=0.0 will be ignored. Current value: lambda_l1=4.655160825904243\n",
      "[LightGBM] [Warning] bagging_fraction is set=0.6340177598805505, subsample=1.0 will be ignored. Current value: bagging_fraction=0.6340177598805505\n",
      "[LightGBM] [Warning] feature_fraction is set=0.6056599038672632, colsample_bytree=1.0 will be ignored. Current value: feature_fraction=0.6056599038672632\n",
      "[LightGBM] [Warning] lambda_l2 is set=0.0338137894715804, reg_lambda=0.0 will be ignored. Current value: lambda_l2=0.0338137894715804\n"
     ]
    },
    {
     "name": "stderr",
     "output_type": "stream",
     "text": [
      " 80%|████████  | 24/30 [03:35<00:58,  9.83s/it]"
     ]
    },
    {
     "name": "stdout",
     "output_type": "stream",
     "text": [
      "[LightGBM] [Warning] lambda_l1 is set=4.655160825904243, reg_alpha=0.0 will be ignored. Current value: lambda_l1=4.655160825904243\n",
      "[LightGBM] [Warning] bagging_fraction is set=0.6340177598805505, subsample=1.0 will be ignored. Current value: bagging_fraction=0.6340177598805505\n",
      "[LightGBM] [Warning] feature_fraction is set=0.6056599038672632, colsample_bytree=1.0 will be ignored. Current value: feature_fraction=0.6056599038672632\n",
      "[LightGBM] [Warning] lambda_l2 is set=0.0338137894715804, reg_lambda=0.0 will be ignored. Current value: lambda_l2=0.0338137894715804\n"
     ]
    },
    {
     "name": "stderr",
     "output_type": "stream",
     "text": [
      " 83%|████████▎ | 25/30 [03:43<00:47,  9.42s/it]"
     ]
    },
    {
     "name": "stdout",
     "output_type": "stream",
     "text": [
      "[LightGBM] [Warning] lambda_l1 is set=4.655160825904243, reg_alpha=0.0 will be ignored. Current value: lambda_l1=4.655160825904243\n",
      "[LightGBM] [Warning] bagging_fraction is set=0.6340177598805505, subsample=1.0 will be ignored. Current value: bagging_fraction=0.6340177598805505\n",
      "[LightGBM] [Warning] feature_fraction is set=0.6056599038672632, colsample_bytree=1.0 will be ignored. Current value: feature_fraction=0.6056599038672632\n",
      "[LightGBM] [Warning] lambda_l2 is set=0.0338137894715804, reg_lambda=0.0 will be ignored. Current value: lambda_l2=0.0338137894715804\n"
     ]
    },
    {
     "name": "stderr",
     "output_type": "stream",
     "text": [
      " 87%|████████▋ | 26/30 [03:51<00:36,  9.09s/it]"
     ]
    },
    {
     "name": "stdout",
     "output_type": "stream",
     "text": [
      "[LightGBM] [Warning] lambda_l1 is set=4.655160825904243, reg_alpha=0.0 will be ignored. Current value: lambda_l1=4.655160825904243\n",
      "[LightGBM] [Warning] bagging_fraction is set=0.6340177598805505, subsample=1.0 will be ignored. Current value: bagging_fraction=0.6340177598805505\n",
      "[LightGBM] [Warning] feature_fraction is set=0.6056599038672632, colsample_bytree=1.0 will be ignored. Current value: feature_fraction=0.6056599038672632\n",
      "[LightGBM] [Warning] lambda_l2 is set=0.0338137894715804, reg_lambda=0.0 will be ignored. Current value: lambda_l2=0.0338137894715804\n"
     ]
    },
    {
     "name": "stderr",
     "output_type": "stream",
     "text": [
      " 90%|█████████ | 27/30 [04:00<00:26,  8.96s/it]"
     ]
    },
    {
     "name": "stdout",
     "output_type": "stream",
     "text": [
      "[LightGBM] [Warning] lambda_l1 is set=4.655160825904243, reg_alpha=0.0 will be ignored. Current value: lambda_l1=4.655160825904243\n",
      "[LightGBM] [Warning] bagging_fraction is set=0.6340177598805505, subsample=1.0 will be ignored. Current value: bagging_fraction=0.6340177598805505\n",
      "[LightGBM] [Warning] feature_fraction is set=0.6056599038672632, colsample_bytree=1.0 will be ignored. Current value: feature_fraction=0.6056599038672632\n",
      "[LightGBM] [Warning] lambda_l2 is set=0.0338137894715804, reg_lambda=0.0 will be ignored. Current value: lambda_l2=0.0338137894715804\n"
     ]
    },
    {
     "name": "stderr",
     "output_type": "stream",
     "text": [
      " 93%|█████████▎| 28/30 [04:09<00:17,  8.82s/it]"
     ]
    },
    {
     "name": "stdout",
     "output_type": "stream",
     "text": [
      "[LightGBM] [Warning] lambda_l1 is set=4.655160825904243, reg_alpha=0.0 will be ignored. Current value: lambda_l1=4.655160825904243\n",
      "[LightGBM] [Warning] bagging_fraction is set=0.6340177598805505, subsample=1.0 will be ignored. Current value: bagging_fraction=0.6340177598805505\n",
      "[LightGBM] [Warning] feature_fraction is set=0.6056599038672632, colsample_bytree=1.0 will be ignored. Current value: feature_fraction=0.6056599038672632\n",
      "[LightGBM] [Warning] lambda_l2 is set=0.0338137894715804, reg_lambda=0.0 will be ignored. Current value: lambda_l2=0.0338137894715804\n"
     ]
    },
    {
     "name": "stderr",
     "output_type": "stream",
     "text": [
      " 97%|█████████▋| 29/30 [04:17<00:08,  8.76s/it]"
     ]
    },
    {
     "name": "stdout",
     "output_type": "stream",
     "text": [
      "[LightGBM] [Warning] lambda_l1 is set=4.655160825904243, reg_alpha=0.0 will be ignored. Current value: lambda_l1=4.655160825904243\n",
      "[LightGBM] [Warning] bagging_fraction is set=0.6340177598805505, subsample=1.0 will be ignored. Current value: bagging_fraction=0.6340177598805505\n",
      "[LightGBM] [Warning] feature_fraction is set=0.6056599038672632, colsample_bytree=1.0 will be ignored. Current value: feature_fraction=0.6056599038672632\n",
      "[LightGBM] [Warning] lambda_l2 is set=0.0338137894715804, reg_lambda=0.0 will be ignored. Current value: lambda_l2=0.0338137894715804\n"
     ]
    },
    {
     "name": "stderr",
     "output_type": "stream",
     "text": [
      "100%|██████████| 30/30 [04:26<00:00,  8.88s/it]\n",
      "100%|██████████| 30/30 [03:38<00:00,  7.28s/it]\n"
     ]
    }
   ],
   "source": [
    "to_select = ['X1_WinRatio14d',\n",
    "             'X1_PointsMean',\n",
    "             'X1_PointsMedian',\n",
    "             'X1_PointsDiffMean',\n",
    "             'X1_FgaMean',\n",
    "             'X1_FgaMedian',\n",
    "             'X1_FgaMin',\n",
    "             'X1_FgaMax',\n",
    "             'X1_AstMean',\n",
    "             'X1_BlkMean',\n",
    "             'X1_OppFgaMean',\n",
    "             'X1_OppFgaMin',\n",
    "             'X1_EfgpMean',\n",
    "             'X1_PossessionsMean',\n",
    "             'X1_PpmMean',\n",
    "             'X1_FtrMean',\n",
    "             'X1_TopMean',\n",
    "             'X1_DrebpMean',\n",
    "             'X2_WinRatio14d',\n",
    "             'X2_PointsMean',\n",
    "             'X2_PointsMedian',\n",
    "             'X2_PointsDiffMean',\n",
    "             'X2_FgaMean',\n",
    "             'X2_FgaMedian',\n",
    "             'X2_FgaMin',\n",
    "             'X2_FgaMax',\n",
    "             'X2_AstMean',\n",
    "             'X2_BlkMean',\n",
    "             'X2_OppFgaMean',\n",
    "             'X2_OppFgaMin',\n",
    "             'X2_EfgpMean',\n",
    "             'X2_PossessionsMean',\n",
    "             'X2_PpmMean',\n",
    "             'X2_FtrMean',\n",
    "             'X2_TopMean',\n",
    "             'X2_DrebpMean']\n",
    "\n",
    "X = woman_train[to_select]\n",
    "Y = woman_train['ResultDiff']\n",
    "\n",
    "woman_test_other =  woman_test[(woman_test['Seed1'].isnull() | woman_test['Seed2'].isnull())].reset_index(drop = True)\n",
    "woman_test_IDS = woman_test_other['ID'] \n",
    "woman_test_other = woman_test_other[to_select]\n",
    "\n",
    "#############\n",
    "## XGBoost ##\n",
    "#############\n",
    "\n",
    "xgb_params = pd.read_csv('woman_XGB_Phase_1_Others_42_Optuna_Hyperparameters.csv')\n",
    "xgb_preds = list()\n",
    "\n",
    "for i in tqdm(range(30)):\n",
    "\n",
    "    xgb_md = XGBRegressor(tree_method = 'hist', \n",
    "                          max_depth = xgb_params['max_depth'][0],\n",
    "                          learning_rate = xgb_params['learning_rate'][0],\n",
    "                          n_estimators = xgb_params['n_estimators'][0],\n",
    "                          gamma = xgb_params['gamma'][0],\n",
    "                          min_child_weight = xgb_params['min_child_weight'][0],\n",
    "                          colsample_bytree = xgb_params['colsample_bytree'][0],\n",
    "                          subsample = xgb_params['subsample'][0],\n",
    "                          random_state = 1).fit(X, Y)\n",
    "\n",
    "    xgb_pred = xgb_md.predict(woman_test_other)\n",
    "    xgb_preds.append(xgb_pred)\n",
    "    \n",
    "##############\n",
    "## LightGBM ##\n",
    "##############\n",
    "\n",
    "lgb_params = pd.read_csv('woman_LightGBM_Phase_1_Others_42_Optuna_Hyperparameters.csv')\n",
    "lgb_preds = list()\n",
    "\n",
    "for i in tqdm(range(30)):\n",
    "\n",
    "    lgb_md = LGBMRegressor(boosting_type = 'gbdt', \n",
    "                           n_estimators = lgb_params['n_estimators'][0],\n",
    "                           learning_rate = lgb_params['learning_rate'][0],\n",
    "                           max_depth = lgb_params['max_depth'][0],\n",
    "                           lambda_l1 = lgb_params['lambda_l1'][0],\n",
    "                           lambda_l2 = lgb_params['lambda_l2'][0],\n",
    "                           num_leaves = lgb_params['num_leaves'][0],\n",
    "                           bagging_fraction = lgb_params['bagging_fraction'][0],\n",
    "                           feature_fraction = lgb_params['feature_fraction'][0], \n",
    "                           random_state = i).fit(X, Y)\n",
    "\n",
    "    lgb_pred = lgb_md.predict(woman_test_other)\n",
    "    lgb_preds.append(lgb_pred)\n",
    "    \n",
    "##################\n",
    "## HistGradient ##\n",
    "##################\n",
    "\n",
    "hist_params = pd.read_csv('woman_Hist_Phase_1_Others_42_Optuna_Hyperparameters.csv')\n",
    "hist_preds = list()\n",
    "\n",
    "for i in tqdm(range(30)):\n",
    "\n",
    "    hist_md = HistGradientBoostingRegressor(l2_regularization = hist_params['l2_regularization'][0],\n",
    "                                            early_stopping = False,\n",
    "                                            learning_rate = hist_params['learning_rate'][0],\n",
    "                                            max_iter = hist_params['max_iter'][0],\n",
    "                                            max_depth = hist_params['max_depth'][0],\n",
    "                                            max_bins = hist_params['max_bins'][0],\n",
    "                                            min_samples_leaf = hist_params['min_samples_leaf'][0],\n",
    "                                            max_leaf_nodes = hist_params['max_leaf_nodes'][0],\n",
    "                                            random_state = i).fit(X, Y)\n",
    "\n",
    "    hist_pred = hist_md.predict(woman_test_other)\n",
    "    hist_preds.append(hist_pred)\n",
    "\n",
    "##############\n",
    "## Ensemble ##\n",
    "##############\n",
    "\n",
    "xgb_pred = pd.DataFrame(xgb_preds).apply(np.mean, axis = 0)\n",
    "lgb_pred = pd.DataFrame(lgb_preds).apply(np.mean, axis = 0)\n",
    "hist_pred = pd.DataFrame(hist_preds).apply(np.mean, axis = 0)\n",
    "\n",
    "ens_pred = (xgb_pred + lgb_pred + hist_pred) / 3\n",
    "woman_test_other['ResultDiff'] = np.round_(ens_pred, decimals = 0).astype(int)\n",
    "woman_test_other['ID'] = woman_test_IDS"
   ]
  },
  {
   "cell_type": "markdown",
   "id": "fabdc705",
   "metadata": {},
   "source": [
    "## Phase 2: Woman"
   ]
  },
  {
   "cell_type": "code",
   "execution_count": 13,
   "id": "3477803d",
   "metadata": {},
   "outputs": [
    {
     "name": "stderr",
     "output_type": "stream",
     "text": [
      "100%|██████████| 20/20 [00:37<00:00,  1.86s/it]\n",
      "  0%|          | 0/20 [00:00<?, ?it/s]"
     ]
    },
    {
     "name": "stdout",
     "output_type": "stream",
     "text": [
      "[LightGBM] [Warning] lambda_l1 is set=0.0135218970531824, reg_alpha=0.0 will be ignored. Current value: lambda_l1=0.0135218970531824\n",
      "[LightGBM] [Warning] bagging_fraction is set=0.5621118842421864, subsample=1.0 will be ignored. Current value: bagging_fraction=0.5621118842421864\n",
      "[LightGBM] [Warning] feature_fraction is set=0.4297732298939334, colsample_bytree=1.0 will be ignored. Current value: feature_fraction=0.4297732298939334\n",
      "[LightGBM] [Warning] lambda_l2 is set=1.35554745456749, reg_lambda=0.0 will be ignored. Current value: lambda_l2=1.35554745456749\n"
     ]
    },
    {
     "name": "stderr",
     "output_type": "stream",
     "text": [
      "  5%|▌         | 1/20 [00:00<00:12,  1.52it/s]"
     ]
    },
    {
     "name": "stdout",
     "output_type": "stream",
     "text": [
      "[LightGBM] [Warning] lambda_l1 is set=0.0135218970531824, reg_alpha=0.0 will be ignored. Current value: lambda_l1=0.0135218970531824\n",
      "[LightGBM] [Warning] bagging_fraction is set=0.5621118842421864, subsample=1.0 will be ignored. Current value: bagging_fraction=0.5621118842421864\n",
      "[LightGBM] [Warning] feature_fraction is set=0.4297732298939334, colsample_bytree=1.0 will be ignored. Current value: feature_fraction=0.4297732298939334\n",
      "[LightGBM] [Warning] lambda_l2 is set=1.35554745456749, reg_lambda=0.0 will be ignored. Current value: lambda_l2=1.35554745456749\n"
     ]
    },
    {
     "name": "stderr",
     "output_type": "stream",
     "text": [
      " 10%|█         | 2/20 [00:01<00:12,  1.50it/s]"
     ]
    },
    {
     "name": "stdout",
     "output_type": "stream",
     "text": [
      "[LightGBM] [Warning] lambda_l1 is set=0.0135218970531824, reg_alpha=0.0 will be ignored. Current value: lambda_l1=0.0135218970531824\n",
      "[LightGBM] [Warning] bagging_fraction is set=0.5621118842421864, subsample=1.0 will be ignored. Current value: bagging_fraction=0.5621118842421864\n",
      "[LightGBM] [Warning] feature_fraction is set=0.4297732298939334, colsample_bytree=1.0 will be ignored. Current value: feature_fraction=0.4297732298939334\n",
      "[LightGBM] [Warning] lambda_l2 is set=1.35554745456749, reg_lambda=0.0 will be ignored. Current value: lambda_l2=1.35554745456749\n"
     ]
    },
    {
     "name": "stderr",
     "output_type": "stream",
     "text": [
      " 15%|█▌        | 3/20 [00:01<00:11,  1.54it/s]"
     ]
    },
    {
     "name": "stdout",
     "output_type": "stream",
     "text": [
      "[LightGBM] [Warning] lambda_l1 is set=0.0135218970531824, reg_alpha=0.0 will be ignored. Current value: lambda_l1=0.0135218970531824\n",
      "[LightGBM] [Warning] bagging_fraction is set=0.5621118842421864, subsample=1.0 will be ignored. Current value: bagging_fraction=0.5621118842421864\n",
      "[LightGBM] [Warning] feature_fraction is set=0.4297732298939334, colsample_bytree=1.0 will be ignored. Current value: feature_fraction=0.4297732298939334\n",
      "[LightGBM] [Warning] lambda_l2 is set=1.35554745456749, reg_lambda=0.0 will be ignored. Current value: lambda_l2=1.35554745456749\n"
     ]
    },
    {
     "name": "stderr",
     "output_type": "stream",
     "text": [
      " 20%|██        | 4/20 [00:02<00:10,  1.56it/s]"
     ]
    },
    {
     "name": "stdout",
     "output_type": "stream",
     "text": [
      "[LightGBM] [Warning] lambda_l1 is set=0.0135218970531824, reg_alpha=0.0 will be ignored. Current value: lambda_l1=0.0135218970531824\n",
      "[LightGBM] [Warning] bagging_fraction is set=0.5621118842421864, subsample=1.0 will be ignored. Current value: bagging_fraction=0.5621118842421864\n",
      "[LightGBM] [Warning] feature_fraction is set=0.4297732298939334, colsample_bytree=1.0 will be ignored. Current value: feature_fraction=0.4297732298939334\n",
      "[LightGBM] [Warning] lambda_l2 is set=1.35554745456749, reg_lambda=0.0 will be ignored. Current value: lambda_l2=1.35554745456749\n"
     ]
    },
    {
     "name": "stderr",
     "output_type": "stream",
     "text": [
      " 25%|██▌       | 5/20 [00:03<00:09,  1.59it/s]"
     ]
    },
    {
     "name": "stdout",
     "output_type": "stream",
     "text": [
      "[LightGBM] [Warning] lambda_l1 is set=0.0135218970531824, reg_alpha=0.0 will be ignored. Current value: lambda_l1=0.0135218970531824\n",
      "[LightGBM] [Warning] bagging_fraction is set=0.5621118842421864, subsample=1.0 will be ignored. Current value: bagging_fraction=0.5621118842421864\n",
      "[LightGBM] [Warning] feature_fraction is set=0.4297732298939334, colsample_bytree=1.0 will be ignored. Current value: feature_fraction=0.4297732298939334\n",
      "[LightGBM] [Warning] lambda_l2 is set=1.35554745456749, reg_lambda=0.0 will be ignored. Current value: lambda_l2=1.35554745456749\n"
     ]
    },
    {
     "name": "stderr",
     "output_type": "stream",
     "text": [
      " 30%|███       | 6/20 [00:03<00:08,  1.57it/s]"
     ]
    },
    {
     "name": "stdout",
     "output_type": "stream",
     "text": [
      "[LightGBM] [Warning] lambda_l1 is set=0.0135218970531824, reg_alpha=0.0 will be ignored. Current value: lambda_l1=0.0135218970531824\n",
      "[LightGBM] [Warning] bagging_fraction is set=0.5621118842421864, subsample=1.0 will be ignored. Current value: bagging_fraction=0.5621118842421864\n",
      "[LightGBM] [Warning] feature_fraction is set=0.4297732298939334, colsample_bytree=1.0 will be ignored. Current value: feature_fraction=0.4297732298939334\n",
      "[LightGBM] [Warning] lambda_l2 is set=1.35554745456749, reg_lambda=0.0 will be ignored. Current value: lambda_l2=1.35554745456749\n"
     ]
    },
    {
     "name": "stderr",
     "output_type": "stream",
     "text": [
      " 35%|███▌      | 7/20 [00:04<00:08,  1.55it/s]"
     ]
    },
    {
     "name": "stdout",
     "output_type": "stream",
     "text": [
      "[LightGBM] [Warning] lambda_l1 is set=0.0135218970531824, reg_alpha=0.0 will be ignored. Current value: lambda_l1=0.0135218970531824\n",
      "[LightGBM] [Warning] bagging_fraction is set=0.5621118842421864, subsample=1.0 will be ignored. Current value: bagging_fraction=0.5621118842421864\n",
      "[LightGBM] [Warning] feature_fraction is set=0.4297732298939334, colsample_bytree=1.0 will be ignored. Current value: feature_fraction=0.4297732298939334\n",
      "[LightGBM] [Warning] lambda_l2 is set=1.35554745456749, reg_lambda=0.0 will be ignored. Current value: lambda_l2=1.35554745456749\n"
     ]
    },
    {
     "name": "stderr",
     "output_type": "stream",
     "text": [
      " 40%|████      | 8/20 [00:05<00:07,  1.57it/s]"
     ]
    },
    {
     "name": "stdout",
     "output_type": "stream",
     "text": [
      "[LightGBM] [Warning] lambda_l1 is set=0.0135218970531824, reg_alpha=0.0 will be ignored. Current value: lambda_l1=0.0135218970531824\n",
      "[LightGBM] [Warning] bagging_fraction is set=0.5621118842421864, subsample=1.0 will be ignored. Current value: bagging_fraction=0.5621118842421864\n",
      "[LightGBM] [Warning] feature_fraction is set=0.4297732298939334, colsample_bytree=1.0 will be ignored. Current value: feature_fraction=0.4297732298939334\n",
      "[LightGBM] [Warning] lambda_l2 is set=1.35554745456749, reg_lambda=0.0 will be ignored. Current value: lambda_l2=1.35554745456749\n"
     ]
    },
    {
     "name": "stderr",
     "output_type": "stream",
     "text": [
      " 45%|████▌     | 9/20 [00:05<00:06,  1.58it/s]"
     ]
    },
    {
     "name": "stdout",
     "output_type": "stream",
     "text": [
      "[LightGBM] [Warning] lambda_l1 is set=0.0135218970531824, reg_alpha=0.0 will be ignored. Current value: lambda_l1=0.0135218970531824\n",
      "[LightGBM] [Warning] bagging_fraction is set=0.5621118842421864, subsample=1.0 will be ignored. Current value: bagging_fraction=0.5621118842421864\n",
      "[LightGBM] [Warning] feature_fraction is set=0.4297732298939334, colsample_bytree=1.0 will be ignored. Current value: feature_fraction=0.4297732298939334\n",
      "[LightGBM] [Warning] lambda_l2 is set=1.35554745456749, reg_lambda=0.0 will be ignored. Current value: lambda_l2=1.35554745456749\n"
     ]
    },
    {
     "name": "stderr",
     "output_type": "stream",
     "text": [
      " 50%|█████     | 10/20 [00:06<00:06,  1.54it/s]"
     ]
    },
    {
     "name": "stdout",
     "output_type": "stream",
     "text": [
      "[LightGBM] [Warning] lambda_l1 is set=0.0135218970531824, reg_alpha=0.0 will be ignored. Current value: lambda_l1=0.0135218970531824\n",
      "[LightGBM] [Warning] bagging_fraction is set=0.5621118842421864, subsample=1.0 will be ignored. Current value: bagging_fraction=0.5621118842421864\n",
      "[LightGBM] [Warning] feature_fraction is set=0.4297732298939334, colsample_bytree=1.0 will be ignored. Current value: feature_fraction=0.4297732298939334\n",
      "[LightGBM] [Warning] lambda_l2 is set=1.35554745456749, reg_lambda=0.0 will be ignored. Current value: lambda_l2=1.35554745456749\n"
     ]
    },
    {
     "name": "stderr",
     "output_type": "stream",
     "text": [
      " 55%|█████▌    | 11/20 [00:07<00:05,  1.57it/s]"
     ]
    },
    {
     "name": "stdout",
     "output_type": "stream",
     "text": [
      "[LightGBM] [Warning] lambda_l1 is set=0.0135218970531824, reg_alpha=0.0 will be ignored. Current value: lambda_l1=0.0135218970531824\n",
      "[LightGBM] [Warning] bagging_fraction is set=0.5621118842421864, subsample=1.0 will be ignored. Current value: bagging_fraction=0.5621118842421864\n",
      "[LightGBM] [Warning] feature_fraction is set=0.4297732298939334, colsample_bytree=1.0 will be ignored. Current value: feature_fraction=0.4297732298939334\n",
      "[LightGBM] [Warning] lambda_l2 is set=1.35554745456749, reg_lambda=0.0 will be ignored. Current value: lambda_l2=1.35554745456749\n"
     ]
    },
    {
     "name": "stderr",
     "output_type": "stream",
     "text": [
      " 60%|██████    | 12/20 [00:07<00:05,  1.58it/s]"
     ]
    },
    {
     "name": "stdout",
     "output_type": "stream",
     "text": [
      "[LightGBM] [Warning] lambda_l1 is set=0.0135218970531824, reg_alpha=0.0 will be ignored. Current value: lambda_l1=0.0135218970531824\n",
      "[LightGBM] [Warning] bagging_fraction is set=0.5621118842421864, subsample=1.0 will be ignored. Current value: bagging_fraction=0.5621118842421864\n",
      "[LightGBM] [Warning] feature_fraction is set=0.4297732298939334, colsample_bytree=1.0 will be ignored. Current value: feature_fraction=0.4297732298939334\n",
      "[LightGBM] [Warning] lambda_l2 is set=1.35554745456749, reg_lambda=0.0 will be ignored. Current value: lambda_l2=1.35554745456749\n"
     ]
    },
    {
     "name": "stderr",
     "output_type": "stream",
     "text": [
      " 65%|██████▌   | 13/20 [00:08<00:04,  1.59it/s]"
     ]
    },
    {
     "name": "stdout",
     "output_type": "stream",
     "text": [
      "[LightGBM] [Warning] lambda_l1 is set=0.0135218970531824, reg_alpha=0.0 will be ignored. Current value: lambda_l1=0.0135218970531824\n",
      "[LightGBM] [Warning] bagging_fraction is set=0.5621118842421864, subsample=1.0 will be ignored. Current value: bagging_fraction=0.5621118842421864\n",
      "[LightGBM] [Warning] feature_fraction is set=0.4297732298939334, colsample_bytree=1.0 will be ignored. Current value: feature_fraction=0.4297732298939334\n",
      "[LightGBM] [Warning] lambda_l2 is set=1.35554745456749, reg_lambda=0.0 will be ignored. Current value: lambda_l2=1.35554745456749\n"
     ]
    },
    {
     "name": "stderr",
     "output_type": "stream",
     "text": [
      " 70%|███████   | 14/20 [00:08<00:03,  1.62it/s]"
     ]
    },
    {
     "name": "stdout",
     "output_type": "stream",
     "text": [
      "[LightGBM] [Warning] lambda_l1 is set=0.0135218970531824, reg_alpha=0.0 will be ignored. Current value: lambda_l1=0.0135218970531824\n",
      "[LightGBM] [Warning] bagging_fraction is set=0.5621118842421864, subsample=1.0 will be ignored. Current value: bagging_fraction=0.5621118842421864\n",
      "[LightGBM] [Warning] feature_fraction is set=0.4297732298939334, colsample_bytree=1.0 will be ignored. Current value: feature_fraction=0.4297732298939334\n",
      "[LightGBM] [Warning] lambda_l2 is set=1.35554745456749, reg_lambda=0.0 will be ignored. Current value: lambda_l2=1.35554745456749\n"
     ]
    },
    {
     "name": "stderr",
     "output_type": "stream",
     "text": [
      " 75%|███████▌  | 15/20 [00:09<00:03,  1.60it/s]"
     ]
    },
    {
     "name": "stdout",
     "output_type": "stream",
     "text": [
      "[LightGBM] [Warning] lambda_l1 is set=0.0135218970531824, reg_alpha=0.0 will be ignored. Current value: lambda_l1=0.0135218970531824\n",
      "[LightGBM] [Warning] bagging_fraction is set=0.5621118842421864, subsample=1.0 will be ignored. Current value: bagging_fraction=0.5621118842421864\n",
      "[LightGBM] [Warning] feature_fraction is set=0.4297732298939334, colsample_bytree=1.0 will be ignored. Current value: feature_fraction=0.4297732298939334\n",
      "[LightGBM] [Warning] lambda_l2 is set=1.35554745456749, reg_lambda=0.0 will be ignored. Current value: lambda_l2=1.35554745456749\n"
     ]
    },
    {
     "name": "stderr",
     "output_type": "stream",
     "text": [
      " 80%|████████  | 16/20 [00:10<00:02,  1.59it/s]"
     ]
    },
    {
     "name": "stdout",
     "output_type": "stream",
     "text": [
      "[LightGBM] [Warning] lambda_l1 is set=0.0135218970531824, reg_alpha=0.0 will be ignored. Current value: lambda_l1=0.0135218970531824\n",
      "[LightGBM] [Warning] bagging_fraction is set=0.5621118842421864, subsample=1.0 will be ignored. Current value: bagging_fraction=0.5621118842421864\n",
      "[LightGBM] [Warning] feature_fraction is set=0.4297732298939334, colsample_bytree=1.0 will be ignored. Current value: feature_fraction=0.4297732298939334\n",
      "[LightGBM] [Warning] lambda_l2 is set=1.35554745456749, reg_lambda=0.0 will be ignored. Current value: lambda_l2=1.35554745456749\n"
     ]
    },
    {
     "name": "stderr",
     "output_type": "stream",
     "text": [
      " 85%|████████▌ | 17/20 [00:10<00:01,  1.57it/s]"
     ]
    },
    {
     "name": "stdout",
     "output_type": "stream",
     "text": [
      "[LightGBM] [Warning] lambda_l1 is set=0.0135218970531824, reg_alpha=0.0 will be ignored. Current value: lambda_l1=0.0135218970531824\n",
      "[LightGBM] [Warning] bagging_fraction is set=0.5621118842421864, subsample=1.0 will be ignored. Current value: bagging_fraction=0.5621118842421864\n",
      "[LightGBM] [Warning] feature_fraction is set=0.4297732298939334, colsample_bytree=1.0 will be ignored. Current value: feature_fraction=0.4297732298939334\n",
      "[LightGBM] [Warning] lambda_l2 is set=1.35554745456749, reg_lambda=0.0 will be ignored. Current value: lambda_l2=1.35554745456749\n"
     ]
    },
    {
     "name": "stderr",
     "output_type": "stream",
     "text": [
      " 90%|█████████ | 18/20 [00:11<00:01,  1.58it/s]"
     ]
    },
    {
     "name": "stdout",
     "output_type": "stream",
     "text": [
      "[LightGBM] [Warning] lambda_l1 is set=0.0135218970531824, reg_alpha=0.0 will be ignored. Current value: lambda_l1=0.0135218970531824\n",
      "[LightGBM] [Warning] bagging_fraction is set=0.5621118842421864, subsample=1.0 will be ignored. Current value: bagging_fraction=0.5621118842421864\n",
      "[LightGBM] [Warning] feature_fraction is set=0.4297732298939334, colsample_bytree=1.0 will be ignored. Current value: feature_fraction=0.4297732298939334\n",
      "[LightGBM] [Warning] lambda_l2 is set=1.35554745456749, reg_lambda=0.0 will be ignored. Current value: lambda_l2=1.35554745456749\n"
     ]
    },
    {
     "name": "stderr",
     "output_type": "stream",
     "text": [
      " 95%|█████████▌| 19/20 [00:12<00:00,  1.58it/s]"
     ]
    },
    {
     "name": "stdout",
     "output_type": "stream",
     "text": [
      "[LightGBM] [Warning] lambda_l1 is set=0.0135218970531824, reg_alpha=0.0 will be ignored. Current value: lambda_l1=0.0135218970531824\n",
      "[LightGBM] [Warning] bagging_fraction is set=0.5621118842421864, subsample=1.0 will be ignored. Current value: bagging_fraction=0.5621118842421864\n",
      "[LightGBM] [Warning] feature_fraction is set=0.4297732298939334, colsample_bytree=1.0 will be ignored. Current value: feature_fraction=0.4297732298939334\n",
      "[LightGBM] [Warning] lambda_l2 is set=1.35554745456749, reg_lambda=0.0 will be ignored. Current value: lambda_l2=1.35554745456749\n"
     ]
    },
    {
     "name": "stderr",
     "output_type": "stream",
     "text": [
      "100%|██████████| 20/20 [00:12<00:00,  1.57it/s]\n",
      "100%|██████████| 20/20 [00:18<00:00,  1.10it/s]\n"
     ]
    },
    {
     "data": {
      "text/html": [
       "<div>\n",
       "<style scoped>\n",
       "    .dataframe tbody tr th:only-of-type {\n",
       "        vertical-align: middle;\n",
       "    }\n",
       "\n",
       "    .dataframe tbody tr th {\n",
       "        vertical-align: top;\n",
       "    }\n",
       "\n",
       "    .dataframe thead th {\n",
       "        text-align: right;\n",
       "    }\n",
       "</style>\n",
       "<table border=\"1\" class=\"dataframe\">\n",
       "  <thead>\n",
       "    <tr style=\"text-align: right;\">\n",
       "      <th></th>\n",
       "      <th>ID</th>\n",
       "      <th>Pred</th>\n",
       "    </tr>\n",
       "  </thead>\n",
       "  <tbody>\n",
       "    <tr>\n",
       "      <th>0</th>\n",
       "      <td>2023_3101_3102</td>\n",
       "      <td>0.997251</td>\n",
       "    </tr>\n",
       "    <tr>\n",
       "      <th>1</th>\n",
       "      <td>2023_3101_3103</td>\n",
       "      <td>0.997155</td>\n",
       "    </tr>\n",
       "    <tr>\n",
       "      <th>2</th>\n",
       "      <td>2023_3101_3104</td>\n",
       "      <td>0.002651</td>\n",
       "    </tr>\n",
       "    <tr>\n",
       "      <th>3</th>\n",
       "      <td>2023_3101_3105</td>\n",
       "      <td>0.997242</td>\n",
       "    </tr>\n",
       "    <tr>\n",
       "      <th>4</th>\n",
       "      <td>2023_3101_3106</td>\n",
       "      <td>0.997230</td>\n",
       "    </tr>\n",
       "  </tbody>\n",
       "</table>\n",
       "</div>"
      ],
      "text/plain": [
       "               ID      Pred\n",
       "0  2023_3101_3102  0.997251\n",
       "1  2023_3101_3103  0.997155\n",
       "2  2023_3101_3104  0.002651\n",
       "3  2023_3101_3105  0.997242\n",
       "4  2023_3101_3106  0.997230"
      ]
     },
     "execution_count": 13,
     "metadata": {},
     "output_type": "execute_result"
    }
   ],
   "source": [
    "to_select = ['X1_WinRatio14d',\n",
    "             'X1_PointsMean',\n",
    "             'X1_PointsMedian',\n",
    "             'X1_PointsDiffMean',\n",
    "             'X1_FgaMean',\n",
    "             'X1_FgaMedian',\n",
    "             'X1_FgaMin',\n",
    "             'X1_FgaMax',\n",
    "             'X1_AstMean',\n",
    "             'X1_BlkMean',\n",
    "             'X1_OppFgaMean',\n",
    "             'X1_OppFgaMin',\n",
    "             'X1_EfgpMean',\n",
    "             'X1_PossessionsMean',\n",
    "             'X1_PpmMean',\n",
    "             'X1_FtrMean',\n",
    "             'X1_TopMean',\n",
    "             'X1_DrebpMean',\n",
    "             'X2_WinRatio14d',\n",
    "             'X2_PointsMean',\n",
    "             'X2_PointsMedian',\n",
    "             'X2_PointsDiffMean',\n",
    "             'X2_FgaMean',\n",
    "             'X2_FgaMedian',\n",
    "             'X2_FgaMin',\n",
    "             'X2_FgaMax',\n",
    "             'X2_AstMean',\n",
    "             'X2_BlkMean',\n",
    "             'X2_OppFgaMean',\n",
    "             'X2_OppFgaMin',\n",
    "             'X2_EfgpMean',\n",
    "             'X2_PossessionsMean',\n",
    "             'X2_PpmMean',\n",
    "             'X2_FtrMean',\n",
    "             'X2_TopMean',\n",
    "             'X2_DrebpMean',\n",
    "             'ResultDiff']\n",
    "\n",
    "X = woman_train[to_select]\n",
    "Y = woman_train['target']\n",
    "\n",
    "woman_test_other_ID = woman_test_other['ID']\n",
    "woman_test_other = woman_test_other[to_select]\n",
    "\n",
    "#############\n",
    "## XGBoost ##\n",
    "#############\n",
    "\n",
    "xgb_params = pd.read_csv('woman_XGB_Phase_2_Others_42_Optuna_Hyperparameters.csv')\n",
    "xgb_preds = list()\n",
    "\n",
    "for i in tqdm(range(20)):\n",
    "\n",
    "    xgb_md = XGBClassifier(tree_method = 'hist', \n",
    "                           max_depth = xgb_params['max_depth'][0],\n",
    "                           learning_rate = xgb_params['learning_rate'][0],\n",
    "                           n_estimators = xgb_params['n_estimators'][0],\n",
    "                           gamma = xgb_params['gamma'][0],\n",
    "                           min_child_weight = xgb_params['min_child_weight'][0],\n",
    "                           colsample_bytree = xgb_params['colsample_bytree'][0],\n",
    "                           subsample = xgb_params['subsample'][0],\n",
    "                           random_state = i).fit(X, Y)\n",
    "\n",
    "    xgb_pred = xgb_md.predict_proba(woman_test_other)[:, 1]\n",
    "    xgb_preds.append(xgb_pred)\n",
    "\n",
    "##############\n",
    "## LightGBM ##\n",
    "##############\n",
    "\n",
    "lgb_params = pd.read_csv('woman_LightGBM_Phase_2_Others_42_Optuna_Hyperparameters.csv')\n",
    "lgb_preds = list()\n",
    "\n",
    "for i in tqdm(range(20)):\n",
    "    \n",
    "    lgb_md = LGBMClassifier(boosting_type = 'gbdt', \n",
    "                            n_estimators = lgb_params['n_estimators'][0],\n",
    "                            learning_rate = lgb_params['learning_rate'][0],\n",
    "                            max_depth = lgb_params['max_depth'][0],\n",
    "                            lambda_l1 = lgb_params['lambda_l1'][0],\n",
    "                            lambda_l2 = lgb_params['lambda_l2'][0],\n",
    "                            num_leaves = lgb_params['num_leaves'][0],\n",
    "                            bagging_fraction = lgb_params['bagging_fraction'][0],\n",
    "                            feature_fraction = lgb_params['feature_fraction'][0],\n",
    "                            random_state = i).fit(X, Y)\n",
    "\n",
    "    lgb_pred = lgb_md.predict_proba(woman_test_other)[:, 1]\n",
    "    lgb_preds.append(lgb_pred)\n",
    "\n",
    "##################\n",
    "## HistGradient ##\n",
    "##################\n",
    "\n",
    "hist_params = pd.read_csv('woman_Hist_Phase_2_Others_42_Optuna_Hyperparameters.csv')\n",
    "hist_preds = list()\n",
    "\n",
    "for i in tqdm(range(20)):\n",
    "\n",
    "    hist_md = HistGradientBoostingClassifier(l2_regularization = hist_params['l2_regularization'][0],\n",
    "                                             early_stopping = False,\n",
    "                                             learning_rate = hist_params['learning_rate'][0],\n",
    "                                             max_iter = hist_params['max_iter'][0],\n",
    "                                             max_depth = hist_params['max_depth'][0],\n",
    "                                             max_bins = hist_params['max_bins'][0],\n",
    "                                             min_samples_leaf = hist_params['min_samples_leaf'][0],\n",
    "                                             max_leaf_nodes = hist_params['max_leaf_nodes'][0], \n",
    "                                             random_state = i).fit(X, Y)\n",
    "\n",
    "    hist_pred = hist_md.predict_proba(woman_test_other)[:, 1]\n",
    "    hist_preds.append(hist_pred)\n",
    "\n",
    "##############\n",
    "## Ensemble ##\n",
    "##############\n",
    "\n",
    "xgb_pred = pd.DataFrame(xgb_preds).apply(np.mean, axis = 0)\n",
    "lgb_pred = pd.DataFrame(lgb_preds).apply(np.mean, axis = 0)\n",
    "hist_pred = pd.DataFrame(hist_preds).apply(np.mean, axis = 0)\n",
    "\n",
    "ens_pred = (xgb_pred + lgb_pred + hist_pred) / 3\n",
    "woman_pred_other = pd.DataFrame({'ID': woman_test_other_ID, 'Pred': ens_pred})\n",
    "woman_pred_other.head()"
   ]
  },
  {
   "cell_type": "code",
   "execution_count": 14,
   "id": "ae488aeb",
   "metadata": {},
   "outputs": [
    {
     "data": {
      "text/html": [
       "<div>\n",
       "<style scoped>\n",
       "    .dataframe tbody tr th:only-of-type {\n",
       "        vertical-align: middle;\n",
       "    }\n",
       "\n",
       "    .dataframe tbody tr th {\n",
       "        vertical-align: top;\n",
       "    }\n",
       "\n",
       "    .dataframe thead th {\n",
       "        text-align: right;\n",
       "    }\n",
       "</style>\n",
       "<table border=\"1\" class=\"dataframe\">\n",
       "  <thead>\n",
       "    <tr style=\"text-align: right;\">\n",
       "      <th></th>\n",
       "      <th>ID</th>\n",
       "      <th>Pred</th>\n",
       "    </tr>\n",
       "  </thead>\n",
       "  <tbody>\n",
       "    <tr>\n",
       "      <th>0</th>\n",
       "      <td>2023_1101_1102</td>\n",
       "      <td>0.000814</td>\n",
       "    </tr>\n",
       "    <tr>\n",
       "      <th>1</th>\n",
       "      <td>2023_1101_1103</td>\n",
       "      <td>0.000730</td>\n",
       "    </tr>\n",
       "    <tr>\n",
       "      <th>2</th>\n",
       "      <td>2023_1101_1104</td>\n",
       "      <td>0.000457</td>\n",
       "    </tr>\n",
       "    <tr>\n",
       "      <th>3</th>\n",
       "      <td>2023_1101_1105</td>\n",
       "      <td>0.000853</td>\n",
       "    </tr>\n",
       "    <tr>\n",
       "      <th>4</th>\n",
       "      <td>2023_1101_1106</td>\n",
       "      <td>0.999231</td>\n",
       "    </tr>\n",
       "  </tbody>\n",
       "</table>\n",
       "</div>"
      ],
      "text/plain": [
       "               ID      Pred\n",
       "0  2023_1101_1102  0.000814\n",
       "1  2023_1101_1103  0.000730\n",
       "2  2023_1101_1104  0.000457\n",
       "3  2023_1101_1105  0.000853\n",
       "4  2023_1101_1106  0.999231"
      ]
     },
     "execution_count": 14,
     "metadata": {},
     "output_type": "execute_result"
    }
   ],
   "source": [
    "submission = pd.merge(submission, man_pred_other, on = 'ID', how = 'left')\n",
    "submission = pd.merge(submission, woman_pred_other, on = 'ID', how = 'left')\n",
    "submission.columns = ['ID', 'pred1', 'pred2', 'pred3']\n",
    "submission['Pred'] = np.where(np.isnan(submission['pred2']), submission['pred1'], submission['pred2'])\n",
    "submission['Pred'] = np.where(np.isnan(submission['pred3']), submission['Pred'], submission['pred3'])\n",
    "submission.drop(columns = ['pred1', 'pred2', 'pred3'], axis = 1, inplace = True)\n",
    "submission.head()"
   ]
  },
  {
   "cell_type": "code",
   "execution_count": 15,
   "id": "750a6096",
   "metadata": {},
   "outputs": [],
   "source": [
    "submission.to_csv('Fourth_submission.csv', index = False)"
   ]
  }
 ],
 "metadata": {
  "kernelspec": {
   "display_name": "conda_python3",
   "language": "python",
   "name": "conda_python3"
  },
  "language_info": {
   "codemirror_mode": {
    "name": "ipython",
    "version": 3
   },
   "file_extension": ".py",
   "mimetype": "text/x-python",
   "name": "python",
   "nbconvert_exporter": "python",
   "pygments_lexer": "ipython3",
   "version": "3.10.8"
  }
 },
 "nbformat": 4,
 "nbformat_minor": 5
}
