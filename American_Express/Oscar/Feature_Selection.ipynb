{
 "cells": [
  {
   "cell_type": "code",
   "execution_count": 1,
   "id": "bb1bdef0",
   "metadata": {},
   "outputs": [
    {
     "data": {
      "text/html": [
       "<div>\n",
       "<style scoped>\n",
       "    .dataframe tbody tr th:only-of-type {\n",
       "        vertical-align: middle;\n",
       "    }\n",
       "\n",
       "    .dataframe tbody tr th {\n",
       "        vertical-align: top;\n",
       "    }\n",
       "\n",
       "    .dataframe thead th {\n",
       "        text-align: right;\n",
       "    }\n",
       "</style>\n",
       "<table border=\"1\" class=\"dataframe\">\n",
       "  <thead>\n",
       "    <tr style=\"text-align: right;\">\n",
       "      <th></th>\n",
       "      <th>customer_ID</th>\n",
       "      <th>target</th>\n",
       "      <th>D_39_mean</th>\n",
       "      <th>D_39_median</th>\n",
       "      <th>D_39_min</th>\n",
       "      <th>D_39_max</th>\n",
       "      <th>D_39_range</th>\n",
       "      <th>D_39_IQR</th>\n",
       "      <th>D_39_values_above_mean</th>\n",
       "    </tr>\n",
       "  </thead>\n",
       "  <tbody>\n",
       "    <tr>\n",
       "      <th>0</th>\n",
       "      <td>0000099d6bd597052cdcda90ffabf56573fe9d7c79be5f...</td>\n",
       "      <td>0</td>\n",
       "      <td>0.010704</td>\n",
       "      <td>0.002483</td>\n",
       "      <td>0.001082</td>\n",
       "      <td>0.091492</td>\n",
       "      <td>0.090393</td>\n",
       "      <td>0.003593</td>\n",
       "      <td>1.0</td>\n",
       "    </tr>\n",
       "    <tr>\n",
       "      <th>1</th>\n",
       "      <td>00000fd6641609c6ece5454664794f0340ad84dddce9a2...</td>\n",
       "      <td>0</td>\n",
       "      <td>0.215088</td>\n",
       "      <td>0.211670</td>\n",
       "      <td>0.002224</td>\n",
       "      <td>0.567383</td>\n",
       "      <td>0.564941</td>\n",
       "      <td>0.293152</td>\n",
       "      <td>5.0</td>\n",
       "    </tr>\n",
       "    <tr>\n",
       "      <th>2</th>\n",
       "      <td>00001b22f846c82c51f6e3958ccd81970162bae8b007e8...</td>\n",
       "      <td>0</td>\n",
       "      <td>0.004181</td>\n",
       "      <td>0.004230</td>\n",
       "      <td>0.000802</td>\n",
       "      <td>0.009705</td>\n",
       "      <td>0.008904</td>\n",
       "      <td>0.003944</td>\n",
       "      <td>7.0</td>\n",
       "    </tr>\n",
       "    <tr>\n",
       "      <th>3</th>\n",
       "      <td>000041bdba6ecadd89a52d11886e8eaaec9325906c9723...</td>\n",
       "      <td>0</td>\n",
       "      <td>0.048859</td>\n",
       "      <td>0.007423</td>\n",
       "      <td>0.000660</td>\n",
       "      <td>0.268555</td>\n",
       "      <td>0.267822</td>\n",
       "      <td>0.032093</td>\n",
       "      <td>3.0</td>\n",
       "    </tr>\n",
       "    <tr>\n",
       "      <th>4</th>\n",
       "      <td>00007889e4fcd2614b6cbe7f8f3d2e5c728eca32d9eb8a...</td>\n",
       "      <td>0</td>\n",
       "      <td>0.004642</td>\n",
       "      <td>0.004147</td>\n",
       "      <td>0.000030</td>\n",
       "      <td>0.008682</td>\n",
       "      <td>0.008652</td>\n",
       "      <td>0.004740</td>\n",
       "      <td>6.0</td>\n",
       "    </tr>\n",
       "  </tbody>\n",
       "</table>\n",
       "</div>"
      ],
      "text/plain": [
       "                                         customer_ID  target  D_39_mean  \\\n",
       "0  0000099d6bd597052cdcda90ffabf56573fe9d7c79be5f...       0   0.010704   \n",
       "1  00000fd6641609c6ece5454664794f0340ad84dddce9a2...       0   0.215088   \n",
       "2  00001b22f846c82c51f6e3958ccd81970162bae8b007e8...       0   0.004181   \n",
       "3  000041bdba6ecadd89a52d11886e8eaaec9325906c9723...       0   0.048859   \n",
       "4  00007889e4fcd2614b6cbe7f8f3d2e5c728eca32d9eb8a...       0   0.004642   \n",
       "\n",
       "   D_39_median  D_39_min  D_39_max  D_39_range  D_39_IQR  \\\n",
       "0     0.002483  0.001082  0.091492    0.090393  0.003593   \n",
       "1     0.211670  0.002224  0.567383    0.564941  0.293152   \n",
       "2     0.004230  0.000802  0.009705    0.008904  0.003944   \n",
       "3     0.007423  0.000660  0.268555    0.267822  0.032093   \n",
       "4     0.004147  0.000030  0.008682    0.008652  0.004740   \n",
       "\n",
       "   D_39_values_above_mean  \n",
       "0                     1.0  \n",
       "1                     5.0  \n",
       "2                     7.0  \n",
       "3                     3.0  \n",
       "4                     6.0  "
      ]
     },
     "execution_count": 1,
     "metadata": {},
     "output_type": "execute_result"
    }
   ],
   "source": [
    "import pandas as pd\n",
    "import numpy as np\n",
    "from sklearn.model_selection import train_test_split, GridSearchCV\n",
    "from sklearn.feature_selection import RFECV\n",
    "from sklearn.ensemble import RandomForestClassifier\n",
    "from sklearn.metrics import make_scorer\n",
    "from Amex_Metric import amex_metric\n",
    "\n",
    "## Reading data-file \n",
    "data = pd.read_csv('Delinquency_Features.csv')\n",
    "data.head()"
   ]
  },
  {
   "cell_type": "code",
   "execution_count": 2,
   "id": "e4b9b800",
   "metadata": {},
   "outputs": [
    {
     "name": "stdout",
     "output_type": "stream",
     "text": [
      "[Index(['D_39_mean', 'D_39_median', 'D_39_max', 'D_39_range', 'D_39_IQR',\n",
      "       'D_39_values_above_mean'],\n",
      "      dtype='object'), Index(['D_39_mean', 'D_39_median', 'D_39_max', 'D_39_range', 'D_39_IQR',\n",
      "       'D_39_values_above_mean'],\n",
      "      dtype='object')]\n"
     ]
    }
   ],
   "source": [
    "## Defining input and target variables\n",
    "X = data.drop(columns = ['customer_ID', 'target'], axis = 1)\n",
    "Y = data['target']\n",
    "\n",
    "## Spliting the data into train, validation, and test\n",
    "X_train, X_test, Y_train, Y_test = train_test_split(X, Y, test_size = 0.2, stratify = Y)\n",
    "\n",
    "## Defining the customized scoring function \n",
    "amex_function = make_scorer(amex_metric, greater_is_better = True, needs_proba = True)\n",
    "\n",
    "## Defining list to store results\n",
    "features_to_select = list()\n",
    "\n",
    "for i in range(0, 2):\n",
    "\n",
    "    ## Running RFE with Random forest\n",
    "    RF_auto_feature = RFECV(estimator = RandomForestClassifier(n_estimators = 50, max_depth = 5), step = 1, scoring = amex_function, min_features_to_select = 5, cv = 3).fit(X_train, Y_train)\n",
    "    \n",
    "    ## Appending results \n",
    "    features_to_select.append(X_train.columns[RF_auto_feature.support_])\n",
    "    \n",
    "print(features_to_select)"
   ]
  },
  {
   "cell_type": "code",
   "execution_count": 5,
   "id": "9fc593ee",
   "metadata": {},
   "outputs": [
    {
     "data": {
      "text/html": [
       "<div>\n",
       "<style scoped>\n",
       "    .dataframe tbody tr th:only-of-type {\n",
       "        vertical-align: middle;\n",
       "    }\n",
       "\n",
       "    .dataframe tbody tr th {\n",
       "        vertical-align: top;\n",
       "    }\n",
       "\n",
       "    .dataframe thead th {\n",
       "        text-align: right;\n",
       "    }\n",
       "</style>\n",
       "<table border=\"1\" class=\"dataframe\">\n",
       "  <thead>\n",
       "    <tr style=\"text-align: right;\">\n",
       "      <th></th>\n",
       "      <th>0</th>\n",
       "      <th>1</th>\n",
       "      <th>2</th>\n",
       "      <th>3</th>\n",
       "      <th>4</th>\n",
       "      <th>5</th>\n",
       "    </tr>\n",
       "  </thead>\n",
       "  <tbody>\n",
       "    <tr>\n",
       "      <th>0</th>\n",
       "      <td>D_39_mean</td>\n",
       "      <td>D_39_median</td>\n",
       "      <td>D_39_max</td>\n",
       "      <td>D_39_range</td>\n",
       "      <td>D_39_IQR</td>\n",
       "      <td>D_39_values_above_mean</td>\n",
       "    </tr>\n",
       "    <tr>\n",
       "      <th>1</th>\n",
       "      <td>D_39_mean</td>\n",
       "      <td>D_39_median</td>\n",
       "      <td>D_39_max</td>\n",
       "      <td>D_39_range</td>\n",
       "      <td>D_39_IQR</td>\n",
       "      <td>D_39_values_above_mean</td>\n",
       "    </tr>\n",
       "  </tbody>\n",
       "</table>\n",
       "</div>"
      ],
      "text/plain": [
       "           0            1         2           3         4  \\\n",
       "0  D_39_mean  D_39_median  D_39_max  D_39_range  D_39_IQR   \n",
       "1  D_39_mean  D_39_median  D_39_max  D_39_range  D_39_IQR   \n",
       "\n",
       "                        5  \n",
       "0  D_39_values_above_mean  \n",
       "1  D_39_values_above_mean  "
      ]
     },
     "execution_count": 5,
     "metadata": {},
     "output_type": "execute_result"
    }
   ],
   "source": [
    "pd.DataFrame(features_to_select)"
   ]
  },
  {
   "cell_type": "code",
   "execution_count": 6,
   "id": "4eeedf54",
   "metadata": {},
   "outputs": [],
   "source": [
    "features_to_select.append(['X_1', 'X_2', 'X_3', 'X_4', 'X_5', 'X_6', 'X_7'])"
   ]
  },
  {
   "cell_type": "code",
   "execution_count": 8,
   "id": "4f3b07fc",
   "metadata": {},
   "outputs": [
    {
     "data": {
      "text/html": [
       "<div>\n",
       "<style scoped>\n",
       "    .dataframe tbody tr th:only-of-type {\n",
       "        vertical-align: middle;\n",
       "    }\n",
       "\n",
       "    .dataframe tbody tr th {\n",
       "        vertical-align: top;\n",
       "    }\n",
       "\n",
       "    .dataframe thead th {\n",
       "        text-align: right;\n",
       "    }\n",
       "</style>\n",
       "<table border=\"1\" class=\"dataframe\">\n",
       "  <thead>\n",
       "    <tr style=\"text-align: right;\">\n",
       "      <th></th>\n",
       "      <th>0</th>\n",
       "      <th>1</th>\n",
       "      <th>2</th>\n",
       "      <th>3</th>\n",
       "      <th>4</th>\n",
       "      <th>5</th>\n",
       "      <th>6</th>\n",
       "    </tr>\n",
       "  </thead>\n",
       "  <tbody>\n",
       "    <tr>\n",
       "      <th>0</th>\n",
       "      <td>D_39_mean</td>\n",
       "      <td>D_39_median</td>\n",
       "      <td>D_39_max</td>\n",
       "      <td>D_39_range</td>\n",
       "      <td>D_39_IQR</td>\n",
       "      <td>D_39_values_above_mean</td>\n",
       "      <td>None</td>\n",
       "    </tr>\n",
       "    <tr>\n",
       "      <th>1</th>\n",
       "      <td>D_39_mean</td>\n",
       "      <td>D_39_median</td>\n",
       "      <td>D_39_max</td>\n",
       "      <td>D_39_range</td>\n",
       "      <td>D_39_IQR</td>\n",
       "      <td>D_39_values_above_mean</td>\n",
       "      <td>None</td>\n",
       "    </tr>\n",
       "    <tr>\n",
       "      <th>2</th>\n",
       "      <td>X_1</td>\n",
       "      <td>X_2</td>\n",
       "      <td>X_3</td>\n",
       "      <td>X_4</td>\n",
       "      <td>X_5</td>\n",
       "      <td>X_6</td>\n",
       "      <td>X_7</td>\n",
       "    </tr>\n",
       "  </tbody>\n",
       "</table>\n",
       "</div>"
      ],
      "text/plain": [
       "           0            1         2           3         4  \\\n",
       "0  D_39_mean  D_39_median  D_39_max  D_39_range  D_39_IQR   \n",
       "1  D_39_mean  D_39_median  D_39_max  D_39_range  D_39_IQR   \n",
       "2        X_1          X_2       X_3         X_4       X_5   \n",
       "\n",
       "                        5     6  \n",
       "0  D_39_values_above_mean  None  \n",
       "1  D_39_values_above_mean  None  \n",
       "2                     X_6   X_7  "
      ]
     },
     "execution_count": 8,
     "metadata": {},
     "output_type": "execute_result"
    }
   ],
   "source": [
    "pd.DataFrame(features_to_select)"
   ]
  },
  {
   "cell_type": "code",
   "execution_count": 12,
   "id": "b615bdd5",
   "metadata": {},
   "outputs": [
    {
     "data": {
      "text/plain": [
       "array([1, 1, 2, 1, 1, 1, 1])"
      ]
     },
     "execution_count": 12,
     "metadata": {},
     "output_type": "execute_result"
    }
   ],
   "source": [
    "RF_auto_feature.ranking_"
   ]
  },
  {
   "cell_type": "code",
   "execution_count": 13,
   "id": "cde66692",
   "metadata": {},
   "outputs": [
    {
     "data": {
      "text/plain": [
       "array([ True,  True, False,  True,  True,  True,  True])"
      ]
     },
     "execution_count": 13,
     "metadata": {},
     "output_type": "execute_result"
    }
   ],
   "source": [
    "RF_auto_feature.support_"
   ]
  },
  {
   "cell_type": "code",
   "execution_count": 14,
   "id": "7b4ee3a9",
   "metadata": {},
   "outputs": [
    {
     "data": {
      "text/plain": [
       "RFECV(cv=3, estimator=RandomForestClassifier(max_depth=5, n_estimators=50),\n",
       "      min_features_to_select=5,\n",
       "      scoring=make_scorer(amex_metric, needs_proba=True))"
      ]
     },
     "execution_count": 14,
     "metadata": {},
     "output_type": "execute_result"
    }
   ],
   "source": [
    "RF_auto_feature"
   ]
  },
  {
   "cell_type": "code",
   "execution_count": 8,
   "id": "acd91d22",
   "metadata": {},
   "outputs": [
    {
     "name": "stdout",
     "output_type": "stream",
     "text": [
      "Index(['D_39_mean', 'D_39_median', 'D_39_min', 'D_39_max', 'D_39_range',\n",
      "       'D_39_IQR', 'D_39_values_above_mean'],\n",
      "      dtype='object')\n"
     ]
    }
   ],
   "source": [
    "## Identifying important features \n",
    "print(X_train.columns[RF_auto_feature.support_])"
   ]
  },
  {
   "cell_type": "code",
   "execution_count": 15,
   "id": "0fc71edb",
   "metadata": {},
   "outputs": [
    {
     "name": "stdout",
     "output_type": "stream",
     "text": [
      "Index(['D_39_mean', 'D_39_median', 'D_39_max', 'D_39_range', 'D_39_IQR',\n",
      "       'D_39_values_above_mean'],\n",
      "      dtype='object')\n"
     ]
    }
   ],
   "source": [
    "## Identifying important features \n",
    "print(X_train.columns[RF_auto_feature.support_])"
   ]
  },
  {
   "cell_type": "code",
   "execution_count": 10,
   "id": "662d275d",
   "metadata": {},
   "outputs": [
    {
     "data": {
      "text/plain": [
       "(367130, 7)"
      ]
     },
     "execution_count": 10,
     "metadata": {},
     "output_type": "execute_result"
    }
   ],
   "source": [
    "X_train.shape"
   ]
  },
  {
   "cell_type": "code",
   "execution_count": null,
   "id": "f4f40bc1",
   "metadata": {},
   "outputs": [],
   "source": [
    "## Defining input and target variables\n",
    "X = data.drop(columns = ['customer_ID', 'target'], axis = 1)\n",
    "Y = data['target']\n",
    "\n",
    "## Spliting the data into train, validation, and test\n",
    "X_train, X_test, Y_train, Y_test = train_test_split(X, Y, test_size = 0.2, stratify = Y)\n",
    "\n",
    "## Defining hyper-paramerters for RF\n",
    "RF_param_grid = {'n_estimators': [100, 300, 500],\n",
    "                 'min_samples_split': [10, 15],\n",
    "                 'min_samples_leaf': [5, 7],\n",
    "                 'max_depth' : [3, 5, 7]}\n",
    "\n",
    "## Defining the customized scoring function \n",
    "amex_function = make_scorer(amex_metric, greater_is_better = True, needs_proba = True)\n",
    "\n",
    "## Performing grid search\n",
    "RF_grid_search = GridSearchCV(RandomForestClassifier(), RF_param_grid, cv = 3, scoring = amex_function, n_jobs = -1).fit(X_train, Y_train)\n"
   ]
  }
 ],
 "metadata": {
  "kernelspec": {
   "display_name": "conda_python3",
   "language": "python",
   "name": "conda_python3"
  },
  "language_info": {
   "codemirror_mode": {
    "name": "ipython",
    "version": 3
   },
   "file_extension": ".py",
   "mimetype": "text/x-python",
   "name": "python",
   "nbconvert_exporter": "python",
   "pygments_lexer": "ipython3",
   "version": "3.8.12"
  }
 },
 "nbformat": 4,
 "nbformat_minor": 5
}
