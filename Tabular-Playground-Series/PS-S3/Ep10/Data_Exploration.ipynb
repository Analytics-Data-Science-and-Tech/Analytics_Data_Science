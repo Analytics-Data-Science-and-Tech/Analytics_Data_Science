{
 "cells": [
  {
   "cell_type": "code",
   "execution_count": 1,
   "id": "91c6a7c9",
   "metadata": {},
   "outputs": [
    {
     "name": "stdout",
     "output_type": "stream",
     "text": [
      "Looking in indexes: https://pypi.org/simple, https://pip.repos.neuron.amazonaws.com\n",
      "Collecting xgboost\n",
      "  Downloading xgboost-1.7.4-py3-none-manylinux2014_x86_64.whl (193.6 MB)\n",
      "\u001b[2K     \u001b[90m━━━━━━━━━━━━━━━━━━━━━━━━━━━━━━━━━━━━━━━\u001b[0m \u001b[32m193.6/193.6 MB\u001b[0m \u001b[31m4.2 MB/s\u001b[0m eta \u001b[36m0:00:00\u001b[0m00:01\u001b[0m00:01\u001b[0m\n",
      "\u001b[?25hCollecting lightgbm\n",
      "  Downloading lightgbm-3.3.5-py3-none-manylinux1_x86_64.whl (2.0 MB)\n",
      "\u001b[2K     \u001b[90m━━━━━━━━━━━━━━━━━━━━━━━━━━━━━━━━━━━━━━━━\u001b[0m \u001b[32m2.0/2.0 MB\u001b[0m \u001b[31m38.4 MB/s\u001b[0m eta \u001b[36m0:00:00\u001b[0m:00:01\u001b[0m\n",
      "\u001b[?25hCollecting catboost\n",
      "  Downloading catboost-1.1.1-cp310-none-manylinux1_x86_64.whl (76.6 MB)\n",
      "\u001b[2K     \u001b[90m━━━━━━━━━━━━━━━━━━━━━━━━━━━━━━━━━━━━━━━━\u001b[0m \u001b[32m76.6/76.6 MB\u001b[0m \u001b[31m6.3 MB/s\u001b[0m eta \u001b[36m0:00:00\u001b[0m:00:01\u001b[0m00:01\u001b[0m\n",
      "\u001b[?25hCollecting optuna\n",
      "  Downloading optuna-3.1.0-py3-none-any.whl (365 kB)\n",
      "\u001b[2K     \u001b[90m━━━━━━━━━━━━━━━━━━━━━━━━━━━━━━━━━━━━━━\u001b[0m \u001b[32m365.3/365.3 kB\u001b[0m \u001b[31m71.8 MB/s\u001b[0m eta \u001b[36m0:00:00\u001b[0m\n",
      "\u001b[?25hRequirement already satisfied: numpy in /home/ec2-user/anaconda3/envs/python3/lib/python3.10/site-packages (from xgboost) (1.22.3)\n",
      "Requirement already satisfied: scipy in /home/ec2-user/anaconda3/envs/python3/lib/python3.10/site-packages (from xgboost) (1.10.0)\n",
      "Requirement already satisfied: wheel in /home/ec2-user/anaconda3/envs/python3/lib/python3.10/site-packages (from lightgbm) (0.38.4)\n",
      "Requirement already satisfied: scikit-learn!=0.22.0 in /home/ec2-user/anaconda3/envs/python3/lib/python3.10/site-packages (from lightgbm) (1.2.0)\n",
      "Requirement already satisfied: plotly in /home/ec2-user/anaconda3/envs/python3/lib/python3.10/site-packages (from catboost) (5.11.0)\n",
      "Collecting graphviz\n",
      "  Downloading graphviz-0.20.1-py3-none-any.whl (47 kB)\n",
      "\u001b[2K     \u001b[90m━━━━━━━━━━━━━━━━━━━━━━━━━━━━━━━━━━━━━━━━\u001b[0m \u001b[32m47.0/47.0 kB\u001b[0m \u001b[31m14.4 MB/s\u001b[0m eta \u001b[36m0:00:00\u001b[0m\n",
      "\u001b[?25hRequirement already satisfied: six in /home/ec2-user/anaconda3/envs/python3/lib/python3.10/site-packages (from catboost) (1.16.0)\n",
      "Requirement already satisfied: pandas>=0.24.0 in /home/ec2-user/anaconda3/envs/python3/lib/python3.10/site-packages (from catboost) (1.5.2)\n",
      "Requirement already satisfied: matplotlib in /home/ec2-user/anaconda3/envs/python3/lib/python3.10/site-packages (from catboost) (3.6.2)\n",
      "Requirement already satisfied: packaging>=20.0 in /home/ec2-user/anaconda3/envs/python3/lib/python3.10/site-packages (from optuna) (21.3)\n",
      "Requirement already satisfied: PyYAML in /home/ec2-user/anaconda3/envs/python3/lib/python3.10/site-packages (from optuna) (5.4.1)\n",
      "Collecting cmaes>=0.9.1\n",
      "  Downloading cmaes-0.9.1-py3-none-any.whl (21 kB)\n",
      "Collecting colorlog\n",
      "  Downloading colorlog-6.7.0-py2.py3-none-any.whl (11 kB)\n",
      "Requirement already satisfied: tqdm in /home/ec2-user/anaconda3/envs/python3/lib/python3.10/site-packages (from optuna) (4.64.1)\n",
      "Collecting alembic>=1.5.0\n",
      "  Downloading alembic-1.10.2-py3-none-any.whl (212 kB)\n",
      "\u001b[2K     \u001b[90m━━━━━━━━━━━━━━━━━━━━━━━━━━━━━━━━━━━━━━\u001b[0m \u001b[32m212.2/212.2 kB\u001b[0m \u001b[31m47.4 MB/s\u001b[0m eta \u001b[36m0:00:00\u001b[0m\n",
      "\u001b[?25hRequirement already satisfied: sqlalchemy>=1.3.0 in /home/ec2-user/anaconda3/envs/python3/lib/python3.10/site-packages (from optuna) (1.4.46)\n",
      "Collecting Mako\n",
      "  Downloading Mako-1.2.4-py3-none-any.whl (78 kB)\n",
      "\u001b[2K     \u001b[90m━━━━━━━━━━━━━━━━━━━━━━━━━━━━━━━━━━━━━━━━\u001b[0m \u001b[32m78.7/78.7 kB\u001b[0m \u001b[31m22.3 MB/s\u001b[0m eta \u001b[36m0:00:00\u001b[0m\n",
      "\u001b[?25hRequirement already satisfied: typing-extensions>=4 in /home/ec2-user/anaconda3/envs/python3/lib/python3.10/site-packages (from alembic>=1.5.0->optuna) (4.4.0)\n",
      "Requirement already satisfied: pyparsing!=3.0.5,>=2.0.2 in /home/ec2-user/anaconda3/envs/python3/lib/python3.10/site-packages (from packaging>=20.0->optuna) (3.0.9)\n",
      "Requirement already satisfied: python-dateutil>=2.8.1 in /home/ec2-user/anaconda3/envs/python3/lib/python3.10/site-packages (from pandas>=0.24.0->catboost) (2.8.2)\n",
      "Requirement already satisfied: pytz>=2020.1 in /home/ec2-user/anaconda3/envs/python3/lib/python3.10/site-packages (from pandas>=0.24.0->catboost) (2022.7)\n",
      "Requirement already satisfied: joblib>=1.1.1 in /home/ec2-user/anaconda3/envs/python3/lib/python3.10/site-packages (from scikit-learn!=0.22.0->lightgbm) (1.2.0)\n",
      "Requirement already satisfied: threadpoolctl>=2.0.0 in /home/ec2-user/anaconda3/envs/python3/lib/python3.10/site-packages (from scikit-learn!=0.22.0->lightgbm) (3.1.0)\n",
      "Requirement already satisfied: greenlet!=0.4.17 in /home/ec2-user/anaconda3/envs/python3/lib/python3.10/site-packages (from sqlalchemy>=1.3.0->optuna) (2.0.1)\n",
      "Requirement already satisfied: cycler>=0.10 in /home/ec2-user/anaconda3/envs/python3/lib/python3.10/site-packages (from matplotlib->catboost) (0.11.0)\n",
      "Requirement already satisfied: kiwisolver>=1.0.1 in /home/ec2-user/anaconda3/envs/python3/lib/python3.10/site-packages (from matplotlib->catboost) (1.4.4)\n",
      "Requirement already satisfied: contourpy>=1.0.1 in /home/ec2-user/anaconda3/envs/python3/lib/python3.10/site-packages (from matplotlib->catboost) (1.0.6)\n",
      "Requirement already satisfied: fonttools>=4.22.0 in /home/ec2-user/anaconda3/envs/python3/lib/python3.10/site-packages (from matplotlib->catboost) (4.38.0)\n",
      "Requirement already satisfied: pillow>=6.2.0 in /home/ec2-user/anaconda3/envs/python3/lib/python3.10/site-packages (from matplotlib->catboost) (9.4.0)\n",
      "Requirement already satisfied: tenacity>=6.2.0 in /home/ec2-user/anaconda3/envs/python3/lib/python3.10/site-packages (from plotly->catboost) (8.1.0)\n",
      "Requirement already satisfied: MarkupSafe>=0.9.2 in /home/ec2-user/anaconda3/envs/python3/lib/python3.10/site-packages (from Mako->alembic>=1.5.0->optuna) (2.1.1)\n",
      "Installing collected packages: Mako, graphviz, colorlog, cmaes, xgboost, alembic, optuna, lightgbm, catboost\n",
      "Successfully installed Mako-1.2.4 alembic-1.10.2 catboost-1.1.1 cmaes-0.9.1 colorlog-6.7.0 graphviz-0.20.1 lightgbm-3.3.5 optuna-3.1.0 xgboost-1.7.4\n",
      "Note: you may need to restart the kernel to use updated packages.\n"
     ]
    }
   ],
   "source": [
    "pip install xgboost lightgbm catboost optuna "
   ]
  },
  {
   "cell_type": "code",
   "execution_count": 2,
   "id": "bdf847d1",
   "metadata": {},
   "outputs": [],
   "source": [
    "import boto3\n",
    "import pandas as pd; pd.set_option('display.max_columns', 100)\n",
    "import numpy as np\n",
    "\n",
    "from tqdm import tqdm\n",
    "\n",
    "from functools import partial\n",
    "import scipy as sp\n",
    "\n",
    "import matplotlib.pyplot as plt; plt.style.use('ggplot')\n",
    "import seaborn as sns\n",
    "\n",
    "from scipy.stats import rankdata\n",
    "from sklearn.multiclass import OneVsRestClassifier\n",
    "from sklearn.tree import DecisionTreeRegressor, plot_tree\n",
    "from sklearn.preprocessing import MinMaxScaler\n",
    "from sklearn.model_selection import KFold, train_test_split, GridSearchCV, StratifiedKFold, TimeSeriesSplit\n",
    "from sklearn.metrics import mean_squared_error, roc_auc_score\n",
    "from sklearn.neighbors import KNeighborsClassifier\n",
    "from sklearn.ensemble import RandomForestClassifier, RandomForestRegressor, HistGradientBoostingClassifier, HistGradientBoostingRegressor, GradientBoostingClassifier\n",
    "from sklearn.linear_model import LogisticRegression\n",
    "from lightgbm import LGBMClassifier, LGBMRegressor \n",
    "from xgboost import XGBClassifier, XGBRegressor\n",
    "from catboost import CatBoostClassifier, CatBoostRegressor\n",
    "\n",
    "import optuna \n",
    "\n",
    "s3 = boto3.resource('s3')\n",
    "bucket_name = 'analytics-data-science-competitions'\n",
    "bucket = s3.Bucket(bucket_name)\n",
    "\n",
    "file_key_1 = 'Tabular-Playground-Series/PS-S3/Ep10/train.csv'\n",
    "file_key_2 = 'Tabular-Playground-Series/PS-S3/Ep10/test.csv'\n",
    "file_key_3 = 'Tabular-Playground-Series/PS-S3/Ep10/sample_submission.csv'\n",
    "file_key_4 = 'Tabular-Playground-Series/PS-S3/Ep10/Pulsar.csv'\n",
    "\n",
    "bucket_object_1 = bucket.Object(file_key_1)\n",
    "file_object_1 = bucket_object_1.get()\n",
    "file_content_stream_1 = file_object_1.get('Body')\n",
    "\n",
    "bucket_object_2 = bucket.Object(file_key_2)\n",
    "file_object_2 = bucket_object_2.get()\n",
    "file_content_stream_2 = file_object_2.get('Body')\n",
    "\n",
    "bucket_object_3 = bucket.Object(file_key_3)\n",
    "file_object_3 = bucket_object_3.get()\n",
    "file_content_stream_3 = file_object_3.get('Body')\n",
    "\n",
    "bucket_object_4 = bucket.Object(file_key_4)\n",
    "file_object_4 = bucket_object_4.get()\n",
    "file_content_stream_4 = file_object_4.get('Body')\n",
    "\n",
    "## Reading data files\n",
    "train = pd.read_csv(file_content_stream_1)\n",
    "# train.drop(columns = 'id', axis = 1, inplace = True)\n",
    "# train['is_generated'] = 1\n",
    "\n",
    "test = pd.read_csv(file_content_stream_2)\n",
    "# test['is_generated'] = 1\n",
    "\n",
    "submission = pd.read_csv(file_content_stream_3)\n",
    "original = pd.read_csv(file_content_stream_4)\n",
    "# original['is_generated'] = 0\n",
    "\n",
    "# train = pd.concat([train, original], axis = 0)"
   ]
  },
  {
   "cell_type": "code",
   "execution_count": 4,
   "id": "0f15b433",
   "metadata": {},
   "outputs": [
    {
     "data": {
      "text/html": [
       "<div>\n",
       "<style scoped>\n",
       "    .dataframe tbody tr th:only-of-type {\n",
       "        vertical-align: middle;\n",
       "    }\n",
       "\n",
       "    .dataframe tbody tr th {\n",
       "        vertical-align: top;\n",
       "    }\n",
       "\n",
       "    .dataframe thead th {\n",
       "        text-align: right;\n",
       "    }\n",
       "</style>\n",
       "<table border=\"1\" class=\"dataframe\">\n",
       "  <thead>\n",
       "    <tr style=\"text-align: right;\">\n",
       "      <th></th>\n",
       "      <th>id</th>\n",
       "      <th>Mean_Integrated</th>\n",
       "      <th>SD</th>\n",
       "      <th>EK</th>\n",
       "      <th>Skewness</th>\n",
       "      <th>Mean_DMSNR_Curve</th>\n",
       "      <th>SD_DMSNR_Curve</th>\n",
       "      <th>EK_DMSNR_Curve</th>\n",
       "      <th>Skewness_DMSNR_Curve</th>\n",
       "      <th>Class</th>\n",
       "    </tr>\n",
       "  </thead>\n",
       "  <tbody>\n",
       "    <tr>\n",
       "      <th>0</th>\n",
       "      <td>0</td>\n",
       "      <td>133.171875</td>\n",
       "      <td>59.716081</td>\n",
       "      <td>0.043133</td>\n",
       "      <td>-0.703383</td>\n",
       "      <td>54.917224</td>\n",
       "      <td>70.084438</td>\n",
       "      <td>0.749798</td>\n",
       "      <td>-0.649512</td>\n",
       "      <td>0</td>\n",
       "    </tr>\n",
       "    <tr>\n",
       "      <th>1</th>\n",
       "      <td>1</td>\n",
       "      <td>87.093750</td>\n",
       "      <td>36.257973</td>\n",
       "      <td>0.435469</td>\n",
       "      <td>2.266057</td>\n",
       "      <td>3.417224</td>\n",
       "      <td>21.865069</td>\n",
       "      <td>7.039330</td>\n",
       "      <td>52.686251</td>\n",
       "      <td>0</td>\n",
       "    </tr>\n",
       "    <tr>\n",
       "      <th>2</th>\n",
       "      <td>2</td>\n",
       "      <td>112.640625</td>\n",
       "      <td>39.818393</td>\n",
       "      <td>0.379639</td>\n",
       "      <td>0.922306</td>\n",
       "      <td>2.730769</td>\n",
       "      <td>15.689690</td>\n",
       "      <td>8.193471</td>\n",
       "      <td>85.649785</td>\n",
       "      <td>0</td>\n",
       "    </tr>\n",
       "    <tr>\n",
       "      <th>3</th>\n",
       "      <td>3</td>\n",
       "      <td>120.679688</td>\n",
       "      <td>45.918448</td>\n",
       "      <td>-0.098490</td>\n",
       "      <td>0.011775</td>\n",
       "      <td>2.696488</td>\n",
       "      <td>20.954662</td>\n",
       "      <td>8.183874</td>\n",
       "      <td>70.332899</td>\n",
       "      <td>0</td>\n",
       "    </tr>\n",
       "    <tr>\n",
       "      <th>4</th>\n",
       "      <td>4</td>\n",
       "      <td>134.070312</td>\n",
       "      <td>57.720107</td>\n",
       "      <td>-0.107772</td>\n",
       "      <td>-0.573335</td>\n",
       "      <td>1.107860</td>\n",
       "      <td>11.255051</td>\n",
       "      <td>16.107748</td>\n",
       "      <td>308.753765</td>\n",
       "      <td>0</td>\n",
       "    </tr>\n",
       "  </tbody>\n",
       "</table>\n",
       "</div>"
      ],
      "text/plain": [
       "   id  Mean_Integrated         SD        EK  Skewness  Mean_DMSNR_Curve  \\\n",
       "0   0       133.171875  59.716081  0.043133 -0.703383         54.917224   \n",
       "1   1        87.093750  36.257973  0.435469  2.266057          3.417224   \n",
       "2   2       112.640625  39.818393  0.379639  0.922306          2.730769   \n",
       "3   3       120.679688  45.918448 -0.098490  0.011775          2.696488   \n",
       "4   4       134.070312  57.720107 -0.107772 -0.573335          1.107860   \n",
       "\n",
       "   SD_DMSNR_Curve  EK_DMSNR_Curve  Skewness_DMSNR_Curve  Class  \n",
       "0       70.084438        0.749798             -0.649512      0  \n",
       "1       21.865069        7.039330             52.686251      0  \n",
       "2       15.689690        8.193471             85.649785      0  \n",
       "3       20.954662        8.183874             70.332899      0  \n",
       "4       11.255051       16.107748            308.753765      0  "
      ]
     },
     "execution_count": 4,
     "metadata": {},
     "output_type": "execute_result"
    }
   ],
   "source": [
    "train.head()"
   ]
  },
  {
   "cell_type": "code",
   "execution_count": 5,
   "id": "6ed56d91",
   "metadata": {},
   "outputs": [
    {
     "data": {
      "text/html": [
       "<div>\n",
       "<style scoped>\n",
       "    .dataframe tbody tr th:only-of-type {\n",
       "        vertical-align: middle;\n",
       "    }\n",
       "\n",
       "    .dataframe tbody tr th {\n",
       "        vertical-align: top;\n",
       "    }\n",
       "\n",
       "    .dataframe thead th {\n",
       "        text-align: right;\n",
       "    }\n",
       "</style>\n",
       "<table border=\"1\" class=\"dataframe\">\n",
       "  <thead>\n",
       "    <tr style=\"text-align: right;\">\n",
       "      <th></th>\n",
       "      <th>Mean_Integrated</th>\n",
       "      <th>SD</th>\n",
       "      <th>EK</th>\n",
       "      <th>Skewness</th>\n",
       "      <th>Mean_DMSNR_Curve</th>\n",
       "      <th>SD_DMSNR_Curve</th>\n",
       "      <th>EK_DMSNR_Curve</th>\n",
       "      <th>Skewness_DMSNR_Curve</th>\n",
       "      <th>Class</th>\n",
       "    </tr>\n",
       "  </thead>\n",
       "  <tbody>\n",
       "    <tr>\n",
       "      <th>0</th>\n",
       "      <td>140.562500</td>\n",
       "      <td>55.683782</td>\n",
       "      <td>-0.234571</td>\n",
       "      <td>-0.699648</td>\n",
       "      <td>3.199833</td>\n",
       "      <td>19.110426</td>\n",
       "      <td>7.975532</td>\n",
       "      <td>74.242225</td>\n",
       "      <td>0</td>\n",
       "    </tr>\n",
       "    <tr>\n",
       "      <th>1</th>\n",
       "      <td>102.507812</td>\n",
       "      <td>58.882430</td>\n",
       "      <td>0.465318</td>\n",
       "      <td>-0.515088</td>\n",
       "      <td>1.677258</td>\n",
       "      <td>14.860146</td>\n",
       "      <td>10.576487</td>\n",
       "      <td>127.393580</td>\n",
       "      <td>0</td>\n",
       "    </tr>\n",
       "    <tr>\n",
       "      <th>2</th>\n",
       "      <td>103.015625</td>\n",
       "      <td>39.341649</td>\n",
       "      <td>0.323328</td>\n",
       "      <td>1.051164</td>\n",
       "      <td>3.121237</td>\n",
       "      <td>21.744669</td>\n",
       "      <td>7.735822</td>\n",
       "      <td>63.171909</td>\n",
       "      <td>0</td>\n",
       "    </tr>\n",
       "    <tr>\n",
       "      <th>3</th>\n",
       "      <td>136.750000</td>\n",
       "      <td>57.178449</td>\n",
       "      <td>-0.068415</td>\n",
       "      <td>-0.636238</td>\n",
       "      <td>3.642977</td>\n",
       "      <td>20.959280</td>\n",
       "      <td>6.896499</td>\n",
       "      <td>53.593661</td>\n",
       "      <td>0</td>\n",
       "    </tr>\n",
       "    <tr>\n",
       "      <th>4</th>\n",
       "      <td>88.726562</td>\n",
       "      <td>40.672225</td>\n",
       "      <td>0.600866</td>\n",
       "      <td>1.123492</td>\n",
       "      <td>1.178930</td>\n",
       "      <td>11.468720</td>\n",
       "      <td>14.269573</td>\n",
       "      <td>252.567306</td>\n",
       "      <td>0</td>\n",
       "    </tr>\n",
       "  </tbody>\n",
       "</table>\n",
       "</div>"
      ],
      "text/plain": [
       "   Mean_Integrated         SD        EK  Skewness  Mean_DMSNR_Curve  \\\n",
       "0       140.562500  55.683782 -0.234571 -0.699648          3.199833   \n",
       "1       102.507812  58.882430  0.465318 -0.515088          1.677258   \n",
       "2       103.015625  39.341649  0.323328  1.051164          3.121237   \n",
       "3       136.750000  57.178449 -0.068415 -0.636238          3.642977   \n",
       "4        88.726562  40.672225  0.600866  1.123492          1.178930   \n",
       "\n",
       "   SD_DMSNR_Curve  EK_DMSNR_Curve  Skewness_DMSNR_Curve  Class  \n",
       "0       19.110426        7.975532             74.242225      0  \n",
       "1       14.860146       10.576487            127.393580      0  \n",
       "2       21.744669        7.735822             63.171909      0  \n",
       "3       20.959280        6.896499             53.593661      0  \n",
       "4       11.468720       14.269573            252.567306      0  "
      ]
     },
     "execution_count": 5,
     "metadata": {},
     "output_type": "execute_result"
    }
   ],
   "source": [
    "original.head()"
   ]
  },
  {
   "cell_type": "code",
   "execution_count": 4,
   "id": "56c1829b",
   "metadata": {},
   "outputs": [
    {
     "data": {
      "text/html": [
       "<div>\n",
       "<style scoped>\n",
       "    .dataframe tbody tr th:only-of-type {\n",
       "        vertical-align: middle;\n",
       "    }\n",
       "\n",
       "    .dataframe tbody tr th {\n",
       "        vertical-align: top;\n",
       "    }\n",
       "\n",
       "    .dataframe thead th {\n",
       "        text-align: right;\n",
       "    }\n",
       "</style>\n",
       "<table border=\"1\" class=\"dataframe\">\n",
       "  <thead>\n",
       "    <tr style=\"text-align: right;\">\n",
       "      <th></th>\n",
       "      <th>id</th>\n",
       "      <th>Class</th>\n",
       "    </tr>\n",
       "  </thead>\n",
       "  <tbody>\n",
       "    <tr>\n",
       "      <th>0</th>\n",
       "      <td>117564</td>\n",
       "      <td>0.000932</td>\n",
       "    </tr>\n",
       "    <tr>\n",
       "      <th>1</th>\n",
       "      <td>117565</td>\n",
       "      <td>0.001962</td>\n",
       "    </tr>\n",
       "    <tr>\n",
       "      <th>2</th>\n",
       "      <td>117566</td>\n",
       "      <td>0.001121</td>\n",
       "    </tr>\n",
       "    <tr>\n",
       "      <th>3</th>\n",
       "      <td>117567</td>\n",
       "      <td>0.030607</td>\n",
       "    </tr>\n",
       "    <tr>\n",
       "      <th>4</th>\n",
       "      <td>117568</td>\n",
       "      <td>0.003653</td>\n",
       "    </tr>\n",
       "  </tbody>\n",
       "</table>\n",
       "</div>"
      ],
      "text/plain": [
       "       id     Class\n",
       "0  117564  0.000932\n",
       "1  117565  0.001962\n",
       "2  117566  0.001121\n",
       "3  117567  0.030607\n",
       "4  117568  0.003653"
      ]
     },
     "execution_count": 4,
     "metadata": {},
     "output_type": "execute_result"
    }
   ],
   "source": [
    "X = train.drop(columns = ['id', 'Class'], axis = 1)\n",
    "Y = train['Class']\n",
    "\n",
    "test_baseline = test.drop(columns = ['id'], axis = 1)\n",
    "\n",
    "GBC_md = GradientBoostingClassifier(n_estimators = 1000, \n",
    "                                    max_depth = 3, \n",
    "                                    learning_rate = 0.01,\n",
    "                                    min_samples_split = 2,\n",
    "                                    min_samples_leaf = 2).fit(X, Y)\n",
    "\n",
    "GBC_pred = GBC_md.predict_proba(test_baseline)[:, 1]\n",
    "submission['Class'] = GBC_pred\n",
    "submission.head()"
   ]
  },
  {
   "cell_type": "code",
   "execution_count": 24,
   "id": "ef75cca4",
   "metadata": {},
   "outputs": [
    {
     "name": "stdout",
     "output_type": "stream",
     "text": [
      "[LightGBM] [Warning] lambda_l1 is set=3, reg_alpha=0.0 will be ignored. Current value: lambda_l1=3\n",
      "[LightGBM] [Warning] feature_fraction is set=0.7, colsample_bytree=1.0 will be ignored. Current value: feature_fraction=0.7\n",
      "[LightGBM] [Warning] lambda_l2 is set=3, reg_lambda=0.0 will be ignored. Current value: lambda_l2=3\n",
      "[LightGBM] [Warning] bagging_fraction is set=0.7, subsample=1.0 will be ignored. Current value: bagging_fraction=0.7\n"
     ]
    },
    {
     "data": {
      "text/html": [
       "<div>\n",
       "<style scoped>\n",
       "    .dataframe tbody tr th:only-of-type {\n",
       "        vertical-align: middle;\n",
       "    }\n",
       "\n",
       "    .dataframe tbody tr th {\n",
       "        vertical-align: top;\n",
       "    }\n",
       "\n",
       "    .dataframe thead th {\n",
       "        text-align: right;\n",
       "    }\n",
       "</style>\n",
       "<table border=\"1\" class=\"dataframe\">\n",
       "  <thead>\n",
       "    <tr style=\"text-align: right;\">\n",
       "      <th></th>\n",
       "      <th>id</th>\n",
       "      <th>Class</th>\n",
       "    </tr>\n",
       "  </thead>\n",
       "  <tbody>\n",
       "    <tr>\n",
       "      <th>0</th>\n",
       "      <td>117564</td>\n",
       "      <td>0.000077</td>\n",
       "    </tr>\n",
       "    <tr>\n",
       "      <th>1</th>\n",
       "      <td>117565</td>\n",
       "      <td>0.000483</td>\n",
       "    </tr>\n",
       "    <tr>\n",
       "      <th>2</th>\n",
       "      <td>117566</td>\n",
       "      <td>0.000169</td>\n",
       "    </tr>\n",
       "    <tr>\n",
       "      <th>3</th>\n",
       "      <td>117567</td>\n",
       "      <td>0.053104</td>\n",
       "    </tr>\n",
       "    <tr>\n",
       "      <th>4</th>\n",
       "      <td>117568</td>\n",
       "      <td>0.001546</td>\n",
       "    </tr>\n",
       "  </tbody>\n",
       "</table>\n",
       "</div>"
      ],
      "text/plain": [
       "       id     Class\n",
       "0  117564  0.000077\n",
       "1  117565  0.000483\n",
       "2  117566  0.000169\n",
       "3  117567  0.053104\n",
       "4  117568  0.001546"
      ]
     },
     "execution_count": 24,
     "metadata": {},
     "output_type": "execute_result"
    }
   ],
   "source": [
    "X = train.drop(columns = ['id', 'Class'], axis = 1)\n",
    "Y = train['Class']\n",
    "\n",
    "test_baseline = test.drop(columns = ['id'], axis = 1)\n",
    "\n",
    "GBC_md = GradientBoostingClassifier(n_estimators = 1000, \n",
    "                                    max_depth = 3, \n",
    "                                    learning_rate = 0.01,\n",
    "                                    min_samples_split = 2,\n",
    "                                    min_samples_leaf = 2).fit(X, Y)\n",
    "\n",
    "lgb_md = LGBMClassifier(objective = 'binary',\n",
    "                        n_estimators = 1000,\n",
    "                        max_depth = 3,\n",
    "                        learning_rate = 0.01,\n",
    "                        num_leaves = 20,\n",
    "                        lambda_l1 = 3,\n",
    "                        lambda_l2 = 3,\n",
    "                        bagging_fraction = 0.7,\n",
    "                        feature_fraction = 0.7).fit(X, Y)\n",
    "\n",
    "xgb_md = XGBClassifier(tree_method = 'hist',\n",
    "                       colsample_bytree = 0.7, \n",
    "                       gamma = 0.8, \n",
    "                       learning_rate = 0.01, \n",
    "                       max_depth = 7, \n",
    "                       min_child_weight = 10, \n",
    "                       n_estimators = 1000, \n",
    "                       subsample = 0.7).fit(X, Y)\n",
    "\n",
    "cat_md = CatBoostClassifier(loss_function = 'Logloss',\n",
    "                            iterations = 1000,\n",
    "                            learning_rate = 0.01,\n",
    "                            depth = 7,\n",
    "                            random_strength = 0.5,\n",
    "                            bagging_temperature = 0.7,\n",
    "                            border_count = 30,\n",
    "                            l2_leaf_reg = 5,\n",
    "                            verbose = False, \n",
    "                            task_type = 'CPU').fit(X, Y)\n",
    "\n",
    "GBC_pred_train = GBC_md.predict_proba(X)[:, 1]\n",
    "lgb_pred_train = lgb_md.predict_proba(X)[:, 1]\n",
    "xgb_pred_train = xgb_md.predict_proba(X)[:, 1]\n",
    "cat_pred_train = cat_md.predict_proba(X)[:, 1]\n",
    "\n",
    "GBC_pred = GBC_md.predict_proba(test_baseline)[:, 1]\n",
    "lgb_pred = lgb_md.predict_proba(test_baseline)[:, 1]\n",
    "xgb_pred = xgb_md.predict_proba(test_baseline)[:, 1]\n",
    "cat_pred = cat_md.predict_proba(test_baseline)[:, 1]\n",
    "\n",
    "isor = IsotonicRegression(out_of_bounds = 'clip').fit(GBC_pred_train, Y)\n",
    "GBC_pred_calibrated = isor.predict(GBC_pred)\n",
    "\n",
    "isor = IsotonicRegression(out_of_bounds = 'clip').fit(lgb_pred_train, Y)\n",
    "lgb_pred_calibrated = isor.predict(lgb_pred)\n",
    "\n",
    "isor = IsotonicRegression(out_of_bounds = 'clip').fit(xgb_pred_train, Y)\n",
    "xgb_pred_calibrated = isor.predict(xgb_pred)\n",
    "\n",
    "isor = IsotonicRegression(out_of_bounds = 'clip').fit(cat_pred_train, Y)\n",
    "cat_pred_calibrated = isor.predict(lgb_pred)\n",
    "\n",
    "ens_preds = 0.01*GBC_pred_calibrated + 0.34*lgb_pred_calibrated + 0.3*xgb_pred_calibrated + 0.35*cat_pred_calibrated\n",
    "submission['Class'] = ens_preds\n",
    "submission.head()"
   ]
  },
  {
   "cell_type": "code",
   "execution_count": 30,
   "id": "ebbe2b86",
   "metadata": {},
   "outputs": [
    {
     "data": {
      "text/html": [
       "<div>\n",
       "<style scoped>\n",
       "    .dataframe tbody tr th:only-of-type {\n",
       "        vertical-align: middle;\n",
       "    }\n",
       "\n",
       "    .dataframe tbody tr th {\n",
       "        vertical-align: top;\n",
       "    }\n",
       "\n",
       "    .dataframe thead th {\n",
       "        text-align: right;\n",
       "    }\n",
       "</style>\n",
       "<table border=\"1\" class=\"dataframe\">\n",
       "  <thead>\n",
       "    <tr style=\"text-align: right;\">\n",
       "      <th></th>\n",
       "      <th>id</th>\n",
       "      <th>Class</th>\n",
       "    </tr>\n",
       "  </thead>\n",
       "  <tbody>\n",
       "    <tr>\n",
       "      <th>0</th>\n",
       "      <td>117564</td>\n",
       "      <td>0.000100</td>\n",
       "    </tr>\n",
       "    <tr>\n",
       "      <th>1</th>\n",
       "      <td>117565</td>\n",
       "      <td>0.000483</td>\n",
       "    </tr>\n",
       "    <tr>\n",
       "      <th>2</th>\n",
       "      <td>117566</td>\n",
       "      <td>0.000169</td>\n",
       "    </tr>\n",
       "    <tr>\n",
       "      <th>3</th>\n",
       "      <td>117567</td>\n",
       "      <td>0.052751</td>\n",
       "    </tr>\n",
       "    <tr>\n",
       "      <th>4</th>\n",
       "      <td>117568</td>\n",
       "      <td>0.001860</td>\n",
       "    </tr>\n",
       "  </tbody>\n",
       "</table>\n",
       "</div>"
      ],
      "text/plain": [
       "       id     Class\n",
       "0  117564  0.000100\n",
       "1  117565  0.000483\n",
       "2  117566  0.000169\n",
       "3  117567  0.052751\n",
       "4  117568  0.001860"
      ]
     },
     "execution_count": 30,
     "metadata": {},
     "output_type": "execute_result"
    }
   ],
   "source": [
    "ens_preds = 0.15*GBC_pred_calibrated + 0.2*lgb_pred_calibrated + 0.3*xgb_pred_calibrated + 0.35*cat_pred_calibrated\n",
    "submission['Class'] = ens_preds\n",
    "submission.head()"
   ]
  },
  {
   "cell_type": "code",
   "execution_count": 31,
   "id": "1f0b5874",
   "metadata": {},
   "outputs": [
    {
     "data": {
      "image/png": "[encoded data removed]",
      "text/plain": [
       "<Figure size 800x600 with 1 Axes>"
      ]
     },
     "metadata": {},
     "output_type": "display_data"
    }
   ],
   "source": [
    "plt.figure(figsize = (8, 6))\n",
    "sns.histplot(data = ens_preds, kde = True, stat = 'density', log_scale = True).set(title = 'Ensemble Predicted Likelihood in Test');"
   ]
  },
  {
   "cell_type": "code",
   "execution_count": 32,
   "id": "fd91a208",
   "metadata": {},
   "outputs": [],
   "source": [
    "submission.to_csv('Ensemble_Baseline_full_submission_10.csv', index = False)"
   ]
  },
  {
   "cell_type": "code",
   "execution_count": 22,
   "id": "8973ebbb",
   "metadata": {},
   "outputs": [],
   "source": [
    "isor = IsotonicRegression(out_of_bounds = 'clip').fit(GBC_pred_train, Y)\n",
    "GBC_pred_calibrated = isor.predict(GBC_pred)\n",
    "\n",
    "isor = IsotonicRegression(out_of_bounds = 'clip').fit(lgb_pred_train, Y)\n",
    "lgb_pred_calibrated = isor.predict(lgb_pred)\n",
    "\n",
    "isor = IsotonicRegression(out_of_bounds = 'clip').fit(xgb_pred_train, Y)\n",
    "xgb_pred_calibrated = isor.predict(xgb_pred)\n",
    "\n",
    "isor = IsotonicRegression(out_of_bounds = 'clip').fit(cat_pred_train, Y)\n",
    "cat_pred_calibrated = isor.predict(lgb_pred)"
   ]
  },
  {
   "cell_type": "code",
   "execution_count": 19,
   "id": "53462f3c",
   "metadata": {},
   "outputs": [
    {
     "data": {
      "text/plain": [
       "array([9.21147079e-04, 1.98306188e-03, 1.12426229e-03, ...,\n",
       "       9.21147079e-04, 3.31948070e-02, 9.81942141e-01])"
      ]
     },
     "execution_count": 19,
     "metadata": {},
     "output_type": "execute_result"
    }
   ],
   "source": [
    "GBC_pred"
   ]
  },
  {
   "cell_type": "code",
   "execution_count": 20,
   "id": "8f251246",
   "metadata": {},
   "outputs": [
    {
     "data": {
      "image/png": "[encoded data removed]",
      "text/plain": [
       "<Figure size 640x480 with 1 Axes>"
      ]
     },
     "metadata": {},
     "output_type": "display_data"
    }
   ],
   "source": [
    "from sklearn.isotonic import IsotonicRegression\n",
    "from sklearn.calibration import CalibrationDisplay\n",
    "\n",
    "CalibrationDisplay.from_predictions(Y, GBC_pred_train);\n",
    "\n",
    "isor = IsotonicRegression(out_of_bounds = 'clip').fit(GBC_pred_train, Y)\n",
    "GBC_pred_calibrated = isor.predict(GBC_pred)"
   ]
  },
  {
   "cell_type": "code",
   "execution_count": 21,
   "id": "e0c366bd",
   "metadata": {},
   "outputs": [
    {
     "data": {
      "text/plain": [
       "array([1.60307791e-04, 4.55097087e-04, 1.60307791e-04, ...,\n",
       "       1.60307791e-04, 3.39869281e-02, 9.89411765e-01])"
      ]
     },
     "execution_count": 21,
     "metadata": {},
     "output_type": "execute_result"
    }
   ],
   "source": [
    "GBC_pred_calibrated"
   ]
  },
  {
   "cell_type": "code",
   "execution_count": 13,
   "id": "d906d62b",
   "metadata": {},
   "outputs": [
    {
     "data": {
      "image/png": "[encoded data removed]",
      "text/plain": [
       "<Figure size 640x480 with 1 Axes>"
      ]
     },
     "metadata": {},
     "output_type": "display_data"
    }
   ],
   "source": [
    "CalibrationDisplay.from_predictions(Y, lgb_pred_train);"
   ]
  },
  {
   "cell_type": "code",
   "execution_count": 15,
   "id": "d22c8faf",
   "metadata": {},
   "outputs": [
    {
     "data": {
      "image/png": "[encoded data removed]",
      "text/plain": [
       "<Figure size 640x480 with 1 Axes>"
      ]
     },
     "metadata": {},
     "output_type": "display_data"
    }
   ],
   "source": [
    "CalibrationDisplay.from_predictions(Y, xgb_pred_train);"
   ]
  },
  {
   "cell_type": "code",
   "execution_count": 16,
   "id": "42f07ba7",
   "metadata": {},
   "outputs": [
    {
     "data": {
      "image/png": "[encoded data removed]",
      "text/plain": [
       "<Figure size 640x480 with 1 Axes>"
      ]
     },
     "metadata": {},
     "output_type": "display_data"
    }
   ],
   "source": [
    "CalibrationDisplay.from_predictions(Y, cat_pred_train);"
   ]
  },
  {
   "cell_type": "code",
   "execution_count": 8,
   "id": "04b1dec9",
   "metadata": {},
   "outputs": [
    {
     "data": {
      "text/html": [
       "<div>\n",
       "<style scoped>\n",
       "    .dataframe tbody tr th:only-of-type {\n",
       "        vertical-align: middle;\n",
       "    }\n",
       "\n",
       "    .dataframe tbody tr th {\n",
       "        vertical-align: top;\n",
       "    }\n",
       "\n",
       "    .dataframe thead th {\n",
       "        text-align: right;\n",
       "    }\n",
       "</style>\n",
       "<table border=\"1\" class=\"dataframe\">\n",
       "  <thead>\n",
       "    <tr style=\"text-align: right;\">\n",
       "      <th></th>\n",
       "      <th>Mean_Integrated</th>\n",
       "      <th>SD</th>\n",
       "      <th>EK</th>\n",
       "      <th>Skewness</th>\n",
       "      <th>Mean_DMSNR_Curve</th>\n",
       "      <th>SD_DMSNR_Curve</th>\n",
       "      <th>EK_DMSNR_Curve</th>\n",
       "      <th>Skewness_DMSNR_Curve</th>\n",
       "    </tr>\n",
       "  </thead>\n",
       "  <tbody>\n",
       "    <tr>\n",
       "      <th>0</th>\n",
       "      <td>140.046875</td>\n",
       "      <td>54.507800</td>\n",
       "      <td>0.058862</td>\n",
       "      <td>-0.567263</td>\n",
       "      <td>2.337793</td>\n",
       "      <td>14.868335</td>\n",
       "      <td>9.591760</td>\n",
       "      <td>117.988781</td>\n",
       "    </tr>\n",
       "    <tr>\n",
       "      <th>1</th>\n",
       "      <td>107.828125</td>\n",
       "      <td>51.578965</td>\n",
       "      <td>0.284368</td>\n",
       "      <td>-0.338430</td>\n",
       "      <td>1.574415</td>\n",
       "      <td>12.501437</td>\n",
       "      <td>11.694968</td>\n",
       "      <td>182.704822</td>\n",
       "    </tr>\n",
       "    <tr>\n",
       "      <th>2</th>\n",
       "      <td>135.062500</td>\n",
       "      <td>49.812343</td>\n",
       "      <td>-0.087784</td>\n",
       "      <td>-0.094341</td>\n",
       "      <td>3.576923</td>\n",
       "      <td>21.243336</td>\n",
       "      <td>7.252386</td>\n",
       "      <td>59.021499</td>\n",
       "    </tr>\n",
       "    <tr>\n",
       "      <th>3</th>\n",
       "      <td>112.812500</td>\n",
       "      <td>41.926647</td>\n",
       "      <td>0.519921</td>\n",
       "      <td>1.287762</td>\n",
       "      <td>6.669732</td>\n",
       "      <td>29.013153</td>\n",
       "      <td>5.097661</td>\n",
       "      <td>27.105240</td>\n",
       "    </tr>\n",
       "    <tr>\n",
       "      <th>4</th>\n",
       "      <td>96.210938</td>\n",
       "      <td>35.322620</td>\n",
       "      <td>0.481286</td>\n",
       "      <td>2.443080</td>\n",
       "      <td>2.218227</td>\n",
       "      <td>17.041064</td>\n",
       "      <td>9.766006</td>\n",
       "      <td>117.131775</td>\n",
       "    </tr>\n",
       "  </tbody>\n",
       "</table>\n",
       "</div>"
      ],
      "text/plain": [
       "   Mean_Integrated         SD        EK  Skewness  Mean_DMSNR_Curve  \\\n",
       "0       140.046875  54.507800  0.058862 -0.567263          2.337793   \n",
       "1       107.828125  51.578965  0.284368 -0.338430          1.574415   \n",
       "2       135.062500  49.812343 -0.087784 -0.094341          3.576923   \n",
       "3       112.812500  41.926647  0.519921  1.287762          6.669732   \n",
       "4        96.210938  35.322620  0.481286  2.443080          2.218227   \n",
       "\n",
       "   SD_DMSNR_Curve  EK_DMSNR_Curve  Skewness_DMSNR_Curve  \n",
       "0       14.868335        9.591760            117.988781  \n",
       "1       12.501437       11.694968            182.704822  \n",
       "2       21.243336        7.252386             59.021499  \n",
       "3       29.013153        5.097661             27.105240  \n",
       "4       17.041064        9.766006            117.131775  "
      ]
     },
     "execution_count": 8,
     "metadata": {},
     "output_type": "execute_result"
    }
   ],
   "source": [
    "test_baseline.head()"
   ]
  },
  {
   "cell_type": "code",
   "execution_count": 13,
   "id": "ff2be0ac",
   "metadata": {},
   "outputs": [
    {
     "data": {
      "text/html": [
       "<div>\n",
       "<style scoped>\n",
       "    .dataframe tbody tr th:only-of-type {\n",
       "        vertical-align: middle;\n",
       "    }\n",
       "\n",
       "    .dataframe tbody tr th {\n",
       "        vertical-align: top;\n",
       "    }\n",
       "\n",
       "    .dataframe thead th {\n",
       "        text-align: right;\n",
       "    }\n",
       "</style>\n",
       "<table border=\"1\" class=\"dataframe\">\n",
       "  <thead>\n",
       "    <tr style=\"text-align: right;\">\n",
       "      <th></th>\n",
       "      <th>id</th>\n",
       "      <th>Class</th>\n",
       "    </tr>\n",
       "  </thead>\n",
       "  <tbody>\n",
       "    <tr>\n",
       "      <th>0</th>\n",
       "      <td>117564</td>\n",
       "      <td>0.000434</td>\n",
       "    </tr>\n",
       "    <tr>\n",
       "      <th>1</th>\n",
       "      <td>117565</td>\n",
       "      <td>0.001724</td>\n",
       "    </tr>\n",
       "    <tr>\n",
       "      <th>2</th>\n",
       "      <td>117566</td>\n",
       "      <td>0.000556</td>\n",
       "    </tr>\n",
       "    <tr>\n",
       "      <th>3</th>\n",
       "      <td>117567</td>\n",
       "      <td>0.069054</td>\n",
       "    </tr>\n",
       "    <tr>\n",
       "      <th>4</th>\n",
       "      <td>117568</td>\n",
       "      <td>0.004013</td>\n",
       "    </tr>\n",
       "  </tbody>\n",
       "</table>\n",
       "</div>"
      ],
      "text/plain": [
       "       id     Class\n",
       "0  117564  0.000434\n",
       "1  117565  0.001724\n",
       "2  117566  0.000556\n",
       "3  117567  0.069054\n",
       "4  117568  0.004013"
      ]
     },
     "execution_count": 13,
     "metadata": {},
     "output_type": "execute_result"
    }
   ],
   "source": [
    "ens_preds = (GBC_pred + lgb_pred + xgb_pred + cat_pred) / 4\n",
    "submission['Class'] = ens_preds\n",
    "submission.head()"
   ]
  },
  {
   "cell_type": "code",
   "execution_count": 14,
   "id": "8ba6f4b1",
   "metadata": {},
   "outputs": [
    {
     "data": {
      "image/png": "[encoded data removed]",
      "text/plain": [
       "<Figure size 800x600 with 1 Axes>"
      ]
     },
     "metadata": {},
     "output_type": "display_data"
    }
   ],
   "source": [
    "plt.figure(figsize = (8, 6))\n",
    "sns.histplot(data = ens_preds, kde = True, stat = 'density', log_scale = True).set(title = 'Ensemble Predicted Likelihood in Test');"
   ]
  },
  {
   "cell_type": "code",
   "execution_count": 15,
   "id": "f8e1f7fc",
   "metadata": {},
   "outputs": [],
   "source": [
    "submission.to_csv('Ensemble_Baseline_full_submission_7.csv', index = False)"
   ]
  },
  {
   "cell_type": "markdown",
   "id": "928c6771",
   "metadata": {},
   "source": [
    "# GAM"
   ]
  },
  {
   "cell_type": "code",
   "execution_count": 2,
   "id": "51b32b63",
   "metadata": {},
   "outputs": [
    {
     "name": "stdout",
     "output_type": "stream",
     "text": [
      "Looking in indexes: https://pypi.org/simple, https://pip.repos.neuron.amazonaws.com\n",
      "Collecting pygam\n",
      "  Downloading pygam-0.8.0-py2.py3-none-any.whl (1.8 MB)\n",
      "\u001b[2K     \u001b[90m━━━━━━━━━━━━━━━━━━━━━━━━━━━━━━━━━━━━━━━━\u001b[0m \u001b[32m1.8/1.8 MB\u001b[0m \u001b[31m51.6 MB/s\u001b[0m eta \u001b[36m0:00:00\u001b[0m00:01\u001b[0m\n",
      "\u001b[?25hRequirement already satisfied: scipy in /home/ec2-user/anaconda3/envs/python3/lib/python3.10/site-packages (from pygam) (1.10.0)\n",
      "Requirement already satisfied: future in /home/ec2-user/anaconda3/envs/python3/lib/python3.10/site-packages (from pygam) (0.18.2)\n",
      "Collecting progressbar2\n",
      "  Downloading progressbar2-4.2.0-py2.py3-none-any.whl (27 kB)\n",
      "Requirement already satisfied: numpy in /home/ec2-user/anaconda3/envs/python3/lib/python3.10/site-packages (from pygam) (1.22.3)\n",
      "Collecting python-utils>=3.0.0\n",
      "  Downloading python_utils-3.5.2-py2.py3-none-any.whl (24 kB)\n",
      "Installing collected packages: python-utils, progressbar2, pygam\n",
      "Successfully installed progressbar2-4.2.0 pygam-0.8.0 python-utils-3.5.2\n",
      "Note: you may need to restart the kernel to use updated packages.\n"
     ]
    }
   ],
   "source": [
    "pip install pygam"
   ]
  },
  {
   "cell_type": "code",
   "execution_count": 17,
   "id": "78d77349",
   "metadata": {},
   "outputs": [],
   "source": [
    "import boto3\n",
    "import pandas as pd; pd.set_option('display.max_columns', 100)\n",
    "import numpy as np\n",
    "\n",
    "from tqdm import tqdm\n",
    "\n",
    "from functools import partial\n",
    "import scipy as sp\n",
    "\n",
    "import matplotlib.pyplot as plt; plt.style.use('ggplot')\n",
    "import seaborn as sns\n",
    "\n",
    "from scipy.stats import rankdata\n",
    "from sklearn.multiclass import OneVsRestClassifier\n",
    "from sklearn.tree import DecisionTreeRegressor, plot_tree\n",
    "from sklearn.preprocessing import MinMaxScaler\n",
    "from sklearn.model_selection import KFold, train_test_split, GridSearchCV, StratifiedKFold, TimeSeriesSplit\n",
    "from sklearn.metrics import mean_squared_error, roc_auc_score, log_loss\n",
    "from sklearn.neighbors import KNeighborsClassifier\n",
    "from sklearn.ensemble import RandomForestClassifier, RandomForestRegressor, HistGradientBoostingClassifier, HistGradientBoostingRegressor, GradientBoostingClassifier\n",
    "from sklearn.linear_model import LogisticRegression\n",
    "\n",
    "\n",
    "from pygam import LogisticGAM, s, f, te\n",
    "\n",
    "# from lightgbm import LGBMClassifier, LGBMRegressor \n",
    "# from xgboost import XGBClassifier, XGBRegressor\n",
    "# from catboost import CatBoostClassifier, CatBoostRegressor\n",
    "\n",
    "# import optuna \n",
    "\n",
    "s3 = boto3.resource('s3')\n",
    "bucket_name = 'analytics-data-science-competitions'\n",
    "bucket = s3.Bucket(bucket_name)\n",
    "\n",
    "file_key_1 = 'Tabular-Playground-Series/PS-S3/Ep10/train.csv'\n",
    "file_key_2 = 'Tabular-Playground-Series/PS-S3/Ep10/test.csv'\n",
    "file_key_3 = 'Tabular-Playground-Series/PS-S3/Ep10/sample_submission.csv'\n",
    "file_key_4 = 'Tabular-Playground-Series/PS-S3/Ep10/Pulsar.csv'\n",
    "\n",
    "bucket_object_1 = bucket.Object(file_key_1)\n",
    "file_object_1 = bucket_object_1.get()\n",
    "file_content_stream_1 = file_object_1.get('Body')\n",
    "\n",
    "bucket_object_2 = bucket.Object(file_key_2)\n",
    "file_object_2 = bucket_object_2.get()\n",
    "file_content_stream_2 = file_object_2.get('Body')\n",
    "\n",
    "bucket_object_3 = bucket.Object(file_key_3)\n",
    "file_object_3 = bucket_object_3.get()\n",
    "file_content_stream_3 = file_object_3.get('Body')\n",
    "\n",
    "bucket_object_4 = bucket.Object(file_key_4)\n",
    "file_object_4 = bucket_object_4.get()\n",
    "file_content_stream_4 = file_object_4.get('Body')\n",
    "\n",
    "## Reading data files\n",
    "train = pd.read_csv(file_content_stream_1)\n",
    "# train.drop(columns = 'id', axis = 1, inplace = True)\n",
    "# train['is_generated'] = 1\n",
    "\n",
    "test = pd.read_csv(file_content_stream_2)\n",
    "# test['is_generated'] = 1\n",
    "\n",
    "submission = pd.read_csv(file_content_stream_3)\n",
    "original = pd.read_csv(file_content_stream_4)\n",
    "# original['is_generated'] = 0\n",
    "\n",
    "# train = pd.concat([train, original], axis = 0)"
   ]
  },
  {
   "cell_type": "code",
   "execution_count": 7,
   "id": "d4d6aedf",
   "metadata": {},
   "outputs": [
    {
     "data": {
      "text/html": [
       "<div>\n",
       "<style scoped>\n",
       "    .dataframe tbody tr th:only-of-type {\n",
       "        vertical-align: middle;\n",
       "    }\n",
       "\n",
       "    .dataframe tbody tr th {\n",
       "        vertical-align: top;\n",
       "    }\n",
       "\n",
       "    .dataframe thead th {\n",
       "        text-align: right;\n",
       "    }\n",
       "</style>\n",
       "<table border=\"1\" class=\"dataframe\">\n",
       "  <thead>\n",
       "    <tr style=\"text-align: right;\">\n",
       "      <th></th>\n",
       "      <th>id</th>\n",
       "      <th>Mean_Integrated</th>\n",
       "      <th>SD</th>\n",
       "      <th>EK</th>\n",
       "      <th>Skewness</th>\n",
       "      <th>Mean_DMSNR_Curve</th>\n",
       "      <th>SD_DMSNR_Curve</th>\n",
       "      <th>EK_DMSNR_Curve</th>\n",
       "      <th>Skewness_DMSNR_Curve</th>\n",
       "      <th>Class</th>\n",
       "    </tr>\n",
       "  </thead>\n",
       "  <tbody>\n",
       "    <tr>\n",
       "      <th>0</th>\n",
       "      <td>0</td>\n",
       "      <td>133.171875</td>\n",
       "      <td>59.716081</td>\n",
       "      <td>0.043133</td>\n",
       "      <td>-0.703383</td>\n",
       "      <td>54.917224</td>\n",
       "      <td>70.084438</td>\n",
       "      <td>0.749798</td>\n",
       "      <td>-0.649512</td>\n",
       "      <td>0</td>\n",
       "    </tr>\n",
       "    <tr>\n",
       "      <th>1</th>\n",
       "      <td>1</td>\n",
       "      <td>87.093750</td>\n",
       "      <td>36.257973</td>\n",
       "      <td>0.435469</td>\n",
       "      <td>2.266057</td>\n",
       "      <td>3.417224</td>\n",
       "      <td>21.865069</td>\n",
       "      <td>7.039330</td>\n",
       "      <td>52.686251</td>\n",
       "      <td>0</td>\n",
       "    </tr>\n",
       "    <tr>\n",
       "      <th>2</th>\n",
       "      <td>2</td>\n",
       "      <td>112.640625</td>\n",
       "      <td>39.818393</td>\n",
       "      <td>0.379639</td>\n",
       "      <td>0.922306</td>\n",
       "      <td>2.730769</td>\n",
       "      <td>15.689690</td>\n",
       "      <td>8.193471</td>\n",
       "      <td>85.649785</td>\n",
       "      <td>0</td>\n",
       "    </tr>\n",
       "    <tr>\n",
       "      <th>3</th>\n",
       "      <td>3</td>\n",
       "      <td>120.679688</td>\n",
       "      <td>45.918448</td>\n",
       "      <td>-0.098490</td>\n",
       "      <td>0.011775</td>\n",
       "      <td>2.696488</td>\n",
       "      <td>20.954662</td>\n",
       "      <td>8.183874</td>\n",
       "      <td>70.332899</td>\n",
       "      <td>0</td>\n",
       "    </tr>\n",
       "    <tr>\n",
       "      <th>4</th>\n",
       "      <td>4</td>\n",
       "      <td>134.070312</td>\n",
       "      <td>57.720107</td>\n",
       "      <td>-0.107772</td>\n",
       "      <td>-0.573335</td>\n",
       "      <td>1.107860</td>\n",
       "      <td>11.255051</td>\n",
       "      <td>16.107748</td>\n",
       "      <td>308.753765</td>\n",
       "      <td>0</td>\n",
       "    </tr>\n",
       "  </tbody>\n",
       "</table>\n",
       "</div>"
      ],
      "text/plain": [
       "   id  Mean_Integrated         SD        EK  Skewness  Mean_DMSNR_Curve  \\\n",
       "0   0       133.171875  59.716081  0.043133 -0.703383         54.917224   \n",
       "1   1        87.093750  36.257973  0.435469  2.266057          3.417224   \n",
       "2   2       112.640625  39.818393  0.379639  0.922306          2.730769   \n",
       "3   3       120.679688  45.918448 -0.098490  0.011775          2.696488   \n",
       "4   4       134.070312  57.720107 -0.107772 -0.573335          1.107860   \n",
       "\n",
       "   SD_DMSNR_Curve  EK_DMSNR_Curve  Skewness_DMSNR_Curve  Class  \n",
       "0       70.084438        0.749798             -0.649512      0  \n",
       "1       21.865069        7.039330             52.686251      0  \n",
       "2       15.689690        8.193471             85.649785      0  \n",
       "3       20.954662        8.183874             70.332899      0  \n",
       "4       11.255051       16.107748            308.753765      0  "
      ]
     },
     "execution_count": 7,
     "metadata": {},
     "output_type": "execute_result"
    }
   ],
   "source": [
    "train.head()"
   ]
  },
  {
   "cell_type": "code",
   "execution_count": 8,
   "id": "7efa789e",
   "metadata": {},
   "outputs": [
    {
     "data": {
      "text/html": [
       "<div>\n",
       "<style scoped>\n",
       "    .dataframe tbody tr th:only-of-type {\n",
       "        vertical-align: middle;\n",
       "    }\n",
       "\n",
       "    .dataframe tbody tr th {\n",
       "        vertical-align: top;\n",
       "    }\n",
       "\n",
       "    .dataframe thead th {\n",
       "        text-align: right;\n",
       "    }\n",
       "</style>\n",
       "<table border=\"1\" class=\"dataframe\">\n",
       "  <thead>\n",
       "    <tr style=\"text-align: right;\">\n",
       "      <th></th>\n",
       "      <th>Mean_Integrated</th>\n",
       "      <th>SD</th>\n",
       "      <th>EK</th>\n",
       "      <th>Skewness</th>\n",
       "      <th>Mean_DMSNR_Curve</th>\n",
       "      <th>SD_DMSNR_Curve</th>\n",
       "      <th>EK_DMSNR_Curve</th>\n",
       "      <th>Skewness_DMSNR_Curve</th>\n",
       "    </tr>\n",
       "  </thead>\n",
       "  <tbody>\n",
       "    <tr>\n",
       "      <th>0</th>\n",
       "      <td>133.171875</td>\n",
       "      <td>59.716081</td>\n",
       "      <td>0.043133</td>\n",
       "      <td>-0.703383</td>\n",
       "      <td>54.917224</td>\n",
       "      <td>70.084438</td>\n",
       "      <td>0.749798</td>\n",
       "      <td>-0.649512</td>\n",
       "    </tr>\n",
       "    <tr>\n",
       "      <th>1</th>\n",
       "      <td>87.093750</td>\n",
       "      <td>36.257973</td>\n",
       "      <td>0.435469</td>\n",
       "      <td>2.266057</td>\n",
       "      <td>3.417224</td>\n",
       "      <td>21.865069</td>\n",
       "      <td>7.039330</td>\n",
       "      <td>52.686251</td>\n",
       "    </tr>\n",
       "    <tr>\n",
       "      <th>2</th>\n",
       "      <td>112.640625</td>\n",
       "      <td>39.818393</td>\n",
       "      <td>0.379639</td>\n",
       "      <td>0.922306</td>\n",
       "      <td>2.730769</td>\n",
       "      <td>15.689690</td>\n",
       "      <td>8.193471</td>\n",
       "      <td>85.649785</td>\n",
       "    </tr>\n",
       "    <tr>\n",
       "      <th>3</th>\n",
       "      <td>120.679688</td>\n",
       "      <td>45.918448</td>\n",
       "      <td>-0.098490</td>\n",
       "      <td>0.011775</td>\n",
       "      <td>2.696488</td>\n",
       "      <td>20.954662</td>\n",
       "      <td>8.183874</td>\n",
       "      <td>70.332899</td>\n",
       "    </tr>\n",
       "    <tr>\n",
       "      <th>4</th>\n",
       "      <td>134.070312</td>\n",
       "      <td>57.720107</td>\n",
       "      <td>-0.107772</td>\n",
       "      <td>-0.573335</td>\n",
       "      <td>1.107860</td>\n",
       "      <td>11.255051</td>\n",
       "      <td>16.107748</td>\n",
       "      <td>308.753765</td>\n",
       "    </tr>\n",
       "  </tbody>\n",
       "</table>\n",
       "</div>"
      ],
      "text/plain": [
       "   Mean_Integrated         SD        EK  Skewness  Mean_DMSNR_Curve  \\\n",
       "0       133.171875  59.716081  0.043133 -0.703383         54.917224   \n",
       "1        87.093750  36.257973  0.435469  2.266057          3.417224   \n",
       "2       112.640625  39.818393  0.379639  0.922306          2.730769   \n",
       "3       120.679688  45.918448 -0.098490  0.011775          2.696488   \n",
       "4       134.070312  57.720107 -0.107772 -0.573335          1.107860   \n",
       "\n",
       "   SD_DMSNR_Curve  EK_DMSNR_Curve  Skewness_DMSNR_Curve  \n",
       "0       70.084438        0.749798             -0.649512  \n",
       "1       21.865069        7.039330             52.686251  \n",
       "2       15.689690        8.193471             85.649785  \n",
       "3       20.954662        8.183874             70.332899  \n",
       "4       11.255051       16.107748            308.753765  "
      ]
     },
     "execution_count": 8,
     "metadata": {},
     "output_type": "execute_result"
    }
   ],
   "source": [
    "X = train.drop(columns = ['id', 'Class'], axis = 1)\n",
    "X.head()"
   ]
  },
  {
   "cell_type": "code",
   "execution_count": 44,
   "id": "c7c179f1",
   "metadata": {},
   "outputs": [
    {
     "name": "stderr",
     "output_type": "stream",
     "text": [
      "/home/ec2-user/anaconda3/envs/python3/lib/python3.10/site-packages/pygam/links.py:149: RuntimeWarning: divide by zero encountered in true_divide\n",
      "  return dist.levels/(mu*(dist.levels - mu))\n",
      "/home/ec2-user/anaconda3/envs/python3/lib/python3.10/site-packages/pygam/pygam.py:752: RuntimeWarning: divide by zero encountered in reciprocal\n",
      "  np.fill_diagonal(Dinv, d**-1) # invert the singular values\n",
      "/home/ec2-user/anaconda3/envs/python3/lib/python3.10/site-packages/pygam/links.py:149: RuntimeWarning: divide by zero encountered in true_divide\n",
      "  return dist.levels/(mu*(dist.levels - mu))\n",
      "/home/ec2-user/anaconda3/envs/python3/lib/python3.10/site-packages/pygam/pygam.py:752: RuntimeWarning: divide by zero encountered in reciprocal\n",
      "  np.fill_diagonal(Dinv, d**-1) # invert the singular values\n",
      "/home/ec2-user/anaconda3/envs/python3/lib/python3.10/site-packages/pygam/links.py:149: RuntimeWarning: divide by zero encountered in true_divide\n",
      "  return dist.levels/(mu*(dist.levels - mu))\n",
      "/home/ec2-user/anaconda3/envs/python3/lib/python3.10/site-packages/pygam/pygam.py:752: RuntimeWarning: divide by zero encountered in reciprocal\n",
      "  np.fill_diagonal(Dinv, d**-1) # invert the singular values\n",
      "/home/ec2-user/anaconda3/envs/python3/lib/python3.10/site-packages/pygam/links.py:149: RuntimeWarning: divide by zero encountered in true_divide\n",
      "  return dist.levels/(mu*(dist.levels - mu))\n",
      "/home/ec2-user/anaconda3/envs/python3/lib/python3.10/site-packages/pygam/pygam.py:752: RuntimeWarning: divide by zero encountered in reciprocal\n",
      "  np.fill_diagonal(Dinv, d**-1) # invert the singular values\n",
      "/home/ec2-user/anaconda3/envs/python3/lib/python3.10/site-packages/pygam/links.py:149: RuntimeWarning: divide by zero encountered in true_divide\n",
      "  return dist.levels/(mu*(dist.levels - mu))\n",
      "/home/ec2-user/anaconda3/envs/python3/lib/python3.10/site-packages/pygam/pygam.py:752: RuntimeWarning: divide by zero encountered in reciprocal\n",
      "  np.fill_diagonal(Dinv, d**-1) # invert the singular values\n"
     ]
    }
   ],
   "source": [
    "X = train.drop(columns = ['id', 'Class'], axis = 1)\n",
    "Y = train['Class']\n",
    "\n",
    "test_baseline = test.drop(columns = ['id'], axis = 1)\n",
    "\n",
    "cv_scores, log_loss_scores = list(), list()\n",
    "preds = list()\n",
    "\n",
    "skf = StratifiedKFold(n_splits = 5, random_state = 42, shuffle = True)\n",
    "    \n",
    "for train_ix, test_ix in skf.split(X, Y):\n",
    "        \n",
    "    ## Splitting the data \n",
    "    X_train, X_test = X.iloc[train_ix], X.iloc[test_ix]\n",
    "    Y_train, Y_test = Y.iloc[train_ix], Y.iloc[test_ix]\n",
    "\n",
    "    ## Building the GAM model\n",
    "#     gam_md = LogisticGAM(s(0) +\n",
    "#                          s(1) +\n",
    "#                          s(2) +\n",
    "#                          s(3) +\n",
    "#                          s(4) +\n",
    "#                          s(5) +\n",
    "#                          s(6) +\n",
    "#                          s(7) +\n",
    "#                          te(2, 6) +\n",
    "#                          te(1, 5) +\n",
    "#                          te(3, 7)).fit(X_train, Y_train)\n",
    "    gam_md = LogisticGAM(s(0, n_splines = 20) +\n",
    "                         s(1) +\n",
    "                         s(2, n_splines = 30) +\n",
    "                         s(3) +\n",
    "                         s(4) +\n",
    "                         s(5) +\n",
    "                         s(6) +\n",
    "                         s(7) + \n",
    "                         te(2, 6) +\n",
    "                         te(1, 5)).fit(X_train, Y_train)\n",
    "\n",
    "    ## Predicting on X_test and test\n",
    "    gam_pred_1 = gam_md.predict_proba(X_test)\n",
    "    gam_pred_2 = gam_md.predict_proba(test_baseline)\n",
    "    \n",
    "    log_loss_scores.append(log_loss(Y_test, gam_pred_1))\n",
    "    preds.append(gam_pred_2)"
   ]
  },
  {
   "cell_type": "code",
   "execution_count": 20,
   "id": "b528c516",
   "metadata": {},
   "outputs": [
    {
     "data": {
      "text/plain": [
       "0.032662114444624"
      ]
     },
     "execution_count": 20,
     "metadata": {},
     "output_type": "execute_result"
    }
   ],
   "source": [
    "np.mean(log_loss_scores)"
   ]
  },
  {
   "cell_type": "code",
   "execution_count": 22,
   "id": "b36d6697",
   "metadata": {},
   "outputs": [
    {
     "data": {
      "text/plain": [
       "0.032629624669720594"
      ]
     },
     "execution_count": 22,
     "metadata": {},
     "output_type": "execute_result"
    }
   ],
   "source": [
    "np.mean(log_loss_scores)"
   ]
  },
  {
   "cell_type": "code",
   "execution_count": 24,
   "id": "5f25b431",
   "metadata": {},
   "outputs": [
    {
     "data": {
      "text/plain": [
       "0.03296800269287657"
      ]
     },
     "execution_count": 24,
     "metadata": {},
     "output_type": "execute_result"
    }
   ],
   "source": [
    "np.mean(log_loss_scores)"
   ]
  },
  {
   "cell_type": "code",
   "execution_count": 26,
   "id": "d2238fdf",
   "metadata": {},
   "outputs": [
    {
     "data": {
      "text/plain": [
       "0.03168510181995954"
      ]
     },
     "execution_count": 26,
     "metadata": {},
     "output_type": "execute_result"
    }
   ],
   "source": [
    "np.mean(log_loss_scores)"
   ]
  },
  {
   "cell_type": "code",
   "execution_count": 29,
   "id": "0e35c0a6",
   "metadata": {},
   "outputs": [
    {
     "data": {
      "text/plain": [
       "0.03166566715700558"
      ]
     },
     "execution_count": 29,
     "metadata": {},
     "output_type": "execute_result"
    }
   ],
   "source": [
    "np.mean(log_loss_scores)"
   ]
  },
  {
   "cell_type": "code",
   "execution_count": 38,
   "id": "6a0d3ae0",
   "metadata": {},
   "outputs": [
    {
     "data": {
      "text/plain": [
       "0.03166566715700558"
      ]
     },
     "execution_count": 38,
     "metadata": {},
     "output_type": "execute_result"
    }
   ],
   "source": [
    "np.mean(log_loss_scores)"
   ]
  },
  {
   "cell_type": "code",
   "execution_count": 40,
   "id": "09d70b0b",
   "metadata": {},
   "outputs": [
    {
     "data": {
      "text/plain": [
       "0.03165724499582471"
      ]
     },
     "execution_count": 40,
     "metadata": {},
     "output_type": "execute_result"
    }
   ],
   "source": [
    "np.mean(log_loss_scores)"
   ]
  },
  {
   "cell_type": "code",
   "execution_count": 45,
   "id": "b7083795",
   "metadata": {},
   "outputs": [
    {
     "data": {
      "text/plain": [
       "0.03165724499582471"
      ]
     },
     "execution_count": 45,
     "metadata": {},
     "output_type": "execute_result"
    }
   ],
   "source": [
    "np.mean(log_loss_scores)"
   ]
  },
  {
   "cell_type": "code",
   "execution_count": 46,
   "id": "51811d09",
   "metadata": {},
   "outputs": [
    {
     "data": {
      "text/html": [
       "<div>\n",
       "<style scoped>\n",
       "    .dataframe tbody tr th:only-of-type {\n",
       "        vertical-align: middle;\n",
       "    }\n",
       "\n",
       "    .dataframe tbody tr th {\n",
       "        vertical-align: top;\n",
       "    }\n",
       "\n",
       "    .dataframe thead th {\n",
       "        text-align: right;\n",
       "    }\n",
       "</style>\n",
       "<table border=\"1\" class=\"dataframe\">\n",
       "  <thead>\n",
       "    <tr style=\"text-align: right;\">\n",
       "      <th></th>\n",
       "      <th>id</th>\n",
       "      <th>Class</th>\n",
       "    </tr>\n",
       "  </thead>\n",
       "  <tbody>\n",
       "    <tr>\n",
       "      <th>0</th>\n",
       "      <td>117564</td>\n",
       "      <td>0.000066</td>\n",
       "    </tr>\n",
       "    <tr>\n",
       "      <th>1</th>\n",
       "      <td>117565</td>\n",
       "      <td>0.000762</td>\n",
       "    </tr>\n",
       "    <tr>\n",
       "      <th>2</th>\n",
       "      <td>117566</td>\n",
       "      <td>0.000080</td>\n",
       "    </tr>\n",
       "    <tr>\n",
       "      <th>3</th>\n",
       "      <td>117567</td>\n",
       "      <td>0.041975</td>\n",
       "    </tr>\n",
       "    <tr>\n",
       "      <th>4</th>\n",
       "      <td>117568</td>\n",
       "      <td>0.001889</td>\n",
       "    </tr>\n",
       "  </tbody>\n",
       "</table>\n",
       "</div>"
      ],
      "text/plain": [
       "       id     Class\n",
       "0  117564  0.000066\n",
       "1  117565  0.000762\n",
       "2  117566  0.000080\n",
       "3  117567  0.041975\n",
       "4  117568  0.001889"
      ]
     },
     "execution_count": 46,
     "metadata": {},
     "output_type": "execute_result"
    }
   ],
   "source": [
    "ens_preds_test = pd.DataFrame(preds).apply(np.mean, axis = 0)\n",
    "submission['Class'] = ens_preds_test\n",
    "submission.head()"
   ]
  },
  {
   "cell_type": "code",
   "execution_count": 47,
   "id": "c88f3211",
   "metadata": {},
   "outputs": [],
   "source": [
    "submission.to_csv('GAM_Baseline_submission.csv', index = False)"
   ]
  }
 ],
 "metadata": {
  "kernelspec": {
   "display_name": "conda_python3",
   "language": "python",
   "name": "conda_python3"
  },
  "language_info": {
   "codemirror_mode": {
    "name": "ipython",
    "version": 3
   },
   "file_extension": ".py",
   "mimetype": "text/x-python",
   "name": "python",
   "nbconvert_exporter": "python",
   "pygments_lexer": "ipython3",
   "version": "3.10.8"
  }
 },
 "nbformat": 4,
 "nbformat_minor": 5
}
