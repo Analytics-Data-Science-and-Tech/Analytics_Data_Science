{
 "cells": [
  {
   "cell_type": "code",
   "execution_count": 7,
   "id": "b2e6e93e",
   "metadata": {},
   "outputs": [],
   "source": [
    "import boto3\n",
    "import pandas as pd; pd.set_option('display.max_columns', 50)\n",
    "import numpy as np\n",
    "import matplotlib.pyplot as plt\n",
    "from sklearn.preprocessing import MinMaxScaler\n",
    "from sklearn.model_selection import train_test_split, GridSearchCV\n",
    "from sklearn.ensemble import RandomForestRegressor\n",
    "\n",
    "## Defining the bucket \n",
    "s3 = boto3.resource('s3')\n",
    "bucket_name = 'analytics-data-science-competitions'\n",
    "bucket = s3.Bucket(bucket_name)\n",
    "\n",
    "## Defining the csv file \n",
    "file_key_train = 'Forecasting-Flow-Traffic/train.csv'\n",
    "file_key_test = 'Forecasting-Flow-Traffic/test.csv'\n",
    "\n",
    "bucket_object_train = bucket.Object(file_key_train)\n",
    "file_object_train = bucket_object_train.get()\n",
    "file_content_stream_train = file_object_train.get('Body')\n",
    "\n",
    "bucket_object_test = bucket.Object(file_key_test)\n",
    "file_object_test = bucket_object_test.get()\n",
    "file_content_stream_test = file_object_test.get('Body')\n",
    "\n",
    "## Reading the csv file\n",
    "train = pd.read_csv(file_content_stream_train)\n",
    "test = pd.read_csv(file_content_stream_test)\n",
    "\n",
    "## Puting time in the right format \n",
    "train['time'] = pd.to_datetime(train['time'], format = '%Y-%m-%d %H:%M:%S')\n",
    "test['time'] = pd.to_datetime(test['time'], format = '%Y-%m-%d %H:%M:%S')"
   ]
  },
  {
   "cell_type": "markdown",
   "id": "8ffceaba",
   "metadata": {},
   "source": [
    "## Quick Distribution Comparisons"
   ]
  },
  {
   "cell_type": "code",
   "execution_count": 9,
   "id": "24fc9152",
   "metadata": {},
   "outputs": [
    {
     "data": {
      "text/plain": [
       "SB    156708\n",
       "NB    156708\n",
       "EB    156708\n",
       "WB    143649\n",
       "SW     91413\n",
       "NE     91413\n",
       "SE     26118\n",
       "NW     26118\n",
       "Name: direction, dtype: int64"
      ]
     },
     "execution_count": 9,
     "metadata": {},
     "output_type": "execute_result"
    }
   ],
   "source": [
    "train['direction'].value_counts()"
   ]
  },
  {
   "cell_type": "code",
   "execution_count": 10,
   "id": "0a9738fe",
   "metadata": {},
   "outputs": [
    {
     "data": {
      "text/plain": [
       "EB    432\n",
       "NB    432\n",
       "SB    432\n",
       "WB    396\n",
       "SW    252\n",
       "NE    252\n",
       "NW     72\n",
       "SE     72\n",
       "Name: direction, dtype: int64"
      ]
     },
     "execution_count": 10,
     "metadata": {},
     "output_type": "execute_result"
    }
   ],
   "source": [
    "test['direction'].value_counts()"
   ]
  },
  {
   "cell_type": "code",
   "execution_count": 12,
   "id": "bfddf0f6",
   "metadata": {},
   "outputs": [
    {
     "data": {
      "text/plain": [
       "0        1991-04-01 00:00:00\n",
       "1        1991-04-01 00:00:00\n",
       "2        1991-04-01 00:00:00\n",
       "3        1991-04-01 00:00:00\n",
       "4        1991-04-01 00:00:00\n",
       "                 ...        \n",
       "848830   1991-09-30 11:40:00\n",
       "848831   1991-09-30 11:40:00\n",
       "848832   1991-09-30 11:40:00\n",
       "848833   1991-09-30 11:40:00\n",
       "848834   1991-09-30 11:40:00\n",
       "Name: time, Length: 848835, dtype: datetime64[ns]"
      ]
     },
     "execution_count": 12,
     "metadata": {},
     "output_type": "execute_result"
    }
   ],
   "source": [
    "train['time']"
   ]
  },
  {
   "cell_type": "code",
   "execution_count": 4,
   "id": "68836d0f",
   "metadata": {},
   "outputs": [
    {
     "data": {
      "text/html": [
       "<div>\n",
       "<style scoped>\n",
       "    .dataframe tbody tr th:only-of-type {\n",
       "        vertical-align: middle;\n",
       "    }\n",
       "\n",
       "    .dataframe tbody tr th {\n",
       "        vertical-align: top;\n",
       "    }\n",
       "\n",
       "    .dataframe thead th {\n",
       "        text-align: right;\n",
       "    }\n",
       "</style>\n",
       "<table border=\"1\" class=\"dataframe\">\n",
       "  <thead>\n",
       "    <tr style=\"text-align: right;\">\n",
       "      <th></th>\n",
       "      <th>row_id</th>\n",
       "      <th>time</th>\n",
       "      <th>x</th>\n",
       "      <th>y</th>\n",
       "      <th>direction</th>\n",
       "    </tr>\n",
       "  </thead>\n",
       "  <tbody>\n",
       "    <tr>\n",
       "      <th>0</th>\n",
       "      <td>848835</td>\n",
       "      <td>1991-09-30 12:00:00</td>\n",
       "      <td>0</td>\n",
       "      <td>0</td>\n",
       "      <td>EB</td>\n",
       "    </tr>\n",
       "    <tr>\n",
       "      <th>1</th>\n",
       "      <td>848836</td>\n",
       "      <td>1991-09-30 12:00:00</td>\n",
       "      <td>0</td>\n",
       "      <td>0</td>\n",
       "      <td>NB</td>\n",
       "    </tr>\n",
       "    <tr>\n",
       "      <th>2</th>\n",
       "      <td>848837</td>\n",
       "      <td>1991-09-30 12:00:00</td>\n",
       "      <td>0</td>\n",
       "      <td>0</td>\n",
       "      <td>SB</td>\n",
       "    </tr>\n",
       "    <tr>\n",
       "      <th>3</th>\n",
       "      <td>848838</td>\n",
       "      <td>1991-09-30 12:00:00</td>\n",
       "      <td>0</td>\n",
       "      <td>1</td>\n",
       "      <td>EB</td>\n",
       "    </tr>\n",
       "    <tr>\n",
       "      <th>4</th>\n",
       "      <td>848839</td>\n",
       "      <td>1991-09-30 12:00:00</td>\n",
       "      <td>0</td>\n",
       "      <td>1</td>\n",
       "      <td>NB</td>\n",
       "    </tr>\n",
       "  </tbody>\n",
       "</table>\n",
       "</div>"
      ],
      "text/plain": [
       "   row_id                 time  x  y direction\n",
       "0  848835  1991-09-30 12:00:00  0  0        EB\n",
       "1  848836  1991-09-30 12:00:00  0  0        NB\n",
       "2  848837  1991-09-30 12:00:00  0  0        SB\n",
       "3  848838  1991-09-30 12:00:00  0  1        EB\n",
       "4  848839  1991-09-30 12:00:00  0  1        NB"
      ]
     },
     "execution_count": 4,
     "metadata": {},
     "output_type": "execute_result"
    }
   ],
   "source": [
    "test.head()"
   ]
  }
 ],
 "metadata": {
  "kernelspec": {
   "display_name": "conda_python3",
   "language": "python",
   "name": "conda_python3"
  },
  "language_info": {
   "codemirror_mode": {
    "name": "ipython",
    "version": 3
   },
   "file_extension": ".py",
   "mimetype": "text/x-python",
   "name": "python",
   "nbconvert_exporter": "python",
   "pygments_lexer": "ipython3",
   "version": "3.6.13"
  }
 },
 "nbformat": 4,
 "nbformat_minor": 5
}
