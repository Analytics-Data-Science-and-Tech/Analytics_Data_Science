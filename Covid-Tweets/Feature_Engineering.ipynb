{
 "cells": [
  {
   "cell_type": "code",
   "execution_count": 1,
   "id": "01d4e2b4",
   "metadata": {},
   "outputs": [
    {
     "name": "stdout",
     "output_type": "stream",
     "text": [
      "Looking in indexes: https://pypi.org/simple, https://pip.repos.neuron.amazonaws.com\n",
      "Collecting tidytext\n",
      "  Downloading tidytext-0.0.1.tar.gz (4.3 kB)\n",
      "  Preparing metadata (setup.py) ... \u001b[?25ldone\n",
      "\u001b[?25hCollecting textblob\n",
      "  Downloading textblob-0.17.1-py2.py3-none-any.whl (636 kB)\n",
      "\u001b[2K     \u001b[90m━━━━━━━━━━━━━━━━━━━━━━━━━━━━━━━━━━━━━━\u001b[0m \u001b[32m636.8/636.8 KB\u001b[0m \u001b[31m12.8 MB/s\u001b[0m eta \u001b[36m0:00:00\u001b[0m00:01\u001b[0m\n",
      "\u001b[?25hCollecting siuba\n",
      "  Downloading siuba-0.3.0-py3-none-any.whl (142 kB)\n",
      "\u001b[2K     \u001b[90m━━━━━━━━━━━━━━━━━━━━━━━━━━━━━━━━━━━━━━━\u001b[0m \u001b[32m142.1/142.1 KB\u001b[0m \u001b[31m4.5 MB/s\u001b[0m eta \u001b[36m0:00:00\u001b[0m\n",
      "\u001b[?25hRequirement already satisfied: nltk>=3.1 in /home/ec2-user/anaconda3/envs/python3/lib/python3.8/site-packages (from textblob) (3.7)\n",
      "Requirement already satisfied: joblib in /home/ec2-user/anaconda3/envs/python3/lib/python3.8/site-packages (from nltk>=3.1->textblob) (1.1.0)\n",
      "Requirement already satisfied: regex>=2021.8.3 in /home/ec2-user/anaconda3/envs/python3/lib/python3.8/site-packages (from nltk>=3.1->textblob) (2021.11.10)\n",
      "Requirement already satisfied: tqdm in /home/ec2-user/anaconda3/envs/python3/lib/python3.8/site-packages (from nltk>=3.1->textblob) (4.62.3)\n",
      "Requirement already satisfied: click in /home/ec2-user/anaconda3/envs/python3/lib/python3.8/site-packages (from nltk>=3.1->textblob) (8.0.3)\n",
      "Requirement already satisfied: PyYAML>=3.0.0 in /home/ec2-user/anaconda3/envs/python3/lib/python3.8/site-packages (from siuba->tidytext) (5.4.1)\n",
      "Requirement already satisfied: pandas>=0.24.0 in /home/ec2-user/anaconda3/envs/python3/lib/python3.8/site-packages (from siuba->tidytext) (1.3.4)\n",
      "Requirement already satisfied: SQLAlchemy>=1.2.19 in /home/ec2-user/anaconda3/envs/python3/lib/python3.8/site-packages (from siuba->tidytext) (1.4.27)\n",
      "Requirement already satisfied: numpy>=1.12.0 in /home/ec2-user/anaconda3/envs/python3/lib/python3.8/site-packages (from siuba->tidytext) (1.20.3)\n",
      "Requirement already satisfied: python-dateutil>=2.7.3 in /home/ec2-user/anaconda3/envs/python3/lib/python3.8/site-packages (from pandas>=0.24.0->siuba->tidytext) (2.8.2)\n",
      "Requirement already satisfied: pytz>=2017.3 in /home/ec2-user/anaconda3/envs/python3/lib/python3.8/site-packages (from pandas>=0.24.0->siuba->tidytext) (2021.3)\n",
      "Requirement already satisfied: greenlet!=0.4.17 in /home/ec2-user/anaconda3/envs/python3/lib/python3.8/site-packages (from SQLAlchemy>=1.2.19->siuba->tidytext) (1.1.2)\n",
      "Requirement already satisfied: six>=1.5 in /home/ec2-user/anaconda3/envs/python3/lib/python3.8/site-packages (from python-dateutil>=2.7.3->pandas>=0.24.0->siuba->tidytext) (1.16.0)\n",
      "Building wheels for collected packages: tidytext\n",
      "  Building wheel for tidytext (setup.py) ... \u001b[?25ldone\n",
      "\u001b[?25h  Created wheel for tidytext: filename=tidytext-0.0.1-py3-none-any.whl size=3895 sha256=4d3f7999a10a368466d4a8418971de6bb383ea059649979dc10e34b187317b74\n",
      "  Stored in directory: /home/ec2-user/.cache/pip/wheels/07/03/c0/f73eeef462dd66dbca0288a338fcbcdc78e3588937ccc907d8\n",
      "Successfully built tidytext\n",
      "Installing collected packages: textblob, siuba, tidytext\n",
      "Successfully installed siuba-0.3.0 textblob-0.17.1 tidytext-0.0.1\n",
      "\u001b[33mWARNING: You are using pip version 22.0.4; however, version 22.2.2 is available.\n",
      "You should consider upgrading via the '/home/ec2-user/anaconda3/envs/python3/bin/python -m pip install --upgrade pip' command.\u001b[0m\u001b[33m\n",
      "\u001b[0mNote: you may need to restart the kernel to use updated packages.\n"
     ]
    }
   ],
   "source": [
    "pip install tidytext textblob"
   ]
  },
  {
   "cell_type": "code",
   "execution_count": 2,
   "id": "e11e6b47",
   "metadata": {},
   "outputs": [
    {
     "name": "stderr",
     "output_type": "stream",
     "text": [
      "[nltk_data] Downloading package punkt to /home/ec2-user/nltk_data...\n",
      "[nltk_data]   Unzipping tokenizers/punkt.zip.\n",
      "[nltk_data] Downloading package stopwords to\n",
      "[nltk_data]     /home/ec2-user/nltk_data...\n",
      "[nltk_data]   Unzipping corpora/stopwords.zip.\n"
     ]
    },
    {
     "data": {
      "text/plain": [
       "True"
      ]
     },
     "execution_count": 2,
     "metadata": {},
     "output_type": "execute_result"
    }
   ],
   "source": [
    "import nltk\n",
    "\n",
    "nltk.download('punkt')\n",
    "nltk.download('stopwords')"
   ]
  },
  {
   "cell_type": "code",
   "execution_count": 3,
   "id": "960393ea",
   "metadata": {},
   "outputs": [
    {
     "name": "stderr",
     "output_type": "stream",
     "text": [
      "/home/ec2-user/anaconda3/envs/python3/lib/python3.8/site-packages/IPython/core/interactiveshell.py:3524: DtypeWarning: Columns (2,3) have mixed types.Specify dtype option on import or set low_memory=False.\n",
      "  exec(code_obj, self.user_global_ns, self.user_ns)\n"
     ]
    }
   ],
   "source": [
    "import boto3\n",
    "import pandas as pd; pd.set_option('display.max_columns', 100)\n",
    "import numpy as np\n",
    "\n",
    "import matplotlib.pyplot as plt\n",
    "import seaborn as sns\n",
    "\n",
    "import re\n",
    "from textblob import TextBlob\n",
    "from nltk.corpus import stopwords\n",
    "from nltk.tokenize import word_tokenize\n",
    "\n",
    "from tqdm import tqdm\n",
    "\n",
    "from Help_Funs import count_chars, count_words, count_capital_chars, count_capital_words, count_sent, count_unique_words, count_stopwords, count_hashtags \n",
    "\n",
    "s3 = boto3.resource('s3')\n",
    "bucket_name = 'analytics-data-science-competitions'\n",
    "bucket = s3.Bucket(bucket_name)\n",
    "\n",
    "file_key_1 = 'Covid-tweets/training_data.csv'\n",
    "file_key_2 = 'Covid-tweets/test_data.csv'\n",
    "\n",
    "bucket_object_1 = bucket.Object(file_key_1)\n",
    "file_object_1 = bucket_object_1.get()\n",
    "file_content_stream_1 = file_object_1.get('Body')\n",
    "\n",
    "bucket_object_2 = bucket.Object(file_key_2)\n",
    "file_object_2 = bucket_object_2.get()\n",
    "file_content_stream_2 = file_object_2.get('Body')\n",
    "\n",
    "## Reading data-files\n",
    "train = pd.read_csv(file_content_stream_1)\n",
    "test = pd.read_csv(file_content_stream_2)\n",
    "\n",
    "## Feature Engineering \n",
    "train['is_quote'] = train['is_quote'].str.lower()\n",
    "train['is_quote'] = np.where(train['is_quote'] == 'false', 0, 1)\n",
    "train['is_retweet'] = train['is_retweet'].str.lower()\n",
    "train['is_retweet'] = np.where(train['is_retweet'] == 'false', 0, 1)\n",
    "train['Trump_flag'] = np.where(train['reply_to_screen_name'] == 'realDonaldTrump', 1, 0)\n",
    "train['jfrketich_flag'] = np.where(train['reply_to_screen_name'] == 'jfrketich', 1, 0)\n",
    "\n",
    "\n",
    "test['is_quote'] = np.where(test['is_quote'] == False, 0, 1)\n",
    "test['is_retweet'] = np.where(test['is_retweet'] == False, 0, 1)\n",
    "test['Trump_flag'] = np.where(test['reply_to_screen_name'] == 'realDonaldTrump', 1, 0)\n",
    "test['jfrketich_flag'] = np.where(test['reply_to_screen_name'] == 'jfrketich', 1, 0)"
   ]
  },
  {
   "cell_type": "code",
   "execution_count": 4,
   "id": "4398d527",
   "metadata": {},
   "outputs": [],
   "source": [
    "## Defining stopwords\n",
    "stop_words = set(stopwords.words('english'))\n",
    "others = set([\"1\", \"2\", \"it'll\", \"ill\", \"=\", '+', \"'s'\", '\"'])\n",
    "stop_words = stop_words.union(others)\n",
    "\n",
    "def clean_tweet(tweet):\n",
    "    if type(tweet) == np.float:\n",
    "        return \"\"\n",
    "    temp = tweet.lower()\n",
    "    temp = re.sub(\"'\", \"\", temp) # to avoid removing contractions in english\n",
    "    temp = re.sub(\"@[A-Za-z0-9_]+\",\"\", temp)\n",
    "    temp = re.sub(\"#[A-Za-z0-9_]+\",\"\", temp)\n",
    "    temp = re.sub(r'http\\S+', '', temp)\n",
    "    temp = re.sub('[()!?]', ' ', temp)\n",
    "    temp = re.sub('\\[.*?\\]',' ', temp)\n",
    "    temp = re.sub(\"[^a-z0-9]\",\" \", temp)\n",
    "    temp = temp.split()\n",
    "    temp = [w for w in temp if not w in stop_words]\n",
    "    temp = \" \".join(word for word in temp)\n",
    "    return temp"
   ]
  },
  {
   "cell_type": "code",
   "execution_count": 5,
   "id": "18c93527",
   "metadata": {},
   "outputs": [
    {
     "name": "stderr",
     "output_type": "stream",
     "text": [
      "  0%|          | 0/240000 [00:00<?, ?it/s]/tmp/ipykernel_11002/4248643825.py:5: SettingWithCopyWarning: \n",
      "A value is trying to be set on a copy of a slice from a DataFrame\n",
      "\n",
      "See the caveats in the documentation: https://pandas.pydata.org/pandas-docs/stable/user_guide/indexing.html#returning-a-view-versus-a-copy\n",
      "  train['clean_tweet'][i] =  clean_tweet(train['text'][i])\n",
      "/home/ec2-user/anaconda3/envs/python3/lib/python3.8/site-packages/pandas/core/indexing.py:1732: SettingWithCopyWarning: \n",
      "A value is trying to be set on a copy of a slice from a DataFrame\n",
      "\n",
      "See the caveats in the documentation: https://pandas.pydata.org/pandas-docs/stable/user_guide/indexing.html#returning-a-view-versus-a-copy\n",
      "  self._setitem_single_block(indexer, value, name)\n",
      "100%|██████████| 240000/240000 [00:09<00:00, 24610.87it/s]\n"
     ]
    }
   ],
   "source": [
    "train['clean_tweet'] = np.nan\n",
    "\n",
    "for i in tqdm(range(0, test.shape[0])):\n",
    "    \n",
    "    train['clean_tweet'][i] =  clean_tweet(train['text'][i])"
   ]
  },
  {
   "cell_type": "code",
   "execution_count": 19,
   "id": "b3d4a09f",
   "metadata": {},
   "outputs": [
    {
     "name": "stderr",
     "output_type": "stream",
     "text": [
      "  0%|          | 0/60000 [00:00<?, ?it/s]/tmp/ipykernel_11002/1846826793.py:5: SettingWithCopyWarning: \n",
      "A value is trying to be set on a copy of a slice from a DataFrame\n",
      "\n",
      "See the caveats in the documentation: https://pandas.pydata.org/pandas-docs/stable/user_guide/indexing.html#returning-a-view-versus-a-copy\n",
      "  test['clean_tweet'][i] =  clean_tweet(test['text'][i])\n",
      "/home/ec2-user/anaconda3/envs/python3/lib/python3.8/site-packages/pandas/core/indexing.py:1732: SettingWithCopyWarning: \n",
      "A value is trying to be set on a copy of a slice from a DataFrame\n",
      "\n",
      "See the caveats in the documentation: https://pandas.pydata.org/pandas-docs/stable/user_guide/indexing.html#returning-a-view-versus-a-copy\n",
      "  self._setitem_single_block(indexer, value, name)\n",
      "100%|██████████| 60000/60000 [00:02<00:00, 22936.13it/s]\n"
     ]
    }
   ],
   "source": [
    "test['clean_tweet'] = np.nan\n",
    "\n",
    "for i in tqdm(range(0, test.shape[0])):\n",
    "    \n",
    "    test['clean_tweet'][i] =  clean_tweet(test['text'][i])"
   ]
  },
  {
   "cell_type": "code",
   "execution_count": 20,
   "id": "d2366ba3",
   "metadata": {},
   "outputs": [],
   "source": [
    "train['sentiment'] = train['clean_tweet'].apply(lambda x: TextBlob(x).sentiment.polarity)\n",
    "train['subjectivity'] = train['clean_tweet'].apply(lambda x: TextBlob(x).sentiment.subjectivity)\n",
    "\n",
    "test['sentiment'] = test['clean_tweet'].apply(lambda x: TextBlob(x).sentiment.polarity)\n",
    "test['subjectivity'] = test['clean_tweet'].apply(lambda x: TextBlob(x).sentiment.subjectivity)"
   ]
  },
  {
   "cell_type": "code",
   "execution_count": 21,
   "id": "f4439bad",
   "metadata": {},
   "outputs": [],
   "source": [
    "train['sentiment_label'] = np.where(train['sentiment'] < 0, 'negative', \n",
    "                                    np.where(train['sentiment'] == 0, 'neutral', 'positive'))\n",
    "\n",
    "test['sentiment_label'] = np.where(test['sentiment'] < 0, 'negative', \n",
    "                                   np.where(test['sentiment'] == 0, 'neutral', 'positive'))"
   ]
  },
  {
   "cell_type": "code",
   "execution_count": 22,
   "id": "ca6dac8c",
   "metadata": {},
   "outputs": [
    {
     "data": {
      "text/html": [
       "<div>\n",
       "<style scoped>\n",
       "    .dataframe tbody tr th:only-of-type {\n",
       "        vertical-align: middle;\n",
       "    }\n",
       "\n",
       "    .dataframe tbody tr th {\n",
       "        vertical-align: top;\n",
       "    }\n",
       "\n",
       "    .dataframe thead th {\n",
       "        text-align: right;\n",
       "    }\n",
       "</style>\n",
       "<table border=\"1\" class=\"dataframe\">\n",
       "  <thead>\n",
       "    <tr style=\"text-align: right;\">\n",
       "      <th></th>\n",
       "      <th>text</th>\n",
       "      <th>reply_to_screen_name</th>\n",
       "      <th>is_quote</th>\n",
       "      <th>is_retweet</th>\n",
       "      <th>hashtags</th>\n",
       "      <th>country</th>\n",
       "      <th>Trump_flag</th>\n",
       "      <th>jfrketich_flag</th>\n",
       "      <th>clean_tweet</th>\n",
       "      <th>sentiment</th>\n",
       "      <th>subjectivity</th>\n",
       "      <th>sentiment_label</th>\n",
       "    </tr>\n",
       "  </thead>\n",
       "  <tbody>\n",
       "    <tr>\n",
       "      <th>0</th>\n",
       "      <td>Remember the #WuhanCoronaVirus? The pandemic w...</td>\n",
       "      <td>NaN</td>\n",
       "      <td>1</td>\n",
       "      <td>1</td>\n",
       "      <td>WuhanCoronaVirus KillerCuomo</td>\n",
       "      <td>us</td>\n",
       "      <td>0</td>\n",
       "      <td>0</td>\n",
       "      <td>remember pandemic great percentage deaths resu...</td>\n",
       "      <td>0.20000</td>\n",
       "      <td>0.250</td>\n",
       "      <td>positive</td>\n",
       "    </tr>\n",
       "    <tr>\n",
       "      <th>1</th>\n",
       "      <td>My sources @WhiteHouse say 2 tactics will be u...</td>\n",
       "      <td>NaN</td>\n",
       "      <td>1</td>\n",
       "      <td>1</td>\n",
       "      <td>Trump</td>\n",
       "      <td>us</td>\n",
       "      <td>0</td>\n",
       "      <td>0</td>\n",
       "      <td>sources say tactics used get america open amp ...</td>\n",
       "      <td>0.00000</td>\n",
       "      <td>0.500</td>\n",
       "      <td>neutral</td>\n",
       "    </tr>\n",
       "    <tr>\n",
       "      <th>2</th>\n",
       "      <td>I'll venture a wild guess: If you were running...</td>\n",
       "      <td>NaN</td>\n",
       "      <td>1</td>\n",
       "      <td>1</td>\n",
       "      <td>COVID19</td>\n",
       "      <td>us</td>\n",
       "      <td>0</td>\n",
       "      <td>0</td>\n",
       "      <td>venture wild guess running usa crisis youd wan...</td>\n",
       "      <td>0.22500</td>\n",
       "      <td>0.475</td>\n",
       "      <td>positive</td>\n",
       "    </tr>\n",
       "    <tr>\n",
       "      <th>3</th>\n",
       "      <td>#Pakistan (#GreenStimulus = #Nature protection...</td>\n",
       "      <td>NaN</td>\n",
       "      <td>1</td>\n",
       "      <td>1</td>\n",
       "      <td>Pakistan GreenStimulus Nature Green</td>\n",
       "      <td>us</td>\n",
       "      <td>0</td>\n",
       "      <td>0</td>\n",
       "      <td>protection jobs community youth within recentl...</td>\n",
       "      <td>0.03125</td>\n",
       "      <td>0.375</td>\n",
       "      <td>positive</td>\n",
       "    </tr>\n",
       "    <tr>\n",
       "      <th>4</th>\n",
       "      <td>🇺🇸 Pandémie de #coronavirus: 30 pasteurs améri...</td>\n",
       "      <td>NaN</td>\n",
       "      <td>1</td>\n",
       "      <td>1</td>\n",
       "      <td>coronavirus COVID__19 COVIDー19</td>\n",
       "      <td>us</td>\n",
       "      <td>0</td>\n",
       "      <td>0</td>\n",
       "      <td>pand mie de 30 pasteurs ricains qui avaient mi...</td>\n",
       "      <td>0.00000</td>\n",
       "      <td>0.125</td>\n",
       "      <td>neutral</td>\n",
       "    </tr>\n",
       "  </tbody>\n",
       "</table>\n",
       "</div>"
      ],
      "text/plain": [
       "                                                text reply_to_screen_name  \\\n",
       "0  Remember the #WuhanCoronaVirus? The pandemic w...                  NaN   \n",
       "1  My sources @WhiteHouse say 2 tactics will be u...                  NaN   \n",
       "2  I'll venture a wild guess: If you were running...                  NaN   \n",
       "3  #Pakistan (#GreenStimulus = #Nature protection...                  NaN   \n",
       "4  🇺🇸 Pandémie de #coronavirus: 30 pasteurs améri...                  NaN   \n",
       "\n",
       "   is_quote  is_retweet                             hashtags country  \\\n",
       "0         1           1         WuhanCoronaVirus KillerCuomo      us   \n",
       "1         1           1                                Trump      us   \n",
       "2         1           1                              COVID19      us   \n",
       "3         1           1  Pakistan GreenStimulus Nature Green      us   \n",
       "4         1           1       coronavirus COVID__19 COVIDー19      us   \n",
       "\n",
       "   Trump_flag  jfrketich_flag  \\\n",
       "0           0               0   \n",
       "1           0               0   \n",
       "2           0               0   \n",
       "3           0               0   \n",
       "4           0               0   \n",
       "\n",
       "                                         clean_tweet  sentiment  subjectivity  \\\n",
       "0  remember pandemic great percentage deaths resu...    0.20000         0.250   \n",
       "1  sources say tactics used get america open amp ...    0.00000         0.500   \n",
       "2  venture wild guess running usa crisis youd wan...    0.22500         0.475   \n",
       "3  protection jobs community youth within recentl...    0.03125         0.375   \n",
       "4  pand mie de 30 pasteurs ricains qui avaient mi...    0.00000         0.125   \n",
       "\n",
       "  sentiment_label  \n",
       "0        positive  \n",
       "1         neutral  \n",
       "2        positive  \n",
       "3        positive  \n",
       "4         neutral  "
      ]
     },
     "execution_count": 22,
     "metadata": {},
     "output_type": "execute_result"
    }
   ],
   "source": [
    "train.head()"
   ]
  },
  {
   "cell_type": "code",
   "execution_count": 23,
   "id": "ab885cac",
   "metadata": {},
   "outputs": [
    {
     "data": {
      "text/html": [
       "<div>\n",
       "<style scoped>\n",
       "    .dataframe tbody tr th:only-of-type {\n",
       "        vertical-align: middle;\n",
       "    }\n",
       "\n",
       "    .dataframe tbody tr th {\n",
       "        vertical-align: top;\n",
       "    }\n",
       "\n",
       "    .dataframe thead th {\n",
       "        text-align: right;\n",
       "    }\n",
       "</style>\n",
       "<table border=\"1\" class=\"dataframe\">\n",
       "  <thead>\n",
       "    <tr style=\"text-align: right;\">\n",
       "      <th>sentiment_label</th>\n",
       "      <th>negative</th>\n",
       "      <th>neutral</th>\n",
       "      <th>positive</th>\n",
       "    </tr>\n",
       "    <tr>\n",
       "      <th>country</th>\n",
       "      <th></th>\n",
       "      <th></th>\n",
       "      <th></th>\n",
       "    </tr>\n",
       "  </thead>\n",
       "  <tbody>\n",
       "    <tr>\n",
       "      <th>australia</th>\n",
       "      <td>7801</td>\n",
       "      <td>13675</td>\n",
       "      <td>18524</td>\n",
       "    </tr>\n",
       "    <tr>\n",
       "      <th>canada</th>\n",
       "      <td>7105</td>\n",
       "      <td>14325</td>\n",
       "      <td>18570</td>\n",
       "    </tr>\n",
       "    <tr>\n",
       "      <th>ireland</th>\n",
       "      <td>7094</td>\n",
       "      <td>13335</td>\n",
       "      <td>19571</td>\n",
       "    </tr>\n",
       "    <tr>\n",
       "      <th>new_zealand</th>\n",
       "      <td>7955</td>\n",
       "      <td>12669</td>\n",
       "      <td>19376</td>\n",
       "    </tr>\n",
       "    <tr>\n",
       "      <th>uk</th>\n",
       "      <td>7458</td>\n",
       "      <td>13753</td>\n",
       "      <td>18789</td>\n",
       "    </tr>\n",
       "    <tr>\n",
       "      <th>us</th>\n",
       "      <td>8604</td>\n",
       "      <td>14221</td>\n",
       "      <td>17175</td>\n",
       "    </tr>\n",
       "  </tbody>\n",
       "</table>\n",
       "</div>"
      ],
      "text/plain": [
       "sentiment_label  negative  neutral  positive\n",
       "country                                     \n",
       "australia            7801    13675     18524\n",
       "canada               7105    14325     18570\n",
       "ireland              7094    13335     19571\n",
       "new_zealand          7955    12669     19376\n",
       "uk                   7458    13753     18789\n",
       "us                   8604    14221     17175"
      ]
     },
     "execution_count": 23,
     "metadata": {},
     "output_type": "execute_result"
    }
   ],
   "source": [
    "pd.crosstab(train['country'], train['sentiment_label'])"
   ]
  },
  {
   "cell_type": "code",
   "execution_count": 24,
   "id": "065f7163",
   "metadata": {},
   "outputs": [
    {
     "data": {
      "text/plain": [
       "country\n",
       "australia      0.349610\n",
       "canada         0.341311\n",
       "ireland        0.356503\n",
       "new_zealand    0.360390\n",
       "uk             0.350597\n",
       "us             0.339600\n",
       "Name: subjectivity, dtype: float64"
      ]
     },
     "execution_count": 24,
     "metadata": {},
     "output_type": "execute_result"
    }
   ],
   "source": [
    "train.groupby('country')['subjectivity'].mean()"
   ]
  },
  {
   "cell_type": "code",
   "execution_count": 26,
   "id": "09b425ab",
   "metadata": {},
   "outputs": [
    {
     "data": {
      "text/html": [
       "<div>\n",
       "<style scoped>\n",
       "    .dataframe tbody tr th:only-of-type {\n",
       "        vertical-align: middle;\n",
       "    }\n",
       "\n",
       "    .dataframe tbody tr th {\n",
       "        vertical-align: top;\n",
       "    }\n",
       "\n",
       "    .dataframe thead th {\n",
       "        text-align: right;\n",
       "    }\n",
       "</style>\n",
       "<table border=\"1\" class=\"dataframe\">\n",
       "  <thead>\n",
       "    <tr style=\"text-align: right;\">\n",
       "      <th></th>\n",
       "      <th>text</th>\n",
       "      <th>reply_to_screen_name</th>\n",
       "      <th>is_quote</th>\n",
       "      <th>is_retweet</th>\n",
       "      <th>hashtags</th>\n",
       "      <th>Id</th>\n",
       "      <th>Trump_flag</th>\n",
       "      <th>jfrketich_flag</th>\n",
       "      <th>clean_tweet</th>\n",
       "      <th>sentiment</th>\n",
       "      <th>subjectivity</th>\n",
       "      <th>sentiment_label</th>\n",
       "    </tr>\n",
       "  </thead>\n",
       "  <tbody>\n",
       "    <tr>\n",
       "      <th>0</th>\n",
       "      <td>Ethical investing is not optional anymore, say...</td>\n",
       "      <td>NaN</td>\n",
       "      <td>0</td>\n",
       "      <td>0</td>\n",
       "      <td>covid19</td>\n",
       "      <td>0</td>\n",
       "      <td>0</td>\n",
       "      <td>0</td>\n",
       "      <td>ethical investing optional anymore says sris j...</td>\n",
       "      <td>0.150000</td>\n",
       "      <td>0.550</td>\n",
       "      <td>positive</td>\n",
       "    </tr>\n",
       "    <tr>\n",
       "      <th>1</th>\n",
       "      <td>#COVID19 | Suite à la conférence de presse du ...</td>\n",
       "      <td>NaN</td>\n",
       "      <td>0</td>\n",
       "      <td>1</td>\n",
       "      <td>COVID19</td>\n",
       "      <td>1</td>\n",
       "      <td>0</td>\n",
       "      <td>0</td>\n",
       "      <td>suite la conf rence de presse du premier minis...</td>\n",
       "      <td>0.000000</td>\n",
       "      <td>0.000</td>\n",
       "      <td>neutral</td>\n",
       "    </tr>\n",
       "    <tr>\n",
       "      <th>2</th>\n",
       "      <td>Yesterday, I had a live discussion with @Steve...</td>\n",
       "      <td>NaN</td>\n",
       "      <td>0</td>\n",
       "      <td>1</td>\n",
       "      <td>COVID19</td>\n",
       "      <td>2</td>\n",
       "      <td>0</td>\n",
       "      <td>0</td>\n",
       "      <td>yesterday live discussion assured us scientist...</td>\n",
       "      <td>0.412121</td>\n",
       "      <td>0.600</td>\n",
       "      <td>positive</td>\n",
       "    </tr>\n",
       "    <tr>\n",
       "      <th>3</th>\n",
       "      <td>Nepal - #Coronavirus cases up 24% in a week. D...</td>\n",
       "      <td>NaN</td>\n",
       "      <td>0</td>\n",
       "      <td>1</td>\n",
       "      <td>Coronavirus</td>\n",
       "      <td>3</td>\n",
       "      <td>0</td>\n",
       "      <td>0</td>\n",
       "      <td>nepal cases 24 week deaths 31 totals 53 120 ca...</td>\n",
       "      <td>0.000000</td>\n",
       "      <td>0.000</td>\n",
       "      <td>neutral</td>\n",
       "    </tr>\n",
       "    <tr>\n",
       "      <th>4</th>\n",
       "      <td>American economy jumped up a %  big news story...</td>\n",
       "      <td>NaN</td>\n",
       "      <td>0</td>\n",
       "      <td>0</td>\n",
       "      <td>LysolAndCloroxSales</td>\n",
       "      <td>4</td>\n",
       "      <td>0</td>\n",
       "      <td>0</td>\n",
       "      <td>american economy jumped big news story whole d...</td>\n",
       "      <td>0.000000</td>\n",
       "      <td>0.325</td>\n",
       "      <td>neutral</td>\n",
       "    </tr>\n",
       "  </tbody>\n",
       "</table>\n",
       "</div>"
      ],
      "text/plain": [
       "                                                text reply_to_screen_name  \\\n",
       "0  Ethical investing is not optional anymore, say...                  NaN   \n",
       "1  #COVID19 | Suite à la conférence de presse du ...                  NaN   \n",
       "2  Yesterday, I had a live discussion with @Steve...                  NaN   \n",
       "3  Nepal - #Coronavirus cases up 24% in a week. D...                  NaN   \n",
       "4  American economy jumped up a %  big news story...                  NaN   \n",
       "\n",
       "   is_quote  is_retweet             hashtags  Id  Trump_flag  jfrketich_flag  \\\n",
       "0         0           0              covid19   0           0               0   \n",
       "1         0           1              COVID19   1           0               0   \n",
       "2         0           1              COVID19   2           0               0   \n",
       "3         0           1          Coronavirus   3           0               0   \n",
       "4         0           0  LysolAndCloroxSales   4           0               0   \n",
       "\n",
       "                                         clean_tweet  sentiment  subjectivity  \\\n",
       "0  ethical investing optional anymore says sris j...   0.150000         0.550   \n",
       "1  suite la conf rence de presse du premier minis...   0.000000         0.000   \n",
       "2  yesterday live discussion assured us scientist...   0.412121         0.600   \n",
       "3  nepal cases 24 week deaths 31 totals 53 120 ca...   0.000000         0.000   \n",
       "4  american economy jumped big news story whole d...   0.000000         0.325   \n",
       "\n",
       "  sentiment_label  \n",
       "0        positive  \n",
       "1         neutral  \n",
       "2        positive  \n",
       "3         neutral  \n",
       "4         neutral  "
      ]
     },
     "execution_count": 26,
     "metadata": {},
     "output_type": "execute_result"
    }
   ],
   "source": [
    "test.head()"
   ]
  },
  {
   "cell_type": "code",
   "execution_count": 27,
   "id": "cec1521a",
   "metadata": {},
   "outputs": [],
   "source": [
    "train.to_csv('train_new_1.csv', index = False)\n",
    "test.to_csv('test_new_1.csv', index = False)"
   ]
  },
  {
   "cell_type": "code",
   "execution_count": 25,
   "id": "da845ed2",
   "metadata": {},
   "outputs": [
    {
     "data": {
      "text/html": [
       "<div>\n",
       "<style scoped>\n",
       "    .dataframe tbody tr th:only-of-type {\n",
       "        vertical-align: middle;\n",
       "    }\n",
       "\n",
       "    .dataframe tbody tr th {\n",
       "        vertical-align: top;\n",
       "    }\n",
       "\n",
       "    .dataframe thead th {\n",
       "        text-align: right;\n",
       "    }\n",
       "</style>\n",
       "<table border=\"1\" class=\"dataframe\">\n",
       "  <thead>\n",
       "    <tr style=\"text-align: right;\">\n",
       "      <th></th>\n",
       "      <th>negative</th>\n",
       "      <th>neutral</th>\n",
       "      <th>positive</th>\n",
       "    </tr>\n",
       "  </thead>\n",
       "  <tbody>\n",
       "    <tr>\n",
       "      <th>0</th>\n",
       "      <td>0</td>\n",
       "      <td>0</td>\n",
       "      <td>1</td>\n",
       "    </tr>\n",
       "    <tr>\n",
       "      <th>1</th>\n",
       "      <td>0</td>\n",
       "      <td>1</td>\n",
       "      <td>0</td>\n",
       "    </tr>\n",
       "    <tr>\n",
       "      <th>2</th>\n",
       "      <td>0</td>\n",
       "      <td>0</td>\n",
       "      <td>1</td>\n",
       "    </tr>\n",
       "    <tr>\n",
       "      <th>3</th>\n",
       "      <td>0</td>\n",
       "      <td>0</td>\n",
       "      <td>1</td>\n",
       "    </tr>\n",
       "    <tr>\n",
       "      <th>4</th>\n",
       "      <td>0</td>\n",
       "      <td>1</td>\n",
       "      <td>0</td>\n",
       "    </tr>\n",
       "    <tr>\n",
       "      <th>...</th>\n",
       "      <td>...</td>\n",
       "      <td>...</td>\n",
       "      <td>...</td>\n",
       "    </tr>\n",
       "    <tr>\n",
       "      <th>239995</th>\n",
       "      <td>0</td>\n",
       "      <td>1</td>\n",
       "      <td>0</td>\n",
       "    </tr>\n",
       "    <tr>\n",
       "      <th>239996</th>\n",
       "      <td>0</td>\n",
       "      <td>0</td>\n",
       "      <td>1</td>\n",
       "    </tr>\n",
       "    <tr>\n",
       "      <th>239997</th>\n",
       "      <td>0</td>\n",
       "      <td>0</td>\n",
       "      <td>1</td>\n",
       "    </tr>\n",
       "    <tr>\n",
       "      <th>239998</th>\n",
       "      <td>1</td>\n",
       "      <td>0</td>\n",
       "      <td>0</td>\n",
       "    </tr>\n",
       "    <tr>\n",
       "      <th>239999</th>\n",
       "      <td>0</td>\n",
       "      <td>0</td>\n",
       "      <td>1</td>\n",
       "    </tr>\n",
       "  </tbody>\n",
       "</table>\n",
       "<p>240000 rows × 3 columns</p>\n",
       "</div>"
      ],
      "text/plain": [
       "        negative  neutral  positive\n",
       "0              0        0         1\n",
       "1              0        1         0\n",
       "2              0        0         1\n",
       "3              0        0         1\n",
       "4              0        1         0\n",
       "...          ...      ...       ...\n",
       "239995         0        1         0\n",
       "239996         0        0         1\n",
       "239997         0        0         1\n",
       "239998         1        0         0\n",
       "239999         0        0         1\n",
       "\n",
       "[240000 rows x 3 columns]"
      ]
     },
     "execution_count": 25,
     "metadata": {},
     "output_type": "execute_result"
    }
   ],
   "source": [
    "pd.get_dummies(train['sentiment_label'])"
   ]
  },
  {
   "cell_type": "code",
   "execution_count": 13,
   "id": "be39a92e",
   "metadata": {},
   "outputs": [
    {
     "data": {
      "image/png": "[encoded data removed]",
      "text/plain": [
       "<Figure size 432x288 with 1 Axes>"
      ]
     },
     "metadata": {
      "needs_background": "light"
     },
     "output_type": "display_data"
    }
   ],
   "source": [
    "sns.histplot(x = 'subjectivity', data = train[train['country'] == 'us'])\n",
    "plt.show()"
   ]
  },
  {
   "cell_type": "code",
   "execution_count": 14,
   "id": "0632fc56",
   "metadata": {},
   "outputs": [
    {
     "data": {
      "image/png": "[encoded data removed]",
      "text/plain": [
       "<Figure size 432x288 with 1 Axes>"
      ]
     },
     "metadata": {
      "needs_background": "light"
     },
     "output_type": "display_data"
    }
   ],
   "source": [
    "sns.histplot(x = 'subjectivity', data = train[train['country'] == 'uk'])\n",
    "plt.show()"
   ]
  },
  {
   "cell_type": "code",
   "execution_count": 15,
   "id": "49e8b9a3",
   "metadata": {},
   "outputs": [
    {
     "data": {
      "image/png": "[encoded data removed]",
      "text/plain": [
       "<Figure size 432x288 with 1 Axes>"
      ]
     },
     "metadata": {
      "needs_background": "light"
     },
     "output_type": "display_data"
    }
   ],
   "source": [
    "sns.histplot(x = 'subjectivity', data = train[train['country'] == 'canada'])\n",
    "plt.show()"
   ]
  },
  {
   "cell_type": "code",
   "execution_count": 16,
   "id": "a06172ce",
   "metadata": {},
   "outputs": [
    {
     "data": {
      "image/png": "[encoded data removed]",
      "text/plain": [
       "<Figure size 432x288 with 1 Axes>"
      ]
     },
     "metadata": {
      "needs_background": "light"
     },
     "output_type": "display_data"
    }
   ],
   "source": [
    "sns.histplot(x = 'subjectivity', data = train[train['country'] == 'ireland'])\n",
    "plt.show()"
   ]
  },
  {
   "cell_type": "code",
   "execution_count": 17,
   "id": "571c204e",
   "metadata": {},
   "outputs": [
    {
     "data": {
      "image/png": "[encoded data removed]",
      "text/plain": [
       "<Figure size 432x288 with 1 Axes>"
      ]
     },
     "metadata": {
      "needs_background": "light"
     },
     "output_type": "display_data"
    }
   ],
   "source": [
    "sns.histplot(x = 'subjectivity', data = train[train['country'] == 'new_zealand'])\n",
    "plt.show()"
   ]
  },
  {
   "cell_type": "code",
   "execution_count": 18,
   "id": "48076b60",
   "metadata": {},
   "outputs": [
    {
     "data": {
      "image/png": "[encoded data removed]",
      "text/plain": [
       "<Figure size 432x288 with 1 Axes>"
      ]
     },
     "metadata": {
      "needs_background": "light"
     },
     "output_type": "display_data"
    }
   ],
   "source": [
    "sns.histplot(x = 'subjectivity', data = train[train['country'] == 'australia'])\n",
    "plt.show()"
   ]
  }
 ],
 "metadata": {
  "kernelspec": {
   "display_name": "conda_python3",
   "language": "python",
   "name": "conda_python3"
  },
  "language_info": {
   "codemirror_mode": {
    "name": "ipython",
    "version": 3
   },
   "file_extension": ".py",
   "mimetype": "text/x-python",
   "name": "python",
   "nbconvert_exporter": "python",
   "pygments_lexer": "ipython3",
   "version": "3.8.12"
  }
 },
 "nbformat": 4,
 "nbformat_minor": 5
}
